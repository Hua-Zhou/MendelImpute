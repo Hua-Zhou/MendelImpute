{
 "cells": [
  {
   "cell_type": "markdown",
   "metadata": {},
   "source": [
    "# Preparing Target Data\n",
    "\n",
    "MendelImpute accepts [VCF](https://samtools.github.io/hts-specs/VCFv4.3.pdf) and [PLINK](https://www.cog-genomics.org/plink2/formats#bed) files. Please make sure the following are true:\n",
    "\n",
    "+ VCF file ends in `.vcf` or `.vcf.gz` (phased or unphased and may contain missing data)\n",
    "+ For PLINK files, all trios (`.bim`, `.bed`, `.fam`) are present in the same directory\n",
    "+ Each file contains only 1 (non-sex) chromosome\n",
    "+ Every record (SNP) is present in the reference panel. If this is untrue, you must [match markers in 2 VCF files](https://openmendel.github.io/VCFTools.jl/dev/man/conformgt/). \n",
    "+ Given a SNP, it's CHROM, POS, REF, and  ALT fields are the same in target data and reference panel. MendelImpute use SNP position internally to align markers. Note this is not explicitly checked. \n",
    "+ The position of every SNP is unique: so multiallelic markers should be excluded instead of split (this requirement will eventually be lifted). "
   ]
  },
  {
   "cell_type": "markdown",
   "metadata": {},
   "source": [
    "!!! note\n",
    "\n",
    "    We recommend **not** doing pre-imputation quality control (i.e. do not remove SNPs out of Hardy-Weinburg equilibrium or SNPs with low minor allele frequencies...etc). Instead, reserve quality control to post-imputation. This is because every new set of typed SNPs requires a compressed reference haplotype panel that matches the set of typed SNPs. "
   ]
  },
  {
   "cell_type": "markdown",
   "metadata": {},
   "source": [
    "# Preparing Reference Haplotype Panel\n",
    "\n",
    "Reference samples must all be phased and contain no missing genotypes. Reference VCF panels must be compressed into `.jlso` format first using the [compress_haplotypes](https://OpenMendel.github.io/MendelImpute.jl/dev/man/api/#MendelImpute.compress_haplotypes) function. One must specify `d`: the maximum number of unique haplotypes per window. Larger `d` slows down computation, but increases accuracy. For most purposes, we recommend $d \\approx 1000$. \n",
    "\n",
    "# Detailed Example\n",
    "\n",
    "We use the [1000 genomes chromosome 22](http://bochet.gcc.biostat.washington.edu/beagle/1000_Genomes_phase3_v5a/b37.vcf/) as an example. As show below, this data contains 424147 SNPs and 2504 samples."
   ]
  },
  {
   "cell_type": "code",
   "execution_count": 1,
   "metadata": {
    "collapsed": false
   },
   "outputs": [
    {
     "name": "stderr",
     "output_type": "stream",
     "text": [
      "┌ Info: Precompiling MendelImpute [e47305d1-6a61-5370-bc5d-77554d143183]\n",
      "└ @ Base loading.jl:1278\n"
     ]
    },
    {
     "name": "stdout",
     "output_type": "stream",
     "text": [
      "nrecords(data) = 424147\n",
      "nsamples(data) = 2504\n"
     ]
    }
   ],
   "source": [
    "# load necessary packages in Julia\n",
    "using VCFTools\n",
    "using MendelImpute\n",
    "using VCFTools\n",
    "using Random\n",
    "\n",
    "# compute simple summary statistics\n",
    "data = \"chr22.1kg.phase3.v5a.vcf.gz\"\n",
    "@show nrecords(data)\n",
    "@show nsamples(data);"
   ]
  },
  {
   "cell_type": "markdown",
   "metadata": {},
   "source": [
    "More summary statistics can be computed using the [gtstats](https://openmendel.github.io/VCFTools.jl/dev/man/api/#VCFTools.gtstats) function in `VCFTools.jl`, with example usage [here](https://openmendel.github.io/VCFTools.jl/dev/man/summaryinfo/#Summary-statistics).\n",
    "\n",
    "## Step 1: generating realistic reference and target data \n",
    "\n",
    "First we generate a reference panel and imputation target based on the 1000 genomes data. More specifically, we take the 1000 genomes chromosome 22 and divide it so that \n",
    "+ 100 samples are randomly selected as imputation targets, where\n",
    "    - 100k SNPs with minor allele frequency $\\ge 0.05$ are randomly selected to be the typed positions. \n",
    "    - 0.1% of typed SNPs are masked (mimicking GWAS errors)\n",
    "    - Genotypes are unphased\n",
    "+ The remaining 2404 samples are used as reference haplotypes. \n",
    "+ SNPs with duplicate positions are filtered out.\n",
    "+ All multiallelic markers are filtered out.\n",
    "\n",
    "**Instruction: execute the code below in a Julia session or a Jupyter notebook:**"
   ]
  },
  {
   "cell_type": "code",
   "execution_count": 1,
   "metadata": {
    "collapsed": false
   },
   "outputs": [
    {
     "name": "stderr",
     "output_type": "stream",
     "text": [
      "┌ Info: Precompiling MendelImpute [e47305d1-6a61-5370-bc5d-77554d143183]\n",
      "└ @ Base loading.jl:1278\n",
      "\u001b[32mfinding duplicate markers...100%|███████████████████████| Time: 0:03:56\u001b[39m\n",
      "\u001b[32mfiltering vcf file...100%|██████████████████████████████| Time: 0:04:46\u001b[39m\n"
     ]
    },
    {
     "name": "stdout",
     "output_type": "stream",
     "text": [
      "292.131527 seconds (3.20 G allocations: 301.789 GiB, 7.89% gc time)\n"
     ]
    },
    {
     "name": "stderr",
     "output_type": "stream",
     "text": [
      "\u001b[32mProgress: 100%|█████████████████████████████████████████| Time: 0:04:02\u001b[39m\n",
      "\u001b[32mfiltering vcf file...100%|██████████████████████████████| Time: 0:03:59\u001b[39m\n"
     ]
    },
    {
     "name": "stdout",
     "output_type": "stream",
     "text": [
      "244.425505 seconds (3.18 G allocations: 301.694 GiB, 9.69% gc time)\n",
      "  1.935526 seconds (20.00 M allocations: 1.491 GiB, 6.33% gc time)\n"
     ]
    },
    {
     "name": "stderr",
     "output_type": "stream",
     "text": [
      "\u001b[32mfiltering vcf file...100%|██████████████████████████████| Time: 0:04:10\u001b[39m\n"
     ]
    },
    {
     "name": "stdout",
     "output_type": "stream",
     "text": [
      "255.505399 seconds (3.27 G allocations: 317.749 GiB, 9.95% gc time)\n"
     ]
    },
    {
     "name": "stderr",
     "output_type": "stream",
     "text": [
      "\u001b[32mfiltering vcf file...100%|██████████████████████████████| Time: 0:07:27\u001b[39m\n"
     ]
    },
    {
     "name": "stdout",
     "output_type": "stream",
     "text": [
      "453.383147 seconds (6.16 G allocations: 566.535 GiB, 10.16% gc time)\n"
     ]
    }
   ],
   "source": [
    "# set random seed for reproducibility\n",
    "Random.seed!(2020)\n",
    "\n",
    "# download example data \n",
    "data = \"chr22.1kg.phase3.v5a.vcf.gz\"\n",
    "if !isfile(data) \n",
    "    download(\"http://bochet.gcc.biostat.washington.edu/beagle/1000_Genomes_phase3_v5a/b37.vcf/chr22.1kg.phase3.v5a.vcf.gz\")\n",
    "end\n",
    "\n",
    "# remove SNPs with the same positions, keep all samples, save result into new file\n",
    "SNPs_to_keep = .!find_duplicate_marker(data) \n",
    "@time VCFTools.filter(data, SNPs_to_keep, 1:nsamples(data), des = \"chr22.uniqueSNPs.vcf.gz\")\n",
    "\n",
    "# summarize data\n",
    "total_snps, samples, _, _, _, maf_by_record, _ = gtstats(\"chr22.uniqueSNPs.vcf.gz\")\n",
    "\n",
    "# generate target file with 100 samples and 100k snps with maf>0.05\n",
    "n = 100\n",
    "p = 100000\n",
    "record_idx = falses(total_snps)\n",
    "large_maf = findall(x -> x > 0.05, maf_by_record)  \n",
    "Random.shuffle!(large_maf)\n",
    "record_idx[large_maf[1:p]] .= true\n",
    "sample_idx = falses(samples)\n",
    "sample_idx[1:n] .= true\n",
    "Random.shuffle!(sample_idx)\n",
    "@time VCFTools.filter(\"chr22.uniqueSNPs.vcf.gz\", record_idx, sample_idx, \n",
    "    des = \"target.chr22.typedOnly.vcf.gz\", allow_multiallelic=false)\n",
    "\n",
    "# unphase and mask 0.1% entries in target file\n",
    "masks = falses(p, n)\n",
    "missingprop = 0.001\n",
    "for j in 1:n, i in 1:p\n",
    "    rand() < missingprop && (masks[i, j] = true)\n",
    "end\n",
    "@time mask_gt(\"target.chr22.typedOnly.vcf.gz\", masks, \n",
    "    des=\"target.chr22.typedOnly.masked.vcf.gz\", unphase=true)\n",
    "\n",
    "# generate target panel with all snps (this file contains true phase and genotypes)\n",
    "@time VCFTools.filter(\"chr22.uniqueSNPs.vcf.gz\", 1:total_snps, \n",
    "    sample_idx, des = \"target.chr22.full.vcf.gz\", allow_multiallelic=false)\n",
    "\n",
    "# generate reference panel with 2404 samples\n",
    "@time VCFTools.filter(\"chr22.uniqueSNPs.vcf.gz\", 1:total_snps, .!sample_idx, \n",
    "    des = \"ref.chr22.excludeTarget.vcf.gz\", allow_multiallelic=false)"
   ]
  },
  {
   "cell_type": "markdown",
   "metadata": {},
   "source": [
    "### Output explanation:\n",
    "\n",
    "You just generated reference and target VCF files:\n",
    "\n",
    "+ `ref.chr22.excludeTarget.vcf.gz`: Reference haplotype panel with 2404 samples\n",
    "+ `target.chr22.typedOnly.masked.vcf.gz`: Imputation target file containing 100 samples at 100k SNPs. All genotypes are unphased and contains 0.1% missing data. \n",
    "\n",
    "You also generated/downloaded:\n",
    "\n",
    "+ `chr22.1kg.phase3.v5a.vcf.gz`: The original chromosome 22 data downloaded from Beagle's website.\n",
    "+ `chr22.uniqueSNPs.vcf.gz`: This is the original chromosome 22 data excluding duplicate records (SNPs) by checking marker positions. The first SNP is included but all subsequent SNPs are removed. \n",
    "+ `target.chr22.full.vcf.gz`: The complete data for imputation target, used for checking imputation accuracy. All genotypes are phased and non-missing. \n",
    "+ `target.chr22.typedOnly.vcf.gz`: Complete target data on just the typed SNPs. All genotypes are phased and non-missing. Just by-producted for generating other files; not used for anything downstream."
   ]
  },
  {
   "cell_type": "markdown",
   "metadata": {},
   "source": [
    "## Step 2: generating `.jlso` compressed reference panel\n",
    "\n",
    "MendelImpute requires one to pre-process the reference panel for faster reading. This is achieved via the [compress_haplotypes](https://openmendel.github.io/MendelImpute.jl/dev/man/api/#MendelImpute.compress_haplotypes) function."
   ]
  },
  {
   "cell_type": "code",
   "execution_count": 2,
   "metadata": {
    "collapsed": false
   },
   "outputs": [
    {
     "name": "stderr",
     "output_type": "stream",
     "text": [
      "\u001b[32mimporting reference data...100%|████████████████████████| Time: 0:02:00\u001b[39m\n"
     ]
    },
    {
     "name": "stdout",
     "output_type": "stream",
     "text": [
      "295.546081 seconds (2.09 G allocations: 209.215 GiB, 10.53% gc time)\n"
     ]
    }
   ],
   "source": [
    "# load necessary packages in Julia\n",
    "using MendelImpute\n",
    "\n",
    "max_d = 1000 # maximum number of unique haplotypes per window\n",
    "reffile = \"ref.chr22.excludeTarget.vcf.gz\"\n",
    "tgtfile = \"target.chr22.typedOnly.masked.vcf.gz\"\n",
    "outfile = \"ref.chr22.maxd1000.excludeTarget.jlso\"\n",
    "@time compress_haplotypes(reffile, tgtfile, outfile, max_d)"
   ]
  },
  {
   "cell_type": "markdown",
   "metadata": {},
   "source": [
    "## Step 3: Run imputation and phasing\n",
    "\n",
    "The [phase](https://openmendel.github.io/MendelImpute.jl/dev/man/api/#MendelImpute.phase) function will perform imputation and phasing. By default, all output genotypes will be phased and non-missing. A list of optional inputs can be found in the [API](https://openmendel.github.io/MendelImpute.jl/dev/man/api/#MendelImpute.phase)."
   ]
  },
  {
   "cell_type": "code",
   "execution_count": 3,
   "metadata": {
    "collapsed": false
   },
   "outputs": [
    {
     "name": "stdout",
     "output_type": "stream",
     "text": [
      "Number of threads = 8\n",
      "Importing reference haplotype data...\n",
      "Total windows = 1634, averaging ~ 508 unique haplotypes per window.\n",
      "\n",
      "Timings: \n",
      "    Data import                     = 9.9879 seconds\n",
      "        import target data             = 1.59052 seconds\n",
      "        import compressed haplotypes   = 8.39737 seconds\n",
      "    Computing haplotype pair        = 4.487 seconds\n",
      "        BLAS3 mul! to get M and N      = 0.203134 seconds per thread\n",
      "        haplopair search               = 3.47789 seconds per thread\n",
      "        initializing missing           = 0.0193766 seconds per thread\n",
      "        allocating and viewing         = 0.0948972 seconds per thread\n",
      "        index conversion               = 0.00162558 seconds per thread\n",
      "    Phasing by win-win intersection = 0.661786 seconds\n",
      "        Window-by-window intersection  = 0.0792241 seconds per thread\n",
      "        Breakpoint search              = 0.48882 seconds per thread\n",
      "        Recording result               = 0.0196465 seconds per thread\n",
      "    Imputation                     = 1.10519 seconds\n",
      "        Imputing missing               = 0.509987 seconds\n",
      "        Writing to file                = 0.595203 seconds\n",
      "\n",
      "    Total time                      = 16.243 seconds\n",
      "\n"
     ]
    }
   ],
   "source": [
    "# note: run twice for more accurate timing\n",
    "reffile = \"ref.chr22.maxd1000.excludeTarget.jlso\" # jlso reference file\n",
    "tgtfile = \"target.chr22.typedOnly.masked.vcf.gz\"  # target genotype file\n",
    "outfile = \"mendel.imputed.chr22.vcf.gz\"           # output file name\n",
    "phase(tgtfile, reffile, outfile);"
   ]
  },
  {
   "cell_type": "markdown",
   "metadata": {},
   "source": [
    "The `;` hides the output, or else the screen will be too jammed. "
   ]
  },
  {
   "cell_type": "markdown",
   "metadata": {},
   "source": [
    "!!! note\n",
    "\n",
    "    To run MendelImpute in parallel, type `export JULIA_NUM_THREADS=4` **before** starting Julia or Jupyter notebooks. See Performance Gotchas #1 on the left for details."
   ]
  },
  {
   "cell_type": "markdown",
   "metadata": {},
   "source": [
    "## Step 3.5: (only for simulated data) check imputation accuracy\n",
    "\n",
    "Since we simulated data, we can check imputation accuracy."
   ]
  },
  {
   "cell_type": "code",
   "execution_count": 4,
   "metadata": {
    "collapsed": false
   },
   "outputs": [
    {
     "name": "stdout",
     "output_type": "stream",
     "text": [
      "error overall = 0.005273778941849357\n"
     ]
    }
   ],
   "source": [
    "X_truth  = convert_gt(Float64, \"target.chr22.full.vcf.gz\")    # import true genotypes\n",
    "X_mendel = convert_gt(Float64, \"mendel.imputed.chr22.vcf.gz\") # import imputed genotypes\n",
    "n, p = size(X_mendel)\n",
    "println(\"error overall = \", sum(X_mendel .!= X_truth) / n / p)"
   ]
  },
  {
   "cell_type": "markdown",
   "metadata": {},
   "source": [
    "## Post-imputation: per-SNP Imputation Quality Score\n",
    "\n",
    "By default, MendelImpute outputs a per-SNP imputation quality score. A score of 0 is best, and larger is worst. At the $k$th SNP, this score is the average least squares error between the observed genotype and the 2 selected haplotypes $\\mathbf{h}_1, \\mathbf{h}_2$ over all $n$ samples:\n",
    "\n",
    "$$e_k = \\frac{1}{n}\\sum_{i=1}^n ||x_i - h_{1i} - h_{2i}||_2^2$$\n",
    "\n",
    "For untyped (i.e. imputed) SNPs, the quality score is the average of the closest 2 typed SNP's score. Note samples with missing genotypes are skipped, and $n$ adjusted accordingly, by default. \n",
    "\n",
    "To extract this score from a VCF file, one can do:"
   ]
  },
  {
   "cell_type": "code",
   "execution_count": 4,
   "metadata": {
    "collapsed": false
   },
   "outputs": [
    {
     "data": {
      "image/svg+xml": [
       "<?xml version=\"1.0\" encoding=\"utf-8\"?>\n",
       "<svg xmlns=\"http://www.w3.org/2000/svg\" xmlns:xlink=\"http://www.w3.org/1999/xlink\" width=\"600\" height=\"400\" viewBox=\"0 0 2400 1600\">\n",
       "<defs>\n",
       "  <clipPath id=\"clip240\">\n",
       "    <rect x=\"0\" y=\"0\" width=\"2400\" height=\"1600\"/>\n",
       "  </clipPath>\n",
       "</defs>\n",
       "<path clip-path=\"url(#clip240)\" d=\"\n",
       "M0 1600 L2400 1600 L2400 0 L0 0  Z\n",
       "  \" fill=\"#ffffff\" fill-rule=\"evenodd\" fill-opacity=\"1\"/>\n",
       "<defs>\n",
       "  <clipPath id=\"clip241\">\n",
       "    <rect x=\"480\" y=\"0\" width=\"1681\" height=\"1600\"/>\n",
       "  </clipPath>\n",
       "</defs>\n",
       "<path clip-path=\"url(#clip240)\" d=\"\n",
       "M277.224 1423.18 L2352.76 1423.18 L2352.76 47.2441 L277.224 47.2441  Z\n",
       "  \" fill=\"#ffffff\" fill-rule=\"evenodd\" fill-opacity=\"1\"/>\n",
       "<defs>\n",
       "  <clipPath id=\"clip242\">\n",
       "    <rect x=\"277\" y=\"47\" width=\"2077\" height=\"1377\"/>\n",
       "  </clipPath>\n",
       "</defs>\n",
       "<polyline clip-path=\"url(#clip242)\" style=\"stroke:#000000; stroke-width:2; stroke-opacity:0.1; fill:none\" points=\"\n",
       "  391.382,1423.18 391.382,47.2441 \n",
       "  \"/>\n",
       "<polyline clip-path=\"url(#clip242)\" style=\"stroke:#000000; stroke-width:2; stroke-opacity:0.1; fill:none\" points=\"\n",
       "  689.32,1423.18 689.32,47.2441 \n",
       "  \"/>\n",
       "<polyline clip-path=\"url(#clip242)\" style=\"stroke:#000000; stroke-width:2; stroke-opacity:0.1; fill:none\" points=\"\n",
       "  987.258,1423.18 987.258,47.2441 \n",
       "  \"/>\n",
       "<polyline clip-path=\"url(#clip242)\" style=\"stroke:#000000; stroke-width:2; stroke-opacity:0.1; fill:none\" points=\"\n",
       "  1285.2,1423.18 1285.2,47.2441 \n",
       "  \"/>\n",
       "<polyline clip-path=\"url(#clip242)\" style=\"stroke:#000000; stroke-width:2; stroke-opacity:0.1; fill:none\" points=\"\n",
       "  1583.13,1423.18 1583.13,47.2441 \n",
       "  \"/>\n",
       "<polyline clip-path=\"url(#clip242)\" style=\"stroke:#000000; stroke-width:2; stroke-opacity:0.1; fill:none\" points=\"\n",
       "  1881.07,1423.18 1881.07,47.2441 \n",
       "  \"/>\n",
       "<polyline clip-path=\"url(#clip242)\" style=\"stroke:#000000; stroke-width:2; stroke-opacity:0.1; fill:none\" points=\"\n",
       "  2179.01,1423.18 2179.01,47.2441 \n",
       "  \"/>\n",
       "<polyline clip-path=\"url(#clip242)\" style=\"stroke:#000000; stroke-width:2; stroke-opacity:0.1; fill:none\" points=\"\n",
       "  277.224,1384.24 2352.76,1384.24 \n",
       "  \"/>\n",
       "<polyline clip-path=\"url(#clip242)\" style=\"stroke:#000000; stroke-width:2; stroke-opacity:0.1; fill:none\" points=\"\n",
       "  277.224,992.262 2352.76,992.262 \n",
       "  \"/>\n",
       "<polyline clip-path=\"url(#clip242)\" style=\"stroke:#000000; stroke-width:2; stroke-opacity:0.1; fill:none\" points=\"\n",
       "  277.224,600.286 2352.76,600.286 \n",
       "  \"/>\n",
       "<polyline clip-path=\"url(#clip242)\" style=\"stroke:#000000; stroke-width:2; stroke-opacity:0.1; fill:none\" points=\"\n",
       "  277.224,208.31 2352.76,208.31 \n",
       "  \"/>\n",
       "<polyline clip-path=\"url(#clip240)\" style=\"stroke:#000000; stroke-width:4; stroke-opacity:1; fill:none\" points=\"\n",
       "  277.224,1423.18 2352.76,1423.18 \n",
       "  \"/>\n",
       "<polyline clip-path=\"url(#clip240)\" style=\"stroke:#000000; stroke-width:4; stroke-opacity:1; fill:none\" points=\"\n",
       "  277.224,1423.18 277.224,47.2441 \n",
       "  \"/>\n",
       "<polyline clip-path=\"url(#clip240)\" style=\"stroke:#000000; stroke-width:4; stroke-opacity:1; fill:none\" points=\"\n",
       "  391.382,1423.18 391.382,1406.67 \n",
       "  \"/>\n",
       "<polyline clip-path=\"url(#clip240)\" style=\"stroke:#000000; stroke-width:4; stroke-opacity:1; fill:none\" points=\"\n",
       "  689.32,1423.18 689.32,1406.67 \n",
       "  \"/>\n",
       "<polyline clip-path=\"url(#clip240)\" style=\"stroke:#000000; stroke-width:4; stroke-opacity:1; fill:none\" points=\"\n",
       "  987.258,1423.18 987.258,1406.67 \n",
       "  \"/>\n",
       "<polyline clip-path=\"url(#clip240)\" style=\"stroke:#000000; stroke-width:4; stroke-opacity:1; fill:none\" points=\"\n",
       "  1285.2,1423.18 1285.2,1406.67 \n",
       "  \"/>\n",
       "<polyline clip-path=\"url(#clip240)\" style=\"stroke:#000000; stroke-width:4; stroke-opacity:1; fill:none\" points=\"\n",
       "  1583.13,1423.18 1583.13,1406.67 \n",
       "  \"/>\n",
       "<polyline clip-path=\"url(#clip240)\" style=\"stroke:#000000; stroke-width:4; stroke-opacity:1; fill:none\" points=\"\n",
       "  1881.07,1423.18 1881.07,1406.67 \n",
       "  \"/>\n",
       "<polyline clip-path=\"url(#clip240)\" style=\"stroke:#000000; stroke-width:4; stroke-opacity:1; fill:none\" points=\"\n",
       "  2179.01,1423.18 2179.01,1406.67 \n",
       "  \"/>\n",
       "<polyline clip-path=\"url(#clip240)\" style=\"stroke:#000000; stroke-width:4; stroke-opacity:1; fill:none\" points=\"\n",
       "  277.224,1384.24 302.131,1384.24 \n",
       "  \"/>\n",
       "<polyline clip-path=\"url(#clip240)\" style=\"stroke:#000000; stroke-width:4; stroke-opacity:1; fill:none\" points=\"\n",
       "  277.224,992.262 302.131,992.262 \n",
       "  \"/>\n",
       "<polyline clip-path=\"url(#clip240)\" style=\"stroke:#000000; stroke-width:4; stroke-opacity:1; fill:none\" points=\"\n",
       "  277.224,600.286 302.131,600.286 \n",
       "  \"/>\n",
       "<polyline clip-path=\"url(#clip240)\" style=\"stroke:#000000; stroke-width:4; stroke-opacity:1; fill:none\" points=\"\n",
       "  277.224,208.31 302.131,208.31 \n",
       "  \"/>\n",
       "<path clip-path=\"url(#clip240)\" d=\"M 0 0 M359.392 1445.17 Q355.78 1445.17 353.952 1448.74 Q352.146 1452.28 352.146 1459.41 Q352.146 1466.51 353.952 1470.08 Q355.78 1473.62 359.392 1473.62 Q363.026 1473.62 364.831 1470.08 Q366.66 1466.51 366.66 1459.41 Q366.66 1452.28 364.831 1448.74 Q363.026 1445.17 359.392 1445.17 M359.392 1441.47 Q365.202 1441.47 368.257 1446.07 Q371.336 1450.66 371.336 1459.41 Q371.336 1468.13 368.257 1472.74 Q365.202 1477.32 359.392 1477.32 Q353.581 1477.32 350.503 1472.74 Q347.447 1468.13 347.447 1459.41 Q347.447 1450.66 350.503 1446.07 Q353.581 1441.47 359.392 1441.47 Z\" fill=\"#000000\" fill-rule=\"evenodd\" fill-opacity=\"1\" /><path clip-path=\"url(#clip240)\" d=\"M 0 0 M376.405 1470.77 L381.29 1470.77 L381.29 1476.65 L376.405 1476.65 L376.405 1470.77 Z\" fill=\"#000000\" fill-rule=\"evenodd\" fill-opacity=\"1\" /><path clip-path=\"url(#clip240)\" d=\"M 0 0 M396.359 1445.17 Q392.748 1445.17 390.919 1448.74 Q389.114 1452.28 389.114 1459.41 Q389.114 1466.51 390.919 1470.08 Q392.748 1473.62 396.359 1473.62 Q399.993 1473.62 401.799 1470.08 Q403.627 1466.51 403.627 1459.41 Q403.627 1452.28 401.799 1448.74 Q399.993 1445.17 396.359 1445.17 M396.359 1441.47 Q402.169 1441.47 405.225 1446.07 Q408.303 1450.66 408.303 1459.41 Q408.303 1468.13 405.225 1472.74 Q402.169 1477.32 396.359 1477.32 Q390.549 1477.32 387.47 1472.74 Q384.415 1468.13 384.415 1459.41 Q384.415 1450.66 387.47 1446.07 Q390.549 1441.47 396.359 1441.47 Z\" fill=\"#000000\" fill-rule=\"evenodd\" fill-opacity=\"1\" /><path clip-path=\"url(#clip240)\" d=\"M 0 0 M423.373 1445.17 Q419.762 1445.17 417.933 1448.74 Q416.127 1452.28 416.127 1459.41 Q416.127 1466.51 417.933 1470.08 Q419.762 1473.62 423.373 1473.62 Q427.007 1473.62 428.812 1470.08 Q430.641 1466.51 430.641 1459.41 Q430.641 1452.28 428.812 1448.74 Q427.007 1445.17 423.373 1445.17 M423.373 1441.47 Q429.183 1441.47 432.238 1446.07 Q435.317 1450.66 435.317 1459.41 Q435.317 1468.13 432.238 1472.74 Q429.183 1477.32 423.373 1477.32 Q417.563 1477.32 414.484 1472.74 Q411.428 1468.13 411.428 1459.41 Q411.428 1450.66 414.484 1446.07 Q417.563 1441.47 423.373 1441.47 Z\" fill=\"#000000\" fill-rule=\"evenodd\" fill-opacity=\"1\" /><path clip-path=\"url(#clip240)\" d=\"M 0 0 M657.943 1445.17 Q654.332 1445.17 652.503 1448.74 Q650.698 1452.28 650.698 1459.41 Q650.698 1466.51 652.503 1470.08 Q654.332 1473.62 657.943 1473.62 Q661.577 1473.62 663.383 1470.08 Q665.211 1466.51 665.211 1459.41 Q665.211 1452.28 663.383 1448.74 Q661.577 1445.17 657.943 1445.17 M657.943 1441.47 Q663.753 1441.47 666.809 1446.07 Q669.887 1450.66 669.887 1459.41 Q669.887 1468.13 666.809 1472.74 Q663.753 1477.32 657.943 1477.32 Q652.133 1477.32 649.054 1472.74 Q645.999 1468.13 645.999 1459.41 Q645.999 1450.66 649.054 1446.07 Q652.133 1441.47 657.943 1441.47 Z\" fill=\"#000000\" fill-rule=\"evenodd\" fill-opacity=\"1\" /><path clip-path=\"url(#clip240)\" d=\"M 0 0 M674.957 1470.77 L679.841 1470.77 L679.841 1476.65 L674.957 1476.65 L674.957 1470.77 Z\" fill=\"#000000\" fill-rule=\"evenodd\" fill-opacity=\"1\" /><path clip-path=\"url(#clip240)\" d=\"M 0 0 M694.91 1445.17 Q691.299 1445.17 689.471 1448.74 Q687.665 1452.28 687.665 1459.41 Q687.665 1466.51 689.471 1470.08 Q691.299 1473.62 694.91 1473.62 Q698.545 1473.62 700.35 1470.08 Q702.179 1466.51 702.179 1459.41 Q702.179 1452.28 700.35 1448.74 Q698.545 1445.17 694.91 1445.17 M694.91 1441.47 Q700.721 1441.47 703.776 1446.07 Q706.855 1450.66 706.855 1459.41 Q706.855 1468.13 703.776 1472.74 Q700.721 1477.32 694.91 1477.32 Q689.1 1477.32 686.022 1472.74 Q682.966 1468.13 682.966 1459.41 Q682.966 1450.66 686.022 1446.07 Q689.1 1441.47 694.91 1441.47 Z\" fill=\"#000000\" fill-rule=\"evenodd\" fill-opacity=\"1\" /><path clip-path=\"url(#clip240)\" d=\"M 0 0 M712.734 1472.72 L720.373 1472.72 L720.373 1446.35 L712.063 1448.02 L712.063 1443.76 L720.327 1442.09 L725.003 1442.09 L725.003 1472.72 L732.642 1472.72 L732.642 1476.65 L712.734 1476.65 L712.734 1472.72 Z\" fill=\"#000000\" fill-rule=\"evenodd\" fill-opacity=\"1\" /><path clip-path=\"url(#clip240)\" d=\"M 0 0 M956.066 1445.17 Q952.455 1445.17 950.626 1448.74 Q948.821 1452.28 948.821 1459.41 Q948.821 1466.51 950.626 1470.08 Q952.455 1473.62 956.066 1473.62 Q959.7 1473.62 961.506 1470.08 Q963.335 1466.51 963.335 1459.41 Q963.335 1452.28 961.506 1448.74 Q959.7 1445.17 956.066 1445.17 M956.066 1441.47 Q961.876 1441.47 964.932 1446.07 Q968.011 1450.66 968.011 1459.41 Q968.011 1468.13 964.932 1472.74 Q961.876 1477.32 956.066 1477.32 Q950.256 1477.32 947.177 1472.74 Q944.122 1468.13 944.122 1459.41 Q944.122 1450.66 947.177 1446.07 Q950.256 1441.47 956.066 1441.47 Z\" fill=\"#000000\" fill-rule=\"evenodd\" fill-opacity=\"1\" /><path clip-path=\"url(#clip240)\" d=\"M 0 0 M973.08 1470.77 L977.964 1470.77 L977.964 1476.65 L973.08 1476.65 L973.08 1470.77 Z\" fill=\"#000000\" fill-rule=\"evenodd\" fill-opacity=\"1\" /><path clip-path=\"url(#clip240)\" d=\"M 0 0 M993.034 1445.17 Q989.423 1445.17 987.594 1448.74 Q985.788 1452.28 985.788 1459.41 Q985.788 1466.51 987.594 1470.08 Q989.423 1473.62 993.034 1473.62 Q996.668 1473.62 998.473 1470.08 Q1000.3 1466.51 1000.3 1459.41 Q1000.3 1452.28 998.473 1448.74 Q996.668 1445.17 993.034 1445.17 M993.034 1441.47 Q998.844 1441.47 1001.9 1446.07 Q1004.98 1450.66 1004.98 1459.41 Q1004.98 1468.13 1001.9 1472.74 Q998.844 1477.32 993.034 1477.32 Q987.223 1477.32 984.145 1472.74 Q981.089 1468.13 981.089 1459.41 Q981.089 1450.66 984.145 1446.07 Q987.223 1441.47 993.034 1441.47 Z\" fill=\"#000000\" fill-rule=\"evenodd\" fill-opacity=\"1\" /><path clip-path=\"url(#clip240)\" d=\"M 0 0 M1014.08 1472.72 L1030.39 1472.72 L1030.39 1476.65 L1008.45 1476.65 L1008.45 1472.72 Q1011.11 1469.96 1015.7 1465.33 Q1020.3 1460.68 1021.48 1459.34 Q1023.73 1456.81 1024.61 1455.08 Q1025.51 1453.32 1025.51 1451.63 Q1025.51 1448.87 1023.57 1447.14 Q1021.64 1445.4 1018.54 1445.4 Q1016.34 1445.4 1013.89 1446.17 Q1011.46 1446.93 1008.68 1448.48 L1008.68 1443.76 Q1011.51 1442.62 1013.96 1442.05 Q1016.41 1441.47 1018.45 1441.47 Q1023.82 1441.47 1027.01 1444.15 Q1030.21 1446.84 1030.21 1451.33 Q1030.21 1453.46 1029.4 1455.38 Q1028.61 1457.28 1026.51 1459.87 Q1025.93 1460.54 1022.83 1463.76 Q1019.72 1466.95 1014.08 1472.72 Z\" fill=\"#000000\" fill-rule=\"evenodd\" fill-opacity=\"1\" /><path clip-path=\"url(#clip240)\" d=\"M 0 0 M1253.53 1445.17 Q1249.92 1445.17 1248.09 1448.74 Q1246.28 1452.28 1246.28 1459.41 Q1246.28 1466.51 1248.09 1470.08 Q1249.92 1473.62 1253.53 1473.62 Q1257.16 1473.62 1258.97 1470.08 Q1260.8 1466.51 1260.8 1459.41 Q1260.8 1452.28 1258.97 1448.74 Q1257.16 1445.17 1253.53 1445.17 M1253.53 1441.47 Q1259.34 1441.47 1262.4 1446.07 Q1265.47 1450.66 1265.47 1459.41 Q1265.47 1468.13 1262.4 1472.74 Q1259.34 1477.32 1253.53 1477.32 Q1247.72 1477.32 1244.64 1472.74 Q1241.59 1468.13 1241.59 1459.41 Q1241.59 1450.66 1244.64 1446.07 Q1247.72 1441.47 1253.53 1441.47 Z\" fill=\"#000000\" fill-rule=\"evenodd\" fill-opacity=\"1\" /><path clip-path=\"url(#clip240)\" d=\"M 0 0 M1270.54 1470.77 L1275.43 1470.77 L1275.43 1476.65 L1270.54 1476.65 L1270.54 1470.77 Z\" fill=\"#000000\" fill-rule=\"evenodd\" fill-opacity=\"1\" /><path clip-path=\"url(#clip240)\" d=\"M 0 0 M1290.5 1445.17 Q1286.89 1445.17 1285.06 1448.74 Q1283.25 1452.28 1283.25 1459.41 Q1283.25 1466.51 1285.06 1470.08 Q1286.89 1473.62 1290.5 1473.62 Q1294.13 1473.62 1295.94 1470.08 Q1297.77 1466.51 1297.77 1459.41 Q1297.77 1452.28 1295.94 1448.74 Q1294.13 1445.17 1290.5 1445.17 M1290.5 1441.47 Q1296.31 1441.47 1299.36 1446.07 Q1302.44 1450.66 1302.44 1459.41 Q1302.44 1468.13 1299.36 1472.74 Q1296.31 1477.32 1290.5 1477.32 Q1284.69 1477.32 1281.61 1472.74 Q1278.55 1468.13 1278.55 1459.41 Q1278.55 1450.66 1281.61 1446.07 Q1284.69 1441.47 1290.5 1441.47 Z\" fill=\"#000000\" fill-rule=\"evenodd\" fill-opacity=\"1\" /><path clip-path=\"url(#clip240)\" d=\"M 0 0 M1321.68 1458.02 Q1325.03 1458.74 1326.91 1461 Q1328.81 1463.27 1328.81 1466.61 Q1328.81 1471.72 1325.29 1474.52 Q1321.77 1477.32 1315.29 1477.32 Q1313.11 1477.32 1310.8 1476.88 Q1308.51 1476.47 1306.05 1475.61 L1306.05 1471.1 Q1308 1472.23 1310.31 1472.81 Q1312.63 1473.39 1315.15 1473.39 Q1319.55 1473.39 1321.84 1471.65 Q1324.15 1469.92 1324.15 1466.61 Q1324.15 1463.55 1322 1461.84 Q1319.87 1460.1 1316.05 1460.1 L1312.02 1460.1 L1312.02 1456.26 L1316.24 1456.26 Q1319.69 1456.26 1321.52 1454.89 Q1323.34 1453.5 1323.34 1450.91 Q1323.34 1448.25 1321.45 1446.84 Q1319.57 1445.4 1316.05 1445.4 Q1314.13 1445.4 1311.93 1445.82 Q1309.73 1446.24 1307.09 1447.11 L1307.09 1442.95 Q1309.76 1442.21 1312.07 1441.84 Q1314.41 1441.47 1316.47 1441.47 Q1321.79 1441.47 1324.9 1443.9 Q1328 1446.3 1328 1450.43 Q1328 1453.3 1326.35 1455.29 Q1324.71 1457.25 1321.68 1458.02 Z\" fill=\"#000000\" fill-rule=\"evenodd\" fill-opacity=\"1\" /><path clip-path=\"url(#clip240)\" d=\"M 0 0 M1550.9 1445.17 Q1547.29 1445.17 1545.46 1448.74 Q1543.66 1452.28 1543.66 1459.41 Q1543.66 1466.51 1545.46 1470.08 Q1547.29 1473.62 1550.9 1473.62 Q1554.53 1473.62 1556.34 1470.08 Q1558.17 1466.51 1558.17 1459.41 Q1558.17 1452.28 1556.34 1448.74 Q1554.53 1445.17 1550.9 1445.17 M1550.9 1441.47 Q1556.71 1441.47 1559.77 1446.07 Q1562.85 1450.66 1562.85 1459.41 Q1562.85 1468.13 1559.77 1472.74 Q1556.71 1477.32 1550.9 1477.32 Q1545.09 1477.32 1542.01 1472.74 Q1538.96 1468.13 1538.96 1459.41 Q1538.96 1450.66 1542.01 1446.07 Q1545.09 1441.47 1550.9 1441.47 Z\" fill=\"#000000\" fill-rule=\"evenodd\" fill-opacity=\"1\" /><path clip-path=\"url(#clip240)\" d=\"M 0 0 M1567.91 1470.77 L1572.8 1470.77 L1572.8 1476.65 L1567.91 1476.65 L1567.91 1470.77 Z\" fill=\"#000000\" fill-rule=\"evenodd\" fill-opacity=\"1\" /><path clip-path=\"url(#clip240)\" d=\"M 0 0 M1587.87 1445.17 Q1584.26 1445.17 1582.43 1448.74 Q1580.62 1452.28 1580.62 1459.41 Q1580.62 1466.51 1582.43 1470.08 Q1584.26 1473.62 1587.87 1473.62 Q1591.5 1473.62 1593.31 1470.08 Q1595.14 1466.51 1595.14 1459.41 Q1595.14 1452.28 1593.31 1448.74 Q1591.5 1445.17 1587.87 1445.17 M1587.87 1441.47 Q1593.68 1441.47 1596.73 1446.07 Q1599.81 1450.66 1599.81 1459.41 Q1599.81 1468.13 1596.73 1472.74 Q1593.68 1477.32 1587.87 1477.32 Q1582.06 1477.32 1578.98 1472.74 Q1575.92 1468.13 1575.92 1459.41 Q1575.92 1450.66 1578.98 1446.07 Q1582.06 1441.47 1587.87 1441.47 Z\" fill=\"#000000\" fill-rule=\"evenodd\" fill-opacity=\"1\" /><path clip-path=\"url(#clip240)\" d=\"M 0 0 M1617.73 1446.17 L1605.92 1464.61 L1617.73 1464.61 L1617.73 1446.17 M1616.5 1442.09 L1622.38 1442.09 L1622.38 1464.61 L1627.31 1464.61 L1627.31 1468.5 L1622.38 1468.5 L1622.38 1476.65 L1617.73 1476.65 L1617.73 1468.5 L1602.13 1468.5 L1602.13 1463.99 L1616.5 1442.09 Z\" fill=\"#000000\" fill-rule=\"evenodd\" fill-opacity=\"1\" /><path clip-path=\"url(#clip240)\" d=\"M 0 0 M1849.58 1445.17 Q1845.97 1445.17 1844.14 1448.74 Q1842.33 1452.28 1842.33 1459.41 Q1842.33 1466.51 1844.14 1470.08 Q1845.97 1473.62 1849.58 1473.62 Q1853.21 1473.62 1855.02 1470.08 Q1856.85 1466.51 1856.85 1459.41 Q1856.85 1452.28 1855.02 1448.74 Q1853.21 1445.17 1849.58 1445.17 M1849.58 1441.47 Q1855.39 1441.47 1858.45 1446.07 Q1861.52 1450.66 1861.52 1459.41 Q1861.52 1468.13 1858.45 1472.74 Q1855.39 1477.32 1849.58 1477.32 Q1843.77 1477.32 1840.69 1472.74 Q1837.64 1468.13 1837.64 1459.41 Q1837.64 1450.66 1840.69 1446.07 Q1843.77 1441.47 1849.58 1441.47 Z\" fill=\"#000000\" fill-rule=\"evenodd\" fill-opacity=\"1\" /><path clip-path=\"url(#clip240)\" d=\"M 0 0 M1866.59 1470.77 L1871.48 1470.77 L1871.48 1476.65 L1866.59 1476.65 L1866.59 1470.77 Z\" fill=\"#000000\" fill-rule=\"evenodd\" fill-opacity=\"1\" /><path clip-path=\"url(#clip240)\" d=\"M 0 0 M1886.55 1445.17 Q1882.94 1445.17 1881.11 1448.74 Q1879.3 1452.28 1879.3 1459.41 Q1879.3 1466.51 1881.11 1470.08 Q1882.94 1473.62 1886.55 1473.62 Q1890.18 1473.62 1891.99 1470.08 Q1893.82 1466.51 1893.82 1459.41 Q1893.82 1452.28 1891.99 1448.74 Q1890.18 1445.17 1886.55 1445.17 M1886.55 1441.47 Q1892.36 1441.47 1895.41 1446.07 Q1898.49 1450.66 1898.49 1459.41 Q1898.49 1468.13 1895.41 1472.74 Q1892.36 1477.32 1886.55 1477.32 Q1880.74 1477.32 1877.66 1472.74 Q1874.6 1468.13 1874.6 1459.41 Q1874.6 1450.66 1877.66 1446.07 Q1880.74 1441.47 1886.55 1441.47 Z\" fill=\"#000000\" fill-rule=\"evenodd\" fill-opacity=\"1\" /><path clip-path=\"url(#clip240)\" d=\"M 0 0 M1903.61 1442.09 L1921.96 1442.09 L1921.96 1446.03 L1907.89 1446.03 L1907.89 1454.5 Q1908.91 1454.15 1909.93 1453.99 Q1910.94 1453.8 1911.96 1453.8 Q1917.75 1453.8 1921.13 1456.98 Q1924.51 1460.15 1924.51 1465.56 Q1924.51 1471.14 1921.04 1474.24 Q1917.57 1477.32 1911.25 1477.32 Q1909.07 1477.32 1906.8 1476.95 Q1904.56 1476.58 1902.15 1475.84 L1902.15 1471.14 Q1904.23 1472.28 1906.45 1472.83 Q1908.68 1473.39 1911.15 1473.39 Q1915.16 1473.39 1917.5 1471.28 Q1919.83 1469.18 1919.83 1465.56 Q1919.83 1461.95 1917.5 1459.85 Q1915.16 1457.74 1911.15 1457.74 Q1909.28 1457.74 1907.4 1458.16 Q1905.55 1458.57 1903.61 1459.45 L1903.61 1442.09 Z\" fill=\"#000000\" fill-rule=\"evenodd\" fill-opacity=\"1\" /><path clip-path=\"url(#clip240)\" d=\"M 0 0 M2146.94 1445.17 Q2143.33 1445.17 2141.5 1448.74 Q2139.69 1452.28 2139.69 1459.41 Q2139.69 1466.51 2141.5 1470.08 Q2143.33 1473.62 2146.94 1473.62 Q2150.57 1473.62 2152.38 1470.08 Q2154.21 1466.51 2154.21 1459.41 Q2154.21 1452.28 2152.38 1448.74 Q2150.57 1445.17 2146.94 1445.17 M2146.94 1441.47 Q2152.75 1441.47 2155.8 1446.07 Q2158.88 1450.66 2158.88 1459.41 Q2158.88 1468.13 2155.8 1472.74 Q2152.75 1477.32 2146.94 1477.32 Q2141.13 1477.32 2138.05 1472.74 Q2134.99 1468.13 2134.99 1459.41 Q2134.99 1450.66 2138.05 1446.07 Q2141.13 1441.47 2146.94 1441.47 Z\" fill=\"#000000\" fill-rule=\"evenodd\" fill-opacity=\"1\" /><path clip-path=\"url(#clip240)\" d=\"M 0 0 M2163.95 1470.77 L2168.84 1470.77 L2168.84 1476.65 L2163.95 1476.65 L2163.95 1470.77 Z\" fill=\"#000000\" fill-rule=\"evenodd\" fill-opacity=\"1\" /><path clip-path=\"url(#clip240)\" d=\"M 0 0 M2183.91 1445.17 Q2180.3 1445.17 2178.47 1448.74 Q2176.66 1452.28 2176.66 1459.41 Q2176.66 1466.51 2178.47 1470.08 Q2180.3 1473.62 2183.91 1473.62 Q2187.54 1473.62 2189.35 1470.08 Q2191.17 1466.51 2191.17 1459.41 Q2191.17 1452.28 2189.35 1448.74 Q2187.54 1445.17 2183.91 1445.17 M2183.91 1441.47 Q2189.72 1441.47 2192.77 1446.07 Q2195.85 1450.66 2195.85 1459.41 Q2195.85 1468.13 2192.77 1472.74 Q2189.72 1477.32 2183.91 1477.32 Q2178.1 1477.32 2175.02 1472.74 Q2171.96 1468.13 2171.96 1459.41 Q2171.96 1450.66 2175.02 1446.07 Q2178.1 1441.47 2183.91 1441.47 Z\" fill=\"#000000\" fill-rule=\"evenodd\" fill-opacity=\"1\" /><path clip-path=\"url(#clip240)\" d=\"M 0 0 M2211.5 1457.51 Q2208.35 1457.51 2206.5 1459.66 Q2204.67 1461.81 2204.67 1465.56 Q2204.67 1469.29 2206.5 1471.47 Q2208.35 1473.62 2211.5 1473.62 Q2214.65 1473.62 2216.48 1471.47 Q2218.33 1469.29 2218.33 1465.56 Q2218.33 1461.81 2216.48 1459.66 Q2214.65 1457.51 2211.5 1457.51 M2220.78 1442.86 L2220.78 1447.11 Q2219.02 1446.28 2217.22 1445.84 Q2215.43 1445.4 2213.67 1445.4 Q2209.04 1445.4 2206.59 1448.53 Q2204.16 1451.65 2203.81 1457.97 Q2205.18 1455.96 2207.24 1454.89 Q2209.3 1453.8 2211.78 1453.8 Q2216.98 1453.8 2219.99 1456.98 Q2223.03 1460.12 2223.03 1465.56 Q2223.03 1470.89 2219.88 1474.11 Q2216.73 1477.32 2211.5 1477.32 Q2205.5 1477.32 2202.33 1472.74 Q2199.16 1468.13 2199.16 1459.41 Q2199.16 1451.21 2203.05 1446.35 Q2206.94 1441.47 2213.49 1441.47 Q2215.25 1441.47 2217.03 1441.81 Q2218.84 1442.16 2220.78 1442.86 Z\" fill=\"#000000\" fill-rule=\"evenodd\" fill-opacity=\"1\" /><path clip-path=\"url(#clip240)\" d=\"M 0 0 M241.28 1370.04 Q237.669 1370.04 235.84 1373.6 Q234.034 1377.14 234.034 1384.27 Q234.034 1391.38 235.84 1394.94 Q237.669 1398.49 241.28 1398.49 Q244.914 1398.49 246.72 1394.94 Q248.548 1391.38 248.548 1384.27 Q248.548 1377.14 246.72 1373.6 Q244.914 1370.04 241.28 1370.04 M241.28 1366.33 Q247.09 1366.33 250.145 1370.94 Q253.224 1375.52 253.224 1384.27 Q253.224 1393 250.145 1397.61 Q247.09 1402.19 241.28 1402.19 Q235.47 1402.19 232.391 1397.61 Q229.335 1393 229.335 1384.27 Q229.335 1375.52 232.391 1370.94 Q235.47 1366.33 241.28 1366.33 Z\" fill=\"#000000\" fill-rule=\"evenodd\" fill-opacity=\"1\" /><path clip-path=\"url(#clip240)\" d=\"M 0 0 M129.107 1012.05 L136.746 1012.05 L136.746 985.689 L128.436 987.356 L128.436 983.096 L136.7 981.43 L141.376 981.43 L141.376 1012.05 L149.015 1012.05 L149.015 1015.99 L129.107 1015.99 L129.107 1012.05 Z\" fill=\"#000000\" fill-rule=\"evenodd\" fill-opacity=\"1\" /><path clip-path=\"url(#clip240)\" d=\"M 0 0 M182.255 990.527 L171.677 1001.15 L182.255 1011.73 L179.501 1014.53 L168.876 1003.91 L158.251 1014.53 L155.519 1011.73 L166.075 1001.15 L155.519 990.527 L158.251 987.726 L168.876 998.351 L179.501 987.726 L182.255 990.527 Z\" fill=\"#000000\" fill-rule=\"evenodd\" fill-opacity=\"1\" /><path clip-path=\"url(#clip240)\" d=\"M 0 0 M188.135 1012.05 L195.774 1012.05 L195.774 985.689 L187.464 987.356 L187.464 983.096 L195.727 981.43 L200.403 981.43 L200.403 1012.05 L208.042 1012.05 L208.042 1015.99 L188.135 1015.99 L188.135 1012.05 Z\" fill=\"#000000\" fill-rule=\"evenodd\" fill-opacity=\"1\" /><path clip-path=\"url(#clip240)\" d=\"M 0 0 M223.111 984.508 Q219.5 984.508 217.672 988.073 Q215.866 991.615 215.866 998.744 Q215.866 1005.85 217.672 1009.42 Q219.5 1012.96 223.111 1012.96 Q226.746 1012.96 228.551 1009.42 Q230.38 1005.85 230.38 998.744 Q230.38 991.615 228.551 988.073 Q226.746 984.508 223.111 984.508 M223.111 980.805 Q228.922 980.805 231.977 985.411 Q235.056 989.994 235.056 998.744 Q235.056 1007.47 231.977 1012.08 Q228.922 1016.66 223.111 1016.66 Q217.301 1016.66 214.223 1012.08 Q211.167 1007.47 211.167 998.744 Q211.167 989.994 214.223 985.411 Q217.301 980.805 223.111 980.805 Z\" fill=\"#000000\" fill-rule=\"evenodd\" fill-opacity=\"1\" /><path clip-path=\"url(#clip240)\" d=\"M 0 0 M236.241 960.499 L251.155 960.499 L251.155 963.697 L239.72 963.697 L239.72 970.58 Q240.548 970.298 241.375 970.166 Q242.203 970.016 243.03 970.016 Q247.732 970.016 250.478 972.593 Q253.224 975.169 253.224 979.57 Q253.224 984.103 250.403 986.623 Q247.582 989.125 242.447 989.125 Q240.679 989.125 238.836 988.824 Q237.012 988.523 235.056 987.921 L235.056 984.103 Q236.749 985.025 238.554 985.476 Q240.36 985.927 242.372 985.927 Q245.626 985.927 247.525 984.216 Q249.425 982.504 249.425 979.57 Q249.425 976.636 247.525 974.925 Q245.626 973.213 242.372 973.213 Q240.849 973.213 239.325 973.552 Q237.821 973.89 236.241 974.605 L236.241 960.499 Z\" fill=\"#000000\" fill-rule=\"evenodd\" fill-opacity=\"1\" /><path clip-path=\"url(#clip240)\" d=\"M 0 0 M132.695 620.078 L149.015 620.078 L149.015 624.014 L127.07 624.014 L127.07 620.078 Q129.732 617.324 134.316 612.694 Q138.922 608.041 140.103 606.699 Q142.348 604.176 143.228 602.44 Q144.13 600.68 144.13 598.991 Q144.13 596.236 142.186 594.5 Q140.265 592.764 137.163 592.764 Q134.964 592.764 132.51 593.528 Q130.08 594.291 127.302 595.842 L127.302 591.12 Q130.126 589.986 132.58 589.407 Q135.033 588.829 137.07 588.829 Q142.441 588.829 145.635 591.514 Q148.829 594.199 148.829 598.69 Q148.829 600.819 148.019 602.74 Q147.232 604.639 145.126 607.231 Q144.547 607.903 141.445 611.12 Q138.343 614.315 132.695 620.078 Z\" fill=\"#000000\" fill-rule=\"evenodd\" fill-opacity=\"1\" /><path clip-path=\"url(#clip240)\" d=\"M 0 0 M182.255 598.551 L171.677 609.176 L182.255 619.754 L179.501 622.555 L168.876 611.93 L158.251 622.555 L155.519 619.754 L166.075 609.176 L155.519 598.551 L158.251 595.75 L168.876 606.375 L179.501 595.75 L182.255 598.551 Z\" fill=\"#000000\" fill-rule=\"evenodd\" fill-opacity=\"1\" /><path clip-path=\"url(#clip240)\" d=\"M 0 0 M188.135 620.078 L195.774 620.078 L195.774 593.713 L187.464 595.379 L187.464 591.12 L195.727 589.454 L200.403 589.454 L200.403 620.078 L208.042 620.078 L208.042 624.014 L188.135 624.014 L188.135 620.078 Z\" fill=\"#000000\" fill-rule=\"evenodd\" fill-opacity=\"1\" /><path clip-path=\"url(#clip240)\" d=\"M 0 0 M223.111 592.532 Q219.5 592.532 217.672 596.097 Q215.866 599.639 215.866 606.768 Q215.866 613.875 217.672 617.439 Q219.5 620.981 223.111 620.981 Q226.746 620.981 228.551 617.439 Q230.38 613.875 230.38 606.768 Q230.38 599.639 228.551 596.097 Q226.746 592.532 223.111 592.532 M223.111 588.829 Q228.922 588.829 231.977 593.435 Q235.056 598.018 235.056 606.768 Q235.056 615.495 231.977 620.102 Q228.922 624.685 223.111 624.685 Q217.301 624.685 214.223 620.102 Q211.167 615.495 211.167 606.768 Q211.167 598.018 214.223 593.435 Q217.301 588.829 223.111 588.829 Z\" fill=\"#000000\" fill-rule=\"evenodd\" fill-opacity=\"1\" /><path clip-path=\"url(#clip240)\" d=\"M 0 0 M236.241 568.523 L251.155 568.523 L251.155 571.72 L239.72 571.72 L239.72 578.604 Q240.548 578.322 241.375 578.19 Q242.203 578.04 243.03 578.04 Q247.732 578.04 250.478 580.617 Q253.224 583.193 253.224 587.594 Q253.224 592.127 250.403 594.647 Q247.582 597.149 242.447 597.149 Q240.679 597.149 238.836 596.848 Q237.012 596.547 235.056 595.945 L235.056 592.127 Q236.749 593.048 238.554 593.5 Q240.36 593.951 242.372 593.951 Q245.626 593.951 247.525 592.24 Q249.425 590.528 249.425 587.594 Q249.425 584.66 247.525 582.949 Q245.626 581.237 242.372 581.237 Q240.849 581.237 239.325 581.576 Q237.821 581.914 236.241 582.629 L236.241 568.523 Z\" fill=\"#000000\" fill-rule=\"evenodd\" fill-opacity=\"1\" /><path clip-path=\"url(#clip240)\" d=\"M 0 0 M141.885 213.403 Q145.242 214.121 147.117 216.389 Q149.015 218.658 149.015 221.991 Q149.015 227.107 145.496 229.908 Q141.978 232.709 135.496 232.709 Q133.32 232.709 131.006 232.269 Q128.714 231.852 126.26 230.996 L126.26 226.482 Q128.205 227.616 130.519 228.195 Q132.834 228.773 135.357 228.773 Q139.755 228.773 142.047 227.037 Q144.362 225.301 144.362 221.991 Q144.362 218.936 142.209 217.223 Q140.08 215.487 136.26 215.487 L132.232 215.487 L132.232 211.644 L136.445 211.644 Q139.894 211.644 141.723 210.278 Q143.552 208.889 143.552 206.297 Q143.552 203.635 141.654 202.223 Q139.779 200.788 136.26 200.788 Q134.339 200.788 132.14 201.204 Q129.941 201.621 127.302 202.5 L127.302 198.334 Q129.964 197.593 132.279 197.223 Q134.617 196.852 136.677 196.852 Q142.001 196.852 145.103 199.283 Q148.204 201.69 148.204 205.811 Q148.204 208.681 146.561 210.672 Q144.917 212.639 141.885 213.403 Z\" fill=\"#000000\" fill-rule=\"evenodd\" fill-opacity=\"1\" /><path clip-path=\"url(#clip240)\" d=\"M 0 0 M182.255 206.575 L171.677 217.199 L182.255 227.778 L179.501 230.579 L168.876 219.954 L158.251 230.579 L155.519 227.778 L166.075 217.199 L155.519 206.575 L158.251 203.774 L168.876 214.399 L179.501 203.774 L182.255 206.575 Z\" fill=\"#000000\" fill-rule=\"evenodd\" fill-opacity=\"1\" /><path clip-path=\"url(#clip240)\" d=\"M 0 0 M188.135 228.102 L195.774 228.102 L195.774 201.737 L187.464 203.403 L187.464 199.144 L195.727 197.477 L200.403 197.477 L200.403 228.102 L208.042 228.102 L208.042 232.037 L188.135 232.037 L188.135 228.102 Z\" fill=\"#000000\" fill-rule=\"evenodd\" fill-opacity=\"1\" /><path clip-path=\"url(#clip240)\" d=\"M 0 0 M223.111 200.556 Q219.5 200.556 217.672 204.121 Q215.866 207.662 215.866 214.792 Q215.866 221.899 217.672 225.463 Q219.5 229.005 223.111 229.005 Q226.746 229.005 228.551 225.463 Q230.38 221.899 230.38 214.792 Q230.38 207.662 228.551 204.121 Q226.746 200.556 223.111 200.556 M223.111 196.852 Q228.922 196.852 231.977 201.459 Q235.056 206.042 235.056 214.792 Q235.056 223.519 231.977 228.125 Q228.922 232.709 223.111 232.709 Q217.301 232.709 214.223 228.125 Q211.167 223.519 211.167 214.792 Q211.167 206.042 214.223 201.459 Q217.301 196.852 223.111 196.852 Z\" fill=\"#000000\" fill-rule=\"evenodd\" fill-opacity=\"1\" /><path clip-path=\"url(#clip240)\" d=\"M 0 0 M236.241 176.547 L251.155 176.547 L251.155 179.744 L239.72 179.744 L239.72 186.628 Q240.548 186.346 241.375 186.214 Q242.203 186.064 243.03 186.064 Q247.732 186.064 250.478 188.64 Q253.224 191.217 253.224 195.618 Q253.224 200.151 250.403 202.671 Q247.582 205.172 242.447 205.172 Q240.679 205.172 238.836 204.871 Q237.012 204.571 235.056 203.969 L235.056 200.151 Q236.749 201.072 238.554 201.524 Q240.36 201.975 242.372 201.975 Q245.626 201.975 247.525 200.264 Q249.425 198.552 249.425 195.618 Q249.425 192.684 247.525 190.973 Q245.626 189.261 242.372 189.261 Q240.849 189.261 239.325 189.6 Q237.821 189.938 236.241 190.653 L236.241 176.547 Z\" fill=\"#000000\" fill-rule=\"evenodd\" fill-opacity=\"1\" /><path clip-path=\"url(#clip240)\" d=\"M 0 0 M1274.44 1536.76 L1274.44 1539.62 L1247.51 1539.62 Q1247.9 1545.67 1251.14 1548.85 Q1254.42 1552 1260.24 1552 Q1263.62 1552 1266.77 1551.17 Q1269.95 1550.35 1273.07 1548.69 L1273.07 1554.23 Q1269.92 1555.57 1266.61 1556.27 Q1263.3 1556.97 1259.89 1556.97 Q1251.36 1556.97 1246.37 1552 Q1241.4 1547.04 1241.4 1538.57 Q1241.4 1529.82 1246.11 1524.69 Q1250.86 1519.54 1258.88 1519.54 Q1266.07 1519.54 1270.24 1524.18 Q1274.44 1528.8 1274.44 1536.76 M1268.58 1535.04 Q1268.52 1530.23 1265.88 1527.37 Q1263.27 1524.5 1258.94 1524.5 Q1254.04 1524.5 1251.08 1527.27 Q1248.15 1530.04 1247.7 1535.07 L1268.58 1535.04 Z\" fill=\"#000000\" fill-rule=\"evenodd\" fill-opacity=\"1\" /><path clip-path=\"url(#clip240)\" d=\"M 0 0 M1301.24 1525.87 Q1300.25 1525.3 1299.08 1525.04 Q1297.93 1524.76 1296.53 1524.76 Q1291.56 1524.76 1288.89 1528 Q1286.25 1531.22 1286.25 1537.27 L1286.25 1556.04 L1280.36 1556.04 L1280.36 1520.4 L1286.25 1520.4 L1286.25 1525.93 Q1288.09 1522.69 1291.05 1521.13 Q1294.02 1519.54 1298.25 1519.54 Q1298.85 1519.54 1299.59 1519.63 Q1300.32 1519.7 1301.21 1519.85 L1301.24 1525.87 Z\" fill=\"#000000\" fill-rule=\"evenodd\" fill-opacity=\"1\" /><path clip-path=\"url(#clip240)\" d=\"M 0 0 M1326.89 1525.87 Q1325.91 1525.3 1324.73 1525.04 Q1323.58 1524.76 1322.18 1524.76 Q1317.22 1524.76 1314.54 1528 Q1311.9 1531.22 1311.9 1537.27 L1311.9 1556.04 L1306.01 1556.04 L1306.01 1520.4 L1311.9 1520.4 L1311.9 1525.93 Q1313.75 1522.69 1316.71 1521.13 Q1319.67 1519.54 1323.9 1519.54 Q1324.51 1519.54 1325.24 1519.63 Q1325.97 1519.7 1326.86 1519.85 L1326.89 1525.87 Z\" fill=\"#000000\" fill-rule=\"evenodd\" fill-opacity=\"1\" /><path clip-path=\"url(#clip240)\" d=\"M 0 0 M1345.42 1524.5 Q1340.71 1524.5 1337.97 1528.19 Q1335.23 1531.85 1335.23 1538.25 Q1335.23 1544.65 1337.94 1548.34 Q1340.68 1552 1345.42 1552 Q1350.1 1552 1352.83 1548.31 Q1355.57 1544.62 1355.57 1538.25 Q1355.57 1531.92 1352.83 1528.23 Q1350.1 1524.5 1345.42 1524.5 M1345.42 1519.54 Q1353.06 1519.54 1357.42 1524.5 Q1361.78 1529.47 1361.78 1538.25 Q1361.78 1547 1357.42 1552 Q1353.06 1556.97 1345.42 1556.97 Q1337.75 1556.97 1333.39 1552 Q1329.06 1547 1329.06 1538.25 Q1329.06 1529.47 1333.39 1524.5 Q1337.75 1519.54 1345.42 1519.54 Z\" fill=\"#000000\" fill-rule=\"evenodd\" fill-opacity=\"1\" /><path clip-path=\"url(#clip240)\" d=\"M 0 0 M1388.58 1525.87 Q1387.59 1525.3 1386.41 1525.04 Q1385.27 1524.76 1383.87 1524.76 Q1378.9 1524.76 1376.23 1528 Q1373.59 1531.22 1373.59 1537.27 L1373.59 1556.04 L1367.7 1556.04 L1367.7 1520.4 L1373.59 1520.4 L1373.59 1525.93 Q1375.43 1522.69 1378.39 1521.13 Q1381.35 1519.54 1385.59 1519.54 Q1386.19 1519.54 1386.92 1519.63 Q1387.65 1519.7 1388.55 1519.85 L1388.58 1525.87 Z\" fill=\"#000000\" fill-rule=\"evenodd\" fill-opacity=\"1\" /><path clip-path=\"url(#clip240)\" d=\"M 0 0 M42.0438 868.462 L48.314 868.462 Q46.5634 872.122 45.704 875.369 Q44.8447 878.615 44.8447 881.639 Q44.8447 886.891 46.8817 889.755 Q48.9187 892.588 52.6745 892.588 Q55.8255 892.588 57.4488 890.71 Q59.0402 888.801 60.0269 883.517 L60.8226 879.634 Q62.1912 872.441 65.6605 869.035 Q69.098 865.598 74.8908 865.598 Q81.7976 865.598 85.3624 870.245 Q88.9272 874.86 88.9272 883.803 Q88.9272 887.177 88.1633 890.997 Q87.3994 894.784 85.9035 898.858 L79.2831 898.858 Q81.4793 894.943 82.5933 891.188 Q83.7073 887.432 83.7073 883.803 Q83.7073 878.297 81.543 875.305 Q79.3786 872.313 75.3682 872.313 Q71.8671 872.313 69.8937 874.478 Q67.9204 876.61 66.9337 881.512 L66.1698 885.427 Q64.7375 892.62 61.682 895.835 Q58.6264 899.049 53.1837 899.049 Q46.8817 899.049 43.2532 894.625 Q39.6248 890.169 39.6248 882.371 Q39.6248 879.029 40.2295 875.56 Q40.8343 872.091 42.0438 868.462 Z\" fill=\"#000000\" fill-rule=\"evenodd\" fill-opacity=\"1\" /><path clip-path=\"url(#clip240)\" d=\"M 0 0 M40.4842 859.2 L40.4842 850.543 L80.238 829.472 L40.4842 829.472 L40.4842 823.234 L88.0042 823.234 L88.0042 831.891 L48.2503 852.962 L88.0042 852.962 L88.0042 859.2 L40.4842 859.2 Z\" fill=\"#000000\" fill-rule=\"evenodd\" fill-opacity=\"1\" /><path clip-path=\"url(#clip240)\" d=\"M 0 0 M45.7677 810.407 L63.6235 810.407 L63.6235 802.322 Q63.6235 797.835 61.3 795.384 Q58.9765 792.933 54.6797 792.933 Q50.4147 792.933 48.0912 795.384 Q45.7677 797.835 45.7677 802.322 L45.7677 810.407 M40.4842 816.836 L40.4842 802.322 Q40.4842 794.333 44.1126 790.259 Q47.7092 786.154 54.6797 786.154 Q61.7138 786.154 65.3104 790.259 Q68.907 794.333 68.907 802.322 L68.907 810.407 L88.0042 810.407 L88.0042 816.836 L40.4842 816.836 Z\" fill=\"#000000\" fill-rule=\"evenodd\" fill-opacity=\"1\" /><path clip-path=\"url(#clip240)\" d=\"M 0 0 M53.7248 733.636 L59.1993 733.636 Q57.8307 736.119 57.1623 738.634 Q56.4621 741.116 56.4621 743.662 Q56.4621 749.36 60.0905 752.511 Q63.6872 755.662 70.212 755.662 Q76.7369 755.662 80.3653 752.511 Q83.9619 749.36 83.9619 743.662 Q83.9619 741.116 83.2935 738.634 Q82.5933 736.119 81.2247 733.636 L86.6355 733.636 Q87.7814 736.087 88.3543 738.729 Q88.9272 741.339 88.9272 744.299 Q88.9272 752.352 83.8664 757.094 Q78.8057 761.837 70.212 761.837 Q61.491 761.837 56.4939 757.062 Q51.4968 752.256 51.4968 743.917 Q51.4968 741.212 52.0697 738.634 Q52.6108 736.055 53.7248 733.636 Z\" fill=\"#000000\" fill-rule=\"evenodd\" fill-opacity=\"1\" /><path clip-path=\"url(#clip240)\" d=\"M 0 0 M56.4621 713.68 Q56.4621 718.391 60.1542 721.128 Q63.8145 723.865 70.212 723.865 Q76.6095 723.865 80.3017 721.16 Q83.9619 718.422 83.9619 713.68 Q83.9619 709.001 80.2698 706.264 Q76.5777 703.527 70.212 703.527 Q63.8781 703.527 60.186 706.264 Q56.4621 709.001 56.4621 713.68 M51.4968 713.68 Q51.4968 706.041 56.4621 701.681 Q61.4273 697.32 70.212 697.32 Q78.9649 697.32 83.9619 701.681 Q88.9272 706.041 88.9272 713.68 Q88.9272 721.351 83.9619 725.711 Q78.9649 730.04 70.212 730.04 Q61.4273 730.04 56.4621 725.711 Q51.4968 721.351 51.4968 713.68 Z\" fill=\"#000000\" fill-rule=\"evenodd\" fill-opacity=\"1\" /><path clip-path=\"url(#clip240)\" d=\"M 0 0 M73.9359 691.782 L52.3562 691.782 L52.3562 685.925 L73.7131 685.925 Q78.7739 685.925 81.3202 683.952 Q83.8346 681.979 83.8346 678.032 Q83.8346 673.29 80.8109 670.552 Q77.7872 667.783 72.5673 667.783 L52.3562 667.783 L52.3562 661.927 L88.0042 661.927 L88.0042 667.783 L82.5296 667.783 Q85.7762 669.916 87.3676 672.748 Q88.9272 675.549 88.9272 679.273 Q88.9272 685.416 85.1078 688.599 Q81.2883 691.782 73.9359 691.782 M51.4968 677.045 L51.4968 677.045 Z\" fill=\"#000000\" fill-rule=\"evenodd\" fill-opacity=\"1\" /><path clip-path=\"url(#clip240)\" d=\"M 0 0 M66.4881 626.151 L88.0042 626.151 L88.0042 632.008 L66.679 632.008 Q61.6183 632.008 59.1038 633.981 Q56.5894 635.955 56.5894 639.901 Q56.5894 644.644 59.6131 647.381 Q62.6368 650.118 67.8567 650.118 L88.0042 650.118 L88.0042 656.007 L52.3562 656.007 L52.3562 650.118 L57.8944 650.118 Q54.6797 648.018 53.0883 645.185 Q51.4968 642.32 51.4968 638.596 Q51.4968 632.454 55.3163 629.303 Q59.1038 626.151 66.4881 626.151 Z\" fill=\"#000000\" fill-rule=\"evenodd\" fill-opacity=\"1\" /><path clip-path=\"url(#clip240)\" d=\"M 0 0 M42.2347 614.216 L52.3562 614.216 L52.3562 602.153 L56.9077 602.153 L56.9077 614.216 L76.2594 614.216 Q80.6199 614.216 81.8613 613.038 Q83.1026 611.829 83.1026 608.168 L83.1026 602.153 L88.0042 602.153 L88.0042 608.168 Q88.0042 614.948 85.4897 617.526 Q82.9434 620.104 76.2594 620.104 L56.9077 620.104 L56.9077 624.401 L52.3562 624.401 L52.3562 620.104 L42.2347 620.104 L42.2347 614.216 Z\" fill=\"#000000\" fill-rule=\"evenodd\" fill-opacity=\"1\" /><path clip-path=\"url(#clip240)\" d=\"M 0 0 M53.4065 573.284 L58.9447 573.284 Q57.6716 575.767 57.035 578.441 Q56.3984 581.114 56.3984 583.979 Q56.3984 588.339 57.7352 590.535 Q59.072 592.7 61.7456 592.7 Q63.7826 592.7 64.9603 591.14 Q66.1061 589.581 67.1565 584.87 L67.6021 582.865 Q68.9389 576.626 71.3897 574.016 Q73.8086 571.375 78.1691 571.375 Q83.1344 571.375 86.0308 575.321 Q88.9272 579.236 88.9272 586.111 Q88.9272 588.976 88.3543 592.095 Q87.8132 595.182 86.6992 598.62 L80.6518 598.62 Q82.3387 595.373 83.198 592.222 Q84.0256 589.071 84.0256 585.984 Q84.0256 581.846 82.6251 579.618 Q81.1929 577.39 78.6147 577.39 Q76.2276 577.39 74.9545 579.013 Q73.6813 580.605 72.5037 586.048 L72.0262 588.085 Q70.8804 593.527 68.5251 595.946 Q66.138 598.365 62.0002 598.365 Q56.9713 598.365 54.2341 594.8 Q51.4968 591.236 51.4968 584.679 Q51.4968 581.432 51.9743 578.568 Q52.4517 575.703 53.4065 573.284 Z\" fill=\"#000000\" fill-rule=\"evenodd\" fill-opacity=\"1\" /><path clip-path=\"url(#clip242)\" d=\"\n",
       "M391.382 86.1857 L391.382 1384.24 L450.97 1384.24 L450.97 86.1857 L391.382 86.1857 L391.382 86.1857  Z\n",
       "  \" fill=\"#009af9\" fill-rule=\"evenodd\" fill-opacity=\"1\"/>\n",
       "<polyline clip-path=\"url(#clip242)\" style=\"stroke:#000000; stroke-width:4; stroke-opacity:1; fill:none\" points=\"\n",
       "  391.382,86.1857 391.382,1384.24 450.97,1384.24 450.97,86.1857 391.382,86.1857 \n",
       "  \"/>\n",
       "<path clip-path=\"url(#clip242)\" d=\"\n",
       "M450.97 1384.24 L450.97 1384.24 L510.557 1384.24 L510.557 1384.24 L450.97 1384.24 L450.97 1384.24  Z\n",
       "  \" fill=\"#009af9\" fill-rule=\"evenodd\" fill-opacity=\"1\"/>\n",
       "<polyline clip-path=\"url(#clip242)\" style=\"stroke:#000000; stroke-width:4; stroke-opacity:1; fill:none\" points=\"\n",
       "  450.97,1384.24 450.97,1384.24 510.557,1384.24 450.97,1384.24 \n",
       "  \"/>\n",
       "<path clip-path=\"url(#clip242)\" d=\"\n",
       "M510.557 1165.17 L510.557 1384.24 L570.145 1384.24 L570.145 1165.17 L510.557 1165.17 L510.557 1165.17  Z\n",
       "  \" fill=\"#009af9\" fill-rule=\"evenodd\" fill-opacity=\"1\"/>\n",
       "<polyline clip-path=\"url(#clip242)\" style=\"stroke:#000000; stroke-width:4; stroke-opacity:1; fill:none\" points=\"\n",
       "  510.557,1165.17 510.557,1384.24 570.145,1384.24 570.145,1165.17 510.557,1165.17 \n",
       "  \"/>\n",
       "<path clip-path=\"url(#clip242)\" d=\"\n",
       "M570.145 1384.24 L570.145 1384.24 L629.733 1384.24 L629.733 1384.24 L570.145 1384.24 L570.145 1384.24  Z\n",
       "  \" fill=\"#009af9\" fill-rule=\"evenodd\" fill-opacity=\"1\"/>\n",
       "<polyline clip-path=\"url(#clip242)\" style=\"stroke:#000000; stroke-width:4; stroke-opacity:1; fill:none\" points=\"\n",
       "  570.145,1384.24 570.145,1384.24 629.733,1384.24 570.145,1384.24 \n",
       "  \"/>\n",
       "<path clip-path=\"url(#clip242)\" d=\"\n",
       "M629.733 1384.24 L629.733 1384.24 L689.32 1384.24 L689.32 1384.24 L629.733 1384.24 L629.733 1384.24  Z\n",
       "  \" fill=\"#009af9\" fill-rule=\"evenodd\" fill-opacity=\"1\"/>\n",
       "<polyline clip-path=\"url(#clip242)\" style=\"stroke:#000000; stroke-width:4; stroke-opacity:1; fill:none\" points=\"\n",
       "  629.733,1384.24 629.733,1384.24 689.32,1384.24 629.733,1384.24 \n",
       "  \"/>\n",
       "<path clip-path=\"url(#clip242)\" d=\"\n",
       "M689.32 1288.41 L689.32 1384.24 L748.908 1384.24 L748.908 1288.41 L689.32 1288.41 L689.32 1288.41  Z\n",
       "  \" fill=\"#009af9\" fill-rule=\"evenodd\" fill-opacity=\"1\"/>\n",
       "<polyline clip-path=\"url(#clip242)\" style=\"stroke:#000000; stroke-width:4; stroke-opacity:1; fill:none\" points=\"\n",
       "  689.32,1288.41 689.32,1384.24 748.908,1384.24 748.908,1288.41 689.32,1288.41 \n",
       "  \"/>\n",
       "<path clip-path=\"url(#clip242)\" d=\"\n",
       "M748.908 1384.24 L748.908 1384.24 L808.495 1384.24 L808.495 1384.24 L748.908 1384.24 L748.908 1384.24  Z\n",
       "  \" fill=\"#009af9\" fill-rule=\"evenodd\" fill-opacity=\"1\"/>\n",
       "<polyline clip-path=\"url(#clip242)\" style=\"stroke:#000000; stroke-width:4; stroke-opacity:1; fill:none\" points=\"\n",
       "  748.908,1384.24 748.908,1384.24 808.495,1384.24 748.908,1384.24 \n",
       "  \"/>\n",
       "<path clip-path=\"url(#clip242)\" d=\"\n",
       "M808.495 1370.83 L808.495 1384.24 L868.083 1384.24 L868.083 1370.83 L808.495 1370.83 L808.495 1370.83  Z\n",
       "  \" fill=\"#009af9\" fill-rule=\"evenodd\" fill-opacity=\"1\"/>\n",
       "<polyline clip-path=\"url(#clip242)\" style=\"stroke:#000000; stroke-width:4; stroke-opacity:1; fill:none\" points=\"\n",
       "  808.495,1370.83 808.495,1384.24 868.083,1384.24 868.083,1370.83 808.495,1370.83 \n",
       "  \"/>\n",
       "<path clip-path=\"url(#clip242)\" d=\"\n",
       "M868.083 1384.24 L868.083 1384.24 L927.671 1384.24 L927.671 1384.24 L868.083 1384.24 L868.083 1384.24  Z\n",
       "  \" fill=\"#009af9\" fill-rule=\"evenodd\" fill-opacity=\"1\"/>\n",
       "<polyline clip-path=\"url(#clip242)\" style=\"stroke:#000000; stroke-width:4; stroke-opacity:1; fill:none\" points=\"\n",
       "  868.083,1384.24 868.083,1384.24 927.671,1384.24 868.083,1384.24 \n",
       "  \"/>\n",
       "<path clip-path=\"url(#clip242)\" d=\"\n",
       "M927.671 1384.24 L927.671 1384.24 L987.258 1384.24 L987.258 1384.24 L927.671 1384.24 L927.671 1384.24  Z\n",
       "  \" fill=\"#009af9\" fill-rule=\"evenodd\" fill-opacity=\"1\"/>\n",
       "<polyline clip-path=\"url(#clip242)\" style=\"stroke:#000000; stroke-width:4; stroke-opacity:1; fill:none\" points=\"\n",
       "  927.671,1384.24 927.671,1384.24 987.258,1384.24 927.671,1384.24 \n",
       "  \"/>\n",
       "<path clip-path=\"url(#clip242)\" d=\"\n",
       "M987.258 1375.9 L987.258 1384.24 L1046.85 1384.24 L1046.85 1375.9 L987.258 1375.9 L987.258 1375.9  Z\n",
       "  \" fill=\"#009af9\" fill-rule=\"evenodd\" fill-opacity=\"1\"/>\n",
       "<polyline clip-path=\"url(#clip242)\" style=\"stroke:#000000; stroke-width:4; stroke-opacity:1; fill:none\" points=\"\n",
       "  987.258,1375.9 987.258,1384.24 1046.85,1384.24 1046.85,1375.9 987.258,1375.9 \n",
       "  \"/>\n",
       "<path clip-path=\"url(#clip242)\" d=\"\n",
       "M1046.85 1384.24 L1046.85 1384.24 L1106.43 1384.24 L1106.43 1384.24 L1046.85 1384.24 L1046.85 1384.24  Z\n",
       "  \" fill=\"#009af9\" fill-rule=\"evenodd\" fill-opacity=\"1\"/>\n",
       "<polyline clip-path=\"url(#clip242)\" style=\"stroke:#000000; stroke-width:4; stroke-opacity:1; fill:none\" points=\"\n",
       "  1046.85,1384.24 1046.85,1384.24 1106.43,1384.24 1046.85,1384.24 \n",
       "  \"/>\n",
       "<path clip-path=\"url(#clip242)\" d=\"\n",
       "M1106.43 1383.11 L1106.43 1384.24 L1166.02 1384.24 L1166.02 1383.11 L1106.43 1383.11 L1106.43 1383.11  Z\n",
       "  \" fill=\"#009af9\" fill-rule=\"evenodd\" fill-opacity=\"1\"/>\n",
       "<polyline clip-path=\"url(#clip242)\" style=\"stroke:#000000; stroke-width:4; stroke-opacity:1; fill:none\" points=\"\n",
       "  1106.43,1383.11 1106.43,1384.24 1166.02,1384.24 1166.02,1383.11 1106.43,1383.11 \n",
       "  \"/>\n",
       "<path clip-path=\"url(#clip242)\" d=\"\n",
       "M1166.02 1384.24 L1166.02 1384.24 L1225.61 1384.24 L1225.61 1384.24 L1166.02 1384.24 L1166.02 1384.24  Z\n",
       "  \" fill=\"#009af9\" fill-rule=\"evenodd\" fill-opacity=\"1\"/>\n",
       "<polyline clip-path=\"url(#clip242)\" style=\"stroke:#000000; stroke-width:4; stroke-opacity:1; fill:none\" points=\"\n",
       "  1166.02,1384.24 1166.02,1384.24 1225.61,1384.24 1166.02,1384.24 \n",
       "  \"/>\n",
       "<path clip-path=\"url(#clip242)\" d=\"\n",
       "M1225.61 1384.24 L1225.61 1384.24 L1285.2 1384.24 L1285.2 1384.24 L1225.61 1384.24 L1225.61 1384.24  Z\n",
       "  \" fill=\"#009af9\" fill-rule=\"evenodd\" fill-opacity=\"1\"/>\n",
       "<polyline clip-path=\"url(#clip242)\" style=\"stroke:#000000; stroke-width:4; stroke-opacity:1; fill:none\" points=\"\n",
       "  1225.61,1384.24 1225.61,1384.24 1285.2,1384.24 1225.61,1384.24 \n",
       "  \"/>\n",
       "<path clip-path=\"url(#clip242)\" d=\"\n",
       "M1285.2 1383.09 L1285.2 1384.24 L1344.78 1384.24 L1344.78 1383.09 L1285.2 1383.09 L1285.2 1383.09  Z\n",
       "  \" fill=\"#009af9\" fill-rule=\"evenodd\" fill-opacity=\"1\"/>\n",
       "<polyline clip-path=\"url(#clip242)\" style=\"stroke:#000000; stroke-width:4; stroke-opacity:1; fill:none\" points=\"\n",
       "  1285.2,1383.09 1285.2,1384.24 1344.78,1384.24 1344.78,1383.09 1285.2,1383.09 \n",
       "  \"/>\n",
       "<path clip-path=\"url(#clip242)\" d=\"\n",
       "M1344.78 1384.24 L1344.78 1384.24 L1404.37 1384.24 L1404.37 1384.24 L1344.78 1384.24 L1344.78 1384.24  Z\n",
       "  \" fill=\"#009af9\" fill-rule=\"evenodd\" fill-opacity=\"1\"/>\n",
       "<polyline clip-path=\"url(#clip242)\" style=\"stroke:#000000; stroke-width:4; stroke-opacity:1; fill:none\" points=\"\n",
       "  1344.78,1384.24 1344.78,1384.24 1404.37,1384.24 1344.78,1384.24 \n",
       "  \"/>\n",
       "<path clip-path=\"url(#clip242)\" d=\"\n",
       "M1404.37 1384.17 L1404.37 1384.24 L1463.96 1384.24 L1463.96 1384.17 L1404.37 1384.17 L1404.37 1384.17  Z\n",
       "  \" fill=\"#009af9\" fill-rule=\"evenodd\" fill-opacity=\"1\"/>\n",
       "<polyline clip-path=\"url(#clip242)\" style=\"stroke:#000000; stroke-width:4; stroke-opacity:1; fill:none\" points=\"\n",
       "  1404.37,1384.17 1404.37,1384.24 1463.96,1384.24 1463.96,1384.17 1404.37,1384.17 \n",
       "  \"/>\n",
       "<path clip-path=\"url(#clip242)\" d=\"\n",
       "M1463.96 1384.24 L1463.96 1384.24 L1523.55 1384.24 L1523.55 1384.24 L1463.96 1384.24 L1463.96 1384.24  Z\n",
       "  \" fill=\"#009af9\" fill-rule=\"evenodd\" fill-opacity=\"1\"/>\n",
       "<polyline clip-path=\"url(#clip242)\" style=\"stroke:#000000; stroke-width:4; stroke-opacity:1; fill:none\" points=\"\n",
       "  1463.96,1384.24 1463.96,1384.24 1523.55,1384.24 1463.96,1384.24 \n",
       "  \"/>\n",
       "<path clip-path=\"url(#clip242)\" d=\"\n",
       "M1523.55 1384.24 L1523.55 1384.24 L1583.13 1384.24 L1583.13 1384.24 L1523.55 1384.24 L1523.55 1384.24  Z\n",
       "  \" fill=\"#009af9\" fill-rule=\"evenodd\" fill-opacity=\"1\"/>\n",
       "<polyline clip-path=\"url(#clip242)\" style=\"stroke:#000000; stroke-width:4; stroke-opacity:1; fill:none\" points=\"\n",
       "  1523.55,1384.24 1523.55,1384.24 1583.13,1384.24 1523.55,1384.24 \n",
       "  \"/>\n",
       "<path clip-path=\"url(#clip242)\" d=\"\n",
       "M1583.13 1384.08 L1583.13 1384.24 L1642.72 1384.24 L1642.72 1384.08 L1583.13 1384.08 L1583.13 1384.08  Z\n",
       "  \" fill=\"#009af9\" fill-rule=\"evenodd\" fill-opacity=\"1\"/>\n",
       "<polyline clip-path=\"url(#clip242)\" style=\"stroke:#000000; stroke-width:4; stroke-opacity:1; fill:none\" points=\"\n",
       "  1583.13,1384.08 1583.13,1384.24 1642.72,1384.24 1642.72,1384.08 1583.13,1384.08 \n",
       "  \"/>\n",
       "<path clip-path=\"url(#clip242)\" d=\"\n",
       "M1642.72 1384.24 L1642.72 1384.24 L1702.31 1384.24 L1702.31 1384.24 L1642.72 1384.24 L1642.72 1384.24  Z\n",
       "  \" fill=\"#009af9\" fill-rule=\"evenodd\" fill-opacity=\"1\"/>\n",
       "<polyline clip-path=\"url(#clip242)\" style=\"stroke:#000000; stroke-width:4; stroke-opacity:1; fill:none\" points=\"\n",
       "  1642.72,1384.24 1642.72,1384.24 1702.31,1384.24 1642.72,1384.24 \n",
       "  \"/>\n",
       "<path clip-path=\"url(#clip242)\" d=\"\n",
       "M1702.31 1384.24 L1702.31 1384.24 L1761.9 1384.24 L1761.9 1384.24 L1702.31 1384.24 L1702.31 1384.24  Z\n",
       "  \" fill=\"#009af9\" fill-rule=\"evenodd\" fill-opacity=\"1\"/>\n",
       "<polyline clip-path=\"url(#clip242)\" style=\"stroke:#000000; stroke-width:4; stroke-opacity:1; fill:none\" points=\"\n",
       "  1702.31,1384.24 1702.31,1384.24 1761.9,1384.24 1702.31,1384.24 \n",
       "  \"/>\n",
       "<path clip-path=\"url(#clip242)\" d=\"\n",
       "M1761.9 1384.24 L1761.9 1384.24 L1821.48 1384.24 L1821.48 1384.24 L1761.9 1384.24 L1761.9 1384.24  Z\n",
       "  \" fill=\"#009af9\" fill-rule=\"evenodd\" fill-opacity=\"1\"/>\n",
       "<polyline clip-path=\"url(#clip242)\" style=\"stroke:#000000; stroke-width:4; stroke-opacity:1; fill:none\" points=\"\n",
       "  1761.9,1384.24 1761.9,1384.24 1821.48,1384.24 1761.9,1384.24 \n",
       "  \"/>\n",
       "<path clip-path=\"url(#clip242)\" d=\"\n",
       "M1821.48 1384.24 L1821.48 1384.24 L1881.07 1384.24 L1881.07 1384.24 L1821.48 1384.24 L1821.48 1384.24  Z\n",
       "  \" fill=\"#009af9\" fill-rule=\"evenodd\" fill-opacity=\"1\"/>\n",
       "<polyline clip-path=\"url(#clip242)\" style=\"stroke:#000000; stroke-width:4; stroke-opacity:1; fill:none\" points=\"\n",
       "  1821.48,1384.24 1821.48,1384.24 1881.07,1384.24 1821.48,1384.24 \n",
       "  \"/>\n",
       "<path clip-path=\"url(#clip242)\" d=\"\n",
       "M1881.07 1384.19 L1881.07 1384.24 L1940.66 1384.24 L1940.66 1384.19 L1881.07 1384.19 L1881.07 1384.19  Z\n",
       "  \" fill=\"#009af9\" fill-rule=\"evenodd\" fill-opacity=\"1\"/>\n",
       "<polyline clip-path=\"url(#clip242)\" style=\"stroke:#000000; stroke-width:4; stroke-opacity:1; fill:none\" points=\"\n",
       "  1881.07,1384.19 1881.07,1384.24 1940.66,1384.24 1940.66,1384.19 1881.07,1384.19 \n",
       "  \"/>\n",
       "<path clip-path=\"url(#clip242)\" d=\"\n",
       "M1940.66 1384.24 L1940.66 1384.24 L2000.25 1384.24 L2000.25 1384.24 L1940.66 1384.24 L1940.66 1384.24  Z\n",
       "  \" fill=\"#009af9\" fill-rule=\"evenodd\" fill-opacity=\"1\"/>\n",
       "<polyline clip-path=\"url(#clip242)\" style=\"stroke:#000000; stroke-width:4; stroke-opacity:1; fill:none\" points=\"\n",
       "  1940.66,1384.24 1940.66,1384.24 2000.25,1384.24 1940.66,1384.24 \n",
       "  \"/>\n",
       "<path clip-path=\"url(#clip242)\" d=\"\n",
       "M2000.25 1384.24 L2000.25 1384.24 L2059.84 1384.24 L2059.84 1384.24 L2000.25 1384.24 L2000.25 1384.24  Z\n",
       "  \" fill=\"#009af9\" fill-rule=\"evenodd\" fill-opacity=\"1\"/>\n",
       "<polyline clip-path=\"url(#clip242)\" style=\"stroke:#000000; stroke-width:4; stroke-opacity:1; fill:none\" points=\"\n",
       "  2000.25,1384.24 2000.25,1384.24 2059.84,1384.24 2000.25,1384.24 \n",
       "  \"/>\n",
       "<path clip-path=\"url(#clip242)\" d=\"\n",
       "M2059.84 1384.24 L2059.84 1384.24 L2119.42 1384.24 L2119.42 1384.24 L2059.84 1384.24 L2059.84 1384.24  Z\n",
       "  \" fill=\"#009af9\" fill-rule=\"evenodd\" fill-opacity=\"1\"/>\n",
       "<polyline clip-path=\"url(#clip242)\" style=\"stroke:#000000; stroke-width:4; stroke-opacity:1; fill:none\" points=\"\n",
       "  2059.84,1384.24 2059.84,1384.24 2119.42,1384.24 2059.84,1384.24 \n",
       "  \"/>\n",
       "<path clip-path=\"url(#clip242)\" d=\"\n",
       "M2119.42 1384.24 L2119.42 1384.24 L2179.01 1384.24 L2179.01 1384.24 L2119.42 1384.24 L2119.42 1384.24  Z\n",
       "  \" fill=\"#009af9\" fill-rule=\"evenodd\" fill-opacity=\"1\"/>\n",
       "<polyline clip-path=\"url(#clip242)\" style=\"stroke:#000000; stroke-width:4; stroke-opacity:1; fill:none\" points=\"\n",
       "  2119.42,1384.24 2119.42,1384.24 2179.01,1384.24 2119.42,1384.24 \n",
       "  \"/>\n",
       "<path clip-path=\"url(#clip242)\" d=\"\n",
       "M2179.01 1384.23 L2179.01 1384.24 L2238.6 1384.24 L2238.6 1384.23 L2179.01 1384.23 L2179.01 1384.23  Z\n",
       "  \" fill=\"#009af9\" fill-rule=\"evenodd\" fill-opacity=\"1\"/>\n",
       "<polyline clip-path=\"url(#clip242)\" style=\"stroke:#000000; stroke-width:4; stroke-opacity:1; fill:none\" points=\"\n",
       "  2179.01,1384.23 2179.01,1384.24 2238.6,1384.24 2238.6,1384.23 2179.01,1384.23 \n",
       "  \"/>\n",
       "</svg>\n"
      ]
     },
     "execution_count": 4,
     "metadata": {},
     "output_type": "execute_result"
    }
   ],
   "source": [
    "using GeneticVariation, Plots\n",
    "reader = VCF.Reader(openvcf(outfile, \"r\"))\n",
    "snpscores = Vector{Float64}(undef, nrecords(outfile))\n",
    "\n",
    "# loop over SNPs\n",
    "for (i, record) in enumerate(reader)\n",
    "    snpscores[i] = parse(Float64, VCF.info(record)[1].second)\n",
    "end\n",
    "close(reader)\n",
    "\n",
    "# plot histogram of SNP scores\n",
    "histogram(snpscores, label=:none, xlabel=\"error\", ylabel=\"SNP counts\", bins=30)"
   ]
  },
  {
   "cell_type": "markdown",
   "metadata": {},
   "source": [
    "**Conclusion:** Most SNPs are well imputed (least squares error close to $0.0$), but a few have quality score above $0.01$. We recommend such SNPs to be [filtered out](https://openmendel.github.io/VCFTools.jl/dev/man/filter/#Subsetting-VCF-files-using-array-masks). "
   ]
  },
  {
   "cell_type": "markdown",
   "metadata": {},
   "source": [
    "!!! note\n",
    "\n",
    "    The popular correlation metric $r^2$ such as [this one](https://genome.sph.umich.edu/wiki/Minimac3_Info_File#Rsq) is NOT a good metric for measuring imputation accuracy under MendelImpute's model, because all imputed SNPs will have $r^2 = 1$. For details, please see our paper. "
   ]
  },
  {
   "cell_type": "markdown",
   "metadata": {},
   "source": [
    "## Post-imputation: per-sample Imputation Quality score\n",
    "\n",
    "MendelImpute also computes a rough quality score (file ending in `sample.error`) for measuring how well each sample is imputed. This value is the sum of the least squares error for all typed SNPs scaled by the total number of observed SNPs. A value of 0 is best, and high values mean worse. "
   ]
  },
  {
   "cell_type": "code",
   "execution_count": 5,
   "metadata": {
    "collapsed": false
   },
   "outputs": [
    {
     "data": {
      "image/svg+xml": [
       "<?xml version=\"1.0\" encoding=\"utf-8\"?>\n",
       "<svg xmlns=\"http://www.w3.org/2000/svg\" xmlns:xlink=\"http://www.w3.org/1999/xlink\" width=\"600\" height=\"400\" viewBox=\"0 0 2400 1600\">\n",
       "<defs>\n",
       "  <clipPath id=\"clip280\">\n",
       "    <rect x=\"0\" y=\"0\" width=\"2400\" height=\"1600\"/>\n",
       "  </clipPath>\n",
       "</defs>\n",
       "<path clip-path=\"url(#clip280)\" d=\"\n",
       "M0 1600 L2400 1600 L2400 0 L0 0  Z\n",
       "  \" fill=\"#ffffff\" fill-rule=\"evenodd\" fill-opacity=\"1\"/>\n",
       "<defs>\n",
       "  <clipPath id=\"clip281\">\n",
       "    <rect x=\"480\" y=\"0\" width=\"1681\" height=\"1600\"/>\n",
       "  </clipPath>\n",
       "</defs>\n",
       "<path clip-path=\"url(#clip280)\" d=\"\n",
       "M202.459 1423.18 L2352.76 1423.18 L2352.76 47.2441 L202.459 47.2441  Z\n",
       "  \" fill=\"#ffffff\" fill-rule=\"evenodd\" fill-opacity=\"1\"/>\n",
       "<defs>\n",
       "  <clipPath id=\"clip282\">\n",
       "    <rect x=\"202\" y=\"47\" width=\"2151\" height=\"1377\"/>\n",
       "  </clipPath>\n",
       "</defs>\n",
       "<polyline clip-path=\"url(#clip282)\" style=\"stroke:#000000; stroke-width:2; stroke-opacity:0.1; fill:none\" points=\"\n",
       "  320.729,1423.18 320.729,47.2441 \n",
       "  \"/>\n",
       "<polyline clip-path=\"url(#clip282)\" style=\"stroke:#000000; stroke-width:2; stroke-opacity:0.1; fill:none\" points=\"\n",
       "  703.48,1423.18 703.48,47.2441 \n",
       "  \"/>\n",
       "<polyline clip-path=\"url(#clip282)\" style=\"stroke:#000000; stroke-width:2; stroke-opacity:0.1; fill:none\" points=\"\n",
       "  1086.23,1423.18 1086.23,47.2441 \n",
       "  \"/>\n",
       "<polyline clip-path=\"url(#clip282)\" style=\"stroke:#000000; stroke-width:2; stroke-opacity:0.1; fill:none\" points=\"\n",
       "  1468.98,1423.18 1468.98,47.2441 \n",
       "  \"/>\n",
       "<polyline clip-path=\"url(#clip282)\" style=\"stroke:#000000; stroke-width:2; stroke-opacity:0.1; fill:none\" points=\"\n",
       "  1851.73,1423.18 1851.73,47.2441 \n",
       "  \"/>\n",
       "<polyline clip-path=\"url(#clip282)\" style=\"stroke:#000000; stroke-width:2; stroke-opacity:0.1; fill:none\" points=\"\n",
       "  2234.49,1423.18 2234.49,47.2441 \n",
       "  \"/>\n",
       "<polyline clip-path=\"url(#clip282)\" style=\"stroke:#000000; stroke-width:2; stroke-opacity:0.1; fill:none\" points=\"\n",
       "  202.459,1384.24 2352.76,1384.24 \n",
       "  \"/>\n",
       "<polyline clip-path=\"url(#clip282)\" style=\"stroke:#000000; stroke-width:2; stroke-opacity:0.1; fill:none\" points=\"\n",
       "  202.459,1051.4 2352.76,1051.4 \n",
       "  \"/>\n",
       "<polyline clip-path=\"url(#clip282)\" style=\"stroke:#000000; stroke-width:2; stroke-opacity:0.1; fill:none\" points=\"\n",
       "  202.459,718.57 2352.76,718.57 \n",
       "  \"/>\n",
       "<polyline clip-path=\"url(#clip282)\" style=\"stroke:#000000; stroke-width:2; stroke-opacity:0.1; fill:none\" points=\"\n",
       "  202.459,385.736 2352.76,385.736 \n",
       "  \"/>\n",
       "<polyline clip-path=\"url(#clip282)\" style=\"stroke:#000000; stroke-width:2; stroke-opacity:0.1; fill:none\" points=\"\n",
       "  202.459,52.9023 2352.76,52.9023 \n",
       "  \"/>\n",
       "<polyline clip-path=\"url(#clip280)\" style=\"stroke:#000000; stroke-width:4; stroke-opacity:1; fill:none\" points=\"\n",
       "  202.459,1423.18 2352.76,1423.18 \n",
       "  \"/>\n",
       "<polyline clip-path=\"url(#clip280)\" style=\"stroke:#000000; stroke-width:4; stroke-opacity:1; fill:none\" points=\"\n",
       "  202.459,1423.18 202.459,47.2441 \n",
       "  \"/>\n",
       "<polyline clip-path=\"url(#clip280)\" style=\"stroke:#000000; stroke-width:4; stroke-opacity:1; fill:none\" points=\"\n",
       "  320.729,1423.18 320.729,1406.67 \n",
       "  \"/>\n",
       "<polyline clip-path=\"url(#clip280)\" style=\"stroke:#000000; stroke-width:4; stroke-opacity:1; fill:none\" points=\"\n",
       "  703.48,1423.18 703.48,1406.67 \n",
       "  \"/>\n",
       "<polyline clip-path=\"url(#clip280)\" style=\"stroke:#000000; stroke-width:4; stroke-opacity:1; fill:none\" points=\"\n",
       "  1086.23,1423.18 1086.23,1406.67 \n",
       "  \"/>\n",
       "<polyline clip-path=\"url(#clip280)\" style=\"stroke:#000000; stroke-width:4; stroke-opacity:1; fill:none\" points=\"\n",
       "  1468.98,1423.18 1468.98,1406.67 \n",
       "  \"/>\n",
       "<polyline clip-path=\"url(#clip280)\" style=\"stroke:#000000; stroke-width:4; stroke-opacity:1; fill:none\" points=\"\n",
       "  1851.73,1423.18 1851.73,1406.67 \n",
       "  \"/>\n",
       "<polyline clip-path=\"url(#clip280)\" style=\"stroke:#000000; stroke-width:4; stroke-opacity:1; fill:none\" points=\"\n",
       "  2234.49,1423.18 2234.49,1406.67 \n",
       "  \"/>\n",
       "<polyline clip-path=\"url(#clip280)\" style=\"stroke:#000000; stroke-width:4; stroke-opacity:1; fill:none\" points=\"\n",
       "  202.459,1384.24 228.263,1384.24 \n",
       "  \"/>\n",
       "<polyline clip-path=\"url(#clip280)\" style=\"stroke:#000000; stroke-width:4; stroke-opacity:1; fill:none\" points=\"\n",
       "  202.459,1051.4 228.263,1051.4 \n",
       "  \"/>\n",
       "<polyline clip-path=\"url(#clip280)\" style=\"stroke:#000000; stroke-width:4; stroke-opacity:1; fill:none\" points=\"\n",
       "  202.459,718.57 228.263,718.57 \n",
       "  \"/>\n",
       "<polyline clip-path=\"url(#clip280)\" style=\"stroke:#000000; stroke-width:4; stroke-opacity:1; fill:none\" points=\"\n",
       "  202.459,385.736 228.263,385.736 \n",
       "  \"/>\n",
       "<polyline clip-path=\"url(#clip280)\" style=\"stroke:#000000; stroke-width:4; stroke-opacity:1; fill:none\" points=\"\n",
       "  202.459,52.9023 228.263,52.9023 \n",
       "  \"/>\n",
       "<path clip-path=\"url(#clip280)\" d=\"M 0 0 M275.232 1445.17 Q271.621 1445.17 269.792 1448.74 Q267.986 1452.28 267.986 1459.41 Q267.986 1466.51 269.792 1470.08 Q271.621 1473.62 275.232 1473.62 Q278.866 1473.62 280.671 1470.08 Q282.5 1466.51 282.5 1459.41 Q282.5 1452.28 280.671 1448.74 Q278.866 1445.17 275.232 1445.17 M275.232 1441.47 Q281.042 1441.47 284.097 1446.07 Q287.176 1450.66 287.176 1459.41 Q287.176 1468.13 284.097 1472.74 Q281.042 1477.32 275.232 1477.32 Q269.422 1477.32 266.343 1472.74 Q263.287 1468.13 263.287 1459.41 Q263.287 1450.66 266.343 1446.07 Q269.422 1441.47 275.232 1441.47 Z\" fill=\"#000000\" fill-rule=\"evenodd\" fill-opacity=\"1\" /><path clip-path=\"url(#clip280)\" d=\"M 0 0 M292.245 1470.77 L297.13 1470.77 L297.13 1476.65 L292.245 1476.65 L292.245 1470.77 Z\" fill=\"#000000\" fill-rule=\"evenodd\" fill-opacity=\"1\" /><path clip-path=\"url(#clip280)\" d=\"M 0 0 M312.199 1445.17 Q308.588 1445.17 306.759 1448.74 Q304.954 1452.28 304.954 1459.41 Q304.954 1466.51 306.759 1470.08 Q308.588 1473.62 312.199 1473.62 Q315.833 1473.62 317.639 1470.08 Q319.468 1466.51 319.468 1459.41 Q319.468 1452.28 317.639 1448.74 Q315.833 1445.17 312.199 1445.17 M312.199 1441.47 Q318.009 1441.47 321.065 1446.07 Q324.143 1450.66 324.143 1459.41 Q324.143 1468.13 321.065 1472.74 Q318.009 1477.32 312.199 1477.32 Q306.389 1477.32 303.31 1472.74 Q300.255 1468.13 300.255 1459.41 Q300.255 1450.66 303.31 1446.07 Q306.389 1441.47 312.199 1441.47 Z\" fill=\"#000000\" fill-rule=\"evenodd\" fill-opacity=\"1\" /><path clip-path=\"url(#clip280)\" d=\"M 0 0 M339.213 1445.17 Q335.602 1445.17 333.773 1448.74 Q331.967 1452.28 331.967 1459.41 Q331.967 1466.51 333.773 1470.08 Q335.602 1473.62 339.213 1473.62 Q342.847 1473.62 344.653 1470.08 Q346.481 1466.51 346.481 1459.41 Q346.481 1452.28 344.653 1448.74 Q342.847 1445.17 339.213 1445.17 M339.213 1441.47 Q345.023 1441.47 348.079 1446.07 Q351.157 1450.66 351.157 1459.41 Q351.157 1468.13 348.079 1472.74 Q345.023 1477.32 339.213 1477.32 Q333.403 1477.32 330.324 1472.74 Q327.268 1468.13 327.268 1459.41 Q327.268 1450.66 330.324 1446.07 Q333.403 1441.47 339.213 1441.47 Z\" fill=\"#000000\" fill-rule=\"evenodd\" fill-opacity=\"1\" /><path clip-path=\"url(#clip280)\" d=\"M 0 0 M366.227 1445.17 Q362.615 1445.17 360.787 1448.74 Q358.981 1452.28 358.981 1459.41 Q358.981 1466.51 360.787 1470.08 Q362.615 1473.62 366.227 1473.62 Q369.861 1473.62 371.666 1470.08 Q373.495 1466.51 373.495 1459.41 Q373.495 1452.28 371.666 1448.74 Q369.861 1445.17 366.227 1445.17 M366.227 1441.47 Q372.037 1441.47 375.092 1446.07 Q378.171 1450.66 378.171 1459.41 Q378.171 1468.13 375.092 1472.74 Q372.037 1477.32 366.227 1477.32 Q360.416 1477.32 357.338 1472.74 Q354.282 1468.13 354.282 1459.41 Q354.282 1450.66 357.338 1446.07 Q360.416 1441.47 366.227 1441.47 Z\" fill=\"#000000\" fill-rule=\"evenodd\" fill-opacity=\"1\" /><path clip-path=\"url(#clip280)\" d=\"M 0 0 M658.596 1445.17 Q654.985 1445.17 653.157 1448.74 Q651.351 1452.28 651.351 1459.41 Q651.351 1466.51 653.157 1470.08 Q654.985 1473.62 658.596 1473.62 Q662.231 1473.62 664.036 1470.08 Q665.865 1466.51 665.865 1459.41 Q665.865 1452.28 664.036 1448.74 Q662.231 1445.17 658.596 1445.17 M658.596 1441.47 Q664.407 1441.47 667.462 1446.07 Q670.541 1450.66 670.541 1459.41 Q670.541 1468.13 667.462 1472.74 Q664.407 1477.32 658.596 1477.32 Q652.786 1477.32 649.708 1472.74 Q646.652 1468.13 646.652 1459.41 Q646.652 1450.66 649.708 1446.07 Q652.786 1441.47 658.596 1441.47 Z\" fill=\"#000000\" fill-rule=\"evenodd\" fill-opacity=\"1\" /><path clip-path=\"url(#clip280)\" d=\"M 0 0 M675.61 1470.77 L680.494 1470.77 L680.494 1476.65 L675.61 1476.65 L675.61 1470.77 Z\" fill=\"#000000\" fill-rule=\"evenodd\" fill-opacity=\"1\" /><path clip-path=\"url(#clip280)\" d=\"M 0 0 M695.564 1445.17 Q691.953 1445.17 690.124 1448.74 Q688.318 1452.28 688.318 1459.41 Q688.318 1466.51 690.124 1470.08 Q691.953 1473.62 695.564 1473.62 Q699.198 1473.62 701.004 1470.08 Q702.832 1466.51 702.832 1459.41 Q702.832 1452.28 701.004 1448.74 Q699.198 1445.17 695.564 1445.17 M695.564 1441.47 Q701.374 1441.47 704.43 1446.07 Q707.508 1450.66 707.508 1459.41 Q707.508 1468.13 704.43 1472.74 Q701.374 1477.32 695.564 1477.32 Q689.754 1477.32 686.675 1472.74 Q683.619 1468.13 683.619 1459.41 Q683.619 1450.66 686.675 1446.07 Q689.754 1441.47 695.564 1441.47 Z\" fill=\"#000000\" fill-rule=\"evenodd\" fill-opacity=\"1\" /><path clip-path=\"url(#clip280)\" d=\"M 0 0 M722.578 1445.17 Q718.966 1445.17 717.138 1448.74 Q715.332 1452.28 715.332 1459.41 Q715.332 1466.51 717.138 1470.08 Q718.966 1473.62 722.578 1473.62 Q726.212 1473.62 728.017 1470.08 Q729.846 1466.51 729.846 1459.41 Q729.846 1452.28 728.017 1448.74 Q726.212 1445.17 722.578 1445.17 M722.578 1441.47 Q728.388 1441.47 731.443 1446.07 Q734.522 1450.66 734.522 1459.41 Q734.522 1468.13 731.443 1472.74 Q728.388 1477.32 722.578 1477.32 Q716.767 1477.32 713.689 1472.74 Q710.633 1468.13 710.633 1459.41 Q710.633 1450.66 713.689 1446.07 Q716.767 1441.47 722.578 1441.47 Z\" fill=\"#000000\" fill-rule=\"evenodd\" fill-opacity=\"1\" /><path clip-path=\"url(#clip280)\" d=\"M 0 0 M740.402 1472.72 L748.04 1472.72 L748.04 1446.35 L739.73 1448.02 L739.73 1443.76 L747.994 1442.09 L752.67 1442.09 L752.67 1472.72 L760.309 1472.72 L760.309 1476.65 L740.402 1476.65 L740.402 1472.72 Z\" fill=\"#000000\" fill-rule=\"evenodd\" fill-opacity=\"1\" /><path clip-path=\"url(#clip280)\" d=\"M 0 0 M1041.53 1445.17 Q1037.92 1445.17 1036.09 1448.74 Q1034.29 1452.28 1034.29 1459.41 Q1034.29 1466.51 1036.09 1470.08 Q1037.92 1473.62 1041.53 1473.62 Q1045.17 1473.62 1046.97 1470.08 Q1048.8 1466.51 1048.8 1459.41 Q1048.8 1452.28 1046.97 1448.74 Q1045.17 1445.17 1041.53 1445.17 M1041.53 1441.47 Q1047.34 1441.47 1050.4 1446.07 Q1053.48 1450.66 1053.48 1459.41 Q1053.48 1468.13 1050.4 1472.74 Q1047.34 1477.32 1041.53 1477.32 Q1035.72 1477.32 1032.64 1472.74 Q1029.59 1468.13 1029.59 1459.41 Q1029.59 1450.66 1032.64 1446.07 Q1035.72 1441.47 1041.53 1441.47 Z\" fill=\"#000000\" fill-rule=\"evenodd\" fill-opacity=\"1\" /><path clip-path=\"url(#clip280)\" d=\"M 0 0 M1058.55 1470.77 L1063.43 1470.77 L1063.43 1476.65 L1058.55 1476.65 L1058.55 1470.77 Z\" fill=\"#000000\" fill-rule=\"evenodd\" fill-opacity=\"1\" /><path clip-path=\"url(#clip280)\" d=\"M 0 0 M1078.5 1445.17 Q1074.89 1445.17 1073.06 1448.74 Q1071.25 1452.28 1071.25 1459.41 Q1071.25 1466.51 1073.06 1470.08 Q1074.89 1473.62 1078.5 1473.62 Q1082.13 1473.62 1083.94 1470.08 Q1085.77 1466.51 1085.77 1459.41 Q1085.77 1452.28 1083.94 1448.74 Q1082.13 1445.17 1078.5 1445.17 M1078.5 1441.47 Q1084.31 1441.47 1087.37 1446.07 Q1090.44 1450.66 1090.44 1459.41 Q1090.44 1468.13 1087.37 1472.74 Q1084.31 1477.32 1078.5 1477.32 Q1072.69 1477.32 1069.61 1472.74 Q1066.56 1468.13 1066.56 1459.41 Q1066.56 1450.66 1069.61 1446.07 Q1072.69 1441.47 1078.5 1441.47 Z\" fill=\"#000000\" fill-rule=\"evenodd\" fill-opacity=\"1\" /><path clip-path=\"url(#clip280)\" d=\"M 0 0 M1105.51 1445.17 Q1101.9 1445.17 1100.07 1448.74 Q1098.27 1452.28 1098.27 1459.41 Q1098.27 1466.51 1100.07 1470.08 Q1101.9 1473.62 1105.51 1473.62 Q1109.15 1473.62 1110.95 1470.08 Q1112.78 1466.51 1112.78 1459.41 Q1112.78 1452.28 1110.95 1448.74 Q1109.15 1445.17 1105.51 1445.17 M1105.51 1441.47 Q1111.32 1441.47 1114.38 1446.07 Q1117.46 1450.66 1117.46 1459.41 Q1117.46 1468.13 1114.38 1472.74 Q1111.32 1477.32 1105.51 1477.32 Q1099.7 1477.32 1096.63 1472.74 Q1093.57 1468.13 1093.57 1459.41 Q1093.57 1450.66 1096.63 1446.07 Q1099.7 1441.47 1105.51 1441.47 Z\" fill=\"#000000\" fill-rule=\"evenodd\" fill-opacity=\"1\" /><path clip-path=\"url(#clip280)\" d=\"M 0 0 M1126.56 1472.72 L1142.87 1472.72 L1142.87 1476.65 L1120.93 1476.65 L1120.93 1472.72 Q1123.59 1469.96 1128.18 1465.33 Q1132.78 1460.68 1133.96 1459.34 Q1136.21 1456.81 1137.09 1455.08 Q1137.99 1453.32 1137.99 1451.63 Q1137.99 1448.87 1136.05 1447.14 Q1134.13 1445.4 1131.02 1445.4 Q1128.82 1445.4 1126.37 1446.17 Q1123.94 1446.93 1121.16 1448.48 L1121.16 1443.76 Q1123.99 1442.62 1126.44 1442.05 Q1128.89 1441.47 1130.93 1441.47 Q1136.3 1441.47 1139.5 1444.15 Q1142.69 1446.84 1142.69 1451.33 Q1142.69 1453.46 1141.88 1455.38 Q1141.09 1457.28 1138.99 1459.87 Q1138.41 1460.54 1135.31 1463.76 Q1132.2 1466.95 1126.56 1472.72 Z\" fill=\"#000000\" fill-rule=\"evenodd\" fill-opacity=\"1\" /><path clip-path=\"url(#clip280)\" d=\"M 0 0 M1423.81 1445.17 Q1420.2 1445.17 1418.37 1448.74 Q1416.56 1452.28 1416.56 1459.41 Q1416.56 1466.51 1418.37 1470.08 Q1420.2 1473.62 1423.81 1473.62 Q1427.44 1473.62 1429.25 1470.08 Q1431.08 1466.51 1431.08 1459.41 Q1431.08 1452.28 1429.25 1448.74 Q1427.44 1445.17 1423.81 1445.17 M1423.81 1441.47 Q1429.62 1441.47 1432.68 1446.07 Q1435.75 1450.66 1435.75 1459.41 Q1435.75 1468.13 1432.68 1472.74 Q1429.62 1477.32 1423.81 1477.32 Q1418 1477.32 1414.92 1472.74 Q1411.87 1468.13 1411.87 1459.41 Q1411.87 1450.66 1414.92 1446.07 Q1418 1441.47 1423.81 1441.47 Z\" fill=\"#000000\" fill-rule=\"evenodd\" fill-opacity=\"1\" /><path clip-path=\"url(#clip280)\" d=\"M 0 0 M1440.82 1470.77 L1445.71 1470.77 L1445.71 1476.65 L1440.82 1476.65 L1440.82 1470.77 Z\" fill=\"#000000\" fill-rule=\"evenodd\" fill-opacity=\"1\" /><path clip-path=\"url(#clip280)\" d=\"M 0 0 M1460.78 1445.17 Q1457.17 1445.17 1455.34 1448.74 Q1453.53 1452.28 1453.53 1459.41 Q1453.53 1466.51 1455.34 1470.08 Q1457.17 1473.62 1460.78 1473.62 Q1464.41 1473.62 1466.22 1470.08 Q1468.05 1466.51 1468.05 1459.41 Q1468.05 1452.28 1466.22 1448.74 Q1464.41 1445.17 1460.78 1445.17 M1460.78 1441.47 Q1466.59 1441.47 1469.64 1446.07 Q1472.72 1450.66 1472.72 1459.41 Q1472.72 1468.13 1469.64 1472.74 Q1466.59 1477.32 1460.78 1477.32 Q1454.97 1477.32 1451.89 1472.74 Q1448.83 1468.13 1448.83 1459.41 Q1448.83 1450.66 1451.89 1446.07 Q1454.97 1441.47 1460.78 1441.47 Z\" fill=\"#000000\" fill-rule=\"evenodd\" fill-opacity=\"1\" /><path clip-path=\"url(#clip280)\" d=\"M 0 0 M1487.79 1445.17 Q1484.18 1445.17 1482.35 1448.74 Q1480.55 1452.28 1480.55 1459.41 Q1480.55 1466.51 1482.35 1470.08 Q1484.18 1473.62 1487.79 1473.62 Q1491.43 1473.62 1493.23 1470.08 Q1495.06 1466.51 1495.06 1459.41 Q1495.06 1452.28 1493.23 1448.74 Q1491.43 1445.17 1487.79 1445.17 M1487.79 1441.47 Q1493.6 1441.47 1496.66 1446.07 Q1499.74 1450.66 1499.74 1459.41 Q1499.74 1468.13 1496.66 1472.74 Q1493.6 1477.32 1487.79 1477.32 Q1481.98 1477.32 1478.9 1472.74 Q1475.85 1468.13 1475.85 1459.41 Q1475.85 1450.66 1478.9 1446.07 Q1481.98 1441.47 1487.79 1441.47 Z\" fill=\"#000000\" fill-rule=\"evenodd\" fill-opacity=\"1\" /><path clip-path=\"url(#clip280)\" d=\"M 0 0 M1518.97 1458.02 Q1522.33 1458.74 1524.2 1461 Q1526.1 1463.27 1526.1 1466.61 Q1526.1 1471.72 1522.58 1474.52 Q1519.06 1477.32 1512.58 1477.32 Q1510.41 1477.32 1508.09 1476.88 Q1505.8 1476.47 1503.35 1475.61 L1503.35 1471.1 Q1505.29 1472.23 1507.61 1472.81 Q1509.92 1473.39 1512.44 1473.39 Q1516.84 1473.39 1519.13 1471.65 Q1521.45 1469.92 1521.45 1466.61 Q1521.45 1463.55 1519.3 1461.84 Q1517.17 1460.1 1513.35 1460.1 L1509.32 1460.1 L1509.32 1456.26 L1513.53 1456.26 Q1516.98 1456.26 1518.81 1454.89 Q1520.64 1453.5 1520.64 1450.91 Q1520.64 1448.25 1518.74 1446.84 Q1516.86 1445.4 1513.35 1445.4 Q1511.42 1445.4 1509.23 1445.82 Q1507.03 1446.24 1504.39 1447.11 L1504.39 1442.95 Q1507.05 1442.21 1509.36 1441.84 Q1511.7 1441.47 1513.76 1441.47 Q1519.09 1441.47 1522.19 1443.9 Q1525.29 1446.3 1525.29 1450.43 Q1525.29 1453.3 1523.65 1455.29 Q1522 1457.25 1518.97 1458.02 Z\" fill=\"#000000\" fill-rule=\"evenodd\" fill-opacity=\"1\" /><path clip-path=\"url(#clip280)\" d=\"M 0 0 M1805.99 1445.17 Q1802.38 1445.17 1800.55 1448.74 Q1798.75 1452.28 1798.75 1459.41 Q1798.75 1466.51 1800.55 1470.08 Q1802.38 1473.62 1805.99 1473.62 Q1809.63 1473.62 1811.43 1470.08 Q1813.26 1466.51 1813.26 1459.41 Q1813.26 1452.28 1811.43 1448.74 Q1809.63 1445.17 1805.99 1445.17 M1805.99 1441.47 Q1811.8 1441.47 1814.86 1446.07 Q1817.94 1450.66 1817.94 1459.41 Q1817.94 1468.13 1814.86 1472.74 Q1811.8 1477.32 1805.99 1477.32 Q1800.18 1477.32 1797.11 1472.74 Q1794.05 1468.13 1794.05 1459.41 Q1794.05 1450.66 1797.11 1446.07 Q1800.18 1441.47 1805.99 1441.47 Z\" fill=\"#000000\" fill-rule=\"evenodd\" fill-opacity=\"1\" /><path clip-path=\"url(#clip280)\" d=\"M 0 0 M1823.01 1470.77 L1827.89 1470.77 L1827.89 1476.65 L1823.01 1476.65 L1823.01 1470.77 Z\" fill=\"#000000\" fill-rule=\"evenodd\" fill-opacity=\"1\" /><path clip-path=\"url(#clip280)\" d=\"M 0 0 M1842.96 1445.17 Q1839.35 1445.17 1837.52 1448.74 Q1835.72 1452.28 1835.72 1459.41 Q1835.72 1466.51 1837.52 1470.08 Q1839.35 1473.62 1842.96 1473.62 Q1846.6 1473.62 1848.4 1470.08 Q1850.23 1466.51 1850.23 1459.41 Q1850.23 1452.28 1848.4 1448.74 Q1846.6 1445.17 1842.96 1445.17 M1842.96 1441.47 Q1848.77 1441.47 1851.83 1446.07 Q1854.91 1450.66 1854.91 1459.41 Q1854.91 1468.13 1851.83 1472.74 Q1848.77 1477.32 1842.96 1477.32 Q1837.15 1477.32 1834.07 1472.74 Q1831.02 1468.13 1831.02 1459.41 Q1831.02 1450.66 1834.07 1446.07 Q1837.15 1441.47 1842.96 1441.47 Z\" fill=\"#000000\" fill-rule=\"evenodd\" fill-opacity=\"1\" /><path clip-path=\"url(#clip280)\" d=\"M 0 0 M1869.98 1445.17 Q1866.36 1445.17 1864.54 1448.74 Q1862.73 1452.28 1862.73 1459.41 Q1862.73 1466.51 1864.54 1470.08 Q1866.36 1473.62 1869.98 1473.62 Q1873.61 1473.62 1875.41 1470.08 Q1877.24 1466.51 1877.24 1459.41 Q1877.24 1452.28 1875.41 1448.74 Q1873.61 1445.17 1869.98 1445.17 M1869.98 1441.47 Q1875.79 1441.47 1878.84 1446.07 Q1881.92 1450.66 1881.92 1459.41 Q1881.92 1468.13 1878.84 1472.74 Q1875.79 1477.32 1869.98 1477.32 Q1864.16 1477.32 1861.09 1472.74 Q1858.03 1468.13 1858.03 1459.41 Q1858.03 1450.66 1861.09 1446.07 Q1864.16 1441.47 1869.98 1441.47 Z\" fill=\"#000000\" fill-rule=\"evenodd\" fill-opacity=\"1\" /><path clip-path=\"url(#clip280)\" d=\"M 0 0 M1899.84 1446.17 L1888.03 1464.61 L1899.84 1464.61 L1899.84 1446.17 M1898.61 1442.09 L1904.49 1442.09 L1904.49 1464.61 L1909.42 1464.61 L1909.42 1468.5 L1904.49 1468.5 L1904.49 1476.65 L1899.84 1476.65 L1899.84 1468.5 L1884.23 1468.5 L1884.23 1463.99 L1898.61 1442.09 Z\" fill=\"#000000\" fill-rule=\"evenodd\" fill-opacity=\"1\" /><path clip-path=\"url(#clip280)\" d=\"M 0 0 M2189.49 1445.17 Q2185.87 1445.17 2184.05 1448.74 Q2182.24 1452.28 2182.24 1459.41 Q2182.24 1466.51 2184.05 1470.08 Q2185.87 1473.62 2189.49 1473.62 Q2193.12 1473.62 2194.93 1470.08 Q2196.75 1466.51 2196.75 1459.41 Q2196.75 1452.28 2194.93 1448.74 Q2193.12 1445.17 2189.49 1445.17 M2189.49 1441.47 Q2195.3 1441.47 2198.35 1446.07 Q2201.43 1450.66 2201.43 1459.41 Q2201.43 1468.13 2198.35 1472.74 Q2195.3 1477.32 2189.49 1477.32 Q2183.68 1477.32 2180.6 1472.74 Q2177.54 1468.13 2177.54 1459.41 Q2177.54 1450.66 2180.6 1446.07 Q2183.68 1441.47 2189.49 1441.47 Z\" fill=\"#000000\" fill-rule=\"evenodd\" fill-opacity=\"1\" /><path clip-path=\"url(#clip280)\" d=\"M 0 0 M2206.5 1470.77 L2211.38 1470.77 L2211.38 1476.65 L2206.5 1476.65 L2206.5 1470.77 Z\" fill=\"#000000\" fill-rule=\"evenodd\" fill-opacity=\"1\" /><path clip-path=\"url(#clip280)\" d=\"M 0 0 M2226.45 1445.17 Q2222.84 1445.17 2221.01 1448.74 Q2219.21 1452.28 2219.21 1459.41 Q2219.21 1466.51 2221.01 1470.08 Q2222.84 1473.62 2226.45 1473.62 Q2230.09 1473.62 2231.89 1470.08 Q2233.72 1466.51 2233.72 1459.41 Q2233.72 1452.28 2231.89 1448.74 Q2230.09 1445.17 2226.45 1445.17 M2226.45 1441.47 Q2232.26 1441.47 2235.32 1446.07 Q2238.4 1450.66 2238.4 1459.41 Q2238.4 1468.13 2235.32 1472.74 Q2232.26 1477.32 2226.45 1477.32 Q2220.64 1477.32 2217.56 1472.74 Q2214.51 1468.13 2214.51 1459.41 Q2214.51 1450.66 2217.56 1446.07 Q2220.64 1441.47 2226.45 1441.47 Z\" fill=\"#000000\" fill-rule=\"evenodd\" fill-opacity=\"1\" /><path clip-path=\"url(#clip280)\" d=\"M 0 0 M2253.47 1445.17 Q2249.86 1445.17 2248.03 1448.74 Q2246.22 1452.28 2246.22 1459.41 Q2246.22 1466.51 2248.03 1470.08 Q2249.86 1473.62 2253.47 1473.62 Q2257.1 1473.62 2258.91 1470.08 Q2260.74 1466.51 2260.74 1459.41 Q2260.74 1452.28 2258.91 1448.74 Q2257.1 1445.17 2253.47 1445.17 M2253.47 1441.47 Q2259.28 1441.47 2262.33 1446.07 Q2265.41 1450.66 2265.41 1459.41 Q2265.41 1468.13 2262.33 1472.74 Q2259.28 1477.32 2253.47 1477.32 Q2247.66 1477.32 2244.58 1472.74 Q2241.52 1468.13 2241.52 1459.41 Q2241.52 1450.66 2244.58 1446.07 Q2247.66 1441.47 2253.47 1441.47 Z\" fill=\"#000000\" fill-rule=\"evenodd\" fill-opacity=\"1\" /><path clip-path=\"url(#clip280)\" d=\"M 0 0 M2270.53 1442.09 L2288.88 1442.09 L2288.88 1446.03 L2274.81 1446.03 L2274.81 1454.5 Q2275.83 1454.15 2276.85 1453.99 Q2277.87 1453.8 2278.88 1453.8 Q2284.67 1453.8 2288.05 1456.98 Q2291.43 1460.15 2291.43 1465.56 Q2291.43 1471.14 2287.96 1474.24 Q2284.49 1477.32 2278.17 1477.32 Q2275.99 1477.32 2273.72 1476.95 Q2271.48 1476.58 2269.07 1475.84 L2269.07 1471.14 Q2271.15 1472.28 2273.37 1472.83 Q2275.6 1473.39 2278.07 1473.39 Q2282.08 1473.39 2284.42 1471.28 Q2286.75 1469.18 2286.75 1465.56 Q2286.75 1461.95 2284.42 1459.85 Q2282.08 1457.74 2278.07 1457.74 Q2276.2 1457.74 2274.32 1458.16 Q2272.47 1458.57 2270.53 1459.45 L2270.53 1442.09 Z\" fill=\"#000000\" fill-rule=\"evenodd\" fill-opacity=\"1\" /><path clip-path=\"url(#clip280)\" d=\"M 0 0 M166.515 1370.04 Q162.903 1370.04 161.075 1373.6 Q159.269 1377.14 159.269 1384.27 Q159.269 1391.38 161.075 1394.94 Q162.903 1398.49 166.515 1398.49 Q170.149 1398.49 171.954 1394.94 Q173.783 1391.38 173.783 1384.27 Q173.783 1377.14 171.954 1373.6 Q170.149 1370.04 166.515 1370.04 M166.515 1366.33 Q172.325 1366.33 175.38 1370.94 Q178.459 1375.52 178.459 1384.27 Q178.459 1393 175.38 1397.61 Q172.325 1402.19 166.515 1402.19 Q160.704 1402.19 157.626 1397.61 Q154.57 1393 154.57 1384.27 Q154.57 1375.52 157.626 1370.94 Q160.704 1366.33 166.515 1366.33 Z\" fill=\"#000000\" fill-rule=\"evenodd\" fill-opacity=\"1\" /><path clip-path=\"url(#clip280)\" d=\"M 0 0 M131.538 1064.75 L139.177 1064.75 L139.177 1038.38 L130.867 1040.05 L130.867 1035.79 L139.13 1034.12 L143.806 1034.12 L143.806 1064.75 L151.445 1064.75 L151.445 1068.68 L131.538 1068.68 L131.538 1064.75 Z\" fill=\"#000000\" fill-rule=\"evenodd\" fill-opacity=\"1\" /><path clip-path=\"url(#clip280)\" d=\"M 0 0 M166.515 1037.2 Q162.903 1037.2 161.075 1040.77 Q159.269 1044.31 159.269 1051.44 Q159.269 1058.55 161.075 1062.11 Q162.903 1065.65 166.515 1065.65 Q170.149 1065.65 171.954 1062.11 Q173.783 1058.55 173.783 1051.44 Q173.783 1044.31 171.954 1040.77 Q170.149 1037.2 166.515 1037.2 M166.515 1033.5 Q172.325 1033.5 175.38 1038.11 Q178.459 1042.69 178.459 1051.44 Q178.459 1060.17 175.38 1064.77 Q172.325 1069.36 166.515 1069.36 Q160.704 1069.36 157.626 1064.77 Q154.57 1060.17 154.57 1051.44 Q154.57 1042.69 157.626 1038.11 Q160.704 1033.5 166.515 1033.5 Z\" fill=\"#000000\" fill-rule=\"evenodd\" fill-opacity=\"1\" /><path clip-path=\"url(#clip280)\" d=\"M 0 0 M135.126 731.915 L151.445 731.915 L151.445 735.85 L129.501 735.85 L129.501 731.915 Q132.163 729.16 136.746 724.531 Q141.353 719.878 142.533 718.536 Q144.779 716.012 145.658 714.276 Q146.561 712.517 146.561 710.827 Q146.561 708.073 144.617 706.337 Q142.695 704.6 139.593 704.6 Q137.394 704.6 134.941 705.364 Q132.51 706.128 129.732 707.679 L129.732 702.957 Q132.556 701.823 135.01 701.244 Q137.464 700.665 139.501 700.665 Q144.871 700.665 148.066 703.35 Q151.26 706.036 151.26 710.526 Q151.26 712.656 150.45 714.577 Q149.663 716.475 147.556 719.068 Q146.978 719.739 143.876 722.957 Q140.774 726.151 135.126 731.915 Z\" fill=\"#000000\" fill-rule=\"evenodd\" fill-opacity=\"1\" /><path clip-path=\"url(#clip280)\" d=\"M 0 0 M166.515 704.369 Q162.903 704.369 161.075 707.934 Q159.269 711.475 159.269 718.605 Q159.269 725.711 161.075 729.276 Q162.903 732.818 166.515 732.818 Q170.149 732.818 171.954 729.276 Q173.783 725.711 173.783 718.605 Q173.783 711.475 171.954 707.934 Q170.149 704.369 166.515 704.369 M166.515 700.665 Q172.325 700.665 175.38 705.272 Q178.459 709.855 178.459 718.605 Q178.459 727.332 175.38 731.938 Q172.325 736.522 166.515 736.522 Q160.704 736.522 157.626 731.938 Q154.57 727.332 154.57 718.605 Q154.57 709.855 157.626 705.272 Q160.704 700.665 166.515 700.665 Z\" fill=\"#000000\" fill-rule=\"evenodd\" fill-opacity=\"1\" /><path clip-path=\"url(#clip280)\" d=\"M 0 0 M144.316 384.382 Q147.672 385.1 149.547 387.368 Q151.445 389.637 151.445 392.97 Q151.445 398.086 147.927 400.887 Q144.408 403.688 137.927 403.688 Q135.751 403.688 133.436 403.248 Q131.144 402.831 128.691 401.975 L128.691 397.461 Q130.635 398.595 132.95 399.174 Q135.265 399.752 137.788 399.752 Q142.186 399.752 144.478 398.016 Q146.792 396.28 146.792 392.97 Q146.792 389.914 144.64 388.202 Q142.51 386.465 138.691 386.465 L134.663 386.465 L134.663 382.623 L138.876 382.623 Q142.325 382.623 144.154 381.257 Q145.982 379.868 145.982 377.276 Q145.982 374.614 144.084 373.202 Q142.209 371.766 138.691 371.766 Q136.769 371.766 134.57 372.183 Q132.371 372.6 129.732 373.479 L129.732 369.313 Q132.394 368.572 134.709 368.202 Q137.047 367.831 139.107 367.831 Q144.431 367.831 147.533 370.262 Q150.635 372.669 150.635 376.79 Q150.635 379.66 148.992 381.651 Q147.348 383.618 144.316 384.382 Z\" fill=\"#000000\" fill-rule=\"evenodd\" fill-opacity=\"1\" /><path clip-path=\"url(#clip280)\" d=\"M 0 0 M166.515 371.535 Q162.903 371.535 161.075 375.1 Q159.269 378.641 159.269 385.771 Q159.269 392.877 161.075 396.442 Q162.903 399.984 166.515 399.984 Q170.149 399.984 171.954 396.442 Q173.783 392.877 173.783 385.771 Q173.783 378.641 171.954 375.1 Q170.149 371.535 166.515 371.535 M166.515 367.831 Q172.325 367.831 175.38 372.438 Q178.459 377.021 178.459 385.771 Q178.459 394.498 175.38 399.104 Q172.325 403.688 166.515 403.688 Q160.704 403.688 157.626 399.104 Q154.57 394.498 154.57 385.771 Q154.57 377.021 157.626 372.438 Q160.704 367.831 166.515 367.831 Z\" fill=\"#000000\" fill-rule=\"evenodd\" fill-opacity=\"1\" /><path clip-path=\"url(#clip280)\" d=\"M 0 0 M141.862 39.6963 L130.056 58.1453 L141.862 58.1453 L141.862 39.6963 M140.635 35.6223 L146.515 35.6223 L146.515 58.1453 L151.445 58.1453 L151.445 62.0342 L146.515 62.0342 L146.515 70.1823 L141.862 70.1823 L141.862 62.0342 L126.26 62.0342 L126.26 57.5203 L140.635 35.6223 Z\" fill=\"#000000\" fill-rule=\"evenodd\" fill-opacity=\"1\" /><path clip-path=\"url(#clip280)\" d=\"M 0 0 M166.515 38.701 Q162.903 38.701 161.075 42.2658 Q159.269 45.8074 159.269 52.937 Q159.269 60.0434 161.075 63.6082 Q162.903 67.1499 166.515 67.1499 Q170.149 67.1499 171.954 63.6082 Q173.783 60.0434 173.783 52.937 Q173.783 45.8074 171.954 42.2658 Q170.149 38.701 166.515 38.701 M166.515 34.9973 Q172.325 34.9973 175.38 39.6037 Q178.459 44.187 178.459 52.937 Q178.459 61.6638 175.38 66.2703 Q172.325 70.8536 166.515 70.8536 Q160.704 70.8536 157.626 66.2703 Q154.57 61.6638 154.57 52.937 Q154.57 44.187 157.626 39.6037 Q160.704 34.9973 166.515 34.9973 Z\" fill=\"#000000\" fill-rule=\"evenodd\" fill-opacity=\"1\" /><path clip-path=\"url(#clip280)\" d=\"M 0 0 M1237.06 1536.76 L1237.06 1539.62 L1210.13 1539.62 Q1210.51 1545.67 1213.76 1548.85 Q1217.04 1552 1222.86 1552 Q1226.24 1552 1229.39 1551.17 Q1232.57 1550.35 1235.69 1548.69 L1235.69 1554.23 Q1232.54 1555.57 1229.23 1556.27 Q1225.92 1556.97 1222.51 1556.97 Q1213.98 1556.97 1208.99 1552 Q1204.02 1547.04 1204.02 1538.57 Q1204.02 1529.82 1208.73 1524.69 Q1213.47 1519.54 1221.49 1519.54 Q1228.69 1519.54 1232.86 1524.18 Q1237.06 1528.8 1237.06 1536.76 M1231.2 1535.04 Q1231.14 1530.23 1228.5 1527.37 Q1225.89 1524.5 1221.56 1524.5 Q1216.66 1524.5 1213.7 1527.27 Q1210.77 1530.04 1210.32 1535.07 L1231.2 1535.04 Z\" fill=\"#000000\" fill-rule=\"evenodd\" fill-opacity=\"1\" /><path clip-path=\"url(#clip280)\" d=\"M 0 0 M1263.86 1525.87 Q1262.87 1525.3 1261.69 1525.04 Q1260.55 1524.76 1259.15 1524.76 Q1254.18 1524.76 1251.51 1528 Q1248.87 1531.22 1248.87 1537.27 L1248.87 1556.04 L1242.98 1556.04 L1242.98 1520.4 L1248.87 1520.4 L1248.87 1525.93 Q1250.71 1522.69 1253.67 1521.13 Q1256.63 1519.54 1260.87 1519.54 Q1261.47 1519.54 1262.2 1519.63 Q1262.93 1519.7 1263.83 1519.85 L1263.86 1525.87 Z\" fill=\"#000000\" fill-rule=\"evenodd\" fill-opacity=\"1\" /><path clip-path=\"url(#clip280)\" d=\"M 0 0 M1289.51 1525.87 Q1288.52 1525.3 1287.35 1525.04 Q1286.2 1524.76 1284.8 1524.76 Q1279.84 1524.76 1277.16 1528 Q1274.52 1531.22 1274.52 1537.27 L1274.52 1556.04 L1268.63 1556.04 L1268.63 1520.4 L1274.52 1520.4 L1274.52 1525.93 Q1276.37 1522.69 1279.33 1521.13 Q1282.29 1519.54 1286.52 1519.54 Q1287.12 1519.54 1287.86 1519.63 Q1288.59 1519.7 1289.48 1519.85 L1289.51 1525.87 Z\" fill=\"#000000\" fill-rule=\"evenodd\" fill-opacity=\"1\" /><path clip-path=\"url(#clip280)\" d=\"M 0 0 M1308.04 1524.5 Q1303.32 1524.5 1300.59 1528.19 Q1297.85 1531.85 1297.85 1538.25 Q1297.85 1544.65 1300.56 1548.34 Q1303.29 1552 1308.04 1552 Q1312.71 1552 1315.45 1548.31 Q1318.19 1544.62 1318.19 1538.25 Q1318.19 1531.92 1315.45 1528.23 Q1312.71 1524.5 1308.04 1524.5 M1308.04 1519.54 Q1315.67 1519.54 1320.03 1524.5 Q1324.4 1529.47 1324.4 1538.25 Q1324.4 1547 1320.03 1552 Q1315.67 1556.97 1308.04 1556.97 Q1300.36 1556.97 1296 1552 Q1291.68 1547 1291.68 1538.25 Q1291.68 1529.47 1296 1524.5 Q1300.36 1519.54 1308.04 1519.54 Z\" fill=\"#000000\" fill-rule=\"evenodd\" fill-opacity=\"1\" /><path clip-path=\"url(#clip280)\" d=\"M 0 0 M1351.19 1525.87 Q1350.21 1525.3 1349.03 1525.04 Q1347.88 1524.76 1346.48 1524.76 Q1341.52 1524.76 1338.85 1528 Q1336.2 1531.22 1336.2 1537.27 L1336.2 1556.04 L1330.32 1556.04 L1330.32 1520.4 L1336.2 1520.4 L1336.2 1525.93 Q1338.05 1522.69 1341.01 1521.13 Q1343.97 1519.54 1348.2 1519.54 Q1348.81 1519.54 1349.54 1519.63 Q1350.27 1519.7 1351.16 1519.85 L1351.19 1525.87 Z\" fill=\"#000000\" fill-rule=\"evenodd\" fill-opacity=\"1\" /><path clip-path=\"url(#clip280)\" d=\"M 0 0 M40.4842 1021.46 L40.4842 1012.8 L80.238 991.734 L40.4842 991.734 L40.4842 985.496 L88.0042 985.496 L88.0042 994.153 L48.2503 1015.22 L88.0042 1015.22 L88.0042 1021.46 L40.4842 1021.46 Z\" fill=\"#000000\" fill-rule=\"evenodd\" fill-opacity=\"1\" /><path clip-path=\"url(#clip280)\" d=\"M 0 0 M73.9359 979.957 L52.3562 979.957 L52.3562 974.101 L73.7131 974.101 Q78.7739 974.101 81.3202 972.128 Q83.8346 970.154 83.8346 966.208 Q83.8346 961.465 80.8109 958.728 Q77.7872 955.959 72.5673 955.959 L52.3562 955.959 L52.3562 950.102 L88.0042 950.102 L88.0042 955.959 L82.5296 955.959 Q85.7762 958.091 87.3676 960.924 Q88.9272 963.725 88.9272 967.449 Q88.9272 973.592 85.1078 976.775 Q81.2883 979.957 73.9359 979.957 M51.4968 965.221 L51.4968 965.221 Z\" fill=\"#000000\" fill-rule=\"evenodd\" fill-opacity=\"1\" /><path clip-path=\"url(#clip280)\" d=\"M 0 0 M59.1993 916.205 Q55.2526 914.009 53.3747 910.953 Q51.4968 907.898 51.4968 903.76 Q51.4968 898.19 55.4117 895.166 Q59.2948 892.143 66.4881 892.143 L88.0042 892.143 L88.0042 898.031 L66.679 898.031 Q61.5546 898.031 59.072 899.845 Q56.5894 901.659 56.5894 905.383 Q56.5894 909.935 59.6131 912.576 Q62.6368 915.218 67.8567 915.218 L88.0042 915.218 L88.0042 921.107 L66.679 921.107 Q61.5228 921.107 59.072 922.921 Q56.5894 924.735 56.5894 928.523 Q56.5894 933.01 59.6449 935.652 Q62.6686 938.294 67.8567 938.294 L88.0042 938.294 L88.0042 944.182 L52.3562 944.182 L52.3562 938.294 L57.8944 938.294 Q54.616 936.289 53.0564 933.488 Q51.4968 930.687 51.4968 926.836 Q51.4968 922.953 53.4702 920.247 Q55.4436 917.51 59.1993 916.205 Z\" fill=\"#000000\" fill-rule=\"evenodd\" fill-opacity=\"1\" /><path clip-path=\"url(#clip280)\" d=\"M 0 0 M70.212 860.41 Q63.7508 860.41 60.0905 863.083 Q56.3984 865.725 56.3984 870.372 Q56.3984 875.019 60.0905 877.692 Q63.7508 880.334 70.212 880.334 Q76.6732 880.334 80.3653 877.692 Q84.0256 875.019 84.0256 870.372 Q84.0256 865.725 80.3653 863.083 Q76.6732 860.41 70.212 860.41 M57.7671 880.334 Q54.5842 878.488 53.0564 875.687 Q51.4968 872.854 51.4968 868.94 Q51.4968 862.447 56.6531 858.404 Q61.8093 854.33 70.212 854.33 Q78.6147 854.33 83.771 858.404 Q88.9272 862.447 88.9272 868.94 Q88.9272 872.854 87.3994 875.687 Q85.8398 878.488 82.657 880.334 L88.0042 880.334 L88.0042 886.222 L38.479 886.222 L38.479 880.334 L57.7671 880.334 Z\" fill=\"#000000\" fill-rule=\"evenodd\" fill-opacity=\"1\" /><path clip-path=\"url(#clip280)\" d=\"M 0 0 M68.7161 817.696 L71.5806 817.696 L71.5806 844.623 Q77.6281 844.241 80.8109 840.994 Q83.9619 837.716 83.9619 831.891 Q83.9619 828.517 83.1344 825.366 Q82.3069 822.183 80.6518 819.064 L86.1899 819.064 Q87.5267 822.215 88.227 825.525 Q88.9272 828.836 88.9272 832.241 Q88.9272 840.771 83.9619 845.768 Q78.9967 850.734 70.5303 850.734 Q61.7774 850.734 56.6531 846.023 Q51.4968 841.281 51.4968 833.26 Q51.4968 826.067 56.1438 821.897 Q60.7589 817.696 68.7161 817.696 M66.9973 823.552 Q62.1912 823.616 59.3266 826.257 Q56.4621 828.867 56.4621 833.196 Q56.4621 838.098 59.2312 841.058 Q62.0002 843.986 67.0292 844.432 L66.9973 823.552 Z\" fill=\"#000000\" fill-rule=\"evenodd\" fill-opacity=\"1\" /><path clip-path=\"url(#clip280)\" d=\"M 0 0 M57.8307 790.896 Q57.2578 791.883 57.0032 793.06 Q56.7167 794.206 56.7167 795.607 Q56.7167 800.572 59.9632 803.245 Q63.1779 805.887 69.2253 805.887 L88.0042 805.887 L88.0042 811.776 L52.3562 811.776 L52.3562 805.887 L57.8944 805.887 Q54.6479 804.041 53.0883 801.081 Q51.4968 798.121 51.4968 793.888 Q51.4968 793.283 51.5923 792.551 Q51.656 791.819 51.8151 790.928 L57.8307 790.896 Z\" fill=\"#000000\" fill-rule=\"evenodd\" fill-opacity=\"1\" /><path clip-path=\"url(#clip280)\" d=\"M 0 0 M56.4621 750.219 Q56.4621 754.93 60.1542 757.667 Q63.8145 760.404 70.212 760.404 Q76.6095 760.404 80.3017 757.699 Q83.9619 754.962 83.9619 750.219 Q83.9619 745.54 80.2698 742.803 Q76.5777 740.066 70.212 740.066 Q63.8781 740.066 60.186 742.803 Q56.4621 745.54 56.4621 750.219 M51.4968 750.219 Q51.4968 742.58 56.4621 738.22 Q61.4273 733.859 70.212 733.859 Q78.9649 733.859 83.9619 738.22 Q88.9272 742.58 88.9272 750.219 Q88.9272 757.89 83.9619 762.25 Q78.9649 766.579 70.212 766.579 Q61.4273 766.579 56.4621 762.25 Q51.4968 757.89 51.4968 750.219 Z\" fill=\"#000000\" fill-rule=\"evenodd\" fill-opacity=\"1\" /><path clip-path=\"url(#clip280)\" d=\"M 0 0 M38.479 709.67 L43.3487 709.67 L43.3487 715.271 Q43.3487 718.422 44.6219 719.664 Q45.895 720.873 49.2052 720.873 L52.3562 720.873 L52.3562 711.229 L56.9077 711.229 L56.9077 720.873 L88.0042 720.873 L88.0042 726.761 L56.9077 726.761 L56.9077 732.363 L52.3562 732.363 L52.3562 726.761 L49.8736 726.761 Q43.9216 726.761 41.2162 723.992 Q38.479 721.223 38.479 715.208 L38.479 709.67 Z\" fill=\"#000000\" fill-rule=\"evenodd\" fill-opacity=\"1\" /><path clip-path=\"url(#clip280)\" d=\"M 0 0 M53.4065 660.081 L58.9447 660.081 Q57.6716 662.563 57.035 665.237 Q56.3984 667.911 56.3984 670.775 Q56.3984 675.136 57.7352 677.332 Q59.072 679.496 61.7456 679.496 Q63.7826 679.496 64.9603 677.937 Q66.1061 676.377 67.1565 671.666 L67.6021 669.661 Q68.9389 663.423 71.3897 660.813 Q73.8086 658.171 78.1691 658.171 Q83.1344 658.171 86.0308 662.118 Q88.9272 666.033 88.9272 672.908 Q88.9272 675.772 88.3543 678.891 Q87.8132 681.979 86.6992 685.416 L80.6518 685.416 Q82.3387 682.17 83.198 679.019 Q84.0256 675.868 84.0256 672.78 Q84.0256 668.643 82.6251 666.415 Q81.1929 664.187 78.6147 664.187 Q76.2276 664.187 74.9545 665.81 Q73.6813 667.401 72.5037 672.844 L72.0262 674.881 Q70.8804 680.324 68.5251 682.743 Q66.138 685.162 62.0002 685.162 Q56.9713 685.162 54.2341 681.597 Q51.4968 678.032 51.4968 671.475 Q51.4968 668.229 51.9743 665.364 Q52.4517 662.5 53.4065 660.081 Z\" fill=\"#000000\" fill-rule=\"evenodd\" fill-opacity=\"1\" /><path clip-path=\"url(#clip280)\" d=\"M 0 0 M70.0847 635.827 Q70.0847 642.925 71.7079 645.662 Q73.3312 648.4 77.2461 648.4 Q80.3653 648.4 82.2114 646.363 Q84.0256 644.294 84.0256 640.761 Q84.0256 635.891 80.5881 632.963 Q77.1188 630.003 71.3897 630.003 L70.0847 630.003 L70.0847 635.827 M67.6657 624.146 L88.0042 624.146 L88.0042 630.003 L82.5933 630.003 Q85.8398 632.008 87.3994 635 Q88.9272 637.992 88.9272 642.32 Q88.9272 647.795 85.8716 651.041 Q82.7843 654.256 77.6281 654.256 Q71.6125 654.256 68.5569 650.246 Q65.5014 646.203 65.5014 638.215 L65.5014 630.003 L64.9285 630.003 Q60.8862 630.003 58.6901 632.676 Q56.4621 635.318 56.4621 640.124 Q56.4621 643.18 57.1941 646.076 Q57.9262 648.973 59.3903 651.646 L53.9795 651.646 Q52.7381 648.431 52.1334 645.408 Q51.4968 642.384 51.4968 639.519 Q51.4968 631.785 55.5072 627.966 Q59.5176 624.146 67.6657 624.146 Z\" fill=\"#000000\" fill-rule=\"evenodd\" fill-opacity=\"1\" /><path clip-path=\"url(#clip280)\" d=\"M 0 0 M59.1993 590.249 Q55.2526 588.053 53.3747 584.997 Q51.4968 581.942 51.4968 577.804 Q51.4968 572.234 55.4117 569.21 Q59.2948 566.187 66.4881 566.187 L88.0042 566.187 L88.0042 572.075 L66.679 572.075 Q61.5546 572.075 59.072 573.889 Q56.5894 575.703 56.5894 579.427 Q56.5894 583.979 59.6131 586.62 Q62.6368 589.262 67.8567 589.262 L88.0042 589.262 L88.0042 595.151 L66.679 595.151 Q61.5228 595.151 59.072 596.965 Q56.5894 598.779 56.5894 602.567 Q56.5894 607.054 59.6449 609.696 Q62.6686 612.338 67.8567 612.338 L88.0042 612.338 L88.0042 618.226 L52.3562 618.226 L52.3562 612.338 L57.8944 612.338 Q54.616 610.333 53.0564 607.532 Q51.4968 604.731 51.4968 600.88 Q51.4968 596.997 53.4702 594.291 Q55.4436 591.554 59.1993 590.249 Z\" fill=\"#000000\" fill-rule=\"evenodd\" fill-opacity=\"1\" /><path clip-path=\"url(#clip280)\" d=\"M 0 0 M82.657 554.378 L101.563 554.378 L101.563 560.266 L52.3562 560.266 L52.3562 554.378 L57.7671 554.378 Q54.5842 552.532 53.0564 549.731 Q51.4968 546.898 51.4968 542.984 Q51.4968 536.491 56.6531 532.448 Q61.8093 528.374 70.212 528.374 Q78.6147 528.374 83.771 532.448 Q88.9272 536.491 88.9272 542.984 Q88.9272 546.898 87.3994 549.731 Q85.8398 552.532 82.657 554.378 M70.212 534.453 Q63.7508 534.453 60.0905 537.127 Q56.3984 539.769 56.3984 544.416 Q56.3984 549.063 60.0905 551.736 Q63.7508 554.378 70.212 554.378 Q76.6732 554.378 80.3653 551.736 Q84.0256 549.063 84.0256 544.416 Q84.0256 539.769 80.3653 537.127 Q76.6732 534.453 70.212 534.453 Z\" fill=\"#000000\" fill-rule=\"evenodd\" fill-opacity=\"1\" /><path clip-path=\"url(#clip280)\" d=\"M 0 0 M38.479 522.231 L38.479 516.375 L88.0042 516.375 L88.0042 522.231 L38.479 522.231 Z\" fill=\"#000000\" fill-rule=\"evenodd\" fill-opacity=\"1\" /><path clip-path=\"url(#clip280)\" d=\"M 0 0 M68.7161 479.74 L71.5806 479.74 L71.5806 506.667 Q77.6281 506.285 80.8109 503.039 Q83.9619 499.76 83.9619 493.936 Q83.9619 490.562 83.1344 487.411 Q82.3069 484.228 80.6518 481.109 L86.1899 481.109 Q87.5267 484.26 88.227 487.57 Q88.9272 490.88 88.9272 494.286 Q88.9272 502.816 83.9619 507.813 Q78.9967 512.778 70.5303 512.778 Q61.7774 512.778 56.6531 508.068 Q51.4968 503.325 51.4968 495.304 Q51.4968 488.111 56.1438 483.942 Q60.7589 479.74 68.7161 479.74 M66.9973 485.597 Q62.1912 485.66 59.3266 488.302 Q56.4621 490.912 56.4621 495.241 Q56.4621 500.142 59.2312 503.102 Q62.0002 506.031 67.0292 506.476 L66.9973 485.597 Z\" fill=\"#000000\" fill-rule=\"evenodd\" fill-opacity=\"1\" /><path clip-path=\"url(#clip280)\" d=\"M 0 0 M53.4065 450.872 L58.9447 450.872 Q57.6716 453.354 57.035 456.028 Q56.3984 458.702 56.3984 461.566 Q56.3984 465.927 57.7352 468.123 Q59.072 470.287 61.7456 470.287 Q63.7826 470.287 64.9603 468.728 Q66.1061 467.168 67.1565 462.457 L67.6021 460.452 Q68.9389 454.214 71.3897 451.604 Q73.8086 448.962 78.1691 448.962 Q83.1344 448.962 86.0308 452.909 Q88.9272 456.824 88.9272 463.699 Q88.9272 466.563 88.3543 469.682 Q87.8132 472.77 86.6992 476.207 L80.6518 476.207 Q82.3387 472.961 83.198 469.81 Q84.0256 466.659 84.0256 463.571 Q84.0256 459.434 82.6251 457.206 Q81.1929 454.978 78.6147 454.978 Q76.2276 454.978 74.9545 456.601 Q73.6813 458.192 72.5037 463.635 L72.0262 465.672 Q70.8804 471.115 68.5251 473.534 Q66.138 475.953 62.0002 475.953 Q56.9713 475.953 54.2341 472.388 Q51.4968 468.823 51.4968 462.266 Q51.4968 459.02 51.9743 456.155 Q52.4517 453.291 53.4065 450.872 Z\" fill=\"#000000\" fill-rule=\"evenodd\" fill-opacity=\"1\" /><path clip-path=\"url(#clip282)\" d=\"\n",
       "M320.729 1284.39 L320.729 1384.24 L512.105 1384.24 L512.105 1284.39 L320.729 1284.39 L320.729 1284.39  Z\n",
       "  \" fill=\"#009af9\" fill-rule=\"evenodd\" fill-opacity=\"1\"/>\n",
       "<polyline clip-path=\"url(#clip282)\" style=\"stroke:#000000; stroke-width:4; stroke-opacity:1; fill:none\" points=\"\n",
       "  320.729,1284.39 320.729,1384.24 512.105,1384.24 512.105,1284.39 320.729,1284.39 \n",
       "  \"/>\n",
       "<path clip-path=\"url(#clip282)\" d=\"\n",
       "M512.105 86.1857 L512.105 1384.24 L703.48 1384.24 L703.48 86.1857 L512.105 86.1857 L512.105 86.1857  Z\n",
       "  \" fill=\"#009af9\" fill-rule=\"evenodd\" fill-opacity=\"1\"/>\n",
       "<polyline clip-path=\"url(#clip282)\" style=\"stroke:#000000; stroke-width:4; stroke-opacity:1; fill:none\" points=\"\n",
       "  512.105,86.1857 512.105,1384.24 703.48,1384.24 703.48,86.1857 512.105,86.1857 \n",
       "  \"/>\n",
       "<path clip-path=\"url(#clip282)\" d=\"\n",
       "M703.48 518.87 L703.48 1384.24 L894.856 1384.24 L894.856 518.87 L703.48 518.87 L703.48 518.87  Z\n",
       "  \" fill=\"#009af9\" fill-rule=\"evenodd\" fill-opacity=\"1\"/>\n",
       "<polyline clip-path=\"url(#clip282)\" style=\"stroke:#000000; stroke-width:4; stroke-opacity:1; fill:none\" points=\"\n",
       "  703.48,518.87 703.48,1384.24 894.856,1384.24 894.856,518.87 703.48,518.87 \n",
       "  \"/>\n",
       "<path clip-path=\"url(#clip282)\" d=\"\n",
       "M894.856 984.837 L894.856 1384.24 L1086.23 1384.24 L1086.23 984.837 L894.856 984.837 L894.856 984.837  Z\n",
       "  \" fill=\"#009af9\" fill-rule=\"evenodd\" fill-opacity=\"1\"/>\n",
       "<polyline clip-path=\"url(#clip282)\" style=\"stroke:#000000; stroke-width:4; stroke-opacity:1; fill:none\" points=\"\n",
       "  894.856,984.837 894.856,1384.24 1086.23,1384.24 1086.23,984.837 894.856,984.837 \n",
       "  \"/>\n",
       "<path clip-path=\"url(#clip282)\" d=\"\n",
       "M1086.23 1084.69 L1086.23 1384.24 L1277.61 1384.24 L1277.61 1084.69 L1086.23 1084.69 L1086.23 1084.69  Z\n",
       "  \" fill=\"#009af9\" fill-rule=\"evenodd\" fill-opacity=\"1\"/>\n",
       "<polyline clip-path=\"url(#clip282)\" style=\"stroke:#000000; stroke-width:4; stroke-opacity:1; fill:none\" points=\"\n",
       "  1086.23,1084.69 1086.23,1384.24 1277.61,1384.24 1277.61,1084.69 1086.23,1084.69 \n",
       "  \"/>\n",
       "<path clip-path=\"url(#clip282)\" d=\"\n",
       "M1277.61 1251.1 L1277.61 1384.24 L1468.98 1384.24 L1468.98 1251.1 L1277.61 1251.1 L1277.61 1251.1  Z\n",
       "  \" fill=\"#009af9\" fill-rule=\"evenodd\" fill-opacity=\"1\"/>\n",
       "<polyline clip-path=\"url(#clip282)\" style=\"stroke:#000000; stroke-width:4; stroke-opacity:1; fill:none\" points=\"\n",
       "  1277.61,1251.1 1277.61,1384.24 1468.98,1384.24 1468.98,1251.1 1277.61,1251.1 \n",
       "  \"/>\n",
       "<path clip-path=\"url(#clip282)\" d=\"\n",
       "M1468.98 1284.39 L1468.98 1384.24 L1660.36 1384.24 L1660.36 1284.39 L1468.98 1284.39 L1468.98 1284.39  Z\n",
       "  \" fill=\"#009af9\" fill-rule=\"evenodd\" fill-opacity=\"1\"/>\n",
       "<polyline clip-path=\"url(#clip282)\" style=\"stroke:#000000; stroke-width:4; stroke-opacity:1; fill:none\" points=\"\n",
       "  1468.98,1284.39 1468.98,1384.24 1660.36,1384.24 1660.36,1284.39 1468.98,1284.39 \n",
       "  \"/>\n",
       "<path clip-path=\"url(#clip282)\" d=\"\n",
       "M1660.36 1384.24 L1660.36 1384.24 L1851.73 1384.24 L1851.73 1384.24 L1660.36 1384.24 L1660.36 1384.24  Z\n",
       "  \" fill=\"#009af9\" fill-rule=\"evenodd\" fill-opacity=\"1\"/>\n",
       "<polyline clip-path=\"url(#clip282)\" style=\"stroke:#000000; stroke-width:4; stroke-opacity:1; fill:none\" points=\"\n",
       "  1660.36,1384.24 1660.36,1384.24 1851.73,1384.24 1660.36,1384.24 \n",
       "  \"/>\n",
       "<path clip-path=\"url(#clip282)\" d=\"\n",
       "M1851.73 1284.39 L1851.73 1384.24 L2043.11 1384.24 L2043.11 1284.39 L1851.73 1284.39 L1851.73 1284.39  Z\n",
       "  \" fill=\"#009af9\" fill-rule=\"evenodd\" fill-opacity=\"1\"/>\n",
       "<polyline clip-path=\"url(#clip282)\" style=\"stroke:#000000; stroke-width:4; stroke-opacity:1; fill:none\" points=\"\n",
       "  1851.73,1284.39 1851.73,1384.24 2043.11,1384.24 2043.11,1284.39 1851.73,1284.39 \n",
       "  \"/>\n",
       "<path clip-path=\"url(#clip282)\" d=\"\n",
       "M2043.11 1350.95 L2043.11 1384.24 L2234.49 1384.24 L2234.49 1350.95 L2043.11 1350.95 L2043.11 1350.95  Z\n",
       "  \" fill=\"#009af9\" fill-rule=\"evenodd\" fill-opacity=\"1\"/>\n",
       "<polyline clip-path=\"url(#clip282)\" style=\"stroke:#000000; stroke-width:4; stroke-opacity:1; fill:none\" points=\"\n",
       "  2043.11,1350.95 2043.11,1384.24 2234.49,1384.24 2234.49,1350.95 2043.11,1350.95 \n",
       "  \"/>\n",
       "</svg>\n"
      ]
     },
     "execution_count": 5,
     "metadata": {},
     "output_type": "execute_result"
    }
   ],
   "source": [
    "using CSV\n",
    "quality = CSV.read(\"mendel.imputed.chr22.sample.error\") # import quality score \n",
    "\n",
    "# visualize error distribution\n",
    "histogram(quality[:error], label=:none, xlabel=\"error\", ylabel=\"Number of samples\") "
   ]
  },
  {
   "cell_type": "markdown",
   "metadata": {},
   "source": [
    "**Conclusion:** Most samples have small error, but some samples are indeed poorly imputed. From the histogram, we can safely [filtered out](https://openmendel.github.io/VCFTools.jl/dev/man/filter/#Subsetting-VCF-files-using-array-masks) samples with error $> 0.004$ as that would remove poorly imputed individuals without reducing sample size too much."
   ]
  }
 ],
 "metadata": {
  "@webio": {
   "lastCommId": null,
   "lastKernelId": null
  },
  "kernelspec": {
   "display_name": "Julia 1.5.0",
   "language": "julia",
   "name": "julia-1.5"
  },
  "language_info": {
   "file_extension": ".jl",
   "mimetype": "application/julia",
   "name": "julia",
   "version": "1.5.0"
  }
 },
 "nbformat": 4,
 "nbformat_minor": 2
}
