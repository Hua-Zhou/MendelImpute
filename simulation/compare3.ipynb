{
 "cells": [
  {
   "cell_type": "markdown",
   "metadata": {},
   "source": [
    "# Compare MendelImpute against Minimac4 and Beagle5 on simulated data\n",
    "\n",
    "In compare 3, we increase recombination and mutation rate by 3x. This supposedly increases number of unique haplotypes per window. "
   ]
  },
  {
   "cell_type": "code",
   "execution_count": 1,
   "metadata": {
    "collapsed": false,
    "scrolled": true
   },
   "outputs": [
    {
     "name": "stderr",
     "output_type": "stream",
     "text": [
      "┌ Info: Precompiling MendelImpute [e47305d1-6a61-5370-bc5d-77554d143183]\n",
      "└ @ Base loading.jl:1273\n"
     ]
    }
   ],
   "source": [
    "using Revise\n",
    "using VCFTools\n",
    "using MendelImpute\n",
    "using GeneticVariation\n",
    "using Random\n",
    "using SparseArrays\n",
    "using JLD2, FileIO, JLSO\n",
    "using ProgressMeter\n",
    "using GroupSlices\n",
    "using ThreadPools\n",
    "# using Plots\n",
    "# using ProfileView"
   ]
  },
  {
   "cell_type": "markdown",
   "metadata": {},
   "source": [
    "# Simulate data\n",
    "\n",
    "### Step 0. Install `msprime`\n",
    "\n",
    "[msprime download Link](https://msprime.readthedocs.io/en/stable/installation.html).\n",
    "\n",
    "Some people might need to activate conda environment via `conda config --set auto_activate_base True`. You can turn it off once simulation is done by executing `conda config --set auto_activate_base False`.\n",
    "\n",
    "\n",
    "### Step 1. Simulate data in terminal\n",
    "\n",
    "```\n",
    "python3 msprime_script.py 40000 10000 10000000 6e-8 6e-8 2020 > full.vcf\n",
    "```\n",
    "\n",
    "Arguments: \n",
    "+ Number of haplotypes = 40000\n",
    "+ Effective population size = 10000 ([source](https://www.the-scientist.com/the-nutshell/ancient-humans-more-diverse-43556))\n",
    "+ Sequence length = 10 million (same as Beagle 5's choice)\n",
    "+ Rrecombination rate = 2e-8 (default)\n",
    "+ mutation rate = 2e-8 (default)\n",
    "+ seed = 2019"
   ]
  },
  {
   "cell_type": "markdown",
   "metadata": {},
   "source": [
    "### Step 2: Convert simulated haplotypes to reference haplotypes and target genotype files"
   ]
  },
  {
   "cell_type": "code",
   "execution_count": 9,
   "metadata": {
    "collapsed": false
   },
   "outputs": [
    {
     "name": "stdout",
     "output_type": "stream",
     "text": [
      "filtering for unique snps\n",
      "755.465285 seconds (10.75 G allocations: 800.675 GiB, 6.46% gc time)\n",
      "summarizing data\n"
     ]
    },
    {
     "name": "stderr",
     "output_type": "stream",
     "text": [
      "\u001b[32mProgress: 100%|█████████████████████████████████████████| Time: 0:26:35\u001b[39m\n"
     ]
    },
    {
     "name": "stdout",
     "output_type": "stream",
     "text": [
      "generating complete target panel\n",
      "612.728196 seconds (12.09 G allocations: 949.884 GiB, 10.88% gc time)\n",
      "generating reference panel without target samples\n",
      "1765.728035 seconds (36.27 G allocations: 2.454 TiB, 13.02% gc time)\n",
      "generating target file with typed snps only\n",
      "538.035998 seconds (11.01 G allocations: 830.194 GiB, 12.75% gc time)\n",
      "unphasing and masking entries in target file with typed snps only\n",
      " 17.902879 seconds (106.60 M allocations: 7.939 GiB, 4.67% gc time)\n"
     ]
    },
    {
     "name": "stderr",
     "output_type": "stream",
     "text": [
      "\u001b[32mimporting reference data...100%|████████████████████████| Time: 0:19:49\u001b[39m\n",
      "\u001b[32mImporting genotype file...100%|█████████████████████████| Time: 0:00:14\u001b[39m\n"
     ]
    },
    {
     "name": "stdout",
     "output_type": "stream",
     "text": [
      "441.226699 seconds (14.22 M allocations: 38.447 GiB, 3.34% gc time)\n",
      "362.697065 seconds (5.41 M allocations: 20.743 GiB, 2.36% gc time)\n",
      "242.157296 seconds (4.88 M allocations: 11.718 GiB, 0.77% gc time)\n",
      "219.485904 seconds (4.28 M allocations: 7.015 GiB, 0.67% gc time)\n",
      "221.963330 seconds (3.65 M allocations: 4.597 GiB, 0.52% gc time)\n",
      "9622.542706 seconds (112.85 G allocations: 9.120 TiB, 10.33% gc time)\n"
     ]
    }
   ],
   "source": [
    "cd(\"./compare3/\")\n",
    "function filter_and_mask(maf)\n",
    "    # filter chromosome data for unique snps\n",
    "    println(\"filtering for unique snps\")\n",
    "    data = \"full.vcf\"\n",
    "    full_record_index = .!find_duplicate_marker(data)\n",
    "    @time VCFTools.filter(data, full_record_index, 1:nsamples(data), \n",
    "        des = \"full.uniqueSNPs.vcf.gz\")\n",
    "\n",
    "    # summarize data\n",
    "    println(\"summarizing data\")\n",
    "    total_snps, samples, _, _, _, maf_by_record, _ = gtstats(\"full.uniqueSNPs.vcf.gz\")\n",
    "\n",
    "    # generate target panel with all snps\n",
    "    println(\"generating complete target panel\")\n",
    "    n = 1000\n",
    "    sample_idx = falses(samples)\n",
    "    sample_idx[1:n] .= true\n",
    "    shuffle!(sample_idx)\n",
    "    @time VCFTools.filter(\"full.uniqueSNPs.vcf.gz\", 1:total_snps, \n",
    "        sample_idx, des = \"target.full.vcf.gz\", allow_multiallelic=false)\n",
    "\n",
    "    # also generate reference panel without target samples\n",
    "    println(\"generating reference panel without target samples\")\n",
    "    @time VCFTools.filter(\"full.uniqueSNPs.vcf.gz\", 1:total_snps, \n",
    "        .!sample_idx, des = \"ref.excludeTarget.vcf.gz\", allow_multiallelic=false)\n",
    "\n",
    "    # generate target file with 1000 samples and typed snps with certain maf\n",
    "    println(\"generating target file with typed snps only\")\n",
    "    my_maf = findall(x -> x > maf, maf_by_record)  \n",
    "    p = length(my_maf)\n",
    "    record_idx = falses(total_snps)\n",
    "    record_idx[my_maf] .= true\n",
    "    @time VCFTools.filter(\"full.uniqueSNPs.vcf.gz\", record_idx, sample_idx, \n",
    "        des = \"target.typedOnly.maf$maf.vcf.gz\", allow_multiallelic=false)\n",
    "\n",
    "    # unphase and mask 1% entries in target file\n",
    "    println(\"unphasing and masking entries in target file with typed snps only\")\n",
    "    masks = falses(p, n)\n",
    "    missingprop = 0.1\n",
    "    for j in 1:n, i in 1:p\n",
    "        rand() < missingprop && (masks[i, j] = true)\n",
    "    end\n",
    "    @time mask_gt(\"target.typedOnly.maf$maf.vcf.gz\", masks, \n",
    "        des=\"target.typedOnly.maf$maf.masked.vcf.gz\", unphase=true)\n",
    "\n",
    "    # finally compress reference file to jlso format\n",
    "    widths  = [32, 64, 128, 256, 512]\n",
    "    reffile = \"ref.excludeTarget.vcf.gz\"\n",
    "    tgtfile = \"target.typedOnly.maf$maf.masked.vcf.gz\"\n",
    "    H, H_sampleID, H_chr, H_pos, H_ids, H_ref, H_alt = convert_ht(Bool, reffile, trans=true, save_snp_info=true, msg=\"importing reference data...\")\n",
    "    X, X_sampleID, X_chr, X_pos, X_ids, X_ref, X_alt = VCFTools.convert_gt(UInt8, tgtfile, trans=true, save_snp_info=true, msg = \"Importing genotype file...\")\n",
    "    for width in widths\n",
    "        outfile = \"ref.excludeTarget.w$width.jlso\"\n",
    "        @time compress_haplotypes(H, X, outfile, X_pos, H_sampleID, H_chr, H_pos, H_ids, H_ref, H_alt, width)\n",
    "    end\n",
    "end\n",
    "Random.seed!(2020)\n",
    "maf = 0.1\n",
    "@time filter_and_mask(maf)"
   ]
  },
  {
   "cell_type": "code",
   "execution_count": 3,
   "metadata": {
    "collapsed": false
   },
   "outputs": [
    {
     "name": "stderr",
     "output_type": "stream",
     "text": [
      "\u001b[32mimporting reference data...100%|████████████████████████| Time: 0:18:48\u001b[39m\n",
      "\u001b[32mImporting genotype file...100%|█████████████████████████| Time: 0:00:24\u001b[39m\n"
     ]
    },
    {
     "name": "stdout",
     "output_type": "stream",
     "text": [
      "306.483058 seconds (17.76 M allocations: 5.282 GiB, 0.31% gc time)\n"
     ]
    }
   ],
   "source": [
    "widths  = [512]\n",
    "reffile = \"./compare3/ref.excludeTarget.vcf.gz\"\n",
    "tgtfile = \"./compare3/target.typedOnly.maf0.1.masked.vcf.gz\"\n",
    "H, H_sampleID, H_chr, H_pos, H_ids, H_ref, H_alt = convert_ht(Bool, reffile, trans=true, save_snp_info=true, msg=\"importing reference data...\")\n",
    "X, X_sampleID, X_chr, X_pos, X_ids, X_ref, X_alt = VCFTools.convert_gt(UInt8, tgtfile, trans=true, save_snp_info=true, msg = \"Importing genotype file...\")\n",
    "for width in widths\n",
    "    outfile = \"./compare3/ref.excludeTarget.w$width.jlso\"\n",
    "    @time compress_haplotypes(H, X, outfile, X_pos, H_sampleID, H_chr, H_pos, H_ids, H_ref, H_alt, width)\n",
    "end"
   ]
  },
  {
   "cell_type": "code",
   "execution_count": 19,
   "metadata": {
    "collapsed": false
   },
   "outputs": [
    {
     "name": "stdout",
     "output_type": "stream",
     "text": [
      "  0.755665 seconds (1.72 M allocations: 203.743 MiB)\n"
     ]
    }
   ],
   "source": [
    "# load jlso\n",
    "@time loaded = JLSO.load(\"ref.excludeTarget.w512.jlso\")\n",
    "compressed_Hunique = loaded[:compressed_Hunique];"
   ]
  },
  {
   "cell_type": "code",
   "execution_count": 13,
   "metadata": {
    "collapsed": false
   },
   "outputs": [
    {
     "name": "stdout",
     "output_type": "stream",
     "text": [
      "(nrecords(tgtfile), nsamples(tgtfile)) = (53267, 1000)\n",
      "(nrecords(reffile), nsamples(reffile)) = (268629, 19000)\n"
     ]
    }
   ],
   "source": [
    "tgtfile = \"./compare3/target.typedOnly.maf0.1.masked.vcf.gz\"\n",
    "reffile = \"./compare3/ref.excludeTarget.vcf.gz\"\n",
    "@show nrecords(tgtfile), nsamples(tgtfile)\n",
    "@show nrecords(reffile), nsamples(reffile);"
   ]
  },
  {
   "cell_type": "markdown",
   "metadata": {},
   "source": [
    "# MendelImpute with dynamic programming"
   ]
  },
  {
   "cell_type": "code",
   "execution_count": 5,
   "metadata": {
    "collapsed": false
   },
   "outputs": [
    {
     "name": "stderr",
     "output_type": "stream",
     "text": [
      "\u001b[32mImporting genotype file...100%|█████████████████████████| Time: 0:00:10\u001b[39m\n",
      "\u001b[32mComputing optimal haplotype pairs...100%|███████████████| Time: 0:00:11\u001b[39m\n",
      "\u001b[32mMerging breakpoints...100%|█████████████████████████████| Time: 0:00:15\u001b[39m\n",
      "\u001b[32mWriting to file...100%|█████████████████████████████████| Time: 0:00:18\u001b[39m\n"
     ]
    },
    {
     "name": "stdout",
     "output_type": "stream",
     "text": [
      "Total windows = 104, averaging ~ 1121 unique haplotypes per window.\n",
      "\n",
      "Timings: \n",
      "    Data import                     = 13.2537 seconds\n",
      "    Computing haplotype pair        = 11.8286 seconds\n",
      "        BLAS3 mul! to get M and N      = 0.196211 seconds per thread\n",
      "        haplopair search               = 10.0515 seconds per thread\n",
      "        supplying constant terms       = 0.00836884 seconds per thread\n",
      "        finding redundant happairs     = 0.214265 seconds per thread\n",
      "    Phasing by dynamic programming  = 15.8494 seconds\n",
      "    Imputation                      = 23.2537 seconds\n",
      "\n",
      " 64.185470 seconds (114.20 M allocations: 12.498 GiB, 4.24% gc time)\n",
      "error_rate = 0.00022427958262138486\n"
     ]
    }
   ],
   "source": [
    "# keep best pair only (1 thread)\n",
    "Random.seed!(2020)\n",
    "width   = 512\n",
    "tgtfile = \"./compare3/target.typedOnly.maf0.1.masked.vcf.gz\"\n",
    "reffile = \"./compare3/ref.excludeTarget.w$width.jlso\"\n",
    "outfile = \"./compare3/mendel.imputed.vcf.gz\"\n",
    "@time hs, ph = phase(tgtfile, reffile, outfile = outfile, width = width);\n",
    "\n",
    "# import imputed result and compare with true\n",
    "X_mendel = convert_gt(Float32, outfile)\n",
    "X_complete = convert_gt(Float32, \"./compare3/target.full.vcf.gz\")\n",
    "n, p = size(X_mendel)\n",
    "println(\"error_rate = \", sum(X_mendel .!= X_complete) / n / p)\n",
    "rm(outfile, force=true)"
   ]
  },
  {
   "cell_type": "markdown",
   "metadata": {},
   "source": [
    "# MendelImpute with intersecting haplotype sets"
   ]
  },
  {
   "cell_type": "code",
   "execution_count": 3,
   "metadata": {
    "collapsed": false
   },
   "outputs": [
    {
     "name": "stderr",
     "output_type": "stream",
     "text": [
      "\u001b[32mImporting genotype file...100%|█████████████████████████| Time: 0:00:11\u001b[39m\n",
      "\u001b[32mComputing optimal haplotype pairs...100%|███████████████| Time: 0:00:12\u001b[39m\n",
      "\u001b[32mWriting to file...100%|█████████████████████████████████| Time: 0:00:19\u001b[39m\n"
     ]
    },
    {
     "name": "stdout",
     "output_type": "stream",
     "text": [
      "Total windows = 104, averaging ~ 1121 unique haplotypes per window.\n",
      "\n",
      "Timings: \n",
      "    Data import                     = 14.1737 seconds\n",
      "    Computing haplotype pair        = 12.6018 seconds\n",
      "        BLAS3 mul! to get M and N      = 0.247583 seconds per thread\n",
      "        haplopair search               = 10.0533 seconds per thread\n",
      "        supplying constant terms       = 0.00820274 seconds per thread\n",
      "        finding redundant happairs     = 0.037361 seconds per thread\n",
      "    Phasing by dynamic programming  = 0.713093 seconds\n",
      "    Imputation                      = 23.6164 seconds\n",
      "\n",
      " 51.105105 seconds (113.78 M allocations: 12.547 GiB, 6.59% gc time)\n",
      "error_rate = 5.653894404550514e-5\n"
     ]
    }
   ],
   "source": [
    "# keep best pair only (8 thread)\n",
    "Random.seed!(2020)\n",
    "width   = 512\n",
    "tgtfile = \"./compare3/target.typedOnly.maf0.1.masked.vcf.gz\"\n",
    "reffile = \"./compare3/ref.excludeTarget.w$width.jlso\"\n",
    "outfile = \"./compare3/mendel.imputed.vcf.gz\"\n",
    "@time ph = phase(tgtfile, reffile, outfile = outfile, width = width,\n",
    "    dynamic_programming = false);\n",
    "\n",
    "# import imputed result and compare with true\n",
    "X_mendel = convert_gt(Float32, outfile)\n",
    "X_complete = convert_gt(Float32, \"./compare3/target.full.vcf.gz\")\n",
    "n, p = size(X_mendel)\n",
    "println(\"error_rate = \", sum(X_mendel .!= X_complete) / n / p)\n",
    "rm(outfile, force=true)"
   ]
  },
  {
   "cell_type": "code",
   "execution_count": 4,
   "metadata": {
    "collapsed": false
   },
   "outputs": [
    {
     "name": "stdout",
     "output_type": "stream",
     "text": [
      "Importing reference haplotype data...\n"
     ]
    },
    {
     "name": "stderr",
     "output_type": "stream",
     "text": [
      "\u001b[32mImporting genotype file...100%|█████████████████████████| Time: 0:00:11\u001b[39m\n",
      "\u001b[32mPhasing chunk 1/1...100%|███████████████████████████████| Time: 0:00:49\u001b[39m\n",
      "\u001b[32mWriting to file...100%|█████████████████████████████████| Time: 0:00:20\u001b[39m\n"
     ]
    },
    {
     "name": "stdout",
     "output_type": "stream",
     "text": [
      "Total windows = 104, averaging ~ 1121 unique haplotypes per window.\n",
      "\n",
      "Timings: \n",
      "    Data import                     = 14.8558 seconds\n",
      "    Computing haplotype pair        = 49.3342 seconds\n",
      "        BLAS3 mul! to get M and N      = 0.161058 seconds per thread\n",
      "        haplopair search               = 5.55582 seconds per thread\n",
      "        finding redundant happairs     = 0.101121 seconds per thread\n",
      "    Phasing by win-win intersection = 0.575759 seconds\n",
      "    Imputation                      = 21.7187 seconds\n",
      "\n",
      " 86.800236 seconds (114.83 M allocations: 12.303 GiB, 4.46% gc time)\n",
      "error_rate = 5.653894404550514e-5\n"
     ]
    }
   ],
   "source": [
    "# keep best pair only (8 thread)\n",
    "Random.seed!(2020)\n",
    "width   = 512\n",
    "tgtfile = \"./compare3/target.typedOnly.maf0.1.masked.vcf.gz\"\n",
    "reffile = \"./compare3/ref.excludeTarget.w$width.jlso\"\n",
    "outfile = \"./compare3/mendel.imputed.vcf.gz\"\n",
    "@time ph = phase(tgtfile, reffile, outfile = outfile, width = width,\n",
    "    dynamic_programming = false);\n",
    "\n",
    "# import imputed result and compare with true\n",
    "X_mendel = convert_gt(Float32, outfile)\n",
    "# X_complete = convert_gt(Float32, \"./compare3/target.full.vcf.gz\")\n",
    "n, p = size(X_mendel)\n",
    "println(\"error_rate = \", sum(X_mendel .!= X_complete) / n / p)\n",
    "rm(outfile, force=true)"
   ]
  },
  {
   "cell_type": "code",
   "execution_count": 26,
   "metadata": {
    "collapsed": false
   },
   "outputs": [
    {
     "name": "stdout",
     "output_type": "stream",
     "text": [
      "Importing reference haplotype data...\n"
     ]
    },
    {
     "name": "stderr",
     "output_type": "stream",
     "text": [
      "\u001b[32mImporting genotype file...100%|█████████████████████████| Time: 0:00:11\u001b[39m\n",
      "\u001b[32mPhasing chunk 1/1...100%|███████████████████████████████| Time: 0:00:45\u001b[39m\n",
      "\u001b[32mWriting to file...100%|█████████████████████████████████| Time: 0:00:21\u001b[39m\n"
     ]
    },
    {
     "name": "stdout",
     "output_type": "stream",
     "text": [
      "Total windows = 104, averaging ~ 1121 unique haplotypes per window.\n",
      "\n",
      "Timings: \n",
      "    Data import                     = 15.2176 seconds\n",
      "    Computing haplotype pair        = 45.5807 seconds\n",
      "        BLAS3 mul! to get M and N      = 0.165529 seconds per thread\n",
      "        haplopair search               = 5.04533 seconds per thread\n",
      "        finding redundant happairs     = 0.232799 seconds per thread\n",
      "    Phasing by win-win intersection = 0.470171 seconds\n",
      "    Imputation                      = 22.1072 seconds\n",
      "\n",
      " 83.877058 seconds (115.88 M allocations: 11.983 GiB, 5.76% gc time)\n",
      "error_rate = 9.576404632411245e-5\n"
     ]
    }
   ],
   "source": [
    "# keep best pair only (8 thread)\n",
    "Random.seed!(2020)\n",
    "width   = 512\n",
    "tgtfile = \"./compare3/target.typedOnly.maf0.1.masked.vcf.gz\"\n",
    "reffile = \"./compare3/ref.excludeTarget.w$width.jlso\"\n",
    "outfile = \"./compare3/mendel.imputed.vcf.gz\"\n",
    "@time ph = phase(tgtfile, reffile, outfile = outfile, width = width,\n",
    "    dynamic_programming = false, phase=true);\n",
    "\n",
    "# import imputed result and compare with true\n",
    "X_mendel = convert_gt(Float32, outfile)\n",
    "# X_complete = convert_gt(Float32, \"./compare3/target.full.vcf.gz\")\n",
    "n, p = size(X_mendel)\n",
    "println(\"error_rate = \", sum(X_mendel .!= X_complete) / n / p)\n",
    "rm(outfile, force=true)"
   ]
  },
  {
   "cell_type": "code",
   "execution_count": 20,
   "metadata": {
    "collapsed": false
   },
   "outputs": [],
   "source": [
    "p, n = nrecords(\"./compare3/ref.excludeTarget.vcf.gz\"), nsamples(tgtfile)\n",
    "X1 = BitArray(undef, p, n)\n",
    "X2 = BitArray(undef, p, n)\n",
    "loaded = JLSO.load(reffile)\n",
    "compressed_Hunique = loaded[:compressed_Hunique];"
   ]
  },
  {
   "cell_type": "code",
   "execution_count": 24,
   "metadata": {
    "collapsed": false
   },
   "outputs": [
    {
     "name": "stdout",
     "output_type": "stream",
     "text": [
      "X_idx = 1:2815, H_idx = 1:2815\n",
      "X_idx = 2816:5503, H_idx = 1:2688\n",
      "X_idx = 5504:8453, H_idx = 1:2950\n",
      "X_idx = 8454:10940, H_idx = 1:2487\n",
      "X_idx = 10941:13132, H_idx = 1:2192\n",
      "X_idx = 13133:15636, H_idx = 1:2504\n",
      "X_idx = 15637:18219, H_idx = 1:2583\n",
      "X_idx = 18220:20786, H_idx = 1:2567\n",
      "X_idx = 20787:23544, H_idx = 1:2758\n",
      "X_idx = 23545:26197, H_idx = 1:2653\n",
      "X_idx = 26198:28503, H_idx = 1:2306\n",
      "X_idx = 28504:31424, H_idx = 1:2921\n",
      "X_idx = 31425:33593, H_idx = 1:2169\n",
      "X_idx = 33594:35889, H_idx = 1:2296\n",
      "X_idx = 35890:38380, H_idx = 1:2491\n",
      "X_idx = 38381:40800, H_idx = 1:2420\n",
      "X_idx = 40801:43476, H_idx = 1:2676\n",
      "X_idx = 43477:46078, H_idx = 1:2602\n",
      "X_idx = 46079:48671, H_idx = 1:2593\n",
      "X_idx = 48672:51419, H_idx = 1:2748\n",
      "X_idx = 51420:54212, H_idx = 1:2793\n",
      "X_idx = 54213:56920, H_idx = 1:2708\n",
      "X_idx = 56921:60189, H_idx = 1:3269\n",
      "X_idx = 60190:63182, H_idx = 1:2993\n",
      "X_idx = 63183:66131, H_idx = 1:2949\n",
      "X_idx = 66132:68576, H_idx = 1:2445\n",
      "X_idx = 68577:71069, H_idx = 1:2493\n",
      "X_idx = 71070:73531, H_idx = 1:2462\n",
      "X_idx = 73532:76143, H_idx = 1:2612\n",
      "X_idx = 76144:79157, H_idx = 1:3014\n",
      "X_idx = 79158:81636, H_idx = 1:2479\n",
      "X_idx = 81637:84170, H_idx = 1:2534\n",
      "X_idx = 84171:86793, H_idx = 1:2623\n",
      "X_idx = 86794:89569, H_idx = 1:2776\n",
      "X_idx = 89570:92457, H_idx = 1:2888\n",
      "X_idx = 92458:94985, H_idx = 1:2528\n",
      "X_idx = 94986:97517, H_idx = 1:2532\n",
      "X_idx = 97518:99931, H_idx = 1:2414\n",
      "X_idx = 99932:102654, H_idx = 1:2723\n",
      "X_idx = 102655:105190, H_idx = 1:2536\n",
      "X_idx = 105191:107526, H_idx = 1:2336\n",
      "X_idx = 107527:109822, H_idx = 1:2296\n",
      "X_idx = 109823:112557, H_idx = 1:2735\n",
      "X_idx = 112558:114945, H_idx = 1:2388\n",
      "X_idx = 114946:117726, H_idx = 1:2781\n",
      "X_idx = 117727:120713, H_idx = 1:2987\n",
      "X_idx = 120714:123161, H_idx = 1:2448\n",
      "X_idx = 123162:125335, H_idx = 1:2174\n",
      "X_idx = 125336:127683, H_idx = 1:2348\n",
      "X_idx = 127684:130093, H_idx = 1:2410\n",
      "X_idx = 130094:132452, H_idx = 1:2359\n",
      "X_idx = 132453:135163, H_idx = 1:2711\n",
      "X_idx = 135164:137791, H_idx = 1:2628\n",
      "X_idx = 137792:140433, H_idx = 1:2642\n",
      "X_idx = 140434:143167, H_idx = 1:2734\n",
      "X_idx = 143168:145799, H_idx = 1:2632\n",
      "X_idx = 145800:148618, H_idx = 1:2819\n",
      "X_idx = 148619:150897, H_idx = 1:2279\n",
      "X_idx = 150898:153637, H_idx = 1:2740\n",
      "X_idx = 153638:156141, H_idx = 1:2504\n",
      "X_idx = 156142:158591, H_idx = 1:2450\n",
      "X_idx = 158592:161292, H_idx = 1:2701\n",
      "X_idx = 161293:163509, H_idx = 1:2217\n",
      "X_idx = 163510:166439, H_idx = 1:2930\n",
      "X_idx = 166440:168816, H_idx = 1:2377\n",
      "X_idx = 168817:171338, H_idx = 1:2522\n",
      "X_idx = 171339:174116, H_idx = 1:2778\n",
      "X_idx = 174117:176907, H_idx = 1:2791\n",
      "X_idx = 176908:179845, H_idx = 1:2938\n",
      "X_idx = 179846:182376, H_idx = 1:2531\n",
      "X_idx = 182377:184850, H_idx = 1:2474\n",
      "X_idx = 184851:187519, H_idx = 1:2669\n",
      "X_idx = 187520:190080, H_idx = 1:2561\n",
      "X_idx = 190081:192862, H_idx = 1:2782\n",
      "X_idx = 192863:195158, H_idx = 1:2296\n",
      "X_idx = 195159:197670, H_idx = 1:2512\n",
      "X_idx = 197671:200348, H_idx = 1:2678\n",
      "X_idx = 200349:202913, H_idx = 1:2565\n",
      "X_idx = 202914:205332, H_idx = 1:2419\n",
      "X_idx = 205333:208082, H_idx = 1:2750\n",
      "X_idx = 208083:210601, H_idx = 1:2519\n",
      "X_idx = 210602:213155, H_idx = 1:2554\n",
      "X_idx = 213156:215746, H_idx = 1:2591\n",
      "X_idx = 215747:218191, H_idx = 1:2445\n",
      "X_idx = 218192:220602, H_idx = 1:2411\n",
      "X_idx = 220603:223216, H_idx = 1:2614\n",
      "X_idx = 223217:225486, H_idx = 1:2270\n",
      "X_idx = 225487:227892, H_idx = 1:2406\n",
      "X_idx = 227893:230323, H_idx = 1:2431\n",
      "X_idx = 230324:232421, H_idx = 1:2098\n",
      "X_idx = 232422:234720, H_idx = 1:2299\n",
      "X_idx = 234721:236971, H_idx = 1:2251\n",
      "X_idx = 236972:239959, H_idx = 1:2988\n",
      "X_idx = 239960:242335, H_idx = 1:2376\n",
      "X_idx = 242336:245156, H_idx = 1:2821\n",
      "X_idx = 245157:247833, H_idx = 1:2677\n",
      "X_idx = 247834:250232, H_idx = 1:2399\n",
      "X_idx = 250233:252621, H_idx = 1:2389\n",
      "X_idx = 252622:255150, H_idx = 1:2529\n",
      "X_idx = 255151:258096, H_idx = 1:2946\n",
      "X_idx = 258097:261091, H_idx = 1:2995\n",
      "X_idx = 261092:263546, H_idx = 1:2455\n",
      "X_idx = 263547:265996, H_idx = 1:2450\n"
     ]
    }
   ],
   "source": [
    "fill!(X1, 0)\n",
    "fill!(X2, 0)\n",
    "impute!(X1, X2, compressed_Hunique, ph)"
   ]
  },
  {
   "cell_type": "code",
   "execution_count": 25,
   "metadata": {
    "collapsed": false
   },
   "outputs": [
    {
     "data": {
      "text/plain": [
       "104-element Array{Int64,1}:\n",
       "      1\n",
       "   2816\n",
       "   5504\n",
       "   8454\n",
       "  10941\n",
       "  13133\n",
       "  15637\n",
       "  18220\n",
       "  20787\n",
       "  23545\n",
       "  26198\n",
       "  28504\n",
       "  31425\n",
       "      ⋮\n",
       " 236972\n",
       " 239960\n",
       " 242336\n",
       " 245157\n",
       " 247834\n",
       " 250233\n",
       " 252622\n",
       " 255151\n",
       " 258097\n",
       " 261092\n",
       " 263547\n",
       " 265997"
      ]
     },
     "execution_count": 25,
     "metadata": {},
     "output_type": "execute_result"
    }
   ],
   "source": [
    "ph[10].strand1.start"
   ]
  },
  {
   "cell_type": "markdown",
   "metadata": {},
   "source": [
    "# Rescreen"
   ]
  },
  {
   "cell_type": "code",
   "execution_count": 3,
   "metadata": {
    "collapsed": false
   },
   "outputs": [
    {
     "name": "stdout",
     "output_type": "stream",
     "text": [
      "Importing reference haplotype data...\n"
     ]
    },
    {
     "name": "stderr",
     "output_type": "stream",
     "text": [
      "\u001b[32mImporting genotype file...100%|█████████████████████████| Time: 0:00:10\u001b[39m\n",
      "\u001b[32mPhasing chunk 1/1...100%|███████████████████████████████| Time: 0:00:59\u001b[39m\n",
      "\u001b[32mWriting to file...100%|█████████████████████████████████| Time: 0:00:18\u001b[39m\n"
     ]
    },
    {
     "name": "stdout",
     "output_type": "stream",
     "text": [
      "Total windows = 104, averaging ~ 1121 unique haplotypes per window.\n",
      "\n",
      "Timings: \n",
      "    Data import                     = 12.9162 seconds\n",
      "    Computing haplotype pair        = 59.496 seconds\n",
      "        BLAS3 mul! to get M and N      = 0.15399 seconds per thread\n",
      "        haplopair search               = 6.85875 seconds per thread\n",
      "        min least sq on observed data  = 0.0444183 seconds per thread\n",
      "        finding redundant happairs     = 0.161845 seconds per thread\n",
      "    Phasing by win-win intersection = 0.421163 seconds\n",
      "    Imputation                      = 19.8151 seconds\n",
      "\n",
      " 92.915733 seconds (114.89 M allocations: 12.381 GiB, 3.51% gc time)\n",
      "error_rate = 5.5585956840102895e-5\n"
     ]
    }
   ],
   "source": [
    "# keep best pair only (8 thread)\n",
    "Random.seed!(2020)\n",
    "width   = 512\n",
    "tgtfile = \"./compare3/target.typedOnly.maf0.1.masked.vcf.gz\"\n",
    "reffile = \"./compare3/ref.excludeTarget.w$width.jlso\"\n",
    "outfile = \"./compare3/mendel.imputed.vcf.gz\"\n",
    "@time ph = phase(tgtfile, reffile, outfile = outfile, width = width,\n",
    "    dynamic_programming = false, rescreen=true);\n",
    "\n",
    "# import imputed result and compare with true\n",
    "X_mendel = convert_gt(Float32, outfile)\n",
    "X_complete = convert_gt(Float32, \"./compare3/target.full.vcf.gz\")\n",
    "n, p = size(X_mendel)\n",
    "println(\"error_rate = \", sum(X_mendel .!= X_complete) / n / p)\n",
    "rm(outfile, force=true)"
   ]
  },
  {
   "cell_type": "markdown",
   "metadata": {},
   "source": [
    "# Screen flanking window"
   ]
  },
  {
   "cell_type": "code",
   "execution_count": 7,
   "metadata": {
    "collapsed": false
   },
   "outputs": [
    {
     "name": "stdout",
     "output_type": "stream",
     "text": [
      "Importing reference haplotype data...\n"
     ]
    },
    {
     "name": "stderr",
     "output_type": "stream",
     "text": [
      "\u001b[32mImporting genotype file...100%|█████████████████████████| Time: 0:00:12\u001b[39m\n",
      "\u001b[32mPhasing chunk 1/1...100%|███████████████████████████████| Time: 0:00:16\u001b[39m\n",
      "\u001b[32mWriting to file...100%|█████████████████████████████████| Time: 0:00:22\u001b[39m\n"
     ]
    },
    {
     "name": "stdout",
     "output_type": "stream",
     "text": [
      "Total windows = 104, averaging ~ 1121 unique haplotypes per window.\n",
      "\n",
      "Timings: \n",
      "    Data import                     = 15.6027 seconds\n",
      "    Computing haplotype pair        = 16.4674 seconds\n",
      "        BLAS3 mul! to get M and N      = 0.464205 seconds per thread\n",
      "        haplopair search               = 13.4272 seconds per thread\n",
      "        finding redundant happairs     = 0.0686898 seconds per thread\n",
      "    Phasing by win-win intersection = 0.483795 seconds\n",
      "    Imputation                      = 23.8809 seconds\n",
      "\n",
      " 58.295416 seconds (115.12 M allocations: 12.317 GiB, 5.18% gc time)\n",
      "error_rate = 7.0186018635367e-5\n"
     ]
    }
   ],
   "source": [
    "# keep best pair only (8 thread)\n",
    "Random.seed!(2020)\n",
    "width   = 512\n",
    "tgtfile = \"./compare3/target.typedOnly.maf0.1.masked.vcf.gz\"\n",
    "reffile = \"./compare3/ref.excludeTarget.w$width.jlso\"\n",
    "outfile = \"./compare3/mendel.imputed.vcf.gz\"\n",
    "@time ph = phase(tgtfile, reffile, outfile = outfile, width = width,\n",
    "    dynamic_programming = false);\n",
    "\n",
    "# import imputed result and compare with true\n",
    "X_mendel = convert_gt(Float32, outfile)\n",
    "X_complete = convert_gt(Float32, \"./compare3/target.full.vcf.gz\")\n",
    "n, p = size(X_mendel)\n",
    "println(\"error_rate = \", sum(X_mendel .!= X_complete) / n / p)\n",
    "rm(outfile, force=true)"
   ]
  },
  {
   "cell_type": "markdown",
   "metadata": {},
   "source": [
    "# Try Lasso"
   ]
  },
  {
   "cell_type": "code",
   "execution_count": 4,
   "metadata": {
    "collapsed": false
   },
   "outputs": [
    {
     "name": "stderr",
     "output_type": "stream",
     "text": [
      "\u001b[32mImporting genotype file...100%|█████████████████████████| Time: 0:00:10\u001b[39m\n",
      "\u001b[32mWriting to file...100%|█████████████████████████████████| Time: 0:00:18\u001b[39m\n"
     ]
    },
    {
     "name": "stdout",
     "output_type": "stream",
     "text": [
      "Total windows = 104, averaging ~ 1121 unique haplotypes per window.\n",
      "\n",
      "Timings: \n",
      "    Data import                     = 14.3485 seconds\n",
      "    Computing haplotype pair        = 2.4625 seconds\n",
      "        BLAS3 mul! to get M and N      = 0.4368 seconds per thread\n",
      "        haplopair search               = 0.908126 seconds per thread\n",
      "        finding redundant happairs     = 0.036215 seconds per thread\n",
      "    Phasing by win-win intersection = 0.340282 seconds\n",
      "    Imputation                      = 22.7459 seconds\n",
      "\n",
      " 39.897038 seconds (114.20 M allocations: 12.559 GiB, 9.03% gc time)\n",
      "error_rate = 5.993396096475065e-5\n"
     ]
    }
   ],
   "source": [
    "# keep best pair only (8 thread)\n",
    "Random.seed!(2020)\n",
    "width   = 512\n",
    "tgtfile = \"./compare3/target.typedOnly.maf0.1.masked.vcf.gz\"\n",
    "reffile = \"./compare3/ref.excludeTarget.w$width.jlso\"\n",
    "outfile = \"./compare3/mendel.imputed.vcf.gz\"\n",
    "@time hs, ph = phase(tgtfile, reffile, outfile = outfile, width = width,\n",
    "    dynamic_programming = false, lasso=20);\n",
    "\n",
    "# import imputede result and compare with true\n",
    "X_mendel = convert_gt(Float32, outfile)\n",
    "# X_complete = convert_gt(Float32, \"./compare3/target.full.vcf.gz\")\n",
    "n, p = size(X_mendel)\n",
    "println(\"error_rate = \", sum(X_mendel .!= X_complete) / n / p)\n",
    "rm(outfile, force=true)"
   ]
  },
  {
   "cell_type": "code",
   "execution_count": 3,
   "metadata": {
    "collapsed": false
   },
   "outputs": [
    {
     "name": "stdout",
     "output_type": "stream",
     "text": [
      "Importing reference haplotype data...\n"
     ]
    },
    {
     "name": "stderr",
     "output_type": "stream",
     "text": [
      "\u001b[32mImporting genotype file...100%|█████████████████████████| Time: 0:00:12\u001b[39m\n",
      "\u001b[32mWriting to file...100%|█████████████████████████████████| Time: 0:00:23\u001b[39m\n"
     ]
    },
    {
     "name": "stdout",
     "output_type": "stream",
     "text": [
      "Total windows = 104, averaging ~ 1121 unique haplotypes per window.\n",
      "\n",
      "Timings: \n",
      "    Data import                     = 15.1416 seconds\n",
      "    Computing haplotype pair        = 1.77739 seconds\n",
      "        BLAS3 mul! to get M and N      = 0.485756 seconds per thread\n",
      "        haplopair search               = 0.869748 seconds per thread\n",
      "        finding redundant happairs     = 0.0845157 seconds per thread\n",
      "    Phasing by win-win intersection = 0.347785 seconds\n",
      "    Imputation                      = 24.1779 seconds\n",
      "\n",
      " 41.781483 seconds (114.58 M allocations: 12.292 GiB, 5.60% gc time)\n",
      "error_rate = 6.035461547338523e-5\n"
     ]
    }
   ],
   "source": [
    "# don't scale by freq (8 thread)\n",
    "Random.seed!(2020)\n",
    "width   = 512\n",
    "tgtfile = \"./compare3/target.typedOnly.maf0.1.masked.vcf.gz\"\n",
    "reffile = \"./compare3/ref.excludeTarget.w$width.jlso\"\n",
    "outfile = \"./compare3/mendel.imputed.vcf.gz\"\n",
    "@time hs, ph = phase(tgtfile, reffile, outfile = outfile, width = width,\n",
    "    dynamic_programming = false, lasso=20);\n",
    "\n",
    "# import imputede result and compare with true\n",
    "X_mendel = convert_gt(Float32, outfile)\n",
    "X_complete = convert_gt(Float32, \"./compare3/target.full.vcf.gz\")\n",
    "n, p = size(X_mendel)\n",
    "println(\"error_rate = \", sum(X_mendel .!= X_complete) / n / p)\n",
    "rm(outfile, force=true)"
   ]
  },
  {
   "cell_type": "code",
   "execution_count": 4,
   "metadata": {
    "collapsed": false
   },
   "outputs": [
    {
     "name": "stdout",
     "output_type": "stream",
     "text": [
      "Importing reference haplotype data...\n"
     ]
    },
    {
     "name": "stderr",
     "output_type": "stream",
     "text": [
      "\u001b[32mImporting genotype file...100%|█████████████████████████| Time: 0:00:12\u001b[39m\n",
      "\u001b[32mWriting to file...100%|█████████████████████████████████| Time: 0:00:19\u001b[39m\n"
     ]
    },
    {
     "name": "stdout",
     "output_type": "stream",
     "text": [
      "Total windows = 104, averaging ~ 1121 unique haplotypes per window.\n",
      "\n",
      "Timings: \n",
      "    Data import                     = 15.6344 seconds\n",
      "    Computing haplotype pair        = 2.42811 seconds\n",
      "        BLAS3 mul! to get M and N      = 0.544011 seconds per thread\n",
      "        haplopair search               = 0.805418 seconds per thread\n",
      "        finding redundant happairs     = 0.104421 seconds per thread\n",
      "    Phasing by win-win intersection = 0.318034 seconds\n",
      "    Imputation                      = 21.0491 seconds\n",
      "\n",
      " 39.759845 seconds (115.10 M allocations: 12.337 GiB, 7.71% gc time)\n",
      "error_rate = 6.035461547338523e-5\n"
     ]
    }
   ],
   "source": [
    "# scale by freq (8 thread)\n",
    "Random.seed!(2020)\n",
    "width   = 512\n",
    "tgtfile = \"./compare3/target.typedOnly.maf0.1.masked.vcf.gz\"\n",
    "reffile = \"./compare3/ref.excludeTarget.w$width.jlso\"\n",
    "outfile = \"./compare3/mendel.imputed.vcf.gz\"\n",
    "@time hs, ph = phase(tgtfile, reffile, outfile = outfile, width = width,\n",
    "    dynamic_programming = false, lasso=20, scale_allelefreq=true);\n",
    "\n",
    "# import imputede result and compare with true\n",
    "X_mendel = convert_gt(Float32, outfile)\n",
    "X_complete = convert_gt(Float32, \"./compare3/target.full.vcf.gz\")\n",
    "n, p = size(X_mendel)\n",
    "println(\"error_rate = \", sum(X_mendel .!= X_complete) / n / p)\n",
    "rm(outfile, force=true)"
   ]
  },
  {
   "cell_type": "code",
   "execution_count": 5,
   "metadata": {
    "collapsed": false
   },
   "outputs": [
    {
     "name": "stdout",
     "output_type": "stream",
     "text": [
      "Importing reference haplotype data...\n"
     ]
    },
    {
     "name": "stderr",
     "output_type": "stream",
     "text": [
      "\u001b[32mImporting genotype file...100%|█████████████████████████| Time: 0:00:11\u001b[39m\n",
      "\u001b[32mWriting to file...100%|█████████████████████████████████| Time: 0:00:19\u001b[39m\n"
     ]
    },
    {
     "name": "stdout",
     "output_type": "stream",
     "text": [
      "Total windows = 104, averaging ~ 1121 unique haplotypes per window.\n",
      "\n",
      "Timings: \n",
      "    Data import                     = 14.6538 seconds\n",
      "    Computing haplotype pair        = 2.1804 seconds\n",
      "        BLAS3 mul! to get M and N      = 0.383983 seconds per thread\n",
      "        haplopair search               = 0.754094 seconds per thread\n",
      "        finding redundant happairs     = 0.147092 seconds per thread\n",
      "    Phasing by win-win intersection = 0.317996 seconds\n",
      "    Imputation                      = 20.9341 seconds\n",
      "\n",
      " 38.375788 seconds (115.53 M allocations: 12.346 GiB, 7.78% gc time)\n",
      "error_rate = 0.00011081454347817994\n"
     ]
    }
   ],
   "source": [
    "# use M = H'H and N = H'X (8 thread)\n",
    "Random.seed!(2020)\n",
    "width   = 512\n",
    "tgtfile = \"./compare3/target.typedOnly.maf0.1.masked.vcf.gz\"\n",
    "reffile = \"./compare3/ref.excludeTarget.w$width.jlso\"\n",
    "outfile = \"./compare3/mendel.imputed.vcf.gz\"\n",
    "@time hs, ph = phase(tgtfile, reffile, outfile = outfile, width = width,\n",
    "    dynamic_programming = false, lasso=20, scale_allelefreq=false);\n",
    "\n",
    "# import imputede result and compare with true\n",
    "X_mendel = convert_gt(Float32, outfile)\n",
    "X_complete = convert_gt(Float32, \"./compare3/target.full.vcf.gz\")\n",
    "n, p = size(X_mendel)\n",
    "println(\"error_rate = \", sum(X_mendel .!= X_complete) / n / p)\n",
    "rm(outfile, force=true)"
   ]
  },
  {
   "cell_type": "markdown",
   "metadata": {},
   "source": [
    "# Beagle 5.1 Error"
   ]
  },
  {
   "cell_type": "code",
   "execution_count": null,
   "metadata": {
    "collapsed": true
   },
   "outputs": [],
   "source": [
    "# convert to bref3 (run in terminal)\n",
    "java -jar ../bref3.18May20.d20.jar ref.excludeTarget.vcf.gz > ref.excludeTarget.bref3 "
   ]
  },
  {
   "cell_type": "code",
   "execution_count": 3,
   "metadata": {
    "collapsed": false
   },
   "outputs": [
    {
     "name": "stdout",
     "output_type": "stream",
     "text": [
      "beagle.18May20.d20.jar (version 5.1)\n",
      "Copyright (C) 2014-2018 Brian L. Browning\n",
      "Enter \"java -jar beagle.18May20.d20.jar\" to list command line argument\n",
      "Start time: 06:29 PM PDT on 30 Jun 2020\n",
      "\n",
      "Command line: java -Xmx3641m -jar beagle.18May20.d20.jar\n",
      "  gt=./compare3/target.typedOnly.maf0.1.masked.vcf.gz\n",
      "  ref=compare3/ref.excludeTarget.bref3\n",
      "  out=compare3/beagle.result\n",
      "  nthreads=8\n",
      "\n",
      "No genetic map is specified: using 1 cM = 1 Mb\n",
      "\n",
      "Reference samples:      19,000\n",
      "Study samples:           1,000\n",
      "\n",
      "Window 1 (1:7-9999996)\n",
      "Reference markers:     268,629\n",
      "Study markers:          53,267\n",
      "\n",
      "Burnin  iteration 1:           32 seconds\n",
      "Burnin  iteration 2:           49 seconds\n",
      "Burnin  iteration 3:           50 seconds\n",
      "Burnin  iteration 4:           50 seconds\n",
      "Burnin  iteration 5:           49 seconds\n",
      "Burnin  iteration 6:           1 minute 27 seconds\n",
      "\n",
      "Phasing iteration 1:           1 minute 45 seconds\n",
      "Phasing iteration 2:           52 seconds\n",
      "Phasing iteration 3:           51 seconds\n",
      "Phasing iteration 4:           52 seconds\n",
      "Phasing iteration 5:           51 seconds\n",
      "Phasing iteration 6:           50 seconds\n",
      "Phasing iteration 7:           47 seconds\n",
      "Phasing iteration 8:           44 seconds\n",
      "Phasing iteration 9:           39 seconds\n",
      "Phasing iteration 10:          33 seconds\n",
      "Phasing iteration 11:          25 seconds\n",
      "Phasing iteration 12:          17 seconds\n",
      "\n",
      "Imputation time:               24 seconds\n",
      "\n",
      "Cumulative Statistics:\n",
      "\n",
      "Reference markers:     268,629\n",
      "Study markers:          53,267\n",
      "\n",
      "Haplotype phasing time:        14 minutes 44 seconds\n",
      "Imputation time:               24 seconds\n",
      "Total time:                    15 minutes 13 seconds\n",
      "\n",
      "End time: 06:44 PM PDT on 30 Jun 2020\n",
      "beagle.18May20.d20.jar finished\n"
     ]
    },
    {
     "data": {
      "text/plain": [
       "1.9781929724638815e-5"
      ]
     },
     "execution_count": 3,
     "metadata": {},
     "output_type": "execute_result"
    }
   ],
   "source": [
    "# run beagle 5 (8 thread)\n",
    "run(`java -jar beagle.18May20.d20.jar gt=./compare3/target.typedOnly.maf0.1.masked.vcf.gz ref=compare3/ref.excludeTarget.bref3 out=compare3/beagle.result nthreads=8`)\n",
    "\n",
    "# beagle 5 error rate\n",
    "X_complete = convert_gt(Float32, \"compare3/target.full.vcf.gz\")\n",
    "n, p = size(X_complete)\n",
    "X_beagle = convert_gt(Float32, \"compare3/beagle.result.vcf.gz\")\n",
    "error_rate = sum(X_beagle .!= X_complete) / n / p"
   ]
  },
  {
   "cell_type": "markdown",
   "metadata": {},
   "source": [
    "# Minimac4 error\n",
    "\n",
    "Need to first convert reference vcf file to m3vcf using minimac3 (on Hoffman)\n",
    "\n",
    "```Julia\n",
    "minimac3 = \"/u/home/b/biona001/haplotype_comparisons/minimac3/Minimac3/bin/Minimac3\"\n",
    "@time run(`$minimac3 --refHaps haplo_ref.vcf.gz --processReference --prefix haplo_ref`)\n",
    "```"
   ]
  },
  {
   "cell_type": "code",
   "execution_count": null,
   "metadata": {
    "collapsed": true
   },
   "outputs": [],
   "source": [
    "# use eagle 2.4 for prephasing"
   ]
  },
  {
   "cell_type": "code",
   "execution_count": null,
   "metadata": {
    "collapsed": true
   },
   "outputs": [],
   "source": [
    "# run minimac 4\n",
    "minimac4 = \"/Users/biona001/Benjamin_Folder/UCLA/research/softwares/Minimac4/build/minimac4\"\n",
    "run(`$minimac4 --refHaps haplo_ref.m3vcf.gz --haps target_masked.vcf.gz --prefix minimac4.result`)\n",
    "    \n",
    "X_minimac = convert_gt(Float32, \"minimac4.result.dose.vcf.gz\", as_minorallele=false)\n",
    "error_rate = sum(X_minimac .!= X_complete) / n / p"
   ]
  }
 ],
 "metadata": {
  "@webio": {
   "lastCommId": null,
   "lastKernelId": null
  },
  "kernelspec": {
   "display_name": "Julia 1.3.1",
   "language": "julia",
   "name": "julia-1.3"
  },
  "language_info": {
   "file_extension": ".jl",
   "mimetype": "application/julia",
   "name": "julia",
   "version": "1.3.1"
  }
 },
 "nbformat": 4,
 "nbformat_minor": 2
}
