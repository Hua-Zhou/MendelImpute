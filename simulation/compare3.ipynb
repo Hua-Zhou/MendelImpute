{
 "cells": [
  {
   "cell_type": "markdown",
   "metadata": {},
   "source": [
    "# Compare MendelImpute against Minimac4 and Beagle5 on simulated data\n",
    "\n",
    "In compare 3, we increase recombination and mutation rate by 3x. This supposedly increases number of unique haplotypes per window. "
   ]
  },
  {
   "cell_type": "code",
   "execution_count": 1,
   "metadata": {
    "collapsed": false,
    "scrolled": true
   },
   "outputs": [
    {
     "name": "stderr",
     "output_type": "stream",
     "text": [
      "┌ Info: Precompiling MendelImpute [e47305d1-6a61-5370-bc5d-77554d143183]\n",
      "└ @ Base loading.jl:1273\n",
      "┌ Warning: Package MendelImpute does not have Lasso in its dependencies:\n",
      "│ - If you have MendelImpute checked out for development and have\n",
      "│   added Lasso as a dependency but haven't updated your primary\n",
      "│   environment's manifest file, try `Pkg.resolve()`.\n",
      "│ - Otherwise you may need to report an issue with MendelImpute\n",
      "└ Loading Lasso into MendelImpute from project dependency, future warnings for MendelImpute are suppressed.\n"
     ]
    }
   ],
   "source": [
    "using Revise\n",
    "using VCFTools\n",
    "using MendelImpute\n",
    "using GeneticVariation\n",
    "using Random\n",
    "using SparseArrays\n",
    "using JLD2, FileIO, JLSO\n",
    "using ProgressMeter\n",
    "using GroupSlices\n",
    "using ThreadPools\n",
    "# using Plots\n",
    "# using ProfileView"
   ]
  },
  {
   "cell_type": "markdown",
   "metadata": {},
   "source": [
    "# Simulate data\n",
    "\n",
    "### Step 0. Install `msprime`\n",
    "\n",
    "[msprime download Link](https://msprime.readthedocs.io/en/stable/installation.html).\n",
    "\n",
    "Some people might need to activate conda environment via `conda config --set auto_activate_base True`. You can turn it off once simulation is done by executing `conda config --set auto_activate_base False`.\n",
    "\n",
    "\n",
    "### Step 1. Simulate data in terminal\n",
    "\n",
    "```\n",
    "python3 msprime_script.py 40000 10000 10000000 6e-8 6e-8 2020 > full.vcf\n",
    "```\n",
    "\n",
    "Arguments: \n",
    "+ Number of haplotypes = 40000\n",
    "+ Effective population size = 10000 ([source](https://www.the-scientist.com/the-nutshell/ancient-humans-more-diverse-43556))\n",
    "+ Sequence length = 10 million (same as Beagle 5's choice)\n",
    "+ Rrecombination rate = 2e-8 (default)\n",
    "+ mutation rate = 2e-8 (default)\n",
    "+ seed = 2019"
   ]
  },
  {
   "cell_type": "markdown",
   "metadata": {},
   "source": [
    "### Step 2: Convert simulated haplotypes to reference haplotypes and target genotype files"
   ]
  },
  {
   "cell_type": "code",
   "execution_count": 9,
   "metadata": {
    "collapsed": false
   },
   "outputs": [
    {
     "name": "stdout",
     "output_type": "stream",
     "text": [
      "filtering for unique snps\n",
      "755.465285 seconds (10.75 G allocations: 800.675 GiB, 6.46% gc time)\n",
      "summarizing data\n"
     ]
    },
    {
     "name": "stderr",
     "output_type": "stream",
     "text": [
      "\u001b[32mProgress: 100%|█████████████████████████████████████████| Time: 0:26:35\u001b[39m\n"
     ]
    },
    {
     "name": "stdout",
     "output_type": "stream",
     "text": [
      "generating complete target panel\n",
      "612.728196 seconds (12.09 G allocations: 949.884 GiB, 10.88% gc time)\n",
      "generating reference panel without target samples\n",
      "1765.728035 seconds (36.27 G allocations: 2.454 TiB, 13.02% gc time)\n",
      "generating target file with typed snps only\n",
      "538.035998 seconds (11.01 G allocations: 830.194 GiB, 12.75% gc time)\n",
      "unphasing and masking entries in target file with typed snps only\n",
      " 17.902879 seconds (106.60 M allocations: 7.939 GiB, 4.67% gc time)\n"
     ]
    },
    {
     "name": "stderr",
     "output_type": "stream",
     "text": [
      "\u001b[32mimporting reference data...100%|████████████████████████| Time: 0:19:49\u001b[39m\n",
      "\u001b[32mImporting genotype file...100%|█████████████████████████| Time: 0:00:14\u001b[39m\n"
     ]
    },
    {
     "name": "stdout",
     "output_type": "stream",
     "text": [
      "441.226699 seconds (14.22 M allocations: 38.447 GiB, 3.34% gc time)\n",
      "362.697065 seconds (5.41 M allocations: 20.743 GiB, 2.36% gc time)\n",
      "242.157296 seconds (4.88 M allocations: 11.718 GiB, 0.77% gc time)\n",
      "219.485904 seconds (4.28 M allocations: 7.015 GiB, 0.67% gc time)\n",
      "221.963330 seconds (3.65 M allocations: 4.597 GiB, 0.52% gc time)\n",
      "9622.542706 seconds (112.85 G allocations: 9.120 TiB, 10.33% gc time)\n"
     ]
    }
   ],
   "source": [
    "cd(\"./compare3/\")\n",
    "function filter_and_mask(maf)\n",
    "    # filter chromosome data for unique snps\n",
    "    println(\"filtering for unique snps\")\n",
    "    data = \"full.vcf\"\n",
    "    full_record_index = .!find_duplicate_marker(data)\n",
    "    @time VCFTools.filter(data, full_record_index, 1:nsamples(data), \n",
    "        des = \"full.uniqueSNPs.vcf.gz\")\n",
    "\n",
    "    # summarize data\n",
    "    println(\"summarizing data\")\n",
    "    total_snps, samples, _, _, _, maf_by_record, _ = gtstats(\"full.uniqueSNPs.vcf.gz\")\n",
    "\n",
    "    # generate target panel with all snps\n",
    "    println(\"generating complete target panel\")\n",
    "    n = 1000\n",
    "    sample_idx = falses(samples)\n",
    "    sample_idx[1:n] .= true\n",
    "    shuffle!(sample_idx)\n",
    "    @time VCFTools.filter(\"full.uniqueSNPs.vcf.gz\", 1:total_snps, \n",
    "        sample_idx, des = \"target.full.vcf.gz\", allow_multiallelic=false)\n",
    "\n",
    "    # also generate reference panel without target samples\n",
    "    println(\"generating reference panel without target samples\")\n",
    "    @time VCFTools.filter(\"full.uniqueSNPs.vcf.gz\", 1:total_snps, \n",
    "        .!sample_idx, des = \"ref.excludeTarget.vcf.gz\", allow_multiallelic=false)\n",
    "\n",
    "    # generate target file with 1000 samples and typed snps with certain maf\n",
    "    println(\"generating target file with typed snps only\")\n",
    "    my_maf = findall(x -> x > maf, maf_by_record)  \n",
    "    p = length(my_maf)\n",
    "    record_idx = falses(total_snps)\n",
    "    record_idx[my_maf] .= true\n",
    "    @time VCFTools.filter(\"full.uniqueSNPs.vcf.gz\", record_idx, sample_idx, \n",
    "        des = \"target.typedOnly.maf$maf.vcf.gz\", allow_multiallelic=false)\n",
    "\n",
    "    # unphase and mask 1% entries in target file\n",
    "    println(\"unphasing and masking entries in target file with typed snps only\")\n",
    "    masks = falses(p, n)\n",
    "    missingprop = 0.1\n",
    "    for j in 1:n, i in 1:p\n",
    "        rand() < missingprop && (masks[i, j] = true)\n",
    "    end\n",
    "    @time mask_gt(\"target.typedOnly.maf$maf.vcf.gz\", masks, \n",
    "        des=\"target.typedOnly.maf$maf.masked.vcf.gz\", unphase=true)\n",
    "\n",
    "    # finally compress reference file to jlso format\n",
    "    widths  = [32, 64, 128, 256, 512]\n",
    "    reffile = \"ref.excludeTarget.vcf.gz\"\n",
    "    tgtfile = \"target.typedOnly.maf$maf.masked.vcf.gz\"\n",
    "    H, H_sampleID, H_chr, H_pos, H_ids, H_ref, H_alt = convert_ht(Bool, reffile, trans=true, save_snp_info=true, msg=\"importing reference data...\")\n",
    "    X, X_sampleID, X_chr, X_pos, X_ids, X_ref, X_alt = VCFTools.convert_gt(UInt8, tgtfile, trans=true, save_snp_info=true, msg = \"Importing genotype file...\")\n",
    "    for width in widths\n",
    "        outfile = \"ref.excludeTarget.w$width.jlso\"\n",
    "        @time compress_haplotypes(H, X, outfile, X_pos, H_sampleID, H_chr, H_pos, H_ids, H_ref, H_alt, width)\n",
    "    end\n",
    "end\n",
    "Random.seed!(2020)\n",
    "maf = 0.1\n",
    "@time filter_and_mask(maf)"
   ]
  },
  {
   "cell_type": "code",
   "execution_count": 19,
   "metadata": {
    "collapsed": false
   },
   "outputs": [
    {
     "name": "stdout",
     "output_type": "stream",
     "text": [
      "  0.755665 seconds (1.72 M allocations: 203.743 MiB)\n"
     ]
    }
   ],
   "source": [
    "# load jlso\n",
    "@time loaded = JLSO.load(\"ref.excludeTarget.w512.jlso\")\n",
    "compressed_Hunique = loaded[:compressed_Hunique];"
   ]
  },
  {
   "cell_type": "code",
   "execution_count": 13,
   "metadata": {
    "collapsed": false
   },
   "outputs": [
    {
     "name": "stdout",
     "output_type": "stream",
     "text": [
      "(nrecords(tgtfile), nsamples(tgtfile)) = (53267, 1000)\n",
      "(nrecords(reffile), nsamples(reffile)) = (268629, 19000)\n"
     ]
    }
   ],
   "source": [
    "tgtfile = \"./compare3/target.typedOnly.maf0.1.masked.vcf.gz\"\n",
    "reffile = \"./compare3/ref.excludeTarget.vcf.gz\"\n",
    "@show nrecords(tgtfile), nsamples(tgtfile)\n",
    "@show nrecords(reffile), nsamples(reffile);"
   ]
  },
  {
   "cell_type": "markdown",
   "metadata": {},
   "source": [
    "# MendelImpute with dynamic programming"
   ]
  },
  {
   "cell_type": "code",
   "execution_count": 5,
   "metadata": {
    "collapsed": false
   },
   "outputs": [
    {
     "name": "stderr",
     "output_type": "stream",
     "text": [
      "\u001b[32mImporting genotype file...100%|█████████████████████████| Time: 0:00:10\u001b[39m\n",
      "\u001b[32mComputing optimal haplotype pairs...100%|███████████████| Time: 0:00:11\u001b[39m\n",
      "\u001b[32mMerging breakpoints...100%|█████████████████████████████| Time: 0:00:15\u001b[39m\n",
      "\u001b[32mWriting to file...100%|█████████████████████████████████| Time: 0:00:18\u001b[39m\n"
     ]
    },
    {
     "name": "stdout",
     "output_type": "stream",
     "text": [
      "Total windows = 104, averaging ~ 1121 unique haplotypes per window.\n",
      "\n",
      "Timings: \n",
      "    Data import                     = 13.2537 seconds\n",
      "    Computing haplotype pair        = 11.8286 seconds\n",
      "        BLAS3 mul! to get M and N      = 0.196211 seconds per thread\n",
      "        haplopair search               = 10.0515 seconds per thread\n",
      "        supplying constant terms       = 0.00836884 seconds per thread\n",
      "        finding redundant happairs     = 0.214265 seconds per thread\n",
      "    Phasing by dynamic programming  = 15.8494 seconds\n",
      "    Imputation                      = 23.2537 seconds\n",
      "\n",
      " 64.185470 seconds (114.20 M allocations: 12.498 GiB, 4.24% gc time)\n",
      "error_rate = 0.00022427958262138486\n"
     ]
    }
   ],
   "source": [
    "# keep best pair only (1 thread)\n",
    "Random.seed!(2020)\n",
    "width   = 512\n",
    "tgtfile = \"./compare3/target.typedOnly.maf0.1.masked.vcf.gz\"\n",
    "reffile = \"./compare3/ref.excludeTarget.w$width.jlso\"\n",
    "outfile = \"./compare3/mendel.imputed.vcf.gz\"\n",
    "@time hs, ph = phase(tgtfile, reffile, outfile = outfile, width = width);\n",
    "\n",
    "# import imputed result and compare with true\n",
    "X_mendel = convert_gt(Float32, outfile)\n",
    "X_complete = convert_gt(Float32, \"./compare3/target.full.vcf.gz\")\n",
    "n, p = size(X_mendel)\n",
    "println(\"error_rate = \", sum(X_mendel .!= X_complete) / n / p)\n",
    "rm(outfile, force=true)"
   ]
  },
  {
   "cell_type": "markdown",
   "metadata": {},
   "source": [
    "# MendelImpute with intersecting haplotype sets"
   ]
  },
  {
   "cell_type": "code",
   "execution_count": 3,
   "metadata": {
    "collapsed": false
   },
   "outputs": [
    {
     "name": "stderr",
     "output_type": "stream",
     "text": [
      "\u001b[32mImporting genotype file...100%|█████████████████████████| Time: 0:00:11\u001b[39m\n",
      "\u001b[32mComputing optimal haplotype pairs...100%|███████████████| Time: 0:00:12\u001b[39m\n",
      "\u001b[32mWriting to file...100%|█████████████████████████████████| Time: 0:00:19\u001b[39m\n"
     ]
    },
    {
     "name": "stdout",
     "output_type": "stream",
     "text": [
      "Total windows = 104, averaging ~ 1121 unique haplotypes per window.\n",
      "\n",
      "Timings: \n",
      "    Data import                     = 14.1737 seconds\n",
      "    Computing haplotype pair        = 12.6018 seconds\n",
      "        BLAS3 mul! to get M and N      = 0.247583 seconds per thread\n",
      "        haplopair search               = 10.0533 seconds per thread\n",
      "        supplying constant terms       = 0.00820274 seconds per thread\n",
      "        finding redundant happairs     = 0.037361 seconds per thread\n",
      "    Phasing by dynamic programming  = 0.713093 seconds\n",
      "    Imputation                      = 23.6164 seconds\n",
      "\n",
      " 51.105105 seconds (113.78 M allocations: 12.547 GiB, 6.59% gc time)\n",
      "error_rate = 5.653894404550514e-5\n"
     ]
    }
   ],
   "source": [
    "# keep best pair only (1 thread)\n",
    "Random.seed!(2020)\n",
    "width   = 512\n",
    "tgtfile = \"./compare3/target.typedOnly.maf0.1.masked.vcf.gz\"\n",
    "reffile = \"./compare3/ref.excludeTarget.w$width.jlso\"\n",
    "outfile = \"./compare3/mendel.imputed.vcf.gz\"\n",
    "@time hs, ph = phase(tgtfile, reffile, outfile = outfile, width = width,\n",
    "    dynamic_programming = false);\n",
    "\n",
    "# import imputed result and compare with true\n",
    "X_mendel = convert_gt(Float32, outfile)\n",
    "X_complete = convert_gt(Float32, \"./compare3/target.full.vcf.gz\")\n",
    "n, p = size(X_mendel)\n",
    "println(\"error_rate = \", sum(X_mendel .!= X_complete) / n / p)\n",
    "rm(outfile, force=true)"
   ]
  },
  {
   "cell_type": "markdown",
   "metadata": {},
   "source": [
    "# Try Lasso"
   ]
  },
  {
   "cell_type": "code",
   "execution_count": 2,
   "metadata": {
    "collapsed": false
   },
   "outputs": [
    {
     "name": "stderr",
     "output_type": "stream",
     "text": [
      "\u001b[32mImporting genotype file...100%|█████████████████████████| Time: 0:00:11\u001b[39m\n",
      "\u001b[32mComputing optimal haplotype pairs...100%|███████████████| Time: 0:08:55\u001b[39m\n",
      "\u001b[32mWriting to file...100%|█████████████████████████████████| Time: 0:00:20\u001b[39m\n"
     ]
    },
    {
     "name": "stdout",
     "output_type": "stream",
     "text": [
      "Total windows = 104, averaging ~ 1121 unique haplotypes per window.\n",
      "\n",
      "Timings: \n",
      "    Data import                     = 16.9048 seconds\n",
      "    Computing haplotype pair        = 535.978 seconds\n",
      "        BLAS3 mul! to get M and N      = 0.0 seconds per thread\n",
      "        haplopair search               = 0.0 seconds per thread\n",
      "        finding redundant happairs     = 0.394146 seconds per thread\n",
      "    Phasing by win-win intersection = 2.07432 seconds\n",
      "    Imputation                      = 24.3816 seconds\n",
      "\n",
      "603.856542 seconds (257.25 M allocations: 1.838 TiB, 30.53% gc time)\n",
      "error_rate = 0.001078141228236713\n"
     ]
    }
   ],
   "source": [
    "# keep best pair only (1 thread)\n",
    "Random.seed!(2020)\n",
    "width   = 512\n",
    "tgtfile = \"./compare3/target.typedOnly.maf0.1.masked.vcf.gz\"\n",
    "reffile = \"./compare3/ref.excludeTarget.w$width.jlso\"\n",
    "outfile = \"./compare3/mendel.imputed.vcf.gz\"\n",
    "@time hs, ph = phase(tgtfile, reffile, outfile = outfile, width = width,\n",
    "    dynamic_programming = false, lasso=true);\n",
    "\n",
    "# import imputed result and compare with true\n",
    "X_mendel = convert_gt(Float32, outfile)\n",
    "X_complete = convert_gt(Float32, \"./compare3/target.full.vcf.gz\")\n",
    "n, p = size(X_mendel)\n",
    "println(\"error_rate = \", sum(X_mendel .!= X_complete) / n / p)\n",
    "rm(outfile, force=true)"
   ]
  },
  {
   "cell_type": "markdown",
   "metadata": {},
   "source": [
    "# Beagle 5.1 Error"
   ]
  },
  {
   "cell_type": "code",
   "execution_count": null,
   "metadata": {
    "collapsed": true
   },
   "outputs": [],
   "source": [
    "# convert to bref3 (run in terminal)\n",
    "java -jar ../bref3.18May20.d20.jar ref.excludeTarget.vcf.gz > ref.excludeTarget.bref3 "
   ]
  },
  {
   "cell_type": "code",
   "execution_count": 3,
   "metadata": {
    "collapsed": false
   },
   "outputs": [
    {
     "name": "stdout",
     "output_type": "stream",
     "text": [
      "beagle.18May20.d20.jar (version 5.1)\n",
      "Copyright (C) 2014-2018 Brian L. Browning\n",
      "Enter \"java -jar beagle.18May20.d20.jar\" to list command line argument\n",
      "Start time: 06:29 PM PDT on 30 Jun 2020\n",
      "\n",
      "Command line: java -Xmx3641m -jar beagle.18May20.d20.jar\n",
      "  gt=./compare3/target.typedOnly.maf0.1.masked.vcf.gz\n",
      "  ref=compare3/ref.excludeTarget.bref3\n",
      "  out=compare3/beagle.result\n",
      "  nthreads=8\n",
      "\n",
      "No genetic map is specified: using 1 cM = 1 Mb\n",
      "\n",
      "Reference samples:      19,000\n",
      "Study samples:           1,000\n",
      "\n",
      "Window 1 (1:7-9999996)\n",
      "Reference markers:     268,629\n",
      "Study markers:          53,267\n",
      "\n",
      "Burnin  iteration 1:           32 seconds\n",
      "Burnin  iteration 2:           49 seconds\n",
      "Burnin  iteration 3:           50 seconds\n",
      "Burnin  iteration 4:           50 seconds\n",
      "Burnin  iteration 5:           49 seconds\n",
      "Burnin  iteration 6:           1 minute 27 seconds\n",
      "\n",
      "Phasing iteration 1:           1 minute 45 seconds\n",
      "Phasing iteration 2:           52 seconds\n",
      "Phasing iteration 3:           51 seconds\n",
      "Phasing iteration 4:           52 seconds\n",
      "Phasing iteration 5:           51 seconds\n",
      "Phasing iteration 6:           50 seconds\n",
      "Phasing iteration 7:           47 seconds\n",
      "Phasing iteration 8:           44 seconds\n",
      "Phasing iteration 9:           39 seconds\n",
      "Phasing iteration 10:          33 seconds\n",
      "Phasing iteration 11:          25 seconds\n",
      "Phasing iteration 12:          17 seconds\n",
      "\n",
      "Imputation time:               24 seconds\n",
      "\n",
      "Cumulative Statistics:\n",
      "\n",
      "Reference markers:     268,629\n",
      "Study markers:          53,267\n",
      "\n",
      "Haplotype phasing time:        14 minutes 44 seconds\n",
      "Imputation time:               24 seconds\n",
      "Total time:                    15 minutes 13 seconds\n",
      "\n",
      "End time: 06:44 PM PDT on 30 Jun 2020\n",
      "beagle.18May20.d20.jar finished\n"
     ]
    },
    {
     "data": {
      "text/plain": [
       "1.9781929724638815e-5"
      ]
     },
     "execution_count": 3,
     "metadata": {},
     "output_type": "execute_result"
    }
   ],
   "source": [
    "# run beagle 5 (8 thread)\n",
    "run(`java -jar beagle.18May20.d20.jar gt=./compare3/target.typedOnly.maf0.1.masked.vcf.gz ref=compare3/ref.excludeTarget.bref3 out=compare3/beagle.result nthreads=8`)\n",
    "\n",
    "# beagle 5 error rate\n",
    "X_complete = convert_gt(Float32, \"compare3/target.full.vcf.gz\")\n",
    "n, p = size(X_complete)\n",
    "X_beagle = convert_gt(Float32, \"compare3/beagle.result.vcf.gz\")\n",
    "error_rate = sum(X_beagle .!= X_complete) / n / p"
   ]
  },
  {
   "cell_type": "markdown",
   "metadata": {},
   "source": [
    "# Minimac4 error\n",
    "\n",
    "Need to first convert reference vcf file to m3vcf using minimac3 (on Hoffman)\n",
    "\n",
    "```Julia\n",
    "minimac3 = \"/u/home/b/biona001/haplotype_comparisons/minimac3/Minimac3/bin/Minimac3\"\n",
    "@time run(`$minimac3 --refHaps haplo_ref.vcf.gz --processReference --prefix haplo_ref`)\n",
    "```"
   ]
  },
  {
   "cell_type": "code",
   "execution_count": null,
   "metadata": {
    "collapsed": true
   },
   "outputs": [],
   "source": [
    "# use eagle 2.4 for prephasing"
   ]
  },
  {
   "cell_type": "code",
   "execution_count": null,
   "metadata": {
    "collapsed": true
   },
   "outputs": [],
   "source": [
    "# run minimac 4\n",
    "minimac4 = \"/Users/biona001/Benjamin_Folder/UCLA/research/softwares/Minimac4/build/minimac4\"\n",
    "run(`$minimac4 --refHaps haplo_ref.m3vcf.gz --haps target_masked.vcf.gz --prefix minimac4.result`)\n",
    "    \n",
    "X_minimac = convert_gt(Float32, \"minimac4.result.dose.vcf.gz\", as_minorallele=false)\n",
    "error_rate = sum(X_minimac .!= X_complete) / n / p"
   ]
  }
 ],
 "metadata": {
  "@webio": {
   "lastCommId": null,
   "lastKernelId": null
  },
  "kernelspec": {
   "display_name": "Julia 1.3.1",
   "language": "julia",
   "name": "julia-1.3"
  },
  "language_info": {
   "file_extension": ".jl",
   "mimetype": "application/julia",
   "name": "julia",
   "version": "1.3.1"
  }
 },
 "nbformat": 4,
 "nbformat_minor": 2
}
