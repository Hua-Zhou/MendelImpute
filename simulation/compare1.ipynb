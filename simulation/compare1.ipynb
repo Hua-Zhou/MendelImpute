{
 "cells": [
  {
   "cell_type": "markdown",
   "metadata": {},
   "source": [
    "# Compare MendelImpute against Minimac4 and Beagle5 on simulated data"
   ]
  },
  {
   "cell_type": "code",
   "execution_count": 1,
   "metadata": {
    "collapsed": false,
    "scrolled": true
   },
   "outputs": [
    {
     "name": "stderr",
     "output_type": "stream",
     "text": [
      "┌ Info: Precompiling MendelImpute [e47305d1-6a61-5370-bc5d-77554d143183]\n",
      "└ @ Base loading.jl:1273\n"
     ]
    }
   ],
   "source": [
    "using Revise\n",
    "using VCFTools\n",
    "using MendelImpute\n",
    "using GeneticVariation\n",
    "using Random\n",
    "using SparseArrays\n",
    "using JLD2, FileIO, JLSO\n",
    "using ProgressMeter\n",
    "using GroupSlices\n",
    "using ThreadPools\n",
    "# using Plots\n",
    "# using ProfileView"
   ]
  },
  {
   "cell_type": "markdown",
   "metadata": {},
   "source": [
    "# Simulate data\n",
    "\n",
    "### Step 0. Install `msprime`\n",
    "\n",
    "[msprime download Link](https://msprime.readthedocs.io/en/stable/installation.html).\n",
    "\n",
    "Some people might need to activate conda environment via `conda config --set auto_activate_base True`. You can turn it off once simulation is done by executing `conda config --set auto_activate_base False`.\n",
    "\n",
    "\n",
    "### Step 1. Simulate data in terminal\n",
    "\n",
    "```\n",
    "python3 msprime_script.py 4000 10000 5000000 2e-8 2e-8 2019 > full.vcf\n",
    "```\n",
    "\n",
    "Arguments: \n",
    "+ Number of haplotypes = 40000\n",
    "+ Effective population size = 10000 ([source](https://www.the-scientist.com/the-nutshell/ancient-humans-more-diverse-43556))\n",
    "+ Sequence length = 10 million (same as Beagle 5's choice)\n",
    "+ Rrecombination rate = 2e-8 (default)\n",
    "+ mutation rate = 2e-8 (default)\n",
    "+ seed = 2019"
   ]
  },
  {
   "cell_type": "markdown",
   "metadata": {},
   "source": [
    "### Step 2: Convert simulated haplotypes to reference haplotypes and target genotype files\n",
    "\n",
    "+ `haplo_ref.vcf.gz`: haplotype reference files\n",
    "+ `target.vcf.gz`: complete genotype information\n",
    "+ `target_masked.vcf.gz`: the same as `target.vcf.gz` except some entries are masked"
   ]
  },
  {
   "cell_type": "code",
   "execution_count": 4,
   "metadata": {
    "collapsed": false
   },
   "outputs": [
    {
     "name": "stdout",
     "output_type": "stream",
     "text": [
      "records = 35897\n",
      "samples = 2000\n",
      " 70.297829 seconds (397.28 M allocations: 33.310 GiB, 11.51% gc time)\n",
      " 67.404677 seconds (395.78 M allocations: 33.237 GiB, 11.69% gc time)\n",
      " 18.210343 seconds (144.39 M allocations: 12.666 GiB, 17.95% gc time)\n"
     ]
    }
   ],
   "source": [
    "records, samples = nrecords(\"full.vcf\"), nsamples(\"full.vcf\")\n",
    "@show records\n",
    "@show samples;\n",
    "\n",
    "# compute target and reference index\n",
    "tgt_index = falses(samples)\n",
    "tgt_index[samples-999:end] .= true\n",
    "ref_index = .!tgt_index\n",
    "record_index = trues(records) # save all records (SNPs) \n",
    "\n",
    "# create target.vcf.gz and haplo_ref.vcf.gz\n",
    "@time VCFTools.filter(\"full.vcf\", record_index, tgt_index, des = \"target.vcf.gz\")\n",
    "@time VCFTools.filter(\"full.vcf\", record_index, ref_index, des = \"haplo_ref.vcf.gz\")\n",
    "\n",
    "# import full target matrix. Also transpose so that columns are samples. \n",
    "@time X = convert_gt(Float32, \"target.vcf.gz\"; as_minorallele=false)\n",
    "X = copy(X')\n",
    "\n",
    "# mask 10% entries\n",
    "p, n = size(X)\n",
    "Random.seed!(123)\n",
    "missingprop = 0.1\n",
    "X .= ifelse.(rand(Float32, p, n) .< missingprop, missing, X)\n",
    "masks = ismissing.(X)\n",
    "\n",
    "# save X to new VCF file\n",
    "mask_gt(\"target.vcf.gz\", masks, des=\"target_masked.vcf.gz\")"
   ]
  },
  {
   "cell_type": "markdown",
   "metadata": {},
   "source": [
    "# Try compressing haplotype ref panels"
   ]
  },
  {
   "cell_type": "code",
   "execution_count": 2,
   "metadata": {
    "collapsed": false
   },
   "outputs": [
    {
     "name": "stderr",
     "output_type": "stream",
     "text": [
      "\u001b[32mimporting reference data...100%|████████████████████████| Time: 0:00:07\u001b[39m\n",
      "\u001b[32mImporting genotype file...100%|█████████████████████████| Time: 0:00:06\u001b[39m\n"
     ]
    },
    {
     "name": "stdout",
     "output_type": "stream",
     "text": [
      " 24.264596 seconds (178.14 M allocations: 12.539 GiB, 7.61% gc time)\n"
     ]
    }
   ],
   "source": [
    "# compress as jld2\n",
    "reffile = \"haplo_ref.vcf.gz\"\n",
    "tgtfile = \"target_masked.vcf.gz\"\n",
    "outfile = \"haplo_ref.jld2\"\n",
    "width = 512\n",
    "@time compress_haplotypes(reffile, tgtfile, outfile, width);"
   ]
  },
  {
   "cell_type": "code",
   "execution_count": 3,
   "metadata": {
    "collapsed": false
   },
   "outputs": [
    {
     "name": "stderr",
     "output_type": "stream",
     "text": [
      "\u001b[32mimporting reference data...100%|████████████████████████| Time: 0:00:06\u001b[39m\n",
      "\u001b[32mImporting genotype file...100%|█████████████████████████| Time: 0:00:06\u001b[39m\n"
     ]
    },
    {
     "name": "stdout",
     "output_type": "stream",
     "text": [
      " 17.499408 seconds (151.65 M allocations: 11.350 GiB, 6.26% gc time)\n"
     ]
    }
   ],
   "source": [
    "# compress as jlso\n",
    "reffile = \"haplo_ref.vcf.gz\"\n",
    "tgtfile = \"target_masked.vcf.gz\"\n",
    "outfile = \"haplo_ref.jlso\"\n",
    "width = 512\n",
    "@time compress_haplotypes(reffile, tgtfile, outfile, width);"
   ]
  },
  {
   "cell_type": "code",
   "execution_count": 11,
   "metadata": {
    "collapsed": false
   },
   "outputs": [
    {
     "name": "stdout",
     "output_type": "stream",
     "text": [
      "  0.164810 seconds (588.38 k allocations: 48.435 MiB, 58.99% gc time)\n"
     ]
    }
   ],
   "source": [
    "# load jld2\n",
    "@time @load \"haplo_ref.jld2\" compressed_Hunique;"
   ]
  },
  {
   "cell_type": "code",
   "execution_count": 12,
   "metadata": {
    "collapsed": false
   },
   "outputs": [
    {
     "name": "stdout",
     "output_type": "stream",
     "text": [
      "  0.145282 seconds (513.27 k allocations: 31.716 MiB)\n"
     ]
    }
   ],
   "source": [
    "# load jlso\n",
    "@time loaded = JLSO.load(\"haplo_ref.jlso\")\n",
    "compressed_Hunique = loaded[:compressed_Hunique];"
   ]
  },
  {
   "cell_type": "code",
   "execution_count": 6,
   "metadata": {
    "collapsed": false
   },
   "outputs": [
    {
     "name": "stdout",
     "output_type": "stream",
     "text": [
      "-rw-r--r--  1 biona001  staff  19153026 Jun 22 21:23 haplo_ref.jld2\n"
     ]
    }
   ],
   "source": [
    ";ls -al haplo_ref.jld2"
   ]
  },
  {
   "cell_type": "code",
   "execution_count": 7,
   "metadata": {
    "collapsed": false
   },
   "outputs": [
    {
     "name": "stdout",
     "output_type": "stream",
     "text": [
      "-rw-r--r--  1 biona001  staff  1585820 Jun 22 21:24 haplo_ref.jlso\n"
     ]
    }
   ],
   "source": [
    ";ls -al haplo_ref.jlso"
   ]
  },
  {
   "cell_type": "code",
   "execution_count": 8,
   "metadata": {
    "collapsed": false
   },
   "outputs": [
    {
     "name": "stdout",
     "output_type": "stream",
     "text": [
      "-rw-r--r--@ 1 biona001  staff  5449864 Apr  5 19:59 haplo_ref.vcf.gz\n"
     ]
    }
   ],
   "source": [
    ";ls -al haplo_ref.vcf.gz"
   ]
  },
  {
   "cell_type": "markdown",
   "metadata": {},
   "source": [
    "# Haplotype thinning (experiment)"
   ]
  },
  {
   "cell_type": "code",
   "execution_count": 3,
   "metadata": {
    "collapsed": false
   },
   "outputs": [
    {
     "name": "stderr",
     "output_type": "stream",
     "text": [
      "\u001b[32mImporting genotype file...100%|█████████████████████████| Time: 0:00:06\u001b[39m\n",
      "\u001b[32mComputing optimal haplotype pairs...100%|███████████████| Time: 0:00:17\u001b[39m\n",
      "\u001b[32mMerging breakpoints...100%|█████████████████████████████| Time: 0:00:10\u001b[39m\n"
     ]
    },
    {
     "name": "stdout",
     "output_type": "stream",
     "text": [
      "Total window = 71, each with ~ 320 unique haplotypes on avg\n",
      "Data import time                    = 7.35916 seconds\n",
      "Computing haplotype pair time       = 17.7212 seconds\n",
      "    BLAS3 mul! to get M and N           = 14.4374 seconds\n",
      "    haplopair search                    = 0.673422 seconds\n",
      "    supplying constant terms            = 0.0140867 seconds\n",
      "    finding redundant happairs          = 0.540345 seconds\n",
      "Phasing by dynamic programming time = 10.6551 seconds\n",
      "Imputing time                       = 2.98399 seconds\n",
      " 38.824583 seconds (74.65 M allocations: 7.446 GiB, 2.49% gc time)\n"
     ]
    },
    {
     "data": {
      "text/plain": [
       "0.0001257486698052762"
      ]
     },
     "execution_count": 3,
     "metadata": {},
     "output_type": "execute_result"
    }
   ],
   "source": [
    "# SqEuclidean dist, keep = 100 (1 thread)\n",
    "Random.seed!(2020)\n",
    "tgtfile = \"target_masked.vcf.gz\"\n",
    "reffile = \"haplo_ref.jlso\"\n",
    "outfile = \"imputed_target.vcf.gz\"\n",
    "width   = 500\n",
    "@time hs, ph = phase(tgtfile, reffile, outfile = outfile, width = width);\n",
    "\n",
    "# import imputed result and compare with true\n",
    "X_mendel = convert_gt(Float32, outfile)\n",
    "X_complete = convert_gt(Float32, \"target.vcf.gz\")\n",
    "n, p = size(X_mendel)\n",
    "error_rate = sum(X_mendel .!= X_complete) / n / p"
   ]
  },
  {
   "cell_type": "code",
   "execution_count": 7,
   "metadata": {
    "collapsed": false
   },
   "outputs": [
    {
     "name": "stderr",
     "output_type": "stream",
     "text": [
      "\u001b[32mImporting genotype file...100%|█████████████████████████| Time: 0:00:06\u001b[39m\n",
      "\u001b[32mComputing optimal haplotype pairs...100%|███████████████| Time: 0:00:18\u001b[39m\n"
     ]
    },
    {
     "name": "stdout",
     "output_type": "stream",
     "text": [
      "Each window have ~ 320 unique haplotypes on average\n"
     ]
    },
    {
     "name": "stderr",
     "output_type": "stream",
     "text": [
      "\u001b[32mMerging breakpoints...100%|█████████████████████████████| Time: 0:00:10\u001b[39m\n"
     ]
    },
    {
     "name": "stdout",
     "output_type": "stream",
     "text": [
      "Data import time                    = 7.20437 seconds\n",
      "Computing haplotype pair time       = 18.9164 seconds\n",
      "Phasing by dynamic programming time = 10.7807 seconds\n",
      "Imputing time                       = 3.35142 seconds\n",
      " 40.252735 seconds (73.92 M allocations: 7.409 GiB, 3.08% gc time)\n"
     ]
    },
    {
     "data": {
      "text/plain": [
       "0.0001257486698052762"
      ]
     },
     "execution_count": 7,
     "metadata": {},
     "output_type": "execute_result"
    }
   ],
   "source": [
    "# Euclidean dist, keep = 100 (1 thread)\n",
    "Random.seed!(2020)\n",
    "tgtfile = \"target_masked.vcf.gz\"\n",
    "reffile = \"haplo_ref.jlso\"\n",
    "outfile = \"imputed_target.vcf.gz\"\n",
    "width   = 500\n",
    "@time hs, ph = phase(tgtfile, reffile, outfile = outfile, width = width);\n",
    "\n",
    "# import imputed result and compare with true\n",
    "X_mendel = convert_gt(Float32, outfile)\n",
    "X_complete = convert_gt(Float32, \"target.vcf.gz\")\n",
    "n, p = size(X_mendel)\n",
    "error_rate = sum(X_mendel .!= X_complete) / n / p"
   ]
  },
  {
   "cell_type": "code",
   "execution_count": 3,
   "metadata": {
    "collapsed": false
   },
   "outputs": [
    {
     "name": "stderr",
     "output_type": "stream",
     "text": [
      "\u001b[32mImporting genotype file...100%|█████████████████████████| Time: 0:00:06\u001b[39m\n",
      "\u001b[32mComputing optimal haplotype pairs...100%|███████████████| Time: 0:00:22\u001b[39m\n"
     ]
    },
    {
     "name": "stdout",
     "output_type": "stream",
     "text": [
      "Each window have ~ 320 unique haplotypes on average\n"
     ]
    },
    {
     "name": "stderr",
     "output_type": "stream",
     "text": [
      "\u001b[32mMerging breakpoints...100%|█████████████████████████████| Time: 0:00:11\u001b[39m\n"
     ]
    },
    {
     "name": "stdout",
     "output_type": "stream",
     "text": [
      "Data import time                    = 7.1829 seconds\n",
      "Computing haplotype pair time       = 22.6403 seconds\n",
      "Phasing by dynamic programming time = 11.1893 seconds\n",
      "Imputing time                       = 3.13479 seconds\n",
      " 44.147015 seconds (96.64 M allocations: 8.509 GiB, 3.38% gc time)\n"
     ]
    },
    {
     "data": {
      "text/plain": [
       "0.00012449508315458117"
      ]
     },
     "execution_count": 3,
     "metadata": {},
     "output_type": "execute_result"
    }
   ],
   "source": [
    "# Hamming dist, keep = 100 (1 thread)\n",
    "Random.seed!(2020)\n",
    "tgtfile = \"target_masked.vcf.gz\"\n",
    "reffile = \"haplo_ref.jlso\"\n",
    "outfile = \"imputed_target.vcf.gz\"\n",
    "width   = 500\n",
    "@time hs, ph = phase(tgtfile, reffile, outfile = outfile, width = width);\n",
    "\n",
    "# import imputed result and compare with true\n",
    "X_mendel = convert_gt(Float32, outfile)\n",
    "X_complete = convert_gt(Float32, \"target.vcf.gz\")\n",
    "n, p = size(X_mendel)\n",
    "error_rate = sum(X_mendel .!= X_complete) / n / p"
   ]
  },
  {
   "cell_type": "code",
   "execution_count": 6,
   "metadata": {
    "collapsed": false
   },
   "outputs": [
    {
     "name": "stderr",
     "output_type": "stream",
     "text": [
      "\u001b[32mImporting genotype file...100%|█████████████████████████| Time: 0:00:07\u001b[39m\n"
     ]
    },
    {
     "name": "stdout",
     "output_type": "stream",
     "text": [
      "Total window = 71, each with ~ 320 unique haplotypes on avg\n",
      "Data import time                    = 7.6515 seconds\n",
      "Computing haplotype pair time       = 1.70733 seconds\n",
      "    BLAS3 mul! to get M and N           = 0.0389113 seconds (on thread 1)\n",
      "    haplopair search                    = 0.965552 seconds (on thread 1)\n",
      "    supplying constant terms            = 0.0105707 seconds (on thread 1)\n",
      "    finding redundant happairs          = 0.22895 seconds (on thread 1)\n",
      "Phasing by dynamic programming time = 2.68872 seconds\n",
      "Imputing time                       = 3.35848 seconds\n",
      " 15.406235 seconds (73.62 M allocations: 7.436 GiB, 6.90% gc time)\n"
     ]
    },
    {
     "data": {
      "text/plain": [
       "0.00012354792879627822"
      ]
     },
     "execution_count": 6,
     "metadata": {},
     "output_type": "execute_result"
    }
   ],
   "source": [
    "# Search all and save best happair (4 thread)\n",
    "Random.seed!(2020)\n",
    "tgtfile = \"target_masked.vcf.gz\"\n",
    "reffile = \"haplo_ref.jlso\"\n",
    "outfile = \"imputed_target.vcf.gz\"\n",
    "width   = 500\n",
    "@time hs, ph = phase(tgtfile, reffile, outfile = outfile, width = width);\n",
    "\n",
    "# import imputed result and compare with true\n",
    "X_mendel = convert_gt(Float32, outfile)\n",
    "X_complete = convert_gt(Float32, \"target.vcf.gz\")\n",
    "n, p = size(X_mendel)\n",
    "error_rate = sum(X_mendel .!= X_complete) / n / p"
   ]
  },
  {
   "cell_type": "code",
   "execution_count": 4,
   "metadata": {
    "collapsed": false
   },
   "outputs": [
    {
     "name": "stderr",
     "output_type": "stream",
     "text": [
      "\u001b[32mImporting genotype file...100%|█████████████████████████| Time: 0:00:07\u001b[39m\n",
      "\u001b[32mMerging breakpoints...100%|█████████████████████████████| Time: 0:00:09\u001b[39m\n"
     ]
    },
    {
     "name": "stdout",
     "output_type": "stream",
     "text": [
      "Total window = 71, each with ~ 320 unique haplotypes on avg\n",
      "Data import time                    = 7.53402 seconds\n",
      "Computing haplotype pair time       = 4.10397 seconds\n",
      "    BLAS3 mul! to get M and N           = 0.0934236 seconds\n",
      "    haplopair search                    = 2.35674 seconds\n",
      "    supplying constant terms            = 0.0350644 seconds\n",
      "    finding redundant happairs          = 0.466191 seconds\n",
      "Phasing by dynamic programming time = 10.0009 seconds\n",
      "Imputing time                       = 2.83567 seconds\n",
      " 24.619565 seconds (74.44 M allocations: 7.451 GiB, 4.32% gc time)\n"
     ]
    },
    {
     "data": {
      "text/plain": [
       "0.00012354792879627822"
      ]
     },
     "execution_count": 4,
     "metadata": {},
     "output_type": "execute_result"
    }
   ],
   "source": [
    "# Search all and save best happair (1 thread)\n",
    "Random.seed!(2020)\n",
    "tgtfile = \"target_masked.vcf.gz\"\n",
    "reffile = \"haplo_ref.jlso\"\n",
    "outfile = \"imputed_target.vcf.gz\"\n",
    "width   = 500\n",
    "@time hs, ph = phase(tgtfile, reffile, outfile = outfile, width = width);\n",
    "\n",
    "# import imputed result and compare with true\n",
    "X_mendel = convert_gt(Float32, outfile)\n",
    "X_complete = convert_gt(Float32, \"target.vcf.gz\")\n",
    "n, p = size(X_mendel)\n",
    "error_rate = sum(X_mendel .!= X_complete) / n / p"
   ]
  },
  {
   "cell_type": "markdown",
   "metadata": {},
   "source": [
    "# MendelImpute error"
   ]
  },
  {
   "cell_type": "code",
   "execution_count": 6,
   "metadata": {
    "collapsed": false
   },
   "outputs": [
    {
     "name": "stderr",
     "output_type": "stream",
     "text": [
      "\u001b[32mImporting genotype file...100%|█████████████████████████| Time: 0:00:06\u001b[39m\n",
      "\u001b[32mMerging breakpoints...100%|█████████████████████████████| Time: 0:00:08\u001b[39m\n"
     ]
    },
    {
     "name": "stdout",
     "output_type": "stream",
     "text": [
      "Total windows = 70, averaging ~ 324 unique haplotypes per window.\n",
      "\n",
      "Timings: \n",
      "    Data import                     = 7.3177 seconds\n",
      "    Computing haplotype pair        = 4.95031 seconds\n",
      "        BLAS3 mul! to get M and N      = 0.103303 seconds per thread\n",
      "        haplopair search               = 3.39069 seconds per thread\n",
      "        supplying constant terms       = 0.0357325 seconds per thread\n",
      "        finding redundant happairs     = 0.528121 seconds per thread\n",
      "    Phasing by dynamic programming  = 8.36081 seconds\n",
      "    Imputation                      = 3.36778 seconds\n",
      "\n",
      " 23.997311 seconds (73.51 M allocations: 6.721 GiB, 4.46% gc time)\n"
     ]
    },
    {
     "data": {
      "text/plain": [
       "0.00012271220436248155"
      ]
     },
     "execution_count": 6,
     "metadata": {},
     "output_type": "execute_result"
    }
   ],
   "source": [
    "# keep best pair only (1 thread)\n",
    "Random.seed!(2020)\n",
    "tgtfile = \"target_masked.vcf.gz\"\n",
    "reffile = \"haplo_ref.jlso\"\n",
    "outfile = \"imputed_target.vcf.gz\"\n",
    "width   = 512\n",
    "@time hs, ph = phase(tgtfile, reffile, outfile = outfile, width = width);\n",
    "\n",
    "# import imputed result and compare with true\n",
    "X_mendel = convert_gt(Float32, outfile)\n",
    "X_complete = convert_gt(Float32, \"target.vcf.gz\")\n",
    "n, p = size(X_mendel)\n",
    "error_rate = sum(X_mendel .!= X_complete) / n / p"
   ]
  },
  {
   "cell_type": "code",
   "execution_count": 60,
   "metadata": {
    "collapsed": false
   },
   "outputs": [
    {
     "name": "stderr",
     "output_type": "stream",
     "text": [
      "\u001b[32mImporting genotype file...100%|█████████████████████████| Time: 0:00:08\u001b[39m\n",
      "\u001b[32mComputing optimal haplotype pairs...100%|███████████████| Time: 0:00:07\u001b[39m\n",
      "\u001b[32mMerging breakpoints...100%|█████████████████████████████| Time: 0:00:09\u001b[39m\n"
     ]
    },
    {
     "name": "stdout",
     "output_type": "stream",
     "text": [
      "Total windows = 70, averaging ~ 324 unique haplotypes per window.\n",
      "\n",
      "Timings: \n",
      "    Data import                     = 8.60848 seconds\n",
      "    Computing haplotype pair        = 7.25466 seconds\n",
      "        BLAS3 mul! to get M and N      = 0.0993171 seconds (on thread 1)\n",
      "        haplopair search               = 4.07569 seconds (on thread 1)\n",
      "        min least sq on observed data  = 1.16035 seconds (on thread 1)\n",
      "        finding redundant happairs     = 0.525039 seconds (on thread 1)\n",
      "    Phasing by dynamic programming  = 9.25942 seconds\n",
      "    Imputation                      = 3.39352 seconds\n",
      "\n",
      " 28.516151 seconds (73.61 M allocations: 7.466 GiB, 7.49% gc time)\n"
     ]
    },
    {
     "data": {
      "text/plain": [
       "0.0001033791124606513"
      ]
     },
     "execution_count": 60,
     "metadata": {},
     "output_type": "execute_result"
    }
   ],
   "source": [
    "# keep top matching happairs (1 thread)\n",
    "Random.seed!(2020)\n",
    "tgtfile = \"target_masked.vcf.gz\"\n",
    "reffile = \"haplo_ref.jlso\"\n",
    "outfile = \"imputed_target.vcf.gz\"\n",
    "width   = 512\n",
    "@time hs, ph = phase(tgtfile, reffile, outfile = outfile, width = width, rescreen=true);\n",
    "\n",
    "# import imputed result and compare with true\n",
    "X_mendel = convert_gt(Float32, outfile)\n",
    "X_complete = convert_gt(Float32, \"target.vcf.gz\")\n",
    "n, p = size(X_mendel)\n",
    "error_rate = sum(X_mendel .!= X_complete) / n / p"
   ]
  },
  {
   "cell_type": "code",
   "execution_count": 3,
   "metadata": {
    "collapsed": false
   },
   "outputs": [
    {
     "name": "stderr",
     "output_type": "stream",
     "text": [
      "\u001b[32mImporting genotype file...100%|█████████████████████████| Time: 0:00:06\u001b[39m\n"
     ]
    },
    {
     "name": "stdout",
     "output_type": "stream",
     "text": [
      "Total window = 70, each with ~ 324 unique haplotypes on avg\n",
      "\n",
      "Timings: \n",
      "    Data import                     = 6.64381 seconds\n",
      "    Computing haplotype pair        = 1.17348 seconds\n",
      "        BLAS3 mul! to get M and N      = 0.0281553 seconds (on thread 1)\n",
      "        haplopair search               = 0.652449 seconds (on thread 1)\n",
      "        supplying constant terms       = 0.00478852 seconds (on thread 1)\n",
      "        finding redundant happairs     = 0.093422 seconds (on thread 1)\n",
      "    Phasing by dynamic programming  = 1.45871 seconds\n",
      "    Imputation                      = 2.8129 seconds\n",
      " 12.089255 seconds (73.53 M allocations: 7.401 GiB, 7.49% gc time)\n"
     ]
    },
    {
     "data": {
      "text/plain": [
       "0.00012271220436248155"
      ]
     },
     "execution_count": 3,
     "metadata": {},
     "output_type": "execute_result"
    }
   ],
   "source": [
    "# keep best pair only (8 thread)\n",
    "Random.seed!(2020)\n",
    "tgtfile = \"target_masked.vcf.gz\"\n",
    "reffile = \"haplo_ref.jlso\"\n",
    "outfile = \"imputed_target.vcf.gz\"\n",
    "width   = 512\n",
    "@time hs, ph = phase(tgtfile, reffile, outfile = outfile, width = width);\n",
    "\n",
    "# import imputed result and compare with true\n",
    "X_mendel = convert_gt(Float32, outfile)\n",
    "X_complete = convert_gt(Float32, \"target.vcf.gz\")\n",
    "n, p = size(X_mendel)\n",
    "error_rate = sum(X_mendel .!= X_complete) / n / p"
   ]
  },
  {
   "cell_type": "code",
   "execution_count": 3,
   "metadata": {
    "collapsed": false
   },
   "outputs": [
    {
     "name": "stderr",
     "output_type": "stream",
     "text": [
      "\u001b[32mImporting genotype file...100%|█████████████████████████| Time: 0:00:06\u001b[39m\n",
      "\u001b[32mComputing optimal haplotype pairs...100%|███████████████| Time: 0:00:10\u001b[39m\n",
      "\u001b[32mMerging breakpoints...100%|█████████████████████████████| Time: 0:00:25\u001b[39m\n"
     ]
    },
    {
     "name": "stdout",
     "output_type": "stream",
     "text": [
      "Data import time                    = 6.6587 seconds\n",
      "Computing haplotype pair time       = 10.2962 seconds\n",
      "Phasing by dynamic programming time = 25.9828 seconds\n",
      "Imputing time                       = 3.6637 seconds\n",
      " 46.601150 seconds (73.68 M allocations: 7.879 GiB, 2.17% gc time)\n"
     ]
    },
    {
     "data": {
      "text/plain": [
       "0.00010181909351756413"
      ]
     },
     "execution_count": 3,
     "metadata": {},
     "output_type": "execute_result"
    }
   ],
   "source": [
    "# Keep a list of top haplotype pairs (1 thread)\n",
    "Random.seed!(2020)\n",
    "tgtfile = \"target_masked.vcf.gz\"\n",
    "reffile = \"haplo_ref.jlso\"\n",
    "outfile = \"imputed_target.vcf.gz\"\n",
    "width   = 500\n",
    "@time hs, ph = phase(tgtfile, reffile, outfile = outfile, width = width);\n",
    "\n",
    "# import imputed result and compare with true\n",
    "X_mendel = convert_gt(Float32, outfile)\n",
    "X_complete = convert_gt(Float32, \"target.vcf.gz\")\n",
    "n, p = size(X_mendel)\n",
    "error_rate = sum(X_mendel .!= X_complete) / n / p"
   ]
  },
  {
   "cell_type": "code",
   "execution_count": 5,
   "metadata": {
    "collapsed": false
   },
   "outputs": [
    {
     "name": "stderr",
     "output_type": "stream",
     "text": [
      "\u001b[32mImporting genotype file...100%|█████████████████████████| Time: 0:00:06\u001b[39m\n"
     ]
    },
    {
     "name": "stdout",
     "output_type": "stream",
     "text": [
      "Data import time                    = 7.00521 seconds\n",
      "Computing haplotype pair time       = 2.14302 seconds\n",
      "Phasing by dynamic programming time = 4.11389 seconds\n",
      "Imputing time                       = 3.09487 seconds\n",
      " 16.357013 seconds (73.69 M allocations: 7.939 GiB, 5.88% gc time)\n"
     ]
    },
    {
     "data": {
      "text/plain": [
       "0.00010181909351756413"
      ]
     },
     "execution_count": 5,
     "metadata": {},
     "output_type": "execute_result"
    }
   ],
   "source": [
    "# Keep a list of top haplotype pairs (8 thread)\n",
    "Random.seed!(2020)\n",
    "tgtfile = \"target_masked.vcf.gz\"\n",
    "reffile = \"haplo_ref.jlso\"\n",
    "outfile = \"imputed_target.vcf.gz\"\n",
    "width   = 500\n",
    "@time hs, ph = phase(tgtfile, reffile, outfile = outfile, width = width);\n",
    "\n",
    "# import imputed result and compare with true\n",
    "X_mendel = convert_gt(Float32, outfile)\n",
    "X_complete = convert_gt(Float32, \"target.vcf.gz\")\n",
    "n, p = size(X_mendel)\n",
    "error_rate = sum(X_mendel .!= X_complete) / n / p"
   ]
  },
  {
   "cell_type": "markdown",
   "metadata": {},
   "source": [
    "# Beagle 5 Error"
   ]
  },
  {
   "cell_type": "code",
   "execution_count": 15,
   "metadata": {
    "collapsed": false
   },
   "outputs": [
    {
     "name": "stdout",
     "output_type": "stream",
     "text": [
      "beagle.28Sep18.793.jar (version 5.0)\n",
      "Copyright (C) 2014-2018 Brian L. Browning\n",
      "Enter \"java -jar beagle.28Sep18.793.jar\" to list command line argument\n",
      "Start time: 11:01 AM PST on 23 Jan 2020\n",
      "\n",
      "Command line: java -Xmx3641m -jar beagle.28Sep18.793.jar\n",
      "  gt=target_masked.vcf.gz\n",
      "  ref=haplo_ref.vcf.gz\n",
      "  out=beagle.result\n",
      "\n",
      "No genetic map is specified: using 1 cM = 1 Mb\n",
      "\n",
      "Reference samples:       1,000\n",
      "Study samples:           1,000\n",
      "\n",
      "Window 1 (1:36-4999683)\n",
      "Reference markers:      35,897\n",
      "Study markers:          35,897\n",
      "\n",
      "Burnin  iteration 1:           50 seconds\n",
      "Burnin  iteration 2:           32 seconds\n",
      "Burnin  iteration 3:           13 seconds\n",
      "Burnin  iteration 4:           18 seconds\n",
      "Burnin  iteration 5:           23 seconds\n",
      "Burnin  iteration 6:           25 seconds\n",
      "\n",
      "Phasing iteration 1:           13 seconds\n",
      "Phasing iteration 2:           13 seconds\n",
      "Phasing iteration 3:           13 seconds\n",
      "Phasing iteration 4:           12 seconds\n",
      "Phasing iteration 5:           12 seconds\n",
      "Phasing iteration 6:           12 seconds\n",
      "Phasing iteration 7:           12 seconds\n",
      "Phasing iteration 8:           12 seconds\n",
      "Phasing iteration 9:           12 seconds\n",
      "Phasing iteration 10:          12 seconds\n",
      "Phasing iteration 11:          11 seconds\n",
      "Phasing iteration 12:          11 seconds\n",
      "\n",
      "Cumulative Statistics:\n",
      "\n",
      "Study markers:          35,897\n",
      "\n",
      "Haplotype phasing time:        5 minutes 7 seconds\n",
      "Total time:                    5 minutes 29 seconds\n",
      "\n",
      "End time: 11:07 AM PST on 23 Jan 2020\n",
      "beagle.28Sep18.793.jar finished\n"
     ]
    },
    {
     "data": {
      "text/plain": [
       "2.231384238237179e-5"
      ]
     },
     "execution_count": 15,
     "metadata": {},
     "output_type": "execute_result"
    }
   ],
   "source": [
    "# run beagle 5 and import imputed data \n",
    "run(`java -jar beagle.28Sep18.793.jar gt=target_masked.vcf.gz ref=haplo_ref.vcf.gz out=beagle.result`)\n",
    "\n",
    "# beagle 5 error rate\n",
    "X_beagle = convert_gt(Float32, \"beagle.result.vcf.gz\", as_minorallele=false)\n",
    "error_rate = sum(X_beagle .!= X_complete) / n / p"
   ]
  },
  {
   "cell_type": "markdown",
   "metadata": {},
   "source": [
    "# Minimac4 error\n",
    "\n",
    "Need to first convert reference vcf file to m3vcf using minimac3 (on Hoffman)\n",
    "\n",
    "```Julia\n",
    "minimac3 = \"/u/home/b/biona001/haplotype_comparisons/minimac3/Minimac3/bin/Minimac3\"\n",
    "@time run(`$minimac3 --refHaps haplo_ref.vcf.gz --processReference --prefix haplo_ref`)\n",
    "```"
   ]
  },
  {
   "cell_type": "code",
   "execution_count": 17,
   "metadata": {
    "collapsed": false
   },
   "outputs": [
    {
     "name": "stdout",
     "output_type": "stream",
     "text": [
      "\n",
      "\n",
      " -------------------------------------------------------------------------------- \n",
      "          Minimac4 - Fast Imputation Based on State Space Reduction HMM\n",
      " --------------------------------------------------------------------------------\n",
      "           (c) 2014 - Sayantan Das, Christian Fuchsberger, David Hinds\n",
      "                             Mary Kate Wing, Goncalo Abecasis \n",
      "\n",
      " Version: 1.0.2;\n",
      " Built: Mon Sep 30 11:52:22 PDT 2019 by biona001\n",
      "\n",
      " Command Line Options: \n",
      "       Reference Haplotypes : --refHaps [haplo_ref.m3vcf.gz], --passOnly,\n",
      "                              --rsid, --referenceEstimates [ON],\n",
      "                              --mapFile [docs/geneticMapFile.b38.map.txt.gz]\n",
      "          Target Haplotypes : --haps [target_masked.vcf.gz]\n",
      "          Output Parameters : --prefix [minimac4.result], --estimate,\n",
      "                              --nobgzip, --vcfBuffer [200], --format [GT,DS],\n",
      "                              --allTypedSites, --meta, --memUsage\n",
      "        Chunking Parameters : --ChunkLengthMb [20.00], --ChunkOverlapMb [3.00]\n",
      "          Subset Parameters : --chr [], --start, --end, --window\n",
      "   Approximation Parameters : --minimac3, --probThreshold [0.01],\n",
      "                              --diffThreshold [0.01], --topThreshold [0.01]\n",
      "           Other Parameters : --log, --help, --cpus [1], --params\n",
      "                  PhoneHome : --noPhoneHome, --phoneHomeThinning [50]\n",
      "\n",
      "\n",
      " URL = http://genome.sph.umich.edu/wiki/Minimac4\n",
      " Starting Main Imputation/Estimation Analysis ... \n",
      "\n",
      " Performing preliminary check on input parameters... \n",
      "\n",
      " ------------------------------------------------------------------------------\n",
      "                             PRELIMINARY FILE CHECK                            \n",
      " ------------------------------------------------------------------------------\n",
      "\n",
      " Checking GWAS haplotype file : target_masked.vcf.gz\n",
      "\n",
      " Gathering variant information ...\n",
      "\n",
      " Successful !!! \n",
      "\n",
      " Checking Reference haplotype file : haplo_ref.m3vcf.gz\n",
      "\n",
      " Gathering variant information ...\n",
      "\n",
      " Successful !!! \n",
      "\n",
      " Reference Panel   : Found 1000 samples (2000 haplotypes) and 35897 variants ...\n",
      "\n",
      " Target/GWAS Panel : Found 1000 samples (2000 haplotypes) and 35897 variants ...\n",
      "                     35897 variants overlap with Reference panel \n",
      "                     0 variants imported that exist only in Target/GWAS panel\n",
      "\n",
      " ------------------------------------------------------------------------------\n",
      "                           CHUNKING INFORMATION                           \n",
      " ------------------------------------------------------------------------------\n",
      "\n",
      " Chunking region into 1 chunk(s) with atleast 35897 variants in each chunk ... \n",
      "\n",
      " Details of chunks is given below ...\n",
      "\n",
      " No   LeftBuffer      LeftEnd   RightPoint  RightBuffer       #Sites(GWAS/Ref/%)\n",
      " -------------------------------------------------------------------------------\n",
      "  1           36           36      4999683      4999683    35897/   35897/ 100.00%\n",
      "\n",
      "\n",
      " ------------------------------------------------------------------------------\n",
      "                           MAIN IMPUTATION ANALYSIS                            \n",
      " ------------------------------------------------------------------------------\n",
      "\n",
      " Starting imputation analysis of 1 chunk(s) ... \n",
      "\n",
      " -------------------------------------------\n",
      " Analyzing Chunk 1/1 [1:36-4999683]\n",
      " -------------------------------------------\n",
      "\n",
      " Reading chunk from reference panel ... \n",
      " Reading chunk from target/GWAS panel ... \n",
      "\n",
      " Compressing reference panel at GWAS sites ... \n",
      " Re-compression successful (33 seconds) !!!\n",
      "\n",
      " Starting Imputation ...\n",
      "\n",
      "  Imputing Samples 1-200 [20%] out of 1000 samples ...\n",
      "       Saving Samples in temporary VCF file ... \n",
      "  Imputing Samples 201-400 [40%] out of 1000 samples ...\n",
      "       Saving Samples in temporary VCF file ... \n",
      "  Imputing Samples 401-600 [60%] out of 1000 samples ...\n",
      "       Saving Samples in temporary VCF file ... \n",
      "  Imputing Samples 601-800 [80%] out of 1000 samples ...\n",
      "       Saving Samples in temporary VCF file ... \n",
      "  Imputing Samples 801-1000 [100%] out of 1000 samples ...\n",
      "       Saving Samples in temporary VCF file ... \n",
      "\n",
      " Imputation successful (524 seconds) !!!\n",
      "\n",
      " Appending chunk to final output VCF File :  minimac4.result.dose.vcf.gz \n",
      " Appending successful (3 seconds) !!!\n",
      "\n",
      " Time taken for this chunk = 567 seconds.\n",
      "\n",
      " ------------------------------------------------------------------------------\n",
      "                              SUMMARY OF ANALYSIS                              \n",
      " ------------------------------------------------------------------------------\n",
      "\n",
      " Info file written to                    : minimac4.result.info\n",
      " Imputed VCF information written to      : minimac4.result.dose.vcf.gz\n",
      "\n",
      " Time Taken for Reading File             = 10 seconds\n",
      " Time Taken for Re-compression           = 33 seconds\n",
      " Time Taken for Imputation               = 514 seconds\n",
      " Time Taken for Writing File             = 13 seconds\n",
      "\n",
      " ------------------------------------------------------------------------------\n",
      "                                END OF PROGRAM                                 \n",
      " ------------------------------------------------------------------------------\n",
      "\n",
      " Program Successfully Implemented... \n",
      " \n",
      " Total Run completed in 0 hours, 9 mins, 32 seconds.\n",
      "\n",
      " Thank You for using Minimac4 !!! \n",
      "\n"
     ]
    },
    {
     "data": {
      "text/plain": [
       "0.00018399866284090594"
      ]
     },
     "execution_count": 17,
     "metadata": {},
     "output_type": "execute_result"
    }
   ],
   "source": [
    "# run minimac 4\n",
    "minimac4 = \"/Users/biona001/Benjamin_Folder/UCLA/research/softwares/Minimac4/build/minimac4\"\n",
    "run(`$minimac4 --refHaps haplo_ref.m3vcf.gz --haps target_masked.vcf.gz --prefix minimac4.result`)\n",
    "    \n",
    "X_minimac = convert_gt(Float32, \"minimac4.result.dose.vcf.gz\", as_minorallele=false)\n",
    "error_rate = sum(X_minimac .!= X_complete) / n / p"
   ]
  }
 ],
 "metadata": {
  "@webio": {
   "lastCommId": null,
   "lastKernelId": null
  },
  "kernelspec": {
   "display_name": "Julia 1.3.1",
   "language": "julia",
   "name": "julia-1.3"
  },
  "language_info": {
   "file_extension": ".jl",
   "mimetype": "application/julia",
   "name": "julia",
   "version": "1.3.1"
  }
 },
 "nbformat": 4,
 "nbformat_minor": 2
}
