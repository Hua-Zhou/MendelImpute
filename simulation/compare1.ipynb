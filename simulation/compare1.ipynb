{
 "cells": [
  {
   "cell_type": "markdown",
   "metadata": {},
   "source": [
    "# Compare MendelImpute against Minimac4 and Beagle5 on simulated data"
   ]
  },
  {
   "cell_type": "code",
   "execution_count": 1,
   "metadata": {
    "collapsed": false,
    "scrolled": true
   },
   "outputs": [
    {
     "name": "stderr",
     "output_type": "stream",
     "text": [
      "┌ Info: Precompiling MendelImpute [e47305d1-6a61-5370-bc5d-77554d143183]\n",
      "└ @ Base loading.jl:1273\n"
     ]
    }
   ],
   "source": [
    "using Revise\n",
    "using VCFTools\n",
    "using MendelImpute\n",
    "using GeneticVariation\n",
    "using Random\n",
    "using SparseArrays\n",
    "using JLD2, FileIO, JLSO\n",
    "using ProgressMeter\n",
    "using GroupSlices\n",
    "using ThreadPools\n",
    "# using Plots\n",
    "# using ProfileView"
   ]
  },
  {
   "cell_type": "markdown",
   "metadata": {},
   "source": [
    "# Simulate data\n",
    "\n",
    "### Step 0. Install `msprime`\n",
    "\n",
    "[msprime download Link](https://msprime.readthedocs.io/en/stable/installation.html).\n",
    "\n",
    "Some people might need to activate conda environment via `conda config --set auto_activate_base True`. You can turn it off once simulation is done by executing `conda config --set auto_activate_base False`.\n",
    "\n",
    "\n",
    "### Step 1. Simulate data in terminal\n",
    "\n",
    "```\n",
    "python3 msprime_script.py 4000 10000 5000000 2e-8 2e-8 2019 > full.vcf\n",
    "```\n",
    "\n",
    "Arguments: \n",
    "+ Number of haplotypes = 40000\n",
    "+ Effective population size = 10000 ([source](https://www.the-scientist.com/the-nutshell/ancient-humans-more-diverse-43556))\n",
    "+ Sequence length = 10 million (same as Beagle 5's choice)\n",
    "+ Rrecombination rate = 2e-8 (default)\n",
    "+ mutation rate = 2e-8 (default)\n",
    "+ seed = 2019"
   ]
  },
  {
   "cell_type": "markdown",
   "metadata": {},
   "source": [
    "### Step 2: Convert simulated haplotypes to reference haplotypes and target genotype files\n",
    "\n",
    "+ `haplo_ref.vcf.gz`: haplotype reference files\n",
    "+ `target.vcf.gz`: complete genotype information\n",
    "+ `target_masked.vcf.gz`: the same as `target.vcf.gz` except some entries are masked"
   ]
  },
  {
   "cell_type": "code",
   "execution_count": 4,
   "metadata": {
    "collapsed": false
   },
   "outputs": [
    {
     "name": "stdout",
     "output_type": "stream",
     "text": [
      "records = 35897\n",
      "samples = 2000\n",
      " 70.297829 seconds (397.28 M allocations: 33.310 GiB, 11.51% gc time)\n",
      " 67.404677 seconds (395.78 M allocations: 33.237 GiB, 11.69% gc time)\n",
      " 18.210343 seconds (144.39 M allocations: 12.666 GiB, 17.95% gc time)\n"
     ]
    }
   ],
   "source": [
    "records, samples = nrecords(\"./compare1/full.vcf\"), nsamples(\"./compare1/full.vcf\")\n",
    "@show records\n",
    "@show samples;\n",
    "\n",
    "# compute target and reference index\n",
    "tgt_index = falses(samples)\n",
    "tgt_index[samples-999:end] .= true\n",
    "ref_index = .!tgt_index\n",
    "record_index = trues(records) # save all records (SNPs) \n",
    "\n",
    "# create target.vcf.gz and haplo_ref.vcf.gz\n",
    "@time VCFTools.filter(\"./compare1/full.vcf\", record_index, tgt_index, des = \"./compare1/target.vcf.gz\")\n",
    "@time VCFTools.filter(\"./compare1/full.vcf\", record_index, ref_index, des = \"./compare1/haplo_ref.vcf.gz\")\n",
    "\n",
    "# import full target matrix. Also transpose so that columns are samples. \n",
    "@time X = convert_gt(Float32, \"target.vcf.gz\"; as_minorallele=false)\n",
    "X = copy(X')\n",
    "\n",
    "# mask 10% entries\n",
    "p, n = size(X)\n",
    "Random.seed!(123)\n",
    "missingprop = 0.1\n",
    "X .= ifelse.(rand(Float32, p, n) .< missingprop, missing, X)\n",
    "masks = ismissing.(X)\n",
    "\n",
    "# save X to new VCF file\n",
    "mask_gt(\"target.vcf.gz\", masks, des=\"target_masked.vcf.gz\")"
   ]
  },
  {
   "cell_type": "markdown",
   "metadata": {},
   "source": [
    "# Try compressing haplotype ref panels"
   ]
  },
  {
   "cell_type": "code",
   "execution_count": 12,
   "metadata": {
    "collapsed": false
   },
   "outputs": [
    {
     "name": "stderr",
     "output_type": "stream",
     "text": [
      "\u001b[32mimporting reference data...100%|████████████████████████| Time: 0:00:06\u001b[39m\n",
      "\u001b[32mImporting genotype file...100%|█████████████████████████| Time: 0:00:06\u001b[39m\n"
     ]
    },
    {
     "name": "stdout",
     "output_type": "stream",
     "text": [
      " 19.165787 seconds (154.79 M allocations: 11.436 GiB, 7.42% gc time)\n"
     ]
    }
   ],
   "source": [
    "# compress as jld2\n",
    "reffile = \"./compare1/haplo_ref.vcf.gz\"\n",
    "tgtfile = \"./compare1/target_masked.vcf.gz\"\n",
    "outfile = \"./compare1/haplo_ref.jld2\"\n",
    "width = 512\n",
    "@time compress_haplotypes(reffile, tgtfile, outfile, width);"
   ]
  },
  {
   "cell_type": "code",
   "execution_count": 13,
   "metadata": {
    "collapsed": false
   },
   "outputs": [
    {
     "name": "stderr",
     "output_type": "stream",
     "text": [
      "\u001b[32mimporting reference data...100%|████████████████████████| Time: 0:00:06\u001b[39m\n",
      "\u001b[32mImporting genotype file...100%|█████████████████████████| Time: 0:00:06\u001b[39m\n"
     ]
    },
    {
     "name": "stdout",
     "output_type": "stream",
     "text": [
      " 18.817403 seconds (152.23 M allocations: 11.387 GiB, 7.13% gc time)\n"
     ]
    }
   ],
   "source": [
    "# compress as jlso\n",
    "reffile = \"./compare1/haplo_ref.vcf.gz\"\n",
    "tgtfile = \"./compare1/target_masked.vcf.gz\"\n",
    "outfile = \"./compare1/haplo_ref.jlso\"\n",
    "width = 512\n",
    "@time compress_haplotypes(reffile, tgtfile, outfile, width);"
   ]
  },
  {
   "cell_type": "code",
   "execution_count": 2,
   "metadata": {
    "collapsed": false
   },
   "outputs": [
    {
     "name": "stderr",
     "output_type": "stream",
     "text": [
      "\u001b[32mimporting reference data...100%|████████████████████████| Time: 0:00:07\u001b[39m\n",
      "\u001b[32mImporting genotype file...100%|█████████████████████████| Time: 0:00:07\u001b[39m\n"
     ]
    },
    {
     "name": "stdout",
     "output_type": "stream",
     "text": [
      "  7.138870 seconds (9.25 M allocations: 799.583 MiB, 5.66% gc time)\n",
      "  2.545023 seconds (472.66 k allocations: 218.274 MiB, 1.20% gc time)\n"
     ]
    }
   ],
   "source": [
    "# compress as jlso\n",
    "function compress()\n",
    "    widths  = [250, 500]\n",
    "    reffile = \"./compare1/haplo_ref.vcf.gz\"\n",
    "    tgtfile = \"./compare1/target_masked.vcf.gz\"\n",
    "    H, H_sampleID, H_chr, H_pos, H_ids, H_ref, H_alt = convert_ht(Bool, reffile, trans=true, save_snp_info=true, msg=\"importing reference data...\")\n",
    "    X, X_sampleID, X_chr, X_pos, X_ids, X_ref, X_alt = VCFTools.convert_gt(UInt8, tgtfile, trans=true, save_snp_info=true, msg = \"Importing genotype file...\")\n",
    "    for width in widths\n",
    "        outfile = \"./compare1/haplo_ref.w$width.jlso\"\n",
    "        @time compress_haplotypes(H, X, outfile, X_pos, H_sampleID, H_chr, H_pos, H_ids, H_ref, H_alt, width)\n",
    "    end\n",
    "end\n",
    "compress()"
   ]
  },
  {
   "cell_type": "code",
   "execution_count": 18,
   "metadata": {
    "collapsed": false
   },
   "outputs": [
    {
     "name": "stdout",
     "output_type": "stream",
     "text": [
      "  0.088776 seconds (774.50 k allocations: 58.516 MiB)\n"
     ]
    }
   ],
   "source": [
    "# load jld2\n",
    "@time @load \"./compare1/haplo_ref.jld2\" compressed_Hunique;"
   ]
  },
  {
   "cell_type": "code",
   "execution_count": 20,
   "metadata": {
    "collapsed": false
   },
   "outputs": [
    {
     "name": "stdout",
     "output_type": "stream",
     "text": [
      "  0.225266 seconds (612.38 k allocations: 38.652 MiB, 19.15% gc time)\n"
     ]
    }
   ],
   "source": [
    "# load jlso\n",
    "@time loaded = JLSO.load(\"./compare1/haplo_ref.jlso\")\n",
    "compressed_Hunique = loaded[:compressed_Hunique];"
   ]
  },
  {
   "cell_type": "code",
   "execution_count": 21,
   "metadata": {
    "collapsed": false
   },
   "outputs": [
    {
     "name": "stdout",
     "output_type": "stream",
     "text": [
      "-rw-r--r--  1 biona001  staff  23098725 Jul  2 20:58 ./compare1/haplo_ref.jld2\n"
     ]
    }
   ],
   "source": [
    ";ls -al ./compare1/haplo_ref.jld2"
   ]
  },
  {
   "cell_type": "code",
   "execution_count": 22,
   "metadata": {
    "collapsed": false
   },
   "outputs": [
    {
     "name": "stdout",
     "output_type": "stream",
     "text": [
      "-rw-r--r--  1 biona001  staff  1959743 Jul  2 20:58 ./compare1/haplo_ref.jlso\n"
     ]
    }
   ],
   "source": [
    ";ls -al ./compare1/haplo_ref.jlso"
   ]
  },
  {
   "cell_type": "code",
   "execution_count": 23,
   "metadata": {
    "collapsed": false
   },
   "outputs": [
    {
     "name": "stdout",
     "output_type": "stream",
     "text": [
      "-rw-r--r--@ 1 biona001  staff  5449864 Apr  5 19:59 ./compare1/haplo_ref.vcf.gz\n"
     ]
    }
   ],
   "source": [
    ";ls -al ./compare1/haplo_ref.vcf.gz"
   ]
  },
  {
   "cell_type": "markdown",
   "metadata": {},
   "source": [
    "# Haplotype thinning"
   ]
  },
  {
   "cell_type": "code",
   "execution_count": 4,
   "metadata": {
    "collapsed": false
   },
   "outputs": [
    {
     "name": "stdout",
     "output_type": "stream",
     "text": [
      "Importing reference haplotype data...\n"
     ]
    },
    {
     "name": "stderr",
     "output_type": "stream",
     "text": [
      "\u001b[32mImporting genotype file...100%|█████████████████████████| Time: 0:00:08\u001b[39m\n",
      "\u001b[32mPhasing chunk 1/1...100%|███████████████████████████████| Time: 0:00:15\u001b[39m\n"
     ]
    },
    {
     "name": "stdout",
     "output_type": "stream",
     "text": [
      "Total windows = 70, averaging ~ 324 unique haplotypes per window.\n",
      "\n",
      "Timings: \n",
      "    Data import                     = 8.55815 seconds\n",
      "    Computing haplotype pair        = 15.5393 seconds\n",
      "        screening for top haplotypes   = 0.311708 seconds per thread\n",
      "        BLAS3 mul! to get M and N      = 1.43476 seconds per thread\n",
      "        haplopair search               = 0.0615894 seconds per thread\n",
      "        finding redundant happairs     = 0.00335906 seconds per thread\n",
      "    Phasing by win-win intersection = 0.0462821 seconds\n",
      "    Imputation                      = 3.43169 seconds\n",
      "\n",
      " 27.590531 seconds (73.82 M allocations: 5.933 GiB, 3.72% gc time)\n"
     ]
    },
    {
     "data": {
      "text/plain": [
       "0.00014246315848121012"
      ]
     },
     "execution_count": 4,
     "metadata": {},
     "output_type": "execute_result"
    }
   ],
   "source": [
    "# doesn't account for allele freq\n",
    "Random.seed!(2020)\n",
    "width   = 512\n",
    "tgtfile = \"./compare1/target_masked.vcf.gz\"\n",
    "reffile = \"./compare1/haplo_ref.jlso\"\n",
    "outfile = \"./compare1/imputed_target.vcf.gz\"\n",
    "@time ph = phase(tgtfile, reffile, outfile = outfile, width = width, \n",
    "    dynamic_programming=false, thinning_factor=100, \n",
    "    thinning_scale_allelefreq=false, max_haplotypes = 100);\n",
    "\n",
    "# import imputed result and compare with true\n",
    "X_mendel = convert_gt(Float32, outfile)\n",
    "X_complete = convert_gt(Float32, \"./compare1/target.vcf.gz\")\n",
    "n, p = size(X_mendel)\n",
    "rm(outfile, force=true)\n",
    "error_rate = sum(X_mendel .!= X_complete) / n / p"
   ]
  },
  {
   "cell_type": "code",
   "execution_count": 21,
   "metadata": {
    "collapsed": false
   },
   "outputs": [
    {
     "name": "stdout",
     "output_type": "stream",
     "text": [
      "Importing reference haplotype data...\n"
     ]
    },
    {
     "name": "stderr",
     "output_type": "stream",
     "text": [
      "\u001b[32mImporting genotype file...100%|█████████████████████████| Time: 0:00:07\u001b[39m\n"
     ]
    },
    {
     "name": "stdout",
     "output_type": "stream",
     "text": [
      "Total windows = 70, averaging ~ 324 unique haplotypes per window.\n",
      "\n",
      "Timings: \n",
      "    Data import                     = 7.86957 seconds\n",
      "    Computing haplotype pair        = 3.00972 seconds\n",
      "        screening for top haplotypes   = 0.447713 seconds per thread\n",
      "        BLAS3 mul! to get M and N      = 2.18678 seconds per thread\n",
      "        haplopair search               = 0.0895825 seconds per thread\n",
      "        finding redundant happairs     = 0.00679355 seconds per thread\n",
      "    Phasing by win-win intersection = 0.0390542 seconds\n",
      "    Imputation                      = 2.91976 seconds\n",
      "\n",
      " 13.861564 seconds (73.82 M allocations: 5.933 GiB, 6.70% gc time)\n"
     ]
    },
    {
     "data": {
      "text/plain": [
       "0.00014246315848121012"
      ]
     },
     "execution_count": 21,
     "metadata": {},
     "output_type": "execute_result"
    }
   ],
   "source": [
    "# haplopair_thin (scale freq by 1-p), keep = 100 (1 thread)\n",
    "Random.seed!(2020)\n",
    "tgtfile = \"./compare1/target_masked.vcf.gz\"\n",
    "reffile = \"./compare1/haplo_ref.jlso\"\n",
    "outfile = \"./compare1/imputed_target.vcf.gz\"\n",
    "width   = 512\n",
    "@time hs, ph = phase(tgtfile, reffile, outfile = outfile, width = width, \n",
    "    dynamic_programming=false, thinning_factor=100, \n",
    "    thinning_scale_allelefreq=false, max_haplotypes = 100);\n",
    "\n",
    "# import imputed result and compare with true\n",
    "X_mendel = convert_gt(Float32, outfile)\n",
    "# X_complete = convert_gt(Float32, \"./compare1/target.vcf.gz\")\n",
    "n, p = size(X_mendel)\n",
    "error_rate = sum(X_mendel .!= X_complete) / n / p"
   ]
  },
  {
   "cell_type": "markdown",
   "metadata": {},
   "source": [
    "# MendelImpute error"
   ]
  },
  {
   "cell_type": "code",
   "execution_count": 3,
   "metadata": {
    "collapsed": false
   },
   "outputs": [
    {
     "name": "stdout",
     "output_type": "stream",
     "text": [
      "Importing reference haplotype data...\n"
     ]
    },
    {
     "name": "stderr",
     "output_type": "stream",
     "text": [
      "\u001b[32mImporting genotype file...100%|█████████████████████████| Time: 0:00:06\u001b[39m\n"
     ]
    },
    {
     "name": "stdout",
     "output_type": "stream",
     "text": [
      "Total windows = 70, averaging ~ 324 unique haplotypes per window.\n",
      "\n",
      "Timings: \n",
      "    Data import                     = 7.25091 seconds\n",
      "    Computing haplotype pair        = 3.38048 seconds\n",
      "        BLAS3 mul! to get M and N      = 0.088452 seconds per thread\n",
      "        haplopair search               = 2.40554 seconds per thread\n",
      "        finding redundant happairs     = 0.248962 seconds per thread\n",
      "    Phasing by dynamic programming  = 8.26324 seconds\n",
      "    Imputation                      = 3.08873 seconds\n",
      "\n",
      " 22.118953 seconds (73.75 M allocations: 6.635 GiB, 4.19% gc time)\n"
     ]
    },
    {
     "data": {
      "text/plain": [
       "0.00012268434688135499"
      ]
     },
     "execution_count": 3,
     "metadata": {},
     "output_type": "execute_result"
    }
   ],
   "source": [
    "# keep best pair only (1 thread)\n",
    "Random.seed!(2020)\n",
    "tgtfile = \"./compare1/target_masked.vcf.gz\"\n",
    "reffile = \"./compare1/haplo_ref.jlso\"\n",
    "outfile = \"./compare1/imputed_target.vcf.gz\"\n",
    "width   = 512\n",
    "@time ph = phase(tgtfile, reffile, outfile = outfile, width = width);\n",
    "\n",
    "# import imputed result and compare with true\n",
    "X_mendel = convert_gt(Float32, outfile)\n",
    "X_complete = convert_gt(Float32, \"./compare1/target.vcf.gz\")\n",
    "n, p = size(X_mendel)\n",
    "error_rate = sum(X_mendel .!= X_complete) / n / p"
   ]
  },
  {
   "cell_type": "code",
   "execution_count": 3,
   "metadata": {
    "collapsed": false
   },
   "outputs": [
    {
     "name": "stdout",
     "output_type": "stream",
     "text": [
      "Importing reference haplotype data...\n"
     ]
    },
    {
     "name": "stderr",
     "output_type": "stream",
     "text": [
      "\u001b[32mImporting genotype file...100%|█████████████████████████| Time: 0:00:06\u001b[39m\n"
     ]
    },
    {
     "name": "stdout",
     "output_type": "stream",
     "text": [
      "Total windows = 70, averaging ~ 324 unique haplotypes per window.\n",
      "\n",
      "Timings: \n",
      "    Data import                     = 7.21779 seconds\n",
      "    Computing haplotype pair        = 0.742479 seconds\n",
      "        BLAS3 mul! to get M and N      = 0.0258475 seconds per thread\n",
      "        haplopair search               = 0.5315 seconds per thread\n",
      "        finding redundant happairs     = 0.0493769 seconds per thread\n",
      "    Phasing by dynamic programming  = 1.24009 seconds\n",
      "    Imputation                      = 3.18624 seconds\n",
      "\n",
      " 12.536885 seconds (73.76 M allocations: 6.679 GiB, 8.31% gc time)\n"
     ]
    },
    {
     "data": {
      "text/plain": [
       "0.00012268434688135499"
      ]
     },
     "execution_count": 3,
     "metadata": {},
     "output_type": "execute_result"
    }
   ],
   "source": [
    "# keep best pair only (8 thread)\n",
    "Random.seed!(2020)\n",
    "tgtfile = \"./compare1/target_masked.vcf.gz\"\n",
    "reffile = \"./compare1/haplo_ref.jlso\"\n",
    "outfile = \"./compare1/imputed_target.vcf.gz\"\n",
    "width   = 512\n",
    "@time ph = phase(tgtfile, reffile, outfile = outfile, width = width);\n",
    "\n",
    "# import imputed result and compare with true\n",
    "X_mendel = convert_gt(Float32, outfile)\n",
    "X_complete = convert_gt(Float32, \"./compare1/target.vcf.gz\")\n",
    "n, p = size(X_mendel)\n",
    "error_rate = sum(X_mendel .!= X_complete) / n / p"
   ]
  },
  {
   "cell_type": "markdown",
   "metadata": {},
   "source": [
    "# Rescreen"
   ]
  },
  {
   "cell_type": "code",
   "execution_count": 18,
   "metadata": {
    "collapsed": false
   },
   "outputs": [
    {
     "name": "stdout",
     "output_type": "stream",
     "text": [
      "Importing reference haplotype data...\n"
     ]
    },
    {
     "name": "stderr",
     "output_type": "stream",
     "text": [
      "\u001b[32mImporting genotype file...100%|█████████████████████████| Time: 0:00:06\u001b[39m\n",
      "\u001b[32mPhasing chunk 1/1...100%|███████████████████████████████| Time: 0:00:06\u001b[39m\n"
     ]
    },
    {
     "name": "stdout",
     "output_type": "stream",
     "text": [
      "Total windows = 70, averaging ~ 324 unique haplotypes per window.\n",
      "\n",
      "Timings: \n",
      "    Data import                     = 7.03889 seconds\n",
      "    Computing haplotype pair        = 6.09789 seconds\n",
      "        BLAS3 mul! to get M and N      = 0.0231243 seconds per thread\n",
      "        haplopair search               = 0.421832 seconds per thread\n",
      "        min least sq on observed data  = 0.177795 seconds per thread\n",
      "        finding redundant happairs     = 0.00342426 seconds per thread\n",
      "    Phasing by win-win intersection = 0.112965 seconds\n",
      "    Imputation                      = 2.82866 seconds\n",
      "\n",
      " 16.094751 seconds (74.54 M allocations: 6.043 GiB, 4.83% gc time)\n"
     ]
    },
    {
     "data": {
      "text/plain": [
       "0.00013842382371785945"
      ]
     },
     "execution_count": 18,
     "metadata": {},
     "output_type": "execute_result"
    }
   ],
   "source": [
    "# keep top matching happairs (1 thread)\n",
    "Random.seed!(2020)\n",
    "tgtfile = \"./compare1/target_masked.vcf.gz\"\n",
    "reffile = \"./compare1/haplo_ref.jlso\"\n",
    "outfile = \"./compare1/imputed_target.vcf.gz\"\n",
    "width   = 512\n",
    "@time ph = phase(tgtfile, reffile, outfile = outfile, width = width, \n",
    "    dynamic_programming=false, rescreen=true);\n",
    "\n",
    "# import imputed result and compare with true\n",
    "X_mendel = convert_gt(Float32, outfile)\n",
    "X_complete = convert_gt(Float32, \"./compare1/target.vcf.gz\")\n",
    "n, p = size(X_mendel)\n",
    "error_rate = sum(X_mendel .!= X_complete) / n / p"
   ]
  },
  {
   "cell_type": "code",
   "execution_count": 3,
   "metadata": {
    "collapsed": false
   },
   "outputs": [
    {
     "name": "stderr",
     "output_type": "stream",
     "text": [
      "\u001b[32mImporting genotype file...100%|█████████████████████████| Time: 0:00:06\u001b[39m\n",
      "\u001b[32mComputing optimal haplotype pairs...100%|███████████████| Time: 0:00:10\u001b[39m\n",
      "\u001b[32mMerging breakpoints...100%|█████████████████████████████| Time: 0:00:25\u001b[39m\n"
     ]
    },
    {
     "name": "stdout",
     "output_type": "stream",
     "text": [
      "Data import time                    = 6.6587 seconds\n",
      "Computing haplotype pair time       = 10.2962 seconds\n",
      "Phasing by dynamic programming time = 25.9828 seconds\n",
      "Imputing time                       = 3.6637 seconds\n",
      " 46.601150 seconds (73.68 M allocations: 7.879 GiB, 2.17% gc time)\n"
     ]
    },
    {
     "data": {
      "text/plain": [
       "0.00010181909351756413"
      ]
     },
     "execution_count": 3,
     "metadata": {},
     "output_type": "execute_result"
    }
   ],
   "source": [
    "# Keep a list of top haplotype pairs (1 thread)\n",
    "Random.seed!(2020)\n",
    "tgtfile = \"target_masked.vcf.gz\"\n",
    "reffile = \"haplo_ref.jlso\"\n",
    "outfile = \"imputed_target.vcf.gz\"\n",
    "width   = 500\n",
    "@time ph = phase(tgtfile, reffile, outfile = outfile, width = width);\n",
    "\n",
    "# import imputed result and compare with true\n",
    "X_mendel = convert_gt(Float32, outfile)\n",
    "X_complete = convert_gt(Float32, \"target.vcf.gz\")\n",
    "n, p = size(X_mendel)\n",
    "error_rate = sum(X_mendel .!= X_complete) / n / p"
   ]
  },
  {
   "cell_type": "code",
   "execution_count": 5,
   "metadata": {
    "collapsed": false
   },
   "outputs": [
    {
     "name": "stderr",
     "output_type": "stream",
     "text": [
      "\u001b[32mImporting genotype file...100%|█████████████████████████| Time: 0:00:06\u001b[39m\n"
     ]
    },
    {
     "name": "stdout",
     "output_type": "stream",
     "text": [
      "Data import time                    = 7.00521 seconds\n",
      "Computing haplotype pair time       = 2.14302 seconds\n",
      "Phasing by dynamic programming time = 4.11389 seconds\n",
      "Imputing time                       = 3.09487 seconds\n",
      " 16.357013 seconds (73.69 M allocations: 7.939 GiB, 5.88% gc time)\n"
     ]
    },
    {
     "data": {
      "text/plain": [
       "0.00010181909351756413"
      ]
     },
     "execution_count": 5,
     "metadata": {},
     "output_type": "execute_result"
    }
   ],
   "source": [
    "# Keep a list of top haplotype pairs (8 thread)\n",
    "Random.seed!(2020)\n",
    "tgtfile = \"target_masked.vcf.gz\"\n",
    "reffile = \"haplo_ref.jlso\"\n",
    "outfile = \"imputed_target.vcf.gz\"\n",
    "width   = 500\n",
    "@time ph = phase(tgtfile, reffile, outfile = outfile, width = width);\n",
    "\n",
    "# import imputed result and compare with true\n",
    "X_mendel = convert_gt(Float32, outfile)\n",
    "X_complete = convert_gt(Float32, \"target.vcf.gz\")\n",
    "n, p = size(X_mendel)\n",
    "error_rate = sum(X_mendel .!= X_complete) / n / p"
   ]
  },
  {
   "cell_type": "markdown",
   "metadata": {},
   "source": [
    "# MendelImpute with intersecting haplotype sets"
   ]
  },
  {
   "cell_type": "code",
   "execution_count": 3,
   "metadata": {
    "collapsed": false
   },
   "outputs": [
    {
     "name": "stdout",
     "output_type": "stream",
     "text": [
      "Importing reference haplotype data...\n"
     ]
    },
    {
     "name": "stderr",
     "output_type": "stream",
     "text": [
      "\u001b[32mImporting genotype file...100%|█████████████████████████| Time: 0:00:07\u001b[39m\n"
     ]
    },
    {
     "name": "stdout",
     "output_type": "stream",
     "text": [
      "Total windows = 70, averaging ~ 324 unique haplotypes per window.\n",
      "\n",
      "Timings: \n",
      "    Data import                     = 7.89825 seconds\n",
      "    Computing haplotype pair        = 3.64744 seconds\n",
      "        BLAS3 mul! to get M and N      = 0.0259534 seconds per thread\n",
      "        haplopair search               = 0.309124 seconds per thread\n",
      "        finding redundant happairs     = 0.00785295 seconds per thread\n",
      "    Phasing by win-win intersection = 0.108992 seconds\n",
      "    Imputation                      = 2.93534 seconds\n",
      "\n",
      " 14.608200 seconds (73.80 M allocations: 5.957 GiB, 6.97% gc time)\n"
     ]
    },
    {
     "data": {
      "text/plain": [
       "0.00014143243167952753"
      ]
     },
     "execution_count": 3,
     "metadata": {},
     "output_type": "execute_result"
    }
   ],
   "source": [
    "# keep best pair only (8 thread)\n",
    "Random.seed!(2020)\n",
    "width   = 512\n",
    "tgtfile = \"./compare1/target_masked.vcf.gz\"\n",
    "reffile = \"./compare1/haplo_ref.jlso\"\n",
    "outfile = \"./compare1/imputed_target.vcf.gz\"\n",
    "@time ph = phase(tgtfile, reffile, outfile = outfile, width = width, \n",
    "    dynamic_programming = false);\n",
    "\n",
    "# import imputed result and compare with true\n",
    "X_mendel = convert_gt(Float32, outfile)\n",
    "X_complete = convert_gt(Float32, \"./compare1/target.vcf.gz\")\n",
    "n, p = size(X_mendel)\n",
    "rm(outfile, force=true)\n",
    "error_rate = sum(X_mendel .!= X_complete) / n / p"
   ]
  },
  {
   "cell_type": "code",
   "execution_count": 3,
   "metadata": {
    "collapsed": false
   },
   "outputs": [
    {
     "name": "stdout",
     "output_type": "stream",
     "text": [
      "Importing reference haplotype data...\n"
     ]
    },
    {
     "name": "stderr",
     "output_type": "stream",
     "text": [
      "\u001b[32mImporting genotype file...100%|█████████████████████████| Time: 0:00:06\u001b[39m\n",
      "\u001b[32mPhasing chunk 1/1...100%|███████████████████████████████| Time: 0:00:05\u001b[39m\n"
     ]
    },
    {
     "name": "stdout",
     "output_type": "stream",
     "text": [
      "Total windows = 70, averaging ~ 324 unique haplotypes per window.\n",
      "\n",
      "Timings: \n",
      "    Data import                     = 7.22951 seconds\n",
      "    Computing haplotype pair        = 5.139 seconds\n",
      "        BLAS3 mul! to get M and N      = 0.0250747 seconds per thread\n",
      "        haplopair search               = 0.480302 seconds per thread\n",
      "        finding redundant happairs     = 0.00330738 seconds per thread\n",
      "    Phasing by win-win intersection = 0.15647 seconds\n",
      "    Imputation                      = 3.23542 seconds\n",
      "\n",
      " 15.782315 seconds (74.37 M allocations: 5.987 GiB, 5.11% gc time)\n"
     ]
    },
    {
     "data": {
      "text/plain": [
       "0.00014583391369752348"
      ]
     },
     "execution_count": 3,
     "metadata": {},
     "output_type": "execute_result"
    }
   ],
   "source": [
    "# scale by allele freq (8 thread)\n",
    "Random.seed!(2020)\n",
    "width   = 512\n",
    "tgtfile = \"./compare1/target_masked.vcf.gz\"\n",
    "reffile = \"./compare1/haplo_ref.jlso\"\n",
    "outfile = \"./compare1/imputed_target.vcf.gz\"\n",
    "@time ph = phase(tgtfile, reffile, outfile = outfile, width = width, \n",
    "    dynamic_programming = false, scale_allelefreq=true);\n",
    "\n",
    "# import imputed result and compare with true\n",
    "X_mendel = convert_gt(Float32, outfile)\n",
    "X_complete = convert_gt(Float32, \"./compare1/target.vcf.gz\")\n",
    "n, p = size(X_mendel)\n",
    "rm(outfile, force=true)\n",
    "error_rate = sum(X_mendel .!= X_complete) / n / p"
   ]
  },
  {
   "cell_type": "markdown",
   "metadata": {},
   "source": [
    "# Screening flanking windows"
   ]
  },
  {
   "cell_type": "code",
   "execution_count": 25,
   "metadata": {
    "collapsed": false
   },
   "outputs": [
    {
     "name": "stdout",
     "output_type": "stream",
     "text": [
      "Importing reference haplotype data...\n"
     ]
    },
    {
     "name": "stderr",
     "output_type": "stream",
     "text": [
      "\u001b[32mImporting genotype file...100%|█████████████████████████| Time: 0:00:07\u001b[39m\n"
     ]
    },
    {
     "name": "stdout",
     "output_type": "stream",
     "text": [
      "Total windows = 70, averaging ~ 324 unique haplotypes per window.\n",
      "\n",
      "Timings: \n",
      "    Data import                     = 7.93589 seconds\n",
      "    Computing haplotype pair        = 0.74407 seconds\n",
      "        BLAS3 mul! to get M and N      = 0.0491758 seconds per thread\n",
      "        haplopair search               = 0.528538 seconds per thread\n",
      "        finding redundant happairs     = 0.00354468 seconds per thread\n",
      "    Phasing by win-win intersection = 0.112905 seconds\n",
      "    Imputation                      = 2.91421 seconds\n",
      "\n",
      " 12.239887 seconds (73.90 M allocations: 5.961 GiB, 6.79% gc time)\n"
     ]
    },
    {
     "data": {
      "text/plain": [
       "0.00013842382371785945"
      ]
     },
     "execution_count": 25,
     "metadata": {},
     "output_type": "execute_result"
    }
   ],
   "source": [
    "# keep best pair only (8 thread)\n",
    "Random.seed!(2020)\n",
    "width   = 512\n",
    "tgtfile = \"./compare1/target_masked.vcf.gz\"\n",
    "reffile = \"./compare1/haplo_ref.jlso\"\n",
    "outfile = \"./compare1/imputed_target.vcf.gz\"\n",
    "@time ph = phase(tgtfile, reffile, outfile = outfile, width = width, \n",
    "    dynamic_programming = false);\n",
    "\n",
    "# import imputed result and compare with true\n",
    "X_mendel = convert_gt(Float32, outfile)\n",
    "X_complete = convert_gt(Float32, \"./compare1/target.vcf.gz\")\n",
    "n, p = size(X_mendel)\n",
    "rm(outfile, force=true)\n",
    "error_rate = sum(X_mendel .!= X_complete) / n / p"
   ]
  },
  {
   "cell_type": "markdown",
   "metadata": {},
   "source": [
    "# Try Lasso"
   ]
  },
  {
   "cell_type": "code",
   "execution_count": 10,
   "metadata": {
    "collapsed": false
   },
   "outputs": [
    {
     "name": "stdout",
     "output_type": "stream",
     "text": [
      "Importing reference haplotype data...\n"
     ]
    },
    {
     "name": "stderr",
     "output_type": "stream",
     "text": [
      "\u001b[32mImporting genotype file...100%|█████████████████████████| Time: 0:00:06\u001b[39m\n"
     ]
    },
    {
     "name": "stdout",
     "output_type": "stream",
     "text": [
      "Total windows = 70, averaging ~ 324 unique haplotypes per window.\n",
      "\n",
      "Timings: \n",
      "    Data import                     = 7.20137 seconds\n",
      "    Computing haplotype pair        = 0.346325 seconds\n",
      "        BLAS3 mul! to get M and N      = 0.0768071 seconds per thread\n",
      "        haplopair search               = 0.00933216 seconds per thread\n",
      "        finding redundant happairs     = 0.00774728 seconds per thread\n",
      "    Phasing by win-win intersection = 0.0452878 seconds\n",
      "    Imputation                      = 2.85384 seconds\n",
      "\n",
      " 10.471833 seconds (74.08 M allocations: 5.981 GiB, 7.35% gc time)\n"
     ]
    },
    {
     "data": {
      "text/plain": [
       "0.0008021004540769423"
      ]
     },
     "execution_count": 10,
     "metadata": {},
     "output_type": "execute_result"
    }
   ],
   "source": [
    "# keep best pair only (8 thread)\n",
    "Random.seed!(2020)\n",
    "width   = 512\n",
    "tgtfile = \"./compare1/target_masked.vcf.gz\"\n",
    "reffile = \"./compare1/haplo_ref.jlso\"\n",
    "outfile = \"./compare1/imputed_target.vcf.gz\"\n",
    "@time ph = phase(tgtfile, reffile, outfile = outfile, width = width, \n",
    "    dynamic_programming=false, lasso = 1, max_haplotypes = 100);\n",
    "\n",
    "# import imputed result and compare with true\n",
    "X_mendel = convert_gt(Float32, outfile)\n",
    "X_complete = convert_gt(Float32, \"./compare1/target.vcf.gz\")\n",
    "n, p = size(X_mendel)\n",
    "rm(outfile, force=true)\n",
    "error_rate = sum(X_mendel .!= X_complete) / n / p"
   ]
  },
  {
   "cell_type": "code",
   "execution_count": 12,
   "metadata": {
    "collapsed": false
   },
   "outputs": [
    {
     "name": "stdout",
     "output_type": "stream",
     "text": [
      "Importing reference haplotype data...\n"
     ]
    },
    {
     "name": "stderr",
     "output_type": "stream",
     "text": [
      "\u001b[32mImporting genotype file...100%|█████████████████████████| Time: 0:00:06\u001b[39m\n"
     ]
    },
    {
     "name": "stdout",
     "output_type": "stream",
     "text": [
      "Total windows = 70, averaging ~ 324 unique haplotypes per window.\n",
      "\n",
      "Timings: \n",
      "    Data import                     = 7.35286 seconds\n",
      "    Computing haplotype pair        = 0.481014 seconds\n",
      "        BLAS3 mul! to get M and N      = 0.0624651 seconds per thread\n",
      "        haplopair search               = 0.162875 seconds per thread\n",
      "        finding redundant happairs     = 0.00697969 seconds per thread\n",
      "    Phasing by win-win intersection = 0.0351119 seconds\n",
      "    Imputation                      = 2.81127 seconds\n",
      "\n",
      " 10.706639 seconds (73.83 M allocations: 5.958 GiB, 7.33% gc time)\n"
     ]
    },
    {
     "data": {
      "text/plain": [
       "0.00014817394211215422"
      ]
     },
     "execution_count": 12,
     "metadata": {},
     "output_type": "execute_result"
    }
   ],
   "source": [
    "# keep best pair only (8 thread)\n",
    "Random.seed!(2020)\n",
    "width   = 512\n",
    "tgtfile = \"./compare1/target_masked.vcf.gz\"\n",
    "reffile = \"./compare1/haplo_ref.jlso\"\n",
    "outfile = \"./compare1/imputed_target.vcf.gz\"\n",
    "@time ph = phase(tgtfile, reffile, outfile = outfile, width = width, \n",
    "    dynamic_programming=false, lasso = 20, max_haplotypes = 100);\n",
    "\n",
    "# import imputed result and compare with true\n",
    "X_mendel = convert_gt(Float32, outfile)\n",
    "X_complete = convert_gt(Float32, \"./compare1/target.vcf.gz\")\n",
    "n, p = size(X_mendel)\n",
    "rm(outfile, force=true)\n",
    "error_rate = sum(X_mendel .!= X_complete) / n / p"
   ]
  },
  {
   "cell_type": "code",
   "execution_count": 10,
   "metadata": {
    "collapsed": false
   },
   "outputs": [
    {
     "name": "stdout",
     "output_type": "stream",
     "text": [
      "Importing reference haplotype data...\n"
     ]
    },
    {
     "name": "stderr",
     "output_type": "stream",
     "text": [
      "\u001b[32mImporting genotype file...100%|█████████████████████████| Time: 0:00:07\u001b[39m\n"
     ]
    },
    {
     "name": "stdout",
     "output_type": "stream",
     "text": [
      "Total windows = 70, averaging ~ 324 unique haplotypes per window.\n",
      "\n",
      "Timings: \n",
      "    Data import                     = 7.9007 seconds\n",
      "    Computing haplotype pair        = 0.304369 seconds\n",
      "        BLAS3 mul! to get M and N      = 0.0960437 seconds per thread\n",
      "        haplopair search               = 0.0104537 seconds per thread\n",
      "        finding redundant happairs     = 0.00717207 seconds per thread\n",
      "    Phasing by win-win intersection = 0.059835 seconds\n",
      "    Imputation                      = 3.19103 seconds\n",
      "\n",
      " 11.472878 seconds (74.08 M allocations: 5.984 GiB, 7.27% gc time)\n"
     ]
    },
    {
     "data": {
      "text/plain": [
       "0.0008021004540769423"
      ]
     },
     "execution_count": 10,
     "metadata": {},
     "output_type": "execute_result"
    }
   ],
   "source": [
    "# scale allele freq\n",
    "Random.seed!(2020)\n",
    "width   = 512\n",
    "tgtfile = \"./compare1/target_masked.vcf.gz\"\n",
    "reffile = \"./compare1/haplo_ref.jlso\"\n",
    "outfile = \"./compare1/imputed_target.vcf.gz\"\n",
    "@time ph = phase(tgtfile, reffile, outfile = outfile, width = width, \n",
    "    dynamic_programming=false, lasso = 1, max_haplotypes = 100, scale_allelefreq=true);\n",
    "\n",
    "# import imputed result and compare with true\n",
    "X_mendel = convert_gt(Float32, outfile)\n",
    "# X_complete = convert_gt(Float32, \"./compare1/target.vcf.gz\")\n",
    "n, p = size(X_mendel)\n",
    "rm(outfile, force=true)\n",
    "error_rate = sum(X_mendel .!= X_complete) / n / p"
   ]
  },
  {
   "cell_type": "code",
   "execution_count": 9,
   "metadata": {
    "collapsed": false
   },
   "outputs": [
    {
     "name": "stdout",
     "output_type": "stream",
     "text": [
      "Importing reference haplotype data...\n"
     ]
    },
    {
     "name": "stderr",
     "output_type": "stream",
     "text": [
      "\u001b[32mImporting genotype file...100%|█████████████████████████| Time: 0:00:07\u001b[39m\n"
     ]
    },
    {
     "name": "stdout",
     "output_type": "stream",
     "text": [
      "Total windows = 70, averaging ~ 324 unique haplotypes per window.\n",
      "\n",
      "Timings: \n",
      "    Data import                     = 8.10954 seconds\n",
      "    Computing haplotype pair        = 0.847077 seconds\n",
      "        BLAS3 mul! to get M and N      = 0.0688667 seconds per thread\n",
      "        haplopair search               = 0.166925 seconds per thread\n",
      "        finding redundant happairs     = 0.00591267 seconds per thread\n",
      "    Phasing by win-win intersection = 0.05669 seconds\n",
      "    Imputation                      = 3.45064 seconds\n",
      "\n",
      " 12.490121 seconds (74.98 M allocations: 6.017 GiB, 9.37% gc time)\n"
     ]
    },
    {
     "data": {
      "text/plain": [
       "0.00014817394211215422"
      ]
     },
     "execution_count": 9,
     "metadata": {},
     "output_type": "execute_result"
    }
   ],
   "source": [
    "# scale allele freq\n",
    "Random.seed!(2020)\n",
    "width   = 512\n",
    "tgtfile = \"./compare1/target_masked.vcf.gz\"\n",
    "reffile = \"./compare1/haplo_ref.jlso\"\n",
    "outfile = \"./compare1/imputed_target.vcf.gz\"\n",
    "@time ph = phase(tgtfile, reffile, outfile = outfile, width = width, \n",
    "    dynamic_programming=false, lasso = 20, max_haplotypes = 100, scale_allelefreq=true);\n",
    "\n",
    "# import imputed result and compare with true\n",
    "X_mendel = convert_gt(Float32, outfile)\n",
    "# X_complete = convert_gt(Float32, \"./compare1/target.vcf.gz\")\n",
    "n, p = size(X_mendel)\n",
    "rm(outfile, force=true)\n",
    "error_rate = sum(X_mendel .!= X_complete) / n / p"
   ]
  },
  {
   "cell_type": "markdown",
   "metadata": {},
   "source": [
    "# Chunking"
   ]
  },
  {
   "cell_type": "code",
   "execution_count": 5,
   "metadata": {
    "collapsed": false
   },
   "outputs": [
    {
     "name": "stderr",
     "output_type": "stream",
     "text": [
      "┌ Info: Importing reference haplotype data...\n",
      "└ @ MendelImpute /Users/biona001/.julia/dev/MendelImpute/src/phasing.jl:33\n",
      "\u001b[32mImporting genotype file...100%|█████████████████████████| Time: 0:00:09\u001b[39m\n"
     ]
    },
    {
     "name": "stdout",
     "output_type": "stream",
     "text": [
      "chunk = 1, windows = 10, w_start = 1, w_end = 10\n",
      "chunk = 2, windows = 10, w_start = 11, w_end = 20\n",
      "chunk = 3, windows = 10, w_start = 21, w_end = 30\n",
      "chunk = 4, windows = 10, w_start = 31, w_end = 40\n",
      "chunk = 5, windows = 10, w_start = 41, w_end = 50\n",
      "chunk = 6, windows = 10, w_start = 51, w_end = 60\n",
      "chunk = 7, windows = 10, w_start = 61, w_end = 70\n",
      "[1, 513, 1025, 1537, 2049, 2561, 3073, 3585, 4097, 4609, 5121, 5633, 6145, 6657, 7169, 7681, 8193, 8705, 9217, 9729, 10241, 10753, 11265, 11777, 12289, 12801, 13313, 13825, 14337, 14849, 15361, 15873, 16385, 16897, 17409, 17921, 18433, 18945, 19457, 19969, 20481, 20993, 21505, 22017, 22017, 22529, 23041, 23553, 24065, 24577, 25089, 25601, 26113, 26625, 27137, 27584, 27649, 28161, 28673, 29185, 29244, 29697, 30209, 30721, 31233, 31745, 32257, 32769, 33281, 33793, 34305, 34817, 35329]\n",
      "Total windows = windows, averaging ~ 324 unique haplotypes per window.\n",
      "\n",
      "Timings: \n",
      "    Data import                     = 9.70717 seconds\n",
      "    Computing haplotype pair        = 3.31615 seconds\n",
      "        BLAS3 mul! to get M and N      = 0.0125444 seconds per thread\n",
      "        haplopair search               = 0.309859 seconds per thread\n",
      "        finding redundant happairs     = 0.00428979 seconds per thread\n",
      "    Phasing by win-win intersection = 0.100438 seconds\n",
      "    Imputation                      = 3.05918 seconds\n",
      "\n",
      " 16.533704 seconds (74.37 M allocations: 6.160 GiB, 6.62% gc time)\n"
     ]
    },
    {
     "data": {
      "text/plain": [
       "0.00015243613672451738"
      ]
     },
     "execution_count": 5,
     "metadata": {},
     "output_type": "execute_result"
    }
   ],
   "source": [
    "# sets num_windows_per_chunks = 10\n",
    "Random.seed!(2020)\n",
    "tgtfile = \"./compare1/target_masked.vcf.gz\"\n",
    "reffile = \"./compare1/haplo_ref.jlso\"\n",
    "outfile = \"./compare1/imputed_target.vcf.gz\"\n",
    "width   = 512\n",
    "@time ph = phase(tgtfile, reffile, outfile = outfile, width = width,\n",
    "    dynamic_programming = false);\n",
    "\n",
    "# import imputed result and compare with true\n",
    "X_mendel = convert_gt(Float32, outfile)\n",
    "X_complete = convert_gt(Float32, \"./compare1/target.vcf.gz\")\n",
    "n, p = size(X_mendel)\n",
    "error_rate = sum(X_mendel .!= X_complete) / n / p"
   ]
  },
  {
   "cell_type": "code",
   "execution_count": 4,
   "metadata": {
    "collapsed": false
   },
   "outputs": [
    {
     "name": "stderr",
     "output_type": "stream",
     "text": [
      "┌ Info: Importing reference haplotype data...\n",
      "└ @ MendelImpute /Users/biona001/.julia/dev/MendelImpute/src/phasing.jl:33\n",
      "\u001b[32mImporting genotype file...100%|█████████████████████████| Time: 0:00:06\u001b[39m\n"
     ]
    },
    {
     "name": "stdout",
     "output_type": "stream",
     "text": [
      "chunk = 1, windows = 70, w_start = 1, w_end = 70\n",
      "Total windows = windows, averaging ~ 324 unique haplotypes per window.\n",
      "\n",
      "Timings: \n",
      "    Data import                     = 7.28044 seconds\n",
      "    Computing haplotype pair        = 0.694511 seconds\n",
      "        BLAS3 mul! to get M and N      = 0.0260292 seconds per thread\n",
      "        haplopair search               = 0.528569 seconds per thread\n",
      "        finding redundant happairs     = 0.00670662 seconds per thread\n",
      "    Phasing by win-win intersection = 0.034327 seconds\n",
      "    Imputation                      = 2.91026 seconds\n",
      "\n",
      " 11.092406 seconds (74.38 M allocations: 6.160 GiB, 8.84% gc time)\n"
     ]
    },
    {
     "data": {
      "text/plain": [
       "0.00014143243167952753"
      ]
     },
     "execution_count": 4,
     "metadata": {},
     "output_type": "execute_result"
    }
   ],
   "source": [
    "# default num_windows_per_chunks (i.e. only 1 chunk)\n",
    "Random.seed!(2020)\n",
    "tgtfile = \"./compare1/target_masked.vcf.gz\"\n",
    "reffile = \"./compare1/haplo_ref.jlso\"\n",
    "outfile = \"./compare1/imputed_target.vcf.gz\"\n",
    "width   = 512\n",
    "@time ph = phase(tgtfile, reffile, outfile = outfile, width = width,\n",
    "    dynamic_programming = false);\n",
    "\n",
    "# import imputed result and compare with true\n",
    "X_mendel = convert_gt(Float32, outfile)\n",
    "X_complete = convert_gt(Float32, \"./compare1/target.vcf.gz\")\n",
    "n, p = size(X_mendel)\n",
    "error_rate = sum(X_mendel .!= X_complete) / n / p"
   ]
  },
  {
   "cell_type": "code",
   "execution_count": 5,
   "metadata": {
    "collapsed": false
   },
   "outputs": [
    {
     "name": "stderr",
     "output_type": "stream",
     "text": [
      "┌ Info: Importing reference haplotype data...\n",
      "└ @ MendelImpute /Users/biona001/.julia/dev/MendelImpute/src/phasing.jl:33\n",
      "\u001b[32mImporting genotype file...100%|█████████████████████████| Time: 0:00:06\u001b[39m\n"
     ]
    },
    {
     "name": "stdout",
     "output_type": "stream",
     "text": [
      "chunk = 1, windows = 70, w_start = 1, w_end = 70\n",
      "Total windows = windows, averaging ~ 324 unique haplotypes per window.\n",
      "\n",
      "Timings: \n",
      "    Data import                     = 6.97036 seconds\n",
      "    Computing haplotype pair        = 1.04969 seconds\n",
      "        BLAS3 mul! to get M and N      = 0.0299686 seconds per thread\n",
      "        haplopair search               = 0.544858 seconds per thread\n",
      "        finding redundant happairs     = 0.0502279 seconds per thread\n",
      "    Phasing by dynamic programming  = 1.40822 seconds\n",
      "    Imputation                      = 2.92008 seconds\n",
      "\n",
      " 12.534480 seconds (75.24 M allocations: 6.741 GiB, 7.25% gc time)\n"
     ]
    },
    {
     "data": {
      "text/plain": [
       "0.00012268434688135499"
      ]
     },
     "execution_count": 5,
     "metadata": {},
     "output_type": "execute_result"
    }
   ],
   "source": [
    "# dp and only 1 chunk\n",
    "Random.seed!(2020)\n",
    "tgtfile = \"./compare1/target_masked.vcf.gz\"\n",
    "reffile = \"./compare1/haplo_ref.jlso\"\n",
    "outfile = \"./compare1/imputed_target.vcf.gz\"\n",
    "width   = 512\n",
    "@time ph = phase(tgtfile, reffile, outfile = outfile, width = width,\n",
    "    dynamic_programming = true);\n",
    "\n",
    "# import imputed result and compare with true\n",
    "X_mendel = convert_gt(Float32, outfile)\n",
    "X_complete = convert_gt(Float32, \"./compare1/target.vcf.gz\")\n",
    "n, p = size(X_mendel)\n",
    "error_rate = sum(X_mendel .!= X_complete) / n / p"
   ]
  },
  {
   "cell_type": "markdown",
   "metadata": {},
   "source": [
    "# Beagle 5.1 Error"
   ]
  },
  {
   "cell_type": "code",
   "execution_count": 5,
   "metadata": {
    "collapsed": false
   },
   "outputs": [
    {
     "name": "stdout",
     "output_type": "stream",
     "text": [
      "usage:\n",
      "  java -jar bref3.18May20.d20.jar help\n",
      "\n",
      "  java -jar bref3.18May20.d20.jar [vcf] <nseq>  > [bref3]\n",
      "\n",
      "  cat   [vcf]   | java -jar bref3.18May20.d20.jar <nseq>  > [bref3]\n",
      "\n",
      "where\n",
      "  [bref3]  = the output bref3 file\n",
      "  [vcf]    = A VCF file with phased, non-missing genotype data.  If the\n",
      "             file is gzip-compressed, its filename must end in \".gz\"\n",
      "             and \"cat\" must be replaced with \"zcat\"\n",
      "  <nseq>   = optional argument for maximum number of unique sequences\n",
      "             in a bref3 block. If there are N reference samples,\n",
      "             the default value is: <max-seq>=2^(2*log10(N) + 1)\n",
      "\n"
     ]
    }
   ],
   "source": [
    "# convert to bref3 (run in terminal)\n",
    "java -jar bref3.18May20.d20.jar haplo_ref.vcf.gz > haplo_ref.bref3 "
   ]
  },
  {
   "cell_type": "code",
   "execution_count": 6,
   "metadata": {
    "collapsed": false
   },
   "outputs": [
    {
     "name": "stdout",
     "output_type": "stream",
     "text": [
      "beagle.18May20.d20.jar (version 5.1)\n",
      "Copyright (C) 2014-2018 Brian L. Browning\n",
      "Enter \"java -jar beagle.18May20.d20.jar\" to list command line argument\n",
      "Start time: 09:01 PM PDT on 29 Jun 2020\n",
      "\n",
      "Command line: java -Xmx3641m -jar beagle.18May20.d20.jar\n",
      "  gt=target_masked.vcf.gz\n",
      "  ref=haplo_ref.bref3\n",
      "  out=beagle.result\n",
      "  nthreads=1\n",
      "\n",
      "No genetic map is specified: using 1 cM = 1 Mb\n",
      "\n",
      "Reference samples:       1,000\n",
      "Study samples:           1,000\n",
      "\n",
      "Window 1 (1:36-4999683)\n",
      "Reference markers:      35,897\n",
      "Study markers:          35,897\n",
      "\n",
      "Burnin  iteration 1:           2 minutes 39 seconds\n",
      "Burnin  iteration 2:           2 minutes 56 seconds\n",
      "Burnin  iteration 3:           2 minutes 59 seconds\n",
      "Burnin  iteration 4:           2 minutes 56 seconds\n",
      "Burnin  iteration 5:           2 minutes 58 seconds\n",
      "Burnin  iteration 6:           4 minutes 33 seconds\n",
      "\n",
      "Phasing iteration 1:           5 minutes 48 seconds\n",
      "Phasing iteration 2:           2 minutes 50 seconds\n",
      "Phasing iteration 3:           2 minutes 52 seconds\n",
      "Phasing iteration 4:           2 minutes 50 seconds\n",
      "Phasing iteration 5:           2 minutes 51 seconds\n",
      "Phasing iteration 6:           2 minutes 47 seconds\n",
      "Phasing iteration 7:           2 minutes 46 seconds\n",
      "Phasing iteration 8:           2 minutes 35 seconds\n",
      "Phasing iteration 9:           2 minutes 30 seconds\n",
      "Phasing iteration 10:          2 minutes 3 seconds\n",
      "Phasing iteration 11:          1 minute 39 seconds\n",
      "Phasing iteration 12:          53 seconds\n",
      "\n",
      "Cumulative Statistics:\n",
      "\n",
      "Study markers:          35,897\n",
      "\n",
      "Haplotype phasing time:        51 minutes 25 seconds\n",
      "Total time:                    52 minutes 10 seconds\n",
      "\n",
      "End time: 09:53 PM PDT on 29 Jun 2020\n",
      "beagle.18May20.d20.jar finished\n"
     ]
    },
    {
     "ename": "MethodError",
     "evalue": "MethodError: no method matching convert_gt(::Type{Float32}, ::String; as_minorallele=false)\nClosest candidates are:\n  convert_gt(::Type{T}, ::AbstractString; model, impute, center, scale, trans, msg, save_snp_info) where T<:Real at /Users/biona001/.julia/packages/VCFTools/fTfDS/src/convert.jl:232 got unsupported keyword argument \"as_minorallele\"\n  convert_gt(::Type{T}, !Matched::Tuple{Bool,Bool}) where T<:Real at /Users/biona001/.julia/packages/VCFTools/fTfDS/src/convert.jl:10 got unsupported keyword argument \"as_minorallele\"\n  convert_gt(::Type{T}, !Matched::Tuple{Bool,Bool}, !Matched::Symbol) where T<:Real at /Users/biona001/.julia/packages/VCFTools/fTfDS/src/convert.jl:10 got unsupported keyword argument \"as_minorallele\"",
     "output_type": "error",
     "traceback": [
      "MethodError: no method matching convert_gt(::Type{Float32}, ::String; as_minorallele=false)\nClosest candidates are:\n  convert_gt(::Type{T}, ::AbstractString; model, impute, center, scale, trans, msg, save_snp_info) where T<:Real at /Users/biona001/.julia/packages/VCFTools/fTfDS/src/convert.jl:232 got unsupported keyword argument \"as_minorallele\"\n  convert_gt(::Type{T}, !Matched::Tuple{Bool,Bool}) where T<:Real at /Users/biona001/.julia/packages/VCFTools/fTfDS/src/convert.jl:10 got unsupported keyword argument \"as_minorallele\"\n  convert_gt(::Type{T}, !Matched::Tuple{Bool,Bool}, !Matched::Symbol) where T<:Real at /Users/biona001/.julia/packages/VCFTools/fTfDS/src/convert.jl:10 got unsupported keyword argument \"as_minorallele\"",
      "",
      "Stacktrace:",
      " [1] kwerr(::NamedTuple{(:as_minorallele,),Tuple{Bool}}, ::Function, ::Type, ::String) at ./error.jl:125",
      " [2] (::VCFTools.var\"#kw##convert_gt\")(::NamedTuple{(:as_minorallele,),Tuple{Bool}}, ::typeof(convert_gt), ::Type{Float32}, ::String) at ./none:0",
      " [3] top-level scope at In[6]:3"
     ]
    }
   ],
   "source": [
    "# run beagle 5 (1 thread)\n",
    "run(`java -jar beagle.18May20.d20.jar gt=target_masked.vcf.gz ref=haplo_ref.bref3 out=beagle.result nthreads=1`)"
   ]
  },
  {
   "cell_type": "code",
   "execution_count": 8,
   "metadata": {
    "collapsed": false
   },
   "outputs": [
    {
     "data": {
      "text/plain": [
       "2.0698108477031506e-5"
      ]
     },
     "execution_count": 8,
     "metadata": {},
     "output_type": "execute_result"
    }
   ],
   "source": [
    "# beagle 5.1 error rate\n",
    "X_complete = convert_gt(Float32, \"target.vcf.gz\")\n",
    "n, p = size(X_complete)\n",
    "X_beagle = convert_gt(Float32, \"beagle.result.vcf.gz\")\n",
    "error_rate = sum(X_beagle .!= X_complete) / n / p"
   ]
  },
  {
   "cell_type": "code",
   "execution_count": 2,
   "metadata": {
    "collapsed": false
   },
   "outputs": [
    {
     "name": "stdout",
     "output_type": "stream",
     "text": [
      "beagle.18May20.d20.jar (version 5.1)\n",
      "Copyright (C) 2014-2018 Brian L. Browning\n",
      "Enter \"java -jar beagle.18May20.d20.jar\" to list command line argument\n",
      "Start time: 07:33 PM PDT on 30 Jun 2020\n",
      "\n",
      "Command line: java -Xmx3641m -jar beagle.18May20.d20.jar\n",
      "  gt=./compare1/target_masked.vcf.gz\n",
      "  ref=./compare1/haplo_ref.bref3\n",
      "  out=./compare1/beagle.result\n",
      "  nthreads=8\n",
      "\n",
      "No genetic map is specified: using 1 cM = 1 Mb\n",
      "\n",
      "Reference samples:       1,000\n",
      "Study samples:           1,000\n",
      "\n",
      "Window 1 (1:36-4999683)\n",
      "Reference markers:      35,897\n",
      "Study markers:          35,897\n",
      "\n",
      "Burnin  iteration 1:           26 seconds\n",
      "Burnin  iteration 2:           29 seconds\n",
      "Burnin  iteration 3:           30 seconds\n",
      "Burnin  iteration 4:           45 seconds\n",
      "Burnin  iteration 5:           34 seconds\n",
      "Burnin  iteration 6:           51 seconds\n",
      "\n",
      "Phasing iteration 1:           1 minute 10 seconds\n",
      "Phasing iteration 2:           34 seconds\n",
      "Phasing iteration 3:           35 seconds\n",
      "Phasing iteration 4:           33 seconds\n",
      "Phasing iteration 5:           40 seconds\n",
      "Phasing iteration 6:           36 seconds\n",
      "Phasing iteration 7:           33 seconds\n",
      "Phasing iteration 8:           37 seconds\n",
      "Phasing iteration 9:           37 seconds\n",
      "Phasing iteration 10:          27 seconds\n",
      "Phasing iteration 11:          18 seconds\n",
      "Phasing iteration 12:          10 seconds\n",
      "\n",
      "Cumulative Statistics:\n",
      "\n",
      "Study markers:          35,897\n",
      "\n",
      "Haplotype phasing time:        10 minutes 24 seconds\n",
      "Total time:                    10 minutes 36 seconds\n",
      "\n",
      "End time: 07:44 PM PDT on 30 Jun 2020\n",
      "beagle.18May20.d20.jar finished\n"
     ]
    },
    {
     "data": {
      "text/plain": [
       "2.0948825807170516e-5"
      ]
     },
     "execution_count": 2,
     "metadata": {},
     "output_type": "execute_result"
    }
   ],
   "source": [
    "# run beagle 5.1 (8 thread)\n",
    "run(`java -jar beagle.18May20.d20.jar gt=./compare1/target_masked.vcf.gz ref=./compare1/haplo_ref.bref3 out=./compare1/beagle.result nthreads=8`)\n",
    "    \n",
    "# beagle 5 error rate\n",
    "X_complete = convert_gt(Float32, \"./compare1/target.vcf.gz\")\n",
    "n, p = size(X_complete)\n",
    "X_beagle = convert_gt(Float32, \"./compare1/beagle.result.vcf.gz\")\n",
    "error_rate = sum(X_beagle .!= X_complete) / n / p"
   ]
  },
  {
   "cell_type": "markdown",
   "metadata": {},
   "source": [
    "# Minimac4 error\n",
    "\n",
    "Need to first convert reference vcf file to m3vcf using minimac3 (on Hoffman)\n",
    "\n",
    "```Julia\n",
    "minimac3 = \"/u/home/b/biona001/haplotype_comparisons/minimac3/Minimac3/bin/Minimac3\"\n",
    "@time run(`$minimac3 --refHaps haplo_ref.vcf.gz --processReference --prefix haplo_ref`)\n",
    "```"
   ]
  },
  {
   "cell_type": "code",
   "execution_count": 17,
   "metadata": {
    "collapsed": false
   },
   "outputs": [
    {
     "name": "stdout",
     "output_type": "stream",
     "text": [
      "\n",
      "\n",
      " -------------------------------------------------------------------------------- \n",
      "          Minimac4 - Fast Imputation Based on State Space Reduction HMM\n",
      " --------------------------------------------------------------------------------\n",
      "           (c) 2014 - Sayantan Das, Christian Fuchsberger, David Hinds\n",
      "                             Mary Kate Wing, Goncalo Abecasis \n",
      "\n",
      " Version: 1.0.2;\n",
      " Built: Mon Sep 30 11:52:22 PDT 2019 by biona001\n",
      "\n",
      " Command Line Options: \n",
      "       Reference Haplotypes : --refHaps [haplo_ref.m3vcf.gz], --passOnly,\n",
      "                              --rsid, --referenceEstimates [ON],\n",
      "                              --mapFile [docs/geneticMapFile.b38.map.txt.gz]\n",
      "          Target Haplotypes : --haps [target_masked.vcf.gz]\n",
      "          Output Parameters : --prefix [minimac4.result], --estimate,\n",
      "                              --nobgzip, --vcfBuffer [200], --format [GT,DS],\n",
      "                              --allTypedSites, --meta, --memUsage\n",
      "        Chunking Parameters : --ChunkLengthMb [20.00], --ChunkOverlapMb [3.00]\n",
      "          Subset Parameters : --chr [], --start, --end, --window\n",
      "   Approximation Parameters : --minimac3, --probThreshold [0.01],\n",
      "                              --diffThreshold [0.01], --topThreshold [0.01]\n",
      "           Other Parameters : --log, --help, --cpus [1], --params\n",
      "                  PhoneHome : --noPhoneHome, --phoneHomeThinning [50]\n",
      "\n",
      "\n",
      " URL = http://genome.sph.umich.edu/wiki/Minimac4\n",
      " Starting Main Imputation/Estimation Analysis ... \n",
      "\n",
      " Performing preliminary check on input parameters... \n",
      "\n",
      " ------------------------------------------------------------------------------\n",
      "                             PRELIMINARY FILE CHECK                            \n",
      " ------------------------------------------------------------------------------\n",
      "\n",
      " Checking GWAS haplotype file : target_masked.vcf.gz\n",
      "\n",
      " Gathering variant information ...\n",
      "\n",
      " Successful !!! \n",
      "\n",
      " Checking Reference haplotype file : haplo_ref.m3vcf.gz\n",
      "\n",
      " Gathering variant information ...\n",
      "\n",
      " Successful !!! \n",
      "\n",
      " Reference Panel   : Found 1000 samples (2000 haplotypes) and 35897 variants ...\n",
      "\n",
      " Target/GWAS Panel : Found 1000 samples (2000 haplotypes) and 35897 variants ...\n",
      "                     35897 variants overlap with Reference panel \n",
      "                     0 variants imported that exist only in Target/GWAS panel\n",
      "\n",
      " ------------------------------------------------------------------------------\n",
      "                           CHUNKING INFORMATION                           \n",
      " ------------------------------------------------------------------------------\n",
      "\n",
      " Chunking region into 1 chunk(s) with atleast 35897 variants in each chunk ... \n",
      "\n",
      " Details of chunks is given below ...\n",
      "\n",
      " No   LeftBuffer      LeftEnd   RightPoint  RightBuffer       #Sites(GWAS/Ref/%)\n",
      " -------------------------------------------------------------------------------\n",
      "  1           36           36      4999683      4999683    35897/   35897/ 100.00%\n",
      "\n",
      "\n",
      " ------------------------------------------------------------------------------\n",
      "                           MAIN IMPUTATION ANALYSIS                            \n",
      " ------------------------------------------------------------------------------\n",
      "\n",
      " Starting imputation analysis of 1 chunk(s) ... \n",
      "\n",
      " -------------------------------------------\n",
      " Analyzing Chunk 1/1 [1:36-4999683]\n",
      " -------------------------------------------\n",
      "\n",
      " Reading chunk from reference panel ... \n",
      " Reading chunk from target/GWAS panel ... \n",
      "\n",
      " Compressing reference panel at GWAS sites ... \n",
      " Re-compression successful (33 seconds) !!!\n",
      "\n",
      " Starting Imputation ...\n",
      "\n",
      "  Imputing Samples 1-200 [20%] out of 1000 samples ...\n",
      "       Saving Samples in temporary VCF file ... \n",
      "  Imputing Samples 201-400 [40%] out of 1000 samples ...\n",
      "       Saving Samples in temporary VCF file ... \n",
      "  Imputing Samples 401-600 [60%] out of 1000 samples ...\n",
      "       Saving Samples in temporary VCF file ... \n",
      "  Imputing Samples 601-800 [80%] out of 1000 samples ...\n",
      "       Saving Samples in temporary VCF file ... \n",
      "  Imputing Samples 801-1000 [100%] out of 1000 samples ...\n",
      "       Saving Samples in temporary VCF file ... \n",
      "\n",
      " Imputation successful (524 seconds) !!!\n",
      "\n",
      " Appending chunk to final output VCF File :  minimac4.result.dose.vcf.gz \n",
      " Appending successful (3 seconds) !!!\n",
      "\n",
      " Time taken for this chunk = 567 seconds.\n",
      "\n",
      " ------------------------------------------------------------------------------\n",
      "                              SUMMARY OF ANALYSIS                              \n",
      " ------------------------------------------------------------------------------\n",
      "\n",
      " Info file written to                    : minimac4.result.info\n",
      " Imputed VCF information written to      : minimac4.result.dose.vcf.gz\n",
      "\n",
      " Time Taken for Reading File             = 10 seconds\n",
      " Time Taken for Re-compression           = 33 seconds\n",
      " Time Taken for Imputation               = 514 seconds\n",
      " Time Taken for Writing File             = 13 seconds\n",
      "\n",
      " ------------------------------------------------------------------------------\n",
      "                                END OF PROGRAM                                 \n",
      " ------------------------------------------------------------------------------\n",
      "\n",
      " Program Successfully Implemented... \n",
      " \n",
      " Total Run completed in 0 hours, 9 mins, 32 seconds.\n",
      "\n",
      " Thank You for using Minimac4 !!! \n",
      "\n"
     ]
    },
    {
     "data": {
      "text/plain": [
       "0.00018399866284090594"
      ]
     },
     "execution_count": 17,
     "metadata": {},
     "output_type": "execute_result"
    }
   ],
   "source": [
    "# run minimac 4\n",
    "minimac4 = \"/Users/biona001/Benjamin_Folder/UCLA/research/softwares/Minimac4/build/minimac4\"\n",
    "run(`$minimac4 --refHaps haplo_ref.m3vcf.gz --haps target_masked.vcf.gz --prefix minimac4.result`)\n",
    "    \n",
    "X_minimac = convert_gt(Float32, \"minimac4.result.dose.vcf.gz\", as_minorallele=false)\n",
    "error_rate = sum(X_minimac .!= X_complete) / n / p"
   ]
  },
  {
   "cell_type": "code",
   "execution_count": null,
   "metadata": {
    "collapsed": true
   },
   "outputs": [],
   "source": []
  },
  {
   "cell_type": "code",
   "execution_count": null,
   "metadata": {
    "collapsed": true
   },
   "outputs": [],
   "source": []
  },
  {
   "cell_type": "code",
   "execution_count": null,
   "metadata": {
    "collapsed": true
   },
   "outputs": [],
   "source": []
  },
  {
   "cell_type": "markdown",
   "metadata": {},
   "source": [
    "# BLAS 2 "
   ]
  },
  {
   "cell_type": "code",
   "execution_count": 5,
   "metadata": {
    "collapsed": false
   },
   "outputs": [
    {
     "name": "stderr",
     "output_type": "stream",
     "text": [
      "\u001b[32mImporting genotype file...100%|█████████████████████████| Time: 0:00:08\u001b[39m\n",
      "\u001b[32mWriting to file...100%|█████████████████████████████████| Time: 0:00:05\u001b[39m\n"
     ]
    },
    {
     "name": "stdout",
     "output_type": "stream",
     "text": [
      "Total windows = 70, averaging ~ 324 unique haplotypes per window.\n",
      "\n",
      "Timings: \n",
      "    Data import                     = 9.06753 seconds\n",
      "    Computing haplotype pair        = 4.12708 seconds\n",
      "        computing dist(X, H)           = 0.102362 seconds per thread\n",
      "        BLAS3 mul! to get M and N      = 3.08088 seconds per thread\n",
      "        haplopair search               = 0.115584 seconds per thread\n",
      "        finding redundant happairs     = 0.077741 seconds per thread\n",
      "    Phasing by dynamic programming  = 2.44924 seconds\n",
      "    Imputation                      = 5.92068 seconds\n",
      "\n",
      " 21.565006 seconds (73.97 M allocations: 6.675 GiB, 4.47% gc time)\n"
     ]
    },
    {
     "data": {
      "text/plain": [
       "0.00012427222330556873"
      ]
     },
     "execution_count": 5,
     "metadata": {},
     "output_type": "execute_result"
    }
   ],
   "source": [
    "# haplopair_thin (doesn't accounts for allele freq), keep = 100 (1 thread)\n",
    "Random.seed!(2020)\n",
    "tgtfile = \"./compare1/target_masked.vcf.gz\"\n",
    "reffile = \"./compare1/haplo_ref.jlso\"\n",
    "outfile = \"./compare1/imputed_target.vcf.gz\"\n",
    "width   = 512\n",
    "@time hs, ph = phase(tgtfile, reffile, outfile = outfile, width = width, \n",
    "    thinning_factor=100, thinning_scale_allelefreq=false);\n",
    "\n",
    "# import imputed result and compare with true\n",
    "X_mendel = convert_gt(Float32, outfile)\n",
    "X_complete = convert_gt(Float32, \"./compare1/target.vcf.gz\")\n",
    "n, p = size(X_mendel)\n",
    "error_rate = sum(X_mendel .!= X_complete) / n / p"
   ]
  },
  {
   "cell_type": "markdown",
   "metadata": {},
   "source": [
    "# BLAS 3"
   ]
  },
  {
   "cell_type": "code",
   "execution_count": 4,
   "metadata": {
    "collapsed": false
   },
   "outputs": [
    {
     "name": "stderr",
     "output_type": "stream",
     "text": [
      "\u001b[32mImporting genotype file...100%|█████████████████████████| Time: 0:00:08\u001b[39m\n",
      "\u001b[32mWriting to file...100%|█████████████████████████████████| Time: 0:00:06\u001b[39m\n"
     ]
    },
    {
     "name": "stdout",
     "output_type": "stream",
     "text": [
      "Total windows = 70, averaging ~ 324 unique haplotypes per window.\n",
      "\n",
      "Timings: \n",
      "    Data import                     = 8.99109 seconds\n",
      "    Computing haplotype pair        = 4.14255 seconds\n",
      "        computing dist(X, H)           = 0.103014 seconds per thread\n",
      "        BLAS3 mul! to get M and N      = 3.12272 seconds per thread\n",
      "        haplopair search               = 0.121277 seconds per thread\n",
      "        finding redundant happairs     = 0.0745271 seconds per thread\n",
      "    Phasing by dynamic programming  = 2.65593 seconds\n",
      "    Imputation                      = 6.88047 seconds\n",
      "\n",
      " 22.670608 seconds (73.97 M allocations: 6.675 GiB, 4.33% gc time)\n"
     ]
    },
    {
     "data": {
      "text/plain": [
       "0.00012427222330556873"
      ]
     },
     "execution_count": 4,
     "metadata": {},
     "output_type": "execute_result"
    }
   ],
   "source": [
    "# haplopair_thin (doesn't accounts for allele freq), keep = 100 (1 thread)\n",
    "Random.seed!(2020)\n",
    "tgtfile = \"./compare1/target_masked.vcf.gz\"\n",
    "reffile = \"./compare1/haplo_ref.jlso\"\n",
    "outfile = \"./compare1/imputed_target.vcf.gz\"\n",
    "width   = 512\n",
    "@time hs, ph = phase(tgtfile, reffile, outfile = outfile, width = width, \n",
    "    thinning_factor=100, thinning_scale_allelefreq=false);\n",
    "\n",
    "# import imputed result and compare with true\n",
    "X_mendel = convert_gt(Float32, outfile)\n",
    "X_complete = convert_gt(Float32, \"./compare1/target.vcf.gz\")\n",
    "n, p = size(X_mendel)\n",
    "error_rate = sum(X_mendel .!= X_complete) / n / p"
   ]
  },
  {
   "cell_type": "code",
   "execution_count": null,
   "metadata": {
    "collapsed": true
   },
   "outputs": [],
   "source": []
  }
 ],
 "metadata": {
  "@webio": {
   "lastCommId": null,
   "lastKernelId": null
  },
  "kernelspec": {
   "display_name": "Julia 1.3.1",
   "language": "julia",
   "name": "julia-1.3"
  },
  "language_info": {
   "file_extension": ".jl",
   "mimetype": "application/julia",
   "name": "julia",
   "version": "1.3.1"
  }
 },
 "nbformat": 4,
 "nbformat_minor": 2
}
