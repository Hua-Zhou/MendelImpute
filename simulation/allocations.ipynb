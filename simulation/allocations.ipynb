{
 "cells": [
  {
   "cell_type": "markdown",
   "metadata": {},
   "source": [
    "# Minimizing allocations\n",
    "\n",
    "It seems like [any allocation is deterimental to multithreading](https://discourse.julialang.org/t/poor-performance-on-cluster-multithreading/12248), since garbage collection is single threaded (at least as of 2018). We cannot pre-allocate `M`, but all other intermediate matrices (e.g. Xwork, Hwork, N, temporary vectors) can be preallocated and scaled. "
   ]
  },
  {
   "cell_type": "code",
   "execution_count": 1,
   "metadata": {
    "collapsed": false
   },
   "outputs": [
    {
     "name": "stderr",
     "output_type": "stream",
     "text": [
      "┌ Info: Precompiling MendelImpute [e47305d1-6a61-5370-bc5d-77554d143183]\n",
      "└ @ Base loading.jl:1273\n"
     ]
    }
   ],
   "source": [
    "using Revise\n",
    "using VCFTools\n",
    "using MendelImpute\n",
    "using GeneticVariation\n",
    "using Random\n",
    "using SparseArrays\n",
    "using JLD2, FileIO, JLSO\n",
    "using ProgressMeter\n",
    "using GroupSlices\n",
    "using ThreadPools\n",
    "using BenchmarkTools\n",
    "using StatsBase\n",
    "# using Plots\n",
    "# using ProfileView"
   ]
  },
  {
   "cell_type": "code",
   "execution_count": 2,
   "metadata": {
    "collapsed": false
   },
   "outputs": [
    {
     "data": {
      "text/plain": [
       "8"
      ]
     },
     "execution_count": 2,
     "metadata": {},
     "output_type": "execute_result"
    }
   ],
   "source": [
    "Threads.nthreads()"
   ]
  },
  {
   "cell_type": "markdown",
   "metadata": {},
   "source": [
    "# Not yet optimized (7/11/2020)"
   ]
  },
  {
   "cell_type": "markdown",
   "metadata": {},
   "source": [
    "### window by window intersection with global search"
   ]
  },
  {
   "cell_type": "code",
   "execution_count": 5,
   "metadata": {
    "collapsed": false
   },
   "outputs": [
    {
     "name": "stdout",
     "output_type": "stream",
     "text": [
      "Importing reference haplotype data...\n"
     ]
    },
    {
     "name": "stderr",
     "output_type": "stream",
     "text": [
      "\u001b[32mImporting genotype file...100%|█████████████████████████| Time: 0:00:06\u001b[39m\n",
      "\u001b[32mWriting to file...100%|█████████████████████████████████| Time: 0:00:06\u001b[39m\n"
     ]
    },
    {
     "name": "stdout",
     "output_type": "stream",
     "text": [
      "Total windows = 72, averaging ~ 627 unique haplotypes per window.\n",
      "\n",
      "Timings: \n",
      "    Data import                     = 7.59873 seconds\n",
      "    Computing haplotype pair        = 2.23046 seconds\n",
      "        BLAS3 mul! to get M and N      = 0.0580204 seconds per thread\n",
      "        haplopair search               = 1.88659 seconds per thread\n",
      "        finding redundant happairs     = 0.0253855 seconds per thread\n",
      "    Phasing by win-win intersection = 0.18561 seconds\n",
      "    Imputation                      = 6.8954 seconds\n",
      "\n",
      " 17.168989 seconds (77.19 M allocations: 7.610 GiB, 6.38% gc time)\n",
      "error_rate = 8.32693826254268e-5\n"
     ]
    }
   ],
   "source": [
    "Random.seed!(2020)\n",
    "width   = 512\n",
    "tgtfile = \"./compare2/target.typedOnly.maf0.01.masked.vcf.gz\"\n",
    "reffile = \"./compare2/ref.excludeTarget.w$width.jlso\"\n",
    "outfile = \"./compare2/mendel.imputed.vcf.gz\"\n",
    "@time ph = phase(tgtfile, reffile, outfile = outfile, width = width,\n",
    "    dynamic_programming = false);\n",
    "\n",
    "X_mendel = convert_gt(Float32, outfile)\n",
    "X_complete = convert_gt(Float32, \"./compare2/target.full.vcf.gz\")\n",
    "n, p = size(X_mendel)\n",
    "println(\"error_rate = \", sum(X_mendel .!= X_complete) / n / p)\n",
    "rm(outfile, force=true)"
   ]
  },
  {
   "cell_type": "markdown",
   "metadata": {},
   "source": [
    "### haplotype thinning"
   ]
  },
  {
   "cell_type": "code",
   "execution_count": 6,
   "metadata": {
    "collapsed": false
   },
   "outputs": [
    {
     "name": "stdout",
     "output_type": "stream",
     "text": [
      "Importing reference haplotype data...\n"
     ]
    },
    {
     "name": "stderr",
     "output_type": "stream",
     "text": [
      "\u001b[32mImporting genotype file...100%|█████████████████████████| Time: 0:00:06\u001b[39m\n",
      "\u001b[32mWriting to file...100%|█████████████████████████████████| Time: 0:00:06\u001b[39m\n"
     ]
    },
    {
     "name": "stdout",
     "output_type": "stream",
     "text": [
      "Total windows = 72, averaging ~ 627 unique haplotypes per window.\n",
      "\n",
      "Timings: \n",
      "    Data import                     = 7.80156 seconds\n",
      "    Computing haplotype pair        = 3.30648 seconds\n",
      "        screening for top haplotypes   = 0.402203 seconds per thread\n",
      "        BLAS3 mul! to get M and N      = 2.35561 seconds per thread\n",
      "        haplopair search               = 0.0949087 seconds per thread\n",
      "        finding redundant happairs     = 0.0348157 seconds per thread\n",
      "    Phasing by win-win intersection = 0.177686 seconds\n",
      "    Imputation                      = 6.84377 seconds\n",
      "\n",
      " 18.479679 seconds (77.72 M allocations: 7.541 GiB, 6.05% gc time)\n",
      "error_rate = 8.550487693659426e-5\n"
     ]
    }
   ],
   "source": [
    "Random.seed!(2020)\n",
    "width   = 512\n",
    "tgtfile = \"./compare2/target.typedOnly.maf0.01.masked.vcf.gz\"\n",
    "reffile = \"./compare2/ref.excludeTarget.w$width.jlso\"\n",
    "outfile = \"./compare2/mendel.imputed.vcf.gz\"\n",
    "@time ph = phase(tgtfile, reffile, outfile = outfile, width = width,\n",
    "    dynamic_programming = false, thinning_factor=100, max_haplotypes=100);\n",
    "\n",
    "X_mendel = convert_gt(Float32, outfile)\n",
    "X_complete = convert_gt(Float32, \"./compare2/target.full.vcf.gz\")\n",
    "n, p = size(X_mendel)\n",
    "println(\"error_rate = \", sum(X_mendel .!= X_complete) / n / p)\n",
    "rm(outfile, force=true)"
   ]
  },
  {
   "cell_type": "markdown",
   "metadata": {},
   "source": [
    "### Lasso"
   ]
  },
  {
   "cell_type": "code",
   "execution_count": 10,
   "metadata": {
    "collapsed": false
   },
   "outputs": [
    {
     "name": "stdout",
     "output_type": "stream",
     "text": [
      "Importing reference haplotype data...\n"
     ]
    },
    {
     "name": "stderr",
     "output_type": "stream",
     "text": [
      "\u001b[32mImporting genotype file...100%|█████████████████████████| Time: 0:00:06\u001b[39m\n",
      "\u001b[32mWriting to file...100%|█████████████████████████████████| Time: 0:00:06\u001b[39m\n"
     ]
    },
    {
     "name": "stdout",
     "output_type": "stream",
     "text": [
      "Total windows = 72, averaging ~ 627 unique haplotypes per window.\n",
      "\n",
      "Timings: \n",
      "    Data import                     = 7.80041 seconds\n",
      "    Computing haplotype pair        = 0.683484 seconds\n",
      "        BLAS3 mul! to get M and N      = 0.104721 seconds per thread\n",
      "        haplopair search               = 0.307949 seconds per thread\n",
      "        finding redundant happairs     = 0.0280975 seconds per thread\n",
      "    Phasing by win-win intersection = 0.179585 seconds\n",
      "    Imputation                      = 6.49275 seconds\n",
      "\n",
      " 15.390669 seconds (77.19 M allocations: 7.610 GiB, 7.79% gc time)\n",
      "error_rate = 8.685062226819259e-5\n"
     ]
    }
   ],
   "source": [
    "Random.seed!(2020)\n",
    "width   = 512\n",
    "tgtfile = \"./compare2/target.typedOnly.maf0.01.masked.vcf.gz\"\n",
    "reffile = \"./compare2/ref.excludeTarget.w$width.jlso\"\n",
    "outfile = \"./compare2/mendel.imputed.vcf.gz\"\n",
    "@time hs, ph = phase(tgtfile, reffile, outfile = outfile, width = width,\n",
    "    lasso = 20, dynamic_programming=false, max_haplotypes=100);\n",
    "\n",
    "# import imputed result and compare with true\n",
    "X_mendel = convert_gt(Float32, outfile)\n",
    "# X_complete = convert_gt(Float32, \"./compare2/target.full.vcf.gz\")\n",
    "n, p = size(X_mendel)\n",
    "println(\"error_rate = \", sum(X_mendel .!= X_complete) / n / p)\n",
    "rm(outfile, force=true)"
   ]
  },
  {
   "cell_type": "markdown",
   "metadata": {},
   "source": [
    "# Optimized"
   ]
  },
  {
   "cell_type": "code",
   "execution_count": 4,
   "metadata": {
    "collapsed": false
   },
   "outputs": [
    {
     "name": "stdout",
     "output_type": "stream",
     "text": [
      "Importing reference haplotype data...\n"
     ]
    },
    {
     "name": "stderr",
     "output_type": "stream",
     "text": [
      "\u001b[32mImporting genotype file...100%|█████████████████████████| Time: 0:00:07\u001b[39m\n",
      "\u001b[32mWriting to file...100%|█████████████████████████████████| Time: 0:00:06\u001b[39m\n"
     ]
    },
    {
     "name": "stdout",
     "output_type": "stream",
     "text": [
      "Total windows = 72, averaging ~ 627 unique haplotypes per window.\n",
      "\n",
      "Timings: \n",
      "    Data import                     = 8.25352 seconds\n",
      "    Computing haplotype pair        = 2.23927 seconds\n",
      "        BLAS3 mul! to get M and N      = 0.0659687 seconds per thread\n",
      "        haplopair search               = 1.84551 seconds per thread\n",
      "        finding redundant happairs     = 0.0299791 seconds per thread\n",
      "    Phasing by win-win intersection = 0.18616 seconds\n",
      "    Imputation                      = 6.77303 seconds\n",
      "\n",
      " 17.844942 seconds (77.19 M allocations: 7.420 GiB, 7.17% gc time)\n",
      "error_rate = 8.32693826254268e-5\n"
     ]
    }
   ],
   "source": [
    "# global search: Preallocate all vectors/matrices\n",
    "Random.seed!(2020)\n",
    "width   = 512\n",
    "tgtfile = \"./compare2/target.typedOnly.maf0.01.masked.vcf.gz\"\n",
    "reffile = \"./compare2/ref.excludeTarget.w$width.jlso\"\n",
    "outfile = \"./compare2/mendel.imputed.vcf.gz\"\n",
    "@time ph = phase(tgtfile, reffile, outfile = outfile, width = width,\n",
    "    dynamic_programming = false);\n",
    "\n",
    "X_mendel = convert_gt(Float32, outfile)\n",
    "X_complete = convert_gt(Float32, \"./compare2/target.full.vcf.gz\")\n",
    "n, p = size(X_mendel)\n",
    "println(\"error_rate = \", sum(X_mendel .!= X_complete) / n / p)\n",
    "rm(outfile, force=true)"
   ]
  },
  {
   "cell_type": "code",
   "execution_count": 3,
   "metadata": {
    "collapsed": false,
    "scrolled": false
   },
   "outputs": [
    {
     "name": "stdout",
     "output_type": "stream",
     "text": [
      "Importing reference haplotype data...\n"
     ]
    },
    {
     "name": "stderr",
     "output_type": "stream",
     "text": [
      "\u001b[32mImporting genotype file...100%|█████████████████████████| Time: 0:00:06\u001b[39m\n",
      "\u001b[32mWriting to file...100%|█████████████████████████████████| Time: 0:00:06\u001b[39m\n"
     ]
    },
    {
     "name": "stdout",
     "output_type": "stream",
     "text": [
      "Total windows = 72, averaging ~ 627 unique haplotypes per window.\n",
      "\n",
      "Timings: \n",
      "    Data import                     = 7.63071 seconds\n",
      "    Computing haplotype pair        = 3.21096 seconds\n",
      "        screening for top haplotypes   = 0.62019 seconds per thread\n",
      "        BLAS3 mul! to get M and N      = 2.25471 seconds per thread\n",
      "        haplopair search               = 0.0934914 seconds per thread\n",
      "        finding redundant happairs     = 0.0637935 seconds per thread\n",
      "    Phasing by win-win intersection = 0.194177 seconds\n",
      "    Imputation                      = 6.52209 seconds\n",
      "\n",
      " 17.627988 seconds (77.20 M allocations: 7.317 GiB, 5.14% gc time)\n",
      "error_rate = 8.550487693659426e-5\n"
     ]
    }
   ],
   "source": [
    "# thinning: preallocate all vectors/matrices\n",
    "Random.seed!(2020)\n",
    "width   = 512\n",
    "tgtfile = \"./compare2/target.typedOnly.maf0.01.masked.vcf.gz\"\n",
    "reffile = \"./compare2/ref.excludeTarget.w$width.jlso\"\n",
    "outfile = \"./compare2/mendel.imputed.vcf.gz\"\n",
    "@time ph = phase(tgtfile, reffile, outfile = outfile, width = width,\n",
    "    dynamic_programming = false, thinning_factor=100, max_haplotypes=100);\n",
    "\n",
    "X_mendel = convert_gt(Float32, outfile)\n",
    "X_complete = convert_gt(Float32, \"./compare2/target.full.vcf.gz\")\n",
    "n, p = size(X_mendel)\n",
    "println(\"error_rate = \", sum(X_mendel .!= X_complete) / n / p)\n",
    "rm(outfile, force=true)"
   ]
  },
  {
   "cell_type": "code",
   "execution_count": 10,
   "metadata": {
    "collapsed": false
   },
   "outputs": [
    {
     "name": "stdout",
     "output_type": "stream",
     "text": [
      "Importing reference haplotype data...\n"
     ]
    },
    {
     "name": "stderr",
     "output_type": "stream",
     "text": [
      "\u001b[32mImporting genotype file...100%|█████████████████████████| Time: 0:00:07\u001b[39m\n",
      "\u001b[32mWriting to file...100%|█████████████████████████████████| Time: 0:00:06\u001b[39m\n"
     ]
    },
    {
     "name": "stdout",
     "output_type": "stream",
     "text": [
      "Total windows = 72, averaging ~ 627 unique haplotypes per window.\n",
      "\n",
      "Timings: \n",
      "    Data import                     = 8.60205 seconds\n",
      "    Computing haplotype pair        = 3.22841 seconds\n",
      "        BLAS3 mul! to get M and N      = 0.0361663 seconds per thread\n",
      "        haplopair search               = 0.180822 seconds per thread\n",
      "        finding redundant happairs     = 0.0371089 seconds per thread\n",
      "    Phasing by win-win intersection = 0.216741 seconds\n",
      "    Imputation                      = 7.02347 seconds\n",
      "\n",
      " 19.152174 seconds (77.19 M allocations: 7.420 GiB, 6.80% gc time)\n",
      "error_rate = 8.685062226819259e-5\n"
     ]
    }
   ],
   "source": [
    "# lasso: preallocate all vectors/matrices\n",
    "Random.seed!(2020)\n",
    "width   = 512\n",
    "tgtfile = \"./compare2/target.typedOnly.maf0.01.masked.vcf.gz\"\n",
    "reffile = \"./compare2/ref.excludeTarget.w$width.jlso\"\n",
    "outfile = \"./compare2/mendel.imputed.vcf.gz\"\n",
    "@time hs, ph = phase(tgtfile, reffile, outfile = outfile, width = width,\n",
    "    lasso = 20, dynamic_programming=false, max_haplotypes=100);\n",
    "\n",
    "# import imputed result and compare with true\n",
    "X_mendel = convert_gt(Float32, outfile)\n",
    "X_complete = convert_gt(Float32, \"./compare2/target.full.vcf.gz\")\n",
    "n, p = size(X_mendel)\n",
    "println(\"error_rate = \", sum(X_mendel .!= X_complete) / n / p)\n",
    "rm(outfile, force=true)"
   ]
  },
  {
   "cell_type": "markdown",
   "metadata": {},
   "source": [
    "# Lets do rigorous benchmarks"
   ]
  },
  {
   "cell_type": "code",
   "execution_count": 5,
   "metadata": {
    "collapsed": false
   },
   "outputs": [
    {
     "name": "stderr",
     "output_type": "stream",
     "text": [
      "\u001b[32mImporting genotype file...100%|█████████████████████████| Time: 0:00:06\u001b[39m\n"
     ]
    }
   ],
   "source": [
    "# first import all data, declare a bunch of (needed or not) variables, and look at 1 window\n",
    "Random.seed!(2020)\n",
    "width   = 512\n",
    "tgtfile = \"./compare2/target.typedOnly.maf0.01.masked.vcf.gz\"\n",
    "reffile = \"./compare2/ref.excludeTarget.w$width.jlso\"\n",
    "\n",
    "loaded = JLSO.load(reffile)\n",
    "compressed_Hunique = loaded[:compressed_Hunique]\n",
    "X, X_sampleID, X_chr, X_pos, X_ids, X_ref, X_alt = VCFTools.convert_gt(UInt8, tgtfile, trans=true, save_snp_info=true, msg = \"Importing genotype file...\");\n",
    "\n",
    "people = size(X, 2)\n",
    "tgt_snps = size(X, 1)\n",
    "ref_snps = length(compressed_Hunique.pos)\n",
    "tot_windows = floor(Int, tgt_snps / width)\n",
    "avg_num_unique_haps = round(Int, avg_haplotypes_per_window(compressed_Hunique))\n",
    "max_windows_per_chunks = nchunks(avg_num_unique_haps, nhaplotypes(compressed_Hunique), width, people, Threads.nthreads(), Base.summarysize(X), compressed_Hunique)\n",
    "chunks = ceil(Int, tot_windows / min(tot_windows, max_windows_per_chunks))\n",
    "num_windows_per_chunks = round(Int, tot_windows / chunks)\n",
    "snps_per_chunk = num_windows_per_chunks * width\n",
    "last_chunk_windows = tot_windows - (chunks - 1) * num_windows_per_chunks\n",
    "\n",
    "ph = [HaplotypeMosaicPair(ref_snps) for i in 1:people]\n",
    "redundant_haplotypes = [OptimalHaplotypeSet(num_windows_per_chunks, nhaplotypes(compressed_Hunique)) for i in 1:people]\n",
    "\n",
    "chunk = 1\n",
    "windows = (chunk == chunks ? last_chunk_windows : num_windows_per_chunks)\n",
    "w_start = (chunk - 1) * num_windows_per_chunks + 1\n",
    "w_end = (chunk == chunks ? tot_windows : chunk * num_windows_per_chunks)\n",
    "\n",
    "MendelImpute.initialize!(redundant_haplotypes)\n",
    "chunk == chunks && MendelImpute.resize!(redundant_haplotypes, last_chunk_windows)\n",
    "\n",
    "winrange = w_start:w_end\n",
    "people = size(X, 2)\n",
    "ref_snps = length(compressed_Hunique.pos)\n",
    "width = compressed_Hunique.width\n",
    "windows = length(winrange)\n",
    "threads = Threads.nthreads()\n",
    "tothaps = nhaplotypes(compressed_Hunique)\n",
    "\n",
    "# working arrys \n",
    "happair1 = [ones(Int32, people)           for _ in 1:threads]\n",
    "happair2 = [ones(Int32, people)           for _ in 1:threads]\n",
    "hapscore = [zeros(Float32, size(X, 2))    for _ in 1:threads]\n",
    "Xwork    = [zeros(Float32, width, people) for _ in 1:threads]\n",
    "redunhaps_bitvec1 = [falses(tothaps) for _ in 1:threads]\n",
    "redunhaps_bitvec2 = [falses(tothaps) for _ in 1:threads]\n",
    "\n",
    "# window 1\n",
    "absolute_w = 1\n",
    "Hw_aligned = compressed_Hunique.CW_typed[absolute_w].uniqueH\n",
    "Xw_idx_start = (absolute_w - 1) * width + 1\n",
    "Xw_idx_end = absolute_w * width\n",
    "Xw_aligned = view(X, Xw_idx_start:Xw_idx_end, :)\n",
    "id = Threads.threadid();"
   ]
  },
  {
   "cell_type": "code",
   "execution_count": 3,
   "metadata": {
    "collapsed": false
   },
   "outputs": [
    {
     "data": {
      "text/plain": [
       "BenchmarkTools.Trial: \n",
       "  memory estimate:  0 bytes\n",
       "  allocs estimate:  0\n",
       "  --------------\n",
       "  minimum time:     121.945 ms (0.00% GC)\n",
       "  median time:      124.566 ms (0.00% GC)\n",
       "  mean time:        124.980 ms (0.00% GC)\n",
       "  maximum time:     131.547 ms (0.00% GC)\n",
       "  --------------\n",
       "  samples:          41\n",
       "  evals/sample:     1"
      ]
     },
     "execution_count": 3,
     "metadata": {},
     "output_type": "execute_result"
    }
   ],
   "source": [
    "# global search must allocate M, Hwork, N for each window, but there's no other allocation\n",
    "M = zeros(Float32, size(Hw_aligned, 2), size(Hw_aligned, 2))\n",
    "N = zeros(Float32, size(Xw_aligned, 2), size(Hw_aligned, 2))\n",
    "Hwork = convert(Matrix{Float32}, Hw_aligned)\n",
    "@benchmark haplopair!($Xw_aligned, $Hw_aligned, happair1=$(happair1[id]), \n",
    "    happair2=$(happair2[id]), hapscore=$(hapscore[id]), Xwork=$(Xwork[id]),\n",
    "    M=$M, N=$N, Hwork=$Hwork)"
   ]
  },
  {
   "cell_type": "code",
   "execution_count": 5,
   "metadata": {
    "collapsed": false
   },
   "outputs": [
    {
     "data": {
      "text/plain": [
       "BenchmarkTools.Trial: \n",
       "  memory estimate:  0 bytes\n",
       "  allocs estimate:  0\n",
       "  --------------\n",
       "  minimum time:     211.456 ms (0.00% GC)\n",
       "  median time:      225.450 ms (0.00% GC)\n",
       "  mean time:        225.303 ms (0.00% GC)\n",
       "  maximum time:     244.914 ms (0.00% GC)\n",
       "  --------------\n",
       "  samples:          23\n",
       "  evals/sample:     1"
      ]
     },
     "execution_count": 5,
     "metadata": {},
     "output_type": "execute_result"
    }
   ],
   "source": [
    "# thinning must allocate a bunch of vector/matrices. Only R, Hwork cannot be preallocated\n",
    "# all allocations are due to distance computation.\n",
    "keep    = 100\n",
    "maxindx = zeros(Int, keep)\n",
    "maxgrad = zeros(Float32, keep)\n",
    "Xi      = zeros(Float32, size(Xw_aligned, 1))\n",
    "N       = zeros(Float32, keep)\n",
    "Hk    = zeros(Float32, size(Hw_aligned, 1), keep)\n",
    "M     = zeros(Float32, keep, keep)\n",
    "Xwork = zeros(Float32, size(Xw_aligned, 1), size(Xw_aligned, 2))\n",
    "Hwork = convert(Matrix{Float32}, Hw_aligned)\n",
    "R     = rand(Float32, size(Hw_aligned, 2), size(Xw_aligned, 2))\n",
    "@benchmark haplopair_thin_BLAS2!($Xw_aligned, $Hw_aligned, allele_freq=nothing, \n",
    "    keep=$keep, happair1=$(happair1[id]), happair2=$(happair2[id]), \n",
    "    hapscore=$(hapscore[id]), maxindx=$maxindx, maxgrad=$maxgrad, Xi=$Xi, N=$N, \n",
    "    Hk=$Hk, M=$M, Xwork=$Xwork, Hwork=$Hwork, R=$R)"
   ]
  },
  {
   "cell_type": "code",
   "execution_count": 4,
   "metadata": {
    "collapsed": false
   },
   "outputs": [
    {
     "data": {
      "text/plain": [
       "BenchmarkTools.Trial: \n",
       "  memory estimate:  0 bytes\n",
       "  allocs estimate:  0\n",
       "  --------------\n",
       "  minimum time:     26.048 ms (0.00% GC)\n",
       "  median time:      27.389 ms (0.00% GC)\n",
       "  mean time:        27.534 ms (0.00% GC)\n",
       "  maximum time:     32.354 ms (0.00% GC)\n",
       "  --------------\n",
       "  samples:          182\n",
       "  evals/sample:     1"
      ]
     },
     "execution_count": 4,
     "metadata": {},
     "output_type": "execute_result"
    }
   ],
   "source": [
    "# lasso: here Hwork, M, Nt cannot be preallocated, but there's no other allocation.\n",
    "r       = 10\n",
    "maxindx = zeros(Int, r)\n",
    "maxgrad = zeros(Float32, r)\n",
    "Xwork = zeros(Float32, size(Xw_aligned, 1), size(Xw_aligned, 2))\n",
    "Hwork = convert(Matrix{Float32}, Hw_aligned)\n",
    "M     = zeros(Float32, size(Hw_aligned, 2), size(Hw_aligned, 2))\n",
    "Nt    = zeros(Float32, size(Hw_aligned, 2), size(Xw_aligned, 2))\n",
    "@benchmark haplopair_lasso!($Xw_aligned, $Hw_aligned, r=$r, happair1=$(happair1[id]), \n",
    "    happair2=$(happair2[id]), hapscore=$(hapscore[id]), maxindx=$maxindx, \n",
    "    maxgrad=$maxgrad, Xwork=$Xwork, Hwork=$Hwork, M=$M, Nt=$Nt)"
   ]
  },
  {
   "cell_type": "code",
   "execution_count": 12,
   "metadata": {
    "collapsed": false
   },
   "outputs": [
    {
     "name": "stdout",
     "output_type": "stream",
     "text": [
      "  0.005366 seconds (4.00 k allocations: 9.461 MiB)\n"
     ]
    }
   ],
   "source": [
    "# computing redundant haps have allocation in first chunk\n",
    "w = something(findfirst(x -> x == absolute_w, winrange)) # window index of current chunk\n",
    "redundant_haplotypes = [OptimalHaplotypeSet(num_windows_per_chunks, nhaplotypes(compressed_Hunique)) for i in 1:people]\n",
    "@time compute_redundant_haplotypes!(redundant_haplotypes, compressed_Hunique, \n",
    "    (happair1[id]), (happair2[id]), w, absolute_w, (redunhaps_bitvec1[id]), \n",
    "    (redunhaps_bitvec2[id]))"
   ]
  },
  {
   "cell_type": "code",
   "execution_count": 13,
   "metadata": {
    "collapsed": false
   },
   "outputs": [
    {
     "data": {
      "text/plain": [
       "BenchmarkTools.Trial: \n",
       "  memory estimate:  0 bytes\n",
       "  allocs estimate:  0\n",
       "  --------------\n",
       "  minimum time:     593.756 μs (0.00% GC)\n",
       "  median time:      607.433 μs (0.00% GC)\n",
       "  mean time:        617.867 μs (0.00% GC)\n",
       "  maximum time:     1.646 ms (0.00% GC)\n",
       "  --------------\n",
       "  samples:          8068\n",
       "  evals/sample:     1"
      ]
     },
     "execution_count": 13,
     "metadata": {},
     "output_type": "execute_result"
    }
   ],
   "source": [
    "# computing redundant haps have 0 allocation in subsequent chunks\n",
    "w = something(findfirst(x -> x == absolute_w, winrange)) # window index of current chunk\n",
    "@benchmark compute_redundant_haplotypes!($redundant_haplotypes, $compressed_Hunique, \n",
    "    $(happair1[id]), $(happair2[id]), $w, $absolute_w, $(redunhaps_bitvec1[id]), \n",
    "    $(redunhaps_bitvec2[id]))"
   ]
  },
  {
   "cell_type": "markdown",
   "metadata": {},
   "source": [
    "# Writing routine"
   ]
  },
  {
   "cell_type": "code",
   "execution_count": 10,
   "metadata": {
    "collapsed": false
   },
   "outputs": [
    {
     "name": "stdout",
     "output_type": "stream",
     "text": [
      "Importing reference haplotype data...\n"
     ]
    },
    {
     "name": "stderr",
     "output_type": "stream",
     "text": [
      "\u001b[32mImporting genotype file...100%|█████████████████████████| Time: 0:00:07\u001b[39m\n",
      "\u001b[32mWriting to file...100%|█████████████████████████████████| Time: 0:00:06\u001b[39m\n"
     ]
    },
    {
     "name": "stdout",
     "output_type": "stream",
     "text": [
      "Total windows = 72, averaging ~ 627 unique haplotypes per window.\n",
      "\n",
      "Timings: \n",
      "    Data import                     = 8.4725 seconds\n",
      "    Computing haplotype pair        = 3.33952 seconds\n",
      "        BLAS3 mul! to get M and N      = 0.0983789 seconds per thread\n",
      "        haplopair search               = 2.90371 seconds per thread\n",
      "        finding redundant happairs     = 0.0345083 seconds per thread\n",
      "    Phasing by win-win intersection = 0.287375 seconds\n",
      "    Imputation                      = 7.33042 seconds\n",
      "\n",
      " 19.804090 seconds (78.25 M allocations: 7.471 GiB, 5.16% gc time)\n"
     ]
    },
    {
     "name": "stderr",
     "output_type": "stream",
     "text": [
      "\u001b[32mImporting genotype file...100%|█████████████████████████| Time: 0:00:07\u001b[39m\n"
     ]
    }
   ],
   "source": [
    "# create variables\n",
    "Random.seed!(2020)\n",
    "width   = 512\n",
    "tgtfile = \"./compare2/target.typedOnly.maf0.01.masked.vcf.gz\"\n",
    "reffile = \"./compare2/ref.excludeTarget.w$width.jlso\"\n",
    "outfile = \"./compare2/mendel.imputed.vcf.gz\"\n",
    "@time ph = phase(tgtfile, reffile, outfile = outfile, width = width,\n",
    "    dynamic_programming = false);\n",
    "\n",
    "loaded = JLSO.load(reffile)\n",
    "compressed_Hunique = loaded[:compressed_Hunique]\n",
    "\n",
    "X, X_sampleID, X_chr, X_pos, X_ids, X_ref, X_alt = VCFTools.convert_gt(UInt8, tgtfile, trans=true, save_snp_info=true, msg = \"Importing genotype file...\")\n",
    "XtoH_idx = indexin(X_pos, compressed_Hunique.pos) # X_pos[i] == H_pos[XtoH_idx[i]]\n",
    "X_full = Matrix{Union{Missing, UInt8}}(missing, length(compressed_Hunique.pos), size(X, 2))\n",
    "copyto!(@view(X_full[XtoH_idx, :]), X); # keep known entries\n",
    "impute_discard_phase!(X_full, compressed_Hunique, ph)"
   ]
  },
  {
   "cell_type": "code",
   "execution_count": null,
   "metadata": {
    "collapsed": true
   },
   "outputs": [],
   "source": [
    "@time write(outfile, X_full, compressed_Hunique, X_sampleID)"
   ]
  },
  {
   "cell_type": "code",
   "execution_count": 18,
   "metadata": {
    "collapsed": false
   },
   "outputs": [
    {
     "name": "stderr",
     "output_type": "stream",
     "text": [
      "\u001b[32mWriting to file...100%|█████████████████████████████████| Time: 0:00:06\u001b[39m\n",
      "\u001b[32mWriting to file...100%|█████████████████████████████████| Time: 0:00:05\u001b[39m\n",
      "\u001b[32mWriting to file...100%|█████████████████████████████████| Time: 0:00:05\u001b[39m\n",
      "\u001b[32mWriting to file...100%|█████████████████████████████████| Time: 0:00:05\u001b[39m\n",
      "\u001b[32mWriting to file...100%|█████████████████████████████████| Time: 0:00:05\u001b[39m\n",
      "\u001b[32mWriting to file...100%|█████████████████████████████████| Time: 0:00:05\u001b[39m\n",
      "\u001b[32mWriting to file...100%|█████████████████████████████████| Time: 0:00:05\u001b[39m\n",
      "\u001b[32mWriting to file...100%|█████████████████████████████████| Time: 0:00:05\u001b[39m\n",
      "\u001b[32mWriting to file...100%|█████████████████████████████████| Time: 0:00:05\u001b[39m\n",
      "\u001b[32mWriting to file...100%|█████████████████████████████████| Time: 0:00:05\u001b[39m\n",
      "\u001b[32mWriting to file...100%|█████████████████████████████████| Time: 0:00:05\u001b[39m\n",
      "\u001b[32mWriting to file...100%|█████████████████████████████████| Time: 0:00:06\u001b[39m\n",
      "\u001b[32mWriting to file...100%|█████████████████████████████████| Time: 0:00:06\u001b[39m\n",
      "\u001b[32mWriting to file...100%|█████████████████████████████████| Time: 0:00:05\u001b[39m\n"
     ]
    },
    {
     "name": "stdout",
     "output_type": "stream",
     "text": [
      "  5.933 s (414103 allocations: 362.05 MiB)\n"
     ]
    }
   ],
   "source": [
    "# original\n",
    "@btime write($outfile, $X_full, $compressed_Hunique, $X_sampleID) seconds=30"
   ]
  },
  {
   "cell_type": "code",
   "execution_count": 16,
   "metadata": {
    "collapsed": false,
    "scrolled": true
   },
   "outputs": [
    {
     "name": "stderr",
     "output_type": "stream",
     "text": [
      "\u001b[32mWriting to file...100%|█████████████████████████████████| Time: 0:00:06\u001b[39m\n",
      "\u001b[32mWriting to file...100%|█████████████████████████████████| Time: 0:00:06\u001b[39m\n",
      "\u001b[32mWriting to file...100%|█████████████████████████████████| Time: 0:00:06\u001b[39m\n",
      "\u001b[32mWriting to file...100%|█████████████████████████████████| Time: 0:00:06\u001b[39m\n",
      "\u001b[32mWriting to file...100%|█████████████████████████████████| Time: 0:00:06\u001b[39m\n",
      "\u001b[32mWriting to file...100%|█████████████████████████████████| Time: 0:00:06\u001b[39m\n",
      "\u001b[32mWriting to file...100%|█████████████████████████████████| Time: 0:00:06\u001b[39m\n",
      "\u001b[32mWriting to file...100%|█████████████████████████████████| Time: 0:00:06\u001b[39m\n",
      "\u001b[32mWriting to file...100%|█████████████████████████████████| Time: 0:00:06\u001b[39m\n",
      "\u001b[32mWriting to file...100%|█████████████████████████████████| Time: 0:00:06\u001b[39m\n",
      "\u001b[32mWriting to file...100%|█████████████████████████████████| Time: 0:00:06\u001b[39m\n",
      "\u001b[32mWriting to file...100%|█████████████████████████████████| Time: 0:00:06\u001b[39m\n",
      "\u001b[32mWriting to file...100%|█████████████████████████████████| Time: 0:00:06\u001b[39m\n"
     ]
    },
    {
     "name": "stdout",
     "output_type": "stream",
     "text": [
      "  6.211 s (414104 allocations: 362.05 MiB)\n"
     ]
    }
   ],
   "source": [
    "# copy\n",
    "@btime write($outfile, $X_full, $compressed_Hunique, $X_sampleID) seconds=30"
   ]
  },
  {
   "cell_type": "markdown",
   "metadata": {
    "collapsed": true
   },
   "source": [
    "# Optimize window by window intersection"
   ]
  },
  {
   "cell_type": "markdown",
   "metadata": {},
   "source": [
    "# using array of int\n",
    "\n",
    "Seems like `intersect!` in Base is allocating a lot. Its implementation is confusing."
   ]
  },
  {
   "cell_type": "code",
   "execution_count": 4,
   "metadata": {
    "collapsed": false
   },
   "outputs": [
    {
     "name": "stdout",
     "output_type": "stream",
     "text": [
      "  311.573 ns (15 allocations: 1.05 KiB)\n"
     ]
    },
    {
     "data": {
      "text/plain": [
       "1-element Array{Int64,1}:\n",
       " 1"
      ]
     },
     "execution_count": 4,
     "metadata": {},
     "output_type": "execute_result"
    }
   ],
   "source": [
    "@btime intersect!(x, y) setup=(x = [1, 2, 3]; y = [1, 4])"
   ]
  },
  {
   "cell_type": "code",
   "execution_count": 11,
   "metadata": {
    "collapsed": false
   },
   "outputs": [
    {
     "data": {
      "text/html": [
       "intersect!(v::<b>AbstractArray{T,1} where T</b>, itrs...) in Base at <a href=\"https://github.com/JuliaLang/julia/tree/2d5741174ce3e6a394010d2e470e4269ca54607f/base/array.jl#L2439\" target=\"_blank\">array.jl:2439</a>"
      ],
      "text/plain": [
       "intersect!(v::AbstractArray{T,1} where T, itrs...) in Base at array.jl:2439"
      ]
     },
     "execution_count": 11,
     "metadata": {},
     "output_type": "execute_result"
    }
   ],
   "source": [
    "@which intersect!([1, 2, 3], [1, 4])"
   ]
  },
  {
   "cell_type": "markdown",
   "metadata": {},
   "source": [
    "## Try writing our own non-allocating intersect\n",
    "\n",
    "In our application, the 2 integer vectors are sorted and elements are unique. The code below doesn't assume such, so there may be faster implementations."
   ]
  },
  {
   "cell_type": "code",
   "execution_count": 18,
   "metadata": {
    "collapsed": false
   },
   "outputs": [
    {
     "data": {
      "text/plain": [
       "intersect_size (generic function with 4 methods)"
      ]
     },
     "execution_count": 18,
     "metadata": {},
     "output_type": "execute_result"
    }
   ],
   "source": [
    "\"\"\"\n",
    "    intersect!(v::AbstractVector, u::AbstractVector, seen::BitSet=BitSet())\n",
    "\n",
    "Computes `v ∩ u` in place and stores result in `v`. \n",
    "\n",
    "# Arguments\n",
    "- `v`: An integer vector\n",
    "- `u`: An integer vector\n",
    "- `seen`: Preallocated storage container\n",
    "\"\"\"\n",
    "function Base.intersect!(\n",
    "    v::AbstractVector{<:Integer}, \n",
    "    u::AbstractVector{<:Integer}, \n",
    "    seen::AbstractSet\n",
    "    )\n",
    "    empty!(seen)\n",
    "    for i in u\n",
    "        push!(seen, i)\n",
    "    end\n",
    "    for i in Iterators.reverse(eachindex(v))\n",
    "        @inbounds v[i] ∉ seen && deleteat!(v, i)\n",
    "    end\n",
    "    nothing\n",
    "end\n",
    "\n",
    "\"\"\"\n",
    "    intersect_size(v::AbstractVector, u::AbstractVector, seen::BitSet=BitSet())\n",
    "\n",
    "Computes the size of `v ∩ u` in place. Assumes `v` is usually smaller than `u`\n",
    "and each element in `v` is unique.\n",
    "\n",
    "# Arguments\n",
    "- `v`: An integer vector\n",
    "- `u`: An integer vector\n",
    "- `seen`: Preallocated storage container\n",
    "\"\"\"\n",
    "function intersect_size(\n",
    "    v::AbstractVector{<:Integer}, \n",
    "    u::AbstractVector{<:Integer}, \n",
    "    seen::AbstractSet=BitSet()\n",
    "    )\n",
    "    empty!(seen)\n",
    "    for i in u\n",
    "        push!(seen, i)\n",
    "    end\n",
    "    s = 0\n",
    "    for i in eachindex(v)\n",
    "        @inbounds v[i] ∈ seen && (s += 1)\n",
    "    end\n",
    "    return s\n",
    "end\n",
    "intersect_size(v::AbstractVector, u::Integer, seen) = u in v"
   ]
  },
  {
   "cell_type": "code",
   "execution_count": 15,
   "metadata": {
    "collapsed": false
   },
   "outputs": [
    {
     "name": "stdout",
     "output_type": "stream",
     "text": [
      "intersect_size(x, y, seen) = 2\n",
      "x = [3, 5]\n",
      "y = [2, 3, 5, 6]\n"
     ]
    }
   ],
   "source": [
    "# correctness\n",
    "seen = BitSet()\n",
    "sizehint!(seen, 10000)\n",
    "x = [1, 3, 4, 5, 7, 9]\n",
    "y = [2, 3, 5, 6]\n",
    "@show intersect_size(x, y, seen)\n",
    "intersect!(x, y, seen)\n",
    "@show x\n",
    "@show y;"
   ]
  },
  {
   "cell_type": "markdown",
   "metadata": {},
   "source": [
    "### Timings"
   ]
  },
  {
   "cell_type": "code",
   "execution_count": 4,
   "metadata": {
    "collapsed": false
   },
   "outputs": [
    {
     "name": "stdout",
     "output_type": "stream",
     "text": [
      "  70.590 μs (35 allocations: 95.62 KiB)\n"
     ]
    }
   ],
   "source": [
    "# Julia built in\n",
    "@btime intersect!(x, y) setup=(x = rand(1:10000, 1000); y = rand(1:10000, 1000));"
   ]
  },
  {
   "cell_type": "code",
   "execution_count": 5,
   "metadata": {
    "collapsed": false
   },
   "outputs": [
    {
     "name": "stdout",
     "output_type": "stream",
     "text": [
      "  2.768 μs (0 allocations: 0 bytes)\n"
     ]
    }
   ],
   "source": [
    "seen = BitSet()\n",
    "sizehint!(seen, 10000)\n",
    "@btime intersect!(x, y, $seen) setup=(x = rand(1:10000, 1000); y = rand(1:10000, 1000));"
   ]
  },
  {
   "cell_type": "code",
   "execution_count": 13,
   "metadata": {
    "collapsed": false
   },
   "outputs": [
    {
     "name": "stdout",
     "output_type": "stream",
     "text": [
      "  2.457 μs (0 allocations: 0 bytes)\n"
     ]
    }
   ],
   "source": [
    "seen = BitSet()\n",
    "sizehint!(seen, 10000)\n",
    "@btime intersect_size(x, y, $seen) setup=(x = rand(1:10000, 1000); y = rand(1:10000, 1000));"
   ]
  },
  {
   "cell_type": "code",
   "execution_count": 3,
   "metadata": {
    "collapsed": false
   },
   "outputs": [
    {
     "name": "stderr",
     "output_type": "stream",
     "text": [
      "\u001b[32mImporting genotype file...100%|█████████████████████████| Time: 0:00:07\u001b[39m\n"
     ]
    }
   ],
   "source": [
    "# first import all data, declare a bunch of (needed or not) variables, and look at 1 window\n",
    "cd(\"/Users/biona001/.julia/dev/MendelImpute/simulation\")\n",
    "Random.seed!(2020)\n",
    "width   = 512\n",
    "tgtfile = \"./compare2/target.typedOnly.maf0.01.masked.vcf.gz\"\n",
    "reffile = \"./compare2/ref.excludeTarget.w$width.jlso\"\n",
    "loaded = JLSO.load(reffile)\n",
    "compressed_Hunique = loaded[:compressed_Hunique]\n",
    "X, X_sampleID, X_chr, X_pos, X_ids, X_ref, X_alt = VCFTools.convert_gt(UInt8, tgtfile, \n",
    "    trans=true, save_snp_info=true, msg = \"Importing genotype file...\");\n",
    "\n",
    "# first person's optimal haplotype in each window (complete index)\n",
    "happair1_original = [9, 9, 30, 218, 31, 31, 86, 30, 86, 218, 163, 163, 45, 45, 163, 687, \n",
    "    3, 3, 6, 687, 3, 170, 212, 687, 328, 687, 48, 67, 7, 7, 7, 7, 7, 7, 169, 169, 156, \n",
    "    156, 169, 169, 336, 539, 34, 300, 300, 300, 260, 284, 284, 1, 91, 91, 14, 104, 131, \n",
    "    131, 548, 8, 8, 8, 8, 8, 8, 183, 8, 23, 6, 117, 754, 190, 16, 16]\n",
    "happair2_original = [5509, 45, 218, 5509, 218, 173, 218, 218, 218, 687, 218, 218, 163, 163, \n",
    "    1837, 709, 32, 687, 128, 1312, 202, 687, 277, 709, 328, 709, 475, 687, 687, 98, 98, 274, \n",
    "    169, 169, 709, 601, 709, 709, 384, 709, 709, 687, 171, 687, 426, 426, 284, 300, 539, \n",
    "    76, 617, 104, 104, 131, 1837, 140, 687, 687, 144, 687, 687, 233, 70, 233, 23, 1837, \n",
    "    23, 899, 2392, 1538, 78, 754];"
   ]
  },
  {
   "cell_type": "code",
   "execution_count": 9,
   "metadata": {
    "collapsed": false
   },
   "outputs": [
    {
     "name": "stdout",
     "output_type": "stream",
     "text": [
      "  0.002382 seconds (4 allocations: 160 bytes)\n"
     ]
    }
   ],
   "source": [
    "happair1 = copy(happair1_original)\n",
    "happair2 = copy(happair2_original)\n",
    "seen = BitSet()\n",
    "survivors1=Int32[]\n",
    "survivors2=Int32[]\n",
    "sizehint!(seen, 60000)\n",
    "sizehint!(survivors1, 60000)\n",
    "sizehint!(survivors2, 60000)\n",
    "\n",
    "@time phase_sample!(happair1, happair2, compressed_Hunique, seen, survivors1, survivors2)"
   ]
  },
  {
   "cell_type": "code",
   "execution_count": 7,
   "metadata": {
    "collapsed": false
   },
   "outputs": [
    {
     "name": "stdout",
     "output_type": "stream",
     "text": [
      "  1.521 ms (0 allocations: 0 bytes)\n"
     ]
    }
   ],
   "source": [
    "seen = BitSet()\n",
    "survivors1=Int32[]\n",
    "survivors2=Int32[]\n",
    "sizehint!(seen, 60000)\n",
    "sizehint!(survivors1, 60000)\n",
    "sizehint!(survivors2, 60000)\n",
    "\n",
    "@btime phase_sample!(happair1, happair2, $compressed_Hunique, $seen, $survivors1,\n",
    "    $survivors2) setup=(happair1=copy(happair1_original);happair2 = \n",
    "    copy(happair2_original))"
   ]
  },
  {
   "cell_type": "code",
   "execution_count": null,
   "metadata": {
    "collapsed": true
   },
   "outputs": [],
   "source": []
  }
 ],
 "metadata": {
  "@webio": {
   "lastCommId": null,
   "lastKernelId": null
  },
  "kernelspec": {
   "display_name": "Julia 1.3.1",
   "language": "julia",
   "name": "julia-1.3"
  },
  "language_info": {
   "file_extension": ".jl",
   "mimetype": "application/julia",
   "name": "julia",
   "version": "1.3.1"
  }
 },
 "nbformat": 4,
 "nbformat_minor": 2
}
