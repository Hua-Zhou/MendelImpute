{
 "cells": [
  {
   "cell_type": "markdown",
   "metadata": {},
   "source": [
    "# Minimizing allocations\n",
    "\n",
    "It seems like [any allocation is deterimental to multithreading](https://discourse.julialang.org/t/poor-performance-on-cluster-multithreading/12248), since garbage collection is single threaded (at least as of 2018). We cannot pre-allocate `M`, but all other intermediate matrices (e.g. Xwork, Hwork, N, temporary vectors) can be preallocated and scaled. "
   ]
  },
  {
   "cell_type": "code",
   "execution_count": 1,
   "metadata": {
    "collapsed": false
   },
   "outputs": [
    {
     "name": "stderr",
     "output_type": "stream",
     "text": [
      "┌ Info: Precompiling MendelImpute [e47305d1-6a61-5370-bc5d-77554d143183]\n",
      "└ @ Base loading.jl:1273\n"
     ]
    }
   ],
   "source": [
    "using Revise\n",
    "using VCFTools\n",
    "using MendelImpute\n",
    "using GeneticVariation\n",
    "using Random\n",
    "using SparseArrays\n",
    "using JLD2, FileIO, JLSO\n",
    "using ProgressMeter\n",
    "using GroupSlices\n",
    "using ThreadPools\n",
    "using BenchmarkTools\n",
    "using StatsBase\n",
    "using StaticArrays\n",
    "using LinearAlgebra\n",
    "# using Plots\n",
    "# using ProfileView\n",
    "\n",
    "BLAS.set_num_threads(1)"
   ]
  },
  {
   "cell_type": "code",
   "execution_count": 2,
   "metadata": {
    "collapsed": false
   },
   "outputs": [
    {
     "data": {
      "text/plain": [
       "8"
      ]
     },
     "execution_count": 2,
     "metadata": {},
     "output_type": "execute_result"
    }
   ],
   "source": [
    "Threads.nthreads()"
   ]
  },
  {
   "cell_type": "markdown",
   "metadata": {},
   "source": [
    "# Not yet optimized (7/11/2020)"
   ]
  },
  {
   "cell_type": "markdown",
   "metadata": {},
   "source": [
    "### window by window intersection with global search"
   ]
  },
  {
   "cell_type": "code",
   "execution_count": 5,
   "metadata": {
    "collapsed": false
   },
   "outputs": [
    {
     "name": "stdout",
     "output_type": "stream",
     "text": [
      "Importing reference haplotype data...\n"
     ]
    },
    {
     "name": "stderr",
     "output_type": "stream",
     "text": [
      "\u001b[32mImporting genotype file...100%|█████████████████████████| Time: 0:00:06\u001b[39m\n",
      "\u001b[32mWriting to file...100%|█████████████████████████████████| Time: 0:00:06\u001b[39m\n"
     ]
    },
    {
     "name": "stdout",
     "output_type": "stream",
     "text": [
      "Total windows = 72, averaging ~ 627 unique haplotypes per window.\n",
      "\n",
      "Timings: \n",
      "    Data import                     = 7.59873 seconds\n",
      "    Computing haplotype pair        = 2.23046 seconds\n",
      "        BLAS3 mul! to get M and N      = 0.0580204 seconds per thread\n",
      "        haplopair search               = 1.88659 seconds per thread\n",
      "        finding redundant happairs     = 0.0253855 seconds per thread\n",
      "    Phasing by win-win intersection = 0.18561 seconds\n",
      "    Imputation                      = 6.8954 seconds\n",
      "\n",
      " 17.168989 seconds (77.19 M allocations: 7.610 GiB, 6.38% gc time)\n",
      "error_rate = 8.32693826254268e-5\n"
     ]
    }
   ],
   "source": [
    "Random.seed!(2020)\n",
    "width   = 512\n",
    "tgtfile = \"./compare2/target.typedOnly.maf0.01.masked.vcf.gz\"\n",
    "reffile = \"./compare2/ref.excludeTarget.w$width.jlso\"\n",
    "outfile = \"./compare2/mendel.imputed.vcf.gz\"\n",
    "@time ph = phase(tgtfile, reffile, outfile = outfile, width = width,\n",
    "    dynamic_programming = false);\n",
    "\n",
    "X_mendel = convert_gt(Float32, outfile)\n",
    "X_complete = convert_gt(Float32, \"./compare2/target.full.vcf.gz\")\n",
    "n, p = size(X_mendel)\n",
    "println(\"error_rate = \", sum(X_mendel .!= X_complete) / n / p)\n",
    "rm(outfile, force=true)"
   ]
  },
  {
   "cell_type": "markdown",
   "metadata": {},
   "source": [
    "### haplotype thinning"
   ]
  },
  {
   "cell_type": "code",
   "execution_count": 6,
   "metadata": {
    "collapsed": false
   },
   "outputs": [
    {
     "name": "stdout",
     "output_type": "stream",
     "text": [
      "Importing reference haplotype data...\n"
     ]
    },
    {
     "name": "stderr",
     "output_type": "stream",
     "text": [
      "\u001b[32mImporting genotype file...100%|█████████████████████████| Time: 0:00:06\u001b[39m\n",
      "\u001b[32mWriting to file...100%|█████████████████████████████████| Time: 0:00:06\u001b[39m\n"
     ]
    },
    {
     "name": "stdout",
     "output_type": "stream",
     "text": [
      "Total windows = 72, averaging ~ 627 unique haplotypes per window.\n",
      "\n",
      "Timings: \n",
      "    Data import                     = 7.80156 seconds\n",
      "    Computing haplotype pair        = 3.30648 seconds\n",
      "        screening for top haplotypes   = 0.402203 seconds per thread\n",
      "        BLAS3 mul! to get M and N      = 2.35561 seconds per thread\n",
      "        haplopair search               = 0.0949087 seconds per thread\n",
      "        finding redundant happairs     = 0.0348157 seconds per thread\n",
      "    Phasing by win-win intersection = 0.177686 seconds\n",
      "    Imputation                      = 6.84377 seconds\n",
      "\n",
      " 18.479679 seconds (77.72 M allocations: 7.541 GiB, 6.05% gc time)\n",
      "error_rate = 8.550487693659426e-5\n"
     ]
    }
   ],
   "source": [
    "Random.seed!(2020)\n",
    "width   = 512\n",
    "tgtfile = \"./compare2/target.typedOnly.maf0.01.masked.vcf.gz\"\n",
    "reffile = \"./compare2/ref.excludeTarget.w$width.jlso\"\n",
    "outfile = \"./compare2/mendel.imputed.vcf.gz\"\n",
    "@time ph = phase(tgtfile, reffile, outfile = outfile, width = width,\n",
    "    dynamic_programming = false, thinning_factor=100, max_haplotypes=100);\n",
    "\n",
    "X_mendel = convert_gt(Float32, outfile)\n",
    "X_complete = convert_gt(Float32, \"./compare2/target.full.vcf.gz\")\n",
    "n, p = size(X_mendel)\n",
    "println(\"error_rate = \", sum(X_mendel .!= X_complete) / n / p)\n",
    "rm(outfile, force=true)"
   ]
  },
  {
   "cell_type": "markdown",
   "metadata": {},
   "source": [
    "### Lasso"
   ]
  },
  {
   "cell_type": "code",
   "execution_count": 10,
   "metadata": {
    "collapsed": false
   },
   "outputs": [
    {
     "name": "stdout",
     "output_type": "stream",
     "text": [
      "Importing reference haplotype data...\n"
     ]
    },
    {
     "name": "stderr",
     "output_type": "stream",
     "text": [
      "\u001b[32mImporting genotype file...100%|█████████████████████████| Time: 0:00:06\u001b[39m\n",
      "\u001b[32mWriting to file...100%|█████████████████████████████████| Time: 0:00:06\u001b[39m\n"
     ]
    },
    {
     "name": "stdout",
     "output_type": "stream",
     "text": [
      "Total windows = 72, averaging ~ 627 unique haplotypes per window.\n",
      "\n",
      "Timings: \n",
      "    Data import                     = 7.80041 seconds\n",
      "    Computing haplotype pair        = 0.683484 seconds\n",
      "        BLAS3 mul! to get M and N      = 0.104721 seconds per thread\n",
      "        haplopair search               = 0.307949 seconds per thread\n",
      "        finding redundant happairs     = 0.0280975 seconds per thread\n",
      "    Phasing by win-win intersection = 0.179585 seconds\n",
      "    Imputation                      = 6.49275 seconds\n",
      "\n",
      " 15.390669 seconds (77.19 M allocations: 7.610 GiB, 7.79% gc time)\n",
      "error_rate = 8.685062226819259e-5\n"
     ]
    }
   ],
   "source": [
    "Random.seed!(2020)\n",
    "width   = 512\n",
    "tgtfile = \"./compare2/target.typedOnly.maf0.01.masked.vcf.gz\"\n",
    "reffile = \"./compare2/ref.excludeTarget.w$width.jlso\"\n",
    "outfile = \"./compare2/mendel.imputed.vcf.gz\"\n",
    "@time hs, ph = phase(tgtfile, reffile, outfile = outfile, width = width,\n",
    "    lasso = 20, dynamic_programming=false, max_haplotypes=100);\n",
    "\n",
    "# import imputed result and compare with true\n",
    "X_mendel = convert_gt(Float32, outfile)\n",
    "# X_complete = convert_gt(Float32, \"./compare2/target.full.vcf.gz\")\n",
    "n, p = size(X_mendel)\n",
    "println(\"error_rate = \", sum(X_mendel .!= X_complete) / n / p)\n",
    "rm(outfile, force=true)"
   ]
  },
  {
   "cell_type": "markdown",
   "metadata": {},
   "source": [
    "# Optimized"
   ]
  },
  {
   "cell_type": "code",
   "execution_count": 4,
   "metadata": {
    "collapsed": false
   },
   "outputs": [
    {
     "name": "stdout",
     "output_type": "stream",
     "text": [
      "Importing reference haplotype data...\n"
     ]
    },
    {
     "name": "stderr",
     "output_type": "stream",
     "text": [
      "\u001b[32mImporting genotype file...100%|█████████████████████████| Time: 0:00:07\u001b[39m\n",
      "\u001b[32mWriting to file...100%|█████████████████████████████████| Time: 0:00:06\u001b[39m\n"
     ]
    },
    {
     "name": "stdout",
     "output_type": "stream",
     "text": [
      "Total windows = 72, averaging ~ 627 unique haplotypes per window.\n",
      "\n",
      "Timings: \n",
      "    Data import                     = 8.25352 seconds\n",
      "    Computing haplotype pair        = 2.23927 seconds\n",
      "        BLAS3 mul! to get M and N      = 0.0659687 seconds per thread\n",
      "        haplopair search               = 1.84551 seconds per thread\n",
      "        finding redundant happairs     = 0.0299791 seconds per thread\n",
      "    Phasing by win-win intersection = 0.18616 seconds\n",
      "    Imputation                      = 6.77303 seconds\n",
      "\n",
      " 17.844942 seconds (77.19 M allocations: 7.420 GiB, 7.17% gc time)\n",
      "error_rate = 8.32693826254268e-5\n"
     ]
    }
   ],
   "source": [
    "# global search: Preallocate all vectors/matrices\n",
    "Random.seed!(2020)\n",
    "width   = 512\n",
    "tgtfile = \"./compare2/target.typedOnly.maf0.01.masked.vcf.gz\"\n",
    "reffile = \"./compare2/ref.excludeTarget.w$width.jlso\"\n",
    "outfile = \"./compare2/mendel.imputed.vcf.gz\"\n",
    "@time ph = phase(tgtfile, reffile, outfile = outfile, width = width,\n",
    "    dynamic_programming = false);\n",
    "\n",
    "X_mendel = convert_gt(Float32, outfile)\n",
    "X_complete = convert_gt(Float32, \"./compare2/target.full.vcf.gz\")\n",
    "n, p = size(X_mendel)\n",
    "println(\"error_rate = \", sum(X_mendel .!= X_complete) / n / p)\n",
    "rm(outfile, force=true)"
   ]
  },
  {
   "cell_type": "code",
   "execution_count": 3,
   "metadata": {
    "collapsed": false,
    "scrolled": false
   },
   "outputs": [
    {
     "name": "stdout",
     "output_type": "stream",
     "text": [
      "Importing reference haplotype data...\n"
     ]
    },
    {
     "name": "stderr",
     "output_type": "stream",
     "text": [
      "\u001b[32mImporting genotype file...100%|█████████████████████████| Time: 0:00:06\u001b[39m\n",
      "\u001b[32mWriting to file...100%|█████████████████████████████████| Time: 0:00:06\u001b[39m\n"
     ]
    },
    {
     "name": "stdout",
     "output_type": "stream",
     "text": [
      "Total windows = 72, averaging ~ 627 unique haplotypes per window.\n",
      "\n",
      "Timings: \n",
      "    Data import                     = 7.63071 seconds\n",
      "    Computing haplotype pair        = 3.21096 seconds\n",
      "        screening for top haplotypes   = 0.62019 seconds per thread\n",
      "        BLAS3 mul! to get M and N      = 2.25471 seconds per thread\n",
      "        haplopair search               = 0.0934914 seconds per thread\n",
      "        finding redundant happairs     = 0.0637935 seconds per thread\n",
      "    Phasing by win-win intersection = 0.194177 seconds\n",
      "    Imputation                      = 6.52209 seconds\n",
      "\n",
      " 17.627988 seconds (77.20 M allocations: 7.317 GiB, 5.14% gc time)\n",
      "error_rate = 8.550487693659426e-5\n"
     ]
    }
   ],
   "source": [
    "# thinning: preallocate all vectors/matrices\n",
    "Random.seed!(2020)\n",
    "width   = 512\n",
    "tgtfile = \"./compare2/target.typedOnly.maf0.01.masked.vcf.gz\"\n",
    "reffile = \"./compare2/ref.excludeTarget.w$width.jlso\"\n",
    "outfile = \"./compare2/mendel.imputed.vcf.gz\"\n",
    "@time ph = phase(tgtfile, reffile, outfile = outfile, width = width,\n",
    "    dynamic_programming = false, thinning_factor=100, max_haplotypes=100);\n",
    "\n",
    "X_mendel = convert_gt(Float32, outfile)\n",
    "X_complete = convert_gt(Float32, \"./compare2/target.full.vcf.gz\")\n",
    "n, p = size(X_mendel)\n",
    "println(\"error_rate = \", sum(X_mendel .!= X_complete) / n / p)\n",
    "rm(outfile, force=true)"
   ]
  },
  {
   "cell_type": "code",
   "execution_count": 10,
   "metadata": {
    "collapsed": false
   },
   "outputs": [
    {
     "name": "stdout",
     "output_type": "stream",
     "text": [
      "Importing reference haplotype data...\n"
     ]
    },
    {
     "name": "stderr",
     "output_type": "stream",
     "text": [
      "\u001b[32mImporting genotype file...100%|█████████████████████████| Time: 0:00:07\u001b[39m\n",
      "\u001b[32mWriting to file...100%|█████████████████████████████████| Time: 0:00:06\u001b[39m\n"
     ]
    },
    {
     "name": "stdout",
     "output_type": "stream",
     "text": [
      "Total windows = 72, averaging ~ 627 unique haplotypes per window.\n",
      "\n",
      "Timings: \n",
      "    Data import                     = 8.60205 seconds\n",
      "    Computing haplotype pair        = 3.22841 seconds\n",
      "        BLAS3 mul! to get M and N      = 0.0361663 seconds per thread\n",
      "        haplopair search               = 0.180822 seconds per thread\n",
      "        finding redundant happairs     = 0.0371089 seconds per thread\n",
      "    Phasing by win-win intersection = 0.216741 seconds\n",
      "    Imputation                      = 7.02347 seconds\n",
      "\n",
      " 19.152174 seconds (77.19 M allocations: 7.420 GiB, 6.80% gc time)\n",
      "error_rate = 8.685062226819259e-5\n"
     ]
    }
   ],
   "source": [
    "# lasso: preallocate all vectors/matrices\n",
    "Random.seed!(2020)\n",
    "width   = 512\n",
    "tgtfile = \"./compare2/target.typedOnly.maf0.01.masked.vcf.gz\"\n",
    "reffile = \"./compare2/ref.excludeTarget.w$width.jlso\"\n",
    "outfile = \"./compare2/mendel.imputed.vcf.gz\"\n",
    "@time hs, ph = phase(tgtfile, reffile, outfile = outfile, width = width,\n",
    "    lasso = 20, dynamic_programming=false, max_haplotypes=100);\n",
    "\n",
    "# import imputed result and compare with true\n",
    "X_mendel = convert_gt(Float32, outfile)\n",
    "X_complete = convert_gt(Float32, \"./compare2/target.full.vcf.gz\")\n",
    "n, p = size(X_mendel)\n",
    "println(\"error_rate = \", sum(X_mendel .!= X_complete) / n / p)\n",
    "rm(outfile, force=true)"
   ]
  },
  {
   "cell_type": "markdown",
   "metadata": {},
   "source": [
    "# Lets do rigorous benchmarks"
   ]
  },
  {
   "cell_type": "code",
   "execution_count": 23,
   "metadata": {
    "collapsed": false
   },
   "outputs": [
    {
     "name": "stderr",
     "output_type": "stream",
     "text": [
      "\u001b[32mImporting genotype file...100%|█████████████████████████| Time: 0:00:07\u001b[39m\n"
     ]
    },
    {
     "data": {
      "text/plain": [
       "1"
      ]
     },
     "execution_count": 23,
     "metadata": {},
     "output_type": "execute_result"
    }
   ],
   "source": [
    "# first import all data, declare a bunch of (needed or not) variables, and look at 1 window\n",
    "Random.seed!(2020)\n",
    "width   = 512\n",
    "tgtfile = \"./compare2/target.typedOnly.maf0.01.masked.vcf.gz\"\n",
    "reffile = \"./compare2/ref.excludeTarget.w$width.jlso\"\n",
    "\n",
    "loaded = JLSO.load(reffile)\n",
    "compressed_Hunique = loaded[:compressed_Hunique]\n",
    "X, X_sampleID, X_chr, X_pos, X_ids, X_ref, X_alt = VCFTools.convert_gt(UInt8, tgtfile, trans=true, save_snp_info=true, msg = \"Importing genotype file...\");\n",
    "\n",
    "people = size(X, 2)\n",
    "tgt_snps = size(X, 1)\n",
    "ref_snps = length(compressed_Hunique.pos)\n",
    "windows = floor(Int, tgt_snps / width)\n",
    "num_unique_haps = round(Int, avg_haplotypes_per_window(compressed_Hunique))\n",
    "\n",
    "ph = [HaplotypeMosaicPair(ref_snps) for i in 1:people]\n",
    "haplotype1 = [zeros(Int32, windows) for i in 1:people]\n",
    "haplotype2 = [zeros(Int32, windows) for i in 1:people]\n",
    "\n",
    "people = size(X, 2)\n",
    "ref_snps = length(compressed_Hunique.pos)\n",
    "width = compressed_Hunique.width\n",
    "windows = length(haplotype1[1])\n",
    "threads = Threads.nthreads()\n",
    "inv_sqrt_allele_var = nothing\n",
    "\n",
    "# working arrys \n",
    "happair1 = [ones(Int32, people)           for _ in 1:threads]\n",
    "happair2 = [ones(Int32, people)           for _ in 1:threads]\n",
    "hapscore = [zeros(Float32, size(X, 2))    for _ in 1:threads]\n",
    "Xwork    = [zeros(Float32, width, people) for _ in 1:threads]\n",
    "\n",
    "# window 1\n",
    "w = 1\n",
    "Hw_aligned = compressed_Hunique.CW_typed[w].uniqueH\n",
    "Xw_idx_start = (w - 1) * width + 1\n",
    "Xw_idx_end = (w == windows ? length(X_pos) : w * width)\n",
    "Xw_aligned = view(X, Xw_idx_start:Xw_idx_end, :)\n",
    "d  = size(Hw_aligned, 2)\n",
    "id = Threads.threadid()"
   ]
  },
  {
   "cell_type": "code",
   "execution_count": 26,
   "metadata": {
    "collapsed": false
   },
   "outputs": [
    {
     "data": {
      "text/plain": [
       "BenchmarkTools.Trial: \n",
       "  memory estimate:  0 bytes\n",
       "  allocs estimate:  0\n",
       "  --------------\n",
       "  minimum time:     113.290 ms (0.00% GC)\n",
       "  median time:      116.663 ms (0.00% GC)\n",
       "  mean time:        117.684 ms (0.00% GC)\n",
       "  maximum time:     130.187 ms (0.00% GC)\n",
       "  --------------\n",
       "  samples:          43\n",
       "  evals/sample:     1"
      ]
     },
     "execution_count": 26,
     "metadata": {},
     "output_type": "execute_result"
    }
   ],
   "source": [
    "# global search must allocate M, Hwork, N for each window, but there's no other allocation\n",
    "M = zeros(Float32, size(Hw_aligned, 2), size(Hw_aligned, 2))\n",
    "N = zeros(Float32, size(Xw_aligned, 2), size(Hw_aligned, 2))\n",
    "Hwork = convert(Matrix{Float32}, Hw_aligned)\n",
    "@benchmark haplopair!($Xw_aligned, $Hw_aligned, happair1=$(happair1[id]), \n",
    "    happair2=$(happair2[id]), hapscore=$(hapscore[id]), Xwork=$(Xwork[id]),\n",
    "    M=$M, N=$N, Hwork=$Hwork)"
   ]
  },
  {
   "cell_type": "code",
   "execution_count": 9,
   "metadata": {
    "collapsed": false
   },
   "outputs": [
    {
     "data": {
      "text/plain": [
       "BenchmarkTools.Trial: \n",
       "  memory estimate:  6.50 KiB\n",
       "  allocs estimate:  2\n",
       "  --------------\n",
       "  minimum time:     163.348 ms (0.00% GC)\n",
       "  median time:      164.766 ms (0.00% GC)\n",
       "  mean time:        166.568 ms (0.00% GC)\n",
       "  maximum time:     191.775 ms (0.00% GC)\n",
       "  --------------\n",
       "  samples:          31\n",
       "  evals/sample:     1"
      ]
     },
     "execution_count": 9,
     "metadata": {},
     "output_type": "execute_result"
    }
   ],
   "source": [
    "# thinning must allocate a bunch of vector/matrices. Only R, Hwork cannot be preallocated\n",
    "# all allocations are due to distance computation.\n",
    "keep    = 100\n",
    "maxindx = zeros(Int32, keep)\n",
    "maxgrad = zeros(Float32, keep)\n",
    "Xi      = zeros(Float32, size(Xw_aligned, 1))\n",
    "N       = zeros(Float32, keep)\n",
    "Hk    = zeros(Float32, size(Hw_aligned, 1), keep)\n",
    "M     = zeros(Float32, keep, keep)\n",
    "Xwork = zeros(Float32, size(Xw_aligned, 1), size(Xw_aligned, 2))\n",
    "Hwork = convert(Matrix{Float32}, Hw_aligned)\n",
    "R     = rand(Float32, size(Hw_aligned, 2), size(Xw_aligned, 2))\n",
    "@benchmark MendelImpute.haplopair_thin_BLAS2!($Xw_aligned, $Hw_aligned, allele_freq=nothing, \n",
    "    keep=$keep, happair1=$(happair1[id]), happair2=$(happair2[id]), \n",
    "    hapscore=$(hapscore[id]), maxindx=$maxindx, maxgrad=$maxgrad, Xi=$Xi, N=$N, \n",
    "    Hk=$Hk, M=$M, Xwork=$Xwork, Hwork=$Hwork, R=$R)"
   ]
  },
  {
   "cell_type": "code",
   "execution_count": 10,
   "metadata": {
    "collapsed": false
   },
   "outputs": [
    {
     "data": {
      "text/plain": [
       "BenchmarkTools.Trial: \n",
       "  memory estimate:  0 bytes\n",
       "  allocs estimate:  0\n",
       "  --------------\n",
       "  minimum time:     27.849 ms (0.00% GC)\n",
       "  median time:      28.387 ms (0.00% GC)\n",
       "  mean time:        29.143 ms (0.00% GC)\n",
       "  maximum time:     38.266 ms (0.00% GC)\n",
       "  --------------\n",
       "  samples:          172\n",
       "  evals/sample:     1"
      ]
     },
     "execution_count": 10,
     "metadata": {},
     "output_type": "execute_result"
    }
   ],
   "source": [
    "# stepwise: here Hwork, M, Nt cannot be preallocated, but there's no other allocation.\n",
    "r       = 10\n",
    "maxindx = zeros(Int32, r)\n",
    "maxgrad = zeros(Float32, r)\n",
    "Xwork = zeros(Float32, size(Xw_aligned, 1), size(Xw_aligned, 2))\n",
    "Hwork = convert(Matrix{Float32}, Hw_aligned)\n",
    "M     = zeros(Float32, size(Hw_aligned, 2), size(Hw_aligned, 2))\n",
    "Nt    = zeros(Float32, size(Hw_aligned, 2), size(Xw_aligned, 2))\n",
    "@benchmark haplopair_stepscreen!($Xw_aligned, $Hw_aligned, r=$r, happair1=$(happair1[id]), \n",
    "    happair2=$(happair2[id]), hapscore=$(hapscore[id]), maxindx=$maxindx, \n",
    "    maxgrad=$maxgrad, Xwork=$Xwork, Hwork=$Hwork, M=$M, Nt=$Nt)"
   ]
  },
  {
   "cell_type": "code",
   "execution_count": 11,
   "metadata": {
    "collapsed": false
   },
   "outputs": [
    {
     "name": "stdout",
     "output_type": "stream",
     "text": [
      "  5.412 μs (0 allocations: 0 bytes)\n"
     ]
    }
   ],
   "source": [
    "# test saving result step\n",
    "function test(haplotype1, haplotype2, happair1, happair2, id, w, people, compressed_Hunique)\n",
    "    @inbounds for i in 1:people\n",
    "        haplotype1[i][w] = MendelImpute.unique_idx_to_complete_idx(\n",
    "            happair1[id][i], w, compressed_Hunique)\n",
    "        haplotype2[i][w] = MendelImpute.unique_idx_to_complete_idx(\n",
    "            happair2[id][i], w, compressed_Hunique)\n",
    "    end\n",
    "end\n",
    "@btime test($haplotype1, $haplotype2, $happair1, $happair2, $id, \n",
    "    $w, $people, $compressed_Hunique)"
   ]
  },
  {
   "cell_type": "markdown",
   "metadata": {},
   "source": [
    "# Try manually unrolling"
   ]
  },
  {
   "cell_type": "code",
   "execution_count": 2,
   "metadata": {
    "collapsed": false
   },
   "outputs": [
    {
     "name": "stderr",
     "output_type": "stream",
     "text": [
      "\u001b[32mImporting genotype file...100%|█████████████████████████| Time: 0:00:07\u001b[39m\n"
     ]
    },
    {
     "data": {
      "text/plain": [
       "1"
      ]
     },
     "execution_count": 2,
     "metadata": {},
     "output_type": "execute_result"
    }
   ],
   "source": [
    "# first import all data, declare a bunch of (needed or not) variables, and look at 1 window\n",
    "Random.seed!(2020)\n",
    "width   = 512\n",
    "tgtfile = \"./compare2/target.typedOnly.maf0.01.masked.vcf.gz\"\n",
    "reffile = \"./compare2/ref.excludeTarget.w$width.jlso\"\n",
    "\n",
    "loaded = JLSO.load(reffile)\n",
    "compressed_Hunique = loaded[:compressed_Hunique]\n",
    "X, X_sampleID, X_chr, X_pos, X_ids, X_ref, X_alt = VCFTools.convert_gt(UInt8, tgtfile, trans=true, save_snp_info=true, msg = \"Importing genotype file...\");\n",
    "\n",
    "people = size(X, 2)\n",
    "tgt_snps = size(X, 1)\n",
    "ref_snps = length(compressed_Hunique.pos)\n",
    "windows = floor(Int, tgt_snps / width)\n",
    "num_unique_haps = round(Int, avg_haplotypes_per_window(compressed_Hunique))\n",
    "\n",
    "ph = [HaplotypeMosaicPair(ref_snps) for i in 1:people]\n",
    "haplotype1 = [zeros(Int32, windows) for i in 1:people]\n",
    "haplotype2 = [zeros(Int32, windows) for i in 1:people]\n",
    "\n",
    "people = size(X, 2)\n",
    "ref_snps = length(compressed_Hunique.pos)\n",
    "width = compressed_Hunique.width\n",
    "windows = length(haplotype1[1])\n",
    "threads = Threads.nthreads()\n",
    "inv_sqrt_allele_var = nothing\n",
    "\n",
    "# working arrys \n",
    "happair1 = [ones(Int32, people)           for _ in 1:threads]\n",
    "happair2 = [ones(Int32, people)           for _ in 1:threads]\n",
    "hapscore = [zeros(Float32, size(X, 2))    for _ in 1:threads]\n",
    "Xwork    = [zeros(Float32, width, people) for _ in 1:threads]\n",
    "\n",
    "# window 1\n",
    "w = 1\n",
    "Hw_aligned = compressed_Hunique.CW_typed[w].uniqueH\n",
    "Xw_idx_start = (w - 1) * width + 1\n",
    "Xw_idx_end = (w == windows ? length(X_pos) : w * width)\n",
    "Xw_aligned = view(X, Xw_idx_start:Xw_idx_end, :)\n",
    "d  = size(Hw_aligned, 2)\n",
    "id = Threads.threadid()"
   ]
  },
  {
   "cell_type": "code",
   "execution_count": 8,
   "metadata": {
    "collapsed": false
   },
   "outputs": [
    {
     "data": {
      "text/plain": [
       "BenchmarkTools.Trial: \n",
       "  memory estimate:  0 bytes\n",
       "  allocs estimate:  0\n",
       "  --------------\n",
       "  minimum time:     100.562 ms (0.00% GC)\n",
       "  median time:      102.703 ms (0.00% GC)\n",
       "  mean time:        103.065 ms (0.00% GC)\n",
       "  maximum time:     112.184 ms (0.00% GC)\n",
       "  --------------\n",
       "  samples:          49\n",
       "  evals/sample:     1"
      ]
     },
     "execution_count": 8,
     "metadata": {},
     "output_type": "execute_result"
    }
   ],
   "source": [
    "# global search: unrolling seems 15% faster\n",
    "M = zeros(Float32, size(Hw_aligned, 2), size(Hw_aligned, 2))\n",
    "N = zeros(Float32, size(Xw_aligned, 2), size(Hw_aligned, 2))\n",
    "Hwork = convert(Matrix{Float32}, Hw_aligned)\n",
    "@benchmark haplopair!($Xw_aligned, $Hw_aligned, happair1=$(happair1[id]), \n",
    "    happair2=$(happair2[id]), hapscore=$(hapscore[id]), Xwork=$(Xwork[id]),\n",
    "    M=$M, N=$N, Hwork=$Hwork)"
   ]
  },
  {
   "cell_type": "markdown",
   "metadata": {},
   "source": [
    "# Try StaticArrays"
   ]
  },
  {
   "cell_type": "code",
   "execution_count": 15,
   "metadata": {
    "collapsed": false
   },
   "outputs": [
    {
     "name": "stderr",
     "output_type": "stream",
     "text": [
      "\u001b[32mImporting genotype file...100%|█████████████████████████| Time: 0:00:07\u001b[39m\n"
     ]
    },
    {
     "data": {
      "text/plain": [
       "1"
      ]
     },
     "execution_count": 15,
     "metadata": {},
     "output_type": "execute_result"
    }
   ],
   "source": [
    "# first import all data, declare a bunch of (needed or not) variables, and look at 1 window\n",
    "Random.seed!(2020)\n",
    "width   = 512\n",
    "tgtfile = \"./compare2/target.typedOnly.maf0.01.masked.vcf.gz\"\n",
    "reffile = \"./compare2/ref.excludeTarget.w$width.jlso\"\n",
    "\n",
    "loaded = JLSO.load(reffile)\n",
    "compressed_Hunique = loaded[:compressed_Hunique]\n",
    "X, X_sampleID, X_chr, X_pos, X_ids, X_ref, X_alt = VCFTools.convert_gt(UInt8, tgtfile, trans=true, save_snp_info=true, msg = \"Importing genotype file...\");\n",
    "\n",
    "people = size(X, 2)\n",
    "tgt_snps = size(X, 1)\n",
    "ref_snps = length(compressed_Hunique.pos)\n",
    "windows = floor(Int, tgt_snps / width)\n",
    "num_unique_haps = round(Int, avg_haplotypes_per_window(compressed_Hunique))\n",
    "\n",
    "ph = [HaplotypeMosaicPair(ref_snps) for i in 1:people]\n",
    "haplotype1 = [zeros(Int32, windows) for i in 1:people]\n",
    "haplotype2 = [zeros(Int32, windows) for i in 1:people]\n",
    "\n",
    "people = size(X, 2)\n",
    "ref_snps = length(compressed_Hunique.pos)\n",
    "width = compressed_Hunique.width\n",
    "windows = length(haplotype1[1])\n",
    "threads = Threads.nthreads()\n",
    "inv_sqrt_allele_var = nothing\n",
    "\n",
    "# working arrys \n",
    "happair1 = [SizedVector{people}(ones(Int32, people))            for _ in 1:threads]\n",
    "happair2 = [SizedVector{people}(ones(Int32, people))            for _ in 1:threads]\n",
    "hapscore = [SizedVector{size(X, 2)}(zeros(Float32, size(X, 2))) for _ in 1:threads]\n",
    "Xwork    = [zeros(Float32, width, people) for _ in 1:threads]\n",
    "\n",
    "# window 1\n",
    "w = 1\n",
    "Hw_aligned = compressed_Hunique.CW_typed[w].uniqueH\n",
    "Xw_idx_start = (w - 1) * width + 1\n",
    "Xw_idx_end = (w == windows ? length(X_pos) : w * width)\n",
    "Xw_aligned = view(X, Xw_idx_start:Xw_idx_end, :)\n",
    "d  = size(Hw_aligned, 2)\n",
    "id = Threads.threadid()"
   ]
  },
  {
   "cell_type": "code",
   "execution_count": 22,
   "metadata": {
    "collapsed": false
   },
   "outputs": [
    {
     "data": {
      "text/plain": [
       "BenchmarkTools.Trial: \n",
       "  memory estimate:  0 bytes\n",
       "  allocs estimate:  0\n",
       "  --------------\n",
       "  minimum time:     118.157 ms (0.00% GC)\n",
       "  median time:      121.635 ms (0.00% GC)\n",
       "  mean time:        122.696 ms (0.00% GC)\n",
       "  maximum time:     132.345 ms (0.00% GC)\n",
       "  --------------\n",
       "  samples:          41\n",
       "  evals/sample:     1"
      ]
     },
     "execution_count": 22,
     "metadata": {},
     "output_type": "execute_result"
    }
   ],
   "source": [
    "# only used SizedArray for vectors\n",
    "M = zeros(Float32, size(Hw_aligned, 2), size(Hw_aligned, 2))\n",
    "N = zeros(Float32, size(Xw_aligned, 2), size(Hw_aligned, 2))\n",
    "Hwork = convert(Matrix{Float32}, Hw_aligned)\n",
    "@benchmark haplopair!($Xw_aligned, $Hw_aligned, happair1=$(happair1[id]), \n",
    "    happair2=$(happair2[id]), hapscore=$(hapscore[id]), Xwork=$(Xwork[id]),\n",
    "    M=$M, N=$N, Hwork=$Hwork)"
   ]
  },
  {
   "cell_type": "code",
   "execution_count": 20,
   "metadata": {
    "collapsed": false
   },
   "outputs": [
    {
     "data": {
      "text/plain": [
       "BenchmarkTools.Trial: \n",
       "  memory estimate:  0 bytes\n",
       "  allocs estimate:  0\n",
       "  --------------\n",
       "  minimum time:     524.865 ms (0.00% GC)\n",
       "  median time:      528.679 ms (0.00% GC)\n",
       "  mean time:        530.168 ms (0.00% GC)\n",
       "  maximum time:     540.517 ms (0.00% GC)\n",
       "  --------------\n",
       "  samples:          10\n",
       "  evals/sample:     1"
      ]
     },
     "execution_count": 20,
     "metadata": {},
     "output_type": "execute_result"
    }
   ],
   "source": [
    "# used SizedArray for M and N too\n",
    "n = size(Xw_aligned, 2)\n",
    "d = size(Hw_aligned, 2)\n",
    "M = SizedMatrix{d, d}(zeros(Float32, d, d))\n",
    "N = SizedMatrix{n, d}(zeros(Float32, n, d))\n",
    "Hwork = convert(Matrix{Float32}, Hw_aligned)\n",
    "@benchmark haplopair!($Xw_aligned, $Hw_aligned, happair1=$(happair1[id]), \n",
    "    happair2=$(happair2[id]), hapscore=$(hapscore[id]), Xwork=$(Xwork[id]),\n",
    "    M=$M, N=$N, Hwork=$Hwork)"
   ]
  },
  {
   "cell_type": "markdown",
   "metadata": {},
   "source": [
    "# compute_optimal_haplotypes!"
   ]
  },
  {
   "cell_type": "code",
   "execution_count": 2,
   "metadata": {
    "collapsed": false
   },
   "outputs": [
    {
     "name": "stderr",
     "output_type": "stream",
     "text": [
      "\u001b[32mImporting genotype file...100%|█████████████████████████| Time: 0:00:07\u001b[39m\n"
     ]
    }
   ],
   "source": [
    "# first import all data, declare a bunch of (needed or not) variables, and look at 1 window\n",
    "Random.seed!(2020)\n",
    "width   = 512\n",
    "tgtfile = \"./compare2/target.typedOnly.maf0.01.masked.vcf.gz\"\n",
    "reffile = \"./compare2/ref.excludeTarget.w$width.jlso\"\n",
    "\n",
    "loaded = JLSO.load(reffile)\n",
    "compressed_Hunique = loaded[:compressed_Hunique]\n",
    "X, X_sampleID, X_chr, X_pos, X_ids, X_ref, X_alt = VCFTools.convert_gt(UInt8, tgtfile, trans=true, save_snp_info=true, msg = \"Importing genotype file...\");\n",
    "\n",
    "people = size(X, 2)\n",
    "tgt_snps = size(X, 1)\n",
    "ref_snps = length(compressed_Hunique.pos)\n",
    "windows = floor(Int, tgt_snps / width)\n",
    "num_unique_haps = round(Int, avg_haplotypes_per_window(compressed_Hunique))\n",
    "\n",
    "ph = [HaplotypeMosaicPair(ref_snps) for i in 1:people]\n",
    "haplotype1 = [zeros(Int, windows) for i in 1:people]\n",
    "haplotype2 = [zeros(Int, windows) for i in 1:people]\n",
    "\n",
    "# working arrys \n",
    "timers = [zeros(5*8) for _ in 1:Threads.nthreads()] # 8 for spacing\n",
    "pmeter = Progress(windows, 5, \"Computing optimal haplotypes...\")\n",
    "happair1 = [ones(Int, people)           for _ in 1:Threads.nthreads()]\n",
    "happair2 = [ones(Int, people)           for _ in 1:Threads.nthreads()]\n",
    "hapscore = [zeros(Float32, size(X, 2))    for _ in 1:Threads.nthreads()]\n",
    "Xwork    = [zeros(Float32, width, people) for _ in 1:Threads.nthreads()];"
   ]
  },
  {
   "cell_type": "code",
   "execution_count": 7,
   "metadata": {
    "collapsed": false
   },
   "outputs": [
    {
     "name": "stdout",
     "output_type": "stream",
     "text": [
      " 14.759730 seconds (806 allocations: 371.056 MiB, 0.22% gc time)\n"
     ]
    }
   ],
   "source": [
    "@time MendelImpute.compute_optimal_haplotypes!(haplotype1, haplotype2, compressed_Hunique, \n",
    "    X, X_pos, nothing, nothing, false, 800, false, timers, pmeter, happair1, happair2, \n",
    "    hapscore, Xwork);"
   ]
  },
  {
   "cell_type": "code",
   "execution_count": 10,
   "metadata": {
    "collapsed": false
   },
   "outputs": [
    {
     "name": "stdout",
     "output_type": "stream",
     "text": [
      "  13.437 s (802 allocations: 371.06 MiB)\n"
     ]
    }
   ],
   "source": [
    "@btime MendelImpute.compute_optimal_haplotypes!($haplotype1, $haplotype2, $compressed_Hunique, \n",
    "    $X, $X_pos, nothing, nothing, false, 800, false, $timers, $pmeter, $happair1, $happair2, \n",
    "    $hapscore, $Xwork);"
   ]
  },
  {
   "cell_type": "markdown",
   "metadata": {},
   "source": [
    "# Writing routine"
   ]
  },
  {
   "cell_type": "code",
   "execution_count": 10,
   "metadata": {
    "collapsed": false
   },
   "outputs": [
    {
     "name": "stdout",
     "output_type": "stream",
     "text": [
      "Importing reference haplotype data...\n"
     ]
    },
    {
     "name": "stderr",
     "output_type": "stream",
     "text": [
      "\u001b[32mImporting genotype file...100%|█████████████████████████| Time: 0:00:07\u001b[39m\n",
      "\u001b[32mWriting to file...100%|█████████████████████████████████| Time: 0:00:06\u001b[39m\n"
     ]
    },
    {
     "name": "stdout",
     "output_type": "stream",
     "text": [
      "Total windows = 72, averaging ~ 627 unique haplotypes per window.\n",
      "\n",
      "Timings: \n",
      "    Data import                     = 8.4725 seconds\n",
      "    Computing haplotype pair        = 3.33952 seconds\n",
      "        BLAS3 mul! to get M and N      = 0.0983789 seconds per thread\n",
      "        haplopair search               = 2.90371 seconds per thread\n",
      "        finding redundant happairs     = 0.0345083 seconds per thread\n",
      "    Phasing by win-win intersection = 0.287375 seconds\n",
      "    Imputation                      = 7.33042 seconds\n",
      "\n",
      " 19.804090 seconds (78.25 M allocations: 7.471 GiB, 5.16% gc time)\n"
     ]
    },
    {
     "name": "stderr",
     "output_type": "stream",
     "text": [
      "\u001b[32mImporting genotype file...100%|█████████████████████████| Time: 0:00:07\u001b[39m\n"
     ]
    }
   ],
   "source": [
    "# create variables\n",
    "Random.seed!(2020)\n",
    "width   = 512\n",
    "tgtfile = \"./compare2/target.typedOnly.maf0.01.masked.vcf.gz\"\n",
    "reffile = \"./compare2/ref.excludeTarget.w$width.jlso\"\n",
    "outfile = \"./compare2/mendel.imputed.vcf.gz\"\n",
    "@time ph = phase(tgtfile, reffile, outfile = outfile, width = width,\n",
    "    dynamic_programming = false);\n",
    "\n",
    "loaded = JLSO.load(reffile)\n",
    "compressed_Hunique = loaded[:compressed_Hunique]\n",
    "\n",
    "X, X_sampleID, X_chr, X_pos, X_ids, X_ref, X_alt = VCFTools.convert_gt(UInt8, tgtfile, trans=true, save_snp_info=true, msg = \"Importing genotype file...\")\n",
    "XtoH_idx = indexin(X_pos, compressed_Hunique.pos) # X_pos[i] == H_pos[XtoH_idx[i]]\n",
    "X_full = Matrix{Union{Missing, UInt8}}(missing, length(compressed_Hunique.pos), size(X, 2))\n",
    "copyto!(@view(X_full[XtoH_idx, :]), X); # keep known entries\n",
    "impute_discard_phase!(X_full, compressed_Hunique, ph)"
   ]
  },
  {
   "cell_type": "code",
   "execution_count": null,
   "metadata": {
    "collapsed": true
   },
   "outputs": [],
   "source": [
    "@time write(outfile, X_full, compressed_Hunique, X_sampleID)"
   ]
  },
  {
   "cell_type": "code",
   "execution_count": 18,
   "metadata": {
    "collapsed": false
   },
   "outputs": [
    {
     "name": "stderr",
     "output_type": "stream",
     "text": [
      "\u001b[32mWriting to file...100%|█████████████████████████████████| Time: 0:00:06\u001b[39m\n",
      "\u001b[32mWriting to file...100%|█████████████████████████████████| Time: 0:00:05\u001b[39m\n",
      "\u001b[32mWriting to file...100%|█████████████████████████████████| Time: 0:00:05\u001b[39m\n",
      "\u001b[32mWriting to file...100%|█████████████████████████████████| Time: 0:00:05\u001b[39m\n",
      "\u001b[32mWriting to file...100%|█████████████████████████████████| Time: 0:00:05\u001b[39m\n",
      "\u001b[32mWriting to file...100%|█████████████████████████████████| Time: 0:00:05\u001b[39m\n",
      "\u001b[32mWriting to file...100%|█████████████████████████████████| Time: 0:00:05\u001b[39m\n",
      "\u001b[32mWriting to file...100%|█████████████████████████████████| Time: 0:00:05\u001b[39m\n",
      "\u001b[32mWriting to file...100%|█████████████████████████████████| Time: 0:00:05\u001b[39m\n",
      "\u001b[32mWriting to file...100%|█████████████████████████████████| Time: 0:00:05\u001b[39m\n",
      "\u001b[32mWriting to file...100%|█████████████████████████████████| Time: 0:00:05\u001b[39m\n",
      "\u001b[32mWriting to file...100%|█████████████████████████████████| Time: 0:00:06\u001b[39m\n",
      "\u001b[32mWriting to file...100%|█████████████████████████████████| Time: 0:00:06\u001b[39m\n",
      "\u001b[32mWriting to file...100%|█████████████████████████████████| Time: 0:00:05\u001b[39m\n"
     ]
    },
    {
     "name": "stdout",
     "output_type": "stream",
     "text": [
      "  5.933 s (414103 allocations: 362.05 MiB)\n"
     ]
    }
   ],
   "source": [
    "# original\n",
    "@btime write($outfile, $X_full, $compressed_Hunique, $X_sampleID) seconds=30"
   ]
  },
  {
   "cell_type": "code",
   "execution_count": 16,
   "metadata": {
    "collapsed": false,
    "scrolled": true
   },
   "outputs": [
    {
     "name": "stderr",
     "output_type": "stream",
     "text": [
      "\u001b[32mWriting to file...100%|█████████████████████████████████| Time: 0:00:06\u001b[39m\n",
      "\u001b[32mWriting to file...100%|█████████████████████████████████| Time: 0:00:06\u001b[39m\n",
      "\u001b[32mWriting to file...100%|█████████████████████████████████| Time: 0:00:06\u001b[39m\n",
      "\u001b[32mWriting to file...100%|█████████████████████████████████| Time: 0:00:06\u001b[39m\n",
      "\u001b[32mWriting to file...100%|█████████████████████████████████| Time: 0:00:06\u001b[39m\n",
      "\u001b[32mWriting to file...100%|█████████████████████████████████| Time: 0:00:06\u001b[39m\n",
      "\u001b[32mWriting to file...100%|█████████████████████████████████| Time: 0:00:06\u001b[39m\n",
      "\u001b[32mWriting to file...100%|█████████████████████████████████| Time: 0:00:06\u001b[39m\n",
      "\u001b[32mWriting to file...100%|█████████████████████████████████| Time: 0:00:06\u001b[39m\n",
      "\u001b[32mWriting to file...100%|█████████████████████████████████| Time: 0:00:06\u001b[39m\n",
      "\u001b[32mWriting to file...100%|█████████████████████████████████| Time: 0:00:06\u001b[39m\n",
      "\u001b[32mWriting to file...100%|█████████████████████████████████| Time: 0:00:06\u001b[39m\n",
      "\u001b[32mWriting to file...100%|█████████████████████████████████| Time: 0:00:06\u001b[39m\n"
     ]
    },
    {
     "name": "stdout",
     "output_type": "stream",
     "text": [
      "  6.211 s (414104 allocations: 362.05 MiB)\n"
     ]
    }
   ],
   "source": [
    "# copy\n",
    "@btime write($outfile, $X_full, $compressed_Hunique, $X_sampleID) seconds=30"
   ]
  }
 ],
 "metadata": {
  "@webio": {
   "lastCommId": null,
   "lastKernelId": null
  },
  "kernelspec": {
   "display_name": "Julia 1.3.1",
   "language": "julia",
   "name": "julia-1.3"
  },
  "language_info": {
   "file_extension": ".jl",
   "mimetype": "application/julia",
   "name": "julia",
   "version": "1.3.1"
  }
 },
 "nbformat": 4,
 "nbformat_minor": 2
}
