{
 "cells": [
  {
   "cell_type": "markdown",
   "metadata": {},
   "source": [
    "# Minimizing allocations in phasing"
   ]
  },
  {
   "cell_type": "code",
   "execution_count": 1,
   "metadata": {
    "collapsed": false
   },
   "outputs": [],
   "source": [
    "using Revise\n",
    "using VCFTools\n",
    "using MendelImpute\n",
    "using GeneticVariation\n",
    "using Random\n",
    "using SparseArrays\n",
    "using JLD2, FileIO, JLSO\n",
    "using ProgressMeter\n",
    "using GroupSlices\n",
    "using ThreadPools\n",
    "using BenchmarkTools\n",
    "using StatsBase\n",
    "using StaticArrays\n",
    "using LinearAlgebra\n",
    "# using Plots\n",
    "# using ProfileView\n",
    "\n",
    "BLAS.set_num_threads(1)"
   ]
  },
  {
   "cell_type": "markdown",
   "metadata": {
    "collapsed": true
   },
   "source": [
    "# Optimize window by window intersection"
   ]
  },
  {
   "cell_type": "markdown",
   "metadata": {},
   "source": [
    "# using array of int\n",
    "\n",
    "Seems like `intersect!` in Base is allocating a lot. Its implementation is confusing."
   ]
  },
  {
   "cell_type": "code",
   "execution_count": 4,
   "metadata": {
    "collapsed": false
   },
   "outputs": [
    {
     "name": "stdout",
     "output_type": "stream",
     "text": [
      "  311.573 ns (15 allocations: 1.05 KiB)\n"
     ]
    },
    {
     "data": {
      "text/plain": [
       "1-element Array{Int64,1}:\n",
       " 1"
      ]
     },
     "execution_count": 4,
     "metadata": {},
     "output_type": "execute_result"
    }
   ],
   "source": [
    "@btime intersect!(x, y) setup=(x = [1, 2, 3]; y = [1, 4])"
   ]
  },
  {
   "cell_type": "code",
   "execution_count": 11,
   "metadata": {
    "collapsed": false
   },
   "outputs": [
    {
     "data": {
      "text/html": [
       "intersect!(v::<b>AbstractArray{T,1} where T</b>, itrs...) in Base at <a href=\"https://github.com/JuliaLang/julia/tree/2d5741174ce3e6a394010d2e470e4269ca54607f/base/array.jl#L2439\" target=\"_blank\">array.jl:2439</a>"
      ],
      "text/plain": [
       "intersect!(v::AbstractArray{T,1} where T, itrs...) in Base at array.jl:2439"
      ]
     },
     "execution_count": 11,
     "metadata": {},
     "output_type": "execute_result"
    }
   ],
   "source": [
    "@which intersect!([1, 2, 3], [1, 4])"
   ]
  },
  {
   "cell_type": "markdown",
   "metadata": {},
   "source": [
    "## Try writing our own non-allocating intersect\n",
    "\n",
    "Here is old implementation, requiring 1 pass through both vectors."
   ]
  },
  {
   "cell_type": "code",
   "execution_count": 2,
   "metadata": {
    "collapsed": false
   },
   "outputs": [
    {
     "data": {
      "text/plain": [
       "intersect_size (generic function with 3 methods)"
      ]
     },
     "execution_count": 2,
     "metadata": {},
     "output_type": "execute_result"
    }
   ],
   "source": [
    "\"\"\"\n",
    "    intersect!(v::AbstractVector, u::AbstractVector, seen::BitSet=BitSet())\n",
    "\n",
    "Computes `v ∩ u` in place and stores result in `v`. \n",
    "\n",
    "# Arguments\n",
    "- `v`: An integer vector\n",
    "- `u`: An integer vector\n",
    "- `seen`: Preallocated storage container\n",
    "\"\"\"\n",
    "function Base.intersect!(\n",
    "    v::AbstractVector{<:Integer}, \n",
    "    u::AbstractVector{<:Integer}, \n",
    "    seen::AbstractSet\n",
    "    )\n",
    "    empty!(seen)\n",
    "    for i in u\n",
    "        push!(seen, i)\n",
    "    end\n",
    "    for i in Iterators.reverse(eachindex(v))\n",
    "        @inbounds v[i] ∉ seen && deleteat!(v, i)\n",
    "    end\n",
    "    nothing\n",
    "end\n",
    "\n",
    "\"\"\"\n",
    "    intersect_size(v::AbstractVector, u::AbstractVector, seen::BitSet=BitSet())\n",
    "\n",
    "Computes the size of `v ∩ u` in place. Assumes `v` is usually smaller than `u`\n",
    "and each element in `v` is unique.\n",
    "\n",
    "# Arguments\n",
    "- `v`: An integer vector\n",
    "- `u`: An integer vector\n",
    "- `seen`: Preallocated storage container\n",
    "\"\"\"\n",
    "function intersect_size(\n",
    "    v::AbstractVector{<:Integer}, \n",
    "    u::AbstractVector{<:Integer}, \n",
    "    seen::AbstractSet=BitSet()\n",
    "    )\n",
    "    empty!(seen)\n",
    "    for i in u\n",
    "        push!(seen, i)\n",
    "    end\n",
    "    s = 0\n",
    "    for i in eachindex(v)\n",
    "        @inbounds v[i] ∈ seen && (s += 1)\n",
    "    end\n",
    "    s\n",
    "end\n",
    "intersect_size(v::AbstractVector, u::Integer, seen) = u in v"
   ]
  },
  {
   "cell_type": "markdown",
   "metadata": {},
   "source": [
    "Here is new implementation, avoids allocating a BitSet"
   ]
  },
  {
   "cell_type": "code",
   "execution_count": 3,
   "metadata": {
    "collapsed": false
   },
   "outputs": [
    {
     "data": {
      "text/plain": [
       "intersect_size_sorted (generic function with 2 methods)"
      ]
     },
     "execution_count": 3,
     "metadata": {},
     "output_type": "execute_result"
    }
   ],
   "source": [
    "\"\"\"\n",
    "    intersect_sorted!(v::AbstractVector, u::AbstractVector)\n",
    "\n",
    "Computes `v ∩ u` in place and stores result in `v`. `v` and `u` is assumed sorted.\n",
    "Repeated elements is allowed. \n",
    "\"\"\"\n",
    "function intersect_sorted!(\n",
    "    v::AbstractVector{<:Integer}, \n",
    "    u::AbstractVector{<:Integer}\n",
    "    )\n",
    "    lv = length(v)\n",
    "    lu = length(u)\n",
    "    i  = j = 1\n",
    "    @inbounds while i ≤ lv && j ≤ lu\n",
    "        if v[i] == u[j]\n",
    "            i += 1\n",
    "            j += 1\n",
    "        elseif v[i] > u[j]\n",
    "            j += 1\n",
    "        else\n",
    "            deleteat!(v, i)\n",
    "            lv -= 1\n",
    "        end\n",
    "    end\n",
    "    # handle remainders\n",
    "    while i ≤ lv\n",
    "        deleteat!(v, i)\n",
    "        lv -= 1\n",
    "    end\n",
    "end\n",
    "\n",
    "\"\"\"\n",
    "    intersect_size_sorted(v::AbstractVector, u::AbstractVector)\n",
    "\n",
    "Computes the size of `v ∩ u` in place. `v` and `u` is assumed sorted.\n",
    "Repeated elements is allowed. \n",
    "\n",
    "# Arguments\n",
    "- `v`: An integer vector\n",
    "- `u`: An integer vector\n",
    "\"\"\"\n",
    "function intersect_size_sorted(\n",
    "    v::AbstractVector{<:Integer}, \n",
    "    u::AbstractVector{<:Integer}\n",
    "    )\n",
    "    lv = length(v)\n",
    "    lu = length(u)\n",
    "    s = 0\n",
    "    i = 1\n",
    "    j = 1\n",
    "    @inbounds while i ≤ lv && j ≤ lu\n",
    "        if v[i] == u[j]\n",
    "            s += 1\n",
    "            i += 1\n",
    "            j += 1\n",
    "        elseif v[i] > u[j]\n",
    "            j += 1\n",
    "        else\n",
    "            i += 1\n",
    "        end\n",
    "    end\n",
    "    s\n",
    "end\n",
    "intersect_size_sorted(v::AbstractVector, u::Integer) = u in v"
   ]
  },
  {
   "cell_type": "markdown",
   "metadata": {},
   "source": [
    "Here's Ken's code"
   ]
  },
  {
   "cell_type": "code",
   "execution_count": 4,
   "metadata": {
    "collapsed": false
   },
   "outputs": [
    {
     "data": {
      "text/plain": [
       "intersect_lange! (generic function with 1 method)"
      ]
     },
     "execution_count": 4,
     "metadata": {},
     "output_type": "execute_result"
    }
   ],
   "source": [
    "function intersect_lange!(v::Vector{T}, u::Vector{T}) where T <: Integer\n",
    "    lv = length(v)\n",
    "    lu = length(u)\n",
    "    s = 0\n",
    "    i = 1\n",
    "    j = 1\n",
    "    @inbounds while i ≤ lv && j ≤ lu\n",
    "        if v[i] == u[j]\n",
    "            s += 1\n",
    "            v[s] = v[i]\n",
    "            i += 1\n",
    "            j += 1\n",
    "        elseif v[i] > u[j]\n",
    "            j += 1\n",
    "        else\n",
    "            i += 1\n",
    "        end\n",
    "    end\n",
    "    deleteat!(v, s+1:lv)\n",
    "    return nothing\n",
    "end"
   ]
  },
  {
   "cell_type": "code",
   "execution_count": 5,
   "metadata": {
    "collapsed": false
   },
   "outputs": [
    {
     "name": "stdout",
     "output_type": "stream",
     "text": [
      "intersect_size(x, y, seen) = 2\n",
      "x = [3, 5]\n",
      "y = [2, 3, 5, 6]\n"
     ]
    }
   ],
   "source": [
    "# correctness (old code)\n",
    "seen = BitSet()\n",
    "sizehint!(seen, 10000)\n",
    "x = [1, 3, 4, 5, 7, 9]\n",
    "y = [2, 3, 5, 6]\n",
    "@show intersect_size(x, y, seen)\n",
    "intersect!(x, y, seen)\n",
    "@show x\n",
    "@show y;"
   ]
  },
  {
   "cell_type": "code",
   "execution_count": 6,
   "metadata": {
    "collapsed": false
   },
   "outputs": [
    {
     "name": "stdout",
     "output_type": "stream",
     "text": [
      "intersect_size_sorted(x, y) = 2\n",
      "x = [3, 5]\n",
      "y = [2, 3, 5, 6]\n",
      "intersect_size_sorted(x, y) = 2\n",
      "x = [3, 7]\n",
      "y = [2, 3, 5, 6, 7, 10]\n",
      "intersect_size_sorted(x, y) = 4\n",
      "x = [3, 7, 7, 10]\n",
      "y = [2, 3, 5, 7, 7, 10]\n"
     ]
    }
   ],
   "source": [
    "# correctness (new code)\n",
    "x = [1, 3, 4, 5, 7, 9]\n",
    "y = [2, 3, 5, 6]\n",
    "@show intersect_size_sorted(x, y)\n",
    "intersect_sorted!(x, y)\n",
    "@show x\n",
    "@show y;\n",
    "\n",
    "x = [1, 3, 4, 7]\n",
    "y = [2, 3, 5, 6, 7, 10]\n",
    "@show intersect_size_sorted(x, y)\n",
    "intersect_sorted!(x, y)\n",
    "@show x\n",
    "@show y;\n",
    "\n",
    "x = [3, 4, 7, 7, 7, 10] # allow repeats, although we don't have any in MendelImpute\n",
    "y = [2, 3, 5, 7, 7, 10]\n",
    "@show intersect_size_sorted(x, y)\n",
    "intersect_sorted!(x, y)\n",
    "@show x\n",
    "@show y;"
   ]
  },
  {
   "cell_type": "code",
   "execution_count": 7,
   "metadata": {
    "collapsed": false
   },
   "outputs": [
    {
     "name": "stdout",
     "output_type": "stream",
     "text": [
      "x = [3, 5]\n",
      "y = [2, 3, 5, 6]\n",
      "x = [3, 7]\n",
      "y = [2, 3, 5, 6, 7, 10]\n",
      "x = [3, 7, 7, 10]\n",
      "y = [2, 3, 5, 7, 7, 10]\n"
     ]
    }
   ],
   "source": [
    "# correctness (ken's code)\n",
    "x = [1, 3, 4, 5, 7, 9]\n",
    "y = [2, 3, 5, 6]\n",
    "intersect_lange!(x, y)\n",
    "@show x\n",
    "@show y;\n",
    "\n",
    "x = [1, 3, 4, 7]\n",
    "y = [2, 3, 5, 6, 7, 10]\n",
    "intersect_lange!(x, y)\n",
    "@show x\n",
    "@show y;\n",
    "\n",
    "x = [3, 4, 7, 7, 7, 10] # allow repeats, although we don't have any in MendelImpute\n",
    "y = [2, 3, 5, 7, 7, 10]\n",
    "intersect_lange!(x, y)\n",
    "@show x\n",
    "@show y;"
   ]
  },
  {
   "cell_type": "markdown",
   "metadata": {},
   "source": [
    "## Timings"
   ]
  },
  {
   "cell_type": "code",
   "execution_count": 8,
   "metadata": {
    "collapsed": false
   },
   "outputs": [
    {
     "name": "stdout",
     "output_type": "stream",
     "text": [
      "  19.760 μs (28 allocations: 49.93 KiB)\n"
     ]
    }
   ],
   "source": [
    "# Julia built in\n",
    "@btime intersect!(x, y) setup=(x = rand(1:10000, 100); y = rand(1:10000, 1000));"
   ]
  },
  {
   "cell_type": "code",
   "execution_count": 9,
   "metadata": {
    "collapsed": false
   },
   "outputs": [
    {
     "name": "stdout",
     "output_type": "stream",
     "text": [
      "  2.137 μs (0 allocations: 0 bytes)\n"
     ]
    }
   ],
   "source": [
    "# old intersect!\n",
    "seen = BitSet()\n",
    "sizehint!(seen, 10000)\n",
    "@btime intersect!(x, y, $seen) setup=(x = rand(1:10000, 100); y = rand(1:10000, 1000));"
   ]
  },
  {
   "cell_type": "code",
   "execution_count": 10,
   "metadata": {
    "collapsed": false
   },
   "outputs": [
    {
     "name": "stdout",
     "output_type": "stream",
     "text": [
      "  1.694 μs (0 allocations: 0 bytes)\n"
     ]
    }
   ],
   "source": [
    "# old intersect_size\n",
    "seen = BitSet()\n",
    "sizehint!(seen, 10000)\n",
    "@btime intersect_size(x, y, $seen) setup=(x = rand(1:10000, 100); y = rand(1:10000, 1000));"
   ]
  },
  {
   "cell_type": "code",
   "execution_count": 15,
   "metadata": {
    "collapsed": false
   },
   "outputs": [
    {
     "name": "stdout",
     "output_type": "stream",
     "text": [
      "  92.430 ns (0 allocations: 0 bytes)\n"
     ]
    }
   ],
   "source": [
    "# new intersect_sorted!\n",
    "@btime intersect_sorted!(x, y) setup=(x = rand(1:10000, 100); y = rand(1:10000, 1000);\n",
    "    sort!(x); sort!(y));"
   ]
  },
  {
   "cell_type": "code",
   "execution_count": 16,
   "metadata": {
    "collapsed": false
   },
   "outputs": [
    {
     "name": "stdout",
     "output_type": "stream",
     "text": [
      "  1.143 μs (0 allocations: 0 bytes)\n"
     ]
    }
   ],
   "source": [
    "# new intersect_size_sorted\n",
    "@btime intersect_size_sorted(x, y) setup=(x = rand(1:10000, 100); y = rand(1:10000, 1000);\n",
    "    sort!(x); sort!(y));"
   ]
  },
  {
   "cell_type": "markdown",
   "metadata": {},
   "source": [
    "Although the new intersect_sorted! is much faster than before, intersect_size_sorted is 10x slower than intersect_sorted! even though their code is basically the same. "
   ]
  },
  {
   "cell_type": "code",
   "execution_count": 13,
   "metadata": {
    "collapsed": false
   },
   "outputs": [
    {
     "name": "stdout",
     "output_type": "stream",
     "text": [
      "  157.079 ns (0 allocations: 0 bytes)\n"
     ]
    }
   ],
   "source": [
    "# ken's intersect!\n",
    "@btime intersect_lange!(x, y) setup=(x = rand(1:10000, 100); y = rand(1:10000, 1000);\n",
    "    sort!(x); sort!(y));"
   ]
  },
  {
   "cell_type": "markdown",
   "metadata": {},
   "source": [
    "Timings for Ken's version and the previous version fluctuate between 10ns ~ 200ns. Let's try on real data."
   ]
  },
  {
   "cell_type": "markdown",
   "metadata": {},
   "source": [
    "## Try on simulated data"
   ]
  },
  {
   "cell_type": "code",
   "execution_count": 17,
   "metadata": {
    "collapsed": false
   },
   "outputs": [
    {
     "name": "stderr",
     "output_type": "stream",
     "text": [
      "\u001b[32mImporting genotype file...100%|█████████████████████████| Time: 0:00:07\u001b[39m\n"
     ]
    }
   ],
   "source": [
    "# first import all data, declare a bunch of (needed or not) variables, and look at 1 window\n",
    "cd(\"/Users/biona001/.julia/dev/MendelImpute/simulation\")\n",
    "Random.seed!(2020)\n",
    "width   = 512\n",
    "tgtfile = \"./compare2/target.typedOnly.maf0.01.masked.vcf.gz\"\n",
    "reffile = \"./compare2/ref.excludeTarget.w$width.jlso\"\n",
    "loaded = JLSO.load(reffile)\n",
    "compressed_Hunique = loaded[:compressed_Hunique]\n",
    "X, X_sampleID, X_chr, X_pos, X_ids, X_ref, X_alt = VCFTools.convert_gt(UInt8, tgtfile, \n",
    "    trans=true, save_snp_info=true, msg = \"Importing genotype file...\");\n",
    "\n",
    "# first person's optimal haplotype in each window (complete index)\n",
    "happair1_original = [9, 9, 30, 218, 31, 31, 86, 30, 86, 218, 163, 163, 45, 45, 163, 687, \n",
    "    3, 3, 6, 687, 3, 170, 212, 687, 328, 687, 48, 67, 7, 7, 7, 7, 7, 7, 169, 169, 156, \n",
    "    156, 169, 169, 336, 539, 34, 300, 300, 300, 260, 284, 284, 1, 91, 91, 14, 104, 131, \n",
    "    131, 548, 8, 8, 8, 8, 8, 8, 183, 8, 23, 6, 117, 754, 190, 16, 16]\n",
    "happair2_original = [5509, 45, 218, 5509, 218, 173, 218, 218, 218, 687, 218, 218, 163, 163, \n",
    "    1837, 709, 32, 687, 128, 1312, 202, 687, 277, 709, 328, 709, 475, 687, 687, 98, 98, 274, \n",
    "    169, 169, 709, 601, 709, 709, 384, 709, 709, 687, 171, 687, 426, 426, 284, 300, 539, \n",
    "    76, 617, 104, 104, 131, 1837, 140, 687, 687, 144, 687, 687, 233, 70, 233, 23, 1837, \n",
    "    23, 899, 2392, 1538, 78, 754];"
   ]
  },
  {
   "cell_type": "code",
   "execution_count": 27,
   "metadata": {
    "collapsed": false
   },
   "outputs": [
    {
     "name": "stdout",
     "output_type": "stream",
     "text": [
      "  227.366 μs (0 allocations: 0 bytes)\n"
     ]
    }
   ],
   "source": [
    "# old code timing = 1.521 ms (0 allocations: 0 bytes)\n",
    "survivors1=Int32[]\n",
    "survivors2=Int32[]\n",
    "sizehint!(survivors1, 60000)\n",
    "sizehint!(survivors2, 60000)\n",
    "\n",
    "@btime phase_sample!(happair1, happair2, $compressed_Hunique, $survivors1,\n",
    "    $survivors2) setup=(happair1=copy(happair1_original);happair2 = \n",
    "    copy(happair2_original))"
   ]
  },
  {
   "cell_type": "code",
   "execution_count": 19,
   "metadata": {
    "collapsed": false
   },
   "outputs": [
    {
     "name": "stdout",
     "output_type": "stream",
     "text": [
      "  198.689 μs (0 allocations: 0 bytes)\n"
     ]
    }
   ],
   "source": [
    "# ken's intersect\n",
    "survivors1=Int32[]\n",
    "survivors2=Int32[]\n",
    "sizehint!(survivors1, 60000)\n",
    "sizehint!(survivors2, 60000)\n",
    "\n",
    "@btime phase_sample!(happair1, happair2, $compressed_Hunique, $survivors1,\n",
    "    $survivors2) setup=(happair1=copy(happair1_original);happair2 = \n",
    "    copy(happair2_original))"
   ]
  },
  {
   "cell_type": "code",
   "execution_count": null,
   "metadata": {
    "collapsed": true
   },
   "outputs": [],
   "source": []
  }
 ],
 "metadata": {
  "@webio": {
   "lastCommId": null,
   "lastKernelId": null
  },
  "kernelspec": {
   "display_name": "Julia 1.3.1",
   "language": "julia",
   "name": "julia-1.3"
  },
  "language_info": {
   "file_extension": ".jl",
   "mimetype": "application/julia",
   "name": "julia",
   "version": "1.3.1"
  }
 },
 "nbformat": 4,
 "nbformat_minor": 2
}
