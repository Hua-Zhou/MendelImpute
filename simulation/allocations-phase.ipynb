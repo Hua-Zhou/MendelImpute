{
 "cells": [
  {
   "cell_type": "markdown",
   "metadata": {},
   "source": [
    "# Minimizing allocations in phasing"
   ]
  },
  {
   "cell_type": "code",
   "execution_count": 1,
   "metadata": {
    "collapsed": false
   },
   "outputs": [],
   "source": [
    "using Revise\n",
    "using VCFTools\n",
    "using MendelImpute\n",
    "using GeneticVariation\n",
    "using Random\n",
    "using SparseArrays\n",
    "using JLD2, FileIO, JLSO\n",
    "using ProgressMeter\n",
    "using GroupSlices\n",
    "using ThreadPools\n",
    "using BenchmarkTools\n",
    "using StatsBase\n",
    "using StaticArrays\n",
    "# using Plots\n",
    "# using ProfileView"
   ]
  },
  {
   "cell_type": "code",
   "execution_count": 2,
   "metadata": {
    "collapsed": false
   },
   "outputs": [
    {
     "data": {
      "text/plain": [
       "8"
      ]
     },
     "execution_count": 2,
     "metadata": {},
     "output_type": "execute_result"
    }
   ],
   "source": [
    "Threads.nthreads()"
   ]
  },
  {
   "cell_type": "markdown",
   "metadata": {
    "collapsed": true
   },
   "source": [
    "# Optimize window by window intersection"
   ]
  },
  {
   "cell_type": "markdown",
   "metadata": {},
   "source": [
    "# using array of int\n",
    "\n",
    "Seems like `intersect!` in Base is allocating a lot. Its implementation is confusing."
   ]
  },
  {
   "cell_type": "code",
   "execution_count": 4,
   "metadata": {
    "collapsed": false
   },
   "outputs": [
    {
     "name": "stdout",
     "output_type": "stream",
     "text": [
      "  311.573 ns (15 allocations: 1.05 KiB)\n"
     ]
    },
    {
     "data": {
      "text/plain": [
       "1-element Array{Int64,1}:\n",
       " 1"
      ]
     },
     "execution_count": 4,
     "metadata": {},
     "output_type": "execute_result"
    }
   ],
   "source": [
    "@btime intersect!(x, y) setup=(x = [1, 2, 3]; y = [1, 4])"
   ]
  },
  {
   "cell_type": "code",
   "execution_count": 11,
   "metadata": {
    "collapsed": false
   },
   "outputs": [
    {
     "data": {
      "text/html": [
       "intersect!(v::<b>AbstractArray{T,1} where T</b>, itrs...) in Base at <a href=\"https://github.com/JuliaLang/julia/tree/2d5741174ce3e6a394010d2e470e4269ca54607f/base/array.jl#L2439\" target=\"_blank\">array.jl:2439</a>"
      ],
      "text/plain": [
       "intersect!(v::AbstractArray{T,1} where T, itrs...) in Base at array.jl:2439"
      ]
     },
     "execution_count": 11,
     "metadata": {},
     "output_type": "execute_result"
    }
   ],
   "source": [
    "@which intersect!([1, 2, 3], [1, 4])"
   ]
  },
  {
   "cell_type": "markdown",
   "metadata": {},
   "source": [
    "## Try writing our own non-allocating intersect\n",
    "\n",
    "In our application, the 2 integer vectors are sorted and elements are unique. The code below doesn't assume such, so there may be faster implementations."
   ]
  },
  {
   "cell_type": "code",
   "execution_count": 8,
   "metadata": {
    "collapsed": false
   },
   "outputs": [
    {
     "data": {
      "text/plain": [
       "intersect_size (generic function with 3 methods)"
      ]
     },
     "execution_count": 8,
     "metadata": {},
     "output_type": "execute_result"
    }
   ],
   "source": [
    "\"\"\"\n",
    "    intersect!(v::AbstractVector, u::AbstractVector, seen::BitSet=BitSet())\n",
    "\n",
    "Computes `v ∩ u` in place and stores result in `v`. \n",
    "\n",
    "# Arguments\n",
    "- `v`: An integer vector\n",
    "- `u`: An integer vector\n",
    "- `seen`: Preallocated storage container\n",
    "\"\"\"\n",
    "function Base.intersect!(\n",
    "    v::AbstractVector{<:Integer}, \n",
    "    u::AbstractVector{<:Integer}, \n",
    "    seen::AbstractSet\n",
    "    )\n",
    "    empty!(seen)\n",
    "    for i in u\n",
    "        push!(seen, i)\n",
    "    end\n",
    "    for i in Iterators.reverse(eachindex(v))\n",
    "        @inbounds v[i] ∉ seen && deleteat!(v, i)\n",
    "    end\n",
    "    nothing\n",
    "end\n",
    "\n",
    "\"\"\"\n",
    "    intersect_size(v::AbstractVector, u::AbstractVector, seen::BitSet=BitSet())\n",
    "\n",
    "Computes the size of `v ∩ u` in place. Assumes `v` is usually smaller than `u`\n",
    "and each element in `v` is unique.\n",
    "\n",
    "# Arguments\n",
    "- `v`: An integer vector\n",
    "- `u`: An integer vector\n",
    "- `seen`: Preallocated storage container\n",
    "\"\"\"\n",
    "function intersect_size(\n",
    "    v::AbstractVector{<:Integer}, \n",
    "    u::AbstractVector{<:Integer}, \n",
    "    seen::AbstractSet=BitSet()\n",
    "    )\n",
    "    empty!(seen)\n",
    "    for i in u\n",
    "        push!(seen, i)\n",
    "    end\n",
    "    s = 0\n",
    "    for i in eachindex(v)\n",
    "        @inbounds v[i] ∈ seen && (s += 1)\n",
    "    end\n",
    "    return s\n",
    "end\n",
    "intersect_size(v::AbstractVector, u::Integer, seen) = u in v"
   ]
  },
  {
   "cell_type": "code",
   "execution_count": 15,
   "metadata": {
    "collapsed": false
   },
   "outputs": [
    {
     "name": "stdout",
     "output_type": "stream",
     "text": [
      "intersect_size(x, y, seen) = 2\n",
      "x = [3, 5]\n",
      "y = [2, 3, 5, 6]\n"
     ]
    }
   ],
   "source": [
    "# correctness\n",
    "seen = BitSet()\n",
    "sizehint!(seen, 10000)\n",
    "x = [1, 3, 4, 5, 7, 9]\n",
    "y = [2, 3, 5, 6]\n",
    "@show intersect_size(x, y, seen)\n",
    "intersect!(x, y, seen)\n",
    "@show x\n",
    "@show y;"
   ]
  },
  {
   "cell_type": "markdown",
   "metadata": {},
   "source": [
    "### Timings"
   ]
  },
  {
   "cell_type": "code",
   "execution_count": 25,
   "metadata": {
    "collapsed": false
   },
   "outputs": [
    {
     "name": "stdout",
     "output_type": "stream",
     "text": [
      "  69.754 μs (35 allocations: 95.62 KiB)\n"
     ]
    }
   ],
   "source": [
    "# Julia built in\n",
    "@btime intersect!(x, y) setup=(x = rand(1:10000, 1000); y = rand(1:10000, 1000));"
   ]
  },
  {
   "cell_type": "code",
   "execution_count": 23,
   "metadata": {
    "collapsed": false
   },
   "outputs": [
    {
     "name": "stdout",
     "output_type": "stream",
     "text": [
      "  3.286 μs (0 allocations: 0 bytes)\n"
     ]
    }
   ],
   "source": [
    "seen = BitSet()\n",
    "sizehint!(seen, 10000)\n",
    "@btime intersect!(x, y, $seen) setup=(x = rand(1:10000, 1000); y = rand(1:10000, 1000));"
   ]
  },
  {
   "cell_type": "code",
   "execution_count": 24,
   "metadata": {
    "collapsed": false
   },
   "outputs": [
    {
     "name": "stdout",
     "output_type": "stream",
     "text": [
      "  2.465 μs (0 allocations: 0 bytes)\n"
     ]
    }
   ],
   "source": [
    "seen = BitSet()\n",
    "sizehint!(seen, 10000)\n",
    "@btime intersect_size(x, y, $seen) setup=(x = rand(1:10000, 1000); y = rand(1:10000, 1000));"
   ]
  },
  {
   "cell_type": "code",
   "execution_count": 3,
   "metadata": {
    "collapsed": false
   },
   "outputs": [
    {
     "name": "stderr",
     "output_type": "stream",
     "text": [
      "\u001b[32mImporting genotype file...100%|█████████████████████████| Time: 0:00:07\u001b[39m\n"
     ]
    }
   ],
   "source": [
    "# first import all data, declare a bunch of (needed or not) variables, and look at 1 window\n",
    "cd(\"/Users/biona001/.julia/dev/MendelImpute/simulation\")\n",
    "Random.seed!(2020)\n",
    "width   = 512\n",
    "tgtfile = \"./compare2/target.typedOnly.maf0.01.masked.vcf.gz\"\n",
    "reffile = \"./compare2/ref.excludeTarget.w$width.jlso\"\n",
    "loaded = JLSO.load(reffile)\n",
    "compressed_Hunique = loaded[:compressed_Hunique]\n",
    "X, X_sampleID, X_chr, X_pos, X_ids, X_ref, X_alt = VCFTools.convert_gt(UInt8, tgtfile, \n",
    "    trans=true, save_snp_info=true, msg = \"Importing genotype file...\");\n",
    "\n",
    "# first person's optimal haplotype in each window (complete index)\n",
    "happair1_original = [9, 9, 30, 218, 31, 31, 86, 30, 86, 218, 163, 163, 45, 45, 163, 687, \n",
    "    3, 3, 6, 687, 3, 170, 212, 687, 328, 687, 48, 67, 7, 7, 7, 7, 7, 7, 169, 169, 156, \n",
    "    156, 169, 169, 336, 539, 34, 300, 300, 300, 260, 284, 284, 1, 91, 91, 14, 104, 131, \n",
    "    131, 548, 8, 8, 8, 8, 8, 8, 183, 8, 23, 6, 117, 754, 190, 16, 16]\n",
    "happair2_original = [5509, 45, 218, 5509, 218, 173, 218, 218, 218, 687, 218, 218, 163, 163, \n",
    "    1837, 709, 32, 687, 128, 1312, 202, 687, 277, 709, 328, 709, 475, 687, 687, 98, 98, 274, \n",
    "    169, 169, 709, 601, 709, 709, 384, 709, 709, 687, 171, 687, 426, 426, 284, 300, 539, \n",
    "    76, 617, 104, 104, 131, 1837, 140, 687, 687, 144, 687, 687, 233, 70, 233, 23, 1837, \n",
    "    23, 899, 2392, 1538, 78, 754];"
   ]
  },
  {
   "cell_type": "code",
   "execution_count": 9,
   "metadata": {
    "collapsed": false
   },
   "outputs": [
    {
     "name": "stdout",
     "output_type": "stream",
     "text": [
      "  0.002382 seconds (4 allocations: 160 bytes)\n"
     ]
    }
   ],
   "source": [
    "happair1 = copy(happair1_original)\n",
    "happair2 = copy(happair2_original)\n",
    "seen = BitSet()\n",
    "survivors1=Int32[]\n",
    "survivors2=Int32[]\n",
    "sizehint!(seen, 60000)\n",
    "sizehint!(survivors1, 60000)\n",
    "sizehint!(survivors2, 60000)\n",
    "\n",
    "@time phase_sample!(happair1, happair2, compressed_Hunique, seen, survivors1, survivors2)"
   ]
  },
  {
   "cell_type": "code",
   "execution_count": 7,
   "metadata": {
    "collapsed": false
   },
   "outputs": [
    {
     "name": "stdout",
     "output_type": "stream",
     "text": [
      "  1.521 ms (0 allocations: 0 bytes)\n"
     ]
    }
   ],
   "source": [
    "seen = BitSet()\n",
    "survivors1=Int32[]\n",
    "survivors2=Int32[]\n",
    "sizehint!(seen, 60000)\n",
    "sizehint!(survivors1, 60000)\n",
    "sizehint!(survivors2, 60000)\n",
    "\n",
    "@btime phase_sample!(happair1, happair2, $compressed_Hunique, $seen, $survivors1,\n",
    "    $survivors2) setup=(happair1=copy(happair1_original);happair2 = \n",
    "    copy(happair2_original))"
   ]
  },
  {
   "cell_type": "markdown",
   "metadata": {
    "collapsed": true
   },
   "source": [
    "# Try optimize overall phasing\n",
    "\n",
    "First save intermediate results for quick loading later"
   ]
  },
  {
   "cell_type": "code",
   "execution_count": 3,
   "metadata": {
    "collapsed": false
   },
   "outputs": [
    {
     "name": "stderr",
     "output_type": "stream",
     "text": [
      "\u001b[32mImporting genotype file...100%|█████████████████████████| Time: 0:00:07\u001b[39m\n"
     ]
    }
   ],
   "source": [
    "Random.seed!(2020)\n",
    "width   = 512\n",
    "tgtfile = \"./compare2/target.typedOnly.maf0.01.masked.vcf.gz\"\n",
    "reffile = \"./compare2/ref.excludeTarget.w$width.jlso\"\n",
    "\n",
    "loaded = JLSO.load(reffile)\n",
    "compressed_Hunique = loaded[:compressed_Hunique]\n",
    "\n",
    "X, X_sampleID, X_chr, X_pos, X_ids, X_ref, X_alt = \n",
    "    VCFTools.convert_gt(UInt8, tgtfile, trans=true, \n",
    "    save_snp_info=true, msg = \"Importing genotype file...\")\n",
    "\n",
    "people = size(X, 2)\n",
    "tgt_snps = size(X, 1)\n",
    "ref_snps = length(compressed_Hunique.pos)\n",
    "windows = floor(Int, tgt_snps / width)\n",
    "num_unique_haps = round(Int, avg_haplotypes_per_window(compressed_Hunique))\n",
    "\n",
    "# working arrays\n",
    "ph = [HaplotypeMosaicPair(ref_snps) for i in 1:people]\n",
    "haplotype1 = [zeros(Int32, windows) for i in 1:people]\n",
    "haplotype2 = [zeros(Int32, windows) for i in 1:people]\n",
    "\n",
    "haptimers = MendelImpute.compute_optimal_haplotypes!(haplotype1, haplotype2, \n",
    "    compressed_Hunique, X, X_pos, nothing, nothing,\n",
    "    false, 1000, false)\n",
    "\n",
    "JLSO.save(\"./compare2/haplotypes.w512\", :haplotype1 => haplotype1, :haplotype2 => haplotype2);"
   ]
  },
  {
   "cell_type": "markdown",
   "metadata": {
    "collapsed": true
   },
   "source": [
    "Load intermediate results"
   ]
  },
  {
   "cell_type": "code",
   "execution_count": 13,
   "metadata": {
    "collapsed": false
   },
   "outputs": [
    {
     "name": "stderr",
     "output_type": "stream",
     "text": [
      "\u001b[32mImporting genotype file...100%|█████████████████████████| Time: 0:00:06\u001b[39m\n"
     ]
    }
   ],
   "source": [
    "Random.seed!(2020)\n",
    "width   = 512\n",
    "tgtfile = \"./compare2/target.typedOnly.maf0.01.masked.vcf.gz\"\n",
    "reffile = \"./compare2/ref.excludeTarget.w$width.jlso\"\n",
    "\n",
    "refloaded = JLSO.load(reffile)\n",
    "compressed_Hunique = deepcopy(refloaded[:compressed_Hunique])\n",
    "\n",
    "X, X_sampleID, X_chr, X_pos, X_ids, X_ref, X_alt = \n",
    "    VCFTools.convert_gt(UInt8, tgtfile, trans=true, \n",
    "    save_snp_info=true, msg = \"Importing genotype file...\")\n",
    "\n",
    "haploaded = JLSO.load(\"./compare2/haplotypes.w512\")\n",
    "haplotype1 = copy(haploaded[:haplotype1])\n",
    "haplotype2 = copy(haploaded[:haplotype2])\n",
    "ref_snps = length(compressed_Hunique.pos)\n",
    "people = size(X, 2)\n",
    "ph = [HaplotypeMosaicPair(ref_snps) for i in 1:people];"
   ]
  },
  {
   "cell_type": "code",
   "execution_count": 15,
   "metadata": {
    "collapsed": false
   },
   "outputs": [
    {
     "name": "stdout",
     "output_type": "stream",
     "text": [
      "  0.036440 seconds (235.35 k allocations: 28.268 MiB)\n"
     ]
    }
   ],
   "source": [
    "compressed_Hunique = deepcopy(refloaded[:compressed_Hunique])\n",
    "haplotype1 = copy(haploaded[:haplotype1])\n",
    "haplotype2 = copy(haploaded[:haplotype2])\n",
    "ph = [HaplotypeMosaicPair(ref_snps) for i in 1:people];\n",
    "@time phasetimer = phase_fast!(ph, X, compressed_Hunique, haplotype1, haplotype2);"
   ]
  },
  {
   "cell_type": "code",
   "execution_count": 16,
   "metadata": {
    "collapsed": false
   },
   "outputs": [
    {
     "name": "stdout",
     "output_type": "stream",
     "text": [
      "  35.100 ms (233599 allocations: 28.24 MiB)\n"
     ]
    }
   ],
   "source": [
    "@btime phasetimer = phase_fast!(ph, $X, compressed_Hunique, haplotype1, haplotype2\n",
    "    ) setup=(ph = [HaplotypeMosaicPair(ref_snps) for i in 1:people];haplotype1 = \n",
    "    copy(haploaded[:haplotype1]); haplotype2 = \n",
    "    copy(haploaded[:haplotype2]); compressed_Hunique = deepcopy(\n",
    "    refloaded[:compressed_Hunique]));"
   ]
  },
  {
   "cell_type": "code",
   "execution_count": null,
   "metadata": {
    "collapsed": true
   },
   "outputs": [],
   "source": []
  }
 ],
 "metadata": {
  "@webio": {
   "lastCommId": null,
   "lastKernelId": null
  },
  "kernelspec": {
   "display_name": "Julia 1.3.1",
   "language": "julia",
   "name": "julia-1.3"
  },
  "language_info": {
   "file_extension": ".jl",
   "mimetype": "application/julia",
   "name": "julia",
   "version": "1.3.1"
  }
 },
 "nbformat": 4,
 "nbformat_minor": 2
}
