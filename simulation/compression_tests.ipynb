{
 "cells": [
  {
   "cell_type": "markdown",
   "metadata": {},
   "source": [
    "# Test JLD2 compression"
   ]
  },
  {
   "cell_type": "code",
   "execution_count": 29,
   "metadata": {
    "collapsed": false
   },
   "outputs": [],
   "source": [
    "using Revise\n",
    "using VCFTools\n",
    "using MendelImpute\n",
    "using GeneticVariation\n",
    "using Random\n",
    "using SparseArrays\n",
    "using JLD2, FileIO\n",
    "using CodecZlib\n",
    "using BSON\n",
    "using HDF5\n",
    "using JLSO\n",
    "using BenchmarkTools\n",
    "# using Plots\n",
    "# using ProfileView"
   ]
  },
  {
   "cell_type": "markdown",
   "metadata": {},
   "source": [
    "## Check reading speed and file size for simulated data"
   ]
  },
  {
   "cell_type": "code",
   "execution_count": 7,
   "metadata": {
    "collapsed": false
   },
   "outputs": [
    {
     "name": "stderr",
     "output_type": "stream",
     "text": [
      "\u001b[32mImporting reference haplotype files...100%|█████████████| Time: 0:00:07\u001b[39m\n"
     ]
    },
    {
     "name": "stdout",
     "output_type": "stream",
     "text": [
      " 10.659887 seconds (78.87 M allocations: 5.672 GiB, 8.19% gc time)\n"
     ]
    }
   ],
   "source": [
    "reffile = \"haplo_ref.vcf.gz\"\n",
    "outfile = \"haplo_ref.jld2\"\n",
    "@time hapset = save_jld2(reffile, outfile, column_major=true);"
   ]
  },
  {
   "cell_type": "code",
   "execution_count": 37,
   "metadata": {
    "collapsed": false
   },
   "outputs": [
    {
     "name": "stderr",
     "output_type": "stream",
     "text": [
      "gzip: haplo_ref.jld2.gz already exists -- skipping\n",
      "gzip: haplo_ref.jld2.gz already has .gz suffix -- unchanged\n"
     ]
    }
   ],
   "source": [
    ";gzip haplo_ref.jld2 haplo_ref.jld2.gz"
   ]
  },
  {
   "cell_type": "code",
   "execution_count": 10,
   "metadata": {
    "collapsed": false
   },
   "outputs": [
    {
     "name": "stdout",
     "output_type": "stream",
     "text": [
      "-rw-r--r--@ 1 biona001  staff  5449864 Apr  5 19:59 haplo_ref.vcf.gz\n"
     ]
    }
   ],
   "source": [
    ";ls -al haplo_ref.vcf.gz # original size of ref file (bytes)"
   ]
  },
  {
   "cell_type": "code",
   "execution_count": 11,
   "metadata": {
    "collapsed": false
   },
   "outputs": [
    {
     "name": "stdout",
     "output_type": "stream",
     "text": [
      "-rw-r--r--  1 biona001  staff  20318574 May 27 22:50 haplo_ref.jld2\n"
     ]
    }
   ],
   "source": [
    ";ls -al haplo_ref.jld2 # size of .jld2 file (bytes)"
   ]
  },
  {
   "cell_type": "code",
   "execution_count": 35,
   "metadata": {
    "collapsed": false
   },
   "outputs": [
    {
     "name": "stdout",
     "output_type": "stream",
     "text": [
      "-rw-r--r--@ 1 biona001  staff  6754174 May 27 22:50 haplo_ref.jld2.gz\n"
     ]
    }
   ],
   "source": [
    ";ls -al haplo_ref.jld2.gz # size of .jld2.gz file (bytes)"
   ]
  },
  {
   "cell_type": "code",
   "execution_count": 33,
   "metadata": {
    "collapsed": false
   },
   "outputs": [
    {
     "data": {
      "text/plain": [
       "3.7282717513684744"
      ]
     },
     "execution_count": 33,
     "metadata": {},
     "output_type": "execute_result"
    }
   ],
   "source": [
    "20318574 / 5449864 # .jld2 is larger file size"
   ]
  },
  {
   "cell_type": "code",
   "execution_count": 36,
   "metadata": {
    "collapsed": false
   },
   "outputs": [
    {
     "data": {
      "text/plain": [
       "1.2393289080241268"
      ]
     },
     "execution_count": 36,
     "metadata": {},
     "output_type": "execute_result"
    }
   ],
   "source": [
    "6754174 / 5449864 # .jld2.gz is larger file size"
   ]
  },
  {
   "cell_type": "code",
   "execution_count": 19,
   "metadata": {
    "collapsed": false
   },
   "outputs": [
    {
     "name": "stderr",
     "output_type": "stream",
     "text": [
      "\u001b[32mImporting reference haplotype files...100%|█████████████| Time: 0:00:06\u001b[39m\n"
     ]
    },
    {
     "name": "stdout",
     "output_type": "stream",
     "text": [
      "  7.085228 seconds (72.34 M allocations: 5.389 GiB, 9.18% gc time)\n",
      "  0.065357 seconds (585.73 k allocations: 49.473 MiB, 16.52% gc time)\n"
     ]
    }
   ],
   "source": [
    "#difference in reading speed\n",
    "@time H, H_sampleID, H_chr, H_pos, H_ids, H_ref, H_alt = convert_ht(Bool, reffile, trans=true, save_snp_info=true, msg = \"Importing reference haplotype files...\")\n",
    "@time @load \"haplo_ref.jld2\" hapset;"
   ]
  },
  {
   "cell_type": "code",
   "execution_count": 32,
   "metadata": {
    "collapsed": false
   },
   "outputs": [
    {
     "data": {
      "text/plain": [
       "108.40809706687884"
      ]
     },
     "execution_count": 32,
     "metadata": {},
     "output_type": "execute_result"
    }
   ],
   "source": [
    "7.085228 / 0.065357"
   ]
  },
  {
   "cell_type": "markdown",
   "metadata": {},
   "source": [
    "## Check reading speed and file size for chr22 data in 1000 genomes"
   ]
  },
  {
   "cell_type": "code",
   "execution_count": 20,
   "metadata": {
    "collapsed": false,
    "scrolled": true
   },
   "outputs": [
    {
     "name": "stderr",
     "output_type": "stream",
     "text": [
      "\u001b[32mImporting reference haplotype files...100%|█████████████| Time: 0:03:27\u001b[39m\n"
     ]
    },
    {
     "name": "stdout",
     "output_type": "stream",
     "text": [
      "233.106226 seconds (3.27 G allocations: 242.340 GiB, 18.42% gc time)\n"
     ]
    }
   ],
   "source": [
    "reffile = \"chr22.uniqueSNPs.vcf.gz\"\n",
    "outfile = \"chr22.uniqueSNPs.jld2\"\n",
    "@time hapset = save_jld2(reffile, outfile, column_major=true);"
   ]
  },
  {
   "cell_type": "code",
   "execution_count": 38,
   "metadata": {
    "collapsed": false
   },
   "outputs": [
    {
     "name": "stderr",
     "output_type": "stream",
     "text": [
      "gzip: chr22.uniqueSNPs.jld2.gz already has .gz suffix -- unchanged\n"
     ]
    }
   ],
   "source": [
    ";gzip chr22.uniqueSNPs.jld2 chr22.uniqueSNPs.jld2.gz"
   ]
  },
  {
   "cell_type": "code",
   "execution_count": 27,
   "metadata": {
    "collapsed": false
   },
   "outputs": [
    {
     "name": "stdout",
     "output_type": "stream",
     "text": [
      "-rw-r--r--  1 biona001  staff  142889955 Apr 20 11:38 chr22.uniqueSNPs.vcf.gz\n"
     ]
    }
   ],
   "source": [
    ";ls -al chr22.uniqueSNPs.vcf.gz # original size of ref file (bytes)"
   ]
  },
  {
   "cell_type": "code",
   "execution_count": 28,
   "metadata": {
    "collapsed": false
   },
   "outputs": [
    {
     "name": "stdout",
     "output_type": "stream",
     "text": [
      "-rw-r--r--  1 biona001  staff  615840218 May 27 23:06 chr22.uniqueSNPs.jld2\n"
     ]
    }
   ],
   "source": [
    ";ls -al chr22.uniqueSNPs.jld2 # size of .jld2 file (bytes)"
   ]
  },
  {
   "cell_type": "code",
   "execution_count": 39,
   "metadata": {
    "collapsed": false
   },
   "outputs": [
    {
     "name": "stdout",
     "output_type": "stream",
     "text": [
      "-rw-r--r--  1 biona001  staff  187644621 May 27 23:06 chr22.uniqueSNPs.jld2.gz\n"
     ]
    }
   ],
   "source": [
    ";ls -al chr22.uniqueSNPs.jld2.gz # size of .jld2.gz file (bytes)"
   ]
  },
  {
   "cell_type": "code",
   "execution_count": 30,
   "metadata": {
    "collapsed": false
   },
   "outputs": [
    {
     "data": {
      "text/plain": [
       "4.309891608545891"
      ]
     },
     "execution_count": 30,
     "metadata": {},
     "output_type": "execute_result"
    }
   ],
   "source": [
    "615840218 / 142889955 # .jld2 is larger file size"
   ]
  },
  {
   "cell_type": "code",
   "execution_count": 40,
   "metadata": {
    "collapsed": false
   },
   "outputs": [
    {
     "data": {
      "text/plain": [
       "1.3132107221952727"
      ]
     },
     "execution_count": 40,
     "metadata": {},
     "output_type": "execute_result"
    }
   ],
   "source": [
    "187644621 / 142889955 # .jld2.gz is larger file size"
   ]
  },
  {
   "cell_type": "code",
   "execution_count": 26,
   "metadata": {
    "collapsed": false
   },
   "outputs": [
    {
     "name": "stderr",
     "output_type": "stream",
     "text": [
      "\u001b[32mImporting reference haplotype files...100%|█████████████| Time: 0:03:42\u001b[39m\n"
     ]
    },
    {
     "name": "stdout",
     "output_type": "stream",
     "text": [
      "242.880364 seconds (3.24 G allocations: 241.675 GiB, 17.22% gc time)\n",
      "  1.496514 seconds (10.41 M allocations: 1.045 GiB, 23.09% gc time)\n"
     ]
    }
   ],
   "source": [
    "#difference in reading speed\n",
    "@time H, H_sampleID, H_chr, H_pos, H_ids, H_ref, H_alt = convert_ht(Bool, reffile, trans=true, save_snp_info=true, msg = \"Importing reference haplotype files...\")\n",
    "@time @load \"chr22.uniqueSNPs.jld2\" hapset;"
   ]
  },
  {
   "cell_type": "code",
   "execution_count": 31,
   "metadata": {
    "collapsed": false
   },
   "outputs": [
    {
     "data": {
      "text/plain": [
       "162.29742187510442"
      ]
     },
     "execution_count": 31,
     "metadata": {},
     "output_type": "execute_result"
    }
   ],
   "source": [
    "242.880364 / 1.496514"
   ]
  },
  {
   "cell_type": "markdown",
   "metadata": {},
   "source": [
    "## .gz compressed jld2\n",
    "\n",
    "Not sure how to make this work"
   ]
  },
  {
   "cell_type": "code",
   "execution_count": 20,
   "metadata": {
    "collapsed": false
   },
   "outputs": [
    {
     "ename": "MethodError",
     "evalue": "MethodError: no method matching jldopen(::Array{UInt8,1}, ::String)\nClosest candidates are:\n  jldopen(!Matched::AbstractString, ::AbstractString; kwargs...) at /Users/biona001/.julia/packages/JLD2/2W9VX/src/JLD2.jl:288\n  jldopen(!Matched::Function, ::Any...; kws...) at /Users/biona001/.julia/packages/JLD2/2W9VX/src/loadsave.jl:2",
     "output_type": "error",
     "traceback": [
      "MethodError: no method matching jldopen(::Array{UInt8,1}, ::String)\nClosest candidates are:\n  jldopen(!Matched::AbstractString, ::AbstractString; kwargs...) at /Users/biona001/.julia/packages/JLD2/2W9VX/src/JLD2.jl:288\n  jldopen(!Matched::Function, ::Any...; kws...) at /Users/biona001/.julia/packages/JLD2/2W9VX/src/loadsave.jl:2",
      "",
      "Stacktrace:",
      " [1] top-level scope at In[20]:4"
     ]
    }
   ],
   "source": [
    "reffile = \"chr22.uniqueSNPs.jld2.gz\"\n",
    "io = GzipDecompressorStream(open(reffile, \"r\"))\n",
    "x = read(io)\n",
    "\n",
    "hapset = jldopen(x, \"r\")\n",
    "# hapset = read(io, \"hapset\")\n",
    "# jldopen(GzipDecompressorStream(open(reffile)), \"r\") do file\n",
    "#     file[\"bigdata\"] = randn(5)\n",
    "# end"
   ]
  },
  {
   "cell_type": "code",
   "execution_count": 22,
   "metadata": {
    "collapsed": false
   },
   "outputs": [
    {
     "data": {
      "text/plain": [
       "false"
      ]
     },
     "execution_count": 22,
     "metadata": {},
     "output_type": "execute_result"
    }
   ],
   "source": [
    "typeof(io) <: IOStream"
   ]
  },
  {
   "cell_type": "markdown",
   "metadata": {},
   "source": [
    "# Try BSON format"
   ]
  },
  {
   "cell_type": "code",
   "execution_count": 10,
   "metadata": {
    "collapsed": false
   },
   "outputs": [
    {
     "name": "stderr",
     "output_type": "stream",
     "text": [
      "\u001b[32mImporting reference haplotype files...100%|█████████████| Time: 0:03:36\u001b[39m\n"
     ]
    },
    {
     "ename": "LoadError",
     "evalue": "syntax: incomplete: premature end of input",
     "output_type": "error",
     "traceback": [
      "syntax: incomplete: premature end of input",
      ""
     ]
    }
   ],
   "source": [
    "reffile = \"chr22.uniqueSNPs.vcf.gz\"\n",
    "H, H_sampleID, H_chr, H_pos, H_ids, H_ref, H_alt = convert_ht(Bool, reffile, trans=true, save_snp_info=true, msg = \"Importing reference haplotype files...\")\n",
    "hapset = MendelImpute.RefHaplotypes(H, true, H_sampleID, H_chr, H_pos, H_ids, H_ref, H_alt);"
   ]
  },
  {
   "cell_type": "code",
   "execution_count": 25,
   "metadata": {
    "collapsed": false
   },
   "outputs": [
    {
     "name": "stdout",
     "output_type": "stream",
     "text": [
      " 18.113662 seconds (48.01 M allocations: 8.182 GiB, 25.31% gc time)\n"
     ]
    }
   ],
   "source": [
    "@time bson(\"chr22.uniqueSNPs.bson\", hapset = hapset)"
   ]
  },
  {
   "cell_type": "code",
   "execution_count": 38,
   "metadata": {
    "collapsed": false
   },
   "outputs": [
    {
     "name": "stdout",
     "output_type": "stream",
     "text": [
      "  6.822258 seconds (15.49 M allocations: 1.755 GiB, 40.00% gc time)\n"
     ]
    }
   ],
   "source": [
    "@time BSON.@load \"chr22.uniqueSNPs.bson\" hapset"
   ]
  },
  {
   "cell_type": "code",
   "execution_count": 31,
   "metadata": {
    "collapsed": false
   },
   "outputs": [
    {
     "name": "stdout",
     "output_type": "stream",
     "text": [
      "-rw-r--r--  1 biona001  staff  142889955 Apr 20 11:38 chr22.uniqueSNPs.vcf.gz\n"
     ]
    }
   ],
   "source": [
    ";ls -al chr22.uniqueSNPs.vcf.gz # original size of ref file (bytes)"
   ]
  },
  {
   "cell_type": "code",
   "execution_count": 30,
   "metadata": {
    "collapsed": false
   },
   "outputs": [
    {
     "name": "stdout",
     "output_type": "stream",
     "text": [
      "-rw-r--r--  1 biona001  staff  468468844 May 28 13:35 chr22.uniqueSNPs.bson\n"
     ]
    }
   ],
   "source": [
    ";ls -al chr22.uniqueSNPs.bson # BSON is also large file"
   ]
  },
  {
   "cell_type": "code",
   "execution_count": 32,
   "metadata": {
    "collapsed": false
   },
   "outputs": [
    {
     "data": {
      "text/plain": [
       "3.2785288790944054"
      ]
     },
     "execution_count": 32,
     "metadata": {},
     "output_type": "execute_result"
    }
   ],
   "source": [
    "468468844 / 142889955"
   ]
  },
  {
   "cell_type": "code",
   "execution_count": 33,
   "metadata": {
    "collapsed": false
   },
   "outputs": [
    {
     "name": "stderr",
     "output_type": "stream",
     "text": [
      "gzip: chr22.uniqueSNPs.bson.gz already has .gz suffix -- unchanged\n"
     ]
    }
   ],
   "source": [
    ";gzip chr22.uniqueSNPs.bson chr22.uniqueSNPs.bson.gz"
   ]
  },
  {
   "cell_type": "code",
   "execution_count": 34,
   "metadata": {
    "collapsed": false
   },
   "outputs": [
    {
     "name": "stdout",
     "output_type": "stream",
     "text": [
      "-rw-r--r--  1 biona001  staff  169768322 May 28 13:35 chr22.uniqueSNPs.bson.gz\n"
     ]
    }
   ],
   "source": [
    ";ls -al chr22.uniqueSNPs.bson.gz "
   ]
  },
  {
   "cell_type": "code",
   "execution_count": 36,
   "metadata": {
    "collapsed": false
   },
   "outputs": [
    {
     "data": {
      "text/plain": [
       "2.7594597065051985"
      ]
     },
     "execution_count": 36,
     "metadata": {},
     "output_type": "execute_result"
    }
   ],
   "source": [
    "468468844 / 169768322"
   ]
  },
  {
   "cell_type": "code",
   "execution_count": 35,
   "metadata": {
    "collapsed": false
   },
   "outputs": [
    {
     "data": {
      "text/plain": [
       "\"/Users/biona001/.julia/dev/MendelImpute/simulation\""
      ]
     },
     "execution_count": 35,
     "metadata": {},
     "output_type": "execute_result"
    }
   ],
   "source": [
    "pwd()"
   ]
  },
  {
   "cell_type": "code",
   "execution_count": 39,
   "metadata": {
    "collapsed": false
   },
   "outputs": [
    {
     "ename": "UndefVarError",
     "evalue": "UndefVarError: bsonopen not defined",
     "output_type": "error",
     "traceback": [
      "UndefVarError: bsonopen not defined",
      "",
      "Stacktrace:",
      " [1] top-level scope at In[39]:1"
     ]
    }
   ],
   "source": [
    "hapset = bsonopen(x, \"r\")"
   ]
  },
  {
   "cell_type": "markdown",
   "metadata": {},
   "source": [
    "## Try HDF5"
   ]
  },
  {
   "cell_type": "code",
   "execution_count": 41,
   "metadata": {
    "collapsed": false
   },
   "outputs": [
    {
     "data": {
      "text/plain": [
       "MendelImpute.RefHaplotypes(Bool[0 0 … 0 0; 0 0 … 0 0; … ; 0 0 … 0 0; 0 0 … 0 0], true, [\"HG00096\", \"HG00097\", \"HG00099\", \"HG00100\", \"HG00101\", \"HG00102\", \"HG00103\", \"HG00105\", \"HG00106\", \"HG00107\"  …  \"NA21128\", \"NA21129\", \"NA21130\", \"NA21133\", \"NA21135\", \"NA21137\", \"NA21141\", \"NA21142\", \"NA21143\", \"NA21144\"], [\"22\", \"22\", \"22\", \"22\", \"22\", \"22\", \"22\", \"22\", \"22\", \"22\"  …  \"22\", \"22\", \"22\", \"22\", \"22\", \"22\", \"22\", \"22\", \"22\", \"22\"], [16050115, 16050213, 16050568, 16050607, 16050627, 16050654, 16050678, 16050739, 16050783, 16050840  …  51239678, 51239794, 51240084, 51240820, 51241101, 51241102, 51241285, 51241386, 51244163, 51244237], Array{String,1}[[\"22:16050115:G:A\"], [\"22:16050213:C:T\"], [\"22:16050568:C:A\"], [\"22:16050607:G:A\"], [\"22:16050627:G:T\"], [\"DUP_gs_CNV_22_16050654_16063474:16050654:A:<CN0>\"], [\"rs139377059:16050678:C:T\"], [\"22:16050739:TA:T\"], [\"22:16050783:A:G\"], [\"22:16050840:C:G\"]  …  [\"22:51239678:G:T\"], [\"22:51239794:C:A\"], [\"22:51240084:G:C\"], [\"rs202228854:51240820:C:T\"], [\"22:51241101:A:T\"], [\"22:51241102:T:C\"], [\"22:51241285:T:G\"], [\"22:51241386:C:G\"], [\"rs199560686:51244163:A:G\"], [\"22:51244237:C:T\"]], [\"G\", \"C\", \"C\", \"G\", \"G\", \"A\", \"C\", \"TA\", \"A\", \"C\"  …  \"G\", \"C\", \"G\", \"C\", \"A\", \"T\", \"T\", \"C\", \"A\", \"C\"], Array{String,1}[[\"A\"], [\"T\"], [\"A\"], [\"A\"], [\"T\"], [\"<CN0>\"], [\"T\"], [\"T\"], [\"G\"], [\"G\"]  …  [\"T\"], [\"A\"], [\"C\"], [\"T\"], [\"T\"], [\"C\"], [\"G\"], [\"G\"], [\"G\"], [\"T\"]])"
      ]
     },
     "execution_count": 41,
     "metadata": {},
     "output_type": "execute_result"
    }
   ],
   "source": [
    "reffile = \"chr22.uniqueSNPs.vcf.gz\"\n",
    "H, H_sampleID, H_chr, H_pos, H_ids, H_ref, H_alt = convert_ht(Bool, reffile, trans=true, save_snp_info=true, msg = \"Importing reference haplotype files...\")\n",
    "hapset = MendelImpute.RefHaplotypes(H, true, H_sampleID, H_chr, H_pos, H_ids, H_ref, H_alt)"
   ]
  },
  {
   "cell_type": "code",
   "execution_count": 44,
   "metadata": {
    "collapsed": false
   },
   "outputs": [
    {
     "name": "stdout",
     "output_type": "stream",
     "text": [
      "search: \u001b[0m\u001b[1mh\u001b[22m\u001b[0m\u001b[1m5\u001b[22m\u001b[0m\u001b[1mw\u001b[22m\u001b[0m\u001b[1mr\u001b[22m\u001b[0m\u001b[1mi\u001b[22m\u001b[0m\u001b[1mt\u001b[22m\u001b[0m\u001b[1me\u001b[22m \u001b[0m\u001b[1mh\u001b[22m\u001b[0m\u001b[1m5\u001b[22m\u001b[0m\u001b[1mw\u001b[22m\u001b[0m\u001b[1mr\u001b[22m\u001b[0m\u001b[1mi\u001b[22m\u001b[0m\u001b[1mt\u001b[22m\u001b[0m\u001b[1me\u001b[22mattr \u001b[0m\u001b[1mh\u001b[22m\u001b[0m\u001b[1m5\u001b[22mre\u001b[0m\u001b[1mw\u001b[22m\u001b[0m\u001b[1mr\u001b[22m\u001b[0m\u001b[1mi\u001b[22m\u001b[0m\u001b[1mt\u001b[22m\u001b[0m\u001b[1me\u001b[22m\n",
      "\n"
     ]
    },
    {
     "data": {
      "text/latex": [
       "No documentation found.\n",
       "\n",
       "\\texttt{HDF5.h5write} is a \\texttt{Function}.\n",
       "\n",
       "\\begin{verbatim}\n",
       "# 1 method for generic function \"h5write\":\n",
       "[1] h5write(filename, name::String, data, pv...) in HDF5 at /Users/biona001/.julia/packages/HDF5/pAi1D/src/HDF5.jl:716\n",
       "\\end{verbatim}\n"
      ],
      "text/markdown": [
       "No documentation found.\n",
       "\n",
       "`HDF5.h5write` is a `Function`.\n",
       "\n",
       "```\n",
       "# 1 method for generic function \"h5write\":\n",
       "[1] h5write(filename, name::String, data, pv...) in HDF5 at /Users/biona001/.julia/packages/HDF5/pAi1D/src/HDF5.jl:716\n",
       "```\n"
      ],
      "text/plain": [
       "  No documentation found.\n",
       "\n",
       "  \u001b[36mHDF5.h5write\u001b[39m is a \u001b[36mFunction\u001b[39m.\n",
       "\n",
       "\u001b[36m  # 1 method for generic function \"h5write\":\u001b[39m\n",
       "\u001b[36m  [1] h5write(filename, name::String, data, pv...) in HDF5 at /Users/biona001/.julia/packages/HDF5/pAi1D/src/HDF5.jl:716\u001b[39m"
      ]
     },
     "execution_count": 44,
     "metadata": {},
     "output_type": "execute_result"
    }
   ],
   "source": [
    "?h5write"
   ]
  },
  {
   "cell_type": "markdown",
   "metadata": {},
   "source": [
    "## Try JLSO"
   ]
  },
  {
   "cell_type": "code",
   "execution_count": 14,
   "metadata": {
    "collapsed": false
   },
   "outputs": [
    {
     "name": "stderr",
     "output_type": "stream",
     "text": [
      "\u001b[32mImporting reference haplotype files...100%|█████████████| Time: 0:00:05\u001b[39m\n"
     ]
    }
   ],
   "source": [
    "reffile = \"haplo_ref.vcf.gz\"\n",
    "H, H_sampleID, H_chr, H_pos, H_ids, H_ref, H_alt = convert_ht(Bool, reffile, trans=true, save_snp_info=true, msg = \"Importing reference haplotype files...\")\n",
    "hapset = MendelImpute.RefHaplotypes(H, true, H_sampleID, H_chr, H_pos, H_ids, H_ref, H_alt);"
   ]
  },
  {
   "cell_type": "code",
   "execution_count": 38,
   "metadata": {
    "collapsed": false
   },
   "outputs": [
    {
     "name": "stdout",
     "output_type": "stream",
     "text": [
      " 11.912740 seconds (2.45 M allocations: 458.037 MiB, 0.39% gc time)\n"
     ]
    }
   ],
   "source": [
    "@time JLSO.save(\"haplo_ref.jlso\", :hapset => hapset, format=:bson, compression=:gzip_smallest)"
   ]
  },
  {
   "cell_type": "code",
   "execution_count": 20,
   "metadata": {
    "collapsed": false
   },
   "outputs": [
    {
     "name": "stdout",
     "output_type": "stream",
     "text": [
      "-rw-r--r--@ 1 biona001  staff  5449864 Apr  5 19:59 haplo_ref.vcf.gz\n"
     ]
    }
   ],
   "source": [
    ";ls -al haplo_ref.vcf.gz"
   ]
  },
  {
   "cell_type": "code",
   "execution_count": 39,
   "metadata": {
    "collapsed": false,
    "scrolled": true
   },
   "outputs": [
    {
     "name": "stdout",
     "output_type": "stream",
     "text": [
      "-rw-r--r--  1 biona001  staff  5851597 May 28 15:35 haplo_ref.jlso\n"
     ]
    }
   ],
   "source": [
    ";ls -al haplo_ref.jlso"
   ]
  },
  {
   "cell_type": "code",
   "execution_count": 31,
   "metadata": {
    "collapsed": false
   },
   "outputs": [
    {
     "name": "stdout",
     "output_type": "stream",
     "text": [
      "  189.543 ms (502942 allocations: 35.94 MiB)\n"
     ]
    }
   ],
   "source": [
    "# filesize = 5505991, format=:julia_serialize, compression=:gzip_smallest\n",
    "@btime loaded = JLSO.load(\"haplo_ref.jlso\");"
   ]
  },
  {
   "cell_type": "code",
   "execution_count": 34,
   "metadata": {
    "collapsed": false
   },
   "outputs": [
    {
     "name": "stdout",
     "output_type": "stream",
     "text": [
      "  195.815 ms (502942 allocations: 36.18 MiB)\n"
     ]
    }
   ],
   "source": [
    "# filesize = 5758746, format=:julia_serialize, compression=:gzip_fastest\n",
    "@btime loaded = JLSO.load(\"haplo_ref.jlso\");"
   ]
  },
  {
   "cell_type": "code",
   "execution_count": 37,
   "metadata": {
    "collapsed": false
   },
   "outputs": [
    {
     "name": "stdout",
     "output_type": "stream",
     "text": [
      "  178.737 ms (1081423 allocations: 86.95 MiB)\n"
     ]
    }
   ],
   "source": [
    "# filesize = 6133533, format=:bson, compression=:gzip_fastest\n",
    "@btime loaded = JLSO.load(\"haplo_ref.jlso\");"
   ]
  },
  {
   "cell_type": "code",
   "execution_count": 40,
   "metadata": {
    "collapsed": false
   },
   "outputs": [
    {
     "name": "stdout",
     "output_type": "stream",
     "text": [
      "  171.238 ms (1081423 allocations: 86.68 MiB)\n"
     ]
    }
   ],
   "source": [
    "# filesize = 5851597, format=:bson, compression=:gzip_smallest\n",
    "@btime loaded = JLSO.load(\"haplo_ref.jlso\");"
   ]
  },
  {
   "cell_type": "code",
   "execution_count": null,
   "metadata": {
    "collapsed": true
   },
   "outputs": [],
   "source": []
  },
  {
   "cell_type": "code",
   "execution_count": null,
   "metadata": {
    "collapsed": true
   },
   "outputs": [],
   "source": []
  },
  {
   "cell_type": "code",
   "execution_count": 42,
   "metadata": {
    "collapsed": false
   },
   "outputs": [
    {
     "name": "stdout",
     "output_type": "stream",
     "text": [
      "-rw-r--r--  1 biona001  staff  142889955 Apr 20 11:38 chr22.uniqueSNPs.vcf.gz\n"
     ]
    }
   ],
   "source": [
    ";ls -al chr22.uniqueSNPs.vcf.gz"
   ]
  },
  {
   "cell_type": "code",
   "execution_count": 43,
   "metadata": {
    "collapsed": false
   },
   "outputs": [
    {
     "name": "stderr",
     "output_type": "stream",
     "text": [
      "\u001b[32mImporting reference haplotype files...100%|█████████████| Time: 0:03:25\u001b[39m\n"
     ]
    }
   ],
   "source": [
    "reffile = \"chr22.uniqueSNPs.vcf.gz\"\n",
    "H, H_sampleID, H_chr, H_pos, H_ids, H_ref, H_alt = convert_ht(Bool, reffile, trans=true, save_snp_info=true, msg = \"Importing reference haplotype files...\")\n",
    "hapset = MendelImpute.RefHaplotypes(H, true, H_sampleID, H_chr, H_pos, H_ids, H_ref, H_alt);"
   ]
  },
  {
   "cell_type": "code",
   "execution_count": 64,
   "metadata": {
    "collapsed": false
   },
   "outputs": [
    {
     "name": "stdout",
     "output_type": "stream",
     "text": [
      " 34.483278 seconds (44.19 M allocations: 16.693 GiB, 39.23% gc time)\n"
     ]
    }
   ],
   "source": [
    "@time JLSO.save(\"chr22.uniqueSNPs.jlso\", :hapset => hapset, format=:bson, compression=:none)"
   ]
  },
  {
   "cell_type": "code",
   "execution_count": 65,
   "metadata": {
    "collapsed": false
   },
   "outputs": [
    {
     "name": "stdout",
     "output_type": "stream",
     "text": [
      "-rw-r--r--  1 biona001  staff  468472432 May 28 16:40 chr22.uniqueSNPs.jlso\n"
     ]
    }
   ],
   "source": [
    ";ls -al chr22.uniqueSNPs.jlso"
   ]
  },
  {
   "cell_type": "code",
   "execution_count": 47,
   "metadata": {
    "collapsed": false
   },
   "outputs": [
    {
     "name": "stdout",
     "output_type": "stream",
     "text": [
      "  6.701 s (9032548 allocations: 901.81 MiB)\n"
     ]
    }
   ],
   "source": [
    "# filesize = 156750465, format=:julia_serialize, compression=:gzip_smallest\n",
    "@btime loaded = JLSO.load(\"chr22.uniqueSNPs.jlso\") seconds=30;"
   ]
  },
  {
   "cell_type": "code",
   "execution_count": 51,
   "metadata": {
    "collapsed": false
   },
   "outputs": [
    {
     "name": "stdout",
     "output_type": "stream",
     "text": [
      "  6.717 s (9032546 allocations: 908.09 MiB)\n"
     ]
    }
   ],
   "source": [
    "# filesize = 163328088, format=:julia_serialize, compression=:gzip\n",
    "@btime loaded = JLSO.load(\"chr22.uniqueSNPs.jlso\") seconds=30;"
   ]
  },
  {
   "cell_type": "code",
   "execution_count": 54,
   "metadata": {
    "collapsed": false
   },
   "outputs": [
    {
     "name": "stdout",
     "output_type": "stream",
     "text": [
      "  7.173 s (9032547 allocations: 923.70 MiB)\n"
     ]
    }
   ],
   "source": [
    "# filesize = 179698900, format=:julia_serialize, compression=:gzip_fastest\n",
    "@btime loaded = JLSO.load(\"chr22.uniqueSNPs.jlso\") seconds=30;"
   ]
  },
  {
   "cell_type": "code",
   "execution_count": 57,
   "metadata": {
    "collapsed": false
   },
   "outputs": [
    {
     "name": "stdout",
     "output_type": "stream",
     "text": [
      "  7.189 s (19360229 allocations: 1.96 GiB)\n"
     ]
    }
   ],
   "source": [
    "# filesize = 163082396, format=:bson, compression=:gzip_smallest\n",
    "@btime loaded = JLSO.load(\"chr22.uniqueSNPs.jlso\") seconds=30;"
   ]
  },
  {
   "cell_type": "code",
   "execution_count": 60,
   "metadata": {
    "collapsed": false
   },
   "outputs": [
    {
     "name": "stdout",
     "output_type": "stream",
     "text": [
      "  7.469 s (19360228 allocations: 1.97 GiB)\n"
     ]
    }
   ],
   "source": [
    "# filesize = 169771730, format=:bson, compression=:gzip\n",
    "@btime loaded = JLSO.load(\"chr22.uniqueSNPs.jlso\") seconds=30;"
   ]
  },
  {
   "cell_type": "code",
   "execution_count": 63,
   "metadata": {
    "collapsed": false
   },
   "outputs": [
    {
     "name": "stdout",
     "output_type": "stream",
     "text": [
      "  8.083 s (19360229 allocations: 1.99 GiB)\n"
     ]
    }
   ],
   "source": [
    "# filesize = 186600622, format=:bson, compression=:gzip_fastest\n",
    "@btime loaded = JLSO.load(\"chr22.uniqueSNPs.jlso\") seconds=30;"
   ]
  },
  {
   "cell_type": "code",
   "execution_count": 66,
   "metadata": {
    "collapsed": false
   },
   "outputs": [
    {
     "name": "stdout",
     "output_type": "stream",
     "text": [
      "  5.195 s (18070248 allocations: 2.11 GiB)\n"
     ]
    }
   ],
   "source": [
    "# filesize = 468472432, format=:bson, compression=:none\n",
    "@btime loaded = JLSO.load(\"chr22.uniqueSNPs.jlso\") seconds=30;"
   ]
  },
  {
   "cell_type": "code",
   "execution_count": 67,
   "metadata": {
    "collapsed": false
   },
   "outputs": [
    {
     "name": "stdout",
     "output_type": "stream",
     "text": [
      "  6.562851 seconds (18.07 M allocations: 2.108 GiB, 51.79% gc time)\n"
     ]
    }
   ],
   "source": [
    "@time loaded = JLSO.load(\"chr22.uniqueSNPs.jlso\")\n",
    "hs = loaded[:hapset];"
   ]
  },
  {
   "cell_type": "code",
   "execution_count": 68,
   "metadata": {
    "collapsed": false
   },
   "outputs": [
    {
     "data": {
      "text/plain": [
       "true"
      ]
     },
     "execution_count": 68,
     "metadata": {},
     "output_type": "execute_result"
    }
   ],
   "source": [
    "all(hs.H .== hapset.H)"
   ]
  },
  {
   "cell_type": "code",
   "execution_count": null,
   "metadata": {
    "collapsed": true
   },
   "outputs": [],
   "source": []
  }
 ],
 "metadata": {
  "@webio": {
   "lastCommId": null,
   "lastKernelId": null
  },
  "kernelspec": {
   "display_name": "Julia 1.3.0-rc4",
   "language": "julia",
   "name": "julia-1.3"
  },
  "language_info": {
   "file_extension": ".jl",
   "mimetype": "application/julia",
   "name": "julia",
   "version": "1.3.1"
  }
 },
 "nbformat": 4,
 "nbformat_minor": 2
}
