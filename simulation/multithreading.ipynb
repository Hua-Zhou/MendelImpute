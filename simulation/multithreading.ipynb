{
 "cells": [
  {
   "cell_type": "markdown",
   "metadata": {},
   "source": [
    "# Test Multithreading\n",
    "\n",
    "For the dynamic programming method, multithreading happens during \"Imputing samples...\". \n",
    "\n",
    "### Speed ups: \n",
    "+ 4 threads, ~3.3 times speed up\n",
    "+ 8 threads, ~5.9 times speed up\n",
    "+ 16 threads, ~5.9 times speed up (weird)"
   ]
  },
  {
   "cell_type": "code",
   "execution_count": 1,
   "metadata": {
    "collapsed": false
   },
   "outputs": [
    {
     "name": "stderr",
     "output_type": "stream",
     "text": [
      "┌ Warning: no Manifest.toml file found, static paths used\n",
      "└ @ Revise /Users/biona001/.julia/packages/Revise/439di/src/Revise.jl:1108\n"
     ]
    }
   ],
   "source": [
    "using Revise\n",
    "using VCFTools\n",
    "using MendelImpute\n",
    "using GeneticVariation\n",
    "using Random"
   ]
  },
  {
   "cell_type": "markdown",
   "metadata": {},
   "source": [
    "## Multithreading:"
   ]
  },
  {
   "cell_type": "code",
   "execution_count": 2,
   "metadata": {
    "collapsed": false
   },
   "outputs": [
    {
     "data": {
      "text/plain": [
       "8"
      ]
     },
     "execution_count": 2,
     "metadata": {},
     "output_type": "execute_result"
    }
   ],
   "source": [
    "Threads.nthreads()"
   ]
  },
  {
   "cell_type": "code",
   "execution_count": 4,
   "metadata": {
    "collapsed": false
   },
   "outputs": [
    {
     "name": "stderr",
     "output_type": "stream",
     "text": [
      "\u001b[32mImporting genotype and haplotype files...100%|██████████| Time: 0:00:13\u001b[39m\n",
      "\u001b[32mComputing optimal haplotype pairs...100%|███████████████| Time: 0:00:09\u001b[39m\n",
      "\u001b[32mImputing samples...100%|████████████████████████████████| Time: 0:00:11\u001b[39m\n",
      "\u001b[32mWriting to file...100%|█████████████████████████████████| Time: 0:00:18\u001b[39m\n"
     ]
    },
    {
     "name": "stdout",
     "output_type": "stream",
     "text": [
      " 55.340700 seconds (350.90 M allocations: 33.464 GiB, 6.54% gc time)\n"
     ]
    },
    {
     "data": {
      "text/plain": [
       "9.847619578237737e-5"
      ]
     },
     "execution_count": 4,
     "metadata": {},
     "output_type": "execute_result"
    }
   ],
   "source": [
    "# impute \n",
    "tgtfile = \"target_masked.vcf.gz\"\n",
    "reffile = \"haplo_ref.vcf.gz\"\n",
    "outfile = \"imputed_target.vcf.gz\"\n",
    "width   = 400\n",
    "\n",
    "@time hs, ph = phase(tgtfile, reffile, outfile = outfile, width = width);\n",
    "\n",
    "# import imputed result and compare with true\n",
    "X_complete = convert_gt(Float32, \"target.vcf.gz\")\n",
    "X_mendel = convert_gt(Float32, outfile);\n",
    "n, p = size(X_mendel)\n",
    "error_rate = sum(X_mendel .!= X_complete) / n / p"
   ]
  },
  {
   "cell_type": "markdown",
   "metadata": {
    "collapsed": true
   },
   "source": [
    "## Single thread:"
   ]
  },
  {
   "cell_type": "code",
   "execution_count": 2,
   "metadata": {
    "collapsed": false
   },
   "outputs": [
    {
     "data": {
      "text/plain": [
       "1"
      ]
     },
     "execution_count": 2,
     "metadata": {},
     "output_type": "execute_result"
    }
   ],
   "source": [
    "Threads.nthreads()"
   ]
  },
  {
   "cell_type": "code",
   "execution_count": 4,
   "metadata": {
    "collapsed": false
   },
   "outputs": [
    {
     "name": "stderr",
     "output_type": "stream",
     "text": [
      "\u001b[32mImporting genotype and haplotype files...100%|██████████| Time: 0:00:13\u001b[39m\n",
      "\u001b[32mComputing optimal haplotype pairs...100%|███████████████| Time: 0:00:10\u001b[39m\n",
      "\u001b[32mImputing samples...100%|████████████████████████████████| Time: 0:00:57\u001b[39m\n",
      "\u001b[32mWriting to file...100%|█████████████████████████████████| Time: 0:00:16\u001b[39m\n"
     ]
    },
    {
     "name": "stdout",
     "output_type": "stream",
     "text": [
      " 99.289021 seconds (346.91 M allocations: 33.165 GiB, 4.17% gc time)\n"
     ]
    },
    {
     "data": {
      "text/plain": [
       "9.847619578237737e-5"
      ]
     },
     "execution_count": 4,
     "metadata": {},
     "output_type": "execute_result"
    }
   ],
   "source": [
    "# impute \n",
    "tgtfile = \"target_masked.vcf.gz\"\n",
    "reffile = \"haplo_ref.vcf.gz\"\n",
    "outfile = \"imputed_target.vcf.gz\"\n",
    "width   = 400\n",
    "\n",
    "@time hs, ph = phase(tgtfile, reffile, outfile = outfile, width = width);\n",
    "\n",
    "# import imputed result and compare with true\n",
    "X_complete = convert_gt(Float32, \"target.vcf.gz\")\n",
    "X_mendel = convert_gt(Float32, outfile);\n",
    "n, p = size(X_mendel)\n",
    "error_rate = sum(X_mendel .!= X_complete) / n / p"
   ]
  },
  {
   "cell_type": "code",
   "execution_count": null,
   "metadata": {
    "collapsed": true
   },
   "outputs": [],
   "source": []
  }
 ],
 "metadata": {
  "kernelspec": {
   "display_name": "Julia 1.3.0-rc4",
   "language": "julia",
   "name": "julia-1.3"
  },
  "language_info": {
   "file_extension": ".jl",
   "mimetype": "application/julia",
   "name": "julia",
   "version": "1.3.1"
  }
 },
 "nbformat": 4,
 "nbformat_minor": 2
}
