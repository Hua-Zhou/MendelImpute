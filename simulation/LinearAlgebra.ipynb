{
 "cells": [
  {
   "cell_type": "code",
   "execution_count": 1,
   "metadata": {
    "collapsed": false
   },
   "outputs": [],
   "source": [
    "using LinearAlgebra\n",
    "using BenchmarkTools\n",
    "using Random\n",
    "\n",
    "BLAS.set_num_threads(8)"
   ]
  },
  {
   "cell_type": "markdown",
   "metadata": {},
   "source": [
    "# Views (on storage) is calling BLAS!!"
   ]
  },
  {
   "cell_type": "code",
   "execution_count": 2,
   "metadata": {
    "collapsed": true
   },
   "outputs": [],
   "source": [
    "Random.seed!(2020)\n",
    "A = rand(5000, 5000)\n",
    "B = rand(5000, 5000)\n",
    "C = zeros(5001, 5001)\n",
    "D = zeros(5000, 5000);"
   ]
  },
  {
   "cell_type": "code",
   "execution_count": 3,
   "metadata": {
    "collapsed": false
   },
   "outputs": [
    {
     "data": {
      "text/plain": [
       "true"
      ]
     },
     "execution_count": 3,
     "metadata": {},
     "output_type": "execute_result"
    }
   ],
   "source": [
    "# check correctness\n",
    "mul!(D, A, B)\n",
    "mul!(view(C, 1:5000, 1:5000), A, B)\n",
    "all(view(C, 1:5000, 1:5000) .== D)"
   ]
  },
  {
   "cell_type": "code",
   "execution_count": 4,
   "metadata": {
    "collapsed": false
   },
   "outputs": [
    {
     "name": "stdout",
     "output_type": "stream",
     "text": [
      "  856.525 ms (0 allocations: 0 bytes)\n"
     ]
    }
   ],
   "source": [
    "@btime mul!($D, $A, $B);"
   ]
  },
  {
   "cell_type": "code",
   "execution_count": 5,
   "metadata": {
    "collapsed": false
   },
   "outputs": [
    {
     "name": "stdout",
     "output_type": "stream",
     "text": [
      "  877.694 ms (0 allocations: 0 bytes)\n"
     ]
    }
   ],
   "source": [
    "@btime mul!(E, $A, $B) setup=(E = view(C, 1:5000, 1:5000));"
   ]
  },
  {
   "cell_type": "code",
   "execution_count": 6,
   "metadata": {
    "collapsed": false
   },
   "outputs": [
    {
     "name": "stdout",
     "output_type": "stream",
     "text": [
      "  869.369 ms (0 allocations: 0 bytes)\n"
     ]
    }
   ],
   "source": [
    "@btime BLAS.gemm!('N', 'N', 1.0, $A, $B, 0.0, $D);"
   ]
  },
  {
   "cell_type": "code",
   "execution_count": 7,
   "metadata": {
    "collapsed": false
   },
   "outputs": [
    {
     "name": "stdout",
     "output_type": "stream",
     "text": [
      "  926.243 ms (0 allocations: 0 bytes)\n"
     ]
    }
   ],
   "source": [
    "@btime BLAS.gemm!('N', 'N', 1.0, $A, $B, 0.0, E) setup=(E = view(C, 1:5000, 1:5000));"
   ]
  },
  {
   "cell_type": "markdown",
   "metadata": {},
   "source": [
    "# Viewing small chunk of big matrix also works"
   ]
  },
  {
   "cell_type": "code",
   "execution_count": 8,
   "metadata": {
    "collapsed": true
   },
   "outputs": [],
   "source": [
    "Random.seed!(2020)\n",
    "A = rand(1000, 1000)\n",
    "B = rand(1000, 1000)\n",
    "C = zeros(10000, 10000)\n",
    "D = zeros(1000, 1000);"
   ]
  },
  {
   "cell_type": "code",
   "execution_count": 9,
   "metadata": {
    "collapsed": false
   },
   "outputs": [
    {
     "data": {
      "text/plain": [
       "true"
      ]
     },
     "execution_count": 9,
     "metadata": {},
     "output_type": "execute_result"
    }
   ],
   "source": [
    "# check correctness\n",
    "mul!(D, A, B)\n",
    "mul!(view(C, 1:1000, 1:1000), A, B)\n",
    "all(view(C, 1:1000, 1:1000) .== D)"
   ]
  },
  {
   "cell_type": "code",
   "execution_count": 10,
   "metadata": {
    "collapsed": false
   },
   "outputs": [
    {
     "name": "stdout",
     "output_type": "stream",
     "text": [
      "  5.979 ms (0 allocations: 0 bytes)\n"
     ]
    }
   ],
   "source": [
    "@btime mul!($D, $A, $B);"
   ]
  },
  {
   "cell_type": "code",
   "execution_count": 11,
   "metadata": {
    "collapsed": false
   },
   "outputs": [
    {
     "name": "stdout",
     "output_type": "stream",
     "text": [
      "  6.782 ms (0 allocations: 0 bytes)\n"
     ]
    }
   ],
   "source": [
    "@btime mul!(E, $A, $B) setup=(E = view(C, 1:1000, 1:1000));"
   ]
  },
  {
   "cell_type": "markdown",
   "metadata": {
    "collapsed": true
   },
   "source": [
    "# Views on 2 or more matrices also work"
   ]
  },
  {
   "cell_type": "code",
   "execution_count": 2,
   "metadata": {
    "collapsed": true
   },
   "outputs": [],
   "source": [
    "Random.seed!(2020)\n",
    "A = rand(1000, 1000)\n",
    "B = rand(1000, 1000)\n",
    "C = zeros(1000, 1000)\n",
    "\n",
    "Av = rand(10000, 10000)\n",
    "Cv = rand(10000, 10000);"
   ]
  },
  {
   "cell_type": "code",
   "execution_count": 3,
   "metadata": {
    "collapsed": false
   },
   "outputs": [
    {
     "name": "stdout",
     "output_type": "stream",
     "text": [
      "  6.176 ms (0 allocations: 0 bytes)\n"
     ]
    }
   ],
   "source": [
    "@btime mul!($C, $A, $B);"
   ]
  },
  {
   "cell_type": "code",
   "execution_count": 5,
   "metadata": {
    "collapsed": false
   },
   "outputs": [
    {
     "name": "stdout",
     "output_type": "stream",
     "text": [
      "  6.247 ms (0 allocations: 0 bytes)\n"
     ]
    }
   ],
   "source": [
    "@btime mul!(E, F, $B) setup=(E=view(Cv, 1:1000, 1:1000);F=view(Av, 1:1000, 1:1000));"
   ]
  },
  {
   "cell_type": "markdown",
   "metadata": {},
   "source": [
    "# Nested views is fine too"
   ]
  },
  {
   "cell_type": "code",
   "execution_count": 3,
   "metadata": {
    "collapsed": true
   },
   "outputs": [],
   "source": [
    "Random.seed!(2020)\n",
    "A = rand(1000, 1000)\n",
    "B = rand(1000, 1000)\n",
    "C = zeros(1002, 1002)\n",
    "D = zeros(1000, 1000);"
   ]
  },
  {
   "cell_type": "code",
   "execution_count": 4,
   "metadata": {
    "collapsed": false
   },
   "outputs": [
    {
     "name": "stdout",
     "output_type": "stream",
     "text": [
      "  5.902 ms (0 allocations: 0 bytes)\n"
     ]
    }
   ],
   "source": [
    "@btime mul!($D, $A, $B);"
   ]
  },
  {
   "cell_type": "code",
   "execution_count": 5,
   "metadata": {
    "collapsed": false
   },
   "outputs": [
    {
     "name": "stdout",
     "output_type": "stream",
     "text": [
      "  6.395 ms (0 allocations: 0 bytes)\n"
     ]
    }
   ],
   "source": [
    "Cv = view(C, 1:1001, 1:1001)\n",
    "@btime mul!(E, $A, $B) setup=(E=view(Cv, 1:1000, 1:1000));"
   ]
  },
  {
   "cell_type": "code",
   "execution_count": null,
   "metadata": {
    "collapsed": true
   },
   "outputs": [],
   "source": []
  }
 ],
 "metadata": {
  "kernelspec": {
   "display_name": "Julia 1.3.1",
   "language": "julia",
   "name": "julia-1.3"
  },
  "language_info": {
   "file_extension": ".jl",
   "mimetype": "application/julia",
   "name": "julia",
   "version": "1.3.1"
  }
 },
 "nbformat": 4,
 "nbformat_minor": 2
}
