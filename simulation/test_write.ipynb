{
 "cells": [
  {
   "cell_type": "markdown",
   "metadata": {},
   "source": [
    "# Write VCF file\n",
    "\n",
    "Currently writing an imputed matrix to a `.vcf.gz` file is very slow compared to other parts of MendelImpute. This notebook contains simplified code that performs this routine. The write routine mimicks the [write_dlm](https://github.com/JuliaLang/julia/blob/3608c84e6093594fe86923339fc315231492484c/stdlib/DelimitedFiles/src/DelimitedFiles.jl#L736) function in Base. "
   ]
  },
  {
   "cell_type": "code",
   "execution_count": 1,
   "metadata": {
    "collapsed": true
   },
   "outputs": [],
   "source": [
    "using VCFTools\n",
    "using Random\n",
    "using ProgressMeter"
   ]
  },
  {
   "cell_type": "code",
   "execution_count": 2,
   "metadata": {
    "collapsed": false
   },
   "outputs": [
    {
     "data": {
      "text/plain": [
       "write_snp!"
      ]
     },
     "execution_count": 2,
     "metadata": {},
     "output_type": "execute_result"
    }
   ],
   "source": [
    "\"\"\"\n",
    "    write(outfile, X)\n",
    "\n",
    "Writes imputed `X` into `outfile`. All genotypes in `outfile` are non-missing and unphased. \n",
    "\n",
    "# Notes\n",
    "Here the writing routine is emulating `write_dlm` in Base at \n",
    "https://github.com/JuliaLang/julia/blob/3608c84e6093594fe86923339fc315231492484c/stdlib/DelimitedFiles/src/DelimitedFiles.jl#L736\n",
    "\"\"\"\n",
    "function Base.write(\n",
    "    outfile::AbstractString,\n",
    "    X::AbstractMatrix,\n",
    "    )\n",
    "    # write minimal meta information to outfile\n",
    "    io = openvcf(outfile, \"w\")\n",
    "    pb = PipeBuffer()\n",
    "    print(pb, \"##fileformat=VCFv4.2\\n\")\n",
    "    print(pb, \"##source=MendelImpute\\n\")\n",
    "    print(pb, \"##FORMAT=<ID=GT,Number=1,Type=String,Description=\\\"Genotype\\\">\\n\")\n",
    "\n",
    "    pmeter = Progress(size(X, 1), 5, \"Writing to file...\")\n",
    "    @inbounds for i in 1:size(X, 1)\n",
    "        # print ith record\n",
    "        write_snp!(pb, @view(X[i, :]))\n",
    "\n",
    "        (bytesavailable(pb) > (1024*1024)) && write(io, take!(pb)) # this is bottleneck\n",
    "        next!(pmeter)\n",
    "    end\n",
    "    write(io, take!(pb))\n",
    "\n",
    "    # close & return\n",
    "    close(io); close(pb)\n",
    "    return nothing\n",
    "end\n",
    "\n",
    "\"\"\"\n",
    "Helper function for saving a record (SNP), not tracking phase information.\n",
    "\"\"\"\n",
    "function write_snp!(pb::IOBuffer, X::AbstractVector)\n",
    "    n = length(X)\n",
    "    @inbounds for j in 1:n\n",
    "        if X[j] == 0\n",
    "            print(pb, \"\\t0/0\")\n",
    "        elseif X[j] == 1\n",
    "            print(pb, \"\\t1/0\")\n",
    "        elseif X[j] == 2\n",
    "            print(pb, \"\\t1/1\")\n",
    "        else\n",
    "            error(\"imputed genotypes can only be 0, 1, 2 but got $(X[j])\")\n",
    "        end\n",
    "    end\n",
    "    print(pb, \"\\n\")\n",
    "    nothing\n",
    "end"
   ]
  },
  {
   "cell_type": "code",
   "execution_count": 3,
   "metadata": {
    "collapsed": false
   },
   "outputs": [
    {
     "data": {
      "text/plain": [
       "write_threaded (generic function with 1 method)"
      ]
     },
     "execution_count": 3,
     "metadata": {},
     "output_type": "execute_result"
    }
   ],
   "source": [
    "function write_threaded(\n",
    "    outfile::AbstractString,\n",
    "    X::AbstractMatrix,\n",
    "    )\n",
    "    threads = Threads.nthreads()\n",
    "    snps = size(X, 1)\n",
    "    len = div(snps, threads)\n",
    "    files = [\"tmp$i.vcf.gz\" for i in 1:threads]\n",
    "\n",
    "    # write minimal meta information to outfile\n",
    "    io = [openvcf(files[i], \"w\") for i in 1:threads]\n",
    "    pb = [PipeBuffer() for _ in 1:threads]\n",
    "    print(pb[1], \"##fileformat=VCFv4.2\\n\")\n",
    "    print(pb[1], \"##source=MendelImpute\\n\")\n",
    "    print(pb[1], \"##FORMAT=<ID=GT,Number=1,Type=String,Description=\\\"Genotype\\\">\\n\")\n",
    "    pmeter = Progress(snps, 5, \"Writing to file...\")\n",
    "\n",
    "    # each thread writes `len` SNPs\n",
    "    Threads.@threads for t in 1:threads\n",
    "        id = Threads.threadid()\n",
    "        cur_ranges = (id == threads ? ((threads-1)*len+1:snps) : (1:len) .+ (t-1)*len)\n",
    "        @inbounds for i in cur_ranges\n",
    "            write_snp!(pb[id], @view(X[i, :]))\n",
    "            (bytesavailable(pb[id]) > (1024*1024)) && write(io[id], take!(pb[id])) \n",
    "            next!(pmeter)\n",
    "        end\n",
    "        write(io[id], take!(pb[id]))\n",
    "    end\n",
    "    close.(io); close.(pb) # close io and buffer\n",
    "\n",
    "    # concatenate all files into 1 VCF file\n",
    "    run(pipeline(`cat $files`, stdout=outfile))\n",
    "\n",
    "    # delete intermediate files\n",
    "    for i in 1:threads\n",
    "        rm(\"tmp$i.vcf.gz\", force=true)\n",
    "    end\n",
    "\n",
    "    return nothing\n",
    "end\n",
    "            "
   ]
  },
  {
   "cell_type": "code",
   "execution_count": 4,
   "metadata": {
    "collapsed": true
   },
   "outputs": [],
   "source": [
    "Random.seed!(2020)\n",
    "p = 100_000 # number of SNPs (in practice this can go up to 2 million)\n",
    "n = 1000    # number of samples\n",
    "X = convert(Matrix{UInt8}, rand(0:2, p, n)); # MendelImpute use UInt8 unless given dosage data"
   ]
  },
  {
   "cell_type": "code",
   "execution_count": 6,
   "metadata": {
    "collapsed": false,
    "scrolled": false
   },
   "outputs": [
    {
     "name": "stderr",
     "output_type": "stream",
     "text": [
      "\u001b[32mWriting to file...100%|█████████████████████████████████| Time: 0:00:23\u001b[39m\n"
     ]
    },
    {
     "name": "stdout",
     "output_type": "stream",
     "text": [
      " 24.400715 seconds (3.48 M allocations: 560.516 MiB, 0.32% gc time)\n"
     ]
    }
   ],
   "source": [
    "# single threaded write\n",
    "@time write(\"test.vcf.gz\", X)"
   ]
  },
  {
   "cell_type": "code",
   "execution_count": 8,
   "metadata": {
    "collapsed": false
   },
   "outputs": [
    {
     "name": "stdout",
     "output_type": "stream",
     "text": [
      "  3.959356 seconds (6.33 k allocations: 406.323 MiB, 5.77% gc time)\n"
     ]
    }
   ],
   "source": [
    "# 8 threaded write\n",
    "@time write_threaded(\"test.vcf.gz\", X)"
   ]
  },
  {
   "cell_type": "code",
   "execution_count": 6,
   "metadata": {
    "collapsed": false
   },
   "outputs": [
    {
     "name": "stdout",
     "output_type": "stream",
     "text": [
      "  2.508199 seconds (23.03 k allocations: 431.113 MiB)\n"
     ]
    }
   ],
   "source": [
    "# 16 threaded write\n",
    "@time write_threaded(\"test.vcf.gz\", X)"
   ]
  },
  {
   "cell_type": "markdown",
   "metadata": {},
   "source": [
    "## Profile code"
   ]
  },
  {
   "cell_type": "code",
   "execution_count": 4,
   "metadata": {
    "collapsed": false
   },
   "outputs": [
    {
     "name": "stderr",
     "output_type": "stream",
     "text": [
      "\u001b[32mWriting to file...100%|█████████████████████████████████| Time: 0:00:26\u001b[39m\n"
     ]
    },
    {
     "data": {
      "text/plain": [
       "Gtk.GtkWindowLeaf(name=\"\", parent, width-request=-1, height-request=-1, visible=TRUE, sensitive=TRUE, app-paintable=FALSE, can-focus=FALSE, has-focus=FALSE, is-focus=FALSE, focus-on-click=TRUE, can-default=FALSE, has-default=FALSE, receives-default=FALSE, composite-child=FALSE, style, events=0, no-show-all=FALSE, has-tooltip=FALSE, tooltip-markup=NULL, tooltip-text=NULL, window, opacity=1.000000, double-buffered, halign=GTK_ALIGN_FILL, valign=GTK_ALIGN_FILL, margin-left, margin-right, margin-start=0, margin-end=0, margin-top=0, margin-bottom=0, margin=0, hexpand=FALSE, vexpand=FALSE, hexpand-set=FALSE, vexpand-set=FALSE, expand=FALSE, scale-factor=2, border-width=0, resize-mode, child, type=GTK_WINDOW_TOPLEVEL, title=\"Profile\", role=NULL, resizable=TRUE, modal=FALSE, window-position=GTK_WIN_POS_NONE, default-width=800, default-height=600, destroy-with-parent=FALSE, hide-titlebar-when-maximized=FALSE, icon, icon-name=NULL, screen, type-hint=GDK_WINDOW_TYPE_HINT_NORMAL, skip-taskbar-hint=FALSE, skip-pager-hint=FALSE, urgency-hint=FALSE, accept-focus=TRUE, focus-on-map=TRUE, decorated=TRUE, deletable=TRUE, gravity=GDK_GRAVITY_NORTH_WEST, transient-for, attached-to, has-resize-grip, resize-grip-visible, application, is-active=FALSE, has-toplevel-focus=FALSE, startup-id, mnemonics-visible=FALSE, focus-visible=FALSE, is-maximized=FALSE)"
      ]
     },
     "execution_count": 4,
     "metadata": {},
     "output_type": "execute_result"
    }
   ],
   "source": [
    "using ProfileView\n",
    "Y = convert(Matrix{UInt8}, rand(0:2, 10, 10))\n",
    "@profview write(\"test.vcf.gz\", Y) \n",
    "@profview write(\"test.vcf.gz\", X) "
   ]
  }
 ],
 "metadata": {
  "@webio": {
   "lastCommId": null,
   "lastKernelId": null
  },
  "kernelspec": {
   "display_name": "Julia 1.5.0",
   "language": "julia",
   "name": "julia-1.5"
  },
  "language_info": {
   "file_extension": ".jl",
   "mimetype": "application/julia",
   "name": "julia",
   "version": "1.5.0"
  }
 },
 "nbformat": 4,
 "nbformat_minor": 2
}
