{
 "cells": [
  {
   "cell_type": "markdown",
   "metadata": {},
   "source": [
    "# Generating simulated haplotype files\n",
    "\n",
    "#### 1. Activate conda environment via `conda config --set auto_activate_base True`\n",
    "#### 2. Simulate data and save file in `result.vcf` \n",
    "Arguments: sample size, effective pop size, sequence length, seed\n"
   ]
  },
  {
   "cell_type": "code",
   "execution_count": 8,
   "metadata": {
    "collapsed": false
   },
   "outputs": [
    {
     "name": "stdout",
     "output_type": "stream",
     "text": [
      "##fileformat=VCFv4.2\n",
      "##source=tskit 0.2.2\n",
      "##FILTER=<ID=PASS,Description=\"All filters passed\">\n",
      "##contig=<ID=1,length=5000>\n",
      "##FORMAT=<ID=GT,Number=1,Type=String,Description=\"Genotype\">\n",
      "#CHROM\tPOS\tID\tREF\tALT\tQUAL\tFILTER\tINFO\tFORMAT\ttsk_0\ttsk_1\ttsk_2\ttsk_3\ttsk_4\ttsk_5\ttsk_6\ttsk_7\ttsk_8\ttsk_9\n",
      "1\t2433\t.\t0\t1\t.\tPASS\t.\tGT\t0|0\t0|0\t0|0\t0|0\t1|0\t0|0\t0|0\t0|0\t0|0\t0|0\n",
      "1\t2578\t.\t0\t1\t.\tPASS\t.\tGT\t1|0\t1|1\t1|1\t0|1\t1|1\t1|1\t1|1\t1|1\t1|1\t1|1\n",
      "1\t2845\t.\t0\t1\t.\tPASS\t.\tGT\t0|0\t0|1\t1|0\t0|0\t0|0\t0|0\t0|0\t0|0\t0|1\t0|0\n",
      "1\t4784\t.\t0\t1\t.\tPASS\t.\tGT\t0|0\t0|0\t0|0\t0|0\t1|0\t0|0\t0|0\t0|0\t0|0\t0|0\n"
     ]
    }
   ],
   "source": [
    ";python3 msprime_script.py 20 10000 5000 10 > result.vcf"
   ]
  },
  {
   "cell_type": "code",
   "execution_count": null,
   "metadata": {
    "collapsed": true
   },
   "outputs": [],
   "source": []
  }
 ],
 "metadata": {
  "kernelspec": {
   "display_name": "Julia 1.2.0",
   "language": "julia",
   "name": "julia-1.2"
  },
  "language_info": {
   "file_extension": ".jl",
   "mimetype": "application/julia",
   "name": "julia",
   "version": "1.2.0"
  }
 },
 "nbformat": 4,
 "nbformat_minor": 2
}
