{
 "cells": [
  {
   "cell_type": "markdown",
   "metadata": {},
   "source": [
    "# Generating simulated haplotype files\n",
    "\n",
    "This notebook describes how the genotype and haplotype reference files are generated."
   ]
  },
  {
   "cell_type": "code",
   "execution_count": 50,
   "metadata": {
    "collapsed": false
   },
   "outputs": [],
   "source": [
    "using CSV\n",
    "using VCFTools\n",
    "using Random\n",
    "using DelimitedFiles\n",
    "using MendelImpute\n",
    "using Plots\n",
    "using SparseArrays"
   ]
  },
  {
   "cell_type": "markdown",
   "metadata": {},
   "source": [
    "### Step 0. Install `msprime`\n",
    "\n",
    "[msprime download Link](https://msprime.readthedocs.io/en/stable/installation.html).\n",
    "\n",
    "Some people might need to activate conda environment via `conda config --set auto_activate_base True`. You can turn it off once simulation is done by executing `conda config --set auto_activate_base False`.\n",
    "\n",
    "\n",
    "### Step 1. Simulate data in terminal\n",
    "\n",
    "```\n",
    "python3 msprime_script.py 20000 10000 10000000 2e-8 2e-8 2019 > simulation.vcf\n",
    "```\n",
    "\n",
    "Arguments: \n",
    "+ Number of haplotypes = 20000\n",
    "+ Effective population size = 10000 ([source](https://www.the-scientist.com/the-nutshell/ancient-humans-more-diverse-43556))\n",
    "+ Sequence length = 10 million (same as Beagle 5's choice)\n",
    "+ Rrecombination rate = 2e-8 (default)\n",
    "+ mutation rate = 2e-8 (default)\n",
    "+ seed = 2019"
   ]
  },
  {
   "cell_type": "markdown",
   "metadata": {},
   "source": [
    "### Step 2: Convert simulated haplotypes to reference haplotypes and target genotype files (in .vcf format)\n",
    "\n",
    "In the future, this should be done by `VCFTools.jl`. Currently we are brute forcing our way through.\n",
    "\n",
    "The last 200 people (400 haplotypes) are treated as imputation targets, where 10% of entries are masked randomly. The remaining haplotypes become reference panels. The number of markers fluctuates between 40,000 and 100,000, and we truncate at the 10-thousand range (e.g. if we have 62,345 snps, we only keep first 60,000). "
   ]
  },
  {
   "cell_type": "code",
   "execution_count": 2,
   "metadata": {
    "collapsed": false,
    "scrolled": true
   },
   "outputs": [
    {
     "name": "stdout",
     "output_type": "stream",
     "text": [
      "171.382279 seconds (18.32 M allocations: 899.590 MiB, 0.26% gc time)\n"
     ]
    }
   ],
   "source": [
    "@time x = CSV.read(\"simulation.vcf\", header=6)\n",
    "x[!, :ID] .= '.'  # these columns have missing data, which should be represented as . not 0.0\n",
    "x[!, :QUAL] .= '.'\n",
    "x[!, :INFO] .= '.'\n",
    "x[!, :REF] .= 'A' #set all reference allele to A instead of 0\n",
    "x[!, :ALT] .= 'T'; #set all alternate allele to T instead of 1"
   ]
  },
  {
   "cell_type": "markdown",
   "metadata": {},
   "source": [
    "#### Filter out SNPs with same POS, which shouldn't exist"
   ]
  },
  {
   "cell_type": "code",
   "execution_count": 3,
   "metadata": {
    "collapsed": false
   },
   "outputs": [
    {
     "data": {
      "text/html": [
       "<table class=\"data-frame\"><thead><tr><th></th><th>#CHROM</th><th>POS</th><th>ID</th><th>REF</th><th>ALT</th><th>QUAL</th><th>FILTER</th><th>INFO</th><th>FORMAT</th><th>tsk_0</th><th>tsk_1</th><th>tsk_2</th></tr><tr><th></th><th>Int64</th><th>Int64</th><th>Char</th><th>Char</th><th>Char</th><th>Char</th><th>String</th><th>Char</th><th>String</th><th>String</th><th>String</th><th>String</th></tr></thead><tbody><p>82,855 rows × 10,009 columns (omitted printing of 9997 columns)</p><tr><th>1</th><td>1</td><td>41</td><td>'.'</td><td>'A'</td><td>'T'</td><td>'.'</td><td>PASS</td><td>'.'</td><td>GT</td><td>0|0</td><td>0|0</td><td>0|0</td></tr><tr><th>2</th><td>1</td><td>153</td><td>'.'</td><td>'A'</td><td>'T'</td><td>'.'</td><td>PASS</td><td>'.'</td><td>GT</td><td>1|1</td><td>1|1</td><td>1|1</td></tr><tr><th>3</th><td>1</td><td>203</td><td>'.'</td><td>'A'</td><td>'T'</td><td>'.'</td><td>PASS</td><td>'.'</td><td>GT</td><td>0|0</td><td>0|0</td><td>0|0</td></tr><tr><th>4</th><td>1</td><td>244</td><td>'.'</td><td>'A'</td><td>'T'</td><td>'.'</td><td>PASS</td><td>'.'</td><td>GT</td><td>0|0</td><td>0|0</td><td>0|0</td></tr><tr><th>5</th><td>1</td><td>475</td><td>'.'</td><td>'A'</td><td>'T'</td><td>'.'</td><td>PASS</td><td>'.'</td><td>GT</td><td>1|1</td><td>0|1</td><td>1|1</td></tr><tr><th>6</th><td>1</td><td>500</td><td>'.'</td><td>'A'</td><td>'T'</td><td>'.'</td><td>PASS</td><td>'.'</td><td>GT</td><td>0|0</td><td>0|0</td><td>0|0</td></tr><tr><th>7</th><td>1</td><td>570</td><td>'.'</td><td>'A'</td><td>'T'</td><td>'.'</td><td>PASS</td><td>'.'</td><td>GT</td><td>0|0</td><td>0|0</td><td>0|0</td></tr><tr><th>8</th><td>1</td><td>593</td><td>'.'</td><td>'A'</td><td>'T'</td><td>'.'</td><td>PASS</td><td>'.'</td><td>GT</td><td>0|0</td><td>0|0</td><td>0|0</td></tr><tr><th>9</th><td>1</td><td>633</td><td>'.'</td><td>'A'</td><td>'T'</td><td>'.'</td><td>PASS</td><td>'.'</td><td>GT</td><td>0|0</td><td>0|0</td><td>0|0</td></tr><tr><th>10</th><td>1</td><td>833</td><td>'.'</td><td>'A'</td><td>'T'</td><td>'.'</td><td>PASS</td><td>'.'</td><td>GT</td><td>0|0</td><td>0|0</td><td>0|0</td></tr><tr><th>11</th><td>1</td><td>912</td><td>'.'</td><td>'A'</td><td>'T'</td><td>'.'</td><td>PASS</td><td>'.'</td><td>GT</td><td>0|0</td><td>0|0</td><td>0|0</td></tr><tr><th>12</th><td>1</td><td>926</td><td>'.'</td><td>'A'</td><td>'T'</td><td>'.'</td><td>PASS</td><td>'.'</td><td>GT</td><td>0|0</td><td>0|0</td><td>0|0</td></tr><tr><th>13</th><td>1</td><td>1013</td><td>'.'</td><td>'A'</td><td>'T'</td><td>'.'</td><td>PASS</td><td>'.'</td><td>GT</td><td>0|0</td><td>0|0</td><td>0|0</td></tr><tr><th>14</th><td>1</td><td>1045</td><td>'.'</td><td>'A'</td><td>'T'</td><td>'.'</td><td>PASS</td><td>'.'</td><td>GT</td><td>1|1</td><td>0|1</td><td>1|1</td></tr><tr><th>15</th><td>1</td><td>1256</td><td>'.'</td><td>'A'</td><td>'T'</td><td>'.'</td><td>PASS</td><td>'.'</td><td>GT</td><td>0|0</td><td>0|0</td><td>0|0</td></tr><tr><th>16</th><td>1</td><td>1296</td><td>'.'</td><td>'A'</td><td>'T'</td><td>'.'</td><td>PASS</td><td>'.'</td><td>GT</td><td>0|0</td><td>0|0</td><td>0|0</td></tr><tr><th>17</th><td>1</td><td>1537</td><td>'.'</td><td>'A'</td><td>'T'</td><td>'.'</td><td>PASS</td><td>'.'</td><td>GT</td><td>0|0</td><td>1|0</td><td>0|0</td></tr><tr><th>18</th><td>1</td><td>1643</td><td>'.'</td><td>'A'</td><td>'T'</td><td>'.'</td><td>PASS</td><td>'.'</td><td>GT</td><td>0|0</td><td>0|0</td><td>0|0</td></tr><tr><th>19</th><td>1</td><td>1677</td><td>'.'</td><td>'A'</td><td>'T'</td><td>'.'</td><td>PASS</td><td>'.'</td><td>GT</td><td>1|1</td><td>0|1</td><td>1|1</td></tr><tr><th>20</th><td>1</td><td>1778</td><td>'.'</td><td>'A'</td><td>'T'</td><td>'.'</td><td>PASS</td><td>'.'</td><td>GT</td><td>0|0</td><td>0|0</td><td>0|0</td></tr><tr><th>21</th><td>1</td><td>1822</td><td>'.'</td><td>'A'</td><td>'T'</td><td>'.'</td><td>PASS</td><td>'.'</td><td>GT</td><td>0|0</td><td>0|0</td><td>0|0</td></tr><tr><th>22</th><td>1</td><td>1923</td><td>'.'</td><td>'A'</td><td>'T'</td><td>'.'</td><td>PASS</td><td>'.'</td><td>GT</td><td>0|0</td><td>0|0</td><td>0|0</td></tr><tr><th>23</th><td>1</td><td>1937</td><td>'.'</td><td>'A'</td><td>'T'</td><td>'.'</td><td>PASS</td><td>'.'</td><td>GT</td><td>0|0</td><td>0|0</td><td>0|0</td></tr><tr><th>24</th><td>1</td><td>1961</td><td>'.'</td><td>'A'</td><td>'T'</td><td>'.'</td><td>PASS</td><td>'.'</td><td>GT</td><td>0|0</td><td>0|0</td><td>0|0</td></tr><tr><th>25</th><td>1</td><td>2011</td><td>'.'</td><td>'A'</td><td>'T'</td><td>'.'</td><td>PASS</td><td>'.'</td><td>GT</td><td>0|0</td><td>0|0</td><td>0|0</td></tr><tr><th>26</th><td>1</td><td>2290</td><td>'.'</td><td>'A'</td><td>'T'</td><td>'.'</td><td>PASS</td><td>'.'</td><td>GT</td><td>1|1</td><td>0|1</td><td>1|1</td></tr><tr><th>27</th><td>1</td><td>2411</td><td>'.'</td><td>'A'</td><td>'T'</td><td>'.'</td><td>PASS</td><td>'.'</td><td>GT</td><td>0|0</td><td>1|0</td><td>0|0</td></tr><tr><th>28</th><td>1</td><td>2622</td><td>'.'</td><td>'A'</td><td>'T'</td><td>'.'</td><td>PASS</td><td>'.'</td><td>GT</td><td>0|0</td><td>0|0</td><td>1|0</td></tr><tr><th>29</th><td>1</td><td>2858</td><td>'.'</td><td>'A'</td><td>'T'</td><td>'.'</td><td>PASS</td><td>'.'</td><td>GT</td><td>0|0</td><td>1|0</td><td>0|0</td></tr><tr><th>30</th><td>1</td><td>2963</td><td>'.'</td><td>'A'</td><td>'T'</td><td>'.'</td><td>PASS</td><td>'.'</td><td>GT</td><td>0|0</td><td>0|0</td><td>0|0</td></tr><tr><th>&vellip;</th><td>&vellip;</td><td>&vellip;</td><td>&vellip;</td><td>&vellip;</td><td>&vellip;</td><td>&vellip;</td><td>&vellip;</td><td>&vellip;</td><td>&vellip;</td><td>&vellip;</td><td>&vellip;</td><td>&vellip;</td></tr></tbody></table>"
      ],
      "text/latex": [
       "\\begin{tabular}{r|ccccccccccccc}\n",
       "\t& \\#CHROM & POS & ID & REF & ALT & QUAL & FILTER & INFO & FORMAT & tsk\\_0 & tsk\\_1 & tsk\\_2 & \\\\\n",
       "\t\\hline\n",
       "\t& Int64 & Int64 & Char & Char & Char & Char & String & Char & String & String & String & String & \\\\\n",
       "\t\\hline\n",
       "\t1 & 1 & 41 & '.' & 'A' & 'T' & '.' & PASS & '.' & GT & 0|0 & 0|0 & 0|0 & $\\dots$ \\\\\n",
       "\t2 & 1 & 153 & '.' & 'A' & 'T' & '.' & PASS & '.' & GT & 1|1 & 1|1 & 1|1 & $\\dots$ \\\\\n",
       "\t3 & 1 & 203 & '.' & 'A' & 'T' & '.' & PASS & '.' & GT & 0|0 & 0|0 & 0|0 & $\\dots$ \\\\\n",
       "\t4 & 1 & 244 & '.' & 'A' & 'T' & '.' & PASS & '.' & GT & 0|0 & 0|0 & 0|0 & $\\dots$ \\\\\n",
       "\t5 & 1 & 475 & '.' & 'A' & 'T' & '.' & PASS & '.' & GT & 1|1 & 0|1 & 1|1 & $\\dots$ \\\\\n",
       "\t6 & 1 & 500 & '.' & 'A' & 'T' & '.' & PASS & '.' & GT & 0|0 & 0|0 & 0|0 & $\\dots$ \\\\\n",
       "\t7 & 1 & 570 & '.' & 'A' & 'T' & '.' & PASS & '.' & GT & 0|0 & 0|0 & 0|0 & $\\dots$ \\\\\n",
       "\t8 & 1 & 593 & '.' & 'A' & 'T' & '.' & PASS & '.' & GT & 0|0 & 0|0 & 0|0 & $\\dots$ \\\\\n",
       "\t9 & 1 & 633 & '.' & 'A' & 'T' & '.' & PASS & '.' & GT & 0|0 & 0|0 & 0|0 & $\\dots$ \\\\\n",
       "\t10 & 1 & 833 & '.' & 'A' & 'T' & '.' & PASS & '.' & GT & 0|0 & 0|0 & 0|0 & $\\dots$ \\\\\n",
       "\t11 & 1 & 912 & '.' & 'A' & 'T' & '.' & PASS & '.' & GT & 0|0 & 0|0 & 0|0 & $\\dots$ \\\\\n",
       "\t12 & 1 & 926 & '.' & 'A' & 'T' & '.' & PASS & '.' & GT & 0|0 & 0|0 & 0|0 & $\\dots$ \\\\\n",
       "\t13 & 1 & 1013 & '.' & 'A' & 'T' & '.' & PASS & '.' & GT & 0|0 & 0|0 & 0|0 & $\\dots$ \\\\\n",
       "\t14 & 1 & 1045 & '.' & 'A' & 'T' & '.' & PASS & '.' & GT & 1|1 & 0|1 & 1|1 & $\\dots$ \\\\\n",
       "\t15 & 1 & 1256 & '.' & 'A' & 'T' & '.' & PASS & '.' & GT & 0|0 & 0|0 & 0|0 & $\\dots$ \\\\\n",
       "\t16 & 1 & 1296 & '.' & 'A' & 'T' & '.' & PASS & '.' & GT & 0|0 & 0|0 & 0|0 & $\\dots$ \\\\\n",
       "\t17 & 1 & 1537 & '.' & 'A' & 'T' & '.' & PASS & '.' & GT & 0|0 & 1|0 & 0|0 & $\\dots$ \\\\\n",
       "\t18 & 1 & 1643 & '.' & 'A' & 'T' & '.' & PASS & '.' & GT & 0|0 & 0|0 & 0|0 & $\\dots$ \\\\\n",
       "\t19 & 1 & 1677 & '.' & 'A' & 'T' & '.' & PASS & '.' & GT & 1|1 & 0|1 & 1|1 & $\\dots$ \\\\\n",
       "\t20 & 1 & 1778 & '.' & 'A' & 'T' & '.' & PASS & '.' & GT & 0|0 & 0|0 & 0|0 & $\\dots$ \\\\\n",
       "\t21 & 1 & 1822 & '.' & 'A' & 'T' & '.' & PASS & '.' & GT & 0|0 & 0|0 & 0|0 & $\\dots$ \\\\\n",
       "\t22 & 1 & 1923 & '.' & 'A' & 'T' & '.' & PASS & '.' & GT & 0|0 & 0|0 & 0|0 & $\\dots$ \\\\\n",
       "\t23 & 1 & 1937 & '.' & 'A' & 'T' & '.' & PASS & '.' & GT & 0|0 & 0|0 & 0|0 & $\\dots$ \\\\\n",
       "\t24 & 1 & 1961 & '.' & 'A' & 'T' & '.' & PASS & '.' & GT & 0|0 & 0|0 & 0|0 & $\\dots$ \\\\\n",
       "\t25 & 1 & 2011 & '.' & 'A' & 'T' & '.' & PASS & '.' & GT & 0|0 & 0|0 & 0|0 & $\\dots$ \\\\\n",
       "\t26 & 1 & 2290 & '.' & 'A' & 'T' & '.' & PASS & '.' & GT & 1|1 & 0|1 & 1|1 & $\\dots$ \\\\\n",
       "\t27 & 1 & 2411 & '.' & 'A' & 'T' & '.' & PASS & '.' & GT & 0|0 & 1|0 & 0|0 & $\\dots$ \\\\\n",
       "\t28 & 1 & 2622 & '.' & 'A' & 'T' & '.' & PASS & '.' & GT & 0|0 & 0|0 & 1|0 & $\\dots$ \\\\\n",
       "\t29 & 1 & 2858 & '.' & 'A' & 'T' & '.' & PASS & '.' & GT & 0|0 & 1|0 & 0|0 & $\\dots$ \\\\\n",
       "\t30 & 1 & 2963 & '.' & 'A' & 'T' & '.' & PASS & '.' & GT & 0|0 & 0|0 & 0|0 & $\\dots$ \\\\\n",
       "\t$\\dots$ & $\\dots$ & $\\dots$ & $\\dots$ & $\\dots$ & $\\dots$ & $\\dots$ & $\\dots$ & $\\dots$ & $\\dots$ & $\\dots$ & $\\dots$ & $\\dots$ &  \\\\\n",
       "\\end{tabular}\n"
      ],
      "text/plain": [
       "82855×10009 DataFrames.DataFrame. Omitted printing of 10001 columns\n",
       "│ Row   │ #CHROM │ POS     │ ID   │ REF  │ ALT  │ QUAL │ FILTER │ INFO │\n",
       "│       │ \u001b[90mInt64\u001b[39m  │ \u001b[90mInt64\u001b[39m   │ \u001b[90mChar\u001b[39m │ \u001b[90mChar\u001b[39m │ \u001b[90mChar\u001b[39m │ \u001b[90mChar\u001b[39m │ \u001b[90mString\u001b[39m │ \u001b[90mChar\u001b[39m │\n",
       "├───────┼────────┼─────────┼──────┼──────┼──────┼──────┼────────┼──────┤\n",
       "│ 1     │ 1      │ 41      │ '.'  │ 'A'  │ 'T'  │ '.'  │ PASS   │ '.'  │\n",
       "│ 2     │ 1      │ 153     │ '.'  │ 'A'  │ 'T'  │ '.'  │ PASS   │ '.'  │\n",
       "│ 3     │ 1      │ 203     │ '.'  │ 'A'  │ 'T'  │ '.'  │ PASS   │ '.'  │\n",
       "│ 4     │ 1      │ 244     │ '.'  │ 'A'  │ 'T'  │ '.'  │ PASS   │ '.'  │\n",
       "│ 5     │ 1      │ 475     │ '.'  │ 'A'  │ 'T'  │ '.'  │ PASS   │ '.'  │\n",
       "│ 6     │ 1      │ 500     │ '.'  │ 'A'  │ 'T'  │ '.'  │ PASS   │ '.'  │\n",
       "│ 7     │ 1      │ 570     │ '.'  │ 'A'  │ 'T'  │ '.'  │ PASS   │ '.'  │\n",
       "│ 8     │ 1      │ 593     │ '.'  │ 'A'  │ 'T'  │ '.'  │ PASS   │ '.'  │\n",
       "│ 9     │ 1      │ 633     │ '.'  │ 'A'  │ 'T'  │ '.'  │ PASS   │ '.'  │\n",
       "│ 10    │ 1      │ 833     │ '.'  │ 'A'  │ 'T'  │ '.'  │ PASS   │ '.'  │\n",
       "⋮\n",
       "│ 82845 │ 1      │ 9998897 │ '.'  │ 'A'  │ 'T'  │ '.'  │ PASS   │ '.'  │\n",
       "│ 82846 │ 1      │ 9999042 │ '.'  │ 'A'  │ 'T'  │ '.'  │ PASS   │ '.'  │\n",
       "│ 82847 │ 1      │ 9999099 │ '.'  │ 'A'  │ 'T'  │ '.'  │ PASS   │ '.'  │\n",
       "│ 82848 │ 1      │ 9999265 │ '.'  │ 'A'  │ 'T'  │ '.'  │ PASS   │ '.'  │\n",
       "│ 82849 │ 1      │ 9999423 │ '.'  │ 'A'  │ 'T'  │ '.'  │ PASS   │ '.'  │\n",
       "│ 82850 │ 1      │ 9999587 │ '.'  │ 'A'  │ 'T'  │ '.'  │ PASS   │ '.'  │\n",
       "│ 82851 │ 1      │ 9999653 │ '.'  │ 'A'  │ 'T'  │ '.'  │ PASS   │ '.'  │\n",
       "│ 82852 │ 1      │ 9999712 │ '.'  │ 'A'  │ 'T'  │ '.'  │ PASS   │ '.'  │\n",
       "│ 82853 │ 1      │ 9999772 │ '.'  │ 'A'  │ 'T'  │ '.'  │ PASS   │ '.'  │\n",
       "│ 82854 │ 1      │ 9999785 │ '.'  │ 'A'  │ 'T'  │ '.'  │ PASS   │ '.'  │\n",
       "│ 82855 │ 1      │ 9999977 │ '.'  │ 'A'  │ 'T'  │ '.'  │ PASS   │ '.'  │"
      ]
     },
     "execution_count": 3,
     "metadata": {},
     "output_type": "execute_result"
    }
   ],
   "source": [
    "unique_rows = indexin(unique(x[!, :POS]), x[!, :POS])\n",
    "x_unique = x[unique_rows, :]\n",
    "@assert length(unique(x_unique[!, :POS])) == size(x_unique, 1)\n",
    "x_unique"
   ]
  },
  {
   "cell_type": "code",
   "execution_count": 4,
   "metadata": {
    "collapsed": false,
    "scrolled": true
   },
   "outputs": [
    {
     "data": {
      "text/plain": [
       "\"haplo_ref.vcf\""
      ]
     },
     "execution_count": 4,
     "metadata": {},
     "output_type": "execute_result"
    }
   ],
   "source": [
    "ref_end = size(x_unique, 2) - 400\n",
    "num_snp = Int(round(size(x_unique, 1), sigdigits = 1))\n",
    "\n",
    "first_9_cols = x_unique[1:num_snp, 1:9]\n",
    "refhap = [first_9_cols x_unique[1:num_snp, 10:ref_end]]\n",
    "target = [first_9_cols x_unique[1:num_snp, (ref_end+1):end]]\n",
    "\n",
    "CSV.write(\"target.vcf\", target, delim='\\t')\n",
    "CSV.write(\"haplo_ref.vcf\", refhap, delim='\\t')"
   ]
  },
  {
   "cell_type": "markdown",
   "metadata": {},
   "source": [
    "#### Add the following to the header of `target.vcf` and `haplo_ref.vcf`\n",
    "```\n",
    "##fileformat=VCFv4.2\n",
    "##source=vcftools\n",
    "##FILTER=<ID=PASS,Description=\"All filters passed\">\n",
    "##contig=<ID=1,length=10000000>\n",
    "##FORMAT=<ID=GT,Number=1,Type=String,Description=\"Genotype\">\n",
    "```"
   ]
  },
  {
   "cell_type": "markdown",
   "metadata": {},
   "source": [
    "### Step 3: Import target genotype file and randomly mask entries\n",
    "\n",
    "+ `X` is the genotype matrix (without missing entries)\n",
    "+ `Xm` is the masked genotype matrix (imputation target)"
   ]
  },
  {
   "cell_type": "code",
   "execution_count": 5,
   "metadata": {
    "collapsed": false
   },
   "outputs": [
    {
     "name": "stdout",
     "output_type": "stream",
     "text": [
      " 27.660199 seconds (199.83 M allocations: 17.505 GiB, 65.88% gc time)\n"
     ]
    },
    {
     "data": {
      "text/plain": [
       "400×80000 Array{Union{Missing, Float32},2}:\n",
       " 0.0  0.0  1.0  0.0  2.0  0.0  0.0  0.0  …  0.0  0.0  0.0  0.0  0.0  0.0  1.0\n",
       " 0.0  1.0  0.0  0.0  0.0  0.0  0.0  0.0     0.0  0.0  0.0  0.0  0.0  0.0  1.0\n",
       " 0.0  0.0  0.0  0.0  2.0  0.0  0.0  0.0     1.0  0.0  0.0  0.0  0.0  0.0  2.0\n",
       " 0.0  0.0  0.0  0.0  0.0  0.0  0.0  0.0     0.0  0.0  0.0  0.0  0.0  0.0  1.0\n",
       " 0.0  0.0  0.0  0.0  2.0  0.0  0.0  0.0     0.0  0.0  0.0  0.0  0.0  0.0  2.0\n",
       " 0.0  0.0  0.0  0.0  1.0  0.0  0.0  0.0  …  1.0  0.0  0.0  0.0  0.0  0.0  2.0\n",
       " 0.0  0.0  0.0  0.0  0.0  0.0  0.0  0.0     0.0  0.0  0.0  0.0  0.0  0.0  0.0\n",
       " 0.0  0.0  0.0  0.0  2.0  0.0  0.0  1.0     0.0  0.0  0.0  0.0  0.0  0.0  0.0\n",
       " 0.0  0.0  0.0  0.0  1.0  0.0  0.0  0.0     0.0  0.0  0.0  0.0  0.0  0.0  1.0\n",
       " 0.0  1.0  0.0  0.0  1.0  0.0  0.0  0.0     0.0  0.0  0.0  0.0  0.0  0.0  1.0\n",
       " 0.0  0.0  0.0  0.0  1.0  0.0  0.0  0.0  …  1.0  0.0  0.0  0.0  0.0  0.0  1.0\n",
       " 0.0  0.0  0.0  0.0  1.0  0.0  0.0  0.0     0.0  0.0  0.0  0.0  0.0  0.0  0.0\n",
       " 0.0  0.0  0.0  0.0  2.0  0.0  0.0  1.0     0.0  0.0  0.0  0.0  0.0  0.0  1.0\n",
       " ⋮                        ⋮              ⋱            ⋮                      \n",
       " 0.0  0.0  0.0  0.0  1.0  0.0  0.0  0.0     0.0  0.0  0.0  0.0  0.0  0.0  1.0\n",
       " 0.0  0.0  0.0  0.0  1.0  0.0  1.0  0.0     0.0  0.0  0.0  0.0  0.0  0.0  0.0\n",
       " 0.0  0.0  0.0  0.0  1.0  0.0  0.0  0.0  …  0.0  0.0  0.0  0.0  0.0  0.0  1.0\n",
       " 0.0  0.0  0.0  0.0  2.0  0.0  0.0  0.0     0.0  0.0  0.0  0.0  0.0  0.0  1.0\n",
       " 0.0  0.0  0.0  0.0  1.0  0.0  0.0  1.0     0.0  0.0  0.0  0.0  0.0  0.0  1.0\n",
       " 0.0  0.0  0.0  0.0  1.0  0.0  0.0  0.0     1.0  0.0  0.0  0.0  0.0  0.0  2.0\n",
       " 0.0  1.0  0.0  0.0  0.0  0.0  0.0  0.0     0.0  0.0  0.0  0.0  0.0  0.0  1.0\n",
       " 0.0  0.0  0.0  0.0  1.0  0.0  0.0  0.0  …  0.0  0.0  0.0  0.0  0.0  0.0  1.0\n",
       " 0.0  0.0  0.0  0.0  1.0  0.0  0.0  0.0     0.0  0.0  0.0  0.0  0.0  0.0  1.0\n",
       " 0.0  0.0  0.0  0.0  2.0  0.0  0.0  0.0     0.0  0.0  0.0  0.0  0.0  0.0  1.0\n",
       " 0.0  1.0  0.0  0.0  1.0  0.0  0.0  0.0     0.0  0.0  0.0  0.0  0.0  0.0  2.0\n",
       " 0.0  1.0  0.0  0.0  1.0  0.0  0.0  0.0     0.0  0.0  0.0  0.0  0.0  0.0  0.0"
      ]
     },
     "execution_count": 5,
     "metadata": {},
     "output_type": "execute_result"
    }
   ],
   "source": [
    "@time X = convert_gt(Float32, \"target.vcf\"; model = :additive)"
   ]
  },
  {
   "cell_type": "code",
   "execution_count": 6,
   "metadata": {
    "collapsed": false
   },
   "outputs": [
    {
     "data": {
      "text/plain": [
       "400×80000 Array{Union{Missing, Float32},2}:\n",
       " 0.0       0.0       1.0       0.0       …  0.0       0.0       1.0     \n",
       " 0.0       1.0       0.0       0.0          0.0       0.0       1.0     \n",
       " 0.0       0.0       0.0       0.0          0.0       0.0       2.0     \n",
       " 0.0       0.0       0.0       0.0          0.0       0.0       1.0     \n",
       "  missing   missing   missing  0.0          0.0       0.0       2.0     \n",
       " 0.0       0.0       0.0        missing  …  0.0       0.0        missing\n",
       " 0.0       0.0       0.0       0.0          0.0       0.0       0.0     \n",
       " 0.0       0.0       0.0       0.0           missing  0.0        missing\n",
       " 0.0       0.0       0.0       0.0          0.0       0.0        missing\n",
       " 0.0       1.0       0.0       0.0          0.0       0.0       1.0     \n",
       " 0.0        missing  0.0       0.0       …  0.0       0.0        missing\n",
       " 0.0       0.0       0.0       0.0          0.0       0.0       0.0     \n",
       " 0.0       0.0       0.0       0.0          0.0        missing  1.0     \n",
       " ⋮                                       ⋱                              \n",
       " 0.0       0.0       0.0       0.0          0.0       0.0        missing\n",
       " 0.0       0.0       0.0       0.0          0.0       0.0       0.0     \n",
       " 0.0       0.0       0.0       0.0       …   missing  0.0       1.0     \n",
       " 0.0       0.0       0.0       0.0          0.0       0.0       1.0     \n",
       " 0.0       0.0       0.0       0.0          0.0        missing  1.0     \n",
       " 0.0       0.0       0.0       0.0          0.0       0.0       2.0     \n",
       " 0.0       1.0       0.0        missing     0.0       0.0       1.0     \n",
       " 0.0       0.0       0.0       0.0       …  0.0       0.0       1.0     \n",
       " 0.0       0.0       0.0       0.0          0.0       0.0       1.0     \n",
       " 0.0       0.0       0.0       0.0          0.0       0.0       1.0     \n",
       " 0.0       1.0       0.0       0.0          0.0       0.0        missing\n",
       " 0.0       1.0       0.0       0.0          0.0       0.0        missing"
      ]
     },
     "execution_count": 6,
     "metadata": {},
     "output_type": "execute_result"
    }
   ],
   "source": [
    "n, p = size(X)\n",
    "Random.seed!(123)\n",
    "missingprop = 0.1\n",
    "\n",
    "Xm = copy(X)\n",
    "Xm = ifelse.(rand(Float32, n, p) .< missingprop, missing, Xm)"
   ]
  },
  {
   "cell_type": "markdown",
   "metadata": {},
   "source": [
    "### Step 4: Import (transposed) haplotype reference panels\n",
    "\n",
    "In the future, this should be done by `VCFTools.jl`. Currently we are brute forcing our way through.\n",
    "\n",
    "In `haplo_ref.vcf`:\n",
    "+ Each column is a person's (phased) genotype\n",
    "+ Each row is a SNP\n",
    "\n",
    "We will transpose this data as we convert it to a numeric matrix because `MendelImpute` currently (11/13/2019) requires transposed version."
   ]
  },
  {
   "cell_type": "code",
   "execution_count": 26,
   "metadata": {
    "collapsed": false
   },
   "outputs": [
    {
     "name": "stdout",
     "output_type": "stream",
     "text": [
      "236.333037 seconds (469.34 k allocations: 2.889 GiB, 40.03% gc time)\n"
     ]
    },
    {
     "data": {
      "text/html": [
       "<table class=\"data-frame\"><thead><tr><th></th><th>tsk_0</th><th>tsk_1</th><th>tsk_2</th><th>tsk_3</th><th>tsk_4</th><th>tsk_5</th><th>tsk_6</th><th>tsk_7</th><th>tsk_8</th><th>tsk_9</th></tr><tr><th></th><th>String</th><th>String</th><th>String</th><th>String</th><th>String</th><th>String</th><th>String</th><th>String</th><th>String</th><th>String</th></tr></thead><tbody><p>80,000 rows × 9,600 columns (omitted printing of 9590 columns)</p><tr><th>1</th><td>0|0</td><td>0|0</td><td>0|0</td><td>0|0</td><td>0|0</td><td>0|0</td><td>0|0</td><td>0|0</td><td>0|0</td><td>0|0</td></tr><tr><th>2</th><td>1|1</td><td>1|1</td><td>1|1</td><td>1|0</td><td>0|0</td><td>1|1</td><td>1|0</td><td>1|0</td><td>1|1</td><td>0|1</td></tr><tr><th>3</th><td>0|0</td><td>0|0</td><td>0|0</td><td>0|0</td><td>0|0</td><td>0|0</td><td>0|0</td><td>0|0</td><td>0|0</td><td>0|0</td></tr><tr><th>4</th><td>0|0</td><td>0|0</td><td>0|0</td><td>0|0</td><td>0|0</td><td>0|0</td><td>0|0</td><td>0|0</td><td>0|0</td><td>0|0</td></tr><tr><th>5</th><td>1|1</td><td>0|1</td><td>1|1</td><td>1|0</td><td>0|0</td><td>1|0</td><td>0|0</td><td>0|0</td><td>1|1</td><td>0|1</td></tr><tr><th>6</th><td>0|0</td><td>0|0</td><td>0|0</td><td>0|0</td><td>0|0</td><td>0|0</td><td>0|0</td><td>0|1</td><td>0|0</td><td>0|0</td></tr><tr><th>7</th><td>0|0</td><td>0|0</td><td>0|0</td><td>0|0</td><td>0|0</td><td>0|0</td><td>0|0</td><td>0|0</td><td>0|0</td><td>0|0</td></tr><tr><th>8</th><td>0|0</td><td>0|0</td><td>0|0</td><td>0|0</td><td>0|0</td><td>0|0</td><td>0|0</td><td>0|0</td><td>0|0</td><td>0|0</td></tr><tr><th>9</th><td>0|0</td><td>0|0</td><td>0|0</td><td>0|0</td><td>0|0</td><td>0|0</td><td>0|0</td><td>0|0</td><td>0|0</td><td>0|0</td></tr><tr><th>10</th><td>0|0</td><td>0|0</td><td>0|0</td><td>0|0</td><td>0|0</td><td>0|0</td><td>0|0</td><td>1|0</td><td>0|0</td><td>0|0</td></tr><tr><th>11</th><td>0|0</td><td>0|0</td><td>0|0</td><td>0|0</td><td>0|0</td><td>0|0</td><td>0|0</td><td>0|0</td><td>0|0</td><td>0|0</td></tr><tr><th>12</th><td>0|0</td><td>0|0</td><td>0|0</td><td>0|0</td><td>0|0</td><td>0|0</td><td>0|0</td><td>0|0</td><td>0|0</td><td>0|0</td></tr><tr><th>13</th><td>0|0</td><td>0|0</td><td>0|0</td><td>0|0</td><td>0|0</td><td>0|0</td><td>0|0</td><td>0|0</td><td>0|0</td><td>0|0</td></tr><tr><th>14</th><td>1|1</td><td>0|1</td><td>1|1</td><td>1|0</td><td>0|0</td><td>1|0</td><td>0|0</td><td>0|0</td><td>1|1</td><td>0|1</td></tr><tr><th>15</th><td>0|0</td><td>0|0</td><td>0|0</td><td>0|0</td><td>0|0</td><td>0|0</td><td>0|0</td><td>0|0</td><td>0|0</td><td>0|0</td></tr><tr><th>16</th><td>0|0</td><td>0|0</td><td>0|0</td><td>0|0</td><td>0|0</td><td>0|0</td><td>0|0</td><td>0|0</td><td>0|0</td><td>0|0</td></tr><tr><th>17</th><td>0|0</td><td>1|0</td><td>0|0</td><td>0|1</td><td>1|1</td><td>0|1</td><td>1|1</td><td>1|1</td><td>0|0</td><td>1|0</td></tr><tr><th>18</th><td>0|0</td><td>0|0</td><td>0|0</td><td>0|0</td><td>0|0</td><td>0|0</td><td>0|0</td><td>0|0</td><td>0|0</td><td>0|0</td></tr><tr><th>19</th><td>1|1</td><td>0|1</td><td>1|1</td><td>1|0</td><td>1|1</td><td>1|0</td><td>0|1</td><td>0|1</td><td>1|1</td><td>1|1</td></tr><tr><th>20</th><td>0|0</td><td>0|0</td><td>0|0</td><td>0|0</td><td>0|0</td><td>0|0</td><td>0|0</td><td>0|0</td><td>0|0</td><td>0|0</td></tr><tr><th>21</th><td>0|0</td><td>0|0</td><td>0|0</td><td>0|0</td><td>0|0</td><td>0|0</td><td>0|0</td><td>0|0</td><td>0|0</td><td>0|0</td></tr><tr><th>22</th><td>0|0</td><td>0|0</td><td>0|0</td><td>0|0</td><td>0|0</td><td>0|0</td><td>0|0</td><td>0|0</td><td>0|0</td><td>0|0</td></tr><tr><th>23</th><td>0|0</td><td>0|0</td><td>0|0</td><td>0|0</td><td>0|0</td><td>0|0</td><td>0|0</td><td>0|0</td><td>0|0</td><td>0|0</td></tr><tr><th>24</th><td>0|0</td><td>0|0</td><td>0|0</td><td>0|0</td><td>0|0</td><td>0|0</td><td>0|0</td><td>0|0</td><td>0|0</td><td>0|0</td></tr><tr><th>25</th><td>0|0</td><td>0|0</td><td>0|0</td><td>0|0</td><td>0|0</td><td>0|0</td><td>0|0</td><td>0|0</td><td>0|0</td><td>0|0</td></tr><tr><th>26</th><td>1|1</td><td>0|1</td><td>1|1</td><td>0|0</td><td>0|0</td><td>1|0</td><td>0|0</td><td>0|0</td><td>1|1</td><td>0|1</td></tr><tr><th>27</th><td>0|0</td><td>1|0</td><td>0|0</td><td>0|1</td><td>0|0</td><td>0|1</td><td>1|0</td><td>1|0</td><td>0|0</td><td>0|0</td></tr><tr><th>28</th><td>0|0</td><td>0|0</td><td>1|0</td><td>0|0</td><td>0|0</td><td>0|0</td><td>0|0</td><td>0|0</td><td>0|0</td><td>0|0</td></tr><tr><th>29</th><td>0|0</td><td>1|0</td><td>0|0</td><td>0|1</td><td>0|0</td><td>0|1</td><td>1|0</td><td>1|0</td><td>0|0</td><td>0|0</td></tr><tr><th>30</th><td>0|0</td><td>0|0</td><td>0|0</td><td>0|0</td><td>0|0</td><td>0|0</td><td>0|0</td><td>0|0</td><td>0|0</td><td>0|0</td></tr><tr><th>&vellip;</th><td>&vellip;</td><td>&vellip;</td><td>&vellip;</td><td>&vellip;</td><td>&vellip;</td><td>&vellip;</td><td>&vellip;</td><td>&vellip;</td><td>&vellip;</td><td>&vellip;</td></tr></tbody></table>"
      ],
      "text/latex": [
       "\\begin{tabular}{r|ccccccccccc}\n",
       "\t& tsk\\_0 & tsk\\_1 & tsk\\_2 & tsk\\_3 & tsk\\_4 & tsk\\_5 & tsk\\_6 & tsk\\_7 & tsk\\_8 & tsk\\_9 & \\\\\n",
       "\t\\hline\n",
       "\t& String & String & String & String & String & String & String & String & String & String & \\\\\n",
       "\t\\hline\n",
       "\t1 & 0|0 & 0|0 & 0|0 & 0|0 & 0|0 & 0|0 & 0|0 & 0|0 & 0|0 & 0|0 & $\\dots$ \\\\\n",
       "\t2 & 1|1 & 1|1 & 1|1 & 1|0 & 0|0 & 1|1 & 1|0 & 1|0 & 1|1 & 0|1 & $\\dots$ \\\\\n",
       "\t3 & 0|0 & 0|0 & 0|0 & 0|0 & 0|0 & 0|0 & 0|0 & 0|0 & 0|0 & 0|0 & $\\dots$ \\\\\n",
       "\t4 & 0|0 & 0|0 & 0|0 & 0|0 & 0|0 & 0|0 & 0|0 & 0|0 & 0|0 & 0|0 & $\\dots$ \\\\\n",
       "\t5 & 1|1 & 0|1 & 1|1 & 1|0 & 0|0 & 1|0 & 0|0 & 0|0 & 1|1 & 0|1 & $\\dots$ \\\\\n",
       "\t6 & 0|0 & 0|0 & 0|0 & 0|0 & 0|0 & 0|0 & 0|0 & 0|1 & 0|0 & 0|0 & $\\dots$ \\\\\n",
       "\t7 & 0|0 & 0|0 & 0|0 & 0|0 & 0|0 & 0|0 & 0|0 & 0|0 & 0|0 & 0|0 & $\\dots$ \\\\\n",
       "\t8 & 0|0 & 0|0 & 0|0 & 0|0 & 0|0 & 0|0 & 0|0 & 0|0 & 0|0 & 0|0 & $\\dots$ \\\\\n",
       "\t9 & 0|0 & 0|0 & 0|0 & 0|0 & 0|0 & 0|0 & 0|0 & 0|0 & 0|0 & 0|0 & $\\dots$ \\\\\n",
       "\t10 & 0|0 & 0|0 & 0|0 & 0|0 & 0|0 & 0|0 & 0|0 & 1|0 & 0|0 & 0|0 & $\\dots$ \\\\\n",
       "\t11 & 0|0 & 0|0 & 0|0 & 0|0 & 0|0 & 0|0 & 0|0 & 0|0 & 0|0 & 0|0 & $\\dots$ \\\\\n",
       "\t12 & 0|0 & 0|0 & 0|0 & 0|0 & 0|0 & 0|0 & 0|0 & 0|0 & 0|0 & 0|0 & $\\dots$ \\\\\n",
       "\t13 & 0|0 & 0|0 & 0|0 & 0|0 & 0|0 & 0|0 & 0|0 & 0|0 & 0|0 & 0|0 & $\\dots$ \\\\\n",
       "\t14 & 1|1 & 0|1 & 1|1 & 1|0 & 0|0 & 1|0 & 0|0 & 0|0 & 1|1 & 0|1 & $\\dots$ \\\\\n",
       "\t15 & 0|0 & 0|0 & 0|0 & 0|0 & 0|0 & 0|0 & 0|0 & 0|0 & 0|0 & 0|0 & $\\dots$ \\\\\n",
       "\t16 & 0|0 & 0|0 & 0|0 & 0|0 & 0|0 & 0|0 & 0|0 & 0|0 & 0|0 & 0|0 & $\\dots$ \\\\\n",
       "\t17 & 0|0 & 1|0 & 0|0 & 0|1 & 1|1 & 0|1 & 1|1 & 1|1 & 0|0 & 1|0 & $\\dots$ \\\\\n",
       "\t18 & 0|0 & 0|0 & 0|0 & 0|0 & 0|0 & 0|0 & 0|0 & 0|0 & 0|0 & 0|0 & $\\dots$ \\\\\n",
       "\t19 & 1|1 & 0|1 & 1|1 & 1|0 & 1|1 & 1|0 & 0|1 & 0|1 & 1|1 & 1|1 & $\\dots$ \\\\\n",
       "\t20 & 0|0 & 0|0 & 0|0 & 0|0 & 0|0 & 0|0 & 0|0 & 0|0 & 0|0 & 0|0 & $\\dots$ \\\\\n",
       "\t21 & 0|0 & 0|0 & 0|0 & 0|0 & 0|0 & 0|0 & 0|0 & 0|0 & 0|0 & 0|0 & $\\dots$ \\\\\n",
       "\t22 & 0|0 & 0|0 & 0|0 & 0|0 & 0|0 & 0|0 & 0|0 & 0|0 & 0|0 & 0|0 & $\\dots$ \\\\\n",
       "\t23 & 0|0 & 0|0 & 0|0 & 0|0 & 0|0 & 0|0 & 0|0 & 0|0 & 0|0 & 0|0 & $\\dots$ \\\\\n",
       "\t24 & 0|0 & 0|0 & 0|0 & 0|0 & 0|0 & 0|0 & 0|0 & 0|0 & 0|0 & 0|0 & $\\dots$ \\\\\n",
       "\t25 & 0|0 & 0|0 & 0|0 & 0|0 & 0|0 & 0|0 & 0|0 & 0|0 & 0|0 & 0|0 & $\\dots$ \\\\\n",
       "\t26 & 1|1 & 0|1 & 1|1 & 0|0 & 0|0 & 1|0 & 0|0 & 0|0 & 1|1 & 0|1 & $\\dots$ \\\\\n",
       "\t27 & 0|0 & 1|0 & 0|0 & 0|1 & 0|0 & 0|1 & 1|0 & 1|0 & 0|0 & 0|0 & $\\dots$ \\\\\n",
       "\t28 & 0|0 & 0|0 & 1|0 & 0|0 & 0|0 & 0|0 & 0|0 & 0|0 & 0|0 & 0|0 & $\\dots$ \\\\\n",
       "\t29 & 0|0 & 1|0 & 0|0 & 0|1 & 0|0 & 0|1 & 1|0 & 1|0 & 0|0 & 0|0 & $\\dots$ \\\\\n",
       "\t30 & 0|0 & 0|0 & 0|0 & 0|0 & 0|0 & 0|0 & 0|0 & 0|0 & 0|0 & 0|0 & $\\dots$ \\\\\n",
       "\t$\\dots$ & $\\dots$ & $\\dots$ & $\\dots$ & $\\dots$ & $\\dots$ & $\\dots$ & $\\dots$ & $\\dots$ & $\\dots$ & $\\dots$ &  \\\\\n",
       "\\end{tabular}\n"
      ],
      "text/plain": [
       "80000×9600 DataFrames.DataFrame. Omitted printing of 9593 columns\n",
       "│ Row   │ tsk_0  │ tsk_1  │ tsk_2  │ tsk_3  │ tsk_4  │ tsk_5  │ tsk_6  │\n",
       "│       │ \u001b[90mString\u001b[39m │ \u001b[90mString\u001b[39m │ \u001b[90mString\u001b[39m │ \u001b[90mString\u001b[39m │ \u001b[90mString\u001b[39m │ \u001b[90mString\u001b[39m │ \u001b[90mString\u001b[39m │\n",
       "├───────┼────────┼────────┼────────┼────────┼────────┼────────┼────────┤\n",
       "│ 1     │ 0|0    │ 0|0    │ 0|0    │ 0|0    │ 0|0    │ 0|0    │ 0|0    │\n",
       "│ 2     │ 1|1    │ 1|1    │ 1|1    │ 1|0    │ 0|0    │ 1|1    │ 1|0    │\n",
       "│ 3     │ 0|0    │ 0|0    │ 0|0    │ 0|0    │ 0|0    │ 0|0    │ 0|0    │\n",
       "│ 4     │ 0|0    │ 0|0    │ 0|0    │ 0|0    │ 0|0    │ 0|0    │ 0|0    │\n",
       "│ 5     │ 1|1    │ 0|1    │ 1|1    │ 1|0    │ 0|0    │ 1|0    │ 0|0    │\n",
       "│ 6     │ 0|0    │ 0|0    │ 0|0    │ 0|0    │ 0|0    │ 0|0    │ 0|0    │\n",
       "│ 7     │ 0|0    │ 0|0    │ 0|0    │ 0|0    │ 0|0    │ 0|0    │ 0|0    │\n",
       "│ 8     │ 0|0    │ 0|0    │ 0|0    │ 0|0    │ 0|0    │ 0|0    │ 0|0    │\n",
       "│ 9     │ 0|0    │ 0|0    │ 0|0    │ 0|0    │ 0|0    │ 0|0    │ 0|0    │\n",
       "│ 10    │ 0|0    │ 0|0    │ 0|0    │ 0|0    │ 0|0    │ 0|0    │ 0|0    │\n",
       "⋮\n",
       "│ 79990 │ 0|0    │ 1|0    │ 0|0    │ 0|0    │ 0|0    │ 0|0    │ 0|0    │\n",
       "│ 79991 │ 0|0    │ 0|0    │ 0|0    │ 0|0    │ 0|0    │ 0|0    │ 0|0    │\n",
       "│ 79992 │ 0|0    │ 0|0    │ 0|0    │ 0|0    │ 0|0    │ 0|0    │ 0|0    │\n",
       "│ 79993 │ 0|0    │ 0|0    │ 0|0    │ 0|0    │ 0|0    │ 0|0    │ 0|0    │\n",
       "│ 79994 │ 0|0    │ 1|0    │ 0|0    │ 0|0    │ 0|0    │ 0|0    │ 0|0    │\n",
       "│ 79995 │ 0|0    │ 0|0    │ 0|0    │ 0|0    │ 0|0    │ 0|0    │ 0|0    │\n",
       "│ 79996 │ 0|0    │ 0|0    │ 0|0    │ 0|0    │ 0|0    │ 0|0    │ 0|0    │\n",
       "│ 79997 │ 0|0    │ 0|0    │ 0|0    │ 0|0    │ 0|0    │ 0|0    │ 0|0    │\n",
       "│ 79998 │ 0|0    │ 0|0    │ 0|0    │ 0|0    │ 0|0    │ 0|0    │ 0|0    │\n",
       "│ 79999 │ 0|0    │ 0|0    │ 0|0    │ 0|0    │ 0|0    │ 0|0    │ 0|0    │\n",
       "│ 80000 │ 0|1    │ 0|1    │ 0|0    │ 1|1    │ 0|1    │ 0|1    │ 1|1    │"
      ]
     },
     "execution_count": 26,
     "metadata": {},
     "output_type": "execute_result"
    }
   ],
   "source": [
    "@time haplo_ref = CSV.read(\"haplo_ref.vcf\", header=6)[:, 10:end]"
   ]
  },
  {
   "cell_type": "code",
   "execution_count": 27,
   "metadata": {
    "collapsed": false
   },
   "outputs": [
    {
     "data": {
      "text/plain": [
       "parse_phased_data (generic function with 1 method)"
      ]
     },
     "execution_count": 27,
     "metadata": {},
     "output_type": "execute_result"
    }
   ],
   "source": [
    "function parse_phased_data(haplo_ref)\n",
    "    T = Float32\n",
    "    p, d = size(haplo_ref)\n",
    "    H = zeros(T, p, 2d)\n",
    "    split_holder = Vector{String}(undef, 2)\n",
    "    \n",
    "    for j in 1:d, i in 1:p\n",
    "        split_holder .= split(haplo_ref[i, j], '|')\n",
    "        H[i, 2j - 1] = (split_holder[1] == \"0\" ? zero(T) : one(T))\n",
    "        H[i, 2j]     = (split_holder[2] == \"0\" ? zero(T) : one(T))\n",
    "    end\n",
    "    \n",
    "    return H\n",
    "end"
   ]
  },
  {
   "cell_type": "code",
   "execution_count": 28,
   "metadata": {
    "collapsed": false
   },
   "outputs": [
    {
     "name": "stdout",
     "output_type": "stream",
     "text": [
      "600.060249 seconds (8.44 G allocations: 245.977 GiB, 19.04% gc time)\n"
     ]
    },
    {
     "data": {
      "text/plain": [
       "80000×19200 Array{Float32,2}:\n",
       " 0.0  0.0  0.0  0.0  0.0  0.0  0.0  0.0  …  0.0  0.0  0.0  0.0  0.0  0.0  0.0\n",
       " 1.0  1.0  1.0  1.0  1.0  1.0  1.0  0.0     1.0  1.0  1.0  1.0  0.0  1.0  1.0\n",
       " 0.0  0.0  0.0  0.0  0.0  0.0  0.0  0.0     0.0  0.0  0.0  0.0  0.0  0.0  0.0\n",
       " 0.0  0.0  0.0  0.0  0.0  0.0  0.0  0.0     0.0  0.0  0.0  0.0  0.0  0.0  0.0\n",
       " 1.0  1.0  0.0  1.0  1.0  1.0  1.0  0.0     1.0  1.0  0.0  1.0  0.0  1.0  1.0\n",
       " 0.0  0.0  0.0  0.0  0.0  0.0  0.0  0.0  …  0.0  0.0  0.0  0.0  1.0  0.0  0.0\n",
       " 0.0  0.0  0.0  0.0  0.0  0.0  0.0  0.0     0.0  0.0  0.0  0.0  0.0  0.0  0.0\n",
       " 0.0  0.0  0.0  0.0  0.0  0.0  0.0  0.0     0.0  0.0  0.0  0.0  0.0  0.0  0.0\n",
       " 0.0  0.0  0.0  0.0  0.0  0.0  0.0  0.0     0.0  0.0  0.0  0.0  0.0  0.0  0.0\n",
       " 0.0  0.0  0.0  0.0  0.0  0.0  0.0  0.0     0.0  0.0  1.0  0.0  0.0  0.0  0.0\n",
       " 0.0  0.0  0.0  0.0  0.0  0.0  0.0  0.0  …  0.0  0.0  0.0  0.0  0.0  0.0  0.0\n",
       " 0.0  0.0  0.0  0.0  0.0  0.0  0.0  0.0     0.0  0.0  0.0  0.0  0.0  0.0  0.0\n",
       " 0.0  0.0  0.0  0.0  0.0  0.0  0.0  0.0     0.0  0.0  0.0  0.0  0.0  0.0  0.0\n",
       " ⋮                        ⋮              ⋱            ⋮                      \n",
       " 0.0  1.0  0.0  1.0  0.0  0.0  1.0  0.0     1.0  1.0  0.0  1.0  1.0  0.0  1.0\n",
       " 0.0  0.0  1.0  0.0  0.0  0.0  0.0  0.0     0.0  0.0  0.0  0.0  0.0  1.0  0.0\n",
       " 0.0  0.0  0.0  0.0  0.0  0.0  0.0  0.0  …  0.0  0.0  0.0  0.0  0.0  0.0  0.0\n",
       " 0.0  0.0  0.0  0.0  0.0  0.0  0.0  0.0     0.0  0.0  0.0  0.0  0.0  0.0  0.0\n",
       " 0.0  0.0  0.0  0.0  0.0  0.0  0.0  0.0     0.0  0.0  0.0  0.0  0.0  0.0  0.0\n",
       " 0.0  0.0  1.0  0.0  0.0  0.0  0.0  0.0     0.0  0.0  0.0  0.0  0.0  1.0  0.0\n",
       " 0.0  0.0  0.0  0.0  0.0  0.0  0.0  0.0     0.0  0.0  0.0  0.0  0.0  0.0  0.0\n",
       " 0.0  0.0  0.0  0.0  0.0  0.0  0.0  0.0  …  0.0  0.0  0.0  0.0  0.0  0.0  0.0\n",
       " 0.0  0.0  0.0  0.0  0.0  0.0  0.0  0.0     0.0  0.0  0.0  0.0  0.0  0.0  0.0\n",
       " 0.0  0.0  0.0  0.0  0.0  0.0  0.0  0.0     0.0  0.0  0.0  0.0  0.0  0.0  0.0\n",
       " 0.0  0.0  0.0  0.0  0.0  0.0  0.0  0.0     0.0  0.0  0.0  0.0  0.0  0.0  0.0\n",
       " 0.0  1.0  0.0  1.0  0.0  0.0  1.0  1.0     1.0  1.0  0.0  1.0  1.0  0.0  1.0"
      ]
     },
     "execution_count": 28,
     "metadata": {},
     "output_type": "execute_result"
    }
   ],
   "source": [
    "@time H = parse_phased_data(haplo_ref)"
   ]
  },
  {
   "cell_type": "markdown",
   "metadata": {},
   "source": [
    "### Step 5: Test MendelImpute\n",
    "\n",
    "First need to transpose genotype data as well, because `MendelImpute` currently (11/13/2019) requires transposed version."
   ]
  },
  {
   "cell_type": "code",
   "execution_count": 31,
   "metadata": {
    "collapsed": false
   },
   "outputs": [
    {
     "data": {
      "text/plain": [
       "80000×400 Array{Union{Missing, Float32},2}:\n",
       " 0.0  0.0       0.0       0.0       …  0.0       0.0  0.0       0.0     \n",
       " 0.0  1.0       0.0       0.0          0.0       0.0  1.0       1.0     \n",
       " 1.0  0.0       0.0       0.0          0.0       0.0  0.0       0.0     \n",
       " 0.0  0.0       0.0       0.0          0.0       0.0  0.0       0.0     \n",
       " 2.0   missing  2.0       0.0           missing  2.0  1.0       1.0     \n",
       " 0.0   missing  0.0        missing  …  0.0       0.0  0.0       0.0     \n",
       " 0.0  0.0       0.0       0.0          0.0       0.0  0.0        missing\n",
       " 0.0  0.0       0.0       0.0           missing  0.0  0.0       0.0     \n",
       " 0.0   missing  0.0       0.0          0.0       0.0  0.0       0.0     \n",
       " 0.0  0.0       0.0       1.0          1.0       0.0  0.0       0.0     \n",
       " 0.0  0.0       0.0       0.0       …  0.0       0.0  0.0       0.0     \n",
       " 0.0  0.0        missing  0.0          0.0       0.0  0.0       0.0     \n",
       " 0.0  0.0       0.0       0.0          0.0       0.0  0.0       0.0     \n",
       " ⋮                                  ⋱                                   \n",
       " 1.0  1.0       2.0       1.0          1.0       1.0  2.0        missing\n",
       " 0.0  0.0       1.0        missing     0.0       0.0  0.0       0.0     \n",
       " 0.0  0.0       0.0       0.0       …   missing  0.0  0.0       0.0     \n",
       " 0.0  0.0       0.0        missing      missing  0.0   missing   missing\n",
       " 0.0  0.0       0.0       0.0          0.0       0.0  0.0       0.0     \n",
       " 0.0  0.0       1.0       0.0          0.0       0.0  0.0       0.0     \n",
       " 0.0  0.0        missing  0.0          0.0       0.0  0.0       0.0     \n",
       " 0.0   missing  0.0       0.0       …  0.0       0.0  0.0        missing\n",
       " 0.0  0.0       0.0       0.0          0.0       0.0  0.0       0.0     \n",
       " 0.0  0.0       0.0       0.0          0.0       0.0  0.0       0.0     \n",
       " 0.0  0.0       0.0       0.0          0.0       0.0  0.0       0.0     \n",
       " 1.0  1.0       2.0       1.0          1.0       1.0   missing   missing"
      ]
     },
     "execution_count": 31,
     "metadata": {},
     "output_type": "execute_result"
    }
   ],
   "source": [
    "X = copy(X')\n",
    "Xm = copy(Xm')\n",
    "Xm_original = copy(Xm)"
   ]
  },
  {
   "cell_type": "code",
   "execution_count": 35,
   "metadata": {
    "collapsed": false
   },
   "outputs": [
    {
     "data": {
      "text/plain": [
       "80000×400 Array{Union{Missing, Float32},2}:\n",
       " 0.0  0.0       0.0       0.0       …  0.0       0.0  0.0       0.0     \n",
       " 0.0  1.0       0.0       0.0          0.0       0.0  1.0       1.0     \n",
       " 1.0  0.0       0.0       0.0          0.0       0.0  0.0       0.0     \n",
       " 0.0  0.0       0.0       0.0          0.0       0.0  0.0       0.0     \n",
       " 2.0   missing  2.0       0.0           missing  2.0  1.0       1.0     \n",
       " 0.0   missing  0.0        missing  …  0.0       0.0  0.0       0.0     \n",
       " 0.0  0.0       0.0       0.0          0.0       0.0  0.0        missing\n",
       " 0.0  0.0       0.0       0.0           missing  0.0  0.0       0.0     \n",
       " 0.0   missing  0.0       0.0          0.0       0.0  0.0       0.0     \n",
       " 0.0  0.0       0.0       1.0          1.0       0.0  0.0       0.0     \n",
       " 0.0  0.0       0.0       0.0       …  0.0       0.0  0.0       0.0     \n",
       " 0.0  0.0        missing  0.0          0.0       0.0  0.0       0.0     \n",
       " 0.0  0.0       0.0       0.0          0.0       0.0  0.0       0.0     \n",
       " ⋮                                  ⋱                                   \n",
       " 1.0  1.0       2.0       1.0          1.0       1.0  2.0        missing\n",
       " 0.0  0.0       1.0        missing     0.0       0.0  0.0       0.0     \n",
       " 0.0  0.0       0.0       0.0       …   missing  0.0  0.0       0.0     \n",
       " 0.0  0.0       0.0        missing      missing  0.0   missing   missing\n",
       " 0.0  0.0       0.0       0.0          0.0       0.0  0.0       0.0     \n",
       " 0.0  0.0       1.0       0.0          0.0       0.0  0.0       0.0     \n",
       " 0.0  0.0        missing  0.0          0.0       0.0  0.0       0.0     \n",
       " 0.0   missing  0.0       0.0       …  0.0       0.0  0.0        missing\n",
       " 0.0  0.0       0.0       0.0          0.0       0.0  0.0       0.0     \n",
       " 0.0  0.0       0.0       0.0          0.0       0.0  0.0       0.0     \n",
       " 0.0  0.0       0.0       0.0          0.0       0.0  0.0       0.0     \n",
       " 1.0  1.0       2.0       1.0          1.0       1.0   missing   missing"
      ]
     },
     "execution_count": 35,
     "metadata": {},
     "output_type": "execute_result"
    }
   ],
   "source": [
    "Xm"
   ]
  },
  {
   "cell_type": "code",
   "execution_count": 36,
   "metadata": {
    "collapsed": false
   },
   "outputs": [
    {
     "data": {
      "text/plain": [
       "80000×19200 Array{Float32,2}:\n",
       " 0.0  0.0  0.0  0.0  0.0  0.0  0.0  0.0  …  0.0  0.0  0.0  0.0  0.0  0.0  0.0\n",
       " 1.0  1.0  1.0  1.0  1.0  1.0  1.0  0.0     1.0  1.0  1.0  1.0  0.0  1.0  1.0\n",
       " 0.0  0.0  0.0  0.0  0.0  0.0  0.0  0.0     0.0  0.0  0.0  0.0  0.0  0.0  0.0\n",
       " 0.0  0.0  0.0  0.0  0.0  0.0  0.0  0.0     0.0  0.0  0.0  0.0  0.0  0.0  0.0\n",
       " 1.0  1.0  0.0  1.0  1.0  1.0  1.0  0.0     1.0  1.0  0.0  1.0  0.0  1.0  1.0\n",
       " 0.0  0.0  0.0  0.0  0.0  0.0  0.0  0.0  …  0.0  0.0  0.0  0.0  1.0  0.0  0.0\n",
       " 0.0  0.0  0.0  0.0  0.0  0.0  0.0  0.0     0.0  0.0  0.0  0.0  0.0  0.0  0.0\n",
       " 0.0  0.0  0.0  0.0  0.0  0.0  0.0  0.0     0.0  0.0  0.0  0.0  0.0  0.0  0.0\n",
       " 0.0  0.0  0.0  0.0  0.0  0.0  0.0  0.0     0.0  0.0  0.0  0.0  0.0  0.0  0.0\n",
       " 0.0  0.0  0.0  0.0  0.0  0.0  0.0  0.0     0.0  0.0  1.0  0.0  0.0  0.0  0.0\n",
       " 0.0  0.0  0.0  0.0  0.0  0.0  0.0  0.0  …  0.0  0.0  0.0  0.0  0.0  0.0  0.0\n",
       " 0.0  0.0  0.0  0.0  0.0  0.0  0.0  0.0     0.0  0.0  0.0  0.0  0.0  0.0  0.0\n",
       " 0.0  0.0  0.0  0.0  0.0  0.0  0.0  0.0     0.0  0.0  0.0  0.0  0.0  0.0  0.0\n",
       " ⋮                        ⋮              ⋱            ⋮                      \n",
       " 0.0  1.0  0.0  1.0  0.0  0.0  1.0  0.0     1.0  1.0  0.0  1.0  1.0  0.0  1.0\n",
       " 0.0  0.0  1.0  0.0  0.0  0.0  0.0  0.0     0.0  0.0  0.0  0.0  0.0  1.0  0.0\n",
       " 0.0  0.0  0.0  0.0  0.0  0.0  0.0  0.0  …  0.0  0.0  0.0  0.0  0.0  0.0  0.0\n",
       " 0.0  0.0  0.0  0.0  0.0  0.0  0.0  0.0     0.0  0.0  0.0  0.0  0.0  0.0  0.0\n",
       " 0.0  0.0  0.0  0.0  0.0  0.0  0.0  0.0     0.0  0.0  0.0  0.0  0.0  0.0  0.0\n",
       " 0.0  0.0  1.0  0.0  0.0  0.0  0.0  0.0     0.0  0.0  0.0  0.0  0.0  1.0  0.0\n",
       " 0.0  0.0  0.0  0.0  0.0  0.0  0.0  0.0     0.0  0.0  0.0  0.0  0.0  0.0  0.0\n",
       " 0.0  0.0  0.0  0.0  0.0  0.0  0.0  0.0  …  0.0  0.0  0.0  0.0  0.0  0.0  0.0\n",
       " 0.0  0.0  0.0  0.0  0.0  0.0  0.0  0.0     0.0  0.0  0.0  0.0  0.0  0.0  0.0\n",
       " 0.0  0.0  0.0  0.0  0.0  0.0  0.0  0.0     0.0  0.0  0.0  0.0  0.0  0.0  0.0\n",
       " 0.0  0.0  0.0  0.0  0.0  0.0  0.0  0.0     0.0  0.0  0.0  0.0  0.0  0.0  0.0\n",
       " 0.0  1.0  0.0  1.0  0.0  0.0  1.0  1.0     1.0  1.0  0.0  1.0  1.0  0.0  1.0"
      ]
     },
     "execution_count": 36,
     "metadata": {},
     "output_type": "execute_result"
    }
   ],
   "source": [
    "H"
   ]
  },
  {
   "cell_type": "code",
   "execution_count": 46,
   "metadata": {
    "collapsed": false
   },
   "outputs": [
    {
     "name": "stdout",
     "output_type": "stream",
     "text": [
      " 80.769230 seconds (7.31 M allocations: 462.760 MiB, 34.36% gc time)\n"
     ]
    }
   ],
   "source": [
    "@time hapset, ph = phase2(Xm, H, width=5000);"
   ]
  },
  {
   "cell_type": "markdown",
   "metadata": {},
   "source": [
    "### Step 6: Calculate error"
   ]
  },
  {
   "cell_type": "markdown",
   "metadata": {},
   "source": [
    "#### 2000 haplotypes error = 0.08744580304802659"
   ]
  },
  {
   "cell_type": "code",
   "execution_count": 91,
   "metadata": {
    "collapsed": false
   },
   "outputs": [
    {
     "name": "stdout",
     "output_type": "stream",
     "text": [
      "error_rate = 0.08744580304802659\n"
     ]
    }
   ],
   "source": [
    "impute2!(Xm, H, phase)\n",
    "missing_idx    = ismissing.(Xm_original)\n",
    "total_missing  = sum(missing_idx)\n",
    "actual_missing_values  = convert(Vector{Int64}, X[missing_idx])  #true values of missing entries\n",
    "imputed_missing_values = convert(Vector{Int64}, Xm[missing_idx]) #imputed values of missing entries\n",
    "error_rate = sum(actual_missing_values .!= imputed_missing_values) / total_missing\n",
    "@show error_rate\n",
    "copyto!(Xm, Xm_original);"
   ]
  },
  {
   "cell_type": "markdown",
   "metadata": {},
   "source": [
    "#### 20,000 haplotypes error = 0.05610338308703217 (width = 5000)"
   ]
  },
  {
   "cell_type": "code",
   "execution_count": 47,
   "metadata": {
    "collapsed": false
   },
   "outputs": [
    {
     "name": "stdout",
     "output_type": "stream",
     "text": [
      "error_rate = 0.05610338308703217\n"
     ]
    }
   ],
   "source": [
    "impute2!(Xm, H, ph)\n",
    "missing_idx    = ismissing.(Xm_original)\n",
    "total_missing  = sum(missing_idx)\n",
    "actual_missing_values  = convert(Vector{Int64}, X[missing_idx])  #true values of missing entries\n",
    "imputed_missing_values = convert(Vector{Int64}, Xm[missing_idx]) #imputed values of missing entries\n",
    "error_rate = sum(actual_missing_values .!= imputed_missing_values) / total_missing\n",
    "@show error_rate\n",
    "copyto!(Xm, Xm_original);"
   ]
  },
  {
   "cell_type": "code",
   "execution_count": 51,
   "metadata": {
    "collapsed": false
   },
   "outputs": [
    {
     "data": {
      "text/plain": [
       "80000×19200 SparseMatrixCSC{Float32,Int64} with 148564334 stored entries:\n",
       "  [2    ,     1]  =  1.0\n",
       "  [5    ,     1]  =  1.0\n",
       "  [14   ,     1]  =  1.0\n",
       "  [19   ,     1]  =  1.0\n",
       "  [26   ,     1]  =  1.0\n",
       "  [33   ,     1]  =  1.0\n",
       "  [36   ,     1]  =  1.0\n",
       "  [38   ,     1]  =  1.0\n",
       "  [44   ,     1]  =  1.0\n",
       "  [48   ,     1]  =  1.0\n",
       "  [52   ,     1]  =  1.0\n",
       "  [54   ,     1]  =  1.0\n",
       "  ⋮\n",
       "  [79927, 19200]  =  1.0\n",
       "  [79928, 19200]  =  1.0\n",
       "  [79929, 19200]  =  1.0\n",
       "  [79936, 19200]  =  1.0\n",
       "  [79937, 19200]  =  1.0\n",
       "  [79940, 19200]  =  1.0\n",
       "  [79944, 19200]  =  1.0\n",
       "  [79945, 19200]  =  1.0\n",
       "  [79960, 19200]  =  1.0\n",
       "  [79963, 19200]  =  1.0\n",
       "  [79988, 19200]  =  1.0\n",
       "  [79989, 19200]  =  1.0\n",
       "  [80000, 19200]  =  1.0"
      ]
     },
     "execution_count": 51,
     "metadata": {},
     "output_type": "execute_result"
    }
   ],
   "source": [
    "H_sp = sparse(H)"
   ]
  },
  {
   "cell_type": "code",
   "execution_count": 53,
   "metadata": {
    "collapsed": false
   },
   "outputs": [
    {
     "name": "stderr",
     "output_type": "stream",
     "text": [
      "WARNING: using UnicodePlots.spy in module Main conflicts with an existing identifier.\n"
     ]
    },
    {
     "ename": "InterruptException",
     "evalue": "InterruptException:",
     "output_type": "error",
     "traceback": [
      "InterruptException:",
      "",
      "Stacktrace:",
      " [1] Type at ./boot.jl:404 [inlined]",
      " [2] Type at ./boot.jl:413 [inlined]",
      " [3] Type at ./boot.jl:421 [inlined]",
      " [4] _collect_indices at ./array.jl:562 [inlined]",
      " [5] collect(::Array{Int64,1}) at ./array.jl:546",
      " [6] has_attribute_segments(::Plots.Series) at /Users/biona001/.julia/packages/Plots/Iuc9S/src/utils.jl:652",
      " [7] iter_segments(::Plots.Series) at /Users/biona001/.julia/packages/Plots/Iuc9S/src/utils.jl:198",
      " [8] gr_display(::Plots.Subplot{Plots.GRBackend}, ::Measures.Length{:mm,Float64}, ::Measures.Length{:mm,Float64}, ::Array{Float64,1}) at /Users/biona001/.julia/packages/Plots/Iuc9S/src/backends/gr.jl:1264",
      " [9] gr_display(::Plots.Plot{Plots.GRBackend}, ::String) at /Users/biona001/.julia/packages/Plots/Iuc9S/src/backends/gr.jl:685",
      " [10] _show(::Base.GenericIOBuffer{Array{UInt8,1}}, ::MIME{Symbol(\"image/svg+xml\")}, ::Plots.Plot{Plots.GRBackend}) at /Users/biona001/.julia/packages/Plots/Iuc9S/src/backends/gr.jl:1601",
      " [11] show(::Base.GenericIOBuffer{Array{UInt8,1}}, ::MIME{Symbol(\"image/svg+xml\")}, ::Plots.Plot{Plots.GRBackend}) at /Users/biona001/.julia/packages/Plots/Iuc9S/src/output.jl:199",
      " [12] #sprint#342(::Nothing, ::Int64, ::typeof(sprint), ::Function, ::MIME{Symbol(\"image/svg+xml\")}, ::Vararg{Any,N} where N) at ./strings/io.jl:107",
      " [13] sprint(::Function, ::MIME{Symbol(\"image/svg+xml\")}, ::Vararg{Any,N} where N) at ./strings/io.jl:103",
      " [14] _ijulia_display_dict(::Plots.Plot{Plots.GRBackend}) at /Users/biona001/.julia/packages/Plots/Iuc9S/src/ijulia.jl:53",
      " [15] display_dict(::Plots.Plot{Plots.GRBackend}) at /Users/biona001/.julia/packages/Plots/Iuc9S/src/init.jl:42",
      " [16] #invokelatest#1 at ./essentials.jl:790 [inlined]",
      " [17] invokelatest at ./essentials.jl:789 [inlined]",
      " [18] execute_request(::ZMQ.Socket, ::IJulia.Msg) at /Users/biona001/.julia/packages/IJulia/fRegO/src/execute_request.jl:112",
      " [19] #invokelatest#1 at ./essentials.jl:790 [inlined]",
      " [20] invokelatest at ./essentials.jl:789 [inlined]",
      " [21] eventloop(::ZMQ.Socket) at /Users/biona001/.julia/packages/IJulia/fRegO/src/eventloop.jl:8",
      " [22] (::getfield(IJulia, Symbol(\"##15#18\")))() at ./task.jl:268"
     ]
    }
   ],
   "source": [
    "using UnicodePlots\n",
    "spy(H_sp)"
   ]
  },
  {
   "cell_type": "code",
   "execution_count": null,
   "metadata": {
    "collapsed": true
   },
   "outputs": [],
   "source": []
  }
 ],
 "metadata": {
  "kernelspec": {
   "display_name": "Julia 1.2.0",
   "language": "julia",
   "name": "julia-1.2"
  },
  "language_info": {
   "file_extension": ".jl",
   "mimetype": "application/julia",
   "name": "julia",
   "version": "1.2.0"
  }
 },
 "nbformat": 4,
 "nbformat_minor": 2
}
