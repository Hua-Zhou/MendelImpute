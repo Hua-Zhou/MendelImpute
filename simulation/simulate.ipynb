{
 "cells": [
  {
   "cell_type": "markdown",
   "metadata": {},
   "source": [
    "# Generating simulated haplotype files\n",
    "\n",
    "This notebook describes how the genotype and haplotype reference files are generated."
   ]
  },
  {
   "cell_type": "code",
   "execution_count": 1,
   "metadata": {
    "collapsed": false
   },
   "outputs": [
    {
     "name": "stderr",
     "output_type": "stream",
     "text": [
      "┌ Warning: no Manifest.toml file found, static paths used\n",
      "└ @ Revise /Users/biona001/.julia/packages/Revise/439di/src/Revise.jl:1108\n"
     ]
    }
   ],
   "source": [
    "using Revise\n",
    "using CSV\n",
    "using VCFTools\n",
    "using Random\n",
    "using DelimitedFiles\n",
    "using MendelImpute\n",
    "using Plots\n",
    "using SparseArrays"
   ]
  },
  {
   "cell_type": "markdown",
   "metadata": {},
   "source": [
    "### Step 0. Install `msprime`\n",
    "\n",
    "[msprime download Link](https://msprime.readthedocs.io/en/stable/installation.html).\n",
    "\n",
    "Some people might need to activate conda environment via `conda config --set auto_activate_base True`. You can turn it off once simulation is done by executing `conda config --set auto_activate_base False`.\n",
    "\n",
    "\n",
    "### Step 1. Simulate data in terminal\n",
    "\n",
    "```\n",
    "python3 msprime_script.py 20000 10000 10000000 2e-8 2e-8 2019 > simulation.vcf\n",
    "```\n",
    "\n",
    "Arguments: \n",
    "+ Number of haplotypes = 20000\n",
    "+ Effective population size = 10000 ([source](https://www.the-scientist.com/the-nutshell/ancient-humans-more-diverse-43556))\n",
    "+ Sequence length = 10 million (same as Beagle 5's choice)\n",
    "+ Rrecombination rate = 2e-8 (default)\n",
    "+ mutation rate = 2e-8 (default)\n",
    "+ seed = 2019"
   ]
  },
  {
   "cell_type": "markdown",
   "metadata": {},
   "source": [
    "### Step 2: Convert simulated haplotypes to reference haplotypes and target genotype files (in .vcf format)\n",
    "\n",
    "In the future, this should be done by `VCFTools.jl`. Currently we are brute forcing our way through.\n",
    "\n",
    "The last 200 people (400 haplotypes) are treated as imputation targets, where 10% of entries are masked randomly. The remaining haplotypes become reference panels. The number of markers fluctuates between 40,000 and 100,000, and we truncate at the 10-thousand range (e.g. if we have 62,345 snps, we only keep first 60,000). "
   ]
  },
  {
   "cell_type": "code",
   "execution_count": 11,
   "metadata": {
    "collapsed": false,
    "scrolled": true
   },
   "outputs": [
    {
     "ename": "InterruptException",
     "evalue": "InterruptException:",
     "output_type": "error",
     "traceback": [
      "InterruptException:",
      "",
      "Stacktrace:",
      " [1] unsafe_string at ./strings/string.jl:53 [inlined]",
      " [2] Type at /Users/biona001/.julia/packages/CSV/skXyc/src/utils.jl:25 [inlined]",
      " [3] getref! at /Users/biona001/.julia/packages/CSV/skXyc/src/CSV.jl:978 [inlined]",
      " [4] parsepooled! at /Users/biona001/.julia/packages/CSV/skXyc/src/CSV.jl:1000 [inlined]",
      " [5] parsetape(::Val{false}, ::Bool, ::Int64, ::Dict{Int8,Int8}, ::Array{Array{UInt64,1},1}, ::Array{Array{UInt64,1},1}, ::Array{UInt8,1}, ::Int64, ::Int64, ::Int64, ::Nothing, ::Array{Int64,1}, ::Float64, ::Array{Dict{String,UInt64},1}, ::Array{UInt64,1}, ::Int64, ::Array{Int8,1}, ::Array{Int64,1}, ::Bool, ::Parsers.Options{false,true,false,Missing,UInt8,Nothing}, ::Bool) at /Users/biona001/.julia/packages/CSV/skXyc/src/CSV.jl:644",
      " [6] file(::String, ::Int64, ::Bool, ::Int64, ::Nothing, ::Int64, ::Int64, ::Bool, ::Nothing, ::Bool, ::Bool, ::Array{String,1}, ::String, ::Nothing, ::Bool, ::Char, ::Nothing, ::Nothing, ::Char, ::Nothing, ::UInt8, ::Nothing, ::Nothing, ::Nothing, ::Nothing, ::Dict{Int8,Int8}, ::Bool, ::Float64, ::Bool, ::Bool, ::Nothing, ::Bool, ::Bool, ::Nothing) at /Users/biona001/.julia/packages/CSV/skXyc/src/CSV.jl:412",
      " [7] #File#15 at /Users/biona001/.julia/packages/CSV/skXyc/src/CSV.jl:218 [inlined]",
      " [8] (::getfield(Core, Symbol(\"#kw#Type\")))(::NamedTuple{(:header,),Tuple{Int64}}, ::Type{CSV.File}, ::String) at ./none:0",
      " [9] #read#63 at /Users/biona001/.julia/packages/CSV/skXyc/src/CSV.jl:1029 [inlined]",
      " [10] (::getfield(CSV, Symbol(\"#kw##read\")))(::NamedTuple{(:header,),Tuple{Int64}}, ::typeof(CSV.read), ::String) at ./none:0",
      " [11] top-level scope at util.jl:156",
      " [12] top-level scope at In[11]:1"
     ]
    }
   ],
   "source": [
    "@time x = CSV.read(\"simulation.vcf\", header=6)\n",
    "x[!, :ID] .= '.'  # these columns have missing data, which should be represented as . not 0.0\n",
    "x[!, :QUAL] .= '.'\n",
    "x[!, :INFO] .= '.'\n",
    "x[!, :REF] .= 'A' #set all reference allele to A instead of 0\n",
    "x[!, :ALT] .= 'T'; #set all alternate allele to T instead of 1"
   ]
  },
  {
   "cell_type": "markdown",
   "metadata": {},
   "source": [
    "#### Filter out SNPs with same POS, which shouldn't exist"
   ]
  },
  {
   "cell_type": "code",
   "execution_count": 12,
   "metadata": {
    "collapsed": false
   },
   "outputs": [
    {
     "ename": "UndefVarError",
     "evalue": "UndefVarError: x not defined",
     "output_type": "error",
     "traceback": [
      "UndefVarError: x not defined",
      "",
      "Stacktrace:",
      " [1] top-level scope at In[12]:1"
     ]
    }
   ],
   "source": [
    "unique_rows = indexin(unique(x[!, :POS]), x[!, :POS])\n",
    "x_unique = x[unique_rows, :]\n",
    "@assert length(unique(x_unique[!, :POS])) == size(x_unique, 1)\n",
    "x_unique"
   ]
  },
  {
   "cell_type": "code",
   "execution_count": 4,
   "metadata": {
    "collapsed": false,
    "scrolled": true
   },
   "outputs": [
    {
     "data": {
      "text/plain": [
       "\"haplo_ref.vcf\""
      ]
     },
     "execution_count": 4,
     "metadata": {},
     "output_type": "execute_result"
    }
   ],
   "source": [
    "ref_end = size(x_unique, 2) - 400\n",
    "num_snp = Int(round(size(x_unique, 1), sigdigits = 1))\n",
    "\n",
    "first_9_cols = x_unique[1:num_snp, 1:9]\n",
    "refhap = [first_9_cols x_unique[1:num_snp, 10:ref_end]]\n",
    "target = [first_9_cols x_unique[1:num_snp, (ref_end+1):end]]\n",
    "\n",
    "CSV.write(\"target.vcf\", target, delim='\\t')\n",
    "CSV.write(\"haplo_ref.vcf\", refhap, delim='\\t')"
   ]
  },
  {
   "cell_type": "markdown",
   "metadata": {},
   "source": [
    "#### Add the following to the header of `target.vcf` and `haplo_ref.vcf`\n",
    "```\n",
    "##fileformat=VCFv4.2\n",
    "##source=vcftools\n",
    "##FILTER=<ID=PASS,Description=\"All filters passed\">\n",
    "##contig=<ID=1,length=10000000>\n",
    "##FORMAT=<ID=GT,Number=1,Type=String,Description=\"Genotype\">\n",
    "```"
   ]
  },
  {
   "cell_type": "markdown",
   "metadata": {},
   "source": [
    "### Step 3: Import target genotype file and randomly mask entries\n",
    "\n",
    "+ `X` is the genotype matrix (without missing entries)\n",
    "+ `Xm` is the masked genotype matrix (imputation target)"
   ]
  },
  {
   "cell_type": "code",
   "execution_count": 13,
   "metadata": {
    "collapsed": false
   },
   "outputs": [
    {
     "name": "stdout",
     "output_type": "stream",
     "text": [
      " 12.004489 seconds (194.20 M allocations: 17.230 GiB, 27.62% gc time)\n"
     ]
    },
    {
     "data": {
      "text/plain": [
       "400×80000 Array{Union{Missing, Float32},2}:\n",
       " 0.0  0.0  1.0  0.0  2.0  0.0  0.0  0.0  …  0.0  0.0  0.0  0.0  0.0  0.0  1.0\n",
       " 0.0  1.0  0.0  0.0  0.0  0.0  0.0  0.0     0.0  0.0  0.0  0.0  0.0  0.0  1.0\n",
       " 0.0  0.0  0.0  0.0  2.0  0.0  0.0  0.0     1.0  0.0  0.0  0.0  0.0  0.0  2.0\n",
       " 0.0  0.0  0.0  0.0  0.0  0.0  0.0  0.0     0.0  0.0  0.0  0.0  0.0  0.0  1.0\n",
       " 0.0  0.0  0.0  0.0  2.0  0.0  0.0  0.0     0.0  0.0  0.0  0.0  0.0  0.0  2.0\n",
       " 0.0  0.0  0.0  0.0  1.0  0.0  0.0  0.0  …  1.0  0.0  0.0  0.0  0.0  0.0  2.0\n",
       " 0.0  0.0  0.0  0.0  0.0  0.0  0.0  0.0     0.0  0.0  0.0  0.0  0.0  0.0  0.0\n",
       " 0.0  0.0  0.0  0.0  2.0  0.0  0.0  1.0     0.0  0.0  0.0  0.0  0.0  0.0  0.0\n",
       " 0.0  0.0  0.0  0.0  1.0  0.0  0.0  0.0     0.0  0.0  0.0  0.0  0.0  0.0  1.0\n",
       " 0.0  1.0  0.0  0.0  1.0  0.0  0.0  0.0     0.0  0.0  0.0  0.0  0.0  0.0  1.0\n",
       " 0.0  0.0  0.0  0.0  1.0  0.0  0.0  0.0  …  1.0  0.0  0.0  0.0  0.0  0.0  1.0\n",
       " 0.0  0.0  0.0  0.0  1.0  0.0  0.0  0.0     0.0  0.0  0.0  0.0  0.0  0.0  0.0\n",
       " 0.0  0.0  0.0  0.0  2.0  0.0  0.0  1.0     0.0  0.0  0.0  0.0  0.0  0.0  1.0\n",
       " ⋮                        ⋮              ⋱            ⋮                      \n",
       " 0.0  0.0  0.0  0.0  1.0  0.0  0.0  0.0     0.0  0.0  0.0  0.0  0.0  0.0  1.0\n",
       " 0.0  0.0  0.0  0.0  1.0  0.0  1.0  0.0     0.0  0.0  0.0  0.0  0.0  0.0  0.0\n",
       " 0.0  0.0  0.0  0.0  1.0  0.0  0.0  0.0  …  0.0  0.0  0.0  0.0  0.0  0.0  1.0\n",
       " 0.0  0.0  0.0  0.0  2.0  0.0  0.0  0.0     0.0  0.0  0.0  0.0  0.0  0.0  1.0\n",
       " 0.0  0.0  0.0  0.0  1.0  0.0  0.0  1.0     0.0  0.0  0.0  0.0  0.0  0.0  1.0\n",
       " 0.0  0.0  0.0  0.0  1.0  0.0  0.0  0.0     1.0  0.0  0.0  0.0  0.0  0.0  2.0\n",
       " 0.0  1.0  0.0  0.0  0.0  0.0  0.0  0.0     0.0  0.0  0.0  0.0  0.0  0.0  1.0\n",
       " 0.0  0.0  0.0  0.0  1.0  0.0  0.0  0.0  …  0.0  0.0  0.0  0.0  0.0  0.0  1.0\n",
       " 0.0  0.0  0.0  0.0  1.0  0.0  0.0  0.0     0.0  0.0  0.0  0.0  0.0  0.0  1.0\n",
       " 0.0  0.0  0.0  0.0  2.0  0.0  0.0  0.0     0.0  0.0  0.0  0.0  0.0  0.0  1.0\n",
       " 0.0  1.0  0.0  0.0  1.0  0.0  0.0  0.0     0.0  0.0  0.0  0.0  0.0  0.0  2.0\n",
       " 0.0  1.0  0.0  0.0  1.0  0.0  0.0  0.0     0.0  0.0  0.0  0.0  0.0  0.0  0.0"
      ]
     },
     "execution_count": 13,
     "metadata": {},
     "output_type": "execute_result"
    }
   ],
   "source": [
    "@time X = convert_gt(Float32, \"target.vcf\"; model = :additive)"
   ]
  },
  {
   "cell_type": "code",
   "execution_count": 14,
   "metadata": {
    "collapsed": false
   },
   "outputs": [
    {
     "data": {
      "text/plain": [
       "400×80000 Array{Union{Missing, Float32},2}:\n",
       " 0.0       0.0       1.0       0.0       …  0.0       0.0       1.0     \n",
       " 0.0       1.0       0.0       0.0          0.0       0.0       1.0     \n",
       " 0.0       0.0       0.0       0.0          0.0       0.0       2.0     \n",
       " 0.0       0.0       0.0       0.0          0.0       0.0       1.0     \n",
       "  missing   missing   missing  0.0          0.0       0.0       2.0     \n",
       " 0.0       0.0       0.0        missing  …  0.0       0.0        missing\n",
       " 0.0       0.0       0.0       0.0          0.0       0.0       0.0     \n",
       " 0.0       0.0       0.0       0.0           missing  0.0        missing\n",
       " 0.0       0.0       0.0       0.0          0.0       0.0        missing\n",
       " 0.0       1.0       0.0       0.0          0.0       0.0       1.0     \n",
       " 0.0        missing  0.0       0.0       …  0.0       0.0        missing\n",
       " 0.0       0.0       0.0       0.0          0.0       0.0       0.0     \n",
       " 0.0       0.0       0.0       0.0          0.0        missing  1.0     \n",
       " ⋮                                       ⋱                              \n",
       " 0.0       0.0       0.0       0.0          0.0       0.0        missing\n",
       " 0.0       0.0       0.0       0.0          0.0       0.0       0.0     \n",
       " 0.0       0.0       0.0       0.0       …   missing  0.0       1.0     \n",
       " 0.0       0.0       0.0       0.0          0.0       0.0       1.0     \n",
       " 0.0       0.0       0.0       0.0          0.0        missing  1.0     \n",
       " 0.0       0.0       0.0       0.0          0.0       0.0       2.0     \n",
       " 0.0       1.0       0.0        missing     0.0       0.0       1.0     \n",
       " 0.0       0.0       0.0       0.0       …  0.0       0.0       1.0     \n",
       " 0.0       0.0       0.0       0.0          0.0       0.0       1.0     \n",
       " 0.0       0.0       0.0       0.0          0.0       0.0       1.0     \n",
       " 0.0       1.0       0.0       0.0          0.0       0.0        missing\n",
       " 0.0       1.0       0.0       0.0          0.0       0.0        missing"
      ]
     },
     "execution_count": 14,
     "metadata": {},
     "output_type": "execute_result"
    }
   ],
   "source": [
    "n, p = size(X)\n",
    "Random.seed!(123)\n",
    "missingprop = 0.1\n",
    "\n",
    "Xm = copy(X)\n",
    "Xm = ifelse.(rand(Float32, n, p) .< missingprop, missing, Xm)"
   ]
  },
  {
   "cell_type": "markdown",
   "metadata": {},
   "source": [
    "### Step 4: Import (transposed) haplotype reference panels\n",
    "\n",
    "In `haplo_ref.vcf`:\n",
    "+ Each column is a person's (phased) genotype\n",
    "+ Each row is a SNP\n",
    "\n",
    "We will transpose this data as we convert it to a numeric matrix because `MendelImpute` currently (11/13/2019) requires transposed version."
   ]
  },
  {
   "cell_type": "code",
   "execution_count": 9,
   "metadata": {
    "collapsed": false
   },
   "outputs": [
    {
     "name": "stdout",
     "output_type": "stream",
     "text": [
      "263.062229 seconds (4.61 G allocations: 417.358 GiB, 28.70% gc time)\n"
     ]
    },
    {
     "data": {
      "text/plain": [
       "19200×80000 Array{Float32,2}:\n",
       " 0.0  0.0  0.0  0.0  1.0  0.0  0.0  0.0  …  0.0  0.0  0.0  0.0  0.0  0.0  1.0\n",
       " 0.0  0.0  0.0  0.0  0.0  0.0  0.0  0.0     0.0  0.0  0.0  0.0  0.0  0.0  0.0\n",
       " 0.0  0.0  0.0  0.0  0.0  0.0  0.0  0.0     1.0  0.0  0.0  0.0  0.0  0.0  1.0\n",
       " 0.0  0.0  0.0  0.0  0.0  0.0  0.0  0.0     0.0  0.0  0.0  0.0  0.0  0.0  0.0\n",
       " 0.0  0.0  0.0  0.0  1.0  0.0  0.0  0.0     0.0  0.0  0.0  0.0  0.0  0.0  1.0\n",
       " 0.0  1.0  0.0  0.0  0.0  0.0  0.0  0.0  …  0.0  0.0  0.0  0.0  0.0  0.0  0.0\n",
       " 0.0  0.0  0.0  0.0  1.0  0.0  0.0  0.0     0.0  0.0  0.0  0.0  0.0  0.0  0.0\n",
       " 0.0  0.0  0.0  0.0  0.0  0.0  0.0  0.0     0.0  0.0  0.0  0.0  0.0  0.0  0.0\n",
       " 0.0  1.0  0.0  0.0  0.0  0.0  0.0  0.0     0.0  0.0  0.0  0.0  0.0  0.0  1.0\n",
       " 0.0  0.0  0.0  0.0  0.0  0.0  0.0  0.0     0.0  0.0  0.0  0.0  0.0  0.0  0.0\n",
       " 0.0  0.0  0.0  0.0  1.0  0.0  0.0  0.0  …  0.0  0.0  0.0  0.0  0.0  0.0  1.0\n",
       " 0.0  0.0  0.0  0.0  0.0  0.0  0.0  0.0     0.0  0.0  0.0  0.0  0.0  0.0  0.0\n",
       " 0.0  0.0  0.0  0.0  0.0  0.0  0.0  0.0     0.0  0.0  0.0  0.0  0.0  0.0  0.0\n",
       " ⋮                        ⋮              ⋱            ⋮                      \n",
       " 0.0  0.0  0.0  0.0  1.0  0.0  0.0  0.0     0.0  0.0  0.0  0.0  0.0  0.0  0.0\n",
       " 0.0  1.0  0.0  0.0  0.0  0.0  0.0  0.0     0.0  0.0  0.0  0.0  0.0  0.0  0.0\n",
       " 0.0  0.0  0.0  0.0  1.0  0.0  0.0  0.0  …  1.0  0.0  0.0  0.0  0.0  0.0  1.0\n",
       " 0.0  1.0  0.0  0.0  0.0  0.0  0.0  0.0     0.0  0.0  0.0  0.0  0.0  0.0  0.0\n",
       " 0.0  0.0  0.0  0.0  1.0  0.0  0.0  0.0     0.0  0.0  0.0  0.0  0.0  0.0  1.0\n",
       " 0.0  0.0  0.0  0.0  0.0  0.0  0.0  0.0     0.0  0.0  0.0  0.0  0.0  0.0  0.0\n",
       " 0.0  0.0  0.0  0.0  1.0  0.0  0.0  0.0     0.0  0.0  0.0  0.0  0.0  0.0  0.0\n",
       " 0.0  1.0  0.0  0.0  0.0  0.0  0.0  0.0  …  0.0  0.0  0.0  0.0  0.0  0.0  0.0\n",
       " 0.0  0.0  0.0  0.0  1.0  0.0  0.0  0.0     0.0  0.0  0.0  0.0  0.0  0.0  0.0\n",
       " 0.0  0.0  0.0  0.0  0.0  0.0  0.0  0.0     0.0  0.0  0.0  0.0  0.0  0.0  0.0\n",
       " 0.0  0.0  0.0  0.0  1.0  0.0  0.0  0.0     1.0  0.0  0.0  0.0  0.0  0.0  1.0\n",
       " 0.0  0.0  0.0  0.0  0.0  0.0  0.0  0.0     0.0  0.0  0.0  0.0  0.0  0.0  0.0"
      ]
     },
     "execution_count": 9,
     "metadata": {},
     "output_type": "execute_result"
    }
   ],
   "source": [
    "@time H = convert_ht(Float32, \"haplo_ref.vcf\")"
   ]
  },
  {
   "cell_type": "code",
   "execution_count": 10,
   "metadata": {
    "collapsed": false
   },
   "outputs": [
    {
     "name": "stdout",
     "output_type": "stream",
     "text": [
      " 12.967581 seconds (126.72 k allocations: 5.728 GiB, 0.04% gc time)\n"
     ]
    },
    {
     "data": {
      "text/plain": [
       "80000×19200 Array{Float32,2}:\n",
       " 0.0  0.0  0.0  0.0  0.0  0.0  0.0  0.0  …  0.0  0.0  0.0  0.0  0.0  0.0  0.0\n",
       " 0.0  0.0  0.0  0.0  0.0  1.0  0.0  0.0     0.0  0.0  1.0  0.0  0.0  0.0  0.0\n",
       " 0.0  0.0  0.0  0.0  0.0  0.0  0.0  0.0     0.0  0.0  0.0  0.0  0.0  0.0  0.0\n",
       " 0.0  0.0  0.0  0.0  0.0  0.0  0.0  0.0     0.0  0.0  0.0  0.0  0.0  0.0  0.0\n",
       " 1.0  0.0  0.0  0.0  1.0  0.0  1.0  0.0     0.0  1.0  0.0  1.0  0.0  1.0  0.0\n",
       " 0.0  0.0  0.0  0.0  0.0  0.0  0.0  0.0  …  0.0  0.0  0.0  0.0  0.0  0.0  0.0\n",
       " 0.0  0.0  0.0  0.0  0.0  0.0  0.0  0.0     0.0  0.0  0.0  0.0  0.0  0.0  0.0\n",
       " 0.0  0.0  0.0  0.0  0.0  0.0  0.0  0.0     0.0  0.0  0.0  0.0  0.0  0.0  0.0\n",
       " 0.0  0.0  0.0  0.0  0.0  0.0  0.0  0.0     0.0  0.0  0.0  0.0  0.0  0.0  0.0\n",
       " 0.0  0.0  0.0  0.0  0.0  0.0  0.0  0.0     0.0  0.0  0.0  0.0  0.0  0.0  0.0\n",
       " 0.0  0.0  0.0  0.0  0.0  0.0  0.0  0.0  …  0.0  0.0  0.0  0.0  0.0  0.0  0.0\n",
       " 0.0  0.0  0.0  0.0  0.0  0.0  0.0  0.0     0.0  0.0  0.0  0.0  0.0  0.0  0.0\n",
       " 0.0  0.0  0.0  0.0  0.0  0.0  0.0  0.0     0.0  0.0  0.0  0.0  0.0  0.0  0.0\n",
       " ⋮                        ⋮              ⋱            ⋮                      \n",
       " 1.0  0.0  1.0  0.0  1.0  0.0  0.0  0.0     0.0  0.0  0.0  0.0  0.0  1.0  0.0\n",
       " 0.0  0.0  1.0  0.0  0.0  0.0  0.0  0.0     0.0  0.0  0.0  0.0  0.0  1.0  0.0\n",
       " 0.0  0.0  0.0  0.0  0.0  0.0  0.0  0.0  …  0.0  0.0  0.0  0.0  0.0  0.0  0.0\n",
       " 0.0  0.0  0.0  0.0  0.0  0.0  0.0  0.0     0.0  0.0  0.0  0.0  0.0  0.0  0.0\n",
       " 0.0  0.0  0.0  0.0  0.0  0.0  0.0  0.0     0.0  0.0  0.0  0.0  0.0  0.0  0.0\n",
       " 0.0  0.0  1.0  0.0  0.0  0.0  0.0  0.0     0.0  0.0  0.0  0.0  0.0  1.0  0.0\n",
       " 0.0  0.0  0.0  0.0  0.0  0.0  0.0  0.0     0.0  0.0  0.0  0.0  0.0  0.0  0.0\n",
       " 0.0  0.0  0.0  0.0  0.0  0.0  0.0  0.0  …  0.0  0.0  0.0  0.0  0.0  0.0  0.0\n",
       " 0.0  0.0  0.0  0.0  0.0  0.0  0.0  0.0     0.0  0.0  0.0  0.0  0.0  0.0  0.0\n",
       " 0.0  0.0  0.0  0.0  0.0  0.0  0.0  0.0     0.0  0.0  0.0  0.0  0.0  0.0  0.0\n",
       " 0.0  0.0  0.0  0.0  0.0  0.0  0.0  0.0     0.0  0.0  0.0  0.0  0.0  0.0  0.0\n",
       " 1.0  0.0  1.0  0.0  1.0  0.0  0.0  0.0     0.0  0.0  0.0  0.0  0.0  1.0  0.0"
      ]
     },
     "execution_count": 10,
     "metadata": {},
     "output_type": "execute_result"
    }
   ],
   "source": [
    "@time H = copy(H')"
   ]
  },
  {
   "cell_type": "markdown",
   "metadata": {},
   "source": [
    "### Step 5: Test MendelImpute\n",
    "\n",
    "First need to transpose genotype data as well, because `MendelImpute` currently (11/13/2019) requires transposed version."
   ]
  },
  {
   "cell_type": "code",
   "execution_count": 15,
   "metadata": {
    "collapsed": false
   },
   "outputs": [
    {
     "data": {
      "text/plain": [
       "80000×400 Array{Union{Missing, Float32},2}:\n",
       " 0.0  0.0       0.0       0.0       …  0.0       0.0  0.0       0.0     \n",
       " 0.0  1.0       0.0       0.0          0.0       0.0  1.0       1.0     \n",
       " 1.0  0.0       0.0       0.0          0.0       0.0  0.0       0.0     \n",
       " 0.0  0.0       0.0       0.0          0.0       0.0  0.0       0.0     \n",
       " 2.0   missing  2.0       0.0           missing  2.0  1.0       1.0     \n",
       " 0.0   missing  0.0        missing  …  0.0       0.0  0.0       0.0     \n",
       " 0.0  0.0       0.0       0.0          0.0       0.0  0.0        missing\n",
       " 0.0  0.0       0.0       0.0           missing  0.0  0.0       0.0     \n",
       " 0.0   missing  0.0       0.0          0.0       0.0  0.0       0.0     \n",
       " 0.0  0.0       0.0       1.0          1.0       0.0  0.0       0.0     \n",
       " 0.0  0.0       0.0       0.0       …  0.0       0.0  0.0       0.0     \n",
       " 0.0  0.0        missing  0.0          0.0       0.0  0.0       0.0     \n",
       " 0.0  0.0       0.0       0.0          0.0       0.0  0.0       0.0     \n",
       " ⋮                                  ⋱                                   \n",
       " 1.0  1.0       2.0       1.0          1.0       1.0  2.0        missing\n",
       " 0.0  0.0       1.0        missing     0.0       0.0  0.0       0.0     \n",
       " 0.0  0.0       0.0       0.0       …   missing  0.0  0.0       0.0     \n",
       " 0.0  0.0       0.0        missing      missing  0.0   missing   missing\n",
       " 0.0  0.0       0.0       0.0          0.0       0.0  0.0       0.0     \n",
       " 0.0  0.0       1.0       0.0          0.0       0.0  0.0       0.0     \n",
       " 0.0  0.0        missing  0.0          0.0       0.0  0.0       0.0     \n",
       " 0.0   missing  0.0       0.0       …  0.0       0.0  0.0        missing\n",
       " 0.0  0.0       0.0       0.0          0.0       0.0  0.0       0.0     \n",
       " 0.0  0.0       0.0       0.0          0.0       0.0  0.0       0.0     \n",
       " 0.0  0.0       0.0       0.0          0.0       0.0  0.0       0.0     \n",
       " 1.0  1.0       2.0       1.0          1.0       1.0   missing   missing"
      ]
     },
     "execution_count": 15,
     "metadata": {},
     "output_type": "execute_result"
    }
   ],
   "source": [
    "X = copy(X')\n",
    "Xm = copy(Xm')\n",
    "Xm_original = copy(Xm)"
   ]
  },
  {
   "cell_type": "code",
   "execution_count": 16,
   "metadata": {
    "collapsed": false
   },
   "outputs": [
    {
     "data": {
      "text/plain": [
       "80000×400 Array{Union{Missing, Float32},2}:\n",
       " 0.0  0.0       0.0       0.0       …  0.0       0.0  0.0       0.0     \n",
       " 0.0  1.0       0.0       0.0          0.0       0.0  1.0       1.0     \n",
       " 1.0  0.0       0.0       0.0          0.0       0.0  0.0       0.0     \n",
       " 0.0  0.0       0.0       0.0          0.0       0.0  0.0       0.0     \n",
       " 2.0   missing  2.0       0.0           missing  2.0  1.0       1.0     \n",
       " 0.0   missing  0.0        missing  …  0.0       0.0  0.0       0.0     \n",
       " 0.0  0.0       0.0       0.0          0.0       0.0  0.0        missing\n",
       " 0.0  0.0       0.0       0.0           missing  0.0  0.0       0.0     \n",
       " 0.0   missing  0.0       0.0          0.0       0.0  0.0       0.0     \n",
       " 0.0  0.0       0.0       1.0          1.0       0.0  0.0       0.0     \n",
       " 0.0  0.0       0.0       0.0       …  0.0       0.0  0.0       0.0     \n",
       " 0.0  0.0        missing  0.0          0.0       0.0  0.0       0.0     \n",
       " 0.0  0.0       0.0       0.0          0.0       0.0  0.0       0.0     \n",
       " ⋮                                  ⋱                                   \n",
       " 1.0  1.0       2.0       1.0          1.0       1.0  2.0        missing\n",
       " 0.0  0.0       1.0        missing     0.0       0.0  0.0       0.0     \n",
       " 0.0  0.0       0.0       0.0       …   missing  0.0  0.0       0.0     \n",
       " 0.0  0.0       0.0        missing      missing  0.0   missing   missing\n",
       " 0.0  0.0       0.0       0.0          0.0       0.0  0.0       0.0     \n",
       " 0.0  0.0       1.0       0.0          0.0       0.0  0.0       0.0     \n",
       " 0.0  0.0        missing  0.0          0.0       0.0  0.0       0.0     \n",
       " 0.0   missing  0.0       0.0       …  0.0       0.0  0.0        missing\n",
       " 0.0  0.0       0.0       0.0          0.0       0.0  0.0       0.0     \n",
       " 0.0  0.0       0.0       0.0          0.0       0.0  0.0       0.0     \n",
       " 0.0  0.0       0.0       0.0          0.0       0.0  0.0       0.0     \n",
       " 1.0  1.0       2.0       1.0          1.0       1.0   missing   missing"
      ]
     },
     "execution_count": 16,
     "metadata": {},
     "output_type": "execute_result"
    }
   ],
   "source": [
    "Xm"
   ]
  },
  {
   "cell_type": "code",
   "execution_count": 17,
   "metadata": {
    "collapsed": false,
    "scrolled": false
   },
   "outputs": [
    {
     "data": {
      "text/plain": [
       "80000×19200 Array{Float32,2}:\n",
       " 0.0  0.0  0.0  0.0  0.0  0.0  0.0  0.0  …  0.0  0.0  0.0  0.0  0.0  0.0  0.0\n",
       " 0.0  0.0  0.0  0.0  0.0  1.0  0.0  0.0     0.0  0.0  1.0  0.0  0.0  0.0  0.0\n",
       " 0.0  0.0  0.0  0.0  0.0  0.0  0.0  0.0     0.0  0.0  0.0  0.0  0.0  0.0  0.0\n",
       " 0.0  0.0  0.0  0.0  0.0  0.0  0.0  0.0     0.0  0.0  0.0  0.0  0.0  0.0  0.0\n",
       " 1.0  0.0  0.0  0.0  1.0  0.0  1.0  0.0     0.0  1.0  0.0  1.0  0.0  1.0  0.0\n",
       " 0.0  0.0  0.0  0.0  0.0  0.0  0.0  0.0  …  0.0  0.0  0.0  0.0  0.0  0.0  0.0\n",
       " 0.0  0.0  0.0  0.0  0.0  0.0  0.0  0.0     0.0  0.0  0.0  0.0  0.0  0.0  0.0\n",
       " 0.0  0.0  0.0  0.0  0.0  0.0  0.0  0.0     0.0  0.0  0.0  0.0  0.0  0.0  0.0\n",
       " 0.0  0.0  0.0  0.0  0.0  0.0  0.0  0.0     0.0  0.0  0.0  0.0  0.0  0.0  0.0\n",
       " 0.0  0.0  0.0  0.0  0.0  0.0  0.0  0.0     0.0  0.0  0.0  0.0  0.0  0.0  0.0\n",
       " 0.0  0.0  0.0  0.0  0.0  0.0  0.0  0.0  …  0.0  0.0  0.0  0.0  0.0  0.0  0.0\n",
       " 0.0  0.0  0.0  0.0  0.0  0.0  0.0  0.0     0.0  0.0  0.0  0.0  0.0  0.0  0.0\n",
       " 0.0  0.0  0.0  0.0  0.0  0.0  0.0  0.0     0.0  0.0  0.0  0.0  0.0  0.0  0.0\n",
       " ⋮                        ⋮              ⋱            ⋮                      \n",
       " 1.0  0.0  1.0  0.0  1.0  0.0  0.0  0.0     0.0  0.0  0.0  0.0  0.0  1.0  0.0\n",
       " 0.0  0.0  1.0  0.0  0.0  0.0  0.0  0.0     0.0  0.0  0.0  0.0  0.0  1.0  0.0\n",
       " 0.0  0.0  0.0  0.0  0.0  0.0  0.0  0.0  …  0.0  0.0  0.0  0.0  0.0  0.0  0.0\n",
       " 0.0  0.0  0.0  0.0  0.0  0.0  0.0  0.0     0.0  0.0  0.0  0.0  0.0  0.0  0.0\n",
       " 0.0  0.0  0.0  0.0  0.0  0.0  0.0  0.0     0.0  0.0  0.0  0.0  0.0  0.0  0.0\n",
       " 0.0  0.0  1.0  0.0  0.0  0.0  0.0  0.0     0.0  0.0  0.0  0.0  0.0  1.0  0.0\n",
       " 0.0  0.0  0.0  0.0  0.0  0.0  0.0  0.0     0.0  0.0  0.0  0.0  0.0  0.0  0.0\n",
       " 0.0  0.0  0.0  0.0  0.0  0.0  0.0  0.0  …  0.0  0.0  0.0  0.0  0.0  0.0  0.0\n",
       " 0.0  0.0  0.0  0.0  0.0  0.0  0.0  0.0     0.0  0.0  0.0  0.0  0.0  0.0  0.0\n",
       " 0.0  0.0  0.0  0.0  0.0  0.0  0.0  0.0     0.0  0.0  0.0  0.0  0.0  0.0  0.0\n",
       " 0.0  0.0  0.0  0.0  0.0  0.0  0.0  0.0     0.0  0.0  0.0  0.0  0.0  0.0  0.0\n",
       " 1.0  0.0  1.0  0.0  1.0  0.0  0.0  0.0     0.0  0.0  0.0  0.0  0.0  1.0  0.0"
      ]
     },
     "execution_count": 17,
     "metadata": {},
     "output_type": "execute_result"
    }
   ],
   "source": [
    "H"
   ]
  },
  {
   "cell_type": "code",
   "execution_count": 30,
   "metadata": {
    "collapsed": false
   },
   "outputs": [
    {
     "name": "stdout",
     "output_type": "stream",
     "text": [
      " 30.927562 seconds (113.62 k allocations: 260.615 MiB, 13.40% gc time)\n"
     ]
    }
   ],
   "source": [
    "@time hapset, ph = phase2(Xm, H, width=3000); "
   ]
  },
  {
   "cell_type": "markdown",
   "metadata": {},
   "source": [
    "### Step 6: Calculate error"
   ]
  },
  {
   "cell_type": "markdown",
   "metadata": {},
   "source": [
    "#### 2000 haplotypes  \n",
    "+ "
   ]
  },
  {
   "cell_type": "markdown",
   "metadata": {},
   "source": [
    "#### 20,000 haplotypes (19200 as reference panels)\n",
    "+ width 50: error = 0.020779933032235538, time = 52.474786 sec\n",
    "+ width 400: error = 0.003887765749620765, time = 22.658061 sec\n",
    "+ width 800: error = 0.003113523197137645, time = 25.785471 sec\n",
    "+ width 1200: error = 0.0029020822096301534, time = 25.103432 sec\n",
    "+ width 2000: error = 0.0027278073632059576, time = 27.418955 sec\n",
    "+ width 3000: error = 0.003086038991966804, time = 30.927562 sec\n",
    "+ width 5000: error = 0.004203834109085435, time = 37.827126 sec"
   ]
  },
  {
   "cell_type": "code",
   "execution_count": 31,
   "metadata": {
    "collapsed": false
   },
   "outputs": [
    {
     "name": "stdout",
     "output_type": "stream",
     "text": [
      "error_rate = 0.003086038991966804\n"
     ]
    }
   ],
   "source": [
    "impute2!(Xm, H, ph)\n",
    "missing_idx    = ismissing.(Xm_original)\n",
    "total_missing  = sum(missing_idx)\n",
    "actual_missing_values  = convert(Vector{Int64}, X[missing_idx])  #true values of missing entries\n",
    "imputed_missing_values = convert(Vector{Int64}, Xm[missing_idx]) #imputed values of missing entries\n",
    "error_rate = sum(actual_missing_values .!= imputed_missing_values) / total_missing\n",
    "@show error_rate\n",
    "copyto!(Xm, Xm_original);"
   ]
  },
  {
   "cell_type": "code",
   "execution_count": null,
   "metadata": {
    "collapsed": true
   },
   "outputs": [],
   "source": []
  }
 ],
 "metadata": {
  "kernelspec": {
   "display_name": "Julia 1.2.0",
   "language": "julia",
   "name": "julia-1.2"
  },
  "language_info": {
   "file_extension": ".jl",
   "mimetype": "application/julia",
   "name": "julia",
   "version": "1.2.0"
  }
 },
 "nbformat": 4,
 "nbformat_minor": 2
}
