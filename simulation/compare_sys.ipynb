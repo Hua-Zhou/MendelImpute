{
 "cells": [
  {
   "cell_type": "markdown",
   "metadata": {},
   "source": [
    "# Systematic comparison of MendelImpute against Minimac4 and Beagle5"
   ]
  },
  {
   "cell_type": "code",
   "execution_count": 8,
   "metadata": {
    "collapsed": false
   },
   "outputs": [],
   "source": [
    "using Revise\n",
    "using VCFTools\n",
    "using MendelImpute\n",
    "using GeneticVariation\n",
    "using Random\n",
    "using Suppressor"
   ]
  },
  {
   "cell_type": "markdown",
   "metadata": {},
   "source": [
    "# Simulate data of various sizes \n",
    "\n",
    "## Step 0. Install `msprime`\n",
    "\n",
    "[msprime download Link](https://msprime.readthedocs.io/en/stable/installation.html).\n",
    "\n",
    "Some people might need to activate conda environment via `conda config --set auto_activate_base True`. You can turn it off once simulation is done by executing `conda config --set auto_activate_base False`.\n",
    "\n",
    "\n",
    "## Step 1. Simulate data in terminal"
   ]
  },
  {
   "cell_type": "markdown",
   "metadata": {},
   "source": [
    "```\n",
    "python3 msprime_script.py 50000 10000 10000000 2e-8 2e-8 2020 > ./compare_sys/data1.vcf\n",
    "python3 msprime_script.py 50000 10000 10000000 4e-8 4e-8 2020 > ./compare_sys/data2.vcf\n",
    "python3 msprime_script.py 50000 10000 100000000 2e-8 2e-8 2020 > ./compare_sys/data3.vcf\n",
    "python3 msprime_script.py 50000 10000 5000000 2e-8 2e-8 2020 > ./compare_sys/data4.vcf\n",
    "```"
   ]
  },
  {
   "cell_type": "markdown",
   "metadata": {},
   "source": [
    "###  Arguments: \n",
    "+ Number of haplotypes = 40000\n",
    "+ Effective population size = 10000 ([source](https://www.the-scientist.com/the-nutshell/ancient-humans-more-diverse-43556))\n",
    "+ Sequence length = 10 million (same as Beagle 5's choice)\n",
    "+ Rrecombination rate = 2e-8 (default)\n",
    "+ mutation rate = 2e-8 (default)\n",
    "+ seed = 2019"
   ]
  },
  {
   "cell_type": "code",
   "execution_count": 36,
   "metadata": {
    "collapsed": false
   },
   "outputs": [
    {
     "name": "stdout",
     "output_type": "stream",
     "text": [
      "nsamples(\"./compare_sys/data1.vcf.gz\") = 25000\n",
      "nrecords(\"./compare_sys/data1.vcf.gz\") = 90127\n",
      "nsamples(\"./compare_sys/data2.vcf.gz\") = 25000\n",
      "nrecords(\"./compare_sys/data2.vcf.gz\") = 182414\n",
      "nsamples(\"./compare_sys/data3.vcf.gz\") = 25000\n",
      "nrecords(\"./compare_sys/data3.vcf.gz\") = 909708\n",
      "nsamples(\"./compare_sys/data4.vcf\") = 25000\n",
      "nrecords(\"./compare_sys/data4.vcf\") = 44492\n"
     ]
    },
    {
     "data": {
      "text/plain": [
       "44492"
      ]
     },
     "execution_count": 36,
     "metadata": {},
     "output_type": "execute_result"
    }
   ],
   "source": [
    "@show nsamples(\"./compare_sys/data1.vcf.gz\")\n",
    "@show nrecords(\"./compare_sys/data1.vcf.gz\")\n",
    "@show nsamples(\"./compare_sys/data2.vcf.gz\")\n",
    "@show nrecords(\"./compare_sys/data2.vcf.gz\")\n",
    "@show nsamples(\"./compare_sys/data3.vcf.gz\")\n",
    "@show nrecords(\"./compare_sys/data3.vcf.gz\")\n",
    "@show nsamples(\"./compare_sys/data4.vcf.gz\")\n",
    "@show nrecords(\"./compare_sys/data4.vcf.gz\")"
   ]
  },
  {
   "cell_type": "markdown",
   "metadata": {},
   "source": [
    "## Step 2: Compress files to .gz"
   ]
  },
  {
   "cell_type": "code",
   "execution_count": 34,
   "metadata": {
    "collapsed": false
   },
   "outputs": [
    {
     "ename": "ProcessFailedException",
     "evalue": "failed process: Process(`cat ./compare_sys/data3.vcf '|' gzip '>' ./compare_sys/data3.vcf.gz`, ProcessSignaled(2)) [0]\n",
     "output_type": "error",
     "traceback": [
      "failed process: Process(`cat ./compare_sys/data3.vcf '|' gzip '>' ./compare_sys/data3.vcf.gz`, ProcessSignaled(2)) [0]\n",
      "",
      "Stacktrace:",
      " [1] pipeline_error at ./process.jl:525 [inlined]",
      " [2] #run#565(::Bool, ::typeof(run), ::Cmd) at ./process.jl:440",
      " [3] run(::Cmd) at ./process.jl:438",
      " [4] top-level scope at In[34]:1"
     ]
    }
   ],
   "source": [
    "# run these in terminal\n",
    "run(`cat data1.vcf | gzip > data1.vcf.gz`)\n",
    "run(`cat data2.vcf | gzip > data2.vcf.gz`)\n",
    "run(`cat data3.vcf | gzip > data3.vcf.gz`)\n",
    "run(`cat data4.vcf | gzip > data4.vcf.gz`)"
   ]
  },
  {
   "cell_type": "code",
   "execution_count": 32,
   "metadata": {
    "collapsed": false
   },
   "outputs": [
    {
     "name": "stderr",
     "output_type": "stream",
     "text": [
      "\u001b[32mCreating ./compare_sys/data1.vcf.gz...100%|█████████████| Time: 0:14:14\u001b[39m\n",
      "\u001b[32mCreating ./compare_sys/data2.vcf.gz...  0%|             |  ETA: 0:30:23\u001b[39m"
     ]
    },
    {
     "ename": "InterruptException",
     "evalue": "InterruptException:",
     "output_type": "error",
     "traceback": [
      "InterruptException:",
      "",
      "Stacktrace:",
      " [1] #compress_vcf_to_gz#92(::String, ::typeof(compress_vcf_to_gz), ::String) at /Users/biona001/.julia/dev/MendelImpute/src/simulate_utilities.jl:376",
      " [2] compress_vcf_to_gz(::String) at /Users/biona001/.julia/dev/MendelImpute/src/simulate_utilities.jl:365",
      " [3] top-level scope at In[32]:2"
     ]
    }
   ],
   "source": [
    "compress_vcf_to_gz(\"./compare_sys/data1.vcf\"); rm(\"./compare_sys/data1.vcf\", force=true)\n",
    "compress_vcf_to_gz(\"./compare_sys/data2.vcf\"); rm(\"./compare_sys/data2.vcf\", force=true)\n",
    "compress_vcf_to_gz(\"./compare_sys/data3.vcf\"); rm(\"./compare_sys/data3.vcf\", force=true)"
   ]
  },
  {
   "cell_type": "markdown",
   "metadata": {},
   "source": [
    "# Move over to hoffman now.\n",
    "\n",
    "Put scripts below in under `/u/home/b/biona001/haplotype_comparisons/data`:\n",
    "\n",
    "## `filter_and_mask.jl`\n",
    "```Julia\n",
    "using VCFTools\n",
    "using MendelImpute\n",
    "using Random\n",
    "\n",
    "\"\"\"\n",
    "    filter_and_mask(data::String, samples::Int)\n",
    "\n",
    "Creates reference haplotypes and (unphased) target genotype files from `data`. \n",
    "\n",
    "# Inputs\n",
    "`data`: The full (phased) data simulated by msprime.\n",
    "`samples`: Number of samples (genotypes) desired in target file. Remaining haplotypes will become the reference panel\n",
    "\"\"\"\n",
    "function filter_and_mask(data::String, samples::Int)\n",
    "    missingprop = 0.1\n",
    "    n = nsamples(data)\n",
    "    p = nrecords(data)\n",
    "    samples > n && error(\"requested samples exceed total number of genotypes in $data.\")\n",
    "\n",
    "    # output filenames (tgt_data1.vcf.gz, ref_data1.vcf.gz, and tgt_masked_data1.vcf.gz)\n",
    "    tgt = \"./tgt_\" * data\n",
    "    ref = \"./ref_\" * data\n",
    "    tgt_mask = \"./tgt_masked_\" * data\n",
    "    tgt_mask_unphase = \"./tgt_masked_unphased_\" * data\n",
    "\n",
    "    # compute target and reference index\n",
    "    tgt_index = falses(n)\n",
    "    tgt_index[1:samples] .= true\n",
    "    ref_index = .!tgt_index\n",
    "    record_index = 1:p # save all records (SNPs) \n",
    "\n",
    "    # generate masking matrix with `missingprop`% of trues (true = convert to missing)\n",
    "    Random.seed!(2020)\n",
    "    masks = falses(p, samples)\n",
    "    for j in 1:samples, i in 1:p\n",
    "        rand() < missingprop && (masks[i, j] = true)\n",
    "    end\n",
    "\n",
    "    # create outputs \n",
    "    VCFTools.filter(data, record_index, tgt_index, des = tgt)\n",
    "    VCFTools.filter(data, record_index, ref_index, des = ref)\n",
    "    mask_gt(tgt, masks, des=tgt_mask)\n",
    "\n",
    "    # finally, unphase the target data\n",
    "    unphase(tgt_mask, outfile=tgt_mask_unphase)\n",
    "end\n",
    "\n",
    "data = ARGS[1]\n",
    "samples = parse(Int, ARGS[2])\n",
    "filter_and_mask(data, samples)\n",
    "```\n",
    "\n",
    "## `mendel_fast.jl`\n",
    "```Julia\n",
    "using VCFTools\n",
    "using MendelImpute\n",
    "using GeneticVariation\n",
    "\n",
    "function run(data::String, width::Int)\n",
    "    tgtfile = \"./tgt_masked_unphased_\" * data\n",
    "    reffile = \"./ref_\" * data\n",
    "    outfile = \"./mendel_imputed_\" * data\n",
    "    phase(tgtfile, reffile, outfile = outfile, width = width, fast_method=true)\n",
    "end\n",
    "\n",
    "data  = ARGS[1]\n",
    "width = parse(Int, ARGS[2])\n",
    "run(data, width)\n",
    "```\n",
    "\n",
    "## `mendel_dp.jl`\n",
    "```Julia\n",
    "using VCFTools\n",
    "using MendelImpute\n",
    "using GeneticVariation\n",
    "\n",
    "function run(data::String, width::Int)\n",
    "    tgtfile = \"./tgt_masked_unphased_\" * data\n",
    "    reffile = \"./ref_\" * data\n",
    "    outfile = \"./mendel_imputed_\" * data\n",
    "    phase(tgtfile, reffile, outfile = outfile, width = width, fast_method=false)\n",
    "end\n",
    "\n",
    "data  = ARGS[1]\n",
    "width = parse(Int, ARGS[2])\n",
    "run(data, width)\n",
    "```"
   ]
  },
  {
   "cell_type": "markdown",
   "metadata": {},
   "source": [
    "## Step 1: filter files\n",
    "\n",
    "+ `ref_data1.vcf.gz`: haplotype reference files\n",
    "+ `tgt_data1.vcf.gz`: complete genotype information\n",
    "+ `tgt_masked_data1.vcf.gz`: the same as `tgt_data1.vcf.gz` except some entries are masked\n",
    "+ `tgt_masked_unphased_data1.vcf.gz`: the same as `tgt_data1.vcf.gz` except some entries are masked and heterzygotes are unphased. "
   ]
  },
  {
   "cell_type": "code",
   "execution_count": 39,
   "metadata": {
    "collapsed": false
   },
   "outputs": [
    {
     "data": {
      "text/plain": [
       "1000"
      ]
     },
     "execution_count": 39,
     "metadata": {},
     "output_type": "execute_result"
    }
   ],
   "source": [
    "# specify simulation parameters\n",
    "target_data = [\"data1.vcf.gz\", \"data4.vcf.gz\"]\n",
    "memory = 47 \n",
    "missingprop = 0.1\n",
    "samples = 1000"
   ]
  },
  {
   "cell_type": "code",
   "execution_count": null,
   "metadata": {
    "collapsed": true
   },
   "outputs": [],
   "source": [
    "cd(\"/u/home/b/biona001/haplotype_comparisons/data\")\n",
    "for data in target_data\n",
    "    # if unphased target genotype file exist already, move to next step\n",
    "    if isfile(data * \"./tgt_masked_unphased_\" * data)\n",
    "        continue \n",
    "    end\n",
    "\n",
    "    open(\"filter.sh\", \"w\") do io\n",
    "        println(io, \"#!/bin/bash\")\n",
    "        println(io, \"#\\$ -cwd\")\n",
    "        println(io, \"# error = Merged with joblog\")\n",
    "        println(io, \"#\\$ -o joblog.\\$JOB_ID\")\n",
    "        println(io, \"#\\$ -j y\")\n",
    "        println(io, \"#\\$ -l arch=intel-X5650,exclusive,h_rt=24:00:00,h_data=$(memory)G\")\n",
    "        println(io, \"# Email address to notify\")\n",
    "        println(io, \"#\\$ -M \\$USER@mail\")\n",
    "        println(io, \"# Notify when\")\n",
    "        println(io, \"#\\$ -m a\")\n",
    "        println(io)\n",
    "        println(io, \"echo \\\"Job \\$JOB_ID started on:   \\\" `hostname -s`\")\n",
    "        println(io, \"echo \\\"Job \\$JOB_ID started on:   \\\" `date `\")\n",
    "        println(io)\n",
    "        println(io, \"# load the job environment:\")\n",
    "        println(io, \". /u/local/Modules/default/init/modules.sh\")\n",
    "        println(io, \"module load julia/1.2.0\")\n",
    "        println(io, \"module load R/3.5.1\")\n",
    "        println(io, \"module load java/1.8.0_111\")\n",
    "        println(io)\n",
    "        println(io, \"# filter/mask data\")\n",
    "        println(io, \"julia ./filter_and_mask.jl $data $samples\")\n",
    "        println(io)\n",
    "        println(io, \"echo \\\"Job \\$JOB_ID ended on:   \\\" `hostname -s`\")\n",
    "        println(io, \"echo \\\"Job \\JOB_ID ended on:   \\\" `date `\")\n",
    "        println(io)\n",
    "    end\n",
    "\n",
    "    # submit job\n",
    "    run(`qsub filter.sh`)\n",
    "    rm(\"filter.sh\", force=true)\n",
    "    sleep(2)\n",
    "end"
   ]
  },
  {
   "cell_type": "markdown",
   "metadata": {},
   "source": [
    "## Step 2: prephasing using beagle 4.1"
   ]
  },
  {
   "cell_type": "code",
   "execution_count": null,
   "metadata": {
    "collapsed": true
   },
   "outputs": [],
   "source": [
    "for data in target_data\n",
    "    open(\"prephase.sh\", \"w\") do io\n",
    "        println(io, \"#!/bin/bash\")\n",
    "        println(io, \"#\\$ -cwd\")\n",
    "        println(io, \"# error = Merged with joblog\")\n",
    "        println(io, \"#\\$ -o joblog.\\$JOB_ID\")\n",
    "        println(io, \"#\\$ -j y\")\n",
    "        println(io, \"#\\$ -l arch=intel-X5650,exclusive,h_rt=24:00:00,h_data=$(memory)G\")\n",
    "        println(io, \"# Email address to notify\")\n",
    "        println(io, \"#\\$ -M \\$USER@mail\")\n",
    "        println(io, \"# Notify when\")\n",
    "        println(io, \"#\\$ -m a\")\n",
    "        println(io)\n",
    "        println(io, \"echo \\\"Job \\$JOB_ID started on:   \\\" `hostname -s`\")\n",
    "        println(io, \"echo \\\"Job \\$JOB_ID started on:   \\\" `date `\")\n",
    "        println(io)\n",
    "        println(io, \"# load the job environment:\")\n",
    "        println(io, \". /u/local/Modules/default/init/modules.sh\")\n",
    "        println(io, \"module load julia/1.2.0\")\n",
    "        println(io, \"module load R/3.5.1\")\n",
    "        println(io, \"module load java/1.8.0_111\")\n",
    "        println(io)\n",
    "        println(io, \"# run prephasing using beagle 4.1\")\n",
    "        println(io, \"java -Xss5m -Xmx$(memory)g -jar beagle4.1.jar gt=./tgt_masked_unphased_$(data) ref=./ref_$(data) niterations=0 out=./tgt_masked_phased_$(data)\")\n",
    "        println(io)\n",
    "        println(io, \"echo \\\"Job \\$JOB_ID ended on:   \\\" `hostname -s`\")\n",
    "        println(io, \"echo \\\"Job \\$JOB_ID ended on:   \\\" `date `\")\n",
    "        println(io)\n",
    "    end\n",
    "    # submit job\n",
    "    run(`qsub prephase.sh`)\n",
    "    rm(\"prephase.sh\", force=true)\n",
    "    sleep(2)\n",
    "end"
   ]
  },
  {
   "cell_type": "markdown",
   "metadata": {},
   "source": [
    "## Step 3: run MendelImpute "
   ]
  },
  {
   "cell_type": "code",
   "execution_count": null,
   "metadata": {
    "collapsed": true
   },
   "outputs": [],
   "source": [
    "widths = [400; 800; 1600]\n",
    "for data in target_data, width in widths\n",
    "    # fast version\n",
    "    open(\"mendel$width.sh\", \"w\") do io\n",
    "        println(io, \"#!/bin/bash\")\n",
    "        println(io, \"#\\$ -cwd\")\n",
    "        println(io, \"# error = Merged with joblog\")\n",
    "        println(io, \"#\\$ -o joblog.\\$JOB_ID\")\n",
    "        println(io, \"#\\$ -j y\")\n",
    "        println(io, \"#\\$ -l arch=intel-X5650,exclusive,h_rt=24:00:00,h_data=$(memory)G\")\n",
    "        println(io, \"# Email address to notify\")\n",
    "        println(io, \"#\\$ -M \\$USER@mail\")\n",
    "        println(io, \"# Notify when\")\n",
    "        println(io, \"#\\$ -m a\")\n",
    "        println(io)\n",
    "        println(io, \"echo \\\"Job \\$JOB_ID started on:   \\\" `hostname -s`\")\n",
    "        println(io, \"echo \\\"Job \\$JOB_ID started on:   \\\" `date `\")\n",
    "        println(io)\n",
    "        println(io, \"# load the job environment:\")\n",
    "        println(io, \". /u/local/Modules/default/init/modules.sh\")\n",
    "        println(io, \"module load julia/1.2.0\")\n",
    "        println(io, \"module load R/3.5.1\")\n",
    "        println(io, \"module load java/1.8.0_111\")\n",
    "        println(io)\n",
    "        println(io, \"# run MendelImpute (fast)\")\n",
    "        println(io, \"julia mendel_fast.jl $data $width\")\n",
    "        println(io)\n",
    "        println(io, \"echo \\\"Job \\$JOB_ID ended on:   \\\" `hostname -s`\")\n",
    "        println(io, \"echo \\\"Job \\$JOB_ID ended on:   \\\" `date `\")\n",
    "        println(io)\n",
    "    end\n",
    "    # submit job\n",
    "    run(`qsub mendel$width.sh`)\n",
    "    rm(\"mendel$width.sh\", force=true)\n",
    "    sleep(2)\n",
    "\n",
    "    # dynamic programming version\n",
    "    open(\"dp_mendel$width.sh\", \"w\") do io\n",
    "        println(io, \"#!/bin/bash\")\n",
    "        println(io, \"#\\$ -cwd\")\n",
    "        println(io, \"# error = Merged with joblog\")\n",
    "        println(io, \"#\\$ -o joblog.\\$JOB_ID\")\n",
    "        println(io, \"#\\$ -j y\")\n",
    "        println(io, \"#\\$ -l arch=intel-X5650,exclusive,h_rt=24:00:00,h_data=$(memory)G\")\n",
    "        println(io, \"# Email address to notify\")\n",
    "        println(io, \"#\\$ -M \\$USER@mail\")\n",
    "        println(io, \"# Notify when\")\n",
    "        println(io, \"#\\$ -m a\")\n",
    "        println(io)\n",
    "        println(io, \"echo \\\"Job \\$JOB_ID started on:   \\\" `hostname -s`\")\n",
    "        println(io, \"echo \\\"Job \\$JOB_ID started on:   \\\" `date `\")\n",
    "        println(io)\n",
    "        println(io, \"# load the job environment:\")\n",
    "        println(io, \". /u/local/Modules/default/init/modules.sh\")\n",
    "        println(io, \"module load julia/1.2.0\")\n",
    "        println(io, \"module load R/3.5.1\")\n",
    "        println(io, \"module load java/1.8.0_111\")\n",
    "        println(io)\n",
    "        println(io, \"# run MendelImpute (dynamic programming)\")\n",
    "        println(io, \"julia mendel_dp.jl $data $width\")\n",
    "        println(io)\n",
    "        println(io, \"echo \\\"Job \\$JOB_ID ended on:   \\\" `hostname -s`\")\n",
    "        println(io, \"echo \\\"Job \\$JOB_ID ended on:   \\\" `date `\")\n",
    "        println(io)\n",
    "    end\n",
    "    # submit job\n",
    "    run(`qsub dp_mendel$width.sh`)\n",
    "    rm(\"dp_mendel$width.sh\", force=true)\n",
    "    sleep(2)\n",
    "end"
   ]
  },
  {
   "cell_type": "code",
   "execution_count": null,
   "metadata": {
    "collapsed": true
   },
   "outputs": [],
   "source": []
  },
  {
   "cell_type": "code",
   "execution_count": null,
   "metadata": {
    "collapsed": true
   },
   "outputs": [],
   "source": []
  },
  {
   "cell_type": "code",
   "execution_count": null,
   "metadata": {
    "collapsed": true
   },
   "outputs": [],
   "source": []
  },
  {
   "cell_type": "code",
   "execution_count": null,
   "metadata": {
    "collapsed": true
   },
   "outputs": [],
   "source": []
  }
 ],
 "metadata": {
  "@webio": {
   "lastCommId": null,
   "lastKernelId": null
  },
  "kernelspec": {
   "display_name": "Julia 1.3.0-rc4",
   "language": "julia",
   "name": "julia-1.3"
  },
  "language_info": {
   "file_extension": ".jl",
   "mimetype": "application/julia",
   "name": "julia",
   "version": "1.3.1"
  }
 },
 "nbformat": 4,
 "nbformat_minor": 2
}
