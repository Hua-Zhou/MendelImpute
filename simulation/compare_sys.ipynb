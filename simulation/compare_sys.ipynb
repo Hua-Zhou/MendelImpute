{
 "cells": [
  {
   "cell_type": "markdown",
   "metadata": {},
   "source": [
    "# Systematic comparison of MendelImpute against Minimac4 and Beagle5"
   ]
  },
  {
   "cell_type": "code",
   "execution_count": 8,
   "metadata": {
    "collapsed": false
   },
   "outputs": [],
   "source": [
    "using Revise\n",
    "using VCFTools\n",
    "using MendelImpute\n",
    "using GeneticVariation\n",
    "using Random\n",
    "using Suppressor"
   ]
  },
  {
   "cell_type": "markdown",
   "metadata": {},
   "source": [
    "# Simulate data of various sizes \n",
    "\n",
    "## Step 0. Install `msprime`\n",
    "\n",
    "[msprime download Link](https://msprime.readthedocs.io/en/stable/installation.html).\n",
    "\n",
    "Some people might need to activate conda environment via `conda config --set auto_activate_base True`. You can turn it off once simulation is done by executing `conda config --set auto_activate_base False`.\n",
    "\n",
    "\n",
    "## Step 1. Simulate data in terminal"
   ]
  },
  {
   "cell_type": "markdown",
   "metadata": {},
   "source": [
    "```\n",
    "python3 msprime_script.py 50000 10000 10000000 2e-8 2e-8 2020 > ./compare_sys/data1.vcf\n",
    "python3 msprime_script.py 50000 10000 10000000 4e-8 4e-8 2020 > ./compare_sys/data2.vcf\n",
    "python3 msprime_script.py 50000 10000 100000000 2e-8 2e-8 2020 > ./compare_sys/data3.vcf\n",
    "python3 msprime_script.py 50000 10000 5000000 2e-8 2e-8 2020 > ./compare_sys/data4.vcf\n",
    "```"
   ]
  },
  {
   "cell_type": "code",
   "execution_count": 30,
   "metadata": {
    "collapsed": false
   },
   "outputs": [
    {
     "name": "stdout",
     "output_type": "stream",
     "text": [
      "nsamples(\"./compare_sys/data1.vcf\") = 25000\n",
      "nrecords(\"./compare_sys/data1.vcf\") = 90127\n",
      "nsamples(\"./compare_sys/data2.vcf\") = 25000\n",
      "nrecords(\"./compare_sys/data2.vcf\") = 182414\n",
      "nsamples(\"./compare_sys/data3.vcf\") = 25000\n",
      "nrecords(\"./compare_sys/data3.vcf\") = 909708\n"
     ]
    },
    {
     "data": {
      "text/plain": [
       "909708"
      ]
     },
     "execution_count": 30,
     "metadata": {},
     "output_type": "execute_result"
    }
   ],
   "source": [
    "@show nsamples(\"./compare_sys/data1.vcf\")\n",
    "@show nrecords(\"./compare_sys/data1.vcf\")\n",
    "@show nsamples(\"./compare_sys/data2.vcf\")\n",
    "@show nrecords(\"./compare_sys/data2.vcf\")\n",
    "@show nsamples(\"./compare_sys/data3.vcf\")\n",
    "@show nrecords(\"./compare_sys/data3.vcf\")\n",
    "@show nsamples(\"./compare_sys/data4.vcf\")\n",
    "@show nrecords(\"./compare_sys/data4.vcf\")"
   ]
  },
  {
   "cell_type": "markdown",
   "metadata": {},
   "source": [
    "###  Arguments: \n",
    "+ Number of haplotypes = 40000\n",
    "+ Effective population size = 10000 ([source](https://www.the-scientist.com/the-nutshell/ancient-humans-more-diverse-43556))\n",
    "+ Sequence length = 10 million (same as Beagle 5's choice)\n",
    "+ Rrecombination rate = 2e-8 (default)\n",
    "+ mutation rate = 2e-8 (default)\n",
    "+ seed = 2019"
   ]
  },
  {
   "cell_type": "markdown",
   "metadata": {},
   "source": [
    "## Step 2: Compress files to .gz"
   ]
  },
  {
   "cell_type": "code",
   "execution_count": 34,
   "metadata": {
    "collapsed": false
   },
   "outputs": [
    {
     "ename": "ProcessFailedException",
     "evalue": "failed process: Process(`cat ./compare_sys/data3.vcf '|' gzip '>' ./compare_sys/data3.vcf.gz`, ProcessSignaled(2)) [0]\n",
     "output_type": "error",
     "traceback": [
      "failed process: Process(`cat ./compare_sys/data3.vcf '|' gzip '>' ./compare_sys/data3.vcf.gz`, ProcessSignaled(2)) [0]\n",
      "",
      "Stacktrace:",
      " [1] pipeline_error at ./process.jl:525 [inlined]",
      " [2] #run#565(::Bool, ::typeof(run), ::Cmd) at ./process.jl:440",
      " [3] run(::Cmd) at ./process.jl:438",
      " [4] top-level scope at In[34]:1"
     ]
    }
   ],
   "source": [
    "# run these in terminal\n",
    "run(`cat data1.vcf | gzip > data1.vcf.gz`)\n",
    "run(`cat data2.vcf | gzip > data2.vcf.gz`)\n",
    "run(`cat data3.vcf | gzip > data3.vcf.gz`)"
   ]
  },
  {
   "cell_type": "code",
   "execution_count": 32,
   "metadata": {
    "collapsed": false
   },
   "outputs": [
    {
     "name": "stderr",
     "output_type": "stream",
     "text": [
      "\u001b[32mCreating ./compare_sys/data1.vcf.gz...100%|█████████████| Time: 0:14:14\u001b[39m\n",
      "\u001b[32mCreating ./compare_sys/data2.vcf.gz...  0%|             |  ETA: 0:30:23\u001b[39m"
     ]
    },
    {
     "ename": "InterruptException",
     "evalue": "InterruptException:",
     "output_type": "error",
     "traceback": [
      "InterruptException:",
      "",
      "Stacktrace:",
      " [1] #compress_vcf_to_gz#92(::String, ::typeof(compress_vcf_to_gz), ::String) at /Users/biona001/.julia/dev/MendelImpute/src/simulate_utilities.jl:376",
      " [2] compress_vcf_to_gz(::String) at /Users/biona001/.julia/dev/MendelImpute/src/simulate_utilities.jl:365",
      " [3] top-level scope at In[32]:2"
     ]
    }
   ],
   "source": [
    "compress_vcf_to_gz(\"./compare_sys/data1.vcf\"); rm(\"./compare_sys/data1.vcf\", force=true)\n",
    "compress_vcf_to_gz(\"./compare_sys/data2.vcf\"); rm(\"./compare_sys/data2.vcf\", force=true)\n",
    "compress_vcf_to_gz(\"./compare_sys/data3.vcf\"); rm(\"./compare_sys/data3.vcf\", force=true)"
   ]
  },
  {
   "cell_type": "markdown",
   "metadata": {},
   "source": [
    "## Step 3: filter files\n",
    "\n",
    "+ `haplo_ref.vcf.gz`: haplotype reference files\n",
    "+ `target.vcf.gz`: complete genotype information\n",
    "+ `target_masked.vcf.gz`: the same as `target.vcf.gz` except some entries are masked"
   ]
  },
  {
   "cell_type": "code",
   "execution_count": 4,
   "metadata": {
    "collapsed": false
   },
   "outputs": [
    {
     "name": "stdout",
     "output_type": "stream",
     "text": [
      "records = 35897\n",
      "samples = 2000\n",
      " 70.297829 seconds (397.28 M allocations: 33.310 GiB, 11.51% gc time)\n",
      " 67.404677 seconds (395.78 M allocations: 33.237 GiB, 11.69% gc time)\n",
      " 18.210343 seconds (144.39 M allocations: 12.666 GiB, 17.95% gc time)\n"
     ]
    }
   ],
   "source": [
    "records, samples = nrecords(\"full.vcf\"), nsamples(\"full.vcf\")\n",
    "@show records\n",
    "@show samples;\n",
    "\n",
    "# compute target and reference index\n",
    "tgt_index = falses(samples)\n",
    "tgt_index[samples-999:end] .= true\n",
    "ref_index = .!tgt_index\n",
    "record_index = trues(records) # save all records (SNPs) \n",
    "\n",
    "# create target.vcf.gz and haplo_ref.vcf.gz\n",
    "@time VCFTools.filter(\"full.vcf\", record_index, tgt_index, des = \"target.vcf.gz\")\n",
    "@time VCFTools.filter(\"full.vcf\", record_index, ref_index, des = \"haplo_ref.vcf.gz\")\n",
    "\n",
    "# import full target matrix. Also transpose so that columns are samples. \n",
    "@time X = convert_gt(Float32, \"target.vcf.gz\"; as_minorallele=false)\n",
    "X = copy(X')\n",
    "\n",
    "# mask 10% entries\n",
    "p, n = size(X)\n",
    "Random.seed!(123)\n",
    "missingprop = 0.1\n",
    "X .= ifelse.(rand(Float32, p, n) .< missingprop, missing, X)\n",
    "masks = ismissing.(X)\n",
    "\n",
    "# save X to new VCF file\n",
    "mask_gt(\"target.vcf.gz\", masks, des=\"target_masked.vcf.gz\")"
   ]
  }
 ],
 "metadata": {
  "@webio": {
   "lastCommId": null,
   "lastKernelId": null
  },
  "kernelspec": {
   "display_name": "Julia 1.3.0-rc4",
   "language": "julia",
   "name": "julia-1.3"
  },
  "language_info": {
   "file_extension": ".jl",
   "mimetype": "application/julia",
   "name": "julia",
   "version": "1.3.1"
  }
 },
 "nbformat": 4,
 "nbformat_minor": 2
}
