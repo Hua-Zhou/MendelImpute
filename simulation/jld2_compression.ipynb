{
 "cells": [
  {
   "cell_type": "markdown",
   "metadata": {},
   "source": [
    "# Test JLD2 compression"
   ]
  },
  {
   "cell_type": "code",
   "execution_count": 4,
   "metadata": {
    "collapsed": false
   },
   "outputs": [
    {
     "name": "stderr",
     "output_type": "stream",
     "text": [
      "┌ Info: Precompiling MendelImpute [e47305d1-6a61-5370-bc5d-77554d143183]\n",
      "└ @ Base loading.jl:1273\n"
     ]
    }
   ],
   "source": [
    "using Revise\n",
    "using VCFTools\n",
    "using MendelImpute\n",
    "using GeneticVariation\n",
    "using Random\n",
    "using SparseArrays\n",
    "using JLD2, FileIO\n",
    "# using Plots\n",
    "# using ProfileView"
   ]
  },
  {
   "cell_type": "markdown",
   "metadata": {},
   "source": [
    "## Check reading speed and file size for simulated data"
   ]
  },
  {
   "cell_type": "code",
   "execution_count": 7,
   "metadata": {
    "collapsed": false
   },
   "outputs": [
    {
     "name": "stderr",
     "output_type": "stream",
     "text": [
      "\u001b[32mImporting reference haplotype files...100%|█████████████| Time: 0:00:07\u001b[39m\n"
     ]
    },
    {
     "name": "stdout",
     "output_type": "stream",
     "text": [
      " 10.659887 seconds (78.87 M allocations: 5.672 GiB, 8.19% gc time)\n"
     ]
    }
   ],
   "source": [
    "reffile = \"haplo_ref.vcf.gz\"\n",
    "outfile = \"haplo_ref.jld2\"\n",
    "@time hapset = save_jld2(reffile, outfile, column_major=true);"
   ]
  },
  {
   "cell_type": "code",
   "execution_count": 37,
   "metadata": {
    "collapsed": false
   },
   "outputs": [
    {
     "name": "stderr",
     "output_type": "stream",
     "text": [
      "gzip: haplo_ref.jld2.gz already exists -- skipping\n",
      "gzip: haplo_ref.jld2.gz already has .gz suffix -- unchanged\n"
     ]
    }
   ],
   "source": [
    ";gzip haplo_ref.jld2 haplo_ref.jld2.gz"
   ]
  },
  {
   "cell_type": "code",
   "execution_count": 10,
   "metadata": {
    "collapsed": false
   },
   "outputs": [
    {
     "name": "stdout",
     "output_type": "stream",
     "text": [
      "-rw-r--r--@ 1 biona001  staff  5449864 Apr  5 19:59 haplo_ref.vcf.gz\n"
     ]
    }
   ],
   "source": [
    ";ls -al haplo_ref.vcf.gz # original size of ref file (bytes)"
   ]
  },
  {
   "cell_type": "code",
   "execution_count": 11,
   "metadata": {
    "collapsed": false
   },
   "outputs": [
    {
     "name": "stdout",
     "output_type": "stream",
     "text": [
      "-rw-r--r--  1 biona001  staff  20318574 May 27 22:50 haplo_ref.jld2\n"
     ]
    }
   ],
   "source": [
    ";ls -al haplo_ref.jld2 # size of .jld2 file (bytes)"
   ]
  },
  {
   "cell_type": "code",
   "execution_count": 35,
   "metadata": {
    "collapsed": false
   },
   "outputs": [
    {
     "name": "stdout",
     "output_type": "stream",
     "text": [
      "-rw-r--r--@ 1 biona001  staff  6754174 May 27 22:50 haplo_ref.jld2.gz\n"
     ]
    }
   ],
   "source": [
    ";ls -al haplo_ref.jld2.gz # size of .jld2.gz file (bytes)"
   ]
  },
  {
   "cell_type": "code",
   "execution_count": 33,
   "metadata": {
    "collapsed": false
   },
   "outputs": [
    {
     "data": {
      "text/plain": [
       "3.7282717513684744"
      ]
     },
     "execution_count": 33,
     "metadata": {},
     "output_type": "execute_result"
    }
   ],
   "source": [
    "20318574 / 5449864 # .jld2 is larger file size"
   ]
  },
  {
   "cell_type": "code",
   "execution_count": 36,
   "metadata": {
    "collapsed": false
   },
   "outputs": [
    {
     "data": {
      "text/plain": [
       "1.2393289080241268"
      ]
     },
     "execution_count": 36,
     "metadata": {},
     "output_type": "execute_result"
    }
   ],
   "source": [
    "6754174 / 5449864 # .jld2.gz is larger file size"
   ]
  },
  {
   "cell_type": "code",
   "execution_count": 19,
   "metadata": {
    "collapsed": false
   },
   "outputs": [
    {
     "name": "stderr",
     "output_type": "stream",
     "text": [
      "\u001b[32mImporting reference haplotype files...100%|█████████████| Time: 0:00:06\u001b[39m\n"
     ]
    },
    {
     "name": "stdout",
     "output_type": "stream",
     "text": [
      "  7.085228 seconds (72.34 M allocations: 5.389 GiB, 9.18% gc time)\n",
      "  0.065357 seconds (585.73 k allocations: 49.473 MiB, 16.52% gc time)\n"
     ]
    }
   ],
   "source": [
    "#difference in reading speed\n",
    "@time H, H_sampleID, H_chr, H_pos, H_ids, H_ref, H_alt = convert_ht(Bool, reffile, trans=true, save_snp_info=true, msg = \"Importing reference haplotype files...\")\n",
    "@time @load \"haplo_ref.jld2\" hapset;"
   ]
  },
  {
   "cell_type": "code",
   "execution_count": 32,
   "metadata": {
    "collapsed": false
   },
   "outputs": [
    {
     "data": {
      "text/plain": [
       "108.40809706687884"
      ]
     },
     "execution_count": 32,
     "metadata": {},
     "output_type": "execute_result"
    }
   ],
   "source": [
    "7.085228 / 0.065357"
   ]
  },
  {
   "cell_type": "markdown",
   "metadata": {},
   "source": [
    "## Check reading speed and file size for chr22 data in 1000 genomes"
   ]
  },
  {
   "cell_type": "code",
   "execution_count": 20,
   "metadata": {
    "collapsed": false,
    "scrolled": true
   },
   "outputs": [
    {
     "name": "stderr",
     "output_type": "stream",
     "text": [
      "\u001b[32mImporting reference haplotype files...100%|█████████████| Time: 0:03:27\u001b[39m\n"
     ]
    },
    {
     "name": "stdout",
     "output_type": "stream",
     "text": [
      "233.106226 seconds (3.27 G allocations: 242.340 GiB, 18.42% gc time)\n"
     ]
    }
   ],
   "source": [
    "reffile = \"chr22.uniqueSNPs.vcf.gz\"\n",
    "outfile = \"chr22.uniqueSNPs.jld2\"\n",
    "@time hapset = save_jld2(reffile, outfile, column_major=true);"
   ]
  },
  {
   "cell_type": "code",
   "execution_count": 38,
   "metadata": {
    "collapsed": false
   },
   "outputs": [
    {
     "name": "stderr",
     "output_type": "stream",
     "text": [
      "gzip: chr22.uniqueSNPs.jld2.gz already has .gz suffix -- unchanged\n"
     ]
    }
   ],
   "source": [
    ";gzip chr22.uniqueSNPs.jld2 chr22.uniqueSNPs.jld2.gz"
   ]
  },
  {
   "cell_type": "code",
   "execution_count": 27,
   "metadata": {
    "collapsed": false
   },
   "outputs": [
    {
     "name": "stdout",
     "output_type": "stream",
     "text": [
      "-rw-r--r--  1 biona001  staff  142889955 Apr 20 11:38 chr22.uniqueSNPs.vcf.gz\n"
     ]
    }
   ],
   "source": [
    ";ls -al chr22.uniqueSNPs.vcf.gz # original size of ref file (bytes)"
   ]
  },
  {
   "cell_type": "code",
   "execution_count": 28,
   "metadata": {
    "collapsed": false
   },
   "outputs": [
    {
     "name": "stdout",
     "output_type": "stream",
     "text": [
      "-rw-r--r--  1 biona001  staff  615840218 May 27 23:06 chr22.uniqueSNPs.jld2\n"
     ]
    }
   ],
   "source": [
    ";ls -al chr22.uniqueSNPs.jld2 # size of .jld2 file (bytes)"
   ]
  },
  {
   "cell_type": "code",
   "execution_count": 39,
   "metadata": {
    "collapsed": false
   },
   "outputs": [
    {
     "name": "stdout",
     "output_type": "stream",
     "text": [
      "-rw-r--r--  1 biona001  staff  187644621 May 27 23:06 chr22.uniqueSNPs.jld2.gz\n"
     ]
    }
   ],
   "source": [
    ";ls -al chr22.uniqueSNPs.jld2.gz # size of .jld2.gz file (bytes)"
   ]
  },
  {
   "cell_type": "code",
   "execution_count": 30,
   "metadata": {
    "collapsed": false
   },
   "outputs": [
    {
     "data": {
      "text/plain": [
       "4.309891608545891"
      ]
     },
     "execution_count": 30,
     "metadata": {},
     "output_type": "execute_result"
    }
   ],
   "source": [
    "615840218 / 142889955 # .jld2 is larger file size"
   ]
  },
  {
   "cell_type": "code",
   "execution_count": 40,
   "metadata": {
    "collapsed": false
   },
   "outputs": [
    {
     "data": {
      "text/plain": [
       "1.3132107221952727"
      ]
     },
     "execution_count": 40,
     "metadata": {},
     "output_type": "execute_result"
    }
   ],
   "source": [
    "187644621 / 142889955 # .jld2.gz is larger file size"
   ]
  },
  {
   "cell_type": "code",
   "execution_count": 26,
   "metadata": {
    "collapsed": false
   },
   "outputs": [
    {
     "name": "stderr",
     "output_type": "stream",
     "text": [
      "\u001b[32mImporting reference haplotype files...100%|█████████████| Time: 0:03:42\u001b[39m\n"
     ]
    },
    {
     "name": "stdout",
     "output_type": "stream",
     "text": [
      "242.880364 seconds (3.24 G allocations: 241.675 GiB, 17.22% gc time)\n",
      "  1.496514 seconds (10.41 M allocations: 1.045 GiB, 23.09% gc time)\n"
     ]
    }
   ],
   "source": [
    "#difference in reading speed\n",
    "@time H, H_sampleID, H_chr, H_pos, H_ids, H_ref, H_alt = convert_ht(Bool, reffile, trans=true, save_snp_info=true, msg = \"Importing reference haplotype files...\")\n",
    "@time @load \"chr22.uniqueSNPs.jld2\" hapset;"
   ]
  },
  {
   "cell_type": "code",
   "execution_count": 31,
   "metadata": {
    "collapsed": false
   },
   "outputs": [
    {
     "data": {
      "text/plain": [
       "162.29742187510442"
      ]
     },
     "execution_count": 31,
     "metadata": {},
     "output_type": "execute_result"
    }
   ],
   "source": [
    "242.880364 / 1.496514"
   ]
  }
 ],
 "metadata": {
  "@webio": {
   "lastCommId": null,
   "lastKernelId": null
  },
  "kernelspec": {
   "display_name": "Julia 1.3.0-rc4",
   "language": "julia",
   "name": "julia-1.3"
  },
  "language_info": {
   "file_extension": ".jl",
   "mimetype": "application/julia",
   "name": "julia",
   "version": "1.3.1"
  }
 },
 "nbformat": 4,
 "nbformat_minor": 2
}
