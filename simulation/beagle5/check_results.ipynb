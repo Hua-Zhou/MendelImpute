{
 "cells": [
  {
   "cell_type": "markdown",
   "metadata": {},
   "source": [
    "# Beagle 5.0 results\n",
    "\n",
    "The code was run on Hoffman2."
   ]
  },
  {
   "cell_type": "code",
   "execution_count": 2,
   "metadata": {
    "collapsed": false
   },
   "outputs": [],
   "source": [
    "using CSV\n",
    "using DelimitedFiles\n",
    "using VCFTools"
   ]
  },
  {
   "cell_type": "markdown",
   "metadata": {},
   "source": [
    "# Using haplotype reference panels"
   ]
  },
  {
   "cell_type": "markdown",
   "metadata": {},
   "source": [
    "### Import results"
   ]
  },
  {
   "cell_type": "code",
   "execution_count": 38,
   "metadata": {
    "collapsed": false
   },
   "outputs": [
    {
     "name": "stdout",
     "output_type": "stream",
     "text": [
      "  3.746647 seconds (72.63 M allocations: 6.497 GiB, 19.85% gc time)\n"
     ]
    },
    {
     "data": {
      "text/plain": [
       "400×30000 Array{Union{Missing, Int64},2}:\n",
       " 2  2  2  0  2  0  2  0  0  2  2  2  0  …  0  0  0  0  0  0  1  0  0  0  0  0\n",
       " 0  0  0  0  0  0  0  0  0  0  0  0  0     1  0  0  0  0  0  2  0  0  0  0  0\n",
       " 1  1  1  0  1  0  1  0  0  1  1  1  0     1  0  0  0  0  0  1  0  0  0  0  0\n",
       " 2  2  2  0  2  0  2  0  0  2  2  2  0     1  1  0  0  0  0  1  0  0  0  0  0\n",
       " 1  1  1  0  1  0  1  0  0  1  1  1  0     1  0  0  0  0  0  1  0  0  0  0  0\n",
       " 1  1  1  0  1  0  1  0  0  1  1  1  0  …  0  0  0  0  0  0  0  0  0  0  0  0\n",
       " 1  1  1  0  1  0  1  0  0  1  1  1  0     0  0  0  0  0  0  0  0  0  0  0  0\n",
       " 1  1  1  0  1  0  1  0  0  1  1  1  0     0  0  0  0  0  0  0  0  0  0  0  0\n",
       " 1  1  1  0  1  0  1  1  0  1  1  1  0     2  1  0  0  0  0  2  0  0  0  0  0\n",
       " 1  1  1  0  1  0  1  0  0  1  1  1  0     1  0  0  0  0  0  1  0  0  0  0  0\n",
       " 1  1  1  0  1  0  1  0  0  1  1  1  0  …  0  0  0  0  0  0  0  0  0  0  0  0\n",
       " 2  2  2  0  2  0  2  0  0  1  1  1  0     1  0  0  0  0  0  1  0  0  0  0  0\n",
       " 2  2  2  0  2  0  2  0  0  1  1  1  0     0  0  0  0  0  1  0  0  0  0  0  0\n",
       " ⋮              ⋮              ⋮        ⋱        ⋮              ⋮            \n",
       " 1  1  1  0  1  0  1  0  0  1  1  1  0     0  0  0  0  0  0  0  0  0  0  0  0\n",
       " 0  0  0  0  0  0  0  0  0  0  0  0  0     0  0  0  0  0  0  0  0  0  0  0  0\n",
       " 2  2  2  0  2  0  2  0  0  2  2  2  0  …  0  0  0  0  0  0  0  0  0  0  0  0\n",
       " 2  2  2  0  2  0  2  0  0  2  2  2  0     1  0  0  0  0  0  1  0  0  0  0  0\n",
       " 1  1  1  0  1  0  1  0  0  1  1  1  0     0  0  0  0  0  0  0  0  0  0  0  0\n",
       " 1  1  1  0  1  0  1  0  0  1  1  1  0     1  0  0  0  0  0  1  0  0  0  0  0\n",
       " 2  2  2  0  2  0  2  0  0  2  2  2  0     1  1  0  0  0  0  1  0  0  0  0  0\n",
       " 0  0  0  0  0  0  0  0  0  0  0  0  0  …  1  0  0  0  0  0  1  0  0  0  0  0\n",
       " 1  1  1  0  1  0  1  0  0  0  0  0  0     1  0  0  0  0  0  1  0  0  0  0  0\n",
       " 1  1  1  0  1  0  1  0  0  1  1  1  0     1  0  0  0  0  0  1  0  0  0  0  0\n",
       " 0  0  0  0  0  0  0  0  0  0  0  0  0     0  0  0  0  0  0  0  0  0  0  0  0\n",
       " 1  1  1  0  1  0  0  0  0  0  0  0  0     2  2  0  0  0  0  2  0  0  0  0  0"
      ]
     },
     "execution_count": 38,
     "metadata": {},
     "output_type": "execute_result"
    }
   ],
   "source": [
    "@time result = convert_gt(Int64, \"beagle5.0.result.vcf.gz\")"
   ]
  },
  {
   "cell_type": "markdown",
   "metadata": {},
   "source": [
    "### Complete genotype data"
   ]
  },
  {
   "cell_type": "code",
   "execution_count": 35,
   "metadata": {
    "collapsed": false
   },
   "outputs": [
    {
     "name": "stdout",
     "output_type": "stream",
     "text": [
      "  3.428360 seconds (72.63 M allocations: 6.496 GiB, 21.91% gc time)\n"
     ]
    },
    {
     "data": {
      "text/plain": [
       "400×30000 Array{Union{Missing, Int64},2}:\n",
       " 2  2  2  0  2  0  2  0  0  2  2  2  0  …  0  0  0  0  0  0  1  0  0  0  0  0\n",
       " 0  0  0  0  0  0  0  0  0  0  0  0  0     1  0  0  0  0  0  2  0  0  0  0  0\n",
       " 1  1  1  0  1  0  1  0  0  1  1  1  0     1  0  0  0  0  0  1  0  0  0  0  0\n",
       " 2  2  2  0  2  0  2  0  0  2  2  2  0     1  1  0  0  0  0  1  0  0  0  0  0\n",
       " 1  1  1  0  1  0  1  0  0  1  1  1  0     1  0  0  0  0  0  1  0  0  0  0  0\n",
       " 1  1  1  0  1  0  1  0  0  1  1  1  0  …  0  0  0  0  0  0  0  0  0  0  0  0\n",
       " 1  1  1  0  1  0  1  0  0  1  1  1  0     0  0  0  0  0  0  0  0  0  0  0  0\n",
       " 1  1  1  0  1  0  1  0  0  1  1  1  0     0  0  0  0  0  0  0  0  0  0  0  0\n",
       " 1  1  1  0  1  0  1  1  0  1  1  1  0     2  1  0  0  0  0  2  0  0  0  0  0\n",
       " 1  1  1  0  1  0  1  0  0  1  1  1  0     1  0  0  0  0  0  1  0  0  0  0  0\n",
       " 1  1  1  0  1  0  1  0  0  1  1  1  0  …  0  0  0  0  0  0  0  0  0  0  0  0\n",
       " 2  2  2  0  2  0  2  0  0  1  1  1  0     1  0  0  0  0  0  1  0  0  0  0  0\n",
       " 2  2  2  0  2  0  2  0  0  1  1  1  0     0  0  0  0  0  1  0  0  0  0  0  0\n",
       " ⋮              ⋮              ⋮        ⋱        ⋮              ⋮            \n",
       " 1  1  1  0  1  0  1  0  0  1  1  1  0     0  0  0  0  0  0  0  0  0  0  0  0\n",
       " 0  0  0  0  0  0  0  0  0  0  0  0  0     0  0  0  0  0  0  0  0  0  0  0  0\n",
       " 2  2  2  0  2  0  2  0  0  2  2  2  0  …  0  0  0  0  0  0  0  0  0  0  0  0\n",
       " 2  2  2  0  2  0  2  0  0  2  2  2  0     1  0  0  0  0  0  1  0  0  0  0  0\n",
       " 1  1  1  0  1  0  1  0  0  1  1  1  0     0  0  0  0  0  0  0  0  0  0  0  0\n",
       " 1  1  1  0  1  0  1  0  0  1  1  1  0     1  0  0  0  0  0  1  0  0  0  0  0\n",
       " 2  2  2  0  2  0  2  0  0  2  2  2  0     1  1  0  0  0  0  1  0  0  0  0  0\n",
       " 0  0  0  0  0  0  0  0  0  0  0  0  0  …  1  0  0  0  0  0  1  0  0  0  0  0\n",
       " 1  1  1  0  1  0  1  0  0  0  0  0  0     1  0  0  0  0  0  1  0  0  0  0  0\n",
       " 1  1  1  0  1  0  1  0  0  1  1  1  0     1  0  0  0  0  0  1  0  0  0  0  0\n",
       " 0  0  0  0  0  0  0  0  0  0  0  0  0     0  0  0  0  0  0  0  0  0  0  0  0\n",
       " 1  1  1  0  1  0  1  0  0  0  0  0  0     2  2  0  0  0  0  2  0  0  0  0  0"
      ]
     },
     "execution_count": 35,
     "metadata": {},
     "output_type": "execute_result"
    }
   ],
   "source": [
    "@time X = convert_gt(Int64, \"../2000_haps_30k_markers/target.vcf\")"
   ]
  },
  {
   "cell_type": "markdown",
   "metadata": {},
   "source": [
    "### Import mask information"
   ]
  },
  {
   "cell_type": "code",
   "execution_count": 36,
   "metadata": {
    "collapsed": false
   },
   "outputs": [
    {
     "data": {
      "text/plain": [
       "400×30000 Array{Bool,2}:\n",
       " 0  0  0  0  0  0  0  0  0  0  0  0  0  …  0  1  0  0  0  0  0  0  0  0  0  0\n",
       " 0  0  0  0  1  1  0  0  1  0  0  0  0     0  0  0  0  0  0  0  0  0  0  0  0\n",
       " 0  0  0  0  0  0  0  0  0  0  0  1  0     0  0  0  0  0  0  0  0  0  0  0  0\n",
       " 0  0  0  0  0  1  0  0  0  0  0  0  0     0  0  0  0  0  1  0  0  0  0  0  0\n",
       " 1  1  1  0  0  0  0  0  1  0  0  0  0     0  0  0  0  0  0  0  0  0  0  0  0\n",
       " 0  0  0  1  0  0  0  1  0  0  0  0  0  …  0  0  0  0  0  0  0  0  1  0  0  0\n",
       " 0  0  0  0  0  0  1  0  0  0  0  1  0     0  0  0  0  0  0  0  0  0  0  0  0\n",
       " 0  0  0  0  0  0  0  0  0  0  0  1  0     0  0  0  0  0  0  0  0  0  0  0  0\n",
       " 0  0  0  0  0  0  0  0  0  0  0  0  0     0  0  0  0  0  0  0  0  0  0  0  0\n",
       " 0  0  0  0  0  0  0  0  0  0  0  0  0     0  0  0  0  0  0  0  0  1  0  0  0\n",
       " 0  1  0  0  0  1  0  0  0  0  1  0  0  …  0  0  0  0  0  1  0  0  0  0  0  0\n",
       " 0  0  0  0  0  0  0  0  0  0  0  0  0     1  0  0  0  0  0  0  0  1  0  1  0\n",
       " 0  0  0  0  0  0  0  0  0  0  0  0  0     0  0  0  0  0  0  0  0  0  0  0  0\n",
       " ⋮              ⋮              ⋮        ⋱        ⋮              ⋮            \n",
       " 0  0  0  0  1  0  0  0  0  1  0  0  0     0  0  0  0  0  0  0  0  0  0  0  0\n",
       " 0  0  0  0  0  1  0  0  0  0  0  0  0     0  0  0  0  0  0  0  0  0  1  0  0\n",
       " 0  0  0  0  0  0  0  0  0  1  0  0  1  …  0  0  0  0  0  0  0  0  0  0  0  0\n",
       " 0  0  0  0  0  0  0  0  0  0  0  0  0     0  0  0  0  0  1  0  0  0  0  0  0\n",
       " 0  0  0  0  0  1  0  0  0  0  0  0  0     0  0  0  0  1  0  0  0  0  0  0  0\n",
       " 0  0  0  0  0  0  0  0  0  1  0  0  0     0  0  0  0  0  0  0  0  0  1  0  0\n",
       " 0  0  0  1  0  0  1  0  0  0  0  0  0     0  0  0  1  0  0  0  0  0  0  0  0\n",
       " 0  0  0  0  0  1  0  0  0  0  0  1  0  …  0  0  0  0  0  1  0  0  0  0  0  0\n",
       " 0  0  0  0  1  0  0  1  0  0  0  0  0     0  0  0  0  1  0  0  0  0  0  1  0\n",
       " 0  0  0  0  0  0  0  0  0  0  0  0  0     1  0  0  0  0  0  0  0  0  0  0  1\n",
       " 0  0  0  0  0  0  0  0  0  0  0  0  0     1  0  0  0  0  0  0  0  0  0  0  0\n",
       " 0  0  0  0  0  0  1  0  0  0  0  0  0     0  0  0  0  0  0  0  0  0  0  0  0"
      ]
     },
     "execution_count": 36,
     "metadata": {},
     "output_type": "execute_result"
    }
   ],
   "source": [
    "masks = readdlm(\"../2000_haps_30k_markers/masking_matrix\")\n",
    "masks = convert(Matrix{Bool}, masks)"
   ]
  },
  {
   "cell_type": "markdown",
   "metadata": {},
   "source": [
    "## Beagle 5.0's error rate:"
   ]
  },
  {
   "cell_type": "markdown",
   "metadata": {},
   "source": [
    "#### 2000 haplotypes, 30k markers\n",
    "error = 0.03519594218547439"
   ]
  },
  {
   "cell_type": "code",
   "execution_count": 39,
   "metadata": {
    "collapsed": false
   },
   "outputs": [
    {
     "data": {
      "text/plain": [
       "0.03519594218547439"
      ]
     },
     "execution_count": 39,
     "metadata": {},
     "output_type": "execute_result"
    }
   ],
   "source": [
    "total_missing = sum(masks)\n",
    "actual_missing_values = X[masks]  #true values of missing entries\n",
    "imputed_missing_values = result[masks] #imputed values of missing entries\n",
    "error_rate = sum(actual_missing_values .!= imputed_missing_values) / total_missing"
   ]
  },
  {
   "cell_type": "markdown",
   "metadata": {},
   "source": [
    "#### 20000 haplotypes, 40k markers"
   ]
  },
  {
   "cell_type": "code",
   "execution_count": 14,
   "metadata": {
    "collapsed": false
   },
   "outputs": [
    {
     "data": {
      "text/plain": [
       "0.004599337630381753"
      ]
     },
     "execution_count": 14,
     "metadata": {},
     "output_type": "execute_result"
    }
   ],
   "source": [
    "total_missing = sum(masks)\n",
    "actual_missing_values = X[masks]  #true values of missing entries\n",
    "imputed_missing_values = result[masks] #imputed values of missing entries\n",
    "error_rate = sum(actual_missing_values .!= imputed_missing_values) / total_missing"
   ]
  },
  {
   "cell_type": "markdown",
   "metadata": {},
   "source": [
    "#### 30000 haplotypes, 40k markers"
   ]
  },
  {
   "cell_type": "code",
   "execution_count": 26,
   "metadata": {
    "collapsed": false
   },
   "outputs": [
    {
     "data": {
      "text/plain": [
       "2.6874781642399156e-5"
      ]
     },
     "execution_count": 26,
     "metadata": {},
     "output_type": "execute_result"
    }
   ],
   "source": [
    "total_missing = sum(masks)\n",
    "actual_missing_values = X[masks]  #true values of missing entries\n",
    "imputed_missing_values = result[masks] #imputed values of missing entries\n",
    "error_rate = sum(actual_missing_values .!= imputed_missing_values) / total_missing"
   ]
  },
  {
   "cell_type": "markdown",
   "metadata": {},
   "source": [
    "#### 40000 haplotypes (10k markers)"
   ]
  },
  {
   "cell_type": "code",
   "execution_count": 31,
   "metadata": {
    "collapsed": false
   },
   "outputs": [
    {
     "data": {
      "text/plain": [
       "0.00022223332001598082"
      ]
     },
     "execution_count": 31,
     "metadata": {},
     "output_type": "execute_result"
    }
   ],
   "source": [
    "total_missing = sum(masks)\n",
    "actual_missing_values = X[masks]  #true values of missing entries\n",
    "imputed_missing_values = result[masks] #imputed values of missing entries\n",
    "error_rate = sum(actual_missing_values .!= imputed_missing_values) / total_missing"
   ]
  },
  {
   "cell_type": "code",
   "execution_count": null,
   "metadata": {
    "collapsed": true
   },
   "outputs": [],
   "source": []
  }
 ],
 "metadata": {
  "kernelspec": {
   "display_name": "Julia 1.2.0",
   "language": "julia",
   "name": "julia-1.2"
  },
  "language_info": {
   "file_extension": ".jl",
   "mimetype": "application/julia",
   "name": "julia",
   "version": "1.2.0"
  }
 },
 "nbformat": 4,
 "nbformat_minor": 2
}
