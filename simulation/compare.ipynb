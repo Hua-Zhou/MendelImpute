{
 "cells": [
  {
   "cell_type": "markdown",
   "metadata": {},
   "source": [
    "# Compare MendelImpute against Minimac4 and Beagle5 on simulated data"
   ]
  },
  {
   "cell_type": "code",
   "execution_count": 1,
   "metadata": {
    "collapsed": false
   },
   "outputs": [
    {
     "name": "stderr",
     "output_type": "stream",
     "text": [
      "┌ Warning: no Manifest.toml file found, static paths used\n",
      "└ @ Revise /Users/biona001/.julia/packages/Revise/439di/src/Revise.jl:1108\n",
      "┌ Info: Precompiling VCFTools [a620830f-fdd7-5ebc-8d26-3621ab35fbfe]\n",
      "└ @ Base loading.jl:1273\n",
      "┌ Info: Precompiling MendelImpute [e47305d1-6a61-5370-bc5d-77554d143183]\n",
      "└ @ Base loading.jl:1273\n"
     ]
    }
   ],
   "source": [
    "using Revise\n",
    "using VCFTools\n",
    "using MendelImpute\n",
    "using GeneticVariation\n",
    "using Random\n",
    "using SparseArrays"
   ]
  },
  {
   "cell_type": "markdown",
   "metadata": {},
   "source": [
    "# Simulate data\n",
    "\n",
    "### Step 0. Install `msprime`\n",
    "\n",
    "[msprime download Link](https://msprime.readthedocs.io/en/stable/installation.html).\n",
    "\n",
    "Some people might need to activate conda environment via `conda config --set auto_activate_base True`. You can turn it off once simulation is done by executing `conda config --set auto_activate_base False`.\n",
    "\n",
    "\n",
    "### Step 1. Simulate data in terminal\n",
    "\n",
    "```\n",
    "python3 msprime_script.py 4000 10000 5000000 2e-8 2e-8 2019 > full.vcf\n",
    "```\n",
    "\n",
    "Arguments: \n",
    "+ Number of haplotypes = 40000\n",
    "+ Effective population size = 10000 ([source](https://www.the-scientist.com/the-nutshell/ancient-humans-more-diverse-43556))\n",
    "+ Sequence length = 10 million (same as Beagle 5's choice)\n",
    "+ Rrecombination rate = 2e-8 (default)\n",
    "+ mutation rate = 2e-8 (default)\n",
    "+ seed = 2019"
   ]
  },
  {
   "cell_type": "markdown",
   "metadata": {},
   "source": [
    "### Step 2: Convert simulated haplotypes to reference haplotypes and target genotype files\n",
    "\n",
    "+ `haplo_ref.vcf.gz`: haplotype reference files\n",
    "+ `target.vcf.gz`: complete genotype information\n",
    "+ `target_masked.vcf.gz`: the same as `target.vcf.gz` except some entries are masked"
   ]
  },
  {
   "cell_type": "code",
   "execution_count": 6,
   "metadata": {
    "collapsed": false
   },
   "outputs": [
    {
     "name": "stdout",
     "output_type": "stream",
     "text": [
      "records = 35897\n",
      "samples = 2000\n",
      " 28.954614 seconds (395.78 M allocations: 33.237 GiB, 10.83% gc time)\n",
      " 27.976343 seconds (395.78 M allocations: 33.237 GiB, 10.68% gc time)\n",
      "  4.427550 seconds (72.59 M allocations: 6.247 GiB, 14.59% gc time)\n"
     ]
    }
   ],
   "source": [
    "records, samples = nrecords(\"full.vcf\"), nsamples(\"full.vcf\")\n",
    "@show records\n",
    "@show samples;\n",
    "\n",
    "# compute target and reference index\n",
    "tgt_index = falses(samples)\n",
    "tgt_index[samples-999:end] .= true\n",
    "ref_index = .!tgt_index\n",
    "record_index = trues(records) # save all records (SNPs) \n",
    "\n",
    "# create target.vcf.gz and haplo_ref.vcf.gz\n",
    "@time VCFTools.filter(\"full.vcf\", record_index, tgt_index, des = \"target.vcf.gz\")\n",
    "@time VCFTools.filter(\"full.vcf\", record_index, ref_index, des = \"haplo_ref.vcf.gz\")\n",
    "\n",
    "# import full target matrix. Also transpose so that columns are samples. \n",
    "@time X = convert_gt(Float32, \"target.vcf.gz\"; as_minorallele=false)\n",
    "X = copy(X')\n",
    "\n",
    "# mask 10% entries\n",
    "p, n = size(X)\n",
    "Random.seed!(123)\n",
    "missingprop = 0.1\n",
    "X .= ifelse.(rand(Float32, p, n) .< missingprop, missing, X)\n",
    "masks = ismissing.(X)\n",
    "\n",
    "# save X to new VCF file\n",
    "mask_gt(\"target.vcf.gz\", masks, des=\"target_masked.vcf.gz\")"
   ]
  },
  {
   "cell_type": "markdown",
   "metadata": {},
   "source": [
    "### Step 3: Read data after filtering"
   ]
  },
  {
   "cell_type": "code",
   "execution_count": 7,
   "metadata": {
    "collapsed": false
   },
   "outputs": [
    {
     "data": {
      "text/plain": [
       "1000×35897 Array{Union{Missing, Float32},2}:\n",
       " 0.0       0.0       0.0       0.0       …  0.0       0.0       0.0     \n",
       " 0.0       0.0       0.0       0.0          0.0       0.0       0.0     \n",
       " 0.0       0.0       0.0        missing      missing  0.0        missing\n",
       " 0.0       0.0        missing  0.0          0.0       0.0       0.0     \n",
       " 0.0       0.0       0.0       0.0          0.0       0.0       0.0     \n",
       " 0.0       0.0       0.0        missing  …  0.0       0.0       0.0     \n",
       " 0.0        missing  0.0       0.0          0.0       0.0       0.0     \n",
       " 0.0       0.0       0.0       0.0           missing  0.0       0.0     \n",
       " 0.0       0.0       0.0       0.0          0.0       0.0        missing\n",
       "  missing  1.0       0.0       0.0          0.0       0.0       0.0     \n",
       " 0.0       0.0       0.0       0.0       …  0.0       0.0       0.0     \n",
       " 0.0       0.0       0.0       0.0          0.0       0.0       0.0     \n",
       " 0.0       0.0       0.0       0.0          0.0       0.0       0.0     \n",
       " ⋮                                       ⋱            ⋮                 \n",
       " 0.0       0.0       0.0       0.0           missing  0.0       0.0     \n",
       " 0.0       1.0       0.0       0.0          0.0       0.0       0.0     \n",
       " 0.0       0.0       1.0       0.0       …  0.0       0.0       0.0     \n",
       " 0.0       1.0       0.0       0.0          0.0       0.0       0.0     \n",
       " 0.0        missing  0.0       0.0           missing  0.0       0.0     \n",
       " 0.0       0.0       0.0       0.0          0.0       0.0       0.0     \n",
       " 0.0       1.0       0.0       0.0          0.0       0.0       0.0     \n",
       " 0.0       0.0       0.0        missing  …  0.0       0.0       0.0     \n",
       " 0.0       0.0       0.0       0.0          0.0        missing  0.0     \n",
       " 0.0       0.0       0.0        missing     0.0       0.0       0.0     \n",
       " 1.0       0.0       1.0       0.0          0.0       0.0        missing\n",
       " 0.0       0.0       0.0       0.0          0.0       0.0       0.0     "
      ]
     },
     "execution_count": 7,
     "metadata": {},
     "output_type": "execute_result"
    }
   ],
   "source": [
    "X_complete = convert_gt(Float32, \"target.vcf.gz\"; as_minorallele=false)\n",
    "Xm = convert_gt(Float32, \"target_masked.vcf.gz\"; as_minorallele=false)\n",
    "Xm_original = copy(Xm)"
   ]
  },
  {
   "cell_type": "markdown",
   "metadata": {},
   "source": [
    "# MendelImpute error"
   ]
  },
  {
   "cell_type": "code",
   "execution_count": 20,
   "metadata": {
    "collapsed": false
   },
   "outputs": [
    {
     "name": "stdout",
     "output_type": "stream",
     "text": [
      " 30.918348 seconds (256.69 M allocations: 25.196 GiB, 10.61% gc time)\n"
     ]
    },
    {
     "data": {
      "text/plain": [
       "0.002375038349728364"
      ]
     },
     "execution_count": 20,
     "metadata": {},
     "output_type": "execute_result"
    }
   ],
   "source": [
    "# impute\n",
    "tgtfile = \"target_masked.vcf.gz\"\n",
    "reffile = \"haplo_ref.vcf.gz\"\n",
    "outfile = \"imputed_target.vcf.gz\"\n",
    "width   = 400\n",
    "@time hs, ph = phase(tgtfile, reffile, impute=true, outfile = outfile, width = width);\n",
    "\n",
    "# import imputed result and compare with true\n",
    "X_mendel = convert_gt(Float32, outfile, as_minorallele=false)\n",
    "missing_idx    = ismissing.(Xm_original)\n",
    "total_missing  = sum(missing_idx)\n",
    "actual_missing_values  = X_complete[missing_idx]  #true values of missing entries\n",
    "imputed_missing_values = X_mendel[missing_idx] #imputed values of missing entries\n",
    "error_rate = sum(actual_missing_values .!= imputed_missing_values) / total_missing"
   ]
  },
  {
   "cell_type": "markdown",
   "metadata": {},
   "source": [
    "# Beagle 5 error"
   ]
  },
  {
   "cell_type": "code",
   "execution_count": 10,
   "metadata": {
    "collapsed": false
   },
   "outputs": [
    {
     "name": "stdout",
     "output_type": "stream",
     "text": [
      "beagle.28Sep18.793.jar (version 5.0)\n",
      "Copyright (C) 2014-2018 Brian L. Browning\n",
      "Enter \"java -jar beagle.28Sep18.793.jar\" to list command line argument\n",
      "Start time: 02:36 PM PST on 06 Dec 2019\n",
      "\n",
      "Command line: java -Xmx3641m -jar beagle.28Sep18.793.jar\n",
      "  gt=target_masked.vcf.gz\n",
      "  ref=haplo_ref.vcf.gz\n",
      "  out=beagle.result\n",
      "\n",
      "No genetic map is specified: using 1 cM = 1 Mb\n",
      "\n",
      "Reference samples:       1,000\n",
      "Study samples:           1,000\n",
      "\n",
      "Window 1 (1:36-4999683)\n",
      "Reference markers:      35,897\n",
      "Study markers:          35,897\n",
      "\n",
      "Burnin  iteration 1:           52 seconds\n",
      "Burnin  iteration 2:           32 seconds\n",
      "Burnin  iteration 3:           13 seconds\n",
      "Burnin  iteration 4:           22 seconds\n",
      "Burnin  iteration 5:           26 seconds\n",
      "Burnin  iteration 6:           26 seconds\n",
      "\n",
      "Phasing iteration 1:           14 seconds\n",
      "Phasing iteration 2:           19 seconds\n",
      "Phasing iteration 3:           15 seconds\n",
      "Phasing iteration 4:           13 seconds\n",
      "Phasing iteration 5:           14 seconds\n",
      "Phasing iteration 6:           15 seconds\n",
      "Phasing iteration 7:           14 seconds\n",
      "Phasing iteration 8:           14 seconds\n",
      "Phasing iteration 9:           14 seconds\n",
      "Phasing iteration 10:          14 seconds\n",
      "Phasing iteration 11:          14 seconds\n",
      "Phasing iteration 12:          13 seconds\n",
      "\n",
      "Cumulative Statistics:\n",
      "\n",
      "Study markers:          35,897\n",
      "\n",
      "Haplotype phasing time:        5 minutes 44 seconds\n",
      "Total time:                    6 minutes 7 seconds\n",
      "\n",
      "End time: 02:42 PM PST on 06 Dec 2019\n",
      "beagle.28Sep18.793.jar finished\n"
     ]
    },
    {
     "data": {
      "text/plain": [
       "Process(`\u001b[4mjava\u001b[24m \u001b[4m-jar\u001b[24m \u001b[4mbeagle.28Sep18.793.jar\u001b[24m \u001b[4mgt=target_masked.vcf.gz\u001b[24m \u001b[4mref=haplo_ref.vcf.gz\u001b[24m \u001b[4mout=beagle.result\u001b[24m`, ProcessExited(0))"
      ]
     },
     "execution_count": 10,
     "metadata": {},
     "output_type": "execute_result"
    }
   ],
   "source": [
    "run(`java -jar beagle.28Sep18.793.jar gt=target_masked.vcf.gz ref=haplo_ref.vcf.gz out=beagle.result`)"
   ]
  },
  {
   "cell_type": "code",
   "execution_count": 16,
   "metadata": {
    "collapsed": false
   },
   "outputs": [
    {
     "data": {
      "text/plain": [
       "0.00022299914642274292"
      ]
     },
     "execution_count": 16,
     "metadata": {},
     "output_type": "execute_result"
    }
   ],
   "source": [
    "# import beagle 5 result\n",
    "Xb = convert_gt(Float32, \"beagle.result.vcf.gz\")\n",
    "Xb = copy(Xb')\n",
    "\n",
    "# beagle 5 error rate\n",
    "missing_idx    = ismissing.(Xm_original)\n",
    "total_missing  = sum(missing_idx)\n",
    "actual_missing_values  = convert(Vector{Int64}, X[missing_idx])  #true values of missing entries\n",
    "imputed_missing_values = convert(Vector{Int64}, Xb[missing_idx]) #imputed values of missing entries\n",
    "error_rate = sum(actual_missing_values .!= imputed_missing_values) / total_missing"
   ]
  },
  {
   "cell_type": "code",
   "execution_count": 18,
   "metadata": {
    "collapsed": false
   },
   "outputs": [
    {
     "data": {
      "text/plain": [
       "801"
      ]
     },
     "execution_count": 18,
     "metadata": {},
     "output_type": "execute_result"
    }
   ],
   "source": [
    "total_error = sum(Xb .!= X)"
   ]
  },
  {
   "cell_type": "code",
   "execution_count": null,
   "metadata": {
    "collapsed": true
   },
   "outputs": [],
   "source": []
  }
 ],
 "metadata": {
  "@webio": {
   "lastCommId": null,
   "lastKernelId": null
  },
  "kernelspec": {
   "display_name": "Julia 1.3.0-rc4",
   "language": "julia",
   "name": "julia-1.3"
  },
  "language_info": {
   "file_extension": ".jl",
   "mimetype": "application/julia",
   "name": "julia",
   "version": "1.3.0"
  }
 },
 "nbformat": 4,
 "nbformat_minor": 2
}
