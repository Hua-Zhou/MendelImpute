{
 "cells": [
  {
   "cell_type": "markdown",
   "metadata": {},
   "source": [
    "# Test optimal window with for MendelImpute on simulated data"
   ]
  },
  {
   "cell_type": "code",
   "execution_count": 1,
   "metadata": {
    "collapsed": false
   },
   "outputs": [
    {
     "name": "stderr",
     "output_type": "stream",
     "text": [
      "┌ Warning: no Manifest.toml file found, static paths used\n",
      "└ @ Revise /Users/biona001/.julia/packages/Revise/439di/src/Revise.jl:1108\n",
      "┌ Info: Precompiling VCFTools [a620830f-fdd7-5ebc-8d26-3621ab35fbfe]\n",
      "└ @ Base loading.jl:1273\n",
      "┌ Info: Precompiling MendelImpute [e47305d1-6a61-5370-bc5d-77554d143183]\n",
      "└ @ Base loading.jl:1273\n"
     ]
    }
   ],
   "source": [
    "using Revise\n",
    "using VCFTools\n",
    "using MendelImpute\n",
    "using GeneticVariation\n",
    "using Random\n",
    "using SparseArrays"
   ]
  },
  {
   "cell_type": "markdown",
   "metadata": {},
   "source": [
    "### Step 0. Install `msprime`\n",
    "\n",
    "[msprime download Link](https://msprime.readthedocs.io/en/stable/installation.html).\n",
    "\n",
    "Some people might need to activate conda environment via `conda config --set auto_activate_base True`. You can turn it off once simulation is done by executing `conda config --set auto_activate_base False`.\n",
    "\n",
    "\n",
    "### Step 1. Simulate data in terminal\n",
    "\n",
    "```\n",
    "python3 msprime_script.py 4000 10000 5000000 2e-8 2e-8 2019 > full.vcf\n",
    "```\n",
    "\n",
    "Arguments: \n",
    "+ Number of haplotypes = 40000\n",
    "+ Effective population size = 10000 ([source](https://www.the-scientist.com/the-nutshell/ancient-humans-more-diverse-43556))\n",
    "+ Sequence length = 10 million (same as Beagle 5's choice)\n",
    "+ Rrecombination rate = 2e-8 (default)\n",
    "+ mutation rate = 2e-8 (default)\n",
    "+ seed = 2019"
   ]
  },
  {
   "cell_type": "markdown",
   "metadata": {},
   "source": [
    "### Step 2: Convert simulated haplotypes to reference haplotypes and target genotype files (in .vcf format)\n",
    "\n",
    "The last 200 people (400 haplotypes) are treated as imputation targets. The remaining haplotypes become reference panels. "
   ]
  },
  {
   "cell_type": "code",
   "execution_count": 2,
   "metadata": {
    "collapsed": false
   },
   "outputs": [
    {
     "name": "stdout",
     "output_type": "stream",
     "text": [
      "records = 35897\n",
      "samples = 2000\n"
     ]
    }
   ],
   "source": [
    "records, samples = nrecords(\"full.vcf\"), nsamples(\"full.vcf\")\n",
    "@show records\n",
    "@show samples;"
   ]
  },
  {
   "cell_type": "code",
   "execution_count": 7,
   "metadata": {
    "collapsed": false
   },
   "outputs": [
    {
     "ename": "UndefVarError",
     "evalue": "UndefVarError: samples not defined",
     "output_type": "error",
     "traceback": [
      "UndefVarError: samples not defined",
      "",
      "Stacktrace:",
      " [1] top-level scope at In[7]:1"
     ]
    }
   ],
   "source": [
    "Random.seed!(2019)\n",
    "\n",
    "# compute target and reference index\n",
    "tgt_index = falses(samples)\n",
    "tgt_index[end-999:end] .= true\n",
    "ref_index = .!tgt_index\n",
    "\n",
    "# save all records\n",
    "record_index = trues(records);"
   ]
  },
  {
   "cell_type": "code",
   "execution_count": 4,
   "metadata": {
    "collapsed": false
   },
   "outputs": [
    {
     "name": "stdout",
     "output_type": "stream",
     "text": [
      " 24.835489 seconds (399.92 M allocations: 33.439 GiB, 13.62% gc time)\n",
      " 23.296331 seconds (395.78 M allocations: 33.237 GiB, 14.09% gc time)\n"
     ]
    }
   ],
   "source": [
    "@time VCFTools.filter(\"full.vcf\", record_index, tgt_index, des = \"target.vcf\")\n",
    "@time VCFTools.filter(\"full.vcf\", record_index, ref_index, des = \"haplo_ref.vcf\")"
   ]
  },
  {
   "cell_type": "code",
   "execution_count": 8,
   "metadata": {
    "collapsed": false
   },
   "outputs": [
    {
     "name": "stdout",
     "output_type": "stream",
     "text": [
      " 29.828560 seconds (396.10 M allocations: 33.252 GiB, 12.33% gc time)\n",
      " 30.136284 seconds (395.78 M allocations: 33.237 GiB, 12.28% gc time)\n"
     ]
    }
   ],
   "source": [
    "@time VCFTools.filter(\"full.vcf\", record_index, tgt_index, des = \"target.vcf.gz\")\n",
    "@time VCFTools.filter(\"full.vcf\", record_index, ref_index, des = \"haplo_ref.vcf.gz\")"
   ]
  },
  {
   "cell_type": "markdown",
   "metadata": {},
   "source": [
    "### Step 3: Randomly mask entries to create target file with missing entries\n",
    "\n",
    "+ `X` is the genotype matrix (without missing entries). \n",
    "+ `Xm` is the masked genotype matrix (imputation target)\n",
    "\n",
    "We need transpose this matrix later because `MendelImpute` currently (11/13/2019) requires transposed version."
   ]
  },
  {
   "cell_type": "code",
   "execution_count": 12,
   "metadata": {
    "collapsed": false
   },
   "outputs": [
    {
     "name": "stdout",
     "output_type": "stream",
     "text": [
      "  7.926380 seconds (144.39 M allocations: 12.666 GiB, 20.44% gc time)\n"
     ]
    }
   ],
   "source": [
    "# import full genotype matrix\n",
    "@time X = convert_gt(Float32, \"target.vcf.gz\"; as_is = true)\n",
    "\n",
    "# each row is a sample. Transpose so that columns are samples. \n",
    "X = copy(X')\n",
    "\n",
    "# mask 10% entries\n",
    "p, n = size(X)\n",
    "Random.seed!(123)\n",
    "missingprop = 0.1\n",
    "Xm = copy(X)\n",
    "Xm = ifelse.(rand(Float32, p, n) .< missingprop, missing, Xm)\n",
    "Xm_original = copy(Xm)\n",
    "masks = ismissing.(Xm)\n",
    "\n",
    "# save Xm to new VCF file\n",
    "mask_gt(\"target.vcf\", masks, des=\"target_masked.vcf.gz\")"
   ]
  },
  {
   "cell_type": "markdown",
   "metadata": {},
   "source": [
    "### Step 4: Import haplotype reference panels, then transpose it\n",
    "\n",
    "In `haplo_ref.vcf`:\n",
    "+ Each column is a haplotype\n",
    "\n",
    "We need transpose this matrix later because `MendelImpute` currently (11/13/2019) requires transposed version."
   ]
  },
  {
   "cell_type": "code",
   "execution_count": 13,
   "metadata": {
    "collapsed": false
   },
   "outputs": [
    {
     "name": "stdout",
     "output_type": "stream",
     "text": [
      "  6.866483 seconds (144.38 M allocations: 12.766 GiB, 23.59% gc time)\n",
      "  0.172210 seconds (7 allocations: 273.873 MiB)\n"
     ]
    },
    {
     "data": {
      "text/plain": [
       "(35897, 2000)"
      ]
     },
     "execution_count": 13,
     "metadata": {},
     "output_type": "execute_result"
    }
   ],
   "source": [
    "@time H = convert_ht(Float32, \"haplo_ref.vcf\", as_is=true)\n",
    "@time H = copy(H')\n",
    "size(H)"
   ]
  },
  {
   "cell_type": "markdown",
   "metadata": {},
   "source": [
    "### Step 5: Test MendelImpute by calculating error"
   ]
  },
  {
   "cell_type": "code",
   "execution_count": 14,
   "metadata": {
    "collapsed": false
   },
   "outputs": [
    {
     "name": "stdout",
     "output_type": "stream",
     "text": [
      "width 1200: error = 0.0037959967059601743, time = 5.411686151 sec, memory = 110.05584 MB\n"
     ]
    }
   ],
   "source": [
    "# warmup (as_is = true)\n",
    "width = 1200\n",
    "ph = @timed phase(Xm, H, width=width)\n",
    "impute2!(Xm, H, ph[1])\n",
    "missing_idx    = ismissing.(Xm_original)\n",
    "total_missing  = sum(missing_idx)\n",
    "actual_missing_values  = convert(Vector{Int64}, X[missing_idx])  #true values of missing entries\n",
    "imputed_missing_values = convert(Vector{Int64}, Xm[missing_idx]) #imputed values of missing entries\n",
    "error_rate = sum(actual_missing_values .!= imputed_missing_values) / total_missing\n",
    "println(\"width $width: error = $error_rate, time = $(ph[2]) sec, memory = $(ph[3]/1e6) MB\")\n",
    "copyto!(Xm, Xm_original);"
   ]
  },
  {
   "cell_type": "code",
   "execution_count": 32,
   "metadata": {
    "collapsed": false,
    "scrolled": true
   },
   "outputs": [
    {
     "name": "stdout",
     "output_type": "stream",
     "text": [
      "width 1200: error = 0.005161274875819265, time = 5.520036333 sec, memory = 110.177456 MB\n"
     ]
    }
   ],
   "source": [
    "# warmup (as_is = false)\n",
    "width = 1200\n",
    "ph = @timed phase(Xm, H, width=width)\n",
    "impute2!(Xm, H, ph[1])\n",
    "missing_idx    = ismissing.(Xm_original)\n",
    "total_missing  = sum(missing_idx)\n",
    "actual_missing_values  = convert(Vector{Int64}, X[missing_idx])  #true values of missing entries\n",
    "imputed_missing_values = convert(Vector{Int64}, Xm[missing_idx]) #imputed values of missing entries\n",
    "error_rate = sum(actual_missing_values .!= imputed_missing_values) / total_missing\n",
    "println(\"width $width: error = $error_rate, time = $(ph[2]) sec, memory = $(ph[3]/1e6) MB\")\n",
    "copyto!(Xm, Xm_original);"
   ]
  },
  {
   "cell_type": "markdown",
   "metadata": {},
   "source": [
    "### 1000 samples samples, 3600 haplotypes, 35897 markers"
   ]
  },
  {
   "cell_type": "code",
   "execution_count": 15,
   "metadata": {
    "collapsed": false
   },
   "outputs": [
    {
     "name": "stdout",
     "output_type": "stream",
     "text": [
      "width 50: error = 0.016241353563058645, time = 7.736097151 sec, memory = 1091.642784 MB\n",
      "width 200: error = 0.003792655894777811, time = 4.182049198 sec, memory = 273.796128 MB\n",
      "width 400: error = 0.002375038349728364, time = 4.575971305 sec, memory = 154.566112 MB\n",
      "width 800: error = 0.002746703593766269, time = 5.611958913 sec, memory = 107.732064 MB\n",
      "width 1200: error = 0.0037959967059601743, time = 6.009479787 sec, memory = 110.055488 MB\n",
      "width 2000: error = 0.006347819647421924, time = 6.254486756 sec, memory = 142.620768 MB\n",
      "width 3000: error = 0.009728442163041608, time = 6.213389195 sec, memory = 206.076176 MB\n",
      "width 4000: error = 0.013991595632668902, time = 5.993645679 sec, memory = 266.464544 MB\n",
      "width 5000: error = 0.015579037746155143, time = 5.994658345 sec, memory = 285.508784 MB\n"
     ]
    }
   ],
   "source": [
    "# as_is = true\n",
    "width = [50; 200; 400; 800; 1200; 2000; 3000; 4000; 5000]\n",
    "for w in width\n",
    "    ph = @timed phase(Xm, H, width=w)\n",
    "    impute2!(Xm, H, ph[1])\n",
    "    missing_idx    = ismissing.(Xm_original)\n",
    "    total_missing  = sum(missing_idx)\n",
    "    actual_missing_values  = convert(Vector{Int64}, X[missing_idx])  #true values of missing entries\n",
    "    imputed_missing_values = convert(Vector{Int64}, Xm[missing_idx]) #imputed values of missing entries\n",
    "    error_rate = sum(actual_missing_values .!= imputed_missing_values) / total_missing\n",
    "    println(\"width $w: error = $error_rate, time = $(ph[2]) sec, memory = $(ph[3]/1e6) MB\")\n",
    "    copyto!(Xm, Xm_original)\n",
    "end"
   ]
  },
  {
   "cell_type": "code",
   "execution_count": 11,
   "metadata": {
    "collapsed": false
   },
   "outputs": [
    {
     "name": "stdout",
     "output_type": "stream",
     "text": [
      "width 50: error = 0.01892263293783697, time = 7.560888095 sec, memory = 1100.014944 MB\n",
      "width 200: error = 0.005909616580668619, time = 4.511297279 sec, memory = 276.790352 MB\n",
      "width 400: error = 0.004010087022563282, time = 4.535729067 sec, memory = 155.301872 MB\n",
      "width 800: error = 0.0041389866540161285, time = 5.669351368 sec, memory = 107.906128 MB\n",
      "width 1200: error = 0.005161274875819265, time = 6.076758724 sec, memory = 110.177104 MB\n",
      "width 2000: error = 0.0076482304001567955, time = 6.310865611 sec, memory = 142.657136 MB\n",
      "width 3000: error = 0.011014654468251436, time = 6.401430612 sec, memory = 207.707328 MB\n",
      "width 4000: error = 0.015300080012427818, time = 6.243830048 sec, memory = 269.739312 MB\n",
      "width 5000: error = 0.016841585972156566, time = 6.083279975 sec, memory = 289.624608 MB\n"
     ]
    }
   ],
   "source": [
    "# as_is = false\n",
    "width = [50; 200; 400; 800; 1200; 2000; 3000; 4000; 5000]\n",
    "for w in width\n",
    "    ph = @timed phase(Xm, H, width=w)\n",
    "    impute2!(Xm, H, ph[1])\n",
    "    missing_idx    = ismissing.(Xm_original)\n",
    "    total_missing  = sum(missing_idx)\n",
    "    actual_missing_values  = convert(Vector{Int64}, X[missing_idx])  #true values of missing entries\n",
    "    imputed_missing_values = convert(Vector{Int64}, Xm[missing_idx]) #imputed values of missing entries\n",
    "    error_rate = sum(actual_missing_values .!= imputed_missing_values) / total_missing\n",
    "    println(\"width $w: error = $error_rate, time = $(ph[2]) sec, memory = $(ph[3]/1e6) MB\")\n",
    "    copyto!(Xm, Xm_original)\n",
    "end"
   ]
  },
  {
   "cell_type": "markdown",
   "metadata": {},
   "source": [
    "### 200 samples samples, 39600 haplotypes, 45086 markers"
   ]
  },
  {
   "cell_type": "code",
   "execution_count": 11,
   "metadata": {
    "collapsed": false
   },
   "outputs": [
    {
     "name": "stdout",
     "output_type": "stream",
     "text": [
      "width 50: error = 0.02108025201370305, time = 53.186390706 sec, memory = 2850.043568 MB\n",
      "width 200: error = 0.007351693528979247, time = 24.983143501 sec, memory = 727.184896 MB\n",
      "width 400: error = 0.004604651008043722, time = 21.781636026 sec, memory = 373.909136 MB\n",
      "width 800: error = 0.003454597276025095, time = 21.660624886 sec, memory = 222.238256 MB\n",
      "width 1200: error = 0.002700463681258782, time = 22.564362254 sec, memory = 190.133616 MB\n",
      "width 2000: error = 0.003009880259111431, time = 23.189537012 sec, memory = 213.424624 MB\n",
      "width 3000: error = 0.0026017609019437795, time = 24.424956618 sec, memory = 263.062832 MB\n",
      "width 4000: error = 0.002606196981912993, time = 26.004524506 sec, memory = 422.452464 MB\n",
      "width 5000: error = 0.003191759537849189, time = 27.569003756 sec, memory = 529.3919 MB\n"
     ]
    }
   ],
   "source": [
    "width = [50; 200; 400; 800; 1200; 2000; 3000; 4000; 5000]\n",
    "for w in width\n",
    "    ph = @timed phase(Xm, H, width=w)\n",
    "    impute2!(Xm, H, ph[1])\n",
    "    missing_idx    = ismissing.(Xm_original)\n",
    "    total_missing  = sum(missing_idx)\n",
    "    actual_missing_values  = convert(Vector{Int64}, X[missing_idx])  #true values of missing entries\n",
    "    imputed_missing_values = convert(Vector{Int64}, Xm[missing_idx]) #imputed values of missing entries\n",
    "    error_rate = sum(actual_missing_values .!= imputed_missing_values) / total_missing\n",
    "    println(\"width $w: error = $error_rate, time = $(ph[2]) sec, memory = $(ph[3]/1e6) MB\")\n",
    "    copyto!(Xm, Xm_original)\n",
    "end"
   ]
  },
  {
   "cell_type": "code",
   "execution_count": null,
   "metadata": {
    "collapsed": true
   },
   "outputs": [],
   "source": []
  }
 ],
 "metadata": {
  "@webio": {
   "lastCommId": null,
   "lastKernelId": null
  },
  "kernelspec": {
   "display_name": "Julia 1.3.0-rc4",
   "language": "julia",
   "name": "julia-1.3"
  },
  "language_info": {
   "file_extension": ".jl",
   "mimetype": "application/julia",
   "name": "julia",
   "version": "1.3.0"
  }
 },
 "nbformat": 4,
 "nbformat_minor": 2
}
