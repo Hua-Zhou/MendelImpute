{
 "cells": [
  {
   "cell_type": "markdown",
   "metadata": {},
   "source": [
    "# Test optimal window with for MendelImpute on simulated data"
   ]
  },
  {
   "cell_type": "code",
   "execution_count": 1,
   "metadata": {
    "collapsed": false
   },
   "outputs": [
    {
     "name": "stderr",
     "output_type": "stream",
     "text": [
      "┌ Warning: no Manifest.toml file found, static paths used\n",
      "└ @ Revise /Users/biona001/.julia/packages/Revise/439di/src/Revise.jl:1108\n",
      "┌ Info: Precompiling VCFTools [a620830f-fdd7-5ebc-8d26-3621ab35fbfe]\n",
      "└ @ Base loading.jl:1273\n",
      "┌ Info: Precompiling MendelImpute [e47305d1-6a61-5370-bc5d-77554d143183]\n",
      "└ @ Base loading.jl:1273\n"
     ]
    }
   ],
   "source": [
    "using Revise\n",
    "using VCFTools\n",
    "using MendelImpute\n",
    "using GeneticVariation\n",
    "using Random\n",
    "using SparseArrays"
   ]
  },
  {
   "cell_type": "markdown",
   "metadata": {},
   "source": [
    "### Step 0. Install `msprime`\n",
    "\n",
    "[msprime download Link](https://msprime.readthedocs.io/en/stable/installation.html).\n",
    "\n",
    "Some people might need to activate conda environment via `conda config --set auto_activate_base True`. You can turn it off once simulation is done by executing `conda config --set auto_activate_base False`.\n",
    "\n",
    "\n",
    "### Step 1. Simulate data in terminal\n",
    "\n",
    "```\n",
    "python3 msprime_script.py 4000 10000 5000000 2e-8 2e-8 2019 > full.vcf\n",
    "```\n",
    "\n",
    "Arguments: \n",
    "+ Number of haplotypes = 40000\n",
    "+ Effective population size = 10000 ([source](https://www.the-scientist.com/the-nutshell/ancient-humans-more-diverse-43556))\n",
    "+ Sequence length = 10 million (same as Beagle 5's choice)\n",
    "+ Rrecombination rate = 2e-8 (default)\n",
    "+ mutation rate = 2e-8 (default)\n",
    "+ seed = 2019"
   ]
  },
  {
   "cell_type": "markdown",
   "metadata": {},
   "source": [
    "### Step 2: Convert simulated haplotypes to reference haplotypes and target genotype files (in .vcf format)\n",
    "\n",
    "The last 200 people (400 haplotypes) are treated as imputation targets. The remaining haplotypes become reference panels. "
   ]
  },
  {
   "cell_type": "code",
   "execution_count": 16,
   "metadata": {
    "collapsed": false
   },
   "outputs": [
    {
     "name": "stdout",
     "output_type": "stream",
     "text": [
      "records = 35897\n",
      "samples = 2000\n"
     ]
    }
   ],
   "source": [
    "records, samples = nrecords(\"full.vcf\"), nsamples(\"full.vcf\")\n",
    "@show records\n",
    "@show samples;"
   ]
  },
  {
   "cell_type": "code",
   "execution_count": 17,
   "metadata": {
    "collapsed": false
   },
   "outputs": [],
   "source": [
    "# compute target and reference index\n",
    "tgt_index = falses(samples)\n",
    "tgt_index[end-999:end] .= true\n",
    "ref_index = .!tgt_index\n",
    "\n",
    "# save all records\n",
    "record_index = trues(records);"
   ]
  },
  {
   "cell_type": "code",
   "execution_count": 4,
   "metadata": {
    "collapsed": false
   },
   "outputs": [
    {
     "name": "stdout",
     "output_type": "stream",
     "text": [
      " 24.835489 seconds (399.92 M allocations: 33.439 GiB, 13.62% gc time)\n",
      " 23.296331 seconds (395.78 M allocations: 33.237 GiB, 14.09% gc time)\n"
     ]
    }
   ],
   "source": [
    "@time VCFTools.filter(\"full.vcf\", record_index, tgt_index, des = \"target.vcf\")\n",
    "@time VCFTools.filter(\"full.vcf\", record_index, ref_index, des = \"haplo_ref.vcf\")"
   ]
  },
  {
   "cell_type": "code",
   "execution_count": 8,
   "metadata": {
    "collapsed": false
   },
   "outputs": [
    {
     "name": "stdout",
     "output_type": "stream",
     "text": [
      " 29.828560 seconds (396.10 M allocations: 33.252 GiB, 12.33% gc time)\n",
      " 30.136284 seconds (395.78 M allocations: 33.237 GiB, 12.28% gc time)\n"
     ]
    }
   ],
   "source": [
    "@time VCFTools.filter(\"full.vcf\", record_index, tgt_index, des = \"target.vcf.gz\")\n",
    "@time VCFTools.filter(\"full.vcf\", record_index, ref_index, des = \"haplo_ref.vcf.gz\")"
   ]
  },
  {
   "cell_type": "markdown",
   "metadata": {},
   "source": [
    "### Step 3: Randomly mask entries to create target file with missing entries\n",
    "\n",
    "+ `X` is the genotype matrix (without missing entries). \n",
    "+ `Xm` is the masked genotype matrix (imputation target)\n",
    "\n",
    "We need transpose this matrix later because `MendelImpute` currently (11/13/2019) requires transposed version."
   ]
  },
  {
   "cell_type": "code",
   "execution_count": 9,
   "metadata": {
    "collapsed": false
   },
   "outputs": [
    {
     "name": "stdout",
     "output_type": "stream",
     "text": [
      "  5.138160 seconds (72.66 M allocations: 6.250 GiB, 18.38% gc time)\n"
     ]
    }
   ],
   "source": [
    "# import full genotype matrix\n",
    "@time X = convert_gt(Float32, \"target.vcf.gz\"; as_minorallele = false)\n",
    "\n",
    "# each row is a sample. Transpose so that columns are samples. \n",
    "X = copy(X')\n",
    "\n",
    "# mask 10% entries\n",
    "p, n = size(X)\n",
    "Random.seed!(123)\n",
    "missingprop = 0.1\n",
    "Xm = copy(X)\n",
    "Xm = ifelse.(rand(Float32, p, n) .< missingprop, missing, Xm)\n",
    "Xm_original = copy(Xm)\n",
    "masks = ismissing.(Xm)\n",
    "\n",
    "# save Xm to new VCF file\n",
    "mask_gt(\"target.vcf.gz\", masks, des=\"target_masked.vcf.gz\")"
   ]
  },
  {
   "cell_type": "markdown",
   "metadata": {},
   "source": [
    "### Step 4: Import haplotype reference panels, then transpose it\n",
    "\n",
    "In `haplo_ref.vcf`:\n",
    "+ Each column is a haplotype\n",
    "\n",
    "We need transpose this matrix later because `MendelImpute` currently (11/13/2019) requires transposed version."
   ]
  },
  {
   "cell_type": "code",
   "execution_count": 10,
   "metadata": {
    "collapsed": false
   },
   "outputs": [
    {
     "name": "stdout",
     "output_type": "stream",
     "text": [
      "  5.307197 seconds (72.59 M allocations: 6.348 GiB, 19.69% gc time)\n",
      "  0.179460 seconds (7 allocations: 273.873 MiB)\n"
     ]
    },
    {
     "data": {
      "text/plain": [
       "(35897, 2000)"
      ]
     },
     "execution_count": 10,
     "metadata": {},
     "output_type": "execute_result"
    }
   ],
   "source": [
    "@time H = convert_ht(Float32, \"haplo_ref.vcf.gz\", as_minorallele=false)\n",
    "@time H = copy(H')\n",
    "size(H)"
   ]
  },
  {
   "cell_type": "markdown",
   "metadata": {},
   "source": [
    "### Step 5: Test MendelImpute by calculating error"
   ]
  },
  {
   "cell_type": "code",
   "execution_count": 23,
   "metadata": {
    "collapsed": false
   },
   "outputs": [
    {
     "name": "stdout",
     "output_type": "stream",
     "text": [
      "[204, 357, 493, 549, 1118, 1205, 1278, 1288]\n",
      "[381, 461, 882, 1384, 1492, 1886]\n",
      "width 1200: error = 0.0037959967059601743, time = 5.792771109 sec, memory = 133.468146 MB\n"
     ]
    }
   ],
   "source": [
    "# warmup (as_minorallele = false)\n",
    "width = 1200\n",
    "ph = @timed phase(Xm, H, width=width)\n",
    "impute2!(Xm, H, ph[1])\n",
    "missing_idx    = ismissing.(Xm_original)\n",
    "total_missing  = sum(missing_idx)\n",
    "actual_missing_values  = convert(Vector{Int64}, X[missing_idx])  #true values of missing entries\n",
    "imputed_missing_values = convert(Vector{Int64}, Xm[missing_idx]) #imputed values of missing entries\n",
    "error_rate = sum(actual_missing_values .!= imputed_missing_values) / total_missing\n",
    "println(\"width $width: error = $error_rate, time = $(ph[2]) sec, memory = $(ph[3]/1e6) MB\")\n",
    "copyto!(Xm, Xm_original);"
   ]
  },
  {
   "cell_type": "code",
   "execution_count": 19,
   "metadata": {
    "collapsed": false,
    "scrolled": true
   },
   "outputs": [
    {
     "data": {
      "text/plain": [
       "(HaplotypeMosaicPair[HaplotypeMosaicPair(HaplotypeMosaic(35897, [1, 6001, 8549, 22801, 26239, 27752, 29244], [549, 345, 1369, 1236, 137, 354, 986]), HaplotypeMosaic(35897, [1, 414, 6001, 8401, 19078, 19201, 21622, 25216, 26137, 27584, 27779], [381, 345, 26, 549, 1746, 549, 1488, 217, 157, 186, 1236])), HaplotypeMosaicPair(HaplotypeMosaic(35897, [1, 3085, 24302, 32107], [97, 632, 676, 350]), HaplotypeMosaic(35897, [1, 1, 3155, 4181, 15522, 16251, 30506, 32560, 33909], [381, 632, 1673, 1074, 39, 301, 92, 1269, 79])), HaplotypeMosaicPair(HaplotypeMosaic(35897, [1, 1222, 5990, 6001, 13201, 14890, 23436, 24366, 32401], [263, 684, 133, 122, 436, 1860, 69, 114, 778]), HaplotypeMosaic(35897, [1, 1, 1223, 2401, 10801, 14870], [381, 391, 902, 1189, 1860, 1717])), HaplotypeMosaicPair(HaplotypeMosaic(35897, [1, 27928], [1670, 1025]), HaplotypeMosaic(35897, [1, 1, 10801, 14401, 18001, 27844, 28801], [381, 343, 1025, 900, 1025, 175, 1670])), HaplotypeMosaicPair(HaplotypeMosaic(35897, [1], [273]), HaplotypeMosaic(35897, [1, 1, 1201, 3601], [381, 339, 4, 842])), HaplotypeMosaicPair(HaplotypeMosaic(35897, [1, 18083, 25201, 27588, 33658], [1548, 551, 96, 557, 90]), HaplotypeMosaic(35897, [1, 1, 14401, 18496, 22801, 26247, 27594, 29118, 29096, 32650], [381, 242, 551, 736, 1374, 344, 1899, 1706, 1270, 383])), HaplotypeMosaicPair(HaplotypeMosaic(35897, [1, 2463, 3306, 3601, 25201, 32714], [689, 1, 176, 307, 56, 633]), HaplotypeMosaic(35897, [1, 1, 13295, 25201, 28801, 34508], [381, 958, 261, 180, 1, 835])), HaplotypeMosaicPair(HaplotypeMosaic(35897, [1, 1571, 6788, 8439, 13138, 19355, 21665, 28656, 28958], [205, 549, 26, 1858, 632, 937, 95, 321, 33]), HaplotypeMosaic(35897, [1, 1, 1765, 3419, 8823, 12442, 17914, 18001, 21983, 28685, 28877], [381, 862, 546, 82, 549, 95, 11, 402, 178, 1379, 253])), HaplotypeMosaicPair(HaplotypeMosaic(35897, [1, 5036, 26434], [1651, 432, 450]), HaplotypeMosaic(35897, [1, 1, 5186, 7201, 26624], [381, 123, 478, 1651, 475])), HaplotypeMosaicPair(HaplotypeMosaic(35897, [1, 19201], [279, 484]), HaplotypeMosaic(35897, [1, 1, 13898, 19201, 20401, 30001], [381, 1152, 366, 920, 279, 205]))  …  HaplotypeMosaicPair(HaplotypeMosaic(35897, [1, 16918, 17055, 30581], [1095, 39, 1890, 319]), HaplotypeMosaic(35897, [1, 1, 11455, 14068, 14374, 14591, 16412, 16801, 31043, 30001], [381, 304, 260, 928, 43, 23, 129, 270, 968, 270])), HaplotypeMosaicPair(HaplotypeMosaic(35897, [1, 13891, 13841], [511, 695, 352]), HaplotypeMosaic(35897, [1, 349, 1859, 5380, 6001, 10693, 13581, 14142, 15474, 17210, 17909, 19152, 19977, 27244, 27100], [381, 355, 108, 10, 108, 1465, 1587, 1697, 351, 57, 1139, 301, 502, 330, 194])), HaplotypeMosaicPair(HaplotypeMosaic(35897, [1, 1704, 1628, 19261, 19649, 27296], [266, 89, 1396, 54, 1845, 1007]), HaplotypeMosaic(35897, [1, 205, 1704, 16937, 19407, 19779, 20401, 27261, 28255], [381, 113, 1670, 134, 1845, 749, 1007, 1652, 92])), HaplotypeMosaicPair(HaplotypeMosaic(35897, [1, 15636, 24818], [426, 645, 148]), HaplotypeMosaic(35897, [1, 1, 6788, 8401, 14401, 18001, 24613], [381, 763, 26, 763, 408, 148, 762])), HaplotypeMosaicPair(HaplotypeMosaic(35897, [1, 4362, 13201, 19294, 21677, 22785, 23923, 24157, 26143, 26880, 28657, 29540], [152, 591, 598, 166, 642, 69, 232, 334, 285, 136, 8, 158]), HaplotypeMosaic(35897, [1, 1, 2507, 3748, 7978, 8001, 11882, 14731, 15041, 19972, 21286, 21622, 28542, 29357, 32685, 32566], [381, 300, 193, 271, 197, 480, 777, 454, 1799, 515, 1557, 1799, 400, 762, 1717, 522])), HaplotypeMosaicPair(HaplotypeMosaic(35897, [1], [532]), HaplotypeMosaic(35897, [1, 1, 4082, 9601, 13234, 14937, 16074, 20265, 21312, 22749, 25587, 26062, 28435, 32006, 33095], [381, 1909, 871, 1576, 209, 317, 797, 137, 184, 978, 301, 1896, 482, 1074, 391])), HaplotypeMosaicPair(HaplotypeMosaic(35897, [1, 4754, 6172, 7486, 8401, 22519, 26401], [1162, 112, 690, 124, 1146, 957, 48]), HaplotypeMosaic(35897, [1, 1, 9629, 10646, 15155, 15615, 18077, 19130, 20753, 21622, 22116, 25125, 25803], [381, 1246, 856, 28, 72, 194, 83, 305, 1568, 463, 1628, 295, 1628])), HaplotypeMosaicPair(HaplotypeMosaic(35897, [1, 9754, 12744, 28260], [1011, 1669, 1992, 671]), HaplotypeMosaic(35897, [1, 1, 12905, 28064], [381, 1992, 671, 76])), HaplotypeMosaicPair(HaplotypeMosaic(35897, [1, 1453, 2401, 30001], [140, 164, 674, 24]), HaplotypeMosaic(35897, [1, 1, 2190, 3381, 8401, 15459, 15601, 20401, 31575, 31870], [381, 542, 838, 719, 24, 152, 158, 24, 1403, 287])), HaplotypeMosaicPair(HaplotypeMosaic(35897, [1, 17880, 18276], [1639, 2, 974]), HaplotypeMosaic(35897, [1, 1, 9601, 11324, 18027, 20425, 20821, 22912, 24221], [381, 1374, 506, 354, 1163, 1131, 69, 1910, 1825]))], 5.501596027, 110055840, 0.0, Base.GC_Diff(110055840, 66, 2, 1038871, 683, 0, 0, 0, 0))"
      ]
     },
     "execution_count": 19,
     "metadata": {},
     "output_type": "execute_result"
    }
   ],
   "source": [
    "ph"
   ]
  },
  {
   "cell_type": "code",
   "execution_count": 32,
   "metadata": {
    "collapsed": false,
    "scrolled": true
   },
   "outputs": [
    {
     "name": "stdout",
     "output_type": "stream",
     "text": [
      "width 1200: error = 0.005161274875819265, time = 5.520036333 sec, memory = 110.177456 MB\n"
     ]
    }
   ],
   "source": [
    "# warmup (as_is = false)\n",
    "width = 1200\n",
    "ph = @timed phase(Xm, H, width=width)\n",
    "impute2!(Xm, H, ph[1])\n",
    "missing_idx    = ismissing.(Xm_original)\n",
    "total_missing  = sum(missing_idx)\n",
    "actual_missing_values  = convert(Vector{Int64}, X[missing_idx])  #true values of missing entries\n",
    "imputed_missing_values = convert(Vector{Int64}, Xm[missing_idx]) #imputed values of missing entries\n",
    "error_rate = sum(actual_missing_values .!= imputed_missing_values) / total_missing\n",
    "println(\"width $width: error = $error_rate, time = $(ph[2]) sec, memory = $(ph[3]/1e6) MB\")\n",
    "copyto!(Xm, Xm_original);"
   ]
  },
  {
   "cell_type": "markdown",
   "metadata": {},
   "source": [
    "### 1000 samples samples, 3600 haplotypes, 35897 markers"
   ]
  },
  {
   "cell_type": "code",
   "execution_count": 15,
   "metadata": {
    "collapsed": false
   },
   "outputs": [
    {
     "name": "stdout",
     "output_type": "stream",
     "text": [
      "width 50: error = 0.016241353563058645, time = 7.736097151 sec, memory = 1091.642784 MB\n",
      "width 200: error = 0.003792655894777811, time = 4.182049198 sec, memory = 273.796128 MB\n",
      "width 400: error = 0.002375038349728364, time = 4.575971305 sec, memory = 154.566112 MB\n",
      "width 800: error = 0.002746703593766269, time = 5.611958913 sec, memory = 107.732064 MB\n",
      "width 1200: error = 0.0037959967059601743, time = 6.009479787 sec, memory = 110.055488 MB\n",
      "width 2000: error = 0.006347819647421924, time = 6.254486756 sec, memory = 142.620768 MB\n",
      "width 3000: error = 0.009728442163041608, time = 6.213389195 sec, memory = 206.076176 MB\n",
      "width 4000: error = 0.013991595632668902, time = 5.993645679 sec, memory = 266.464544 MB\n",
      "width 5000: error = 0.015579037746155143, time = 5.994658345 sec, memory = 285.508784 MB\n"
     ]
    }
   ],
   "source": [
    "# as_is = true\n",
    "width = [50; 200; 400; 800; 1200; 2000; 3000; 4000; 5000]\n",
    "for w in width\n",
    "    ph = @timed phase(Xm, H, width=w)\n",
    "    impute2!(Xm, H, ph[1])\n",
    "    missing_idx    = ismissing.(Xm_original)\n",
    "    total_missing  = sum(missing_idx)\n",
    "    actual_missing_values  = convert(Vector{Int64}, X[missing_idx])  #true values of missing entries\n",
    "    imputed_missing_values = convert(Vector{Int64}, Xm[missing_idx]) #imputed values of missing entries\n",
    "    error_rate = sum(actual_missing_values .!= imputed_missing_values) / total_missing\n",
    "    println(\"width $w: error = $error_rate, time = $(ph[2]) sec, memory = $(ph[3]/1e6) MB\")\n",
    "    copyto!(Xm, Xm_original)\n",
    "end"
   ]
  },
  {
   "cell_type": "code",
   "execution_count": 11,
   "metadata": {
    "collapsed": false
   },
   "outputs": [
    {
     "name": "stdout",
     "output_type": "stream",
     "text": [
      "width 50: error = 0.01892263293783697, time = 7.560888095 sec, memory = 1100.014944 MB\n",
      "width 200: error = 0.005909616580668619, time = 4.511297279 sec, memory = 276.790352 MB\n",
      "width 400: error = 0.004010087022563282, time = 4.535729067 sec, memory = 155.301872 MB\n",
      "width 800: error = 0.0041389866540161285, time = 5.669351368 sec, memory = 107.906128 MB\n",
      "width 1200: error = 0.005161274875819265, time = 6.076758724 sec, memory = 110.177104 MB\n",
      "width 2000: error = 0.0076482304001567955, time = 6.310865611 sec, memory = 142.657136 MB\n",
      "width 3000: error = 0.011014654468251436, time = 6.401430612 sec, memory = 207.707328 MB\n",
      "width 4000: error = 0.015300080012427818, time = 6.243830048 sec, memory = 269.739312 MB\n",
      "width 5000: error = 0.016841585972156566, time = 6.083279975 sec, memory = 289.624608 MB\n"
     ]
    }
   ],
   "source": [
    "# as_is = false\n",
    "width = [50; 200; 400; 800; 1200; 2000; 3000; 4000; 5000]\n",
    "for w in width\n",
    "    ph = @timed phase(Xm, H, width=w)\n",
    "    impute2!(Xm, H, ph[1])\n",
    "    missing_idx    = ismissing.(Xm_original)\n",
    "    total_missing  = sum(missing_idx)\n",
    "    actual_missing_values  = convert(Vector{Int64}, X[missing_idx])  #true values of missing entries\n",
    "    imputed_missing_values = convert(Vector{Int64}, Xm[missing_idx]) #imputed values of missing entries\n",
    "    error_rate = sum(actual_missing_values .!= imputed_missing_values) / total_missing\n",
    "    println(\"width $w: error = $error_rate, time = $(ph[2]) sec, memory = $(ph[3]/1e6) MB\")\n",
    "    copyto!(Xm, Xm_original)\n",
    "end"
   ]
  },
  {
   "cell_type": "markdown",
   "metadata": {},
   "source": [
    "### 200 samples samples, 39600 haplotypes, 45086 markers"
   ]
  },
  {
   "cell_type": "code",
   "execution_count": 11,
   "metadata": {
    "collapsed": false
   },
   "outputs": [
    {
     "name": "stdout",
     "output_type": "stream",
     "text": [
      "width 50: error = 0.02108025201370305, time = 53.186390706 sec, memory = 2850.043568 MB\n",
      "width 200: error = 0.007351693528979247, time = 24.983143501 sec, memory = 727.184896 MB\n",
      "width 400: error = 0.004604651008043722, time = 21.781636026 sec, memory = 373.909136 MB\n",
      "width 800: error = 0.003454597276025095, time = 21.660624886 sec, memory = 222.238256 MB\n",
      "width 1200: error = 0.002700463681258782, time = 22.564362254 sec, memory = 190.133616 MB\n",
      "width 2000: error = 0.003009880259111431, time = 23.189537012 sec, memory = 213.424624 MB\n",
      "width 3000: error = 0.0026017609019437795, time = 24.424956618 sec, memory = 263.062832 MB\n",
      "width 4000: error = 0.002606196981912993, time = 26.004524506 sec, memory = 422.452464 MB\n",
      "width 5000: error = 0.003191759537849189, time = 27.569003756 sec, memory = 529.3919 MB\n"
     ]
    }
   ],
   "source": [
    "width = [50; 200; 400; 800; 1200; 2000; 3000; 4000; 5000]\n",
    "for w in width\n",
    "    ph = @timed phase(Xm, H, width=w)\n",
    "    impute2!(Xm, H, ph[1])\n",
    "    missing_idx    = ismissing.(Xm_original)\n",
    "    total_missing  = sum(missing_idx)\n",
    "    actual_missing_values  = convert(Vector{Int64}, X[missing_idx])  #true values of missing entries\n",
    "    imputed_missing_values = convert(Vector{Int64}, Xm[missing_idx]) #imputed values of missing entries\n",
    "    error_rate = sum(actual_missing_values .!= imputed_missing_values) / total_missing\n",
    "    println(\"width $w: error = $error_rate, time = $(ph[2]) sec, memory = $(ph[3]/1e6) MB\")\n",
    "    copyto!(Xm, Xm_original)\n",
    "end"
   ]
  },
  {
   "cell_type": "code",
   "execution_count": null,
   "metadata": {
    "collapsed": true
   },
   "outputs": [],
   "source": []
  }
 ],
 "metadata": {
  "@webio": {
   "lastCommId": null,
   "lastKernelId": null
  },
  "kernelspec": {
   "display_name": "Julia 1.3.0-rc4",
   "language": "julia",
   "name": "julia-1.3"
  },
  "language_info": {
   "file_extension": ".jl",
   "mimetype": "application/julia",
   "name": "julia",
   "version": "1.3.0"
  }
 },
 "nbformat": 4,
 "nbformat_minor": 2
}
