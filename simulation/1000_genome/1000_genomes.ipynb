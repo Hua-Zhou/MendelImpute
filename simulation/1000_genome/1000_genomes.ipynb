{
 "cells": [
  {
   "cell_type": "markdown",
   "metadata": {},
   "source": [
    "# Comparison of MendelImpute against Minimac4 and Beagle5 on 1000 genome project\n",
    "\n",
    "**Dynamic programming memory requirement:** \n",
    "+ Target data requies $people * snps * 4$ bytes of RAM\n",
    "+ Reference haplotype data requires $haplotypes * snps * 4$ bytes of RAM\n",
    "+ Redundant haplotype set for imputation target requires roughly\n",
    "$people * windows * 1000$ (max haplotypes per win) $* 16 bytes$ of RAM\n",
    "\n",
    "**Fast method memory requirement:** \n",
    "+ Target data requies $people * snps * 4$ bytes of RAM\n",
    "+ Reference haplotype data requires $haplotypes * snps * 4$ bytes of RAM\n",
    "+ Redundant haplotype set for imputation target requires roughly\n",
    "$people * windows * snps$ bits of RAM\n"
   ]
  },
  {
   "cell_type": "code",
   "execution_count": 1,
   "metadata": {
    "collapsed": false
   },
   "outputs": [
    {
     "name": "stderr",
     "output_type": "stream",
     "text": [
      "┌ Warning: no Manifest.toml file found, static paths used\n",
      "└ @ Revise /Users/biona001/.julia/packages/Revise/439di/src/Revise.jl:1108\n"
     ]
    }
   ],
   "source": [
    "using Revise\n",
    "using VCFTools\n",
    "using MendelImpute\n",
    "using GeneticVariation\n",
    "using Random\n",
    "using StatsBase"
   ]
  },
  {
   "cell_type": "markdown",
   "metadata": {},
   "source": [
    "# Filter data into target and reference data\n",
    "\n",
    "+ `ref_chr22.vcf.gz`: haplotype reference files\n",
    "+ `tgt_chr22.vcf.gz`: complete genotype information\n",
    "+ `tgt_masked_chr22.vcf.gz`: the same as `tgt_chr22.vcf.gz` except some entries are masked\n",
    "+ `tgt_masked_unphased_chr22.vcf.gz`: the same as `tgt_chr22.vcf.gz` except some entries are masked and heterozygote genotypes (1|0 or 0|1) are all changed to 1/0. "
   ]
  },
  {
   "cell_type": "code",
   "execution_count": 10,
   "metadata": {
    "collapsed": false
   },
   "outputs": [
    {
     "data": {
      "text/plain": [
       "filter_and_mask"
      ]
     },
     "execution_count": 10,
     "metadata": {},
     "output_type": "execute_result"
    }
   ],
   "source": [
    "\"\"\"\n",
    "    filter_and_mask(data::String, samples::Int)\n",
    "\n",
    "Creates reference haplotypes and (unphased) target genotype files from `data`. Duplicate\n",
    "records (SNPs) are filtered out as well. \n",
    "\n",
    "# Inputs\n",
    "`data`: The full (phased) data\n",
    "`samples`: Number of samples (genotypes) desired in target file. Remaining haplotypes will become the reference panel\n",
    "\"\"\"\n",
    "function filter_and_mask(data::String, samples::Int; missingprop::Float64 = 0.01)\n",
    "    n = nsamples(data)\n",
    "    samples > n && error(\"requested samples exceed total number of genotypes in $data.\")\n",
    "\n",
    "    # output filenames (tgt_chr22.vcf.gz, ref_chr22.vcf.gz, and tgt_masked_chr22.vcf.gz)\n",
    "    file = split(data, '.')[4] * \".vcf.gz\"\n",
    "    tgt = \"./tgt_\" * file\n",
    "    ref = \"./ref_\" * file\n",
    "    tgt_mask = \"./tgt_masked_\" * file\n",
    "    tgt_mask_unphase = \"./tgt_masked_unphased_\" * file\n",
    "\n",
    "    # compute target and reference index\n",
    "    println(\"computing tgt/ref/record index\")\n",
    "    tgt_index = falses(n)\n",
    "    tgt_index[sample(1:n, samples, replace=false)] .= true\n",
    "    ref_index = .!tgt_index\n",
    "    record_index = .!find_duplicate(data) # save only unique records (SNPs) \n",
    "\n",
    "    # generate masking matrix with `missingprop`% of trues (true = convert to missing)\n",
    "    p = sum(record_index)\n",
    "    masks = falses(p, samples)\n",
    "    for j in 1:samples, i in 1:p\n",
    "        rand() < missingprop && (masks[i, j] = true)\n",
    "    end\n",
    "\n",
    "    # create outputs \n",
    "    println(\"generating target file\")\n",
    "    VCFTools.filter(data, record_index, tgt_index, des = tgt)\n",
    "    println(\"generating reference file\")\n",
    "    VCFTools.filter(data, record_index, ref_index, des = ref)\n",
    "    println(\"generating masked file\")\n",
    "    mask_gt(tgt, masks, des=tgt_mask)\n",
    "\n",
    "    # finally, unphase the target data\n",
    "    unphase(tgt_mask, outfile=tgt_mask_unphase)\n",
    "end"
   ]
  },
  {
   "cell_type": "code",
   "execution_count": 11,
   "metadata": {
    "collapsed": false
   },
   "outputs": [
    {
     "name": "stdout",
     "output_type": "stream",
     "text": [
      "computing tgt/ref/record index\n",
      "generating target file\n",
      "generating reference file\n",
      "generating masked file\n"
     ]
    },
    {
     "name": "stderr",
     "output_type": "stream",
     "text": [
      "\u001b[32mCreating ./tgt_masked_unphased_chr22.vcf.gz...100%|█████| Time: 0:01:56\u001b[39m\n"
     ]
    },
    {
     "name": "stdout",
     "output_type": "stream",
     "text": [
      "2101.643985 seconds (24.78 G allocations: 2.084 TiB, 9.99% gc time)\n"
     ]
    }
   ],
   "source": [
    "Random.seed!(2020)\n",
    "cd(\"/Users/biona001/.julia/dev/MendelImpute/data/1000_genome_phase3_v5/filtered\")\n",
    "\n",
    "chr22 = \"../raw/ALL.chr22.phase3_v5.shapeit2_mvncall_integrated.noSingleton.genotypes.vcf.gz\"\n",
    "@time filter_and_mask(chr22, 500) # 500 imputation samples, remaining 2004 used as reference"
   ]
  },
  {
   "cell_type": "markdown",
   "metadata": {},
   "source": [
    "# Run MendelImpute (fast)"
   ]
  },
  {
   "cell_type": "code",
   "execution_count": 2,
   "metadata": {
    "collapsed": false
   },
   "outputs": [
    {
     "name": "stdout",
     "output_type": "stream",
     "text": [
      "running width = 1000\n"
     ]
    },
    {
     "name": "stderr",
     "output_type": "stream",
     "text": [
      "\u001b[32mImporting genotype and haplotype files...100%|██████████| Time: 0:03:59\u001b[39m\n",
      "\u001b[32mComputing optimal haplotype pairs...100%|███████████████| Time: 0:28:42\u001b[39m\n",
      "\u001b[32mIntersecting haplotypes...100%|█████████████████████████| Time: 0:00:01\u001b[39m\n",
      "\u001b[32mMerging breakpoints...100%|█████████████████████████████| Time: 0:52:04\u001b[39m\n",
      "\u001b[32mWriting to file...100%|█████████████████████████████████| Time: 0:01:51\u001b[39m\n"
     ]
    },
    {
     "name": "stdout",
     "output_type": "stream",
     "text": [
      "5247.320492 seconds (4.92 G allocations: 460.318 GiB, 0.69% gc time)\n",
      "error = 5.980410550455159e-5\n",
      "\n"
     ]
    }
   ],
   "source": [
    "# fast method\n",
    "cd(\"/Users/biona001/.julia/dev/MendelImpute/data/1000_genome_phase3_v5/filtered\")\n",
    "function run()\n",
    "    X_complete = convert_gt(Float32, \"tgt_chr22.vcf.gz\")\n",
    "    n, p = size(X_complete)\n",
    "    for width in 1000\n",
    "        println(\"running fast method, width = $width\")\n",
    "        tgtfile = \"./tgt_masked_unphased_chr22.vcf.gz\"\n",
    "        reffile = \"./ref_chr22.vcf.gz\"\n",
    "        outfile = \"./mendel_imputed_fast_$(width).vcf.gz\"\n",
    "        @time phase(tgtfile, reffile, outfile = outfile, width = width, fast_method=true)\n",
    "        X_mendel = convert_gt(Float32, outfile)\n",
    "        println(\"error = $(sum(X_mendel .!= X_complete) / n / p)\")\n",
    "        X_mendel = nothing\n",
    "        GC.gc()\n",
    "        println(\"\")\n",
    "    end\n",
    "end\n",
    "run()"
   ]
  },
  {
   "cell_type": "markdown",
   "metadata": {},
   "source": [
    "# Run MendelImpute (dynamic programming)"
   ]
  },
  {
   "cell_type": "code",
   "execution_count": 2,
   "metadata": {
    "collapsed": false
   },
   "outputs": [
    {
     "data": {
      "text/plain": [
       "4"
      ]
     },
     "execution_count": 2,
     "metadata": {},
     "output_type": "execute_result"
    }
   ],
   "source": [
    "Threads.nthreads()"
   ]
  },
  {
   "cell_type": "code",
   "execution_count": 3,
   "metadata": {
    "collapsed": false
   },
   "outputs": [
    {
     "name": "stdout",
     "output_type": "stream",
     "text": [
      "running width = 1000\n"
     ]
    },
    {
     "name": "stderr",
     "output_type": "stream",
     "text": [
      "\u001b[32mImporting genotype and haplotype files...100%|██████████| Time: 0:04:14\u001b[39m\n",
      "\u001b[32mComputing optimal haplotype pairs...100%|███████████████| Time: 0:29:11\u001b[39m\n",
      "\u001b[32mImputing samples...100%|████████████████████████████████| Time: 0:30:50\u001b[39m\n",
      "\u001b[32mWriting to file...100%|█████████████████████████████████| Time: 0:01:48\u001b[39m\n"
     ]
    },
    {
     "name": "stdout",
     "output_type": "stream",
     "text": [
      "4012.073367 seconds (4.91 G allocations: 461.667 GiB, 0.94% gc time)\n",
      "error = 5.823806592561467e-5\n",
      "\n"
     ]
    }
   ],
   "source": [
    "# dynamic programming \n",
    "cd(\"/Users/biona001/.julia/dev/MendelImpute/data/1000_genome_phase3_v5/filtered\")\n",
    "function run_dp()\n",
    "    X_complete = convert_gt(Float32, \"tgt_chr22.vcf.gz\")\n",
    "    n, p = size(X_complete)\n",
    "    for width in 1000\n",
    "        println(\"running dynamic programming, width = $width\")\n",
    "        tgtfile = \"./tgt_masked_unphased_chr22.vcf.gz\"\n",
    "        reffile = \"./ref_chr22.vcf.gz\"\n",
    "        outfile = \"./mendel_imputed_fast_$(width).vcf.gz\"\n",
    "        @time phase(tgtfile, reffile, outfile = outfile, width = width, fast_method=false)\n",
    "        X_mendel = convert_gt(Float32, outfile)\n",
    "        println(\"error = $(sum(X_mendel .!= X_complete) / n / p)\")\n",
    "        X_mendel = nothing\n",
    "        GC.gc()\n",
    "        println(\"\")\n",
    "    end\n",
    "end\n",
    "run_dp()"
   ]
  },
  {
   "cell_type": "markdown",
   "metadata": {},
   "source": [
    "# Run Beagle 5.0"
   ]
  },
  {
   "cell_type": "code",
   "execution_count": 13,
   "metadata": {
    "collapsed": false
   },
   "outputs": [
    {
     "name": "stdout",
     "output_type": "stream",
     "text": [
      "beagle.28Sep18.793.jar (version 5.0)\n",
      "Copyright (C) 2014-2018 Brian L. Browning\n",
      "Enter \"java -jar beagle.28Sep18.793.jar\" to list command line argument\n",
      "Start time: 12:56 AM PDT on 06 Apr 2020\n",
      "\n",
      "Command line: java -Xmx13653m -jar beagle.28Sep18.793.jar\n",
      "  gt=tgt_masked_unphased_chr22.vcf.gz\n",
      "  ref=ref_chr22.vcf.gz\n",
      "  out=beagle_imputed,\n",
      "  nthreads=4\n",
      "\n",
      "No genetic map is specified: using 1 cM = 1 Mb\n",
      "\n",
      "Reference samples:       2,004\n",
      "Study samples:             500\n",
      "\n",
      "Window 1 (22:16050115-51244237)\n",
      "Reference markers:     644,939\n",
      "Study markers:         644,939\n",
      "\n",
      "Burnin  iteration 1:           3 minutes 25 seconds\n",
      "Burnin  iteration 2:           3 minutes 59 seconds\n",
      "Burnin  iteration 3:           5 minutes 13 seconds\n",
      "Burnin  iteration 4:           6 minutes 47 seconds\n",
      "Burnin  iteration 5:           8 minutes 20 seconds\n",
      "Burnin  iteration 6:           8 minutes 55 seconds\n",
      "\n",
      "Phasing iteration 1:           8 minutes 47 seconds\n",
      "Phasing iteration 2:           8 minutes 37 seconds\n",
      "Phasing iteration 3:           8 minutes 41 seconds\n",
      "Phasing iteration 4:           8 minutes 54 seconds\n",
      "Phasing iteration 5:           8 minutes 50 seconds\n",
      "Phasing iteration 6:           9 minutes 4 seconds\n",
      "Phasing iteration 7:           9 minutes 8 seconds\n",
      "Phasing iteration 8:           9 minutes 6 seconds\n",
      "Phasing iteration 9:           8 minutes 58 seconds\n",
      "Phasing iteration 10:          8 minutes 35 seconds\n",
      "Phasing iteration 11:          8 minutes 22 seconds\n",
      "Phasing iteration 12:          8 minutes 0 seconds\n",
      "\n",
      "Cumulative Statistics:\n",
      "\n",
      "Study markers:         644,939\n",
      "\n",
      "Haplotype phasing time:        2 hours 21 minutes 40 seconds\n",
      "Total time:                    2 hours 23 minutes 51 seconds\n",
      "\n",
      "End time: 03:20 AM PDT on 06 Apr 2020\n",
      "beagle.28Sep18.793.jar finished\n"
     ]
    },
    {
     "data": {
      "text/plain": [
       "Process(`\u001b[4mjava\u001b[24m \u001b[4m-Xmx15g\u001b[24m \u001b[4m-jar\u001b[24m \u001b[4mbeagle.28Sep18.793.jar\u001b[24m \u001b[4mgt=tgt_masked_unphased_chr22.vcf.gz\u001b[24m \u001b[4mref=ref_chr22.vcf.gz\u001b[24m \u001b[4mout=beagle_imputed,\u001b[24m \u001b[4mnthreads=4\u001b[24m`, ProcessExited(0))"
      ]
     },
     "execution_count": 13,
     "metadata": {},
     "output_type": "execute_result"
    }
   ],
   "source": [
    "# beagle 5\n",
    "cd(\"/Users/biona001/.julia/dev/MendelImpute/data/1000_genome_phase3_v5/filtered\")\n",
    "function run_beagle()\n",
    "    run(`java -Xmx15g -jar beagle.28Sep18.793.jar gt=tgt_masked_unphased_chr22.vcf.gz ref=ref_chr22.vcf.gz out=beagle_imputed, nthreads=4`)\n",
    "end\n",
    "run_beagle()"
   ]
  },
  {
   "cell_type": "code",
   "execution_count": 14,
   "metadata": {
    "collapsed": false
   },
   "outputs": [
    {
     "name": "stdout",
     "output_type": "stream",
     "text": [
      "error = 5.513389638399911e-5\n"
     ]
    }
   ],
   "source": [
    "X_complete = convert_gt(Float32, \"tgt_chr22.vcf.gz\")\n",
    "X_beagle = convert_gt(Float32, \"beagle_imputed,.vcf.gz\")\n",
    "n, p = size(X_complete)\n",
    "println(\"error = $(sum(X_beagle .!= X_complete) / n / p)\")"
   ]
  },
  {
   "cell_type": "markdown",
   "metadata": {
    "collapsed": true
   },
   "source": [
    "## Scripts for submitting jobs on Hoffman"
   ]
  },
  {
   "cell_type": "code",
   "execution_count": null,
   "metadata": {
    "collapsed": true
   },
   "outputs": [],
   "source": [
    "# filtering\n",
    "cd(\"/u/home/b/biona001/haplotype_comparisons/data\") \n",
    "open(\"filter.sh\", \"w\") do io\n",
    "    println(io, \"#!/bin/bash\")\n",
    "    println(io, \"#\\$ -cwd\")\n",
    "    println(io, \"# error = Merged with joblog\")\n",
    "    println(io, \"#\\$ -o joblog.\\$JOB_ID\")\n",
    "    println(io, \"#\\$ -j y\")\n",
    "    println(io, \"#\\$ -l exclusive,h_rt=24:00:00,h_data=20G\")\n",
    "    println(io, \"# Email address to notify\")\n",
    "    println(io, \"#\\$ -M \\$USER@mail\")\n",
    "    println(io, \"# Notify when\")\n",
    "    println(io, \"#\\$ -m a\")\n",
    "    println(io)\n",
    "    println(io, \"echo \\\"Job \\$JOB_ID started on:   \\\" `hostname -s`\")\n",
    "    println(io, \"echo \\\"Job \\$JOB_ID started on:   \\\" `date `\")\n",
    "    println(io)\n",
    "    println(io, \"# load the job environment:\")\n",
    "    println(io, \". /u/local/Modules/default/init/modules.sh\")\n",
    "    println(io, \"module load julia/1.2.0\")\n",
    "    println(io, \"module load java/1.8.0_111\")\n",
    "    println(io)\n",
    "    println(io, \"echo \\'julia ./filter_and_mask.jl\\' \")\n",
    "    println(io, \"julia /u/home/b/biona001/haplotype_comparisons/data/filter_and_mask.jl\")\n",
    "    println(io)\n",
    "    println(io, \"echo \\\"Job \\$JOB_ID ended on:   \\\" `hostname -s`\")\n",
    "    println(io, \"echo \\\"Job \\$JOB_ID ended on:   \\\" `date `\")\n",
    "    println(io)\n",
    "end\n",
    "# submit job\n",
    "run(`qsub filter.sh`)\n",
    "rm(\"filter.sh\", force=true)\n",
    "    "
   ]
  },
  {
   "cell_type": "code",
   "execution_count": null,
   "metadata": {
    "collapsed": true
   },
   "outputs": [],
   "source": [
    "# convert to m3vcf file using minimac3\n",
    "cd(\"/u/home/b/biona001/haplotype_comparisons/data\") \n",
    "open(\"minimac3.sh\", \"w\") do io\n",
    "    println(io, \"#!/bin/bash\")\n",
    "    println(io, \"#\\$ -cwd\")\n",
    "    println(io, \"# error = Merged with joblog\")\n",
    "    println(io, \"#\\$ -o joblog.\\$JOB_ID\")\n",
    "    println(io, \"#\\$ -j y\")\n",
    "    println(io, \"#\\$ -l exclusive,h_rt=24:00:00,h_data=20G\")\n",
    "    println(io, \"# Email address to notify\")\n",
    "    println(io, \"#\\$ -M \\$USER@mail\")\n",
    "    println(io, \"# Notify when\")\n",
    "    println(io, \"#\\$ -m a\")\n",
    "    println(io)\n",
    "    println(io, \"echo \\\"Job \\$JOB_ID started on:   \\\" `hostname -s`\")\n",
    "    println(io, \"echo \\\"Job \\$JOB_ID started on:   \\\" `date `\")\n",
    "    println(io)\n",
    "    println(io, \"# load the job environment:\")\n",
    "    println(io, \". /u/local/Modules/default/init/modules.sh\")\n",
    "    println(io, \"module load julia/1.2.0\")\n",
    "    println(io, \"module load R/3.5.1\")\n",
    "    println(io, \"module load java/1.8.0_111\")\n",
    "    println(io)\n",
    "    println(io, \"echo \\'converting chr22, chr21, chr20 from vcf.gz to m3vcf.gz\\' \")\n",
    "    println(io, \"/u/home/b/biona001/haplotype_comparisons/Minimac3/bin/Minimac3 --refHaps ref_chr22.vcf.gz --processReference --prefix ref_chr22\")\n",
    "    println(io, \"/u/home/b/biona001/haplotype_comparisons/Minimac3/bin/Minimac3 --refHaps ref_chr21.vcf.gz --processReference --prefix ref_chr21\")\n",
    "    println(io, \"/u/home/b/biona001/haplotype_comparisons/Minimac3/bin/Minimac3 --refHaps ref_chr20.vcf.gz --processReference --prefix ref_chr20\")\n",
    "    println(io)\n",
    "    println(io, \"echo \\\"Job \\$JOB_ID ended on:   \\\" `hostname -s`\")\n",
    "    println(io, \"echo \\\"Job \\$JOB_ID ended on:   \\\" `date `\")\n",
    "    println(io)\n",
    "end\n",
    "# submit job\n",
    "run(`qsub minimac3.sh`)\n",
    "rm(\"minimac3.sh\", force=true)"
   ]
  },
  {
   "cell_type": "code",
   "execution_count": null,
   "metadata": {
    "collapsed": true
   },
   "outputs": [],
   "source": [
    "# run mendel dp and fast method\n",
    "cd(\"/u/home/b/biona001/haplotype_comparisons/data\") \n",
    "open(\"mendel.sh\", \"w\") do io\n",
    "    println(io, \"#!/bin/bash\")\n",
    "    println(io, \"#\\$ -cwd\")\n",
    "    println(io, \"# error = Merged with joblog\")\n",
    "    println(io, \"#\\$ -o joblog.\\$JOB_ID\")\n",
    "    println(io, \"#\\$ -j y\")\n",
    "    println(io, \"#\\$ -l arch=intel-X5650,exclusive,h_rt=24:00:00,h_data=20G\")\n",
    "    println(io, \"# Email address to notify\")\n",
    "    println(io, \"#\\$ -M \\$USER@mail\")\n",
    "    println(io, \"# Notify when\")\n",
    "    println(io, \"#\\$ -m a\")\n",
    "    println(io)\n",
    "    println(io, \"echo \\\"Job \\$JOB_ID started on:   \\\" `hostname -s`\")\n",
    "    println(io, \"echo \\\"Job \\$JOB_ID started on:   \\\" `date `\")\n",
    "    println(io)\n",
    "    println(io, \"# load the job environment:\")\n",
    "    println(io, \". /u/local/Modules/default/init/modules.sh\")\n",
    "    println(io, \"module load julia/1.2.0\")\n",
    "    println(io, \"module load java/1.8.0_111\")\n",
    "    println(io)\n",
    "    println(io, \"echo \\'run mendel (dp and fast method) on chr 20, 21. width = 400, 800, 1200, 1600, 12 threads\\' \")\n",
    "    println(io, \"export JULIA_NUM_THREADS=12\")\n",
    "    println(io, \"julia mendel.jl\")\n",
    "    println(io)\n",
    "    println(io, \"echo \\\"Job \\$JOB_ID ended on:   \\\" `hostname -s`\")\n",
    "    println(io, \"echo \\\"Job \\$JOB_ID ended on:   \\\" `date `\")\n",
    "    println(io)\n",
    "end\n",
    "# submit job\n",
    "run(`qsub mendel.sh`)\n",
    "rm(\"mendel.sh\", force=true)"
   ]
  },
  {
   "cell_type": "code",
   "execution_count": null,
   "metadata": {
    "collapsed": true
   },
   "outputs": [],
   "source": [
    "# run beagle 5\n",
    "cd(\"/u/home/b/biona001/haplotype_comparisons/data\") \n",
    "open(\"beagle.sh\", \"w\") do io\n",
    "    println(io, \"#!/bin/bash\")\n",
    "    println(io, \"#\\$ -cwd\")\n",
    "    println(io, \"# error = Merged with joblog\")\n",
    "    println(io, \"#\\$ -o joblog.\\$JOB_ID\")\n",
    "    println(io, \"#\\$ -j y\")\n",
    "    println(io, \"#\\$ -l arch=intel-X5650,exclusive,h_rt=24:00:00,h_data=20G\")\n",
    "    println(io, \"# Email address to notify\")\n",
    "    println(io, \"#\\$ -M \\$USER@mail\")\n",
    "    println(io, \"# Notify when\")\n",
    "    println(io, \"#\\$ -m a\")\n",
    "    println(io)\n",
    "    println(io, \"echo \\\"Job \\$JOB_ID started on:   \\\" `hostname -s`\")\n",
    "    println(io, \"echo \\\"Job \\$JOB_ID started on:   \\\" `date `\")\n",
    "    println(io)\n",
    "    println(io, \"# load the job environment:\")\n",
    "    println(io, \". /u/local/Modules/default/init/modules.sh\")\n",
    "    println(io, \"module load julia/1.2.0\")\n",
    "    println(io, \"module load java/1.8.0_111\")\n",
    "    println(io)\n",
    "    println(io, \"echo \\'run beagle 5.0 on chr 20, 21 with 12 threads\\' \")\n",
    "    println(io, \"java -Xmx$42g -jar beagle5.0.jar gt=tgt_masked_unphased_chr20.vcf.gz ref=ref_chr20.vcf.gz out=beagle_imputed_chr20 nthreads=12\")\n",
    "    println(io, \"java -Xmx$42g -jar beagle5.0.jar gt=tgt_masked_unphased_chr21.vcf.gz ref=ref_chr21.vcf.gz out=beagle_imputed_chr21 nthreads=12\")\n",
    "    println(io)\n",
    "    println(io, \"echo \\\"Job \\$JOB_ID ended on:   \\\" `hostname -s`\")\n",
    "    println(io, \"echo \\\"Job \\$JOB_ID ended on:   \\\" `date `\")\n",
    "    println(io)\n",
    "end\n",
    "# submit job\n",
    "run(`qsub beagle.sh`)\n",
    "rm(\"beagle.sh\", force=true)"
   ]
  },
  {
   "cell_type": "code",
   "execution_count": null,
   "metadata": {
    "collapsed": true
   },
   "outputs": [],
   "source": [
    "# prephase using beagle 5 (need to check if output indeed retained missing data)\n",
    "cd(\"/u/home/b/biona001/haplotype_comparisons/data\") \n",
    "open(\"beagle.sh\", \"w\") do io\n",
    "    println(io, \"#!/bin/bash\")\n",
    "    println(io, \"#\\$ -cwd\")\n",
    "    println(io, \"# error = Merged with joblog\")\n",
    "    println(io, \"#\\$ -o joblog.\\$JOB_ID\")\n",
    "    println(io, \"#\\$ -j y\")\n",
    "    println(io, \"#\\$ -l arch=intel-X5650,exclusive,h_rt=24:00:00,h_data=20G\")\n",
    "    println(io, \"# Email address to notify\")\n",
    "    println(io, \"#\\$ -M \\$USER@mail\")\n",
    "    println(io, \"# Notify when\")\n",
    "    println(io, \"#\\$ -m a\")\n",
    "    println(io)\n",
    "    println(io, \"echo \\\"Job \\$JOB_ID started on:   \\\" `hostname -s`\")\n",
    "    println(io, \"echo \\\"Job \\$JOB_ID started on:   \\\" `date `\")\n",
    "    println(io)\n",
    "    println(io, \"# load the job environment:\")\n",
    "    println(io, \". /u/local/Modules/default/init/modules.sh\")\n",
    "    println(io, \"module load julia/1.2.0\")\n",
    "    println(io, \"module load java/1.8.0_111\")\n",
    "    println(io)\n",
    "    println(io, \"echo \\'prephase using beagle 5.0 on chr 20, 21, 22 with 12 threads\\' \")\n",
    "    println(io, \"java -Xmx$42g -jar beagle5.0.jar gt=tgt_masked_unphased_chr20.vcf.gz ref=ref_chr20.vcf.gz out=tgt_masked_prephased_chr20 niteration=0 impute=false nthreads=12\")\n",
    "    println(io, \"java -Xmx$42g -jar beagle5.0.jar gt=tgt_masked_unphased_chr21.vcf.gz ref=ref_chr21.vcf.gz out=tgt_masked_prephased_chr21 niteration=0 impute=false nthreads=12\")\n",
    "    println(io, \"java -Xmx$42g -jar beagle5.0.jar gt=tgt_masked_unphased_chr22.vcf.gz ref=ref_chr21.vcf.gz out=tgt_masked_prephased_chr22 niteration=0 impute=false nthreads=12\")\n",
    "    println(io)\n",
    "    println(io, \"echo \\\"Job \\$JOB_ID ended on:   \\\" `hostname -s`\")\n",
    "    println(io, \"echo \\\"Job \\$JOB_ID ended on:   \\\" `date `\")\n",
    "    println(io)\n",
    "end\n",
    "# submit job\n",
    "run(`qsub beagle.sh`)\n",
    "rm(\"beagle.sh\", force=true)"
   ]
  },
  {
   "cell_type": "code",
   "execution_count": null,
   "metadata": {
    "collapsed": true
   },
   "outputs": [],
   "source": [
    "# run minimac 4\n",
    "cd(\"/u/home/b/biona001/haplotype_comparisons/data\") \n",
    "open(\"beagle.sh\", \"w\") do io\n",
    "    println(io, \"#!/bin/bash\")\n",
    "    println(io, \"#\\$ -cwd\")\n",
    "    println(io, \"# error = Merged with joblog\")\n",
    "    println(io, \"#\\$ -o joblog.\\$JOB_ID\")\n",
    "    println(io, \"#\\$ -j y\")\n",
    "    println(io, \"#\\$ -l arch=intel-X5650,exclusive,h_rt=24:00:00,h_data=20G\")\n",
    "    println(io, \"# Email address to notify\")\n",
    "    println(io, \"#\\$ -M \\$USER@mail\")\n",
    "    println(io, \"# Notify when\")\n",
    "    println(io, \"#\\$ -m a\")\n",
    "    println(io)\n",
    "    println(io, \"echo \\\"Job \\$JOB_ID started on:   \\\" `hostname -s`\")\n",
    "    println(io, \"echo \\\"Job \\$JOB_ID started on:   \\\" `date `\")\n",
    "    println(io)\n",
    "    println(io, \"# load the job environment:\")\n",
    "    println(io, \". /u/local/Modules/default/init/modules.sh\")\n",
    "    println(io, \"module load julia/1.2.0\")\n",
    "    println(io, \"module load java/1.8.0_111\")\n",
    "    println(io)\n",
    "    println(io, \"echo \\'run minimac4 on chr 20, 21, 22 with 12 threads\\' \")\n",
    "    println(io, \"minimac4 --refHaps ref_chr20.vcf.m3vcf.gz --haps tgt_masked_prephased_chr20.vcf.gz --prefix minimac_imputed_chr20 --format GT --cpus 12\")\n",
    "    println(io, \"minimac4 --refHaps ref_chr21.vcf.m3vcf.gz --haps tgt_masked_prephased_chr21.vcf.gz --prefix minimac_imputed_chr21 --format GT --cpus 12\")\n",
    "    println(io, \"minimac4 --refHaps ref_chr22.vcf.m3vcf.gz --haps tgt_masked_prephased_chr22.vcf.gz --prefix minimac_imputed_chr22 --format GT --cpus 12\")\n",
    "    println(io)\n",
    "    println(io, \"echo \\\"Job \\$JOB_ID ended on:   \\\" `hostname -s`\")\n",
    "    println(io, \"echo \\\"Job \\$JOB_ID ended on:   \\\" `date `\")\n",
    "    println(io)\n",
    "end\n",
    "# submit job\n",
    "run(`qsub beagle.sh`)\n",
    "rm(\"beagle.sh\", force=true)"
   ]
  }
 ],
 "metadata": {
  "@webio": {
   "lastCommId": null,
   "lastKernelId": null
  },
  "kernelspec": {
   "display_name": "Julia 1.3.0-rc4",
   "language": "julia",
   "name": "julia-1.3"
  },
  "language_info": {
   "file_extension": ".jl",
   "mimetype": "application/julia",
   "name": "julia",
   "version": "1.3.1"
  }
 },
 "nbformat": 4,
 "nbformat_minor": 2
}
