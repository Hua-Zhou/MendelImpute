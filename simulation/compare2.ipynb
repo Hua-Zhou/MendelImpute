{
 "cells": [
  {
   "cell_type": "markdown",
   "metadata": {},
   "source": [
    "# Compare MendelImpute against Minimac4 and Beagle5 on simulated data\n",
    "\n",
    "In compare 2, we distinguish typed and untyped SNPs. 10% of typed SNPs are missing and only 50% of all SNPs are typed. "
   ]
  },
  {
   "cell_type": "code",
   "execution_count": 1,
   "metadata": {
    "collapsed": false,
    "scrolled": true
   },
   "outputs": [
    {
     "name": "stderr",
     "output_type": "stream",
     "text": [
      "┌ Info: Precompiling MendelImpute [e47305d1-6a61-5370-bc5d-77554d143183]\n",
      "└ @ Base loading.jl:1278\n"
     ]
    }
   ],
   "source": [
    "using Revise\n",
    "using VCFTools\n",
    "using MendelImpute\n",
    "using GeneticVariation\n",
    "using Random\n",
    "using SparseArrays\n",
    "using JLD2, FileIO, JLSO\n",
    "using ProgressMeter\n",
    "using GroupSlices\n",
    "using ThreadPools\n",
    "using LinearAlgebra\n",
    "using CSV\n",
    "using UnicodePlots\n",
    "# using Plots\n",
    "# using ProfileView"
   ]
  },
  {
   "cell_type": "code",
   "execution_count": 13,
   "metadata": {
    "collapsed": false
   },
   "outputs": [
    {
     "name": "stdout",
     "output_type": "stream",
     "text": [
      "Number of threads = 8\n",
      "Importing reference haplotype data...\n"
     ]
    },
    {
     "name": "stderr",
     "output_type": "stream",
     "text": [
      "\u001b[32mImporting genotype file...100%|█████████████████████████| Time: 0:00:07\u001b[39m\n"
     ]
    },
    {
     "name": "stdout",
     "output_type": "stream",
     "text": [
      "Float32[NaN, 0.740699, 0.0, 0.0, NaN, 0.51937985, 0.0, 0.0, NaN, NaN, -6.231189f-37, 4.5757f-41, 0.48044693, 0.59598213, 0.8111732, 0.80680573, NaN, 0.95583236, 4.420361f35, 4.5757f-41]\n",
      "\n",
      "Float32[0.740699, 0.740699, 0.63003945, 0.63003945, 0.63003945, 0.51937985, 0.4999134, 0.4999134, 0.4999134, 0.4999134, 0.4999134, 0.4999134, 0.48044693, 0.59598213, 0.8111732, 0.80680573, 0.88131905, 0.95583236, 0.9430847, 0.9430847]\n",
      "\n",
      "Total windows = 64, averaging ~ 692 unique haplotypes per window.\n",
      "\n",
      "Timings: \n",
      "    Data import                     = 8.85105 seconds\n",
      "        import target data             = 8.24312 seconds\n",
      "        import compressed haplotypes   = 0.607925 seconds\n",
      "    Computing haplotype pair        = 2.22866 seconds\n",
      "        BLAS3 mul! to get M and N      = 0.0692214 seconds per thread\n",
      "        haplopair search               = 1.76287 seconds per thread\n",
      "        initializing missing           = 0.163842 seconds per thread\n",
      "        allocating and viewing         = 0.0252175 seconds per thread\n",
      "        index conversion               = 0.0275232 seconds per thread\n",
      "    Phasing by win-win intersection = 0.327374 seconds\n",
      "        Window-by-window intersection  = 0.0241631 seconds per thread\n",
      "        Breakpoint search              = 0.226854 seconds per thread\n",
      "        Recording result               = 0.00428557 seconds per thread\n",
      "    Imputation                     = 1.17497 seconds\n",
      "        Imputing missing               = 0.141571 seconds\n",
      "        Writing to file                = 1.0334 seconds\n",
      "\n",
      "    Total time                      = 12.5832 seconds\n",
      "\n",
      " 12.737376 seconds (77.48 M allocations: 6.232 GiB, 6.57% gc time)\n",
      "error_rate = 8.421999100854189e-5\n"
     ]
    }
   ],
   "source": [
    "# impute with double bkpt search (8 thread)\n",
    "Random.seed!(2020)\n",
    "d       = 1000\n",
    "tgtfile = \"./compare2/target.typedOnly.maf0.01.masked.vcf.gz\"\n",
    "reffile = \"./compare2/ref.excludeTarget.maxd$d.jlso\"\n",
    "outfile = \"./compare2/mendel.imputed.vcf.gz\"\n",
    "@time ph = phase(tgtfile, reffile, outfile);\n",
    "\n",
    "# import imputed result and compare with true\n",
    "X_mendel = convert_gt(Float32, outfile, trans=true)\n",
    "X_complete = convert_gt(Float32, \"./compare2/target.full.vcf.gz\", trans=true)\n",
    "n, p = size(X_mendel)\n",
    "println(\"error_rate = \", sum(X_mendel .!= X_complete) / n / p)\n",
    "# rm(outfile, force=true)"
   ]
  },
  {
   "cell_type": "code",
   "execution_count": 28,
   "metadata": {
    "collapsed": false
   },
   "outputs": [],
   "source": [
    "using GeneticVariation\n",
    "reader = VCF.Reader(openvcf(outfile, \"r\"))\n",
    "snpscores = zeros(nrecords(outfile))\n",
    "\n",
    "# loop over SNPs\n",
    "for (i, record) in enumerate(reader)\n",
    "    snpscores[i] = parse(Float64, VCF.info(record)[1].second)\n",
    "end\n"
   ]
  },
  {
   "cell_type": "code",
   "execution_count": 29,
   "metadata": {
    "collapsed": false
   },
   "outputs": [
    {
     "data": {
      "text/plain": [
       "\u001b[90m                ┌                                        ┐\u001b[39m \n",
       "   \u001b[0m\u001b[90m[\u001b[0m0.4 \u001b[90m, \u001b[0m0.45\u001b[90m)\u001b[0m\u001b[90m ┤\u001b[39m\u001b[0m 1                                      \u001b[90m \u001b[39m \n",
       "   \u001b[0m\u001b[90m[\u001b[0m0.45\u001b[90m, \u001b[0m0.5 \u001b[90m)\u001b[0m\u001b[90m ┤\u001b[39m\u001b[32m▇▇▇▇\u001b[39m\u001b[0m 1521                               \u001b[90m \u001b[39m \n",
       "   \u001b[0m\u001b[90m[\u001b[0m0.5 \u001b[90m, \u001b[0m0.55\u001b[90m)\u001b[0m\u001b[90m ┤\u001b[39m\u001b[32m▇▇▇▇▇▇▇▇▇▇▇▇▇▇\u001b[39m\u001b[0m 5062                     \u001b[90m \u001b[39m \n",
       "   \u001b[0m\u001b[90m[\u001b[0m0.55\u001b[90m, \u001b[0m0.6 \u001b[90m)\u001b[0m\u001b[90m ┤\u001b[39m\u001b[32m▇▇▇▇▇▇▇▇▇▇▇▇\u001b[39m\u001b[0m 4189                       \u001b[90m \u001b[39m \n",
       "   \u001b[0m\u001b[90m[\u001b[0m0.6 \u001b[90m, \u001b[0m0.65\u001b[90m)\u001b[0m\u001b[90m ┤\u001b[39m\u001b[32m▇▇▇▇▇▇▇▇▇▇▇\u001b[39m\u001b[0m 3991                        \u001b[90m \u001b[39m \n",
       "   \u001b[0m\u001b[90m[\u001b[0m0.65\u001b[90m, \u001b[0m0.7 \u001b[90m)\u001b[0m\u001b[90m ┤\u001b[39m\u001b[32m▇▇▇▇▇▇▇▇▇▇▇▇▇▇\u001b[39m\u001b[0m 4903                     \u001b[90m \u001b[39m \n",
       "   \u001b[0m\u001b[90m[\u001b[0m0.7 \u001b[90m, \u001b[0m0.75\u001b[90m)\u001b[0m\u001b[90m ┤\u001b[39m\u001b[32m▇▇▇▇▇▇▇▇▇▇▇▇▇▇▇▇▇▇▇▇▇▇\u001b[39m\u001b[0m 7854             \u001b[90m \u001b[39m \n",
       "   \u001b[0m\u001b[90m[\u001b[0m0.75\u001b[90m, \u001b[0m0.8 \u001b[90m)\u001b[0m\u001b[90m ┤\u001b[39m\u001b[32m▇▇▇▇▇▇▇▇▇▇▇▇▇▇▇▇▇▇▇▇▇\u001b[39m\u001b[0m 7483              \u001b[90m \u001b[39m \n",
       "   \u001b[0m\u001b[90m[\u001b[0m0.8 \u001b[90m, \u001b[0m0.85\u001b[90m)\u001b[0m\u001b[90m ┤\u001b[39m\u001b[32m▇▇▇▇▇▇▇▇▇▇▇▇▇▇▇▇▇▇▇▇▇\u001b[39m\u001b[0m 7322              \u001b[90m \u001b[39m \n",
       "   \u001b[0m\u001b[90m[\u001b[0m0.85\u001b[90m, \u001b[0m0.9 \u001b[90m)\u001b[0m\u001b[90m ┤\u001b[39m\u001b[32m▇▇▇▇▇▇▇▇▇▇▇▇▇▇▇▇▇▇▇▇▇▇▇▇\u001b[39m\u001b[0m 8627           \u001b[90m \u001b[39m \n",
       "   \u001b[0m\u001b[90m[\u001b[0m0.9 \u001b[90m, \u001b[0m0.95\u001b[90m)\u001b[0m\u001b[90m ┤\u001b[39m\u001b[32m▇▇▇▇▇▇▇▇▇▇▇▇▇▇▇▇▇▇▇▇▇▇▇▇▇▇▇▇▇▇▇▇▇\u001b[39m\u001b[0m 11642 \u001b[90m \u001b[39m \n",
       "   \u001b[0m\u001b[90m[\u001b[0m0.95\u001b[90m, \u001b[0m1.0 \u001b[90m)\u001b[0m\u001b[90m ┤\u001b[39m\u001b[32m▇▇▇▇▇▇▇▇▇▇▇▇▇▇▇▇▇▇▇▇▇▇▇▇▇▇▇▇▇▇▇\u001b[39m\u001b[0m 10808   \u001b[90m \u001b[39m \n",
       "\u001b[90m                └                                        ┘\u001b[39m \n",
       "\u001b[0m                                Frequency"
      ]
     },
     "execution_count": 29,
     "metadata": {},
     "output_type": "execute_result"
    }
   ],
   "source": [
    "histogram(snpscores)"
   ]
  },
  {
   "cell_type": "code",
   "execution_count": null,
   "metadata": {
    "collapsed": true
   },
   "outputs": [],
   "source": []
  },
  {
   "cell_type": "code",
   "execution_count": 36,
   "metadata": {
    "collapsed": false
   },
   "outputs": [
    {
     "name": "stdout",
     "output_type": "stream",
     "text": [
      "Number of threads = 8\n",
      "Importing reference haplotype data...\n"
     ]
    },
    {
     "name": "stderr",
     "output_type": "stream",
     "text": [
      "\u001b[32mImporting genotype file...100%|█████████████████████████| Time: 0:00:10\u001b[39m\n"
     ]
    },
    {
     "name": "stdout",
     "output_type": "stream",
     "text": [
      "Total windows = 64, averaging ~ 692 unique haplotypes per window.\n",
      "\n",
      "Timings: \n",
      "    Data import                     = 11.154 seconds\n",
      "        import target data             = 10.3364 seconds\n",
      "        import compressed haplotypes   = 0.817555 seconds\n",
      "    Computing haplotype pair        = 2.46339 seconds\n",
      "        BLAS3 mul! to get M and N      = 0.0690621 seconds per thread\n",
      "        haplopair search               = 1.98729 seconds per thread\n",
      "        initializing missing           = 0.170655 seconds per thread\n",
      "        allocating and viewing         = 0.0228817 seconds per thread\n",
      "        index conversion               = 0.0344565 seconds per thread\n",
      "    Phasing by win-win intersection = 0.325044 seconds\n",
      "        Window-by-window intersection  = 0.0279545 seconds per thread\n",
      "        Breakpoint search              = 0.221404 seconds per thread\n",
      "        Recording result               = 0.00508302 seconds per thread\n",
      "    Imputation                     = 1.26599 seconds\n",
      "        Imputing missing               = 0.0367328 seconds\n",
      "        Writing to file                = 1.22926 seconds\n",
      "\n",
      "    Total time                      = 15.2097 seconds\n",
      "\n",
      " 15.212961 seconds (77.54 M allocations: 6.246 GiB, 6.74% gc time)\n",
      "error_rate = 8.421999100854189e-5\n"
     ]
    }
   ],
   "source": [
    "# impute with double bkpt search (8 thread)\n",
    "Random.seed!(2020)\n",
    "d       = 1000\n",
    "tgtfile = \"./compare2/target.typedOnly.maf0.01.masked.vcf.gz\"\n",
    "reffile = \"./compare2/ref.excludeTarget.maxd$d.jlso\"\n",
    "outfile = \"./compare2/mendel.imputed.vcf.gz\"\n",
    "@time ph = phase(tgtfile, reffile, outfile);\n",
    "\n",
    "# import imputed result and compare with true\n",
    "X_mendel = convert_gt(Float32, outfile, trans=true)\n",
    "# X_complete = convert_gt(Float32, \"./compare2/target.full.vcf.gz\", trans=true)\n",
    "n, p = size(X_mendel)\n",
    "println(\"error_rate = \", sum(X_mendel .!= X_complete) / n / p)\n",
    "# rm(outfile, force=true)"
   ]
  },
  {
   "cell_type": "markdown",
   "metadata": {},
   "source": [
    "# Simulate data\n",
    "\n",
    "### Step 0. Install `msprime`\n",
    "\n",
    "[msprime download Link](https://msprime.readthedocs.io/en/stable/installation.html).\n",
    "\n",
    "Some people might need to activate conda environment via `conda config --set auto_activate_base True`. You can turn it off once simulation is done by executing `conda config --set auto_activate_base False`.\n",
    "\n",
    "\n",
    "### Step 1. Simulate data in terminal\n",
    "\n",
    "```\n",
    "python3 msprime_script.py 40000 10000 10000000 2e-8 2e-8 2020 > full.vcf\n",
    "```\n",
    "\n",
    "Arguments: \n",
    "+ Number of haplotypes = 40000\n",
    "+ Effective population size = 10000 ([source](https://www.the-scientist.com/the-nutshell/ancient-humans-more-diverse-43556))\n",
    "+ Sequence length = 10 million (same as Beagle 5's choice)\n",
    "+ Rrecombination rate = 2e-8 (default)\n",
    "+ mutation rate = 2e-8 (default)\n",
    "+ seed = 2019"
   ]
  },
  {
   "cell_type": "markdown",
   "metadata": {},
   "source": [
    "### Step 2: Convert simulated haplotypes to reference haplotypes and target genotype files"
   ]
  },
  {
   "cell_type": "code",
   "execution_count": 11,
   "metadata": {
    "collapsed": false
   },
   "outputs": [
    {
     "name": "stdout",
     "output_type": "stream",
     "text": [
      "summarizing data\n"
     ]
    },
    {
     "name": "stderr",
     "output_type": "stream",
     "text": [
      "\u001b[32mProgress: 100%|█████████████████████████████████████████| Time: 0:10:04\u001b[39m\n"
     ]
    },
    {
     "name": "stdout",
     "output_type": "stream",
     "text": [
      "generating complete target panel\n"
     ]
    },
    {
     "name": "stderr",
     "output_type": "stream",
     "text": [
      "\u001b[32mfiltering vcf file...100%|██████████████████████████████| Time: 0:10:15\u001b[39m\n"
     ]
    },
    {
     "name": "stdout",
     "output_type": "stream",
     "text": [
      "626.713593 seconds (5.62 G allocations: 597.236 GiB, 11.93% gc time)\n",
      "generating reference panel without target samples\n"
     ]
    },
    {
     "name": "stderr",
     "output_type": "stream",
     "text": [
      "\u001b[32mfiltering vcf file...100%|██████████████████████████████| Time: 0:18:46\u001b[39m\n"
     ]
    },
    {
     "name": "stdout",
     "output_type": "stream",
     "text": [
      "1136.637153 seconds (9.58 G allocations: 940.144 GiB, 14.83% gc time)\n",
      "generating target file with typed snps only\n"
     ]
    },
    {
     "name": "stderr",
     "output_type": "stream",
     "text": [
      "\u001b[32mfiltering vcf file...100%|██████████████████████████████| Time: 0:12:32\u001b[39m\n"
     ]
    },
    {
     "name": "stdout",
     "output_type": "stream",
     "text": [
      "765.817117 seconds (5.51 G allocations: 581.825 GiB, 13.24% gc time)\n",
      "unphasing and masking entries in target file with typed snps only\n"
     ]
    },
    {
     "name": "stderr",
     "output_type": "stream",
     "text": [
      "\u001b[32mmasking vcf file...100%|████████████████████████████████| Time: 0:00:07\u001b[39m\n"
     ]
    },
    {
     "name": "stdout",
     "output_type": "stream",
     "text": [
      "  8.084801 seconds (73.79 M allocations: 5.496 GiB, 4.69% gc time)\n"
     ]
    },
    {
     "ename": "LoadError",
     "evalue": "UndefVarError: d not defined",
     "output_type": "error",
     "traceback": [
      "UndefVarError: d not defined",
      "",
      "Stacktrace:",
      " [1] filter_and_mask(::Float64) at ./In[11]:53",
      " [2] top-level scope at ./timing.jl:174 [inlined]",
      " [3] top-level scope at ./In[11]:0",
      " [4] include_string(::Function, ::Module, ::String, ::String) at ./loading.jl:1091"
     ]
    }
   ],
   "source": [
    "cd(\"./compare2/\")\n",
    "function filter_and_mask(maf)\n",
    "    # filter chromosome data for unique snps\n",
    "#     println(\"filtering for unique snps\")\n",
    "#     data = \"full.vcf\"\n",
    "#     full_record_index = .!find_duplicate_marker(data)\n",
    "#     @time VCFTools.filter(data, full_record_index, 1:nsamples(data), \n",
    "#         des = \"full.uniqueSNPs.vcf.gz\")\n",
    "\n",
    "    # summarize data\n",
    "    println(\"summarizing data\")\n",
    "    total_snps, samples, _, _, _, maf_by_record, _ = gtstats(\"full.uniqueSNPs.vcf.gz\")\n",
    "\n",
    "    # keep snps with at least 5 copies of minor alleles\n",
    "    snps_tokeep = findall(x -> x ≥ 5 / 2samples, maf_by_record)\n",
    "    \n",
    "    # generate target panel with all snps\n",
    "    println(\"generating complete target panel\")\n",
    "    n = 1000\n",
    "    sample_idx = falses(samples)\n",
    "    sample_idx[1:n] .= true\n",
    "    shuffle!(sample_idx)\n",
    "    @time VCFTools.filter(\"full.uniqueSNPs.vcf.gz\", snps_tokeep, \n",
    "        sample_idx, des = \"target.full.vcf.gz\", allow_multiallelic=false)\n",
    "\n",
    "    # also generate reference panel without target samples\n",
    "    println(\"generating reference panel without target samples\")\n",
    "    @time VCFTools.filter(\"full.uniqueSNPs.vcf.gz\", snps_tokeep, \n",
    "        .!sample_idx, des = \"ref.excludeTarget.vcf.gz\", allow_multiallelic=false)\n",
    "\n",
    "    # generate target file with 1000 samples and typed snps with certain maf\n",
    "    println(\"generating target file with typed snps only\")\n",
    "    my_maf = findall(x -> x > maf, maf_by_record)  \n",
    "    p = length(my_maf)\n",
    "    record_idx = falses(total_snps)\n",
    "    record_idx[my_maf] .= true\n",
    "    @time VCFTools.filter(\"full.uniqueSNPs.vcf.gz\", record_idx, sample_idx, \n",
    "        des = \"target.typedOnly.maf$maf.vcf.gz\", allow_multiallelic=false)\n",
    "\n",
    "    # unphase and mask 1% entries in target file\n",
    "    println(\"unphasing and masking entries in target file with typed snps only\")\n",
    "    masks = falses(p, n)\n",
    "    missingprop = 0.1\n",
    "    for j in 1:n, i in 1:p\n",
    "        rand() < missingprop && (masks[i, j] = true)\n",
    "    end\n",
    "    @time mask_gt(\"target.typedOnly.maf$maf.vcf.gz\", masks, \n",
    "        des=\"target.typedOnly.maf$maf.masked.vcf.gz\", unphase=true)\n",
    "\n",
    "    # finally compress reference file to jlso format\n",
    "    d = 1000\n",
    "    reffile = \"ref.excludeTarget.vcf.gz\"\n",
    "    tgtfile = \"target.typedOnly.maf$maf.masked.vcf.gz\"\n",
    "    outfile = \"ref.excludeTarget.maxd$d.jlso\"\n",
    "    H, H_sampleID, H_chr, H_pos, H_ids, H_ref, H_alt = convert_ht(Bool, reffile, trans=true, save_snp_info=true, msg=\"importing reference data...\")\n",
    "    X, X_sampleID, X_chr, X_pos, X_ids, X_ref, X_alt = VCFTools.convert_gt(UInt8, tgtfile, trans=true, save_snp_info=true, msg = \"Importing genotype file...\")\n",
    "    @time compress_haplotypes(H, X, outfile, X_pos, H_sampleID, H_chr, H_pos, H_ids, \n",
    "        H_ref, H_alt, d, 0, 0.0)\n",
    "end\n",
    "Random.seed!(2020)\n",
    "maf = 0.01\n",
    "@time filter_and_mask(maf)"
   ]
  },
  {
   "cell_type": "code",
   "execution_count": 2,
   "metadata": {
    "collapsed": false
   },
   "outputs": [
    {
     "name": "stderr",
     "output_type": "stream",
     "text": [
      "\u001b[32mimporting reference data...100%|████████████████████████| Time: 0:03:14\u001b[39m\n",
      "\u001b[32mImporting genotype file...100%|█████████████████████████| Time: 0:00:07\u001b[39m\n"
     ]
    },
    {
     "name": "stdout",
     "output_type": "stream",
     "text": [
      "151.907803 seconds (26.11 M allocations: 2.695 GiB, 0.27% gc time)\n"
     ]
    }
   ],
   "source": [
    "# compress reference file to jlso format\n",
    "max_d    = [1000] # max haplotypes per window\n",
    "reffile  = \"./compare2/ref.excludeTarget.vcf.gz\"\n",
    "tgtfile  = \"./compare2/target.typedOnly.maf0.01.masked.vcf.gz\"\n",
    "H, H_sampleID, H_chr, H_pos, H_ids, H_ref, H_alt = convert_ht(Bool, reffile, trans=true, save_snp_info=true, msg=\"importing reference data...\")\n",
    "X, X_sampleID, X_chr, X_pos, X_ids, X_ref, X_alt = VCFTools.convert_gt(UInt8, tgtfile, trans=true, save_snp_info=true, msg = \"Importing genotype file...\")\n",
    "for d in max_d\n",
    "    outfile = \"./compare2/ref.excludeTarget.maxd$d.jlso\"\n",
    "    @time compress_haplotypes(H, X, outfile, X_pos, H_sampleID, H_chr, H_pos, H_ids, \n",
    "        H_ref, H_alt, d, 0, 0.0)\n",
    "end"
   ]
  },
  {
   "cell_type": "code",
   "execution_count": 34,
   "metadata": {
    "collapsed": false
   },
   "outputs": [
    {
     "name": "stdout",
     "output_type": "stream",
     "text": [
      "  0.830604 seconds (1.76 M allocations: 154.475 MiB)\n"
     ]
    }
   ],
   "source": [
    "# load jlso\n",
    "@time loaded = JLSO.load(\"./compare2/ref.excludeTarget.maxd1000.jlso\")\n",
    "compressed_Hunique = loaded[:compressed_Hunique];"
   ]
  },
  {
   "cell_type": "code",
   "execution_count": 32,
   "metadata": {
    "collapsed": false
   },
   "outputs": [
    {
     "name": "stdout",
     "output_type": "stream",
     "text": [
      "(nrecords(tgtfile), nsamples(tgtfile)) = (36874, 1000)\n",
      "(nrecords(reffile), nsamples(reffile)) = (89913, 19000)\n"
     ]
    }
   ],
   "source": [
    "tgtfile = \"./compare2/target.typedOnly.maf0.01.masked.vcf.gz\"\n",
    "reffile = \"./compare2/ref.excludeTarget.vcf.gz\"\n",
    "@show nrecords(tgtfile), nsamples(tgtfile)\n",
    "@show nrecords(reffile), nsamples(reffile);"
   ]
  },
  {
   "cell_type": "markdown",
   "metadata": {},
   "source": [
    "# MendelImpute with dynamic programming"
   ]
  },
  {
   "cell_type": "code",
   "execution_count": 22,
   "metadata": {
    "collapsed": false
   },
   "outputs": [
    {
     "name": "stderr",
     "output_type": "stream",
     "text": [
      "\u001b[32mImporting genotype file...100%|█████████████████████████| Time: 0:00:06\u001b[39m\n",
      "\u001b[32mComputing optimal haplotype pairs...100%|███████████████| Time: 0:00:11\u001b[39m\n",
      "\u001b[32mMerging breakpoints...100%|█████████████████████████████| Time: 0:01:12\u001b[39m\n",
      "\u001b[32mWriting to file...100%|█████████████████████████████████| Time: 0:00:06\u001b[39m\n"
     ]
    },
    {
     "name": "stdout",
     "output_type": "stream",
     "text": [
      "Total windows = 72, averaging ~ 627 unique haplotypes per window.\n",
      "\n",
      "Timings: \n",
      "    Data import                     = 8.07908 seconds\n",
      "    Computing haplotype pair        = 11.4215 seconds\n",
      "        BLAS3 mul! to get M and N      = 0.209483 seconds per thread\n",
      "        haplopair search               = 9.27352 seconds per thread\n",
      "        supplying constant terms       = 0.0368894 seconds per thread\n",
      "        finding redundant happairs     = 0.800724 seconds per thread\n",
      "    Phasing by dynamic programming  = 72.6589 seconds\n",
      "    Imputation                      = 7.44617 seconds\n",
      "\n",
      " 99.605137 seconds (77.18 M allocations: 7.509 GiB, 1.09% gc time)\n",
      "error_rate = 0.0003560219323123464\n"
     ]
    }
   ],
   "source": [
    "# keep best pair only (1 thread)\n",
    "Random.seed!(2020)\n",
    "width   = 512\n",
    "tgtfile = \"./compare2/target.typedOnly.maf0.01.masked.vcf.gz\"\n",
    "reffile = \"./compare2/ref.excludeTarget.w$width.jlso\"\n",
    "outfile = \"./compare2/mendel.imputed.vcf.gz\"\n",
    "@time hs, ph = phase(tgtfile, reffile, outfile = outfile, width = width);\n",
    "\n",
    "# import imputed result and compare with true\n",
    "X_mendel = convert_gt(Float32, outfile)\n",
    "X_complete = convert_gt(Float32, \"./compare2/target.full.vcf.gz\")\n",
    "n, p = size(X_mendel)\n",
    "println(\"error_rate = \", sum(X_mendel .!= X_complete) / n / p)\n",
    "rm(outfile, force=true)"
   ]
  },
  {
   "cell_type": "code",
   "execution_count": 3,
   "metadata": {
    "collapsed": false
   },
   "outputs": [
    {
     "name": "stderr",
     "output_type": "stream",
     "text": [
      "\u001b[32mImporting genotype file...100%|█████████████████████████| Time: 0:00:06\u001b[39m\n",
      "\u001b[32mMerging breakpoints...100%|█████████████████████████████| Time: 0:00:11\u001b[39m\n",
      "\u001b[32mWriting to file...100%|█████████████████████████████████| Time: 0:00:06\u001b[39m\n"
     ]
    },
    {
     "name": "stdout",
     "output_type": "stream",
     "text": [
      "Total windows = 72, averaging ~ 627 unique haplotypes per window.\n",
      "\n",
      "Timings: \n",
      "    Data import                     = 8.06139 seconds\n",
      "    Computing haplotype pair        = 3.04445 seconds\n",
      "        BLAS3 mul! to get M and N      = 0.0601239 seconds per thread\n",
      "        haplopair search               = 2.45815 seconds per thread\n",
      "        supplying constant terms       = 0.00534291 seconds per thread\n",
      "        finding redundant happairs     = 0.155477 seconds per thread\n",
      "    Phasing by dynamic programming  = 11.9017 seconds\n",
      "    Imputation                      = 7.78007 seconds\n",
      "\n",
      " 30.787638 seconds (77.18 M allocations: 7.555 GiB, 3.16% gc time)\n",
      "error_rate = 0.0003560219323123464\n"
     ]
    }
   ],
   "source": [
    "# keep best pair only (8 threads)\n",
    "Random.seed!(2020)\n",
    "width   = 512\n",
    "tgtfile = \"./compare2/target.typedOnly.maf0.01.masked.vcf.gz\"\n",
    "reffile = \"./compare2/ref.excludeTarget.w$width.jlso\"\n",
    "outfile = \"./compare2/mendel.imputed.vcf.gz\"\n",
    "@time hs, ph = phase(tgtfile, reffile, outfile = outfile, width = width);\n",
    "\n",
    "# import imputed result and compare with true\n",
    "X_mendel = convert_gt(Float32, outfile)\n",
    "X_complete = convert_gt(Float32, \"./compare2/target.full.vcf.gz\")\n",
    "n, p = size(X_mendel)\n",
    "println(\"error_rate = \", sum(X_mendel .!= X_complete) / n / p)\n",
    "rm(outfile, force=true)"
   ]
  },
  {
   "cell_type": "markdown",
   "metadata": {},
   "source": [
    "# MendelImpute with intersecting haplotype sets"
   ]
  },
  {
   "cell_type": "code",
   "execution_count": 5,
   "metadata": {
    "collapsed": false
   },
   "outputs": [
    {
     "name": "stdout",
     "output_type": "stream",
     "text": [
      "Importing reference haplotype data...\n"
     ]
    },
    {
     "name": "stderr",
     "output_type": "stream",
     "text": [
      "\u001b[32mImporting genotype file...100%|█████████████████████████| Time: 0:00:09\u001b[39m\n",
      "\u001b[32mWriting to file...100%|█████████████████████████████████| Time: 0:00:08\u001b[39m\n"
     ]
    },
    {
     "name": "stdout",
     "output_type": "stream",
     "text": [
      "Total windows = 64, averaging ~ 692 unique haplotypes per window.\n",
      "\n",
      "Timings: \n",
      "    Data import                     = 11.2971 seconds\n",
      "    Computing haplotype pair        = 3.34432 seconds\n",
      "        BLAS3 mul! to get M and N      = 0.102085 seconds per thread\n",
      "        haplopair search               = 2.82811 seconds per thread\n",
      "        initializing missing           = 0.211092 seconds per thread\n",
      "        allocating and viewing         = 0.0287914 seconds per thread\n",
      "        index conversion               = 0.000847365 seconds per thread\n",
      "    Phasing by win-win intersection = 0.0654008 seconds\n",
      "        Window-by-window intersection  = 0.0452051 seconds per thread\n",
      "        Breakpoint search              = 0.00805598 seconds per thread\n",
      "        Recording result               = 0.00531286 seconds per thread\n",
      "    Imputation                      = 9.21823 seconds\n",
      "\n",
      " 23.926207 seconds (77.16 M allocations: 6.401 GiB, 4.77% gc time)\n",
      "error_rate = 7.199181430938797e-5\n"
     ]
    }
   ],
   "source": [
    "# impute only (8 thread)\n",
    "Random.seed!(2020)\n",
    "d       = 1000\n",
    "tgtfile = \"./compare2/target.typedOnly.maf0.01.masked.vcf.gz\"\n",
    "reffile = \"./compare2/ref.excludeTarget.maxd$d.jlso\"\n",
    "outfile = \"./compare2/mendel.imputed.vcf.gz\"\n",
    "@time ph = phase(tgtfile, reffile, outfile = outfile, max_d = d,\n",
    "    dynamic_programming = false);\n",
    "\n",
    "# import imputed result and compare with true\n",
    "X_mendel = convert_gt(Float32, outfile)\n",
    "X_complete = convert_gt(Float32, \"./compare2/target.full.vcf.gz\")\n",
    "n, p = size(X_mendel)\n",
    "println(\"error_rate = \", sum(X_mendel .!= X_complete) / n / p)\n",
    "rm(outfile, force=true)"
   ]
  },
  {
   "cell_type": "code",
   "execution_count": 7,
   "metadata": {
    "collapsed": false
   },
   "outputs": [
    {
     "name": "stdout",
     "output_type": "stream",
     "text": [
      "Importing reference haplotype data...\n"
     ]
    },
    {
     "name": "stderr",
     "output_type": "stream",
     "text": [
      "\u001b[32mImporting genotype file...100%|█████████████████████████| Time: 0:00:08\u001b[39m\n",
      "\u001b[32mWriting to file...100%|█████████████████████████████████| Time: 0:00:08\u001b[39m\n"
     ]
    },
    {
     "name": "stdout",
     "output_type": "stream",
     "text": [
      "Total windows = 64, averaging ~ 692 unique haplotypes per window.\n",
      "\n",
      "Timings: \n",
      "    Data import                     = 10.3269 seconds\n",
      "    Computing haplotype pair        = 2.79167 seconds\n",
      "        BLAS3 mul! to get M and N      = 0.0938853 seconds per thread\n",
      "        haplopair search               = 2.33387 seconds per thread\n",
      "        initializing missing           = 0.1796 seconds per thread\n",
      "        allocating and viewing         = 0.0255029 seconds per thread\n",
      "        index conversion               = 0.0006521 seconds per thread\n",
      "    Phasing by win-win intersection = 0.0448282 seconds\n",
      "        Window-by-window intersection  = 0.0314254 seconds per thread\n",
      "        Breakpoint search              = 0.00556094 seconds per thread\n",
      "        Recording result               = 0.0035269 seconds per thread\n",
      "    Imputation                      = 9.05471 seconds\n",
      "\n",
      " 22.651812 seconds (78.25 M allocations: 6.328 GiB, 4.97% gc time)\n",
      "error_rate = 9.775004726791454e-5\n"
     ]
    }
   ],
   "source": [
    "# phase (8 thread)\n",
    "Random.seed!(2020)\n",
    "d       = 1000\n",
    "tgtfile = \"./compare2/target.typedOnly.maf0.01.masked.vcf.gz\"\n",
    "reffile = \"./compare2/ref.excludeTarget.maxd$d.jlso\"\n",
    "outfile = \"./compare2/mendel.imputed.vcf.gz\"\n",
    "@time ph = phase(tgtfile, reffile, outfile = outfile, max_d = d,\n",
    "    dynamic_programming = false, phase=true);\n",
    "\n",
    "# import imputed result and compare with true\n",
    "X_mendel = convert_gt(Float32, outfile)\n",
    "X_complete = convert_gt(Float32, \"./compare2/target.full.vcf.gz\")\n",
    "n, p = size(X_mendel)\n",
    "println(\"error_rate = \", sum(X_mendel .!= X_complete) / n / p)\n",
    "rm(outfile, force=true)"
   ]
  },
  {
   "cell_type": "markdown",
   "metadata": {},
   "source": [
    "# Rescreen"
   ]
  },
  {
   "cell_type": "code",
   "execution_count": 4,
   "metadata": {
    "collapsed": false
   },
   "outputs": [
    {
     "name": "stdout",
     "output_type": "stream",
     "text": [
      "Importing reference haplotype data...\n"
     ]
    },
    {
     "name": "stderr",
     "output_type": "stream",
     "text": [
      "\u001b[32mImporting genotype file...100%|█████████████████████████| Time: 0:00:06\u001b[39m\n",
      "\u001b[32mPhasing chunk 1/1...100%|███████████████████████████████| Time: 0:00:14\u001b[39m\n",
      "\u001b[32mWriting to file...100%|█████████████████████████████████| Time: 0:00:06\u001b[39m\n"
     ]
    },
    {
     "name": "stdout",
     "output_type": "stream",
     "text": [
      "Total windows = 72, averaging ~ 627 unique haplotypes per window.\n",
      "\n",
      "Timings: \n",
      "    Data import                     = 8.07889 seconds\n",
      "    Computing haplotype pair        = 14.6762 seconds\n",
      "        BLAS3 mul! to get M and N      = 0.0546491 seconds per thread\n",
      "        haplopair search               = 1.54516 seconds per thread\n",
      "        min least sq on observed data  = 0.0497179 seconds per thread\n",
      "        finding redundant happairs     = 0.0706418 seconds per thread\n",
      "    Phasing by win-win intersection = 0.289549 seconds\n",
      "    Imputation                      = 6.7911 seconds\n",
      "\n",
      " 29.900606 seconds (77.39 M allocations: 7.481 GiB, 4.44% gc time)\n",
      "error_rate = 8.100052272752551e-5\n"
     ]
    }
   ],
   "source": [
    "# keep best pair only (8 thread)\n",
    "Random.seed!(2020)\n",
    "width   = 512\n",
    "tgtfile = \"./compare2/target.typedOnly.maf0.01.masked.vcf.gz\"\n",
    "reffile = \"./compare2/ref.excludeTarget.w$width.jlso\"\n",
    "outfile = \"./compare2/mendel.imputed.vcf.gz\"\n",
    "@time ph = phase(tgtfile, reffile, outfile = outfile, width = width,\n",
    "    dynamic_programming = false, rescreen=true);\n",
    "\n",
    "# import imputed result and compare with true\n",
    "X_mendel = convert_gt(Float32, outfile)\n",
    "X_complete = convert_gt(Float32, \"./compare2/target.full.vcf.gz\")\n",
    "n, p = size(X_mendel)\n",
    "println(\"error_rate = \", sum(X_mendel .!= X_complete) / n / p)\n",
    "rm(outfile, force=true)"
   ]
  },
  {
   "cell_type": "markdown",
   "metadata": {},
   "source": [
    "# Screen for flanking windows"
   ]
  },
  {
   "cell_type": "code",
   "execution_count": 3,
   "metadata": {
    "collapsed": false
   },
   "outputs": [
    {
     "name": "stdout",
     "output_type": "stream",
     "text": [
      "Importing reference haplotype data...\n"
     ]
    },
    {
     "name": "stderr",
     "output_type": "stream",
     "text": [
      "\u001b[32mImporting genotype file...100%|█████████████████████████| Time: 0:00:07\u001b[39m\n",
      "\u001b[32mWriting to file...100%|█████████████████████████████████| Time: 0:00:06\u001b[39m\n"
     ]
    },
    {
     "name": "stdout",
     "output_type": "stream",
     "text": [
      "Total windows = 72, averaging ~ 627 unique haplotypes per window.\n",
      "\n",
      "Timings: \n",
      "    Data import                     = 8.69623 seconds\n",
      "    Computing haplotype pair        = 3.37601 seconds\n",
      "        BLAS3 mul! to get M and N      = 0.0963943 seconds per thread\n",
      "        haplopair search               = 2.89449 seconds per thread\n",
      "        finding redundant happairs     = 0.0482441 seconds per thread\n",
      "    Phasing by win-win intersection = 0.447916 seconds\n",
      "    Imputation                      = 6.62697 seconds\n",
      "\n",
      " 19.876269 seconds (77.16 M allocations: 7.417 GiB, 5.39% gc time)\n",
      "error_rate = 7.657402155416903e-5\n"
     ]
    }
   ],
   "source": [
    "# keep best pair only (8 thread)\n",
    "Random.seed!(2020)\n",
    "width   = 512\n",
    "tgtfile = \"./compare2/target.typedOnly.maf0.01.masked.vcf.gz\"\n",
    "reffile = \"./compare2/ref.excludeTarget.w$width.jlso\"\n",
    "outfile = \"./compare2/mendel.imputed.vcf.gz\"\n",
    "@time ph = phase(tgtfile, reffile, outfile = outfile, width = width,\n",
    "    dynamic_programming = false);\n",
    "\n",
    "# import imputed result and compare with true\n",
    "X_mendel = convert_gt(Float32, outfile)\n",
    "X_complete = convert_gt(Float32, \"./compare2/target.full.vcf.gz\")\n",
    "n, p = size(X_mendel)\n",
    "println(\"error_rate = \", sum(X_mendel .!= X_complete) / n / p)\n",
    "rm(outfile, force=true)"
   ]
  },
  {
   "cell_type": "markdown",
   "metadata": {},
   "source": [
    "# Haplotype thinning"
   ]
  },
  {
   "cell_type": "code",
   "execution_count": null,
   "metadata": {
    "collapsed": false
   },
   "outputs": [
    {
     "name": "stdout",
     "output_type": "stream",
     "text": [
      "Importing reference haplotype data...\n"
     ]
    },
    {
     "name": "stderr",
     "output_type": "stream",
     "text": [
      "\u001b[32mImporting genotype file...100%|█████████████████████████| Time: 0:00:06\u001b[39m\n"
     ]
    }
   ],
   "source": [
    "Random.seed!(2020)\n",
    "width   = 512\n",
    "tgtfile = \"./compare2/target.typedOnly.maf0.01.masked.vcf.gz\"\n",
    "reffile = \"./compare2/ref.excludeTarget.w$width.jlso\"\n",
    "outfile = \"./compare2/mendel.imputed.vcf.gz\"\n",
    "@time ph = phase(tgtfile, reffile, outfile = outfile, width = width,\n",
    "    dynamic_programming = false, thinning_factor=100, max_haplotypes=100);\n",
    "\n",
    "# import imputed result and compare with true\n",
    "X_mendel = convert_gt(Float32, outfile)\n",
    "X_complete = convert_gt(Float32, \"./compare2/target.full.vcf.gz\")\n",
    "n, p = size(X_mendel)\n",
    "println(\"error_rate = \", sum(X_mendel .!= X_complete) / n / p)\n",
    "rm(outfile, force=true)"
   ]
  },
  {
   "cell_type": "code",
   "execution_count": 5,
   "metadata": {
    "collapsed": false
   },
   "outputs": [
    {
     "name": "stdout",
     "output_type": "stream",
     "text": [
      "Importing reference haplotype data...\n"
     ]
    },
    {
     "name": "stderr",
     "output_type": "stream",
     "text": [
      "\u001b[32mImporting genotype file...100%|█████████████████████████| Time: 0:00:07\u001b[39m\n",
      "\u001b[32mWriting to file...100%|█████████████████████████████████| Time: 0:00:06\u001b[39m\n"
     ]
    },
    {
     "name": "stdout",
     "output_type": "stream",
     "text": [
      "Total windows = 72, averaging ~ 627 unique haplotypes per window.\n",
      "\n",
      "Timings: \n",
      "    Data import                     = 8.57389 seconds\n",
      "    Computing haplotype pair        = 3.81197 seconds\n",
      "        screening for top haplotypes   = 0.738086 seconds per thread\n",
      "        BLAS3 mul! to get M and N      = 2.67268 seconds per thread\n",
      "        haplopair search               = 0.164605 seconds per thread\n",
      "        initializing missing           = 0.166272 seconds per thread\n",
      "        allocating and viewing         = 0.0125657 seconds per thread\n",
      "        index conversion               = 0.00055434 seconds per thread\n",
      "    Phasing by win-win intersection = 0.0602829 seconds\n",
      "        Window-by-window intersection  = 0.0470093 seconds per thread\n",
      "        Breakpoint search              = 0.00641138 seconds per thread\n",
      "        Recording result               = 0.00341723 seconds per thread\n",
      "    Imputation                      = 7.06285 seconds\n",
      "\n",
      " 19.509919 seconds (76.67 M allocations: 6.657 GiB, 5.16% gc time)\n",
      "error_rate = 8.550487693659426e-5\n"
     ]
    }
   ],
   "source": [
    "Random.seed!(2020)\n",
    "width   = 512\n",
    "tgtfile = \"./compare2/target.typedOnly.maf0.01.masked.vcf.gz\"\n",
    "reffile = \"./compare2/ref.excludeTarget.w$width.jlso\"\n",
    "outfile = \"./compare2/mendel.imputed.vcf.gz\"\n",
    "@time ph = phase(tgtfile, reffile, outfile = outfile, width = width,\n",
    "    dynamic_programming = false, thinning_factor=100, max_haplotypes=100);\n",
    "\n",
    "# import imputed result and compare with true\n",
    "X_mendel = convert_gt(Float32, outfile)\n",
    "X_complete = convert_gt(Float32, \"./compare2/target.full.vcf.gz\")\n",
    "n, p = size(X_mendel)\n",
    "println(\"error_rate = \", sum(X_mendel .!= X_complete) / n / p)\n",
    "rm(outfile, force=true)"
   ]
  },
  {
   "cell_type": "markdown",
   "metadata": {},
   "source": [
    "# Try stepwise search heuristic"
   ]
  },
  {
   "cell_type": "code",
   "execution_count": 6,
   "metadata": {
    "collapsed": false
   },
   "outputs": [
    {
     "name": "stdout",
     "output_type": "stream",
     "text": [
      "Importing reference haplotype data...\n"
     ]
    },
    {
     "name": "stderr",
     "output_type": "stream",
     "text": [
      "\u001b[32mImporting genotype file...100%|█████████████████████████| Time: 0:00:06\u001b[39m\n",
      "\u001b[32mWriting to file...100%|█████████████████████████████████| Time: 0:00:06\u001b[39m\n"
     ]
    },
    {
     "name": "stdout",
     "output_type": "stream",
     "text": [
      "Total windows = 72, averaging ~ 627 unique haplotypes per window.\n",
      "\n",
      "Timings: \n",
      "    Data import                     = 7.93711 seconds\n",
      "    Computing haplotype pair        = 1.14714 seconds\n",
      "        BLAS3 mul! to get M and N      = 0.073336 seconds per thread\n",
      "        haplopair search               = 0.881813 seconds per thread\n",
      "        initializing missing           = 0.126261 seconds per thread\n",
      "        allocating and viewing         = 0.0130243 seconds per thread\n",
      "        index conversion               = 0.000442667 seconds per thread\n",
      "    Phasing by win-win intersection = 0.051122 seconds\n",
      "        Window-by-window intersection  = 0.0405628 seconds per thread\n",
      "        Breakpoint search              = 0.00488876 seconds per thread\n",
      "        Recording result               = 0.00270064 seconds per thread\n",
      "    Imputation                      = 6.45776 seconds\n",
      "\n",
      " 15.594449 seconds (76.67 M allocations: 6.378 GiB, 5.74% gc time)\n",
      "error_rate = 8.563833928352964e-5\n"
     ]
    }
   ],
   "source": [
    "Random.seed!(2020)\n",
    "width   = 512\n",
    "tgtfile = \"./compare2/target.typedOnly.maf0.01.masked.vcf.gz\"\n",
    "reffile = \"./compare2/ref.excludeTarget.w$width.jlso\"\n",
    "outfile = \"./compare2/mendel.imputed.vcf.gz\"\n",
    "@time ph = phase(tgtfile, reffile, outfile = outfile, width = width,\n",
    "    dynamic_programming = false, max_haplotypes=100, stepwise=100);\n",
    "\n",
    "# import imputed result and compare with true\n",
    "X_mendel = convert_gt(Float32, outfile)\n",
    "X_complete = convert_gt(Float32, \"./compare2/target.full.vcf.gz\")\n",
    "n, p = size(X_mendel)\n",
    "println(\"error_rate = \", sum(X_mendel .!= X_complete) / n / p)\n",
    "rm(outfile, force=true)"
   ]
  },
  {
   "cell_type": "markdown",
   "metadata": {},
   "source": [
    "# Beagle 5.1"
   ]
  },
  {
   "cell_type": "code",
   "execution_count": null,
   "metadata": {
    "collapsed": true
   },
   "outputs": [],
   "source": [
    "# convert to bref3 (run in terminal)\n",
    "java -jar ../bref3.18May20.d20.jar ref.excludeTarget.vcf.gz > ref.excludeTarget.bref3 "
   ]
  },
  {
   "cell_type": "code",
   "execution_count": 31,
   "metadata": {
    "collapsed": false
   },
   "outputs": [
    {
     "name": "stdout",
     "output_type": "stream",
     "text": [
      "beagle.18May20.d20.jar (version 5.1)\n",
      "Copyright (C) 2014-2018 Brian L. Browning\n",
      "Enter \"java -jar beagle.18May20.d20.jar\" to list command line argument\n",
      "Start time: 01:01 AM PDT on 30 Jun 2020\n",
      "\n",
      "Command line: java -Xmx3641m -jar beagle.18May20.d20.jar\n",
      "  gt=compare2/target.typedOnly.maf0.01.masked.vcf.gz\n",
      "  ref=compare2/ref.excludeTarget.bref3\n",
      "  out=compare2/beagle.result\n",
      "  nthreads=8\n",
      "\n",
      "No genetic map is specified: using 1 cM = 1 Mb\n",
      "\n",
      "Reference samples:      19,000\n",
      "Study samples:           1,000\n",
      "\n",
      "Window 1 (1:34-9999816)\n",
      "Reference markers:      89,913\n",
      "Study markers:          36,874\n",
      "\n",
      "Burnin  iteration 1:           36 seconds\n",
      "Burnin  iteration 2:           32 seconds\n",
      "Burnin  iteration 3:           35 seconds\n",
      "Burnin  iteration 4:           43 seconds\n",
      "Burnin  iteration 5:           37 seconds\n",
      "Burnin  iteration 6:           1 minute 16 seconds\n",
      "\n",
      "Phasing iteration 1:           2 minutes 0 seconds\n",
      "Phasing iteration 2:           41 seconds\n",
      "Phasing iteration 3:           38 seconds\n",
      "Phasing iteration 4:           35 seconds\n",
      "Phasing iteration 5:           33 seconds\n",
      "Phasing iteration 6:           33 seconds\n",
      "Phasing iteration 7:           28 seconds\n",
      "Phasing iteration 8:           28 seconds\n",
      "Phasing iteration 9:           25 seconds\n",
      "Phasing iteration 10:          21 seconds\n",
      "Phasing iteration 11:          15 seconds\n",
      "Phasing iteration 12:          11 seconds\n",
      "\n",
      "Imputation time:               21 seconds\n",
      "\n",
      "Cumulative Statistics:\n",
      "\n",
      "Reference markers:      89,913\n",
      "Study markers:          36,874\n",
      "\n",
      "Haplotype phasing time:        11 minutes 27 seconds\n",
      "Imputation time:               21 seconds\n",
      "Total time:                    11 minutes 51 seconds\n",
      "\n",
      "End time: 01:13 AM PDT on 30 Jun 2020\n",
      "beagle.18May20.d20.jar finished\n"
     ]
    },
    {
     "data": {
      "text/plain": [
       "1.7794979591382782e-5"
      ]
     },
     "execution_count": 31,
     "metadata": {},
     "output_type": "execute_result"
    }
   ],
   "source": [
    "# run beagle 5 (8 thread)\n",
    "run(`java -jar beagle.18May20.d20.jar gt=compare2/target.typedOnly.maf0.01.masked.vcf.gz ref=compare2/ref.excludeTarget.bref3 out=compare2/beagle.result nthreads=8`)\n",
    "\n",
    "# beagle 5 error rate\n",
    "X_complete = convert_gt(Float32, \"compare2/target.full.vcf.gz\")\n",
    "n, p = size(X_complete)\n",
    "X_beagle = convert_gt(Float32, \"compare2/beagle.result.vcf.gz\")\n",
    "error_rate = sum(X_beagle .!= X_complete) / n / p"
   ]
  },
  {
   "cell_type": "markdown",
   "metadata": {},
   "source": [
    "# Minimac4 error\n",
    "\n",
    "Need to first convert reference vcf file to m3vcf using minimac3 (on Hoffman)\n",
    "\n",
    "```Julia\n",
    "minimac3 = \"/u/home/b/biona001/haplotype_comparisons/minimac3/Minimac3/bin/Minimac3\"\n",
    "@time run(`$minimac3 --refHaps haplo_ref.vcf.gz --processReference --prefix haplo_ref`)\n",
    "```"
   ]
  },
  {
   "cell_type": "code",
   "execution_count": null,
   "metadata": {
    "collapsed": true
   },
   "outputs": [],
   "source": [
    "# use eagle 2.4 for prephasing"
   ]
  },
  {
   "cell_type": "code",
   "execution_count": null,
   "metadata": {
    "collapsed": true
   },
   "outputs": [],
   "source": [
    "# run minimac 4\n",
    "minimac4 = \"/Users/biona001/Benjamin_Folder/UCLA/research/softwares/Minimac4/build/minimac4\"\n",
    "run(`$minimac4 --refHaps haplo_ref.m3vcf.gz --haps target_masked.vcf.gz --prefix minimac4.result`)\n",
    "    \n",
    "X_minimac = convert_gt(Float32, \"minimac4.result.dose.vcf.gz\", as_minorallele=false)\n",
    "error_rate = sum(X_minimac .!= X_complete) / n / p"
   ]
  },
  {
   "cell_type": "code",
   "execution_count": null,
   "metadata": {
    "collapsed": true
   },
   "outputs": [],
   "source": []
  },
  {
   "cell_type": "code",
   "execution_count": null,
   "metadata": {
    "collapsed": true
   },
   "outputs": [],
   "source": []
  },
  {
   "cell_type": "code",
   "execution_count": null,
   "metadata": {
    "collapsed": true
   },
   "outputs": [],
   "source": []
  },
  {
   "cell_type": "markdown",
   "metadata": {},
   "source": [
    "# BLAS 3"
   ]
  },
  {
   "cell_type": "code",
   "execution_count": 2,
   "metadata": {
    "collapsed": false
   },
   "outputs": [
    {
     "name": "stderr",
     "output_type": "stream",
     "text": [
      "\u001b[32mImporting genotype file...100%|█████████████████████████| Time: 0:00:07\u001b[39m\n",
      "\u001b[32mComputing optimal haplotype pairs...100%|███████████████| Time: 0:00:19\u001b[39m\n",
      "\u001b[32mWriting to file...100%|█████████████████████████████████| Time: 0:00:06\u001b[39m\n"
     ]
    },
    {
     "name": "stdout",
     "output_type": "stream",
     "text": [
      "Total windows = 72, averaging ~ 627 unique haplotypes per window.\n",
      "\n",
      "Timings: \n",
      "    Data import                     = 11.2299 seconds\n",
      "    Computing haplotype pair        = 20.639 seconds\n",
      "        computing dist(X, H)           = 0.10026 seconds per thread\n",
      "        BLAS3 mul! to get M and N      = 0.0936877 seconds per thread\n",
      "        haplopair search               = 13.9145 seconds per thread\n",
      "        finding redundant happairs     = 0.0360827 seconds per thread\n",
      "    Phasing by win-win intersection = 1.08454 seconds\n",
      "    Imputation                      = 8.11408 seconds\n",
      "\n",
      " 59.805070 seconds (161.01 M allocations: 12.053 GiB, 4.43% gc time)\n",
      "error_rate = 8.47485903039605e-5\n"
     ]
    }
   ],
   "source": [
    "# account for allele frequency (8 thread, BLAS3)\n",
    "Random.seed!(2020)\n",
    "width   = 512\n",
    "tgtfile = \"./compare2/target.typedOnly.maf0.01.masked.vcf.gz\"\n",
    "reffile = \"./compare2/ref.excludeTarget.w$width.jlso\"\n",
    "outfile = \"./compare2/mendel.imputed.vcf.gz\"\n",
    "@time hs, ph = phase(tgtfile, reffile, outfile = outfile, width = width,\n",
    "    dynamic_programming = false, thinning_factor=2000, thinning_scale_allelefreq=false);\n",
    "\n",
    "# import imputed result and compare with true\n",
    "X_mendel = convert_gt(Float32, outfile)\n",
    "X_complete = convert_gt(Float32, \"./compare2/target.full.vcf.gz\")\n",
    "n, p = size(X_mendel)\n",
    "println(\"error_rate = \", sum(X_mendel .!= X_complete) / n / p)\n",
    "rm(outfile, force=true)"
   ]
  },
  {
   "cell_type": "markdown",
   "metadata": {},
   "source": [
    "# BLAS 2"
   ]
  },
  {
   "cell_type": "code",
   "execution_count": null,
   "metadata": {
    "collapsed": false
   },
   "outputs": [
    {
     "name": "stderr",
     "output_type": "stream",
     "text": [
      "\u001b[32mImporting genotype file...100%|█████████████████████████| Time: 0:00:07\u001b[39m\n",
      "\u001b[32mComputing optimal haplotype pairs... 71%|██████████▋    |  ETA: 0:01:21\u001b[39m"
     ]
    }
   ],
   "source": [
    "# account for allele frequency (8 thread, BLAS3)\n",
    "Random.seed!(2020)\n",
    "width   = 512\n",
    "tgtfile = \"./compare2/target.typedOnly.maf0.01.masked.vcf.gz\"\n",
    "reffile = \"./compare2/ref.excludeTarget.w$width.jlso\"\n",
    "outfile = \"./compare2/mendel.imputed.vcf.gz\"\n",
    "@time hs, ph = phase(tgtfile, reffile, outfile = outfile, width = width,\n",
    "    dynamic_programming = false, thinning_factor=2000, thinning_scale_allelefreq=false);\n",
    "\n",
    "# import imputed result and compare with true\n",
    "X_mendel = convert_gt(Float32, outfile)\n",
    "X_complete = convert_gt(Float32, \"./compare2/target.full.vcf.gz\")\n",
    "n, p = size(X_mendel)\n",
    "println(\"error_rate = \", sum(X_mendel .!= X_complete) / n / p)\n",
    "rm(outfile, force=true)"
   ]
  },
  {
   "cell_type": "code",
   "execution_count": null,
   "metadata": {
    "collapsed": true
   },
   "outputs": [],
   "source": []
  }
 ],
 "metadata": {
  "@webio": {
   "lastCommId": null,
   "lastKernelId": null
  },
  "kernelspec": {
   "display_name": "Julia 1.5.0",
   "language": "julia",
   "name": "julia-1.5"
  },
  "language_info": {
   "file_extension": ".jl",
   "mimetype": "application/julia",
   "name": "julia",
   "version": "1.5.0"
  }
 },
 "nbformat": 4,
 "nbformat_minor": 2
}
