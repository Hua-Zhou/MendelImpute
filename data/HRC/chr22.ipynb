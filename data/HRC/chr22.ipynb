{
 "cells": [
  {
   "cell_type": "markdown",
   "metadata": {},
   "source": [
    "# Test imputation on untyped SNPs chrom 22"
   ]
  },
  {
   "cell_type": "code",
   "execution_count": 1,
   "metadata": {
    "collapsed": false
   },
   "outputs": [],
   "source": [
    "using Revise\n",
    "using VCFTools\n",
    "using MendelImpute\n",
    "using GeneticVariation\n",
    "using Random\n",
    "using StatsBase\n",
    "using CodecZlib\n",
    "using ProgressMeter\n",
    "using JLD2, FileIO, JLSO\n",
    "using BenchmarkTools\n",
    "using GroupSlices\n",
    "using TimerOutputs\n",
    "using LinearAlgebra"
   ]
  },
  {
   "cell_type": "code",
   "execution_count": 4,
   "metadata": {
    "collapsed": false
   },
   "outputs": [
    {
     "data": {
      "text/plain": [
       "1"
      ]
     },
     "execution_count": 4,
     "metadata": {},
     "output_type": "execute_result"
    }
   ],
   "source": [
    "Threads.nthreads()"
   ]
  },
  {
   "cell_type": "code",
   "execution_count": 6,
   "metadata": {
    "collapsed": false
   },
   "outputs": [
    {
     "name": "stderr",
     "output_type": "stream",
     "text": [
      "\u001b[32mImporting genotype file...100%|█████████████████████████| Time: 0:00:08\u001b[39m\n"
     ]
    }
   ],
   "source": [
    "chr = 22\n",
    "maf = 0.1\n",
    "width = 2048\n",
    "\n",
    "tgtfile = \"target.chr$chr.typedOnly.maf$maf.masked.vcf.gz\"\n",
    "reffile = \"ref.chr$chr.excludeTarget.jlso\"\n",
    "\n",
    "loaded = JLSO.load(reffile)\n",
    "compressed_Hunique = loaded[:compressed_Hunique]\n",
    "\n",
    "X, X_sampleID, X_chr, X_pos, X_ids, X_ref, X_alt = VCFTools.convert_gt(UInt8, tgtfile, trans=true, save_snp_info=true, msg = \"Importing genotype file...\")\n",
    "\n",
    "people = size(X, 2)\n",
    "ref_snps = compressed_Hunique.snps\n",
    "windows = floor(Int, ref_snps / width)\n",
    "redundant_haplotypes = [[Tuple{Int, Int}[] for i in 1:windows] for j in 1:people]\n",
    "typed_snps = Vector{Vector{Int}}(undef, windows);"
   ]
  },
  {
   "cell_type": "code",
   "execution_count": 8,
   "metadata": {
    "collapsed": false
   },
   "outputs": [
    {
     "data": {
      "text/plain": [
       "523162"
      ]
     },
     "execution_count": 8,
     "metadata": {},
     "output_type": "execute_result"
    }
   ],
   "source": [
    "compressed_Hunique.snps"
   ]
  },
  {
   "cell_type": "code",
   "execution_count": 9,
   "metadata": {
    "collapsed": false
   },
   "outputs": [
    {
     "data": {
      "text/plain": [
       "255"
      ]
     },
     "execution_count": 9,
     "metadata": {},
     "output_type": "execute_result"
    }
   ],
   "source": [
    "windows"
   ]
  },
  {
   "cell_type": "code",
   "execution_count": 3,
   "metadata": {
    "collapsed": false
   },
   "outputs": [
    {
     "name": "stdout",
     "output_type": "stream",
     "text": [
      "40, 116, 189, 297, 236, 347, 265, 240, 307, 269, 285, 200, 303, 219, 182, 255, 280, 98, 140, 227, 200, 212, 284, 225, 320, 182, 215, 228, 188, 206, 268, 176, 226, 140, 173, 282, 513, 377, 212, 284, 410, 268, 266, 231, 164, 222, 296, 262, 268, 324, 289, 74, 123, 70, 130, 207, 335, 191, 288, 326, 206, 148, 139, 91, 262, 233, 152, 244, 339, 205, 344, 305, 322, 356, 253, 230, 311, 301, 303, 250, 120, 67, 70, 84, 125, 187, 115, 248, 157, 201, 264, 223, 161, 144, 137, 220, 278, 192, 248, 201, 223, 161, 124, 126, 54, 104, 104, 209, 343, 249, 292, 254, 317, 220, 285, 202, 151, 186, 183, 212, 309, 168, 248, 289, 422, 196, 155, 179, 260, 176, 343, 216, 189, 279, 190, 160, 68, 238, 356, 164, 259, 196, 193, 244, 281, 277, 354, 282, 160, 200, 170, 94, 155, 256, 169, 109, 222, 178, 232, 215, 322, 261, 152, 196, 112, 136, 167, 223, 118, 207, 241, 122, 185, 202, 185, 144, 235, 216, 222, 180, 223, 219, 290, 361, 232, 245, 256, 241, 245, 185, 234, 301, 389, 287, 320, 270, 367, 316, 226, 271, 315, 227, 255, 317, 359, 328, 276, 257, 181, 182, 161, 176, 125, 100, 199, 374, 283, 245, 255, 200, 256, 227, 199, 203, 189, 240, 232, 317, 279, 229, 238, 294, 253, 332, 295, 469, 338, 386, 349, 270, 368, 370, 325, 353, 264, 177, 163, 120, 277, 332, 352, 201, 253, 187, 238, "
     ]
    },
    {
     "data": {
      "text/plain": [
       "231.88235294117646"
      ]
     },
     "execution_count": 3,
     "metadata": {},
     "output_type": "execute_result"
    }
   ],
   "source": [
    "# print number of typed snps in each window\n",
    "avg_typedsnps = 0\n",
    "for w in 1:windows\n",
    "    cur_range = compressed_Hunique.CWrange[w]\n",
    "    Hw_pos = compressed_Hunique.pos[cur_range]\n",
    "    XtoH_idx = indexin(X_pos, Hw_pos) # X_pos[i] == Hw_pos[XtoH_idx[i]]\n",
    "    XtoH_rm_nothing = Base.filter(!isnothing, XtoH_idx) # delete snps not in ref panel\n",
    "    Xw_aligned = X[findall(!isnothing, XtoH_idx), :]\n",
    "    Hw_aligned = compressed_Hunique[w].uniqueH[XtoH_rm_nothing, :]\n",
    "    typed_snps[w] = XtoH_rm_nothing # save typed snps index for current window\n",
    "    print(length(typed_snps[w]), \", \")\n",
    "    avg_typedsnps += length(typed_snps[w])\n",
    "end\n",
    "println(avg_typedsnps / windows)"
   ]
  },
  {
   "cell_type": "code",
   "execution_count": 6,
   "metadata": {
    "collapsed": false
   },
   "outputs": [
    {
     "name": "stdout",
     "output_type": "stream",
     "text": [
      "43153, 23073, 22231, 41076, 29386, 27008, 46315, 37642, 25765, 21839, 20595, 21527, 16158, 32760, 47892, 18580, 28264, 8729, 9500, 18800, 37802, 17573, 20875, 9675, 26973, 49406, 12181, 37537, 9241, 7059, 35183, 51484, 15874, 7438, 16325, 23100, 25285, 18477, 19886, 26153, 22792, 37703, 26449, 11748, 9639, 27353, 26110, 36999, 13381, 15974, 39117, 20871, 16207, 6714, 11477, 21526, 17455, 21065, 37932, 31302, 18634, 15999, 19634, 17454, 19643, 37004, 31287, 12731, 31721, 13043, 13420, 39254, 32144, 33890, 28011, 35041, 25275, 38534, 28050, 23027, 35030, 6441, 6646, 6048, 6606, 7603, 7407, 24258, 21789, 12665, 9804, 10714, 6218, 5743, 9427, 12611, 11579, 14809, 10717, 13624, 17989, 5594, 8992, 8530, 6352, 7827, 8181, 10707, 20881, 18757, 35873, 31670, 11913, 8145, 29269, 14086, 18221, 17486, 14247, 18401, 12909, 22749, 16742, 10408, 11499, 10458, 9562, 7940, 7660, 20783, 17763, 10630, 18572, 30646, 19162, 17001, 8480, 15818, 34804, 17233, 16029, 27683, 25063, 33654, 24763, 37337, 23868, 24808, 18202, 29508, 7768, 7137, 14679, 14793, 20821, 17531, 7791, 14126, 31351, 15372, 24241, 10663, 15112, 15709, 24176, 19452, 10470, 10427, 9739, 10742, 9506, 10657, 7119, 10945, 8089, 7518, 6348, 10088, 10562, 14806, 13283, 30713, 13011, 19117, 7555, 10477, 26763, 25605, 17294, 15852, 6031, 9397, 28450, 31140, 38892, 32315, 32319, 22861, 31508, 31517, 32758, 19499, 23291, 25914, 28667, 13397, 34209, 22382, 11146, 20688, 28206, 29822, 21500, 13516, 32519, 26889, 16280, 22069, 19208, 13259, 23512, 31098, 21504, 17813, 17844, 28927, 10242, 33478, 19075, 24075, 21112, 38847, 38251, 25211, 35599, 26581, 27081, 31475, 23679, 14667, 40603, 20948, 41795, 39603, 41960, 10453, 21807, 10935, 23974, 20560, 13125, 17457, 17417, 24404, 30326, "
     ]
    },
    {
     "data": {
      "text/plain": [
       "20747.133333333335"
      ]
     },
     "execution_count": 6,
     "metadata": {},
     "output_type": "execute_result"
    }
   ],
   "source": [
    "# print number of unique haplotypes in each window\n",
    "avg_haps = 0\n",
    "for w in 1:windows\n",
    "    cur_range = compressed_Hunique.CWrange[w]\n",
    "    Hw_pos = compressed_Hunique.pos[cur_range]\n",
    "    XtoH_idx = indexin(X_pos, Hw_pos) # X_pos[i] == Hw_pos[XtoH_idx[i]]\n",
    "    XtoH_rm_nothing = Base.filter(!isnothing, XtoH_idx) # delete snps not in ref panel\n",
    "    Xw_aligned = X[findall(!isnothing, XtoH_idx), :]\n",
    "    Hw_aligned = compressed_Hunique[w].uniqueH[XtoH_rm_nothing, :]\n",
    "    typed_snps[w] = XtoH_rm_nothing # save typed snps index for current window\n",
    "    print(size(Hw_aligned, 2), \", \")\n",
    "    avg_haps += size(Hw_aligned, 2)\n",
    "end\n",
    "avg_haps / windows"
   ]
  },
  {
   "cell_type": "code",
   "execution_count": 6,
   "metadata": {
    "collapsed": false
   },
   "outputs": [
    {
     "name": "stdout",
     "output_type": "stream",
     "text": [
      "multiplication took 5.10690735 seconds\n",
      "haplopair      took 317.242422826 seconds\n",
      "last step      took 9.4127e-5 seconds\n",
      "initXfloat! time = 0.000624971\n",
      "haplopair!  time = 322.351309052\n",
      "323.519544 seconds (347.26 k allocations: 2.309 GiB, 0.30% gc time)\n",
      "228.806131 seconds (44 allocations: 255.656 KiB)\n"
     ]
    }
   ],
   "source": [
    "# keep all happairs that within some range of best pair\n",
    "w = 2\n",
    "cur_range = compressed_Hunique.CWrange[w]\n",
    "Hw_pos = compressed_Hunique.pos[cur_range]\n",
    "XtoH_idx = indexin(X_pos, Hw_pos) # X_pos[i] == Hw_pos[XtoH_idx[i]]\n",
    "XtoH_rm_nothing = Base.filter(!isnothing, XtoH_idx) # delete snps not in ref panel\n",
    "Xw_aligned = X[findall(!isnothing, XtoH_idx), :]\n",
    "Hw_aligned = compressed_Hunique[w].uniqueH[XtoH_rm_nothing, :]\n",
    "typed_snps[w] = XtoH_rm_nothing\n",
    "\n",
    "@time happairs, hapscore = haplopair(Xw_aligned, Hw_aligned)\n",
    "@time compute_redundant_haplotypes!(redundant_haplotypes, compressed_Hunique, happairs, w)"
   ]
  },
  {
   "cell_type": "code",
   "execution_count": 7,
   "metadata": {
    "collapsed": false
   },
   "outputs": [
    {
     "name": "stdout",
     "output_type": "stream",
     "text": [
      "multiplication took 4.806436387 seconds\n",
      "haplopair      took 335.317340209 seconds\n",
      "last step      took 9.2642e-5 seconds\n",
      "initXfloat! time = 0.000614286\n",
      "haplopair!  time = 340.125338714\n",
      "341.316505 seconds (313.94 k allocations: 2.096 GiB, 0.09% gc time)\n",
      "  5.104356 seconds (176 allocations: 1.820 MiB)\n"
     ]
    }
   ],
   "source": [
    "# keep (<=100) happairs that within some range of best pair\n",
    "w = 2\n",
    "cur_range = compressed_Hunique.CWrange[w]\n",
    "Hw_pos = compressed_Hunique.pos[cur_range]\n",
    "XtoH_idx = indexin(X_pos, Hw_pos) # X_pos[i] == Hw_pos[XtoH_idx[i]]\n",
    "XtoH_rm_nothing = Base.filter(!isnothing, XtoH_idx) # delete snps not in ref panel\n",
    "Xw_aligned = X[findall(!isnothing, XtoH_idx), :]\n",
    "Hw_aligned = compressed_Hunique[w].uniqueH[XtoH_rm_nothing, :]\n",
    "typed_snps[w] = XtoH_rm_nothing\n",
    "\n",
    "@time happairs, hapscore = haplopair(Xw_aligned, Hw_aligned)\n",
    "@time compute_redundant_haplotypes!(redundant_haplotypes, compressed_Hunique, happairs, w)"
   ]
  },
  {
   "cell_type": "code",
   "execution_count": 10,
   "metadata": {
    "collapsed": false
   },
   "outputs": [
    {
     "name": "stdout",
     "output_type": "stream",
     "text": [
      "multiplication took 4.792340524 seconds\n",
      "haplopair      took 192.100335024 seconds\n",
      "last step      took 9.2731e-5 seconds\n",
      "initXfloat! time = 0.000865971\n",
      "haplopair!  time = 196.892854113\n",
      "197.797263 seconds (204 allocations: 2.080 GiB, 0.06% gc time)\n",
      "  0.044044 seconds (26 allocations: 65.063 KiB)\n"
     ]
    }
   ],
   "source": [
    "# save only best happair\n",
    "w = 2\n",
    "cur_range = compressed_Hunique.CWrange[w]\n",
    "Hw_pos = compressed_Hunique.pos[cur_range]\n",
    "XtoH_idx = indexin(X_pos, Hw_pos) # X_pos[i] == Hw_pos[XtoH_idx[i]]\n",
    "XtoH_rm_nothing = Base.filter(!isnothing, XtoH_idx) # delete snps not in ref panel\n",
    "Xw_aligned = X[findall(!isnothing, XtoH_idx), :]\n",
    "Hw_aligned = compressed_Hunique[w].uniqueH[XtoH_rm_nothing, :]\n",
    "typed_snps[w] = XtoH_rm_nothing\n",
    "\n",
    "@time happairs, hapscore = haplopair(Xw_aligned, Hw_aligned)\n",
    "@time compute_redundant_haplotypes!(redundant_haplotypes, compressed_Hunique, happairs, w)"
   ]
  },
  {
   "cell_type": "code",
   "execution_count": 2,
   "metadata": {
    "collapsed": false
   },
   "outputs": [
    {
     "name": "stdout",
     "output_type": "stream",
     "text": [
      "  0.805913 seconds (6 allocations: 1.490 GiB, 0.84% gc time)\n",
      "  0.035577 seconds (7 allocations: 76.294 MiB)\n"
     ]
    }
   ],
   "source": [
    "@time M = zeros(Float32, 20000, 20000);\n",
    "@time N = zeros(Float32, 1000, 20000);"
   ]
  },
  {
   "cell_type": "code",
   "execution_count": null,
   "metadata": {
    "collapsed": true
   },
   "outputs": [],
   "source": []
  },
  {
   "cell_type": "code",
   "execution_count": null,
   "metadata": {
    "collapsed": true
   },
   "outputs": [],
   "source": []
  },
  {
   "cell_type": "code",
   "execution_count": null,
   "metadata": {
    "collapsed": true
   },
   "outputs": [],
   "source": []
  },
  {
   "cell_type": "code",
   "execution_count": 3,
   "metadata": {
    "collapsed": false
   },
   "outputs": [
    {
     "data": {
      "text/plain": [
       "Gtk.GtkWindowLeaf(name=\"\", parent, width-request=-1, height-request=-1, visible=TRUE, sensitive=TRUE, app-paintable=FALSE, can-focus=FALSE, has-focus=FALSE, is-focus=FALSE, focus-on-click=TRUE, can-default=FALSE, has-default=FALSE, receives-default=FALSE, composite-child=FALSE, style, events=0, no-show-all=FALSE, has-tooltip=FALSE, tooltip-markup=NULL, tooltip-text=NULL, window, opacity=1.000000, double-buffered, halign=GTK_ALIGN_FILL, valign=GTK_ALIGN_FILL, margin-left, margin-right, margin-start=0, margin-end=0, margin-top=0, margin-bottom=0, margin=0, hexpand=FALSE, vexpand=FALSE, hexpand-set=FALSE, vexpand-set=FALSE, expand=FALSE, scale-factor=2, border-width=0, resize-mode, child, type=GTK_WINDOW_TOPLEVEL, title=\"Profile\", role=NULL, resizable=TRUE, modal=FALSE, window-position=GTK_WIN_POS_NONE, default-width=800, default-height=600, destroy-with-parent=FALSE, hide-titlebar-when-maximized=FALSE, icon, icon-name=NULL, screen, type-hint=GDK_WINDOW_TYPE_HINT_NORMAL, skip-taskbar-hint=FALSE, skip-pager-hint=FALSE, urgency-hint=FALSE, accept-focus=TRUE, focus-on-map=TRUE, decorated=TRUE, deletable=TRUE, gravity=GDK_GRAVITY_NORTH_WEST, transient-for, attached-to, has-resize-grip, resize-grip-visible, application, is-active=FALSE, has-toplevel-focus=FALSE, startup-id, mnemonics-visible=FALSE, focus-visible=FALSE, is-maximized=FALSE)"
      ]
     },
     "execution_count": 3,
     "metadata": {},
     "output_type": "execute_result"
    }
   ],
   "source": [
    "w = 2\n",
    "cur_range = compressed_Hunique.CWrange[w]\n",
    "Hw_pos = compressed_Hunique.pos[cur_range]\n",
    "XtoH_idx = indexin(X_pos, Hw_pos) # X_pos[i] == Hw_pos[XtoH_idx[i]]\n",
    "XtoH_rm_nothing = Base.filter(!isnothing, XtoH_idx) # delete snps not in ref panel\n",
    "Xw_aligned = X[findall(!isnothing, XtoH_idx), :]\n",
    "Hw_aligned = compressed_Hunique[w].uniqueH[XtoH_rm_nothing, :]\n",
    "typed_snps[w] = XtoH_rm_nothing\n",
    "\n",
    "using ProfileView\n",
    "using Profile\n",
    "Profile.init(n = 10^7, delay = 0.1)\n",
    "\n",
    "t = Matrix{Union{UInt8, Missing}}(undef, 100, 100)\n",
    "t .= rand(UInt8, 100, 100);\n",
    "@profview happairs, hapscore = haplopair(t, falses(100, 100));\n",
    "# @profview happairs, hapscore = haplopair(Xw_aligned, Hw_aligned)\n",
    "\n",
    "\n",
    "Xwork = zeros(Float32, size(Xw_aligned, 1), size(Xw_aligned, 2))\n",
    "Hwork = convert(Matrix{Float32}, Hw_aligned)\n",
    "MendelImpute.initXfloat!(Xw_aligned, Xwork)\n",
    "\n",
    "p, n     = size(Xw_aligned)\n",
    "d        = size(Hw_aligned, 2)\n",
    "M        = zeros(Float32, d, d)\n",
    "N        = zeros(Float32, n, d)\n",
    "happairs = [Tuple{Int, Int}[] for i in 1:n]\n",
    "hapscore = zeros(Float32, n)\n",
    "sizehint!.(happairs, 100) # will not save > 100 unique haplotype pairs to conserve memory\n",
    "@profview haplopair!(Xwork, Hwork, M, N, happairs, hapscore)"
   ]
  },
  {
   "cell_type": "markdown",
   "metadata": {},
   "source": [
    "# Time haplopair"
   ]
  },
  {
   "cell_type": "code",
   "execution_count": 2,
   "metadata": {
    "collapsed": false
   },
   "outputs": [
    {
     "name": "stderr",
     "output_type": "stream",
     "text": [
      "\u001b[32mImporting genotype file...100%|█████████████████████████| Time: 0:00:08\u001b[39m\n"
     ]
    }
   ],
   "source": [
    "chr = 22\n",
    "maf = 0.1\n",
    "width = 2048\n",
    "Random.seed!(2020)\n",
    "tgtfile = \"target.chr$chr.typedOnly.maf$maf.masked.vcf.gz\"\n",
    "reffile = \"ref.chr$chr.excludeTarget.jlso\"\n",
    "\n",
    "X, X_sampleID, X_chr, X_pos, X_ids, X_ref, X_alt = VCFTools.convert_gt(UInt8, tgtfile, trans=true, save_snp_info=true, msg = \"Importing genotype file...\")\n",
    "loaded = JLSO.load(reffile)\n",
    "compressed_Hunique = loaded[:compressed_Hunique]\n",
    "\n",
    "w = 10\n",
    "cur_range = compressed_Hunique.CWrange[w]\n",
    "Hw_pos = compressed_Hunique.pos[cur_range]\n",
    "XtoH_idx = indexin(X_pos, Hw_pos) # X_pos[i] == Hw_pos[XtoH_idx[i]]\n",
    "XtoH_rm_nothing = Base.filter(!isnothing, XtoH_idx) # delete snps not in ref panel\n",
    "Xw_aligned = X[findall(!isnothing, XtoH_idx), :]\n",
    "Hw_aligned = compressed_Hunique[w].uniqueH[XtoH_rm_nothing, :];"
   ]
  },
  {
   "cell_type": "code",
   "execution_count": 3,
   "metadata": {
    "collapsed": false
   },
   "outputs": [
    {
     "data": {
      "text/plain": [
       "((269, 1000), (269, 21839))"
      ]
     },
     "execution_count": 3,
     "metadata": {},
     "output_type": "execute_result"
    }
   ],
   "source": [
    "size(Xw_aligned), size(Hw_aligned)"
   ]
  },
  {
   "cell_type": "code",
   "execution_count": 4,
   "metadata": {
    "collapsed": false
   },
   "outputs": [
    {
     "name": "stdout",
     "output_type": "stream",
     "text": [
      "\u001b[0m\u001b[1m ─────────────────────────────────────────────────────────────────────\u001b[22m\n",
      "\u001b[0m\u001b[1m                      \u001b[22m        Time                   Allocations      \n",
      "                      ──────────────────────   ───────────────────────\n",
      "   Tot / % measured:        195s / 99.2%           2.12GiB / 87.6%    \n",
      "\n",
      " Section      ncalls     time   %tot     avg     alloc   %tot      avg\n",
      " ─────────────────────────────────────────────────────────────────────\n",
      " search mat        1     187s  97.0%    187s     0.00B  0.00%    0.00B\n",
      " matmul            1    4.54s  2.35%   4.54s     0.00B  0.00%    0.00B\n",
      " allocation        1    1.17s  0.61%   1.17s   1.86GiB  100%   1.86GiB\n",
      " const term        1    524μs  0.00%   524μs     0.00B  0.00%    0.00B\n",
      "\u001b[0m\u001b[1m ─────────────────────────────────────────────────────────────────────\u001b[22m"
     ]
    }
   ],
   "source": [
    "const to = TimerOutput()\n",
    "\n",
    "function haplopair_time(\n",
    "    X::AbstractMatrix,\n",
    "    H::BitMatrix\n",
    "    )\n",
    "\n",
    "    Xwork = zeros(Float32, size(X, 1), size(X, 2))\n",
    "    Hwork = convert(Matrix{Float32}, H)\n",
    "    MendelImpute.initXfloat!(X, Xwork)\n",
    "\n",
    "    @timeit to \"allocation\" begin \n",
    "        p, n     = size(X)\n",
    "        d        = size(H, 2)\n",
    "        M        = zeros(Float32, d, d)\n",
    "        N        = zeros(Float32, n, d)\n",
    "        happairs = ones(Int, n), ones(Int, n)\n",
    "        hapscore = zeros(Float32, n)\n",
    "    end\n",
    "    haplopair_time!(Xwork, Hwork, M, N, happairs, hapscore)\n",
    "\n",
    "    return happairs, hapscore\n",
    "end\n",
    "\n",
    "function haplopair_time!(\n",
    "    X::AbstractMatrix,\n",
    "    H::AbstractMatrix,\n",
    "    M::AbstractMatrix,\n",
    "    N::AbstractMatrix,\n",
    "    happairs::Tuple{AbstractVector, AbstractVector},\n",
    "    hapscore::AbstractVector\n",
    "    )\n",
    "\n",
    "    p, n, d = size(X, 1), size(X, 2), size(H, 2)\n",
    "\n",
    "    # assemble M (upper triangular only)\n",
    "    @timeit to \"matmul\" begin mul!(M, Transpose(H), H)\n",
    "        for j in 1:d, i in 1:(j - 1) # off-diagonal\n",
    "            M[i, j] = 2M[i, j] + M[i, i] + M[j, j]\n",
    "        end\n",
    "        for j in 1:d # diagonal\n",
    "            M[j, j] *= 4\n",
    "        end\n",
    "\n",
    "        # assemble N\n",
    "        mul!(N, Transpose(X), H)\n",
    "        @simd for I in eachindex(N)\n",
    "            N[I] *= 2\n",
    "        end\n",
    "    end\n",
    "\n",
    "    # computational routine\n",
    "    @timeit to \"search mat\" MendelImpute.haplopair!(happairs, hapscore, M, N)\n",
    "\n",
    "    # supplement the constant terms in objective\n",
    "    @timeit to \"const term\" begin @inbounds for j in 1:n\n",
    "            @simd for i in 1:p\n",
    "                hapscore[j] += abs2(X[i, j])\n",
    "            end\n",
    "        end\n",
    "    end\n",
    "end\n",
    "\n",
    "haplopair_time(Xw_aligned, Hw_aligned)\n",
    "print_timer(to)"
   ]
  },
  {
   "cell_type": "code",
   "execution_count": 16,
   "metadata": {
    "collapsed": false
   },
   "outputs": [
    {
     "name": "stdout",
     "output_type": "stream",
     "text": [
      "377.271177 seconds (2.02 k allocations: 2.081 GiB, 0.05% gc time)\n"
     ]
    }
   ],
   "source": [
    "#w = 2, keep top happairs within some range of best one\n",
    "@time happairs, hapscore = haplopair(Xw_aligned, Hw_aligned);"
   ]
  },
  {
   "cell_type": "code",
   "execution_count": null,
   "metadata": {
    "collapsed": true
   },
   "outputs": [],
   "source": []
  },
  {
   "cell_type": "code",
   "execution_count": null,
   "metadata": {
    "collapsed": false
   },
   "outputs": [
    {
     "name": "stderr",
     "output_type": "stream",
     "text": [
      "\u001b[32mImporting genotype file...100%|█████████████████████████| Time: 0:00:10\u001b[39m\n"
     ]
    },
    {
     "name": "stdout",
     "output_type": "stream",
     "text": [
      "running window 161 / 255\n",
      "running window 193 / 255\n",
      "running window 225 / 255\n",
      "running window 129 / 255\n",
      "running window 97 / 255\n",
      "running window 1 / 255\n",
      "running window 65 / 255\n",
      "running window 33 / 255\n",
      "running window 2 / 255\n",
      "window 129 completed haplopair routine\n",
      "window 129 completed compute_redundant_haplotypes\n",
      "running window 130 / 255\n",
      "window 65 completed haplopair routine\n",
      "window 193 completed haplopair routine\n"
     ]
    },
    {
     "name": "stderr",
     "output_type": "stream",
     "text": [
      "\r",
      "\u001b[32mComputing optimal haplotype pairs...  1%|▏              |  ETA: 4:08:22\u001b[39m"
     ]
    }
   ],
   "source": [
    "# searching single bkpts, deleting suboptimal pairs in dp, skip windows with <100 typed snps\n",
    "chr = 22\n",
    "maf = 0.1\n",
    "width = 2048\n",
    "\n",
    "Random.seed!(2020)\n",
    "tgtfile = \"target.chr$chr.typedOnly.maf$maf.masked.vcf.gz\"\n",
    "reffile = \"ref.chr$chr.excludeTarget.jlso\"\n",
    "outfile = \"mendel.imputed.dp$width.maf$maf.vcf.gz\"\n",
    "@time ph, hs = phase(tgtfile, reffile, outfile=outfile, impute=true, width=width)\n",
    "\n",
    "X_complete = convert_gt(UInt8, \"target.chr$chr.full.vcf.gz\")\n",
    "n, p = size(X_complete)\n",
    "X_mendel = convert_gt(UInt8, outfile)\n",
    "println(\"error overall = $(sum(X_mendel .!= X_complete) / n / p) \\n\")"
   ]
  },
  {
   "cell_type": "code",
   "execution_count": null,
   "metadata": {
    "collapsed": true
   },
   "outputs": [],
   "source": []
  }
 ],
 "metadata": {
  "@webio": {
   "lastCommId": null,
   "lastKernelId": null
  },
  "kernelspec": {
   "display_name": "Julia 1.3.1",
   "language": "julia",
   "name": "julia-1.3"
  },
  "language_info": {
   "file_extension": ".jl",
   "mimetype": "application/julia",
   "name": "julia",
   "version": "1.3.1"
  }
 },
 "nbformat": 4,
 "nbformat_minor": 2
}
