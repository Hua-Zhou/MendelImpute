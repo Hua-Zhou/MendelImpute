{
 "cells": [
  {
   "cell_type": "markdown",
   "metadata": {},
   "source": [
    "# HRC chrom 20 result"
   ]
  },
  {
   "cell_type": "code",
   "execution_count": 1,
   "metadata": {
    "collapsed": false
   },
   "outputs": [
    {
     "name": "stderr",
     "output_type": "stream",
     "text": [
      "┌ Info: Precompiling MendelImpute [e47305d1-6a61-5370-bc5d-77554d143183]\n",
      "└ @ Base loading.jl:1278\n"
     ]
    }
   ],
   "source": [
    "using Revise\n",
    "using VCFTools\n",
    "using MendelImpute\n",
    "using GeneticVariation\n",
    "using Random\n",
    "using StatsBase\n",
    "using CodecZlib\n",
    "using ProgressMeter\n",
    "using JLD2, FileIO, JLSO\n",
    "using BenchmarkTools\n",
    "using GroupSlices\n",
    "using TimerOutputs\n",
    "using LinearAlgebra\n",
    "\n",
    "BLAS.set_num_threads(1)"
   ]
  },
  {
   "cell_type": "markdown",
   "metadata": {
    "collapsed": true
   },
   "source": [
    "# MendelImpute error rate"
   ]
  },
  {
   "cell_type": "code",
   "execution_count": 2,
   "metadata": {
    "collapsed": false
   },
   "outputs": [
    {
     "data": {
      "text/plain": [
       "8"
      ]
     },
     "execution_count": 2,
     "metadata": {},
     "output_type": "execute_result"
    }
   ],
   "source": [
    "Threads.nthreads()"
   ]
  },
  {
   "cell_type": "code",
   "execution_count": 3,
   "metadata": {
    "collapsed": false
   },
   "outputs": [
    {
     "name": "stdout",
     "output_type": "stream",
     "text": [
      "Number of threads = 8\n",
      "Importing reference haplotype data...\n"
     ]
    },
    {
     "name": "stderr",
     "output_type": "stream",
     "text": [
      "\u001b[32mImporting genotype file...100%|█████████████████████████| Time: 0:00:27\u001b[39m\n"
     ]
    },
    {
     "name": "stdout",
     "output_type": "stream",
     "text": [
      "max_width = 698, max_d = 45349\n"
     ]
    },
    {
     "ename": "LoadError",
     "evalue": "UndefVarError: fdsa not defined",
     "output_type": "error",
     "traceback": [
      "UndefVarError: fdsa not defined",
      "",
      "Stacktrace:",
      " [1] compute_optimal_haplotypes!(::Array{Array{Int32,1},1}, ::Array{Array{Int32,1},1}, ::Array{Array{Float32,1},1}, ::MendelImpute.CompressedHaplotypes, ::Array{Union{Missing, UInt8},2}, ::Array{Int64,1}, ::Nothing, ::Nothing, ::Bool, ::Int64, ::Bool) at /Users/biona001/.julia/dev/MendelImpute/src/haplotype_pair.jl:59",
      " [2] phase(::String, ::String; outfile::String, impute::Bool, phase::Bool, dosage::Bool, rescreen::Bool, max_haplotypes::Int64, stepwise::Nothing, thinning_factor::Nothing, scale_allelefreq::Bool, dynamic_programming::Bool) at /Users/biona001/.julia/dev/MendelImpute/src/phasing.jl:144",
      " [3] top-level scope at ./timing.jl:174 [inlined]",
      " [4] top-level scope at ./In[3]:0",
      " [5] include_string(::Function, ::Module, ::String, ::String) at ./loading.jl:1091"
     ]
    }
   ],
   "source": [
    "# 8 threads\n",
    "Random.seed!(2020)\n",
    "tgtfile = \"target.chr20.typedOnly.maf0.01.masked.vcf.gz\"\n",
    "reffile = \"ref.chr20.maxd1000.overlap0.0.excludeTarget.jlso\"\n",
    "outfile = \"mendel.chr20.imputed.target.vcf.gz\"\n",
    "@time ph, haploscore = phase(tgtfile, reffile, outfile = outfile);\n",
    "\n",
    "# import imputed result and compare with true\n",
    "X_mendel = convert_gt(Float32, outfile)\n",
    "X_complete = convert_gt(Float32, \"target.chr20.full.vcf.gz\")\n",
    "n, p = size(X_mendel)\n",
    "println(\"error_rate = \", sum(X_mendel .!= X_complete) / n / p)"
   ]
  },
  {
   "cell_type": "code",
   "execution_count": null,
   "metadata": {
    "collapsed": true
   },
   "outputs": [],
   "source": []
  },
  {
   "cell_type": "code",
   "execution_count": null,
   "metadata": {
    "collapsed": true
   },
   "outputs": [],
   "source": []
  },
  {
   "cell_type": "code",
   "execution_count": null,
   "metadata": {
    "collapsed": true
   },
   "outputs": [],
   "source": []
  },
  {
   "cell_type": "code",
   "execution_count": 3,
   "metadata": {
    "collapsed": false
   },
   "outputs": [
    {
     "name": "stdout",
     "output_type": "stream",
     "text": [
      "Importing reference haplotype data...\n"
     ]
    },
    {
     "name": "stderr",
     "output_type": "stream",
     "text": [
      "\u001b[32mImporting genotype file...100%|█████████████████████████| Time: 0:00:29\u001b[39m\n",
      "\u001b[32mComputing optimal haplotypes...100%|████████████████████| Time: 0:01:02\u001b[39m\n",
      "\u001b[32mPhasing...100%|█████████████████████████████████████████| Time: 0:00:40\u001b[39m\n",
      "\u001b[32mWriting to file...100%|█████████████████████████████████| Time: 0:00:09\u001b[39m\n"
     ]
    },
    {
     "name": "stdout",
     "output_type": "stream",
     "text": [
      "Total windows = 3252, averaging ~ 510 unique haplotypes per window.\n",
      "\n",
      "Timings: \n",
      "    Data import                     = 65.5912 seconds\n",
      "        import target data             = 31.8892 seconds\n",
      "        import compressed haplotypes   = 33.7021 seconds\n",
      "    Computing haplotype pair        = 62.7794 seconds\n",
      "        BLAS3 mul! to get M and N      = 0.955784 seconds per thread\n",
      "        haplopair search               = 53.0187 seconds per thread\n",
      "        initializing missing           = 1.28654 seconds per thread\n",
      "        allocating and viewing         = 0.0907578 seconds per thread\n",
      "        index conversion               = 0.0775373 seconds per thread\n",
      "    Phasing by win-win intersection = 40.094 seconds\n",
      "        Window-by-window intersection  = 34.3224 seconds per thread\n",
      "        Breakpoint search              = 0.684406 seconds per thread\n",
      "        Recording result               = 2.18599 seconds per thread\n",
      "    Imputation                     = 12.6762 seconds\n",
      "        Imputing missing               = 2.35321 seconds\n",
      "        Writing to file                = 10.323 seconds\n",
      "\n",
      "    Total time                      = 181.339 seconds\n",
      "\n",
      "194.566964 seconds (532.88 M allocations: 42.725 GiB, 7.28% gc time)\n",
      "error_rate = 0.0013106354971214693\n"
     ]
    }
   ],
   "source": [
    "# 8 threads\n",
    "Random.seed!(2020)\n",
    "d       = 1000\n",
    "tgtfile = \"target.chr20.typedOnly.maf0.01.masked.vcf.gz\"\n",
    "reffile = \"ref.chr20.maxd$d.maf0.01.excludeTarget.jlso\"\n",
    "outfile = \"mendel.chr20.imputed.target.vcf.gz\"\n",
    "@time ph, haploscore = phase(tgtfile, reffile, outfile = outfile);\n",
    "\n",
    "# import imputed result and compare with true\n",
    "X_mendel = convert_gt(Float32, outfile)\n",
    "X_complete = convert_gt(Float32, \"target.chr20.full.vcf.gz\")\n",
    "n, p = size(X_mendel)\n",
    "println(\"error_rate = \", sum(X_mendel .!= X_complete) / n / p)"
   ]
  },
  {
   "cell_type": "markdown",
   "metadata": {},
   "source": [
    "# See if window edges have higher error rate"
   ]
  },
  {
   "cell_type": "code",
   "execution_count": 18,
   "metadata": {
    "collapsed": false
   },
   "outputs": [],
   "source": [
    "compressed_Hunique = JLSO.load(reffile)[:compressed_Hunique]\n",
    "windows = nwindows(compressed_Hunique)\n",
    "window_start = compressed_Hunique.Hstart\n",
    "window_width = diff(window_start)\n",
    "snps = length(compressed_Hunique.pos);"
   ]
  },
  {
   "cell_type": "code",
   "execution_count": 19,
   "metadata": {
    "collapsed": false
   },
   "outputs": [
    {
     "name": "stdout",
     "output_type": "stream",
     "text": [
      "minimum(window_width) = 17\n",
      "maximum(window_width) = 1612\n",
      "mean(window_width) = 271.42602276222703\n",
      "median(window_width) = 219.0\n"
     ]
    }
   ],
   "source": [
    "@show minimum(window_width)\n",
    "@show maximum(window_width)\n",
    "@show mean(window_width)\n",
    "@show median(window_width);"
   ]
  },
  {
   "cell_type": "code",
   "execution_count": 46,
   "metadata": {
    "collapsed": false
   },
   "outputs": [],
   "source": [
    "# take 10 SNPs from each side of window edges\n",
    "snp_near_edges = Vector{UnitRange}(undef, windows + 1)\n",
    "snp_near_edges[1] = 1:10\n",
    "snp_near_edges[end] = (snps - 9):snps\n",
    "for i in 2:windows\n",
    "    snp_near_edges[i] = (window_start[i] - 9):(window_start[i] + 10)\n",
    "end\n",
    "\n",
    "# compute average error rate of SNPs near edges\n",
    "error_near_edges = 0\n",
    "for r in snp_near_edges\n",
    "    error_near_edges += sum(view(X_complete, :, r) .!= view(X_mendel, :, r))\n",
    "end\n",
    "\n",
    "# total error rate \n",
    "total_error = sum(X_mendel .!= X_complete);"
   ]
  },
  {
   "cell_type": "code",
   "execution_count": 47,
   "metadata": {
    "collapsed": false
   },
   "outputs": [
    {
     "data": {
      "text/plain": [
       "0.07367951224706652"
      ]
     },
     "execution_count": 47,
     "metadata": {},
     "output_type": "execute_result"
    }
   ],
   "source": [
    "# around 7% of snps are near window edges\n",
    "sum(length.(snp_near_edges)) / snps"
   ]
  },
  {
   "cell_type": "code",
   "execution_count": 48,
   "metadata": {
    "collapsed": false
   },
   "outputs": [
    {
     "data": {
      "text/plain": [
       "0.08640454711643429"
      ]
     },
     "execution_count": 48,
     "metadata": {},
     "output_type": "execute_result"
    }
   ],
   "source": [
    "# error near edges is 8%, not significantly high than snps at the middle of windows\n",
    "error_near_edges / total_error"
   ]
  },
  {
   "cell_type": "markdown",
   "metadata": {},
   "source": [
    "Conclusion: no, snps near window edges do not have much higher error rate\n",
    "\n",
    "# See if smaller windows have higher error rate\n",
    "\n",
    "First plot window width distribution"
   ]
  },
  {
   "cell_type": "code",
   "execution_count": 53,
   "metadata": {
    "collapsed": false
   },
   "outputs": [
    {
     "data": {
      "text/plain": [
       "\u001b[90m                  ┌                                        ┐\u001b[39m \n",
       "   \u001b[0m\u001b[90m[\u001b[0m  0.0\u001b[90m, \u001b[0m 20.0\u001b[90m)\u001b[0m\u001b[90m ┤\u001b[39m\u001b[32m▇▇\u001b[39m\u001b[0m 74                                   \u001b[90m \u001b[39m \n",
       "   \u001b[0m\u001b[90m[\u001b[0m 20.0\u001b[90m, \u001b[0m 40.0\u001b[90m)\u001b[0m\u001b[90m ┤\u001b[39m\u001b[32m▇▇▇▇▇▇▇▇▇▇▇▇▇▇▇▇▇▇\u001b[39m\u001b[0m 755                  \u001b[90m \u001b[39m \n",
       "   \u001b[0m\u001b[90m[\u001b[0m 40.0\u001b[90m, \u001b[0m 60.0\u001b[90m)\u001b[0m\u001b[90m ┤\u001b[39m\u001b[32m▇▇▇▇▇▇▇▇▇▇▇▇▇▇▇▇▇▇▇▇▇▇▇▇▇▇▇▇▇▇▇▇▇▇\u001b[39m\u001b[0m 1412 \u001b[90m \u001b[39m \n",
       "   \u001b[0m\u001b[90m[\u001b[0m 60.0\u001b[90m, \u001b[0m 80.0\u001b[90m)\u001b[0m\u001b[90m ┤\u001b[39m\u001b[0m 0                                      \u001b[90m \u001b[39m \n",
       "   \u001b[0m\u001b[90m[\u001b[0m 80.0\u001b[90m, \u001b[0m100.0\u001b[90m)\u001b[0m\u001b[90m ┤\u001b[39m\u001b[32m▇▇▇▇▇▇▇▇▇▇▇▇▇▇▇▇▇▇▇▇▇\u001b[39m\u001b[0m 880               \u001b[90m \u001b[39m \n",
       "   \u001b[0m\u001b[90m[\u001b[0m100.0\u001b[90m, \u001b[0m120.0\u001b[90m)\u001b[0m\u001b[90m ┤\u001b[39m\u001b[0m 0                                      \u001b[90m \u001b[39m \n",
       "   \u001b[0m\u001b[90m[\u001b[0m120.0\u001b[90m, \u001b[0m140.0\u001b[90m)\u001b[0m\u001b[90m ┤\u001b[39m\u001b[0m 0                                      \u001b[90m \u001b[39m \n",
       "   \u001b[0m\u001b[90m[\u001b[0m140.0\u001b[90m, \u001b[0m160.0\u001b[90m)\u001b[0m\u001b[90m ┤\u001b[39m\u001b[0m 0                                      \u001b[90m \u001b[39m \n",
       "   \u001b[0m\u001b[90m[\u001b[0m160.0\u001b[90m, \u001b[0m180.0\u001b[90m)\u001b[0m\u001b[90m ┤\u001b[39m\u001b[32m▇▇▇\u001b[39m\u001b[0m 130                                 \u001b[90m \u001b[39m \n",
       "   \u001b[0m\u001b[90m[\u001b[0m180.0\u001b[90m, \u001b[0m200.0\u001b[90m)\u001b[0m\u001b[90m ┤\u001b[39m\u001b[0m 0                                      \u001b[90m \u001b[39m \n",
       "   \u001b[0m\u001b[90m[\u001b[0m200.0\u001b[90m, \u001b[0m220.0\u001b[90m)\u001b[0m\u001b[90m ┤\u001b[39m\u001b[0m 0                                      \u001b[90m \u001b[39m \n",
       "   \u001b[0m\u001b[90m[\u001b[0m220.0\u001b[90m, \u001b[0m240.0\u001b[90m)\u001b[0m\u001b[90m ┤\u001b[39m\u001b[0m 0                                      \u001b[90m \u001b[39m \n",
       "   \u001b[0m\u001b[90m[\u001b[0m240.0\u001b[90m, \u001b[0m260.0\u001b[90m)\u001b[0m\u001b[90m ┤\u001b[39m\u001b[0m 0                                      \u001b[90m \u001b[39m \n",
       "   \u001b[0m\u001b[90m[\u001b[0m260.0\u001b[90m, \u001b[0m280.0\u001b[90m)\u001b[0m\u001b[90m ┤\u001b[39m\u001b[0m 0                                      \u001b[90m \u001b[39m \n",
       "   \u001b[0m\u001b[90m[\u001b[0m280.0\u001b[90m, \u001b[0m300.0\u001b[90m)\u001b[0m\u001b[90m ┤\u001b[39m\u001b[0m 0                                      \u001b[90m \u001b[39m \n",
       "   \u001b[0m\u001b[90m[\u001b[0m300.0\u001b[90m, \u001b[0m320.0\u001b[90m)\u001b[0m\u001b[90m ┤\u001b[39m\u001b[0m 0                                      \u001b[90m \u001b[39m \n",
       "   \u001b[0m\u001b[90m[\u001b[0m320.0\u001b[90m, \u001b[0m340.0\u001b[90m)\u001b[0m\u001b[90m ┤\u001b[39m\u001b[0m 0                                      \u001b[90m \u001b[39m \n",
       "   \u001b[0m\u001b[90m[\u001b[0m340.0\u001b[90m, \u001b[0m360.0\u001b[90m)\u001b[0m\u001b[90m ┤\u001b[39m\u001b[0m 1                                      \u001b[90m \u001b[39m \n",
       "\u001b[90m                  └                                        ┘\u001b[39m \n",
       "\u001b[0m                                  Frequency"
      ]
     },
     "execution_count": 53,
     "metadata": {},
     "output_type": "execute_result"
    }
   ],
   "source": [
    "using UnicodePlots\n",
    "X_winrange = compressed_Hunique.X_window_range\n",
    "X_winwidth = length.(X_winrange)\n",
    "histogram(X_winwidth, bins=20)"
   ]
  },
  {
   "cell_type": "markdown",
   "metadata": {},
   "source": [
    "Seems like most windows have less than 100 typed SNPs. "
   ]
  },
  {
   "cell_type": "code",
   "execution_count": 66,
   "metadata": {
    "collapsed": false
   },
   "outputs": [],
   "source": [
    "# compute error rate for windows with various widths\n",
    "error_rate_20, error_count_20 = 0, 0\n",
    "error_rate_50, error_count_50 = 0, 0\n",
    "error_rate_100, error_count_100 = 0, 0\n",
    "error_rate_200, error_count_200 = 0, 0\n",
    "for (i, Xrange) in enumerate(X_winwidth)\n",
    "    Hrange = window_start[i]:(i == windows ? snps : window_start[i + 1])\n",
    "    err = sum(view(X_complete, :, Hrange) .!= view(X_mendel, :, Hrange))\n",
    "    if Xrange ≤ 20\n",
    "        error_rate_20 += err\n",
    "        error_count_20 += length(Hrange)\n",
    "    elseif Xrange ≤ 50\n",
    "        error_rate_50 += err\n",
    "        error_count_50 += length(Hrange)\n",
    "    elseif Xrange ≤ 100\n",
    "        error_rate_100 += err\n",
    "        error_count_100 += length(Hrange)\n",
    "    elseif Xrange ≤ 200\n",
    "        error_rate_200 += err\n",
    "        error_count_200 += length(Hrange)\n",
    "    end\n",
    "end"
   ]
  },
  {
   "cell_type": "code",
   "execution_count": 68,
   "metadata": {
    "collapsed": false
   },
   "outputs": [
    {
     "name": "stdout",
     "output_type": "stream",
     "text": [
      "(error_rate_20 / error_count_20) / n = 0.00237559088955737\n",
      "(error_rate_50 / error_count_50) / n = 0.0015021973412171273\n",
      "(error_rate_100 / error_count_100) / n = 0.0011659154187974184\n",
      "(error_rate_200 / error_count_200) / n = 0.0010674090026751137\n"
     ]
    }
   ],
   "source": [
    "@show error_rate_20 / error_count_20 / n\n",
    "@show error_rate_50 / error_count_50 / n\n",
    "@show error_rate_100 / error_count_100 / n\n",
    "@show error_rate_200 / error_count_200 / n;"
   ]
  },
  {
   "cell_type": "markdown",
   "metadata": {},
   "source": [
    "Conclusion: Windows with 20 or less SNPs have >2x error rate than windows with 100 SNPs "
   ]
  },
  {
   "cell_type": "code",
   "execution_count": null,
   "metadata": {
    "collapsed": true
   },
   "outputs": [],
   "source": []
  }
 ],
 "metadata": {
  "@webio": {
   "lastCommId": null,
   "lastKernelId": null
  },
  "kernelspec": {
   "display_name": "Julia 1.5.0",
   "language": "julia",
   "name": "julia-1.5"
  },
  "language_info": {
   "file_extension": ".jl",
   "mimetype": "application/julia",
   "name": "julia",
   "version": "1.5.0"
  }
 },
 "nbformat": 4,
 "nbformat_minor": 2
}
