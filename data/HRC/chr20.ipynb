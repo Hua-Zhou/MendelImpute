{
 "cells": [
  {
   "cell_type": "markdown",
   "metadata": {},
   "source": [
    "# Test imputation on untyped SNPs chrom 20"
   ]
  },
  {
   "cell_type": "code",
   "execution_count": 1,
   "metadata": {
    "collapsed": false
   },
   "outputs": [
    {
     "name": "stderr",
     "output_type": "stream",
     "text": [
      "┌ Info: Precompiling MendelImpute [e47305d1-6a61-5370-bc5d-77554d143183]\n",
      "└ @ Base loading.jl:1278\n"
     ]
    }
   ],
   "source": [
    "using Revise\n",
    "using VCFTools\n",
    "using MendelImpute\n",
    "using GeneticVariation\n",
    "using Random\n",
    "using StatsBase\n",
    "using CodecZlib\n",
    "using ProgressMeter\n",
    "using JLD2, FileIO, JLSO\n",
    "using BenchmarkTools\n",
    "using GroupSlices\n",
    "using TimerOutputs\n",
    "using LinearAlgebra\n",
    "# using Profile\n",
    "# using ProfileView\n",
    "\n",
    "BLAS.set_num_threads(1)"
   ]
  },
  {
   "cell_type": "markdown",
   "metadata": {
    "collapsed": true
   },
   "source": [
    "# MendelImpute error rate (window-window intersection)"
   ]
  },
  {
   "cell_type": "code",
   "execution_count": 2,
   "metadata": {
    "collapsed": false
   },
   "outputs": [
    {
     "data": {
      "text/plain": [
       "8"
      ]
     },
     "execution_count": 2,
     "metadata": {},
     "output_type": "execute_result"
    }
   ],
   "source": [
    "Threads.nthreads()"
   ]
  },
  {
   "cell_type": "code",
   "execution_count": 3,
   "metadata": {
    "collapsed": false
   },
   "outputs": [
    {
     "name": "stdout",
     "output_type": "stream",
     "text": [
      "Importing reference haplotype data...\n"
     ]
    },
    {
     "name": "stderr",
     "output_type": "stream",
     "text": [
      "\u001b[32mImporting genotype file...100%|█████████████████████████| Time: 0:00:27\u001b[39m\n",
      "\u001b[32mComputing optimal haplotypes...100%|████████████████████| Time: 0:23:01\u001b[39m\n",
      "\u001b[32mPhasing...100%|█████████████████████████████████████████| Time: 0:02:14\u001b[39m\n",
      "\u001b[32mWriting to file...100%|█████████████████████████████████| Time: 0:00:44\u001b[39m\n"
     ]
    },
    {
     "name": "stdout",
     "output_type": "stream",
     "text": [
      "Total windows = 2789, averaging ~ 874 unique haplotypes per window.\n",
      "\n",
      "Timings: \n",
      "    Data import                     = 58.5177 seconds\n",
      "    Computing haplotype pair        = 1383.12 seconds\n",
      "        BLAS3 mul! to get M and N      = 27.2261 seconds per thread\n",
      "        haplopair search               = 1345.49 seconds per thread\n",
      "        initializing missing           = 5.69148 seconds per thread\n",
      "        allocating and viewing         = 0.622084 seconds per thread\n",
      "        index conversion               = 0.29668 seconds per thread\n",
      "    Phasing by win-win intersection = 134.576 seconds\n",
      "        Window-by-window intersection  = 131.214 seconds per thread\n",
      "        Breakpoint search              = 1.1651 seconds per thread\n",
      "        Recording result               = 1.51797 seconds per thread\n",
      "    Imputation                      = 63.5032 seconds\n",
      "\n",
      "1647.668093 seconds (456.23 M allocations: 40.962 GiB, 0.62% gc time)\n"
     ]
    },
    {
     "data": {
      "text/plain": [
       "0.0012403941355458334"
      ]
     },
     "execution_count": 3,
     "metadata": {},
     "output_type": "execute_result"
    }
   ],
   "source": [
    "# 1 threads\n",
    "Random.seed!(2020)\n",
    "width   = 64\n",
    "tgtfile = \"target.chr20.typedOnly.maf0.01.masked.vcf.gz\"\n",
    "reffile = \"ref.chr20.w$width.maf0.01.excludeTarget.jlso\"\n",
    "outfile = \"mendel.chr20.imputed.target.vcf.gz\"\n",
    "@time ph = phase(tgtfile, reffile, outfile = outfile, width = width,\n",
    "    dynamic_programming = false);\n",
    "\n",
    "# import imputed result and compare with true\n",
    "X_mendel = convert_gt(Float32, outfile);\n",
    "X_complete = convert_gt(Float32, \"target.chr20.full.vcf.gz\");\n",
    "n, p = size(X_mendel);\n",
    "error_rate = sum(X_mendel .!= X_complete) / n / p"
   ]
  },
  {
   "cell_type": "code",
   "execution_count": 3,
   "metadata": {
    "collapsed": false
   },
   "outputs": [
    {
     "name": "stdout",
     "output_type": "stream",
     "text": [
      "Importing reference haplotype data...\n"
     ]
    },
    {
     "name": "stderr",
     "output_type": "stream",
     "text": [
      "\u001b[32mImporting genotype file...100%|█████████████████████████| Time: 0:00:27\u001b[39m\n",
      "\u001b[32mComputing optimal haplotypes... 86%|█████████████████▏  |  ETA: 0:00:44\u001b[39m"
     ]
    },
    {
     "ename": "LoadError",
     "evalue": "TaskFailedException:\nInterruptException:\nStacktrace:\n [1] macro expansion at /Users/biona001/.julia/dev/MendelImpute/src/haplotype_pair.jl:129 [inlined]\n [2] (::MendelImpute.var\"#61#threadsfor_fun#77\"{Array{Array{Int32,1},1},Array{Array{Int32,1},1},MendelImpute.CompressedHaplotypes,Array{Union{Missing, UInt8},2},Array{Int64,1},Nothing,Nothing,Bool,Int64,Bool,Int64,Int64,Int64,Array{Array{Float64,1},1},Array{Array{Int32,1},1},Array{Array{Int32,1},1},Array{Array{Float32,1},1},Array{Array{Float32,2},1},Array{Array{Float32,2},1},Progress,UnitRange{Int64}})(::Bool) at ./threadingconstructs.jl:81\n [3] (::MendelImpute.var\"#61#threadsfor_fun#77\"{Array{Array{Int32,1},1},Array{Array{Int32,1},1},MendelImpute.CompressedHaplotypes,Array{Union{Missing, UInt8},2},Array{Int64,1},Nothing,Nothing,Bool,Int64,Bool,Int64,Int64,Int64,Array{Array{Float64,1},1},Array{Array{Int32,1},1},Array{Array{Int32,1},1},Array{Array{Float32,1},1},Array{Array{Float32,2},1},Array{Array{Float32,2},1},Progress,UnitRange{Int64}})() at ./threadingconstructs.jl:48",
     "output_type": "error",
     "traceback": [
      "TaskFailedException:\nInterruptException:\nStacktrace:\n [1] macro expansion at /Users/biona001/.julia/dev/MendelImpute/src/haplotype_pair.jl:129 [inlined]\n [2] (::MendelImpute.var\"#61#threadsfor_fun#77\"{Array{Array{Int32,1},1},Array{Array{Int32,1},1},MendelImpute.CompressedHaplotypes,Array{Union{Missing, UInt8},2},Array{Int64,1},Nothing,Nothing,Bool,Int64,Bool,Int64,Int64,Int64,Array{Array{Float64,1},1},Array{Array{Int32,1},1},Array{Array{Int32,1},1},Array{Array{Float32,1},1},Array{Array{Float32,2},1},Array{Array{Float32,2},1},Progress,UnitRange{Int64}})(::Bool) at ./threadingconstructs.jl:81\n [3] (::MendelImpute.var\"#61#threadsfor_fun#77\"{Array{Array{Int32,1},1},Array{Array{Int32,1},1},MendelImpute.CompressedHaplotypes,Array{Union{Missing, UInt8},2},Array{Int64,1},Nothing,Nothing,Bool,Int64,Bool,Int64,Int64,Int64,Array{Array{Float64,1},1},Array{Array{Int32,1},1},Array{Array{Int32,1},1},Array{Array{Float32,1},1},Array{Array{Float32,2},1},Array{Array{Float32,2},1},Progress,UnitRange{Int64}})() at ./threadingconstructs.jl:48",
      "",
      "Stacktrace:",
      " [1] wait at ./task.jl:267 [inlined]",
      " [2] threading_run(::Function) at ./threadingconstructs.jl:34",
      " [3] macro expansion at ./threadingconstructs.jl:93 [inlined]",
      " [4] compute_optimal_haplotypes!(::Array{Array{Int32,1},1}, ::Array{Array{Int32,1},1}, ::MendelImpute.CompressedHaplotypes, ::Array{Union{Missing, UInt8},2}, ::Array{Int64,1}, ::Nothing, ::Nothing, ::Bool, ::Int64, ::Bool) at /Users/biona001/.julia/dev/MendelImpute/src/haplotype_pair.jl:84",
      " [5] phase(::String, ::String; outfile::String, impute::Bool, phase::Bool, width::Int64, rescreen::Bool, max_haplotypes::Int64, stepwise::Nothing, thinning_factor::Nothing, scale_allelefreq::Bool, dynamic_programming::Bool) at /Users/biona001/.julia/dev/MendelImpute/src/phasing.jl:124",
      " [6] top-level scope at ./timing.jl:174 [inlined]",
      " [7] top-level scope at ./In[3]:0",
      " [8] include_string(::Function, ::Module, ::String, ::String) at ./loading.jl:1091"
     ]
    }
   ],
   "source": [
    "# 8 threads (Threads.@threads)\n",
    "Random.seed!(2020)\n",
    "width   = 64\n",
    "tgtfile = \"target.chr20.typedOnly.maf0.01.masked.vcf.gz\"\n",
    "reffile = \"ref.chr20.w$width.maf0.01.excludeTarget.jlso\"\n",
    "outfile = \"mendel.chr20.imputed.target.vcf.gz\"\n",
    "@time ph = phase(tgtfile, reffile, outfile = outfile, width = width,\n",
    "    dynamic_programming = false);\n",
    "\n",
    "# import imputed result and compare with true\n",
    "X_mendel = convert_gt(Float32, outfile);\n",
    "X_complete = convert_gt(Float32, \"target.chr20.full.vcf.gz\");\n",
    "n, p = size(X_mendel);\n",
    "error_rate = sum(X_mendel .!= X_complete) / n / p"
   ]
  },
  {
   "cell_type": "code",
   "execution_count": null,
   "metadata": {
    "collapsed": false
   },
   "outputs": [
    {
     "name": "stdout",
     "output_type": "stream",
     "text": [
      "Importing reference haplotype data...\n"
     ]
    },
    {
     "name": "stderr",
     "output_type": "stream",
     "text": [
      "\u001b[32mImporting genotype file...100%|█████████████████████████| Time: 0:00:25\u001b[39m\n",
      "\u001b[32mComputing optimal haplotypes... 79%|███████████████▊    |  ETA: 0:01:23\u001b[39m"
     ]
    }
   ],
   "source": [
    "# 8 threads (ThreadPools.@qthreads)\n",
    "Random.seed!(2020)\n",
    "width   = 64\n",
    "tgtfile = \"target.chr20.typedOnly.maf0.01.masked.vcf.gz\"\n",
    "reffile = \"ref.chr20.w$width.maf0.01.excludeTarget.jlso\"\n",
    "outfile = \"mendel.chr20.imputed.target.vcf.gz\"\n",
    "@time ph = phase(tgtfile, reffile, outfile = outfile, width = width,\n",
    "    dynamic_programming = false);\n",
    "\n",
    "# import imputed result and compare with true\n",
    "X_mendel = convert_gt(Float32, outfile);\n",
    "X_complete = convert_gt(Float32, \"target.chr20.full.vcf.gz\");\n",
    "n, p = size(X_mendel);\n",
    "error_rate = sum(X_mendel .!= X_complete) / n / p"
   ]
  },
  {
   "cell_type": "code",
   "execution_count": null,
   "metadata": {
    "collapsed": true
   },
   "outputs": [],
   "source": []
  },
  {
   "cell_type": "code",
   "execution_count": null,
   "metadata": {
    "collapsed": true
   },
   "outputs": [],
   "source": []
  },
  {
   "cell_type": "code",
   "execution_count": null,
   "metadata": {
    "collapsed": true
   },
   "outputs": [],
   "source": []
  },
  {
   "cell_type": "code",
   "execution_count": null,
   "metadata": {
    "collapsed": true
   },
   "outputs": [],
   "source": []
  },
  {
   "cell_type": "code",
   "execution_count": null,
   "metadata": {
    "collapsed": true
   },
   "outputs": [],
   "source": []
  },
  {
   "cell_type": "code",
   "execution_count": 3,
   "metadata": {
    "collapsed": false
   },
   "outputs": [
    {
     "name": "stdout",
     "output_type": "stream",
     "text": [
      "Importing reference haplotype data...\n"
     ]
    },
    {
     "name": "stderr",
     "output_type": "stream",
     "text": [
      "\u001b[32mImporting genotype file...100%|█████████████████████████| Time: 0:00:28\u001b[39m\n",
      "\u001b[32mComputing optimal haplotypes...100%|████████████████████| Time: 0:06:49\u001b[39m\n",
      "\u001b[32mPhasing...100%|█████████████████████████████████████████| Time: 0:00:27\u001b[39m\n",
      "\u001b[32mWriting to file...100%|█████████████████████████████████| Time: 0:00:47\u001b[39m\n"
     ]
    },
    {
     "name": "stdout",
     "output_type": "stream",
     "text": [
      "Total windows = 2789, averaging ~ 874 unique haplotypes per window.\n",
      "\n",
      "Timings: \n",
      "    Data import                     = 60.0293 seconds\n",
      "    Computing haplotype pair        = 415.187 seconds\n",
      "        BLAS3 mul! to get M and N      = 5.38322 seconds per thread\n",
      "        haplopair search               = 266.638 seconds per thread\n",
      "        initializing missing           = 1.10494 seconds per thread\n",
      "        allocating and viewing         = 0.610804 seconds per thread\n",
      "        index conversion               = 0.0724439 seconds per thread\n",
      "    Phasing by win-win intersection = 28.4098 seconds\n",
      "        Window-by-window intersection  = 27.0122 seconds per thread\n",
      "        Breakpoint search              = 0.334786 seconds per thread\n",
      "        Recording result               = 0.267538 seconds per thread\n",
      "    Imputation                      = 54.026 seconds\n",
      "\n",
      "566.117875 seconds (456.20 M allocations: 44.394 GiB, 2.21% gc time)\n"
     ]
    },
    {
     "data": {
      "text/plain": [
       "0.0012403941355458334"
      ]
     },
     "execution_count": 3,
     "metadata": {},
     "output_type": "execute_result"
    }
   ],
   "source": [
    "# 8 threads\n",
    "Random.seed!(2020)\n",
    "width   = 64\n",
    "tgtfile = \"target.chr20.typedOnly.maf0.01.masked.vcf.gz\"\n",
    "reffile = \"ref.chr20.w$width.maf0.01.excludeTarget.jlso\"\n",
    "outfile = \"mendel.chr20.imputed.target.vcf.gz\"\n",
    "@time ph = phase(tgtfile, reffile, outfile = outfile, width = width,\n",
    "    dynamic_programming = false);\n",
    "\n",
    "# import imputed result and compare with true\n",
    "X_mendel = convert_gt(Float32, outfile);\n",
    "X_complete = convert_gt(Float32, \"target.chr20.full.vcf.gz\");\n",
    "n, p = size(X_mendel);\n",
    "error_rate = sum(X_mendel .!= X_complete) / n / p"
   ]
  },
  {
   "cell_type": "markdown",
   "metadata": {
    "collapsed": true
   },
   "source": [
    "# Try stepwise heuristic"
   ]
  },
  {
   "cell_type": "code",
   "execution_count": null,
   "metadata": {
    "collapsed": false
   },
   "outputs": [
    {
     "name": "stdout",
     "output_type": "stream",
     "text": [
      "Importing reference haplotype data...\n"
     ]
    },
    {
     "name": "stderr",
     "output_type": "stream",
     "text": [
      "\u001b[32mImporting genotype file...100%|█████████████████████████| Time: 0:00:26\u001b[39m\n",
      "\u001b[32mComputing optimal haplotypes...  2%|▍                   |  ETA: 1:52:30\u001b[39m"
     ]
    }
   ],
   "source": [
    "# 8 threads\n",
    "Random.seed!(2020)\n",
    "width   = 512\n",
    "tgtfile = \"target.chr20.typedOnly.maf0.01.masked.vcf.gz\"\n",
    "reffile = \"ref.chr20.w$width.maf0.01.excludeTarget.jlso\"\n",
    "outfile = \"mendel.chr20.imputed.target.vcf.gz\"\n",
    "@time ph = phase(tgtfile, reffile, outfile = outfile, width = width,\n",
    "    dynamic_programming = false, max_haplotypes=800, stepwise=100);\n",
    "\n",
    "# import imputed result and compare with true\n",
    "X_mendel = convert_gt(Float32, outfile);\n",
    "X_complete = convert_gt(Float32, \"target.chr20.full.vcf.gz\");\n",
    "n, p = size(X_mendel);\n",
    "error_rate = sum(X_mendel .!= X_complete) / n / p"
   ]
  },
  {
   "cell_type": "markdown",
   "metadata": {},
   "source": [
    "## Profile `compute_optimal_haplotypes!`"
   ]
  },
  {
   "cell_type": "code",
   "execution_count": 2,
   "metadata": {
    "collapsed": true
   },
   "outputs": [],
   "source": [
    "Profile.init(n = 10^7, delay = 0.01) # 1 backtrace per 0.01 second"
   ]
  },
  {
   "cell_type": "code",
   "execution_count": 3,
   "metadata": {
    "collapsed": false
   },
   "outputs": [
    {
     "ename": "InterruptException",
     "evalue": "InterruptException:",
     "output_type": "error",
     "traceback": [
      "InterruptException:",
      "",
      "Stacktrace:",
      " [1] (::BSON.var\"#43#44\")(::Dict{Symbol,Any}) at /Users/biona001/.julia/packages/BSON/XAts7/src/extensions.jl:130",
      " [2] _raise_recursive(::Dict{Symbol,Any}, ::IdDict{Any,Any}) at /Users/biona001/.julia/packages/BSON/XAts7/src/read.jl:79",
      " [3] (::BSON.var\"#45#46\")(::Dict{Symbol,Any}, ::IdDict{Any,Any}) at /Users/biona001/.julia/packages/BSON/XAts7/src/extensions.jl:139",
      " [4] raise_recursive(::Dict{Symbol,Any}, ::IdDict{Any,Any}) at /Users/biona001/.julia/packages/BSON/XAts7/src/read.jl:88",
      " [5] (::BSON.var\"#23#24\"{IdDict{Any,Any}})(::Dict{Symbol,Any}) at /Users/biona001/.julia/packages/BSON/XAts7/src/read.jl:94",
      " [6] applychildren!(::BSON.var\"#23#24\"{IdDict{Any,Any}}, ::Array{Any,1}) at /Users/biona001/.julia/packages/BSON/XAts7/src/BSON.jl:28",
      " [7] raise_recursive at /Users/biona001/.julia/packages/BSON/XAts7/src/read.jl:94 [inlined]",
      " [8] (::BSON.var\"#19#21\"{IdDict{Any,Any}})(::Array{Any,1}) at /Users/biona001/.julia/packages/BSON/XAts7/src/read.jl:79",
      " [9] applychildren!(::BSON.var\"#19#21\"{IdDict{Any,Any}}, ::Dict{Symbol,Any}) at /Users/biona001/.julia/packages/BSON/XAts7/src/BSON.jl:21",
      " [10] _raise_recursive(::Dict{Symbol,Any}, ::IdDict{Any,Any}) at /Users/biona001/.julia/packages/BSON/XAts7/src/read.jl:79",
      " [11] raise_recursive(::Dict{Symbol,Any}, ::IdDict{Any,Any}) at /Users/biona001/.julia/packages/BSON/XAts7/src/read.jl:89",
      " [12] (::BSON.var\"#45#46\")(::Dict{Symbol,Any}, ::IdDict{Any,Any}) at /Users/biona001/.julia/packages/BSON/XAts7/src/extensions.jl:138",
      " [13] raise_recursive(::Dict{Symbol,Any}, ::IdDict{Any,Any}) at /Users/biona001/.julia/packages/BSON/XAts7/src/read.jl:88",
      " [14] (::BSON.var\"#23#24\"{IdDict{Any,Any}})(::Dict{Symbol,Any}) at /Users/biona001/.julia/packages/BSON/XAts7/src/read.jl:94",
      " [15] applychildren!(::BSON.var\"#23#24\"{IdDict{Any,Any}}, ::Array{Any,1}) at /Users/biona001/.julia/packages/BSON/XAts7/src/BSON.jl:28",
      " [16] raise_recursive at /Users/biona001/.julia/packages/BSON/XAts7/src/read.jl:94 [inlined]",
      " [17] (::BSON.var\"#41#42\"{IdDict{Any,Any}})(::Array{Any,1}) at /Users/biona001/.julia/packages/BSON/XAts7/src/extensions.jl:124",
      " [18] iterate at ./generator.jl:47 [inlined]",
      " [19] collect_to!(::Array{Array{Any,1},1}, ::Base.Generator{Array{Any,1},BSON.var\"#41#42\"{IdDict{Any,Any}}}, ::Int64, ::Int64) at ./array.jl:667",
      " [20] collect_to_with_first!(::Array{Array{Any,1},1}, ::Array{Any,1}, ::Base.Generator{Array{Any,1},BSON.var\"#41#42\"{IdDict{Any,Any}}}, ::Int64) at ./array.jl:646",
      " [21] _collect(::Array{Any,1}, ::Base.Generator{Array{Any,1},BSON.var\"#41#42\"{IdDict{Any,Any}}}, ::Base.EltypeUnknown, ::Base.HasShape{1}) at ./array.jl:640",
      " [22] collect_similar(::Array{Any,1}, ::Base.Generator{Array{Any,1},BSON.var\"#41#42\"{IdDict{Any,Any}}}) at ./array.jl:564",
      " [23] map(::Function, ::Array{Any,1}) at ./abstractarray.jl:2073",
      " [24] newstruct_raw(::IdDict{Any,Any}, ::Type, ::Dict{Symbol,Any}) at /Users/biona001/.julia/packages/BSON/XAts7/src/extensions.jl:124",
      " [25] (::BSON.var\"#45#46\")(::Dict{Symbol,Any}, ::IdDict{Any,Any}) at /Users/biona001/.julia/packages/BSON/XAts7/src/extensions.jl:140",
      " [26] raise_recursive(::Dict{Symbol,Any}, ::IdDict{Any,Any}) at /Users/biona001/.julia/packages/BSON/XAts7/src/read.jl:88",
      " [27] raise_recursive at /Users/biona001/.julia/packages/BSON/XAts7/src/read.jl:99 [inlined]",
      " [28] load at /Users/biona001/.julia/packages/BSON/XAts7/src/read.jl:104 [inlined]",
      " [29] read(::IOStream, ::Type{JLSOFile}) at /Users/biona001/.julia/packages/JLSO/dHl2g/src/file_io.jl:38",
      " [30] load(::IOStream) at /Users/biona001/.julia/packages/JLSO/dHl2g/src/file_io.jl:90",
      " [31] #31 at /Users/biona001/.julia/packages/JLSO/dHl2g/src/file_io.jl:88 [inlined]",
      " [32] #open#271(::Base.Iterators.Pairs{Union{},Union{},Tuple{},NamedTuple{(),Tuple{}}}, ::typeof(open), ::JLSO.var\"#31#32\"{Tuple{}}, ::String) at ./io.jl:298",
      " [33] open at ./io.jl:296 [inlined]",
      " [34] load(::String) at /Users/biona001/.julia/packages/JLSO/dHl2g/src/file_io.jl:88",
      " [35] top-level scope at In[3]:7"
     ]
    }
   ],
   "source": [
    "# first save intermediate results for quick loading later\n",
    "Random.seed!(2020)\n",
    "width   = 64\n",
    "tgtfile = \"target.chr20.typedOnly.maf0.01.masked.vcf.gz\"\n",
    "reffile = \"ref.chr20.w$width.maf0.01.excludeTarget.jlso\"\n",
    "outfile = \"mendel.chr20.imputed.target.vcf.gz\"\n",
    "\n",
    "loaded = JLSO.load(reffile)\n",
    "compressed_Hunique = loaded[:compressed_Hunique]\n",
    "\n",
    "X, X_sampleID, X_chr, X_pos, X_ids, X_ref, X_alt = \n",
    "    VCFTools.convert_gt(UInt8, tgtfile, trans=true, \n",
    "    save_snp_info=true, msg = \"Importing genotype file...\")\n",
    "\n",
    "people = size(X, 2)\n",
    "tgt_snps = size(X, 1)\n",
    "ref_snps = length(compressed_Hunique.pos)\n",
    "windows = floor(Int, tgt_snps / width)\n",
    "num_unique_haps = round(Int, avg_haplotypes_per_window(compressed_Hunique))\n",
    "\n",
    "# working arrays\n",
    "ph = [HaplotypeMosaicPair(ref_snps) for i in 1:people]\n",
    "haplotype1 = [zeros(Int32, windows) for i in 1:people]\n",
    "haplotype2 = [zeros(Int32, windows) for i in 1:people];\n",
    "\n",
    "Profile.clear()\n",
    "@profile haptimers = MendelImpute.compute_optimal_haplotypes!(haplotype1, haplotype2, \n",
    "    compressed_Hunique, X, X_pos, nothing, nothing,\n",
    "    false, 1000, false)\n",
    "\n",
    "# save result\n",
    "# JLSO.save(\"haplotypes.chr20.w64\", :haplotype1 => haplotype1, :haplotype2 => haplotype2)"
   ]
  },
  {
   "cell_type": "code",
   "execution_count": null,
   "metadata": {
    "collapsed": true
   },
   "outputs": [],
   "source": []
  }
 ],
 "metadata": {
  "@webio": {
   "lastCommId": null,
   "lastKernelId": null
  },
  "kernelspec": {
   "display_name": "Julia 1.5.0",
   "language": "julia",
   "name": "julia-1.5"
  },
  "language_info": {
   "file_extension": ".jl",
   "mimetype": "application/julia",
   "name": "julia",
   "version": "1.5.0"
  }
 },
 "nbformat": 4,
 "nbformat_minor": 2
}
