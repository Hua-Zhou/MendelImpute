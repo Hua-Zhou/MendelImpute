{
 "cells": [
  {
   "cell_type": "markdown",
   "metadata": {},
   "source": [
    "# Test imputation on untyped SNPs chrom 20"
   ]
  },
  {
   "cell_type": "code",
   "execution_count": 1,
   "metadata": {
    "collapsed": false
   },
   "outputs": [
    {
     "name": "stderr",
     "output_type": "stream",
     "text": [
      "┌ Info: Precompiling MendelImpute [e47305d1-6a61-5370-bc5d-77554d143183]\n",
      "└ @ Base loading.jl:1273\n"
     ]
    }
   ],
   "source": [
    "using Revise\n",
    "using VCFTools\n",
    "using MendelImpute\n",
    "using GeneticVariation\n",
    "using Random\n",
    "using StatsBase\n",
    "using CodecZlib\n",
    "using ProgressMeter\n",
    "using JLD2, FileIO, JLSO\n",
    "using BenchmarkTools\n",
    "using GroupSlices\n",
    "using TimerOutputs\n",
    "using LinearAlgebra"
   ]
  },
  {
   "cell_type": "markdown",
   "metadata": {},
   "source": [
    "# JLSO compression"
   ]
  },
  {
   "cell_type": "code",
   "execution_count": 2,
   "metadata": {
    "collapsed": false
   },
   "outputs": [
    {
     "name": "stderr",
     "output_type": "stream",
     "text": [
      "\u001b[32mimporting reference data...100%|████████████████████████| Time: 1:58:27\u001b[39m\n",
      "\u001b[32mImporting genotype file...100%|█████████████████████████| Time: 0:00:47\u001b[39m\n"
     ]
    },
    {
     "name": "stdout",
     "output_type": "stream",
     "text": [
      "1448.312517 seconds (25.33 M allocations: 208.233 GiB, 6.09% gc time)\n",
      "860.528588 seconds (2.32 M allocations: 111.641 GiB, 3.83% gc time)\n",
      "744.464060 seconds (2.09 M allocations: 65.391 GiB, 3.37% gc time)\n",
      "924.790384 seconds (1.95 M allocations: 43.912 GiB, 3.62% gc time)\n",
      "1253.220605 seconds (1.87 M allocations: 36.084 GiB, 3.08% gc time)\n",
      "1069.813418 seconds (1.83 M allocations: 36.346 GiB, 3.18% gc time)\n"
     ]
    }
   ],
   "source": [
    "widths = [64, 128, 256, 512, 1024, 2048]\n",
    "mafs = [0.01]\n",
    "\n",
    "reffile = \"ref.chr20.excludeTarget.vcf.gz\"\n",
    "H, H_sampleID, H_chr, H_pos, H_ids, H_ref, H_alt = convert_ht(Bool, reffile, trans=true, save_snp_info=true, msg=\"importing reference data...\")\n",
    "\n",
    "for maf in mafs\n",
    "    tgtfile = \"target.chr20.typedOnly.maf$maf.masked.vcf.gz\"\n",
    "    X, X_sampleID, X_chr, X_pos, X_ids, X_ref, X_alt = VCFTools.convert_gt(UInt8, tgtfile, trans=true, save_snp_info=true, msg = \"Importing genotype file...\")\n",
    "    for width in widths\n",
    "        outfile = \"ref.chr20.$width.maf$maf.excludeTarget.jlso\"\n",
    "        @time compress_haplotypes(H, X, outfile, X_pos, H_sampleID, H_chr, H_pos, H_ids, H_ref, H_alt, width)\n",
    "    end\n",
    "end"
   ]
  },
  {
   "cell_type": "code",
   "execution_count": 4,
   "metadata": {
    "collapsed": false
   },
   "outputs": [
    {
     "name": "stdout",
     "output_type": "stream",
     "text": [
      "-rw-r--r--  1 biona001  staff  1510126972 Jun 23 14:01 ref.chr20.excludeTarget.vcf.gz\n"
     ]
    }
   ],
   "source": [
    ";ls -al ref.chr20.excludeTarget.vcf.gz"
   ]
  },
  {
   "cell_type": "code",
   "execution_count": 5,
   "metadata": {
    "collapsed": false
   },
   "outputs": [
    {
     "name": "stdout",
     "output_type": "stream",
     "text": [
      "-rw-r--r--  1 biona001  staff  681365591 Jun 23 16:36 ref.chr20.64.maf0.01.excludeTarget.jlso\n"
     ]
    }
   ],
   "source": [
    ";ls -al ref.chr20.64.maf0.01.excludeTarget.jlso"
   ]
  },
  {
   "cell_type": "code",
   "execution_count": 6,
   "metadata": {
    "collapsed": false
   },
   "outputs": [
    {
     "name": "stdout",
     "output_type": "stream",
     "text": [
      "-rw-r--r--  1 biona001  staff  508560677 Jun 23 16:50 ref.chr20.128.maf0.01.excludeTarget.jlso\n"
     ]
    }
   ],
   "source": [
    ";ls -al ref.chr20.128.maf0.01.excludeTarget.jlso"
   ]
  },
  {
   "cell_type": "code",
   "execution_count": 7,
   "metadata": {
    "collapsed": false
   },
   "outputs": [
    {
     "name": "stdout",
     "output_type": "stream",
     "text": [
      "-rw-r--r--  1 biona001  staff  439346754 Jun 23 17:03 ref.chr20.256.maf0.01.excludeTarget.jlso\n"
     ]
    }
   ],
   "source": [
    ";ls -al ref.chr20.256.maf0.01.excludeTarget.jlso"
   ]
  },
  {
   "cell_type": "code",
   "execution_count": 8,
   "metadata": {
    "collapsed": false
   },
   "outputs": [
    {
     "name": "stdout",
     "output_type": "stream",
     "text": [
      "-rw-r--r--  1 biona001  staff  501298920 Jun 23 17:18 ref.chr20.512.maf0.01.excludeTarget.jlso\n"
     ]
    }
   ],
   "source": [
    ";ls -al ref.chr20.512.maf0.01.excludeTarget.jlso"
   ]
  },
  {
   "cell_type": "code",
   "execution_count": 9,
   "metadata": {
    "collapsed": false
   },
   "outputs": [
    {
     "name": "stdout",
     "output_type": "stream",
     "text": [
      "-rw-r--r--  1 biona001  staff  712678854 Jun 23 17:39 ref.chr20.1024.maf0.01.excludeTarget.jlso\n"
     ]
    }
   ],
   "source": [
    ";ls -al ref.chr20.1024.maf0.01.excludeTarget.jlso"
   ]
  },
  {
   "cell_type": "code",
   "execution_count": 10,
   "metadata": {
    "collapsed": false
   },
   "outputs": [
    {
     "name": "stdout",
     "output_type": "stream",
     "text": [
      "-rw-r--r--  1 biona001  staff  1081480064 Jun 23 17:57 ref.chr20.2048.maf0.01.excludeTarget.jlso\n"
     ]
    }
   ],
   "source": [
    ";ls -al ref.chr20.2048.maf0.01.excludeTarget.jlso"
   ]
  },
  {
   "cell_type": "markdown",
   "metadata": {},
   "source": [
    "# Average number of unique haplotypes"
   ]
  },
  {
   "cell_type": "code",
   "execution_count": 22,
   "metadata": {
    "collapsed": false
   },
   "outputs": [
    {
     "name": "stdout",
     "output_type": "stream",
     "text": [
      " 25.850278 seconds (12.59 M allocations: 5.699 GiB, 19.83% gc time)\n",
      "  0.000001 seconds\n",
      "width = 64 has ~ 873.78486912872 unique haplotypes per window\n",
      "\n",
      " 21.706964 seconds (12.51 M allocations: 3.673 GiB, 27.18% gc time)\n",
      "  0.000001 seconds\n",
      "width = 128 has ~ 2497.544476327116 unique haplotypes per window\n",
      "\n",
      " 19.490517 seconds (12.46 M allocations: 3.285 GiB, 28.05% gc time)\n",
      "  0.000001 seconds\n",
      "width = 256 has ~ 6985.797704447633 unique haplotypes per window\n",
      "\n",
      " 23.512566 seconds (12.44 M allocations: 4.301 GiB, 29.49% gc time)\n",
      "  0.000001 seconds\n",
      "width = 512 has ~ 17234.44252873563 unique haplotypes per window\n",
      "\n",
      " 33.005762 seconds (12.43 M allocations: 6.088 GiB, 26.90% gc time)\n",
      "  0.000001 seconds\n",
      "width = 1024 has ~ 32428.72988505747 unique haplotypes per window\n",
      "\n",
      " 68.480450 seconds (12.42 M allocations: 7.605 GiB, 52.07% gc time)\n",
      "  0.000000 seconds\n",
      "width = 2048 has ~ 45384.942528735635 unique haplotypes per window\n",
      "\n"
     ]
    }
   ],
   "source": [
    "for width in [64, 128, 256, 512, 1024, 2048]\n",
    "    @time loaded = JLSO.load(\"ref.chr20.$width.maf0.01.excludeTarget.jlso\")\n",
    "    @time compressed_Hunique = loaded[:compressed_Hunique]\n",
    "    windows = length(compressed_Hunique.CW_typed)\n",
    "    num_unique = 0\n",
    "    for i in 1:windows\n",
    "        num_unique += size(compressed_Hunique.CW_typed[i].uniqueH, 2)\n",
    "    end\n",
    "    num_unique /= windows\n",
    "    println(\"width = $width has ~ $num_unique unique haplotypes per window\\n\")\n",
    "end"
   ]
  },
  {
   "cell_type": "code",
   "execution_count": 2,
   "metadata": {
    "collapsed": false
   },
   "outputs": [
    {
     "name": "stderr",
     "output_type": "stream",
     "text": [
      "\u001b[32mImporting genotype file...100%|█████████████████████████| Time: 0:00:27\u001b[39m\n"
     ]
    }
   ],
   "source": [
    "Random.seed!(2020)\n",
    "tgtfile = \"target.chr20.typedOnly.maf0.01.masked.vcf.gz\"\n",
    "reffile = \"ref.chr20.w64.maf0.01.excludeTarget.jlso\"\n",
    "outfile = \"mendel.chr20.imputed.target.vcf.gz\"\n",
    "width   = 64\n",
    "\n",
    "loaded = JLSO.load(reffile)\n",
    "compressed_Hunique = loaded[:compressed_Hunique]\n",
    "\n",
    "X, X_sampleID, X_chr, X_pos, X_ids, X_ref, X_alt = VCFTools.convert_gt(UInt8, tgtfile, trans=true, save_snp_info=true, msg = \"Importing genotype file...\")\n",
    "\n",
    "people = size(X, 2)\n",
    "tgt_snps = size(X, 1)\n",
    "ref_snps = length(compressed_Hunique.pos)\n",
    "windows = floor(Int, tgt_snps / width)\n",
    "\n",
    "redundant_haplotypes = [[Tuple{Int32, Int32}[] for i in 1:windows] for j in 1:people]\n",
    "[[sizehint!(redundant_haplotypes[j][i], 1000) for i in 1:windows] for j in 1:people] # don't save >1000 redundant happairs\n",
    "num_unique_haps = 0;"
   ]
  },
  {
   "cell_type": "code",
   "execution_count": 29,
   "metadata": {
    "collapsed": false
   },
   "outputs": [
    {
     "name": "stdout",
     "output_type": "stream",
     "text": [
      "  0.147475 seconds (28 allocations: 3.569 MiB)\n",
      "  0.161333 seconds (39 allocations: 529.266 KiB)\n"
     ]
    },
    {
     "data": {
      "text/plain": [
       "(9.840599999999987e-5, 0.16066419400000012, 0.0004198730000000008)"
      ]
     },
     "execution_count": 29,
     "metadata": {},
     "output_type": "execute_result"
    }
   ],
   "source": [
    "w = 10\n",
    "Hw_aligned = compressed_Hunique.CW_typed[w].uniqueH\n",
    "Xw_idx_start = (w - 1) * width + 1\n",
    "Xw_idx_end = (w == windows ? length(X_pos) : w * width)\n",
    "Xw_aligned = X[Xw_idx_start:Xw_idx_end, :]\n",
    "\n",
    "@time happairs, hapscore, t1, t2, t3 = haplopair(Xw_aligned, Hw_aligned)\n",
    "@time compute_redundant_haplotypes!(redundant_haplotypes, compressed_Hunique, happairs, w)"
   ]
  },
  {
   "cell_type": "code",
   "execution_count": 4,
   "metadata": {
    "collapsed": false
   },
   "outputs": [
    {
     "name": "stdout",
     "output_type": "stream",
     "text": [
      "  398.734 ms (30 allocations: 513.34 KiB)\n"
     ]
    }
   ],
   "source": [
    "@btime compute_redundant_haplotypes!(redundant_haplotypes, compressed_Hunique, happairs, w)"
   ]
  },
  {
   "cell_type": "code",
   "execution_count": 15,
   "metadata": {
    "collapsed": false
   },
   "outputs": [
    {
     "data": {
      "text/plain": [
       "(9.732700000000017e-5, 0.3735346199999999, 0.000452377)"
      ]
     },
     "execution_count": 15,
     "metadata": {},
     "output_type": "execute_result"
    }
   ],
   "source": [
    "t1, t2, t3 = compute_redundant_haplotypes!(redundant_haplotypes, compressed_Hunique, happairs, w)"
   ]
  },
  {
   "cell_type": "code",
   "execution_count": 11,
   "metadata": {
    "collapsed": false
   },
   "outputs": [
    {
     "data": {
      "text/plain": [
       "1001-element Array{Tuple{Int32,Int32},1}:\n",
       " (6, 123)   \n",
       " (6, 152)   \n",
       " (6, 226)   \n",
       " (6, 735)   \n",
       " (6, 879)   \n",
       " (6, 1007)  \n",
       " (6, 1067)  \n",
       " (6, 1074)  \n",
       " (6, 1084)  \n",
       " (6, 1088)  \n",
       " (6, 1339)  \n",
       " (6, 1354)  \n",
       " (6, 1402)  \n",
       " ⋮          \n",
       " (16, 17205)\n",
       " (16, 17210)\n",
       " (16, 17364)\n",
       " (16, 17549)\n",
       " (16, 17669)\n",
       " (16, 17685)\n",
       " (16, 17731)\n",
       " (16, 17845)\n",
       " (16, 17871)\n",
       " (16, 17939)\n",
       " (16, 18224)\n",
       " (16, 18238)"
      ]
     },
     "execution_count": 11,
     "metadata": {},
     "output_type": "execute_result"
    }
   ],
   "source": [
    "redundant_haplotypes[10][w]"
   ]
  },
  {
   "cell_type": "markdown",
   "metadata": {
    "collapsed": true
   },
   "source": [
    "# MendelImpute error rate"
   ]
  },
  {
   "cell_type": "code",
   "execution_count": 2,
   "metadata": {
    "collapsed": false
   },
   "outputs": [
    {
     "data": {
      "text/plain": [
       "8"
      ]
     },
     "execution_count": 2,
     "metadata": {},
     "output_type": "execute_result"
    }
   ],
   "source": [
    "Threads.nthreads()"
   ]
  },
  {
   "cell_type": "code",
   "execution_count": null,
   "metadata": {
    "collapsed": false
   },
   "outputs": [
    {
     "name": "stderr",
     "output_type": "stream",
     "text": [
      "\u001b[32mImporting genotype file...100%|█████████████████████████| Time: 0:00:27\u001b[39m\n",
      "\u001b[32mComputing optimal haplotype pairs...  3%|▌              |  ETA: 0:48:38\u001b[39m0:45\u001b[39m"
     ]
    }
   ],
   "source": [
    "# width 64\n",
    "Random.seed!(2020)\n",
    "tgtfile = \"target.chr20.typedOnly.maf0.01.masked.vcf.gz\"\n",
    "reffile = \"ref.chr20.64.maf0.01.excludeTarget.jlso\"\n",
    "outfile = \"mendel.chr20.imputed.target.vcf.gz\"\n",
    "width   = 64\n",
    "@time hs, ph = phase(tgtfile, reffile, outfile = outfile, width = width);\n",
    "\n",
    "# import imputed result and compare with true\n",
    "X_mendel = convert_gt(Float32, outfile)\n",
    "X_complete = convert_gt(Float32, \"target.chr20.full.vcf.gz\")\n",
    "n, p = size(X_mendel)\n",
    "error_rate = sum(X_mendel .!= X_complete) / n / p"
   ]
  },
  {
   "cell_type": "code",
   "execution_count": null,
   "metadata": {
    "collapsed": true
   },
   "outputs": [],
   "source": []
  }
 ],
 "metadata": {
  "kernelspec": {
   "display_name": "Julia 1.3.1",
   "language": "julia",
   "name": "julia-1.3"
  },
  "language_info": {
   "file_extension": ".jl",
   "mimetype": "application/julia",
   "name": "julia",
   "version": "1.3.1"
  }
 },
 "nbformat": 4,
 "nbformat_minor": 2
}
