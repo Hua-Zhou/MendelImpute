{
 "cells": [
  {
   "cell_type": "markdown",
   "metadata": {},
   "source": [
    "# Test imputation on untyped SNPs chrom 20"
   ]
  },
  {
   "cell_type": "code",
   "execution_count": 1,
   "metadata": {
    "collapsed": false
   },
   "outputs": [
    {
     "name": "stderr",
     "output_type": "stream",
     "text": [
      "┌ Info: Precompiling MendelImpute [e47305d1-6a61-5370-bc5d-77554d143183]\n",
      "└ @ Base loading.jl:1273\n"
     ]
    }
   ],
   "source": [
    "using Revise\n",
    "using VCFTools\n",
    "using MendelImpute\n",
    "using GeneticVariation\n",
    "using Random\n",
    "using StatsBase\n",
    "using CodecZlib\n",
    "using ProgressMeter\n",
    "using JLD2, FileIO, JLSO\n",
    "using BenchmarkTools\n",
    "using GroupSlices\n",
    "using TimerOutputs\n",
    "using LinearAlgebra\n",
    "# using Profile\n",
    "# using ProfileView\n",
    "\n",
    "BLAS.set_num_threads(1)"
   ]
  },
  {
   "cell_type": "markdown",
   "metadata": {
    "collapsed": true
   },
   "source": [
    "# MendelImpute error rate (window-window intersection)"
   ]
  },
  {
   "cell_type": "code",
   "execution_count": 2,
   "metadata": {
    "collapsed": false
   },
   "outputs": [
    {
     "data": {
      "text/plain": [
       "8"
      ]
     },
     "execution_count": 2,
     "metadata": {},
     "output_type": "execute_result"
    }
   ],
   "source": [
    "Threads.nthreads()"
   ]
  },
  {
   "cell_type": "code",
   "execution_count": null,
   "metadata": {
    "collapsed": false
   },
   "outputs": [
    {
     "name": "stdout",
     "output_type": "stream",
     "text": [
      "Importing reference haplotype data...\n"
     ]
    },
    {
     "name": "stderr",
     "output_type": "stream",
     "text": [
      "\u001b[32mImporting genotype file...100%|█████████████████████████| Time: 0:00:27\u001b[39m\n",
      "\u001b[32mComputing optimal haplotypes...100%|████████████████████| Time: 0:14:42\u001b[39m\n",
      "\u001b[32mPhasing...100%|█████████████████████████████████████████| Time: 0:00:24\u001b[39m\n",
      "\u001b[32mWriting to file...100%|█████████████████████████████████| Time: 0:00:47\u001b[39m\n"
     ]
    },
    {
     "name": "stdout",
     "output_type": "stream",
     "text": [
      "Total windows = 2789, averaging ~ 874 unique haplotypes per window.\n",
      "\n",
      "Timings: \n",
      "    Data import                     = 61.7013 seconds\n",
      "    Computing haplotype pair        = 884.229 seconds\n",
      "        BLAS3 mul! to get M and N      = 4.87337 seconds per thread\n",
      "        haplopair search               = 187.35 seconds per thread\n",
      "        initializing missing           = 0.877334 seconds per thread\n",
      "        allocating internal matrices   = 115.777 seconds per thread\n",
      "        index conversion               = 0.0592008 seconds per thread\n",
      "        creating views                 = 0.000147259 seconds per thread\n",
      "    Phasing by win-win intersection = 25.1239 seconds\n",
      "        Window-by-window intersection  = 23.3743 seconds per thread\n",
      "        Breakpoint search              = 0.215903 seconds per thread\n",
      "        Recording result               = 0.82844 seconds per thread\n",
      "    Imputation                      = 51.4231 seconds\n",
      "\n",
      "1038"
     ]
    }
   ],
   "source": [
    "# 8 threads\n",
    "Random.seed!(2020)\n",
    "width   = 64\n",
    "tgtfile = \"target.chr20.typedOnly.maf0.01.masked.vcf.gz\"\n",
    "reffile = \"ref.chr20.w$width.maf0.01.excludeTarget.jlso\"\n",
    "outfile = \"mendel.chr20.imputed.target.vcf.gz\"\n",
    "@time ph = phase(tgtfile, reffile, outfile = outfile, width = width,\n",
    "    dynamic_programming = false);\n",
    "\n",
    "# import imputed result and compare with true\n",
    "X_mendel = convert_gt(Float32, outfile);\n",
    "X_complete = convert_gt(Float32, \"target.chr20.full.vcf.gz\");\n",
    "n, p = size(X_mendel);\n",
    "error_rate = sum(X_mendel .!= X_complete) / n / p"
   ]
  },
  {
   "cell_type": "code",
   "execution_count": null,
   "metadata": {
    "collapsed": true
   },
   "outputs": [],
   "source": []
  },
  {
   "cell_type": "code",
   "execution_count": null,
   "metadata": {
    "collapsed": true
   },
   "outputs": [],
   "source": []
  },
  {
   "cell_type": "code",
   "execution_count": null,
   "metadata": {
    "collapsed": true
   },
   "outputs": [],
   "source": []
  },
  {
   "cell_type": "code",
   "execution_count": null,
   "metadata": {
    "collapsed": true
   },
   "outputs": [],
   "source": []
  },
  {
   "cell_type": "code",
   "execution_count": 3,
   "metadata": {
    "collapsed": false
   },
   "outputs": [
    {
     "name": "stdout",
     "output_type": "stream",
     "text": [
      "Importing reference haplotype data...\n"
     ]
    },
    {
     "name": "stderr",
     "output_type": "stream",
     "text": [
      "\u001b[32mImporting genotype file...100%|█████████████████████████| Time: 0:00:27\u001b[39m\n",
      "\u001b[32mComputing optimal haplotypes...100%|████████████████████| Time: 0:14:40\u001b[39m\n",
      "\u001b[32mPhasing...100%|█████████████████████████████████████████| Time: 0:00:25\u001b[39m\n",
      "\u001b[32mWriting to file...100%|█████████████████████████████████| Time: 0:00:47\u001b[39m\n"
     ]
    },
    {
     "name": "stdout",
     "output_type": "stream",
     "text": [
      "Total windows = 2789, averaging ~ 874 unique haplotypes per window.\n",
      "\n",
      "Timings: \n",
      "    Data import                     = 62.3254 seconds\n",
      "    Computing haplotype pair        = 881.311 seconds\n",
      "        BLAS3 mul! to get M and N      = 4.96215 seconds per thread\n",
      "        haplopair search               = 187.709 seconds per thread\n",
      "        initializing missing           = 0.87772 seconds per thread\n",
      "        allocating internal matrices   = 124.385 seconds per thread\n",
      "        index conversion               = 0.0610335 seconds per thread\n",
      "    Phasing by win-win intersection = 25.9149 seconds\n",
      "        Window-by-window intersection  = 23.9672 seconds per thread\n",
      "        Breakpoint search              = 0.293426 seconds per thread\n",
      "        Recording result               = 0.820013 seconds per thread\n",
      "    Imputation                      = 51.3748 seconds\n",
      "\n",
      "1037.350792 seconds (471.25 M allocations: 69.230 GiB, 1.40% gc time)\n"
     ]
    },
    {
     "data": {
      "text/plain": [
       "0.0012398718991506012"
      ]
     },
     "execution_count": 3,
     "metadata": {},
     "output_type": "execute_result"
    }
   ],
   "source": [
    "# 8 threads\n",
    "Random.seed!(2020)\n",
    "width   = 64\n",
    "tgtfile = \"target.chr20.typedOnly.maf0.01.masked.vcf.gz\"\n",
    "reffile = \"ref.chr20.w$width.maf0.01.excludeTarget.jlso\"\n",
    "outfile = \"mendel.chr20.imputed.target.vcf.gz\"\n",
    "@time ph = phase(tgtfile, reffile, outfile = outfile, width = width,\n",
    "    dynamic_programming = false);\n",
    "\n",
    "# import imputed result and compare with true\n",
    "X_mendel = convert_gt(Float32, outfile);\n",
    "X_complete = convert_gt(Float32, \"target.chr20.full.vcf.gz\");\n",
    "n, p = size(X_mendel);\n",
    "error_rate = sum(X_mendel .!= X_complete) / n / p"
   ]
  },
  {
   "cell_type": "markdown",
   "metadata": {
    "collapsed": true
   },
   "source": [
    "# Try stepwise heuristic"
   ]
  },
  {
   "cell_type": "code",
   "execution_count": null,
   "metadata": {
    "collapsed": false
   },
   "outputs": [
    {
     "name": "stdout",
     "output_type": "stream",
     "text": [
      "Importing reference haplotype data...\n"
     ]
    },
    {
     "name": "stderr",
     "output_type": "stream",
     "text": [
      "\u001b[32mImporting genotype file...100%|█████████████████████████| Time: 0:00:26\u001b[39m\n",
      "\u001b[32mComputing optimal haplotypes...  2%|▍                   |  ETA: 1:52:30\u001b[39m"
     ]
    }
   ],
   "source": [
    "# 8 threads\n",
    "Random.seed!(2020)\n",
    "width   = 512\n",
    "tgtfile = \"target.chr20.typedOnly.maf0.01.masked.vcf.gz\"\n",
    "reffile = \"ref.chr20.w$width.maf0.01.excludeTarget.jlso\"\n",
    "outfile = \"mendel.chr20.imputed.target.vcf.gz\"\n",
    "@time ph = phase(tgtfile, reffile, outfile = outfile, width = width,\n",
    "    dynamic_programming = false, max_haplotypes=800, stepwise=100);\n",
    "\n",
    "# import imputed result and compare with true\n",
    "X_mendel = convert_gt(Float32, outfile);\n",
    "X_complete = convert_gt(Float32, \"target.chr20.full.vcf.gz\");\n",
    "n, p = size(X_mendel);\n",
    "error_rate = sum(X_mendel .!= X_complete) / n / p"
   ]
  },
  {
   "cell_type": "markdown",
   "metadata": {},
   "source": [
    "## Profile `compute_optimal_haplotypes!`"
   ]
  },
  {
   "cell_type": "code",
   "execution_count": 2,
   "metadata": {
    "collapsed": true
   },
   "outputs": [],
   "source": [
    "Profile.init(n = 10^7, delay = 0.01) # 1 backtrace per 0.01 second"
   ]
  },
  {
   "cell_type": "code",
   "execution_count": 3,
   "metadata": {
    "collapsed": false
   },
   "outputs": [
    {
     "ename": "InterruptException",
     "evalue": "InterruptException:",
     "output_type": "error",
     "traceback": [
      "InterruptException:",
      "",
      "Stacktrace:",
      " [1] (::BSON.var\"#43#44\")(::Dict{Symbol,Any}) at /Users/biona001/.julia/packages/BSON/XAts7/src/extensions.jl:130",
      " [2] _raise_recursive(::Dict{Symbol,Any}, ::IdDict{Any,Any}) at /Users/biona001/.julia/packages/BSON/XAts7/src/read.jl:79",
      " [3] (::BSON.var\"#45#46\")(::Dict{Symbol,Any}, ::IdDict{Any,Any}) at /Users/biona001/.julia/packages/BSON/XAts7/src/extensions.jl:139",
      " [4] raise_recursive(::Dict{Symbol,Any}, ::IdDict{Any,Any}) at /Users/biona001/.julia/packages/BSON/XAts7/src/read.jl:88",
      " [5] (::BSON.var\"#23#24\"{IdDict{Any,Any}})(::Dict{Symbol,Any}) at /Users/biona001/.julia/packages/BSON/XAts7/src/read.jl:94",
      " [6] applychildren!(::BSON.var\"#23#24\"{IdDict{Any,Any}}, ::Array{Any,1}) at /Users/biona001/.julia/packages/BSON/XAts7/src/BSON.jl:28",
      " [7] raise_recursive at /Users/biona001/.julia/packages/BSON/XAts7/src/read.jl:94 [inlined]",
      " [8] (::BSON.var\"#19#21\"{IdDict{Any,Any}})(::Array{Any,1}) at /Users/biona001/.julia/packages/BSON/XAts7/src/read.jl:79",
      " [9] applychildren!(::BSON.var\"#19#21\"{IdDict{Any,Any}}, ::Dict{Symbol,Any}) at /Users/biona001/.julia/packages/BSON/XAts7/src/BSON.jl:21",
      " [10] _raise_recursive(::Dict{Symbol,Any}, ::IdDict{Any,Any}) at /Users/biona001/.julia/packages/BSON/XAts7/src/read.jl:79",
      " [11] raise_recursive(::Dict{Symbol,Any}, ::IdDict{Any,Any}) at /Users/biona001/.julia/packages/BSON/XAts7/src/read.jl:89",
      " [12] (::BSON.var\"#45#46\")(::Dict{Symbol,Any}, ::IdDict{Any,Any}) at /Users/biona001/.julia/packages/BSON/XAts7/src/extensions.jl:138",
      " [13] raise_recursive(::Dict{Symbol,Any}, ::IdDict{Any,Any}) at /Users/biona001/.julia/packages/BSON/XAts7/src/read.jl:88",
      " [14] (::BSON.var\"#23#24\"{IdDict{Any,Any}})(::Dict{Symbol,Any}) at /Users/biona001/.julia/packages/BSON/XAts7/src/read.jl:94",
      " [15] applychildren!(::BSON.var\"#23#24\"{IdDict{Any,Any}}, ::Array{Any,1}) at /Users/biona001/.julia/packages/BSON/XAts7/src/BSON.jl:28",
      " [16] raise_recursive at /Users/biona001/.julia/packages/BSON/XAts7/src/read.jl:94 [inlined]",
      " [17] (::BSON.var\"#41#42\"{IdDict{Any,Any}})(::Array{Any,1}) at /Users/biona001/.julia/packages/BSON/XAts7/src/extensions.jl:124",
      " [18] iterate at ./generator.jl:47 [inlined]",
      " [19] collect_to!(::Array{Array{Any,1},1}, ::Base.Generator{Array{Any,1},BSON.var\"#41#42\"{IdDict{Any,Any}}}, ::Int64, ::Int64) at ./array.jl:667",
      " [20] collect_to_with_first!(::Array{Array{Any,1},1}, ::Array{Any,1}, ::Base.Generator{Array{Any,1},BSON.var\"#41#42\"{IdDict{Any,Any}}}, ::Int64) at ./array.jl:646",
      " [21] _collect(::Array{Any,1}, ::Base.Generator{Array{Any,1},BSON.var\"#41#42\"{IdDict{Any,Any}}}, ::Base.EltypeUnknown, ::Base.HasShape{1}) at ./array.jl:640",
      " [22] collect_similar(::Array{Any,1}, ::Base.Generator{Array{Any,1},BSON.var\"#41#42\"{IdDict{Any,Any}}}) at ./array.jl:564",
      " [23] map(::Function, ::Array{Any,1}) at ./abstractarray.jl:2073",
      " [24] newstruct_raw(::IdDict{Any,Any}, ::Type, ::Dict{Symbol,Any}) at /Users/biona001/.julia/packages/BSON/XAts7/src/extensions.jl:124",
      " [25] (::BSON.var\"#45#46\")(::Dict{Symbol,Any}, ::IdDict{Any,Any}) at /Users/biona001/.julia/packages/BSON/XAts7/src/extensions.jl:140",
      " [26] raise_recursive(::Dict{Symbol,Any}, ::IdDict{Any,Any}) at /Users/biona001/.julia/packages/BSON/XAts7/src/read.jl:88",
      " [27] raise_recursive at /Users/biona001/.julia/packages/BSON/XAts7/src/read.jl:99 [inlined]",
      " [28] load at /Users/biona001/.julia/packages/BSON/XAts7/src/read.jl:104 [inlined]",
      " [29] read(::IOStream, ::Type{JLSOFile}) at /Users/biona001/.julia/packages/JLSO/dHl2g/src/file_io.jl:38",
      " [30] load(::IOStream) at /Users/biona001/.julia/packages/JLSO/dHl2g/src/file_io.jl:90",
      " [31] #31 at /Users/biona001/.julia/packages/JLSO/dHl2g/src/file_io.jl:88 [inlined]",
      " [32] #open#271(::Base.Iterators.Pairs{Union{},Union{},Tuple{},NamedTuple{(),Tuple{}}}, ::typeof(open), ::JLSO.var\"#31#32\"{Tuple{}}, ::String) at ./io.jl:298",
      " [33] open at ./io.jl:296 [inlined]",
      " [34] load(::String) at /Users/biona001/.julia/packages/JLSO/dHl2g/src/file_io.jl:88",
      " [35] top-level scope at In[3]:7"
     ]
    }
   ],
   "source": [
    "# first save intermediate results for quick loading later\n",
    "Random.seed!(2020)\n",
    "width   = 64\n",
    "tgtfile = \"target.chr20.typedOnly.maf0.01.masked.vcf.gz\"\n",
    "reffile = \"ref.chr20.w$width.maf0.01.excludeTarget.jlso\"\n",
    "outfile = \"mendel.chr20.imputed.target.vcf.gz\"\n",
    "\n",
    "loaded = JLSO.load(reffile)\n",
    "compressed_Hunique = loaded[:compressed_Hunique]\n",
    "\n",
    "X, X_sampleID, X_chr, X_pos, X_ids, X_ref, X_alt = \n",
    "    VCFTools.convert_gt(UInt8, tgtfile, trans=true, \n",
    "    save_snp_info=true, msg = \"Importing genotype file...\")\n",
    "\n",
    "people = size(X, 2)\n",
    "tgt_snps = size(X, 1)\n",
    "ref_snps = length(compressed_Hunique.pos)\n",
    "windows = floor(Int, tgt_snps / width)\n",
    "num_unique_haps = round(Int, avg_haplotypes_per_window(compressed_Hunique))\n",
    "\n",
    "# working arrays\n",
    "ph = [HaplotypeMosaicPair(ref_snps) for i in 1:people]\n",
    "haplotype1 = [zeros(Int32, windows) for i in 1:people]\n",
    "haplotype2 = [zeros(Int32, windows) for i in 1:people];\n",
    "\n",
    "Profile.clear()\n",
    "@profile haptimers = MendelImpute.compute_optimal_haplotypes!(haplotype1, haplotype2, \n",
    "    compressed_Hunique, X, X_pos, nothing, nothing,\n",
    "    false, 1000, false)\n",
    "\n",
    "# save result\n",
    "# JLSO.save(\"haplotypes.chr20.w64\", :haplotype1 => haplotype1, :haplotype2 => haplotype2)"
   ]
  },
  {
   "cell_type": "code",
   "execution_count": null,
   "metadata": {
    "collapsed": true
   },
   "outputs": [],
   "source": []
  }
 ],
 "metadata": {
  "@webio": {
   "lastCommId": null,
   "lastKernelId": null
  },
  "kernelspec": {
   "display_name": "Julia 1.3.1",
   "language": "julia",
   "name": "julia-1.3"
  },
  "language_info": {
   "file_extension": ".jl",
   "mimetype": "application/julia",
   "name": "julia",
   "version": "1.3.1"
  }
 },
 "nbformat": 4,
 "nbformat_minor": 2
}
