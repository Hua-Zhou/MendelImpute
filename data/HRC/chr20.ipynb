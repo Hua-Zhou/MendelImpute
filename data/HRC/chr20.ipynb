{
 "cells": [
  {
   "cell_type": "markdown",
   "metadata": {},
   "source": [
    "# Test imputation on untyped SNPs chrom 20"
   ]
  },
  {
   "cell_type": "code",
   "execution_count": 1,
   "metadata": {
    "collapsed": false
   },
   "outputs": [
    {
     "name": "stderr",
     "output_type": "stream",
     "text": [
      "┌ Info: Precompiling MendelImpute [e47305d1-6a61-5370-bc5d-77554d143183]\n",
      "└ @ Base loading.jl:1273\n"
     ]
    }
   ],
   "source": [
    "using Revise\n",
    "using VCFTools\n",
    "using MendelImpute\n",
    "using GeneticVariation\n",
    "using Random\n",
    "using StatsBase\n",
    "using CodecZlib\n",
    "using ProgressMeter\n",
    "using JLD2, FileIO, JLSO\n",
    "using BenchmarkTools\n",
    "using GroupSlices\n",
    "using TimerOutputs\n",
    "using LinearAlgebra\n",
    "\n",
    "BLAS.set_num_threads(1)"
   ]
  },
  {
   "cell_type": "markdown",
   "metadata": {
    "collapsed": true
   },
   "source": [
    "# MendelImpute error rate"
   ]
  },
  {
   "cell_type": "code",
   "execution_count": 2,
   "metadata": {
    "collapsed": false
   },
   "outputs": [
    {
     "data": {
      "text/plain": [
       "8"
      ]
     },
     "execution_count": 2,
     "metadata": {},
     "output_type": "execute_result"
    }
   ],
   "source": [
    "Threads.nthreads()"
   ]
  },
  {
   "cell_type": "code",
   "execution_count": null,
   "metadata": {
    "collapsed": true
   },
   "outputs": [],
   "source": [
    "# 8 threads\n",
    "Random.seed!(2020)\n",
    "width   = 64\n",
    "tgtfile = \"target.chr20.typedOnly.maf0.01.masked.vcf.gz\"\n",
    "reffile = \"ref.chr20.w$width.maf0.01.excludeTarget.jlso\"\n",
    "outfile = \"mendel.chr20.imputed.target.vcf.gz\"\n",
    "@time ph = phase(tgtfile, reffile, outfile = outfile, width = width,\n",
    "    dynamic_programming = false);\n",
    "\n",
    "# import imputed result and compare with true\n",
    "X_mendel = convert_gt(Float32, outfile);\n",
    "X_complete = convert_gt(Float32, \"target.chr20.full.vcf.gz\");\n",
    "n, p = size(X_mendel);\n",
    "error_rate = sum(X_mendel .!= X_complete) / n / p"
   ]
  },
  {
   "cell_type": "code",
   "execution_count": null,
   "metadata": {
    "collapsed": true
   },
   "outputs": [],
   "source": []
  },
  {
   "cell_type": "code",
   "execution_count": null,
   "metadata": {
    "collapsed": true
   },
   "outputs": [],
   "source": []
  },
  {
   "cell_type": "code",
   "execution_count": 3,
   "metadata": {
    "collapsed": false
   },
   "outputs": [
    {
     "name": "stdout",
     "output_type": "stream",
     "text": [
      "Importing reference haplotype data...\n"
     ]
    },
    {
     "name": "stderr",
     "output_type": "stream",
     "text": [
      "\u001b[32mImporting genotype file...100%|█████████████████████████| Time: 0:00:27\u001b[39m\n",
      "\u001b[32mComputing optimal haplotypes...100%|████████████████████| Time: 0:19:38\u001b[39m\n",
      "\u001b[32mPhasing...100%|█████████████████████████████████████████| Time: 0:00:47\u001b[39m\n",
      "\u001b[32mWriting to file...100%|█████████████████████████████████| Time: 0:00:47\u001b[39m\n"
     ]
    },
    {
     "name": "stdout",
     "output_type": "stream",
     "text": [
      "Total windows = 2789, averaging ~ 874 unique haplotypes per window.\n",
      "\n",
      "Timings: \n",
      "    Data import                     = 66.7175 seconds\n",
      "    Computing haplotype pair        = 1180.33 seconds\n",
      "        BLAS3 mul! to get M and N      = 5.11831 seconds per thread\n",
      "        haplopair search               = 293.789 seconds per thread\n",
      "        index conversion               = 0.0223777 seconds per thread\n",
      "    Phasing by win-win intersection = 47.5937 seconds\n",
      "        Window-by-window intersection  = 44.8032 seconds per thread\n",
      "        Breakpoint search              = 0.396781 seconds per thread\n",
      "        Recording result               = 1.15553 seconds per thread\n",
      "    Imputation                      = 53.0767 seconds\n",
      "\n",
      "1364.658744 seconds (471.10 M allocations: 71.554 GiB, 1.19% gc time)\n"
     ]
    },
    {
     "data": {
      "text/plain": [
       "0.0012398718991506012"
      ]
     },
     "execution_count": 3,
     "metadata": {},
     "output_type": "execute_result"
    }
   ],
   "source": [
    "# 8 threads\n",
    "Random.seed!(2020)\n",
    "width   = 64\n",
    "tgtfile = \"target.chr20.typedOnly.maf0.01.masked.vcf.gz\"\n",
    "reffile = \"ref.chr20.w$width.maf0.01.excludeTarget.jlso\"\n",
    "outfile = \"mendel.chr20.imputed.target.vcf.gz\"\n",
    "@time ph = phase(tgtfile, reffile, outfile = outfile, width = width,\n",
    "    dynamic_programming = false);\n",
    "\n",
    "# import imputed result and compare with true\n",
    "X_mendel = convert_gt(Float32, outfile);\n",
    "X_complete = convert_gt(Float32, \"target.chr20.full.vcf.gz\");\n",
    "n, p = size(X_mendel);\n",
    "error_rate = sum(X_mendel .!= X_complete) / n / p"
   ]
  },
  {
   "cell_type": "markdown",
   "metadata": {},
   "source": [
    "# Try optimize Phasing"
   ]
  },
  {
   "cell_type": "code",
   "execution_count": null,
   "metadata": {
    "collapsed": true
   },
   "outputs": [],
   "source": [
    "# first save intermediate results for quick loading later\n",
    "Random.seed!(2020)\n",
    "width   = 64\n",
    "tgtfile = \"target.chr20.typedOnly.maf0.01.masked.vcf.gz\"\n",
    "reffile = \"ref.chr20.w$width.maf0.01.excludeTarget.jlso\"\n",
    "outfile = \"mendel.chr20.imputed.target.vcf.gz\"\n",
    "\n",
    "loaded = JLSO.load(reffile)\n",
    "compressed_Hunique = loaded[:compressed_Hunique]\n",
    "\n",
    "X, X_sampleID, X_chr, X_pos, X_ids, X_ref, X_alt = \n",
    "    VCFTools.convert_gt(UInt8, tgtfile, trans=true, \n",
    "    save_snp_info=true, msg = \"Importing genotype file...\")\n",
    "\n",
    "people = size(X, 2)\n",
    "tgt_snps = size(X, 1)\n",
    "ref_snps = length(compressed_Hunique.pos)\n",
    "windows = floor(Int, tgt_snps / width)\n",
    "num_unique_haps = round(Int, avg_haplotypes_per_window(compressed_Hunique))\n",
    "\n",
    "# working arrays\n",
    "ph = [HaplotypeMosaicPair(ref_snps) for i in 1:people]\n",
    "haplotype1 = [zeros(Int32, windows) for i in 1:people]\n",
    "haplotype2 = [zeros(Int32, windows) for i in 1:people];\n",
    "\n",
    "haptimers = MendelImpute.compute_optimal_haplotypes!(haplotype1, haplotype2, \n",
    "    compressed_Hunique, X, X_pos, nothing, nothing,\n",
    "    false, 1000, false)\n",
    "\n",
    "JLSO.save(\"haplotypes.chr20.w64\", :haplotype1 => haplotype1, :haplotype2 => haplotype2)"
   ]
  },
  {
   "cell_type": "code",
   "execution_count": 3,
   "metadata": {
    "collapsed": false
   },
   "outputs": [
    {
     "name": "stderr",
     "output_type": "stream",
     "text": [
      "\u001b[32mImporting genotype file...100%|█████████████████████████| Time: 0:00:29\u001b[39m\n"
     ]
    }
   ],
   "source": [
    "# load intermediate results\n",
    "Random.seed!(2020)\n",
    "width   = 64\n",
    "tgtfile = \"target.chr20.typedOnly.maf0.01.masked.vcf.gz\"\n",
    "reffile = \"ref.chr20.w$width.maf0.01.excludeTarget.jlso\"\n",
    "outfile = \"mendel.chr20.imputed.target.vcf.gz\"\n",
    "\n",
    "loaded = JLSO.load(reffile)\n",
    "compressed_Hunique = loaded[:compressed_Hunique]\n",
    "\n",
    "X, X_sampleID, X_chr, X_pos, X_ids, X_ref, X_alt = \n",
    "    VCFTools.convert_gt(UInt8, tgtfile, trans=true, \n",
    "    save_snp_info=true, msg = \"Importing genotype file...\")\n",
    "\n",
    "loaded = JLSO.load(\"haplotypes.chr20.w64\")\n",
    "haplotype1 = loaded[:haplotype1]\n",
    "haplotype2 = loaded[:haplotype2]\n",
    "ref_snps = length(compressed_Hunique.pos)\n",
    "people = size(X, 2)\n",
    "ph = [HaplotypeMosaicPair(ref_snps) for i in 1:people];"
   ]
  },
  {
   "cell_type": "code",
   "execution_count": 5,
   "metadata": {
    "collapsed": false
   },
   "outputs": [
    {
     "name": "stderr",
     "output_type": "stream",
     "text": [
      "\u001b[32mIntersecting win-by-win...100%|█████████████████████████| Time: 0:07:21\u001b[39m\n"
     ]
    },
    {
     "name": "stdout",
     "output_type": "stream",
     "text": [
      "443.843770 seconds (15.53 M allocations: 1.219 GiB, 0.17% gc time)\n"
     ]
    }
   ],
   "source": [
    "@time phasetimer = phase_fast!(ph, X, compressed_Hunique, haplotype1, haplotype2);"
   ]
  },
  {
   "cell_type": "code",
   "execution_count": 4,
   "metadata": {
    "collapsed": false
   },
   "outputs": [
    {
     "name": "stderr",
     "output_type": "stream",
     "text": [
      "\u001b[32mIntersecting win-by-win...100%|█████████████████████████| Time: 0:07:17\u001b[39m\n"
     ]
    },
    {
     "data": {
      "text/plain": [
       "(nothing, 437.306330106, 23429145, 0.011047775, Base.GC_Diff(23429145, 0, 0, 449990, 139, 0, 11047775, 1, 0))"
      ]
     },
     "execution_count": 4,
     "metadata": {},
     "output_type": "execute_result"
    }
   ],
   "source": [
    "# reset storage \n",
    "haplotype1 = loaded[:haplotype1]\n",
    "haplotype2 = loaded[:haplotype2]\n",
    "ph = [HaplotypeMosaicPair(ref_snps) for i in 1:people];\n",
    "\n",
    "# reset storage\n",
    "haplotypes = nhaplotypes(compressed_Hunique)\n",
    "seen = BitSet()\n",
    "survivors1 = Int32[]\n",
    "survivors2 = Int32[]\n",
    "sizehint!(seen, haplotypes)\n",
    "sizehint!(survivors1, haplotypes)\n",
    "sizehint!(survivors2, haplotypes)\n",
    "\n",
    "# computation step\n",
    "people = size(X, 2)\n",
    "pmeter = Progress(people, 5, \"Intersecting win-by-win...\")\n",
    "t = @timed for i in 1:people\n",
    "    @inbounds phase_sample!(haplotype1[i], haplotype2[i],\n",
    "        compressed_Hunique, seen, survivors1, survivors2)\n",
    "    next!(pmeter)\n",
    "end\n",
    "t"
   ]
  }
 ],
 "metadata": {
  "@webio": {
   "lastCommId": null,
   "lastKernelId": null
  },
  "kernelspec": {
   "display_name": "Julia 1.3.1",
   "language": "julia",
   "name": "julia-1.3"
  },
  "language_info": {
   "file_extension": ".jl",
   "mimetype": "application/julia",
   "name": "julia",
   "version": "1.3.1"
  }
 },
 "nbformat": 4,
 "nbformat_minor": 2
}
