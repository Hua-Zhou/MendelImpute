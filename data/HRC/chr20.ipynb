{
 "cells": [
  {
   "cell_type": "markdown",
   "metadata": {},
   "source": [
    "# Test imputation on untyped SNPs chrom 20"
   ]
  },
  {
   "cell_type": "code",
   "execution_count": 1,
   "metadata": {
    "collapsed": false
   },
   "outputs": [
    {
     "name": "stderr",
     "output_type": "stream",
     "text": [
      "┌ Info: Precompiling MendelImpute [e47305d1-6a61-5370-bc5d-77554d143183]\n",
      "└ @ Base loading.jl:1278\n"
     ]
    }
   ],
   "source": [
    "using Revise\n",
    "using VCFTools\n",
    "using MendelImpute\n",
    "using GeneticVariation\n",
    "using Random\n",
    "using StatsBase\n",
    "using CodecZlib\n",
    "using ProgressMeter\n",
    "using JLD2, FileIO, JLSO\n",
    "using BenchmarkTools\n",
    "using GroupSlices\n",
    "using TimerOutputs\n",
    "using LinearAlgebra\n",
    "\n",
    "BLAS.set_num_threads(1)"
   ]
  },
  {
   "cell_type": "markdown",
   "metadata": {
    "collapsed": true
   },
   "source": [
    "# MendelImpute error rate (window-window intersection)"
   ]
  },
  {
   "cell_type": "code",
   "execution_count": 2,
   "metadata": {
    "collapsed": false
   },
   "outputs": [
    {
     "data": {
      "text/plain": [
       "8"
      ]
     },
     "execution_count": 2,
     "metadata": {},
     "output_type": "execute_result"
    }
   ],
   "source": [
    "Threads.nthreads()"
   ]
  },
  {
   "cell_type": "code",
   "execution_count": 3,
   "metadata": {
    "collapsed": false
   },
   "outputs": [
    {
     "name": "stdout",
     "output_type": "stream",
     "text": [
      "Importing reference haplotype data...\n"
     ]
    },
    {
     "name": "stderr",
     "output_type": "stream",
     "text": [
      "\u001b[32mImporting genotype file...100%|█████████████████████████| Time: 0:00:27\u001b[39m\n",
      "\u001b[32mComputing optimal haplotypes...100%|████████████████████| Time: 0:01:00\u001b[39m\n",
      "\u001b[32mPhasing...100%|█████████████████████████████████████████| Time: 0:00:36\u001b[39m\n",
      "\u001b[32mWriting to file...100%|█████████████████████████████████| Time: 0:00:46\u001b[39m\n"
     ]
    },
    {
     "name": "stdout",
     "output_type": "stream",
     "text": [
      "Total windows = 3252, averaging ~ 510 unique haplotypes per window.\n",
      "\n",
      "Timings: \n",
      "    Data import                     = 56.8629 seconds\n",
      "    Computing haplotype pair        = 60.3501 seconds\n",
      "        BLAS3 mul! to get M and N      = 0.93269 seconds per thread\n",
      "        haplopair search               = 51.3704 seconds per thread\n",
      "        initializing missing           = 1.26004 seconds per thread\n",
      "        allocating and viewing         = 0.0884786 seconds per thread\n",
      "        index conversion               = 0.0752258 seconds per thread\n",
      "    Phasing by win-win intersection = 36.1751 seconds\n",
      "        Window-by-window intersection  = 30.4965 seconds per thread\n",
      "        Breakpoint search              = 0.7818 seconds per thread\n",
      "        Recording result               = 2.1571 seconds per thread\n",
      "    Imputation                      = 51.0597 seconds\n",
      "\n",
      "212.560535 seconds (496.98 M allocations: 42.256 GiB, 5.13% gc time)\n",
      "error_rate = 0.0\n"
     ]
    }
   ],
   "source": [
    "# 8 threads\n",
    "Random.seed!(2020)\n",
    "d       = 1000\n",
    "tgtfile = \"target.chr20.typedOnly.maf0.01.masked.vcf.gz\"\n",
    "reffile = \"ref.chr20.maxd$d.maf0.01.excludeTarget.jlso\"\n",
    "outfile = \"mendel.chr20.imputed.target.vcf.gz\"\n",
    "@time ph = phase(tgtfile, reffile, outfile = outfile, max_d = d,\n",
    "    dynamic_programming = false);\n",
    "\n",
    "# import imputed result and compare with true\n",
    "X_mendel = convert_gt(Float32, outfile)\n",
    "X_complete = convert_gt(Float32, \"target.chr20.full.vcf.gz\")\n",
    "n, p = size(X_mendel)\n",
    "println(\"error_rate = \", sum(X_mendel .!= X_complete) / n / p)\n",
    "rm(outfile, force=true)"
   ]
  },
  {
   "cell_type": "markdown",
   "metadata": {},
   "source": [
    "# Profile code"
   ]
  },
  {
   "cell_type": "code",
   "execution_count": 3,
   "metadata": {
    "collapsed": false
   },
   "outputs": [],
   "source": [
    "using Profile\n",
    "using ProfileView\n",
    "Profile.init(n = 10^7, delay = 0.01) # 1 backtrace per 0.01 second"
   ]
  },
  {
   "cell_type": "code",
   "execution_count": 4,
   "metadata": {
    "collapsed": false
   },
   "outputs": [
    {
     "name": "stdout",
     "output_type": "stream",
     "text": [
      "Importing reference haplotype data...\n"
     ]
    },
    {
     "name": "stderr",
     "output_type": "stream",
     "text": [
      "\u001b[32mImporting genotype file...100%|█████████████████████████| Time: 0:00:18\u001b[39m\n",
      "\u001b[32mComputing optimal haplotypes...100%|████████████████████| Time: 0:00:09\u001b[39m\n",
      "\u001b[32mWriting to file...100%|█████████████████████████████████| Time: 0:00:17\u001b[39m\n"
     ]
    },
    {
     "name": "stdout",
     "output_type": "stream",
     "text": [
      "Total windows = 64, averaging ~ 692 unique haplotypes per window.\n",
      "\n",
      "Timings: \n",
      "    Data import                     = 40.6077 seconds\n",
      "    Computing haplotype pair        = 20.0551 seconds\n",
      "        BLAS3 mul! to get M and N      = 0.215178 seconds per thread\n",
      "        haplopair search               = 2.63116 seconds per thread\n",
      "        initializing missing           = 0.324441 seconds per thread\n",
      "        allocating and viewing         = 0.0415098 seconds per thread\n",
      "        index conversion               = 0.000730224 seconds per thread\n",
      "    Phasing by win-win intersection = 11.1837 seconds\n",
      "        Window-by-window intersection  = 0.0532841 seconds per thread\n",
      "        Breakpoint search              = 0.102382 seconds per thread\n",
      "        Recording result               = 0.00478878 seconds per thread\n",
      "    Imputation                      = 18.7042 seconds\n",
      "\n"
     ]
    }
   ],
   "source": [
    "# warmup on small problem\n",
    "cd(\"/Users/biona001/.julia/dev/MendelImpute/simulation\")\n",
    "Random.seed!(2020)\n",
    "d       = 1000\n",
    "tgtfile = \"./compare2/target.typedOnly.maf0.01.masked.vcf.gz\"\n",
    "reffile = \"./compare2/ref.excludeTarget.maxd$d.jlso\"\n",
    "outfile = \"./compare2/mendel.imputed.vcf.gz\"\n",
    "@profview phase(tgtfile, reffile, outfile = outfile, max_d = d,\n",
    "    dynamic_programming = false);"
   ]
  },
  {
   "cell_type": "code",
   "execution_count": 5,
   "metadata": {
    "collapsed": false
   },
   "outputs": [
    {
     "name": "stdout",
     "output_type": "stream",
     "text": [
      "Importing reference haplotype data...\n"
     ]
    },
    {
     "name": "stderr",
     "output_type": "stream",
     "text": [
      "WARNING: profiler attempt to access an invalid memory location\n",
      "WARNING: profiler attempt to access an invalid memory location\n",
      "\u001b[32mImporting genotype file...100%|█████████████████████████| Time: 0:01:42\u001b[39m\n",
      "\u001b[32mComputing optimal haplotypes...100%|████████████████████| Time: 0:02:22\u001b[39m\n",
      "\u001b[32mPhasing...100%|█████████████████████████████████████████| Time: 0:01:32\u001b[39m\n",
      "\u001b[32mWriting to file...100%|█████████████████████████████████| Time: 0:02:18\u001b[39m\n"
     ]
    },
    {
     "name": "stdout",
     "output_type": "stream",
     "text": [
      "Total windows = 3252, averaging ~ 510 unique haplotypes per window.\n",
      "\n",
      "Timings: \n",
      "    Data import                     = 204.957 seconds\n",
      "    Computing haplotype pair        = 142.399 seconds\n",
      "        BLAS3 mul! to get M and N      = 2.35351 seconds per thread\n",
      "        haplopair search               = 126.861 seconds per thread\n",
      "        initializing missing           = 3.4539 seconds per thread\n",
      "        allocating and viewing         = 0.17913 seconds per thread\n",
      "        index conversion               = 0.133923 seconds per thread\n",
      "    Phasing by win-win intersection = 92.7697 seconds\n",
      "        Window-by-window intersection  = 74.2154 seconds per thread\n",
      "        Breakpoint search              = 2.20214 seconds per thread\n",
      "        Recording result               = 7.43114 seconds per thread\n",
      "    Imputation                      = 172.38 seconds\n",
      "\n",
      "/Users/julia/buildbot/worker/package_macos64/build/usr/share/julia/stdlib/v1.5/Serialization/src/Serialization.jl, handle_deserialize: line 824\n",
      "/Users/julia/buildbot/worker/package_macos64/build/usr/share/julia/stdlib/v1.5/Serialization/src/Serialization.jl, deserialize: line 773\n",
      "/Users/biona001/.julia/packages/JLSO/dHl2g/src/serialization.jl, getindex: line 53\n",
      "/Users/julia/buildbot/worker/package_macos64/build/usr/share/julia/stdlib/v1.5/Serialization/src/Serialization.jl, deserialize_array: line 1145\n",
      "/Users/biona001/.julia/packages/VCFTools/fTfDS/src/convert.jl, #copy_gt_trans!#8: line 150\n",
      "/Users/julia/buildbot/worker/package_macos64/build/usr/share/julia/stdlib/v1.5/Serialization/src/Serialization.jl, deserialize: line 1350\n",
      "/Users/julia/buildbot/worker/package_macos64/build/usr/share/julia/stdlib/v1.5/Serialization/src/Serialization.jl, deserialize: line 773\n",
      "./timing.jl, macro expansion: line 233\n",
      "/Users/biona001/.julia/dev/MendelImpute/src/intersect.jl, phase_sample!: line 91\n",
      "./timing.jl, macro expansion: line 233\n",
      "./threadingconstructs.jl, #51#threadsfor_fun: line 81\n",
      "/Users/biona001/.julia/dev/MendelImpute/src/intersect.jl, phase_sample!: line 91\n",
      "/Users/julia/buildbot/worker/package_macos64/build/usr/share/julia/stdlib/v1.5/Serialization/src/Serialization.jl, handle_deserialize: line 837\n",
      "/Users/biona001/.julia/dev/MendelImpute/src/phasing.jl, macro expansion: line 458\n"
     ]
    }
   ],
   "source": [
    "# profile real problem\n",
    "cd(\"/Users/biona001/.julia/dev/MendelImpute/data/HRC\")\n",
    "Random.seed!(2020)\n",
    "d       = 1000\n",
    "tgtfile = \"target.chr20.typedOnly.maf0.01.masked.vcf.gz\"\n",
    "reffile = \"ref.chr20.maxd$d.maf0.01.excludeTarget.jlso\"\n",
    "outfile = \"mendel.chr20.imputed.target.vcf.gz\"\n",
    "@profview phase(tgtfile, reffile, outfile = outfile, max_d = d,\n",
    "    dynamic_programming = false);"
   ]
  },
  {
   "cell_type": "code",
   "execution_count": null,
   "metadata": {
    "collapsed": true
   },
   "outputs": [],
   "source": []
  }
 ],
 "metadata": {
  "@webio": {
   "lastCommId": null,
   "lastKernelId": null
  },
  "kernelspec": {
   "display_name": "Julia 1.5.0",
   "language": "julia",
   "name": "julia-1.5"
  },
  "language_info": {
   "file_extension": ".jl",
   "mimetype": "application/julia",
   "name": "julia",
   "version": "1.5.0"
  }
 },
 "nbformat": 4,
 "nbformat_minor": 2
}
