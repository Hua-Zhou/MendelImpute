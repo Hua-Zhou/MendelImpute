{
 "cells": [
  {
   "cell_type": "markdown",
   "metadata": {},
   "source": [
    "# Test imputation on untyped SNPs chrom 20"
   ]
  },
  {
   "cell_type": "code",
   "execution_count": 1,
   "metadata": {
    "collapsed": false
   },
   "outputs": [
    {
     "name": "stderr",
     "output_type": "stream",
     "text": [
      "┌ Info: Precompiling MendelImpute [e47305d1-6a61-5370-bc5d-77554d143183]\n",
      "└ @ Base loading.jl:1278\n"
     ]
    }
   ],
   "source": [
    "using Revise\n",
    "using VCFTools\n",
    "using MendelImpute\n",
    "using GeneticVariation\n",
    "using Random\n",
    "using StatsBase\n",
    "using CodecZlib\n",
    "using ProgressMeter\n",
    "using JLD2, FileIO, JLSO\n",
    "using BenchmarkTools\n",
    "using GroupSlices\n",
    "using TimerOutputs\n",
    "using LinearAlgebra\n",
    "# using Profile\n",
    "# using ProfileView\n",
    "\n",
    "BLAS.set_num_threads(1)"
   ]
  },
  {
   "cell_type": "markdown",
   "metadata": {
    "collapsed": true
   },
   "source": [
    "# MendelImpute error rate (window-window intersection)"
   ]
  },
  {
   "cell_type": "code",
   "execution_count": 2,
   "metadata": {
    "collapsed": false
   },
   "outputs": [
    {
     "data": {
      "text/plain": [
       "8"
      ]
     },
     "execution_count": 2,
     "metadata": {},
     "output_type": "execute_result"
    }
   ],
   "source": [
    "Threads.nthreads()"
   ]
  },
  {
   "cell_type": "code",
   "execution_count": 2,
   "metadata": {
    "collapsed": false
   },
   "outputs": [
    {
     "name": "stdout",
     "output_type": "stream",
     "text": [
      "Importing reference haplotype data...\n"
     ]
    },
    {
     "name": "stderr",
     "output_type": "stream",
     "text": [
      "\u001b[32mImporting genotype file...100%|█████████████████████████| Time: 0:00:28\u001b[39m\n",
      "\u001b[32mComputing optimal haplotypes...100%|████████████████████| Time: 0:00:59\u001b[39m\n",
      "\u001b[32mPhasing...100%|█████████████████████████████████████████| Time: 0:00:38\u001b[39m\n",
      "\u001b[32mWriting to file...100%|█████████████████████████████████| Time: 0:00:46\u001b[39m\n"
     ]
    },
    {
     "name": "stdout",
     "output_type": "stream",
     "text": [
      "Total windows = 3252, averaging ~ 510 unique haplotypes per window.\n",
      "\n",
      "Timings: \n",
      "    Data import                     = 61.639 seconds\n",
      "    Computing haplotype pair        = 60.1232 seconds\n",
      "        BLAS3 mul! to get M and N      = 0.947839 seconds per thread\n",
      "        haplopair search               = 50.9561 seconds per thread\n",
      "        initializing missing           = 1.27711 seconds per thread\n",
      "        allocating and viewing         = 0.0885657 seconds per thread\n",
      "        index conversion               = 0.07459 seconds per thread\n",
      "    Phasing by win-win intersection = 38.349 seconds\n",
      "        Window-by-window intersection  = 32.5618 seconds per thread\n",
      "        Breakpoint search              = 0.741265 seconds per thread\n",
      "        Recording result               = 2.28144 seconds per thread\n",
      "    Imputation                      = 51.6932 seconds\n",
      "\n",
      "219.933616 seconds (496.84 M allocations: 42.250 GiB, 5.70% gc time)\n"
     ]
    }
   ],
   "source": [
    "# 8 threads (Threads.@threads)\n",
    "Random.seed!(2020)\n",
    "d       = 1000\n",
    "tgtfile = \"target.chr20.typedOnly.maf0.01.masked.vcf.gz\"\n",
    "reffile = \"ref.chr20.maxd$d.maf0.01.excludeTarget.jlso\"\n",
    "outfile = \"mendel.chr20.imputed.target.vcf.gz\"\n",
    "@time ph = phase(tgtfile, reffile, outfile = outfile, max_d = d,\n",
    "    dynamic_programming = false);"
   ]
  },
  {
   "cell_type": "markdown",
   "metadata": {},
   "source": [
    "## Profile"
   ]
  },
  {
   "cell_type": "code",
   "execution_count": 2,
   "metadata": {
    "collapsed": true
   },
   "outputs": [],
   "source": [
    "Profile.init(n = 10^7, delay = 0.01) # 1 backtrace per 0.01 second"
   ]
  },
  {
   "cell_type": "code",
   "execution_count": 3,
   "metadata": {
    "collapsed": false
   },
   "outputs": [
    {
     "ename": "InterruptException",
     "evalue": "InterruptException:",
     "output_type": "error",
     "traceback": [
      "InterruptException:",
      "",
      "Stacktrace:",
      " [1] (::BSON.var\"#43#44\")(::Dict{Symbol,Any}) at /Users/biona001/.julia/packages/BSON/XAts7/src/extensions.jl:130",
      " [2] _raise_recursive(::Dict{Symbol,Any}, ::IdDict{Any,Any}) at /Users/biona001/.julia/packages/BSON/XAts7/src/read.jl:79",
      " [3] (::BSON.var\"#45#46\")(::Dict{Symbol,Any}, ::IdDict{Any,Any}) at /Users/biona001/.julia/packages/BSON/XAts7/src/extensions.jl:139",
      " [4] raise_recursive(::Dict{Symbol,Any}, ::IdDict{Any,Any}) at /Users/biona001/.julia/packages/BSON/XAts7/src/read.jl:88",
      " [5] (::BSON.var\"#23#24\"{IdDict{Any,Any}})(::Dict{Symbol,Any}) at /Users/biona001/.julia/packages/BSON/XAts7/src/read.jl:94",
      " [6] applychildren!(::BSON.var\"#23#24\"{IdDict{Any,Any}}, ::Array{Any,1}) at /Users/biona001/.julia/packages/BSON/XAts7/src/BSON.jl:28",
      " [7] raise_recursive at /Users/biona001/.julia/packages/BSON/XAts7/src/read.jl:94 [inlined]",
      " [8] (::BSON.var\"#19#21\"{IdDict{Any,Any}})(::Array{Any,1}) at /Users/biona001/.julia/packages/BSON/XAts7/src/read.jl:79",
      " [9] applychildren!(::BSON.var\"#19#21\"{IdDict{Any,Any}}, ::Dict{Symbol,Any}) at /Users/biona001/.julia/packages/BSON/XAts7/src/BSON.jl:21",
      " [10] _raise_recursive(::Dict{Symbol,Any}, ::IdDict{Any,Any}) at /Users/biona001/.julia/packages/BSON/XAts7/src/read.jl:79",
      " [11] raise_recursive(::Dict{Symbol,Any}, ::IdDict{Any,Any}) at /Users/biona001/.julia/packages/BSON/XAts7/src/read.jl:89",
      " [12] (::BSON.var\"#45#46\")(::Dict{Symbol,Any}, ::IdDict{Any,Any}) at /Users/biona001/.julia/packages/BSON/XAts7/src/extensions.jl:138",
      " [13] raise_recursive(::Dict{Symbol,Any}, ::IdDict{Any,Any}) at /Users/biona001/.julia/packages/BSON/XAts7/src/read.jl:88",
      " [14] (::BSON.var\"#23#24\"{IdDict{Any,Any}})(::Dict{Symbol,Any}) at /Users/biona001/.julia/packages/BSON/XAts7/src/read.jl:94",
      " [15] applychildren!(::BSON.var\"#23#24\"{IdDict{Any,Any}}, ::Array{Any,1}) at /Users/biona001/.julia/packages/BSON/XAts7/src/BSON.jl:28",
      " [16] raise_recursive at /Users/biona001/.julia/packages/BSON/XAts7/src/read.jl:94 [inlined]",
      " [17] (::BSON.var\"#41#42\"{IdDict{Any,Any}})(::Array{Any,1}) at /Users/biona001/.julia/packages/BSON/XAts7/src/extensions.jl:124",
      " [18] iterate at ./generator.jl:47 [inlined]",
      " [19] collect_to!(::Array{Array{Any,1},1}, ::Base.Generator{Array{Any,1},BSON.var\"#41#42\"{IdDict{Any,Any}}}, ::Int64, ::Int64) at ./array.jl:667",
      " [20] collect_to_with_first!(::Array{Array{Any,1},1}, ::Array{Any,1}, ::Base.Generator{Array{Any,1},BSON.var\"#41#42\"{IdDict{Any,Any}}}, ::Int64) at ./array.jl:646",
      " [21] _collect(::Array{Any,1}, ::Base.Generator{Array{Any,1},BSON.var\"#41#42\"{IdDict{Any,Any}}}, ::Base.EltypeUnknown, ::Base.HasShape{1}) at ./array.jl:640",
      " [22] collect_similar(::Array{Any,1}, ::Base.Generator{Array{Any,1},BSON.var\"#41#42\"{IdDict{Any,Any}}}) at ./array.jl:564",
      " [23] map(::Function, ::Array{Any,1}) at ./abstractarray.jl:2073",
      " [24] newstruct_raw(::IdDict{Any,Any}, ::Type, ::Dict{Symbol,Any}) at /Users/biona001/.julia/packages/BSON/XAts7/src/extensions.jl:124",
      " [25] (::BSON.var\"#45#46\")(::Dict{Symbol,Any}, ::IdDict{Any,Any}) at /Users/biona001/.julia/packages/BSON/XAts7/src/extensions.jl:140",
      " [26] raise_recursive(::Dict{Symbol,Any}, ::IdDict{Any,Any}) at /Users/biona001/.julia/packages/BSON/XAts7/src/read.jl:88",
      " [27] raise_recursive at /Users/biona001/.julia/packages/BSON/XAts7/src/read.jl:99 [inlined]",
      " [28] load at /Users/biona001/.julia/packages/BSON/XAts7/src/read.jl:104 [inlined]",
      " [29] read(::IOStream, ::Type{JLSOFile}) at /Users/biona001/.julia/packages/JLSO/dHl2g/src/file_io.jl:38",
      " [30] load(::IOStream) at /Users/biona001/.julia/packages/JLSO/dHl2g/src/file_io.jl:90",
      " [31] #31 at /Users/biona001/.julia/packages/JLSO/dHl2g/src/file_io.jl:88 [inlined]",
      " [32] #open#271(::Base.Iterators.Pairs{Union{},Union{},Tuple{},NamedTuple{(),Tuple{}}}, ::typeof(open), ::JLSO.var\"#31#32\"{Tuple{}}, ::String) at ./io.jl:298",
      " [33] open at ./io.jl:296 [inlined]",
      " [34] load(::String) at /Users/biona001/.julia/packages/JLSO/dHl2g/src/file_io.jl:88",
      " [35] top-level scope at In[3]:7"
     ]
    }
   ],
   "source": [
    "# first save intermediate results for quick loading later\n",
    "Random.seed!(2020)\n",
    "width   = 64\n",
    "tgtfile = \"target.chr20.typedOnly.maf0.01.masked.vcf.gz\"\n",
    "reffile = \"ref.chr20.w$width.maf0.01.excludeTarget.jlso\"\n",
    "outfile = \"mendel.chr20.imputed.target.vcf.gz\"\n",
    "\n",
    "loaded = JLSO.load(reffile)\n",
    "compressed_Hunique = loaded[:compressed_Hunique]\n",
    "\n",
    "X, X_sampleID, X_chr, X_pos, X_ids, X_ref, X_alt = \n",
    "    VCFTools.convert_gt(UInt8, tgtfile, trans=true, \n",
    "    save_snp_info=true, msg = \"Importing genotype file...\")\n",
    "\n",
    "people = size(X, 2)\n",
    "tgt_snps = size(X, 1)\n",
    "ref_snps = length(compressed_Hunique.pos)\n",
    "windows = floor(Int, tgt_snps / width)\n",
    "num_unique_haps = round(Int, avg_haplotypes_per_window(compressed_Hunique))\n",
    "\n",
    "# working arrays\n",
    "ph = [HaplotypeMosaicPair(ref_snps) for i in 1:people]\n",
    "haplotype1 = [zeros(Int32, windows) for i in 1:people]\n",
    "haplotype2 = [zeros(Int32, windows) for i in 1:people];\n",
    "\n",
    "Profile.clear()\n",
    "@profile haptimers = MendelImpute.compute_optimal_haplotypes!(haplotype1, haplotype2, \n",
    "    compressed_Hunique, X, X_pos, nothing, nothing,\n",
    "    false, 1000, false)\n",
    "\n",
    "# save result\n",
    "# JLSO.save(\"haplotypes.chr20.w64\", :haplotype1 => haplotype1, :haplotype2 => haplotype2)"
   ]
  },
  {
   "cell_type": "code",
   "execution_count": null,
   "metadata": {
    "collapsed": true
   },
   "outputs": [],
   "source": []
  }
 ],
 "metadata": {
  "@webio": {
   "lastCommId": null,
   "lastKernelId": null
  },
  "kernelspec": {
   "display_name": "Julia 1.5.0",
   "language": "julia",
   "name": "julia-1.5"
  },
  "language_info": {
   "file_extension": ".jl",
   "mimetype": "application/julia",
   "name": "julia",
   "version": "1.5.0"
  }
 },
 "nbformat": 4,
 "nbformat_minor": 2
}
