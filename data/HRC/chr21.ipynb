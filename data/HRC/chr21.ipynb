{
 "cells": [
  {
   "cell_type": "markdown",
   "metadata": {},
   "source": [
    "# Test imputation on untyped SNPs chrom 22"
   ]
  },
  {
   "cell_type": "code",
   "execution_count": 1,
   "metadata": {
    "collapsed": false
   },
   "outputs": [],
   "source": [
    "using Revise\n",
    "using VCFTools\n",
    "using MendelImpute\n",
    "using GeneticVariation\n",
    "using Random\n",
    "using StatsBase\n",
    "using CodecZlib\n",
    "using ProgressMeter\n",
    "using JLD2, FileIO, JLSO\n",
    "using BenchmarkTools\n",
    "using GroupSlices"
   ]
  },
  {
   "cell_type": "code",
   "execution_count": 2,
   "metadata": {
    "collapsed": false
   },
   "outputs": [
    {
     "data": {
      "text/plain": [
       "8"
      ]
     },
     "execution_count": 2,
     "metadata": {},
     "output_type": "execute_result"
    }
   ],
   "source": [
    "Threads.nthreads()"
   ]
  },
  {
   "cell_type": "code",
   "execution_count": 3,
   "metadata": {
    "collapsed": false
   },
   "outputs": [
    {
     "name": "stderr",
     "output_type": "stream",
     "text": [
      "\u001b[32mImporting genotype file...100%|█████████████████████████| Time: 0:00:10\u001b[39m\n"
     ]
    }
   ],
   "source": [
    "chr = 21\n",
    "maf = 0.05\n",
    "width = 2048\n",
    "\n",
    "tgtfile = \"target.chr$chr.typedOnly.maf$maf.masked.vcf.gz\"\n",
    "reffile = \"ref.chr$chr.excludeTarget.jlso\"\n",
    "\n",
    "loaded = JLSO.load(reffile)\n",
    "compressed_Hunique = loaded[:compressed_Hunique]\n",
    "\n",
    "X, X_sampleID, X_chr, X_pos, X_ids, X_ref, X_alt = VCFTools.convert_gt(UInt8, tgtfile, trans=true, save_snp_info=true, msg = \"Importing genotype file...\")\n",
    "\n",
    "people = size(X, 2)\n",
    "ref_snps = compressed_Hunique.snps\n",
    "windows = floor(Int, ref_snps / width)\n",
    "redundant_haplotypes = [[Tuple{Int, Int}[] for i in 1:windows] for j in 1:people]\n",
    "typed_snps = Vector{Vector{Int}}(undef, windows);"
   ]
  },
  {
   "cell_type": "code",
   "execution_count": 4,
   "metadata": {
    "collapsed": false
   },
   "outputs": [
    {
     "data": {
      "text/plain": [
       "530007"
      ]
     },
     "execution_count": 4,
     "metadata": {},
     "output_type": "execute_result"
    }
   ],
   "source": [
    "compressed_Hunique.snps"
   ]
  },
  {
   "cell_type": "code",
   "execution_count": 5,
   "metadata": {
    "collapsed": false
   },
   "outputs": [
    {
     "data": {
      "text/plain": [
       "258"
      ]
     },
     "execution_count": 5,
     "metadata": {},
     "output_type": "execute_result"
    }
   ],
   "source": [
    "windows"
   ]
  },
  {
   "cell_type": "code",
   "execution_count": 6,
   "metadata": {
    "collapsed": false
   },
   "outputs": [
    {
     "name": "stdout",
     "output_type": "stream",
     "text": [
      "49, 39, 84, 146, 193, 182, 245, 371, 466, 630, 369, 299, 239, 400, 242, 256, 274, 183, 202, 320, 216, 161, 271, 162, 185, 311, 35, 271, 241, 278, 314, 212, 256, 245, 295, 270, 284, 238, 339, 386, 377, 283, 298, 390, 483, 348, 374, 397, 264, 290, 330, 308, 326, 259, 230, 335, 282, 623, 274, 434, 304, 316, 336, 209, 340, 339, 374, 328, 403, 319, 111, 278, 400, 234, 310, 157, 224, 327, 379, 316, 342, 432, 333, 380, 287, 182, 451, 402, 321, 284, 435, 312, 314, 335, 187, 246, 283, 240, 354, 258, 246, 248, 313, 317, 318, 537, 393, 400, 492, 366, 430, 323, 287, 284, 287, 400, 375, 363, 379, 340, 297, 445, 420, 245, 256, 131, 119, 208, 296, 293, 367, 193, 420, 246, 240, 388, 276, 275, 284, 204, 278, 380, 249, 403, 354, 321, 327, 259, 303, 226, 273, 344, 331, 413, 299, 178, 108, 280, 332, 216, 241, 246, 429, 229, 167, 262, 327, 301, 296, 236, 357, 204, 243, 427, 407, 281, 313, 330, 285, 297, 351, 323, 239, 343, 237, 378, 363, 287, 173, 249, 340, 340, 249, 322, 427, 350, 375, 313, 427, 418, 394, 466, 413, 367, 226, 230, 270, 373, 411, 381, 317, 311, 279, 282, 419, 391, 388, 438, 321, 320, 432, 270, 349, 327, 390, 318, 436, 437, 378, 291, 317, 179, 174, 323, 234, 220, 198, 327, 218, 149, 187, 400, 372, 341, 290, 240, 289, 300, 244, 258, 246, 216, 384, 362, 409, 351, 324, 731, "
     ]
    }
   ],
   "source": [
    "# print number of typed snps in each window\n",
    "for w in 1:windows\n",
    "    cur_range = compressed_Hunique.CWrange[w]\n",
    "    Hw_pos = compressed_Hunique.pos[cur_range]\n",
    "    XtoH_idx = indexin(X_pos, Hw_pos) # X_pos[i] == Hw_pos[XtoH_idx[i]]\n",
    "    XtoH_rm_nothing = Base.filter(!isnothing, XtoH_idx) # delete snps not in ref panel\n",
    "    Xw_aligned = X[findall(!isnothing, XtoH_idx), :]\n",
    "    Hw_aligned = compressed_Hunique[w].uniqueH[XtoH_rm_nothing, :]\n",
    "    typed_snps[w] = XtoH_rm_nothing # save typed snps index for current window\n",
    "    print(length(typed_snps[w]), \", \")\n",
    "end"
   ]
  },
  {
   "cell_type": "code",
   "execution_count": 7,
   "metadata": {
    "collapsed": false
   },
   "outputs": [
    {
     "name": "stdout",
     "output_type": "stream",
     "text": [
      "697.783005 seconds (3.64 M allocations: 3.736 GiB, 0.01% gc time)\n",
      "  7.041011 seconds (86.94 k allocations: 699.708 MiB)\n"
     ]
    }
   ],
   "source": [
    "w = 2 # 39 SNPs\n",
    "cur_range = compressed_Hunique.CWrange[w]\n",
    "Hw_pos = compressed_Hunique.pos[cur_range]\n",
    "XtoH_idx = indexin(X_pos, Hw_pos) # X_pos[i] == Hw_pos[XtoH_idx[i]]\n",
    "XtoH_rm_nothing = Base.filter(!isnothing, XtoH_idx) # delete snps not in ref panel\n",
    "Xw_aligned = X[findall(!isnothing, XtoH_idx), :]\n",
    "Hw_aligned = compressed_Hunique[w].uniqueH[XtoH_rm_nothing, :]\n",
    "typed_snps[w] = XtoH_rm_nothing\n",
    "\n",
    "@time happairs, hapscore = haplopair(Xw_aligned, Hw_aligned)\n",
    "@time compute_redundant_haplotypes!(redundant_haplotypes, compressed_Hunique, happairs, w)"
   ]
  },
  {
   "cell_type": "code",
   "execution_count": 8,
   "metadata": {
    "collapsed": false
   },
   "outputs": [
    {
     "name": "stdout",
     "output_type": "stream",
     "text": [
      "486.585927 seconds (2.02 k allocations: 2.628 GiB, 0.11% gc time)\n",
      "  7.574592 seconds (11.11 k allocations: 712.886 MiB, 12.91% gc time)\n"
     ]
    }
   ],
   "source": [
    "w = 8 # 371 SNPs\n",
    "cur_range = compressed_Hunique.CWrange[w]\n",
    "Hw_pos = compressed_Hunique.pos[cur_range]\n",
    "XtoH_idx = indexin(X_pos, Hw_pos) # X_pos[i] == Hw_pos[XtoH_idx[i]]\n",
    "XtoH_rm_nothing = Base.filter(!isnothing, XtoH_idx) # delete snps not in ref panel\n",
    "Xw_aligned = X[findall(!isnothing, XtoH_idx), :]\n",
    "Hw_aligned = compressed_Hunique[w].uniqueH[XtoH_rm_nothing, :]\n",
    "typed_snps[w] = XtoH_rm_nothing\n",
    "\n",
    "@time happairs, hapscore = haplopair(Xw_aligned, Hw_aligned)\n",
    "@time compute_redundant_haplotypes!(redundant_haplotypes, compressed_Hunique, happairs, w)"
   ]
  },
  {
   "cell_type": "code",
   "execution_count": null,
   "metadata": {
    "collapsed": true
   },
   "outputs": [],
   "source": []
  },
  {
   "cell_type": "code",
   "execution_count": null,
   "metadata": {
    "collapsed": true
   },
   "outputs": [],
   "source": []
  },
  {
   "cell_type": "code",
   "execution_count": null,
   "metadata": {
    "collapsed": true
   },
   "outputs": [],
   "source": []
  },
  {
   "cell_type": "code",
   "execution_count": null,
   "metadata": {
    "collapsed": false
   },
   "outputs": [
    {
     "name": "stderr",
     "output_type": "stream",
     "text": [
      "\u001b[32mImporting genotype file...100%|█████████████████████████| Time: 0:00:09\u001b[39m\n"
     ]
    }
   ],
   "source": [
    "# searching single bkpts, deleting suboptimal pairs in dp, skip windows with <100 typed snps\n",
    "chr = 22\n",
    "maf = 0.1\n",
    "width = 2048\n",
    "\n",
    "Random.seed!(2020)\n",
    "tgtfile = \"target.chr$chr.typedOnly.maf$maf.masked.vcf.gz\"\n",
    "reffile = \"ref.chr$chr.excludeTarget.jlso\"\n",
    "outfile = \"mendel.imputed.dp$width.maf$maf.vcf.gz\"\n",
    "@time ph, hs = phase(tgtfile, reffile, outfile=outfile, impute=true, width=width)\n",
    "\n",
    "X_complete = convert_gt(UInt8, \"target.chr$chr.full.vcf.gz\")\n",
    "n, p = size(X_complete)\n",
    "X_mendel = convert_gt(UInt8, outfile)\n",
    "println(\"error overall = $(sum(X_mendel .!= X_complete) / n / p) \\n\")"
   ]
  },
  {
   "cell_type": "code",
   "execution_count": null,
   "metadata": {
    "collapsed": true
   },
   "outputs": [],
   "source": []
  }
 ],
 "metadata": {
  "kernelspec": {
   "display_name": "Julia 1.3.1",
   "language": "julia",
   "name": "julia-1.3"
  },
  "language_info": {
   "file_extension": ".jl",
   "mimetype": "application/julia",
   "name": "julia",
   "version": "1.3.1"
  }
 },
 "nbformat": 4,
 "nbformat_minor": 2
}
