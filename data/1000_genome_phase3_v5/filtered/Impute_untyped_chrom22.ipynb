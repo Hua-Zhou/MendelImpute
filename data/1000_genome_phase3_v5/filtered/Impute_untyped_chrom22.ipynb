{
 "cells": [
  {
   "cell_type": "markdown",
   "metadata": {},
   "source": [
    "# Test if MendelImpute can impute untyped SNPs"
   ]
  },
  {
   "cell_type": "code",
   "execution_count": 1,
   "metadata": {
    "collapsed": false
   },
   "outputs": [
    {
     "name": "stderr",
     "output_type": "stream",
     "text": [
      "┌ Warning: no Manifest.toml file found, static paths used\n",
      "└ @ Revise /Users/biona001/.julia/packages/Revise/439di/src/Revise.jl:1108\n"
     ]
    }
   ],
   "source": [
    "using Revise\n",
    "using VCFTools\n",
    "using MendelImpute\n",
    "using GeneticVariation\n",
    "using Random\n",
    "using StatsBase"
   ]
  },
  {
   "cell_type": "markdown",
   "metadata": {},
   "source": [
    "## Generate subset of markers for prephasing"
   ]
  },
  {
   "cell_type": "code",
   "execution_count": 2,
   "metadata": {
    "collapsed": false
   },
   "outputs": [
    {
     "name": "stderr",
     "output_type": "stream",
     "text": [
      "\u001b[32mProgress: 100%|█████████████████████████████████████████| Time: 0:08:32\u001b[39m\n"
     ]
    },
    {
     "name": "stdout",
     "output_type": "stream",
     "text": [
      "400.374871 seconds (4.98 G allocations: 468.120 GiB, 9.98% gc time)\n",
      "472.964733 seconds (5.67 G allocations: 522.326 GiB, 11.03% gc time)\n",
      "909.764993 seconds (12.13 G allocations: 935.917 GiB, 13.36% gc time)\n",
      " 13.910180 seconds (76.61 M allocations: 8.666 GiB, 6.13% gc time)\n"
     ]
    },
    {
     "name": "stderr",
     "output_type": "stream",
     "text": [
      "┌ Info: Match target POS to reference POS\n",
      "└ @ VCFTools /Users/biona001/.julia/dev/VCFTools/src/conformgt.jl:172\n",
      "\u001b[32mProgress: 100%|█████████████████████████████████████████| Time: 0:09:57\u001b[39m\n"
     ]
    },
    {
     "name": "stdout",
     "output_type": "stream",
     "text": [
      "616.684922 seconds (7.23 G allocations: 672.405 GiB, 10.84% gc time)\n"
     ]
    },
    {
     "name": "stderr",
     "output_type": "stream",
     "text": [
      "┌ Info: 100000 records are matched\n",
      "└ @ VCFTools /Users/biona001/.julia/dev/VCFTools/src/conformgt.jl:239\n"
     ]
    },
    {
     "ename": "ArgumentError",
     "evalue": "ArgumentError: 'ref.chr22.aligned.vcf.gz' exists. `force=true` is required to remove 'ref.chr22.aligned.vcf.gz' before moving.",
     "output_type": "error",
     "traceback": [
      "ArgumentError: 'ref.chr22.aligned.vcf.gz' exists. `force=true` is required to remove 'ref.chr22.aligned.vcf.gz' before moving.",
      "",
      "Stacktrace:",
      " [1] #checkfor_mv_cp_cptree#10(::Bool, ::typeof(Base.Filesystem.checkfor_mv_cp_cptree), ::String, ::String, ::String) at ./file.jl:301",
      " [2] #checkfor_mv_cp_cptree at ./none:0 [inlined]",
      " [3] #mv#13 at ./file.jl:385 [inlined]",
      " [4] mv at ./file.jl:385 [inlined]",
      " [5] filter_and_mask() at ./In[2]:52",
      " [6] top-level scope at util.jl:155",
      " [7] top-level scope at In[2]:56"
     ]
    }
   ],
   "source": [
    "cd(\"/Users/biona001/.julia/dev/MendelImpute/data/1000_genome_phase3_v5/filtered\")\n",
    "function filter_and_mask()\n",
    "    for chr in [22]\n",
    "        # filter chromosome data for unique snps\n",
    "#         data = \"../raw/ALL.chr$chr.phase3_v5.shapeit2_mvncall_integrated.noSingleton.genotypes.vcf.gz\"\n",
    "#         full_record_index = .!find_duplicate_marker(data)\n",
    "#         @time VCFTools.filter(data, full_record_index, 1:nsamples(data), \n",
    "#             des = \"chr$chr.uniqueSNPs.vcf.gz\")\n",
    "\n",
    "        # summarize data\n",
    "        total_snps, samples, _, _, _, maf_by_record, _ = gtstats(\"chr$chr.uniqueSNPs.vcf.gz\")\n",
    "\n",
    "        # generate target file with 250 samples and 100k snps with maf>0.05\n",
    "        n = 250\n",
    "        p = 100000\n",
    "        record_idx = falses(total_snps)\n",
    "        large_maf = findall(x -> x > 0.05, maf_by_record)  \n",
    "        shuffle!(large_maf)\n",
    "        record_idx[large_maf[1:p]] .= true\n",
    "        sample_idx = falses(samples)\n",
    "        sample_idx[1:n] .= true\n",
    "        shuffle!(sample_idx)\n",
    "        @time VCFTools.filter(\"chr$chr.uniqueSNPs.vcf.gz\", record_idx, sample_idx, \n",
    "            des = \"target.chr$chr.typedOnly.vcf.gz\")\n",
    "\n",
    "        # generate target panel with all snps\n",
    "        @time VCFTools.filter(\"chr$chr.uniqueSNPs.vcf.gz\", \n",
    "            1:total_snps, sample_idx, des = \"target.chr$chr.full.vcf.gz\")\n",
    "\n",
    "        # also generate reference panel without target samples\n",
    "        @time VCFTools.filter(\"chr$chr.uniqueSNPs.vcf.gz\", \n",
    "            1:total_snps, .!sample_idx, des = \"ref.chr$chr.excludeTarget.vcf.gz\")\n",
    "\n",
    "        # unphase and mask 1% entries in target file\n",
    "        masks = falses(p, n)\n",
    "        missingprop = 0.01\n",
    "        for j in 1:n, i in 1:p\n",
    "            rand() < missingprop && (masks[i, j] = true)\n",
    "        end\n",
    "        @time mask_gt(\"target.chr$chr.typedOnly.vcf.gz\", masks, \n",
    "            des=\"target.chr$chr.typedOnly.masked.vcf.gz\", unphase=true)\n",
    "\n",
    "        # generate subset of reference file that matches target file\n",
    "        @time conformgt_by_pos(\"ref.chr$chr.excludeTarget.vcf.gz\", \n",
    "            \"target.chr$(chr).typedOnly.masked.vcf.gz\", \n",
    "            \"chr$chr.aligned\", \"$chr\", 1:typemax(Int))\n",
    "        if nrecords(\"chr$chr.aligned.tgt.vcf.gz\") == p\n",
    "            rm(\"chr$chr.aligned.tgt.vcf.gz\", force=true) # perfect match\n",
    "        else\n",
    "            error(\"target file has SNPs not matching in reference file! Shouldn't happen!\")\n",
    "        end\n",
    "        mv(\"chr22.aligned.ref.vcf.gz\", \"ref.chr22.aligned.vcf.gz\", force=true)\n",
    "    end \n",
    "end\n",
    "Random.seed!(2020)\n",
    "@time filter_and_mask()"
   ]
  },
  {
   "cell_type": "markdown",
   "metadata": {},
   "source": [
    "### Missing rate\n",
    "\n",
    "In typed markers, 1% of data is missing at random. In addition, only 84% of all markers are not typed (i.e. systematically missing). "
   ]
  },
  {
   "cell_type": "code",
   "execution_count": 4,
   "metadata": {
    "collapsed": false
   },
   "outputs": [
    {
     "data": {
      "text/plain": [
       "0.844946576342879"
      ]
     },
     "execution_count": 4,
     "metadata": {},
     "output_type": "execute_result"
    }
   ],
   "source": [
    "tgtfile = \"target.chr22.typedOnly.masked.vcf.gz\"\n",
    "reffile = \"ref.chr22.excludeTarget.vcf.gz\"\n",
    "missing_rate = 1 - nrecords(tgtfile) / nrecords(reffile)"
   ]
  },
  {
   "cell_type": "markdown",
   "metadata": {},
   "source": [
    "# MendelImpute on untyped markers with dp"
   ]
  },
  {
   "cell_type": "code",
   "execution_count": 2,
   "metadata": {
    "collapsed": false
   },
   "outputs": [
    {
     "data": {
      "text/plain": [
       "8"
      ]
     },
     "execution_count": 2,
     "metadata": {},
     "output_type": "execute_result"
    }
   ],
   "source": [
    "Threads.nthreads()"
   ]
  },
  {
   "cell_type": "code",
   "execution_count": 3,
   "metadata": {
    "collapsed": false
   },
   "outputs": [
    {
     "name": "stdout",
     "output_type": "stream",
     "text": [
      "(nrecords(tgtfile), nsamples(tgtfile)) = (100000, 250)\n",
      "(nrecords(reffile), nsamples(reffile)) = (644939, 2254)\n",
      "(nrecords(reffile_aligned), nsamples(reffile_aligned)) = (100000, 2254)\n",
      "(nrecords(X_typedOnly_complete), nsamples(X_typedOnly_complete)) = (100000, 250)\n",
      "(nrecords(X_full_complete), nsamples(X_full_complete)) = (644939, 250)\n"
     ]
    },
    {
     "data": {
      "text/plain": [
       "(644939, 250)"
      ]
     },
     "execution_count": 3,
     "metadata": {},
     "output_type": "execute_result"
    }
   ],
   "source": [
    "tgtfile = \"target.chr22.typedOnly.masked.vcf.gz\"\n",
    "reffile = \"ref.chr22.excludeTarget.vcf.gz\"\n",
    "reffile_aligned = \"ref.chr22.aligned.vcf.gz\"\n",
    "X_typedOnly_complete = \"target.chr22.typedOnly.vcf.gz\"\n",
    "X_full_complete = \"target.chr22.full.vcf.gz\"\n",
    "@show nrecords(tgtfile), nsamples(tgtfile)\n",
    "@show nrecords(reffile), nsamples(reffile)\n",
    "@show nrecords(reffile_aligned), nsamples(reffile_aligned)\n",
    "@show nrecords(X_typedOnly_complete), nsamples(X_typedOnly_complete)\n",
    "@show nrecords(X_full_complete), nsamples(X_full_complete)"
   ]
  },
  {
   "cell_type": "code",
   "execution_count": 5,
   "metadata": {
    "collapsed": false
   },
   "outputs": [
    {
     "name": "stdout",
     "output_type": "stream",
     "text": [
      "Imputing typed + untyped SNPs with dynamic programming, width = 500\n"
     ]
    },
    {
     "name": "stderr",
     "output_type": "stream",
     "text": [
      "\u001b[32mImporting genotype file...100%|█████████████████████████| Time: 0:00:05\u001b[39m\n",
      "\u001b[32mImporting reference haplotype files...100%|█████████████| Time: 0:03:10\u001b[39m\n",
      "\u001b[32mComputing optimal haplotype pairs...100%|███████████████| Time: 0:03:27\u001b[39m\n",
      "\u001b[32mMerging breakpoints...100%|█████████████████████████████| Time: 0:01:33\u001b[39m\n",
      "\u001b[32mWriting to file...100%|█████████████████████████████████| Time: 0:00:18\u001b[39m\n"
     ]
    },
    {
     "name": "stdout",
     "output_type": "stream",
     "text": [
      "549.178112 seconds (3.07 G allocations: 288.409 GiB, 7.65% gc time)\n",
      "error overall = 0.004051018778520139 \n",
      "\n",
      "Imputing typed + untyped SNPs with dynamic programming, width = 1000\n"
     ]
    },
    {
     "name": "stderr",
     "output_type": "stream",
     "text": [
      "\u001b[32mImporting genotype file...100%|█████████████████████████| Time: 0:00:05\u001b[39m\n",
      "\u001b[32mImporting reference haplotype files...100%|█████████████| Time: 0:03:13\u001b[39m\n",
      "\u001b[32mComputing optimal haplotype pairs...100%|███████████████| Time: 0:01:52\u001b[39m\n",
      "\u001b[32mMerging breakpoints...100%|█████████████████████████████| Time: 0:03:15\u001b[39m\n",
      "\u001b[32mWriting to file...100%|█████████████████████████████████| Time: 0:00:18\u001b[39m\n"
     ]
    },
    {
     "name": "stdout",
     "output_type": "stream",
     "text": [
      "556.713668 seconds (3.04 G allocations: 280.629 GiB, 7.64% gc time)\n",
      "error overall = 0.0057295031002932055 \n",
      "\n"
     ]
    }
   ],
   "source": [
    "# dp method using incomplete ref panel\n",
    "cd(\"/Users/biona001/.julia/dev/MendelImpute/data/1000_genome_phase3_v5/filtered\")\n",
    "Random.seed!(2020)\n",
    "function run()\n",
    "#     X_complete = convert_gt(Float32, \"target.chr22.typedOnly.vcf.gz\")\n",
    "    X_complete = convert_gt(Float32, \"target.chr22.full.vcf.gz\")\n",
    "    n, p = size(X_complete)\n",
    "    chr = 22\n",
    "    for width in [500, 1000]\n",
    "        println(\"Imputing typed + untyped SNPs with dynamic programming, width = $width\")\n",
    "        tgtfile = \"target.chr$chr.typedOnly.masked.vcf.gz\"\n",
    "        reffile = \"ref.chr$chr.excludeTarget.vcf.gz\"\n",
    "        outfile = \"mendel.imputed.dp$width.vcf.gz\"\n",
    "        @time phase(tgtfile, reffile, impute=true, \n",
    "            outfile = outfile, width = width, fast_method=false)\n",
    "        X_mendel = convert_gt(Float32, outfile)\n",
    "        println(\"error overall = $(sum(X_mendel .!= X_complete) / n / p) \\n\")\n",
    "    end\n",
    "end\n",
    "run()"
   ]
  },
  {
   "cell_type": "code",
   "execution_count": null,
   "metadata": {
    "collapsed": true
   },
   "outputs": [],
   "source": []
  },
  {
   "cell_type": "code",
   "execution_count": null,
   "metadata": {
    "collapsed": true
   },
   "outputs": [],
   "source": []
  },
  {
   "cell_type": "code",
   "execution_count": null,
   "metadata": {
    "collapsed": true
   },
   "outputs": [],
   "source": []
  },
  {
   "cell_type": "code",
   "execution_count": null,
   "metadata": {
    "collapsed": true
   },
   "outputs": [],
   "source": []
  },
  {
   "cell_type": "code",
   "execution_count": 5,
   "metadata": {
    "collapsed": false
   },
   "outputs": [
    {
     "name": "stdout",
     "output_type": "stream",
     "text": [
      "Imputing typed + untyped SNPs with dynamic programming, width = 500\n",
      "Running chunk 1 / 1\n"
     ]
    },
    {
     "name": "stderr",
     "output_type": "stream",
     "text": [
      "\u001b[32mImporting genotype file...100%|█████████████████████████| Time: 0:00:05\u001b[39m\n",
      "\u001b[32mImporting reference haplotype files...100%|█████████████| Time: 0:00:30\u001b[39m\n",
      "\u001b[32mComputing optimal haplotype pairs...100%|███████████████| Time: 0:02:36\u001b[39m\n",
      "\u001b[32mImputing samples...100%|████████████████████████████████| Time: 0:03:40\u001b[39m\n",
      "\u001b[32mWriting to file...100%|█████████████████████████████████| Time: 0:06:49\u001b[39m\n"
     ]
    },
    {
     "name": "stdout",
     "output_type": "stream",
     "text": [
      "1055.139365 seconds (8.67 G allocations: 810.348 GiB, 9.00% gc time)\n",
      "error overall = 0.0040779236485931234 \n",
      "\n",
      "Imputing typed + untyped SNPs with dynamic programming, width = 1000\n",
      "Running chunk 1 / 1\n"
     ]
    },
    {
     "name": "stderr",
     "output_type": "stream",
     "text": [
      "\u001b[32mImporting genotype file...100%|█████████████████████████| Time: 0:00:05\u001b[39m\n",
      "\u001b[32mImporting reference haplotype files...100%|█████████████| Time: 0:00:29\u001b[39m\n",
      "\u001b[32mComputing optimal haplotype pairs...100%|███████████████| Time: 0:02:06\u001b[39m\n",
      "\u001b[32mImputing samples...100%|████████████████████████████████| Time: 0:08:19\u001b[39m\n",
      "\u001b[32mWriting to file...100%|█████████████████████████████████| Time: 0:06:59\u001b[39m\n"
     ]
    },
    {
     "name": "stdout",
     "output_type": "stream",
     "text": [
      "1312.585610 seconds (8.67 G allocations: 803.741 GiB, 7.05% gc time)\n",
      "error overall = 0.005744133941349492 \n",
      "\n"
     ]
    }
   ],
   "source": [
    "# dp method using incomplete ref panel\n",
    "cd(\"/Users/biona001/.julia/dev/MendelImpute/data/1000_genome_phase3_v5/filtered\")\n",
    "Random.seed!(2020)\n",
    "function run()\n",
    "#     X_complete = convert_gt(Float32, \"target.chr22.typedOnly.vcf.gz\")\n",
    "    X_complete = convert_gt(Float32, \"target.chr22.full.vcf.gz\")\n",
    "    n, p = size(X_complete)\n",
    "    chr = 22\n",
    "    for width in [500, 1000]\n",
    "        println(\"Imputing typed + untyped SNPs with dynamic programming, width = $width\")\n",
    "        tgtfile = \"target.chr$chr.typedOnly.masked.vcf.gz\"\n",
    "        reffile = \"ref.chr$chr.excludeTarget.vcf.gz\"\n",
    "        outfile = \"mendel.imputed.dp$width.vcf.gz\"\n",
    "        reffile_aligned = \"ref.chr$chr.aligned.vcf.gz\"\n",
    "        @time phase(tgtfile, reffile, reffile_aligned = reffile_aligned, impute=true, \n",
    "            outfile = outfile, width = width, fast_method=false)\n",
    "        X_mendel = convert_gt(Float32, outfile)\n",
    "        println(\"error overall = $(sum(X_mendel .!= X_complete) / n / p) \\n\")\n",
    "    end\n",
    "end\n",
    "run()"
   ]
  },
  {
   "cell_type": "markdown",
   "metadata": {},
   "source": [
    "### keep happairs that within some range of best pair"
   ]
  },
  {
   "cell_type": "code",
   "execution_count": 3,
   "metadata": {
    "collapsed": false
   },
   "outputs": [
    {
     "name": "stdout",
     "output_type": "stream",
     "text": [
      "Imputing typed + untyped SNPs with dynamic programming, width = 500\n",
      "Running chunk 1 / 1\n"
     ]
    },
    {
     "name": "stderr",
     "output_type": "stream",
     "text": [
      "\u001b[32mImporting genotype file...100%|█████████████████████████| Time: 0:00:05\u001b[39m\n",
      "\u001b[32mImporting reference haplotype files...100%|█████████████| Time: 0:00:28\u001b[39m\n",
      "\u001b[32mComputing optimal haplotype pairs...100%|███████████████| Time: 0:03:22\u001b[39m\n",
      "\u001b[32mDynamic programming + merging breakpoints...100%|███████| Time: 0:03:09\u001b[39m\n",
      "\u001b[32mWriting to file...100%|█████████████████████████████████| Time: 0:07:12\u001b[39m\n"
     ]
    },
    {
     "name": "stdout",
     "output_type": "stream",
     "text": [
      "1094.653602 seconds (8.69 G allocations: 811.144 GiB, 8.68% gc time)\n",
      "error overall = 0.004056687531689043 \n",
      "\n",
      "Imputing typed + untyped SNPs with dynamic programming, width = 1000\n",
      "Running chunk 1 / 1\n"
     ]
    },
    {
     "name": "stderr",
     "output_type": "stream",
     "text": [
      "\u001b[32mImporting genotype file...100%|█████████████████████████| Time: 0:00:05\u001b[39m\n",
      "\u001b[32mImporting reference haplotype files...100%|█████████████| Time: 0:00:31\u001b[39m\n",
      "\u001b[32mComputing optimal haplotype pairs...100%|███████████████| Time: 0:02:33\u001b[39m\n",
      "\u001b[32mDynamic programming + merging breakpoints...100%|███████| Time: 0:07:57\u001b[39m\n",
      "\u001b[32mWriting to file...100%|█████████████████████████████████| Time: 0:06:41\u001b[39m\n"
     ]
    },
    {
     "name": "stdout",
     "output_type": "stream",
     "text": [
      "1299.115233 seconds (8.67 G allocations: 803.725 GiB, 7.57% gc time)\n",
      "error overall = 0.005745027049069757 \n",
      "\n"
     ]
    }
   ],
   "source": [
    "# dp method using incomplete ref panel\n",
    "cd(\"/Users/biona001/.julia/dev/MendelImpute/data/1000_genome_phase3_v5/filtered\")\n",
    "Random.seed!(2020)\n",
    "function run()\n",
    "#     X_complete = convert_gt(Float32, \"target.chr22.typedOnly.vcf.gz\")\n",
    "    X_complete = convert_gt(Float32, \"target.chr22.full.vcf.gz\")\n",
    "    n, p = size(X_complete)\n",
    "    chr = 22\n",
    "    for width in [500, 1000]\n",
    "        println(\"Imputing typed + untyped SNPs with dynamic programming, width = $width\")\n",
    "        tgtfile = \"target.chr$chr.typedOnly.masked.vcf.gz\"\n",
    "        reffile = \"ref.chr$chr.excludeTarget.vcf.gz\"\n",
    "        outfile = \"mendel.imputed.dp$width.vcf.gz\"\n",
    "        reffile_aligned = \"ref.chr$chr.aligned.vcf.gz\"\n",
    "        @time phase(tgtfile, reffile, reffile_aligned = reffile_aligned, impute=true, \n",
    "            outfile = outfile, width = width, fast_method=false)\n",
    "        X_mendel = convert_gt(Float32, outfile)\n",
    "        println(\"error overall = $(sum(X_mendel .!= X_complete) / n / p) \\n\")\n",
    "    end\n",
    "end\n",
    "run()"
   ]
  },
  {
   "cell_type": "markdown",
   "metadata": {},
   "source": [
    "### keep all happair for dp"
   ]
  },
  {
   "cell_type": "code",
   "execution_count": 9,
   "metadata": {
    "collapsed": false,
    "scrolled": true
   },
   "outputs": [
    {
     "name": "stdout",
     "output_type": "stream",
     "text": [
      "Imputing typed + untyped SNPs with dynamic programming, width = 500\n",
      "Running chunk 1 / 1\n"
     ]
    },
    {
     "name": "stderr",
     "output_type": "stream",
     "text": [
      "\u001b[32mImporting genotype file...100%|█████████████████████████| Time: 0:00:06\u001b[39m\n",
      "\u001b[32mImporting reference haplotype files...100%|█████████████| Time: 0:00:31\u001b[39m\n",
      "\u001b[32mComputing optimal haplotype pairs...100%|███████████████| Time: 0:03:01\u001b[39m\n",
      "\u001b[32mImputing samples...100%|████████████████████████████████| Time: 0:04:32\u001b[39m\n",
      "\u001b[32mWriting to file...100%|█████████████████████████████████| Time: 0:07:05\u001b[39m\n"
     ]
    },
    {
     "name": "stdout",
     "output_type": "stream",
     "text": [
      "1160.597644 seconds (8.67 G allocations: 810.426 GiB, 8.33% gc time)\n",
      "error overall = 0.004077905042182284 \n",
      "\n"
     ]
    }
   ],
   "source": [
    "# dp method using incomplete ref panel\n",
    "cd(\"/Users/biona001/.julia/dev/MendelImpute/data/1000_genome_phase3_v5/filtered\")\n",
    "Random.seed!(2020)\n",
    "function run()\n",
    "#     X_complete = convert_gt(Float32, \"target.chr22.typedOnly.vcf.gz\")\n",
    "    X_complete = convert_gt(Float32, \"target.chr22.full.vcf.gz\")\n",
    "    n, p = size(X_complete)\n",
    "    chr = 22\n",
    "    for width in 500\n",
    "        println(\"Imputing typed + untyped SNPs with dynamic programming, width = $width\")\n",
    "        tgtfile = \"target.chr$chr.typedOnly.masked.vcf.gz\"\n",
    "        reffile = \"ref.chr$chr.excludeTarget.vcf.gz\"\n",
    "        outfile = \"mendel.imputed.dp$width.vcf.gz\"\n",
    "        reffile_aligned = \"ref.chr$chr.aligned.vcf.gz\"\n",
    "        @time phase(tgtfile, reffile, reffile_aligned = reffile_aligned, impute=true, \n",
    "            outfile = outfile, width = width, fast_method=false)\n",
    "        X_mendel = convert_gt(Float32, outfile)\n",
    "        println(\"error overall = $(sum(X_mendel .!= X_complete) / n / p) \\n\")\n",
    "    end\n",
    "end\n",
    "run()"
   ]
  },
  {
   "cell_type": "markdown",
   "metadata": {},
   "source": [
    "### Try overwriting prephased entries via impute! (similar to minimac4)"
   ]
  },
  {
   "cell_type": "code",
   "execution_count": 23,
   "metadata": {
    "collapsed": false
   },
   "outputs": [
    {
     "name": "stdout",
     "output_type": "stream",
     "text": [
      "Imputing typed + untyped SNPs with dynamic programming, width = 500\n",
      "Running chunk 1 / 1\n"
     ]
    },
    {
     "name": "stderr",
     "output_type": "stream",
     "text": [
      "\u001b[32mImporting genotype file...100%|█████████████████████████| Time: 0:00:05\u001b[39m\n",
      "\u001b[32mImporting reference haplotype files...100%|█████████████| Time: 0:00:27\u001b[39m\n",
      "\u001b[32mComputing optimal haplotype pairs...100%|███████████████| Time: 0:03:45\u001b[39m\n",
      "\u001b[32mImputing samples...100%|████████████████████████████████| Time: 0:03:24\u001b[39m\n",
      "\u001b[32mWriting to file...100%|█████████████████████████████████| Time: 0:03:02\u001b[39m\n"
     ]
    },
    {
     "name": "stdout",
     "output_type": "stream",
     "text": [
      "1247.082654 seconds (10.87 G allocations: 1019.611 GiB, 9.67% gc time)\n",
      "error overall = 0.008522145505233829 \n",
      "\n",
      "Imputing typed + untyped SNPs with dynamic programming, width = 1000\n",
      "Running chunk 1 / 1\n"
     ]
    },
    {
     "name": "stderr",
     "output_type": "stream",
     "text": [
      "\u001b[32mImporting genotype file...100%|█████████████████████████| Time: 0:00:05\u001b[39m\n",
      "\u001b[32mImporting reference haplotype files...100%|█████████████| Time: 0:00:28\u001b[39m\n",
      "\u001b[32mComputing optimal haplotype pairs...100%|███████████████| Time: 0:01:30\u001b[39m\n",
      "\u001b[32mImputing samples...100%|████████████████████████████████| Time: 0:07:22\u001b[39m\n",
      "\u001b[32mWriting to file...100%|█████████████████████████████████| Time: 0:03:03\u001b[39m\n"
     ]
    },
    {
     "name": "stdout",
     "output_type": "stream",
     "text": [
      "1331.498374 seconds (10.87 G allocations: 1012.988 GiB, 8.83% gc time)\n",
      "error overall = 0.014499281327381349 \n",
      "\n"
     ]
    }
   ],
   "source": [
    "# dp method using incomplete ref panel\n",
    "cd(\"/Users/biona001/.julia/dev/MendelImpute/data/1000_genome_phase3_v5/filtered\")\n",
    "Random.seed!(2020)\n",
    "function run()\n",
    "#     X_complete = convert_gt(Float32, \"target.chr22.typedOnly.vcf.gz\")\n",
    "    X_complete = convert_gt(Float32, \"target.chr22.full.vcf.gz\")\n",
    "    n, p = size(X_complete)\n",
    "    chr = 22\n",
    "    for width in [500, 1000]\n",
    "        println(\"Imputing typed + untyped SNPs with dynamic programming, width = $width\")\n",
    "        tgtfile = \"target.chr$chr.typedOnly.masked.vcf.gz\"\n",
    "        reffile = \"ref.chr$chr.excludeTarget.vcf.gz\"\n",
    "        outfile = \"mendel.imputed.dp$width.vcf.gz\"\n",
    "        reffile_aligned = \"ref.chr$chr.aligned.vcf.gz\"\n",
    "        @time phase(tgtfile, reffile, reffile_aligned = reffile_aligned, impute=true, \n",
    "            outfile = outfile, width = width, fast_method=false)\n",
    "        X_mendel = convert_gt(Float32, outfile)\n",
    "        println(\"error overall = $(sum(X_mendel .!= X_complete) / n / p) \\n\")\n",
    "    end\n",
    "end\n",
    "run()"
   ]
  },
  {
   "cell_type": "markdown",
   "metadata": {},
   "source": [
    "### Try MM iteration = 3"
   ]
  },
  {
   "cell_type": "code",
   "execution_count": 11,
   "metadata": {
    "collapsed": false
   },
   "outputs": [
    {
     "name": "stdout",
     "output_type": "stream",
     "text": [
      "Imputing typed + untyped SNPs with dynamic programming, width = 500\n",
      "Running chunk 1 / 1\n"
     ]
    },
    {
     "name": "stderr",
     "output_type": "stream",
     "text": [
      "\u001b[32mImporting genotype file...100%|█████████████████████████| Time: 0:00:05\u001b[39m\n",
      "\u001b[32mImporting reference haplotype files...100%|█████████████| Time: 0:00:28\u001b[39m\n",
      "\u001b[32mComputing optimal haplotype pairs...100%|███████████████| Time: 0:04:39\u001b[39m\n",
      "\u001b[32mImputing samples...100%|████████████████████████████████| Time: 0:03:20\u001b[39m\n",
      "\u001b[32mWriting to file...100%|█████████████████████████████████| Time: 0:07:01\u001b[39m\n"
     ]
    },
    {
     "name": "stdout",
     "output_type": "stream",
     "text": [
      "1171.109334 seconds (8.67 G allocations: 810.400 GiB, 8.66% gc time)\n",
      "error overall = 0.004078419819548825 \n",
      "\n",
      "Imputing typed + untyped SNPs with dynamic programming, width = 1000\n",
      "Running chunk 1 / 1\n"
     ]
    },
    {
     "name": "stderr",
     "output_type": "stream",
     "text": [
      "\u001b[32mImporting genotype file...100%|█████████████████████████| Time: 0:00:05\u001b[39m\n",
      "\u001b[32mImporting reference haplotype files...100%|█████████████| Time: 0:00:29\u001b[39m\n",
      "\u001b[32mComputing optimal haplotype pairs...100%|███████████████| Time: 0:03:04\u001b[39m\n",
      "\u001b[32mImputing samples...100%|████████████████████████████████| Time: 0:07:24\u001b[39m\n",
      "\u001b[32mWriting to file...100%|█████████████████████████████████| Time: 0:06:59\u001b[39m\n"
     ]
    },
    {
     "name": "stdout",
     "output_type": "stream",
     "text": [
      "1301.334264 seconds (8.67 G allocations: 803.775 GiB, 7.65% gc time)\n",
      "error overall = 0.0057452131131781456 \n",
      "\n"
     ]
    }
   ],
   "source": [
    "# dp method using incomplete ref panel\n",
    "cd(\"/Users/biona001/.julia/dev/MendelImpute/data/1000_genome_phase3_v5/filtered\")\n",
    "Random.seed!(2020)\n",
    "function run()\n",
    "#     X_complete = convert_gt(Float32, \"target.chr22.typedOnly.vcf.gz\")\n",
    "    X_complete = convert_gt(Float32, \"target.chr22.full.vcf.gz\")\n",
    "    n, p = size(X_complete)\n",
    "    chr = 22\n",
    "    for width in [500, 1000]\n",
    "        println(\"Imputing typed + untyped SNPs with dynamic programming, width = $width\")\n",
    "        tgtfile = \"target.chr$chr.typedOnly.masked.vcf.gz\"\n",
    "        reffile = \"ref.chr$chr.excludeTarget.vcf.gz\"\n",
    "        outfile = \"mendel.imputed.dp$width.vcf.gz\"\n",
    "        reffile_aligned = \"ref.chr$chr.aligned.vcf.gz\"\n",
    "        @time phase(tgtfile, reffile, reffile_aligned = reffile_aligned, impute=true, \n",
    "            outfile = outfile, width = width, fast_method=false)\n",
    "        X_mendel = convert_gt(Float32, outfile)\n",
    "        println(\"error overall = $(sum(X_mendel .!= X_complete) / n / p) \\n\")\n",
    "    end\n",
    "end\n",
    "run()"
   ]
  },
  {
   "cell_type": "markdown",
   "metadata": {},
   "source": [
    "### Try deleting bad paths (currently = all suboptimal paths) in dp"
   ]
  },
  {
   "cell_type": "code",
   "execution_count": 3,
   "metadata": {
    "collapsed": false
   },
   "outputs": [
    {
     "name": "stdout",
     "output_type": "stream",
     "text": [
      "Imputing typed + untyped SNPs with dynamic programming, width = 500\n",
      "Running chunk 1 / 1\n"
     ]
    },
    {
     "name": "stderr",
     "output_type": "stream",
     "text": [
      "\u001b[32mImporting genotype file...100%|█████████████████████████| Time: 0:00:05\u001b[39m\n",
      "\u001b[32mImporting reference haplotype files...100%|█████████████| Time: 0:00:28\u001b[39m\n",
      "\u001b[32mComputing optimal haplotype pairs...100%|███████████████| Time: 0:02:51\u001b[39m\n",
      "\u001b[32mDynamic programming + merging breakpoints...100%|███████| Time: 0:03:30\u001b[39m\n",
      "\u001b[32mWriting to file...100%|█████████████████████████████████| Time: 0:06:29\u001b[39m\n"
     ]
    },
    {
     "name": "stdout",
     "output_type": "stream",
     "text": [
      "1021.094109 seconds (8.69 G allocations: 811.085 GiB, 9.13% gc time)\n",
      "error overall = 0.004078698915711409 \n",
      "\n",
      "Imputing typed + untyped SNPs with dynamic programming, width = 1000\n",
      "Running chunk 1 / 1\n"
     ]
    },
    {
     "name": "stderr",
     "output_type": "stream",
     "text": [
      "\u001b[32mImporting genotype file...100%|█████████████████████████| Time: 0:00:05\u001b[39m\n",
      "\u001b[32mImporting reference haplotype files...100%|█████████████| Time: 0:00:27\u001b[39m\n",
      "\u001b[32mComputing optimal haplotype pairs...100%|███████████████| Time: 0:01:35\u001b[39m\n",
      "\u001b[32mDynamic programming + merging breakpoints...100%|███████| Time: 0:07:16\u001b[39m\n",
      "\u001b[32mWriting to file...100%|█████████████████████████████████| Time: 0:06:26\u001b[39m\n"
     ]
    },
    {
     "name": "stdout",
     "output_type": "stream",
     "text": [
      "1165.899911 seconds (8.67 G allocations: 803.761 GiB, 8.27% gc time)\n",
      "error overall = 0.005744140143486438 \n",
      "\n"
     ]
    }
   ],
   "source": [
    "# dp method using incomplete ref panel\n",
    "cd(\"/Users/biona001/.julia/dev/MendelImpute/data/1000_genome_phase3_v5/filtered\")\n",
    "Random.seed!(2020)\n",
    "function run()\n",
    "#     X_complete = convert_gt(Float32, \"target.chr22.typedOnly.vcf.gz\")\n",
    "    X_complete = convert_gt(Float32, \"target.chr22.full.vcf.gz\")\n",
    "    n, p = size(X_complete)\n",
    "    chr = 22\n",
    "    for width in [500, 1000]\n",
    "        println(\"Imputing typed + untyped SNPs with dynamic programming, width = $width\")\n",
    "        tgtfile = \"target.chr$chr.typedOnly.masked.vcf.gz\"\n",
    "        reffile = \"ref.chr$chr.excludeTarget.vcf.gz\"\n",
    "        outfile = \"mendel.imputed.dp$width.vcf.gz\"\n",
    "        reffile_aligned = \"ref.chr$chr.aligned.vcf.gz\"\n",
    "        @time phase(tgtfile, reffile, reffile_aligned = reffile_aligned, impute=true, \n",
    "            outfile = outfile, width = width, fast_method=false)\n",
    "        X_mendel = convert_gt(Float32, outfile)\n",
    "        println(\"error overall = $(sum(X_mendel .!= X_complete) / n / p) \\n\")\n",
    "    end\n",
    "end\n",
    "run()"
   ]
  },
  {
   "cell_type": "markdown",
   "metadata": {},
   "source": [
    "### select happairs that are equally good"
   ]
  },
  {
   "cell_type": "code",
   "execution_count": 5,
   "metadata": {
    "collapsed": false
   },
   "outputs": [
    {
     "name": "stdout",
     "output_type": "stream",
     "text": [
      "Imputing typed + untyped SNPs with dynamic programming, width = 500\n",
      "Running chunk 1 / 1\n"
     ]
    },
    {
     "name": "stderr",
     "output_type": "stream",
     "text": [
      "\u001b[32mImporting genotype file...100%|█████████████████████████| Time: 0:00:05\u001b[39m\n",
      "\u001b[32mImporting reference haplotype files...100%|█████████████| Time: 0:00:29\u001b[39m\n",
      "\u001b[32mComputing optimal haplotype pairs...100%|███████████████| Time: 0:03:23\u001b[39m\n",
      "\u001b[32mDynamic programming + merging breakpoints...100%|███████| Time: 0:03:17\u001b[39m\n",
      "\u001b[32mWriting to file...100%|█████████████████████████████████| Time: 0:07:02\u001b[39m\n"
     ]
    },
    {
     "name": "stdout",
     "output_type": "stream",
     "text": [
      "1088.887676 seconds (8.67 G allocations: 810.318 GiB, 8.82% gc time)\n",
      "error overall = 0.0040586784176488006 \n",
      "\n"
     ]
    }
   ],
   "source": [
    "# dp method using incomplete ref panel\n",
    "cd(\"/Users/biona001/.julia/dev/MendelImpute/data/1000_genome_phase3_v5/filtered\")\n",
    "Random.seed!(2020)\n",
    "function run()\n",
    "#     X_complete = convert_gt(Float32, \"target.chr22.typedOnly.vcf.gz\")\n",
    "    X_complete = convert_gt(Float32, \"target.chr22.full.vcf.gz\")\n",
    "    n, p = size(X_complete)\n",
    "    chr = 22\n",
    "    for width in 500\n",
    "        println(\"Imputing typed + untyped SNPs with dynamic programming, width = $width\")\n",
    "        tgtfile = \"target.chr$chr.typedOnly.masked.vcf.gz\"\n",
    "        reffile = \"ref.chr$chr.excludeTarget.vcf.gz\"\n",
    "        outfile = \"mendel.imputed.dp$width.vcf.gz\"\n",
    "        reffile_aligned = \"ref.chr$chr.aligned.vcf.gz\"\n",
    "        @time phase(tgtfile, reffile, reffile_aligned = reffile_aligned, impute=true, \n",
    "            outfile = outfile, width = width, fast_method=false)\n",
    "        X_mendel = convert_gt(Float32, outfile)\n",
    "        println(\"error overall = $(sum(X_mendel .!= X_complete) / n / p) \\n\")\n",
    "    end\n",
    "end\n",
    "run()"
   ]
  },
  {
   "cell_type": "markdown",
   "metadata": {},
   "source": [
    "# MendelImpute on typed/untyped markers with fast method"
   ]
  },
  {
   "cell_type": "code",
   "execution_count": 26,
   "metadata": {
    "collapsed": false
   },
   "outputs": [
    {
     "name": "stdout",
     "output_type": "stream",
     "text": [
      "Imputing typed + untyped SNPs with fast method, width = 500\n",
      "Running chunk 1 / 1\n"
     ]
    },
    {
     "name": "stderr",
     "output_type": "stream",
     "text": [
      "\u001b[32mImporting genotype file...100%|█████████████████████████| Time: 0:00:05\u001b[39m\n",
      "\u001b[32mImporting reference haplotype files...100%|█████████████| Time: 0:00:27\u001b[39m\n",
      "\u001b[32mComputing optimal haplotype pairs...100%|███████████████| Time: 0:03:22\u001b[39m\n",
      "\u001b[32mMerging breakpoints...100%|█████████████████████████████| Time: 0:01:42\u001b[39m\n",
      "\u001b[32mWriting to file...100%|█████████████████████████████████| Time: 0:06:26\u001b[39m\n"
     ]
    },
    {
     "name": "stdout",
     "output_type": "stream",
     "text": [
      "939.416521 seconds (8.67 G allocations: 810.399 GiB, 10.29% gc time)\n",
      "error overall = 0.004230651270895387 \n",
      "\n",
      "Imputing typed + untyped SNPs with fast method, width = 1000\n",
      "Running chunk 1 / 1\n"
     ]
    },
    {
     "name": "stderr",
     "output_type": "stream",
     "text": [
      "\u001b[32mImporting genotype file...100%|█████████████████████████| Time: 0:00:05\u001b[39m\n",
      "\u001b[32mImporting reference haplotype files...100%|█████████████| Time: 0:00:27\u001b[39m\n",
      "\u001b[32mComputing optimal haplotype pairs...100%|███████████████| Time: 0:01:21\u001b[39m\n",
      "\u001b[32mMerging breakpoints...100%|█████████████████████████████| Time: 0:03:34\u001b[39m\n",
      "\u001b[32mWriting to file...100%|█████████████████████████████████| Time: 0:06:31\u001b[39m\n"
     ]
    },
    {
     "name": "stdout",
     "output_type": "stream",
     "text": [
      "935.550058 seconds (8.67 G allocations: 803.768 GiB, 10.24% gc time)\n",
      "error overall = 0.005924647137171112 \n",
      "\n"
     ]
    }
   ],
   "source": [
    "# fast method using incomplete ref panel\n",
    "cd(\"/Users/biona001/.julia/dev/MendelImpute/data/1000_genome_phase3_v5/filtered\")\n",
    "Random.seed!(2020)\n",
    "function run()\n",
    "#     X_complete = convert_gt(Float32, \"target.chr22.typedOnly.vcf.gz\")\n",
    "    X_complete = convert_gt(Float32, \"target.chr22.full.vcf.gz\")\n",
    "    n, p = size(X_complete)\n",
    "    chr = 22\n",
    "    for width in [500, 1000]\n",
    "        println(\"Imputing typed + untyped SNPs with fast method, width = $width\")\n",
    "        tgtfile = \"target.chr$chr.typedOnly.masked.vcf.gz\"\n",
    "        reffile = \"ref.chr$chr.excludeTarget.vcf.gz\"\n",
    "        outfile = \"mendel.imputed.fast$width.vcf.gz\"\n",
    "        reffile_aligned = \"ref.chr$chr.aligned.vcf.gz\"\n",
    "        @time phase(tgtfile, reffile, reffile_aligned = reffile_aligned, impute=true, \n",
    "            outfile = outfile, width = width, fast_method=true)\n",
    "        X_mendel = convert_gt(Float32, outfile)\n",
    "        println(\"error overall = $(sum(X_mendel .!= X_complete) / n / p) \\n\")\n",
    "    end\n",
    "end\n",
    "run()"
   ]
  },
  {
   "cell_type": "markdown",
   "metadata": {},
   "source": [
    "# MendelImpute with unique haplotypes only method"
   ]
  },
  {
   "cell_type": "code",
   "execution_count": 3,
   "metadata": {
    "collapsed": false
   },
   "outputs": [
    {
     "name": "stdout",
     "output_type": "stream",
     "text": [
      "Imputing typed + untyped SNPs with unique happair, width = 500\n"
     ]
    },
    {
     "name": "stderr",
     "output_type": "stream",
     "text": [
      "\u001b[32mImporting genotype file...100%|█████████████████████████| Time: 0:00:05\u001b[39m\n",
      "\u001b[32mImporting reference haplotype files...100%|█████████████| Time: 0:03:09\u001b[39m\n",
      "\u001b[32mComputing optimal haplotype pairs...100%|███████████████| Time: 0:04:16\u001b[39m\n",
      "\u001b[32mWriting to file...100%|█████████████████████████████████| Time: 0:00:22\u001b[39m\n"
     ]
    },
    {
     "name": "stdout",
     "output_type": "stream",
     "text": [
      "506.870342 seconds (4.68 G allocations: 320.029 GiB, 9.71% gc time)\n",
      "error overall = 0.004992558986198695 \n",
      "\n",
      "Imputing typed + untyped SNPs with unique happair, width = 1000\n"
     ]
    },
    {
     "name": "stderr",
     "output_type": "stream",
     "text": [
      "\u001b[32mImporting genotype file...100%|█████████████████████████| Time: 0:00:05\u001b[39m\n",
      "\u001b[32mImporting reference haplotype files...100%|█████████████| Time: 0:03:14\u001b[39m\n",
      "\u001b[32mComputing optimal haplotype pairs...100%|███████████████| Time: 0:04:43\u001b[39m\n",
      "\u001b[32mWriting to file...100%|█████████████████████████████████| Time: 0:00:21\u001b[39m\n"
     ]
    },
    {
     "name": "stdout",
     "output_type": "stream",
     "text": [
      "536.608616 seconds (5.06 G allocations: 319.087 GiB, 11.31% gc time)\n",
      "error overall = 0.006913918990788276 \n",
      "\n"
     ]
    }
   ],
   "source": [
    "# fast method using incomplete ref panel\n",
    "cd(\"/Users/biona001/.julia/dev/MendelImpute/data/1000_genome_phase3_v5/filtered\")\n",
    "Random.seed!(2020)\n",
    "function run()\n",
    "#     X_complete = convert_gt(Float32, \"target.chr22.typedOnly.vcf.gz\")\n",
    "    X_complete = convert_gt(Float32, \"target.chr22.full.vcf.gz\")\n",
    "    n, p = size(X_complete)\n",
    "    chr = 22\n",
    "    for width in [500, 1000]\n",
    "        println(\"Imputing typed + untyped SNPs with unique happair, width = $width\")\n",
    "        tgtfile = \"target.chr$chr.typedOnly.masked.vcf.gz\"\n",
    "        reffile = \"ref.chr$chr.excludeTarget.vcf.gz\"\n",
    "        outfile = \"mendel.imputed.uniqueOnly$width.vcf.gz\"\n",
    "        @time phase(tgtfile, reffile, impute=true, \n",
    "            outfile = outfile, width = width, unique_only=true)\n",
    "        X_mendel = convert_gt(Float32, outfile)\n",
    "        println(\"error overall = $(sum(X_mendel .!= X_complete) / n / p) \\n\")\n",
    "    end\n",
    "end\n",
    "run()"
   ]
  },
  {
   "cell_type": "code",
   "execution_count": 25,
   "metadata": {
    "collapsed": false
   },
   "outputs": [
    {
     "name": "stdout",
     "output_type": "stream",
     "text": [
      "Imputing typed + untyped SNPs with unique happair, width = 500\n",
      "Running chunk 1 / 1\n"
     ]
    },
    {
     "name": "stderr",
     "output_type": "stream",
     "text": [
      "\u001b[32mImporting genotype file...100%|█████████████████████████| Time: 0:00:05\u001b[39m\n",
      "\u001b[32mImporting reference haplotype files...100%|█████████████| Time: 0:00:29\u001b[39m\n",
      "\u001b[32mComputing optimal haplotype pairs...100%|███████████████| Time: 0:03:34\u001b[39m\n",
      "\u001b[32mWriting to file...100%|█████████████████████████████████| Time: 0:06:25\u001b[39m\n"
     ]
    },
    {
     "name": "stdout",
     "output_type": "stream",
     "text": [
      "851.075419 seconds (8.67 G allocations: 810.346 GiB, 11.58% gc time)\n",
      "error overall = 0.004991411590863632 \n",
      "\n",
      "Imputing typed + untyped SNPs with unique happair, width = 1000\n",
      "Running chunk 1 / 1\n"
     ]
    },
    {
     "name": "stderr",
     "output_type": "stream",
     "text": [
      "\u001b[32mImporting genotype file...100%|█████████████████████████| Time: 0:00:05\u001b[39m\n",
      "\u001b[32mImporting reference haplotype files...100%|█████████████| Time: 0:00:28\u001b[39m\n",
      "\u001b[32mComputing optimal haplotype pairs...100%|███████████████| Time: 0:01:24\u001b[39m\n",
      "\u001b[32mWriting to file...100%|█████████████████████████████████| Time: 0:06:22\u001b[39m\n"
     ]
    },
    {
     "name": "stdout",
     "output_type": "stream",
     "text": [
      "716.585894 seconds (8.67 G allocations: 803.731 GiB, 13.07% gc time)\n",
      "error overall = 0.00691558116348988 \n",
      "\n"
     ]
    }
   ],
   "source": [
    "# fast method using incomplete ref panel\n",
    "cd(\"/Users/biona001/.julia/dev/MendelImpute/data/1000_genome_phase3_v5/filtered\")\n",
    "Random.seed!(2020)\n",
    "function run()\n",
    "#     X_complete = convert_gt(Float32, \"target.chr22.typedOnly.vcf.gz\")\n",
    "    X_complete = convert_gt(Float32, \"target.chr22.full.vcf.gz\")\n",
    "    n, p = size(X_complete)\n",
    "    chr = 22\n",
    "    for width in [500, 1000]\n",
    "        println(\"Imputing typed + untyped SNPs with unique happair, width = $width\")\n",
    "        tgtfile = \"target.chr$chr.typedOnly.masked.vcf.gz\"\n",
    "        reffile = \"ref.chr$chr.excludeTarget.vcf.gz\"\n",
    "        outfile = \"mendel.imputed.uniqueOnly$width.vcf.gz\"\n",
    "        @time phase(tgtfile, reffile, reffile_aligned = reffile_aligned, impute=true, \n",
    "            outfile = outfile, width = width, unique_only=true)\n",
    "        X_mendel = convert_gt(Float32, outfile)\n",
    "        println(\"error overall = $(sum(X_mendel .!= X_complete) / n / p) \\n\")\n",
    "    end\n",
    "end\n",
    "run()"
   ]
  },
  {
   "cell_type": "markdown",
   "metadata": {},
   "source": [
    "# Beagle 5.0 on complete ref panel"
   ]
  },
  {
   "cell_type": "code",
   "execution_count": 9,
   "metadata": {
    "collapsed": false
   },
   "outputs": [],
   "source": [
    "# rename all samples in tgtfile to tmp_i, store result in tgt_tmp\n",
    "chr = 22\n",
    "tgtfile = \"target.chr$chr.typedOnly.masked.vcf.gz\"\n",
    "tgt_tmp = \"target.chr$chr.typedOnly.masked.tmp.vcf.gz\"\n",
    "reader = VCF.Reader(openvcf(tgtfile, \"r\"))\n",
    "metainfo = VCF.header(reader).metainfo\n",
    "sampleID = VCF.header(reader).sampleID\n",
    "[sampleID[i] = \"tmp$i\" for i in 1:length(sampleID)]\n",
    "\n",
    "#output tmp target \n",
    "writer = VCF.Writer(openvcf(tgt_tmp, \"w\"), VCF.Header(metainfo, sampleID))\n",
    "[VCF.write(writer, record) for record in reader]\n",
    "flush(writer); close(reader); close(writer)"
   ]
  },
  {
   "cell_type": "code",
   "execution_count": 11,
   "metadata": {
    "collapsed": false
   },
   "outputs": [
    {
     "name": "stdout",
     "output_type": "stream",
     "text": [
      "beagle.28Sep18.793.jar (version 5.0)\n",
      "Copyright (C) 2014-2018 Brian L. Browning\n",
      "Enter \"java -jar beagle.28Sep18.793.jar\" to list command line argument\n",
      "Start time: 03:16 PM PDT on 23 Apr 2020\n",
      "\n",
      "Command line: java -Xmx13653m -jar beagle.28Sep18.793.jar\n",
      "  gt=target.chr22.prephase.masked.tmp.vcf.gz\n",
      "  ref=chr22.uniqueSNPs.vcf.gz\n",
      "  out=beagle.imputed.completeREF\n",
      "  nthreads=4\n",
      "\n",
      "No genetic map is specified: using 1 cM = 1 Mb\n",
      "\n",
      "Reference samples:       2,504\n",
      "Study samples:             250\n",
      "\n",
      "Window 1 (22:16050115-51244237)\n",
      "Reference markers:     644,939\n",
      "Study markers:         100,000\n",
      "\n",
      "Burnin  iteration 1:           41 seconds\n",
      "Burnin  iteration 2:           47 seconds\n",
      "Burnin  iteration 3:           49 seconds\n",
      "Burnin  iteration 4:           46 seconds\n",
      "Burnin  iteration 5:           51 seconds\n",
      "Burnin  iteration 6:           52 seconds\n",
      "\n",
      "Phasing iteration 1:           50 seconds\n",
      "Phasing iteration 2:           49 seconds\n",
      "Phasing iteration 3:           48 seconds\n",
      "Phasing iteration 4:           53 seconds\n",
      "Phasing iteration 5:           49 seconds\n",
      "Phasing iteration 6:           49 seconds\n",
      "Phasing iteration 7:           50 seconds\n",
      "Phasing iteration 8:           49 seconds\n",
      "Phasing iteration 9:           50 seconds\n",
      "Phasing iteration 10:          48 seconds\n",
      "Phasing iteration 11:          46 seconds\n",
      "Phasing iteration 12:          45 seconds\n",
      "\n",
      "Imputation time:               42 seconds\n",
      "\n",
      "Cumulative Statistics:\n",
      "\n",
      "Reference markers:     644,939\n",
      "Study markers:         100,000\n",
      "\n",
      "Haplotype phasing time:        14 minutes 31 seconds\n",
      "Imputation time:               42 seconds\n",
      "Total time:                    15 minutes 36 seconds\n",
      "\n",
      "End time: 03:32 PM PDT on 23 Apr 2020\n",
      "beagle.28Sep18.793.jar finished\n",
      "error overall = 0.0 \n",
      "\n"
     ]
    }
   ],
   "source": [
    "# beagle 5\n",
    "cd(\"/Users/biona001/.julia/dev/MendelImpute/data/1000_genome_phase3_v5/filtered\")\n",
    "function beagle()\n",
    "    chr = 22\n",
    "    tgtfile = \"target.chr$chr.typedOnly.masked.tmp.vcf.gz\"\n",
    "    reffile = \"chr$chr.uniqueSNPs.vcf.gz\"\n",
    "    outfile = \"beagle.imputed.completeREF\"\n",
    "    Base.run(`java -Xmx15g -jar beagle.28Sep18.793.jar gt=$tgtfile ref=$reffile out=$outfile nthreads=4`)\n",
    "\n",
    "    # beagle error rate    \n",
    "    X_complete = convert_gt(Float32, \"target.chr22.full.vcf.gz\")\n",
    "    X_beagle = convert_gt(Float32, \"beagle.imputed.completeREF.vcf.gz\")\n",
    "    n, p = size(X_complete)\n",
    "    println(\"error overall = $(sum(X_beagle .!= X_complete) / n / p) \\n\")\n",
    "end\n",
    "beagle()"
   ]
  },
  {
   "cell_type": "markdown",
   "metadata": {},
   "source": [
    "# Beagle 5.0 on incomplete ref panel"
   ]
  },
  {
   "cell_type": "code",
   "execution_count": 26,
   "metadata": {
    "collapsed": false
   },
   "outputs": [
    {
     "name": "stdout",
     "output_type": "stream",
     "text": [
      "beagle.28Sep18.793.jar (version 5.0)\n",
      "Copyright (C) 2014-2018 Brian L. Browning\n",
      "Enter \"java -jar beagle.28Sep18.793.jar\" to list command line argument\n",
      "Start time: 06:01 PM PDT on 24 Apr 2020\n",
      "\n",
      "Command line: java -Xmx13653m -jar beagle.28Sep18.793.jar\n",
      "  gt=target.chr22.typedOnly.masked.vcf.gz\n",
      "  ref=ref.chr22.excludeTarget.vcf.gz\n",
      "  out=beagle.imputed\n",
      "  nthreads=4\n",
      "\n",
      "No genetic map is specified: using 1 cM = 1 Mb\n",
      "\n",
      "Reference samples:       2,254\n",
      "Study samples:             250\n",
      "\n",
      "Window 1 (22:16050115-51244237)\n",
      "Reference markers:     644,939\n",
      "Study markers:         100,000\n",
      "\n",
      "Burnin  iteration 1:           19 seconds\n",
      "Burnin  iteration 2:           45 seconds\n",
      "Burnin  iteration 3:           48 seconds\n",
      "Burnin  iteration 4:           53 seconds\n",
      "Burnin  iteration 5:           58 seconds\n",
      "Burnin  iteration 6:           57 seconds\n",
      "\n",
      "Phasing iteration 1:           55 seconds\n",
      "Phasing iteration 2:           51 seconds\n",
      "Phasing iteration 3:           52 seconds\n",
      "Phasing iteration 4:           51 seconds\n",
      "Phasing iteration 5:           54 seconds\n",
      "Phasing iteration 6:           52 seconds\n",
      "Phasing iteration 7:           57 seconds\n",
      "Phasing iteration 8:           53 seconds\n",
      "Phasing iteration 9:           52 seconds\n",
      "Phasing iteration 10:          55 seconds\n",
      "Phasing iteration 11:          50 seconds\n",
      "Phasing iteration 12:          45 seconds\n",
      "\n",
      "Imputation time:               48 seconds\n",
      "\n",
      "Cumulative Statistics:\n",
      "\n",
      "Reference markers:     644,939\n",
      "Study markers:         100,000\n",
      "\n",
      "Haplotype phasing time:        15 minutes 9 seconds\n",
      "Imputation time:               48 seconds\n",
      "Total time:                    16 minutes 16 seconds\n",
      "\n",
      "End time: 06:17 PM PDT on 24 Apr 2020\n",
      "beagle.28Sep18.793.jar finished\n",
      "error overall = 0.0025071022220706147 \n",
      "\n"
     ]
    }
   ],
   "source": [
    "# beagle 5\n",
    "cd(\"/Users/biona001/.julia/dev/MendelImpute/data/1000_genome_phase3_v5/filtered\")\n",
    "function beagle()\n",
    "    chr = 22\n",
    "    tgtfile = \"target.chr$chr.typedOnly.masked.vcf.gz\"\n",
    "    reffile = \"ref.chr$chr.excludeTarget.vcf.gz\"\n",
    "    outfile = \"beagle.imputed\"\n",
    "    Base.run(`java -Xmx15g -jar beagle.28Sep18.793.jar gt=$tgtfile ref=$reffile out=$outfile nthreads=4`)\n",
    "        \n",
    "    # beagle error rate    \n",
    "    X_complete = convert_gt(Float32, \"target.chr22.full.vcf.gz\")\n",
    "    X_beagle = convert_gt(Float32, \"beagle.imputed.vcf.gz\")\n",
    "    n, p = size(X_complete)\n",
    "    println(\"error overall = $(sum(X_beagle .!= X_complete) / n / p) \\n\")\n",
    "end\n",
    "beagle()"
   ]
  },
  {
   "cell_type": "markdown",
   "metadata": {
    "collapsed": true
   },
   "source": [
    "# Eagle 2 + Minimac4\n",
    "\n",
    "In order to use the reference panel in Eagle 2's prephase option, one must first convert it to `.bcf` format via e.g. `htslib` which is *extremely* difficult to install. Even after we went through all the hard work to obtain the final `.bcf` reference file (see commands below), eagle 2.4 STILL SAYS the file is not acceptable (not bgzipped or some processing error). Therefore, I have no choice but to prephase without the reference panel. "
   ]
  },
  {
   "cell_type": "code",
   "execution_count": null,
   "metadata": {
    "collapsed": true
   },
   "outputs": [],
   "source": [
    "# THIS CHUNK OF CODE DID NOT WORK\n",
    "module load htslib/1.9                   # load htslib on hoffman\n",
    "gunzip ref.chr22.excludeTarget.vcf.gz    # unzip .vcf.gz\n",
    "bgzip ref.chr22.excludeTarget.vcf        # bgzip the vcf file\n",
    "bcftools index -f ref.chr22.excludeTarget.vcf.gz   # load some required index, not sure if needed\n",
    "bcftools view ref.chr22.excludeTarget.vcf > ref.chr22.excludeTarget.bcf # create .bcf -> CREATED FILE BUT says not bgzipped\n",
    "bgzip ref.chr22.excludeTarget.bcf       # try to bgzip .bcf file -> cannot do so"
   ]
  },
  {
   "cell_type": "code",
   "execution_count": null,
   "metadata": {
    "collapsed": true
   },
   "outputs": [],
   "source": [
    "# run eagle 2.4: 3367.79 sec on amd-2382 machine (can only run on linux systems)\n",
    "eagle --vcf=target.chr22.typedOnly.masked.vcf.gz --outPrefix=eagle.phased --numThreads=4 --geneticMapFile=../Eagle_v2.4.1/tables/genetic_map_hg19_withX.txt.gz"
   ]
  },
  {
   "cell_type": "code",
   "execution_count": null,
   "metadata": {
    "collapsed": true
   },
   "outputs": [],
   "source": [
    "# convert ref file to m3vcf format (Total Run completed in 1 hours, 46 mins, 24 seconds)\n",
    "/u/home/b/biona001/haplotype_comparisons/Minimac3/bin/Minimac3 --refHaps ref.chr22.excludeTarget.vcf.gz --processReference --prefix ref.chr22.excludeTarget"
   ]
  },
  {
   "cell_type": "code",
   "execution_count": null,
   "metadata": {
    "collapsed": true
   },
   "outputs": [],
   "source": [
    "# run minimac4 (2619 seconds)\n",
    "minimac4 --refHaps ref.chr22.excludeTarget.m3vcf.gz --haps eagle.phased.vcf.gz --prefix minimac.imputed.chr22 --format GT --cpus 4"
   ]
  },
  {
   "cell_type": "code",
   "execution_count": 3,
   "metadata": {
    "collapsed": false
   },
   "outputs": [
    {
     "name": "stdout",
     "output_type": "stream",
     "text": [
      "error overall = 0.003166693284171061 \n",
      "\n"
     ]
    }
   ],
   "source": [
    "# minimac4 error rate    \n",
    "X_complete = convert_gt(Float32, \"target.chr22.full.vcf.gz\")\n",
    "X_minimac = convert_gt(Float32, \"minimac.imputed.chr22.dose.vcf.gz\")\n",
    "n, p = size(X_complete)\n",
    "println(\"error overall = $(sum(X_minimac .!= X_complete) / n / p) \\n\")"
   ]
  },
  {
   "cell_type": "code",
   "execution_count": null,
   "metadata": {
    "collapsed": true
   },
   "outputs": [],
   "source": []
  }
 ],
 "metadata": {
  "@webio": {
   "lastCommId": null,
   "lastKernelId": null
  },
  "kernelspec": {
   "display_name": "Julia 1.3.0-rc4",
   "language": "julia",
   "name": "julia-1.3"
  },
  "language_info": {
   "file_extension": ".jl",
   "mimetype": "application/julia",
   "name": "julia",
   "version": "1.3.1"
  }
 },
 "nbformat": 4,
 "nbformat_minor": 2
}
