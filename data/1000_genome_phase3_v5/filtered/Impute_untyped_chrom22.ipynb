{
 "cells": [
  {
   "cell_type": "markdown",
   "metadata": {},
   "source": [
    "# Test if MendelImpute can impute untyped SNPs"
   ]
  },
  {
   "cell_type": "code",
   "execution_count": 2,
   "metadata": {
    "collapsed": false
   },
   "outputs": [
    {
     "name": "stderr",
     "output_type": "stream",
     "text": [
      "┌ Warning: no Manifest.toml file found, static paths used\n",
      "└ @ Revise /Users/biona001/.julia/packages/Revise/439di/src/Revise.jl:1108\n",
      "┌ Info: Precompiling MendelImpute [e47305d1-6a61-5370-bc5d-77554d143183]\n",
      "└ @ Base loading.jl:1273\n"
     ]
    }
   ],
   "source": [
    "using Revise\n",
    "using VCFTools\n",
    "using MendelImpute\n",
    "using GeneticVariation\n",
    "using Random\n",
    "using StatsBase"
   ]
  },
  {
   "cell_type": "markdown",
   "metadata": {},
   "source": [
    "## Generate subset of markers for prephasing"
   ]
  },
  {
   "cell_type": "code",
   "execution_count": 2,
   "metadata": {
    "collapsed": false
   },
   "outputs": [
    {
     "name": "stderr",
     "output_type": "stream",
     "text": [
      "\u001b[32mProgress: 100%|█████████████████████████████████████████| Time: 0:08:32\u001b[39m\n"
     ]
    },
    {
     "name": "stdout",
     "output_type": "stream",
     "text": [
      "400.374871 seconds (4.98 G allocations: 468.120 GiB, 9.98% gc time)\n",
      "472.964733 seconds (5.67 G allocations: 522.326 GiB, 11.03% gc time)\n",
      "909.764993 seconds (12.13 G allocations: 935.917 GiB, 13.36% gc time)\n",
      " 13.910180 seconds (76.61 M allocations: 8.666 GiB, 6.13% gc time)\n"
     ]
    },
    {
     "name": "stderr",
     "output_type": "stream",
     "text": [
      "┌ Info: Match target POS to reference POS\n",
      "└ @ VCFTools /Users/biona001/.julia/dev/VCFTools/src/conformgt.jl:172\n",
      "\u001b[32mProgress: 100%|█████████████████████████████████████████| Time: 0:09:57\u001b[39m\n"
     ]
    },
    {
     "name": "stdout",
     "output_type": "stream",
     "text": [
      "616.684922 seconds (7.23 G allocations: 672.405 GiB, 10.84% gc time)\n"
     ]
    },
    {
     "name": "stderr",
     "output_type": "stream",
     "text": [
      "┌ Info: 100000 records are matched\n",
      "└ @ VCFTools /Users/biona001/.julia/dev/VCFTools/src/conformgt.jl:239\n"
     ]
    },
    {
     "ename": "ArgumentError",
     "evalue": "ArgumentError: 'ref.chr22.aligned.vcf.gz' exists. `force=true` is required to remove 'ref.chr22.aligned.vcf.gz' before moving.",
     "output_type": "error",
     "traceback": [
      "ArgumentError: 'ref.chr22.aligned.vcf.gz' exists. `force=true` is required to remove 'ref.chr22.aligned.vcf.gz' before moving.",
      "",
      "Stacktrace:",
      " [1] #checkfor_mv_cp_cptree#10(::Bool, ::typeof(Base.Filesystem.checkfor_mv_cp_cptree), ::String, ::String, ::String) at ./file.jl:301",
      " [2] #checkfor_mv_cp_cptree at ./none:0 [inlined]",
      " [3] #mv#13 at ./file.jl:385 [inlined]",
      " [4] mv at ./file.jl:385 [inlined]",
      " [5] filter_and_mask() at ./In[2]:52",
      " [6] top-level scope at util.jl:155",
      " [7] top-level scope at In[2]:56"
     ]
    }
   ],
   "source": [
    "cd(\"/Users/biona001/.julia/dev/MendelImpute/data/1000_genome_phase3_v5/filtered\")\n",
    "function filter_and_mask()\n",
    "    for chr in [22]\n",
    "        # filter chromosome data for unique snps\n",
    "#         data = \"../raw/ALL.chr$chr.phase3_v5.shapeit2_mvncall_integrated.noSingleton.genotypes.vcf.gz\"\n",
    "#         full_record_index = .!find_duplicate_marker(data)\n",
    "#         @time VCFTools.filter(data, full_record_index, 1:nsamples(data), \n",
    "#             des = \"chr$chr.uniqueSNPs.vcf.gz\")\n",
    "\n",
    "        # summarize data\n",
    "        total_snps, samples, _, _, _, maf_by_record, _ = gtstats(\"chr$chr.uniqueSNPs.vcf.gz\")\n",
    "\n",
    "        # generate target file with 250 samples and 100k snps with maf>0.05\n",
    "        n = 250\n",
    "        p = 100000\n",
    "        record_idx = falses(total_snps)\n",
    "        large_maf = findall(x -> x > 0.05, maf_by_record)  \n",
    "        shuffle!(large_maf)\n",
    "        record_idx[large_maf[1:p]] .= true\n",
    "        sample_idx = falses(samples)\n",
    "        sample_idx[1:n] .= true\n",
    "        shuffle!(sample_idx)\n",
    "        @time VCFTools.filter(\"chr$chr.uniqueSNPs.vcf.gz\", record_idx, sample_idx, \n",
    "            des = \"target.chr$chr.typedOnly.vcf.gz\")\n",
    "\n",
    "        # generate target panel with all snps\n",
    "        @time VCFTools.filter(\"chr$chr.uniqueSNPs.vcf.gz\", \n",
    "            1:total_snps, sample_idx, des = \"target.chr$chr.full.vcf.gz\")\n",
    "\n",
    "        # also generate reference panel without target samples\n",
    "        @time VCFTools.filter(\"chr$chr.uniqueSNPs.vcf.gz\", \n",
    "            1:total_snps, .!sample_idx, des = \"ref.chr$chr.excludeTarget.vcf.gz\")\n",
    "\n",
    "        # unphase and mask 1% entries in target file\n",
    "        masks = falses(p, n)\n",
    "        missingprop = 0.01\n",
    "        for j in 1:n, i in 1:p\n",
    "            rand() < missingprop && (masks[i, j] = true)\n",
    "        end\n",
    "        @time mask_gt(\"target.chr$chr.typedOnly.vcf.gz\", masks, \n",
    "            des=\"target.chr$chr.typedOnly.masked.vcf.gz\", unphase=true)\n",
    "\n",
    "        # generate subset of reference file that matches target file\n",
    "        @time conformgt_by_pos(\"ref.chr$chr.excludeTarget.vcf.gz\", \n",
    "            \"target.chr$(chr).typedOnly.masked.vcf.gz\", \n",
    "            \"chr$chr.aligned\", \"$chr\", 1:typemax(Int))\n",
    "        if nrecords(\"chr$chr.aligned.tgt.vcf.gz\") == p\n",
    "            rm(\"chr$chr.aligned.tgt.vcf.gz\", force=true) # perfect match\n",
    "        else\n",
    "            error(\"target file has SNPs not matching in reference file! Shouldn't happen!\")\n",
    "        end\n",
    "        mv(\"chr22.aligned.ref.vcf.gz\", \"ref.chr22.aligned.vcf.gz\", force=true)\n",
    "    end \n",
    "end\n",
    "Random.seed!(2020)\n",
    "@time filter_and_mask()"
   ]
  },
  {
   "cell_type": "markdown",
   "metadata": {},
   "source": [
    "### Missing rate\n",
    "\n",
    "In typed markers, 1% of data is missing at random. In addition, only 84% of all markers are not typed (i.e. systematically missing). "
   ]
  },
  {
   "cell_type": "code",
   "execution_count": 4,
   "metadata": {
    "collapsed": false
   },
   "outputs": [
    {
     "data": {
      "text/plain": [
       "0.844946576342879"
      ]
     },
     "execution_count": 4,
     "metadata": {},
     "output_type": "execute_result"
    }
   ],
   "source": [
    "tgtfile = \"target.chr22.typedOnly.masked.vcf.gz\"\n",
    "reffile = \"ref.chr22.excludeTarget.vcf.gz\"\n",
    "missing_rate = 1 - nrecords(tgtfile) / nrecords(reffile)"
   ]
  },
  {
   "cell_type": "markdown",
   "metadata": {},
   "source": [
    "# MendelImpute on untyped markers with dp"
   ]
  },
  {
   "cell_type": "code",
   "execution_count": 2,
   "metadata": {
    "collapsed": false
   },
   "outputs": [
    {
     "data": {
      "text/plain": [
       "8"
      ]
     },
     "execution_count": 2,
     "metadata": {},
     "output_type": "execute_result"
    }
   ],
   "source": [
    "Threads.nthreads()"
   ]
  },
  {
   "cell_type": "code",
   "execution_count": 3,
   "metadata": {
    "collapsed": false
   },
   "outputs": [
    {
     "name": "stdout",
     "output_type": "stream",
     "text": [
      "(nrecords(tgtfile), nsamples(tgtfile)) = (100000, 250)\n",
      "(nrecords(reffile), nsamples(reffile)) = (644939, 2254)\n",
      "(nrecords(reffile_aligned), nsamples(reffile_aligned)) = (100000, 2254)\n",
      "(nrecords(X_typedOnly_complete), nsamples(X_typedOnly_complete)) = (100000, 250)\n",
      "(nrecords(X_full_complete), nsamples(X_full_complete)) = (644939, 250)\n"
     ]
    },
    {
     "data": {
      "text/plain": [
       "(644939, 250)"
      ]
     },
     "execution_count": 3,
     "metadata": {},
     "output_type": "execute_result"
    }
   ],
   "source": [
    "tgtfile = \"target.chr22.typedOnly.masked.vcf.gz\"\n",
    "reffile = \"ref.chr22.excludeTarget.vcf.gz\"\n",
    "reffile_aligned = \"ref.chr22.aligned.vcf.gz\"\n",
    "X_typedOnly_complete = \"target.chr22.typedOnly.vcf.gz\"\n",
    "X_full_complete = \"target.chr22.full.vcf.gz\"\n",
    "@show nrecords(tgtfile), nsamples(tgtfile)\n",
    "@show nrecords(reffile), nsamples(reffile)\n",
    "@show nrecords(reffile_aligned), nsamples(reffile_aligned)\n",
    "@show nrecords(X_typedOnly_complete), nsamples(X_typedOnly_complete)\n",
    "@show nrecords(X_full_complete), nsamples(X_full_complete)"
   ]
  },
  {
   "cell_type": "code",
   "execution_count": 3,
   "metadata": {
    "collapsed": false,
    "scrolled": false
   },
   "outputs": [
    {
     "name": "stdout",
     "output_type": "stream",
     "text": [
      "Imputing typed + untyped SNPs with dynamic programming, width = 500\n"
     ]
    },
    {
     "name": "stderr",
     "output_type": "stream",
     "text": [
      "\u001b[32mImporting genotype file...100%|█████████████████████████| Time: 0:00:05\u001b[39m\n",
      "\u001b[32mImporting reference haplotype files...100%|█████████████| Time: 0:03:13\u001b[39m\n",
      "\u001b[32mComputing optimal haplotype pairs...100%|███████████████| Time: 0:03:04\u001b[39m\n",
      "\u001b[32mMerging breakpoints...100%|█████████████████████████████| Time: 0:01:14\u001b[39m\n",
      "\u001b[32mWriting to file...100%|█████████████████████████████████| Time: 0:00:17\u001b[39m\n"
     ]
    },
    {
     "name": "stdout",
     "output_type": "stream",
     "text": [
      "506.273613 seconds (3.07 G allocations: 288.421 GiB, 8.00% gc time)\n",
      "error overall = 0.004045622919376871 \n",
      "\n",
      "Imputing typed + untyped SNPs with dynamic programming, width = 1000\n"
     ]
    },
    {
     "name": "stderr",
     "output_type": "stream",
     "text": [
      "\u001b[32mImporting genotype file...100%|█████████████████████████| Time: 0:00:05\u001b[39m\n",
      "\u001b[32mImporting reference haplotype files...100%|█████████████| Time: 0:03:15\u001b[39m\n",
      "\u001b[32mComputing optimal haplotype pairs...100%|███████████████| Time: 0:01:40\u001b[39m\n",
      "\u001b[32mMerging breakpoints...100%|█████████████████████████████| Time: 0:02:43\u001b[39m\n",
      "\u001b[32mWriting to file...100%|█████████████████████████████████| Time: 0:00:17\u001b[39m\n"
     ]
    },
    {
     "name": "stdout",
     "output_type": "stream",
     "text": [
      "511.827458 seconds (3.04 G allocations: 280.629 GiB, 7.93% gc time)\n",
      "error overall = 0.005725477913415067 \n",
      "\n",
      "Imputing typed + untyped SNPs with dynamic programming, width = 2000\n"
     ]
    },
    {
     "name": "stderr",
     "output_type": "stream",
     "text": [
      "\u001b[32mImporting genotype file...100%|█████████████████████████| Time: 0:00:05\u001b[39m\n",
      "\u001b[32mImporting reference haplotype files...100%|█████████████| Time: 0:03:13\u001b[39m\n",
      "\u001b[32mComputing optimal haplotype pairs...100%|███████████████| Time: 0:00:54\u001b[39m\n",
      "\u001b[32mMerging breakpoints...100%|█████████████████████████████| Time: 0:06:11\u001b[39m\n",
      "\u001b[32mWriting to file...100%|█████████████████████████████████| Time: 0:00:18\u001b[39m\n"
     ]
    },
    {
     "name": "stdout",
     "output_type": "stream",
     "text": [
      "669.647724 seconds (3.04 G allocations: 275.428 GiB, 5.92% gc time)\n",
      "error overall = 0.00858830370003985 \n",
      "\n"
     ]
    }
   ],
   "source": [
    "# dp method using incomplete ref panel\n",
    "cd(\"/Users/biona001/.julia/dev/MendelImpute/data/1000_genome_phase3_v5/filtered\")\n",
    "Random.seed!(2020)\n",
    "function run()\n",
    "    X_complete = convert_gt(Float32, \"target.chr22.full.vcf.gz\")\n",
    "    n, p = size(X_complete)\n",
    "    chr = 22\n",
    "    for width in [500, 1000, 2000]\n",
    "        println(\"Imputing typed + untyped SNPs with dynamic programming, width = $width\")\n",
    "        tgtfile = \"target.chr$chr.typedOnly.masked.vcf.gz\"\n",
    "        reffile = \"ref.chr$chr.excludeTarget.vcf.gz\"\n",
    "        outfile = \"mendel.imputed.dp$width.vcf.gz\"\n",
    "        @time phase(tgtfile, reffile, impute=true, \n",
    "            outfile = outfile, width = width, fast_method=false)\n",
    "        X_mendel = convert_gt(Float32, outfile)\n",
    "        println(\"error overall = $(sum(X_mendel .!= X_complete) / n / p) \\n\")\n",
    "    end\n",
    "end\n",
    "run()"
   ]
  },
  {
   "cell_type": "markdown",
   "metadata": {},
   "source": [
    "# Beagle 5.0 on incomplete ref panel"
   ]
  },
  {
   "cell_type": "code",
   "execution_count": 26,
   "metadata": {
    "collapsed": false
   },
   "outputs": [
    {
     "name": "stdout",
     "output_type": "stream",
     "text": [
      "beagle.28Sep18.793.jar (version 5.0)\n",
      "Copyright (C) 2014-2018 Brian L. Browning\n",
      "Enter \"java -jar beagle.28Sep18.793.jar\" to list command line argument\n",
      "Start time: 06:01 PM PDT on 24 Apr 2020\n",
      "\n",
      "Command line: java -Xmx13653m -jar beagle.28Sep18.793.jar\n",
      "  gt=target.chr22.typedOnly.masked.vcf.gz\n",
      "  ref=ref.chr22.excludeTarget.vcf.gz\n",
      "  out=beagle.imputed\n",
      "  nthreads=4\n",
      "\n",
      "No genetic map is specified: using 1 cM = 1 Mb\n",
      "\n",
      "Reference samples:       2,254\n",
      "Study samples:             250\n",
      "\n",
      "Window 1 (22:16050115-51244237)\n",
      "Reference markers:     644,939\n",
      "Study markers:         100,000\n",
      "\n",
      "Burnin  iteration 1:           19 seconds\n",
      "Burnin  iteration 2:           45 seconds\n",
      "Burnin  iteration 3:           48 seconds\n",
      "Burnin  iteration 4:           53 seconds\n",
      "Burnin  iteration 5:           58 seconds\n",
      "Burnin  iteration 6:           57 seconds\n",
      "\n",
      "Phasing iteration 1:           55 seconds\n",
      "Phasing iteration 2:           51 seconds\n",
      "Phasing iteration 3:           52 seconds\n",
      "Phasing iteration 4:           51 seconds\n",
      "Phasing iteration 5:           54 seconds\n",
      "Phasing iteration 6:           52 seconds\n",
      "Phasing iteration 7:           57 seconds\n",
      "Phasing iteration 8:           53 seconds\n",
      "Phasing iteration 9:           52 seconds\n",
      "Phasing iteration 10:          55 seconds\n",
      "Phasing iteration 11:          50 seconds\n",
      "Phasing iteration 12:          45 seconds\n",
      "\n",
      "Imputation time:               48 seconds\n",
      "\n",
      "Cumulative Statistics:\n",
      "\n",
      "Reference markers:     644,939\n",
      "Study markers:         100,000\n",
      "\n",
      "Haplotype phasing time:        15 minutes 9 seconds\n",
      "Imputation time:               48 seconds\n",
      "Total time:                    16 minutes 16 seconds\n",
      "\n",
      "End time: 06:17 PM PDT on 24 Apr 2020\n",
      "beagle.28Sep18.793.jar finished\n",
      "error overall = 0.0025071022220706147 \n",
      "\n"
     ]
    }
   ],
   "source": [
    "# beagle 5\n",
    "cd(\"/Users/biona001/.julia/dev/MendelImpute/data/1000_genome_phase3_v5/filtered\")\n",
    "function beagle()\n",
    "    chr = 22\n",
    "    tgtfile = \"target.chr$chr.typedOnly.masked.vcf.gz\"\n",
    "    reffile = \"ref.chr$chr.excludeTarget.vcf.gz\"\n",
    "    outfile = \"beagle.imputed\"\n",
    "    Base.run(`java -Xmx15g -jar beagle.28Sep18.793.jar gt=$tgtfile ref=$reffile out=$outfile nthreads=4`)\n",
    "        \n",
    "    # beagle error rate    \n",
    "    X_complete = convert_gt(Float32, \"target.chr22.full.vcf.gz\")\n",
    "    X_beagle = convert_gt(Float32, \"beagle.imputed.vcf.gz\")\n",
    "    n, p = size(X_complete)\n",
    "    println(\"error overall = $(sum(X_beagle .!= X_complete) / n / p) \\n\")\n",
    "end\n",
    "beagle()"
   ]
  },
  {
   "cell_type": "markdown",
   "metadata": {
    "collapsed": true
   },
   "source": [
    "# Eagle 2 + Minimac4\n",
    "\n",
    "In order to use the reference panel in Eagle 2's prephase option, one must first convert it to `.bcf` format via e.g. `htslib` which is *extremely* difficult to install. Even after we went through all the hard work to obtain the final `.bcf` reference file (see commands below), eagle 2.4 STILL SAYS the file is not acceptable (not bgzipped or some processing error). Therefore, I have no choice but to prephase without the reference panel. "
   ]
  },
  {
   "cell_type": "code",
   "execution_count": null,
   "metadata": {
    "collapsed": true
   },
   "outputs": [],
   "source": [
    "# THIS CHUNK OF CODE DID NOT WORK\n",
    "module load htslib/1.9                   # load htslib on hoffman\n",
    "gunzip ref.chr22.excludeTarget.vcf.gz    # unzip .vcf.gz\n",
    "bgzip ref.chr22.excludeTarget.vcf        # bgzip the vcf file\n",
    "bcftools index -f ref.chr22.excludeTarget.vcf.gz   # load some required index, not sure if needed\n",
    "bcftools view ref.chr22.excludeTarget.vcf > ref.chr22.excludeTarget.bcf # create .bcf -> CREATED FILE BUT says not bgzipped\n",
    "bgzip ref.chr22.excludeTarget.bcf       # try to bgzip .bcf file -> cannot do so"
   ]
  },
  {
   "cell_type": "code",
   "execution_count": null,
   "metadata": {
    "collapsed": true
   },
   "outputs": [],
   "source": [
    "# run eagle 2.4: 3367.79 sec on amd-2382 machine (can only run on linux systems)\n",
    "eagle --vcf=target.chr22.typedOnly.masked.vcf.gz --outPrefix=eagle.phased --numThreads=4 --geneticMapFile=../Eagle_v2.4.1/tables/genetic_map_hg19_withX.txt.gz"
   ]
  },
  {
   "cell_type": "code",
   "execution_count": null,
   "metadata": {
    "collapsed": true
   },
   "outputs": [],
   "source": [
    "# convert ref file to m3vcf format (Total Run completed in 1 hours, 46 mins, 24 seconds)\n",
    "/u/home/b/biona001/haplotype_comparisons/Minimac3/bin/Minimac3 --refHaps ref.chr22.excludeTarget.vcf.gz --processReference --prefix ref.chr22.excludeTarget"
   ]
  },
  {
   "cell_type": "code",
   "execution_count": null,
   "metadata": {
    "collapsed": true
   },
   "outputs": [],
   "source": [
    "# run minimac4 (2619 seconds)\n",
    "minimac4 --refHaps ref.chr22.excludeTarget.m3vcf.gz --haps eagle.phased.vcf.gz --prefix minimac.imputed.chr22 --format GT --cpus 4"
   ]
  },
  {
   "cell_type": "code",
   "execution_count": 3,
   "metadata": {
    "collapsed": false
   },
   "outputs": [
    {
     "name": "stdout",
     "output_type": "stream",
     "text": [
      "error overall = 0.003166693284171061 \n",
      "\n"
     ]
    }
   ],
   "source": [
    "# minimac4 error rate    \n",
    "X_complete = convert_gt(Float32, \"target.chr22.full.vcf.gz\")\n",
    "X_minimac = convert_gt(Float32, \"minimac.imputed.chr22.dose.vcf.gz\")\n",
    "n, p = size(X_complete)\n",
    "println(\"error overall = $(sum(X_minimac .!= X_complete) / n / p) \\n\")"
   ]
  },
  {
   "cell_type": "code",
   "execution_count": null,
   "metadata": {
    "collapsed": true
   },
   "outputs": [],
   "source": []
  }
 ],
 "metadata": {
  "@webio": {
   "lastCommId": null,
   "lastKernelId": null
  },
  "kernelspec": {
   "display_name": "Julia 1.3.0-rc4",
   "language": "julia",
   "name": "julia-1.3"
  },
  "language_info": {
   "file_extension": ".jl",
   "mimetype": "application/julia",
   "name": "julia",
   "version": "1.3.1"
  }
 },
 "nbformat": 4,
 "nbformat_minor": 2
}
