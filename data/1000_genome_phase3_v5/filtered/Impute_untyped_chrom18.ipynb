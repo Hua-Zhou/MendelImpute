{
 "cells": [
  {
   "cell_type": "markdown",
   "metadata": {},
   "source": [
    "# Test imputation on untyped SNPs chrom 18"
   ]
  },
  {
   "cell_type": "code",
   "execution_count": 1,
   "metadata": {
    "collapsed": false
   },
   "outputs": [
    {
     "name": "stderr",
     "output_type": "stream",
     "text": [
      "┌ Info: Precompiling MendelImpute [e47305d1-6a61-5370-bc5d-77554d143183]\n",
      "└ @ Base loading.jl:1273\n"
     ]
    }
   ],
   "source": [
    "using Revise\n",
    "using VCFTools\n",
    "using MendelImpute\n",
    "using GeneticVariation\n",
    "using Random\n",
    "using StatsBase\n",
    "using CodecZlib\n",
    "using ProgressMeter\n",
    "using JLD2, FileIO, JLSO\n",
    "using BenchmarkTools\n",
    "using GroupSlices\n",
    "using TimerOutputs\n",
    "using LinearAlgebra"
   ]
  },
  {
   "cell_type": "markdown",
   "metadata": {},
   "source": [
    "### Memory requirement\n",
    "\n",
    "**Prephasing step:** \n",
    "+ Target data requies $people * snps * 4$ bytes of RAM\n",
    "+ Reference haplotype data requires $haplotypes * snps$ bits of RAM\n",
    "+ Redundant haplotype set for imputation target requires roughly\n",
    "$people * windows * 1000$ (max haplotypes per win) $* 16 bytes$ of RAM"
   ]
  },
  {
   "cell_type": "markdown",
   "metadata": {},
   "source": [
    "## Generate subset of markers for prephasing"
   ]
  },
  {
   "cell_type": "code",
   "execution_count": 3,
   "metadata": {
    "collapsed": false,
    "scrolled": true
   },
   "outputs": [
    {
     "name": "stdout",
     "output_type": "stream",
     "text": [
      "752.076342 seconds (6.51 G allocations: 615.353 GiB, 7.01% gc time)\n"
     ]
    },
    {
     "name": "stderr",
     "output_type": "stream",
     "text": [
      "\u001b[32mProgress: 100%|█████████████████████████████████████████| Time: 0:08:17\u001b[39m\n"
     ]
    },
    {
     "name": "stdout",
     "output_type": "stream",
     "text": [
      "549.100648 seconds (6.86 G allocations: 650.723 GiB, 10.18% gc time)\n",
      "1139.017251 seconds (16.68 G allocations: 1.249 TiB, 10.94% gc time)\n",
      "599.893049 seconds (6.86 G allocations: 650.911 GiB, 10.61% gc time)\n",
      " 36.158916 seconds (267.39 M allocations: 27.452 GiB, 6.96% gc time)\n",
      "608.676819 seconds (6.83 G allocations: 648.780 GiB, 10.30% gc time)\n",
      " 35.610763 seconds (249.89 M allocations: 25.655 GiB, 6.86% gc time)\n",
      "560.687780 seconds (6.61 G allocations: 626.620 GiB, 10.27% gc time)\n",
      " 16.352906 seconds (119.38 M allocations: 12.252 GiB, 6.40% gc time)\n",
      "520.047088 seconds (6.51 G allocations: 615.447 GiB, 10.21% gc time)\n",
      "  8.014085 seconds (53.29 M allocations: 5.482 GiB, 5.36% gc time)\n",
      "516.890704 seconds (6.43 G allocations: 607.361 GiB, 10.60% gc time)\n",
      "  0.831218 seconds (5.35 M allocations: 563.018 MiB, 5.66% gc time)\n",
      "6410.931663 seconds (76.92 G allocations: 6.823 TiB, 10.06% gc time)\n"
     ]
    }
   ],
   "source": [
    "cd(\"/Users/biona001/.julia/dev/MendelImpute/data/1000_genome_phase3_v5/filtered\")\n",
    "function filter_and_mask()\n",
    "    for chr in [18]\n",
    "        # filter chromosome data for unique snps\n",
    "        data = \"../beagle_raw/chr$chr.1kg.phase3.v5a.vcf.gz\"\n",
    "        full_record_index = .!find_duplicate_marker(data)\n",
    "        @time VCFTools.filter(data, full_record_index, 1:nsamples(data), \n",
    "            des = \"chr$chr.uniqueSNPs.vcf.gz\")\n",
    "\n",
    "        # summarize data\n",
    "        total_snps, samples, _, _, _, maf_by_record, _ = gtstats(\"chr$chr.uniqueSNPs.vcf.gz\")\n",
    "\n",
    "        # generate target panel with all snps\n",
    "        n = 100\n",
    "        sample_idx = falses(samples)\n",
    "        sample_idx[1:n] .= true\n",
    "        shuffle!(sample_idx)\n",
    "        @time VCFTools.filter(\"chr$chr.uniqueSNPs.vcf.gz\", 1:total_snps, \n",
    "            sample_idx, des = \"target.chr$chr.full.vcf.gz\", allow_multiallelic=false)\n",
    "\n",
    "        # also generate reference panel without target samples\n",
    "        @time VCFTools.filter(\"chr$chr.uniqueSNPs.vcf.gz\", 1:total_snps, \n",
    "            .!sample_idx, des = \"ref.chr$chr.excludeTarget.vcf.gz\", allow_multiallelic=false)\n",
    "        \n",
    "        for maf in [0.0005, 0.001, 0.01, 0.1, 0.45]\n",
    "            \n",
    "            # generate target file with 100 samples and typed snps with certain maf\n",
    "            my_maf = findall(x -> x > maf, maf_by_record)  \n",
    "            p = length(my_maf)\n",
    "            record_idx = falses(total_snps)\n",
    "            record_idx[my_maf] .= true\n",
    "            @time VCFTools.filter(\"chr$chr.uniqueSNPs.vcf.gz\", record_idx, sample_idx, \n",
    "                des = \"target.chr$chr.typedOnly.maf$maf.vcf.gz\", allow_multiallelic=false)\n",
    "\n",
    "            # unphase and mask 1% entries in target file\n",
    "            masks = falses(p, n)\n",
    "            missingprop = 0.001\n",
    "            for j in 1:n, i in 1:p\n",
    "                rand() < missingprop && (masks[i, j] = true)\n",
    "            end\n",
    "            @time mask_gt(\"target.chr$chr.typedOnly.maf$maf.vcf.gz\", masks, \n",
    "                des=\"target.chr$chr.typedOnly.maf$maf.masked.vcf.gz\", unphase=true)\n",
    "        end\n",
    "    end \n",
    "end\n",
    "Random.seed!(2020)\n",
    "@time filter_and_mask()"
   ]
  },
  {
   "cell_type": "markdown",
   "metadata": {},
   "source": [
    "# Try jlso compression"
   ]
  },
  {
   "cell_type": "code",
   "execution_count": 3,
   "metadata": {
    "collapsed": false
   },
   "outputs": [
    {
     "name": "stderr",
     "output_type": "stream",
     "text": [
      "\u001b[32mimporting reference data...100%|████████████████████████| Time: 0:04:02\u001b[39m\n"
     ]
    },
    {
     "name": "stdout",
     "output_type": "stream",
     "text": [
      "284.710377 seconds (9.87 M allocations: 174.502 GiB, 7.98% gc time)\n",
      "178.516175 seconds (2.21 M allocations: 89.193 GiB, 5.91% gc time)\n",
      "138.308593 seconds (1.99 M allocations: 46.972 GiB, 5.17% gc time)\n",
      "112.405633 seconds (1.86 M allocations: 25.760 GiB, 3.65% gc time)\n",
      "103.946622 seconds (1.79 M allocations: 15.040 GiB, 2.40% gc time)\n",
      "107.580908 seconds (1.76 M allocations: 9.968 GiB, 1.42% gc time)\n",
      " 96.188280 seconds (1.83 M allocations: 20.970 GiB, 2.68% gc time)\n",
      " 93.829112 seconds (1.78 M allocations: 12.590 GiB, 2.97% gc time)\n",
      " 97.163965 seconds (1.75 M allocations: 8.556 GiB, 1.87% gc time)\n",
      " 96.925367 seconds (1.74 M allocations: 6.573 GiB, 1.51% gc time)\n",
      "111.183097 seconds (1.73 M allocations: 6.373 GiB, 1.26% gc time)\n",
      "117.908977 seconds (1.72 M allocations: 5.992 GiB, 1.79% gc time)\n"
     ]
    }
   ],
   "source": [
    "widths = [64, 128, 256, 512, 1024, 2048]\n",
    "mafs = [0.1, 0.45]\n",
    "\n",
    "reffile = \"ref.chr18.excludeTarget.vcf.gz\"\n",
    "H, H_sampleID, H_chr, H_pos, H_ids, H_ref, H_alt = convert_ht(Bool, reffile, trans=true, save_snp_info=true, msg=\"importing reference data...\")\n",
    "\n",
    "for maf in mafs\n",
    "    tgtfile = \"target.chr18.typedOnly.maf$maf.masked.vcf.gz\"\n",
    "    X, X_sampleID, X_chr, X_pos, X_ids, X_ref, X_alt = VCFTools.convert_gt(UInt8, tgtfile, trans=true, save_snp_info=true, msg = \"Importing genotype file...\")\n",
    "    for width in widths\n",
    "        outfile = \"ref.chr18.$width.maf$maf.excludeTarget.jlso\"\n",
    "        @time compress_haplotypes(H, X, outfile, X_pos, H_sampleID, H_chr, H_pos, H_ids, H_ref, H_alt, width)\n",
    "    end\n",
    "end"
   ]
  },
  {
   "cell_type": "code",
   "execution_count": 129,
   "metadata": {
    "collapsed": false
   },
   "outputs": [
    {
     "name": "stderr",
     "output_type": "stream",
     "text": [
      "\u001b[32mimporting reference data...100%|████████████████████████| Time: 0:07:05\u001b[39m\n"
     ]
    },
    {
     "name": "stdout",
     "output_type": "stream",
     "text": [
      "147.792776 seconds (15.59 M allocations: 26.415 GiB, 14.38% gc time)\n"
     ]
    }
   ],
   "source": [
    "widths = [512]\n",
    "mafs = [0.1]\n",
    "\n",
    "reffile = \"ref.chr18.excludeTarget.vcf.gz\"\n",
    "H, H_sampleID, H_chr, H_pos, H_ids, H_ref, H_alt = convert_ht(Bool, reffile, trans=true, save_snp_info=true, msg=\"importing reference data...\")\n",
    "\n",
    "for maf in mafs\n",
    "    tgtfile = \"target.chr18.typedOnly.maf$maf.masked.vcf.gz\"\n",
    "    X, X_sampleID, X_chr, X_pos, X_ids, X_ref, X_alt = VCFTools.convert_gt(UInt8, tgtfile, trans=true, save_snp_info=true, msg = \"Importing genotype file...\")\n",
    "    for width in widths\n",
    "        outfile = \"ref.chr18.$width.maf$maf.excludeTarget.jlso\"\n",
    "        @time compress_haplotypes(H, X, outfile, X_pos, H_sampleID, H_chr, H_pos, H_ids, H_ref, H_alt, width)\n",
    "    end\n",
    "end"
   ]
  },
  {
   "cell_type": "code",
   "execution_count": 11,
   "metadata": {
    "collapsed": false
   },
   "outputs": [
    {
     "name": "stdout",
     "output_type": "stream",
     "text": [
      "-rw-r--r--@ 1 biona001  staff  247072174 May 19 23:43 ref.chr18.excludeTarget.vcf.gz\n"
     ]
    }
   ],
   "source": [
    ";ls -al ref.chr18.excludeTarget.vcf.gz"
   ]
  },
  {
   "cell_type": "code",
   "execution_count": 4,
   "metadata": {
    "collapsed": false
   },
   "outputs": [
    {
     "name": "stdout",
     "output_type": "stream",
     "text": [
      "-rw-r--r--  1 biona001  staff  274061616 Jun 19 22:39 ref.chr18.2048.maf0.45.excludeTarget.jlso\n"
     ]
    }
   ],
   "source": [
    ";ls -al ref.chr18.2048.maf0.45.excludeTarget.jlso"
   ]
  },
  {
   "cell_type": "code",
   "execution_count": 6,
   "metadata": {
    "collapsed": false
   },
   "outputs": [
    {
     "name": "stdout",
     "output_type": "stream",
     "text": [
      "-rw-r--r--  1 biona001  staff  259888540 Jun 19 22:37 ref.chr18.1024.maf0.45.excludeTarget.jlso\n"
     ]
    }
   ],
   "source": [
    ";ls -al ref.chr18.1024.maf0.45.excludeTarget.jlso"
   ]
  },
  {
   "cell_type": "code",
   "execution_count": 7,
   "metadata": {
    "collapsed": false
   },
   "outputs": [
    {
     "name": "stdout",
     "output_type": "stream",
     "text": [
      "-rw-r--r--  1 biona001  staff  189521433 Jun 19 22:36 ref.chr18.512.maf0.45.excludeTarget.jlso\n"
     ]
    }
   ],
   "source": [
    ";ls -al ref.chr18.512.maf0.45.excludeTarget.jlso"
   ]
  },
  {
   "cell_type": "code",
   "execution_count": 8,
   "metadata": {
    "collapsed": false
   },
   "outputs": [
    {
     "name": "stdout",
     "output_type": "stream",
     "text": [
      "-rw-r--r--  1 biona001  staff  169514463 Jun 19 22:34 ref.chr18.256.maf0.45.excludeTarget.jlso\n"
     ]
    }
   ],
   "source": [
    ";ls -al ref.chr18.256.maf0.45.excludeTarget.jlso"
   ]
  },
  {
   "cell_type": "code",
   "execution_count": 9,
   "metadata": {
    "collapsed": false
   },
   "outputs": [
    {
     "name": "stdout",
     "output_type": "stream",
     "text": [
      "-rw-r--r--  1 biona001  staff  143137236 Jun 19 22:32 ref.chr18.128.maf0.45.excludeTarget.jlso\n"
     ]
    }
   ],
   "source": [
    ";ls -al ref.chr18.128.maf0.45.excludeTarget.jlso"
   ]
  },
  {
   "cell_type": "code",
   "execution_count": 10,
   "metadata": {
    "collapsed": false
   },
   "outputs": [
    {
     "name": "stdout",
     "output_type": "stream",
     "text": [
      "-rw-r--r--  1 biona001  staff  122370280 Jun 19 22:31 ref.chr18.64.maf0.45.excludeTarget.jlso\n"
     ]
    }
   ],
   "source": [
    ";ls -al ref.chr18.64.maf0.45.excludeTarget.jlso"
   ]
  },
  {
   "cell_type": "code",
   "execution_count": 5,
   "metadata": {
    "collapsed": false
   },
   "outputs": [
    {
     "name": "stdout",
     "output_type": "stream",
     "text": [
      "-rw-r--r--  1 biona001  staff  182197211 Jun 19 22:29 ref.chr18.2048.maf0.1.excludeTarget.jlso\n"
     ]
    }
   ],
   "source": [
    ";ls -al ref.chr18.2048.maf0.1.excludeTarget.jlso"
   ]
  },
  {
   "cell_type": "code",
   "execution_count": 12,
   "metadata": {
    "collapsed": false
   },
   "outputs": [
    {
     "name": "stdout",
     "output_type": "stream",
     "text": [
      "-rw-r--r--  1 biona001  staff  147319546 Jun 19 22:27 ref.chr18.1024.maf0.1.excludeTarget.jlso\n"
     ]
    }
   ],
   "source": [
    ";ls -al ref.chr18.1024.maf0.1.excludeTarget.jlso"
   ]
  },
  {
   "cell_type": "code",
   "execution_count": 130,
   "metadata": {
    "collapsed": false
   },
   "outputs": [
    {
     "name": "stdout",
     "output_type": "stream",
     "text": [
      "-rw-r--r--  1 biona001  staff  124899593 Jun 22 21:01 ref.chr18.512.maf0.1.excludeTarget.jlso\n"
     ]
    }
   ],
   "source": [
    ";ls -al ref.chr18.512.maf0.1.excludeTarget.jlso"
   ]
  },
  {
   "cell_type": "code",
   "execution_count": 14,
   "metadata": {
    "collapsed": false
   },
   "outputs": [
    {
     "name": "stdout",
     "output_type": "stream",
     "text": [
      "-rw-r--r--  1 biona001  staff  108411897 Jun 19 22:24 ref.chr18.256.maf0.1.excludeTarget.jlso\n"
     ]
    }
   ],
   "source": [
    ";ls -al ref.chr18.256.maf0.1.excludeTarget.jlso"
   ]
  },
  {
   "cell_type": "code",
   "execution_count": 15,
   "metadata": {
    "collapsed": false
   },
   "outputs": [
    {
     "name": "stdout",
     "output_type": "stream",
     "text": [
      "-rw-r--r--  1 biona001  staff  105229905 Jun 19 22:22 ref.chr18.128.maf0.1.excludeTarget.jlso\n"
     ]
    }
   ],
   "source": [
    ";ls -al ref.chr18.128.maf0.1.excludeTarget.jlso"
   ]
  },
  {
   "cell_type": "code",
   "execution_count": 16,
   "metadata": {
    "collapsed": false
   },
   "outputs": [
    {
     "name": "stdout",
     "output_type": "stream",
     "text": [
      "-rw-r--r--  1 biona001  staff  116959455 Jun 19 22:19 ref.chr18.64.maf0.1.excludeTarget.jlso\n"
     ]
    }
   ],
   "source": [
    ";ls -al ref.chr18.64.maf0.1.excludeTarget.jlso"
   ]
  },
  {
   "cell_type": "markdown",
   "metadata": {},
   "source": [
    "# Haplotype Thinning"
   ]
  },
  {
   "cell_type": "code",
   "execution_count": 2,
   "metadata": {
    "collapsed": false
   },
   "outputs": [
    {
     "data": {
      "text/plain": [
       "8"
      ]
     },
     "execution_count": 2,
     "metadata": {},
     "output_type": "execute_result"
    }
   ],
   "source": [
    "Threads.nthreads()"
   ]
  },
  {
   "cell_type": "code",
   "execution_count": 3,
   "metadata": {
    "collapsed": false
   },
   "outputs": [
    {
     "name": "stderr",
     "output_type": "stream",
     "text": [
      "\u001b[32mComputing optimal haplotype pairs...100%|███████████████| Time: 0:00:20\u001b[39m\n"
     ]
    },
    {
     "name": "stdout",
     "output_type": "stream",
     "text": [
      "Each window have ~ 4206 unique haplotypes on average\n"
     ]
    },
    {
     "name": "stderr",
     "output_type": "stream",
     "text": [
      "\u001b[32mWriting to file...100%|█████████████████████████████████| Time: 0:00:05\u001b[39m\n"
     ]
    },
    {
     "name": "stdout",
     "output_type": "stream",
     "text": [
      "Data import time                    = 10.2285 seconds\n",
      "Computing haplotype pair time       = 20.9888 seconds\n",
      "Phasing by dynamic programming time = 0.962151 seconds\n",
      "Imputing time                       = 7.64746 seconds\n",
      " 61.483484 seconds (316.41 M allocations: 22.896 GiB, 7.52% gc time)\n",
      "error overall = 0.015155699845883544 \n",
      "\n"
     ]
    }
   ],
   "source": [
    "# 8 threads, hamming, search top 100 unique haplotypes per window\n",
    "Random.seed!(2020)\n",
    "chr = 18\n",
    "maf = 0.1\n",
    "width = 2000\n",
    "tgtfile = \"target.chr$chr.typedOnly.maf$maf.masked.vcf.gz\"\n",
    "reffile = \"ref.$width.chr18.excludeTarget.jlso\"\n",
    "outfile = \"mendel.imputed.dp$width.maf$maf.vcf.gz\"\n",
    "@time ph, hs = phase(tgtfile, reffile, outfile=outfile, impute=true, width=width)\n",
    "\n",
    "X_complete = convert_gt(UInt8, \"target.chr18.full.vcf.gz\")\n",
    "n, p = size(X_complete)\n",
    "X_mendel = convert_gt(UInt8, outfile)\n",
    "println(\"error overall = $(sum(X_mendel .!= X_complete) / n / p) \\n\")"
   ]
  },
  {
   "cell_type": "code",
   "execution_count": 6,
   "metadata": {
    "collapsed": false
   },
   "outputs": [
    {
     "name": "stderr",
     "output_type": "stream",
     "text": [
      "\u001b[32mComputing optimal haplotype pairs...100%|███████████████| Time: 0:01:56\u001b[39m\n"
     ]
    },
    {
     "name": "stdout",
     "output_type": "stream",
     "text": [
      "Each window have ~ 4206 unique haplotypes on average\n"
     ]
    },
    {
     "name": "stderr",
     "output_type": "stream",
     "text": [
      "\u001b[32mWriting to file...100%|█████████████████████████████████| Time: 0:00:05\u001b[39m\n"
     ]
    },
    {
     "name": "stdout",
     "output_type": "stream",
     "text": [
      "Data import time                    = 8.30653 seconds\n",
      "Computing haplotype pair time       = 116.482 seconds\n",
      "Phasing by dynamic programming time = 0.150957 seconds\n",
      "Imputing time                       = 7.68015 seconds\n",
      "132.606046 seconds (231.05 M allocations: 20.794 GiB, 4.15% gc time)\n",
      "error overall = 0.009443362788264631 \n",
      "\n"
     ]
    }
   ],
   "source": [
    "# 8 threads, hamming, search top 1000 unique haplotypes per window\n",
    "Random.seed!(2020)\n",
    "chr = 18\n",
    "maf = 0.1\n",
    "width = 2000\n",
    "tgtfile = \"target.chr$chr.typedOnly.maf$maf.masked.vcf.gz\"\n",
    "reffile = \"ref.$width.chr18.excludeTarget.jlso\"\n",
    "outfile = \"mendel.imputed.dp$width.maf$maf.vcf.gz\"\n",
    "@time ph, hs = phase(tgtfile, reffile, outfile=outfile, impute=true, width=width)\n",
    "\n",
    "X_complete = convert_gt(UInt8, \"target.chr18.full.vcf.gz\")\n",
    "n, p = size(X_complete)\n",
    "X_mendel = convert_gt(UInt8, outfile)\n",
    "println(\"error overall = $(sum(X_mendel .!= X_complete) / n / p) \\n\")"
   ]
  },
  {
   "cell_type": "code",
   "execution_count": 4,
   "metadata": {
    "collapsed": false
   },
   "outputs": [
    {
     "name": "stderr",
     "output_type": "stream",
     "text": [
      "\u001b[32mComputing optimal haplotype pairs...100%|███████████████| Time: 0:01:56\u001b[39m\n",
      "\u001b[32mWriting to file...100%|█████████████████████████████████| Time: 0:00:06\u001b[39m\n"
     ]
    },
    {
     "name": "stdout",
     "output_type": "stream",
     "text": [
      "Total window = 426, each with ~ 4206 unique haplotypes on avg\n",
      "Data import time                    = 9.03808 seconds\n",
      "Computing haplotype pair time       = 116.16 seconds\n",
      "    BLAS3 mul! to get M and N           = 102.169 seconds (on thread 1)\n",
      "    haplopair search                    = 7.02312 seconds (on thread 1)\n",
      "    supplying constant terms            = 0.00553182 seconds (on thread 1)\n",
      "    finding redundant happairs          = 0.0778568 seconds (on thread 1)\n",
      "Phasing by dynamic programming time = 0.247162 seconds\n",
      "Imputing time                       = 8.84356 seconds\n",
      "134.422072 seconds (54.62 M allocations: 12.249 GiB, 3.16% gc time)\n",
      "error overall = 0.007742639590336406 \n",
      "\n"
     ]
    }
   ],
   "source": [
    "# 8 threads, euclidean, search top 1000 unique haplotypes per window\n",
    "Random.seed!(2020)\n",
    "chr = 18\n",
    "maf = 0.1\n",
    "width = 2000\n",
    "tgtfile = \"target.chr$chr.typedOnly.maf$maf.masked.vcf.gz\"\n",
    "reffile = \"ref.$width.chr18.excludeTarget.jlso\"\n",
    "outfile = \"mendel.imputed.dp$width.maf$maf.vcf.gz\"\n",
    "@time ph, hs = phase(tgtfile, reffile, outfile=outfile, impute=true, width=width)\n",
    "\n",
    "X_complete = convert_gt(UInt8, \"target.chr18.full.vcf.gz\")\n",
    "n, p = size(X_complete)\n",
    "X_mendel = convert_gt(UInt8, outfile)\n",
    "println(\"error overall = $(sum(X_mendel .!= X_complete) / n / p) \\n\")"
   ]
  },
  {
   "cell_type": "code",
   "execution_count": 3,
   "metadata": {
    "collapsed": false
   },
   "outputs": [
    {
     "name": "stderr",
     "output_type": "stream",
     "text": [
      "\u001b[32mComputing optimal haplotype pairs...100%|███████████████| Time: 0:00:08\u001b[39m\n"
     ]
    },
    {
     "name": "stdout",
     "output_type": "stream",
     "text": [
      "Each window have ~ 4206 unique haplotypes on average\n"
     ]
    },
    {
     "name": "stderr",
     "output_type": "stream",
     "text": [
      "\u001b[32mWriting to file...100%|█████████████████████████████████| Time: 0:00:05\u001b[39m\n"
     ]
    },
    {
     "name": "stdout",
     "output_type": "stream",
     "text": [
      "Data import time                    = 8.4482 seconds\n",
      "Computing haplotype pair time       = 8.34869 seconds\n",
      "Phasing by dynamic programming time = 0.16332 seconds\n",
      "Imputing time                       = 7.12257 seconds\n",
      " 24.160206 seconds (54.39 M allocations: 10.095 GiB, 14.30% gc time)\n",
      "error overall = 0.012632811088878516 \n",
      "\n"
     ]
    }
   ],
   "source": [
    "# 8 threads, euclidean, search top 100 unique haplotypes per window\n",
    "Random.seed!(2020)\n",
    "chr = 18\n",
    "maf = 0.1\n",
    "width = 2000\n",
    "tgtfile = \"target.chr$chr.typedOnly.maf$maf.masked.vcf.gz\"\n",
    "reffile = \"ref.$width.chr18.excludeTarget.jlso\"\n",
    "outfile = \"mendel.imputed.dp$width.maf$maf.vcf.gz\"\n",
    "@time ph, hs = phase(tgtfile, reffile, outfile=outfile, impute=true, width=width)\n",
    "\n",
    "X_complete = convert_gt(UInt8, \"target.chr18.full.vcf.gz\")\n",
    "n, p = size(X_complete)\n",
    "X_mendel = convert_gt(UInt8, outfile)\n",
    "println(\"error overall = $(sum(X_mendel .!= X_complete) / n / p) \\n\")"
   ]
  },
  {
   "cell_type": "markdown",
   "metadata": {},
   "source": [
    "# MendelImpute error rate and speed"
   ]
  },
  {
   "cell_type": "code",
   "execution_count": 131,
   "metadata": {
    "collapsed": false
   },
   "outputs": [
    {
     "data": {
      "text/plain": [
       "8"
      ]
     },
     "execution_count": 131,
     "metadata": {},
     "output_type": "execute_result"
    }
   ],
   "source": [
    "Threads.nthreads()"
   ]
  },
  {
   "cell_type": "code",
   "execution_count": 132,
   "metadata": {
    "collapsed": false
   },
   "outputs": [
    {
     "name": "stderr",
     "output_type": "stream",
     "text": [
      "\u001b[32mImporting genotype file...100%|█████████████████████████| Time: 0:00:06\u001b[39m\n",
      "\u001b[32mComputing optimal haplotype pairs...100%|███████████████| Time: 0:01:51\u001b[39m\n",
      "\u001b[32mWriting to file...100%|█████████████████████████████████| Time: 0:00:05\u001b[39m\n"
     ]
    },
    {
     "name": "stdout",
     "output_type": "stream",
     "text": [
      "Total windows = 331, averaging ~ 4096 unique haplotypes per window.\n",
      "\n",
      "Timings: \n",
      "    Data import                     = 15.1827 seconds\n",
      "    Computing haplotype pair        = 111.942 seconds\n",
      "        BLAS3 mul! to get M and N      = 11.4561 seconds (on thread 1)\n",
      "        haplopair search               = 38.4227 seconds (on thread 1)\n",
      "        supplying constant terms       = 0.00239734 seconds (on thread 1)\n",
      "        finding redundant happairs     = 0.0444248 seconds (on thread 1)\n",
      "    Phasing by dynamic programming  = 0.183461 seconds\n",
      "    Imputation                      = 124.245 seconds\n",
      "\n",
      "251.544015 seconds (1.29 G allocations: 52.105 GiB, 20.01% gc time)\n",
      "error overall = 0.006573465696772938 \n",
      "\n"
     ]
    }
   ],
   "source": [
    "# 8 threads, keep best happair\n",
    "Random.seed!(2020)\n",
    "chr = 18\n",
    "maf = 0.1\n",
    "width = 512\n",
    "tgtfile = \"target.chr$chr.typedOnly.maf$maf.masked.vcf.gz\"\n",
    "reffile = \"ref.chr18.$width.maf$maf.excludeTarget.jlso\"\n",
    "outfile = \"mendel.imputed.dp$width.maf$maf.vcf.gz\"\n",
    "@time ph, hs = phase(tgtfile, reffile, outfile=outfile, impute=true, width=width)\n",
    "\n",
    "X_complete = convert_gt(UInt8, \"target.chr18.full.vcf.gz\")\n",
    "n, p = size(X_complete)\n",
    "X_mendel = convert_gt(UInt8, outfile)\n",
    "println(\"error overall = $(sum(X_mendel .!= X_complete) / n / p) \\n\")"
   ]
  },
  {
   "cell_type": "code",
   "execution_count": 4,
   "metadata": {
    "collapsed": false
   },
   "outputs": [],
   "source": [
    "loaded = JLSO.load(reffile)\n",
    "compressed_Hunique = loaded[:compressed_Hunique]\n",
    "X, X_sampleID, X_chr, X_pos, X_ids, X_ref, X_alt = VCFTools.convert_gt(UInt8, tgtfile, trans=true, save_snp_info=true, msg = \"Importing genotype file...\")\n",
    "\n",
    "people = size(X, 2)\n",
    "tgt_snps = size(X, 1)\n",
    "ref_snps = length(compressed_Hunique.pos)\n",
    "windows = floor(Int, tgt_snps / width)\n",
    "\n",
    "redundant_haplotypes = [[Tuple{Int, Int}[] for i in 1:windows] for j in 1:people]\n",
    "[[sizehint!(redundant_haplotypes[j][i], 1000) for i in 1:windows] for j in 1:people] # don't save >1000 redundant happairs\n",
    "Threads.@threads for w in 1:windows\n",
    "    Hw_aligned = compressed_Hunique.CW_typed[w].uniqueH\n",
    "    Xw_idx_start = (w - 1) * width + 1\n",
    "    Xw_idx_end = (w == windows ? length(X_pos) : w * width)\n",
    "    Xw_aligned = X[Xw_idx_start:Xw_idx_end, :]\n",
    "\n",
    "    # computational routine\n",
    "    happairs, hapscore, t1, t2, t3 = haplopair(Xw_aligned, Hw_aligned)\n",
    "    # happairs, hapscore, t1, t2, t3 = (size(Hw_aligned, 2) < 1000 ? haplopair(Xw_aligned, Hw_aligned) :  \n",
    "    #     haplopair_thin(Xw_aligned, Hw_aligned, keep=1000))\n",
    "\n",
    "    # convert happairs (which index off unique haplotypes) to indices of full haplotype pool, and find all matching happairs\n",
    "    t4 = @elapsed compute_redundant_haplotypes!(redundant_haplotypes, compressed_Hunique, happairs, w)\n",
    "end"
   ]
  },
  {
   "cell_type": "code",
   "execution_count": 105,
   "metadata": {
    "collapsed": false
   },
   "outputs": [],
   "source": [
    "ph = [HaplotypeMosaicPair(ref_snps) for i in 1:people]\n",
    "phase!(ph, X, compressed_Hunique, redundant_haplotypes, X_pos)\n",
    "H_pos = compressed_Hunique.pos\n",
    "XtoH_idx = indexin(X_pos, H_pos) \n",
    "X_full = Matrix{Union{Missing, UInt8}}(missing, ref_snps, people)\n",
    "copyto!(@view(X_full[XtoH_idx, :]), X);\n",
    "\n",
    "# convert phase's starting position from X's index to H's index\n",
    "update_marker_position!(ph, XtoH_idx)"
   ]
  },
  {
   "cell_type": "code",
   "execution_count": 106,
   "metadata": {
    "collapsed": false
   },
   "outputs": [
    {
     "data": {
      "text/plain": [
       "331-element Array{Int64,1}:\n",
       "      1\n",
       "   2019\n",
       "   4127\n",
       "   6069\n",
       "   8036\n",
       "   9846\n",
       "  11491\n",
       "  14129\n",
       "  17110\n",
       "  18971\n",
       "  20741\n",
       "  22658\n",
       "  24090\n",
       "      ⋮\n",
       " 820783\n",
       " 822695\n",
       " 824838\n",
       " 827284\n",
       " 830200\n",
       " 833013\n",
       " 835300\n",
       " 837797\n",
       " 840844\n",
       " 843956\n",
       " 846872\n",
       " 849108"
      ]
     },
     "execution_count": 106,
     "metadata": {},
     "output_type": "execute_result"
    }
   ],
   "source": [
    "ph[1].strand1.start"
   ]
  },
  {
   "cell_type": "code",
   "execution_count": 78,
   "metadata": {
    "collapsed": false
   },
   "outputs": [
    {
     "name": "stdout",
     "output_type": "stream",
     "text": [
      "h1 = (ph[person]).strand1.haplotypelabel[hap1_segment] = 117\n",
      "h2 = (ph[person]).strand2.haplotypelabel[hap2_segment] = 854\n",
      "w1 = (ph[person]).strand1.window[hap1_segment] = 1\n",
      "w2 = (ph[person]).strand2.window[hap2_segment] = 1\n",
      "i1 = (snp - first(compressed_Hunique.CWrange[w1])) + 1 = 1321\n",
      "i2 = (snp - first(compressed_Hunique.CWrange[w2])) + 1 = 1321\n"
     ]
    },
    {
     "data": {
      "text/plain": [
       "0"
      ]
     },
     "execution_count": 78,
     "metadata": {},
     "output_type": "execute_result"
    }
   ],
   "source": [
    "person = 1\n",
    "snp = 1321\n",
    "hap1_segment = searchsortedlast(ph[person].strand1.start, snp)\n",
    "hap2_segment = searchsortedlast(ph[person].strand2.start, snp)\n",
    "hap1_segment, hap2_segment\n",
    "\n",
    "@show h1 = ph[person].strand1.haplotypelabel[hap1_segment]\n",
    "@show h2 = ph[person].strand2.haplotypelabel[hap2_segment]\n",
    "@show w1 = ph[person].strand1.window[hap1_segment]\n",
    "@show w2 = ph[person].strand2.window[hap2_segment]\n",
    "@show i1 = snp - first(compressed_Hunique.CWrange[w1]) + 1\n",
    "@show i2 = snp - first(compressed_Hunique.CWrange[w2]) + 1\n",
    "\n",
    "\n",
    "H1 = compressed_Hunique.CW[w1].uniqueH\n",
    "H2 = compressed_Hunique.CW[w2].uniqueH\n",
    "X_full[snp, person] = H1[i1, h1] + H2[i2, h2]"
   ]
  },
  {
   "cell_type": "code",
   "execution_count": 127,
   "metadata": {
    "collapsed": false
   },
   "outputs": [
    {
     "data": {
      "text/plain": [
       "2018"
      ]
     },
     "execution_count": 127,
     "metadata": {},
     "output_type": "execute_result"
    }
   ],
   "source": [
    "ref_snps = size(H, 1)\n",
    "tgt_snps = size(X, 1)\n",
    "windows = floor(Int, tgt_snps / width)\n",
    "Hw_idx_start = 1\n",
    "w = 1\n",
    "Xw_idx_start = (w - 1) * width + 1\n",
    "Xw_idx_end = (w == windows ? length(X_pos) : w * width)\n",
    "Xw_pos_end = X_pos[Xw_idx_end]\n",
    "Xw_pos_next = X_pos[w * width + 1]\n",
    "Hw_idx_end = (w == windows ? length(H_pos) : \n",
    "    something(findnext(x -> x == Xw_pos_next, H_pos, Hw_idx_start)) - 1)\n",
    "\n",
    "\n"
   ]
  },
  {
   "cell_type": "code",
   "execution_count": 125,
   "metadata": {
    "collapsed": false
   },
   "outputs": [
    {
     "data": {
      "text/plain": [
       "194055"
      ]
     },
     "execution_count": 125,
     "metadata": {},
     "output_type": "execute_result"
    }
   ],
   "source": [
    "X_pos[512]"
   ]
  },
  {
   "cell_type": "code",
   "execution_count": 119,
   "metadata": {
    "collapsed": false
   },
   "outputs": [
    {
     "data": {
      "text/plain": [
       "16444"
      ]
     },
     "execution_count": 119,
     "metadata": {},
     "output_type": "execute_result"
    }
   ],
   "source": [
    "Xw_pos_next"
   ]
  },
  {
   "cell_type": "code",
   "execution_count": 121,
   "metadata": {
    "collapsed": false
   },
   "outputs": [
    {
     "data": {
      "text/plain": [
       "16444"
      ]
     },
     "execution_count": 121,
     "metadata": {},
     "output_type": "execute_result"
    }
   ],
   "source": [
    "H_pos[78]"
   ]
  },
  {
   "cell_type": "code",
   "execution_count": 118,
   "metadata": {
    "collapsed": false
   },
   "outputs": [
    {
     "data": {
      "text/plain": [
       "78"
      ]
     },
     "execution_count": 118,
     "metadata": {},
     "output_type": "execute_result"
    }
   ],
   "source": [
    "something(findnext(x -> x == Xw_pos_next, H_pos, Hw_idx_start))"
   ]
  },
  {
   "cell_type": "code",
   "execution_count": 114,
   "metadata": {
    "collapsed": false
   },
   "outputs": [
    {
     "ename": "ArgumentError",
     "evalue": "ArgumentError: No value arguments present",
     "output_type": "error",
     "traceback": [
      "ArgumentError: No value arguments present",
      "",
      "Stacktrace:",
      " [1] something() at ./some.jl:92",
      " [2] something(::Nothing) at ./some.jl:93",
      " [3] top-level scope at In[114]:1"
     ]
    }
   ],
   "source": [
    "something(findnext(x -> x == Xw_idx_next_start, H_pos, Hw_idx_start))"
   ]
  },
  {
   "cell_type": "code",
   "execution_count": 115,
   "metadata": {
    "collapsed": false
   },
   "outputs": [
    {
     "data": {
      "text/plain": [
       "513"
      ]
     },
     "execution_count": 115,
     "metadata": {},
     "output_type": "execute_result"
    }
   ],
   "source": [
    "Xw_idx_next_start"
   ]
  },
  {
   "cell_type": "code",
   "execution_count": 96,
   "metadata": {
    "collapsed": false
   },
   "outputs": [
    {
     "data": {
      "text/plain": [
       "331-element Array{Int64,1}:\n",
       "      1\n",
       "   2019\n",
       "   4127\n",
       "   6069\n",
       "   8036\n",
       "   9846\n",
       "  11491\n",
       "  14129\n",
       "  17110\n",
       "  18971\n",
       "  20741\n",
       "  22658\n",
       "  24090\n",
       "      ⋮\n",
       " 820783\n",
       " 822695\n",
       " 824838\n",
       " 827284\n",
       " 830200\n",
       " 833013\n",
       " 835300\n",
       " 837797\n",
       " 840844\n",
       " 843956\n",
       " 846872\n",
       " 849108"
      ]
     },
     "execution_count": 96,
     "metadata": {},
     "output_type": "execute_result"
    }
   ],
   "source": [
    "ph[1].strand1.start"
   ]
  },
  {
   "cell_type": "code",
   "execution_count": 94,
   "metadata": {
    "collapsed": false
   },
   "outputs": [
    {
     "name": "stdout",
     "output_type": "stream",
     "text": [
      "snp = 2012, person = 1\n",
      "h1 = 117, h2 = 854, w1 = 1, w2 = 1, i1 = 2012, i2 = 2012\n",
      "size(H1) = (2011, 4801)\n",
      "size(H2) = (2011, 4801)\n"
     ]
    },
    {
     "ename": "ErrorException",
     "evalue": "hi",
     "output_type": "error",
     "traceback": [
      "hi",
      "",
      "Stacktrace:",
      " [1] error(::String) at ./error.jl:33",
      " [2] top-level scope at ./In[94]:43"
     ]
    }
   ],
   "source": [
    "p, n = size(X)\n",
    "\n",
    "@inbounds for person in 1:n, snp in 1:p\n",
    "    if ismissing(X_full[snp, person])\n",
    "        try\n",
    "            #find which segment the snp is located\n",
    "            hap1_segment = searchsortedlast(ph[person].strand1.start, snp)\n",
    "            hap2_segment = searchsortedlast(ph[person].strand2.start, snp)\n",
    "\n",
    "            #find haplotype pair in corresponding window for this segment\n",
    "            h1 = ph[person].strand1.haplotypelabel[hap1_segment]\n",
    "            h2 = ph[person].strand2.haplotypelabel[hap2_segment]\n",
    "            w1 = ph[person].strand1.window[hap1_segment]\n",
    "            w2 = ph[person].strand2.window[hap2_segment]\n",
    "            i1 = snp - first(compressed_Hunique.CWrange[w1]) + 1\n",
    "            i2 = snp - first(compressed_Hunique.CWrange[w2]) + 1\n",
    "\n",
    "            # imputation step\n",
    "            H1 = compressed_Hunique.CW[w1].uniqueH\n",
    "            H2 = compressed_Hunique.CW[w2].uniqueH\n",
    "            X_full[snp, person] = H1[i1, h1] + H2[i2, h2]\n",
    "        catch\n",
    "            #find which segment the snp is located\n",
    "            hap1_segment = searchsortedlast(ph[person].strand1.start, snp)\n",
    "            hap2_segment = searchsortedlast(ph[person].strand2.start, snp)\n",
    "\n",
    "            #find haplotype pair in corresponding window for this segment\n",
    "            h1 = ph[person].strand1.haplotypelabel[hap1_segment]\n",
    "            h2 = ph[person].strand2.haplotypelabel[hap2_segment]\n",
    "            w1 = ph[person].strand1.window[hap1_segment]\n",
    "            w2 = ph[person].strand2.window[hap2_segment]\n",
    "            i1 = snp - first(compressed_Hunique.CWrange[w1]) + 1\n",
    "            i2 = snp - first(compressed_Hunique.CWrange[w2]) + 1\n",
    "\n",
    "            # imputation step\n",
    "            H1 = compressed_Hunique.CW[w1].uniqueH\n",
    "            H2 = compressed_Hunique.CW[w2].uniqueH\n",
    "            \n",
    "            println(\"snp = $snp, person = $person\")\n",
    "            println(\"h1 = $h1, h2 = $h2, w1 = $w1, w2 = $w2, i1 = $i1, i2 = $i2\")\n",
    "            println(\"size(H1) = $(size(H1))\")\n",
    "            println(\"size(H2) = $(size(H2))\")\n",
    "            error(\"hi\")\n",
    "        end\n",
    "    end\n",
    "end"
   ]
  },
  {
   "cell_type": "code",
   "execution_count": 95,
   "metadata": {
    "collapsed": false
   },
   "outputs": [
    {
     "data": {
      "text/plain": [
       "1:2011"
      ]
     },
     "execution_count": 95,
     "metadata": {},
     "output_type": "execute_result"
    }
   ],
   "source": [
    "compressed_Hunique.CWrange[1]"
   ]
  },
  {
   "cell_type": "code",
   "execution_count": 30,
   "metadata": {
    "collapsed": false
   },
   "outputs": [
    {
     "name": "stderr",
     "output_type": "stream",
     "text": [
      "\u001b[32mimporting H100%|████████████████████████████████████████| Time: 0:04:08\u001b[39m\n"
     ]
    }
   ],
   "source": [
    "H = convert_ht(Bool, \"ref.chr18.excludeTarget.vcf.gz\", trans=true, msg=\"importing H\");"
   ]
  },
  {
   "cell_type": "code",
   "execution_count": 46,
   "metadata": {
    "collapsed": false
   },
   "outputs": [
    {
     "data": {
      "text/plain": [
       "true"
      ]
     },
     "execution_count": 46,
     "metadata": {},
     "output_type": "execute_result"
    }
   ],
   "source": [
    "all(H[1:2011, 2767] .== compressed_Hunique.CW[1].uniqueH[:, 2764])"
   ]
  },
  {
   "cell_type": "code",
   "execution_count": 45,
   "metadata": {
    "collapsed": false
   },
   "outputs": [
    {
     "data": {
      "text/plain": [
       "(2767, 2764)"
      ]
     },
     "execution_count": 45,
     "metadata": {},
     "output_type": "execute_result"
    }
   ],
   "source": [
    "sol_path[id][1][1], h1"
   ]
  },
  {
   "cell_type": "code",
   "execution_count": 43,
   "metadata": {
    "collapsed": false
   },
   "outputs": [
    {
     "data": {
      "text/plain": [
       "3032"
      ]
     },
     "execution_count": 43,
     "metadata": {},
     "output_type": "execute_result"
    }
   ],
   "source": [
    "i = 100\n",
    "id = 1\n",
    "chunk_offset = 0\n",
    "MendelImpute.connect_happairs!(sol_path[id], nxt_pair[id], tree_err[id], redundant_haplotypes[i], λ = 1.0)\n",
    "\n",
    "h1 = MendelImpute.complete_idx_to_unique_all_idx(sol_path[id][1][1], 1, compressed_Hunique)\n",
    "h2 = MendelImpute.complete_idx_to_unique_all_idx(sol_path[id][1][2], 1, compressed_Hunique)\n"
   ]
  },
  {
   "cell_type": "code",
   "execution_count": 24,
   "metadata": {
    "collapsed": false
   },
   "outputs": [
    {
     "data": {
      "text/plain": [
       "331-element Array{Int64,1}:\n",
       "      1\n",
       "    513\n",
       "   1025\n",
       "   1537\n",
       "   2049\n",
       "   2561\n",
       "   3073\n",
       "   3585\n",
       "   4097\n",
       "   4609\n",
       "   5121\n",
       "   5633\n",
       "   6145\n",
       "      ⋮\n",
       " 163329\n",
       " 163841\n",
       " 164353\n",
       " 164865\n",
       " 165377\n",
       " 165889\n",
       " 166401\n",
       " 166913\n",
       " 167425\n",
       " 167937\n",
       " 168449\n",
       " 168961"
      ]
     },
     "execution_count": 24,
     "metadata": {},
     "output_type": "execute_result"
    }
   ],
   "source": [
    "ph[1].strand1.start"
   ]
  },
  {
   "cell_type": "code",
   "execution_count": 26,
   "metadata": {
    "collapsed": false
   },
   "outputs": [
    {
     "data": {
      "text/plain": [
       "4778-element Array{Int64,1}:\n",
       "    1\n",
       "    2\n",
       "    3\n",
       "    4\n",
       "    5\n",
       "    6\n",
       "    7\n",
       "    8\n",
       "    9\n",
       "   10\n",
       "   11\n",
       "   12\n",
       "   13\n",
       "    ⋮\n",
       " 4797\n",
       " 4798\n",
       " 4799\n",
       " 4800\n",
       " 4801\n",
       " 4802\n",
       " 4803\n",
       " 4804\n",
       " 4805\n",
       " 4806\n",
       " 4807\n",
       " 4808"
      ]
     },
     "execution_count": 26,
     "metadata": {},
     "output_type": "execute_result"
    }
   ],
   "source": [
    "unique(compressed_Hunique.CW_typed[1].hapmap)"
   ]
  },
  {
   "cell_type": "code",
   "execution_count": 14,
   "metadata": {
    "collapsed": false
   },
   "outputs": [
    {
     "data": {
      "text/plain": [
       "4801-element Array{Int64,1}:\n",
       "    1\n",
       "    2\n",
       "    3\n",
       "    4\n",
       "    5\n",
       "    6\n",
       "    7\n",
       "    8\n",
       "    9\n",
       "   10\n",
       "   11\n",
       "   12\n",
       "   13\n",
       "    ⋮\n",
       " 4797\n",
       " 4798\n",
       " 4799\n",
       " 4800\n",
       " 4801\n",
       " 4802\n",
       " 4803\n",
       " 4804\n",
       " 4805\n",
       " 4806\n",
       " 4807\n",
       " 4808"
      ]
     },
     "execution_count": 14,
     "metadata": {},
     "output_type": "execute_result"
    }
   ],
   "source": [
    "unique(compressed_Hunique.CW[1].hapmap)"
   ]
  },
  {
   "cell_type": "code",
   "execution_count": null,
   "metadata": {
    "collapsed": true
   },
   "outputs": [],
   "source": []
  },
  {
   "cell_type": "code",
   "execution_count": 6,
   "metadata": {
    "collapsed": false
   },
   "outputs": [
    {
     "name": "stderr",
     "output_type": "stream",
     "text": [
      "\u001b[32mComputing optimal haplotype pairs...100%|███████████████| Time: 0:05:22\u001b[39m\n",
      "\u001b[32mWriting to file...100%|█████████████████████████████████| Time: 0:00:07\u001b[39m\n"
     ]
    },
    {
     "name": "stdout",
     "output_type": "stream",
     "text": [
      "Total window = 426, each with ~ 4206 unique haplotypes on avg\n",
      "Data import time                    = 10.1402 seconds\n",
      "Computing haplotype pair time       = 322.393 seconds\n",
      "    BLAS3 mul! to get M and N           = 9.69796 seconds (on thread 1)\n",
      "    haplopair search                    = 55.0657 seconds (on thread 1)\n",
      "    supplying constant terms            = 0.00392874 seconds (on thread 1)\n",
      "    finding redundant happairs          = 0.701392 seconds (on thread 1)\n",
      "Phasing by dynamic programming time = 0.251607 seconds\n",
      "Imputing time                       = 10.174 seconds\n",
      "343.092854 seconds (52.46 M allocations: 38.321 GiB, 6.70% gc time)\n",
      "error overall = 0.005999012434875828 \n",
      "\n"
     ]
    }
   ],
   "source": [
    "# 8 threads, searching single bkpts, deleting suboptimal pairs in dp, skip windows with <50 typed snps\n",
    "Random.seed!(2020)\n",
    "chr = 18\n",
    "maf = 0.1\n",
    "width = 2000\n",
    "tgtfile = \"target.chr$chr.typedOnly.maf$maf.masked.vcf.gz\"\n",
    "reffile = \"ref.$width.chr18.excludeTarget.jlso\"\n",
    "outfile = \"mendel.imputed.dp$width.maf$maf.vcf.gz\"\n",
    "@time ph, hs = phase(tgtfile, reffile, outfile=outfile, impute=true, width=width)\n",
    "\n",
    "X_complete = convert_gt(UInt8, \"target.chr18.full.vcf.gz\")\n",
    "n, p = size(X_complete)\n",
    "X_mendel = convert_gt(UInt8, outfile)\n",
    "println(\"error overall = $(sum(X_mendel .!= X_complete) / n / p) \\n\")"
   ]
  },
  {
   "cell_type": "code",
   "execution_count": 4,
   "metadata": {
    "collapsed": false
   },
   "outputs": [
    {
     "name": "stderr",
     "output_type": "stream",
     "text": [
      "\u001b[32mComputing optimal haplotype pairs...100%|███████████████| Time: 0:03:03\u001b[39m\n",
      "\u001b[32mWriting to file...100%|█████████████████████████████████| Time: 0:00:06\u001b[39m\n"
     ]
    },
    {
     "name": "stdout",
     "output_type": "stream",
     "text": [
      "Data import time                    = 10.8066 seconds\n",
      "Computing haplotype pair time       = 183.787 seconds\n",
      "Phasing by dynamic programming time = 1.65179 seconds\n",
      "Imputing time                       = 9.13026 seconds\n",
      "229.475853 seconds (141.20 M allocations: 42.904 GiB, 3.60% gc time)\n",
      "error overall = 0.005566501134175149 \n",
      "\n"
     ]
    }
   ],
   "source": [
    "# 8 threads, searching single bkpts, deleting suboptimal pairs in dp, skip windows with <50 typed snps\n",
    "Random.seed!(2020)\n",
    "chr = 18\n",
    "maf = 0.1\n",
    "width = 2000\n",
    "tgtfile = \"target.chr$chr.typedOnly.maf$maf.masked.vcf.gz\"\n",
    "reffile = \"ref.$width.chr18.excludeTarget.jlso\"\n",
    "outfile = \"mendel.imputed.dp$width.maf$maf.vcf.gz\"\n",
    "@time ph, hs = phase(tgtfile, reffile, outfile=outfile, impute=true, width=width)\n",
    "\n",
    "X_complete = convert_gt(UInt8, \"target.chr18.full.vcf.gz\")\n",
    "n, p = size(X_complete)\n",
    "X_mendel = convert_gt(UInt8, outfile)\n",
    "println(\"error overall = $(sum(X_mendel .!= X_complete) / n / p) \\n\")"
   ]
  },
  {
   "cell_type": "code",
   "execution_count": 3,
   "metadata": {
    "collapsed": false
   },
   "outputs": [
    {
     "name": "stderr",
     "output_type": "stream",
     "text": [
      "\u001b[32mComputing optimal haplotype pairs...100%|███████████████| Time: 0:01:42\u001b[39m\n",
      "\u001b[32mWriting to file...100%|█████████████████████████████████| Time: 0:00:06\u001b[39m\n"
     ]
    },
    {
     "name": "stdout",
     "output_type": "stream",
     "text": [
      "Data import time                    = 10.23 seconds\n",
      "Computing haplotype pair time       = 102.337 seconds\n",
      "Phasing by dynamic programming time = 1.22405 seconds\n",
      "Imputing time                       = 8.44946 seconds\n",
      "144.593542 seconds (140.29 M allocations: 42.697 GiB, 5.00% gc time)\n",
      "error overall = 0.005999012434875828 \n",
      "\n"
     ]
    }
   ],
   "source": [
    "# 8 threads, save only best happair, searching single bkpts\n",
    "# deleting suboptimal pairs in dp, skip windows with <50 typed snps\n",
    "Random.seed!(2020)\n",
    "chr = 18\n",
    "maf = 0.1\n",
    "width = 2000\n",
    "tgtfile = \"target.chr$chr.typedOnly.maf$maf.masked.vcf.gz\"\n",
    "reffile = \"ref.$width.chr18.excludeTarget.jlso\"\n",
    "outfile = \"mendel.imputed.dp$width.maf$maf.vcf.gz\"\n",
    "@time ph, hs = phase(tgtfile, reffile, outfile=outfile, impute=true, width=width)\n",
    "\n",
    "X_complete = convert_gt(UInt8, \"target.chr18.full.vcf.gz\")\n",
    "n, p = size(X_complete)\n",
    "X_mendel = convert_gt(UInt8, outfile)\n",
    "println(\"error overall = $(sum(X_mendel .!= X_complete) / n / p) \\n\")"
   ]
  },
  {
   "cell_type": "code",
   "execution_count": 2,
   "metadata": {
    "collapsed": false
   },
   "outputs": [
    {
     "name": "stderr",
     "output_type": "stream",
     "text": [
      "\u001b[32mComputing optimal haplotype pairs...100%|███████████████| Time: 0:00:57\u001b[39m\n"
     ]
    },
    {
     "name": "stdout",
     "output_type": "stream",
     "text": [
      "Data import time                    = 7.74952 seconds\n",
      "Computing haplotype pair time       = 57.2797 seconds\n",
      "Phasing by dynamic programming time = 1.90273 seconds\n",
      "Imputing time                       = 0.57671 seconds\n",
      " 89.702625 seconds (105.16 M allocations: 14.344 GiB, 3.63% gc time)\n",
      "error overall = 0.0007017132128608308 \n",
      "\n"
     ]
    }
   ],
   "source": [
    "# impute only typed snps\n",
    "Random.seed!(2020)\n",
    "chr = 18\n",
    "maf = 0.45\n",
    "width = 2000\n",
    "tgtfile = \"target.chr$chr.typedOnly.maf$maf.masked.vcf.gz\"\n",
    "reffile = \"ref.$width.chr18.excludeTarget.jlso\"\n",
    "outfile = \"mendel.imputed.dp$width.maf$maf.vcf.gz\"\n",
    "@time ph, hs = phase(tgtfile, reffile, outfile=outfile, impute=false, width=width)\n",
    "\n",
    "X_complete, _, _, X_complete_pos, _, _, _ = convert_gt(Float64, \"target.chr18.full.vcf.gz\", trans=true, save_snp_info=true)\n",
    "X_typedonly, _, _, X_typedonly_pos, _, _, _ = convert_gt(Float64, outfile, trans=true, save_snp_info=true)\n",
    "typed_to_complete_idx = indexin(X_typedonly_pos, X_complete_pos)\n",
    "X_complete_typedonly = X_complete[typed_to_complete_idx, :]\n",
    "p, n = size(X_typedonly)\n",
    "println(\"error overall = $(sum(X_typedonly .!= X_complete_typedonly) / n / p) \\n\")"
   ]
  },
  {
   "cell_type": "code",
   "execution_count": 5,
   "metadata": {
    "collapsed": false
   },
   "outputs": [
    {
     "name": "stderr",
     "output_type": "stream",
     "text": [
      "\u001b[32mComputing optimal haplotype pairs...100%|███████████████| Time: 0:00:55\u001b[39m\n",
      "\u001b[32mWriting to file...100%|█████████████████████████████████| Time: 0:00:11\u001b[39m\n"
     ]
    },
    {
     "name": "stdout",
     "output_type": "stream",
     "text": [
      "Data import time                    = 6.68637 seconds\n",
      "Computing haplotype pair time       = 55.7005 seconds\n",
      "Phasing by dynamic programming time = 1.49851 seconds\n",
      "Imputing time                       = 13.3049 seconds\n",
      " 77.173139 seconds (20.27 M allocations: 10.581 GiB, 3.04% gc time)\n",
      "error overall = 0.0944998604272568 \n",
      "\n"
     ]
    }
   ],
   "source": [
    "# searching single bkpts, deleting suboptimal pairs in dp, skip windows with <50 typed snps\n",
    "Random.seed!(2020)\n",
    "chr = 18\n",
    "maf = 0.45\n",
    "width = 2000\n",
    "tgtfile = \"target.chr$chr.typedOnly.maf$maf.masked.vcf.gz\"\n",
    "reffile = \"ref.chr$chr.excludeTarget.jlso\"\n",
    "outfile = \"mendel.imputed.dp$width.maf$maf.vcf.gz\"\n",
    "@time ph, hs = phase(tgtfile, reffile, outfile=outfile, impute=true, width=width, \n",
    "    min_typed_snps=50)\n",
    "\n",
    "X_complete = convert_gt(UInt8, \"target.chr18.full.vcf.gz\")\n",
    "n, p = size(X_complete)\n",
    "X_mendel = convert_gt(UInt8, outfile)\n",
    "println(\"error overall = $(sum(X_mendel .!= X_complete) / n / p) \\n\")"
   ]
  },
  {
   "cell_type": "code",
   "execution_count": 17,
   "metadata": {
    "collapsed": false
   },
   "outputs": [
    {
     "name": "stdout",
     "output_type": "stream",
     "text": [
      "MendelImpute with dynamic programming, width = 1000, maf = 0.1\n"
     ]
    },
    {
     "name": "stderr",
     "output_type": "stream",
     "text": [
      "\u001b[32mMerging breakpoints...100%|█████████████████████████████| Time: 0:00:25\u001b[39m\n",
      "\u001b[32mWriting to file...100%|█████████████████████████████████| Time: 0:00:13\u001b[39m\n"
     ]
    },
    {
     "name": "stdout",
     "output_type": "stream",
     "text": [
      "Data import time                    = 9.53489 seconds\n",
      "Computing haplotype pair time       = 1919.31 seconds\n",
      "Phasing by dynamic programming time = 25.534 seconds\n",
      "Imputing time                       = 18.0856 seconds\n",
      "1972.573863 seconds (60.84 M allocations: 222.162 GiB, 3.90% gc time)\n",
      "error overall = 0.005454584905970195 \n",
      "\n",
      "MendelImpute with dynamic programming, width = 2000, maf = 0.1\n"
     ]
    },
    {
     "name": "stderr",
     "output_type": "stream",
     "text": [
      "\u001b[32mComputing optimal haplotype pairs...100%|███████████████| Time: 0:08:51\u001b[39m\n",
      "\u001b[32mWriting to file...100%|█████████████████████████████████| Time: 0:00:12\u001b[39m\n"
     ]
    },
    {
     "name": "stdout",
     "output_type": "stream",
     "text": [
      "Data import time                    = 12.9095 seconds\n",
      "Computing haplotype pair time       = 531.806 seconds\n",
      "Phasing by dynamic programming time = 2.22416 seconds\n",
      "Imputing time                       = 14.0015 seconds\n",
      "560.924354 seconds (53.12 M allocations: 45.984 GiB, 11.69% gc time)\n",
      "error overall = 0.005866805379297726 \n",
      "\n",
      "MendelImpute with dynamic programming, width = 4000, maf = 0.1\n"
     ]
    },
    {
     "name": "stderr",
     "output_type": "stream",
     "text": [
      "\u001b[32mComputing optimal haplotype pairs...100%|███████████████| Time: 0:02:50\u001b[39m\n",
      "\u001b[32mWriting to file...100%|█████████████████████████████████| Time: 0:00:11\u001b[39m\n"
     ]
    },
    {
     "name": "stdout",
     "output_type": "stream",
     "text": [
      "Data import time                    = 12.3763 seconds\n",
      "Computing haplotype pair time       = 170.933 seconds\n",
      "Phasing by dynamic programming time = 0.038868 seconds\n",
      "Imputing time                       = 13.1781 seconds\n",
      "196.524946 seconds (52.65 M allocations: 26.672 GiB, 3.82% gc time)\n",
      "error overall = 0.008089859043258167 \n",
      "\n"
     ]
    }
   ],
   "source": [
    "# try different widths\n",
    "# deleting suboptimal pairs in dp, not searching bkpts, skip windows with <5% typed snps\n",
    "cd(\"/Users/biona001/.julia/dev/MendelImpute/data/1000_genome_phase3_v5/filtered\")\n",
    "Random.seed!(2020)\n",
    "function run()\n",
    "    X_complete = convert_gt(UInt8, \"target.chr18.full.vcf.gz\")\n",
    "    n, p = size(X_complete)\n",
    "    chr = 18\n",
    "    maf = 0.1\n",
    "    for width in [1000, 2000, 4000]\n",
    "        println(\"MendelImpute with dynamic programming, width = $width, maf = $maf\")\n",
    "        tgtfile = \"target.chr$chr.typedOnly.maf$maf.masked.vcf.gz\"\n",
    "        reffile = \"ref.$width.chr$chr.excludeTarget.jlso\"\n",
    "        outfile = \"mendel.imputed.dp$width.maf$maf.vcf.gz\"\n",
    "        @time phase(tgtfile, reffile, outfile=outfile, impute=true, width=width, \n",
    "            fast_method=false)\n",
    "        X_mendel = convert_gt(UInt8, outfile)\n",
    "        println(\"error overall = $(sum(X_mendel .!= X_complete) / n / p) \\n\")\n",
    "    end\n",
    "end\n",
    "run()"
   ]
  },
  {
   "cell_type": "markdown",
   "metadata": {},
   "source": [
    "# Beagle 5.0"
   ]
  },
  {
   "cell_type": "code",
   "execution_count": 3,
   "metadata": {
    "collapsed": false
   },
   "outputs": [
    {
     "name": "stdout",
     "output_type": "stream",
     "text": [
      "beagle.28Sep18.793.jar (version 5.0)\n",
      "Copyright (C) 2014-2018 Brian L. Browning\n",
      "Enter \"java -jar beagle.28Sep18.793.jar\" to list command line argument\n",
      "Start time: 10:09 AM PDT on 08 May 2020\n",
      "\n",
      "Command line: java -Xmx13653m -jar beagle.28Sep18.793.jar\n",
      "  gt=target.chr18.typedOnly.maf0.0005.masked.vcf.gz\n",
      "  ref=ref.chr18.excludeTarget.vcf.gz\n",
      "  out=beagle.imputed.maf0.0005\n",
      "  nthreads=4\n",
      "\n",
      "No genetic map is specified: using 1 cM = 1 Mb\n",
      "\n",
      "Reference samples:       2,404\n",
      "Study samples:             100\n",
      "\n",
      "Window 1 (18:10644-40010629)\n",
      "Reference markers:     414,911\n",
      "Study markers:         414,911\n",
      "\n",
      "Burnin  iteration 1:           48 seconds\n",
      "Burnin  iteration 2:           1 minute 28 seconds\n",
      "Burnin  iteration 3:           1 minute 42 seconds\n",
      "Burnin  iteration 4:           1 minute 46 seconds\n",
      "Burnin  iteration 5:           1 minute 53 seconds\n",
      "Burnin  iteration 6:           2 minutes 5 seconds\n",
      "\n",
      "Phasing iteration 1:           1 minute 59 seconds\n",
      "Phasing iteration 2:           2 minutes 1 second\n",
      "Phasing iteration 3:           2 minutes 3 seconds\n",
      "Phasing iteration 4:           2 minutes 9 seconds\n",
      "Phasing iteration 5:           1 minute 52 seconds\n",
      "Phasing iteration 6:           1 minute 56 seconds\n",
      "Phasing iteration 7:           2 minutes 1 second\n",
      "Phasing iteration 8:           1 minute 54 seconds\n",
      "Phasing iteration 9:           1 minute 47 seconds\n",
      "Phasing iteration 10:          1 minute 46 seconds\n",
      "Phasing iteration 11:          1 minute 43 seconds\n",
      "Phasing iteration 12:          1 minute 38 seconds\n",
      "\n",
      "Window 2 (18:36010613-76010634)\n",
      "Reference markers:     461,002\n",
      "Study markers:         461,002\n",
      "\n",
      "Burnin  iteration 1:           48 seconds\n",
      "Burnin  iteration 2:           1 minute 56 seconds\n",
      "Burnin  iteration 3:           2 minutes 1 second\n",
      "Burnin  iteration 4:           2 minutes 1 second\n",
      "Burnin  iteration 5:           2 minutes 6 seconds\n",
      "Burnin  iteration 6:           2 minutes 9 seconds\n",
      "\n",
      "Phasing iteration 1:           2 minutes 10 seconds\n",
      "Phasing iteration 2:           2 minutes 11 seconds\n",
      "Phasing iteration 3:           2 minutes 15 seconds\n",
      "Phasing iteration 4:           2 minutes 24 seconds\n",
      "Phasing iteration 5:           2 minutes 35 seconds\n",
      "Phasing iteration 6:           2 minutes 28 seconds\n",
      "Phasing iteration 7:           2 minutes 16 seconds\n",
      "Phasing iteration 8:           2 minutes 19 seconds\n",
      "Phasing iteration 9:           2 minutes 9 seconds\n",
      "Phasing iteration 10:          2 minutes 7 seconds\n",
      "Phasing iteration 11:          2 minutes 1 second\n",
      "Phasing iteration 12:          1 minute 56 seconds\n",
      "\n",
      "Window 3 (18:72010594-78017156)\n",
      "Reference markers:      80,505\n",
      "Study markers:          80,505\n",
      "\n",
      "Burnin  iteration 1:           5 seconds\n",
      "Burnin  iteration 2:           4 seconds\n",
      "Burnin  iteration 3:           5 seconds\n",
      "Burnin  iteration 4:           4 seconds\n",
      "Burnin  iteration 5:           6 seconds\n",
      "Burnin  iteration 6:           6 seconds\n",
      "\n",
      "Phasing iteration 1:           5 seconds\n",
      "Phasing iteration 2:           5 seconds\n",
      "Phasing iteration 3:           5 seconds\n",
      "Phasing iteration 4:           5 seconds\n",
      "Phasing iteration 5:           6 seconds\n",
      "Phasing iteration 6:           5 seconds\n",
      "Phasing iteration 7:           6 seconds\n",
      "Phasing iteration 8:           6 seconds\n",
      "Phasing iteration 9:           5 seconds\n",
      "Phasing iteration 10:          5 seconds\n",
      "Phasing iteration 11:          5 seconds\n",
      "Phasing iteration 12:          4 seconds\n",
      "\n",
      "Cumulative Statistics:\n",
      "\n",
      "Study markers:         863,592\n",
      "\n",
      "Haplotype phasing time:        1 hour 11 minutes 57 seconds\n",
      "Total time:                    1 hour 12 minutes 50 seconds\n",
      "\n",
      "End time: 11:22 AM PDT on 08 May 2020\n",
      "beagle.28Sep18.793.jar finished\n"
     ]
    },
    {
     "ename": "DimensionMismatch",
     "evalue": "DimensionMismatch(\"arrays could not be broadcast to a common size; got a dimension with lengths 678557 and 863592\")",
     "output_type": "error",
     "traceback": [
      "DimensionMismatch(\"arrays could not be broadcast to a common size; got a dimension with lengths 678557 and 863592\")",
      "",
      "Stacktrace:",
      " [1] instantiate(::Base.Broadcast.Broadcasted{Base.Broadcast.DefaultArrayStyle{2},Nothing,typeof(!=),Tuple{Array{Union{Missing, UInt8},2},Array{Union{Missing, UInt8},2}}}) at ./broadcast.jl:490",
      " [2] materialize at ./broadcast.jl:819 [inlined]",
      " [3] beagle() at ./In[3]:15",
      " [4] top-level scope at In[3]:18"
     ]
    }
   ],
   "source": [
    "# beagle 5\n",
    "cd(\"/Users/biona001/.julia/dev/MendelImpute/data/1000_genome_phase3_v5/filtered\")\n",
    "function beagle()\n",
    "    chr = 18\n",
    "    for maf in [0.0005, 0.001, 0.01, 0.1, 0.45]\n",
    "        tgtfile = \"target.chr$chr.typedOnly.maf$maf.masked.vcf.gz\"\n",
    "        reffile = \"ref.chr$chr.excludeTarget.vcf.gz\"\n",
    "        outfile = \"beagle.imputed.maf$maf\"\n",
    "        Base.run(`java -Xmx15g -jar beagle.28Sep18.793.jar gt=$tgtfile ref=$reffile out=$outfile nthreads=4`)\n",
    "    end\n",
    "end\n",
    "beagle()"
   ]
  },
  {
   "cell_type": "code",
   "execution_count": 5,
   "metadata": {
    "collapsed": false
   },
   "outputs": [
    {
     "name": "stdout",
     "output_type": "stream",
     "text": [
      "error overall = 5.453964372064586e-6 \n",
      "\n"
     ]
    }
   ],
   "source": [
    "for maf in [0.0005]\n",
    "    # beagle error rate    \n",
    "    chr = 18\n",
    "    X_complete = convert_gt(UInt8, \"target.chr$chr.full.vcf.gz\")\n",
    "    X_beagle = convert_gt(UInt8, \"beagle.imputed.maf$maf.vcf.gz\")\n",
    "    n, p = size(X_complete)\n",
    "    println(\"error overall = $(sum(X_beagle .!= X_complete) / n / p) \\n\")\n",
    "end"
   ]
  },
  {
   "cell_type": "code",
   "execution_count": 1,
   "metadata": {
    "collapsed": false
   },
   "outputs": [
    {
     "name": "stdout",
     "output_type": "stream",
     "text": [
      "beagle.28Sep18.793.jar (version 5.0)\n",
      "Copyright (C) 2014-2018 Brian L. Browning\n",
      "Enter \"java -jar beagle.28Sep18.793.jar\" to list command line argument\n",
      "Start time: 02:52 PM PDT on 12 May 2020\n",
      "\n",
      "Command line: java -Xmx13653m -jar beagle.28Sep18.793.jar\n",
      "  gt=target.chr18.typedOnly.maf0.001.masked.vcf.gz\n",
      "  ref=ref.chr18.excludeTarget.vcf.gz\n",
      "  out=beagle.imputed.maf0.001\n",
      "  nthreads=4\n",
      "\n",
      "No genetic map is specified: using 1 cM = 1 Mb\n",
      "\n",
      "Reference samples:       2,404\n",
      "Study samples:             100\n",
      "\n",
      "Window 1 (18:10644-40010629)\n",
      "Reference markers:     414,911\n",
      "Study markers:         388,114\n",
      "\n",
      "Burnin  iteration 1:           38 seconds\n",
      "Burnin  iteration 2:           1 minute 26 seconds\n",
      "Burnin  iteration 3:           1 minute 28 seconds\n",
      "Burnin  iteration 4:           1 minute 35 seconds\n",
      "Burnin  iteration 5:           1 minute 50 seconds\n",
      "Burnin  iteration 6:           1 minute 47 seconds\n",
      "\n",
      "Phasing iteration 1:           1 minute 43 seconds\n",
      "Phasing iteration 2:           1 minute 47 seconds\n",
      "Phasing iteration 3:           1 minute 43 seconds\n",
      "Phasing iteration 4:           1 minute 31 seconds\n",
      "Phasing iteration 5:           1 minute 33 seconds\n",
      "Phasing iteration 6:           1 minute 32 seconds\n",
      "Phasing iteration 7:           1 minute 35 seconds\n",
      "Phasing iteration 8:           1 minute 33 seconds\n",
      "Phasing iteration 9:           1 minute 31 seconds\n",
      "Phasing iteration 10:          1 minute 26 seconds\n",
      "Phasing iteration 11:          1 minute 29 seconds\n",
      "Phasing iteration 12:          1 minute 27 seconds\n",
      "\n",
      "Imputation time:               33 seconds\n",
      "\n",
      "Window 2 (18:36010613-76010634)\n",
      "Reference markers:     461,002\n",
      "Study markers:         430,867\n",
      "\n",
      "Burnin  iteration 1:           44 seconds\n",
      "Burnin  iteration 2:           1 minute 48 seconds\n",
      "Burnin  iteration 3:           1 minute 49 seconds\n",
      "Burnin  iteration 4:           1 minute 56 seconds\n",
      "Burnin  iteration 5:           2 minutes 6 seconds\n",
      "Burnin  iteration 6:           2 minutes 6 seconds\n",
      "\n",
      "Phasing iteration 1:           1 minute 51 seconds\n",
      "Phasing iteration 2:           2 minutes 4 seconds\n",
      "Phasing iteration 3:           1 minute 51 seconds\n",
      "Phasing iteration 4:           1 minute 50 seconds\n",
      "Phasing iteration 5:           1 minute 52 seconds\n",
      "Phasing iteration 6:           1 minute 56 seconds\n",
      "Phasing iteration 7:           1 minute 58 seconds\n",
      "Phasing iteration 8:           1 minute 59 seconds\n",
      "Phasing iteration 9:           1 minute 47 seconds\n",
      "Phasing iteration 10:          1 minute 46 seconds\n",
      "Phasing iteration 11:          1 minute 53 seconds\n",
      "Phasing iteration 12:          1 minute 40 seconds\n",
      "\n",
      "Imputation time:               38 seconds\n",
      "\n",
      "Window 3 (18:72010594-78017156)\n",
      "Reference markers:      80,505\n",
      "Study markers:          75,267\n",
      "\n",
      "Burnin  iteration 1:           4 seconds\n",
      "Burnin  iteration 2:           5 seconds\n",
      "Burnin  iteration 3:           4 seconds\n",
      "Burnin  iteration 4:           5 seconds\n",
      "Burnin  iteration 5:           5 seconds\n",
      "Burnin  iteration 6:           5 seconds\n",
      "\n",
      "Phasing iteration 1:           5 seconds\n",
      "Phasing iteration 2:           4 seconds\n",
      "Phasing iteration 3:           4 seconds\n",
      "Phasing iteration 4:           5 seconds\n",
      "Phasing iteration 5:           5 seconds\n",
      "Phasing iteration 6:           5 seconds\n",
      "Phasing iteration 7:           6 seconds\n",
      "Phasing iteration 8:           5 seconds\n",
      "Phasing iteration 9:           4 seconds\n",
      "Phasing iteration 10:          5 seconds\n",
      "Phasing iteration 11:          4 seconds\n",
      "Phasing iteration 12:          4 seconds\n",
      "\n",
      "Imputation time:               4 seconds\n",
      "\n",
      "Cumulative Statistics:\n",
      "\n",
      "Reference markers:     863,592\n",
      "Study markers:         807,477\n",
      "\n",
      "Haplotype phasing time:        1 hour 1 minute 53 seconds\n",
      "Imputation time:               4 seconds\n",
      "Total time:                    1 hour 3 minutes 45 seconds\n",
      "\n",
      "End time: 03:55 PM PDT on 12 May 2020\n",
      "beagle.28Sep18.793.jar finished\n"
     ]
    },
    {
     "ename": "UndefVarError",
     "evalue": "UndefVarError: convert_gt not defined",
     "output_type": "error",
     "traceback": [
      "UndefVarError: convert_gt not defined",
      "",
      "Stacktrace:",
      " [1] beagle() at ./In[1]:13",
      " [2] top-level scope at In[1]:19"
     ]
    }
   ],
   "source": [
    "# beagle 5\n",
    "cd(\"/Users/biona001/.julia/dev/MendelImpute/data/1000_genome_phase3_v5/filtered\")\n",
    "function beagle()\n",
    "    chr = 18\n",
    "    for maf in [0.001, 0.01, 0.1, 0.45]\n",
    "        tgtfile = \"target.chr$chr.typedOnly.maf$maf.masked.vcf.gz\"\n",
    "        reffile = \"ref.chr$chr.excludeTarget.vcf.gz\"\n",
    "        outfile = \"beagle.imputed.maf$maf\"\n",
    "        Base.run(`java -Xmx15g -jar beagle.28Sep18.793.jar gt=$tgtfile ref=$reffile out=$outfile nthreads=4`)\n",
    "    end\n",
    "end\n",
    "beagle()"
   ]
  },
  {
   "cell_type": "code",
   "execution_count": 3,
   "metadata": {
    "collapsed": false
   },
   "outputs": [
    {
     "ename": "ErrorException",
     "evalue": "GeneticVariation.VCF.Reader file format error on line 11 ~>\"�;IMP\\t\"",
     "output_type": "error",
     "traceback": [
      "GeneticVariation.VCF.Reader file format error on line 11 ~>\"�;IMP\\t\"",
      "",
      "Stacktrace:",
      " [1] error(::Type, ::String, ::Int64, ::String, ::String) at ./error.jl:42",
      " [2] _read!(::GeneticVariation.VCF.Reader, ::BioCore.Ragel.State{BufferedStreams.BufferedInputStream{TranscodingStreams.TranscodingStream{CodecZlib.GzipDecompressor,IOStream}}}, ::GeneticVariation.VCF.Record) at /Users/biona001/.julia/packages/BioCore/YBJvb/src/ReaderHelper.jl:164",
      " [3] read!(::GeneticVariation.VCF.Reader, ::GeneticVariation.VCF.Record) at /Users/biona001/.julia/packages/BioCore/YBJvb/src/ReaderHelper.jl:134",
      " [4] read at /Users/biona001/.julia/packages/BioCore/YBJvb/src/IO.jl:61 [inlined]",
      " [5] #copy_gt!#7(::Symbol, ::Bool, ::Bool, ::Bool, ::String, ::Nothing, ::typeof(copy_gt!), ::Array{Union{Missing, UInt8},2}, ::GeneticVariation.VCF.Reader) at /Users/biona001/.julia/packages/VCFTools/iQ8nK/src/convert.jl:59",
      " [6] #copy_gt! at ./none:0 [inlined]",
      " [7] #convert_gt#9(::Symbol, ::Bool, ::Bool, ::Bool, ::Bool, ::String, ::Bool, ::typeof(convert_gt), ::Type{UInt8}, ::String) at /Users/biona001/.julia/packages/VCFTools/iQ8nK/src/convert.jl:248",
      " [8] convert_gt(::Type{UInt8}, ::String) at /Users/biona001/.julia/packages/VCFTools/iQ8nK/src/convert.jl:230",
      " [9] top-level scope at In[3]:4"
     ]
    }
   ],
   "source": [
    "# beagle error rate    \n",
    "chr = 18\n",
    "X_complete = convert_gt(UInt8, \"target.chr$chr.full.vcf.gz\")\n",
    "X_beagle = convert_gt(UInt8, \"beagle.imputed.maf0.001.vcf.gz\")\n",
    "n, p = size(X_complete)\n",
    "println(\"error overall = $(sum(X_beagle .!= X_complete) / n / p) \\n\")"
   ]
  },
  {
   "cell_type": "code",
   "execution_count": 7,
   "metadata": {
    "collapsed": false
   },
   "outputs": [
    {
     "name": "stdout",
     "output_type": "stream",
     "text": [
      "beagle.28Sep18.793.jar (version 5.0)\n",
      "Copyright (C) 2014-2018 Brian L. Browning\n",
      "Enter \"java -jar beagle.28Sep18.793.jar\" to list command line argument\n",
      "Start time: 04:03 PM PDT on 12 May 2020\n",
      "\n",
      "Command line: java -Xmx13653m -jar beagle.28Sep18.793.jar\n",
      "  gt=target.chr18.typedOnly.maf0.01.masked.vcf.gz\n",
      "  ref=ref.chr18.excludeTarget.vcf.gz\n",
      "  out=beagle.imputed.maf0.01\n",
      "  nthreads=4\n",
      "\n",
      "No genetic map is specified: using 1 cM = 1 Mb\n",
      "\n",
      "Reference samples:       2,404\n",
      "Study samples:             100\n",
      "\n",
      "Window 1 (18:10644-40010629)\n",
      "Reference markers:     414,911\n",
      "Study markers:         183,460\n",
      "\n",
      "Burnin  iteration 1:           22 seconds\n",
      "Burnin  iteration 2:           31 seconds\n",
      "Burnin  iteration 3:           34 seconds\n",
      "Burnin  iteration 4:           33 seconds\n",
      "Burnin  iteration 5:           38 seconds\n",
      "Burnin  iteration 6:           38 seconds\n",
      "\n",
      "Phasing iteration 1:           37 seconds\n",
      "Phasing iteration 2:           35 seconds\n",
      "Phasing iteration 3:           42 seconds\n",
      "Phasing iteration 4:           38 seconds\n",
      "Phasing iteration 5:           36 seconds\n",
      "Phasing iteration 6:           37 seconds\n",
      "Phasing iteration 7:           36 seconds\n",
      "Phasing iteration 8:           36 seconds\n",
      "Phasing iteration 9:           36 seconds\n",
      "Phasing iteration 10:          36 seconds\n",
      "Phasing iteration 11:          32 seconds\n",
      "Phasing iteration 12:          28 seconds\n",
      "\n",
      "Imputation time:               21 seconds\n",
      "\n",
      "Window 2 (18:36010613-76010634)\n",
      "Reference markers:     461,002\n",
      "Study markers:         208,438\n",
      "\n",
      "Burnin  iteration 1:           22 seconds\n",
      "Burnin  iteration 2:           37 seconds\n",
      "Burnin  iteration 3:           38 seconds\n",
      "Burnin  iteration 4:           39 seconds\n",
      "Burnin  iteration 5:           45 seconds\n",
      "Burnin  iteration 6:           40 seconds\n",
      "\n",
      "Phasing iteration 1:           38 seconds\n",
      "Phasing iteration 2:           38 seconds\n",
      "Phasing iteration 3:           39 seconds\n",
      "Phasing iteration 4:           37 seconds\n",
      "Phasing iteration 5:           36 seconds\n",
      "Phasing iteration 6:           36 seconds\n",
      "Phasing iteration 7:           38 seconds\n",
      "Phasing iteration 8:           36 seconds\n",
      "Phasing iteration 9:           38 seconds\n",
      "Phasing iteration 10:          36 seconds\n",
      "Phasing iteration 11:          34 seconds\n",
      "Phasing iteration 12:          34 seconds\n",
      "\n",
      "Imputation time:               19 seconds\n",
      "\n",
      "Window 3 (18:72010594-78017156)\n",
      "Reference markers:      80,505\n",
      "Study markers:          36,697\n",
      "\n",
      "Burnin  iteration 1:           2 seconds\n",
      "Burnin  iteration 2:           3 seconds\n",
      "Burnin  iteration 3:           3 seconds\n",
      "Burnin  iteration 4:           3 seconds\n",
      "Burnin  iteration 5:           3 seconds\n",
      "Burnin  iteration 6:           4 seconds\n",
      "\n",
      "Phasing iteration 1:           3 seconds\n",
      "Phasing iteration 2:           3 seconds\n",
      "Phasing iteration 3:           3 seconds\n",
      "Phasing iteration 4:           2 seconds\n",
      "Phasing iteration 5:           3 seconds\n",
      "Phasing iteration 6:           3 seconds\n",
      "Phasing iteration 7:           3 seconds\n",
      "Phasing iteration 8:           3 seconds\n",
      "Phasing iteration 9:           3 seconds\n",
      "Phasing iteration 10:          3 seconds\n",
      "Phasing iteration 11:          2 seconds\n",
      "Phasing iteration 12:          2 seconds\n",
      "\n",
      "Imputation time:               1 second\n",
      "\n",
      "Cumulative Statistics:\n",
      "\n",
      "Reference markers:     863,592\n",
      "Study markers:         387,193\n",
      "\n",
      "Haplotype phasing time:        22 minutes 14 seconds\n",
      "Imputation time:               1 second\n",
      "Total time:                    23 minutes 20 seconds\n",
      "\n",
      "End time: 04:26 PM PDT on 12 May 2020\n",
      "beagle.28Sep18.793.jar finished\n"
     ]
    },
    {
     "ename": "ErrorException",
     "evalue": "GeneticVariation.VCF.Reader file format error on line 11 ~>\"�;IMP\\t\"",
     "output_type": "error",
     "traceback": [
      "GeneticVariation.VCF.Reader file format error on line 11 ~>\"�;IMP\\t\"",
      "",
      "Stacktrace:",
      " [1] error(::Type, ::String, ::Int64, ::String, ::String) at ./error.jl:42",
      " [2] _read!(::GeneticVariation.VCF.Reader, ::BioCore.Ragel.State{BufferedStreams.BufferedInputStream{TranscodingStreams.TranscodingStream{CodecZlib.GzipDecompressor,IOStream}}}, ::GeneticVariation.VCF.Record) at /Users/biona001/.julia/packages/BioCore/YBJvb/src/ReaderHelper.jl:164",
      " [3] read!(::GeneticVariation.VCF.Reader, ::GeneticVariation.VCF.Record) at /Users/biona001/.julia/packages/BioCore/YBJvb/src/ReaderHelper.jl:134",
      " [4] read at /Users/biona001/.julia/packages/BioCore/YBJvb/src/IO.jl:61 [inlined]",
      " [5] #copy_gt!#7(::Symbol, ::Bool, ::Bool, ::Bool, ::String, ::Nothing, ::typeof(copy_gt!), ::Array{Union{Missing, UInt8},2}, ::GeneticVariation.VCF.Reader) at /Users/biona001/.julia/packages/VCFTools/iQ8nK/src/convert.jl:59",
      " [6] #copy_gt! at ./none:0 [inlined]",
      " [7] #convert_gt#9(::Symbol, ::Bool, ::Bool, ::Bool, ::Bool, ::String, ::Bool, ::typeof(convert_gt), ::Type{UInt8}, ::String) at /Users/biona001/.julia/packages/VCFTools/iQ8nK/src/convert.jl:248",
      " [8] convert_gt at /Users/biona001/.julia/packages/VCFTools/iQ8nK/src/convert.jl:230 [inlined]",
      " [9] beagle() at ./In[7]:14",
      " [10] top-level scope at In[7]:19"
     ]
    }
   ],
   "source": [
    "# beagle 5\n",
    "cd(\"/Users/biona001/.julia/dev/MendelImpute/data/1000_genome_phase3_v5/filtered\")\n",
    "function beagle()\n",
    "    chr = 18\n",
    "    for maf in [0.01]\n",
    "        tgtfile = \"target.chr$chr.typedOnly.maf$maf.masked.vcf.gz\"\n",
    "        reffile = \"ref.chr$chr.excludeTarget.vcf.gz\"\n",
    "        outfile = \"beagle.imputed.maf$maf\"\n",
    "        Base.run(`java -Xmx15g -jar beagle.28Sep18.793.jar gt=$tgtfile ref=$reffile out=$outfile nthreads=4`)\n",
    "    \n",
    "        # beagle error rate    \n",
    "        chr = 18\n",
    "        X_complete = convert_gt(UInt8, \"target.chr$chr.full.vcf.gz\")\n",
    "        X_beagle = convert_gt(UInt8, \"beagle.imputed.maf$maf.vcf.gz\")\n",
    "        n, p = size(X_complete)\n",
    "        println(\"error overall = $(sum(X_beagle .!= X_complete) / n / p) \\n\")    \n",
    "    end\n",
    "end\n",
    "beagle()"
   ]
  },
  {
   "cell_type": "code",
   "execution_count": 8,
   "metadata": {
    "collapsed": false
   },
   "outputs": [
    {
     "name": "stdout",
     "output_type": "stream",
     "text": [
      "error overall = 0.0011677968299845297 \n",
      "\n"
     ]
    }
   ],
   "source": [
    "chr = 18\n",
    "maf = 0.01\n",
    "X_complete = convert_gt(UInt8, \"target.chr$chr.full.vcf.gz\")\n",
    "X_beagle = convert_gt(UInt8, \"beagle.imputed.maf$maf.vcf.gz\")\n",
    "n, p = size(X_complete)\n",
    "println(\"error overall = $(sum(X_beagle .!= X_complete) / n / p) \\n\")    "
   ]
  },
  {
   "cell_type": "code",
   "execution_count": 9,
   "metadata": {
    "collapsed": false
   },
   "outputs": [
    {
     "name": "stdout",
     "output_type": "stream",
     "text": [
      "beagle.28Sep18.793.jar (version 5.0)\n",
      "Copyright (C) 2014-2018 Brian L. Browning\n",
      "Enter \"java -jar beagle.28Sep18.793.jar\" to list command line argument\n",
      "Start time: 04:47 PM PDT on 12 May 2020\n",
      "\n",
      "Command line: java -Xmx13653m -jar beagle.28Sep18.793.jar\n",
      "  gt=target.chr18.typedOnly.maf0.1.masked.vcf.gz\n",
      "  ref=ref.chr18.excludeTarget.vcf.gz\n",
      "  out=beagle.imputed.maf0.1\n",
      "  nthreads=4\n",
      "\n",
      "No genetic map is specified: using 1 cM = 1 Mb\n",
      "\n",
      "Reference samples:       2,404\n",
      "Study samples:             100\n",
      "\n",
      "Window 1 (18:10644-40010629)\n",
      "Reference markers:     414,911\n",
      "Study markers:          82,786\n",
      "\n",
      "Burnin  iteration 1:           18 seconds\n",
      "Burnin  iteration 2:           19 seconds\n",
      "Burnin  iteration 3:           19 seconds\n",
      "Burnin  iteration 4:           19 seconds\n",
      "Burnin  iteration 5:           22 seconds\n",
      "Burnin  iteration 6:           19 seconds\n",
      "\n",
      "Phasing iteration 1:           19 seconds\n",
      "Phasing iteration 2:           18 seconds\n",
      "Phasing iteration 3:           18 seconds\n",
      "Phasing iteration 4:           17 seconds\n",
      "Phasing iteration 5:           18 seconds\n",
      "Phasing iteration 6:           18 seconds\n",
      "Phasing iteration 7:           18 seconds\n",
      "Phasing iteration 8:           17 seconds\n",
      "Phasing iteration 9:           17 seconds\n",
      "Phasing iteration 10:          17 seconds\n",
      "Phasing iteration 11:          16 seconds\n",
      "Phasing iteration 12:          15 seconds\n",
      "\n",
      "Imputation time:               20 seconds\n",
      "\n",
      "Window 2 (18:36010613-76010634)\n",
      "Reference markers:     461,002\n",
      "Study markers:          92,243\n",
      "\n",
      "Burnin  iteration 1:           16 seconds\n",
      "Burnin  iteration 2:           20 seconds\n",
      "Burnin  iteration 3:           20 seconds\n",
      "Burnin  iteration 4:           21 seconds\n",
      "Burnin  iteration 5:           24 seconds\n",
      "Burnin  iteration 6:           22 seconds\n",
      "\n",
      "Phasing iteration 1:           20 seconds\n",
      "Phasing iteration 2:           20 seconds\n",
      "Phasing iteration 3:           20 seconds\n",
      "Phasing iteration 4:           21 seconds\n",
      "Phasing iteration 5:           20 seconds\n",
      "Phasing iteration 6:           21 seconds\n",
      "Phasing iteration 7:           25 seconds\n",
      "Phasing iteration 8:           21 seconds\n",
      "Phasing iteration 9:           20 seconds\n",
      "Phasing iteration 10:          20 seconds\n",
      "Phasing iteration 11:          19 seconds\n",
      "Phasing iteration 12:          17 seconds\n",
      "\n",
      "Imputation time:               25 seconds\n",
      "\n",
      "Window 3 (18:72010594-78017156)\n",
      "Reference markers:      80,505\n",
      "Study markers:          16,419\n",
      "\n",
      "Burnin  iteration 1:           2 seconds\n",
      "Burnin  iteration 2:           2 seconds\n",
      "Burnin  iteration 3:           2 seconds\n",
      "Burnin  iteration 4:           2 seconds\n",
      "Burnin  iteration 5:           2 seconds\n",
      "Burnin  iteration 6:           2 seconds\n",
      "\n",
      "Phasing iteration 1:           2 seconds\n",
      "Phasing iteration 2:           2 seconds\n",
      "Phasing iteration 3:           2 seconds\n",
      "Phasing iteration 4:           2 seconds\n",
      "Phasing iteration 5:           2 seconds\n",
      "Phasing iteration 6:           2 seconds\n",
      "Phasing iteration 7:           2 seconds\n",
      "Phasing iteration 8:           2 seconds\n",
      "Phasing iteration 9:           2 seconds\n",
      "Phasing iteration 10:          2 seconds\n",
      "Phasing iteration 11:          2 seconds\n",
      "Phasing iteration 12:          2 seconds\n",
      "\n",
      "Imputation time:               1 second\n",
      "\n",
      "Cumulative Statistics:\n",
      "\n",
      "Reference markers:     863,592\n",
      "Study markers:         173,336\n",
      "\n",
      "Haplotype phasing time:        12 minutes 5 seconds\n",
      "Imputation time:               1 second\n",
      "Total time:                    13 minutes 11 seconds\n",
      "\n",
      "End time: 05:00 PM PDT on 12 May 2020\n",
      "beagle.28Sep18.793.jar finished\n",
      "error overall = 0.00286107328460662 \n",
      "\n",
      "beagle.28Sep18.793.jar (version 5.0)\n",
      "Copyright (C) 2014-2018 Brian L. Browning\n",
      "Enter \"java -jar beagle.28Sep18.793.jar\" to list command line argument\n",
      "Start time: 05:01 PM PDT on 12 May 2020\n",
      "\n",
      "Command line: java -Xmx13653m -jar beagle.28Sep18.793.jar\n",
      "  gt=target.chr18.typedOnly.maf0.45.masked.vcf.gz\n",
      "  ref=ref.chr18.excludeTarget.vcf.gz\n",
      "  out=beagle.imputed.maf0.45\n",
      "  nthreads=4\n",
      "\n",
      "No genetic map is specified: using 1 cM = 1 Mb\n",
      "\n",
      "Reference samples:       2,404\n",
      "Study samples:             100\n",
      "\n",
      "Window 1 (18:10644-40010629)\n",
      "Reference markers:     414,911\n",
      "Study markers:           8,623\n",
      "\n",
      "Burnin  iteration 1:           3 seconds\n",
      "Burnin  iteration 2:           3 seconds\n",
      "Burnin  iteration 3:           3 seconds\n",
      "Burnin  iteration 4:           3 seconds\n",
      "Burnin  iteration 5:           3 seconds\n",
      "Burnin  iteration 6:           2 seconds\n",
      "\n",
      "Phasing iteration 1:           2 seconds\n",
      "Phasing iteration 2:           2 seconds\n",
      "Phasing iteration 3:           2 seconds\n",
      "Phasing iteration 4:           2 seconds\n",
      "Phasing iteration 5:           2 seconds\n",
      "Phasing iteration 6:           2 seconds\n",
      "Phasing iteration 7:           2 seconds\n",
      "Phasing iteration 8:           2 seconds\n",
      "Phasing iteration 9:           2 seconds\n",
      "Phasing iteration 10:          2 seconds\n",
      "Phasing iteration 11:          2 seconds\n",
      "Phasing iteration 12:          2 seconds\n",
      "\n",
      "Imputation time:               23 seconds\n",
      "\n",
      "Window 2 (18:36010613-76010634)\n",
      "Reference markers:     461,002\n",
      "Study markers:           9,497\n",
      "\n",
      "Burnin  iteration 1:           3 seconds\n",
      "Burnin  iteration 2:           2 seconds\n",
      "Burnin  iteration 3:           3 seconds\n",
      "Burnin  iteration 4:           2 seconds\n",
      "Burnin  iteration 5:           3 seconds\n",
      "Burnin  iteration 6:           3 seconds\n",
      "\n",
      "Phasing iteration 1:           3 seconds\n",
      "Phasing iteration 2:           2 seconds\n",
      "Phasing iteration 3:           2 seconds\n",
      "Phasing iteration 4:           2 seconds\n",
      "Phasing iteration 5:           2 seconds\n",
      "Phasing iteration 6:           2 seconds\n",
      "Phasing iteration 7:           2 seconds\n",
      "Phasing iteration 8:           3 seconds\n",
      "Phasing iteration 9:           3 seconds\n",
      "Phasing iteration 10:          3 seconds\n",
      "Phasing iteration 11:          2 seconds\n",
      "Phasing iteration 12:          2 seconds\n",
      "\n",
      "Imputation time:               22 seconds\n",
      "\n",
      "Window 3 (18:72010594-78017156)\n",
      "Reference markers:      80,505\n",
      "Study markers:           1,590\n",
      "\n",
      "Burnin  iteration 1:           0 seconds\n",
      "Burnin  iteration 2:           0 seconds\n",
      "Burnin  iteration 3:           0 seconds\n",
      "Burnin  iteration 4:           0 seconds\n",
      "Burnin  iteration 5:           0 seconds\n",
      "Burnin  iteration 6:           0 seconds\n",
      "\n",
      "Phasing iteration 1:           0 seconds\n",
      "Phasing iteration 2:           0 seconds\n",
      "Phasing iteration 3:           0 seconds\n",
      "Phasing iteration 4:           0 seconds\n",
      "Phasing iteration 5:           0 seconds\n",
      "Phasing iteration 6:           0 seconds\n",
      "Phasing iteration 7:           0 seconds\n",
      "Phasing iteration 8:           0 seconds\n",
      "Phasing iteration 9:           0 seconds\n",
      "Phasing iteration 10:          0 seconds\n",
      "Phasing iteration 11:          0 seconds\n",
      "Phasing iteration 12:          0 seconds\n",
      "\n",
      "Imputation time:               2 seconds\n",
      "\n",
      "Cumulative Statistics:\n",
      "\n",
      "Reference markers:     863,592\n",
      "Study markers:          17,554\n",
      "\n",
      "Haplotype phasing time:        1 minute 33 seconds\n",
      "Imputation time:               2 seconds\n",
      "Total time:                    2 minutes 32 seconds\n",
      "\n",
      "End time: 05:03 PM PDT on 12 May 2020\n",
      "beagle.28Sep18.793.jar finished\n",
      "error overall = 0.028195235713160845 \n",
      "\n"
     ]
    }
   ],
   "source": [
    "# beagle 5\n",
    "cd(\"/Users/biona001/.julia/dev/MendelImpute/data/1000_genome_phase3_v5/filtered\")\n",
    "function beagle()\n",
    "    chr = 18\n",
    "    for maf in [0.1, 0.45]\n",
    "        tgtfile = \"target.chr$chr.typedOnly.maf$maf.masked.vcf.gz\"\n",
    "        reffile = \"ref.chr$chr.excludeTarget.vcf.gz\"\n",
    "        outfile = \"beagle.imputed.maf$maf\"\n",
    "        Base.run(`java -Xmx15g -jar beagle.28Sep18.793.jar gt=$tgtfile ref=$reffile out=$outfile nthreads=4`)\n",
    "    \n",
    "        # beagle error rate\n",
    "        chr = 18\n",
    "        X_complete = convert_gt(UInt8, \"target.chr$chr.full.vcf.gz\")\n",
    "        X_beagle = convert_gt(UInt8, \"beagle.imputed.maf$maf.vcf.gz\")\n",
    "        n, p = size(X_complete)\n",
    "        println(\"error overall = $(sum(X_beagle .!= X_complete) / n / p) \\n\")\n",
    "    end\n",
    "end\n",
    "beagle()"
   ]
  },
  {
   "cell_type": "markdown",
   "metadata": {
    "collapsed": true
   },
   "source": [
    "# Eagle 2 + Minimac4\n",
    "\n",
    "In order to use the reference panel in Eagle 2's prephase option, one must first convert it to `.bcf` format via e.g. `htslib` which is *extremely* difficult to install. Even after we went through all the hard work to obtain the final `.bcf` reference file (see commands below), eagle 2.4 STILL SAYS the file is not acceptable (not bgzipped or some processing error). Therefore, I have no choice but to prephase without the reference panel. "
   ]
  },
  {
   "cell_type": "code",
   "execution_count": null,
   "metadata": {
    "collapsed": true
   },
   "outputs": [],
   "source": [
    "# run eagle 2.4: 3367.79 sec on amd-2382 machine (can only run on linux systems)\n",
    "eagle --vcf=target.chr20.typedOnly.masked.vcf.gz --outPrefix=eagle.phased.chr20 --numThreads=4 --geneticMapFile=../Eagle_v2.4.1/tables/genetic_map_hg19_withX.txt.gz"
   ]
  },
  {
   "cell_type": "code",
   "execution_count": null,
   "metadata": {
    "collapsed": true
   },
   "outputs": [],
   "source": [
    "# convert ref file to m3vcf format (Total Run completed in 1 hours, 46 mins, 24 seconds)\n",
    "/u/home/b/biona001/haplotype_comparisons/Minimac3/bin/Minimac3 --refHaps ref.chr20.excludeTarget.vcf.gz --processReference --prefix ref.chr20.excludeTarget"
   ]
  },
  {
   "cell_type": "code",
   "execution_count": null,
   "metadata": {
    "collapsed": true
   },
   "outputs": [],
   "source": [
    "# run minimac4 (2619 seconds)\n",
    "minimac4 --refHaps ref.chr20.excludeTarget.m3vcf.gz --haps eagle.phased.vcf.gz --prefix minimac.imputed.chr20 --format GT --cpus 4"
   ]
  },
  {
   "cell_type": "code",
   "execution_count": null,
   "metadata": {
    "collapsed": true
   },
   "outputs": [],
   "source": [
    "# minimac4 error rate    \n",
    "X_complete = convert_gt(Float32, \"target.chr20.full.vcf.gz\")\n",
    "X_minimac = convert_gt(Float32, \"minimac.imputed.chr20.dose.vcf.gz\")\n",
    "n, p = size(X_complete)\n",
    "println(\"error overall = $(sum(X_minimac .!= X_complete) / n / p) \\n\")"
   ]
  },
  {
   "cell_type": "code",
   "execution_count": null,
   "metadata": {
    "collapsed": true
   },
   "outputs": [],
   "source": []
  }
 ],
 "metadata": {
  "@webio": {
   "lastCommId": null,
   "lastKernelId": null
  },
  "kernelspec": {
   "display_name": "Julia 1.3.1",
   "language": "julia",
   "name": "julia-1.3"
  },
  "language_info": {
   "file_extension": ".jl",
   "mimetype": "application/julia",
   "name": "julia",
   "version": "1.3.1"
  }
 },
 "nbformat": 4,
 "nbformat_minor": 2
}
