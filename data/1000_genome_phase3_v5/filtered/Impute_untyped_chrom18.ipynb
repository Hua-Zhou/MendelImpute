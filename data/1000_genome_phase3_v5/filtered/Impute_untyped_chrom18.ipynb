{
 "cells": [
  {
   "cell_type": "markdown",
   "metadata": {},
   "source": [
    "# Test imputation on untyped SNPs chrom 18"
   ]
  },
  {
   "cell_type": "code",
   "execution_count": 1,
   "metadata": {
    "collapsed": false
   },
   "outputs": [],
   "source": [
    "using Revise\n",
    "using VCFTools\n",
    "using MendelImpute\n",
    "using GeneticVariation\n",
    "using Random\n",
    "using StatsBase\n",
    "using CodecZlib\n",
    "using ProgressMeter\n",
    "using JLD2, FileIO, JLSO\n",
    "using BenchmarkTools\n",
    "using GroupSlices\n",
    "using TimerOutputs\n",
    "using LinearAlgebra"
   ]
  },
  {
   "cell_type": "markdown",
   "metadata": {},
   "source": [
    "### Memory requirement\n",
    "\n",
    "**Prephasing step:** \n",
    "+ Target data requies $people * snps * 4$ bytes of RAM\n",
    "+ Reference haplotype data requires $haplotypes * snps$ bits of RAM\n",
    "+ Redundant haplotype set for imputation target requires roughly\n",
    "$people * windows * 1000$ (max haplotypes per win) $* 16 bytes$ of RAM"
   ]
  },
  {
   "cell_type": "markdown",
   "metadata": {},
   "source": [
    "## Generate subset of markers for prephasing"
   ]
  },
  {
   "cell_type": "code",
   "execution_count": 3,
   "metadata": {
    "collapsed": false,
    "scrolled": true
   },
   "outputs": [
    {
     "name": "stdout",
     "output_type": "stream",
     "text": [
      "752.076342 seconds (6.51 G allocations: 615.353 GiB, 7.01% gc time)\n"
     ]
    },
    {
     "name": "stderr",
     "output_type": "stream",
     "text": [
      "\u001b[32mProgress: 100%|█████████████████████████████████████████| Time: 0:08:17\u001b[39m\n"
     ]
    },
    {
     "name": "stdout",
     "output_type": "stream",
     "text": [
      "549.100648 seconds (6.86 G allocations: 650.723 GiB, 10.18% gc time)\n",
      "1139.017251 seconds (16.68 G allocations: 1.249 TiB, 10.94% gc time)\n",
      "599.893049 seconds (6.86 G allocations: 650.911 GiB, 10.61% gc time)\n",
      " 36.158916 seconds (267.39 M allocations: 27.452 GiB, 6.96% gc time)\n",
      "608.676819 seconds (6.83 G allocations: 648.780 GiB, 10.30% gc time)\n",
      " 35.610763 seconds (249.89 M allocations: 25.655 GiB, 6.86% gc time)\n",
      "560.687780 seconds (6.61 G allocations: 626.620 GiB, 10.27% gc time)\n",
      " 16.352906 seconds (119.38 M allocations: 12.252 GiB, 6.40% gc time)\n",
      "520.047088 seconds (6.51 G allocations: 615.447 GiB, 10.21% gc time)\n",
      "  8.014085 seconds (53.29 M allocations: 5.482 GiB, 5.36% gc time)\n",
      "516.890704 seconds (6.43 G allocations: 607.361 GiB, 10.60% gc time)\n",
      "  0.831218 seconds (5.35 M allocations: 563.018 MiB, 5.66% gc time)\n",
      "6410.931663 seconds (76.92 G allocations: 6.823 TiB, 10.06% gc time)\n"
     ]
    }
   ],
   "source": [
    "cd(\"/Users/biona001/.julia/dev/MendelImpute/data/1000_genome_phase3_v5/filtered\")\n",
    "function filter_and_mask()\n",
    "    for chr in [18]\n",
    "        # filter chromosome data for unique snps\n",
    "        data = \"../beagle_raw/chr$chr.1kg.phase3.v5a.vcf.gz\"\n",
    "        full_record_index = .!find_duplicate_marker(data)\n",
    "        @time VCFTools.filter(data, full_record_index, 1:nsamples(data), \n",
    "            des = \"chr$chr.uniqueSNPs.vcf.gz\")\n",
    "\n",
    "        # summarize data\n",
    "        total_snps, samples, _, _, _, maf_by_record, _ = gtstats(\"chr$chr.uniqueSNPs.vcf.gz\")\n",
    "\n",
    "        # generate target panel with all snps\n",
    "        n = 100\n",
    "        sample_idx = falses(samples)\n",
    "        sample_idx[1:n] .= true\n",
    "        shuffle!(sample_idx)\n",
    "        @time VCFTools.filter(\"chr$chr.uniqueSNPs.vcf.gz\", 1:total_snps, \n",
    "            sample_idx, des = \"target.chr$chr.full.vcf.gz\", allow_multiallelic=false)\n",
    "\n",
    "        # also generate reference panel without target samples\n",
    "        @time VCFTools.filter(\"chr$chr.uniqueSNPs.vcf.gz\", 1:total_snps, \n",
    "            .!sample_idx, des = \"ref.chr$chr.excludeTarget.vcf.gz\", allow_multiallelic=false)\n",
    "        \n",
    "        for maf in [0.0005, 0.001, 0.01, 0.1, 0.45]\n",
    "            \n",
    "            # generate target file with 100 samples and typed snps with certain maf\n",
    "            my_maf = findall(x -> x > maf, maf_by_record)  \n",
    "            p = length(my_maf)\n",
    "            record_idx = falses(total_snps)\n",
    "            record_idx[my_maf] .= true\n",
    "            @time VCFTools.filter(\"chr$chr.uniqueSNPs.vcf.gz\", record_idx, sample_idx, \n",
    "                des = \"target.chr$chr.typedOnly.maf$maf.vcf.gz\", allow_multiallelic=false)\n",
    "\n",
    "            # unphase and mask 1% entries in target file\n",
    "            masks = falses(p, n)\n",
    "            missingprop = 0.001\n",
    "            for j in 1:n, i in 1:p\n",
    "                rand() < missingprop && (masks[i, j] = true)\n",
    "            end\n",
    "            @time mask_gt(\"target.chr$chr.typedOnly.maf$maf.vcf.gz\", masks, \n",
    "                des=\"target.chr$chr.typedOnly.maf$maf.masked.vcf.gz\", unphase=true)\n",
    "        end\n",
    "    end \n",
    "end\n",
    "Random.seed!(2020)\n",
    "@time filter_and_mask()"
   ]
  },
  {
   "cell_type": "markdown",
   "metadata": {},
   "source": [
    "# Try jlso compression"
   ]
  },
  {
   "cell_type": "code",
   "execution_count": 8,
   "metadata": {
    "collapsed": false
   },
   "outputs": [
    {
     "name": "stderr",
     "output_type": "stream",
     "text": [
      "\u001b[32mimporting reference data...100%|████████████████████████| Time: 0:07:21\u001b[39m\n"
     ]
    },
    {
     "name": "stdout",
     "output_type": "stream",
     "text": [
      "320.246937 seconds (2.59 M allocations: 174.146 GiB, 11.52% gc time)\n",
      "181.169073 seconds (2.20 M allocations: 89.185 GiB, 10.73% gc time)\n",
      "144.922225 seconds (1.99 M allocations: 46.982 GiB, 11.61% gc time)\n",
      "127.773475 seconds (1.86 M allocations: 25.765 GiB, 10.90% gc time)\n",
      "119.267469 seconds (1.79 M allocations: 15.044 GiB, 10.64% gc time)\n",
      "119.533021 seconds (1.76 M allocations: 9.956 GiB, 8.93% gc time)\n"
     ]
    }
   ],
   "source": [
    "widths = [64, 128, 256, 512, 1024, 2048]\n",
    "mafs = [0.1]\n",
    "\n",
    "reffile = \"ref.chr18.excludeTarget.vcf.gz\"\n",
    "H, H_sampleID, H_chr, H_pos, H_ids, H_ref, H_alt = convert_ht(Bool, reffile, trans=true, save_snp_info=true, msg=\"importing reference data...\")\n",
    "\n",
    "for maf in mafs\n",
    "    tgtfile = \"target.chr18.typedOnly.maf$maf.masked.vcf.gz\"\n",
    "    X, X_sampleID, X_chr, X_pos, X_ids, X_ref, X_alt = VCFTools.convert_gt(UInt8, tgtfile, trans=true, save_snp_info=true, msg = \"Importing genotype file...\")\n",
    "    for width in widths\n",
    "        outfile = \"ref.chr18.$width.maf$maf.excludeTarget.jlso\"\n",
    "        @time compress_haplotypes(H, X, outfile, X_pos, H_sampleID, H_chr, H_pos, H_ids, H_ref, H_alt, width)\n",
    "    end\n",
    "end"
   ]
  },
  {
   "cell_type": "code",
   "execution_count": 15,
   "metadata": {
    "collapsed": false
   },
   "outputs": [
    {
     "name": "stdout",
     "output_type": "stream",
     "text": [
      "-rw-r--r--@ 1 biona001  staff  247072174 May 19 23:43 ref.chr18.excludeTarget.vcf.gz\n"
     ]
    }
   ],
   "source": [
    ";ls -al ref.chr18.excludeTarget.vcf.gz"
   ]
  },
  {
   "cell_type": "code",
   "execution_count": 9,
   "metadata": {
    "collapsed": false
   },
   "outputs": [
    {
     "name": "stdout",
     "output_type": "stream",
     "text": [
      "-rw-r--r--  1 biona001  staff  181178930 Jun 22 22:13 ref.chr18.2048.maf0.1.excludeTarget.jlso\n"
     ]
    }
   ],
   "source": [
    ";ls -al ref.chr18.2048.maf0.1.excludeTarget.jlso"
   ]
  },
  {
   "cell_type": "code",
   "execution_count": 10,
   "metadata": {
    "collapsed": false
   },
   "outputs": [
    {
     "name": "stdout",
     "output_type": "stream",
     "text": [
      "-rw-r--r--  1 biona001  staff  147794707 Jun 22 22:11 ref.chr18.1024.maf0.1.excludeTarget.jlso\n"
     ]
    }
   ],
   "source": [
    ";ls -al ref.chr18.1024.maf0.1.excludeTarget.jlso"
   ]
  },
  {
   "cell_type": "code",
   "execution_count": 11,
   "metadata": {
    "collapsed": false
   },
   "outputs": [
    {
     "name": "stdout",
     "output_type": "stream",
     "text": [
      "-rw-r--r--  1 biona001  staff  124897790 Jun 22 22:09 ref.chr18.512.maf0.1.excludeTarget.jlso\n"
     ]
    }
   ],
   "source": [
    ";ls -al ref.chr18.512.maf0.1.excludeTarget.jlso"
   ]
  },
  {
   "cell_type": "code",
   "execution_count": 12,
   "metadata": {
    "collapsed": false
   },
   "outputs": [
    {
     "name": "stdout",
     "output_type": "stream",
     "text": [
      "-rw-r--r--  1 biona001  staff  108975253 Jun 22 22:07 ref.chr18.256.maf0.1.excludeTarget.jlso\n"
     ]
    }
   ],
   "source": [
    ";ls -al ref.chr18.256.maf0.1.excludeTarget.jlso"
   ]
  },
  {
   "cell_type": "code",
   "execution_count": 13,
   "metadata": {
    "collapsed": false
   },
   "outputs": [
    {
     "name": "stdout",
     "output_type": "stream",
     "text": [
      "-rw-r--r--  1 biona001  staff  104953004 Jun 22 22:04 ref.chr18.128.maf0.1.excludeTarget.jlso\n"
     ]
    }
   ],
   "source": [
    ";ls -al ref.chr18.128.maf0.1.excludeTarget.jlso"
   ]
  },
  {
   "cell_type": "code",
   "execution_count": 14,
   "metadata": {
    "collapsed": false
   },
   "outputs": [
    {
     "name": "stdout",
     "output_type": "stream",
     "text": [
      "-rw-r--r--  1 biona001  staff  116884792 Jun 22 22:01 ref.chr18.64.maf0.1.excludeTarget.jlso\n"
     ]
    }
   ],
   "source": [
    ";ls -al ref.chr18.64.maf0.1.excludeTarget.jlso"
   ]
  },
  {
   "cell_type": "markdown",
   "metadata": {},
   "source": [
    "# MendelImpute error rate and timing"
   ]
  },
  {
   "cell_type": "code",
   "execution_count": 2,
   "metadata": {
    "collapsed": false
   },
   "outputs": [
    {
     "data": {
      "text/plain": [
       "8"
      ]
     },
     "execution_count": 2,
     "metadata": {},
     "output_type": "execute_result"
    }
   ],
   "source": [
    "Threads.nthreads()"
   ]
  },
  {
   "cell_type": "code",
   "execution_count": 5,
   "metadata": {
    "collapsed": false
   },
   "outputs": [
    {
     "name": "stderr",
     "output_type": "stream",
     "text": [
      "\u001b[32mComputing optimal haplotype pairs...100%|███████████████| Time: 0:01:25\u001b[39m\n",
      "\u001b[32mWriting to file...100%|█████████████████████████████████| Time: 0:00:06\u001b[39m\n"
     ]
    },
    {
     "name": "stdout",
     "output_type": "stream",
     "text": [
      "Total windows = 331, averaging ~ 4096 unique haplotypes per window.\n",
      "\n",
      "Timings: \n",
      "    Data import                     = 9.74024 seconds\n",
      "    Computing haplotype pair        = 85.2919 seconds\n",
      "        BLAS3 mul! to get M and N      = 8.61617 seconds (on thread 1)\n",
      "        haplopair search               = 64.4019 seconds (on thread 1)\n",
      "        supplying constant terms       = 0.00321546 seconds (on thread 1)\n",
      "        finding redundant happairs     = 0.0970909 seconds (on thread 1)\n",
      "    Phasing by dynamic programming  = 0.649192 seconds\n",
      "    Imputation                      = 8.47943 seconds\n",
      "\n",
      "104.170289 seconds (52.61 M allocations: 29.689 GiB, 5.50% gc time)\n",
      "error overall = 0.006451474427693109 \n",
      "\n"
     ]
    }
   ],
   "source": [
    "# 8 threads, keep best happair\n",
    "Random.seed!(2020)\n",
    "chr = 18\n",
    "maf = 0.1\n",
    "width = 512\n",
    "tgtfile = \"target.chr$chr.typedOnly.maf$maf.masked.vcf.gz\"\n",
    "reffile = \"ref.chr18.$width.maf$maf.excludeTarget.jlso\"\n",
    "outfile = \"mendel.imputed.dp$width.maf$maf.vcf.gz\"\n",
    "@time ph, hs = phase(tgtfile, reffile, outfile=outfile, impute=true, width=width)\n",
    "\n",
    "X_complete = convert_gt(UInt8, \"target.chr18.full.vcf.gz\")\n",
    "n, p = size(X_complete)\n",
    "X_mendel = convert_gt(UInt8, outfile)\n",
    "println(\"error overall = $(sum(X_mendel .!= X_complete) / n / p) \\n\")"
   ]
  },
  {
   "cell_type": "code",
   "execution_count": 3,
   "metadata": {
    "collapsed": false
   },
   "outputs": [
    {
     "name": "stderr",
     "output_type": "stream",
     "text": [
      "\u001b[32mComputing optimal haplotype pairs...100%|███████████████| Time: 0:01:16\u001b[39m\n",
      "\u001b[32mWriting to file...100%|█████████████████████████████████| Time: 0:00:05\u001b[39m\n"
     ]
    },
    {
     "name": "stdout",
     "output_type": "stream",
     "text": [
      "Total windows = 331, averaging ~ 4096 unique haplotypes per window.\n",
      "\n",
      "Timings: \n",
      "    Data import                     = 10.966 seconds\n",
      "    Computing haplotype pair        = 76.6596 seconds\n",
      "        BLAS3 mul! to get M and N      = 8.16239 seconds (on thread 1)\n",
      "        haplopair search               = 56.776 seconds (on thread 1)\n",
      "        min least sq on observed data  = 0.00303375 seconds (on thread 1)\n",
      "        finding redundant happairs     = 0.124476 seconds (on thread 1)\n",
      "    Phasing by dynamic programming  = 1.07163 seconds\n",
      "    Imputation                      = 7.50414 seconds\n",
      "\n",
      "117.950050 seconds (132.68 M allocations: 33.714 GiB, 5.62% gc time)\n",
      "error overall = 0.006451474427693109 \n",
      "\n"
     ]
    }
   ],
   "source": [
    "# 8 threads, keep best happair\n",
    "Random.seed!(2020)\n",
    "chr = 18\n",
    "maf = 0.1\n",
    "width = 512\n",
    "tgtfile = \"target.chr$chr.typedOnly.maf$maf.masked.vcf.gz\"\n",
    "reffile = \"ref.chr18.$width.maf$maf.excludeTarget.jlso\"\n",
    "outfile = \"mendel.imputed.dp$width.maf$maf.vcf.gz\"\n",
    "@time ph, hs = phase(tgtfile, reffile, outfile=outfile, impute=true, width=width, screen=false)\n",
    "\n",
    "X_complete = convert_gt(UInt8, \"target.chr18.full.vcf.gz\")\n",
    "n, p = size(X_complete)\n",
    "X_mendel = convert_gt(UInt8, outfile)\n",
    "println(\"error overall = $(sum(X_mendel .!= X_complete) / n / p) \\n\")"
   ]
  },
  {
   "cell_type": "code",
   "execution_count": 4,
   "metadata": {
    "collapsed": false
   },
   "outputs": [
    {
     "name": "stderr",
     "output_type": "stream",
     "text": [
      "\u001b[32mComputing optimal haplotype pairs...100%|███████████████| Time: 0:01:45\u001b[39m\n",
      "\u001b[32mWriting to file...100%|█████████████████████████████████| Time: 0:00:05\u001b[39m\n"
     ]
    },
    {
     "name": "stdout",
     "output_type": "stream",
     "text": [
      "Total windows = 331, averaging ~ 4096 unique haplotypes per window.\n",
      "\n",
      "Timings: \n",
      "    Data import                     = 9.2194 seconds\n",
      "    Computing haplotype pair        = 105.388 seconds\n",
      "        BLAS3 mul! to get M and N      = 9.60363 seconds (on thread 1)\n",
      "        haplopair search               = 46.1772 seconds (on thread 1)\n",
      "        min least sq on observed data  = 0.00231333 seconds (on thread 1)\n",
      "        finding redundant happairs     = 0.463115 seconds (on thread 1)\n",
      "    Phasing by dynamic programming  = 0.0962801 seconds\n",
      "    Imputation                      = 7.27937 seconds\n",
      "\n",
      "121.982448 seconds (51.69 M allocations: 29.646 GiB, 15.75% gc time)\n",
      "error overall = 0.006451474427693109 \n",
      "\n"
     ]
    }
   ],
   "source": [
    "# 8 threads, keep best happair\n",
    "Random.seed!(2020)\n",
    "chr = 18\n",
    "maf = 0.1\n",
    "width = 512\n",
    "tgtfile = \"target.chr$chr.typedOnly.maf$maf.masked.vcf.gz\"\n",
    "reffile = \"ref.chr18.$width.maf$maf.excludeTarget.jlso\"\n",
    "outfile = \"mendel.imputed.dp$width.maf$maf.vcf.gz\"\n",
    "@time ph, hs = phase(tgtfile, reffile, outfile=outfile, impute=true, width=width, screen=false)\n",
    "\n",
    "X_complete = convert_gt(UInt8, \"target.chr18.full.vcf.gz\")\n",
    "n, p = size(X_complete)\n",
    "X_mendel = convert_gt(UInt8, outfile)\n",
    "println(\"error overall = $(sum(X_mendel .!= X_complete) / n / p) \\n\")"
   ]
  },
  {
   "cell_type": "code",
   "execution_count": null,
   "metadata": {
    "collapsed": true
   },
   "outputs": [],
   "source": []
  },
  {
   "cell_type": "code",
   "execution_count": 4,
   "metadata": {
    "collapsed": false
   },
   "outputs": [
    {
     "name": "stderr",
     "output_type": "stream",
     "text": [
      "\u001b[32mComputing optimal haplotype pairs...100%|███████████████| Time: 0:02:26\u001b[39m\n",
      "\u001b[32mWriting to file...100%|█████████████████████████████████| Time: 0:00:06\u001b[39m\n"
     ]
    },
    {
     "name": "stdout",
     "output_type": "stream",
     "text": [
      "Total windows = 331, averaging ~ 4096 unique haplotypes per window.\n",
      "\n",
      "Timings: \n",
      "    Data import                     = 9.58176 seconds\n",
      "    Computing haplotype pair        = 146.002 seconds\n",
      "        BLAS3 mul! to get M and N      = 10.7147 seconds (on thread 1)\n",
      "        haplopair search               = 68.3116 seconds (on thread 1)\n",
      "        min least sq on observed data  = 12.3559 seconds (on thread 1)\n",
      "        finding redundant happairs     = 0.0778098 seconds (on thread 1)\n",
      "    Phasing by dynamic programming  = 0.140034 seconds\n",
      "    Imputation                      = 8.56125 seconds\n",
      "\n",
      "164.284161 seconds (51.79 M allocations: 29.704 GiB, 11.40% gc time)\n",
      "error overall = 0.006390132793495675 \n",
      "\n"
     ]
    }
   ],
   "source": [
    "# 8 threads, keep 100 happairs and screen using observed entries only\n",
    "Random.seed!(2020)\n",
    "chr = 18\n",
    "maf = 0.1\n",
    "width = 512\n",
    "tgtfile = \"target.chr$chr.typedOnly.maf$maf.masked.vcf.gz\"\n",
    "reffile = \"ref.chr18.$width.maf$maf.excludeTarget.jlso\"\n",
    "outfile = \"mendel.imputed.dp$width.maf$maf.vcf.gz\"\n",
    "@time ph, hs = phase(tgtfile, reffile, outfile=outfile, impute=true, width=width, screen=true)\n",
    "\n",
    "X_complete = convert_gt(UInt8, \"target.chr18.full.vcf.gz\")\n",
    "n, p = size(X_complete)\n",
    "X_mendel = convert_gt(UInt8, outfile)\n",
    "println(\"error overall = $(sum(X_mendel .!= X_complete) / n / p) \\n\")"
   ]
  },
  {
   "cell_type": "code",
   "execution_count": 3,
   "metadata": {
    "collapsed": false,
    "scrolled": false
   },
   "outputs": [
    {
     "name": "stderr",
     "output_type": "stream",
     "text": [
      "\u001b[32mComputing optimal haplotype pairs...100%|███████████████| Time: 0:00:37\u001b[39m\n",
      "\u001b[32mMerging breakpoints...100%|█████████████████████████████| Time: 0:00:37\u001b[39m\n",
      "\u001b[32mWriting to file...100%|█████████████████████████████████| Time: 0:00:05\u001b[39m\n"
     ]
    },
    {
     "name": "stdout",
     "output_type": "stream",
     "text": [
      "Total windows = 2654, averaging ~ 528 unique haplotypes per window.\n",
      "\n",
      "Timings: \n",
      "    Data import                     = 10.5957 seconds\n",
      "    Computing haplotype pair        = 37.8185 seconds\n",
      "        BLAS3 mul! to get M and N      = 1.29507 seconds (on thread 1)\n",
      "        haplopair search               = 22.2011 seconds (on thread 1)\n",
      "        supplying constant terms       = 0.00197563 seconds (on thread 1)\n",
      "        finding redundant happairs     = 2.26997 seconds (on thread 1)\n",
      "    Phasing by dynamic programming  = 37.4118 seconds\n",
      "    Imputation                      = 8.13028 seconds\n",
      "\n",
      " 94.014567 seconds (66.83 M allocations: 23.407 GiB, 9.55% gc time)\n",
      "error overall = 0.006065514741931171 \n",
      "\n"
     ]
    },
    {
     "name": "stderr",
     "output_type": "stream",
     "text": [
      "\u001b[32mComputing optimal haplotype pairs...100%|███████████████| Time: 0:01:22\u001b[39m\n",
      "\u001b[32mMerging breakpoints...100%|█████████████████████████████| Time: 0:00:10\u001b[39m\n",
      "\u001b[32mWriting to file...100%|█████████████████████████████████| Time: 0:00:06\u001b[39m\n"
     ]
    },
    {
     "name": "stdout",
     "output_type": "stream",
     "text": [
      "Total windows = 1327, averaging ~ 1268 unique haplotypes per window.\n",
      "\n",
      "Timings: \n",
      "    Data import                     = 10.8014 seconds\n",
      "    Computing haplotype pair        = 82.5595 seconds\n",
      "        BLAS3 mul! to get M and N      = 3.96076 seconds (on thread 1)\n",
      "        haplopair search               = 49.5698 seconds (on thread 1)\n",
      "        supplying constant terms       = 0.00259007 seconds (on thread 1)\n",
      "        finding redundant happairs     = 0.334425 seconds (on thread 1)\n",
      "    Phasing by dynamic programming  = 10.2457 seconds\n",
      "    Imputation                      = 8.63318 seconds\n",
      "\n",
      "112.239048 seconds (53.49 M allocations: 22.345 GiB, 12.42% gc time)\n",
      "error overall = 0.005058866856986026 \n",
      "\n"
     ]
    },
    {
     "name": "stderr",
     "output_type": "stream",
     "text": [
      "\u001b[32mComputing optimal haplotype pairs...100%|███████████████| Time: 0:01:51\u001b[39m\n",
      "\u001b[32mWriting to file...100%|█████████████████████████████████| Time: 0:00:06\u001b[39m\n"
     ]
    },
    {
     "name": "stdout",
     "output_type": "stream",
     "text": [
      "Total windows = 663, averaging ~ 2612 unique haplotypes per window.\n",
      "\n",
      "Timings: \n",
      "    Data import                     = 9.88243 seconds\n",
      "    Computing haplotype pair        = 111.997 seconds\n",
      "        BLAS3 mul! to get M and N      = 8.32228 seconds (on thread 1)\n",
      "        haplopair search               = 83.7397 seconds (on thread 1)\n",
      "        supplying constant terms       = 0.00321018 seconds (on thread 1)\n",
      "        finding redundant happairs     = 0.236331 seconds (on thread 1)\n",
      "    Phasing by dynamic programming  = 0.806961 seconds\n",
      "    Imputation                      = 8.27193 seconds\n",
      "\n",
      "130.957690 seconds (52.18 M allocations: 28.233 GiB, 7.08% gc time)\n",
      "error overall = 0.005122554251573419 \n",
      "\n"
     ]
    },
    {
     "name": "stderr",
     "output_type": "stream",
     "text": [
      "\u001b[32mComputing optimal haplotype pairs...100%|███████████████| Time: 0:01:44\u001b[39m\n",
      "\u001b[32mWriting to file...100%|█████████████████████████████████| Time: 0:00:05\u001b[39m\n"
     ]
    },
    {
     "name": "stdout",
     "output_type": "stream",
     "text": [
      "Total windows = 331, averaging ~ 4096 unique haplotypes per window.\n",
      "\n",
      "Timings: \n",
      "    Data import                     = 10.5841 seconds\n",
      "    Computing haplotype pair        = 104.217 seconds\n",
      "        BLAS3 mul! to get M and N      = 10.1559 seconds (on thread 1)\n",
      "        haplopair search               = 77.6486 seconds (on thread 1)\n",
      "        supplying constant terms       = 0.00415559 seconds (on thread 1)\n",
      "        finding redundant happairs     = 0.131554 seconds (on thread 1)\n",
      "    Phasing by dynamic programming  = 0.129944 seconds\n",
      "    Imputation                      = 7.90087 seconds\n",
      "\n",
      "122.831245 seconds (51.69 M allocations: 29.646 GiB, 6.03% gc time)\n",
      "error overall = 0.006451474427693109 \n",
      "\n"
     ]
    },
    {
     "name": "stderr",
     "output_type": "stream",
     "text": [
      "\u001b[32mComputing optimal haplotype pairs...100%|███████████████| Time: 0:01:01\u001b[39m\n",
      "\u001b[32mWriting to file...100%|█████████████████████████████████| Time: 0:00:07\u001b[39m\n"
     ]
    },
    {
     "name": "stdout",
     "output_type": "stream",
     "text": [
      "Total windows = 165, averaging ~ 4743 unique haplotypes per window.\n",
      "\n",
      "Timings: \n",
      "    Data import                     = 9.84639 seconds\n",
      "    Computing haplotype pair        = 61.125 seconds\n",
      "        BLAS3 mul! to get M and N      = 13.4716 seconds (on thread 1)\n",
      "        haplopair search               = 38.8376 seconds (on thread 1)\n",
      "        supplying constant terms       = 0.00378809 seconds (on thread 1)\n",
      "        finding redundant happairs     = 0.0269305 seconds (on thread 1)\n",
      "    Phasing by dynamic programming  = 0.116395 seconds\n",
      "    Imputation                      = 9.17756 seconds\n",
      "\n",
      " 80.265040 seconds (51.55 M allocations: 22.118 GiB, 6.68% gc time)\n",
      "error overall = 0.009391568398854331 \n",
      "\n"
     ]
    },
    {
     "name": "stderr",
     "output_type": "stream",
     "text": [
      "\u001b[32mComputing optimal haplotype pairs...100%|███████████████| Time: 0:00:35\u001b[39m\n",
      "\u001b[32mWriting to file...100%|█████████████████████████████████| Time: 0:00:09\u001b[39m\n"
     ]
    },
    {
     "name": "stdout",
     "output_type": "stream",
     "text": [
      "Total windows = 82, averaging ~ 4807 unique haplotypes per window.\n",
      "\n",
      "Timings: \n",
      "    Data import                     = 9.9829 seconds\n",
      "    Computing haplotype pair        = 35.9086 seconds\n",
      "        BLAS3 mul! to get M and N      = 13.7177 seconds (on thread 1)\n",
      "        haplopair search               = 18.4346 seconds (on thread 1)\n",
      "        supplying constant terms       = 0.00371831 seconds (on thread 1)\n",
      "        finding redundant happairs     = 0.011243 seconds (on thread 1)\n",
      "    Phasing by dynamic programming  = 0.150188 seconds\n",
      "    Imputation                      = 11.8006 seconds\n",
      "\n",
      " 57.842213 seconds (51.50 M allocations: 15.128 GiB, 5.62% gc time)\n",
      "error overall = 0.01400232464854645 \n",
      "\n"
     ]
    }
   ],
   "source": [
    "# 8 threads, keep best happair\n",
    "Random.seed!(2020)\n",
    "function run()\n",
    "    chr = 18\n",
    "    maf = 0.1\n",
    "    X_complete = convert_gt(UInt8, \"target.chr18.full.vcf.gz\")\n",
    "    n, p = size(X_complete)\n",
    "    for width in [64, 128, 256, 512, 1024, 2048]\n",
    "        tgtfile = \"target.chr$chr.typedOnly.maf$maf.masked.vcf.gz\"\n",
    "        reffile = \"ref.chr18.$width.maf$maf.excludeTarget.jlso\"\n",
    "        outfile = \"mendel.imputed.dp$width.maf$maf.vcf.gz\"\n",
    "        @time ph, hs = phase(tgtfile, reffile, outfile=outfile, impute=true, width=width)\n",
    "        \n",
    "        X_mendel = convert_gt(UInt8, outfile)\n",
    "        println(\"error overall = $(sum(X_mendel .!= X_complete) / n / p) \\n\")\n",
    "    end\n",
    "end\n",
    "run()"
   ]
  },
  {
   "cell_type": "markdown",
   "metadata": {},
   "source": [
    "# Haplotype Thinning"
   ]
  },
  {
   "cell_type": "code",
   "execution_count": 2,
   "metadata": {
    "collapsed": false
   },
   "outputs": [
    {
     "data": {
      "text/plain": [
       "8"
      ]
     },
     "execution_count": 2,
     "metadata": {},
     "output_type": "execute_result"
    }
   ],
   "source": [
    "Threads.nthreads()"
   ]
  },
  {
   "cell_type": "code",
   "execution_count": 3,
   "metadata": {
    "collapsed": false
   },
   "outputs": [
    {
     "name": "stderr",
     "output_type": "stream",
     "text": [
      "\u001b[32mComputing optimal haplotype pairs...100%|███████████████| Time: 0:00:20\u001b[39m\n"
     ]
    },
    {
     "name": "stdout",
     "output_type": "stream",
     "text": [
      "Each window have ~ 4206 unique haplotypes on average\n"
     ]
    },
    {
     "name": "stderr",
     "output_type": "stream",
     "text": [
      "\u001b[32mWriting to file...100%|█████████████████████████████████| Time: 0:00:05\u001b[39m\n"
     ]
    },
    {
     "name": "stdout",
     "output_type": "stream",
     "text": [
      "Data import time                    = 10.2285 seconds\n",
      "Computing haplotype pair time       = 20.9888 seconds\n",
      "Phasing by dynamic programming time = 0.962151 seconds\n",
      "Imputing time                       = 7.64746 seconds\n",
      " 61.483484 seconds (316.41 M allocations: 22.896 GiB, 7.52% gc time)\n",
      "error overall = 0.015155699845883544 \n",
      "\n"
     ]
    }
   ],
   "source": [
    "# 8 threads, hamming, search top 100 unique haplotypes per window\n",
    "Random.seed!(2020)\n",
    "chr = 18\n",
    "maf = 0.1\n",
    "width = 2000\n",
    "tgtfile = \"target.chr$chr.typedOnly.maf$maf.masked.vcf.gz\"\n",
    "reffile = \"ref.$width.chr18.excludeTarget.jlso\"\n",
    "outfile = \"mendel.imputed.dp$width.maf$maf.vcf.gz\"\n",
    "@time ph, hs = phase(tgtfile, reffile, outfile=outfile, impute=true, width=width)\n",
    "\n",
    "X_complete = convert_gt(UInt8, \"target.chr18.full.vcf.gz\")\n",
    "n, p = size(X_complete)\n",
    "X_mendel = convert_gt(UInt8, outfile)\n",
    "println(\"error overall = $(sum(X_mendel .!= X_complete) / n / p) \\n\")"
   ]
  },
  {
   "cell_type": "code",
   "execution_count": 6,
   "metadata": {
    "collapsed": false
   },
   "outputs": [
    {
     "name": "stderr",
     "output_type": "stream",
     "text": [
      "\u001b[32mComputing optimal haplotype pairs...100%|███████████████| Time: 0:01:56\u001b[39m\n"
     ]
    },
    {
     "name": "stdout",
     "output_type": "stream",
     "text": [
      "Each window have ~ 4206 unique haplotypes on average\n"
     ]
    },
    {
     "name": "stderr",
     "output_type": "stream",
     "text": [
      "\u001b[32mWriting to file...100%|█████████████████████████████████| Time: 0:00:05\u001b[39m\n"
     ]
    },
    {
     "name": "stdout",
     "output_type": "stream",
     "text": [
      "Data import time                    = 8.30653 seconds\n",
      "Computing haplotype pair time       = 116.482 seconds\n",
      "Phasing by dynamic programming time = 0.150957 seconds\n",
      "Imputing time                       = 7.68015 seconds\n",
      "132.606046 seconds (231.05 M allocations: 20.794 GiB, 4.15% gc time)\n",
      "error overall = 0.009443362788264631 \n",
      "\n"
     ]
    }
   ],
   "source": [
    "# 8 threads, hamming, search top 1000 unique haplotypes per window\n",
    "Random.seed!(2020)\n",
    "chr = 18\n",
    "maf = 0.1\n",
    "width = 2000\n",
    "tgtfile = \"target.chr$chr.typedOnly.maf$maf.masked.vcf.gz\"\n",
    "reffile = \"ref.$width.chr18.excludeTarget.jlso\"\n",
    "outfile = \"mendel.imputed.dp$width.maf$maf.vcf.gz\"\n",
    "@time ph, hs = phase(tgtfile, reffile, outfile=outfile, impute=true, width=width)\n",
    "\n",
    "X_complete = convert_gt(UInt8, \"target.chr18.full.vcf.gz\")\n",
    "n, p = size(X_complete)\n",
    "X_mendel = convert_gt(UInt8, outfile)\n",
    "println(\"error overall = $(sum(X_mendel .!= X_complete) / n / p) \\n\")"
   ]
  },
  {
   "cell_type": "code",
   "execution_count": 4,
   "metadata": {
    "collapsed": false
   },
   "outputs": [
    {
     "name": "stderr",
     "output_type": "stream",
     "text": [
      "\u001b[32mComputing optimal haplotype pairs...100%|███████████████| Time: 0:01:56\u001b[39m\n",
      "\u001b[32mWriting to file...100%|█████████████████████████████████| Time: 0:00:06\u001b[39m\n"
     ]
    },
    {
     "name": "stdout",
     "output_type": "stream",
     "text": [
      "Total window = 426, each with ~ 4206 unique haplotypes on avg\n",
      "Data import time                    = 9.03808 seconds\n",
      "Computing haplotype pair time       = 116.16 seconds\n",
      "    BLAS3 mul! to get M and N           = 102.169 seconds (on thread 1)\n",
      "    haplopair search                    = 7.02312 seconds (on thread 1)\n",
      "    supplying constant terms            = 0.00553182 seconds (on thread 1)\n",
      "    finding redundant happairs          = 0.0778568 seconds (on thread 1)\n",
      "Phasing by dynamic programming time = 0.247162 seconds\n",
      "Imputing time                       = 8.84356 seconds\n",
      "134.422072 seconds (54.62 M allocations: 12.249 GiB, 3.16% gc time)\n",
      "error overall = 0.007742639590336406 \n",
      "\n"
     ]
    }
   ],
   "source": [
    "# 8 threads, euclidean, search top 1000 unique haplotypes per window\n",
    "Random.seed!(2020)\n",
    "chr = 18\n",
    "maf = 0.1\n",
    "width = 2000\n",
    "tgtfile = \"target.chr$chr.typedOnly.maf$maf.masked.vcf.gz\"\n",
    "reffile = \"ref.$width.chr18.excludeTarget.jlso\"\n",
    "outfile = \"mendel.imputed.dp$width.maf$maf.vcf.gz\"\n",
    "@time ph, hs = phase(tgtfile, reffile, outfile=outfile, impute=true, width=width)\n",
    "\n",
    "X_complete = convert_gt(UInt8, \"target.chr18.full.vcf.gz\")\n",
    "n, p = size(X_complete)\n",
    "X_mendel = convert_gt(UInt8, outfile)\n",
    "println(\"error overall = $(sum(X_mendel .!= X_complete) / n / p) \\n\")"
   ]
  },
  {
   "cell_type": "code",
   "execution_count": 3,
   "metadata": {
    "collapsed": false
   },
   "outputs": [
    {
     "name": "stderr",
     "output_type": "stream",
     "text": [
      "\u001b[32mComputing optimal haplotype pairs...100%|███████████████| Time: 0:00:08\u001b[39m\n"
     ]
    },
    {
     "name": "stdout",
     "output_type": "stream",
     "text": [
      "Each window have ~ 4206 unique haplotypes on average\n"
     ]
    },
    {
     "name": "stderr",
     "output_type": "stream",
     "text": [
      "\u001b[32mWriting to file...100%|█████████████████████████████████| Time: 0:00:05\u001b[39m\n"
     ]
    },
    {
     "name": "stdout",
     "output_type": "stream",
     "text": [
      "Data import time                    = 8.4482 seconds\n",
      "Computing haplotype pair time       = 8.34869 seconds\n",
      "Phasing by dynamic programming time = 0.16332 seconds\n",
      "Imputing time                       = 7.12257 seconds\n",
      " 24.160206 seconds (54.39 M allocations: 10.095 GiB, 14.30% gc time)\n",
      "error overall = 0.012632811088878516 \n",
      "\n"
     ]
    }
   ],
   "source": [
    "# 8 threads, euclidean, search top 100 unique haplotypes per window\n",
    "Random.seed!(2020)\n",
    "chr = 18\n",
    "maf = 0.1\n",
    "width = 2000\n",
    "tgtfile = \"target.chr$chr.typedOnly.maf$maf.masked.vcf.gz\"\n",
    "reffile = \"ref.$width.chr18.excludeTarget.jlso\"\n",
    "outfile = \"mendel.imputed.dp$width.maf$maf.vcf.gz\"\n",
    "@time ph, hs = phase(tgtfile, reffile, outfile=outfile, impute=true, width=width)\n",
    "\n",
    "X_complete = convert_gt(UInt8, \"target.chr18.full.vcf.gz\")\n",
    "n, p = size(X_complete)\n",
    "X_mendel = convert_gt(UInt8, outfile)\n",
    "println(\"error overall = $(sum(X_mendel .!= X_complete) / n / p) \\n\")"
   ]
  },
  {
   "cell_type": "markdown",
   "metadata": {},
   "source": [
    "# Beagle 5.0"
   ]
  },
  {
   "cell_type": "code",
   "execution_count": 3,
   "metadata": {
    "collapsed": false
   },
   "outputs": [
    {
     "name": "stdout",
     "output_type": "stream",
     "text": [
      "beagle.28Sep18.793.jar (version 5.0)\n",
      "Copyright (C) 2014-2018 Brian L. Browning\n",
      "Enter \"java -jar beagle.28Sep18.793.jar\" to list command line argument\n",
      "Start time: 10:09 AM PDT on 08 May 2020\n",
      "\n",
      "Command line: java -Xmx13653m -jar beagle.28Sep18.793.jar\n",
      "  gt=target.chr18.typedOnly.maf0.0005.masked.vcf.gz\n",
      "  ref=ref.chr18.excludeTarget.vcf.gz\n",
      "  out=beagle.imputed.maf0.0005\n",
      "  nthreads=4\n",
      "\n",
      "No genetic map is specified: using 1 cM = 1 Mb\n",
      "\n",
      "Reference samples:       2,404\n",
      "Study samples:             100\n",
      "\n",
      "Window 1 (18:10644-40010629)\n",
      "Reference markers:     414,911\n",
      "Study markers:         414,911\n",
      "\n",
      "Burnin  iteration 1:           48 seconds\n",
      "Burnin  iteration 2:           1 minute 28 seconds\n",
      "Burnin  iteration 3:           1 minute 42 seconds\n",
      "Burnin  iteration 4:           1 minute 46 seconds\n",
      "Burnin  iteration 5:           1 minute 53 seconds\n",
      "Burnin  iteration 6:           2 minutes 5 seconds\n",
      "\n",
      "Phasing iteration 1:           1 minute 59 seconds\n",
      "Phasing iteration 2:           2 minutes 1 second\n",
      "Phasing iteration 3:           2 minutes 3 seconds\n",
      "Phasing iteration 4:           2 minutes 9 seconds\n",
      "Phasing iteration 5:           1 minute 52 seconds\n",
      "Phasing iteration 6:           1 minute 56 seconds\n",
      "Phasing iteration 7:           2 minutes 1 second\n",
      "Phasing iteration 8:           1 minute 54 seconds\n",
      "Phasing iteration 9:           1 minute 47 seconds\n",
      "Phasing iteration 10:          1 minute 46 seconds\n",
      "Phasing iteration 11:          1 minute 43 seconds\n",
      "Phasing iteration 12:          1 minute 38 seconds\n",
      "\n",
      "Window 2 (18:36010613-76010634)\n",
      "Reference markers:     461,002\n",
      "Study markers:         461,002\n",
      "\n",
      "Burnin  iteration 1:           48 seconds\n",
      "Burnin  iteration 2:           1 minute 56 seconds\n",
      "Burnin  iteration 3:           2 minutes 1 second\n",
      "Burnin  iteration 4:           2 minutes 1 second\n",
      "Burnin  iteration 5:           2 minutes 6 seconds\n",
      "Burnin  iteration 6:           2 minutes 9 seconds\n",
      "\n",
      "Phasing iteration 1:           2 minutes 10 seconds\n",
      "Phasing iteration 2:           2 minutes 11 seconds\n",
      "Phasing iteration 3:           2 minutes 15 seconds\n",
      "Phasing iteration 4:           2 minutes 24 seconds\n",
      "Phasing iteration 5:           2 minutes 35 seconds\n",
      "Phasing iteration 6:           2 minutes 28 seconds\n",
      "Phasing iteration 7:           2 minutes 16 seconds\n",
      "Phasing iteration 8:           2 minutes 19 seconds\n",
      "Phasing iteration 9:           2 minutes 9 seconds\n",
      "Phasing iteration 10:          2 minutes 7 seconds\n",
      "Phasing iteration 11:          2 minutes 1 second\n",
      "Phasing iteration 12:          1 minute 56 seconds\n",
      "\n",
      "Window 3 (18:72010594-78017156)\n",
      "Reference markers:      80,505\n",
      "Study markers:          80,505\n",
      "\n",
      "Burnin  iteration 1:           5 seconds\n",
      "Burnin  iteration 2:           4 seconds\n",
      "Burnin  iteration 3:           5 seconds\n",
      "Burnin  iteration 4:           4 seconds\n",
      "Burnin  iteration 5:           6 seconds\n",
      "Burnin  iteration 6:           6 seconds\n",
      "\n",
      "Phasing iteration 1:           5 seconds\n",
      "Phasing iteration 2:           5 seconds\n",
      "Phasing iteration 3:           5 seconds\n",
      "Phasing iteration 4:           5 seconds\n",
      "Phasing iteration 5:           6 seconds\n",
      "Phasing iteration 6:           5 seconds\n",
      "Phasing iteration 7:           6 seconds\n",
      "Phasing iteration 8:           6 seconds\n",
      "Phasing iteration 9:           5 seconds\n",
      "Phasing iteration 10:          5 seconds\n",
      "Phasing iteration 11:          5 seconds\n",
      "Phasing iteration 12:          4 seconds\n",
      "\n",
      "Cumulative Statistics:\n",
      "\n",
      "Study markers:         863,592\n",
      "\n",
      "Haplotype phasing time:        1 hour 11 minutes 57 seconds\n",
      "Total time:                    1 hour 12 minutes 50 seconds\n",
      "\n",
      "End time: 11:22 AM PDT on 08 May 2020\n",
      "beagle.28Sep18.793.jar finished\n"
     ]
    },
    {
     "ename": "DimensionMismatch",
     "evalue": "DimensionMismatch(\"arrays could not be broadcast to a common size; got a dimension with lengths 678557 and 863592\")",
     "output_type": "error",
     "traceback": [
      "DimensionMismatch(\"arrays could not be broadcast to a common size; got a dimension with lengths 678557 and 863592\")",
      "",
      "Stacktrace:",
      " [1] instantiate(::Base.Broadcast.Broadcasted{Base.Broadcast.DefaultArrayStyle{2},Nothing,typeof(!=),Tuple{Array{Union{Missing, UInt8},2},Array{Union{Missing, UInt8},2}}}) at ./broadcast.jl:490",
      " [2] materialize at ./broadcast.jl:819 [inlined]",
      " [3] beagle() at ./In[3]:15",
      " [4] top-level scope at In[3]:18"
     ]
    }
   ],
   "source": [
    "# beagle 5\n",
    "cd(\"/Users/biona001/.julia/dev/MendelImpute/data/1000_genome_phase3_v5/filtered\")\n",
    "function beagle()\n",
    "    chr = 18\n",
    "    for maf in [0.0005, 0.001, 0.01, 0.1, 0.45]\n",
    "        tgtfile = \"target.chr$chr.typedOnly.maf$maf.masked.vcf.gz\"\n",
    "        reffile = \"ref.chr$chr.excludeTarget.vcf.gz\"\n",
    "        outfile = \"beagle.imputed.maf$maf\"\n",
    "        Base.run(`java -Xmx15g -jar beagle.28Sep18.793.jar gt=$tgtfile ref=$reffile out=$outfile nthreads=4`)\n",
    "    end\n",
    "end\n",
    "beagle()"
   ]
  },
  {
   "cell_type": "code",
   "execution_count": 5,
   "metadata": {
    "collapsed": false
   },
   "outputs": [
    {
     "name": "stdout",
     "output_type": "stream",
     "text": [
      "error overall = 5.453964372064586e-6 \n",
      "\n"
     ]
    }
   ],
   "source": [
    "for maf in [0.0005]\n",
    "    # beagle error rate    \n",
    "    chr = 18\n",
    "    X_complete = convert_gt(UInt8, \"target.chr$chr.full.vcf.gz\")\n",
    "    X_beagle = convert_gt(UInt8, \"beagle.imputed.maf$maf.vcf.gz\")\n",
    "    n, p = size(X_complete)\n",
    "    println(\"error overall = $(sum(X_beagle .!= X_complete) / n / p) \\n\")\n",
    "end"
   ]
  },
  {
   "cell_type": "code",
   "execution_count": 1,
   "metadata": {
    "collapsed": false
   },
   "outputs": [
    {
     "name": "stdout",
     "output_type": "stream",
     "text": [
      "beagle.28Sep18.793.jar (version 5.0)\n",
      "Copyright (C) 2014-2018 Brian L. Browning\n",
      "Enter \"java -jar beagle.28Sep18.793.jar\" to list command line argument\n",
      "Start time: 02:52 PM PDT on 12 May 2020\n",
      "\n",
      "Command line: java -Xmx13653m -jar beagle.28Sep18.793.jar\n",
      "  gt=target.chr18.typedOnly.maf0.001.masked.vcf.gz\n",
      "  ref=ref.chr18.excludeTarget.vcf.gz\n",
      "  out=beagle.imputed.maf0.001\n",
      "  nthreads=4\n",
      "\n",
      "No genetic map is specified: using 1 cM = 1 Mb\n",
      "\n",
      "Reference samples:       2,404\n",
      "Study samples:             100\n",
      "\n",
      "Window 1 (18:10644-40010629)\n",
      "Reference markers:     414,911\n",
      "Study markers:         388,114\n",
      "\n",
      "Burnin  iteration 1:           38 seconds\n",
      "Burnin  iteration 2:           1 minute 26 seconds\n",
      "Burnin  iteration 3:           1 minute 28 seconds\n",
      "Burnin  iteration 4:           1 minute 35 seconds\n",
      "Burnin  iteration 5:           1 minute 50 seconds\n",
      "Burnin  iteration 6:           1 minute 47 seconds\n",
      "\n",
      "Phasing iteration 1:           1 minute 43 seconds\n",
      "Phasing iteration 2:           1 minute 47 seconds\n",
      "Phasing iteration 3:           1 minute 43 seconds\n",
      "Phasing iteration 4:           1 minute 31 seconds\n",
      "Phasing iteration 5:           1 minute 33 seconds\n",
      "Phasing iteration 6:           1 minute 32 seconds\n",
      "Phasing iteration 7:           1 minute 35 seconds\n",
      "Phasing iteration 8:           1 minute 33 seconds\n",
      "Phasing iteration 9:           1 minute 31 seconds\n",
      "Phasing iteration 10:          1 minute 26 seconds\n",
      "Phasing iteration 11:          1 minute 29 seconds\n",
      "Phasing iteration 12:          1 minute 27 seconds\n",
      "\n",
      "Imputation time:               33 seconds\n",
      "\n",
      "Window 2 (18:36010613-76010634)\n",
      "Reference markers:     461,002\n",
      "Study markers:         430,867\n",
      "\n",
      "Burnin  iteration 1:           44 seconds\n",
      "Burnin  iteration 2:           1 minute 48 seconds\n",
      "Burnin  iteration 3:           1 minute 49 seconds\n",
      "Burnin  iteration 4:           1 minute 56 seconds\n",
      "Burnin  iteration 5:           2 minutes 6 seconds\n",
      "Burnin  iteration 6:           2 minutes 6 seconds\n",
      "\n",
      "Phasing iteration 1:           1 minute 51 seconds\n",
      "Phasing iteration 2:           2 minutes 4 seconds\n",
      "Phasing iteration 3:           1 minute 51 seconds\n",
      "Phasing iteration 4:           1 minute 50 seconds\n",
      "Phasing iteration 5:           1 minute 52 seconds\n",
      "Phasing iteration 6:           1 minute 56 seconds\n",
      "Phasing iteration 7:           1 minute 58 seconds\n",
      "Phasing iteration 8:           1 minute 59 seconds\n",
      "Phasing iteration 9:           1 minute 47 seconds\n",
      "Phasing iteration 10:          1 minute 46 seconds\n",
      "Phasing iteration 11:          1 minute 53 seconds\n",
      "Phasing iteration 12:          1 minute 40 seconds\n",
      "\n",
      "Imputation time:               38 seconds\n",
      "\n",
      "Window 3 (18:72010594-78017156)\n",
      "Reference markers:      80,505\n",
      "Study markers:          75,267\n",
      "\n",
      "Burnin  iteration 1:           4 seconds\n",
      "Burnin  iteration 2:           5 seconds\n",
      "Burnin  iteration 3:           4 seconds\n",
      "Burnin  iteration 4:           5 seconds\n",
      "Burnin  iteration 5:           5 seconds\n",
      "Burnin  iteration 6:           5 seconds\n",
      "\n",
      "Phasing iteration 1:           5 seconds\n",
      "Phasing iteration 2:           4 seconds\n",
      "Phasing iteration 3:           4 seconds\n",
      "Phasing iteration 4:           5 seconds\n",
      "Phasing iteration 5:           5 seconds\n",
      "Phasing iteration 6:           5 seconds\n",
      "Phasing iteration 7:           6 seconds\n",
      "Phasing iteration 8:           5 seconds\n",
      "Phasing iteration 9:           4 seconds\n",
      "Phasing iteration 10:          5 seconds\n",
      "Phasing iteration 11:          4 seconds\n",
      "Phasing iteration 12:          4 seconds\n",
      "\n",
      "Imputation time:               4 seconds\n",
      "\n",
      "Cumulative Statistics:\n",
      "\n",
      "Reference markers:     863,592\n",
      "Study markers:         807,477\n",
      "\n",
      "Haplotype phasing time:        1 hour 1 minute 53 seconds\n",
      "Imputation time:               4 seconds\n",
      "Total time:                    1 hour 3 minutes 45 seconds\n",
      "\n",
      "End time: 03:55 PM PDT on 12 May 2020\n",
      "beagle.28Sep18.793.jar finished\n"
     ]
    },
    {
     "ename": "UndefVarError",
     "evalue": "UndefVarError: convert_gt not defined",
     "output_type": "error",
     "traceback": [
      "UndefVarError: convert_gt not defined",
      "",
      "Stacktrace:",
      " [1] beagle() at ./In[1]:13",
      " [2] top-level scope at In[1]:19"
     ]
    }
   ],
   "source": [
    "# beagle 5\n",
    "cd(\"/Users/biona001/.julia/dev/MendelImpute/data/1000_genome_phase3_v5/filtered\")\n",
    "function beagle()\n",
    "    chr = 18\n",
    "    for maf in [0.001, 0.01, 0.1, 0.45]\n",
    "        tgtfile = \"target.chr$chr.typedOnly.maf$maf.masked.vcf.gz\"\n",
    "        reffile = \"ref.chr$chr.excludeTarget.vcf.gz\"\n",
    "        outfile = \"beagle.imputed.maf$maf\"\n",
    "        Base.run(`java -Xmx15g -jar beagle.28Sep18.793.jar gt=$tgtfile ref=$reffile out=$outfile nthreads=4`)\n",
    "    end\n",
    "end\n",
    "beagle()"
   ]
  },
  {
   "cell_type": "code",
   "execution_count": 3,
   "metadata": {
    "collapsed": false
   },
   "outputs": [
    {
     "ename": "ErrorException",
     "evalue": "GeneticVariation.VCF.Reader file format error on line 11 ~>\"�;IMP\\t\"",
     "output_type": "error",
     "traceback": [
      "GeneticVariation.VCF.Reader file format error on line 11 ~>\"�;IMP\\t\"",
      "",
      "Stacktrace:",
      " [1] error(::Type, ::String, ::Int64, ::String, ::String) at ./error.jl:42",
      " [2] _read!(::GeneticVariation.VCF.Reader, ::BioCore.Ragel.State{BufferedStreams.BufferedInputStream{TranscodingStreams.TranscodingStream{CodecZlib.GzipDecompressor,IOStream}}}, ::GeneticVariation.VCF.Record) at /Users/biona001/.julia/packages/BioCore/YBJvb/src/ReaderHelper.jl:164",
      " [3] read!(::GeneticVariation.VCF.Reader, ::GeneticVariation.VCF.Record) at /Users/biona001/.julia/packages/BioCore/YBJvb/src/ReaderHelper.jl:134",
      " [4] read at /Users/biona001/.julia/packages/BioCore/YBJvb/src/IO.jl:61 [inlined]",
      " [5] #copy_gt!#7(::Symbol, ::Bool, ::Bool, ::Bool, ::String, ::Nothing, ::typeof(copy_gt!), ::Array{Union{Missing, UInt8},2}, ::GeneticVariation.VCF.Reader) at /Users/biona001/.julia/packages/VCFTools/iQ8nK/src/convert.jl:59",
      " [6] #copy_gt! at ./none:0 [inlined]",
      " [7] #convert_gt#9(::Symbol, ::Bool, ::Bool, ::Bool, ::Bool, ::String, ::Bool, ::typeof(convert_gt), ::Type{UInt8}, ::String) at /Users/biona001/.julia/packages/VCFTools/iQ8nK/src/convert.jl:248",
      " [8] convert_gt(::Type{UInt8}, ::String) at /Users/biona001/.julia/packages/VCFTools/iQ8nK/src/convert.jl:230",
      " [9] top-level scope at In[3]:4"
     ]
    }
   ],
   "source": [
    "# beagle error rate    \n",
    "chr = 18\n",
    "X_complete = convert_gt(UInt8, \"target.chr$chr.full.vcf.gz\")\n",
    "X_beagle = convert_gt(UInt8, \"beagle.imputed.maf0.001.vcf.gz\")\n",
    "n, p = size(X_complete)\n",
    "println(\"error overall = $(sum(X_beagle .!= X_complete) / n / p) \\n\")"
   ]
  },
  {
   "cell_type": "code",
   "execution_count": 7,
   "metadata": {
    "collapsed": false
   },
   "outputs": [
    {
     "name": "stdout",
     "output_type": "stream",
     "text": [
      "beagle.28Sep18.793.jar (version 5.0)\n",
      "Copyright (C) 2014-2018 Brian L. Browning\n",
      "Enter \"java -jar beagle.28Sep18.793.jar\" to list command line argument\n",
      "Start time: 04:03 PM PDT on 12 May 2020\n",
      "\n",
      "Command line: java -Xmx13653m -jar beagle.28Sep18.793.jar\n",
      "  gt=target.chr18.typedOnly.maf0.01.masked.vcf.gz\n",
      "  ref=ref.chr18.excludeTarget.vcf.gz\n",
      "  out=beagle.imputed.maf0.01\n",
      "  nthreads=4\n",
      "\n",
      "No genetic map is specified: using 1 cM = 1 Mb\n",
      "\n",
      "Reference samples:       2,404\n",
      "Study samples:             100\n",
      "\n",
      "Window 1 (18:10644-40010629)\n",
      "Reference markers:     414,911\n",
      "Study markers:         183,460\n",
      "\n",
      "Burnin  iteration 1:           22 seconds\n",
      "Burnin  iteration 2:           31 seconds\n",
      "Burnin  iteration 3:           34 seconds\n",
      "Burnin  iteration 4:           33 seconds\n",
      "Burnin  iteration 5:           38 seconds\n",
      "Burnin  iteration 6:           38 seconds\n",
      "\n",
      "Phasing iteration 1:           37 seconds\n",
      "Phasing iteration 2:           35 seconds\n",
      "Phasing iteration 3:           42 seconds\n",
      "Phasing iteration 4:           38 seconds\n",
      "Phasing iteration 5:           36 seconds\n",
      "Phasing iteration 6:           37 seconds\n",
      "Phasing iteration 7:           36 seconds\n",
      "Phasing iteration 8:           36 seconds\n",
      "Phasing iteration 9:           36 seconds\n",
      "Phasing iteration 10:          36 seconds\n",
      "Phasing iteration 11:          32 seconds\n",
      "Phasing iteration 12:          28 seconds\n",
      "\n",
      "Imputation time:               21 seconds\n",
      "\n",
      "Window 2 (18:36010613-76010634)\n",
      "Reference markers:     461,002\n",
      "Study markers:         208,438\n",
      "\n",
      "Burnin  iteration 1:           22 seconds\n",
      "Burnin  iteration 2:           37 seconds\n",
      "Burnin  iteration 3:           38 seconds\n",
      "Burnin  iteration 4:           39 seconds\n",
      "Burnin  iteration 5:           45 seconds\n",
      "Burnin  iteration 6:           40 seconds\n",
      "\n",
      "Phasing iteration 1:           38 seconds\n",
      "Phasing iteration 2:           38 seconds\n",
      "Phasing iteration 3:           39 seconds\n",
      "Phasing iteration 4:           37 seconds\n",
      "Phasing iteration 5:           36 seconds\n",
      "Phasing iteration 6:           36 seconds\n",
      "Phasing iteration 7:           38 seconds\n",
      "Phasing iteration 8:           36 seconds\n",
      "Phasing iteration 9:           38 seconds\n",
      "Phasing iteration 10:          36 seconds\n",
      "Phasing iteration 11:          34 seconds\n",
      "Phasing iteration 12:          34 seconds\n",
      "\n",
      "Imputation time:               19 seconds\n",
      "\n",
      "Window 3 (18:72010594-78017156)\n",
      "Reference markers:      80,505\n",
      "Study markers:          36,697\n",
      "\n",
      "Burnin  iteration 1:           2 seconds\n",
      "Burnin  iteration 2:           3 seconds\n",
      "Burnin  iteration 3:           3 seconds\n",
      "Burnin  iteration 4:           3 seconds\n",
      "Burnin  iteration 5:           3 seconds\n",
      "Burnin  iteration 6:           4 seconds\n",
      "\n",
      "Phasing iteration 1:           3 seconds\n",
      "Phasing iteration 2:           3 seconds\n",
      "Phasing iteration 3:           3 seconds\n",
      "Phasing iteration 4:           2 seconds\n",
      "Phasing iteration 5:           3 seconds\n",
      "Phasing iteration 6:           3 seconds\n",
      "Phasing iteration 7:           3 seconds\n",
      "Phasing iteration 8:           3 seconds\n",
      "Phasing iteration 9:           3 seconds\n",
      "Phasing iteration 10:          3 seconds\n",
      "Phasing iteration 11:          2 seconds\n",
      "Phasing iteration 12:          2 seconds\n",
      "\n",
      "Imputation time:               1 second\n",
      "\n",
      "Cumulative Statistics:\n",
      "\n",
      "Reference markers:     863,592\n",
      "Study markers:         387,193\n",
      "\n",
      "Haplotype phasing time:        22 minutes 14 seconds\n",
      "Imputation time:               1 second\n",
      "Total time:                    23 minutes 20 seconds\n",
      "\n",
      "End time: 04:26 PM PDT on 12 May 2020\n",
      "beagle.28Sep18.793.jar finished\n"
     ]
    },
    {
     "ename": "ErrorException",
     "evalue": "GeneticVariation.VCF.Reader file format error on line 11 ~>\"�;IMP\\t\"",
     "output_type": "error",
     "traceback": [
      "GeneticVariation.VCF.Reader file format error on line 11 ~>\"�;IMP\\t\"",
      "",
      "Stacktrace:",
      " [1] error(::Type, ::String, ::Int64, ::String, ::String) at ./error.jl:42",
      " [2] _read!(::GeneticVariation.VCF.Reader, ::BioCore.Ragel.State{BufferedStreams.BufferedInputStream{TranscodingStreams.TranscodingStream{CodecZlib.GzipDecompressor,IOStream}}}, ::GeneticVariation.VCF.Record) at /Users/biona001/.julia/packages/BioCore/YBJvb/src/ReaderHelper.jl:164",
      " [3] read!(::GeneticVariation.VCF.Reader, ::GeneticVariation.VCF.Record) at /Users/biona001/.julia/packages/BioCore/YBJvb/src/ReaderHelper.jl:134",
      " [4] read at /Users/biona001/.julia/packages/BioCore/YBJvb/src/IO.jl:61 [inlined]",
      " [5] #copy_gt!#7(::Symbol, ::Bool, ::Bool, ::Bool, ::String, ::Nothing, ::typeof(copy_gt!), ::Array{Union{Missing, UInt8},2}, ::GeneticVariation.VCF.Reader) at /Users/biona001/.julia/packages/VCFTools/iQ8nK/src/convert.jl:59",
      " [6] #copy_gt! at ./none:0 [inlined]",
      " [7] #convert_gt#9(::Symbol, ::Bool, ::Bool, ::Bool, ::Bool, ::String, ::Bool, ::typeof(convert_gt), ::Type{UInt8}, ::String) at /Users/biona001/.julia/packages/VCFTools/iQ8nK/src/convert.jl:248",
      " [8] convert_gt at /Users/biona001/.julia/packages/VCFTools/iQ8nK/src/convert.jl:230 [inlined]",
      " [9] beagle() at ./In[7]:14",
      " [10] top-level scope at In[7]:19"
     ]
    }
   ],
   "source": [
    "# beagle 5\n",
    "cd(\"/Users/biona001/.julia/dev/MendelImpute/data/1000_genome_phase3_v5/filtered\")\n",
    "function beagle()\n",
    "    chr = 18\n",
    "    for maf in [0.01]\n",
    "        tgtfile = \"target.chr$chr.typedOnly.maf$maf.masked.vcf.gz\"\n",
    "        reffile = \"ref.chr$chr.excludeTarget.vcf.gz\"\n",
    "        outfile = \"beagle.imputed.maf$maf\"\n",
    "        Base.run(`java -Xmx15g -jar beagle.28Sep18.793.jar gt=$tgtfile ref=$reffile out=$outfile nthreads=4`)\n",
    "    \n",
    "        # beagle error rate    \n",
    "        chr = 18\n",
    "        X_complete = convert_gt(UInt8, \"target.chr$chr.full.vcf.gz\")\n",
    "        X_beagle = convert_gt(UInt8, \"beagle.imputed.maf$maf.vcf.gz\")\n",
    "        n, p = size(X_complete)\n",
    "        println(\"error overall = $(sum(X_beagle .!= X_complete) / n / p) \\n\")    \n",
    "    end\n",
    "end\n",
    "beagle()"
   ]
  },
  {
   "cell_type": "code",
   "execution_count": 8,
   "metadata": {
    "collapsed": false
   },
   "outputs": [
    {
     "name": "stdout",
     "output_type": "stream",
     "text": [
      "error overall = 0.0011677968299845297 \n",
      "\n"
     ]
    }
   ],
   "source": [
    "chr = 18\n",
    "maf = 0.01\n",
    "X_complete = convert_gt(UInt8, \"target.chr$chr.full.vcf.gz\")\n",
    "X_beagle = convert_gt(UInt8, \"beagle.imputed.maf$maf.vcf.gz\")\n",
    "n, p = size(X_complete)\n",
    "println(\"error overall = $(sum(X_beagle .!= X_complete) / n / p) \\n\")    "
   ]
  },
  {
   "cell_type": "code",
   "execution_count": 9,
   "metadata": {
    "collapsed": false
   },
   "outputs": [
    {
     "name": "stdout",
     "output_type": "stream",
     "text": [
      "beagle.28Sep18.793.jar (version 5.0)\n",
      "Copyright (C) 2014-2018 Brian L. Browning\n",
      "Enter \"java -jar beagle.28Sep18.793.jar\" to list command line argument\n",
      "Start time: 04:47 PM PDT on 12 May 2020\n",
      "\n",
      "Command line: java -Xmx13653m -jar beagle.28Sep18.793.jar\n",
      "  gt=target.chr18.typedOnly.maf0.1.masked.vcf.gz\n",
      "  ref=ref.chr18.excludeTarget.vcf.gz\n",
      "  out=beagle.imputed.maf0.1\n",
      "  nthreads=4\n",
      "\n",
      "No genetic map is specified: using 1 cM = 1 Mb\n",
      "\n",
      "Reference samples:       2,404\n",
      "Study samples:             100\n",
      "\n",
      "Window 1 (18:10644-40010629)\n",
      "Reference markers:     414,911\n",
      "Study markers:          82,786\n",
      "\n",
      "Burnin  iteration 1:           18 seconds\n",
      "Burnin  iteration 2:           19 seconds\n",
      "Burnin  iteration 3:           19 seconds\n",
      "Burnin  iteration 4:           19 seconds\n",
      "Burnin  iteration 5:           22 seconds\n",
      "Burnin  iteration 6:           19 seconds\n",
      "\n",
      "Phasing iteration 1:           19 seconds\n",
      "Phasing iteration 2:           18 seconds\n",
      "Phasing iteration 3:           18 seconds\n",
      "Phasing iteration 4:           17 seconds\n",
      "Phasing iteration 5:           18 seconds\n",
      "Phasing iteration 6:           18 seconds\n",
      "Phasing iteration 7:           18 seconds\n",
      "Phasing iteration 8:           17 seconds\n",
      "Phasing iteration 9:           17 seconds\n",
      "Phasing iteration 10:          17 seconds\n",
      "Phasing iteration 11:          16 seconds\n",
      "Phasing iteration 12:          15 seconds\n",
      "\n",
      "Imputation time:               20 seconds\n",
      "\n",
      "Window 2 (18:36010613-76010634)\n",
      "Reference markers:     461,002\n",
      "Study markers:          92,243\n",
      "\n",
      "Burnin  iteration 1:           16 seconds\n",
      "Burnin  iteration 2:           20 seconds\n",
      "Burnin  iteration 3:           20 seconds\n",
      "Burnin  iteration 4:           21 seconds\n",
      "Burnin  iteration 5:           24 seconds\n",
      "Burnin  iteration 6:           22 seconds\n",
      "\n",
      "Phasing iteration 1:           20 seconds\n",
      "Phasing iteration 2:           20 seconds\n",
      "Phasing iteration 3:           20 seconds\n",
      "Phasing iteration 4:           21 seconds\n",
      "Phasing iteration 5:           20 seconds\n",
      "Phasing iteration 6:           21 seconds\n",
      "Phasing iteration 7:           25 seconds\n",
      "Phasing iteration 8:           21 seconds\n",
      "Phasing iteration 9:           20 seconds\n",
      "Phasing iteration 10:          20 seconds\n",
      "Phasing iteration 11:          19 seconds\n",
      "Phasing iteration 12:          17 seconds\n",
      "\n",
      "Imputation time:               25 seconds\n",
      "\n",
      "Window 3 (18:72010594-78017156)\n",
      "Reference markers:      80,505\n",
      "Study markers:          16,419\n",
      "\n",
      "Burnin  iteration 1:           2 seconds\n",
      "Burnin  iteration 2:           2 seconds\n",
      "Burnin  iteration 3:           2 seconds\n",
      "Burnin  iteration 4:           2 seconds\n",
      "Burnin  iteration 5:           2 seconds\n",
      "Burnin  iteration 6:           2 seconds\n",
      "\n",
      "Phasing iteration 1:           2 seconds\n",
      "Phasing iteration 2:           2 seconds\n",
      "Phasing iteration 3:           2 seconds\n",
      "Phasing iteration 4:           2 seconds\n",
      "Phasing iteration 5:           2 seconds\n",
      "Phasing iteration 6:           2 seconds\n",
      "Phasing iteration 7:           2 seconds\n",
      "Phasing iteration 8:           2 seconds\n",
      "Phasing iteration 9:           2 seconds\n",
      "Phasing iteration 10:          2 seconds\n",
      "Phasing iteration 11:          2 seconds\n",
      "Phasing iteration 12:          2 seconds\n",
      "\n",
      "Imputation time:               1 second\n",
      "\n",
      "Cumulative Statistics:\n",
      "\n",
      "Reference markers:     863,592\n",
      "Study markers:         173,336\n",
      "\n",
      "Haplotype phasing time:        12 minutes 5 seconds\n",
      "Imputation time:               1 second\n",
      "Total time:                    13 minutes 11 seconds\n",
      "\n",
      "End time: 05:00 PM PDT on 12 May 2020\n",
      "beagle.28Sep18.793.jar finished\n",
      "error overall = 0.00286107328460662 \n",
      "\n",
      "beagle.28Sep18.793.jar (version 5.0)\n",
      "Copyright (C) 2014-2018 Brian L. Browning\n",
      "Enter \"java -jar beagle.28Sep18.793.jar\" to list command line argument\n",
      "Start time: 05:01 PM PDT on 12 May 2020\n",
      "\n",
      "Command line: java -Xmx13653m -jar beagle.28Sep18.793.jar\n",
      "  gt=target.chr18.typedOnly.maf0.45.masked.vcf.gz\n",
      "  ref=ref.chr18.excludeTarget.vcf.gz\n",
      "  out=beagle.imputed.maf0.45\n",
      "  nthreads=4\n",
      "\n",
      "No genetic map is specified: using 1 cM = 1 Mb\n",
      "\n",
      "Reference samples:       2,404\n",
      "Study samples:             100\n",
      "\n",
      "Window 1 (18:10644-40010629)\n",
      "Reference markers:     414,911\n",
      "Study markers:           8,623\n",
      "\n",
      "Burnin  iteration 1:           3 seconds\n",
      "Burnin  iteration 2:           3 seconds\n",
      "Burnin  iteration 3:           3 seconds\n",
      "Burnin  iteration 4:           3 seconds\n",
      "Burnin  iteration 5:           3 seconds\n",
      "Burnin  iteration 6:           2 seconds\n",
      "\n",
      "Phasing iteration 1:           2 seconds\n",
      "Phasing iteration 2:           2 seconds\n",
      "Phasing iteration 3:           2 seconds\n",
      "Phasing iteration 4:           2 seconds\n",
      "Phasing iteration 5:           2 seconds\n",
      "Phasing iteration 6:           2 seconds\n",
      "Phasing iteration 7:           2 seconds\n",
      "Phasing iteration 8:           2 seconds\n",
      "Phasing iteration 9:           2 seconds\n",
      "Phasing iteration 10:          2 seconds\n",
      "Phasing iteration 11:          2 seconds\n",
      "Phasing iteration 12:          2 seconds\n",
      "\n",
      "Imputation time:               23 seconds\n",
      "\n",
      "Window 2 (18:36010613-76010634)\n",
      "Reference markers:     461,002\n",
      "Study markers:           9,497\n",
      "\n",
      "Burnin  iteration 1:           3 seconds\n",
      "Burnin  iteration 2:           2 seconds\n",
      "Burnin  iteration 3:           3 seconds\n",
      "Burnin  iteration 4:           2 seconds\n",
      "Burnin  iteration 5:           3 seconds\n",
      "Burnin  iteration 6:           3 seconds\n",
      "\n",
      "Phasing iteration 1:           3 seconds\n",
      "Phasing iteration 2:           2 seconds\n",
      "Phasing iteration 3:           2 seconds\n",
      "Phasing iteration 4:           2 seconds\n",
      "Phasing iteration 5:           2 seconds\n",
      "Phasing iteration 6:           2 seconds\n",
      "Phasing iteration 7:           2 seconds\n",
      "Phasing iteration 8:           3 seconds\n",
      "Phasing iteration 9:           3 seconds\n",
      "Phasing iteration 10:          3 seconds\n",
      "Phasing iteration 11:          2 seconds\n",
      "Phasing iteration 12:          2 seconds\n",
      "\n",
      "Imputation time:               22 seconds\n",
      "\n",
      "Window 3 (18:72010594-78017156)\n",
      "Reference markers:      80,505\n",
      "Study markers:           1,590\n",
      "\n",
      "Burnin  iteration 1:           0 seconds\n",
      "Burnin  iteration 2:           0 seconds\n",
      "Burnin  iteration 3:           0 seconds\n",
      "Burnin  iteration 4:           0 seconds\n",
      "Burnin  iteration 5:           0 seconds\n",
      "Burnin  iteration 6:           0 seconds\n",
      "\n",
      "Phasing iteration 1:           0 seconds\n",
      "Phasing iteration 2:           0 seconds\n",
      "Phasing iteration 3:           0 seconds\n",
      "Phasing iteration 4:           0 seconds\n",
      "Phasing iteration 5:           0 seconds\n",
      "Phasing iteration 6:           0 seconds\n",
      "Phasing iteration 7:           0 seconds\n",
      "Phasing iteration 8:           0 seconds\n",
      "Phasing iteration 9:           0 seconds\n",
      "Phasing iteration 10:          0 seconds\n",
      "Phasing iteration 11:          0 seconds\n",
      "Phasing iteration 12:          0 seconds\n",
      "\n",
      "Imputation time:               2 seconds\n",
      "\n",
      "Cumulative Statistics:\n",
      "\n",
      "Reference markers:     863,592\n",
      "Study markers:          17,554\n",
      "\n",
      "Haplotype phasing time:        1 minute 33 seconds\n",
      "Imputation time:               2 seconds\n",
      "Total time:                    2 minutes 32 seconds\n",
      "\n",
      "End time: 05:03 PM PDT on 12 May 2020\n",
      "beagle.28Sep18.793.jar finished\n",
      "error overall = 0.028195235713160845 \n",
      "\n"
     ]
    }
   ],
   "source": [
    "# beagle 5\n",
    "cd(\"/Users/biona001/.julia/dev/MendelImpute/data/1000_genome_phase3_v5/filtered\")\n",
    "function beagle()\n",
    "    chr = 18\n",
    "    for maf in [0.1, 0.45]\n",
    "        tgtfile = \"target.chr$chr.typedOnly.maf$maf.masked.vcf.gz\"\n",
    "        reffile = \"ref.chr$chr.excludeTarget.vcf.gz\"\n",
    "        outfile = \"beagle.imputed.maf$maf\"\n",
    "        Base.run(`java -Xmx15g -jar beagle.28Sep18.793.jar gt=$tgtfile ref=$reffile out=$outfile nthreads=4`)\n",
    "    \n",
    "        # beagle error rate\n",
    "        chr = 18\n",
    "        X_complete = convert_gt(UInt8, \"target.chr$chr.full.vcf.gz\")\n",
    "        X_beagle = convert_gt(UInt8, \"beagle.imputed.maf$maf.vcf.gz\")\n",
    "        n, p = size(X_complete)\n",
    "        println(\"error overall = $(sum(X_beagle .!= X_complete) / n / p) \\n\")\n",
    "    end\n",
    "end\n",
    "beagle()"
   ]
  },
  {
   "cell_type": "markdown",
   "metadata": {
    "collapsed": true
   },
   "source": [
    "# Eagle 2 + Minimac4\n",
    "\n",
    "In order to use the reference panel in Eagle 2's prephase option, one must first convert it to `.bcf` format via e.g. `htslib` which is *extremely* difficult to install. Even after we went through all the hard work to obtain the final `.bcf` reference file (see commands below), eagle 2.4 STILL SAYS the file is not acceptable (not bgzipped or some processing error). Therefore, I have no choice but to prephase without the reference panel. "
   ]
  },
  {
   "cell_type": "code",
   "execution_count": null,
   "metadata": {
    "collapsed": true
   },
   "outputs": [],
   "source": [
    "# run eagle 2.4: 3367.79 sec on amd-2382 machine (can only run on linux systems)\n",
    "eagle --vcf=target.chr20.typedOnly.masked.vcf.gz --outPrefix=eagle.phased.chr20 --numThreads=4 --geneticMapFile=../Eagle_v2.4.1/tables/genetic_map_hg19_withX.txt.gz"
   ]
  },
  {
   "cell_type": "code",
   "execution_count": null,
   "metadata": {
    "collapsed": true
   },
   "outputs": [],
   "source": [
    "# convert ref file to m3vcf format (Total Run completed in 1 hours, 46 mins, 24 seconds)\n",
    "/u/home/b/biona001/haplotype_comparisons/Minimac3/bin/Minimac3 --refHaps ref.chr20.excludeTarget.vcf.gz --processReference --prefix ref.chr20.excludeTarget"
   ]
  },
  {
   "cell_type": "code",
   "execution_count": null,
   "metadata": {
    "collapsed": true
   },
   "outputs": [],
   "source": [
    "# run minimac4 (2619 seconds)\n",
    "minimac4 --refHaps ref.chr20.excludeTarget.m3vcf.gz --haps eagle.phased.vcf.gz --prefix minimac.imputed.chr20 --format GT --cpus 4"
   ]
  },
  {
   "cell_type": "code",
   "execution_count": null,
   "metadata": {
    "collapsed": true
   },
   "outputs": [],
   "source": [
    "# minimac4 error rate    \n",
    "X_complete = convert_gt(Float32, \"target.chr20.full.vcf.gz\")\n",
    "X_minimac = convert_gt(Float32, \"minimac.imputed.chr20.dose.vcf.gz\")\n",
    "n, p = size(X_complete)\n",
    "println(\"error overall = $(sum(X_minimac .!= X_complete) / n / p) \\n\")"
   ]
  },
  {
   "cell_type": "code",
   "execution_count": null,
   "metadata": {
    "collapsed": true
   },
   "outputs": [],
   "source": []
  }
 ],
 "metadata": {
  "@webio": {
   "lastCommId": null,
   "lastKernelId": null
  },
  "kernelspec": {
   "display_name": "Julia 1.3.1",
   "language": "julia",
   "name": "julia-1.3"
  },
  "language_info": {
   "file_extension": ".jl",
   "mimetype": "application/julia",
   "name": "julia",
   "version": "1.3.1"
  }
 },
 "nbformat": 4,
 "nbformat_minor": 2
}
