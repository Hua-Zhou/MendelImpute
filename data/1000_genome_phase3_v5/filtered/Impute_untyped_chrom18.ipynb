{
 "cells": [
  {
   "cell_type": "markdown",
   "metadata": {},
   "source": [
    "# Test imputation on untyped SNPs chrom 18"
   ]
  },
  {
   "cell_type": "code",
   "execution_count": 1,
   "metadata": {
    "collapsed": false
   },
   "outputs": [
    {
     "name": "stderr",
     "output_type": "stream",
     "text": [
      "┌ Info: Precompiling MendelImpute [e47305d1-6a61-5370-bc5d-77554d143183]\n",
      "└ @ Base loading.jl:1273\n"
     ]
    }
   ],
   "source": [
    "using Revise\n",
    "using VCFTools\n",
    "using MendelImpute\n",
    "using GeneticVariation\n",
    "using Random\n",
    "using StatsBase\n",
    "using CodecZlib\n",
    "using ProgressMeter\n",
    "using JLD2, FileIO, JLSO\n",
    "using BenchmarkTools\n",
    "using GroupSlices"
   ]
  },
  {
   "cell_type": "markdown",
   "metadata": {},
   "source": [
    "### Memory requirement\n",
    "\n",
    "**Prephasing step:** \n",
    "+ Target data requies $people * snps * 4$ bytes of RAM\n",
    "+ Reference haplotype data requires $haplotypes * snps$ bits of RAM\n",
    "+ Redundant haplotype set for imputation target requires roughly\n",
    "$people * windows * 1000$ (max haplotypes per win) $* 16 bytes$ of RAM"
   ]
  },
  {
   "cell_type": "markdown",
   "metadata": {},
   "source": [
    "## Generate subset of markers for prephasing"
   ]
  },
  {
   "cell_type": "code",
   "execution_count": 3,
   "metadata": {
    "collapsed": false,
    "scrolled": true
   },
   "outputs": [
    {
     "name": "stdout",
     "output_type": "stream",
     "text": [
      "752.076342 seconds (6.51 G allocations: 615.353 GiB, 7.01% gc time)\n"
     ]
    },
    {
     "name": "stderr",
     "output_type": "stream",
     "text": [
      "\u001b[32mProgress: 100%|█████████████████████████████████████████| Time: 0:08:17\u001b[39m\n"
     ]
    },
    {
     "name": "stdout",
     "output_type": "stream",
     "text": [
      "549.100648 seconds (6.86 G allocations: 650.723 GiB, 10.18% gc time)\n",
      "1139.017251 seconds (16.68 G allocations: 1.249 TiB, 10.94% gc time)\n",
      "599.893049 seconds (6.86 G allocations: 650.911 GiB, 10.61% gc time)\n",
      " 36.158916 seconds (267.39 M allocations: 27.452 GiB, 6.96% gc time)\n",
      "608.676819 seconds (6.83 G allocations: 648.780 GiB, 10.30% gc time)\n",
      " 35.610763 seconds (249.89 M allocations: 25.655 GiB, 6.86% gc time)\n",
      "560.687780 seconds (6.61 G allocations: 626.620 GiB, 10.27% gc time)\n",
      " 16.352906 seconds (119.38 M allocations: 12.252 GiB, 6.40% gc time)\n",
      "520.047088 seconds (6.51 G allocations: 615.447 GiB, 10.21% gc time)\n",
      "  8.014085 seconds (53.29 M allocations: 5.482 GiB, 5.36% gc time)\n",
      "516.890704 seconds (6.43 G allocations: 607.361 GiB, 10.60% gc time)\n",
      "  0.831218 seconds (5.35 M allocations: 563.018 MiB, 5.66% gc time)\n",
      "6410.931663 seconds (76.92 G allocations: 6.823 TiB, 10.06% gc time)\n"
     ]
    }
   ],
   "source": [
    "cd(\"/Users/biona001/.julia/dev/MendelImpute/data/1000_genome_phase3_v5/filtered\")\n",
    "function filter_and_mask()\n",
    "    for chr in [18]\n",
    "        # filter chromosome data for unique snps\n",
    "        data = \"../beagle_raw/chr$chr.1kg.phase3.v5a.vcf.gz\"\n",
    "        full_record_index = .!find_duplicate_marker(data)\n",
    "        @time VCFTools.filter(data, full_record_index, 1:nsamples(data), \n",
    "            des = \"chr$chr.uniqueSNPs.vcf.gz\")\n",
    "\n",
    "        # summarize data\n",
    "        total_snps, samples, _, _, _, maf_by_record, _ = gtstats(\"chr$chr.uniqueSNPs.vcf.gz\")\n",
    "\n",
    "        # generate target panel with all snps\n",
    "        n = 100\n",
    "        sample_idx = falses(samples)\n",
    "        sample_idx[1:n] .= true\n",
    "        shuffle!(sample_idx)\n",
    "        @time VCFTools.filter(\"chr$chr.uniqueSNPs.vcf.gz\", 1:total_snps, \n",
    "            sample_idx, des = \"target.chr$chr.full.vcf.gz\", allow_multiallelic=false)\n",
    "\n",
    "        # also generate reference panel without target samples\n",
    "        @time VCFTools.filter(\"chr$chr.uniqueSNPs.vcf.gz\", 1:total_snps, \n",
    "            .!sample_idx, des = \"ref.chr$chr.excludeTarget.vcf.gz\", allow_multiallelic=false)\n",
    "        \n",
    "        for maf in [0.0005, 0.001, 0.01, 0.1, 0.45]\n",
    "            \n",
    "            # generate target file with 100 samples and typed snps with certain maf\n",
    "            my_maf = findall(x -> x > maf, maf_by_record)  \n",
    "            p = length(my_maf)\n",
    "            record_idx = falses(total_snps)\n",
    "            record_idx[my_maf] .= true\n",
    "            @time VCFTools.filter(\"chr$chr.uniqueSNPs.vcf.gz\", record_idx, sample_idx, \n",
    "                des = \"target.chr$chr.typedOnly.maf$maf.vcf.gz\", allow_multiallelic=false)\n",
    "\n",
    "            # unphase and mask 1% entries in target file\n",
    "            masks = falses(p, n)\n",
    "            missingprop = 0.001\n",
    "            for j in 1:n, i in 1:p\n",
    "                rand() < missingprop && (masks[i, j] = true)\n",
    "            end\n",
    "            @time mask_gt(\"target.chr$chr.typedOnly.maf$maf.vcf.gz\", masks, \n",
    "                des=\"target.chr$chr.typedOnly.maf$maf.masked.vcf.gz\", unphase=true)\n",
    "        end\n",
    "    end \n",
    "end\n",
    "Random.seed!(2020)\n",
    "@time filter_and_mask()"
   ]
  },
  {
   "cell_type": "markdown",
   "metadata": {},
   "source": [
    "# Try compressing with JLD2"
   ]
  },
  {
   "cell_type": "code",
   "execution_count": 4,
   "metadata": {
    "collapsed": false
   },
   "outputs": [
    {
     "name": "stderr",
     "output_type": "stream",
     "text": [
      "\u001b[32mimporting vcf data...100%|██████████████████████████████| Time: 0:04:24\u001b[39m\n"
     ]
    },
    {
     "name": "stdout",
     "output_type": "stream",
     "text": [
      "310.253834 seconds (4.17 G allocations: 309.774 GiB, 17.72% gc time)\n"
     ]
    }
   ],
   "source": [
    "width = 2000    # use 2000 SNPs per window (which almost all haplotypes are unique)\n",
    "reffile = \"ref.chr18.excludeTarget.vcf.gz\"\n",
    "outfile = \"ref.chr18.excludeTarget.jld2\"\n",
    "@time compress_haplotypes(reffile, outfile, width);"
   ]
  },
  {
   "cell_type": "code",
   "execution_count": 5,
   "metadata": {
    "collapsed": false
   },
   "outputs": [
    {
     "name": "stdout",
     "output_type": "stream",
     "text": [
      "  4.488734 seconds (19.12 M allocations: 1.624 GiB, 16.99% gc time)\n"
     ]
    }
   ],
   "source": [
    "@time @load \"ref.chr18.excludeTarget.jld2\" compressed_Hunique;"
   ]
  },
  {
   "cell_type": "code",
   "execution_count": 6,
   "metadata": {
    "collapsed": false
   },
   "outputs": [
    {
     "name": "stdout",
     "output_type": "stream",
     "text": [
      "-rw-r--r--  1 biona001  staff  754339754 May 28 10:06 ref.chr18.excludeTarget.jld2\n"
     ]
    }
   ],
   "source": [
    ";ls -al ref.chr18.excludeTarget.jld2"
   ]
  },
  {
   "cell_type": "code",
   "execution_count": 7,
   "metadata": {
    "collapsed": false
   },
   "outputs": [
    {
     "name": "stdout",
     "output_type": "stream",
     "text": [
      "-rw-r--r--@ 1 biona001  staff  247072174 May 19 23:43 ref.chr18.excludeTarget.vcf.gz\n"
     ]
    }
   ],
   "source": [
    ";ls -al ref.chr18.excludeTarget.vcf.gz"
   ]
  },
  {
   "cell_type": "markdown",
   "metadata": {},
   "source": [
    "# Try jlso compression"
   ]
  },
  {
   "cell_type": "code",
   "execution_count": 5,
   "metadata": {
    "collapsed": false
   },
   "outputs": [
    {
     "name": "stderr",
     "output_type": "stream",
     "text": [
      "\u001b[32mimporting vcf data...100%|██████████████████████████████| Time: 0:04:14\u001b[39m\n"
     ]
    },
    {
     "name": "stdout",
     "output_type": "stream",
     "text": [
      "332.829952 seconds (4.13 G allocations: 309.558 GiB, 17.26% gc time)\n"
     ]
    }
   ],
   "source": [
    "width = 2000    # use 2000 SNPs per window (which almost all haplotypes are unique)\n",
    "reffile = \"ref.chr18.excludeTarget.vcf.gz\"\n",
    "outfile = \"ref.$width.chr18.excludeTarget.jlso\"\n",
    "@time compress_haplotypes(reffile, outfile, width);"
   ]
  },
  {
   "cell_type": "code",
   "execution_count": 12,
   "metadata": {
    "collapsed": false
   },
   "outputs": [
    {
     "name": "stdout",
     "output_type": "stream",
     "text": [
      "-rw-r--r--  1 biona001  staff  49410994 Jun  1 22:24 ref.1000.chr18.excludeTarget.jlso\n"
     ]
    }
   ],
   "source": [
    ";ls -al ref.1000.chr18.excludeTarget.jlso"
   ]
  },
  {
   "cell_type": "code",
   "execution_count": 13,
   "metadata": {
    "collapsed": false
   },
   "outputs": [
    {
     "name": "stdout",
     "output_type": "stream",
     "text": [
      "-rw-r--r--  1 biona001  staff  56525290 Jun  1 22:25 ref.2000.chr18.excludeTarget.jlso\n"
     ]
    }
   ],
   "source": [
    ";ls -al ref.2000.chr18.excludeTarget.jlso"
   ]
  },
  {
   "cell_type": "code",
   "execution_count": 14,
   "metadata": {
    "collapsed": false
   },
   "outputs": [
    {
     "name": "stdout",
     "output_type": "stream",
     "text": [
      "-rw-r--r--  1 biona001  staff  65786356 Jun  1 22:26 ref.4000.chr18.excludeTarget.jlso\n"
     ]
    }
   ],
   "source": [
    ";ls -al ref.4000.chr18.excludeTarget.jlso"
   ]
  },
  {
   "cell_type": "code",
   "execution_count": 15,
   "metadata": {
    "collapsed": false,
    "scrolled": true
   },
   "outputs": [
    {
     "name": "stdout",
     "output_type": "stream",
     "text": [
      "-rw-r--r--@ 1 biona001  staff  247072174 May 19 23:43 ref.chr18.excludeTarget.vcf.gz\n"
     ]
    }
   ],
   "source": [
    ";ls -al ref.chr18.excludeTarget.vcf.gz"
   ]
  },
  {
   "cell_type": "markdown",
   "metadata": {},
   "source": [
    "# Number of unique haplotypes in each window"
   ]
  },
  {
   "cell_type": "code",
   "execution_count": 2,
   "metadata": {
    "collapsed": true
   },
   "outputs": [],
   "source": [
    "chr = 18\n",
    "maf = 0.1\n",
    "width = 2000\n",
    "\n",
    "tgtfile = \"target.chr$chr.typedOnly.maf$maf.masked.vcf.gz\"\n",
    "reffile = \"ref.$width.chr18.excludeTarget.jlso\"\n",
    "\n",
    "loaded = JLSO.load(reffile)\n",
    "compressed_Hunique = loaded[:compressed_Hunique]\n",
    "\n",
    "X, X_sampleID, X_chr, X_pos, X_ids, X_ref, X_alt = VCFTools.convert_gt(UInt8, tgtfile, trans=true, save_snp_info=true, msg = \"Importing genotype file...\")\n",
    "\n",
    "people = size(X, 2)\n",
    "ref_snps = compressed_Hunique.snps\n",
    "windows = floor(Int, ref_snps / width)\n",
    "redundant_haplotypes = [[Tuple{Int, Int}[] for i in 1:windows] for j in 1:people]\n",
    "typed_snps = Vector{Vector{Int}}(undef, windows);"
   ]
  },
  {
   "cell_type": "code",
   "execution_count": 3,
   "metadata": {
    "collapsed": false
   },
   "outputs": [
    {
     "name": "stdout",
     "output_type": "stream",
     "text": [
      "4801, 4766, 4807, 4808, 4803, 4784, 4750, 4376, 4737, 4772, 4742, 4799, 4746, 4491, 4480, 4521, 4672, 4730, 4350, 4625, 4484, 4733, 4752, 4626, 4639, 4387, 4673, 4713, 4397, 4237, 4329, 4062, 4673, 4729, 4507, 3725, 4606, 4480, 3741, 4626, 4611, 4596, 4658, 4757, 4721, 4584, 4075, 4407, 3971, 3238, 4371, 4602, 4452, 4548, 4562, 4609, 3855, 3719, 4342, 4730, 4689, 4312, 4772, 4269, 4580, 4568, 4482, 4217, 4555, 4589, 4226, 3821, 4786, 4457, 4729, 4108, 4747, 4169, 4301, 4434, 4386, 3537, 4608, 4442, 4685, 4233, 3522, 4629, 4402, 4499, 4424, 4745, 4389, 4398, 4701, 4508, 4796, 4576, 4714, 4474, 4732, 4495, 4662, 4490, 3858, 4497, 4163, 4310, 4421, 3406, 4303, 4552, 4301, 4451, 3147, 4138, 4107, 4562, 4240, 3646, 4330, 3613, 4034, 4523, 4643, 4501, 4238, 4392, 4253, 4172, 4355, 4403, 4598, 3819, 3657, 4238, 2924, 3800, 3581, 4145, 4104, 3621, 3349, 4451, 3641, 3998, 3660, 4342, 4558, 3749, 3912, 4276, 4001, 4329, 4330, 3194, 4346, 4638, 3189, 3472, 4011, 3844, 3951, 3263, 3258, 3463, 2550, 4518, 4134, 4509, 3463, 3698, 3242, 4135, 4580, 4461, 4254, 4057, 3799, 4525, 2917, 4573, 3455, 3326, 4033, 3560, 3727, 3997, 3826, 4697, 3739, 3655, 4549, 3689, 4132, 3829, 3866, 4514, 4243, 3046, 4049, 4156, 4147, 4245, 3934, 3487, 3459, 3578, 2811, 3639, 3962, 3686, 4205, 3987, 3927, 3834, 4394, 4296, 4052, 4282, 3989, 4258, 4239, 4286, 3916, 4538, 3873, 4501, 4117, 3635, 4445, 4134, 4435, 4609, 4318, 4439, 3879, 4490, 4417, 4756, 3935, 4167, 4174, 4432, 4151, 4186, 4152, 3549, 3522, 4606, 4629, 4427, 3974, 4509, 3153, 3204, 3169, 4413, 3765, 3682, 3969, 3318, 3747, 3295, 3692, 4320, 4321, 3214, 2920, 3908, 4218, 3861, 2819, 4306, 4442, 4229, 4118, 4189, 4563, 4551, 4069, 4670, 3498, 4342, 2718, 4003, 4558, 4718, 4257, 4407, 4664, 4280, 4703, 4500, 4462, 4394, 4609, 4343, 4391, 4568, 4693, 4679, 3380, 3801, 4010, 2631, 3263, 3670, 3872, 4631, 4256, 4207, 3931, 3366, 4136, 4727, 4082, 4218, 4675, 4716, 4406, 3712, 3433, 4623, 4524, 4031, 3634, 4030, 4268, 4145, 4243, 4183, 3464, 3161, 4414, 3955, 3997, 3980, 3510, 3208, 3872, 4663, 4320, 3889, 3939, 4462, 3533, 3554, 4577, 4379, 4693, 4112, 4022, 4399, 4048, 4157, 4023, 4435, 4569, 4338, 4350, 4623, 4080, 3828, 4115, 3997, 4362, 4109, 3825, 4643, 3691, 3575, 3688, 4335, 4036, 4540, 4489, 4361, 4537, 4383, 4493, 4360, 4540, 4693, 4416, 4578, 4143, 4657, 4595, 3667, 4500, 4631, 4006, 4156, 4398, 4313, 4222, 4385, 4638, 4694, 4714, 4713, 4682, 4676, 4354, 4664, 4704, 3895, 4380, 4609, 4517, 4476, 4519, 4778, 4767, 4750, 4726, 4439, 4665, 4720, 4752, 4702, 4793, 4773, 4759, 4658, "
     ]
    },
    {
     "data": {
      "text/plain": [
       "4205.532863849765"
      ]
     },
     "execution_count": 3,
     "metadata": {},
     "output_type": "execute_result"
    }
   ],
   "source": [
    "# print number of unique haplotypes in each window\n",
    "avg_haps = 0\n",
    "for w in 1:windows\n",
    "    cur_range = compressed_Hunique.CWrange[w]\n",
    "    Hw_pos = compressed_Hunique.pos[cur_range]\n",
    "    XtoH_idx = indexin(X_pos, Hw_pos) # X_pos[i] == Hw_pos[XtoH_idx[i]]\n",
    "    XtoH_rm_nothing = Base.filter(!isnothing, XtoH_idx) # delete snps not in ref panel\n",
    "    Xw_aligned = X[findall(!isnothing, XtoH_idx), :]\n",
    "    Hw_aligned = compressed_Hunique[w].uniqueH[XtoH_rm_nothing, :]\n",
    "    typed_snps[w] = XtoH_rm_nothing # save typed snps index for current window\n",
    "    print(size(Hw_aligned, 2), \", \")\n",
    "    avg_haps += size(Hw_aligned, 2)\n",
    "end\n",
    "avg_haps / windows"
   ]
  },
  {
   "cell_type": "code",
   "execution_count": 5,
   "metadata": {
    "collapsed": false
   },
   "outputs": [
    {
     "name": "stdout",
     "output_type": "stream",
     "text": [
      "multiplication took 0.125672402 seconds\n",
      "haplopair      took 0.817886415 seconds\n",
      "last step      took 4.1871e-5 seconds\n",
      "initXfloat! time = 0.000196227\n",
      "haplopair!  time = 0.943683277\n",
      "  1.183185 seconds (79.30 k allocations: 101.379 MiB, 12.07% gc time)\n",
      "  0.000459 seconds (11 allocations: 976 bytes)\n"
     ]
    }
   ],
   "source": [
    "# save only best happair\n",
    "w = 2\n",
    "cur_range = compressed_Hunique.CWrange[w]\n",
    "Hw_pos = compressed_Hunique.pos[cur_range]\n",
    "XtoH_idx = indexin(X_pos, Hw_pos) # X_pos[i] == Hw_pos[XtoH_idx[i]]\n",
    "XtoH_rm_nothing = Base.filter(!isnothing, XtoH_idx) # delete snps not in ref panel\n",
    "Xw_aligned = X[findall(!isnothing, XtoH_idx), :]\n",
    "Hw_aligned = compressed_Hunique[w].uniqueH[XtoH_rm_nothing, :]\n",
    "typed_snps[w] = XtoH_rm_nothing\n",
    "\n",
    "@time happairs, hapscore = haplopair(Xw_aligned, Hw_aligned)\n",
    "@time compute_redundant_haplotypes!(redundant_haplotypes, compressed_Hunique, happairs, w)"
   ]
  },
  {
   "cell_type": "markdown",
   "metadata": {},
   "source": [
    "# MendelImpute error rate and speed"
   ]
  },
  {
   "cell_type": "code",
   "execution_count": 2,
   "metadata": {
    "collapsed": false
   },
   "outputs": [
    {
     "data": {
      "text/plain": [
       "8"
      ]
     },
     "execution_count": 2,
     "metadata": {},
     "output_type": "execute_result"
    }
   ],
   "source": [
    "Threads.nthreads()"
   ]
  },
  {
   "cell_type": "code",
   "execution_count": 4,
   "metadata": {
    "collapsed": false
   },
   "outputs": [
    {
     "name": "stderr",
     "output_type": "stream",
     "text": [
      "\u001b[32mComputing optimal haplotype pairs...100%|███████████████| Time: 0:03:03\u001b[39m\n",
      "\u001b[32mWriting to file...100%|█████████████████████████████████| Time: 0:00:06\u001b[39m\n"
     ]
    },
    {
     "name": "stdout",
     "output_type": "stream",
     "text": [
      "Data import time                    = 10.8066 seconds\n",
      "Computing haplotype pair time       = 183.787 seconds\n",
      "Phasing by dynamic programming time = 1.65179 seconds\n",
      "Imputing time                       = 9.13026 seconds\n",
      "229.475853 seconds (141.20 M allocations: 42.904 GiB, 3.60% gc time)\n",
      "error overall = 0.005566501134175149 \n",
      "\n"
     ]
    }
   ],
   "source": [
    "# 8 threads, searching single bkpts, deleting suboptimal pairs in dp, skip windows with <50 typed snps\n",
    "Random.seed!(2020)\n",
    "chr = 18\n",
    "maf = 0.1\n",
    "width = 2000\n",
    "tgtfile = \"target.chr$chr.typedOnly.maf$maf.masked.vcf.gz\"\n",
    "reffile = \"ref.$width.chr18.excludeTarget.jlso\"\n",
    "outfile = \"mendel.imputed.dp$width.maf$maf.vcf.gz\"\n",
    "@time ph, hs = phase(tgtfile, reffile, outfile=outfile, impute=true, width=width)\n",
    "\n",
    "X_complete = convert_gt(UInt8, \"target.chr18.full.vcf.gz\")\n",
    "n, p = size(X_complete)\n",
    "X_mendel = convert_gt(UInt8, outfile)\n",
    "println(\"error overall = $(sum(X_mendel .!= X_complete) / n / p) \\n\")"
   ]
  },
  {
   "cell_type": "code",
   "execution_count": 3,
   "metadata": {
    "collapsed": false
   },
   "outputs": [
    {
     "name": "stderr",
     "output_type": "stream",
     "text": [
      "\u001b[32mComputing optimal haplotype pairs...100%|███████████████| Time: 0:01:42\u001b[39m\n",
      "\u001b[32mWriting to file...100%|█████████████████████████████████| Time: 0:00:06\u001b[39m\n"
     ]
    },
    {
     "name": "stdout",
     "output_type": "stream",
     "text": [
      "Data import time                    = 10.23 seconds\n",
      "Computing haplotype pair time       = 102.337 seconds\n",
      "Phasing by dynamic programming time = 1.22405 seconds\n",
      "Imputing time                       = 8.44946 seconds\n",
      "144.593542 seconds (140.29 M allocations: 42.697 GiB, 5.00% gc time)\n",
      "error overall = 0.005999012434875828 \n",
      "\n"
     ]
    }
   ],
   "source": [
    "# 8 threads, save only best happair, searching single bkpts\n",
    "# deleting suboptimal pairs in dp, skip windows with <50 typed snps\n",
    "Random.seed!(2020)\n",
    "chr = 18\n",
    "maf = 0.1\n",
    "width = 2000\n",
    "tgtfile = \"target.chr$chr.typedOnly.maf$maf.masked.vcf.gz\"\n",
    "reffile = \"ref.$width.chr18.excludeTarget.jlso\"\n",
    "outfile = \"mendel.imputed.dp$width.maf$maf.vcf.gz\"\n",
    "@time ph, hs = phase(tgtfile, reffile, outfile=outfile, impute=true, width=width)\n",
    "\n",
    "X_complete = convert_gt(UInt8, \"target.chr18.full.vcf.gz\")\n",
    "n, p = size(X_complete)\n",
    "X_mendel = convert_gt(UInt8, outfile)\n",
    "println(\"error overall = $(sum(X_mendel .!= X_complete) / n / p) \\n\")"
   ]
  },
  {
   "cell_type": "code",
   "execution_count": 2,
   "metadata": {
    "collapsed": false
   },
   "outputs": [
    {
     "name": "stderr",
     "output_type": "stream",
     "text": [
      "\u001b[32mComputing optimal haplotype pairs...100%|███████████████| Time: 0:00:57\u001b[39m\n"
     ]
    },
    {
     "name": "stdout",
     "output_type": "stream",
     "text": [
      "Data import time                    = 7.74952 seconds\n",
      "Computing haplotype pair time       = 57.2797 seconds\n",
      "Phasing by dynamic programming time = 1.90273 seconds\n",
      "Imputing time                       = 0.57671 seconds\n",
      " 89.702625 seconds (105.16 M allocations: 14.344 GiB, 3.63% gc time)\n",
      "error overall = 0.0007017132128608308 \n",
      "\n"
     ]
    }
   ],
   "source": [
    "# impute only typed snps\n",
    "Random.seed!(2020)\n",
    "chr = 18\n",
    "maf = 0.45\n",
    "width = 2000\n",
    "tgtfile = \"target.chr$chr.typedOnly.maf$maf.masked.vcf.gz\"\n",
    "reffile = \"ref.$width.chr18.excludeTarget.jlso\"\n",
    "outfile = \"mendel.imputed.dp$width.maf$maf.vcf.gz\"\n",
    "@time ph, hs = phase(tgtfile, reffile, outfile=outfile, impute=false, width=width)\n",
    "\n",
    "X_complete, _, _, X_complete_pos, _, _, _ = convert_gt(Float64, \"target.chr18.full.vcf.gz\", trans=true, save_snp_info=true)\n",
    "X_typedonly, _, _, X_typedonly_pos, _, _, _ = convert_gt(Float64, outfile, trans=true, save_snp_info=true)\n",
    "typed_to_complete_idx = indexin(X_typedonly_pos, X_complete_pos)\n",
    "X_complete_typedonly = X_complete[typed_to_complete_idx, :]\n",
    "p, n = size(X_typedonly)\n",
    "println(\"error overall = $(sum(X_typedonly .!= X_complete_typedonly) / n / p) \\n\")"
   ]
  },
  {
   "cell_type": "code",
   "execution_count": 5,
   "metadata": {
    "collapsed": false
   },
   "outputs": [
    {
     "name": "stderr",
     "output_type": "stream",
     "text": [
      "\u001b[32mComputing optimal haplotype pairs...100%|███████████████| Time: 0:00:55\u001b[39m\n",
      "\u001b[32mWriting to file...100%|█████████████████████████████████| Time: 0:00:11\u001b[39m\n"
     ]
    },
    {
     "name": "stdout",
     "output_type": "stream",
     "text": [
      "Data import time                    = 6.68637 seconds\n",
      "Computing haplotype pair time       = 55.7005 seconds\n",
      "Phasing by dynamic programming time = 1.49851 seconds\n",
      "Imputing time                       = 13.3049 seconds\n",
      " 77.173139 seconds (20.27 M allocations: 10.581 GiB, 3.04% gc time)\n",
      "error overall = 0.0944998604272568 \n",
      "\n"
     ]
    }
   ],
   "source": [
    "# searching single bkpts, deleting suboptimal pairs in dp, skip windows with <50 typed snps\n",
    "Random.seed!(2020)\n",
    "chr = 18\n",
    "maf = 0.45\n",
    "width = 2000\n",
    "tgtfile = \"target.chr$chr.typedOnly.maf$maf.masked.vcf.gz\"\n",
    "reffile = \"ref.chr$chr.excludeTarget.jlso\"\n",
    "outfile = \"mendel.imputed.dp$width.maf$maf.vcf.gz\"\n",
    "@time ph, hs = phase(tgtfile, reffile, outfile=outfile, impute=true, width=width, \n",
    "    min_typed_snps=50)\n",
    "\n",
    "X_complete = convert_gt(UInt8, \"target.chr18.full.vcf.gz\")\n",
    "n, p = size(X_complete)\n",
    "X_mendel = convert_gt(UInt8, outfile)\n",
    "println(\"error overall = $(sum(X_mendel .!= X_complete) / n / p) \\n\")"
   ]
  },
  {
   "cell_type": "code",
   "execution_count": 17,
   "metadata": {
    "collapsed": false
   },
   "outputs": [
    {
     "name": "stdout",
     "output_type": "stream",
     "text": [
      "MendelImpute with dynamic programming, width = 1000, maf = 0.1\n"
     ]
    },
    {
     "name": "stderr",
     "output_type": "stream",
     "text": [
      "\u001b[32mMerging breakpoints...100%|█████████████████████████████| Time: 0:00:25\u001b[39m\n",
      "\u001b[32mWriting to file...100%|█████████████████████████████████| Time: 0:00:13\u001b[39m\n"
     ]
    },
    {
     "name": "stdout",
     "output_type": "stream",
     "text": [
      "Data import time                    = 9.53489 seconds\n",
      "Computing haplotype pair time       = 1919.31 seconds\n",
      "Phasing by dynamic programming time = 25.534 seconds\n",
      "Imputing time                       = 18.0856 seconds\n",
      "1972.573863 seconds (60.84 M allocations: 222.162 GiB, 3.90% gc time)\n",
      "error overall = 0.005454584905970195 \n",
      "\n",
      "MendelImpute with dynamic programming, width = 2000, maf = 0.1\n"
     ]
    },
    {
     "name": "stderr",
     "output_type": "stream",
     "text": [
      "\u001b[32mComputing optimal haplotype pairs...100%|███████████████| Time: 0:08:51\u001b[39m\n",
      "\u001b[32mWriting to file...100%|█████████████████████████████████| Time: 0:00:12\u001b[39m\n"
     ]
    },
    {
     "name": "stdout",
     "output_type": "stream",
     "text": [
      "Data import time                    = 12.9095 seconds\n",
      "Computing haplotype pair time       = 531.806 seconds\n",
      "Phasing by dynamic programming time = 2.22416 seconds\n",
      "Imputing time                       = 14.0015 seconds\n",
      "560.924354 seconds (53.12 M allocations: 45.984 GiB, 11.69% gc time)\n",
      "error overall = 0.005866805379297726 \n",
      "\n",
      "MendelImpute with dynamic programming, width = 4000, maf = 0.1\n"
     ]
    },
    {
     "name": "stderr",
     "output_type": "stream",
     "text": [
      "\u001b[32mComputing optimal haplotype pairs...100%|███████████████| Time: 0:02:50\u001b[39m\n",
      "\u001b[32mWriting to file...100%|█████████████████████████████████| Time: 0:00:11\u001b[39m\n"
     ]
    },
    {
     "name": "stdout",
     "output_type": "stream",
     "text": [
      "Data import time                    = 12.3763 seconds\n",
      "Computing haplotype pair time       = 170.933 seconds\n",
      "Phasing by dynamic programming time = 0.038868 seconds\n",
      "Imputing time                       = 13.1781 seconds\n",
      "196.524946 seconds (52.65 M allocations: 26.672 GiB, 3.82% gc time)\n",
      "error overall = 0.008089859043258167 \n",
      "\n"
     ]
    }
   ],
   "source": [
    "# try different widths\n",
    "# deleting suboptimal pairs in dp, not searching bkpts, skip windows with <5% typed snps\n",
    "cd(\"/Users/biona001/.julia/dev/MendelImpute/data/1000_genome_phase3_v5/filtered\")\n",
    "Random.seed!(2020)\n",
    "function run()\n",
    "    X_complete = convert_gt(UInt8, \"target.chr18.full.vcf.gz\")\n",
    "    n, p = size(X_complete)\n",
    "    chr = 18\n",
    "    maf = 0.1\n",
    "    for width in [1000, 2000, 4000]\n",
    "        println(\"MendelImpute with dynamic programming, width = $width, maf = $maf\")\n",
    "        tgtfile = \"target.chr$chr.typedOnly.maf$maf.masked.vcf.gz\"\n",
    "        reffile = \"ref.$width.chr$chr.excludeTarget.jlso\"\n",
    "        outfile = \"mendel.imputed.dp$width.maf$maf.vcf.gz\"\n",
    "        @time phase(tgtfile, reffile, outfile=outfile, impute=true, width=width, \n",
    "            fast_method=false)\n",
    "        X_mendel = convert_gt(UInt8, outfile)\n",
    "        println(\"error overall = $(sum(X_mendel .!= X_complete) / n / p) \\n\")\n",
    "    end\n",
    "end\n",
    "run()"
   ]
  },
  {
   "cell_type": "markdown",
   "metadata": {},
   "source": [
    "# Beagle 5.0"
   ]
  },
  {
   "cell_type": "code",
   "execution_count": 3,
   "metadata": {
    "collapsed": false
   },
   "outputs": [
    {
     "name": "stdout",
     "output_type": "stream",
     "text": [
      "beagle.28Sep18.793.jar (version 5.0)\n",
      "Copyright (C) 2014-2018 Brian L. Browning\n",
      "Enter \"java -jar beagle.28Sep18.793.jar\" to list command line argument\n",
      "Start time: 10:09 AM PDT on 08 May 2020\n",
      "\n",
      "Command line: java -Xmx13653m -jar beagle.28Sep18.793.jar\n",
      "  gt=target.chr18.typedOnly.maf0.0005.masked.vcf.gz\n",
      "  ref=ref.chr18.excludeTarget.vcf.gz\n",
      "  out=beagle.imputed.maf0.0005\n",
      "  nthreads=4\n",
      "\n",
      "No genetic map is specified: using 1 cM = 1 Mb\n",
      "\n",
      "Reference samples:       2,404\n",
      "Study samples:             100\n",
      "\n",
      "Window 1 (18:10644-40010629)\n",
      "Reference markers:     414,911\n",
      "Study markers:         414,911\n",
      "\n",
      "Burnin  iteration 1:           48 seconds\n",
      "Burnin  iteration 2:           1 minute 28 seconds\n",
      "Burnin  iteration 3:           1 minute 42 seconds\n",
      "Burnin  iteration 4:           1 minute 46 seconds\n",
      "Burnin  iteration 5:           1 minute 53 seconds\n",
      "Burnin  iteration 6:           2 minutes 5 seconds\n",
      "\n",
      "Phasing iteration 1:           1 minute 59 seconds\n",
      "Phasing iteration 2:           2 minutes 1 second\n",
      "Phasing iteration 3:           2 minutes 3 seconds\n",
      "Phasing iteration 4:           2 minutes 9 seconds\n",
      "Phasing iteration 5:           1 minute 52 seconds\n",
      "Phasing iteration 6:           1 minute 56 seconds\n",
      "Phasing iteration 7:           2 minutes 1 second\n",
      "Phasing iteration 8:           1 minute 54 seconds\n",
      "Phasing iteration 9:           1 minute 47 seconds\n",
      "Phasing iteration 10:          1 minute 46 seconds\n",
      "Phasing iteration 11:          1 minute 43 seconds\n",
      "Phasing iteration 12:          1 minute 38 seconds\n",
      "\n",
      "Window 2 (18:36010613-76010634)\n",
      "Reference markers:     461,002\n",
      "Study markers:         461,002\n",
      "\n",
      "Burnin  iteration 1:           48 seconds\n",
      "Burnin  iteration 2:           1 minute 56 seconds\n",
      "Burnin  iteration 3:           2 minutes 1 second\n",
      "Burnin  iteration 4:           2 minutes 1 second\n",
      "Burnin  iteration 5:           2 minutes 6 seconds\n",
      "Burnin  iteration 6:           2 minutes 9 seconds\n",
      "\n",
      "Phasing iteration 1:           2 minutes 10 seconds\n",
      "Phasing iteration 2:           2 minutes 11 seconds\n",
      "Phasing iteration 3:           2 minutes 15 seconds\n",
      "Phasing iteration 4:           2 minutes 24 seconds\n",
      "Phasing iteration 5:           2 minutes 35 seconds\n",
      "Phasing iteration 6:           2 minutes 28 seconds\n",
      "Phasing iteration 7:           2 minutes 16 seconds\n",
      "Phasing iteration 8:           2 minutes 19 seconds\n",
      "Phasing iteration 9:           2 minutes 9 seconds\n",
      "Phasing iteration 10:          2 minutes 7 seconds\n",
      "Phasing iteration 11:          2 minutes 1 second\n",
      "Phasing iteration 12:          1 minute 56 seconds\n",
      "\n",
      "Window 3 (18:72010594-78017156)\n",
      "Reference markers:      80,505\n",
      "Study markers:          80,505\n",
      "\n",
      "Burnin  iteration 1:           5 seconds\n",
      "Burnin  iteration 2:           4 seconds\n",
      "Burnin  iteration 3:           5 seconds\n",
      "Burnin  iteration 4:           4 seconds\n",
      "Burnin  iteration 5:           6 seconds\n",
      "Burnin  iteration 6:           6 seconds\n",
      "\n",
      "Phasing iteration 1:           5 seconds\n",
      "Phasing iteration 2:           5 seconds\n",
      "Phasing iteration 3:           5 seconds\n",
      "Phasing iteration 4:           5 seconds\n",
      "Phasing iteration 5:           6 seconds\n",
      "Phasing iteration 6:           5 seconds\n",
      "Phasing iteration 7:           6 seconds\n",
      "Phasing iteration 8:           6 seconds\n",
      "Phasing iteration 9:           5 seconds\n",
      "Phasing iteration 10:          5 seconds\n",
      "Phasing iteration 11:          5 seconds\n",
      "Phasing iteration 12:          4 seconds\n",
      "\n",
      "Cumulative Statistics:\n",
      "\n",
      "Study markers:         863,592\n",
      "\n",
      "Haplotype phasing time:        1 hour 11 minutes 57 seconds\n",
      "Total time:                    1 hour 12 minutes 50 seconds\n",
      "\n",
      "End time: 11:22 AM PDT on 08 May 2020\n",
      "beagle.28Sep18.793.jar finished\n"
     ]
    },
    {
     "ename": "DimensionMismatch",
     "evalue": "DimensionMismatch(\"arrays could not be broadcast to a common size; got a dimension with lengths 678557 and 863592\")",
     "output_type": "error",
     "traceback": [
      "DimensionMismatch(\"arrays could not be broadcast to a common size; got a dimension with lengths 678557 and 863592\")",
      "",
      "Stacktrace:",
      " [1] instantiate(::Base.Broadcast.Broadcasted{Base.Broadcast.DefaultArrayStyle{2},Nothing,typeof(!=),Tuple{Array{Union{Missing, UInt8},2},Array{Union{Missing, UInt8},2}}}) at ./broadcast.jl:490",
      " [2] materialize at ./broadcast.jl:819 [inlined]",
      " [3] beagle() at ./In[3]:15",
      " [4] top-level scope at In[3]:18"
     ]
    }
   ],
   "source": [
    "# beagle 5\n",
    "cd(\"/Users/biona001/.julia/dev/MendelImpute/data/1000_genome_phase3_v5/filtered\")\n",
    "function beagle()\n",
    "    chr = 18\n",
    "    for maf in [0.0005, 0.001, 0.01, 0.1, 0.45]\n",
    "        tgtfile = \"target.chr$chr.typedOnly.maf$maf.masked.vcf.gz\"\n",
    "        reffile = \"ref.chr$chr.excludeTarget.vcf.gz\"\n",
    "        outfile = \"beagle.imputed.maf$maf\"\n",
    "        Base.run(`java -Xmx15g -jar beagle.28Sep18.793.jar gt=$tgtfile ref=$reffile out=$outfile nthreads=4`)\n",
    "    end\n",
    "end\n",
    "beagle()"
   ]
  },
  {
   "cell_type": "code",
   "execution_count": 5,
   "metadata": {
    "collapsed": false
   },
   "outputs": [
    {
     "name": "stdout",
     "output_type": "stream",
     "text": [
      "error overall = 5.453964372064586e-6 \n",
      "\n"
     ]
    }
   ],
   "source": [
    "for maf in [0.0005]\n",
    "    # beagle error rate    \n",
    "    chr = 18\n",
    "    X_complete = convert_gt(UInt8, \"target.chr$chr.full.vcf.gz\")\n",
    "    X_beagle = convert_gt(UInt8, \"beagle.imputed.maf$maf.vcf.gz\")\n",
    "    n, p = size(X_complete)\n",
    "    println(\"error overall = $(sum(X_beagle .!= X_complete) / n / p) \\n\")\n",
    "end"
   ]
  },
  {
   "cell_type": "code",
   "execution_count": 1,
   "metadata": {
    "collapsed": false
   },
   "outputs": [
    {
     "name": "stdout",
     "output_type": "stream",
     "text": [
      "beagle.28Sep18.793.jar (version 5.0)\n",
      "Copyright (C) 2014-2018 Brian L. Browning\n",
      "Enter \"java -jar beagle.28Sep18.793.jar\" to list command line argument\n",
      "Start time: 02:52 PM PDT on 12 May 2020\n",
      "\n",
      "Command line: java -Xmx13653m -jar beagle.28Sep18.793.jar\n",
      "  gt=target.chr18.typedOnly.maf0.001.masked.vcf.gz\n",
      "  ref=ref.chr18.excludeTarget.vcf.gz\n",
      "  out=beagle.imputed.maf0.001\n",
      "  nthreads=4\n",
      "\n",
      "No genetic map is specified: using 1 cM = 1 Mb\n",
      "\n",
      "Reference samples:       2,404\n",
      "Study samples:             100\n",
      "\n",
      "Window 1 (18:10644-40010629)\n",
      "Reference markers:     414,911\n",
      "Study markers:         388,114\n",
      "\n",
      "Burnin  iteration 1:           38 seconds\n",
      "Burnin  iteration 2:           1 minute 26 seconds\n",
      "Burnin  iteration 3:           1 minute 28 seconds\n",
      "Burnin  iteration 4:           1 minute 35 seconds\n",
      "Burnin  iteration 5:           1 minute 50 seconds\n",
      "Burnin  iteration 6:           1 minute 47 seconds\n",
      "\n",
      "Phasing iteration 1:           1 minute 43 seconds\n",
      "Phasing iteration 2:           1 minute 47 seconds\n",
      "Phasing iteration 3:           1 minute 43 seconds\n",
      "Phasing iteration 4:           1 minute 31 seconds\n",
      "Phasing iteration 5:           1 minute 33 seconds\n",
      "Phasing iteration 6:           1 minute 32 seconds\n",
      "Phasing iteration 7:           1 minute 35 seconds\n",
      "Phasing iteration 8:           1 minute 33 seconds\n",
      "Phasing iteration 9:           1 minute 31 seconds\n",
      "Phasing iteration 10:          1 minute 26 seconds\n",
      "Phasing iteration 11:          1 minute 29 seconds\n",
      "Phasing iteration 12:          1 minute 27 seconds\n",
      "\n",
      "Imputation time:               33 seconds\n",
      "\n",
      "Window 2 (18:36010613-76010634)\n",
      "Reference markers:     461,002\n",
      "Study markers:         430,867\n",
      "\n",
      "Burnin  iteration 1:           44 seconds\n",
      "Burnin  iteration 2:           1 minute 48 seconds\n",
      "Burnin  iteration 3:           1 minute 49 seconds\n",
      "Burnin  iteration 4:           1 minute 56 seconds\n",
      "Burnin  iteration 5:           2 minutes 6 seconds\n",
      "Burnin  iteration 6:           2 minutes 6 seconds\n",
      "\n",
      "Phasing iteration 1:           1 minute 51 seconds\n",
      "Phasing iteration 2:           2 minutes 4 seconds\n",
      "Phasing iteration 3:           1 minute 51 seconds\n",
      "Phasing iteration 4:           1 minute 50 seconds\n",
      "Phasing iteration 5:           1 minute 52 seconds\n",
      "Phasing iteration 6:           1 minute 56 seconds\n",
      "Phasing iteration 7:           1 minute 58 seconds\n",
      "Phasing iteration 8:           1 minute 59 seconds\n",
      "Phasing iteration 9:           1 minute 47 seconds\n",
      "Phasing iteration 10:          1 minute 46 seconds\n",
      "Phasing iteration 11:          1 minute 53 seconds\n",
      "Phasing iteration 12:          1 minute 40 seconds\n",
      "\n",
      "Imputation time:               38 seconds\n",
      "\n",
      "Window 3 (18:72010594-78017156)\n",
      "Reference markers:      80,505\n",
      "Study markers:          75,267\n",
      "\n",
      "Burnin  iteration 1:           4 seconds\n",
      "Burnin  iteration 2:           5 seconds\n",
      "Burnin  iteration 3:           4 seconds\n",
      "Burnin  iteration 4:           5 seconds\n",
      "Burnin  iteration 5:           5 seconds\n",
      "Burnin  iteration 6:           5 seconds\n",
      "\n",
      "Phasing iteration 1:           5 seconds\n",
      "Phasing iteration 2:           4 seconds\n",
      "Phasing iteration 3:           4 seconds\n",
      "Phasing iteration 4:           5 seconds\n",
      "Phasing iteration 5:           5 seconds\n",
      "Phasing iteration 6:           5 seconds\n",
      "Phasing iteration 7:           6 seconds\n",
      "Phasing iteration 8:           5 seconds\n",
      "Phasing iteration 9:           4 seconds\n",
      "Phasing iteration 10:          5 seconds\n",
      "Phasing iteration 11:          4 seconds\n",
      "Phasing iteration 12:          4 seconds\n",
      "\n",
      "Imputation time:               4 seconds\n",
      "\n",
      "Cumulative Statistics:\n",
      "\n",
      "Reference markers:     863,592\n",
      "Study markers:         807,477\n",
      "\n",
      "Haplotype phasing time:        1 hour 1 minute 53 seconds\n",
      "Imputation time:               4 seconds\n",
      "Total time:                    1 hour 3 minutes 45 seconds\n",
      "\n",
      "End time: 03:55 PM PDT on 12 May 2020\n",
      "beagle.28Sep18.793.jar finished\n"
     ]
    },
    {
     "ename": "UndefVarError",
     "evalue": "UndefVarError: convert_gt not defined",
     "output_type": "error",
     "traceback": [
      "UndefVarError: convert_gt not defined",
      "",
      "Stacktrace:",
      " [1] beagle() at ./In[1]:13",
      " [2] top-level scope at In[1]:19"
     ]
    }
   ],
   "source": [
    "# beagle 5\n",
    "cd(\"/Users/biona001/.julia/dev/MendelImpute/data/1000_genome_phase3_v5/filtered\")\n",
    "function beagle()\n",
    "    chr = 18\n",
    "    for maf in [0.001, 0.01, 0.1, 0.45]\n",
    "        tgtfile = \"target.chr$chr.typedOnly.maf$maf.masked.vcf.gz\"\n",
    "        reffile = \"ref.chr$chr.excludeTarget.vcf.gz\"\n",
    "        outfile = \"beagle.imputed.maf$maf\"\n",
    "        Base.run(`java -Xmx15g -jar beagle.28Sep18.793.jar gt=$tgtfile ref=$reffile out=$outfile nthreads=4`)\n",
    "    end\n",
    "end\n",
    "beagle()"
   ]
  },
  {
   "cell_type": "code",
   "execution_count": 3,
   "metadata": {
    "collapsed": false
   },
   "outputs": [
    {
     "ename": "ErrorException",
     "evalue": "GeneticVariation.VCF.Reader file format error on line 11 ~>\"�;IMP\\t\"",
     "output_type": "error",
     "traceback": [
      "GeneticVariation.VCF.Reader file format error on line 11 ~>\"�;IMP\\t\"",
      "",
      "Stacktrace:",
      " [1] error(::Type, ::String, ::Int64, ::String, ::String) at ./error.jl:42",
      " [2] _read!(::GeneticVariation.VCF.Reader, ::BioCore.Ragel.State{BufferedStreams.BufferedInputStream{TranscodingStreams.TranscodingStream{CodecZlib.GzipDecompressor,IOStream}}}, ::GeneticVariation.VCF.Record) at /Users/biona001/.julia/packages/BioCore/YBJvb/src/ReaderHelper.jl:164",
      " [3] read!(::GeneticVariation.VCF.Reader, ::GeneticVariation.VCF.Record) at /Users/biona001/.julia/packages/BioCore/YBJvb/src/ReaderHelper.jl:134",
      " [4] read at /Users/biona001/.julia/packages/BioCore/YBJvb/src/IO.jl:61 [inlined]",
      " [5] #copy_gt!#7(::Symbol, ::Bool, ::Bool, ::Bool, ::String, ::Nothing, ::typeof(copy_gt!), ::Array{Union{Missing, UInt8},2}, ::GeneticVariation.VCF.Reader) at /Users/biona001/.julia/packages/VCFTools/iQ8nK/src/convert.jl:59",
      " [6] #copy_gt! at ./none:0 [inlined]",
      " [7] #convert_gt#9(::Symbol, ::Bool, ::Bool, ::Bool, ::Bool, ::String, ::Bool, ::typeof(convert_gt), ::Type{UInt8}, ::String) at /Users/biona001/.julia/packages/VCFTools/iQ8nK/src/convert.jl:248",
      " [8] convert_gt(::Type{UInt8}, ::String) at /Users/biona001/.julia/packages/VCFTools/iQ8nK/src/convert.jl:230",
      " [9] top-level scope at In[3]:4"
     ]
    }
   ],
   "source": [
    "# beagle error rate    \n",
    "chr = 18\n",
    "X_complete = convert_gt(UInt8, \"target.chr$chr.full.vcf.gz\")\n",
    "X_beagle = convert_gt(UInt8, \"beagle.imputed.maf0.001.vcf.gz\")\n",
    "n, p = size(X_complete)\n",
    "println(\"error overall = $(sum(X_beagle .!= X_complete) / n / p) \\n\")"
   ]
  },
  {
   "cell_type": "code",
   "execution_count": 7,
   "metadata": {
    "collapsed": false
   },
   "outputs": [
    {
     "name": "stdout",
     "output_type": "stream",
     "text": [
      "beagle.28Sep18.793.jar (version 5.0)\n",
      "Copyright (C) 2014-2018 Brian L. Browning\n",
      "Enter \"java -jar beagle.28Sep18.793.jar\" to list command line argument\n",
      "Start time: 04:03 PM PDT on 12 May 2020\n",
      "\n",
      "Command line: java -Xmx13653m -jar beagle.28Sep18.793.jar\n",
      "  gt=target.chr18.typedOnly.maf0.01.masked.vcf.gz\n",
      "  ref=ref.chr18.excludeTarget.vcf.gz\n",
      "  out=beagle.imputed.maf0.01\n",
      "  nthreads=4\n",
      "\n",
      "No genetic map is specified: using 1 cM = 1 Mb\n",
      "\n",
      "Reference samples:       2,404\n",
      "Study samples:             100\n",
      "\n",
      "Window 1 (18:10644-40010629)\n",
      "Reference markers:     414,911\n",
      "Study markers:         183,460\n",
      "\n",
      "Burnin  iteration 1:           22 seconds\n",
      "Burnin  iteration 2:           31 seconds\n",
      "Burnin  iteration 3:           34 seconds\n",
      "Burnin  iteration 4:           33 seconds\n",
      "Burnin  iteration 5:           38 seconds\n",
      "Burnin  iteration 6:           38 seconds\n",
      "\n",
      "Phasing iteration 1:           37 seconds\n",
      "Phasing iteration 2:           35 seconds\n",
      "Phasing iteration 3:           42 seconds\n",
      "Phasing iteration 4:           38 seconds\n",
      "Phasing iteration 5:           36 seconds\n",
      "Phasing iteration 6:           37 seconds\n",
      "Phasing iteration 7:           36 seconds\n",
      "Phasing iteration 8:           36 seconds\n",
      "Phasing iteration 9:           36 seconds\n",
      "Phasing iteration 10:          36 seconds\n",
      "Phasing iteration 11:          32 seconds\n",
      "Phasing iteration 12:          28 seconds\n",
      "\n",
      "Imputation time:               21 seconds\n",
      "\n",
      "Window 2 (18:36010613-76010634)\n",
      "Reference markers:     461,002\n",
      "Study markers:         208,438\n",
      "\n",
      "Burnin  iteration 1:           22 seconds\n",
      "Burnin  iteration 2:           37 seconds\n",
      "Burnin  iteration 3:           38 seconds\n",
      "Burnin  iteration 4:           39 seconds\n",
      "Burnin  iteration 5:           45 seconds\n",
      "Burnin  iteration 6:           40 seconds\n",
      "\n",
      "Phasing iteration 1:           38 seconds\n",
      "Phasing iteration 2:           38 seconds\n",
      "Phasing iteration 3:           39 seconds\n",
      "Phasing iteration 4:           37 seconds\n",
      "Phasing iteration 5:           36 seconds\n",
      "Phasing iteration 6:           36 seconds\n",
      "Phasing iteration 7:           38 seconds\n",
      "Phasing iteration 8:           36 seconds\n",
      "Phasing iteration 9:           38 seconds\n",
      "Phasing iteration 10:          36 seconds\n",
      "Phasing iteration 11:          34 seconds\n",
      "Phasing iteration 12:          34 seconds\n",
      "\n",
      "Imputation time:               19 seconds\n",
      "\n",
      "Window 3 (18:72010594-78017156)\n",
      "Reference markers:      80,505\n",
      "Study markers:          36,697\n",
      "\n",
      "Burnin  iteration 1:           2 seconds\n",
      "Burnin  iteration 2:           3 seconds\n",
      "Burnin  iteration 3:           3 seconds\n",
      "Burnin  iteration 4:           3 seconds\n",
      "Burnin  iteration 5:           3 seconds\n",
      "Burnin  iteration 6:           4 seconds\n",
      "\n",
      "Phasing iteration 1:           3 seconds\n",
      "Phasing iteration 2:           3 seconds\n",
      "Phasing iteration 3:           3 seconds\n",
      "Phasing iteration 4:           2 seconds\n",
      "Phasing iteration 5:           3 seconds\n",
      "Phasing iteration 6:           3 seconds\n",
      "Phasing iteration 7:           3 seconds\n",
      "Phasing iteration 8:           3 seconds\n",
      "Phasing iteration 9:           3 seconds\n",
      "Phasing iteration 10:          3 seconds\n",
      "Phasing iteration 11:          2 seconds\n",
      "Phasing iteration 12:          2 seconds\n",
      "\n",
      "Imputation time:               1 second\n",
      "\n",
      "Cumulative Statistics:\n",
      "\n",
      "Reference markers:     863,592\n",
      "Study markers:         387,193\n",
      "\n",
      "Haplotype phasing time:        22 minutes 14 seconds\n",
      "Imputation time:               1 second\n",
      "Total time:                    23 minutes 20 seconds\n",
      "\n",
      "End time: 04:26 PM PDT on 12 May 2020\n",
      "beagle.28Sep18.793.jar finished\n"
     ]
    },
    {
     "ename": "ErrorException",
     "evalue": "GeneticVariation.VCF.Reader file format error on line 11 ~>\"�;IMP\\t\"",
     "output_type": "error",
     "traceback": [
      "GeneticVariation.VCF.Reader file format error on line 11 ~>\"�;IMP\\t\"",
      "",
      "Stacktrace:",
      " [1] error(::Type, ::String, ::Int64, ::String, ::String) at ./error.jl:42",
      " [2] _read!(::GeneticVariation.VCF.Reader, ::BioCore.Ragel.State{BufferedStreams.BufferedInputStream{TranscodingStreams.TranscodingStream{CodecZlib.GzipDecompressor,IOStream}}}, ::GeneticVariation.VCF.Record) at /Users/biona001/.julia/packages/BioCore/YBJvb/src/ReaderHelper.jl:164",
      " [3] read!(::GeneticVariation.VCF.Reader, ::GeneticVariation.VCF.Record) at /Users/biona001/.julia/packages/BioCore/YBJvb/src/ReaderHelper.jl:134",
      " [4] read at /Users/biona001/.julia/packages/BioCore/YBJvb/src/IO.jl:61 [inlined]",
      " [5] #copy_gt!#7(::Symbol, ::Bool, ::Bool, ::Bool, ::String, ::Nothing, ::typeof(copy_gt!), ::Array{Union{Missing, UInt8},2}, ::GeneticVariation.VCF.Reader) at /Users/biona001/.julia/packages/VCFTools/iQ8nK/src/convert.jl:59",
      " [6] #copy_gt! at ./none:0 [inlined]",
      " [7] #convert_gt#9(::Symbol, ::Bool, ::Bool, ::Bool, ::Bool, ::String, ::Bool, ::typeof(convert_gt), ::Type{UInt8}, ::String) at /Users/biona001/.julia/packages/VCFTools/iQ8nK/src/convert.jl:248",
      " [8] convert_gt at /Users/biona001/.julia/packages/VCFTools/iQ8nK/src/convert.jl:230 [inlined]",
      " [9] beagle() at ./In[7]:14",
      " [10] top-level scope at In[7]:19"
     ]
    }
   ],
   "source": [
    "# beagle 5\n",
    "cd(\"/Users/biona001/.julia/dev/MendelImpute/data/1000_genome_phase3_v5/filtered\")\n",
    "function beagle()\n",
    "    chr = 18\n",
    "    for maf in [0.01]\n",
    "        tgtfile = \"target.chr$chr.typedOnly.maf$maf.masked.vcf.gz\"\n",
    "        reffile = \"ref.chr$chr.excludeTarget.vcf.gz\"\n",
    "        outfile = \"beagle.imputed.maf$maf\"\n",
    "        Base.run(`java -Xmx15g -jar beagle.28Sep18.793.jar gt=$tgtfile ref=$reffile out=$outfile nthreads=4`)\n",
    "    \n",
    "        # beagle error rate    \n",
    "        chr = 18\n",
    "        X_complete = convert_gt(UInt8, \"target.chr$chr.full.vcf.gz\")\n",
    "        X_beagle = convert_gt(UInt8, \"beagle.imputed.maf$maf.vcf.gz\")\n",
    "        n, p = size(X_complete)\n",
    "        println(\"error overall = $(sum(X_beagle .!= X_complete) / n / p) \\n\")    \n",
    "    end\n",
    "end\n",
    "beagle()"
   ]
  },
  {
   "cell_type": "code",
   "execution_count": 8,
   "metadata": {
    "collapsed": false
   },
   "outputs": [
    {
     "name": "stdout",
     "output_type": "stream",
     "text": [
      "error overall = 0.0011677968299845297 \n",
      "\n"
     ]
    }
   ],
   "source": [
    "chr = 18\n",
    "maf = 0.01\n",
    "X_complete = convert_gt(UInt8, \"target.chr$chr.full.vcf.gz\")\n",
    "X_beagle = convert_gt(UInt8, \"beagle.imputed.maf$maf.vcf.gz\")\n",
    "n, p = size(X_complete)\n",
    "println(\"error overall = $(sum(X_beagle .!= X_complete) / n / p) \\n\")    "
   ]
  },
  {
   "cell_type": "code",
   "execution_count": 9,
   "metadata": {
    "collapsed": false
   },
   "outputs": [
    {
     "name": "stdout",
     "output_type": "stream",
     "text": [
      "beagle.28Sep18.793.jar (version 5.0)\n",
      "Copyright (C) 2014-2018 Brian L. Browning\n",
      "Enter \"java -jar beagle.28Sep18.793.jar\" to list command line argument\n",
      "Start time: 04:47 PM PDT on 12 May 2020\n",
      "\n",
      "Command line: java -Xmx13653m -jar beagle.28Sep18.793.jar\n",
      "  gt=target.chr18.typedOnly.maf0.1.masked.vcf.gz\n",
      "  ref=ref.chr18.excludeTarget.vcf.gz\n",
      "  out=beagle.imputed.maf0.1\n",
      "  nthreads=4\n",
      "\n",
      "No genetic map is specified: using 1 cM = 1 Mb\n",
      "\n",
      "Reference samples:       2,404\n",
      "Study samples:             100\n",
      "\n",
      "Window 1 (18:10644-40010629)\n",
      "Reference markers:     414,911\n",
      "Study markers:          82,786\n",
      "\n",
      "Burnin  iteration 1:           18 seconds\n",
      "Burnin  iteration 2:           19 seconds\n",
      "Burnin  iteration 3:           19 seconds\n",
      "Burnin  iteration 4:           19 seconds\n",
      "Burnin  iteration 5:           22 seconds\n",
      "Burnin  iteration 6:           19 seconds\n",
      "\n",
      "Phasing iteration 1:           19 seconds\n",
      "Phasing iteration 2:           18 seconds\n",
      "Phasing iteration 3:           18 seconds\n",
      "Phasing iteration 4:           17 seconds\n",
      "Phasing iteration 5:           18 seconds\n",
      "Phasing iteration 6:           18 seconds\n",
      "Phasing iteration 7:           18 seconds\n",
      "Phasing iteration 8:           17 seconds\n",
      "Phasing iteration 9:           17 seconds\n",
      "Phasing iteration 10:          17 seconds\n",
      "Phasing iteration 11:          16 seconds\n",
      "Phasing iteration 12:          15 seconds\n",
      "\n",
      "Imputation time:               20 seconds\n",
      "\n",
      "Window 2 (18:36010613-76010634)\n",
      "Reference markers:     461,002\n",
      "Study markers:          92,243\n",
      "\n",
      "Burnin  iteration 1:           16 seconds\n",
      "Burnin  iteration 2:           20 seconds\n",
      "Burnin  iteration 3:           20 seconds\n",
      "Burnin  iteration 4:           21 seconds\n",
      "Burnin  iteration 5:           24 seconds\n",
      "Burnin  iteration 6:           22 seconds\n",
      "\n",
      "Phasing iteration 1:           20 seconds\n",
      "Phasing iteration 2:           20 seconds\n",
      "Phasing iteration 3:           20 seconds\n",
      "Phasing iteration 4:           21 seconds\n",
      "Phasing iteration 5:           20 seconds\n",
      "Phasing iteration 6:           21 seconds\n",
      "Phasing iteration 7:           25 seconds\n",
      "Phasing iteration 8:           21 seconds\n",
      "Phasing iteration 9:           20 seconds\n",
      "Phasing iteration 10:          20 seconds\n",
      "Phasing iteration 11:          19 seconds\n",
      "Phasing iteration 12:          17 seconds\n",
      "\n",
      "Imputation time:               25 seconds\n",
      "\n",
      "Window 3 (18:72010594-78017156)\n",
      "Reference markers:      80,505\n",
      "Study markers:          16,419\n",
      "\n",
      "Burnin  iteration 1:           2 seconds\n",
      "Burnin  iteration 2:           2 seconds\n",
      "Burnin  iteration 3:           2 seconds\n",
      "Burnin  iteration 4:           2 seconds\n",
      "Burnin  iteration 5:           2 seconds\n",
      "Burnin  iteration 6:           2 seconds\n",
      "\n",
      "Phasing iteration 1:           2 seconds\n",
      "Phasing iteration 2:           2 seconds\n",
      "Phasing iteration 3:           2 seconds\n",
      "Phasing iteration 4:           2 seconds\n",
      "Phasing iteration 5:           2 seconds\n",
      "Phasing iteration 6:           2 seconds\n",
      "Phasing iteration 7:           2 seconds\n",
      "Phasing iteration 8:           2 seconds\n",
      "Phasing iteration 9:           2 seconds\n",
      "Phasing iteration 10:          2 seconds\n",
      "Phasing iteration 11:          2 seconds\n",
      "Phasing iteration 12:          2 seconds\n",
      "\n",
      "Imputation time:               1 second\n",
      "\n",
      "Cumulative Statistics:\n",
      "\n",
      "Reference markers:     863,592\n",
      "Study markers:         173,336\n",
      "\n",
      "Haplotype phasing time:        12 minutes 5 seconds\n",
      "Imputation time:               1 second\n",
      "Total time:                    13 minutes 11 seconds\n",
      "\n",
      "End time: 05:00 PM PDT on 12 May 2020\n",
      "beagle.28Sep18.793.jar finished\n",
      "error overall = 0.00286107328460662 \n",
      "\n",
      "beagle.28Sep18.793.jar (version 5.0)\n",
      "Copyright (C) 2014-2018 Brian L. Browning\n",
      "Enter \"java -jar beagle.28Sep18.793.jar\" to list command line argument\n",
      "Start time: 05:01 PM PDT on 12 May 2020\n",
      "\n",
      "Command line: java -Xmx13653m -jar beagle.28Sep18.793.jar\n",
      "  gt=target.chr18.typedOnly.maf0.45.masked.vcf.gz\n",
      "  ref=ref.chr18.excludeTarget.vcf.gz\n",
      "  out=beagle.imputed.maf0.45\n",
      "  nthreads=4\n",
      "\n",
      "No genetic map is specified: using 1 cM = 1 Mb\n",
      "\n",
      "Reference samples:       2,404\n",
      "Study samples:             100\n",
      "\n",
      "Window 1 (18:10644-40010629)\n",
      "Reference markers:     414,911\n",
      "Study markers:           8,623\n",
      "\n",
      "Burnin  iteration 1:           3 seconds\n",
      "Burnin  iteration 2:           3 seconds\n",
      "Burnin  iteration 3:           3 seconds\n",
      "Burnin  iteration 4:           3 seconds\n",
      "Burnin  iteration 5:           3 seconds\n",
      "Burnin  iteration 6:           2 seconds\n",
      "\n",
      "Phasing iteration 1:           2 seconds\n",
      "Phasing iteration 2:           2 seconds\n",
      "Phasing iteration 3:           2 seconds\n",
      "Phasing iteration 4:           2 seconds\n",
      "Phasing iteration 5:           2 seconds\n",
      "Phasing iteration 6:           2 seconds\n",
      "Phasing iteration 7:           2 seconds\n",
      "Phasing iteration 8:           2 seconds\n",
      "Phasing iteration 9:           2 seconds\n",
      "Phasing iteration 10:          2 seconds\n",
      "Phasing iteration 11:          2 seconds\n",
      "Phasing iteration 12:          2 seconds\n",
      "\n",
      "Imputation time:               23 seconds\n",
      "\n",
      "Window 2 (18:36010613-76010634)\n",
      "Reference markers:     461,002\n",
      "Study markers:           9,497\n",
      "\n",
      "Burnin  iteration 1:           3 seconds\n",
      "Burnin  iteration 2:           2 seconds\n",
      "Burnin  iteration 3:           3 seconds\n",
      "Burnin  iteration 4:           2 seconds\n",
      "Burnin  iteration 5:           3 seconds\n",
      "Burnin  iteration 6:           3 seconds\n",
      "\n",
      "Phasing iteration 1:           3 seconds\n",
      "Phasing iteration 2:           2 seconds\n",
      "Phasing iteration 3:           2 seconds\n",
      "Phasing iteration 4:           2 seconds\n",
      "Phasing iteration 5:           2 seconds\n",
      "Phasing iteration 6:           2 seconds\n",
      "Phasing iteration 7:           2 seconds\n",
      "Phasing iteration 8:           3 seconds\n",
      "Phasing iteration 9:           3 seconds\n",
      "Phasing iteration 10:          3 seconds\n",
      "Phasing iteration 11:          2 seconds\n",
      "Phasing iteration 12:          2 seconds\n",
      "\n",
      "Imputation time:               22 seconds\n",
      "\n",
      "Window 3 (18:72010594-78017156)\n",
      "Reference markers:      80,505\n",
      "Study markers:           1,590\n",
      "\n",
      "Burnin  iteration 1:           0 seconds\n",
      "Burnin  iteration 2:           0 seconds\n",
      "Burnin  iteration 3:           0 seconds\n",
      "Burnin  iteration 4:           0 seconds\n",
      "Burnin  iteration 5:           0 seconds\n",
      "Burnin  iteration 6:           0 seconds\n",
      "\n",
      "Phasing iteration 1:           0 seconds\n",
      "Phasing iteration 2:           0 seconds\n",
      "Phasing iteration 3:           0 seconds\n",
      "Phasing iteration 4:           0 seconds\n",
      "Phasing iteration 5:           0 seconds\n",
      "Phasing iteration 6:           0 seconds\n",
      "Phasing iteration 7:           0 seconds\n",
      "Phasing iteration 8:           0 seconds\n",
      "Phasing iteration 9:           0 seconds\n",
      "Phasing iteration 10:          0 seconds\n",
      "Phasing iteration 11:          0 seconds\n",
      "Phasing iteration 12:          0 seconds\n",
      "\n",
      "Imputation time:               2 seconds\n",
      "\n",
      "Cumulative Statistics:\n",
      "\n",
      "Reference markers:     863,592\n",
      "Study markers:          17,554\n",
      "\n",
      "Haplotype phasing time:        1 minute 33 seconds\n",
      "Imputation time:               2 seconds\n",
      "Total time:                    2 minutes 32 seconds\n",
      "\n",
      "End time: 05:03 PM PDT on 12 May 2020\n",
      "beagle.28Sep18.793.jar finished\n",
      "error overall = 0.028195235713160845 \n",
      "\n"
     ]
    }
   ],
   "source": [
    "# beagle 5\n",
    "cd(\"/Users/biona001/.julia/dev/MendelImpute/data/1000_genome_phase3_v5/filtered\")\n",
    "function beagle()\n",
    "    chr = 18\n",
    "    for maf in [0.1, 0.45]\n",
    "        tgtfile = \"target.chr$chr.typedOnly.maf$maf.masked.vcf.gz\"\n",
    "        reffile = \"ref.chr$chr.excludeTarget.vcf.gz\"\n",
    "        outfile = \"beagle.imputed.maf$maf\"\n",
    "        Base.run(`java -Xmx15g -jar beagle.28Sep18.793.jar gt=$tgtfile ref=$reffile out=$outfile nthreads=4`)\n",
    "    \n",
    "        # beagle error rate\n",
    "        chr = 18\n",
    "        X_complete = convert_gt(UInt8, \"target.chr$chr.full.vcf.gz\")\n",
    "        X_beagle = convert_gt(UInt8, \"beagle.imputed.maf$maf.vcf.gz\")\n",
    "        n, p = size(X_complete)\n",
    "        println(\"error overall = $(sum(X_beagle .!= X_complete) / n / p) \\n\")\n",
    "    end\n",
    "end\n",
    "beagle()"
   ]
  },
  {
   "cell_type": "markdown",
   "metadata": {
    "collapsed": true
   },
   "source": [
    "# Eagle 2 + Minimac4\n",
    "\n",
    "In order to use the reference panel in Eagle 2's prephase option, one must first convert it to `.bcf` format via e.g. `htslib` which is *extremely* difficult to install. Even after we went through all the hard work to obtain the final `.bcf` reference file (see commands below), eagle 2.4 STILL SAYS the file is not acceptable (not bgzipped or some processing error). Therefore, I have no choice but to prephase without the reference panel. "
   ]
  },
  {
   "cell_type": "code",
   "execution_count": null,
   "metadata": {
    "collapsed": true
   },
   "outputs": [],
   "source": [
    "# run eagle 2.4: 3367.79 sec on amd-2382 machine (can only run on linux systems)\n",
    "eagle --vcf=target.chr20.typedOnly.masked.vcf.gz --outPrefix=eagle.phased.chr20 --numThreads=4 --geneticMapFile=../Eagle_v2.4.1/tables/genetic_map_hg19_withX.txt.gz"
   ]
  },
  {
   "cell_type": "code",
   "execution_count": null,
   "metadata": {
    "collapsed": true
   },
   "outputs": [],
   "source": [
    "# convert ref file to m3vcf format (Total Run completed in 1 hours, 46 mins, 24 seconds)\n",
    "/u/home/b/biona001/haplotype_comparisons/Minimac3/bin/Minimac3 --refHaps ref.chr20.excludeTarget.vcf.gz --processReference --prefix ref.chr20.excludeTarget"
   ]
  },
  {
   "cell_type": "code",
   "execution_count": null,
   "metadata": {
    "collapsed": true
   },
   "outputs": [],
   "source": [
    "# run minimac4 (2619 seconds)\n",
    "minimac4 --refHaps ref.chr20.excludeTarget.m3vcf.gz --haps eagle.phased.vcf.gz --prefix minimac.imputed.chr20 --format GT --cpus 4"
   ]
  },
  {
   "cell_type": "code",
   "execution_count": null,
   "metadata": {
    "collapsed": true
   },
   "outputs": [],
   "source": [
    "# minimac4 error rate    \n",
    "X_complete = convert_gt(Float32, \"target.chr20.full.vcf.gz\")\n",
    "X_minimac = convert_gt(Float32, \"minimac.imputed.chr20.dose.vcf.gz\")\n",
    "n, p = size(X_complete)\n",
    "println(\"error overall = $(sum(X_minimac .!= X_complete) / n / p) \\n\")"
   ]
  },
  {
   "cell_type": "code",
   "execution_count": null,
   "metadata": {
    "collapsed": true
   },
   "outputs": [],
   "source": []
  }
 ],
 "metadata": {
  "@webio": {
   "lastCommId": null,
   "lastKernelId": null
  },
  "kernelspec": {
   "display_name": "Julia 1.3.1",
   "language": "julia",
   "name": "julia-1.3"
  },
  "language_info": {
   "file_extension": ".jl",
   "mimetype": "application/julia",
   "name": "julia",
   "version": "1.3.1"
  }
 },
 "nbformat": 4,
 "nbformat_minor": 2
}
