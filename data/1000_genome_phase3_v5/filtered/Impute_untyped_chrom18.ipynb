{
 "cells": [
  {
   "cell_type": "markdown",
   "metadata": {},
   "source": [
    "# Test imputation on untyped SNPs chrom 18"
   ]
  },
  {
   "cell_type": "code",
   "execution_count": 1,
   "metadata": {
    "collapsed": false
   },
   "outputs": [
    {
     "name": "stderr",
     "output_type": "stream",
     "text": [
      "┌ Info: Precompiling MendelImpute [e47305d1-6a61-5370-bc5d-77554d143183]\n",
      "└ @ Base loading.jl:1278\n"
     ]
    }
   ],
   "source": [
    "using Revise\n",
    "using VCFTools\n",
    "using MendelImpute\n",
    "using GeneticVariation\n",
    "using Random\n",
    "using StatsBase\n",
    "using CodecZlib\n",
    "using ProgressMeter\n",
    "using JLSO\n",
    "using BenchmarkTools\n",
    "using GroupSlices\n",
    "using LinearAlgebra\n",
    "# using ProfileView\n",
    "\n",
    "BLAS.set_num_threads(1)"
   ]
  },
  {
   "cell_type": "code",
   "execution_count": 52,
   "metadata": {
    "collapsed": false
   },
   "outputs": [
    {
     "name": "stdout",
     "output_type": "stream",
     "text": [
      "Importing reference haplotype data...\n",
      "Total windows = 2367, averaging ~ 527 unique haplotypes per window.\n",
      "\n",
      "Timings: \n",
      "    Data import                     = 15.2898 seconds\n",
      "        import target data             = 4.12983 seconds\n",
      "        import compressed haplotypes   = 11.1599 seconds\n",
      "    Computing haplotype pair        = 4.14403 seconds\n",
      "        BLAS3 mul! to get M and N      = 0.279599 seconds per thread\n",
      "        haplopair search               = 3.43204 seconds per thread\n",
      "        initializing missing           = 0.0231845 seconds per thread\n",
      "        allocating and viewing         = 0.0604421 seconds per thread\n",
      "        index conversion               = 0.00120276 seconds per thread\n",
      "    Phasing by win-win intersection = 0.415757 seconds\n",
      "        Window-by-window intersection  = 0.103229 seconds per thread\n",
      "        Breakpoint search              = 0.0272788 seconds per thread\n",
      "        Recording result               = 0.00705945 seconds per thread\n",
      "    Imputation                     = 1.1956 seconds\n",
      "        Imputing missing               = 0.677359 seconds\n",
      "        Writing to file                = 0.518243 seconds\n",
      "\n",
      "    Total time                      = 21.1249 seconds\n",
      "\n",
      " 21.304764 seconds (60.76 M allocations: 4.438 GiB, 14.03% gc time)\n"
     ]
    }
   ],
   "source": [
    "# 8 threads, d = 1000, keep best happair\n",
    "Random.seed!(2020)\n",
    "chr = 18\n",
    "maf = 0.1\n",
    "d = 1000\n",
    "tgtfile = \"target.chr$chr.typedOnly.maf$maf.masked.vcf.gz\"\n",
    "reffile = \"ref.chr18.maxd$d.maf$maf.excludeTarget.jlso\"\n",
    "# outfile = \"mendel.imputed.vcf.gz\"\n",
    "outfile = \"mendel.imputed.jlso\"\n",
    "@time ph = phase(tgtfile, reffile, outfile=outfile, impute=true, max_d = d,\n",
    "    phase = true);\n",
    "\n",
    "# X_complete = convert_gt(UInt8, \"target.chr18.full.vcf.gz\")\n",
    "# n, p = size(X_complete)\n",
    "# X1, X2 = convert_compressed(UInt8, )\n",
    "# X_mendel = X1 + X2\n",
    "# println(\"error overall = $(sum(X_mendel .!= X_complete) / n / p) \\n\")\n",
    "# rm(outfile, force=true)"
   ]
  },
  {
   "cell_type": "code",
   "execution_count": 20,
   "metadata": {
    "collapsed": false
   },
   "outputs": [
    {
     "name": "stderr",
     "output_type": "stream",
     "text": [
      "\u001b[32mimporting reference data...100%|████████████████████████| Time: 0:04:29\u001b[39m\n"
     ]
    },
    {
     "ename": "LoadError",
     "evalue": "UndefVarError: X not defined",
     "output_type": "error",
     "traceback": [
      "UndefVarError: X not defined",
      "",
      "Stacktrace:",
      " [1] impute!(::Array{UInt8,2}, ::Array{UInt8,2}, ::BitArray{2}, ::Array{HaplotypeMosaicPair,1}) at /Users/biona001/.julia/dev/MendelImpute/src/impute.jl:201",
      " [2] convert_compressed(::Type{UInt8}, ::Array{HaplotypeMosaicPair,1}, ::BitArray{2}) at /Users/biona001/.julia/dev/MendelImpute/src/ultra_compress.jl:41",
      " [3] top-level scope at In[20]:2",
      " [4] include_string(::Function, ::Module, ::String, ::String) at ./loading.jl:1091"
     ]
    }
   ],
   "source": [
    "H = convert_ht(Bool, \"ref.chr18.excludeTarget.vcf.gz\", trans=true, \n",
    "    msg=\"importing reference data...\")"
   ]
  },
  {
   "cell_type": "code",
   "execution_count": 56,
   "metadata": {
    "collapsed": true
   },
   "outputs": [],
   "source": [
    "X1, X2 = convert_compressed(UInt8, ph, H);"
   ]
  },
  {
   "cell_type": "code",
   "execution_count": 45,
   "metadata": {
    "collapsed": false
   },
   "outputs": [
    {
     "data": {
      "text/plain": [
       "((852602, 100), (852602, 100))"
      ]
     },
     "execution_count": 45,
     "metadata": {},
     "output_type": "execute_result"
    }
   ],
   "source": [
    "size(X1), size(X2)"
   ]
  },
  {
   "cell_type": "code",
   "execution_count": 57,
   "metadata": {
    "collapsed": false
   },
   "outputs": [
    {
     "name": "stdout",
     "output_type": "stream",
     "text": [
      "error overall = 0.005418999720854514 \n",
      "\n"
     ]
    }
   ],
   "source": [
    "n, p = size(X_complete)\n",
    "X_mendel = (X1 + X2)'\n",
    "println(\"error overall = $(sum(X_mendel .!= X_complete) / n / p) \\n\")\n",
    "rm(outfile, force=true)"
   ]
  },
  {
   "cell_type": "code",
   "execution_count": null,
   "metadata": {
    "collapsed": true
   },
   "outputs": [],
   "source": []
  },
  {
   "cell_type": "code",
   "execution_count": null,
   "metadata": {
    "collapsed": true
   },
   "outputs": [],
   "source": []
  },
  {
   "cell_type": "code",
   "execution_count": 7,
   "metadata": {
    "collapsed": false
   },
   "outputs": [
    {
     "name": "stdout",
     "output_type": "stream",
     "text": [
      "-rw-r--r--  1 biona001  staff    17M Aug 21 11:56 mendel.imputed.vcf.gz\n"
     ]
    }
   ],
   "source": [
    ";ls -alh mendel.imputed.vcf.gz"
   ]
  },
  {
   "cell_type": "code",
   "execution_count": 16,
   "metadata": {
    "collapsed": false
   },
   "outputs": [
    {
     "name": "stdout",
     "output_type": "stream",
     "text": [
      "-rw-r--r--  1 biona001  staff   480K Aug 22 14:03 mendel.imputed.jlso\n"
     ]
    }
   ],
   "source": [
    ";ls -alh mendel.imputed.jlso"
   ]
  },
  {
   "cell_type": "code",
   "execution_count": 47,
   "metadata": {
    "collapsed": false
   },
   "outputs": [
    {
     "data": {
      "text/plain": [
       "429-element Array{Int64,1}:\n",
       "      1\n",
       "   1588\n",
       "   3325\n",
       "   4775\n",
       "   5191\n",
       "   5658\n",
       "   6689\n",
       "   7202\n",
       "   7364\n",
       "   7552\n",
       "   8142\n",
       "   8469\n",
       "  14720\n",
       "      ⋮\n",
       " 832501\n",
       " 833963\n",
       " 835913\n",
       " 836444\n",
       " 840183\n",
       " 844218\n",
       " 844612\n",
       " 845067\n",
       " 847318\n",
       " 848920\n",
       " 849109\n",
       " 851487"
      ]
     },
     "execution_count": 47,
     "metadata": {},
     "output_type": "execute_result"
    }
   ],
   "source": [
    "ph[1].strand1.start"
   ]
  },
  {
   "cell_type": "code",
   "execution_count": null,
   "metadata": {
    "collapsed": true
   },
   "outputs": [],
   "source": []
  },
  {
   "cell_type": "code",
   "execution_count": null,
   "metadata": {
    "collapsed": true
   },
   "outputs": [],
   "source": []
  },
  {
   "cell_type": "code",
   "execution_count": null,
   "metadata": {
    "collapsed": true
   },
   "outputs": [],
   "source": []
  },
  {
   "cell_type": "code",
   "execution_count": null,
   "metadata": {
    "collapsed": true
   },
   "outputs": [],
   "source": []
  },
  {
   "cell_type": "code",
   "execution_count": 49,
   "metadata": {
    "collapsed": false
   },
   "outputs": [
    {
     "name": "stdout",
     "output_type": "stream",
     "text": [
      "Importing reference haplotype data...\n",
      "Total windows = 2367, averaging ~ 527 unique haplotypes per window.\n",
      "\n",
      "Timings: \n",
      "    Data import                     = 17.6032 seconds\n",
      "        import target data             = 4.85248 seconds\n",
      "        import compressed haplotypes   = 12.7507 seconds\n",
      "    Computing haplotype pair        = 4.11856 seconds\n",
      "        BLAS3 mul! to get M and N      = 0.277476 seconds per thread\n",
      "        haplopair search               = 3.43299 seconds per thread\n",
      "        initializing missing           = 0.0231335 seconds per thread\n",
      "        allocating and viewing         = 0.060212 seconds per thread\n",
      "        index conversion               = 0.00113701 seconds per thread\n",
      "    Phasing by win-win intersection = 0.416002 seconds\n",
      "        Window-by-window intersection  = 0.0939303 seconds per thread\n",
      "        Breakpoint search              = 0.111015 seconds per thread\n",
      "        Recording result               = 0.0202762 seconds per thread\n",
      "    Imputation                     = 2.17386 seconds\n",
      "        Imputing missing               = 0.821421 seconds\n",
      "        Writing to file                = 1.35244 seconds\n",
      "\n",
      "    Total time                      = 24.3123 seconds\n",
      "\n",
      " 24.312889 seconds (64.70 M allocations: 4.961 GiB, 20.95% gc time)\n",
      "error overall = 0.005414906368974035 \n",
      "\n"
     ]
    }
   ],
   "source": [
    "# 8 threads, d = 1000, keep best happair\n",
    "Random.seed!(2020)\n",
    "chr = 18\n",
    "maf = 0.1\n",
    "d = 1000\n",
    "tgtfile = \"target.chr$chr.typedOnly.maf$maf.masked.vcf.gz\"\n",
    "reffile = \"ref.chr18.maxd$d.maf$maf.excludeTarget.jlso\"\n",
    "outfile = \"mendel.imputed.vcf.gz\"\n",
    "# outfile = \"mendel.imputed.jlso\"\n",
    "@time ph = phase(tgtfile, reffile, outfile=outfile, impute=true, max_d = d,\n",
    "    phase = true);\n",
    "\n",
    "# X_complete = convert_gt(UInt8, \"target.chr18.full.vcf.gz\")\n",
    "n, p = size(X_complete)\n",
    "X_mendel = convert_gt(UInt8, outfile)\n",
    "println(\"error overall = $(sum(X_mendel .!= X_complete) / n / p) \\n\")\n",
    "# rm(outfile, force=true)"
   ]
  },
  {
   "cell_type": "code",
   "execution_count": 50,
   "metadata": {
    "collapsed": false
   },
   "outputs": [
    {
     "data": {
      "text/plain": [
       "2795-element Array{Int64,1}:\n",
       "      1\n",
       "    274\n",
       "    500\n",
       "    702\n",
       "    855\n",
       "   1049\n",
       "   1095\n",
       "   1137\n",
       "   1210\n",
       "   1532\n",
       "   1588\n",
       "   1928\n",
       "   2742\n",
       "      ⋮\n",
       " 848920\n",
       " 848925\n",
       " 849109\n",
       " 849109\n",
       " 849273\n",
       " 849689\n",
       " 850253\n",
       " 850759\n",
       " 851252\n",
       " 851487\n",
       " 851769\n",
       " 852195"
      ]
     },
     "execution_count": 50,
     "metadata": {},
     "output_type": "execute_result"
    }
   ],
   "source": [
    "ph[1].strand1.start"
   ]
  },
  {
   "cell_type": "markdown",
   "metadata": {},
   "source": [
    "## Generate subset of markers for prephasing"
   ]
  },
  {
   "cell_type": "code",
   "execution_count": 3,
   "metadata": {
    "collapsed": false,
    "scrolled": true
   },
   "outputs": [
    {
     "name": "stdout",
     "output_type": "stream",
     "text": [
      "752.076342 seconds (6.51 G allocations: 615.353 GiB, 7.01% gc time)\n"
     ]
    },
    {
     "name": "stderr",
     "output_type": "stream",
     "text": [
      "\u001b[32mProgress: 100%|█████████████████████████████████████████| Time: 0:08:17\u001b[39m\n"
     ]
    },
    {
     "name": "stdout",
     "output_type": "stream",
     "text": [
      "549.100648 seconds (6.86 G allocations: 650.723 GiB, 10.18% gc time)\n",
      "1139.017251 seconds (16.68 G allocations: 1.249 TiB, 10.94% gc time)\n",
      "599.893049 seconds (6.86 G allocations: 650.911 GiB, 10.61% gc time)\n",
      " 36.158916 seconds (267.39 M allocations: 27.452 GiB, 6.96% gc time)\n",
      "608.676819 seconds (6.83 G allocations: 648.780 GiB, 10.30% gc time)\n",
      " 35.610763 seconds (249.89 M allocations: 25.655 GiB, 6.86% gc time)\n",
      "560.687780 seconds (6.61 G allocations: 626.620 GiB, 10.27% gc time)\n",
      " 16.352906 seconds (119.38 M allocations: 12.252 GiB, 6.40% gc time)\n",
      "520.047088 seconds (6.51 G allocations: 615.447 GiB, 10.21% gc time)\n",
      "  8.014085 seconds (53.29 M allocations: 5.482 GiB, 5.36% gc time)\n",
      "516.890704 seconds (6.43 G allocations: 607.361 GiB, 10.60% gc time)\n",
      "  0.831218 seconds (5.35 M allocations: 563.018 MiB, 5.66% gc time)\n",
      "6410.931663 seconds (76.92 G allocations: 6.823 TiB, 10.06% gc time)\n"
     ]
    }
   ],
   "source": [
    "cd(\"/Users/biona001/.julia/dev/MendelImpute/data/1000_genome_phase3_v5/filtered\")\n",
    "function filter_and_mask()\n",
    "    for chr in [18]\n",
    "        # filter chromosome data for unique snps\n",
    "        data = \"../beagle_raw/chr$chr.1kg.phase3.v5a.vcf.gz\"\n",
    "        full_record_index = .!find_duplicate_marker(data)\n",
    "        @time VCFTools.filter(data, full_record_index, 1:nsamples(data), \n",
    "            des = \"chr$chr.uniqueSNPs.vcf.gz\")\n",
    "\n",
    "        # summarize data\n",
    "        total_snps, samples, _, _, _, maf_by_record, _ = gtstats(\"chr$chr.uniqueSNPs.vcf.gz\")\n",
    "\n",
    "        # generate target panel with all snps\n",
    "        n = 100\n",
    "        sample_idx = falses(samples)\n",
    "        sample_idx[1:n] .= true\n",
    "        shuffle!(sample_idx)\n",
    "        @time VCFTools.filter(\"chr$chr.uniqueSNPs.vcf.gz\", 1:total_snps, \n",
    "            sample_idx, des = \"target.chr$chr.full.vcf.gz\", allow_multiallelic=false)\n",
    "\n",
    "        # also generate reference panel without target samples\n",
    "        @time VCFTools.filter(\"chr$chr.uniqueSNPs.vcf.gz\", 1:total_snps, \n",
    "            .!sample_idx, des = \"ref.chr$chr.excludeTarget.vcf.gz\", allow_multiallelic=false)\n",
    "        \n",
    "        for maf in [0.0005, 0.001, 0.01, 0.1, 0.45]\n",
    "            \n",
    "            # generate target file with 100 samples and typed snps with certain maf\n",
    "            my_maf = findall(x -> x > maf, maf_by_record)  \n",
    "            p = length(my_maf)\n",
    "            record_idx = falses(total_snps)\n",
    "            record_idx[my_maf] .= true\n",
    "            @time VCFTools.filter(\"chr$chr.uniqueSNPs.vcf.gz\", record_idx, sample_idx, \n",
    "                des = \"target.chr$chr.typedOnly.maf$maf.vcf.gz\", allow_multiallelic=false)\n",
    "\n",
    "            # unphase and mask 1% entries in target file\n",
    "            masks = falses(p, n)\n",
    "            missingprop = 0.001\n",
    "            for j in 1:n, i in 1:p\n",
    "                rand() < missingprop && (masks[i, j] = true)\n",
    "            end\n",
    "            @time mask_gt(\"target.chr$chr.typedOnly.maf$maf.vcf.gz\", masks, \n",
    "                des=\"target.chr$chr.typedOnly.maf$maf.masked.vcf.gz\", unphase=true)\n",
    "        end\n",
    "    end \n",
    "end\n",
    "Random.seed!(2020)\n",
    "@time filter_and_mask()"
   ]
  },
  {
   "cell_type": "code",
   "execution_count": 2,
   "metadata": {
    "collapsed": false
   },
   "outputs": [
    {
     "name": "stdout",
     "output_type": "stream",
     "text": [
      "nrecords(\"ref.chr18.excludeTarget.vcf.gz\") = 852602\n"
     ]
    },
    {
     "data": {
      "text/plain": [
       "852602"
      ]
     },
     "execution_count": 2,
     "metadata": {},
     "output_type": "execute_result"
    }
   ],
   "source": [
    "@show nrecords(\"ref.chr18.excludeTarget.vcf.gz\")"
   ]
  },
  {
   "cell_type": "code",
   "execution_count": 3,
   "metadata": {
    "collapsed": false
   },
   "outputs": [
    {
     "name": "stdout",
     "output_type": "stream",
     "text": [
      "nrecords(\"target.chr18.typedOnly.maf0.1.masked.vcf.gz\") = 169914\n"
     ]
    },
    {
     "data": {
      "text/plain": [
       "169914"
      ]
     },
     "execution_count": 3,
     "metadata": {},
     "output_type": "execute_result"
    }
   ],
   "source": [
    "@show nrecords(\"target.chr18.typedOnly.maf0.1.masked.vcf.gz\")"
   ]
  },
  {
   "cell_type": "markdown",
   "metadata": {},
   "source": [
    "# Try jlso/jld2 compression"
   ]
  },
  {
   "cell_type": "code",
   "execution_count": 3,
   "metadata": {
    "collapsed": false
   },
   "outputs": [
    {
     "name": "stderr",
     "output_type": "stream",
     "text": [
      "\u001b[32mimporting reference data...100%|████████████████████████| Time: 0:04:28\u001b[39m\n"
     ]
    },
    {
     "name": "stdout",
     "output_type": "stream",
     "text": [
      "1147.725987 seconds (44.04 M allocations: 673.917 GiB, 7.16% gc time)\n",
      "311.429631 seconds (38.18 M allocations: 100.200 GiB, 6.68% gc time)\n",
      "157.159177 seconds (1.80 M allocations: 6.308 GiB, 1.54% gc time)\n"
     ]
    }
   ],
   "source": [
    "# jlso format\n",
    "mafs = [0.1]\n",
    "max_d = [100, 500, 1000, 1500, 2000]\n",
    "\n",
    "reffile = \"ref.chr18.excludeTarget.vcf.gz\"\n",
    "H, H_sampleID, H_chr, H_pos, H_ids, H_ref, H_alt = convert_ht(Bool, reffile, trans=true, save_snp_info=true, msg=\"importing reference data...\")\n",
    "\n",
    "for maf in mafs\n",
    "    tgtfile = \"target.chr18.typedOnly.maf$maf.masked.vcf.gz\"\n",
    "    X, X_sampleID, X_chr, X_pos, X_ids, X_ref, X_alt = VCFTools.convert_gt(UInt8, tgtfile, trans=true, save_snp_info=true, msg = \"Importing genotype file...\")\n",
    "    for d in max_d\n",
    "        outfile = \"ref.chr18.maxd$d.maf$maf.excludeTarget.jlso\"\n",
    "        @time compress_haplotypes(H, X, outfile, X_pos, H_sampleID, H_chr, H_pos, H_ids, H_ref, H_alt, d)\n",
    "    end\n",
    "end"
   ]
  },
  {
   "cell_type": "code",
   "execution_count": 11,
   "metadata": {
    "collapsed": false
   },
   "outputs": [
    {
     "name": "stderr",
     "output_type": "stream",
     "text": [
      "\u001b[32mimporting reference data...100%|████████████████████████| Time: 0:07:24\u001b[39m\n"
     ]
    },
    {
     "name": "stdout",
     "output_type": "stream",
     "text": [
      "361.917114 seconds (50.39 M allocations: 158.476 GiB, 9.41% gc time)\n"
     ]
    }
   ],
   "source": [
    "# jld2 format\n",
    "mafs = [0.1]\n",
    "max_d = [1000]\n",
    "\n",
    "reffile = \"ref.chr18.excludeTarget.vcf.gz\"\n",
    "H, H_sampleID, H_chr, H_pos, H_ids, H_ref, H_alt = convert_ht(Bool, reffile, trans=true, save_snp_info=true, msg=\"importing reference data...\")\n",
    "\n",
    "for maf in mafs\n",
    "    tgtfile = \"target.chr18.typedOnly.maf$maf.masked.vcf.gz\"\n",
    "    X, X_sampleID, X_chr, X_pos, X_ids, X_ref, X_alt = VCFTools.convert_gt(UInt8, tgtfile, trans=true, save_snp_info=true, msg = \"Importing genotype file...\")\n",
    "    for d in max_d\n",
    "        outfile = \"ref.chr18.maxd$d.maf$maf.excludeTarget.jld2\"\n",
    "        @time compress_haplotypes(H, X, outfile, X_pos, H_sampleID, H_chr, H_pos, H_ids, H_ref, H_alt, d)\n",
    "    end\n",
    "end"
   ]
  },
  {
   "cell_type": "code",
   "execution_count": 3,
   "metadata": {
    "collapsed": false
   },
   "outputs": [
    {
     "name": "stdout",
     "output_type": "stream",
     "text": [
      "-rw-r--r--@ 1 biona001  staff  247072174 May 19 23:43 ref.chr18.excludeTarget.vcf.gz\n"
     ]
    }
   ],
   "source": [
    ";ls -al ref.chr18.excludeTarget.vcf.gz"
   ]
  },
  {
   "cell_type": "code",
   "execution_count": 6,
   "metadata": {
    "collapsed": false
   },
   "outputs": [
    {
     "name": "stdout",
     "output_type": "stream",
     "text": [
      "-rw-r--r--  1 biona001  staff  130476381 Aug  4 23:43 ref.chr18.maxd1000.maf0.1.excludeTarget.jlso\n"
     ]
    }
   ],
   "source": [
    ";ls -al ref.chr18.maxd1000.maf0.1.excludeTarget.jlso"
   ]
  },
  {
   "cell_type": "code",
   "execution_count": 12,
   "metadata": {
    "collapsed": false
   },
   "outputs": [
    {
     "name": "stdout",
     "output_type": "stream",
     "text": [
      "-rw-r--r--  1 biona001  staff  629058628 Aug 13 14:34 ref.chr18.maxd1000.maf0.1.excludeTarget.jld2\n"
     ]
    }
   ],
   "source": [
    ";ls -al ref.chr18.maxd1000.maf0.1.excludeTarget.jld2"
   ]
  },
  {
   "cell_type": "code",
   "execution_count": 5,
   "metadata": {
    "collapsed": false
   },
   "outputs": [
    {
     "name": "stdout",
     "output_type": "stream",
     "text": [
      "-rw-r--r--  1 biona001  staff  130476381 Aug  4 23:43 ref.chr18.maxd1000.maf0.1.excludeTarget.jlso\n"
     ]
    }
   ],
   "source": [
    ";ls -al ref.chr18.maxd1000.maf0.1.excludeTarget.jlso"
   ]
  },
  {
   "cell_type": "code",
   "execution_count": 4,
   "metadata": {
    "collapsed": false
   },
   "outputs": [
    {
     "name": "stdout",
     "output_type": "stream",
     "text": [
      " 13.660642 seconds (17.95 M allocations: 1.455 GiB, 11.49% gc time)\n"
     ]
    }
   ],
   "source": [
    "reffile = \"ref.chr18.64.maf0.1.excludeTarget.jlso\"\n",
    "@time loaded = JLSO.load(reffile)\n",
    "compressed_Hunique = loaded[:compressed_Hunique];"
   ]
  },
  {
   "cell_type": "markdown",
   "metadata": {},
   "source": [
    "# MendelImpute error rate and timing"
   ]
  },
  {
   "cell_type": "code",
   "execution_count": 5,
   "metadata": {
    "collapsed": false
   },
   "outputs": [
    {
     "data": {
      "text/plain": [
       "8"
      ]
     },
     "execution_count": 5,
     "metadata": {},
     "output_type": "execute_result"
    }
   ],
   "source": [
    "Threads.nthreads()"
   ]
  },
  {
   "cell_type": "code",
   "execution_count": 11,
   "metadata": {
    "collapsed": false
   },
   "outputs": [
    {
     "name": "stderr",
     "output_type": "stream",
     "text": [
      "\u001b[32mComputing optimal haplotype pairs...100%|███████████████| Time: 0:01:06\u001b[39m\n",
      "\u001b[32mWriting to file...100%|█████████████████████████████████| Time: 0:00:06\u001b[39m\n"
     ]
    },
    {
     "name": "stdout",
     "output_type": "stream",
     "text": [
      "Total windows = 331, averaging ~ 4096 unique haplotypes per window.\n",
      "\n",
      "Timings: \n",
      "    Data import                     = 10.6795 seconds\n",
      "    Computing haplotype pair        = 66.8235 seconds\n",
      "        BLAS3 mul! to get M and N      = 8.81538 seconds per thread\n",
      "        haplopair search               = 43.7844 seconds per thread\n",
      "        supplying constant terms       = 0.00405961 seconds per thread\n",
      "        finding redundant happairs     = 0.0471254 seconds per thread\n",
      "    Phasing by dynamic programming  = 0.325226 seconds\n",
      "    Imputation                      = 9.08613 seconds\n",
      "\n",
      " 87.094466 seconds (53.87 M allocations: 29.474 GiB, 6.25% gc time)\n",
      "error overall = 0.006451474427693109 \n",
      "\n"
     ]
    }
   ],
   "source": [
    "# 8 threads, keep best happair\n",
    "Random.seed!(2020)\n",
    "chr = 18\n",
    "maf = 0.1\n",
    "width = 512\n",
    "tgtfile = \"target.chr$chr.typedOnly.maf$maf.masked.vcf.gz\"\n",
    "reffile = \"ref.chr18.$width.maf$maf.excludeTarget.jlso\"\n",
    "outfile = \"mendel.imputed.dp$width.maf$maf.vcf.gz\"\n",
    "@time ph, hs = phase(tgtfile, reffile, outfile=outfile, impute=true, width=width)\n",
    "\n",
    "X_complete = convert_gt(UInt8, \"target.chr18.full.vcf.gz\")\n",
    "n, p = size(X_complete)\n",
    "X_mendel = convert_gt(UInt8, outfile)\n",
    "println(\"error overall = $(sum(X_mendel .!= X_complete) / n / p) \\n\")"
   ]
  },
  {
   "cell_type": "markdown",
   "metadata": {},
   "source": [
    "# MendelImpute with intersecting win-by-win"
   ]
  },
  {
   "cell_type": "code",
   "execution_count": 10,
   "metadata": {
    "collapsed": false
   },
   "outputs": [
    {
     "name": "stdout",
     "output_type": "stream",
     "text": [
      "Importing reference haplotype data...\n"
     ]
    },
    {
     "name": "stderr",
     "output_type": "stream",
     "text": [
      "\u001b[32mWriting to file...100%|█████████████████████████████████| Time: 0:00:05\u001b[39m\n"
     ]
    },
    {
     "name": "stdout",
     "output_type": "stream",
     "text": [
      "Total windows = 2367, averaging ~ 527 unique haplotypes per window.\n",
      "\n",
      "Timings: \n",
      "    Data import                     = 13.8701 seconds\n",
      "    Computing haplotype pair        = 4.40941 seconds\n",
      "        BLAS3 mul! to get M and N      = 0.3572 seconds per thread\n",
      "        haplopair search               = 3.40097 seconds per thread\n",
      "        initializing missing           = 0.0227854 seconds per thread\n",
      "        allocating and viewing         = 0.0552744 seconds per thread\n",
      "        index conversion               = 0.00175442 seconds per thread\n",
      "    Phasing by win-win intersection = 0.150916 seconds\n",
      "        Window-by-window intersection  = 0.0993135 seconds per thread\n",
      "        Breakpoint search              = 0.0233533 seconds per thread\n",
      "        Recording result               = 0.0133309 seconds per thread\n",
      "    Imputation                      = 6.13664 seconds\n",
      "\n",
      " 24.567881 seconds (62.44 M allocations: 4.900 GiB, 6.45% gc time)\n",
      "error overall = 0.005046844834987485 \n",
      "\n"
     ]
    }
   ],
   "source": [
    "# 8 threads, d = 1000, keep best happair\n",
    "Random.seed!(2020)\n",
    "chr = 18\n",
    "maf = 0.1\n",
    "d = 1000\n",
    "tgtfile = \"target.chr$chr.typedOnly.maf$maf.masked.vcf.gz\"\n",
    "reffile = \"ref.chr18.maxd$d.maf$maf.excludeTarget.jlso\"\n",
    "outfile = \"mendel.imputed.vcf.gz\"\n",
    "@time ph = phase(tgtfile, reffile, outfile=outfile, impute=true, max_d = d,\n",
    "    dynamic_programming = false)\n",
    "\n",
    "X_complete = convert_gt(UInt8, \"target.chr18.full.vcf.gz\")\n",
    "n, p = size(X_complete)\n",
    "X_mendel = convert_gt(UInt8, outfile)\n",
    "println(\"error overall = $(sum(X_mendel .!= X_complete) / n / p) \\n\")\n",
    "rm(outfile, force=true)"
   ]
  },
  {
   "cell_type": "code",
   "execution_count": 3,
   "metadata": {
    "collapsed": false
   },
   "outputs": [
    {
     "name": "stdout",
     "output_type": "stream",
     "text": [
      "Importing reference haplotype data...\n"
     ]
    },
    {
     "name": "stderr",
     "output_type": "stream",
     "text": [
      "\u001b[32mWriting to file...100%|█████████████████████████████████| Time: 0:00:05\u001b[39m\n"
     ]
    },
    {
     "name": "stdout",
     "output_type": "stream",
     "text": [
      "Total windows = 10302, averaging ~ 52 unique haplotypes per window.\n",
      "\n",
      "Timings: \n",
      "    Data import                     = 16.4338 seconds\n",
      "    Computing haplotype pair        = 0.259079 seconds\n",
      "        BLAS3 mul! to get M and N      = 0.0274306 seconds per thread\n",
      "        haplopair search               = 0.160893 seconds per thread\n",
      "        initializing missing           = 0.0210819 seconds per thread\n",
      "        allocating and viewing         = 0.00760018 seconds per thread\n",
      "        index conversion               = 0.00139491 seconds per thread\n",
      "    Phasing by win-win intersection = 1.45667 seconds\n",
      "        Window-by-window intersection  = 1.25772 seconds per thread\n",
      "        Breakpoint search              = 0.0447321 seconds per thread\n",
      "        Recording result               = 0.0565138 seconds per thread\n",
      "    Imputation                      = 6.4111 seconds\n",
      "\n",
      " 24.564194 seconds (72.29 M allocations: 5.872 GiB, 8.88% gc time)\n",
      "error overall = 0.006996218634251385 \n",
      "\n"
     ]
    }
   ],
   "source": [
    "# 8 threads, d = 100, keep best happair\n",
    "Random.seed!(2020)\n",
    "chr = 18\n",
    "maf = 0.1\n",
    "d = 100\n",
    "tgtfile = \"target.chr$chr.typedOnly.maf$maf.masked.vcf.gz\"\n",
    "reffile = \"ref.chr18.maxd$d.maf$maf.excludeTarget.jlso\"\n",
    "outfile = \"mendel.imputed.vcf.gz\"\n",
    "@time ph = phase(tgtfile, reffile, outfile=outfile, impute=true, max_d = d,\n",
    "    dynamic_programming = false)\n",
    "\n",
    "# X_complete = convert_gt(UInt8, \"target.chr18.full.vcf.gz\")\n",
    "n, p = size(X_complete)\n",
    "X_mendel = convert_gt(UInt8, outfile)\n",
    "println(\"error overall = $(sum(X_mendel .!= X_complete) / n / p) \\n\")\n",
    "rm(outfile, force=true)"
   ]
  },
  {
   "cell_type": "code",
   "execution_count": 4,
   "metadata": {
    "collapsed": false
   },
   "outputs": [
    {
     "name": "stdout",
     "output_type": "stream",
     "text": [
      "Importing reference haplotype data...\n"
     ]
    },
    {
     "name": "stderr",
     "output_type": "stream",
     "text": [
      "\u001b[32mComputing optimal haplotypes...100%|████████████████████| Time: 0:00:11\u001b[39m\n",
      "\u001b[32mWriting to file...100%|█████████████████████████████████| Time: 0:00:05\u001b[39m\n"
     ]
    },
    {
     "name": "stdout",
     "output_type": "stream",
     "text": [
      "Total windows = 1448, averaging ~ 1087 unique haplotypes per window.\n",
      "\n",
      "Timings: \n",
      "    Data import                     = 14.438 seconds\n",
      "    Computing haplotype pair        = 11.887 seconds\n",
      "        BLAS3 mul! to get M and N      = 1.2529 seconds per thread\n",
      "        haplopair search               = 8.84547 seconds per thread\n",
      "        initializing missing           = 0.0217816 seconds per thread\n",
      "        allocating and viewing         = 0.120447 seconds per thread\n",
      "        index conversion               = 0.00222411 seconds per thread\n",
      "    Phasing by win-win intersection = 0.0725038 seconds\n",
      "        Window-by-window intersection  = 0.035808 seconds per thread\n",
      "        Breakpoint search              = 0.0208248 seconds per thread\n",
      "        Recording result               = 0.00801909 seconds per thread\n",
      "    Imputation                      = 6.18784 seconds\n",
      "\n",
      " 32.585891 seconds (60.15 M allocations: 4.903 GiB, 6.81% gc time)\n",
      "error overall = 0.004745097947225082 \n",
      "\n"
     ]
    }
   ],
   "source": [
    "# 8 threads, d = 2000, keep best happair\n",
    "Random.seed!(2020)\n",
    "chr = 18\n",
    "maf = 0.1\n",
    "d = 2000\n",
    "tgtfile = \"target.chr$chr.typedOnly.maf$maf.masked.vcf.gz\"\n",
    "reffile = \"ref.chr18.maxd$d.maf$maf.excludeTarget.jlso\"\n",
    "outfile = \"mendel.imputed.vcf.gz\"\n",
    "@time ph = phase(tgtfile, reffile, outfile=outfile, impute=true, max_d = d,\n",
    "    dynamic_programming = false)\n",
    "\n",
    "# X_complete = convert_gt(UInt8, \"target.chr18.full.vcf.gz\")\n",
    "n, p = size(X_complete)\n",
    "X_mendel = convert_gt(UInt8, outfile)\n",
    "println(\"error overall = $(sum(X_mendel .!= X_complete) / n / p) \\n\")\n",
    "rm(outfile, force=true)"
   ]
  },
  {
   "cell_type": "code",
   "execution_count": null,
   "metadata": {
    "collapsed": true
   },
   "outputs": [],
   "source": []
  },
  {
   "cell_type": "code",
   "execution_count": null,
   "metadata": {
    "collapsed": true
   },
   "outputs": [],
   "source": []
  },
  {
   "cell_type": "code",
   "execution_count": null,
   "metadata": {
    "collapsed": true
   },
   "outputs": [],
   "source": []
  },
  {
   "cell_type": "code",
   "execution_count": null,
   "metadata": {
    "collapsed": true
   },
   "outputs": [],
   "source": []
  },
  {
   "cell_type": "code",
   "execution_count": null,
   "metadata": {
    "collapsed": true
   },
   "outputs": [],
   "source": []
  },
  {
   "cell_type": "code",
   "execution_count": 3,
   "metadata": {
    "collapsed": false
   },
   "outputs": [
    {
     "name": "stdout",
     "output_type": "stream",
     "text": [
      "Importing reference haplotype data...\n"
     ]
    },
    {
     "name": "stderr",
     "output_type": "stream",
     "text": [
      "\u001b[32mPhasing chunk 1/1...100%|███████████████████████████████| Time: 0:01:25\u001b[39m\n",
      "\u001b[32mWriting to file...100%|█████████████████████████████████| Time: 0:00:06\u001b[39m\n"
     ]
    },
    {
     "name": "stdout",
     "output_type": "stream",
     "text": [
      "Total windows = 331, averaging ~ 4096 unique haplotypes per window.\n",
      "\n",
      "Timings: \n",
      "    Data import                     = 9.22319 seconds\n",
      "    Computing haplotype pair        = 85.1134 seconds\n",
      "        BLAS3 mul! to get M and N      = 40.7029 seconds per thread\n",
      "        haplopair search               = 38.7822 seconds per thread\n",
      "        finding redundant happairs     = 0.0075832 seconds per thread\n",
      "    Phasing by win-win intersection = 0.037751 seconds\n",
      "    Imputation                      = 8.35549 seconds\n",
      "\n",
      "102.829221 seconds (57.19 M allocations: 29.451 GiB, 4.87% gc time)\n",
      "error overall = 0.006448636057621258 \n",
      "\n"
     ]
    }
   ],
   "source": [
    "# 8 threads with Gaius.jl\n",
    "Random.seed!(2020)\n",
    "chr = 18\n",
    "maf = 0.1\n",
    "width = 512\n",
    "tgtfile = \"target.chr$chr.typedOnly.maf$maf.masked.vcf.gz\"\n",
    "reffile = \"ref.chr18.$width.maf$maf.excludeTarget.jlso\"\n",
    "outfile = \"mendel.imputed.dp$width.maf$maf.vcf.gz\"\n",
    "@time ph = phase(tgtfile, reffile, outfile=outfile, impute=true, width=width,\n",
    "    dynamic_programming = false)\n",
    "\n",
    "X_complete = convert_gt(UInt8, \"target.chr18.full.vcf.gz\")\n",
    "n, p = size(X_complete)\n",
    "X_mendel = convert_gt(UInt8, outfile)\n",
    "println(\"error overall = $(sum(X_mendel .!= X_complete) / n / p) \\n\")"
   ]
  },
  {
   "cell_type": "code",
   "execution_count": 3,
   "metadata": {
    "collapsed": false
   },
   "outputs": [
    {
     "name": "stdout",
     "output_type": "stream",
     "text": [
      "Importing reference haplotype data...\n"
     ]
    },
    {
     "name": "stderr",
     "output_type": "stream",
     "text": [
      "\u001b[32mPhasing chunk 1/1...100%|███████████████████████████████| Time: 0:00:57\u001b[39m\n",
      "\u001b[32mWriting to file...100%|█████████████████████████████████| Time: 0:00:07\u001b[39m\n"
     ]
    },
    {
     "name": "stdout",
     "output_type": "stream",
     "text": [
      "Total windows = 331, averaging ~ 4096 unique haplotypes per window.\n",
      "\n",
      "Timings: \n",
      "    Data import                     = 9.23164 seconds\n",
      "    Computing haplotype pair        = 57.9442 seconds\n",
      "        BLAS3 mul! to get M and N      = 14.6295 seconds per thread\n",
      "        haplopair search               = 34.661 seconds per thread\n",
      "        finding redundant happairs     = 0.00644955 seconds per thread\n",
      "    Phasing by win-win intersection = 0.0497861 seconds\n",
      "    Imputation                      = 7.60605 seconds\n",
      "\n",
      " 75.064026 seconds (52.82 M allocations: 29.050 GiB, 6.18% gc time)\n",
      "error overall = 0.0064488354472544045 \n",
      "\n"
     ]
    }
   ],
   "source": [
    "# 8 threads with PaddedMatrices.jl\n",
    "Random.seed!(2020)\n",
    "chr = 18\n",
    "maf = 0.1\n",
    "width = 512\n",
    "tgtfile = \"target.chr$chr.typedOnly.maf$maf.masked.vcf.gz\"\n",
    "reffile = \"ref.chr18.$width.maf$maf.excludeTarget.jlso\"\n",
    "outfile = \"mendel.imputed.dp$width.maf$maf.vcf.gz\"\n",
    "@time ph = phase(tgtfile, reffile, outfile=outfile, impute=true, width=width,\n",
    "    dynamic_programming = false)\n",
    "\n",
    "X_complete = convert_gt(UInt8, \"target.chr18.full.vcf.gz\")\n",
    "n, p = size(X_complete)\n",
    "X_mendel = convert_gt(UInt8, outfile)\n",
    "println(\"error overall = $(sum(X_mendel .!= X_complete) / n / p) \\n\")"
   ]
  },
  {
   "cell_type": "markdown",
   "metadata": {},
   "source": [
    "# MendelPhase"
   ]
  },
  {
   "cell_type": "code",
   "execution_count": 3,
   "metadata": {
    "collapsed": false
   },
   "outputs": [
    {
     "name": "stdout",
     "output_type": "stream",
     "text": [
      "Importing reference haplotype data...\n"
     ]
    },
    {
     "name": "stderr",
     "output_type": "stream",
     "text": [
      "\u001b[32mPhasing chunk 1/1...100%|███████████████████████████████| Time: 0:00:50\u001b[39m\n",
      "\u001b[32mWriting to file...100%|█████████████████████████████████| Time: 0:00:06\u001b[39m\n"
     ]
    },
    {
     "name": "stdout",
     "output_type": "stream",
     "text": [
      "Total windows = 331, averaging ~ 4096 unique haplotypes per window.\n",
      "\n",
      "Timings: \n",
      "    Data import                     = 9.3601 seconds\n",
      "    Computing haplotype pair        = 50.7812 seconds\n",
      "        BLAS3 mul! to get M and N      = 11.7251 seconds per thread\n",
      "        haplopair search               = 33.0267 seconds per thread\n",
      "        finding redundant happairs     = 0.0309747 seconds per thread\n",
      "    Phasing by win-win intersection = 0.0394528 seconds\n",
      "    Imputation                      = 7.16706 seconds\n",
      "\n",
      " 67.442743 seconds (54.67 M allocations: 29.016 GiB, 6.78% gc time)\n",
      "error overall = 0.012744234707401578 \n",
      "\n"
     ]
    }
   ],
   "source": [
    "# 8 threads, keep best happair\n",
    "Random.seed!(2020)\n",
    "chr = 18\n",
    "maf = 0.1\n",
    "width = 512\n",
    "tgtfile = \"target.chr$chr.typedOnly.maf$maf.masked.vcf.gz\"\n",
    "reffile = \"ref.chr18.$width.maf$maf.excludeTarget.jlso\"\n",
    "outfile = \"mendel.imputed.dp$width.maf$maf.vcf.gz\"\n",
    "@time ph = phase(tgtfile, reffile, outfile=outfile, impute=true, width=width,\n",
    "    dynamic_programming = false, phase=true)\n",
    "\n",
    "X_complete = convert_gt(UInt8, \"target.chr18.full.vcf.gz\")\n",
    "n, p = size(X_complete)\n",
    "X_mendel = convert_gt(UInt8, outfile)\n",
    "println(\"error overall = $(sum(X_mendel .!= X_complete) / n / p) \\n\")"
   ]
  },
  {
   "cell_type": "markdown",
   "metadata": {},
   "source": [
    "# Haplotype rescreening\n",
    "\n",
    "This is enabled by the \"rescreen\" option. This option saves a number of top haplotype pairs when solving the least squares objective, and re-minimize least squares on just observed data."
   ]
  },
  {
   "cell_type": "code",
   "execution_count": 3,
   "metadata": {
    "collapsed": false
   },
   "outputs": [
    {
     "name": "stdout",
     "output_type": "stream",
     "text": [
      "Importing reference haplotype data...\n"
     ]
    },
    {
     "name": "stderr",
     "output_type": "stream",
     "text": [
      "\u001b[32mPhasing chunk 1/1...100%|███████████████████████████████| Time: 0:05:41\u001b[39m\n",
      "\u001b[32mWriting to file...100%|█████████████████████████████████| Time: 0:00:05\u001b[39m\n"
     ]
    },
    {
     "name": "stdout",
     "output_type": "stream",
     "text": [
      "Total windows = 331, averaging ~ 4096 unique haplotypes per window.\n",
      "\n",
      "Timings: \n",
      "    Data import                     = 9.55672 seconds\n",
      "    Computing haplotype pair        = 341.232 seconds\n",
      "        BLAS3 mul! to get M and N      = 8.06296 seconds per thread\n",
      "        haplopair search               = 33.8217 seconds per thread\n",
      "        min least sq on observed data  = 0.232213 seconds per thread\n",
      "        finding redundant happairs     = 0.00460313 seconds per thread\n",
      "    Phasing by win-win intersection = 0.097636 seconds\n",
      "    Imputation                      = 6.46035 seconds\n",
      "\n",
      "357.448572 seconds (52.97 M allocations: 29.080 GiB, 1.11% gc time)\n",
      "error overall = 0.006447486635030178 \n",
      "\n"
     ]
    }
   ],
   "source": [
    "# 8 threads, keep best happair\n",
    "Random.seed!(2020)\n",
    "chr = 18\n",
    "maf = 0.1\n",
    "width = 512\n",
    "tgtfile = \"target.chr$chr.typedOnly.maf$maf.masked.vcf.gz\"\n",
    "reffile = \"ref.chr18.$width.maf$maf.excludeTarget.jlso\"\n",
    "outfile = \"mendel.imputed.dp$width.maf$maf.vcf.gz\"\n",
    "@time ph = phase(tgtfile, reffile, outfile=outfile, impute=true, width=width,\n",
    "    dynamic_programming = false, rescreen=true)\n",
    "\n",
    "X_complete = convert_gt(UInt8, \"target.chr18.full.vcf.gz\")\n",
    "n, p = size(X_complete)\n",
    "X_mendel = convert_gt(UInt8, outfile)\n",
    "println(\"error overall = $(sum(X_mendel .!= X_complete) / n / p) \\n\")"
   ]
  },
  {
   "cell_type": "markdown",
   "metadata": {},
   "source": [
    "# Haplotype Thinning\n",
    "\n",
    "This is enabled by setting \"thinning_factor\" to some constant. This option solves the least squares objective on only \"thining_factor\" unique haplotypes."
   ]
  },
  {
   "cell_type": "code",
   "execution_count": 2,
   "metadata": {
    "collapsed": false,
    "scrolled": true
   },
   "outputs": [
    {
     "data": {
      "text/plain": [
       "8"
      ]
     },
     "execution_count": 2,
     "metadata": {},
     "output_type": "execute_result"
    }
   ],
   "source": [
    "Threads.nthreads()"
   ]
  },
  {
   "cell_type": "code",
   "execution_count": 14,
   "metadata": {
    "collapsed": false
   },
   "outputs": [
    {
     "name": "stdout",
     "output_type": "stream",
     "text": [
      "Importing reference haplotype data...\n"
     ]
    },
    {
     "name": "stderr",
     "output_type": "stream",
     "text": [
      "\u001b[32mWriting to file...100%|█████████████████████████████████| Time: 0:00:05\u001b[39m\n"
     ]
    },
    {
     "name": "stdout",
     "output_type": "stream",
     "text": [
      "Total windows = 331, averaging ~ 4096 unique haplotypes per window.\n",
      "\n",
      "Timings: \n",
      "    Data import                     = 9.54492 seconds\n",
      "    Computing haplotype pair        = 3.22873 seconds\n",
      "        computing dist(X, H)           = 0.359715 seconds per thread\n",
      "        BLAS3 mul! to get M and N      = 1.43287 seconds per thread\n",
      "        haplopair search               = 0.0432943 seconds per thread\n",
      "        finding redundant happairs     = 0.00209051 seconds per thread\n",
      "    Phasing by dynamic programming  = 0.00814605 seconds\n",
      "    Imputation                      = 5.61724 seconds\n",
      "\n",
      " 18.537449 seconds (52.94 M allocations: 8.139 GiB, 10.27% gc time)\n",
      "error overall = 0.011923793282211395 \n",
      "\n"
     ]
    }
   ],
   "source": [
    "# 8 threads, not scaling by freq\n",
    "Random.seed!(2020)\n",
    "chr = 18\n",
    "maf = 0.1\n",
    "width = 512\n",
    "tgtfile = \"target.chr$chr.typedOnly.maf$maf.masked.vcf.gz\"\n",
    "reffile = \"ref.chr18.$width.maf$maf.excludeTarget.jlso\"\n",
    "outfile = \"mendel.imputed.dp$width.maf$maf.vcf.gz\"\n",
    "@time ph, hs = phase(tgtfile, reffile, outfile=outfile, impute=true, width=width, \n",
    "    thinning_factor=100, max_haplotypes = 100)\n",
    "\n",
    "X_complete = convert_gt(UInt8, \"target.chr18.full.vcf.gz\")\n",
    "n, p = size(X_complete)\n",
    "X_mendel = convert_gt(UInt8, outfile)\n",
    "println(\"error overall = $(sum(X_mendel .!= X_complete) / n / p) \\n\")"
   ]
  },
  {
   "cell_type": "code",
   "execution_count": 16,
   "metadata": {
    "collapsed": false
   },
   "outputs": [
    {
     "name": "stdout",
     "output_type": "stream",
     "text": [
      "Importing reference haplotype data...\n"
     ]
    },
    {
     "name": "stderr",
     "output_type": "stream",
     "text": [
      "\u001b[32mWriting to file...100%|█████████████████████████████████| Time: 0:00:05\u001b[39m\n"
     ]
    },
    {
     "name": "stdout",
     "output_type": "stream",
     "text": [
      "Total windows = 331, averaging ~ 4096 unique haplotypes per window.\n",
      "\n",
      "Timings: \n",
      "    Data import                     = 9.23721 seconds\n",
      "    Computing haplotype pair        = 3.19395 seconds\n",
      "        computing dist(X, H)           = 0.344292 seconds per thread\n",
      "        BLAS3 mul! to get M and N      = 1.44139 seconds per thread\n",
      "        haplopair search               = 0.0417762 seconds per thread\n",
      "        finding redundant happairs     = 0.00218276 seconds per thread\n",
      "    Phasing by dynamic programming  = 0.0077219 seconds\n",
      "    Imputation                      = 5.57712 seconds\n",
      "\n",
      " 18.134003 seconds (53.35 M allocations: 8.293 GiB, 10.24% gc time)\n",
      "error overall = 0.012110058385976105 \n",
      "\n"
     ]
    }
   ],
   "source": [
    "# 8 threads, scaling by 1/(2p(1-p))\n",
    "Random.seed!(2020)\n",
    "chr = 18\n",
    "maf = 0.1\n",
    "width = 512\n",
    "tgtfile = \"target.chr$chr.typedOnly.maf$maf.masked.vcf.gz\"\n",
    "reffile = \"ref.chr18.$width.maf$maf.excludeTarget.jlso\"\n",
    "outfile = \"mendel.imputed.dp$width.maf$maf.vcf.gz\"\n",
    "@time ph = phase(tgtfile, reffile, outfile=outfile, impute=true, width=width, \n",
    "    thinning_factor=100, thinning_scale_allelefreq=true, max_haplotypes = 100)\n",
    "\n",
    "# X_complete = convert_gt(UInt8, \"target.chr18.full.vcf.gz\")\n",
    "n, p = size(X_complete)\n",
    "X_mendel = convert_gt(UInt8, outfile)\n",
    "println(\"error overall = $(sum(X_mendel .!= X_complete) / n / p) \\n\")"
   ]
  },
  {
   "cell_type": "code",
   "execution_count": 17,
   "metadata": {
    "collapsed": false
   },
   "outputs": [
    {
     "name": "stdout",
     "output_type": "stream",
     "text": [
      "Importing reference haplotype data...\n"
     ]
    },
    {
     "name": "stderr",
     "output_type": "stream",
     "text": [
      "\u001b[32mWriting to file...100%|█████████████████████████████████| Time: 0:00:05\u001b[39m\n"
     ]
    },
    {
     "name": "stdout",
     "output_type": "stream",
     "text": [
      "Total windows = 331, averaging ~ 4096 unique haplotypes per window.\n",
      "\n",
      "Timings: \n",
      "    Data import                     = 9.97356 seconds\n",
      "    Computing haplotype pair        = 3.45103 seconds\n",
      "        computing dist(X, H)           = 0.386598 seconds per thread\n",
      "        BLAS3 mul! to get M and N      = 1.47565 seconds per thread\n",
      "        haplopair search               = 0.0429367 seconds per thread\n",
      "        finding redundant happairs     = 0.00221398 seconds per thread\n",
      "    Phasing by dynamic programming  = 0.00787711 seconds\n",
      "    Imputation                      = 5.71789 seconds\n",
      "\n",
      " 19.249530 seconds (53.34 M allocations: 8.292 GiB, 10.50% gc time)\n",
      "error overall = 0.012115289431645715 \n",
      "\n"
     ]
    }
   ],
   "source": [
    "# 8 threads, scaling by 1/p\n",
    "Random.seed!(2020)\n",
    "chr = 18\n",
    "maf = 0.1\n",
    "width = 512\n",
    "tgtfile = \"target.chr$chr.typedOnly.maf$maf.masked.vcf.gz\"\n",
    "reffile = \"ref.chr18.$width.maf$maf.excludeTarget.jlso\"\n",
    "outfile = \"mendel.imputed.dp$width.maf$maf.vcf.gz\"\n",
    "@time ph = phase(tgtfile, reffile, outfile=outfile, impute=true, width=width, \n",
    "    thinning_factor=100, thinning_scale_allelefreq=true, max_haplotypes = 100)\n",
    "\n",
    "# X_complete = convert_gt(UInt8, \"target.chr18.full.vcf.gz\")\n",
    "n, p = size(X_complete)\n",
    "X_mendel = convert_gt(UInt8, outfile)\n",
    "println(\"error overall = $(sum(X_mendel .!= X_complete) / n / p) \\n\")"
   ]
  },
  {
   "cell_type": "code",
   "execution_count": 20,
   "metadata": {
    "collapsed": false
   },
   "outputs": [
    {
     "name": "stdout",
     "output_type": "stream",
     "text": [
      "Importing reference haplotype data...\n"
     ]
    },
    {
     "name": "stderr",
     "output_type": "stream",
     "text": [
      "\u001b[32mPhasing chunk 1/1...100%|███████████████████████████████| Time: 0:00:05\u001b[39m\n",
      "\u001b[32mWriting to file...100%|█████████████████████████████████| Time: 0:00:05\u001b[39m\n"
     ]
    },
    {
     "name": "stdout",
     "output_type": "stream",
     "text": [
      "Total windows = 331, averaging ~ 4096 unique haplotypes per window.\n",
      "\n",
      "Timings: \n",
      "    Data import                     = 10.3302 seconds\n",
      "    Computing haplotype pair        = 5.41888 seconds\n",
      "        computing dist(X, H)           = 0.356879 seconds per thread\n",
      "        BLAS3 mul! to get M and N      = 3.14795 seconds per thread\n",
      "        haplopair search               = 0.157715 seconds per thread\n",
      "        finding redundant happairs     = 0.00229817 seconds per thread\n",
      "    Phasing by dynamic programming  = 0.0103331 seconds\n",
      "    Imputation                      = 5.91353 seconds\n",
      "\n",
      " 21.780103 seconds (52.92 M allocations: 8.239 GiB, 11.42% gc time)\n",
      "error overall = 0.010622494434683475 \n",
      "\n"
     ]
    }
   ],
   "source": [
    "# 8 threads, scaling by 1-p\n",
    "Random.seed!(2020)\n",
    "chr = 18\n",
    "maf = 0.1\n",
    "width = 512\n",
    "tgtfile = \"target.chr$chr.typedOnly.maf$maf.masked.vcf.gz\"\n",
    "reffile = \"ref.chr18.$width.maf$maf.excludeTarget.jlso\"\n",
    "outfile = \"mendel.imputed.dp$width.maf$maf.vcf.gz\"\n",
    "@time ph = phase(tgtfile, reffile, outfile=outfile, impute=true, width=width, \n",
    "    thinning_factor=100, thinning_scale_allelefreq=true, max_haplotypes = 100)\n",
    "\n",
    "# X_complete = convert_gt(UInt8, \"target.chr18.full.vcf.gz\")\n",
    "n, p = size(X_complete)\n",
    "X_mendel = convert_gt(UInt8, outfile)\n",
    "println(\"error overall = $(sum(X_mendel .!= X_complete) / n / p) \\n\")"
   ]
  },
  {
   "cell_type": "code",
   "execution_count": 19,
   "metadata": {
    "collapsed": false
   },
   "outputs": [
    {
     "name": "stdout",
     "output_type": "stream",
     "text": [
      "Importing reference haplotype data...\n"
     ]
    },
    {
     "name": "stderr",
     "output_type": "stream",
     "text": [
      "\u001b[32mWriting to file...100%|█████████████████████████████████| Time: 0:00:06\u001b[39m\n"
     ]
    },
    {
     "name": "stdout",
     "output_type": "stream",
     "text": [
      "Total windows = 331, averaging ~ 4096 unique haplotypes per window.\n",
      "\n",
      "Timings: \n",
      "    Data import                     = 9.85995 seconds\n",
      "    Computing haplotype pair        = 4.84689 seconds\n",
      "        computing dist(X, H)           = 0.340418 seconds per thread\n",
      "        BLAS3 mul! to get M and N      = 3.21735 seconds per thread\n",
      "        haplopair search               = 0.160892 seconds per thread\n",
      "        finding redundant happairs     = 0.00239908 seconds per thread\n",
      "    Phasing by dynamic programming  = 0.010365 seconds\n",
      "    Imputation                      = 7.81272 seconds\n",
      "\n",
      " 22.775795 seconds (52.84 M allocations: 8.369 GiB, 8.85% gc time)\n",
      "error overall = 0.010608314313126171 \n",
      "\n"
     ]
    }
   ],
   "source": [
    "# 8 threads, scaling by 1-p\n",
    "Random.seed!(2020)\n",
    "chr = 18\n",
    "maf = 0.1\n",
    "width = 512\n",
    "tgtfile = \"target.chr$chr.typedOnly.maf$maf.masked.vcf.gz\"\n",
    "reffile = \"ref.chr18.$width.maf$maf.excludeTarget.jlso\"\n",
    "outfile = \"mendel.imputed.dp$width.maf$maf.vcf.gz\"\n",
    "@time ph = phase(tgtfile, reffile, outfile=outfile, impute=true, width=width, \n",
    "    thinning_factor=200, thinning_scale_allelefreq=true, max_haplotypes = 100)\n",
    "\n",
    "# X_complete = convert_gt(UInt8, \"target.chr18.full.vcf.gz\")\n",
    "n, p = size(X_complete)\n",
    "X_mendel = convert_gt(UInt8, outfile)\n",
    "println(\"error overall = $(sum(X_mendel .!= X_complete) / n / p) \\n\")"
   ]
  },
  {
   "cell_type": "markdown",
   "metadata": {},
   "source": [
    "# Chunking"
   ]
  },
  {
   "cell_type": "code",
   "execution_count": 4,
   "metadata": {
    "collapsed": false
   },
   "outputs": [
    {
     "name": "stdout",
     "output_type": "stream",
     "text": [
      "Importing reference haplotype data...\n"
     ]
    },
    {
     "name": "stderr",
     "output_type": "stream",
     "text": [
      "\u001b[32mComputing haplotype pairs for chunk 1/17...100%|████████| Time: 0:00:05\u001b[39m\n",
      "\u001b[32mComputing haplotype pairs for chunk 10/17...100%|███████| Time: 0:00:05\u001b[39m\n",
      "\u001b[32mComputing haplotype pairs for chunk 13/17...100%|███████| Time: 0:00:05\u001b[39m\n",
      "\u001b[32mComputing haplotype pairs for chunk 16/17...100%|███████| Time: 0:00:06\u001b[39m\n",
      "\u001b[32mWriting to file...100%|█████████████████████████████████| Time: 0:00:06\u001b[39m\n"
     ]
    },
    {
     "name": "stdout",
     "output_type": "stream",
     "text": [
      "Total windows = 331, averaging ~ 4096 unique haplotypes per window.\n",
      "\n",
      "Timings: \n",
      "    Data import                     = 9.58859 seconds\n",
      "    Computing haplotype pair        = 80.8308 seconds\n",
      "        BLAS3 mul! to get M and N      = 8.3887 seconds per thread\n",
      "        haplopair search               = 46.2132 seconds per thread\n",
      "        finding redundant happairs     = 2.51446 seconds per thread\n",
      "    Phasing by win-win intersection = 0.0706799 seconds\n",
      "    Imputation                      = 6.71369 seconds\n",
      "\n",
      "120.304220 seconds (67.70 M allocations: 29.608 GiB, 3.67% gc time)\n",
      "error overall = 0.00644915212490705 \n",
      "\n"
     ]
    }
   ],
   "source": [
    "# 8 threads, num_windows_per_chunks = 20\n",
    "Random.seed!(2020)\n",
    "chr = 18\n",
    "maf = 0.1\n",
    "width = 512\n",
    "tgtfile = \"target.chr$chr.typedOnly.maf$maf.masked.vcf.gz\"\n",
    "reffile = \"ref.chr18.$width.maf$maf.excludeTarget.jlso\"\n",
    "outfile = \"mendel.imputed.dp$width.maf$maf.vcf.gz\"\n",
    "@time ph, hs = phase(tgtfile, reffile, outfile=outfile, impute=true, width=width,\n",
    "    dynamic_programming = false)\n",
    "\n",
    "X_complete = convert_gt(UInt8, \"target.chr18.full.vcf.gz\")\n",
    "n, p = size(X_complete)\n",
    "X_mendel = convert_gt(UInt8, outfile)\n",
    "println(\"error overall = $(sum(X_mendel .!= X_complete) / n / p) \\n\")"
   ]
  },
  {
   "cell_type": "code",
   "execution_count": 10,
   "metadata": {
    "collapsed": false
   },
   "outputs": [
    {
     "name": "stdout",
     "output_type": "stream",
     "text": [
      "Importing reference haplotype data...\n"
     ]
    },
    {
     "name": "stderr",
     "output_type": "stream",
     "text": [
      "\u001b[32mPhasing chunk 3/17...100%|██████████████████████████████| Time: 0:00:05\u001b[39m\n",
      "\u001b[32mWriting to file...100%|█████████████████████████████████| Time: 0:00:06\u001b[39m\n"
     ]
    },
    {
     "name": "stdout",
     "output_type": "stream",
     "text": [
      "Total windows = 331, averaging ~ 4096 unique haplotypes per window.\n",
      "\n",
      "Timings: \n",
      "    Data import                     = 10.967 seconds\n",
      "    Computing haplotype pair        = 72.1552 seconds\n",
      "        BLAS3 mul! to get M and N      = 9.06695 seconds per thread\n",
      "        haplopair search               = 46.6832 seconds per thread\n",
      "        finding redundant happairs     = 1.885 seconds per thread\n",
      "    Phasing by win-win intersection = 1.99925 seconds\n",
      "    Imputation                      = 6.80302 seconds\n",
      "\n",
      "123.262407 seconds (68.50 M allocations: 29.626 GiB, 4.41% gc time)\n",
      "error overall = 0.00644915212490705 \n",
      "\n"
     ]
    }
   ],
   "source": [
    "# 8 threads, num_windows_per_chunks = 20\n",
    "Random.seed!(2020)\n",
    "chr = 18\n",
    "maf = 0.1\n",
    "width = 512\n",
    "tgtfile = \"target.chr$chr.typedOnly.maf$maf.masked.vcf.gz\"\n",
    "reffile = \"ref.chr18.$width.maf$maf.excludeTarget.jlso\"\n",
    "outfile = \"mendel.imputed.dp$width.maf$maf.vcf.gz\"\n",
    "@time ph, hs = phase(tgtfile, reffile, outfile=outfile, impute=true, width=width,\n",
    "    dynamic_programming = false)\n",
    "\n",
    "X_complete = convert_gt(UInt8, \"target.chr18.full.vcf.gz\")\n",
    "n, p = size(X_complete)\n",
    "X_mendel = convert_gt(UInt8, outfile)\n",
    "println(\"error overall = $(sum(X_mendel .!= X_complete) / n / p) \\n\")"
   ]
  },
  {
   "cell_type": "markdown",
   "metadata": {},
   "source": [
    "# Beagle 5.0"
   ]
  },
  {
   "cell_type": "code",
   "execution_count": null,
   "metadata": {
    "collapsed": true
   },
   "outputs": [],
   "source": [
    "# convert vcf.gz to bref3\n",
    "java -jar ./bref3.18May20.d20.jar ref.chr18.excludeTarget.vcf.gz > ref.chr18.excludeTarget.bref3"
   ]
  },
  {
   "cell_type": "code",
   "execution_count": 2,
   "metadata": {
    "collapsed": false
   },
   "outputs": [
    {
     "name": "stdout",
     "output_type": "stream",
     "text": [
      "beagle.18May20.d20.jar (version 5.1)\n",
      "Copyright (C) 2014-2018 Brian L. Browning\n",
      "Enter \"java -jar beagle.18May20.d20.jar\" to list command line argument\n",
      "Start time: 11:58 AM PDT on 30 Jun 2020\n",
      "\n",
      "Command line: java -Xmx3641m -jar beagle.18May20.d20.jar\n",
      "  gt=target.chr18.typedOnly.maf0.1.masked.vcf.gz\n",
      "  ref=ref.chr18.excludeTarget.bref3\n",
      "  out=beagle.chr18.result\n",
      "  nthreads=8\n",
      "\n",
      "No genetic map is specified: using 1 cM = 1 Mb\n",
      "\n",
      "Reference samples:       2,404\n",
      "Study samples:             100\n",
      "\n",
      "Window 1 (18:10644-40010629)\n",
      "Reference markers:     409,667\n",
      "Study markers:          81,157\n",
      "\n",
      "Burnin  iteration 1:           8 seconds\n",
      "Burnin  iteration 2:           7 seconds\n",
      "Burnin  iteration 3:           7 seconds\n",
      "Burnin  iteration 4:           8 seconds\n",
      "Burnin  iteration 5:           7 seconds\n",
      "Burnin  iteration 6:           8 seconds\n",
      "\n",
      "Phasing iteration 1:           8 seconds\n",
      "Phasing iteration 2:           7 seconds\n",
      "Phasing iteration 3:           7 seconds\n",
      "Phasing iteration 4:           7 seconds\n",
      "Phasing iteration 5:           7 seconds\n",
      "Phasing iteration 6:           6 seconds\n",
      "Phasing iteration 7:           6 seconds\n",
      "Phasing iteration 8:           6 seconds\n",
      "Phasing iteration 9:           7 seconds\n",
      "Phasing iteration 10:          6 seconds\n",
      "Phasing iteration 11:          7 seconds\n",
      "Phasing iteration 12:          6 seconds\n",
      "\n",
      "Imputation time:               12 seconds\n",
      "\n",
      "Window 2 (18:36010613-76010634)\n",
      "Reference markers:     455,087\n",
      "Study markers:          90,368\n",
      "\n",
      "Burnin  iteration 1:           9 seconds\n",
      "Burnin  iteration 2:           9 seconds\n",
      "Burnin  iteration 3:           10 seconds\n",
      "Burnin  iteration 4:           9 seconds\n",
      "Burnin  iteration 5:           9 seconds\n",
      "Burnin  iteration 6:           11 seconds\n",
      "\n",
      "Phasing iteration 1:           11 seconds\n",
      "Phasing iteration 2:           9 seconds\n",
      "Phasing iteration 3:           9 seconds\n",
      "Phasing iteration 4:           8 seconds\n",
      "Phasing iteration 5:           8 seconds\n",
      "Phasing iteration 6:           8 seconds\n",
      "Phasing iteration 7:           8 seconds\n",
      "Phasing iteration 8:           9 seconds\n",
      "Phasing iteration 9:           8 seconds\n",
      "Phasing iteration 10:          8 seconds\n",
      "Phasing iteration 11:          8 seconds\n",
      "Phasing iteration 12:          8 seconds\n",
      "\n",
      "Imputation time:               14 seconds\n",
      "\n",
      "Window 3 (18:72010594-78017156)\n",
      "Reference markers:      79,388\n",
      "Study markers:          16,097\n",
      "\n",
      "Burnin  iteration 1:           2 seconds\n",
      "Burnin  iteration 2:           2 seconds\n",
      "Burnin  iteration 3:           1 second\n",
      "Burnin  iteration 4:           2 seconds\n",
      "Burnin  iteration 5:           2 seconds\n",
      "Burnin  iteration 6:           2 seconds\n",
      "\n",
      "Phasing iteration 1:           2 seconds\n",
      "Phasing iteration 2:           2 seconds\n",
      "Phasing iteration 3:           2 seconds\n",
      "Phasing iteration 4:           2 seconds\n",
      "Phasing iteration 5:           2 seconds\n",
      "Phasing iteration 6:           2 seconds\n",
      "Phasing iteration 7:           2 seconds\n",
      "Phasing iteration 8:           2 seconds\n",
      "Phasing iteration 9:           2 seconds\n",
      "Phasing iteration 10:          2 seconds\n",
      "Phasing iteration 11:          2 seconds\n",
      "Phasing iteration 12:          2 seconds\n",
      "\n",
      "Imputation time:               1 second\n",
      "\n",
      "Cumulative Statistics:\n",
      "\n",
      "Reference markers:     852,602\n",
      "Study markers:         169,914\n",
      "\n",
      "Haplotype phasing time:        5 minutes 16 seconds\n",
      "Imputation time:               27 seconds\n",
      "Total time:                    5 minutes 48 seconds\n",
      "\n",
      "End time: 12:04 PM PDT on 30 Jun 2020\n",
      "beagle.18May20.d20.jar finished\n"
     ]
    },
    {
     "ename": "UndefVarError",
     "evalue": "UndefVarError: convert_gt not defined",
     "output_type": "error",
     "traceback": [
      "UndefVarError: convert_gt not defined",
      "",
      "Stacktrace:",
      " [1] top-level scope at In[2]:3"
     ]
    }
   ],
   "source": [
    "# run beagle 5.1 (8 thread)\n",
    "run(`java -jar beagle.18May20.d20.jar gt=target.chr18.typedOnly.maf0.1.masked.vcf.gz ref=ref.chr18.excludeTarget.bref3 out=beagle.chr18.result nthreads=8`)"
   ]
  },
  {
   "cell_type": "code",
   "execution_count": 4,
   "metadata": {
    "collapsed": false
   },
   "outputs": [
    {
     "data": {
      "text/plain": [
       "0.002799993431870908"
      ]
     },
     "execution_count": 4,
     "metadata": {},
     "output_type": "execute_result"
    }
   ],
   "source": [
    "# beagle 5.1 error rate\n",
    "X_complete = convert_gt(Float32, \"target.chr18.full.vcf.gz\")\n",
    "n, p = size(X_complete)\n",
    "X_beagle = convert_gt(Float32, \"beagle.chr18.result.vcf.gz\")\n",
    "error_rate = sum(X_beagle .!= X_complete) / n / p"
   ]
  },
  {
   "cell_type": "markdown",
   "metadata": {
    "collapsed": true
   },
   "source": [
    "# Eagle 2 + Minimac4\n",
    "\n",
    "In order to use the reference panel in Eagle 2's prephase option, one must first convert it to `.bcf` format via e.g. `htslib` which is *extremely* difficult to install. Even after we went through all the hard work to obtain the final `.bcf` reference file (see commands below), eagle 2.4 STILL SAYS the file is not acceptable (not bgzipped or some processing error). Therefore, I have no choice but to prephase without the reference panel. "
   ]
  },
  {
   "cell_type": "code",
   "execution_count": null,
   "metadata": {
    "collapsed": true
   },
   "outputs": [],
   "source": [
    "# run eagle 2.4: 3367.79 sec on amd-2382 machine (can only run on linux systems)\n",
    "eagle --vcf=target.chr20.typedOnly.masked.vcf.gz --outPrefix=eagle.phased.chr20 --numThreads=4 --geneticMapFile=../Eagle_v2.4.1/tables/genetic_map_hg19_withX.txt.gz"
   ]
  },
  {
   "cell_type": "code",
   "execution_count": null,
   "metadata": {
    "collapsed": true
   },
   "outputs": [],
   "source": [
    "# convert ref file to m3vcf format (Total Run completed in 1 hours, 46 mins, 24 seconds)\n",
    "/u/home/b/biona001/haplotype_comparisons/Minimac3/bin/Minimac3 --refHaps ref.chr20.excludeTarget.vcf.gz --processReference --prefix ref.chr20.excludeTarget"
   ]
  },
  {
   "cell_type": "code",
   "execution_count": null,
   "metadata": {
    "collapsed": true
   },
   "outputs": [],
   "source": [
    "# run minimac4 (2619 seconds)\n",
    "minimac4 --refHaps ref.chr20.excludeTarget.m3vcf.gz --haps eagle.phased.vcf.gz --prefix minimac.imputed.chr20 --format GT --cpus 4"
   ]
  },
  {
   "cell_type": "code",
   "execution_count": null,
   "metadata": {
    "collapsed": true
   },
   "outputs": [],
   "source": [
    "# minimac4 error rate    \n",
    "X_complete = convert_gt(Float32, \"target.chr20.full.vcf.gz\")\n",
    "X_minimac = convert_gt(Float32, \"minimac.imputed.chr20.dose.vcf.gz\")\n",
    "n, p = size(X_complete)\n",
    "println(\"error overall = $(sum(X_minimac .!= X_complete) / n / p) \\n\")"
   ]
  },
  {
   "cell_type": "markdown",
   "metadata": {
    "collapsed": true
   },
   "source": [
    "# LASSO and haplotype thinning "
   ]
  },
  {
   "cell_type": "code",
   "execution_count": 6,
   "metadata": {
    "collapsed": false,
    "scrolled": true
   },
   "outputs": [
    {
     "name": "stdout",
     "output_type": "stream",
     "text": [
      "Importing reference haplotype data...\n"
     ]
    },
    {
     "name": "stderr",
     "output_type": "stream",
     "text": [
      "\u001b[32mPhasing chunk 1/1...100%|███████████████████████████████| Time: 0:00:21\u001b[39m\n",
      "\u001b[32mWriting to file...100%|█████████████████████████████████| Time: 0:00:07\u001b[39m\n"
     ]
    },
    {
     "name": "stdout",
     "output_type": "stream",
     "text": [
      "Total windows = 331, averaging ~ 4096 unique haplotypes per window.\n",
      "\n",
      "Timings: \n",
      "    Data import                     = 9.31658 seconds\n",
      "    Computing haplotype pair        = 21.1465 seconds\n",
      "        BLAS3 mul! to get M and N      = 13.9018 seconds per thread\n",
      "        haplopair search               = 2.455 seconds per thread\n",
      "        finding redundant happairs     = 0.00504225 seconds per thread\n",
      "    Phasing by win-win intersection = 0.044287 seconds\n",
      "    Imputation                      = 8.56951 seconds\n",
      "\n",
      "lasso r = 100: time = 39.170199529, error = 0.007713763279936008 \n",
      "\n",
      "Importing reference haplotype data...\n"
     ]
    },
    {
     "name": "stderr",
     "output_type": "stream",
     "text": [
      "\u001b[32mPhasing chunk 1/1...100%|███████████████████████████████| Time: 0:00:22\u001b[39m\n",
      "\u001b[32mWriting to file...100%|█████████████████████████████████| Time: 0:00:07\u001b[39m\n"
     ]
    },
    {
     "name": "stdout",
     "output_type": "stream",
     "text": [
      "Total windows = 331, averaging ~ 4096 unique haplotypes per window.\n",
      "\n",
      "Timings: \n",
      "    Data import                     = 10.1427 seconds\n",
      "    Computing haplotype pair        = 22.8784 seconds\n",
      "        BLAS3 mul! to get M and N      = 15.2554 seconds per thread\n",
      "        haplopair search               = 2.7129 seconds per thread\n",
      "        finding redundant happairs     = 0.00446146 seconds per thread\n",
      "    Phasing by win-win intersection = 0.0403309 seconds\n",
      "    Imputation                      = 8.36141 seconds\n",
      "\n",
      "lasso r = 100: time = 41.515630959, error = 0.007713763279936008 \n",
      "\n"
     ]
    }
   ],
   "source": [
    "# lasso, 8 threads\n",
    "Random.seed!(2020)\n",
    "chr = 18\n",
    "maf = 0.1\n",
    "width = 512\n",
    "tgtfile = \"target.chr$chr.typedOnly.maf$maf.masked.vcf.gz\"\n",
    "reffile = \"ref.chr18.$width.maf$maf.excludeTarget.jlso\"\n",
    "outfile = \"mendel.imputed.dp$width.maf$maf.vcf.gz\"\n",
    "X_complete = convert_gt(UInt8, \"target.chr18.full.vcf.gz\")\n",
    "n, p = size(X_complete)\n",
    "\n",
    "for ls in 100\n",
    "    # not scale by freq\n",
    "    t = @elapsed ph = phase(tgtfile, reffile, outfile=outfile, impute=true, width=width, \n",
    "        dynamic_programming=false, lasso=ls, max_haplotypes=800)\n",
    "    X_mendel = convert_gt(UInt8, outfile)\n",
    "    println(\"lasso r = $ls: time = $t, error = $(sum(X_mendel .!= X_complete) / n / p) \\n\")\n",
    "    \n",
    "    # scale by freq\n",
    "    t = @elapsed ph = phase(tgtfile, reffile, outfile=outfile, impute=true, width=width, \n",
    "        dynamic_programming=false, lasso=ls, max_haplotypes=800, scale_allelefreq=true)\n",
    "    X_mendel = convert_gt(UInt8, outfile)\n",
    "    println(\"lasso r = $ls: time = $t, error = $(sum(X_mendel .!= X_complete) / n / p) \\n\")\n",
    "end"
   ]
  },
  {
   "cell_type": "code",
   "execution_count": 2,
   "metadata": {
    "collapsed": false
   },
   "outputs": [
    {
     "name": "stdout",
     "output_type": "stream",
     "text": [
      "Importing reference haplotype data...\n"
     ]
    },
    {
     "name": "stderr",
     "output_type": "stream",
     "text": [
      "\u001b[32mPhasing chunk 1/1...100%|███████████████████████████████| Time: 0:00:22\u001b[39m\n",
      "\u001b[32mWriting to file...100%|█████████████████████████████████| Time: 0:00:06\u001b[39m\n"
     ]
    },
    {
     "name": "stdout",
     "output_type": "stream",
     "text": [
      "Total windows = 331, averaging ~ 4096 unique haplotypes per window.\n",
      "\n",
      "Timings: \n",
      "    Data import                     = 13.3922 seconds\n",
      "    Computing haplotype pair        = 22.8901 seconds\n",
      "        BLAS3 mul! to get M and N      = 10.1758 seconds per thread\n",
      "        haplopair search               = 2.58633 seconds per thread\n",
      "        finding redundant happairs     = 0.0903123 seconds per thread\n",
      "    Phasing by win-win intersection = 1.78401 seconds\n",
      "    Imputation                      = 7.47731 seconds\n",
      "\n",
      "lasso r = 100: time = 67.011659731, error = 0.00953075409159256 \n",
      "\n",
      "Importing reference haplotype data...\n"
     ]
    },
    {
     "name": "stderr",
     "output_type": "stream",
     "text": [
      "\u001b[32mPhasing chunk 1/1...100%|███████████████████████████████| Time: 0:00:18\u001b[39m\n",
      "\u001b[32mWriting to file...100%|█████████████████████████████████| Time: 0:00:06\u001b[39m\n"
     ]
    },
    {
     "name": "stdout",
     "output_type": "stream",
     "text": [
      "Total windows = 331, averaging ~ 4096 unique haplotypes per window.\n",
      "\n",
      "Timings: \n",
      "    Data import                     = 10.7892 seconds\n",
      "    Computing haplotype pair        = 18.0653 seconds\n",
      "        BLAS3 mul! to get M and N      = 10.6055 seconds per thread\n",
      "        haplopair search               = 2.70464 seconds per thread\n",
      "        finding redundant happairs     = 0.00483429 seconds per thread\n",
      "    Phasing by win-win intersection = 0.0280049 seconds\n",
      "    Imputation                      = 7.27936 seconds\n",
      "\n",
      "lasso r = 100: time = 36.297164102, error = 0.00953075409159256 \n",
      "\n"
     ]
    }
   ],
   "source": [
    "# lasso, use M = H'H and Nt = H'X\n",
    "Random.seed!(2020)\n",
    "chr = 18\n",
    "maf = 0.1\n",
    "width = 512\n",
    "tgtfile = \"target.chr$chr.typedOnly.maf$maf.masked.vcf.gz\"\n",
    "reffile = \"ref.chr18.$width.maf$maf.excludeTarget.jlso\"\n",
    "outfile = \"mendel.imputed.dp$width.maf$maf.vcf.gz\"\n",
    "X_complete = convert_gt(UInt8, \"target.chr18.full.vcf.gz\")\n",
    "n, p = size(X_complete)\n",
    "\n",
    "for ls in 100\n",
    "    # not scale by freq\n",
    "    t = @elapsed ph = phase(tgtfile, reffile, outfile=outfile, impute=true, width=width, \n",
    "        dynamic_programming=false, lasso=ls, max_haplotypes=800)\n",
    "    X_mendel = convert_gt(UInt8, outfile)\n",
    "    println(\"lasso r = $ls: time = $t, error = $(sum(X_mendel .!= X_complete) / n / p) \\n\")\n",
    "    \n",
    "    # scale by freq\n",
    "    t = @elapsed ph = phase(tgtfile, reffile, outfile=outfile, impute=true, width=width, \n",
    "        dynamic_programming=false, lasso=ls, max_haplotypes=800, scale_allelefreq=true)\n",
    "    X_mendel = convert_gt(UInt8, outfile)\n",
    "    println(\"lasso r = $ls: time = $t, error = $(sum(X_mendel .!= X_complete) / n / p) \\n\")\n",
    "end"
   ]
  },
  {
   "cell_type": "code",
   "execution_count": null,
   "metadata": {
    "collapsed": true
   },
   "outputs": [],
   "source": []
  },
  {
   "cell_type": "code",
   "execution_count": null,
   "metadata": {
    "collapsed": true
   },
   "outputs": [],
   "source": []
  },
  {
   "cell_type": "code",
   "execution_count": null,
   "metadata": {
    "collapsed": true
   },
   "outputs": [],
   "source": []
  },
  {
   "cell_type": "code",
   "execution_count": 5,
   "metadata": {
    "collapsed": false,
    "scrolled": false
   },
   "outputs": [
    {
     "name": "stdout",
     "output_type": "stream",
     "text": [
      "Importing reference haplotype data...\n"
     ]
    },
    {
     "name": "stderr",
     "output_type": "stream",
     "text": [
      "\u001b[32mPhasing chunk 1/1...100%|███████████████████████████████| Time: 0:00:33\u001b[39m\n",
      "\u001b[32mWriting to file...100%|█████████████████████████████████| Time: 0:00:06\u001b[39m\n"
     ]
    },
    {
     "name": "stdout",
     "output_type": "stream",
     "text": [
      "Total windows = 331, averaging ~ 4096 unique haplotypes per window.\n",
      "\n",
      "Timings: \n",
      "    Data import                     = 10.4958 seconds\n",
      "    Computing haplotype pair        = 33.2974 seconds\n",
      "        BLAS3 mul! to get M and N      = 25.9967 seconds per thread\n",
      "        haplopair search               = 4.11763 seconds per thread\n",
      "        finding redundant happairs     = 0.060105 seconds per thread\n",
      "    Phasing by dynamic programming  = 0.0296741 seconds\n",
      "    Imputation                      = 6.66472 seconds\n",
      "\n",
      "thinning factor (weighted) = 100: time = 50.612580208, error = 0.007702538816470052 \n",
      "\n"
     ]
    }
   ],
   "source": [
    "# thinning, 8 threads\n",
    "Random.seed!(2020)\n",
    "chr = 18\n",
    "maf = 0.1\n",
    "width = 512\n",
    "tgtfile = \"target.chr$chr.typedOnly.maf$maf.masked.vcf.gz\"\n",
    "reffile = \"ref.chr18.$width.maf$maf.excludeTarget.jlso\"\n",
    "outfile = \"mendel.imputed.dp$width.maf$maf.vcf.gz\"\n",
    "X_complete = convert_gt(UInt8, \"target.chr18.full.vcf.gz\")\n",
    "n, p = size(X_complete)\n",
    "\n",
    "for tf in 100:100:100\n",
    "#     t = @elapsed ph, hs = phase(tgtfile, reffile, outfile=outfile, impute=true, width=width, \n",
    "#         thinning_factor=tf, max_haplotypes=2000)\n",
    "#     X_mendel = convert_gt(UInt8, outfile)\n",
    "#     println(\"thinning factor (unweighted) = $tf: time = $t, error = $(sum(X_mendel .!= X_complete) / n / p) \\n\")\n",
    "    \n",
    "    t = @elapsed ph, hs = phase(tgtfile, reffile, outfile=outfile, impute=true, width=width, \n",
    "        max_haplotypes=100, lasso=tf)\n",
    "    X_mendel = convert_gt(UInt8, outfile)\n",
    "    println(\"thinning factor (weighted) = $tf: time = $t, error = $(sum(X_mendel .!= X_complete) / n / p) \\n\")\n",
    "end"
   ]
  },
  {
   "cell_type": "code",
   "execution_count": 7,
   "metadata": {
    "collapsed": false
   },
   "outputs": [
    {
     "name": "stderr",
     "output_type": "stream",
     "text": [
      "┌ Info: Precompiling UnicodePlots [b8865327-cd53-5732-bb35-84acbb429228]\n",
      "└ @ Base loading.jl:1273\n",
      "WARNING: using UnicodePlots.width in module Main conflicts with an existing identifier.\n"
     ]
    },
    {
     "data": {
      "text/plain": [
       "\u001b[90m                    ┌                                        ┐\u001b[39m \n",
       "   \u001b[0m\u001b[90m[\u001b[0m1000.0\u001b[90m, \u001b[0m1500.0\u001b[90m)\u001b[0m\u001b[90m ┤\u001b[39m\u001b[32m▇\u001b[39m\u001b[0m 2                                     \u001b[90m \u001b[39m \n",
       "   \u001b[0m\u001b[90m[\u001b[0m1500.0\u001b[90m, \u001b[0m2000.0\u001b[90m)\u001b[0m\u001b[90m ┤\u001b[39m\u001b[32m▇\u001b[39m\u001b[0m 3                                     \u001b[90m \u001b[39m \n",
       "   \u001b[0m\u001b[90m[\u001b[0m2000.0\u001b[90m, \u001b[0m2500.0\u001b[90m)\u001b[0m\u001b[90m ┤\u001b[39m\u001b[32m▇▇▇▇\u001b[39m\u001b[0m 12                                 \u001b[90m \u001b[39m \n",
       "   \u001b[0m\u001b[90m[\u001b[0m2500.0\u001b[90m, \u001b[0m3000.0\u001b[90m)\u001b[0m\u001b[90m ┤\u001b[39m\u001b[32m▇▇▇▇▇\u001b[39m\u001b[0m 16                                \u001b[90m \u001b[39m \n",
       "   \u001b[0m\u001b[90m[\u001b[0m3000.0\u001b[90m, \u001b[0m3500.0\u001b[90m)\u001b[0m\u001b[90m ┤\u001b[39m\u001b[32m▇▇▇▇▇▇▇\u001b[39m\u001b[0m 24                              \u001b[90m \u001b[39m \n",
       "   \u001b[0m\u001b[90m[\u001b[0m3500.0\u001b[90m, \u001b[0m4000.0\u001b[90m)\u001b[0m\u001b[90m ┤\u001b[39m\u001b[32m▇▇▇▇▇▇▇▇▇▇▇▇▇▇\u001b[39m\u001b[0m 45                       \u001b[90m \u001b[39m \n",
       "   \u001b[0m\u001b[90m[\u001b[0m4000.0\u001b[90m, \u001b[0m4500.0\u001b[90m)\u001b[0m\u001b[90m ┤\u001b[39m\u001b[32m▇▇▇▇▇▇▇▇▇▇▇▇▇▇▇▇▇▇▇▇▇▇▇▇▇▇▇▇▇▇▇▇▇▇\u001b[39m\u001b[0m 113  \u001b[90m \u001b[39m \n",
       "   \u001b[0m\u001b[90m[\u001b[0m4500.0\u001b[90m, \u001b[0m5000.0\u001b[90m)\u001b[0m\u001b[90m ┤\u001b[39m\u001b[32m▇▇▇▇▇▇▇▇▇▇▇▇▇▇▇▇▇▇▇▇▇▇▇▇▇▇▇▇▇▇▇▇▇▇▇\u001b[39m\u001b[0m 116 \u001b[90m \u001b[39m \n",
       "\u001b[90m                    └                                        ┘\u001b[39m \n",
       "\u001b[0m                                    Frequency"
      ]
     },
     "execution_count": 7,
     "metadata": {},
     "output_type": "execute_result"
    }
   ],
   "source": [
    "using UnicodePlots\n",
    "x = count_haplotypes_per_window(\"ref.chr18.512.maf0.1.excludeTarget.jlso\")\n",
    "histogram(x)"
   ]
  },
  {
   "cell_type": "code",
   "execution_count": null,
   "metadata": {
    "collapsed": true
   },
   "outputs": [],
   "source": []
  },
  {
   "cell_type": "code",
   "execution_count": null,
   "metadata": {
    "collapsed": true
   },
   "outputs": [],
   "source": []
  },
  {
   "cell_type": "code",
   "execution_count": null,
   "metadata": {
    "collapsed": true
   },
   "outputs": [],
   "source": []
  },
  {
   "cell_type": "code",
   "execution_count": null,
   "metadata": {
    "collapsed": true
   },
   "outputs": [],
   "source": []
  }
 ],
 "metadata": {
  "@webio": {
   "lastCommId": null,
   "lastKernelId": null
  },
  "kernelspec": {
   "display_name": "Julia 1.5.0",
   "language": "julia",
   "name": "julia-1.5"
  },
  "language_info": {
   "file_extension": ".jl",
   "mimetype": "application/julia",
   "name": "julia",
   "version": "1.5.0"
  }
 },
 "nbformat": 4,
 "nbformat_minor": 2
}
