{
 "cells": [
  {
   "cell_type": "markdown",
   "metadata": {},
   "source": [
    "# Test imputation on untyped SNPs chrom 18"
   ]
  },
  {
   "cell_type": "code",
   "execution_count": 1,
   "metadata": {
    "collapsed": false
   },
   "outputs": [
    {
     "name": "stderr",
     "output_type": "stream",
     "text": [
      "┌ Warning: no Manifest.toml file found, static paths used\n",
      "└ @ Revise /Users/biona001/.julia/packages/Revise/439di/src/Revise.jl:1108\n",
      "┌ Info: Precompiling MendelImpute [e47305d1-6a61-5370-bc5d-77554d143183]\n",
      "└ @ Base loading.jl:1273\n"
     ]
    }
   ],
   "source": [
    "using Revise\n",
    "using VCFTools\n",
    "using MendelImpute\n",
    "using GeneticVariation\n",
    "using Random\n",
    "using StatsBase\n",
    "using CodecZlib\n",
    "using ProgressMeter\n",
    "using JLD2, FileIO, JLSO\n",
    "using BenchmarkTools\n",
    "using GroupSlices"
   ]
  },
  {
   "cell_type": "markdown",
   "metadata": {},
   "source": [
    "### Memory requirement\n",
    "\n",
    "**Prephasing step:** \n",
    "+ Target data requies $people * snps * 4$ bytes of RAM\n",
    "+ Reference haplotype data requires $haplotypes * snps$ bits of RAM\n",
    "+ Redundant haplotype set for imputation target requires roughly\n",
    "$people * windows * 1000$ (max haplotypes per win) $* 16 bytes$ of RAM"
   ]
  },
  {
   "cell_type": "markdown",
   "metadata": {},
   "source": [
    "## Generate subset of markers for prephasing"
   ]
  },
  {
   "cell_type": "code",
   "execution_count": 3,
   "metadata": {
    "collapsed": false,
    "scrolled": true
   },
   "outputs": [
    {
     "name": "stdout",
     "output_type": "stream",
     "text": [
      "752.076342 seconds (6.51 G allocations: 615.353 GiB, 7.01% gc time)\n"
     ]
    },
    {
     "name": "stderr",
     "output_type": "stream",
     "text": [
      "\u001b[32mProgress: 100%|█████████████████████████████████████████| Time: 0:08:17\u001b[39m\n"
     ]
    },
    {
     "name": "stdout",
     "output_type": "stream",
     "text": [
      "549.100648 seconds (6.86 G allocations: 650.723 GiB, 10.18% gc time)\n",
      "1139.017251 seconds (16.68 G allocations: 1.249 TiB, 10.94% gc time)\n",
      "599.893049 seconds (6.86 G allocations: 650.911 GiB, 10.61% gc time)\n",
      " 36.158916 seconds (267.39 M allocations: 27.452 GiB, 6.96% gc time)\n",
      "608.676819 seconds (6.83 G allocations: 648.780 GiB, 10.30% gc time)\n",
      " 35.610763 seconds (249.89 M allocations: 25.655 GiB, 6.86% gc time)\n",
      "560.687780 seconds (6.61 G allocations: 626.620 GiB, 10.27% gc time)\n",
      " 16.352906 seconds (119.38 M allocations: 12.252 GiB, 6.40% gc time)\n",
      "520.047088 seconds (6.51 G allocations: 615.447 GiB, 10.21% gc time)\n",
      "  8.014085 seconds (53.29 M allocations: 5.482 GiB, 5.36% gc time)\n",
      "516.890704 seconds (6.43 G allocations: 607.361 GiB, 10.60% gc time)\n",
      "  0.831218 seconds (5.35 M allocations: 563.018 MiB, 5.66% gc time)\n",
      "6410.931663 seconds (76.92 G allocations: 6.823 TiB, 10.06% gc time)\n"
     ]
    }
   ],
   "source": [
    "cd(\"/Users/biona001/.julia/dev/MendelImpute/data/1000_genome_phase3_v5/filtered\")\n",
    "function filter_and_mask()\n",
    "    for chr in [18]\n",
    "        # filter chromosome data for unique snps\n",
    "        data = \"../beagle_raw/chr$chr.1kg.phase3.v5a.vcf.gz\"\n",
    "        full_record_index = .!find_duplicate_marker(data)\n",
    "        @time VCFTools.filter(data, full_record_index, 1:nsamples(data), \n",
    "            des = \"chr$chr.uniqueSNPs.vcf.gz\")\n",
    "\n",
    "        # summarize data\n",
    "        total_snps, samples, _, _, _, maf_by_record, _ = gtstats(\"chr$chr.uniqueSNPs.vcf.gz\")\n",
    "\n",
    "        # generate target panel with all snps\n",
    "        n = 100\n",
    "        sample_idx = falses(samples)\n",
    "        sample_idx[1:n] .= true\n",
    "        shuffle!(sample_idx)\n",
    "        @time VCFTools.filter(\"chr$chr.uniqueSNPs.vcf.gz\", 1:total_snps, \n",
    "            sample_idx, des = \"target.chr$chr.full.vcf.gz\", allow_multiallelic=false)\n",
    "\n",
    "        # also generate reference panel without target samples\n",
    "        @time VCFTools.filter(\"chr$chr.uniqueSNPs.vcf.gz\", 1:total_snps, \n",
    "            .!sample_idx, des = \"ref.chr$chr.excludeTarget.vcf.gz\", allow_multiallelic=false)\n",
    "        \n",
    "        for maf in [0.0005, 0.001, 0.01, 0.1, 0.45]\n",
    "            \n",
    "            # generate target file with 100 samples and typed snps with certain maf\n",
    "            my_maf = findall(x -> x > maf, maf_by_record)  \n",
    "            p = length(my_maf)\n",
    "            record_idx = falses(total_snps)\n",
    "            record_idx[my_maf] .= true\n",
    "            @time VCFTools.filter(\"chr$chr.uniqueSNPs.vcf.gz\", record_idx, sample_idx, \n",
    "                des = \"target.chr$chr.typedOnly.maf$maf.vcf.gz\", allow_multiallelic=false)\n",
    "\n",
    "            # unphase and mask 1% entries in target file\n",
    "            masks = falses(p, n)\n",
    "            missingprop = 0.001\n",
    "            for j in 1:n, i in 1:p\n",
    "                rand() < missingprop && (masks[i, j] = true)\n",
    "            end\n",
    "            @time mask_gt(\"target.chr$chr.typedOnly.maf$maf.vcf.gz\", masks, \n",
    "                des=\"target.chr$chr.typedOnly.maf$maf.masked.vcf.gz\", unphase=true)\n",
    "        end\n",
    "    end \n",
    "end\n",
    "Random.seed!(2020)\n",
    "@time filter_and_mask()"
   ]
  },
  {
   "cell_type": "markdown",
   "metadata": {},
   "source": [
    "### Missing rate\n",
    "\n",
    "In typed markers, 0.1% of data is missing at random, and the untyped markers missing rate are:"
   ]
  },
  {
   "cell_type": "code",
   "execution_count": 2,
   "metadata": {
    "collapsed": false
   },
   "outputs": [
    {
     "name": "stdout",
     "output_type": "stream",
     "text": [
      "ref_records = nrecords(reffile) = 852602\n",
      "there are 852602 snps w/ maf > 0.0005. Missing rate = 0.0\n",
      "there are 796810 snps w/ maf > 0.001. Missing rate = 0.06543733183830203\n",
      "there are 380645 snps w/ maf > 0.01. Missing rate = 0.5535490181819888\n",
      "there are 169914 snps w/ maf > 0.1. Missing rate = 0.8007112345502356\n",
      "there are 17044 snps w/ maf > 0.45. Missing rate = 0.9800094299567677\n"
     ]
    }
   ],
   "source": [
    "reffile = \"ref.chr18.excludeTarget.vcf.gz\"\n",
    "@show ref_records = nrecords(reffile)\n",
    "for maf in [0.0005, 0.001, 0.01, 0.1, 0.45]\n",
    "    tgtfile = \"target.chr18.typedOnly.maf$maf.masked.vcf.gz\"\n",
    "    tgt_records = nrecords(tgtfile)\n",
    "    missing_rate = 1 - tgt_records / ref_records\n",
    "    println(\"there are $tgt_records snps w/ maf > $maf. Missing rate = $missing_rate\")\n",
    "end"
   ]
  },
  {
   "cell_type": "markdown",
   "metadata": {},
   "source": [
    "# Try compressing with JLD2"
   ]
  },
  {
   "cell_type": "code",
   "execution_count": 4,
   "metadata": {
    "collapsed": false
   },
   "outputs": [
    {
     "name": "stderr",
     "output_type": "stream",
     "text": [
      "\u001b[32mimporting vcf data...100%|██████████████████████████████| Time: 0:04:24\u001b[39m\n"
     ]
    },
    {
     "name": "stdout",
     "output_type": "stream",
     "text": [
      "310.253834 seconds (4.17 G allocations: 309.774 GiB, 17.72% gc time)\n"
     ]
    }
   ],
   "source": [
    "width = 2000    # use 2000 SNPs per window (which almost all haplotypes are unique)\n",
    "reffile = \"ref.chr18.excludeTarget.vcf.gz\"\n",
    "outfile = \"ref.chr18.excludeTarget.jld2\"\n",
    "@time compress_haplotypes(reffile, outfile, width);"
   ]
  },
  {
   "cell_type": "code",
   "execution_count": 5,
   "metadata": {
    "collapsed": false
   },
   "outputs": [
    {
     "name": "stdout",
     "output_type": "stream",
     "text": [
      "  4.488734 seconds (19.12 M allocations: 1.624 GiB, 16.99% gc time)\n"
     ]
    }
   ],
   "source": [
    "@time @load \"ref.chr18.excludeTarget.jld2\" compressed_Hunique;"
   ]
  },
  {
   "cell_type": "code",
   "execution_count": 6,
   "metadata": {
    "collapsed": false
   },
   "outputs": [
    {
     "name": "stdout",
     "output_type": "stream",
     "text": [
      "-rw-r--r--  1 biona001  staff  754339754 May 28 10:06 ref.chr18.excludeTarget.jld2\n"
     ]
    }
   ],
   "source": [
    ";ls -al ref.chr18.excludeTarget.jld2"
   ]
  },
  {
   "cell_type": "code",
   "execution_count": 7,
   "metadata": {
    "collapsed": false
   },
   "outputs": [
    {
     "name": "stdout",
     "output_type": "stream",
     "text": [
      "-rw-r--r--@ 1 biona001  staff  247072174 May 19 23:43 ref.chr18.excludeTarget.vcf.gz\n"
     ]
    }
   ],
   "source": [
    ";ls -al ref.chr18.excludeTarget.vcf.gz"
   ]
  },
  {
   "cell_type": "markdown",
   "metadata": {},
   "source": [
    "# Try jlso compression"
   ]
  },
  {
   "cell_type": "code",
   "execution_count": 2,
   "metadata": {
    "collapsed": false
   },
   "outputs": [
    {
     "name": "stderr",
     "output_type": "stream",
     "text": [
      "\u001b[32mimporting vcf data...100%|██████████████████████████████| Time: 0:04:34\u001b[39m\n"
     ]
    },
    {
     "data": {
      "text/plain": [
       "(Bool[0 0 … 0 0; 0 0 … 0 0; … ; 1 1 … 1 1; 1 1 … 1 1], [\"HG00096\", \"HG00097\", \"HG00099\", \"HG00100\", \"HG00101\", \"HG00102\", \"HG00103\", \"HG00105\", \"HG00106\", \"HG00107\"  …  \"NA21128\", \"NA21129\", \"NA21130\", \"NA21133\", \"NA21135\", \"NA21137\", \"NA21141\", \"NA21142\", \"NA21143\", \"NA21144\"], [\"18\", \"18\", \"18\", \"18\", \"18\", \"18\", \"18\", \"18\", \"18\", \"18\"  …  \"18\", \"18\", \"18\", \"18\", \"18\", \"18\", \"18\", \"18\", \"18\", \"18\"], [10644, 10661, 10701, 10719, 10743, 10764, 10770, 10780, 10796, 10839  …  78016732, 78016797, 78016888, 78016911, 78017030, 78017064, 78017073, 78017128, 78017155, 78017156], Array{String,1}[[\"rs115926245\"], [\"rs566492364\"], [\"rs139482401\"], [\"rs574502329\"], [\"rs532878481\"], [\"rs550985930\"], [\"rs530200462\"], [\"rs566603231\"], [\"rs115877650\"], [\"rs574589272\"]  …  [\"rs527898535\"], [\"rs140902457\"], [\"rs140216338\"], [\"rs202183949\"], [\"rs145359037\"], [\"rs137912669\"], [\"rs149056417\"], [\"rs188332254\"], [\"rs587690570\"], [\"rs587765114\"]], [\"C\", \"G\", \"C\", \"C\", \"G\", \"C\", \"G\", \"G\", \"C\", \"C\"  …  \"G\", \"A\", \"G\", \"AG\", \"G\", \"A\", \"C\", \"C\", \"A\", \"A\"], Array{String,1}[[\"G\"], [\"C\"], [\"T\"], [\"G\"], [\"C\"], [\"T\"], [\"C\"], [\"A\"], [\"G\"], [\"G\"]  …  [\"A\"], [\"C\"], [\"T\"], [\"A\"], [\"C\"], [\"G\"], [\"G\"], [\"A\"], [\"C\"], [\"C\"]])"
      ]
     },
     "execution_count": 2,
     "metadata": {},
     "output_type": "execute_result"
    }
   ],
   "source": [
    "vcffile = \"ref.chr18.excludeTarget.vcf.gz\"\n",
    "H, H_sampleID, H_chr, H_pos, H_ids, H_ref, H_alt = convert_ht(Bool, vcffile, trans=true, save_snp_info=true, msg=\"importing vcf data...\")"
   ]
  },
  {
   "cell_type": "code",
   "execution_count": 11,
   "metadata": {
    "collapsed": false
   },
   "outputs": [],
   "source": [
    "for width in [1000, 2000, 4000]\n",
    "    outfile = \"ref.$width.chr18.excludeTarget.jlso\"\n",
    "    dims=2\n",
    "    flankwidth=0\n",
    "    snps = (dims == 2 ? size(H, 1) : size(H, 2))\n",
    "    windows = floor(Int, snps / width);\n",
    "    compressed_Hunique = MendelImpute.CompressedHaplotypes(windows, width, snps, H_sampleID, H_chr, H_pos, H_ids, H_ref, H_alt)\n",
    "    for w in 1:windows\n",
    "        if w == 1\n",
    "            cur_range = 1:(width + flankwidth)\n",
    "        elseif w == windows\n",
    "            cur_range = ((windows - 1) * width - flankwidth + 1):snps\n",
    "        else\n",
    "            cur_range = ((w - 1) * width - flankwidth + 1):(w * width + flankwidth)\n",
    "        end\n",
    "        compressed_Hunique.CWrange[w] = cur_range\n",
    "\n",
    "        H_cur_window = (dims == 2 ? view(H, cur_range, :) : view(H, :, cur_range))\n",
    "        hapmap = groupslices(H_cur_window, dims=dims)\n",
    "        unique_idx = unique(hapmap)\n",
    "        uniqueH = (dims == 2 ? H_cur_window[:, unique_idx] : H_cur_window[unique_idx, :])\n",
    "        compressed_Hunique[w] = MendelImpute.CompressedWindow(unique_idx, hapmap, uniqueH)\n",
    "    end\n",
    "    endswith(outfile, \".jlso\") && JLSO.save(outfile, :compressed_Hunique => compressed_Hunique, format=:julia_serialize, compression=:gzip)\n",
    "end"
   ]
  },
  {
   "cell_type": "code",
   "execution_count": null,
   "metadata": {
    "collapsed": true
   },
   "outputs": [],
   "source": [
    "width = 1000    # use 2000 SNPs per window (which almost all haplotypes are unique)\n",
    "reffile = \"ref.chr18.excludeTarget.vcf.gz\"\n",
    "outfile = \"ref.$width.chr18.excludeTarget.jlso\"\n",
    "@time compress_haplotypes(reffile, outfile, width);"
   ]
  },
  {
   "cell_type": "code",
   "execution_count": 12,
   "metadata": {
    "collapsed": false
   },
   "outputs": [
    {
     "name": "stdout",
     "output_type": "stream",
     "text": [
      "-rw-r--r--  1 biona001  staff  49410994 Jun  1 22:24 ref.1000.chr18.excludeTarget.jlso\n"
     ]
    }
   ],
   "source": [
    ";ls -al ref.1000.chr18.excludeTarget.jlso"
   ]
  },
  {
   "cell_type": "code",
   "execution_count": 13,
   "metadata": {
    "collapsed": false
   },
   "outputs": [
    {
     "name": "stdout",
     "output_type": "stream",
     "text": [
      "-rw-r--r--  1 biona001  staff  56525290 Jun  1 22:25 ref.2000.chr18.excludeTarget.jlso\n"
     ]
    }
   ],
   "source": [
    ";ls -al ref.2000.chr18.excludeTarget.jlso"
   ]
  },
  {
   "cell_type": "code",
   "execution_count": 14,
   "metadata": {
    "collapsed": false
   },
   "outputs": [
    {
     "name": "stdout",
     "output_type": "stream",
     "text": [
      "-rw-r--r--  1 biona001  staff  65786356 Jun  1 22:26 ref.4000.chr18.excludeTarget.jlso\n"
     ]
    }
   ],
   "source": [
    ";ls -al ref.4000.chr18.excludeTarget.jlso"
   ]
  },
  {
   "cell_type": "code",
   "execution_count": 15,
   "metadata": {
    "collapsed": false
   },
   "outputs": [
    {
     "name": "stdout",
     "output_type": "stream",
     "text": [
      "-rw-r--r--@ 1 biona001  staff  247072174 May 19 23:43 ref.chr18.excludeTarget.vcf.gz\n"
     ]
    }
   ],
   "source": [
    ";ls -al ref.chr18.excludeTarget.vcf.gz"
   ]
  },
  {
   "cell_type": "code",
   "execution_count": null,
   "metadata": {
    "collapsed": true
   },
   "outputs": [],
   "source": []
  },
  {
   "cell_type": "code",
   "execution_count": null,
   "metadata": {
    "collapsed": true
   },
   "outputs": [],
   "source": []
  },
  {
   "cell_type": "code",
   "execution_count": null,
   "metadata": {
    "collapsed": true
   },
   "outputs": [],
   "source": []
  },
  {
   "cell_type": "code",
   "execution_count": null,
   "metadata": {
    "collapsed": true
   },
   "outputs": [],
   "source": []
  },
  {
   "cell_type": "code",
   "execution_count": null,
   "metadata": {
    "collapsed": true
   },
   "outputs": [],
   "source": []
  },
  {
   "cell_type": "code",
   "execution_count": 2,
   "metadata": {
    "collapsed": false
   },
   "outputs": [
    {
     "data": {
      "text/plain": [
       "8"
      ]
     },
     "execution_count": 2,
     "metadata": {},
     "output_type": "execute_result"
    }
   ],
   "source": [
    "Threads.nthreads()"
   ]
  },
  {
   "cell_type": "code",
   "execution_count": 15,
   "metadata": {
    "collapsed": false
   },
   "outputs": [
    {
     "name": "stderr",
     "output_type": "stream",
     "text": [
      "\u001b[32mComputing optimal haplotype pairs...100%|███████████████| Time: 0:05:20\u001b[39m\n",
      "\u001b[32mMerging breakpoints...100%|█████████████████████████████| Time: 0:00:06\u001b[39m\n",
      "\u001b[32mWriting to file...100%|█████████████████████████████████| Time: 0:00:11\u001b[39m\n"
     ]
    },
    {
     "name": "stdout",
     "output_type": "stream",
     "text": [
      "Data import time                    = 12.7563 seconds\n",
      "Computing haplotype pair time       = 320.28 seconds\n",
      "Phasing by dynamic programming time = 6.85594 seconds\n",
      "Imputing time                       = 13.147 seconds\n",
      "353.038002 seconds (53.63 M allocations: 46.721 GiB, 23.32% gc time)\n",
      "error overall = 0.005482159319354166 \n",
      "\n"
     ]
    }
   ],
   "source": [
    "# searching single bkpts, deleting suboptimal pairs in dp, skip windows with <100 typed snps\n",
    "Random.seed!(2020)\n",
    "tgtfile = \"target.chr$chr.typedOnly.maf$maf.masked.vcf.gz\"\n",
    "reffile = \"ref.chr$chr.excludeTarget.jlso\"\n",
    "outfile = \"mendel.imputed.dp$width.maf$maf.vcf.gz\"\n",
    "@time ph, hs = phase(tgtfile, reffile, outfile=outfile, impute=true, width=width, \n",
    "    fast_method=false)\n",
    "\n",
    "X_complete = convert_gt(UInt8, \"target.chr18.full.vcf.gz\")\n",
    "n, p = size(X_complete)\n",
    "X_mendel = convert_gt(UInt8, outfile)\n",
    "println(\"error overall = $(sum(X_mendel .!= X_complete) / n / p) \\n\")"
   ]
  },
  {
   "cell_type": "code",
   "execution_count": null,
   "metadata": {
    "collapsed": true
   },
   "outputs": [],
   "source": []
  },
  {
   "cell_type": "code",
   "execution_count": null,
   "metadata": {
    "collapsed": true
   },
   "outputs": [],
   "source": []
  },
  {
   "cell_type": "code",
   "execution_count": null,
   "metadata": {
    "collapsed": true
   },
   "outputs": [],
   "source": []
  },
  {
   "cell_type": "code",
   "execution_count": 17,
   "metadata": {
    "collapsed": false
   },
   "outputs": [
    {
     "name": "stdout",
     "output_type": "stream",
     "text": [
      "MendelImpute with dynamic programming, width = 1000, maf = 0.1\n"
     ]
    },
    {
     "name": "stderr",
     "output_type": "stream",
     "text": [
      "\u001b[32mMerging breakpoints...100%|█████████████████████████████| Time: 0:00:25\u001b[39m\n",
      "\u001b[32mWriting to file...100%|█████████████████████████████████| Time: 0:00:13\u001b[39m\n"
     ]
    },
    {
     "name": "stdout",
     "output_type": "stream",
     "text": [
      "Data import time                    = 9.53489 seconds\n",
      "Computing haplotype pair time       = 1919.31 seconds\n",
      "Phasing by dynamic programming time = 25.534 seconds\n",
      "Imputing time                       = 18.0856 seconds\n",
      "1972.573863 seconds (60.84 M allocations: 222.162 GiB, 3.90% gc time)\n",
      "error overall = 0.005454584905970195 \n",
      "\n",
      "MendelImpute with dynamic programming, width = 2000, maf = 0.1\n"
     ]
    },
    {
     "name": "stderr",
     "output_type": "stream",
     "text": [
      "\u001b[32mComputing optimal haplotype pairs...100%|███████████████| Time: 0:08:51\u001b[39m\n",
      "\u001b[32mWriting to file...100%|█████████████████████████████████| Time: 0:00:12\u001b[39m\n"
     ]
    },
    {
     "name": "stdout",
     "output_type": "stream",
     "text": [
      "Data import time                    = 12.9095 seconds\n",
      "Computing haplotype pair time       = 531.806 seconds\n",
      "Phasing by dynamic programming time = 2.22416 seconds\n",
      "Imputing time                       = 14.0015 seconds\n",
      "560.924354 seconds (53.12 M allocations: 45.984 GiB, 11.69% gc time)\n",
      "error overall = 0.005866805379297726 \n",
      "\n",
      "MendelImpute with dynamic programming, width = 4000, maf = 0.1\n"
     ]
    },
    {
     "name": "stderr",
     "output_type": "stream",
     "text": [
      "\u001b[32mComputing optimal haplotype pairs...100%|███████████████| Time: 0:02:50\u001b[39m\n",
      "\u001b[32mWriting to file...100%|█████████████████████████████████| Time: 0:00:11\u001b[39m\n"
     ]
    },
    {
     "name": "stdout",
     "output_type": "stream",
     "text": [
      "Data import time                    = 12.3763 seconds\n",
      "Computing haplotype pair time       = 170.933 seconds\n",
      "Phasing by dynamic programming time = 0.038868 seconds\n",
      "Imputing time                       = 13.1781 seconds\n",
      "196.524946 seconds (52.65 M allocations: 26.672 GiB, 3.82% gc time)\n",
      "error overall = 0.008089859043258167 \n",
      "\n"
     ]
    }
   ],
   "source": [
    "# deleting suboptimal pairs in dp, not searching bkpts, skip windows with <5% typed snps\n",
    "cd(\"/Users/biona001/.julia/dev/MendelImpute/data/1000_genome_phase3_v5/filtered\")\n",
    "Random.seed!(2020)\n",
    "function run()\n",
    "    X_complete = convert_gt(UInt8, \"target.chr18.full.vcf.gz\")\n",
    "    n, p = size(X_complete)\n",
    "    chr = 18\n",
    "    maf = 0.1\n",
    "    for width in [1000, 2000, 4000]\n",
    "        println(\"MendelImpute with dynamic programming, width = $width, maf = $maf\")\n",
    "        tgtfile = \"target.chr$chr.typedOnly.maf$maf.masked.vcf.gz\"\n",
    "        reffile = \"ref.$width.chr$chr.excludeTarget.jlso\"\n",
    "        outfile = \"mendel.imputed.dp$width.maf$maf.vcf.gz\"\n",
    "        @time phase(tgtfile, reffile, outfile=outfile, impute=true, width=width, \n",
    "            fast_method=false)\n",
    "        X_mendel = convert_gt(UInt8, outfile)\n",
    "        println(\"error overall = $(sum(X_mendel .!= X_complete) / n / p) \\n\")\n",
    "    end\n",
    "end\n",
    "run()"
   ]
  },
  {
   "cell_type": "code",
   "execution_count": null,
   "metadata": {
    "collapsed": true
   },
   "outputs": [],
   "source": []
  },
  {
   "cell_type": "code",
   "execution_count": null,
   "metadata": {
    "collapsed": true
   },
   "outputs": [],
   "source": []
  },
  {
   "cell_type": "code",
   "execution_count": null,
   "metadata": {
    "collapsed": true
   },
   "outputs": [],
   "source": []
  },
  {
   "cell_type": "code",
   "execution_count": null,
   "metadata": {
    "collapsed": true
   },
   "outputs": [],
   "source": []
  },
  {
   "cell_type": "code",
   "execution_count": 3,
   "metadata": {
    "collapsed": false
   },
   "outputs": [
    {
     "name": "stdout",
     "output_type": "stream",
     "text": [
      "MendelImpute with dynamic programming, width = 500, maf = 0.45\n"
     ]
    },
    {
     "name": "stderr",
     "output_type": "stream",
     "text": [
      "\u001b[32mImporting reference haplotype files...100%|█████████████| Time: 0:04:24\u001b[39m\n",
      "\u001b[32mComputing optimal haplotype pairs...100%|███████████████| Time: 0:00:28\u001b[39m\n",
      "\u001b[32mMerging breakpoints...100%|█████████████████████████████| Time: 0:00:11\u001b[39m\n",
      "\u001b[32mWriting to file...100%|█████████████████████████████████| Time: 0:00:11\u001b[39m\n"
     ]
    },
    {
     "name": "stdout",
     "output_type": "stream",
     "text": [
      "346.406477 seconds (4.15 G allocations: 311.657 GiB, 15.04% gc time)\n",
      "error overall = 0.07907043380146891 \n",
      "\n"
     ]
    }
   ],
   "source": [
    "cd(\"/Users/biona001/.julia/dev/MendelImpute/data/1000_genome_phase3_v5/filtered\")\n",
    "Random.seed!(2020)\n",
    "function run()\n",
    "    X_complete = convert_gt(UInt8, \"target.chr18.full.vcf.gz\")\n",
    "    n, p = size(X_complete)\n",
    "    chr = 18\n",
    "    width = 500\n",
    "    for maf in [0.45]\n",
    "        println(\"MendelImpute with dynamic programming, width = $width, maf = $maf\")\n",
    "        tgtfile = \"target.chr$chr.typedOnly.maf$maf.masked.vcf.gz\"\n",
    "        reffile = \"ref.chr$chr.excludeTarget.vcf.gz\"\n",
    "        outfile = \"mendel.imputed.dp$width.maf$maf.vcf.gz\"\n",
    "        @time phase(tgtfile, reffile, outfile=outfile, impute=true, width=width, \n",
    "            fast_method=false)\n",
    "        X_mendel = convert_gt(UInt8, outfile)\n",
    "        println(\"error overall = $(sum(X_mendel .!= X_complete) / n / p) \\n\")\n",
    "    end\n",
    "end\n",
    "run()"
   ]
  },
  {
   "cell_type": "code",
   "execution_count": 4,
   "metadata": {
    "collapsed": false
   },
   "outputs": [
    {
     "name": "stdout",
     "output_type": "stream",
     "text": [
      "MendelImpute with dynamic programming, width = 500, maf = 0.1\n"
     ]
    },
    {
     "name": "stderr",
     "output_type": "stream",
     "text": [
      "\u001b[32mImporting reference haplotype files...100%|█████████████| Time: 0:04:36\u001b[39m\n",
      "\u001b[32mComputing optimal haplotype pairs...100%|███████████████| Time: 0:04:13\u001b[39m\n",
      "\u001b[32mMerging breakpoints...100%|█████████████████████████████| Time: 0:01:29\u001b[39m\n",
      "\u001b[32mWriting to file...100%|█████████████████████████████████| Time: 0:00:11\u001b[39m\n"
     ]
    },
    {
     "name": "stdout",
     "output_type": "stream",
     "text": [
      "668.244995 seconds (4.16 G allocations: 335.367 GiB, 8.26% gc time)\n",
      "error overall = 0.00520817450580693 \n",
      "\n"
     ]
    }
   ],
   "source": [
    "cd(\"/Users/biona001/.julia/dev/MendelImpute/data/1000_genome_phase3_v5/filtered\")\n",
    "Random.seed!(2020)\n",
    "function run()\n",
    "    X_complete = convert_gt(UInt8, \"target.chr18.full.vcf.gz\")\n",
    "    n, p = size(X_complete)\n",
    "    chr = 18\n",
    "    width = 500\n",
    "    for maf in [0.1]\n",
    "        println(\"MendelImpute with dynamic programming, width = $width, maf = $maf\")\n",
    "        tgtfile = \"target.chr$chr.typedOnly.maf$maf.masked.vcf.gz\"\n",
    "        reffile = \"ref.chr$chr.excludeTarget.vcf.gz\"\n",
    "        outfile = \"mendel.imputed.dp$width.maf$maf.vcf.gz\"\n",
    "        @time phase(tgtfile, reffile, outfile=outfile, impute=true, width=width, \n",
    "            fast_method=false)\n",
    "        X_mendel = convert_gt(UInt8, outfile)\n",
    "        println(\"error overall = $(sum(X_mendel .!= X_complete) / n / p) \\n\")\n",
    "    end\n",
    "end\n",
    "run()"
   ]
  },
  {
   "cell_type": "code",
   "execution_count": 3,
   "metadata": {
    "collapsed": false
   },
   "outputs": [
    {
     "name": "stdout",
     "output_type": "stream",
     "text": [
      "MendelImpute with dynamic programming, width = 500, maf = 0.01\n"
     ]
    },
    {
     "name": "stderr",
     "output_type": "stream",
     "text": [
      "\u001b[32mImporting genotype file...100%|█████████████████████████| Time: 0:00:05\u001b[39m\n",
      "\u001b[32mImporting reference haplotype files...100%|█████████████| Time: 0:04:20\u001b[39m\n",
      "\u001b[32mComputing optimal haplotype pairs...100%|███████████████| Time: 0:06:07\u001b[39m\n",
      "\u001b[32mMerging breakpoints...100%|█████████████████████████████| Time: 0:02:08\u001b[39m\n",
      "\u001b[32mWriting to file...100%|█████████████████████████████████| Time: 0:00:11\u001b[39m\n"
     ]
    },
    {
     "name": "stdout",
     "output_type": "stream",
     "text": [
      "816.071981 seconds (4.27 G allocations: 347.758 GiB, 7.73% gc time)\n",
      "error overall = 0.0015719057661136146 \n",
      "\n"
     ]
    }
   ],
   "source": [
    "cd(\"/Users/biona001/.julia/dev/MendelImpute/data/1000_genome_phase3_v5/filtered\")\n",
    "Random.seed!(2020)\n",
    "function run()\n",
    "    X_complete = convert_gt(UInt8, \"target.chr18.full.vcf.gz\")\n",
    "    n, p = size(X_complete)\n",
    "    chr = 18\n",
    "    width = 500\n",
    "    for maf in [0.01]\n",
    "        println(\"MendelImpute with dynamic programming, width = $width, maf = $maf\")\n",
    "        tgtfile = \"target.chr$chr.typedOnly.maf$maf.masked.vcf.gz\"\n",
    "        reffile = \"ref.chr$chr.excludeTarget.vcf.gz\"\n",
    "        outfile = \"mendel.imputed.dp$width.maf$maf.vcf.gz\"\n",
    "        @time phase(tgtfile, reffile, outfile=outfile, impute=true, width=width, \n",
    "            fast_method=false)\n",
    "        X_mendel = convert_gt(UInt8, outfile)\n",
    "        println(\"error overall = $(sum(X_mendel .!= X_complete) / n / p) \\n\")\n",
    "    end\n",
    "end\n",
    "run()"
   ]
  },
  {
   "cell_type": "code",
   "execution_count": 2,
   "metadata": {
    "collapsed": false
   },
   "outputs": [
    {
     "name": "stdout",
     "output_type": "stream",
     "text": [
      "MendelImpute with dynamic programming, width = 500, maf = 0.001\n"
     ]
    },
    {
     "name": "stderr",
     "output_type": "stream",
     "text": [
      "\u001b[32mImporting genotype file...100%|█████████████████████████| Time: 0:00:12\u001b[39m\n",
      "\u001b[32mImporting reference haplotype files...100%|█████████████| Time: 0:04:10\u001b[39m\n",
      "\u001b[32mComputing optimal haplotype pairs...100%|███████████████| Time: 0:07:03\u001b[39m\n",
      "\u001b[32mMerging breakpoints...100%|█████████████████████████████| Time: 0:01:54\u001b[39m\n",
      "\u001b[32mWriting to file...100%|█████████████████████████████████| Time: 0:00:11\u001b[39m\n"
     ]
    },
    {
     "name": "stdout",
     "output_type": "stream",
     "text": [
      "862.650772 seconds (4.54 G allocations: 362.817 GiB, 12.38% gc time)\n",
      "error overall = 0.00010537155671696759 \n",
      "\n"
     ]
    }
   ],
   "source": [
    "cd(\"/Users/biona001/.julia/dev/MendelImpute/data/1000_genome_phase3_v5/filtered\")\n",
    "Random.seed!(2020)\n",
    "function run()\n",
    "    X_complete = convert_gt(UInt8, \"target.chr18.full.vcf.gz\")\n",
    "    n, p = size(X_complete)\n",
    "    chr = 18\n",
    "    width = 500\n",
    "    for maf in [0.001]\n",
    "        println(\"MendelImpute with dynamic programming, width = $width, maf = $maf\")\n",
    "        tgtfile = \"target.chr$chr.typedOnly.maf$maf.masked.vcf.gz\"\n",
    "        reffile = \"ref.chr$chr.excludeTarget.vcf.gz\"\n",
    "        outfile = \"mendel.imputed.dp$width.maf$maf.vcf.gz\"\n",
    "        @time phase(tgtfile, reffile, outfile=outfile, impute=true, width=width, \n",
    "            fast_method=false)\n",
    "        X_mendel = convert_gt(UInt8, outfile)\n",
    "        println(\"error overall = $(sum(X_mendel .!= X_complete) / n / p) \\n\")\n",
    "    end\n",
    "end\n",
    "run()"
   ]
  },
  {
   "cell_type": "code",
   "execution_count": 3,
   "metadata": {
    "collapsed": false,
    "scrolled": true
   },
   "outputs": [
    {
     "name": "stdout",
     "output_type": "stream",
     "text": [
      "MendelImpute with dynamic programming, width = 500, maf = 0.0005\n"
     ]
    },
    {
     "name": "stderr",
     "output_type": "stream",
     "text": [
      "\u001b[32mImporting genotype file...100%|█████████████████████████| Time: 0:00:14\u001b[39m\n",
      "\u001b[32mImporting reference haplotype files...100%|█████████████| Time: 0:04:24\u001b[39m\n",
      "\u001b[32mComputing optimal haplotype pairs...100%|███████████████| Time: 0:08:17\u001b[39m\n",
      "\u001b[32mMerging breakpoints...100%|█████████████████████████████| Time: 0:02:02\u001b[39m\n",
      "\u001b[32mWriting to file...100%|█████████████████████████████████| Time: 0:00:11\u001b[39m\n"
     ]
    },
    {
     "name": "stdout",
     "output_type": "stream",
     "text": [
      "965.395900 seconds (4.59 G allocations: 367.155 GiB, 13.17% gc time)\n",
      "error overall = 6.145892221693123e-6 \n",
      "\n"
     ]
    }
   ],
   "source": [
    "cd(\"/Users/biona001/.julia/dev/MendelImpute/data/1000_genome_phase3_v5/filtered\")\n",
    "Random.seed!(2020)\n",
    "function run()\n",
    "    X_complete = convert_gt(UInt8, \"target.chr18.full.vcf.gz\")\n",
    "    n, p = size(X_complete)\n",
    "    chr = 18\n",
    "    width = 500\n",
    "    for maf in [0.0005]\n",
    "        println(\"MendelImpute with dynamic programming, width = $width, maf = $maf\")\n",
    "        tgtfile = \"target.chr$chr.typedOnly.maf$maf.masked.vcf.gz\"\n",
    "        reffile = \"ref.chr$chr.excludeTarget.vcf.gz\"\n",
    "        outfile = \"mendel.imputed.dp$width.maf$maf.vcf.gz\"\n",
    "        @time phase(tgtfile, reffile, outfile=outfile, impute=true, width=width, \n",
    "            fast_method=false)\n",
    "        X_mendel = convert_gt(UInt8, outfile)\n",
    "        println(\"error overall = $(sum(X_mendel .!= X_complete) / n / p) \\n\")\n",
    "    end\n",
    "end\n",
    "run()"
   ]
  },
  {
   "cell_type": "markdown",
   "metadata": {},
   "source": [
    "# MendelImpute with intersecting haplotypes"
   ]
  },
  {
   "cell_type": "code",
   "execution_count": 4,
   "metadata": {
    "collapsed": false
   },
   "outputs": [
    {
     "name": "stdout",
     "output_type": "stream",
     "text": [
      "MendelImpute with dynamic programming, width = 500, maf = 0.45\n"
     ]
    },
    {
     "name": "stderr",
     "output_type": "stream",
     "text": [
      "\u001b[32mImporting reference haplotype files...100%|█████████████| Time: 0:04:59\u001b[39m\n",
      "\u001b[32mComputing optimal haplotype pairs...100%|███████████████| Time: 0:00:30\u001b[39m\n",
      "\u001b[32mMerging breakpoints...100%|█████████████████████████████| Time: 0:00:06\u001b[39m\n",
      "\u001b[32mWriting to file...100%|█████████████████████████████████| Time: 0:00:12\u001b[39m\n"
     ]
    },
    {
     "name": "stdout",
     "output_type": "stream",
     "text": [
      "386.665610 seconds (4.15 G allocations: 311.672 GiB, 15.08% gc time)\n",
      "error overall = 0.07958381519161345 \n",
      "\n"
     ]
    }
   ],
   "source": [
    "cd(\"/Users/biona001/.julia/dev/MendelImpute/data/1000_genome_phase3_v5/filtered\")\n",
    "Random.seed!(2020)\n",
    "function run()\n",
    "    X_complete = convert_gt(UInt8, \"target.chr18.full.vcf.gz\")\n",
    "    n, p = size(X_complete)\n",
    "    chr = 18\n",
    "    width = 500\n",
    "    for maf in [0.45]\n",
    "        println(\"MendelImpute with dynamic programming, width = $width, maf = $maf\")\n",
    "        tgtfile = \"target.chr$chr.typedOnly.maf$maf.masked.vcf.gz\"\n",
    "        reffile = \"ref.chr$chr.excludeTarget.vcf.gz\"\n",
    "        outfile = \"mendel.imputed.dp$width.maf$maf.vcf.gz\"\n",
    "        @time phase(tgtfile, reffile, outfile=outfile, impute=true, width=width, \n",
    "            fast_method=true)\n",
    "        X_mendel = convert_gt(UInt8, outfile)\n",
    "        println(\"error overall = $(sum(X_mendel .!= X_complete) / n / p) \\n\")\n",
    "    end\n",
    "end\n",
    "run()"
   ]
  },
  {
   "cell_type": "code",
   "execution_count": 3,
   "metadata": {
    "collapsed": false
   },
   "outputs": [
    {
     "name": "stdout",
     "output_type": "stream",
     "text": [
      "MendelImpute with dynamic programming, width = 500, maf = 0.1\n"
     ]
    },
    {
     "name": "stderr",
     "output_type": "stream",
     "text": [
      "\u001b[32mImporting reference haplotype files...100%|█████████████| Time: 0:05:05\u001b[39m\n",
      "\u001b[32mComputing optimal haplotype pairs...100%|███████████████| Time: 0:03:50\u001b[39m\n",
      "\u001b[32mMerging breakpoints...100%|█████████████████████████████| Time: 0:00:46\u001b[39m\n",
      "\u001b[32mWriting to file...100%|█████████████████████████████████| Time: 0:00:11\u001b[39m\n"
     ]
    },
    {
     "name": "stdout",
     "output_type": "stream",
     "text": [
      "637.821443 seconds (4.19 G allocations: 336.438 GiB, 9.47% gc time)\n",
      "error overall = 0.005501347639344032 \n",
      "\n"
     ]
    }
   ],
   "source": [
    "cd(\"/Users/biona001/.julia/dev/MendelImpute/data/1000_genome_phase3_v5/filtered\")\n",
    "Random.seed!(2020)\n",
    "function run()\n",
    "    X_complete = convert_gt(UInt8, \"target.chr18.full.vcf.gz\")\n",
    "    n, p = size(X_complete)\n",
    "    chr = 18\n",
    "    width = 500\n",
    "    for maf in [0.1]\n",
    "        println(\"MendelImpute with dynamic programming, width = $width, maf = $maf\")\n",
    "        tgtfile = \"target.chr$chr.typedOnly.maf$maf.masked.vcf.gz\"\n",
    "        reffile = \"ref.chr$chr.excludeTarget.vcf.gz\"\n",
    "        outfile = \"mendel.imputed.dp$width.maf$maf.vcf.gz\"\n",
    "        @time phase(tgtfile, reffile, outfile=outfile, impute=true, width=width, \n",
    "            fast_method=true)\n",
    "        X_mendel = convert_gt(UInt8, outfile)\n",
    "        println(\"error overall = $(sum(X_mendel .!= X_complete) / n / p) \\n\")\n",
    "    end\n",
    "end\n",
    "run()"
   ]
  },
  {
   "cell_type": "markdown",
   "metadata": {},
   "source": [
    "# Beagle 5.0"
   ]
  },
  {
   "cell_type": "code",
   "execution_count": 3,
   "metadata": {
    "collapsed": false
   },
   "outputs": [
    {
     "name": "stdout",
     "output_type": "stream",
     "text": [
      "beagle.28Sep18.793.jar (version 5.0)\n",
      "Copyright (C) 2014-2018 Brian L. Browning\n",
      "Enter \"java -jar beagle.28Sep18.793.jar\" to list command line argument\n",
      "Start time: 10:09 AM PDT on 08 May 2020\n",
      "\n",
      "Command line: java -Xmx13653m -jar beagle.28Sep18.793.jar\n",
      "  gt=target.chr18.typedOnly.maf0.0005.masked.vcf.gz\n",
      "  ref=ref.chr18.excludeTarget.vcf.gz\n",
      "  out=beagle.imputed.maf0.0005\n",
      "  nthreads=4\n",
      "\n",
      "No genetic map is specified: using 1 cM = 1 Mb\n",
      "\n",
      "Reference samples:       2,404\n",
      "Study samples:             100\n",
      "\n",
      "Window 1 (18:10644-40010629)\n",
      "Reference markers:     414,911\n",
      "Study markers:         414,911\n",
      "\n",
      "Burnin  iteration 1:           48 seconds\n",
      "Burnin  iteration 2:           1 minute 28 seconds\n",
      "Burnin  iteration 3:           1 minute 42 seconds\n",
      "Burnin  iteration 4:           1 minute 46 seconds\n",
      "Burnin  iteration 5:           1 minute 53 seconds\n",
      "Burnin  iteration 6:           2 minutes 5 seconds\n",
      "\n",
      "Phasing iteration 1:           1 minute 59 seconds\n",
      "Phasing iteration 2:           2 minutes 1 second\n",
      "Phasing iteration 3:           2 minutes 3 seconds\n",
      "Phasing iteration 4:           2 minutes 9 seconds\n",
      "Phasing iteration 5:           1 minute 52 seconds\n",
      "Phasing iteration 6:           1 minute 56 seconds\n",
      "Phasing iteration 7:           2 minutes 1 second\n",
      "Phasing iteration 8:           1 minute 54 seconds\n",
      "Phasing iteration 9:           1 minute 47 seconds\n",
      "Phasing iteration 10:          1 minute 46 seconds\n",
      "Phasing iteration 11:          1 minute 43 seconds\n",
      "Phasing iteration 12:          1 minute 38 seconds\n",
      "\n",
      "Window 2 (18:36010613-76010634)\n",
      "Reference markers:     461,002\n",
      "Study markers:         461,002\n",
      "\n",
      "Burnin  iteration 1:           48 seconds\n",
      "Burnin  iteration 2:           1 minute 56 seconds\n",
      "Burnin  iteration 3:           2 minutes 1 second\n",
      "Burnin  iteration 4:           2 minutes 1 second\n",
      "Burnin  iteration 5:           2 minutes 6 seconds\n",
      "Burnin  iteration 6:           2 minutes 9 seconds\n",
      "\n",
      "Phasing iteration 1:           2 minutes 10 seconds\n",
      "Phasing iteration 2:           2 minutes 11 seconds\n",
      "Phasing iteration 3:           2 minutes 15 seconds\n",
      "Phasing iteration 4:           2 minutes 24 seconds\n",
      "Phasing iteration 5:           2 minutes 35 seconds\n",
      "Phasing iteration 6:           2 minutes 28 seconds\n",
      "Phasing iteration 7:           2 minutes 16 seconds\n",
      "Phasing iteration 8:           2 minutes 19 seconds\n",
      "Phasing iteration 9:           2 minutes 9 seconds\n",
      "Phasing iteration 10:          2 minutes 7 seconds\n",
      "Phasing iteration 11:          2 minutes 1 second\n",
      "Phasing iteration 12:          1 minute 56 seconds\n",
      "\n",
      "Window 3 (18:72010594-78017156)\n",
      "Reference markers:      80,505\n",
      "Study markers:          80,505\n",
      "\n",
      "Burnin  iteration 1:           5 seconds\n",
      "Burnin  iteration 2:           4 seconds\n",
      "Burnin  iteration 3:           5 seconds\n",
      "Burnin  iteration 4:           4 seconds\n",
      "Burnin  iteration 5:           6 seconds\n",
      "Burnin  iteration 6:           6 seconds\n",
      "\n",
      "Phasing iteration 1:           5 seconds\n",
      "Phasing iteration 2:           5 seconds\n",
      "Phasing iteration 3:           5 seconds\n",
      "Phasing iteration 4:           5 seconds\n",
      "Phasing iteration 5:           6 seconds\n",
      "Phasing iteration 6:           5 seconds\n",
      "Phasing iteration 7:           6 seconds\n",
      "Phasing iteration 8:           6 seconds\n",
      "Phasing iteration 9:           5 seconds\n",
      "Phasing iteration 10:          5 seconds\n",
      "Phasing iteration 11:          5 seconds\n",
      "Phasing iteration 12:          4 seconds\n",
      "\n",
      "Cumulative Statistics:\n",
      "\n",
      "Study markers:         863,592\n",
      "\n",
      "Haplotype phasing time:        1 hour 11 minutes 57 seconds\n",
      "Total time:                    1 hour 12 minutes 50 seconds\n",
      "\n",
      "End time: 11:22 AM PDT on 08 May 2020\n",
      "beagle.28Sep18.793.jar finished\n"
     ]
    },
    {
     "ename": "DimensionMismatch",
     "evalue": "DimensionMismatch(\"arrays could not be broadcast to a common size; got a dimension with lengths 678557 and 863592\")",
     "output_type": "error",
     "traceback": [
      "DimensionMismatch(\"arrays could not be broadcast to a common size; got a dimension with lengths 678557 and 863592\")",
      "",
      "Stacktrace:",
      " [1] instantiate(::Base.Broadcast.Broadcasted{Base.Broadcast.DefaultArrayStyle{2},Nothing,typeof(!=),Tuple{Array{Union{Missing, UInt8},2},Array{Union{Missing, UInt8},2}}}) at ./broadcast.jl:490",
      " [2] materialize at ./broadcast.jl:819 [inlined]",
      " [3] beagle() at ./In[3]:15",
      " [4] top-level scope at In[3]:18"
     ]
    }
   ],
   "source": [
    "# beagle 5\n",
    "cd(\"/Users/biona001/.julia/dev/MendelImpute/data/1000_genome_phase3_v5/filtered\")\n",
    "function beagle()\n",
    "    chr = 18\n",
    "    for maf in [0.0005, 0.001, 0.01, 0.1, 0.45]\n",
    "        tgtfile = \"target.chr$chr.typedOnly.maf$maf.masked.vcf.gz\"\n",
    "        reffile = \"ref.chr$chr.excludeTarget.vcf.gz\"\n",
    "        outfile = \"beagle.imputed.maf$maf\"\n",
    "        Base.run(`java -Xmx15g -jar beagle.28Sep18.793.jar gt=$tgtfile ref=$reffile out=$outfile nthreads=4`)\n",
    "    end\n",
    "end\n",
    "beagle()"
   ]
  },
  {
   "cell_type": "code",
   "execution_count": 5,
   "metadata": {
    "collapsed": false
   },
   "outputs": [
    {
     "name": "stdout",
     "output_type": "stream",
     "text": [
      "error overall = 5.453964372064586e-6 \n",
      "\n"
     ]
    }
   ],
   "source": [
    "for maf in [0.0005]\n",
    "    # beagle error rate    \n",
    "    chr = 18\n",
    "    X_complete = convert_gt(UInt8, \"target.chr$chr.full.vcf.gz\")\n",
    "    X_beagle = convert_gt(UInt8, \"beagle.imputed.maf$maf.vcf.gz\")\n",
    "    n, p = size(X_complete)\n",
    "    println(\"error overall = $(sum(X_beagle .!= X_complete) / n / p) \\n\")\n",
    "end"
   ]
  },
  {
   "cell_type": "code",
   "execution_count": 1,
   "metadata": {
    "collapsed": false
   },
   "outputs": [
    {
     "name": "stdout",
     "output_type": "stream",
     "text": [
      "beagle.28Sep18.793.jar (version 5.0)\n",
      "Copyright (C) 2014-2018 Brian L. Browning\n",
      "Enter \"java -jar beagle.28Sep18.793.jar\" to list command line argument\n",
      "Start time: 02:52 PM PDT on 12 May 2020\n",
      "\n",
      "Command line: java -Xmx13653m -jar beagle.28Sep18.793.jar\n",
      "  gt=target.chr18.typedOnly.maf0.001.masked.vcf.gz\n",
      "  ref=ref.chr18.excludeTarget.vcf.gz\n",
      "  out=beagle.imputed.maf0.001\n",
      "  nthreads=4\n",
      "\n",
      "No genetic map is specified: using 1 cM = 1 Mb\n",
      "\n",
      "Reference samples:       2,404\n",
      "Study samples:             100\n",
      "\n",
      "Window 1 (18:10644-40010629)\n",
      "Reference markers:     414,911\n",
      "Study markers:         388,114\n",
      "\n",
      "Burnin  iteration 1:           38 seconds\n",
      "Burnin  iteration 2:           1 minute 26 seconds\n",
      "Burnin  iteration 3:           1 minute 28 seconds\n",
      "Burnin  iteration 4:           1 minute 35 seconds\n",
      "Burnin  iteration 5:           1 minute 50 seconds\n",
      "Burnin  iteration 6:           1 minute 47 seconds\n",
      "\n",
      "Phasing iteration 1:           1 minute 43 seconds\n",
      "Phasing iteration 2:           1 minute 47 seconds\n",
      "Phasing iteration 3:           1 minute 43 seconds\n",
      "Phasing iteration 4:           1 minute 31 seconds\n",
      "Phasing iteration 5:           1 minute 33 seconds\n",
      "Phasing iteration 6:           1 minute 32 seconds\n",
      "Phasing iteration 7:           1 minute 35 seconds\n",
      "Phasing iteration 8:           1 minute 33 seconds\n",
      "Phasing iteration 9:           1 minute 31 seconds\n",
      "Phasing iteration 10:          1 minute 26 seconds\n",
      "Phasing iteration 11:          1 minute 29 seconds\n",
      "Phasing iteration 12:          1 minute 27 seconds\n",
      "\n",
      "Imputation time:               33 seconds\n",
      "\n",
      "Window 2 (18:36010613-76010634)\n",
      "Reference markers:     461,002\n",
      "Study markers:         430,867\n",
      "\n",
      "Burnin  iteration 1:           44 seconds\n",
      "Burnin  iteration 2:           1 minute 48 seconds\n",
      "Burnin  iteration 3:           1 minute 49 seconds\n",
      "Burnin  iteration 4:           1 minute 56 seconds\n",
      "Burnin  iteration 5:           2 minutes 6 seconds\n",
      "Burnin  iteration 6:           2 minutes 6 seconds\n",
      "\n",
      "Phasing iteration 1:           1 minute 51 seconds\n",
      "Phasing iteration 2:           2 minutes 4 seconds\n",
      "Phasing iteration 3:           1 minute 51 seconds\n",
      "Phasing iteration 4:           1 minute 50 seconds\n",
      "Phasing iteration 5:           1 minute 52 seconds\n",
      "Phasing iteration 6:           1 minute 56 seconds\n",
      "Phasing iteration 7:           1 minute 58 seconds\n",
      "Phasing iteration 8:           1 minute 59 seconds\n",
      "Phasing iteration 9:           1 minute 47 seconds\n",
      "Phasing iteration 10:          1 minute 46 seconds\n",
      "Phasing iteration 11:          1 minute 53 seconds\n",
      "Phasing iteration 12:          1 minute 40 seconds\n",
      "\n",
      "Imputation time:               38 seconds\n",
      "\n",
      "Window 3 (18:72010594-78017156)\n",
      "Reference markers:      80,505\n",
      "Study markers:          75,267\n",
      "\n",
      "Burnin  iteration 1:           4 seconds\n",
      "Burnin  iteration 2:           5 seconds\n",
      "Burnin  iteration 3:           4 seconds\n",
      "Burnin  iteration 4:           5 seconds\n",
      "Burnin  iteration 5:           5 seconds\n",
      "Burnin  iteration 6:           5 seconds\n",
      "\n",
      "Phasing iteration 1:           5 seconds\n",
      "Phasing iteration 2:           4 seconds\n",
      "Phasing iteration 3:           4 seconds\n",
      "Phasing iteration 4:           5 seconds\n",
      "Phasing iteration 5:           5 seconds\n",
      "Phasing iteration 6:           5 seconds\n",
      "Phasing iteration 7:           6 seconds\n",
      "Phasing iteration 8:           5 seconds\n",
      "Phasing iteration 9:           4 seconds\n",
      "Phasing iteration 10:          5 seconds\n",
      "Phasing iteration 11:          4 seconds\n",
      "Phasing iteration 12:          4 seconds\n",
      "\n",
      "Imputation time:               4 seconds\n",
      "\n",
      "Cumulative Statistics:\n",
      "\n",
      "Reference markers:     863,592\n",
      "Study markers:         807,477\n",
      "\n",
      "Haplotype phasing time:        1 hour 1 minute 53 seconds\n",
      "Imputation time:               4 seconds\n",
      "Total time:                    1 hour 3 minutes 45 seconds\n",
      "\n",
      "End time: 03:55 PM PDT on 12 May 2020\n",
      "beagle.28Sep18.793.jar finished\n"
     ]
    },
    {
     "ename": "UndefVarError",
     "evalue": "UndefVarError: convert_gt not defined",
     "output_type": "error",
     "traceback": [
      "UndefVarError: convert_gt not defined",
      "",
      "Stacktrace:",
      " [1] beagle() at ./In[1]:13",
      " [2] top-level scope at In[1]:19"
     ]
    }
   ],
   "source": [
    "# beagle 5\n",
    "cd(\"/Users/biona001/.julia/dev/MendelImpute/data/1000_genome_phase3_v5/filtered\")\n",
    "function beagle()\n",
    "    chr = 18\n",
    "    for maf in [0.001, 0.01, 0.1, 0.45]\n",
    "        tgtfile = \"target.chr$chr.typedOnly.maf$maf.masked.vcf.gz\"\n",
    "        reffile = \"ref.chr$chr.excludeTarget.vcf.gz\"\n",
    "        outfile = \"beagle.imputed.maf$maf\"\n",
    "        Base.run(`java -Xmx15g -jar beagle.28Sep18.793.jar gt=$tgtfile ref=$reffile out=$outfile nthreads=4`)\n",
    "    end\n",
    "end\n",
    "beagle()"
   ]
  },
  {
   "cell_type": "code",
   "execution_count": 3,
   "metadata": {
    "collapsed": false
   },
   "outputs": [
    {
     "ename": "ErrorException",
     "evalue": "GeneticVariation.VCF.Reader file format error on line 11 ~>\"�;IMP\\t\"",
     "output_type": "error",
     "traceback": [
      "GeneticVariation.VCF.Reader file format error on line 11 ~>\"�;IMP\\t\"",
      "",
      "Stacktrace:",
      " [1] error(::Type, ::String, ::Int64, ::String, ::String) at ./error.jl:42",
      " [2] _read!(::GeneticVariation.VCF.Reader, ::BioCore.Ragel.State{BufferedStreams.BufferedInputStream{TranscodingStreams.TranscodingStream{CodecZlib.GzipDecompressor,IOStream}}}, ::GeneticVariation.VCF.Record) at /Users/biona001/.julia/packages/BioCore/YBJvb/src/ReaderHelper.jl:164",
      " [3] read!(::GeneticVariation.VCF.Reader, ::GeneticVariation.VCF.Record) at /Users/biona001/.julia/packages/BioCore/YBJvb/src/ReaderHelper.jl:134",
      " [4] read at /Users/biona001/.julia/packages/BioCore/YBJvb/src/IO.jl:61 [inlined]",
      " [5] #copy_gt!#7(::Symbol, ::Bool, ::Bool, ::Bool, ::String, ::Nothing, ::typeof(copy_gt!), ::Array{Union{Missing, UInt8},2}, ::GeneticVariation.VCF.Reader) at /Users/biona001/.julia/packages/VCFTools/iQ8nK/src/convert.jl:59",
      " [6] #copy_gt! at ./none:0 [inlined]",
      " [7] #convert_gt#9(::Symbol, ::Bool, ::Bool, ::Bool, ::Bool, ::String, ::Bool, ::typeof(convert_gt), ::Type{UInt8}, ::String) at /Users/biona001/.julia/packages/VCFTools/iQ8nK/src/convert.jl:248",
      " [8] convert_gt(::Type{UInt8}, ::String) at /Users/biona001/.julia/packages/VCFTools/iQ8nK/src/convert.jl:230",
      " [9] top-level scope at In[3]:4"
     ]
    }
   ],
   "source": [
    "# beagle error rate    \n",
    "chr = 18\n",
    "X_complete = convert_gt(UInt8, \"target.chr$chr.full.vcf.gz\")\n",
    "X_beagle = convert_gt(UInt8, \"beagle.imputed.maf0.001.vcf.gz\")\n",
    "n, p = size(X_complete)\n",
    "println(\"error overall = $(sum(X_beagle .!= X_complete) / n / p) \\n\")"
   ]
  },
  {
   "cell_type": "code",
   "execution_count": 7,
   "metadata": {
    "collapsed": false
   },
   "outputs": [
    {
     "name": "stdout",
     "output_type": "stream",
     "text": [
      "beagle.28Sep18.793.jar (version 5.0)\n",
      "Copyright (C) 2014-2018 Brian L. Browning\n",
      "Enter \"java -jar beagle.28Sep18.793.jar\" to list command line argument\n",
      "Start time: 04:03 PM PDT on 12 May 2020\n",
      "\n",
      "Command line: java -Xmx13653m -jar beagle.28Sep18.793.jar\n",
      "  gt=target.chr18.typedOnly.maf0.01.masked.vcf.gz\n",
      "  ref=ref.chr18.excludeTarget.vcf.gz\n",
      "  out=beagle.imputed.maf0.01\n",
      "  nthreads=4\n",
      "\n",
      "No genetic map is specified: using 1 cM = 1 Mb\n",
      "\n",
      "Reference samples:       2,404\n",
      "Study samples:             100\n",
      "\n",
      "Window 1 (18:10644-40010629)\n",
      "Reference markers:     414,911\n",
      "Study markers:         183,460\n",
      "\n",
      "Burnin  iteration 1:           22 seconds\n",
      "Burnin  iteration 2:           31 seconds\n",
      "Burnin  iteration 3:           34 seconds\n",
      "Burnin  iteration 4:           33 seconds\n",
      "Burnin  iteration 5:           38 seconds\n",
      "Burnin  iteration 6:           38 seconds\n",
      "\n",
      "Phasing iteration 1:           37 seconds\n",
      "Phasing iteration 2:           35 seconds\n",
      "Phasing iteration 3:           42 seconds\n",
      "Phasing iteration 4:           38 seconds\n",
      "Phasing iteration 5:           36 seconds\n",
      "Phasing iteration 6:           37 seconds\n",
      "Phasing iteration 7:           36 seconds\n",
      "Phasing iteration 8:           36 seconds\n",
      "Phasing iteration 9:           36 seconds\n",
      "Phasing iteration 10:          36 seconds\n",
      "Phasing iteration 11:          32 seconds\n",
      "Phasing iteration 12:          28 seconds\n",
      "\n",
      "Imputation time:               21 seconds\n",
      "\n",
      "Window 2 (18:36010613-76010634)\n",
      "Reference markers:     461,002\n",
      "Study markers:         208,438\n",
      "\n",
      "Burnin  iteration 1:           22 seconds\n",
      "Burnin  iteration 2:           37 seconds\n",
      "Burnin  iteration 3:           38 seconds\n",
      "Burnin  iteration 4:           39 seconds\n",
      "Burnin  iteration 5:           45 seconds\n",
      "Burnin  iteration 6:           40 seconds\n",
      "\n",
      "Phasing iteration 1:           38 seconds\n",
      "Phasing iteration 2:           38 seconds\n",
      "Phasing iteration 3:           39 seconds\n",
      "Phasing iteration 4:           37 seconds\n",
      "Phasing iteration 5:           36 seconds\n",
      "Phasing iteration 6:           36 seconds\n",
      "Phasing iteration 7:           38 seconds\n",
      "Phasing iteration 8:           36 seconds\n",
      "Phasing iteration 9:           38 seconds\n",
      "Phasing iteration 10:          36 seconds\n",
      "Phasing iteration 11:          34 seconds\n",
      "Phasing iteration 12:          34 seconds\n",
      "\n",
      "Imputation time:               19 seconds\n",
      "\n",
      "Window 3 (18:72010594-78017156)\n",
      "Reference markers:      80,505\n",
      "Study markers:          36,697\n",
      "\n",
      "Burnin  iteration 1:           2 seconds\n",
      "Burnin  iteration 2:           3 seconds\n",
      "Burnin  iteration 3:           3 seconds\n",
      "Burnin  iteration 4:           3 seconds\n",
      "Burnin  iteration 5:           3 seconds\n",
      "Burnin  iteration 6:           4 seconds\n",
      "\n",
      "Phasing iteration 1:           3 seconds\n",
      "Phasing iteration 2:           3 seconds\n",
      "Phasing iteration 3:           3 seconds\n",
      "Phasing iteration 4:           2 seconds\n",
      "Phasing iteration 5:           3 seconds\n",
      "Phasing iteration 6:           3 seconds\n",
      "Phasing iteration 7:           3 seconds\n",
      "Phasing iteration 8:           3 seconds\n",
      "Phasing iteration 9:           3 seconds\n",
      "Phasing iteration 10:          3 seconds\n",
      "Phasing iteration 11:          2 seconds\n",
      "Phasing iteration 12:          2 seconds\n",
      "\n",
      "Imputation time:               1 second\n",
      "\n",
      "Cumulative Statistics:\n",
      "\n",
      "Reference markers:     863,592\n",
      "Study markers:         387,193\n",
      "\n",
      "Haplotype phasing time:        22 minutes 14 seconds\n",
      "Imputation time:               1 second\n",
      "Total time:                    23 minutes 20 seconds\n",
      "\n",
      "End time: 04:26 PM PDT on 12 May 2020\n",
      "beagle.28Sep18.793.jar finished\n"
     ]
    },
    {
     "ename": "ErrorException",
     "evalue": "GeneticVariation.VCF.Reader file format error on line 11 ~>\"�;IMP\\t\"",
     "output_type": "error",
     "traceback": [
      "GeneticVariation.VCF.Reader file format error on line 11 ~>\"�;IMP\\t\"",
      "",
      "Stacktrace:",
      " [1] error(::Type, ::String, ::Int64, ::String, ::String) at ./error.jl:42",
      " [2] _read!(::GeneticVariation.VCF.Reader, ::BioCore.Ragel.State{BufferedStreams.BufferedInputStream{TranscodingStreams.TranscodingStream{CodecZlib.GzipDecompressor,IOStream}}}, ::GeneticVariation.VCF.Record) at /Users/biona001/.julia/packages/BioCore/YBJvb/src/ReaderHelper.jl:164",
      " [3] read!(::GeneticVariation.VCF.Reader, ::GeneticVariation.VCF.Record) at /Users/biona001/.julia/packages/BioCore/YBJvb/src/ReaderHelper.jl:134",
      " [4] read at /Users/biona001/.julia/packages/BioCore/YBJvb/src/IO.jl:61 [inlined]",
      " [5] #copy_gt!#7(::Symbol, ::Bool, ::Bool, ::Bool, ::String, ::Nothing, ::typeof(copy_gt!), ::Array{Union{Missing, UInt8},2}, ::GeneticVariation.VCF.Reader) at /Users/biona001/.julia/packages/VCFTools/iQ8nK/src/convert.jl:59",
      " [6] #copy_gt! at ./none:0 [inlined]",
      " [7] #convert_gt#9(::Symbol, ::Bool, ::Bool, ::Bool, ::Bool, ::String, ::Bool, ::typeof(convert_gt), ::Type{UInt8}, ::String) at /Users/biona001/.julia/packages/VCFTools/iQ8nK/src/convert.jl:248",
      " [8] convert_gt at /Users/biona001/.julia/packages/VCFTools/iQ8nK/src/convert.jl:230 [inlined]",
      " [9] beagle() at ./In[7]:14",
      " [10] top-level scope at In[7]:19"
     ]
    }
   ],
   "source": [
    "# beagle 5\n",
    "cd(\"/Users/biona001/.julia/dev/MendelImpute/data/1000_genome_phase3_v5/filtered\")\n",
    "function beagle()\n",
    "    chr = 18\n",
    "    for maf in [0.01]\n",
    "        tgtfile = \"target.chr$chr.typedOnly.maf$maf.masked.vcf.gz\"\n",
    "        reffile = \"ref.chr$chr.excludeTarget.vcf.gz\"\n",
    "        outfile = \"beagle.imputed.maf$maf\"\n",
    "        Base.run(`java -Xmx15g -jar beagle.28Sep18.793.jar gt=$tgtfile ref=$reffile out=$outfile nthreads=4`)\n",
    "    \n",
    "        # beagle error rate    \n",
    "        chr = 18\n",
    "        X_complete = convert_gt(UInt8, \"target.chr$chr.full.vcf.gz\")\n",
    "        X_beagle = convert_gt(UInt8, \"beagle.imputed.maf$maf.vcf.gz\")\n",
    "        n, p = size(X_complete)\n",
    "        println(\"error overall = $(sum(X_beagle .!= X_complete) / n / p) \\n\")    \n",
    "    end\n",
    "end\n",
    "beagle()"
   ]
  },
  {
   "cell_type": "code",
   "execution_count": 8,
   "metadata": {
    "collapsed": false
   },
   "outputs": [
    {
     "name": "stdout",
     "output_type": "stream",
     "text": [
      "error overall = 0.0011677968299845297 \n",
      "\n"
     ]
    }
   ],
   "source": [
    "chr = 18\n",
    "maf = 0.01\n",
    "X_complete = convert_gt(UInt8, \"target.chr$chr.full.vcf.gz\")\n",
    "X_beagle = convert_gt(UInt8, \"beagle.imputed.maf$maf.vcf.gz\")\n",
    "n, p = size(X_complete)\n",
    "println(\"error overall = $(sum(X_beagle .!= X_complete) / n / p) \\n\")    "
   ]
  },
  {
   "cell_type": "code",
   "execution_count": 9,
   "metadata": {
    "collapsed": false
   },
   "outputs": [
    {
     "name": "stdout",
     "output_type": "stream",
     "text": [
      "beagle.28Sep18.793.jar (version 5.0)\n",
      "Copyright (C) 2014-2018 Brian L. Browning\n",
      "Enter \"java -jar beagle.28Sep18.793.jar\" to list command line argument\n",
      "Start time: 04:47 PM PDT on 12 May 2020\n",
      "\n",
      "Command line: java -Xmx13653m -jar beagle.28Sep18.793.jar\n",
      "  gt=target.chr18.typedOnly.maf0.1.masked.vcf.gz\n",
      "  ref=ref.chr18.excludeTarget.vcf.gz\n",
      "  out=beagle.imputed.maf0.1\n",
      "  nthreads=4\n",
      "\n",
      "No genetic map is specified: using 1 cM = 1 Mb\n",
      "\n",
      "Reference samples:       2,404\n",
      "Study samples:             100\n",
      "\n",
      "Window 1 (18:10644-40010629)\n",
      "Reference markers:     414,911\n",
      "Study markers:          82,786\n",
      "\n",
      "Burnin  iteration 1:           18 seconds\n",
      "Burnin  iteration 2:           19 seconds\n",
      "Burnin  iteration 3:           19 seconds\n",
      "Burnin  iteration 4:           19 seconds\n",
      "Burnin  iteration 5:           22 seconds\n",
      "Burnin  iteration 6:           19 seconds\n",
      "\n",
      "Phasing iteration 1:           19 seconds\n",
      "Phasing iteration 2:           18 seconds\n",
      "Phasing iteration 3:           18 seconds\n",
      "Phasing iteration 4:           17 seconds\n",
      "Phasing iteration 5:           18 seconds\n",
      "Phasing iteration 6:           18 seconds\n",
      "Phasing iteration 7:           18 seconds\n",
      "Phasing iteration 8:           17 seconds\n",
      "Phasing iteration 9:           17 seconds\n",
      "Phasing iteration 10:          17 seconds\n",
      "Phasing iteration 11:          16 seconds\n",
      "Phasing iteration 12:          15 seconds\n",
      "\n",
      "Imputation time:               20 seconds\n",
      "\n",
      "Window 2 (18:36010613-76010634)\n",
      "Reference markers:     461,002\n",
      "Study markers:          92,243\n",
      "\n",
      "Burnin  iteration 1:           16 seconds\n",
      "Burnin  iteration 2:           20 seconds\n",
      "Burnin  iteration 3:           20 seconds\n",
      "Burnin  iteration 4:           21 seconds\n",
      "Burnin  iteration 5:           24 seconds\n",
      "Burnin  iteration 6:           22 seconds\n",
      "\n",
      "Phasing iteration 1:           20 seconds\n",
      "Phasing iteration 2:           20 seconds\n",
      "Phasing iteration 3:           20 seconds\n",
      "Phasing iteration 4:           21 seconds\n",
      "Phasing iteration 5:           20 seconds\n",
      "Phasing iteration 6:           21 seconds\n",
      "Phasing iteration 7:           25 seconds\n",
      "Phasing iteration 8:           21 seconds\n",
      "Phasing iteration 9:           20 seconds\n",
      "Phasing iteration 10:          20 seconds\n",
      "Phasing iteration 11:          19 seconds\n",
      "Phasing iteration 12:          17 seconds\n",
      "\n",
      "Imputation time:               25 seconds\n",
      "\n",
      "Window 3 (18:72010594-78017156)\n",
      "Reference markers:      80,505\n",
      "Study markers:          16,419\n",
      "\n",
      "Burnin  iteration 1:           2 seconds\n",
      "Burnin  iteration 2:           2 seconds\n",
      "Burnin  iteration 3:           2 seconds\n",
      "Burnin  iteration 4:           2 seconds\n",
      "Burnin  iteration 5:           2 seconds\n",
      "Burnin  iteration 6:           2 seconds\n",
      "\n",
      "Phasing iteration 1:           2 seconds\n",
      "Phasing iteration 2:           2 seconds\n",
      "Phasing iteration 3:           2 seconds\n",
      "Phasing iteration 4:           2 seconds\n",
      "Phasing iteration 5:           2 seconds\n",
      "Phasing iteration 6:           2 seconds\n",
      "Phasing iteration 7:           2 seconds\n",
      "Phasing iteration 8:           2 seconds\n",
      "Phasing iteration 9:           2 seconds\n",
      "Phasing iteration 10:          2 seconds\n",
      "Phasing iteration 11:          2 seconds\n",
      "Phasing iteration 12:          2 seconds\n",
      "\n",
      "Imputation time:               1 second\n",
      "\n",
      "Cumulative Statistics:\n",
      "\n",
      "Reference markers:     863,592\n",
      "Study markers:         173,336\n",
      "\n",
      "Haplotype phasing time:        12 minutes 5 seconds\n",
      "Imputation time:               1 second\n",
      "Total time:                    13 minutes 11 seconds\n",
      "\n",
      "End time: 05:00 PM PDT on 12 May 2020\n",
      "beagle.28Sep18.793.jar finished\n",
      "error overall = 0.00286107328460662 \n",
      "\n",
      "beagle.28Sep18.793.jar (version 5.0)\n",
      "Copyright (C) 2014-2018 Brian L. Browning\n",
      "Enter \"java -jar beagle.28Sep18.793.jar\" to list command line argument\n",
      "Start time: 05:01 PM PDT on 12 May 2020\n",
      "\n",
      "Command line: java -Xmx13653m -jar beagle.28Sep18.793.jar\n",
      "  gt=target.chr18.typedOnly.maf0.45.masked.vcf.gz\n",
      "  ref=ref.chr18.excludeTarget.vcf.gz\n",
      "  out=beagle.imputed.maf0.45\n",
      "  nthreads=4\n",
      "\n",
      "No genetic map is specified: using 1 cM = 1 Mb\n",
      "\n",
      "Reference samples:       2,404\n",
      "Study samples:             100\n",
      "\n",
      "Window 1 (18:10644-40010629)\n",
      "Reference markers:     414,911\n",
      "Study markers:           8,623\n",
      "\n",
      "Burnin  iteration 1:           3 seconds\n",
      "Burnin  iteration 2:           3 seconds\n",
      "Burnin  iteration 3:           3 seconds\n",
      "Burnin  iteration 4:           3 seconds\n",
      "Burnin  iteration 5:           3 seconds\n",
      "Burnin  iteration 6:           2 seconds\n",
      "\n",
      "Phasing iteration 1:           2 seconds\n",
      "Phasing iteration 2:           2 seconds\n",
      "Phasing iteration 3:           2 seconds\n",
      "Phasing iteration 4:           2 seconds\n",
      "Phasing iteration 5:           2 seconds\n",
      "Phasing iteration 6:           2 seconds\n",
      "Phasing iteration 7:           2 seconds\n",
      "Phasing iteration 8:           2 seconds\n",
      "Phasing iteration 9:           2 seconds\n",
      "Phasing iteration 10:          2 seconds\n",
      "Phasing iteration 11:          2 seconds\n",
      "Phasing iteration 12:          2 seconds\n",
      "\n",
      "Imputation time:               23 seconds\n",
      "\n",
      "Window 2 (18:36010613-76010634)\n",
      "Reference markers:     461,002\n",
      "Study markers:           9,497\n",
      "\n",
      "Burnin  iteration 1:           3 seconds\n",
      "Burnin  iteration 2:           2 seconds\n",
      "Burnin  iteration 3:           3 seconds\n",
      "Burnin  iteration 4:           2 seconds\n",
      "Burnin  iteration 5:           3 seconds\n",
      "Burnin  iteration 6:           3 seconds\n",
      "\n",
      "Phasing iteration 1:           3 seconds\n",
      "Phasing iteration 2:           2 seconds\n",
      "Phasing iteration 3:           2 seconds\n",
      "Phasing iteration 4:           2 seconds\n",
      "Phasing iteration 5:           2 seconds\n",
      "Phasing iteration 6:           2 seconds\n",
      "Phasing iteration 7:           2 seconds\n",
      "Phasing iteration 8:           3 seconds\n",
      "Phasing iteration 9:           3 seconds\n",
      "Phasing iteration 10:          3 seconds\n",
      "Phasing iteration 11:          2 seconds\n",
      "Phasing iteration 12:          2 seconds\n",
      "\n",
      "Imputation time:               22 seconds\n",
      "\n",
      "Window 3 (18:72010594-78017156)\n",
      "Reference markers:      80,505\n",
      "Study markers:           1,590\n",
      "\n",
      "Burnin  iteration 1:           0 seconds\n",
      "Burnin  iteration 2:           0 seconds\n",
      "Burnin  iteration 3:           0 seconds\n",
      "Burnin  iteration 4:           0 seconds\n",
      "Burnin  iteration 5:           0 seconds\n",
      "Burnin  iteration 6:           0 seconds\n",
      "\n",
      "Phasing iteration 1:           0 seconds\n",
      "Phasing iteration 2:           0 seconds\n",
      "Phasing iteration 3:           0 seconds\n",
      "Phasing iteration 4:           0 seconds\n",
      "Phasing iteration 5:           0 seconds\n",
      "Phasing iteration 6:           0 seconds\n",
      "Phasing iteration 7:           0 seconds\n",
      "Phasing iteration 8:           0 seconds\n",
      "Phasing iteration 9:           0 seconds\n",
      "Phasing iteration 10:          0 seconds\n",
      "Phasing iteration 11:          0 seconds\n",
      "Phasing iteration 12:          0 seconds\n",
      "\n",
      "Imputation time:               2 seconds\n",
      "\n",
      "Cumulative Statistics:\n",
      "\n",
      "Reference markers:     863,592\n",
      "Study markers:          17,554\n",
      "\n",
      "Haplotype phasing time:        1 minute 33 seconds\n",
      "Imputation time:               2 seconds\n",
      "Total time:                    2 minutes 32 seconds\n",
      "\n",
      "End time: 05:03 PM PDT on 12 May 2020\n",
      "beagle.28Sep18.793.jar finished\n",
      "error overall = 0.028195235713160845 \n",
      "\n"
     ]
    }
   ],
   "source": [
    "# beagle 5\n",
    "cd(\"/Users/biona001/.julia/dev/MendelImpute/data/1000_genome_phase3_v5/filtered\")\n",
    "function beagle()\n",
    "    chr = 18\n",
    "    for maf in [0.1, 0.45]\n",
    "        tgtfile = \"target.chr$chr.typedOnly.maf$maf.masked.vcf.gz\"\n",
    "        reffile = \"ref.chr$chr.excludeTarget.vcf.gz\"\n",
    "        outfile = \"beagle.imputed.maf$maf\"\n",
    "        Base.run(`java -Xmx15g -jar beagle.28Sep18.793.jar gt=$tgtfile ref=$reffile out=$outfile nthreads=4`)\n",
    "    \n",
    "        # beagle error rate\n",
    "        chr = 18\n",
    "        X_complete = convert_gt(UInt8, \"target.chr$chr.full.vcf.gz\")\n",
    "        X_beagle = convert_gt(UInt8, \"beagle.imputed.maf$maf.vcf.gz\")\n",
    "        n, p = size(X_complete)\n",
    "        println(\"error overall = $(sum(X_beagle .!= X_complete) / n / p) \\n\")\n",
    "    end\n",
    "end\n",
    "beagle()"
   ]
  },
  {
   "cell_type": "markdown",
   "metadata": {
    "collapsed": true
   },
   "source": [
    "# Eagle 2 + Minimac4\n",
    "\n",
    "In order to use the reference panel in Eagle 2's prephase option, one must first convert it to `.bcf` format via e.g. `htslib` which is *extremely* difficult to install. Even after we went through all the hard work to obtain the final `.bcf` reference file (see commands below), eagle 2.4 STILL SAYS the file is not acceptable (not bgzipped or some processing error). Therefore, I have no choice but to prephase without the reference panel. "
   ]
  },
  {
   "cell_type": "code",
   "execution_count": null,
   "metadata": {
    "collapsed": true
   },
   "outputs": [],
   "source": [
    "# run eagle 2.4: 3367.79 sec on amd-2382 machine (can only run on linux systems)\n",
    "eagle --vcf=target.chr20.typedOnly.masked.vcf.gz --outPrefix=eagle.phased.chr20 --numThreads=4 --geneticMapFile=../Eagle_v2.4.1/tables/genetic_map_hg19_withX.txt.gz"
   ]
  },
  {
   "cell_type": "code",
   "execution_count": null,
   "metadata": {
    "collapsed": true
   },
   "outputs": [],
   "source": [
    "# convert ref file to m3vcf format (Total Run completed in 1 hours, 46 mins, 24 seconds)\n",
    "/u/home/b/biona001/haplotype_comparisons/Minimac3/bin/Minimac3 --refHaps ref.chr20.excludeTarget.vcf.gz --processReference --prefix ref.chr20.excludeTarget"
   ]
  },
  {
   "cell_type": "code",
   "execution_count": null,
   "metadata": {
    "collapsed": true
   },
   "outputs": [],
   "source": [
    "# run minimac4 (2619 seconds)\n",
    "minimac4 --refHaps ref.chr20.excludeTarget.m3vcf.gz --haps eagle.phased.vcf.gz --prefix minimac.imputed.chr20 --format GT --cpus 4"
   ]
  },
  {
   "cell_type": "code",
   "execution_count": null,
   "metadata": {
    "collapsed": true
   },
   "outputs": [],
   "source": [
    "# minimac4 error rate    \n",
    "X_complete = convert_gt(Float32, \"target.chr20.full.vcf.gz\")\n",
    "X_minimac = convert_gt(Float32, \"minimac.imputed.chr20.dose.vcf.gz\")\n",
    "n, p = size(X_complete)\n",
    "println(\"error overall = $(sum(X_minimac .!= X_complete) / n / p) \\n\")"
   ]
  },
  {
   "cell_type": "code",
   "execution_count": null,
   "metadata": {
    "collapsed": true
   },
   "outputs": [],
   "source": []
  }
 ],
 "metadata": {
  "@webio": {
   "lastCommId": null,
   "lastKernelId": null
  },
  "kernelspec": {
   "display_name": "Julia 1.3.0-rc4",
   "language": "julia",
   "name": "julia-1.3"
  },
  "language_info": {
   "file_extension": ".jl",
   "mimetype": "application/julia",
   "name": "julia",
   "version": "1.3.1"
  }
 },
 "nbformat": 4,
 "nbformat_minor": 2
}
