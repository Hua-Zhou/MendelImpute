{
 "cells": [
  {
   "cell_type": "markdown",
   "metadata": {},
   "source": [
    "# Test imputation on untyped SNPs chrom 18"
   ]
  },
  {
   "cell_type": "code",
   "execution_count": 1,
   "metadata": {
    "collapsed": false
   },
   "outputs": [
    {
     "name": "stderr",
     "output_type": "stream",
     "text": [
      "┌ Warning: no Manifest.toml file found, static paths used\n",
      "└ @ Revise /Users/biona001/.julia/packages/Revise/439di/src/Revise.jl:1108\n"
     ]
    }
   ],
   "source": [
    "using Revise\n",
    "using VCFTools\n",
    "using MendelImpute\n",
    "using GeneticVariation\n",
    "using Random\n",
    "using StatsBase"
   ]
  },
  {
   "cell_type": "markdown",
   "metadata": {},
   "source": [
    "### Memory requirement\n",
    "\n",
    "**Prephasing step:** \n",
    "+ Target data requies $people * snps * 4$ bytes of RAM\n",
    "+ Reference haplotype data requires $haplotypes * snps$ bits of RAM\n",
    "+ Redundant haplotype set for imputation target requires roughly\n",
    "$people * windows * 1000$ (max haplotypes per win) $* 16 bytes$ of RAM"
   ]
  },
  {
   "cell_type": "markdown",
   "metadata": {},
   "source": [
    "## Generate subset of markers for prephasing"
   ]
  },
  {
   "cell_type": "code",
   "execution_count": 2,
   "metadata": {
    "collapsed": false
   },
   "outputs": [
    {
     "name": "stdout",
     "output_type": "stream",
     "text": [
      "757.914216 seconds (6.51 G allocations: 615.484 GiB, 5.77% gc time)\n"
     ]
    },
    {
     "name": "stderr",
     "output_type": "stream",
     "text": [
      "\u001b[32mProgress: 100%|█████████████████████████████████████████| Time: 0:11:01\u001b[39m\n"
     ]
    },
    {
     "name": "stdout",
     "output_type": "stream",
     "text": [
      "543.267281 seconds (6.94 G allocations: 658.873 GiB, 8.94% gc time)\n",
      "1133.618067 seconds (16.89 G allocations: 1.264 TiB, 10.11% gc time)\n",
      "537.259210 seconds (6.94 G allocations: 658.872 GiB, 8.92% gc time)\n",
      " 33.649063 seconds (270.84 M allocations: 27.799 GiB, 6.49% gc time)\n",
      "529.321183 seconds (6.91 G allocations: 656.539 GiB, 9.14% gc time)\n",
      " 31.127583 seconds (253.23 M allocations: 25.974 GiB, 6.39% gc time)\n",
      "508.066933 seconds (6.70 G allocations: 634.398 GiB, 9.00% gc time)\n",
      " 16.370128 seconds (121.43 M allocations: 12.480 GiB, 5.66% gc time)\n",
      "526.043739 seconds (6.59 G allocations: 622.839 GiB, 9.08% gc time)\n",
      "  8.930132 seconds (54.36 M allocations: 5.582 GiB, 5.16% gc time)\n",
      "556.634232 seconds (6.51 G allocations: 614.804 GiB, 9.66% gc time)\n",
      "  0.952794 seconds (5.51 M allocations: 578.815 MiB, 6.34% gc time)\n",
      "6361.681938 seconds (82.06 G allocations: 7.271 TiB, 8.92% gc time)\n"
     ]
    }
   ],
   "source": [
    "cd(\"/Users/biona001/.julia/dev/MendelImpute/data/1000_genome_phase3_v5/filtered\")\n",
    "function filter_and_mask()\n",
    "    for chr in [18]\n",
    "        # filter chromosome data for unique snps\n",
    "        data = \"../beagle_raw/chr$chr.1kg.phase3.v5a.vcf.gz\"\n",
    "        full_record_index = .!find_duplicate_marker(data)\n",
    "        @time VCFTools.filter(data, full_record_index, 1:nsamples(data), \n",
    "            des = \"chr$chr.uniqueSNPs.vcf.gz\")\n",
    "\n",
    "        # summarize data\n",
    "        total_snps, samples, _, _, _, maf_by_record, _ = gtstats(\"chr$chr.uniqueSNPs.vcf.gz\")\n",
    "\n",
    "        # generate target panel with all snps\n",
    "        n = 100\n",
    "        sample_idx = falses(samples)\n",
    "        sample_idx[1:n] .= true\n",
    "        shuffle!(sample_idx)\n",
    "        @time VCFTools.filter(\"chr$chr.uniqueSNPs.vcf.gz\", \n",
    "            1:total_snps, sample_idx, des = \"target.chr$chr.full.vcf.gz\")\n",
    "\n",
    "        # also generate reference panel without target samples\n",
    "        @time VCFTools.filter(\"chr$chr.uniqueSNPs.vcf.gz\", \n",
    "            1:total_snps, .!sample_idx, des = \"ref.chr$chr.excludeTarget.vcf.gz\")\n",
    "        \n",
    "        for maf in [0.0005, 0.001, 0.01, 0.1, 0.45]\n",
    "            \n",
    "            # generate target file with 100 samples and typed snps with certain maf\n",
    "            my_maf = findall(x -> x > maf, maf_by_record)  \n",
    "            p = length(my_maf)\n",
    "            record_idx = falses(total_snps)\n",
    "            record_idx[my_maf] .= true\n",
    "            @time VCFTools.filter(\"chr$chr.uniqueSNPs.vcf.gz\", record_idx, sample_idx, \n",
    "                des = \"target.chr$chr.typedOnly.maf$maf.vcf.gz\")\n",
    "\n",
    "            # unphase and mask 1% entries in target file\n",
    "            masks = falses(p, n)\n",
    "            missingprop = 0.001\n",
    "            for j in 1:n, i in 1:p\n",
    "                rand() < missingprop && (masks[i, j] = true)\n",
    "            end\n",
    "            @time mask_gt(\"target.chr$chr.typedOnly.maf$maf.vcf.gz\", masks, \n",
    "                des=\"target.chr$chr.typedOnly.maf$maf.masked.vcf.gz\", unphase=true)\n",
    "        end\n",
    "    end \n",
    "end\n",
    "Random.seed!(2020)\n",
    "@time filter_and_mask()"
   ]
  },
  {
   "cell_type": "markdown",
   "metadata": {},
   "source": [
    "### Missing rate\n",
    "\n",
    "In typed markers, 0.1% of data is missing at random, and the untyped markers missing rate are:"
   ]
  },
  {
   "cell_type": "code",
   "execution_count": 2,
   "metadata": {
    "collapsed": false
   },
   "outputs": [
    {
     "name": "stdout",
     "output_type": "stream",
     "text": [
      "ref_records = nrecords(reffile) = 863592\n",
      "there are 863592 snps w/ maf > 0.0005. Missing rate = 0.0\n",
      "there are 807477 snps w/ maf > 0.001. Missing rate = 0.06497860100603059\n",
      "there are 387193 snps w/ maf > 0.01. Missing rate = 0.5516482320354983\n",
      "there are 173336 snps w/ maf > 0.1. Missing rate = 0.7992848474742702\n",
      "there are 17554 snps w/ maf > 0.45. Missing rate = 0.9796732716375325\n"
     ]
    }
   ],
   "source": [
    "reffile = \"ref.chr18.excludeTarget.vcf.gz\"\n",
    "@show ref_records = nrecords(reffile)\n",
    "for maf in [0.0005, 0.001, 0.01, 0.1, 0.45]\n",
    "    tgtfile = \"target.chr18.typedOnly.maf$maf.masked.vcf.gz\"\n",
    "    tgt_records = nrecords(tgtfile)\n",
    "    missing_rate = 1 - tgt_records / ref_records\n",
    "    println(\"there are $tgt_records snps w/ maf > $maf. Missing rate = $missing_rate\")\n",
    "end"
   ]
  },
  {
   "cell_type": "code",
   "execution_count": 2,
   "metadata": {
    "collapsed": false
   },
   "outputs": [
    {
     "data": {
      "text/plain": [
       "4"
      ]
     },
     "execution_count": 2,
     "metadata": {},
     "output_type": "execute_result"
    }
   ],
   "source": [
    "Threads.nthreads()"
   ]
  },
  {
   "cell_type": "markdown",
   "metadata": {},
   "source": [
    "# MendelImpute on untyped markers with dp"
   ]
  },
  {
   "cell_type": "code",
   "execution_count": 2,
   "metadata": {
    "collapsed": false
   },
   "outputs": [
    {
     "name": "stdout",
     "output_type": "stream",
     "text": [
      "MendelImpute with dynamic programming, width = 500, maf = 0.0005\n"
     ]
    },
    {
     "name": "stderr",
     "output_type": "stream",
     "text": [
      "\u001b[32mImporting genotype file...100%|█████████████████████████| Time: 0:00:24\u001b[39m\n",
      "\u001b[32mImporting reference haplotype files...100%|█████████████| Time: 0:04:37\u001b[39m\n",
      "\u001b[32mComputing optimal haplotype pairs...100%|███████████████| Time: 0:08:07\u001b[39m\n",
      "\u001b[32mMerging breakpoints...100%|█████████████████████████████| Time: 0:02:05\u001b[39m\n",
      "\u001b[32mWriting to file...100%|█████████████████████████████████| Time: 0:00:11\u001b[39m\n"
     ]
    },
    {
     "name": "stdout",
     "output_type": "stream",
     "text": [
      "980.158170 seconds (4.88 G allocations: 453.271 GiB, 13.15% gc time)\n",
      "error overall = 5.963464228478264e-6 \n",
      "\n",
      "MendelImpute with dynamic programming, width = 500, maf = 0.001\n"
     ]
    },
    {
     "name": "stderr",
     "output_type": "stream",
     "text": [
      "\u001b[32mImporting genotype file...100%|█████████████████████████| Time: 0:00:44\u001b[39m\n",
      "\u001b[32mImporting reference haplotype files...100%|█████████████| Time: 0:07:43\u001b[39m\n",
      "\u001b[32mComputing optimal haplotype pairs...100%|███████████████| Time: 0:08:10\u001b[39m\n",
      "\u001b[32mMerging breakpoints...100%|█████████████████████████████| Time: 0:02:05\u001b[39m\n",
      "\u001b[32mWriting to file...100%|█████████████████████████████████| Time: 0:00:12\u001b[39m\n"
     ]
    },
    {
     "name": "stdout",
     "output_type": "stream",
     "text": [
      "1187.567415 seconds (4.78 G allocations: 445.774 GiB, 21.47% gc time)\n",
      "error overall = 0.00010462116369767205 \n",
      "\n",
      "MendelImpute with dynamic programming, width = 500, maf = 0.01\n"
     ]
    },
    {
     "name": "stderr",
     "output_type": "stream",
     "text": [
      "\u001b[32mImporting genotype file...100%|█████████████████████████| Time: 0:00:16\u001b[39m\n",
      "\u001b[32mImporting reference haplotype files...100%|█████████████| Time: 0:07:30\u001b[39m\n",
      "\u001b[32mComputing optimal haplotype pairs...100%|███████████████| Time: 0:06:39\u001b[39m\n",
      "\u001b[32mMerging breakpoints...100%|█████████████████████████████| Time: 0:02:12\u001b[39m\n",
      "\u001b[32mWriting to file...100%|█████████████████████████████████| Time: 0:00:12\u001b[39m\n"
     ]
    },
    {
     "name": "stdout",
     "output_type": "stream",
     "text": [
      "1052.661092 seconds (4.41 G allocations: 421.687 GiB, 18.06% gc time)\n",
      "error overall = 0.0015732544998100957 \n",
      "\n",
      "MendelImpute with dynamic programming, width = 500, maf = 0.1\n"
     ]
    },
    {
     "name": "stderr",
     "output_type": "stream",
     "text": [
      "\u001b[32mImporting reference haplotype files...  3%|▍            |  ETA: 0:04:59\u001b[39m"
     ]
    },
    {
     "ename": "InterruptException",
     "evalue": "InterruptException:",
     "output_type": "error",
     "traceback": [
      "InterruptException:",
      "",
      "Stacktrace:",
      " [1] Array at ./boot.jl:404 [inlined]",
      " [2] Array at ./boot.jl:423 [inlined]",
      " [3] getindex at ./array.jl:367 [inlined]",
      " [4] macro expansion at /Users/biona001/.julia/packages/Automa/fyalL/src/codegen.jl:247 [inlined]",
      " [5] _read!(::GeneticVariation.VCF.Reader, ::BioCore.Ragel.State{BufferedStreams.BufferedInputStream{TranscodingStreams.TranscodingStream{CodecZlib.GzipDecompressor,IOStream}}}, ::GeneticVariation.VCF.Record) at /Users/biona001/.julia/packages/BioCore/YBJvb/src/ReaderHelper.jl:156",
      " [6] read!(::GeneticVariation.VCF.Reader, ::GeneticVariation.VCF.Record) at /Users/biona001/.julia/packages/BioCore/YBJvb/src/ReaderHelper.jl:134",
      " [7] read at /Users/biona001/.julia/packages/BioCore/YBJvb/src/IO.jl:61 [inlined]",
      " [8] #copy_ht_trans!#12(::String, ::Array{String,1}, ::Array{String,1}, ::Array{Int64,1}, ::Array{Array{String,1},1}, ::Array{String,1}, ::Array{Array{String,1},1}, ::typeof(copy_ht_trans!), ::BitArray{2}, ::GeneticVariation.VCF.Reader) at /Users/biona001/.julia/packages/VCFTools/iQ8nK/src/convert.jl:405",
      " [9] (::VCFTools.var\"#kw##copy_ht_trans!\")(::NamedTuple{(:msg, :sampleID, :record_chr, :record_pos, :record_ids, :record_ref, :record_alt),Tuple{String,Array{String,1},Array{String,1},Array{Int64,1},Array{Array{String,1},1},Array{String,1},Array{Array{String,1},1}}}, ::typeof(copy_ht_trans!), ::BitArray{2}, ::GeneticVariation.VCF.Reader) at ./none:0",
      " [10] #convert_ht#10(::Bool, ::String, ::Bool, ::typeof(convert_ht), ::Type{Bool}, ::String) at /Users/biona001/.julia/packages/VCFTools/iQ8nK/src/convert.jl:293",
      " [11] #convert_ht at /Users/biona001/.julia/dev/MendelImpute/src/phasing.jl:0 [inlined]",
      " [12] #phase#9(::String, ::Bool, ::Int64, ::Int64, ::Bool, ::Bool, ::typeof(phase), ::String, ::String) at /Users/biona001/.julia/dev/MendelImpute/src/phasing.jl:59",
      " [13] #phase at ./none:0 [inlined]",
      " [14] macro expansion at ./util.jl:155 [inlined]",
      " [15] run() at ./In[2]:13",
      " [16] top-level scope at In[2]:19"
     ]
    }
   ],
   "source": [
    "cd(\"/Users/biona001/.julia/dev/MendelImpute/data/1000_genome_phase3_v5/filtered\")\n",
    "Random.seed!(2020)\n",
    "function run()\n",
    "    X_complete = convert_gt(UInt8, \"target.chr18.full.vcf.gz\")\n",
    "    n, p = size(X_complete)\n",
    "    chr = 18\n",
    "    width = 500\n",
    "    for maf in [0.0005, 0.001, 0.01, 0.1, 0.45]\n",
    "        println(\"MendelImpute with dynamic programming, width = $width, maf = $maf\")\n",
    "        tgtfile = \"target.chr$chr.typedOnly.maf$maf.masked.vcf.gz\"\n",
    "        reffile = \"ref.chr$chr.excludeTarget.vcf.gz\"\n",
    "        outfile = \"mendel.imputed.dp$width.maf$maf.vcf.gz\"\n",
    "        @time phase(tgtfile, reffile, outfile=outfile, impute=true, width=width, \n",
    "            fast_method=false)\n",
    "        X_mendel = convert_gt(UInt8, outfile)\n",
    "        println(\"error overall = $(sum(X_mendel .!= X_complete) / n / p) \\n\")\n",
    "    end\n",
    "end\n",
    "run()"
   ]
  },
  {
   "cell_type": "code",
   "execution_count": 3,
   "metadata": {
    "collapsed": false
   },
   "outputs": [
    {
     "name": "stdout",
     "output_type": "stream",
     "text": [
      "MendelImpute with dynamic programming, width = 500, maf = 0.001\n"
     ]
    },
    {
     "name": "stderr",
     "output_type": "stream",
     "text": [
      "\u001b[32mImporting genotype file...100%|█████████████████████████| Time: 0:00:22\u001b[39m\n",
      "\u001b[32mImporting reference haplotype files...100%|█████████████| Time: 0:04:34\u001b[39m\n",
      "\u001b[32mComputing optimal haplotype pairs...100%|███████████████| Time: 0:08:04\u001b[39m\n",
      "\u001b[32mMerging breakpoints...100%|█████████████████████████████| Time: 0:02:02\u001b[39m\n",
      "\u001b[32mWriting to file...100%|█████████████████████████████████| Time: 0:00:12\u001b[39m\n"
     ]
    },
    {
     "name": "stdout",
     "output_type": "stream",
     "text": [
      "967.266040 seconds (4.80 G allocations: 447.560 GiB, 12.54% gc time)\n",
      "error overall = 0.00010462116369767205 \n",
      "\n"
     ]
    }
   ],
   "source": [
    "cd(\"/Users/biona001/.julia/dev/MendelImpute/data/1000_genome_phase3_v5/filtered\")\n",
    "Random.seed!(2020)\n",
    "function run()\n",
    "    X_complete = convert_gt(UInt8, \"target.chr18.full.vcf.gz\")\n",
    "    n, p = size(X_complete)\n",
    "    chr = 18\n",
    "    width = 500\n",
    "    for maf in [0.001]\n",
    "        println(\"MendelImpute with dynamic programming, width = $width, maf = $maf\")\n",
    "        tgtfile = \"target.chr$chr.typedOnly.maf$maf.masked.vcf.gz\"\n",
    "        reffile = \"ref.chr$chr.excludeTarget.vcf.gz\"\n",
    "        outfile = \"mendel.imputed.dp$width.maf$maf.vcf.gz\"\n",
    "        @time phase(tgtfile, reffile, outfile=outfile, impute=true, width=width, \n",
    "            fast_method=false)\n",
    "        X_mendel = convert_gt(UInt8, outfile)\n",
    "        println(\"error overall = $(sum(X_mendel .!= X_complete) / n / p) \\n\")\n",
    "    end\n",
    "end\n",
    "run()"
   ]
  },
  {
   "cell_type": "code",
   "execution_count": 3,
   "metadata": {
    "collapsed": false
   },
   "outputs": [
    {
     "name": "stdout",
     "output_type": "stream",
     "text": [
      "MendelImpute with dynamic programming, width = 500, maf = 0.01\n"
     ]
    },
    {
     "name": "stderr",
     "output_type": "stream",
     "text": [
      "\u001b[32mImporting genotype file...100%|█████████████████████████| Time: 0:00:10\u001b[39m\n",
      "\u001b[32mImporting reference haplotype files...100%|█████████████| Time: 0:04:38\u001b[39m\n",
      "\u001b[32mComputing optimal haplotype pairs...100%|███████████████| Time: 0:06:01\u001b[39m\n",
      "\u001b[32mMerging breakpoints...100%|█████████████████████████████| Time: 0:02:51\u001b[39m\n",
      "\u001b[32mWriting to file...100%|█████████████████████████████████| Time: 0:00:11\u001b[39m\n"
     ]
    },
    {
     "name": "stdout",
     "output_type": "stream",
     "text": [
      "874.261832 seconds (4.43 G allocations: 422.871 GiB, 9.72% gc time)\n",
      "error overall = 0.0015732544998100957 \n",
      "\n",
      "MendelImpute with dynamic programming, width = 500, maf = 0.1\n"
     ]
    },
    {
     "name": "stderr",
     "output_type": "stream",
     "text": [
      "\u001b[32mImporting reference haplotype files...100%|█████████████| Time: 0:04:40\u001b[39m\n",
      "\u001b[32mComputing optimal haplotype pairs...100%|███████████████| Time: 0:03:42\u001b[39m\n",
      "\u001b[32mMerging breakpoints...100%|█████████████████████████████| Time: 0:01:50\u001b[39m\n",
      "\u001b[32mWriting to file...100%|█████████████████████████████████| Time: 0:00:11\u001b[39m\n"
     ]
    },
    {
     "name": "stdout",
     "output_type": "stream",
     "text": [
      "661.460143 seconds (4.28 G allocations: 405.512 GiB, 9.01% gc time)\n",
      "error overall = 0.00518329257334482 \n",
      "\n",
      "MendelImpute with dynamic programming, width = 500, maf = 0.45\n"
     ]
    },
    {
     "name": "stderr",
     "output_type": "stream",
     "text": [
      "\u001b[32mImporting reference haplotype files...100%|█████████████| Time: 0:04:41\u001b[39m\n",
      "\u001b[32mComputing optimal haplotype pairs...100%|███████████████| Time: 0:00:26\u001b[39m\n",
      "\u001b[32mMerging breakpoints...100%|█████████████████████████████| Time: 0:00:12\u001b[39m\n",
      "\u001b[32mWriting to file...100%|█████████████████████████████████| Time: 0:00:11\u001b[39m\n"
     ]
    },
    {
     "name": "stdout",
     "output_type": "stream",
     "text": [
      "361.544921 seconds (4.20 G allocations: 376.741 GiB, 16.94% gc time)\n",
      "error overall = 0.077552744814681 \n",
      "\n"
     ]
    }
   ],
   "source": [
    "cd(\"/Users/biona001/.julia/dev/MendelImpute/data/1000_genome_phase3_v5/filtered\")\n",
    "Random.seed!(2020)\n",
    "function run()\n",
    "    X_complete = convert_gt(UInt8, \"target.chr18.full.vcf.gz\")\n",
    "    n, p = size(X_complete)\n",
    "    chr = 18\n",
    "    width = 500\n",
    "    for maf in [] #missing rate = 0.55, 0.79, 0.97\n",
    "        println(\"MendelImpute with dynamic programming, width = $width, maf = $maf\")\n",
    "        tgtfile = \"target.chr$chr.typedOnly.maf$maf.masked.vcf.gz\"\n",
    "        reffile = \"ref.chr$chr.excludeTarget.vcf.gz\"\n",
    "        outfile = \"mendel.imputed.dp$width.maf$maf.vcf.gz\"\n",
    "        @time phase(tgtfile, reffile, outfile=outfile, impute=true, width=width, \n",
    "            fast_method=false)\n",
    "        X_mendel = convert_gt(UInt8, outfile)\n",
    "        println(\"error overall = $(sum(X_mendel .!= X_complete) / n / p) \\n\")\n",
    "    end\n",
    "end\n",
    "run()"
   ]
  },
  {
   "cell_type": "code",
   "execution_count": 3,
   "metadata": {
    "collapsed": false
   },
   "outputs": [
    {
     "name": "stdout",
     "output_type": "stream",
     "text": [
      "MendelImpute with dynamic programming, width = 500, maf = 0.1\n"
     ]
    },
    {
     "name": "stderr",
     "output_type": "stream",
     "text": [
      "\u001b[32mImporting reference haplotype files...100%|█████████████| Time: 0:04:58\u001b[39m\n",
      "\u001b[32mComputing optimal haplotype pairs...100%|███████████████| Time: 0:12:04\u001b[39m\n",
      "\u001b[32mMerging breakpoints...100%|█████████████████████████████| Time: 0:01:31\u001b[39m\n",
      "\u001b[32mWriting to file...100%|█████████████████████████████████| Time: 0:00:11\u001b[39m\n"
     ]
    },
    {
     "name": "stdout",
     "output_type": "stream",
     "text": [
      "1166.214917 seconds (5.18 G allocations: 420.974 GiB, 9.13% gc time)\n",
      "error overall = 0.005184265254888883 \n",
      "\n"
     ]
    }
   ],
   "source": [
    "# using sqrt(l2) error to compute happair \n",
    "cd(\"/Users/biona001/.julia/dev/MendelImpute/data/1000_genome_phase3_v5/filtered\")\n",
    "Random.seed!(2020)\n",
    "function run()\n",
    "    X_complete = convert_gt(UInt8, \"target.chr18.full.vcf.gz\")\n",
    "    n, p = size(X_complete)\n",
    "    chr = 18\n",
    "    width = 500\n",
    "    for maf in [0.1]\n",
    "        println(\"MendelImpute with dynamic programming, width = $width, maf = $maf\")\n",
    "        tgtfile = \"target.chr$chr.typedOnly.maf$maf.masked.vcf.gz\"\n",
    "        reffile = \"ref.chr$chr.excludeTarget.vcf.gz\"\n",
    "        outfile = \"mendel.imputed.dp$width.maf$maf.vcf.gz\"\n",
    "        @time phase(tgtfile, reffile, outfile=outfile, impute=true, width=width, \n",
    "            fast_method=false)\n",
    "        X_mendel = convert_gt(UInt8, outfile)\n",
    "        println(\"error overall = $(sum(X_mendel .!= X_complete) / n / p) \\n\")\n",
    "    end\n",
    "end\n",
    "run()"
   ]
  },
  {
   "cell_type": "markdown",
   "metadata": {},
   "source": [
    "# Beagle 5.0"
   ]
  },
  {
   "cell_type": "code",
   "execution_count": 3,
   "metadata": {
    "collapsed": false
   },
   "outputs": [
    {
     "name": "stdout",
     "output_type": "stream",
     "text": [
      "beagle.28Sep18.793.jar (version 5.0)\n",
      "Copyright (C) 2014-2018 Brian L. Browning\n",
      "Enter \"java -jar beagle.28Sep18.793.jar\" to list command line argument\n",
      "Start time: 10:09 AM PDT on 08 May 2020\n",
      "\n",
      "Command line: java -Xmx13653m -jar beagle.28Sep18.793.jar\n",
      "  gt=target.chr18.typedOnly.maf0.0005.masked.vcf.gz\n",
      "  ref=ref.chr18.excludeTarget.vcf.gz\n",
      "  out=beagle.imputed.maf0.0005\n",
      "  nthreads=4\n",
      "\n",
      "No genetic map is specified: using 1 cM = 1 Mb\n",
      "\n",
      "Reference samples:       2,404\n",
      "Study samples:             100\n",
      "\n",
      "Window 1 (18:10644-40010629)\n",
      "Reference markers:     414,911\n",
      "Study markers:         414,911\n",
      "\n",
      "Burnin  iteration 1:           48 seconds\n",
      "Burnin  iteration 2:           1 minute 28 seconds\n",
      "Burnin  iteration 3:           1 minute 42 seconds\n",
      "Burnin  iteration 4:           1 minute 46 seconds\n",
      "Burnin  iteration 5:           1 minute 53 seconds\n",
      "Burnin  iteration 6:           2 minutes 5 seconds\n",
      "\n",
      "Phasing iteration 1:           1 minute 59 seconds\n",
      "Phasing iteration 2:           2 minutes 1 second\n",
      "Phasing iteration 3:           2 minutes 3 seconds\n",
      "Phasing iteration 4:           2 minutes 9 seconds\n",
      "Phasing iteration 5:           1 minute 52 seconds\n",
      "Phasing iteration 6:           1 minute 56 seconds\n",
      "Phasing iteration 7:           2 minutes 1 second\n",
      "Phasing iteration 8:           1 minute 54 seconds\n",
      "Phasing iteration 9:           1 minute 47 seconds\n",
      "Phasing iteration 10:          1 minute 46 seconds\n",
      "Phasing iteration 11:          1 minute 43 seconds\n",
      "Phasing iteration 12:          1 minute 38 seconds\n",
      "\n",
      "Window 2 (18:36010613-76010634)\n",
      "Reference markers:     461,002\n",
      "Study markers:         461,002\n",
      "\n",
      "Burnin  iteration 1:           48 seconds\n",
      "Burnin  iteration 2:           1 minute 56 seconds\n",
      "Burnin  iteration 3:           2 minutes 1 second\n",
      "Burnin  iteration 4:           2 minutes 1 second\n",
      "Burnin  iteration 5:           2 minutes 6 seconds\n",
      "Burnin  iteration 6:           2 minutes 9 seconds\n",
      "\n",
      "Phasing iteration 1:           2 minutes 10 seconds\n",
      "Phasing iteration 2:           2 minutes 11 seconds\n",
      "Phasing iteration 3:           2 minutes 15 seconds\n",
      "Phasing iteration 4:           2 minutes 24 seconds\n",
      "Phasing iteration 5:           2 minutes 35 seconds\n",
      "Phasing iteration 6:           2 minutes 28 seconds\n",
      "Phasing iteration 7:           2 minutes 16 seconds\n",
      "Phasing iteration 8:           2 minutes 19 seconds\n",
      "Phasing iteration 9:           2 minutes 9 seconds\n",
      "Phasing iteration 10:          2 minutes 7 seconds\n",
      "Phasing iteration 11:          2 minutes 1 second\n",
      "Phasing iteration 12:          1 minute 56 seconds\n",
      "\n",
      "Window 3 (18:72010594-78017156)\n",
      "Reference markers:      80,505\n",
      "Study markers:          80,505\n",
      "\n",
      "Burnin  iteration 1:           5 seconds\n",
      "Burnin  iteration 2:           4 seconds\n",
      "Burnin  iteration 3:           5 seconds\n",
      "Burnin  iteration 4:           4 seconds\n",
      "Burnin  iteration 5:           6 seconds\n",
      "Burnin  iteration 6:           6 seconds\n",
      "\n",
      "Phasing iteration 1:           5 seconds\n",
      "Phasing iteration 2:           5 seconds\n",
      "Phasing iteration 3:           5 seconds\n",
      "Phasing iteration 4:           5 seconds\n",
      "Phasing iteration 5:           6 seconds\n",
      "Phasing iteration 6:           5 seconds\n",
      "Phasing iteration 7:           6 seconds\n",
      "Phasing iteration 8:           6 seconds\n",
      "Phasing iteration 9:           5 seconds\n",
      "Phasing iteration 10:          5 seconds\n",
      "Phasing iteration 11:          5 seconds\n",
      "Phasing iteration 12:          4 seconds\n",
      "\n",
      "Cumulative Statistics:\n",
      "\n",
      "Study markers:         863,592\n",
      "\n",
      "Haplotype phasing time:        1 hour 11 minutes 57 seconds\n",
      "Total time:                    1 hour 12 minutes 50 seconds\n",
      "\n",
      "End time: 11:22 AM PDT on 08 May 2020\n",
      "beagle.28Sep18.793.jar finished\n"
     ]
    },
    {
     "ename": "DimensionMismatch",
     "evalue": "DimensionMismatch(\"arrays could not be broadcast to a common size; got a dimension with lengths 678557 and 863592\")",
     "output_type": "error",
     "traceback": [
      "DimensionMismatch(\"arrays could not be broadcast to a common size; got a dimension with lengths 678557 and 863592\")",
      "",
      "Stacktrace:",
      " [1] instantiate(::Base.Broadcast.Broadcasted{Base.Broadcast.DefaultArrayStyle{2},Nothing,typeof(!=),Tuple{Array{Union{Missing, UInt8},2},Array{Union{Missing, UInt8},2}}}) at ./broadcast.jl:490",
      " [2] materialize at ./broadcast.jl:819 [inlined]",
      " [3] beagle() at ./In[3]:15",
      " [4] top-level scope at In[3]:18"
     ]
    }
   ],
   "source": [
    "# beagle 5\n",
    "cd(\"/Users/biona001/.julia/dev/MendelImpute/data/1000_genome_phase3_v5/filtered\")\n",
    "function beagle()\n",
    "    chr = 18\n",
    "    for maf in [0.0005, 0.001, 0.01, 0.1, 0.45]\n",
    "        tgtfile = \"target.chr$chr.typedOnly.maf$maf.masked.vcf.gz\"\n",
    "        reffile = \"ref.chr$chr.excludeTarget.vcf.gz\"\n",
    "        outfile = \"beagle.imputed.maf$maf\"\n",
    "        Base.run(`java -Xmx15g -jar beagle.28Sep18.793.jar gt=$tgtfile ref=$reffile out=$outfile nthreads=4`)\n",
    "    end\n",
    "end\n",
    "beagle()"
   ]
  },
  {
   "cell_type": "code",
   "execution_count": 5,
   "metadata": {
    "collapsed": false
   },
   "outputs": [
    {
     "name": "stdout",
     "output_type": "stream",
     "text": [
      "error overall = 5.453964372064586e-6 \n",
      "\n"
     ]
    }
   ],
   "source": [
    "for maf in [0.0005]\n",
    "    # beagle error rate    \n",
    "    chr = 18\n",
    "    X_complete = convert_gt(UInt8, \"target.chr$chr.full.vcf.gz\")\n",
    "    X_beagle = convert_gt(UInt8, \"beagle.imputed.maf$maf.vcf.gz\")\n",
    "    n, p = size(X_complete)\n",
    "    println(\"error overall = $(sum(X_beagle .!= X_complete) / n / p) \\n\")\n",
    "end"
   ]
  },
  {
   "cell_type": "code",
   "execution_count": 1,
   "metadata": {
    "collapsed": false
   },
   "outputs": [
    {
     "name": "stdout",
     "output_type": "stream",
     "text": [
      "beagle.28Sep18.793.jar (version 5.0)\n",
      "Copyright (C) 2014-2018 Brian L. Browning\n",
      "Enter \"java -jar beagle.28Sep18.793.jar\" to list command line argument\n",
      "Start time: 02:52 PM PDT on 12 May 2020\n",
      "\n",
      "Command line: java -Xmx13653m -jar beagle.28Sep18.793.jar\n",
      "  gt=target.chr18.typedOnly.maf0.001.masked.vcf.gz\n",
      "  ref=ref.chr18.excludeTarget.vcf.gz\n",
      "  out=beagle.imputed.maf0.001\n",
      "  nthreads=4\n",
      "\n",
      "No genetic map is specified: using 1 cM = 1 Mb\n",
      "\n",
      "Reference samples:       2,404\n",
      "Study samples:             100\n",
      "\n",
      "Window 1 (18:10644-40010629)\n",
      "Reference markers:     414,911\n",
      "Study markers:         388,114\n",
      "\n",
      "Burnin  iteration 1:           38 seconds\n",
      "Burnin  iteration 2:           1 minute 26 seconds\n",
      "Burnin  iteration 3:           1 minute 28 seconds\n",
      "Burnin  iteration 4:           1 minute 35 seconds\n",
      "Burnin  iteration 5:           1 minute 50 seconds\n",
      "Burnin  iteration 6:           1 minute 47 seconds\n",
      "\n",
      "Phasing iteration 1:           1 minute 43 seconds\n",
      "Phasing iteration 2:           1 minute 47 seconds\n",
      "Phasing iteration 3:           1 minute 43 seconds\n",
      "Phasing iteration 4:           1 minute 31 seconds\n",
      "Phasing iteration 5:           1 minute 33 seconds\n",
      "Phasing iteration 6:           1 minute 32 seconds\n",
      "Phasing iteration 7:           1 minute 35 seconds\n",
      "Phasing iteration 8:           1 minute 33 seconds\n",
      "Phasing iteration 9:           1 minute 31 seconds\n",
      "Phasing iteration 10:          1 minute 26 seconds\n",
      "Phasing iteration 11:          1 minute 29 seconds\n",
      "Phasing iteration 12:          1 minute 27 seconds\n",
      "\n",
      "Imputation time:               33 seconds\n",
      "\n",
      "Window 2 (18:36010613-76010634)\n",
      "Reference markers:     461,002\n",
      "Study markers:         430,867\n",
      "\n",
      "Burnin  iteration 1:           44 seconds\n",
      "Burnin  iteration 2:           1 minute 48 seconds\n",
      "Burnin  iteration 3:           1 minute 49 seconds\n",
      "Burnin  iteration 4:           1 minute 56 seconds\n",
      "Burnin  iteration 5:           2 minutes 6 seconds\n",
      "Burnin  iteration 6:           2 minutes 6 seconds\n",
      "\n",
      "Phasing iteration 1:           1 minute 51 seconds\n",
      "Phasing iteration 2:           2 minutes 4 seconds\n",
      "Phasing iteration 3:           1 minute 51 seconds\n",
      "Phasing iteration 4:           1 minute 50 seconds\n",
      "Phasing iteration 5:           1 minute 52 seconds\n",
      "Phasing iteration 6:           1 minute 56 seconds\n",
      "Phasing iteration 7:           1 minute 58 seconds\n",
      "Phasing iteration 8:           1 minute 59 seconds\n",
      "Phasing iteration 9:           1 minute 47 seconds\n",
      "Phasing iteration 10:          1 minute 46 seconds\n",
      "Phasing iteration 11:          1 minute 53 seconds\n",
      "Phasing iteration 12:          1 minute 40 seconds\n",
      "\n",
      "Imputation time:               38 seconds\n",
      "\n",
      "Window 3 (18:72010594-78017156)\n",
      "Reference markers:      80,505\n",
      "Study markers:          75,267\n",
      "\n",
      "Burnin  iteration 1:           4 seconds\n",
      "Burnin  iteration 2:           5 seconds\n",
      "Burnin  iteration 3:           4 seconds\n",
      "Burnin  iteration 4:           5 seconds\n",
      "Burnin  iteration 5:           5 seconds\n",
      "Burnin  iteration 6:           5 seconds\n",
      "\n",
      "Phasing iteration 1:           5 seconds\n",
      "Phasing iteration 2:           4 seconds\n",
      "Phasing iteration 3:           4 seconds\n",
      "Phasing iteration 4:           5 seconds\n",
      "Phasing iteration 5:           5 seconds\n",
      "Phasing iteration 6:           5 seconds\n",
      "Phasing iteration 7:           6 seconds\n",
      "Phasing iteration 8:           5 seconds\n",
      "Phasing iteration 9:           4 seconds\n",
      "Phasing iteration 10:          5 seconds\n",
      "Phasing iteration 11:          4 seconds\n",
      "Phasing iteration 12:          4 seconds\n",
      "\n",
      "Imputation time:               4 seconds\n",
      "\n",
      "Cumulative Statistics:\n",
      "\n",
      "Reference markers:     863,592\n",
      "Study markers:         807,477\n",
      "\n",
      "Haplotype phasing time:        1 hour 1 minute 53 seconds\n",
      "Imputation time:               4 seconds\n",
      "Total time:                    1 hour 3 minutes 45 seconds\n",
      "\n",
      "End time: 03:55 PM PDT on 12 May 2020\n",
      "beagle.28Sep18.793.jar finished\n"
     ]
    },
    {
     "ename": "UndefVarError",
     "evalue": "UndefVarError: convert_gt not defined",
     "output_type": "error",
     "traceback": [
      "UndefVarError: convert_gt not defined",
      "",
      "Stacktrace:",
      " [1] beagle() at ./In[1]:13",
      " [2] top-level scope at In[1]:19"
     ]
    }
   ],
   "source": [
    "# beagle 5\n",
    "cd(\"/Users/biona001/.julia/dev/MendelImpute/data/1000_genome_phase3_v5/filtered\")\n",
    "function beagle()\n",
    "    chr = 18\n",
    "    for maf in [0.001, 0.01, 0.1, 0.45]\n",
    "        tgtfile = \"target.chr$chr.typedOnly.maf$maf.masked.vcf.gz\"\n",
    "        reffile = \"ref.chr$chr.excludeTarget.vcf.gz\"\n",
    "        outfile = \"beagle.imputed.maf$maf\"\n",
    "        Base.run(`java -Xmx15g -jar beagle.28Sep18.793.jar gt=$tgtfile ref=$reffile out=$outfile nthreads=4`)\n",
    "    end\n",
    "end\n",
    "beagle()"
   ]
  },
  {
   "cell_type": "code",
   "execution_count": 3,
   "metadata": {
    "collapsed": false
   },
   "outputs": [
    {
     "ename": "ErrorException",
     "evalue": "GeneticVariation.VCF.Reader file format error on line 11 ~>\"�;IMP\\t\"",
     "output_type": "error",
     "traceback": [
      "GeneticVariation.VCF.Reader file format error on line 11 ~>\"�;IMP\\t\"",
      "",
      "Stacktrace:",
      " [1] error(::Type, ::String, ::Int64, ::String, ::String) at ./error.jl:42",
      " [2] _read!(::GeneticVariation.VCF.Reader, ::BioCore.Ragel.State{BufferedStreams.BufferedInputStream{TranscodingStreams.TranscodingStream{CodecZlib.GzipDecompressor,IOStream}}}, ::GeneticVariation.VCF.Record) at /Users/biona001/.julia/packages/BioCore/YBJvb/src/ReaderHelper.jl:164",
      " [3] read!(::GeneticVariation.VCF.Reader, ::GeneticVariation.VCF.Record) at /Users/biona001/.julia/packages/BioCore/YBJvb/src/ReaderHelper.jl:134",
      " [4] read at /Users/biona001/.julia/packages/BioCore/YBJvb/src/IO.jl:61 [inlined]",
      " [5] #copy_gt!#7(::Symbol, ::Bool, ::Bool, ::Bool, ::String, ::Nothing, ::typeof(copy_gt!), ::Array{Union{Missing, UInt8},2}, ::GeneticVariation.VCF.Reader) at /Users/biona001/.julia/packages/VCFTools/iQ8nK/src/convert.jl:59",
      " [6] #copy_gt! at ./none:0 [inlined]",
      " [7] #convert_gt#9(::Symbol, ::Bool, ::Bool, ::Bool, ::Bool, ::String, ::Bool, ::typeof(convert_gt), ::Type{UInt8}, ::String) at /Users/biona001/.julia/packages/VCFTools/iQ8nK/src/convert.jl:248",
      " [8] convert_gt(::Type{UInt8}, ::String) at /Users/biona001/.julia/packages/VCFTools/iQ8nK/src/convert.jl:230",
      " [9] top-level scope at In[3]:4"
     ]
    }
   ],
   "source": [
    "# beagle error rate    \n",
    "chr = 18\n",
    "X_complete = convert_gt(UInt8, \"target.chr$chr.full.vcf.gz\")\n",
    "X_beagle = convert_gt(UInt8, \"beagle.imputed.maf0.001.vcf.gz\")\n",
    "n, p = size(X_complete)\n",
    "println(\"error overall = $(sum(X_beagle .!= X_complete) / n / p) \\n\")"
   ]
  },
  {
   "cell_type": "code",
   "execution_count": 7,
   "metadata": {
    "collapsed": false
   },
   "outputs": [
    {
     "name": "stdout",
     "output_type": "stream",
     "text": [
      "beagle.28Sep18.793.jar (version 5.0)\n",
      "Copyright (C) 2014-2018 Brian L. Browning\n",
      "Enter \"java -jar beagle.28Sep18.793.jar\" to list command line argument\n",
      "Start time: 04:03 PM PDT on 12 May 2020\n",
      "\n",
      "Command line: java -Xmx13653m -jar beagle.28Sep18.793.jar\n",
      "  gt=target.chr18.typedOnly.maf0.01.masked.vcf.gz\n",
      "  ref=ref.chr18.excludeTarget.vcf.gz\n",
      "  out=beagle.imputed.maf0.01\n",
      "  nthreads=4\n",
      "\n",
      "No genetic map is specified: using 1 cM = 1 Mb\n",
      "\n",
      "Reference samples:       2,404\n",
      "Study samples:             100\n",
      "\n",
      "Window 1 (18:10644-40010629)\n",
      "Reference markers:     414,911\n",
      "Study markers:         183,460\n",
      "\n",
      "Burnin  iteration 1:           22 seconds\n",
      "Burnin  iteration 2:           31 seconds\n",
      "Burnin  iteration 3:           34 seconds\n",
      "Burnin  iteration 4:           33 seconds\n",
      "Burnin  iteration 5:           38 seconds\n",
      "Burnin  iteration 6:           38 seconds\n",
      "\n",
      "Phasing iteration 1:           37 seconds\n",
      "Phasing iteration 2:           35 seconds\n",
      "Phasing iteration 3:           42 seconds\n",
      "Phasing iteration 4:           38 seconds\n",
      "Phasing iteration 5:           36 seconds\n",
      "Phasing iteration 6:           37 seconds\n",
      "Phasing iteration 7:           36 seconds\n",
      "Phasing iteration 8:           36 seconds\n",
      "Phasing iteration 9:           36 seconds\n",
      "Phasing iteration 10:          36 seconds\n",
      "Phasing iteration 11:          32 seconds\n",
      "Phasing iteration 12:          28 seconds\n",
      "\n",
      "Imputation time:               21 seconds\n",
      "\n",
      "Window 2 (18:36010613-76010634)\n",
      "Reference markers:     461,002\n",
      "Study markers:         208,438\n",
      "\n",
      "Burnin  iteration 1:           22 seconds\n",
      "Burnin  iteration 2:           37 seconds\n",
      "Burnin  iteration 3:           38 seconds\n",
      "Burnin  iteration 4:           39 seconds\n",
      "Burnin  iteration 5:           45 seconds\n",
      "Burnin  iteration 6:           40 seconds\n",
      "\n",
      "Phasing iteration 1:           38 seconds\n",
      "Phasing iteration 2:           38 seconds\n",
      "Phasing iteration 3:           39 seconds\n",
      "Phasing iteration 4:           37 seconds\n",
      "Phasing iteration 5:           36 seconds\n",
      "Phasing iteration 6:           36 seconds\n",
      "Phasing iteration 7:           38 seconds\n",
      "Phasing iteration 8:           36 seconds\n",
      "Phasing iteration 9:           38 seconds\n",
      "Phasing iteration 10:          36 seconds\n",
      "Phasing iteration 11:          34 seconds\n",
      "Phasing iteration 12:          34 seconds\n",
      "\n",
      "Imputation time:               19 seconds\n",
      "\n",
      "Window 3 (18:72010594-78017156)\n",
      "Reference markers:      80,505\n",
      "Study markers:          36,697\n",
      "\n",
      "Burnin  iteration 1:           2 seconds\n",
      "Burnin  iteration 2:           3 seconds\n",
      "Burnin  iteration 3:           3 seconds\n",
      "Burnin  iteration 4:           3 seconds\n",
      "Burnin  iteration 5:           3 seconds\n",
      "Burnin  iteration 6:           4 seconds\n",
      "\n",
      "Phasing iteration 1:           3 seconds\n",
      "Phasing iteration 2:           3 seconds\n",
      "Phasing iteration 3:           3 seconds\n",
      "Phasing iteration 4:           2 seconds\n",
      "Phasing iteration 5:           3 seconds\n",
      "Phasing iteration 6:           3 seconds\n",
      "Phasing iteration 7:           3 seconds\n",
      "Phasing iteration 8:           3 seconds\n",
      "Phasing iteration 9:           3 seconds\n",
      "Phasing iteration 10:          3 seconds\n",
      "Phasing iteration 11:          2 seconds\n",
      "Phasing iteration 12:          2 seconds\n",
      "\n",
      "Imputation time:               1 second\n",
      "\n",
      "Cumulative Statistics:\n",
      "\n",
      "Reference markers:     863,592\n",
      "Study markers:         387,193\n",
      "\n",
      "Haplotype phasing time:        22 minutes 14 seconds\n",
      "Imputation time:               1 second\n",
      "Total time:                    23 minutes 20 seconds\n",
      "\n",
      "End time: 04:26 PM PDT on 12 May 2020\n",
      "beagle.28Sep18.793.jar finished\n"
     ]
    },
    {
     "ename": "ErrorException",
     "evalue": "GeneticVariation.VCF.Reader file format error on line 11 ~>\"�;IMP\\t\"",
     "output_type": "error",
     "traceback": [
      "GeneticVariation.VCF.Reader file format error on line 11 ~>\"�;IMP\\t\"",
      "",
      "Stacktrace:",
      " [1] error(::Type, ::String, ::Int64, ::String, ::String) at ./error.jl:42",
      " [2] _read!(::GeneticVariation.VCF.Reader, ::BioCore.Ragel.State{BufferedStreams.BufferedInputStream{TranscodingStreams.TranscodingStream{CodecZlib.GzipDecompressor,IOStream}}}, ::GeneticVariation.VCF.Record) at /Users/biona001/.julia/packages/BioCore/YBJvb/src/ReaderHelper.jl:164",
      " [3] read!(::GeneticVariation.VCF.Reader, ::GeneticVariation.VCF.Record) at /Users/biona001/.julia/packages/BioCore/YBJvb/src/ReaderHelper.jl:134",
      " [4] read at /Users/biona001/.julia/packages/BioCore/YBJvb/src/IO.jl:61 [inlined]",
      " [5] #copy_gt!#7(::Symbol, ::Bool, ::Bool, ::Bool, ::String, ::Nothing, ::typeof(copy_gt!), ::Array{Union{Missing, UInt8},2}, ::GeneticVariation.VCF.Reader) at /Users/biona001/.julia/packages/VCFTools/iQ8nK/src/convert.jl:59",
      " [6] #copy_gt! at ./none:0 [inlined]",
      " [7] #convert_gt#9(::Symbol, ::Bool, ::Bool, ::Bool, ::Bool, ::String, ::Bool, ::typeof(convert_gt), ::Type{UInt8}, ::String) at /Users/biona001/.julia/packages/VCFTools/iQ8nK/src/convert.jl:248",
      " [8] convert_gt at /Users/biona001/.julia/packages/VCFTools/iQ8nK/src/convert.jl:230 [inlined]",
      " [9] beagle() at ./In[7]:14",
      " [10] top-level scope at In[7]:19"
     ]
    }
   ],
   "source": [
    "# beagle 5\n",
    "cd(\"/Users/biona001/.julia/dev/MendelImpute/data/1000_genome_phase3_v5/filtered\")\n",
    "function beagle()\n",
    "    chr = 18\n",
    "    for maf in [0.01]\n",
    "        tgtfile = \"target.chr$chr.typedOnly.maf$maf.masked.vcf.gz\"\n",
    "        reffile = \"ref.chr$chr.excludeTarget.vcf.gz\"\n",
    "        outfile = \"beagle.imputed.maf$maf\"\n",
    "        Base.run(`java -Xmx15g -jar beagle.28Sep18.793.jar gt=$tgtfile ref=$reffile out=$outfile nthreads=4`)\n",
    "    \n",
    "        # beagle error rate    \n",
    "        chr = 18\n",
    "        X_complete = convert_gt(UInt8, \"target.chr$chr.full.vcf.gz\")\n",
    "        X_beagle = convert_gt(UInt8, \"beagle.imputed.maf$maf.vcf.gz\")\n",
    "        n, p = size(X_complete)\n",
    "        println(\"error overall = $(sum(X_beagle .!= X_complete) / n / p) \\n\")    \n",
    "    end\n",
    "end\n",
    "beagle()"
   ]
  },
  {
   "cell_type": "code",
   "execution_count": 8,
   "metadata": {
    "collapsed": false
   },
   "outputs": [
    {
     "name": "stdout",
     "output_type": "stream",
     "text": [
      "error overall = 0.0011677968299845297 \n",
      "\n"
     ]
    }
   ],
   "source": [
    "chr = 18\n",
    "maf = 0.01\n",
    "X_complete = convert_gt(UInt8, \"target.chr$chr.full.vcf.gz\")\n",
    "X_beagle = convert_gt(UInt8, \"beagle.imputed.maf$maf.vcf.gz\")\n",
    "n, p = size(X_complete)\n",
    "println(\"error overall = $(sum(X_beagle .!= X_complete) / n / p) \\n\")    "
   ]
  },
  {
   "cell_type": "code",
   "execution_count": 9,
   "metadata": {
    "collapsed": false
   },
   "outputs": [
    {
     "name": "stdout",
     "output_type": "stream",
     "text": [
      "beagle.28Sep18.793.jar (version 5.0)\n",
      "Copyright (C) 2014-2018 Brian L. Browning\n",
      "Enter \"java -jar beagle.28Sep18.793.jar\" to list command line argument\n",
      "Start time: 04:47 PM PDT on 12 May 2020\n",
      "\n",
      "Command line: java -Xmx13653m -jar beagle.28Sep18.793.jar\n",
      "  gt=target.chr18.typedOnly.maf0.1.masked.vcf.gz\n",
      "  ref=ref.chr18.excludeTarget.vcf.gz\n",
      "  out=beagle.imputed.maf0.1\n",
      "  nthreads=4\n",
      "\n",
      "No genetic map is specified: using 1 cM = 1 Mb\n",
      "\n",
      "Reference samples:       2,404\n",
      "Study samples:             100\n",
      "\n",
      "Window 1 (18:10644-40010629)\n",
      "Reference markers:     414,911\n",
      "Study markers:          82,786\n",
      "\n",
      "Burnin  iteration 1:           18 seconds\n",
      "Burnin  iteration 2:           19 seconds\n",
      "Burnin  iteration 3:           19 seconds\n",
      "Burnin  iteration 4:           19 seconds\n",
      "Burnin  iteration 5:           22 seconds\n",
      "Burnin  iteration 6:           19 seconds\n",
      "\n",
      "Phasing iteration 1:           19 seconds\n",
      "Phasing iteration 2:           18 seconds\n",
      "Phasing iteration 3:           18 seconds\n",
      "Phasing iteration 4:           17 seconds\n",
      "Phasing iteration 5:           18 seconds\n",
      "Phasing iteration 6:           18 seconds\n",
      "Phasing iteration 7:           18 seconds\n",
      "Phasing iteration 8:           17 seconds\n",
      "Phasing iteration 9:           17 seconds\n",
      "Phasing iteration 10:          17 seconds\n",
      "Phasing iteration 11:          16 seconds\n",
      "Phasing iteration 12:          15 seconds\n",
      "\n",
      "Imputation time:               20 seconds\n",
      "\n",
      "Window 2 (18:36010613-76010634)\n",
      "Reference markers:     461,002\n",
      "Study markers:          92,243\n",
      "\n",
      "Burnin  iteration 1:           16 seconds\n",
      "Burnin  iteration 2:           20 seconds\n",
      "Burnin  iteration 3:           20 seconds\n",
      "Burnin  iteration 4:           21 seconds\n",
      "Burnin  iteration 5:           24 seconds\n",
      "Burnin  iteration 6:           22 seconds\n",
      "\n",
      "Phasing iteration 1:           20 seconds\n",
      "Phasing iteration 2:           20 seconds\n",
      "Phasing iteration 3:           20 seconds\n",
      "Phasing iteration 4:           21 seconds\n",
      "Phasing iteration 5:           20 seconds\n",
      "Phasing iteration 6:           21 seconds\n",
      "Phasing iteration 7:           25 seconds\n",
      "Phasing iteration 8:           21 seconds\n",
      "Phasing iteration 9:           20 seconds\n",
      "Phasing iteration 10:          20 seconds\n",
      "Phasing iteration 11:          19 seconds\n",
      "Phasing iteration 12:          17 seconds\n",
      "\n",
      "Imputation time:               25 seconds\n",
      "\n",
      "Window 3 (18:72010594-78017156)\n",
      "Reference markers:      80,505\n",
      "Study markers:          16,419\n",
      "\n",
      "Burnin  iteration 1:           2 seconds\n",
      "Burnin  iteration 2:           2 seconds\n",
      "Burnin  iteration 3:           2 seconds\n",
      "Burnin  iteration 4:           2 seconds\n",
      "Burnin  iteration 5:           2 seconds\n",
      "Burnin  iteration 6:           2 seconds\n",
      "\n",
      "Phasing iteration 1:           2 seconds\n",
      "Phasing iteration 2:           2 seconds\n",
      "Phasing iteration 3:           2 seconds\n",
      "Phasing iteration 4:           2 seconds\n",
      "Phasing iteration 5:           2 seconds\n",
      "Phasing iteration 6:           2 seconds\n",
      "Phasing iteration 7:           2 seconds\n",
      "Phasing iteration 8:           2 seconds\n",
      "Phasing iteration 9:           2 seconds\n",
      "Phasing iteration 10:          2 seconds\n",
      "Phasing iteration 11:          2 seconds\n",
      "Phasing iteration 12:          2 seconds\n",
      "\n",
      "Imputation time:               1 second\n",
      "\n",
      "Cumulative Statistics:\n",
      "\n",
      "Reference markers:     863,592\n",
      "Study markers:         173,336\n",
      "\n",
      "Haplotype phasing time:        12 minutes 5 seconds\n",
      "Imputation time:               1 second\n",
      "Total time:                    13 minutes 11 seconds\n",
      "\n",
      "End time: 05:00 PM PDT on 12 May 2020\n",
      "beagle.28Sep18.793.jar finished\n",
      "error overall = 0.00286107328460662 \n",
      "\n",
      "beagle.28Sep18.793.jar (version 5.0)\n",
      "Copyright (C) 2014-2018 Brian L. Browning\n",
      "Enter \"java -jar beagle.28Sep18.793.jar\" to list command line argument\n",
      "Start time: 05:01 PM PDT on 12 May 2020\n",
      "\n",
      "Command line: java -Xmx13653m -jar beagle.28Sep18.793.jar\n",
      "  gt=target.chr18.typedOnly.maf0.45.masked.vcf.gz\n",
      "  ref=ref.chr18.excludeTarget.vcf.gz\n",
      "  out=beagle.imputed.maf0.45\n",
      "  nthreads=4\n",
      "\n",
      "No genetic map is specified: using 1 cM = 1 Mb\n",
      "\n",
      "Reference samples:       2,404\n",
      "Study samples:             100\n",
      "\n",
      "Window 1 (18:10644-40010629)\n",
      "Reference markers:     414,911\n",
      "Study markers:           8,623\n",
      "\n",
      "Burnin  iteration 1:           3 seconds\n",
      "Burnin  iteration 2:           3 seconds\n",
      "Burnin  iteration 3:           3 seconds\n",
      "Burnin  iteration 4:           3 seconds\n",
      "Burnin  iteration 5:           3 seconds\n",
      "Burnin  iteration 6:           2 seconds\n",
      "\n",
      "Phasing iteration 1:           2 seconds\n",
      "Phasing iteration 2:           2 seconds\n",
      "Phasing iteration 3:           2 seconds\n",
      "Phasing iteration 4:           2 seconds\n",
      "Phasing iteration 5:           2 seconds\n",
      "Phasing iteration 6:           2 seconds\n",
      "Phasing iteration 7:           2 seconds\n",
      "Phasing iteration 8:           2 seconds\n",
      "Phasing iteration 9:           2 seconds\n",
      "Phasing iteration 10:          2 seconds\n",
      "Phasing iteration 11:          2 seconds\n",
      "Phasing iteration 12:          2 seconds\n",
      "\n",
      "Imputation time:               23 seconds\n",
      "\n",
      "Window 2 (18:36010613-76010634)\n",
      "Reference markers:     461,002\n",
      "Study markers:           9,497\n",
      "\n",
      "Burnin  iteration 1:           3 seconds\n",
      "Burnin  iteration 2:           2 seconds\n",
      "Burnin  iteration 3:           3 seconds\n",
      "Burnin  iteration 4:           2 seconds\n",
      "Burnin  iteration 5:           3 seconds\n",
      "Burnin  iteration 6:           3 seconds\n",
      "\n",
      "Phasing iteration 1:           3 seconds\n",
      "Phasing iteration 2:           2 seconds\n",
      "Phasing iteration 3:           2 seconds\n",
      "Phasing iteration 4:           2 seconds\n",
      "Phasing iteration 5:           2 seconds\n",
      "Phasing iteration 6:           2 seconds\n",
      "Phasing iteration 7:           2 seconds\n",
      "Phasing iteration 8:           3 seconds\n",
      "Phasing iteration 9:           3 seconds\n",
      "Phasing iteration 10:          3 seconds\n",
      "Phasing iteration 11:          2 seconds\n",
      "Phasing iteration 12:          2 seconds\n",
      "\n",
      "Imputation time:               22 seconds\n",
      "\n",
      "Window 3 (18:72010594-78017156)\n",
      "Reference markers:      80,505\n",
      "Study markers:           1,590\n",
      "\n",
      "Burnin  iteration 1:           0 seconds\n",
      "Burnin  iteration 2:           0 seconds\n",
      "Burnin  iteration 3:           0 seconds\n",
      "Burnin  iteration 4:           0 seconds\n",
      "Burnin  iteration 5:           0 seconds\n",
      "Burnin  iteration 6:           0 seconds\n",
      "\n",
      "Phasing iteration 1:           0 seconds\n",
      "Phasing iteration 2:           0 seconds\n",
      "Phasing iteration 3:           0 seconds\n",
      "Phasing iteration 4:           0 seconds\n",
      "Phasing iteration 5:           0 seconds\n",
      "Phasing iteration 6:           0 seconds\n",
      "Phasing iteration 7:           0 seconds\n",
      "Phasing iteration 8:           0 seconds\n",
      "Phasing iteration 9:           0 seconds\n",
      "Phasing iteration 10:          0 seconds\n",
      "Phasing iteration 11:          0 seconds\n",
      "Phasing iteration 12:          0 seconds\n",
      "\n",
      "Imputation time:               2 seconds\n",
      "\n",
      "Cumulative Statistics:\n",
      "\n",
      "Reference markers:     863,592\n",
      "Study markers:          17,554\n",
      "\n",
      "Haplotype phasing time:        1 minute 33 seconds\n",
      "Imputation time:               2 seconds\n",
      "Total time:                    2 minutes 32 seconds\n",
      "\n",
      "End time: 05:03 PM PDT on 12 May 2020\n",
      "beagle.28Sep18.793.jar finished\n",
      "error overall = 0.028195235713160845 \n",
      "\n"
     ]
    }
   ],
   "source": [
    "# beagle 5\n",
    "cd(\"/Users/biona001/.julia/dev/MendelImpute/data/1000_genome_phase3_v5/filtered\")\n",
    "function beagle()\n",
    "    chr = 18\n",
    "    for maf in [0.1, 0.45]\n",
    "        tgtfile = \"target.chr$chr.typedOnly.maf$maf.masked.vcf.gz\"\n",
    "        reffile = \"ref.chr$chr.excludeTarget.vcf.gz\"\n",
    "        outfile = \"beagle.imputed.maf$maf\"\n",
    "        Base.run(`java -Xmx15g -jar beagle.28Sep18.793.jar gt=$tgtfile ref=$reffile out=$outfile nthreads=4`)\n",
    "    \n",
    "        # beagle error rate\n",
    "        chr = 18\n",
    "        X_complete = convert_gt(UInt8, \"target.chr$chr.full.vcf.gz\")\n",
    "        X_beagle = convert_gt(UInt8, \"beagle.imputed.maf$maf.vcf.gz\")\n",
    "        n, p = size(X_complete)\n",
    "        println(\"error overall = $(sum(X_beagle .!= X_complete) / n / p) \\n\")\n",
    "    end\n",
    "end\n",
    "beagle()"
   ]
  },
  {
   "cell_type": "markdown",
   "metadata": {
    "collapsed": true
   },
   "source": [
    "# Eagle 2 + Minimac4\n",
    "\n",
    "In order to use the reference panel in Eagle 2's prephase option, one must first convert it to `.bcf` format via e.g. `htslib` which is *extremely* difficult to install. Even after we went through all the hard work to obtain the final `.bcf` reference file (see commands below), eagle 2.4 STILL SAYS the file is not acceptable (not bgzipped or some processing error). Therefore, I have no choice but to prephase without the reference panel. "
   ]
  },
  {
   "cell_type": "code",
   "execution_count": null,
   "metadata": {
    "collapsed": true
   },
   "outputs": [],
   "source": [
    "# run eagle 2.4: 3367.79 sec on amd-2382 machine (can only run on linux systems)\n",
    "eagle --vcf=target.chr20.typedOnly.masked.vcf.gz --outPrefix=eagle.phased.chr20 --numThreads=4 --geneticMapFile=../Eagle_v2.4.1/tables/genetic_map_hg19_withX.txt.gz"
   ]
  },
  {
   "cell_type": "code",
   "execution_count": null,
   "metadata": {
    "collapsed": true
   },
   "outputs": [],
   "source": [
    "# convert ref file to m3vcf format (Total Run completed in 1 hours, 46 mins, 24 seconds)\n",
    "/u/home/b/biona001/haplotype_comparisons/Minimac3/bin/Minimac3 --refHaps ref.chr20.excludeTarget.vcf.gz --processReference --prefix ref.chr20.excludeTarget"
   ]
  },
  {
   "cell_type": "code",
   "execution_count": null,
   "metadata": {
    "collapsed": true
   },
   "outputs": [],
   "source": [
    "# run minimac4 (2619 seconds)\n",
    "minimac4 --refHaps ref.chr20.excludeTarget.m3vcf.gz --haps eagle.phased.vcf.gz --prefix minimac.imputed.chr20 --format GT --cpus 4"
   ]
  },
  {
   "cell_type": "code",
   "execution_count": null,
   "metadata": {
    "collapsed": true
   },
   "outputs": [],
   "source": [
    "# minimac4 error rate    \n",
    "X_complete = convert_gt(Float32, \"target.chr20.full.vcf.gz\")\n",
    "X_minimac = convert_gt(Float32, \"minimac.imputed.chr20.dose.vcf.gz\")\n",
    "n, p = size(X_complete)\n",
    "println(\"error overall = $(sum(X_minimac .!= X_complete) / n / p) \\n\")"
   ]
  },
  {
   "cell_type": "code",
   "execution_count": null,
   "metadata": {
    "collapsed": true
   },
   "outputs": [],
   "source": []
  }
 ],
 "metadata": {
  "@webio": {
   "lastCommId": null,
   "lastKernelId": null
  },
  "kernelspec": {
   "display_name": "Julia 1.3.0-rc4",
   "language": "julia",
   "name": "julia-1.3"
  },
  "language_info": {
   "file_extension": ".jl",
   "mimetype": "application/julia",
   "name": "julia",
   "version": "1.3.1"
  }
 },
 "nbformat": 4,
 "nbformat_minor": 2
}
