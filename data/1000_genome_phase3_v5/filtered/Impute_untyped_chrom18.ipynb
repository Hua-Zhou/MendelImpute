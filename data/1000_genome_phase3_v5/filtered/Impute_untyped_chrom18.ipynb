{
 "cells": [
  {
   "cell_type": "markdown",
   "metadata": {},
   "source": [
    "# Test imputation on untyped SNPs chrom 18"
   ]
  },
  {
   "cell_type": "code",
   "execution_count": 1,
   "metadata": {
    "collapsed": false
   },
   "outputs": [
    {
     "name": "stderr",
     "output_type": "stream",
     "text": [
      "┌ Info: Precompiling MendelImpute [e47305d1-6a61-5370-bc5d-77554d143183]\n",
      "└ @ Base loading.jl:1278\n"
     ]
    }
   ],
   "source": [
    "using Revise\n",
    "using VCFTools\n",
    "using MendelImpute\n",
    "using GeneticVariation\n",
    "using Random\n",
    "using StatsBase\n",
    "using CodecZlib\n",
    "using ProgressMeter\n",
    "using JLSO\n",
    "using BenchmarkTools\n",
    "using GroupSlices\n",
    "using LinearAlgebra\n",
    "# using ProfileView\n",
    "\n",
    "BLAS.set_num_threads(1)"
   ]
  },
  {
   "cell_type": "code",
   "execution_count": 3,
   "metadata": {
    "collapsed": false,
    "scrolled": true
   },
   "outputs": [
    {
     "data": {
      "text/plain": [
       "0.9712374045867664"
      ]
     },
     "execution_count": 3,
     "metadata": {},
     "output_type": "execute_result"
    }
   ],
   "source": [
    "0.005259159607882693 / 0.005414906368974035 # double bkpt search"
   ]
  },
  {
   "cell_type": "code",
   "execution_count": 2,
   "metadata": {
    "collapsed": false
   },
   "outputs": [
    {
     "data": {
      "text/plain": [
       "0.9489598766234328"
      ]
     },
     "execution_count": 2,
     "metadata": {},
     "output_type": "execute_result"
    }
   ],
   "source": [
    "0.005138528879829041 / 0.005414906368974035 # double bkpt search + 25% overlapping window"
   ]
  },
  {
   "cell_type": "code",
   "execution_count": 3,
   "metadata": {
    "collapsed": false
   },
   "outputs": [
    {
     "name": "stdout",
     "output_type": "stream",
     "text": [
      "Number of threads = 8\n",
      "Importing reference haplotype data...\n",
      "Total windows = 2367, averaging ~ 527 unique haplotypes per window.\n",
      "\n",
      "Timings: \n",
      "    Data import                     = 21.6285 seconds\n",
      "        import target data             = 3.01192 seconds\n",
      "        import compressed haplotypes   = 18.6166 seconds\n",
      "    Computing haplotype pair        = 4.30019 seconds\n",
      "        BLAS3 mul! to get M and N      = 0.318528 seconds per thread\n",
      "        haplopair search               = 3.537 seconds per thread\n",
      "        initializing missing           = 0.022033 seconds per thread\n",
      "        allocating and viewing         = 0.0522438 seconds per thread\n",
      "        index conversion               = 0.0015519 seconds per thread\n",
      "    Phasing by win-win intersection = 1.23751 seconds\n",
      "        Window-by-window intersection  = 0.0930173 seconds per thread\n",
      "        Breakpoint search              = 0.923833 seconds per thread\n",
      "        Recording result               = 0.011124 seconds per thread\n",
      "    Imputation                     = 1.78047 seconds\n",
      "        Imputing missing               = 0.230866 seconds\n",
      "        Writing to file                = 1.5496 seconds\n",
      "\n",
      "    Total time                      = 28.9478 seconds\n",
      "\n",
      " 28.947759 seconds (62.07 M allocations: 4.957 GiB, 9.05% gc time)\n",
      "error overall = 0.005259159607882693 \n",
      "\n"
     ]
    }
   ],
   "source": [
    "# 8 threads, d = 1000\n",
    "Random.seed!(2020)\n",
    "chr = 18\n",
    "maf = 0.1\n",
    "d = 1000\n",
    "overlap = 0.0\n",
    "tgtfile = \"target.chr$chr.typedOnly.maf$maf.masked.vcf.gz\"\n",
    "reffile = \"ref.chr18.maxd$d.overlap$overlap.maf$maf.excludeTarget.jlso\"\n",
    "outfile = \"mendel.imputed.vcf.gz\"\n",
    "@time ph = phase(tgtfile, reffile, outfile=outfile, impute=true, phase=true);\n",
    "\n",
    "X_complete = convert_gt(UInt8, \"target.chr18.full.vcf.gz\")\n",
    "n, p = size(X_complete)\n",
    "X_mendel = convert_gt(UInt8, outfile)\n",
    "println(\"error overall = $(sum(X_mendel .!= X_complete) / n / p) \\n\")\n",
    "# rm(outfile, force=true)"
   ]
  },
  {
   "cell_type": "code",
   "execution_count": 16,
   "metadata": {
    "collapsed": false
   },
   "outputs": [
    {
     "name": "stdout",
     "output_type": "stream",
     "text": [
      "Number of threads = 8\n",
      "Importing reference haplotype data...\n",
      "Total windows = 2367, averaging ~ 527 unique haplotypes per window.\n",
      "\n",
      "Timings: \n",
      "    Data import                     = 20.6742 seconds\n",
      "        import target data             = 3.72704 seconds\n",
      "        import compressed haplotypes   = 16.9471 seconds\n",
      "    Computing haplotype pair        = 4.10573 seconds\n",
      "        BLAS3 mul! to get M and N      = 0.30885 seconds per thread\n",
      "        haplopair search               = 3.37663 seconds per thread\n",
      "        initializing missing           = 0.0228447 seconds per thread\n",
      "        allocating and viewing         = 0.0569657 seconds per thread\n",
      "        index conversion               = 0.00127105 seconds per thread\n",
      "    Phasing by win-win intersection = 1.39151 seconds\n",
      "        Window-by-window intersection  = 0.0931532 seconds per thread\n",
      "        Breakpoint search              = 1.02972 seconds per thread\n",
      "        Recording result               = 0.0249224 seconds per thread\n",
      "    Imputation                     = 1.76086 seconds\n",
      "        Imputing missing               = 0.239893 seconds\n",
      "        Writing to file                = 1.52097 seconds\n",
      "\n",
      "    Total time                      = 27.9334 seconds\n",
      "\n",
      " 27.933463 seconds (65.75 M allocations: 5.083 GiB, 7.97% gc time)\n",
      "error overall = 0.005259159607882693 \n",
      "\n"
     ]
    }
   ],
   "source": [
    "# 8 threads, d = 1000\n",
    "Random.seed!(2020)\n",
    "chr = 18\n",
    "maf = 0.1\n",
    "d = 1000\n",
    "overlap = 0.0\n",
    "tgtfile = \"target.chr$chr.typedOnly.maf$maf.masked.vcf.gz\"\n",
    "reffile = \"ref.chr18.maxd$d.overlap$overlap.maf$maf.excludeTarget.jlso\"\n",
    "outfile = \"mendel.imputed.vcf.gz\"\n",
    "@time ph = phase(tgtfile, reffile, outfile=outfile, impute=true, phase=true);\n",
    "\n",
    "# X_complete = convert_gt(UInt8, \"target.chr18.full.vcf.gz\")\n",
    "n, p = size(X_complete)\n",
    "X_mendel = convert_gt(UInt8, outfile)\n",
    "println(\"error overall = $(sum(X_mendel .!= X_complete) / n / p) \\n\")\n",
    "# rm(outfile, force=true)"
   ]
  },
  {
   "cell_type": "markdown",
   "metadata": {},
   "source": [
    "## Generate subset of markers for prephasing"
   ]
  },
  {
   "cell_type": "code",
   "execution_count": 3,
   "metadata": {
    "collapsed": false,
    "scrolled": true
   },
   "outputs": [
    {
     "name": "stdout",
     "output_type": "stream",
     "text": [
      "752.076342 seconds (6.51 G allocations: 615.353 GiB, 7.01% gc time)\n"
     ]
    },
    {
     "name": "stderr",
     "output_type": "stream",
     "text": [
      "\u001b[32mProgress: 100%|█████████████████████████████████████████| Time: 0:08:17\u001b[39m\n"
     ]
    },
    {
     "name": "stdout",
     "output_type": "stream",
     "text": [
      "549.100648 seconds (6.86 G allocations: 650.723 GiB, 10.18% gc time)\n",
      "1139.017251 seconds (16.68 G allocations: 1.249 TiB, 10.94% gc time)\n",
      "599.893049 seconds (6.86 G allocations: 650.911 GiB, 10.61% gc time)\n",
      " 36.158916 seconds (267.39 M allocations: 27.452 GiB, 6.96% gc time)\n",
      "608.676819 seconds (6.83 G allocations: 648.780 GiB, 10.30% gc time)\n",
      " 35.610763 seconds (249.89 M allocations: 25.655 GiB, 6.86% gc time)\n",
      "560.687780 seconds (6.61 G allocations: 626.620 GiB, 10.27% gc time)\n",
      " 16.352906 seconds (119.38 M allocations: 12.252 GiB, 6.40% gc time)\n",
      "520.047088 seconds (6.51 G allocations: 615.447 GiB, 10.21% gc time)\n",
      "  8.014085 seconds (53.29 M allocations: 5.482 GiB, 5.36% gc time)\n",
      "516.890704 seconds (6.43 G allocations: 607.361 GiB, 10.60% gc time)\n",
      "  0.831218 seconds (5.35 M allocations: 563.018 MiB, 5.66% gc time)\n",
      "6410.931663 seconds (76.92 G allocations: 6.823 TiB, 10.06% gc time)\n"
     ]
    }
   ],
   "source": [
    "cd(\"/Users/biona001/.julia/dev/MendelImpute/data/1000_genome_phase3_v5/filtered\")\n",
    "function filter_and_mask()\n",
    "    for chr in [18]\n",
    "        # filter chromosome data for unique snps\n",
    "        data = \"../beagle_raw/chr$chr.1kg.phase3.v5a.vcf.gz\"\n",
    "        full_record_index = .!find_duplicate_marker(data)\n",
    "        @time VCFTools.filter(data, full_record_index, 1:nsamples(data), \n",
    "            des = \"chr$chr.uniqueSNPs.vcf.gz\")\n",
    "\n",
    "        # summarize data\n",
    "        total_snps, samples, _, _, _, maf_by_record, _ = gtstats(\"chr$chr.uniqueSNPs.vcf.gz\")\n",
    "\n",
    "        # generate target panel with all snps\n",
    "        n = 100\n",
    "        sample_idx = falses(samples)\n",
    "        sample_idx[1:n] .= true\n",
    "        shuffle!(sample_idx)\n",
    "        @time VCFTools.filter(\"chr$chr.uniqueSNPs.vcf.gz\", 1:total_snps, \n",
    "            sample_idx, des = \"target.chr$chr.full.vcf.gz\", allow_multiallelic=false)\n",
    "\n",
    "        # also generate reference panel without target samples\n",
    "        @time VCFTools.filter(\"chr$chr.uniqueSNPs.vcf.gz\", 1:total_snps, \n",
    "            .!sample_idx, des = \"ref.chr$chr.excludeTarget.vcf.gz\", allow_multiallelic=false)\n",
    "        \n",
    "        for maf in [0.0005, 0.001, 0.01, 0.1, 0.45]\n",
    "            \n",
    "            # generate target file with 100 samples and typed snps with certain maf\n",
    "            my_maf = findall(x -> x > maf, maf_by_record)  \n",
    "            p = length(my_maf)\n",
    "            record_idx = falses(total_snps)\n",
    "            record_idx[my_maf] .= true\n",
    "            @time VCFTools.filter(\"chr$chr.uniqueSNPs.vcf.gz\", record_idx, sample_idx, \n",
    "                des = \"target.chr$chr.typedOnly.maf$maf.vcf.gz\", allow_multiallelic=false)\n",
    "\n",
    "            # unphase and mask 1% entries in target file\n",
    "            masks = falses(p, n)\n",
    "            missingprop = 0.001\n",
    "            for j in 1:n, i in 1:p\n",
    "                rand() < missingprop && (masks[i, j] = true)\n",
    "            end\n",
    "            @time mask_gt(\"target.chr$chr.typedOnly.maf$maf.vcf.gz\", masks, \n",
    "                des=\"target.chr$chr.typedOnly.maf$maf.masked.vcf.gz\", unphase=true)\n",
    "        end\n",
    "    end \n",
    "end\n",
    "Random.seed!(2020)\n",
    "@time filter_and_mask()"
   ]
  },
  {
   "cell_type": "code",
   "execution_count": 2,
   "metadata": {
    "collapsed": false
   },
   "outputs": [
    {
     "name": "stdout",
     "output_type": "stream",
     "text": [
      "nrecords(\"ref.chr18.excludeTarget.vcf.gz\") = 852602\n"
     ]
    },
    {
     "data": {
      "text/plain": [
       "852602"
      ]
     },
     "execution_count": 2,
     "metadata": {},
     "output_type": "execute_result"
    }
   ],
   "source": [
    "@show nrecords(\"ref.chr18.excludeTarget.vcf.gz\")"
   ]
  },
  {
   "cell_type": "code",
   "execution_count": 3,
   "metadata": {
    "collapsed": false
   },
   "outputs": [
    {
     "name": "stdout",
     "output_type": "stream",
     "text": [
      "nrecords(\"target.chr18.typedOnly.maf0.1.masked.vcf.gz\") = 169914\n"
     ]
    },
    {
     "data": {
      "text/plain": [
       "169914"
      ]
     },
     "execution_count": 3,
     "metadata": {},
     "output_type": "execute_result"
    }
   ],
   "source": [
    "@show nrecords(\"target.chr18.typedOnly.maf0.1.masked.vcf.gz\")"
   ]
  },
  {
   "cell_type": "markdown",
   "metadata": {},
   "source": [
    "# Try jlso/jld2 compression"
   ]
  },
  {
   "cell_type": "code",
   "execution_count": 4,
   "metadata": {
    "collapsed": false
   },
   "outputs": [
    {
     "name": "stderr",
     "output_type": "stream",
     "text": [
      "\u001b[32mimporting reference data...100%|████████████████████████| Time: 0:04:11\u001b[39m\n"
     ]
    },
    {
     "name": "stdout",
     "output_type": "stream",
     "text": [
      "421.703841 seconds (43.45 M allocations: 161.072 GiB, 5.91% gc time)\n",
      "445.842095 seconds (43.80 M allocations: 161.579 GiB, 5.90% gc time)\n",
      "500.949895 seconds (52.35 M allocations: 162.604 GiB, 5.76% gc time)\n",
      "563.994433 seconds (59.59 M allocations: 163.488 GiB, 6.77% gc time)\n"
     ]
    }
   ],
   "source": [
    "# jlso format\n",
    "maf = 0.1\n",
    "max_d = [1000]\n",
    "minwidth = 0\n",
    "overlaps = [0.25, 0.5, 0.75, 1.0]\n",
    "\n",
    "reffile = \"ref.chr18.excludeTarget.vcf.gz\"\n",
    "tgtfile = \"target.chr18.typedOnly.maf$maf.masked.vcf.gz\"\n",
    "H, H_sampleID, H_chr, H_pos, H_ids, H_ref, H_alt = convert_ht(Bool, reffile, trans=true, save_snp_info=true, msg=\"importing reference data...\")\n",
    "X, X_sampleID, X_chr, X_pos, X_ids, X_ref, X_alt = VCFTools.convert_gt(UInt8, tgtfile, trans=true, save_snp_info=true, msg = \"Importing genotype file...\")\n",
    "for d in max_d, overlap in overlaps\n",
    "    outfile = \"ref.chr18.maxd$d.overlap$overlap.maf$maf.excludeTarget.jlso\"\n",
    "    @time compress_haplotypes(H, X, outfile, X_pos, H_sampleID, H_chr, H_pos, H_ids, \n",
    "        H_ref, H_alt, d, minwidth, overlap)\n",
    "end"
   ]
  },
  {
   "cell_type": "code",
   "execution_count": 4,
   "metadata": {
    "collapsed": false
   },
   "outputs": [
    {
     "name": "stdout",
     "output_type": "stream",
     "text": [
      "-rw-r--r--@ 1 biona001  staff  247072174 May 19 23:43 ref.chr18.excludeTarget.vcf.gz\n"
     ]
    }
   ],
   "source": [
    ";ls -al ref.chr18.excludeTarget.vcf.gz"
   ]
  },
  {
   "cell_type": "code",
   "execution_count": 5,
   "metadata": {
    "collapsed": false
   },
   "outputs": [
    {
     "name": "stdout",
     "output_type": "stream",
     "text": [
      "-rw-r--r--  1 biona001  staff  130476381 Aug  4 23:43 ref.chr18.maxd1000.maf0.1.excludeTarget.jlso\n"
     ]
    }
   ],
   "source": [
    ";ls -al ref.chr18.maxd1000.maf0.1.excludeTarget.jlso"
   ]
  },
  {
   "cell_type": "code",
   "execution_count": 6,
   "metadata": {
    "collapsed": false
   },
   "outputs": [
    {
     "name": "stdout",
     "output_type": "stream",
     "text": [
      "-rw-r--r--  1 biona001  staff  130259083 Sep  6 16:53 ref.chr18.maxd1000.minwidth20.maf0.1.excludeTarget.jlso\n"
     ]
    }
   ],
   "source": [
    ";ls -al ref.chr18.maxd1000.minwidth20.maf0.1.excludeTarget.jlso"
   ]
  },
  {
   "cell_type": "markdown",
   "metadata": {},
   "source": [
    "# MendelImpute error rate and timing"
   ]
  },
  {
   "cell_type": "code",
   "execution_count": 5,
   "metadata": {
    "collapsed": false
   },
   "outputs": [
    {
     "data": {
      "text/plain": [
       "8"
      ]
     },
     "execution_count": 5,
     "metadata": {},
     "output_type": "execute_result"
    }
   ],
   "source": [
    "Threads.nthreads()"
   ]
  },
  {
   "cell_type": "code",
   "execution_count": 11,
   "metadata": {
    "collapsed": false
   },
   "outputs": [
    {
     "name": "stderr",
     "output_type": "stream",
     "text": [
      "\u001b[32mComputing optimal haplotype pairs...100%|███████████████| Time: 0:01:06\u001b[39m\n",
      "\u001b[32mWriting to file...100%|█████████████████████████████████| Time: 0:00:06\u001b[39m\n"
     ]
    },
    {
     "name": "stdout",
     "output_type": "stream",
     "text": [
      "Total windows = 331, averaging ~ 4096 unique haplotypes per window.\n",
      "\n",
      "Timings: \n",
      "    Data import                     = 10.6795 seconds\n",
      "    Computing haplotype pair        = 66.8235 seconds\n",
      "        BLAS3 mul! to get M and N      = 8.81538 seconds per thread\n",
      "        haplopair search               = 43.7844 seconds per thread\n",
      "        supplying constant terms       = 0.00405961 seconds per thread\n",
      "        finding redundant happairs     = 0.0471254 seconds per thread\n",
      "    Phasing by dynamic programming  = 0.325226 seconds\n",
      "    Imputation                      = 9.08613 seconds\n",
      "\n",
      " 87.094466 seconds (53.87 M allocations: 29.474 GiB, 6.25% gc time)\n",
      "error overall = 0.006451474427693109 \n",
      "\n"
     ]
    }
   ],
   "source": [
    "# 8 threads, keep best happair\n",
    "Random.seed!(2020)\n",
    "chr = 18\n",
    "maf = 0.1\n",
    "width = 512\n",
    "tgtfile = \"target.chr$chr.typedOnly.maf$maf.masked.vcf.gz\"\n",
    "reffile = \"ref.chr18.$width.maf$maf.excludeTarget.jlso\"\n",
    "outfile = \"mendel.imputed.dp$width.maf$maf.vcf.gz\"\n",
    "@time ph, hs = phase(tgtfile, reffile, outfile=outfile, impute=true, width=width)\n",
    "\n",
    "X_complete = convert_gt(UInt8, \"target.chr18.full.vcf.gz\")\n",
    "n, p = size(X_complete)\n",
    "X_mendel = convert_gt(UInt8, outfile)\n",
    "println(\"error overall = $(sum(X_mendel .!= X_complete) / n / p) \\n\")"
   ]
  },
  {
   "cell_type": "markdown",
   "metadata": {},
   "source": [
    "# MendelImpute with intersecting win-by-win"
   ]
  },
  {
   "cell_type": "code",
   "execution_count": 10,
   "metadata": {
    "collapsed": false
   },
   "outputs": [
    {
     "name": "stdout",
     "output_type": "stream",
     "text": [
      "Importing reference haplotype data...\n"
     ]
    },
    {
     "name": "stderr",
     "output_type": "stream",
     "text": [
      "\u001b[32mWriting to file...100%|█████████████████████████████████| Time: 0:00:05\u001b[39m\n"
     ]
    },
    {
     "name": "stdout",
     "output_type": "stream",
     "text": [
      "Total windows = 2367, averaging ~ 527 unique haplotypes per window.\n",
      "\n",
      "Timings: \n",
      "    Data import                     = 13.8701 seconds\n",
      "    Computing haplotype pair        = 4.40941 seconds\n",
      "        BLAS3 mul! to get M and N      = 0.3572 seconds per thread\n",
      "        haplopair search               = 3.40097 seconds per thread\n",
      "        initializing missing           = 0.0227854 seconds per thread\n",
      "        allocating and viewing         = 0.0552744 seconds per thread\n",
      "        index conversion               = 0.00175442 seconds per thread\n",
      "    Phasing by win-win intersection = 0.150916 seconds\n",
      "        Window-by-window intersection  = 0.0993135 seconds per thread\n",
      "        Breakpoint search              = 0.0233533 seconds per thread\n",
      "        Recording result               = 0.0133309 seconds per thread\n",
      "    Imputation                      = 6.13664 seconds\n",
      "\n",
      " 24.567881 seconds (62.44 M allocations: 4.900 GiB, 6.45% gc time)\n",
      "error overall = 0.005046844834987485 \n",
      "\n"
     ]
    }
   ],
   "source": [
    "# 8 threads, d = 1000, keep best happair\n",
    "Random.seed!(2020)\n",
    "chr = 18\n",
    "maf = 0.1\n",
    "d = 1000\n",
    "tgtfile = \"target.chr$chr.typedOnly.maf$maf.masked.vcf.gz\"\n",
    "reffile = \"ref.chr18.maxd$d.maf$maf.excludeTarget.jlso\"\n",
    "outfile = \"mendel.imputed.vcf.gz\"\n",
    "@time ph = phase(tgtfile, reffile, outfile=outfile, impute=true, max_d = d,\n",
    "    dynamic_programming = false)\n",
    "\n",
    "X_complete = convert_gt(UInt8, \"target.chr18.full.vcf.gz\")\n",
    "n, p = size(X_complete)\n",
    "X_mendel = convert_gt(UInt8, outfile)\n",
    "println(\"error overall = $(sum(X_mendel .!= X_complete) / n / p) \\n\")\n",
    "rm(outfile, force=true)"
   ]
  },
  {
   "cell_type": "code",
   "execution_count": 3,
   "metadata": {
    "collapsed": false
   },
   "outputs": [
    {
     "name": "stdout",
     "output_type": "stream",
     "text": [
      "Importing reference haplotype data...\n"
     ]
    },
    {
     "name": "stderr",
     "output_type": "stream",
     "text": [
      "\u001b[32mPhasing chunk 1/1...100%|███████████████████████████████| Time: 0:01:25\u001b[39m\n",
      "\u001b[32mWriting to file...100%|█████████████████████████████████| Time: 0:00:06\u001b[39m\n"
     ]
    },
    {
     "name": "stdout",
     "output_type": "stream",
     "text": [
      "Total windows = 331, averaging ~ 4096 unique haplotypes per window.\n",
      "\n",
      "Timings: \n",
      "    Data import                     = 9.22319 seconds\n",
      "    Computing haplotype pair        = 85.1134 seconds\n",
      "        BLAS3 mul! to get M and N      = 40.7029 seconds per thread\n",
      "        haplopair search               = 38.7822 seconds per thread\n",
      "        finding redundant happairs     = 0.0075832 seconds per thread\n",
      "    Phasing by win-win intersection = 0.037751 seconds\n",
      "    Imputation                      = 8.35549 seconds\n",
      "\n",
      "102.829221 seconds (57.19 M allocations: 29.451 GiB, 4.87% gc time)\n",
      "error overall = 0.006448636057621258 \n",
      "\n"
     ]
    }
   ],
   "source": [
    "# 8 threads with Gaius.jl\n",
    "Random.seed!(2020)\n",
    "chr = 18\n",
    "maf = 0.1\n",
    "width = 512\n",
    "tgtfile = \"target.chr$chr.typedOnly.maf$maf.masked.vcf.gz\"\n",
    "reffile = \"ref.chr18.$width.maf$maf.excludeTarget.jlso\"\n",
    "outfile = \"mendel.imputed.dp$width.maf$maf.vcf.gz\"\n",
    "@time ph = phase(tgtfile, reffile, outfile=outfile, impute=true, width=width,\n",
    "    dynamic_programming = false)\n",
    "\n",
    "X_complete = convert_gt(UInt8, \"target.chr18.full.vcf.gz\")\n",
    "n, p = size(X_complete)\n",
    "X_mendel = convert_gt(UInt8, outfile)\n",
    "println(\"error overall = $(sum(X_mendel .!= X_complete) / n / p) \\n\")"
   ]
  },
  {
   "cell_type": "code",
   "execution_count": 3,
   "metadata": {
    "collapsed": false
   },
   "outputs": [
    {
     "name": "stdout",
     "output_type": "stream",
     "text": [
      "Importing reference haplotype data...\n"
     ]
    },
    {
     "name": "stderr",
     "output_type": "stream",
     "text": [
      "\u001b[32mPhasing chunk 1/1...100%|███████████████████████████████| Time: 0:00:57\u001b[39m\n",
      "\u001b[32mWriting to file...100%|█████████████████████████████████| Time: 0:00:07\u001b[39m\n"
     ]
    },
    {
     "name": "stdout",
     "output_type": "stream",
     "text": [
      "Total windows = 331, averaging ~ 4096 unique haplotypes per window.\n",
      "\n",
      "Timings: \n",
      "    Data import                     = 9.23164 seconds\n",
      "    Computing haplotype pair        = 57.9442 seconds\n",
      "        BLAS3 mul! to get M and N      = 14.6295 seconds per thread\n",
      "        haplopair search               = 34.661 seconds per thread\n",
      "        finding redundant happairs     = 0.00644955 seconds per thread\n",
      "    Phasing by win-win intersection = 0.0497861 seconds\n",
      "    Imputation                      = 7.60605 seconds\n",
      "\n",
      " 75.064026 seconds (52.82 M allocations: 29.050 GiB, 6.18% gc time)\n",
      "error overall = 0.0064488354472544045 \n",
      "\n"
     ]
    }
   ],
   "source": [
    "# 8 threads with PaddedMatrices.jl\n",
    "Random.seed!(2020)\n",
    "chr = 18\n",
    "maf = 0.1\n",
    "width = 512\n",
    "tgtfile = \"target.chr$chr.typedOnly.maf$maf.masked.vcf.gz\"\n",
    "reffile = \"ref.chr18.$width.maf$maf.excludeTarget.jlso\"\n",
    "outfile = \"mendel.imputed.dp$width.maf$maf.vcf.gz\"\n",
    "@time ph = phase(tgtfile, reffile, outfile=outfile, impute=true, width=width,\n",
    "    dynamic_programming = false)\n",
    "\n",
    "X_complete = convert_gt(UInt8, \"target.chr18.full.vcf.gz\")\n",
    "n, p = size(X_complete)\n",
    "X_mendel = convert_gt(UInt8, outfile)\n",
    "println(\"error overall = $(sum(X_mendel .!= X_complete) / n / p) \\n\")"
   ]
  },
  {
   "cell_type": "markdown",
   "metadata": {},
   "source": [
    "# MendelPhase"
   ]
  },
  {
   "cell_type": "code",
   "execution_count": 3,
   "metadata": {
    "collapsed": false
   },
   "outputs": [
    {
     "name": "stdout",
     "output_type": "stream",
     "text": [
      "Importing reference haplotype data...\n"
     ]
    },
    {
     "name": "stderr",
     "output_type": "stream",
     "text": [
      "\u001b[32mPhasing chunk 1/1...100%|███████████████████████████████| Time: 0:00:50\u001b[39m\n",
      "\u001b[32mWriting to file...100%|█████████████████████████████████| Time: 0:00:06\u001b[39m\n"
     ]
    },
    {
     "name": "stdout",
     "output_type": "stream",
     "text": [
      "Total windows = 331, averaging ~ 4096 unique haplotypes per window.\n",
      "\n",
      "Timings: \n",
      "    Data import                     = 9.3601 seconds\n",
      "    Computing haplotype pair        = 50.7812 seconds\n",
      "        BLAS3 mul! to get M and N      = 11.7251 seconds per thread\n",
      "        haplopair search               = 33.0267 seconds per thread\n",
      "        finding redundant happairs     = 0.0309747 seconds per thread\n",
      "    Phasing by win-win intersection = 0.0394528 seconds\n",
      "    Imputation                      = 7.16706 seconds\n",
      "\n",
      " 67.442743 seconds (54.67 M allocations: 29.016 GiB, 6.78% gc time)\n",
      "error overall = 0.012744234707401578 \n",
      "\n"
     ]
    }
   ],
   "source": [
    "# 8 threads, keep best happair\n",
    "Random.seed!(2020)\n",
    "chr = 18\n",
    "maf = 0.1\n",
    "width = 512\n",
    "tgtfile = \"target.chr$chr.typedOnly.maf$maf.masked.vcf.gz\"\n",
    "reffile = \"ref.chr18.$width.maf$maf.excludeTarget.jlso\"\n",
    "outfile = \"mendel.imputed.dp$width.maf$maf.vcf.gz\"\n",
    "@time ph = phase(tgtfile, reffile, outfile=outfile, impute=true, width=width,\n",
    "    dynamic_programming = false, phase=true)\n",
    "\n",
    "X_complete = convert_gt(UInt8, \"target.chr18.full.vcf.gz\")\n",
    "n, p = size(X_complete)\n",
    "X_mendel = convert_gt(UInt8, outfile)\n",
    "println(\"error overall = $(sum(X_mendel .!= X_complete) / n / p) \\n\")"
   ]
  },
  {
   "cell_type": "markdown",
   "metadata": {},
   "source": [
    "# Ultra compressed output"
   ]
  },
  {
   "cell_type": "code",
   "execution_count": 6,
   "metadata": {
    "collapsed": false
   },
   "outputs": [
    {
     "name": "stdout",
     "output_type": "stream",
     "text": [
      "Number of threads = 8\n",
      "Importing reference haplotype data...\n",
      "Total windows = 2367, averaging ~ 527 unique haplotypes per window.\n",
      "\n",
      "Timings: \n",
      "    Data import                     = 15.7743 seconds\n",
      "        import target data             = 3.88648 seconds\n",
      "        import compressed haplotypes   = 11.8878 seconds\n",
      "    Computing haplotype pair        = 4.2701 seconds\n",
      "        BLAS3 mul! to get M and N      = 0.331793 seconds per thread\n",
      "        haplopair search               = 3.49273 seconds per thread\n",
      "        initializing missing           = 0.0225607 seconds per thread\n",
      "        allocating and viewing         = 0.0592994 seconds per thread\n",
      "        index conversion               = 0.00190718 seconds per thread\n",
      "    Phasing by win-win intersection = 1.60634 seconds\n",
      "        Window-by-window intersection  = 0.0996143 seconds per thread\n",
      "        Breakpoint search              = 1.05511 seconds per thread\n",
      "        Recording result               = 0.0110744 seconds per thread\n",
      "    Imputation                     = 2.9571 seconds\n",
      "        Imputing missing               = 0.0794888 seconds\n",
      "        Writing to file                = 2.87761 seconds\n",
      "\n",
      "    Total time                      = 24.6088 seconds\n",
      "\n",
      " 24.608961 seconds (66.66 M allocations: 4.629 GiB, 10.72% gc time)\n"
     ]
    },
    {
     "name": "stderr",
     "output_type": "stream",
     "text": [
      "\u001b[32mimporting H100%|████████████████████████████████████████| Time: 0:04:07\u001b[39m\n"
     ]
    },
    {
     "name": "stdout",
     "output_type": "stream",
     "text": [
      "error overall = 0.005259159607882693 \n",
      "\n"
     ]
    }
   ],
   "source": [
    "# 8 threads, d = 1000, keep best happair\n",
    "Random.seed!(2020)\n",
    "chr = 18\n",
    "maf = 0.1\n",
    "d = 1000\n",
    "tgtfile = \"target.chr$chr.typedOnly.maf$maf.masked.vcf.gz\"\n",
    "reffile = \"ref.chr18.maxd$d.maf$maf.excludeTarget.jlso\"\n",
    "outfile = \"mendel.imputed.jlso\"\n",
    "@time ph = phase(tgtfile, reffile, outfile=outfile, impute=true, max_d = d,\n",
    "    phase = true);\n",
    "\n",
    "X_complete = convert_gt(UInt8, \"target.chr18.full.vcf.gz\", trans=true)\n",
    "H = convert_ht(Bool, \"ref.chr18.excludeTarget.vcf.gz\", trans=true, msg=\"importing H\")\n",
    "n, p = size(X_complete)\n",
    "X1, X2 = convert_compressed(UInt8, ph, H)\n",
    "X_mendel = X1 + X2\n",
    "println(\"error overall = $(sum(X_mendel .!= X_complete) / n / p) \\n\")\n",
    "# rm(outfile, force=true)"
   ]
  },
  {
   "cell_type": "code",
   "execution_count": 7,
   "metadata": {
    "collapsed": false
   },
   "outputs": [
    {
     "name": "stdout",
     "output_type": "stream",
     "text": [
      "-rw-r--r--  1 biona001  staff  983248 Sep  7 14:40 mendel.imputed.jlso\n"
     ]
    }
   ],
   "source": [
    ";ls -al mendel.imputed.jlso"
   ]
  },
  {
   "cell_type": "code",
   "execution_count": 8,
   "metadata": {
    "collapsed": false
   },
   "outputs": [
    {
     "name": "stdout",
     "output_type": "stream",
     "text": [
      "-rw-r--r--  1 biona001  staff  17876617 Sep  7 14:36 mendel.imputed.vcf.gz\n"
     ]
    }
   ],
   "source": [
    ";ls -al mendel.imputed.vcf.gz"
   ]
  },
  {
   "cell_type": "code",
   "execution_count": 9,
   "metadata": {
    "collapsed": false
   },
   "outputs": [
    {
     "data": {
      "text/plain": [
       "18.18118826582917"
      ]
     },
     "execution_count": 9,
     "metadata": {},
     "output_type": "execute_result"
    }
   ],
   "source": [
    "17876617 / 983248"
   ]
  },
  {
   "cell_type": "markdown",
   "metadata": {},
   "source": [
    "# Minimum window widths"
   ]
  },
  {
   "cell_type": "code",
   "execution_count": 11,
   "metadata": {
    "collapsed": false
   },
   "outputs": [
    {
     "name": "stdout",
     "output_type": "stream",
     "text": [
      "Number of threads = 8\n",
      "Importing reference haplotype data...\n",
      "Total windows = 2367, averaging ~ 527 unique haplotypes per window.\n",
      "\n",
      "Timings: \n",
      "    Data import                     = 16.692 seconds\n",
      "        import target data             = 4.87187 seconds\n",
      "        import compressed haplotypes   = 11.8201 seconds\n",
      "    Computing haplotype pair        = 4.26173 seconds\n",
      "        BLAS3 mul! to get M and N      = 0.321671 seconds per thread\n",
      "        haplopair search               = 3.45778 seconds per thread\n",
      "        initializing missing           = 0.0235874 seconds per thread\n",
      "        allocating and viewing         = 0.0624623 seconds per thread\n",
      "        index conversion               = 0.00164948 seconds per thread\n",
      "    Phasing by win-win intersection = 1.50478 seconds\n",
      "        Window-by-window intersection  = 0.100988 seconds per thread\n",
      "        Breakpoint search              = 1.11491 seconds per thread\n",
      "        Recording result               = 0.0143302 seconds per thread\n",
      "    Imputation                     = 2.47542 seconds\n",
      "        Imputing missing               = 0.999966 seconds\n",
      "        Writing to file                = 1.47545 seconds\n",
      "\n",
      "    Total time                      = 24.9351 seconds\n",
      "\n",
      " 24.931055 seconds (62.19 M allocations: 4.806 GiB, 15.69% gc time)\n",
      "error overall = 0.005259159607882693 \n",
      "\n"
     ]
    }
   ],
   "source": [
    "# 8 threads, global search, d = 1000, minwidth=0\n",
    "Random.seed!(2020)\n",
    "chr = 18\n",
    "maf = 0.1\n",
    "d = 1000\n",
    "tgtfile = \"target.chr$chr.typedOnly.maf$maf.masked.vcf.gz\"\n",
    "reffile = \"ref.chr18.maxd$d.maf$maf.excludeTarget.jlso\"\n",
    "outfile = \"mendel.imputed.vcf.gz\"\n",
    "@time ph = phase(tgtfile, reffile, outfile=outfile, impute=true, max_d=d,\n",
    "    phase = true);\n",
    "\n",
    "# X_complete = convert_gt(UInt8, \"target.chr18.full.vcf.gz\")\n",
    "n, p = size(X_complete)\n",
    "X_mendel = convert_gt(UInt8, outfile)\n",
    "println(\"error overall = $(sum(X_mendel .!= X_complete) / n / p) \\n\")\n",
    "# rm(outfile, force=true)"
   ]
  },
  {
   "cell_type": "code",
   "execution_count": 12,
   "metadata": {
    "collapsed": false
   },
   "outputs": [
    {
     "name": "stdout",
     "output_type": "stream",
     "text": [
      "Number of threads = 8\n",
      "Importing reference haplotype data...\n",
      "Total windows = 2351, averaging ~ 538 unique haplotypes per window.\n",
      "\n",
      "Timings: \n",
      "    Data import                     = 23.0568 seconds\n",
      "        import target data             = 5.07468 seconds\n",
      "        import compressed haplotypes   = 17.9821 seconds\n",
      "    Computing haplotype pair        = 5.33693 seconds\n",
      "        BLAS3 mul! to get M and N      = 0.333737 seconds per thread\n",
      "        haplopair search               = 3.69525 seconds per thread\n",
      "        initializing missing           = 0.0251059 seconds per thread\n",
      "        allocating and viewing         = 0.184637 seconds per thread\n",
      "        index conversion               = 0.00187568 seconds per thread\n",
      "    Phasing by win-win intersection = 1.53646 seconds\n",
      "        Window-by-window intersection  = 0.1011 seconds per thread\n",
      "        Breakpoint search              = 1.14021 seconds per thread\n",
      "        Recording result               = 0.0135461 seconds per thread\n",
      "    Imputation                     = 1.74412 seconds\n",
      "        Imputing missing               = 0.22515 seconds\n",
      "        Writing to file                = 1.51897 seconds\n",
      "\n",
      "    Total time                      = 31.6756 seconds\n",
      "\n",
      " 31.675214 seconds (62.95 M allocations: 5.066 GiB, 13.52% gc time)\n",
      "error overall = 0.005256720017077136 \n",
      "\n"
     ]
    }
   ],
   "source": [
    "# 8 threads, global search, d = 1000, minwidth=20\n",
    "Random.seed!(2020)\n",
    "chr = 18\n",
    "maf = 0.1\n",
    "d = 1000\n",
    "minwidth = 20\n",
    "tgtfile = \"target.chr$chr.typedOnly.maf$maf.masked.vcf.gz\"\n",
    "reffile = \"ref.chr18.maxd$d.minwidth$minwidth.maf$maf.excludeTarget.jlso\"\n",
    "outfile = \"mendel.imputed.vcf.gz\"\n",
    "@time ph = phase(tgtfile, reffile, outfile=outfile, impute=true, max_d=d,\n",
    "    phase = true);\n",
    "\n",
    "# X_complete = convert_gt(UInt8, \"target.chr18.full.vcf.gz\")\n",
    "n, p = size(X_complete)\n",
    "X_mendel = convert_gt(UInt8, outfile)\n",
    "println(\"error overall = $(sum(X_mendel .!= X_complete) / n / p) \\n\")\n",
    "# rm(outfile, force=true)"
   ]
  },
  {
   "cell_type": "code",
   "execution_count": 13,
   "metadata": {
    "collapsed": false
   },
   "outputs": [
    {
     "name": "stdout",
     "output_type": "stream",
     "text": [
      "Number of threads = 8\n",
      "Importing reference haplotype data...\n"
     ]
    },
    {
     "name": "stderr",
     "output_type": "stream",
     "text": [
      "\r",
      "\u001b[32mComputing optimal haplotypes... 86%|█████████████████▎  |  ETA: 0:00:01\u001b[39m\r",
      "\u001b[32mComputing optimal haplotypes...100%|████████████████████| Time: 0:00:07\u001b[39m\n"
     ]
    },
    {
     "name": "stdout",
     "output_type": "stream",
     "text": [
      "Total windows = 2197, averaging ~ 617 unique haplotypes per window.\n",
      "\n",
      "Timings: \n",
      "    Data import                     = 22.8615 seconds\n",
      "        import target data             = 4.60149 seconds\n",
      "        import compressed haplotypes   = 18.26 seconds\n",
      "    Computing haplotype pair        = 10.2344 seconds\n",
      "        BLAS3 mul! to get M and N      = 0.616452 seconds per thread\n",
      "        haplopair search               = 5.09131 seconds per thread\n",
      "        initializing missing           = 0.0247094 seconds per thread\n",
      "        allocating and viewing         = 0.377081 seconds per thread\n",
      "        index conversion               = 0.00195379 seconds per thread\n",
      "    Phasing by win-win intersection = 1.49597 seconds\n",
      "        Window-by-window intersection  = 0.0822384 seconds per thread\n",
      "        Breakpoint search              = 1.1307 seconds per thread\n",
      "        Recording result               = 0.0123139 seconds per thread\n",
      "    Imputation                     = 2.2685 seconds\n",
      "        Imputing missing               = 1.0251 seconds\n",
      "        Writing to file                = 1.2434 seconds\n",
      "\n",
      "    Total time                      = 36.8765 seconds\n",
      "\n",
      " 36.876442 seconds (62.36 M allocations: 5.413 GiB, 19.31% gc time)\n",
      "error overall = 0.005209570233238955 \n",
      "\n"
     ]
    }
   ],
   "source": [
    "# 8 threads, global search, d = 1000, minwidth=30\n",
    "Random.seed!(2020)\n",
    "chr = 18\n",
    "maf = 0.1\n",
    "d = 1000\n",
    "minwidth = 30\n",
    "tgtfile = \"target.chr$chr.typedOnly.maf$maf.masked.vcf.gz\"\n",
    "reffile = \"ref.chr18.maxd$d.minwidth$minwidth.maf$maf.excludeTarget.jlso\"\n",
    "outfile = \"mendel.imputed.vcf.gz\"\n",
    "@time ph = phase(tgtfile, reffile, outfile=outfile, impute=true, max_d=d,\n",
    "    phase = true);\n",
    "\n",
    "# X_complete = convert_gt(UInt8, \"target.chr18.full.vcf.gz\")\n",
    "n, p = size(X_complete)\n",
    "X_mendel = convert_gt(UInt8, outfile)\n",
    "println(\"error overall = $(sum(X_mendel .!= X_complete) / n / p) \\n\")\n",
    "# rm(outfile, force=true)"
   ]
  },
  {
   "cell_type": "code",
   "execution_count": 14,
   "metadata": {
    "collapsed": false
   },
   "outputs": [
    {
     "name": "stdout",
     "output_type": "stream",
     "text": [
      "Number of threads = 8\n",
      "Importing reference haplotype data...\n"
     ]
    },
    {
     "name": "stderr",
     "output_type": "stream",
     "text": [
      "\u001b[32mComputing optimal haplotypes...100%|████████████████████| Time: 0:00:17\u001b[39m\n"
     ]
    },
    {
     "name": "stdout",
     "output_type": "stream",
     "text": [
      "Total windows = 1715, averaging ~ 902 unique haplotypes per window.\n",
      "\n",
      "Timings: \n",
      "    Data import                     = 17.6011 seconds\n",
      "        import target data             = 4.61148 seconds\n",
      "        import compressed haplotypes   = 12.9896 seconds\n",
      "    Computing haplotype pair        = 20.3727 seconds\n",
      "        BLAS3 mul! to get M and N      = 1.18181 seconds per thread\n",
      "        haplopair search               = 9.50708 seconds per thread\n",
      "        initializing missing           = 0.025314 seconds per thread\n",
      "        allocating and viewing         = 0.426595 seconds per thread\n",
      "        index conversion               = 0.00288651 seconds per thread\n",
      "    Phasing by win-win intersection = 2.24203 seconds\n",
      "        Window-by-window intersection  = 0.0527586 seconds per thread\n",
      "        Breakpoint search              = 1.88314 seconds per thread\n",
      "        Recording result               = 0.0110326 seconds per thread\n",
      "    Imputation                     = 2.2735 seconds\n",
      "        Imputing missing               = 0.860964 seconds\n",
      "        Writing to file                = 1.41254 seconds\n",
      "\n",
      "    Total time                      = 42.4905 seconds\n",
      "\n",
      " 42.490518 seconds (61.21 M allocations: 5.328 GiB, 14.22% gc time)\n",
      "error overall = 0.005169375628957005 \n",
      "\n"
     ]
    }
   ],
   "source": [
    "# 8 threads, global search, d = 1000, minwidth=50\n",
    "Random.seed!(2020)\n",
    "chr = 18\n",
    "maf = 0.1\n",
    "d = 1000\n",
    "minwidth = 50\n",
    "tgtfile = \"target.chr$chr.typedOnly.maf$maf.masked.vcf.gz\"\n",
    "reffile = \"ref.chr18.maxd$d.minwidth$minwidth.maf$maf.excludeTarget.jlso\"\n",
    "outfile = \"mendel.imputed.vcf.gz\"\n",
    "@time ph = phase(tgtfile, reffile, outfile=outfile, impute=true, max_d=d,\n",
    "    phase = true);\n",
    "\n",
    "# X_complete = convert_gt(UInt8, \"target.chr18.full.vcf.gz\")\n",
    "n, p = size(X_complete)\n",
    "X_mendel = convert_gt(UInt8, outfile)\n",
    "println(\"error overall = $(sum(X_mendel .!= X_complete) / n / p) \\n\")\n",
    "# rm(outfile, force=true)"
   ]
  },
  {
   "cell_type": "markdown",
   "metadata": {},
   "source": [
    "# Overlapping windows"
   ]
  },
  {
   "cell_type": "code",
   "execution_count": 5,
   "metadata": {
    "collapsed": false,
    "scrolled": false
   },
   "outputs": [
    {
     "name": "stdout",
     "output_type": "stream",
     "text": [
      "Number of threads = 8\n",
      "Importing reference haplotype data...\n"
     ]
    },
    {
     "name": "stderr",
     "output_type": "stream",
     "text": [
      "\u001b[32mImporting genotype file...100%|█████████████████████████| Time: 0:00:05\u001b[39m\n"
     ]
    },
    {
     "name": "stdout",
     "output_type": "stream",
     "text": [
      "Total windows = 2367, averaging ~ 527 unique haplotypes per window.\n",
      "\n",
      "Timings: \n",
      "    Data import                     = 23.4574 seconds\n",
      "        import target data             = 5.23924 seconds\n",
      "        import compressed haplotypes   = 18.2182 seconds\n",
      "    Computing haplotype pair        = 4.53151 seconds\n",
      "        BLAS3 mul! to get M and N      = 0.380729 seconds per thread\n",
      "        haplopair search               = 3.64957 seconds per thread\n",
      "        initializing missing           = 0.0240004 seconds per thread\n",
      "        allocating and viewing         = 0.0684376 seconds per thread\n",
      "        index conversion               = 0.00326528 seconds per thread\n",
      "    Phasing by win-win intersection = 1.41532 seconds\n",
      "        Window-by-window intersection  = 0.105019 seconds per thread\n",
      "        Breakpoint search              = 1.06294 seconds per thread\n",
      "        Recording result               = 0.0144047 seconds per thread\n",
      "    Imputation                     = 2.3351 seconds\n",
      "        Imputing missing               = 1.08188 seconds\n",
      "        Writing to file                = 1.25321 seconds\n",
      "\n",
      "    Total time                      = 31.7406 seconds\n",
      "\n",
      "overlap 0.0 error = 0.005259159607882693 \n",
      "\n",
      "Number of threads = 8\n",
      "Importing reference haplotype data...\n"
     ]
    },
    {
     "name": "stderr",
     "output_type": "stream",
     "text": [
      "\u001b[32mComputing optimal haplotypes...100%|████████████████████| Time: 0:00:09\u001b[39m\n"
     ]
    },
    {
     "name": "stdout",
     "output_type": "stream",
     "text": [
      "Total windows = 2367, averaging ~ 734 unique haplotypes per window.\n",
      "\n",
      "Timings: \n",
      "    Data import                     = 22.9327 seconds\n",
      "        import target data             = 4.59166 seconds\n",
      "        import compressed haplotypes   = 18.341 seconds\n",
      "    Computing haplotype pair        = 11.1601 seconds\n",
      "        BLAS3 mul! to get M and N      = 0.775174 seconds per thread\n",
      "        haplopair search               = 7.77059 seconds per thread\n",
      "        initializing missing           = 0.0300363 seconds per thread\n",
      "        allocating and viewing         = 0.338323 seconds per thread\n",
      "        index conversion               = 0.00296176 seconds per thread\n",
      "    Phasing by win-win intersection = 2.00624 seconds\n",
      "        Window-by-window intersection  = 0.0857522 seconds per thread\n",
      "        Breakpoint search              = 1.76 seconds per thread\n",
      "        Recording result               = 0.014369 seconds per thread\n",
      "    Imputation                     = 2.88384 seconds\n",
      "        Imputing missing               = 0.21867 seconds\n",
      "        Writing to file                = 2.66517 seconds\n",
      "\n",
      "    Total time                      = 38.9841 seconds\n",
      "\n",
      "overlap 0.1 error = 0.0051601450618225155 \n",
      "\n",
      "Number of threads = 8\n",
      "Importing reference haplotype data...\n"
     ]
    },
    {
     "name": "stderr",
     "output_type": "stream",
     "text": [
      "\u001b[32mComputing optimal haplotypes...100%|████████████████████| Time: 0:00:21\u001b[39m\n"
     ]
    },
    {
     "name": "stdout",
     "output_type": "stream",
     "text": [
      "Total windows = 2367, averaging ~ 1059 unique haplotypes per window.\n",
      "\n",
      "Timings: \n",
      "    Data import                     = 21.1849 seconds\n",
      "        import target data             = 4.79981 seconds\n",
      "        import compressed haplotypes   = 16.3851 seconds\n",
      "    Computing haplotype pair        = 23.43 seconds\n",
      "        BLAS3 mul! to get M and N      = 2.21146 seconds per thread\n",
      "        haplopair search               = 17.5658 seconds per thread\n",
      "        initializing missing           = 0.0387842 seconds per thread\n",
      "        allocating and viewing         = 0.524572 seconds per thread\n",
      "        index conversion               = 0.00475071 seconds per thread\n",
      "    Phasing by win-win intersection = 1.76297 seconds\n",
      "        Window-by-window intersection  = 0.0602452 seconds per thread\n",
      "        Breakpoint search              = 1.52317 seconds per thread\n",
      "        Recording result               = 0.0145165 seconds per thread\n",
      "    Imputation                     = 2.34634 seconds\n",
      "        Imputing missing               = 1.02221 seconds\n",
      "        Writing to file                = 1.32413 seconds\n",
      "\n",
      "    Total time                      = 48.7254 seconds\n",
      "\n",
      "overlap 0.25 error = 0.005138528879829041 \n",
      "\n",
      "Number of threads = 8\n",
      "Importing reference haplotype data...\n"
     ]
    },
    {
     "name": "stderr",
     "output_type": "stream",
     "text": [
      "\u001b[32mComputing optimal haplotypes...100%|████████████████████| Time: 0:00:47\u001b[39m\n"
     ]
    },
    {
     "name": "stdout",
     "output_type": "stream",
     "text": [
      "Total windows = 2367, averaging ~ 1593 unique haplotypes per window.\n",
      "\n",
      "Timings: \n",
      "    Data import                     = 24.5372 seconds\n",
      "        import target data             = 4.77399 seconds\n",
      "        import compressed haplotypes   = 19.7632 seconds\n",
      "    Computing haplotype pair        = 50.4585 seconds\n",
      "        BLAS3 mul! to get M and N      = 6.07232 seconds per thread\n",
      "        haplopair search               = 39.456 seconds per thread\n",
      "        initializing missing           = 0.0527969 seconds per thread\n",
      "        allocating and viewing         = 0.792506 seconds per thread\n",
      "        index conversion               = 0.00632086 seconds per thread\n",
      "    Phasing by win-win intersection = 1.81898 seconds\n",
      "        Window-by-window intersection  = 0.0360357 seconds per thread\n",
      "        Breakpoint search              = 1.63553 seconds per thread\n",
      "        Recording result               = 0.0128104 seconds per thread\n",
      "    Imputation                     = 2.41322 seconds\n",
      "        Imputing missing               = 0.929595 seconds\n",
      "        Writing to file                = 1.48362 seconds\n",
      "\n",
      "    Total time                      = 79.2291 seconds\n",
      "\n",
      "overlap 0.5 error = 0.005149249004811155 \n",
      "\n",
      "Number of threads = 8\n",
      "Importing reference haplotype data...\n"
     ]
    },
    {
     "name": "stderr",
     "output_type": "stream",
     "text": [
      "\u001b[32mComputing optimal haplotypes...100%|████████████████████| Time: 0:01:29\u001b[39m\n"
     ]
    },
    {
     "name": "stdout",
     "output_type": "stream",
     "text": [
      "Total windows = 2367, averaging ~ 2099 unique haplotypes per window.\n",
      "\n",
      "Timings: \n",
      "    Data import                     = 20.5885 seconds\n",
      "        import target data             = 4.75614 seconds\n",
      "        import compressed haplotypes   = 15.8323 seconds\n",
      "    Computing haplotype pair        = 92.3361 seconds\n",
      "        BLAS3 mul! to get M and N      = 12.8246 seconds per thread\n",
      "        haplopair search               = 72.2983 seconds per thread\n",
      "        initializing missing           = 0.0705915 seconds per thread\n",
      "        allocating and viewing         = 1.16329 seconds per thread\n",
      "        index conversion               = 0.00620707 seconds per thread\n",
      "    Phasing by win-win intersection = 2.21282 seconds\n",
      "        Window-by-window intersection  = 0.0263918 seconds per thread\n",
      "        Breakpoint search              = 2.01263 seconds per thread\n",
      "        Recording result               = 0.0134365 seconds per thread\n",
      "    Imputation                     = 2.66718 seconds\n",
      "        Imputing missing               = 0.988753 seconds\n",
      "        Writing to file                = 1.67843 seconds\n",
      "\n",
      "    Total time                      = 117.806 seconds\n",
      "\n",
      "overlap 0.75 error = 0.00530363522487632 \n",
      "\n",
      "Number of threads = 8\n",
      "Importing reference haplotype data...\n"
     ]
    },
    {
     "name": "stderr",
     "output_type": "stream",
     "text": [
      "\u001b[32mComputing optimal haplotypes...100%|████████████████████| Time: 0:02:15\u001b[39m\n"
     ]
    },
    {
     "name": "stdout",
     "output_type": "stream",
     "text": [
      "Total windows = 2367, averaging ~ 2542 unique haplotypes per window.\n",
      "\n",
      "Timings: \n",
      "    Data import                     = 19.8248 seconds\n",
      "        import target data             = 4.70737 seconds\n",
      "        import compressed haplotypes   = 15.1175 seconds\n",
      "    Computing haplotype pair        = 138.896 seconds\n",
      "        BLAS3 mul! to get M and N      = 20.6037 seconds per thread\n",
      "        haplopair search               = 108.035 seconds per thread\n",
      "        initializing missing           = 0.0885541 seconds per thread\n",
      "        allocating and viewing         = 1.66364 seconds per thread\n",
      "        index conversion               = 0.00720214 seconds per thread\n",
      "    Phasing by win-win intersection = 2.29939 seconds\n",
      "        Window-by-window intersection  = 0.0217813 seconds per thread\n",
      "        Breakpoint search              = 2.13475 seconds per thread\n",
      "        Recording result               = 0.014543 seconds per thread\n",
      "    Imputation                     = 2.94009 seconds\n",
      "        Imputing missing               = 1.13223 seconds\n",
      "        Writing to file                = 1.80786 seconds\n",
      "\n",
      "    Total time                      = 163.962 seconds\n",
      "\n",
      "overlap 1.0 error = 0.00551579752334618 \n",
      "\n"
     ]
    }
   ],
   "source": [
    "function overlap_run()\n",
    "    chr = 18\n",
    "    maf = 0.1\n",
    "    max_d = 1000\n",
    "    X_complete = convert_gt(UInt8, \"target.chr$chr.full.vcf.gz\")\n",
    "    n, p = size(X_complete)\n",
    "    for overlap in [0.0, 0.1, 0.25, 0.5, 0.75, 1.0]\n",
    "        tgtfile = \"target.chr$chr.typedOnly.maf$maf.masked.vcf.gz\"\n",
    "        reffile = \"ref.chr18.maxd$max_d.overlap$overlap.maf$maf.excludeTarget.jlso\"\n",
    "        outfile = \"mendel.imputed.chr$chr.vcf.gz\"\n",
    "\n",
    "        ph = phase(tgtfile, reffile, outfile=outfile, impute=true, max_d=max_d, phase=true)\n",
    "        X_mendel = convert_gt(UInt8, outfile)\n",
    "        println(\"overlap $overlap error = $(sum(X_mendel .!= X_complete) / n / p) \\n\")\n",
    "        flush(stdout)\n",
    "    end\n",
    "end\n",
    "Random.seed!(2020)\n",
    "overlap_run()"
   ]
  },
  {
   "cell_type": "markdown",
   "metadata": {},
   "source": [
    "# Haplotype rescreening\n",
    "\n",
    "This is enabled by the \"rescreen\" option. This option saves a number of top haplotype pairs when solving the least squares objective, and re-minimize least squares on just observed data."
   ]
  },
  {
   "cell_type": "code",
   "execution_count": 3,
   "metadata": {
    "collapsed": false
   },
   "outputs": [
    {
     "name": "stdout",
     "output_type": "stream",
     "text": [
      "Importing reference haplotype data...\n"
     ]
    },
    {
     "name": "stderr",
     "output_type": "stream",
     "text": [
      "\u001b[32mPhasing chunk 1/1...100%|███████████████████████████████| Time: 0:05:41\u001b[39m\n",
      "\u001b[32mWriting to file...100%|█████████████████████████████████| Time: 0:00:05\u001b[39m\n"
     ]
    },
    {
     "name": "stdout",
     "output_type": "stream",
     "text": [
      "Total windows = 331, averaging ~ 4096 unique haplotypes per window.\n",
      "\n",
      "Timings: \n",
      "    Data import                     = 9.55672 seconds\n",
      "    Computing haplotype pair        = 341.232 seconds\n",
      "        BLAS3 mul! to get M and N      = 8.06296 seconds per thread\n",
      "        haplopair search               = 33.8217 seconds per thread\n",
      "        min least sq on observed data  = 0.232213 seconds per thread\n",
      "        finding redundant happairs     = 0.00460313 seconds per thread\n",
      "    Phasing by win-win intersection = 0.097636 seconds\n",
      "    Imputation                      = 6.46035 seconds\n",
      "\n",
      "357.448572 seconds (52.97 M allocations: 29.080 GiB, 1.11% gc time)\n",
      "error overall = 0.006447486635030178 \n",
      "\n"
     ]
    }
   ],
   "source": [
    "# 8 threads, keep best happair\n",
    "Random.seed!(2020)\n",
    "chr = 18\n",
    "maf = 0.1\n",
    "width = 512\n",
    "tgtfile = \"target.chr$chr.typedOnly.maf$maf.masked.vcf.gz\"\n",
    "reffile = \"ref.chr18.$width.maf$maf.excludeTarget.jlso\"\n",
    "outfile = \"mendel.imputed.dp$width.maf$maf.vcf.gz\"\n",
    "@time ph = phase(tgtfile, reffile, outfile=outfile, impute=true, width=width,\n",
    "    dynamic_programming = false, rescreen=true)\n",
    "\n",
    "X_complete = convert_gt(UInt8, \"target.chr18.full.vcf.gz\")\n",
    "n, p = size(X_complete)\n",
    "X_mendel = convert_gt(UInt8, outfile)\n",
    "println(\"error overall = $(sum(X_mendel .!= X_complete) / n / p) \\n\")"
   ]
  },
  {
   "cell_type": "markdown",
   "metadata": {},
   "source": [
    "# Haplotype Thinning\n",
    "\n",
    "This is enabled by setting \"thinning_factor\" to some constant. This option solves the least squares objective on only \"thining_factor\" unique haplotypes."
   ]
  },
  {
   "cell_type": "code",
   "execution_count": 2,
   "metadata": {
    "collapsed": false,
    "scrolled": true
   },
   "outputs": [
    {
     "data": {
      "text/plain": [
       "8"
      ]
     },
     "execution_count": 2,
     "metadata": {},
     "output_type": "execute_result"
    }
   ],
   "source": [
    "Threads.nthreads()"
   ]
  },
  {
   "cell_type": "code",
   "execution_count": 14,
   "metadata": {
    "collapsed": false
   },
   "outputs": [
    {
     "name": "stdout",
     "output_type": "stream",
     "text": [
      "Importing reference haplotype data...\n"
     ]
    },
    {
     "name": "stderr",
     "output_type": "stream",
     "text": [
      "\u001b[32mWriting to file...100%|█████████████████████████████████| Time: 0:00:05\u001b[39m\n"
     ]
    },
    {
     "name": "stdout",
     "output_type": "stream",
     "text": [
      "Total windows = 331, averaging ~ 4096 unique haplotypes per window.\n",
      "\n",
      "Timings: \n",
      "    Data import                     = 9.54492 seconds\n",
      "    Computing haplotype pair        = 3.22873 seconds\n",
      "        computing dist(X, H)           = 0.359715 seconds per thread\n",
      "        BLAS3 mul! to get M and N      = 1.43287 seconds per thread\n",
      "        haplopair search               = 0.0432943 seconds per thread\n",
      "        finding redundant happairs     = 0.00209051 seconds per thread\n",
      "    Phasing by dynamic programming  = 0.00814605 seconds\n",
      "    Imputation                      = 5.61724 seconds\n",
      "\n",
      " 18.537449 seconds (52.94 M allocations: 8.139 GiB, 10.27% gc time)\n",
      "error overall = 0.011923793282211395 \n",
      "\n"
     ]
    }
   ],
   "source": [
    "# 8 threads, not scaling by freq\n",
    "Random.seed!(2020)\n",
    "chr = 18\n",
    "maf = 0.1\n",
    "width = 512\n",
    "tgtfile = \"target.chr$chr.typedOnly.maf$maf.masked.vcf.gz\"\n",
    "reffile = \"ref.chr18.$width.maf$maf.excludeTarget.jlso\"\n",
    "outfile = \"mendel.imputed.dp$width.maf$maf.vcf.gz\"\n",
    "@time ph, hs = phase(tgtfile, reffile, outfile=outfile, impute=true, width=width, \n",
    "    thinning_factor=100, max_haplotypes = 100)\n",
    "\n",
    "X_complete = convert_gt(UInt8, \"target.chr18.full.vcf.gz\")\n",
    "n, p = size(X_complete)\n",
    "X_mendel = convert_gt(UInt8, outfile)\n",
    "println(\"error overall = $(sum(X_mendel .!= X_complete) / n / p) \\n\")"
   ]
  },
  {
   "cell_type": "code",
   "execution_count": 16,
   "metadata": {
    "collapsed": false
   },
   "outputs": [
    {
     "name": "stdout",
     "output_type": "stream",
     "text": [
      "Importing reference haplotype data...\n"
     ]
    },
    {
     "name": "stderr",
     "output_type": "stream",
     "text": [
      "\u001b[32mWriting to file...100%|█████████████████████████████████| Time: 0:00:05\u001b[39m\n"
     ]
    },
    {
     "name": "stdout",
     "output_type": "stream",
     "text": [
      "Total windows = 331, averaging ~ 4096 unique haplotypes per window.\n",
      "\n",
      "Timings: \n",
      "    Data import                     = 9.23721 seconds\n",
      "    Computing haplotype pair        = 3.19395 seconds\n",
      "        computing dist(X, H)           = 0.344292 seconds per thread\n",
      "        BLAS3 mul! to get M and N      = 1.44139 seconds per thread\n",
      "        haplopair search               = 0.0417762 seconds per thread\n",
      "        finding redundant happairs     = 0.00218276 seconds per thread\n",
      "    Phasing by dynamic programming  = 0.0077219 seconds\n",
      "    Imputation                      = 5.57712 seconds\n",
      "\n",
      " 18.134003 seconds (53.35 M allocations: 8.293 GiB, 10.24% gc time)\n",
      "error overall = 0.012110058385976105 \n",
      "\n"
     ]
    }
   ],
   "source": [
    "# 8 threads, scaling by 1/(2p(1-p))\n",
    "Random.seed!(2020)\n",
    "chr = 18\n",
    "maf = 0.1\n",
    "width = 512\n",
    "tgtfile = \"target.chr$chr.typedOnly.maf$maf.masked.vcf.gz\"\n",
    "reffile = \"ref.chr18.$width.maf$maf.excludeTarget.jlso\"\n",
    "outfile = \"mendel.imputed.dp$width.maf$maf.vcf.gz\"\n",
    "@time ph = phase(tgtfile, reffile, outfile=outfile, impute=true, width=width, \n",
    "    thinning_factor=100, thinning_scale_allelefreq=true, max_haplotypes = 100)\n",
    "\n",
    "# X_complete = convert_gt(UInt8, \"target.chr18.full.vcf.gz\")\n",
    "n, p = size(X_complete)\n",
    "X_mendel = convert_gt(UInt8, outfile)\n",
    "println(\"error overall = $(sum(X_mendel .!= X_complete) / n / p) \\n\")"
   ]
  },
  {
   "cell_type": "code",
   "execution_count": 17,
   "metadata": {
    "collapsed": false
   },
   "outputs": [
    {
     "name": "stdout",
     "output_type": "stream",
     "text": [
      "Importing reference haplotype data...\n"
     ]
    },
    {
     "name": "stderr",
     "output_type": "stream",
     "text": [
      "\u001b[32mWriting to file...100%|█████████████████████████████████| Time: 0:00:05\u001b[39m\n"
     ]
    },
    {
     "name": "stdout",
     "output_type": "stream",
     "text": [
      "Total windows = 331, averaging ~ 4096 unique haplotypes per window.\n",
      "\n",
      "Timings: \n",
      "    Data import                     = 9.97356 seconds\n",
      "    Computing haplotype pair        = 3.45103 seconds\n",
      "        computing dist(X, H)           = 0.386598 seconds per thread\n",
      "        BLAS3 mul! to get M and N      = 1.47565 seconds per thread\n",
      "        haplopair search               = 0.0429367 seconds per thread\n",
      "        finding redundant happairs     = 0.00221398 seconds per thread\n",
      "    Phasing by dynamic programming  = 0.00787711 seconds\n",
      "    Imputation                      = 5.71789 seconds\n",
      "\n",
      " 19.249530 seconds (53.34 M allocations: 8.292 GiB, 10.50% gc time)\n",
      "error overall = 0.012115289431645715 \n",
      "\n"
     ]
    }
   ],
   "source": [
    "# 8 threads, scaling by 1/p\n",
    "Random.seed!(2020)\n",
    "chr = 18\n",
    "maf = 0.1\n",
    "width = 512\n",
    "tgtfile = \"target.chr$chr.typedOnly.maf$maf.masked.vcf.gz\"\n",
    "reffile = \"ref.chr18.$width.maf$maf.excludeTarget.jlso\"\n",
    "outfile = \"mendel.imputed.dp$width.maf$maf.vcf.gz\"\n",
    "@time ph = phase(tgtfile, reffile, outfile=outfile, impute=true, width=width, \n",
    "    thinning_factor=100, thinning_scale_allelefreq=true, max_haplotypes = 100)\n",
    "\n",
    "# X_complete = convert_gt(UInt8, \"target.chr18.full.vcf.gz\")\n",
    "n, p = size(X_complete)\n",
    "X_mendel = convert_gt(UInt8, outfile)\n",
    "println(\"error overall = $(sum(X_mendel .!= X_complete) / n / p) \\n\")"
   ]
  },
  {
   "cell_type": "code",
   "execution_count": 20,
   "metadata": {
    "collapsed": false
   },
   "outputs": [
    {
     "name": "stdout",
     "output_type": "stream",
     "text": [
      "Importing reference haplotype data...\n"
     ]
    },
    {
     "name": "stderr",
     "output_type": "stream",
     "text": [
      "\u001b[32mPhasing chunk 1/1...100%|███████████████████████████████| Time: 0:00:05\u001b[39m\n",
      "\u001b[32mWriting to file...100%|█████████████████████████████████| Time: 0:00:05\u001b[39m\n"
     ]
    },
    {
     "name": "stdout",
     "output_type": "stream",
     "text": [
      "Total windows = 331, averaging ~ 4096 unique haplotypes per window.\n",
      "\n",
      "Timings: \n",
      "    Data import                     = 10.3302 seconds\n",
      "    Computing haplotype pair        = 5.41888 seconds\n",
      "        computing dist(X, H)           = 0.356879 seconds per thread\n",
      "        BLAS3 mul! to get M and N      = 3.14795 seconds per thread\n",
      "        haplopair search               = 0.157715 seconds per thread\n",
      "        finding redundant happairs     = 0.00229817 seconds per thread\n",
      "    Phasing by dynamic programming  = 0.0103331 seconds\n",
      "    Imputation                      = 5.91353 seconds\n",
      "\n",
      " 21.780103 seconds (52.92 M allocations: 8.239 GiB, 11.42% gc time)\n",
      "error overall = 0.010622494434683475 \n",
      "\n"
     ]
    }
   ],
   "source": [
    "# 8 threads, scaling by 1-p\n",
    "Random.seed!(2020)\n",
    "chr = 18\n",
    "maf = 0.1\n",
    "width = 512\n",
    "tgtfile = \"target.chr$chr.typedOnly.maf$maf.masked.vcf.gz\"\n",
    "reffile = \"ref.chr18.$width.maf$maf.excludeTarget.jlso\"\n",
    "outfile = \"mendel.imputed.dp$width.maf$maf.vcf.gz\"\n",
    "@time ph = phase(tgtfile, reffile, outfile=outfile, impute=true, width=width, \n",
    "    thinning_factor=100, thinning_scale_allelefreq=true, max_haplotypes = 100)\n",
    "\n",
    "# X_complete = convert_gt(UInt8, \"target.chr18.full.vcf.gz\")\n",
    "n, p = size(X_complete)\n",
    "X_mendel = convert_gt(UInt8, outfile)\n",
    "println(\"error overall = $(sum(X_mendel .!= X_complete) / n / p) \\n\")"
   ]
  },
  {
   "cell_type": "code",
   "execution_count": 19,
   "metadata": {
    "collapsed": false
   },
   "outputs": [
    {
     "name": "stdout",
     "output_type": "stream",
     "text": [
      "Importing reference haplotype data...\n"
     ]
    },
    {
     "name": "stderr",
     "output_type": "stream",
     "text": [
      "\u001b[32mWriting to file...100%|█████████████████████████████████| Time: 0:00:06\u001b[39m\n"
     ]
    },
    {
     "name": "stdout",
     "output_type": "stream",
     "text": [
      "Total windows = 331, averaging ~ 4096 unique haplotypes per window.\n",
      "\n",
      "Timings: \n",
      "    Data import                     = 9.85995 seconds\n",
      "    Computing haplotype pair        = 4.84689 seconds\n",
      "        computing dist(X, H)           = 0.340418 seconds per thread\n",
      "        BLAS3 mul! to get M and N      = 3.21735 seconds per thread\n",
      "        haplopair search               = 0.160892 seconds per thread\n",
      "        finding redundant happairs     = 0.00239908 seconds per thread\n",
      "    Phasing by dynamic programming  = 0.010365 seconds\n",
      "    Imputation                      = 7.81272 seconds\n",
      "\n",
      " 22.775795 seconds (52.84 M allocations: 8.369 GiB, 8.85% gc time)\n",
      "error overall = 0.010608314313126171 \n",
      "\n"
     ]
    }
   ],
   "source": [
    "# 8 threads, scaling by 1-p\n",
    "Random.seed!(2020)\n",
    "chr = 18\n",
    "maf = 0.1\n",
    "width = 512\n",
    "tgtfile = \"target.chr$chr.typedOnly.maf$maf.masked.vcf.gz\"\n",
    "reffile = \"ref.chr18.$width.maf$maf.excludeTarget.jlso\"\n",
    "outfile = \"mendel.imputed.dp$width.maf$maf.vcf.gz\"\n",
    "@time ph = phase(tgtfile, reffile, outfile=outfile, impute=true, width=width, \n",
    "    thinning_factor=200, thinning_scale_allelefreq=true, max_haplotypes = 100)\n",
    "\n",
    "# X_complete = convert_gt(UInt8, \"target.chr18.full.vcf.gz\")\n",
    "n, p = size(X_complete)\n",
    "X_mendel = convert_gt(UInt8, outfile)\n",
    "println(\"error overall = $(sum(X_mendel .!= X_complete) / n / p) \\n\")"
   ]
  },
  {
   "cell_type": "markdown",
   "metadata": {},
   "source": [
    "# Chunking"
   ]
  },
  {
   "cell_type": "code",
   "execution_count": 4,
   "metadata": {
    "collapsed": false
   },
   "outputs": [
    {
     "name": "stdout",
     "output_type": "stream",
     "text": [
      "Importing reference haplotype data...\n"
     ]
    },
    {
     "name": "stderr",
     "output_type": "stream",
     "text": [
      "\u001b[32mComputing haplotype pairs for chunk 1/17...100%|████████| Time: 0:00:05\u001b[39m\n",
      "\u001b[32mComputing haplotype pairs for chunk 10/17...100%|███████| Time: 0:00:05\u001b[39m\n",
      "\u001b[32mComputing haplotype pairs for chunk 13/17...100%|███████| Time: 0:00:05\u001b[39m\n",
      "\u001b[32mComputing haplotype pairs for chunk 16/17...100%|███████| Time: 0:00:06\u001b[39m\n",
      "\u001b[32mWriting to file...100%|█████████████████████████████████| Time: 0:00:06\u001b[39m\n"
     ]
    },
    {
     "name": "stdout",
     "output_type": "stream",
     "text": [
      "Total windows = 331, averaging ~ 4096 unique haplotypes per window.\n",
      "\n",
      "Timings: \n",
      "    Data import                     = 9.58859 seconds\n",
      "    Computing haplotype pair        = 80.8308 seconds\n",
      "        BLAS3 mul! to get M and N      = 8.3887 seconds per thread\n",
      "        haplopair search               = 46.2132 seconds per thread\n",
      "        finding redundant happairs     = 2.51446 seconds per thread\n",
      "    Phasing by win-win intersection = 0.0706799 seconds\n",
      "    Imputation                      = 6.71369 seconds\n",
      "\n",
      "120.304220 seconds (67.70 M allocations: 29.608 GiB, 3.67% gc time)\n",
      "error overall = 0.00644915212490705 \n",
      "\n"
     ]
    }
   ],
   "source": [
    "# 8 threads, num_windows_per_chunks = 20\n",
    "Random.seed!(2020)\n",
    "chr = 18\n",
    "maf = 0.1\n",
    "width = 512\n",
    "tgtfile = \"target.chr$chr.typedOnly.maf$maf.masked.vcf.gz\"\n",
    "reffile = \"ref.chr18.$width.maf$maf.excludeTarget.jlso\"\n",
    "outfile = \"mendel.imputed.dp$width.maf$maf.vcf.gz\"\n",
    "@time ph, hs = phase(tgtfile, reffile, outfile=outfile, impute=true, width=width,\n",
    "    dynamic_programming = false)\n",
    "\n",
    "X_complete = convert_gt(UInt8, \"target.chr18.full.vcf.gz\")\n",
    "n, p = size(X_complete)\n",
    "X_mendel = convert_gt(UInt8, outfile)\n",
    "println(\"error overall = $(sum(X_mendel .!= X_complete) / n / p) \\n\")"
   ]
  },
  {
   "cell_type": "code",
   "execution_count": 10,
   "metadata": {
    "collapsed": false
   },
   "outputs": [
    {
     "name": "stdout",
     "output_type": "stream",
     "text": [
      "Importing reference haplotype data...\n"
     ]
    },
    {
     "name": "stderr",
     "output_type": "stream",
     "text": [
      "\u001b[32mPhasing chunk 3/17...100%|██████████████████████████████| Time: 0:00:05\u001b[39m\n",
      "\u001b[32mWriting to file...100%|█████████████████████████████████| Time: 0:00:06\u001b[39m\n"
     ]
    },
    {
     "name": "stdout",
     "output_type": "stream",
     "text": [
      "Total windows = 331, averaging ~ 4096 unique haplotypes per window.\n",
      "\n",
      "Timings: \n",
      "    Data import                     = 10.967 seconds\n",
      "    Computing haplotype pair        = 72.1552 seconds\n",
      "        BLAS3 mul! to get M and N      = 9.06695 seconds per thread\n",
      "        haplopair search               = 46.6832 seconds per thread\n",
      "        finding redundant happairs     = 1.885 seconds per thread\n",
      "    Phasing by win-win intersection = 1.99925 seconds\n",
      "    Imputation                      = 6.80302 seconds\n",
      "\n",
      "123.262407 seconds (68.50 M allocations: 29.626 GiB, 4.41% gc time)\n",
      "error overall = 0.00644915212490705 \n",
      "\n"
     ]
    }
   ],
   "source": [
    "# 8 threads, num_windows_per_chunks = 20\n",
    "Random.seed!(2020)\n",
    "chr = 18\n",
    "maf = 0.1\n",
    "width = 512\n",
    "tgtfile = \"target.chr$chr.typedOnly.maf$maf.masked.vcf.gz\"\n",
    "reffile = \"ref.chr18.$width.maf$maf.excludeTarget.jlso\"\n",
    "outfile = \"mendel.imputed.dp$width.maf$maf.vcf.gz\"\n",
    "@time ph, hs = phase(tgtfile, reffile, outfile=outfile, impute=true, width=width,\n",
    "    dynamic_programming = false)\n",
    "\n",
    "X_complete = convert_gt(UInt8, \"target.chr18.full.vcf.gz\")\n",
    "n, p = size(X_complete)\n",
    "X_mendel = convert_gt(UInt8, outfile)\n",
    "println(\"error overall = $(sum(X_mendel .!= X_complete) / n / p) \\n\")"
   ]
  },
  {
   "cell_type": "markdown",
   "metadata": {},
   "source": [
    "# Beagle 5.0"
   ]
  },
  {
   "cell_type": "code",
   "execution_count": null,
   "metadata": {
    "collapsed": true
   },
   "outputs": [],
   "source": [
    "# convert vcf.gz to bref3\n",
    "java -jar ./bref3.18May20.d20.jar ref.chr18.excludeTarget.vcf.gz > ref.chr18.excludeTarget.bref3"
   ]
  },
  {
   "cell_type": "code",
   "execution_count": 2,
   "metadata": {
    "collapsed": false
   },
   "outputs": [
    {
     "name": "stdout",
     "output_type": "stream",
     "text": [
      "beagle.18May20.d20.jar (version 5.1)\n",
      "Copyright (C) 2014-2018 Brian L. Browning\n",
      "Enter \"java -jar beagle.18May20.d20.jar\" to list command line argument\n",
      "Start time: 11:58 AM PDT on 30 Jun 2020\n",
      "\n",
      "Command line: java -Xmx3641m -jar beagle.18May20.d20.jar\n",
      "  gt=target.chr18.typedOnly.maf0.1.masked.vcf.gz\n",
      "  ref=ref.chr18.excludeTarget.bref3\n",
      "  out=beagle.chr18.result\n",
      "  nthreads=8\n",
      "\n",
      "No genetic map is specified: using 1 cM = 1 Mb\n",
      "\n",
      "Reference samples:       2,404\n",
      "Study samples:             100\n",
      "\n",
      "Window 1 (18:10644-40010629)\n",
      "Reference markers:     409,667\n",
      "Study markers:          81,157\n",
      "\n",
      "Burnin  iteration 1:           8 seconds\n",
      "Burnin  iteration 2:           7 seconds\n",
      "Burnin  iteration 3:           7 seconds\n",
      "Burnin  iteration 4:           8 seconds\n",
      "Burnin  iteration 5:           7 seconds\n",
      "Burnin  iteration 6:           8 seconds\n",
      "\n",
      "Phasing iteration 1:           8 seconds\n",
      "Phasing iteration 2:           7 seconds\n",
      "Phasing iteration 3:           7 seconds\n",
      "Phasing iteration 4:           7 seconds\n",
      "Phasing iteration 5:           7 seconds\n",
      "Phasing iteration 6:           6 seconds\n",
      "Phasing iteration 7:           6 seconds\n",
      "Phasing iteration 8:           6 seconds\n",
      "Phasing iteration 9:           7 seconds\n",
      "Phasing iteration 10:          6 seconds\n",
      "Phasing iteration 11:          7 seconds\n",
      "Phasing iteration 12:          6 seconds\n",
      "\n",
      "Imputation time:               12 seconds\n",
      "\n",
      "Window 2 (18:36010613-76010634)\n",
      "Reference markers:     455,087\n",
      "Study markers:          90,368\n",
      "\n",
      "Burnin  iteration 1:           9 seconds\n",
      "Burnin  iteration 2:           9 seconds\n",
      "Burnin  iteration 3:           10 seconds\n",
      "Burnin  iteration 4:           9 seconds\n",
      "Burnin  iteration 5:           9 seconds\n",
      "Burnin  iteration 6:           11 seconds\n",
      "\n",
      "Phasing iteration 1:           11 seconds\n",
      "Phasing iteration 2:           9 seconds\n",
      "Phasing iteration 3:           9 seconds\n",
      "Phasing iteration 4:           8 seconds\n",
      "Phasing iteration 5:           8 seconds\n",
      "Phasing iteration 6:           8 seconds\n",
      "Phasing iteration 7:           8 seconds\n",
      "Phasing iteration 8:           9 seconds\n",
      "Phasing iteration 9:           8 seconds\n",
      "Phasing iteration 10:          8 seconds\n",
      "Phasing iteration 11:          8 seconds\n",
      "Phasing iteration 12:          8 seconds\n",
      "\n",
      "Imputation time:               14 seconds\n",
      "\n",
      "Window 3 (18:72010594-78017156)\n",
      "Reference markers:      79,388\n",
      "Study markers:          16,097\n",
      "\n",
      "Burnin  iteration 1:           2 seconds\n",
      "Burnin  iteration 2:           2 seconds\n",
      "Burnin  iteration 3:           1 second\n",
      "Burnin  iteration 4:           2 seconds\n",
      "Burnin  iteration 5:           2 seconds\n",
      "Burnin  iteration 6:           2 seconds\n",
      "\n",
      "Phasing iteration 1:           2 seconds\n",
      "Phasing iteration 2:           2 seconds\n",
      "Phasing iteration 3:           2 seconds\n",
      "Phasing iteration 4:           2 seconds\n",
      "Phasing iteration 5:           2 seconds\n",
      "Phasing iteration 6:           2 seconds\n",
      "Phasing iteration 7:           2 seconds\n",
      "Phasing iteration 8:           2 seconds\n",
      "Phasing iteration 9:           2 seconds\n",
      "Phasing iteration 10:          2 seconds\n",
      "Phasing iteration 11:          2 seconds\n",
      "Phasing iteration 12:          2 seconds\n",
      "\n",
      "Imputation time:               1 second\n",
      "\n",
      "Cumulative Statistics:\n",
      "\n",
      "Reference markers:     852,602\n",
      "Study markers:         169,914\n",
      "\n",
      "Haplotype phasing time:        5 minutes 16 seconds\n",
      "Imputation time:               27 seconds\n",
      "Total time:                    5 minutes 48 seconds\n",
      "\n",
      "End time: 12:04 PM PDT on 30 Jun 2020\n",
      "beagle.18May20.d20.jar finished\n"
     ]
    },
    {
     "ename": "UndefVarError",
     "evalue": "UndefVarError: convert_gt not defined",
     "output_type": "error",
     "traceback": [
      "UndefVarError: convert_gt not defined",
      "",
      "Stacktrace:",
      " [1] top-level scope at In[2]:3"
     ]
    }
   ],
   "source": [
    "# run beagle 5.1 (8 thread)\n",
    "run(`java -jar beagle.18May20.d20.jar gt=target.chr18.typedOnly.maf0.1.masked.vcf.gz ref=ref.chr18.excludeTarget.bref3 out=beagle.chr18.result nthreads=8`)"
   ]
  },
  {
   "cell_type": "code",
   "execution_count": 4,
   "metadata": {
    "collapsed": false
   },
   "outputs": [
    {
     "data": {
      "text/plain": [
       "0.002799993431870908"
      ]
     },
     "execution_count": 4,
     "metadata": {},
     "output_type": "execute_result"
    }
   ],
   "source": [
    "# beagle 5.1 error rate\n",
    "X_complete = convert_gt(Float32, \"target.chr18.full.vcf.gz\")\n",
    "n, p = size(X_complete)\n",
    "X_beagle = convert_gt(Float32, \"beagle.chr18.result.vcf.gz\")\n",
    "error_rate = sum(X_beagle .!= X_complete) / n / p"
   ]
  },
  {
   "cell_type": "markdown",
   "metadata": {
    "collapsed": true
   },
   "source": [
    "# Eagle 2 + Minimac4\n",
    "\n",
    "In order to use the reference panel in Eagle 2's prephase option, one must first convert it to `.bcf` format via e.g. `htslib` which is *extremely* difficult to install. Even after we went through all the hard work to obtain the final `.bcf` reference file (see commands below), eagle 2.4 STILL SAYS the file is not acceptable (not bgzipped or some processing error). Therefore, I have no choice but to prephase without the reference panel. "
   ]
  },
  {
   "cell_type": "code",
   "execution_count": null,
   "metadata": {
    "collapsed": true
   },
   "outputs": [],
   "source": [
    "# run eagle 2.4: 3367.79 sec on amd-2382 machine (can only run on linux systems)\n",
    "eagle --vcf=target.chr20.typedOnly.masked.vcf.gz --outPrefix=eagle.phased.chr20 --numThreads=4 --geneticMapFile=../Eagle_v2.4.1/tables/genetic_map_hg19_withX.txt.gz"
   ]
  },
  {
   "cell_type": "code",
   "execution_count": null,
   "metadata": {
    "collapsed": true
   },
   "outputs": [],
   "source": [
    "# convert ref file to m3vcf format (Total Run completed in 1 hours, 46 mins, 24 seconds)\n",
    "/u/home/b/biona001/haplotype_comparisons/Minimac3/bin/Minimac3 --refHaps ref.chr20.excludeTarget.vcf.gz --processReference --prefix ref.chr20.excludeTarget"
   ]
  },
  {
   "cell_type": "code",
   "execution_count": null,
   "metadata": {
    "collapsed": true
   },
   "outputs": [],
   "source": [
    "# run minimac4 (2619 seconds)\n",
    "minimac4 --refHaps ref.chr20.excludeTarget.m3vcf.gz --haps eagle.phased.vcf.gz --prefix minimac.imputed.chr20 --format GT --cpus 4"
   ]
  },
  {
   "cell_type": "code",
   "execution_count": null,
   "metadata": {
    "collapsed": true
   },
   "outputs": [],
   "source": [
    "# minimac4 error rate    \n",
    "X_complete = convert_gt(Float32, \"target.chr20.full.vcf.gz\")\n",
    "X_minimac = convert_gt(Float32, \"minimac.imputed.chr20.dose.vcf.gz\")\n",
    "n, p = size(X_complete)\n",
    "println(\"error overall = $(sum(X_minimac .!= X_complete) / n / p) \\n\")"
   ]
  },
  {
   "cell_type": "markdown",
   "metadata": {
    "collapsed": true
   },
   "source": [
    "# LASSO and haplotype thinning "
   ]
  },
  {
   "cell_type": "code",
   "execution_count": 6,
   "metadata": {
    "collapsed": false,
    "scrolled": true
   },
   "outputs": [
    {
     "name": "stdout",
     "output_type": "stream",
     "text": [
      "Importing reference haplotype data...\n"
     ]
    },
    {
     "name": "stderr",
     "output_type": "stream",
     "text": [
      "\u001b[32mPhasing chunk 1/1...100%|███████████████████████████████| Time: 0:00:21\u001b[39m\n",
      "\u001b[32mWriting to file...100%|█████████████████████████████████| Time: 0:00:07\u001b[39m\n"
     ]
    },
    {
     "name": "stdout",
     "output_type": "stream",
     "text": [
      "Total windows = 331, averaging ~ 4096 unique haplotypes per window.\n",
      "\n",
      "Timings: \n",
      "    Data import                     = 9.31658 seconds\n",
      "    Computing haplotype pair        = 21.1465 seconds\n",
      "        BLAS3 mul! to get M and N      = 13.9018 seconds per thread\n",
      "        haplopair search               = 2.455 seconds per thread\n",
      "        finding redundant happairs     = 0.00504225 seconds per thread\n",
      "    Phasing by win-win intersection = 0.044287 seconds\n",
      "    Imputation                      = 8.56951 seconds\n",
      "\n",
      "lasso r = 100: time = 39.170199529, error = 0.007713763279936008 \n",
      "\n",
      "Importing reference haplotype data...\n"
     ]
    },
    {
     "name": "stderr",
     "output_type": "stream",
     "text": [
      "\u001b[32mPhasing chunk 1/1...100%|███████████████████████████████| Time: 0:00:22\u001b[39m\n",
      "\u001b[32mWriting to file...100%|█████████████████████████████████| Time: 0:00:07\u001b[39m\n"
     ]
    },
    {
     "name": "stdout",
     "output_type": "stream",
     "text": [
      "Total windows = 331, averaging ~ 4096 unique haplotypes per window.\n",
      "\n",
      "Timings: \n",
      "    Data import                     = 10.1427 seconds\n",
      "    Computing haplotype pair        = 22.8784 seconds\n",
      "        BLAS3 mul! to get M and N      = 15.2554 seconds per thread\n",
      "        haplopair search               = 2.7129 seconds per thread\n",
      "        finding redundant happairs     = 0.00446146 seconds per thread\n",
      "    Phasing by win-win intersection = 0.0403309 seconds\n",
      "    Imputation                      = 8.36141 seconds\n",
      "\n",
      "lasso r = 100: time = 41.515630959, error = 0.007713763279936008 \n",
      "\n"
     ]
    }
   ],
   "source": [
    "# lasso, 8 threads\n",
    "Random.seed!(2020)\n",
    "chr = 18\n",
    "maf = 0.1\n",
    "width = 512\n",
    "tgtfile = \"target.chr$chr.typedOnly.maf$maf.masked.vcf.gz\"\n",
    "reffile = \"ref.chr18.$width.maf$maf.excludeTarget.jlso\"\n",
    "outfile = \"mendel.imputed.dp$width.maf$maf.vcf.gz\"\n",
    "X_complete = convert_gt(UInt8, \"target.chr18.full.vcf.gz\")\n",
    "n, p = size(X_complete)\n",
    "\n",
    "for ls in 100\n",
    "    # not scale by freq\n",
    "    t = @elapsed ph = phase(tgtfile, reffile, outfile=outfile, impute=true, width=width, \n",
    "        dynamic_programming=false, lasso=ls, max_haplotypes=800)\n",
    "    X_mendel = convert_gt(UInt8, outfile)\n",
    "    println(\"lasso r = $ls: time = $t, error = $(sum(X_mendel .!= X_complete) / n / p) \\n\")\n",
    "    \n",
    "    # scale by freq\n",
    "    t = @elapsed ph = phase(tgtfile, reffile, outfile=outfile, impute=true, width=width, \n",
    "        dynamic_programming=false, lasso=ls, max_haplotypes=800, scale_allelefreq=true)\n",
    "    X_mendel = convert_gt(UInt8, outfile)\n",
    "    println(\"lasso r = $ls: time = $t, error = $(sum(X_mendel .!= X_complete) / n / p) \\n\")\n",
    "end"
   ]
  },
  {
   "cell_type": "code",
   "execution_count": 2,
   "metadata": {
    "collapsed": false
   },
   "outputs": [
    {
     "name": "stdout",
     "output_type": "stream",
     "text": [
      "Importing reference haplotype data...\n"
     ]
    },
    {
     "name": "stderr",
     "output_type": "stream",
     "text": [
      "\u001b[32mPhasing chunk 1/1...100%|███████████████████████████████| Time: 0:00:22\u001b[39m\n",
      "\u001b[32mWriting to file...100%|█████████████████████████████████| Time: 0:00:06\u001b[39m\n"
     ]
    },
    {
     "name": "stdout",
     "output_type": "stream",
     "text": [
      "Total windows = 331, averaging ~ 4096 unique haplotypes per window.\n",
      "\n",
      "Timings: \n",
      "    Data import                     = 13.3922 seconds\n",
      "    Computing haplotype pair        = 22.8901 seconds\n",
      "        BLAS3 mul! to get M and N      = 10.1758 seconds per thread\n",
      "        haplopair search               = 2.58633 seconds per thread\n",
      "        finding redundant happairs     = 0.0903123 seconds per thread\n",
      "    Phasing by win-win intersection = 1.78401 seconds\n",
      "    Imputation                      = 7.47731 seconds\n",
      "\n",
      "lasso r = 100: time = 67.011659731, error = 0.00953075409159256 \n",
      "\n",
      "Importing reference haplotype data...\n"
     ]
    },
    {
     "name": "stderr",
     "output_type": "stream",
     "text": [
      "\u001b[32mPhasing chunk 1/1...100%|███████████████████████████████| Time: 0:00:18\u001b[39m\n",
      "\u001b[32mWriting to file...100%|█████████████████████████████████| Time: 0:00:06\u001b[39m\n"
     ]
    },
    {
     "name": "stdout",
     "output_type": "stream",
     "text": [
      "Total windows = 331, averaging ~ 4096 unique haplotypes per window.\n",
      "\n",
      "Timings: \n",
      "    Data import                     = 10.7892 seconds\n",
      "    Computing haplotype pair        = 18.0653 seconds\n",
      "        BLAS3 mul! to get M and N      = 10.6055 seconds per thread\n",
      "        haplopair search               = 2.70464 seconds per thread\n",
      "        finding redundant happairs     = 0.00483429 seconds per thread\n",
      "    Phasing by win-win intersection = 0.0280049 seconds\n",
      "    Imputation                      = 7.27936 seconds\n",
      "\n",
      "lasso r = 100: time = 36.297164102, error = 0.00953075409159256 \n",
      "\n"
     ]
    }
   ],
   "source": [
    "# lasso, use M = H'H and Nt = H'X\n",
    "Random.seed!(2020)\n",
    "chr = 18\n",
    "maf = 0.1\n",
    "width = 512\n",
    "tgtfile = \"target.chr$chr.typedOnly.maf$maf.masked.vcf.gz\"\n",
    "reffile = \"ref.chr18.$width.maf$maf.excludeTarget.jlso\"\n",
    "outfile = \"mendel.imputed.dp$width.maf$maf.vcf.gz\"\n",
    "X_complete = convert_gt(UInt8, \"target.chr18.full.vcf.gz\")\n",
    "n, p = size(X_complete)\n",
    "\n",
    "for ls in 100\n",
    "    # not scale by freq\n",
    "    t = @elapsed ph = phase(tgtfile, reffile, outfile=outfile, impute=true, width=width, \n",
    "        dynamic_programming=false, lasso=ls, max_haplotypes=800)\n",
    "    X_mendel = convert_gt(UInt8, outfile)\n",
    "    println(\"lasso r = $ls: time = $t, error = $(sum(X_mendel .!= X_complete) / n / p) \\n\")\n",
    "    \n",
    "    # scale by freq\n",
    "    t = @elapsed ph = phase(tgtfile, reffile, outfile=outfile, impute=true, width=width, \n",
    "        dynamic_programming=false, lasso=ls, max_haplotypes=800, scale_allelefreq=true)\n",
    "    X_mendel = convert_gt(UInt8, outfile)\n",
    "    println(\"lasso r = $ls: time = $t, error = $(sum(X_mendel .!= X_complete) / n / p) \\n\")\n",
    "end"
   ]
  },
  {
   "cell_type": "code",
   "execution_count": null,
   "metadata": {
    "collapsed": true
   },
   "outputs": [],
   "source": []
  },
  {
   "cell_type": "code",
   "execution_count": null,
   "metadata": {
    "collapsed": true
   },
   "outputs": [],
   "source": []
  },
  {
   "cell_type": "code",
   "execution_count": null,
   "metadata": {
    "collapsed": true
   },
   "outputs": [],
   "source": []
  },
  {
   "cell_type": "code",
   "execution_count": 5,
   "metadata": {
    "collapsed": false,
    "scrolled": false
   },
   "outputs": [
    {
     "name": "stdout",
     "output_type": "stream",
     "text": [
      "Importing reference haplotype data...\n"
     ]
    },
    {
     "name": "stderr",
     "output_type": "stream",
     "text": [
      "\u001b[32mPhasing chunk 1/1...100%|███████████████████████████████| Time: 0:00:33\u001b[39m\n",
      "\u001b[32mWriting to file...100%|█████████████████████████████████| Time: 0:00:06\u001b[39m\n"
     ]
    },
    {
     "name": "stdout",
     "output_type": "stream",
     "text": [
      "Total windows = 331, averaging ~ 4096 unique haplotypes per window.\n",
      "\n",
      "Timings: \n",
      "    Data import                     = 10.4958 seconds\n",
      "    Computing haplotype pair        = 33.2974 seconds\n",
      "        BLAS3 mul! to get M and N      = 25.9967 seconds per thread\n",
      "        haplopair search               = 4.11763 seconds per thread\n",
      "        finding redundant happairs     = 0.060105 seconds per thread\n",
      "    Phasing by dynamic programming  = 0.0296741 seconds\n",
      "    Imputation                      = 6.66472 seconds\n",
      "\n",
      "thinning factor (weighted) = 100: time = 50.612580208, error = 0.007702538816470052 \n",
      "\n"
     ]
    }
   ],
   "source": [
    "# thinning, 8 threads\n",
    "Random.seed!(2020)\n",
    "chr = 18\n",
    "maf = 0.1\n",
    "width = 512\n",
    "tgtfile = \"target.chr$chr.typedOnly.maf$maf.masked.vcf.gz\"\n",
    "reffile = \"ref.chr18.$width.maf$maf.excludeTarget.jlso\"\n",
    "outfile = \"mendel.imputed.dp$width.maf$maf.vcf.gz\"\n",
    "X_complete = convert_gt(UInt8, \"target.chr18.full.vcf.gz\")\n",
    "n, p = size(X_complete)\n",
    "\n",
    "for tf in 100:100:100\n",
    "#     t = @elapsed ph, hs = phase(tgtfile, reffile, outfile=outfile, impute=true, width=width, \n",
    "#         thinning_factor=tf, max_haplotypes=2000)\n",
    "#     X_mendel = convert_gt(UInt8, outfile)\n",
    "#     println(\"thinning factor (unweighted) = $tf: time = $t, error = $(sum(X_mendel .!= X_complete) / n / p) \\n\")\n",
    "    \n",
    "    t = @elapsed ph, hs = phase(tgtfile, reffile, outfile=outfile, impute=true, width=width, \n",
    "        max_haplotypes=100, lasso=tf)\n",
    "    X_mendel = convert_gt(UInt8, outfile)\n",
    "    println(\"thinning factor (weighted) = $tf: time = $t, error = $(sum(X_mendel .!= X_complete) / n / p) \\n\")\n",
    "end"
   ]
  },
  {
   "cell_type": "code",
   "execution_count": 7,
   "metadata": {
    "collapsed": false
   },
   "outputs": [
    {
     "name": "stderr",
     "output_type": "stream",
     "text": [
      "┌ Info: Precompiling UnicodePlots [b8865327-cd53-5732-bb35-84acbb429228]\n",
      "└ @ Base loading.jl:1273\n",
      "WARNING: using UnicodePlots.width in module Main conflicts with an existing identifier.\n"
     ]
    },
    {
     "data": {
      "text/plain": [
       "\u001b[90m                    ┌                                        ┐\u001b[39m \n",
       "   \u001b[0m\u001b[90m[\u001b[0m1000.0\u001b[90m, \u001b[0m1500.0\u001b[90m)\u001b[0m\u001b[90m ┤\u001b[39m\u001b[32m▇\u001b[39m\u001b[0m 2                                     \u001b[90m \u001b[39m \n",
       "   \u001b[0m\u001b[90m[\u001b[0m1500.0\u001b[90m, \u001b[0m2000.0\u001b[90m)\u001b[0m\u001b[90m ┤\u001b[39m\u001b[32m▇\u001b[39m\u001b[0m 3                                     \u001b[90m \u001b[39m \n",
       "   \u001b[0m\u001b[90m[\u001b[0m2000.0\u001b[90m, \u001b[0m2500.0\u001b[90m)\u001b[0m\u001b[90m ┤\u001b[39m\u001b[32m▇▇▇▇\u001b[39m\u001b[0m 12                                 \u001b[90m \u001b[39m \n",
       "   \u001b[0m\u001b[90m[\u001b[0m2500.0\u001b[90m, \u001b[0m3000.0\u001b[90m)\u001b[0m\u001b[90m ┤\u001b[39m\u001b[32m▇▇▇▇▇\u001b[39m\u001b[0m 16                                \u001b[90m \u001b[39m \n",
       "   \u001b[0m\u001b[90m[\u001b[0m3000.0\u001b[90m, \u001b[0m3500.0\u001b[90m)\u001b[0m\u001b[90m ┤\u001b[39m\u001b[32m▇▇▇▇▇▇▇\u001b[39m\u001b[0m 24                              \u001b[90m \u001b[39m \n",
       "   \u001b[0m\u001b[90m[\u001b[0m3500.0\u001b[90m, \u001b[0m4000.0\u001b[90m)\u001b[0m\u001b[90m ┤\u001b[39m\u001b[32m▇▇▇▇▇▇▇▇▇▇▇▇▇▇\u001b[39m\u001b[0m 45                       \u001b[90m \u001b[39m \n",
       "   \u001b[0m\u001b[90m[\u001b[0m4000.0\u001b[90m, \u001b[0m4500.0\u001b[90m)\u001b[0m\u001b[90m ┤\u001b[39m\u001b[32m▇▇▇▇▇▇▇▇▇▇▇▇▇▇▇▇▇▇▇▇▇▇▇▇▇▇▇▇▇▇▇▇▇▇\u001b[39m\u001b[0m 113  \u001b[90m \u001b[39m \n",
       "   \u001b[0m\u001b[90m[\u001b[0m4500.0\u001b[90m, \u001b[0m5000.0\u001b[90m)\u001b[0m\u001b[90m ┤\u001b[39m\u001b[32m▇▇▇▇▇▇▇▇▇▇▇▇▇▇▇▇▇▇▇▇▇▇▇▇▇▇▇▇▇▇▇▇▇▇▇\u001b[39m\u001b[0m 116 \u001b[90m \u001b[39m \n",
       "\u001b[90m                    └                                        ┘\u001b[39m \n",
       "\u001b[0m                                    Frequency"
      ]
     },
     "execution_count": 7,
     "metadata": {},
     "output_type": "execute_result"
    }
   ],
   "source": [
    "using UnicodePlots\n",
    "x = count_haplotypes_per_window(\"ref.chr18.512.maf0.1.excludeTarget.jlso\")\n",
    "histogram(x)"
   ]
  },
  {
   "cell_type": "code",
   "execution_count": null,
   "metadata": {
    "collapsed": true
   },
   "outputs": [],
   "source": []
  },
  {
   "cell_type": "code",
   "execution_count": null,
   "metadata": {
    "collapsed": true
   },
   "outputs": [],
   "source": []
  },
  {
   "cell_type": "code",
   "execution_count": null,
   "metadata": {
    "collapsed": true
   },
   "outputs": [],
   "source": []
  },
  {
   "cell_type": "code",
   "execution_count": null,
   "metadata": {
    "collapsed": true
   },
   "outputs": [],
   "source": []
  }
 ],
 "metadata": {
  "@webio": {
   "lastCommId": null,
   "lastKernelId": null
  },
  "kernelspec": {
   "display_name": "Julia 1.5.0",
   "language": "julia",
   "name": "julia-1.5"
  },
  "language_info": {
   "file_extension": ".jl",
   "mimetype": "application/julia",
   "name": "julia",
   "version": "1.5.0"
  }
 },
 "nbformat": 4,
 "nbformat_minor": 2
}
