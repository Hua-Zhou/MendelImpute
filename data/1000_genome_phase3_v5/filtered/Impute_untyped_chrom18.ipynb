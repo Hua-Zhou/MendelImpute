{
 "cells": [
  {
   "cell_type": "markdown",
   "metadata": {},
   "source": [
    "# Test imputation on untyped SNPs chrom 18"
   ]
  },
  {
   "cell_type": "code",
   "execution_count": 1,
   "metadata": {
    "collapsed": false
   },
   "outputs": [
    {
     "name": "stderr",
     "output_type": "stream",
     "text": [
      "┌ Warning: no Manifest.toml file found, static paths used\n",
      "└ @ Revise /Users/biona001/.julia/packages/Revise/439di/src/Revise.jl:1108\n"
     ]
    }
   ],
   "source": [
    "using Revise\n",
    "using VCFTools\n",
    "using MendelImpute\n",
    "using GeneticVariation\n",
    "using Random\n",
    "using StatsBase"
   ]
  },
  {
   "cell_type": "markdown",
   "metadata": {},
   "source": [
    "### Memory requirement\n",
    "\n",
    "**Prephasing step:** \n",
    "+ Target data requies $people * snps * 4$ bytes of RAM\n",
    "+ Reference haplotype data requires $haplotypes * snps$ bits of RAM\n",
    "+ Redundant haplotype set for imputation target requires roughly\n",
    "$people * windows * 1000$ (max haplotypes per win) $* 16 bytes$ of RAM"
   ]
  },
  {
   "cell_type": "markdown",
   "metadata": {},
   "source": [
    "## Generate subset of markers for prephasing"
   ]
  },
  {
   "cell_type": "code",
   "execution_count": 2,
   "metadata": {
    "collapsed": false
   },
   "outputs": [
    {
     "name": "stdout",
     "output_type": "stream",
     "text": [
      "757.914216 seconds (6.51 G allocations: 615.484 GiB, 5.77% gc time)\n"
     ]
    },
    {
     "name": "stderr",
     "output_type": "stream",
     "text": [
      "\u001b[32mProgress: 100%|█████████████████████████████████████████| Time: 0:11:01\u001b[39m\n"
     ]
    },
    {
     "name": "stdout",
     "output_type": "stream",
     "text": [
      "543.267281 seconds (6.94 G allocations: 658.873 GiB, 8.94% gc time)\n",
      "1133.618067 seconds (16.89 G allocations: 1.264 TiB, 10.11% gc time)\n",
      "537.259210 seconds (6.94 G allocations: 658.872 GiB, 8.92% gc time)\n",
      " 33.649063 seconds (270.84 M allocations: 27.799 GiB, 6.49% gc time)\n",
      "529.321183 seconds (6.91 G allocations: 656.539 GiB, 9.14% gc time)\n",
      " 31.127583 seconds (253.23 M allocations: 25.974 GiB, 6.39% gc time)\n",
      "508.066933 seconds (6.70 G allocations: 634.398 GiB, 9.00% gc time)\n",
      " 16.370128 seconds (121.43 M allocations: 12.480 GiB, 5.66% gc time)\n",
      "526.043739 seconds (6.59 G allocations: 622.839 GiB, 9.08% gc time)\n",
      "  8.930132 seconds (54.36 M allocations: 5.582 GiB, 5.16% gc time)\n",
      "556.634232 seconds (6.51 G allocations: 614.804 GiB, 9.66% gc time)\n",
      "  0.952794 seconds (5.51 M allocations: 578.815 MiB, 6.34% gc time)\n",
      "6361.681938 seconds (82.06 G allocations: 7.271 TiB, 8.92% gc time)\n"
     ]
    }
   ],
   "source": [
    "cd(\"/Users/biona001/.julia/dev/MendelImpute/data/1000_genome_phase3_v5/filtered\")\n",
    "function filter_and_mask()\n",
    "    for chr in [18]\n",
    "        # filter chromosome data for unique snps\n",
    "        data = \"../beagle_raw/chr$chr.1kg.phase3.v5a.vcf.gz\"\n",
    "        full_record_index = .!find_duplicate_marker(data)\n",
    "        @time VCFTools.filter(data, full_record_index, 1:nsamples(data), \n",
    "            des = \"chr$chr.uniqueSNPs.vcf.gz\")\n",
    "\n",
    "        # summarize data\n",
    "        total_snps, samples, _, _, _, maf_by_record, _ = gtstats(\"chr$chr.uniqueSNPs.vcf.gz\")\n",
    "\n",
    "        # generate target panel with all snps\n",
    "        n = 100\n",
    "        sample_idx = falses(samples)\n",
    "        sample_idx[1:n] .= true\n",
    "        shuffle!(sample_idx)\n",
    "        @time VCFTools.filter(\"chr$chr.uniqueSNPs.vcf.gz\", \n",
    "            1:total_snps, sample_idx, des = \"target.chr$chr.full.vcf.gz\")\n",
    "\n",
    "        # also generate reference panel without target samples\n",
    "        @time VCFTools.filter(\"chr$chr.uniqueSNPs.vcf.gz\", \n",
    "            1:total_snps, .!sample_idx, des = \"ref.chr$chr.excludeTarget.vcf.gz\")\n",
    "        \n",
    "        for maf in [0.0005, 0.001, 0.01, 0.1, 0.45]\n",
    "            \n",
    "            # generate target file with 100 samples and typed snps with certain maf\n",
    "            my_maf = findall(x -> x > maf, maf_by_record)  \n",
    "            p = length(my_maf)\n",
    "            record_idx = falses(total_snps)\n",
    "            record_idx[my_maf] .= true\n",
    "            @time VCFTools.filter(\"chr$chr.uniqueSNPs.vcf.gz\", record_idx, sample_idx, \n",
    "                des = \"target.chr$chr.typedOnly.maf$maf.vcf.gz\")\n",
    "\n",
    "            # unphase and mask 1% entries in target file\n",
    "            masks = falses(p, n)\n",
    "            missingprop = 0.001\n",
    "            for j in 1:n, i in 1:p\n",
    "                rand() < missingprop && (masks[i, j] = true)\n",
    "            end\n",
    "            @time mask_gt(\"target.chr$chr.typedOnly.maf$maf.vcf.gz\", masks, \n",
    "                des=\"target.chr$chr.typedOnly.maf$maf.masked.vcf.gz\", unphase=true)\n",
    "        end\n",
    "    end \n",
    "end\n",
    "Random.seed!(2020)\n",
    "@time filter_and_mask()"
   ]
  },
  {
   "cell_type": "markdown",
   "metadata": {},
   "source": [
    "### Missing rate\n",
    "\n",
    "In typed markers, 0.1% of data is missing at random, and the untyped markers missing rate are:"
   ]
  },
  {
   "cell_type": "code",
   "execution_count": 4,
   "metadata": {
    "collapsed": false
   },
   "outputs": [
    {
     "name": "stdout",
     "output_type": "stream",
     "text": [
      "ref_records = nrecords(reffile) = 863592\n",
      "there are 863592 snps w/ maf > 0.0005. Missing rate = 0.0\n",
      "there are 807477 snps w/ maf > 0.001. Missing rate = 0.06497860100603059\n",
      "there are 387193 snps w/ maf > 0.01. Missing rate = 0.5516482320354983\n",
      "there are 173336 snps w/ maf > 0.1. Missing rate = 0.7992848474742702\n",
      "there are 17554 snps w/ maf > 0.45. Missing rate = 0.9796732716375325\n"
     ]
    }
   ],
   "source": [
    "reffile = \"ref.chr18.excludeTarget.vcf.gz\"\n",
    "@show ref_records = nrecords(reffile)\n",
    "for maf in [0.0005, 0.001, 0.01, 0.1, 0.45]\n",
    "    tgtfile = \"target.chr18.typedOnly.maf$maf.masked.vcf.gz\"\n",
    "    tgt_records = nrecords(tgtfile)\n",
    "    missing_rate = 1 - tgt_records / ref_records\n",
    "    println(\"there are $tgt_records snps w/ maf > $maf. Missing rate = $missing_rate\")\n",
    "end"
   ]
  },
  {
   "cell_type": "code",
   "execution_count": 2,
   "metadata": {
    "collapsed": false
   },
   "outputs": [
    {
     "data": {
      "text/plain": [
       "4"
      ]
     },
     "execution_count": 2,
     "metadata": {},
     "output_type": "execute_result"
    }
   ],
   "source": [
    "Threads.nthreads()"
   ]
  },
  {
   "cell_type": "markdown",
   "metadata": {},
   "source": [
    "# MendelImpute on untyped markers with dp"
   ]
  },
  {
   "cell_type": "code",
   "execution_count": 3,
   "metadata": {
    "collapsed": false
   },
   "outputs": [
    {
     "name": "stdout",
     "output_type": "stream",
     "text": [
      "MendelImpute with dynamic programming, width = 500, maf = 0.0005\n"
     ]
    },
    {
     "name": "stderr",
     "output_type": "stream",
     "text": [
      "\u001b[32mImporting genotype file...100%|█████████████████████████| Time: 0:00:24\u001b[39m\n",
      "\u001b[32mImporting reference haplotype files...100%|█████████████| Time: 0:04:40\u001b[39m\n",
      "\u001b[32mComputing optimal haplotype pairs...100%|███████████████| Time: 0:07:46\u001b[39m\n",
      "\u001b[32mMerging breakpoints...100%|█████████████████████████████| Time: 0:02:39\u001b[39m\n",
      "\u001b[32mWriting to file...100%|█████████████████████████████████| Time: 0:00:11\u001b[39m\n"
     ]
    },
    {
     "name": "stdout",
     "output_type": "stream",
     "text": [
      "995.157271 seconds (4.88 G allocations: 452.982 GiB, 14.19% gc time)\n",
      "error overall = 6.0329414816255824e-6 \n",
      "\n"
     ]
    }
   ],
   "source": [
    "cd(\"/Users/biona001/.julia/dev/MendelImpute/data/1000_genome_phase3_v5/filtered\")\n",
    "Random.seed!(2020)\n",
    "function run()\n",
    "    X_complete = convert_gt(UInt8, \"target.chr18.full.vcf.gz\")\n",
    "    n, p = size(X_complete)\n",
    "    chr = 18\n",
    "    width = 500\n",
    "    for maf in [0.0005] #missing rate = 0.0\n",
    "        println(\"MendelImpute with dynamic programming, width = $width, maf = $maf\")\n",
    "        tgtfile = \"target.chr$chr.typedOnly.maf$maf.masked.vcf.gz\"\n",
    "        reffile = \"ref.chr$chr.excludeTarget.vcf.gz\"\n",
    "        outfile = \"mendel.imputed.dp$width.maf$maf.vcf.gz\"\n",
    "        @time phase(tgtfile, reffile, outfile=outfile, impute=true, width=width, \n",
    "            fast_method=false)\n",
    "        X_mendel = convert_gt(UInt8, outfile)\n",
    "        println(\"error overall = $(sum(X_mendel .!= X_complete) / n / p) \\n\")\n",
    "    end\n",
    "end\n",
    "run()"
   ]
  },
  {
   "cell_type": "code",
   "execution_count": null,
   "metadata": {
    "collapsed": true
   },
   "outputs": [],
   "source": []
  },
  {
   "cell_type": "code",
   "execution_count": null,
   "metadata": {
    "collapsed": true
   },
   "outputs": [],
   "source": []
  },
  {
   "cell_type": "code",
   "execution_count": null,
   "metadata": {
    "collapsed": true
   },
   "outputs": [],
   "source": []
  },
  {
   "cell_type": "code",
   "execution_count": null,
   "metadata": {
    "collapsed": true
   },
   "outputs": [],
   "source": []
  },
  {
   "cell_type": "code",
   "execution_count": 2,
   "metadata": {
    "collapsed": false
   },
   "outputs": [
    {
     "name": "stdout",
     "output_type": "stream",
     "text": [
      "MendelImpute with dynamic programming, width = 500, maf = 0.45\n"
     ]
    },
    {
     "name": "stderr",
     "output_type": "stream",
     "text": [
      "\u001b[32mImporting reference haplotype files...100%|█████████████| Time: 0:04:33\u001b[39m\n",
      "\u001b[32mComputing optimal haplotype pairs...100%|███████████████| Time: 0:00:23\u001b[39m\n",
      "\u001b[32mMerging breakpoints...100%|█████████████████████████████| Time: 0:00:07\u001b[39m\n",
      "\u001b[32mWriting to file...100%|█████████████████████████████████| Time: 0:00:11\u001b[39m\n"
     ]
    },
    {
     "name": "stdout",
     "output_type": "stream",
     "text": [
      "346.711156 seconds (4.22 G allocations: 378.095 GiB, 16.36% gc time)\n",
      "error overall = 0.0773094354741591 \n",
      "\n",
      "MendelImpute with dynamic programming, width = 500, maf = 0.1\n"
     ]
    },
    {
     "name": "stderr",
     "output_type": "stream",
     "text": [
      "\u001b[32mImporting reference haplotype files...100%|█████████████| Time: 0:04:37\u001b[39m\n",
      "\u001b[32mComputing optimal haplotype pairs...100%|███████████████| Time: 0:03:00\u001b[39m\n",
      "\u001b[32mMerging breakpoints...100%|█████████████████████████████| Time: 0:01:09\u001b[39m\n",
      "\u001b[32mWriting to file...100%|█████████████████████████████████| Time: 0:00:12\u001b[39m\n"
     ]
    },
    {
     "name": "stdout",
     "output_type": "stream",
     "text": [
      "579.281690 seconds (4.28 G allocations: 405.618 GiB, 11.25% gc time)\n",
      "error overall = 0.005182725175777451 \n",
      "\n",
      "MendelImpute with dynamic programming, width = 500, maf = 0.01\n"
     ]
    },
    {
     "name": "stderr",
     "output_type": "stream",
     "text": [
      "\u001b[32mImporting genotype file...100%|█████████████████████████| Time: 0:00:09\u001b[39m\n",
      "\u001b[32mImporting reference haplotype files...100%|█████████████| Time: 0:04:40\u001b[39m\n",
      "\u001b[32mComputing optimal haplotype pairs...100%|███████████████| Time: 0:05:23\u001b[39m\n",
      "\u001b[32mMerging breakpoints...100%|█████████████████████████████| Time: 0:01:52\u001b[39m\n",
      "\u001b[32mWriting to file...100%|█████████████████████████████████| Time: 0:00:11\u001b[39m\n"
     ]
    },
    {
     "name": "stdout",
     "output_type": "stream",
     "text": [
      "774.723315 seconds (4.41 G allocations: 422.091 GiB, 12.05% gc time)\n",
      "error overall = 0.0015744819312823648 \n",
      "\n",
      "MendelImpute with dynamic programming, width = 500, maf = 0.001\n"
     ]
    },
    {
     "name": "stderr",
     "output_type": "stream",
     "text": [
      "\u001b[32mImporting genotype file...100%|█████████████████████████| Time: 0:00:19\u001b[39m\n",
      "\u001b[32mImporting reference haplotype files...100%|█████████████| Time: 0:07:33\u001b[39m\n",
      "\u001b[32mComputing optimal haplotype pairs...100%|███████████████| Time: 0:06:49\u001b[39m\n",
      "\u001b[32mMerging breakpoints...100%|█████████████████████████████| Time: 0:01:49\u001b[39m\n",
      "\u001b[32mWriting to file...100%|█████████████████████████████████| Time: 0:00:12\u001b[39m\n"
     ]
    },
    {
     "name": "stdout",
     "output_type": "stream",
     "text": [
      "1048.067625 seconds (4.78 G allocations: 446.409 GiB, 23.29% gc time)\n",
      "error overall = 0.00010440115239603887 \n",
      "\n",
      "MendelImpute with dynamic programming, width = 500, maf = 0.0005\n"
     ]
    },
    {
     "name": "stderr",
     "output_type": "stream",
     "text": [
      "\u001b[32mImporting genotype file...100%|█████████████████████████| Time: 0:00:48\u001b[39m\n",
      "\u001b[32mImporting reference haplotype files...100%|█████████████| Time: 0:07:41\u001b[39m\n",
      "\u001b[32mComputing optimal haplotype pairs...100%|███████████████| Time: 0:06:35\u001b[39m\n",
      "\u001b[32mMerging breakpoints...100%|█████████████████████████████| Time: 0:01:47\u001b[39m\n",
      "\u001b[32mWriting to file...100%|█████████████████████████████████| Time: 0:00:11\u001b[39m\n"
     ]
    },
    {
     "name": "stdout",
     "output_type": "stream",
     "text": [
      "1070.168690 seconds (4.85 G allocations: 451.895 GiB, 23.41% gc time)\n",
      "error overall = 6.0329414816255824e-6 \n",
      "\n"
     ]
    }
   ],
   "source": [
    "cd(\"/Users/biona001/.julia/dev/MendelImpute/data/1000_genome_phase3_v5/filtered\")\n",
    "Random.seed!(2020)\n",
    "function run()\n",
    "    X_complete = convert_gt(UInt8, \"target.chr18.full.vcf.gz\")\n",
    "    n, p = size(X_complete)\n",
    "    chr = 18\n",
    "    width = 500\n",
    "    for maf in [0.45, 0.1, 0.01, 0.001, 0.0005] #missing rate = 0.97, 0.79, 0.55, 0.06, 0.0\n",
    "        println(\"MendelImpute with dynamic programming, width = $width, maf = $maf\")\n",
    "        tgtfile = \"target.chr$chr.typedOnly.maf$maf.masked.vcf.gz\"\n",
    "        reffile = \"ref.chr$chr.excludeTarget.vcf.gz\"\n",
    "        outfile = \"mendel.imputed.dp$width.maf$maf.vcf.gz\"\n",
    "        @time phase(tgtfile, reffile, outfile=outfile, impute=true, width=width, \n",
    "            fast_method=false)\n",
    "        X_mendel = convert_gt(UInt8, outfile)\n",
    "        println(\"error overall = $(sum(X_mendel .!= X_complete) / n / p) \\n\")\n",
    "    end\n",
    "end\n",
    "run()"
   ]
  },
  {
   "cell_type": "markdown",
   "metadata": {},
   "source": [
    "# Beagle 5.0"
   ]
  },
  {
   "cell_type": "code",
   "execution_count": 3,
   "metadata": {
    "collapsed": false
   },
   "outputs": [
    {
     "name": "stdout",
     "output_type": "stream",
     "text": [
      "beagle.28Sep18.793.jar (version 5.0)\n",
      "Copyright (C) 2014-2018 Brian L. Browning\n",
      "Enter \"java -jar beagle.28Sep18.793.jar\" to list command line argument\n",
      "Start time: 10:09 AM PDT on 08 May 2020\n",
      "\n",
      "Command line: java -Xmx13653m -jar beagle.28Sep18.793.jar\n",
      "  gt=target.chr18.typedOnly.maf0.0005.masked.vcf.gz\n",
      "  ref=ref.chr18.excludeTarget.vcf.gz\n",
      "  out=beagle.imputed.maf0.0005\n",
      "  nthreads=4\n",
      "\n",
      "No genetic map is specified: using 1 cM = 1 Mb\n",
      "\n",
      "Reference samples:       2,404\n",
      "Study samples:             100\n",
      "\n",
      "Window 1 (18:10644-40010629)\n",
      "Reference markers:     414,911\n",
      "Study markers:         414,911\n",
      "\n",
      "Burnin  iteration 1:           48 seconds\n",
      "Burnin  iteration 2:           1 minute 28 seconds\n",
      "Burnin  iteration 3:           1 minute 42 seconds\n",
      "Burnin  iteration 4:           1 minute 46 seconds\n",
      "Burnin  iteration 5:           1 minute 53 seconds\n",
      "Burnin  iteration 6:           2 minutes 5 seconds\n",
      "\n",
      "Phasing iteration 1:           1 minute 59 seconds\n",
      "Phasing iteration 2:           2 minutes 1 second\n",
      "Phasing iteration 3:           2 minutes 3 seconds\n",
      "Phasing iteration 4:           2 minutes 9 seconds\n",
      "Phasing iteration 5:           1 minute 52 seconds\n",
      "Phasing iteration 6:           1 minute 56 seconds\n",
      "Phasing iteration 7:           2 minutes 1 second\n",
      "Phasing iteration 8:           1 minute 54 seconds\n",
      "Phasing iteration 9:           1 minute 47 seconds\n",
      "Phasing iteration 10:          1 minute 46 seconds\n",
      "Phasing iteration 11:          1 minute 43 seconds\n",
      "Phasing iteration 12:          1 minute 38 seconds\n",
      "\n",
      "Window 2 (18:36010613-76010634)\n",
      "Reference markers:     461,002\n",
      "Study markers:         461,002\n",
      "\n",
      "Burnin  iteration 1:           48 seconds\n",
      "Burnin  iteration 2:           1 minute 56 seconds\n",
      "Burnin  iteration 3:           2 minutes 1 second\n",
      "Burnin  iteration 4:           2 minutes 1 second\n",
      "Burnin  iteration 5:           2 minutes 6 seconds\n",
      "Burnin  iteration 6:           2 minutes 9 seconds\n",
      "\n",
      "Phasing iteration 1:           2 minutes 10 seconds\n",
      "Phasing iteration 2:           2 minutes 11 seconds\n",
      "Phasing iteration 3:           2 minutes 15 seconds\n",
      "Phasing iteration 4:           2 minutes 24 seconds\n",
      "Phasing iteration 5:           2 minutes 35 seconds\n",
      "Phasing iteration 6:           2 minutes 28 seconds\n",
      "Phasing iteration 7:           2 minutes 16 seconds\n",
      "Phasing iteration 8:           2 minutes 19 seconds\n",
      "Phasing iteration 9:           2 minutes 9 seconds\n",
      "Phasing iteration 10:          2 minutes 7 seconds\n",
      "Phasing iteration 11:          2 minutes 1 second\n",
      "Phasing iteration 12:          1 minute 56 seconds\n",
      "\n",
      "Window 3 (18:72010594-78017156)\n",
      "Reference markers:      80,505\n",
      "Study markers:          80,505\n",
      "\n",
      "Burnin  iteration 1:           5 seconds\n",
      "Burnin  iteration 2:           4 seconds\n",
      "Burnin  iteration 3:           5 seconds\n",
      "Burnin  iteration 4:           4 seconds\n",
      "Burnin  iteration 5:           6 seconds\n",
      "Burnin  iteration 6:           6 seconds\n",
      "\n",
      "Phasing iteration 1:           5 seconds\n",
      "Phasing iteration 2:           5 seconds\n",
      "Phasing iteration 3:           5 seconds\n",
      "Phasing iteration 4:           5 seconds\n",
      "Phasing iteration 5:           6 seconds\n",
      "Phasing iteration 6:           5 seconds\n",
      "Phasing iteration 7:           6 seconds\n",
      "Phasing iteration 8:           6 seconds\n",
      "Phasing iteration 9:           5 seconds\n",
      "Phasing iteration 10:          5 seconds\n",
      "Phasing iteration 11:          5 seconds\n",
      "Phasing iteration 12:          4 seconds\n",
      "\n",
      "Cumulative Statistics:\n",
      "\n",
      "Study markers:         863,592\n",
      "\n",
      "Haplotype phasing time:        1 hour 11 minutes 57 seconds\n",
      "Total time:                    1 hour 12 minutes 50 seconds\n",
      "\n",
      "End time: 11:22 AM PDT on 08 May 2020\n",
      "beagle.28Sep18.793.jar finished\n"
     ]
    },
    {
     "ename": "DimensionMismatch",
     "evalue": "DimensionMismatch(\"arrays could not be broadcast to a common size; got a dimension with lengths 678557 and 863592\")",
     "output_type": "error",
     "traceback": [
      "DimensionMismatch(\"arrays could not be broadcast to a common size; got a dimension with lengths 678557 and 863592\")",
      "",
      "Stacktrace:",
      " [1] instantiate(::Base.Broadcast.Broadcasted{Base.Broadcast.DefaultArrayStyle{2},Nothing,typeof(!=),Tuple{Array{Union{Missing, UInt8},2},Array{Union{Missing, UInt8},2}}}) at ./broadcast.jl:490",
      " [2] materialize at ./broadcast.jl:819 [inlined]",
      " [3] beagle() at ./In[3]:15",
      " [4] top-level scope at In[3]:18"
     ]
    }
   ],
   "source": [
    "# beagle 5\n",
    "cd(\"/Users/biona001/.julia/dev/MendelImpute/data/1000_genome_phase3_v5/filtered\")\n",
    "function beagle()\n",
    "    chr = 18\n",
    "    for maf in [0.0005, 0.001, 0.01, 0.1, 0.45]\n",
    "        tgtfile = \"target.chr$chr.typedOnly.maf$maf.masked.vcf.gz\"\n",
    "        reffile = \"ref.chr$chr.excludeTarget.vcf.gz\"\n",
    "        outfile = \"beagle.imputed.maf$maf\"\n",
    "        Base.run(`java -Xmx15g -jar beagle.28Sep18.793.jar gt=$tgtfile ref=$reffile out=$outfile nthreads=4`)\n",
    "    end\n",
    "end\n",
    "beagle()"
   ]
  },
  {
   "cell_type": "code",
   "execution_count": 5,
   "metadata": {
    "collapsed": false
   },
   "outputs": [
    {
     "name": "stdout",
     "output_type": "stream",
     "text": [
      "error overall = 5.453964372064586e-6 \n",
      "\n"
     ]
    }
   ],
   "source": [
    "for maf in [0.0005]\n",
    "    # beagle error rate    \n",
    "    chr = 18\n",
    "    X_complete = convert_gt(UInt8, \"target.chr$chr.full.vcf.gz\")\n",
    "    X_beagle = convert_gt(UInt8, \"beagle.imputed.maf$maf.vcf.gz\")\n",
    "    n, p = size(X_complete)\n",
    "    println(\"error overall = $(sum(X_beagle .!= X_complete) / n / p) \\n\")\n",
    "end"
   ]
  },
  {
   "cell_type": "markdown",
   "metadata": {
    "collapsed": true
   },
   "source": [
    "# Eagle 2 + Minimac4\n",
    "\n",
    "In order to use the reference panel in Eagle 2's prephase option, one must first convert it to `.bcf` format via e.g. `htslib` which is *extremely* difficult to install. Even after we went through all the hard work to obtain the final `.bcf` reference file (see commands below), eagle 2.4 STILL SAYS the file is not acceptable (not bgzipped or some processing error). Therefore, I have no choice but to prephase without the reference panel. "
   ]
  },
  {
   "cell_type": "code",
   "execution_count": null,
   "metadata": {
    "collapsed": true
   },
   "outputs": [],
   "source": [
    "# run eagle 2.4: 3367.79 sec on amd-2382 machine (can only run on linux systems)\n",
    "eagle --vcf=target.chr20.typedOnly.masked.vcf.gz --outPrefix=eagle.phased.chr20 --numThreads=4 --geneticMapFile=../Eagle_v2.4.1/tables/genetic_map_hg19_withX.txt.gz"
   ]
  },
  {
   "cell_type": "code",
   "execution_count": null,
   "metadata": {
    "collapsed": true
   },
   "outputs": [],
   "source": [
    "# convert ref file to m3vcf format (Total Run completed in 1 hours, 46 mins, 24 seconds)\n",
    "/u/home/b/biona001/haplotype_comparisons/Minimac3/bin/Minimac3 --refHaps ref.chr20.excludeTarget.vcf.gz --processReference --prefix ref.chr20.excludeTarget"
   ]
  },
  {
   "cell_type": "code",
   "execution_count": null,
   "metadata": {
    "collapsed": true
   },
   "outputs": [],
   "source": [
    "# run minimac4 (2619 seconds)\n",
    "minimac4 --refHaps ref.chr20.excludeTarget.m3vcf.gz --haps eagle.phased.vcf.gz --prefix minimac.imputed.chr20 --format GT --cpus 4"
   ]
  },
  {
   "cell_type": "code",
   "execution_count": null,
   "metadata": {
    "collapsed": true
   },
   "outputs": [],
   "source": [
    "# minimac4 error rate    \n",
    "X_complete = convert_gt(Float32, \"target.chr20.full.vcf.gz\")\n",
    "X_minimac = convert_gt(Float32, \"minimac.imputed.chr20.dose.vcf.gz\")\n",
    "n, p = size(X_complete)\n",
    "println(\"error overall = $(sum(X_minimac .!= X_complete) / n / p) \\n\")"
   ]
  },
  {
   "cell_type": "code",
   "execution_count": null,
   "metadata": {
    "collapsed": true
   },
   "outputs": [],
   "source": []
  }
 ],
 "metadata": {
  "@webio": {
   "lastCommId": null,
   "lastKernelId": null
  },
  "kernelspec": {
   "display_name": "Julia 1.3.0-rc4",
   "language": "julia",
   "name": "julia-1.3"
  },
  "language_info": {
   "file_extension": ".jl",
   "mimetype": "application/julia",
   "name": "julia",
   "version": "1.3.1"
  }
 },
 "nbformat": 4,
 "nbformat_minor": 2
}
