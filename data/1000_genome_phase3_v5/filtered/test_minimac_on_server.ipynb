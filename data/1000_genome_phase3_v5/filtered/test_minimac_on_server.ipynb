{
 "cells": [
  {
   "cell_type": "markdown",
   "metadata": {},
   "source": [
    "# Simulate genotype data from 1000 genome data \n",
    "\n",
    "Notes:\n",
    "+ Using imputation server requires the target `vcf` file be `bgzip` compressed, but the software to do so cannot be installed locally. Wait for [this issue](https://github.com/samtools/bcftools/issues/1204) to get resolved\n",
    "+ Use minimac3 if reference panel is small (e.g. less than HRC) because Minimac4 uses approximations that may not give good accuracy for smaller panels\n",
    "\n",
    "The purpose of this document is to see whether Minimac4 on Michigan server produces roughly equivalent error rate as ran locally."
   ]
  },
  {
   "cell_type": "code",
   "execution_count": 3,
   "metadata": {
    "collapsed": false
   },
   "outputs": [
    {
     "name": "stderr",
     "output_type": "stream",
     "text": [
      "┌ Warning: no Manifest.toml file found, static paths used\n",
      "└ @ Revise /Users/biona001/.julia/packages/Revise/439di/src/Revise.jl:1108\n"
     ]
    }
   ],
   "source": [
    "using Revise\n",
    "using VCFTools\n",
    "using MendelImpute\n",
    "using GeneticVariation\n",
    "using Random\n",
    "using StatsBase"
   ]
  },
  {
   "cell_type": "markdown",
   "metadata": {},
   "source": [
    "## Simulate genotype data"
   ]
  },
  {
   "cell_type": "code",
   "execution_count": 10,
   "metadata": {
    "collapsed": false
   },
   "outputs": [
    {
     "name": "stdout",
     "output_type": "stream",
     "text": [
      "generating unique snps for chromosome 22\n",
      "simulating genotypes for chr 22\n",
      "extracting marker infos for chr 22\n",
      "saving complete genotype for chr 22\n",
      "masking entries for chr 22\n",
      "\n",
      "1700.722180 seconds (18.92 G allocations: 1.736 TiB, 12.49% gc time)\n"
     ]
    }
   ],
   "source": [
    "cd(\"/Users/biona001/.julia/dev/MendelImpute/data/1000_genome_phase3_v5/filtered\")\n",
    "function filter_and_mask()\n",
    "    for chr in [22]\n",
    "        # filter chromosome data for unique snps\n",
    "        data = \"../raw/ALL.chr$chr.phase3_v5.shapeit2_mvncall_integrated.noSingleton.genotypes.vcf.gz\"\n",
    "        println(\"generating unique snps for chromosome $chr\")\n",
    "        record_index = .!find_duplicate_marker(data)\n",
    "        VCFTools.filter(data, record_index, 1:nsamples(data), des = \"chr$chr.uniqueSNPs.vcf.gz\")\n",
    "    \n",
    "        # import haplotype data\n",
    "        H = convert_ht(Bool, \"chr$chr.uniqueSNPs.vcf.gz\", trans=true)\n",
    "\n",
    "        # simulate 500 samples: each sample's 2 haplotypes are formed from 1~6 haplotypes from H\n",
    "        Random.seed!(2020)\n",
    "        println(\"simulating genotypes for chr $chr\")\n",
    "        samples = 500\n",
    "        X = simulate_genotypes(H, samples)\n",
    "\n",
    "        # extract each marker's info\n",
    "        println(\"extracting marker infos for chr $chr\")\n",
    "        reader = VCF.Reader(openvcf(\"chr$chr.uniqueSNPs.vcf.gz\"))\n",
    "        marker_chrom = [\"$chr\" for i in 1:size(X, 1)]\n",
    "        marker_pos = zeros(Int, size(X, 1))\n",
    "        marker_ID = Vector{String}(undef, size(X, 1))\n",
    "        marker_REF = Vector{String}(undef, size(X, 1))\n",
    "        marker_ALT = Vector{String}(undef, size(X, 1))\n",
    "        for (i, record) in enumerate(reader)\n",
    "            marker_pos[i] = VCF.pos(record)\n",
    "            marker_ID[i]  = VCF.id(record)[1] \n",
    "            marker_REF[i] = VCF.ref(record)\n",
    "            marker_ALT[i] = VCF.alt(record)[1]\n",
    "        end\n",
    "\n",
    "        # save complete genotype file to disk \n",
    "        println(\"saving complete genotype for chr $chr\")\n",
    "        make_tgtvcf_file(X, vcffilename = \"chr$(chr)_simulated.vcf.gz\", marker_chrom=marker_chrom,\n",
    "            marker_pos=marker_pos, marker_ID=marker_ID, marker_REF=marker_REF, marker_ALT=marker_ALT)\n",
    "\n",
    "        # generate masking matrix with `missingprop`% of trues (true = convert to missing)\n",
    "        p = size(X, 1)\n",
    "        masks = falses(p, samples)\n",
    "        missingprop = 0.01\n",
    "        for j in 1:samples, i in 1:p\n",
    "            rand() < missingprop && (masks[i, j] = true)\n",
    "        end\n",
    "\n",
    "        # save genotype data with 1% missing data to disk \n",
    "        println(\"masking entries for chr $chr\")\n",
    "        mask_gt(\"chr$(chr)_simulated.vcf.gz\", masks, des=\"chr$(chr)_simulated_masked.vcf.gz\")\n",
    "        println(\"\")\n",
    "    end\n",
    "end\n",
    "@time filter_and_mask()"
   ]
  },
  {
   "cell_type": "markdown",
   "metadata": {},
   "source": [
    "## Run MendelImpute"
   ]
  },
  {
   "cell_type": "code",
   "execution_count": 5,
   "metadata": {
    "collapsed": false
   },
   "outputs": [
    {
     "data": {
      "text/plain": [
       "8"
      ]
     },
     "execution_count": 5,
     "metadata": {},
     "output_type": "execute_result"
    }
   ],
   "source": [
    "Threads.nthreads()"
   ]
  },
  {
   "cell_type": "code",
   "execution_count": 3,
   "metadata": {
    "collapsed": false
   },
   "outputs": [
    {
     "name": "stdout",
     "output_type": "stream",
     "text": [
      "running unique happair only, width = 500\n",
      "Running chunk 1 / 1\n"
     ]
    },
    {
     "name": "stderr",
     "output_type": "stream",
     "text": [
      "\u001b[32mImporting genotype file...100%|█████████████████████████| Time: 0:01:06\u001b[39m\n",
      "\u001b[32mImporting reference haplotype files...100%|█████████████| Time: 0:03:15\u001b[39m\n",
      "\u001b[32mComputing optimal haplotype pairs...100%|███████████████| Time: 0:10:45\u001b[39m\n",
      "\u001b[32mWriting to file...100%|█████████████████████████████████| Time: 0:02:00\u001b[39m\n"
     ]
    },
    {
     "name": "stdout",
     "output_type": "stream",
     "text": [
      "1095.460113 seconds (5.57 G allocations: 522.031 GiB, 3.88% gc time)\n",
      "error = 3.353805553703529e-5 \n",
      "\n",
      "running unique happair only, width = 1000\n",
      "Running chunk 1 / 1\n"
     ]
    },
    {
     "name": "stderr",
     "output_type": "stream",
     "text": [
      "\u001b[32mImporting genotype file...100%|█████████████████████████| Time: 0:01:05\u001b[39m\n",
      "\u001b[32mImporting reference haplotype files...100%|█████████████| Time: 0:03:19\u001b[39m\n",
      "\u001b[32mComputing optimal haplotype pairs...100%|███████████████| Time: 0:14:32\u001b[39m\n",
      "\u001b[32mWriting to file...100%|█████████████████████████████████| Time: 0:01:57\u001b[39m\n"
     ]
    },
    {
     "name": "stdout",
     "output_type": "stream",
     "text": [
      "1323.292636 seconds (5.55 G allocations: 528.525 GiB, 3.27% gc time)\n",
      "error = 1.3365605119243835e-5 \n",
      "\n"
     ]
    }
   ],
   "source": [
    "# unique happairs only method (8 threads, no bkpt search, 10% overlapping window)\n",
    "cd(\"/Users/biona001/.julia/dev/MendelImpute/data/1000_genome_phase3_v5/filtered\")\n",
    "Random.seed!(2020)\n",
    "function run()\n",
    "    X_complete = convert_gt(Float32, \"chr22_simulated.vcf.gz\")\n",
    "    n, p = size(X_complete)\n",
    "    for width in [500, 1000]\n",
    "        println(\"running unique happair only, width = $width\")\n",
    "        tgtfile = \"./chr22_simulated_masked.vcf.gz\"\n",
    "        reffile = \"./chr22.uniqueSNPs.vcf.gz\"\n",
    "        outfile = \"./mendel_imputed_uniqonly_$(width).vcf.gz\"\n",
    "        @time phase(tgtfile, reffile, outfile = outfile, width = width, unique_only=true)\n",
    "        X_mendel = convert_gt(Float32, outfile)\n",
    "        println(\"error = $(sum(X_mendel .!= X_complete) / n / p) \\n\")\n",
    "    end\n",
    "end\n",
    "run()"
   ]
  },
  {
   "cell_type": "code",
   "execution_count": 7,
   "metadata": {
    "collapsed": false
   },
   "outputs": [
    {
     "name": "stdout",
     "output_type": "stream",
     "text": [
      "running unique happair only, width = 1000\n",
      "Running chunk 1 / 1\n"
     ]
    },
    {
     "name": "stderr",
     "output_type": "stream",
     "text": [
      "\u001b[32mImporting genotype file...100%|█████████████████████████| Time: 0:01:06\u001b[39m\n",
      "\u001b[32mImporting reference haplotype files...100%|█████████████| Time: 0:03:08\u001b[39m\n",
      "\u001b[32mComputing optimal haplotype pairs...100%|███████████████| Time: 0:14:50\u001b[39m\n",
      "\u001b[32mImputing samples...100%|████████████████████████████████| Time: 0:01:18\u001b[39m\n",
      "\u001b[32mWriting to file...100%|█████████████████████████████████| Time: 0:01:48\u001b[39m\n"
     ]
    },
    {
     "name": "stdout",
     "output_type": "stream",
     "text": [
      "1399.472408 seconds (5.56 G allocations: 530.606 GiB, 3.33% gc time)\n",
      "error = 3.070057788410997e-6 \n",
      "\n"
     ]
    }
   ],
   "source": [
    "# dynamic programming method (8 threads, 10% overlapping window)\n",
    "cd(\"/Users/biona001/.julia/dev/MendelImpute/data/1000_genome_phase3_v5/filtered\")\n",
    "Random.seed!(2020)\n",
    "function test()\n",
    "    X_complete = convert_gt(Float32, \"chr22_simulated.vcf.gz\")\n",
    "    n, p = size(X_complete)\n",
    "    for width in 1000\n",
    "        println(\"running unique happair only, width = $width\")\n",
    "        tgtfile = \"./chr22_simulated_masked.vcf.gz\"\n",
    "        reffile = \"./chr22.uniqueSNPs.vcf.gz\"\n",
    "        outfile = \"./mendel_imputed_uniqonly_$(width).vcf.gz\"\n",
    "        @time phase(tgtfile, reffile, outfile = outfile, width = width, fast_method=false)\n",
    "        X_mendel = convert_gt(Float32, outfile)\n",
    "        println(\"error = $(sum(X_mendel .!= X_complete) / n / p) \\n\")\n",
    "    end\n",
    "end\n",
    "test()"
   ]
  },
  {
   "cell_type": "markdown",
   "metadata": {},
   "source": [
    "# Run Beagle5 locally"
   ]
  },
  {
   "cell_type": "code",
   "execution_count": 2,
   "metadata": {
    "collapsed": false
   },
   "outputs": [
    {
     "name": "stdout",
     "output_type": "stream",
     "text": [
      "beagle.28Sep18.793.jar (version 5.0)\n",
      "Copyright (C) 2014-2018 Brian L. Browning\n",
      "Enter \"java -jar beagle.28Sep18.793.jar\" to list command line argument\n",
      "Start time: 05:23 PM PDT on 16 Apr 2020\n",
      "\n",
      "Command line: java -Xmx13653m -jar beagle.28Sep18.793.jar\n",
      "  gt=chr22_simulated_masked.vcf.gz\n",
      "  ref=chr22.uniqueSNPs.vcf.gz\n",
      "  out=beagle_imputed\n",
      "  nthreads=4\n",
      "\n",
      "No genetic map is specified: using 1 cM = 1 Mb\n",
      "\n",
      "Reference samples:       2,504\n",
      "Study samples:             500\n",
      "\n",
      "Window 1 (22:16050115-51244237)\n",
      "Reference markers:     644,939\n",
      "Study markers:         644,939\n",
      "\n",
      "Burnin  iteration 1:           3 minutes 53 seconds\n",
      "Burnin  iteration 2:           4 minutes 1 second\n",
      "Burnin  iteration 3:           7 minutes 18 seconds\n",
      "Burnin  iteration 4:           8 minutes 55 seconds\n",
      "Burnin  iteration 5:           10 minutes 25 seconds\n",
      "Burnin  iteration 6:           10 minutes 43 seconds\n",
      "\n",
      "Phasing iteration 1:           10 minutes 45 seconds\n",
      "Phasing iteration 2:           10 minutes 7 seconds\n",
      "Phasing iteration 3:           10 minutes 12 seconds\n",
      "Phasing iteration 4:           9 minutes 40 seconds\n",
      "Phasing iteration 5:           9 minutes 38 seconds\n",
      "Phasing iteration 6:           9 minutes 41 seconds\n",
      "Phasing iteration 7:           9 minutes 37 seconds\n",
      "Phasing iteration 8:           9 minutes 37 seconds\n",
      "Phasing iteration 9:           9 minutes 9 seconds\n",
      "Phasing iteration 10:          9 minutes 11 seconds\n",
      "Phasing iteration 11:          9 minutes 30 seconds\n",
      "Phasing iteration 12:          9 minutes 18 seconds\n",
      "\n",
      "Cumulative Statistics:\n",
      "\n",
      "Study markers:         644,939\n",
      "\n",
      "Haplotype phasing time:        2 hours 41 minutes 40 seconds\n",
      "Total time:                    2 hours 43 minutes 54 seconds\n",
      "\n",
      "End time: 08:07 PM PDT on 16 Apr 2020\n",
      "beagle.28Sep18.793.jar finished\n"
     ]
    },
    {
     "ename": "UndefVarError",
     "evalue": "UndefVarError: convert_gt not defined",
     "output_type": "error",
     "traceback": [
      "UndefVarError: convert_gt not defined",
      "",
      "Stacktrace:",
      " [1] beagle() at ./In[2]:7",
      " [2] top-level scope at In[2]:12"
     ]
    }
   ],
   "source": [
    "# beagle 5\n",
    "cd(\"/Users/biona001/.julia/dev/MendelImpute/data/1000_genome_phase3_v5/filtered\")\n",
    "function beagle()\n",
    "    run(`java -Xmx15g -jar beagle.28Sep18.793.jar gt=chr22_simulated_masked.vcf.gz ref=chr22.uniqueSNPs.vcf.gz out=beagle_imputed nthreads=4`)\n",
    "end\n",
    "beagle()"
   ]
  },
  {
   "cell_type": "code",
   "execution_count": 4,
   "metadata": {
    "collapsed": false
   },
   "outputs": [
    {
     "name": "stdout",
     "output_type": "stream",
     "text": [
      "error = 4.7446347639079044e-7\n"
     ]
    }
   ],
   "source": [
    "# error rate\n",
    "X_complete = convert_gt(Float32, \"chr22_simulated.vcf.gz\")\n",
    "X_beagle = convert_gt(Float32, \"beagle_imputed.vcf.gz\")\n",
    "n, p = size(X_complete)\n",
    "println(\"error = $(sum(X_beagle .!= X_complete) / n / p)\")"
   ]
  },
  {
   "cell_type": "markdown",
   "metadata": {},
   "source": [
    "# Prephase using Beagle 4.1"
   ]
  },
  {
   "cell_type": "code",
   "execution_count": null,
   "metadata": {
    "collapsed": true
   },
   "outputs": [],
   "source": [
    "# beagle 4.1 for prephasing\n",
    "cd(\"/Users/biona001/.julia/dev/MendelImpute/data/1000_genome_phase3_v5/filtered\")\n",
    "function beagle()\n",
    "    run(`java -Xmx15g -jar beagle.27Jan18.7e1.jar gt=chr22_simulated_masked.vcf.gz ref=chr22.uniqueSNPs.vcf.gz out=beagle_prephased niterations=0 nthreads=4`)\n",
    "end\n",
    "beagle()"
   ]
  },
  {
   "cell_type": "markdown",
   "metadata": {},
   "source": [
    "# Run Minimac4 locally"
   ]
  },
  {
   "cell_type": "code",
   "execution_count": null,
   "metadata": {
    "collapsed": true
   },
   "outputs": [],
   "source": []
  },
  {
   "cell_type": "markdown",
   "metadata": {
    "collapsed": false
   },
   "source": [
    "# run in terminal\n",
    "\n",
    "```minimac4 --refHaps chr22.uniqueSNPs.vcf.gz --haps chr22_simulated_masked.vcf.gz --prefix minimac_imputed_chr22 --format GT --cpus 8```"
   ]
  },
  {
   "cell_type": "markdown",
   "metadata": {
    "collapsed": true
   },
   "source": [
    "# Submit on Michigan server (Minimac4 v1.2.4)\n",
    "+ Reference panel = 1000 genome phase3 v5\n",
    "+ Input files = `chr22_simulated_masked.vcf` (needed VCF v4.2 instead of 4.3)\n",
    "+ Array build = GRCh37/hg19 \n",
    "+ rsq filter = off\n",
    "+ Phasing = Eagle 2.4\n",
    "+ Population = EUR\n",
    "+ Mode = QC + imputation\n"
   ]
  },
  {
   "cell_type": "code",
   "execution_count": null,
   "metadata": {
    "collapsed": true
   },
   "outputs": [],
   "source": []
  }
 ],
 "metadata": {
  "kernelspec": {
   "display_name": "Julia 1.3.0-rc4",
   "language": "julia",
   "name": "julia-1.3"
  },
  "language_info": {
   "file_extension": ".jl",
   "mimetype": "application/julia",
   "name": "julia",
   "version": "1.3.1"
  }
 },
 "nbformat": 4,
 "nbformat_minor": 2
}
