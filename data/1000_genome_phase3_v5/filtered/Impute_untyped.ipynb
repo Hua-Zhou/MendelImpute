{
 "cells": [
  {
   "cell_type": "markdown",
   "metadata": {},
   "source": [
    "# Test if MendelImpute can impute untyped SNPs"
   ]
  },
  {
   "cell_type": "code",
   "execution_count": 1,
   "metadata": {
    "collapsed": false
   },
   "outputs": [
    {
     "name": "stderr",
     "output_type": "stream",
     "text": [
      "┌ Warning: no Manifest.toml file found, static paths used\n",
      "└ @ Revise /Users/biona001/.julia/packages/Revise/439di/src/Revise.jl:1108\n",
      "┌ Info: Precompiling MendelImpute [e47305d1-6a61-5370-bc5d-77554d143183]\n",
      "└ @ Base loading.jl:1273\n"
     ]
    }
   ],
   "source": [
    "using Revise\n",
    "using VCFTools\n",
    "using MendelImpute\n",
    "using GeneticVariation\n",
    "using Random\n",
    "using StatsBase"
   ]
  },
  {
   "cell_type": "markdown",
   "metadata": {},
   "source": [
    "## Generate subset of markers for prephasing"
   ]
  },
  {
   "cell_type": "code",
   "execution_count": 9,
   "metadata": {
    "collapsed": false
   },
   "outputs": [
    {
     "name": "stdout",
     "output_type": "stream",
     "text": [
      "518.674055 seconds (4.91 G allocations: 463.590 GiB, 6.91% gc time)\n",
      "408.077262 seconds (4.98 G allocations: 468.249 GiB, 9.76% gc time)\n",
      "468.039349 seconds (5.98 G allocations: 532.367 GiB, 10.40% gc time)\n",
      "  9.026809 seconds (76.61 M allocations: 8.666 GiB, 7.27% gc time)\n"
     ]
    },
    {
     "name": "stderr",
     "output_type": "stream",
     "text": [
      "┌ Info: Match target POS to reference POS\n",
      "└ @ VCFTools /Users/biona001/.julia/dev/VCFTools/src/conformgt.jl:172\n",
      "\u001b[32mProgress: 100%|█████████████████████████████████████████| Time: 0:03:39\u001b[39m\n"
     ]
    },
    {
     "name": "stdout",
     "output_type": "stream",
     "text": [
      "222.652131 seconds (3.53 G allocations: 319.207 GiB, 13.04% gc time)\n"
     ]
    },
    {
     "name": "stderr",
     "output_type": "stream",
     "text": [
      "┌ Info: 100000 records are matched\n",
      "└ @ VCFTools /Users/biona001/.julia/dev/VCFTools/src/conformgt.jl:239\n"
     ]
    },
    {
     "name": "stdout",
     "output_type": "stream",
     "text": [
      "2033.064735 seconds (24.41 G allocations: 2.204 TiB, 9.36% gc time)\n"
     ]
    }
   ],
   "source": [
    "cd(\"/Users/biona001/.julia/dev/MendelImpute/data/1000_genome_phase3_v5/filtered\")\n",
    "function filter_and_mask()\n",
    "    for chr in [22]\n",
    "        # filter chromosome data for unique snps\n",
    "        data = \"../raw/ALL.chr$chr.phase3_v5.shapeit2_mvncall_integrated.noSingleton.genotypes.vcf.gz\"\n",
    "        full_record_index = .!find_duplicate_marker(data)\n",
    "        @time VCFTools.filter(data, full_record_index, 1:nsamples(data), \n",
    "            des = \"chr$chr.uniqueSNPs.vcf.gz\")\n",
    "    \n",
    "        # generate target file with 250 samples and 100k snps\n",
    "        n = 250\n",
    "        p = 100000\n",
    "        Random.seed!(2020)\n",
    "        record_idx = falses(nrecords(\"chr$chr.uniqueSNPs.vcf.gz\"))\n",
    "        record_idx[1:p] .= true\n",
    "        shuffle!(record_idx)\n",
    "        sample_idx = falses(nsamples(\"chr$chr.uniqueSNPs.vcf.gz\"))\n",
    "        sample_idx[1:n] .= true\n",
    "        shuffle!(sample_idx)\n",
    "        @time VCFTools.filter(\"chr$chr.uniqueSNPs.vcf.gz\", record_idx, sample_idx, \n",
    "            des = \"target.chr$chr.vcf.gz\")\n",
    "\n",
    "        # also generate reference panel without target samples\n",
    "        @time VCFTools.filter(\"chr$chr.uniqueSNPs.vcf.gz\", record_idx, \n",
    "            .!sample_idx, des = \"ref.chr$chr.excludeTarget.vcf.gz\")\n",
    "        \n",
    "        # unphase and mask 1% entries in target file\n",
    "        masks = falses(p, n)\n",
    "        missingprop = 0.01\n",
    "        Random.seed!(2020)\n",
    "        for j in 1:n, i in 1:p\n",
    "            rand() < missingprop && (masks[i, j] = true)\n",
    "        end\n",
    "        @time mask_gt(\"target.chr$chr.vcf.gz\", masks, \n",
    "            des=\"target.chr$(chr).masked.vcf.gz\", unphase=true)\n",
    "    \n",
    "        # generate subset of reference file that matches target file\n",
    "        @time conformgt_by_pos(\"ref.chr$chr.excludeTarget.vcf.gz\", \n",
    "            \"target.chr$(chr).masked.vcf.gz\", \n",
    "            \"chr$chr.aligned\", \"$chr\", 1:typemax(Int))\n",
    "        if nrecords(\"chr$chr.aligned.tgt.vcf.gz\") == p\n",
    "            rm(\"chr$chr.aligned.tgt.vcf.gz\", force=true) # perfect match\n",
    "        else\n",
    "            error(\"target file has SNPs not matching in reference file! Shouldn't happen!\")\n",
    "        end\n",
    "    end \n",
    "end\n",
    "@time filter_and_mask()"
   ]
  },
  {
   "cell_type": "code",
   "execution_count": 10,
   "metadata": {
    "collapsed": false
   },
   "outputs": [
    {
     "data": {
      "text/plain": [
       "(637756, 100000)"
      ]
     },
     "execution_count": 10,
     "metadata": {},
     "output_type": "execute_result"
    }
   ],
   "source": [
    "nrecords(\"ref.chr$chr.excludeTarget.vcf.gz\"), nrecords(\"target.chr$(chr).masked.vcf.gz\")"
   ]
  },
  {
   "cell_type": "code",
   "execution_count": 16,
   "metadata": {
    "collapsed": false
   },
   "outputs": [
    {
     "data": {
      "text/plain": [
       "0"
      ]
     },
     "execution_count": 16,
     "metadata": {},
     "output_type": "execute_result"
    }
   ],
   "source": [
    "tgtfile = \"target.chr$(chr).masked.vcf.gz\"\n",
    "reader_tgt = VCF.Reader(openvcf(tgtfile, \"r\"))\n",
    "how_many_missed = 0\n",
    "for record in reader_tgt\n",
    "    VCF.findgenokey(record, \"GT\") == nothing && (how_many_missed += 1)\n",
    "    VCF.chrom(record) == \"22\" || (how_many_missed += 1)\n",
    "    pos_tgt = VCF.pos(record)\n",
    "    pos_tgt > last(1:typemax(Int)) && (how_many_missed += 1)\n",
    "    pos_tgt < first(1:typemax(Int)) && (how_many_missed += 1)\n",
    "end\n",
    "how_many_missed"
   ]
  },
  {
   "cell_type": "code",
   "execution_count": 4,
   "metadata": {
    "collapsed": false
   },
   "outputs": [
    {
     "name": "stdout",
     "output_type": "stream",
     "text": [
      "  7.105112 seconds (78.77 M allocations: 8.777 GiB, 8.02% gc time)\n"
     ]
    },
    {
     "data": {
      "text/plain": [
       "100000-element Array{Int64,1}:\n",
       " 16050627\n",
       " 16050954\n",
       " 16051477\n",
       " 16051816\n",
       " 16052097\n",
       " 16052167\n",
       " 16052394\n",
       " 16052957\n",
       " 16053444\n",
       " 16053782\n",
       " 16053814\n",
       " 16053843\n",
       " 16054070\n",
       "        ⋮\n",
       " 51234199\n",
       " 51234894\n",
       " 51236013\n",
       " 51236137\n",
       " 51237063\n",
       " 51237071\n",
       " 51237364\n",
       " 51237712\n",
       " 51238349\n",
       " 51239651\n",
       " 51239794\n",
       " 51241101"
      ]
     },
     "execution_count": 4,
     "metadata": {},
     "output_type": "execute_result"
    }
   ],
   "source": [
    "function get_tgtmarkers()\n",
    "    chr = 22\n",
    "    tgt_marker_pos = zeros(Int, nrecords(\"target.chr$(chr).masked.vcf.gz\"))\n",
    "    tgtfile = \"target.chr$(chr).masked.vcf.gz\"\n",
    "    reader_tgt = VCF.Reader(openvcf(tgtfile, \"r\"))\n",
    "    for (i, record) in enumerate(reader_tgt)\n",
    "        tgt_marker_pos[i] = VCF.pos(record)\n",
    "    end\n",
    "    close(reader_tgt)\n",
    "    return tgt_marker_pos\n",
    "end\n",
    "@time tgt_marker_pos = get_tgtmarkers()"
   ]
  },
  {
   "cell_type": "code",
   "execution_count": 7,
   "metadata": {
    "collapsed": false
   },
   "outputs": [
    {
     "name": "stdout",
     "output_type": "stream",
     "text": [
      "367.495032 seconds (4.33 G allocations: 413.289 GiB, 9.63% gc time)\n"
     ]
    },
    {
     "data": {
      "text/plain": [
       "637756-element Array{Int64,1}:\n",
       " 16050115\n",
       " 16050213\n",
       " 16050568\n",
       " 16050607\n",
       " 16050627\n",
       " 16050654\n",
       " 16050840\n",
       " 16050847\n",
       " 16050922\n",
       " 16050954\n",
       " 16050984\n",
       " 16050994\n",
       " 16051075\n",
       "        ⋮\n",
       " 51239651\n",
       " 51239652\n",
       " 51239678\n",
       " 51239794\n",
       " 51240084\n",
       " 51240820\n",
       " 51241101\n",
       " 51241102\n",
       " 51241285\n",
       " 51241386\n",
       " 51244163\n",
       " 51244237"
      ]
     },
     "execution_count": 7,
     "metadata": {},
     "output_type": "execute_result"
    }
   ],
   "source": [
    "function get_refmarkers()\n",
    "    chr = 22\n",
    "    ref_marker_pos = zeros(Int, nrecords(\"ref.chr$chr.excludeTarget.vcf.gz\"))\n",
    "    reffile = \"ref.chr$chr.excludeTarget.vcf.gz\"\n",
    "    reader_ref = VCF.Reader(openvcf(reffile, \"r\"))\n",
    "    for (i, record) in enumerate(reader_ref)\n",
    "        ref_marker_pos[i] = VCF.pos(record)\n",
    "    end\n",
    "    close(reader_ref)\n",
    "    return ref_marker_pos\n",
    "end\n",
    "@time ref_marker_pos = get_refmarkers()"
   ]
  },
  {
   "cell_type": "code",
   "execution_count": 8,
   "metadata": {
    "collapsed": false
   },
   "outputs": [
    {
     "data": {
      "text/plain": [
       "1089"
      ]
     },
     "execution_count": 8,
     "metadata": {},
     "output_type": "execute_result"
    }
   ],
   "source": [
    "counter = 0\n",
    "for i in tgt_marker_pos\n",
    "    i in ref_marker_pos || (counter += 1)\n",
    "end\n",
    "counter"
   ]
  },
  {
   "cell_type": "code",
   "execution_count": null,
   "metadata": {
    "collapsed": true
   },
   "outputs": [],
   "source": []
  },
  {
   "cell_type": "code",
   "execution_count": null,
   "metadata": {
    "collapsed": true
   },
   "outputs": [],
   "source": []
  },
  {
   "cell_type": "code",
   "execution_count": null,
   "metadata": {
    "collapsed": true
   },
   "outputs": [],
   "source": []
  },
  {
   "cell_type": "code",
   "execution_count": 8,
   "metadata": {
    "collapsed": false
   },
   "outputs": [
    {
     "data": {
      "text/plain": [
       "98911"
      ]
     },
     "execution_count": 8,
     "metadata": {},
     "output_type": "execute_result"
    }
   ],
   "source": [
    "nrecords(\"chr$chr.aligned.tgt.vcf.gz\")"
   ]
  },
  {
   "cell_type": "code",
   "execution_count": 9,
   "metadata": {
    "collapsed": false
   },
   "outputs": [
    {
     "data": {
      "text/plain": [
       "98911"
      ]
     },
     "execution_count": 9,
     "metadata": {},
     "output_type": "execute_result"
    }
   ],
   "source": [
    "nrecords(\"chr$chr.aligned.ref.vcf.gz\")"
   ]
  },
  {
   "cell_type": "code",
   "execution_count": null,
   "metadata": {
    "collapsed": true
   },
   "outputs": [],
   "source": [
    "\"ref.chr$chr.excludeTarget.vcf.gz\""
   ]
  },
  {
   "cell_type": "markdown",
   "metadata": {},
   "source": [
    "# Using complete ref panel, phase subset of markers with dp"
   ]
  },
  {
   "cell_type": "code",
   "execution_count": 3,
   "metadata": {
    "collapsed": false
   },
   "outputs": [
    {
     "data": {
      "text/plain": [
       "1"
      ]
     },
     "execution_count": 3,
     "metadata": {},
     "output_type": "execute_result"
    }
   ],
   "source": [
    "Threads.nthreads()"
   ]
  },
  {
   "cell_type": "code",
   "execution_count": 11,
   "metadata": {
    "collapsed": false
   },
   "outputs": [
    {
     "name": "stdout",
     "output_type": "stream",
     "text": [
      "(nrecords(tgtfile), nsamples(tgtfile)) = (100000, 250)\n",
      "(nrecords(reffile), nsamples(reffile)) = (100000, 2254)\n",
      "(nrecords(reffile_aligned), nsamples(reffile_aligned)) = (100000, 2254)\n"
     ]
    },
    {
     "data": {
      "text/plain": [
       "(100000, 2254)"
      ]
     },
     "execution_count": 11,
     "metadata": {},
     "output_type": "execute_result"
    }
   ],
   "source": [
    "chr = 22\n",
    "tgtfile = \"target.chr$chr.masked.vcf.gz\"\n",
    "reffile = \"ref.chr$chr.excludeTarget.vcf.gz\"\n",
    "reffile_aligned = \"chr$chr.aligned.ref.vcf.gz\"\n",
    "@show nrecords(tgtfile), nsamples(tgtfile)\n",
    "@show nrecords(reffile), nsamples(reffile)\n",
    "@show nrecords(reffile_aligned), nsamples(reffile_aligned)"
   ]
  },
  {
   "cell_type": "code",
   "execution_count": 14,
   "metadata": {
    "collapsed": false
   },
   "outputs": [
    {
     "name": "stdout",
     "output_type": "stream",
     "text": [
      "Imputing typed SNPs only with dynamic programming, width = 500\n",
      "Running chunk 1 / 1\n"
     ]
    },
    {
     "name": "stderr",
     "output_type": "stream",
     "text": [
      "\u001b[32mImporting genotype file...100%|█████████████████████████| Time: 0:00:05\u001b[39m\n",
      "\u001b[32mImporting reference haplotype files...100%|█████████████| Time: 0:00:30\u001b[39m\n",
      "\u001b[32mComputing optimal haplotype pairs...100%|███████████████| Time: 0:01:57\u001b[39m\n",
      "\u001b[32mImputing samples...100%|████████████████████████████████| Time: 0:00:06\u001b[39m\n",
      "\u001b[32mWriting to file...100%|█████████████████████████████████| Time: 0:00:10\u001b[39m\n"
     ]
    },
    {
     "name": "stdout",
     "output_type": "stream",
     "text": [
      "180.914743 seconds (685.21 M allocations: 72.913 GiB, 4.97% gc time)\n",
      "error = 6.0e-6 \n",
      "\n",
      "Imputing typed SNPs only with dynamic programming, width = 1000\n",
      "Running chunk 1 / 1\n"
     ]
    },
    {
     "name": "stderr",
     "output_type": "stream",
     "text": [
      "\u001b[32mImporting genotype file...100%|█████████████████████████| Time: 0:00:05\u001b[39m\n",
      "\u001b[32mImporting reference haplotype files...100%|█████████████| Time: 0:00:31\u001b[39m\n",
      "\u001b[32mComputing optimal haplotype pairs...100%|███████████████| Time: 0:01:30\u001b[39m\n",
      "\u001b[32mWriting to file...100%|█████████████████████████████████| Time: 0:00:09\u001b[39m\n"
     ]
    },
    {
     "name": "stdout",
     "output_type": "stream",
     "text": [
      "148.181139 seconds (684.21 M allocations: 70.699 GiB, 5.99% gc time)\n",
      "error = 5.6e-7 \n",
      "\n",
      "Imputing typed SNPs only with dynamic programming, width = 1500\n",
      "Running chunk 1 / 1\n"
     ]
    },
    {
     "name": "stderr",
     "output_type": "stream",
     "text": [
      "\u001b[32mImporting genotype file...100%|█████████████████████████| Time: 0:00:05\u001b[39m\n",
      "\u001b[32mImporting reference haplotype files...100%|█████████████| Time: 0:00:29\u001b[39m\n",
      "\u001b[32mComputing optimal haplotype pairs...100%|███████████████| Time: 0:01:05\u001b[39m\n",
      "\u001b[32mWriting to file...100%|█████████████████████████████████| Time: 0:00:09\u001b[39m\n"
     ]
    },
    {
     "name": "stdout",
     "output_type": "stream",
     "text": [
      "119.986834 seconds (683.78 M allocations: 68.668 GiB, 6.90% gc time)\n",
      "error = 1.2e-7 \n",
      "\n",
      "Imputing typed SNPs only with dynamic programming, width = 2000\n",
      "Running chunk 1 / 1\n"
     ]
    },
    {
     "name": "stderr",
     "output_type": "stream",
     "text": [
      "\u001b[32mImporting genotype file...100%|█████████████████████████| Time: 0:00:05\u001b[39m\n",
      "\u001b[32mImporting reference haplotype files...100%|█████████████| Time: 0:00:30\u001b[39m\n",
      "\u001b[32mComputing optimal haplotype pairs...100%|███████████████| Time: 0:00:53\u001b[39m\n",
      "\u001b[32mWriting to file...100%|█████████████████████████████████| Time: 0:00:09\u001b[39m\n"
     ]
    },
    {
     "name": "stdout",
     "output_type": "stream",
     "text": [
      "108.554973 seconds (683.55 M allocations: 67.577 GiB, 7.45% gc time)\n",
      "error = 4.0e-8 \n",
      "\n"
     ]
    }
   ],
   "source": [
    "# using complete ref panel\n",
    "cd(\"/Users/biona001/.julia/dev/MendelImpute/data/1000_genome_phase3_v5/filtered\")\n",
    "Random.seed!(2020)\n",
    "function run()\n",
    "    X_complete = convert_gt(Float32, \"target.chr22.vcf.gz\")\n",
    "    n, p = size(X_complete)\n",
    "    chr = 22\n",
    "    for width in [500, 1000, 1500, 2000]\n",
    "        println(\"Imputing typed SNPs only with dynamic programming, width = $width\")\n",
    "        tgtfile = \"target.chr$chr.masked.vcf.gz\"\n",
    "        reffile = \"chr$chr.conformgt.matched.ref.vcf.gz\"\n",
    "        outfile = \"mendel.imputed.typedOnly.dp$width.vcf.gz\"\n",
    "        reffile_aligned = \"chr$chr.conformgt.matched.ref.vcf.gz\"\n",
    "        @time phase(tgtfile, reffile, reffile_aligned = reffile_aligned,\n",
    "            outfile = outfile, width = width, fast_method=false)\n",
    "        X_mendel = convert_gt(Float32, outfile)\n",
    "        println(\"error = $(sum(X_mendel .!= X_complete) / n / p) \\n\")\n",
    "    end\n",
    "end\n",
    "run()"
   ]
  },
  {
   "cell_type": "code",
   "execution_count": null,
   "metadata": {
    "collapsed": true
   },
   "outputs": [],
   "source": []
  },
  {
   "cell_type": "code",
   "execution_count": null,
   "metadata": {
    "collapsed": true
   },
   "outputs": [],
   "source": []
  },
  {
   "cell_type": "code",
   "execution_count": null,
   "metadata": {
    "collapsed": true
   },
   "outputs": [],
   "source": []
  },
  {
   "cell_type": "code",
   "execution_count": null,
   "metadata": {
    "collapsed": true
   },
   "outputs": [],
   "source": []
  },
  {
   "cell_type": "code",
   "execution_count": null,
   "metadata": {
    "collapsed": true
   },
   "outputs": [],
   "source": []
  },
  {
   "cell_type": "code",
   "execution_count": null,
   "metadata": {
    "collapsed": true
   },
   "outputs": [],
   "source": []
  }
 ],
 "metadata": {
  "@webio": {
   "lastCommId": null,
   "lastKernelId": null
  },
  "kernelspec": {
   "display_name": "Julia 1.3.0-rc4",
   "language": "julia",
   "name": "julia-1.3"
  },
  "language_info": {
   "file_extension": ".jl",
   "mimetype": "application/julia",
   "name": "julia",
   "version": "1.3.1"
  }
 },
 "nbformat": 4,
 "nbformat_minor": 2
}
