{
 "cells": [
  {
   "cell_type": "markdown",
   "metadata": {},
   "source": [
    "# Test if MendelImpute can impute untyped SNPs"
   ]
  },
  {
   "cell_type": "code",
   "execution_count": 1,
   "metadata": {
    "collapsed": false
   },
   "outputs": [
    {
     "name": "stderr",
     "output_type": "stream",
     "text": [
      "┌ Warning: no Manifest.toml file found, static paths used\n",
      "└ @ Revise /Users/biona001/.julia/packages/Revise/439di/src/Revise.jl:1108\n",
      "┌ Info: Precompiling MendelImpute [e47305d1-6a61-5370-bc5d-77554d143183]\n",
      "└ @ Base loading.jl:1273\n"
     ]
    }
   ],
   "source": [
    "using Revise\n",
    "using VCFTools\n",
    "using MendelImpute\n",
    "using GeneticVariation\n",
    "using Random\n",
    "using StatsBase"
   ]
  },
  {
   "cell_type": "markdown",
   "metadata": {},
   "source": [
    "## Generate subset of markers for prephasing"
   ]
  },
  {
   "cell_type": "code",
   "execution_count": 2,
   "metadata": {
    "collapsed": false
   },
   "outputs": [
    {
     "name": "stderr",
     "output_type": "stream",
     "text": [
      "\u001b[32mProgress: 100%|█████████████████████████████████████████| Time: 0:08:32\u001b[39m\n"
     ]
    },
    {
     "name": "stdout",
     "output_type": "stream",
     "text": [
      "400.374871 seconds (4.98 G allocations: 468.120 GiB, 9.98% gc time)\n",
      "472.964733 seconds (5.67 G allocations: 522.326 GiB, 11.03% gc time)\n",
      "909.764993 seconds (12.13 G allocations: 935.917 GiB, 13.36% gc time)\n",
      " 13.910180 seconds (76.61 M allocations: 8.666 GiB, 6.13% gc time)\n"
     ]
    },
    {
     "name": "stderr",
     "output_type": "stream",
     "text": [
      "┌ Info: Match target POS to reference POS\n",
      "└ @ VCFTools /Users/biona001/.julia/dev/VCFTools/src/conformgt.jl:172\n",
      "\u001b[32mProgress: 100%|█████████████████████████████████████████| Time: 0:09:57\u001b[39m\n"
     ]
    },
    {
     "name": "stdout",
     "output_type": "stream",
     "text": [
      "616.684922 seconds (7.23 G allocations: 672.405 GiB, 10.84% gc time)\n"
     ]
    },
    {
     "name": "stderr",
     "output_type": "stream",
     "text": [
      "┌ Info: 100000 records are matched\n",
      "└ @ VCFTools /Users/biona001/.julia/dev/VCFTools/src/conformgt.jl:239\n"
     ]
    },
    {
     "ename": "ArgumentError",
     "evalue": "ArgumentError: 'ref.chr22.aligned.vcf.gz' exists. `force=true` is required to remove 'ref.chr22.aligned.vcf.gz' before moving.",
     "output_type": "error",
     "traceback": [
      "ArgumentError: 'ref.chr22.aligned.vcf.gz' exists. `force=true` is required to remove 'ref.chr22.aligned.vcf.gz' before moving.",
      "",
      "Stacktrace:",
      " [1] #checkfor_mv_cp_cptree#10(::Bool, ::typeof(Base.Filesystem.checkfor_mv_cp_cptree), ::String, ::String, ::String) at ./file.jl:301",
      " [2] #checkfor_mv_cp_cptree at ./none:0 [inlined]",
      " [3] #mv#13 at ./file.jl:385 [inlined]",
      " [4] mv at ./file.jl:385 [inlined]",
      " [5] filter_and_mask() at ./In[2]:52",
      " [6] top-level scope at util.jl:155",
      " [7] top-level scope at In[2]:56"
     ]
    }
   ],
   "source": [
    "cd(\"/Users/biona001/.julia/dev/MendelImpute/data/1000_genome_phase3_v5/filtered\")\n",
    "function filter_and_mask()\n",
    "    for chr in [22]\n",
    "        # filter chromosome data for unique snps\n",
    "#         data = \"../raw/ALL.chr$chr.phase3_v5.shapeit2_mvncall_integrated.noSingleton.genotypes.vcf.gz\"\n",
    "#         full_record_index = .!find_duplicate_marker(data)\n",
    "#         @time VCFTools.filter(data, full_record_index, 1:nsamples(data), \n",
    "#             des = \"chr$chr.uniqueSNPs.vcf.gz\")\n",
    "\n",
    "        # summarize data\n",
    "        total_snps, samples, _, _, _, maf_by_record, _ = gtstats(\"chr$chr.uniqueSNPs.vcf.gz\")\n",
    "\n",
    "        # generate target file with 250 samples and 100k snps with maf>0.05\n",
    "        n = 250\n",
    "        p = 100000\n",
    "        record_idx = falses(total_snps)\n",
    "        large_maf = findall(x -> x > 0.05, maf_by_record)  \n",
    "        shuffle!(large_maf)\n",
    "        record_idx[large_maf[1:p]] .= true\n",
    "        sample_idx = falses(samples)\n",
    "        sample_idx[1:n] .= true\n",
    "        shuffle!(sample_idx)\n",
    "        @time VCFTools.filter(\"chr$chr.uniqueSNPs.vcf.gz\", record_idx, sample_idx, \n",
    "            des = \"target.chr$chr.typedOnly.vcf.gz\")\n",
    "\n",
    "        # generate target panel with all snps\n",
    "        @time VCFTools.filter(\"chr$chr.uniqueSNPs.vcf.gz\", \n",
    "            1:total_snps, sample_idx, des = \"target.chr$chr.full.vcf.gz\")\n",
    "\n",
    "        # also generate reference panel without target samples\n",
    "        @time VCFTools.filter(\"chr$chr.uniqueSNPs.vcf.gz\", \n",
    "            1:total_snps, .!sample_idx, des = \"ref.chr$chr.excludeTarget.vcf.gz\")\n",
    "\n",
    "        # unphase and mask 1% entries in target file\n",
    "        masks = falses(p, n)\n",
    "        missingprop = 0.01\n",
    "        for j in 1:n, i in 1:p\n",
    "            rand() < missingprop && (masks[i, j] = true)\n",
    "        end\n",
    "        @time mask_gt(\"target.chr$chr.typedOnly.vcf.gz\", masks, \n",
    "            des=\"target.chr$chr.typedOnly.masked.vcf.gz\", unphase=true)\n",
    "\n",
    "        # generate subset of reference file that matches target file\n",
    "        @time conformgt_by_pos(\"ref.chr$chr.excludeTarget.vcf.gz\", \n",
    "            \"target.chr$(chr).typedOnly.masked.vcf.gz\", \n",
    "            \"chr$chr.aligned\", \"$chr\", 1:typemax(Int))\n",
    "        if nrecords(\"chr$chr.aligned.tgt.vcf.gz\") == p\n",
    "            rm(\"chr$chr.aligned.tgt.vcf.gz\", force=true) # perfect match\n",
    "        else\n",
    "            error(\"target file has SNPs not matching in reference file! Shouldn't happen!\")\n",
    "        end\n",
    "        mv(\"chr22.aligned.ref.vcf.gz\", \"ref.chr22.aligned.vcf.gz\", force=true)\n",
    "    end \n",
    "end\n",
    "Random.seed!(2020)\n",
    "@time filter_and_mask()"
   ]
  },
  {
   "cell_type": "markdown",
   "metadata": {},
   "source": [
    "### Missing rate\n",
    "\n",
    "In typed markers, 1% of data is missing at random. In addition, only 84% of all markers are not typed (i.e. systematically missing). "
   ]
  },
  {
   "cell_type": "code",
   "execution_count": 4,
   "metadata": {
    "collapsed": false
   },
   "outputs": [
    {
     "data": {
      "text/plain": [
       "0.844946576342879"
      ]
     },
     "execution_count": 4,
     "metadata": {},
     "output_type": "execute_result"
    }
   ],
   "source": [
    "tgtfile = \"target.chr22.typedOnly.masked.vcf.gz\"\n",
    "reffile = \"ref.chr22.excludeTarget.vcf.gz\"\n",
    "missing_rate = 1 - nrecords(tgtfile) / nrecords(reffile)"
   ]
  },
  {
   "cell_type": "markdown",
   "metadata": {},
   "source": [
    "# MendelImpute on untyped markers with dp"
   ]
  },
  {
   "cell_type": "code",
   "execution_count": 2,
   "metadata": {
    "collapsed": false
   },
   "outputs": [
    {
     "data": {
      "text/plain": [
       "8"
      ]
     },
     "execution_count": 2,
     "metadata": {},
     "output_type": "execute_result"
    }
   ],
   "source": [
    "Threads.nthreads()"
   ]
  },
  {
   "cell_type": "code",
   "execution_count": 3,
   "metadata": {
    "collapsed": false
   },
   "outputs": [
    {
     "name": "stdout",
     "output_type": "stream",
     "text": [
      "(nrecords(tgtfile), nsamples(tgtfile)) = (100000, 250)\n",
      "(nrecords(reffile), nsamples(reffile)) = (644939, 2254)\n",
      "(nrecords(reffile_aligned), nsamples(reffile_aligned)) = (100000, 2254)\n",
      "(nrecords(X_typedOnly_complete), nsamples(X_typedOnly_complete)) = (100000, 250)\n",
      "(nrecords(X_full_complete), nsamples(X_full_complete)) = (644939, 250)\n"
     ]
    },
    {
     "data": {
      "text/plain": [
       "(644939, 250)"
      ]
     },
     "execution_count": 3,
     "metadata": {},
     "output_type": "execute_result"
    }
   ],
   "source": [
    "tgtfile = \"target.chr22.typedOnly.masked.vcf.gz\"\n",
    "reffile = \"ref.chr22.excludeTarget.vcf.gz\"\n",
    "reffile_aligned = \"ref.chr22.aligned.vcf.gz\"\n",
    "X_typedOnly_complete = \"target.chr22.typedOnly.vcf.gz\"\n",
    "X_full_complete = \"target.chr22.full.vcf.gz\"\n",
    "@show nrecords(tgtfile), nsamples(tgtfile)\n",
    "@show nrecords(reffile), nsamples(reffile)\n",
    "@show nrecords(reffile_aligned), nsamples(reffile_aligned)\n",
    "@show nrecords(X_typedOnly_complete), nsamples(X_typedOnly_complete)\n",
    "@show nrecords(X_full_complete), nsamples(X_full_complete)"
   ]
  },
  {
   "cell_type": "code",
   "execution_count": 5,
   "metadata": {
    "collapsed": false
   },
   "outputs": [
    {
     "name": "stdout",
     "output_type": "stream",
     "text": [
      "Imputing typed + untyped SNPs with dynamic programming, width = 500\n",
      "Running chunk 1 / 1\n"
     ]
    },
    {
     "name": "stderr",
     "output_type": "stream",
     "text": [
      "\u001b[32mImporting genotype file...100%|█████████████████████████| Time: 0:00:05\u001b[39m\n",
      "\u001b[32mImporting reference haplotype files...100%|█████████████| Time: 0:00:30\u001b[39m\n",
      "\u001b[32mComputing optimal haplotype pairs...100%|███████████████| Time: 0:02:36\u001b[39m\n",
      "\u001b[32mImputing samples...100%|████████████████████████████████| Time: 0:03:40\u001b[39m\n",
      "\u001b[32mWriting to file...100%|█████████████████████████████████| Time: 0:06:49\u001b[39m\n"
     ]
    },
    {
     "name": "stdout",
     "output_type": "stream",
     "text": [
      "1055.139365 seconds (8.67 G allocations: 810.348 GiB, 9.00% gc time)\n",
      "error overall = 0.0040779236485931234 \n",
      "\n",
      "Imputing typed + untyped SNPs with dynamic programming, width = 1000\n",
      "Running chunk 1 / 1\n"
     ]
    },
    {
     "name": "stderr",
     "output_type": "stream",
     "text": [
      "\u001b[32mImporting genotype file...100%|█████████████████████████| Time: 0:00:05\u001b[39m\n",
      "\u001b[32mImporting reference haplotype files...100%|█████████████| Time: 0:00:29\u001b[39m\n",
      "\u001b[32mComputing optimal haplotype pairs...100%|███████████████| Time: 0:02:06\u001b[39m\n",
      "\u001b[32mImputing samples...100%|████████████████████████████████| Time: 0:08:19\u001b[39m\n",
      "\u001b[32mWriting to file...100%|█████████████████████████████████| Time: 0:06:59\u001b[39m\n"
     ]
    },
    {
     "name": "stdout",
     "output_type": "stream",
     "text": [
      "1312.585610 seconds (8.67 G allocations: 803.741 GiB, 7.05% gc time)\n",
      "error overall = 0.005744133941349492 \n",
      "\n"
     ]
    }
   ],
   "source": [
    "# dp method using incomplete ref panel\n",
    "cd(\"/Users/biona001/.julia/dev/MendelImpute/data/1000_genome_phase3_v5/filtered\")\n",
    "Random.seed!(2020)\n",
    "function run()\n",
    "#     X_complete = convert_gt(Float32, \"target.chr22.typedOnly.vcf.gz\")\n",
    "    X_complete = convert_gt(Float32, \"target.chr22.full.vcf.gz\")\n",
    "    n, p = size(X_complete)\n",
    "    chr = 22\n",
    "    for width in [500, 1000]\n",
    "        println(\"Imputing typed + untyped SNPs with dynamic programming, width = $width\")\n",
    "        tgtfile = \"target.chr$chr.typedOnly.masked.vcf.gz\"\n",
    "        reffile = \"ref.chr$chr.excludeTarget.vcf.gz\"\n",
    "        outfile = \"mendel.imputed.dp$width.vcf.gz\"\n",
    "        reffile_aligned = \"ref.chr$chr.aligned.vcf.gz\"\n",
    "        @time phase(tgtfile, reffile, reffile_aligned = reffile_aligned, impute=true, \n",
    "            outfile = outfile, width = width, fast_method=false)\n",
    "        X_mendel = convert_gt(Float32, outfile)\n",
    "        println(\"error overall = $(sum(X_mendel .!= X_complete) / n / p) \\n\")\n",
    "    end\n",
    "end\n",
    "run()"
   ]
  },
  {
   "cell_type": "markdown",
   "metadata": {},
   "source": [
    "### keep all happair for dp"
   ]
  },
  {
   "cell_type": "code",
   "execution_count": 9,
   "metadata": {
    "collapsed": false,
    "scrolled": true
   },
   "outputs": [
    {
     "name": "stdout",
     "output_type": "stream",
     "text": [
      "Imputing typed + untyped SNPs with dynamic programming, width = 500\n",
      "Running chunk 1 / 1\n"
     ]
    },
    {
     "name": "stderr",
     "output_type": "stream",
     "text": [
      "\u001b[32mImporting genotype file...100%|█████████████████████████| Time: 0:00:06\u001b[39m\n",
      "\u001b[32mImporting reference haplotype files...100%|█████████████| Time: 0:00:31\u001b[39m\n",
      "\u001b[32mComputing optimal haplotype pairs...100%|███████████████| Time: 0:03:01\u001b[39m\n",
      "\u001b[32mImputing samples...100%|████████████████████████████████| Time: 0:04:32\u001b[39m\n",
      "\u001b[32mWriting to file...100%|█████████████████████████████████| Time: 0:07:05\u001b[39m\n"
     ]
    },
    {
     "name": "stdout",
     "output_type": "stream",
     "text": [
      "1160.597644 seconds (8.67 G allocations: 810.426 GiB, 8.33% gc time)\n",
      "error overall = 0.004077905042182284 \n",
      "\n"
     ]
    }
   ],
   "source": [
    "# dp method using incomplete ref panel\n",
    "cd(\"/Users/biona001/.julia/dev/MendelImpute/data/1000_genome_phase3_v5/filtered\")\n",
    "Random.seed!(2020)\n",
    "function run()\n",
    "#     X_complete = convert_gt(Float32, \"target.chr22.typedOnly.vcf.gz\")\n",
    "    X_complete = convert_gt(Float32, \"target.chr22.full.vcf.gz\")\n",
    "    n, p = size(X_complete)\n",
    "    chr = 22\n",
    "    for width in 500\n",
    "        println(\"Imputing typed + untyped SNPs with dynamic programming, width = $width\")\n",
    "        tgtfile = \"target.chr$chr.typedOnly.masked.vcf.gz\"\n",
    "        reffile = \"ref.chr$chr.excludeTarget.vcf.gz\"\n",
    "        outfile = \"mendel.imputed.dp$width.vcf.gz\"\n",
    "        reffile_aligned = \"ref.chr$chr.aligned.vcf.gz\"\n",
    "        @time phase(tgtfile, reffile, reffile_aligned = reffile_aligned, impute=true, \n",
    "            outfile = outfile, width = width, fast_method=false)\n",
    "        X_mendel = convert_gt(Float32, outfile)\n",
    "        println(\"error overall = $(sum(X_mendel .!= X_complete) / n / p) \\n\")\n",
    "    end\n",
    "end\n",
    "run()"
   ]
  },
  {
   "cell_type": "markdown",
   "metadata": {},
   "source": [
    "### Try overwriting prephased entries via impute! (similar to minimac4)"
   ]
  },
  {
   "cell_type": "code",
   "execution_count": 23,
   "metadata": {
    "collapsed": false
   },
   "outputs": [
    {
     "name": "stdout",
     "output_type": "stream",
     "text": [
      "Imputing typed + untyped SNPs with dynamic programming, width = 500\n",
      "Running chunk 1 / 1\n"
     ]
    },
    {
     "name": "stderr",
     "output_type": "stream",
     "text": [
      "\u001b[32mImporting genotype file...100%|█████████████████████████| Time: 0:00:05\u001b[39m\n",
      "\u001b[32mImporting reference haplotype files...100%|█████████████| Time: 0:00:27\u001b[39m\n",
      "\u001b[32mComputing optimal haplotype pairs...100%|███████████████| Time: 0:03:45\u001b[39m\n",
      "\u001b[32mImputing samples...100%|████████████████████████████████| Time: 0:03:24\u001b[39m\n",
      "\u001b[32mWriting to file...100%|█████████████████████████████████| Time: 0:03:02\u001b[39m\n"
     ]
    },
    {
     "name": "stdout",
     "output_type": "stream",
     "text": [
      "1247.082654 seconds (10.87 G allocations: 1019.611 GiB, 9.67% gc time)\n",
      "error overall = 0.008522145505233829 \n",
      "\n",
      "Imputing typed + untyped SNPs with dynamic programming, width = 1000\n",
      "Running chunk 1 / 1\n"
     ]
    },
    {
     "name": "stderr",
     "output_type": "stream",
     "text": [
      "\u001b[32mImporting genotype file...100%|█████████████████████████| Time: 0:00:05\u001b[39m\n",
      "\u001b[32mImporting reference haplotype files...100%|█████████████| Time: 0:00:28\u001b[39m\n",
      "\u001b[32mComputing optimal haplotype pairs...100%|███████████████| Time: 0:01:30\u001b[39m\n",
      "\u001b[32mImputing samples...100%|████████████████████████████████| Time: 0:07:22\u001b[39m\n",
      "\u001b[32mWriting to file...100%|█████████████████████████████████| Time: 0:03:03\u001b[39m\n"
     ]
    },
    {
     "name": "stdout",
     "output_type": "stream",
     "text": [
      "1331.498374 seconds (10.87 G allocations: 1012.988 GiB, 8.83% gc time)\n",
      "error overall = 0.014499281327381349 \n",
      "\n"
     ]
    }
   ],
   "source": [
    "# dp method using incomplete ref panel\n",
    "cd(\"/Users/biona001/.julia/dev/MendelImpute/data/1000_genome_phase3_v5/filtered\")\n",
    "Random.seed!(2020)\n",
    "function run()\n",
    "#     X_complete = convert_gt(Float32, \"target.chr22.typedOnly.vcf.gz\")\n",
    "    X_complete = convert_gt(Float32, \"target.chr22.full.vcf.gz\")\n",
    "    n, p = size(X_complete)\n",
    "    chr = 22\n",
    "    for width in [500, 1000]\n",
    "        println(\"Imputing typed + untyped SNPs with dynamic programming, width = $width\")\n",
    "        tgtfile = \"target.chr$chr.typedOnly.masked.vcf.gz\"\n",
    "        reffile = \"ref.chr$chr.excludeTarget.vcf.gz\"\n",
    "        outfile = \"mendel.imputed.dp$width.vcf.gz\"\n",
    "        reffile_aligned = \"ref.chr$chr.aligned.vcf.gz\"\n",
    "        @time phase(tgtfile, reffile, reffile_aligned = reffile_aligned, impute=true, \n",
    "            outfile = outfile, width = width, fast_method=false)\n",
    "        X_mendel = convert_gt(Float32, outfile)\n",
    "        println(\"error overall = $(sum(X_mendel .!= X_complete) / n / p) \\n\")\n",
    "    end\n",
    "end\n",
    "run()"
   ]
  },
  {
   "cell_type": "markdown",
   "metadata": {},
   "source": [
    "### Try MM iteration = 3"
   ]
  },
  {
   "cell_type": "code",
   "execution_count": 11,
   "metadata": {
    "collapsed": false
   },
   "outputs": [
    {
     "name": "stdout",
     "output_type": "stream",
     "text": [
      "Imputing typed + untyped SNPs with dynamic programming, width = 500\n",
      "Running chunk 1 / 1\n"
     ]
    },
    {
     "name": "stderr",
     "output_type": "stream",
     "text": [
      "\u001b[32mImporting genotype file...100%|█████████████████████████| Time: 0:00:05\u001b[39m\n",
      "\u001b[32mImporting reference haplotype files...100%|█████████████| Time: 0:00:28\u001b[39m\n",
      "\u001b[32mComputing optimal haplotype pairs...100%|███████████████| Time: 0:04:39\u001b[39m\n",
      "\u001b[32mImputing samples...100%|████████████████████████████████| Time: 0:03:20\u001b[39m\n",
      "\u001b[32mWriting to file...100%|█████████████████████████████████| Time: 0:07:01\u001b[39m\n"
     ]
    },
    {
     "name": "stdout",
     "output_type": "stream",
     "text": [
      "1171.109334 seconds (8.67 G allocations: 810.400 GiB, 8.66% gc time)\n",
      "error overall = 0.004078419819548825 \n",
      "\n",
      "Imputing typed + untyped SNPs with dynamic programming, width = 1000\n",
      "Running chunk 1 / 1\n"
     ]
    },
    {
     "name": "stderr",
     "output_type": "stream",
     "text": [
      "\u001b[32mImporting genotype file...100%|█████████████████████████| Time: 0:00:05\u001b[39m\n",
      "\u001b[32mImporting reference haplotype files...100%|█████████████| Time: 0:00:29\u001b[39m\n",
      "\u001b[32mComputing optimal haplotype pairs...100%|███████████████| Time: 0:03:04\u001b[39m\n",
      "\u001b[32mImputing samples...100%|████████████████████████████████| Time: 0:07:24\u001b[39m\n",
      "\u001b[32mWriting to file...100%|█████████████████████████████████| Time: 0:06:59\u001b[39m\n"
     ]
    },
    {
     "name": "stdout",
     "output_type": "stream",
     "text": [
      "1301.334264 seconds (8.67 G allocations: 803.775 GiB, 7.65% gc time)\n",
      "error overall = 0.0057452131131781456 \n",
      "\n"
     ]
    }
   ],
   "source": [
    "# dp method using incomplete ref panel\n",
    "cd(\"/Users/biona001/.julia/dev/MendelImpute/data/1000_genome_phase3_v5/filtered\")\n",
    "Random.seed!(2020)\n",
    "function run()\n",
    "#     X_complete = convert_gt(Float32, \"target.chr22.typedOnly.vcf.gz\")\n",
    "    X_complete = convert_gt(Float32, \"target.chr22.full.vcf.gz\")\n",
    "    n, p = size(X_complete)\n",
    "    chr = 22\n",
    "    for width in [500, 1000]\n",
    "        println(\"Imputing typed + untyped SNPs with dynamic programming, width = $width\")\n",
    "        tgtfile = \"target.chr$chr.typedOnly.masked.vcf.gz\"\n",
    "        reffile = \"ref.chr$chr.excludeTarget.vcf.gz\"\n",
    "        outfile = \"mendel.imputed.dp$width.vcf.gz\"\n",
    "        reffile_aligned = \"ref.chr$chr.aligned.vcf.gz\"\n",
    "        @time phase(tgtfile, reffile, reffile_aligned = reffile_aligned, impute=true, \n",
    "            outfile = outfile, width = width, fast_method=false)\n",
    "        X_mendel = convert_gt(Float32, outfile)\n",
    "        println(\"error overall = $(sum(X_mendel .!= X_complete) / n / p) \\n\")\n",
    "    end\n",
    "end\n",
    "run()"
   ]
  },
  {
   "cell_type": "markdown",
   "metadata": {},
   "source": [
    "### Try deleting bad paths in dp"
   ]
  },
  {
   "cell_type": "code",
   "execution_count": 12,
   "metadata": {
    "collapsed": false
   },
   "outputs": [
    {
     "name": "stderr",
     "output_type": "stream",
     "text": [
      "\u001b[32mImporting genotype file...100%|█████████████████████████| Time: 0:00:05\u001b[39m\n",
      "\u001b[32mImporting reference haplotype files...100%|█████████████| Time: 0:00:28\u001b[39m\n"
     ]
    }
   ],
   "source": [
    "width = 500\n",
    "chr = 22\n",
    "tgtfile = \"target.chr$chr.typedOnly.masked.vcf.gz\"\n",
    "reffile = \"ref.chr$chr.excludeTarget.vcf.gz\"\n",
    "outfile = \"mendel.imputed.dp$width.vcf.gz\"\n",
    "reffile_aligned = \"ref.chr$chr.aligned.vcf.gz\"\n",
    "tgt_snps, ref_snps = nrecords(tgtfile), nrecords(reffile_aligned)\n",
    "\n",
    "# declare some constants\n",
    "people = nsamples(tgtfile)\n",
    "haplotypes = 2nsamples(reffile_aligned)\n",
    "ph = [HaplotypeMosaicPair(tgt_snps) for i in 1:people] # phase information\n",
    "\n",
    "# decide how to partition the data based on available memory \n",
    "snps_per_chunk = MendelImpute.chunk_size(people, haplotypes)\n",
    "chunks = ceil(Int, tgt_snps / snps_per_chunk)\n",
    "\n",
    "# setup reader to convert vcf files to numeric matrices\n",
    "Xreader = VCF.Reader(openvcf(tgtfile, \"r\"))\n",
    "Hreader = VCF.Reader(openvcf(reffile_aligned, \"r\"));\n",
    "\n",
    "# sync data to phase last (possibly only) chunk\n",
    "remaining_snps = tgt_snps - ((chunks - 1) * snps_per_chunk)\n",
    "X = Matrix{Union{Float32, Missing}}(undef, remaining_snps, people)\n",
    "H = BitArray{2}(undef, remaining_snps, haplotypes)\n",
    "copy_gt_trans!(X, Xreader, msg = \"Importing genotype file...\")\n",
    "copy_ht_trans!(H, Hreader, msg = \"Importing reference haplotype files...\");"
   ]
  },
  {
   "cell_type": "code",
   "execution_count": 15,
   "metadata": {
    "collapsed": false
   },
   "outputs": [
    {
     "name": "stderr",
     "output_type": "stream",
     "text": [
      "\r",
      "\u001b[32mComputing optimal haplotype pairs...  1%|▏              |  ETA: 0:16:16\u001b[39m\r",
      "\u001b[32mComputing optimal haplotype pairs...  4%|▋              |  ETA: 0:06:00\u001b[39m\r",
      "\u001b[32mComputing optimal haplotype pairs...  6%|▉              |  ETA: 0:05:51\u001b[39m\r",
      "\u001b[32mComputing optimal haplotype pairs...  8%|█▎             |  ETA: 0:04:43\u001b[39m\r",
      "\u001b[32mComputing optimal haplotype pairs... 10%|█▋             |  ETA: 0:04:44\u001b[39m\r",
      "\u001b[32mComputing optimal haplotype pairs... 13%|██             |  ETA: 0:04:20\u001b[39m"
     ]
    },
    {
     "name": "stdout",
     "output_type": "stream",
     "text": [
      "person 69 at window 104 has 1743 redundant haplotypes\n",
      "person 70 at window 104 has 6889 redundant haplotypes\n",
      "person 95 at window 104 has 1722 redundant haplotypes\n",
      "person 154 at window 104 has 3875 redundant haplotypes\n",
      "person 161 at window 104 has 1750 redundant haplotypes\n",
      "person 179 at window 104 has 1134 redundant haplotypes\n",
      "person 218 at window 104 has 1500 redundant haplotypes\n"
     ]
    },
    {
     "name": "stderr",
     "output_type": "stream",
     "text": [
      "\u001b[32mComputing optimal haplotype pairs... 71%|██████████▋    |  ETA: 0:01:31\u001b[39m"
     ]
    },
    {
     "name": "stdout",
     "output_type": "stream",
     "text": [
      "person 4 at window 33 has 3480 redundant haplotypes\n",
      "person 7 at window 33 has 9480 redundant haplotypes\n",
      "person 35 at window 33 has 2862 redundant haplotypes\n",
      "person 94 at window 33 has 1027 redundant haplotypes\n",
      "person 149 at window 33 has 1363 redundant haplotypes\n",
      "person 168 at window 33 has 6480 redundant haplotypes\n",
      "person 227 at window 33 has 1350 redundant haplotypes\n",
      "person 235 at window 33 has 1343 redundant haplotypes\n",
      "person 236 at window 33 has 6480 redundant haplotypes\n",
      "person 194 at window 113 has 1440 redundant haplotypes\n",
      "person 157 at window 88 has 2040 redundant haplotypes\n",
      "person 160 at window 187 has 2025 redundant haplotypes\n",
      "person 76 at window 41 has 1720 redundant haplotypes\n"
     ]
    },
    {
     "name": "stderr",
     "output_type": "stream",
     "text": [
      "\u001b[32mComputing optimal haplotype pairs... 92%|█████████████▊ |  ETA: 0:00:25\u001b[39m"
     ]
    },
    {
     "name": "stdout",
     "output_type": "stream",
     "text": [
      "person 20 at window 100 has 4256 redundant haplotypes\n",
      "person 133 at window 100 has 1140 redundant haplotypes\n"
     ]
    },
    {
     "name": "stderr",
     "output_type": "stream",
     "text": [
      "\u001b[32mComputing optimal haplotype pairs...100%|███████████████| Time: 0:05:26\u001b[39m\n"
     ]
    },
    {
     "data": {
      "text/plain": [
       "250-element Array{Array{Array{Tuple{Int64,Int64},1},1},1}:\n",
       " [[(544, 3035)], [(16, 543)], [(1048, 3083)], [(4289, 4418)], [(320, 453)], [(3072, 3133)], [(156, 233)], [(2999, 3149)], [(4073, 4142)], [(696, 4314)]  …  [(30, 4210)], [(196, 3129)], [(30, 1225)], [(30, 36), (30, 1031)], [(30, 1225)], [(1225, 1720)], [(272, 4362)], [(30, 50)], [(30, 185), (30, 696)], [(30, 930)]]                                                                                                                                                                                                                                                                                                                                                                                                  \n",
       " [[(179, 703)], [(1292, 3681)], [(165, 234)], [(44, 4068)], [(289, 4068)], [(234, 1275)], [(234, 3971)], [(44, 831)], [(44, 2551)], [(44, 910)]  …  [(1300, 1533)], [(213, 4079), (213, 4081), (263, 4079), (263, 4081)], [(163, 228)], [(695, 4396), (3162, 4396), (4147, 4396)], [(23, 53), (23, 284), (23, 315), (23, 3026), (23, 3141), (3048, 53), (3048, 284), (3048, 315), (3048, 3026), (3048, 3141)], [(668, 810)], [(284, 3125)], [(315, 3125)], [(710, 3125), (808, 3125), (3075, 3125)], [(3125, 3141)]]                                                                                                                                                                                                          \n",
       " [[(251, 1549)], [(1093, 2684)], [(68, 73)], [(2991, 3240)], [(20, 3103)], [(3085, 4288)], [(849, 3118)], [(3092, 3942)], [(2758, 3051)], [(855, 3911)]  …  [(6, 719)], [(6, 545)], [(6, 1058)], [(6, 852)], [(6, 181), (6, 828), (6, 893), (6, 1544), (6, 3129)], [(119, 3094), (1635, 3094), (4144, 3094)], [(6, 1540)], [(711, 1635), (3094, 1635)], [(1567, 1872)], [(3070, 4019)]]                                                                                                                                                                                                                                                                                                                                       \n",
       " [[(2987, 2988)], [(1028, 1109)], [(776, 1110), (1110, 1566)], [(161, 575)], [(268, 3097)], [(759, 1029)], [(250, 4327)], [(241, 284)], [(82, 241)], [(23, 637)]  …  [(86, 786)], [(172, 4161), (172, 4195)], [(88, 260)], [(70, 259), (1034, 259), (3068, 259), (3102, 259), (3140, 259), (4152, 259), (4390, 259), (4502, 259), (4504, 259)], [(23, 4175), (3048, 4175)], [(23, 52)], [(23, 3126)], [(23, 4175)], [(23, 734)], [(52, 732)]]                                                                                                                                                                                                                                                                                 \n",
       " [[(520, 3147)], [(439, 3649)], [(233, 1390)], [(196, 207)], [(794, 2087)], [(139, 739)], [(326, 2824)], [(111, 4006)], [(963, 3461)], [(316, 3065)]  …  [(28, 394)], [(284, 2437)], [(778, 3009)], [(175, 4027)], [(260, 683)], [(1972, 4292)], [(146, 260), (146, 3072)], [(175, 319)], [(131, 260), (218, 260), (234, 260), (319, 260), (1293, 260), (3055, 260), (3091, 260), (4204, 260), (4244, 260)], [(917, 2576), (4244, 2576)]]                                                                                                                                                                                                                                                                                     \n",
       " [[(74, 909)], [(930, 1092)], [(2, 3026)], [(108, 613), (108, 1532), (108, 3114), (108, 3142), (108, 3922)], [(117, 239)], [(900, 2471)], [(117, 302)], [(117, 302)], [(302, 669)], [(117, 302)]  …  [(301, 874)], [(301, 912)], [(1462, 4078)], [(135, 3005), (135, 4078), (1567, 3005), (1567, 4078), (2999, 3005), (2999, 4078)], [(695, 2999), (2993, 2999)], [(198, 2999), (259, 2999)], [(301, 2758), (994, 2758)], [(751, 3556)], [(198, 4081)], [(301, 4079)]]                                                                                                                                                                                                                                                        \n",
       " [[(4293, 4294)], [(3043, 4187)], [(4205, 4466)], [(2996, 4466), (4187, 4466)], [(295, 1030)], [(119, 295)], [(256, 300)], [(318, 4144)], [(205, 1105)], [(205, 318)]  …  [(281, 2866)], [(100, 4253)], [(245, 4171)], [(87, 103), (306, 103), (757, 103), (1097, 103), (1101, 103), (2877, 103), (4219, 103)], [(180, 3503), (180, 4185), (1540, 3503), (1540, 4185)], [(45, 3059), (123, 3059)], [(286, 2878), (4176, 2878)], [(113, 2961)], [(233, 882)], [(951, 2871)]]                                                                                                                                                                                                                                                   \n",
       " [[(25, 26)], [(3032, 3927)], [(3927, 4370)], [(704, 920)], [(213, 3134)], [(45, 3149)], [(43, 171)], [(3128, 4302)], [(107, 3002)], [(1051, 3002)]  …  [(2084, 2757)], [(774, 3886)], [(20, 4160)], [(108, 547)], [(132, 179), (132, 1224)], [(83, 165), (83, 3053), (203, 165), (203, 3053), (774, 165), (774, 3053), (849, 165), (849, 3053), (3089, 165), (3089, 3053), (4076, 165), (4076, 3053), (4105, 165), (4105, 3053)], [(1106, 1161)], [(774, 1069)], [(1069, 4258)], [(851, 1034)]]                                                                                                                                                                                                                              \n",
       " [[(3025, 3026)], [(69, 2684)], [(3118, 4033)], [(480, 746)], [(3023, 3025)], [(228, 922)], [(2995, 4383)], [(666, 1069)], [(1055, 4055)], [(18, 1872)]  …  [(131, 748)], [(131, 830)], [(66, 3940)], [(484, 2927), (484, 4213), (702, 2927), (702, 4213), (737, 2927), (737, 4213), (820, 2927), (820, 4213), (1053, 2927), (1053, 4213)  …  (1544, 2927), (1544, 4213), (1626, 2927), (1626, 4213), (3071, 2927), (3071, 4213), (3940, 2927), (3940, 4213), (4242, 2927), (4242, 4213)], [(178, 1017)], [(76, 234)], [(234, 4164)], [(218, 4193)], [(131, 2796), (218, 2796), (234, 2796), (319, 2796), (1293, 2796), (3055, 2796), (3091, 2796), (4204, 2796), (4244, 2796)], [(131, 1550), (136, 1550)]]                  \n",
       " [[(950, 4213)], [(540, 2259)], [(1485, 4317)], [(126, 294)], [(126, 3067)], [(285, 4055)], [(43, 269)], [(849, 912)], [(813, 1097)], [(2795, 3147)]  …  [(112, 195)], [(195, 723), (216, 723)], [(195, 1039), (195, 1480), (195, 2990)], [(116, 4175)], [(3082, 3503), (3082, 4185)], [(80, 192), (80, 199), (80, 778), (80, 1095), (80, 1964), (80, 2908)], [(41, 3001)], [(113, 2641)], [(133, 232), (133, 2764)], [(173, 4132), (931, 4132)]]                                                                                                                                                                                                                                                                             \n",
       " [[(208, 1036)], [(48, 1185)], [(769, 2607)], [(148, 2864)], [(250, 3024)], [(196, 3012)], [(196, 4331)], [(196, 304)], [(230, 301)], [(942, 2100), (2100, 2653)]  …  [(3071, 3160)], [(168, 723), (1617, 723)], [(774, 1266)], [(199, 807), (4253, 807)], [(75, 314), (75, 2990), (75, 3060), (113, 314), (113, 2990), (113, 3060), (166, 314), (166, 2990), (166, 3060), (262, 314)  …  (3150, 3060), (3925, 314), (3925, 2990), (3925, 3060), (4319, 314), (4319, 2990), (4319, 3060), (4321, 314), (4321, 2990), (4321, 3060)], [(14, 71), (14, 4207), (1480, 71), (1480, 4207), (2990, 71), (2990, 4207), (3037, 71), (3037, 4207), (3060, 71), (3060, 4207)], [(204, 1542)], [(204, 314)], [(73, 3147)], [(1116, 3034)]]\n",
       " [[(1244, 4247)], [(2254, 4192)], [(281, 1051), (201, 3927)], [(664, 1905)], [(2706, 4309)], [(102, 3089)], [(1029, 4016)], [(309, 1388)], [(64, 273)], [(107, 273)]  …  [(250, 337)], [(250, 255)], [(425, 3145)], [(235, 250)], [(250, 337), (250, 4181)], [(44, 213)], [(3061, 4469)], [(114, 3982)], [(914, 3982)], [(3537, 4137)]]                                                                                                                                                                                                                                                                                                                                                                                       \n",
       " [[(1419, 3099)], [(1292, 3232)], [(106, 4287)], [(45, 1041)], [(56, 3025)], [(922, 2254)], [(1009, 2684)], [(985, 1112)], [(2990, 3968)], [(2553, 4214)]  …  [(151, 3140)], [(264, 3043)], [(116, 879)], [(5, 116)], [(23, 79), (23, 932), (23, 3894), (3048, 79), (3048, 932), (3048, 3894)], [(160, 608), (160, 850), (160, 954), (160, 4385)], [(116, 233)], [(116, 4177)], [(116, 3448)], [(202, 3201)]]                                                                                                                                                                                                                                                                                                                 \n",
       " ⋮                                                                                                                                                                                                                                                                                                                                                                                                                                                                                                                                                                                                                                                                                                                            \n",
       " [[(253, 254)], [(136, 595)], [(106, 843)], [(85, 281)], [(264, 3153)], [(84, 1365)], [(241, 4172)], [(380, 809)], [(414, 1825)], [(241, 1530)]  …  [(196, 479)], [(23, 3964)], [(916, 1118)], [(305, 1822), (305, 3056)], [(765, 2735), (769, 2735)], [(1005, 2894), (1005, 3224)], [(232, 1106), (2848, 4130)], [(57, 637)], [(694, 2481)], [(159, 2704)]]                                                                                                                                                                                                                                                                                                                                                                  \n",
       " [[(3164, 3648)], [(789, 2999)], [(3121, 3624)], [(125, 297)], [(109, 127)], [(948, 4260)], [(180, 4249)], [(306, 4275)], [(838, 4374)], [(2676, 3110)]  …  [(3146, 4396)], [(668, 1108)], [(709, 3157)], [(686, 1325)], [(180, 731), (1540, 731)], [(136, 759)], [(269, 2851)], [(296, 1107)], [(4099, 4322)], [(227, 859)]]                                                                                                                                                                                                                                                                                                                                                                                                 \n",
       " [[(1681, 2230)], [(2636, 2721), (2880, 4486)], [(4328, 4484)], [(2473, 4429)], [(810, 2512)], [(1874, 2715)], [(1977, 2229)], [(1977, 4354)], [(500, 2913)], [(1358, 2586)]  …  [(1529, 2620)], [(345, 2858)], [(1708, 2638)], [(1970, 2753)], [(951, 1970)], [(1530, 1970)], [(810, 1970)], [(959, 2564)], [(3125, 4507)], [(922, 2951), (4344, 2951)]]                                                                                                                                                                                                                                                                                                                                                                     \n",
       " [[(2513, 2514)], [(2775, 2886)], [(659, 2667), (900, 2719)], [(904, 2667)], [(223, 3101)], [(1826, 2658)], [(1021, 3030)], [(1245, 2751)], [(1966, 4440)], [(2913, 4440)]  …  [(2532, 4481)], [(2495, 4485)], [(4463, 4485)], [(4463, 4485)], [(1412, 4443)], [(2451, 4443)], [(4463, 4485)], [(4463, 4485)], [(2589, 4198)], [(4475, 4490)]]                                                                                                                                                                                                                                                                                                                                                                                \n",
       " [[(1903, 3286)], [(591, 1903)], [(141, 2414)], [(1085, 2860)], [(2704, 2726)], [(168, 4471)], [(3025, 4344)], [(1449, 3215)], [(2757, 4352)], [(143, 2823)]  …  [(186, 1899)], [(2537, 2936)], [(2498, 3888)], [(52, 2511), (1011, 2511), (1420, 2511), (2787, 2511), (2793, 2511), (2886, 2511), (3642, 2511)], [(696, 1964)], [(972, 2734), (972, 2826)], [(235, 2902)], [(2484, 2860)], [(3358, 4417)], [(1769, 2911)]]                                                                                                                                                                                                                                                                                                   \n",
       " [[(1091, 1957)], [(406, 3918)], [(406, 2558)], [(1978, 2908)], [(2874, 2961)], [(2725, 2904)], [(1314, 2668)], [(2532, 3132)], [(1968, 2566)], [(1390, 4312)]  …  [(684, 2834)], [(89, 2595)], [(969, 2910)], [(969, 2776)], [(1159, 2537)], [(1516, 2537)], [(2531, 2609)], [(1902, 2762)], [(662, 2492)], [(905, 2492)]]                                                                                                                                                                                                                                                                                                                                                                                                   \n",
       " [[(892, 3060)], [(642, 2818)], [(2539, 4257)], [(2974, 4055)], [(652, 2446)], [(893, 1995)], [(741, 2972)], [(2504, 4136)], [(1564, 2596)], [(1438, 4486)]  …  [(2736, 2949)], [(2453, 4440)], [(2452, 4440), (2684, 4440), (2902, 4440)], [(2802, 2854)], [(2854, 4440)], [(1828, 4328)], [(1754, 2607), (1828, 2607), (4327, 2607), (4364, 2607), (4492, 2607)], [(886, 4327)], [(2722, 4328)], [(1753, 4328), (1893, 4328)]]                                                                                                                                                                                                                                                                                              \n",
       " [[(2887, 2888)], [(2476, 4398)], [(102, 4327)], [(2784, 4379)], [(1824, 4398)], [(2676, 4379)], [(1145, 4328)], [(70, 3261)], [(269, 2625)], [(261, 2552)]  …  [(1087, 3102)], [(2906, 3295)], [(383, 1751)], [(2463, 4433)], [(4445, 4459)], [(268, 2750)], [(2750, 4459)], [(666, 1018)], [(2616, 4445), (4459, 4445)], [(2589, 4374), (2589, 4445)]]                                                                                                                                                                                                                                                                                                                                                                      \n",
       " [[(1046, 4466)], [(2977, 4302)], [(45, 51)], [(2390, 4355)], [(2849, 4197)], [(2497, 2837)], [(1447, 2672)], [(670, 1966)], [(1111, 2913)], [(2453, 2456)]  …  [(2946, 4333)], [(2626, 4334)], [(2576, 2710)], [(861, 1522), (2580, 1522)], [(2717, 3288)], [(422, 1970)], [(2561, 3491)], [(2482, 3144)], [(1073, 2482)], [(1474, 1975)]]                                                                                                                                                                                                                                                                                                                                                                                   \n",
       " [[(641, 2633)], [(2507, 4468)], [(800, 2583)], [(527, 1863)], [(988, 4304)], [(726, 3545), (3545, 4168)], [(2677, 2751)], [(232, 4489)], [(3320, 3542)], [(1962, 4242)]  …  [(2800, 4463), (2800, 4490)], [(2636, 4347), (2636, 4373), (2636, 4422), (2636, 4458)], [(401, 4347), (1411, 4347), (2444, 4347), (3342, 4347)], [(2482, 4347), (2653, 4347)], [(3047, 4348), (3047, 4373), (3047, 4422)], [(2879, 4443)], [(4, 2750)], [(2681, 4445), (2681, 4458)], [(2877, 4458)], [(2692, 4192)]]                                                                                                                                                                                                                            \n",
       " [[(2961, 2962)], [(3210, 4412)], [(4380, 4394)], [(2509, 4380)], [(4380, 4487)], [(4380, 4487)], [(4241, 4380)], [(4408, 4490)], [(1751, 4495)], [(2787, 3226)]  …  [(1231, 4348), (1231, 4373)], [(335, 4347), (335, 4373), (335, 4422), (335, 4458)], [(71, 4373)], [(1186, 4347)], [(158, 2656), (263, 2656), (805, 2656), (818, 2656), (1528, 2656)], [(2084, 2930)], [(20, 2976)], [(4, 156)], [(1244, 2457)], [(243, 4494)]]                                                                                                                                                                                                                                                                                           \n",
       " [[(4379, 4494)], [(947, 2944)], [(69, 2757)], [(108, 2754)], [(1701, 3071)], [(1438, 1578)], [(2536, 4501)], [(987, 4501)], [(1633, 4440)], [(2581, 4440)]  …  [(2604, 2650)], [(744, 3233)], [(2715, 4345)], [(2590, 2849)], [(128, 2486)], [(2603, 4132)], [(2590, 4485)], [(2590, 2964)], [(2520, 2616), (2520, 4459)], [(4418, 4490)]]                                                                                                                                                                                                                                                                                                                                                                                   "
      ]
     },
     "execution_count": 15,
     "metadata": {},
     "output_type": "execute_result"
    }
   ],
   "source": [
    "hs = compute_optimal_halotype_set(X, H, width = width, fast_method=false)"
   ]
  },
  {
   "cell_type": "code",
   "execution_count": null,
   "metadata": {
    "collapsed": false
   },
   "outputs": [
    {
     "name": "stderr",
     "output_type": "stream",
     "text": [
      "\r",
      "\u001b[32mDynamic programming + merging breakpoints...  0%|       |  ETA: 0:27:42\u001b[39m"
     ]
    },
    {
     "name": "stdout",
     "output_type": "stream",
     "text": [
      "\n"
     ]
    },
    {
     "name": "stderr",
     "output_type": "stream",
     "text": [
      "\u001b[32mDynamic programming + merging breakpoints...  3%|▎      |  ETA: 0:14:29\u001b[39m"
     ]
    }
   ],
   "source": [
    "ph = [HaplotypeMosaicPair(tgt_snps) for i in 1:people]\n",
    "phase!(ph, X, H, hs, width=width)"
   ]
  },
  {
   "cell_type": "markdown",
   "metadata": {},
   "source": [
    "# MendelImpute on typed/untyped markers with fast method"
   ]
  },
  {
   "cell_type": "code",
   "execution_count": 26,
   "metadata": {
    "collapsed": false
   },
   "outputs": [
    {
     "name": "stdout",
     "output_type": "stream",
     "text": [
      "Imputing typed + untyped SNPs with fast method, width = 500\n",
      "Running chunk 1 / 1\n"
     ]
    },
    {
     "name": "stderr",
     "output_type": "stream",
     "text": [
      "\u001b[32mImporting genotype file...100%|█████████████████████████| Time: 0:00:05\u001b[39m\n",
      "\u001b[32mImporting reference haplotype files...100%|█████████████| Time: 0:00:27\u001b[39m\n",
      "\u001b[32mComputing optimal haplotype pairs...100%|███████████████| Time: 0:03:22\u001b[39m\n",
      "\u001b[32mMerging breakpoints...100%|█████████████████████████████| Time: 0:01:42\u001b[39m\n",
      "\u001b[32mWriting to file...100%|█████████████████████████████████| Time: 0:06:26\u001b[39m\n"
     ]
    },
    {
     "name": "stdout",
     "output_type": "stream",
     "text": [
      "939.416521 seconds (8.67 G allocations: 810.399 GiB, 10.29% gc time)\n",
      "error overall = 0.004230651270895387 \n",
      "\n",
      "Imputing typed + untyped SNPs with fast method, width = 1000\n",
      "Running chunk 1 / 1\n"
     ]
    },
    {
     "name": "stderr",
     "output_type": "stream",
     "text": [
      "\u001b[32mImporting genotype file...100%|█████████████████████████| Time: 0:00:05\u001b[39m\n",
      "\u001b[32mImporting reference haplotype files...100%|█████████████| Time: 0:00:27\u001b[39m\n",
      "\u001b[32mComputing optimal haplotype pairs...100%|███████████████| Time: 0:01:21\u001b[39m\n",
      "\u001b[32mMerging breakpoints...100%|█████████████████████████████| Time: 0:03:34\u001b[39m\n",
      "\u001b[32mWriting to file...100%|█████████████████████████████████| Time: 0:06:31\u001b[39m\n"
     ]
    },
    {
     "name": "stdout",
     "output_type": "stream",
     "text": [
      "935.550058 seconds (8.67 G allocations: 803.768 GiB, 10.24% gc time)\n",
      "error overall = 0.005924647137171112 \n",
      "\n"
     ]
    }
   ],
   "source": [
    "# fast method using incomplete ref panel\n",
    "cd(\"/Users/biona001/.julia/dev/MendelImpute/data/1000_genome_phase3_v5/filtered\")\n",
    "Random.seed!(2020)\n",
    "function run()\n",
    "#     X_complete = convert_gt(Float32, \"target.chr22.typedOnly.vcf.gz\")\n",
    "    X_complete = convert_gt(Float32, \"target.chr22.full.vcf.gz\")\n",
    "    n, p = size(X_complete)\n",
    "    chr = 22\n",
    "    for width in [500, 1000]\n",
    "        println(\"Imputing typed + untyped SNPs with fast method, width = $width\")\n",
    "        tgtfile = \"target.chr$chr.typedOnly.masked.vcf.gz\"\n",
    "        reffile = \"ref.chr$chr.excludeTarget.vcf.gz\"\n",
    "        outfile = \"mendel.imputed.fast$width.vcf.gz\"\n",
    "        reffile_aligned = \"ref.chr$chr.aligned.vcf.gz\"\n",
    "        @time phase(tgtfile, reffile, reffile_aligned = reffile_aligned, impute=true, \n",
    "            outfile = outfile, width = width, fast_method=true)\n",
    "        X_mendel = convert_gt(Float32, outfile)\n",
    "        println(\"error overall = $(sum(X_mendel .!= X_complete) / n / p) \\n\")\n",
    "    end\n",
    "end\n",
    "run()"
   ]
  },
  {
   "cell_type": "markdown",
   "metadata": {},
   "source": [
    "# MendelImpute with unique haplotypes only method"
   ]
  },
  {
   "cell_type": "code",
   "execution_count": 25,
   "metadata": {
    "collapsed": false
   },
   "outputs": [
    {
     "name": "stdout",
     "output_type": "stream",
     "text": [
      "Imputing typed + untyped SNPs with unique happair, width = 500\n",
      "Running chunk 1 / 1\n"
     ]
    },
    {
     "name": "stderr",
     "output_type": "stream",
     "text": [
      "\u001b[32mImporting genotype file...100%|█████████████████████████| Time: 0:00:05\u001b[39m\n",
      "\u001b[32mImporting reference haplotype files...100%|█████████████| Time: 0:00:29\u001b[39m\n",
      "\u001b[32mComputing optimal haplotype pairs...100%|███████████████| Time: 0:03:34\u001b[39m\n",
      "\u001b[32mWriting to file...100%|█████████████████████████████████| Time: 0:06:25\u001b[39m\n"
     ]
    },
    {
     "name": "stdout",
     "output_type": "stream",
     "text": [
      "851.075419 seconds (8.67 G allocations: 810.346 GiB, 11.58% gc time)\n",
      "error overall = 0.004991411590863632 \n",
      "\n",
      "Imputing typed + untyped SNPs with unique happair, width = 1000\n",
      "Running chunk 1 / 1\n"
     ]
    },
    {
     "name": "stderr",
     "output_type": "stream",
     "text": [
      "\u001b[32mImporting genotype file...100%|█████████████████████████| Time: 0:00:05\u001b[39m\n",
      "\u001b[32mImporting reference haplotype files...100%|█████████████| Time: 0:00:28\u001b[39m\n",
      "\u001b[32mComputing optimal haplotype pairs...100%|███████████████| Time: 0:01:24\u001b[39m\n",
      "\u001b[32mWriting to file...100%|█████████████████████████████████| Time: 0:06:22\u001b[39m\n"
     ]
    },
    {
     "name": "stdout",
     "output_type": "stream",
     "text": [
      "716.585894 seconds (8.67 G allocations: 803.731 GiB, 13.07% gc time)\n",
      "error overall = 0.00691558116348988 \n",
      "\n"
     ]
    }
   ],
   "source": [
    "# fast method using incomplete ref panel\n",
    "cd(\"/Users/biona001/.julia/dev/MendelImpute/data/1000_genome_phase3_v5/filtered\")\n",
    "Random.seed!(2020)\n",
    "function run()\n",
    "#     X_complete = convert_gt(Float32, \"target.chr22.typedOnly.vcf.gz\")\n",
    "    X_complete = convert_gt(Float32, \"target.chr22.full.vcf.gz\")\n",
    "    n, p = size(X_complete)\n",
    "    chr = 22\n",
    "    for width in [500, 1000]\n",
    "        println(\"Imputing typed + untyped SNPs with unique happair, width = $width\")\n",
    "        tgtfile = \"target.chr$chr.typedOnly.masked.vcf.gz\"\n",
    "        reffile = \"ref.chr$chr.excludeTarget.vcf.gz\"\n",
    "        outfile = \"mendel.imputed.uniqueOnly$width.vcf.gz\"\n",
    "        reffile_aligned = \"ref.chr$chr.aligned.vcf.gz\"\n",
    "        @time phase(tgtfile, reffile, reffile_aligned = reffile_aligned, impute=true, \n",
    "            outfile = outfile, width = width, unique_only=true)\n",
    "        X_mendel = convert_gt(Float32, outfile)\n",
    "        println(\"error overall = $(sum(X_mendel .!= X_complete) / n / p) \\n\")\n",
    "    end\n",
    "end\n",
    "run()"
   ]
  },
  {
   "cell_type": "markdown",
   "metadata": {},
   "source": [
    "# Beagle 5.0 on complete ref panel"
   ]
  },
  {
   "cell_type": "code",
   "execution_count": 9,
   "metadata": {
    "collapsed": false
   },
   "outputs": [],
   "source": [
    "# rename all samples in tgtfile to tmp_i, store result in tgt_tmp\n",
    "chr = 22\n",
    "tgtfile = \"target.chr$chr.typedOnly.masked.vcf.gz\"\n",
    "tgt_tmp = \"target.chr$chr.typedOnly.masked.tmp.vcf.gz\"\n",
    "reader = VCF.Reader(openvcf(tgtfile, \"r\"))\n",
    "metainfo = VCF.header(reader).metainfo\n",
    "sampleID = VCF.header(reader).sampleID\n",
    "[sampleID[i] = \"tmp$i\" for i in 1:length(sampleID)]\n",
    "\n",
    "#output tmp target \n",
    "writer = VCF.Writer(openvcf(tgt_tmp, \"w\"), VCF.Header(metainfo, sampleID))\n",
    "[VCF.write(writer, record) for record in reader]\n",
    "flush(writer); close(reader); close(writer)"
   ]
  },
  {
   "cell_type": "code",
   "execution_count": 11,
   "metadata": {
    "collapsed": false
   },
   "outputs": [
    {
     "name": "stdout",
     "output_type": "stream",
     "text": [
      "beagle.28Sep18.793.jar (version 5.0)\n",
      "Copyright (C) 2014-2018 Brian L. Browning\n",
      "Enter \"java -jar beagle.28Sep18.793.jar\" to list command line argument\n",
      "Start time: 03:16 PM PDT on 23 Apr 2020\n",
      "\n",
      "Command line: java -Xmx13653m -jar beagle.28Sep18.793.jar\n",
      "  gt=target.chr22.prephase.masked.tmp.vcf.gz\n",
      "  ref=chr22.uniqueSNPs.vcf.gz\n",
      "  out=beagle.imputed.completeREF\n",
      "  nthreads=4\n",
      "\n",
      "No genetic map is specified: using 1 cM = 1 Mb\n",
      "\n",
      "Reference samples:       2,504\n",
      "Study samples:             250\n",
      "\n",
      "Window 1 (22:16050115-51244237)\n",
      "Reference markers:     644,939\n",
      "Study markers:         100,000\n",
      "\n",
      "Burnin  iteration 1:           41 seconds\n",
      "Burnin  iteration 2:           47 seconds\n",
      "Burnin  iteration 3:           49 seconds\n",
      "Burnin  iteration 4:           46 seconds\n",
      "Burnin  iteration 5:           51 seconds\n",
      "Burnin  iteration 6:           52 seconds\n",
      "\n",
      "Phasing iteration 1:           50 seconds\n",
      "Phasing iteration 2:           49 seconds\n",
      "Phasing iteration 3:           48 seconds\n",
      "Phasing iteration 4:           53 seconds\n",
      "Phasing iteration 5:           49 seconds\n",
      "Phasing iteration 6:           49 seconds\n",
      "Phasing iteration 7:           50 seconds\n",
      "Phasing iteration 8:           49 seconds\n",
      "Phasing iteration 9:           50 seconds\n",
      "Phasing iteration 10:          48 seconds\n",
      "Phasing iteration 11:          46 seconds\n",
      "Phasing iteration 12:          45 seconds\n",
      "\n",
      "Imputation time:               42 seconds\n",
      "\n",
      "Cumulative Statistics:\n",
      "\n",
      "Reference markers:     644,939\n",
      "Study markers:         100,000\n",
      "\n",
      "Haplotype phasing time:        14 minutes 31 seconds\n",
      "Imputation time:               42 seconds\n",
      "Total time:                    15 minutes 36 seconds\n",
      "\n",
      "End time: 03:32 PM PDT on 23 Apr 2020\n",
      "beagle.28Sep18.793.jar finished\n",
      "error overall = 0.0 \n",
      "\n"
     ]
    }
   ],
   "source": [
    "# beagle 5\n",
    "cd(\"/Users/biona001/.julia/dev/MendelImpute/data/1000_genome_phase3_v5/filtered\")\n",
    "function beagle()\n",
    "    chr = 22\n",
    "    tgtfile = \"target.chr$chr.typedOnly.masked.tmp.vcf.gz\"\n",
    "    reffile = \"chr$chr.uniqueSNPs.vcf.gz\"\n",
    "    outfile = \"beagle.imputed.completeREF\"\n",
    "    Base.run(`java -Xmx15g -jar beagle.28Sep18.793.jar gt=$tgtfile ref=$reffile out=$outfile nthreads=4`)\n",
    "\n",
    "    # beagle error rate    \n",
    "    X_complete = convert_gt(Float32, \"target.chr22.full.vcf.gz\")\n",
    "    X_beagle = convert_gt(Float32, \"beagle.imputed.completeREF.vcf.gz\")\n",
    "    n, p = size(X_complete)\n",
    "    println(\"error overall = $(sum(X_beagle .!= X_complete) / n / p) \\n\")\n",
    "end\n",
    "beagle()"
   ]
  },
  {
   "cell_type": "markdown",
   "metadata": {},
   "source": [
    "# Beagle 5.0 on incomplete ref panel"
   ]
  },
  {
   "cell_type": "code",
   "execution_count": 26,
   "metadata": {
    "collapsed": false
   },
   "outputs": [
    {
     "name": "stdout",
     "output_type": "stream",
     "text": [
      "beagle.28Sep18.793.jar (version 5.0)\n",
      "Copyright (C) 2014-2018 Brian L. Browning\n",
      "Enter \"java -jar beagle.28Sep18.793.jar\" to list command line argument\n",
      "Start time: 06:01 PM PDT on 24 Apr 2020\n",
      "\n",
      "Command line: java -Xmx13653m -jar beagle.28Sep18.793.jar\n",
      "  gt=target.chr22.typedOnly.masked.vcf.gz\n",
      "  ref=ref.chr22.excludeTarget.vcf.gz\n",
      "  out=beagle.imputed\n",
      "  nthreads=4\n",
      "\n",
      "No genetic map is specified: using 1 cM = 1 Mb\n",
      "\n",
      "Reference samples:       2,254\n",
      "Study samples:             250\n",
      "\n",
      "Window 1 (22:16050115-51244237)\n",
      "Reference markers:     644,939\n",
      "Study markers:         100,000\n",
      "\n",
      "Burnin  iteration 1:           19 seconds\n",
      "Burnin  iteration 2:           45 seconds\n",
      "Burnin  iteration 3:           48 seconds\n",
      "Burnin  iteration 4:           53 seconds\n",
      "Burnin  iteration 5:           58 seconds\n",
      "Burnin  iteration 6:           57 seconds\n",
      "\n",
      "Phasing iteration 1:           55 seconds\n",
      "Phasing iteration 2:           51 seconds\n",
      "Phasing iteration 3:           52 seconds\n",
      "Phasing iteration 4:           51 seconds\n",
      "Phasing iteration 5:           54 seconds\n",
      "Phasing iteration 6:           52 seconds\n",
      "Phasing iteration 7:           57 seconds\n",
      "Phasing iteration 8:           53 seconds\n",
      "Phasing iteration 9:           52 seconds\n",
      "Phasing iteration 10:          55 seconds\n",
      "Phasing iteration 11:          50 seconds\n",
      "Phasing iteration 12:          45 seconds\n",
      "\n",
      "Imputation time:               48 seconds\n",
      "\n",
      "Cumulative Statistics:\n",
      "\n",
      "Reference markers:     644,939\n",
      "Study markers:         100,000\n",
      "\n",
      "Haplotype phasing time:        15 minutes 9 seconds\n",
      "Imputation time:               48 seconds\n",
      "Total time:                    16 minutes 16 seconds\n",
      "\n",
      "End time: 06:17 PM PDT on 24 Apr 2020\n",
      "beagle.28Sep18.793.jar finished\n",
      "error overall = 0.0025071022220706147 \n",
      "\n"
     ]
    }
   ],
   "source": [
    "# beagle 5\n",
    "cd(\"/Users/biona001/.julia/dev/MendelImpute/data/1000_genome_phase3_v5/filtered\")\n",
    "function beagle()\n",
    "    chr = 22\n",
    "    tgtfile = \"target.chr$chr.typedOnly.masked.vcf.gz\"\n",
    "    reffile = \"ref.chr$chr.excludeTarget.vcf.gz\"\n",
    "    outfile = \"beagle.imputed\"\n",
    "    Base.run(`java -Xmx15g -jar beagle.28Sep18.793.jar gt=$tgtfile ref=$reffile out=$outfile nthreads=4`)\n",
    "        \n",
    "    # beagle error rate    \n",
    "    X_complete = convert_gt(Float32, \"target.chr22.full.vcf.gz\")\n",
    "    X_beagle = convert_gt(Float32, \"beagle.imputed.vcf.gz\")\n",
    "    n, p = size(X_complete)\n",
    "    println(\"error overall = $(sum(X_beagle .!= X_complete) / n / p) \\n\")\n",
    "end\n",
    "beagle()"
   ]
  },
  {
   "cell_type": "markdown",
   "metadata": {
    "collapsed": true
   },
   "source": [
    "# Eagle 2 + Minimac4\n",
    "\n",
    "In order to use the reference panel in Eagle 2's prephase option, one must first convert it to `.bcf` format via e.g. `htslib` which is *extremely* difficult to install. Even after we went through all the hard work to obtain the final `.bcf` reference file (see commands below), eagle 2.4 STILL SAYS the file is not acceptable (not bgzipped or some processing error). Therefore, I have no choice but to prephase without the reference panel. "
   ]
  },
  {
   "cell_type": "code",
   "execution_count": null,
   "metadata": {
    "collapsed": true
   },
   "outputs": [],
   "source": [
    "# THIS CHUNK OF CODE DID NOT WORK\n",
    "module load htslib/1.9                   # load htslib on hoffman\n",
    "gunzip ref.chr22.excludeTarget.vcf.gz    # unzip .vcf.gz\n",
    "bgzip ref.chr22.excludeTarget.vcf        # bgzip the vcf file\n",
    "bcftools index -f ref.chr22.excludeTarget.vcf.gz   # load some required index, not sure if needed\n",
    "bcftools view ref.chr22.excludeTarget.vcf > ref.chr22.excludeTarget.bcf # create .bcf -> CREATED FILE BUT says not bgzipped\n",
    "bgzip ref.chr22.excludeTarget.bcf       # try to bgzip .bcf file -> cannot do so"
   ]
  },
  {
   "cell_type": "code",
   "execution_count": null,
   "metadata": {
    "collapsed": true
   },
   "outputs": [],
   "source": [
    "# run eagle 2.4: 3367.79 sec on amd-2382 machine (can only run on linux systems)\n",
    "eagle --vcf=target.chr22.typedOnly.masked.vcf.gz --outPrefix=eagle.phased --numThreads=4 --geneticMapFile=../Eagle_v2.4.1/tables/genetic_map_hg19_withX.txt.gz"
   ]
  },
  {
   "cell_type": "code",
   "execution_count": null,
   "metadata": {
    "collapsed": true
   },
   "outputs": [],
   "source": [
    "# convert ref file to m3vcf format (Total Run completed in 1 hours, 46 mins, 24 seconds)\n",
    "/u/home/b/biona001/haplotype_comparisons/Minimac3/bin/Minimac3 --refHaps ref.chr22.excludeTarget.vcf.gz --processReference --prefix ref.chr22.excludeTarget"
   ]
  },
  {
   "cell_type": "code",
   "execution_count": null,
   "metadata": {
    "collapsed": true
   },
   "outputs": [],
   "source": [
    "# run minimac4 (2619 seconds)\n",
    "minimac4 --refHaps ref.chr22.excludeTarget.m3vcf.gz --haps eagle.phased.vcf.gz --prefix minimac.imputed.chr22 --format GT --cpus 4"
   ]
  },
  {
   "cell_type": "code",
   "execution_count": 3,
   "metadata": {
    "collapsed": false
   },
   "outputs": [
    {
     "name": "stdout",
     "output_type": "stream",
     "text": [
      "error overall = 0.003166693284171061 \n",
      "\n"
     ]
    }
   ],
   "source": [
    "# minimac4 error rate    \n",
    "X_complete = convert_gt(Float32, \"target.chr22.full.vcf.gz\")\n",
    "X_minimac = convert_gt(Float32, \"minimac.imputed.chr22.dose.vcf.gz\")\n",
    "n, p = size(X_complete)\n",
    "println(\"error overall = $(sum(X_minimac .!= X_complete) / n / p) \\n\")"
   ]
  },
  {
   "cell_type": "code",
   "execution_count": null,
   "metadata": {
    "collapsed": true
   },
   "outputs": [],
   "source": []
  }
 ],
 "metadata": {
  "@webio": {
   "lastCommId": null,
   "lastKernelId": null
  },
  "kernelspec": {
   "display_name": "Julia 1.3.0-rc4",
   "language": "julia",
   "name": "julia-1.3"
  },
  "language_info": {
   "file_extension": ".jl",
   "mimetype": "application/julia",
   "name": "julia",
   "version": "1.3.1"
  }
 },
 "nbformat": 4,
 "nbformat_minor": 2
}
