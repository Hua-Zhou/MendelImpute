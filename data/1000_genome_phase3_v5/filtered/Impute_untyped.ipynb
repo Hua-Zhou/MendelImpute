{
 "cells": [
  {
   "cell_type": "markdown",
   "metadata": {},
   "source": [
    "# Test if MendelImpute can impute untyped SNPs"
   ]
  },
  {
   "cell_type": "code",
   "execution_count": 1,
   "metadata": {
    "collapsed": false
   },
   "outputs": [
    {
     "name": "stderr",
     "output_type": "stream",
     "text": [
      "┌ Warning: no Manifest.toml file found, static paths used\n",
      "└ @ Revise /Users/biona001/.julia/packages/Revise/439di/src/Revise.jl:1108\n",
      "┌ Info: Precompiling MendelImpute [e47305d1-6a61-5370-bc5d-77554d143183]\n",
      "└ @ Base loading.jl:1273\n"
     ]
    }
   ],
   "source": [
    "using Revise\n",
    "using VCFTools\n",
    "using MendelImpute\n",
    "using GeneticVariation\n",
    "using Random\n",
    "using StatsBase"
   ]
  },
  {
   "cell_type": "markdown",
   "metadata": {},
   "source": [
    "## Generate subset of markers for prephasing"
   ]
  },
  {
   "cell_type": "code",
   "execution_count": 5,
   "metadata": {
    "collapsed": false
   },
   "outputs": [
    {
     "name": "stdout",
     "output_type": "stream",
     "text": [
      "547.645319 seconds (4.91 G allocations: 463.567 GiB, 6.91% gc time)\n",
      "433.979604 seconds (4.98 G allocations: 468.237 GiB, 10.20% gc time)\n",
      "463.505887 seconds (5.67 G allocations: 523.322 GiB, 10.87% gc time)\n",
      "1022.502225 seconds (12.13 G allocations: 936.019 GiB, 12.45% gc time)\n",
      " 13.274375 seconds (76.61 M allocations: 8.666 GiB, 6.78% gc time)\n"
     ]
    },
    {
     "ename": "SystemError",
     "evalue": "SystemError: opening file \"target.chr22.masked.vcf.gz\": No such file or directory",
     "output_type": "error",
     "traceback": [
      "SystemError: opening file \"target.chr22.masked.vcf.gz\": No such file or directory",
      "",
      "Stacktrace:",
      " [1] #systemerror#44(::Nothing, ::typeof(systemerror), ::String, ::Bool) at ./error.jl:134",
      " [2] systemerror at ./error.jl:134 [inlined]",
      " [3] #open#512(::Bool, ::Nothing, ::Nothing, ::Nothing, ::Nothing, ::typeof(open), ::String) at ./iostream.jl:254",
      " [4] #open at ./none:0 [inlined]",
      " [5] open(::String, ::String) at ./iostream.jl:310",
      " [6] openvcf(::String, ::String) at /Users/biona001/.julia/dev/VCFTools/src/gtstats.jl:178",
      " [7] conformgt_by_pos(::String, ::String, ::String, ::String, ::UnitRange{Int64}, ::Bool) at /Users/biona001/.julia/dev/VCFTools/src/conformgt.jl:162",
      " [8] conformgt_by_pos at /Users/biona001/.julia/dev/VCFTools/src/conformgt.jl:161 [inlined]",
      " [9] macro expansion at ./util.jl:155 [inlined]",
      " [10] filter_and_mask() at ./In[5]:43",
      " [11] top-level scope at util.jl:155",
      " [12] top-level scope at In[5]:53"
     ]
    }
   ],
   "source": [
    "cd(\"/Users/biona001/.julia/dev/MendelImpute/data/1000_genome_phase3_v5/filtered\")\n",
    "function filter_and_mask()\n",
    "    for chr in [22]\n",
    "        # filter chromosome data for unique snps\n",
    "        data = \"../raw/ALL.chr$chr.phase3_v5.shapeit2_mvncall_integrated.noSingleton.genotypes.vcf.gz\"\n",
    "        full_record_index = .!find_duplicate_marker(data)\n",
    "        @time VCFTools.filter(data, full_record_index, 1:nsamples(data), \n",
    "            des = \"chr$chr.uniqueSNPs.vcf.gz\")\n",
    "    \n",
    "        # generate target file with 250 samples and 100k snps\n",
    "        n = 250\n",
    "        p = 100000\n",
    "        total_snps = nrecords(\"chr$chr.uniqueSNPs.vcf.gz\")\n",
    "        Random.seed!(2020)\n",
    "        record_idx = falses(total_snps)\n",
    "        record_idx[1:p] .= true\n",
    "        shuffle!(record_idx)\n",
    "        sample_idx = falses(nsamples(\"chr$chr.uniqueSNPs.vcf.gz\"))\n",
    "        sample_idx[1:n] .= true\n",
    "        shuffle!(sample_idx)\n",
    "        @time VCFTools.filter(\"chr$chr.uniqueSNPs.vcf.gz\", record_idx, sample_idx, \n",
    "            des = \"target.chr$chr.prephase.vcf.gz\")\n",
    "\n",
    "        # generate target panel with all snps\n",
    "        @time VCFTools.filter(\"chr$chr.uniqueSNPs.vcf.gz\", \n",
    "            1:total_snps, sample_idx, des = \"target.chr$chr.full.vcf.gz\")\n",
    "        \n",
    "        # also generate reference panel without target samples\n",
    "        @time VCFTools.filter(\"chr$chr.uniqueSNPs.vcf.gz\", \n",
    "            1:total_snps, .!sample_idx, des = \"ref.chr$chr.excludeTarget.vcf.gz\")\n",
    "        \n",
    "        # unphase and mask 1% entries in target file\n",
    "        masks = falses(p, n)\n",
    "        missingprop = 0.01\n",
    "        Random.seed!(2020)\n",
    "        for j in 1:n, i in 1:p\n",
    "            rand() < missingprop && (masks[i, j] = true)\n",
    "        end\n",
    "        @time mask_gt(\"target.chr$chr.prephase.vcf.gz\", masks, \n",
    "            des=\"target.chr$chr.prephase.masked.vcf.gz\", unphase=true)\n",
    "    \n",
    "        # generate subset of reference file that matches target file\n",
    "        @time conformgt_by_pos(\"ref.chr$chr.excludeTarget.vcf.gz\", \n",
    "            \"target.chr$(chr).prephase.masked.vcf.gz\", \n",
    "            \"chr$chr.aligned\", \"$chr\", 1:typemax(Int))\n",
    "        if nrecords(\"chr$chr.aligned.tgt.vcf.gz\") == p\n",
    "            rm(\"chr$chr.aligned.tgt.vcf.gz\", force=true) # perfect match\n",
    "        else\n",
    "            error(\"target file has SNPs not matching in reference file! Shouldn't happen!\")\n",
    "        end\n",
    "        mv(\"chr22.aligned.ref.vcf.gz\", \"ref.chr22.aligned.vcf.gz\")\n",
    "    end \n",
    "end\n",
    "@time filter_and_mask()"
   ]
  },
  {
   "cell_type": "code",
   "execution_count": 7,
   "metadata": {
    "collapsed": false
   },
   "outputs": [
    {
     "name": "stderr",
     "output_type": "stream",
     "text": [
      "┌ Info: Match target POS to reference POS\n",
      "└ @ VCFTools /Users/biona001/.julia/dev/VCFTools/src/conformgt.jl:172\n",
      "\u001b[32mProgress: 100%|█████████████████████████████████████████| Time: 0:12:23\u001b[39m\n"
     ]
    },
    {
     "name": "stdout",
     "output_type": "stream",
     "text": [
      "769.477247 seconds (7.23 G allocations: 672.427 GiB, 13.24% gc time)\n"
     ]
    },
    {
     "name": "stderr",
     "output_type": "stream",
     "text": [
      "┌ Info: 100000 records are matched\n",
      "└ @ VCFTools /Users/biona001/.julia/dev/VCFTools/src/conformgt.jl:239\n"
     ]
    }
   ],
   "source": [
    "chr = 22\n",
    "p = 100000\n",
    "@time conformgt_by_pos(\"ref.chr$chr.excludeTarget.vcf.gz\", \n",
    "    \"target.chr$(chr).prephase.masked.vcf.gz\", \n",
    "    \"chr$chr.aligned\", \"$chr\", 1:typemax(Int))\n",
    "if nrecords(\"chr$chr.aligned.tgt.vcf.gz\") == p\n",
    "    rm(\"chr$chr.aligned.tgt.vcf.gz\", force=true) # perfect match\n",
    "else\n",
    "    error(\"target file has SNPs not matching in reference file! Shouldn't happen!\")\n",
    "end"
   ]
  },
  {
   "cell_type": "markdown",
   "metadata": {},
   "source": [
    "# MendelImpute on typed and untyped markers with dp"
   ]
  },
  {
   "cell_type": "code",
   "execution_count": 31,
   "metadata": {
    "collapsed": false
   },
   "outputs": [
    {
     "data": {
      "text/plain": [
       "8"
      ]
     },
     "execution_count": 31,
     "metadata": {},
     "output_type": "execute_result"
    }
   ],
   "source": [
    "Threads.nthreads()"
   ]
  },
  {
   "cell_type": "code",
   "execution_count": 11,
   "metadata": {
    "collapsed": false
   },
   "outputs": [
    {
     "name": "stdout",
     "output_type": "stream",
     "text": [
      "(nrecords(tgtfile), nsamples(tgtfile)) = (100000, 250)\n",
      "(nrecords(reffile), nsamples(reffile)) = (644939, 2254)\n",
      "(nrecords(reffile_aligned), nsamples(reffile_aligned)) = (100000, 2254)\n",
      "(nrecords(X_prephase_complete), nsamples(X_prephase_complete)) = (100000, 250)\n",
      "(nrecords(X_full_complete), nsamples(X_full_complete)) = (644939, 250)\n"
     ]
    },
    {
     "data": {
      "text/plain": [
       "(644939, 250)"
      ]
     },
     "execution_count": 11,
     "metadata": {},
     "output_type": "execute_result"
    }
   ],
   "source": [
    "tgtfile = \"target.chr22.prephase.masked.vcf.gz\"\n",
    "reffile = \"ref.chr22.excludeTarget.vcf.gz\"\n",
    "reffile_aligned = \"ref.chr22.aligned.vcf.gz\"\n",
    "X_prephase_complete = \"target.chr22.prephase.vcf.gz\"\n",
    "X_full_complete = \"target.chr22.full.vcf.gz\"\n",
    "@show nrecords(tgtfile), nsamples(tgtfile)\n",
    "@show nrecords(reffile), nsamples(reffile)\n",
    "@show nrecords(reffile_aligned), nsamples(reffile_aligned)\n",
    "@show nrecords(X_prephase_complete), nsamples(X_prephase_complete)\n",
    "@show nrecords(X_full_complete), nsamples(X_full_complete)"
   ]
  },
  {
   "cell_type": "markdown",
   "metadata": {},
   "source": [
    "### Error rate on typed snps "
   ]
  },
  {
   "cell_type": "code",
   "execution_count": 15,
   "metadata": {
    "collapsed": false
   },
   "outputs": [
    {
     "name": "stdout",
     "output_type": "stream",
     "text": [
      "Imputing typed SNPs only with dynamic programming, width = 1000\n",
      "Running chunk 1 / 1\n"
     ]
    },
    {
     "name": "stderr",
     "output_type": "stream",
     "text": [
      "\u001b[32mImporting genotype file...100%|█████████████████████████| Time: 0:00:05\u001b[39m\n",
      "\u001b[32mImporting reference haplotype files...100%|█████████████| Time: 0:00:28\u001b[39m\n",
      "\u001b[32mComputing optimal haplotype pairs...100%|███████████████| Time: 0:01:25\u001b[39m\n",
      "\u001b[32mImputing samples...100%|████████████████████████████████| Time: 0:05:59\u001b[39m\n",
      "\u001b[32mWriting to file...100%|█████████████████████████████████| Time: 0:00:09\u001b[39m\n"
     ]
    },
    {
     "name": "stdout",
     "output_type": "stream",
     "text": [
      "497.316897 seconds (634.08 M allocations: 65.385 GiB, 1.54% gc time)\n",
      "error on typed data = 0.00017911999999999998\n",
      "Imputing typed SNPs only with dynamic programming, width = 2000\n",
      "Running chunk 1 / 1\n"
     ]
    },
    {
     "name": "stderr",
     "output_type": "stream",
     "text": [
      "\u001b[32mImporting genotype file...100%|█████████████████████████| Time: 0:00:05\u001b[39m\n",
      "\u001b[32mImporting reference haplotype files...100%|█████████████| Time: 0:00:29\u001b[39m\n",
      "\u001b[32mComputing optimal haplotype pairs...100%|███████████████| Time: 0:00:45\u001b[39m\n",
      "\u001b[32mImputing samples...100%|████████████████████████████████| Time: 0:12:44\u001b[39m\n",
      "\u001b[32mWriting to file...100%|█████████████████████████████████| Time: 0:00:10\u001b[39m\n"
     ]
    },
    {
     "name": "stdout",
     "output_type": "stream",
     "text": [
      "863.565807 seconds (633.44 M allocations: 62.893 GiB, 0.87% gc time)\n",
      "error on typed data = 0.00027012\n"
     ]
    }
   ],
   "source": [
    "# using incomplete ref panel\n",
    "cd(\"/Users/biona001/.julia/dev/MendelImpute/data/1000_genome_phase3_v5/filtered\")\n",
    "Random.seed!(2020)\n",
    "function run()\n",
    "    X_complete = convert_gt(Float32, \"target.chr22.prephase.vcf.gz\")\n",
    "#     X_complete = convert_gt(Float32, \"target.chr22.full.vcf.gz\")\n",
    "    n, p = size(X_prephase_complete)\n",
    "    chr = 22\n",
    "    for width in [1000, 2000]\n",
    "        println(\"Imputing typed SNPs only with dynamic programming, width = $width\")\n",
    "        tgtfile = \"target.chr$chr.prephase.masked.vcf.gz\"\n",
    "        reffile = \"ref.chr$chr.excludeTarget.vcf.gz\"\n",
    "        outfile = \"mendel.imputed.dp$width.vcf.gz\"\n",
    "        reffile_aligned = \"ref.chr$chr.aligned.vcf.gz\"\n",
    "        @time phase(tgtfile, reffile, reffile_aligned = reffile_aligned,\n",
    "            outfile = outfile, width = width, fast_method=false)\n",
    "        X_mendel = convert_gt(Float32, outfile)\n",
    "        println(\"error on typed data = $(sum(X_mendel .!= X_complete) / n / p)\")\n",
    "    end\n",
    "end\n",
    "run()"
   ]
  },
  {
   "cell_type": "markdown",
   "metadata": {},
   "source": [
    "### Error rate on untyped + typed snps"
   ]
  },
  {
   "cell_type": "code",
   "execution_count": 84,
   "metadata": {
    "collapsed": false
   },
   "outputs": [
    {
     "name": "stdout",
     "output_type": "stream",
     "text": [
      "Imputing typed SNPs only with dynamic programming, width = 1000\n",
      "Running chunk 1 / 1\n"
     ]
    },
    {
     "name": "stderr",
     "output_type": "stream",
     "text": [
      "\u001b[32mImporting genotype file...100%|█████████████████████████| Time: 0:00:05\u001b[39m\n",
      "\u001b[32mImporting reference haplotype files...100%|█████████████| Time: 0:00:32\u001b[39m\n",
      "\u001b[32mComputing optimal haplotype pairs...100%|███████████████| Time: 0:01:49\u001b[39m\n",
      "\u001b[32mMerging breakpoints...100%|█████████████████████████████| Time: 0:03:11\u001b[39m\n",
      "\u001b[32mWriting to file...100%|█████████████████████████████████| Time: 0:07:28\u001b[39m\n"
     ]
    },
    {
     "name": "stdout",
     "output_type": "stream",
     "text": [
      "1036.880082 seconds (8.67 G allocations: 803.597 GiB, 11.00% gc time)\n",
      "error overall = 0.016043166873146143\n",
      "Imputing typed SNPs only with dynamic programming, width = 2000\n",
      "Running chunk 1 / 1\n"
     ]
    },
    {
     "name": "stderr",
     "output_type": "stream",
     "text": [
      "\u001b[32mImporting genotype file...100%|█████████████████████████| Time: 0:00:05\u001b[39m\n",
      "\u001b[32mImporting reference haplotype files... 48%|██████▎      |  ETA: 0:00:16\u001b[39m"
     ]
    },
    {
     "ename": "InterruptException",
     "evalue": "InterruptException:",
     "output_type": "error",
     "traceback": [
      "InterruptException:",
      "",
      "Stacktrace:",
      " [1] _growend! at ./array.jl:827 [inlined]",
      " [2] push! at ./array.jl:869 [inlined]",
      " [3] macro expansion at /Users/biona001/.julia/packages/Automa/fyalL/src/codegen.jl:247 [inlined]",
      " [4] _read!(::GeneticVariation.VCF.Reader, ::BioCore.Ragel.State{BufferedStreams.BufferedInputStream{TranscodingStreams.TranscodingStream{CodecZlib.GzipDecompressor,IOStream}}}, ::GeneticVariation.VCF.Record) at /Users/biona001/.julia/packages/BioCore/YBJvb/src/ReaderHelper.jl:156",
      " [5] read!(::GeneticVariation.VCF.Reader, ::GeneticVariation.VCF.Record) at /Users/biona001/.julia/packages/BioCore/YBJvb/src/ReaderHelper.jl:134",
      " [6] read at /Users/biona001/.julia/packages/BioCore/YBJvb/src/IO.jl:61 [inlined]",
      " [7] #copy_ht_trans!#12(::String, ::typeof(copy_ht_trans!), ::BitArray{2}, ::GeneticVariation.VCF.Reader) at /Users/biona001/.julia/dev/VCFTools/src/convert.jl:343",
      " [8] #copy_ht_trans! at ./none:0 [inlined]",
      " [9] #phase#242(::String, ::Bool, ::String, ::String, ::Int64, ::Int64, ::Bool, ::Bool, ::typeof(phase), ::String, ::String) at /Users/biona001/.julia/dev/MendelImpute/src/haplotyping.jl:88",
      " [10] #phase at ./none:0 [inlined]",
      " [11] macro expansion at ./util.jl:155 [inlined]",
      " [12] run() at ./In[84]:15",
      " [13] top-level scope at In[84]:21"
     ]
    }
   ],
   "source": [
    "# fast method using incomplete ref panel\n",
    "cd(\"/Users/biona001/.julia/dev/MendelImpute/data/1000_genome_phase3_v5/filtered\")\n",
    "Random.seed!(2020)\n",
    "function run()\n",
    "#     X_complete = convert_gt(Float32, \"target.chr22.prephase.vcf.gz\")\n",
    "    X_complete = convert_gt(Float32, \"target.chr22.full.vcf.gz\")\n",
    "    n, p = size(X_complete)\n",
    "    chr = 22\n",
    "    for width in [1000, 2000]\n",
    "        println(\"Imputing typed SNPs only with dynamic programming, width = $width\")\n",
    "        tgtfile = \"target.chr$chr.prephase.masked.vcf.gz\"\n",
    "        reffile = \"ref.chr$chr.excludeTarget.vcf.gz\"\n",
    "        outfile = \"mendel.imputed.dp$width.vcf.gz\"\n",
    "        reffile_aligned = \"ref.chr$chr.aligned.vcf.gz\"\n",
    "        @time phase(tgtfile, reffile, reffile_aligned = reffile_aligned, impute=true, \n",
    "            outfile = outfile, width = width, fast_method=true)\n",
    "        X_mendel = convert_gt(Float32, outfile)\n",
    "        println(\"error overall = $(sum(X_mendel .!= X_complete) / n / p)\")\n",
    "    end\n",
    "end\n",
    "run()"
   ]
  },
  {
   "cell_type": "code",
   "execution_count": 80,
   "metadata": {
    "collapsed": false
   },
   "outputs": [
    {
     "name": "stdout",
     "output_type": "stream",
     "text": [
      "error on typed data = 0.015489868034031126\n"
     ]
    }
   ],
   "source": [
    "# dp error\n",
    "X_complete = convert_gt(Float32, \"target.chr22.full.vcf.gz\")\n",
    "X_mendel = convert_gt(Float32, outfile)\n",
    "n, p = size(X_mendel)\n",
    "println(\"error on typed data = $(sum(X_mendel .!= X_complete) / n / p)\")"
   ]
  },
  {
   "cell_type": "code",
   "execution_count": null,
   "metadata": {
    "collapsed": true
   },
   "outputs": [],
   "source": []
  },
  {
   "cell_type": "markdown",
   "metadata": {},
   "source": [
    "# Complete ref panel gives good error % for typed snps"
   ]
  },
  {
   "cell_type": "code",
   "execution_count": 14,
   "metadata": {
    "collapsed": false
   },
   "outputs": [
    {
     "name": "stdout",
     "output_type": "stream",
     "text": [
      "Imputing typed SNPs only with dynamic programming, width = 500\n",
      "Running chunk 1 / 1\n"
     ]
    },
    {
     "name": "stderr",
     "output_type": "stream",
     "text": [
      "\u001b[32mImporting genotype file...100%|█████████████████████████| Time: 0:00:05\u001b[39m\n",
      "\u001b[32mImporting reference haplotype files...100%|█████████████| Time: 0:00:30\u001b[39m\n",
      "\u001b[32mComputing optimal haplotype pairs...100%|███████████████| Time: 0:01:57\u001b[39m\n",
      "\u001b[32mImputing samples...100%|████████████████████████████████| Time: 0:00:06\u001b[39m\n",
      "\u001b[32mWriting to file...100%|█████████████████████████████████| Time: 0:00:10\u001b[39m\n"
     ]
    },
    {
     "name": "stdout",
     "output_type": "stream",
     "text": [
      "180.914743 seconds (685.21 M allocations: 72.913 GiB, 4.97% gc time)\n",
      "error = 6.0e-6 \n",
      "\n",
      "Imputing typed SNPs only with dynamic programming, width = 1000\n",
      "Running chunk 1 / 1\n"
     ]
    },
    {
     "name": "stderr",
     "output_type": "stream",
     "text": [
      "\u001b[32mImporting genotype file...100%|█████████████████████████| Time: 0:00:05\u001b[39m\n",
      "\u001b[32mImporting reference haplotype files...100%|█████████████| Time: 0:00:31\u001b[39m\n",
      "\u001b[32mComputing optimal haplotype pairs...100%|███████████████| Time: 0:01:30\u001b[39m\n",
      "\u001b[32mWriting to file...100%|█████████████████████████████████| Time: 0:00:09\u001b[39m\n"
     ]
    },
    {
     "name": "stdout",
     "output_type": "stream",
     "text": [
      "148.181139 seconds (684.21 M allocations: 70.699 GiB, 5.99% gc time)\n",
      "error = 5.6e-7 \n",
      "\n",
      "Imputing typed SNPs only with dynamic programming, width = 1500\n",
      "Running chunk 1 / 1\n"
     ]
    },
    {
     "name": "stderr",
     "output_type": "stream",
     "text": [
      "\u001b[32mImporting genotype file...100%|█████████████████████████| Time: 0:00:05\u001b[39m\n",
      "\u001b[32mImporting reference haplotype files...100%|█████████████| Time: 0:00:29\u001b[39m\n",
      "\u001b[32mComputing optimal haplotype pairs...100%|███████████████| Time: 0:01:05\u001b[39m\n",
      "\u001b[32mWriting to file...100%|█████████████████████████████████| Time: 0:00:09\u001b[39m\n"
     ]
    },
    {
     "name": "stdout",
     "output_type": "stream",
     "text": [
      "119.986834 seconds (683.78 M allocations: 68.668 GiB, 6.90% gc time)\n",
      "error = 1.2e-7 \n",
      "\n",
      "Imputing typed SNPs only with dynamic programming, width = 2000\n",
      "Running chunk 1 / 1\n"
     ]
    },
    {
     "name": "stderr",
     "output_type": "stream",
     "text": [
      "\u001b[32mImporting genotype file...100%|█████████████████████████| Time: 0:00:05\u001b[39m\n",
      "\u001b[32mImporting reference haplotype files...100%|█████████████| Time: 0:00:30\u001b[39m\n",
      "\u001b[32mComputing optimal haplotype pairs...100%|███████████████| Time: 0:00:53\u001b[39m\n",
      "\u001b[32mWriting to file...100%|█████████████████████████████████| Time: 0:00:09\u001b[39m\n"
     ]
    },
    {
     "name": "stdout",
     "output_type": "stream",
     "text": [
      "108.554973 seconds (683.55 M allocations: 67.577 GiB, 7.45% gc time)\n",
      "error = 4.0e-8 \n",
      "\n"
     ]
    }
   ],
   "source": [
    "cd(\"/Users/biona001/.julia/dev/MendelImpute/data/1000_genome_phase3_v5/filtered\")\n",
    "Random.seed!(2020)\n",
    "function run()\n",
    "    X_complete = convert_gt(Float32, \"target.chr22.prephase.vcf.gz\")\n",
    "#     X_complete = convert_gt(Float32, \"target.chr22.full.vcf.gz\")\n",
    "    n, p = size(X_prephase_complete)\n",
    "    nn, pp = size(X_full_complete)\n",
    "    chr = 22\n",
    "    for width in [1000, 2000]\n",
    "        println(\"Imputing typed SNPs only with dynamic programming, width = $width\")\n",
    "        tgtfile = \"target.chr$chr.prephase.masked.vcf.gz\"\n",
    "        reffile = \"ref.chr$chr.excludeTarget.vcf.gz\"\n",
    "        outfile = \"mendel.imputed.dp$width.vcf.gz\"\n",
    "        reffile_aligned = \"chr$chr.aligned.ref.vcf.gz\"\n",
    "        @time phase(tgtfile, reffile, reffile_aligned = reffile_aligned,\n",
    "            outfile = outfile, width = width, fast_method=false)\n",
    "        X_mendel = convert_gt(Float32, outfile)\n",
    "        println(\"error on prephase data = $(sum(X_mendel .!= X_complete) / n / p) \\n\")\n",
    "    end\n",
    "end\n",
    "run()"
   ]
  },
  {
   "cell_type": "code",
   "execution_count": null,
   "metadata": {
    "collapsed": true
   },
   "outputs": [],
   "source": []
  },
  {
   "cell_type": "code",
   "execution_count": null,
   "metadata": {
    "collapsed": true
   },
   "outputs": [],
   "source": []
  },
  {
   "cell_type": "code",
   "execution_count": null,
   "metadata": {
    "collapsed": true
   },
   "outputs": [],
   "source": []
  },
  {
   "cell_type": "code",
   "execution_count": null,
   "metadata": {
    "collapsed": true
   },
   "outputs": [],
   "source": []
  },
  {
   "cell_type": "code",
   "execution_count": null,
   "metadata": {
    "collapsed": true
   },
   "outputs": [],
   "source": []
  },
  {
   "cell_type": "code",
   "execution_count": null,
   "metadata": {
    "collapsed": true
   },
   "outputs": [],
   "source": []
  }
 ],
 "metadata": {
  "@webio": {
   "lastCommId": null,
   "lastKernelId": null
  },
  "kernelspec": {
   "display_name": "Julia 1.3.0-rc4",
   "language": "julia",
   "name": "julia-1.3"
  },
  "language_info": {
   "file_extension": ".jl",
   "mimetype": "application/julia",
   "name": "julia",
   "version": "1.3.1"
  }
 },
 "nbformat": 4,
 "nbformat_minor": 2
}
