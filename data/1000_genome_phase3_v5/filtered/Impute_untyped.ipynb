{
 "cells": [
  {
   "cell_type": "markdown",
   "metadata": {},
   "source": [
    "# Test if MendelImpute can impute untyped SNPs"
   ]
  },
  {
   "cell_type": "code",
   "execution_count": 1,
   "metadata": {
    "collapsed": false
   },
   "outputs": [
    {
     "name": "stderr",
     "output_type": "stream",
     "text": [
      "┌ Warning: no Manifest.toml file found, static paths used\n",
      "└ @ Revise /Users/biona001/.julia/packages/Revise/439di/src/Revise.jl:1108\n",
      "┌ Info: Precompiling VCFTools [a620830f-fdd7-5ebc-8d26-3621ab35fbfe]\n",
      "└ @ Base loading.jl:1273\n",
      "┌ Info: Precompiling MendelImpute [e47305d1-6a61-5370-bc5d-77554d143183]\n",
      "└ @ Base loading.jl:1273\n"
     ]
    }
   ],
   "source": [
    "using Revise\n",
    "using VCFTools\n",
    "using MendelImpute\n",
    "using GeneticVariation\n",
    "using Random\n",
    "using StatsBase"
   ]
  },
  {
   "cell_type": "markdown",
   "metadata": {},
   "source": [
    "## Generate subset of markers for phasing & imputation"
   ]
  },
  {
   "cell_type": "code",
   "execution_count": null,
   "metadata": {
    "collapsed": true
   },
   "outputs": [],
   "source": [
    "cd(\"/Users/biona001/.julia/dev/MendelImpute/data/1000_genome_phase3_v5/filtered\")\n",
    "function filter_and_mask()\n",
    "    for chr in [22]\n",
    "        # filter chromosome data for unique snps\n",
    "        data = \"../raw/ALL.chr$chr.phase3_v5.shapeit2_mvncall_integrated.noSingleton.genotypes.vcf.gz\"\n",
    "        full_record_index = .!find_duplicate_marker(data)\n",
    "        @time VCFTools.filter(data, full_record_index, 1:nsamples(data), des = \"chr$chr.uniqueSNPs.vcf.gz\")\n",
    "    \n",
    "        # generate phased target file with 250 samples and 100k snps\n",
    "        n = 250\n",
    "        p = 100000\n",
    "        Random.seed!(2020)\n",
    "        record_idx = falses(nrecords(\"chr$chr.uniqueSNPs.vcf.gz\"))\n",
    "        record_idx[1:p] .= true\n",
    "        shuffle!(record_idx)\n",
    "        sample_idx = falses(nsamples(\"chr$chr.uniqueSNPs.vcf.gz\"))\n",
    "        sample_idx[1:n] .= true\n",
    "        shuffle!(sample_idx)\n",
    "        @time VCFTools.filter(\"chr$chr.uniqueSNPs.vcf.gz\", record_idx, sample_idx, des = \"target.chr$chr.vcf.gz\")\n",
    "\n",
    "        # also generate reference panel without target samples\n",
    "        @time VCFTools.filter(\"chr$chr.uniqueSNPs.vcf.gz\", full_record_index, .!sample_idx, des = \"ref.chr$chr.excludeTarget.vcf.gz\")\n",
    "        \n",
    "        # unphase and mask 1% entries in target file\n",
    "        samples = length(1:10:2000)\n",
    "        masks = falses(p, samples)\n",
    "        missingprop = 0.01\n",
    "        Random.seed!(2020)\n",
    "        for j in 1:samples, i in 1:p\n",
    "            rand() < missingprop && (masks[i, j] = true)\n",
    "        end\n",
    "        @time mask_gt(\"target.chr$chr.vcf.gz\", masks, des=\"target.chr$(chr).masked.vcf.gz\", unphase=true)\n",
    "    \n",
    "        # construct ref file that matches the target file\n",
    "        @time conformgt_by_pos(\"chr$chr.uniqueSNPs.vcf.gz\", \"target.chr$(chr).masked.vcf.gz\", \n",
    "            \"chr$chr.conformgt.matched\", \"$chr\", 1:typemax(Int))\n",
    "        if nrecords(\"chr$chr.conformgt.matched.tgt.vcf.gz\") == p\n",
    "            rm(\"chr$chr.conformgt.matched.tgt.vcf.gz\", force=true) # perfect match\n",
    "        else\n",
    "            error(\"target file has SNPs not matching in reference file! Shouldn't happen!\")\n",
    "        end\n",
    "    end \n",
    "end\n",
    "filter_and_mask()"
   ]
  },
  {
   "cell_type": "markdown",
   "metadata": {},
   "source": [
    "## Phase subset of markers with dp"
   ]
  },
  {
   "cell_type": "code",
   "execution_count": 2,
   "metadata": {
    "collapsed": false
   },
   "outputs": [
    {
     "data": {
      "text/plain": [
       "4"
      ]
     },
     "execution_count": 2,
     "metadata": {},
     "output_type": "execute_result"
    }
   ],
   "source": [
    "Threads.nthreads()"
   ]
  },
  {
   "cell_type": "code",
   "execution_count": 4,
   "metadata": {
    "collapsed": false
   },
   "outputs": [
    {
     "name": "stdout",
     "output_type": "stream",
     "text": [
      "(nrecords(tgtfile), nsamples(tgtfile)) = (100000, 200)\n",
      "(nrecords(reffile), nsamples(reffile)) = (100000, 2504)\n"
     ]
    },
    {
     "data": {
      "text/plain": [
       "(100000, 2504)"
      ]
     },
     "execution_count": 4,
     "metadata": {},
     "output_type": "execute_result"
    }
   ],
   "source": [
    "chr = 22\n",
    "tgtfile = \"target_chr$(chr)_masked.vcf.gz\"\n",
    "reffile = \"chr$chr.conformgt.matched.ref.vcf.gz\"\n",
    "@show nrecords(tgtfile), nsamples(tgtfile)\n",
    "@show nrecords(reffile), nsamples(reffile)"
   ]
  },
  {
   "cell_type": "code",
   "execution_count": null,
   "metadata": {
    "collapsed": true
   },
   "outputs": [],
   "source": [
    "# using imcomplete ref panel\n",
    "cd(\"/Users/biona001/.julia/dev/MendelImpute/data/1000_genome_phase3_v5/filtered\")\n",
    "Random.seed!(2020)\n",
    "function run()\n",
    "    X_complete = convert_gt(Float32, \"target_chr22.vcf.gz\")\n",
    "    n, p = size(X_complete)\n",
    "    for width in [500, 1000, 1500, 2000]\n",
    "        println(\"Imputing typed SNPs only with dynamic programming, width = $width\")\n",
    "        tgtfile = \"target_chr$(chr)_masked.vcf.gz\"\n",
    "        reffile = \"chr$chr.conformgt.matched.ref.vcf.gz\"\n",
    "        outfile = \"mendel_imputed_typedOnly_dp$width.vcf.gz\"\n",
    "        @time phase(tgtfile, reffile, outfile = outfile, width = width, fast_method=false)\n",
    "        X_mendel = convert_gt(Float32, outfile)\n",
    "        println(\"error = $(sum(X_mendel .!= X_complete) / n / p) \\n\")\n",
    "    end\n",
    "end\n",
    "run()"
   ]
  },
  {
   "cell_type": "code",
   "execution_count": 8,
   "metadata": {
    "collapsed": false
   },
   "outputs": [
    {
     "name": "stdout",
     "output_type": "stream",
     "text": [
      "Imputing typed SNPs only with dynamic programming, width = 500\n",
      "Running chunk 1 / 1\n"
     ]
    },
    {
     "name": "stderr",
     "output_type": "stream",
     "text": [
      "\u001b[32mImporting reference haplotype files...100%|█████████████| Time: 0:00:30\u001b[39m\n",
      "\u001b[32mComputing optimal haplotype pairs...100%|███████████████| Time: 0:02:23\u001b[39m\n",
      "\u001b[32mImputing samples...100%|████████████████████████████████| Time: 0:00:08\u001b[39m\n",
      "\u001b[32mWriting to file...100%|█████████████████████████████████| Time: 0:00:08\u001b[39m\n"
     ]
    },
    {
     "name": "stdout",
     "output_type": "stream",
     "text": [
      "205.627845 seconds (650.88 M allocations: 69.592 GiB, 3.70% gc time)\n",
      "error = 5.55e-6 \n",
      "\n",
      "Imputing typed SNPs only with dynamic programming, width = 1000\n",
      "Running chunk 1 / 1\n"
     ]
    },
    {
     "name": "stderr",
     "output_type": "stream",
     "text": [
      "\u001b[32mImporting reference haplotype files...100%|█████████████| Time: 0:00:31\u001b[39m\n",
      "\u001b[32mComputing optimal haplotype pairs...100%|███████████████| Time: 0:01:45\u001b[39m\n",
      "\u001b[32mWriting to file...100%|█████████████████████████████████| Time: 0:00:08\u001b[39m\n"
     ]
    },
    {
     "name": "stdout",
     "output_type": "stream",
     "text": [
      "161.765668 seconds (648.85 M allocations: 67.338 GiB, 5.38% gc time)\n",
      "error = 5.0e-7 \n",
      "\n",
      "Imputing typed SNPs only with dynamic programming, width = 1500\n",
      "Running chunk 1 / 1\n"
     ]
    },
    {
     "name": "stderr",
     "output_type": "stream",
     "text": [
      "\u001b[32mImporting reference haplotype files...100%|█████████████| Time: 0:00:29\u001b[39m\n",
      "\u001b[32mComputing optimal haplotype pairs...100%|███████████████| Time: 0:01:16\u001b[39m\n",
      "\u001b[32mWriting to file...100%|█████████████████████████████████| Time: 0:00:08\u001b[39m\n"
     ]
    },
    {
     "name": "stdout",
     "output_type": "stream",
     "text": [
      "128.432985 seconds (648.51 M allocations: 65.166 GiB, 5.61% gc time)\n",
      "error = 0.0 \n",
      "\n",
      "Imputing typed SNPs only with dynamic programming, width = 2000\n",
      "Running chunk 1 / 1\n"
     ]
    },
    {
     "name": "stderr",
     "output_type": "stream",
     "text": [
      "\u001b[32mImporting reference haplotype files...100%|█████████████| Time: 0:00:31\u001b[39m\n",
      "\u001b[32mComputing optimal haplotype pairs...100%|███████████████| Time: 0:01:04\u001b[39m\n",
      "\u001b[32mWriting to file...100%|█████████████████████████████████| Time: 0:00:08\u001b[39m\n"
     ]
    },
    {
     "name": "stdout",
     "output_type": "stream",
     "text": [
      "118.403594 seconds (648.33 M allocations: 64.046 GiB, 6.27% gc time)\n",
      "error = 0.0 \n",
      "\n"
     ]
    }
   ],
   "source": [
    "# using complete ref panel can produce 0 error\n",
    "cd(\"/Users/biona001/.julia/dev/MendelImpute/data/1000_genome_phase3_v5/filtered\")\n",
    "Random.seed!(2020)\n",
    "function run()\n",
    "    X_complete = convert_gt(Float32, \"target_chr22.vcf.gz\")\n",
    "    n, p = size(X_complete)\n",
    "    for width in [500, 1000, 1500, 2000]\n",
    "        println(\"Imputing typed SNPs only with dynamic programming, width = $width\")\n",
    "        tgtfile = \"target_chr$(chr)_masked.vcf.gz\"\n",
    "        reffile = \"chr$chr.conformgt.matched.ref.vcf.gz\"\n",
    "        outfile = \"mendel_imputed_typedOnly_dp$width.vcf.gz\"\n",
    "        @time phase(tgtfile, reffile, outfile = outfile, width = width, fast_method=false)\n",
    "        X_mendel = convert_gt(Float32, outfile)\n",
    "        println(\"error = $(sum(X_mendel .!= X_complete) / n / p) \\n\")\n",
    "    end\n",
    "end\n",
    "run()"
   ]
  },
  {
   "cell_type": "code",
   "execution_count": null,
   "metadata": {
    "collapsed": true
   },
   "outputs": [],
   "source": []
  },
  {
   "cell_type": "code",
   "execution_count": null,
   "metadata": {
    "collapsed": true
   },
   "outputs": [],
   "source": []
  },
  {
   "cell_type": "code",
   "execution_count": null,
   "metadata": {
    "collapsed": true
   },
   "outputs": [],
   "source": []
  }
 ],
 "metadata": {
  "kernelspec": {
   "display_name": "Julia 1.3.0-rc4",
   "language": "julia",
   "name": "julia-1.3"
  },
  "language_info": {
   "file_extension": ".jl",
   "mimetype": "application/julia",
   "name": "julia",
   "version": "1.3.1"
  }
 },
 "nbformat": 4,
 "nbformat_minor": 2
}
