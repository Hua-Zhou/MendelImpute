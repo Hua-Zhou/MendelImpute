{
 "cells": [
  {
   "cell_type": "markdown",
   "metadata": {},
   "source": [
    "# Test if MendelImpute can impute untyped SNPs"
   ]
  },
  {
   "cell_type": "code",
   "execution_count": 1,
   "metadata": {
    "collapsed": false
   },
   "outputs": [
    {
     "name": "stderr",
     "output_type": "stream",
     "text": [
      "┌ Warning: no Manifest.toml file found, static paths used\n",
      "└ @ Revise /Users/biona001/.julia/packages/Revise/439di/src/Revise.jl:1108\n",
      "┌ Info: Precompiling MendelImpute [e47305d1-6a61-5370-bc5d-77554d143183]\n",
      "└ @ Base loading.jl:1273\n"
     ]
    }
   ],
   "source": [
    "using Revise\n",
    "using VCFTools\n",
    "using MendelImpute\n",
    "using GeneticVariation\n",
    "using Random\n",
    "using StatsBase"
   ]
  },
  {
   "cell_type": "markdown",
   "metadata": {},
   "source": [
    "## Generate subset of markers for prephasing"
   ]
  },
  {
   "cell_type": "code",
   "execution_count": 2,
   "metadata": {
    "collapsed": false
   },
   "outputs": [
    {
     "name": "stdout",
     "output_type": "stream",
     "text": [
      "497.788284 seconds (4.91 G allocations: 463.346 GiB, 6.20% gc time)\n",
      "356.646174 seconds (4.98 G allocations: 468.363 GiB, 8.80% gc time)\n",
      "731.806957 seconds (12.05 G allocations: 930.966 GiB, 10.47% gc time)\n",
      "  8.494927 seconds (76.61 M allocations: 8.666 GiB, 6.50% gc time)\n"
     ]
    },
    {
     "name": "stderr",
     "output_type": "stream",
     "text": [
      "┌ Info: Match target POS to reference POS\n",
      "└ @ VCFTools /Users/biona001/.julia/dev/VCFTools/src/conformgt.jl:172\n",
      "\u001b[32mProgress: 100%|█████████████████████████████████████████| Time: 0:07:53\u001b[39m\n"
     ]
    },
    {
     "name": "stdout",
     "output_type": "stream",
     "text": [
      "491.268813 seconds (7.15 G allocations: 665.096 GiB, 10.80% gc time)\n"
     ]
    },
    {
     "name": "stderr",
     "output_type": "stream",
     "text": [
      "┌ Info: 98911 records are matched\n",
      "└ @ VCFTools /Users/biona001/.julia/dev/VCFTools/src/conformgt.jl:239\n"
     ]
    },
    {
     "ename": "ErrorException",
     "evalue": "target file has SNPs not matching in reference file! Shouldn't happen!",
     "output_type": "error",
     "traceback": [
      "target file has SNPs not matching in reference file! Shouldn't happen!",
      "",
      "Stacktrace:",
      " [1] error(::String) at ./error.jl:33",
      " [2] filter_and_mask() at ./In[2]:39",
      " [3] top-level scope at util.jl:155",
      " [4] top-level scope at In[2]:43"
     ]
    }
   ],
   "source": [
    "cd(\"/Users/biona001/.julia/dev/MendelImpute/data/1000_genome_phase3_v5/filtered\")\n",
    "function filter_and_mask()\n",
    "    for chr in [22]\n",
    "        # filter chromosome data for unique snps\n",
    "        data = \"../raw/ALL.chr$chr.phase3_v5.shapeit2_mvncall_integrated.noSingleton.genotypes.vcf.gz\"\n",
    "        full_record_index = .!find_duplicate_marker(data)\n",
    "        @time VCFTools.filter(data, full_record_index, 1:nsamples(data), des = \"chr$chr.uniqueSNPs.vcf.gz\")\n",
    "    \n",
    "        # generate target file with 250 samples and 100k snps\n",
    "        n = 250\n",
    "        p = 100000\n",
    "        Random.seed!(2020)\n",
    "        record_idx = falses(nrecords(\"chr$chr.uniqueSNPs.vcf.gz\"))\n",
    "        record_idx[1:p] .= true\n",
    "        shuffle!(record_idx)\n",
    "        sample_idx = falses(nsamples(\"chr$chr.uniqueSNPs.vcf.gz\"))\n",
    "        sample_idx[1:n] .= true\n",
    "        shuffle!(sample_idx)\n",
    "        @time VCFTools.filter(\"chr$chr.uniqueSNPs.vcf.gz\", record_idx, sample_idx, des = \"target.chr$chr.vcf.gz\")\n",
    "\n",
    "        # also generate reference panel without target samples\n",
    "        @time VCFTools.filter(\"chr$chr.uniqueSNPs.vcf.gz\", full_record_index, .!sample_idx, des = \"ref.chr$chr.excludeTarget.vcf.gz\")\n",
    "        \n",
    "        # unphase and mask 1% entries in target file\n",
    "        masks = falses(p, n)\n",
    "        missingprop = 0.01\n",
    "        Random.seed!(2020)\n",
    "        for j in 1:n, i in 1:p\n",
    "            rand() < missingprop && (masks[i, j] = true)\n",
    "        end\n",
    "        @time mask_gt(\"target.chr$chr.vcf.gz\", masks, des=\"target.chr$(chr).masked.vcf.gz\", unphase=true)\n",
    "    \n",
    "        # generate subset of reference file that matches target file\n",
    "        @time conformgt_by_pos(\"ref.chr$chr.excludeTarget.vcf.gz\", \"target.chr$(chr).masked.vcf.gz\", \n",
    "            \"chr$chr.aligned\", \"$chr\", 1:typemax(Int))\n",
    "        if nrecords(\"chr$chr.aligned.tgt.vcf.gz\") == p\n",
    "            rm(\"chr$chr.aligned.tgt.vcf.gz\", force=true) # perfect match\n",
    "        else\n",
    "            error(\"target file has SNPs not matching in reference file! Shouldn't happen!\")\n",
    "        end\n",
    "    end \n",
    "end\n",
    "@time filter_and_mask()"
   ]
  },
  {
   "cell_type": "code",
   "execution_count": 7,
   "metadata": {
    "collapsed": false
   },
   "outputs": [
    {
     "name": "stderr",
     "output_type": "stream",
     "text": [
      "┌ Info: Match target POS to reference POS\n",
      "└ @ VCFTools /Users/biona001/.julia/dev/VCFTools/src/conformgt.jl:172\n",
      "\u001b[32mProgress: 100%|█████████████████████████████████████████| Time: 0:08:45\u001b[39m\n"
     ]
    },
    {
     "name": "stdout",
     "output_type": "stream",
     "text": [
      "543.536740 seconds (7.15 G allocations: 665.069 GiB, 11.70% gc time)\n"
     ]
    },
    {
     "name": "stderr",
     "output_type": "stream",
     "text": [
      "┌ Info: 98911 records are matched\n",
      "└ @ VCFTools /Users/biona001/.julia/dev/VCFTools/src/conformgt.jl:239\n"
     ]
    },
    {
     "ename": "ErrorException",
     "evalue": "target file has SNPs not matching in reference file! Shouldn't happen!",
     "output_type": "error",
     "traceback": [
      "target file has SNPs not matching in reference file! Shouldn't happen!",
      "",
      "Stacktrace:",
      " [1] error(::String) at ./error.jl:33",
      " [2] top-level scope at In[7]:8"
     ]
    }
   ],
   "source": [
    "chr = 22\n",
    "p = 100000\n",
    "@time conformgt_by_pos(\"ref.chr$chr.excludeTarget.vcf.gz\", \"target.chr$(chr).masked.vcf.gz\", \n",
    "    \"chr$chr.aligned\", \"$chr\", 1:typemax(Int))\n",
    "if nrecords(\"chr$chr.aligned.tgt.vcf.gz\") == p\n",
    "    rm(\"chr$chr.aligned.tgt.vcf.gz\", force=true) # perfect match\n",
    "else\n",
    "    error(\"target file has SNPs not matching in reference file! Shouldn't happen!\")\n",
    "end"
   ]
  },
  {
   "cell_type": "code",
   "execution_count": 8,
   "metadata": {
    "collapsed": false
   },
   "outputs": [
    {
     "data": {
      "text/plain": [
       "98911"
      ]
     },
     "execution_count": 8,
     "metadata": {},
     "output_type": "execute_result"
    }
   ],
   "source": [
    "nrecords(\"chr$chr.aligned.tgt.vcf.gz\")"
   ]
  },
  {
   "cell_type": "code",
   "execution_count": null,
   "metadata": {
    "collapsed": true
   },
   "outputs": [],
   "source": [
    "\"ref.chr$chr.excludeTarget.vcf.gz\""
   ]
  },
  {
   "cell_type": "markdown",
   "metadata": {},
   "source": [
    "# Using complete ref panel, phase subset of markers with dp"
   ]
  },
  {
   "cell_type": "code",
   "execution_count": 3,
   "metadata": {
    "collapsed": false
   },
   "outputs": [
    {
     "data": {
      "text/plain": [
       "1"
      ]
     },
     "execution_count": 3,
     "metadata": {},
     "output_type": "execute_result"
    }
   ],
   "source": [
    "Threads.nthreads()"
   ]
  },
  {
   "cell_type": "code",
   "execution_count": 4,
   "metadata": {
    "collapsed": false
   },
   "outputs": [
    {
     "name": "stdout",
     "output_type": "stream",
     "text": [
      "(nrecords(tgtfile), nsamples(tgtfile)) = (100000, 250)\n",
      "(nrecords(reffile), nsamples(reffile)) = (637756, 2254)\n",
      "(nrecords(reffile_aligned), nsamples(reffile_aligned)) = (100000, 2504)\n"
     ]
    },
    {
     "data": {
      "text/plain": [
       "(100000, 2504)"
      ]
     },
     "execution_count": 4,
     "metadata": {},
     "output_type": "execute_result"
    }
   ],
   "source": [
    "chr = 22\n",
    "tgtfile = \"target.chr$chr.masked.vcf.gz\"\n",
    "reffile = \"ref.chr$chr.excludeTarget.vcf.gz\"\n",
    "reffile_aligned = \"chr$chr.conformgt.matched.ref.vcf.gz\"\n",
    "@show nrecords(tgtfile), nsamples(tgtfile)\n",
    "@show nrecords(reffile), nsamples(reffile)\n",
    "@show nrecords(reffile_aligned), nsamples(reffile_aligned)"
   ]
  },
  {
   "cell_type": "code",
   "execution_count": 14,
   "metadata": {
    "collapsed": false
   },
   "outputs": [
    {
     "name": "stdout",
     "output_type": "stream",
     "text": [
      "Imputing typed SNPs only with dynamic programming, width = 500\n",
      "Running chunk 1 / 1\n"
     ]
    },
    {
     "name": "stderr",
     "output_type": "stream",
     "text": [
      "\u001b[32mImporting genotype file...100%|█████████████████████████| Time: 0:00:05\u001b[39m\n",
      "\u001b[32mImporting reference haplotype files...100%|█████████████| Time: 0:00:30\u001b[39m\n",
      "\u001b[32mComputing optimal haplotype pairs...100%|███████████████| Time: 0:01:57\u001b[39m\n",
      "\u001b[32mImputing samples...100%|████████████████████████████████| Time: 0:00:06\u001b[39m\n",
      "\u001b[32mWriting to file...100%|█████████████████████████████████| Time: 0:00:10\u001b[39m\n"
     ]
    },
    {
     "name": "stdout",
     "output_type": "stream",
     "text": [
      "180.914743 seconds (685.21 M allocations: 72.913 GiB, 4.97% gc time)\n",
      "error = 6.0e-6 \n",
      "\n",
      "Imputing typed SNPs only with dynamic programming, width = 1000\n",
      "Running chunk 1 / 1\n"
     ]
    },
    {
     "name": "stderr",
     "output_type": "stream",
     "text": [
      "\u001b[32mImporting genotype file...100%|█████████████████████████| Time: 0:00:05\u001b[39m\n",
      "\u001b[32mImporting reference haplotype files...100%|█████████████| Time: 0:00:31\u001b[39m\n",
      "\u001b[32mComputing optimal haplotype pairs...100%|███████████████| Time: 0:01:30\u001b[39m\n",
      "\u001b[32mWriting to file...100%|█████████████████████████████████| Time: 0:00:09\u001b[39m\n"
     ]
    },
    {
     "name": "stdout",
     "output_type": "stream",
     "text": [
      "148.181139 seconds (684.21 M allocations: 70.699 GiB, 5.99% gc time)\n",
      "error = 5.6e-7 \n",
      "\n",
      "Imputing typed SNPs only with dynamic programming, width = 1500\n",
      "Running chunk 1 / 1\n"
     ]
    },
    {
     "name": "stderr",
     "output_type": "stream",
     "text": [
      "\u001b[32mImporting genotype file...100%|█████████████████████████| Time: 0:00:05\u001b[39m\n",
      "\u001b[32mImporting reference haplotype files...100%|█████████████| Time: 0:00:29\u001b[39m\n",
      "\u001b[32mComputing optimal haplotype pairs...100%|███████████████| Time: 0:01:05\u001b[39m\n",
      "\u001b[32mWriting to file...100%|█████████████████████████████████| Time: 0:00:09\u001b[39m\n"
     ]
    },
    {
     "name": "stdout",
     "output_type": "stream",
     "text": [
      "119.986834 seconds (683.78 M allocations: 68.668 GiB, 6.90% gc time)\n",
      "error = 1.2e-7 \n",
      "\n",
      "Imputing typed SNPs only with dynamic programming, width = 2000\n",
      "Running chunk 1 / 1\n"
     ]
    },
    {
     "name": "stderr",
     "output_type": "stream",
     "text": [
      "\u001b[32mImporting genotype file...100%|█████████████████████████| Time: 0:00:05\u001b[39m\n",
      "\u001b[32mImporting reference haplotype files...100%|█████████████| Time: 0:00:30\u001b[39m\n",
      "\u001b[32mComputing optimal haplotype pairs...100%|███████████████| Time: 0:00:53\u001b[39m\n",
      "\u001b[32mWriting to file...100%|█████████████████████████████████| Time: 0:00:09\u001b[39m\n"
     ]
    },
    {
     "name": "stdout",
     "output_type": "stream",
     "text": [
      "108.554973 seconds (683.55 M allocations: 67.577 GiB, 7.45% gc time)\n",
      "error = 4.0e-8 \n",
      "\n"
     ]
    }
   ],
   "source": [
    "# using complete ref panel\n",
    "cd(\"/Users/biona001/.julia/dev/MendelImpute/data/1000_genome_phase3_v5/filtered\")\n",
    "Random.seed!(2020)\n",
    "function run()\n",
    "    X_complete = convert_gt(Float32, \"target.chr22.vcf.gz\")\n",
    "    n, p = size(X_complete)\n",
    "    chr = 22\n",
    "    for width in [500, 1000, 1500, 2000]\n",
    "        println(\"Imputing typed SNPs only with dynamic programming, width = $width\")\n",
    "        tgtfile = \"target.chr$chr.masked.vcf.gz\"\n",
    "        reffile = \"chr$chr.conformgt.matched.ref.vcf.gz\"\n",
    "        outfile = \"mendel.imputed.typedOnly.dp$width.vcf.gz\"\n",
    "        reffile_aligned = \"chr$chr.conformgt.matched.ref.vcf.gz\"\n",
    "        @time phase(tgtfile, reffile, reffile_aligned = reffile_aligned,\n",
    "            outfile = outfile, width = width, fast_method=false)\n",
    "        X_mendel = convert_gt(Float32, outfile)\n",
    "        println(\"error = $(sum(X_mendel .!= X_complete) / n / p) \\n\")\n",
    "    end\n",
    "end\n",
    "run()"
   ]
  },
  {
   "cell_type": "code",
   "execution_count": null,
   "metadata": {
    "collapsed": true
   },
   "outputs": [],
   "source": []
  },
  {
   "cell_type": "code",
   "execution_count": null,
   "metadata": {
    "collapsed": true
   },
   "outputs": [],
   "source": []
  },
  {
   "cell_type": "code",
   "execution_count": null,
   "metadata": {
    "collapsed": true
   },
   "outputs": [],
   "source": []
  },
  {
   "cell_type": "code",
   "execution_count": null,
   "metadata": {
    "collapsed": true
   },
   "outputs": [],
   "source": []
  },
  {
   "cell_type": "code",
   "execution_count": null,
   "metadata": {
    "collapsed": true
   },
   "outputs": [],
   "source": []
  },
  {
   "cell_type": "code",
   "execution_count": null,
   "metadata": {
    "collapsed": true
   },
   "outputs": [],
   "source": []
  }
 ],
 "metadata": {
  "@webio": {
   "lastCommId": null,
   "lastKernelId": null
  },
  "kernelspec": {
   "display_name": "Julia 1.3.0-rc4",
   "language": "julia",
   "name": "julia-1.3"
  },
  "language_info": {
   "file_extension": ".jl",
   "mimetype": "application/julia",
   "name": "julia",
   "version": "1.3.1"
  }
 },
 "nbformat": 4,
 "nbformat_minor": 2
}
