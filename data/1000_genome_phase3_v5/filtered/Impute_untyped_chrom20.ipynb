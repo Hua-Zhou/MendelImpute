{
 "cells": [
  {
   "cell_type": "markdown",
   "metadata": {},
   "source": [
    "# Test imputation on untyped SNPs chrom 20 "
   ]
  },
  {
   "cell_type": "code",
   "execution_count": 2,
   "metadata": {
    "collapsed": false
   },
   "outputs": [
    {
     "name": "stderr",
     "output_type": "stream",
     "text": [
      "┌ Warning: no Manifest.toml file found, static paths used\n",
      "└ @ Revise /Users/biona001/.julia/packages/Revise/439di/src/Revise.jl:1108\n"
     ]
    }
   ],
   "source": [
    "using Revise\n",
    "using VCFTools\n",
    "using MendelImpute\n",
    "using GeneticVariation\n",
    "using Random\n",
    "using StatsBase"
   ]
  },
  {
   "cell_type": "markdown",
   "metadata": {},
   "source": [
    "### Memory requirement\n",
    "\n",
    "**Prephasing step:** \n",
    "+ Target data requies $people * snps * 4$ bytes of RAM\n",
    "+ Reference haplotype data requires $haplotypes * snps$ bits of RAM\n",
    "+ Redundant haplotype set for imputation target requires roughly\n",
    "$people * windows * 1000$ (max haplotypes per win) $* 16 bytes$ of RAM"
   ]
  },
  {
   "cell_type": "markdown",
   "metadata": {},
   "source": [
    "## Generate subset of markers for prephasing"
   ]
  },
  {
   "cell_type": "code",
   "execution_count": 3,
   "metadata": {
    "collapsed": false
   },
   "outputs": [
    {
     "name": "stdout",
     "output_type": "stream",
     "text": [
      "634.791378 seconds (5.12 G allocations: 482.584 GiB, 6.73% gc time)\n"
     ]
    },
    {
     "name": "stderr",
     "output_type": "stream",
     "text": [
      "\u001b[32mProgress: 100%|█████████████████████████████████████████| Time: 0:09:39\u001b[39m\n"
     ]
    },
    {
     "name": "stdout",
     "output_type": "stream",
     "text": [
      "458.821619 seconds (5.30 G allocations: 502.982 GiB, 10.16% gc time)\n",
      "462.232565 seconds (5.45 G allocations: 517.732 GiB, 10.34% gc time)\n",
      "1071.281820 seconds (13.27 G allocations: 1016.904 GiB, 11.08% gc time)\n",
      " 19.325729 seconds (119.00 M allocations: 12.223 GiB, 5.94% gc time)\n"
     ]
    },
    {
     "name": "stderr",
     "output_type": "stream",
     "text": [
      "┌ Info: Match target POS to reference POS\n",
      "└ @ VCFTools /Users/biona001/.julia/dev/VCFTools/src/conformgt.jl:172\n",
      "\u001b[32mProgress: 100%|█████████████████████████████████████████| Time: 0:19:40\u001b[39m\n"
     ]
    },
    {
     "name": "stdout",
     "output_type": "stream",
     "text": [
      "1207.640069 seconds (15.55 G allocations: 1.374 TiB, 14.84% gc time)\n"
     ]
    },
    {
     "name": "stderr",
     "output_type": "stream",
     "text": [
      "┌ Info: 379432 records are matched\n",
      "└ @ VCFTools /Users/biona001/.julia/dev/VCFTools/src/conformgt.jl:239\n"
     ]
    },
    {
     "name": "stdout",
     "output_type": "stream",
     "text": [
      "4887.106827 seconds (58.46 G allocations: 5.088 TiB, 11.21% gc time)\n"
     ]
    }
   ],
   "source": [
    "cd(\"/Users/biona001/.julia/dev/MendelImpute/data/1000_genome_phase3_v5/filtered\")\n",
    "function filter_and_mask()\n",
    "    for chr in [20]\n",
    "        # filter chromosome data for unique snps\n",
    "        data = \"../beagle_raw/chr$chr.1kg.phase3.v5a.vcf.gz\"\n",
    "        full_record_index = .!find_duplicate_marker(data)\n",
    "        @time VCFTools.filter(data, full_record_index, 1:nsamples(data), \n",
    "            des = \"chr$chr.uniqueSNPs.vcf.gz\")\n",
    "\n",
    "        # summarize data\n",
    "        total_snps, samples, _, _, _, maf_by_record, _ = gtstats(\"chr$chr.uniqueSNPs.vcf.gz\")\n",
    "        large_maf = findall(x -> x > 0.005, maf_by_record)  \n",
    "\n",
    "        # generate target file with 100 samples and keep snps with maf>0.005 as typed SNPs\n",
    "        n = 100\n",
    "        p = length(large_maf)\n",
    "        record_idx = falses(total_snps)\n",
    "        record_idx[large_maf] .= true\n",
    "        sample_idx = falses(samples)\n",
    "        sample_idx[1:n] .= true\n",
    "        shuffle!(sample_idx)\n",
    "        @time VCFTools.filter(\"chr$chr.uniqueSNPs.vcf.gz\", record_idx, sample_idx, \n",
    "            des = \"target.chr$chr.typedOnly.vcf.gz\")\n",
    "\n",
    "        # generate target panel with all snps\n",
    "        @time VCFTools.filter(\"chr$chr.uniqueSNPs.vcf.gz\", \n",
    "            1:total_snps, sample_idx, des = \"target.chr$chr.full.vcf.gz\")\n",
    "\n",
    "        # also generate reference panel without target samples\n",
    "        @time VCFTools.filter(\"chr$chr.uniqueSNPs.vcf.gz\", \n",
    "            1:total_snps, .!sample_idx, des = \"ref.chr$chr.excludeTarget.vcf.gz\")\n",
    "\n",
    "        # unphase and mask 1% entries in target file\n",
    "        masks = falses(p, n)\n",
    "        missingprop = 0.001\n",
    "        for j in 1:n, i in 1:p\n",
    "            rand() < missingprop && (masks[i, j] = true)\n",
    "        end\n",
    "        @time mask_gt(\"target.chr$chr.typedOnly.vcf.gz\", masks, \n",
    "            des=\"target.chr$chr.typedOnly.masked.vcf.gz\", unphase=true)\n",
    "\n",
    "        # generate subset of reference file that matches target file\n",
    "        @time conformgt_by_pos(\"ref.chr$chr.excludeTarget.vcf.gz\", \n",
    "            \"target.chr$chr.typedOnly.masked.vcf.gz\", \n",
    "            \"chr$chr.aligned\", \"$chr\", 1:typemax(Int))\n",
    "        if nrecords(\"chr$chr.aligned.tgt.vcf.gz\") == p\n",
    "            rm(\"chr$chr.aligned.tgt.vcf.gz\", force=true) # perfect match\n",
    "        else\n",
    "            error(\"target file has SNPs not matching in reference file! Shouldn't happen!\")\n",
    "        end\n",
    "        mv(\"chr$chr.aligned.ref.vcf.gz\", \"ref.chr$chr.aligned.vcf.gz\", force=true)\n",
    "    end \n",
    "end\n",
    "Random.seed!(2020)\n",
    "@time filter_and_mask()"
   ]
  },
  {
   "cell_type": "markdown",
   "metadata": {},
   "source": [
    "### Missing rate\n",
    "\n",
    "In typed markers, 0.1% of data is missing at random. In addition, 56% of all markers are not typed (i.e. systematically missing). "
   ]
  },
  {
   "cell_type": "code",
   "execution_count": 5,
   "metadata": {
    "collapsed": false
   },
   "outputs": [
    {
     "data": {
      "text/plain": [
       "0.44082516280872497"
      ]
     },
     "execution_count": 5,
     "metadata": {},
     "output_type": "execute_result"
    }
   ],
   "source": [
    "tgtfile = \"target.chr20.typedOnly.masked.vcf.gz\"\n",
    "reffile = \"ref.chr20.excludeTarget.vcf.gz\"\n",
    "missing_rate = 1 - nrecords(tgtfile) / nrecords(reffile)"
   ]
  },
  {
   "cell_type": "markdown",
   "metadata": {},
   "source": [
    "# MendelImpute on untyped markers with dp"
   ]
  },
  {
   "cell_type": "code",
   "execution_count": 3,
   "metadata": {
    "collapsed": false
   },
   "outputs": [
    {
     "data": {
      "text/plain": [
       "8"
      ]
     },
     "execution_count": 3,
     "metadata": {},
     "output_type": "execute_result"
    }
   ],
   "source": [
    "Threads.nthreads()"
   ]
  },
  {
   "cell_type": "code",
   "execution_count": 7,
   "metadata": {
    "collapsed": false
   },
   "outputs": [
    {
     "name": "stdout",
     "output_type": "stream",
     "text": [
      "(nrecords(tgtfile), nsamples(tgtfile)) = (379432, 100)\n",
      "(nrecords(reffile), nsamples(reffile)) = (678557, 2404)\n",
      "(nrecords(reffile_aligned), nsamples(reffile_aligned)) = (379432, 2404)\n",
      "(nrecords(X_typedOnly_complete), nsamples(X_typedOnly_complete)) = (379432, 100)\n",
      "(nrecords(X_full_complete), nsamples(X_full_complete)) = (678557, 100)\n"
     ]
    },
    {
     "data": {
      "text/plain": [
       "(678557, 100)"
      ]
     },
     "execution_count": 7,
     "metadata": {},
     "output_type": "execute_result"
    }
   ],
   "source": [
    "tgtfile = \"target.chr20.typedOnly.masked.vcf.gz\"\n",
    "reffile = \"ref.chr20.excludeTarget.vcf.gz\"\n",
    "reffile_aligned = \"ref.chr20.aligned.vcf.gz\"\n",
    "X_typedOnly_complete = \"target.chr20.typedOnly.vcf.gz\"\n",
    "X_full_complete = \"target.chr20.full.vcf.gz\"\n",
    "@show nrecords(tgtfile), nsamples(tgtfile)\n",
    "@show nrecords(reffile), nsamples(reffile)\n",
    "@show nrecords(reffile_aligned), nsamples(reffile_aligned)\n",
    "@show nrecords(X_typedOnly_complete), nsamples(X_typedOnly_complete)\n",
    "@show nrecords(X_full_complete), nsamples(X_full_complete)"
   ]
  },
  {
   "cell_type": "code",
   "execution_count": 4,
   "metadata": {
    "collapsed": false
   },
   "outputs": [
    {
     "name": "stdout",
     "output_type": "stream",
     "text": [
      "Imputing typed + untyped SNPs with dynamic programming, width = 500\n",
      "Running chunk 1 / 1\n"
     ]
    },
    {
     "name": "stderr",
     "output_type": "stream",
     "text": [
      "\u001b[32mImporting genotype file...100%|█████████████████████████| Time: 0:00:08\u001b[39m\n",
      "\u001b[32mImporting reference haplotype files...100%|█████████████| Time: 0:01:52\u001b[39m\n",
      "\u001b[32mComputing optimal haplotype pairs...100%|███████████████| Time: 0:03:54\u001b[39m\n",
      "\u001b[32mDynamic programming + merging breakpoints...100%|███████| Time: 0:02:40\u001b[39m\n",
      "\u001b[32mWriting to file...100%|█████████████████████████████████| Time: 0:06:55\u001b[39m\n"
     ]
    },
    {
     "name": "stdout",
     "output_type": "stream",
     "text": [
      "1202.857316 seconds (10.61 G allocations: 999.686 GiB, 9.96% gc time)\n",
      "error overall = 0.0010434348182982417 \n",
      "\n",
      "Imputing typed + untyped SNPs with dynamic programming, width = 1000\n",
      "Running chunk 1 / 1\n"
     ]
    },
    {
     "name": "stderr",
     "output_type": "stream",
     "text": [
      "\u001b[32mImporting genotype file...100%|█████████████████████████| Time: 0:00:08\u001b[39m\n",
      "\u001b[32mImporting reference haplotype files...100%|█████████████| Time: 0:01:53\u001b[39m\n",
      "\u001b[32mComputing optimal haplotype pairs...100%|███████████████| Time: 0:03:17\u001b[39m\n",
      "\u001b[32mDynamic programming + merging breakpoints...100%|███████| Time: 0:08:12\u001b[39m\n",
      "\u001b[32mWriting to file...100%|█████████████████████████████████| Time: 0:06:26\u001b[39m\n"
     ]
    },
    {
     "name": "stdout",
     "output_type": "stream",
     "text": [
      "1466.920563 seconds (10.54 G allocations: 996.400 GiB, 7.84% gc time)\n",
      "error overall = 0.0011036950469894202 \n",
      "\n"
     ]
    }
   ],
   "source": [
    "# ad-hoc dp method, keep pairs within 3 of best pair, keep all pairs minimizing diff w/ observed error\n",
    "cd(\"/Users/biona001/.julia/dev/MendelImpute/data/1000_genome_phase3_v5/filtered\")\n",
    "Random.seed!(2020)\n",
    "function run()\n",
    "#     X_complete = convert_gt(Float32, \"target.chr20.typedOnly.vcf.gz\")\n",
    "    X_complete = convert_gt(Float32, \"target.chr20.full.vcf.gz\")\n",
    "    n, p = size(X_complete)\n",
    "    chr = 20\n",
    "    for width in [500, 1000]\n",
    "        println(\"Imputing typed + untyped SNPs with dynamic programming, width = $width\")\n",
    "        tgtfile = \"target.chr$chr.typedOnly.masked.vcf.gz\"\n",
    "        reffile = \"ref.chr$chr.excludeTarget.vcf.gz\"\n",
    "        outfile = \"mendel.imputed.dp$width.vcf.gz\"\n",
    "        reffile_aligned = \"ref.chr$chr.aligned.vcf.gz\"\n",
    "        @time phase(tgtfile, reffile, reffile_aligned = reffile_aligned, impute=true, \n",
    "            outfile = outfile, width = width, fast_method=false)\n",
    "        X_mendel = convert_gt(Float32, outfile)\n",
    "        println(\"error overall = $(sum(X_mendel .!= X_complete) / n / p) \\n\")\n",
    "    end\n",
    "end\n",
    "run()"
   ]
  },
  {
   "cell_type": "markdown",
   "metadata": {},
   "source": [
    "# Beagle 5.0"
   ]
  },
  {
   "cell_type": "code",
   "execution_count": 5,
   "metadata": {
    "collapsed": false
   },
   "outputs": [
    {
     "name": "stdout",
     "output_type": "stream",
     "text": [
      "beagle.28Sep18.793.jar (version 5.0)\n",
      "Copyright (C) 2014-2018 Brian L. Browning\n",
      "Enter \"java -jar beagle.28Sep18.793.jar\" to list command line argument\n",
      "Start time: 07:14 PM PDT on 26 Apr 2020\n",
      "\n",
      "Command line: java -Xmx13653m -jar beagle.28Sep18.793.jar\n",
      "  gt=target.chr20.typedOnly.masked.vcf.gz\n",
      "  ref=ref.chr20.excludeTarget.vcf.gz\n",
      "  out=beagle.imputed\n",
      "  nthreads=4\n",
      "\n",
      "No genetic map is specified: using 1 cM = 1 Mb\n",
      "\n",
      "Reference samples:       2,404\n",
      "Study samples:             100\n",
      "\n",
      "Window 1 (20:60479-40060263)\n",
      "Reference markers:     404,617\n",
      "Study markers:         225,844\n",
      "\n",
      "Burnin  iteration 1:           25 seconds\n",
      "Burnin  iteration 2:           1 minute 18 seconds\n",
      "Burnin  iteration 3:           48 seconds\n",
      "Burnin  iteration 4:           46 seconds\n",
      "Burnin  iteration 5:           50 seconds\n",
      "Burnin  iteration 6:           50 seconds\n",
      "\n",
      "Phasing iteration 1:           46 seconds\n",
      "Phasing iteration 2:           45 seconds\n",
      "Phasing iteration 3:           45 seconds\n",
      "Phasing iteration 4:           45 seconds\n",
      "Phasing iteration 5:           45 seconds\n",
      "Phasing iteration 6:           45 seconds\n",
      "Phasing iteration 7:           45 seconds\n",
      "Phasing iteration 8:           46 seconds\n",
      "Phasing iteration 9:           45 seconds\n",
      "Phasing iteration 10:          45 seconds\n",
      "Phasing iteration 11:          43 seconds\n",
      "Phasing iteration 12:          40 seconds\n",
      "\n",
      "Imputation time:               17 seconds\n",
      "\n",
      "Window 2 (20:36060201-62965167)\n",
      "Reference markers:     314,420\n",
      "Study markers:         174,992\n",
      "\n",
      "Burnin  iteration 1:           14 seconds\n",
      "Burnin  iteration 2:           33 seconds\n",
      "Burnin  iteration 3:           36 seconds\n",
      "Burnin  iteration 4:           35 seconds\n",
      "Burnin  iteration 5:           39 seconds\n",
      "Burnin  iteration 6:           39 seconds\n",
      "\n",
      "Phasing iteration 1:           36 seconds\n",
      "Phasing iteration 2:           38 seconds\n",
      "Phasing iteration 3:           36 seconds\n",
      "Phasing iteration 4:           35 seconds\n",
      "Phasing iteration 5:           35 seconds\n",
      "Phasing iteration 6:           35 seconds\n",
      "Phasing iteration 7:           35 seconds\n",
      "Phasing iteration 8:           36 seconds\n",
      "Phasing iteration 9:           35 seconds\n",
      "Phasing iteration 10:          34 seconds\n",
      "Phasing iteration 11:          33 seconds\n",
      "Phasing iteration 12:          31 seconds\n",
      "\n",
      "Imputation time:               10 seconds\n",
      "\n",
      "Cumulative Statistics:\n",
      "\n",
      "Reference markers:     678,557\n",
      "Study markers:         379,432\n",
      "\n",
      "Haplotype phasing time:        24 minutes 10 seconds\n",
      "Imputation time:               10 seconds\n",
      "Total time:                    25 minutes 4 seconds\n",
      "\n",
      "End time: 07:39 PM PDT on 26 Apr 2020\n",
      "beagle.28Sep18.793.jar finished\n",
      "error overall = 0.0008055181804918379 \n",
      "\n"
     ]
    }
   ],
   "source": [
    "# beagle 5\n",
    "cd(\"/Users/biona001/.julia/dev/MendelImpute/data/1000_genome_phase3_v5/filtered\")\n",
    "function beagle()\n",
    "    chr = 20\n",
    "    tgtfile = \"target.chr$chr.typedOnly.masked.vcf.gz\"\n",
    "    reffile = \"ref.chr$chr.excludeTarget.vcf.gz\"\n",
    "    outfile = \"beagle.imputed\"\n",
    "    Base.run(`java -Xmx15g -jar beagle.28Sep18.793.jar gt=$tgtfile ref=$reffile out=$outfile nthreads=4`)\n",
    "        \n",
    "    # beagle error rate    \n",
    "    X_complete = convert_gt(Float32, \"target.chr$chr.full.vcf.gz\")\n",
    "    X_beagle = convert_gt(Float32, \"beagle.imputed.vcf.gz\")\n",
    "    n, p = size(X_complete)\n",
    "    println(\"error overall = $(sum(X_beagle .!= X_complete) / n / p) \\n\")\n",
    "end\n",
    "beagle()"
   ]
  },
  {
   "cell_type": "markdown",
   "metadata": {
    "collapsed": true
   },
   "source": [
    "# Eagle 2 + Minimac4\n",
    "\n",
    "In order to use the reference panel in Eagle 2's prephase option, one must first convert it to `.bcf` format via e.g. `htslib` which is *extremely* difficult to install. Even after we went through all the hard work to obtain the final `.bcf` reference file (see commands below), eagle 2.4 STILL SAYS the file is not acceptable (not bgzipped or some processing error). Therefore, I have no choice but to prephase without the reference panel. "
   ]
  },
  {
   "cell_type": "code",
   "execution_count": null,
   "metadata": {
    "collapsed": true
   },
   "outputs": [],
   "source": [
    "# run eagle 2.4: 3367.79 sec on amd-2382 machine (can only run on linux systems)\n",
    "eagle --vcf=target.chr20.typedOnly.masked.vcf.gz --outPrefix=eagle.phased --numThreads=4 --geneticMapFile=../Eagle_v2.4.1/tables/genetic_map_hg19_withX.txt.gz"
   ]
  },
  {
   "cell_type": "code",
   "execution_count": null,
   "metadata": {
    "collapsed": true
   },
   "outputs": [],
   "source": [
    "# convert ref file to m3vcf format (Total Run completed in 1 hours, 46 mins, 24 seconds)\n",
    "/u/home/b/biona001/haplotype_comparisons/Minimac3/bin/Minimac3 --refHaps ref.chr20.excludeTarget.vcf.gz --processReference --prefix ref.chr20.excludeTarget"
   ]
  },
  {
   "cell_type": "code",
   "execution_count": null,
   "metadata": {
    "collapsed": true
   },
   "outputs": [],
   "source": [
    "# run minimac4 (2619 seconds)\n",
    "minimac4 --refHaps ref.chr20.excludeTarget.m3vcf.gz --haps eagle.phased.vcf.gz --prefix minimac.imputed.chr20 --format GT --cpus 4"
   ]
  },
  {
   "cell_type": "code",
   "execution_count": null,
   "metadata": {
    "collapsed": true
   },
   "outputs": [],
   "source": [
    "# minimac4 error rate    \n",
    "X_complete = convert_gt(Float32, \"target.chr20.full.vcf.gz\")\n",
    "X_minimac = convert_gt(Float32, \"minimac.imputed.chr20.dose.vcf.gz\")\n",
    "n, p = size(X_complete)\n",
    "println(\"error overall = $(sum(X_minimac .!= X_complete) / n / p) \\n\")"
   ]
  },
  {
   "cell_type": "code",
   "execution_count": null,
   "metadata": {
    "collapsed": true
   },
   "outputs": [],
   "source": []
  }
 ],
 "metadata": {
  "@webio": {
   "lastCommId": null,
   "lastKernelId": null
  },
  "kernelspec": {
   "display_name": "Julia 1.3.0-rc4",
   "language": "julia",
   "name": "julia-1.3"
  },
  "language_info": {
   "file_extension": ".jl",
   "mimetype": "application/julia",
   "name": "julia",
   "version": "1.3.1"
  }
 },
 "nbformat": 4,
 "nbformat_minor": 2
}
