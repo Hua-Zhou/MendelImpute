{
 "cells": [
  {
   "cell_type": "markdown",
   "metadata": {},
   "source": [
    "# Test imputation on untyped SNPs chrom 19 with different sample sizes"
   ]
  },
  {
   "cell_type": "code",
   "execution_count": 1,
   "metadata": {
    "collapsed": false
   },
   "outputs": [
    {
     "name": "stderr",
     "output_type": "stream",
     "text": [
      "┌ Warning: no Manifest.toml file found, static paths used\n",
      "└ @ Revise /Users/biona001/.julia/packages/Revise/439di/src/Revise.jl:1108\n"
     ]
    }
   ],
   "source": [
    "using Revise\n",
    "using VCFTools\n",
    "using MendelImpute\n",
    "using GeneticVariation\n",
    "using Random\n",
    "using StatsBase"
   ]
  },
  {
   "cell_type": "markdown",
   "metadata": {},
   "source": [
    "### Memory requirement\n",
    "\n",
    "**Prephasing step:** \n",
    "+ Target data requies $people * snps * 4$ bytes of RAM\n",
    "+ Reference haplotype data requires $haplotypes * snps$ bits of RAM\n",
    "+ Redundant haplotype set for imputation target requires roughly\n",
    "$people * windows * 1000$ (max haplotypes per win) $* 16 bytes$ of RAM"
   ]
  },
  {
   "cell_type": "markdown",
   "metadata": {},
   "source": [
    "## Generate subset of markers for prephasing\n",
    "\n",
    "We simulate $n = 2, 20, ..., 20000$ samples from chromosome 19 of 1000 genotype data. "
   ]
  },
  {
   "cell_type": "code",
   "execution_count": 62,
   "metadata": {
    "collapsed": false
   },
   "outputs": [
    {
     "name": "stdout",
     "output_type": "stream",
     "text": [
      "718.677263 seconds (5.32 G allocations: 501.945 GiB, 9.58% gc time)\n"
     ]
    },
    {
     "name": "stderr",
     "output_type": "stream",
     "text": [
      "\u001b[32mProgress: 100%|█████████████████████████████████████████| Time: 0:09:54\u001b[39m\n",
      "\u001b[32mImporting reference haplotype files...100%|█████████████| Time: 0:04:10\u001b[39m\n"
     ]
    },
    {
     "ename": "InterruptException",
     "evalue": "InterruptException:",
     "output_type": "error",
     "traceback": [
      "InterruptException:",
      "",
      "Stacktrace:",
      " [1] _string_n at ./strings/string.jl:60 [inlined]",
      " [2] StringVector at ./iobuffer.jl:31 [inlined]",
      " [3] dec(::UInt64, ::Int64, ::Bool) at ./intfuncs.jl:578",
      " [4] #string#320(::Int64, ::Int64, ::typeof(string), ::Int64) at ./intfuncs.jl:650",
      " [5] string at ./intfuncs.jl:642 [inlined]",
      " [6] #make_tgtvcf_file#182(::String, ::Bool, ::Array{String,1}, ::Array{Int64,1}, ::Array{String,1}, ::Array{String,1}, ::Array{String,1}, ::typeof(make_tgtvcf_file), ::Array{Union{Missing, UInt8},2}) at /Users/biona001/.julia/dev/MendelImpute/src/simulate_utilities.jl:121",
      " [7] (::MendelImpute.var\"#kw##make_tgtvcf_file\")(::NamedTuple{(:vcffilename, :marker_chrom, :marker_pos, :marker_ID, :marker_REF, :marker_ALT),Tuple{String,Array{String,1},Array{Int64,1},Array{String,1},Array{String,1},Array{String,1}}}, ::typeof(make_tgtvcf_file), ::Array{Union{Missing, UInt8},2}) at none:0",
      " [8] filter_and_mask() at ./In[62]:37",
      " [9] top-level scope at util.jl:155",
      " [10] top-level scope at In[62]:59"
     ]
    }
   ],
   "source": [
    "cd(\"/Users/biona001/.julia/dev/MendelImpute/data/1000_genome_phase3_v5/filtered\")\n",
    "function filter_and_mask()\n",
    "    # filter chromosome data for unique snps\n",
    "    data = \"../beagle_raw/chr$chr.1kg.phase3.v5a.vcf.gz\"\n",
    "    full_record_index = .!find_duplicate_marker(data)\n",
    "    @time VCFTools.filter(data, full_record_index, 1:nsamples(data), \n",
    "        des = \"chr$chr.uniqueSNPs.vcf.gz\")\n",
    "\n",
    "    # summarize data\n",
    "    total_snps, samples, _, _, _, maf_by_record, _ = gtstats(\"chr$chr.uniqueSNPs.vcf.gz\")\n",
    "    large_maf = findall(x -> x > 0.1, maf_by_record)\n",
    "    \n",
    "    # keep snps with maf>0.1 as typed SNPs\n",
    "    p = length(large_maf)\n",
    "    record_idx = falses(total_snps)\n",
    "    record_idx[large_maf] .= true\n",
    "    \n",
    "    # import haplotype reference panel\n",
    "    H, H_sampleID, H_chr, H_pos, H_ids, H_ref, H_alt = convert_ht(Bool, \"chr$chr.uniqueSNPs.vcf.gz\", \n",
    "        trans=true, save_snp_info=true, msg = \"Importing reference haplotype files...\")\n",
    "\n",
    "    for n in [2, 20, 200, 2000, 20000]\n",
    "        \n",
    "        # simulate full target genotype\n",
    "        X = simulate_genotypes(H, n, T=UInt8, width=2000)\n",
    "        make_tgtvcf_file(X, vcffilename=\"target.chr$chr.n$n.full.vcf.gz\", marker_chrom=H_chr, \n",
    "            marker_pos=H_pos, marker_ID=[H_ids[i][1] for i in 1:length(H_ids)], \n",
    "            marker_REF=H_ref, marker_ALT=[H_alt[i][1] for i in 1:length(H_alt)]) \n",
    "        \n",
    "        # write typed only X to file\n",
    "        X_aligned = X[record_idx, :]\n",
    "        X_aligned_chr = H_chr[record_idx]\n",
    "        X_aligned_pos = H_pos[record_idx]\n",
    "        X_aligned_ids = H_ids[record_idx]\n",
    "        X_aligned_ref = H_ref[record_idx]\n",
    "        X_aligned_alt = H_alt[record_idx]\n",
    "        make_tgtvcf_file(X_aligned, vcffilename=\"target.chr$chr.n$n.typedOnly.vcf.gz\", \n",
    "            marker_chrom=X_aligned_chr, marker_pos=X_aligned_pos, \n",
    "            marker_ID=[X_aligned_ids[i][1] for i in 1:length(X_aligned_ids)], \n",
    "            marker_REF=X_aligned_ref, \n",
    "            marker_ALT=[X_aligned_alt[i][1] for i in 1:length(X_aligned_alt)]) \n",
    "        \n",
    "        # mask entries in X typed only and write to file\n",
    "        p = size(X_aligned, 1)\n",
    "        masks = falses(p, n)\n",
    "        missingprop = 0.01\n",
    "        for j in 1:n, i in 1:p\n",
    "            rand() < missingprop && (masks[i, j] = true)\n",
    "        end\n",
    "        X_aligned[masks] .= missing\n",
    "        make_tgtvcf_file(X_aligned, vcffilename=\"target.chr$chr.n$n.typedOnly.masked.vcf.gz\", \n",
    "            marker_chrom=X_aligned_chr, marker_pos=X_aligned_pos, \n",
    "            marker_ID=[X_aligned_ids[i][1] for i in 1:length(X_aligned_ids)], \n",
    "            marker_REF=X_aligned_ref, \n",
    "            marker_ALT=[X_aligned_alt[i][1] for i in 1:length(X_aligned_alt)]) \n",
    "    end\n",
    "end\n",
    "Random.seed!(2020)\n",
    "@time filter_and_mask()"
   ]
  },
  {
   "cell_type": "markdown",
   "metadata": {},
   "source": [
    "### Missing rate\n",
    "\n",
    "In typed markers, 1% of data is missing at random. In addition, 79% of all markers are not typed (i.e. systematically missing). "
   ]
  },
  {
   "cell_type": "code",
   "execution_count": 7,
   "metadata": {
    "collapsed": false
   },
   "outputs": [
    {
     "data": {
      "text/plain": [
       "0.7900461446394791"
      ]
     },
     "execution_count": 7,
     "metadata": {},
     "output_type": "execute_result"
    }
   ],
   "source": [
    "tgtfile = \"target.chr19.n20.typedOnly.masked.vcf.gz\"\n",
    "reffile = \"chr19.uniqueSNPs.vcf.gz\"\n",
    "missing_rate = 1 - nrecords(tgtfile) / nrecords(reffile)"
   ]
  },
  {
   "cell_type": "code",
   "execution_count": 3,
   "metadata": {
    "collapsed": false
   },
   "outputs": [
    {
     "data": {
      "text/plain": [
       "8"
      ]
     },
     "execution_count": 3,
     "metadata": {},
     "output_type": "execute_result"
    }
   ],
   "source": [
    "Threads.nthreads()"
   ]
  },
  {
   "cell_type": "markdown",
   "metadata": {},
   "source": [
    "# MendelImpute on untyped markers with dp"
   ]
  },
  {
   "cell_type": "code",
   "execution_count": 2,
   "metadata": {
    "collapsed": false
   },
   "outputs": [
    {
     "name": "stdout",
     "output_type": "stream",
     "text": [
      "Imputing n = 200, dynamic programming method, width = 250\n"
     ]
    },
    {
     "name": "stderr",
     "output_type": "stream",
     "text": [
      "\u001b[32mImporting genotype file...100%|█████████████████████████| Time: 0:00:08\u001b[39m\n",
      "\u001b[32mImporting reference haplotype files...100%|█████████████| Time: 0:03:56\u001b[39m\n",
      "\u001b[32mComputing optimal haplotype pairs...100%|███████████████| Time: 0:11:09\u001b[39m\n",
      "\u001b[32mWriting to file...100%|█████████████████████████████████| Time: 0:00:18\u001b[39m\n"
     ]
    },
    {
     "name": "stdout",
     "output_type": "stream",
     "text": [
      "965.391180 seconds (3.77 G allocations: 364.873 GiB, 9.21% gc time)\n",
      "error = 0.00010005332017346074 \n",
      "\n",
      "Imputing n = 200, dynamic programming method, width = 500\n"
     ]
    },
    {
     "name": "stderr",
     "output_type": "stream",
     "text": [
      "\u001b[32mImporting genotype file...100%|█████████████████████████| Time: 0:00:09\u001b[39m\n",
      "\u001b[32mImporting reference haplotype files...100%|█████████████| Time: 0:05:50\u001b[39m\n",
      "\u001b[32mComputing optimal haplotype pairs...100%|███████████████| Time: 0:04:25\u001b[39m\n",
      "\u001b[32mWriting to file...100%|█████████████████████████████████| Time: 0:00:18\u001b[39m\n"
     ]
    },
    {
     "name": "stdout",
     "output_type": "stream",
     "text": [
      "671.745223 seconds (3.69 G allocations: 352.282 GiB, 17.61% gc time)\n",
      "error = 2.0448853758079565e-5 \n",
      "\n",
      "Imputing n = 200, dynamic programming method, width = 1000\n"
     ]
    },
    {
     "name": "stderr",
     "output_type": "stream",
     "text": [
      "\u001b[32mImporting genotype file...100%|█████████████████████████| Time: 0:00:06\u001b[39m\n",
      "\u001b[32mImporting reference haplotype files...100%|█████████████| Time: 0:03:55\u001b[39m\n",
      "\u001b[32mComputing optimal haplotype pairs...100%|███████████████| Time: 0:02:25\u001b[39m\n",
      "\u001b[32mWriting to file...100%|█████████████████████████████████| Time: 0:00:18\u001b[39m\n"
     ]
    },
    {
     "name": "stdout",
     "output_type": "stream",
     "text": [
      "437.393690 seconds (3.69 G allocations: 338.966 GiB, 11.73% gc time)\n",
      "error = 3.143195863715905e-5 \n",
      "\n",
      "Imputing n = 200, dynamic programming method, width = 2000\n"
     ]
    },
    {
     "name": "stderr",
     "output_type": "stream",
     "text": [
      "\u001b[32mImporting genotype file...100%|█████████████████████████| Time: 0:00:06\u001b[39m\n",
      "\u001b[32mImporting reference haplotype files...100%|█████████████| Time: 0:03:53\u001b[39m\n",
      "\u001b[32mComputing optimal haplotype pairs...100%|███████████████| Time: 0:01:16\u001b[39m\n",
      "\u001b[32mWriting to file...100%|█████████████████████████████████| Time: 0:00:18\u001b[39m\n"
     ]
    },
    {
     "name": "stdout",
     "output_type": "stream",
     "text": [
      "365.795041 seconds (3.69 G allocations: 329.049 GiB, 13.81% gc time)\n",
      "error = 4.389696727332544e-5 \n",
      "\n"
     ]
    }
   ],
   "source": [
    "cd(\"/Users/biona001/.julia/dev/MendelImpute/data/1000_genome_phase3_v5/filtered\")\n",
    "Random.seed!(2020)\n",
    "function run()\n",
    "    n = 200 # tested 250, 500, 1000, 2000\n",
    "    for width in [250, 500, 1000, 2000]\n",
    "        println(\"Imputing n = $n, dynamic programming method, width = $width\")\n",
    "        tgtfile = \"target.chr19.n$n.typedOnly.masked.vcf.gz\"\n",
    "        reffile = \"chr19.uniqueSNPs.vcf.gz\"\n",
    "        outfile = \"mendel.imputed.chr19.n$n.dp$width.vcf.gz\"\n",
    "        @time phase(tgtfile, reffile, outfile=outfile, impute=true, width=width, fast_method=false)\n",
    "        X_complete = convert_gt(UInt8, \"target.chr19.n$n.full.vcf.gz\")\n",
    "        X_mendel = convert_gt(UInt8, outfile)\n",
    "        println(\"error = $(sum(X_mendel .!= X_complete) / size(X_mendel, 1) / size(X_mendel, 2)) \\n\")\n",
    "    end\n",
    "end\n",
    "run()"
   ]
  },
  {
   "cell_type": "markdown",
   "metadata": {
    "collapsed": true
   },
   "source": [
    "### Fastest"
   ]
  },
  {
   "cell_type": "code",
   "execution_count": 2,
   "metadata": {
    "collapsed": false
   },
   "outputs": [
    {
     "name": "stdout",
     "output_type": "stream",
     "text": [
      "Imputing n = 2, dynamic programming method, width = 2000\n"
     ]
    },
    {
     "name": "stderr",
     "output_type": "stream",
     "text": [
      "\u001b[32mImporting reference haplotype files...100%|█████████████| Time: 0:04:01\u001b[39m\n",
      "\u001b[32mComputing optimal haplotype pairs...100%|███████████████| Time: 0:00:19\u001b[39m\n"
     ]
    },
    {
     "name": "stdout",
     "output_type": "stream",
     "text": [
      "292.592744 seconds (3.60 G allocations: 319.014 GiB, 18.10% gc time)\n",
      "error = 1.2762807477303474e-5 \n",
      "\n",
      "Imputing n = 20, dynamic programming method, width = 2000\n"
     ]
    },
    {
     "name": "stderr",
     "output_type": "stream",
     "text": [
      "\u001b[32mImporting reference haplotype files...100%|█████████████| Time: 0:03:59\u001b[39m\n",
      "\u001b[32mComputing optimal haplotype pairs...100%|███████████████| Time: 0:00:23\u001b[39m\n"
     ]
    },
    {
     "name": "stdout",
     "output_type": "stream",
     "text": [
      "294.015803 seconds (3.58 G allocations: 318.872 GiB, 17.86% gc time)\n",
      "error = 5.353288691868957e-5 \n",
      "\n",
      "Imputing n = 200, dynamic programming method, width = 2000\n"
     ]
    },
    {
     "name": "stderr",
     "output_type": "stream",
     "text": [
      "\u001b[32mImporting genotype file...100%|█████████████████████████| Time: 0:00:06\u001b[39m\n",
      "\u001b[32mImporting reference haplotype files...100%|█████████████| Time: 0:03:58\u001b[39m\n",
      "\u001b[32mComputing optimal haplotype pairs...100%|███████████████| Time: 0:01:23\u001b[39m\n",
      "\u001b[32mWriting to file...100%|█████████████████████████████████| Time: 0:00:18\u001b[39m\n"
     ]
    },
    {
     "name": "stdout",
     "output_type": "stream",
     "text": [
      "380.193738 seconds (3.69 G allocations: 329.049 GiB, 14.12% gc time)\n",
      "error = 4.389696727332544e-5 \n",
      "\n",
      "Imputing n = 2000, dynamic programming method, width = 2000\n"
     ]
    },
    {
     "name": "stderr",
     "output_type": "stream",
     "text": [
      "\u001b[32mImporting genotype file...100%|█████████████████████████| Time: 0:01:01\u001b[39m\n",
      "\u001b[32mImporting reference haplotype files...100%|█████████████| Time: 0:03:53\u001b[39m\n",
      "\u001b[32mComputing optimal haplotype pairs...100%|███████████████| Time: 0:12:18\u001b[39m\n",
      "\u001b[32mMerging breakpoints...100%|█████████████████████████████| Time: 0:00:26\u001b[39m\n",
      "\u001b[32mWriting to file...100%|█████████████████████████████████| Time: 0:03:12\u001b[39m\n"
     ]
    },
    {
     "name": "stdout",
     "output_type": "stream",
     "text": [
      "1332.674077 seconds (4.76 G allocations: 429.557 GiB, 4.72% gc time)\n",
      "error = 4.4281978632224105e-5 \n",
      "\n",
      "Imputing n = 20000, dynamic programming method, width = 2000\n"
     ]
    },
    {
     "name": "stderr",
     "output_type": "stream",
     "text": [
      "\u001b[32mImporting genotype file... 89%|██████████████████████▍  |  ETA: 0:01:44\u001b[39m"
     ]
    },
    {
     "ename": "InterruptException",
     "evalue": "InterruptException:",
     "output_type": "error",
     "traceback": [
      "InterruptException:",
      "",
      "Stacktrace:",
      " [1] #next!#12 at /Users/biona001/.julia/packages/ProgressMeter/g1lse/src/ProgressMeter.jl:313 [inlined]",
      " [2] next! at /Users/biona001/.julia/packages/ProgressMeter/g1lse/src/ProgressMeter.jl:313 [inlined]",
      " [3] #copy_gt_trans!#8(::Symbol, ::Bool, ::Bool, ::Bool, ::String, ::Array{String,1}, ::Array{String,1}, ::Array{Int64,1}, ::Array{Array{String,1},1}, ::Array{String,1}, ::Array{Array{String,1},1}, ::typeof(copy_gt_trans!), ::Array{Union{Missing, UInt8},2}, ::GeneticVariation.VCF.Reader) at /Users/biona001/.julia/dev/VCFTools/src/convert.jl:186",
      " [4] (::VCFTools.var\"#kw##copy_gt_trans!\")(::NamedTuple{(:model, :impute, :center, :scale, :msg, :sampleID, :record_chr, :record_pos, :record_ids, :record_ref, :record_alt),Tuple{Symbol,Bool,Bool,Bool,String,Array{String,1},Array{String,1},Array{Int64,1},Array{Array{String,1},1},Array{String,1},Array{Array{String,1},1}}}, ::typeof(copy_gt_trans!), ::Array{Union{Missing, UInt8},2}, ::GeneticVariation.VCF.Reader) at ./none:0",
      " [5] #convert_gt#9(::Symbol, ::Bool, ::Bool, ::Bool, ::Bool, ::String, ::Bool, ::typeof(convert_gt), ::Type{UInt8}, ::String) at /Users/biona001/.julia/dev/VCFTools/src/convert.jl:242",
      " [6] #convert_gt at ./none:0 [inlined]",
      " [7] #phase#9(::String, ::Bool, ::Int64, ::Int64, ::Bool, ::Bool, ::typeof(phase), ::String, ::String) at /Users/biona001/.julia/dev/MendelImpute/src/phasing.jl:41",
      " [8] #phase at ./none:0 [inlined]",
      " [9] macro expansion at ./util.jl:155 [inlined]",
      " [10] run() at ./In[2]:11",
      " [11] top-level scope at In[2]:17"
     ]
    }
   ],
   "source": [
    "# ad-hoc dp method, keep pairs within 3 of best pair, keep all pairs minimizing diff w/ observed error\n",
    "cd(\"/Users/biona001/.julia/dev/MendelImpute/data/1000_genome_phase3_v5/filtered\")\n",
    "Random.seed!(2020)\n",
    "function run()\n",
    "    width = 2000 # tested 100, 250, 500 (most accurate), 1000, 2000 (fastest)\n",
    "    for n in [2, 20, 200, 2000, 20000]\n",
    "        println(\"Imputing n = $n, dynamic programming method, width = $width\")\n",
    "        tgtfile = \"target.chr19.n$n.typedOnly.masked.vcf.gz\"\n",
    "        reffile = \"chr19.uniqueSNPs.vcf.gz\"\n",
    "        outfile = \"mendel.imputed.chr19.n$n.dp$width.vcf.gz\"\n",
    "        @time phase(tgtfile, reffile, outfile=outfile, impute=true, width=width, fast_method=false)\n",
    "        X_complete = convert_gt(UInt8, \"target.chr19.n$n.full.vcf.gz\")\n",
    "        X_mendel = convert_gt(UInt8, outfile)\n",
    "        println(\"error = $(sum(X_mendel .!= X_complete) / size(X_mendel, 1) / size(X_mendel, 2)) \\n\")\n",
    "    end\n",
    "end\n",
    "run()"
   ]
  },
  {
   "cell_type": "markdown",
   "metadata": {},
   "source": [
    "### Most accurate"
   ]
  },
  {
   "cell_type": "code",
   "execution_count": 4,
   "metadata": {
    "collapsed": false
   },
   "outputs": [
    {
     "name": "stdout",
     "output_type": "stream",
     "text": [
      "Imputing n = 2, dynamic programming method, width = 500\n"
     ]
    },
    {
     "name": "stderr",
     "output_type": "stream",
     "text": [
      "\u001b[32mImporting reference haplotype files...100%|█████████████| Time: 0:03:55\u001b[39m\n",
      "\u001b[32mComputing optimal haplotype pairs...100%|███████████████| Time: 0:00:36\u001b[39m\n"
     ]
    },
    {
     "name": "stdout",
     "output_type": "stream",
     "text": [
      "303.689603 seconds (3.60 G allocations: 342.132 GiB, 17.65% gc time)\n",
      "error = 3.545224299250965e-6 \n",
      "\n",
      "Imputing n = 20, dynamic programming method, width = 500\n"
     ]
    },
    {
     "name": "stderr",
     "output_type": "stream",
     "text": [
      "\u001b[32mImporting reference haplotype files...100%|█████████████| Time: 0:03:58\u001b[39m\n",
      "\u001b[32mComputing optimal haplotype pairs...100%|███████████████| Time: 0:00:53\u001b[39m\n"
     ]
    },
    {
     "name": "stdout",
     "output_type": "stream",
     "text": [
      "323.542015 seconds (3.58 G allocations: 342.004 GiB, 17.10% gc time)\n",
      "error = 2.063320542164062e-5 \n",
      "\n",
      "Imputing n = 200, dynamic programming method, width = 500\n"
     ]
    },
    {
     "name": "stderr",
     "output_type": "stream",
     "text": [
      "\u001b[32mImporting genotype file...100%|█████████████████████████| Time: 0:00:06\u001b[39m\n",
      "\u001b[32mImporting reference haplotype files...100%|█████████████| Time: 0:03:53\u001b[39m\n",
      "\u001b[32mComputing optimal haplotype pairs...100%|███████████████| Time: 0:04:28\u001b[39m\n",
      "\u001b[32mWriting to file...100%|█████████████████████████████████| Time: 0:00:18\u001b[39m\n"
     ]
    },
    {
     "name": "stdout",
     "output_type": "stream",
     "text": [
      "556.035765 seconds (3.69 G allocations: 352.352 GiB, 9.86% gc time)\n",
      "error = 2.0392130169291552e-5 \n",
      "\n",
      "Imputing n = 2000, dynamic programming method, width = 500\n"
     ]
    },
    {
     "name": "stderr",
     "output_type": "stream",
     "text": [
      "\u001b[32mImporting genotype file...100%|█████████████████████████| Time: 0:01:01\u001b[39m\n",
      "\u001b[32mImporting reference haplotype files...100%|█████████████| Time: 0:03:48\u001b[39m\n",
      "\u001b[32mComputing optimal haplotype pairs...100%|███████████████| Time: 0:52:44\u001b[39m\n",
      "\u001b[32mMerging breakpoints...100%|█████████████████████████████| Time: 0:00:05\u001b[39m\n",
      "\u001b[32mWriting to file...100%|█████████████████████████████████| Time: 0:03:11\u001b[39m\n"
     ]
    },
    {
     "name": "stdout",
     "output_type": "stream",
     "text": [
      "3738.561148 seconds (4.81 G allocations: 454.548 GiB, 2.05% gc time)\n",
      "error = 2.1545746156267816e-5 \n",
      "\n",
      "Imputing n = 20000, dynamic programming method, width = 500\n"
     ]
    },
    {
     "name": "stderr",
     "output_type": "stream",
     "text": [
      "\u001b[32mImporting genotype file...  4%|█▏                       |  ETA: 0:13:05\u001b[39m"
     ]
    },
    {
     "ename": "InterruptException",
     "evalue": "InterruptException:",
     "output_type": "error",
     "traceback": [
      "InterruptException:",
      "",
      "Stacktrace:",
      " [1] Array at ./boot.jl:404 [inlined]",
      " [2] Array at ./boot.jl:423 [inlined]",
      " [3] getindex at ./array.jl:367 [inlined]",
      " [4] macro expansion at /Users/biona001/.julia/packages/Automa/fyalL/src/codegen.jl:247 [inlined]",
      " [5] _read!(::GeneticVariation.VCF.Reader, ::BioCore.Ragel.State{BufferedStreams.BufferedInputStream{TranscodingStreams.TranscodingStream{CodecZlib.GzipDecompressor,IOStream}}}, ::GeneticVariation.VCF.Record) at /Users/biona001/.julia/packages/BioCore/YBJvb/src/ReaderHelper.jl:156",
      " [6] read!(::GeneticVariation.VCF.Reader, ::GeneticVariation.VCF.Record) at /Users/biona001/.julia/packages/BioCore/YBJvb/src/ReaderHelper.jl:134",
      " [7] read at /Users/biona001/.julia/packages/BioCore/YBJvb/src/IO.jl:61 [inlined]",
      " [8] #copy_gt_trans!#8(::Symbol, ::Bool, ::Bool, ::Bool, ::String, ::Array{String,1}, ::Array{String,1}, ::Array{Int64,1}, ::Array{Array{String,1},1}, ::Array{String,1}, ::Array{Array{String,1},1}, ::typeof(copy_gt_trans!), ::Array{Union{Missing, UInt8},2}, ::GeneticVariation.VCF.Reader) at /Users/biona001/.julia/dev/VCFTools/src/convert.jl:148",
      " [9] (::VCFTools.var\"#kw##copy_gt_trans!\")(::NamedTuple{(:model, :impute, :center, :scale, :msg, :sampleID, :record_chr, :record_pos, :record_ids, :record_ref, :record_alt),Tuple{Symbol,Bool,Bool,Bool,String,Array{String,1},Array{String,1},Array{Int64,1},Array{Array{String,1},1},Array{String,1},Array{Array{String,1},1}}}, ::typeof(copy_gt_trans!), ::Array{Union{Missing, UInt8},2}, ::GeneticVariation.VCF.Reader) at ./none:0",
      " [10] #convert_gt#9(::Symbol, ::Bool, ::Bool, ::Bool, ::Bool, ::String, ::Bool, ::typeof(convert_gt), ::Type{UInt8}, ::String) at /Users/biona001/.julia/dev/VCFTools/src/convert.jl:242",
      " [11] #convert_gt at ./none:0 [inlined]",
      " [12] #phase#9(::String, ::Bool, ::Int64, ::Int64, ::Bool, ::Bool, ::typeof(phase), ::String, ::String) at /Users/biona001/.julia/dev/MendelImpute/src/phasing.jl:41",
      " [13] #phase at ./none:0 [inlined]",
      " [14] macro expansion at ./util.jl:155 [inlined]",
      " [15] run() at ./In[4]:11",
      " [16] top-level scope at In[4]:17"
     ]
    }
   ],
   "source": [
    "# ad-hoc dp method, keep pairs within 3 of best pair, keep all pairs minimizing diff w/ observed error\n",
    "cd(\"/Users/biona001/.julia/dev/MendelImpute/data/1000_genome_phase3_v5/filtered\")\n",
    "Random.seed!(2020)\n",
    "function run()\n",
    "    width = 500 # tested 100, 250, 1000, 2000\n",
    "    for n in [2, 20, 200, 2000, 20000]\n",
    "        println(\"Imputing n = $n, dynamic programming method, width = $width\")\n",
    "        tgtfile = \"target.chr19.n$n.typedOnly.masked.vcf.gz\"\n",
    "        reffile = \"chr19.uniqueSNPs.vcf.gz\"\n",
    "        outfile = \"mendel.imputed.chr19.n$n.dp$width.vcf.gz\"\n",
    "        @time phase(tgtfile, reffile, outfile=outfile, impute=true, width=width, fast_method=false)\n",
    "        X_complete = convert_gt(UInt8, \"target.chr19.n$n.full.vcf.gz\")\n",
    "        X_mendel = convert_gt(UInt8, outfile)\n",
    "        println(\"error = $(sum(X_mendel .!= X_complete) / size(X_mendel, 1) / size(X_mendel, 2)) \\n\")\n",
    "    end\n",
    "end\n",
    "run()"
   ]
  },
  {
   "cell_type": "markdown",
   "metadata": {},
   "source": [
    "# Beagle 5.0"
   ]
  },
  {
   "cell_type": "code",
   "execution_count": 5,
   "metadata": {
    "collapsed": false,
    "scrolled": true
   },
   "outputs": [
    {
     "name": "stdout",
     "output_type": "stream",
     "text": [
      "Running beagle with n = 2 samples\n",
      "beagle.28Sep18.793.jar (version 5.0)\n",
      "Copyright (C) 2014-2018 Brian L. Browning\n",
      "Enter \"java -jar beagle.28Sep18.793.jar\" to list command line argument\n",
      "Start time: 09:53 PM PDT on 03 May 2020\n",
      "\n",
      "Command line: java -Xmx13653m -jar beagle.28Sep18.793.jar\n",
      "  gt=target.chr19.n2.typedOnly.masked.vcf.gz\n",
      "  ref=chr19.uniqueSNPs.vcf.gz\n",
      "  out=beagle.imputed.chr19.n2\n",
      "  nthreads=8\n",
      "\n",
      "No genetic map is specified: using 1 cM = 1 Mb\n",
      "\n",
      "Reference samples:       2,504\n",
      "Study samples:               2\n",
      "\n",
      "Window 1 (19:62935-40062750)\n",
      "Reference markers:     456,604\n",
      "Study markers:          93,065\n",
      "\n",
      "Burnin  iteration 1:           1 second\n",
      "Burnin  iteration 2:           2 seconds\n",
      "Burnin  iteration 3:           2 seconds\n",
      "Burnin  iteration 4:           1 second\n",
      "Burnin  iteration 5:           2 seconds\n",
      "Burnin  iteration 6:           1 second\n",
      "\n",
      "Phasing iteration 1:           1 second\n",
      "Phasing iteration 2:           1 second\n",
      "Phasing iteration 3:           1 second\n",
      "Phasing iteration 4:           1 second\n",
      "Phasing iteration 5:           1 second\n",
      "Phasing iteration 6:           1 second\n",
      "Phasing iteration 7:           1 second\n",
      "Phasing iteration 8:           1 second\n",
      "Phasing iteration 9:           1 second\n",
      "Phasing iteration 10:          1 second\n",
      "Phasing iteration 11:          1 second\n",
      "Phasing iteration 12:          1 second\n",
      "\n",
      "Imputation time:               1 second\n",
      "\n",
      "Window 2 (19:36062612-59118924)\n",
      "Reference markers:     290,195\n",
      "Study markers:          60,343\n",
      "\n",
      "Burnin  iteration 1:           1 second\n",
      "Burnin  iteration 2:           1 second\n",
      "Burnin  iteration 3:           1 second\n",
      "Burnin  iteration 4:           1 second\n",
      "Burnin  iteration 5:           1 second\n",
      "Burnin  iteration 6:           1 second\n",
      "\n",
      "Phasing iteration 1:           1 second\n",
      "Phasing iteration 2:           1 second\n",
      "Phasing iteration 3:           1 second\n",
      "Phasing iteration 4:           1 second\n",
      "Phasing iteration 5:           1 second\n",
      "Phasing iteration 6:           1 second\n",
      "Phasing iteration 7:           1 second\n",
      "Phasing iteration 8:           0 seconds\n",
      "Phasing iteration 9:           1 second\n",
      "Phasing iteration 10:          0 seconds\n",
      "Phasing iteration 11:          1 second\n",
      "Phasing iteration 12:          1 second\n",
      "\n",
      "Imputation time:               1 second\n",
      "\n",
      "Cumulative Statistics:\n",
      "\n",
      "Reference markers:     705,174\n",
      "Study markers:         145,137\n",
      "\n",
      "Haplotype phasing time:        33 seconds\n",
      "Imputation time:               1 second\n",
      "Total time:                    47 seconds\n",
      "\n",
      "End time: 09:54 PM PDT on 03 May 2020\n",
      "beagle.28Sep18.793.jar finished\n",
      "error overall = 4.254269159101158e-6 \n",
      "\n",
      "Running beagle with n = 20 samples\n",
      "beagle.28Sep18.793.jar (version 5.0)\n",
      "Copyright (C) 2014-2018 Brian L. Browning\n",
      "Enter \"java -jar beagle.28Sep18.793.jar\" to list command line argument\n",
      "Start time: 09:54 PM PDT on 03 May 2020\n",
      "\n",
      "Command line: java -Xmx13653m -jar beagle.28Sep18.793.jar\n",
      "  gt=target.chr19.n20.typedOnly.masked.vcf.gz\n",
      "  ref=chr19.uniqueSNPs.vcf.gz\n",
      "  out=beagle.imputed.chr19.n20\n",
      "  nthreads=8\n",
      "\n",
      "No genetic map is specified: using 1 cM = 1 Mb\n",
      "\n",
      "Reference samples:       2,504\n",
      "Study samples:              20\n",
      "\n",
      "Window 1 (19:62935-40062750)\n",
      "Reference markers:     456,604\n",
      "Study markers:          93,065\n",
      "\n",
      "Burnin  iteration 1:           3 seconds\n",
      "Burnin  iteration 2:           6 seconds\n",
      "Burnin  iteration 3:           6 seconds\n",
      "Burnin  iteration 4:           5 seconds\n",
      "Burnin  iteration 5:           4 seconds\n",
      "Burnin  iteration 6:           4 seconds\n",
      "\n",
      "Phasing iteration 1:           3 seconds\n",
      "Phasing iteration 2:           3 seconds\n",
      "Phasing iteration 3:           3 seconds\n",
      "Phasing iteration 4:           3 seconds\n",
      "Phasing iteration 5:           3 seconds\n",
      "Phasing iteration 6:           3 seconds\n",
      "Phasing iteration 7:           4 seconds\n",
      "Phasing iteration 8:           3 seconds\n",
      "Phasing iteration 9:           4 seconds\n",
      "Phasing iteration 10:          3 seconds\n",
      "Phasing iteration 11:          4 seconds\n",
      "Phasing iteration 12:          3 seconds\n",
      "\n",
      "Imputation time:               4 seconds\n",
      "\n",
      "Window 2 (19:36062612-59118924)\n",
      "Reference markers:     290,195\n",
      "Study markers:          60,343\n",
      "\n",
      "Burnin  iteration 1:           2 seconds\n",
      "Burnin  iteration 2:           2 seconds\n",
      "Burnin  iteration 3:           2 seconds\n",
      "Burnin  iteration 4:           2 seconds\n",
      "Burnin  iteration 5:           2 seconds\n",
      "Burnin  iteration 6:           2 seconds\n",
      "\n",
      "Phasing iteration 1:           2 seconds\n",
      "Phasing iteration 2:           2 seconds\n",
      "Phasing iteration 3:           2 seconds\n",
      "Phasing iteration 4:           2 seconds\n",
      "Phasing iteration 5:           2 seconds\n",
      "Phasing iteration 6:           2 seconds\n",
      "Phasing iteration 7:           2 seconds\n",
      "Phasing iteration 8:           2 seconds\n",
      "Phasing iteration 9:           2 seconds\n",
      "Phasing iteration 10:          2 seconds\n",
      "Phasing iteration 11:          2 seconds\n",
      "Phasing iteration 12:          2 seconds\n",
      "\n",
      "Imputation time:               1 second\n",
      "\n",
      "Cumulative Statistics:\n",
      "\n",
      "Reference markers:     705,174\n",
      "Study markers:         145,137\n",
      "\n",
      "Haplotype phasing time:        1 minute 41 seconds\n",
      "Imputation time:               1 second\n",
      "Total time:                    2 minutes 0 seconds\n",
      "\n",
      "End time: 09:56 PM PDT on 03 May 2020\n",
      "beagle.28Sep18.793.jar finished\n",
      "error overall = 6.0977857947116595e-6 \n",
      "\n",
      "Running beagle with n = 200 samples\n",
      "beagle.28Sep18.793.jar (version 5.0)\n",
      "Copyright (C) 2014-2018 Brian L. Browning\n",
      "Enter \"java -jar beagle.28Sep18.793.jar\" to list command line argument\n",
      "Start time: 09:56 PM PDT on 03 May 2020\n",
      "\n",
      "Command line: java -Xmx13653m -jar beagle.28Sep18.793.jar\n",
      "  gt=target.chr19.n200.typedOnly.masked.vcf.gz\n",
      "  ref=chr19.uniqueSNPs.vcf.gz\n",
      "  out=beagle.imputed.chr19.n200\n",
      "  nthreads=8\n",
      "\n",
      "No genetic map is specified: using 1 cM = 1 Mb\n",
      "\n",
      "Reference samples:       2,504\n",
      "Study samples:             200\n",
      "\n",
      "Window 1 (19:62935-40062750)\n",
      "Reference markers:     456,604\n",
      "Study markers:          93,065\n",
      "\n",
      "Burnin  iteration 1:           11 seconds\n",
      "Burnin  iteration 2:           24 seconds\n",
      "Burnin  iteration 3:           26 seconds\n",
      "Burnin  iteration 4:           27 seconds\n",
      "Burnin  iteration 5:           26 seconds\n",
      "Burnin  iteration 6:           27 seconds\n",
      "\n",
      "Phasing iteration 1:           25 seconds\n",
      "Phasing iteration 2:           25 seconds\n",
      "Phasing iteration 3:           22 seconds\n",
      "Phasing iteration 4:           21 seconds\n",
      "Phasing iteration 5:           22 seconds\n",
      "Phasing iteration 6:           21 seconds\n",
      "Phasing iteration 7:           22 seconds\n",
      "Phasing iteration 8:           21 seconds\n",
      "Phasing iteration 9:           20 seconds\n",
      "Phasing iteration 10:          21 seconds\n",
      "Phasing iteration 11:          21 seconds\n",
      "Phasing iteration 12:          21 seconds\n",
      "\n",
      "Imputation time:               21 seconds\n",
      "\n",
      "Window 2 (19:36062612-59118924)\n",
      "Reference markers:     290,195\n",
      "Study markers:          60,343\n",
      "\n",
      "Burnin  iteration 1:           7 seconds\n",
      "Burnin  iteration 2:           16 seconds\n",
      "Burnin  iteration 3:           16 seconds\n",
      "Burnin  iteration 4:           16 seconds\n",
      "Burnin  iteration 5:           17 seconds\n",
      "Burnin  iteration 6:           17 seconds\n",
      "\n",
      "Phasing iteration 1:           16 seconds\n",
      "Phasing iteration 2:           16 seconds\n",
      "Phasing iteration 3:           14 seconds\n",
      "Phasing iteration 4:           14 seconds\n",
      "Phasing iteration 5:           14 seconds\n",
      "Phasing iteration 6:           14 seconds\n",
      "Phasing iteration 7:           14 seconds\n",
      "Phasing iteration 8:           13 seconds\n",
      "Phasing iteration 9:           13 seconds\n",
      "Phasing iteration 10:          14 seconds\n",
      "Phasing iteration 11:          14 seconds\n",
      "Phasing iteration 12:          13 seconds\n",
      "\n",
      "Imputation time:               7 seconds\n",
      "\n",
      "Cumulative Statistics:\n",
      "\n",
      "Reference markers:     705,174\n",
      "Study markers:         145,137\n",
      "\n",
      "Haplotype phasing time:        11 minutes 0 seconds\n",
      "Imputation time:               7 seconds\n",
      "Total time:                    11 minutes 46 seconds\n",
      "\n",
      "End time: 10:08 PM PDT on 03 May 2020\n",
      "beagle.28Sep18.793.jar finished\n",
      "error overall = 6.409765533045744e-6 \n",
      "\n",
      "Running beagle with n = 2000 samples\n",
      "beagle.28Sep18.793.jar (version 5.0)\n",
      "Copyright (C) 2014-2018 Brian L. Browning\n",
      "Enter \"java -jar beagle.28Sep18.793.jar\" to list command line argument\n",
      "Start time: 10:09 PM PDT on 03 May 2020\n",
      "\n",
      "Command line: java -Xmx13653m -jar beagle.28Sep18.793.jar\n",
      "  gt=target.chr19.n2000.typedOnly.masked.vcf.gz\n",
      "  ref=chr19.uniqueSNPs.vcf.gz\n",
      "  out=beagle.imputed.chr19.n2000\n",
      "  nthreads=8\n",
      "\n",
      "No genetic map is specified: using 1 cM = 1 Mb\n",
      "\n",
      "Reference samples:       2,504\n",
      "Study samples:           2,000\n",
      "\n",
      "Window 1 (19:62935-40062750)\n",
      "Reference markers:     456,604\n",
      "Study markers:          93,065\n",
      "\n",
      "Burnin  iteration 1:           1 minute 21 seconds\n",
      "Burnin  iteration 2:           4 minutes 2 seconds\n",
      "Burnin  iteration 3:           4 minutes 16 seconds\n",
      "Burnin  iteration 4:           4 minutes 2 seconds\n",
      "Burnin  iteration 5:           4 minutes 11 seconds\n",
      "Burnin  iteration 6:           4 minutes 12 seconds\n",
      "\n",
      "Phasing iteration 1:           4 minutes 5 seconds\n",
      "Phasing iteration 2:           3 minutes 46 seconds\n",
      "Phasing iteration 3:           3 minutes 33 seconds\n",
      "Phasing iteration 4:           3 minutes 24 seconds\n",
      "Phasing iteration 5:           3 minutes 20 seconds\n",
      "Phasing iteration 6:           3 minutes 20 seconds\n",
      "Phasing iteration 7:           3 minutes 15 seconds\n",
      "Phasing iteration 8:           3 minutes 13 seconds\n",
      "Phasing iteration 9:           3 minutes 11 seconds\n",
      "Phasing iteration 10:          3 minutes 13 seconds\n",
      "Phasing iteration 11:          3 minutes 11 seconds\n",
      "Phasing iteration 12:          3 minutes 8 seconds\n",
      "\n",
      "Imputation time:               3 minutes 10 seconds\n",
      "\n",
      "Window 2 (19:36062612-59118924)\n",
      "Reference markers:     290,195\n",
      "Study markers:          60,343\n",
      "\n",
      "Burnin  iteration 1:           1 minute 20 seconds\n",
      "Burnin  iteration 2:           2 minutes 33 seconds\n",
      "Burnin  iteration 3:           2 minutes 36 seconds\n",
      "Burnin  iteration 4:           2 minutes 37 seconds\n",
      "Burnin  iteration 5:           2 minutes 40 seconds\n",
      "Burnin  iteration 6:           2 minutes 50 seconds\n",
      "\n",
      "Phasing iteration 1:           2 minutes 41 seconds\n",
      "Phasing iteration 2:           2 minutes 33 seconds\n",
      "Phasing iteration 3:           2 minutes 24 seconds\n",
      "Phasing iteration 4:           2 minutes 15 seconds\n",
      "Phasing iteration 5:           2 minutes 10 seconds\n",
      "Phasing iteration 6:           2 minutes 8 seconds\n",
      "Phasing iteration 7:           2 minutes 7 seconds\n",
      "Phasing iteration 8:           2 minutes 6 seconds\n",
      "Phasing iteration 9:           2 minutes 5 seconds\n",
      "Phasing iteration 10:          2 minutes 4 seconds\n",
      "Phasing iteration 11:          2 minutes 2 seconds\n",
      "Phasing iteration 12:          2 minutes 1 second\n",
      "\n",
      "Imputation time:               1 minute 21 seconds\n",
      "\n",
      "Cumulative Statistics:\n",
      "\n",
      "Reference markers:     705,174\n",
      "Study markers:         145,137\n",
      "\n",
      "Haplotype phasing time:        1 hour 43 minutes 56 seconds\n",
      "Imputation time:               1 minute 21 seconds\n",
      "Total time:                    1 hour 50 minutes 1 second\n",
      "\n",
      "End time: 11:59 PM PDT on 03 May 2020\n",
      "beagle.28Sep18.793.jar finished\n",
      "error overall = 5.748226678805514e-6 \n",
      "\n"
     ]
    }
   ],
   "source": [
    "# beagle 5\n",
    "cd(\"/Users/biona001/.julia/dev/MendelImpute/data/1000_genome_phase3_v5/filtered\")\n",
    "function beagle()\n",
    "    chr = 19\n",
    "    for n in [2, 20, 200, 2000]\n",
    "        println(\"Running beagle with n = $n samples\")\n",
    "        tgtfile = \"target.chr19.n$n.typedOnly.masked.vcf.gz\"\n",
    "        reffile = \"chr19.uniqueSNPs.vcf.gz\"\n",
    "        outfile = \"beagle.imputed.chr19.n$n\"\n",
    "        Base.run(`java -Xmx15g -jar beagle.28Sep18.793.jar gt=$tgtfile ref=$reffile out=$outfile nthreads=8`)\n",
    "\n",
    "        # beagle error rate    \n",
    "        X_complete = convert_gt(UInt8, \"target.chr$chr.n$n.full.vcf.gz\")\n",
    "        X_beagle = convert_gt(UInt8, \"beagle.imputed.chr19.n$n.vcf.gz\")\n",
    "        nn, pp = size(X_complete)\n",
    "        println(\"error overall = $(sum(X_beagle .!= X_complete) / nn / pp) \\n\")\n",
    "    end\n",
    "end\n",
    "beagle()"
   ]
  },
  {
   "cell_type": "markdown",
   "metadata": {
    "collapsed": true
   },
   "source": [
    "# Eagle 2 + Minimac4\n",
    "\n",
    "In order to use the reference panel in Eagle 2's prephase option, one must first convert it to `.bcf` format via e.g. `htslib` which is *extremely* difficult to install. Even after we went through all the hard work to obtain the final `.bcf` reference file (see commands below), eagle 2.4 STILL SAYS the file is not acceptable (not bgzipped or some processing error). Therefore, I have no choice but to prephase without the reference panel. "
   ]
  },
  {
   "cell_type": "code",
   "execution_count": null,
   "metadata": {
    "collapsed": true
   },
   "outputs": [],
   "source": [
    "# run eagle 2.4: 3367.79 sec on amd-2382 machine (can only run on linux systems)\n",
    "eagle --vcf=target.chr20.typedOnly.masked.vcf.gz --outPrefix=eagle.phased.chr20 --numThreads=4 --geneticMapFile=../Eagle_v2.4.1/tables/genetic_map_hg19_withX.txt.gz"
   ]
  },
  {
   "cell_type": "code",
   "execution_count": null,
   "metadata": {
    "collapsed": true
   },
   "outputs": [],
   "source": [
    "# convert ref file to m3vcf format (Total Run completed in 1 hours, 46 mins, 24 seconds)\n",
    "/u/home/b/biona001/haplotype_comparisons/Minimac3/bin/Minimac3 --refHaps ref.chr20.excludeTarget.vcf.gz --processReference --prefix ref.chr20.excludeTarget"
   ]
  },
  {
   "cell_type": "code",
   "execution_count": null,
   "metadata": {
    "collapsed": true
   },
   "outputs": [],
   "source": [
    "# run minimac4 (2619 seconds)\n",
    "minimac4 --refHaps ref.chr20.excludeTarget.m3vcf.gz --haps eagle.phased.vcf.gz --prefix minimac.imputed.chr20 --format GT --cpus 4"
   ]
  },
  {
   "cell_type": "code",
   "execution_count": null,
   "metadata": {
    "collapsed": true
   },
   "outputs": [],
   "source": [
    "# minimac4 error rate    \n",
    "X_complete = convert_gt(Float32, \"target.chr20.full.vcf.gz\")\n",
    "X_minimac = convert_gt(Float32, \"minimac.imputed.chr20.dose.vcf.gz\")\n",
    "n, p = size(X_complete)\n",
    "println(\"error overall = $(sum(X_minimac .!= X_complete) / n / p) \\n\")"
   ]
  },
  {
   "cell_type": "code",
   "execution_count": null,
   "metadata": {
    "collapsed": true
   },
   "outputs": [],
   "source": []
  }
 ],
 "metadata": {
  "@webio": {
   "lastCommId": null,
   "lastKernelId": null
  },
  "kernelspec": {
   "display_name": "Julia 1.3.0-rc4",
   "language": "julia",
   "name": "julia-1.3"
  },
  "language_info": {
   "file_extension": ".jl",
   "mimetype": "application/julia",
   "name": "julia",
   "version": "1.3.1"
  }
 },
 "nbformat": 4,
 "nbformat_minor": 2
}
