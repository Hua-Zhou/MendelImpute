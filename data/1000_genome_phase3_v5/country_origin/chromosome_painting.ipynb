{
 "cells": [
  {
   "cell_type": "markdown",
   "metadata": {},
   "source": [
    "# Chromosome Painting"
   ]
  },
  {
   "cell_type": "code",
   "execution_count": null,
   "metadata": {
    "collapsed": false
   },
   "outputs": [
    {
     "name": "stderr",
     "output_type": "stream",
     "text": [
      "┌ Info: Precompiling MendelImpute [e47305d1-6a61-5370-bc5d-77554d143183]\n",
      "└ @ Base loading.jl:1278\n"
     ]
    }
   ],
   "source": [
    "using GeneticVariation\n",
    "using VCFTools\n",
    "using DataFrames\n",
    "using CSV\n",
    "using MendelImpute"
   ]
  },
  {
   "cell_type": "markdown",
   "metadata": {},
   "source": [
    "# Download population data\n",
    "\n",
    "Download [population code](ftp://ftp.1000genomes.ebi.ac.uk/vol1/ftp/data_collections/1000_genomes_project/data/) for each 1000 genomes sample. Different population code is explained [here](https://www.internationalgenome.org/category/population/). "
   ]
  },
  {
   "cell_type": "code",
   "execution_count": null,
   "metadata": {
    "collapsed": true
   },
   "outputs": [],
   "source": [
    ";wget -r -l3 -N --no-parent ftp://ftp.1000genomes.ebi.ac.uk/vol1/ftp/data_collections/1000_genomes_project/data/"
   ]
  },
  {
   "cell_type": "markdown",
   "metadata": {},
   "source": [
    "# Compile each sample's population origin"
   ]
  },
  {
   "cell_type": "code",
   "execution_count": 26,
   "metadata": {
    "collapsed": false
   },
   "outputs": [
    {
     "data": {
      "text/plain": [
       "Dict{Symbol,Symbol} with 2709 entries:\n",
       "  :HG02728 => :PJL\n",
       "  :HG00731 => :PUR\n",
       "  :NA20902 => :GIH\n",
       "  :HG02282 => :ACB\n",
       "  :HG02156 => :CDX\n",
       "  :HG00684 => :CHS\n",
       "  :HG01709 => :IBS\n",
       "  :HG01785 => :IBS\n",
       "  :HG03055 => :MSL\n",
       "  :HG00406 => :CHS\n",
       "  :HG00654 => :CHS\n",
       "  :HG03642 => :STU\n",
       "  :HG03886 => :STU\n",
       "  :HG02025 => :KHV\n",
       "  :NA19909 => :ASW\n",
       "  :NA06984 => :CEU\n",
       "  :NA19431 => :LWK\n",
       "  :HG00187 => :FIN\n",
       "  :HG03085 => :MSL\n",
       "  :NA19773 => :MXL\n",
       "  :HG03636 => :PJL\n",
       "  :HG01790 => :GBR\n",
       "  :HG00478 => :CHS\n",
       "  :HG03782 => :ITU\n",
       "  :HG00607 => :CHS\n",
       "  ⋮        => ⋮"
      ]
     },
     "execution_count": 26,
     "metadata": {},
     "output_type": "execute_result"
    }
   ],
   "source": [
    "df = DataFrame(sample = String[], population = String[])\n",
    "sample_to_population = Dict{Symbol, Symbol}()\n",
    "for population in readdir(\"data/\")\n",
    "    for sample in readdir(\"data/\" * population)\n",
    "        sample == \".DS_Store\" && continue\n",
    "        push!(df, (sample, population))\n",
    "        sample_to_population[Symbol(sample)] = Symbol(population)\n",
    "    end\n",
    "end\n",
    "sample_to_population\n",
    "    "
   ]
  },
  {
   "cell_type": "code",
   "execution_count": 6,
   "metadata": {
    "collapsed": false
   },
   "outputs": [],
   "source": [
    "# get sampleID listed in VCF file\n",
    "vcffile = \"../beagle_raw/chr22.1kg.phase3.v5a.vcf.gz\"\n",
    "reader = VCF.Reader(openvcf(vcffile, \"r\"))\n",
    "sampleID = VCF.header(reader).sampleID\n",
    "close(reader)"
   ]
  },
  {
   "cell_type": "markdown",
   "metadata": {},
   "source": [
    "# Compute sample composition"
   ]
  },
  {
   "cell_type": "code",
   "execution_count": 29,
   "metadata": {
    "collapsed": false
   },
   "outputs": [
    {
     "ename": "LoadError",
     "evalue": "UndefVarError: HaplotypeMosaicPair not defined",
     "output_type": "error",
     "traceback": [
      "UndefVarError: HaplotypeMosaicPair not defined",
      "",
      "Stacktrace:",
      " [1] top-level scope at In[29]:2",
      " [2] include_string(::Function, ::Module, ::String, ::String) at ./loading.jl:1091"
     ]
    }
   ],
   "source": [
    "function paint(\n",
    "    sample_phase::HaplotypeMosaicPair,\n",
    "    sample_to_population::Dict{Symbol, Symbol},\n",
    "    compressed_Hunique::CompressedHaplotypes;\n",
    "    populations::Vector{Symbol} = unique_populations(sample_to_population),\n",
    "    composition::AbstractVector = zeros(length(populations))\n",
    "    )\n",
    "    snps = sample_phase.strand1.length\n",
    "    l = length(sample_phase.strand1.haplotypelabel)\n",
    "    ref_sampleIDs = compressed_Hunique.sampleID\n",
    "\n",
    "    # strand1 \n",
    "    for i in 1:l\n",
    "        h1 = sample_phase.strand1.haplotypelabel[i] # unique haplotype index\n",
    "        w1 = sample_phase.strand1.window[i]\n",
    "        snps = (i == l ? \n",
    "            (sample_phase.strand1.start[i]:sample_phase.strand1.length) : \n",
    "            (sample_phase.strand1.start[i]:(sample_phase.strand1.start[i+1] \n",
    "            - 1)))\n",
    "\n",
    "        # convert unique haplotype idx to sampleID\n",
    "        H1 = unique_all_idx_to_complete_idx(h1, w1, \n",
    "            compressed_Hunique) # complete haplotype idx\n",
    "        sample_idx = div(H1, 2, RoundUp)\n",
    "        id = ref_sampleIDs[sample_idx]\n",
    "        population = Symbol(sample_to_population[id])\n",
    "\n",
    "        # update composition\n",
    "        idx = findfirst(x -> x == population, populations)\n",
    "        composition[idx] += length(snps)\n",
    "    end\n",
    "\n",
    "    # strand2\n",
    "    for i in 1:l\n",
    "        h2 = sample_phase.strand2.haplotypelabel[i] # unique haplotype index\n",
    "        w2 = sample_phase.strand2.window[i]\n",
    "        snps = (i == l ? \n",
    "            (sample_phase.strand2.start[i]:sample_phase.strand2.length) : \n",
    "            (sample_phase.strand2.start[i]:(sample_phase.strand2.start[i+1] \n",
    "            - 1)))\n",
    "\n",
    "        # convert unique haplotype idx to sampleID\n",
    "        H1 = unique_all_idx_to_complete_idx(h2, w2, \n",
    "            compressed_Hunique) # complete haplotype idx\n",
    "        sample_idx = div(H1, 2, RoundUp)\n",
    "        id = ref_sampleIDs[sample_idx]\n",
    "        population = Symbol(sample_to_population[id])\n",
    "\n",
    "        # update composition\n",
    "        idx = findfirst(x -> x == population, populations)\n",
    "        composition[idx] += length(snps)\n",
    "    end\n",
    "    \n",
    "    return composition\n",
    "end\n",
    "\n",
    "\"\"\"\n",
    "unique_populations(x::Dict{Symbol, Symbol})\n",
    "\n",
    "Computes the unique list of populations. `x` is a `Dict`\n",
    "where each sample is a key and populations are values. \n",
    "\"\"\"\n",
    "function unique_populations(x::Dict{Symbol, Symbol})\n",
    "    populations = Symbol[]\n",
    "    for (key, val) in x\n",
    "        if val ∉ populations \n",
    "            num_unique += 1\n",
    "            push!(populations, val)\n",
    "        end\n",
    "    end\n",
    "    return populations\n",
    "end"
   ]
  },
  {
   "cell_type": "code",
   "execution_count": null,
   "metadata": {
    "collapsed": true
   },
   "outputs": [],
   "source": []
  }
 ],
 "metadata": {
  "kernelspec": {
   "display_name": "Julia 1.5.0",
   "language": "julia",
   "name": "julia-1.5"
  },
  "language_info": {
   "file_extension": ".jl",
   "mimetype": "application/julia",
   "name": "julia",
   "version": "1.5.0"
  }
 },
 "nbformat": 4,
 "nbformat_minor": 2
}
