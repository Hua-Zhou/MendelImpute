{
 "cells": [
  {
   "cell_type": "markdown",
   "metadata": {},
   "source": [
    "# Chromosome Painting"
   ]
  },
  {
   "cell_type": "code",
   "execution_count": 1,
   "metadata": {
    "collapsed": false
   },
   "outputs": [
    {
     "name": "stderr",
     "output_type": "stream",
     "text": [
      "┌ Info: Precompiling MendelImpute [e47305d1-6a61-5370-bc5d-77554d143183]\n",
      "└ @ Base loading.jl:1278\n"
     ]
    }
   ],
   "source": [
    "using Revise\n",
    "using VCFTools\n",
    "using MendelImpute\n",
    "using GeneticVariation\n",
    "using Random\n",
    "using StatsBase\n",
    "using CodecZlib\n",
    "using ProgressMeter\n",
    "using JLSO\n",
    "using BenchmarkTools\n",
    "using GroupSlices\n",
    "using LinearAlgebra\n",
    "using DataFrames\n",
    "# using ProfileView\n",
    "\n",
    "BLAS.set_num_threads(1)"
   ]
  },
  {
   "cell_type": "markdown",
   "metadata": {},
   "source": [
    "# Download population data\n",
    "\n",
    "Download [population code](ftp://ftp.1000genomes.ebi.ac.uk/vol1/ftp/data_collections/1000_genomes_project/data/) for each 1000 genomes sample. Different population code is explained [here](https://www.internationalgenome.org/category/population/). "
   ]
  },
  {
   "cell_type": "code",
   "execution_count": 2,
   "metadata": {
    "collapsed": true
   },
   "outputs": [],
   "source": [
    "# run this code in terminal\n",
    "# wget -r -l3 -N --no-parent ftp://ftp.1000genomes.ebi.ac.uk/vol1/ftp/data_collections/1000_genomes_project/data/"
   ]
  },
  {
   "cell_type": "markdown",
   "metadata": {},
   "source": [
    "# Get each sample's population origin"
   ]
  },
  {
   "cell_type": "code",
   "execution_count": 3,
   "metadata": {
    "collapsed": false
   },
   "outputs": [
    {
     "data": {
      "text/plain": [
       "Dict{Symbol,Symbol} with 2709 entries:\n",
       "  :HG02728 => :PJL\n",
       "  :HG00731 => :PUR\n",
       "  :NA20902 => :GIH\n",
       "  :HG02282 => :ACB\n",
       "  :HG02156 => :CDX\n",
       "  :HG00684 => :CHS\n",
       "  :HG01709 => :IBS\n",
       "  :HG01785 => :IBS\n",
       "  :HG03055 => :MSL\n",
       "  :HG00406 => :CHS\n",
       "  :HG00654 => :CHS\n",
       "  :HG03642 => :STU\n",
       "  :HG03886 => :STU\n",
       "  :HG02025 => :KHV\n",
       "  :NA19909 => :ASW\n",
       "  :NA06984 => :CEU\n",
       "  :NA19431 => :LWK\n",
       "  :HG00187 => :FIN\n",
       "  :HG03085 => :MSL\n",
       "  :NA19773 => :MXL\n",
       "  :HG03636 => :PJL\n",
       "  :HG01790 => :GBR\n",
       "  :HG00478 => :CHS\n",
       "  :HG03782 => :ITU\n",
       "  :HG00607 => :CHS\n",
       "  ⋮        => ⋮"
      ]
     },
     "execution_count": 3,
     "metadata": {},
     "output_type": "execute_result"
    }
   ],
   "source": [
    "df = DataFrame(sample = String[], population = String[])\n",
    "sample_to_population = Dict{Symbol, Symbol}()\n",
    "for population in readdir(\"data/\")\n",
    "    for sample in readdir(\"data/\" * population)\n",
    "        sample == \".DS_Store\" && continue\n",
    "        push!(df, (sample, population))\n",
    "        sample_to_population[Symbol(sample)] = Symbol(population)\n",
    "    end\n",
    "end\n",
    "sample_to_population\n",
    "    "
   ]
  },
  {
   "cell_type": "markdown",
   "metadata": {},
   "source": [
    "# Compute sample composition in 1000 genomes"
   ]
  },
  {
   "cell_type": "code",
   "execution_count": 5,
   "metadata": {
    "collapsed": false
   },
   "outputs": [
    {
     "name": "stdout",
     "output_type": "stream",
     "text": [
      "Importing reference haplotype data...\n"
     ]
    },
    {
     "name": "stderr",
     "output_type": "stream",
     "text": [
      "\u001b[32mComputing optimal haplotypes...100%|████████████████████| Time: 0:00:07\u001b[39m\n"
     ]
    },
    {
     "name": "stdout",
     "output_type": "stream",
     "text": [
      "Total windows = 2367, averaging ~ 527 unique haplotypes per window.\n",
      "\n",
      "Timings: \n",
      "    Data import                     = 17.9653 seconds\n",
      "        import target data             = 4.6349 seconds\n",
      "        import compressed haplotypes   = 13.3304 seconds\n",
      "    Computing haplotype pair        = 7.79536 seconds\n",
      "        BLAS3 mul! to get M and N      = 0.30176 seconds per thread\n",
      "        haplopair search               = 3.5918 seconds per thread\n",
      "        initializing missing           = 0.0245673 seconds per thread\n",
      "        allocating and viewing         = 0.0672008 seconds per thread\n",
      "        index conversion               = 0.00140828 seconds per thread\n",
      "    Phasing by win-win intersection = 0.749241 seconds\n",
      "        Window-by-window intersection  = 0.0983918 seconds per thread\n",
      "        Breakpoint search              = 0.14624 seconds per thread\n",
      "        Recording result               = 0.0127038 seconds per thread\n",
      "    Imputation                     = 2.24531 seconds\n",
      "        Imputing missing               = 0.250123 seconds\n",
      "        Writing to file                = 1.99519 seconds\n",
      "\n",
      "    Total time                      = 28.9154 seconds\n",
      "\n",
      " 41.962607 seconds (141.21 M allocations: 8.572 GiB, 8.44% gc time)\n"
     ]
    }
   ],
   "source": [
    "# compute each person's phase information\n",
    "cd(\"/Users/biona001/.julia/dev/MendelImpute/data/1000_genome_phase3_v5/filtered\")\n",
    "Random.seed!(2020)\n",
    "chr = 18\n",
    "maf = 0.1\n",
    "d = 1000\n",
    "tgtfile = \"target.chr$chr.typedOnly.maf$maf.masked.vcf.gz\"\n",
    "reffile = \"ref.chr18.maxd$d.maf$maf.excludeTarget.jlso\"\n",
    "outfile = \"mendel.imputed.vcf.gz\"\n",
    "@time ph = phase(tgtfile, reffile, outfile=outfile, impute=true, max_d = d,\n",
    "    phase = true);"
   ]
  },
  {
   "cell_type": "code",
   "execution_count": 7,
   "metadata": {
    "collapsed": false
   },
   "outputs": [],
   "source": [
    "# need compressed reference panel\n",
    "compressed_Hunique = JLSO.load(reffile)[:compressed_Hunique];"
   ]
  },
  {
   "cell_type": "code",
   "execution_count": 12,
   "metadata": {
    "collapsed": false
   },
   "outputs": [
    {
     "name": "stdout",
     "output_type": "stream",
     "text": [
      "1.705204e6\n",
      "852602\n",
      "  0.020345 seconds (15.39 k allocations: 775.396 KiB)\n"
     ]
    },
    {
     "data": {
      "text/plain": [
       "26-element Array{Float64,1}:\n",
       "  23816.0\n",
       "  64497.0\n",
       "   2414.0\n",
       "   5607.0\n",
       "   5428.0\n",
       "  57546.0\n",
       "  42934.0\n",
       "    272.0\n",
       "  11913.0\n",
       "   7860.0\n",
       "   1142.0\n",
       "  20545.0\n",
       "    234.0\n",
       " 178658.0\n",
       "   2250.0\n",
       "      1.199728e6\n",
       "   4262.0\n",
       "   3991.0\n",
       "      0.0\n",
       "  11341.0\n",
       "   5647.0\n",
       "   6314.0\n",
       "   1024.0\n",
       "  35201.0\n",
       "   2954.0\n",
       "   9626.0"
      ]
     },
     "execution_count": 12,
     "metadata": {},
     "output_type": "execute_result"
    }
   ],
   "source": [
    "@time comp = paint(ph[1], sample_to_population, compressed_Hunique)"
   ]
  },
  {
   "cell_type": "code",
   "execution_count": null,
   "metadata": {
    "collapsed": true
   },
   "outputs": [],
   "source": []
  }
 ],
 "metadata": {
  "kernelspec": {
   "display_name": "Julia 1.5.0",
   "language": "julia",
   "name": "julia-1.5"
  },
  "language_info": {
   "file_extension": ".jl",
   "mimetype": "application/julia",
   "name": "julia",
   "version": "1.5.0"
  }
 },
 "nbformat": 4,
 "nbformat_minor": 2
}
