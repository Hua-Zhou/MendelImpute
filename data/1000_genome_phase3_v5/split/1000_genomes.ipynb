{
 "cells": [
  {
   "cell_type": "markdown",
   "metadata": {},
   "source": [
    "# Comparison of MendelImpute against Minimac4 and Beagle5 on 1000 genome project\n",
    "\n",
    "**Dynamic programming memory requirement:** \n",
    "+ Target data requies $people * snps * 4$ bytes of RAM\n",
    "+ Reference haplotype data requires $haplotypes * snps$ bits of RAM\n",
    "+ Redundant haplotype set for imputation target requires roughly\n",
    "$people * windows * 1000$ (max haplotypes per win) $* 16 bytes$ of RAM\n",
    "\n",
    "**Fast method memory requirement:** \n",
    "+ Target data requies $people * snps * 4$ bytes of RAM\n",
    "+ Reference haplotype data requires $haplotypes * snps$ bits of RAM\n",
    "+ Redundant haplotype set for imputation target requires roughly\n",
    "$people * snps$ bits of RAM"
   ]
  },
  {
   "cell_type": "code",
   "execution_count": 1,
   "metadata": {
    "collapsed": false
   },
   "outputs": [
    {
     "name": "stderr",
     "output_type": "stream",
     "text": [
      "┌ Warning: no Manifest.toml file found, static paths used\n",
      "└ @ Revise /Users/biona001/.julia/packages/Revise/439di/src/Revise.jl:1108\n"
     ]
    }
   ],
   "source": [
    "using Revise\n",
    "using VCFTools\n",
    "using MendelImpute\n",
    "using GeneticVariation\n",
    "using Random\n",
    "using StatsBase"
   ]
  },
  {
   "cell_type": "markdown",
   "metadata": {},
   "source": [
    "# Filter data into target and reference data\n",
    "\n",
    "+ `ref_chr22.vcf.gz`: haplotype reference files\n",
    "+ `tgt_chr22.vcf.gz`: complete genotype information\n",
    "+ `tgt_masked_chr22.vcf.gz`: the same as `tgt_chr22.vcf.gz` except some entries are masked\n",
    "+ `tgt_masked_unphased_chr22.vcf.gz`: the same as `tgt_chr22.vcf.gz` except some entries are masked and heterozygote genotypes (1|0 or 0|1) are all changed to 1/0. "
   ]
  },
  {
   "cell_type": "code",
   "execution_count": 3,
   "metadata": {
    "collapsed": false
   },
   "outputs": [
    {
     "data": {
      "text/plain": [
       "filter_and_mask"
      ]
     },
     "execution_count": 3,
     "metadata": {},
     "output_type": "execute_result"
    }
   ],
   "source": [
    "\"\"\"\n",
    "    filter_and_mask(data::String, samples::Int)\n",
    "\n",
    "Creates reference haplotypes and (unphased) target genotype files from `data`. Duplicate\n",
    "records (SNPs) are filtered out as well. \n",
    "\n",
    "# Inputs\n",
    "`data`: The full (phased) data\n",
    "`samples`: Number of samples (genotypes) desired in target file. Remaining haplotypes will become the reference panel\n",
    "\"\"\"\n",
    "function filter_and_mask(data::String, samples::Int; missingprop::Float64 = 0.01)\n",
    "    n = nsamples(data)\n",
    "    samples > n && error(\"requested samples exceed total number of genotypes in $data.\")\n",
    "\n",
    "    # output filenames (tgt_chr22.vcf.gz, ref_chr22.vcf.gz, and tgt_masked_chr22.vcf.gz)\n",
    "    file = split(data, '.')[4] * \".vcf.gz\"\n",
    "    tgt = \"./tgt_\" * file\n",
    "    ref = \"./ref_\" * file\n",
    "    tgt_mask = \"./tgt_masked_\" * file\n",
    "    tgt_mask_unphase = \"./tgt_masked_unphased_\" * file\n",
    "\n",
    "    # compute target and reference index\n",
    "    println(\"computing tgt/ref/record index\")\n",
    "    tgt_index = falses(n)\n",
    "    tgt_index[sample(1:n, samples, replace=false)] .= true\n",
    "    ref_index = .!tgt_index\n",
    "    record_index = .!find_duplicate(data) # save only unique records (SNPs) \n",
    "\n",
    "    # generate masking matrix with `missingprop`% of trues (true = convert to missing)\n",
    "    p = sum(record_index)\n",
    "    masks = falses(p, samples)\n",
    "    for j in 1:samples, i in 1:p\n",
    "        rand() < missingprop && (masks[i, j] = true)\n",
    "    end\n",
    "\n",
    "    # create outputs \n",
    "    println(\"generating target file\")\n",
    "    VCFTools.filter(data, record_index, tgt_index, des = tgt)\n",
    "    println(\"generating reference file\")\n",
    "    VCFTools.filter(data, record_index, ref_index, des = ref)\n",
    "    println(\"generating masked file\")\n",
    "    mask_gt(tgt, masks, des=tgt_mask)\n",
    "\n",
    "    # finally, unphase the target data\n",
    "    unphase(tgt_mask, outfile=tgt_mask_unphase)\n",
    "end"
   ]
  },
  {
   "cell_type": "code",
   "execution_count": 11,
   "metadata": {
    "collapsed": false
   },
   "outputs": [
    {
     "name": "stdout",
     "output_type": "stream",
     "text": [
      "computing tgt/ref/record index\n",
      "generating target file\n",
      "generating reference file\n",
      "generating masked file\n"
     ]
    },
    {
     "name": "stderr",
     "output_type": "stream",
     "text": [
      "\u001b[32mCreating ./tgt_masked_unphased_chr22.vcf.gz...100%|█████| Time: 0:01:56\u001b[39m\n"
     ]
    },
    {
     "name": "stdout",
     "output_type": "stream",
     "text": [
      "2101.643985 seconds (24.78 G allocations: 2.084 TiB, 9.99% gc time)\n"
     ]
    }
   ],
   "source": [
    "Random.seed!(2020)\n",
    "cd(\"/Users/biona001/.julia/dev/MendelImpute/data/1000_genome_phase3_v5/split\")\n",
    "\n",
    "chr22 = \"../raw/ALL.chr22.phase3_v5.shapeit2_mvncall_integrated.noSingleton.genotypes.vcf.gz\"\n",
    "@time filter_and_mask(chr22, 500) # 500 imputation samples, remaining 2004 used as reference"
   ]
  },
  {
   "cell_type": "code",
   "execution_count": 4,
   "metadata": {
    "collapsed": false
   },
   "outputs": [
    {
     "name": "stdout",
     "output_type": "stream",
     "text": [
      "computing tgt/ref/record index\n",
      "generating target file\n",
      "generating reference file\n",
      "generating masked file\n"
     ]
    },
    {
     "name": "stderr",
     "output_type": "stream",
     "text": [
      "\u001b[32mCreating ./tgt_masked_unphased_chr20.vcf.gz...100%|█████| Time: 0:02:36\u001b[39m\n"
     ]
    },
    {
     "name": "stdout",
     "output_type": "stream",
     "text": [
      "3030.980141 seconds (39.83 G allocations: 3.342 TiB, 9.41% gc time)\n"
     ]
    }
   ],
   "source": [
    "Random.seed!(2020)\n",
    "cd(\"/Users/biona001/.julia/dev/MendelImpute/data/1000_genome_phase3_v5/split\")\n",
    "\n",
    "chr20 = \"../raw/ALL.chr20.phase3_v5.shapeit2_mvncall_integrated.noSingleton.genotypes.vcf.gz\"\n",
    "@time filter_and_mask(chr20, 500) # 500 imputation samples, remaining 2004 used as reference"
   ]
  },
  {
   "cell_type": "code",
   "execution_count": 5,
   "metadata": {
    "collapsed": false
   },
   "outputs": [
    {
     "name": "stdout",
     "output_type": "stream",
     "text": [
      "computing tgt/ref/record index\n",
      "generating target file\n",
      "generating reference file\n",
      "generating masked file\n"
     ]
    },
    {
     "name": "stderr",
     "output_type": "stream",
     "text": [
      "\u001b[32mCreating ./tgt_masked_unphased_chr21.vcf.gz...100%|█████| Time: 0:01:37\u001b[39m\n"
     ]
    },
    {
     "name": "stdout",
     "output_type": "stream",
     "text": [
      "1735.602025 seconds (24.84 G allocations: 2.086 TiB, 7.54% gc time)\n"
     ]
    }
   ],
   "source": [
    "Random.seed!(2020)\n",
    "cd(\"/Users/biona001/.julia/dev/MendelImpute/data/1000_genome_phase3_v5/split\")\n",
    "\n",
    "chr21 = \"../raw/ALL.chr21.phase3_v5.shapeit2_mvncall_integrated.noSingleton.genotypes.vcf.gz\"\n",
    "@time filter_and_mask(chr21, 500) # 500 imputation samples, remaining 2004 used as reference"
   ]
  },
  {
   "cell_type": "markdown",
   "metadata": {},
   "source": [
    "# Run MendelImpute (unique happairs only)"
   ]
  },
  {
   "cell_type": "code",
   "execution_count": 2,
   "metadata": {
    "collapsed": false
   },
   "outputs": [
    {
     "data": {
      "text/plain": [
       "8"
      ]
     },
     "execution_count": 2,
     "metadata": {},
     "output_type": "execute_result"
    }
   ],
   "source": [
    "Threads.nthreads()"
   ]
  },
  {
   "cell_type": "code",
   "execution_count": 4,
   "metadata": {
    "collapsed": false
   },
   "outputs": [
    {
     "name": "stdout",
     "output_type": "stream",
     "text": [
      "running fast method, width = 500\n",
      "Running chunk 1 / 1\n"
     ]
    },
    {
     "name": "stderr",
     "output_type": "stream",
     "text": [
      "\u001b[32mImporting genotype file...100%|█████████████████████████| Time: 0:01:08\u001b[39m\n",
      "\u001b[32mImporting reference haplotype files...100%|█████████████| Time: 0:02:20\u001b[39m\n",
      "\u001b[32mComputing optimal haplotype pairs...100%|███████████████| Time: 0:05:38\u001b[39m\n",
      "\u001b[32mWriting to file...100%|█████████████████████████████████| Time: 0:01:50\u001b[39m\n"
     ]
    },
    {
     "name": "stdout",
     "output_type": "stream",
     "text": [
      "707.969658 seconds (4.92 G allocations: 443.617 GiB, 5.08% gc time)\n",
      "error = 7.152614433302995e-5\n",
      "\n",
      "running fast method, width = 1000\n",
      "Running chunk 1 / 1\n"
     ]
    },
    {
     "name": "stderr",
     "output_type": "stream",
     "text": [
      "\u001b[32mImporting genotype file...100%|█████████████████████████| Time: 0:01:09\u001b[39m\n",
      "\u001b[32mImporting reference haplotype files...100%|█████████████| Time: 0:02:22\u001b[39m\n",
      "\u001b[32mComputing optimal haplotype pairs...100%|███████████████| Time: 0:07:06\u001b[39m\n",
      "\u001b[32mWriting to file...100%|█████████████████████████████████| Time: 0:01:51\u001b[39m\n"
     ]
    },
    {
     "name": "stdout",
     "output_type": "stream",
     "text": [
      "799.512207 seconds (4.90 G allocations: 447.684 GiB, 4.44% gc time)\n",
      "error = 6.803744230074472e-5\n",
      "\n"
     ]
    }
   ],
   "source": [
    "# unique happairs only method (8 threads, no bkpt search, 0 overlapping window)\n",
    "cd(\"/Users/biona001/.julia/dev/MendelImpute/data/1000_genome_phase3_v5/split\")\n",
    "function run()\n",
    "    X_complete = convert_gt(Float32, \"tgt_chr22.vcf.gz\")\n",
    "    n, p = size(X_complete)\n",
    "    for width in [500, 1000]\n",
    "        println(\"running fast method, width = $width\")\n",
    "        tgtfile = \"./tgt_masked_unphased_chr22.vcf.gz\"\n",
    "        reffile = \"./ref_chr22.vcf.gz\"\n",
    "        outfile = \"./mendel_imputed_uniqonly_$(width).vcf.gz\"\n",
    "        @time phase(tgtfile, reffile, outfile = outfile, width = width, \n",
    "            unique_only=true, flankwidth=0)\n",
    "        X_mendel = convert_gt(Float32, outfile)\n",
    "        println(\"error = $(sum(X_mendel .!= X_complete) / n / p)\")\n",
    "        X_mendel = nothing\n",
    "        GC.gc()\n",
    "        println(\"\")\n",
    "    end\n",
    "end\n",
    "run()"
   ]
  },
  {
   "cell_type": "code",
   "execution_count": 8,
   "metadata": {
    "collapsed": false
   },
   "outputs": [
    {
     "name": "stdout",
     "output_type": "stream",
     "text": [
      "running fast method, width = 500\n",
      "Running chunk 1 / 1\n"
     ]
    },
    {
     "name": "stderr",
     "output_type": "stream",
     "text": [
      "\u001b[32mImporting genotype file...100%|█████████████████████████| Time: 0:01:10\u001b[39m\n",
      "\u001b[32mImporting reference haplotype files...100%|█████████████| Time: 0:02:36\u001b[39m\n",
      "\u001b[32mComputing optimal haplotype pairs...100%|███████████████| Time: 0:10:15\u001b[39m\n",
      "\u001b[32mWriting to file...100%|█████████████████████████████████| Time: 0:01:51\u001b[39m\n"
     ]
    },
    {
     "name": "stdout",
     "output_type": "stream",
     "text": [
      "1013.368178 seconds (4.91 G allocations: 446.391 GiB, 3.60% gc time)\n",
      "error = 6.651171661195866e-5\n",
      "\n",
      "running fast method, width = 1000\n",
      "Running chunk 1 / 1\n"
     ]
    },
    {
     "name": "stderr",
     "output_type": "stream",
     "text": [
      "\u001b[32mImporting genotype file...100%|█████████████████████████| Time: 0:01:07\u001b[39m\n",
      "\u001b[32mImporting reference haplotype files...100%|█████████████| Time: 0:02:34\u001b[39m\n",
      "\u001b[32mComputing optimal haplotype pairs...100%|███████████████| Time: 0:12:18\u001b[39m\n",
      "\u001b[32mWriting to file...100%|█████████████████████████████████| Time: 0:01:47\u001b[39m\n"
     ]
    },
    {
     "name": "stdout",
     "output_type": "stream",
     "text": [
      "1123.341832 seconds (4.90 G allocations: 451.233 GiB, 3.06% gc time)\n",
      "error = 6.679391384301462e-5\n",
      "\n"
     ]
    }
   ],
   "source": [
    "# unique happairs only method (4 threads, no bkpt search, 10% overlapping window)\n",
    "cd(\"/Users/biona001/.julia/dev/MendelImpute/data/1000_genome_phase3_v5/split\")\n",
    "function run()\n",
    "    X_complete = convert_gt(Float32, \"tgt_chr22.vcf.gz\")\n",
    "    n, p = size(X_complete)\n",
    "    for width in [500, 1000]\n",
    "        println(\"running fast method, width = $width\")\n",
    "        tgtfile = \"./tgt_masked_unphased_chr22.vcf.gz\"\n",
    "        reffile = \"./ref_chr22.vcf.gz\"\n",
    "        outfile = \"./mendel_imputed_uniqonly_$(width).vcf.gz\"\n",
    "        @time phase(tgtfile, reffile, outfile = outfile, width = width, unique_only=true)\n",
    "        X_mendel = convert_gt(Float32, outfile)\n",
    "        println(\"error = $(sum(X_mendel .!= X_complete) / n / p)\")\n",
    "        X_mendel = nothing\n",
    "        GC.gc()\n",
    "        println(\"\")\n",
    "    end\n",
    "end\n",
    "run()"
   ]
  },
  {
   "cell_type": "code",
   "execution_count": 3,
   "metadata": {
    "collapsed": false
   },
   "outputs": [
    {
     "name": "stdout",
     "output_type": "stream",
     "text": [
      "running fast method, width = 500\n",
      "Running chunk 1 / 1\n"
     ]
    },
    {
     "name": "stderr",
     "output_type": "stream",
     "text": [
      "\u001b[32mImporting genotype file...100%|█████████████████████████| Time: 0:01:06\u001b[39m\n",
      "\u001b[32mImporting reference haplotype files...100%|█████████████| Time: 0:02:21\u001b[39m\n",
      "\u001b[32mComputing optimal haplotype pairs...100%|███████████████| Time: 0:19:45\u001b[39m\n",
      "\u001b[32mWriting to file...100%|█████████████████████████████████| Time: 0:01:54\u001b[39m\n"
     ]
    },
    {
     "name": "stdout",
     "output_type": "stream",
     "text": [
      "1583.703778 seconds (4.93 G allocations: 462.818 GiB, 2.26% gc time)\n",
      "error = 6.261987567816491e-5\n",
      "\n",
      "running fast method, width = 1000\n",
      "Running chunk 1 / 1\n"
     ]
    },
    {
     "name": "stderr",
     "output_type": "stream",
     "text": [
      "\u001b[32mImporting genotype file...100%|█████████████████████████| Time: 0:01:08\u001b[39m\n",
      "\u001b[32mImporting reference haplotype files...100%|█████████████| Time: 0:02:26\u001b[39m\n",
      "\u001b[32mComputing optimal haplotype pairs...100%|███████████████| Time: 0:15:16\u001b[39m\n",
      "\u001b[32mWriting to file...100%|█████████████████████████████████| Time: 0:01:51\u001b[39m\n"
     ]
    },
    {
     "name": "stdout",
     "output_type": "stream",
     "text": [
      "1303.977857 seconds (4.90 G allocations: 455.191 GiB, 2.74% gc time)\n",
      "error = 6.947943914075595e-5\n",
      "\n"
     ]
    }
   ],
   "source": [
    "# unique happairs only method (4 threads, no bkpt search, 250 snps overlap in each window)\n",
    "cd(\"/Users/biona001/.julia/dev/MendelImpute/data/1000_genome_phase3_v5/split\")\n",
    "function run()\n",
    "    X_complete = convert_gt(Float32, \"tgt_chr22.vcf.gz\")\n",
    "    n, p = size(X_complete)\n",
    "    for width in [500, 1000]\n",
    "        println(\"running fast method, width = $width\")\n",
    "        tgtfile = \"./tgt_masked_unphased_chr22.vcf.gz\"\n",
    "        reffile = \"./ref_chr22.vcf.gz\"\n",
    "        outfile = \"./mendel_imputed_uniqonly_$(width).vcf.gz\"\n",
    "        @time phase(tgtfile, reffile, outfile = outfile, width = width, \n",
    "            unique_only=true, flankwidth=250)\n",
    "        X_mendel = convert_gt(Float32, outfile)\n",
    "        println(\"error = $(sum(X_mendel .!= X_complete) / n / p)\")\n",
    "        X_mendel = nothing\n",
    "        GC.gc()\n",
    "        println(\"\")\n",
    "    end\n",
    "end\n",
    "run()"
   ]
  },
  {
   "cell_type": "code",
   "execution_count": 6,
   "metadata": {
    "collapsed": false
   },
   "outputs": [
    {
     "name": "stdout",
     "output_type": "stream",
     "text": [
      "running fast method, width = 500\n",
      "Running chunk 1 / 1\n"
     ]
    },
    {
     "name": "stderr",
     "output_type": "stream",
     "text": [
      "\u001b[32mImporting genotype file...100%|█████████████████████████| Time: 0:01:11\u001b[39m\n",
      "\u001b[32mImporting reference haplotype files...100%|█████████████| Time: 0:02:36\u001b[39m\n",
      "\u001b[32mComputing optimal haplotype pairs...100%|███████████████| Time: 0:07:10\u001b[39m\n",
      "\u001b[32mWriting to file...100%|█████████████████████████████████| Time: 0:01:48\u001b[39m\n"
     ]
    },
    {
     "name": "stdout",
     "output_type": "stream",
     "text": [
      "820.594466 seconds (4.91 G allocations: 446.670 GiB, 4.94% gc time)\n",
      "error = 6.590390719122273e-5\n",
      "\n",
      "running fast method, width = 1000\n",
      "Running chunk 1 / 1\n"
     ]
    },
    {
     "name": "stderr",
     "output_type": "stream",
     "text": [
      "\u001b[32mImporting genotype file...100%|█████████████████████████| Time: 0:01:11\u001b[39m\n",
      "\u001b[32mImporting reference haplotype files...100%|█████████████| Time: 0:02:34\u001b[39m\n",
      "\u001b[32mComputing optimal haplotype pairs...100%|███████████████| Time: 0:09:22\u001b[39m\n",
      "\u001b[32mWriting to file...100%|█████████████████████████████████| Time: 0:01:59\u001b[39m\n"
     ]
    },
    {
     "name": "stdout",
     "output_type": "stream",
     "text": [
      "963.145339 seconds (4.90 G allocations: 450.530 GiB, 4.67% gc time)\n",
      "error = 6.587599757496445e-5\n",
      "\n"
     ]
    }
   ],
   "source": [
    "# unique happairs only method (8 threads, only single bkpt search, 10% overlapping window)\n",
    "cd(\"/Users/biona001/.julia/dev/MendelImpute/data/1000_genome_phase3_v5/split\")\n",
    "function run()\n",
    "    X_complete = convert_gt(Float32, \"tgt_chr22.vcf.gz\")\n",
    "    n, p = size(X_complete)\n",
    "    for width in [500, 1000]\n",
    "        println(\"running fast method, width = $width\")\n",
    "        tgtfile = \"./tgt_masked_unphased_chr22.vcf.gz\"\n",
    "        reffile = \"./ref_chr22.vcf.gz\"\n",
    "        outfile = \"./mendel_imputed_uniqonly_$(width).vcf.gz\"\n",
    "        @time phase(tgtfile, reffile, outfile = outfile, width = width, unique_only=true)\n",
    "        X_mendel = convert_gt(Float32, outfile)\n",
    "        println(\"error = $(sum(X_mendel .!= X_complete) / n / p)\")\n",
    "        X_mendel = nothing\n",
    "        GC.gc()\n",
    "        println(\"\")\n",
    "    end\n",
    "end\n",
    "run()"
   ]
  },
  {
   "cell_type": "code",
   "execution_count": 3,
   "metadata": {
    "collapsed": false
   },
   "outputs": [
    {
     "name": "stdout",
     "output_type": "stream",
     "text": [
      "running fast method, width = 500\n",
      "Running chunk 1 / 1\n"
     ]
    },
    {
     "name": "stderr",
     "output_type": "stream",
     "text": [
      "\u001b[32mImporting genotype file...100%|█████████████████████████| Time: 0:01:06\u001b[39m\n",
      "\u001b[32mImporting reference haplotype files...100%|█████████████| Time: 0:02:16\u001b[39m\n",
      "\u001b[32mComputing optimal haplotype pairs...100%|███████████████| Time: 0:07:05\u001b[39m\n",
      "\u001b[32mImputing samples...100%|████████████████████████████████| Time: 0:31:42\u001b[39m\n",
      "\u001b[32mWriting to file...100%|█████████████████████████████████| Time: 0:01:49\u001b[39m\n"
     ]
    },
    {
     "name": "stdout",
     "output_type": "stream",
     "text": [
      "2694.200313 seconds (4.93 G allocations: 448.141 GiB, 1.26% gc time)\n",
      "error = 6.76560108785482e-5\n",
      "\n"
     ]
    }
   ],
   "source": [
    "# unique happairs only method (8 threads, search both strand bkpts, 10% overlapping window)\n",
    "cd(\"/Users/biona001/.julia/dev/MendelImpute/data/1000_genome_phase3_v5/split\")\n",
    "function run()\n",
    "    X_complete = convert_gt(Float32, \"tgt_chr22.vcf.gz\")\n",
    "    n, p = size(X_complete)\n",
    "    for width in 500\n",
    "        println(\"running fast method, width = $width\")\n",
    "        tgtfile = \"./tgt_masked_unphased_chr22.vcf.gz\"\n",
    "        reffile = \"./ref_chr22.vcf.gz\"\n",
    "        outfile = \"./mendel_imputed_uniqonly_$(width).vcf.gz\"\n",
    "        @time phase(tgtfile, reffile, outfile = outfile, width = width, unique_only=true)\n",
    "        X_mendel = convert_gt(Float32, outfile)\n",
    "        println(\"error = $(sum(X_mendel .!= X_complete) / n / p)\")\n",
    "        X_mendel = nothing\n",
    "        GC.gc()\n",
    "        println(\"\")\n",
    "    end\n",
    "end\n",
    "run()"
   ]
  },
  {
   "cell_type": "markdown",
   "metadata": {},
   "source": [
    "# Run MendelImpute (fast)"
   ]
  },
  {
   "cell_type": "code",
   "execution_count": 2,
   "metadata": {
    "collapsed": false
   },
   "outputs": [
    {
     "data": {
      "text/plain": [
       "8"
      ]
     },
     "execution_count": 2,
     "metadata": {},
     "output_type": "execute_result"
    }
   ],
   "source": [
    "Threads.nthreads()"
   ]
  },
  {
   "cell_type": "code",
   "execution_count": 3,
   "metadata": {
    "collapsed": false
   },
   "outputs": [
    {
     "name": "stdout",
     "output_type": "stream",
     "text": [
      "running fast method, width = 1000\n"
     ]
    },
    {
     "name": "stderr",
     "output_type": "stream",
     "text": [
      "\u001b[32mImporting genotype file...100%|█████████████████████████| Time: 0:01:04\u001b[39m\n",
      "\u001b[32mImporting reference haplotype files...100%|█████████████| Time: 0:02:15\u001b[39m\n",
      "\u001b[32mComputing optimal haplotype pairs...100%|███████████████| Time: 0:27:23\u001b[39m\n",
      "\u001b[32mIntersecting haplotypes...100%|█████████████████████████| Time: 0:00:01\u001b[39m\n",
      "\u001b[32mMerging breakpoints...100%|█████████████████████████████| Time: 0:25:18\u001b[39m\n",
      "\u001b[32mWriting to file...100%|█████████████████████████████████| Time: 0:01:47\u001b[39m\n"
     ]
    },
    {
     "name": "stdout",
     "output_type": "stream",
     "text": [
      "3525.422826 seconds (4.92 G allocations: 451.743 GiB, 0.89% gc time)\n",
      "error = 5.980410550455159e-5\n",
      "\n"
     ]
    }
   ],
   "source": [
    "# fast method\n",
    "cd(\"/Users/biona001/.julia/dev/MendelImpute/data/1000_genome_phase3_v5/split\")\n",
    "function run()\n",
    "    X_complete = convert_gt(Float32, \"tgt_chr22.vcf.gz\")\n",
    "    n, p = size(X_complete)\n",
    "    for width in 1000\n",
    "        println(\"running fast method, width = $width\")\n",
    "        tgtfile = \"./tgt_masked_unphased_chr22.vcf.gz\"\n",
    "        reffile = \"./ref_chr22.vcf.gz\"\n",
    "        outfile = \"./mendel_imputed_fast_$(width).vcf.gz\"\n",
    "        @time phase(tgtfile, reffile, outfile = outfile, width = width, fast_method=true)\n",
    "        X_mendel = convert_gt(Float32, outfile)\n",
    "        println(\"error = $(sum(X_mendel .!= X_complete) / n / p)\")\n",
    "        X_mendel = nothing\n",
    "        GC.gc()\n",
    "        println(\"\")\n",
    "    end\n",
    "end\n",
    "run()"
   ]
  },
  {
   "cell_type": "markdown",
   "metadata": {},
   "source": [
    "# Run MendelImpute (dynamic programming)"
   ]
  },
  {
   "cell_type": "code",
   "execution_count": 2,
   "metadata": {
    "collapsed": false
   },
   "outputs": [
    {
     "data": {
      "text/plain": [
       "8"
      ]
     },
     "execution_count": 2,
     "metadata": {},
     "output_type": "execute_result"
    }
   ],
   "source": [
    "Threads.nthreads()"
   ]
  },
  {
   "cell_type": "code",
   "execution_count": 3,
   "metadata": {
    "collapsed": false
   },
   "outputs": [
    {
     "name": "stdout",
     "output_type": "stream",
     "text": [
      "running dynamic programming, width = 1000\n",
      "Running chunk 1 / 1\n"
     ]
    },
    {
     "name": "stderr",
     "output_type": "stream",
     "text": [
      "\u001b[32mImporting genotype file...100%|█████████████████████████| Time: 0:01:06\u001b[39m\n",
      "\u001b[32mImporting reference haplotype files...100%|█████████████| Time: 0:02:17\u001b[39m\n",
      "\u001b[32mComputing optimal haplotype pairs...100%|███████████████| Time: 0:08:33\u001b[39m\n",
      "\u001b[32mWriting to file...100%|█████████████████████████████████| Time: 0:01:41\u001b[39m\n"
     ]
    },
    {
     "name": "stdout",
     "output_type": "stream",
     "text": [
      "873.752105 seconds (4.92 G allocations: 453.692 GiB, 3.73% gc time)\n",
      "error = 6.543874692025138e-5\n",
      "\n"
     ]
    }
   ],
   "source": [
    "# dynamic programming without searching bkpts\n",
    "cd(\"/Users/biona001/.julia/dev/MendelImpute/data/1000_genome_phase3_v5/split\")\n",
    "function run_dp()\n",
    "    X_complete = convert_gt(Float32, \"tgt_chr22.vcf.gz\")\n",
    "    n, p = size(X_complete)\n",
    "    for width in 1000\n",
    "        println(\"running dynamic programming, width = $width\")\n",
    "        tgtfile = \"./tgt_masked_unphased_chr22.vcf.gz\"\n",
    "        reffile = \"./ref_chr22.vcf.gz\"\n",
    "        outfile = \"./mendel_imputed_dp_$(width).vcf.gz\"\n",
    "        @time phase(tgtfile, reffile, outfile = outfile, width = width, fast_method=false)\n",
    "        X_mendel = convert_gt(Float32, outfile)\n",
    "        println(\"error = $(sum(X_mendel .!= X_complete) / n / p)\")\n",
    "        X_mendel = nothing\n",
    "        GC.gc()\n",
    "        println(\"\")\n",
    "    end\n",
    "end\n",
    "run_dp()"
   ]
  },
  {
   "cell_type": "code",
   "execution_count": 3,
   "metadata": {
    "collapsed": false
   },
   "outputs": [
    {
     "name": "stdout",
     "output_type": "stream",
     "text": [
      "running width = 1000\n"
     ]
    },
    {
     "name": "stderr",
     "output_type": "stream",
     "text": [
      "\u001b[32mImporting genotype and haplotype files...100%|██████████| Time: 0:04:14\u001b[39m\n",
      "\u001b[32mComputing optimal haplotype pairs...100%|███████████████| Time: 0:29:11\u001b[39m\n",
      "\u001b[32mImputing samples...100%|████████████████████████████████| Time: 0:30:50\u001b[39m\n",
      "\u001b[32mWriting to file...100%|█████████████████████████████████| Time: 0:01:48\u001b[39m\n"
     ]
    },
    {
     "name": "stdout",
     "output_type": "stream",
     "text": [
      "4012.073367 seconds (4.91 G allocations: 461.667 GiB, 0.94% gc time)\n",
      "error = 5.823806592561467e-5\n",
      "\n"
     ]
    }
   ],
   "source": [
    "# dynamic programming \n",
    "cd(\"/Users/biona001/.julia/dev/MendelImpute/data/1000_genome_phase3_v5/split\")\n",
    "function run_dp()\n",
    "    X_complete = convert_gt(Float32, \"tgt_chr22.vcf.gz\")\n",
    "    n, p = size(X_complete)\n",
    "    for width in 1000\n",
    "        println(\"running dynamic programming, width = $width\")\n",
    "        tgtfile = \"./tgt_masked_unphased_chr22.vcf.gz\"\n",
    "        reffile = \"./ref_chr22.vcf.gz\"\n",
    "        outfile = \"./mendel_imputed_dp_$(width).vcf.gz\"\n",
    "        @time phase(tgtfile, reffile, outfile = outfile, width = width, fast_method=false)\n",
    "        X_mendel = convert_gt(Float32, outfile)\n",
    "        println(\"error = $(sum(X_mendel .!= X_complete) / n / p)\")\n",
    "        X_mendel = nothing\n",
    "        GC.gc()\n",
    "        println(\"\")\n",
    "    end\n",
    "end\n",
    "run_dp()"
   ]
  },
  {
   "cell_type": "markdown",
   "metadata": {},
   "source": [
    "# Run Beagle 5.0"
   ]
  },
  {
   "cell_type": "code",
   "execution_count": 13,
   "metadata": {
    "collapsed": false
   },
   "outputs": [
    {
     "name": "stdout",
     "output_type": "stream",
     "text": [
      "beagle.28Sep18.793.jar (version 5.0)\n",
      "Copyright (C) 2014-2018 Brian L. Browning\n",
      "Enter \"java -jar beagle.28Sep18.793.jar\" to list command line argument\n",
      "Start time: 12:56 AM PDT on 06 Apr 2020\n",
      "\n",
      "Command line: java -Xmx13653m -jar beagle.28Sep18.793.jar\n",
      "  gt=tgt_masked_unphased_chr22.vcf.gz\n",
      "  ref=ref_chr22.vcf.gz\n",
      "  out=beagle_imputed,\n",
      "  nthreads=4\n",
      "\n",
      "No genetic map is specified: using 1 cM = 1 Mb\n",
      "\n",
      "Reference samples:       2,004\n",
      "Study samples:             500\n",
      "\n",
      "Window 1 (22:16050115-51244237)\n",
      "Reference markers:     644,939\n",
      "Study markers:         644,939\n",
      "\n",
      "Burnin  iteration 1:           3 minutes 25 seconds\n",
      "Burnin  iteration 2:           3 minutes 59 seconds\n",
      "Burnin  iteration 3:           5 minutes 13 seconds\n",
      "Burnin  iteration 4:           6 minutes 47 seconds\n",
      "Burnin  iteration 5:           8 minutes 20 seconds\n",
      "Burnin  iteration 6:           8 minutes 55 seconds\n",
      "\n",
      "Phasing iteration 1:           8 minutes 47 seconds\n",
      "Phasing iteration 2:           8 minutes 37 seconds\n",
      "Phasing iteration 3:           8 minutes 41 seconds\n",
      "Phasing iteration 4:           8 minutes 54 seconds\n",
      "Phasing iteration 5:           8 minutes 50 seconds\n",
      "Phasing iteration 6:           9 minutes 4 seconds\n",
      "Phasing iteration 7:           9 minutes 8 seconds\n",
      "Phasing iteration 8:           9 minutes 6 seconds\n",
      "Phasing iteration 9:           8 minutes 58 seconds\n",
      "Phasing iteration 10:          8 minutes 35 seconds\n",
      "Phasing iteration 11:          8 minutes 22 seconds\n",
      "Phasing iteration 12:          8 minutes 0 seconds\n",
      "\n",
      "Cumulative Statistics:\n",
      "\n",
      "Study markers:         644,939\n",
      "\n",
      "Haplotype phasing time:        2 hours 21 minutes 40 seconds\n",
      "Total time:                    2 hours 23 minutes 51 seconds\n",
      "\n",
      "End time: 03:20 AM PDT on 06 Apr 2020\n",
      "beagle.28Sep18.793.jar finished\n"
     ]
    },
    {
     "data": {
      "text/plain": [
       "Process(`\u001b[4mjava\u001b[24m \u001b[4m-Xmx15g\u001b[24m \u001b[4m-jar\u001b[24m \u001b[4mbeagle.28Sep18.793.jar\u001b[24m \u001b[4mgt=tgt_masked_unphased_chr22.vcf.gz\u001b[24m \u001b[4mref=ref_chr22.vcf.gz\u001b[24m \u001b[4mout=beagle_imputed,\u001b[24m \u001b[4mnthreads=4\u001b[24m`, ProcessExited(0))"
      ]
     },
     "execution_count": 13,
     "metadata": {},
     "output_type": "execute_result"
    }
   ],
   "source": [
    "# beagle 5\n",
    "cd(\"/Users/biona001/.julia/dev/MendelImpute/data/1000_genome_phase3_v5/split\")\n",
    "function run_beagle()\n",
    "    run(`java -Xmx15g -jar beagle.28Sep18.793.jar gt=tgt_masked_unphased_chr22.vcf.gz ref=ref_chr22.vcf.gz out=beagle_imputed nthreads=4`)\n",
    "end\n",
    "run_beagle()"
   ]
  },
  {
   "cell_type": "code",
   "execution_count": 14,
   "metadata": {
    "collapsed": false
   },
   "outputs": [
    {
     "name": "stdout",
     "output_type": "stream",
     "text": [
      "error = 5.513389638399911e-5\n"
     ]
    }
   ],
   "source": [
    "X_complete = convert_gt(Float32, \"tgt_chr22.vcf.gz\")\n",
    "X_beagle = convert_gt(Float32, \"beagle_imputed.vcf.gz\")\n",
    "n, p = size(X_complete)\n",
    "println(\"error = $(sum(X_beagle .!= X_complete) / n / p)\")"
   ]
  },
  {
   "cell_type": "markdown",
   "metadata": {},
   "source": [
    "# Run Minimac 4"
   ]
  },
  {
   "cell_type": "code",
   "execution_count": 3,
   "metadata": {
    "collapsed": false
   },
   "outputs": [
    {
     "ename": "Base.IOError",
     "evalue": "IOError: could not spawn `minimac4 --refHaps ref_chr22.m3vcf.gz --haps tgt_masked_chr22.vcf.gz --prefix minimac_imputed_chr22 --format GT --cpus 4`: no such file or directory (ENOENT)",
     "output_type": "error",
     "traceback": [
      "IOError: could not spawn `minimac4 --refHaps ref_chr22.m3vcf.gz --haps tgt_masked_chr22.vcf.gz --prefix minimac_imputed_chr22 --format GT --cpus 4`: no such file or directory (ENOENT)",
      "",
      "Stacktrace:",
      " [1] _spawn_primitive(::String, ::Cmd, ::Array{Any,1}) at ./process.jl:99",
      " [2] #554 at ./process.jl:112 [inlined]",
      " [3] setup_stdios(::Base.var\"#554#555\"{Cmd}, ::Array{Any,1}) at ./process.jl:196",
      " [4] _spawn at ./process.jl:111 [inlined]",
      " [5] #run#565(::Bool, ::typeof(run), ::Cmd) at ./process.jl:439",
      " [6] run(::Cmd) at ./process.jl:438",
      " [7] top-level scope at In[3]:3"
     ]
    }
   ],
   "source": [
    "# minimac 4: beagle4's prephasing increases total number of snps, so just use true phase info\n",
    "cd(\"/Users/biona001/.julia/dev/MendelImpute/data/1000_genome_phase3_v5/split\")\n",
    "run(`minimac4 --refHaps ref_chr22.m3vcf.gz --haps tgt_masked_chr22.vcf.gz --prefix minimac_imputed_chr22 --format GT --cpus 4`)"
   ]
  },
  {
   "cell_type": "markdown",
   "metadata": {},
   "source": [
    "## Minimac4 output (ran in terminal)\n",
    "\n",
    "```(base) $ minimac4 --refHaps ref_chr22.m3vcf.gz --haps tgt_masked_chr22.vcf.gz --prefix minimac_imputed_chr22 --format GT --cpus 4```\n",
    "\n",
    "\n",
    " --------------------------------------------------------------------------------\n",
    "          Minimac4 - Fast Imputation Based on State Space Reduction HMM\n",
    " --------------------------------------------------------------------------------\n",
    "           (c) 2014 - Sayantan Das, Christian Fuchsberger, David Hinds\n",
    "                             Mary Kate Wing, Goncalo Abecasis\n",
    "\n",
    " Version: 1.0.2;\n",
    " Built: Mon Sep 30 11:52:22 PDT 2019 by biona001\n",
    "\n",
    " URL = http://genome.sph.umich.edu/wiki/Minimac4\n",
    "\n",
    " Command Line Options:\n",
    "       Reference Haplotypes : --refHaps [ref_chr22.m3vcf.gz], --passOnly,\n",
    "                              --rsid, --referenceEstimates [ON],\n",
    "                              --mapFile [docs/geneticMapFile.b38.map.txt.gz]\n",
    "          Target Haplotypes : --haps [tgt_masked_chr22.vcf.gz]\n",
    "          Output Parameters : --prefix [minimac_imputed_chr22], --estimate,\n",
    "                              --nobgzip, --vcfBuffer [200], --format [GT],\n",
    "                              --allTypedSites, --meta, --memUsage\n",
    "        Chunking Parameters : --ChunkLengthMb [20.00], --ChunkOverlapMb [3.00]\n",
    "          Subset Parameters : --chr [], --start, --end, --window\n",
    "   Approximation Parameters : --minimac3, --probThreshold [0.01],\n",
    "                              --diffThreshold [0.01], --topThreshold [0.01]\n",
    "           Other Parameters : --log, --help, --cpus [4], --params\n",
    "                  PhoneHome : --noPhoneHome, --phoneHomeThinning [50]\n",
    "\n",
    " Starting Main Imputation/Estimation Analysis ...\n",
    "\n",
    " Performing preliminary check on input parameters...\n",
    "\n",
    " ------------------------------------------------------------------------------\n",
    "                             PRELIMINARY FILE CHECK\n",
    " ------------------------------------------------------------------------------\n",
    "\n",
    " Checking GWAS haplotype file : tgt_masked_chr22.vcf.gz\n",
    "\n",
    " Gathering variant information ...\n",
    "\n",
    " Successful !!!\n",
    "\n",
    " Checking Reference haplotype file : ref_chr22.m3vcf.gz\n",
    "\n",
    " Gathering variant information ...\n",
    "\n",
    " Successful !!!\n",
    "\n",
    " Reference Panel   : Found 2004 samples (4008 haplotypes) and 644939 variants ...\n",
    "\n",
    " Target/GWAS Panel : Found 500 samples (1000 haplotypes) and 644939 variants ...\n",
    "                     644939 variants overlap with Reference panel\n",
    "                     0 variants imported that exist only in Target/GWAS panel\n",
    "\n",
    " ------------------------------------------------------------------------------\n",
    "                           CHUNKING INFORMATION\n",
    " ------------------------------------------------------------------------------\n",
    "\n",
    " Chunking region into 1 chunk(s) with atleast 644939 variants in each chunk ...\n",
    "\n",
    " Details of chunks is given below ...\n",
    "\n",
    " No   LeftBuffer      LeftEnd   RightPoint  RightBuffer       #Sites(GWAS/Ref/%)\n",
    " -------------------------------------------------------------------------------\n",
    "  1     16050115     16050115     51244237     51244237   644939/  644939/ 100.00%\n",
    "\n",
    "\n",
    " ------------------------------------------------------------------------------\n",
    "                           MAIN IMPUTATION ANALYSIS\n",
    " ------------------------------------------------------------------------------\n",
    "\n",
    " Starting imputation analysis of 1 chunk(s) ...\n",
    "\n",
    " -------------------------------------------\n",
    " Analyzing Chunk 1/1 [22:16050115-51244237]\n",
    " -------------------------------------------\n",
    "\n",
    " Reading chunk from reference panel ...\n",
    " Reading chunk from target/GWAS panel ...\n",
    "\n",
    " Compressing reference panel at GWAS sites ...\n",
    " Re-compression successful (1079 seconds) !!!\n",
    "\n",
    " Starting Imputation ...\n",
    "\n",
    "  Imputing Samples 1-200 [40%] out of 500 samples ...\n",
    "       Saving Samples in temporary VCF file ...\n",
    "  Imputing Samples 201-400 [80%] out of 500 samples ...\n",
    "       Saving Samples in temporary VCF file ...\n",
    "  Imputing Samples 401-500 [100%] out of 500 samples ...\n",
    "       Saving Samples in temporary VCF file ...\n",
    "\n",
    " Imputation successful (9418 seconds) !!!\n",
    "\n",
    " Appending chunk to final output VCF File :  minimac_imputed_chr22.dose.vcf.gz\n",
    " Appending successful (19 seconds) !!!\n",
    "\n",
    " Time taken for this chunk = 10597 seconds.\n",
    "\n",
    " ------------------------------------------------------------------------------\n",
    "                              SUMMARY OF ANALYSIS\n",
    " ------------------------------------------------------------------------------\n",
    "\n",
    " Info file written to                    : minimac_imputed_chr22.info\n",
    " Imputed VCF information written to      : minimac_imputed_chr22.dose.vcf.gz\n",
    "\n",
    " Time Taken for Reading File             = 114 seconds\n",
    " Time Taken for Re-compression           = 1079 seconds\n",
    " Time Taken for Imputation               = 9373 seconds\n",
    " Time Taken for Writing File             = 64 seconds\n",
    "\n",
    " ------------------------------------------------------------------------------\n",
    "                                END OF PROGRAM\n",
    " ------------------------------------------------------------------------------\n",
    "\n",
    " Program Successfully Implemented...\n",
    "\n",
    " Total Run completed in 2 hours, 57 mins, 27 seconds.\n",
    "\n",
    " Thank You for using Minimac4 !!!"
   ]
  },
  {
   "cell_type": "code",
   "execution_count": 3,
   "metadata": {
    "collapsed": false
   },
   "outputs": [
    {
     "name": "stdout",
     "output_type": "stream",
     "text": [
      "error = 0.001040730983860489\n"
     ]
    }
   ],
   "source": [
    "X_complete = convert_gt(Float32, \"tgt_chr22.vcf.gz\")\n",
    "X_minimac = convert_gt(Float32, \"minimac_imputed_chr22.dose.vcf.gz\")\n",
    "n, p = size(X_complete)\n",
    "println(\"error = $(sum(X_minimac .!= X_complete) / n / p)\")"
   ]
  },
  {
   "cell_type": "markdown",
   "metadata": {},
   "source": [
    "# Prephase using beagle 4.1"
   ]
  },
  {
   "cell_type": "code",
   "execution_count": null,
   "metadata": {
    "collapsed": false,
    "scrolled": true
   },
   "outputs": [
    {
     "name": "stdout",
     "output_type": "stream",
     "text": [
      "beagle.27Jan18.7e1.jar (version 4.1)\n",
      "Copyright (C) 2014-2015 Brian L. Browning\n",
      "Enter \"java -jar beagle.27Jan18.7e1.jar\" for a summary of command line arguments.\n",
      "Start time: 08:50 PM PDT on 16 Apr 2020\n",
      "\n",
      "Command line: java -Xmx38229m -jar beagle.jar\n",
      "  gt=tgt_masked_unphased_chr22.vcf.gz\n",
      "  ref=ref_chr22.vcf.gz\n",
      "  out=tgt_masked_prephased_chr22\n",
      "  niterations=0\n",
      "  impute=false\n",
      "  nthreads=4\n",
      "\n",
      "No genetic map is specified: using 1 cM = 1 Mb\n",
      "\n",
      "reference samples:    2004\n",
      "target samples:        500\n",
      "\n",
      "Window 1 [ 22:16050115-19217267 ]\n",
      "reference markers:   50000\n",
      "target markers:      50000\n",
      "\n",
      "Starting burn-in iterations\n",
      "\n",
      "Window=1 Iteration=1\n",
      "Time for building model:         13 minutes 3 seconds\n",
      "Time for sampling (singles):     1 minute 55 seconds\n",
      "DAG statistics\n",
      "mean edges/level: 243    max edges/level: 515\n",
      "mean edges/node:  1.046  mean count/edge: 21\n",
      "\n",
      "Window=1 Iteration=2\n",
      "Time for building model:         12 minutes 17 seconds\n",
      "Time for sampling (singles):     1 minute 3 seconds\n",
      "DAG statistics\n",
      "mean edges/level: 256    max edges/level: 510\n",
      "mean edges/node:  1.027  mean count/edge: 20\n",
      "\n",
      "Window=1 Iteration=3\n",
      "Time for building model:         11 minutes 23 seconds\n",
      "Time for sampling (singles):     49 seconds\n",
      "DAG statistics\n",
      "mean edges/level: 269    max edges/level: 573\n",
      "mean edges/node:  1.023  mean count/edge: 19\n",
      "\n",
      "Window=1 Iteration=4\n",
      "Time for building model:         11 minutes 13 seconds\n",
      "Time for sampling (singles):     49 seconds\n",
      "DAG statistics\n",
      "mean edges/level: 276    max edges/level: 524\n",
      "mean edges/node:  1.022  mean count/edge: 18\n",
      "\n",
      "Window=1 Iteration=5\n",
      "Time for building model:         12 minutes 7 seconds\n",
      "Time for sampling (singles):     47 seconds\n",
      "DAG statistics\n",
      "mean edges/level: 278    max edges/level: 593\n",
      "mean edges/node:  1.021  mean count/edge: 18\n",
      "\n",
      "Window=1 Iteration=6\n",
      "Time for building model:         11 minutes 0 seconds\n",
      "Time for sampling (singles):     48 seconds\n",
      "DAG statistics\n",
      "mean edges/level: 281    max edges/level: 526\n",
      "mean edges/node:  1.021  mean count/edge: 18\n",
      "\n",
      "Window=1 Iteration=7\n",
      "Time for building model:         11 minutes 41 seconds\n",
      "Time for sampling (singles):     47 seconds\n",
      "DAG statistics\n",
      "mean edges/level: 280    max edges/level: 591\n",
      "mean edges/node:  1.021  mean count/edge: 18\n",
      "\n",
      "Window=1 Iteration=8\n",
      "Time for building model:         11 minutes 10 seconds\n",
      "Time for sampling (singles):     48 seconds\n",
      "DAG statistics\n",
      "mean edges/level: 281    max edges/level: 538\n",
      "mean edges/node:  1.021  mean count/edge: 18\n",
      "\n",
      "Window=1 Iteration=9\n",
      "Time for building model:         10 minutes 54 seconds\n",
      "Time for sampling (singles):     46 seconds\n",
      "DAG statistics\n",
      "mean edges/level: 282    max edges/level: 573\n",
      "mean edges/node:  1.021  mean count/edge: 18\n",
      "\n",
      "Window=1 Iteration=10\n",
      "Time for building model:         11 minutes 0 seconds\n",
      "Time for sampling (singles):     47 seconds\n",
      "DAG statistics\n",
      "mean edges/level: 282    max edges/level: 544\n",
      "mean edges/node:  1.021  mean count/edge: 18\n",
      "\n",
      "Window 2 [ 22:19060789-22327135 ]\n",
      "reference markers:   50000\n",
      "target markers:      50000\n",
      "\n",
      "Starting burn-in iterations\n",
      "\n",
      "Window=2 Iteration=1\n",
      "Time for building model:         16 minutes 46 seconds\n",
      "Time for sampling (singles):     1 minute 56 seconds\n",
      "DAG statistics\n",
      "mean edges/level: 329    max edges/level: 588\n",
      "mean edges/node:  1.029  mean count/edge: 15\n",
      "\n",
      "Window=2 Iteration=2\n",
      "Time for building model:         16 minutes 42 seconds\n",
      "Time for sampling (singles):     1 minute 0 seconds\n",
      "DAG statistics\n",
      "mean edges/level: 351    max edges/level: 646\n",
      "mean edges/node:  1.016  mean count/edge: 14\n",
      "\n",
      "Window=2 Iteration=3\n",
      "Time for building model:         15 minutes 5 seconds\n",
      "Time for sampling (singles):     48 seconds\n",
      "DAG statistics\n",
      "mean edges/level: 367    max edges/level: 701\n",
      "mean edges/node:  1.013  mean count/edge: 14\n",
      "\n",
      "Window=2 Iteration=4\n",
      "Time for building model:         15 minutes 3 seconds\n",
      "Time for sampling (singles):     40 seconds\n",
      "DAG statistics\n",
      "mean edges/level: 379    max edges/level: 693\n",
      "mean edges/node:  1.013  mean count/edge: 13\n",
      "\n",
      "Window=2 Iteration=5\n",
      "Time for building model:         15 minutes 51 seconds\n",
      "Time for sampling (singles):     40 seconds\n",
      "DAG statistics\n",
      "mean edges/level: 378    max edges/level: 733\n",
      "mean edges/node:  1.012  mean count/edge: 13\n",
      "\n",
      "Window=2 Iteration=6\n",
      "Time for building model:         16 minutes 17 seconds\n",
      "Time for sampling (singles):     41 seconds\n",
      "DAG statistics\n",
      "mean edges/level: 386    max edges/level: 717\n",
      "mean edges/node:  1.012  mean count/edge: 13\n",
      "\n",
      "Window=2 Iteration=7\n",
      "Time for building model:         16 minutes 44 seconds\n",
      "Time for sampling (singles):     41 seconds\n",
      "DAG statistics\n",
      "mean edges/level: 384    max edges/level: 737\n",
      "mean edges/node:  1.012  mean count/edge: 13\n"
     ]
    },
    {
     "ename": "ProcessFailedException",
     "evalue": "failed process: Process(`java -Xmx42g -jar beagle.27Jan18.7e1.jar gt=tgt_masked_unphased_chr22.vcf.gz ref=ref_chr22.vcf.gz out=tgt_masked_prephased_chr22 niterations=0 impute=false nthreads=4`, ProcessExited(130)) [130]\n",
     "output_type": "error",
     "traceback": [
      "failed process: Process(`java -Xmx42g -jar beagle.27Jan18.7e1.jar gt=tgt_masked_unphased_chr22.vcf.gz ref=ref_chr22.vcf.gz out=tgt_masked_prephased_chr22 niterations=0 impute=false nthreads=4`, ProcessExited(130)) [130]\n",
      "",
      "Stacktrace:",
      " [1] pipeline_error at ./process.jl:525 [inlined]",
      " [2] #run#565(::Bool, ::typeof(run), ::Cmd) at ./process.jl:440",
      " [3] run at ./process.jl:438 [inlined]",
      " [4] prephase() at ./In[3]:3",
      " [5] top-level scope at In[3]:5"
     ]
    }
   ],
   "source": [
    "cd(\"/Users/biona001/.julia/dev/MendelImpute/data/1000_genome_phase3_v5/split\")\n",
    "function prephase()\n",
    "    run(`java -Xmx42g -jar beagle.27Jan18.7e1.jar gt=tgt_masked_unphased_chr22.vcf.gz ref=ref_chr22.vcf.gz out=tgt_masked_prephased_chr22 niterations=0 impute=false nthreads=4`)\n",
    "end\n",
    "prephase()"
   ]
  },
  {
   "cell_type": "markdown",
   "metadata": {
    "collapsed": true
   },
   "source": [
    "## Scripts for submitting jobs on Hoffman"
   ]
  },
  {
   "cell_type": "code",
   "execution_count": null,
   "metadata": {
    "collapsed": true
   },
   "outputs": [],
   "source": [
    "# convert to m3vcf file using minimac3\n",
    "cd(\"/u/home/b/biona001/haplotype_comparisons/data\") \n",
    "open(\"minimac3.sh\", \"w\") do io\n",
    "    println(io, \"#!/bin/bash\")\n",
    "    println(io, \"#\\$ -cwd\")\n",
    "    println(io, \"# error = Merged with joblog\")\n",
    "    println(io, \"#\\$ -o joblog.\\$JOB_ID\")\n",
    "    println(io, \"#\\$ -j y\")\n",
    "    println(io, \"#\\$ -l exclusive,h_rt=24:00:00,h_data=20G\")\n",
    "    println(io, \"# Email address to notify\")\n",
    "    println(io, \"#\\$ -M \\$USER@mail\")\n",
    "    println(io, \"# Notify when\")\n",
    "    println(io, \"#\\$ -m a\")\n",
    "    println(io)\n",
    "    println(io, \"echo \\\"Job \\$JOB_ID started on:   \\\" `hostname -s`\")\n",
    "    println(io, \"echo \\\"Job \\$JOB_ID started on:   \\\" `date `\")\n",
    "    println(io)\n",
    "    println(io, \"# load the job environment:\")\n",
    "    println(io, \". /u/local/Modules/default/init/modules.sh\")\n",
    "    println(io, \"module load julia/1.2.0\")\n",
    "    println(io, \"module load R/3.5.1\")\n",
    "    println(io, \"module load java/1.8.0_111\")\n",
    "    println(io)\n",
    "    println(io, \"echo \\'converting chr22 from vcf.gz to m3vcf.gz\\' \")\n",
    "    println(io, \"/u/home/b/biona001/haplotype_comparisons/Minimac3/bin/Minimac3 --refHaps chr22.uniqueSNPs.vcf.gz --processReference --prefix chr22.uniqueSNPs\")\n",
    "#     println(io, \"/u/home/b/biona001/haplotype_comparisons/Minimac3/bin/Minimac3 --refHaps ref_chr21.vcf.gz --processReference --prefix ref_chr21\")\n",
    "#     println(io, \"/u/home/b/biona001/haplotype_comparisons/Minimac3/bin/Minimac3 --refHaps ref_chr20.vcf.gz --processReference --prefix ref_chr20\")\n",
    "    println(io)\n",
    "    println(io, \"echo \\\"Job \\$JOB_ID ended on:   \\\" `hostname -s`\")\n",
    "    println(io, \"echo \\\"Job \\$JOB_ID ended on:   \\\" `date `\")\n",
    "    println(io)\n",
    "end\n",
    "# submit job\n",
    "run(`qsub minimac3.sh`)\n",
    "rm(\"minimac3.sh\", force=true)"
   ]
  },
  {
   "cell_type": "code",
   "execution_count": null,
   "metadata": {
    "collapsed": true
   },
   "outputs": [],
   "source": [
    "# run mendel dp and fast method\n",
    "cd(\"/u/home/b/biona001/haplotype_comparisons/data\") \n",
    "for w in [400, 800, 1200, 1600]\n",
    "    open(\"mendel.sh\", \"w\") do io\n",
    "        println(io, \"#!/bin/bash\")\n",
    "        println(io, \"#\\$ -cwd\")\n",
    "        println(io, \"# error = Merged with joblog\")\n",
    "        println(io, \"#\\$ -o joblog.\\$JOB_ID\")\n",
    "        println(io, \"#\\$ -j y\")\n",
    "        println(io, \"#\\$ -l exclusive,h_rt=24:00:00,h_data=20G\")\n",
    "        println(io, \"# Email address to notify\")\n",
    "        println(io, \"#\\$ -M \\$USER@mail\")\n",
    "        println(io, \"# Notify when\")\n",
    "        println(io, \"#\\$ -m a\")\n",
    "        println(io)\n",
    "        println(io, \"echo \\\"Job \\$JOB_ID started on:   \\\" `hostname -s`\")\n",
    "        println(io, \"echo \\\"Job \\$JOB_ID started on:   \\\" `date `\")\n",
    "        println(io)\n",
    "        println(io, \"# load the job environment:\")\n",
    "        println(io, \". /u/local/Modules/default/init/modules.sh\")\n",
    "        println(io, \"module load julia/1.2.0\")\n",
    "        println(io, \"module load java/1.8.0_111\")\n",
    "        println(io)\n",
    "        println(io, \"echo \\'run mendel (dp and fast method) on chr 20, 21, 22. width = $w on 4 threads\\' \")\n",
    "        println(io, \"export JULIA_NUM_THREADS=4\")\n",
    "        println(io, \"julia mendel.jl $w\")\n",
    "        println(io)\n",
    "        println(io, \"echo \\\"Job \\$JOB_ID ended on:   \\\" `hostname -s`\")\n",
    "        println(io, \"echo \\\"Job \\$JOB_ID ended on:   \\\" `date `\")\n",
    "        println(io)\n",
    "    end\n",
    "    # submit job\n",
    "    run(`qsub mendel.sh`)\n",
    "    rm(\"mendel.sh\", force=true)\n",
    "end"
   ]
  },
  {
   "cell_type": "code",
   "execution_count": null,
   "metadata": {
    "collapsed": true
   },
   "outputs": [],
   "source": [
    "# run beagle 5\n",
    "cd(\"/u/home/b/biona001/haplotype_comparisons/data\") \n",
    "open(\"beagle.sh\", \"w\") do io\n",
    "    println(io, \"#!/bin/bash\")\n",
    "    println(io, \"#\\$ -cwd\")\n",
    "    println(io, \"# error = Merged with joblog\")\n",
    "    println(io, \"#\\$ -o joblog.\\$JOB_ID\")\n",
    "    println(io, \"#\\$ -j y\")\n",
    "    println(io, \"#\\$ -l exclusive,h_rt=24:00:00,h_data=20G\")\n",
    "    println(io, \"# Email address to notify\")\n",
    "    println(io, \"#\\$ -M \\$USER@mail\")\n",
    "    println(io, \"# Notify when\")\n",
    "    println(io, \"#\\$ -m a\")\n",
    "    println(io)\n",
    "    println(io, \"echo \\\"Job \\$JOB_ID started on:   \\\" `hostname -s`\")\n",
    "    println(io, \"echo \\\"Job \\$JOB_ID started on:   \\\" `date `\")\n",
    "    println(io)\n",
    "    println(io, \"# load the job environment:\")\n",
    "    println(io, \". /u/local/Modules/default/init/modules.sh\")\n",
    "    println(io, \"module load julia/1.2.0\")\n",
    "    println(io, \"module load java/1.8.0_111\")\n",
    "    println(io)\n",
    "    println(io, \"echo \\'run beagle 5.0 on chr 20, 21 with 12 threads\\' \")\n",
    "    println(io, \"java -Xmx42g -jar beagle5.0.jar gt=tgt_masked_unphased_chr20.vcf.gz ref=ref_chr20.vcf.gz out=beagle_imputed_chr20 nthreads=4\")\n",
    "    println(io, \"java -Xmx42g -jar beagle5.0.jar gt=tgt_masked_unphased_chr21.vcf.gz ref=ref_chr21.vcf.gz out=beagle_imputed_chr21 nthreads=4\")\n",
    "    println(io)\n",
    "    println(io, \"echo \\\"Job \\$JOB_ID ended on:   \\\" `hostname -s`\")\n",
    "    println(io, \"echo \\\"Job \\$JOB_ID ended on:   \\\" `date `\")\n",
    "    println(io)\n",
    "end\n",
    "# submit job\n",
    "run(`qsub beagle.sh`)\n",
    "rm(\"beagle.sh\", force=true)"
   ]
  },
  {
   "cell_type": "code",
   "execution_count": null,
   "metadata": {
    "collapsed": true
   },
   "outputs": [],
   "source": [
    "# prephase using beagle 4 (this takes like 3 days or so per chrom)\n",
    "cd(\"/u/home/b/biona001/haplotype_comparisons/data\") \n",
    "open(\"beagle.sh\", \"w\") do io\n",
    "    println(io, \"#!/bin/bash\")\n",
    "    println(io, \"#\\$ -cwd\")\n",
    "    println(io, \"# error = Merged with joblog\")\n",
    "    println(io, \"#\\$ -o joblog.\\$JOB_ID\")\n",
    "    println(io, \"#\\$ -j y\")\n",
    "    println(io, \"#\\$ -l highp,h_rt=200:00:00,h_data=25G\")\n",
    "    println(io, \"# Email address to notify\")\n",
    "    println(io, \"#\\$ -M \\$USER@mail\")\n",
    "    println(io, \"# Notify when\")\n",
    "    println(io, \"#\\$ -m a\")\n",
    "    println(io)\n",
    "    println(io, \"echo \\\"Job \\$JOB_ID started on:   \\\" `hostname -s`\")\n",
    "    println(io, \"echo \\\"Job \\$JOB_ID started on:   \\\" `date `\")\n",
    "    println(io)\n",
    "    println(io, \"# load the job environment:\")\n",
    "    println(io, \". /u/local/Modules/default/init/modules.sh\")\n",
    "    println(io, \"module load julia/1.2.0\")\n",
    "    println(io, \"module load java/1.8.0_111\")\n",
    "    println(io)\n",
    "    println(io, \"echo \\'prephase using beagle 4.1 on chr 20, 4 threads\\' \")\n",
    "    println(io, \"java -Xmx20g -jar beagle4.1.jar gt=tgt_masked_unphased_chr20.vcf.gz ref=ref_chr20.vcf.gz out=tgt_masked_prephased_chr20 niterations=0 impute=false nthreads=4\")\n",
    "#     println(io, \"java -Xmx20g -jar beagle4.1.jar gt=tgt_masked_unphased_chr21.vcf.gz ref=ref_chr21.vcf.gz out=tgt_masked_prephased_chr21 niterations=0 impute=false nthreads=4\")\n",
    "#     println(io, \"java -Xmx20g -jar beagle4.1.jar gt=tgt_masked_unphased_chr22.vcf.gz ref=ref_chr22.vcf.gz out=tgt_masked_prephased_chr22 niterations=0 impute=false nthreads=4\")\n",
    "    println(io)\n",
    "    println(io, \"echo \\\"Job \\$JOB_ID ended on:   \\\" `hostname -s`\")\n",
    "    println(io, \"echo \\\"Job \\$JOB_ID ended on:   \\\" `date `\")\n",
    "    println(io)\n",
    "end\n",
    "# submit job\n",
    "run(`qsub beagle.sh`)\n",
    "rm(\"beagle.sh\", force=true)"
   ]
  },
  {
   "cell_type": "code",
   "execution_count": null,
   "metadata": {
    "collapsed": true
   },
   "outputs": [],
   "source": [
    "# run minimac 4\n",
    "cd(\"/u/home/b/biona001/haplotype_comparisons/data\") \n",
    "open(\"minimac.sh\", \"w\") do io\n",
    "    println(io, \"#!/bin/bash\")\n",
    "    println(io, \"#\\$ -cwd\")\n",
    "    println(io, \"# error = Merged with joblog\")\n",
    "    println(io, \"#\\$ -o joblog.\\$JOB_ID\")\n",
    "    println(io, \"#\\$ -j y\")\n",
    "    println(io, \"#\\$ -l arch=intel-X5650,exclusive,h_rt=24:00:00,h_data=20G\")\n",
    "    println(io, \"# Email address to notify\")\n",
    "    println(io, \"#\\$ -M \\$USER@mail\")\n",
    "    println(io, \"# Notify when\")\n",
    "    println(io, \"#\\$ -m a\")\n",
    "    println(io)\n",
    "    println(io, \"echo \\\"Job \\$JOB_ID started on:   \\\" `hostname -s`\")\n",
    "    println(io, \"echo \\\"Job \\$JOB_ID started on:   \\\" `date `\")\n",
    "    println(io)\n",
    "    println(io, \"# load the job environment:\")\n",
    "    println(io, \". /u/local/Modules/default/init/modules.sh\")\n",
    "    println(io, \"module load julia/1.2.0\")\n",
    "    println(io, \"module load java/1.8.0_111\")\n",
    "    println(io)\n",
    "    println(io, \"echo \\'run minimac4 on chr 22 with 8 threads\\' \")\n",
    "#     println(io, \"/u/home/b/biona001/haplotype_comparisons/Minimac4/build/minimac4 --refHaps ref_chr20.m3vcf.gz --haps tgt_masked_prephased_chr20.vcf.gz --prefix minimac_imputed_chr20 --format GT --cpus 12\")\n",
    "#     println(io, \"/u/home/b/biona001/haplotype_comparisons/Minimac4/build/minimac4 --refHaps ref_chr21.m3vcf.gz --haps tgt_masked_prephased_chr21.vcf.gz --prefix minimac_imputed_chr21 --format GT --cpus 12\")\n",
    "    println(io, \"/u/home/b/biona001/haplotype_comparisons/Minimac4/build/minimac4 --refHaps ref_chr22.m3vcf.gz --haps tgt_masked_chr22.vcf.gz --prefix minimac_imputed_chr22 --format GT --cpus 12\")\n",
    "    println(io)\n",
    "    println(io, \"echo \\\"Job \\$JOB_ID ended on:   \\\" `hostname -s`\")\n",
    "    println(io, \"echo \\\"Job \\$JOB_ID ended on:   \\\" `date `\")\n",
    "    println(io)\n",
    "end\n",
    "# submit job\n",
    "run(`qsub minimac.sh`)\n",
    "rm(\"minimac.sh\", force=true)"
   ]
  },
  {
   "cell_type": "markdown",
   "metadata": {},
   "source": [
    "# Error rate\n",
    "\n",
    "## Chr 20\n",
    "+ mendel = 2 hours 39 minutes (1 core, width = 400)\n",
    "+ beagle = 8 hours 42 minutes (4 cores)"
   ]
  },
  {
   "cell_type": "code",
   "execution_count": 6,
   "metadata": {
    "collapsed": false
   },
   "outputs": [
    {
     "name": "stderr",
     "output_type": "stream",
     "text": [
      "\u001b[32mimporting 100%|█████████████████████████████████████████| Time: 0:01:26\u001b[39m\n",
      "\u001b[32mimporting 100%|█████████████████████████████████████████| Time: 0:01:31\u001b[39m\n",
      "\u001b[32mimporting 100%|█████████████████████████████████████████| Time: 0:01:37\u001b[39m\n",
      "\u001b[32mimporting 100%|█████████████████████████████████████████| Time: 0:01:39\u001b[39m\n",
      "\u001b[32mimporting 100%|█████████████████████████████████████████| Time: 0:01:39\u001b[39m\n",
      "\u001b[32mimporting 100%|█████████████████████████████████████████| Time: 0:01:37\u001b[39m\n"
     ]
    },
    {
     "name": "stdout",
     "output_type": "stream",
     "text": [
      "mendel_400_error = 4.8138136864388806e-5\n",
      "mendel_800_error = 4.594022449554055e-5\n",
      "mendel_1200_error = 4.7831585928733656e-5\n",
      "mendel_1600_error = 5.1918931737469005e-5\n",
      "beagle_error = 3.673020047274396e-5\n"
     ]
    },
    {
     "data": {
      "text/plain": [
       "3.673020047274396e-5"
      ]
     },
     "execution_count": 6,
     "metadata": {},
     "output_type": "execute_result"
    }
   ],
   "source": [
    "# chr20\n",
    "X_complete = convert_gt(Float32, \"tgt_chr20.vcf.gz\", msg=\"importing \")\n",
    "X_mendel_400 = convert_gt(Float32, \"mendel_imputed_fast_chr20_400.vcf.gz\", msg=\"importing \")\n",
    "X_mendel_800 = convert_gt(Float32, \"mendel_imputed_fast_chr20_800.vcf.gz\", msg=\"importing \")\n",
    "X_mendel_1200 = convert_gt(Float32, \"mendel_imputed_fast_chr20_1200.vcf.gz\", msg=\"importing \")\n",
    "X_mendel_1600 = convert_gt(Float32, \"mendel_imputed_fast_chr20_1600.vcf.gz\", msg=\"importing \")\n",
    "X_beagle = convert_gt(Float32, \"beagle_imputed_chr20.vcf.gz\", msg=\"importing \")\n",
    "n, p = size(X_complete)\n",
    "mendel_400_error = sum(X_complete .!= X_mendel_400) / n / p\n",
    "mendel_800_error = sum(X_complete .!= X_mendel_800) / n / p\n",
    "mendel_1200_error = sum(X_complete .!= X_mendel_1200) / n / p\n",
    "mendel_1600_error = sum(X_complete .!= X_mendel_1600) / n / p\n",
    "beagle_error = sum(X_complete .!= X_beagle) / n / p\n",
    "\n",
    "@show mendel_400_error\n",
    "@show mendel_800_error\n",
    "@show mendel_1200_error\n",
    "@show mendel_1600_error\n",
    "@show beagle_error"
   ]
  },
  {
   "cell_type": "code",
   "execution_count": 3,
   "metadata": {
    "collapsed": false
   },
   "outputs": [
    {
     "name": "stderr",
     "output_type": "stream",
     "text": [
      "\u001b[32mimporting 100%|█████████████████████████████████████████| Time: 0:01:00\u001b[39m\n",
      "\u001b[32mimporting 100%|█████████████████████████████████████████| Time: 0:01:02\u001b[39m\n",
      "\u001b[32mimporting 100%|█████████████████████████████████████████| Time: 0:01:03\u001b[39m\n"
     ]
    },
    {
     "name": "stdout",
     "output_type": "stream",
     "text": [
      "mendel_400_error = 5.7447779315891646e-5\n",
      "beagle_error = 5.55236762124247e-5\n"
     ]
    },
    {
     "data": {
      "text/plain": [
       "5.55236762124247e-5"
      ]
     },
     "execution_count": 3,
     "metadata": {},
     "output_type": "execute_result"
    }
   ],
   "source": [
    "# chr21\n",
    "X_complete = convert_gt(Float32, \"tgt_chr21.vcf.gz\", msg=\"importing \")\n",
    "X_mendel_400 = convert_gt(Float32, \"mendel_imputed_fast_chr21_400.vcf.gz\", msg=\"importing \")\n",
    "X_beagle = convert_gt(Float32, \"beagle_imputed_chr21.vcf.gz\", msg=\"importing \")\n",
    "n, p = size(X_complete)\n",
    "mendel_400_error = sum(X_complete .!= X_mendel_400) / n / p\n",
    "beagle_error = sum(X_complete .!= X_beagle) / n / p\n",
    "\n",
    "@show mendel_400_error\n",
    "@show beagle_error"
   ]
  },
  {
   "cell_type": "code",
   "execution_count": 7,
   "metadata": {
    "collapsed": false
   },
   "outputs": [
    {
     "name": "stderr",
     "output_type": "stream",
     "text": [
      "\u001b[32mimporting 100%|█████████████████████████████████████████| Time: 0:00:59\u001b[39m\n",
      "\u001b[32mimporting 100%|█████████████████████████████████████████| Time: 0:01:00\u001b[39m\n"
     ]
    },
    {
     "ename": "SystemError",
     "evalue": "SystemError: opening file \"mendel_imputed_dp_chr22_1000.vcf.gz\": No such file or directory",
     "output_type": "error",
     "traceback": [
      "SystemError: opening file \"mendel_imputed_dp_chr22_1000.vcf.gz\": No such file or directory",
      "",
      "Stacktrace:",
      " [1] #systemerror#44(::Nothing, ::typeof(systemerror), ::String, ::Bool) at ./error.jl:134",
      " [2] systemerror at ./error.jl:134 [inlined]",
      " [3] #open#512(::Bool, ::Nothing, ::Nothing, ::Nothing, ::Nothing, ::typeof(open), ::String) at ./iostream.jl:254",
      " [4] #open at ./none:0 [inlined]",
      " [5] open(::String, ::String) at ./iostream.jl:310",
      " [6] openvcf(::String, ::String) at /Users/biona001/.julia/dev/VCFTools/src/gtstats.jl:178",
      " [7] #convert_gt#9(::Symbol, ::Bool, ::Bool, ::Bool, ::Bool, ::String, ::typeof(convert_gt), ::Type{Float32}, ::String) at /Users/biona001/.julia/dev/VCFTools/src/convert.jl:209",
      " [8] (::VCFTools.var\"#kw##convert_gt\")(::NamedTuple{(:msg,),Tuple{String}}, ::typeof(convert_gt), ::Type{Float32}, ::String) at ./none:0",
      " [9] top-level scope at In[7]:4"
     ]
    }
   ],
   "source": [
    "# chr22\n",
    "X_complete = convert_gt(Float32, \"tgt_chr22.vcf.gz\", msg=\"importing \")\n",
    "X_mendel_1000_fast = convert_gt(Float32, \"mendel_imputed_fast_chr22_1000.vcf.gz\", msg=\"importing \")\n",
    "X_mendel_1000_dp = convert_gt(Float32, \"mendel_imputed_dp_chr22_1000.vcf.gz\", msg=\"importing \")\n",
    "X_beagle = convert_gt(Float32, \"beagle_imputed_chr22.vcf.gz\", msg=\"importing \")\n",
    "n, p = size(X_complete)\n",
    "mendel_1000_fast_error = sum(X_complete .!= X_mendel_1000_fast) / n / p\n",
    "mendel_1000_dp_error = sum(X_complete .!= X_mendel_1000_dp) / n / p\n",
    "beagle_error = sum(X_complete .!= X_beagle) / n / p\n",
    "\n",
    "@show mendel_1000_fast_error\n",
    "@show mendel_1000_dp_error\n",
    "@show beagle_error"
   ]
  },
  {
   "cell_type": "code",
   "execution_count": 5,
   "metadata": {
    "collapsed": false
   },
   "outputs": [
    {
     "name": "stdout",
     "output_type": "stream",
     "text": [
      "nrecords(\"tgt_chr20.vcf.gz\") = 1037348\n",
      "nrecords(\"tgt_chr21.vcf.gz\") = 646535\n",
      "nrecords(\"tgt_chr22.vcf.gz\") = 644939\n"
     ]
    },
    {
     "data": {
      "text/plain": [
       "644939"
      ]
     },
     "execution_count": 5,
     "metadata": {},
     "output_type": "execute_result"
    }
   ],
   "source": [
    "@show nrecords(\"tgt_chr20.vcf.gz\")\n",
    "@show nrecords(\"tgt_chr21.vcf.gz\")\n",
    "@show nrecords(\"tgt_chr22.vcf.gz\")"
   ]
  },
  {
   "cell_type": "code",
   "execution_count": null,
   "metadata": {
    "collapsed": true
   },
   "outputs": [],
   "source": []
  }
 ],
 "metadata": {
  "@webio": {
   "lastCommId": null,
   "lastKernelId": null
  },
  "kernelspec": {
   "display_name": "Julia 1.3.0-rc4",
   "language": "julia",
   "name": "julia-1.3"
  },
  "language_info": {
   "file_extension": ".jl",
   "mimetype": "application/julia",
   "name": "julia",
   "version": "1.3.1"
  }
 },
 "nbformat": 4,
 "nbformat_minor": 2
}
