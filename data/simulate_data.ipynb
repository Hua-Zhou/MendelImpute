{
 "cells": [
  {
   "cell_type": "markdown",
   "metadata": {},
   "source": [
    "# Example Data Generation\n",
    "\n",
    "This notebook documents how to simulate realistic haplotypes using [msprime](https://msprime.readthedocs.io/en/stable/#), then how to processed the result into target genotype data and reference haplotype panels using our [VCFTools.jl](https://github.com/OpenMendel/VCFTools.jl) package.\n",
    "\n",
    "**Note:** For demonstration purposes, we simulated an *extremely small* reference panel. "
   ]
  },
  {
   "cell_type": "code",
   "execution_count": 1,
   "metadata": {
    "collapsed": false
   },
   "outputs": [
    {
     "name": "stderr",
     "output_type": "stream",
     "text": [
      "┌ Info: Precompiling MendelImpute [e47305d1-6a61-5370-bc5d-77554d143183]\n",
      "└ @ Base loading.jl:1278\n"
     ]
    }
   ],
   "source": [
    "# install Julia packages needed\n",
    "using Pkg\n",
    "Pkg.add(PackageSpec(url=\"https://github.com/OpenMendel/MendelImpute.jl.git\"))\n",
    "Pkg.add(PackageSpec(url=\"https://github.com/OpenMendel/VCFTools.jl.git\"))\n",
    "Pkg.add(\"Random\")\n",
    "Pkg.add(\"UnicodePlots\")\n",
    "\n",
    "# load necessary packages in Julia\n",
    "using MendelImpute\n",
    "using VCFTools\n",
    "using Random\n",
    "using UnicodePlots"
   ]
  },
  {
   "cell_type": "markdown",
   "metadata": {},
   "source": [
    "## Step 0. Install `msprime`\n",
    "\n",
    "[msprime download Link](https://msprime.readthedocs.io/en/stable/installation.html).\n",
    "\n",
    "Some people might need to activate conda environment via `conda config --set auto_activate_base True`. You can turn it off once simulation is done by executing `conda config --set auto_activate_base False`.\n",
    "\n",
    "\n",
    "## Step 1. Simulate phased haplotypes \n",
    "\n",
    "The following command was executed in the terminal in the data folder:\n",
    "\n",
    "```\n",
    "python3 msprime_script.py 5000 10000 5000000 2e-8 2e-8 2020 > full.vcf\n",
    "```\n",
    "\n",
    "Argument meaning: \n",
    "+ Number of haplotypes = 5000\n",
    "+ Effective population size = 10000 ([source](https://www.the-scientist.com/the-nutshell/ancient-humans-more-diverse-43556))\n",
    "+ Sequence length = 5 million\n",
    "+ Rrecombination rate = 2e-8 (default)\n",
    "+ mutation rate = 2e-8 (default)\n",
    "+ seed = 2020\n",
    "\n",
    "The resulting `full.vcf` is a VCF file containing 2500 phased genotypes each with 36063 SNPs."
   ]
  },
  {
   "cell_type": "code",
   "execution_count": 6,
   "metadata": {
    "collapsed": false
   },
   "outputs": [
    {
     "data": {
      "text/plain": [
       "(2500, 36063)"
      ]
     },
     "execution_count": 6,
     "metadata": {},
     "output_type": "execute_result"
    }
   ],
   "source": [
    "data = joinpath(normpath(MendelImpute.datadir()), \"full.vcf\") # get data directory\n",
    "nsamples(data), nrecords(data)"
   ]
  },
  {
   "cell_type": "markdown",
   "metadata": {},
   "source": [
    "## Step 2: Convert simulated data to reference and target files\n",
    "\n",
    "Starting with simulated data `full.vcf`, we use 100 genotypes as imputation targets, and the rest is used as reference panel. Filtering is achieved with utilies in [VCFTools.jl](https://github.com/OpenMendel/VCFTools.jl). We randomly choose 10,000 SNPs with minor allele frequency $\\ge 0.05$ as the typed positions. Note data must conform to [MendelImpute's data preparation requirement](https://openmendel.github.io/MendelImpute.jl/dev/man/Phasing+and+Imputation/#Preparing-Target-Data)"
   ]
  },
  {
   "cell_type": "code",
   "execution_count": 9,
   "metadata": {
    "collapsed": false
   },
   "outputs": [
    {
     "name": "stderr",
     "output_type": "stream",
     "text": [
      "\u001b[32mfinding duplicate markers...100%|███████████████████████| Time: 0:00:20\u001b[39m\n",
      "\u001b[32mfiltering vcf file...100%|██████████████████████████████| Time: 0:00:29\u001b[39m\n",
      "\u001b[32mProgress: 100%|█████████████████████████████████████████| Time: 0:00:26\u001b[39m\n",
      "\u001b[32mfiltering vcf file...100%|██████████████████████████████| Time: 0:00:24\u001b[39m\n",
      "\u001b[32mfiltering vcf file...100%|██████████████████████████████| Time: 0:00:26\u001b[39m\n",
      "\u001b[32mfiltering vcf file...100%|██████████████████████████████| Time: 0:00:41\u001b[39m\n"
     ]
    }
   ],
   "source": [
    "# change directory to under /data\n",
    "cd(normpath(MendelImpute.datadir()))\n",
    "\n",
    "# set random seed for reproducibility\n",
    "Random.seed!(2020)\n",
    "\n",
    "# remove SNPs with the same positions, keep all samples, save result into new file\n",
    "SNPs_to_keep = .!find_duplicate_marker(data) \n",
    "VCFTools.filter(data, SNPs_to_keep, 1:nsamples(data), des = \"uniqueSNPs.vcf.gz\")\n",
    "\n",
    "# summarize data\n",
    "total_snps, samples, _, _, _, maf_by_record, _ = gtstats(\"uniqueSNPs.vcf.gz\")\n",
    "\n",
    "# generate target file with 100 samples and 5k snps with maf>0.05\n",
    "n = 100\n",
    "p = 5000\n",
    "record_idx = falses(total_snps)\n",
    "large_maf = findall(x -> x > 0.05, maf_by_record)  \n",
    "Random.shuffle!(large_maf)\n",
    "record_idx[large_maf[1:p]] .= true\n",
    "sample_idx = falses(samples)\n",
    "sample_idx[1:n] .= true\n",
    "Random.shuffle!(sample_idx)\n",
    "VCFTools.filter(\"uniqueSNPs.vcf.gz\", record_idx, sample_idx, \n",
    "    des = \"target.typedOnly.vcf.gz\", allow_multiallelic=false)\n",
    "\n",
    "# unphase and mask 1% entries in target file\n",
    "masks = falses(p, n)\n",
    "missingprop = 0.01\n",
    "for j in 1:n, i in 1:p\n",
    "    rand() < missingprop && (masks[i, j] = true)\n",
    "end\n",
    "mask_gt(\"target.typedOnly.vcf.gz\", masks, \n",
    "    des=\"target.typedOnly.masked.vcf.gz\", unphase=true)\n",
    "\n",
    "# generate target panel with all snps (containing true phase and genotypes)\n",
    "VCFTools.filter(\"uniqueSNPs.vcf.gz\", 1:total_snps, \n",
    "    sample_idx, des = \"target.full.vcf.gz\", allow_multiallelic=false)\n",
    "\n",
    "# generate reference panel\n",
    "VCFTools.filter(\"uniqueSNPs.vcf.gz\", 1:total_snps, .!sample_idx, \n",
    "    des = \"ref.excludeTarget.vcf.gz\", allow_multiallelic=false)"
   ]
  },
  {
   "cell_type": "markdown",
   "metadata": {},
   "source": [
    "## Step 3: generating `.jlso` compressed reference panel\n",
    "\n",
    "MendelImpute requires one to pre-process the reference panel for faster reading. This is achieved via the [compress_haplotypes](https://openmendel.github.io/MendelImpute.jl/dev/man/api/#MendelImpute.compress_haplotypes) function."
   ]
  },
  {
   "cell_type": "code",
   "execution_count": 11,
   "metadata": {
    "collapsed": false
   },
   "outputs": [
    {
     "name": "stderr",
     "output_type": "stream",
     "text": [
      "\u001b[32mimporting reference data...100%|████████████████████████| Time: 0:00:10\u001b[39m\n"
     ]
    },
    {
     "name": "stdout",
     "output_type": "stream",
     "text": [
      " 19.730624 seconds (185.85 M allocations: 13.691 GiB, 5.74% gc time)\n"
     ]
    }
   ],
   "source": [
    "reffile = \"ref.excludeTarget.vcf.gz\"\n",
    "tgtfile = \"target.typedOnly.masked.vcf.gz\"\n",
    "outfile = \"ref.excludeTarget.jlso\"\n",
    "@time compress_haplotypes(reffile, tgtfile, outfile)"
   ]
  },
  {
   "cell_type": "markdown",
   "metadata": {},
   "source": [
    "## Output explanation:\n",
    "\n",
    "You just generated reference and target VCF files:\n",
    "\n",
    "+ `ref.excludeTarget.jlso`: Compressed reference haplotype panel with 4800 haplotypes (in JLSO format)\n",
    "+ `target.typedOnly.masked.vcf.gz`: Imputation target file containing 100 samples at 5k SNPs. All genotypes are unphased and contains 1% missing data. \n",
    "\n",
    "You also generated/downloaded:\n",
    "\n",
    "+ `full.vcf`: The original simulated data from `msprime`.\n",
    "+ `uniqueSNPs.vcf.gz`: This is the original data excluding duplicate records (SNPs) by checking marker positions. \n",
    "+ `ref.excludeTarget.vcf.gz`: Reference haplotype panel (in VCF format)\n",
    "+ `target.full.vcf.gz`: The complete data for imputation target, used for checking imputation accuracy. All genotypes are phased and non-missing. \n",
    "+ `target.typedOnly.vcf.gz`: Complete target data on just the typed SNPs. All genotypes are phased and non-missing. Just by-producted for generating other files; not used for anything downstream.\n",
    "\n",
    "## Statistics on compressed reference panel\n",
    "\n",
    "`MendelImpute` contains some hidden utility functions to quickly summarize a `.jlso` compressed haplotype reference panel. For instance,"
   ]
  },
  {
   "cell_type": "code",
   "execution_count": 12,
   "metadata": {
    "collapsed": false
   },
   "outputs": [],
   "source": [
    "# calculate number of unique haplotypes per window\n",
    "haps_per_window = MendelImpute.count_haplotypes_per_window(\"ref.excludeTarget.jlso\")\n",
    "\n",
    "# calculate window width\n",
    "window_width = MendelImpute.get_window_widths(\"ref.excludeTarget.jlso\");"
   ]
  },
  {
   "cell_type": "code",
   "execution_count": 13,
   "metadata": {
    "collapsed": false
   },
   "outputs": [
    {
     "data": {
      "text/plain": [
       "\u001b[90m                  ┌                                        ┐\u001b[39m \n",
       "   \u001b[0m\u001b[90m[\u001b[0m600.0\u001b[90m, \u001b[0m650.0\u001b[90m)\u001b[0m\u001b[90m ┤\u001b[39m\u001b[32m▇▇▇▇▇▇\u001b[39m\u001b[0m 1                                \u001b[90m \u001b[39m \n",
       "   \u001b[0m\u001b[90m[\u001b[0m650.0\u001b[90m, \u001b[0m700.0\u001b[90m)\u001b[0m\u001b[90m ┤\u001b[39m\u001b[32m▇▇▇▇▇▇▇▇▇▇▇▇▇▇▇▇▇▇▇▇▇▇▇▇▇▇▇▇▇▇▇▇▇▇▇▇▇\u001b[39m\u001b[0m 6 \u001b[90m \u001b[39m \n",
       "   \u001b[0m\u001b[90m[\u001b[0m700.0\u001b[90m, \u001b[0m750.0\u001b[90m)\u001b[0m\u001b[90m ┤\u001b[39m\u001b[32m▇▇▇▇▇▇▇▇▇▇▇▇▇▇▇▇▇▇▇▇▇▇▇▇▇▇▇▇▇▇▇▇▇▇▇▇▇\u001b[39m\u001b[0m 6 \u001b[90m \u001b[39m \n",
       "   \u001b[0m\u001b[90m[\u001b[0m750.0\u001b[90m, \u001b[0m800.0\u001b[90m)\u001b[0m\u001b[90m ┤\u001b[39m\u001b[32m▇▇▇▇▇▇▇▇▇▇▇▇▇▇▇▇▇▇▇\u001b[39m\u001b[0m 3                   \u001b[90m \u001b[39m \n",
       "\u001b[90m                  └                                        ┘\u001b[39m \n",
       "\u001b[0m                                  Frequency"
      ]
     },
     "execution_count": 13,
     "metadata": {},
     "output_type": "execute_result"
    }
   ],
   "source": [
    "histogram(haps_per_window)"
   ]
  },
  {
   "cell_type": "code",
   "execution_count": 14,
   "metadata": {
    "collapsed": false
   },
   "outputs": [
    {
     "data": {
      "text/plain": [
       "\u001b[90m                  ┌                                        ┐\u001b[39m \n",
       "   \u001b[0m\u001b[90m[\u001b[0m312.0\u001b[90m, \u001b[0m312.2\u001b[90m)\u001b[0m\u001b[90m ┤\u001b[39m\u001b[32m▇▇▇▇▇▇▇▇▇▇▇▇▇▇▇▇▇▇▇▇▇▇▇▇▇▇▇▇▇▇▇▇▇▇▇▇▇\u001b[39m\u001b[0m 8 \u001b[90m \u001b[39m \n",
       "   \u001b[0m\u001b[90m[\u001b[0m312.2\u001b[90m, \u001b[0m312.4\u001b[90m)\u001b[0m\u001b[90m ┤\u001b[39m\u001b[0m 0                                      \u001b[90m \u001b[39m \n",
       "   \u001b[0m\u001b[90m[\u001b[0m312.4\u001b[90m, \u001b[0m312.6\u001b[90m)\u001b[0m\u001b[90m ┤\u001b[39m\u001b[0m 0                                      \u001b[90m \u001b[39m \n",
       "   \u001b[0m\u001b[90m[\u001b[0m312.6\u001b[90m, \u001b[0m312.8\u001b[90m)\u001b[0m\u001b[90m ┤\u001b[39m\u001b[0m 0                                      \u001b[90m \u001b[39m \n",
       "   \u001b[0m\u001b[90m[\u001b[0m312.8\u001b[90m, \u001b[0m313.0\u001b[90m)\u001b[0m\u001b[90m ┤\u001b[39m\u001b[0m 0                                      \u001b[90m \u001b[39m \n",
       "   \u001b[0m\u001b[90m[\u001b[0m313.0\u001b[90m, \u001b[0m313.2\u001b[90m)\u001b[0m\u001b[90m ┤\u001b[39m\u001b[32m▇▇▇▇▇▇▇▇▇▇▇▇▇▇▇▇▇▇▇▇▇▇▇▇▇▇▇▇▇▇▇▇▇▇▇▇▇\u001b[39m\u001b[0m 8 \u001b[90m \u001b[39m \n",
       "\u001b[90m                  └                                        ┘\u001b[39m \n",
       "\u001b[0m                                  Frequency"
      ]
     },
     "execution_count": 14,
     "metadata": {},
     "output_type": "execute_result"
    }
   ],
   "source": [
    "histogram(window_width)"
   ]
  },
  {
   "cell_type": "markdown",
   "metadata": {},
   "source": [
    "**Conclusion:** The compressed reference panel contains 16 windows of approximately 300 typed SNPs each. Within each window, there are approximately 600-800 unique haplotypes per window. "
   ]
  },
  {
   "cell_type": "markdown",
   "metadata": {},
   "source": [
    "# Dosage data\n",
    "\n",
    "Since our software supports dosages as inputs (i.e. genotypes are real number in $[0, 2]$), let us also generate dosage data. For simplicity, we add a small perturbation $0.01*U(0, 1)$ to  the alternate allele count to get dosages. "
   ]
  },
  {
   "cell_type": "code",
   "execution_count": 23,
   "metadata": {
    "collapsed": false
   },
   "outputs": [
    {
     "data": {
      "text/plain": [
       "write_snp! (generic function with 1 method)"
      ]
     },
     "execution_count": 23,
     "metadata": {},
     "output_type": "execute_result"
    }
   ],
   "source": [
    "function write_snp!(io, X::AbstractMatrix, i::Int)\n",
    "    x = @view(X[i, :]) # current record\n",
    "    n = length(x)\n",
    "    for j in 1:n\n",
    "        y = round(0.01rand(), digits=3)\n",
    "        if ismissing(x[j])\n",
    "            print(io, \"\\t./.:.\")\n",
    "        elseif x[j] == 0\n",
    "            print(io, \"\\t0/0:\", y)\n",
    "        elseif x[j] == 1\n",
    "            print(io, \"\\t1/0:\", 1 + y)\n",
    "        elseif x[j] == 2\n",
    "            print(io, \"\\t1/1:\", 2 - y)\n",
    "        else\n",
    "            error(\"imputed genotypes can only be 0, 1, 2 but got $(x[j])\")\n",
    "        end\n",
    "    end\n",
    "    print(io, \"\\n\")\n",
    "    nothing\n",
    "end"
   ]
  },
  {
   "cell_type": "code",
   "execution_count": 24,
   "metadata": {
    "collapsed": false
   },
   "outputs": [],
   "source": [
    "# import hard genotypes\n",
    "X, X_sampleID, chr, pos, ids, ref, alt = \n",
    "    VCFTools.convert_gt(Float64, \"target.typedOnly.masked.vcf.gz\", trans=true, \n",
    "    save_snp_info=true, msg = \"Importing genotype file...\")\n",
    "outfile = \"target.typedOnly.dosages.masked.vcf.gz\"\n",
    "\n",
    "# generate VCF file with dosage data\n",
    "io = openvcf(outfile, \"w\")\n",
    "print(io, \"##fileformat=VCFv4.2\\n\")\n",
    "print(io, \"##source=MendelImpute\\n\")\n",
    "print(io, \"##FORMAT=<ID=GT,Number=1,Type=String,Description=\\\"Genotype\\\">\\n\")\n",
    "print(io, \"##FORMAT=<ID=DS,Number=1,Type=Float,Description=\\\"Dosages\\\">\\n\")\n",
    "print(io, \"#CHROM\\tPOS\\tID\\tREF\\tALT\\tQUAL\\tFILTER\\tINFO\\tFORMAT\")\n",
    "for id in X_sampleID\n",
    "    print(io, \"\\t\", id)\n",
    "end\n",
    "print(io, \"\\n\")\n",
    "for i in 1:size(X, 1)\n",
    "    print(io, chr[i], \"\\t\", string(pos[i]), \"\\t\", ids[i][1], \"\\t\", \n",
    "        ref[i], \"\\t\", alt[i][1], \"\\t.\\tPASS\\t.\\t\")\n",
    "    print(io, \"GT:DS\")\n",
    "    write_snp!(io, X, i)\n",
    "end\n",
    "close(io);"
   ]
  },
  {
   "cell_type": "code",
   "execution_count": 25,
   "metadata": {
    "collapsed": false
   },
   "outputs": [
    {
     "data": {
      "text/plain": [
       "100×5000 Array{Union{Missing, Float64},2}:\n",
       " 0.002  1.002  1.003  0.01   0.001     …  1.009  0.006  0.01      1.998\n",
       " 0.009  0.002  0.001  1.99   1.993        1.004  0.004  0.004     2.0\n",
       " 0.001  1.995  2.0    0.005  0.006        1.997  0.001  0.005     1.996\n",
       " 0.004  1.994  1.995  0.005  0.009        0.01   0.004  0.005     1.994\n",
       " 1.004  1.003  1.006  0.008  0.008        1.991  0.002  0.003     2.0\n",
       " 0.006  1.009  1.002  1.002   missing  …  1.002  0.004  0.006     1.994\n",
       " 0.008  1.998  2.0    0.001  0.002        1.996  1.005  0.005     1.998\n",
       " 1.003  1.998  1.994  0.002  0.0          1.004  0.0    0.001     1.998\n",
       " 0.004  1.991  1.992  0.009  0.01         1.001  0.003  0.004     1.996\n",
       " 0.003  2.0    1.996  0.009   missing     1.007  0.006  1.001     1.0\n",
       " 0.008  1.998  1.994  0.001  0.003     …  0.008  0.007   missing  1.995\n",
       " 0.005  1.999  1.998  0.004  0.004        0.005  0.004  1.0       1.009\n",
       " 0.007  1.002  1.007  0.005  0.008        1.999  0.004  0.007     1.992\n",
       " ⋮                                     ⋱                          \n",
       " 1.007  1.004  1.005  1.006  1.004        1.008  1.007  1.008     1.001\n",
       " 0.003  1.999  1.997  0.001  0.005        1.995  0.006  0.007     1.995\n",
       " 0.001  1.993  1.995  0.006  0.01      …  0.001  0.005  1.004     1.002\n",
       " 1.007  1.992  1.992  0.0    0.003        1.005  0.007  0.009     1.999\n",
       " 1.009  1.995  1.997  0.001  0.006        1.008  0.004  0.007     1.999\n",
       " 0.006  1.998  1.993  0.005  0.004        1.002  1.004  0.003     1.997\n",
       " 0.003  1.998  2.0    0.008  0.007        0.008  0.001  1.002     1.005\n",
       " 0.003  1.008  1.002  1.001  1.002     …  1.004  0.001  0.003     1.997\n",
       " 0.001  1.995  1.996  0.007  0.008        1.99   1.003  0.01      1.991\n",
       " 0.003  1.001  1.003  0.008  0.008        1.006  0.006  1.003     1.008\n",
       " 1.006  1.994  1.992  0.004  0.004        0.006  0.008  1.002     1.008\n",
       " 0.002  1.997  1.992  0.004  0.007        0.0    0.006  1.008     1.001"
      ]
     },
     "execution_count": 25,
     "metadata": {},
     "output_type": "execute_result"
    }
   ],
   "source": [
    "DS = convert_ds(Float64, \"target.typedOnly.dosages.masked.vcf.gz\")"
   ]
  },
  {
   "cell_type": "code",
   "execution_count": null,
   "metadata": {
    "collapsed": true
   },
   "outputs": [],
   "source": []
  }
 ],
 "metadata": {
  "@webio": {
   "lastCommId": null,
   "lastKernelId": null
  },
  "kernelspec": {
   "display_name": "Julia 1.5.0",
   "language": "julia",
   "name": "julia-1.5"
  },
  "language_info": {
   "file_extension": ".jl",
   "mimetype": "application/julia",
   "name": "julia",
   "version": "1.5.0"
  }
 },
 "nbformat": 4,
 "nbformat_minor": 2
}
