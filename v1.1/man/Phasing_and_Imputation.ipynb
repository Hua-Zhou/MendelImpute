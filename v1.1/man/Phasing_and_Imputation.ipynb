{
 "cells": [
  {
   "cell_type": "markdown",
   "metadata": {},
   "source": [
    "# Preparing Target Data\n",
    "\n",
    "MendelImpute accepts [VCF](https://samtools.github.io/hts-specs/VCFv4.3.pdf) and [PLINK](https://www.cog-genomics.org/plink2/formats#bed) files. Please make sure the following are true:\n",
    "\n",
    "+ VCF file ends in `.vcf` or `.vcf.gz` (phased or unphased and may contain missing data)\n",
    "+ For PLINK files, all trios (`.bim`, `.bed`, `.fam`) are present in the same directory\n",
    "+ Each file contains only 1 (non-sex) chromosome\n",
    "+ Every record (SNP) is present in the reference panel. If this is untrue, you must [match markers in 2 VCF files](https://openmendel.github.io/VCFTools.jl/dev/man/conformgt/). \n",
    "+ Given a SNP, its CHROM, POS, REF, and  ALT fields are the same in target data and reference panel. MendelImpute use SNP position internally to align markers. Note this is not explicitly checked. \n",
    "+ The position of every SNP is unique: so multiallelic markers should be excluded instead of split (this requirement will eventually be lifted). "
   ]
  },
  {
   "cell_type": "markdown",
   "metadata": {},
   "source": [
    "# Preparing Reference Haplotype Panel\n",
    "\n",
    "Reference samples must all be phased and contain no missing genotypes. Reference VCF panels must be compressed into `.jlso` format first using the [compress_haplotypes](https://OpenMendel.github.io/MendelImpute.jl/dev/man/api/#MendelImpute.compress_haplotypes) function. One must specify `d`: the maximum number of unique haplotypes per window. Larger `d` slows down computation, but increases accuracy. For most purposes, we recommend $d \\approx 1000$. \n",
    "\n",
    "# Detailed Example\n",
    "\n",
    "We use the [1000 genomes chromosome 22](http://bochet.gcc.biostat.washington.edu/beagle/1000_Genomes_phase3_v5a/b37.vcf/) as an example. As show below, this data contains 424147 SNPs and 2504 samples."
   ]
  },
  {
   "cell_type": "code",
   "execution_count": 1,
   "metadata": {
    "collapsed": false
   },
   "outputs": [
    {
     "name": "stdout",
     "output_type": "stream",
     "text": [
      "nrecords(data) = 424147\n",
      "nsamples(data) = 2504\n"
     ]
    }
   ],
   "source": [
    "# load necessary packages in Julia\n",
    "using VCFTools\n",
    "using MendelImpute\n",
    "using VCFTools\n",
    "using Random\n",
    "\n",
    "# compute simple summary statistics\n",
    "data = \"chr22.1kg.phase3.v5a.vcf.gz\"\n",
    "@show nrecords(data)\n",
    "@show nsamples(data);"
   ]
  },
  {
   "cell_type": "markdown",
   "metadata": {},
   "source": [
    "More summary statistics can be computed using the [gtstats](https://openmendel.github.io/VCFTools.jl/dev/man/api/#VCFTools.gtstats) function in `VCFTools.jl`, with example usage [here](https://openmendel.github.io/VCFTools.jl/dev/man/summaryinfo/#Summary-statistics).\n",
    "\n",
    "## Step 1: generating realistic reference and target data \n",
    "\n",
    "First we generate a reference panel and imputation target based on the 1000 genomes data. Specifically, we divide the 1000 genomes chromosome 22 data so that \n",
    "+ 100 samples are randomly selected as imputation targets, where\n",
    "    - 100k SNPs with minor allele frequency $\\ge 0.05$ are randomly selected to be the typed positions. \n",
    "    - 0.1% of typed SNPs are masked (mimicking genotyping errors)\n",
    "    - Genotypes are unphased\n",
    "+ The remaining 2404 samples are used as reference haplotypes. \n",
    "+ SNPs with duplicate positions are filtered out.\n",
    "+ All multiallelic markers are filtered out.\n",
    "\n",
    "**Instruction: execute the code below in a Julia session or a Jupyter notebook:**"
   ]
  },
  {
   "cell_type": "code",
   "execution_count": 1,
   "metadata": {
    "collapsed": false
   },
   "outputs": [
    {
     "name": "stderr",
     "output_type": "stream",
     "text": [
      "┌ Info: Precompiling MendelImpute [e47305d1-6a61-5370-bc5d-77554d143183]\n",
      "└ @ Base loading.jl:1278\n",
      "\u001b[32mfinding duplicate markers...100%|███████████████████████| Time: 0:03:56\u001b[39m\n",
      "\u001b[32mfiltering vcf file...100%|██████████████████████████████| Time: 0:04:46\u001b[39m\n"
     ]
    },
    {
     "name": "stdout",
     "output_type": "stream",
     "text": [
      "292.131527 seconds (3.20 G allocations: 301.789 GiB, 7.89% gc time)\n"
     ]
    },
    {
     "name": "stderr",
     "output_type": "stream",
     "text": [
      "\u001b[32mProgress: 100%|█████████████████████████████████████████| Time: 0:04:02\u001b[39m\n",
      "\u001b[32mfiltering vcf file...100%|██████████████████████████████| Time: 0:03:59\u001b[39m\n"
     ]
    },
    {
     "name": "stdout",
     "output_type": "stream",
     "text": [
      "244.425505 seconds (3.18 G allocations: 301.694 GiB, 9.69% gc time)\n",
      "  1.935526 seconds (20.00 M allocations: 1.491 GiB, 6.33% gc time)\n"
     ]
    },
    {
     "name": "stderr",
     "output_type": "stream",
     "text": [
      "\u001b[32mfiltering vcf file...100%|██████████████████████████████| Time: 0:04:10\u001b[39m\n"
     ]
    },
    {
     "name": "stdout",
     "output_type": "stream",
     "text": [
      "255.505399 seconds (3.27 G allocations: 317.749 GiB, 9.95% gc time)\n"
     ]
    },
    {
     "name": "stderr",
     "output_type": "stream",
     "text": [
      "\u001b[32mfiltering vcf file...100%|██████████████████████████████| Time: 0:07:27\u001b[39m\n"
     ]
    },
    {
     "name": "stdout",
     "output_type": "stream",
     "text": [
      "453.383147 seconds (6.16 G allocations: 566.535 GiB, 10.16% gc time)\n"
     ]
    }
   ],
   "source": [
    "# set random seed for reproducibility\n",
    "Random.seed!(2020)\n",
    "\n",
    "# download example data \n",
    "data = \"chr22.1kg.phase3.v5a.vcf.gz\"\n",
    "if !isfile(data) \n",
    "    download(\"http://bochet.gcc.biostat.washington.edu/beagle/1000_Genomes_phase3_v5a/b37.vcf/chr22.1kg.phase3.v5a.vcf.gz\")\n",
    "end\n",
    "\n",
    "# remove SNPs with the same positions, keep all samples, save result into new file\n",
    "SNPs_to_keep = .!find_duplicate_marker(data) \n",
    "@time VCFTools.filter(data, SNPs_to_keep, 1:nsamples(data), des = \"chr22.uniqueSNPs.vcf.gz\")\n",
    "\n",
    "# summarize data\n",
    "total_snps, samples, _, _, _, maf_by_record, _ = gtstats(\"chr22.uniqueSNPs.vcf.gz\")\n",
    "\n",
    "# generate target file with 100 samples and 100k snps with maf>0.05\n",
    "n = 100\n",
    "p = 100000\n",
    "record_idx = falses(total_snps)\n",
    "large_maf = findall(x -> x > 0.05, maf_by_record)  \n",
    "Random.shuffle!(large_maf)\n",
    "record_idx[large_maf[1:p]] .= true\n",
    "sample_idx = falses(samples)\n",
    "sample_idx[1:n] .= true\n",
    "Random.shuffle!(sample_idx)\n",
    "@time VCFTools.filter(\"chr22.uniqueSNPs.vcf.gz\", record_idx, sample_idx, \n",
    "    des = \"target.chr22.typedOnly.vcf.gz\", allow_multiallelic=false)\n",
    "\n",
    "# unphase and mask 0.1% entries in target file\n",
    "masks = falses(p, n)\n",
    "missingprop = 0.001\n",
    "for j in 1:n, i in 1:p\n",
    "    rand() < missingprop && (masks[i, j] = true)\n",
    "end\n",
    "@time mask_gt(\"target.chr22.typedOnly.vcf.gz\", masks, \n",
    "    des=\"target.chr22.typedOnly.masked.vcf.gz\", unphase=true)\n",
    "\n",
    "# generate target panel with all snps (this file contains true phase and genotypes)\n",
    "@time VCFTools.filter(\"chr22.uniqueSNPs.vcf.gz\", 1:total_snps, \n",
    "    sample_idx, des = \"target.chr22.full.vcf.gz\", allow_multiallelic=false)\n",
    "\n",
    "# generate reference panel with 2404 samples\n",
    "@time VCFTools.filter(\"chr22.uniqueSNPs.vcf.gz\", 1:total_snps, .!sample_idx, \n",
    "    des = \"ref.chr22.excludeTarget.vcf.gz\", allow_multiallelic=false)"
   ]
  },
  {
   "cell_type": "markdown",
   "metadata": {},
   "source": [
    "### Output explanation:\n",
    "\n",
    "You just generated reference and target VCF files:\n",
    "\n",
    "+ `ref.chr22.excludeTarget.vcf.gz`: Reference haplotype panel with 2404 samples\n",
    "+ `target.chr22.typedOnly.masked.vcf.gz`: Imputation target file containing 100 samples at 100k SNPs. All genotypes are unphased and contains 0.1% missing data. \n",
    "\n",
    "You also generated/downloaded:\n",
    "\n",
    "+ `chr22.1kg.phase3.v5a.vcf.gz`: The original chromosome 22 data downloaded from Beagle's website.\n",
    "+ `chr22.uniqueSNPs.vcf.gz`: This is the original chromosome 22 data excluding duplicate records (SNPs) by checking marker positions. The first SNP is included but all subsequent SNPs are removed. \n",
    "+ `target.chr22.full.vcf.gz`: The complete data for imputation target, used for checking imputation accuracy. All genotypes are phased and non-missing. \n",
    "+ `target.chr22.typedOnly.vcf.gz`: Complete target data on just the typed SNPs. All genotypes are phased and non-missing. Just by-producted for generating other files; not used for anything downstream."
   ]
  },
  {
   "cell_type": "markdown",
   "metadata": {},
   "source": [
    "## Step 2: generating `.jlso` compressed reference panel\n",
    "\n",
    "MendelImpute requires one to pre-process the reference panel for faster reading. This is achieved via the [compress_haplotypes](https://openmendel.github.io/MendelImpute.jl/dev/man/api/#MendelImpute.compress_haplotypes) function."
   ]
  },
  {
   "cell_type": "code",
   "execution_count": 2,
   "metadata": {
    "collapsed": false
   },
   "outputs": [
    {
     "name": "stderr",
     "output_type": "stream",
     "text": [
      "\u001b[32mimporting reference data...100%|████████████████████████| Time: 0:02:00\u001b[39m\n"
     ]
    },
    {
     "name": "stdout",
     "output_type": "stream",
     "text": [
      "295.546081 seconds (2.09 G allocations: 209.215 GiB, 10.53% gc time)\n"
     ]
    }
   ],
   "source": [
    "# load necessary packages in Julia\n",
    "using MendelImpute\n",
    "\n",
    "max_d = 1000 # maximum number of unique haplotypes per window\n",
    "reffile = \"ref.chr22.excludeTarget.vcf.gz\"\n",
    "tgtfile = \"target.chr22.typedOnly.masked.vcf.gz\"\n",
    "outfile = \"ref.chr22.maxd1000.excludeTarget.jlso\"\n",
    "@time compress_haplotypes(reffile, tgtfile, outfile, max_d)"
   ]
  },
  {
   "cell_type": "markdown",
   "metadata": {},
   "source": [
    "## Step 3: Run imputation and phasing\n",
    "\n",
    "The [phase](https://openmendel.github.io/MendelImpute.jl/dev/man/api/#MendelImpute.phase) function will perform imputation and phasing. By default, all output genotypes will be phased and non-missing. A list of optional inputs can be found in the [API](https://openmendel.github.io/MendelImpute.jl/dev/man/api/#MendelImpute.phase)."
   ]
  },
  {
   "cell_type": "code",
   "execution_count": 3,
   "metadata": {
    "collapsed": false
   },
   "outputs": [
    {
     "name": "stdout",
     "output_type": "stream",
     "text": [
      "Number of threads = 1\n",
      "Importing reference haplotype data...\n"
     ]
    },
    {
     "name": "stderr",
     "output_type": "stream",
     "text": [
      "\u001b[32mComputing optimal haplotypes...100%|████████████████████| Time: 0:00:20\u001b[39m\n"
     ]
    },
    {
     "name": "stdout",
     "output_type": "stream",
     "text": [
      "Total windows = 1634, averaging ~ 508 unique haplotypes per window.\n",
      "\n",
      "Timings: \n",
      "    Data import                     = 9.88384 seconds\n",
      "        import target data             = 1.77236 seconds\n",
      "        import compressed haplotypes   = 8.11149 seconds\n",
      "    Computing haplotype pair        = 20.3066 seconds\n",
      "        BLAS3 mul! to get M and N      = 1.06045 seconds per thread\n",
      "        haplopair search               = 18.8367 seconds per thread\n",
      "        initializing missing           = 0.101118 seconds per thread\n",
      "        allocating and viewing         = 0.276894 seconds per thread\n",
      "        index conversion               = 0.0199662 seconds per thread\n",
      "    Phasing by win-win intersection = 4.32098 seconds\n",
      "        Window-by-window intersection  = 0.53913 seconds per thread\n",
      "        Breakpoint search              = 3.53301 seconds per thread\n",
      "        Recording result               = 0.23443 seconds per thread\n",
      "    Imputation                     = 3.40132 seconds\n",
      "        Imputing missing               = 0.440234 seconds\n",
      "        Writing to file                = 2.96109 seconds\n",
      "\n",
      "    Total time                      = 37.914 seconds\n",
      "\n"
     ]
    }
   ],
   "source": [
    "# note: run twice for more accurate timing\n",
    "reffile = \"ref.chr22.maxd1000.excludeTarget.jlso\" # jlso reference file\n",
    "tgtfile = \"target.chr22.typedOnly.masked.vcf.gz\"  # target genotype file\n",
    "outfile = \"mendel.imputed.chr22.vcf.gz\"           # output file name\n",
    "phase(tgtfile, reffile, outfile);"
   ]
  },
  {
   "cell_type": "markdown",
   "metadata": {},
   "source": [
    "The `;` hides the output, or else the screen will be too jammed. "
   ]
  },
  {
   "cell_type": "markdown",
   "metadata": {},
   "source": [
    "!!! note\n",
    "\n",
    "    To run MendelImpute in parallel, type `export JULIA_NUM_THREADS=4` **before** starting Julia or Jupyter notebooks. See Performance Gotchas #1 on the left for details."
   ]
  },
  {
   "cell_type": "markdown",
   "metadata": {},
   "source": [
    "## Step 3.5: (only for simulated data) check imputation accuracy\n",
    "\n",
    "Since we simulated data, we can check imputation accuracy."
   ]
  },
  {
   "cell_type": "code",
   "execution_count": 4,
   "metadata": {
    "collapsed": false
   },
   "outputs": [
    {
     "name": "stdout",
     "output_type": "stream",
     "text": [
      "error overall = 0.005273778941849357\n"
     ]
    }
   ],
   "source": [
    "X_truth  = convert_gt(Float64, \"target.chr22.full.vcf.gz\")    # import true genotypes\n",
    "X_mendel = convert_gt(Float64, \"mendel.imputed.chr22.vcf.gz\") # import imputed genotypes\n",
    "n, p = size(X_mendel)\n",
    "println(\"error overall = \", sum(X_mendel .!= X_truth) / n / p)"
   ]
  },
  {
   "cell_type": "markdown",
   "metadata": {},
   "source": [
    "Thus, we are looking at about 5 imputation error out of every 1000 SNPs. "
   ]
  },
  {
   "cell_type": "markdown",
   "metadata": {},
   "source": [
    "## Post-imputation: per-SNP Imputation Quality Score\n",
    "\n",
    "Consider the observed genotype $x_{ij} \\in [0, 2] \\cup \\{missing\\}$ at SNP $i$ of sample $j$ and the corresponding imputed genotype $g_{ij}$ derived from the two extended haplotypes of $j$. If $S_i$ denotes the set of individuals with observed genotypes at the SNP, then MendelImpute's quality score $q_i$ for the SNP is defined as\n",
    "\n",
    "$$q_i = 1 - \\frac{1}{|S_i|}\\sum_{j \\in S_i} \\left(\\frac{x_{ij} - g_{ij}}{2}\\right)^2.$$\n",
    "\n",
    "Note that $0 \\le q_i \\le 1$ and that the larger the quality score, the more confidence in the imputed values. Because $q_i$ can only be computed for the typed SNPs, an untyped SNP is assigned the average of the quality scores for its two closest flanking typed SNPs.\n",
    "\n",
    "To extract this score from a VCF file, one can do:"
   ]
  },
  {
   "cell_type": "code",
   "execution_count": 8,
   "metadata": {
    "collapsed": false
   },
   "outputs": [
    {
     "data": {
      "image/svg+xml": [
       "<?xml version=\"1.0\" encoding=\"utf-8\"?>\n",
       "<svg xmlns=\"http://www.w3.org/2000/svg\" xmlns:xlink=\"http://www.w3.org/1999/xlink\" width=\"600\" height=\"400\" viewBox=\"0 0 2400 1600\">\n",
       "<defs>\n",
       "  <clipPath id=\"clip540\">\n",
       "    <rect x=\"0\" y=\"0\" width=\"2400\" height=\"1600\"/>\n",
       "  </clipPath>\n",
       "</defs>\n",
       "<path clip-path=\"url(#clip540)\" d=\"\n",
       "M0 1600 L2400 1600 L2400 0 L0 0  Z\n",
       "  \" fill=\"#ffffff\" fill-rule=\"evenodd\" fill-opacity=\"1\"/>\n",
       "<defs>\n",
       "  <clipPath id=\"clip541\">\n",
       "    <rect x=\"480\" y=\"0\" width=\"1681\" height=\"1600\"/>\n",
       "  </clipPath>\n",
       "</defs>\n",
       "<path clip-path=\"url(#clip540)\" d=\"\n",
       "M277.224 1423.18 L2352.76 1423.18 L2352.76 47.2441 L277.224 47.2441  Z\n",
       "  \" fill=\"#ffffff\" fill-rule=\"evenodd\" fill-opacity=\"1\"/>\n",
       "<defs>\n",
       "  <clipPath id=\"clip542\">\n",
       "    <rect x=\"277\" y=\"47\" width=\"2077\" height=\"1377\"/>\n",
       "  </clipPath>\n",
       "</defs>\n",
       "<polyline clip-path=\"url(#clip542)\" style=\"stroke:#000000; stroke-width:2; stroke-opacity:0.1; fill:none\" points=\"\n",
       "  629.733,1423.18 629.733,47.2441 \n",
       "  \"/>\n",
       "<polyline clip-path=\"url(#clip542)\" style=\"stroke:#000000; stroke-width:2; stroke-opacity:0.1; fill:none\" points=\"\n",
       "  987.258,1423.18 987.258,47.2441 \n",
       "  \"/>\n",
       "<polyline clip-path=\"url(#clip542)\" style=\"stroke:#000000; stroke-width:2; stroke-opacity:0.1; fill:none\" points=\"\n",
       "  1344.78,1423.18 1344.78,47.2441 \n",
       "  \"/>\n",
       "<polyline clip-path=\"url(#clip542)\" style=\"stroke:#000000; stroke-width:2; stroke-opacity:0.1; fill:none\" points=\"\n",
       "  1702.31,1423.18 1702.31,47.2441 \n",
       "  \"/>\n",
       "<polyline clip-path=\"url(#clip542)\" style=\"stroke:#000000; stroke-width:2; stroke-opacity:0.1; fill:none\" points=\"\n",
       "  2059.84,1423.18 2059.84,47.2441 \n",
       "  \"/>\n",
       "<polyline clip-path=\"url(#clip540)\" style=\"stroke:#000000; stroke-width:4; stroke-opacity:1; fill:none\" points=\"\n",
       "  277.224,1423.18 2352.76,1423.18 \n",
       "  \"/>\n",
       "<polyline clip-path=\"url(#clip540)\" style=\"stroke:#000000; stroke-width:4; stroke-opacity:1; fill:none\" points=\"\n",
       "  629.733,1423.18 629.733,1406.67 \n",
       "  \"/>\n",
       "<polyline clip-path=\"url(#clip540)\" style=\"stroke:#000000; stroke-width:4; stroke-opacity:1; fill:none\" points=\"\n",
       "  987.258,1423.18 987.258,1406.67 \n",
       "  \"/>\n",
       "<polyline clip-path=\"url(#clip540)\" style=\"stroke:#000000; stroke-width:4; stroke-opacity:1; fill:none\" points=\"\n",
       "  1344.78,1423.18 1344.78,1406.67 \n",
       "  \"/>\n",
       "<polyline clip-path=\"url(#clip540)\" style=\"stroke:#000000; stroke-width:4; stroke-opacity:1; fill:none\" points=\"\n",
       "  1702.31,1423.18 1702.31,1406.67 \n",
       "  \"/>\n",
       "<polyline clip-path=\"url(#clip540)\" style=\"stroke:#000000; stroke-width:4; stroke-opacity:1; fill:none\" points=\"\n",
       "  2059.84,1423.18 2059.84,1406.67 \n",
       "  \"/>\n",
       "<path clip-path=\"url(#clip540)\" d=\"M 0 0 M584.825 1452.37 Q581.214 1452.37 579.386 1455.94 Q577.58 1459.48 577.58 1466.61 Q577.58 1473.71 579.386 1477.28 Q581.214 1480.82 584.825 1480.82 Q588.46 1480.82 590.265 1477.28 Q592.094 1473.71 592.094 1466.61 Q592.094 1459.48 590.265 1455.94 Q588.46 1452.37 584.825 1452.37 M584.825 1448.67 Q590.636 1448.67 593.691 1453.27 Q596.77 1457.86 596.77 1466.61 Q596.77 1475.33 593.691 1479.94 Q590.636 1484.52 584.825 1484.52 Q579.015 1484.52 575.937 1479.94 Q572.881 1475.33 572.881 1466.61 Q572.881 1457.86 575.937 1453.27 Q579.015 1448.67 584.825 1448.67 Z\" fill=\"#000000\" fill-rule=\"evenodd\" fill-opacity=\"1\" /><path clip-path=\"url(#clip540)\" d=\"M 0 0 M601.839 1477.97 L606.723 1477.97 L606.723 1483.85 L601.839 1483.85 L601.839 1477.97 Z\" fill=\"#000000\" fill-rule=\"evenodd\" fill-opacity=\"1\" /><path clip-path=\"url(#clip540)\" d=\"M 0 0 M611.932 1483.13 L611.932 1478.88 Q613.691 1479.71 615.497 1480.15 Q617.302 1480.59 619.038 1480.59 Q623.668 1480.59 626.098 1477.49 Q628.552 1474.36 628.899 1468.02 Q627.557 1470.01 625.496 1471.07 Q623.436 1472.14 620.936 1472.14 Q615.751 1472.14 612.719 1469.01 Q609.71 1465.87 609.71 1460.43 Q609.71 1455.1 612.858 1451.88 Q616.006 1448.67 621.237 1448.67 Q627.233 1448.67 630.381 1453.27 Q633.552 1457.86 633.552 1466.61 Q633.552 1474.78 629.663 1479.66 Q625.797 1484.52 619.246 1484.52 Q617.487 1484.52 615.682 1484.18 Q613.876 1483.83 611.932 1483.13 M621.237 1468.48 Q624.385 1468.48 626.214 1466.33 Q628.066 1464.18 628.066 1460.43 Q628.066 1456.7 626.214 1454.55 Q624.385 1452.37 621.237 1452.37 Q618.089 1452.37 616.237 1454.55 Q614.409 1456.7 614.409 1460.43 Q614.409 1464.18 616.237 1466.33 Q618.089 1468.48 621.237 1468.48 Z\" fill=\"#000000\" fill-rule=\"evenodd\" fill-opacity=\"1\" /><path clip-path=\"url(#clip540)\" d=\"M 0 0 M648.621 1467.44 Q645.288 1467.44 643.367 1469.22 Q641.469 1471 641.469 1474.13 Q641.469 1477.25 643.367 1479.04 Q645.288 1480.82 648.621 1480.82 Q651.955 1480.82 653.876 1479.04 Q655.797 1477.23 655.797 1474.13 Q655.797 1471 653.876 1469.22 Q651.978 1467.44 648.621 1467.44 M643.945 1465.45 Q640.936 1464.71 639.246 1462.65 Q637.58 1460.59 637.58 1457.63 Q637.58 1453.48 640.52 1451.07 Q643.482 1448.67 648.621 1448.67 Q653.783 1448.67 656.723 1451.07 Q659.663 1453.48 659.663 1457.63 Q659.663 1460.59 657.973 1462.65 Q656.306 1464.71 653.32 1465.45 Q656.7 1466.24 658.575 1468.53 Q660.473 1470.82 660.473 1474.13 Q660.473 1479.15 657.394 1481.84 Q654.339 1484.52 648.621 1484.52 Q642.904 1484.52 639.825 1481.84 Q636.77 1479.15 636.77 1474.13 Q636.77 1470.82 638.668 1468.53 Q640.566 1466.24 643.945 1465.45 M642.232 1458.06 Q642.232 1460.75 643.899 1462.25 Q645.589 1463.76 648.621 1463.76 Q651.631 1463.76 653.32 1462.25 Q655.033 1460.75 655.033 1458.06 Q655.033 1455.38 653.32 1453.88 Q651.631 1452.37 648.621 1452.37 Q645.589 1452.37 643.899 1453.88 Q642.232 1455.38 642.232 1458.06 Z\" fill=\"#000000\" fill-rule=\"evenodd\" fill-opacity=\"1\" /><path clip-path=\"url(#clip540)\" d=\"M 0 0 M664.362 1449.29 L686.584 1449.29 L686.584 1451.28 L674.038 1483.85 L669.154 1483.85 L680.959 1453.23 L664.362 1453.23 L664.362 1449.29 Z\" fill=\"#000000\" fill-rule=\"evenodd\" fill-opacity=\"1\" /><path clip-path=\"url(#clip540)\" d=\"M 0 0 M941.946 1452.37 Q938.335 1452.37 936.506 1455.94 Q934.701 1459.48 934.701 1466.61 Q934.701 1473.71 936.506 1477.28 Q938.335 1480.82 941.946 1480.82 Q945.58 1480.82 947.386 1477.28 Q949.214 1473.71 949.214 1466.61 Q949.214 1459.48 947.386 1455.94 Q945.58 1452.37 941.946 1452.37 M941.946 1448.67 Q947.756 1448.67 950.812 1453.27 Q953.89 1457.86 953.89 1466.61 Q953.89 1475.33 950.812 1479.94 Q947.756 1484.52 941.946 1484.52 Q936.136 1484.52 933.057 1479.94 Q930.002 1475.33 930.002 1466.61 Q930.002 1457.86 933.057 1453.27 Q936.136 1448.67 941.946 1448.67 Z\" fill=\"#000000\" fill-rule=\"evenodd\" fill-opacity=\"1\" /><path clip-path=\"url(#clip540)\" d=\"M 0 0 M958.96 1477.97 L963.844 1477.97 L963.844 1483.85 L958.96 1483.85 L958.96 1477.97 Z\" fill=\"#000000\" fill-rule=\"evenodd\" fill-opacity=\"1\" /><path clip-path=\"url(#clip540)\" d=\"M 0 0 M969.052 1483.13 L969.052 1478.88 Q970.812 1479.71 972.617 1480.15 Q974.423 1480.59 976.159 1480.59 Q980.788 1480.59 983.219 1477.49 Q985.673 1474.36 986.02 1468.02 Q984.677 1470.01 982.617 1471.07 Q980.557 1472.14 978.057 1472.14 Q972.872 1472.14 969.839 1469.01 Q966.83 1465.87 966.83 1460.43 Q966.83 1455.1 969.978 1451.88 Q973.126 1448.67 978.358 1448.67 Q984.353 1448.67 987.501 1453.27 Q990.673 1457.86 990.673 1466.61 Q990.673 1474.78 986.784 1479.66 Q982.918 1484.52 976.367 1484.52 Q974.608 1484.52 972.802 1484.18 Q970.997 1483.83 969.052 1483.13 M978.358 1468.48 Q981.506 1468.48 983.335 1466.33 Q985.186 1464.18 985.186 1460.43 Q985.186 1456.7 983.335 1454.55 Q981.506 1452.37 978.358 1452.37 Q975.21 1452.37 973.358 1454.55 Q971.529 1456.7 971.529 1460.43 Q971.529 1464.18 973.358 1466.33 Q975.21 1468.48 978.358 1468.48 Z\" fill=\"#000000\" fill-rule=\"evenodd\" fill-opacity=\"1\" /><path clip-path=\"url(#clip540)\" d=\"M 0 0 M995.881 1483.13 L995.881 1478.88 Q997.64 1479.71 999.446 1480.15 Q1001.25 1480.59 1002.99 1480.59 Q1007.62 1480.59 1010.05 1477.49 Q1012.5 1474.36 1012.85 1468.02 Q1011.51 1470.01 1009.45 1471.07 Q1007.39 1472.14 1004.89 1472.14 Q999.7 1472.14 996.668 1469.01 Q993.659 1465.87 993.659 1460.43 Q993.659 1455.1 996.807 1451.88 Q999.955 1448.67 1005.19 1448.67 Q1011.18 1448.67 1014.33 1453.27 Q1017.5 1457.86 1017.5 1466.61 Q1017.5 1474.78 1013.61 1479.66 Q1009.75 1484.52 1003.2 1484.52 Q1001.44 1484.52 999.631 1484.18 Q997.825 1483.83 995.881 1483.13 M1005.19 1468.48 Q1008.33 1468.48 1010.16 1466.33 Q1012.02 1464.18 1012.02 1460.43 Q1012.02 1456.7 1010.16 1454.55 Q1008.33 1452.37 1005.19 1452.37 Q1002.04 1452.37 1000.19 1454.55 Q998.358 1456.7 998.358 1460.43 Q998.358 1464.18 1000.19 1466.33 Q1002.04 1468.48 1005.19 1468.48 Z\" fill=\"#000000\" fill-rule=\"evenodd\" fill-opacity=\"1\" /><path clip-path=\"url(#clip540)\" d=\"M 0 0 M1032.57 1452.37 Q1028.96 1452.37 1027.13 1455.94 Q1025.33 1459.48 1025.33 1466.61 Q1025.33 1473.71 1027.13 1477.28 Q1028.96 1480.82 1032.57 1480.82 Q1036.2 1480.82 1038.01 1477.28 Q1039.84 1473.71 1039.84 1466.61 Q1039.84 1459.48 1038.01 1455.94 Q1036.2 1452.37 1032.57 1452.37 M1032.57 1448.67 Q1038.38 1448.67 1041.44 1453.27 Q1044.51 1457.86 1044.51 1466.61 Q1044.51 1475.33 1041.44 1479.94 Q1038.38 1484.52 1032.57 1484.52 Q1026.76 1484.52 1023.68 1479.94 Q1020.63 1475.33 1020.63 1466.61 Q1020.63 1457.86 1023.68 1453.27 Q1026.76 1448.67 1032.57 1448.67 Z\" fill=\"#000000\" fill-rule=\"evenodd\" fill-opacity=\"1\" /><path clip-path=\"url(#clip540)\" d=\"M 0 0 M1299.8 1452.37 Q1296.18 1452.37 1294.36 1455.94 Q1292.55 1459.48 1292.55 1466.61 Q1292.55 1473.71 1294.36 1477.28 Q1296.18 1480.82 1299.8 1480.82 Q1303.43 1480.82 1305.24 1477.28 Q1307.06 1473.71 1307.06 1466.61 Q1307.06 1459.48 1305.24 1455.94 Q1303.43 1452.37 1299.8 1452.37 M1299.8 1448.67 Q1305.61 1448.67 1308.66 1453.27 Q1311.74 1457.86 1311.74 1466.61 Q1311.74 1475.33 1308.66 1479.94 Q1305.61 1484.52 1299.8 1484.52 Q1293.99 1484.52 1290.91 1479.94 Q1287.85 1475.33 1287.85 1466.61 Q1287.85 1457.86 1290.91 1453.27 Q1293.99 1448.67 1299.8 1448.67 Z\" fill=\"#000000\" fill-rule=\"evenodd\" fill-opacity=\"1\" /><path clip-path=\"url(#clip540)\" d=\"M 0 0 M1316.81 1477.97 L1321.69 1477.97 L1321.69 1483.85 L1316.81 1483.85 L1316.81 1477.97 Z\" fill=\"#000000\" fill-rule=\"evenodd\" fill-opacity=\"1\" /><path clip-path=\"url(#clip540)\" d=\"M 0 0 M1326.9 1483.13 L1326.9 1478.88 Q1328.66 1479.71 1330.47 1480.15 Q1332.27 1480.59 1334.01 1480.59 Q1338.64 1480.59 1341.07 1477.49 Q1343.52 1474.36 1343.87 1468.02 Q1342.53 1470.01 1340.47 1471.07 Q1338.41 1472.14 1335.91 1472.14 Q1330.72 1472.14 1327.69 1469.01 Q1324.68 1465.87 1324.68 1460.43 Q1324.68 1455.1 1327.83 1451.88 Q1330.98 1448.67 1336.21 1448.67 Q1342.2 1448.67 1345.35 1453.27 Q1348.52 1457.86 1348.52 1466.61 Q1348.52 1474.78 1344.63 1479.66 Q1340.77 1484.52 1334.22 1484.52 Q1332.46 1484.52 1330.65 1484.18 Q1328.85 1483.83 1326.9 1483.13 M1336.21 1468.48 Q1339.36 1468.48 1341.18 1466.33 Q1343.04 1464.18 1343.04 1460.43 Q1343.04 1456.7 1341.18 1454.55 Q1339.36 1452.37 1336.21 1452.37 Q1333.06 1452.37 1331.21 1454.55 Q1329.38 1456.7 1329.38 1460.43 Q1329.38 1464.18 1331.21 1466.33 Q1333.06 1468.48 1336.21 1468.48 Z\" fill=\"#000000\" fill-rule=\"evenodd\" fill-opacity=\"1\" /><path clip-path=\"url(#clip540)\" d=\"M 0 0 M1353.73 1483.13 L1353.73 1478.88 Q1355.49 1479.71 1357.3 1480.15 Q1359.1 1480.59 1360.84 1480.59 Q1365.47 1480.59 1367.9 1477.49 Q1370.35 1474.36 1370.7 1468.02 Q1369.36 1470.01 1367.3 1471.07 Q1365.24 1472.14 1362.74 1472.14 Q1357.55 1472.14 1354.52 1469.01 Q1351.51 1465.87 1351.51 1460.43 Q1351.51 1455.1 1354.66 1451.88 Q1357.8 1448.67 1363.04 1448.67 Q1369.03 1448.67 1372.18 1453.27 Q1375.35 1457.86 1375.35 1466.61 Q1375.35 1474.78 1371.46 1479.66 Q1367.6 1484.52 1361.05 1484.52 Q1359.29 1484.52 1357.48 1484.18 Q1355.67 1483.83 1353.73 1483.13 M1363.04 1468.48 Q1366.18 1468.48 1368.01 1466.33 Q1369.86 1464.18 1369.86 1460.43 Q1369.86 1456.7 1368.01 1454.55 Q1366.18 1452.37 1363.04 1452.37 Q1359.89 1452.37 1358.04 1454.55 Q1356.21 1456.7 1356.21 1460.43 Q1356.21 1464.18 1358.04 1466.33 Q1359.89 1468.48 1363.04 1468.48 Z\" fill=\"#000000\" fill-rule=\"evenodd\" fill-opacity=\"1\" /><path clip-path=\"url(#clip540)\" d=\"M 0 0 M1394.59 1465.22 Q1397.94 1465.94 1399.82 1468.2 Q1401.72 1470.47 1401.72 1473.81 Q1401.72 1478.92 1398.2 1481.72 Q1394.68 1484.52 1388.2 1484.52 Q1386.02 1484.52 1383.71 1484.08 Q1381.42 1483.67 1378.96 1482.81 L1378.96 1478.3 Q1380.91 1479.43 1383.22 1480.01 Q1385.54 1480.59 1388.06 1480.59 Q1392.46 1480.59 1394.75 1478.85 Q1397.06 1477.12 1397.06 1473.81 Q1397.06 1470.75 1394.91 1469.04 Q1392.78 1467.3 1388.96 1467.3 L1384.93 1467.3 L1384.93 1463.46 L1389.15 1463.46 Q1392.6 1463.46 1394.42 1462.09 Q1396.25 1460.7 1396.25 1458.11 Q1396.25 1455.45 1394.36 1454.04 Q1392.48 1452.6 1388.96 1452.6 Q1387.04 1452.6 1384.84 1453.02 Q1382.64 1453.44 1380 1454.31 L1380 1450.15 Q1382.67 1449.41 1384.98 1449.04 Q1387.32 1448.67 1389.38 1448.67 Q1394.7 1448.67 1397.8 1451.1 Q1400.91 1453.5 1400.91 1457.63 Q1400.91 1460.5 1399.26 1462.49 Q1397.62 1464.45 1394.59 1465.22 Z\" fill=\"#000000\" fill-rule=\"evenodd\" fill-opacity=\"1\" /><path clip-path=\"url(#clip540)\" d=\"M 0 0 M1656.92 1452.37 Q1653.31 1452.37 1651.48 1455.94 Q1649.67 1459.48 1649.67 1466.61 Q1649.67 1473.71 1651.48 1477.28 Q1653.31 1480.82 1656.92 1480.82 Q1660.55 1480.82 1662.36 1477.28 Q1664.18 1473.71 1664.18 1466.61 Q1664.18 1459.48 1662.36 1455.94 Q1660.55 1452.37 1656.92 1452.37 M1656.92 1448.67 Q1662.73 1448.67 1665.78 1453.27 Q1668.86 1457.86 1668.86 1466.61 Q1668.86 1475.33 1665.78 1479.94 Q1662.73 1484.52 1656.92 1484.52 Q1651.11 1484.52 1648.03 1479.94 Q1644.97 1475.33 1644.97 1466.61 Q1644.97 1457.86 1648.03 1453.27 Q1651.11 1448.67 1656.92 1448.67 Z\" fill=\"#000000\" fill-rule=\"evenodd\" fill-opacity=\"1\" /><path clip-path=\"url(#clip540)\" d=\"M 0 0 M1673.93 1477.97 L1678.81 1477.97 L1678.81 1483.85 L1673.93 1483.85 L1673.93 1477.97 Z\" fill=\"#000000\" fill-rule=\"evenodd\" fill-opacity=\"1\" /><path clip-path=\"url(#clip540)\" d=\"M 0 0 M1684.02 1483.13 L1684.02 1478.88 Q1685.78 1479.71 1687.59 1480.15 Q1689.39 1480.59 1691.13 1480.59 Q1695.76 1480.59 1698.19 1477.49 Q1700.64 1474.36 1700.99 1468.02 Q1699.65 1470.01 1697.59 1471.07 Q1695.53 1472.14 1693.03 1472.14 Q1687.84 1472.14 1684.81 1469.01 Q1681.8 1465.87 1681.8 1460.43 Q1681.8 1455.1 1684.95 1451.88 Q1688.1 1448.67 1693.33 1448.67 Q1699.32 1448.67 1702.47 1453.27 Q1705.64 1457.86 1705.64 1466.61 Q1705.64 1474.78 1701.75 1479.66 Q1697.89 1484.52 1691.34 1484.52 Q1689.58 1484.52 1687.77 1484.18 Q1685.97 1483.83 1684.02 1483.13 M1693.33 1468.48 Q1696.48 1468.48 1698.3 1466.33 Q1700.16 1464.18 1700.16 1460.43 Q1700.16 1456.7 1698.3 1454.55 Q1696.48 1452.37 1693.33 1452.37 Q1690.18 1452.37 1688.33 1454.55 Q1686.5 1456.7 1686.5 1460.43 Q1686.5 1464.18 1688.33 1466.33 Q1690.18 1468.48 1693.33 1468.48 Z\" fill=\"#000000\" fill-rule=\"evenodd\" fill-opacity=\"1\" /><path clip-path=\"url(#clip540)\" d=\"M 0 0 M1710.85 1483.13 L1710.85 1478.88 Q1712.61 1479.71 1714.42 1480.15 Q1716.22 1480.59 1717.96 1480.59 Q1722.59 1480.59 1725.02 1477.49 Q1727.47 1474.36 1727.82 1468.02 Q1726.48 1470.01 1724.42 1471.07 Q1722.36 1472.14 1719.86 1472.14 Q1714.67 1472.14 1711.64 1469.01 Q1708.63 1465.87 1708.63 1460.43 Q1708.63 1455.1 1711.78 1451.88 Q1714.93 1448.67 1720.16 1448.67 Q1726.15 1448.67 1729.3 1453.27 Q1732.47 1457.86 1732.47 1466.61 Q1732.47 1474.78 1728.58 1479.66 Q1724.72 1484.52 1718.17 1484.52 Q1716.41 1484.52 1714.6 1484.18 Q1712.8 1483.83 1710.85 1483.13 M1720.16 1468.48 Q1723.3 1468.48 1725.13 1466.33 Q1726.99 1464.18 1726.99 1460.43 Q1726.99 1456.7 1725.13 1454.55 Q1723.3 1452.37 1720.16 1452.37 Q1717.01 1452.37 1715.16 1454.55 Q1713.33 1456.7 1713.33 1460.43 Q1713.33 1464.18 1715.16 1466.33 Q1717.01 1468.48 1720.16 1468.48 Z\" fill=\"#000000\" fill-rule=\"evenodd\" fill-opacity=\"1\" /><path clip-path=\"url(#clip540)\" d=\"M 0 0 M1748.12 1464.71 Q1744.97 1464.71 1743.12 1466.86 Q1741.29 1469.01 1741.29 1472.76 Q1741.29 1476.49 1743.12 1478.67 Q1744.97 1480.82 1748.12 1480.82 Q1751.27 1480.82 1753.1 1478.67 Q1754.95 1476.49 1754.95 1472.76 Q1754.95 1469.01 1753.1 1466.86 Q1751.27 1464.71 1748.12 1464.71 M1757.4 1450.06 L1757.4 1454.31 Q1755.64 1453.48 1753.84 1453.04 Q1752.05 1452.6 1750.3 1452.6 Q1745.67 1452.6 1743.21 1455.73 Q1740.78 1458.85 1740.43 1465.17 Q1741.8 1463.16 1743.86 1462.09 Q1745.92 1461 1748.4 1461 Q1753.61 1461 1756.61 1464.18 Q1759.65 1467.32 1759.65 1472.76 Q1759.65 1478.09 1756.5 1481.31 Q1753.35 1484.52 1748.12 1484.52 Q1742.12 1484.52 1738.95 1479.94 Q1735.78 1475.33 1735.78 1466.61 Q1735.78 1458.41 1739.67 1453.55 Q1743.56 1448.67 1750.11 1448.67 Q1751.87 1448.67 1753.65 1449.01 Q1755.46 1449.36 1757.4 1450.06 Z\" fill=\"#000000\" fill-rule=\"evenodd\" fill-opacity=\"1\" /><path clip-path=\"url(#clip540)\" d=\"M 0 0 M2014.62 1452.37 Q2011 1452.37 2009.18 1455.94 Q2007.37 1459.48 2007.37 1466.61 Q2007.37 1473.71 2009.18 1477.28 Q2011 1480.82 2014.62 1480.82 Q2018.25 1480.82 2020.06 1477.28 Q2021.88 1473.71 2021.88 1466.61 Q2021.88 1459.48 2020.06 1455.94 Q2018.25 1452.37 2014.62 1452.37 M2014.62 1448.67 Q2020.43 1448.67 2023.48 1453.27 Q2026.56 1457.86 2026.56 1466.61 Q2026.56 1475.33 2023.48 1479.94 Q2020.43 1484.52 2014.62 1484.52 Q2008.81 1484.52 2005.73 1479.94 Q2002.67 1475.33 2002.67 1466.61 Q2002.67 1457.86 2005.73 1453.27 Q2008.81 1448.67 2014.62 1448.67 Z\" fill=\"#000000\" fill-rule=\"evenodd\" fill-opacity=\"1\" /><path clip-path=\"url(#clip540)\" d=\"M 0 0 M2031.63 1477.97 L2036.51 1477.97 L2036.51 1483.85 L2031.63 1483.85 L2031.63 1477.97 Z\" fill=\"#000000\" fill-rule=\"evenodd\" fill-opacity=\"1\" /><path clip-path=\"url(#clip540)\" d=\"M 0 0 M2041.72 1483.13 L2041.72 1478.88 Q2043.48 1479.71 2045.29 1480.15 Q2047.09 1480.59 2048.83 1480.59 Q2053.46 1480.59 2055.89 1477.49 Q2058.34 1474.36 2058.69 1468.02 Q2057.35 1470.01 2055.29 1471.07 Q2053.23 1472.14 2050.73 1472.14 Q2045.54 1472.14 2042.51 1469.01 Q2039.5 1465.87 2039.5 1460.43 Q2039.5 1455.1 2042.65 1451.88 Q2045.8 1448.67 2051.03 1448.67 Q2057.02 1448.67 2060.17 1453.27 Q2063.34 1457.86 2063.34 1466.61 Q2063.34 1474.78 2059.45 1479.66 Q2055.59 1484.52 2049.04 1484.52 Q2047.28 1484.52 2045.47 1484.18 Q2043.67 1483.83 2041.72 1483.13 M2051.03 1468.48 Q2054.18 1468.48 2056 1466.33 Q2057.86 1464.18 2057.86 1460.43 Q2057.86 1456.7 2056 1454.55 Q2054.18 1452.37 2051.03 1452.37 Q2047.88 1452.37 2046.03 1454.55 Q2044.2 1456.7 2044.2 1460.43 Q2044.2 1464.18 2046.03 1466.33 Q2047.88 1468.48 2051.03 1468.48 Z\" fill=\"#000000\" fill-rule=\"evenodd\" fill-opacity=\"1\" /><path clip-path=\"url(#clip540)\" d=\"M 0 0 M2068.55 1483.13 L2068.55 1478.88 Q2070.31 1479.71 2072.12 1480.15 Q2073.92 1480.59 2075.66 1480.59 Q2080.29 1480.59 2082.72 1477.49 Q2085.17 1474.36 2085.52 1468.02 Q2084.18 1470.01 2082.12 1471.07 Q2080.05 1472.14 2077.55 1472.14 Q2072.37 1472.14 2069.34 1469.01 Q2066.33 1465.87 2066.33 1460.43 Q2066.33 1455.1 2069.48 1451.88 Q2072.62 1448.67 2077.86 1448.67 Q2083.85 1448.67 2087 1453.27 Q2090.17 1457.86 2090.17 1466.61 Q2090.17 1474.78 2086.28 1479.66 Q2082.42 1484.52 2075.87 1484.52 Q2074.11 1484.52 2072.3 1484.18 Q2070.49 1483.83 2068.55 1483.13 M2077.86 1468.48 Q2081 1468.48 2082.83 1466.33 Q2084.68 1464.18 2084.68 1460.43 Q2084.68 1456.7 2082.83 1454.55 Q2081 1452.37 2077.86 1452.37 Q2074.71 1452.37 2072.86 1454.55 Q2071.03 1456.7 2071.03 1460.43 Q2071.03 1464.18 2072.86 1466.33 Q2074.71 1468.48 2077.86 1468.48 Z\" fill=\"#000000\" fill-rule=\"evenodd\" fill-opacity=\"1\" /><path clip-path=\"url(#clip540)\" d=\"M 0 0 M2095.38 1483.13 L2095.38 1478.88 Q2097.14 1479.71 2098.94 1480.15 Q2100.75 1480.59 2102.49 1480.59 Q2107.11 1480.59 2109.55 1477.49 Q2112 1474.36 2112.35 1468.02 Q2111 1470.01 2108.94 1471.07 Q2106.88 1472.14 2104.38 1472.14 Q2099.2 1472.14 2096.17 1469.01 Q2093.16 1465.87 2093.16 1460.43 Q2093.16 1455.1 2096.3 1451.88 Q2099.45 1448.67 2104.68 1448.67 Q2110.68 1448.67 2113.83 1453.27 Q2117 1457.86 2117 1466.61 Q2117 1474.78 2113.11 1479.66 Q2109.24 1484.52 2102.69 1484.52 Q2100.93 1484.52 2099.13 1484.18 Q2097.32 1483.83 2095.38 1483.13 M2104.68 1468.48 Q2107.83 1468.48 2109.66 1466.33 Q2111.51 1464.18 2111.51 1460.43 Q2111.51 1456.7 2109.66 1454.55 Q2107.83 1452.37 2104.68 1452.37 Q2101.54 1452.37 2099.68 1454.55 Q2097.86 1456.7 2097.86 1460.43 Q2097.86 1464.18 2099.68 1466.33 Q2101.54 1468.48 2104.68 1468.48 Z\" fill=\"#000000\" fill-rule=\"evenodd\" fill-opacity=\"1\" /><path clip-path=\"url(#clip540)\" d=\"M 0 0 M1010.61 1550.7 L1010.61 1569.6 L1004.73 1569.6 L1004.73 1520.4 L1010.61 1520.4 L1010.61 1525.81 Q1012.46 1522.62 1015.26 1521.1 Q1018.09 1519.54 1022.01 1519.54 Q1028.5 1519.54 1032.54 1524.69 Q1036.62 1529.85 1036.62 1538.25 Q1036.62 1546.65 1032.54 1551.81 Q1028.5 1556.97 1022.01 1556.97 Q1018.09 1556.97 1015.26 1555.44 Q1012.46 1553.88 1010.61 1550.7 M1030.54 1538.25 Q1030.54 1531.79 1027.86 1528.13 Q1025.22 1524.44 1020.58 1524.44 Q1015.93 1524.44 1013.26 1528.13 Q1010.61 1531.79 1010.61 1538.25 Q1010.61 1544.71 1013.26 1548.4 Q1015.93 1552.07 1020.58 1552.07 Q1025.22 1552.07 1027.86 1548.4 Q1030.54 1544.71 1030.54 1538.25 Z\" fill=\"#000000\" fill-rule=\"evenodd\" fill-opacity=\"1\" /><path clip-path=\"url(#clip540)\" d=\"M 0 0 M1073.25 1536.76 L1073.25 1539.62 L1046.33 1539.62 Q1046.71 1545.67 1049.95 1548.85 Q1053.23 1552 1059.06 1552 Q1062.43 1552 1065.58 1551.17 Q1068.76 1550.35 1071.88 1548.69 L1071.88 1554.23 Q1068.73 1555.57 1065.42 1556.27 Q1062.11 1556.97 1058.71 1556.97 Q1050.18 1556.97 1045.18 1552 Q1040.21 1547.04 1040.21 1538.57 Q1040.21 1529.82 1044.92 1524.69 Q1049.67 1519.54 1057.69 1519.54 Q1064.88 1519.54 1069.05 1524.18 Q1073.25 1528.8 1073.25 1536.76 M1067.4 1535.04 Q1067.33 1530.23 1064.69 1527.37 Q1062.08 1524.5 1057.75 1524.5 Q1052.85 1524.5 1049.89 1527.27 Q1046.96 1530.04 1046.52 1535.07 L1067.4 1535.04 Z\" fill=\"#000000\" fill-rule=\"evenodd\" fill-opacity=\"1\" /><path clip-path=\"url(#clip540)\" d=\"M 0 0 M1100.05 1525.87 Q1099.07 1525.3 1097.89 1525.04 Q1096.74 1524.76 1095.34 1524.76 Q1090.38 1524.76 1087.7 1528 Q1085.06 1531.22 1085.06 1537.27 L1085.06 1556.04 L1079.17 1556.04 L1079.17 1520.4 L1085.06 1520.4 L1085.06 1525.93 Q1086.91 1522.69 1089.87 1521.13 Q1092.83 1519.54 1097.06 1519.54 Q1097.66 1519.54 1098.4 1519.63 Q1099.13 1519.7 1100.02 1519.85 L1100.05 1525.87 Z\" fill=\"#000000\" fill-rule=\"evenodd\" fill-opacity=\"1\" /><path clip-path=\"url(#clip540)\" d=\"M 0 0 M1099.07 1535.58 L1116.22 1535.58 L1116.22 1540.8 L1099.07 1540.8 L1099.07 1535.58 Z\" fill=\"#000000\" fill-rule=\"evenodd\" fill-opacity=\"1\" /><path clip-path=\"url(#clip540)\" d=\"M 0 0 M1151.1 1510.08 L1151.1 1516.35 Q1147.44 1514.6 1144.2 1513.74 Q1140.95 1512.88 1137.93 1512.88 Q1132.68 1512.88 1129.81 1514.92 Q1126.98 1516.96 1126.98 1520.71 Q1126.98 1523.87 1128.86 1525.49 Q1130.77 1527.08 1136.05 1528.07 L1139.93 1528.86 Q1147.13 1530.23 1150.53 1533.7 Q1153.97 1537.14 1153.97 1542.93 Q1153.97 1549.84 1149.32 1553.4 Q1144.71 1556.97 1135.76 1556.97 Q1132.39 1556.97 1128.57 1556.2 Q1124.78 1555.44 1120.71 1553.94 L1120.71 1547.32 Q1124.62 1549.52 1128.38 1550.63 Q1132.14 1551.75 1135.76 1551.75 Q1141.27 1551.75 1144.26 1549.58 Q1147.25 1547.42 1147.25 1543.41 Q1147.25 1539.91 1145.09 1537.93 Q1142.96 1535.96 1138.06 1534.97 L1134.14 1534.21 Q1126.95 1532.78 1123.73 1529.72 Q1120.52 1526.67 1120.52 1521.22 Q1120.52 1514.92 1124.94 1511.29 Q1129.4 1507.66 1137.2 1507.66 Q1140.54 1507.66 1144.01 1508.27 Q1147.48 1508.87 1151.1 1510.08 Z\" fill=\"#000000\" fill-rule=\"evenodd\" fill-opacity=\"1\" /><path clip-path=\"url(#clip540)\" d=\"M 0 0 M1160.37 1508.52 L1169.02 1508.52 L1190.09 1548.28 L1190.09 1508.52 L1196.33 1508.52 L1196.33 1556.04 L1187.68 1556.04 L1166.61 1516.29 L1166.61 1556.04 L1160.37 1556.04 L1160.37 1508.52 Z\" fill=\"#000000\" fill-rule=\"evenodd\" fill-opacity=\"1\" /><path clip-path=\"url(#clip540)\" d=\"M 0 0 M1209.16 1513.81 L1209.16 1531.66 L1217.24 1531.66 Q1221.73 1531.66 1224.18 1529.34 Q1226.63 1527.02 1226.63 1522.72 Q1226.63 1518.45 1224.18 1516.13 Q1221.73 1513.81 1217.24 1513.81 L1209.16 1513.81 M1202.73 1508.52 L1217.24 1508.52 Q1225.23 1508.52 1229.31 1512.15 Q1233.41 1515.75 1233.41 1522.72 Q1233.41 1529.75 1229.31 1533.35 Q1225.23 1536.95 1217.24 1536.95 L1209.16 1536.95 L1209.16 1556.04 L1202.73 1556.04 L1202.73 1508.52 Z\" fill=\"#000000\" fill-rule=\"evenodd\" fill-opacity=\"1\" /><path clip-path=\"url(#clip540)\" d=\"M 0 0 M1263.78 1538.25 Q1263.78 1544.71 1266.42 1548.4 Q1269.09 1552.07 1273.74 1552.07 Q1278.39 1552.07 1281.06 1548.4 Q1283.73 1544.71 1283.73 1538.25 Q1283.73 1531.79 1281.06 1528.13 Q1278.39 1524.44 1273.74 1524.44 Q1269.09 1524.44 1266.42 1528.13 Q1263.78 1531.79 1263.78 1538.25 M1283.73 1550.7 Q1281.89 1553.88 1279.06 1555.44 Q1276.25 1556.97 1272.31 1556.97 Q1265.85 1556.97 1261.77 1551.81 Q1257.73 1546.65 1257.73 1538.25 Q1257.73 1529.85 1261.77 1524.69 Q1265.85 1519.54 1272.31 1519.54 Q1276.25 1519.54 1279.06 1521.1 Q1281.89 1522.62 1283.73 1525.81 L1283.73 1520.4 L1289.59 1520.4 L1289.59 1569.6 L1283.73 1569.6 L1283.73 1550.7 Z\" fill=\"#000000\" fill-rule=\"evenodd\" fill-opacity=\"1\" /><path clip-path=\"url(#clip540)\" d=\"M 0 0 M1295.13 1541.98 L1295.13 1520.4 L1300.99 1520.4 L1300.99 1541.75 Q1300.99 1546.81 1302.96 1549.36 Q1304.93 1551.87 1308.88 1551.87 Q1313.62 1551.87 1316.36 1548.85 Q1319.13 1545.83 1319.13 1540.61 L1319.13 1520.4 L1324.98 1520.4 L1324.98 1556.04 L1319.13 1556.04 L1319.13 1550.57 Q1317 1553.82 1314.16 1555.41 Q1311.36 1556.97 1307.64 1556.97 Q1301.49 1556.97 1298.31 1553.15 Q1295.13 1549.33 1295.13 1541.98 M1309.87 1519.54 L1309.87 1519.54 Z\" fill=\"#000000\" fill-rule=\"evenodd\" fill-opacity=\"1\" /><path clip-path=\"url(#clip540)\" d=\"M 0 0 M1347.33 1538.12 Q1340.23 1538.12 1337.49 1539.75 Q1334.76 1541.37 1334.76 1545.29 Q1334.76 1548.4 1336.79 1550.25 Q1338.86 1552.07 1342.39 1552.07 Q1347.26 1552.07 1350.19 1548.63 Q1353.15 1545.16 1353.15 1539.43 L1353.15 1538.12 L1347.33 1538.12 M1359.01 1535.71 L1359.01 1556.04 L1353.15 1556.04 L1353.15 1550.63 Q1351.15 1553.88 1348.16 1555.44 Q1345.16 1556.97 1340.83 1556.97 Q1335.36 1556.97 1332.11 1553.91 Q1328.9 1550.82 1328.9 1545.67 Q1328.9 1539.65 1332.91 1536.6 Q1336.95 1533.54 1344.94 1533.54 L1353.15 1533.54 L1353.15 1532.97 Q1353.15 1528.93 1350.48 1526.73 Q1347.84 1524.5 1343.03 1524.5 Q1339.98 1524.5 1337.08 1525.23 Q1334.18 1525.97 1331.51 1527.43 L1331.51 1522.02 Q1334.72 1520.78 1337.75 1520.17 Q1340.77 1519.54 1343.64 1519.54 Q1351.37 1519.54 1355.19 1523.55 Q1359.01 1527.56 1359.01 1535.71 Z\" fill=\"#000000\" fill-rule=\"evenodd\" fill-opacity=\"1\" /><path clip-path=\"url(#clip540)\" d=\"M 0 0 M1365.15 1506.52 L1371.01 1506.52 L1371.01 1556.04 L1365.15 1556.04 L1365.15 1506.52 Z\" fill=\"#000000\" fill-rule=\"evenodd\" fill-opacity=\"1\" /><path clip-path=\"url(#clip540)\" d=\"M 0 0 M1377.15 1520.4 L1383.01 1520.4 L1383.01 1556.04 L1377.15 1556.04 L1377.15 1520.4 M1377.15 1506.52 L1383.01 1506.52 L1383.01 1513.93 L1377.15 1513.93 L1377.15 1506.52 Z\" fill=\"#000000\" fill-rule=\"evenodd\" fill-opacity=\"1\" /><path clip-path=\"url(#clip540)\" d=\"M 0 0 M1394.94 1510.27 L1394.94 1520.4 L1407.01 1520.4 L1407.01 1524.95 L1394.94 1524.95 L1394.94 1544.3 Q1394.94 1548.66 1396.12 1549.9 Q1397.33 1551.14 1400.99 1551.14 L1407.01 1551.14 L1407.01 1556.04 L1400.99 1556.04 Q1394.21 1556.04 1391.63 1553.53 Q1389.06 1550.98 1389.06 1544.3 L1389.06 1524.95 L1384.76 1524.95 L1384.76 1520.4 L1389.06 1520.4 L1389.06 1510.27 L1394.94 1510.27 Z\" fill=\"#000000\" fill-rule=\"evenodd\" fill-opacity=\"1\" /><path clip-path=\"url(#clip540)\" d=\"M 0 0 M1427.98 1559.35 Q1425.5 1565.72 1423.14 1567.66 Q1420.79 1569.6 1416.84 1569.6 L1412.16 1569.6 L1412.16 1564.7 L1415.6 1564.7 Q1418.02 1564.7 1419.36 1563.56 Q1420.69 1562.41 1422.32 1558.14 L1423.37 1555.47 L1408.95 1520.4 L1415.15 1520.4 L1426.29 1548.28 L1437.43 1520.4 L1443.64 1520.4 L1427.98 1559.35 Z\" fill=\"#000000\" fill-rule=\"evenodd\" fill-opacity=\"1\" /><path clip-path=\"url(#clip540)\" d=\"M 0 0 M1493.23 1521.45 L1493.23 1526.98 Q1490.75 1525.71 1488.07 1525.07 Q1485.4 1524.44 1482.54 1524.44 Q1478.17 1524.44 1475.98 1525.77 Q1473.81 1527.11 1473.81 1529.79 Q1473.81 1531.82 1475.37 1533 Q1476.93 1534.15 1481.64 1535.2 L1483.65 1535.64 Q1489.89 1536.98 1492.5 1539.43 Q1495.14 1541.85 1495.14 1546.21 Q1495.14 1551.17 1491.19 1554.07 Q1487.28 1556.97 1480.4 1556.97 Q1477.54 1556.97 1474.42 1556.39 Q1471.33 1555.85 1467.89 1554.74 L1467.89 1548.69 Q1471.14 1550.38 1474.29 1551.24 Q1477.44 1552.07 1480.53 1552.07 Q1484.67 1552.07 1486.9 1550.66 Q1489.12 1549.23 1489.12 1546.65 Q1489.12 1544.27 1487.5 1542.99 Q1485.91 1541.72 1480.47 1540.54 L1478.43 1540.07 Q1472.99 1538.92 1470.57 1536.56 Q1468.15 1534.18 1468.15 1530.04 Q1468.15 1525.01 1471.71 1522.27 Q1475.28 1519.54 1481.84 1519.54 Q1485.08 1519.54 1487.95 1520.01 Q1490.81 1520.49 1493.23 1521.45 Z\" fill=\"#000000\" fill-rule=\"evenodd\" fill-opacity=\"1\" /><path clip-path=\"url(#clip540)\" d=\"M 0 0 M1526.94 1521.76 L1526.94 1527.24 Q1524.45 1525.87 1521.94 1525.2 Q1519.46 1524.5 1516.91 1524.5 Q1511.21 1524.5 1508.06 1528.13 Q1504.91 1531.73 1504.91 1538.25 Q1504.91 1544.78 1508.06 1548.4 Q1511.21 1552 1516.91 1552 Q1519.46 1552 1521.94 1551.33 Q1524.45 1550.63 1526.94 1549.26 L1526.94 1554.68 Q1524.49 1555.82 1521.84 1556.39 Q1519.23 1556.97 1516.27 1556.97 Q1508.22 1556.97 1503.48 1551.91 Q1498.74 1546.85 1498.74 1538.25 Q1498.74 1529.53 1503.51 1524.53 Q1508.32 1519.54 1516.66 1519.54 Q1519.36 1519.54 1521.94 1520.11 Q1524.52 1520.65 1526.94 1521.76 Z\" fill=\"#000000\" fill-rule=\"evenodd\" fill-opacity=\"1\" /><path clip-path=\"url(#clip540)\" d=\"M 0 0 M1546.89 1524.5 Q1542.18 1524.5 1539.44 1528.19 Q1536.71 1531.85 1536.71 1538.25 Q1536.71 1544.65 1539.41 1548.34 Q1542.15 1552 1546.89 1552 Q1551.57 1552 1554.31 1548.31 Q1557.05 1544.62 1557.05 1538.25 Q1557.05 1531.92 1554.31 1528.23 Q1551.57 1524.5 1546.89 1524.5 M1546.89 1519.54 Q1554.53 1519.54 1558.89 1524.5 Q1563.25 1529.47 1563.25 1538.25 Q1563.25 1547 1558.89 1552 Q1554.53 1556.97 1546.89 1556.97 Q1539.22 1556.97 1534.86 1552 Q1530.53 1547 1530.53 1538.25 Q1530.53 1529.47 1534.86 1524.5 Q1539.22 1519.54 1546.89 1519.54 Z\" fill=\"#000000\" fill-rule=\"evenodd\" fill-opacity=\"1\" /><path clip-path=\"url(#clip540)\" d=\"M 0 0 M1590.05 1525.87 Q1589.07 1525.3 1587.89 1525.04 Q1586.74 1524.76 1585.34 1524.76 Q1580.38 1524.76 1577.7 1528 Q1575.06 1531.22 1575.06 1537.27 L1575.06 1556.04 L1569.17 1556.04 L1569.17 1520.4 L1575.06 1520.4 L1575.06 1525.93 Q1576.91 1522.69 1579.87 1521.13 Q1582.83 1519.54 1587.06 1519.54 Q1587.67 1519.54 1588.4 1519.63 Q1589.13 1519.7 1590.02 1519.85 L1590.05 1525.87 Z\" fill=\"#000000\" fill-rule=\"evenodd\" fill-opacity=\"1\" /><path clip-path=\"url(#clip540)\" d=\"M 0 0 M1625.25 1536.76 L1625.25 1539.62 L1598.33 1539.62 Q1598.71 1545.67 1601.96 1548.85 Q1605.23 1552 1611.06 1552 Q1614.43 1552 1617.58 1551.17 Q1620.77 1550.35 1623.89 1548.69 L1623.89 1554.23 Q1620.73 1555.57 1617.42 1556.27 Q1614.11 1556.97 1610.71 1556.97 Q1602.18 1556.97 1597.18 1552 Q1592.22 1547.04 1592.22 1538.57 Q1592.22 1529.82 1596.93 1524.69 Q1601.67 1519.54 1609.69 1519.54 Q1616.88 1519.54 1621.05 1524.18 Q1625.25 1528.8 1625.25 1536.76 M1619.4 1535.04 Q1619.33 1530.23 1616.69 1527.37 Q1614.08 1524.5 1609.75 1524.5 Q1604.85 1524.5 1601.89 1527.27 Q1598.96 1530.04 1598.52 1535.07 L1619.4 1535.04 Z\" fill=\"#000000\" fill-rule=\"evenodd\" fill-opacity=\"1\" /><polyline clip-path=\"url(#clip542)\" style=\"stroke:#000000; stroke-width:2; stroke-opacity:0.1; fill:none\" points=\"\n",
       "  277.224,1384.24 2352.76,1384.24 \n",
       "  \"/>\n",
       "<polyline clip-path=\"url(#clip542)\" style=\"stroke:#000000; stroke-width:2; stroke-opacity:0.1; fill:none\" points=\"\n",
       "  277.224,992.262 2352.76,992.262 \n",
       "  \"/>\n",
       "<polyline clip-path=\"url(#clip542)\" style=\"stroke:#000000; stroke-width:2; stroke-opacity:0.1; fill:none\" points=\"\n",
       "  277.224,600.286 2352.76,600.286 \n",
       "  \"/>\n",
       "<polyline clip-path=\"url(#clip542)\" style=\"stroke:#000000; stroke-width:2; stroke-opacity:0.1; fill:none\" points=\"\n",
       "  277.224,208.31 2352.76,208.31 \n",
       "  \"/>\n",
       "<polyline clip-path=\"url(#clip540)\" style=\"stroke:#000000; stroke-width:4; stroke-opacity:1; fill:none\" points=\"\n",
       "  277.224,1423.18 277.224,47.2441 \n",
       "  \"/>\n",
       "<polyline clip-path=\"url(#clip540)\" style=\"stroke:#000000; stroke-width:4; stroke-opacity:1; fill:none\" points=\"\n",
       "  277.224,1384.24 302.131,1384.24 \n",
       "  \"/>\n",
       "<polyline clip-path=\"url(#clip540)\" style=\"stroke:#000000; stroke-width:4; stroke-opacity:1; fill:none\" points=\"\n",
       "  277.224,992.262 302.131,992.262 \n",
       "  \"/>\n",
       "<polyline clip-path=\"url(#clip540)\" style=\"stroke:#000000; stroke-width:4; stroke-opacity:1; fill:none\" points=\"\n",
       "  277.224,600.286 302.131,600.286 \n",
       "  \"/>\n",
       "<polyline clip-path=\"url(#clip540)\" style=\"stroke:#000000; stroke-width:4; stroke-opacity:1; fill:none\" points=\"\n",
       "  277.224,208.31 302.131,208.31 \n",
       "  \"/>\n",
       "<path clip-path=\"url(#clip540)\" d=\"M 0 0 M229.28 1370.04 Q225.669 1370.04 223.84 1373.6 Q222.034 1377.14 222.034 1384.27 Q222.034 1391.38 223.84 1394.94 Q225.669 1398.49 229.28 1398.49 Q232.914 1398.49 234.72 1394.94 Q236.548 1391.38 236.548 1384.27 Q236.548 1377.14 234.72 1373.6 Q232.914 1370.04 229.28 1370.04 M229.28 1366.33 Q235.09 1366.33 238.145 1370.94 Q241.224 1375.52 241.224 1384.27 Q241.224 1393 238.145 1397.61 Q235.09 1402.19 229.28 1402.19 Q223.47 1402.19 220.391 1397.61 Q217.335 1393 217.335 1384.27 Q217.335 1375.52 220.391 1370.94 Q223.47 1366.33 229.28 1366.33 Z\" fill=\"#000000\" fill-rule=\"evenodd\" fill-opacity=\"1\" /><path clip-path=\"url(#clip540)\" d=\"M 0 0 M117.107 1012.05 L124.746 1012.05 L124.746 985.689 L116.436 987.356 L116.436 983.096 L124.7 981.43 L129.376 981.43 L129.376 1012.05 L137.015 1012.05 L137.015 1015.99 L117.107 1015.99 L117.107 1012.05 Z\" fill=\"#000000\" fill-rule=\"evenodd\" fill-opacity=\"1\" /><path clip-path=\"url(#clip540)\" d=\"M 0 0 M170.255 990.527 L159.677 1001.15 L170.255 1011.73 L167.501 1014.53 L156.876 1003.91 L146.251 1014.53 L143.519 1011.73 L154.075 1001.15 L143.519 990.527 L146.251 987.726 L156.876 998.351 L167.501 987.726 L170.255 990.527 Z\" fill=\"#000000\" fill-rule=\"evenodd\" fill-opacity=\"1\" /><path clip-path=\"url(#clip540)\" d=\"M 0 0 M176.135 1012.05 L183.774 1012.05 L183.774 985.689 L175.464 987.356 L175.464 983.096 L183.727 981.43 L188.403 981.43 L188.403 1012.05 L196.042 1012.05 L196.042 1015.99 L176.135 1015.99 L176.135 1012.05 Z\" fill=\"#000000\" fill-rule=\"evenodd\" fill-opacity=\"1\" /><path clip-path=\"url(#clip540)\" d=\"M 0 0 M211.111 984.508 Q207.5 984.508 205.672 988.073 Q203.866 991.615 203.866 998.744 Q203.866 1005.85 205.672 1009.42 Q207.5 1012.96 211.111 1012.96 Q214.746 1012.96 216.551 1009.42 Q218.38 1005.85 218.38 998.744 Q218.38 991.615 216.551 988.073 Q214.746 984.508 211.111 984.508 M211.111 980.805 Q216.922 980.805 219.977 985.411 Q223.056 989.994 223.056 998.744 Q223.056 1007.47 219.977 1012.08 Q216.922 1016.66 211.111 1016.66 Q205.301 1016.66 202.223 1012.08 Q199.167 1007.47 199.167 998.744 Q199.167 989.994 202.223 985.411 Q205.301 980.805 211.111 980.805 Z\" fill=\"#000000\" fill-rule=\"evenodd\" fill-opacity=\"1\" /><path clip-path=\"url(#clip540)\" d=\"M 0 0 M224.241 960.499 L239.155 960.499 L239.155 963.697 L227.72 963.697 L227.72 970.58 Q228.548 970.298 229.375 970.166 Q230.203 970.016 231.03 970.016 Q235.732 970.016 238.478 972.593 Q241.224 975.169 241.224 979.57 Q241.224 984.103 238.403 986.623 Q235.582 989.125 230.447 989.125 Q228.679 989.125 226.836 988.824 Q225.012 988.523 223.056 987.921 L223.056 984.103 Q224.749 985.025 226.554 985.476 Q228.36 985.927 230.372 985.927 Q233.626 985.927 235.525 984.216 Q237.425 982.504 237.425 979.57 Q237.425 976.636 235.525 974.925 Q233.626 973.213 230.372 973.213 Q228.849 973.213 227.325 973.552 Q225.821 973.89 224.241 974.605 L224.241 960.499 Z\" fill=\"#000000\" fill-rule=\"evenodd\" fill-opacity=\"1\" /><path clip-path=\"url(#clip540)\" d=\"M 0 0 M120.695 620.078 L137.015 620.078 L137.015 624.014 L115.07 624.014 L115.07 620.078 Q117.732 617.324 122.316 612.694 Q126.922 608.041 128.103 606.699 Q130.348 604.176 131.228 602.44 Q132.13 600.68 132.13 598.991 Q132.13 596.236 130.186 594.5 Q128.265 592.764 125.163 592.764 Q122.964 592.764 120.51 593.528 Q118.08 594.291 115.302 595.842 L115.302 591.12 Q118.126 589.986 120.58 589.407 Q123.033 588.829 125.07 588.829 Q130.441 588.829 133.635 591.514 Q136.829 594.199 136.829 598.69 Q136.829 600.819 136.019 602.74 Q135.232 604.639 133.126 607.231 Q132.547 607.903 129.445 611.12 Q126.343 614.315 120.695 620.078 Z\" fill=\"#000000\" fill-rule=\"evenodd\" fill-opacity=\"1\" /><path clip-path=\"url(#clip540)\" d=\"M 0 0 M170.255 598.551 L159.677 609.176 L170.255 619.754 L167.501 622.555 L156.876 611.93 L146.251 622.555 L143.519 619.754 L154.075 609.176 L143.519 598.551 L146.251 595.75 L156.876 606.375 L167.501 595.75 L170.255 598.551 Z\" fill=\"#000000\" fill-rule=\"evenodd\" fill-opacity=\"1\" /><path clip-path=\"url(#clip540)\" d=\"M 0 0 M176.135 620.078 L183.774 620.078 L183.774 593.713 L175.464 595.379 L175.464 591.12 L183.727 589.454 L188.403 589.454 L188.403 620.078 L196.042 620.078 L196.042 624.014 L176.135 624.014 L176.135 620.078 Z\" fill=\"#000000\" fill-rule=\"evenodd\" fill-opacity=\"1\" /><path clip-path=\"url(#clip540)\" d=\"M 0 0 M211.111 592.532 Q207.5 592.532 205.672 596.097 Q203.866 599.639 203.866 606.768 Q203.866 613.875 205.672 617.439 Q207.5 620.981 211.111 620.981 Q214.746 620.981 216.551 617.439 Q218.38 613.875 218.38 606.768 Q218.38 599.639 216.551 596.097 Q214.746 592.532 211.111 592.532 M211.111 588.829 Q216.922 588.829 219.977 593.435 Q223.056 598.018 223.056 606.768 Q223.056 615.495 219.977 620.102 Q216.922 624.685 211.111 624.685 Q205.301 624.685 202.223 620.102 Q199.167 615.495 199.167 606.768 Q199.167 598.018 202.223 593.435 Q205.301 588.829 211.111 588.829 Z\" fill=\"#000000\" fill-rule=\"evenodd\" fill-opacity=\"1\" /><path clip-path=\"url(#clip540)\" d=\"M 0 0 M224.241 568.523 L239.155 568.523 L239.155 571.72 L227.72 571.72 L227.72 578.604 Q228.548 578.322 229.375 578.19 Q230.203 578.04 231.03 578.04 Q235.732 578.04 238.478 580.617 Q241.224 583.193 241.224 587.594 Q241.224 592.127 238.403 594.647 Q235.582 597.149 230.447 597.149 Q228.679 597.149 226.836 596.848 Q225.012 596.547 223.056 595.945 L223.056 592.127 Q224.749 593.048 226.554 593.5 Q228.36 593.951 230.372 593.951 Q233.626 593.951 235.525 592.24 Q237.425 590.528 237.425 587.594 Q237.425 584.66 235.525 582.949 Q233.626 581.237 230.372 581.237 Q228.849 581.237 227.325 581.576 Q225.821 581.914 224.241 582.629 L224.241 568.523 Z\" fill=\"#000000\" fill-rule=\"evenodd\" fill-opacity=\"1\" /><path clip-path=\"url(#clip540)\" d=\"M 0 0 M129.885 213.403 Q133.242 214.121 135.117 216.389 Q137.015 218.658 137.015 221.991 Q137.015 227.107 133.496 229.908 Q129.978 232.709 123.496 232.709 Q121.32 232.709 119.006 232.269 Q116.714 231.852 114.26 230.996 L114.26 226.482 Q116.205 227.616 118.519 228.195 Q120.834 228.773 123.357 228.773 Q127.755 228.773 130.047 227.037 Q132.362 225.301 132.362 221.991 Q132.362 218.936 130.209 217.223 Q128.08 215.487 124.26 215.487 L120.232 215.487 L120.232 211.644 L124.445 211.644 Q127.894 211.644 129.723 210.278 Q131.552 208.889 131.552 206.297 Q131.552 203.635 129.654 202.223 Q127.779 200.788 124.26 200.788 Q122.339 200.788 120.14 201.204 Q117.941 201.621 115.302 202.5 L115.302 198.334 Q117.964 197.593 120.279 197.223 Q122.617 196.852 124.677 196.852 Q130.001 196.852 133.103 199.283 Q136.204 201.69 136.204 205.811 Q136.204 208.681 134.561 210.672 Q132.917 212.639 129.885 213.403 Z\" fill=\"#000000\" fill-rule=\"evenodd\" fill-opacity=\"1\" /><path clip-path=\"url(#clip540)\" d=\"M 0 0 M170.255 206.575 L159.677 217.199 L170.255 227.778 L167.501 230.579 L156.876 219.954 L146.251 230.579 L143.519 227.778 L154.075 217.199 L143.519 206.575 L146.251 203.774 L156.876 214.399 L167.501 203.774 L170.255 206.575 Z\" fill=\"#000000\" fill-rule=\"evenodd\" fill-opacity=\"1\" /><path clip-path=\"url(#clip540)\" d=\"M 0 0 M176.135 228.102 L183.774 228.102 L183.774 201.737 L175.464 203.403 L175.464 199.144 L183.727 197.477 L188.403 197.477 L188.403 228.102 L196.042 228.102 L196.042 232.037 L176.135 232.037 L176.135 228.102 Z\" fill=\"#000000\" fill-rule=\"evenodd\" fill-opacity=\"1\" /><path clip-path=\"url(#clip540)\" d=\"M 0 0 M211.111 200.556 Q207.5 200.556 205.672 204.121 Q203.866 207.662 203.866 214.792 Q203.866 221.899 205.672 225.463 Q207.5 229.005 211.111 229.005 Q214.746 229.005 216.551 225.463 Q218.38 221.899 218.38 214.792 Q218.38 207.662 216.551 204.121 Q214.746 200.556 211.111 200.556 M211.111 196.852 Q216.922 196.852 219.977 201.459 Q223.056 206.042 223.056 214.792 Q223.056 223.519 219.977 228.125 Q216.922 232.709 211.111 232.709 Q205.301 232.709 202.223 228.125 Q199.167 223.519 199.167 214.792 Q199.167 206.042 202.223 201.459 Q205.301 196.852 211.111 196.852 Z\" fill=\"#000000\" fill-rule=\"evenodd\" fill-opacity=\"1\" /><path clip-path=\"url(#clip540)\" d=\"M 0 0 M224.241 176.547 L239.155 176.547 L239.155 179.744 L227.72 179.744 L227.72 186.628 Q228.548 186.346 229.375 186.214 Q230.203 186.064 231.03 186.064 Q235.732 186.064 238.478 188.64 Q241.224 191.217 241.224 195.618 Q241.224 200.151 238.403 202.671 Q235.582 205.172 230.447 205.172 Q228.679 205.172 226.836 204.871 Q225.012 204.571 223.056 203.969 L223.056 200.151 Q224.749 201.072 226.554 201.524 Q228.36 201.975 230.372 201.975 Q233.626 201.975 235.525 200.264 Q237.425 198.552 237.425 195.618 Q237.425 192.684 235.525 190.973 Q233.626 189.261 230.372 189.261 Q228.849 189.261 227.325 189.6 Q225.821 189.938 224.241 190.653 L224.241 176.547 Z\" fill=\"#000000\" fill-rule=\"evenodd\" fill-opacity=\"1\" /><path clip-path=\"url(#clip540)\" d=\"M 0 0 M42.0438 868.462 L48.314 868.462 Q46.5634 872.122 45.704 875.369 Q44.8447 878.615 44.8447 881.639 Q44.8447 886.891 46.8817 889.755 Q48.9187 892.588 52.6745 892.588 Q55.8255 892.588 57.4488 890.71 Q59.0402 888.801 60.0269 883.517 L60.8226 879.634 Q62.1912 872.441 65.6605 869.035 Q69.098 865.598 74.8908 865.598 Q81.7976 865.598 85.3624 870.245 Q88.9272 874.86 88.9272 883.803 Q88.9272 887.177 88.1633 890.997 Q87.3994 894.784 85.9035 898.858 L79.2831 898.858 Q81.4793 894.943 82.5933 891.188 Q83.7073 887.432 83.7073 883.803 Q83.7073 878.297 81.543 875.305 Q79.3786 872.313 75.3682 872.313 Q71.8671 872.313 69.8937 874.478 Q67.9204 876.61 66.9337 881.512 L66.1698 885.427 Q64.7375 892.62 61.682 895.835 Q58.6264 899.049 53.1837 899.049 Q46.8817 899.049 43.2532 894.625 Q39.6248 890.169 39.6248 882.371 Q39.6248 879.029 40.2295 875.56 Q40.8343 872.091 42.0438 868.462 Z\" fill=\"#000000\" fill-rule=\"evenodd\" fill-opacity=\"1\" /><path clip-path=\"url(#clip540)\" d=\"M 0 0 M40.4842 859.2 L40.4842 850.543 L80.238 829.472 L40.4842 829.472 L40.4842 823.234 L88.0042 823.234 L88.0042 831.891 L48.2503 852.962 L88.0042 852.962 L88.0042 859.2 L40.4842 859.2 Z\" fill=\"#000000\" fill-rule=\"evenodd\" fill-opacity=\"1\" /><path clip-path=\"url(#clip540)\" d=\"M 0 0 M45.7677 810.407 L63.6235 810.407 L63.6235 802.322 Q63.6235 797.835 61.3 795.384 Q58.9765 792.933 54.6797 792.933 Q50.4147 792.933 48.0912 795.384 Q45.7677 797.835 45.7677 802.322 L45.7677 810.407 M40.4842 816.836 L40.4842 802.322 Q40.4842 794.333 44.1126 790.259 Q47.7092 786.154 54.6797 786.154 Q61.7138 786.154 65.3104 790.259 Q68.907 794.333 68.907 802.322 L68.907 810.407 L88.0042 810.407 L88.0042 816.836 L40.4842 816.836 Z\" fill=\"#000000\" fill-rule=\"evenodd\" fill-opacity=\"1\" /><path clip-path=\"url(#clip540)\" d=\"M 0 0 M53.7248 733.636 L59.1993 733.636 Q57.8307 736.119 57.1623 738.634 Q56.4621 741.116 56.4621 743.662 Q56.4621 749.36 60.0905 752.511 Q63.6872 755.662 70.212 755.662 Q76.7369 755.662 80.3653 752.511 Q83.9619 749.36 83.9619 743.662 Q83.9619 741.116 83.2935 738.634 Q82.5933 736.119 81.2247 733.636 L86.6355 733.636 Q87.7814 736.087 88.3543 738.729 Q88.9272 741.339 88.9272 744.299 Q88.9272 752.352 83.8664 757.094 Q78.8057 761.837 70.212 761.837 Q61.491 761.837 56.4939 757.062 Q51.4968 752.256 51.4968 743.917 Q51.4968 741.212 52.0697 738.634 Q52.6108 736.055 53.7248 733.636 Z\" fill=\"#000000\" fill-rule=\"evenodd\" fill-opacity=\"1\" /><path clip-path=\"url(#clip540)\" d=\"M 0 0 M56.4621 713.68 Q56.4621 718.391 60.1542 721.128 Q63.8145 723.865 70.212 723.865 Q76.6095 723.865 80.3017 721.16 Q83.9619 718.422 83.9619 713.68 Q83.9619 709.001 80.2698 706.264 Q76.5777 703.527 70.212 703.527 Q63.8781 703.527 60.186 706.264 Q56.4621 709.001 56.4621 713.68 M51.4968 713.68 Q51.4968 706.041 56.4621 701.681 Q61.4273 697.32 70.212 697.32 Q78.9649 697.32 83.9619 701.681 Q88.9272 706.041 88.9272 713.68 Q88.9272 721.351 83.9619 725.711 Q78.9649 730.04 70.212 730.04 Q61.4273 730.04 56.4621 725.711 Q51.4968 721.351 51.4968 713.68 Z\" fill=\"#000000\" fill-rule=\"evenodd\" fill-opacity=\"1\" /><path clip-path=\"url(#clip540)\" d=\"M 0 0 M73.9359 691.782 L52.3562 691.782 L52.3562 685.925 L73.7131 685.925 Q78.7739 685.925 81.3202 683.952 Q83.8346 681.979 83.8346 678.032 Q83.8346 673.29 80.8109 670.552 Q77.7872 667.783 72.5673 667.783 L52.3562 667.783 L52.3562 661.927 L88.0042 661.927 L88.0042 667.783 L82.5296 667.783 Q85.7762 669.916 87.3676 672.748 Q88.9272 675.549 88.9272 679.273 Q88.9272 685.416 85.1078 688.599 Q81.2883 691.782 73.9359 691.782 M51.4968 677.045 L51.4968 677.045 Z\" fill=\"#000000\" fill-rule=\"evenodd\" fill-opacity=\"1\" /><path clip-path=\"url(#clip540)\" d=\"M 0 0 M66.4881 626.151 L88.0042 626.151 L88.0042 632.008 L66.679 632.008 Q61.6183 632.008 59.1038 633.981 Q56.5894 635.955 56.5894 639.901 Q56.5894 644.644 59.6131 647.381 Q62.6368 650.118 67.8567 650.118 L88.0042 650.118 L88.0042 656.007 L52.3562 656.007 L52.3562 650.118 L57.8944 650.118 Q54.6797 648.018 53.0883 645.185 Q51.4968 642.32 51.4968 638.596 Q51.4968 632.454 55.3163 629.303 Q59.1038 626.151 66.4881 626.151 Z\" fill=\"#000000\" fill-rule=\"evenodd\" fill-opacity=\"1\" /><path clip-path=\"url(#clip540)\" d=\"M 0 0 M42.2347 614.216 L52.3562 614.216 L52.3562 602.153 L56.9077 602.153 L56.9077 614.216 L76.2594 614.216 Q80.6199 614.216 81.8613 613.038 Q83.1026 611.829 83.1026 608.168 L83.1026 602.153 L88.0042 602.153 L88.0042 608.168 Q88.0042 614.948 85.4897 617.526 Q82.9434 620.104 76.2594 620.104 L56.9077 620.104 L56.9077 624.401 L52.3562 624.401 L52.3562 620.104 L42.2347 620.104 L42.2347 614.216 Z\" fill=\"#000000\" fill-rule=\"evenodd\" fill-opacity=\"1\" /><path clip-path=\"url(#clip540)\" d=\"M 0 0 M53.4065 573.284 L58.9447 573.284 Q57.6716 575.767 57.035 578.441 Q56.3984 581.114 56.3984 583.979 Q56.3984 588.339 57.7352 590.535 Q59.072 592.7 61.7456 592.7 Q63.7826 592.7 64.9603 591.14 Q66.1061 589.581 67.1565 584.87 L67.6021 582.865 Q68.9389 576.626 71.3897 574.016 Q73.8086 571.375 78.1691 571.375 Q83.1344 571.375 86.0308 575.321 Q88.9272 579.236 88.9272 586.111 Q88.9272 588.976 88.3543 592.095 Q87.8132 595.182 86.6992 598.62 L80.6518 598.62 Q82.3387 595.373 83.198 592.222 Q84.0256 589.071 84.0256 585.984 Q84.0256 581.846 82.6251 579.618 Q81.1929 577.39 78.6147 577.39 Q76.2276 577.39 74.9545 579.013 Q73.6813 580.605 72.5037 586.048 L72.0262 588.085 Q70.8804 593.527 68.5251 595.946 Q66.138 598.365 62.0002 598.365 Q56.9713 598.365 54.2341 594.8 Q51.4968 591.236 51.4968 584.679 Q51.4968 581.432 51.9743 578.568 Q52.4517 575.703 53.4065 573.284 Z\" fill=\"#000000\" fill-rule=\"evenodd\" fill-opacity=\"1\" /><path clip-path=\"url(#clip542)\" d=\"\n",
       "M391.382 1384.23 L391.382 1384.24 L450.97 1384.24 L450.97 1384.23 L391.382 1384.23 L391.382 1384.23  Z\n",
       "  \" fill=\"#009af9\" fill-rule=\"evenodd\" fill-opacity=\"1\"/>\n",
       "<polyline clip-path=\"url(#clip542)\" style=\"stroke:#000000; stroke-width:4; stroke-opacity:1; fill:none\" points=\"\n",
       "  391.382,1384.23 391.382,1384.24 450.97,1384.24 450.97,1384.23 391.382,1384.23 \n",
       "  \"/>\n",
       "<path clip-path=\"url(#clip542)\" d=\"\n",
       "M450.97 1384.24 L450.97 1384.24 L510.557 1384.24 L510.557 1384.24 L450.97 1384.24 L450.97 1384.24  Z\n",
       "  \" fill=\"#009af9\" fill-rule=\"evenodd\" fill-opacity=\"1\"/>\n",
       "<polyline clip-path=\"url(#clip542)\" style=\"stroke:#000000; stroke-width:4; stroke-opacity:1; fill:none\" points=\"\n",
       "  450.97,1384.24 450.97,1384.24 510.557,1384.24 450.97,1384.24 \n",
       "  \"/>\n",
       "<path clip-path=\"url(#clip542)\" d=\"\n",
       "M510.557 1384.24 L510.557 1384.24 L570.145 1384.24 L570.145 1384.24 L510.557 1384.24 L510.557 1384.24  Z\n",
       "  \" fill=\"#009af9\" fill-rule=\"evenodd\" fill-opacity=\"1\"/>\n",
       "<polyline clip-path=\"url(#clip542)\" style=\"stroke:#000000; stroke-width:4; stroke-opacity:1; fill:none\" points=\"\n",
       "  510.557,1384.24 510.557,1384.24 570.145,1384.24 510.557,1384.24 \n",
       "  \"/>\n",
       "<path clip-path=\"url(#clip542)\" d=\"\n",
       "M570.145 1384.24 L570.145 1384.24 L629.733 1384.24 L629.733 1384.24 L570.145 1384.24 L570.145 1384.24  Z\n",
       "  \" fill=\"#009af9\" fill-rule=\"evenodd\" fill-opacity=\"1\"/>\n",
       "<polyline clip-path=\"url(#clip542)\" style=\"stroke:#000000; stroke-width:4; stroke-opacity:1; fill:none\" points=\"\n",
       "  570.145,1384.24 570.145,1384.24 629.733,1384.24 570.145,1384.24 \n",
       "  \"/>\n",
       "<path clip-path=\"url(#clip542)\" d=\"\n",
       "M629.733 1384.23 L629.733 1384.24 L689.32 1384.24 L689.32 1384.23 L629.733 1384.23 L629.733 1384.23  Z\n",
       "  \" fill=\"#009af9\" fill-rule=\"evenodd\" fill-opacity=\"1\"/>\n",
       "<polyline clip-path=\"url(#clip542)\" style=\"stroke:#000000; stroke-width:4; stroke-opacity:1; fill:none\" points=\"\n",
       "  629.733,1384.23 629.733,1384.24 689.32,1384.24 689.32,1384.23 629.733,1384.23 \n",
       "  \"/>\n",
       "<path clip-path=\"url(#clip542)\" d=\"\n",
       "M689.32 1384.24 L689.32 1384.24 L748.908 1384.24 L748.908 1384.24 L689.32 1384.24 L689.32 1384.24  Z\n",
       "  \" fill=\"#009af9\" fill-rule=\"evenodd\" fill-opacity=\"1\"/>\n",
       "<polyline clip-path=\"url(#clip542)\" style=\"stroke:#000000; stroke-width:4; stroke-opacity:1; fill:none\" points=\"\n",
       "  689.32,1384.24 689.32,1384.24 748.908,1384.24 689.32,1384.24 \n",
       "  \"/>\n",
       "<path clip-path=\"url(#clip542)\" d=\"\n",
       "M748.908 1384.2 L748.908 1384.24 L808.495 1384.24 L808.495 1384.2 L748.908 1384.2 L748.908 1384.2  Z\n",
       "  \" fill=\"#009af9\" fill-rule=\"evenodd\" fill-opacity=\"1\"/>\n",
       "<polyline clip-path=\"url(#clip542)\" style=\"stroke:#000000; stroke-width:4; stroke-opacity:1; fill:none\" points=\"\n",
       "  748.908,1384.2 748.908,1384.24 808.495,1384.24 808.495,1384.2 748.908,1384.2 \n",
       "  \"/>\n",
       "<path clip-path=\"url(#clip542)\" d=\"\n",
       "M808.495 1384.24 L808.495 1384.24 L868.083 1384.24 L868.083 1384.24 L808.495 1384.24 L808.495 1384.24  Z\n",
       "  \" fill=\"#009af9\" fill-rule=\"evenodd\" fill-opacity=\"1\"/>\n",
       "<polyline clip-path=\"url(#clip542)\" style=\"stroke:#000000; stroke-width:4; stroke-opacity:1; fill:none\" points=\"\n",
       "  808.495,1384.24 808.495,1384.24 868.083,1384.24 808.495,1384.24 \n",
       "  \"/>\n",
       "<path clip-path=\"url(#clip542)\" d=\"\n",
       "M868.083 1384.24 L868.083 1384.24 L927.671 1384.24 L927.671 1384.24 L868.083 1384.24 L868.083 1384.24  Z\n",
       "  \" fill=\"#009af9\" fill-rule=\"evenodd\" fill-opacity=\"1\"/>\n",
       "<polyline clip-path=\"url(#clip542)\" style=\"stroke:#000000; stroke-width:4; stroke-opacity:1; fill:none\" points=\"\n",
       "  868.083,1384.24 868.083,1384.24 927.671,1384.24 868.083,1384.24 \n",
       "  \"/>\n",
       "<path clip-path=\"url(#clip542)\" d=\"\n",
       "M927.671 1384.24 L927.671 1384.24 L987.258 1384.24 L987.258 1384.24 L927.671 1384.24 L927.671 1384.24  Z\n",
       "  \" fill=\"#009af9\" fill-rule=\"evenodd\" fill-opacity=\"1\"/>\n",
       "<polyline clip-path=\"url(#clip542)\" style=\"stroke:#000000; stroke-width:4; stroke-opacity:1; fill:none\" points=\"\n",
       "  927.671,1384.24 927.671,1384.24 987.258,1384.24 927.671,1384.24 \n",
       "  \"/>\n",
       "<path clip-path=\"url(#clip542)\" d=\"\n",
       "M987.258 1384.08 L987.258 1384.24 L1046.85 1384.24 L1046.85 1384.08 L987.258 1384.08 L987.258 1384.08  Z\n",
       "  \" fill=\"#009af9\" fill-rule=\"evenodd\" fill-opacity=\"1\"/>\n",
       "<polyline clip-path=\"url(#clip542)\" style=\"stroke:#000000; stroke-width:4; stroke-opacity:1; fill:none\" points=\"\n",
       "  987.258,1384.08 987.258,1384.24 1046.85,1384.24 1046.85,1384.08 987.258,1384.08 \n",
       "  \"/>\n",
       "<path clip-path=\"url(#clip542)\" d=\"\n",
       "M1046.85 1384.24 L1046.85 1384.24 L1106.43 1384.24 L1106.43 1384.24 L1046.85 1384.24 L1046.85 1384.24  Z\n",
       "  \" fill=\"#009af9\" fill-rule=\"evenodd\" fill-opacity=\"1\"/>\n",
       "<polyline clip-path=\"url(#clip542)\" style=\"stroke:#000000; stroke-width:4; stroke-opacity:1; fill:none\" points=\"\n",
       "  1046.85,1384.24 1046.85,1384.24 1106.43,1384.24 1046.85,1384.24 \n",
       "  \"/>\n",
       "<path clip-path=\"url(#clip542)\" d=\"\n",
       "M1106.43 1384.17 L1106.43 1384.24 L1166.02 1384.24 L1166.02 1384.17 L1106.43 1384.17 L1106.43 1384.17  Z\n",
       "  \" fill=\"#009af9\" fill-rule=\"evenodd\" fill-opacity=\"1\"/>\n",
       "<polyline clip-path=\"url(#clip542)\" style=\"stroke:#000000; stroke-width:4; stroke-opacity:1; fill:none\" points=\"\n",
       "  1106.43,1384.17 1106.43,1384.24 1166.02,1384.24 1166.02,1384.17 1106.43,1384.17 \n",
       "  \"/>\n",
       "<path clip-path=\"url(#clip542)\" d=\"\n",
       "M1166.02 1384.24 L1166.02 1384.24 L1225.61 1384.24 L1225.61 1384.24 L1166.02 1384.24 L1166.02 1384.24  Z\n",
       "  \" fill=\"#009af9\" fill-rule=\"evenodd\" fill-opacity=\"1\"/>\n",
       "<polyline clip-path=\"url(#clip542)\" style=\"stroke:#000000; stroke-width:4; stroke-opacity:1; fill:none\" points=\"\n",
       "  1166.02,1384.24 1166.02,1384.24 1225.61,1384.24 1166.02,1384.24 \n",
       "  \"/>\n",
       "<path clip-path=\"url(#clip542)\" d=\"\n",
       "M1225.61 1383.09 L1225.61 1384.24 L1285.2 1384.24 L1285.2 1383.09 L1225.61 1383.09 L1225.61 1383.09  Z\n",
       "  \" fill=\"#009af9\" fill-rule=\"evenodd\" fill-opacity=\"1\"/>\n",
       "<polyline clip-path=\"url(#clip542)\" style=\"stroke:#000000; stroke-width:4; stroke-opacity:1; fill:none\" points=\"\n",
       "  1225.61,1383.09 1225.61,1384.24 1285.2,1384.24 1285.2,1383.09 1225.61,1383.09 \n",
       "  \"/>\n",
       "<path clip-path=\"url(#clip542)\" d=\"\n",
       "M1285.2 1384.24 L1285.2 1384.24 L1344.78 1384.24 L1344.78 1384.24 L1285.2 1384.24 L1285.2 1384.24  Z\n",
       "  \" fill=\"#009af9\" fill-rule=\"evenodd\" fill-opacity=\"1\"/>\n",
       "<polyline clip-path=\"url(#clip542)\" style=\"stroke:#000000; stroke-width:4; stroke-opacity:1; fill:none\" points=\"\n",
       "  1285.2,1384.24 1285.2,1384.24 1344.78,1384.24 1285.2,1384.24 \n",
       "  \"/>\n",
       "<path clip-path=\"url(#clip542)\" d=\"\n",
       "M1344.78 1384.24 L1344.78 1384.24 L1404.37 1384.24 L1404.37 1384.24 L1344.78 1384.24 L1344.78 1384.24  Z\n",
       "  \" fill=\"#009af9\" fill-rule=\"evenodd\" fill-opacity=\"1\"/>\n",
       "<polyline clip-path=\"url(#clip542)\" style=\"stroke:#000000; stroke-width:4; stroke-opacity:1; fill:none\" points=\"\n",
       "  1344.78,1384.24 1344.78,1384.24 1404.37,1384.24 1344.78,1384.24 \n",
       "  \"/>\n",
       "<path clip-path=\"url(#clip542)\" d=\"\n",
       "M1404.37 1384.24 L1404.37 1384.24 L1463.96 1384.24 L1463.96 1384.24 L1404.37 1384.24 L1404.37 1384.24  Z\n",
       "  \" fill=\"#009af9\" fill-rule=\"evenodd\" fill-opacity=\"1\"/>\n",
       "<polyline clip-path=\"url(#clip542)\" style=\"stroke:#000000; stroke-width:4; stroke-opacity:1; fill:none\" points=\"\n",
       "  1404.37,1384.24 1404.37,1384.24 1463.96,1384.24 1404.37,1384.24 \n",
       "  \"/>\n",
       "<path clip-path=\"url(#clip542)\" d=\"\n",
       "M1463.96 1383.11 L1463.96 1384.24 L1523.55 1384.24 L1523.55 1383.11 L1463.96 1383.11 L1463.96 1383.11  Z\n",
       "  \" fill=\"#009af9\" fill-rule=\"evenodd\" fill-opacity=\"1\"/>\n",
       "<polyline clip-path=\"url(#clip542)\" style=\"stroke:#000000; stroke-width:4; stroke-opacity:1; fill:none\" points=\"\n",
       "  1463.96,1383.11 1463.96,1384.24 1523.55,1384.24 1523.55,1383.11 1463.96,1383.11 \n",
       "  \"/>\n",
       "<path clip-path=\"url(#clip542)\" d=\"\n",
       "M1523.55 1384.24 L1523.55 1384.24 L1583.13 1384.24 L1583.13 1384.24 L1523.55 1384.24 L1523.55 1384.24  Z\n",
       "  \" fill=\"#009af9\" fill-rule=\"evenodd\" fill-opacity=\"1\"/>\n",
       "<polyline clip-path=\"url(#clip542)\" style=\"stroke:#000000; stroke-width:4; stroke-opacity:1; fill:none\" points=\"\n",
       "  1523.55,1384.24 1523.55,1384.24 1583.13,1384.24 1523.55,1384.24 \n",
       "  \"/>\n",
       "<path clip-path=\"url(#clip542)\" d=\"\n",
       "M1583.13 1375.9 L1583.13 1384.24 L1642.72 1384.24 L1642.72 1375.9 L1583.13 1375.9 L1583.13 1375.9  Z\n",
       "  \" fill=\"#009af9\" fill-rule=\"evenodd\" fill-opacity=\"1\"/>\n",
       "<polyline clip-path=\"url(#clip542)\" style=\"stroke:#000000; stroke-width:4; stroke-opacity:1; fill:none\" points=\"\n",
       "  1583.13,1375.9 1583.13,1384.24 1642.72,1384.24 1642.72,1375.9 1583.13,1375.9 \n",
       "  \"/>\n",
       "<path clip-path=\"url(#clip542)\" d=\"\n",
       "M1642.72 1384.24 L1642.72 1384.24 L1702.31 1384.24 L1702.31 1384.24 L1642.72 1384.24 L1642.72 1384.24  Z\n",
       "  \" fill=\"#009af9\" fill-rule=\"evenodd\" fill-opacity=\"1\"/>\n",
       "<polyline clip-path=\"url(#clip542)\" style=\"stroke:#000000; stroke-width:4; stroke-opacity:1; fill:none\" points=\"\n",
       "  1642.72,1384.24 1642.72,1384.24 1702.31,1384.24 1642.72,1384.24 \n",
       "  \"/>\n",
       "<path clip-path=\"url(#clip542)\" d=\"\n",
       "M1702.31 1370.83 L1702.31 1384.24 L1761.9 1384.24 L1761.9 1370.83 L1702.31 1370.83 L1702.31 1370.83  Z\n",
       "  \" fill=\"#009af9\" fill-rule=\"evenodd\" fill-opacity=\"1\"/>\n",
       "<polyline clip-path=\"url(#clip542)\" style=\"stroke:#000000; stroke-width:4; stroke-opacity:1; fill:none\" points=\"\n",
       "  1702.31,1370.83 1702.31,1384.24 1761.9,1384.24 1761.9,1370.83 1702.31,1370.83 \n",
       "  \"/>\n",
       "<path clip-path=\"url(#clip542)\" d=\"\n",
       "M1761.9 1384.24 L1761.9 1384.24 L1821.48 1384.24 L1821.48 1384.24 L1761.9 1384.24 L1761.9 1384.24  Z\n",
       "  \" fill=\"#009af9\" fill-rule=\"evenodd\" fill-opacity=\"1\"/>\n",
       "<polyline clip-path=\"url(#clip542)\" style=\"stroke:#000000; stroke-width:4; stroke-opacity:1; fill:none\" points=\"\n",
       "  1761.9,1384.24 1761.9,1384.24 1821.48,1384.24 1761.9,1384.24 \n",
       "  \"/>\n",
       "<path clip-path=\"url(#clip542)\" d=\"\n",
       "M1821.48 1373.2 L1821.48 1384.24 L1881.07 1384.24 L1881.07 1373.2 L1821.48 1373.2 L1821.48 1373.2  Z\n",
       "  \" fill=\"#009af9\" fill-rule=\"evenodd\" fill-opacity=\"1\"/>\n",
       "<polyline clip-path=\"url(#clip542)\" style=\"stroke:#000000; stroke-width:4; stroke-opacity:1; fill:none\" points=\"\n",
       "  1821.48,1373.2 1821.48,1384.24 1881.07,1384.24 1881.07,1373.2 1821.48,1373.2 \n",
       "  \"/>\n",
       "<path clip-path=\"url(#clip542)\" d=\"\n",
       "M1881.07 1384.24 L1881.07 1384.24 L1940.66 1384.24 L1940.66 1384.24 L1881.07 1384.24 L1881.07 1384.24  Z\n",
       "  \" fill=\"#009af9\" fill-rule=\"evenodd\" fill-opacity=\"1\"/>\n",
       "<polyline clip-path=\"url(#clip542)\" style=\"stroke:#000000; stroke-width:4; stroke-opacity:1; fill:none\" points=\"\n",
       "  1881.07,1384.24 1881.07,1384.24 1940.66,1384.24 1881.07,1384.24 \n",
       "  \"/>\n",
       "<path clip-path=\"url(#clip542)\" d=\"\n",
       "M1940.66 1299.45 L1940.66 1384.24 L2000.25 1384.24 L2000.25 1299.45 L1940.66 1299.45 L1940.66 1299.45  Z\n",
       "  \" fill=\"#009af9\" fill-rule=\"evenodd\" fill-opacity=\"1\"/>\n",
       "<polyline clip-path=\"url(#clip542)\" style=\"stroke:#000000; stroke-width:4; stroke-opacity:1; fill:none\" points=\"\n",
       "  1940.66,1299.45 1940.66,1384.24 2000.25,1384.24 2000.25,1299.45 1940.66,1299.45 \n",
       "  \"/>\n",
       "<path clip-path=\"url(#clip542)\" d=\"\n",
       "M2000.25 1384.24 L2000.25 1384.24 L2059.84 1384.24 L2059.84 1384.24 L2000.25 1384.24 L2000.25 1384.24  Z\n",
       "  \" fill=\"#009af9\" fill-rule=\"evenodd\" fill-opacity=\"1\"/>\n",
       "<polyline clip-path=\"url(#clip542)\" style=\"stroke:#000000; stroke-width:4; stroke-opacity:1; fill:none\" points=\"\n",
       "  2000.25,1384.24 2000.25,1384.24 2059.84,1384.24 2000.25,1384.24 \n",
       "  \"/>\n",
       "<path clip-path=\"url(#clip542)\" d=\"\n",
       "M2059.84 1165.17 L2059.84 1384.24 L2119.42 1384.24 L2119.42 1165.17 L2059.84 1165.17 L2059.84 1165.17  Z\n",
       "  \" fill=\"#009af9\" fill-rule=\"evenodd\" fill-opacity=\"1\"/>\n",
       "<polyline clip-path=\"url(#clip542)\" style=\"stroke:#000000; stroke-width:4; stroke-opacity:1; fill:none\" points=\"\n",
       "  2059.84,1165.17 2059.84,1384.24 2119.42,1384.24 2119.42,1165.17 2059.84,1165.17 \n",
       "  \"/>\n",
       "<path clip-path=\"url(#clip542)\" d=\"\n",
       "M2119.42 1384.24 L2119.42 1384.24 L2179.01 1384.24 L2179.01 1384.24 L2119.42 1384.24 L2119.42 1384.24  Z\n",
       "  \" fill=\"#009af9\" fill-rule=\"evenodd\" fill-opacity=\"1\"/>\n",
       "<polyline clip-path=\"url(#clip542)\" style=\"stroke:#000000; stroke-width:4; stroke-opacity:1; fill:none\" points=\"\n",
       "  2119.42,1384.24 2119.42,1384.24 2179.01,1384.24 2119.42,1384.24 \n",
       "  \"/>\n",
       "<path clip-path=\"url(#clip542)\" d=\"\n",
       "M2179.01 86.1857 L2179.01 1384.24 L2238.6 1384.24 L2238.6 86.1857 L2179.01 86.1857 L2179.01 86.1857  Z\n",
       "  \" fill=\"#009af9\" fill-rule=\"evenodd\" fill-opacity=\"1\"/>\n",
       "<polyline clip-path=\"url(#clip542)\" style=\"stroke:#000000; stroke-width:4; stroke-opacity:1; fill:none\" points=\"\n",
       "  2179.01,86.1857 2179.01,1384.24 2238.6,1384.24 2238.6,86.1857 2179.01,86.1857 \n",
       "  \"/>\n",
       "</svg>\n"
      ]
     },
     "execution_count": 8,
     "metadata": {},
     "output_type": "execute_result"
    }
   ],
   "source": [
    "using GeneticVariation, Plots\n",
    "reader = VCF.Reader(openvcf(outfile, \"r\"))\n",
    "snpscores = Vector{Float64}(undef, nrecords(outfile))\n",
    "\n",
    "# loop over SNPs\n",
    "for (i, record) in enumerate(reader)\n",
    "    snpscores[i] = parse(Float64, VCF.info(record)[1].second)\n",
    "end\n",
    "close(reader)\n",
    "\n",
    "# plot histogram of SNP scores\n",
    "histogram(snpscores, label=:none, xlabel=\"per-SNP quality score\", \n",
    "    ylabel=\"SNP counts\", bins=30)"
   ]
  },
  {
   "cell_type": "markdown",
   "metadata": {},
   "source": [
    "**Conclusion:** Most SNPs are well imputed (quality score close to $1.0$), but a few have subpar quality score (e.g. below $0.999$). We recommend such SNPs to be [filtered out](https://openmendel.github.io/VCFTools.jl/dev/man/filter/#Subsetting-VCF-files-using-array-masks). "
   ]
  },
  {
   "cell_type": "markdown",
   "metadata": {},
   "source": [
    "!!! note\n",
    "\n",
    "    The popular correlation metric $r^2$ such as [this one](https://genome.sph.umich.edu/wiki/Minimac3_Info_File#Rsq) is NOT a good metric for measuring imputation accuracy under MendelImpute's model, because all imputed SNPs will have $r^2 = 1$. For details, please see our paper. "
   ]
  },
  {
   "cell_type": "markdown",
   "metadata": {},
   "source": [
    "## Post-imputation: per-sample Imputation Quality score\n",
    "\n",
    "MendelImpute also computes a rough quality score (file ending in `sample.error`) for measuring how well each sample is imputed. This value is the sum of the least squares error for all typed SNPs scaled by the total number of observed SNPs, similar to the per-SNP quality score. A value of 1.0 is best, and 0 is worst. "
   ]
  },
  {
   "cell_type": "code",
   "execution_count": 7,
   "metadata": {
    "collapsed": false
   },
   "outputs": [
    {
     "data": {
      "image/svg+xml": [
       "<?xml version=\"1.0\" encoding=\"utf-8\"?>\n",
       "<svg xmlns=\"http://www.w3.org/2000/svg\" xmlns:xlink=\"http://www.w3.org/1999/xlink\" width=\"600\" height=\"400\" viewBox=\"0 0 2400 1600\">\n",
       "<defs>\n",
       "  <clipPath id=\"clip500\">\n",
       "    <rect x=\"0\" y=\"0\" width=\"2400\" height=\"1600\"/>\n",
       "  </clipPath>\n",
       "</defs>\n",
       "<path clip-path=\"url(#clip500)\" d=\"\n",
       "M0 1600 L2400 1600 L2400 0 L0 0  Z\n",
       "  \" fill=\"#ffffff\" fill-rule=\"evenodd\" fill-opacity=\"1\"/>\n",
       "<defs>\n",
       "  <clipPath id=\"clip501\">\n",
       "    <rect x=\"480\" y=\"0\" width=\"1681\" height=\"1600\"/>\n",
       "  </clipPath>\n",
       "</defs>\n",
       "<path clip-path=\"url(#clip500)\" d=\"\n",
       "M202.459 1423.18 L2352.76 1423.18 L2352.76 47.2441 L202.459 47.2441  Z\n",
       "  \" fill=\"#ffffff\" fill-rule=\"evenodd\" fill-opacity=\"1\"/>\n",
       "<defs>\n",
       "  <clipPath id=\"clip502\">\n",
       "    <rect x=\"202\" y=\"47\" width=\"2151\" height=\"1377\"/>\n",
       "  </clipPath>\n",
       "</defs>\n",
       "<polyline clip-path=\"url(#clip502)\" style=\"stroke:#000000; stroke-width:2; stroke-opacity:0.1; fill:none\" points=\"\n",
       "  233.74,1423.18 233.74,47.2441 \n",
       "  \"/>\n",
       "<polyline clip-path=\"url(#clip502)\" style=\"stroke:#000000; stroke-width:2; stroke-opacity:0.1; fill:none\" points=\"\n",
       "  668.685,1423.18 668.685,47.2441 \n",
       "  \"/>\n",
       "<polyline clip-path=\"url(#clip502)\" style=\"stroke:#000000; stroke-width:2; stroke-opacity:0.1; fill:none\" points=\"\n",
       "  1103.63,1423.18 1103.63,47.2441 \n",
       "  \"/>\n",
       "<polyline clip-path=\"url(#clip502)\" style=\"stroke:#000000; stroke-width:2; stroke-opacity:0.1; fill:none\" points=\"\n",
       "  1538.57,1423.18 1538.57,47.2441 \n",
       "  \"/>\n",
       "<polyline clip-path=\"url(#clip502)\" style=\"stroke:#000000; stroke-width:2; stroke-opacity:0.1; fill:none\" points=\"\n",
       "  1973.52,1423.18 1973.52,47.2441 \n",
       "  \"/>\n",
       "<polyline clip-path=\"url(#clip500)\" style=\"stroke:#000000; stroke-width:4; stroke-opacity:1; fill:none\" points=\"\n",
       "  202.459,1423.18 2352.76,1423.18 \n",
       "  \"/>\n",
       "<polyline clip-path=\"url(#clip500)\" style=\"stroke:#000000; stroke-width:4; stroke-opacity:1; fill:none\" points=\"\n",
       "  233.74,1423.18 233.74,1406.67 \n",
       "  \"/>\n",
       "<polyline clip-path=\"url(#clip500)\" style=\"stroke:#000000; stroke-width:4; stroke-opacity:1; fill:none\" points=\"\n",
       "  668.685,1423.18 668.685,1406.67 \n",
       "  \"/>\n",
       "<polyline clip-path=\"url(#clip500)\" style=\"stroke:#000000; stroke-width:4; stroke-opacity:1; fill:none\" points=\"\n",
       "  1103.63,1423.18 1103.63,1406.67 \n",
       "  \"/>\n",
       "<polyline clip-path=\"url(#clip500)\" style=\"stroke:#000000; stroke-width:4; stroke-opacity:1; fill:none\" points=\"\n",
       "  1538.57,1423.18 1538.57,1406.67 \n",
       "  \"/>\n",
       "<polyline clip-path=\"url(#clip500)\" style=\"stroke:#000000; stroke-width:4; stroke-opacity:1; fill:none\" points=\"\n",
       "  1973.52,1423.18 1973.52,1406.67 \n",
       "  \"/>\n",
       "<path clip-path=\"url(#clip500)\" d=\"M 0 0 M162.41 1452.37 Q158.798 1452.37 156.97 1455.94 Q155.164 1459.48 155.164 1466.61 Q155.164 1473.71 156.97 1477.28 Q158.798 1480.82 162.41 1480.82 Q166.044 1480.82 167.849 1477.28 Q169.678 1473.71 169.678 1466.61 Q169.678 1459.48 167.849 1455.94 Q166.044 1452.37 162.41 1452.37 M162.41 1448.67 Q168.22 1448.67 171.275 1453.27 Q174.354 1457.86 174.354 1466.61 Q174.354 1475.33 171.275 1479.94 Q168.22 1484.52 162.41 1484.52 Q156.599 1484.52 153.521 1479.94 Q150.465 1475.33 150.465 1466.61 Q150.465 1457.86 153.521 1453.27 Q156.599 1448.67 162.41 1448.67 Z\" fill=\"#000000\" fill-rule=\"evenodd\" fill-opacity=\"1\" /><path clip-path=\"url(#clip500)\" d=\"M 0 0 M179.423 1477.97 L184.308 1477.97 L184.308 1483.85 L179.423 1483.85 L179.423 1477.97 Z\" fill=\"#000000\" fill-rule=\"evenodd\" fill-opacity=\"1\" /><path clip-path=\"url(#clip500)\" d=\"M 0 0 M189.516 1483.13 L189.516 1478.88 Q191.275 1479.71 193.081 1480.15 Q194.886 1480.59 196.622 1480.59 Q201.252 1480.59 203.682 1477.49 Q206.136 1474.36 206.483 1468.02 Q205.141 1470.01 203.081 1471.07 Q201.02 1472.14 198.52 1472.14 Q193.335 1472.14 190.303 1469.01 Q187.294 1465.87 187.294 1460.43 Q187.294 1455.1 190.442 1451.88 Q193.59 1448.67 198.821 1448.67 Q204.817 1448.67 207.965 1453.27 Q211.136 1457.86 211.136 1466.61 Q211.136 1474.78 207.247 1479.66 Q203.382 1484.52 196.831 1484.52 Q195.071 1484.52 193.266 1484.18 Q191.46 1483.83 189.516 1483.13 M198.821 1468.48 Q201.97 1468.48 203.798 1466.33 Q205.65 1464.18 205.65 1460.43 Q205.65 1456.7 203.798 1454.55 Q201.97 1452.37 198.821 1452.37 Q195.673 1452.37 193.821 1454.55 Q191.993 1456.7 191.993 1460.43 Q191.993 1464.18 193.821 1466.33 Q195.673 1468.48 198.821 1468.48 Z\" fill=\"#000000\" fill-rule=\"evenodd\" fill-opacity=\"1\" /><path clip-path=\"url(#clip500)\" d=\"M 0 0 M216.344 1483.13 L216.344 1478.88 Q218.104 1479.71 219.909 1480.15 Q221.715 1480.59 223.451 1480.59 Q228.08 1480.59 230.511 1477.49 Q232.965 1474.36 233.312 1468.02 Q231.969 1470.01 229.909 1471.07 Q227.849 1472.14 225.349 1472.14 Q220.164 1472.14 217.131 1469.01 Q214.122 1465.87 214.122 1460.43 Q214.122 1455.1 217.27 1451.88 Q220.418 1448.67 225.65 1448.67 Q231.645 1448.67 234.793 1453.27 Q237.965 1457.86 237.965 1466.61 Q237.965 1474.78 234.076 1479.66 Q230.21 1484.52 223.659 1484.52 Q221.9 1484.52 220.094 1484.18 Q218.289 1483.83 216.344 1483.13 M225.65 1468.48 Q228.798 1468.48 230.627 1466.33 Q232.479 1464.18 232.479 1460.43 Q232.479 1456.7 230.627 1454.55 Q228.798 1452.37 225.65 1452.37 Q222.502 1452.37 220.65 1454.55 Q218.821 1456.7 218.821 1460.43 Q218.821 1464.18 220.65 1466.33 Q222.502 1468.48 225.65 1468.48 Z\" fill=\"#000000\" fill-rule=\"evenodd\" fill-opacity=\"1\" /><path clip-path=\"url(#clip500)\" d=\"M 0 0 M253.034 1467.44 Q249.701 1467.44 247.779 1469.22 Q245.881 1471 245.881 1474.13 Q245.881 1477.25 247.779 1479.04 Q249.701 1480.82 253.034 1480.82 Q256.367 1480.82 258.289 1479.04 Q260.21 1477.23 260.21 1474.13 Q260.21 1471 258.289 1469.22 Q256.391 1467.44 253.034 1467.44 M248.358 1465.45 Q245.349 1464.71 243.659 1462.65 Q241.992 1460.59 241.992 1457.63 Q241.992 1453.48 244.932 1451.07 Q247.895 1448.67 253.034 1448.67 Q258.196 1448.67 261.136 1451.07 Q264.076 1453.48 264.076 1457.63 Q264.076 1460.59 262.386 1462.65 Q260.719 1464.71 257.733 1465.45 Q261.113 1466.24 262.988 1468.53 Q264.886 1470.82 264.886 1474.13 Q264.886 1479.15 261.807 1481.84 Q258.752 1484.52 253.034 1484.52 Q247.316 1484.52 244.238 1481.84 Q241.182 1479.15 241.182 1474.13 Q241.182 1470.82 243.08 1468.53 Q244.979 1466.24 248.358 1465.45 M246.645 1458.06 Q246.645 1460.75 248.312 1462.25 Q250.002 1463.76 253.034 1463.76 Q256.043 1463.76 257.733 1462.25 Q259.446 1460.75 259.446 1458.06 Q259.446 1455.38 257.733 1453.88 Q256.043 1452.37 253.034 1452.37 Q250.002 1452.37 248.312 1453.88 Q246.645 1455.38 246.645 1458.06 Z\" fill=\"#000000\" fill-rule=\"evenodd\" fill-opacity=\"1\" /><path clip-path=\"url(#clip500)\" d=\"M 0 0 M268.775 1449.29 L290.997 1449.29 L290.997 1451.28 L278.451 1483.85 L273.566 1483.85 L285.372 1453.23 L268.775 1453.23 L268.775 1449.29 Z\" fill=\"#000000\" fill-rule=\"evenodd\" fill-opacity=\"1\" /><path clip-path=\"url(#clip500)\" d=\"M 0 0 M296.113 1449.29 L314.469 1449.29 L314.469 1453.23 L300.395 1453.23 L300.395 1461.7 Q301.413 1461.35 302.432 1461.19 Q303.45 1461 304.469 1461 Q310.256 1461 313.636 1464.18 Q317.015 1467.35 317.015 1472.76 Q317.015 1478.34 313.543 1481.44 Q310.071 1484.52 303.751 1484.52 Q301.575 1484.52 299.307 1484.15 Q297.062 1483.78 294.654 1483.04 L294.654 1478.34 Q296.738 1479.48 298.96 1480.03 Q301.182 1480.59 303.659 1480.59 Q307.663 1480.59 310.001 1478.48 Q312.339 1476.38 312.339 1472.76 Q312.339 1469.15 310.001 1467.05 Q307.663 1464.94 303.659 1464.94 Q301.784 1464.94 299.909 1465.36 Q298.057 1465.77 296.113 1466.65 L296.113 1449.29 Z\" fill=\"#000000\" fill-rule=\"evenodd\" fill-opacity=\"1\" /><path clip-path=\"url(#clip500)\" d=\"M 0 0 M596.451 1452.37 Q592.84 1452.37 591.012 1455.94 Q589.206 1459.48 589.206 1466.61 Q589.206 1473.71 591.012 1477.28 Q592.84 1480.82 596.451 1480.82 Q600.086 1480.82 601.891 1477.28 Q603.72 1473.71 603.72 1466.61 Q603.72 1459.48 601.891 1455.94 Q600.086 1452.37 596.451 1452.37 M596.451 1448.67 Q602.262 1448.67 605.317 1453.27 Q608.396 1457.86 608.396 1466.61 Q608.396 1475.33 605.317 1479.94 Q602.262 1484.52 596.451 1484.52 Q590.641 1484.52 587.563 1479.94 Q584.507 1475.33 584.507 1466.61 Q584.507 1457.86 587.563 1453.27 Q590.641 1448.67 596.451 1448.67 Z\" fill=\"#000000\" fill-rule=\"evenodd\" fill-opacity=\"1\" /><path clip-path=\"url(#clip500)\" d=\"M 0 0 M613.465 1477.97 L618.349 1477.97 L618.349 1483.85 L613.465 1483.85 L613.465 1477.97 Z\" fill=\"#000000\" fill-rule=\"evenodd\" fill-opacity=\"1\" /><path clip-path=\"url(#clip500)\" d=\"M 0 0 M623.558 1483.13 L623.558 1478.88 Q625.317 1479.71 627.123 1480.15 Q628.928 1480.59 630.664 1480.59 Q635.294 1480.59 637.724 1477.49 Q640.178 1474.36 640.525 1468.02 Q639.183 1470.01 637.123 1471.07 Q635.062 1472.14 632.562 1472.14 Q627.377 1472.14 624.345 1469.01 Q621.336 1465.87 621.336 1460.43 Q621.336 1455.1 624.484 1451.88 Q627.632 1448.67 632.863 1448.67 Q638.859 1448.67 642.007 1453.27 Q645.178 1457.86 645.178 1466.61 Q645.178 1474.78 641.289 1479.66 Q637.423 1484.52 630.873 1484.52 Q629.113 1484.52 627.308 1484.18 Q625.502 1483.83 623.558 1483.13 M632.863 1468.48 Q636.011 1468.48 637.84 1466.33 Q639.692 1464.18 639.692 1460.43 Q639.692 1456.7 637.84 1454.55 Q636.011 1452.37 632.863 1452.37 Q629.715 1452.37 627.863 1454.55 Q626.035 1456.7 626.035 1460.43 Q626.035 1464.18 627.863 1466.33 Q629.715 1468.48 632.863 1468.48 Z\" fill=\"#000000\" fill-rule=\"evenodd\" fill-opacity=\"1\" /><path clip-path=\"url(#clip500)\" d=\"M 0 0 M650.386 1483.13 L650.386 1478.88 Q652.146 1479.71 653.951 1480.15 Q655.757 1480.59 657.493 1480.59 Q662.122 1480.59 664.553 1477.49 Q667.007 1474.36 667.354 1468.02 Q666.011 1470.01 663.951 1471.07 Q661.891 1472.14 659.391 1472.14 Q654.206 1472.14 651.173 1469.01 Q648.164 1465.87 648.164 1460.43 Q648.164 1455.1 651.312 1451.88 Q654.46 1448.67 659.692 1448.67 Q665.687 1448.67 668.835 1453.27 Q672.007 1457.86 672.007 1466.61 Q672.007 1474.78 668.118 1479.66 Q664.252 1484.52 657.701 1484.52 Q655.942 1484.52 654.136 1484.18 Q652.331 1483.83 650.386 1483.13 M659.692 1468.48 Q662.84 1468.48 664.669 1466.33 Q666.521 1464.18 666.521 1460.43 Q666.521 1456.7 664.669 1454.55 Q662.84 1452.37 659.692 1452.37 Q656.544 1452.37 654.692 1454.55 Q652.863 1456.7 652.863 1460.43 Q652.863 1464.18 654.692 1466.33 Q656.544 1468.48 659.692 1468.48 Z\" fill=\"#000000\" fill-rule=\"evenodd\" fill-opacity=\"1\" /><path clip-path=\"url(#clip500)\" d=\"M 0 0 M677.215 1483.13 L677.215 1478.88 Q678.974 1479.71 680.78 1480.15 Q682.585 1480.59 684.321 1480.59 Q688.951 1480.59 691.382 1477.49 Q693.835 1474.36 694.182 1468.02 Q692.84 1470.01 690.78 1471.07 Q688.719 1472.14 686.219 1472.14 Q681.034 1472.14 678.002 1469.01 Q674.993 1465.87 674.993 1460.43 Q674.993 1455.1 678.141 1451.88 Q681.289 1448.67 686.52 1448.67 Q692.516 1448.67 695.664 1453.27 Q698.835 1457.86 698.835 1466.61 Q698.835 1474.78 694.946 1479.66 Q691.081 1484.52 684.53 1484.52 Q682.77 1484.52 680.965 1484.18 Q679.159 1483.83 677.215 1483.13 M686.52 1468.48 Q689.669 1468.48 691.497 1466.33 Q693.349 1464.18 693.349 1460.43 Q693.349 1456.7 691.497 1454.55 Q689.669 1452.37 686.52 1452.37 Q683.372 1452.37 681.52 1454.55 Q679.692 1456.7 679.692 1460.43 Q679.692 1464.18 681.52 1466.33 Q683.372 1468.48 686.52 1468.48 Z\" fill=\"#000000\" fill-rule=\"evenodd\" fill-opacity=\"1\" /><path clip-path=\"url(#clip500)\" d=\"M 0 0 M713.905 1452.37 Q710.293 1452.37 708.465 1455.94 Q706.659 1459.48 706.659 1466.61 Q706.659 1473.71 708.465 1477.28 Q710.293 1480.82 713.905 1480.82 Q717.539 1480.82 719.344 1477.28 Q721.173 1473.71 721.173 1466.61 Q721.173 1459.48 719.344 1455.94 Q717.539 1452.37 713.905 1452.37 M713.905 1448.67 Q719.715 1448.67 722.77 1453.27 Q725.849 1457.86 725.849 1466.61 Q725.849 1475.33 722.77 1479.94 Q719.715 1484.52 713.905 1484.52 Q708.094 1484.52 705.016 1479.94 Q701.96 1475.33 701.96 1466.61 Q701.96 1457.86 705.016 1453.27 Q708.094 1448.67 713.905 1448.67 Z\" fill=\"#000000\" fill-rule=\"evenodd\" fill-opacity=\"1\" /><path clip-path=\"url(#clip500)\" d=\"M 0 0 M740.918 1452.37 Q737.307 1452.37 735.478 1455.94 Q733.673 1459.48 733.673 1466.61 Q733.673 1473.71 735.478 1477.28 Q737.307 1480.82 740.918 1480.82 Q744.553 1480.82 746.358 1477.28 Q748.187 1473.71 748.187 1466.61 Q748.187 1459.48 746.358 1455.94 Q744.553 1452.37 740.918 1452.37 M740.918 1448.67 Q746.728 1448.67 749.784 1453.27 Q752.863 1457.86 752.863 1466.61 Q752.863 1475.33 749.784 1479.94 Q746.728 1484.52 740.918 1484.52 Q735.108 1484.52 732.029 1479.94 Q728.974 1475.33 728.974 1466.61 Q728.974 1457.86 732.029 1453.27 Q735.108 1448.67 740.918 1448.67 Z\" fill=\"#000000\" fill-rule=\"evenodd\" fill-opacity=\"1\" /><path clip-path=\"url(#clip500)\" d=\"M 0 0 M1032.69 1452.37 Q1029.08 1452.37 1027.25 1455.94 Q1025.45 1459.48 1025.45 1466.61 Q1025.45 1473.71 1027.25 1477.28 Q1029.08 1480.82 1032.69 1480.82 Q1036.33 1480.82 1038.13 1477.28 Q1039.96 1473.71 1039.96 1466.61 Q1039.96 1459.48 1038.13 1455.94 Q1036.33 1452.37 1032.69 1452.37 M1032.69 1448.67 Q1038.5 1448.67 1041.56 1453.27 Q1044.64 1457.86 1044.64 1466.61 Q1044.64 1475.33 1041.56 1479.94 Q1038.5 1484.52 1032.69 1484.52 Q1026.88 1484.52 1023.8 1479.94 Q1020.75 1475.33 1020.75 1466.61 Q1020.75 1457.86 1023.8 1453.27 Q1026.88 1448.67 1032.69 1448.67 Z\" fill=\"#000000\" fill-rule=\"evenodd\" fill-opacity=\"1\" /><path clip-path=\"url(#clip500)\" d=\"M 0 0 M1049.71 1477.97 L1054.59 1477.97 L1054.59 1483.85 L1049.71 1483.85 L1049.71 1477.97 Z\" fill=\"#000000\" fill-rule=\"evenodd\" fill-opacity=\"1\" /><path clip-path=\"url(#clip500)\" d=\"M 0 0 M1059.8 1483.13 L1059.8 1478.88 Q1061.56 1479.71 1063.36 1480.15 Q1065.17 1480.59 1066.91 1480.59 Q1071.53 1480.59 1073.97 1477.49 Q1076.42 1474.36 1076.77 1468.02 Q1075.42 1470.01 1073.36 1471.07 Q1071.3 1472.14 1068.8 1472.14 Q1063.62 1472.14 1060.59 1469.01 Q1057.58 1465.87 1057.58 1460.43 Q1057.58 1455.1 1060.72 1451.88 Q1063.87 1448.67 1069.1 1448.67 Q1075.1 1448.67 1078.25 1453.27 Q1081.42 1457.86 1081.42 1466.61 Q1081.42 1474.78 1077.53 1479.66 Q1073.66 1484.52 1067.11 1484.52 Q1065.35 1484.52 1063.55 1484.18 Q1061.74 1483.83 1059.8 1483.13 M1069.1 1468.48 Q1072.25 1468.48 1074.08 1466.33 Q1075.93 1464.18 1075.93 1460.43 Q1075.93 1456.7 1074.08 1454.55 Q1072.25 1452.37 1069.1 1452.37 Q1065.96 1452.37 1064.1 1454.55 Q1062.28 1456.7 1062.28 1460.43 Q1062.28 1464.18 1064.1 1466.33 Q1065.96 1468.48 1069.1 1468.48 Z\" fill=\"#000000\" fill-rule=\"evenodd\" fill-opacity=\"1\" /><path clip-path=\"url(#clip500)\" d=\"M 0 0 M1086.63 1483.13 L1086.63 1478.88 Q1088.39 1479.71 1090.19 1480.15 Q1092 1480.59 1093.73 1480.59 Q1098.36 1480.59 1100.79 1477.49 Q1103.25 1474.36 1103.59 1468.02 Q1102.25 1470.01 1100.19 1471.07 Q1098.13 1472.14 1095.63 1472.14 Q1090.45 1472.14 1087.41 1469.01 Q1084.41 1465.87 1084.41 1460.43 Q1084.41 1455.1 1087.55 1451.88 Q1090.7 1448.67 1095.93 1448.67 Q1101.93 1448.67 1105.08 1453.27 Q1108.25 1457.86 1108.25 1466.61 Q1108.25 1474.78 1104.36 1479.66 Q1100.49 1484.52 1093.94 1484.52 Q1092.18 1484.52 1090.38 1484.18 Q1088.57 1483.83 1086.63 1483.13 M1095.93 1468.48 Q1099.08 1468.48 1100.91 1466.33 Q1102.76 1464.18 1102.76 1460.43 Q1102.76 1456.7 1100.91 1454.55 Q1099.08 1452.37 1095.93 1452.37 Q1092.78 1452.37 1090.93 1454.55 Q1089.1 1456.7 1089.1 1460.43 Q1089.1 1464.18 1090.93 1466.33 Q1092.78 1468.48 1095.93 1468.48 Z\" fill=\"#000000\" fill-rule=\"evenodd\" fill-opacity=\"1\" /><path clip-path=\"url(#clip500)\" d=\"M 0 0 M1113.46 1483.13 L1113.46 1478.88 Q1115.22 1479.71 1117.02 1480.15 Q1118.83 1480.59 1120.56 1480.59 Q1125.19 1480.59 1127.62 1477.49 Q1130.08 1474.36 1130.42 1468.02 Q1129.08 1470.01 1127.02 1471.07 Q1124.96 1472.14 1122.46 1472.14 Q1117.28 1472.14 1114.24 1469.01 Q1111.23 1465.87 1111.23 1460.43 Q1111.23 1455.1 1114.38 1451.88 Q1117.53 1448.67 1122.76 1448.67 Q1128.76 1448.67 1131.9 1453.27 Q1135.08 1457.86 1135.08 1466.61 Q1135.08 1474.78 1131.19 1479.66 Q1127.32 1484.52 1120.77 1484.52 Q1119.01 1484.52 1117.21 1484.18 Q1115.4 1483.83 1113.46 1483.13 M1122.76 1468.48 Q1125.91 1468.48 1127.74 1466.33 Q1129.59 1464.18 1129.59 1460.43 Q1129.59 1456.7 1127.74 1454.55 Q1125.91 1452.37 1122.76 1452.37 Q1119.61 1452.37 1117.76 1454.55 Q1115.93 1456.7 1115.93 1460.43 Q1115.93 1464.18 1117.76 1466.33 Q1119.61 1468.48 1122.76 1468.48 Z\" fill=\"#000000\" fill-rule=\"evenodd\" fill-opacity=\"1\" /><path clip-path=\"url(#clip500)\" d=\"M 0 0 M1144.17 1479.92 L1160.49 1479.92 L1160.49 1483.85 L1138.55 1483.85 L1138.55 1479.92 Q1141.21 1477.16 1145.79 1472.53 Q1150.4 1467.88 1151.58 1466.54 Q1153.83 1464.01 1154.71 1462.28 Q1155.61 1460.52 1155.61 1458.83 Q1155.61 1456.07 1153.66 1454.34 Q1151.74 1452.6 1148.64 1452.6 Q1146.44 1452.6 1143.99 1453.37 Q1141.56 1454.13 1138.78 1455.68 L1138.78 1450.96 Q1141.6 1449.82 1144.06 1449.25 Q1146.51 1448.67 1148.55 1448.67 Q1153.92 1448.67 1157.11 1451.35 Q1160.31 1454.04 1160.31 1458.53 Q1160.31 1460.66 1159.5 1462.58 Q1158.71 1464.48 1156.6 1467.07 Q1156.03 1467.74 1152.92 1470.96 Q1149.82 1474.15 1144.17 1479.92 Z\" fill=\"#000000\" fill-rule=\"evenodd\" fill-opacity=\"1\" /><path clip-path=\"url(#clip500)\" d=\"M 0 0 M1165.61 1449.29 L1183.96 1449.29 L1183.96 1453.23 L1169.89 1453.23 L1169.89 1461.7 Q1170.91 1461.35 1171.93 1461.19 Q1172.95 1461 1173.96 1461 Q1179.75 1461 1183.13 1464.18 Q1186.51 1467.35 1186.51 1472.76 Q1186.51 1478.34 1183.04 1481.44 Q1179.57 1484.52 1173.25 1484.52 Q1171.07 1484.52 1168.8 1484.15 Q1166.56 1483.78 1164.15 1483.04 L1164.15 1478.34 Q1166.23 1479.48 1168.46 1480.03 Q1170.68 1480.59 1173.15 1480.59 Q1177.16 1480.59 1179.5 1478.48 Q1181.84 1476.38 1181.84 1472.76 Q1181.84 1469.15 1179.5 1467.05 Q1177.16 1464.94 1173.15 1464.94 Q1171.28 1464.94 1169.4 1465.36 Q1167.55 1465.77 1165.61 1466.65 L1165.61 1449.29 Z\" fill=\"#000000\" fill-rule=\"evenodd\" fill-opacity=\"1\" /><path clip-path=\"url(#clip500)\" d=\"M 0 0 M1466.84 1452.37 Q1463.23 1452.37 1461.4 1455.94 Q1459.59 1459.48 1459.59 1466.61 Q1459.59 1473.71 1461.4 1477.28 Q1463.23 1480.82 1466.84 1480.82 Q1470.47 1480.82 1472.28 1477.28 Q1474.11 1473.71 1474.11 1466.61 Q1474.11 1459.48 1472.28 1455.94 Q1470.47 1452.37 1466.84 1452.37 M1466.84 1448.67 Q1472.65 1448.67 1475.7 1453.27 Q1478.78 1457.86 1478.78 1466.61 Q1478.78 1475.33 1475.7 1479.94 Q1472.65 1484.52 1466.84 1484.52 Q1461.03 1484.52 1457.95 1479.94 Q1454.89 1475.33 1454.89 1466.61 Q1454.89 1457.86 1457.95 1453.27 Q1461.03 1448.67 1466.84 1448.67 Z\" fill=\"#000000\" fill-rule=\"evenodd\" fill-opacity=\"1\" /><path clip-path=\"url(#clip500)\" d=\"M 0 0 M1483.85 1477.97 L1488.74 1477.97 L1488.74 1483.85 L1483.85 1483.85 L1483.85 1477.97 Z\" fill=\"#000000\" fill-rule=\"evenodd\" fill-opacity=\"1\" /><path clip-path=\"url(#clip500)\" d=\"M 0 0 M1493.94 1483.13 L1493.94 1478.88 Q1495.7 1479.71 1497.51 1480.15 Q1499.32 1480.59 1501.05 1480.59 Q1505.68 1480.59 1508.11 1477.49 Q1510.57 1474.36 1510.91 1468.02 Q1509.57 1470.01 1507.51 1471.07 Q1505.45 1472.14 1502.95 1472.14 Q1497.76 1472.14 1494.73 1469.01 Q1491.72 1465.87 1491.72 1460.43 Q1491.72 1455.1 1494.87 1451.88 Q1498.02 1448.67 1503.25 1448.67 Q1509.25 1448.67 1512.39 1453.27 Q1515.57 1457.86 1515.57 1466.61 Q1515.57 1474.78 1511.68 1479.66 Q1507.81 1484.52 1501.26 1484.52 Q1499.5 1484.52 1497.69 1484.18 Q1495.89 1483.83 1493.94 1483.13 M1503.25 1468.48 Q1506.4 1468.48 1508.23 1466.33 Q1510.08 1464.18 1510.08 1460.43 Q1510.08 1456.7 1508.23 1454.55 Q1506.4 1452.37 1503.25 1452.37 Q1500.1 1452.37 1498.25 1454.55 Q1496.42 1456.7 1496.42 1460.43 Q1496.42 1464.18 1498.25 1466.33 Q1500.1 1468.48 1503.25 1468.48 Z\" fill=\"#000000\" fill-rule=\"evenodd\" fill-opacity=\"1\" /><path clip-path=\"url(#clip500)\" d=\"M 0 0 M1520.77 1483.13 L1520.77 1478.88 Q1522.53 1479.71 1524.34 1480.15 Q1526.14 1480.59 1527.88 1480.59 Q1532.51 1480.59 1534.94 1477.49 Q1537.39 1474.36 1537.74 1468.02 Q1536.4 1470.01 1534.34 1471.07 Q1532.28 1472.14 1529.78 1472.14 Q1524.59 1472.14 1521.56 1469.01 Q1518.55 1465.87 1518.55 1460.43 Q1518.55 1455.1 1521.7 1451.88 Q1524.85 1448.67 1530.08 1448.67 Q1536.07 1448.67 1539.22 1453.27 Q1542.39 1457.86 1542.39 1466.61 Q1542.39 1474.78 1538.5 1479.66 Q1534.64 1484.52 1528.09 1484.52 Q1526.33 1484.52 1524.52 1484.18 Q1522.72 1483.83 1520.77 1483.13 M1530.08 1468.48 Q1533.23 1468.48 1535.06 1466.33 Q1536.91 1464.18 1536.91 1460.43 Q1536.91 1456.7 1535.06 1454.55 Q1533.23 1452.37 1530.08 1452.37 Q1526.93 1452.37 1525.08 1454.55 Q1523.25 1456.7 1523.25 1460.43 Q1523.25 1464.18 1525.08 1466.33 Q1526.93 1468.48 1530.08 1468.48 Z\" fill=\"#000000\" fill-rule=\"evenodd\" fill-opacity=\"1\" /><path clip-path=\"url(#clip500)\" d=\"M 0 0 M1547.6 1483.13 L1547.6 1478.88 Q1549.36 1479.71 1551.17 1480.15 Q1552.97 1480.59 1554.71 1480.59 Q1559.34 1480.59 1561.77 1477.49 Q1564.22 1474.36 1564.57 1468.02 Q1563.23 1470.01 1561.17 1471.07 Q1559.11 1472.14 1556.61 1472.14 Q1551.42 1472.14 1548.39 1469.01 Q1545.38 1465.87 1545.38 1460.43 Q1545.38 1455.1 1548.53 1451.88 Q1551.68 1448.67 1556.91 1448.67 Q1562.9 1448.67 1566.05 1453.27 Q1569.22 1457.86 1569.22 1466.61 Q1569.22 1474.78 1565.33 1479.66 Q1561.47 1484.52 1554.92 1484.52 Q1553.16 1484.52 1551.35 1484.18 Q1549.55 1483.83 1547.6 1483.13 M1556.91 1468.48 Q1560.06 1468.48 1561.88 1466.33 Q1563.74 1464.18 1563.74 1460.43 Q1563.74 1456.7 1561.88 1454.55 Q1560.06 1452.37 1556.91 1452.37 Q1553.76 1452.37 1551.91 1454.55 Q1550.08 1456.7 1550.08 1460.43 Q1550.08 1464.18 1551.91 1466.33 Q1553.76 1468.48 1556.91 1468.48 Z\" fill=\"#000000\" fill-rule=\"evenodd\" fill-opacity=\"1\" /><path clip-path=\"url(#clip500)\" d=\"M 0 0 M1574.34 1449.29 L1592.69 1449.29 L1592.69 1453.23 L1578.62 1453.23 L1578.62 1461.7 Q1579.64 1461.35 1580.66 1461.19 Q1581.68 1461 1582.69 1461 Q1588.48 1461 1591.86 1464.18 Q1595.24 1467.35 1595.24 1472.76 Q1595.24 1478.34 1591.77 1481.44 Q1588.3 1484.52 1581.98 1484.52 Q1579.8 1484.52 1577.53 1484.15 Q1575.29 1483.78 1572.88 1483.04 L1572.88 1478.34 Q1574.96 1479.48 1577.19 1480.03 Q1579.41 1480.59 1581.88 1480.59 Q1585.89 1480.59 1588.23 1478.48 Q1590.56 1476.38 1590.56 1472.76 Q1590.56 1469.15 1588.23 1467.05 Q1585.89 1464.94 1581.88 1464.94 Q1580.01 1464.94 1578.13 1465.36 Q1576.28 1465.77 1574.34 1466.65 L1574.34 1449.29 Z\" fill=\"#000000\" fill-rule=\"evenodd\" fill-opacity=\"1\" /><path clip-path=\"url(#clip500)\" d=\"M 0 0 M1610.31 1452.37 Q1606.7 1452.37 1604.87 1455.94 Q1603.06 1459.48 1603.06 1466.61 Q1603.06 1473.71 1604.87 1477.28 Q1606.7 1480.82 1610.31 1480.82 Q1613.94 1480.82 1615.75 1477.28 Q1617.58 1473.71 1617.58 1466.61 Q1617.58 1459.48 1615.75 1455.94 Q1613.94 1452.37 1610.31 1452.37 M1610.31 1448.67 Q1616.12 1448.67 1619.18 1453.27 Q1622.25 1457.86 1622.25 1466.61 Q1622.25 1475.33 1619.18 1479.94 Q1616.12 1484.52 1610.31 1484.52 Q1604.5 1484.52 1601.42 1479.94 Q1598.37 1475.33 1598.37 1466.61 Q1598.37 1457.86 1601.42 1453.27 Q1604.5 1448.67 1610.31 1448.67 Z\" fill=\"#000000\" fill-rule=\"evenodd\" fill-opacity=\"1\" /><path clip-path=\"url(#clip500)\" d=\"M 0 0 M1902.23 1452.37 Q1898.62 1452.37 1896.79 1455.94 Q1894.99 1459.48 1894.99 1466.61 Q1894.99 1473.71 1896.79 1477.28 Q1898.62 1480.82 1902.23 1480.82 Q1905.87 1480.82 1907.67 1477.28 Q1909.5 1473.71 1909.5 1466.61 Q1909.5 1459.48 1907.67 1455.94 Q1905.87 1452.37 1902.23 1452.37 M1902.23 1448.67 Q1908.04 1448.67 1911.1 1453.27 Q1914.18 1457.86 1914.18 1466.61 Q1914.18 1475.33 1911.1 1479.94 Q1908.04 1484.52 1902.23 1484.52 Q1896.42 1484.52 1893.35 1479.94 Q1890.29 1475.33 1890.29 1466.61 Q1890.29 1457.86 1893.35 1453.27 Q1896.42 1448.67 1902.23 1448.67 Z\" fill=\"#000000\" fill-rule=\"evenodd\" fill-opacity=\"1\" /><path clip-path=\"url(#clip500)\" d=\"M 0 0 M1919.25 1477.97 L1924.13 1477.97 L1924.13 1483.85 L1919.25 1483.85 L1919.25 1477.97 Z\" fill=\"#000000\" fill-rule=\"evenodd\" fill-opacity=\"1\" /><path clip-path=\"url(#clip500)\" d=\"M 0 0 M1929.34 1483.13 L1929.34 1478.88 Q1931.1 1479.71 1932.91 1480.15 Q1934.71 1480.59 1936.45 1480.59 Q1941.08 1480.59 1943.51 1477.49 Q1945.96 1474.36 1946.31 1468.02 Q1944.97 1470.01 1942.91 1471.07 Q1940.85 1472.14 1938.35 1472.14 Q1933.16 1472.14 1930.13 1469.01 Q1927.12 1465.87 1927.12 1460.43 Q1927.12 1455.1 1930.27 1451.88 Q1933.41 1448.67 1938.65 1448.67 Q1944.64 1448.67 1947.79 1453.27 Q1950.96 1457.86 1950.96 1466.61 Q1950.96 1474.78 1947.07 1479.66 Q1943.21 1484.52 1936.66 1484.52 Q1934.9 1484.52 1933.09 1484.18 Q1931.29 1483.83 1929.34 1483.13 M1938.65 1468.48 Q1941.79 1468.48 1943.62 1466.33 Q1945.48 1464.18 1945.48 1460.43 Q1945.48 1456.7 1943.62 1454.55 Q1941.79 1452.37 1938.65 1452.37 Q1935.5 1452.37 1933.65 1454.55 Q1931.82 1456.7 1931.82 1460.43 Q1931.82 1464.18 1933.65 1466.33 Q1935.5 1468.48 1938.65 1468.48 Z\" fill=\"#000000\" fill-rule=\"evenodd\" fill-opacity=\"1\" /><path clip-path=\"url(#clip500)\" d=\"M 0 0 M1956.17 1483.13 L1956.17 1478.88 Q1957.93 1479.71 1959.73 1480.15 Q1961.54 1480.59 1963.28 1480.59 Q1967.91 1480.59 1970.34 1477.49 Q1972.79 1474.36 1973.14 1468.02 Q1971.79 1470.01 1969.73 1471.07 Q1967.67 1472.14 1965.17 1472.14 Q1959.99 1472.14 1956.96 1469.01 Q1953.95 1465.87 1953.95 1460.43 Q1953.95 1455.1 1957.1 1451.88 Q1960.24 1448.67 1965.47 1448.67 Q1971.47 1448.67 1974.62 1453.27 Q1977.79 1457.86 1977.79 1466.61 Q1977.79 1474.78 1973.9 1479.66 Q1970.04 1484.52 1963.48 1484.52 Q1961.73 1484.52 1959.92 1484.18 Q1958.11 1483.83 1956.17 1483.13 M1965.47 1468.48 Q1968.62 1468.48 1970.45 1466.33 Q1972.3 1464.18 1972.3 1460.43 Q1972.3 1456.7 1970.45 1454.55 Q1968.62 1452.37 1965.47 1452.37 Q1962.33 1452.37 1960.48 1454.55 Q1958.65 1456.7 1958.65 1460.43 Q1958.65 1464.18 1960.48 1466.33 Q1962.33 1468.48 1965.47 1468.48 Z\" fill=\"#000000\" fill-rule=\"evenodd\" fill-opacity=\"1\" /><path clip-path=\"url(#clip500)\" d=\"M 0 0 M1983 1483.13 L1983 1478.88 Q1984.76 1479.71 1986.56 1480.15 Q1988.37 1480.59 1990.1 1480.59 Q1994.73 1480.59 1997.16 1477.49 Q1999.62 1474.36 1999.97 1468.02 Q1998.62 1470.01 1996.56 1471.07 Q1994.5 1472.14 1992 1472.14 Q1986.82 1472.14 1983.79 1469.01 Q1980.78 1465.87 1980.78 1460.43 Q1980.78 1455.1 1983.92 1451.88 Q1987.07 1448.67 1992.3 1448.67 Q1998.3 1448.67 2001.45 1453.27 Q2004.62 1457.86 2004.62 1466.61 Q2004.62 1474.78 2000.73 1479.66 Q1996.86 1484.52 1990.31 1484.52 Q1988.55 1484.52 1986.75 1484.18 Q1984.94 1483.83 1983 1483.13 M1992.3 1468.48 Q1995.45 1468.48 1997.28 1466.33 Q1999.13 1464.18 1999.13 1460.43 Q1999.13 1456.7 1997.28 1454.55 Q1995.45 1452.37 1992.3 1452.37 Q1989.16 1452.37 1987.3 1454.55 Q1985.47 1456.7 1985.47 1460.43 Q1985.47 1464.18 1987.3 1466.33 Q1989.16 1468.48 1992.3 1468.48 Z\" fill=\"#000000\" fill-rule=\"evenodd\" fill-opacity=\"1\" /><path clip-path=\"url(#clip500)\" d=\"M 0 0 M2008.51 1449.29 L2030.73 1449.29 L2030.73 1451.28 L2018.18 1483.85 L2013.3 1483.85 L2025.1 1453.23 L2008.51 1453.23 L2008.51 1449.29 Z\" fill=\"#000000\" fill-rule=\"evenodd\" fill-opacity=\"1\" /><path clip-path=\"url(#clip500)\" d=\"M 0 0 M2035.84 1449.29 L2054.2 1449.29 L2054.2 1453.23 L2040.13 1453.23 L2040.13 1461.7 Q2041.15 1461.35 2042.16 1461.19 Q2043.18 1461 2044.2 1461 Q2049.99 1461 2053.37 1464.18 Q2056.75 1467.35 2056.75 1472.76 Q2056.75 1478.34 2053.28 1481.44 Q2049.8 1484.52 2043.48 1484.52 Q2041.31 1484.52 2039.04 1484.15 Q2036.79 1483.78 2034.39 1483.04 L2034.39 1478.34 Q2036.47 1479.48 2038.69 1480.03 Q2040.91 1480.59 2043.39 1480.59 Q2047.4 1480.59 2049.73 1478.48 Q2052.07 1476.38 2052.07 1472.76 Q2052.07 1469.15 2049.73 1467.05 Q2047.4 1464.94 2043.39 1464.94 Q2041.52 1464.94 2039.64 1465.36 Q2037.79 1465.77 2035.84 1466.65 L2035.84 1449.29 Z\" fill=\"#000000\" fill-rule=\"evenodd\" fill-opacity=\"1\" /><path clip-path=\"url(#clip500)\" d=\"M 0 0 M927.223 1550.7 L927.223 1569.6 L921.335 1569.6 L921.335 1520.4 L927.223 1520.4 L927.223 1525.81 Q929.069 1522.62 931.87 1521.1 Q934.703 1519.54 938.618 1519.54 Q945.111 1519.54 949.153 1524.69 Q953.227 1529.85 953.227 1538.25 Q953.227 1546.65 949.153 1551.81 Q945.111 1556.97 938.618 1556.97 Q934.703 1556.97 931.87 1555.44 Q929.069 1553.88 927.223 1550.7 M947.148 1538.25 Q947.148 1531.79 944.474 1528.13 Q941.832 1524.44 937.185 1524.44 Q932.538 1524.44 929.865 1528.13 Q927.223 1531.79 927.223 1538.25 Q927.223 1544.71 929.865 1548.4 Q932.538 1552.07 937.185 1552.07 Q941.832 1552.07 944.474 1548.4 Q947.148 1544.71 947.148 1538.25 Z\" fill=\"#000000\" fill-rule=\"evenodd\" fill-opacity=\"1\" /><path clip-path=\"url(#clip500)\" d=\"M 0 0 M989.862 1536.76 L989.862 1539.62 L962.935 1539.62 Q963.317 1545.67 966.563 1548.85 Q969.841 1552 975.666 1552 Q979.04 1552 982.191 1551.17 Q985.374 1550.35 988.493 1548.69 L988.493 1554.23 Q985.342 1555.57 982.032 1556.27 Q978.722 1556.97 975.316 1556.97 Q966.786 1556.97 961.789 1552 Q956.824 1547.04 956.824 1538.57 Q956.824 1529.82 961.534 1524.69 Q966.277 1519.54 974.297 1519.54 Q981.491 1519.54 985.66 1524.18 Q989.862 1528.8 989.862 1536.76 M984.005 1535.04 Q983.941 1530.23 981.3 1527.37 Q978.69 1524.5 974.361 1524.5 Q969.459 1524.5 966.499 1527.27 Q963.571 1530.04 963.126 1535.07 L984.005 1535.04 Z\" fill=\"#000000\" fill-rule=\"evenodd\" fill-opacity=\"1\" /><path clip-path=\"url(#clip500)\" d=\"M 0 0 M1016.66 1525.87 Q1015.67 1525.3 1014.5 1525.04 Q1013.35 1524.76 1011.95 1524.76 Q1006.99 1524.76 1004.31 1528 Q1001.67 1531.22 1001.67 1537.27 L1001.67 1556.04 L995.782 1556.04 L995.782 1520.4 L1001.67 1520.4 L1001.67 1525.93 Q1003.52 1522.69 1006.48 1521.13 Q1009.44 1519.54 1013.67 1519.54 Q1014.27 1519.54 1015.01 1519.63 Q1015.74 1519.7 1016.63 1519.85 L1016.66 1525.87 Z\" fill=\"#000000\" fill-rule=\"evenodd\" fill-opacity=\"1\" /><path clip-path=\"url(#clip500)\" d=\"M 0 0 M1015.67 1535.58 L1032.83 1535.58 L1032.83 1540.8 L1015.67 1540.8 L1015.67 1535.58 Z\" fill=\"#000000\" fill-rule=\"evenodd\" fill-opacity=\"1\" /><path clip-path=\"url(#clip500)\" d=\"M 0 0 M1061.7 1521.45 L1061.7 1526.98 Q1059.22 1525.71 1056.54 1525.07 Q1053.87 1524.44 1051 1524.44 Q1046.64 1524.44 1044.45 1525.77 Q1042.28 1527.11 1042.28 1529.79 Q1042.28 1531.82 1043.84 1533 Q1045.4 1534.15 1050.11 1535.2 L1052.12 1535.64 Q1058.36 1536.98 1060.97 1539.43 Q1063.61 1541.85 1063.61 1546.21 Q1063.61 1551.17 1059.66 1554.07 Q1055.75 1556.97 1048.87 1556.97 Q1046.01 1556.97 1042.89 1556.39 Q1039.8 1555.85 1036.36 1554.74 L1036.36 1548.69 Q1039.61 1550.38 1042.76 1551.24 Q1045.91 1552.07 1049 1552.07 Q1053.14 1552.07 1055.36 1550.66 Q1057.59 1549.23 1057.59 1546.65 Q1057.59 1544.27 1055.97 1542.99 Q1054.38 1541.72 1048.94 1540.54 L1046.9 1540.07 Q1041.46 1538.92 1039.04 1536.56 Q1036.62 1534.18 1036.62 1530.04 Q1036.62 1525.01 1040.18 1522.27 Q1043.75 1519.54 1050.3 1519.54 Q1053.55 1519.54 1056.42 1520.01 Q1059.28 1520.49 1061.7 1521.45 Z\" fill=\"#000000\" fill-rule=\"evenodd\" fill-opacity=\"1\" /><path clip-path=\"url(#clip500)\" d=\"M 0 0 M1085.95 1538.12 Q1078.85 1538.12 1076.12 1539.75 Q1073.38 1541.37 1073.38 1545.29 Q1073.38 1548.4 1075.42 1550.25 Q1077.49 1552.07 1081.02 1552.07 Q1085.89 1552.07 1088.82 1548.63 Q1091.78 1545.16 1091.78 1539.43 L1091.78 1538.12 L1085.95 1538.12 M1097.63 1535.71 L1097.63 1556.04 L1091.78 1556.04 L1091.78 1550.63 Q1089.77 1553.88 1086.78 1555.44 Q1083.79 1556.97 1079.46 1556.97 Q1073.98 1556.97 1070.74 1553.91 Q1067.52 1550.82 1067.52 1545.67 Q1067.52 1539.65 1071.53 1536.6 Q1075.58 1533.54 1083.56 1533.54 L1091.78 1533.54 L1091.78 1532.97 Q1091.78 1528.93 1089.1 1526.73 Q1086.46 1524.5 1081.66 1524.5 Q1078.6 1524.5 1075.7 1525.23 Q1072.81 1525.97 1070.13 1527.43 L1070.13 1522.02 Q1073.35 1520.78 1076.37 1520.17 Q1079.4 1519.54 1082.26 1519.54 Q1089.99 1519.54 1093.81 1523.55 Q1097.63 1527.56 1097.63 1535.71 Z\" fill=\"#000000\" fill-rule=\"evenodd\" fill-opacity=\"1\" /><path clip-path=\"url(#clip500)\" d=\"M 0 0 M1131.53 1527.24 Q1133.73 1523.29 1136.78 1521.41 Q1139.84 1519.54 1143.98 1519.54 Q1149.55 1519.54 1152.57 1523.45 Q1155.59 1527.33 1155.59 1534.53 L1155.59 1556.04 L1149.7 1556.04 L1149.7 1534.72 Q1149.7 1529.59 1147.89 1527.11 Q1146.08 1524.63 1142.35 1524.63 Q1137.8 1524.63 1135.16 1527.65 Q1132.52 1530.68 1132.52 1535.9 L1132.52 1556.04 L1126.63 1556.04 L1126.63 1534.72 Q1126.63 1529.56 1124.81 1527.11 Q1123 1524.63 1119.21 1524.63 Q1114.72 1524.63 1112.08 1527.68 Q1109.44 1530.71 1109.44 1535.9 L1109.44 1556.04 L1103.55 1556.04 L1103.55 1520.4 L1109.44 1520.4 L1109.44 1525.93 Q1111.45 1522.66 1114.25 1521.1 Q1117.05 1519.54 1120.9 1519.54 Q1124.78 1519.54 1127.49 1521.51 Q1130.23 1523.48 1131.53 1527.24 Z\" fill=\"#000000\" fill-rule=\"evenodd\" fill-opacity=\"1\" /><path clip-path=\"url(#clip500)\" d=\"M 0 0 M1167.4 1550.7 L1167.4 1569.6 L1161.51 1569.6 L1161.51 1520.4 L1167.4 1520.4 L1167.4 1525.81 Q1169.25 1522.62 1172.05 1521.1 Q1174.88 1519.54 1178.8 1519.54 Q1185.29 1519.54 1189.33 1524.69 Q1193.41 1529.85 1193.41 1538.25 Q1193.41 1546.65 1189.33 1551.81 Q1185.29 1556.97 1178.8 1556.97 Q1174.88 1556.97 1172.05 1555.44 Q1169.25 1553.88 1167.4 1550.7 M1187.33 1538.25 Q1187.33 1531.79 1184.65 1528.13 Q1182.01 1524.44 1177.36 1524.44 Q1172.72 1524.44 1170.04 1528.13 Q1167.4 1531.79 1167.4 1538.25 Q1167.4 1544.71 1170.04 1548.4 Q1172.72 1552.07 1177.36 1552.07 Q1182.01 1552.07 1184.65 1548.4 Q1187.33 1544.71 1187.33 1538.25 Z\" fill=\"#000000\" fill-rule=\"evenodd\" fill-opacity=\"1\" /><path clip-path=\"url(#clip500)\" d=\"M 0 0 M1199.55 1506.52 L1205.4 1506.52 L1205.4 1556.04 L1199.55 1556.04 L1199.55 1506.52 Z\" fill=\"#000000\" fill-rule=\"evenodd\" fill-opacity=\"1\" /><path clip-path=\"url(#clip500)\" d=\"M 0 0 M1242.04 1536.76 L1242.04 1539.62 L1215.11 1539.62 Q1215.49 1545.67 1218.74 1548.85 Q1222.02 1552 1227.84 1552 Q1231.22 1552 1234.37 1551.17 Q1237.55 1550.35 1240.67 1548.69 L1240.67 1554.23 Q1237.52 1555.57 1234.21 1556.27 Q1230.9 1556.97 1227.49 1556.97 Q1218.96 1556.97 1213.97 1552 Q1209 1547.04 1209 1538.57 Q1209 1529.82 1213.71 1524.69 Q1218.45 1519.54 1226.47 1519.54 Q1233.67 1519.54 1237.84 1524.18 Q1242.04 1528.8 1242.04 1536.76 M1236.18 1535.04 Q1236.12 1530.23 1233.48 1527.37 Q1230.87 1524.5 1226.54 1524.5 Q1221.64 1524.5 1218.68 1527.27 Q1215.75 1530.04 1215.3 1535.07 L1236.18 1535.04 Z\" fill=\"#000000\" fill-rule=\"evenodd\" fill-opacity=\"1\" /><path clip-path=\"url(#clip500)\" d=\"M 0 0 M1272.4 1538.25 Q1272.4 1544.71 1275.05 1548.4 Q1277.72 1552.07 1282.37 1552.07 Q1287.01 1552.07 1289.69 1548.4 Q1292.36 1544.71 1292.36 1538.25 Q1292.36 1531.79 1289.69 1528.13 Q1287.01 1524.44 1282.37 1524.44 Q1277.72 1524.44 1275.05 1528.13 Q1272.4 1531.79 1272.4 1538.25 M1292.36 1550.7 Q1290.51 1553.88 1287.68 1555.44 Q1284.88 1556.97 1280.93 1556.97 Q1274.47 1556.97 1270.4 1551.81 Q1266.36 1546.65 1266.36 1538.25 Q1266.36 1529.85 1270.4 1524.69 Q1274.47 1519.54 1280.93 1519.54 Q1284.88 1519.54 1287.68 1521.1 Q1290.51 1522.62 1292.36 1525.81 L1292.36 1520.4 L1298.22 1520.4 L1298.22 1569.6 L1292.36 1569.6 L1292.36 1550.7 Z\" fill=\"#000000\" fill-rule=\"evenodd\" fill-opacity=\"1\" /><path clip-path=\"url(#clip500)\" d=\"M 0 0 M1303.75 1541.98 L1303.75 1520.4 L1309.61 1520.4 L1309.61 1541.75 Q1309.61 1546.81 1311.58 1549.36 Q1313.56 1551.87 1317.5 1551.87 Q1322.25 1551.87 1324.98 1548.85 Q1327.75 1545.83 1327.75 1540.61 L1327.75 1520.4 L1333.61 1520.4 L1333.61 1556.04 L1327.75 1556.04 L1327.75 1550.57 Q1325.62 1553.82 1322.79 1555.41 Q1319.99 1556.97 1316.26 1556.97 Q1310.12 1556.97 1306.94 1553.15 Q1303.75 1549.33 1303.75 1541.98 M1318.49 1519.54 L1318.49 1519.54 Z\" fill=\"#000000\" fill-rule=\"evenodd\" fill-opacity=\"1\" /><path clip-path=\"url(#clip500)\" d=\"M 0 0 M1355.95 1538.12 Q1348.86 1538.12 1346.12 1539.75 Q1343.38 1541.37 1343.38 1545.29 Q1343.38 1548.4 1345.42 1550.25 Q1347.49 1552.07 1351.02 1552.07 Q1355.89 1552.07 1358.82 1548.63 Q1361.78 1545.16 1361.78 1539.43 L1361.78 1538.12 L1355.95 1538.12 M1367.63 1535.71 L1367.63 1556.04 L1361.78 1556.04 L1361.78 1550.63 Q1359.77 1553.88 1356.78 1555.44 Q1353.79 1556.97 1349.46 1556.97 Q1343.99 1556.97 1340.74 1553.91 Q1337.52 1550.82 1337.52 1545.67 Q1337.52 1539.65 1341.54 1536.6 Q1345.58 1533.54 1353.57 1533.54 L1361.78 1533.54 L1361.78 1532.97 Q1361.78 1528.93 1359.1 1526.73 Q1356.46 1524.5 1351.66 1524.5 Q1348.6 1524.5 1345.7 1525.23 Q1342.81 1525.97 1340.13 1527.43 L1340.13 1522.02 Q1343.35 1520.78 1346.37 1520.17 Q1349.4 1519.54 1352.26 1519.54 Q1360 1519.54 1363.82 1523.55 Q1367.63 1527.56 1367.63 1535.71 Z\" fill=\"#000000\" fill-rule=\"evenodd\" fill-opacity=\"1\" /><path clip-path=\"url(#clip500)\" d=\"M 0 0 M1373.78 1506.52 L1379.63 1506.52 L1379.63 1556.04 L1373.78 1556.04 L1373.78 1506.52 Z\" fill=\"#000000\" fill-rule=\"evenodd\" fill-opacity=\"1\" /><path clip-path=\"url(#clip500)\" d=\"M 0 0 M1385.78 1520.4 L1391.63 1520.4 L1391.63 1556.04 L1385.78 1556.04 L1385.78 1520.4 M1385.78 1506.52 L1391.63 1506.52 L1391.63 1513.93 L1385.78 1513.93 L1385.78 1506.52 Z\" fill=\"#000000\" fill-rule=\"evenodd\" fill-opacity=\"1\" /><path clip-path=\"url(#clip500)\" d=\"M 0 0 M1403.57 1510.27 L1403.57 1520.4 L1415.63 1520.4 L1415.63 1524.95 L1403.57 1524.95 L1403.57 1544.3 Q1403.57 1548.66 1404.75 1549.9 Q1405.96 1551.14 1409.62 1551.14 L1415.63 1551.14 L1415.63 1556.04 L1409.62 1556.04 Q1402.84 1556.04 1400.26 1553.53 Q1397.68 1550.98 1397.68 1544.3 L1397.68 1524.95 L1393.38 1524.95 L1393.38 1520.4 L1397.68 1520.4 L1397.68 1510.27 L1403.57 1510.27 Z\" fill=\"#000000\" fill-rule=\"evenodd\" fill-opacity=\"1\" /><path clip-path=\"url(#clip500)\" d=\"M 0 0 M1436.61 1559.35 Q1434.12 1565.72 1431.77 1567.66 Q1429.41 1569.6 1425.47 1569.6 L1420.79 1569.6 L1420.79 1564.7 L1424.23 1564.7 Q1426.64 1564.7 1427.98 1563.56 Q1429.32 1562.41 1430.94 1558.14 L1431.99 1555.47 L1417.57 1520.4 L1423.78 1520.4 L1434.92 1548.28 L1446.06 1520.4 L1452.27 1520.4 L1436.61 1559.35 Z\" fill=\"#000000\" fill-rule=\"evenodd\" fill-opacity=\"1\" /><path clip-path=\"url(#clip500)\" d=\"M 0 0 M1501.86 1521.45 L1501.86 1526.98 Q1499.37 1525.71 1496.7 1525.07 Q1494.03 1524.44 1491.16 1524.44 Q1486.8 1524.44 1484.6 1525.77 Q1482.44 1527.11 1482.44 1529.79 Q1482.44 1531.82 1484 1533 Q1485.56 1534.15 1490.27 1535.2 L1492.27 1535.64 Q1498.51 1536.98 1501.12 1539.43 Q1503.77 1541.85 1503.77 1546.21 Q1503.77 1551.17 1499.82 1554.07 Q1495.9 1556.97 1489.03 1556.97 Q1486.16 1556.97 1483.04 1556.39 Q1479.96 1555.85 1476.52 1554.74 L1476.52 1548.69 Q1479.77 1550.38 1482.92 1551.24 Q1486.07 1552.07 1489.16 1552.07 Q1493.29 1552.07 1495.52 1550.66 Q1497.75 1549.23 1497.75 1546.65 Q1497.75 1544.27 1496.13 1542.99 Q1494.53 1541.72 1489.09 1540.54 L1487.06 1540.07 Q1481.61 1538.92 1479.19 1536.56 Q1476.77 1534.18 1476.77 1530.04 Q1476.77 1525.01 1480.34 1522.27 Q1483.9 1519.54 1490.46 1519.54 Q1493.71 1519.54 1496.57 1520.01 Q1499.44 1520.49 1501.86 1521.45 Z\" fill=\"#000000\" fill-rule=\"evenodd\" fill-opacity=\"1\" /><path clip-path=\"url(#clip500)\" d=\"M 0 0 M1535.56 1521.76 L1535.56 1527.24 Q1533.08 1525.87 1530.56 1525.2 Q1528.08 1524.5 1525.54 1524.5 Q1519.84 1524.5 1516.69 1528.13 Q1513.54 1531.73 1513.54 1538.25 Q1513.54 1544.78 1516.69 1548.4 Q1519.84 1552 1525.54 1552 Q1528.08 1552 1530.56 1551.33 Q1533.08 1550.63 1535.56 1549.26 L1535.56 1554.68 Q1533.11 1555.82 1530.47 1556.39 Q1527.86 1556.97 1524.9 1556.97 Q1516.85 1556.97 1512.1 1551.91 Q1507.36 1546.85 1507.36 1538.25 Q1507.36 1529.53 1512.14 1524.53 Q1516.94 1519.54 1525.28 1519.54 Q1527.99 1519.54 1530.56 1520.11 Q1533.14 1520.65 1535.56 1521.76 Z\" fill=\"#000000\" fill-rule=\"evenodd\" fill-opacity=\"1\" /><path clip-path=\"url(#clip500)\" d=\"M 0 0 M1555.52 1524.5 Q1550.81 1524.5 1548.07 1528.19 Q1545.33 1531.85 1545.33 1538.25 Q1545.33 1544.65 1548.04 1548.34 Q1550.78 1552 1555.52 1552 Q1560.2 1552 1562.93 1548.31 Q1565.67 1544.62 1565.67 1538.25 Q1565.67 1531.92 1562.93 1528.23 Q1560.2 1524.5 1555.52 1524.5 M1555.52 1519.54 Q1563.16 1519.54 1567.52 1524.5 Q1571.88 1529.47 1571.88 1538.25 Q1571.88 1547 1567.52 1552 Q1563.16 1556.97 1555.52 1556.97 Q1547.85 1556.97 1543.49 1552 Q1539.16 1547 1539.16 1538.25 Q1539.16 1529.47 1543.49 1524.5 Q1547.85 1519.54 1555.52 1519.54 Z\" fill=\"#000000\" fill-rule=\"evenodd\" fill-opacity=\"1\" /><path clip-path=\"url(#clip500)\" d=\"M 0 0 M1598.68 1525.87 Q1597.69 1525.3 1596.51 1525.04 Q1595.37 1524.76 1593.97 1524.76 Q1589 1524.76 1586.33 1528 Q1583.69 1531.22 1583.69 1537.27 L1583.69 1556.04 L1577.8 1556.04 L1577.8 1520.4 L1583.69 1520.4 L1583.69 1525.93 Q1585.53 1522.69 1588.49 1521.13 Q1591.45 1519.54 1595.69 1519.54 Q1596.29 1519.54 1597.02 1519.63 Q1597.75 1519.7 1598.65 1519.85 L1598.68 1525.87 Z\" fill=\"#000000\" fill-rule=\"evenodd\" fill-opacity=\"1\" /><path clip-path=\"url(#clip500)\" d=\"M 0 0 M1633.88 1536.76 L1633.88 1539.62 L1606.95 1539.62 Q1607.34 1545.67 1610.58 1548.85 Q1613.86 1552 1619.68 1552 Q1623.06 1552 1626.21 1551.17 Q1629.39 1550.35 1632.51 1548.69 L1632.51 1554.23 Q1629.36 1555.57 1626.05 1556.27 Q1622.74 1556.97 1619.33 1556.97 Q1610.8 1556.97 1605.81 1552 Q1600.84 1547.04 1600.84 1538.57 Q1600.84 1529.82 1605.55 1524.69 Q1610.3 1519.54 1618.32 1519.54 Q1625.51 1519.54 1629.68 1524.18 Q1633.88 1528.8 1633.88 1536.76 M1628.02 1535.04 Q1627.96 1530.23 1625.32 1527.37 Q1622.71 1524.5 1618.38 1524.5 Q1613.48 1524.5 1610.52 1527.27 Q1607.59 1530.04 1607.14 1535.07 L1628.02 1535.04 Z\" fill=\"#000000\" fill-rule=\"evenodd\" fill-opacity=\"1\" /><polyline clip-path=\"url(#clip502)\" style=\"stroke:#000000; stroke-width:2; stroke-opacity:0.1; fill:none\" points=\"\n",
       "  202.459,1384.24 2352.76,1384.24 \n",
       "  \"/>\n",
       "<polyline clip-path=\"url(#clip502)\" style=\"stroke:#000000; stroke-width:2; stroke-opacity:0.1; fill:none\" points=\"\n",
       "  202.459,1059.73 2352.76,1059.73 \n",
       "  \"/>\n",
       "<polyline clip-path=\"url(#clip502)\" style=\"stroke:#000000; stroke-width:2; stroke-opacity:0.1; fill:none\" points=\"\n",
       "  202.459,735.212 2352.76,735.212 \n",
       "  \"/>\n",
       "<polyline clip-path=\"url(#clip502)\" style=\"stroke:#000000; stroke-width:2; stroke-opacity:0.1; fill:none\" points=\"\n",
       "  202.459,410.699 2352.76,410.699 \n",
       "  \"/>\n",
       "<polyline clip-path=\"url(#clip502)\" style=\"stroke:#000000; stroke-width:2; stroke-opacity:0.1; fill:none\" points=\"\n",
       "  202.459,86.1857 2352.76,86.1857 \n",
       "  \"/>\n",
       "<polyline clip-path=\"url(#clip500)\" style=\"stroke:#000000; stroke-width:4; stroke-opacity:1; fill:none\" points=\"\n",
       "  202.459,1423.18 202.459,47.2441 \n",
       "  \"/>\n",
       "<polyline clip-path=\"url(#clip500)\" style=\"stroke:#000000; stroke-width:4; stroke-opacity:1; fill:none\" points=\"\n",
       "  202.459,1384.24 228.263,1384.24 \n",
       "  \"/>\n",
       "<polyline clip-path=\"url(#clip500)\" style=\"stroke:#000000; stroke-width:4; stroke-opacity:1; fill:none\" points=\"\n",
       "  202.459,1059.73 228.263,1059.73 \n",
       "  \"/>\n",
       "<polyline clip-path=\"url(#clip500)\" style=\"stroke:#000000; stroke-width:4; stroke-opacity:1; fill:none\" points=\"\n",
       "  202.459,735.212 228.263,735.212 \n",
       "  \"/>\n",
       "<polyline clip-path=\"url(#clip500)\" style=\"stroke:#000000; stroke-width:4; stroke-opacity:1; fill:none\" points=\"\n",
       "  202.459,410.699 228.263,410.699 \n",
       "  \"/>\n",
       "<polyline clip-path=\"url(#clip500)\" style=\"stroke:#000000; stroke-width:4; stroke-opacity:1; fill:none\" points=\"\n",
       "  202.459,86.1857 228.263,86.1857 \n",
       "  \"/>\n",
       "<path clip-path=\"url(#clip500)\" d=\"M 0 0 M154.515 1370.04 Q150.903 1370.04 149.075 1373.6 Q147.269 1377.14 147.269 1384.27 Q147.269 1391.38 149.075 1394.94 Q150.903 1398.49 154.515 1398.49 Q158.149 1398.49 159.954 1394.94 Q161.783 1391.38 161.783 1384.27 Q161.783 1377.14 159.954 1373.6 Q158.149 1370.04 154.515 1370.04 M154.515 1366.33 Q160.325 1366.33 163.38 1370.94 Q166.459 1375.52 166.459 1384.27 Q166.459 1393 163.38 1397.61 Q160.325 1402.19 154.515 1402.19 Q148.704 1402.19 145.626 1397.61 Q142.57 1393 142.57 1384.27 Q142.57 1375.52 145.626 1370.94 Q148.704 1366.33 154.515 1366.33 Z\" fill=\"#000000\" fill-rule=\"evenodd\" fill-opacity=\"1\" /><path clip-path=\"url(#clip500)\" d=\"M 0 0 M119.538 1073.07 L127.177 1073.07 L127.177 1046.7 L118.867 1048.37 L118.867 1044.11 L127.13 1042.45 L131.806 1042.45 L131.806 1073.07 L139.445 1073.07 L139.445 1077.01 L119.538 1077.01 L119.538 1073.07 Z\" fill=\"#000000\" fill-rule=\"evenodd\" fill-opacity=\"1\" /><path clip-path=\"url(#clip500)\" d=\"M 0 0 M154.515 1045.52 Q150.903 1045.52 149.075 1049.09 Q147.269 1052.63 147.269 1059.76 Q147.269 1066.87 149.075 1070.43 Q150.903 1073.97 154.515 1073.97 Q158.149 1073.97 159.954 1070.43 Q161.783 1066.87 161.783 1059.76 Q161.783 1052.63 159.954 1049.09 Q158.149 1045.52 154.515 1045.52 M154.515 1041.82 Q160.325 1041.82 163.38 1046.43 Q166.459 1051.01 166.459 1059.76 Q166.459 1068.49 163.38 1073.09 Q160.325 1077.68 154.515 1077.68 Q148.704 1077.68 145.626 1073.09 Q142.57 1068.49 142.57 1059.76 Q142.57 1051.01 145.626 1046.43 Q148.704 1041.82 154.515 1041.82 Z\" fill=\"#000000\" fill-rule=\"evenodd\" fill-opacity=\"1\" /><path clip-path=\"url(#clip500)\" d=\"M 0 0 M123.126 748.557 L139.445 748.557 L139.445 752.492 L117.501 752.492 L117.501 748.557 Q120.163 745.802 124.746 741.173 Q129.353 736.52 130.533 735.177 Q132.779 732.654 133.658 730.918 Q134.561 729.159 134.561 727.469 Q134.561 724.714 132.617 722.978 Q130.695 721.242 127.593 721.242 Q125.394 721.242 122.941 722.006 Q120.51 722.77 117.732 724.321 L117.732 719.599 Q120.556 718.464 123.01 717.886 Q125.464 717.307 127.501 717.307 Q132.871 717.307 136.066 719.992 Q139.26 722.677 139.26 727.168 Q139.26 729.298 138.45 731.219 Q137.663 733.117 135.556 735.71 Q134.978 736.381 131.876 739.599 Q128.774 742.793 123.126 748.557 Z\" fill=\"#000000\" fill-rule=\"evenodd\" fill-opacity=\"1\" /><path clip-path=\"url(#clip500)\" d=\"M 0 0 M154.515 721.011 Q150.903 721.011 149.075 724.575 Q147.269 728.117 147.269 735.247 Q147.269 742.353 149.075 745.918 Q150.903 749.46 154.515 749.46 Q158.149 749.46 159.954 745.918 Q161.783 742.353 161.783 735.247 Q161.783 728.117 159.954 724.575 Q158.149 721.011 154.515 721.011 M154.515 717.307 Q160.325 717.307 163.38 721.913 Q166.459 726.497 166.459 735.247 Q166.459 743.973 163.38 748.58 Q160.325 753.163 154.515 753.163 Q148.704 753.163 145.626 748.58 Q142.57 743.973 142.57 735.247 Q142.57 726.497 145.626 721.913 Q148.704 717.307 154.515 717.307 Z\" fill=\"#000000\" fill-rule=\"evenodd\" fill-opacity=\"1\" /><path clip-path=\"url(#clip500)\" d=\"M 0 0 M132.316 409.345 Q135.672 410.062 137.547 412.331 Q139.445 414.599 139.445 417.933 Q139.445 423.048 135.927 425.849 Q132.408 428.65 125.927 428.65 Q123.751 428.65 121.436 428.21 Q119.144 427.794 116.691 426.937 L116.691 422.423 Q118.635 423.558 120.95 424.136 Q123.265 424.715 125.788 424.715 Q130.186 424.715 132.478 422.979 Q134.792 421.243 134.792 417.933 Q134.792 414.877 132.64 413.164 Q130.51 411.428 126.691 411.428 L122.663 411.428 L122.663 407.585 L126.876 407.585 Q130.325 407.585 132.154 406.22 Q133.982 404.831 133.982 402.238 Q133.982 399.576 132.084 398.164 Q130.209 396.729 126.691 396.729 Q124.769 396.729 122.57 397.146 Q120.371 397.562 117.732 398.442 L117.732 394.275 Q120.394 393.535 122.709 393.164 Q125.047 392.794 127.107 392.794 Q132.431 392.794 135.533 395.224 Q138.635 397.632 138.635 401.752 Q138.635 404.622 136.992 406.613 Q135.348 408.581 132.316 409.345 Z\" fill=\"#000000\" fill-rule=\"evenodd\" fill-opacity=\"1\" /><path clip-path=\"url(#clip500)\" d=\"M 0 0 M154.515 396.498 Q150.903 396.498 149.075 400.062 Q147.269 403.604 147.269 410.734 Q147.269 417.84 149.075 421.405 Q150.903 424.946 154.515 424.946 Q158.149 424.946 159.954 421.405 Q161.783 417.84 161.783 410.734 Q161.783 403.604 159.954 400.062 Q158.149 396.498 154.515 396.498 M154.515 392.794 Q160.325 392.794 163.38 397.4 Q166.459 401.984 166.459 410.734 Q166.459 419.46 163.38 424.067 Q160.325 428.65 154.515 428.65 Q148.704 428.65 145.626 424.067 Q142.57 419.46 142.57 410.734 Q142.57 401.984 145.626 397.4 Q148.704 392.794 154.515 392.794 Z\" fill=\"#000000\" fill-rule=\"evenodd\" fill-opacity=\"1\" /><path clip-path=\"url(#clip500)\" d=\"M 0 0 M129.862 72.9797 L118.056 91.4287 L129.862 91.4287 L129.862 72.9797 M128.635 68.9057 L134.515 68.9057 L134.515 91.4287 L139.445 91.4287 L139.445 95.3176 L134.515 95.3176 L134.515 103.466 L129.862 103.466 L129.862 95.3176 L114.26 95.3176 L114.26 90.8037 L128.635 68.9057 Z\" fill=\"#000000\" fill-rule=\"evenodd\" fill-opacity=\"1\" /><path clip-path=\"url(#clip500)\" d=\"M 0 0 M154.515 71.9844 Q150.903 71.9844 149.075 75.5492 Q147.269 79.0908 147.269 86.2204 Q147.269 93.3268 149.075 96.8916 Q150.903 100.433 154.515 100.433 Q158.149 100.433 159.954 96.8916 Q161.783 93.3268 161.783 86.2204 Q161.783 79.0908 159.954 75.5492 Q158.149 71.9844 154.515 71.9844 M154.515 68.2807 Q160.325 68.2807 163.38 72.8871 Q166.459 77.4704 166.459 86.2204 Q166.459 94.9472 163.38 99.5537 Q160.325 104.137 154.515 104.137 Q148.704 104.137 145.626 99.5537 Q142.57 94.9472 142.57 86.2204 Q142.57 77.4704 145.626 72.8871 Q148.704 68.2807 154.515 68.2807 Z\" fill=\"#000000\" fill-rule=\"evenodd\" fill-opacity=\"1\" /><path clip-path=\"url(#clip500)\" d=\"M 0 0 M40.4842 1021.46 L40.4842 1012.8 L80.238 991.734 L40.4842 991.734 L40.4842 985.496 L88.0042 985.496 L88.0042 994.153 L48.2503 1015.22 L88.0042 1015.22 L88.0042 1021.46 L40.4842 1021.46 Z\" fill=\"#000000\" fill-rule=\"evenodd\" fill-opacity=\"1\" /><path clip-path=\"url(#clip500)\" d=\"M 0 0 M73.9359 979.957 L52.3562 979.957 L52.3562 974.101 L73.7131 974.101 Q78.7739 974.101 81.3202 972.128 Q83.8346 970.154 83.8346 966.208 Q83.8346 961.465 80.8109 958.728 Q77.7872 955.959 72.5673 955.959 L52.3562 955.959 L52.3562 950.102 L88.0042 950.102 L88.0042 955.959 L82.5296 955.959 Q85.7762 958.091 87.3676 960.924 Q88.9272 963.725 88.9272 967.449 Q88.9272 973.592 85.1078 976.775 Q81.2883 979.957 73.9359 979.957 M51.4968 965.221 L51.4968 965.221 Z\" fill=\"#000000\" fill-rule=\"evenodd\" fill-opacity=\"1\" /><path clip-path=\"url(#clip500)\" d=\"M 0 0 M59.1993 916.205 Q55.2526 914.009 53.3747 910.953 Q51.4968 907.898 51.4968 903.76 Q51.4968 898.19 55.4117 895.166 Q59.2948 892.143 66.4881 892.143 L88.0042 892.143 L88.0042 898.031 L66.679 898.031 Q61.5546 898.031 59.072 899.845 Q56.5894 901.659 56.5894 905.383 Q56.5894 909.935 59.6131 912.576 Q62.6368 915.218 67.8567 915.218 L88.0042 915.218 L88.0042 921.107 L66.679 921.107 Q61.5228 921.107 59.072 922.921 Q56.5894 924.735 56.5894 928.523 Q56.5894 933.01 59.6449 935.652 Q62.6686 938.294 67.8567 938.294 L88.0042 938.294 L88.0042 944.182 L52.3562 944.182 L52.3562 938.294 L57.8944 938.294 Q54.616 936.289 53.0564 933.488 Q51.4968 930.687 51.4968 926.836 Q51.4968 922.953 53.4702 920.247 Q55.4436 917.51 59.1993 916.205 Z\" fill=\"#000000\" fill-rule=\"evenodd\" fill-opacity=\"1\" /><path clip-path=\"url(#clip500)\" d=\"M 0 0 M70.212 860.41 Q63.7508 860.41 60.0905 863.083 Q56.3984 865.725 56.3984 870.372 Q56.3984 875.019 60.0905 877.692 Q63.7508 880.334 70.212 880.334 Q76.6732 880.334 80.3653 877.692 Q84.0256 875.019 84.0256 870.372 Q84.0256 865.725 80.3653 863.083 Q76.6732 860.41 70.212 860.41 M57.7671 880.334 Q54.5842 878.488 53.0564 875.687 Q51.4968 872.854 51.4968 868.94 Q51.4968 862.447 56.6531 858.404 Q61.8093 854.33 70.212 854.33 Q78.6147 854.33 83.771 858.404 Q88.9272 862.447 88.9272 868.94 Q88.9272 872.854 87.3994 875.687 Q85.8398 878.488 82.657 880.334 L88.0042 880.334 L88.0042 886.222 L38.479 886.222 L38.479 880.334 L57.7671 880.334 Z\" fill=\"#000000\" fill-rule=\"evenodd\" fill-opacity=\"1\" /><path clip-path=\"url(#clip500)\" d=\"M 0 0 M68.7161 817.696 L71.5806 817.696 L71.5806 844.623 Q77.6281 844.241 80.8109 840.994 Q83.9619 837.716 83.9619 831.891 Q83.9619 828.517 83.1344 825.366 Q82.3069 822.183 80.6518 819.064 L86.1899 819.064 Q87.5267 822.215 88.227 825.525 Q88.9272 828.836 88.9272 832.241 Q88.9272 840.771 83.9619 845.768 Q78.9967 850.734 70.5303 850.734 Q61.7774 850.734 56.6531 846.023 Q51.4968 841.281 51.4968 833.26 Q51.4968 826.067 56.1438 821.897 Q60.7589 817.696 68.7161 817.696 M66.9973 823.552 Q62.1912 823.616 59.3266 826.257 Q56.4621 828.867 56.4621 833.196 Q56.4621 838.098 59.2312 841.058 Q62.0002 843.986 67.0292 844.432 L66.9973 823.552 Z\" fill=\"#000000\" fill-rule=\"evenodd\" fill-opacity=\"1\" /><path clip-path=\"url(#clip500)\" d=\"M 0 0 M57.8307 790.896 Q57.2578 791.883 57.0032 793.06 Q56.7167 794.206 56.7167 795.607 Q56.7167 800.572 59.9632 803.245 Q63.1779 805.887 69.2253 805.887 L88.0042 805.887 L88.0042 811.776 L52.3562 811.776 L52.3562 805.887 L57.8944 805.887 Q54.6479 804.041 53.0883 801.081 Q51.4968 798.121 51.4968 793.888 Q51.4968 793.283 51.5923 792.551 Q51.656 791.819 51.8151 790.928 L57.8307 790.896 Z\" fill=\"#000000\" fill-rule=\"evenodd\" fill-opacity=\"1\" /><path clip-path=\"url(#clip500)\" d=\"M 0 0 M56.4621 750.219 Q56.4621 754.93 60.1542 757.667 Q63.8145 760.404 70.212 760.404 Q76.6095 760.404 80.3017 757.699 Q83.9619 754.962 83.9619 750.219 Q83.9619 745.54 80.2698 742.803 Q76.5777 740.066 70.212 740.066 Q63.8781 740.066 60.186 742.803 Q56.4621 745.54 56.4621 750.219 M51.4968 750.219 Q51.4968 742.58 56.4621 738.22 Q61.4273 733.859 70.212 733.859 Q78.9649 733.859 83.9619 738.22 Q88.9272 742.58 88.9272 750.219 Q88.9272 757.89 83.9619 762.25 Q78.9649 766.579 70.212 766.579 Q61.4273 766.579 56.4621 762.25 Q51.4968 757.89 51.4968 750.219 Z\" fill=\"#000000\" fill-rule=\"evenodd\" fill-opacity=\"1\" /><path clip-path=\"url(#clip500)\" d=\"M 0 0 M38.479 709.67 L43.3487 709.67 L43.3487 715.271 Q43.3487 718.422 44.6219 719.664 Q45.895 720.873 49.2052 720.873 L52.3562 720.873 L52.3562 711.229 L56.9077 711.229 L56.9077 720.873 L88.0042 720.873 L88.0042 726.761 L56.9077 726.761 L56.9077 732.363 L52.3562 732.363 L52.3562 726.761 L49.8736 726.761 Q43.9216 726.761 41.2162 723.992 Q38.479 721.223 38.479 715.208 L38.479 709.67 Z\" fill=\"#000000\" fill-rule=\"evenodd\" fill-opacity=\"1\" /><path clip-path=\"url(#clip500)\" d=\"M 0 0 M53.4065 660.081 L58.9447 660.081 Q57.6716 662.563 57.035 665.237 Q56.3984 667.911 56.3984 670.775 Q56.3984 675.136 57.7352 677.332 Q59.072 679.496 61.7456 679.496 Q63.7826 679.496 64.9603 677.937 Q66.1061 676.377 67.1565 671.666 L67.6021 669.661 Q68.9389 663.423 71.3897 660.813 Q73.8086 658.171 78.1691 658.171 Q83.1344 658.171 86.0308 662.118 Q88.9272 666.033 88.9272 672.908 Q88.9272 675.772 88.3543 678.891 Q87.8132 681.979 86.6992 685.416 L80.6518 685.416 Q82.3387 682.17 83.198 679.019 Q84.0256 675.868 84.0256 672.78 Q84.0256 668.643 82.6251 666.415 Q81.1929 664.187 78.6147 664.187 Q76.2276 664.187 74.9545 665.81 Q73.6813 667.401 72.5037 672.844 L72.0262 674.881 Q70.8804 680.324 68.5251 682.743 Q66.138 685.162 62.0002 685.162 Q56.9713 685.162 54.2341 681.597 Q51.4968 678.032 51.4968 671.475 Q51.4968 668.229 51.9743 665.364 Q52.4517 662.5 53.4065 660.081 Z\" fill=\"#000000\" fill-rule=\"evenodd\" fill-opacity=\"1\" /><path clip-path=\"url(#clip500)\" d=\"M 0 0 M70.0847 635.827 Q70.0847 642.925 71.7079 645.662 Q73.3312 648.4 77.2461 648.4 Q80.3653 648.4 82.2114 646.363 Q84.0256 644.294 84.0256 640.761 Q84.0256 635.891 80.5881 632.963 Q77.1188 630.003 71.3897 630.003 L70.0847 630.003 L70.0847 635.827 M67.6657 624.146 L88.0042 624.146 L88.0042 630.003 L82.5933 630.003 Q85.8398 632.008 87.3994 635 Q88.9272 637.992 88.9272 642.32 Q88.9272 647.795 85.8716 651.041 Q82.7843 654.256 77.6281 654.256 Q71.6125 654.256 68.5569 650.246 Q65.5014 646.203 65.5014 638.215 L65.5014 630.003 L64.9285 630.003 Q60.8862 630.003 58.6901 632.676 Q56.4621 635.318 56.4621 640.124 Q56.4621 643.18 57.1941 646.076 Q57.9262 648.973 59.3903 651.646 L53.9795 651.646 Q52.7381 648.431 52.1334 645.408 Q51.4968 642.384 51.4968 639.519 Q51.4968 631.785 55.5072 627.966 Q59.5176 624.146 67.6657 624.146 Z\" fill=\"#000000\" fill-rule=\"evenodd\" fill-opacity=\"1\" /><path clip-path=\"url(#clip500)\" d=\"M 0 0 M59.1993 590.249 Q55.2526 588.053 53.3747 584.997 Q51.4968 581.942 51.4968 577.804 Q51.4968 572.234 55.4117 569.21 Q59.2948 566.187 66.4881 566.187 L88.0042 566.187 L88.0042 572.075 L66.679 572.075 Q61.5546 572.075 59.072 573.889 Q56.5894 575.703 56.5894 579.427 Q56.5894 583.979 59.6131 586.62 Q62.6368 589.262 67.8567 589.262 L88.0042 589.262 L88.0042 595.151 L66.679 595.151 Q61.5228 595.151 59.072 596.965 Q56.5894 598.779 56.5894 602.567 Q56.5894 607.054 59.6449 609.696 Q62.6686 612.338 67.8567 612.338 L88.0042 612.338 L88.0042 618.226 L52.3562 618.226 L52.3562 612.338 L57.8944 612.338 Q54.616 610.333 53.0564 607.532 Q51.4968 604.731 51.4968 600.88 Q51.4968 596.997 53.4702 594.291 Q55.4436 591.554 59.1993 590.249 Z\" fill=\"#000000\" fill-rule=\"evenodd\" fill-opacity=\"1\" /><path clip-path=\"url(#clip500)\" d=\"M 0 0 M82.657 554.378 L101.563 554.378 L101.563 560.266 L52.3562 560.266 L52.3562 554.378 L57.7671 554.378 Q54.5842 552.532 53.0564 549.731 Q51.4968 546.898 51.4968 542.984 Q51.4968 536.491 56.6531 532.448 Q61.8093 528.374 70.212 528.374 Q78.6147 528.374 83.771 532.448 Q88.9272 536.491 88.9272 542.984 Q88.9272 546.898 87.3994 549.731 Q85.8398 552.532 82.657 554.378 M70.212 534.453 Q63.7508 534.453 60.0905 537.127 Q56.3984 539.769 56.3984 544.416 Q56.3984 549.063 60.0905 551.736 Q63.7508 554.378 70.212 554.378 Q76.6732 554.378 80.3653 551.736 Q84.0256 549.063 84.0256 544.416 Q84.0256 539.769 80.3653 537.127 Q76.6732 534.453 70.212 534.453 Z\" fill=\"#000000\" fill-rule=\"evenodd\" fill-opacity=\"1\" /><path clip-path=\"url(#clip500)\" d=\"M 0 0 M38.479 522.231 L38.479 516.375 L88.0042 516.375 L88.0042 522.231 L38.479 522.231 Z\" fill=\"#000000\" fill-rule=\"evenodd\" fill-opacity=\"1\" /><path clip-path=\"url(#clip500)\" d=\"M 0 0 M68.7161 479.74 L71.5806 479.74 L71.5806 506.667 Q77.6281 506.285 80.8109 503.039 Q83.9619 499.76 83.9619 493.936 Q83.9619 490.562 83.1344 487.411 Q82.3069 484.228 80.6518 481.109 L86.1899 481.109 Q87.5267 484.26 88.227 487.57 Q88.9272 490.88 88.9272 494.286 Q88.9272 502.816 83.9619 507.813 Q78.9967 512.778 70.5303 512.778 Q61.7774 512.778 56.6531 508.068 Q51.4968 503.325 51.4968 495.304 Q51.4968 488.111 56.1438 483.942 Q60.7589 479.74 68.7161 479.74 M66.9973 485.597 Q62.1912 485.66 59.3266 488.302 Q56.4621 490.912 56.4621 495.241 Q56.4621 500.142 59.2312 503.102 Q62.0002 506.031 67.0292 506.476 L66.9973 485.597 Z\" fill=\"#000000\" fill-rule=\"evenodd\" fill-opacity=\"1\" /><path clip-path=\"url(#clip500)\" d=\"M 0 0 M53.4065 450.872 L58.9447 450.872 Q57.6716 453.354 57.035 456.028 Q56.3984 458.702 56.3984 461.566 Q56.3984 465.927 57.7352 468.123 Q59.072 470.287 61.7456 470.287 Q63.7826 470.287 64.9603 468.728 Q66.1061 467.168 67.1565 462.457 L67.6021 460.452 Q68.9389 454.214 71.3897 451.604 Q73.8086 448.962 78.1691 448.962 Q83.1344 448.962 86.0308 452.909 Q88.9272 456.824 88.9272 463.699 Q88.9272 466.563 88.3543 469.682 Q87.8132 472.77 86.6992 476.207 L80.6518 476.207 Q82.3387 472.961 83.198 469.81 Q84.0256 466.659 84.0256 463.571 Q84.0256 459.434 82.6251 457.206 Q81.1929 454.978 78.6147 454.978 Q76.2276 454.978 74.9545 456.601 Q73.6813 458.192 72.5037 463.635 L72.0262 465.672 Q70.8804 471.115 68.5251 473.534 Q66.138 475.953 62.0002 475.953 Q56.9713 475.953 54.2341 472.388 Q51.4968 468.823 51.4968 462.266 Q51.4968 459.02 51.9743 456.155 Q52.4517 453.291 53.4065 450.872 Z\" fill=\"#000000\" fill-rule=\"evenodd\" fill-opacity=\"1\" /><path clip-path=\"url(#clip502)\" d=\"\n",
       "M320.729 1351.79 L320.729 1384.24 L494.707 1384.24 L494.707 1351.79 L320.729 1351.79 L320.729 1351.79  Z\n",
       "  \" fill=\"#009af9\" fill-rule=\"evenodd\" fill-opacity=\"1\"/>\n",
       "<polyline clip-path=\"url(#clip502)\" style=\"stroke:#000000; stroke-width:4; stroke-opacity:1; fill:none\" points=\"\n",
       "  320.729,1351.79 320.729,1384.24 494.707,1384.24 494.707,1351.79 320.729,1351.79 \n",
       "  \"/>\n",
       "<path clip-path=\"url(#clip502)\" d=\"\n",
       "M494.707 1286.88 L494.707 1384.24 L668.685 1384.24 L668.685 1286.88 L494.707 1286.88 L494.707 1286.88  Z\n",
       "  \" fill=\"#009af9\" fill-rule=\"evenodd\" fill-opacity=\"1\"/>\n",
       "<polyline clip-path=\"url(#clip502)\" style=\"stroke:#000000; stroke-width:4; stroke-opacity:1; fill:none\" points=\"\n",
       "  494.707,1286.88 494.707,1384.24 668.685,1384.24 668.685,1286.88 494.707,1286.88 \n",
       "  \"/>\n",
       "<path clip-path=\"url(#clip502)\" d=\"\n",
       "M668.685 1384.24 L668.685 1384.24 L842.663 1384.24 L842.663 1384.24 L668.685 1384.24 L668.685 1384.24  Z\n",
       "  \" fill=\"#009af9\" fill-rule=\"evenodd\" fill-opacity=\"1\"/>\n",
       "<polyline clip-path=\"url(#clip502)\" style=\"stroke:#000000; stroke-width:4; stroke-opacity:1; fill:none\" points=\"\n",
       "  668.685,1384.24 668.685,1384.24 842.663,1384.24 668.685,1384.24 \n",
       "  \"/>\n",
       "<path clip-path=\"url(#clip502)\" d=\"\n",
       "M842.663 1351.79 L842.663 1384.24 L1016.64 1384.24 L1016.64 1351.79 L842.663 1351.79 L842.663 1351.79  Z\n",
       "  \" fill=\"#009af9\" fill-rule=\"evenodd\" fill-opacity=\"1\"/>\n",
       "<polyline clip-path=\"url(#clip502)\" style=\"stroke:#000000; stroke-width:4; stroke-opacity:1; fill:none\" points=\"\n",
       "  842.663,1351.79 842.663,1384.24 1016.64,1384.24 1016.64,1351.79 842.663,1351.79 \n",
       "  \"/>\n",
       "<path clip-path=\"url(#clip502)\" d=\"\n",
       "M1016.64 1319.34 L1016.64 1384.24 L1190.62 1384.24 L1190.62 1319.34 L1016.64 1319.34 L1016.64 1319.34  Z\n",
       "  \" fill=\"#009af9\" fill-rule=\"evenodd\" fill-opacity=\"1\"/>\n",
       "<polyline clip-path=\"url(#clip502)\" style=\"stroke:#000000; stroke-width:4; stroke-opacity:1; fill:none\" points=\"\n",
       "  1016.64,1319.34 1016.64,1384.24 1190.62,1384.24 1190.62,1319.34 1016.64,1319.34 \n",
       "  \"/>\n",
       "<path clip-path=\"url(#clip502)\" d=\"\n",
       "M1190.62 1189.53 L1190.62 1384.24 L1364.6 1384.24 L1364.6 1189.53 L1190.62 1189.53 L1190.62 1189.53  Z\n",
       "  \" fill=\"#009af9\" fill-rule=\"evenodd\" fill-opacity=\"1\"/>\n",
       "<polyline clip-path=\"url(#clip502)\" style=\"stroke:#000000; stroke-width:4; stroke-opacity:1; fill:none\" points=\"\n",
       "  1190.62,1189.53 1190.62,1384.24 1364.6,1384.24 1364.6,1189.53 1190.62,1189.53 \n",
       "  \"/>\n",
       "<path clip-path=\"url(#clip502)\" d=\"\n",
       "M1364.6 1157.08 L1364.6 1384.24 L1538.57 1384.24 L1538.57 1157.08 L1364.6 1157.08 L1364.6 1157.08  Z\n",
       "  \" fill=\"#009af9\" fill-rule=\"evenodd\" fill-opacity=\"1\"/>\n",
       "<polyline clip-path=\"url(#clip502)\" style=\"stroke:#000000; stroke-width:4; stroke-opacity:1; fill:none\" points=\"\n",
       "  1364.6,1157.08 1364.6,1384.24 1538.57,1384.24 1538.57,1157.08 1364.6,1157.08 \n",
       "  \"/>\n",
       "<path clip-path=\"url(#clip502)\" d=\"\n",
       "M1538.57 1124.63 L1538.57 1384.24 L1712.55 1384.24 L1712.55 1124.63 L1538.57 1124.63 L1538.57 1124.63  Z\n",
       "  \" fill=\"#009af9\" fill-rule=\"evenodd\" fill-opacity=\"1\"/>\n",
       "<polyline clip-path=\"url(#clip502)\" style=\"stroke:#000000; stroke-width:4; stroke-opacity:1; fill:none\" points=\"\n",
       "  1538.57,1124.63 1538.57,1384.24 1712.55,1384.24 1712.55,1124.63 1538.57,1124.63 \n",
       "  \"/>\n",
       "<path clip-path=\"url(#clip502)\" d=\"\n",
       "M1712.55 994.822 L1712.55 1384.24 L1886.53 1384.24 L1886.53 994.822 L1712.55 994.822 L1712.55 994.822  Z\n",
       "  \" fill=\"#009af9\" fill-rule=\"evenodd\" fill-opacity=\"1\"/>\n",
       "<polyline clip-path=\"url(#clip502)\" style=\"stroke:#000000; stroke-width:4; stroke-opacity:1; fill:none\" points=\"\n",
       "  1712.55,994.822 1712.55,1384.24 1886.53,1384.24 1886.53,994.822 1712.55,994.822 \n",
       "  \"/>\n",
       "<path clip-path=\"url(#clip502)\" d=\"\n",
       "M1886.53 86.1857 L1886.53 1384.24 L2060.51 1384.24 L2060.51 86.1857 L1886.53 86.1857 L1886.53 86.1857  Z\n",
       "  \" fill=\"#009af9\" fill-rule=\"evenodd\" fill-opacity=\"1\"/>\n",
       "<polyline clip-path=\"url(#clip502)\" style=\"stroke:#000000; stroke-width:4; stroke-opacity:1; fill:none\" points=\"\n",
       "  1886.53,86.1857 1886.53,1384.24 2060.51,1384.24 2060.51,86.1857 1886.53,86.1857 \n",
       "  \"/>\n",
       "<path clip-path=\"url(#clip502)\" d=\"\n",
       "M2060.51 735.212 L2060.51 1384.24 L2234.49 1384.24 L2234.49 735.212 L2060.51 735.212 L2060.51 735.212  Z\n",
       "  \" fill=\"#009af9\" fill-rule=\"evenodd\" fill-opacity=\"1\"/>\n",
       "<polyline clip-path=\"url(#clip502)\" style=\"stroke:#000000; stroke-width:4; stroke-opacity:1; fill:none\" points=\"\n",
       "  2060.51,735.212 2060.51,1384.24 2234.49,1384.24 2234.49,735.212 2060.51,735.212 \n",
       "  \"/>\n",
       "</svg>\n"
      ]
     },
     "execution_count": 7,
     "metadata": {},
     "output_type": "execute_result"
    }
   ],
   "source": [
    "using CSV\n",
    "quality = CSV.read(\"mendel.imputed.chr22.sample.error\") # import quality score \n",
    "\n",
    "# visualize error distribution\n",
    "histogram(quality[:error], label=:none, xlabel=\"per-sample quality score\",\n",
    "    ylabel=\"Number of samples\") "
   ]
  },
  {
   "cell_type": "markdown",
   "metadata": {},
   "source": [
    "**Conclusion:** Most samples are well imputed (e.g. score close to 1), but some samples are indeed poorly imputed. From the histogram, we can safely [filtered out](https://openmendel.github.io/VCFTools.jl/dev/man/filter/#Subsetting-VCF-files-using-array-masks) samples with score $< 0.999$ as that would remove poorly imputed individuals without reducing sample size too much."
   ]
  }
 ],
 "metadata": {
  "@webio": {
   "lastCommId": null,
   "lastKernelId": null
  },
  "kernelspec": {
   "display_name": "Julia 1.5.0",
   "language": "julia",
   "name": "julia-1.5"
  },
  "language_info": {
   "file_extension": ".jl",
   "mimetype": "application/julia",
   "name": "julia",
   "version": "1.5.0"
  }
 },
 "nbformat": 4,
 "nbformat_minor": 2
}
