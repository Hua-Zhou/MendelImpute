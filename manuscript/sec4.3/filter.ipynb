{
 "cells": [
  {
   "cell_type": "markdown",
   "metadata": {},
   "source": [
    "# Chromosome Painting"
   ]
  },
  {
   "cell_type": "code",
   "execution_count": 2,
   "metadata": {
    "collapsed": false
   },
   "outputs": [],
   "source": [
    "using Revise\n",
    "using VCFTools\n",
    "using MendelImpute\n",
    "using VariantCallFormat\n",
    "using Random\n",
    "using StatsBase\n",
    "using CodecZlib\n",
    "using ProgressMeter\n",
    "using BenchmarkTools\n",
    "using GroupSlices\n",
    "using LinearAlgebra\n",
    "using DataFrames\n",
    "using Plots\n",
    "using DelimitedFiles\n",
    "using JLSO\n",
    "using StatsBase\n",
    "# using ProfileView\n",
    "\n",
    "BLAS.set_num_threads(1)"
   ]
  },
  {
   "cell_type": "markdown",
   "metadata": {},
   "source": [
    "# Download population data\n",
    "\n",
    "Download [population code](ftp://ftp.1000genomes.ebi.ac.uk/vol1/ftp/data_collections/1000_genomes_project/data/) for each 1000 genomes sample. Different population code is explained [here](https://www.internationalgenome.org/category/population/) and their inclusion criteria is explained [here](https://www.coriell.org/1/NHGRI/About/Guidelines-for-Referring-to-Populations)."
   ]
  },
  {
   "cell_type": "code",
   "execution_count": 2,
   "metadata": {
    "collapsed": true
   },
   "outputs": [],
   "source": [
    "# run this code in terminal\n",
    "# wget -r -l3 -N --no-parent ftp://ftp.1000genomes.ebi.ac.uk/vol1/ftp/data_collections/1000_genomes_project/data/"
   ]
  },
  {
   "cell_type": "markdown",
   "metadata": {},
   "source": [
    "# Get each sample's population and super-population origin"
   ]
  },
  {
   "cell_type": "code",
   "execution_count": 3,
   "metadata": {
    "collapsed": false
   },
   "outputs": [
    {
     "data": {
      "text/plain": [
       "Dict{String, String} with 2504 entries:\n",
       "  \"HG01791\" => \"GBR\"\n",
       "  \"HG02736\" => \"PJL\"\n",
       "  \"HG00182\" => \"FIN\"\n",
       "  \"HG03914\" => \"BEB\"\n",
       "  \"HG00149\" => \"GBR\"\n",
       "  \"NA12156\" => \"CEU\"\n",
       "  \"HG02642\" => \"GWD\"\n",
       "  \"HG02851\" => \"GWD\"\n",
       "  \"NA19835\" => \"ASW\"\n",
       "  \"NA19019\" => \"LWK\"\n",
       "  \"HG01131\" => \"CLM\"\n",
       "  \"HG03578\" => \"MSL\"\n",
       "  \"NA18550\" => \"CHB\"\n",
       "  \"HG02401\" => \"CDX\"\n",
       "  \"HG01350\" => \"CLM\"\n",
       "  \"HG03973\" => \"ITU\"\n",
       "  \"NA07000\" => \"CEU\"\n",
       "  \"HG01709\" => \"IBS\"\n",
       "  \"HG01395\" => \"PUR\"\n",
       "  \"HG01980\" => \"PEL\"\n",
       "  \"HG01979\" => \"PEL\"\n",
       "  \"HG01122\" => \"CLM\"\n",
       "  \"HG03869\" => \"ITU\"\n",
       "  \"HG03729\" => \"ITU\"\n",
       "  \"NA19920\" => \"ASW\"\n",
       "  ⋮         => ⋮"
      ]
     },
     "execution_count": 3,
     "metadata": {},
     "output_type": "execute_result"
    }
   ],
   "source": [
    "refID_to_population = thousand_genome_samples_to_population()"
   ]
  },
  {
   "cell_type": "markdown",
   "metadata": {},
   "source": [
    "# Separate admixed populations\n",
    "\n",
    "We will use samples from:\n",
    "\n",
    "- MXL: Mexican Ancestry in Los Angeles\n",
    "- PUR: Puerto Rican in Puerto Rico\n",
    "- ASW: African Ancestry in SW USA\n",
    "- CLM: Colombian in Medellin, Colombia\n",
    "- PEL: Peruvian in Lima, Peru\n",
    "- ACB: African Caribbean in Barbados\n",
    "- CHD: Chinese in Metropolitan Denver, Colorado, USA (actually NOT present in our data)\n",
    "- GIH: Gujarati Indians in Houston, Texas, USA\n",
    "- ITU: Indian Telugu in the U.K.\n",
    "- STU: Sri Lankan Tamil in the UK\n",
    "\n",
    "as targets to infer ancestry. These population show high degrees of recent admixture and are also highly heterogeneous in their admixture. Remaining populations will be used as the reference panel. \n",
    "\n",
    "We may wish to also exclude:\n",
    "\n",
    "Deatailed population description is found [here](https://www.coriell.org/1/NHGRI/About/Guidelines-for-Referring-to-Populations). "
   ]
  },
  {
   "cell_type": "code",
   "execution_count": 6,
   "metadata": {
    "collapsed": false
   },
   "outputs": [
    {
     "data": {
      "text/plain": [
       "2504-element Vector{String}:\n",
       " \"HG00096\"\n",
       " \"HG00097\"\n",
       " \"HG00099\"\n",
       " \"HG00100\"\n",
       " \"HG00101\"\n",
       " \"HG00102\"\n",
       " \"HG00103\"\n",
       " \"HG00105\"\n",
       " \"HG00106\"\n",
       " \"HG00107\"\n",
       " \"HG00108\"\n",
       " \"HG00109\"\n",
       " \"HG00110\"\n",
       " ⋮\n",
       " \"NA21126\"\n",
       " \"NA21127\"\n",
       " \"NA21128\"\n",
       " \"NA21129\"\n",
       " \"NA21130\"\n",
       " \"NA21133\"\n",
       " \"NA21135\"\n",
       " \"NA21137\"\n",
       " \"NA21141\"\n",
       " \"NA21142\"\n",
       " \"NA21143\"\n",
       " \"NA21144\""
      ]
     },
     "execution_count": 6,
     "metadata": {},
     "output_type": "execute_result"
    }
   ],
   "source": [
    "# need full sample ID list\n",
    "data = \"/Users/biona001/.julia/dev/MendelImpute/data/1000_genome_phase3_v5/beagle_raw/chr18.1kg.phase3.v5a.vcf.gz\"\n",
    "sampleIDs = sampleID(data)"
   ]
  },
  {
   "cell_type": "code",
   "execution_count": 7,
   "metadata": {
    "collapsed": false
   },
   "outputs": [
    {
     "name": "stdout",
     "output_type": "stream",
     "text": [
      "length(ref_idx) = 1693\n",
      "length(sample_idx) = 811\n"
     ]
    }
   ],
   "source": [
    "# check how many people remain in reference panel\n",
    "admixed = [\"MXL\", \"PUR\", \"CLM\", \"PEL\", \"ASW\", \"ACB\", \"GIH\", \"ITU\", \"STU\"]\n",
    "ref_idx = Int[]\n",
    "sample_idx = Int[]\n",
    "for (i, id) in enumerate(sampleIDs)\n",
    "    refID_to_population[id] ∈ admixed ? push!(sample_idx, i) : push!(ref_idx, i)\n",
    "end\n",
    "@show length(ref_idx)\n",
    "@show length(sample_idx);"
   ]
  },
  {
   "cell_type": "code",
   "execution_count": 6,
   "metadata": {
    "collapsed": false
   },
   "outputs": [
    {
     "name": "stderr",
     "output_type": "stream",
     "text": [
      "\u001b[32mProgress: 100%|█████████████████████████████████████████| Time: 0:09:25\u001b[39m\n",
      "\u001b[32mfiltering vcf file...100%|██████████████████████████████| Time: 0:11:57\u001b[39m\n",
      "\u001b[32mfiltering vcf file...100%|██████████████████████████████| Time: 0:16:41\u001b[39m\n",
      "\u001b[32mProgress: 100%|█████████████████████████████████████████| Time: 0:10:11\u001b[39m\n",
      "\u001b[32mfiltering vcf file...100%|██████████████████████████████| Time: 0:09:28\u001b[39m\n",
      "\u001b[32mmasking vcf file...100%|████████████████████████████████| Time: 0:00:09\u001b[39m\n"
     ]
    },
    {
     "name": "stdout",
     "output_type": "stream",
     "text": [
      "3538.497681 seconds (38.75 G allocations: 3.560 TiB, 12.05% gc time)\n"
     ]
    }
   ],
   "source": [
    "cd(\"/Users/biona001/.julia/dev/MendelImpute/data/1000_genome_phase3_v5/country_origin2\")\n",
    "function filter_and_mask(ref_idx, sample_idx, refID_to_population)\n",
    "    # filter chromosome data for unique snps\n",
    "#     data = \"../beagle_raw/chr18.1kg.phase3.v5a.vcf.gz\"\n",
    "#     full_record_index = .!find_duplicate_marker(data)\n",
    "#     VCFTools.filter(data, full_record_index, 1:nsamples(data), \n",
    "#         des = \"chr18.uniqueSNPs.vcf.gz\")\n",
    "\n",
    "    # summarize data\n",
    "    total_snps, samples, _, _, _, maf_by_record, _ = gtstats(\"chr18.uniqueSNPs.vcf.gz\")\n",
    "\n",
    "    # generate target panel with all snps\n",
    "    VCFTools.filter(\"chr18.uniqueSNPs.vcf.gz\", 1:total_snps, \n",
    "        sample_idx, des = \"target.chr18.full.vcf.gz\", allow_multiallelic=false)\n",
    "\n",
    "    # also generate reference panel\n",
    "    VCFTools.filter(\"chr18.uniqueSNPs.vcf.gz\", 1:total_snps, \n",
    "        ref_idx, des = \"ref.chr18.vcf.gz\", allow_multiallelic=false)\n",
    "\n",
    "    # set top 50k ancestry informative marker as typed SNPs\n",
    "    p = 50000\n",
    "    aim_pvals = VCFTools.aim_select(\"chr18.uniqueSNPs.vcf.gz\", refID_to_population)\n",
    "    aim_rank = sortperm(aim_pvals)\n",
    "    record_idx = falses(total_snps)\n",
    "    [record_idx[aim_rank[i]] = true for i in 1:p] # typed SNPs are top aim markers\n",
    "    VCFTools.filter(\"chr18.uniqueSNPs.vcf.gz\", record_idx, sample_idx, \n",
    "        des = \"target.chr18.typedOnly.aim.vcf.gz\", allow_multiallelic=false)\n",
    "    \n",
    "    # unphase and mask 1% entries in target file\n",
    "    n = length(sample_idx)\n",
    "    masks = falses(p, n)\n",
    "    missingprop = 0.001\n",
    "    for j in 1:n, i in 1:p\n",
    "        rand() < missingprop && (masks[i, j] = true)\n",
    "    end\n",
    "    mask_gt(\"target.chr18.typedOnly.aim.vcf.gz\", masks, \n",
    "        des=\"target.chr18.typedOnly.aim.masked.vcf.gz\", unphase=true)\n",
    "end\n",
    "Random.seed!(2020)\n",
    "@time filter_and_mask(ref_idx, sample_idx, refID_to_population)"
   ]
  },
  {
   "cell_type": "code",
   "execution_count": 7,
   "metadata": {
    "collapsed": false
   },
   "outputs": [
    {
     "name": "stderr",
     "output_type": "stream",
     "text": [
      "\u001b[32mimporting reference data...100%|████████████████████████| Time: 0:04:37\u001b[39m\n",
      "\u001b[32mImporting genotype file...100%|█████████████████████████| Time: 0:00:06\u001b[39m\n"
     ]
    },
    {
     "name": "stdout",
     "output_type": "stream",
     "text": [
      "470.035680 seconds (3.00 G allocations: 274.495 GiB, 25.55% gc time)\n"
     ]
    }
   ],
   "source": [
    "# Compress reference file to VCF\n",
    "d = 1000\n",
    "@time compress_haplotypes(\"ref.chr18.vcf.gz\", \"target.chr18.typedOnly.aim.masked.vcf.gz\",\n",
    "    \"ref.chr18.jlso\", d)"
   ]
  },
  {
   "cell_type": "code",
   "execution_count": null,
   "metadata": {
    "collapsed": true
   },
   "outputs": [],
   "source": []
  }
 ],
 "metadata": {
  "@webio": {
   "lastCommId": null,
   "lastKernelId": null
  },
  "kernelspec": {
   "display_name": "Julia 1.6.0",
   "language": "julia",
   "name": "julia-1.6"
  },
  "language_info": {
   "file_extension": ".jl",
   "mimetype": "application/julia",
   "name": "julia",
   "version": "1.6.0"
  }
 },
 "nbformat": 4,
 "nbformat_minor": 2
}
