{
 "cells": [
  {
   "cell_type": "markdown",
   "metadata": {},
   "source": [
    "# Find which SNPs in reference panels are on GWAS chip\n",
    "\n",
    "One of the reviewers' main comment is we should use real SNPs in our simulations. Thus, let's try to see if SNPs on the Illumina chips are also on the HRC/1000-genomes reference panel. \n",
    "\n",
    "SNPs on Illumina chips are downloaded as `.bed` files from:\n",
    "+ https://support.illumina.com/array/array_kits/humanomni2_5-8_beadchip_kit/downloads.html\n",
    "+ https://support.illumina.com/array/array_kits/humanomni5-4-beadchip-kit/downloads.html"
   ]
  },
  {
   "cell_type": "code",
   "execution_count": 2,
   "metadata": {
    "collapsed": false
   },
   "outputs": [
    {
     "data": {
      "text/plain": [
       "1"
      ]
     },
     "execution_count": 2,
     "metadata": {},
     "output_type": "execute_result"
    }
   ],
   "source": [
    "using Revise\n",
    "using VCFTools\n",
    "using SnpArrays\n",
    "using MendelImpute\n",
    "using Random\n",
    "using StatsBase\n",
    "using CodecZlib\n",
    "using ProgressMeter\n",
    "using JLSO\n",
    "using BenchmarkTools\n",
    "using GroupSlices\n",
    "using LinearAlgebra\n",
    "using CSV\n",
    "using DataFrames\n",
    "# using ProfileView\n",
    "\n",
    "BLAS.set_num_threads(1)\n",
    "Threads.nthreads()"
   ]
  },
  {
   "cell_type": "markdown",
   "metadata": {},
   "source": [
    "# 1000 genomes reference panel"
   ]
  },
  {
   "cell_type": "code",
   "execution_count": 40,
   "metadata": {
    "collapsed": false
   },
   "outputs": [
    {
     "name": "stderr",
     "output_type": "stream",
     "text": [
      "\u001b[32mimporting100%|██████████████████████████████████████████| Time: 0:05:27\u001b[39m\n"
     ]
    }
   ],
   "source": [
    "# SNP IDs are in record_ids\n",
    "geno, sampleID, record_chr, record_pos, record_ids, record_ref, record_alt = convert_gt(Float32, \n",
    "    \"/Users/biona001/.julia/dev/MendelImpute/data/1000_genome_phase3_v5/filtered/chr20.uniqueSNPs.vcf.gz\",\n",
    "    save_snp_info=true, msg=\"importing\");"
   ]
  },
  {
   "cell_type": "markdown",
   "metadata": {},
   "source": [
    "### Chr20 SNPs on Illumina Omni2.5"
   ]
  },
  {
   "cell_type": "code",
   "execution_count": 43,
   "metadata": {
    "collapsed": false
   },
   "outputs": [
    {
     "name": "stdout",
     "output_type": "stream",
     "text": [
      "size(bed, 1) = 2379684\n",
      "length(chrom_20_snppos) = 56845\n",
      "Number of SNPs shared by Omni2.5 and 1000 genomes on chr 20 = 52978\n"
     ]
    }
   ],
   "source": [
    "bed = CSV.read(\"/Users/biona001/.julia/dev/MendelImpute/data/omni_chips/InfiniumOmni2-5-8v1-5_A1.bed\", \n",
    "    skipto = 2, header=false, delim='\\t')\n",
    "chrom_20_snppos = bed[findall(x -> x == \"chr20\", bed[!, 1]), 3]\n",
    "\n",
    "@show size(bed, 1)\n",
    "@show length(chrom_20_snppos)\n",
    "\n",
    "idx = indexin(chrom_20_snppos, record_pos)\n",
    "println(\"Number of SNPs shared by Omni2.5 and 1000 genomes on chr 20 = \", count(!isnothing, idx))"
   ]
  },
  {
   "cell_type": "markdown",
   "metadata": {},
   "source": [
    "### Chr20 SNPs on Illumina Omni5.4"
   ]
  },
  {
   "cell_type": "code",
   "execution_count": 44,
   "metadata": {
    "collapsed": false
   },
   "outputs": [
    {
     "name": "stdout",
     "output_type": "stream",
     "text": [
      "size(bed, 1) = 4320325\n",
      "length(chrom_20_snppos) = 103318\n",
      "Number of SNPs shared by Omni5.4 and 1000 genomes on chr 20 = 92652\n"
     ]
    }
   ],
   "source": [
    "bed = CSV.read(\"/Users/biona001/.julia/dev/MendelImpute/data/omni_chips/InfiniumOmni5-4v1-2_A1.bed\", \n",
    "    skipto = 2, header=false, delim='\\t')\n",
    "chrom_20_snppos = bed[findall(x -> x == \"chr20\", bed[!, 1]), 3]\n",
    "\n",
    "@show size(bed, 1)\n",
    "@show length(chrom_20_snppos)\n",
    "\n",
    "idx = indexin(chrom_20_snppos, record_pos)\n",
    "println(\"Number of SNPs shared by Omni5.4 and 1000 genomes on chr 20 = \", count(!isnothing, idx))"
   ]
  },
  {
   "cell_type": "markdown",
   "metadata": {},
   "source": [
    "# HRC reference panel"
   ]
  },
  {
   "cell_type": "code",
   "execution_count": 20,
   "metadata": {
    "collapsed": false
   },
   "outputs": [
    {
     "name": "stderr",
     "output_type": "stream",
     "text": [
      "\u001b[32mimporting100%|██████████████████████████████████████████| Time: 0:12:17\u001b[39m\n"
     ]
    }
   ],
   "source": [
    "# SNP IDs are in record_ids\n",
    "geno, sampleID, record_chr, record_pos, record_ids, record_ref, record_alt = convert_gt(Float32, \n",
    "    \"/Users/biona001/.julia/dev/MendelImpute/data/HRC/target.chr10.full.vcf.gz\",\n",
    "    save_snp_info=true, msg=\"importing\");"
   ]
  },
  {
   "cell_type": "markdown",
   "metadata": {},
   "source": [
    "### Chr10 SNPs on Illumina Omni2.5"
   ]
  },
  {
   "cell_type": "code",
   "execution_count": 39,
   "metadata": {
    "collapsed": false
   },
   "outputs": [
    {
     "name": "stdout",
     "output_type": "stream",
     "text": [
      "size(bed, 1) = 2379684\n",
      "length(chrom_10_snppos) = 119731\n",
      "Number of SNPs shared by Omni2.5 and HRC on chr 10 = 110887\n"
     ]
    }
   ],
   "source": [
    "bed = CSV.read(\"/Users/biona001/.julia/dev/MendelImpute/data/omni_chips/InfiniumOmni2-5-8v1-5_A1.bed\", \n",
    "    skipto = 2, header=false, delim='\\t')\n",
    "chrom_10_snppos = bed[findall(x -> x == \"chr10\", bed[!, 1]), 3]\n",
    "\n",
    "@show size(bed, 1)\n",
    "@show length(chrom_10_snppos)\n",
    "\n",
    "idx = indexin(record_pos, chrom_10_snppos)\n",
    "println(\"Number of SNPs shared by Omni2.5 and HRC on chr 10 = \", count(!isnothing, idx))"
   ]
  },
  {
   "cell_type": "markdown",
   "metadata": {},
   "source": [
    "### Chr10 SNPs on Illumina Omni5.4"
   ]
  },
  {
   "cell_type": "code",
   "execution_count": 37,
   "metadata": {
    "collapsed": false
   },
   "outputs": [
    {
     "name": "stdout",
     "output_type": "stream",
     "text": [
      "size(bed, 1) = 4320325\n",
      "length(chrom_10_snppos) = 206133\n",
      "Number of SNPs shared by Omni5.4 and HRC on chr 10 = 191210\n"
     ]
    }
   ],
   "source": [
    "bed = CSV.read(\"/Users/biona001/.julia/dev/MendelImpute/data/omni_chips/InfiniumOmni5-4v1-2_A1.bed\", \n",
    "    skipto = 2, header=false, delim='\\t')\n",
    "chrom_10_snppos = bed[findall(x -> x == \"chr10\", bed[!, 1]), 3]\n",
    "\n",
    "@show size(bed, 1)\n",
    "@show length(chrom_10_snppos)\n",
    "\n",
    "idx = indexin(record_pos, chrom_10_snppos)\n",
    "println(\"Number of SNPs shared by Omni5.4 and HRC on chr 10 = \", count(!isnothing, idx))"
   ]
  },
  {
   "cell_type": "markdown",
   "metadata": {},
   "source": [
    "# 1000 genomes experiment"
   ]
  },
  {
   "cell_type": "code",
   "execution_count": 79,
   "metadata": {
    "collapsed": false
   },
   "outputs": [
    {
     "name": "stderr",
     "output_type": "stream",
     "text": [
      "\u001b[32mimporting100%|██████████████████████████████████████████| Time: 0:05:12\u001b[39m\n",
      "\u001b[32mfiltering vcf file...100%|██████████████████████████████| Time: 0:09:27\u001b[39m\n",
      "\u001b[32mfiltering vcf file...100%|██████████████████████████████| Time: 0:23:59\u001b[39m\n",
      "\u001b[32mfiltering vcf file...100%|██████████████████████████████| Time: 0:09:57\u001b[39m\n"
     ]
    },
    {
     "name": "stdout",
     "output_type": "stream",
     "text": [
      "2970.249967 seconds (23.56 G allocations: 2.102 TiB, 17.23% gc time)\n"
     ]
    }
   ],
   "source": [
    "cd(\"/Users/biona001/.julia/dev/MendelImpute/data/1000_genome_phase3_v5/filtered\")\n",
    "function filter_and_mask(chr::Int)\n",
    "    # filter chromosome data for unique snps\n",
    "#         data = \"../beagle_raw/chr$chr.1kg.phase3.v5a.vcf.gz\"\n",
    "#         full_record_index = .!find_duplicate_marker(data)\n",
    "#         VCFTools.filter(data, full_record_index, 1:nsamples(data), \n",
    "#             des = \"chr$chr.uniqueSNPs.vcf.gz\", allow_multiallelic=false)\n",
    "\n",
    "    # import VCF data with only unique SNPs\n",
    "    _, vcf_sampleID, _, vcf_record_pos, _, _, _ = convert_gt(UInt8, \n",
    "        \"chr$chr.uniqueSNPs.vcf.gz\", save_snp_info=true, msg=\"importing\")\n",
    "    total_snps = length(vcf_record_pos)\n",
    "    samples = length(vcf_sampleID)\n",
    "\n",
    "    # generate target panel with all snps\n",
    "    n = 100\n",
    "    sample_idx = falses(samples)\n",
    "    sample_idx[1:n] .= true\n",
    "    shuffle!(sample_idx)\n",
    "    VCFTools.filter(\"chr$chr.uniqueSNPs.vcf.gz\", 1:total_snps, \n",
    "        sample_idx, des = \"target.chr$chr.full.vcf.gz\", allow_multiallelic=false)\n",
    "\n",
    "    # generate reference panel without target samples\n",
    "    VCFTools.filter(\"chr$chr.uniqueSNPs.vcf.gz\", 1:total_snps, \n",
    "        .!sample_idx, des = \"ref.chr$chr.excludeTarget.vcf.gz\", allow_multiallelic=false)\n",
    "\n",
    "    # generate target file with 100 samples whose snps are in the UK Biobank\n",
    "    bed = CSV.read(\"/home/biona001/omni_chips/InfiniumOmni5-4v1-2_A1.bed\", \n",
    "        skipto = 2, header=false, delim='\\t', DataFrame)\n",
    "    typed_snppos = bed[findall(x -> x == \"chr$chr\", bed[!, 1]), 3]\n",
    "    match_idx = indexin(vcf_record_pos, typed_snppos)\n",
    "    record_idx = falses(total_snps)\n",
    "    record_idx[findall(!isnothing, match_idx)] .= true\n",
    "    VCFTools.filter(\"chr$chr.uniqueSNPs.vcf.gz\", record_idx, sample_idx, \n",
    "        des = \"target.chr$chr.typedOnly.vcf.gz\", allow_multiallelic=false)\n",
    "\n",
    "    # unphase and mask 1% entries in target file\n",
    "    p = nrecords(\"target.chr$chr.typedOnly.vcf.gz\")\n",
    "    masks = falses(p, n)\n",
    "    missingprop = 0.001\n",
    "    for j in 1:n, i in 1:p\n",
    "        rand() < missingprop && (masks[i, j] = true)\n",
    "    end\n",
    "    mask_gt(\"target.chr$chr.typedOnly.vcf.gz\", masks, \n",
    "        des=\"target.chr$chr.typedOnly.masked.vcf.gz\", unphase=true)\n",
    "end \n",
    "Random.seed!(2020)\n",
    "@time filter_and_mask(20)"
   ]
  }
 ],
 "metadata": {
  "kernelspec": {
   "display_name": "Julia 1.5.0",
   "language": "julia",
   "name": "julia-1.5"
  },
  "language_info": {
   "file_extension": ".jl",
   "mimetype": "application/julia",
   "name": "julia",
   "version": "1.5.0"
  }
 },
 "nbformat": 4,
 "nbformat_minor": 2
}
