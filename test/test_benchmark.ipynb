{
 "cells": [
  {
   "cell_type": "markdown",
   "metadata": {},
   "source": [
    "# Test and Benchmark"
   ]
  },
  {
   "cell_type": "code",
   "execution_count": 1,
   "metadata": {
    "collapsed": false
   },
   "outputs": [
    {
     "name": "stdout",
     "output_type": "stream",
     "text": [
      "Julia Version 0.5.2\n",
      "Commit f4c6c9d4bb (2017-05-06 16:34 UTC)\n",
      "Platform Info:\n",
      "  OS: macOS (x86_64-apple-darwin13.4.0)\n",
      "  CPU: Intel(R) Core(TM) i7-6920HQ CPU @ 2.90GHz\n",
      "  WORD_SIZE: 64\n",
      "  BLAS: libopenblas (USE64BITINT DYNAMIC_ARCH NO_AFFINITY Haswell)\n",
      "  LAPACK: libopenblas64_\n",
      "  LIBM: libopenlibm\n",
      "  LLVM: libLLVM-3.7.1 (ORCJIT, broadwell)\n"
     ]
    }
   ],
   "source": [
    "versioninfo()"
   ]
  },
  {
   "cell_type": "markdown",
   "metadata": {},
   "source": [
    "## Haplotyping on complete genotype data"
   ]
  },
  {
   "cell_type": "code",
   "execution_count": 5,
   "metadata": {
    "collapsed": false
   },
   "outputs": [
    {
     "name": "stdout",
     "output_type": "stream",
     "text": [
      "  0.009789 seconds (5 allocations: 192 bytes)\n"
     ]
    }
   ],
   "source": [
    "using NullableArrays, BenchmarkTools, MendelImpute\n",
    "\n",
    "srand(123)\n",
    "n, p, d = 10000, 1000, 50\n",
    "H = rand(0:1, d, p)\n",
    "X = rand(0:2, n, p)\n",
    "#@code_warntype haplopair(X, H)\n",
    "M   = A_mul_Bt(H, H)\n",
    "for j in 1:d\n",
    "    for i in 1:(j - 1)\n",
    "        M[i, j] = 2M[i, j] + M[i, i] + M[j, j]\n",
    "    end\n",
    "end\n",
    "for j in 1:d\n",
    "    M[j, j] *= 4\n",
    "end\n",
    "N   = A_mul_Bt(X, H)\n",
    "N .*= 2\n",
    "happair  = zeros(Int, n, 2)\n",
    "hapscore = zeros(eltype(N), n)\n",
    "@time haplopair!(happair, hapscore, M, N);"
   ]
  },
  {
   "cell_type": "code",
   "execution_count": 6,
   "metadata": {
    "collapsed": false
   },
   "outputs": [
    {
     "data": {
      "text/plain": [
       "10000×2 Array{Int64,2}:\n",
       "  1  16\n",
       " 17  48\n",
       "  8  12\n",
       " 37  39\n",
       "  5  21\n",
       " 10  30\n",
       "  1  42\n",
       " 14  18\n",
       "  3  18\n",
       "  3  18\n",
       " 19  44\n",
       " 14  18\n",
       " 36  48\n",
       "  ⋮    \n",
       "  9  12\n",
       " 20  35\n",
       " 16  35\n",
       " 23  26\n",
       "  7  47\n",
       " 25  50\n",
       "  3  39\n",
       " 13  35\n",
       "  5  24\n",
       "  3  17\n",
       "  3  18\n",
       " 11  43"
      ]
     },
     "execution_count": 6,
     "metadata": {},
     "output_type": "execute_result"
    }
   ],
   "source": [
    "happair"
   ]
  },
  {
   "cell_type": "code",
   "execution_count": 7,
   "metadata": {
    "collapsed": false
   },
   "outputs": [
    {
     "data": {
      "text/plain": [
       "10000-element Array{Int64,1}:\n",
       " -611\n",
       " -622\n",
       " -629\n",
       " -666\n",
       " -569\n",
       " -613\n",
       " -640\n",
       " -669\n",
       " -550\n",
       " -690\n",
       " -665\n",
       " -595\n",
       " -621\n",
       "    ⋮\n",
       " -578\n",
       " -595\n",
       " -680\n",
       " -546\n",
       " -680\n",
       " -528\n",
       " -687\n",
       " -587\n",
       " -603\n",
       " -646\n",
       " -590\n",
       " -613"
      ]
     },
     "execution_count": 7,
     "metadata": {},
     "output_type": "execute_result"
    }
   ],
   "source": [
    "hapscore"
   ]
  },
  {
   "cell_type": "code",
   "execution_count": 8,
   "metadata": {
    "collapsed": false
   },
   "outputs": [
    {
     "data": {
      "text/plain": [
       "(\n",
       "[1 16; 17 48; … ; 3 18; 11 43],\n",
       "\n",
       "[1043,1056,1025,1020,1055,1059,1070,1043,1039,1029  …  1021,1087,1052,1067,1058,1033,1057,1024,1012,1046])"
      ]
     },
     "execution_count": 8,
     "metadata": {},
     "output_type": "execute_result"
    }
   ],
   "source": [
    "haplopair(X, H)"
   ]
  },
  {
   "cell_type": "code",
   "execution_count": 9,
   "metadata": {
    "collapsed": false
   },
   "outputs": [
    {
     "data": {
      "text/plain": [
       "BenchmarkTools.Trial: \n",
       "  memory estimate:  32 bytes\n",
       "  allocs estimate:  1\n",
       "  --------------\n",
       "  minimum time:     9.048 ms (0.00% GC)\n",
       "  median time:      9.300 ms (0.00% GC)\n",
       "  mean time:        9.479 ms (0.00% GC)\n",
       "  maximum time:     12.843 ms (0.00% GC)\n",
       "  --------------\n",
       "  samples:          527\n",
       "  evals/sample:     1"
      ]
     },
     "execution_count": 9,
     "metadata": {},
     "output_type": "execute_result"
    }
   ],
   "source": [
    "@benchmark haplopair!(happair, hapscore, M, N)"
   ]
  },
  {
   "cell_type": "code",
   "execution_count": 10,
   "metadata": {
    "collapsed": false
   },
   "outputs": [
    {
     "name": "stdout",
     "output_type": "stream",
     "text": [
      " Count File                        Line Function                               \n",
      "    11 ./<missing>                   -1 anonymous                              \n",
      "     1 ./abstractarray.jl           485 copy!(::Array{Any,1}, ::Core.Infere... \n",
      "     2 ./inference.jl              1101 abstract_call(::Any, ::Array{Any,1}... \n",
      "     1 ./inference.jl               770 abstract_call_gf_by_type(::Any, ::A... \n",
      "     1 ./inference.jl               893 abstract_call_gf_by_type(::Any, ::A... \n",
      "     3 ./inference.jl              1152 abstract_eval(::Any, ::Array{Any,1}... \n",
      "     1 ./inference.jl              1105 abstract_eval_call(::Expr, ::Array{... \n",
      "     2 ./inference.jl              1131 abstract_eval_call(::Expr, ::Array{... \n",
      "     1 ./inference.jl              1254 abstract_interpret(::Any, ::Array{A... \n",
      "     2 ./inference.jl              1597 typeinf_edge(::Method, ::Any, ::Sim... \n",
      "     1 ./inference.jl              1603 typeinf_edge(::Method, ::Any, ::Sim... \n",
      "     1 ./inference.jl              1621 typeinf_ext(::LambdaInfo)              \n",
      "     1 ./inference.jl              1731 typeinf_frame(::Core.Inference.Infe... \n",
      "     1 ./inference.jl              1786 typeinf_frame(::Core.Inference.Infe... \n",
      "     1 ./inference.jl              1660 typeinf_loop(::Core.Inference.Infer... \n",
      "     1 ./inference.jl              1677 typeinf_loop(::Core.Inference.Infer... \n",
      "    12 ./loading.jl                 441 include_string(::String, ::String)     \n",
      "    11 ./profile.jl                  16 macro expansion;                       \n",
      "     1 ./reflection.jl              223 _methods_by_ftype(::Any, ::Int64)      \n",
      "     1 ./simdloop.jl                 71 macro expansion                        \n",
      "    10 ./simdloop.jl                 73 macro expansion                        \n",
      "    12 ./task.jl                    360 (::IJulia.##13#19)()                   \n",
      "     1 ...lia/lib/julia/sys.dylib    -1 _methods_by_ftype(::Any, ::Int64)      \n",
      "     2 ...lia/lib/julia/sys.dylib    -1 abstract_call(::Any, ::Array{Any,1}... \n",
      "     2 ...lia/lib/julia/sys.dylib    -1 abstract_call_gf_by_type(::Any, ::A... \n",
      "     3 ...lia/lib/julia/sys.dylib    -1 abstract_eval(::Any, ::Array{Any,1}... \n",
      "     1 ...lia/lib/julia/sys.dylib    -1 abstract_interpret(::Any, ::Array{A... \n",
      "     1 ...lia/lib/julia/sys.dylib    -1 typeinf_edge(::Method, ::Any, ::Sim... \n",
      "     1 ...lia/lib/julia/sys.dylib    -1 typeinf_edge(::Method, ::Any, ::Sim... \n",
      "     1 ...lia/lib/julia/sys.dylib    -1 typeinf_loop(::Core.Inference.Infer... \n",
      "    12 ...IJulia/src/eventloop.jl     8 eventloop(::ZMQ.Socket)                \n",
      "    12 .../src/execute_request.jl   156 execute_request(::ZMQ.Socket, ::IJu... \n",
      "    11 ...pute/src/haplotyping.jl    32 haplopair!(::Array{Int64,2}, ::Arra... \n",
      "     5 ...pute/src/haplotyping.jl    33 macro expansion                        \n",
      "     1 ...pute/src/haplotyping.jl    34 macro expansion                        \n",
      "     1 ...pute/src/haplotyping.jl    36 macro expansion                        \n",
      "     3 ...pute/src/haplotyping.jl    37 macro expansion                        \n"
     ]
    }
   ],
   "source": [
    "fill!(happair, 0)\n",
    "fill!(hapscore, 0)\n",
    "\n",
    "Profile.clear()\n",
    "@profile haplopair!(happair, hapscore, M, N)\n",
    "Profile.print(format=:flat)"
   ]
  },
  {
   "cell_type": "markdown",
   "metadata": {},
   "source": [
    "## Haplotyping on incomplete genotype data\n",
    "\n"
   ]
  },
  {
   "cell_type": "code",
   "execution_count": 12,
   "metadata": {
    "collapsed": false
   },
   "outputs": [
    {
     "ename": "LoadError",
     "evalue": "UndefVarError: haploimpute! not defined",
     "output_type": "error",
     "traceback": [
      "UndefVarError: haploimpute! not defined",
      ""
     ]
    }
   ],
   "source": [
    "srand(123)\n",
    "n, p, d = 10000, 1000, 50\n",
    "H = rand(0:1, d, p)\n",
    "X = rand(0:2, n, p)\n",
    "M = zeros(eltype(H), d, d)\n",
    "N = zeros(eltype(X), n, d)\n",
    "happair  = zeros(Int, n, 2)\n",
    "hapscore = zeros(eltype(N), n)\n",
    "missingprop = 0.1\n",
    "Xm = NullableArray(X, BitArray(sprand(Bool, n, p, 0.1)))\n",
    "Xm.values[Xm.isnull] = 1\n",
    "@time haploimpute!(Xm, H, M, N, happair, hapscore)"
   ]
  },
  {
   "cell_type": "code",
   "execution_count": 8,
   "metadata": {
    "collapsed": false
   },
   "outputs": [],
   "source": [
    "#@benchmark haploimpute!(X, H, M, N, happair, hapscore, missingidx)"
   ]
  },
  {
   "cell_type": "code",
   "execution_count": 10,
   "metadata": {
    "collapsed": false
   },
   "outputs": [
    {
     "name": "stdout",
     "output_type": "stream",
     "text": [
      " Count File                        Line Function                               \n",
      "   374 ./<missing>                   -1 anonymous                              \n",
      "     1 ./abstractarray.jl           626 copy!(::Array{Int64,2}, ::UnitRange... \n",
      "     2 ./abstractarray.jl           648 copy_transpose!(::Array{Int64,2}, :... \n",
      "     1 ./abstractarray.jl           650 copy_transpose!(::Array{Int64,2}, :... \n",
      "    52 ./abstractarray.jl           651 copy_transpose!(::Array{Int64,2}, :... \n",
      "     1 ./arraymath.jl               111 .*(::Array{Int64,2}, ::Int64)          \n",
      "    39 ./linalg/matmul.jl           504 _generic_matmatmul!(::Array{Int64,2... \n",
      "    18 ./linalg/matmul.jl           505 _generic_matmatmul!(::Array{Int64,2... \n",
      "     2 ./linalg/matmul.jl           507 _generic_matmatmul!(::Array{Int64,2... \n",
      "    39 ./linalg/matmul.jl           511 _generic_matmatmul!(::Array{Int64,2... \n",
      "   199 ./linalg/matmul.jl           512 _generic_matmatmul!(::Array{Int64,2... \n",
      "    55 ./linalg/matmul.jl           514 _generic_matmatmul!(::Array{Int64,2... \n",
      "     6 ./linalg/matmul.jl           518 _generic_matmatmul!(::Array{Int64,2... \n",
      "    18 ./linalg/matmul.jl           345 copy!(::Array{Int64,2}, ::UnitRange... \n",
      "    39 ./linalg/matmul.jl           353 copy_transpose!(::Array{Int64,2}, :... \n",
      "   358 ./linalg/matmul.jl           447 generic_matmatmul!(::Array{Int64,2}... \n",
      "   374 ./loading.jl                 441 include_string(::String, ::String)     \n",
      "   374 ./profile.jl                  16 macro expansion;                       \n",
      "     2 ./simdloop.jl                 71 macro expansion                        \n",
      "    13 ./simdloop.jl                 73 macro expansion                        \n",
      "   374 ./task.jl                    360 (::IJulia.##13#19)()                   \n",
      "   374 ...IJulia/src/eventloop.jl     8 eventloop(::ZMQ.Socket)                \n",
      "   374 .../src/execute_request.jl   156 execute_request(::ZMQ.Socket, ::IJu... \n",
      "   374 ...pute/src/haplotyping.jl   164 haploimpute!(::Array{Int64,2}, ::Ar... \n",
      "   374 ...pute/src/haplotyping.jl   167 haploimpute!(::Array{Int64,2}, ::Ar... \n",
      "     8 ...pute/src/haplotyping.jl    24 haplopair!(::Array{Int64,2}, ::Arra... \n",
      "     2 ...pute/src/haplotyping.jl    95 haplopair!(::Array{Int64,2}, ::Arra... \n",
      "   356 ...pute/src/haplotyping.jl   104 haplopair!(::Array{Int64,2}, ::Arra... \n",
      "     1 ...pute/src/haplotyping.jl   105 haplopair!(::Array{Int64,2}, ::Arra... \n",
      "     8 ...pute/src/haplotyping.jl   106 haplopair!(::Array{Int64,2}, ::Arra... \n",
      "     7 ...pute/src/haplotyping.jl   108 haplopair!(::Array{Int64,2}, ::Arra... \n",
      "     4 ...pute/src/haplotyping.jl    25 macro expansion                        \n",
      "     2 ...pute/src/haplotyping.jl    26 macro expansion                        \n",
      "     1 ...pute/src/haplotyping.jl    27 macro expansion                        \n",
      "     6 ...pute/src/haplotyping.jl   109 macro expansion                        \n"
     ]
    }
   ],
   "source": [
    "Profile.clear()\n",
    "@profile haploimpute!(X, H, M, N, happair, hapscore, missingidx)\n",
    "Profile.print(format=:flat)"
   ]
  },
  {
   "cell_type": "markdown",
   "metadata": {
    "collapsed": true
   },
   "source": [
    "## `AFRped.txt` data\n",
    "\n"
   ]
  },
  {
   "cell_type": "code",
   "execution_count": 7,
   "metadata": {
    "collapsed": false
   },
   "outputs": [],
   "source": [
    "#;ls -al"
   ]
  },
  {
   "cell_type": "code",
   "execution_count": 8,
   "metadata": {
    "collapsed": false
   },
   "outputs": [],
   "source": [
    "## cut out the first 6 fields in the pedigree file\n",
    "#;cut -d ',' -f7- AFRped.txt > AFRped_geno.txt"
   ]
  },
  {
   "cell_type": "code",
   "execution_count": 9,
   "metadata": {
    "collapsed": false
   },
   "outputs": [],
   "source": [
    "#;ls -al"
   ]
  },
  {
   "cell_type": "code",
   "execution_count": 11,
   "metadata": {
    "collapsed": false
   },
   "outputs": [
    {
     "data": {
      "text/plain": [
       "1325×36499 Array{Float64,2}:\n",
       " 0.0  0.0  0.0  0.0  0.0  0.0  0.0  0.0  …  0.0  0.0  0.0  0.0  0.0  1.0  0.0\n",
       " 0.0  0.0  0.0  0.0  0.0  0.0  0.0  0.0     0.0  0.0  0.0  0.0  0.0  1.0  0.0\n",
       " 1.0  0.0  0.0  0.0  0.0  0.0  0.0  0.0     0.0  0.0  0.0  0.0  0.0  0.0  0.0\n",
       " 0.0  0.0  0.0  0.0  0.0  0.0  0.0  0.0     0.0  0.0  0.0  0.0  0.0  0.0  0.0\n",
       " 1.0  0.0  0.0  0.0  0.0  0.0  0.0  0.0     0.0  0.0  0.0  0.0  0.0  0.0  0.0\n",
       " 1.0  0.0  0.0  0.0  0.0  0.0  0.0  0.0  …  0.0  0.0  0.0  0.0  0.0  0.0  0.0\n",
       " 0.0  0.0  0.0  0.0  0.0  0.0  0.0  0.0     0.0  0.0  0.0  0.0  0.0  1.0  0.0\n",
       " 1.0  0.0  0.0  0.0  0.0  0.0  0.0  0.0     0.0  0.0  0.0  0.0  0.0  1.0  0.0\n",
       " 0.0  0.0  0.0  0.0  0.0  0.0  0.0  0.0     0.0  0.0  0.0  0.0  0.0  0.0  0.0\n",
       " 0.0  0.0  0.0  0.0  0.0  0.0  0.0  0.0     0.0  0.0  0.0  0.0  0.0  0.0  0.0\n",
       " 0.0  0.0  0.0  0.0  0.0  0.0  0.0  0.0  …  0.0  0.0  0.0  0.0  0.0  1.0  0.0\n",
       " 0.0  0.0  0.0  0.0  0.0  0.0  0.0  0.0     0.0  0.0  0.0  0.0  0.0  1.0  0.0\n",
       " 0.0  0.0  0.0  0.0  0.0  0.0  0.0  0.0     0.0  0.0  0.0  0.0  0.0  1.0  0.0\n",
       " ⋮                        ⋮              ⋱                 ⋮                 \n",
       " 0.0  0.0  0.0  0.0  0.0  0.0  0.0  0.0     0.0  0.0  0.0  0.0  0.0  0.0  0.0\n",
       " 0.0  0.0  0.0  0.0  0.0  0.0  0.0  0.0     0.0  0.0  0.0  0.0  0.0  0.0  0.0\n",
       " 0.0  0.0  0.0  0.0  0.0  0.0  0.0  0.0  …  0.0  0.0  0.0  0.0  0.0  0.0  0.0\n",
       " 0.0  0.0  0.0  0.0  0.0  0.0  0.0  0.0     0.0  0.0  0.0  0.0  0.0  0.0  0.0\n",
       " 0.0  0.0  0.0  0.0  0.0  0.0  0.0  0.0     0.0  0.0  0.0  0.0  0.0  0.0  0.0\n",
       " 0.0  0.0  0.0  0.0  0.0  0.0  0.0  0.0     0.0  0.0  0.0  0.0  0.0  0.0  0.0\n",
       " 0.0  0.0  0.0  0.0  0.0  0.0  0.0  0.0     0.0  0.0  0.0  0.0  0.0  0.0  0.0\n",
       " 0.0  0.0  0.0  0.0  0.0  0.0  0.0  0.0  …  0.0  0.0  0.0  0.0  0.0  0.0  0.0\n",
       " 0.0  0.0  0.0  0.0  0.0  0.0  0.0  0.0     0.0  0.0  0.0  0.0  0.0  0.0  0.0\n",
       " 0.0  0.0  0.0  0.0  0.0  0.0  0.0  0.0     0.0  0.0  0.0  0.0  0.0  0.0  0.0\n",
       " 0.0  0.0  0.0  0.0  0.0  0.0  0.0  0.0     0.0  0.0  0.0  0.0  0.0  0.0  0.0\n",
       " 0.0  0.0  0.0  0.0  0.0  0.0  0.0  0.0     0.0  0.0  0.0  0.0  0.0  0.0  0.0"
      ]
     },
     "execution_count": 11,
     "metadata": {},
     "output_type": "execute_result"
    }
   ],
   "source": [
    "rawdata = readcsv(\"AFRped_geno.txt\", Float64)"
   ]
  },
  {
   "cell_type": "code",
   "execution_count": 12,
   "metadata": {
    "collapsed": false
   },
   "outputs": [
    {
     "data": {
      "text/plain": [
       "664×36498 Array{Float64,2}:\n",
       " 0.0  0.0  0.0  0.0  0.0  0.0  0.0  0.0  …  0.0  0.0  0.0  0.0  0.0  0.0  1.0\n",
       " 0.0  0.0  0.0  0.0  0.0  0.0  0.0  0.0     0.0  0.0  0.0  0.0  0.0  0.0  1.0\n",
       " 1.0  0.0  0.0  0.0  0.0  0.0  0.0  0.0     0.0  0.0  0.0  0.0  0.0  0.0  0.0\n",
       " 0.0  0.0  0.0  0.0  0.0  0.0  0.0  0.0     0.0  0.0  0.0  0.0  0.0  0.0  0.0\n",
       " 1.0  0.0  0.0  0.0  0.0  0.0  0.0  0.0     0.0  0.0  0.0  0.0  0.0  0.0  0.0\n",
       " 1.0  0.0  0.0  0.0  0.0  0.0  0.0  0.0  …  0.0  0.0  0.0  0.0  0.0  0.0  0.0\n",
       " 0.0  0.0  0.0  0.0  0.0  0.0  0.0  0.0     0.0  0.0  0.0  0.0  0.0  0.0  1.0\n",
       " 1.0  0.0  0.0  0.0  0.0  0.0  0.0  0.0     0.0  0.0  0.0  0.0  0.0  0.0  1.0\n",
       " 0.0  0.0  0.0  0.0  0.0  0.0  0.0  0.0     0.0  0.0  0.0  0.0  0.0  0.0  0.0\n",
       " 0.0  0.0  0.0  0.0  0.0  0.0  0.0  0.0     0.0  0.0  0.0  0.0  0.0  0.0  0.0\n",
       " 0.0  0.0  0.0  0.0  0.0  0.0  0.0  0.0  …  0.0  0.0  0.0  0.0  0.0  0.0  1.0\n",
       " 0.0  0.0  0.0  0.0  0.0  0.0  0.0  0.0     0.0  0.0  0.0  0.0  0.0  0.0  1.0\n",
       " 0.0  0.0  0.0  0.0  0.0  0.0  0.0  0.0     0.0  0.0  0.0  0.0  0.0  0.0  1.0\n",
       " ⋮                        ⋮              ⋱                      ⋮            \n",
       " 0.0  0.0  0.0  0.0  0.0  0.0  0.0  0.0     0.0  0.0  0.0  0.0  0.0  0.0  0.0\n",
       " 0.0  0.0  0.0  0.0  0.0  0.0  0.0  0.0     0.0  0.0  0.0  0.0  0.0  0.0  0.0\n",
       " 0.0  0.0  0.0  0.0  0.0  0.0  0.0  0.0     0.0  0.0  0.0  0.0  0.0  0.0  0.0\n",
       " 0.0  0.0  0.0  0.0  0.0  0.0  0.0  0.0  …  0.0  0.0  0.0  0.0  0.0  0.0  1.0\n",
       " 0.0  0.0  0.0  0.0  0.0  0.0  0.0  0.0     0.0  0.0  0.0  0.0  0.0  0.0  1.0\n",
       " 0.0  0.0  0.0  0.0  0.0  0.0  0.0  0.0     0.0  0.0  0.0  0.0  0.0  0.0  1.0\n",
       " 0.0  0.0  0.0  0.0  0.0  0.0  0.0  0.0     0.0  0.0  0.0  0.0  0.0  0.0  0.0\n",
       " 0.0  0.0  0.0  0.0  0.0  0.0  0.0  0.0     0.0  0.0  0.0  0.0  0.0  0.0  0.0\n",
       " 0.0  0.0  0.0  0.0  0.0  0.0  0.0  0.0  …  0.0  0.0  0.0  0.0  0.0  0.0  1.0\n",
       " 0.0  0.0  0.0  0.0  0.0  0.0  0.0  0.0     0.0  0.0  0.0  0.0  0.0  0.0  0.0\n",
       " 0.0  0.0  0.0  0.0  0.0  0.0  0.0  0.0     0.0  0.0  0.0  0.0  0.0  0.0  1.0\n",
       " 0.0  0.0  0.0  0.0  0.0  0.0  0.0  0.0     0.0  0.0  0.0  0.0  0.0  0.0  0.0"
      ]
     },
     "execution_count": 12,
     "metadata": {},
     "output_type": "execute_result"
    }
   ],
   "source": [
    "people = 664\n",
    "X = rawdata[1:people, 1:(end - 1)]"
   ]
  },
  {
   "cell_type": "code",
   "execution_count": 13,
   "metadata": {
    "collapsed": false
   },
   "outputs": [
    {
     "data": {
      "text/plain": [
       "661×36498 Array{Float64,2}:\n",
       " 0.0  0.0  0.0  0.0  0.0  0.0  0.0  0.0  …  0.0  0.0  0.0  0.0  0.0  0.0  0.0\n",
       " 0.0  0.0  0.0  0.0  0.0  0.0  0.0  0.0     0.0  0.0  0.0  0.0  0.0  0.0  1.0\n",
       " 0.0  0.0  0.0  0.0  0.0  0.0  0.0  0.0     0.0  0.0  0.0  0.0  0.0  0.0  0.0\n",
       " 0.0  0.0  0.0  0.0  0.0  0.0  0.0  0.0     0.0  0.0  0.0  0.0  0.0  0.0  1.0\n",
       " 0.0  0.0  0.0  0.0  0.0  0.0  0.0  0.0     0.0  0.0  0.0  0.0  0.0  0.0  0.0\n",
       " 0.0  0.0  0.0  0.0  0.0  0.0  0.0  0.0  …  0.0  0.0  0.0  0.0  0.0  0.0  0.0\n",
       " 0.0  0.0  0.0  0.0  0.0  0.0  0.0  0.0     0.0  0.0  0.0  0.0  0.0  0.0  1.0\n",
       " 0.0  0.0  0.0  0.0  0.0  0.0  0.0  0.0     0.0  0.0  0.0  0.0  0.0  0.0  0.0\n",
       " 0.0  0.0  0.0  0.0  0.0  0.0  0.0  0.0     0.0  0.0  0.0  0.0  0.0  0.0  1.0\n",
       " 0.0  0.0  0.0  0.0  0.0  0.0  0.0  0.0     0.0  0.0  0.0  0.0  0.0  0.0  0.0\n",
       " 0.0  0.0  0.0  0.0  0.0  0.0  0.0  0.0  …  0.0  0.0  0.0  0.0  0.0  0.0  1.0\n",
       " 0.0  0.0  0.0  0.0  0.0  0.0  0.0  0.0     0.0  0.0  0.0  0.0  0.0  0.0  1.0\n",
       " 0.0  0.0  0.0  0.0  0.0  0.0  0.0  0.0     0.0  0.0  0.0  0.0  0.0  0.0  1.0\n",
       " ⋮                        ⋮              ⋱                      ⋮            \n",
       " 0.0  0.0  0.0  0.0  0.0  0.0  0.0  0.0     0.0  0.0  0.0  0.0  0.0  0.0  0.0\n",
       " 0.0  0.0  0.0  0.0  0.0  0.0  0.0  0.0  …  0.0  0.0  0.0  0.0  0.0  0.0  0.0\n",
       " 0.0  0.0  0.0  0.0  0.0  0.0  0.0  0.0     0.0  0.0  0.0  0.0  0.0  0.0  0.0\n",
       " 0.0  0.0  0.0  0.0  0.0  0.0  0.0  0.0     0.0  0.0  0.0  0.0  0.0  0.0  0.0\n",
       " 0.0  0.0  0.0  0.0  0.0  0.0  0.0  0.0     0.0  0.0  0.0  0.0  0.0  0.0  0.0\n",
       " 0.0  0.0  0.0  0.0  0.0  0.0  0.0  0.0     0.0  0.0  0.0  0.0  0.0  0.0  0.0\n",
       " 0.0  0.0  0.0  0.0  0.0  0.0  0.0  0.0  …  0.0  0.0  0.0  0.0  0.0  0.0  0.0\n",
       " 0.0  0.0  0.0  0.0  0.0  0.0  0.0  0.0     0.0  0.0  0.0  0.0  0.0  0.0  0.0\n",
       " 0.0  0.0  0.0  0.0  0.0  0.0  0.0  0.0     0.0  0.0  0.0  0.0  0.0  0.0  0.0\n",
       " 0.0  0.0  0.0  0.0  0.0  0.0  0.0  0.0     0.0  0.0  0.0  0.0  0.0  0.0  0.0\n",
       " 0.0  0.0  0.0  0.0  0.0  0.0  0.0  0.0     0.0  0.0  0.0  0.0  0.0  0.0  0.0\n",
       " 0.0  0.0  0.0  0.0  0.0  0.0  0.0  0.0  …  0.0  0.0  0.0  0.0  0.0  0.0  0.0"
      ]
     },
     "execution_count": 13,
     "metadata": {},
     "output_type": "execute_result"
    }
   ],
   "source": [
    "if eltype(rawdata) <: Integer\n",
    "    H = rawdata[(people + 1):end, 1:(end - 1)] .>> 1\n",
    "else\n",
    "    H = rawdata[(people + 1):end, 1:(end - 1)] / 2\n",
    "end"
   ]
  },
  {
   "cell_type": "code",
   "execution_count": 14,
   "metadata": {
    "collapsed": false
   },
   "outputs": [
    {
     "data": {
      "text/plain": [
       "0-element Array{Any,1}"
      ]
     },
     "execution_count": 14,
     "metadata": {},
     "output_type": "execute_result"
    }
   ],
   "source": [
    "# clean up rawdata\n",
    "rawdata = []"
   ]
  },
  {
   "cell_type": "code",
   "execution_count": 31,
   "metadata": {
    "collapsed": false
   },
   "outputs": [
    {
     "data": {
      "text/plain": [
       "664×1200 Array{Float64,2}:\n",
       " 0.0  0.0  0.0  0.0  0.0  0.0  0.0  0.0  …  2.0  2.0  0.0  0.0  0.0  0.0  0.0\n",
       " 0.0  0.0  0.0  0.0  0.0  0.0  0.0  0.0     2.0  2.0  0.0  0.0  0.0  1.0  0.0\n",
       " 1.0  0.0  0.0  0.0  0.0  0.0  0.0  0.0     1.0  1.0  0.0  0.0  0.0  0.0  0.0\n",
       " 0.0  0.0  0.0  0.0  0.0  0.0  0.0  0.0     2.0  2.0  0.0  0.0  0.0  0.0  0.0\n",
       " 1.0  0.0  0.0  0.0  0.0  0.0  0.0  0.0     1.0  1.0  0.0  0.0  0.0  1.0  0.0\n",
       " 1.0  0.0  0.0  0.0  0.0  0.0  0.0  0.0  …  1.0  1.0  0.0  0.0  0.0  0.0  0.0\n",
       " 0.0  0.0  0.0  0.0  0.0  0.0  0.0  0.0     2.0  2.0  0.0  0.0  0.0  0.0  0.0\n",
       " 1.0  0.0  0.0  0.0  0.0  0.0  0.0  0.0     1.0  1.0  0.0  0.0  0.0  0.0  0.0\n",
       " 0.0  0.0  0.0  0.0  0.0  0.0  0.0  0.0     0.0  0.0  0.0  0.0  0.0  0.0  0.0\n",
       " 0.0  0.0  0.0  0.0  0.0  0.0  0.0  0.0     0.0  0.0  0.0  0.0  0.0  1.0  0.0\n",
       " 0.0  0.0  0.0  0.0  0.0  0.0  0.0  0.0  …  1.0  1.0  0.0  0.0  0.0  0.0  0.0\n",
       " 0.0  0.0  0.0  0.0  0.0  0.0  0.0  0.0     0.0  0.0  0.0  0.0  0.0  0.0  0.0\n",
       " 0.0  0.0  0.0  0.0  0.0  0.0  0.0  0.0     0.0  0.0  0.0  0.0  0.0  0.0  0.0\n",
       " ⋮                        ⋮              ⋱            ⋮                      \n",
       " 0.0  0.0  0.0  0.0  0.0  0.0  0.0  0.0     2.0  2.0  0.0  0.0  0.0  1.0  0.0\n",
       " 0.0  0.0  0.0  0.0  0.0  0.0  0.0  0.0     0.0  1.0  0.0  0.0  0.0  1.0  0.0\n",
       " 0.0  0.0  0.0  0.0  0.0  0.0  0.0  0.0     1.0  1.0  0.0  0.0  0.0  0.0  0.0\n",
       " 0.0  0.0  0.0  0.0  0.0  0.0  0.0  0.0  …  1.0  0.0  0.0  0.0  0.0  1.0  0.0\n",
       " 0.0  0.0  0.0  0.0  0.0  0.0  0.0  0.0     1.0  1.0  0.0  0.0  0.0  0.0  0.0\n",
       " 0.0  0.0  0.0  0.0  0.0  0.0  0.0  0.0     0.0  0.0  0.0  0.0  0.0  0.0  0.0\n",
       " 0.0  0.0  0.0  0.0  0.0  0.0  0.0  0.0     0.0  0.0  0.0  0.0  0.0  0.0  0.0\n",
       " 0.0  0.0  0.0  0.0  0.0  0.0  0.0  0.0     0.0  0.0  0.0  0.0  0.0  0.0  0.0\n",
       " 0.0  0.0  0.0  0.0  0.0  0.0  0.0  0.0  …  0.0  0.0  0.0  0.0  0.0  0.0  0.0\n",
       " 0.0  0.0  0.0  0.0  0.0  0.0  0.0  0.0     1.0  1.0  0.0  0.0  0.0  0.0  0.0\n",
       " 0.0  0.0  0.0  0.0  0.0  0.0  0.0  0.0     1.0  1.0  0.0  0.0  0.0  0.0  0.0\n",
       " 0.0  0.0  0.0  0.0  0.0  0.0  0.0  0.0     2.0  2.0  0.0  0.0  0.0  0.0  0.0"
      ]
     },
     "execution_count": 31,
     "metadata": {},
     "output_type": "execute_result"
    }
   ],
   "source": [
    "using BenchmarkTools, MendelImpute, SnpArrays\n",
    "\n",
    "X1 = X[:, 1:1200]\n",
    "H1 = H[:, 1:1200]\n",
    "missingprop = 0.1\n",
    "missingind = sort(randperm(length(X1))[1:round(Int, length(X1) * missingprop)], rev = false)\n",
    "missingidx = ind2sub(X1, missingind)\n",
    "missing_true = X1[missingind]\n",
    "X1[missingind] = NaN\n",
    "S = SnpArray(X1)\n",
    "copy!(X1, S; impute = true) # initilize missing genotypes"
   ]
  },
  {
   "cell_type": "code",
   "execution_count": 33,
   "metadata": {
    "collapsed": false
   },
   "outputs": [
    {
     "name": "stdout",
     "output_type": "stream",
     "text": [
      "  0.201472 seconds (8 allocations: 3.349 MB)\n"
     ]
    },
    {
     "data": {
      "text/plain": [
       "0.049711345381526106"
      ]
     },
     "execution_count": 33,
     "metadata": {},
     "output_type": "execute_result"
    }
   ],
   "source": [
    "n, d = size(X1, 1), size(H1, 1)\n",
    "M = zeros(eltype(H), d, d)\n",
    "N = zeros(eltype(X), n, d)\n",
    "happair  = zeros(Int, n, 2)\n",
    "hapscore = zeros(eltype(N), n)\n",
    "@time haploimpute!(X1, H1, M, N, happair, hapscore, missingidx)\n",
    "missing_impute = X1[missingind]\n",
    "error = countnz(missing_true .≠ missing_impute) / length(missing_true)"
   ]
  },
  {
   "cell_type": "code",
   "execution_count": 30,
   "metadata": {
    "collapsed": false
   },
   "outputs": [
    {
     "data": {
      "text/plain": [
       "53120×2 Array{Float64,2}:\n",
       " 0.0  0.0\n",
       " 0.0  0.0\n",
       " 0.0  0.0\n",
       " 0.0  0.0\n",
       " 0.0  0.0\n",
       " 0.0  0.0\n",
       " 0.0  0.0\n",
       " 0.0  0.0\n",
       " 0.0  0.0\n",
       " 0.0  0.0\n",
       " 0.0  0.0\n",
       " 0.0  0.0\n",
       " 0.0  0.0\n",
       " ⋮       \n",
       " 0.0  0.0\n",
       " 0.0  0.0\n",
       " 0.0  0.0\n",
       " 0.0  0.0\n",
       " 0.0  0.0\n",
       " 0.0  0.0\n",
       " 0.0  0.0\n",
       " 0.0  0.0\n",
       " 0.0  0.0\n",
       " 0.0  0.0\n",
       " 0.0  0.0\n",
       " 0.0  0.0"
      ]
     },
     "execution_count": 30,
     "metadata": {},
     "output_type": "execute_result"
    }
   ],
   "source": [
    "[missing_true missing_impute]"
   ]
  },
  {
   "cell_type": "code",
   "execution_count": 20,
   "metadata": {
    "collapsed": false
   },
   "outputs": [
    {
     "data": {
      "text/plain": [
       "BenchmarkTools.Trial: \n",
       "  memory estimate:  3.35 MiB\n",
       "  allocs estimate:  4\n",
       "  --------------\n",
       "  minimum time:     157.677 ms (0.00% GC)\n",
       "  median time:      177.018 ms (0.00% GC)\n",
       "  mean time:        175.881 ms (0.12% GC)\n",
       "  maximum time:     189.820 ms (0.00% GC)\n",
       "  --------------\n",
       "  samples:          29\n",
       "  evals/sample:     1"
      ]
     },
     "execution_count": 20,
     "metadata": {},
     "output_type": "execute_result"
    }
   ],
   "source": [
    "@benchmark haploimpute!(X1, H1, M, N, happair, hapscore, missingidx)"
   ]
  },
  {
   "cell_type": "code",
   "execution_count": null,
   "metadata": {
    "collapsed": true
   },
   "outputs": [],
   "source": []
  }
 ],
 "metadata": {
  "kernelspec": {
   "display_name": "Julia 0.5.2",
   "language": "julia",
   "name": "julia-0.5"
  },
  "language_info": {
   "file_extension": ".jl",
   "mimetype": "application/julia",
   "name": "julia",
   "version": "0.5.2"
  },
  "toc": {
   "colors": {
    "hover_highlight": "#DAA520",
    "running_highlight": "#FF0000",
    "selected_highlight": "#FFD700"
   },
   "moveMenuLeft": true,
   "nav_menu": {
    "height": "65px",
    "width": "252px"
   },
   "navigate_menu": true,
   "number_sections": true,
   "sideBar": true,
   "threshold": 4,
   "toc_cell": false,
   "toc_section_display": "block",
   "toc_window_display": false,
   "widenNotebook": false
  }
 },
 "nbformat": 4,
 "nbformat_minor": 2
}
