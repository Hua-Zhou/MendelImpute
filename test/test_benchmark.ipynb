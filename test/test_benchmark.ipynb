{
 "cells": [
  {
   "cell_type": "markdown",
   "metadata": {},
   "source": [
    "# Test and Benchmark"
   ]
  },
  {
   "cell_type": "code",
   "execution_count": 2,
   "metadata": {
    "collapsed": false
   },
   "outputs": [],
   "source": [
    "using Revise\n",
    "using VCFTools\n",
    "using LinearAlgebra\n",
    "using MendelImpute\n",
    "using GeneticVariation\n",
    "using Random\n",
    "using StatsBase\n",
    "using CodecZlib\n",
    "using ProgressMeter\n",
    "using JLD2, FileIO, JLSO\n",
    "using BenchmarkTools\n",
    "using GroupSlices"
   ]
  },
  {
   "cell_type": "markdown",
   "metadata": {},
   "source": [
    "## Haplotyping timing varying number of haplotypes"
   ]
  },
  {
   "cell_type": "code",
   "execution_count": 15,
   "metadata": {
    "collapsed": false
   },
   "outputs": [
    {
     "name": "stdout",
     "output_type": "stream",
     "text": [
      "n = 100, p = 100, d = 100 time = 0.000456208\n",
      "n = 100, p = 100, d = 1000 time = 0.038313572\n",
      "n = 100, p = 100, d = 10000 time = 3.35376975\n",
      "n = 100, p = 1000, d = 100 time = 0.0003795\n",
      "n = 100, p = 1000, d = 1000 time = 0.038590982\n",
      "n = 100, p = 1000, d = 10000 time = 3.374475433\n",
      "n = 100, p = 10000, d = 100 time = 0.000484978\n",
      "n = 100, p = 10000, d = 1000 time = 0.03808498\n",
      "n = 100, p = 10000, d = 10000 time = 3.397484089\n",
      "n = 1000, p = 100, d = 100 time = 0.004034878\n",
      "n = 1000, p = 100, d = 1000 time = 0.3387065\n",
      "n = 1000, p = 100, d = 10000 time = 34.682602842\n",
      "n = 1000, p = 1000, d = 100 time = 0.004231036\n",
      "n = 1000, p = 1000, d = 1000 time = 0.375277053\n",
      "n = 1000, p = 1000, d = 10000 time = 36.049891365\n",
      "n = 1000, p = 10000, d = 100 time = 0.003922379\n",
      "n = 1000, p = 10000, d = 1000 time = 0.403318508\n",
      "n = 1000, p = 10000, d = 10000 time = 35.155680319\n",
      "n = 10000, p = 100, d = 100 time = 0.040836424\n",
      "n = 10000, p = 100, d = 1000 time = 3.727595042\n",
      "n = 10000, p = 100, d = 10000 time = 355.668273795\n",
      "n = 10000, p = 1000, d = 100 time = 0.040800191\n",
      "n = 10000, p = 1000, d = 1000 time = 3.720770783\n",
      "n = 10000, p = 1000, d = 10000 time = 374.95481144\n",
      "n = 10000, p = 10000, d = 100 time = 0.042323945\n",
      "n = 10000, p = 10000, d = 1000 time = 3.484835278\n",
      "n = 10000, p = 10000, d = 10000 time = 358.478209292\n"
     ]
    }
   ],
   "source": [
    "Random.seed!(123)\n",
    "ns = [100, 1000, 10000] # number of individuals\n",
    "ps = [100, 1000, 10000]    # number of typed SNPs\n",
    "ds = [100, 1000, 10000]  # number of reference haplotypes\n",
    "for n in ns, p in ps, d in ds\n",
    "    H = convert(Matrix{Float32}, rand(0:1, p, d))\n",
    "    X = convert(Matrix{Float32}, rand(0:2, p, n))\n",
    "    M = Transpose(H) * H\n",
    "    for j in 1:d, i in 1:(j - 1) # off-diagonal\n",
    "        M[i, j] = 2M[i, j] + M[i, i] + M[j, j]\n",
    "    end\n",
    "    for j in 1:d # diagonal\n",
    "        M[j, j] *= 4\n",
    "    end\n",
    "    N = Transpose(X) * H\n",
    "    for I in eachindex(N)\n",
    "        N[I] *= 2\n",
    "    end\n",
    "    happair  = zeros(Int, n), zeros(Int, n)\n",
    "    hapscore = zeros(eltype(N), n)\n",
    "    t = @elapsed haplopair!(happair, hapscore, M, N)\n",
    "    println(\"n = $n, p = $p, d = $d time = $t\")\n",
    "end"
   ]
  },
  {
   "cell_type": "markdown",
   "metadata": {},
   "source": [
    "# Try another way to compute optimal haplotypes"
   ]
  },
  {
   "cell_type": "code",
   "execution_count": null,
   "metadata": {
    "collapsed": true
   },
   "outputs": [],
   "source": [
    "Random.seed!(123)\n",
    "ns = [100, 1000]         # number of individuals\n",
    "ps = 100                 # number of typed SNPs\n",
    "ds = [100, 1000, 10000]  # number of reference haplotypes\n",
    "for n in ns, d in ds\n",
    "    H = convert(Matrix{Float32}, rand(0:1, p, d))\n",
    "    X = convert(Matrix{Float32}, rand(0:2, p, n))\n",
    "    M = Transpose(H) * H\n",
    "    for j in 1:d, i in 1:(j - 1) # off-diagonal\n",
    "        M[i, j] = 2M[i, j] + M[i, i] + M[j, j]\n",
    "    end\n",
    "    for j in 1:d # diagonal\n",
    "        M[j, j] *= 4\n",
    "    end\n",
    "    N = Transpose(X) * H\n",
    "    for I in eachindex(N)\n",
    "        N[I] *= 2\n",
    "    end\n",
    "    happair  = zeros(Int, n), zeros(Int, n)\n",
    "    hapscore = zeros(eltype(N), n)\n",
    "    t1 = @elapsed haplopair!(happair, hapscore, M, N)\n",
    "    t2 = @elapsed haplopair2!(happair, hapscore, M, N)\n",
    "    println(\"n = $n, p = $p, d = $d time = $t\")\n",
    "end"
   ]
  },
  {
   "cell_type": "code",
   "execution_count": 13,
   "metadata": {
    "collapsed": false
   },
   "outputs": [
    {
     "data": {
      "text/plain": [
       "haplopair2! (generic function with 1 method)"
      ]
     },
     "execution_count": 13,
     "metadata": {},
     "output_type": "execute_result"
    }
   ],
   "source": [
    "# note for future self: the UpperTriangular matrix seems to be allocating. Getting rid of it\n",
    "# probably makes the resulting code the same as haplopair!\n",
    "function haplopair2!(\n",
    "    happairs::Tuple{AbstractVector, AbstractVector},\n",
    "    hapmin::Vector{T},\n",
    "    M::AbstractMatrix{T}, #upper triangular matrix\n",
    "    N::AbstractMatrix{T},\n",
    "    ons::AbstractVector{T},\n",
    "    Nk::AbstractVector{T},\n",
    "    storage::AbstractMatrix{T}\n",
    "    ) where T <: Real\n",
    "\n",
    "    n, d = size(N)\n",
    "    fill!(hapmin, typemax(T))\n",
    "\n",
    "    # for each individual k find minimum of M_ij - n_ki - n_kj\n",
    "    for k in 1:n\n",
    "        copyto!(Nk, @view(N[k, :]))\n",
    "        storage .= M .- UpperTriangular(Nk .* ons') .- UpperTriangular(ons .* Nk')\n",
    "        hapmin[k], index = findmin(storage)\n",
    "        happairs[1][k], happairs[2][k] = index[1], index[2]\n",
    "    end\n",
    "\n",
    "    return nothing\n",
    "end"
   ]
  },
  {
   "cell_type": "code",
   "execution_count": 9,
   "metadata": {
    "collapsed": false
   },
   "outputs": [],
   "source": [
    "using Random, LinearAlgebra, MendelImpute"
   ]
  },
  {
   "cell_type": "code",
   "execution_count": 14,
   "metadata": {
    "collapsed": false
   },
   "outputs": [
    {
     "name": "stdout",
     "output_type": "stream",
     "text": [
      "  0.143195 seconds (4 allocations: 160 bytes)\n",
      "  3.116689 seconds (1.29 M allocations: 3.040 GiB, 9.63% gc time)\n"
     ]
    }
   ],
   "source": [
    "Random.seed!(123)\n",
    "# ns = [100, 1000]         # number of individuals\n",
    "# ps = 100                 # number of typed SNPs\n",
    "# ds = [100, 1000, 10000]  # number of reference haplotypes\n",
    "\n",
    "n = p = 100\n",
    "d = 2000\n",
    "\n",
    "H = convert(Matrix{Float32}, rand(0:1, p, d))\n",
    "X = convert(Matrix{Float32}, rand(0:2, p, n))\n",
    "M = Transpose(H) * H\n",
    "for j in 1:d, i in 1:(j - 1) # off-diagonal\n",
    "    M[i, j] = 2M[i, j] + M[i, i] + M[j, j]\n",
    "end\n",
    "for j in 1:d # diagonal\n",
    "    M[j, j] *= 4\n",
    "end\n",
    "N = Transpose(X) * H\n",
    "for I in eachindex(N)\n",
    "    N[I] *= 2\n",
    "end\n",
    "happair1 = zeros(Int, n), zeros(Int, n)\n",
    "happair2 = zeros(Int, n), zeros(Int, n)\n",
    "hapscore1 = zeros(eltype(N), n)\n",
    "hapscore2 = zeros(eltype(N), n)\n",
    "\n",
    "ons = ones(Float32, d)\n",
    "Nk = zeros(Float32, d)\n",
    "storage = zeros(Float32, d, d)\n",
    "\n",
    "@time haplopair!(happair1, hapscore1, M, N)\n",
    "@time haplopair2!(happair2, hapscore2, M, N, ons, Nk, storage)"
   ]
  },
  {
   "cell_type": "code",
   "execution_count": 15,
   "metadata": {
    "collapsed": false
   },
   "outputs": [
    {
     "data": {
      "text/plain": [
       "([534, 84, 490, 386, 99, 1602, 1221, 29, 681, 143  …  1129, 403, 155, 903, 136, 18, 470, 255, 267, 598], [1272, 459, 1285, 1004, 1390, 1738, 1551, 550, 1466, 755  …  1130, 930, 1786, 965, 1357, 1801, 1252, 1228, 1440, 1005])"
      ]
     },
     "execution_count": 15,
     "metadata": {},
     "output_type": "execute_result"
    }
   ],
   "source": [
    "happair1"
   ]
  },
  {
   "cell_type": "code",
   "execution_count": 16,
   "metadata": {
    "collapsed": false
   },
   "outputs": [
    {
     "data": {
      "text/plain": [
       "([534, 84, 490, 386, 99, 1602, 1221, 29, 681, 143  …  1129, 403, 155, 903, 136, 18, 470, 255, 267, 598], [1272, 459, 1285, 1004, 1390, 1738, 1551, 550, 1466, 755  …  1130, 930, 1786, 965, 1357, 1801, 1252, 1228, 1440, 1005])"
      ]
     },
     "execution_count": 16,
     "metadata": {},
     "output_type": "execute_result"
    }
   ],
   "source": [
    "happair2"
   ]
  },
  {
   "cell_type": "markdown",
   "metadata": {},
   "source": [
    "# Try using Distance package"
   ]
  },
  {
   "cell_type": "code",
   "execution_count": 16,
   "metadata": {
    "collapsed": false
   },
   "outputs": [],
   "source": [
    "Random.seed!(123)\n",
    "\n",
    "n = 100\n",
    "p = 100\n",
    "d = 1000\n",
    "\n",
    "M = rand(Float32, d, d)\n",
    "N = rand(Float32, n, d)\n",
    "H = convert(Matrix{Float32}, rand(0:1, p, d))\n",
    "X = convert(Matrix{Float32}, rand(0:2, p, n))\n",
    "happair1 = zeros(Int, n)\n",
    "happair2 = zeros(Int, n)\n",
    "hapscore = zeros(Float32, n);"
   ]
  },
  {
   "cell_type": "code",
   "execution_count": null,
   "metadata": {
    "collapsed": true
   },
   "outputs": [],
   "source": []
  },
  {
   "cell_type": "code",
   "execution_count": null,
   "metadata": {
    "collapsed": true
   },
   "outputs": [],
   "source": []
  },
  {
   "cell_type": "markdown",
   "metadata": {
    "collapsed": true
   },
   "source": [
    "# Benchmark original code"
   ]
  },
  {
   "cell_type": "code",
   "execution_count": 14,
   "metadata": {
    "collapsed": false
   },
   "outputs": [
    {
     "name": "stdout",
     "output_type": "stream",
     "text": [
      "  29.677 ms (0 allocations: 0 bytes)\n"
     ]
    }
   ],
   "source": [
    "Random.seed!(123)\n",
    "\n",
    "n = 100\n",
    "p = 100\n",
    "d = 1000\n",
    "\n",
    "M = rand(Float32, d, d)\n",
    "N = rand(Float32, n, d)\n",
    "H = convert(Matrix{Float32}, rand(0:1, p, d))\n",
    "X = convert(Matrix{Float32}, rand(0:2, p, n))\n",
    "happair1 = zeros(Int, n)\n",
    "happair2 = zeros(Int, n)\n",
    "hapscore = zeros(Float32, n)\n",
    "\n",
    "@btime haplopair!(happair1, happair2, hapscore, M, N) setup=(M=rand(Float32, d, d), N=rand(Float32, n, d))"
   ]
  },
  {
   "cell_type": "code",
   "execution_count": 12,
   "metadata": {
    "collapsed": false
   },
   "outputs": [
    {
     "name": "stdout",
     "output_type": "stream",
     "text": [
      "  35.057 ms (0 allocations: 0 bytes)\n"
     ]
    }
   ],
   "source": [
    "Random.seed!(123)\n",
    "\n",
    "n = 100\n",
    "p = 100\n",
    "d = 1000\n",
    "\n",
    "M = rand(Float32, d, d)\n",
    "N = rand(Float32, n, d)\n",
    "H = convert(Matrix{Float32}, rand(0:1, p, d))\n",
    "X = convert(Matrix{Float32}, rand(0:2, p, n))\n",
    "happairs = zeros(Int, n), zeros(Int, n)\n",
    "hapscore = zeros(Float32, n)\n",
    "\n",
    "@btime haplopair!(happairs, hapscore, M, N) setup=(M=rand(Float32, d, d), N=rand(Float32, n, d))"
   ]
  },
  {
   "cell_type": "code",
   "execution_count": null,
   "metadata": {
    "collapsed": true
   },
   "outputs": [],
   "source": []
  },
  {
   "cell_type": "code",
   "execution_count": null,
   "metadata": {
    "collapsed": true
   },
   "outputs": [],
   "source": []
  },
  {
   "cell_type": "code",
   "execution_count": null,
   "metadata": {
    "collapsed": true
   },
   "outputs": [],
   "source": []
  }
 ],
 "metadata": {
  "@webio": {
   "lastCommId": null,
   "lastKernelId": null
  },
  "kernelspec": {
   "display_name": "Julia 1.3.1",
   "language": "julia",
   "name": "julia-1.3"
  },
  "language_info": {
   "file_extension": ".jl",
   "mimetype": "application/julia",
   "name": "julia",
   "version": "1.3.1"
  },
  "toc": {
   "colors": {
    "hover_highlight": "#DAA520",
    "running_highlight": "#FF0000",
    "selected_highlight": "#FFD700"
   },
   "moveMenuLeft": true,
   "nav_menu": {
    "height": "65px",
    "width": "252px"
   },
   "navigate_menu": true,
   "number_sections": true,
   "sideBar": true,
   "threshold": 4,
   "toc_cell": false,
   "toc_section_display": "block",
   "toc_window_display": false,
   "widenNotebook": false
  }
 },
 "nbformat": 4,
 "nbformat_minor": 2
}
