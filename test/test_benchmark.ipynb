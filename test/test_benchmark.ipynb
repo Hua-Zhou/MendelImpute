{
 "cells": [
  {
   "cell_type": "markdown",
   "metadata": {},
   "source": [
    "# Test and Benchmark"
   ]
  },
  {
   "cell_type": "code",
   "execution_count": 1,
   "metadata": {
    "collapsed": false
   },
   "outputs": [
    {
     "name": "stdout",
     "output_type": "stream",
     "text": [
      "Julia Version 1.0.3\n",
      "Commit 099e826241 (2018-12-18 01:34 UTC)\n",
      "Platform Info:\n",
      "  OS: macOS (x86_64-apple-darwin14.5.0)\n",
      "  CPU: Intel(R) Core(TM) i7-3740QM CPU @ 2.70GHz\n",
      "  WORD_SIZE: 64\n",
      "  LIBM: libopenlibm\n",
      "  LLVM: libLLVM-6.0.0 (ORCJIT, ivybridge)\n"
     ]
    }
   ],
   "source": [
    "versioninfo()"
   ]
  },
  {
   "cell_type": "code",
   "execution_count": 2,
   "metadata": {
    "collapsed": false
   },
   "outputs": [
    {
     "name": "stderr",
     "output_type": "stream",
     "text": [
      "┌ Info: Recompiling stale cache file /Users/biona001/.julia/compiled/v1.0/MendelImpute/DVXpm.ji for MendelImpute [e47305d1-6a61-5370-bc5d-77554d143183]\n",
      "└ @ Base loading.jl:1190\n"
     ]
    }
   ],
   "source": [
    "using Revise\n",
    "using BenchmarkTools\n",
    "using MendelImpute\n",
    "using Random\n",
    "using LinearAlgebra"
   ]
  },
  {
   "cell_type": "markdown",
   "metadata": {},
   "source": [
    "## Haplotyping on complete genotype data"
   ]
  },
  {
   "cell_type": "code",
   "execution_count": 3,
   "metadata": {
    "collapsed": false
   },
   "outputs": [
    {
     "name": "stdout",
     "output_type": "stream",
     "text": [
      "  0.623177 seconds (51.83 k allocations: 2.641 MiB)\n"
     ]
    }
   ],
   "source": [
    "Random.seed!(123)\n",
    "n = 5000 # number of individuals\n",
    "p = 500  # number of SNPs\n",
    "d = 500  # number of reference haplotypes\n",
    "H = convert(Matrix{Float32}, rand(0:1, p, d))\n",
    "X = convert(Matrix{Float32}, rand(0:2, p, n))\n",
    "M = Transpose(H) * H\n",
    "for j in 1:d, i in 1:(j - 1) # off-diagonal\n",
    "    M[i, j] = 2M[i, j] + M[i, i] + M[j, j]\n",
    "end\n",
    "for j in 1:d # diagonal\n",
    "    M[j, j] *= 4\n",
    "end\n",
    "N = Transpose(X) * H\n",
    "for I in eachindex(N)\n",
    "    N[I] *= 2\n",
    "end\n",
    "happair  = zeros(Int, n), zeros(Int, n)\n",
    "hapscore = zeros(eltype(N), n)\n",
    "@time haplopair!(happair, hapscore, M, N)"
   ]
  },
  {
   "cell_type": "code",
   "execution_count": 4,
   "metadata": {
    "collapsed": false
   },
   "outputs": [
    {
     "data": {
      "text/plain": [
       "([379, 363, 75, 341, 203, 157, 31, 301, 109, 291  …  175, 27, 117, 54, 408, 235, 67, 2, 241, 167], [466, 415, 358, 447, 288, 420, 402, 388, 230, 346  …  346, 132, 410, 389, 430, 475, 363, 288, 475, 175])"
      ]
     },
     "execution_count": 4,
     "metadata": {},
     "output_type": "execute_result"
    }
   ],
   "source": [
    "happair"
   ]
  },
  {
   "cell_type": "code",
   "execution_count": 5,
   "metadata": {
    "collapsed": false
   },
   "outputs": [
    {
     "data": {
      "text/plain": [
       "5000-element Array{Float32,1}:\n",
       " -374.0\n",
       " -324.0\n",
       " -334.0\n",
       " -341.0\n",
       " -298.0\n",
       " -381.0\n",
       " -393.0\n",
       " -366.0\n",
       " -357.0\n",
       " -353.0\n",
       " -348.0\n",
       " -364.0\n",
       " -349.0\n",
       "    ⋮  \n",
       " -336.0\n",
       " -408.0\n",
       " -403.0\n",
       " -340.0\n",
       " -373.0\n",
       " -472.0\n",
       " -335.0\n",
       " -424.0\n",
       " -381.0\n",
       " -414.0\n",
       " -347.0\n",
       " -325.0"
      ]
     },
     "execution_count": 5,
     "metadata": {},
     "output_type": "execute_result"
    }
   ],
   "source": [
    "hapscore"
   ]
  },
  {
   "cell_type": "code",
   "execution_count": 7,
   "metadata": {
    "collapsed": false
   },
   "outputs": [
    {
     "data": {
      "text/plain": [
       "(([379, 363, 75, 341, 203, 157, 31, 301, 109, 291  …  175, 27, 117, 54, 408, 235, 67, 2, 241, 167], [466, 415, 358, 447, 288, 420, 402, 388, 230, 346  …  346, 132, 410, 389, 430, 475, 363, 288, 475, 175]), Float32[477.0, 446.0, 480.0, 461.0, 467.0, 469.0, 477.0, 468.0, 471.0, 454.0  …  472.0, 463.0, 470.0, 478.0, 439.0, 475.0, 427.0, 457.0, 478.0, 470.0])"
      ]
     },
     "execution_count": 7,
     "metadata": {},
     "output_type": "execute_result"
    }
   ],
   "source": [
    "haplopair(X, H)"
   ]
  },
  {
   "cell_type": "code",
   "execution_count": 8,
   "metadata": {
    "collapsed": false
   },
   "outputs": [
    {
     "data": {
      "text/plain": [
       "BenchmarkTools.Trial: \n",
       "  memory estimate:  0 bytes\n",
       "  allocs estimate:  0\n",
       "  --------------\n",
       "  minimum time:     584.445 ms (0.00% GC)\n",
       "  median time:      597.483 ms (0.00% GC)\n",
       "  mean time:        599.308 ms (0.00% GC)\n",
       "  maximum time:     612.100 ms (0.00% GC)\n",
       "  --------------\n",
       "  samples:          9\n",
       "  evals/sample:     1"
      ]
     },
     "execution_count": 8,
     "metadata": {},
     "output_type": "execute_result"
    }
   ],
   "source": [
    "@benchmark haplopair!(happair, hapscore, M, N)"
   ]
  },
  {
   "cell_type": "code",
   "execution_count": 11,
   "metadata": {
    "collapsed": false
   },
   "outputs": [
    {
     "name": "stdout",
     "output_type": "stream",
     "text": [
      " Count File                        Line Function                               \n",
      "   476 ./In[11]                       3 top-level scope                        \n",
      "    21 ./array.jl                   769 setindex!                              \n",
      "   476 ./boot.jl                    319 eval                                   \n",
      "     1 ./broadcast.jl               555 _broadcast_getindex(::Base.Broadcast...\n",
      "     1 ./broadcast.jl               582 _broadcast_getindex                    \n",
      "     1 ./broadcast.jl               582 _broadcast_getindex_evalf(::typeof(S...\n",
      "     1 ./broadcast.jl               794 copy                                   \n",
      "     1 ./broadcast.jl               794 copy(::Base.Broadcast.Broadcasted{Ba...\n",
      "     2 ./broadcast.jl               931 copyto_nonleaf!(::Array{LineNumberNo...\n",
      "     2 ./broadcast.jl               515 getindex                               \n",
      "     2 ./broadcast.jl               756 materialize(::Base.Broadcast.Broadca...\n",
      "   477 ./essentials.jl              697 #invokelatest#1                        \n",
      "   477 ./essentials.jl              696 invokelatest                           \n",
      "   146 ./float.jl                   396 -                                      \n",
      "   169 ./float.jl                   451 <                                      \n",
      "   336 ./simdloop.jl                 73 macro expansion                        \n",
      "   477 ./task.jl                    259 (::getfield(IJulia, Symbol(\"##15#18\"...\n",
      "   476 ...pute/src/haplotyping.jl    32 haplopair!(::Tuple{Array{Int64,1},Ar...\n",
      "   146 ...pute/src/haplotyping.jl    33 macro expansion                        \n",
      "   169 ...pute/src/haplotyping.jl    34 macro expansion                        \n",
      "    21 ...pute/src/haplotyping.jl    35 macro expansion                        \n",
      "   477 .../fjEtl/src/eventloop.jl     8 eventloop(::ZMQ.Socket)                \n",
      "   477 .../src/execute_request.jl    67 execute_request(::ZMQ.Socket, ::IJul...\n",
      "     2 .../src/SoftGlobalScope.jl   124 _softscope                             \n",
      "     1 .../src/SoftGlobalScope.jl   144 _softscope(::Expr, ::Set{Symbol}, ::...\n",
      "     1 .../src/SoftGlobalScope.jl   152 _softscope(::Expr, ::Set{Symbol}, ::...\n",
      "     1 .../src/SoftGlobalScope.jl   154 _softscope(::Expr, ::Set{Symbol}, ::...\n",
      "     1 .../src/SoftGlobalScope.jl   177 softscope(::Module, ::Expr)            \n",
      "     1 .../src/SoftGlobalScope.jl   217 softscope_include_string(::Module, :...\n",
      "   476 .../src/SoftGlobalScope.jl   218 softscope_include_string(::Module, :...\n",
      "   476 .../Profile/src/Profile.jl    25 macro expansion                        \n"
     ]
    }
   ],
   "source": [
    "using Profile\n",
    "Profile.clear()\n",
    "@profile haplopair!(happair, hapscore, M, N)\n",
    "Profile.print(format=:flat)"
   ]
  },
  {
   "cell_type": "code",
   "execution_count": 12,
   "metadata": {
    "collapsed": false
   },
   "outputs": [
    {
     "name": "stdout",
     "output_type": "stream",
     "text": [
      "Body\u001b[36m::Nothing\u001b[39m\n",
      "\u001b[90m\u001b[44G│╻           size\u001b[1G\u001b[39m\u001b[90m98  \u001b[39m1 ── %1   = (Base.arraysize)(X, 1)\u001b[36m::Int64\u001b[39m\n",
      "\u001b[90m\u001b[44G││          \u001b[1G\u001b[39m\u001b[90m    \u001b[39m│    %2   = (Base.arraysize)(X, 2)\u001b[36m::Int64\u001b[39m\n",
      "\u001b[90m\u001b[44G││          \u001b[1G\u001b[39m\u001b[90m    \u001b[39m│    %3   = (Base.arraysize)(H, 2)\u001b[36m::Int64\u001b[39m\n",
      "\u001b[90m\u001b[44G│╻           mul!\u001b[1G\u001b[39m\u001b[90m101 \u001b[39m│    %4   = (H === H)\u001b[36m::Bool\u001b[39m\n",
      "\u001b[90m\u001b[44G││          \u001b[1G\u001b[39m\u001b[90m    \u001b[39m└───        goto #3 if not %4\n",
      "\u001b[90m\u001b[44G││          \u001b[1G\u001b[39m\u001b[90m    \u001b[39m2 ──        invoke LinearAlgebra.syrk_wrapper!(_4::Array{Float32,2}, 'T'::Char, _3::Array{Float32,2})\n",
      "\u001b[90m\u001b[44G││          \u001b[1G\u001b[39m\u001b[90m    \u001b[39m└───        goto #4\n",
      "\u001b[90m\u001b[44G││          \u001b[1G\u001b[39m\u001b[90m    \u001b[39m3 ──        invoke LinearAlgebra.gemm_wrapper!(_4::Array{Float32,2}, 'T'::Char, 'N'::Char, _3::Array{Float32,2}, _3::Array{Float32,2})\n",
      "\u001b[90m\u001b[44G││          \u001b[1G\u001b[39m\u001b[90m    \u001b[39m└───        goto #4\n",
      "\u001b[90m\u001b[44G│╻╷╷╷╷       Colon\u001b[1G\u001b[39m\u001b[90m102 \u001b[39m4 ┄─ %10  = (Base.sle_int)(1, %3)\u001b[36m::Bool\u001b[39m\n",
      "\u001b[90m\u001b[44G││╻           Type\u001b[1G\u001b[39m\u001b[90m    \u001b[39m│           (Base.sub_int)(%3, 1)\n",
      "\u001b[90m\u001b[44G│││┃           unitrange_last\u001b[1G\u001b[39m\u001b[90m    \u001b[39m│    %12  = (Base.ifelse)(%10, %3, 0)\u001b[36m::Int64\u001b[39m\n",
      "\u001b[90m\u001b[44G││╻╷╷         isempty\u001b[1G\u001b[39m\u001b[90m    \u001b[39m│    %13  = (Base.slt_int)(%12, 1)\u001b[36m::Bool\u001b[39m\n",
      "\u001b[90m\u001b[44G││          \u001b[1G\u001b[39m\u001b[90m    \u001b[39m└───        goto #6 if not %13\n",
      "\u001b[90m\u001b[44G││          \u001b[1G\u001b[39m\u001b[90m    \u001b[39m5 ──        goto #7\n",
      "\u001b[90m\u001b[44G││          \u001b[1G\u001b[39m\u001b[90m    \u001b[39m6 ──        goto #7\n",
      "\u001b[90m\u001b[44G│           \u001b[1G\u001b[39m\u001b[90m    \u001b[39m7 ┄─ %17  = φ (#5 => true, #6 => false)\u001b[36m::Bool\u001b[39m\n",
      "\u001b[90m\u001b[44G│           \u001b[1G\u001b[39m\u001b[90m    \u001b[39m│    %18  = φ (#6 => 1)\u001b[36m::Int64\u001b[39m\n",
      "\u001b[90m\u001b[44G│           \u001b[1G\u001b[39m\u001b[90m    \u001b[39m│    %19  = φ (#6 => 1)\u001b[36m::Int64\u001b[39m\n",
      "\u001b[90m\u001b[44G│           \u001b[1G\u001b[39m\u001b[90m    \u001b[39m│    %20  = (Base.not_int)(%17)\u001b[36m::Bool\u001b[39m\n",
      "\u001b[90m\u001b[44G│           \u001b[1G\u001b[39m\u001b[90m    \u001b[39m└───        goto #22 if not %20\n",
      "\u001b[90m\u001b[44G│           \u001b[1G\u001b[39m\u001b[90m    \u001b[39m8 ┄─ %22  = φ (#7 => %18, #21 => %62)\u001b[36m::Int64\u001b[39m\n",
      "\u001b[90m\u001b[44G│           \u001b[1G\u001b[39m\u001b[90m    \u001b[39m│    %23  = φ (#7 => %19, #21 => %63)\u001b[36m::Int64\u001b[39m\n",
      "\u001b[90m\u001b[44G│╻           -\u001b[1G\u001b[39m\u001b[90m    \u001b[39m│    %24  = (Base.sub_int)(%22, 1)\u001b[36m::Int64\u001b[39m\n",
      "\u001b[90m\u001b[44G││╻╷╷╷        Type\u001b[1G\u001b[39m\u001b[90m    \u001b[39m│    %25  = (Base.sle_int)(1, %24)\u001b[36m::Bool\u001b[39m\n",
      "\u001b[90m\u001b[44G│││╻           unitrange_last\u001b[1G\u001b[39m\u001b[90m    \u001b[39m│           (Base.sub_int)(%24, 1)\n",
      "\u001b[90m\u001b[44G││││        \u001b[1G\u001b[39m\u001b[90m    \u001b[39m│    %27  = (Base.ifelse)(%25, %24, 0)\u001b[36m::Int64\u001b[39m\n",
      "\u001b[90m\u001b[44G││╻╷╷         isempty\u001b[1G\u001b[39m\u001b[90m    \u001b[39m│    %28  = (Base.slt_int)(%27, 1)\u001b[36m::Bool\u001b[39m\n",
      "\u001b[90m\u001b[44G││          \u001b[1G\u001b[39m\u001b[90m    \u001b[39m└───        goto #10 if not %28\n",
      "\u001b[90m\u001b[44G││          \u001b[1G\u001b[39m\u001b[90m    \u001b[39m9 ──        goto #11\n",
      "\u001b[90m\u001b[44G││          \u001b[1G\u001b[39m\u001b[90m    \u001b[39m10 ─        goto #11\n",
      "\u001b[90m\u001b[44G│           \u001b[1G\u001b[39m\u001b[90m    \u001b[39m11 ┄ %32  = φ (#9 => true, #10 => false)\u001b[36m::Bool\u001b[39m\n",
      "\u001b[90m\u001b[44G│           \u001b[1G\u001b[39m\u001b[90m    \u001b[39m│    %33  = φ (#10 => 1)\u001b[36m::Int64\u001b[39m\n",
      "\u001b[90m\u001b[44G│           \u001b[1G\u001b[39m\u001b[90m    \u001b[39m│    %34  = φ (#10 => 1)\u001b[36m::Int64\u001b[39m\n",
      "\u001b[90m\u001b[44G│           \u001b[1G\u001b[39m\u001b[90m    \u001b[39m│    %35  = (Base.not_int)(%32)\u001b[36m::Bool\u001b[39m\n",
      "\u001b[90m\u001b[44G│           \u001b[1G\u001b[39m\u001b[90m    \u001b[39m└───        goto #17 if not %35\n",
      "\u001b[90m\u001b[44G│           \u001b[1G\u001b[39m\u001b[90m    \u001b[39m12 ┄ %37  = φ (#11 => %33, #16 => %51)\u001b[36m::Int64\u001b[39m\n",
      "\u001b[90m\u001b[44G│           \u001b[1G\u001b[39m\u001b[90m    \u001b[39m│    %38  = φ (#11 => %34, #16 => %52)\u001b[36m::Int64\u001b[39m\n",
      "\u001b[90m\u001b[44G│╻           getindex\u001b[1G\u001b[39m\u001b[90m103 \u001b[39m│    %39  = (Base.arrayref)(true, M, %37, %22)\u001b[36m::Float32\u001b[39m\n",
      "\u001b[90m\u001b[44G││╻           *\u001b[1G\u001b[39m\u001b[90m    \u001b[39m│    %40  = (Base.mul_float)(2.0f0, %39)\u001b[36m::Float32\u001b[39m\n",
      "\u001b[90m\u001b[44G│╻           getindex\u001b[1G\u001b[39m\u001b[90m    \u001b[39m│    %41  = (Base.arrayref)(true, M, %37, %37)\u001b[36m::Float32\u001b[39m\n",
      "\u001b[90m\u001b[44G││          \u001b[1G\u001b[39m\u001b[90m    \u001b[39m│    %42  = (Base.arrayref)(true, M, %22, %22)\u001b[36m::Float32\u001b[39m\n",
      "\u001b[90m\u001b[44G││╻           +\u001b[1G\u001b[39m\u001b[90m    \u001b[39m│    %43  = (Base.add_float)(%40, %41)\u001b[36m::Float32\u001b[39m\n",
      "\u001b[90m\u001b[44G│││         \u001b[1G\u001b[39m\u001b[90m    \u001b[39m│    %44  = (Base.add_float)(%43, %42)\u001b[36m::Float32\u001b[39m\n",
      "\u001b[90m\u001b[44G│╻           setindex!\u001b[1G\u001b[39m\u001b[90m    \u001b[39m│           (Base.arrayset)(true, M, %44, %37, %22)\n",
      "\u001b[90m\u001b[44G││╻           ==\u001b[1G\u001b[39m\u001b[90m    \u001b[39m│    %46  = (%38 === %27)\u001b[36m::Bool\u001b[39m\n",
      "\u001b[90m\u001b[44G││          \u001b[1G\u001b[39m\u001b[90m    \u001b[39m└───        goto #14 if not %46\n",
      "\u001b[90m\u001b[44G││          \u001b[1G\u001b[39m\u001b[90m    \u001b[39m13 ─        goto #15\n",
      "\u001b[90m\u001b[44G││╻           +\u001b[1G\u001b[39m\u001b[90m    \u001b[39m14 ─ %49  = (Base.add_int)(%38, 1)\u001b[36m::Int64\u001b[39m\n",
      "\u001b[90m\u001b[44G│╻           iterate\u001b[1G\u001b[39m\u001b[90m    \u001b[39m└───        goto #15\n",
      "\u001b[90m\u001b[44G│           \u001b[1G\u001b[39m\u001b[90m    \u001b[39m15 ┄ %51  = φ (#14 => %49)\u001b[36m::Int64\u001b[39m\n",
      "\u001b[90m\u001b[44G│           \u001b[1G\u001b[39m\u001b[90m    \u001b[39m│    %52  = φ (#14 => %49)\u001b[36m::Int64\u001b[39m\n",
      "\u001b[90m\u001b[44G│           \u001b[1G\u001b[39m\u001b[90m    \u001b[39m│    %53  = φ (#13 => true, #14 => false)\u001b[36m::Bool\u001b[39m\n",
      "\u001b[90m\u001b[44G│           \u001b[1G\u001b[39m\u001b[90m    \u001b[39m│    %54  = (Base.not_int)(%53)\u001b[36m::Bool\u001b[39m\n",
      "\u001b[90m\u001b[44G│           \u001b[1G\u001b[39m\u001b[90m    \u001b[39m└───        goto #17 if not %54\n",
      "\u001b[90m\u001b[44G│           \u001b[1G\u001b[39m\u001b[90m    \u001b[39m16 ─        goto #12\n",
      "\u001b[90m\u001b[44G││╻           ==\u001b[1G\u001b[39m\u001b[90m    \u001b[39m17 ─ %57  = (%23 === %12)\u001b[36m::Bool\u001b[39m\n",
      "\u001b[90m\u001b[44G││          \u001b[1G\u001b[39m\u001b[90m    \u001b[39m└───        goto #19 if not %57\n",
      "\u001b[90m\u001b[44G││          \u001b[1G\u001b[39m\u001b[90m    \u001b[39m18 ─        goto #20\n",
      "\u001b[90m\u001b[44G││╻           +\u001b[1G\u001b[39m\u001b[90m    \u001b[39m19 ─ %60  = (Base.add_int)(%23, 1)\u001b[36m::Int64\u001b[39m\n",
      "\u001b[90m\u001b[44G│╻           iterate\u001b[1G\u001b[39m\u001b[90m    \u001b[39m└───        goto #20\n",
      "\u001b[90m\u001b[44G│           \u001b[1G\u001b[39m\u001b[90m    \u001b[39m20 ┄ %62  = φ (#19 => %60)\u001b[36m::Int64\u001b[39m\n",
      "\u001b[90m\u001b[44G│           \u001b[1G\u001b[39m\u001b[90m    \u001b[39m│    %63  = φ (#19 => %60)\u001b[36m::Int64\u001b[39m\n",
      "\u001b[90m\u001b[44G│           \u001b[1G\u001b[39m\u001b[90m    \u001b[39m│    %64  = φ (#18 => true, #19 => false)\u001b[36m::Bool\u001b[39m\n",
      "\u001b[90m\u001b[44G│           \u001b[1G\u001b[39m\u001b[90m    \u001b[39m│    %65  = (Base.not_int)(%64)\u001b[36m::Bool\u001b[39m\n",
      "\u001b[90m\u001b[44G│           \u001b[1G\u001b[39m\u001b[90m    \u001b[39m└───        goto #22 if not %65\n",
      "\u001b[90m\u001b[44G│           \u001b[1G\u001b[39m\u001b[90m    \u001b[39m21 ─        goto #8\n",
      "\u001b[90m\u001b[44G│╻╷╷╷╷       Colon\u001b[1G\u001b[39m\u001b[90m105 \u001b[39m22 ─ %68  = (Base.sle_int)(1, %3)\u001b[36m::Bool\u001b[39m\n",
      "\u001b[90m\u001b[44G││╻           Type\u001b[1G\u001b[39m\u001b[90m    \u001b[39m│           (Base.sub_int)(%3, 1)\n",
      "\u001b[90m\u001b[44G│││┃           unitrange_last\u001b[1G\u001b[39m\u001b[90m    \u001b[39m│    %70  = (Base.ifelse)(%68, %3, 0)\u001b[36m::Int64\u001b[39m\n",
      "\u001b[90m\u001b[44G││╻╷╷         isempty\u001b[1G\u001b[39m\u001b[90m    \u001b[39m│    %71  = (Base.slt_int)(%70, 1)\u001b[36m::Bool\u001b[39m\n",
      "\u001b[90m\u001b[44G││          \u001b[1G\u001b[39m\u001b[90m    \u001b[39m└───        goto #24 if not %71\n",
      "\u001b[90m\u001b[44G││          \u001b[1G\u001b[39m\u001b[90m    \u001b[39m23 ─        goto #25\n",
      "\u001b[90m\u001b[44G││          \u001b[1G\u001b[39m\u001b[90m    \u001b[39m24 ─        goto #25\n",
      "\u001b[90m\u001b[44G│           \u001b[1G\u001b[39m\u001b[90m    \u001b[39m25 ┄ %75  = φ (#23 => true, #24 => false)\u001b[36m::Bool\u001b[39m\n",
      "\u001b[90m\u001b[44G│           \u001b[1G\u001b[39m\u001b[90m    \u001b[39m│    %76  = φ (#24 => 1)\u001b[36m::Int64\u001b[39m\n",
      "\u001b[90m\u001b[44G│           \u001b[1G\u001b[39m\u001b[90m    \u001b[39m│    %77  = φ (#24 => 1)\u001b[36m::Int64\u001b[39m\n",
      "\u001b[90m\u001b[44G│           \u001b[1G\u001b[39m\u001b[90m    \u001b[39m│    %78  = (Base.not_int)(%75)\u001b[36m::Bool\u001b[39m\n",
      "\u001b[90m\u001b[44G│           \u001b[1G\u001b[39m\u001b[90m    \u001b[39m└───        goto #31 if not %78\n",
      "\u001b[90m\u001b[44G│           \u001b[1G\u001b[39m\u001b[90m    \u001b[39m26 ┄ %80  = φ (#25 => %76, #30 => %90)\u001b[36m::Int64\u001b[39m\n",
      "\u001b[90m\u001b[44G│           \u001b[1G\u001b[39m\u001b[90m    \u001b[39m│    %81  = φ (#25 => %77, #30 => %91)\u001b[36m::Int64\u001b[39m\n",
      "\u001b[90m\u001b[44G│╻           getindex\u001b[1G\u001b[39m\u001b[90m106 \u001b[39m│    %82  = (Base.arrayref)(true, M, %80, %80)\u001b[36m::Float32\u001b[39m\n",
      "\u001b[90m\u001b[44G││╻           *\u001b[1G\u001b[39m\u001b[90m    \u001b[39m│    %83  = (Base.mul_float)(%82, 4.0f0)\u001b[36m::Float32\u001b[39m\n",
      "\u001b[90m\u001b[44G│╻           setindex!\u001b[1G\u001b[39m\u001b[90m    \u001b[39m│           (Base.arrayset)(true, M, %83, %80, %80)\n",
      "\u001b[90m\u001b[44G││╻           ==\u001b[1G\u001b[39m\u001b[90m    \u001b[39m│    %85  = (%81 === %70)\u001b[36m::Bool\u001b[39m\n",
      "\u001b[90m\u001b[44G││          \u001b[1G\u001b[39m\u001b[90m    \u001b[39m└───        goto #28 if not %85\n",
      "\u001b[90m\u001b[44G││          \u001b[1G\u001b[39m\u001b[90m    \u001b[39m27 ─        goto #29\n",
      "\u001b[90m\u001b[44G││╻           +\u001b[1G\u001b[39m\u001b[90m    \u001b[39m28 ─ %88  = (Base.add_int)(%81, 1)\u001b[36m::Int64\u001b[39m\n",
      "\u001b[90m\u001b[44G│╻           iterate\u001b[1G\u001b[39m\u001b[90m    \u001b[39m└───        goto #29\n",
      "\u001b[90m\u001b[44G│           \u001b[1G\u001b[39m\u001b[90m    \u001b[39m29 ┄ %90  = φ (#28 => %88)\u001b[36m::Int64\u001b[39m\n",
      "\u001b[90m\u001b[44G│           \u001b[1G\u001b[39m\u001b[90m    \u001b[39m│    %91  = φ (#28 => %88)\u001b[36m::Int64\u001b[39m\n",
      "\u001b[90m\u001b[44G│           \u001b[1G\u001b[39m\u001b[90m    \u001b[39m│    %92  = φ (#27 => true, #28 => false)\u001b[36m::Bool\u001b[39m\n",
      "\u001b[90m\u001b[44G│           \u001b[1G\u001b[39m\u001b[90m    \u001b[39m│    %93  = (Base.not_int)(%92)\u001b[36m::Bool\u001b[39m\n",
      "\u001b[90m\u001b[44G│           \u001b[1G\u001b[39m\u001b[90m    \u001b[39m└───        goto #31 if not %93\n",
      "\u001b[90m\u001b[44G│           \u001b[1G\u001b[39m\u001b[90m    \u001b[39m30 ─        goto #26\n",
      "\u001b[90m\u001b[44G│╻           mul!\u001b[1G\u001b[39m\u001b[90m110 \u001b[39m31 ─ %96  = (X === H)\u001b[36m::Bool\u001b[39m\n",
      "\u001b[90m\u001b[44G││          \u001b[1G\u001b[39m\u001b[90m    \u001b[39m└───        goto #33 if not %96\n",
      "\u001b[90m\u001b[44G││          \u001b[1G\u001b[39m\u001b[90m    \u001b[39m32 ─        invoke LinearAlgebra.syrk_wrapper!(_5::Array{Float32,2}, 'T'::Char, _2::Array{Float32,2})\n",
      "\u001b[90m\u001b[44G││          \u001b[1G\u001b[39m\u001b[90m    \u001b[39m└───        goto #34\n",
      "\u001b[90m\u001b[44G││          \u001b[1G\u001b[39m\u001b[90m    \u001b[39m33 ─        invoke LinearAlgebra.gemm_wrapper!(_5::Array{Float32,2}, 'T'::Char, 'N'::Char, _2::Array{Float32,2}, _3::Array{Float32,2})\n",
      "\u001b[90m\u001b[44G││          \u001b[1G\u001b[39m\u001b[90m    \u001b[39m└───        goto #34\n",
      "\u001b[90m\u001b[44G│╻╷╷╷        macro expansion\u001b[1G\u001b[39m\u001b[90m111 \u001b[39m34 ┄ %102 = (Base.arraylen)(N)\u001b[36m::Int64\u001b[39m\n",
      "\u001b[90m\u001b[44G││╻╷╷         eachindex\u001b[1G\u001b[39m\u001b[90m    \u001b[39m│    %103 = (Base.slt_int)(%102, 0)\u001b[36m::Bool\u001b[39m\n",
      "\u001b[90m\u001b[44G│││┃│││        eachindex\u001b[1G\u001b[39m\u001b[90m    \u001b[39m│    %104 = (Base.ifelse)(%103, 0, %102)\u001b[36m::Int64\u001b[39m\n",
      "\u001b[90m\u001b[44G││││┃│          Type\u001b[1G\u001b[39m\u001b[90m    \u001b[39m│    %105 = %new(Base.OneTo{Int64}, %104)\u001b[36m::Base.OneTo{Int64}\u001b[39m\n",
      "\u001b[90m\u001b[44G││╻╷╷╷        simd_outer_range\u001b[1G\u001b[39m\u001b[90m    \u001b[39m│           (Base.ifelse)(true, 0, -1)\n",
      "\u001b[90m\u001b[44G│││╻╷╷         isempty\u001b[1G\u001b[39m\u001b[90m    \u001b[39m│    %107 = (Base.slt_int)(0, 0)\u001b[36m::Bool\u001b[39m\n",
      "\u001b[90m\u001b[44G│││         \u001b[1G\u001b[39m\u001b[90m    \u001b[39m└───        goto #36 if not %107\n",
      "\u001b[90m\u001b[44G│││         \u001b[1G\u001b[39m\u001b[90m    \u001b[39m35 ─        goto #37\n",
      "\u001b[90m\u001b[44G│││         \u001b[1G\u001b[39m\u001b[90m    \u001b[39m36 ─        goto #37\n",
      "\u001b[90m\u001b[44G││          \u001b[1G\u001b[39m\u001b[90m    \u001b[39m37 ┄ %111 = φ (#35 => true, #36 => false)\u001b[36m::Bool\u001b[39m\n",
      "\u001b[90m\u001b[44G││          \u001b[1G\u001b[39m\u001b[90m    \u001b[39m│    %112 = φ (#36 => 0)\u001b[36m::Int64\u001b[39m\n",
      "\u001b[90m\u001b[44G││          \u001b[1G\u001b[39m\u001b[90m    \u001b[39m│    %113 = (Base.not_int)(%111)\u001b[36m::Bool\u001b[39m\n",
      "\u001b[90m\u001b[44G││          \u001b[1G\u001b[39m\u001b[90m    \u001b[39m└───        goto #54 if not %113\n",
      "\u001b[90m\u001b[44G││          \u001b[1G\u001b[39m\u001b[90m    \u001b[39m38 ┄ %115 = φ (#37 => %112, #53 => %147)\u001b[36m::Int64\u001b[39m\n",
      "\u001b[90m\u001b[44G││╻           <\u001b[1G\u001b[39m\u001b[90m    \u001b[39m│    %116 = (Base.slt_int)(0, %104)\u001b[36m::Bool\u001b[39m\n",
      "\u001b[90m\u001b[44G││          \u001b[1G\u001b[39m\u001b[90m    \u001b[39m└───        goto #49 if not %116\n",
      "\u001b[90m\u001b[44G│           \u001b[1G\u001b[39m\u001b[90m    \u001b[39m39 ─        nothing\n",
      "\u001b[90m\u001b[44G││          \u001b[1G\u001b[39m\u001b[90m    \u001b[39m40 ┄ %119 = φ (#39 => 0, #47 => %138)\u001b[36m::Int64\u001b[39m\n",
      "\u001b[90m\u001b[44G││╻           <\u001b[1G\u001b[39m\u001b[90m    \u001b[39m│    %120 = (Base.slt_int)(%119, %104)\u001b[36m::Bool\u001b[39m\n",
      "\u001b[90m\u001b[44G││          \u001b[1G\u001b[39m\u001b[90m    \u001b[39m└───        goto #48 if not %120\n",
      "\u001b[90m\u001b[44G││╻╷╷╷╷╷╷╷╷╷  simd_index\u001b[1G\u001b[39m\u001b[90m    \u001b[39m41 ─ %122 = (Base.slt_int)(%104, 0)\u001b[36m::Bool\u001b[39m\n",
      "\u001b[90m\u001b[44G│││┃│││││││    firstindex\u001b[1G\u001b[39m\u001b[90m    \u001b[39m│           (Base.ifelse)(%122, 0, %104)\n",
      "\u001b[90m\u001b[44G│││╻           +\u001b[1G\u001b[39m\u001b[90m    \u001b[39m│    %124 = (Base.add_int)(%119, 1)\u001b[36m::Int64\u001b[39m\n",
      "\u001b[90m\u001b[44G│││╻           getindex\u001b[1G\u001b[39m\u001b[90m    \u001b[39m└───        goto #45 if not false\n",
      "\u001b[90m\u001b[44G││││╻           >\u001b[1G\u001b[39m\u001b[90m    \u001b[39m42 ─ %126 = (Base.slt_int)(0, %124)\u001b[36m::Bool\u001b[39m\n",
      "\u001b[90m\u001b[44G││││╻           <=\u001b[1G\u001b[39m\u001b[90m    \u001b[39m│    %127 = (Base.sle_int)(%124, %104)\u001b[36m::Bool\u001b[39m\n",
      "\u001b[90m\u001b[44G││││╻           &\u001b[1G\u001b[39m\u001b[90m    \u001b[39m│    %128 = (Base.and_int)(%126, %127)\u001b[36m::Bool\u001b[39m\n",
      "\u001b[90m\u001b[44G││││        \u001b[1G\u001b[39m\u001b[90m    \u001b[39m└───        goto #44 if not %128\n",
      "\u001b[90m\u001b[44G││││        \u001b[1G\u001b[39m\u001b[90m    \u001b[39m43 ─        goto #45\n",
      "\u001b[90m\u001b[44G││││        \u001b[1G\u001b[39m\u001b[90m    \u001b[39m44 ─        invoke Base.throw_boundserror(%105::Base.OneTo{Int64}, %124::Int64)\n",
      "\u001b[90m\u001b[44G││││        \u001b[1G\u001b[39m\u001b[90m    \u001b[39m└───        $(Expr(:unreachable))\n",
      "\u001b[90m\u001b[44G││││        \u001b[1G\u001b[39m\u001b[90m    \u001b[39m45 ┄        goto #46\n",
      "\u001b[90m\u001b[44G││╻           simd_index\u001b[1G\u001b[39m\u001b[90m    \u001b[39m46 ─        goto #47\n",
      "\u001b[90m\u001b[44G││╻╷          macro expansion\u001b[1G\u001b[39m\u001b[90m    \u001b[39m47 ─ %135 = (Base.arrayref)(true, N, %124)\u001b[36m::Float32\u001b[39m\n",
      "\u001b[90m\u001b[44G│││╻           *\u001b[1G\u001b[39m\u001b[90m    \u001b[39m│    %136 = (Base.mul_float)(%135, 2.0f0)\u001b[36m::Float32\u001b[39m\n",
      "\u001b[90m\u001b[44G│││╻           setindex!\u001b[1G\u001b[39m\u001b[90m    \u001b[39m│           (Base.arrayset)(true, N, %136, %124)\n",
      "\u001b[90m\u001b[44G││╻           +\u001b[1G\u001b[39m\u001b[90m    \u001b[39m│    %138 = (Base.add_int)(%119, 1)\u001b[36m::Int64\u001b[39m\n",
      "\u001b[90m\u001b[44G│╻           macro expansion\u001b[1G\u001b[39m\u001b[90m    \u001b[39m│           $(Expr(:simdloop, false))\n",
      "\u001b[90m\u001b[44G││          \u001b[1G\u001b[39m\u001b[90m    \u001b[39m└───        goto #40\n",
      "\u001b[90m\u001b[44G│           \u001b[1G\u001b[39m\u001b[90m    \u001b[39m48 ─        nothing\n",
      "\u001b[90m\u001b[44G││╻╷          iterate\u001b[1G\u001b[39m\u001b[90m    \u001b[39m49 ─ %142 = (%115 === 0)\u001b[36m::Bool\u001b[39m\n",
      "\u001b[90m\u001b[44G│││         \u001b[1G\u001b[39m\u001b[90m    \u001b[39m└───        goto #51 if not %142\n",
      "\u001b[90m\u001b[44G│││         \u001b[1G\u001b[39m\u001b[90m    \u001b[39m50 ─        goto #52\n",
      "\u001b[90m\u001b[44G│││╻           +\u001b[1G\u001b[39m\u001b[90m    \u001b[39m51 ─ %145 = (Base.add_int)(%115, 1)\u001b[36m::Int64\u001b[39m\n",
      "\u001b[90m\u001b[44G││╻           iterate\u001b[1G\u001b[39m\u001b[90m    \u001b[39m└───        goto #52\n",
      "\u001b[90m\u001b[44G││          \u001b[1G\u001b[39m\u001b[90m    \u001b[39m52 ┄ %147 = φ (#51 => %145)\u001b[36m::Int64\u001b[39m\n",
      "\u001b[90m\u001b[44G││          \u001b[1G\u001b[39m\u001b[90m    \u001b[39m│    %148 = φ (#50 => true, #51 => false)\u001b[36m::Bool\u001b[39m\n",
      "\u001b[90m\u001b[44G││          \u001b[1G\u001b[39m\u001b[90m    \u001b[39m│    %149 = (Base.not_int)(%148)\u001b[36m::Bool\u001b[39m\n",
      "\u001b[90m\u001b[44G││          \u001b[1G\u001b[39m\u001b[90m    \u001b[39m└───        goto #54 if not %149\n",
      "\u001b[90m\u001b[44G││          \u001b[1G\u001b[39m\u001b[90m    \u001b[39m53 ─        goto #38\n",
      "\u001b[90m\u001b[44G│           \u001b[1G\u001b[39m\u001b[90m116 \u001b[39m54 ─        invoke MendelImpute.haplopair!(_6::Tuple{Array{Int64,1},Array{Int64,1}}, _7::Array{Float32,1}, _4::Array{Float32,2}, _5::Array{Float32,2})\n",
      "\u001b[90m\u001b[44G│╻╷╷╷╷       Colon\u001b[1G\u001b[39m\u001b[90m119 \u001b[39m│    %153 = (Base.sle_int)(1, %2)\u001b[36m::Bool\u001b[39m\n",
      "\u001b[90m\u001b[44G││╻           Type\u001b[1G\u001b[39m\u001b[90m    \u001b[39m│           (Base.sub_int)(%2, 1)\n",
      "\u001b[90m\u001b[44G│││┃           unitrange_last\u001b[1G\u001b[39m\u001b[90m    \u001b[39m│    %155 = (Base.ifelse)(%153, %2, 0)\u001b[36m::Int64\u001b[39m\n",
      "\u001b[90m\u001b[44G││╻╷╷         isempty\u001b[1G\u001b[39m\u001b[90m    \u001b[39m│    %156 = (Base.slt_int)(%155, 1)\u001b[36m::Bool\u001b[39m\n",
      "\u001b[90m\u001b[44G││          \u001b[1G\u001b[39m\u001b[90m    \u001b[39m└───        goto #56 if not %156\n",
      "\u001b[90m\u001b[44G││          \u001b[1G\u001b[39m\u001b[90m    \u001b[39m55 ─        goto #57\n",
      "\u001b[90m\u001b[44G││          \u001b[1G\u001b[39m\u001b[90m    \u001b[39m56 ─        goto #57\n",
      "\u001b[90m\u001b[44G│           \u001b[1G\u001b[39m\u001b[90m    \u001b[39m57 ┄ %160 = φ (#55 => true, #56 => false)\u001b[36m::Bool\u001b[39m\n",
      "\u001b[90m\u001b[44G│           \u001b[1G\u001b[39m\u001b[90m    \u001b[39m│    %161 = φ (#56 => 1)\u001b[36m::Int64\u001b[39m\n",
      "\u001b[90m\u001b[44G│           \u001b[1G\u001b[39m\u001b[90m    \u001b[39m│    %162 = φ (#56 => 1)\u001b[36m::Int64\u001b[39m\n",
      "\u001b[90m\u001b[44G│           \u001b[1G\u001b[39m\u001b[90m    \u001b[39m│    %163 = (Base.not_int)(%160)\u001b[36m::Bool\u001b[39m\n",
      "\u001b[90m\u001b[44G│           \u001b[1G\u001b[39m\u001b[90m    \u001b[39m└───        goto #96 if not %163\n",
      "\u001b[90m\u001b[44G│           \u001b[1G\u001b[39m\u001b[90m    \u001b[39m58 ┄ %165 = φ (#57 => %161, #95 => %246)\u001b[36m::Int64\u001b[39m\n",
      "\u001b[90m\u001b[44G│           \u001b[1G\u001b[39m\u001b[90m    \u001b[39m│    %166 = φ (#57 => %162, #95 => %247)\u001b[36m::Int64\u001b[39m\n",
      "\u001b[90m\u001b[44G│╻╷╷╷╷╷      macro expansion\u001b[1G\u001b[39m\u001b[90m120 \u001b[39m│    %167 = (Base.sle_int)(1, %1)\u001b[36m::Bool\u001b[39m\n",
      "\u001b[90m\u001b[44G││╻           Colon\u001b[1G\u001b[39m\u001b[90m    \u001b[39m│           (Base.sub_int)(%1, 1)\n",
      "\u001b[90m\u001b[44G│││┃│          Type\u001b[1G\u001b[39m\u001b[90m    \u001b[39m│    %169 = (Base.ifelse)(%167, %1, 0)\u001b[36m::Int64\u001b[39m\n",
      "\u001b[90m\u001b[44G││││        \u001b[1G\u001b[39m\u001b[90m    \u001b[39m│    %170 = %new(UnitRange{Int64}, 1, %169)\u001b[36m::UnitRange{Int64}\u001b[39m\n",
      "\u001b[90m\u001b[44G││╻╷╷╷        simd_outer_range\u001b[1G\u001b[39m\u001b[90m    \u001b[39m│           (Base.ifelse)(true, 0, -1)\n",
      "\u001b[90m\u001b[44G│││╻╷╷         isempty\u001b[1G\u001b[39m\u001b[90m    \u001b[39m│    %172 = (Base.slt_int)(0, 0)\u001b[36m::Bool\u001b[39m\n",
      "\u001b[90m\u001b[44G│││         \u001b[1G\u001b[39m\u001b[90m    \u001b[39m└───        goto #60 if not %172\n",
      "\u001b[90m\u001b[44G│││         \u001b[1G\u001b[39m\u001b[90m    \u001b[39m59 ─        goto #61\n",
      "\u001b[90m\u001b[44G│││         \u001b[1G\u001b[39m\u001b[90m    \u001b[39m60 ─        goto #61\n",
      "\u001b[90m\u001b[44G││          \u001b[1G\u001b[39m\u001b[90m    \u001b[39m61 ┄ %176 = φ (#59 => true, #60 => false)\u001b[36m::Bool\u001b[39m\n",
      "\u001b[90m\u001b[44G││          \u001b[1G\u001b[39m\u001b[90m    \u001b[39m│    %177 = φ (#60 => 0)\u001b[36m::Int64\u001b[39m\n",
      "\u001b[90m\u001b[44G││          \u001b[1G\u001b[39m\u001b[90m    \u001b[39m│    %178 = (Base.not_int)(%176)\u001b[36m::Bool\u001b[39m\n",
      "\u001b[90m\u001b[44G││          \u001b[1G\u001b[39m\u001b[90m    \u001b[39m└───        goto #91 if not %178\n",
      "\u001b[90m\u001b[44G││          \u001b[1G\u001b[39m\u001b[90m    \u001b[39m62 ┄ %180 = φ (#61 => %177, #90 => %236)\u001b[36m::Int64\u001b[39m\n",
      "\u001b[90m\u001b[44G││╻╷╷╷        simd_inner_length\u001b[1G\u001b[39m\u001b[90m    \u001b[39m│    %181 = (Base.Checked.checked_ssub_int)(%169, 1)\u001b[36m::Tuple{Int64,Bool}\u001b[39m\n",
      "\u001b[90m\u001b[44G│││╻           length\u001b[1G\u001b[39m\u001b[90m    \u001b[39m│    %182 = (Base.getfield)(%181, 1)\u001b[36m::Int64\u001b[39m\n",
      "\u001b[90m\u001b[44G││││╻           checked_sub\u001b[1G\u001b[39m\u001b[90m    \u001b[39m│    %183 = (Base.getfield)(%181, 2)\u001b[36m::Bool\u001b[39m\n",
      "\u001b[90m\u001b[44G││││╻           checked_sub\u001b[1G\u001b[39m\u001b[90m    \u001b[39m└───        goto #64 if not %183\n",
      "\u001b[90m\u001b[44G│││││       \u001b[1G\u001b[39m\u001b[90m    \u001b[39m63 ─        invoke Base.Checked.throw_overflowerr_binaryop(:-::Symbol, %169::Int64, 1::Int64)\n",
      "\u001b[90m\u001b[44G│││││       \u001b[1G\u001b[39m\u001b[90m    \u001b[39m└───        $(Expr(:unreachable))\n",
      "\u001b[90m\u001b[44G│││││       \u001b[1G\u001b[39m\u001b[90m    \u001b[39m64 ─        goto #65\n",
      "\u001b[90m\u001b[44G│││││╻           add_with_overflow\u001b[1G\u001b[39m\u001b[90m    \u001b[39m65 ─ %188 = (Base.Checked.checked_sadd_int)(%182, 1)\u001b[36m::Tuple{Int64,Bool}\u001b[39m\n",
      "\u001b[90m\u001b[44G││││││╻           indexed_iterate\u001b[1G\u001b[39m\u001b[90m    \u001b[39m│    %189 = (Base.getfield)(%188, 1)\u001b[36m::Int64\u001b[39m\n",
      "\u001b[90m\u001b[44G│││││╻           indexed_iterate\u001b[1G\u001b[39m\u001b[90m    \u001b[39m│    %190 = (Base.getfield)(%188, 2)\u001b[36m::Bool\u001b[39m\n",
      "\u001b[90m\u001b[44G││││╻           checked_add\u001b[1G\u001b[39m\u001b[90m    \u001b[39m└───        goto #67 if not %190\n",
      "\u001b[90m\u001b[44G│││││       \u001b[1G\u001b[39m\u001b[90m    \u001b[39m66 ─        invoke Base.Checked.throw_overflowerr_binaryop(:+::Symbol, %182::Int64, 1::Int64)\n",
      "\u001b[90m\u001b[44G│││││       \u001b[1G\u001b[39m\u001b[90m    \u001b[39m└───        $(Expr(:unreachable))\n",
      "\u001b[90m\u001b[44G│││││       \u001b[1G\u001b[39m\u001b[90m    \u001b[39m67 ─        goto #68\n",
      "\u001b[90m\u001b[44G││││        \u001b[1G\u001b[39m\u001b[90m    \u001b[39m68 ─        goto #69\n",
      "\u001b[90m\u001b[44G│││         \u001b[1G\u001b[39m\u001b[90m    \u001b[39m69 ─        goto #70\n",
      "\u001b[90m\u001b[44G││╻           <\u001b[1G\u001b[39m\u001b[90m    \u001b[39m70 ─ %197 = (Base.slt_int)(0, %189)\u001b[36m::Bool\u001b[39m\n",
      "\u001b[90m\u001b[44G││          \u001b[1G\u001b[39m\u001b[90m    \u001b[39m└───        goto #86 if not %197\n",
      "\u001b[90m\u001b[44G│           \u001b[1G\u001b[39m\u001b[90m    \u001b[39m71 ─        nothing\n",
      "\u001b[90m\u001b[44G││          \u001b[1G\u001b[39m\u001b[90m    \u001b[39m72 ┄ %200 = φ (#71 => 0, #84 => %227)\u001b[36m::Int64\u001b[39m\n",
      "\u001b[90m\u001b[44G││╻           <\u001b[1G\u001b[39m\u001b[90m    \u001b[39m│    %201 = (Base.slt_int)(%200, %189)\u001b[36m::Bool\u001b[39m\n",
      "\u001b[90m\u001b[44G││          \u001b[1G\u001b[39m\u001b[90m    \u001b[39m└───        goto #85 if not %201\n",
      "\u001b[90m\u001b[44G││╻╷          simd_index\u001b[1G\u001b[39m\u001b[90m    \u001b[39m73 ─ %203 = (Base.add_int)(%200, 1)\u001b[36m::Int64\u001b[39m\n",
      "\u001b[90m\u001b[44G│││╻           getindex\u001b[1G\u001b[39m\u001b[90m    \u001b[39m│    %204 = (Base.add_int)(1, %203)\u001b[36m::Int64\u001b[39m\n",
      "\u001b[90m\u001b[44G││││╻           -\u001b[1G\u001b[39m\u001b[90m    \u001b[39m│    %205 = (Base.sub_int)(%204, 1)\u001b[36m::Int64\u001b[39m\n",
      "\u001b[90m\u001b[44G│││╻           getindex\u001b[1G\u001b[39m\u001b[90m    \u001b[39m└───        goto #82 if not false\n",
      "\u001b[90m\u001b[44G││││╻╷          _in_unit_range\u001b[1G\u001b[39m\u001b[90m    \u001b[39m74 ─ %207 = (Base.slt_int)(0, %203)\u001b[36m::Bool\u001b[39m\n",
      "\u001b[90m\u001b[44G│││││       \u001b[1G\u001b[39m\u001b[90m    \u001b[39m└───        goto #78 if not %207\n",
      "\u001b[90m\u001b[44G│││││╻           <=\u001b[1G\u001b[39m\u001b[90m    \u001b[39m75 ─ %209 = (Base.sle_int)(%205, %169)\u001b[36m::Bool\u001b[39m\n",
      "\u001b[90m\u001b[44G│││││       \u001b[1G\u001b[39m\u001b[90m    \u001b[39m└───        goto #77 if not %209\n",
      "\u001b[90m\u001b[44G││││││╻           <=\u001b[1G\u001b[39m\u001b[90m    \u001b[39m76 ─ %211 = (Base.sle_int)(1, %205)\u001b[36m::Bool\u001b[39m\n",
      "\u001b[90m\u001b[44G│││││       \u001b[1G\u001b[39m\u001b[90m    \u001b[39m└───        goto #79\n",
      "\u001b[90m\u001b[44G│││││       \u001b[1G\u001b[39m\u001b[90m    \u001b[39m77 ─        goto #79\n",
      "\u001b[90m\u001b[44G│││││       \u001b[1G\u001b[39m\u001b[90m    \u001b[39m78 ─        goto #79\n",
      "\u001b[90m\u001b[44G││││        \u001b[1G\u001b[39m\u001b[90m    \u001b[39m79 ┄ %215 = φ (#76 => %211, #77 => false, #78 => false)\u001b[36m::Bool\u001b[39m\n",
      "\u001b[90m\u001b[44G││││        \u001b[1G\u001b[39m\u001b[90m    \u001b[39m└───        goto #81 if not %215\n",
      "\u001b[90m\u001b[44G││││        \u001b[1G\u001b[39m\u001b[90m    \u001b[39m80 ─        goto #82\n",
      "\u001b[90m\u001b[44G││││        \u001b[1G\u001b[39m\u001b[90m    \u001b[39m81 ─        invoke Base.throw_boundserror(%170::UnitRange{Int64}, %203::Int64)\n",
      "\u001b[90m\u001b[44G││││        \u001b[1G\u001b[39m\u001b[90m    \u001b[39m└───        $(Expr(:unreachable))\n",
      "\u001b[90m\u001b[44G││││        \u001b[1G\u001b[39m\u001b[90m    \u001b[39m82 ┄        goto #83\n",
      "\u001b[90m\u001b[44G││╻           simd_index\u001b[1G\u001b[39m\u001b[90m    \u001b[39m83 ─        goto #84\n",
      "\u001b[90m\u001b[44G││╻╷          macro expansion\u001b[1G\u001b[39m\u001b[90m    \u001b[39m84 ─ %222 = (Base.arrayref)(false, hapscore, %165)\u001b[36m::Float32\u001b[39m\n",
      "\u001b[90m\u001b[44G│││┃           getindex\u001b[1G\u001b[39m\u001b[90m    \u001b[39m│    %223 = (Base.arrayref)(false, X, %205, %165)\u001b[36m::Float32\u001b[39m\n",
      "\u001b[90m\u001b[44G││││╻           *\u001b[1G\u001b[39m\u001b[90m    \u001b[39m│    %224 = (Base.mul_float)(%223, %223)\u001b[36m::Float32\u001b[39m\n",
      "\u001b[90m\u001b[44G│││╻           +\u001b[1G\u001b[39m\u001b[90m    \u001b[39m│    %225 = (Base.add_float)(%222, %224)\u001b[36m::Float32\u001b[39m\n",
      "\u001b[90m\u001b[44G│││╻           setindex!\u001b[1G\u001b[39m\u001b[90m    \u001b[39m│           (Base.arrayset)(false, hapscore, %225, %165)\n",
      "\u001b[90m\u001b[44G││╻           +\u001b[1G\u001b[39m\u001b[90m    \u001b[39m│    %227 = (Base.add_int)(%200, 1)\u001b[36m::Int64\u001b[39m\n",
      "\u001b[90m\u001b[44G│╻           macro expansion\u001b[1G\u001b[39m\u001b[90m    \u001b[39m│           $(Expr(:simdloop, false))\n",
      "\u001b[90m\u001b[44G││          \u001b[1G\u001b[39m\u001b[90m    \u001b[39m└───        goto #72\n",
      "\u001b[90m\u001b[44G│           \u001b[1G\u001b[39m\u001b[90m    \u001b[39m85 ─        nothing\n",
      "\u001b[90m\u001b[44G││╻╷          iterate\u001b[1G\u001b[39m\u001b[90m    \u001b[39m86 ─ %231 = (%180 === 0)\u001b[36m::Bool\u001b[39m\n",
      "\u001b[90m\u001b[44G│││         \u001b[1G\u001b[39m\u001b[90m    \u001b[39m└───        goto #88 if not %231\n",
      "\u001b[90m\u001b[44G│││         \u001b[1G\u001b[39m\u001b[90m    \u001b[39m87 ─        goto #89\n",
      "\u001b[90m\u001b[44G│││╻           +\u001b[1G\u001b[39m\u001b[90m    \u001b[39m88 ─ %234 = (Base.add_int)(%180, 1)\u001b[36m::Int64\u001b[39m\n",
      "\u001b[90m\u001b[44G││╻           iterate\u001b[1G\u001b[39m\u001b[90m    \u001b[39m└───        goto #89\n",
      "\u001b[90m\u001b[44G││          \u001b[1G\u001b[39m\u001b[90m    \u001b[39m89 ┄ %236 = φ (#88 => %234)\u001b[36m::Int64\u001b[39m\n",
      "\u001b[90m\u001b[44G││          \u001b[1G\u001b[39m\u001b[90m    \u001b[39m│    %237 = φ (#87 => true, #88 => false)\u001b[36m::Bool\u001b[39m\n",
      "\u001b[90m\u001b[44G││          \u001b[1G\u001b[39m\u001b[90m    \u001b[39m│    %238 = (Base.not_int)(%237)\u001b[36m::Bool\u001b[39m\n",
      "\u001b[90m\u001b[44G││          \u001b[1G\u001b[39m\u001b[90m    \u001b[39m└───        goto #91 if not %238\n",
      "\u001b[90m\u001b[44G││          \u001b[1G\u001b[39m\u001b[90m    \u001b[39m90 ─        goto #62\n",
      "\u001b[90m\u001b[44G││╻           ==\u001b[1G\u001b[39m\u001b[90m    \u001b[39m91 ─ %241 = (%166 === %155)\u001b[36m::Bool\u001b[39m\n",
      "\u001b[90m\u001b[44G││          \u001b[1G\u001b[39m\u001b[90m    \u001b[39m└───        goto #93 if not %241\n",
      "\u001b[90m\u001b[44G││          \u001b[1G\u001b[39m\u001b[90m    \u001b[39m92 ─        goto #94\n",
      "\u001b[90m\u001b[44G││╻           +\u001b[1G\u001b[39m\u001b[90m    \u001b[39m93 ─ %244 = (Base.add_int)(%166, 1)\u001b[36m::Int64\u001b[39m\n",
      "\u001b[90m\u001b[44G│╻           iterate\u001b[1G\u001b[39m\u001b[90m    \u001b[39m└───        goto #94\n",
      "\u001b[90m\u001b[44G│           \u001b[1G\u001b[39m\u001b[90m    \u001b[39m94 ┄ %246 = φ (#93 => %244)\u001b[36m::Int64\u001b[39m\n",
      "\u001b[90m\u001b[44G│           \u001b[1G\u001b[39m\u001b[90m    \u001b[39m│    %247 = φ (#93 => %244)\u001b[36m::Int64\u001b[39m\n",
      "\u001b[90m\u001b[44G│           \u001b[1G\u001b[39m\u001b[90m    \u001b[39m│    %248 = φ (#92 => true, #93 => false)\u001b[36m::Bool\u001b[39m\n",
      "\u001b[90m\u001b[44G│           \u001b[1G\u001b[39m\u001b[90m    \u001b[39m│    %249 = (Base.not_int)(%248)\u001b[36m::Bool\u001b[39m\n",
      "\u001b[90m\u001b[44G│           \u001b[1G\u001b[39m\u001b[90m    \u001b[39m└───        goto #96 if not %249\n",
      "\u001b[90m\u001b[44G│           \u001b[1G\u001b[39m\u001b[90m    \u001b[39m95 ─        goto #58\n",
      "\u001b[90m\u001b[44G│           \u001b[1G\u001b[39m\u001b[90m125 \u001b[39m96 ─        return MendelImpute.nothing\n"
     ]
    }
   ],
   "source": [
    "@code_warntype haplopair!(X, H, M, N, happair, hapscore)"
   ]
  },
  {
   "cell_type": "code",
   "execution_count": 13,
   "metadata": {
    "collapsed": false
   },
   "outputs": [
    {
     "name": "stdout",
     "output_type": "stream",
     "text": [
      "  0.683807 seconds (8 allocations: 384 bytes)\n"
     ]
    }
   ],
   "source": [
    "@time haplopair!(X, H, M, N, happair, hapscore)"
   ]
  },
  {
   "cell_type": "code",
   "execution_count": 14,
   "metadata": {
    "collapsed": false
   },
   "outputs": [
    {
     "data": {
      "text/plain": [
       "BenchmarkTools.Trial: \n",
       "  memory estimate:  0 bytes\n",
       "  allocs estimate:  0\n",
       "  --------------\n",
       "  minimum time:     628.908 ms (0.00% GC)\n",
       "  median time:      650.782 ms (0.00% GC)\n",
       "  mean time:        651.946 ms (0.00% GC)\n",
       "  maximum time:     684.798 ms (0.00% GC)\n",
       "  --------------\n",
       "  samples:          8\n",
       "  evals/sample:     1"
      ]
     },
     "execution_count": 14,
     "metadata": {},
     "output_type": "execute_result"
    }
   ],
   "source": [
    "@benchmark haplopair!(X, H, M, N, happair, hapscore)"
   ]
  },
  {
   "cell_type": "code",
   "execution_count": 15,
   "metadata": {
    "collapsed": false
   },
   "outputs": [
    {
     "name": "stdout",
     "output_type": "stream",
     "text": [
      " Count File                        Line Function                               \n",
      "   485 ./In[15]                       2 top-level scope                        \n",
      "     2 ./array.jl                   732 getindex                               \n",
      "    25 ./array.jl                   769 setindex!                              \n",
      "   486 ./boot.jl                    319 eval                                   \n",
      "   486 ./essentials.jl              697 #invokelatest#1                        \n",
      "   486 ./essentials.jl              696 invokelatest                           \n",
      "     1 ./float.jl                   394 +                                      \n",
      "   159 ./float.jl                   396 -                                      \n",
      "   155 ./float.jl                   451 <                                      \n",
      "     1 ./float.jl                   398 macro expansion                        \n",
      "   342 ./simdloop.jl                 73 macro expansion                        \n",
      "   486 ./task.jl                    259 (::getfield(IJulia, Symbol(\"##15#18\"...\n",
      "   481 ...pute/src/haplotyping.jl    32 haplopair!(::Tuple{Array{Int64,1},Ar...\n",
      "     1 ...pute/src/haplotyping.jl   101 haplopair!(::Array{Float32,2}, ::Arr...\n",
      "     1 ...pute/src/haplotyping.jl   111 haplopair!(::Array{Float32,2}, ::Arr...\n",
      "   481 ...pute/src/haplotyping.jl   116 haplopair!(::Array{Float32,2}, ::Arr...\n",
      "     2 ...pute/src/haplotyping.jl   120 haplopair!(::Array{Float32,2}, ::Arr...\n",
      "   159 ...pute/src/haplotyping.jl    33 macro expansion                        \n",
      "   155 ...pute/src/haplotyping.jl    34 macro expansion                        \n",
      "    25 ...pute/src/haplotyping.jl    35 macro expansion                        \n",
      "     2 ...pute/src/haplotyping.jl   121 macro expansion                        \n",
      "   486 .../fjEtl/src/eventloop.jl     8 eventloop(::ZMQ.Socket)                \n",
      "   486 .../src/execute_request.jl    67 execute_request(::ZMQ.Socket, ::IJul...\n",
      "   486 .../src/SoftGlobalScope.jl   218 softscope_include_string(::Module, :...\n",
      "     1 ...arAlgebra/src/matmul.jl   331 copytri!                               \n",
      "     1 ...arAlgebra/src/matmul.jl   334 copytri!(::Array{Float32,2}, ::Char,...\n",
      "     1 ...arAlgebra/src/matmul.jl   222 mul!                                   \n",
      "     1 ...arAlgebra/src/matmul.jl   387 syrk_wrapper!(::Array{Float32,2}, ::...\n",
      "   485 .../Profile/src/Profile.jl    25 macro expansion                        \n"
     ]
    }
   ],
   "source": [
    "Profile.clear()\n",
    "@profile haplopair!(X, H, M, N, happair, hapscore)\n",
    "Profile.print(format=:flat)"
   ]
  },
  {
   "cell_type": "markdown",
   "metadata": {},
   "source": [
    "## Haplotyping on incomplete genotype data\n",
    "\n"
   ]
  },
  {
   "cell_type": "code",
   "execution_count": 23,
   "metadata": {
    "collapsed": false
   },
   "outputs": [
    {
     "name": "stdout",
     "output_type": "stream",
     "text": [
      "  4.472586 seconds (4 allocations: 160 bytes)\n"
     ]
    }
   ],
   "source": [
    "Random.seed!(123)\n",
    "n, p, d = 5000, 500, 500\n",
    "H = convert(Matrix{Float32}, rand(0:1, p, d))\n",
    "X = convert(Matrix{Float32}, rand(0:2, p, n))\n",
    "M = zeros(eltype(H), d, d)\n",
    "N = zeros(promote_type(eltype(H), eltype(X)), n, d)\n",
    "happair  = zeros(Int, n), zeros(Int, n)\n",
    "hapscore = zeros(eltype(N), n)\n",
    "missingprop = 0.1\n",
    "\n",
    "X2 = Matrix{Union{Missing, eltype(X)}}(X)\n",
    "X3 = ifelse.(rand(eltype(X), p, n) .< missingprop, missing, X2)\n",
    "X3_original = deepcopy(X3)\n",
    "@time haploimpute!(X3, H, M, N, happair, hapscore)"
   ]
  },
  {
   "cell_type": "code",
   "execution_count": 12,
   "metadata": {
    "collapsed": false,
    "scrolled": true
   },
   "outputs": [
    {
     "data": {
      "text/plain": [
       "BenchmarkTools.Trial: \n",
       "  memory estimate:  0 bytes\n",
       "  allocs estimate:  0\n",
       "  --------------\n",
       "  minimum time:     4.384 s (0.00% GC)\n",
       "  median time:      4.413 s (0.00% GC)\n",
       "  mean time:        4.413 s (0.00% GC)\n",
       "  maximum time:     4.442 s (0.00% GC)\n",
       "  --------------\n",
       "  samples:          2\n",
       "  evals/sample:     1"
      ]
     },
     "execution_count": 12,
     "metadata": {},
     "output_type": "execute_result"
    }
   ],
   "source": [
    "@benchmark haploimpute!(X3, H, M, N, happair, hapscore)"
   ]
  },
  {
   "cell_type": "code",
   "execution_count": 14,
   "metadata": {
    "collapsed": false
   },
   "outputs": [
    {
     "name": "stdout",
     "output_type": "stream",
     "text": [
      " Count File                        Line Function                               \n",
      "   538 ./<missing>                   -1 anonymous                              \n",
      "     1 ./linalg/matmul.jl           191 A_mul_Bt!                              \n",
      "     1 ./linalg/matmul.jl           239 copytri!(::Array{Float32,2}, ::Char... \n",
      "     1 ./linalg/matmul.jl           293 syrk_wrapper!(::Array{Float32,2}, :... \n",
      "   538 ./loading.jl                 515 include_string(::String, ::String)     \n",
      "   538 ./profile.jl                  23 macro expansion                        \n",
      "     1 ./simdloop.jl                 73 macro expansion                        \n",
      "   538 ./task.jl                    335 (::IJulia.##11#14)()                   \n",
      "   538 ...IJulia/src/eventloop.jl     8 eventloop(::ZMQ.Socket)                \n",
      "   538 .../src/execute_request.jl   160 execute_request(::ZMQ.Socket, ::IJu... \n",
      "     3 ...pute/src/haplotyping.jl   148 fillmissing!(::NullableArrays.Nulla... \n",
      "     3 ...pute/src/haplotyping.jl   149 fillmissing!(::NullableArrays.Nulla... \n",
      "   538 ...pute/src/haplotyping.jl   239 haploimpute!(::NullableArrays.Nulla... \n",
      "    10 ...pute/src/haplotyping.jl   240 haploimpute!(::NullableArrays.Nulla... \n",
      "   522 ...pute/src/haplotyping.jl   243 haploimpute!(::NullableArrays.Nulla... \n",
      "     6 ...pute/src/haplotyping.jl   245 haploimpute!(::NullableArrays.Nulla... \n",
      "     1 ...pute/src/haplotyping.jl    28 haplopair!(::Tuple{Array{Int64,1},A... \n",
      "    87 ...pute/src/haplotyping.jl    29 haplopair!(::Tuple{Array{Int64,1},A... \n",
      "    61 ...pute/src/haplotyping.jl    31 haplopair!(::Tuple{Array{Int64,1},A... \n",
      "   172 ...pute/src/haplotyping.jl    32 haplopair!(::Tuple{Array{Int64,1},A... \n",
      "   114 ...pute/src/haplotyping.jl    33 haplopair!(::Tuple{Array{Int64,1},A... \n",
      "    84 ...pute/src/haplotyping.jl    36 haplopair!(::Tuple{Array{Int64,1},A... \n",
      "     1 ...pute/src/haplotyping.jl   102 haplopair!(::Array{Float32,2}, ::Ar... \n",
      "     1 ...pute/src/haplotyping.jl   111 haplopair!(::Array{Float32,2}, ::Ar... \n",
      "   519 ...pute/src/haplotyping.jl   115 haplopair!(::Array{Float32,2}, ::Ar... \n",
      "     1 ...pute/src/haplotyping.jl   117 haplopair!(::Array{Float32,2}, ::Ar... \n",
      "     4 ...pute/src/haplotyping.jl   193 initmissing!(::NullableArrays.Nulla... \n",
      "     1 ...pute/src/haplotyping.jl   194 initmissing!(::NullableArrays.Nulla... \n",
      "     4 ...pute/src/haplotyping.jl   196 initmissing!(::NullableArrays.Nulla... \n",
      "     1 ...pute/src/haplotyping.jl   203 initmissing!(::NullableArrays.Nulla... \n",
      "     1 ...pute/src/haplotyping.jl   118 macro expansion                        \n"
     ]
    }
   ],
   "source": [
    "Profile.clear()\n",
    "@profile haploimpute!(Xm, H, M, N, happair, hapscore)\n",
    "Profile.print(format=:flat)"
   ]
  }
 ],
 "metadata": {
  "@webio": {
   "lastCommId": null,
   "lastKernelId": null
  },
  "kernelspec": {
   "display_name": "Julia 1.0.3",
   "language": "julia",
   "name": "julia-1.0"
  },
  "language_info": {
   "file_extension": ".jl",
   "mimetype": "application/julia",
   "name": "julia",
   "version": "1.0.3"
  },
  "toc": {
   "colors": {
    "hover_highlight": "#DAA520",
    "running_highlight": "#FF0000",
    "selected_highlight": "#FFD700"
   },
   "moveMenuLeft": true,
   "nav_menu": {
    "height": "65px",
    "width": "252px"
   },
   "navigate_menu": true,
   "number_sections": true,
   "sideBar": true,
   "threshold": 4,
   "toc_cell": false,
   "toc_section_display": "block",
   "toc_window_display": false,
   "widenNotebook": false
  }
 },
 "nbformat": 4,
 "nbformat_minor": 2
}
