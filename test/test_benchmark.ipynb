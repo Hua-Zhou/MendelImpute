{
 "cells": [
  {
   "cell_type": "markdown",
   "metadata": {},
   "source": [
    "# Test and Benchmark"
   ]
  },
  {
   "cell_type": "code",
   "execution_count": 1,
   "metadata": {},
   "outputs": [
    {
     "name": "stdout",
     "output_type": "stream",
     "text": [
      "Julia Version 0.6.0\n",
      "Commit 903644385b (2017-06-19 13:05 UTC)\n",
      "Platform Info:\n",
      "  OS: macOS (x86_64-apple-darwin13.4.0)\n",
      "  CPU: Intel(R) Core(TM) i7-6920HQ CPU @ 2.90GHz\n",
      "  WORD_SIZE: 64\n",
      "  BLAS: libopenblas (USE64BITINT DYNAMIC_ARCH NO_AFFINITY Haswell)\n",
      "  LAPACK: libopenblas64_\n",
      "  LIBM: libopenlibm\n",
      "  LLVM: libLLVM-3.9.1 (ORCJIT, skylake)\n"
     ]
    }
   ],
   "source": [
    "versioninfo()"
   ]
  },
  {
   "cell_type": "markdown",
   "metadata": {},
   "source": [
    "## Haplotyping on complete genotype data"
   ]
  },
  {
   "cell_type": "code",
   "execution_count": 2,
   "metadata": {},
   "outputs": [
    {
     "name": "stdout",
     "output_type": "stream",
     "text": [
      "  "
     ]
    },
    {
     "name": "stderr",
     "output_type": "stream",
     "text": [
      "WARNING: Method definition ==(Base.Nullable{S}, Base.Nullable{T}) in module Base at nullable.jl:238 overwritten in module NullableArrays at /Users/huazhou/.julia/v0.6/NullableArrays/src/operators.jl:128.\n"
     ]
    },
    {
     "name": "stdout",
     "output_type": "stream",
     "text": [
      "0.474930 seconds (6.22 k allocations: 342.331 KiB)\n"
     ]
    }
   ],
   "source": [
    "using NullableArrays, BenchmarkTools, MendelImpute\n",
    "\n",
    "srand(123)\n",
    "n = 5000 # number of individuals\n",
    "p = 500  # number of SNPs\n",
    "d = 500  # number of reference haplotypes\n",
    "H = convert(Matrix{Float32}, rand(0:1, d, p))\n",
    "X = convert(Matrix{Float32}, rand(0:2, n, p))\n",
    "M = A_mul_Bt(H, H)\n",
    "for j in 1:d\n",
    "    for i in 1:(j - 1)\n",
    "        M[i, j] = 2M[i, j] + M[i, i] + M[j, j]\n",
    "    end\n",
    "end\n",
    "for j in 1:d\n",
    "    M[j, j] *= 4\n",
    "end\n",
    "N = A_mul_Bt(X, H)\n",
    "for I in eachindex(N)\n",
    "    N[I] *= 2\n",
    "end\n",
    "happair  = zeros(Int, n), zeros(Int, n)\n",
    "hapscore = zeros(eltype(N), n)\n",
    "@time haplopair!(happair, hapscore, M, N)"
   ]
  },
  {
   "cell_type": "code",
   "execution_count": 3,
   "metadata": {},
   "outputs": [
    {
     "data": {
      "text/plain": [
       "([227, 205, 201, 254, 267, 40, 170, 87, 27, 377  …  257, 81, 194, 257, 258, 106, 203, 100, 243, 208], [358, 454, 245, 442, 344, 138, 218, 262, 278, 449  …  442, 208, 301, 442, 338, 396, 387, 158, 482, 407])"
      ]
     },
     "execution_count": 3,
     "metadata": {},
     "output_type": "execute_result"
    }
   ],
   "source": [
    "happair"
   ]
  },
  {
   "cell_type": "code",
   "execution_count": 4,
   "metadata": {},
   "outputs": [
    {
     "data": {
      "text/plain": [
       "5000-element Array{Float32,1}:\n",
       " -371.0\n",
       " -304.0\n",
       " -408.0\n",
       " -428.0\n",
       " -392.0\n",
       " -339.0\n",
       " -423.0\n",
       " -388.0\n",
       " -360.0\n",
       " -316.0\n",
       " -416.0\n",
       " -435.0\n",
       " -376.0\n",
       "    ⋮  \n",
       " -347.0\n",
       " -366.0\n",
       " -367.0\n",
       " -369.0\n",
       " -386.0\n",
       " -357.0\n",
       " -443.0\n",
       " -343.0\n",
       " -377.0\n",
       " -344.0\n",
       " -352.0\n",
       " -376.0"
      ]
     },
     "execution_count": 4,
     "metadata": {},
     "output_type": "execute_result"
    }
   ],
   "source": [
    "hapscore"
   ]
  },
  {
   "cell_type": "code",
   "execution_count": 5,
   "metadata": {},
   "outputs": [
    {
     "data": {
      "text/plain": [
       "(([227, 205, 201, 254, 267, 40, 170, 87, 27, 377  …  257, 81, 194, 257, 258, 106, 203, 100, 243, 208], [358, 454, 245, 442, 344, 138, 218, 262, 278, 449  …  442, 208, 301, 442, 338, 396, 387, 158, 482, 407]), Float32[474.0, 486.0, 485.0, 475.0, 453.0, 470.0, 457.0, 460.0, 463.0, 479.0  …  462.0, 452.0, 465.0, 466.0, 458.0, 441.0, 457.0, 471.0, 456.0, 470.0])"
      ]
     },
     "execution_count": 5,
     "metadata": {},
     "output_type": "execute_result"
    }
   ],
   "source": [
    "haplopair(X, H)"
   ]
  },
  {
   "cell_type": "code",
   "execution_count": 6,
   "metadata": {},
   "outputs": [
    {
     "data": {
      "text/plain": [
       "BenchmarkTools.Trial: \n",
       "  memory estimate:  0 bytes\n",
       "  allocs estimate:  0\n",
       "  --------------\n",
       "  minimum time:     447.488 ms (0.00% GC)\n",
       "  median time:      534.818 ms (0.00% GC)\n",
       "  mean time:        520.981 ms (0.00% GC)\n",
       "  maximum time:     578.585 ms (0.00% GC)\n",
       "  --------------\n",
       "  samples:          10\n",
       "  evals/sample:     1"
      ]
     },
     "execution_count": 6,
     "metadata": {},
     "output_type": "execute_result"
    }
   ],
   "source": [
    "@benchmark haplopair!(happair, hapscore, M, N)"
   ]
  },
  {
   "cell_type": "code",
   "execution_count": 7,
   "metadata": {},
   "outputs": [
    {
     "name": "stdout",
     "output_type": "stream",
     "text": [
      " Count File                        Line Function                               \n",
      "   394 ./<missing>                   -1 anonymous                              \n",
      "     1 ./abstractarray.jl           572 copy!(::Array{Any,1}, ::Core.Infere... \n",
      "     1 ./inference.jl              1856 abstract_call(::Any, ::Array{Any,1}... \n",
      "     1 ./inference.jl              1882 abstract_call(::Any, ::Array{Any,1}... \n",
      "     1 ./inference.jl              1401 abstract_call_gf_by_type(::Any, ::A... \n",
      "     3 ./inference.jl              1935 abstract_eval(::Any, ::Array{Any,1}... \n",
      "     1 ./inference.jl              1886 abstract_eval_call(::Expr, ::Array{... \n",
      "     2 ./inference.jl              1912 abstract_eval_call(::Expr, ::Array{... \n",
      "     1 ./inference.jl              2069 abstract_interpret(::Any, ::Array{A... \n",
      "     1 ./inference.jl              1604 pure_eval_call(::Any, ::Any, ::Any,... \n",
      "     1 ./inference.jl              2564 typeinf_code(::Core.MethodInstance,... \n",
      "     1 ./inference.jl              2517 typeinf_edge(::Method, ::Any, ::Sim... \n",
      "     1 ./inference.jl              2603 typeinf_ext(::Core.MethodInstance, ... \n",
      "     2 ./inference.jl              2494 typeinf_frame(::Core.MethodInstance... \n",
      "     1 ./inference.jl              2725 typeinf_frame(::Core.Inference.Infe... \n",
      "     1 ./inference.jl              2778 typeinf_frame(::Core.Inference.Infe... \n",
      "     1 ./inference.jl              2624 typeinf_loop(::Core.Inference.Infer... \n",
      "     1 ./inference.jl              2641 typeinf_loop(::Core.Inference.Infer... \n",
      "   395 ./loading.jl                 515 include_string(::String, ::String)     \n",
      "   394 ./profile.jl                  23 macro expansion                        \n",
      "     1 ./reflection.jl              521 _methods_by_ftype(::Any, ::Int64, :... \n",
      "   395 ./task.jl                    335 (::IJulia.##11#14)()                   \n",
      "   395 ...IJulia/src/eventloop.jl     8 eventloop(::ZMQ.Socket)                \n",
      "   395 .../src/execute_request.jl   160 execute_request(::ZMQ.Socket, ::IJu... \n",
      "    89 ...pute/src/haplotyping.jl    29 haplopair!(::Tuple{Array{Int64,1},A... \n",
      "    77 ...pute/src/haplotyping.jl    31 haplopair!(::Tuple{Array{Int64,1},A... \n",
      "    81 ...pute/src/haplotyping.jl    32 haplopair!(::Tuple{Array{Int64,1},A... \n",
      "    65 ...pute/src/haplotyping.jl    33 haplopair!(::Tuple{Array{Int64,1},A... \n",
      "    82 ...pute/src/haplotyping.jl    36 haplopair!(::Tuple{Array{Int64,1},A... \n"
     ]
    }
   ],
   "source": [
    "Profile.clear()\n",
    "@profile haplopair!(happair, hapscore, M, N)\n",
    "Profile.print(format=:flat)"
   ]
  },
  {
   "cell_type": "code",
   "execution_count": 8,
   "metadata": {},
   "outputs": [],
   "source": [
    "#@code_warntype haplopair!(X, H, M, N, happair, hapscore)"
   ]
  },
  {
   "cell_type": "code",
   "execution_count": 9,
   "metadata": {},
   "outputs": [
    {
     "name": "stdout",
     "output_type": "stream",
     "text": [
      "  0.501789 seconds (4 allocations: 160 bytes)\n"
     ]
    }
   ],
   "source": [
    "@time haplopair!(X, H, M, N, happair, hapscore)"
   ]
  },
  {
   "cell_type": "code",
   "execution_count": 10,
   "metadata": {},
   "outputs": [
    {
     "data": {
      "text/plain": [
       "BenchmarkTools.Trial: \n",
       "  memory estimate:  0 bytes\n",
       "  allocs estimate:  0\n",
       "  --------------\n",
       "  minimum time:     470.164 ms (0.00% GC)\n",
       "  median time:      478.174 ms (0.00% GC)\n",
       "  mean time:        479.081 ms (0.00% GC)\n",
       "  maximum time:     489.729 ms (0.00% GC)\n",
       "  --------------\n",
       "  samples:          11\n",
       "  evals/sample:     1"
      ]
     },
     "execution_count": 10,
     "metadata": {},
     "output_type": "execute_result"
    }
   ],
   "source": [
    "@benchmark haplopair!(X, H, M, N, happair, hapscore)"
   ]
  },
  {
   "cell_type": "code",
   "execution_count": 11,
   "metadata": {},
   "outputs": [
    {
     "name": "stdout",
     "output_type": "stream",
     "text": [
      " Count File                        Line Function                               \n",
      "   407 ./<missing>                   -1 anonymous                              \n",
      "     4 ./linalg/blas.jl            1027 gemm!(::Char, ::Char, ::Float32, ::... \n",
      "     5 ./linalg/matmul.jl           191 A_mul_Bt!                              \n",
      "     1 ./linalg/matmul.jl           239 copytri!(::Array{Float32,2}, ::Char... \n",
      "     4 ./linalg/matmul.jl           367 gemm_wrapper!(::Array{Float32,2}, :... \n",
      "     1 ./linalg/matmul.jl           293 syrk_wrapper!(::Array{Float32,2}, :... \n",
      "   407 ./loading.jl                 515 include_string(::String, ::String)     \n",
      "   407 ./profile.jl                  23 macro expansion                        \n",
      "   407 ./task.jl                    335 (::IJulia.##11#14)()                   \n",
      "   407 ...IJulia/src/eventloop.jl     8 eventloop(::ZMQ.Socket)                \n",
      "   407 .../src/execute_request.jl   160 execute_request(::ZMQ.Socket, ::IJu... \n",
      "     3 ...pute/src/haplotyping.jl    28 haplopair!(::Tuple{Array{Int64,1},A... \n",
      "    72 ...pute/src/haplotyping.jl    29 haplopair!(::Tuple{Array{Int64,1},A... \n",
      "    64 ...pute/src/haplotyping.jl    31 haplopair!(::Tuple{Array{Int64,1},A... \n",
      "    94 ...pute/src/haplotyping.jl    32 haplopair!(::Tuple{Array{Int64,1},A... \n",
      "    92 ...pute/src/haplotyping.jl    33 haplopair!(::Tuple{Array{Int64,1},A... \n",
      "     1 ...pute/src/haplotyping.jl    34 haplopair!(::Tuple{Array{Int64,1},A... \n",
      "    74 ...pute/src/haplotyping.jl    36 haplopair!(::Tuple{Array{Int64,1},A... \n",
      "     1 ...pute/src/haplotyping.jl   102 haplopair!(::Array{Float32,2}, ::Ar... \n",
      "     4 ...pute/src/haplotyping.jl   110 haplopair!(::Array{Float32,2}, ::Ar... \n",
      "     2 ...pute/src/haplotyping.jl   112 haplopair!(::Array{Float32,2}, ::Ar... \n",
      "   400 ...pute/src/haplotyping.jl   115 haplopair!(::Array{Float32,2}, ::Ar... \n"
     ]
    }
   ],
   "source": [
    "Profile.clear()\n",
    "@profile haplopair!(X, H, M, N, happair, hapscore)\n",
    "Profile.print(format=:flat)"
   ]
  },
  {
   "cell_type": "markdown",
   "metadata": {},
   "source": [
    "## Haplotyping on incomplete genotype data\n",
    "\n"
   ]
  },
  {
   "cell_type": "code",
   "execution_count": 12,
   "metadata": {},
   "outputs": [
    {
     "name": "stdout",
     "output_type": "stream",
     "text": [
      "  0.582293 seconds (25.01 k allocations: 1.367 MiB)\n"
     ]
    }
   ],
   "source": [
    "using MendelImpute, NullableArrays, BenchmarkTools\n",
    "\n",
    "srand(123)\n",
    "n, p, d = 5000, 500, 500\n",
    "H = convert(Matrix{Float32}, rand(0:1, d, p))\n",
    "X = convert(Matrix{Float32}, rand(0:2, n, p))\n",
    "M = zeros(eltype(H), d, d)\n",
    "N = zeros(eltype(X), n, d)\n",
    "happair  = zeros(Int, n), zeros(Int, n)\n",
    "hapscore = zeros(eltype(N), n)\n",
    "missingprop = 0.1\n",
    "Xm = NullableArray(X, full(sprand(Bool, n, p, missingprop)))\n",
    "@time haploimpute!(Xm, H, M, N, happair, hapscore)"
   ]
  },
  {
   "cell_type": "code",
   "execution_count": 13,
   "metadata": {},
   "outputs": [
    {
     "data": {
      "text/plain": [
       "BenchmarkTools.Trial: \n",
       "  memory estimate:  0 bytes\n",
       "  allocs estimate:  0\n",
       "  --------------\n",
       "  minimum time:     548.253 ms (0.00% GC)\n",
       "  median time:      562.324 ms (0.00% GC)\n",
       "  mean time:        589.188 ms (0.00% GC)\n",
       "  maximum time:     680.405 ms (0.00% GC)\n",
       "  --------------\n",
       "  samples:          9\n",
       "  evals/sample:     1"
      ]
     },
     "execution_count": 13,
     "metadata": {},
     "output_type": "execute_result"
    }
   ],
   "source": [
    "@benchmark haploimpute!(Xm, H, M, N, happair, hapscore)"
   ]
  },
  {
   "cell_type": "code",
   "execution_count": 14,
   "metadata": {},
   "outputs": [
    {
     "name": "stdout",
     "output_type": "stream",
     "text": [
      " Count File                        Line Function                               \n",
      "   538 ./<missing>                   -1 anonymous                              \n",
      "     1 ./linalg/matmul.jl           191 A_mul_Bt!                              \n",
      "     1 ./linalg/matmul.jl           239 copytri!(::Array{Float32,2}, ::Char... \n",
      "     1 ./linalg/matmul.jl           293 syrk_wrapper!(::Array{Float32,2}, :... \n",
      "   538 ./loading.jl                 515 include_string(::String, ::String)     \n",
      "   538 ./profile.jl                  23 macro expansion                        \n",
      "     1 ./simdloop.jl                 73 macro expansion                        \n",
      "   538 ./task.jl                    335 (::IJulia.##11#14)()                   \n",
      "   538 ...IJulia/src/eventloop.jl     8 eventloop(::ZMQ.Socket)                \n",
      "   538 .../src/execute_request.jl   160 execute_request(::ZMQ.Socket, ::IJu... \n",
      "     3 ...pute/src/haplotyping.jl   148 fillmissing!(::NullableArrays.Nulla... \n",
      "     3 ...pute/src/haplotyping.jl   149 fillmissing!(::NullableArrays.Nulla... \n",
      "   538 ...pute/src/haplotyping.jl   239 haploimpute!(::NullableArrays.Nulla... \n",
      "    10 ...pute/src/haplotyping.jl   240 haploimpute!(::NullableArrays.Nulla... \n",
      "   522 ...pute/src/haplotyping.jl   243 haploimpute!(::NullableArrays.Nulla... \n",
      "     6 ...pute/src/haplotyping.jl   245 haploimpute!(::NullableArrays.Nulla... \n",
      "     1 ...pute/src/haplotyping.jl    28 haplopair!(::Tuple{Array{Int64,1},A... \n",
      "    87 ...pute/src/haplotyping.jl    29 haplopair!(::Tuple{Array{Int64,1},A... \n",
      "    61 ...pute/src/haplotyping.jl    31 haplopair!(::Tuple{Array{Int64,1},A... \n",
      "   172 ...pute/src/haplotyping.jl    32 haplopair!(::Tuple{Array{Int64,1},A... \n",
      "   114 ...pute/src/haplotyping.jl    33 haplopair!(::Tuple{Array{Int64,1},A... \n",
      "    84 ...pute/src/haplotyping.jl    36 haplopair!(::Tuple{Array{Int64,1},A... \n",
      "     1 ...pute/src/haplotyping.jl   102 haplopair!(::Array{Float32,2}, ::Ar... \n",
      "     1 ...pute/src/haplotyping.jl   111 haplopair!(::Array{Float32,2}, ::Ar... \n",
      "   519 ...pute/src/haplotyping.jl   115 haplopair!(::Array{Float32,2}, ::Ar... \n",
      "     1 ...pute/src/haplotyping.jl   117 haplopair!(::Array{Float32,2}, ::Ar... \n",
      "     4 ...pute/src/haplotyping.jl   193 initmissing!(::NullableArrays.Nulla... \n",
      "     1 ...pute/src/haplotyping.jl   194 initmissing!(::NullableArrays.Nulla... \n",
      "     4 ...pute/src/haplotyping.jl   196 initmissing!(::NullableArrays.Nulla... \n",
      "     1 ...pute/src/haplotyping.jl   203 initmissing!(::NullableArrays.Nulla... \n",
      "     1 ...pute/src/haplotyping.jl   118 macro expansion                        \n"
     ]
    }
   ],
   "source": [
    "Profile.clear()\n",
    "@profile haploimpute!(Xm, H, M, N, happair, hapscore)\n",
    "Profile.print(format=:flat)"
   ]
  }
 ],
 "metadata": {
  "kernelspec": {
   "display_name": "Julia 0.6.0",
   "language": "julia",
   "name": "julia-0.6"
  },
  "language_info": {
   "file_extension": ".jl",
   "mimetype": "application/julia",
   "name": "julia",
   "version": "0.6.0"
  },
  "toc": {
   "colors": {
    "hover_highlight": "#DAA520",
    "running_highlight": "#FF0000",
    "selected_highlight": "#FFD700"
   },
   "moveMenuLeft": true,
   "nav_menu": {
    "height": "65px",
    "width": "252px"
   },
   "navigate_menu": true,
   "number_sections": true,
   "sideBar": true,
   "threshold": 4,
   "toc_cell": false,
   "toc_section_display": "block",
   "toc_window_display": false,
   "widenNotebook": false
  }
 },
 "nbformat": 4,
 "nbformat_minor": 2
}
