{
 "cells": [
  {
   "cell_type": "markdown",
   "metadata": {},
   "source": [
    "# Test and Benchmark"
   ]
  },
  {
   "cell_type": "code",
   "execution_count": 1,
   "metadata": {
    "collapsed": false
   },
   "outputs": [
    {
     "name": "stderr",
     "output_type": "stream",
     "text": [
      "┌ Info: Precompiling MendelImpute [e47305d1-6a61-5370-bc5d-77554d143183]\n",
      "└ @ Base loading.jl:1273\n"
     ]
    }
   ],
   "source": [
    "using Revise\n",
    "using VCFTools\n",
    "using LinearAlgebra\n",
    "using MendelImpute\n",
    "using GeneticVariation\n",
    "using Random\n",
    "using StatsBase\n",
    "using CodecZlib\n",
    "using ProgressMeter\n",
    "using JLD2, FileIO, JLSO\n",
    "using BenchmarkTools\n",
    "using GroupSlices"
   ]
  },
  {
   "cell_type": "markdown",
   "metadata": {},
   "source": [
    "## Haplotyping timing varying number of haplotypes"
   ]
  },
  {
   "cell_type": "code",
   "execution_count": 15,
   "metadata": {
    "collapsed": false
   },
   "outputs": [
    {
     "name": "stdout",
     "output_type": "stream",
     "text": [
      "n = 100, p = 100, d = 100 time = 0.000456208\n",
      "n = 100, p = 100, d = 1000 time = 0.038313572\n",
      "n = 100, p = 100, d = 10000 time = 3.35376975\n",
      "n = 100, p = 1000, d = 100 time = 0.0003795\n",
      "n = 100, p = 1000, d = 1000 time = 0.038590982\n",
      "n = 100, p = 1000, d = 10000 time = 3.374475433\n",
      "n = 100, p = 10000, d = 100 time = 0.000484978\n",
      "n = 100, p = 10000, d = 1000 time = 0.03808498\n",
      "n = 100, p = 10000, d = 10000 time = 3.397484089\n",
      "n = 1000, p = 100, d = 100 time = 0.004034878\n",
      "n = 1000, p = 100, d = 1000 time = 0.3387065\n",
      "n = 1000, p = 100, d = 10000 time = 34.682602842\n",
      "n = 1000, p = 1000, d = 100 time = 0.004231036\n",
      "n = 1000, p = 1000, d = 1000 time = 0.375277053\n",
      "n = 1000, p = 1000, d = 10000 time = 36.049891365\n",
      "n = 1000, p = 10000, d = 100 time = 0.003922379\n",
      "n = 1000, p = 10000, d = 1000 time = 0.403318508\n",
      "n = 1000, p = 10000, d = 10000 time = 35.155680319\n",
      "n = 10000, p = 100, d = 100 time = 0.040836424\n",
      "n = 10000, p = 100, d = 1000 time = 3.727595042\n",
      "n = 10000, p = 100, d = 10000 time = 355.668273795\n",
      "n = 10000, p = 1000, d = 100 time = 0.040800191\n",
      "n = 10000, p = 1000, d = 1000 time = 3.720770783\n",
      "n = 10000, p = 1000, d = 10000 time = 374.95481144\n",
      "n = 10000, p = 10000, d = 100 time = 0.042323945\n",
      "n = 10000, p = 10000, d = 1000 time = 3.484835278\n",
      "n = 10000, p = 10000, d = 10000 time = 358.478209292\n"
     ]
    }
   ],
   "source": [
    "Random.seed!(123)\n",
    "ns = [100, 1000, 10000] # number of individuals\n",
    "ps = [100, 1000, 10000]    # number of typed SNPs\n",
    "ds = [100, 1000, 10000]  # number of reference haplotypes\n",
    "for n in ns, p in ps, d in ds\n",
    "    H = convert(Matrix{Float32}, rand(0:1, p, d))\n",
    "    X = convert(Matrix{Float32}, rand(0:2, p, n))\n",
    "    M = Transpose(H) * H\n",
    "    for j in 1:d, i in 1:(j - 1) # off-diagonal\n",
    "        M[i, j] = 2M[i, j] + M[i, i] + M[j, j]\n",
    "    end\n",
    "    for j in 1:d # diagonal\n",
    "        M[j, j] *= 4\n",
    "    end\n",
    "    N = Transpose(X) * H\n",
    "    for I in eachindex(N)\n",
    "        N[I] *= 2\n",
    "    end\n",
    "    happair  = zeros(Int, n), zeros(Int, n)\n",
    "    hapscore = zeros(eltype(N), n)\n",
    "    t = @elapsed haplopair!(happair, hapscore, M, N)\n",
    "    println(\"n = $n, p = $p, d = $d time = $t\")\n",
    "end"
   ]
  },
  {
   "cell_type": "markdown",
   "metadata": {},
   "source": [
    "# Try another way to compute optimal haplotypes"
   ]
  },
  {
   "cell_type": "code",
   "execution_count": null,
   "metadata": {
    "collapsed": true
   },
   "outputs": [],
   "source": [
    "Random.seed!(123)\n",
    "ns = [100, 1000]         # number of individuals\n",
    "ps = 100                 # number of typed SNPs\n",
    "ds = [100, 1000, 10000]  # number of reference haplotypes\n",
    "for n in ns, d in ds\n",
    "    H = convert(Matrix{Float32}, rand(0:1, p, d))\n",
    "    X = convert(Matrix{Float32}, rand(0:2, p, n))\n",
    "    M = Transpose(H) * H\n",
    "    for j in 1:d, i in 1:(j - 1) # off-diagonal\n",
    "        M[i, j] = 2M[i, j] + M[i, i] + M[j, j]\n",
    "    end\n",
    "    for j in 1:d # diagonal\n",
    "        M[j, j] *= 4\n",
    "    end\n",
    "    N = Transpose(X) * H\n",
    "    for I in eachindex(N)\n",
    "        N[I] *= 2\n",
    "    end\n",
    "    happair  = zeros(Int, n), zeros(Int, n)\n",
    "    hapscore = zeros(eltype(N), n)\n",
    "    t1 = @elapsed haplopair!(happair, hapscore, M, N)\n",
    "    t2 = @elapsed haplopair2!(happair, hapscore, M, N)\n",
    "    println(\"n = $n, p = $p, d = $d time = $t\")\n",
    "end"
   ]
  },
  {
   "cell_type": "code",
   "execution_count": 13,
   "metadata": {
    "collapsed": false
   },
   "outputs": [
    {
     "data": {
      "text/plain": [
       "haplopair2! (generic function with 1 method)"
      ]
     },
     "execution_count": 13,
     "metadata": {},
     "output_type": "execute_result"
    }
   ],
   "source": [
    "# note for future self: the UpperTriangular matrix seems to be allocating. Getting rid of it\n",
    "# probably makes the resulting code the same as haplopair!\n",
    "function haplopair2!(\n",
    "    happairs::Tuple{AbstractVector, AbstractVector},\n",
    "    hapmin::Vector{T},\n",
    "    M::AbstractMatrix{T}, #upper triangular matrix\n",
    "    N::AbstractMatrix{T},\n",
    "    ons::AbstractVector{T},\n",
    "    Nk::AbstractVector{T},\n",
    "    storage::AbstractMatrix{T}\n",
    "    ) where T <: Real\n",
    "\n",
    "    n, d = size(N)\n",
    "    fill!(hapmin, typemax(T))\n",
    "\n",
    "    # for each individual k find minimum of M_ij - n_ki - n_kj\n",
    "    for k in 1:n\n",
    "        copyto!(Nk, @view(N[k, :]))\n",
    "        storage .= M .- UpperTriangular(Nk .* ons') .- UpperTriangular(ons .* Nk')\n",
    "        hapmin[k], index = findmin(storage)\n",
    "        happairs[1][k], happairs[2][k] = index[1], index[2]\n",
    "    end\n",
    "\n",
    "    return nothing\n",
    "end"
   ]
  },
  {
   "cell_type": "code",
   "execution_count": 9,
   "metadata": {
    "collapsed": false
   },
   "outputs": [],
   "source": [
    "using Random, LinearAlgebra, MendelImpute"
   ]
  },
  {
   "cell_type": "code",
   "execution_count": 14,
   "metadata": {
    "collapsed": false
   },
   "outputs": [
    {
     "name": "stdout",
     "output_type": "stream",
     "text": [
      "  0.143195 seconds (4 allocations: 160 bytes)\n",
      "  3.116689 seconds (1.29 M allocations: 3.040 GiB, 9.63% gc time)\n"
     ]
    }
   ],
   "source": [
    "Random.seed!(123)\n",
    "# ns = [100, 1000]         # number of individuals\n",
    "# ps = 100                 # number of typed SNPs\n",
    "# ds = [100, 1000, 10000]  # number of reference haplotypes\n",
    "\n",
    "n = p = 100\n",
    "d = 2000\n",
    "\n",
    "H = convert(Matrix{Float32}, rand(0:1, p, d))\n",
    "X = convert(Matrix{Float32}, rand(0:2, p, n))\n",
    "M = Transpose(H) * H\n",
    "for j in 1:d, i in 1:(j - 1) # off-diagonal\n",
    "    M[i, j] = 2M[i, j] + M[i, i] + M[j, j]\n",
    "end\n",
    "for j in 1:d # diagonal\n",
    "    M[j, j] *= 4\n",
    "end\n",
    "N = Transpose(X) * H\n",
    "for I in eachindex(N)\n",
    "    N[I] *= 2\n",
    "end\n",
    "happair1 = zeros(Int, n), zeros(Int, n)\n",
    "happair2 = zeros(Int, n), zeros(Int, n)\n",
    "hapscore1 = zeros(eltype(N), n)\n",
    "hapscore2 = zeros(eltype(N), n)\n",
    "\n",
    "ons = ones(Float32, d)\n",
    "Nk = zeros(Float32, d)\n",
    "storage = zeros(Float32, d, d)\n",
    "\n",
    "@time haplopair!(happair1, hapscore1, M, N)\n",
    "@time haplopair2!(happair2, hapscore2, M, N, ons, Nk, storage)"
   ]
  },
  {
   "cell_type": "code",
   "execution_count": 15,
   "metadata": {
    "collapsed": false
   },
   "outputs": [
    {
     "data": {
      "text/plain": [
       "([534, 84, 490, 386, 99, 1602, 1221, 29, 681, 143  …  1129, 403, 155, 903, 136, 18, 470, 255, 267, 598], [1272, 459, 1285, 1004, 1390, 1738, 1551, 550, 1466, 755  …  1130, 930, 1786, 965, 1357, 1801, 1252, 1228, 1440, 1005])"
      ]
     },
     "execution_count": 15,
     "metadata": {},
     "output_type": "execute_result"
    }
   ],
   "source": [
    "happair1"
   ]
  },
  {
   "cell_type": "code",
   "execution_count": 16,
   "metadata": {
    "collapsed": false
   },
   "outputs": [
    {
     "data": {
      "text/plain": [
       "([534, 84, 490, 386, 99, 1602, 1221, 29, 681, 143  …  1129, 403, 155, 903, 136, 18, 470, 255, 267, 598], [1272, 459, 1285, 1004, 1390, 1738, 1551, 550, 1466, 755  …  1130, 930, 1786, 965, 1357, 1801, 1252, 1228, 1440, 1005])"
      ]
     },
     "execution_count": 16,
     "metadata": {},
     "output_type": "execute_result"
    }
   ],
   "source": [
    "happair2"
   ]
  },
  {
   "cell_type": "markdown",
   "metadata": {},
   "source": [
    "# Try using Distance package"
   ]
  },
  {
   "cell_type": "code",
   "execution_count": 5,
   "metadata": {
    "collapsed": false
   },
   "outputs": [],
   "source": [
    "Random.seed!(123)\n",
    "\n",
    "n = 100\n",
    "p = 100\n",
    "d = 1000\n",
    "\n",
    "H = bitrand(p, d)\n",
    "X = Matrix{Union{UInt8, Missing}}(rand(UInt8, p, n));"
   ]
  },
  {
   "cell_type": "code",
   "execution_count": 6,
   "metadata": {
    "collapsed": false
   },
   "outputs": [
    {
     "name": "stdout",
     "output_type": "stream",
     "text": [
      "  0.137546 seconds (175.80 k allocations: 13.487 MiB, 8.08% gc time)\n"
     ]
    },
    {
     "data": {
      "text/plain": [
       "(([860, 340, 340, 340, 340, 197, 340, 340, 340, 340  …  340, 340, 229, 340, 193, 340, 583, 197, 340, 340], [860, 340, 728, 340, 340, 197, 765, 340, 340, 340  …  340, 340, 229, 340, 845, 340, 583, 197, 340, 340]), Float32[2.208377e6, 2.084862e6, 2.254124e6, 1.995901e6, 2.365823e6, 2.214043e6, 1.976373e6, 2.180052e6, 2.245112e6, 1.936614e6  …  1.906484e6, 1.976561e6, 1.964542e6, 2.255616e6, 2.217225e6, 2.072651e6, 2.211937e6, 2.235235e6, 2.138406e6, 2.203285e6])"
      ]
     },
     "execution_count": 6,
     "metadata": {},
     "output_type": "execute_result"
    }
   ],
   "source": [
    "@time happairs, hapscore = haplopair(X, H)"
   ]
  },
  {
   "cell_type": "code",
   "execution_count": 7,
   "metadata": {
    "collapsed": false
   },
   "outputs": [
    {
     "name": "stdout",
     "output_type": "stream",
     "text": [
      "  0.318573 seconds (165.28 k allocations: 13.325 MiB)\n"
     ]
    },
    {
     "data": {
      "text/plain": [
       "(([860, 340, 728, 340, 340, 197, 340, 340, 340, 340  …  340, 340, 229, 340, 193, 340, 583, 197, 340, 340], [860, 340, 340, 340, 340, 197, 765, 340, 340, 340  …  340, 340, 229, 340, 845, 340, 583, 197, 340, 340]), Float32[2.208377e6, 2.084862e6, 2.254124e6, 1.995901e6, 2.365823e6, 2.214043e6, 1.976373e6, 2.180052e6, 2.245112e6, 1.936614e6  …  1.906484e6, 1.976561e6, 1.964542e6, 2.255616e6, 2.217225e6, 2.072651e6, 2.211937e6, 2.235235e6, 2.138406e6, 2.203285e6])"
      ]
     },
     "execution_count": 7,
     "metadata": {},
     "output_type": "execute_result"
    }
   ],
   "source": [
    "@time happairs, hapscore = haplopair_thin(X, H, keep = 1000)"
   ]
  },
  {
   "cell_type": "code",
   "execution_count": 8,
   "metadata": {
    "collapsed": false
   },
   "outputs": [
    {
     "name": "stdout",
     "output_type": "stream",
     "text": [
      "  0.021463 seconds (100.43 k allocations: 5.860 MiB)\n"
     ]
    },
    {
     "data": {
      "text/plain": [
       "(([16, 133, 16, 79, 4, 133, 98, 229, 79, 340  …  16, 4, 79, 143, 164, 16, 133, 54, 193, 79], [16, 133, 16, 79, 4, 169, 98, 229, 79, 340  …  16, 4, 79, 143, 164, 16, 133, 54, 193, 79]), Float32[2.211473e6, 2.089394e6, 2.258094e6, 1.999909e6, 2.369783e6, 2.218648e6, 1.980113e6, 2.181852e6, 2.2493e6, 1.936614e6  …  1.90824e6, 1.979109e6, 1.969238e6, 2.260148e6, 2.218616e6, 2.077211e6, 2.215713e6, 2.238991e6, 2.140286e6, 2.206365e6])"
      ]
     },
     "execution_count": 8,
     "metadata": {},
     "output_type": "execute_result"
    }
   ],
   "source": [
    "@time happairs, hapscore = haplopair_thin(X, H, keep = 100)"
   ]
  },
  {
   "cell_type": "code",
   "execution_count": 29,
   "metadata": {
    "collapsed": false
   },
   "outputs": [],
   "source": [
    "linsp = 100:1000:11000\n",
    "t1 = zeros(length(linsp))\n",
    "t2 = zeros(length(linsp))\n",
    "n = 100\n",
    "p = 100\n",
    "\n",
    "Random.seed!(2020)\n",
    "for (i, d) in enumerate(linsp)\n",
    "    H = bitrand(p, d)\n",
    "    X = Matrix{Union{UInt8, Missing}}(rand(UInt8, p, n));\n",
    "    t1[i] = @elapsed haplopair(X, H)\n",
    "    t2[i] = @elapsed haplopair_thin(X, H, keep = 100)\n",
    "end"
   ]
  },
  {
   "cell_type": "code",
   "execution_count": 30,
   "metadata": {
    "collapsed": false
   },
   "outputs": [
    {
     "data": {
      "image/svg+xml": [
       "<?xml version=\"1.0\" encoding=\"utf-8\"?>\n",
       "<svg xmlns=\"http://www.w3.org/2000/svg\" xmlns:xlink=\"http://www.w3.org/1999/xlink\" width=\"600\" height=\"400\" viewBox=\"0 0 2400 1600\">\n",
       "<defs>\n",
       "  <clipPath id=\"clip0600\">\n",
       "    <rect x=\"0\" y=\"0\" width=\"2400\" height=\"1600\"/>\n",
       "  </clipPath>\n",
       "</defs>\n",
       "<path clip-path=\"url(#clip0600)\" d=\"\n",
       "M0 1600 L2400 1600 L2400 0 L0 0  Z\n",
       "  \" fill=\"#ffffff\" fill-rule=\"evenodd\" fill-opacity=\"1\"/>\n",
       "<defs>\n",
       "  <clipPath id=\"clip0601\">\n",
       "    <rect x=\"480\" y=\"0\" width=\"1681\" height=\"1600\"/>\n",
       "  </clipPath>\n",
       "</defs>\n",
       "<path clip-path=\"url(#clip0600)\" d=\"\n",
       "M175.611 1425.62 L2352.76 1425.62 L2352.76 121.675 L175.611 121.675  Z\n",
       "  \" fill=\"#ffffff\" fill-rule=\"evenodd\" fill-opacity=\"1\"/>\n",
       "<defs>\n",
       "  <clipPath id=\"clip0602\">\n",
       "    <rect x=\"175\" y=\"121\" width=\"2178\" height=\"1305\"/>\n",
       "  </clipPath>\n",
       "</defs>\n",
       "<polyline clip-path=\"url(#clip0602)\" style=\"stroke:#000000; stroke-width:2; stroke-opacity:0.1; fill:none\" points=\"\n",
       "  216.689,1425.62 216.689,121.675 \n",
       "  \"/>\n",
       "<polyline clip-path=\"url(#clip0602)\" style=\"stroke:#000000; stroke-width:2; stroke-opacity:0.1; fill:none\" points=\"\n",
       "  730.166,1425.62 730.166,121.675 \n",
       "  \"/>\n",
       "<polyline clip-path=\"url(#clip0602)\" style=\"stroke:#000000; stroke-width:2; stroke-opacity:0.1; fill:none\" points=\"\n",
       "  1243.64,1425.62 1243.64,121.675 \n",
       "  \"/>\n",
       "<polyline clip-path=\"url(#clip0602)\" style=\"stroke:#000000; stroke-width:2; stroke-opacity:0.1; fill:none\" points=\"\n",
       "  1757.12,1425.62 1757.12,121.675 \n",
       "  \"/>\n",
       "<polyline clip-path=\"url(#clip0602)\" style=\"stroke:#000000; stroke-width:2; stroke-opacity:0.1; fill:none\" points=\"\n",
       "  2270.6,1425.62 2270.6,121.675 \n",
       "  \"/>\n",
       "<polyline clip-path=\"url(#clip0602)\" style=\"stroke:#000000; stroke-width:2; stroke-opacity:0.1; fill:none\" points=\"\n",
       "  175.611,1388.89 2352.76,1388.89 \n",
       "  \"/>\n",
       "<polyline clip-path=\"url(#clip0602)\" style=\"stroke:#000000; stroke-width:2; stroke-opacity:0.1; fill:none\" points=\"\n",
       "  175.611,1140.73 2352.76,1140.73 \n",
       "  \"/>\n",
       "<polyline clip-path=\"url(#clip0602)\" style=\"stroke:#000000; stroke-width:2; stroke-opacity:0.1; fill:none\" points=\"\n",
       "  175.611,892.573 2352.76,892.573 \n",
       "  \"/>\n",
       "<polyline clip-path=\"url(#clip0602)\" style=\"stroke:#000000; stroke-width:2; stroke-opacity:0.1; fill:none\" points=\"\n",
       "  175.611,644.416 2352.76,644.416 \n",
       "  \"/>\n",
       "<polyline clip-path=\"url(#clip0602)\" style=\"stroke:#000000; stroke-width:2; stroke-opacity:0.1; fill:none\" points=\"\n",
       "  175.611,396.26 2352.76,396.26 \n",
       "  \"/>\n",
       "<polyline clip-path=\"url(#clip0602)\" style=\"stroke:#000000; stroke-width:2; stroke-opacity:0.1; fill:none\" points=\"\n",
       "  175.611,148.103 2352.76,148.103 \n",
       "  \"/>\n",
       "<polyline clip-path=\"url(#clip0600)\" style=\"stroke:#000000; stroke-width:4; stroke-opacity:1; fill:none\" points=\"\n",
       "  175.611,1425.62 2352.76,1425.62 \n",
       "  \"/>\n",
       "<polyline clip-path=\"url(#clip0600)\" style=\"stroke:#000000; stroke-width:4; stroke-opacity:1; fill:none\" points=\"\n",
       "  175.611,1425.62 175.611,121.675 \n",
       "  \"/>\n",
       "<polyline clip-path=\"url(#clip0600)\" style=\"stroke:#000000; stroke-width:4; stroke-opacity:1; fill:none\" points=\"\n",
       "  216.689,1425.62 216.689,1409.97 \n",
       "  \"/>\n",
       "<polyline clip-path=\"url(#clip0600)\" style=\"stroke:#000000; stroke-width:4; stroke-opacity:1; fill:none\" points=\"\n",
       "  730.166,1425.62 730.166,1409.97 \n",
       "  \"/>\n",
       "<polyline clip-path=\"url(#clip0600)\" style=\"stroke:#000000; stroke-width:4; stroke-opacity:1; fill:none\" points=\"\n",
       "  1243.64,1425.62 1243.64,1409.97 \n",
       "  \"/>\n",
       "<polyline clip-path=\"url(#clip0600)\" style=\"stroke:#000000; stroke-width:4; stroke-opacity:1; fill:none\" points=\"\n",
       "  1757.12,1425.62 1757.12,1409.97 \n",
       "  \"/>\n",
       "<polyline clip-path=\"url(#clip0600)\" style=\"stroke:#000000; stroke-width:4; stroke-opacity:1; fill:none\" points=\"\n",
       "  2270.6,1425.62 2270.6,1409.97 \n",
       "  \"/>\n",
       "<polyline clip-path=\"url(#clip0600)\" style=\"stroke:#000000; stroke-width:4; stroke-opacity:1; fill:none\" points=\"\n",
       "  175.611,1388.89 201.736,1388.89 \n",
       "  \"/>\n",
       "<polyline clip-path=\"url(#clip0600)\" style=\"stroke:#000000; stroke-width:4; stroke-opacity:1; fill:none\" points=\"\n",
       "  175.611,1140.73 201.736,1140.73 \n",
       "  \"/>\n",
       "<polyline clip-path=\"url(#clip0600)\" style=\"stroke:#000000; stroke-width:4; stroke-opacity:1; fill:none\" points=\"\n",
       "  175.611,892.573 201.736,892.573 \n",
       "  \"/>\n",
       "<polyline clip-path=\"url(#clip0600)\" style=\"stroke:#000000; stroke-width:4; stroke-opacity:1; fill:none\" points=\"\n",
       "  175.611,644.416 201.736,644.416 \n",
       "  \"/>\n",
       "<polyline clip-path=\"url(#clip0600)\" style=\"stroke:#000000; stroke-width:4; stroke-opacity:1; fill:none\" points=\"\n",
       "  175.611,396.26 201.736,396.26 \n",
       "  \"/>\n",
       "<polyline clip-path=\"url(#clip0600)\" style=\"stroke:#000000; stroke-width:4; stroke-opacity:1; fill:none\" points=\"\n",
       "  175.611,148.103 201.736,148.103 \n",
       "  \"/>\n",
       "<g clip-path=\"url(#clip0600)\">\n",
       "<text style=\"fill:#000000; fill-opacity:1; font-family:Arial,Helvetica Neue,Helvetica,sans-serif; font-size:48px; text-anchor:middle;\" transform=\"rotate(0, 216.689, 1479.62)\" x=\"216.689\" y=\"1479.62\">0</text>\n",
       "</g>\n",
       "<g clip-path=\"url(#clip0600)\">\n",
       "<text style=\"fill:#000000; fill-opacity:1; font-family:Arial,Helvetica Neue,Helvetica,sans-serif; font-size:48px; text-anchor:middle;\" transform=\"rotate(0, 730.166, 1479.62)\" x=\"730.166\" y=\"1479.62\">2500</text>\n",
       "</g>\n",
       "<g clip-path=\"url(#clip0600)\">\n",
       "<text style=\"fill:#000000; fill-opacity:1; font-family:Arial,Helvetica Neue,Helvetica,sans-serif; font-size:48px; text-anchor:middle;\" transform=\"rotate(0, 1243.64, 1479.62)\" x=\"1243.64\" y=\"1479.62\">5000</text>\n",
       "</g>\n",
       "<g clip-path=\"url(#clip0600)\">\n",
       "<text style=\"fill:#000000; fill-opacity:1; font-family:Arial,Helvetica Neue,Helvetica,sans-serif; font-size:48px; text-anchor:middle;\" transform=\"rotate(0, 1757.12, 1479.62)\" x=\"1757.12\" y=\"1479.62\">7500</text>\n",
       "</g>\n",
       "<g clip-path=\"url(#clip0600)\">\n",
       "<text style=\"fill:#000000; fill-opacity:1; font-family:Arial,Helvetica Neue,Helvetica,sans-serif; font-size:48px; text-anchor:middle;\" transform=\"rotate(0, 2270.6, 1479.62)\" x=\"2270.6\" y=\"1479.62\">10000</text>\n",
       "</g>\n",
       "<g clip-path=\"url(#clip0600)\">\n",
       "<text style=\"fill:#000000; fill-opacity:1; font-family:Arial,Helvetica Neue,Helvetica,sans-serif; font-size:48px; text-anchor:end;\" transform=\"rotate(0, 151.611, 1406.39)\" x=\"151.611\" y=\"1406.39\">0</text>\n",
       "</g>\n",
       "<g clip-path=\"url(#clip0600)\">\n",
       "<text style=\"fill:#000000; fill-opacity:1; font-family:Arial,Helvetica Neue,Helvetica,sans-serif; font-size:48px; text-anchor:end;\" transform=\"rotate(0, 151.611, 1158.23)\" x=\"151.611\" y=\"1158.23\">1</text>\n",
       "</g>\n",
       "<g clip-path=\"url(#clip0600)\">\n",
       "<text style=\"fill:#000000; fill-opacity:1; font-family:Arial,Helvetica Neue,Helvetica,sans-serif; font-size:48px; text-anchor:end;\" transform=\"rotate(0, 151.611, 910.073)\" x=\"151.611\" y=\"910.073\">2</text>\n",
       "</g>\n",
       "<g clip-path=\"url(#clip0600)\">\n",
       "<text style=\"fill:#000000; fill-opacity:1; font-family:Arial,Helvetica Neue,Helvetica,sans-serif; font-size:48px; text-anchor:end;\" transform=\"rotate(0, 151.611, 661.916)\" x=\"151.611\" y=\"661.916\">3</text>\n",
       "</g>\n",
       "<g clip-path=\"url(#clip0600)\">\n",
       "<text style=\"fill:#000000; fill-opacity:1; font-family:Arial,Helvetica Neue,Helvetica,sans-serif; font-size:48px; text-anchor:end;\" transform=\"rotate(0, 151.611, 413.76)\" x=\"151.611\" y=\"413.76\">4</text>\n",
       "</g>\n",
       "<g clip-path=\"url(#clip0600)\">\n",
       "<text style=\"fill:#000000; fill-opacity:1; font-family:Arial,Helvetica Neue,Helvetica,sans-serif; font-size:48px; text-anchor:end;\" transform=\"rotate(0, 151.611, 165.603)\" x=\"151.611\" y=\"165.603\">5</text>\n",
       "</g>\n",
       "<g clip-path=\"url(#clip0600)\">\n",
       "<text style=\"fill:#000000; fill-opacity:1; font-family:Arial,Helvetica Neue,Helvetica,sans-serif; font-size:84px; text-anchor:middle;\" transform=\"rotate(0, 1264.18, 73.2)\" x=\"1264.18\" y=\"73.2\">100 samples, 100 typed SNPs (per window)</text>\n",
       "</g>\n",
       "<g clip-path=\"url(#clip0600)\">\n",
       "<text style=\"fill:#000000; fill-opacity:1; font-family:Arial,Helvetica Neue,Helvetica,sans-serif; font-size:66px; text-anchor:middle;\" transform=\"rotate(0, 1264.18, 1559.48)\" x=\"1264.18\" y=\"1559.48\">Number of haplotypes</text>\n",
       "</g>\n",
       "<g clip-path=\"url(#clip0600)\">\n",
       "<text style=\"fill:#000000; fill-opacity:1; font-family:Arial,Helvetica Neue,Helvetica,sans-serif; font-size:66px; text-anchor:middle;\" transform=\"rotate(-90, 89.2861, 773.647)\" x=\"89.2861\" y=\"773.647\">Seconds</text>\n",
       "</g>\n",
       "<polyline clip-path=\"url(#clip0602)\" style=\"stroke:#009af9; stroke-width:4; stroke-opacity:1; fill:none\" points=\"\n",
       "  237.228,1388.71 442.619,1372.77 648.01,1332.01 853.401,1273.58 1058.79,1185.08 1264.18,1046.75 1469.57,922.166 1674.97,754.605 1880.36,587.927 2085.75,378.463 \n",
       "  2291.14,158.579 \n",
       "  \"/>\n",
       "<polyline clip-path=\"url(#clip0602)\" style=\"stroke:#e26f46; stroke-width:4; stroke-opacity:1; fill:none\" points=\"\n",
       "  237.228,1386.46 442.619,1383.04 648.01,1380.28 853.401,1377.47 1058.79,1373.94 1264.18,1369.75 1469.57,1366.56 1674.97,1365.2 1880.36,1362.17 2085.75,1347.03 \n",
       "  2291.14,1349.8 \n",
       "  \"/>\n",
       "<path clip-path=\"url(#clip0600)\" d=\"\n",
       "M1286.36 386.635 L2280.76 386.635 L2280.76 205.195 L1286.36 205.195  Z\n",
       "  \" fill=\"#ffffff\" fill-rule=\"evenodd\" fill-opacity=\"1\"/>\n",
       "<polyline clip-path=\"url(#clip0600)\" style=\"stroke:#000000; stroke-width:4; stroke-opacity:1; fill:none\" points=\"\n",
       "  1286.36,386.635 2280.76,386.635 2280.76,205.195 1286.36,205.195 1286.36,386.635 \n",
       "  \"/>\n",
       "<polyline clip-path=\"url(#clip0600)\" style=\"stroke:#009af9; stroke-width:4; stroke-opacity:1; fill:none\" points=\"\n",
       "  1310.36,265.675 1454.36,265.675 \n",
       "  \"/>\n",
       "<g clip-path=\"url(#clip0600)\">\n",
       "<text style=\"fill:#000000; fill-opacity:1; font-family:Arial,Helvetica Neue,Helvetica,sans-serif; font-size:48px; text-anchor:start;\" transform=\"rotate(0, 1478.36, 283.175)\" x=\"1478.36\" y=\"283.175\">Original search time</text>\n",
       "</g>\n",
       "<polyline clip-path=\"url(#clip0600)\" style=\"stroke:#e26f46; stroke-width:4; stroke-opacity:1; fill:none\" points=\"\n",
       "  1310.36,326.155 1454.36,326.155 \n",
       "  \"/>\n",
       "<g clip-path=\"url(#clip0600)\">\n",
       "<text style=\"fill:#000000; fill-opacity:1; font-family:Arial,Helvetica Neue,Helvetica,sans-serif; font-size:48px; text-anchor:start;\" transform=\"rotate(0, 1478.36, 343.655)\" x=\"1478.36\" y=\"343.655\">Reduced search space search time</text>\n",
       "</g>\n",
       "</svg>\n"
      ]
     },
     "execution_count": 30,
     "metadata": {},
     "output_type": "execute_result"
    }
   ],
   "source": [
    "using Plots\n",
    "x = plot(linsp, t1, title=\"100 samples, 100 typed SNPs (per window)\",\n",
    "    label=\"Original search time\", ylabel=\"Seconds\", xlabel=\"Number of haplotypes\")\n",
    "plot!(x, linsp, t2, label=\"Reduced search space search time\")"
   ]
  },
  {
   "cell_type": "code",
   "execution_count": 17,
   "metadata": {
    "collapsed": false
   },
   "outputs": [
    {
     "data": {
      "image/svg+xml": [
       "<?xml version=\"1.0\" encoding=\"utf-8\"?>\n",
       "<svg xmlns=\"http://www.w3.org/2000/svg\" xmlns:xlink=\"http://www.w3.org/1999/xlink\" width=\"600\" height=\"400\" viewBox=\"0 0 2400 1600\">\n",
       "<defs>\n",
       "  <clipPath id=\"clip8200\">\n",
       "    <rect x=\"0\" y=\"0\" width=\"2400\" height=\"1600\"/>\n",
       "  </clipPath>\n",
       "</defs>\n",
       "<path clip-path=\"url(#clip8200)\" d=\"\n",
       "M0 1600 L2400 1600 L2400 0 L0 0  Z\n",
       "  \" fill=\"#ffffff\" fill-rule=\"evenodd\" fill-opacity=\"1\"/>\n",
       "<defs>\n",
       "  <clipPath id=\"clip8201\">\n",
       "    <rect x=\"480\" y=\"0\" width=\"1681\" height=\"1600\"/>\n",
       "  </clipPath>\n",
       "</defs>\n",
       "<path clip-path=\"url(#clip8200)\" d=\"\n",
       "M242.516 1425.62 L2352.76 1425.62 L2352.76 121.675 L242.516 121.675  Z\n",
       "  \" fill=\"#ffffff\" fill-rule=\"evenodd\" fill-opacity=\"1\"/>\n",
       "<defs>\n",
       "  <clipPath id=\"clip8202\">\n",
       "    <rect x=\"242\" y=\"121\" width=\"2111\" height=\"1305\"/>\n",
       "  </clipPath>\n",
       "</defs>\n",
       "<polyline clip-path=\"url(#clip8202)\" style=\"stroke:#000000; stroke-width:2; stroke-opacity:0.1; fill:none\" points=\"\n",
       "  523.439,1425.62 523.439,121.675 \n",
       "  \"/>\n",
       "<polyline clip-path=\"url(#clip8202)\" style=\"stroke:#000000; stroke-width:2; stroke-opacity:0.1; fill:none\" points=\"\n",
       "  965.838,1425.62 965.838,121.675 \n",
       "  \"/>\n",
       "<polyline clip-path=\"url(#clip8202)\" style=\"stroke:#000000; stroke-width:2; stroke-opacity:0.1; fill:none\" points=\"\n",
       "  1408.24,1425.62 1408.24,121.675 \n",
       "  \"/>\n",
       "<polyline clip-path=\"url(#clip8202)\" style=\"stroke:#000000; stroke-width:2; stroke-opacity:0.1; fill:none\" points=\"\n",
       "  1850.63,1425.62 1850.63,121.675 \n",
       "  \"/>\n",
       "<polyline clip-path=\"url(#clip8202)\" style=\"stroke:#000000; stroke-width:2; stroke-opacity:0.1; fill:none\" points=\"\n",
       "  2293.03,1425.62 2293.03,121.675 \n",
       "  \"/>\n",
       "<polyline clip-path=\"url(#clip8202)\" style=\"stroke:#000000; stroke-width:2; stroke-opacity:0.1; fill:none\" points=\"\n",
       "  242.516,1405.62 2352.76,1405.62 \n",
       "  \"/>\n",
       "<polyline clip-path=\"url(#clip8202)\" style=\"stroke:#000000; stroke-width:2; stroke-opacity:0.1; fill:none\" points=\"\n",
       "  242.516,1164.27 2352.76,1164.27 \n",
       "  \"/>\n",
       "<polyline clip-path=\"url(#clip8202)\" style=\"stroke:#000000; stroke-width:2; stroke-opacity:0.1; fill:none\" points=\"\n",
       "  242.516,922.925 2352.76,922.925 \n",
       "  \"/>\n",
       "<polyline clip-path=\"url(#clip8202)\" style=\"stroke:#000000; stroke-width:2; stroke-opacity:0.1; fill:none\" points=\"\n",
       "  242.516,681.576 2352.76,681.576 \n",
       "  \"/>\n",
       "<polyline clip-path=\"url(#clip8202)\" style=\"stroke:#000000; stroke-width:2; stroke-opacity:0.1; fill:none\" points=\"\n",
       "  242.516,440.228 2352.76,440.228 \n",
       "  \"/>\n",
       "<polyline clip-path=\"url(#clip8202)\" style=\"stroke:#000000; stroke-width:2; stroke-opacity:0.1; fill:none\" points=\"\n",
       "  242.516,198.879 2352.76,198.879 \n",
       "  \"/>\n",
       "<polyline clip-path=\"url(#clip8200)\" style=\"stroke:#000000; stroke-width:4; stroke-opacity:1; fill:none\" points=\"\n",
       "  242.516,1425.62 2352.76,1425.62 \n",
       "  \"/>\n",
       "<polyline clip-path=\"url(#clip8200)\" style=\"stroke:#000000; stroke-width:4; stroke-opacity:1; fill:none\" points=\"\n",
       "  242.516,1425.62 242.516,121.675 \n",
       "  \"/>\n",
       "<polyline clip-path=\"url(#clip8200)\" style=\"stroke:#000000; stroke-width:4; stroke-opacity:1; fill:none\" points=\"\n",
       "  523.439,1425.62 523.439,1409.97 \n",
       "  \"/>\n",
       "<polyline clip-path=\"url(#clip8200)\" style=\"stroke:#000000; stroke-width:4; stroke-opacity:1; fill:none\" points=\"\n",
       "  965.838,1425.62 965.838,1409.97 \n",
       "  \"/>\n",
       "<polyline clip-path=\"url(#clip8200)\" style=\"stroke:#000000; stroke-width:4; stroke-opacity:1; fill:none\" points=\"\n",
       "  1408.24,1425.62 1408.24,1409.97 \n",
       "  \"/>\n",
       "<polyline clip-path=\"url(#clip8200)\" style=\"stroke:#000000; stroke-width:4; stroke-opacity:1; fill:none\" points=\"\n",
       "  1850.63,1425.62 1850.63,1409.97 \n",
       "  \"/>\n",
       "<polyline clip-path=\"url(#clip8200)\" style=\"stroke:#000000; stroke-width:4; stroke-opacity:1; fill:none\" points=\"\n",
       "  2293.03,1425.62 2293.03,1409.97 \n",
       "  \"/>\n",
       "<polyline clip-path=\"url(#clip8200)\" style=\"stroke:#000000; stroke-width:4; stroke-opacity:1; fill:none\" points=\"\n",
       "  242.516,1405.62 267.839,1405.62 \n",
       "  \"/>\n",
       "<polyline clip-path=\"url(#clip8200)\" style=\"stroke:#000000; stroke-width:4; stroke-opacity:1; fill:none\" points=\"\n",
       "  242.516,1164.27 267.839,1164.27 \n",
       "  \"/>\n",
       "<polyline clip-path=\"url(#clip8200)\" style=\"stroke:#000000; stroke-width:4; stroke-opacity:1; fill:none\" points=\"\n",
       "  242.516,922.925 267.839,922.925 \n",
       "  \"/>\n",
       "<polyline clip-path=\"url(#clip8200)\" style=\"stroke:#000000; stroke-width:4; stroke-opacity:1; fill:none\" points=\"\n",
       "  242.516,681.576 267.839,681.576 \n",
       "  \"/>\n",
       "<polyline clip-path=\"url(#clip8200)\" style=\"stroke:#000000; stroke-width:4; stroke-opacity:1; fill:none\" points=\"\n",
       "  242.516,440.228 267.839,440.228 \n",
       "  \"/>\n",
       "<polyline clip-path=\"url(#clip8200)\" style=\"stroke:#000000; stroke-width:4; stroke-opacity:1; fill:none\" points=\"\n",
       "  242.516,198.879 267.839,198.879 \n",
       "  \"/>\n",
       "<g clip-path=\"url(#clip8200)\">\n",
       "<text style=\"fill:#000000; fill-opacity:1; font-family:Arial,Helvetica Neue,Helvetica,sans-serif; font-size:48px; text-anchor:middle;\" transform=\"rotate(0, 523.439, 1479.62)\" x=\"523.439\" y=\"1479.62\">200</text>\n",
       "</g>\n",
       "<g clip-path=\"url(#clip8200)\">\n",
       "<text style=\"fill:#000000; fill-opacity:1; font-family:Arial,Helvetica Neue,Helvetica,sans-serif; font-size:48px; text-anchor:middle;\" transform=\"rotate(0, 965.838, 1479.62)\" x=\"965.838\" y=\"1479.62\">400</text>\n",
       "</g>\n",
       "<g clip-path=\"url(#clip8200)\">\n",
       "<text style=\"fill:#000000; fill-opacity:1; font-family:Arial,Helvetica Neue,Helvetica,sans-serif; font-size:48px; text-anchor:middle;\" transform=\"rotate(0, 1408.24, 1479.62)\" x=\"1408.24\" y=\"1479.62\">600</text>\n",
       "</g>\n",
       "<g clip-path=\"url(#clip8200)\">\n",
       "<text style=\"fill:#000000; fill-opacity:1; font-family:Arial,Helvetica Neue,Helvetica,sans-serif; font-size:48px; text-anchor:middle;\" transform=\"rotate(0, 1850.63, 1479.62)\" x=\"1850.63\" y=\"1479.62\">800</text>\n",
       "</g>\n",
       "<g clip-path=\"url(#clip8200)\">\n",
       "<text style=\"fill:#000000; fill-opacity:1; font-family:Arial,Helvetica Neue,Helvetica,sans-serif; font-size:48px; text-anchor:middle;\" transform=\"rotate(0, 2293.03, 1479.62)\" x=\"2293.03\" y=\"1479.62\">1000</text>\n",
       "</g>\n",
       "<g clip-path=\"url(#clip8200)\">\n",
       "<text style=\"fill:#000000; fill-opacity:1; font-family:Arial,Helvetica Neue,Helvetica,sans-serif; font-size:48px; text-anchor:end;\" transform=\"rotate(0, 218.516, 1423.12)\" x=\"218.516\" y=\"1423.12\">0.00</text>\n",
       "</g>\n",
       "<g clip-path=\"url(#clip8200)\">\n",
       "<text style=\"fill:#000000; fill-opacity:1; font-family:Arial,Helvetica Neue,Helvetica,sans-serif; font-size:48px; text-anchor:end;\" transform=\"rotate(0, 218.516, 1181.77)\" x=\"218.516\" y=\"1181.77\">0.01</text>\n",
       "</g>\n",
       "<g clip-path=\"url(#clip8200)\">\n",
       "<text style=\"fill:#000000; fill-opacity:1; font-family:Arial,Helvetica Neue,Helvetica,sans-serif; font-size:48px; text-anchor:end;\" transform=\"rotate(0, 218.516, 940.425)\" x=\"218.516\" y=\"940.425\">0.02</text>\n",
       "</g>\n",
       "<g clip-path=\"url(#clip8200)\">\n",
       "<text style=\"fill:#000000; fill-opacity:1; font-family:Arial,Helvetica Neue,Helvetica,sans-serif; font-size:48px; text-anchor:end;\" transform=\"rotate(0, 218.516, 699.076)\" x=\"218.516\" y=\"699.076\">0.03</text>\n",
       "</g>\n",
       "<g clip-path=\"url(#clip8200)\">\n",
       "<text style=\"fill:#000000; fill-opacity:1; font-family:Arial,Helvetica Neue,Helvetica,sans-serif; font-size:48px; text-anchor:end;\" transform=\"rotate(0, 218.516, 457.728)\" x=\"218.516\" y=\"457.728\">0.04</text>\n",
       "</g>\n",
       "<g clip-path=\"url(#clip8200)\">\n",
       "<text style=\"fill:#000000; fill-opacity:1; font-family:Arial,Helvetica Neue,Helvetica,sans-serif; font-size:48px; text-anchor:end;\" transform=\"rotate(0, 218.516, 216.379)\" x=\"218.516\" y=\"216.379\">0.05</text>\n",
       "</g>\n",
       "<g clip-path=\"url(#clip8200)\">\n",
       "<text style=\"fill:#000000; fill-opacity:1; font-family:Arial,Helvetica Neue,Helvetica,sans-serif; font-size:84px; text-anchor:middle;\" transform=\"rotate(0, 1297.64, 73.2)\" x=\"1297.64\" y=\"73.2\">Zoomed in</text>\n",
       "</g>\n",
       "<g clip-path=\"url(#clip8200)\">\n",
       "<text style=\"fill:#000000; fill-opacity:1; font-family:Arial,Helvetica Neue,Helvetica,sans-serif; font-size:66px; text-anchor:middle;\" transform=\"rotate(0, 1297.64, 1559.48)\" x=\"1297.64\" y=\"1559.48\">Number of haplotypes</text>\n",
       "</g>\n",
       "<g clip-path=\"url(#clip8200)\">\n",
       "<text style=\"fill:#000000; fill-opacity:1; font-family:Arial,Helvetica Neue,Helvetica,sans-serif; font-size:66px; text-anchor:middle;\" transform=\"rotate(-90, 89.2861, 773.647)\" x=\"89.2861\" y=\"773.647\">Seconds</text>\n",
       "</g>\n",
       "<polyline clip-path=\"url(#clip8202)\" style=\"stroke:#009af9; stroke-width:4; stroke-opacity:1; fill:none\" points=\"\n",
       "  302.24,1388.71 523.439,1354.14 744.638,1297.71 965.838,1210.56 1187.04,1094.57 1408.24,999.216 1629.43,779.611 1850.63,644.169 2071.83,402.485 2293.03,158.579 \n",
       "  \n",
       "  \"/>\n",
       "<polyline clip-path=\"url(#clip8202)\" style=\"stroke:#e26f46; stroke-width:4; stroke-opacity:1; fill:none\" points=\"\n",
       "  302.24,1174.12 523.439,1152.04 744.638,1117.2 965.838,1081.32 1187.04,1037.16 1408.24,1001.01 1629.43,950.659 1850.63,939.027 2071.83,904.288 2293.03,871.275 \n",
       "  \n",
       "  \"/>\n",
       "<path clip-path=\"url(#clip8200)\" d=\"\n",
       "M1286.36 386.635 L2280.76 386.635 L2280.76 205.195 L1286.36 205.195  Z\n",
       "  \" fill=\"#ffffff\" fill-rule=\"evenodd\" fill-opacity=\"1\"/>\n",
       "<polyline clip-path=\"url(#clip8200)\" style=\"stroke:#000000; stroke-width:4; stroke-opacity:1; fill:none\" points=\"\n",
       "  1286.36,386.635 2280.76,386.635 2280.76,205.195 1286.36,205.195 1286.36,386.635 \n",
       "  \"/>\n",
       "<polyline clip-path=\"url(#clip8200)\" style=\"stroke:#009af9; stroke-width:4; stroke-opacity:1; fill:none\" points=\"\n",
       "  1310.36,265.675 1454.36,265.675 \n",
       "  \"/>\n",
       "<g clip-path=\"url(#clip8200)\">\n",
       "<text style=\"fill:#000000; fill-opacity:1; font-family:Arial,Helvetica Neue,Helvetica,sans-serif; font-size:48px; text-anchor:start;\" transform=\"rotate(0, 1478.36, 283.175)\" x=\"1478.36\" y=\"283.175\">Original search time</text>\n",
       "</g>\n",
       "<polyline clip-path=\"url(#clip8200)\" style=\"stroke:#e26f46; stroke-width:4; stroke-opacity:1; fill:none\" points=\"\n",
       "  1310.36,326.155 1454.36,326.155 \n",
       "  \"/>\n",
       "<g clip-path=\"url(#clip8200)\">\n",
       "<text style=\"fill:#000000; fill-opacity:1; font-family:Arial,Helvetica Neue,Helvetica,sans-serif; font-size:48px; text-anchor:start;\" transform=\"rotate(0, 1478.36, 343.655)\" x=\"1478.36\" y=\"343.655\">Reduced search space search time</text>\n",
       "</g>\n",
       "</svg>\n"
      ]
     },
     "execution_count": 17,
     "metadata": {},
     "output_type": "execute_result"
    }
   ],
   "source": [
    "# ZOOM in\n",
    "\n",
    "linsp = 100:100:1000\n",
    "t1 = zeros(length(linsp))\n",
    "t2 = zeros(length(linsp))\n",
    "n = 100\n",
    "p = 100\n",
    "\n",
    "Random.seed!(2020)\n",
    "for (i, d) in enumerate(linsp)\n",
    "    H = bitrand(p, d)\n",
    "    X = Matrix{Union{UInt8, Missing}}(rand(UInt8, p, n));\n",
    "    t1[i] = @elapsed haplopair(X, H)\n",
    "    t2[i] = @elapsed haplopair_thin(X, H, keep = 100)\n",
    "end\n",
    "y = plot(linsp, t1, title = \"Zoomed in\", label=\"Original search time\", \n",
    "    ylabel=\"Seconds\", xlabel=\"Number of haplotypes\")\n",
    "plot!(y, linsp, t2, label=\"Reduced search space search time\")"
   ]
  },
  {
   "cell_type": "code",
   "execution_count": 31,
   "metadata": {
    "collapsed": true
   },
   "outputs": [],
   "source": [
    "savefig(y, \"zoom_in.png\")\n",
    "savefig(x, \"zoom_out.png\")"
   ]
  },
  {
   "cell_type": "markdown",
   "metadata": {
    "collapsed": true
   },
   "source": [
    "# Benchmark original code"
   ]
  },
  {
   "cell_type": "code",
   "execution_count": 14,
   "metadata": {
    "collapsed": false
   },
   "outputs": [
    {
     "name": "stdout",
     "output_type": "stream",
     "text": [
      "  29.677 ms (0 allocations: 0 bytes)\n"
     ]
    }
   ],
   "source": [
    "Random.seed!(123)\n",
    "\n",
    "n = 100\n",
    "p = 100\n",
    "d = 1000\n",
    "\n",
    "M = rand(Float32, d, d)\n",
    "N = rand(Float32, n, d)\n",
    "H = convert(Matrix{Float32}, rand(0:1, p, d))\n",
    "X = convert(Matrix{Float32}, rand(0:2, p, n))\n",
    "happair1 = zeros(Int, n)\n",
    "happair2 = zeros(Int, n)\n",
    "hapscore = zeros(Float32, n)\n",
    "\n",
    "@btime haplopair!(happair1, happair2, hapscore, M, N) setup=(M=rand(Float32, d, d), N=rand(Float32, n, d))"
   ]
  },
  {
   "cell_type": "code",
   "execution_count": 12,
   "metadata": {
    "collapsed": false
   },
   "outputs": [
    {
     "name": "stdout",
     "output_type": "stream",
     "text": [
      "  35.057 ms (0 allocations: 0 bytes)\n"
     ]
    }
   ],
   "source": [
    "Random.seed!(123)\n",
    "\n",
    "n = 100\n",
    "p = 100\n",
    "d = 1000\n",
    "\n",
    "M = rand(Float32, d, d)\n",
    "N = rand(Float32, n, d)\n",
    "H = convert(Matrix{Float32}, rand(0:1, p, d))\n",
    "X = convert(Matrix{Float32}, rand(0:2, p, n))\n",
    "happairs = zeros(Int, n), zeros(Int, n)\n",
    "hapscore = zeros(Float32, n)\n",
    "\n",
    "@btime haplopair!(happairs, hapscore, M, N) setup=(M=rand(Float32, d, d), N=rand(Float32, n, d))"
   ]
  },
  {
   "cell_type": "code",
   "execution_count": null,
   "metadata": {
    "collapsed": true
   },
   "outputs": [],
   "source": []
  },
  {
   "cell_type": "code",
   "execution_count": null,
   "metadata": {
    "collapsed": true
   },
   "outputs": [],
   "source": []
  },
  {
   "cell_type": "code",
   "execution_count": null,
   "metadata": {
    "collapsed": true
   },
   "outputs": [],
   "source": []
  }
 ],
 "metadata": {
  "@webio": {
   "lastCommId": null,
   "lastKernelId": null
  },
  "kernelspec": {
   "display_name": "Julia 1.3.1",
   "language": "julia",
   "name": "julia-1.3"
  },
  "language_info": {
   "file_extension": ".jl",
   "mimetype": "application/julia",
   "name": "julia",
   "version": "1.3.1"
  },
  "toc": {
   "colors": {
    "hover_highlight": "#DAA520",
    "running_highlight": "#FF0000",
    "selected_highlight": "#FFD700"
   },
   "moveMenuLeft": true,
   "nav_menu": {
    "height": "65px",
    "width": "252px"
   },
   "navigate_menu": true,
   "number_sections": true,
   "sideBar": true,
   "threshold": 4,
   "toc_cell": false,
   "toc_section_display": "block",
   "toc_window_display": false,
   "widenNotebook": false
  }
 },
 "nbformat": 4,
 "nbformat_minor": 2
}
