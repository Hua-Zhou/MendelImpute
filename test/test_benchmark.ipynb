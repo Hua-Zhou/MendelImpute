{
 "cells": [
  {
   "cell_type": "markdown",
   "metadata": {},
   "source": [
    "# Test and Benchmark"
   ]
  },
  {
   "cell_type": "code",
   "execution_count": 1,
   "metadata": {
    "collapsed": false
   },
   "outputs": [
    {
     "name": "stdout",
     "output_type": "stream",
     "text": [
      "Julia Version 0.5.2\n",
      "Commit f4c6c9d4bb (2017-05-06 16:34 UTC)\n",
      "Platform Info:\n",
      "  OS: macOS (x86_64-apple-darwin13.4.0)\n",
      "  CPU: Intel(R) Core(TM) i7-4790K CPU @ 4.00GHz\n",
      "  WORD_SIZE: 64\n",
      "  BLAS: libopenblas (USE64BITINT DYNAMIC_ARCH NO_AFFINITY Haswell)\n",
      "  LAPACK: libopenblas64_\n",
      "  LIBM: libopenlibm\n",
      "  LLVM: libLLVM-3.7.1 (ORCJIT, haswell)\n"
     ]
    }
   ],
   "source": [
    "versioninfo()"
   ]
  },
  {
   "cell_type": "markdown",
   "metadata": {},
   "source": [
    "## Haplotyping on complete genotype data"
   ]
  },
  {
   "cell_type": "code",
   "execution_count": 2,
   "metadata": {
    "collapsed": false
   },
   "outputs": [
    {
     "name": "stdout",
     "output_type": "stream",
     "text": [
      "  0.020970 seconds (9.22 k allocations: 402.803 KB)\n"
     ]
    }
   ],
   "source": [
    "using NullableArrays, BenchmarkTools, MendelImpute\n",
    "\n",
    "srand(123)\n",
    "n, p, d = 10000, 1000, 50\n",
    "H = convert(Matrix{Float32}, rand(0:1, d, p))\n",
    "X = convert(Matrix{Float32}, rand(0:2, n, p))\n",
    "M   = A_mul_Bt(H, H)\n",
    "for j in 1:d\n",
    "    for i in 1:(j - 1)\n",
    "        M[i, j] = 2M[i, j] + M[i, i] + M[j, j]\n",
    "    end\n",
    "end\n",
    "for j in 1:d\n",
    "    M[j, j] *= 4\n",
    "end\n",
    "N   = A_mul_Bt(X, H)\n",
    "for I in eachindex(N)\n",
    "    N[I] *= 2\n",
    "end\n",
    "happair  = zeros(Int, n), zeros(Int, n)\n",
    "hapscore = zeros(eltype(N), n)\n",
    "@time haplopair!(happair, hapscore, M, N)"
   ]
  },
  {
   "cell_type": "code",
   "execution_count": 3,
   "metadata": {
    "collapsed": false
   },
   "outputs": [
    {
     "data": {
      "text/plain": [
       "([1,17,8,37,5,10,1,14,3,3  …  16,23,7,25,3,13,5,3,3,11],[16,48,12,39,21,30,42,18,18,18  …  35,26,47,50,39,35,24,17,18,43])"
      ]
     },
     "execution_count": 3,
     "metadata": {},
     "output_type": "execute_result"
    }
   ],
   "source": [
    "happair"
   ]
  },
  {
   "cell_type": "code",
   "execution_count": 4,
   "metadata": {
    "collapsed": false
   },
   "outputs": [
    {
     "data": {
      "text/plain": [
       "10000-element Array{Float32,1}:\n",
       " -611.0\n",
       " -622.0\n",
       " -629.0\n",
       " -666.0\n",
       " -569.0\n",
       " -613.0\n",
       " -640.0\n",
       " -669.0\n",
       " -550.0\n",
       " -690.0\n",
       " -665.0\n",
       " -595.0\n",
       " -621.0\n",
       "    ⋮  \n",
       " -578.0\n",
       " -595.0\n",
       " -680.0\n",
       " -546.0\n",
       " -680.0\n",
       " -528.0\n",
       " -687.0\n",
       " -587.0\n",
       " -603.0\n",
       " -646.0\n",
       " -590.0\n",
       " -613.0"
      ]
     },
     "execution_count": 4,
     "metadata": {},
     "output_type": "execute_result"
    }
   ],
   "source": [
    "hapscore"
   ]
  },
  {
   "cell_type": "code",
   "execution_count": 5,
   "metadata": {
    "collapsed": false
   },
   "outputs": [
    {
     "data": {
      "text/plain": [
       "(([1,17,8,37,5,10,1,14,3,3  …  16,23,7,25,3,13,5,3,3,11],[16,48,12,39,21,30,42,18,18,18  …  35,26,47,50,39,35,24,17,18,43]),Float32[1043.0,1056.0,1025.0,1020.0,1055.0,1059.0,1070.0,1043.0,1039.0,1029.0  …  1021.0,1087.0,1052.0,1067.0,1058.0,1033.0,1057.0,1024.0,1012.0,1046.0])"
      ]
     },
     "execution_count": 5,
     "metadata": {},
     "output_type": "execute_result"
    }
   ],
   "source": [
    "haplopair(X, H)"
   ]
  },
  {
   "cell_type": "code",
   "execution_count": 6,
   "metadata": {
    "collapsed": false
   },
   "outputs": [
    {
     "data": {
      "text/plain": [
       "BenchmarkTools.Trial: \n",
       "  memory estimate:  0 bytes\n",
       "  allocs estimate:  0\n",
       "  --------------\n",
       "  minimum time:     9.319 ms (0.00% GC)\n",
       "  median time:      9.513 ms (0.00% GC)\n",
       "  mean time:        9.494 ms (0.00% GC)\n",
       "  maximum time:     10.793 ms (0.00% GC)\n",
       "  --------------\n",
       "  samples:          527\n",
       "  evals/sample:     1"
      ]
     },
     "execution_count": 6,
     "metadata": {},
     "output_type": "execute_result"
    }
   ],
   "source": [
    "@benchmark haplopair!(happair, hapscore, M, N)"
   ]
  },
  {
   "cell_type": "code",
   "execution_count": 7,
   "metadata": {
    "collapsed": false
   },
   "outputs": [
    {
     "name": "stdout",
     "output_type": "stream",
     "text": [
      " Count File                        Line Function                               \n",
      "     8 ./<missing>                   -1 anonymous                              \n",
      "     1 ./inference.jl              1536 typeinf_edge(::Method, ::Any, ::Sim... \n",
      "     1 ./inference.jl              1621 typeinf_ext(::LambdaInfo)              \n",
      "     9 ./loading.jl                 441 include_string(::String, ::String)     \n",
      "     8 ./profile.jl                  16 macro expansion;                       \n",
      "     9 ./task.jl                    360 (::IJulia.##13#19)()                   \n",
      "     9 ...IJulia/src/eventloop.jl     8 eventloop(::ZMQ.Socket)                \n",
      "     9 .../src/execute_request.jl   156 execute_request(::ZMQ.Socket, ::IJu... \n",
      "     2 ...pute/src/haplotyping.jl    32 haplopair!(::Tuple{Array{Int64,1},A... \n",
      "     4 ...pute/src/haplotyping.jl    33 haplopair!(::Tuple{Array{Int64,1},A... \n",
      "     2 ...pute/src/haplotyping.jl    36 haplopair!(::Tuple{Array{Int64,1},A... \n"
     ]
    }
   ],
   "source": [
    "Profile.clear()\n",
    "@profile haplopair!(happair, hapscore, M, N)\n",
    "Profile.print(format=:flat)"
   ]
  },
  {
   "cell_type": "code",
   "execution_count": 9,
   "metadata": {
    "collapsed": false
   },
   "outputs": [],
   "source": [
    "#@code_warntype haplopair!(X, H, M, N, happair, hapscore)"
   ]
  },
  {
   "cell_type": "code",
   "execution_count": 10,
   "metadata": {
    "collapsed": false
   },
   "outputs": [
    {
     "name": "stdout",
     "output_type": "stream",
     "text": [
      "  0.023348 seconds (4 allocations: 160 bytes)\n"
     ]
    }
   ],
   "source": [
    "@time haplopair!(X, H, M, N, happair, hapscore)"
   ]
  },
  {
   "cell_type": "code",
   "execution_count": 11,
   "metadata": {
    "collapsed": false
   },
   "outputs": [
    {
     "data": {
      "text/plain": [
       "BenchmarkTools.Trial: \n",
       "  memory estimate:  0 bytes\n",
       "  allocs estimate:  0\n",
       "  --------------\n",
       "  minimum time:     20.115 ms (0.00% GC)\n",
       "  median time:      20.261 ms (0.00% GC)\n",
       "  mean time:        20.435 ms (0.00% GC)\n",
       "  maximum time:     29.652 ms (0.00% GC)\n",
       "  --------------\n",
       "  samples:          245\n",
       "  evals/sample:     1"
      ]
     },
     "execution_count": 11,
     "metadata": {},
     "output_type": "execute_result"
    }
   ],
   "source": [
    "@benchmark haplopair!(X, H, M, N, happair, hapscore)"
   ]
  },
  {
   "cell_type": "code",
   "execution_count": 12,
   "metadata": {
    "collapsed": false
   },
   "outputs": [
    {
     "name": "stdout",
     "output_type": "stream",
     "text": [
      " Count File                        Line Function                               \n",
      "    13 ./<missing>                   -1 anonymous                              \n",
      "     2 ./linalg/blas.jl             969 gemm!(::Char, ::Char, ::Float32, ::... \n",
      "     2 ./linalg/matmul.jl           155 A_mul_Bt!                              \n",
      "     2 ./linalg/matmul.jl           331 gemm_wrapper!(::Array{Float32,2}, :... \n",
      "    13 ./loading.jl                 441 include_string(::String, ::String)     \n",
      "    13 ./profile.jl                  16 macro expansion;                       \n",
      "     2 ./simdloop.jl                 73 macro expansion                        \n",
      "    13 ./task.jl                    360 (::IJulia.##13#19)()                   \n",
      "    13 ...IJulia/src/eventloop.jl     8 eventloop(::ZMQ.Socket)                \n",
      "    13 .../src/execute_request.jl   156 execute_request(::ZMQ.Socket, ::IJu... \n",
      "     4 ...pute/src/haplotyping.jl    32 haplopair!(::Tuple{Array{Int64,1},A... \n",
      "     3 ...pute/src/haplotyping.jl    33 haplopair!(::Tuple{Array{Int64,1},A... \n",
      "     1 ...pute/src/haplotyping.jl    34 haplopair!(::Tuple{Array{Int64,1},A... \n",
      "     2 ...pute/src/haplotyping.jl   110 haplopair!(::Array{Float32,2}, ::Ar... \n",
      "     1 ...pute/src/haplotyping.jl   111 haplopair!(::Array{Float32,2}, ::Ar... \n",
      "     8 ...pute/src/haplotyping.jl   114 haplopair!(::Array{Float32,2}, ::Ar... \n",
      "     2 ...pute/src/haplotyping.jl   116 haplopair!(::Array{Float32,2}, ::Ar... \n",
      "     2 ...pute/src/haplotyping.jl   117 macro expansion                        \n"
     ]
    }
   ],
   "source": [
    "Profile.clear()\n",
    "@profile haplopair!(X, H, M, N, happair, hapscore)\n",
    "Profile.print(format=:flat)"
   ]
  },
  {
   "cell_type": "markdown",
   "metadata": {},
   "source": [
    "## Haplotyping on incomplete genotype data\n",
    "\n"
   ]
  },
  {
   "cell_type": "code",
   "execution_count": 14,
   "metadata": {
    "collapsed": false
   },
   "outputs": [
    {
     "name": "stdout",
     "output_type": "stream",
     "text": [
      "  0.085485 seconds (4 allocations: 160 bytes)\n"
     ]
    }
   ],
   "source": [
    "using MendelImpute, NullableArrays, BenchmarkTools\n",
    "\n",
    "srand(123)\n",
    "n, p, d = 10000, 1000, 50\n",
    "H = convert(Matrix{Float32}, rand(0:1, d, p))\n",
    "X = convert(Matrix{Float32}, rand(0:2, n, p))\n",
    "M = zeros(eltype(H), d, d)\n",
    "N = zeros(eltype(X), n, d)\n",
    "happair  = zeros(Int, n), zeros(Int, n)\n",
    "hapscore = zeros(eltype(N), n)\n",
    "missingprop = 0.1\n",
    "Xm = NullableArray(X, full(sprand(Bool, n, p, missingprop)))\n",
    "@time haploimpute!(Xm, H, M, N, happair, hapscore)"
   ]
  },
  {
   "cell_type": "code",
   "execution_count": 15,
   "metadata": {
    "collapsed": false
   },
   "outputs": [
    {
     "data": {
      "text/plain": [
       "BenchmarkTools.Trial: \n",
       "  memory estimate:  0 bytes\n",
       "  allocs estimate:  0\n",
       "  --------------\n",
       "  minimum time:     85.755 ms (0.00% GC)\n",
       "  median time:      87.582 ms (0.00% GC)\n",
       "  mean time:        87.665 ms (0.00% GC)\n",
       "  maximum time:     90.458 ms (0.00% GC)\n",
       "  --------------\n",
       "  samples:          58\n",
       "  evals/sample:     1"
      ]
     },
     "execution_count": 15,
     "metadata": {},
     "output_type": "execute_result"
    }
   ],
   "source": [
    "@benchmark haploimpute!(Xm, H, M, N, happair, hapscore)"
   ]
  },
  {
   "cell_type": "code",
   "execution_count": 16,
   "metadata": {
    "collapsed": false
   },
   "outputs": [
    {
     "name": "stdout",
     "output_type": "stream",
     "text": [
      " Count File                        Line Function                               \n",
      "    69 ./<missing>                   -1 anonymous                              \n",
      "     4 ./linalg/blas.jl             969 gemm!(::Char, ::Char, ::Float32, ::... \n",
      "     4 ./linalg/matmul.jl           155 A_mul_Bt!                              \n",
      "     4 ./linalg/matmul.jl           331 gemm_wrapper!(::Array{Float32,2}, :... \n",
      "    69 ./loading.jl                 441 include_string(::String, ::String)     \n",
      "    69 ./profile.jl                  16 macro expansion;                       \n",
      "     2 ./simdloop.jl                 73 macro expansion                        \n",
      "    69 ./task.jl                    360 (::IJulia.##13#19)()                   \n",
      "    69 ...IJulia/src/eventloop.jl     8 eventloop(::ZMQ.Socket)                \n",
      "    69 .../src/execute_request.jl   156 execute_request(::ZMQ.Socket, ::IJu... \n",
      "     3 ...pute/src/haplotyping.jl   146 fillmissing!(::NullableArrays.Nulla... \n",
      "     6 ...pute/src/haplotyping.jl   147 fillmissing!(::NullableArrays.Nulla... \n",
      "     6 ...pute/src/haplotyping.jl   148 fillmissing!(::NullableArrays.Nulla... \n",
      "     1 ...pute/src/haplotyping.jl   149 fillmissing!(::NullableArrays.Nulla... \n",
      "    69 ...pute/src/haplotyping.jl   238 haploimpute!(::NullableArrays.Nulla... \n",
      "    38 ...pute/src/haplotyping.jl   239 haploimpute!(::NullableArrays.Nulla... \n",
      "    15 ...pute/src/haplotyping.jl   242 haploimpute!(::NullableArrays.Nulla... \n",
      "    16 ...pute/src/haplotyping.jl   244 haploimpute!(::NullableArrays.Nulla... \n",
      "     3 ...pute/src/haplotyping.jl    32 haplopair!(::Tuple{Array{Int64,1},A... \n",
      "     2 ...pute/src/haplotyping.jl    33 haplopair!(::Tuple{Array{Int64,1},A... \n",
      "     3 ...pute/src/haplotyping.jl    36 haplopair!(::Tuple{Array{Int64,1},A... \n",
      "     4 ...pute/src/haplotyping.jl   110 haplopair!(::Array{Float32,2}, ::Ar... \n",
      "     1 ...pute/src/haplotyping.jl   112 haplopair!(::Array{Float32,2}, ::Ar... \n",
      "     8 ...pute/src/haplotyping.jl   114 haplopair!(::Array{Float32,2}, ::Ar... \n",
      "     2 ...pute/src/haplotyping.jl   116 haplopair!(::Array{Float32,2}, ::Ar... \n",
      "     4 ...pute/src/haplotyping.jl   192 initmissing!(::NullableArrays.Nulla... \n",
      "     9 ...pute/src/haplotyping.jl   193 initmissing!(::NullableArrays.Nulla... \n",
      "    10 ...pute/src/haplotyping.jl   195 initmissing!(::NullableArrays.Nulla... \n",
      "     1 ...pute/src/haplotyping.jl   200 initmissing!(::NullableArrays.Nulla... \n",
      "     8 ...pute/src/haplotyping.jl   201 initmissing!(::NullableArrays.Nulla... \n",
      "     6 ...pute/src/haplotyping.jl   202 initmissing!(::NullableArrays.Nulla... \n",
      "     2 ...pute/src/haplotyping.jl   117 macro expansion                        \n"
     ]
    }
   ],
   "source": [
    "Profile.clear()\n",
    "@profile haploimpute!(Xm, H, M, N, happair, hapscore)\n",
    "Profile.print(format=:flat)"
   ]
  },
  {
   "cell_type": "markdown",
   "metadata": {
    "collapsed": true
   },
   "source": [
    "## `AFRped.txt` data\n",
    "\n"
   ]
  },
  {
   "cell_type": "code",
   "execution_count": 17,
   "metadata": {
    "collapsed": false
   },
   "outputs": [],
   "source": [
    "#;ls -al"
   ]
  },
  {
   "cell_type": "code",
   "execution_count": 18,
   "metadata": {
    "collapsed": false
   },
   "outputs": [],
   "source": [
    "## cut out the first 6 fields in the pedigree file\n",
    "#;cut -d ',' -f7- AFRped.txt > AFRped_geno.txt"
   ]
  },
  {
   "cell_type": "code",
   "execution_count": 19,
   "metadata": {
    "collapsed": false
   },
   "outputs": [],
   "source": [
    "#;ls -al"
   ]
  },
  {
   "cell_type": "code",
   "execution_count": 1,
   "metadata": {
    "collapsed": false
   },
   "outputs": [
    {
     "data": {
      "text/plain": [
       "1325×36499 Array{Float32,2}:\n",
       " 0.0  0.0  0.0  0.0  0.0  0.0  0.0  0.0  …  0.0  0.0  0.0  0.0  0.0  1.0  0.0\n",
       " 0.0  0.0  0.0  0.0  0.0  0.0  0.0  0.0     0.0  0.0  0.0  0.0  0.0  1.0  0.0\n",
       " 1.0  0.0  0.0  0.0  0.0  0.0  0.0  0.0     0.0  0.0  0.0  0.0  0.0  0.0  0.0\n",
       " 0.0  0.0  0.0  0.0  0.0  0.0  0.0  0.0     0.0  0.0  0.0  0.0  0.0  0.0  0.0\n",
       " 1.0  0.0  0.0  0.0  0.0  0.0  0.0  0.0     0.0  0.0  0.0  0.0  0.0  0.0  0.0\n",
       " 1.0  0.0  0.0  0.0  0.0  0.0  0.0  0.0  …  0.0  0.0  0.0  0.0  0.0  0.0  0.0\n",
       " 0.0  0.0  0.0  0.0  0.0  0.0  0.0  0.0     0.0  0.0  0.0  0.0  0.0  1.0  0.0\n",
       " 1.0  0.0  0.0  0.0  0.0  0.0  0.0  0.0     0.0  0.0  0.0  0.0  0.0  1.0  0.0\n",
       " 0.0  0.0  0.0  0.0  0.0  0.0  0.0  0.0     0.0  0.0  0.0  0.0  0.0  0.0  0.0\n",
       " 0.0  0.0  0.0  0.0  0.0  0.0  0.0  0.0     0.0  0.0  0.0  0.0  0.0  0.0  0.0\n",
       " 0.0  0.0  0.0  0.0  0.0  0.0  0.0  0.0  …  0.0  0.0  0.0  0.0  0.0  1.0  0.0\n",
       " 0.0  0.0  0.0  0.0  0.0  0.0  0.0  0.0     0.0  0.0  0.0  0.0  0.0  1.0  0.0\n",
       " 0.0  0.0  0.0  0.0  0.0  0.0  0.0  0.0     0.0  0.0  0.0  0.0  0.0  1.0  0.0\n",
       " ⋮                        ⋮              ⋱                 ⋮                 \n",
       " 0.0  0.0  0.0  0.0  0.0  0.0  0.0  0.0     0.0  0.0  0.0  0.0  0.0  0.0  0.0\n",
       " 0.0  0.0  0.0  0.0  0.0  0.0  0.0  0.0     0.0  0.0  0.0  0.0  0.0  0.0  0.0\n",
       " 0.0  0.0  0.0  0.0  0.0  0.0  0.0  0.0  …  0.0  0.0  0.0  0.0  0.0  0.0  0.0\n",
       " 0.0  0.0  0.0  0.0  0.0  0.0  0.0  0.0     0.0  0.0  0.0  0.0  0.0  0.0  0.0\n",
       " 0.0  0.0  0.0  0.0  0.0  0.0  0.0  0.0     0.0  0.0  0.0  0.0  0.0  0.0  0.0\n",
       " 0.0  0.0  0.0  0.0  0.0  0.0  0.0  0.0     0.0  0.0  0.0  0.0  0.0  0.0  0.0\n",
       " 0.0  0.0  0.0  0.0  0.0  0.0  0.0  0.0     0.0  0.0  0.0  0.0  0.0  0.0  0.0\n",
       " 0.0  0.0  0.0  0.0  0.0  0.0  0.0  0.0  …  0.0  0.0  0.0  0.0  0.0  0.0  0.0\n",
       " 0.0  0.0  0.0  0.0  0.0  0.0  0.0  0.0     0.0  0.0  0.0  0.0  0.0  0.0  0.0\n",
       " 0.0  0.0  0.0  0.0  0.0  0.0  0.0  0.0     0.0  0.0  0.0  0.0  0.0  0.0  0.0\n",
       " 0.0  0.0  0.0  0.0  0.0  0.0  0.0  0.0     0.0  0.0  0.0  0.0  0.0  0.0  0.0\n",
       " 0.0  0.0  0.0  0.0  0.0  0.0  0.0  0.0     0.0  0.0  0.0  0.0  0.0  0.0  0.0"
      ]
     },
     "execution_count": 1,
     "metadata": {},
     "output_type": "execute_result"
    }
   ],
   "source": [
    "rawdata = readcsv(\"AFRped_geno.txt\", Float32)"
   ]
  },
  {
   "cell_type": "code",
   "execution_count": 2,
   "metadata": {
    "collapsed": false
   },
   "outputs": [
    {
     "data": {
      "text/plain": [
       "664×36498 Array{Float32,2}:\n",
       " 0.0  0.0  0.0  0.0  0.0  0.0  0.0  0.0  …  0.0  0.0  0.0  0.0  0.0  0.0  1.0\n",
       " 0.0  0.0  0.0  0.0  0.0  0.0  0.0  0.0     0.0  0.0  0.0  0.0  0.0  0.0  1.0\n",
       " 1.0  0.0  0.0  0.0  0.0  0.0  0.0  0.0     0.0  0.0  0.0  0.0  0.0  0.0  0.0\n",
       " 0.0  0.0  0.0  0.0  0.0  0.0  0.0  0.0     0.0  0.0  0.0  0.0  0.0  0.0  0.0\n",
       " 1.0  0.0  0.0  0.0  0.0  0.0  0.0  0.0     0.0  0.0  0.0  0.0  0.0  0.0  0.0\n",
       " 1.0  0.0  0.0  0.0  0.0  0.0  0.0  0.0  …  0.0  0.0  0.0  0.0  0.0  0.0  0.0\n",
       " 0.0  0.0  0.0  0.0  0.0  0.0  0.0  0.0     0.0  0.0  0.0  0.0  0.0  0.0  1.0\n",
       " 1.0  0.0  0.0  0.0  0.0  0.0  0.0  0.0     0.0  0.0  0.0  0.0  0.0  0.0  1.0\n",
       " 0.0  0.0  0.0  0.0  0.0  0.0  0.0  0.0     0.0  0.0  0.0  0.0  0.0  0.0  0.0\n",
       " 0.0  0.0  0.0  0.0  0.0  0.0  0.0  0.0     0.0  0.0  0.0  0.0  0.0  0.0  0.0\n",
       " 0.0  0.0  0.0  0.0  0.0  0.0  0.0  0.0  …  0.0  0.0  0.0  0.0  0.0  0.0  1.0\n",
       " 0.0  0.0  0.0  0.0  0.0  0.0  0.0  0.0     0.0  0.0  0.0  0.0  0.0  0.0  1.0\n",
       " 0.0  0.0  0.0  0.0  0.0  0.0  0.0  0.0     0.0  0.0  0.0  0.0  0.0  0.0  1.0\n",
       " ⋮                        ⋮              ⋱                      ⋮            \n",
       " 0.0  0.0  0.0  0.0  0.0  0.0  0.0  0.0     0.0  0.0  0.0  0.0  0.0  0.0  0.0\n",
       " 0.0  0.0  0.0  0.0  0.0  0.0  0.0  0.0     0.0  0.0  0.0  0.0  0.0  0.0  0.0\n",
       " 0.0  0.0  0.0  0.0  0.0  0.0  0.0  0.0     0.0  0.0  0.0  0.0  0.0  0.0  0.0\n",
       " 0.0  0.0  0.0  0.0  0.0  0.0  0.0  0.0  …  0.0  0.0  0.0  0.0  0.0  0.0  1.0\n",
       " 0.0  0.0  0.0  0.0  0.0  0.0  0.0  0.0     0.0  0.0  0.0  0.0  0.0  0.0  1.0\n",
       " 0.0  0.0  0.0  0.0  0.0  0.0  0.0  0.0     0.0  0.0  0.0  0.0  0.0  0.0  1.0\n",
       " 0.0  0.0  0.0  0.0  0.0  0.0  0.0  0.0     0.0  0.0  0.0  0.0  0.0  0.0  0.0\n",
       " 0.0  0.0  0.0  0.0  0.0  0.0  0.0  0.0     0.0  0.0  0.0  0.0  0.0  0.0  0.0\n",
       " 0.0  0.0  0.0  0.0  0.0  0.0  0.0  0.0  …  0.0  0.0  0.0  0.0  0.0  0.0  1.0\n",
       " 0.0  0.0  0.0  0.0  0.0  0.0  0.0  0.0     0.0  0.0  0.0  0.0  0.0  0.0  0.0\n",
       " 0.0  0.0  0.0  0.0  0.0  0.0  0.0  0.0     0.0  0.0  0.0  0.0  0.0  0.0  1.0\n",
       " 0.0  0.0  0.0  0.0  0.0  0.0  0.0  0.0     0.0  0.0  0.0  0.0  0.0  0.0  0.0"
      ]
     },
     "execution_count": 2,
     "metadata": {},
     "output_type": "execute_result"
    }
   ],
   "source": [
    "people = 664\n",
    "X = rawdata[1:people, 1:(end - 1)]"
   ]
  },
  {
   "cell_type": "code",
   "execution_count": 3,
   "metadata": {
    "collapsed": false
   },
   "outputs": [
    {
     "data": {
      "text/plain": [
       "661×36498 Array{Float32,2}:\n",
       " 0.0  0.0  0.0  0.0  0.0  0.0  0.0  0.0  …  0.0  0.0  0.0  0.0  0.0  0.0  0.0\n",
       " 0.0  0.0  0.0  0.0  0.0  0.0  0.0  0.0     0.0  0.0  0.0  0.0  0.0  0.0  1.0\n",
       " 0.0  0.0  0.0  0.0  0.0  0.0  0.0  0.0     0.0  0.0  0.0  0.0  0.0  0.0  0.0\n",
       " 0.0  0.0  0.0  0.0  0.0  0.0  0.0  0.0     0.0  0.0  0.0  0.0  0.0  0.0  1.0\n",
       " 0.0  0.0  0.0  0.0  0.0  0.0  0.0  0.0     0.0  0.0  0.0  0.0  0.0  0.0  0.0\n",
       " 0.0  0.0  0.0  0.0  0.0  0.0  0.0  0.0  …  0.0  0.0  0.0  0.0  0.0  0.0  0.0\n",
       " 0.0  0.0  0.0  0.0  0.0  0.0  0.0  0.0     0.0  0.0  0.0  0.0  0.0  0.0  1.0\n",
       " 0.0  0.0  0.0  0.0  0.0  0.0  0.0  0.0     0.0  0.0  0.0  0.0  0.0  0.0  0.0\n",
       " 0.0  0.0  0.0  0.0  0.0  0.0  0.0  0.0     0.0  0.0  0.0  0.0  0.0  0.0  1.0\n",
       " 0.0  0.0  0.0  0.0  0.0  0.0  0.0  0.0     0.0  0.0  0.0  0.0  0.0  0.0  0.0\n",
       " 0.0  0.0  0.0  0.0  0.0  0.0  0.0  0.0  …  0.0  0.0  0.0  0.0  0.0  0.0  1.0\n",
       " 0.0  0.0  0.0  0.0  0.0  0.0  0.0  0.0     0.0  0.0  0.0  0.0  0.0  0.0  1.0\n",
       " 0.0  0.0  0.0  0.0  0.0  0.0  0.0  0.0     0.0  0.0  0.0  0.0  0.0  0.0  1.0\n",
       " ⋮                        ⋮              ⋱                      ⋮            \n",
       " 0.0  0.0  0.0  0.0  0.0  0.0  0.0  0.0     0.0  0.0  0.0  0.0  0.0  0.0  0.0\n",
       " 0.0  0.0  0.0  0.0  0.0  0.0  0.0  0.0  …  0.0  0.0  0.0  0.0  0.0  0.0  0.0\n",
       " 0.0  0.0  0.0  0.0  0.0  0.0  0.0  0.0     0.0  0.0  0.0  0.0  0.0  0.0  0.0\n",
       " 0.0  0.0  0.0  0.0  0.0  0.0  0.0  0.0     0.0  0.0  0.0  0.0  0.0  0.0  0.0\n",
       " 0.0  0.0  0.0  0.0  0.0  0.0  0.0  0.0     0.0  0.0  0.0  0.0  0.0  0.0  0.0\n",
       " 0.0  0.0  0.0  0.0  0.0  0.0  0.0  0.0     0.0  0.0  0.0  0.0  0.0  0.0  0.0\n",
       " 0.0  0.0  0.0  0.0  0.0  0.0  0.0  0.0  …  0.0  0.0  0.0  0.0  0.0  0.0  0.0\n",
       " 0.0  0.0  0.0  0.0  0.0  0.0  0.0  0.0     0.0  0.0  0.0  0.0  0.0  0.0  0.0\n",
       " 0.0  0.0  0.0  0.0  0.0  0.0  0.0  0.0     0.0  0.0  0.0  0.0  0.0  0.0  0.0\n",
       " 0.0  0.0  0.0  0.0  0.0  0.0  0.0  0.0     0.0  0.0  0.0  0.0  0.0  0.0  0.0\n",
       " 0.0  0.0  0.0  0.0  0.0  0.0  0.0  0.0     0.0  0.0  0.0  0.0  0.0  0.0  0.0\n",
       " 0.0  0.0  0.0  0.0  0.0  0.0  0.0  0.0  …  0.0  0.0  0.0  0.0  0.0  0.0  0.0"
      ]
     },
     "execution_count": 3,
     "metadata": {},
     "output_type": "execute_result"
    }
   ],
   "source": [
    "if eltype(rawdata) <: Integer\n",
    "    H = rawdata[(people + 1):end, 1:(end - 1)] .>> 1\n",
    "else\n",
    "    H = rawdata[(people + 1):end, 1:(end - 1)] / 2\n",
    "end"
   ]
  },
  {
   "cell_type": "code",
   "execution_count": 4,
   "metadata": {
    "collapsed": false
   },
   "outputs": [
    {
     "data": {
      "text/plain": [
       "0-element Array{Any,1}"
      ]
     },
     "execution_count": 4,
     "metadata": {},
     "output_type": "execute_result"
    }
   ],
   "source": [
    "# clean up rawdata\n",
    "rawdata = []"
   ]
  },
  {
   "cell_type": "markdown",
   "metadata": {},
   "source": [
    "### phase+impute a fixed window"
   ]
  },
  {
   "cell_type": "code",
   "execution_count": 5,
   "metadata": {
    "collapsed": false
   },
   "outputs": [
    {
     "data": {
      "text/plain": [
       "79533-element Array{Float32,1}:\n",
       " 0.0\n",
       " 1.0\n",
       " 0.0\n",
       " 0.0\n",
       " 0.0\n",
       " 0.0\n",
       " 0.0\n",
       " 0.0\n",
       " 0.0\n",
       " 0.0\n",
       " 0.0\n",
       " 0.0\n",
       " 0.0\n",
       " ⋮  \n",
       " 0.0\n",
       " 0.0\n",
       " 0.0\n",
       " 0.0\n",
       " 0.0\n",
       " 0.0\n",
       " 0.0\n",
       " 0.0\n",
       " 0.0\n",
       " 0.0\n",
       " 0.0\n",
       " 0.0"
      ]
     },
     "execution_count": 5,
     "metadata": {},
     "output_type": "execute_result"
    }
   ],
   "source": [
    "using BenchmarkTools, MendelImpute, NullableArrays\n",
    "\n",
    "X1 = X[:, 1:1200]\n",
    "H1 = H[:, 1:1200]\n",
    "missingprop = 0.1\n",
    "Xm = NullableArray(X1, full(sprand(Bool, size(X1, 1), size(X1, 2), missingprop)))\n",
    "missing_true = X1[Xm.isnull]"
   ]
  },
  {
   "cell_type": "code",
   "execution_count": 6,
   "metadata": {
    "collapsed": false
   },
   "outputs": [
    {
     "name": "stdout",
     "output_type": "stream",
     "text": [
      "  0.567111 seconds (465.36 k allocations: 16.780 MB)\n"
     ]
    },
    {
     "data": {
      "text/plain": [
       "0.003143349301547785"
      ]
     },
     "execution_count": 6,
     "metadata": {},
     "output_type": "execute_result"
    }
   ],
   "source": [
    "n, d = size(X1, 1), size(H1, 1)\n",
    "M = zeros(eltype(H), d, d)\n",
    "N = zeros(eltype(X), n, d)\n",
    "happair  = zeros(Int, n), zeros(Int, n)\n",
    "hapscore = zeros(eltype(N), n)\n",
    "@time haploimpute!(Xm, H1, M, N, happair, hapscore)\n",
    "missing_impute = Xm.values[Xm.isnull]\n",
    "error = countnz(missing_true .≠ missing_impute) / length(missing_true)"
   ]
  },
  {
   "cell_type": "code",
   "execution_count": 7,
   "metadata": {
    "collapsed": false
   },
   "outputs": [
    {
     "data": {
      "text/plain": [
       "BenchmarkTools.Trial: \n",
       "  memory estimate:  0 bytes\n",
       "  allocs estimate:  0\n",
       "  --------------\n",
       "  minimum time:     117.724 ms (0.00% GC)\n",
       "  median time:      121.587 ms (0.00% GC)\n",
       "  mean time:        122.566 ms (0.00% GC)\n",
       "  maximum time:     130.757 ms (0.00% GC)\n",
       "  --------------\n",
       "  samples:          41\n",
       "  evals/sample:     1"
      ]
     },
     "execution_count": 7,
     "metadata": {},
     "output_type": "execute_result"
    }
   ],
   "source": [
    "@benchmark haploimpute!(Xm, H1, M, N, happair, hapscore)"
   ]
  },
  {
   "cell_type": "code",
   "execution_count": 8,
   "metadata": {
    "collapsed": false
   },
   "outputs": [
    {
     "name": "stdout",
     "output_type": "stream",
     "text": [
      " Count File                        Line Function                               \n",
      "    90 ./<missing>                   -1 anonymous                              \n",
      "     3 ./abstractarray.jl           485 copy!(::Array{Any,1}, ::Core.Infere... \n",
      "     2 ./inference.jl              1101 abstract_call(::Any, ::Array{Any,1}... \n",
      "     2 ./inference.jl               893 abstract_call_gf_by_type(::Any, ::A... \n",
      "     5 ./inference.jl              1152 abstract_eval(::Any, ::Array{Any,1}... \n",
      "     3 ./inference.jl              1105 abstract_eval_call(::Expr, ::Array{... \n",
      "     2 ./inference.jl              1131 abstract_eval_call(::Expr, ::Array{... \n",
      "     3 ./inference.jl              1597 typeinf_edge(::Method, ::Any, ::Sim... \n",
      "     2 ./inference.jl              1603 typeinf_edge(::Method, ::Any, ::Sim... \n",
      "     1 ./inference.jl              1621 typeinf_ext(::LambdaInfo)              \n",
      "     3 ./inference.jl              1786 typeinf_frame(::Core.Inference.Infe... \n",
      "     2 ./inference.jl              1660 typeinf_loop(::Core.Inference.Infer... \n",
      "     1 ./inference.jl              1677 typeinf_loop(::Core.Inference.Infer... \n",
      "    91 ./loading.jl                 441 include_string(::String, ::String)     \n",
      "    90 ./profile.jl                  16 macro expansion;                       \n",
      "    91 ./task.jl                    360 (::IJulia.##13#19)()                   \n",
      "     2 ...lia/lib/julia/sys.dylib    -1 abstract_call(::Any, ::Array{Any,1}... \n",
      "     2 ...lia/lib/julia/sys.dylib    -1 abstract_call_gf_by_type(::Any, ::A... \n",
      "     6 ...lia/lib/julia/sys.dylib    -1 abstract_eval(::Any, ::Array{Any,1}... \n",
      "     2 ...lia/lib/julia/sys.dylib    -1 typeinf_edge(::Method, ::Any, ::Sim... \n",
      "     2 ...lia/lib/julia/sys.dylib    -1 typeinf_edge(::Method, ::Any, ::Sim... \n",
      "     1 ...lia/lib/julia/sys.dylib    -1 typeinf_loop(::Core.Inference.Infer... \n",
      "    91 ...IJulia/src/eventloop.jl     8 eventloop(::ZMQ.Socket)                \n",
      "    91 .../src/execute_request.jl   156 execute_request(::ZMQ.Socket, ::IJu... \n",
      "     2 ...pute/src/haplotyping.jl   148 fillmissing!(::NullableArrays.Nulla... \n",
      "    90 ...pute/src/haplotyping.jl   238 haploimpute!(::NullableArrays.Nulla... \n",
      "     3 ...pute/src/haplotyping.jl   239 haploimpute!(::NullableArrays.Nulla... \n",
      "    85 ...pute/src/haplotyping.jl   242 haploimpute!(::NullableArrays.Nulla... \n",
      "     2 ...pute/src/haplotyping.jl   244 haploimpute!(::NullableArrays.Nulla... \n",
      "     5 ...pute/src/haplotyping.jl    31 haplopair!(::Tuple{Array{Int64,1},A... \n",
      "    17 ...pute/src/haplotyping.jl    32 haplopair!(::Tuple{Array{Int64,1},A... \n",
      "    44 ...pute/src/haplotyping.jl    33 haplopair!(::Tuple{Array{Int64,1},A... \n",
      "    17 ...pute/src/haplotyping.jl    36 haplopair!(::Tuple{Array{Int64,1},A... \n",
      "     1 ...pute/src/haplotyping.jl   104 haplopair!(::Array{Float32,2}, ::Ar... \n",
      "     1 ...pute/src/haplotyping.jl   112 haplopair!(::Array{Float32,2}, ::Ar... \n",
      "    83 ...pute/src/haplotyping.jl   114 haplopair!(::Array{Float32,2}, ::Ar... \n",
      "     3 ...pute/src/haplotyping.jl   193 initmissing!(::NullableArrays.Nulla... \n"
     ]
    }
   ],
   "source": [
    "Profile.clear()\n",
    "@profile haploimpute!(Xm, H1, M, N, happair, hapscore)\n",
    "Profile.print(format=:flat)"
   ]
  },
  {
   "cell_type": "markdown",
   "metadata": {},
   "source": [
    "## Phase + impute by moving window (using flanking windows)"
   ]
  },
  {
   "cell_type": "code",
   "execution_count": 20,
   "metadata": {
    "collapsed": false
   },
   "outputs": [
    {
     "name": "stdout",
     "output_type": "stream",
     "text": [
      "Imputing SNPs 1:800\n",
      "Imputing SNPs 801:1600\n",
      "Imputing SNPs 1601:2400\n",
      "Imputing SNPs 2401:3200\n",
      "Imputing SNPs 3201:4000\n",
      "Imputing SNPs 4001:4800\n",
      "Imputing SNPs 4801:5600\n",
      "Imputing SNPs 5601:6400\n",
      "Imputing SNPs 6401:7200\n",
      "Imputing SNPs 7201:8000\n",
      "Imputing SNPs 8001:8800\n",
      "Imputing SNPs 8801:9600\n",
      "Imputing SNPs 9601:10400\n",
      "Imputing SNPs 10401:11200\n",
      "Imputing SNPs 11201:12000\n",
      "Imputing SNPs 12001:12800\n",
      "Imputing SNPs 12801:13600\n",
      "Imputing SNPs 13601:14400\n",
      "Imputing SNPs 14401:15200\n",
      "Imputing SNPs 15201:16000\n",
      "Imputing SNPs 16001:16800\n",
      "Imputing SNPs 16801:17600\n",
      "Imputing SNPs 17601:18400\n",
      "Imputing SNPs 18401:19200\n",
      "Imputing SNPs 19201:20000\n",
      "Imputing SNPs 20001:20800\n",
      "Imputing SNPs 20801:21600\n",
      "Imputing SNPs 21601:22400\n",
      "Imputing SNPs 22401:23200\n",
      "Imputing SNPs 23201:24000\n",
      "Imputing SNPs 24001:24800\n",
      "Imputing SNPs 24801:25600\n",
      "Imputing SNPs 25601:26400\n",
      "Imputing SNPs 26401:27200\n",
      "Imputing SNPs 27201:28000\n",
      "Imputing SNPs 28001:28800\n",
      "Imputing SNPs 28801:29600\n",
      "Imputing SNPs 29601:30400\n",
      "Imputing SNPs 30401:31200\n",
      "Imputing SNPs 31201:32000\n",
      "Imputing SNPs 32001:32800\n",
      "Imputing SNPs 32801:33600\n",
      "Imputing SNPs 33601:34400\n",
      "Imputing SNPs 34401:35200\n",
      "Imputing SNPs 35201:36498\n",
      "  6.001926 seconds (13.60 k allocations: 19.026 MB, 1.05% gc time)\n"
     ]
    }
   ],
   "source": [
    "using BenchmarkTools, MendelImpute, NullableArrays\n",
    "\n",
    "srand(123)\n",
    "missingprop = 0.1\n",
    "Xm = NullableArray(X, full(sprand(Bool, size(X, 1), size(X, 2), missingprop)))\n",
    "missing_true = X[Xm.isnull]\n",
    "\n",
    "@time haploimpute!(Xm, H, 800)"
   ]
  },
  {
   "cell_type": "code",
   "execution_count": 19,
   "metadata": {
    "collapsed": false
   },
   "outputs": [
    {
     "data": {
      "text/plain": [
       "0.0015559688855723485"
      ]
     },
     "execution_count": 19,
     "metadata": {},
     "output_type": "execute_result"
    }
   ],
   "source": [
    "missing_impute = Xm.values[Xm.isnull]\n",
    "error = countnz(missing_true .≠ missing_impute) / length(missing_true)"
   ]
  },
  {
   "cell_type": "code",
   "execution_count": 11,
   "metadata": {
    "collapsed": false
   },
   "outputs": [
    {
     "name": "stdout",
     "output_type": "stream",
     "text": [
      "Imputing SNPs 1:400\n",
      "Imputing SNPs 401:800\n",
      "Imputing SNPs 801:1200\n",
      "Imputing SNPs 1201:1600\n",
      "Imputing SNPs 1601:2000\n",
      "Imputing SNPs 2001:2400\n",
      "Imputing SNPs 2401:2800\n",
      "Imputing SNPs 2801:3200\n",
      "Imputing SNPs 3201:3600\n",
      "Imputing SNPs 3601:4000\n",
      "Imputing SNPs 4001:4400\n",
      "Imputing SNPs 4401:4800\n",
      "Imputing SNPs 4801:5200\n",
      "Imputing SNPs 5201:5600\n",
      "Imputing SNPs 5601:6000\n",
      "Imputing SNPs 6001:6400\n",
      "Imputing SNPs 6401:6800\n",
      "Imputing SNPs 6801:7200\n",
      "Imputing SNPs 7201:7600\n",
      "Imputing SNPs 7601:8000\n",
      "Imputing SNPs 8001:8400\n",
      "Imputing SNPs 8401:8800\n",
      "Imputing SNPs 8801:9200\n",
      "Imputing SNPs 9201:9600\n",
      "Imputing SNPs 9601:10000\n",
      "Imputing SNPs 10001:10400\n",
      "Imputing SNPs 10401:10800\n",
      "Imputing SNPs 10801:11200\n",
      "Imputing SNPs 11201:11600\n",
      "Imputing SNPs 11601:12000\n",
      "Imputing SNPs 12001:12400\n",
      "Imputing SNPs 12401:12800\n",
      "Imputing SNPs 12801:13200\n",
      "Imputing SNPs 13201:13600\n",
      "Imputing SNPs 13601:14000\n",
      "Imputing SNPs 14001:14400\n",
      "Imputing SNPs 14401:14800\n",
      "Imputing SNPs 14801:15200\n",
      "Imputing SNPs 15201:15600\n",
      "Imputing SNPs 15601:16000\n",
      "Imputing SNPs 16001:16400\n",
      "Imputing SNPs 16401:16800\n",
      "Imputing SNPs 16801:17200\n",
      "Imputing SNPs 17201:17600\n",
      "Imputing SNPs 17601:18000\n",
      "Imputing SNPs 18001:18400\n",
      "Imputing SNPs 18401:18800\n",
      "Imputing SNPs 18801:19200\n",
      "Imputing SNPs 19201:19600\n",
      "Imputing SNPs 19601:20000\n",
      "Imputing SNPs 20001:20400\n",
      "Imputing SNPs 20401:20800\n",
      "Imputing SNPs 20801:21200\n",
      "Imputing SNPs 21201:21600\n",
      "Imputing SNPs 21601:22000\n",
      "Imputing SNPs 22001:22400\n",
      "Imputing SNPs 22401:22800\n",
      "Imputing SNPs 22801:23200\n",
      "Imputing SNPs 23201:23600\n",
      "Imputing SNPs 23601:24000\n",
      "Imputing SNPs 24001:24400\n",
      "Imputing SNPs 24401:24800\n",
      "Imputing SNPs 24801:25200\n",
      "Imputing SNPs 25201:25600\n",
      "Imputing SNPs 25601:26000\n",
      "Imputing SNPs 26001:26400\n",
      "Imputing SNPs 26401:26800\n",
      "Imputing SNPs 26801:27200\n",
      "Imputing SNPs 27201:27600\n",
      "Imputing SNPs 27601:28000\n",
      "Imputing SNPs 28001:28400\n",
      "Imputing SNPs 28401:28800\n",
      "Imputing SNPs 28801:29200\n",
      "Imputing SNPs 29201:29600\n",
      "Imputing SNPs 29601:30000\n",
      "Imputing SNPs 30001:30400\n",
      "Imputing SNPs 30401:30800\n",
      "Imputing SNPs 30801:31200\n",
      "Imputing SNPs 31201:31600\n",
      "Imputing SNPs 31601:32000\n",
      "Imputing SNPs 32001:32400\n",
      "Imputing SNPs 32401:32800\n",
      "Imputing SNPs 32801:33200\n",
      "Imputing SNPs 33201:33600\n",
      "Imputing SNPs 33601:34000\n",
      "Imputing SNPs 34001:34400\n",
      "Imputing SNPs 34401:34800\n",
      "Imputing SNPs 34801:35200\n",
      "Imputing SNPs 35201:35600\n",
      "Imputing SNPs 35601:36000\n",
      "Imputing SNPs 36001:36498\n",
      " Count File                        Line Function                               \n",
      "  8578 ./<missing>                   -1 anonymous                              \n",
      "    34 ./abstractarray.jl           794 _getindex                              \n",
      "     1 ./abstractarray.jl           874 _setindex!                             \n",
      "    34 ./abstractarray.jl           760 getindex                               \n",
      "     5 ./abstractarray.jl            67 indices                                \n",
      "     1 ./abstractarray.jl           840 setindex!                              \n",
      "     3 ./abstractarray.jl           434 similar(::NullableArrays.NullableAr... \n",
      "     1 ./abstractarray.jl            47 size(::NullableArrays.NullableArray... \n",
      "     6 ./abstractarray.jl          1428 sub2ind                                \n",
      "     1 ./cartesian.jl                62 macro expansion                        \n",
      "     2 ./cartesian.jl                64 macro expansion                        \n",
      "     1 ./char.jl                     45 print(::Base.PipeEndpoint, ::Char)     \n",
      "     1 ./dict.jl                    696 getindex                               \n",
      "     1 ./dict.jl                    696 getindex(::Dict{String,Any}, ::String) \n",
      "     1 ./dict.jl                    549 ht_keyindex(::Dict{String,Any}, ::S... \n",
      "     1 ./dict.jl                    552 ht_keyindex(::Dict{String,Base.Abst... \n",
      "     1 ./dict.jl                    280 setindex!(::ObjectIdDict, ::Any, ::Any)\n",
      "     8 ./event.jl                   262 (::Base.##359#360{ZMQ.#gc_protect_c... \n",
      "     1 ./event.jl                   267 (::Base.##359#360{ZMQ.#gc_protect_c... \n",
      "     1 ./event.jl                   379 (::Base.##361#362{IJulia.#send_stdo... \n",
      "    10 ./event.jl                   384 (::Base.##361#362{IJulia.#send_stdo... \n",
      "     1 ./event.jl                   241 _uv_hook_close(::Base.AsyncCondition)  \n",
      "     1 ./event.jl                    45 notify(::Condition, ::EOFError, ::B... \n",
      "    12 ./event.jl                    27 wait(::Condition)                      \n",
      "     2 ./event.jl                   147 wait()                                 \n",
      "     1 ./event.jl                   165 wait()                                 \n",
      "     2 ./event.jl                   166 wait()                                 \n",
      "     5 ./event.jl                   169 wait()                                 \n",
      "     3 ./event.jl                   188 wait()                                 \n",
      "     8 ./event.jl                   231 wait(::Base.AsyncCondition)            \n",
      "     1 ./event.jl                   319 wait(::Timer)                          \n",
      "     4 ./event.jl                   136 yieldto(::Task, ::ANY)                 \n",
      "     1 ./io.jl                       54 unsafe_write(::JSON.Writer.StringCo... \n",
      "     4 ./io.jl                       55 unsafe_write(::JSON.Writer.StringCo... \n",
      "     1 ./io.jl                      155 unsafe_write(::Base.PipeEndpoint, :... \n",
      "     9 ./io.jl                      175 write(::Base.PipeEndpoint, ::Array{... \n",
      "     1 ./io.jl                      194 write(::Base.PipeEndpoint, ::Char)     \n",
      "     1 ./libuv.jl                    51 preserve_handle                        \n",
      "     2 ./libuv.jl                    82 process_events(::Bool)                 \n",
      "     3 ./libuv.jl                    84 process_events(::Bool)                 \n",
      "    31 ./linalg/blas.jl             969 gemm!(::Char, ::Char, ::Float32, ::... \n",
      "    17 ./linalg/blas.jl            1151 syrk!(::Char, ::Char, ::Float32, ::... \n",
      "    45 ./linalg/matmul.jl           155 A_mul_Bt!                              \n",
      "    28 ./linalg/matmul.jl           204 copytri!(::Array{Float32,2}, ::Char... \n",
      "    31 ./linalg/matmul.jl           331 gemm_wrapper!(::Array{Float32,2}, :... \n",
      "    45 ./linalg/matmul.jl           257 syrk_wrapper!(::Array{Float32,2}, :... \n",
      "  8578 ./loading.jl                 441 include_string(::String, ::String)     \n",
      "     3 ./multidimensional.jl        342 _unsafe_getindex!                      \n",
      "     6 ./multidimensional.jl        293 _unsafe_getindex(::Base.LinearFast,... \n",
      "     8 ./multidimensional.jl        615 copy!(::SubArray{Float32,2,Array{Fl... \n",
      "    35 ./multidimensional.jl        616 copy!(::SubArray{Bool,2,Array{Bool,... \n",
      "     2 ./multidimensional.jl        615 getindex                               \n",
      "     3 ./multidimensional.jl        298 macro expansion                        \n",
      "     3 ./multidimensional.jl        300 macro expansion                        \n",
      "     3 ./multidimensional.jl        350 macro expansion                        \n",
      "     2 ./multidimensional.jl        352 macro expansion                        \n",
      "  8578 ./profile.jl                  16 macro expansion;                       \n",
      "     1 ./random.jl                 1310 repr(::Base.Random.UUID)               \n",
      "     1 ./range.jl                   832 vcat(::StepRange{Int64,Int64}, ::St... \n",
      "    21 ./simdloop.jl                 73 macro expansion                        \n",
      "     1 ./simdloop.jl                 74 macro expansion                        \n",
      "     3 ./stream.jl                   58 eof(::Base.PipeEndpoint)               \n",
      "     1 ./stream.jl                   42 stream_wait(::Task)                    \n",
      "     2 ./stream.jl                  830 unsafe_write(::Base.PipeEndpoint, :... \n",
      "     1 ./stream.jl                  450 uv_alloc_buf(::Ptr{Void}, ::UInt64,... \n",
      "     1 ./stream.jl                  809 uv_write(::Base.PipeEndpoint, ::Ptr... \n",
      "     1 ./stream.jl                  820 uv_write(::Base.PipeEndpoint, ::Ptr... \n",
      "     3 ./stream.jl                  303 wait_readnb(::Base.PipeEndpoint, ::... \n",
      "     6 ./strings/io.jl               37 #sprint#316(::Void, ::Function, ::I... \n",
      "     2 ./strings/io.jl               19 print(::Base.PipeEndpoint, ::String... \n",
      "     1 ./strings/io.jl               70 print(::Base.PipeEndpoint, ::String)   \n",
      "     5 ./strings/io.jl               70 print                                  \n",
      "    53 ./subarray.jl                150 getindex                               \n",
      "     5 ./subarray.jl                276 indices                                \n",
      "     7 ./subarray.jl                169 setindex!                              \n",
      "  8578 ./task.jl                    360 (::IJulia.##13#19)()                   \n",
      "     3 ./task.jl                    360 (::IJulia.##24#28)()                   \n",
      "     1 ./task.jl                    191 task_done_hook(::Task)                 \n",
      "     4 ...lia/lib/julia/sys.dylib    -1 yieldto(::Task, ::ANY)                 \n",
      "     1 ...lia/lib/julia/sys.dylib    -1 jlcapi_uv_alloc_buf_22193              \n",
      "  8578 ...IJulia/src/eventloop.jl     8 eventloop(::ZMQ.Socket)                \n",
      "  8578 .../src/execute_request.jl   156 execute_request(::ZMQ.Socket, ::IJu... \n",
      "     4 .../v0.5/IJulia/src/msg.jl    23 msg_pub(::IJulia.Msg, ::String, ::D... \n",
      "     3 .../v0.5/IJulia/src/msg.jl    55 send_ipython(::ZMQ.Socket, ::IJulia... \n",
      "     2 .../v0.5/IJulia/src/msg.jl    56 send_ipython(::ZMQ.Socket, ::IJulia... \n",
      "     1 .../v0.5/IJulia/src/msg.jl    58 send_ipython(::ZMQ.Socket, ::IJulia... \n",
      "    10 ...0.5/IJulia/src/stdio.jl    88 send_stdio(::String)                   \n",
      "     1 ...0.5/IJulia/src/stdio.jl   109 send_stream(::String)                  \n",
      "     9 ...0.5/IJulia/src/stdio.jl   130 send_stream(::String)                  \n",
      "     3 ...0.5/IJulia/src/stdio.jl    51 watch_stream(::Base.PipeEndpoint, :... \n",
      "     5 ...v0.5/JSON/src/Writer.jl   329 #show_json#3(::Void, ::Function, ::... \n",
      "     5 ...v0.5/JSON/src/Writer.jl   337 print(::Base.AbstractIOBuffer{Array... \n",
      "     3 ...v0.5/JSON/src/Writer.jl   246 show_json(::JSON.Writer.CompactCont... \n",
      "     5 ...v0.5/JSON/src/Writer.jl   280 show_json(::JSON.Writer.CompactCont... \n",
      "     2 ...v0.5/JSON/src/Writer.jl   224 show_key(::JSON.Writer.CompactConte... \n",
      "     2 ...v0.5/JSON/src/Writer.jl   235 show_pair                              \n",
      "     5 ...v0.5/JSON/src/Writer.jl   238 show_pair(::JSON.Writer.CompactCont... \n",
      "     5 ...v0.5/JSON/src/Writer.jl   193 show_string                            \n",
      "     8 ...pute/src/haplotyping.jl   174 fillgeno!(::SubArray{Float32,2,Arra... \n",
      "    17 ...pute/src/haplotyping.jl   175 fillgeno!(::SubArray{Float32,2,Arra... \n",
      "    15 ...pute/src/haplotyping.jl   146 fillmissing!(::NullableArrays.Nulla... \n",
      "    31 ...pute/src/haplotyping.jl   147 fillmissing!(::NullableArrays.Nulla... \n",
      "    54 ...pute/src/haplotyping.jl   148 fillmissing!(::NullableArrays.Nulla... \n",
      "    15 ...pute/src/haplotyping.jl   149 fillmissing!(::NullableArrays.Nulla... \n",
      "     5 ...pute/src/haplotyping.jl   150 fillmissing!(::NullableArrays.Nulla... \n",
      "   275 ...pute/src/haplotyping.jl   239 haploimpute!(::NullableArrays.Nulla... \n",
      "  8107 ...pute/src/haplotyping.jl   242 haploimpute!(::NullableArrays.Nulla... \n",
      "   120 ...pute/src/haplotyping.jl   244 haploimpute!(::NullableArrays.Nulla... \n",
      "  8578 ...pute/src/haplotyping.jl   280 haploimpute!(::NullableArrays.Nulla... \n",
      "     1 ...pute/src/haplotyping.jl   295 haploimpute!(::NullableArrays.Nulla... \n",
      "    88 ...pute/src/haplotyping.jl   307 haploimpute!(::NullableArrays.Nulla... \n",
      "     2 ...pute/src/haplotyping.jl   315 haploimpute!(::NullableArrays.Nulla... \n",
      "    25 ...pute/src/haplotyping.jl   320 haploimpute!(::NullableArrays.Nulla... \n",
      "    12 ...pute/src/haplotyping.jl   321 haploimpute!(::NullableArrays.Nulla... \n",
      "    25 ...pute/src/haplotyping.jl   325 haploimpute!(::NullableArrays.Nulla... \n",
      "     6 ...pute/src/haplotyping.jl   326 haploimpute!(::NullableArrays.Nulla... \n",
      "  8323 ...pute/src/haplotyping.jl   329 haploimpute!(::NullableArrays.Nulla... \n",
      "     5 ...pute/src/haplotyping.jl   336 haploimpute!(::NullableArrays.Nulla... \n",
      "    91 ...pute/src/haplotyping.jl   348 haploimpute!(::NullableArrays.Nulla... \n",
      "     2 ...pute/src/haplotyping.jl    28 haplopair!(::Tuple{Array{Int64,1},A... \n",
      "    41 ...pute/src/haplotyping.jl    29 haplopair!(::Tuple{Array{Int64,1},A... \n",
      "   840 ...pute/src/haplotyping.jl    31 haplopair!(::Tuple{Array{Int64,1},A... \n",
      "  1138 ...pute/src/haplotyping.jl    32 haplopair!(::Tuple{Array{Int64,1},A... \n",
      "  4295 ...pute/src/haplotyping.jl    33 haplopair!(::Tuple{Array{Int64,1},A... \n",
      "     1 ...pute/src/haplotyping.jl    34 haplopair!(::Tuple{Array{Int64,1},A... \n",
      "     2 ...pute/src/haplotyping.jl    35 haplopair!(::Tuple{Array{Int64,1},A... \n",
      "  1658 ...pute/src/haplotyping.jl    36 haplopair!(::Tuple{Array{Int64,1},A... \n",
      "    45 ...pute/src/haplotyping.jl   101 haplopair!(::Array{Float32,2}, ::Su... \n",
      "     1 ...pute/src/haplotyping.jl   103 haplopair!(::Array{Float32,2}, ::Su... \n",
      "    19 ...pute/src/haplotyping.jl   104 haplopair!(::Array{Float32,2}, ::Su... \n",
      "    31 ...pute/src/haplotyping.jl   110 haplopair!(::Array{Float32,2}, ::Su... \n",
      "    12 ...pute/src/haplotyping.jl   112 haplopair!(::Array{Float32,2}, ::Su... \n",
      "  7977 ...pute/src/haplotyping.jl   114 haplopair!(::Array{Float32,2}, ::Su... \n",
      "    22 ...pute/src/haplotyping.jl   116 haplopair!(::Array{Float32,2}, ::Su... \n",
      "    32 ...pute/src/haplotyping.jl   192 initmissing!(::NullableArrays.Nulla... \n",
      "    70 ...pute/src/haplotyping.jl   193 initmissing!(::NullableArrays.Nulla... \n",
      "     2 ...pute/src/haplotyping.jl   194 initmissing!(::NullableArrays.Nulla... \n",
      "   106 ...pute/src/haplotyping.jl   195 initmissing!(::NullableArrays.Nulla... \n",
      "     1 ...pute/src/haplotyping.jl   199 initmissing!(::NullableArrays.Nulla... \n",
      "    13 ...pute/src/haplotyping.jl   200 initmissing!(::NullableArrays.Nulla... \n",
      "    21 ...pute/src/haplotyping.jl   201 initmissing!(::NullableArrays.Nulla... \n",
      "    30 ...pute/src/haplotyping.jl   202 initmissing!(::NullableArrays.Nulla... \n",
      "    21 ...pute/src/haplotyping.jl   117 macro expansion                        \n",
      "     3 ...ays/src/constructors.jl    25 Type                                   \n",
      "     1 ...eArrays/src/indexing.jl    59 setindex!                              \n",
      "     1 ...eArrays/src/indexing.jl    60 setindex!                              \n",
      "     3 ...rrays/src/primitives.jl    20 similar                                \n"
     ]
    }
   ],
   "source": [
    "Profile.clear()\n",
    "@profile haploimpute!(Xm, H, 400)\n",
    "Profile.print(format=:flat)"
   ]
  },
  {
   "cell_type": "markdown",
   "metadata": {},
   "source": [
    "Effect of window size on accuracy and efficiency"
   ]
  },
  {
   "cell_type": "code",
   "execution_count": 22,
   "metadata": {
    "collapsed": false
   },
   "outputs": [
    {
     "name": "stdout",
     "output_type": "stream",
     "text": [
      "elapsed time: 41.73594279 seconds\n",
      "width = 100, time = 41.73594279, error rate = 0.00833301364195308\n",
      "elapsed time: 21.8081875 seconds\n",
      "width = 200, time = 21.8081875, error rate = 0.0047900081387237834\n",
      "elapsed time: 14.974606267 seconds\n",
      "width = 300, time = 14.974606267, error rate = 0.0034732921570835565\n",
      "elapsed time: 11.579635779 seconds\n",
      "width = 400, time = 11.579635779, error rate = 0.0028961976525990083\n",
      "elapsed time: 9.299666575 seconds\n",
      "width = 500, time = 9.299666575, error rate = 0.002613219217948258\n",
      "elapsed time: 7.901966825 seconds\n",
      "width = 600, time = 7.901966825, error rate = 0.0023859289592127425\n",
      "elapsed time: 7.063780896 seconds\n",
      "width = 700, time = 7.063780896, error rate = 0.0016541450771858743\n",
      "elapsed time: 6.179781395 seconds\n",
      "width = 800, time = 6.179781395, error rate = 0.0023859289592127425\n",
      "elapsed time: 5.621487093 seconds\n",
      "width = 900, time = 5.621487093, error rate = 0.0031210128812938468\n",
      "elapsed time: 5.252953074 seconds\n",
      "width = 1000, time = 5.252953074, error rate = 0.003630869069673333\n",
      "elapsed time: 4.842683105 seconds\n",
      "width = 1100, time = 4.842683105, error rate = 0.004787120603676327\n",
      "elapsed time: 4.770646253 seconds\n",
      "width = 1200, time = 4.770646253, error rate = 0.0060832113349775785\n"
     ]
    }
   ],
   "source": [
    "width_range = 100:100:1200\n",
    "timing = zeros(length(width_range))\n",
    "errate = zeros(length(width_range))\n",
    "for i in eachindex(width_range)\n",
    "    tic()\n",
    "    haploimpute!(Xm, H, width_range[i], 1, 1e-3, false)\n",
    "    timing[i] = toc()\n",
    "    missing_impute = Xm.values[Xm.isnull]\n",
    "    errate[i] = countnz(missing_true .≠ missing_impute) / length(missing_true)\n",
    "    println(\"width = $(width_range[i]), time = $(timing[i]), error rate = $(errate[i])\")\n",
    "end"
   ]
  },
  {
   "cell_type": "code",
   "execution_count": 26,
   "metadata": {
    "collapsed": false
   },
   "outputs": [
    {
     "data": {
      "text/html": [
       "<?xml version=\"1.0\" encoding=\"utf-8\"?>\n",
       "<svg xmlns=\"http://www.w3.org/2000/svg\" xmlns:xlink=\"http://www.w3.org/1999/xlink\" width=\"600\" height=\"400\" viewBox=\"0 0 600 400\">\n",
       "<defs>\n",
       "  <clipPath id=\"clip00\">\n",
       "    <rect x=\"0\" y=\"0\" width=\"600\" height=\"400\"/>\n",
       "  </clipPath>\n",
       "</defs>\n",
       "<polygon clip-path=\"url(#clip00)\" points=\"\n",
       "0,400 600,400 600,0 0,0 \n",
       "  \" fill=\"#ffffff\" fill-opacity=\"1\"/>\n",
       "<defs>\n",
       "  <clipPath id=\"clip01\">\n",
       "    <rect x=\"120\" y=\"0\" width=\"421\" height=\"400\"/>\n",
       "  </clipPath>\n",
       "</defs>\n",
       "<polygon clip-path=\"url(#clip00)\" points=\"\n",
       "39.3701,368.504 592.126,368.504 592.126,7.87402 39.3701,7.87402 \n",
       "  \" fill=\"#ffffff\" fill-opacity=\"1\"/>\n",
       "<defs>\n",
       "  <clipPath id=\"clip02\">\n",
       "    <rect x=\"39\" y=\"7\" width=\"553\" height=\"361\"/>\n",
       "  </clipPath>\n",
       "</defs>\n",
       "<polyline clip-path=\"url(#clip02)\" style=\"stroke:#00002d; stroke-width:0.8; stroke-opacity:0.5; fill:none\" stroke-dasharray=\"1, 2\" points=\"\n",
       "  89.6206,363.094 89.6206,13.2835 \n",
       "  \"/>\n",
       "<polyline clip-path=\"url(#clip02)\" style=\"stroke:#00002d; stroke-width:0.8; stroke-opacity:0.5; fill:none\" stroke-dasharray=\"1, 2\" points=\"\n",
       "  190.122,363.094 190.122,13.2835 \n",
       "  \"/>\n",
       "<polyline clip-path=\"url(#clip02)\" style=\"stroke:#00002d; stroke-width:0.8; stroke-opacity:0.5; fill:none\" stroke-dasharray=\"1, 2\" points=\"\n",
       "  290.623,363.094 290.623,13.2835 \n",
       "  \"/>\n",
       "<polyline clip-path=\"url(#clip02)\" style=\"stroke:#00002d; stroke-width:0.8; stroke-opacity:0.5; fill:none\" stroke-dasharray=\"1, 2\" points=\"\n",
       "  391.124,363.094 391.124,13.2835 \n",
       "  \"/>\n",
       "<polyline clip-path=\"url(#clip02)\" style=\"stroke:#00002d; stroke-width:0.8; stroke-opacity:0.5; fill:none\" stroke-dasharray=\"1, 2\" points=\"\n",
       "  491.625,363.094 491.625,13.2835 \n",
       "  \"/>\n",
       "<polyline clip-path=\"url(#clip02)\" style=\"stroke:#00002d; stroke-width:0.8; stroke-opacity:0.5; fill:none\" stroke-dasharray=\"1, 2\" points=\"\n",
       "  592.126,363.094 592.126,13.2835 \n",
       "  \"/>\n",
       "<polyline clip-path=\"url(#clip02)\" style=\"stroke:#00002d; stroke-width:0.8; stroke-opacity:0.5; fill:none\" stroke-dasharray=\"1, 2\" points=\"\n",
       "  47.6614,317.487 583.835,317.487 \n",
       "  \"/>\n",
       "<polyline clip-path=\"url(#clip02)\" style=\"stroke:#00002d; stroke-width:0.8; stroke-opacity:0.5; fill:none\" stroke-dasharray=\"1, 2\" points=\"\n",
       "  47.6614,219.928 583.835,219.928 \n",
       "  \"/>\n",
       "<polyline clip-path=\"url(#clip02)\" style=\"stroke:#00002d; stroke-width:0.8; stroke-opacity:0.5; fill:none\" stroke-dasharray=\"1, 2\" points=\"\n",
       "  47.6614,122.369 583.835,122.369 \n",
       "  \"/>\n",
       "<polyline clip-path=\"url(#clip02)\" style=\"stroke:#00002d; stroke-width:0.8; stroke-opacity:0.5; fill:none\" stroke-dasharray=\"1, 2\" points=\"\n",
       "  47.6614,24.8097 583.835,24.8097 \n",
       "  \"/>\n",
       "<polyline clip-path=\"url(#clip00)\" style=\"stroke:#00002d; stroke-width:0.8; stroke-opacity:1; fill:none\" points=\"\n",
       "  39.3701,368.504 592.126,368.504 \n",
       "  \"/>\n",
       "<polyline clip-path=\"url(#clip00)\" style=\"stroke:#00002d; stroke-width:0.8; stroke-opacity:1; fill:none\" points=\"\n",
       "  89.6206,368.504 89.6206,363.094 \n",
       "  \"/>\n",
       "<polyline clip-path=\"url(#clip00)\" style=\"stroke:#00002d; stroke-width:0.8; stroke-opacity:1; fill:none\" points=\"\n",
       "  190.122,368.504 190.122,363.094 \n",
       "  \"/>\n",
       "<polyline clip-path=\"url(#clip00)\" style=\"stroke:#00002d; stroke-width:0.8; stroke-opacity:1; fill:none\" points=\"\n",
       "  290.623,368.504 290.623,363.094 \n",
       "  \"/>\n",
       "<polyline clip-path=\"url(#clip00)\" style=\"stroke:#00002d; stroke-width:0.8; stroke-opacity:1; fill:none\" points=\"\n",
       "  391.124,368.504 391.124,363.094 \n",
       "  \"/>\n",
       "<polyline clip-path=\"url(#clip00)\" style=\"stroke:#00002d; stroke-width:0.8; stroke-opacity:1; fill:none\" points=\"\n",
       "  491.625,368.504 491.625,363.094 \n",
       "  \"/>\n",
       "<polyline clip-path=\"url(#clip00)\" style=\"stroke:#00002d; stroke-width:0.8; stroke-opacity:1; fill:none\" points=\"\n",
       "  592.126,368.504 592.126,363.094 \n",
       "  \"/>\n",
       "<polyline clip-path=\"url(#clip00)\" style=\"stroke:#00002d; stroke-width:0.8; stroke-opacity:1; fill:none\" points=\"\n",
       "  39.3701,368.504 39.3701,7.87402 \n",
       "  \"/>\n",
       "<polyline clip-path=\"url(#clip00)\" style=\"stroke:#00002d; stroke-width:0.8; stroke-opacity:1; fill:none\" points=\"\n",
       "  39.3701,317.487 47.6614,317.487 \n",
       "  \"/>\n",
       "<polyline clip-path=\"url(#clip00)\" style=\"stroke:#00002d; stroke-width:0.8; stroke-opacity:1; fill:none\" points=\"\n",
       "  39.3701,219.928 47.6614,219.928 \n",
       "  \"/>\n",
       "<polyline clip-path=\"url(#clip00)\" style=\"stroke:#00002d; stroke-width:0.8; stroke-opacity:1; fill:none\" points=\"\n",
       "  39.3701,122.369 47.6614,122.369 \n",
       "  \"/>\n",
       "<polyline clip-path=\"url(#clip00)\" style=\"stroke:#00002d; stroke-width:0.8; stroke-opacity:1; fill:none\" points=\"\n",
       "  39.3701,24.8097 47.6614,24.8097 \n",
       "  \"/>\n",
       "<g clip-path=\"url(#clip00)\">\n",
       "<text style=\"fill:#00002d; fill-opacity:1; font-family:Arial,Helvetica Neue,Helvetica,sans-serif; font-size:12; text-anchor:middle;\" transform=\"rotate(0, 89.6206, 382.304)\" x=\"89.6206\" y=\"382.304\">200</text>\n",
       "</g>\n",
       "<g clip-path=\"url(#clip00)\">\n",
       "<text style=\"fill:#00002d; fill-opacity:1; font-family:Arial,Helvetica Neue,Helvetica,sans-serif; font-size:12; text-anchor:middle;\" transform=\"rotate(0, 190.122, 382.304)\" x=\"190.122\" y=\"382.304\">400</text>\n",
       "</g>\n",
       "<g clip-path=\"url(#clip00)\">\n",
       "<text style=\"fill:#00002d; fill-opacity:1; font-family:Arial,Helvetica Neue,Helvetica,sans-serif; font-size:12; text-anchor:middle;\" transform=\"rotate(0, 290.623, 382.304)\" x=\"290.623\" y=\"382.304\">600</text>\n",
       "</g>\n",
       "<g clip-path=\"url(#clip00)\">\n",
       "<text style=\"fill:#00002d; fill-opacity:1; font-family:Arial,Helvetica Neue,Helvetica,sans-serif; font-size:12; text-anchor:middle;\" transform=\"rotate(0, 391.124, 382.304)\" x=\"391.124\" y=\"382.304\">800</text>\n",
       "</g>\n",
       "<g clip-path=\"url(#clip00)\">\n",
       "<text style=\"fill:#00002d; fill-opacity:1; font-family:Arial,Helvetica Neue,Helvetica,sans-serif; font-size:12; text-anchor:middle;\" transform=\"rotate(0, 491.625, 382.304)\" x=\"491.625\" y=\"382.304\">1000</text>\n",
       "</g>\n",
       "<g clip-path=\"url(#clip00)\">\n",
       "<text style=\"fill:#00002d; fill-opacity:1; font-family:Arial,Helvetica Neue,Helvetica,sans-serif; font-size:12; text-anchor:middle;\" transform=\"rotate(0, 592.126, 382.304)\" x=\"592.126\" y=\"382.304\">1200</text>\n",
       "</g>\n",
       "<g clip-path=\"url(#clip00)\">\n",
       "<text style=\"fill:#00002d; fill-opacity:1; font-family:Arial,Helvetica Neue,Helvetica,sans-serif; font-size:12; text-anchor:end;\" transform=\"rotate(0, 33.3701, 321.987)\" x=\"33.3701\" y=\"321.987\">10</text>\n",
       "</g>\n",
       "<g clip-path=\"url(#clip00)\">\n",
       "<text style=\"fill:#00002d; fill-opacity:1; font-family:Arial,Helvetica Neue,Helvetica,sans-serif; font-size:12; text-anchor:end;\" transform=\"rotate(0, 33.3701, 224.428)\" x=\"33.3701\" y=\"224.428\">20</text>\n",
       "</g>\n",
       "<g clip-path=\"url(#clip00)\">\n",
       "<text style=\"fill:#00002d; fill-opacity:1; font-family:Arial,Helvetica Neue,Helvetica,sans-serif; font-size:12; text-anchor:end;\" transform=\"rotate(0, 33.3701, 126.869)\" x=\"33.3701\" y=\"126.869\">30</text>\n",
       "</g>\n",
       "<g clip-path=\"url(#clip00)\">\n",
       "<text style=\"fill:#00002d; fill-opacity:1; font-family:Arial,Helvetica Neue,Helvetica,sans-serif; font-size:12; text-anchor:end;\" transform=\"rotate(0, 33.3701, 29.3097)\" x=\"33.3701\" y=\"29.3097\">40</text>\n",
       "</g>\n",
       "<g clip-path=\"url(#clip00)\">\n",
       "<text style=\"fill:#00002d; fill-opacity:1; font-family:Arial,Helvetica Neue,Helvetica,sans-serif; font-size:16; text-anchor:middle;\" transform=\"rotate(0, 315.748, 397.6)\" x=\"315.748\" y=\"397.6\">Window width</text>\n",
       "</g>\n",
       "<g clip-path=\"url(#clip00)\">\n",
       "<text style=\"fill:#00002d; fill-opacity:1; font-family:Arial,Helvetica Neue,Helvetica,sans-serif; font-size:16; text-anchor:middle;\" transform=\"rotate(-90, 14.4, 188.189)\" x=\"14.4\" y=\"188.189\">Run time in seconds</text>\n",
       "</g>\n",
       "<polyline clip-path=\"url(#clip02)\" style=\"stroke:#0099ff; stroke-width:0.8; stroke-opacity:1; fill:none\" points=\"\n",
       "  39.3701,7.87402 89.6206,202.287 139.871,268.955 190.122,302.076 240.372,324.319 290.623,337.955 340.873,346.132 391.124,354.757 441.374,360.203 491.625,363.799 \n",
       "  541.875,367.801 592.126,368.504 \n",
       "  \"/>\n",
       "<polygon clip-path=\"url(#clip00)\" points=\"\n",
       "501.61,58.994 574.126,58.994 574.126,28.754 501.61,28.754 \n",
       "  \" fill=\"#ffffff\" fill-opacity=\"1\"/>\n",
       "<polyline clip-path=\"url(#clip00)\" style=\"stroke:#00002d; stroke-width:0.8; stroke-opacity:1; fill:none\" points=\"\n",
       "  501.61,58.994 574.126,58.994 574.126,28.754 501.61,28.754 501.61,58.994 \n",
       "  \"/>\n",
       "<polyline clip-path=\"url(#clip00)\" style=\"stroke:#0099ff; stroke-width:0.8; stroke-opacity:1; fill:none\" points=\"\n",
       "  507.61,43.874 543.61,43.874 \n",
       "  \"/>\n",
       "<g clip-path=\"url(#clip00)\">\n",
       "<text style=\"fill:#00002d; fill-opacity:1; font-family:Arial,Helvetica Neue,Helvetica,sans-serif; font-size:12; text-anchor:start;\" transform=\"rotate(0, 549.61, 48.374)\" x=\"549.61\" y=\"48.374\">y1</text>\n",
       "</g>\n",
       "</svg>\n"
      ]
     },
     "execution_count": 26,
     "metadata": {},
     "output_type": "execute_result"
    },
    {
     "name": "stdout",
     "output_type": "stream",
     "text": [
      "best\n"
     ]
    }
   ],
   "source": [
    "using Plots\n",
    "gr()\n",
    "\n",
    "plot(width_range, timing; xlabel = \"Window width\", ylabel = \"Run time in seconds\")"
   ]
  },
  {
   "cell_type": "code",
   "execution_count": 27,
   "metadata": {
    "collapsed": false
   },
   "outputs": [
    {
     "data": {
      "text/html": [
       "<?xml version=\"1.0\" encoding=\"utf-8\"?>\n",
       "<svg xmlns=\"http://www.w3.org/2000/svg\" xmlns:xlink=\"http://www.w3.org/1999/xlink\" width=\"600\" height=\"400\" viewBox=\"0 0 600 400\">\n",
       "<defs>\n",
       "  <clipPath id=\"clip00\">\n",
       "    <rect x=\"0\" y=\"0\" width=\"600\" height=\"400\"/>\n",
       "  </clipPath>\n",
       "</defs>\n",
       "<polygon clip-path=\"url(#clip00)\" points=\"\n",
       "0,400 600,400 600,0 0,0 \n",
       "  \" fill=\"#ffffff\" fill-opacity=\"1\"/>\n",
       "<defs>\n",
       "  <clipPath id=\"clip01\">\n",
       "    <rect x=\"120\" y=\"0\" width=\"421\" height=\"400\"/>\n",
       "  </clipPath>\n",
       "</defs>\n",
       "<polygon clip-path=\"url(#clip00)\" points=\"\n",
       "39.3701,368.504 592.126,368.504 592.126,7.87402 39.3701,7.87402 \n",
       "  \" fill=\"#ffffff\" fill-opacity=\"1\"/>\n",
       "<defs>\n",
       "  <clipPath id=\"clip02\">\n",
       "    <rect x=\"39\" y=\"7\" width=\"553\" height=\"361\"/>\n",
       "  </clipPath>\n",
       "</defs>\n",
       "<polyline clip-path=\"url(#clip02)\" style=\"stroke:#00002d; stroke-width:0.8; stroke-opacity:0.5; fill:none\" stroke-dasharray=\"1, 2\" points=\"\n",
       "  89.6206,363.094 89.6206,13.2835 \n",
       "  \"/>\n",
       "<polyline clip-path=\"url(#clip02)\" style=\"stroke:#00002d; stroke-width:0.8; stroke-opacity:0.5; fill:none\" stroke-dasharray=\"1, 2\" points=\"\n",
       "  190.122,363.094 190.122,13.2835 \n",
       "  \"/>\n",
       "<polyline clip-path=\"url(#clip02)\" style=\"stroke:#00002d; stroke-width:0.8; stroke-opacity:0.5; fill:none\" stroke-dasharray=\"1, 2\" points=\"\n",
       "  290.623,363.094 290.623,13.2835 \n",
       "  \"/>\n",
       "<polyline clip-path=\"url(#clip02)\" style=\"stroke:#00002d; stroke-width:0.8; stroke-opacity:0.5; fill:none\" stroke-dasharray=\"1, 2\" points=\"\n",
       "  391.124,363.094 391.124,13.2835 \n",
       "  \"/>\n",
       "<polyline clip-path=\"url(#clip02)\" style=\"stroke:#00002d; stroke-width:0.8; stroke-opacity:0.5; fill:none\" stroke-dasharray=\"1, 2\" points=\"\n",
       "  491.625,363.094 491.625,13.2835 \n",
       "  \"/>\n",
       "<polyline clip-path=\"url(#clip02)\" style=\"stroke:#00002d; stroke-width:0.8; stroke-opacity:0.5; fill:none\" stroke-dasharray=\"1, 2\" points=\"\n",
       "  592.126,363.094 592.126,13.2835 \n",
       "  \"/>\n",
       "<polyline clip-path=\"url(#clip02)\" style=\"stroke:#00002d; stroke-width:0.8; stroke-opacity:0.5; fill:none\" stroke-dasharray=\"1, 2\" points=\"\n",
       "  47.6614,322.831 583.835,322.831 \n",
       "  \"/>\n",
       "<polyline clip-path=\"url(#clip02)\" style=\"stroke:#00002d; stroke-width:0.8; stroke-opacity:0.5; fill:none\" stroke-dasharray=\"1, 2\" points=\"\n",
       "  47.6614,187.842 583.835,187.842 \n",
       "  \"/>\n",
       "<polyline clip-path=\"url(#clip02)\" style=\"stroke:#00002d; stroke-width:0.8; stroke-opacity:0.5; fill:none\" stroke-dasharray=\"1, 2\" points=\"\n",
       "  47.6614,52.8531 583.835,52.8531 \n",
       "  \"/>\n",
       "<polyline clip-path=\"url(#clip00)\" style=\"stroke:#00002d; stroke-width:0.8; stroke-opacity:1; fill:none\" points=\"\n",
       "  39.3701,368.504 592.126,368.504 \n",
       "  \"/>\n",
       "<polyline clip-path=\"url(#clip00)\" style=\"stroke:#00002d; stroke-width:0.8; stroke-opacity:1; fill:none\" points=\"\n",
       "  89.6206,368.504 89.6206,363.094 \n",
       "  \"/>\n",
       "<polyline clip-path=\"url(#clip00)\" style=\"stroke:#00002d; stroke-width:0.8; stroke-opacity:1; fill:none\" points=\"\n",
       "  190.122,368.504 190.122,363.094 \n",
       "  \"/>\n",
       "<polyline clip-path=\"url(#clip00)\" style=\"stroke:#00002d; stroke-width:0.8; stroke-opacity:1; fill:none\" points=\"\n",
       "  290.623,368.504 290.623,363.094 \n",
       "  \"/>\n",
       "<polyline clip-path=\"url(#clip00)\" style=\"stroke:#00002d; stroke-width:0.8; stroke-opacity:1; fill:none\" points=\"\n",
       "  391.124,368.504 391.124,363.094 \n",
       "  \"/>\n",
       "<polyline clip-path=\"url(#clip00)\" style=\"stroke:#00002d; stroke-width:0.8; stroke-opacity:1; fill:none\" points=\"\n",
       "  491.625,368.504 491.625,363.094 \n",
       "  \"/>\n",
       "<polyline clip-path=\"url(#clip00)\" style=\"stroke:#00002d; stroke-width:0.8; stroke-opacity:1; fill:none\" points=\"\n",
       "  592.126,368.504 592.126,363.094 \n",
       "  \"/>\n",
       "<polyline clip-path=\"url(#clip00)\" style=\"stroke:#00002d; stroke-width:0.8; stroke-opacity:1; fill:none\" points=\"\n",
       "  39.3701,368.504 39.3701,7.87402 \n",
       "  \"/>\n",
       "<polyline clip-path=\"url(#clip00)\" style=\"stroke:#00002d; stroke-width:0.8; stroke-opacity:1; fill:none\" points=\"\n",
       "  39.3701,322.831 47.6614,322.831 \n",
       "  \"/>\n",
       "<polyline clip-path=\"url(#clip00)\" style=\"stroke:#00002d; stroke-width:0.8; stroke-opacity:1; fill:none\" points=\"\n",
       "  39.3701,187.842 47.6614,187.842 \n",
       "  \"/>\n",
       "<polyline clip-path=\"url(#clip00)\" style=\"stroke:#00002d; stroke-width:0.8; stroke-opacity:1; fill:none\" points=\"\n",
       "  39.3701,52.8531 47.6614,52.8531 \n",
       "  \"/>\n",
       "<g clip-path=\"url(#clip00)\">\n",
       "<text style=\"fill:#00002d; fill-opacity:1; font-family:Arial,Helvetica Neue,Helvetica,sans-serif; font-size:12; text-anchor:middle;\" transform=\"rotate(0, 89.6206, 382.304)\" x=\"89.6206\" y=\"382.304\">200</text>\n",
       "</g>\n",
       "<g clip-path=\"url(#clip00)\">\n",
       "<text style=\"fill:#00002d; fill-opacity:1; font-family:Arial,Helvetica Neue,Helvetica,sans-serif; font-size:12; text-anchor:middle;\" transform=\"rotate(0, 190.122, 382.304)\" x=\"190.122\" y=\"382.304\">400</text>\n",
       "</g>\n",
       "<g clip-path=\"url(#clip00)\">\n",
       "<text style=\"fill:#00002d; fill-opacity:1; font-family:Arial,Helvetica Neue,Helvetica,sans-serif; font-size:12; text-anchor:middle;\" transform=\"rotate(0, 290.623, 382.304)\" x=\"290.623\" y=\"382.304\">600</text>\n",
       "</g>\n",
       "<g clip-path=\"url(#clip00)\">\n",
       "<text style=\"fill:#00002d; fill-opacity:1; font-family:Arial,Helvetica Neue,Helvetica,sans-serif; font-size:12; text-anchor:middle;\" transform=\"rotate(0, 391.124, 382.304)\" x=\"391.124\" y=\"382.304\">800</text>\n",
       "</g>\n",
       "<g clip-path=\"url(#clip00)\">\n",
       "<text style=\"fill:#00002d; fill-opacity:1; font-family:Arial,Helvetica Neue,Helvetica,sans-serif; font-size:12; text-anchor:middle;\" transform=\"rotate(0, 491.625, 382.304)\" x=\"491.625\" y=\"382.304\">1000</text>\n",
       "</g>\n",
       "<g clip-path=\"url(#clip00)\">\n",
       "<text style=\"fill:#00002d; fill-opacity:1; font-family:Arial,Helvetica Neue,Helvetica,sans-serif; font-size:12; text-anchor:middle;\" transform=\"rotate(0, 592.126, 382.304)\" x=\"592.126\" y=\"382.304\">1200</text>\n",
       "</g>\n",
       "<g clip-path=\"url(#clip00)\">\n",
       "<text style=\"fill:#00002d; fill-opacity:1; font-family:Arial,Helvetica Neue,Helvetica,sans-serif; font-size:12; text-anchor:end;\" transform=\"rotate(0, 33.3701, 327.331)\" x=\"33.3701\" y=\"327.331\">0.0025</text>\n",
       "</g>\n",
       "<g clip-path=\"url(#clip00)\">\n",
       "<text style=\"fill:#00002d; fill-opacity:1; font-family:Arial,Helvetica Neue,Helvetica,sans-serif; font-size:12; text-anchor:end;\" transform=\"rotate(0, 33.3701, 192.342)\" x=\"33.3701\" y=\"192.342\">0.0050</text>\n",
       "</g>\n",
       "<g clip-path=\"url(#clip00)\">\n",
       "<text style=\"fill:#00002d; fill-opacity:1; font-family:Arial,Helvetica Neue,Helvetica,sans-serif; font-size:12; text-anchor:end;\" transform=\"rotate(0, 33.3701, 57.3531)\" x=\"33.3701\" y=\"57.3531\">0.0075</text>\n",
       "</g>\n",
       "<g clip-path=\"url(#clip00)\">\n",
       "<text style=\"fill:#00002d; fill-opacity:1; font-family:Arial,Helvetica Neue,Helvetica,sans-serif; font-size:16; text-anchor:middle;\" transform=\"rotate(0, 315.748, 397.6)\" x=\"315.748\" y=\"397.6\">Window width</text>\n",
       "</g>\n",
       "<g clip-path=\"url(#clip00)\">\n",
       "<text style=\"fill:#00002d; fill-opacity:1; font-family:Arial,Helvetica Neue,Helvetica,sans-serif; font-size:16; text-anchor:middle;\" transform=\"rotate(-90, 14.4, 188.189)\" x=\"14.4\" y=\"188.189\">Error rate</text>\n",
       "</g>\n",
       "<polyline clip-path=\"url(#clip02)\" style=\"stroke:#0099ff; stroke-width:0.8; stroke-opacity:1; fill:none\" points=\"\n",
       "  39.3701,7.87402 89.6206,199.181 139.871,270.278 190.122,301.438 240.372,316.718 290.623,328.991 340.873,368.504 391.124,328.991 441.374,289.299 491.625,261.769 \n",
       "  541.875,199.337 592.126,129.354 \n",
       "  \"/>\n",
       "<polygon clip-path=\"url(#clip00)\" points=\"\n",
       "501.61,58.994 574.126,58.994 574.126,28.754 501.61,28.754 \n",
       "  \" fill=\"#ffffff\" fill-opacity=\"1\"/>\n",
       "<polyline clip-path=\"url(#clip00)\" style=\"stroke:#00002d; stroke-width:0.8; stroke-opacity:1; fill:none\" points=\"\n",
       "  501.61,58.994 574.126,58.994 574.126,28.754 501.61,28.754 501.61,58.994 \n",
       "  \"/>\n",
       "<polyline clip-path=\"url(#clip00)\" style=\"stroke:#0099ff; stroke-width:0.8; stroke-opacity:1; fill:none\" points=\"\n",
       "  507.61,43.874 543.61,43.874 \n",
       "  \"/>\n",
       "<g clip-path=\"url(#clip00)\">\n",
       "<text style=\"fill:#00002d; fill-opacity:1; font-family:Arial,Helvetica Neue,Helvetica,sans-serif; font-size:12; text-anchor:start;\" transform=\"rotate(0, 549.61, 48.374)\" x=\"549.61\" y=\"48.374\">y1</text>\n",
       "</g>\n",
       "</svg>\n"
      ]
     },
     "execution_count": 27,
     "metadata": {},
     "output_type": "execute_result"
    },
    {
     "name": "stdout",
     "output_type": "stream",
     "text": [
      "best\n"
     ]
    }
   ],
   "source": [
    "plot(width_range, errate; xlabel = \"Window width\", ylabel = \"Error rate\")"
   ]
  },
  {
   "cell_type": "markdown",
   "metadata": {},
   "source": [
    "## Phase + impute by moving window (without using flanking windows)"
   ]
  },
  {
   "cell_type": "code",
   "execution_count": 7,
   "metadata": {
    "collapsed": false
   },
   "outputs": [
    {
     "name": "stdout",
     "output_type": "stream",
     "text": [
      "Imputing SNPs 1:700\n",
      "Imputing SNPs 701:1400\n",
      "Imputing SNPs 1401:2100\n",
      "Imputing SNPs 2101:2800\n",
      "Imputing SNPs 2801:3500\n",
      "Imputing SNPs 3501:4200\n",
      "Imputing SNPs 4201:4900\n",
      "Imputing SNPs 4901:5600\n",
      "Imputing SNPs 5601:6300\n",
      "Imputing SNPs 6301:7000\n",
      "Imputing SNPs 7001:7700\n",
      "Imputing SNPs 7701:8400\n",
      "Imputing SNPs 8401:9100\n",
      "Imputing SNPs 9101:9800\n",
      "Imputing SNPs 9801:10500\n",
      "Imputing SNPs 10501:11200\n",
      "Imputing SNPs 11201:11900\n",
      "Imputing SNPs 11901:12600\n",
      "Imputing SNPs 12601:13300\n",
      "Imputing SNPs 13301:14000\n",
      "Imputing SNPs 14001:14700\n",
      "Imputing SNPs 14701:15400\n",
      "Imputing SNPs 15401:16100\n",
      "Imputing SNPs 16101:16800\n",
      "Imputing SNPs 16801:17500\n",
      "Imputing SNPs 17501:18200\n",
      "Imputing SNPs 18201:18900\n",
      "Imputing SNPs 18901:19600\n",
      "Imputing SNPs 19601:20300\n",
      "Imputing SNPs 20301:21000\n",
      "Imputing SNPs 21001:21700\n",
      "Imputing SNPs 21701:22400\n",
      "Imputing SNPs 22401:23100\n",
      "Imputing SNPs 23101:23800\n",
      "Imputing SNPs 23801:24500\n",
      "Imputing SNPs 24501:25200\n",
      "Imputing SNPs 25201:25900\n",
      "Imputing SNPs 25901:26600\n",
      "Imputing SNPs 26601:27300\n",
      "Imputing SNPs 27301:28000\n",
      "Imputing SNPs 28001:28700\n",
      "Imputing SNPs 28701:29400\n",
      "Imputing SNPs 29401:30100\n",
      "Imputing SNPs 30101:30800\n",
      "Imputing SNPs 30801:31500\n",
      "Imputing SNPs 31501:32200\n",
      "Imputing SNPs 32201:32900\n",
      "Imputing SNPs 32901:33600\n",
      "Imputing SNPs 33601:34300\n",
      "Imputing SNPs 34301:35000\n",
      "Imputing SNPs 35001:35700\n",
      "Imputing SNPs 35701:36498\n",
      "  6.189094 seconds (15.64 k allocations: 9.751 MB)\n"
     ]
    }
   ],
   "source": [
    "using BenchmarkTools, MendelImpute, NullableArrays\n",
    "\n",
    "srand(123)\n",
    "missingprop = 0.1\n",
    "Xm = NullableArray(X, full(sprand(Bool, size(X, 1), size(X, 2), missingprop)))\n",
    "missing_true = X[Xm.isnull]\n",
    "\n",
    "@time haploimpute2!(Xm, H, 700)"
   ]
  },
  {
   "cell_type": "code",
   "execution_count": 8,
   "metadata": {
    "collapsed": false
   },
   "outputs": [
    {
     "data": {
      "text/plain": [
       "0.005873658791533582"
      ]
     },
     "execution_count": 8,
     "metadata": {},
     "output_type": "execute_result"
    }
   ],
   "source": [
    "missing_impute = Xm.values[Xm.isnull]\n",
    "error = countnz(missing_true .≠ missing_impute) / length(missing_true)"
   ]
  },
  {
   "cell_type": "markdown",
   "metadata": {},
   "source": [
    "Effect of window size on accuracy and efficiency:"
   ]
  },
  {
   "cell_type": "code",
   "execution_count": 9,
   "metadata": {
    "collapsed": false
   },
   "outputs": [
    {
     "name": "stdout",
     "output_type": "stream",
     "text": [
      "elapsed time: 40.783153261 seconds\n",
      "width = 100, time = 40.783153261, error rate = 0.018497962019014005\n",
      "elapsed time: 20.970876335 seconds\n",
      "width = 200, time = 20.970876335, error rate = 0.010794431017406474\n",
      "elapsed time: 14.210843629 seconds\n",
      "width = 300, time = 14.210843629, error rate = 0.008651880012193648\n",
      "elapsed time: 10.822690163 seconds\n",
      "width = 400, time = 10.822690163, error rate = 0.005433515949299835\n",
      "elapsed time: 8.628874197 seconds\n",
      "width = 500, time = 8.628874197, error rate = 0.008184924344519232\n",
      "elapsed time: 7.304556791 seconds\n",
      "width = 600, time = 7.304556791, error rate = 0.008458002659007273\n",
      "elapsed time: 6.36419416 seconds\n",
      "width = 700, time = 6.36419416, error rate = 0.008990959127766414\n",
      "elapsed time: 5.620063007 seconds\n",
      "width = 800, time = 5.620063007, error rate = 0.00938036385416628\n",
      "elapsed time: 5.020741236 seconds\n",
      "width = 900, time = 5.020741236, error rate = 0.010466489537016755\n",
      "elapsed time: 4.550185668 seconds\n",
      "width = 1000, time = 4.550185668, error rate = 0.011280361915392749\n",
      "elapsed time: 4.214028492 seconds\n",
      "width = 1100, time = 4.214028492, error rate = 0.011936657381178963\n",
      "elapsed time: 3.909549378 seconds\n",
      "width = 1200, time = 3.909549378, error rate = 0.012547577296219433\n"
     ]
    }
   ],
   "source": [
    "width_range = 100:100:1200\n",
    "timing = zeros(length(width_range))\n",
    "errate = zeros(length(width_range))\n",
    "for i in eachindex(width_range)\n",
    "    tic()\n",
    "    haploimpute2!(Xm, H, width_range[i], 1, 1e-3, false)\n",
    "    timing[i] = toc()\n",
    "    missing_impute = Xm.values[Xm.isnull]\n",
    "    errate[i] = countnz(missing_true .≠ missing_impute) / length(missing_true)\n",
    "    println(\"width = $(width_range[i]), time = $(timing[i]), error rate = $(errate[i])\")\n",
    "end"
   ]
  },
  {
   "cell_type": "code",
   "execution_count": 10,
   "metadata": {
    "collapsed": false
   },
   "outputs": [
    {
     "data": {
      "text/html": [
       "<?xml version=\"1.0\" encoding=\"utf-8\"?>\n",
       "<svg xmlns=\"http://www.w3.org/2000/svg\" xmlns:xlink=\"http://www.w3.org/1999/xlink\" width=\"600\" height=\"400\" viewBox=\"0 0 600 400\">\n",
       "<defs>\n",
       "  <clipPath id=\"clip00\">\n",
       "    <rect x=\"0\" y=\"0\" width=\"600\" height=\"400\"/>\n",
       "  </clipPath>\n",
       "</defs>\n",
       "<polygon clip-path=\"url(#clip00)\" points=\"\n",
       "0,400 600,400 600,0 0,0 \n",
       "  \" fill=\"#ffffff\" fill-opacity=\"1\"/>\n",
       "<defs>\n",
       "  <clipPath id=\"clip01\">\n",
       "    <rect x=\"120\" y=\"0\" width=\"421\" height=\"400\"/>\n",
       "  </clipPath>\n",
       "</defs>\n",
       "<polygon clip-path=\"url(#clip00)\" points=\"\n",
       "39.3701,368.504 592.126,368.504 592.126,7.87402 39.3701,7.87402 \n",
       "  \" fill=\"#ffffff\" fill-opacity=\"1\"/>\n",
       "<defs>\n",
       "  <clipPath id=\"clip02\">\n",
       "    <rect x=\"39\" y=\"7\" width=\"553\" height=\"361\"/>\n",
       "  </clipPath>\n",
       "</defs>\n",
       "<polyline clip-path=\"url(#clip02)\" style=\"stroke:#00002d; stroke-width:0.8; stroke-opacity:0.5; fill:none\" stroke-dasharray=\"1, 2\" points=\"\n",
       "  89.6206,363.094 89.6206,13.2835 \n",
       "  \"/>\n",
       "<polyline clip-path=\"url(#clip02)\" style=\"stroke:#00002d; stroke-width:0.8; stroke-opacity:0.5; fill:none\" stroke-dasharray=\"1, 2\" points=\"\n",
       "  190.122,363.094 190.122,13.2835 \n",
       "  \"/>\n",
       "<polyline clip-path=\"url(#clip02)\" style=\"stroke:#00002d; stroke-width:0.8; stroke-opacity:0.5; fill:none\" stroke-dasharray=\"1, 2\" points=\"\n",
       "  290.623,363.094 290.623,13.2835 \n",
       "  \"/>\n",
       "<polyline clip-path=\"url(#clip02)\" style=\"stroke:#00002d; stroke-width:0.8; stroke-opacity:0.5; fill:none\" stroke-dasharray=\"1, 2\" points=\"\n",
       "  391.124,363.094 391.124,13.2835 \n",
       "  \"/>\n",
       "<polyline clip-path=\"url(#clip02)\" style=\"stroke:#00002d; stroke-width:0.8; stroke-opacity:0.5; fill:none\" stroke-dasharray=\"1, 2\" points=\"\n",
       "  491.625,363.094 491.625,13.2835 \n",
       "  \"/>\n",
       "<polyline clip-path=\"url(#clip02)\" style=\"stroke:#00002d; stroke-width:0.8; stroke-opacity:0.5; fill:none\" stroke-dasharray=\"1, 2\" points=\"\n",
       "  592.126,363.094 592.126,13.2835 \n",
       "  \"/>\n",
       "<polyline clip-path=\"url(#clip02)\" style=\"stroke:#00002d; stroke-width:0.8; stroke-opacity:0.5; fill:none\" stroke-dasharray=\"1, 2\" points=\"\n",
       "  47.6614,308.938 583.835,308.938 \n",
       "  \"/>\n",
       "<polyline clip-path=\"url(#clip02)\" style=\"stroke:#00002d; stroke-width:0.8; stroke-opacity:0.5; fill:none\" stroke-dasharray=\"1, 2\" points=\"\n",
       "  47.6614,211.137 583.835,211.137 \n",
       "  \"/>\n",
       "<polyline clip-path=\"url(#clip02)\" style=\"stroke:#00002d; stroke-width:0.8; stroke-opacity:0.5; fill:none\" stroke-dasharray=\"1, 2\" points=\"\n",
       "  47.6614,113.335 583.835,113.335 \n",
       "  \"/>\n",
       "<polyline clip-path=\"url(#clip02)\" style=\"stroke:#00002d; stroke-width:0.8; stroke-opacity:0.5; fill:none\" stroke-dasharray=\"1, 2\" points=\"\n",
       "  47.6614,15.5334 583.835,15.5334 \n",
       "  \"/>\n",
       "<polyline clip-path=\"url(#clip00)\" style=\"stroke:#00002d; stroke-width:0.8; stroke-opacity:1; fill:none\" points=\"\n",
       "  39.3701,368.504 592.126,368.504 \n",
       "  \"/>\n",
       "<polyline clip-path=\"url(#clip00)\" style=\"stroke:#00002d; stroke-width:0.8; stroke-opacity:1; fill:none\" points=\"\n",
       "  89.6206,368.504 89.6206,363.094 \n",
       "  \"/>\n",
       "<polyline clip-path=\"url(#clip00)\" style=\"stroke:#00002d; stroke-width:0.8; stroke-opacity:1; fill:none\" points=\"\n",
       "  190.122,368.504 190.122,363.094 \n",
       "  \"/>\n",
       "<polyline clip-path=\"url(#clip00)\" style=\"stroke:#00002d; stroke-width:0.8; stroke-opacity:1; fill:none\" points=\"\n",
       "  290.623,368.504 290.623,363.094 \n",
       "  \"/>\n",
       "<polyline clip-path=\"url(#clip00)\" style=\"stroke:#00002d; stroke-width:0.8; stroke-opacity:1; fill:none\" points=\"\n",
       "  391.124,368.504 391.124,363.094 \n",
       "  \"/>\n",
       "<polyline clip-path=\"url(#clip00)\" style=\"stroke:#00002d; stroke-width:0.8; stroke-opacity:1; fill:none\" points=\"\n",
       "  491.625,368.504 491.625,363.094 \n",
       "  \"/>\n",
       "<polyline clip-path=\"url(#clip00)\" style=\"stroke:#00002d; stroke-width:0.8; stroke-opacity:1; fill:none\" points=\"\n",
       "  592.126,368.504 592.126,363.094 \n",
       "  \"/>\n",
       "<polyline clip-path=\"url(#clip00)\" style=\"stroke:#00002d; stroke-width:0.8; stroke-opacity:1; fill:none\" points=\"\n",
       "  39.3701,368.504 39.3701,7.87402 \n",
       "  \"/>\n",
       "<polyline clip-path=\"url(#clip00)\" style=\"stroke:#00002d; stroke-width:0.8; stroke-opacity:1; fill:none\" points=\"\n",
       "  39.3701,308.938 47.6614,308.938 \n",
       "  \"/>\n",
       "<polyline clip-path=\"url(#clip00)\" style=\"stroke:#00002d; stroke-width:0.8; stroke-opacity:1; fill:none\" points=\"\n",
       "  39.3701,211.137 47.6614,211.137 \n",
       "  \"/>\n",
       "<polyline clip-path=\"url(#clip00)\" style=\"stroke:#00002d; stroke-width:0.8; stroke-opacity:1; fill:none\" points=\"\n",
       "  39.3701,113.335 47.6614,113.335 \n",
       "  \"/>\n",
       "<polyline clip-path=\"url(#clip00)\" style=\"stroke:#00002d; stroke-width:0.8; stroke-opacity:1; fill:none\" points=\"\n",
       "  39.3701,15.5334 47.6614,15.5334 \n",
       "  \"/>\n",
       "<g clip-path=\"url(#clip00)\">\n",
       "<text style=\"fill:#00002d; fill-opacity:1; font-family:Arial,Helvetica Neue,Helvetica,sans-serif; font-size:12; text-anchor:middle;\" transform=\"rotate(0, 89.6206, 382.304)\" x=\"89.6206\" y=\"382.304\">200</text>\n",
       "</g>\n",
       "<g clip-path=\"url(#clip00)\">\n",
       "<text style=\"fill:#00002d; fill-opacity:1; font-family:Arial,Helvetica Neue,Helvetica,sans-serif; font-size:12; text-anchor:middle;\" transform=\"rotate(0, 190.122, 382.304)\" x=\"190.122\" y=\"382.304\">400</text>\n",
       "</g>\n",
       "<g clip-path=\"url(#clip00)\">\n",
       "<text style=\"fill:#00002d; fill-opacity:1; font-family:Arial,Helvetica Neue,Helvetica,sans-serif; font-size:12; text-anchor:middle;\" transform=\"rotate(0, 290.623, 382.304)\" x=\"290.623\" y=\"382.304\">600</text>\n",
       "</g>\n",
       "<g clip-path=\"url(#clip00)\">\n",
       "<text style=\"fill:#00002d; fill-opacity:1; font-family:Arial,Helvetica Neue,Helvetica,sans-serif; font-size:12; text-anchor:middle;\" transform=\"rotate(0, 391.124, 382.304)\" x=\"391.124\" y=\"382.304\">800</text>\n",
       "</g>\n",
       "<g clip-path=\"url(#clip00)\">\n",
       "<text style=\"fill:#00002d; fill-opacity:1; font-family:Arial,Helvetica Neue,Helvetica,sans-serif; font-size:12; text-anchor:middle;\" transform=\"rotate(0, 491.625, 382.304)\" x=\"491.625\" y=\"382.304\">1000</text>\n",
       "</g>\n",
       "<g clip-path=\"url(#clip00)\">\n",
       "<text style=\"fill:#00002d; fill-opacity:1; font-family:Arial,Helvetica Neue,Helvetica,sans-serif; font-size:12; text-anchor:middle;\" transform=\"rotate(0, 592.126, 382.304)\" x=\"592.126\" y=\"382.304\">1200</text>\n",
       "</g>\n",
       "<g clip-path=\"url(#clip00)\">\n",
       "<text style=\"fill:#00002d; fill-opacity:1; font-family:Arial,Helvetica Neue,Helvetica,sans-serif; font-size:12; text-anchor:end;\" transform=\"rotate(0, 33.3701, 313.438)\" x=\"33.3701\" y=\"313.438\">10</text>\n",
       "</g>\n",
       "<g clip-path=\"url(#clip00)\">\n",
       "<text style=\"fill:#00002d; fill-opacity:1; font-family:Arial,Helvetica Neue,Helvetica,sans-serif; font-size:12; text-anchor:end;\" transform=\"rotate(0, 33.3701, 215.637)\" x=\"33.3701\" y=\"215.637\">20</text>\n",
       "</g>\n",
       "<g clip-path=\"url(#clip00)\">\n",
       "<text style=\"fill:#00002d; fill-opacity:1; font-family:Arial,Helvetica Neue,Helvetica,sans-serif; font-size:12; text-anchor:end;\" transform=\"rotate(0, 33.3701, 117.835)\" x=\"33.3701\" y=\"117.835\">30</text>\n",
       "</g>\n",
       "<g clip-path=\"url(#clip00)\">\n",
       "<text style=\"fill:#00002d; fill-opacity:1; font-family:Arial,Helvetica Neue,Helvetica,sans-serif; font-size:12; text-anchor:end;\" transform=\"rotate(0, 33.3701, 20.0334)\" x=\"33.3701\" y=\"20.0334\">40</text>\n",
       "</g>\n",
       "<g clip-path=\"url(#clip00)\">\n",
       "<text style=\"fill:#00002d; fill-opacity:1; font-family:Arial,Helvetica Neue,Helvetica,sans-serif; font-size:16; text-anchor:middle;\" transform=\"rotate(0, 315.748, 397.6)\" x=\"315.748\" y=\"397.6\">Window width</text>\n",
       "</g>\n",
       "<g clip-path=\"url(#clip00)\">\n",
       "<text style=\"fill:#00002d; fill-opacity:1; font-family:Arial,Helvetica Neue,Helvetica,sans-serif; font-size:16; text-anchor:middle;\" transform=\"rotate(-90, 14.4, 188.189)\" x=\"14.4\" y=\"188.189\">Run time in seconds</text>\n",
       "</g>\n",
       "<polyline clip-path=\"url(#clip02)\" style=\"stroke:#0099ff; stroke-width:0.8; stroke-opacity:1; fill:none\" points=\"\n",
       "  39.3701,7.87402 89.6206,201.641 139.871,267.756 190.122,300.892 240.372,322.348 290.623,335.3 340.873,344.497 391.124,351.775 441.374,357.636 491.625,362.238 \n",
       "  541.875,365.526 592.126,368.504 \n",
       "  \"/>\n",
       "<polygon clip-path=\"url(#clip00)\" points=\"\n",
       "501.61,58.994 574.126,58.994 574.126,28.754 501.61,28.754 \n",
       "  \" fill=\"#ffffff\" fill-opacity=\"1\"/>\n",
       "<polyline clip-path=\"url(#clip00)\" style=\"stroke:#00002d; stroke-width:0.8; stroke-opacity:1; fill:none\" points=\"\n",
       "  501.61,58.994 574.126,58.994 574.126,28.754 501.61,28.754 501.61,58.994 \n",
       "  \"/>\n",
       "<polyline clip-path=\"url(#clip00)\" style=\"stroke:#0099ff; stroke-width:0.8; stroke-opacity:1; fill:none\" points=\"\n",
       "  507.61,43.874 543.61,43.874 \n",
       "  \"/>\n",
       "<g clip-path=\"url(#clip00)\">\n",
       "<text style=\"fill:#00002d; fill-opacity:1; font-family:Arial,Helvetica Neue,Helvetica,sans-serif; font-size:12; text-anchor:start;\" transform=\"rotate(0, 549.61, 48.374)\" x=\"549.61\" y=\"48.374\">y1</text>\n",
       "</g>\n",
       "</svg>\n"
      ]
     },
     "execution_count": 10,
     "metadata": {},
     "output_type": "execute_result"
    },
    {
     "name": "stdout",
     "output_type": "stream",
     "text": [
      "best\n"
     ]
    }
   ],
   "source": [
    "using Plots\n",
    "gr()\n",
    "\n",
    "plot(width_range, timing; xlabel = \"Window width\", ylabel = \"Run time in seconds\")"
   ]
  },
  {
   "cell_type": "code",
   "execution_count": 11,
   "metadata": {
    "collapsed": false
   },
   "outputs": [
    {
     "data": {
      "text/html": [
       "<?xml version=\"1.0\" encoding=\"utf-8\"?>\n",
       "<svg xmlns=\"http://www.w3.org/2000/svg\" xmlns:xlink=\"http://www.w3.org/1999/xlink\" width=\"600\" height=\"400\" viewBox=\"0 0 600 400\">\n",
       "<defs>\n",
       "  <clipPath id=\"clip00\">\n",
       "    <rect x=\"0\" y=\"0\" width=\"600\" height=\"400\"/>\n",
       "  </clipPath>\n",
       "</defs>\n",
       "<polygon clip-path=\"url(#clip00)\" points=\"\n",
       "0,400 600,400 600,0 0,0 \n",
       "  \" fill=\"#ffffff\" fill-opacity=\"1\"/>\n",
       "<defs>\n",
       "  <clipPath id=\"clip01\">\n",
       "    <rect x=\"120\" y=\"0\" width=\"421\" height=\"400\"/>\n",
       "  </clipPath>\n",
       "</defs>\n",
       "<polygon clip-path=\"url(#clip00)\" points=\"\n",
       "39.3701,368.504 592.126,368.504 592.126,7.87402 39.3701,7.87402 \n",
       "  \" fill=\"#ffffff\" fill-opacity=\"1\"/>\n",
       "<defs>\n",
       "  <clipPath id=\"clip02\">\n",
       "    <rect x=\"39\" y=\"7\" width=\"553\" height=\"361\"/>\n",
       "  </clipPath>\n",
       "</defs>\n",
       "<polyline clip-path=\"url(#clip02)\" style=\"stroke:#00002d; stroke-width:0.8; stroke-opacity:0.5; fill:none\" stroke-dasharray=\"1, 2\" points=\"\n",
       "  89.6206,363.094 89.6206,13.2835 \n",
       "  \"/>\n",
       "<polyline clip-path=\"url(#clip02)\" style=\"stroke:#00002d; stroke-width:0.8; stroke-opacity:0.5; fill:none\" stroke-dasharray=\"1, 2\" points=\"\n",
       "  190.122,363.094 190.122,13.2835 \n",
       "  \"/>\n",
       "<polyline clip-path=\"url(#clip02)\" style=\"stroke:#00002d; stroke-width:0.8; stroke-opacity:0.5; fill:none\" stroke-dasharray=\"1, 2\" points=\"\n",
       "  290.623,363.094 290.623,13.2835 \n",
       "  \"/>\n",
       "<polyline clip-path=\"url(#clip02)\" style=\"stroke:#00002d; stroke-width:0.8; stroke-opacity:0.5; fill:none\" stroke-dasharray=\"1, 2\" points=\"\n",
       "  391.124,363.094 391.124,13.2835 \n",
       "  \"/>\n",
       "<polyline clip-path=\"url(#clip02)\" style=\"stroke:#00002d; stroke-width:0.8; stroke-opacity:0.5; fill:none\" stroke-dasharray=\"1, 2\" points=\"\n",
       "  491.625,363.094 491.625,13.2835 \n",
       "  \"/>\n",
       "<polyline clip-path=\"url(#clip02)\" style=\"stroke:#00002d; stroke-width:0.8; stroke-opacity:0.5; fill:none\" stroke-dasharray=\"1, 2\" points=\"\n",
       "  592.126,363.094 592.126,13.2835 \n",
       "  \"/>\n",
       "<polyline clip-path=\"url(#clip02)\" style=\"stroke:#00002d; stroke-width:0.8; stroke-opacity:0.5; fill:none\" stroke-dasharray=\"1, 2\" points=\"\n",
       "  47.6614,242.451 583.835,242.451 \n",
       "  \"/>\n",
       "<polyline clip-path=\"url(#clip02)\" style=\"stroke:#00002d; stroke-width:0.8; stroke-opacity:0.5; fill:none\" stroke-dasharray=\"1, 2\" points=\"\n",
       "  47.6614,104.431 583.835,104.431 \n",
       "  \"/>\n",
       "<polyline clip-path=\"url(#clip00)\" style=\"stroke:#00002d; stroke-width:0.8; stroke-opacity:1; fill:none\" points=\"\n",
       "  39.3701,368.504 592.126,368.504 \n",
       "  \"/>\n",
       "<polyline clip-path=\"url(#clip00)\" style=\"stroke:#00002d; stroke-width:0.8; stroke-opacity:1; fill:none\" points=\"\n",
       "  89.6206,368.504 89.6206,363.094 \n",
       "  \"/>\n",
       "<polyline clip-path=\"url(#clip00)\" style=\"stroke:#00002d; stroke-width:0.8; stroke-opacity:1; fill:none\" points=\"\n",
       "  190.122,368.504 190.122,363.094 \n",
       "  \"/>\n",
       "<polyline clip-path=\"url(#clip00)\" style=\"stroke:#00002d; stroke-width:0.8; stroke-opacity:1; fill:none\" points=\"\n",
       "  290.623,368.504 290.623,363.094 \n",
       "  \"/>\n",
       "<polyline clip-path=\"url(#clip00)\" style=\"stroke:#00002d; stroke-width:0.8; stroke-opacity:1; fill:none\" points=\"\n",
       "  391.124,368.504 391.124,363.094 \n",
       "  \"/>\n",
       "<polyline clip-path=\"url(#clip00)\" style=\"stroke:#00002d; stroke-width:0.8; stroke-opacity:1; fill:none\" points=\"\n",
       "  491.625,368.504 491.625,363.094 \n",
       "  \"/>\n",
       "<polyline clip-path=\"url(#clip00)\" style=\"stroke:#00002d; stroke-width:0.8; stroke-opacity:1; fill:none\" points=\"\n",
       "  592.126,368.504 592.126,363.094 \n",
       "  \"/>\n",
       "<polyline clip-path=\"url(#clip00)\" style=\"stroke:#00002d; stroke-width:0.8; stroke-opacity:1; fill:none\" points=\"\n",
       "  39.3701,368.504 39.3701,7.87402 \n",
       "  \"/>\n",
       "<polyline clip-path=\"url(#clip00)\" style=\"stroke:#00002d; stroke-width:0.8; stroke-opacity:1; fill:none\" points=\"\n",
       "  39.3701,242.451 47.6614,242.451 \n",
       "  \"/>\n",
       "<polyline clip-path=\"url(#clip00)\" style=\"stroke:#00002d; stroke-width:0.8; stroke-opacity:1; fill:none\" points=\"\n",
       "  39.3701,104.431 47.6614,104.431 \n",
       "  \"/>\n",
       "<g clip-path=\"url(#clip00)\">\n",
       "<text style=\"fill:#00002d; fill-opacity:1; font-family:Arial,Helvetica Neue,Helvetica,sans-serif; font-size:12; text-anchor:middle;\" transform=\"rotate(0, 89.6206, 382.304)\" x=\"89.6206\" y=\"382.304\">200</text>\n",
       "</g>\n",
       "<g clip-path=\"url(#clip00)\">\n",
       "<text style=\"fill:#00002d; fill-opacity:1; font-family:Arial,Helvetica Neue,Helvetica,sans-serif; font-size:12; text-anchor:middle;\" transform=\"rotate(0, 190.122, 382.304)\" x=\"190.122\" y=\"382.304\">400</text>\n",
       "</g>\n",
       "<g clip-path=\"url(#clip00)\">\n",
       "<text style=\"fill:#00002d; fill-opacity:1; font-family:Arial,Helvetica Neue,Helvetica,sans-serif; font-size:12; text-anchor:middle;\" transform=\"rotate(0, 290.623, 382.304)\" x=\"290.623\" y=\"382.304\">600</text>\n",
       "</g>\n",
       "<g clip-path=\"url(#clip00)\">\n",
       "<text style=\"fill:#00002d; fill-opacity:1; font-family:Arial,Helvetica Neue,Helvetica,sans-serif; font-size:12; text-anchor:middle;\" transform=\"rotate(0, 391.124, 382.304)\" x=\"391.124\" y=\"382.304\">800</text>\n",
       "</g>\n",
       "<g clip-path=\"url(#clip00)\">\n",
       "<text style=\"fill:#00002d; fill-opacity:1; font-family:Arial,Helvetica Neue,Helvetica,sans-serif; font-size:12; text-anchor:middle;\" transform=\"rotate(0, 491.625, 382.304)\" x=\"491.625\" y=\"382.304\">1000</text>\n",
       "</g>\n",
       "<g clip-path=\"url(#clip00)\">\n",
       "<text style=\"fill:#00002d; fill-opacity:1; font-family:Arial,Helvetica Neue,Helvetica,sans-serif; font-size:12; text-anchor:middle;\" transform=\"rotate(0, 592.126, 382.304)\" x=\"592.126\" y=\"382.304\">1200</text>\n",
       "</g>\n",
       "<g clip-path=\"url(#clip00)\">\n",
       "<text style=\"fill:#00002d; fill-opacity:1; font-family:Arial,Helvetica Neue,Helvetica,sans-serif; font-size:12; text-anchor:end;\" transform=\"rotate(0, 33.3701, 246.951)\" x=\"33.3701\" y=\"246.951\">0.010</text>\n",
       "</g>\n",
       "<g clip-path=\"url(#clip00)\">\n",
       "<text style=\"fill:#00002d; fill-opacity:1; font-family:Arial,Helvetica Neue,Helvetica,sans-serif; font-size:12; text-anchor:end;\" transform=\"rotate(0, 33.3701, 108.931)\" x=\"33.3701\" y=\"108.931\">0.015</text>\n",
       "</g>\n",
       "<g clip-path=\"url(#clip00)\">\n",
       "<text style=\"fill:#00002d; fill-opacity:1; font-family:Arial,Helvetica Neue,Helvetica,sans-serif; font-size:16; text-anchor:middle;\" transform=\"rotate(0, 315.748, 397.6)\" x=\"315.748\" y=\"397.6\">Window width</text>\n",
       "</g>\n",
       "<g clip-path=\"url(#clip00)\">\n",
       "<text style=\"fill:#00002d; fill-opacity:1; font-family:Arial,Helvetica Neue,Helvetica,sans-serif; font-size:16; text-anchor:middle;\" transform=\"rotate(-90, 14.4, 188.189)\" x=\"14.4\" y=\"188.189\">Error rate</text>\n",
       "</g>\n",
       "<polyline clip-path=\"url(#clip02)\" style=\"stroke:#0099ff; stroke-width:0.8; stroke-opacity:1; fill:none\" points=\"\n",
       "  39.3701,7.87402 89.6206,220.522 139.871,279.664 190.122,368.504 240.372,292.554 290.623,285.016 340.873,270.305 391.124,259.555 441.374,229.574 491.625,207.108 \n",
       "  541.875,188.992 592.126,172.128 \n",
       "  \"/>\n",
       "<polygon clip-path=\"url(#clip00)\" points=\"\n",
       "501.61,58.994 574.126,58.994 574.126,28.754 501.61,28.754 \n",
       "  \" fill=\"#ffffff\" fill-opacity=\"1\"/>\n",
       "<polyline clip-path=\"url(#clip00)\" style=\"stroke:#00002d; stroke-width:0.8; stroke-opacity:1; fill:none\" points=\"\n",
       "  501.61,58.994 574.126,58.994 574.126,28.754 501.61,28.754 501.61,58.994 \n",
       "  \"/>\n",
       "<polyline clip-path=\"url(#clip00)\" style=\"stroke:#0099ff; stroke-width:0.8; stroke-opacity:1; fill:none\" points=\"\n",
       "  507.61,43.874 543.61,43.874 \n",
       "  \"/>\n",
       "<g clip-path=\"url(#clip00)\">\n",
       "<text style=\"fill:#00002d; fill-opacity:1; font-family:Arial,Helvetica Neue,Helvetica,sans-serif; font-size:12; text-anchor:start;\" transform=\"rotate(0, 549.61, 48.374)\" x=\"549.61\" y=\"48.374\">y1</text>\n",
       "</g>\n",
       "</svg>\n"
      ]
     },
     "execution_count": 11,
     "metadata": {},
     "output_type": "execute_result"
    },
    {
     "name": "stdout",
     "output_type": "stream",
     "text": [
      "best\n"
     ]
    }
   ],
   "source": [
    "plot(width_range, errate; xlabel = \"Window width\", ylabel = \"Error rate\")"
   ]
  },
  {
   "cell_type": "code",
   "execution_count": null,
   "metadata": {
    "collapsed": true
   },
   "outputs": [],
   "source": []
  }
 ],
 "metadata": {
  "kernelspec": {
   "display_name": "Julia 0.5.2",
   "language": "julia",
   "name": "julia-0.5"
  },
  "language_info": {
   "file_extension": ".jl",
   "mimetype": "application/julia",
   "name": "julia",
   "version": "0.5.2"
  },
  "toc": {
   "colors": {
    "hover_highlight": "#DAA520",
    "running_highlight": "#FF0000",
    "selected_highlight": "#FFD700"
   },
   "moveMenuLeft": true,
   "nav_menu": {
    "height": "65px",
    "width": "252px"
   },
   "navigate_menu": true,
   "number_sections": true,
   "sideBar": true,
   "threshold": 4,
   "toc_cell": false,
   "toc_section_display": "block",
   "toc_window_display": false,
   "widenNotebook": false
  }
 },
 "nbformat": 4,
 "nbformat_minor": 2
}
