{
 "cells": [
  {
   "cell_type": "markdown",
   "metadata": {},
   "source": [
    "# Test and Benchmark"
   ]
  },
  {
   "cell_type": "code",
   "execution_count": 1,
   "metadata": {
    "collapsed": false
   },
   "outputs": [
    {
     "name": "stdout",
     "output_type": "stream",
     "text": [
      "Julia Version 0.5.2\n",
      "Commit f4c6c9d4bb (2017-05-06 16:34 UTC)\n",
      "Platform Info:\n",
      "  OS: macOS (x86_64-apple-darwin13.4.0)\n",
      "  CPU: Intel(R) Core(TM) i7-4790K CPU @ 4.00GHz\n",
      "  WORD_SIZE: 64\n",
      "  BLAS: libopenblas (USE64BITINT DYNAMIC_ARCH NO_AFFINITY Haswell)\n",
      "  LAPACK: libopenblas64_\n",
      "  LIBM: libopenlibm\n",
      "  LLVM: libLLVM-3.7.1 (ORCJIT, haswell)\n"
     ]
    }
   ],
   "source": [
    "versioninfo()"
   ]
  },
  {
   "cell_type": "markdown",
   "metadata": {},
   "source": [
    "## Haplotyping on complete genotype data"
   ]
  },
  {
   "cell_type": "code",
   "execution_count": 3,
   "metadata": {
    "collapsed": false
   },
   "outputs": [
    {
     "name": "stdout",
     "output_type": "stream",
     "text": [
      "  0.009985 seconds (4 allocations: 160 bytes)\n"
     ]
    }
   ],
   "source": [
    "using NullableArrays, BenchmarkTools, MendelImpute\n",
    "\n",
    "srand(123)\n",
    "n, p, d = 10000, 1000, 50\n",
    "H = convert(Matrix{Float32}, rand(0:1, d, p))\n",
    "X = convert(Matrix{Float32}, rand(0:2, n, p))\n",
    "M   = A_mul_Bt(H, H)\n",
    "for j in 1:d\n",
    "    for i in 1:(j - 1)\n",
    "        M[i, j] = 2M[i, j] + M[i, i] + M[j, j]\n",
    "    end\n",
    "end\n",
    "for j in 1:d\n",
    "    M[j, j] *= 4\n",
    "end\n",
    "N   = A_mul_Bt(X, H)\n",
    "for I in eachindex(N)\n",
    "    N[I] *= 2\n",
    "end\n",
    "happair  = zeros(Int, n), zeros(Int, n)\n",
    "hapscore = zeros(eltype(N), n)\n",
    "@time haplopair!(happair, hapscore, M, N)"
   ]
  },
  {
   "cell_type": "code",
   "execution_count": 4,
   "metadata": {
    "collapsed": false
   },
   "outputs": [
    {
     "data": {
      "text/plain": [
       "([1,17,8,37,5,10,1,14,3,3  …  16,23,7,25,3,13,5,3,3,11],[16,48,12,39,21,30,42,18,18,18  …  35,26,47,50,39,35,24,17,18,43])"
      ]
     },
     "execution_count": 4,
     "metadata": {},
     "output_type": "execute_result"
    }
   ],
   "source": [
    "happair"
   ]
  },
  {
   "cell_type": "code",
   "execution_count": 5,
   "metadata": {
    "collapsed": false
   },
   "outputs": [
    {
     "data": {
      "text/plain": [
       "10000-element Array{Float32,1}:\n",
       " -611.0\n",
       " -622.0\n",
       " -629.0\n",
       " -666.0\n",
       " -569.0\n",
       " -613.0\n",
       " -640.0\n",
       " -669.0\n",
       " -550.0\n",
       " -690.0\n",
       " -665.0\n",
       " -595.0\n",
       " -621.0\n",
       "    ⋮  \n",
       " -578.0\n",
       " -595.0\n",
       " -680.0\n",
       " -546.0\n",
       " -680.0\n",
       " -528.0\n",
       " -687.0\n",
       " -587.0\n",
       " -603.0\n",
       " -646.0\n",
       " -590.0\n",
       " -613.0"
      ]
     },
     "execution_count": 5,
     "metadata": {},
     "output_type": "execute_result"
    }
   ],
   "source": [
    "hapscore"
   ]
  },
  {
   "cell_type": "code",
   "execution_count": 6,
   "metadata": {
    "collapsed": false
   },
   "outputs": [
    {
     "data": {
      "text/plain": [
       "(([1,17,8,37,5,10,1,14,3,3  …  16,23,7,25,3,13,5,3,3,11],[16,48,12,39,21,30,42,18,18,18  …  35,26,47,50,39,35,24,17,18,43]),Float32[1043.0,1056.0,1025.0,1020.0,1055.0,1059.0,1070.0,1043.0,1039.0,1029.0  …  1021.0,1087.0,1052.0,1067.0,1058.0,1033.0,1057.0,1024.0,1012.0,1046.0])"
      ]
     },
     "execution_count": 6,
     "metadata": {},
     "output_type": "execute_result"
    }
   ],
   "source": [
    "haplopair(X, H)"
   ]
  },
  {
   "cell_type": "code",
   "execution_count": 7,
   "metadata": {
    "collapsed": false
   },
   "outputs": [
    {
     "data": {
      "text/plain": [
       "BenchmarkTools.Trial: \n",
       "  memory estimate:  0 bytes\n",
       "  allocs estimate:  0\n",
       "  --------------\n",
       "  minimum time:     9.324 ms (0.00% GC)\n",
       "  median time:      9.328 ms (0.00% GC)\n",
       "  mean time:        9.412 ms (0.00% GC)\n",
       "  maximum time:     10.989 ms (0.00% GC)\n",
       "  --------------\n",
       "  samples:          531\n",
       "  evals/sample:     1"
      ]
     },
     "execution_count": 7,
     "metadata": {},
     "output_type": "execute_result"
    }
   ],
   "source": [
    "@benchmark haplopair!(happair, hapscore, M, N)"
   ]
  },
  {
   "cell_type": "code",
   "execution_count": 8,
   "metadata": {
    "collapsed": false
   },
   "outputs": [
    {
     "name": "stdout",
     "output_type": "stream",
     "text": [
      " Count File                        Line Function                               \n",
      "     8 ./<missing>                   -1 anonymous                              \n",
      "     9 ./loading.jl                 441 include_string(::String, ::String)     \n",
      "     8 ./profile.jl                  16 macro expansion;                       \n",
      "     8 ./simdloop.jl                 73 macro expansion                        \n",
      "     9 ./task.jl                    360 (::IJulia.##13#19)()                   \n",
      "     9 ...IJulia/src/eventloop.jl     8 eventloop(::ZMQ.Socket)                \n",
      "     9 .../src/execute_request.jl   156 execute_request(::ZMQ.Socket, ::IJu... \n",
      "     8 ...pute/src/haplotyping.jl    30 haplopair!(::Tuple{Array{Int64,1},A... \n",
      "     2 ...pute/src/haplotyping.jl    31 macro expansion                        \n",
      "     6 ...pute/src/haplotyping.jl    32 macro expansion                        \n"
     ]
    }
   ],
   "source": [
    "Profile.clear()\n",
    "@profile haplopair!(happair, hapscore, M, N)\n",
    "Profile.print(format=:flat)"
   ]
  },
  {
   "cell_type": "code",
   "execution_count": 9,
   "metadata": {
    "collapsed": false
   },
   "outputs": [],
   "source": [
    "#@code_warntype haplopair!(X, H, M, N, happair, hapscore)"
   ]
  },
  {
   "cell_type": "code",
   "execution_count": 10,
   "metadata": {
    "collapsed": false
   },
   "outputs": [
    {
     "name": "stdout",
     "output_type": "stream",
     "text": [
      "  0.024025 seconds (4 allocations: 160 bytes)\n"
     ]
    }
   ],
   "source": [
    "@time haplopair!(X, H, M, N, happair, hapscore)"
   ]
  },
  {
   "cell_type": "code",
   "execution_count": 11,
   "metadata": {
    "collapsed": false
   },
   "outputs": [
    {
     "data": {
      "text/plain": [
       "BenchmarkTools.Trial: \n",
       "  memory estimate:  0 bytes\n",
       "  allocs estimate:  0\n",
       "  --------------\n",
       "  minimum time:     20.123 ms (0.00% GC)\n",
       "  median time:      20.230 ms (0.00% GC)\n",
       "  mean time:        20.495 ms (0.00% GC)\n",
       "  maximum time:     27.300 ms (0.00% GC)\n",
       "  --------------\n",
       "  samples:          244\n",
       "  evals/sample:     1"
      ]
     },
     "execution_count": 11,
     "metadata": {},
     "output_type": "execute_result"
    }
   ],
   "source": [
    "@benchmark haplopair!(X, H, M, N, happair, hapscore)"
   ]
  },
  {
   "cell_type": "code",
   "execution_count": 12,
   "metadata": {
    "collapsed": false
   },
   "outputs": [
    {
     "name": "stdout",
     "output_type": "stream",
     "text": [
      " Count File                        Line Function                               \n",
      "    11 ./<missing>                   -1 anonymous                              \n",
      "     1 ./linalg/blas.jl             969 gemm!(::Char, ::Char, ::Float32, ::... \n",
      "     1 ./linalg/matmul.jl           155 A_mul_Bt!                              \n",
      "     1 ./linalg/matmul.jl           331 gemm_wrapper!(::Array{Float32,2}, :... \n",
      "    12 ./loading.jl                 441 include_string(::String, ::String)     \n",
      "    11 ./profile.jl                  16 macro expansion;                       \n",
      "     9 ./simdloop.jl                 73 macro expansion                        \n",
      "     1 ./simdloop.jl                 74 macro expansion                        \n",
      "    12 ./task.jl                    360 (::IJulia.##13#19)()                   \n",
      "    12 ...IJulia/src/eventloop.jl     8 eventloop(::ZMQ.Socket)                \n",
      "    12 .../src/execute_request.jl   156 execute_request(::ZMQ.Socket, ::IJu... \n",
      "     8 ...pute/src/haplotyping.jl    30 haplopair!(::Tuple{Array{Int64,1},A... \n",
      "     1 ...pute/src/haplotyping.jl   107 haplopair!(::Array{Float32,2}, ::Ar... \n",
      "     8 ...pute/src/haplotyping.jl   111 haplopair!(::Array{Float32,2}, ::Ar... \n",
      "     2 ...pute/src/haplotyping.jl   113 haplopair!(::Array{Float32,2}, ::Ar... \n",
      "     6 ...pute/src/haplotyping.jl    32 macro expansion                        \n",
      "     1 ...pute/src/haplotyping.jl    35 macro expansion                        \n",
      "     2 ...pute/src/haplotyping.jl   114 macro expansion                        \n"
     ]
    }
   ],
   "source": [
    "Profile.clear()\n",
    "@profile haplopair!(X, H, M, N, happair, hapscore)\n",
    "Profile.print(format=:flat)"
   ]
  },
  {
   "cell_type": "markdown",
   "metadata": {},
   "source": [
    "## Haplotyping on incomplete genotype data\n",
    "\n"
   ]
  },
  {
   "cell_type": "code",
   "execution_count": 13,
   "metadata": {
    "collapsed": false
   },
   "outputs": [
    {
     "name": "stdout",
     "output_type": "stream",
     "text": [
      "  0.084628 seconds (25.12 k allocations: 1.133 MB)\n"
     ]
    }
   ],
   "source": [
    "using MendelImpute, NullableArrays, BenchmarkTools\n",
    "\n",
    "srand(123)\n",
    "n, p, d = 10000, 1000, 50\n",
    "H = convert(Matrix{Float32}, rand(0:1, d, p))\n",
    "X = convert(Matrix{Float32}, rand(0:2, n, p))\n",
    "M = zeros(eltype(H), d, d)\n",
    "N = zeros(eltype(X), n, d)\n",
    "happair  = zeros(Int, n), zeros(Int, n)\n",
    "hapscore = zeros(eltype(N), n)\n",
    "missingprop = 0.1\n",
    "Xm = NullableArray(X, full(sprand(Bool, n, p, missingprop)))\n",
    "Xm.values[Xm.isnull] = 1\n",
    "@time haploimpute!(Xm, H, M, N, happair, hapscore)"
   ]
  },
  {
   "cell_type": "code",
   "execution_count": 14,
   "metadata": {
    "collapsed": false
   },
   "outputs": [
    {
     "data": {
      "text/plain": [
       "BenchmarkTools.Trial: \n",
       "  memory estimate:  0 bytes\n",
       "  allocs estimate:  0\n",
       "  --------------\n",
       "  minimum time:     44.548 ms (0.00% GC)\n",
       "  median time:      44.664 ms (0.00% GC)\n",
       "  mean time:        44.766 ms (0.00% GC)\n",
       "  maximum time:     46.532 ms (0.00% GC)\n",
       "  --------------\n",
       "  samples:          112\n",
       "  evals/sample:     1"
      ]
     },
     "execution_count": 14,
     "metadata": {},
     "output_type": "execute_result"
    }
   ],
   "source": [
    "@benchmark haploimpute!(Xm, H, M, N, happair, hapscore)"
   ]
  },
  {
   "cell_type": "code",
   "execution_count": 15,
   "metadata": {
    "collapsed": false
   },
   "outputs": [
    {
     "name": "stdout",
     "output_type": "stream",
     "text": [
      " Count File                        Line Function                               \n",
      "    33 ./<missing>                   -1 anonymous                              \n",
      "     2 ./linalg/blas.jl             969 gemm!(::Char, ::Char, ::Float32, ::... \n",
      "     2 ./linalg/matmul.jl           155 A_mul_Bt!                              \n",
      "     2 ./linalg/matmul.jl           331 gemm_wrapper!(::Array{Float32,2}, :... \n",
      "    33 ./loading.jl                 441 include_string(::String, ::String)     \n",
      "    33 ./profile.jl                  16 macro expansion;                       \n",
      "     1 ./simdloop.jl                 71 macro expansion                        \n",
      "    10 ./simdloop.jl                 73 macro expansion                        \n",
      "    33 ./task.jl                    360 (::IJulia.##13#19)()                   \n",
      "    33 ...IJulia/src/eventloop.jl     8 eventloop(::ZMQ.Socket)                \n",
      "    33 .../src/execute_request.jl   156 execute_request(::ZMQ.Socket, ::IJu... \n",
      "     3 ...pute/src/haplotyping.jl   142 fillmissing!(::NullableArrays.Nulla... \n",
      "     6 ...pute/src/haplotyping.jl   143 fillmissing!(::NullableArrays.Nulla... \n",
      "     9 ...pute/src/haplotyping.jl   144 fillmissing!(::NullableArrays.Nulla... \n",
      "     2 ...pute/src/haplotyping.jl   145 fillmissing!(::NullableArrays.Nulla... \n",
      "    33 ...pute/src/haplotyping.jl   189 haploimpute!(::NullableArrays.Nulla... \n",
      "    13 ...pute/src/haplotyping.jl   192 haploimpute!(::NullableArrays.Nulla... \n",
      "    20 ...pute/src/haplotyping.jl   194 haploimpute!(::NullableArrays.Nulla... \n",
      "     8 ...pute/src/haplotyping.jl    30 haplopair!(::Tuple{Array{Int64,1},A... \n",
      "     2 ...pute/src/haplotyping.jl   107 haplopair!(::Array{Float32,2}, ::Ar... \n",
      "     8 ...pute/src/haplotyping.jl   111 haplopair!(::Array{Float32,2}, ::Ar... \n",
      "     3 ...pute/src/haplotyping.jl   113 haplopair!(::Array{Float32,2}, ::Ar... \n",
      "     4 ...pute/src/haplotyping.jl    32 macro expansion                        \n",
      "     1 ...pute/src/haplotyping.jl    34 macro expansion                        \n",
      "     2 ...pute/src/haplotyping.jl    35 macro expansion                        \n",
      "     3 ...pute/src/haplotyping.jl   114 macro expansion                        \n"
     ]
    }
   ],
   "source": [
    "Profile.clear()\n",
    "@profile haploimpute!(Xm, H, M, N, happair, hapscore)\n",
    "Profile.print(format=:flat)"
   ]
  },
  {
   "cell_type": "markdown",
   "metadata": {
    "collapsed": true
   },
   "source": [
    "## `AFRped.txt` data\n",
    "\n"
   ]
  },
  {
   "cell_type": "code",
   "execution_count": 16,
   "metadata": {
    "collapsed": false
   },
   "outputs": [],
   "source": [
    "#;ls -al"
   ]
  },
  {
   "cell_type": "code",
   "execution_count": 17,
   "metadata": {
    "collapsed": false
   },
   "outputs": [],
   "source": [
    "## cut out the first 6 fields in the pedigree file\n",
    "#;cut -d ',' -f7- AFRped.txt > AFRped_geno.txt"
   ]
  },
  {
   "cell_type": "code",
   "execution_count": 18,
   "metadata": {
    "collapsed": false
   },
   "outputs": [],
   "source": [
    "#;ls -al"
   ]
  },
  {
   "cell_type": "code",
   "execution_count": 1,
   "metadata": {
    "collapsed": false
   },
   "outputs": [
    {
     "data": {
      "text/plain": [
       "1325×36499 Array{Float32,2}:\n",
       " 0.0  0.0  0.0  0.0  0.0  0.0  0.0  0.0  …  0.0  0.0  0.0  0.0  0.0  1.0  0.0\n",
       " 0.0  0.0  0.0  0.0  0.0  0.0  0.0  0.0     0.0  0.0  0.0  0.0  0.0  1.0  0.0\n",
       " 1.0  0.0  0.0  0.0  0.0  0.0  0.0  0.0     0.0  0.0  0.0  0.0  0.0  0.0  0.0\n",
       " 0.0  0.0  0.0  0.0  0.0  0.0  0.0  0.0     0.0  0.0  0.0  0.0  0.0  0.0  0.0\n",
       " 1.0  0.0  0.0  0.0  0.0  0.0  0.0  0.0     0.0  0.0  0.0  0.0  0.0  0.0  0.0\n",
       " 1.0  0.0  0.0  0.0  0.0  0.0  0.0  0.0  …  0.0  0.0  0.0  0.0  0.0  0.0  0.0\n",
       " 0.0  0.0  0.0  0.0  0.0  0.0  0.0  0.0     0.0  0.0  0.0  0.0  0.0  1.0  0.0\n",
       " 1.0  0.0  0.0  0.0  0.0  0.0  0.0  0.0     0.0  0.0  0.0  0.0  0.0  1.0  0.0\n",
       " 0.0  0.0  0.0  0.0  0.0  0.0  0.0  0.0     0.0  0.0  0.0  0.0  0.0  0.0  0.0\n",
       " 0.0  0.0  0.0  0.0  0.0  0.0  0.0  0.0     0.0  0.0  0.0  0.0  0.0  0.0  0.0\n",
       " 0.0  0.0  0.0  0.0  0.0  0.0  0.0  0.0  …  0.0  0.0  0.0  0.0  0.0  1.0  0.0\n",
       " 0.0  0.0  0.0  0.0  0.0  0.0  0.0  0.0     0.0  0.0  0.0  0.0  0.0  1.0  0.0\n",
       " 0.0  0.0  0.0  0.0  0.0  0.0  0.0  0.0     0.0  0.0  0.0  0.0  0.0  1.0  0.0\n",
       " ⋮                        ⋮              ⋱                 ⋮                 \n",
       " 0.0  0.0  0.0  0.0  0.0  0.0  0.0  0.0     0.0  0.0  0.0  0.0  0.0  0.0  0.0\n",
       " 0.0  0.0  0.0  0.0  0.0  0.0  0.0  0.0     0.0  0.0  0.0  0.0  0.0  0.0  0.0\n",
       " 0.0  0.0  0.0  0.0  0.0  0.0  0.0  0.0  …  0.0  0.0  0.0  0.0  0.0  0.0  0.0\n",
       " 0.0  0.0  0.0  0.0  0.0  0.0  0.0  0.0     0.0  0.0  0.0  0.0  0.0  0.0  0.0\n",
       " 0.0  0.0  0.0  0.0  0.0  0.0  0.0  0.0     0.0  0.0  0.0  0.0  0.0  0.0  0.0\n",
       " 0.0  0.0  0.0  0.0  0.0  0.0  0.0  0.0     0.0  0.0  0.0  0.0  0.0  0.0  0.0\n",
       " 0.0  0.0  0.0  0.0  0.0  0.0  0.0  0.0     0.0  0.0  0.0  0.0  0.0  0.0  0.0\n",
       " 0.0  0.0  0.0  0.0  0.0  0.0  0.0  0.0  …  0.0  0.0  0.0  0.0  0.0  0.0  0.0\n",
       " 0.0  0.0  0.0  0.0  0.0  0.0  0.0  0.0     0.0  0.0  0.0  0.0  0.0  0.0  0.0\n",
       " 0.0  0.0  0.0  0.0  0.0  0.0  0.0  0.0     0.0  0.0  0.0  0.0  0.0  0.0  0.0\n",
       " 0.0  0.0  0.0  0.0  0.0  0.0  0.0  0.0     0.0  0.0  0.0  0.0  0.0  0.0  0.0\n",
       " 0.0  0.0  0.0  0.0  0.0  0.0  0.0  0.0     0.0  0.0  0.0  0.0  0.0  0.0  0.0"
      ]
     },
     "execution_count": 1,
     "metadata": {},
     "output_type": "execute_result"
    }
   ],
   "source": [
    "rawdata = readcsv(\"AFRped_geno.txt\", Float32)"
   ]
  },
  {
   "cell_type": "code",
   "execution_count": 2,
   "metadata": {
    "collapsed": false
   },
   "outputs": [
    {
     "data": {
      "text/plain": [
       "664×36498 Array{Float32,2}:\n",
       " 0.0  0.0  0.0  0.0  0.0  0.0  0.0  0.0  …  0.0  0.0  0.0  0.0  0.0  0.0  1.0\n",
       " 0.0  0.0  0.0  0.0  0.0  0.0  0.0  0.0     0.0  0.0  0.0  0.0  0.0  0.0  1.0\n",
       " 1.0  0.0  0.0  0.0  0.0  0.0  0.0  0.0     0.0  0.0  0.0  0.0  0.0  0.0  0.0\n",
       " 0.0  0.0  0.0  0.0  0.0  0.0  0.0  0.0     0.0  0.0  0.0  0.0  0.0  0.0  0.0\n",
       " 1.0  0.0  0.0  0.0  0.0  0.0  0.0  0.0     0.0  0.0  0.0  0.0  0.0  0.0  0.0\n",
       " 1.0  0.0  0.0  0.0  0.0  0.0  0.0  0.0  …  0.0  0.0  0.0  0.0  0.0  0.0  0.0\n",
       " 0.0  0.0  0.0  0.0  0.0  0.0  0.0  0.0     0.0  0.0  0.0  0.0  0.0  0.0  1.0\n",
       " 1.0  0.0  0.0  0.0  0.0  0.0  0.0  0.0     0.0  0.0  0.0  0.0  0.0  0.0  1.0\n",
       " 0.0  0.0  0.0  0.0  0.0  0.0  0.0  0.0     0.0  0.0  0.0  0.0  0.0  0.0  0.0\n",
       " 0.0  0.0  0.0  0.0  0.0  0.0  0.0  0.0     0.0  0.0  0.0  0.0  0.0  0.0  0.0\n",
       " 0.0  0.0  0.0  0.0  0.0  0.0  0.0  0.0  …  0.0  0.0  0.0  0.0  0.0  0.0  1.0\n",
       " 0.0  0.0  0.0  0.0  0.0  0.0  0.0  0.0     0.0  0.0  0.0  0.0  0.0  0.0  1.0\n",
       " 0.0  0.0  0.0  0.0  0.0  0.0  0.0  0.0     0.0  0.0  0.0  0.0  0.0  0.0  1.0\n",
       " ⋮                        ⋮              ⋱                      ⋮            \n",
       " 0.0  0.0  0.0  0.0  0.0  0.0  0.0  0.0     0.0  0.0  0.0  0.0  0.0  0.0  0.0\n",
       " 0.0  0.0  0.0  0.0  0.0  0.0  0.0  0.0     0.0  0.0  0.0  0.0  0.0  0.0  0.0\n",
       " 0.0  0.0  0.0  0.0  0.0  0.0  0.0  0.0     0.0  0.0  0.0  0.0  0.0  0.0  0.0\n",
       " 0.0  0.0  0.0  0.0  0.0  0.0  0.0  0.0  …  0.0  0.0  0.0  0.0  0.0  0.0  1.0\n",
       " 0.0  0.0  0.0  0.0  0.0  0.0  0.0  0.0     0.0  0.0  0.0  0.0  0.0  0.0  1.0\n",
       " 0.0  0.0  0.0  0.0  0.0  0.0  0.0  0.0     0.0  0.0  0.0  0.0  0.0  0.0  1.0\n",
       " 0.0  0.0  0.0  0.0  0.0  0.0  0.0  0.0     0.0  0.0  0.0  0.0  0.0  0.0  0.0\n",
       " 0.0  0.0  0.0  0.0  0.0  0.0  0.0  0.0     0.0  0.0  0.0  0.0  0.0  0.0  0.0\n",
       " 0.0  0.0  0.0  0.0  0.0  0.0  0.0  0.0  …  0.0  0.0  0.0  0.0  0.0  0.0  1.0\n",
       " 0.0  0.0  0.0  0.0  0.0  0.0  0.0  0.0     0.0  0.0  0.0  0.0  0.0  0.0  0.0\n",
       " 0.0  0.0  0.0  0.0  0.0  0.0  0.0  0.0     0.0  0.0  0.0  0.0  0.0  0.0  1.0\n",
       " 0.0  0.0  0.0  0.0  0.0  0.0  0.0  0.0     0.0  0.0  0.0  0.0  0.0  0.0  0.0"
      ]
     },
     "execution_count": 2,
     "metadata": {},
     "output_type": "execute_result"
    }
   ],
   "source": [
    "people = 664\n",
    "X = rawdata[1:people, 1:(end - 1)]"
   ]
  },
  {
   "cell_type": "code",
   "execution_count": 3,
   "metadata": {
    "collapsed": false
   },
   "outputs": [
    {
     "data": {
      "text/plain": [
       "661×36498 Array{Float32,2}:\n",
       " 0.0  0.0  0.0  0.0  0.0  0.0  0.0  0.0  …  0.0  0.0  0.0  0.0  0.0  0.0  0.0\n",
       " 0.0  0.0  0.0  0.0  0.0  0.0  0.0  0.0     0.0  0.0  0.0  0.0  0.0  0.0  1.0\n",
       " 0.0  0.0  0.0  0.0  0.0  0.0  0.0  0.0     0.0  0.0  0.0  0.0  0.0  0.0  0.0\n",
       " 0.0  0.0  0.0  0.0  0.0  0.0  0.0  0.0     0.0  0.0  0.0  0.0  0.0  0.0  1.0\n",
       " 0.0  0.0  0.0  0.0  0.0  0.0  0.0  0.0     0.0  0.0  0.0  0.0  0.0  0.0  0.0\n",
       " 0.0  0.0  0.0  0.0  0.0  0.0  0.0  0.0  …  0.0  0.0  0.0  0.0  0.0  0.0  0.0\n",
       " 0.0  0.0  0.0  0.0  0.0  0.0  0.0  0.0     0.0  0.0  0.0  0.0  0.0  0.0  1.0\n",
       " 0.0  0.0  0.0  0.0  0.0  0.0  0.0  0.0     0.0  0.0  0.0  0.0  0.0  0.0  0.0\n",
       " 0.0  0.0  0.0  0.0  0.0  0.0  0.0  0.0     0.0  0.0  0.0  0.0  0.0  0.0  1.0\n",
       " 0.0  0.0  0.0  0.0  0.0  0.0  0.0  0.0     0.0  0.0  0.0  0.0  0.0  0.0  0.0\n",
       " 0.0  0.0  0.0  0.0  0.0  0.0  0.0  0.0  …  0.0  0.0  0.0  0.0  0.0  0.0  1.0\n",
       " 0.0  0.0  0.0  0.0  0.0  0.0  0.0  0.0     0.0  0.0  0.0  0.0  0.0  0.0  1.0\n",
       " 0.0  0.0  0.0  0.0  0.0  0.0  0.0  0.0     0.0  0.0  0.0  0.0  0.0  0.0  1.0\n",
       " ⋮                        ⋮              ⋱                      ⋮            \n",
       " 0.0  0.0  0.0  0.0  0.0  0.0  0.0  0.0     0.0  0.0  0.0  0.0  0.0  0.0  0.0\n",
       " 0.0  0.0  0.0  0.0  0.0  0.0  0.0  0.0  …  0.0  0.0  0.0  0.0  0.0  0.0  0.0\n",
       " 0.0  0.0  0.0  0.0  0.0  0.0  0.0  0.0     0.0  0.0  0.0  0.0  0.0  0.0  0.0\n",
       " 0.0  0.0  0.0  0.0  0.0  0.0  0.0  0.0     0.0  0.0  0.0  0.0  0.0  0.0  0.0\n",
       " 0.0  0.0  0.0  0.0  0.0  0.0  0.0  0.0     0.0  0.0  0.0  0.0  0.0  0.0  0.0\n",
       " 0.0  0.0  0.0  0.0  0.0  0.0  0.0  0.0     0.0  0.0  0.0  0.0  0.0  0.0  0.0\n",
       " 0.0  0.0  0.0  0.0  0.0  0.0  0.0  0.0  …  0.0  0.0  0.0  0.0  0.0  0.0  0.0\n",
       " 0.0  0.0  0.0  0.0  0.0  0.0  0.0  0.0     0.0  0.0  0.0  0.0  0.0  0.0  0.0\n",
       " 0.0  0.0  0.0  0.0  0.0  0.0  0.0  0.0     0.0  0.0  0.0  0.0  0.0  0.0  0.0\n",
       " 0.0  0.0  0.0  0.0  0.0  0.0  0.0  0.0     0.0  0.0  0.0  0.0  0.0  0.0  0.0\n",
       " 0.0  0.0  0.0  0.0  0.0  0.0  0.0  0.0     0.0  0.0  0.0  0.0  0.0  0.0  0.0\n",
       " 0.0  0.0  0.0  0.0  0.0  0.0  0.0  0.0  …  0.0  0.0  0.0  0.0  0.0  0.0  0.0"
      ]
     },
     "execution_count": 3,
     "metadata": {},
     "output_type": "execute_result"
    }
   ],
   "source": [
    "if eltype(rawdata) <: Integer\n",
    "    H = rawdata[(people + 1):end, 1:(end - 1)] .>> 1\n",
    "else\n",
    "    H = rawdata[(people + 1):end, 1:(end - 1)] / 2\n",
    "end"
   ]
  },
  {
   "cell_type": "code",
   "execution_count": 4,
   "metadata": {
    "collapsed": false
   },
   "outputs": [
    {
     "data": {
      "text/plain": [
       "0-element Array{Any,1}"
      ]
     },
     "execution_count": 4,
     "metadata": {},
     "output_type": "execute_result"
    }
   ],
   "source": [
    "# clean up rawdata\n",
    "rawdata = []"
   ]
  },
  {
   "cell_type": "markdown",
   "metadata": {},
   "source": [
    "### phase+impute a fixed window"
   ]
  },
  {
   "cell_type": "code",
   "execution_count": 6,
   "metadata": {
    "collapsed": false
   },
   "outputs": [
    {
     "data": {
      "text/plain": [
       "79756-element Array{Float32,1}:\n",
       " 0.0\n",
       " 0.0\n",
       " 0.0\n",
       " 0.0\n",
       " 0.0\n",
       " 0.0\n",
       " 0.0\n",
       " 0.0\n",
       " 0.0\n",
       " 0.0\n",
       " 0.0\n",
       " 0.0\n",
       " 0.0\n",
       " ⋮  \n",
       " 0.0\n",
       " 0.0\n",
       " 0.0\n",
       " 0.0\n",
       " 0.0\n",
       " 0.0\n",
       " 0.0\n",
       " 0.0\n",
       " 0.0\n",
       " 0.0\n",
       " 0.0\n",
       " 0.0"
      ]
     },
     "execution_count": 6,
     "metadata": {},
     "output_type": "execute_result"
    }
   ],
   "source": [
    "using BenchmarkTools, MendelImpute, SnpArrays, NullableArrays\n",
    "\n",
    "X1 = X[:, 1:1200]\n",
    "H1 = H[:, 1:1200]\n",
    "missingprop = 0.1\n",
    "Xm = NullableArray(X1, full(sprand(Bool, size(X1, 1), size(X1, 2), missingprop)))\n",
    "missing_true = X1[Xm.isnull]"
   ]
  },
  {
   "cell_type": "code",
   "execution_count": 9,
   "metadata": {
    "collapsed": false
   },
   "outputs": [
    {
     "name": "stdout",
     "output_type": "stream",
     "text": [
      "  0.122835 seconds (4 allocations: 160 bytes)\n"
     ]
    },
    {
     "data": {
      "text/plain": [
       "0.003259942825618135"
      ]
     },
     "execution_count": 9,
     "metadata": {},
     "output_type": "execute_result"
    }
   ],
   "source": [
    "n, d = size(X1, 1), size(H1, 1)\n",
    "M = zeros(eltype(H), d, d)\n",
    "N = zeros(eltype(X), n, d)\n",
    "happair  = zeros(Int, n), zeros(Int, n)\n",
    "hapscore = zeros(eltype(N), n)\n",
    "@time haploimpute!(Xm, H1, M, N, happair, hapscore)\n",
    "missing_impute = Xm.values[Xm.isnull]\n",
    "error = countnz(missing_true .≠ missing_impute) / length(missing_true)"
   ]
  },
  {
   "cell_type": "code",
   "execution_count": 10,
   "metadata": {
    "collapsed": false
   },
   "outputs": [
    {
     "data": {
      "text/plain": [
       "BenchmarkTools.Trial: \n",
       "  memory estimate:  0 bytes\n",
       "  allocs estimate:  0\n",
       "  --------------\n",
       "  minimum time:     116.565 ms (0.00% GC)\n",
       "  median time:      117.077 ms (0.00% GC)\n",
       "  mean time:        117.283 ms (0.00% GC)\n",
       "  maximum time:     120.601 ms (0.00% GC)\n",
       "  --------------\n",
       "  samples:          43\n",
       "  evals/sample:     1"
      ]
     },
     "execution_count": 10,
     "metadata": {},
     "output_type": "execute_result"
    }
   ],
   "source": [
    "@benchmark haploimpute!(Xm, H1, M, N, happair, hapscore)"
   ]
  },
  {
   "cell_type": "code",
   "execution_count": 11,
   "metadata": {
    "collapsed": false
   },
   "outputs": [
    {
     "name": "stdout",
     "output_type": "stream",
     "text": [
      " Count File                        Line Function                               \n",
      "    91 ./<missing>                   -1 anonymous                              \n",
      "     2 ./abstractarray.jl           485 copy!(::Array{Any,1}, ::Core.Infere... \n",
      "     3 ./inference.jl              1101 abstract_call(::Any, ::Array{Any,1}... \n",
      "     3 ./inference.jl               893 abstract_call_gf_by_type(::Any, ::A... \n",
      "     5 ./inference.jl              1152 abstract_eval(::Any, ::Array{Any,1}... \n",
      "     2 ./inference.jl              1105 abstract_eval_call(::Expr, ::Array{... \n",
      "     3 ./inference.jl              1131 abstract_eval_call(::Expr, ::Array{... \n",
      "     1 ./inference.jl              1947 finish(::Core.Inference.InferenceState)\n",
      "     4 ./inference.jl              1597 typeinf_edge(::Method, ::Any, ::Sim... \n",
      "     3 ./inference.jl              1603 typeinf_edge(::Method, ::Any, ::Sim... \n",
      "     1 ./inference.jl              1621 typeinf_ext(::LambdaInfo)              \n",
      "     3 ./inference.jl              1786 typeinf_frame(::Core.Inference.Infe... \n",
      "     1 ./inference.jl              1854 typeinf_frame(::Core.Inference.Infe... \n",
      "     3 ./inference.jl              1660 typeinf_loop(::Core.Inference.Infer... \n",
      "     1 ./inference.jl              1677 typeinf_loop(::Core.Inference.Infer... \n",
      "     1 ./inference.jl              2146 widen_all_consts!(::LambdaInfo)        \n",
      "    92 ./loading.jl                 441 include_string(::String, ::String)     \n",
      "    91 ./profile.jl                  16 macro expansion;                       \n",
      "    12 ./simdloop.jl                 71 macro expansion                        \n",
      "    72 ./simdloop.jl                 73 macro expansion                        \n",
      "    92 ./task.jl                    360 (::IJulia.##13#19)()                   \n",
      "     3 ...lia/lib/julia/sys.dylib    -1 abstract_call(::Any, ::Array{Any,1}... \n",
      "     3 ...lia/lib/julia/sys.dylib    -1 abstract_call_gf_by_type(::Any, ::A... \n",
      "     5 ...lia/lib/julia/sys.dylib    -1 abstract_eval(::Any, ::Array{Any,1}... \n",
      "     1 ...lia/lib/julia/sys.dylib    -1 colon(::Int64, ::Int64)                \n",
      "     3 ...lia/lib/julia/sys.dylib    -1 typeinf_edge(::Method, ::Any, ::Sim... \n",
      "     3 ...lia/lib/julia/sys.dylib    -1 typeinf_edge(::Method, ::Any, ::Sim... \n",
      "     1 ...lia/lib/julia/sys.dylib    -1 typeinf_loop(::Core.Inference.Infer... \n",
      "    92 ...IJulia/src/eventloop.jl     8 eventloop(::ZMQ.Socket)                \n",
      "    92 .../src/execute_request.jl   156 execute_request(::ZMQ.Socket, ::IJu... \n",
      "     2 ...pute/src/haplotyping.jl   144 fillmissing!(::NullableArrays.Nulla... \n",
      "    91 ...pute/src/haplotyping.jl   189 haploimpute!(::NullableArrays.Nulla... \n",
      "     3 ...pute/src/haplotyping.jl   190 haploimpute!(::NullableArrays.Nulla... \n",
      "    86 ...pute/src/haplotyping.jl   193 haploimpute!(::NullableArrays.Nulla... \n",
      "     2 ...pute/src/haplotyping.jl   195 haploimpute!(::NullableArrays.Nulla... \n",
      "     1 ...pute/src/haplotyping.jl    28 haplopair!(::Tuple{Array{Int64,1},A... \n",
      "    84 ...pute/src/haplotyping.jl    30 haplopair!(::Tuple{Array{Int64,1},A... \n",
      "     1 ...pute/src/haplotyping.jl   101 haplopair!(::Array{Float32,2}, ::Ar... \n",
      "    85 ...pute/src/haplotyping.jl   111 haplopair!(::Array{Float32,2}, ::Ar... \n",
      "     2 ...pute/src/haplotyping.jl   303 initmissing!(::NullableArrays.Nulla... \n",
      "     1 ...pute/src/haplotyping.jl   311 initmissing!(::NullableArrays.Nulla... \n",
      "    12 ...pute/src/haplotyping.jl    31 macro expansion                        \n",
      "    44 ...pute/src/haplotyping.jl    32 macro expansion                        \n",
      "    16 ...pute/src/haplotyping.jl    35 macro expansion                        \n"
     ]
    }
   ],
   "source": [
    "Profile.clear()\n",
    "@profile haploimpute!(Xm, H1, M, N, happair, hapscore)\n",
    "Profile.print(format=:flat)"
   ]
  },
  {
   "cell_type": "markdown",
   "metadata": {},
   "source": [
    "## Phase + impute by moving window"
   ]
  },
  {
   "cell_type": "code",
   "execution_count": 12,
   "metadata": {
    "collapsed": false
   },
   "outputs": [
    {
     "name": "stdout",
     "output_type": "stream",
     "text": [
      "Imputing SNPs 1:400\n",
      "Imputing SNPs 401:800\n",
      "Imputing SNPs 801:1200\n",
      "Imputing SNPs 1201:1600\n",
      "Imputing SNPs 1601:2000\n",
      "Imputing SNPs 2001:2400\n",
      "Imputing SNPs 2401:2800\n",
      "Imputing SNPs 2801:3200\n",
      "Imputing SNPs 3201:3600\n",
      "Imputing SNPs 3601:4000\n",
      "Imputing SNPs 4001:4400\n",
      "Imputing SNPs 4401:4800\n",
      "Imputing SNPs 4801:5200\n",
      "Imputing SNPs 5201:5600\n",
      "Imputing SNPs 5601:6000\n",
      "Imputing SNPs 6001:6400\n",
      "Imputing SNPs 6401:6800\n",
      "Imputing SNPs 6801:7200\n",
      "Imputing SNPs 7201:7600\n",
      "Imputing SNPs 7601:8000\n",
      "Imputing SNPs 8001:8400\n",
      "Imputing SNPs 8401:8800\n",
      "Imputing SNPs 8801:9200\n",
      "Imputing SNPs 9201:9600\n",
      "Imputing SNPs 9601:10000\n",
      "Imputing SNPs 10001:10400\n",
      "Imputing SNPs 10401:10800\n",
      "Imputing SNPs 10801:11200\n",
      "Imputing SNPs 11201:11600\n",
      "Imputing SNPs 11601:12000\n",
      "Imputing SNPs 12001:12400\n",
      "Imputing SNPs 12401:12800\n",
      "Imputing SNPs 12801:13200\n",
      "Imputing SNPs 13201:13600\n",
      "Imputing SNPs 13601:14000\n",
      "Imputing SNPs 14001:14400\n",
      "Imputing SNPs 14401:14800\n",
      "Imputing SNPs 14801:15200\n",
      "Imputing SNPs 15201:15600\n",
      "Imputing SNPs 15601:16000\n",
      "Imputing SNPs 16001:16400\n",
      "Imputing SNPs 16401:16800\n",
      "Imputing SNPs 16801:17200\n",
      "Imputing SNPs 17201:17600\n",
      "Imputing SNPs 17601:18000\n",
      "Imputing SNPs 18001:18400\n",
      "Imputing SNPs 18401:18800\n",
      "Imputing SNPs 18801:19200\n",
      "Imputing SNPs 19201:19600\n",
      "Imputing SNPs 19601:20000\n",
      "Imputing SNPs 20001:20400\n",
      "Imputing SNPs 20401:20800\n",
      "Imputing SNPs 20801:21200\n",
      "Imputing SNPs 21201:21600\n",
      "Imputing SNPs 21601:22000\n",
      "Imputing SNPs 22001:22400\n",
      "Imputing SNPs 22401:22800\n",
      "Imputing SNPs 22801:23200\n",
      "Imputing SNPs 23201:23600\n",
      "Imputing SNPs 23601:24000\n",
      "Imputing SNPs 24001:24400\n",
      "Imputing SNPs 24401:24800\n",
      "Imputing SNPs 24801:25200\n",
      "Imputing SNPs 25201:25600\n",
      "Imputing SNPs 25601:26000\n",
      "Imputing SNPs 26001:26400\n",
      "Imputing SNPs 26401:26800\n",
      "Imputing SNPs 26801:27200\n",
      "Imputing SNPs 27201:27600\n",
      "Imputing SNPs 27601:28000\n",
      "Imputing SNPs 28001:28400\n",
      "Imputing SNPs 28401:28800\n",
      "Imputing SNPs 28801:29200\n",
      "Imputing SNPs 29201:29600\n",
      "Imputing SNPs 29601:30000\n",
      "Imputing SNPs 30001:30400\n",
      "Imputing SNPs 30401:30800\n",
      "Imputing SNPs 30801:31200\n",
      "Imputing SNPs 31201:31600\n",
      "Imputing SNPs 31601:32000\n",
      "Imputing SNPs 32001:32400\n",
      "Imputing SNPs 32401:32800\n",
      "Imputing SNPs 32801:33200\n",
      "Imputing SNPs 33201:33600\n",
      "Imputing SNPs 33601:34000\n",
      "Imputing SNPs 34001:34400\n",
      "Imputing SNPs 34401:34800\n",
      "Imputing SNPs 34801:35200\n",
      "Imputing SNPs 35201:35600\n",
      "Imputing SNPs 35601:36000\n",
      "Imputing SNPs 36001:36498\n",
      " 15.047878 seconds (7.09 M allocations: 158.973 MB, 0.64% gc time)\n"
     ]
    }
   ],
   "source": [
    "using BenchmarkTools, MendelImpute, SnpArrays, NullableArrays\n",
    "\n",
    "srand(123)\n",
    "missingprop = 0.1\n",
    "Xm = NullableArray(X, full(sprand(Bool, size(X, 1), size(X, 2), missingprop)))\n",
    "missing_true = X[Xm.isnull]\n",
    "\n",
    "@time haploimpute!(Xm, H, 400)"
   ]
  },
  {
   "cell_type": "code",
   "execution_count": 13,
   "metadata": {
    "collapsed": false
   },
   "outputs": [
    {
     "data": {
      "text/plain": [
       "0.004465366698388301"
      ]
     },
     "execution_count": 13,
     "metadata": {},
     "output_type": "execute_result"
    }
   ],
   "source": [
    "missing_impute = Xm.values[Xm.isnull]\n",
    "error = countnz(missing_true .≠ missing_impute) / length(missing_true)"
   ]
  },
  {
   "cell_type": "code",
   "execution_count": 8,
   "metadata": {
    "collapsed": false
   },
   "outputs": [
    {
     "data": {
      "text/plain": [
       "2424213"
      ]
     },
     "execution_count": 8,
     "metadata": {},
     "output_type": "execute_result"
    }
   ],
   "source": [
    "length(missing_true)"
   ]
  },
  {
   "cell_type": "code",
   "execution_count": null,
   "metadata": {
    "collapsed": true
   },
   "outputs": [],
   "source": []
  }
 ],
 "metadata": {
  "kernelspec": {
   "display_name": "Julia 0.5.2",
   "language": "julia",
   "name": "julia-0.5"
  },
  "language_info": {
   "file_extension": ".jl",
   "mimetype": "application/julia",
   "name": "julia",
   "version": "0.5.2"
  },
  "toc": {
   "colors": {
    "hover_highlight": "#DAA520",
    "running_highlight": "#FF0000",
    "selected_highlight": "#FFD700"
   },
   "moveMenuLeft": true,
   "nav_menu": {
    "height": "65px",
    "width": "252px"
   },
   "navigate_menu": true,
   "number_sections": true,
   "sideBar": true,
   "threshold": 4,
   "toc_cell": false,
   "toc_section_display": "block",
   "toc_window_display": false,
   "widenNotebook": false
  }
 },
 "nbformat": 4,
 "nbformat_minor": 2
}
