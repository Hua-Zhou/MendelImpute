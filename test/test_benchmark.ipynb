{
 "cells": [
  {
   "cell_type": "markdown",
   "metadata": {},
   "source": [
    "# Test and Benchmark"
   ]
  },
  {
   "cell_type": "code",
   "execution_count": 1,
   "metadata": {
    "collapsed": false
   },
   "outputs": [
    {
     "name": "stdout",
     "output_type": "stream",
     "text": [
      "Julia Version 0.6.0\n",
      "Commit 903644385b (2017-06-19 13:05 UTC)\n",
      "Platform Info:\n",
      "  OS: macOS (x86_64-apple-darwin13.4.0)\n",
      "  CPU: Intel(R) Core(TM) i7-6920HQ CPU @ 2.90GHz\n",
      "  WORD_SIZE: 64\n",
      "  BLAS: libopenblas (USE64BITINT DYNAMIC_ARCH NO_AFFINITY Haswell)\n",
      "  LAPACK: libopenblas64_\n",
      "  LIBM: libopenlibm\n",
      "  LLVM: libLLVM-3.9.1 (ORCJIT, skylake)\n"
     ]
    }
   ],
   "source": [
    "versioninfo()"
   ]
  },
  {
   "cell_type": "markdown",
   "metadata": {},
   "source": [
    "## Haplotyping on complete genotype data"
   ]
  },
  {
   "cell_type": "code",
   "execution_count": 3,
   "metadata": {
    "collapsed": false
   },
   "outputs": [
    {
     "name": "stdout",
     "output_type": "stream",
     "text": [
      "  0.012692 seconds (4 allocations: 160 bytes)\n"
     ]
    }
   ],
   "source": [
    "using NullableArrays, BenchmarkTools, MendelImpute\n",
    "\n",
    "srand(123)\n",
    "n, p, d = 10000, 1000, 50\n",
    "H = convert(Matrix{Float32}, rand(0:1, d, p))\n",
    "X = convert(Matrix{Float32}, rand(0:2, n, p))\n",
    "M   = A_mul_Bt(H, H)\n",
    "for j in 1:d\n",
    "    for i in 1:(j - 1)\n",
    "        M[i, j] = 2M[i, j] + M[i, i] + M[j, j]\n",
    "    end\n",
    "end\n",
    "for j in 1:d\n",
    "    M[j, j] *= 4\n",
    "end\n",
    "N   = A_mul_Bt(X, H)\n",
    "for I in eachindex(N)\n",
    "    N[I] *= 2\n",
    "end\n",
    "happair  = zeros(Int, n), zeros(Int, n)\n",
    "hapscore = zeros(eltype(N), n)\n",
    "@time haplopair!(happair, hapscore, M, N)"
   ]
  },
  {
   "cell_type": "code",
   "execution_count": 4,
   "metadata": {
    "collapsed": false
   },
   "outputs": [
    {
     "data": {
      "text/plain": [
       "([1, 17, 8, 37, 5, 10, 1, 14, 3, 3  …  16, 23, 7, 25, 3, 13, 5, 3, 3, 11], [16, 48, 12, 39, 21, 30, 42, 18, 18, 18  …  35, 26, 47, 50, 39, 35, 24, 17, 18, 43])"
      ]
     },
     "execution_count": 4,
     "metadata": {},
     "output_type": "execute_result"
    }
   ],
   "source": [
    "happair"
   ]
  },
  {
   "cell_type": "code",
   "execution_count": 5,
   "metadata": {
    "collapsed": false
   },
   "outputs": [
    {
     "data": {
      "text/plain": [
       "10000-element Array{Float32,1}:\n",
       " -611.0\n",
       " -622.0\n",
       " -629.0\n",
       " -666.0\n",
       " -569.0\n",
       " -613.0\n",
       " -640.0\n",
       " -669.0\n",
       " -550.0\n",
       " -690.0\n",
       " -665.0\n",
       " -595.0\n",
       " -621.0\n",
       "    ⋮  \n",
       " -578.0\n",
       " -595.0\n",
       " -680.0\n",
       " -546.0\n",
       " -680.0\n",
       " -528.0\n",
       " -687.0\n",
       " -587.0\n",
       " -603.0\n",
       " -646.0\n",
       " -590.0\n",
       " -613.0"
      ]
     },
     "execution_count": 5,
     "metadata": {},
     "output_type": "execute_result"
    }
   ],
   "source": [
    "hapscore"
   ]
  },
  {
   "cell_type": "code",
   "execution_count": 6,
   "metadata": {
    "collapsed": false
   },
   "outputs": [
    {
     "data": {
      "text/plain": [
       "(([1, 17, 8, 37, 5, 10, 1, 14, 3, 3  …  16, 23, 7, 25, 3, 13, 5, 3, 3, 11], [16, 48, 12, 39, 21, 30, 42, 18, 18, 18  …  35, 26, 47, 50, 39, 35, 24, 17, 18, 43]), Float32[1043.0, 1056.0, 1025.0, 1020.0, 1055.0, 1059.0, 1070.0, 1043.0, 1039.0, 1029.0  …  1021.0, 1087.0, 1052.0, 1067.0, 1058.0, 1033.0, 1057.0, 1024.0, 1012.0, 1046.0])"
      ]
     },
     "execution_count": 6,
     "metadata": {},
     "output_type": "execute_result"
    }
   ],
   "source": [
    "haplopair(X, H)"
   ]
  },
  {
   "cell_type": "code",
   "execution_count": 7,
   "metadata": {
    "collapsed": false
   },
   "outputs": [
    {
     "data": {
      "text/plain": [
       "BenchmarkTools.Trial: \n",
       "  memory estimate:  0 bytes\n",
       "  allocs estimate:  0\n",
       "  --------------\n",
       "  minimum time:     9.256 ms (0.00% GC)\n",
       "  median time:      9.784 ms (0.00% GC)\n",
       "  mean time:        9.891 ms (0.00% GC)\n",
       "  maximum time:     13.405 ms (0.00% GC)\n",
       "  --------------\n",
       "  samples:          506\n",
       "  evals/sample:     1"
      ]
     },
     "execution_count": 7,
     "metadata": {},
     "output_type": "execute_result"
    }
   ],
   "source": [
    "@benchmark haplopair!(happair, hapscore, M, N)"
   ]
  },
  {
   "cell_type": "code",
   "execution_count": 8,
   "metadata": {
    "collapsed": false
   },
   "outputs": [
    {
     "name": "stdout",
     "output_type": "stream",
     "text": [
      " Count File                        Line Function                               \n",
      "    10 ./<missing>                   -1 anonymous                              \n",
      "    11 ./loading.jl                 515 include_string(::String, ::String)     \n",
      "    10 ./profile.jl                  23 macro expansion                        \n",
      "    11 ./task.jl                    335 (::IJulia.##11#14)()                   \n",
      "    11 ...IJulia/src/eventloop.jl     8 eventloop(::ZMQ.Socket)                \n",
      "    11 .../src/execute_request.jl   160 execute_request(::ZMQ.Socket, ::IJu... \n",
      "     1 ...pute/src/haplotyping.jl    30 haplopair!(::Tuple{Array{Int64,1},A... \n",
      "     1 ...pute/src/haplotyping.jl    32 haplopair!(::Tuple{Array{Int64,1},A... \n",
      "     2 ...pute/src/haplotyping.jl    33 haplopair!(::Tuple{Array{Int64,1},A... \n",
      "     4 ...pute/src/haplotyping.jl    34 haplopair!(::Tuple{Array{Int64,1},A... \n",
      "     2 ...pute/src/haplotyping.jl    37 haplopair!(::Tuple{Array{Int64,1},A... \n"
     ]
    }
   ],
   "source": [
    "Profile.clear()\n",
    "@profile haplopair!(happair, hapscore, M, N)\n",
    "Profile.print(format=:flat)"
   ]
  },
  {
   "cell_type": "code",
   "execution_count": 9,
   "metadata": {
    "collapsed": false
   },
   "outputs": [],
   "source": [
    "#@code_warntype haplopair!(X, H, M, N, happair, hapscore)"
   ]
  },
  {
   "cell_type": "code",
   "execution_count": 9,
   "metadata": {
    "collapsed": false
   },
   "outputs": [
    {
     "name": "stdout",
     "output_type": "stream",
     "text": [
      "  0.032333 seconds (4 allocations: 160 bytes)\n"
     ]
    }
   ],
   "source": [
    "@time haplopair!(X, H, M, N, happair, hapscore)"
   ]
  },
  {
   "cell_type": "code",
   "execution_count": 10,
   "metadata": {
    "collapsed": false
   },
   "outputs": [
    {
     "data": {
      "text/plain": [
       "BenchmarkTools.Trial: \n",
       "  memory estimate:  0 bytes\n",
       "  allocs estimate:  0\n",
       "  --------------\n",
       "  minimum time:     20.488 ms (0.00% GC)\n",
       "  median time:      20.981 ms (0.00% GC)\n",
       "  mean time:        21.224 ms (0.00% GC)\n",
       "  maximum time:     26.561 ms (0.00% GC)\n",
       "  --------------\n",
       "  samples:          236\n",
       "  evals/sample:     1"
      ]
     },
     "execution_count": 10,
     "metadata": {},
     "output_type": "execute_result"
    }
   ],
   "source": [
    "@benchmark haplopair!(X, H, M, N, happair, hapscore)"
   ]
  },
  {
   "cell_type": "code",
   "execution_count": 11,
   "metadata": {
    "collapsed": false
   },
   "outputs": [
    {
     "name": "stdout",
     "output_type": "stream",
     "text": [
      " Count File                        Line Function                               \n",
      "    28 ./<missing>                   -1 anonymous                              \n",
      "     4 ./linalg/blas.jl            1027 gemm!(::Char, ::Char, ::Float32, ::... \n",
      "     4 ./linalg/matmul.jl           191 A_mul_Bt!                              \n",
      "     4 ./linalg/matmul.jl           367 gemm_wrapper!(::Array{Float32,2}, :... \n",
      "    28 ./loading.jl                 515 include_string(::String, ::String)     \n",
      "    28 ./profile.jl                  23 macro expansion                        \n",
      "     8 ./simdloop.jl                 73 macro expansion                        \n",
      "    28 ./task.jl                    335 (::IJulia.##11#14)()                   \n",
      "    28 ...IJulia/src/eventloop.jl     8 eventloop(::ZMQ.Socket)                \n",
      "    28 .../src/execute_request.jl   160 execute_request(::ZMQ.Socket, ::IJu... \n",
      "     4 ...pute/src/haplotyping.jl    30 haplopair!(::Tuple{Array{Int64,1},A... \n",
      "     2 ...pute/src/haplotyping.jl    32 haplopair!(::Tuple{Array{Int64,1},A... \n",
      "     1 ...pute/src/haplotyping.jl    33 haplopair!(::Tuple{Array{Int64,1},A... \n",
      "     8 ...pute/src/haplotyping.jl    34 haplopair!(::Tuple{Array{Int64,1},A... \n",
      "     1 ...pute/src/haplotyping.jl    37 haplopair!(::Tuple{Array{Int64,1},A... \n",
      "     4 ...pute/src/haplotyping.jl   109 haplopair!(::Array{Float32,2}, ::Ar... \n",
      "    16 ...pute/src/haplotyping.jl   113 haplopair!(::Array{Float32,2}, ::Ar... \n",
      "     8 ...pute/src/haplotyping.jl   115 haplopair!(::Array{Float32,2}, ::Ar... \n",
      "     8 ...pute/src/haplotyping.jl   116 macro expansion                        \n"
     ]
    }
   ],
   "source": [
    "Profile.clear()\n",
    "@profile haplopair!(X, H, M, N, happair, hapscore)\n",
    "Profile.print(format=:flat)"
   ]
  },
  {
   "cell_type": "markdown",
   "metadata": {},
   "source": [
    "## Haplotyping on incomplete genotype data\n",
    "\n"
   ]
  },
  {
   "cell_type": "code",
   "execution_count": 13,
   "metadata": {
    "collapsed": false
   },
   "outputs": [
    {
     "name": "stdout",
     "output_type": "stream",
     "text": [
      "  0.098535 seconds (4 allocations: 160 bytes)\n"
     ]
    }
   ],
   "source": [
    "using MendelImpute, NullableArrays, BenchmarkTools\n",
    "\n",
    "srand(123)\n",
    "n, p, d = 10000, 1000, 50\n",
    "H = convert(Matrix{Float32}, rand(0:1, d, p))\n",
    "X = convert(Matrix{Float32}, rand(0:2, n, p))\n",
    "M = zeros(eltype(H), d, d)\n",
    "N = zeros(eltype(X), n, d)\n",
    "happair  = zeros(Int, n), zeros(Int, n)\n",
    "hapscore = zeros(eltype(N), n)\n",
    "missingprop = 0.1\n",
    "Xm = NullableArray(X, full(sprand(Bool, n, p, missingprop)))\n",
    "@time haploimpute!(Xm, H, M, N, happair, hapscore)"
   ]
  },
  {
   "cell_type": "code",
   "execution_count": 14,
   "metadata": {
    "collapsed": false
   },
   "outputs": [
    {
     "data": {
      "text/plain": [
       "BenchmarkTools.Trial: \n",
       "  memory estimate:  0 bytes\n",
       "  allocs estimate:  0\n",
       "  --------------\n",
       "  minimum time:     90.592 ms (0.00% GC)\n",
       "  median time:      90.955 ms (0.00% GC)\n",
       "  mean time:        91.509 ms (0.00% GC)\n",
       "  maximum time:     95.049 ms (0.00% GC)\n",
       "  --------------\n",
       "  samples:          55\n",
       "  evals/sample:     1"
      ]
     },
     "execution_count": 14,
     "metadata": {},
     "output_type": "execute_result"
    }
   ],
   "source": [
    "@benchmark haploimpute!(Xm, H, M, N, happair, hapscore)"
   ]
  },
  {
   "cell_type": "code",
   "execution_count": 15,
   "metadata": {
    "collapsed": false
   },
   "outputs": [
    {
     "name": "stdout",
     "output_type": "stream",
     "text": [
      " Count File                        Line Function                               \n",
      "    84 ./<missing>                   -1 anonymous                              \n",
      "     4 ./linalg/blas.jl            1027 gemm!(::Char, ::Char, ::Float32, ::... \n",
      "     4 ./linalg/matmul.jl           191 A_mul_Bt!                              \n",
      "     4 ./linalg/matmul.jl           367 gemm_wrapper!(::Array{Float32,2}, :... \n",
      "    84 ./loading.jl                 515 include_string(::String, ::String)     \n",
      "    84 ./profile.jl                  23 macro expansion                        \n",
      "     2 ./simdloop.jl                 73 macro expansion                        \n",
      "    84 ./task.jl                    335 (::IJulia.##11#14)()                   \n",
      "    84 ...IJulia/src/eventloop.jl     8 eventloop(::ZMQ.Socket)                \n",
      "    84 .../src/execute_request.jl   160 execute_request(::ZMQ.Socket, ::IJu... \n",
      "     6 ...pute/src/haplotyping.jl   145 fillmissing!(::NullableArrays.Nulla... \n",
      "     5 ...pute/src/haplotyping.jl   146 fillmissing!(::NullableArrays.Nulla... \n",
      "     5 ...pute/src/haplotyping.jl   147 fillmissing!(::NullableArrays.Nulla... \n",
      "     4 ...pute/src/haplotyping.jl   148 fillmissing!(::NullableArrays.Nulla... \n",
      "    84 ...pute/src/haplotyping.jl   237 haploimpute!(::NullableArrays.Nulla... \n",
      "    48 ...pute/src/haplotyping.jl   238 haploimpute!(::NullableArrays.Nulla... \n",
      "    16 ...pute/src/haplotyping.jl   241 haploimpute!(::NullableArrays.Nulla... \n",
      "    20 ...pute/src/haplotyping.jl   243 haploimpute!(::NullableArrays.Nulla... \n",
      "     3 ...pute/src/haplotyping.jl    32 haplopair!(::Tuple{Array{Int64,1},A... \n",
      "     1 ...pute/src/haplotyping.jl    33 haplopair!(::Tuple{Array{Int64,1},A... \n",
      "     3 ...pute/src/haplotyping.jl    34 haplopair!(::Tuple{Array{Int64,1},A... \n",
      "     3 ...pute/src/haplotyping.jl    37 haplopair!(::Tuple{Array{Int64,1},A... \n",
      "     4 ...pute/src/haplotyping.jl   109 haplopair!(::Array{Float32,2}, ::Ar... \n",
      "    10 ...pute/src/haplotyping.jl   113 haplopair!(::Array{Float32,2}, ::Ar... \n",
      "     2 ...pute/src/haplotyping.jl   115 haplopair!(::Array{Float32,2}, ::Ar... \n",
      "     8 ...pute/src/haplotyping.jl   191 initmissing!(::NullableArrays.Nulla... \n",
      "    13 ...pute/src/haplotyping.jl   192 initmissing!(::NullableArrays.Nulla... \n",
      "    14 ...pute/src/haplotyping.jl   194 initmissing!(::NullableArrays.Nulla... \n",
      "     4 ...pute/src/haplotyping.jl   200 initmissing!(::NullableArrays.Nulla... \n",
      "     9 ...pute/src/haplotyping.jl   201 initmissing!(::NullableArrays.Nulla... \n",
      "     2 ...pute/src/haplotyping.jl   116 macro expansion                        \n"
     ]
    }
   ],
   "source": [
    "Profile.clear()\n",
    "@profile haploimpute!(Xm, H, M, N, happair, hapscore)\n",
    "Profile.print(format=:flat)"
   ]
  },
  {
   "cell_type": "markdown",
   "metadata": {
    "collapsed": true
   },
   "source": [
    "## `AFRped.txt` data\n",
    "\n"
   ]
  },
  {
   "cell_type": "code",
   "execution_count": 17,
   "metadata": {
    "collapsed": false
   },
   "outputs": [],
   "source": [
    "#;ls -al"
   ]
  },
  {
   "cell_type": "code",
   "execution_count": 18,
   "metadata": {
    "collapsed": false
   },
   "outputs": [],
   "source": [
    "## cut out the first 6 fields in the pedigree file\n",
    "#;cut -d ',' -f7- AFRped.txt > AFRped_geno.txt"
   ]
  },
  {
   "cell_type": "code",
   "execution_count": 19,
   "metadata": {
    "collapsed": false
   },
   "outputs": [],
   "source": [
    "#;ls -al"
   ]
  },
  {
   "cell_type": "code",
   "execution_count": 16,
   "metadata": {
    "collapsed": false
   },
   "outputs": [
    {
     "data": {
      "text/plain": [
       "1325×36499 Array{Float32,2}:\n",
       " 0.0  0.0  0.0  0.0  0.0  0.0  0.0  0.0  …  0.0  0.0  0.0  0.0  0.0  1.0  0.0\n",
       " 0.0  0.0  0.0  0.0  0.0  0.0  0.0  0.0     0.0  0.0  0.0  0.0  0.0  1.0  0.0\n",
       " 1.0  0.0  0.0  0.0  0.0  0.0  0.0  0.0     0.0  0.0  0.0  0.0  0.0  0.0  0.0\n",
       " 0.0  0.0  0.0  0.0  0.0  0.0  0.0  0.0     0.0  0.0  0.0  0.0  0.0  0.0  0.0\n",
       " 1.0  0.0  0.0  0.0  0.0  0.0  0.0  0.0     0.0  0.0  0.0  0.0  0.0  0.0  0.0\n",
       " 1.0  0.0  0.0  0.0  0.0  0.0  0.0  0.0  …  0.0  0.0  0.0  0.0  0.0  0.0  0.0\n",
       " 0.0  0.0  0.0  0.0  0.0  0.0  0.0  0.0     0.0  0.0  0.0  0.0  0.0  1.0  0.0\n",
       " 1.0  0.0  0.0  0.0  0.0  0.0  0.0  0.0     0.0  0.0  0.0  0.0  0.0  1.0  0.0\n",
       " 0.0  0.0  0.0  0.0  0.0  0.0  0.0  0.0     0.0  0.0  0.0  0.0  0.0  0.0  0.0\n",
       " 0.0  0.0  0.0  0.0  0.0  0.0  0.0  0.0     0.0  0.0  0.0  0.0  0.0  0.0  0.0\n",
       " 0.0  0.0  0.0  0.0  0.0  0.0  0.0  0.0  …  0.0  0.0  0.0  0.0  0.0  1.0  0.0\n",
       " 0.0  0.0  0.0  0.0  0.0  0.0  0.0  0.0     0.0  0.0  0.0  0.0  0.0  1.0  0.0\n",
       " 0.0  0.0  0.0  0.0  0.0  0.0  0.0  0.0     0.0  0.0  0.0  0.0  0.0  1.0  0.0\n",
       " ⋮                        ⋮              ⋱                 ⋮                 \n",
       " 0.0  0.0  0.0  0.0  0.0  0.0  0.0  0.0     0.0  0.0  0.0  0.0  0.0  0.0  0.0\n",
       " 0.0  0.0  0.0  0.0  0.0  0.0  0.0  0.0     0.0  0.0  0.0  0.0  0.0  0.0  0.0\n",
       " 0.0  0.0  0.0  0.0  0.0  0.0  0.0  0.0  …  0.0  0.0  0.0  0.0  0.0  0.0  0.0\n",
       " 0.0  0.0  0.0  0.0  0.0  0.0  0.0  0.0     0.0  0.0  0.0  0.0  0.0  0.0  0.0\n",
       " 0.0  0.0  0.0  0.0  0.0  0.0  0.0  0.0     0.0  0.0  0.0  0.0  0.0  0.0  0.0\n",
       " 0.0  0.0  0.0  0.0  0.0  0.0  0.0  0.0     0.0  0.0  0.0  0.0  0.0  0.0  0.0\n",
       " 0.0  0.0  0.0  0.0  0.0  0.0  0.0  0.0     0.0  0.0  0.0  0.0  0.0  0.0  0.0\n",
       " 0.0  0.0  0.0  0.0  0.0  0.0  0.0  0.0  …  0.0  0.0  0.0  0.0  0.0  0.0  0.0\n",
       " 0.0  0.0  0.0  0.0  0.0  0.0  0.0  0.0     0.0  0.0  0.0  0.0  0.0  0.0  0.0\n",
       " 0.0  0.0  0.0  0.0  0.0  0.0  0.0  0.0     0.0  0.0  0.0  0.0  0.0  0.0  0.0\n",
       " 0.0  0.0  0.0  0.0  0.0  0.0  0.0  0.0     0.0  0.0  0.0  0.0  0.0  0.0  0.0\n",
       " 0.0  0.0  0.0  0.0  0.0  0.0  0.0  0.0     0.0  0.0  0.0  0.0  0.0  0.0  0.0"
      ]
     },
     "execution_count": 16,
     "metadata": {},
     "output_type": "execute_result"
    }
   ],
   "source": [
    "rawdata = readcsv(\"AFRped_geno.txt\", Float32)"
   ]
  },
  {
   "cell_type": "code",
   "execution_count": 17,
   "metadata": {
    "collapsed": false
   },
   "outputs": [
    {
     "data": {
      "text/plain": [
       "664×36498 Array{Float32,2}:\n",
       " 0.0  0.0  0.0  0.0  0.0  0.0  0.0  0.0  …  0.0  0.0  0.0  0.0  0.0  0.0  1.0\n",
       " 0.0  0.0  0.0  0.0  0.0  0.0  0.0  0.0     0.0  0.0  0.0  0.0  0.0  0.0  1.0\n",
       " 1.0  0.0  0.0  0.0  0.0  0.0  0.0  0.0     0.0  0.0  0.0  0.0  0.0  0.0  0.0\n",
       " 0.0  0.0  0.0  0.0  0.0  0.0  0.0  0.0     0.0  0.0  0.0  0.0  0.0  0.0  0.0\n",
       " 1.0  0.0  0.0  0.0  0.0  0.0  0.0  0.0     0.0  0.0  0.0  0.0  0.0  0.0  0.0\n",
       " 1.0  0.0  0.0  0.0  0.0  0.0  0.0  0.0  …  0.0  0.0  0.0  0.0  0.0  0.0  0.0\n",
       " 0.0  0.0  0.0  0.0  0.0  0.0  0.0  0.0     0.0  0.0  0.0  0.0  0.0  0.0  1.0\n",
       " 1.0  0.0  0.0  0.0  0.0  0.0  0.0  0.0     0.0  0.0  0.0  0.0  0.0  0.0  1.0\n",
       " 0.0  0.0  0.0  0.0  0.0  0.0  0.0  0.0     0.0  0.0  0.0  0.0  0.0  0.0  0.0\n",
       " 0.0  0.0  0.0  0.0  0.0  0.0  0.0  0.0     0.0  0.0  0.0  0.0  0.0  0.0  0.0\n",
       " 0.0  0.0  0.0  0.0  0.0  0.0  0.0  0.0  …  0.0  0.0  0.0  0.0  0.0  0.0  1.0\n",
       " 0.0  0.0  0.0  0.0  0.0  0.0  0.0  0.0     0.0  0.0  0.0  0.0  0.0  0.0  1.0\n",
       " 0.0  0.0  0.0  0.0  0.0  0.0  0.0  0.0     0.0  0.0  0.0  0.0  0.0  0.0  1.0\n",
       " ⋮                        ⋮              ⋱                      ⋮            \n",
       " 0.0  0.0  0.0  0.0  0.0  0.0  0.0  0.0     0.0  0.0  0.0  0.0  0.0  0.0  0.0\n",
       " 0.0  0.0  0.0  0.0  0.0  0.0  0.0  0.0     0.0  0.0  0.0  0.0  0.0  0.0  0.0\n",
       " 0.0  0.0  0.0  0.0  0.0  0.0  0.0  0.0     0.0  0.0  0.0  0.0  0.0  0.0  0.0\n",
       " 0.0  0.0  0.0  0.0  0.0  0.0  0.0  0.0  …  0.0  0.0  0.0  0.0  0.0  0.0  1.0\n",
       " 0.0  0.0  0.0  0.0  0.0  0.0  0.0  0.0     0.0  0.0  0.0  0.0  0.0  0.0  1.0\n",
       " 0.0  0.0  0.0  0.0  0.0  0.0  0.0  0.0     0.0  0.0  0.0  0.0  0.0  0.0  1.0\n",
       " 0.0  0.0  0.0  0.0  0.0  0.0  0.0  0.0     0.0  0.0  0.0  0.0  0.0  0.0  0.0\n",
       " 0.0  0.0  0.0  0.0  0.0  0.0  0.0  0.0     0.0  0.0  0.0  0.0  0.0  0.0  0.0\n",
       " 0.0  0.0  0.0  0.0  0.0  0.0  0.0  0.0  …  0.0  0.0  0.0  0.0  0.0  0.0  1.0\n",
       " 0.0  0.0  0.0  0.0  0.0  0.0  0.0  0.0     0.0  0.0  0.0  0.0  0.0  0.0  0.0\n",
       " 0.0  0.0  0.0  0.0  0.0  0.0  0.0  0.0     0.0  0.0  0.0  0.0  0.0  0.0  1.0\n",
       " 0.0  0.0  0.0  0.0  0.0  0.0  0.0  0.0     0.0  0.0  0.0  0.0  0.0  0.0  0.0"
      ]
     },
     "execution_count": 17,
     "metadata": {},
     "output_type": "execute_result"
    }
   ],
   "source": [
    "people = 664\n",
    "X = rawdata[1:people, 1:(end - 1)]"
   ]
  },
  {
   "cell_type": "code",
   "execution_count": 18,
   "metadata": {
    "collapsed": false
   },
   "outputs": [
    {
     "data": {
      "text/plain": [
       "661×36498 Array{Float32,2}:\n",
       " 0.0  0.0  0.0  0.0  0.0  0.0  0.0  0.0  …  0.0  0.0  0.0  0.0  0.0  0.0  0.0\n",
       " 0.0  0.0  0.0  0.0  0.0  0.0  0.0  0.0     0.0  0.0  0.0  0.0  0.0  0.0  1.0\n",
       " 0.0  0.0  0.0  0.0  0.0  0.0  0.0  0.0     0.0  0.0  0.0  0.0  0.0  0.0  0.0\n",
       " 0.0  0.0  0.0  0.0  0.0  0.0  0.0  0.0     0.0  0.0  0.0  0.0  0.0  0.0  1.0\n",
       " 0.0  0.0  0.0  0.0  0.0  0.0  0.0  0.0     0.0  0.0  0.0  0.0  0.0  0.0  0.0\n",
       " 0.0  0.0  0.0  0.0  0.0  0.0  0.0  0.0  …  0.0  0.0  0.0  0.0  0.0  0.0  0.0\n",
       " 0.0  0.0  0.0  0.0  0.0  0.0  0.0  0.0     0.0  0.0  0.0  0.0  0.0  0.0  1.0\n",
       " 0.0  0.0  0.0  0.0  0.0  0.0  0.0  0.0     0.0  0.0  0.0  0.0  0.0  0.0  0.0\n",
       " 0.0  0.0  0.0  0.0  0.0  0.0  0.0  0.0     0.0  0.0  0.0  0.0  0.0  0.0  1.0\n",
       " 0.0  0.0  0.0  0.0  0.0  0.0  0.0  0.0     0.0  0.0  0.0  0.0  0.0  0.0  0.0\n",
       " 0.0  0.0  0.0  0.0  0.0  0.0  0.0  0.0  …  0.0  0.0  0.0  0.0  0.0  0.0  1.0\n",
       " 0.0  0.0  0.0  0.0  0.0  0.0  0.0  0.0     0.0  0.0  0.0  0.0  0.0  0.0  1.0\n",
       " 0.0  0.0  0.0  0.0  0.0  0.0  0.0  0.0     0.0  0.0  0.0  0.0  0.0  0.0  1.0\n",
       " ⋮                        ⋮              ⋱                      ⋮            \n",
       " 0.0  0.0  0.0  0.0  0.0  0.0  0.0  0.0     0.0  0.0  0.0  0.0  0.0  0.0  0.0\n",
       " 0.0  0.0  0.0  0.0  0.0  0.0  0.0  0.0  …  0.0  0.0  0.0  0.0  0.0  0.0  0.0\n",
       " 0.0  0.0  0.0  0.0  0.0  0.0  0.0  0.0     0.0  0.0  0.0  0.0  0.0  0.0  0.0\n",
       " 0.0  0.0  0.0  0.0  0.0  0.0  0.0  0.0     0.0  0.0  0.0  0.0  0.0  0.0  0.0\n",
       " 0.0  0.0  0.0  0.0  0.0  0.0  0.0  0.0     0.0  0.0  0.0  0.0  0.0  0.0  0.0\n",
       " 0.0  0.0  0.0  0.0  0.0  0.0  0.0  0.0     0.0  0.0  0.0  0.0  0.0  0.0  0.0\n",
       " 0.0  0.0  0.0  0.0  0.0  0.0  0.0  0.0  …  0.0  0.0  0.0  0.0  0.0  0.0  0.0\n",
       " 0.0  0.0  0.0  0.0  0.0  0.0  0.0  0.0     0.0  0.0  0.0  0.0  0.0  0.0  0.0\n",
       " 0.0  0.0  0.0  0.0  0.0  0.0  0.0  0.0     0.0  0.0  0.0  0.0  0.0  0.0  0.0\n",
       " 0.0  0.0  0.0  0.0  0.0  0.0  0.0  0.0     0.0  0.0  0.0  0.0  0.0  0.0  0.0\n",
       " 0.0  0.0  0.0  0.0  0.0  0.0  0.0  0.0     0.0  0.0  0.0  0.0  0.0  0.0  0.0\n",
       " 0.0  0.0  0.0  0.0  0.0  0.0  0.0  0.0  …  0.0  0.0  0.0  0.0  0.0  0.0  0.0"
      ]
     },
     "execution_count": 18,
     "metadata": {},
     "output_type": "execute_result"
    }
   ],
   "source": [
    "if eltype(rawdata) <: Integer\n",
    "    H = rawdata[(people + 1):end, 1:(end - 1)] .>> 1\n",
    "else\n",
    "    H = rawdata[(people + 1):end, 1:(end - 1)] / 2\n",
    "end"
   ]
  },
  {
   "cell_type": "markdown",
   "metadata": {},
   "source": [
    "### phase+impute a fixed window"
   ]
  },
  {
   "cell_type": "code",
   "execution_count": 19,
   "metadata": {
    "collapsed": false
   },
   "outputs": [
    {
     "data": {
      "text/plain": [
       "79900-element Array{Int64,1}:\n",
       " 1\n",
       " 0\n",
       " 0\n",
       " 0\n",
       " 0\n",
       " 0\n",
       " 0\n",
       " 0\n",
       " 0\n",
       " 0\n",
       " 0\n",
       " 0\n",
       " 0\n",
       " ⋮\n",
       " 0\n",
       " 0\n",
       " 0\n",
       " 0\n",
       " 0\n",
       " 0\n",
       " 0\n",
       " 0\n",
       " 0\n",
       " 0\n",
       " 0\n",
       " 0"
      ]
     },
     "execution_count": 19,
     "metadata": {},
     "output_type": "execute_result"
    }
   ],
   "source": [
    "using BenchmarkTools, MendelImpute, NullableArrays\n",
    "\n",
    "X1 = X[:, 1:1200]\n",
    "H1 = H[:, 1:1200]\n",
    "missingprop = 0.1\n",
    "Xm = NullableArray(X1, full(sprand(Bool, size(X1, 1), size(X1, 2), missingprop)))\n",
    "missing_true = round.(Int, X1[Xm.isnull])"
   ]
  },
  {
   "cell_type": "code",
   "execution_count": 21,
   "metadata": {
    "collapsed": false
   },
   "outputs": [
    {
     "name": "stdout",
     "output_type": "stream",
     "text": [
      "  0.145084 seconds (4 allocations: 160 bytes)\n"
     ]
    },
    {
     "data": {
      "text/plain": [
       "0.0029662077596996246"
      ]
     },
     "execution_count": 21,
     "metadata": {},
     "output_type": "execute_result"
    }
   ],
   "source": [
    "n, d = size(X1, 1), size(H1, 1)\n",
    "M = zeros(eltype(H), d, d)\n",
    "N = zeros(eltype(X), n, d)\n",
    "happair  = zeros(Int, n), zeros(Int, n)\n",
    "hapscore = zeros(eltype(N), n)\n",
    "@time haploimpute!(Xm, H1, M, N, happair, hapscore)\n",
    "missing_impute = round.(Int, Xm.values[Xm.isnull])\n",
    "error = countnz(missing_true .≠ missing_impute) / length(missing_true)"
   ]
  },
  {
   "cell_type": "code",
   "execution_count": 22,
   "metadata": {
    "collapsed": false
   },
   "outputs": [
    {
     "data": {
      "text/plain": [
       "BenchmarkTools.Trial: \n",
       "  memory estimate:  0 bytes\n",
       "  allocs estimate:  0\n",
       "  --------------\n",
       "  minimum time:     123.712 ms (0.00% GC)\n",
       "  median time:      124.748 ms (0.00% GC)\n",
       "  mean time:        127.212 ms (0.00% GC)\n",
       "  maximum time:     152.262 ms (0.00% GC)\n",
       "  --------------\n",
       "  samples:          40\n",
       "  evals/sample:     1"
      ]
     },
     "execution_count": 22,
     "metadata": {},
     "output_type": "execute_result"
    }
   ],
   "source": [
    "@benchmark haploimpute!(Xm, H1, M, N, happair, hapscore)"
   ]
  },
  {
   "cell_type": "code",
   "execution_count": 23,
   "metadata": {
    "collapsed": false
   },
   "outputs": [
    {
     "name": "stdout",
     "output_type": "stream",
     "text": [
      " Count File                        Line Function                               \n",
      "   102 ./<missing>                   -1 anonymous                              \n",
      "     1 ./linalg/blas.jl            1027 gemm!(::Char, ::Char, ::Float32, ::... \n",
      "     2 ./linalg/matmul.jl           191 A_mul_Bt!                              \n",
      "     1 ./linalg/matmul.jl           240 copytri!(::Array{Float32,2}, ::Char... \n",
      "     1 ./linalg/matmul.jl           367 gemm_wrapper!(::Array{Float32,2}, :... \n",
      "     1 ./linalg/matmul.jl           293 syrk_wrapper!(::Array{Float32,2}, :... \n",
      "   102 ./loading.jl                 515 include_string(::String, ::String)     \n",
      "   102 ./profile.jl                  23 macro expansion                        \n",
      "   102 ./task.jl                    335 (::IJulia.##11#14)()                   \n",
      "   102 ...IJulia/src/eventloop.jl     8 eventloop(::ZMQ.Socket)                \n",
      "   102 .../src/execute_request.jl   160 execute_request(::ZMQ.Socket, ::IJu... \n",
      "     1 ...pute/src/haplotyping.jl   146 fillmissing!(::NullableArrays.Nulla... \n",
      "     1 ...pute/src/haplotyping.jl   148 fillmissing!(::NullableArrays.Nulla... \n",
      "   102 ...pute/src/haplotyping.jl   237 haploimpute!(::NullableArrays.Nulla... \n",
      "     3 ...pute/src/haplotyping.jl   238 haploimpute!(::NullableArrays.Nulla... \n",
      "    97 ...pute/src/haplotyping.jl   241 haploimpute!(::NullableArrays.Nulla... \n",
      "     2 ...pute/src/haplotyping.jl   243 haploimpute!(::NullableArrays.Nulla... \n",
      "    20 ...pute/src/haplotyping.jl    30 haplopair!(::Tuple{Array{Int64,1},A... \n",
      "    10 ...pute/src/haplotyping.jl    32 haplopair!(::Tuple{Array{Int64,1},A... \n",
      "    19 ...pute/src/haplotyping.jl    33 haplopair!(::Tuple{Array{Int64,1},A... \n",
      "    20 ...pute/src/haplotyping.jl    34 haplopair!(::Tuple{Array{Int64,1},A... \n",
      "    24 ...pute/src/haplotyping.jl    37 haplopair!(::Tuple{Array{Int64,1},A... \n",
      "     1 ...pute/src/haplotyping.jl   102 haplopair!(::Array{Float32,2}, ::Ar... \n",
      "     1 ...pute/src/haplotyping.jl   104 haplopair!(::Array{Float32,2}, ::Ar... \n",
      "     1 ...pute/src/haplotyping.jl   109 haplopair!(::Array{Float32,2}, ::Ar... \n",
      "     1 ...pute/src/haplotyping.jl   111 haplopair!(::Array{Float32,2}, ::Ar... \n",
      "    93 ...pute/src/haplotyping.jl   113 haplopair!(::Array{Float32,2}, ::Ar... \n",
      "     1 ...pute/src/haplotyping.jl   192 initmissing!(::NullableArrays.Nulla... \n",
      "     1 ...pute/src/haplotyping.jl   194 initmissing!(::NullableArrays.Nulla... \n",
      "     1 ...pute/src/haplotyping.jl   201 initmissing!(::NullableArrays.Nulla... \n"
     ]
    }
   ],
   "source": [
    "Profile.clear()\n",
    "@profile haploimpute!(Xm, H1, M, N, happair, hapscore)\n",
    "Profile.print(format=:flat)"
   ]
  },
  {
   "cell_type": "markdown",
   "metadata": {},
   "source": [
    "## Phase + impute by moving window (using flanking windows)"
   ]
  },
  {
   "cell_type": "code",
   "execution_count": 24,
   "metadata": {
    "collapsed": false
   },
   "outputs": [
    {
     "name": "stdout",
     "output_type": "stream",
     "text": [
      "Imputing SNPs 1:800\n",
      "Imputing SNPs 801:1600\n",
      "Imputing SNPs 1601:2400\n",
      "Imputing SNPs 2401:3200\n",
      "Imputing SNPs 3201:4000\n",
      "Imputing SNPs 4001:4800\n",
      "Imputing SNPs 4801:5600\n",
      "Imputing SNPs 5601:6400\n",
      "Imputing SNPs 6401:7200\n",
      "Imputing SNPs 7201:8000\n",
      "Imputing SNPs 8001:8800\n",
      "Imputing SNPs 8801:9600\n",
      "Imputing SNPs 9601:10400\n",
      "Imputing SNPs 10401:11200\n",
      "Imputing SNPs 11201:12000\n",
      "Imputing SNPs 12001:12800\n",
      "Imputing SNPs 12801:13600\n",
      "Imputing SNPs 13601:14400\n",
      "Imputing SNPs 14401:15200\n",
      "Imputing SNPs 15201:16000\n",
      "Imputing SNPs 16001:16800\n",
      "Imputing SNPs 16801:17600\n",
      "Imputing SNPs 17601:18400\n",
      "Imputing SNPs 18401:19200\n",
      "Imputing SNPs 19201:20000\n",
      "Imputing SNPs 20001:20800\n",
      "Imputing SNPs 20801:21600\n",
      "Imputing SNPs 21601:22400\n",
      "Imputing SNPs 22401:23200\n",
      "Imputing SNPs 23201:24000\n",
      "Imputing SNPs 24001:24800\n",
      "Imputing SNPs 24801:25600\n",
      "Imputing SNPs 25601:26400\n",
      "Imputing SNPs 26401:27200\n",
      "Imputing SNPs 27201:28000\n",
      "Imputing SNPs 28001:28800\n",
      "Imputing SNPs 28801:29600\n",
      "Imputing SNPs 29601:30400\n",
      "Imputing SNPs 30401:31200\n",
      "Imputing SNPs 31201:32000\n",
      "Imputing SNPs 32001:32800\n",
      "Imputing SNPs 32801:33600\n",
      "Imputing SNPs 33601:34400\n",
      "Imputing SNPs 34401:35200\n",
      "Imputing SNPs 35201:36498\n",
      "  8.631836 seconds (2.47 M allocations: 104.325 MiB, 1.25% gc time)\n"
     ]
    }
   ],
   "source": [
    "using BenchmarkTools, MendelImpute, NullableArrays\n",
    "\n",
    "srand(123)\n",
    "missingprop = 0.1\n",
    "Xm = NullableArray(X, full(sprand(Bool, size(X, 1), size(X, 2), missingprop)))\n",
    "missing_true = round.(Int, X[Xm.isnull])\n",
    "\n",
    "@time haploimpute!(Xm, H, 800)"
   ]
  },
  {
   "cell_type": "code",
   "execution_count": 26,
   "metadata": {
    "collapsed": false
   },
   "outputs": [
    {
     "data": {
      "text/plain": [
       "0.0069078088435298385"
      ]
     },
     "execution_count": 26,
     "metadata": {},
     "output_type": "execute_result"
    }
   ],
   "source": [
    "missing_impute = round.(Int, Xm.values[Xm.isnull])\n",
    "error = countnz(missing_true .≠ missing_impute) / length(missing_true)"
   ]
  },
  {
   "cell_type": "code",
   "execution_count": 27,
   "metadata": {
    "collapsed": false
   },
   "outputs": [
    {
     "name": "stdout",
     "output_type": "stream",
     "text": [
      "Imputing SNPs 1:400\n",
      "Imputing SNPs 401:800\n",
      "Imputing SNPs 801:1200\n",
      "Imputing SNPs 1201:1600\n",
      "Imputing SNPs 1601:2000\n",
      "Imputing SNPs 2001:2400\n",
      "Imputing SNPs 2401:2800\n",
      "Imputing SNPs 2801:3200\n",
      "Imputing SNPs 3201:3600\n",
      "Imputing SNPs 3601:4000\n",
      "Imputing SNPs 4001:4400\n",
      "Imputing SNPs 4401:4800\n",
      "Imputing SNPs 4801:5200\n",
      "Imputing SNPs 5201:5600\n",
      "Imputing SNPs 5601:6000\n",
      "Imputing SNPs 6001:6400\n",
      "Imputing SNPs 6401:6800\n",
      "Imputing SNPs 6801:7200\n",
      "Imputing SNPs 7201:7600\n",
      "Imputing SNPs 7601:8000\n",
      "Imputing SNPs 8001:8400\n",
      "Imputing SNPs 8401:8800\n",
      "Imputing SNPs 8801:9200\n",
      "Imputing SNPs 9201:9600\n",
      "Imputing SNPs 9601:10000\n",
      "Imputing SNPs 10001:10400\n",
      "Imputing SNPs 10401:10800\n",
      "Imputing SNPs 10801:11200\n",
      "Imputing SNPs 11201:11600\n",
      "Imputing SNPs 11601:12000\n",
      "Imputing SNPs 12001:12400\n",
      "Imputing SNPs 12401:12800\n",
      "Imputing SNPs 12801:13200\n",
      "Imputing SNPs 13201:13600\n",
      "Imputing SNPs 13601:14000\n",
      "Imputing SNPs 14001:14400\n",
      "Imputing SNPs 14401:14800\n",
      "Imputing SNPs 14801:15200\n",
      "Imputing SNPs 15201:15600\n",
      "Imputing SNPs 15601:16000\n",
      "Imputing SNPs 16001:16400\n",
      "Imputing SNPs 16401:16800\n",
      "Imputing SNPs 16801:17200\n",
      "Imputing SNPs 17201:17600\n",
      "Imputing SNPs 17601:18000\n",
      "Imputing SNPs 18001:18400\n",
      "Imputing SNPs 18401:18800\n",
      "Imputing SNPs 18801:19200\n",
      "Imputing SNPs 19201:19600\n",
      "Imputing SNPs 19601:20000\n",
      "Imputing SNPs 20001:20400\n",
      "Imputing SNPs 20401:20800\n",
      "Imputing SNPs 20801:21200\n",
      "Imputing SNPs 21201:21600\n",
      "Imputing SNPs 21601:22000\n",
      "Imputing SNPs 22001:22400\n",
      "Imputing SNPs 22401:22800\n",
      "Imputing SNPs 22801:23200\n",
      "Imputing SNPs 23201:23600\n",
      "Imputing SNPs 23601:24000\n",
      "Imputing SNPs 24001:24400\n",
      "Imputing SNPs 24401:24800\n",
      "Imputing SNPs 24801:25200\n",
      "Imputing SNPs 25201:25600\n",
      "Imputing SNPs 25601:26000\n",
      "Imputing SNPs 26001:26400\n",
      "Imputing SNPs 26401:26800\n",
      "Imputing SNPs 26801:27200\n",
      "Imputing SNPs 27201:27600\n",
      "Imputing SNPs 27601:28000\n",
      "Imputing SNPs 28001:28400\n",
      "Imputing SNPs 28401:28800\n",
      "Imputing SNPs 28801:29200\n",
      "Imputing SNPs 29201:29600\n",
      "Imputing SNPs 29601:30000\n",
      "Imputing SNPs 30001:30400\n",
      "Imputing SNPs 30401:30800\n",
      "Imputing SNPs 30801:31200\n",
      "Imputing SNPs 31201:31600\n",
      "Imputing SNPs 31601:32000\n",
      "Imputing SNPs 32001:32400\n",
      "Imputing SNPs 32401:32800\n",
      "Imputing SNPs 32801:33200\n",
      "Imputing SNPs 33201:33600\n",
      "Imputing SNPs 33601:34000\n",
      "Imputing SNPs 34001:34400\n",
      "Imputing SNPs 34401:34800\n",
      "Imputing SNPs 34801:35200\n",
      "Imputing SNPs 35201:35600\n",
      "Imputing SNPs 35601:36000\n",
      "Imputing SNPs 36001:36498\n",
      " Count File                        Line Function                               \n",
      "  9158 ./<missing>                   -1 anonymous                              \n",
      "    48 ./abstractarray.jl           906 _getindex                              \n",
      "     2 ./abstractarray.jl           984 _setindex!                             \n",
      "     1 ./abstractarray.jl           362 checkbounds                            \n",
      "    51 ./abstractarray.jl           882 getindex                               \n",
      "     2 ./abstractarray.jl           967 setindex!                              \n",
      "     1 ./array.jl                   526 getindex                               \n",
      "     1 ./array.jl                   737 resize!(::Array{UInt8,1}, ::UInt64)    \n",
      "     1 ./associative.jl             420 setindex!(::ObjectIdDict, ::Any, ::Any)\n",
      "     3 ./cartesian.jl                64 macro expansion                        \n",
      "     1 ./coreio.jl                    5 println                                \n",
      "     1 ./dates/conversions.jl        68 now()                                  \n",
      "     1 ./dates/io.jl                166 format(::JSON.Writer.StringContext{... \n",
      "     1 ./dates/io.jl                173 format(::JSON.Writer.StringContext{... \n",
      "     2 ./dates/io.jl                443 format(::JSON.Writer.StringContext{... \n",
      "     2 ./dates/io.jl                447 macro expansion                        \n",
      "     2 ./dates/io.jl                502 show                                   \n",
      "     2 ./dict.jl                    117 Dict{String,Any}(::Tuple{Pair{Strin... \n",
      "     1 ./dict.jl                    474 getindex(::Dict{String,Any}, ::String) \n",
      "     2 ./event.jl                   430 (::Base.##300#301{IJulia.#send_stdo... \n",
      "    20 ./event.jl                   436 (::Base.##300#301{IJulia.#send_stdo... \n",
      "     2 ./event.jl                    27 wait(::Condition)                      \n",
      "     2 ./event.jl                   216 wait()                                 \n",
      "     1 ./event.jl                   241 wait()                                 \n",
      "     2 ./event.jl                   357 wait(::Timer)                          \n",
      "     9 ./io.jl                       81 unsafe_write(::JSON.Writer.CompactC... \n",
      "     4 ./io.jl                      313 write(::JSON.Writer.CompactContext{... \n",
      "     1 ./iobuffer.jl                237 ensureroom                             \n",
      "     1 ./iobuffer.jl                347 write                                  \n",
      "     1 ./iobuffer.jl                355 write                                  \n",
      "     1 ./libc.jl                    158 Base.Libc.TmStruct(::Int64)            \n",
      "     1 ./libuv.jl                    51 preserve_handle                        \n",
      "     2 ./libuv.jl                    82 process_events                         \n",
      "     1 ./libuv.jl                    84 process_events                         \n",
      "    54 ./linalg/blas.jl            1027 gemm!(::Char, ::Char, ::Float32, ::... \n",
      "    28 ./linalg/blas.jl            1207 syrk!(::Char, ::Char, ::Float32, ::... \n",
      "    65 ./linalg/matmul.jl           191 A_mul_Bt!                              \n",
      "     2 ./linalg/matmul.jl           239 copytri!(::Array{Float32,2}, ::Char... \n",
      "    35 ./linalg/matmul.jl           240 copytri!(::Array{Float32,2}, ::Char... \n",
      "    54 ./linalg/matmul.jl           367 gemm_wrapper!(::Array{Float32,2}, :... \n",
      "    65 ./linalg/matmul.jl           293 syrk_wrapper!(::Array{Float32,2}, :... \n",
      "  9159 ./loading.jl                 515 include_string(::String, ::String)     \n",
      "     3 ./multidimensional.jl        438 _getindex                              \n",
      "     3 ./multidimensional.jl        466 _unsafe_getindex!                      \n",
      "     3 ./multidimensional.jl        453 _unsafe_getindex(::IndexLinear, ::N... \n",
      "     7 ./multidimensional.jl        804 copy!(::SubArray{Float32,2,Array{Fl... \n",
      "    42 ./multidimensional.jl        805 copy!(::SubArray{Float32,2,Array{Fl... \n",
      "     3 ./multidimensional.jl        442 macro expansion                        \n",
      "     3 ./multidimensional.jl        460 macro expansion                        \n",
      "     3 ./multidimensional.jl        472 macro expansion                        \n",
      "     3 ./multidimensional.jl        474 macro expansion                        \n",
      "     2 ./pair.jl                     15 indexed_next(::Pair{String,DateTime... \n",
      "  9158 ./profile.jl                  23 macro expansion                        \n",
      "     1 ./random.jl                 1386 repr(::Base.Random.UUID)               \n",
      "     1 ./range.jl                   824 vcat(::StepRange{Int64,Int64}, ::St... \n",
      "    21 ./simdloop.jl                 73 macro expansion                        \n",
      "     2 ./stream.jl                   42 stream_wait(::Timer, ::Condition, :... \n",
      "     3 ./stream.jl                  832 unsafe_write(::Base.PipeEndpoint, :... \n",
      "     1 ./stream.jl                  448 uv_alloc_buf(::Ptr{Void}, ::UInt64,... \n",
      "     1 ./stream.jl                  798 uv_write(::Base.PipeEndpoint, ::Ptr... \n",
      "     1 ./stream.jl                  808 uv_write(::Base.PipeEndpoint, ::Ptr... \n",
      "     1 ./stream.jl                  811 uv_write(::Base.PipeEndpoint, ::Ptr... \n",
      "     7 ./strings/io.jl               66 #sprint#228(::Void, ::Function, ::I... \n",
      "     2 ./strings/io.jl               29 print(::JSON.Writer.StringContext{J... \n",
      "     3 ./strings/io.jl               40 print(::Base.PipeEndpoint, ::String... \n",
      "     3 ./strings/io.jl              122 print                                  \n",
      "     3 ./strings/io.jl              122 print(::Base.PipeEndpoint, ::String)   \n",
      "     1 ./strings/io.jl              122 print                                  \n",
      "     1 ./strings/string.jl          352 string(::Char)                         \n",
      "     3 ./subarray.jl                220 fillgeno!(::SubArray{Float32,2,Arra... \n",
      "    73 ./subarray.jl                201 getindex                               \n",
      "     7 ./subarray.jl                220 setindex!                              \n",
      "  9159 ./task.jl                    335 (::IJulia.##11#14)()                   \n",
      "  9159 ...IJulia/src/eventloop.jl     8 eventloop(::ZMQ.Socket)                \n",
      "  9159 .../src/execute_request.jl   160 execute_request(::ZMQ.Socket, ::IJu... \n",
      "     1 ...v0.6/IJulia/src/hmac.jl     8 hmac(::String, ::String, ::String, ... \n",
      "     1 ...v0.6/IJulia/src/hmac.jl    10 hmac(::String, ::String, ::String, ... \n",
      "     7 .../v0.6/IJulia/src/msg.jl    18 msg_header(::IJulia.Msg, ::String)     \n",
      "    14 .../v0.6/IJulia/src/msg.jl    30 msg_pub(::IJulia.Msg, ::String, ::D... \n",
      "     1 .../v0.6/IJulia/src/msg.jl    48 send_ipython(::ZMQ.Socket, ::IJulia... \n",
      "     7 .../v0.6/IJulia/src/msg.jl    51 send_ipython(::ZMQ.Socket, ::IJulia... \n",
      "     2 .../v0.6/IJulia/src/msg.jl    52 send_ipython(::ZMQ.Socket, ::IJulia... \n",
      "     2 .../v0.6/IJulia/src/msg.jl    55 send_ipython(::ZMQ.Socket, ::IJulia... \n",
      "    20 ...0.6/IJulia/src/stdio.jl    88 send_stdio(::String)                   \n",
      "     1 ...0.6/IJulia/src/stdio.jl   113 send_stream(::String)                  \n",
      "    19 ...0.6/IJulia/src/stdio.jl   130 send_stream(::String)                  \n",
      "     7 ...v0.6/JSON/src/Writer.jl   329 #show_json#3(::Void, ::Function, ::... \n",
      "     7 ...v0.6/JSON/src/Writer.jl   337 print(::Base.AbstractIOBuffer{Array... \n",
      "     3 ...v0.6/JSON/src/Writer.jl   246 show_json(::JSON.Writer.CompactCont... \n",
      "     7 ...v0.6/JSON/src/Writer.jl   280 show_json(::JSON.Writer.CompactCont... \n",
      "     3 ...v0.6/JSON/src/Writer.jl   224 show_key(::JSON.Writer.CompactConte... \n",
      "     3 ...v0.6/JSON/src/Writer.jl   235 show_pair                              \n",
      "     3 ...v0.6/JSON/src/Writer.jl   238 show_pair                              \n",
      "     6 ...v0.6/JSON/src/Writer.jl   193 show_string                            \n",
      "     2 ...v0.6/JSON/src/Writer.jl   117 write(::JSON.Writer.CompactContext{... \n",
      "     1 ....6/MbedTLS/src/error.jl     3 macro expansion                        \n",
      "     1 .../v0.6/MbedTLS/src/md.jl   165 reset!(::MbedTLS.MD{true})             \n",
      "     6 ...pute/src/haplotyping.jl   173 fillgeno!(::SubArray{Float32,2,Arra... \n",
      "    28 ...pute/src/haplotyping.jl   174 fillgeno!(::SubArray{Float32,2,Arra... \n",
      "    27 ...pute/src/haplotyping.jl   145 fillmissing!(::NullableArrays.Nulla... \n",
      "    29 ...pute/src/haplotyping.jl   146 fillmissing!(::NullableArrays.Nulla... \n",
      "    59 ...pute/src/haplotyping.jl   147 fillmissing!(::NullableArrays.Nulla... \n",
      "    17 ...pute/src/haplotyping.jl   148 fillmissing!(::NullableArrays.Nulla... \n",
      "     1 ...pute/src/haplotyping.jl   149 fillmissing!(::NullableArrays.Nulla... \n",
      "   271 ...pute/src/haplotyping.jl   238 haploimpute!(::NullableArrays.Nulla... \n",
      "  8661 ...pute/src/haplotyping.jl   241 haploimpute!(::NullableArrays.Nulla... \n",
      "   133 ...pute/src/haplotyping.jl   243 haploimpute!(::NullableArrays.Nulla... \n",
      "  9158 ...pute/src/haplotyping.jl   279 haploimpute!(::NullableArrays.Nulla... \n",
      "     2 ...pute/src/haplotyping.jl   294 haploimpute!(::NullableArrays.Nulla... \n",
      "    93 ...pute/src/haplotyping.jl   306 haploimpute!(::NullableArrays.Nulla... \n",
      "     4 ...pute/src/haplotyping.jl   314 haploimpute!(::NullableArrays.Nulla... \n",
      "    36 ...pute/src/haplotyping.jl   319 haploimpute!(::NullableArrays.Nulla... \n",
      "    14 ...pute/src/haplotyping.jl   320 haploimpute!(::NullableArrays.Nulla... \n",
      "    25 ...pute/src/haplotyping.jl   324 haploimpute!(::NullableArrays.Nulla... \n",
      "    10 ...pute/src/haplotyping.jl   325 haploimpute!(::NullableArrays.Nulla... \n",
      "  8877 ...pute/src/haplotyping.jl   328 haploimpute!(::NullableArrays.Nulla... \n",
      "     1 ...pute/src/haplotyping.jl   335 haploimpute!(::NullableArrays.Nulla... \n",
      "     1 ...pute/src/haplotyping.jl   339 haploimpute!(::NullableArrays.Nulla... \n",
      "    95 ...pute/src/haplotyping.jl   347 haploimpute!(::NullableArrays.Nulla... \n",
      "    15 ...pute/src/haplotyping.jl    29 haplopair!(::Tuple{Array{Int64,1},A... \n",
      "  1728 ...pute/src/haplotyping.jl    30 haplopair!(::Tuple{Array{Int64,1},A... \n",
      "  1373 ...pute/src/haplotyping.jl    32 haplopair!(::Tuple{Array{Int64,1},A... \n",
      "  1788 ...pute/src/haplotyping.jl    33 haplopair!(::Tuple{Array{Int64,1},A... \n",
      "  1813 ...pute/src/haplotyping.jl    34 haplopair!(::Tuple{Array{Int64,1},A... \n",
      "     4 ...pute/src/haplotyping.jl    35 haplopair!(::Tuple{Array{Int64,1},A... \n",
      "     2 ...pute/src/haplotyping.jl    36 haplopair!(::Tuple{Array{Int64,1},A... \n",
      "  1703 ...pute/src/haplotyping.jl    37 haplopair!(::Tuple{Array{Int64,1},A... \n",
      "    65 ...pute/src/haplotyping.jl   102 haplopair!(::Array{Float32,2}, ::Su... \n",
      "    74 ...pute/src/haplotyping.jl   104 haplopair!(::Array{Float32,2}, ::Su... \n",
      "     1 ...pute/src/haplotyping.jl   107 haplopair!(::Array{Float32,2}, ::Su... \n",
      "    54 ...pute/src/haplotyping.jl   109 haplopair!(::Array{Float32,2}, ::Su... \n",
      "     9 ...pute/src/haplotyping.jl   110 haplopair!(::Array{Float32,2}, ::Su... \n",
      "    11 ...pute/src/haplotyping.jl   111 haplopair!(::Array{Float32,2}, ::Su... \n",
      "  8426 ...pute/src/haplotyping.jl   113 haplopair!(::Array{Float32,2}, ::Su... \n",
      "    21 ...pute/src/haplotyping.jl   115 haplopair!(::Array{Float32,2}, ::Su... \n",
      "    47 ...pute/src/haplotyping.jl   191 initmissing!(::NullableArrays.Nulla... \n",
      "    60 ...pute/src/haplotyping.jl   192 initmissing!(::NullableArrays.Nulla... \n",
      "    13 ...pute/src/haplotyping.jl   193 initmissing!(::NullableArrays.Nulla... \n",
      "    81 ...pute/src/haplotyping.jl   194 initmissing!(::NullableArrays.Nulla... \n",
      "    19 ...pute/src/haplotyping.jl   199 initmissing!(::NullableArrays.Nulla... \n",
      "    14 ...pute/src/haplotyping.jl   200 initmissing!(::NullableArrays.Nulla... \n",
      "    37 ...pute/src/haplotyping.jl   201 initmissing!(::NullableArrays.Nulla... \n",
      "    21 ...pute/src/haplotyping.jl   116 macro expansion                        \n",
      "     1 ...eArrays/src/indexing.jl    22 getindex                               \n",
      "     2 ...eArrays/src/indexing.jl    57 setindex!                              \n",
      "     1 ...lia/v0.6/ZMQ/src/ZMQ.jl   493 send(::ZMQ.Socket, ::ZMQ.Message, :... \n"
     ]
    }
   ],
   "source": [
    "Profile.clear()\n",
    "@profile haploimpute!(Xm, H, 400)\n",
    "Profile.print(format=:flat)"
   ]
  },
  {
   "cell_type": "markdown",
   "metadata": {},
   "source": [
    "Effect of window size on accuracy and efficiency"
   ]
  },
  {
   "cell_type": "code",
   "execution_count": 28,
   "metadata": {
    "collapsed": false
   },
   "outputs": [
    {
     "name": "stdout",
     "output_type": "stream",
     "text": [
      "width = 100, time = 45.67825418, error rate = 0.008510803299875053\n",
      "width = 200, time = 22.400324013, error rate = 0.004886121805303412\n",
      "width = 300, time = 15.083785878, error rate = 0.004359765416652744\n",
      "width = 400, time = 11.963894426, error rate = 0.004465366698388301\n",
      "width = 500, time = 9.600222612, error rate = 0.004874571665113585\n",
      "width = 600, time = 8.122951738, error rate = 0.00557541767163199\n",
      "width = 700, time = 7.188097543, error rate = 0.0061009490502690975\n",
      "width = 800, time = 6.453106615, error rate = 0.0069078088435298385\n",
      "width = 900, time = 5.949815007, error rate = 0.007566991844363511\n",
      "width = 1000, time = 5.397322931, error rate = 0.008076848032742997\n",
      "width = 1100, time = 4.969931858, error rate = 0.00872860594345464\n",
      "width = 1200, time = 4.633255464, error rate = 0.009398926579471358\n"
     ]
    }
   ],
   "source": [
    "width_range = 100:100:1200\n",
    "timing = zeros(length(width_range))\n",
    "errate = zeros(length(width_range))\n",
    "for i in eachindex(width_range)\n",
    "    tic()\n",
    "    copy!(Xm.values, rawdata[1:people, 1:(end - 1)])\n",
    "    haploimpute!(Xm, H, width_range[i], 1, 1e-3, false)\n",
    "    timing[i] = toq()\n",
    "    missing_impute = round.(Int, Xm.values[Xm.isnull])\n",
    "    errate[i] = countnz(missing_true .≠ missing_impute) / length(missing_true)\n",
    "    println(\"width = $(width_range[i]), time = $(timing[i]), error rate = $(errate[i])\")\n",
    "end"
   ]
  },
  {
   "cell_type": "code",
   "execution_count": 29,
   "metadata": {
    "collapsed": false
   },
   "outputs": [
    {
     "data": {
      "text/html": [
       "<?xml version=\"1.0\" encoding=\"utf-8\"?>\n",
       "<svg xmlns=\"http://www.w3.org/2000/svg\" xmlns:xlink=\"http://www.w3.org/1999/xlink\" width=\"600\" height=\"400\" viewBox=\"0 0 600 400\">\n",
       "<defs>\n",
       "  <clipPath id=\"clip00\">\n",
       "    <rect x=\"0\" y=\"0\" width=\"600\" height=\"400\"/>\n",
       "  </clipPath>\n",
       "</defs>\n",
       "<polygon clip-path=\"url(#clip00)\" points=\"\n",
       "0,400 600,400 600,0 0,0 \n",
       "  \" fill=\"#ffffff\" fill-opacity=\"1\"/>\n",
       "<defs>\n",
       "  <clipPath id=\"clip01\">\n",
       "    <rect x=\"120\" y=\"0\" width=\"421\" height=\"400\"/>\n",
       "  </clipPath>\n",
       "</defs>\n",
       "<polygon clip-path=\"url(#clip00)\" points=\"\n",
       "39.3701,368.504 592.126,368.504 592.126,7.87402 39.3701,7.87402 \n",
       "  \" fill=\"#ffffff\" fill-opacity=\"1\"/>\n",
       "<defs>\n",
       "  <clipPath id=\"clip02\">\n",
       "    <rect x=\"39\" y=\"7\" width=\"554\" height=\"362\"/>\n",
       "  </clipPath>\n",
       "</defs>\n",
       "<polyline clip-path=\"url(#clip02)\" style=\"stroke:#000000; stroke-width:1; stroke-opacity:0.5; fill:none\" stroke-dasharray=\"1, 2\" points=\"\n",
       "  89.6206,363.094 89.6206,13.2835 \n",
       "  \"/>\n",
       "<polyline clip-path=\"url(#clip02)\" style=\"stroke:#000000; stroke-width:1; stroke-opacity:0.5; fill:none\" stroke-dasharray=\"1, 2\" points=\"\n",
       "  190.122,363.094 190.122,13.2835 \n",
       "  \"/>\n",
       "<polyline clip-path=\"url(#clip02)\" style=\"stroke:#000000; stroke-width:1; stroke-opacity:0.5; fill:none\" stroke-dasharray=\"1, 2\" points=\"\n",
       "  290.623,363.094 290.623,13.2835 \n",
       "  \"/>\n",
       "<polyline clip-path=\"url(#clip02)\" style=\"stroke:#000000; stroke-width:1; stroke-opacity:0.5; fill:none\" stroke-dasharray=\"1, 2\" points=\"\n",
       "  391.124,363.094 391.124,13.2835 \n",
       "  \"/>\n",
       "<polyline clip-path=\"url(#clip02)\" style=\"stroke:#000000; stroke-width:1; stroke-opacity:0.5; fill:none\" stroke-dasharray=\"1, 2\" points=\"\n",
       "  491.625,363.094 491.625,13.2835 \n",
       "  \"/>\n",
       "<polyline clip-path=\"url(#clip02)\" style=\"stroke:#000000; stroke-width:1; stroke-opacity:0.5; fill:none\" stroke-dasharray=\"1, 2\" points=\"\n",
       "  592.126,363.094 592.126,13.2835 \n",
       "  \"/>\n",
       "<polyline clip-path=\"url(#clip02)\" style=\"stroke:#000000; stroke-width:1; stroke-opacity:0.5; fill:none\" stroke-dasharray=\"1, 2\" points=\"\n",
       "  47.6614,321.351 583.835,321.351 \n",
       "  \"/>\n",
       "<polyline clip-path=\"url(#clip02)\" style=\"stroke:#000000; stroke-width:1; stroke-opacity:0.5; fill:none\" stroke-dasharray=\"1, 2\" points=\"\n",
       "  47.6614,233.489 583.835,233.489 \n",
       "  \"/>\n",
       "<polyline clip-path=\"url(#clip02)\" style=\"stroke:#000000; stroke-width:1; stroke-opacity:0.5; fill:none\" stroke-dasharray=\"1, 2\" points=\"\n",
       "  47.6614,145.626 583.835,145.626 \n",
       "  \"/>\n",
       "<polyline clip-path=\"url(#clip02)\" style=\"stroke:#000000; stroke-width:1; stroke-opacity:0.5; fill:none\" stroke-dasharray=\"1, 2\" points=\"\n",
       "  47.6614,57.7643 583.835,57.7643 \n",
       "  \"/>\n",
       "<polyline clip-path=\"url(#clip00)\" style=\"stroke:#000000; stroke-width:1; stroke-opacity:1; fill:none\" points=\"\n",
       "  39.3701,368.504 592.126,368.504 \n",
       "  \"/>\n",
       "<polyline clip-path=\"url(#clip00)\" style=\"stroke:#000000; stroke-width:1; stroke-opacity:1; fill:none\" points=\"\n",
       "  89.6206,368.504 89.6206,363.094 \n",
       "  \"/>\n",
       "<polyline clip-path=\"url(#clip00)\" style=\"stroke:#000000; stroke-width:1; stroke-opacity:1; fill:none\" points=\"\n",
       "  190.122,368.504 190.122,363.094 \n",
       "  \"/>\n",
       "<polyline clip-path=\"url(#clip00)\" style=\"stroke:#000000; stroke-width:1; stroke-opacity:1; fill:none\" points=\"\n",
       "  290.623,368.504 290.623,363.094 \n",
       "  \"/>\n",
       "<polyline clip-path=\"url(#clip00)\" style=\"stroke:#000000; stroke-width:1; stroke-opacity:1; fill:none\" points=\"\n",
       "  391.124,368.504 391.124,363.094 \n",
       "  \"/>\n",
       "<polyline clip-path=\"url(#clip00)\" style=\"stroke:#000000; stroke-width:1; stroke-opacity:1; fill:none\" points=\"\n",
       "  491.625,368.504 491.625,363.094 \n",
       "  \"/>\n",
       "<polyline clip-path=\"url(#clip00)\" style=\"stroke:#000000; stroke-width:1; stroke-opacity:1; fill:none\" points=\"\n",
       "  592.126,368.504 592.126,363.094 \n",
       "  \"/>\n",
       "<polyline clip-path=\"url(#clip00)\" style=\"stroke:#000000; stroke-width:1; stroke-opacity:1; fill:none\" points=\"\n",
       "  39.3701,368.504 39.3701,7.87402 \n",
       "  \"/>\n",
       "<polyline clip-path=\"url(#clip00)\" style=\"stroke:#000000; stroke-width:1; stroke-opacity:1; fill:none\" points=\"\n",
       "  39.3701,321.351 47.6614,321.351 \n",
       "  \"/>\n",
       "<polyline clip-path=\"url(#clip00)\" style=\"stroke:#000000; stroke-width:1; stroke-opacity:1; fill:none\" points=\"\n",
       "  39.3701,233.489 47.6614,233.489 \n",
       "  \"/>\n",
       "<polyline clip-path=\"url(#clip00)\" style=\"stroke:#000000; stroke-width:1; stroke-opacity:1; fill:none\" points=\"\n",
       "  39.3701,145.626 47.6614,145.626 \n",
       "  \"/>\n",
       "<polyline clip-path=\"url(#clip00)\" style=\"stroke:#000000; stroke-width:1; stroke-opacity:1; fill:none\" points=\"\n",
       "  39.3701,57.7643 47.6614,57.7643 \n",
       "  \"/>\n",
       "<g clip-path=\"url(#clip00)\">\n",
       "<text style=\"fill:#000000; fill-opacity:1; font-family:Arial,Helvetica Neue,Helvetica,sans-serif; font-size:12; text-anchor:middle;\" transform=\"rotate(0, 89.6206, 382.304)\" x=\"89.6206\" y=\"382.304\">200</text>\n",
       "</g>\n",
       "<g clip-path=\"url(#clip00)\">\n",
       "<text style=\"fill:#000000; fill-opacity:1; font-family:Arial,Helvetica Neue,Helvetica,sans-serif; font-size:12; text-anchor:middle;\" transform=\"rotate(0, 190.122, 382.304)\" x=\"190.122\" y=\"382.304\">400</text>\n",
       "</g>\n",
       "<g clip-path=\"url(#clip00)\">\n",
       "<text style=\"fill:#000000; fill-opacity:1; font-family:Arial,Helvetica Neue,Helvetica,sans-serif; font-size:12; text-anchor:middle;\" transform=\"rotate(0, 290.623, 382.304)\" x=\"290.623\" y=\"382.304\">600</text>\n",
       "</g>\n",
       "<g clip-path=\"url(#clip00)\">\n",
       "<text style=\"fill:#000000; fill-opacity:1; font-family:Arial,Helvetica Neue,Helvetica,sans-serif; font-size:12; text-anchor:middle;\" transform=\"rotate(0, 391.124, 382.304)\" x=\"391.124\" y=\"382.304\">800</text>\n",
       "</g>\n",
       "<g clip-path=\"url(#clip00)\">\n",
       "<text style=\"fill:#000000; fill-opacity:1; font-family:Arial,Helvetica Neue,Helvetica,sans-serif; font-size:12; text-anchor:middle;\" transform=\"rotate(0, 491.625, 382.304)\" x=\"491.625\" y=\"382.304\">1000</text>\n",
       "</g>\n",
       "<g clip-path=\"url(#clip00)\">\n",
       "<text style=\"fill:#000000; fill-opacity:1; font-family:Arial,Helvetica Neue,Helvetica,sans-serif; font-size:12; text-anchor:middle;\" transform=\"rotate(0, 592.126, 382.304)\" x=\"592.126\" y=\"382.304\">1200</text>\n",
       "</g>\n",
       "<g clip-path=\"url(#clip00)\">\n",
       "<text style=\"fill:#000000; fill-opacity:1; font-family:Arial,Helvetica Neue,Helvetica,sans-serif; font-size:12; text-anchor:end;\" transform=\"rotate(0, 33.3701, 325.851)\" x=\"33.3701\" y=\"325.851\">10</text>\n",
       "</g>\n",
       "<g clip-path=\"url(#clip00)\">\n",
       "<text style=\"fill:#000000; fill-opacity:1; font-family:Arial,Helvetica Neue,Helvetica,sans-serif; font-size:12; text-anchor:end;\" transform=\"rotate(0, 33.3701, 237.989)\" x=\"33.3701\" y=\"237.989\">20</text>\n",
       "</g>\n",
       "<g clip-path=\"url(#clip00)\">\n",
       "<text style=\"fill:#000000; fill-opacity:1; font-family:Arial,Helvetica Neue,Helvetica,sans-serif; font-size:12; text-anchor:end;\" transform=\"rotate(0, 33.3701, 150.126)\" x=\"33.3701\" y=\"150.126\">30</text>\n",
       "</g>\n",
       "<g clip-path=\"url(#clip00)\">\n",
       "<text style=\"fill:#000000; fill-opacity:1; font-family:Arial,Helvetica Neue,Helvetica,sans-serif; font-size:12; text-anchor:end;\" transform=\"rotate(0, 33.3701, 62.2643)\" x=\"33.3701\" y=\"62.2643\">40</text>\n",
       "</g>\n",
       "<g clip-path=\"url(#clip00)\">\n",
       "<text style=\"fill:#000000; fill-opacity:1; font-family:Arial,Helvetica Neue,Helvetica,sans-serif; font-size:16; text-anchor:middle;\" transform=\"rotate(0, 315.748, 397.6)\" x=\"315.748\" y=\"397.6\">Window width</text>\n",
       "</g>\n",
       "<g clip-path=\"url(#clip00)\">\n",
       "<text style=\"fill:#000000; fill-opacity:1; font-family:Arial,Helvetica Neue,Helvetica,sans-serif; font-size:16; text-anchor:middle;\" transform=\"rotate(-90, 14.4, 188.189)\" x=\"14.4\" y=\"188.189\">Run time in seconds</text>\n",
       "</g>\n",
       "<polyline clip-path=\"url(#clip02)\" style=\"stroke:#009af9; stroke-width:1; stroke-opacity:1; fill:none\" points=\"\n",
       "  39.3701,7.87402 89.6206,212.399 139.871,276.683 190.122,304.095 240.372,324.863 290.623,337.843 340.873,346.057 391.124,352.514 441.374,356.936 491.625,361.791 \n",
       "  541.875,365.546 592.126,368.504 \n",
       "  \"/>\n",
       "<polygon clip-path=\"url(#clip00)\" points=\"\n",
       "501.61,58.994 574.126,58.994 574.126,28.754 501.61,28.754 \n",
       "  \" fill=\"#ffffff\" fill-opacity=\"1\"/>\n",
       "<polyline clip-path=\"url(#clip00)\" style=\"stroke:#000000; stroke-width:1; stroke-opacity:1; fill:none\" points=\"\n",
       "  501.61,58.994 574.126,58.994 574.126,28.754 501.61,28.754 501.61,58.994 \n",
       "  \"/>\n",
       "<polyline clip-path=\"url(#clip00)\" style=\"stroke:#009af9; stroke-width:1; stroke-opacity:1; fill:none\" points=\"\n",
       "  507.61,43.874 543.61,43.874 \n",
       "  \"/>\n",
       "<g clip-path=\"url(#clip00)\">\n",
       "<text style=\"fill:#000000; fill-opacity:1; font-family:Arial,Helvetica Neue,Helvetica,sans-serif; font-size:12; text-anchor:start;\" transform=\"rotate(0, 549.61, 48.374)\" x=\"549.61\" y=\"48.374\">y1</text>\n",
       "</g>\n",
       "</svg>\n"
      ]
     },
     "execution_count": 29,
     "metadata": {},
     "output_type": "execute_result"
    }
   ],
   "source": [
    "using Plots\n",
    "gr()\n",
    "\n",
    "plot(width_range, timing; xlabel = \"Window width\", ylabel = \"Run time in seconds\")"
   ]
  },
  {
   "cell_type": "code",
   "execution_count": 30,
   "metadata": {
    "collapsed": false
   },
   "outputs": [
    {
     "data": {
      "text/html": [
       "<?xml version=\"1.0\" encoding=\"utf-8\"?>\n",
       "<svg xmlns=\"http://www.w3.org/2000/svg\" xmlns:xlink=\"http://www.w3.org/1999/xlink\" width=\"600\" height=\"400\" viewBox=\"0 0 600 400\">\n",
       "<defs>\n",
       "  <clipPath id=\"clip00\">\n",
       "    <rect x=\"0\" y=\"0\" width=\"600\" height=\"400\"/>\n",
       "  </clipPath>\n",
       "</defs>\n",
       "<polygon clip-path=\"url(#clip00)\" points=\"\n",
       "0,400 600,400 600,0 0,0 \n",
       "  \" fill=\"#ffffff\" fill-opacity=\"1\"/>\n",
       "<defs>\n",
       "  <clipPath id=\"clip01\">\n",
       "    <rect x=\"120\" y=\"0\" width=\"421\" height=\"400\"/>\n",
       "  </clipPath>\n",
       "</defs>\n",
       "<polygon clip-path=\"url(#clip00)\" points=\"\n",
       "39.3701,368.504 592.126,368.504 592.126,7.87402 39.3701,7.87402 \n",
       "  \" fill=\"#ffffff\" fill-opacity=\"1\"/>\n",
       "<defs>\n",
       "  <clipPath id=\"clip02\">\n",
       "    <rect x=\"39\" y=\"7\" width=\"554\" height=\"362\"/>\n",
       "  </clipPath>\n",
       "</defs>\n",
       "<polyline clip-path=\"url(#clip02)\" style=\"stroke:#000000; stroke-width:1; stroke-opacity:0.5; fill:none\" stroke-dasharray=\"1, 2\" points=\"\n",
       "  89.6206,363.094 89.6206,13.2835 \n",
       "  \"/>\n",
       "<polyline clip-path=\"url(#clip02)\" style=\"stroke:#000000; stroke-width:1; stroke-opacity:0.5; fill:none\" stroke-dasharray=\"1, 2\" points=\"\n",
       "  190.122,363.094 190.122,13.2835 \n",
       "  \"/>\n",
       "<polyline clip-path=\"url(#clip02)\" style=\"stroke:#000000; stroke-width:1; stroke-opacity:0.5; fill:none\" stroke-dasharray=\"1, 2\" points=\"\n",
       "  290.623,363.094 290.623,13.2835 \n",
       "  \"/>\n",
       "<polyline clip-path=\"url(#clip02)\" style=\"stroke:#000000; stroke-width:1; stroke-opacity:0.5; fill:none\" stroke-dasharray=\"1, 2\" points=\"\n",
       "  391.124,363.094 391.124,13.2835 \n",
       "  \"/>\n",
       "<polyline clip-path=\"url(#clip02)\" style=\"stroke:#000000; stroke-width:1; stroke-opacity:0.5; fill:none\" stroke-dasharray=\"1, 2\" points=\"\n",
       "  491.625,363.094 491.625,13.2835 \n",
       "  \"/>\n",
       "<polyline clip-path=\"url(#clip02)\" style=\"stroke:#000000; stroke-width:1; stroke-opacity:0.5; fill:none\" stroke-dasharray=\"1, 2\" points=\"\n",
       "  592.126,363.094 592.126,13.2835 \n",
       "  \"/>\n",
       "<polyline clip-path=\"url(#clip02)\" style=\"stroke:#000000; stroke-width:1; stroke-opacity:0.5; fill:none\" stroke-dasharray=\"1, 2\" points=\"\n",
       "  47.6614,322.685 583.835,322.685 \n",
       "  \"/>\n",
       "<polyline clip-path=\"url(#clip02)\" style=\"stroke:#000000; stroke-width:1; stroke-opacity:0.5; fill:none\" stroke-dasharray=\"1, 2\" points=\"\n",
       "  47.6614,251.12 583.835,251.12 \n",
       "  \"/>\n",
       "<polyline clip-path=\"url(#clip02)\" style=\"stroke:#000000; stroke-width:1; stroke-opacity:0.5; fill:none\" stroke-dasharray=\"1, 2\" points=\"\n",
       "  47.6614,179.554 583.835,179.554 \n",
       "  \"/>\n",
       "<polyline clip-path=\"url(#clip02)\" style=\"stroke:#000000; stroke-width:1; stroke-opacity:0.5; fill:none\" stroke-dasharray=\"1, 2\" points=\"\n",
       "  47.6614,107.989 583.835,107.989 \n",
       "  \"/>\n",
       "<polyline clip-path=\"url(#clip02)\" style=\"stroke:#000000; stroke-width:1; stroke-opacity:0.5; fill:none\" stroke-dasharray=\"1, 2\" points=\"\n",
       "  47.6614,36.4234 583.835,36.4234 \n",
       "  \"/>\n",
       "<polyline clip-path=\"url(#clip00)\" style=\"stroke:#000000; stroke-width:1; stroke-opacity:1; fill:none\" points=\"\n",
       "  39.3701,368.504 592.126,368.504 \n",
       "  \"/>\n",
       "<polyline clip-path=\"url(#clip00)\" style=\"stroke:#000000; stroke-width:1; stroke-opacity:1; fill:none\" points=\"\n",
       "  89.6206,368.504 89.6206,363.094 \n",
       "  \"/>\n",
       "<polyline clip-path=\"url(#clip00)\" style=\"stroke:#000000; stroke-width:1; stroke-opacity:1; fill:none\" points=\"\n",
       "  190.122,368.504 190.122,363.094 \n",
       "  \"/>\n",
       "<polyline clip-path=\"url(#clip00)\" style=\"stroke:#000000; stroke-width:1; stroke-opacity:1; fill:none\" points=\"\n",
       "  290.623,368.504 290.623,363.094 \n",
       "  \"/>\n",
       "<polyline clip-path=\"url(#clip00)\" style=\"stroke:#000000; stroke-width:1; stroke-opacity:1; fill:none\" points=\"\n",
       "  391.124,368.504 391.124,363.094 \n",
       "  \"/>\n",
       "<polyline clip-path=\"url(#clip00)\" style=\"stroke:#000000; stroke-width:1; stroke-opacity:1; fill:none\" points=\"\n",
       "  491.625,368.504 491.625,363.094 \n",
       "  \"/>\n",
       "<polyline clip-path=\"url(#clip00)\" style=\"stroke:#000000; stroke-width:1; stroke-opacity:1; fill:none\" points=\"\n",
       "  592.126,368.504 592.126,363.094 \n",
       "  \"/>\n",
       "<polyline clip-path=\"url(#clip00)\" style=\"stroke:#000000; stroke-width:1; stroke-opacity:1; fill:none\" points=\"\n",
       "  39.3701,368.504 39.3701,7.87402 \n",
       "  \"/>\n",
       "<polyline clip-path=\"url(#clip00)\" style=\"stroke:#000000; stroke-width:1; stroke-opacity:1; fill:none\" points=\"\n",
       "  39.3701,322.685 47.6614,322.685 \n",
       "  \"/>\n",
       "<polyline clip-path=\"url(#clip00)\" style=\"stroke:#000000; stroke-width:1; stroke-opacity:1; fill:none\" points=\"\n",
       "  39.3701,251.12 47.6614,251.12 \n",
       "  \"/>\n",
       "<polyline clip-path=\"url(#clip00)\" style=\"stroke:#000000; stroke-width:1; stroke-opacity:1; fill:none\" points=\"\n",
       "  39.3701,179.554 47.6614,179.554 \n",
       "  \"/>\n",
       "<polyline clip-path=\"url(#clip00)\" style=\"stroke:#000000; stroke-width:1; stroke-opacity:1; fill:none\" points=\"\n",
       "  39.3701,107.989 47.6614,107.989 \n",
       "  \"/>\n",
       "<polyline clip-path=\"url(#clip00)\" style=\"stroke:#000000; stroke-width:1; stroke-opacity:1; fill:none\" points=\"\n",
       "  39.3701,36.4234 47.6614,36.4234 \n",
       "  \"/>\n",
       "<g clip-path=\"url(#clip00)\">\n",
       "<text style=\"fill:#000000; fill-opacity:1; font-family:Arial,Helvetica Neue,Helvetica,sans-serif; font-size:12; text-anchor:middle;\" transform=\"rotate(0, 89.6206, 382.304)\" x=\"89.6206\" y=\"382.304\">200</text>\n",
       "</g>\n",
       "<g clip-path=\"url(#clip00)\">\n",
       "<text style=\"fill:#000000; fill-opacity:1; font-family:Arial,Helvetica Neue,Helvetica,sans-serif; font-size:12; text-anchor:middle;\" transform=\"rotate(0, 190.122, 382.304)\" x=\"190.122\" y=\"382.304\">400</text>\n",
       "</g>\n",
       "<g clip-path=\"url(#clip00)\">\n",
       "<text style=\"fill:#000000; fill-opacity:1; font-family:Arial,Helvetica Neue,Helvetica,sans-serif; font-size:12; text-anchor:middle;\" transform=\"rotate(0, 290.623, 382.304)\" x=\"290.623\" y=\"382.304\">600</text>\n",
       "</g>\n",
       "<g clip-path=\"url(#clip00)\">\n",
       "<text style=\"fill:#000000; fill-opacity:1; font-family:Arial,Helvetica Neue,Helvetica,sans-serif; font-size:12; text-anchor:middle;\" transform=\"rotate(0, 391.124, 382.304)\" x=\"391.124\" y=\"382.304\">800</text>\n",
       "</g>\n",
       "<g clip-path=\"url(#clip00)\">\n",
       "<text style=\"fill:#000000; fill-opacity:1; font-family:Arial,Helvetica Neue,Helvetica,sans-serif; font-size:12; text-anchor:middle;\" transform=\"rotate(0, 491.625, 382.304)\" x=\"491.625\" y=\"382.304\">1000</text>\n",
       "</g>\n",
       "<g clip-path=\"url(#clip00)\">\n",
       "<text style=\"fill:#000000; fill-opacity:1; font-family:Arial,Helvetica Neue,Helvetica,sans-serif; font-size:12; text-anchor:middle;\" transform=\"rotate(0, 592.126, 382.304)\" x=\"592.126\" y=\"382.304\">1200</text>\n",
       "</g>\n",
       "<g clip-path=\"url(#clip00)\">\n",
       "<text style=\"fill:#000000; fill-opacity:1; font-family:Arial,Helvetica Neue,Helvetica,sans-serif; font-size:12; text-anchor:end;\" transform=\"rotate(0, 33.3701, 327.185)\" x=\"33.3701\" y=\"327.185\">0.005</text>\n",
       "</g>\n",
       "<g clip-path=\"url(#clip00)\">\n",
       "<text style=\"fill:#000000; fill-opacity:1; font-family:Arial,Helvetica Neue,Helvetica,sans-serif; font-size:12; text-anchor:end;\" transform=\"rotate(0, 33.3701, 255.62)\" x=\"33.3701\" y=\"255.62\">0.006</text>\n",
       "</g>\n",
       "<g clip-path=\"url(#clip00)\">\n",
       "<text style=\"fill:#000000; fill-opacity:1; font-family:Arial,Helvetica Neue,Helvetica,sans-serif; font-size:12; text-anchor:end;\" transform=\"rotate(0, 33.3701, 184.054)\" x=\"33.3701\" y=\"184.054\">0.007</text>\n",
       "</g>\n",
       "<g clip-path=\"url(#clip00)\">\n",
       "<text style=\"fill:#000000; fill-opacity:1; font-family:Arial,Helvetica Neue,Helvetica,sans-serif; font-size:12; text-anchor:end;\" transform=\"rotate(0, 33.3701, 112.489)\" x=\"33.3701\" y=\"112.489\">0.008</text>\n",
       "</g>\n",
       "<g clip-path=\"url(#clip00)\">\n",
       "<text style=\"fill:#000000; fill-opacity:1; font-family:Arial,Helvetica Neue,Helvetica,sans-serif; font-size:12; text-anchor:end;\" transform=\"rotate(0, 33.3701, 40.9234)\" x=\"33.3701\" y=\"40.9234\">0.009</text>\n",
       "</g>\n",
       "<g clip-path=\"url(#clip00)\">\n",
       "<text style=\"fill:#000000; fill-opacity:1; font-family:Arial,Helvetica Neue,Helvetica,sans-serif; font-size:16; text-anchor:middle;\" transform=\"rotate(0, 315.748, 397.6)\" x=\"315.748\" y=\"397.6\">Window width</text>\n",
       "</g>\n",
       "<g clip-path=\"url(#clip00)\">\n",
       "<text style=\"fill:#000000; fill-opacity:1; font-family:Arial,Helvetica Neue,Helvetica,sans-serif; font-size:16; text-anchor:middle;\" transform=\"rotate(-90, 14.4, 188.189)\" x=\"14.4\" y=\"188.189\">Error rate</text>\n",
       "</g>\n",
       "<polyline clip-path=\"url(#clip02)\" style=\"stroke:#009af9; stroke-width:1; stroke-opacity:1; fill:none\" points=\"\n",
       "  39.3701,71.433 89.6206,330.835 139.871,368.504 190.122,360.947 240.372,331.662 290.623,281.505 340.873,243.895 391.124,186.152 441.374,138.977 491.625,102.489 \n",
       "  541.875,55.8458 592.126,7.87402 \n",
       "  \"/>\n",
       "<polygon clip-path=\"url(#clip00)\" points=\"\n",
       "501.61,58.994 574.126,58.994 574.126,28.754 501.61,28.754 \n",
       "  \" fill=\"#ffffff\" fill-opacity=\"1\"/>\n",
       "<polyline clip-path=\"url(#clip00)\" style=\"stroke:#000000; stroke-width:1; stroke-opacity:1; fill:none\" points=\"\n",
       "  501.61,58.994 574.126,58.994 574.126,28.754 501.61,28.754 501.61,58.994 \n",
       "  \"/>\n",
       "<polyline clip-path=\"url(#clip00)\" style=\"stroke:#009af9; stroke-width:1; stroke-opacity:1; fill:none\" points=\"\n",
       "  507.61,43.874 543.61,43.874 \n",
       "  \"/>\n",
       "<g clip-path=\"url(#clip00)\">\n",
       "<text style=\"fill:#000000; fill-opacity:1; font-family:Arial,Helvetica Neue,Helvetica,sans-serif; font-size:12; text-anchor:start;\" transform=\"rotate(0, 549.61, 48.374)\" x=\"549.61\" y=\"48.374\">y1</text>\n",
       "</g>\n",
       "</svg>\n"
      ]
     },
     "execution_count": 30,
     "metadata": {},
     "output_type": "execute_result"
    }
   ],
   "source": [
    "plot(width_range, errate; xlabel = \"Window width\", ylabel = \"Error rate\")"
   ]
  }
 ],
 "metadata": {
  "kernelspec": {
   "display_name": "Julia 0.6.0",
   "language": "julia",
   "name": "julia-0.6"
  },
  "language_info": {
   "file_extension": ".jl",
   "mimetype": "application/julia",
   "name": "julia",
   "version": "0.6.0"
  },
  "toc": {
   "colors": {
    "hover_highlight": "#DAA520",
    "running_highlight": "#FF0000",
    "selected_highlight": "#FFD700"
   },
   "moveMenuLeft": true,
   "nav_menu": {
    "height": "65px",
    "width": "252px"
   },
   "navigate_menu": true,
   "number_sections": true,
   "sideBar": true,
   "threshold": 4,
   "toc_cell": false,
   "toc_section_display": "block",
   "toc_window_display": false,
   "widenNotebook": false
  }
 },
 "nbformat": 4,
 "nbformat_minor": 2
}
