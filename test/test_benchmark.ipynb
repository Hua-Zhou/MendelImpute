{
 "cells": [
  {
   "cell_type": "markdown",
   "metadata": {},
   "source": [
    "# Test and Benchmark"
   ]
  },
  {
   "cell_type": "code",
   "execution_count": 1,
   "metadata": {
    "collapsed": false
   },
   "outputs": [
    {
     "name": "stdout",
     "output_type": "stream",
     "text": [
      "Julia Version 0.6.0\n",
      "Commit 903644385b (2017-06-19 13:05 UTC)\n",
      "Platform Info:\n",
      "  OS: macOS (x86_64-apple-darwin13.4.0)\n",
      "  CPU: Intel(R) Core(TM) i7-6920HQ CPU @ 2.90GHz\n",
      "  WORD_SIZE: 64\n",
      "  BLAS: libopenblas (USE64BITINT DYNAMIC_ARCH NO_AFFINITY Haswell)\n",
      "  LAPACK: libopenblas64_\n",
      "  LIBM: libopenlibm\n",
      "  LLVM: libLLVM-3.9.1 (ORCJIT, skylake)\n"
     ]
    }
   ],
   "source": [
    "versioninfo()"
   ]
  },
  {
   "cell_type": "markdown",
   "metadata": {},
   "source": [
    "## Haplotyping on complete genotype data"
   ]
  },
  {
   "cell_type": "code",
   "execution_count": 2,
   "metadata": {
    "collapsed": false
   },
   "outputs": [
    {
     "name": "stdout",
     "output_type": "stream",
     "text": [
      "(typeof(M), typeof(N)) = (Array{Float32,2}, Array{Float32,2})\n",
      " "
     ]
    },
    {
     "name": "stderr",
     "output_type": "stream",
     "text": [
      "WARNING: Method definition ==(Base.Nullable{S}, Base.Nullable{T}) in module Base at nullable.jl:238 overwritten in module NullableArrays at /Users/huazhou/.julia/v0.6/NullableArrays/src/operators.jl:128.\n"
     ]
    }
   ],
   "source": [
    "using NullableArrays, BenchmarkTools, MendelImpute\n",
    "\n",
    "srand(123)\n",
    "n, p, d = 5000, 500, 500\n",
    "H = convert(Matrix{Float32}, rand(0:1, d, p))\n",
    "X = convert(Matrix{Float32}, rand(0:2, n, p))\n",
    "M   = A_mul_Bt(H, H)\n",
    "for j in 1:d\n",
    "    for i in 1:(j - 1)\n",
    "        M[i, j] = 2M[i, j] + M[i, i] + M[j, j]\n",
    "    end\n",
    "end\n",
    "for j in 1:d\n",
    "    M[j, j] *= 4\n",
    "end\n",
    "N   = A_mul_Bt(X, H)\n",
    "for I in eachindex(N)\n",
    "    N[I] *= 2\n",
    "end\n",
    "uniqhap = zeros(Bool, d)\n",
    "permhap = zeros(Int, d)\n",
    "happair  = zeros(Int, n), zeros(Int, n)\n",
    "hapscore = zeros(eltype(N), n)\n",
    "@show typeof(M), typeof(N)\n",
    "@time haplopair!(happair, hapscore, M, N)"
   ]
  },
  {
   "cell_type": "code",
   "execution_count": 3,
   "metadata": {
    "collapsed": false
   },
   "outputs": [
    {
     "data": {
      "text/plain": [
       "([227, 205, 201, 254, 267, 40, 170, 87, 27, 377  …  257, 81, 194, 257, 258, 106, 203, 100, 243, 208], [358, 454, 245, 442, 344, 138, 218, 262, 278, 449  …  442, 208, 301, 442, 338, 396, 387, 158, 482, 407])"
      ]
     },
     "execution_count": 3,
     "metadata": {},
     "output_type": "execute_result"
    }
   ],
   "source": [
    "happair"
   ]
  },
  {
   "cell_type": "code",
   "execution_count": 4,
   "metadata": {
    "collapsed": false
   },
   "outputs": [
    {
     "data": {
      "text/plain": [
       "5000-element Array{Float32,1}:\n",
       " -371.0\n",
       " -304.0\n",
       " -408.0\n",
       " -428.0\n",
       " -392.0\n",
       " -339.0\n",
       " -423.0\n",
       " -388.0\n",
       " -360.0\n",
       " -316.0\n",
       " -416.0\n",
       " -435.0\n",
       " -376.0\n",
       "    ⋮  \n",
       " -347.0\n",
       " -366.0\n",
       " -367.0\n",
       " -369.0\n",
       " -386.0\n",
       " -357.0\n",
       " -443.0\n",
       " -343.0\n",
       " -377.0\n",
       " -344.0\n",
       " -352.0\n",
       " -376.0"
      ]
     },
     "execution_count": 4,
     "metadata": {},
     "output_type": "execute_result"
    }
   ],
   "source": [
    "hapscore"
   ]
  },
  {
   "cell_type": "code",
   "execution_count": 5,
   "metadata": {
    "collapsed": false
   },
   "outputs": [
    {
     "data": {
      "text/plain": [
       "(([227, 205, 201, 254, 267, 40, 170, 87, 27, 377  …  257, 81, 194, 257, 258, 106, 203, 100, 243, 208], [358, 454, 245, 442, 344, 138, 218, 262, 278, 449  …  442, 208, 301, 442, 338, 396, 387, 158, 482, 407]), Float32[474.0, 486.0, 485.0, 475.0, 453.0, 470.0, 457.0, 460.0, 463.0, 479.0  …  462.0, 452.0, 465.0, 466.0, 458.0, 441.0, 457.0, 471.0, 456.0, 470.0])"
      ]
     },
     "execution_count": 5,
     "metadata": {},
     "output_type": "execute_result"
    }
   ],
   "source": [
    "haplopair(X, H)"
   ]
  },
  {
   "cell_type": "code",
   "execution_count": 6,
   "metadata": {
    "collapsed": false
   },
   "outputs": [
    {
     "data": {
      "text/plain": [
       "BenchmarkTools.Trial: \n",
       "  memory estimate:  0 bytes\n",
       "  allocs estimate:  0\n",
       "  --------------\n",
       "  minimum time:     480.226 ms (0.00% GC)\n",
       "  median time:      516.202 ms (0.00% GC)\n",
       "  mean time:        515.118 ms (0.00% GC)\n",
       "  maximum time:     555.477 ms (0.00% GC)\n",
       "  --------------\n",
       "  samples:          10\n",
       "  evals/sample:     1"
      ]
     },
     "execution_count": 6,
     "metadata": {},
     "output_type": "execute_result"
    }
   ],
   "source": [
    "@benchmark haplopair!(happair, hapscore, M, N)"
   ]
  },
  {
   "cell_type": "code",
   "execution_count": 7,
   "metadata": {
    "collapsed": false
   },
   "outputs": [
    {
     "name": "stdout",
     "output_type": "stream",
     "text": [
      " Count File                        Line Function                               \n",
      "   425 ./<missing>                   -1 anonymous                              \n",
      "     2 ./abstractarray.jl           572 copy!(::Array{Any,1}, ::Core.Infere... \n",
      "     2 ./inference.jl              1882 abstract_call(::Any, ::Array{Any,1}... \n",
      "     2 ./inference.jl              1401 abstract_call_gf_by_type(::Any, ::A... \n",
      "     4 ./inference.jl              1935 abstract_eval(::Any, ::Array{Any,1}... \n",
      "     2 ./inference.jl              1886 abstract_eval_call(::Expr, ::Array{... \n",
      "     2 ./inference.jl              1912 abstract_eval_call(::Expr, ::Array{... \n",
      "     1 ./inference.jl              3832 inlineable(::Any, ::Any, ::Expr, ::... \n",
      "     1 ./inference.jl              4329 inlining_pass!(::Core.Inference.Inf... \n",
      "     1 ./inference.jl              4391 inlining_pass(::Expr, ::Core.Infere... \n",
      "     1 ./inference.jl              4492 inlining_pass(::Expr, ::Core.Infere... \n",
      "     1 ./inference.jl              2955 optimize(::Core.Inference.Inference... \n",
      "     1 ./inference.jl              2564 typeinf_code(::Core.MethodInstance,... \n",
      "     2 ./inference.jl              2517 typeinf_edge(::Method, ::Any, ::Sim... \n",
      "     1 ./inference.jl              2603 typeinf_ext(::Core.MethodInstance, ... \n",
      "     3 ./inference.jl              2494 typeinf_frame(::Core.MethodInstance... \n",
      "     2 ./inference.jl              2778 typeinf_frame(::Core.Inference.Infe... \n",
      "     1 ./inference.jl              2854 typeinf_frame(::Core.Inference.Infe... \n",
      "     2 ./inference.jl              2624 typeinf_loop(::Core.Inference.Infer... \n",
      "     1 ./inference.jl              2641 typeinf_loop(::Core.Inference.Infer... \n",
      "   426 ./loading.jl                 515 include_string(::String, ::String)     \n",
      "   425 ./profile.jl                  23 macro expansion                        \n",
      "     1 ./reflection.jl              521 _methods_by_ftype(::Any, ::Int64, :... \n",
      "   426 ./task.jl                    335 (::IJulia.##11#14)()                   \n",
      "   426 ...IJulia/src/eventloop.jl     8 eventloop(::ZMQ.Socket)                \n",
      "   426 .../src/execute_request.jl   160 execute_request(::ZMQ.Socket, ::IJu... \n",
      "     1 ...pute/src/haplotyping.jl    29 haplopair!(::Tuple{Array{Int64,1},A... \n",
      "    98 ...pute/src/haplotyping.jl    30 haplopair!(::Tuple{Array{Int64,1},A... \n",
      "    61 ...pute/src/haplotyping.jl    32 haplopair!(::Tuple{Array{Int64,1},A... \n",
      "   114 ...pute/src/haplotyping.jl    33 haplopair!(::Tuple{Array{Int64,1},A... \n",
      "    80 ...pute/src/haplotyping.jl    34 haplopair!(::Tuple{Array{Int64,1},A... \n",
      "     1 ...pute/src/haplotyping.jl    36 haplopair!(::Tuple{Array{Int64,1},A... \n",
      "    70 ...pute/src/haplotyping.jl    37 haplopair!(::Tuple{Array{Int64,1},A... \n"
     ]
    }
   ],
   "source": [
    "Profile.clear()\n",
    "@profile haplopair!(happair, hapscore, M, N)\n",
    "Profile.print(format=:flat)"
   ]
  },
  {
   "cell_type": "code",
   "execution_count": 8,
   "metadata": {
    "collapsed": false
   },
   "outputs": [],
   "source": [
    "#@code_warntype haplopair!(X, H, M, N, uniqhap, permhap, happair, hapscore)"
   ]
  },
  {
   "cell_type": "code",
   "execution_count": 9,
   "metadata": {
    "collapsed": false
   },
   "outputs": [
    {
     "name": "stdout",
     "output_type": "stream",
     "text": [
      "  "
     ]
    }
   ],
   "source": [
    "@time haplopair!(X, H, M, N, uniqhap, permhap, happair, hapscore)"
   ]
  },
  {
   "cell_type": "code",
   "execution_count": 10,
   "metadata": {
    "collapsed": false
   },
   "outputs": [
    {
     "data": {
      "text/plain": [
       "BenchmarkTools.Trial: \n",
       "  memory estimate:  40.16 KiB\n",
       "  allocs estimate:  518\n",
       "  --------------\n",
       "  minimum time:     844.036 ms (0.00% GC)\n",
       "  median time:      860.695 ms (0.00% GC)\n",
       "  mean time:        861.094 ms (0.00% GC)\n",
       "  maximum time:     879.066 ms (0.00% GC)\n",
       "  --------------\n",
       "  samples:          6\n",
       "  evals/sample:     1"
      ]
     },
     "execution_count": 10,
     "metadata": {},
     "output_type": "execute_result"
    }
   ],
   "source": [
    "@benchmark haplopair!(X, H, M, N, uniqhap, permhap, happair, hapscore)"
   ]
  },
  {
   "cell_type": "code",
   "execution_count": 11,
   "metadata": {
    "collapsed": false
   },
   "outputs": [
    {
     "name": "stdout",
     "output_type": "stream",
     "text": [
      " Count File                        Line Function                               \n",
      "   622 ./<missing>                   -1 anonymous                              \n",
      "     1 ./linalg/blas.jl            1027 gemm!(::Char, ::Char, ::Float32, ::... \n",
      "     2 ./linalg/matmul.jl           191 A_mul_Bt!                              \n",
      "     1 ./linalg/matmul.jl           240 copytri!(::Array{Float32,2}, ::Char... \n",
      "     1 ./linalg/matmul.jl           367 gemm_wrapper!(::Array{Float32,2}, :... \n",
      "     1 ./linalg/matmul.jl           293 syrk_wrapper!(::Array{Float32,2}, :... \n",
      "   622 ./loading.jl                 515 include_string(::String, ::String)     \n",
      "   622 ./profile.jl                  23 macro expansion                        \n",
      "     1 ./simdloop.jl                 73 macro expansion                        \n",
      "   424 ./subarray.jl                185 getindex                               \n",
      "   622 ./task.jl                    335 (::IJulia.##11#14)()                   \n",
      "   622 ...IJulia/src/eventloop.jl     8 eventloop(::ZMQ.Socket)                \n",
      "   622 .../src/execute_request.jl   160 execute_request(::ZMQ.Socket, ::IJu... \n",
      "     3 ...pute/src/haplotyping.jl    30 haplopair!(::Tuple{Array{Int64,1},A... \n",
      "   462 ...pute/src/haplotyping.jl    33 haplopair!(::Tuple{Array{Int64,1},A... \n",
      "   142 ...pute/src/haplotyping.jl    34 haplopair!(::Tuple{Array{Int64,1},A... \n",
      "     1 ...pute/src/haplotyping.jl    35 haplopair!(::Tuple{Array{Int64,1},A... \n",
      "    10 ...pute/src/haplotyping.jl    37 haplopair!(::Tuple{Array{Int64,1},A... \n",
      "     1 ...pute/src/haplotyping.jl   106 haplopair!(::Array{Float32,2}, ::Ar... \n",
      "     1 ...pute/src/haplotyping.jl   113 haplopair!(::Array{Float32,2}, ::Ar... \n",
      "     1 ...pute/src/haplotyping.jl   115 haplopair!(::Array{Float32,2}, ::Ar... \n",
      "   618 ...pute/src/haplotyping.jl   121 haplopair!(::Array{Float32,2}, ::Ar... \n",
      "     1 ...pute/src/haplotyping.jl   130 haplopair!(::Array{Float32,2}, ::Ar... \n",
      "     1 ...pute/src/haplotyping.jl   131 macro expansion                        \n"
     ]
    }
   ],
   "source": [
    "Profile.clear()\n",
    "@profile haplopair!(X, H, M, N, uniqhap, permhap, happair, hapscore)\n",
    "Profile.print(format=:flat)"
   ]
  },
  {
   "cell_type": "markdown",
   "metadata": {},
   "source": [
    "## Haplotyping on incomplete genotype data\n",
    "\n"
   ]
  },
  {
   "cell_type": "code",
   "execution_count": 12,
   "metadata": {
    "collapsed": false
   },
   "outputs": [
    {
     "name": "stdout",
     "output_type": "stream",
     "text": [
      "  "
     ]
    }
   ],
   "source": [
    "using MendelImpute, NullableArrays, BenchmarkTools\n",
    "\n",
    "srand(123)\n",
    "n, p, d = 5000, 1000, 500\n",
    "H = convert(Matrix{Float32}, rand(0:1, d, p))\n",
    "X = convert(Matrix{Float32}, rand(0:2, n, p))\n",
    "M = zeros(eltype(H), d, d)\n",
    "N = zeros(eltype(X), n, d)\n",
    "uniqhap = zeros(Bool, d)\n",
    "permhap = zeros(Int, d)\n",
    "happair  = zeros(Int, n), zeros(Int, n)\n",
    "hapscore = zeros(eltype(N), n)\n",
    "missingprop = 0.1\n",
    "Xm = NullableArray(X, full(sprand(Bool, n, p, missingprop)))\n",
    "@time haploimpute!(Xm, H, M, N, uniqhap, permhap, happair, hapscore)"
   ]
  },
  {
   "cell_type": "code",
   "execution_count": 13,
   "metadata": {
    "collapsed": false
   },
   "outputs": [
    {
     "data": {
      "text/plain": [
       "BenchmarkTools.Trial: \n",
       "  memory estimate:  40.16 KiB\n",
       "  allocs estimate:  518\n",
       "  --------------\n",
       "  minimum time:     916.088 ms (0.00% GC)\n",
       "  median time:      951.960 ms (0.00% GC)\n",
       "  mean time:        963.737 ms (0.00% GC)\n",
       "  maximum time:     1.045 s (0.00% GC)\n",
       "  --------------\n",
       "  samples:          6\n",
       "  evals/sample:     1"
      ]
     },
     "execution_count": 13,
     "metadata": {},
     "output_type": "execute_result"
    }
   ],
   "source": [
    "@benchmark haploimpute!(Xm, H, M, N, uniqhap, permhap, happair, hapscore)"
   ]
  },
  {
   "cell_type": "code",
   "execution_count": 14,
   "metadata": {
    "collapsed": false
   },
   "outputs": [
    {
     "name": "stdout",
     "output_type": "stream",
     "text": [
      " Count File                        Line Function                               \n",
      "   717 ./<missing>                   -1 anonymous                              \n",
      "     1 ./abstractarray.jl          1512 lexcmp(::SubArray{Float32,1,Array{F... \n",
      "     1 ./linalg/blas.jl            1027 gemm!(::Char, ::Char, ::Float32, ::... \n",
      "     1 ./linalg/matmul.jl           191 A_mul_Bt!                              \n",
      "     1 ./linalg/matmul.jl           367 gemm_wrapper!(::Array{Float32,2}, :... \n",
      "   717 ./loading.jl                 515 include_string(::String, ::String)     \n",
      "     1 ./ordering.jl                 57 lt                                     \n",
      "   717 ./profile.jl                  23 macro expansion                        \n",
      "     1 ./simdloop.jl                 73 macro expansion                        \n",
      "     1 ./sort.jl                    660 #sortperm!#12(::Base.Sort.QuickSort... \n",
      "     1 ./sort.jl                    252 sort!(::Array{Int64,1}, ::Int64, ::... \n",
      "     1 ./sort.jl                    323 sort!(::Array{Int64,1}, ::Int64, ::... \n",
      "     1 ./sort.jl                    329 sort!(::Array{Int64,1}, ::Int64, ::... \n",
      "     1 ./sort.jl                    435 sort!(::Array{Int64,1}, ::Base.Sort... \n",
      "   435 ./subarray.jl                185 getindex                               \n",
      "   717 ./task.jl                    335 (::IJulia.##11#14)()                   \n",
      "   717 ...IJulia/src/eventloop.jl     8 eventloop(::ZMQ.Socket)                \n",
      "   717 .../src/execute_request.jl   160 execute_request(::ZMQ.Socket, ::IJu... \n",
      "     2 ...pute/src/haplotyping.jl   160 fillmissing!(::NullableArrays.Nulla... \n",
      "     1 ...pute/src/haplotyping.jl   161 fillmissing!(::NullableArrays.Nulla... \n",
      "     7 ...pute/src/haplotyping.jl   162 fillmissing!(::NullableArrays.Nulla... \n",
      "     2 ...pute/src/haplotyping.jl   163 fillmissing!(::NullableArrays.Nulla... \n",
      "     1 ...pute/src/haplotyping.jl   450 finduniquerows!(::Array{Bool,1}, ::... \n",
      "   717 ...pute/src/haplotyping.jl   254 haploimpute!(::NullableArrays.Nulla... \n",
      "    24 ...pute/src/haplotyping.jl   255 haploimpute!(::NullableArrays.Nulla... \n",
      "   681 ...pute/src/haplotyping.jl   258 haploimpute!(::NullableArrays.Nulla... \n",
      "    12 ...pute/src/haplotyping.jl   260 haploimpute!(::NullableArrays.Nulla... \n",
      "     3 ...pute/src/haplotyping.jl    30 haplopair!(::Tuple{Array{Int64,1},A... \n",
      "   500 ...pute/src/haplotyping.jl    33 haplopair!(::Tuple{Array{Int64,1},A... \n",
      "   151 ...pute/src/haplotyping.jl    34 haplopair!(::Tuple{Array{Int64,1},A... \n",
      "    23 ...pute/src/haplotyping.jl    37 haplopair!(::Tuple{Array{Int64,1},A... \n",
      "     1 ...pute/src/haplotyping.jl   113 haplopair!(::Array{Float32,2}, ::Ar... \n",
      "     1 ...pute/src/haplotyping.jl   115 haplopair!(::Array{Float32,2}, ::Ar... \n",
      "     1 ...pute/src/haplotyping.jl   118 haplopair!(::Array{Float32,2}, ::Ar... \n",
      "   677 ...pute/src/haplotyping.jl   121 haplopair!(::Array{Float32,2}, ::Ar... \n",
      "     1 ...pute/src/haplotyping.jl   130 haplopair!(::Array{Float32,2}, ::Ar... \n",
      "    11 ...pute/src/haplotyping.jl   206 initmissing!(::NullableArrays.Nulla... \n",
      "     6 ...pute/src/haplotyping.jl   207 initmissing!(::NullableArrays.Nulla... \n",
      "     3 ...pute/src/haplotyping.jl   209 initmissing!(::NullableArrays.Nulla... \n",
      "     1 ...pute/src/haplotyping.jl   215 initmissing!(::NullableArrays.Nulla... \n",
      "     3 ...pute/src/haplotyping.jl   216 initmissing!(::NullableArrays.Nulla... \n",
      "     1 ...pute/src/haplotyping.jl   131 macro expansion                        \n"
     ]
    }
   ],
   "source": [
    "Profile.clear()\n",
    "@profile haploimpute!(Xm, H, M, N, uniqhap, permhap, happair, hapscore)\n",
    "Profile.print(format=:flat)"
   ]
  },
  {
   "cell_type": "markdown",
   "metadata": {
    "collapsed": true
   },
   "source": [
    "## `AFRped.txt` data\n",
    "\n"
   ]
  },
  {
   "cell_type": "code",
   "execution_count": 15,
   "metadata": {
    "collapsed": false
   },
   "outputs": [],
   "source": [
    "#;ls -al"
   ]
  },
  {
   "cell_type": "code",
   "execution_count": 16,
   "metadata": {
    "collapsed": false
   },
   "outputs": [],
   "source": [
    "## cut out the first 6 fields in the pedigree file\n",
    "#;cut -d ',' -f7- AFRped.txt > AFRped_geno.txt"
   ]
  },
  {
   "cell_type": "code",
   "execution_count": 17,
   "metadata": {
    "collapsed": false
   },
   "outputs": [],
   "source": [
    "#;ls -al"
   ]
  },
  {
   "cell_type": "code",
   "execution_count": 18,
   "metadata": {
    "collapsed": false
   },
   "outputs": [
    {
     "data": {
      "text/plain": [
       "1325×36499 Array{Float32,2}:\n",
       " 0.0  0.0  0.0  0.0  0.0  0.0  0.0  0.0  …  0.0  0.0  0.0  0.0  0.0  1.0  0.0\n",
       " 0.0  0.0  0.0  0.0  0.0  0.0  0.0  0.0     0.0  0.0  0.0  0.0  0.0  1.0  0.0\n",
       " 1.0  0.0  0.0  0.0  0.0  0.0  0.0  0.0     0.0  0.0  0.0  0.0  0.0  0.0  0.0\n",
       " 0.0  0.0  0.0  0.0  0.0  0.0  0.0  0.0     0.0  0.0  0.0  0.0  0.0  0.0  0.0\n",
       " 1.0  0.0  0.0  0.0  0.0  0.0  0.0  0.0     0.0  0.0  0.0  0.0  0.0  0.0  0.0\n",
       " 1.0  0.0  0.0  0.0  0.0  0.0  0.0  0.0  …  0.0  0.0  0.0  0.0  0.0  0.0  0.0\n",
       " 0.0  0.0  0.0  0.0  0.0  0.0  0.0  0.0     0.0  0.0  0.0  0.0  0.0  1.0  0.0\n",
       " 1.0  0.0  0.0  0.0  0.0  0.0  0.0  0.0     0.0  0.0  0.0  0.0  0.0  1.0  0.0\n",
       " 0.0  0.0  0.0  0.0  0.0  0.0  0.0  0.0     0.0  0.0  0.0  0.0  0.0  0.0  0.0\n",
       " 0.0  0.0  0.0  0.0  0.0  0.0  0.0  0.0     0.0  0.0  0.0  0.0  0.0  0.0  0.0\n",
       " 0.0  0.0  0.0  0.0  0.0  0.0  0.0  0.0  …  0.0  0.0  0.0  0.0  0.0  1.0  0.0\n",
       " 0.0  0.0  0.0  0.0  0.0  0.0  0.0  0.0     0.0  0.0  0.0  0.0  0.0  1.0  0.0\n",
       " 0.0  0.0  0.0  0.0  0.0  0.0  0.0  0.0     0.0  0.0  0.0  0.0  0.0  1.0  0.0\n",
       " ⋮                        ⋮              ⋱                 ⋮                 \n",
       " 0.0  0.0  0.0  0.0  0.0  0.0  0.0  0.0     0.0  0.0  0.0  0.0  0.0  0.0  0.0\n",
       " 0.0  0.0  0.0  0.0  0.0  0.0  0.0  0.0     0.0  0.0  0.0  0.0  0.0  0.0  0.0\n",
       " 0.0  0.0  0.0  0.0  0.0  0.0  0.0  0.0  …  0.0  0.0  0.0  0.0  0.0  0.0  0.0\n",
       " 0.0  0.0  0.0  0.0  0.0  0.0  0.0  0.0     0.0  0.0  0.0  0.0  0.0  0.0  0.0\n",
       " 0.0  0.0  0.0  0.0  0.0  0.0  0.0  0.0     0.0  0.0  0.0  0.0  0.0  0.0  0.0\n",
       " 0.0  0.0  0.0  0.0  0.0  0.0  0.0  0.0     0.0  0.0  0.0  0.0  0.0  0.0  0.0\n",
       " 0.0  0.0  0.0  0.0  0.0  0.0  0.0  0.0     0.0  0.0  0.0  0.0  0.0  0.0  0.0\n",
       " 0.0  0.0  0.0  0.0  0.0  0.0  0.0  0.0  …  0.0  0.0  0.0  0.0  0.0  0.0  0.0\n",
       " 0.0  0.0  0.0  0.0  0.0  0.0  0.0  0.0     0.0  0.0  0.0  0.0  0.0  0.0  0.0\n",
       " 0.0  0.0  0.0  0.0  0.0  0.0  0.0  0.0     0.0  0.0  0.0  0.0  0.0  0.0  0.0\n",
       " 0.0  0.0  0.0  0.0  0.0  0.0  0.0  0.0     0.0  0.0  0.0  0.0  0.0  0.0  0.0\n",
       " 0.0  0.0  0.0  0.0  0.0  0.0  0.0  0.0     0.0  0.0  0.0  0.0  0.0  0.0  0.0"
      ]
     },
     "execution_count": 18,
     "metadata": {},
     "output_type": "execute_result"
    }
   ],
   "source": [
    "rawdata = readcsv(\"AFRped_geno.txt\", Float32)"
   ]
  },
  {
   "cell_type": "code",
   "execution_count": 19,
   "metadata": {
    "collapsed": false
   },
   "outputs": [
    {
     "data": {
      "text/plain": [
       "664×36498 Array{Float32,2}:\n",
       " 0.0  0.0  0.0  0.0  0.0  0.0  0.0  0.0  …  0.0  0.0  0.0  0.0  0.0  0.0  1.0\n",
       " 0.0  0.0  0.0  0.0  0.0  0.0  0.0  0.0     0.0  0.0  0.0  0.0  0.0  0.0  1.0\n",
       " 1.0  0.0  0.0  0.0  0.0  0.0  0.0  0.0     0.0  0.0  0.0  0.0  0.0  0.0  0.0\n",
       " 0.0  0.0  0.0  0.0  0.0  0.0  0.0  0.0     0.0  0.0  0.0  0.0  0.0  0.0  0.0\n",
       " 1.0  0.0  0.0  0.0  0.0  0.0  0.0  0.0     0.0  0.0  0.0  0.0  0.0  0.0  0.0\n",
       " 1.0  0.0  0.0  0.0  0.0  0.0  0.0  0.0  …  0.0  0.0  0.0  0.0  0.0  0.0  0.0\n",
       " 0.0  0.0  0.0  0.0  0.0  0.0  0.0  0.0     0.0  0.0  0.0  0.0  0.0  0.0  1.0\n",
       " 1.0  0.0  0.0  0.0  0.0  0.0  0.0  0.0     0.0  0.0  0.0  0.0  0.0  0.0  1.0\n",
       " 0.0  0.0  0.0  0.0  0.0  0.0  0.0  0.0     0.0  0.0  0.0  0.0  0.0  0.0  0.0\n",
       " 0.0  0.0  0.0  0.0  0.0  0.0  0.0  0.0     0.0  0.0  0.0  0.0  0.0  0.0  0.0\n",
       " 0.0  0.0  0.0  0.0  0.0  0.0  0.0  0.0  …  0.0  0.0  0.0  0.0  0.0  0.0  1.0\n",
       " 0.0  0.0  0.0  0.0  0.0  0.0  0.0  0.0     0.0  0.0  0.0  0.0  0.0  0.0  1.0\n",
       " 0.0  0.0  0.0  0.0  0.0  0.0  0.0  0.0     0.0  0.0  0.0  0.0  0.0  0.0  1.0\n",
       " ⋮                        ⋮              ⋱                      ⋮            \n",
       " 0.0  0.0  0.0  0.0  0.0  0.0  0.0  0.0     0.0  0.0  0.0  0.0  0.0  0.0  0.0\n",
       " 0.0  0.0  0.0  0.0  0.0  0.0  0.0  0.0     0.0  0.0  0.0  0.0  0.0  0.0  0.0\n",
       " 0.0  0.0  0.0  0.0  0.0  0.0  0.0  0.0     0.0  0.0  0.0  0.0  0.0  0.0  0.0\n",
       " 0.0  0.0  0.0  0.0  0.0  0.0  0.0  0.0  …  0.0  0.0  0.0  0.0  0.0  0.0  1.0\n",
       " 0.0  0.0  0.0  0.0  0.0  0.0  0.0  0.0     0.0  0.0  0.0  0.0  0.0  0.0  1.0\n",
       " 0.0  0.0  0.0  0.0  0.0  0.0  0.0  0.0     0.0  0.0  0.0  0.0  0.0  0.0  1.0\n",
       " 0.0  0.0  0.0  0.0  0.0  0.0  0.0  0.0     0.0  0.0  0.0  0.0  0.0  0.0  0.0\n",
       " 0.0  0.0  0.0  0.0  0.0  0.0  0.0  0.0     0.0  0.0  0.0  0.0  0.0  0.0  0.0\n",
       " 0.0  0.0  0.0  0.0  0.0  0.0  0.0  0.0  …  0.0  0.0  0.0  0.0  0.0  0.0  1.0\n",
       " 0.0  0.0  0.0  0.0  0.0  0.0  0.0  0.0     0.0  0.0  0.0  0.0  0.0  0.0  0.0\n",
       " 0.0  0.0  0.0  0.0  0.0  0.0  0.0  0.0     0.0  0.0  0.0  0.0  0.0  0.0  1.0\n",
       " 0.0  0.0  0.0  0.0  0.0  0.0  0.0  0.0     0.0  0.0  0.0  0.0  0.0  0.0  0.0"
      ]
     },
     "execution_count": 19,
     "metadata": {},
     "output_type": "execute_result"
    }
   ],
   "source": [
    "people = 664\n",
    "X = rawdata[1:people, 1:(end - 1)]"
   ]
  },
  {
   "cell_type": "code",
   "execution_count": 20,
   "metadata": {
    "collapsed": false
   },
   "outputs": [
    {
     "data": {
      "text/plain": [
       "661×36498 Array{Float32,2}:\n",
       " 0.0  0.0  0.0  0.0  0.0  0.0  0.0  0.0  …  0.0  0.0  0.0  0.0  0.0  0.0  0.0\n",
       " 0.0  0.0  0.0  0.0  0.0  0.0  0.0  0.0     0.0  0.0  0.0  0.0  0.0  0.0  1.0\n",
       " 0.0  0.0  0.0  0.0  0.0  0.0  0.0  0.0     0.0  0.0  0.0  0.0  0.0  0.0  0.0\n",
       " 0.0  0.0  0.0  0.0  0.0  0.0  0.0  0.0     0.0  0.0  0.0  0.0  0.0  0.0  1.0\n",
       " 0.0  0.0  0.0  0.0  0.0  0.0  0.0  0.0     0.0  0.0  0.0  0.0  0.0  0.0  0.0\n",
       " 0.0  0.0  0.0  0.0  0.0  0.0  0.0  0.0  …  0.0  0.0  0.0  0.0  0.0  0.0  0.0\n",
       " 0.0  0.0  0.0  0.0  0.0  0.0  0.0  0.0     0.0  0.0  0.0  0.0  0.0  0.0  1.0\n",
       " 0.0  0.0  0.0  0.0  0.0  0.0  0.0  0.0     0.0  0.0  0.0  0.0  0.0  0.0  0.0\n",
       " 0.0  0.0  0.0  0.0  0.0  0.0  0.0  0.0     0.0  0.0  0.0  0.0  0.0  0.0  1.0\n",
       " 0.0  0.0  0.0  0.0  0.0  0.0  0.0  0.0     0.0  0.0  0.0  0.0  0.0  0.0  0.0\n",
       " 0.0  0.0  0.0  0.0  0.0  0.0  0.0  0.0  …  0.0  0.0  0.0  0.0  0.0  0.0  1.0\n",
       " 0.0  0.0  0.0  0.0  0.0  0.0  0.0  0.0     0.0  0.0  0.0  0.0  0.0  0.0  1.0\n",
       " 0.0  0.0  0.0  0.0  0.0  0.0  0.0  0.0     0.0  0.0  0.0  0.0  0.0  0.0  1.0\n",
       " ⋮                        ⋮              ⋱                      ⋮            \n",
       " 0.0  0.0  0.0  0.0  0.0  0.0  0.0  0.0     0.0  0.0  0.0  0.0  0.0  0.0  0.0\n",
       " 0.0  0.0  0.0  0.0  0.0  0.0  0.0  0.0  …  0.0  0.0  0.0  0.0  0.0  0.0  0.0\n",
       " 0.0  0.0  0.0  0.0  0.0  0.0  0.0  0.0     0.0  0.0  0.0  0.0  0.0  0.0  0.0\n",
       " 0.0  0.0  0.0  0.0  0.0  0.0  0.0  0.0     0.0  0.0  0.0  0.0  0.0  0.0  0.0\n",
       " 0.0  0.0  0.0  0.0  0.0  0.0  0.0  0.0     0.0  0.0  0.0  0.0  0.0  0.0  0.0\n",
       " 0.0  0.0  0.0  0.0  0.0  0.0  0.0  0.0     0.0  0.0  0.0  0.0  0.0  0.0  0.0\n",
       " 0.0  0.0  0.0  0.0  0.0  0.0  0.0  0.0  …  0.0  0.0  0.0  0.0  0.0  0.0  0.0\n",
       " 0.0  0.0  0.0  0.0  0.0  0.0  0.0  0.0     0.0  0.0  0.0  0.0  0.0  0.0  0.0\n",
       " 0.0  0.0  0.0  0.0  0.0  0.0  0.0  0.0     0.0  0.0  0.0  0.0  0.0  0.0  0.0\n",
       " 0.0  0.0  0.0  0.0  0.0  0.0  0.0  0.0     0.0  0.0  0.0  0.0  0.0  0.0  0.0\n",
       " 0.0  0.0  0.0  0.0  0.0  0.0  0.0  0.0     0.0  0.0  0.0  0.0  0.0  0.0  0.0\n",
       " 0.0  0.0  0.0  0.0  0.0  0.0  0.0  0.0  …  0.0  0.0  0.0  0.0  0.0  0.0  0.0"
      ]
     },
     "execution_count": 20,
     "metadata": {},
     "output_type": "execute_result"
    }
   ],
   "source": [
    "if eltype(rawdata) <: Integer\n",
    "    H = rawdata[(people + 1):end, 1:(end - 1)] .>> 1\n",
    "else\n",
    "    H = rawdata[(people + 1):end, 1:(end - 1)] / 2\n",
    "end"
   ]
  },
  {
   "cell_type": "markdown",
   "metadata": {},
   "source": [
    "### phase+impute a fixed window"
   ]
  },
  {
   "cell_type": "code",
   "execution_count": 21,
   "metadata": {
    "collapsed": false
   },
   "outputs": [
    {
     "data": {
      "text/plain": [
       "79240-element Array{Int64,1}:\n",
       " 0\n",
       " 0\n",
       " 0\n",
       " 0\n",
       " 0\n",
       " 0\n",
       " 0\n",
       " 0\n",
       " 0\n",
       " 0\n",
       " 0\n",
       " 0\n",
       " 0\n",
       " ⋮\n",
       " 0\n",
       " 0\n",
       " 0\n",
       " 0\n",
       " 0\n",
       " 0\n",
       " 0\n",
       " 0\n",
       " 0\n",
       " 0\n",
       " 0\n",
       " 0"
      ]
     },
     "execution_count": 21,
     "metadata": {},
     "output_type": "execute_result"
    }
   ],
   "source": [
    "using BenchmarkTools, MendelImpute, NullableArrays\n",
    "\n",
    "srand(123)\n",
    "X1 = X[:, 1:1200]\n",
    "H1 = H[:, 1:1200]\n",
    "missingprop = 0.1\n",
    "Xm = NullableArray(X1, full(sprand(Bool, size(X1, 1), size(X1, 2), missingprop)))\n",
    "missing_true = round.(Int, X1[Xm.isnull])"
   ]
  },
  {
   "cell_type": "code",
   "execution_count": 22,
   "metadata": {
    "collapsed": false
   },
   "outputs": [
    {
     "name": "stdout",
     "output_type": "stream",
     "text": [
      "  0.240438 seconds (683 allocations: 52.859 KiB)\n"
     ]
    },
    {
     "data": {
      "text/plain": [
       "0.0033064109035840484"
      ]
     },
     "execution_count": 22,
     "metadata": {},
     "output_type": "execute_result"
    }
   ],
   "source": [
    "n, d = size(X1, 1), size(H1, 1)\n",
    "M = zeros(eltype(H), d, d)\n",
    "N = zeros(eltype(X), n, d)\n",
    "uniqhap = zeros(Bool, d)\n",
    "permhap = zeros(Int, d)\n",
    "happair  = zeros(Int, n), zeros(Int, n)\n",
    "hapscore = zeros(eltype(N), n)\n",
    "@time haploimpute!(Xm, H1, M, N, uniqhap, permhap, happair, hapscore)\n",
    "missing_impute = round.(Int, Xm.values[Xm.isnull])\n",
    "error = countnz(missing_true .≠ missing_impute) / length(missing_true)"
   ]
  },
  {
   "cell_type": "code",
   "execution_count": 23,
   "metadata": {
    "collapsed": false
   },
   "outputs": [
    {
     "data": {
      "text/plain": [
       "BenchmarkTools.Trial: \n",
       "  memory estimate:  52.70 KiB\n",
       "  allocs estimate:  679\n",
       "  --------------\n",
       "  minimum time:     193.186 ms (0.00% GC)\n",
       "  median time:      199.815 ms (0.00% GC)\n",
       "  mean time:        202.529 ms (0.00% GC)\n",
       "  maximum time:     219.272 ms (0.00% GC)\n",
       "  --------------\n",
       "  samples:          25\n",
       "  evals/sample:     1"
      ]
     },
     "execution_count": 23,
     "metadata": {},
     "output_type": "execute_result"
    }
   ],
   "source": [
    "@benchmark haploimpute!(Xm, H1, M, N, uniqhap, permhap, happair, hapscore)"
   ]
  },
  {
   "cell_type": "code",
   "execution_count": 24,
   "metadata": {
    "collapsed": false
   },
   "outputs": [
    {
     "name": "stdout",
     "output_type": "stream",
     "text": [
      " Count File                        Line Function                               \n",
      "   153 ./<missing>                   -1 anonymous                              \n",
      "     1 ./abstractarray.jl          1504 isequal(::SubArray{Float32,1,Array{... \n",
      "     3 ./abstractarray.jl          1512 lexcmp(::SubArray{Float32,1,Array{F... \n",
      "     3 ./abstractarray.jl          1513 lexcmp(::SubArray{Float32,1,Array{F... \n",
      "     3 ./abstractarray.jl           759 next                                   \n",
      "     3 ./iterators.jl               184 next                                   \n",
      "     1 ./linalg/blas.jl            1207 syrk!(::Char, ::Char, ::Float32, ::... \n",
      "     1 ./linalg/matmul.jl           191 A_mul_Bt!                              \n",
      "     1 ./linalg/matmul.jl           293 syrk_wrapper!(::Array{Float32,2}, :... \n",
      "   153 ./loading.jl                 515 include_string(::String, ::String)     \n",
      "     3 ./operators.jl               267 lexcmp                                 \n",
      "     6 ./ordering.jl                 57 lt                                     \n",
      "   153 ./profile.jl                  23 macro expansion                        \n",
      "     6 ./sort.jl                    660 #sortperm!#12(::Base.Sort.QuickSort... \n",
      "     6 ./sort.jl                    252 sort!(::Array{Int64,1}, ::Int64, ::... \n",
      "     6 ./sort.jl                    323 sort!(::Array{Int64,1}, ::Int64, ::... \n",
      "     6 ./sort.jl                    329 sort!(::Array{Int64,1}, ::Int64, ::... \n",
      "     7 ./sort.jl                    332 sort!(::Array{Int64,1}, ::Int64, ::... \n",
      "     6 ./sort.jl                    435 sort!(::Array{Int64,1}, ::Base.Sort... \n",
      "    95 ./subarray.jl                185 getindex                               \n",
      "     3 ./subarray.jl                193 getindex                               \n",
      "   153 ./task.jl                    335 (::IJulia.##11#14)()                   \n",
      "   153 ...IJulia/src/eventloop.jl     8 eventloop(::ZMQ.Socket)                \n",
      "   153 .../src/execute_request.jl   160 execute_request(::ZMQ.Socket, ::IJu... \n",
      "     1 ...pute/src/haplotyping.jl   160 fillmissing!(::NullableArrays.Nulla... \n",
      "     1 ...pute/src/haplotyping.jl   162 fillmissing!(::NullableArrays.Nulla... \n",
      "     6 ...pute/src/haplotyping.jl   450 finduniquerows!(::Array{Bool,1}, ::... \n",
      "     1 ...pute/src/haplotyping.jl   455 finduniquerows!(::Array{Bool,1}, ::... \n",
      "   153 ...pute/src/haplotyping.jl   254 haploimpute!(::NullableArrays.Nulla... \n",
      "     2 ...pute/src/haplotyping.jl   255 haploimpute!(::NullableArrays.Nulla... \n",
      "   149 ...pute/src/haplotyping.jl   258 haploimpute!(::NullableArrays.Nulla... \n",
      "     2 ...pute/src/haplotyping.jl   260 haploimpute!(::NullableArrays.Nulla... \n",
      "    97 ...pute/src/haplotyping.jl    33 haplopair!(::Tuple{Array{Int64,1},A... \n",
      "    39 ...pute/src/haplotyping.jl    34 haplopair!(::Tuple{Array{Int64,1},A... \n",
      "     3 ...pute/src/haplotyping.jl    37 haplopair!(::Tuple{Array{Int64,1},A... \n",
      "     1 ...pute/src/haplotyping.jl   106 haplopair!(::Array{Float32,2}, ::Ar... \n",
      "     1 ...pute/src/haplotyping.jl   108 haplopair!(::Array{Float32,2}, ::Ar... \n",
      "     1 ...pute/src/haplotyping.jl   115 haplopair!(::Array{Float32,2}, ::Ar... \n",
      "     7 ...pute/src/haplotyping.jl   118 haplopair!(::Array{Float32,2}, ::Ar... \n",
      "   139 ...pute/src/haplotyping.jl   121 haplopair!(::Array{Float32,2}, ::Ar... \n",
      "     1 ...pute/src/haplotyping.jl   209 initmissing!(::NullableArrays.Nulla... \n",
      "     1 ...pute/src/haplotyping.jl   216 initmissing!(::NullableArrays.Nulla... \n"
     ]
    }
   ],
   "source": [
    "Profile.clear()\n",
    "@profile haploimpute!(Xm, H1, M, N, uniqhap, permhap, happair, hapscore)\n",
    "Profile.print(format=:flat)"
   ]
  },
  {
   "cell_type": "markdown",
   "metadata": {},
   "source": [
    "## Phase + impute by moving window (using flanking windows)"
   ]
  },
  {
   "cell_type": "code",
   "execution_count": 25,
   "metadata": {
    "collapsed": false
   },
   "outputs": [
    {
     "name": "stdout",
     "output_type": "stream",
     "text": [
      "Imputing SNPs 1:800\n",
      "Imputing SNPs 801:1600\n",
      "Imputing SNPs 1601:2400\n",
      "Imputing SNPs 2401:3200\n",
      "Imputing SNPs 3201:4000\n",
      "Imputing SNPs 4001:4800\n",
      "Imputing SNPs 4801:5600\n",
      "Imputing SNPs 5601:6400\n",
      "Imputing SNPs 6401:7200\n",
      "Imputing SNPs 7201:8000\n",
      "Imputing SNPs 8001:8800\n",
      "Imputing SNPs 8801:9600\n",
      "Imputing SNPs 9601:10400\n",
      "Imputing SNPs 10401:11200\n",
      "Imputing SNPs 11201:12000\n",
      "Imputing SNPs 12001:12800\n",
      "Imputing SNPs 12801:13600\n",
      "Imputing SNPs 13601:14400\n",
      "Imputing SNPs 14401:15200\n",
      "Imputing SNPs 15201:16000\n",
      "Imputing SNPs 16001:16800\n",
      "Imputing SNPs 16801:17600\n",
      "Imputing SNPs 17601:18400\n",
      "Imputing SNPs 18401:19200\n",
      "Imputing SNPs 19201:20000\n",
      "Imputing SNPs 20001:20800\n",
      "Imputing SNPs 20801:21600\n",
      "Imputing SNPs 21601:22400\n",
      "Imputing SNPs 22401:23200\n",
      "Imputing SNPs 23201:24000\n",
      "Imputing SNPs 24001:24800\n",
      "Imputing SNPs 24801:25600\n",
      "Imputing SNPs 25601:26400\n",
      "Imputing SNPs 26401:27200\n",
      "Imputing SNPs 27201:28000\n",
      "Imputing SNPs 28001:28800\n",
      "Imputing SNPs 28801:29600\n",
      "Imputing SNPs 29601:30400\n",
      "Imputing SNPs 30401:31200\n",
      "Imputing SNPs 31201:32000\n",
      "Imputing SNPs 32001:32800\n",
      "Imputing SNPs 32801:33600\n",
      "Imputing SNPs 33601:34400\n",
      "Imputing SNPs 34401:35200\n",
      "Imputing SNPs 35201:36498\n",
      " 12.672780 seconds (2.66 M allocations: 115.354 MiB, 0.25% gc time)\n"
     ]
    }
   ],
   "source": [
    "using MendelImpute, NullableArrays\n",
    "\n",
    "srand(123)\n",
    "missingprop = 0.1\n",
    "X = rawdata[1:people, 1:(end - 1)]\n",
    "Xm = NullableArray(X, full(sprand(Bool, size(X, 1), size(X, 2), missingprop)))\n",
    "missing_true = round.(Int, X[Xm.isnull])\n",
    "\n",
    "@time haploimpute!(Xm, H, 800)"
   ]
  },
  {
   "cell_type": "code",
   "execution_count": 26,
   "metadata": {
    "collapsed": false
   },
   "outputs": [
    {
     "data": {
      "text/plain": [
       "0.0069078088435298385"
      ]
     },
     "execution_count": 26,
     "metadata": {},
     "output_type": "execute_result"
    }
   ],
   "source": [
    "missing_impute = round.(Int, Xm.values[Xm.isnull])\n",
    "error = countnz(missing_true .≠ missing_impute) / length(missing_true)"
   ]
  },
  {
   "cell_type": "code",
   "execution_count": 27,
   "metadata": {
    "collapsed": false
   },
   "outputs": [
    {
     "name": "stdout",
     "output_type": "stream",
     "text": [
      "Imputing SNPs 1:400\n",
      "Imputing SNPs 401:800\n",
      "Imputing SNPs 801:1200\n",
      "Imputing SNPs 1201:1600\n",
      "Imputing SNPs 1601:2000\n",
      "Imputing SNPs 2001:2400\n",
      "Imputing SNPs 2401:2800\n",
      "Imputing SNPs 2801:3200\n",
      "Imputing SNPs 3201:3600\n",
      "Imputing SNPs 3601:4000\n",
      "Imputing SNPs 4001:4400\n",
      "Imputing SNPs 4401:4800\n",
      "Imputing SNPs 4801:5200\n",
      "Imputing SNPs 5201:5600\n",
      "Imputing SNPs 5601:6000\n",
      "Imputing SNPs 6001:6400\n",
      "Imputing SNPs 6401:6800\n",
      "Imputing SNPs 6801:7200\n",
      "Imputing SNPs 7201:7600\n",
      "Imputing SNPs 7601:8000\n",
      "Imputing SNPs 8001:8400\n",
      "Imputing SNPs 8401:8800\n",
      "Imputing SNPs 8801:9200\n",
      "Imputing SNPs 9201:9600\n",
      "Imputing SNPs 9601:10000\n",
      "Imputing SNPs 10001:10400\n",
      "Imputing SNPs 10401:10800\n",
      "Imputing SNPs 10801:11200\n",
      "Imputing SNPs 11201:11600\n",
      "Imputing SNPs 11601:12000\n",
      "Imputing SNPs 12001:12400\n",
      "Imputing SNPs 12401:12800\n",
      "Imputing SNPs 12801:13200\n",
      "Imputing SNPs 13201:13600\n",
      "Imputing SNPs 13601:14000\n",
      "Imputing SNPs 14001:14400\n",
      "Imputing SNPs 14401:14800\n",
      "Imputing SNPs 14801:15200\n",
      "Imputing SNPs 15201:15600\n",
      "Imputing SNPs 15601:16000\n",
      "Imputing SNPs 16001:16400\n",
      "Imputing SNPs 16401:16800\n",
      "Imputing SNPs 16801:17200\n",
      "Imputing SNPs 17201:17600\n",
      "Imputing SNPs 17601:18000\n",
      "Imputing SNPs 18001:18400\n",
      "Imputing SNPs 18401:18800\n",
      "Imputing SNPs 18801:19200\n",
      "Imputing SNPs 19201:19600\n",
      "Imputing SNPs 19601:20000\n",
      "Imputing SNPs 20001:20400\n",
      "Imputing SNPs 20401:20800\n",
      "Imputing SNPs 20801:21200\n",
      "Imputing SNPs 21201:21600\n",
      "Imputing SNPs 21601:22000\n",
      "Imputing SNPs 22001:22400\n",
      "Imputing SNPs 22401:22800\n",
      "Imputing SNPs 22801:23200\n",
      "Imputing SNPs 23201:23600\n",
      "Imputing SNPs 23601:24000\n",
      "Imputing SNPs 24001:24400\n",
      "Imputing SNPs 24401:24800\n",
      "Imputing SNPs 24801:25200\n",
      "Imputing SNPs 25201:25600\n",
      "Imputing SNPs 25601:26000\n",
      "Imputing SNPs 26001:26400\n",
      "Imputing SNPs 26401:26800\n",
      "Imputing SNPs 26801:27200\n",
      "Imputing SNPs 27201:27600\n",
      "Imputing SNPs 27601:28000\n",
      "Imputing SNPs 28001:28400\n",
      "Imputing SNPs 28401:28800\n",
      "Imputing SNPs 28801:29200\n",
      "Imputing SNPs 29201:29600\n",
      "Imputing SNPs 29601:30000\n",
      "Imputing SNPs 30001:30400\n",
      "Imputing SNPs 30401:30800\n",
      "Imputing SNPs 30801:31200\n",
      "Imputing SNPs 31201:31600\n",
      "Imputing SNPs 31601:32000\n",
      "Imputing SNPs 32001:32400\n",
      "Imputing SNPs 32401:32800\n",
      "Imputing SNPs 32801:33200\n",
      "Imputing SNPs 33201:33600\n",
      "Imputing SNPs 33601:34000\n",
      "Imputing SNPs 34001:34400\n",
      "Imputing SNPs 34401:34800\n",
      "Imputing SNPs 34801:35200\n",
      "Imputing SNPs 35201:35600\n",
      "Imputing SNPs 35601:36000\n",
      "Imputing SNPs 36001:36498\n",
      " Count File                        Line Function                               \n",
      " 13325 ./<missing>                   -1 anonymous                              \n",
      "    51 ./abstractarray.jl           906 _getindex                              \n",
      "     4 ./abstractarray.jl           984 _setindex!                             \n",
      "   136 ./abstractarray.jl           362 checkbounds                            \n",
      "     1 ./abstractarray.jl           763 eachindex                              \n",
      "    55 ./abstractarray.jl           882 getindex                               \n",
      "     1 ./abstractarray.jl            71 indices1                               \n",
      "     2 ./abstractarray.jl          1496 isequal(::SubArray{Float32,1,Array{... \n",
      "    82 ./abstractarray.jl          1503 isequal(::SubArray{Float32,1,Array{... \n",
      "    40 ./abstractarray.jl          1504 isequal(::SubArray{Float32,1,Array{... \n",
      "     1 ./abstractarray.jl           131 length                                 \n",
      "   718 ./abstractarray.jl          1512 lexcmp(::SubArray{Float32,1,Array{F... \n",
      "   553 ./abstractarray.jl          1513 lexcmp(::SubArray{Float32,1,Array{F... \n",
      "     6 ./abstractarray.jl          1514 lexcmp(::SubArray{Float32,1,Array{F... \n",
      "     1 ./abstractarray.jl          1516 lexcmp(::SubArray{Float32,1,Array{F... \n",
      "   678 ./abstractarray.jl           759 next                                   \n",
      "     4 ./abstractarray.jl           967 setindex!                              \n",
      "     2 ./abstractarray.jl           758 start                                  \n",
      "     2 ./abstractarray.jl            75 unsafe_indices                         \n",
      "     1 ./array.jl                   228 fill!(::Array{Float32,2}, ::Float32)   \n",
      "     2 ./array.jl                   737 resize!(::Array{UInt8,1}, ::UInt64)    \n",
      "     1 ./array.jl                   742 resize!(::Array{UInt8,1}, ::Int64)     \n",
      "     1 ./array.jl                   788 shift!(::Array{Task,1})                \n",
      "     4 ./cartesian.jl                64 macro expansion                        \n",
      "     1 ./dates/io.jl                213 format(::JSON.Writer.StringContext{... \n",
      "     1 ./dates/io.jl                443 format(::JSON.Writer.StringContext{... \n",
      "     1 ./dates/io.jl                447 macro expansion                        \n",
      "     1 ./dates/io.jl                502 show                                   \n",
      "     2 ./dict.jl                    117 Dict{String,Any}(::Tuple{Pair{Strin... \n",
      "     1 ./dict.jl                    473 getindex                               \n",
      "     1 ./dict.jl                    353 ht_keyindex2(::Dict{Ptr{Void},Any},... \n",
      "     1 ./dict.jl                    421 setindex!(::Dict{Ptr{Void},Any}, ::... \n",
      "     3 ./event.jl                   430 (::Base.##300#301{IJulia.#send_stdo... \n",
      "    14 ./event.jl                   436 (::Base.##300#301{IJulia.#send_stdo... \n",
      "     2 ./event.jl                   310 Type                                   \n",
      "     1 ./event.jl                    49 notify(::Condition, ::Void, ::Bool,... \n",
      "     3 ./event.jl                    27 wait(::Condition)                      \n",
      "     2 ./event.jl                   216 wait()                                 \n",
      "     1 ./event.jl                   223 wait()                                 \n",
      "     2 ./event.jl                   241 wait()                                 \n",
      "     3 ./event.jl                   357 wait(::Timer)                          \n",
      "     2 ./event.jl                   161 yield(::Task, ::Any)                   \n",
      "     1 ./indices.jl                 213 to_indices                             \n",
      "     4 ./io.jl                       81 unsafe_write(::JSON.Writer.CompactC... \n",
      "     2 ./io.jl                      313 write(::JSON.Writer.CompactContext{... \n",
      "     1 ./io.jl                      332 write(::JSON.Writer.StringContext{J... \n",
      "     2 ./iobuffer.jl                237 ensureroom                             \n",
      "     2 ./iobuffer.jl                347 write                                  \n",
      "   401 ./iterators.jl               183 next                                   \n",
      "   277 ./iterators.jl               184 next                                   \n",
      "     2 ./iterators.jl               181 start                                  \n",
      "     2 ./libuv.jl                    82 process_events                         \n",
      "     2 ./libuv.jl                    84 process_events                         \n",
      "    37 ./linalg/blas.jl            1027 gemm!(::Char, ::Char, ::Float32, ::... \n",
      "    21 ./linalg/blas.jl            1207 syrk!(::Char, ::Char, ::Float32, ::... \n",
      "    45 ./linalg/matmul.jl           191 A_mul_Bt!                              \n",
      "     2 ./linalg/matmul.jl           239 copytri!(::Array{Float32,2}, ::Char... \n",
      "    21 ./linalg/matmul.jl           240 copytri!(::Array{Float32,2}, ::Char... \n",
      "    37 ./linalg/matmul.jl           367 gemm_wrapper!(::Array{Float32,2}, :... \n",
      "    45 ./linalg/matmul.jl           293 syrk_wrapper!(::Array{Float32,2}, :... \n",
      " 13325 ./loading.jl                 515 include_string(::String, ::String)     \n",
      "     1 ./multidimensional.jl        324 Type                                   \n",
      "     1 ./multidimensional.jl        328 Type                                   \n",
      "     4 ./multidimensional.jl        438 _getindex                              \n",
      "     1 ./multidimensional.jl        413 _maybe_linear_logical_index            \n",
      "     4 ./multidimensional.jl        466 _unsafe_getindex!                      \n",
      "     4 ./multidimensional.jl        453 _unsafe_getindex(::IndexLinear, ::N... \n",
      "     5 ./multidimensional.jl        804 copy!(::SubArray{Float32,2,Array{Fl... \n",
      "    34 ./multidimensional.jl        805 copy!(::SubArray{Float32,2,Array{Fl... \n",
      "     4 ./multidimensional.jl        442 macro expansion                        \n",
      "     4 ./multidimensional.jl        460 macro expansion                        \n",
      "     4 ./multidimensional.jl        472 macro expansion                        \n",
      "     4 ./multidimensional.jl        474 macro expansion                        \n",
      "     1 ./multidimensional.jl        407 to_indices                             \n",
      "     1 ./multidimensional.jl        410 to_indices                             \n",
      "   553 ./operators.jl               267 lexcmp                                 \n",
      "  1285 ./ordering.jl                 57 lt                                     \n",
      "     1 ./pair.jl                      4 Pair(::String, ::String)               \n",
      "     1 ./pair.jl                     15 indexed_next(::Pair{String,DateTime... \n",
      " 13325 ./profile.jl                  23 macro expansion                        \n",
      "     1 ./reduce.jl                  699 count(::Base.##138#139, ::Array{Boo... \n",
      "    21 ./simdloop.jl                 73 macro expansion                        \n",
      "  1297 ./sort.jl                    660 #sortperm!#12(::Base.Sort.QuickSort... \n",
      "    32 ./sort.jl                    303 partition!(::Array{Int64,1}, ::Int6... \n",
      "   269 ./sort.jl                    308 partition!(::Array{Int64,1}, ::Int6... \n",
      "   281 ./sort.jl                    309 partition!(::Array{Int64,1}, ::Int6... \n",
      "     1 ./sort.jl                    311 partition!(::Array{Int64,1}, ::Int6... \n",
      "     1 ./sort.jl                    318 partition!(::Array{Int64,1}, ::Int6... \n",
      "    10 ./sort.jl                    278 selectpivot!                           \n",
      "    13 ./sort.jl                    281 selectpivot!                           \n",
      "     9 ./sort.jl                    282 selectpivot!                           \n",
      "     1 ./sort.jl                    250 sort!(::Array{Int64,1}, ::Int64, ::... \n",
      "   707 ./sort.jl                    252 sort!(::Array{Int64,1}, ::Int64, ::... \n",
      "     5 ./sort.jl                    259 sort!(::Array{Int64,1}, ::Int64, ::... \n",
      "   713 ./sort.jl                    323 sort!(::Array{Int64,1}, ::Int64, ::... \n",
      "   584 ./sort.jl                    324 sort!(::Array{Int64,1}, ::Int64, ::... \n",
      "  1202 ./sort.jl                    329 sort!(::Array{Int64,1}, ::Int64, ::... \n",
      "   865 ./sort.jl                    332 sort!(::Array{Int64,1}, ::Int64, ::... \n",
      "  1297 ./sort.jl                    435 sort!(::Array{Int64,1}, ::Base.Sort... \n",
      "     1 ./stream.jl                  489 (::Base.#readcb_specialized#344)(::... \n",
      "     3 ./stream.jl                   42 stream_wait(::Timer, ::Condition, :... \n",
      "     1 ./stream.jl                  832 unsafe_write(::Base.PipeEndpoint, :... \n",
      "     2 ./stream.jl                  452 uv_alloc_buf(::Ptr{Void}, ::UInt64,... \n",
      "     1 ./stream.jl                  506 uv_readcb(::Ptr{Void}, ::Int64, ::P... \n",
      "     1 ./stream.jl                  811 uv_write(::Base.PipeEndpoint, ::Ptr... \n",
      "     3 ./strings/io.jl               66 #sprint#228(::Void, ::Function, ::I... \n",
      "     1 ./strings/io.jl               68 #sprint#228(::Void, ::Function, ::I... \n",
      "     1 ./strings/io.jl               29 print(::JSON.Writer.StringContext{J... \n",
      "     1 ./strings/io.jl               40 print(::Base.PipeEndpoint, ::String... \n",
      "     1 ./strings/io.jl              122 print(::Base.PipeEndpoint, ::String)   \n",
      "     2 ./strings/io.jl              122 print                                  \n",
      "     2 ./subarray.jl                320 _indices_sub                           \n",
      "     2 ./subarray.jl                323 _indices_sub                           \n",
      "     4 ./subarray.jl                220 fillgeno!(::SubArray{Float32,2,Arra... \n",
      "  7764 ./subarray.jl                185 getindex                               \n",
      "   144 ./subarray.jl                192 getindex                               \n",
      "   534 ./subarray.jl                193 getindex                               \n",
      "    73 ./subarray.jl                201 getindex                               \n",
      "     2 ./subarray.jl                318 indices                                \n",
      "    11 ./subarray.jl                220 setindex!                              \n",
      "     1 ./subarray.jl                 56 size                                   \n",
      "     1 ./subarray.jl                112 view                                   \n",
      " 13325 ./task.jl                    335 (::IJulia.##11#14)()                   \n",
      "     1 ./task.jl                    335 (::IJulia.##7#9)()                     \n",
      " 13325 ...IJulia/src/eventloop.jl     8 eventloop(::ZMQ.Socket)                \n",
      "     1 ...IJulia/src/eventloop.jl    22 macro expansion                        \n",
      " 13325 .../src/execute_request.jl   160 execute_request(::ZMQ.Socket, ::IJu... \n",
      "     4 .../v0.6/IJulia/src/msg.jl    18 msg_header(::IJulia.Msg, ::String)     \n",
      "     8 .../v0.6/IJulia/src/msg.jl    30 msg_pub(::IJulia.Msg, ::String, ::D... \n",
      "     1 .../v0.6/IJulia/src/msg.jl    48 send_ipython(::ZMQ.Socket, ::IJulia... \n",
      "     1 .../v0.6/IJulia/src/msg.jl    50 send_ipython(::ZMQ.Socket, ::IJulia... \n",
      "     4 .../v0.6/IJulia/src/msg.jl    51 send_ipython(::ZMQ.Socket, ::IJulia... \n",
      "     2 .../v0.6/IJulia/src/msg.jl    54 send_ipython(::ZMQ.Socket, ::IJulia... \n",
      "     1 .../v0.6/IJulia/src/msg.jl    55 send_ipython(::ZMQ.Socket, ::IJulia... \n",
      "     1 .../v0.6/IJulia/src/msg.jl    61 send_ipython(::ZMQ.Socket, ::IJulia... \n",
      "     1 ...0.6/IJulia/src/stdio.jl   230 flush(::Base.PipeEndpoint)             \n",
      "     1 ...0.6/IJulia/src/stdio.jl   212 flush_all                              \n",
      "    14 ...0.6/IJulia/src/stdio.jl    88 send_stdio(::String)                   \n",
      "    14 ...0.6/IJulia/src/stdio.jl   130 send_stream(::String)                  \n",
      "     3 ...v0.6/JSON/src/Writer.jl   329 #show_json#3(::Void, ::Function, ::... \n",
      "     3 ...v0.6/JSON/src/Writer.jl   337 print(::Base.AbstractIOBuffer{Array... \n",
      "     3 ...v0.6/JSON/src/Writer.jl   246 show_json(::JSON.Writer.CompactCont... \n",
      "     3 ...v0.6/JSON/src/Writer.jl   280 show_json(::JSON.Writer.CompactCont... \n",
      "     3 ...v0.6/JSON/src/Writer.jl   193 show_string                            \n",
      "     2 ...v0.6/JSON/src/Writer.jl   117 write(::JSON.Writer.CompactContext{... \n",
      "     5 ...pute/src/haplotyping.jl   188 fillgeno!(::SubArray{Float32,2,Arra... \n",
      "    39 ...pute/src/haplotyping.jl   189 fillgeno!(::SubArray{Float32,2,Arra... \n",
      "    32 ...pute/src/haplotyping.jl   160 fillmissing!(::NullableArrays.Nulla... \n",
      "    31 ...pute/src/haplotyping.jl   161 fillmissing!(::NullableArrays.Nulla... \n",
      "    62 ...pute/src/haplotyping.jl   162 fillmissing!(::NullableArrays.Nulla... \n",
      "    18 ...pute/src/haplotyping.jl   163 fillmissing!(::NullableArrays.Nulla... \n",
      "     1 ...pute/src/haplotyping.jl   164 fillmissing!(::NullableArrays.Nulla... \n",
      "  1297 ...pute/src/haplotyping.jl   450 finduniquerows!(::Array{Bool,1}, ::... \n",
      "   126 ...pute/src/haplotyping.jl   455 finduniquerows!(::Array{Bool,1}, ::... \n",
      "   257 ...pute/src/haplotyping.jl   255 haploimpute!(::NullableArrays.Nulla... \n",
      " 12830 ...pute/src/haplotyping.jl   258 haploimpute!(::NullableArrays.Nulla... \n",
      "   144 ...pute/src/haplotyping.jl   260 haploimpute!(::NullableArrays.Nulla... \n",
      " 13325 ...pute/src/haplotyping.jl   296 haploimpute!(::NullableArrays.Nulla... \n",
      "     1 ...pute/src/haplotyping.jl   299 haploimpute!(::NullableArrays.Nulla... \n",
      "     2 ...pute/src/haplotyping.jl   313 haploimpute!(::NullableArrays.Nulla... \n",
      "   167 ...pute/src/haplotyping.jl   325 haploimpute!(::NullableArrays.Nulla... \n",
      "     2 ...pute/src/haplotyping.jl   333 haploimpute!(::NullableArrays.Nulla... \n",
      "    46 ...pute/src/haplotyping.jl   338 haploimpute!(::NullableArrays.Nulla... \n",
      "     5 ...pute/src/haplotyping.jl   339 haploimpute!(::NullableArrays.Nulla... \n",
      "    27 ...pute/src/haplotyping.jl   343 haploimpute!(::NullableArrays.Nulla... \n",
      "     7 ...pute/src/haplotyping.jl   344 haploimpute!(::NullableArrays.Nulla... \n",
      " 12921 ...pute/src/haplotyping.jl   347 haploimpute!(::NullableArrays.Nulla... \n",
      "     2 ...pute/src/haplotyping.jl   354 haploimpute!(::NullableArrays.Nulla... \n",
      "     1 ...pute/src/haplotyping.jl   358 haploimpute!(::NullableArrays.Nulla... \n",
      "   143 ...pute/src/haplotyping.jl   366 haploimpute!(::NullableArrays.Nulla... \n",
      "     1 ...pute/src/haplotyping.jl   367 haploimpute!(::NullableArrays.Nulla... \n",
      "     8 ...pute/src/haplotyping.jl    29 haplopair!(::Tuple{Array{Int64,1},A... \n",
      "    52 ...pute/src/haplotyping.jl    30 haplopair!(::Tuple{Array{Int64,1},A... \n",
      "     6 ...pute/src/haplotyping.jl    32 haplopair!(::Tuple{Array{Int64,1},A... \n",
      "  8299 ...pute/src/haplotyping.jl    33 haplopair!(::Tuple{Array{Int64,1},A... \n",
      "  2645 ...pute/src/haplotyping.jl    34 haplopair!(::Tuple{Array{Int64,1},A... \n",
      "     3 ...pute/src/haplotyping.jl    35 haplopair!(::Tuple{Array{Int64,1},A... \n",
      "   206 ...pute/src/haplotyping.jl    37 haplopair!(::Tuple{Array{Int64,1},A... \n",
      "    45 ...pute/src/haplotyping.jl   106 haplopair!(::Array{Float32,2}, ::Su... \n",
      "    65 ...pute/src/haplotyping.jl   108 haplopair!(::Array{Float32,2}, ::Su... \n",
      "    37 ...pute/src/haplotyping.jl   113 haplopair!(::Array{Float32,2}, ::Su... \n",
      "     3 ...pute/src/haplotyping.jl   114 haplopair!(::Array{Float32,2}, ::Su... \n",
      "    16 ...pute/src/haplotyping.jl   115 haplopair!(::Array{Float32,2}, ::Su... \n",
      "  1423 ...pute/src/haplotyping.jl   118 haplopair!(::Array{Float32,2}, ::Su... \n",
      "     1 ...pute/src/haplotyping.jl   119 haplopair!(::Array{Float32,2}, ::Su... \n",
      " 11219 ...pute/src/haplotyping.jl   121 haplopair!(::Array{Float32,2}, ::Su... \n",
      "    21 ...pute/src/haplotyping.jl   130 haplopair!(::Array{Float32,2}, ::Su... \n",
      "    57 ...pute/src/haplotyping.jl   206 initmissing!(::NullableArrays.Nulla... \n",
      "    68 ...pute/src/haplotyping.jl   207 initmissing!(::NullableArrays.Nulla... \n",
      "    10 ...pute/src/haplotyping.jl   208 initmissing!(::NullableArrays.Nulla... \n",
      "    63 ...pute/src/haplotyping.jl   209 initmissing!(::NullableArrays.Nulla... \n",
      "    20 ...pute/src/haplotyping.jl   214 initmissing!(::NullableArrays.Nulla... \n",
      "     6 ...pute/src/haplotyping.jl   215 initmissing!(::NullableArrays.Nulla... \n",
      "    33 ...pute/src/haplotyping.jl   216 initmissing!(::NullableArrays.Nulla... \n",
      "    21 ...pute/src/haplotyping.jl   131 macro expansion                        \n",
      "     1 ...eArrays/src/indexing.jl    56 setindex!                              \n",
      "     2 ...eArrays/src/indexing.jl    59 setindex!                              \n",
      "     1 ...eArrays/src/indexing.jl    60 setindex!                              \n",
      "     3 ...lia/v0.6/ZMQ/src/ZMQ.jl   393 ZMQ.Message(::String, ::Ptr{UInt8},... \n",
      "     2 ...lia/v0.6/ZMQ/src/ZMQ.jl   344 gc_protect_handle(::String)            \n",
      "     1 ...lia/v0.6/ZMQ/src/ZMQ.jl   345 gc_protect_handle(::String)            \n"
     ]
    }
   ],
   "source": [
    "Profile.clear()\n",
    "@profile haploimpute!(Xm, H, 400)\n",
    "Profile.print(format=:flat)"
   ]
  },
  {
   "cell_type": "markdown",
   "metadata": {},
   "source": [
    "Effect of window size on accuracy and efficiency"
   ]
  },
  {
   "cell_type": "code",
   "execution_count": 28,
   "metadata": {
    "collapsed": false
   },
   "outputs": [
    {
     "name": "stdout",
     "output_type": "stream",
     "text": [
      "width = 100, time = 22.351066505, error rate = 0.008510803299875053\n",
      "width = 200, time = 21.350882231, error rate = 0.004886121805303412\n",
      "width = 300, time = 19.898207695, error rate = 0.004359765416652744\n",
      "width = 400, time = 18.010435937, error rate = 0.004465366698388301\n",
      "width = 500, time = 14.574663724, error rate = 0.004874571665113585\n",
      "width = 600, time = 13.338330273, error rate = 0.00557541767163199\n",
      "width = 700, time = 11.927481581, error rate = 0.0061009490502690975\n",
      "width = 800, time = 10.181323544, error rate = 0.0069078088435298385\n",
      "width = 900, time = 10.225013411, error rate = 0.007566991844363511\n",
      "width = 1000, time = 8.439951836, error rate = 0.008076848032742997\n",
      "width = 1100, time = 8.904734978, error rate = 0.00872860594345464\n"
     ]
    }
   ],
   "source": [
    "width_range = 100:100:1200\n",
    "timing = zeros(length(width_range))\n",
    "errate = zeros(length(width_range))\n",
    "for i in eachindex(width_range)\n",
    "    tic()\n",
    "    copy!(Xm.values, rawdata[1:people, 1:(end - 1)])\n",
    "    haploimpute!(Xm, H, width_range[i], 1, 1e-3, false)\n",
    "    timing[i] = toq()\n",
    "    missing_impute = round.(Int, Xm.values[Xm.isnull])\n",
    "    errate[i] = countnz(missing_true .≠ missing_impute) / length(missing_true)\n",
    "    println(\"width = $(width_range[i]), time = $(timing[i]), error rate = $(errate[i])\")\n",
    "end"
   ]
  },
  {
   "cell_type": "code",
   "execution_count": 29,
   "metadata": {
    "collapsed": false
   },
   "outputs": [
    {
     "data": {
      "text/html": [
       "<?xml version=\"1.0\" encoding=\"utf-8\"?>\n",
       "<svg xmlns=\"http://www.w3.org/2000/svg\" xmlns:xlink=\"http://www.w3.org/1999/xlink\" width=\"600\" height=\"400\" viewBox=\"0 0 600 400\">\n",
       "<defs>\n",
       "  <clipPath id=\"clip00\">\n",
       "    <rect x=\"0\" y=\"0\" width=\"600\" height=\"400\"/>\n",
       "  </clipPath>\n",
       "</defs>\n",
       "<polygon clip-path=\"url(#clip00)\" points=\"\n",
       "0,400 600,400 600,0 0,0 \n",
       "  \" fill=\"#ffffff\" fill-opacity=\"1\"/>\n",
       "<defs>\n",
       "  <clipPath id=\"clip01\">\n",
       "    <rect x=\"120\" y=\"0\" width=\"421\" height=\"400\"/>\n",
       "  </clipPath>\n",
       "</defs>\n",
       "<polygon clip-path=\"url(#clip00)\" points=\"\n",
       "39.3701,368.504 592.126,368.504 592.126,7.87402 39.3701,7.87402 \n",
       "  \" fill=\"#ffffff\" fill-opacity=\"1\"/>\n",
       "<defs>\n",
       "  <clipPath id=\"clip02\">\n",
       "    <rect x=\"39\" y=\"7\" width=\"554\" height=\"362\"/>\n",
       "  </clipPath>\n",
       "</defs>\n",
       "<polyline clip-path=\"url(#clip02)\" style=\"stroke:#000000; stroke-width:1; stroke-opacity:0.5; fill:none\" stroke-dasharray=\"1, 2\" points=\"\n",
       "  89.6206,363.094 89.6206,13.2835 \n",
       "  \"/>\n",
       "<polyline clip-path=\"url(#clip02)\" style=\"stroke:#000000; stroke-width:1; stroke-opacity:0.5; fill:none\" stroke-dasharray=\"1, 2\" points=\"\n",
       "  190.122,363.094 190.122,13.2835 \n",
       "  \"/>\n",
       "<polyline clip-path=\"url(#clip02)\" style=\"stroke:#000000; stroke-width:1; stroke-opacity:0.5; fill:none\" stroke-dasharray=\"1, 2\" points=\"\n",
       "  290.623,363.094 290.623,13.2835 \n",
       "  \"/>\n",
       "<polyline clip-path=\"url(#clip02)\" style=\"stroke:#000000; stroke-width:1; stroke-opacity:0.5; fill:none\" stroke-dasharray=\"1, 2\" points=\"\n",
       "  391.124,363.094 391.124,13.2835 \n",
       "  \"/>\n",
       "<polyline clip-path=\"url(#clip02)\" style=\"stroke:#000000; stroke-width:1; stroke-opacity:0.5; fill:none\" stroke-dasharray=\"1, 2\" points=\"\n",
       "  491.625,363.094 491.625,13.2835 \n",
       "  \"/>\n",
       "<polyline clip-path=\"url(#clip02)\" style=\"stroke:#000000; stroke-width:1; stroke-opacity:0.5; fill:none\" stroke-dasharray=\"1, 2\" points=\"\n",
       "  592.126,363.094 592.126,13.2835 \n",
       "  \"/>\n",
       "<polyline clip-path=\"url(#clip02)\" style=\"stroke:#000000; stroke-width:1; stroke-opacity:0.5; fill:none\" stroke-dasharray=\"1, 2\" points=\"\n",
       "  47.6614,302.793 583.835,302.793 \n",
       "  \"/>\n",
       "<polyline clip-path=\"url(#clip02)\" style=\"stroke:#000000; stroke-width:1; stroke-opacity:0.5; fill:none\" stroke-dasharray=\"1, 2\" points=\"\n",
       "  47.6614,183.403 583.835,183.403 \n",
       "  \"/>\n",
       "<polyline clip-path=\"url(#clip02)\" style=\"stroke:#000000; stroke-width:1; stroke-opacity:0.5; fill:none\" stroke-dasharray=\"1, 2\" points=\"\n",
       "  47.6614,64.0129 583.835,64.0129 \n",
       "  \"/>\n",
       "<polyline clip-path=\"url(#clip00)\" style=\"stroke:#000000; stroke-width:1; stroke-opacity:1; fill:none\" points=\"\n",
       "  39.3701,368.504 592.126,368.504 \n",
       "  \"/>\n",
       "<polyline clip-path=\"url(#clip00)\" style=\"stroke:#000000; stroke-width:1; stroke-opacity:1; fill:none\" points=\"\n",
       "  89.6206,368.504 89.6206,363.094 \n",
       "  \"/>\n",
       "<polyline clip-path=\"url(#clip00)\" style=\"stroke:#000000; stroke-width:1; stroke-opacity:1; fill:none\" points=\"\n",
       "  190.122,368.504 190.122,363.094 \n",
       "  \"/>\n",
       "<polyline clip-path=\"url(#clip00)\" style=\"stroke:#000000; stroke-width:1; stroke-opacity:1; fill:none\" points=\"\n",
       "  290.623,368.504 290.623,363.094 \n",
       "  \"/>\n",
       "<polyline clip-path=\"url(#clip00)\" style=\"stroke:#000000; stroke-width:1; stroke-opacity:1; fill:none\" points=\"\n",
       "  391.124,368.504 391.124,363.094 \n",
       "  \"/>\n",
       "<polyline clip-path=\"url(#clip00)\" style=\"stroke:#000000; stroke-width:1; stroke-opacity:1; fill:none\" points=\"\n",
       "  491.625,368.504 491.625,363.094 \n",
       "  \"/>\n",
       "<polyline clip-path=\"url(#clip00)\" style=\"stroke:#000000; stroke-width:1; stroke-opacity:1; fill:none\" points=\"\n",
       "  592.126,368.504 592.126,363.094 \n",
       "  \"/>\n",
       "<polyline clip-path=\"url(#clip00)\" style=\"stroke:#000000; stroke-width:1; stroke-opacity:1; fill:none\" points=\"\n",
       "  39.3701,368.504 39.3701,7.87402 \n",
       "  \"/>\n",
       "<polyline clip-path=\"url(#clip00)\" style=\"stroke:#000000; stroke-width:1; stroke-opacity:1; fill:none\" points=\"\n",
       "  39.3701,302.793 47.6614,302.793 \n",
       "  \"/>\n",
       "<polyline clip-path=\"url(#clip00)\" style=\"stroke:#000000; stroke-width:1; stroke-opacity:1; fill:none\" points=\"\n",
       "  39.3701,183.403 47.6614,183.403 \n",
       "  \"/>\n",
       "<polyline clip-path=\"url(#clip00)\" style=\"stroke:#000000; stroke-width:1; stroke-opacity:1; fill:none\" points=\"\n",
       "  39.3701,64.0129 47.6614,64.0129 \n",
       "  \"/>\n",
       "<g clip-path=\"url(#clip00)\">\n",
       "<text style=\"fill:#000000; fill-opacity:1; font-family:Arial,Helvetica Neue,Helvetica,sans-serif; font-size:12; text-anchor:middle;\" transform=\"rotate(0, 89.6206, 382.304)\" x=\"89.6206\" y=\"382.304\">200</text>\n",
       "</g>\n",
       "<g clip-path=\"url(#clip00)\">\n",
       "<text style=\"fill:#000000; fill-opacity:1; font-family:Arial,Helvetica Neue,Helvetica,sans-serif; font-size:12; text-anchor:middle;\" transform=\"rotate(0, 190.122, 382.304)\" x=\"190.122\" y=\"382.304\">400</text>\n",
       "</g>\n",
       "<g clip-path=\"url(#clip00)\">\n",
       "<text style=\"fill:#000000; fill-opacity:1; font-family:Arial,Helvetica Neue,Helvetica,sans-serif; font-size:12; text-anchor:middle;\" transform=\"rotate(0, 290.623, 382.304)\" x=\"290.623\" y=\"382.304\">600</text>\n",
       "</g>\n",
       "<g clip-path=\"url(#clip00)\">\n",
       "<text style=\"fill:#000000; fill-opacity:1; font-family:Arial,Helvetica Neue,Helvetica,sans-serif; font-size:12; text-anchor:middle;\" transform=\"rotate(0, 391.124, 382.304)\" x=\"391.124\" y=\"382.304\">800</text>\n",
       "</g>\n",
       "<g clip-path=\"url(#clip00)\">\n",
       "<text style=\"fill:#000000; fill-opacity:1; font-family:Arial,Helvetica Neue,Helvetica,sans-serif; font-size:12; text-anchor:middle;\" transform=\"rotate(0, 491.625, 382.304)\" x=\"491.625\" y=\"382.304\">1000</text>\n",
       "</g>\n",
       "<g clip-path=\"url(#clip00)\">\n",
       "<text style=\"fill:#000000; fill-opacity:1; font-family:Arial,Helvetica Neue,Helvetica,sans-serif; font-size:12; text-anchor:middle;\" transform=\"rotate(0, 592.126, 382.304)\" x=\"592.126\" y=\"382.304\">1200</text>\n",
       "</g>\n",
       "<g clip-path=\"url(#clip00)\">\n",
       "<text style=\"fill:#000000; fill-opacity:1; font-family:Arial,Helvetica Neue,Helvetica,sans-serif; font-size:12; text-anchor:end;\" transform=\"rotate(0, 33.3701, 307.293)\" x=\"33.3701\" y=\"307.293\">10</text>\n",
       "</g>\n",
       "<g clip-path=\"url(#clip00)\">\n",
       "<text style=\"fill:#000000; fill-opacity:1; font-family:Arial,Helvetica Neue,Helvetica,sans-serif; font-size:12; text-anchor:end;\" transform=\"rotate(0, 33.3701, 187.903)\" x=\"33.3701\" y=\"187.903\">15</text>\n",
       "</g>\n",
       "<g clip-path=\"url(#clip00)\">\n",
       "<text style=\"fill:#000000; fill-opacity:1; font-family:Arial,Helvetica Neue,Helvetica,sans-serif; font-size:12; text-anchor:end;\" transform=\"rotate(0, 33.3701, 68.5129)\" x=\"33.3701\" y=\"68.5129\">20</text>\n",
       "</g>\n",
       "<g clip-path=\"url(#clip00)\">\n",
       "<text style=\"fill:#000000; fill-opacity:1; font-family:Arial,Helvetica Neue,Helvetica,sans-serif; font-size:16; text-anchor:middle;\" transform=\"rotate(0, 315.748, 397.6)\" x=\"315.748\" y=\"397.6\">Window width</text>\n",
       "</g>\n",
       "<g clip-path=\"url(#clip00)\">\n",
       "<text style=\"fill:#000000; fill-opacity:1; font-family:Arial,Helvetica Neue,Helvetica,sans-serif; font-size:16; text-anchor:middle;\" transform=\"rotate(-90, 14.4, 188.189)\" x=\"14.4\" y=\"188.189\">Run time in seconds</text>\n",
       "</g>\n",
       "<polyline clip-path=\"url(#clip02)\" style=\"stroke:#009af9; stroke-width:1; stroke-opacity:1; fill:none\" points=\"\n",
       "  39.3701,7.87402 89.6206,31.7565 139.871,66.4435 190.122,111.52 240.372,193.559 290.623,223.081 340.873,256.769 391.124,298.464 441.374,297.421 491.625,340.044 \n",
       "  541.875,328.946 592.126,368.504 \n",
       "  \"/>\n",
       "<polygon clip-path=\"url(#clip00)\" points=\"\n",
       "501.61,58.994 574.126,58.994 574.126,28.754 501.61,28.754 \n",
       "  \" fill=\"#ffffff\" fill-opacity=\"1\"/>\n",
       "<polyline clip-path=\"url(#clip00)\" style=\"stroke:#000000; stroke-width:1; stroke-opacity:1; fill:none\" points=\"\n",
       "  501.61,58.994 574.126,58.994 574.126,28.754 501.61,28.754 501.61,58.994 \n",
       "  \"/>\n",
       "<polyline clip-path=\"url(#clip00)\" style=\"stroke:#009af9; stroke-width:1; stroke-opacity:1; fill:none\" points=\"\n",
       "  507.61,43.874 543.61,43.874 \n",
       "  \"/>\n",
       "<g clip-path=\"url(#clip00)\">\n",
       "<text style=\"fill:#000000; fill-opacity:1; font-family:Arial,Helvetica Neue,Helvetica,sans-serif; font-size:12; text-anchor:start;\" transform=\"rotate(0, 549.61, 48.374)\" x=\"549.61\" y=\"48.374\">y1</text>\n",
       "</g>\n",
       "</svg>\n"
      ]
     },
     "execution_count": 29,
     "metadata": {},
     "output_type": "execute_result"
    }
   ],
   "source": [
    "using Plots\n",
    "gr()\n",
    "\n",
    "plot(width_range, timing; xlabel = \"Window width\", ylabel = \"Run time in seconds\")"
   ]
  },
  {
   "cell_type": "code",
   "execution_count": 30,
   "metadata": {
    "collapsed": false
   },
   "outputs": [
    {
     "data": {
      "text/html": [
       "<?xml version=\"1.0\" encoding=\"utf-8\"?>\n",
       "<svg xmlns=\"http://www.w3.org/2000/svg\" xmlns:xlink=\"http://www.w3.org/1999/xlink\" width=\"600\" height=\"400\" viewBox=\"0 0 600 400\">\n",
       "<defs>\n",
       "  <clipPath id=\"clip00\">\n",
       "    <rect x=\"0\" y=\"0\" width=\"600\" height=\"400\"/>\n",
       "  </clipPath>\n",
       "</defs>\n",
       "<polygon clip-path=\"url(#clip00)\" points=\"\n",
       "0,400 600,400 600,0 0,0 \n",
       "  \" fill=\"#ffffff\" fill-opacity=\"1\"/>\n",
       "<defs>\n",
       "  <clipPath id=\"clip01\">\n",
       "    <rect x=\"120\" y=\"0\" width=\"421\" height=\"400\"/>\n",
       "  </clipPath>\n",
       "</defs>\n",
       "<polygon clip-path=\"url(#clip00)\" points=\"\n",
       "39.3701,368.504 592.126,368.504 592.126,7.87402 39.3701,7.87402 \n",
       "  \" fill=\"#ffffff\" fill-opacity=\"1\"/>\n",
       "<defs>\n",
       "  <clipPath id=\"clip02\">\n",
       "    <rect x=\"39\" y=\"7\" width=\"554\" height=\"362\"/>\n",
       "  </clipPath>\n",
       "</defs>\n",
       "<polyline clip-path=\"url(#clip02)\" style=\"stroke:#000000; stroke-width:1; stroke-opacity:0.5; fill:none\" stroke-dasharray=\"1, 2\" points=\"\n",
       "  89.6206,363.094 89.6206,13.2835 \n",
       "  \"/>\n",
       "<polyline clip-path=\"url(#clip02)\" style=\"stroke:#000000; stroke-width:1; stroke-opacity:0.5; fill:none\" stroke-dasharray=\"1, 2\" points=\"\n",
       "  190.122,363.094 190.122,13.2835 \n",
       "  \"/>\n",
       "<polyline clip-path=\"url(#clip02)\" style=\"stroke:#000000; stroke-width:1; stroke-opacity:0.5; fill:none\" stroke-dasharray=\"1, 2\" points=\"\n",
       "  290.623,363.094 290.623,13.2835 \n",
       "  \"/>\n",
       "<polyline clip-path=\"url(#clip02)\" style=\"stroke:#000000; stroke-width:1; stroke-opacity:0.5; fill:none\" stroke-dasharray=\"1, 2\" points=\"\n",
       "  391.124,363.094 391.124,13.2835 \n",
       "  \"/>\n",
       "<polyline clip-path=\"url(#clip02)\" style=\"stroke:#000000; stroke-width:1; stroke-opacity:0.5; fill:none\" stroke-dasharray=\"1, 2\" points=\"\n",
       "  491.625,363.094 491.625,13.2835 \n",
       "  \"/>\n",
       "<polyline clip-path=\"url(#clip02)\" style=\"stroke:#000000; stroke-width:1; stroke-opacity:0.5; fill:none\" stroke-dasharray=\"1, 2\" points=\"\n",
       "  592.126,363.094 592.126,13.2835 \n",
       "  \"/>\n",
       "<polyline clip-path=\"url(#clip02)\" style=\"stroke:#000000; stroke-width:1; stroke-opacity:0.5; fill:none\" stroke-dasharray=\"1, 2\" points=\"\n",
       "  47.6614,322.685 583.835,322.685 \n",
       "  \"/>\n",
       "<polyline clip-path=\"url(#clip02)\" style=\"stroke:#000000; stroke-width:1; stroke-opacity:0.5; fill:none\" stroke-dasharray=\"1, 2\" points=\"\n",
       "  47.6614,251.12 583.835,251.12 \n",
       "  \"/>\n",
       "<polyline clip-path=\"url(#clip02)\" style=\"stroke:#000000; stroke-width:1; stroke-opacity:0.5; fill:none\" stroke-dasharray=\"1, 2\" points=\"\n",
       "  47.6614,179.554 583.835,179.554 \n",
       "  \"/>\n",
       "<polyline clip-path=\"url(#clip02)\" style=\"stroke:#000000; stroke-width:1; stroke-opacity:0.5; fill:none\" stroke-dasharray=\"1, 2\" points=\"\n",
       "  47.6614,107.989 583.835,107.989 \n",
       "  \"/>\n",
       "<polyline clip-path=\"url(#clip02)\" style=\"stroke:#000000; stroke-width:1; stroke-opacity:0.5; fill:none\" stroke-dasharray=\"1, 2\" points=\"\n",
       "  47.6614,36.4234 583.835,36.4234 \n",
       "  \"/>\n",
       "<polyline clip-path=\"url(#clip00)\" style=\"stroke:#000000; stroke-width:1; stroke-opacity:1; fill:none\" points=\"\n",
       "  39.3701,368.504 592.126,368.504 \n",
       "  \"/>\n",
       "<polyline clip-path=\"url(#clip00)\" style=\"stroke:#000000; stroke-width:1; stroke-opacity:1; fill:none\" points=\"\n",
       "  89.6206,368.504 89.6206,363.094 \n",
       "  \"/>\n",
       "<polyline clip-path=\"url(#clip00)\" style=\"stroke:#000000; stroke-width:1; stroke-opacity:1; fill:none\" points=\"\n",
       "  190.122,368.504 190.122,363.094 \n",
       "  \"/>\n",
       "<polyline clip-path=\"url(#clip00)\" style=\"stroke:#000000; stroke-width:1; stroke-opacity:1; fill:none\" points=\"\n",
       "  290.623,368.504 290.623,363.094 \n",
       "  \"/>\n",
       "<polyline clip-path=\"url(#clip00)\" style=\"stroke:#000000; stroke-width:1; stroke-opacity:1; fill:none\" points=\"\n",
       "  391.124,368.504 391.124,363.094 \n",
       "  \"/>\n",
       "<polyline clip-path=\"url(#clip00)\" style=\"stroke:#000000; stroke-width:1; stroke-opacity:1; fill:none\" points=\"\n",
       "  491.625,368.504 491.625,363.094 \n",
       "  \"/>\n",
       "<polyline clip-path=\"url(#clip00)\" style=\"stroke:#000000; stroke-width:1; stroke-opacity:1; fill:none\" points=\"\n",
       "  592.126,368.504 592.126,363.094 \n",
       "  \"/>\n",
       "<polyline clip-path=\"url(#clip00)\" style=\"stroke:#000000; stroke-width:1; stroke-opacity:1; fill:none\" points=\"\n",
       "  39.3701,368.504 39.3701,7.87402 \n",
       "  \"/>\n",
       "<polyline clip-path=\"url(#clip00)\" style=\"stroke:#000000; stroke-width:1; stroke-opacity:1; fill:none\" points=\"\n",
       "  39.3701,322.685 47.6614,322.685 \n",
       "  \"/>\n",
       "<polyline clip-path=\"url(#clip00)\" style=\"stroke:#000000; stroke-width:1; stroke-opacity:1; fill:none\" points=\"\n",
       "  39.3701,251.12 47.6614,251.12 \n",
       "  \"/>\n",
       "<polyline clip-path=\"url(#clip00)\" style=\"stroke:#000000; stroke-width:1; stroke-opacity:1; fill:none\" points=\"\n",
       "  39.3701,179.554 47.6614,179.554 \n",
       "  \"/>\n",
       "<polyline clip-path=\"url(#clip00)\" style=\"stroke:#000000; stroke-width:1; stroke-opacity:1; fill:none\" points=\"\n",
       "  39.3701,107.989 47.6614,107.989 \n",
       "  \"/>\n",
       "<polyline clip-path=\"url(#clip00)\" style=\"stroke:#000000; stroke-width:1; stroke-opacity:1; fill:none\" points=\"\n",
       "  39.3701,36.4234 47.6614,36.4234 \n",
       "  \"/>\n",
       "<g clip-path=\"url(#clip00)\">\n",
       "<text style=\"fill:#000000; fill-opacity:1; font-family:Arial,Helvetica Neue,Helvetica,sans-serif; font-size:12; text-anchor:middle;\" transform=\"rotate(0, 89.6206, 382.304)\" x=\"89.6206\" y=\"382.304\">200</text>\n",
       "</g>\n",
       "<g clip-path=\"url(#clip00)\">\n",
       "<text style=\"fill:#000000; fill-opacity:1; font-family:Arial,Helvetica Neue,Helvetica,sans-serif; font-size:12; text-anchor:middle;\" transform=\"rotate(0, 190.122, 382.304)\" x=\"190.122\" y=\"382.304\">400</text>\n",
       "</g>\n",
       "<g clip-path=\"url(#clip00)\">\n",
       "<text style=\"fill:#000000; fill-opacity:1; font-family:Arial,Helvetica Neue,Helvetica,sans-serif; font-size:12; text-anchor:middle;\" transform=\"rotate(0, 290.623, 382.304)\" x=\"290.623\" y=\"382.304\">600</text>\n",
       "</g>\n",
       "<g clip-path=\"url(#clip00)\">\n",
       "<text style=\"fill:#000000; fill-opacity:1; font-family:Arial,Helvetica Neue,Helvetica,sans-serif; font-size:12; text-anchor:middle;\" transform=\"rotate(0, 391.124, 382.304)\" x=\"391.124\" y=\"382.304\">800</text>\n",
       "</g>\n",
       "<g clip-path=\"url(#clip00)\">\n",
       "<text style=\"fill:#000000; fill-opacity:1; font-family:Arial,Helvetica Neue,Helvetica,sans-serif; font-size:12; text-anchor:middle;\" transform=\"rotate(0, 491.625, 382.304)\" x=\"491.625\" y=\"382.304\">1000</text>\n",
       "</g>\n",
       "<g clip-path=\"url(#clip00)\">\n",
       "<text style=\"fill:#000000; fill-opacity:1; font-family:Arial,Helvetica Neue,Helvetica,sans-serif; font-size:12; text-anchor:middle;\" transform=\"rotate(0, 592.126, 382.304)\" x=\"592.126\" y=\"382.304\">1200</text>\n",
       "</g>\n",
       "<g clip-path=\"url(#clip00)\">\n",
       "<text style=\"fill:#000000; fill-opacity:1; font-family:Arial,Helvetica Neue,Helvetica,sans-serif; font-size:12; text-anchor:end;\" transform=\"rotate(0, 33.3701, 327.185)\" x=\"33.3701\" y=\"327.185\">0.005</text>\n",
       "</g>\n",
       "<g clip-path=\"url(#clip00)\">\n",
       "<text style=\"fill:#000000; fill-opacity:1; font-family:Arial,Helvetica Neue,Helvetica,sans-serif; font-size:12; text-anchor:end;\" transform=\"rotate(0, 33.3701, 255.62)\" x=\"33.3701\" y=\"255.62\">0.006</text>\n",
       "</g>\n",
       "<g clip-path=\"url(#clip00)\">\n",
       "<text style=\"fill:#000000; fill-opacity:1; font-family:Arial,Helvetica Neue,Helvetica,sans-serif; font-size:12; text-anchor:end;\" transform=\"rotate(0, 33.3701, 184.054)\" x=\"33.3701\" y=\"184.054\">0.007</text>\n",
       "</g>\n",
       "<g clip-path=\"url(#clip00)\">\n",
       "<text style=\"fill:#000000; fill-opacity:1; font-family:Arial,Helvetica Neue,Helvetica,sans-serif; font-size:12; text-anchor:end;\" transform=\"rotate(0, 33.3701, 112.489)\" x=\"33.3701\" y=\"112.489\">0.008</text>\n",
       "</g>\n",
       "<g clip-path=\"url(#clip00)\">\n",
       "<text style=\"fill:#000000; fill-opacity:1; font-family:Arial,Helvetica Neue,Helvetica,sans-serif; font-size:12; text-anchor:end;\" transform=\"rotate(0, 33.3701, 40.9234)\" x=\"33.3701\" y=\"40.9234\">0.009</text>\n",
       "</g>\n",
       "<g clip-path=\"url(#clip00)\">\n",
       "<text style=\"fill:#000000; fill-opacity:1; font-family:Arial,Helvetica Neue,Helvetica,sans-serif; font-size:16; text-anchor:middle;\" transform=\"rotate(0, 315.748, 397.6)\" x=\"315.748\" y=\"397.6\">Window width</text>\n",
       "</g>\n",
       "<g clip-path=\"url(#clip00)\">\n",
       "<text style=\"fill:#000000; fill-opacity:1; font-family:Arial,Helvetica Neue,Helvetica,sans-serif; font-size:16; text-anchor:middle;\" transform=\"rotate(-90, 14.4, 188.189)\" x=\"14.4\" y=\"188.189\">Error rate</text>\n",
       "</g>\n",
       "<polyline clip-path=\"url(#clip02)\" style=\"stroke:#009af9; stroke-width:1; stroke-opacity:1; fill:none\" points=\"\n",
       "  39.3701,71.433 89.6206,330.835 139.871,368.504 190.122,360.947 240.372,331.662 290.623,281.505 340.873,243.895 391.124,186.152 441.374,138.977 491.625,102.489 \n",
       "  541.875,55.8458 592.126,7.87402 \n",
       "  \"/>\n",
       "<polygon clip-path=\"url(#clip00)\" points=\"\n",
       "501.61,58.994 574.126,58.994 574.126,28.754 501.61,28.754 \n",
       "  \" fill=\"#ffffff\" fill-opacity=\"1\"/>\n",
       "<polyline clip-path=\"url(#clip00)\" style=\"stroke:#000000; stroke-width:1; stroke-opacity:1; fill:none\" points=\"\n",
       "  501.61,58.994 574.126,58.994 574.126,28.754 501.61,28.754 501.61,58.994 \n",
       "  \"/>\n",
       "<polyline clip-path=\"url(#clip00)\" style=\"stroke:#009af9; stroke-width:1; stroke-opacity:1; fill:none\" points=\"\n",
       "  507.61,43.874 543.61,43.874 \n",
       "  \"/>\n",
       "<g clip-path=\"url(#clip00)\">\n",
       "<text style=\"fill:#000000; fill-opacity:1; font-family:Arial,Helvetica Neue,Helvetica,sans-serif; font-size:12; text-anchor:start;\" transform=\"rotate(0, 549.61, 48.374)\" x=\"549.61\" y=\"48.374\">y1</text>\n",
       "</g>\n",
       "</svg>\n"
      ]
     },
     "execution_count": 30,
     "metadata": {},
     "output_type": "execute_result"
    }
   ],
   "source": [
    "plot(width_range, errate; xlabel = \"Window width\", ylabel = \"Error rate\")"
   ]
  }
 ],
 "metadata": {
  "kernelspec": {
   "display_name": "Julia 0.6.0",
   "language": "julia",
   "name": "julia-0.6"
  },
  "language_info": {
   "file_extension": ".jl",
   "mimetype": "application/julia",
   "name": "julia",
   "version": "0.6.0"
  },
  "toc": {
   "colors": {
    "hover_highlight": "#DAA520",
    "running_highlight": "#FF0000",
    "selected_highlight": "#FFD700"
   },
   "moveMenuLeft": true,
   "nav_menu": {
    "height": "65px",
    "width": "252px"
   },
   "navigate_menu": true,
   "number_sections": true,
   "sideBar": true,
   "threshold": 4,
   "toc_cell": false,
   "toc_section_display": "block",
   "toc_window_display": false,
   "widenNotebook": false
  }
 },
 "nbformat": 4,
 "nbformat_minor": 2
}
