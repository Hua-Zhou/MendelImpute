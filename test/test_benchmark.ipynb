{
 "cells": [
  {
   "cell_type": "markdown",
   "metadata": {},
   "source": [
    "# Test and Benchmark"
   ]
  },
  {
   "cell_type": "code",
   "execution_count": 1,
   "metadata": {
    "collapsed": false
   },
   "outputs": [
    {
     "name": "stdout",
     "output_type": "stream",
     "text": [
      "Julia Version 0.5.2\n",
      "Commit f4c6c9d4bb (2017-05-06 16:34 UTC)\n",
      "Platform Info:\n",
      "  OS: macOS (x86_64-apple-darwin13.4.0)\n",
      "  CPU: Intel(R) Core(TM) i7-6920HQ CPU @ 2.90GHz\n",
      "  WORD_SIZE: 64\n",
      "  BLAS: libopenblas (USE64BITINT DYNAMIC_ARCH NO_AFFINITY Haswell)\n",
      "  LAPACK: libopenblas64_\n",
      "  LIBM: libopenlibm\n",
      "  LLVM: libLLVM-3.7.1 (ORCJIT, broadwell)\n"
     ]
    }
   ],
   "source": [
    "versioninfo()"
   ]
  },
  {
   "cell_type": "markdown",
   "metadata": {},
   "source": [
    "## Haplotyping on complete genotype data"
   ]
  },
  {
   "cell_type": "code",
   "execution_count": 83,
   "metadata": {
    "collapsed": false
   },
   "outputs": [
    {
     "name": "stdout",
     "output_type": "stream",
     "text": [
      "  0.009869 seconds (4 allocations: 160 bytes)\n"
     ]
    }
   ],
   "source": [
    "using NullableArrays, BenchmarkTools, MendelImpute\n",
    "\n",
    "srand(123)\n",
    "n, p, d = 10000, 1000, 50\n",
    "H = convert(Matrix{Float32}, rand(0:1, d, p))\n",
    "X = convert(Matrix{Float32}, rand(0:2, n, p))\n",
    "M   = A_mul_Bt(H, H)\n",
    "for j in 1:d\n",
    "    for i in 1:(j - 1)\n",
    "        M[i, j] = 2M[i, j] + M[i, i] + M[j, j]\n",
    "    end\n",
    "end\n",
    "for j in 1:d\n",
    "    M[j, j] *= 4\n",
    "end\n",
    "N   = A_mul_Bt(X, H)\n",
    "for I in eachindex(N)\n",
    "    N[I] *= 2\n",
    "end\n",
    "happair  = zeros(Int, n), zeros(Int, n)\n",
    "hapscore = zeros(eltype(N), n)\n",
    "@time haplopair!(happair, hapscore, M, N)"
   ]
  },
  {
   "cell_type": "code",
   "execution_count": 84,
   "metadata": {
    "collapsed": false
   },
   "outputs": [
    {
     "data": {
      "text/plain": [
       "([1,17,8,37,5,10,1,14,3,3  …  16,23,7,25,3,13,5,3,3,11],[16,48,12,39,21,30,42,18,18,18  …  35,26,47,50,39,35,24,17,18,43])"
      ]
     },
     "execution_count": 84,
     "metadata": {},
     "output_type": "execute_result"
    }
   ],
   "source": [
    "happair"
   ]
  },
  {
   "cell_type": "code",
   "execution_count": 85,
   "metadata": {
    "collapsed": false
   },
   "outputs": [
    {
     "data": {
      "text/plain": [
       "10000-element Array{Float32,1}:\n",
       " -611.0\n",
       " -622.0\n",
       " -629.0\n",
       " -666.0\n",
       " -569.0\n",
       " -613.0\n",
       " -640.0\n",
       " -669.0\n",
       " -550.0\n",
       " -690.0\n",
       " -665.0\n",
       " -595.0\n",
       " -621.0\n",
       "    ⋮  \n",
       " -578.0\n",
       " -595.0\n",
       " -680.0\n",
       " -546.0\n",
       " -680.0\n",
       " -528.0\n",
       " -687.0\n",
       " -587.0\n",
       " -603.0\n",
       " -646.0\n",
       " -590.0\n",
       " -613.0"
      ]
     },
     "execution_count": 85,
     "metadata": {},
     "output_type": "execute_result"
    }
   ],
   "source": [
    "hapscore"
   ]
  },
  {
   "cell_type": "code",
   "execution_count": 86,
   "metadata": {
    "collapsed": false
   },
   "outputs": [
    {
     "data": {
      "text/plain": [
       "(([1,17,8,37,5,10,1,14,3,3  …  16,23,7,25,3,13,5,3,3,11],[16,48,12,39,21,30,42,18,18,18  …  35,26,47,50,39,35,24,17,18,43]),Float32[1043.0,1056.0,1025.0,1020.0,1055.0,1059.0,1070.0,1043.0,1039.0,1029.0  …  1021.0,1087.0,1052.0,1067.0,1058.0,1033.0,1057.0,1024.0,1012.0,1046.0])"
      ]
     },
     "execution_count": 86,
     "metadata": {},
     "output_type": "execute_result"
    }
   ],
   "source": [
    "haplopair(X, H)"
   ]
  },
  {
   "cell_type": "code",
   "execution_count": 87,
   "metadata": {
    "collapsed": false
   },
   "outputs": [
    {
     "data": {
      "text/plain": [
       "BenchmarkTools.Trial: \n",
       "  memory estimate:  0 bytes\n",
       "  allocs estimate:  0\n",
       "  --------------\n",
       "  minimum time:     9.263 ms (0.00% GC)\n",
       "  median time:      9.423 ms (0.00% GC)\n",
       "  mean time:        9.781 ms (0.00% GC)\n",
       "  maximum time:     15.706 ms (0.00% GC)\n",
       "  --------------\n",
       "  samples:          511\n",
       "  evals/sample:     1"
      ]
     },
     "execution_count": 87,
     "metadata": {},
     "output_type": "execute_result"
    }
   ],
   "source": [
    "@benchmark haplopair!(happair, hapscore, M, N)"
   ]
  },
  {
   "cell_type": "code",
   "execution_count": 88,
   "metadata": {
    "collapsed": false
   },
   "outputs": [
    {
     "name": "stdout",
     "output_type": "stream",
     "text": [
      " Count File                        Line Function                               \n",
      "    10 ./<missing>                   -1 anonymous                              \n",
      "    11 ./loading.jl                 441 include_string(::String, ::String)     \n",
      "    10 ./profile.jl                  16 macro expansion;                       \n",
      "     1 ./simdloop.jl                 71 macro expansion                        \n",
      "     9 ./simdloop.jl                 73 macro expansion                        \n",
      "    11 ./task.jl                    360 (::IJulia.##13#19)()                   \n",
      "    11 ...IJulia/src/eventloop.jl     8 eventloop(::ZMQ.Socket)                \n",
      "    11 .../src/execute_request.jl   156 execute_request(::ZMQ.Socket, ::IJu... \n",
      "    10 ...pute/src/haplotyping.jl    30 haplopair!(::Tuple{Array{Int64,1},A... \n",
      "     1 ...pute/src/haplotyping.jl    31 macro expansion                        \n",
      "     3 ...pute/src/haplotyping.jl    32 macro expansion                        \n",
      "     1 ...pute/src/haplotyping.jl    34 macro expansion                        \n",
      "     4 ...pute/src/haplotyping.jl    35 macro expansion                        \n"
     ]
    }
   ],
   "source": [
    "Profile.clear()\n",
    "@profile haplopair!(happair, hapscore, M, N)\n",
    "Profile.print(format=:flat)"
   ]
  },
  {
   "cell_type": "code",
   "execution_count": 89,
   "metadata": {
    "collapsed": false
   },
   "outputs": [],
   "source": [
    "#@code_warntype haplopair!(X, H, M, N, happair, hapscore)"
   ]
  },
  {
   "cell_type": "code",
   "execution_count": 90,
   "metadata": {
    "collapsed": false
   },
   "outputs": [
    {
     "name": "stdout",
     "output_type": "stream",
     "text": [
      "  0.031918 seconds (4 allocations: 160 bytes)\n"
     ]
    }
   ],
   "source": [
    "@time haplopair!(X, H, M, N, happair, hapscore)"
   ]
  },
  {
   "cell_type": "code",
   "execution_count": 91,
   "metadata": {
    "collapsed": false
   },
   "outputs": [
    {
     "data": {
      "text/plain": [
       "BenchmarkTools.Trial: \n",
       "  memory estimate:  0 bytes\n",
       "  allocs estimate:  0\n",
       "  --------------\n",
       "  minimum time:     20.709 ms (0.00% GC)\n",
       "  median time:      21.214 ms (0.00% GC)\n",
       "  mean time:        21.348 ms (0.00% GC)\n",
       "  maximum time:     24.684 ms (0.00% GC)\n",
       "  --------------\n",
       "  samples:          234\n",
       "  evals/sample:     1"
      ]
     },
     "execution_count": 91,
     "metadata": {},
     "output_type": "execute_result"
    }
   ],
   "source": [
    "@benchmark haplopair!(X, H, M, N, happair, hapscore)"
   ]
  },
  {
   "cell_type": "code",
   "execution_count": 92,
   "metadata": {
    "collapsed": false
   },
   "outputs": [
    {
     "name": "stdout",
     "output_type": "stream",
     "text": [
      " Count File                        Line Function                               \n",
      "    19 ./<missing>                   -1 anonymous                              \n",
      "     4 ./linalg/blas.jl             969 gemm!(::Char, ::Char, ::Float32, ::... \n",
      "     4 ./linalg/matmul.jl           155 A_mul_Bt!                              \n",
      "     4 ./linalg/matmul.jl           331 gemm_wrapper!(::Array{Float32,2}, :... \n",
      "    19 ./loading.jl                 441 include_string(::String, ::String)     \n",
      "    19 ./profile.jl                  16 macro expansion;                       \n",
      "    14 ./simdloop.jl                 73 macro expansion                        \n",
      "     1 ./simdloop.jl                 74 macro expansion                        \n",
      "    19 ./task.jl                    360 (::IJulia.##13#19)()                   \n",
      "    19 ...IJulia/src/eventloop.jl     8 eventloop(::ZMQ.Socket)                \n",
      "    19 .../src/execute_request.jl   156 execute_request(::ZMQ.Socket, ::IJu... \n",
      "    12 ...pute/src/haplotyping.jl    30 haplopair!(::Tuple{Array{Int64,1},A... \n",
      "     4 ...pute/src/haplotyping.jl   107 haplopair!(::Array{Float32,2}, ::Ar... \n",
      "    12 ...pute/src/haplotyping.jl   111 haplopair!(::Array{Float32,2}, ::Ar... \n",
      "     3 ...pute/src/haplotyping.jl   113 haplopair!(::Array{Float32,2}, ::Ar... \n",
      "     3 ...pute/src/haplotyping.jl    31 macro expansion                        \n",
      "     6 ...pute/src/haplotyping.jl    32 macro expansion                        \n",
      "     3 ...pute/src/haplotyping.jl    35 macro expansion                        \n",
      "     2 ...pute/src/haplotyping.jl   114 macro expansion                        \n"
     ]
    }
   ],
   "source": [
    "Profile.clear()\n",
    "@profile haplopair!(X, H, M, N, happair, hapscore)\n",
    "Profile.print(format=:flat)"
   ]
  },
  {
   "cell_type": "markdown",
   "metadata": {},
   "source": [
    "## Haplotyping on incomplete genotype data\n",
    "\n"
   ]
  },
  {
   "cell_type": "code",
   "execution_count": 5,
   "metadata": {
    "collapsed": false
   },
   "outputs": [
    {
     "name": "stdout",
     "output_type": "stream",
     "text": [
      "  0.055833 seconds (4 allocations: 160 bytes)\n"
     ]
    }
   ],
   "source": [
    "using MendelImpute, NullableArrays, BenchmarkTools\n",
    "\n",
    "srand(123)\n",
    "n, p, d = 10000, 1000, 50\n",
    "H = convert(Matrix{Float32}, rand(0:1, d, p))\n",
    "X = convert(Matrix{Float32}, rand(0:2, n, p))\n",
    "M = zeros(eltype(H), d, d)\n",
    "N = zeros(eltype(X), n, d)\n",
    "happair  = zeros(Int, n), zeros(Int, n)\n",
    "hapscore = zeros(eltype(N), n)\n",
    "missingprop = 0.1\n",
    "Xm = NullableArray(X, full(sprand(Bool, n, p, missingprop)))\n",
    "Xm.values[Xm.isnull] = 1\n",
    "@time haploimpute!(Xm, H, M, N, happair, hapscore)"
   ]
  },
  {
   "cell_type": "code",
   "execution_count": 6,
   "metadata": {
    "collapsed": false
   },
   "outputs": [
    {
     "data": {
      "text/plain": [
       "BenchmarkTools.Trial: \n",
       "  memory estimate:  0 bytes\n",
       "  allocs estimate:  0\n",
       "  --------------\n",
       "  minimum time:     50.062 ms (0.00% GC)\n",
       "  median time:      50.423 ms (0.00% GC)\n",
       "  mean time:        50.782 ms (0.00% GC)\n",
       "  maximum time:     59.527 ms (0.00% GC)\n",
       "  --------------\n",
       "  samples:          99\n",
       "  evals/sample:     1"
      ]
     },
     "execution_count": 6,
     "metadata": {},
     "output_type": "execute_result"
    }
   ],
   "source": [
    "@benchmark haploimpute!(Xm, H, M, N, happair, hapscore)"
   ]
  },
  {
   "cell_type": "code",
   "execution_count": 7,
   "metadata": {
    "collapsed": false
   },
   "outputs": [
    {
     "name": "stdout",
     "output_type": "stream",
     "text": [
      " Count File                        Line Function                               \n",
      "    48 ./<missing>                   -1 anonymous                              \n",
      "     1 ./abstractarray.jl           485 copy!(::Array{Any,1}, ::Core.Infere... \n",
      "     1 ./inference.jl              1101 abstract_call(::Any, ::Array{Any,1}... \n",
      "     1 ./inference.jl               893 abstract_call_gf_by_type(::Any, ::A... \n",
      "     2 ./inference.jl              1152 abstract_eval(::Any, ::Array{Any,1}... \n",
      "     1 ./inference.jl              1105 abstract_eval_call(::Expr, ::Array{... \n",
      "     1 ./inference.jl              1131 abstract_eval_call(::Expr, ::Array{... \n",
      "     1 ./inference.jl              1577 typeinf_edge(::Method, ::Any, ::Sim... \n",
      "     1 ./inference.jl              1597 typeinf_edge(::Method, ::Any, ::Sim... \n",
      "     1 ./inference.jl              1603 typeinf_edge(::Method, ::Any, ::Sim... \n",
      "     1 ./inference.jl              1621 typeinf_ext(::LambdaInfo)              \n",
      "     1 ./inference.jl              1786 typeinf_frame(::Core.Inference.Infe... \n",
      "     1 ./inference.jl              1677 typeinf_loop(::Core.Inference.Infer... \n",
      "     1 ./inference.jl              1457 unshare_linfo!(::LambdaInfo)           \n",
      "     2 ./linalg/blas.jl             969 gemm!(::Char, ::Char, ::Float32, ::... \n",
      "     2 ./linalg/matmul.jl           155 A_mul_Bt!                              \n",
      "     2 ./linalg/matmul.jl           331 gemm_wrapper!(::Array{Float32,2}, :... \n",
      "    49 ./loading.jl                 441 include_string(::String, ::String)     \n",
      "    48 ./profile.jl                  16 macro expansion;                       \n",
      "     3 ./simdloop.jl                 71 macro expansion                        \n",
      "    16 ./simdloop.jl                 73 macro expansion                        \n",
      "    49 ./task.jl                    360 (::IJulia.##13#19)()                   \n",
      "     1 ...lia/lib/julia/sys.dylib    -1 abstract_call(::Any, ::Array{Any,1}... \n",
      "     1 ...lia/lib/julia/sys.dylib    -1 abstract_call_gf_by_type(::Any, ::A... \n",
      "     2 ...lia/lib/julia/sys.dylib    -1 abstract_eval(::Any, ::Array{Any,1}... \n",
      "     1 ...lia/lib/julia/sys.dylib    -1 typeinf_edge(::Method, ::Any, ::Sim... \n",
      "     1 ...lia/lib/julia/sys.dylib    -1 typeinf_edge(::Method, ::Any, ::Sim... \n",
      "     1 ...lia/lib/julia/sys.dylib    -1 typeinf_loop(::Core.Inference.Infer... \n",
      "    49 ...IJulia/src/eventloop.jl     8 eventloop(::ZMQ.Socket)                \n",
      "    49 .../src/execute_request.jl   156 execute_request(::ZMQ.Socket, ::IJu... \n",
      "     2 ...pute/src/haplotyping.jl   142 fillmissing!(::NullableArrays.Nulla... \n",
      "    13 ...pute/src/haplotyping.jl   143 fillmissing!(::NullableArrays.Nulla... \n",
      "     9 ...pute/src/haplotyping.jl   144 fillmissing!(::NullableArrays.Nulla... \n",
      "     3 ...pute/src/haplotyping.jl   145 fillmissing!(::NullableArrays.Nulla... \n",
      "    48 ...pute/src/haplotyping.jl   189 haploimpute!(::NullableArrays.Nulla... \n",
      "    21 ...pute/src/haplotyping.jl   192 haploimpute!(::NullableArrays.Nulla... \n",
      "    27 ...pute/src/haplotyping.jl   194 haploimpute!(::NullableArrays.Nulla... \n",
      "    13 ...pute/src/haplotyping.jl    30 haplopair!(::Tuple{Array{Int64,1},A... \n",
      "     2 ...pute/src/haplotyping.jl   107 haplopair!(::Array{Float32,2}, ::Ar... \n",
      "    13 ...pute/src/haplotyping.jl   111 haplopair!(::Array{Float32,2}, ::Ar... \n",
      "     6 ...pute/src/haplotyping.jl   113 haplopair!(::Array{Float32,2}, ::Ar... \n",
      "     1 ...pute/src/haplotyping.jl    31 macro expansion                        \n",
      "     5 ...pute/src/haplotyping.jl    32 macro expansion                        \n",
      "     2 ...pute/src/haplotyping.jl    34 macro expansion                        \n",
      "     2 ...pute/src/haplotyping.jl    35 macro expansion                        \n",
      "     6 ...pute/src/haplotyping.jl   114 macro expansion                        \n"
     ]
    }
   ],
   "source": [
    "Profile.clear()\n",
    "@profile haploimpute!(Xm, H, M, N, happair, hapscore)\n",
    "Profile.print(format=:flat)"
   ]
  },
  {
   "cell_type": "markdown",
   "metadata": {
    "collapsed": true
   },
   "source": [
    "## `AFRped.txt` data\n",
    "\n"
   ]
  },
  {
   "cell_type": "code",
   "execution_count": 7,
   "metadata": {
    "collapsed": false
   },
   "outputs": [],
   "source": [
    "#;ls -al"
   ]
  },
  {
   "cell_type": "code",
   "execution_count": 8,
   "metadata": {
    "collapsed": false
   },
   "outputs": [],
   "source": [
    "## cut out the first 6 fields in the pedigree file\n",
    "#;cut -d ',' -f7- AFRped.txt > AFRped_geno.txt"
   ]
  },
  {
   "cell_type": "code",
   "execution_count": 9,
   "metadata": {
    "collapsed": false
   },
   "outputs": [],
   "source": [
    "#;ls -al"
   ]
  },
  {
   "cell_type": "code",
   "execution_count": 25,
   "metadata": {
    "collapsed": false
   },
   "outputs": [
    {
     "data": {
      "text/plain": [
       "1325×36499 Array{Float32,2}:\n",
       " 0.0  0.0  0.0  0.0  0.0  0.0  0.0  0.0  …  0.0  0.0  0.0  0.0  0.0  1.0  0.0\n",
       " 0.0  0.0  0.0  0.0  0.0  0.0  0.0  0.0     0.0  0.0  0.0  0.0  0.0  1.0  0.0\n",
       " 1.0  0.0  0.0  0.0  0.0  0.0  0.0  0.0     0.0  0.0  0.0  0.0  0.0  0.0  0.0\n",
       " 0.0  0.0  0.0  0.0  0.0  0.0  0.0  0.0     0.0  0.0  0.0  0.0  0.0  0.0  0.0\n",
       " 1.0  0.0  0.0  0.0  0.0  0.0  0.0  0.0     0.0  0.0  0.0  0.0  0.0  0.0  0.0\n",
       " 1.0  0.0  0.0  0.0  0.0  0.0  0.0  0.0  …  0.0  0.0  0.0  0.0  0.0  0.0  0.0\n",
       " 0.0  0.0  0.0  0.0  0.0  0.0  0.0  0.0     0.0  0.0  0.0  0.0  0.0  1.0  0.0\n",
       " 1.0  0.0  0.0  0.0  0.0  0.0  0.0  0.0     0.0  0.0  0.0  0.0  0.0  1.0  0.0\n",
       " 0.0  0.0  0.0  0.0  0.0  0.0  0.0  0.0     0.0  0.0  0.0  0.0  0.0  0.0  0.0\n",
       " 0.0  0.0  0.0  0.0  0.0  0.0  0.0  0.0     0.0  0.0  0.0  0.0  0.0  0.0  0.0\n",
       " 0.0  0.0  0.0  0.0  0.0  0.0  0.0  0.0  …  0.0  0.0  0.0  0.0  0.0  1.0  0.0\n",
       " 0.0  0.0  0.0  0.0  0.0  0.0  0.0  0.0     0.0  0.0  0.0  0.0  0.0  1.0  0.0\n",
       " 0.0  0.0  0.0  0.0  0.0  0.0  0.0  0.0     0.0  0.0  0.0  0.0  0.0  1.0  0.0\n",
       " ⋮                        ⋮              ⋱                 ⋮                 \n",
       " 0.0  0.0  0.0  0.0  0.0  0.0  0.0  0.0     0.0  0.0  0.0  0.0  0.0  0.0  0.0\n",
       " 0.0  0.0  0.0  0.0  0.0  0.0  0.0  0.0     0.0  0.0  0.0  0.0  0.0  0.0  0.0\n",
       " 0.0  0.0  0.0  0.0  0.0  0.0  0.0  0.0  …  0.0  0.0  0.0  0.0  0.0  0.0  0.0\n",
       " 0.0  0.0  0.0  0.0  0.0  0.0  0.0  0.0     0.0  0.0  0.0  0.0  0.0  0.0  0.0\n",
       " 0.0  0.0  0.0  0.0  0.0  0.0  0.0  0.0     0.0  0.0  0.0  0.0  0.0  0.0  0.0\n",
       " 0.0  0.0  0.0  0.0  0.0  0.0  0.0  0.0     0.0  0.0  0.0  0.0  0.0  0.0  0.0\n",
       " 0.0  0.0  0.0  0.0  0.0  0.0  0.0  0.0     0.0  0.0  0.0  0.0  0.0  0.0  0.0\n",
       " 0.0  0.0  0.0  0.0  0.0  0.0  0.0  0.0  …  0.0  0.0  0.0  0.0  0.0  0.0  0.0\n",
       " 0.0  0.0  0.0  0.0  0.0  0.0  0.0  0.0     0.0  0.0  0.0  0.0  0.0  0.0  0.0\n",
       " 0.0  0.0  0.0  0.0  0.0  0.0  0.0  0.0     0.0  0.0  0.0  0.0  0.0  0.0  0.0\n",
       " 0.0  0.0  0.0  0.0  0.0  0.0  0.0  0.0     0.0  0.0  0.0  0.0  0.0  0.0  0.0\n",
       " 0.0  0.0  0.0  0.0  0.0  0.0  0.0  0.0     0.0  0.0  0.0  0.0  0.0  0.0  0.0"
      ]
     },
     "execution_count": 25,
     "metadata": {},
     "output_type": "execute_result"
    }
   ],
   "source": [
    "rawdata = readcsv(\"AFRped_geno.txt\", Float32)"
   ]
  },
  {
   "cell_type": "code",
   "execution_count": 26,
   "metadata": {
    "collapsed": false
   },
   "outputs": [
    {
     "data": {
      "text/plain": [
       "664×36498 Array{Float32,2}:\n",
       " 0.0  0.0  0.0  0.0  0.0  0.0  0.0  0.0  …  0.0  0.0  0.0  0.0  0.0  0.0  1.0\n",
       " 0.0  0.0  0.0  0.0  0.0  0.0  0.0  0.0     0.0  0.0  0.0  0.0  0.0  0.0  1.0\n",
       " 1.0  0.0  0.0  0.0  0.0  0.0  0.0  0.0     0.0  0.0  0.0  0.0  0.0  0.0  0.0\n",
       " 0.0  0.0  0.0  0.0  0.0  0.0  0.0  0.0     0.0  0.0  0.0  0.0  0.0  0.0  0.0\n",
       " 1.0  0.0  0.0  0.0  0.0  0.0  0.0  0.0     0.0  0.0  0.0  0.0  0.0  0.0  0.0\n",
       " 1.0  0.0  0.0  0.0  0.0  0.0  0.0  0.0  …  0.0  0.0  0.0  0.0  0.0  0.0  0.0\n",
       " 0.0  0.0  0.0  0.0  0.0  0.0  0.0  0.0     0.0  0.0  0.0  0.0  0.0  0.0  1.0\n",
       " 1.0  0.0  0.0  0.0  0.0  0.0  0.0  0.0     0.0  0.0  0.0  0.0  0.0  0.0  1.0\n",
       " 0.0  0.0  0.0  0.0  0.0  0.0  0.0  0.0     0.0  0.0  0.0  0.0  0.0  0.0  0.0\n",
       " 0.0  0.0  0.0  0.0  0.0  0.0  0.0  0.0     0.0  0.0  0.0  0.0  0.0  0.0  0.0\n",
       " 0.0  0.0  0.0  0.0  0.0  0.0  0.0  0.0  …  0.0  0.0  0.0  0.0  0.0  0.0  1.0\n",
       " 0.0  0.0  0.0  0.0  0.0  0.0  0.0  0.0     0.0  0.0  0.0  0.0  0.0  0.0  1.0\n",
       " 0.0  0.0  0.0  0.0  0.0  0.0  0.0  0.0     0.0  0.0  0.0  0.0  0.0  0.0  1.0\n",
       " ⋮                        ⋮              ⋱                      ⋮            \n",
       " 0.0  0.0  0.0  0.0  0.0  0.0  0.0  0.0     0.0  0.0  0.0  0.0  0.0  0.0  0.0\n",
       " 0.0  0.0  0.0  0.0  0.0  0.0  0.0  0.0     0.0  0.0  0.0  0.0  0.0  0.0  0.0\n",
       " 0.0  0.0  0.0  0.0  0.0  0.0  0.0  0.0     0.0  0.0  0.0  0.0  0.0  0.0  0.0\n",
       " 0.0  0.0  0.0  0.0  0.0  0.0  0.0  0.0  …  0.0  0.0  0.0  0.0  0.0  0.0  1.0\n",
       " 0.0  0.0  0.0  0.0  0.0  0.0  0.0  0.0     0.0  0.0  0.0  0.0  0.0  0.0  1.0\n",
       " 0.0  0.0  0.0  0.0  0.0  0.0  0.0  0.0     0.0  0.0  0.0  0.0  0.0  0.0  1.0\n",
       " 0.0  0.0  0.0  0.0  0.0  0.0  0.0  0.0     0.0  0.0  0.0  0.0  0.0  0.0  0.0\n",
       " 0.0  0.0  0.0  0.0  0.0  0.0  0.0  0.0     0.0  0.0  0.0  0.0  0.0  0.0  0.0\n",
       " 0.0  0.0  0.0  0.0  0.0  0.0  0.0  0.0  …  0.0  0.0  0.0  0.0  0.0  0.0  1.0\n",
       " 0.0  0.0  0.0  0.0  0.0  0.0  0.0  0.0     0.0  0.0  0.0  0.0  0.0  0.0  0.0\n",
       " 0.0  0.0  0.0  0.0  0.0  0.0  0.0  0.0     0.0  0.0  0.0  0.0  0.0  0.0  1.0\n",
       " 0.0  0.0  0.0  0.0  0.0  0.0  0.0  0.0     0.0  0.0  0.0  0.0  0.0  0.0  0.0"
      ]
     },
     "execution_count": 26,
     "metadata": {},
     "output_type": "execute_result"
    }
   ],
   "source": [
    "people = 664\n",
    "X = rawdata[1:people, 1:(end - 1)]"
   ]
  },
  {
   "cell_type": "code",
   "execution_count": 27,
   "metadata": {
    "collapsed": false
   },
   "outputs": [
    {
     "data": {
      "text/plain": [
       "661×36498 Array{Float32,2}:\n",
       " 0.0  0.0  0.0  0.0  0.0  0.0  0.0  0.0  …  0.0  0.0  0.0  0.0  0.0  0.0  0.0\n",
       " 0.0  0.0  0.0  0.0  0.0  0.0  0.0  0.0     0.0  0.0  0.0  0.0  0.0  0.0  1.0\n",
       " 0.0  0.0  0.0  0.0  0.0  0.0  0.0  0.0     0.0  0.0  0.0  0.0  0.0  0.0  0.0\n",
       " 0.0  0.0  0.0  0.0  0.0  0.0  0.0  0.0     0.0  0.0  0.0  0.0  0.0  0.0  1.0\n",
       " 0.0  0.0  0.0  0.0  0.0  0.0  0.0  0.0     0.0  0.0  0.0  0.0  0.0  0.0  0.0\n",
       " 0.0  0.0  0.0  0.0  0.0  0.0  0.0  0.0  …  0.0  0.0  0.0  0.0  0.0  0.0  0.0\n",
       " 0.0  0.0  0.0  0.0  0.0  0.0  0.0  0.0     0.0  0.0  0.0  0.0  0.0  0.0  1.0\n",
       " 0.0  0.0  0.0  0.0  0.0  0.0  0.0  0.0     0.0  0.0  0.0  0.0  0.0  0.0  0.0\n",
       " 0.0  0.0  0.0  0.0  0.0  0.0  0.0  0.0     0.0  0.0  0.0  0.0  0.0  0.0  1.0\n",
       " 0.0  0.0  0.0  0.0  0.0  0.0  0.0  0.0     0.0  0.0  0.0  0.0  0.0  0.0  0.0\n",
       " 0.0  0.0  0.0  0.0  0.0  0.0  0.0  0.0  …  0.0  0.0  0.0  0.0  0.0  0.0  1.0\n",
       " 0.0  0.0  0.0  0.0  0.0  0.0  0.0  0.0     0.0  0.0  0.0  0.0  0.0  0.0  1.0\n",
       " 0.0  0.0  0.0  0.0  0.0  0.0  0.0  0.0     0.0  0.0  0.0  0.0  0.0  0.0  1.0\n",
       " ⋮                        ⋮              ⋱                      ⋮            \n",
       " 0.0  0.0  0.0  0.0  0.0  0.0  0.0  0.0     0.0  0.0  0.0  0.0  0.0  0.0  0.0\n",
       " 0.0  0.0  0.0  0.0  0.0  0.0  0.0  0.0  …  0.0  0.0  0.0  0.0  0.0  0.0  0.0\n",
       " 0.0  0.0  0.0  0.0  0.0  0.0  0.0  0.0     0.0  0.0  0.0  0.0  0.0  0.0  0.0\n",
       " 0.0  0.0  0.0  0.0  0.0  0.0  0.0  0.0     0.0  0.0  0.0  0.0  0.0  0.0  0.0\n",
       " 0.0  0.0  0.0  0.0  0.0  0.0  0.0  0.0     0.0  0.0  0.0  0.0  0.0  0.0  0.0\n",
       " 0.0  0.0  0.0  0.0  0.0  0.0  0.0  0.0     0.0  0.0  0.0  0.0  0.0  0.0  0.0\n",
       " 0.0  0.0  0.0  0.0  0.0  0.0  0.0  0.0  …  0.0  0.0  0.0  0.0  0.0  0.0  0.0\n",
       " 0.0  0.0  0.0  0.0  0.0  0.0  0.0  0.0     0.0  0.0  0.0  0.0  0.0  0.0  0.0\n",
       " 0.0  0.0  0.0  0.0  0.0  0.0  0.0  0.0     0.0  0.0  0.0  0.0  0.0  0.0  0.0\n",
       " 0.0  0.0  0.0  0.0  0.0  0.0  0.0  0.0     0.0  0.0  0.0  0.0  0.0  0.0  0.0\n",
       " 0.0  0.0  0.0  0.0  0.0  0.0  0.0  0.0     0.0  0.0  0.0  0.0  0.0  0.0  0.0\n",
       " 0.0  0.0  0.0  0.0  0.0  0.0  0.0  0.0  …  0.0  0.0  0.0  0.0  0.0  0.0  0.0"
      ]
     },
     "execution_count": 27,
     "metadata": {},
     "output_type": "execute_result"
    }
   ],
   "source": [
    "if eltype(rawdata) <: Integer\n",
    "    H = rawdata[(people + 1):end, 1:(end - 1)] .>> 1\n",
    "else\n",
    "    H = rawdata[(people + 1):end, 1:(end - 1)] / 2\n",
    "end"
   ]
  },
  {
   "cell_type": "code",
   "execution_count": 28,
   "metadata": {
    "collapsed": false
   },
   "outputs": [
    {
     "data": {
      "text/plain": [
       "0-element Array{Any,1}"
      ]
     },
     "execution_count": 28,
     "metadata": {},
     "output_type": "execute_result"
    }
   ],
   "source": [
    "# clean up rawdata\n",
    "rawdata = []"
   ]
  },
  {
   "cell_type": "code",
   "execution_count": 30,
   "metadata": {
    "collapsed": false
   },
   "outputs": [
    {
     "data": {
      "text/plain": [
       "664×1200 Array{Float32,2}:\n",
       " 0.0  0.0  0.0  0.0  0.0  0.0  0.0  0.0  …  2.0  0.0  0.0  0.0  0.0  0.0  0.0\n",
       " 0.0  0.0  0.0  0.0  0.0  0.0  0.0  0.0     0.0  2.0  0.0  0.0  0.0  1.0  0.0\n",
       " 1.0  0.0  0.0  0.0  0.0  0.0  0.0  0.0     0.0  1.0  0.0  0.0  0.0  0.0  0.0\n",
       " 0.0  0.0  0.0  0.0  0.0  0.0  0.0  0.0     2.0  2.0  0.0  0.0  0.0  0.0  0.0\n",
       " 1.0  0.0  0.0  0.0  0.0  0.0  0.0  0.0     0.0  1.0  0.0  0.0  0.0  1.0  0.0\n",
       " 1.0  0.0  0.0  0.0  0.0  0.0  0.0  0.0  …  1.0  1.0  0.0  0.0  0.0  0.0  0.0\n",
       " 0.0  0.0  0.0  0.0  0.0  0.0  0.0  0.0     2.0  2.0  0.0  0.0  0.0  0.0  0.0\n",
       " 1.0  0.0  0.0  0.0  0.0  0.0  0.0  0.0     1.0  1.0  0.0  0.0  0.0  0.0  0.0\n",
       " 0.0  0.0  0.0  0.0  0.0  0.0  0.0  0.0     0.0  0.0  0.0  0.0  0.0  0.0  0.0\n",
       " 0.0  0.0  0.0  0.0  0.0  0.0  0.0  0.0     0.0  0.0  0.0  0.0  0.0  1.0  0.0\n",
       " 0.0  0.0  0.0  0.0  0.0  0.0  0.0  0.0  …  0.0  1.0  0.0  0.0  0.0  0.0  0.0\n",
       " 0.0  0.0  0.0  0.0  0.0  0.0  0.0  0.0     0.0  0.0  0.0  0.0  0.0  0.0  0.0\n",
       " 0.0  0.0  0.0  0.0  0.0  0.0  0.0  0.0     0.0  0.0  0.0  0.0  0.0  0.0  0.0\n",
       " ⋮                        ⋮              ⋱            ⋮                      \n",
       " 0.0  0.0  0.0  0.0  0.0  0.0  0.0  0.0     2.0  2.0  0.0  0.0  0.0  1.0  0.0\n",
       " 0.0  0.0  0.0  0.0  0.0  0.0  0.0  0.0     0.0  1.0  0.0  0.0  0.0  1.0  0.0\n",
       " 0.0  0.0  0.0  0.0  0.0  0.0  0.0  0.0     1.0  1.0  0.0  0.0  0.0  0.0  0.0\n",
       " 0.0  0.0  0.0  0.0  0.0  0.0  0.0  0.0  …  1.0  2.0  0.0  0.0  0.0  1.0  0.0\n",
       " 0.0  0.0  0.0  0.0  0.0  0.0  0.0  0.0     0.0  1.0  0.0  0.0  0.0  0.0  0.0\n",
       " 0.0  0.0  0.0  0.0  0.0  0.0  0.0  0.0     0.0  0.0  0.0  0.0  0.0  0.0  0.0\n",
       " 0.0  0.0  0.0  0.0  0.0  0.0  0.0  0.0     0.0  0.0  0.0  0.0  0.0  0.0  0.0\n",
       " 0.0  0.0  0.0  0.0  0.0  0.0  0.0  0.0     0.0  0.0  0.0  0.0  0.0  0.0  0.0\n",
       " 0.0  0.0  0.0  0.0  0.0  0.0  0.0  0.0  …  0.0  0.0  0.0  0.0  0.0  0.0  0.0\n",
       " 0.0  0.0  0.0  0.0  0.0  0.0  0.0  0.0     1.0  0.0  0.0  0.0  0.0  0.0  0.0\n",
       " 0.0  0.0  0.0  0.0  0.0  0.0  0.0  0.0     1.0  1.0  0.0  0.0  0.0  0.0  0.0\n",
       " 0.0  0.0  0.0  0.0  0.0  0.0  0.0  0.0     2.0  2.0  0.0  0.0  0.0  0.0  0.0"
      ]
     },
     "execution_count": 30,
     "metadata": {},
     "output_type": "execute_result"
    }
   ],
   "source": [
    "using BenchmarkTools, MendelImpute, SnpArrays\n",
    "\n",
    "X1 = X[:, 1:1200]\n",
    "H1 = H[:, 1:1200]\n",
    "missingprop = 0.1\n",
    "Xm = NullableArray(X1, full(sprand(Bool, size(X1, 1), size(X1, 2), missingprop)))\n",
    "missing_true = X1[Xm.isnull]\n",
    "Xm.values[Xm.isnull] = NaN\n",
    "S = SnpArray(X1)\n",
    "copy!(X1, S; impute = true) # initilize missing genotypes"
   ]
  },
  {
   "cell_type": "code",
   "execution_count": 33,
   "metadata": {
    "collapsed": false
   },
   "outputs": [
    {
     "name": "stdout",
     "output_type": "stream",
     "text": [
      "  0.203312 seconds (6 allocations: 224 bytes)\n"
     ]
    },
    {
     "data": {
      "text/plain": [
       "0.04190502533412123"
      ]
     },
     "execution_count": 33,
     "metadata": {},
     "output_type": "execute_result"
    }
   ],
   "source": [
    "n, d = size(X1, 1), size(H1, 1)\n",
    "M = zeros(eltype(H), d, d)\n",
    "N = zeros(eltype(X), n, d)\n",
    "happair  = zeros(Int, n, 2)\n",
    "hapscore = zeros(eltype(N), n)\n",
    "@time haploimpute!(Xm, H1, M, N, happair, hapscore)\n",
    "missing_impute = Xm.values[Xm.isnull]\n",
    "error = countnz(missing_true .≠ missing_impute) / length(missing_true)"
   ]
  },
  {
   "cell_type": "code",
   "execution_count": 35,
   "metadata": {
    "collapsed": false
   },
   "outputs": [
    {
     "data": {
      "text/plain": [
       "BenchmarkTools.Trial: \n",
       "  memory estimate:  64 bytes\n",
       "  allocs estimate:  2\n",
       "  --------------\n",
       "  minimum time:     162.402 ms (0.00% GC)\n",
       "  median time:      179.922 ms (0.00% GC)\n",
       "  mean time:        180.324 ms (0.00% GC)\n",
       "  maximum time:     194.203 ms (0.00% GC)\n",
       "  --------------\n",
       "  samples:          28\n",
       "  evals/sample:     1"
      ]
     },
     "execution_count": 35,
     "metadata": {},
     "output_type": "execute_result"
    }
   ],
   "source": [
    "@benchmark haploimpute!(Xm, H1, M, N, happair, hapscore)"
   ]
  },
  {
   "cell_type": "code",
   "execution_count": null,
   "metadata": {
    "collapsed": true
   },
   "outputs": [],
   "source": []
  }
 ],
 "metadata": {
  "kernelspec": {
   "display_name": "Julia 0.5.2",
   "language": "julia",
   "name": "julia-0.5"
  },
  "language_info": {
   "file_extension": ".jl",
   "mimetype": "application/julia",
   "name": "julia",
   "version": "0.5.2"
  },
  "toc": {
   "colors": {
    "hover_highlight": "#DAA520",
    "running_highlight": "#FF0000",
    "selected_highlight": "#FFD700"
   },
   "moveMenuLeft": true,
   "nav_menu": {
    "height": "65px",
    "width": "252px"
   },
   "navigate_menu": true,
   "number_sections": true,
   "sideBar": true,
   "threshold": 4,
   "toc_cell": false,
   "toc_section_display": "block",
   "toc_window_display": false,
   "widenNotebook": false
  }
 },
 "nbformat": 4,
 "nbformat_minor": 2
}
