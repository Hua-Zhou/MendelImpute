{
 "cells": [
  {
   "cell_type": "markdown",
   "metadata": {},
   "source": [
    "# Test and Benchmark"
   ]
  },
  {
   "cell_type": "code",
   "execution_count": 1,
   "metadata": {
    "collapsed": false
   },
   "outputs": [
    {
     "name": "stdout",
     "output_type": "stream",
     "text": [
      "Julia Version 0.5.2\n",
      "Commit f4c6c9d4bb (2017-05-06 16:34 UTC)\n",
      "Platform Info:\n",
      "  OS: macOS (x86_64-apple-darwin13.4.0)\n",
      "  CPU: Intel(R) Core(TM) i7-4790K CPU @ 4.00GHz\n",
      "  WORD_SIZE: 64\n",
      "  BLAS: libopenblas (USE64BITINT DYNAMIC_ARCH NO_AFFINITY Haswell)\n",
      "  LAPACK: libopenblas64_\n",
      "  LIBM: libopenlibm\n",
      "  LLVM: libLLVM-3.7.1 (ORCJIT, haswell)\n"
     ]
    }
   ],
   "source": [
    "versioninfo()"
   ]
  },
  {
   "cell_type": "markdown",
   "metadata": {},
   "source": [
    "## Haplotyping on complete genotype data"
   ]
  },
  {
   "cell_type": "code",
   "execution_count": 2,
   "metadata": {
    "collapsed": false
   },
   "outputs": [
    {
     "name": "stdout",
     "output_type": "stream",
     "text": [
      "  0.020970 seconds (9.22 k allocations: 402.803 KB)\n"
     ]
    }
   ],
   "source": [
    "using NullableArrays, BenchmarkTools, MendelImpute\n",
    "\n",
    "srand(123)\n",
    "n, p, d = 10000, 1000, 50\n",
    "H = convert(Matrix{Float32}, rand(0:1, d, p))\n",
    "X = convert(Matrix{Float32}, rand(0:2, n, p))\n",
    "M   = A_mul_Bt(H, H)\n",
    "for j in 1:d\n",
    "    for i in 1:(j - 1)\n",
    "        M[i, j] = 2M[i, j] + M[i, i] + M[j, j]\n",
    "    end\n",
    "end\n",
    "for j in 1:d\n",
    "    M[j, j] *= 4\n",
    "end\n",
    "N   = A_mul_Bt(X, H)\n",
    "for I in eachindex(N)\n",
    "    N[I] *= 2\n",
    "end\n",
    "happair  = zeros(Int, n), zeros(Int, n)\n",
    "hapscore = zeros(eltype(N), n)\n",
    "@time haplopair!(happair, hapscore, M, N)"
   ]
  },
  {
   "cell_type": "code",
   "execution_count": 3,
   "metadata": {
    "collapsed": false
   },
   "outputs": [
    {
     "data": {
      "text/plain": [
       "([1,17,8,37,5,10,1,14,3,3  …  16,23,7,25,3,13,5,3,3,11],[16,48,12,39,21,30,42,18,18,18  …  35,26,47,50,39,35,24,17,18,43])"
      ]
     },
     "execution_count": 3,
     "metadata": {},
     "output_type": "execute_result"
    }
   ],
   "source": [
    "happair"
   ]
  },
  {
   "cell_type": "code",
   "execution_count": 4,
   "metadata": {
    "collapsed": false
   },
   "outputs": [
    {
     "data": {
      "text/plain": [
       "10000-element Array{Float32,1}:\n",
       " -611.0\n",
       " -622.0\n",
       " -629.0\n",
       " -666.0\n",
       " -569.0\n",
       " -613.0\n",
       " -640.0\n",
       " -669.0\n",
       " -550.0\n",
       " -690.0\n",
       " -665.0\n",
       " -595.0\n",
       " -621.0\n",
       "    ⋮  \n",
       " -578.0\n",
       " -595.0\n",
       " -680.0\n",
       " -546.0\n",
       " -680.0\n",
       " -528.0\n",
       " -687.0\n",
       " -587.0\n",
       " -603.0\n",
       " -646.0\n",
       " -590.0\n",
       " -613.0"
      ]
     },
     "execution_count": 4,
     "metadata": {},
     "output_type": "execute_result"
    }
   ],
   "source": [
    "hapscore"
   ]
  },
  {
   "cell_type": "code",
   "execution_count": 5,
   "metadata": {
    "collapsed": false
   },
   "outputs": [
    {
     "data": {
      "text/plain": [
       "(([1,17,8,37,5,10,1,14,3,3  …  16,23,7,25,3,13,5,3,3,11],[16,48,12,39,21,30,42,18,18,18  …  35,26,47,50,39,35,24,17,18,43]),Float32[1043.0,1056.0,1025.0,1020.0,1055.0,1059.0,1070.0,1043.0,1039.0,1029.0  …  1021.0,1087.0,1052.0,1067.0,1058.0,1033.0,1057.0,1024.0,1012.0,1046.0])"
      ]
     },
     "execution_count": 5,
     "metadata": {},
     "output_type": "execute_result"
    }
   ],
   "source": [
    "haplopair(X, H)"
   ]
  },
  {
   "cell_type": "code",
   "execution_count": 6,
   "metadata": {
    "collapsed": false
   },
   "outputs": [
    {
     "data": {
      "text/plain": [
       "BenchmarkTools.Trial: \n",
       "  memory estimate:  0 bytes\n",
       "  allocs estimate:  0\n",
       "  --------------\n",
       "  minimum time:     9.319 ms (0.00% GC)\n",
       "  median time:      9.513 ms (0.00% GC)\n",
       "  mean time:        9.494 ms (0.00% GC)\n",
       "  maximum time:     10.793 ms (0.00% GC)\n",
       "  --------------\n",
       "  samples:          527\n",
       "  evals/sample:     1"
      ]
     },
     "execution_count": 6,
     "metadata": {},
     "output_type": "execute_result"
    }
   ],
   "source": [
    "@benchmark haplopair!(happair, hapscore, M, N)"
   ]
  },
  {
   "cell_type": "code",
   "execution_count": 7,
   "metadata": {
    "collapsed": false
   },
   "outputs": [
    {
     "name": "stdout",
     "output_type": "stream",
     "text": [
      " Count File                        Line Function                               \n",
      "     8 ./<missing>                   -1 anonymous                              \n",
      "     1 ./inference.jl              1536 typeinf_edge(::Method, ::Any, ::Sim... \n",
      "     1 ./inference.jl              1621 typeinf_ext(::LambdaInfo)              \n",
      "     9 ./loading.jl                 441 include_string(::String, ::String)     \n",
      "     8 ./profile.jl                  16 macro expansion;                       \n",
      "     9 ./task.jl                    360 (::IJulia.##13#19)()                   \n",
      "     9 ...IJulia/src/eventloop.jl     8 eventloop(::ZMQ.Socket)                \n",
      "     9 .../src/execute_request.jl   156 execute_request(::ZMQ.Socket, ::IJu... \n",
      "     2 ...pute/src/haplotyping.jl    32 haplopair!(::Tuple{Array{Int64,1},A... \n",
      "     4 ...pute/src/haplotyping.jl    33 haplopair!(::Tuple{Array{Int64,1},A... \n",
      "     2 ...pute/src/haplotyping.jl    36 haplopair!(::Tuple{Array{Int64,1},A... \n"
     ]
    }
   ],
   "source": [
    "Profile.clear()\n",
    "@profile haplopair!(happair, hapscore, M, N)\n",
    "Profile.print(format=:flat)"
   ]
  },
  {
   "cell_type": "code",
   "execution_count": 9,
   "metadata": {
    "collapsed": false
   },
   "outputs": [],
   "source": [
    "#@code_warntype haplopair!(X, H, M, N, happair, hapscore)"
   ]
  },
  {
   "cell_type": "code",
   "execution_count": 10,
   "metadata": {
    "collapsed": false
   },
   "outputs": [
    {
     "name": "stdout",
     "output_type": "stream",
     "text": [
      "  0.023348 seconds (4 allocations: 160 bytes)\n"
     ]
    }
   ],
   "source": [
    "@time haplopair!(X, H, M, N, happair, hapscore)"
   ]
  },
  {
   "cell_type": "code",
   "execution_count": 11,
   "metadata": {
    "collapsed": false
   },
   "outputs": [
    {
     "data": {
      "text/plain": [
       "BenchmarkTools.Trial: \n",
       "  memory estimate:  0 bytes\n",
       "  allocs estimate:  0\n",
       "  --------------\n",
       "  minimum time:     20.115 ms (0.00% GC)\n",
       "  median time:      20.261 ms (0.00% GC)\n",
       "  mean time:        20.435 ms (0.00% GC)\n",
       "  maximum time:     29.652 ms (0.00% GC)\n",
       "  --------------\n",
       "  samples:          245\n",
       "  evals/sample:     1"
      ]
     },
     "execution_count": 11,
     "metadata": {},
     "output_type": "execute_result"
    }
   ],
   "source": [
    "@benchmark haplopair!(X, H, M, N, happair, hapscore)"
   ]
  },
  {
   "cell_type": "code",
   "execution_count": 12,
   "metadata": {
    "collapsed": false
   },
   "outputs": [
    {
     "name": "stdout",
     "output_type": "stream",
     "text": [
      " Count File                        Line Function                               \n",
      "    13 ./<missing>                   -1 anonymous                              \n",
      "     2 ./linalg/blas.jl             969 gemm!(::Char, ::Char, ::Float32, ::... \n",
      "     2 ./linalg/matmul.jl           155 A_mul_Bt!                              \n",
      "     2 ./linalg/matmul.jl           331 gemm_wrapper!(::Array{Float32,2}, :... \n",
      "    13 ./loading.jl                 441 include_string(::String, ::String)     \n",
      "    13 ./profile.jl                  16 macro expansion;                       \n",
      "     2 ./simdloop.jl                 73 macro expansion                        \n",
      "    13 ./task.jl                    360 (::IJulia.##13#19)()                   \n",
      "    13 ...IJulia/src/eventloop.jl     8 eventloop(::ZMQ.Socket)                \n",
      "    13 .../src/execute_request.jl   156 execute_request(::ZMQ.Socket, ::IJu... \n",
      "     4 ...pute/src/haplotyping.jl    32 haplopair!(::Tuple{Array{Int64,1},A... \n",
      "     3 ...pute/src/haplotyping.jl    33 haplopair!(::Tuple{Array{Int64,1},A... \n",
      "     1 ...pute/src/haplotyping.jl    34 haplopair!(::Tuple{Array{Int64,1},A... \n",
      "     2 ...pute/src/haplotyping.jl   110 haplopair!(::Array{Float32,2}, ::Ar... \n",
      "     1 ...pute/src/haplotyping.jl   111 haplopair!(::Array{Float32,2}, ::Ar... \n",
      "     8 ...pute/src/haplotyping.jl   114 haplopair!(::Array{Float32,2}, ::Ar... \n",
      "     2 ...pute/src/haplotyping.jl   116 haplopair!(::Array{Float32,2}, ::Ar... \n",
      "     2 ...pute/src/haplotyping.jl   117 macro expansion                        \n"
     ]
    }
   ],
   "source": [
    "Profile.clear()\n",
    "@profile haplopair!(X, H, M, N, happair, hapscore)\n",
    "Profile.print(format=:flat)"
   ]
  },
  {
   "cell_type": "markdown",
   "metadata": {},
   "source": [
    "## Haplotyping on incomplete genotype data\n",
    "\n"
   ]
  },
  {
   "cell_type": "code",
   "execution_count": 14,
   "metadata": {
    "collapsed": false
   },
   "outputs": [
    {
     "name": "stdout",
     "output_type": "stream",
     "text": [
      "  0.085485 seconds (4 allocations: 160 bytes)\n"
     ]
    }
   ],
   "source": [
    "using MendelImpute, NullableArrays, BenchmarkTools\n",
    "\n",
    "srand(123)\n",
    "n, p, d = 10000, 1000, 50\n",
    "H = convert(Matrix{Float32}, rand(0:1, d, p))\n",
    "X = convert(Matrix{Float32}, rand(0:2, n, p))\n",
    "M = zeros(eltype(H), d, d)\n",
    "N = zeros(eltype(X), n, d)\n",
    "happair  = zeros(Int, n), zeros(Int, n)\n",
    "hapscore = zeros(eltype(N), n)\n",
    "missingprop = 0.1\n",
    "Xm = NullableArray(X, full(sprand(Bool, n, p, missingprop)))\n",
    "@time haploimpute!(Xm, H, M, N, happair, hapscore)"
   ]
  },
  {
   "cell_type": "code",
   "execution_count": 15,
   "metadata": {
    "collapsed": false
   },
   "outputs": [
    {
     "data": {
      "text/plain": [
       "BenchmarkTools.Trial: \n",
       "  memory estimate:  0 bytes\n",
       "  allocs estimate:  0\n",
       "  --------------\n",
       "  minimum time:     85.755 ms (0.00% GC)\n",
       "  median time:      87.582 ms (0.00% GC)\n",
       "  mean time:        87.665 ms (0.00% GC)\n",
       "  maximum time:     90.458 ms (0.00% GC)\n",
       "  --------------\n",
       "  samples:          58\n",
       "  evals/sample:     1"
      ]
     },
     "execution_count": 15,
     "metadata": {},
     "output_type": "execute_result"
    }
   ],
   "source": [
    "@benchmark haploimpute!(Xm, H, M, N, happair, hapscore)"
   ]
  },
  {
   "cell_type": "code",
   "execution_count": 16,
   "metadata": {
    "collapsed": false
   },
   "outputs": [
    {
     "name": "stdout",
     "output_type": "stream",
     "text": [
      " Count File                        Line Function                               \n",
      "    69 ./<missing>                   -1 anonymous                              \n",
      "     4 ./linalg/blas.jl             969 gemm!(::Char, ::Char, ::Float32, ::... \n",
      "     4 ./linalg/matmul.jl           155 A_mul_Bt!                              \n",
      "     4 ./linalg/matmul.jl           331 gemm_wrapper!(::Array{Float32,2}, :... \n",
      "    69 ./loading.jl                 441 include_string(::String, ::String)     \n",
      "    69 ./profile.jl                  16 macro expansion;                       \n",
      "     2 ./simdloop.jl                 73 macro expansion                        \n",
      "    69 ./task.jl                    360 (::IJulia.##13#19)()                   \n",
      "    69 ...IJulia/src/eventloop.jl     8 eventloop(::ZMQ.Socket)                \n",
      "    69 .../src/execute_request.jl   156 execute_request(::ZMQ.Socket, ::IJu... \n",
      "     3 ...pute/src/haplotyping.jl   146 fillmissing!(::NullableArrays.Nulla... \n",
      "     6 ...pute/src/haplotyping.jl   147 fillmissing!(::NullableArrays.Nulla... \n",
      "     6 ...pute/src/haplotyping.jl   148 fillmissing!(::NullableArrays.Nulla... \n",
      "     1 ...pute/src/haplotyping.jl   149 fillmissing!(::NullableArrays.Nulla... \n",
      "    69 ...pute/src/haplotyping.jl   238 haploimpute!(::NullableArrays.Nulla... \n",
      "    38 ...pute/src/haplotyping.jl   239 haploimpute!(::NullableArrays.Nulla... \n",
      "    15 ...pute/src/haplotyping.jl   242 haploimpute!(::NullableArrays.Nulla... \n",
      "    16 ...pute/src/haplotyping.jl   244 haploimpute!(::NullableArrays.Nulla... \n",
      "     3 ...pute/src/haplotyping.jl    32 haplopair!(::Tuple{Array{Int64,1},A... \n",
      "     2 ...pute/src/haplotyping.jl    33 haplopair!(::Tuple{Array{Int64,1},A... \n",
      "     3 ...pute/src/haplotyping.jl    36 haplopair!(::Tuple{Array{Int64,1},A... \n",
      "     4 ...pute/src/haplotyping.jl   110 haplopair!(::Array{Float32,2}, ::Ar... \n",
      "     1 ...pute/src/haplotyping.jl   112 haplopair!(::Array{Float32,2}, ::Ar... \n",
      "     8 ...pute/src/haplotyping.jl   114 haplopair!(::Array{Float32,2}, ::Ar... \n",
      "     2 ...pute/src/haplotyping.jl   116 haplopair!(::Array{Float32,2}, ::Ar... \n",
      "     4 ...pute/src/haplotyping.jl   192 initmissing!(::NullableArrays.Nulla... \n",
      "     9 ...pute/src/haplotyping.jl   193 initmissing!(::NullableArrays.Nulla... \n",
      "    10 ...pute/src/haplotyping.jl   195 initmissing!(::NullableArrays.Nulla... \n",
      "     1 ...pute/src/haplotyping.jl   200 initmissing!(::NullableArrays.Nulla... \n",
      "     8 ...pute/src/haplotyping.jl   201 initmissing!(::NullableArrays.Nulla... \n",
      "     6 ...pute/src/haplotyping.jl   202 initmissing!(::NullableArrays.Nulla... \n",
      "     2 ...pute/src/haplotyping.jl   117 macro expansion                        \n"
     ]
    }
   ],
   "source": [
    "Profile.clear()\n",
    "@profile haploimpute!(Xm, H, M, N, happair, hapscore)\n",
    "Profile.print(format=:flat)"
   ]
  },
  {
   "cell_type": "markdown",
   "metadata": {
    "collapsed": true
   },
   "source": [
    "## `AFRped.txt` data\n",
    "\n"
   ]
  },
  {
   "cell_type": "code",
   "execution_count": 17,
   "metadata": {
    "collapsed": false
   },
   "outputs": [],
   "source": [
    "#;ls -al"
   ]
  },
  {
   "cell_type": "code",
   "execution_count": 18,
   "metadata": {
    "collapsed": false
   },
   "outputs": [],
   "source": [
    "## cut out the first 6 fields in the pedigree file\n",
    "#;cut -d ',' -f7- AFRped.txt > AFRped_geno.txt"
   ]
  },
  {
   "cell_type": "code",
   "execution_count": 19,
   "metadata": {
    "collapsed": false
   },
   "outputs": [],
   "source": [
    "#;ls -al"
   ]
  },
  {
   "cell_type": "code",
   "execution_count": 1,
   "metadata": {
    "collapsed": false
   },
   "outputs": [
    {
     "data": {
      "text/plain": [
       "1325×36499 Array{Float32,2}:\n",
       " 0.0  0.0  0.0  0.0  0.0  0.0  0.0  0.0  …  0.0  0.0  0.0  0.0  0.0  1.0  0.0\n",
       " 0.0  0.0  0.0  0.0  0.0  0.0  0.0  0.0     0.0  0.0  0.0  0.0  0.0  1.0  0.0\n",
       " 1.0  0.0  0.0  0.0  0.0  0.0  0.0  0.0     0.0  0.0  0.0  0.0  0.0  0.0  0.0\n",
       " 0.0  0.0  0.0  0.0  0.0  0.0  0.0  0.0     0.0  0.0  0.0  0.0  0.0  0.0  0.0\n",
       " 1.0  0.0  0.0  0.0  0.0  0.0  0.0  0.0     0.0  0.0  0.0  0.0  0.0  0.0  0.0\n",
       " 1.0  0.0  0.0  0.0  0.0  0.0  0.0  0.0  …  0.0  0.0  0.0  0.0  0.0  0.0  0.0\n",
       " 0.0  0.0  0.0  0.0  0.0  0.0  0.0  0.0     0.0  0.0  0.0  0.0  0.0  1.0  0.0\n",
       " 1.0  0.0  0.0  0.0  0.0  0.0  0.0  0.0     0.0  0.0  0.0  0.0  0.0  1.0  0.0\n",
       " 0.0  0.0  0.0  0.0  0.0  0.0  0.0  0.0     0.0  0.0  0.0  0.0  0.0  0.0  0.0\n",
       " 0.0  0.0  0.0  0.0  0.0  0.0  0.0  0.0     0.0  0.0  0.0  0.0  0.0  0.0  0.0\n",
       " 0.0  0.0  0.0  0.0  0.0  0.0  0.0  0.0  …  0.0  0.0  0.0  0.0  0.0  1.0  0.0\n",
       " 0.0  0.0  0.0  0.0  0.0  0.0  0.0  0.0     0.0  0.0  0.0  0.0  0.0  1.0  0.0\n",
       " 0.0  0.0  0.0  0.0  0.0  0.0  0.0  0.0     0.0  0.0  0.0  0.0  0.0  1.0  0.0\n",
       " ⋮                        ⋮              ⋱                 ⋮                 \n",
       " 0.0  0.0  0.0  0.0  0.0  0.0  0.0  0.0     0.0  0.0  0.0  0.0  0.0  0.0  0.0\n",
       " 0.0  0.0  0.0  0.0  0.0  0.0  0.0  0.0     0.0  0.0  0.0  0.0  0.0  0.0  0.0\n",
       " 0.0  0.0  0.0  0.0  0.0  0.0  0.0  0.0  …  0.0  0.0  0.0  0.0  0.0  0.0  0.0\n",
       " 0.0  0.0  0.0  0.0  0.0  0.0  0.0  0.0     0.0  0.0  0.0  0.0  0.0  0.0  0.0\n",
       " 0.0  0.0  0.0  0.0  0.0  0.0  0.0  0.0     0.0  0.0  0.0  0.0  0.0  0.0  0.0\n",
       " 0.0  0.0  0.0  0.0  0.0  0.0  0.0  0.0     0.0  0.0  0.0  0.0  0.0  0.0  0.0\n",
       " 0.0  0.0  0.0  0.0  0.0  0.0  0.0  0.0     0.0  0.0  0.0  0.0  0.0  0.0  0.0\n",
       " 0.0  0.0  0.0  0.0  0.0  0.0  0.0  0.0  …  0.0  0.0  0.0  0.0  0.0  0.0  0.0\n",
       " 0.0  0.0  0.0  0.0  0.0  0.0  0.0  0.0     0.0  0.0  0.0  0.0  0.0  0.0  0.0\n",
       " 0.0  0.0  0.0  0.0  0.0  0.0  0.0  0.0     0.0  0.0  0.0  0.0  0.0  0.0  0.0\n",
       " 0.0  0.0  0.0  0.0  0.0  0.0  0.0  0.0     0.0  0.0  0.0  0.0  0.0  0.0  0.0\n",
       " 0.0  0.0  0.0  0.0  0.0  0.0  0.0  0.0     0.0  0.0  0.0  0.0  0.0  0.0  0.0"
      ]
     },
     "execution_count": 1,
     "metadata": {},
     "output_type": "execute_result"
    }
   ],
   "source": [
    "rawdata = readcsv(\"AFRped_geno.txt\", Float32)"
   ]
  },
  {
   "cell_type": "code",
   "execution_count": 2,
   "metadata": {
    "collapsed": false
   },
   "outputs": [
    {
     "data": {
      "text/plain": [
       "664×36498 Array{Float32,2}:\n",
       " 0.0  0.0  0.0  0.0  0.0  0.0  0.0  0.0  …  0.0  0.0  0.0  0.0  0.0  0.0  1.0\n",
       " 0.0  0.0  0.0  0.0  0.0  0.0  0.0  0.0     0.0  0.0  0.0  0.0  0.0  0.0  1.0\n",
       " 1.0  0.0  0.0  0.0  0.0  0.0  0.0  0.0     0.0  0.0  0.0  0.0  0.0  0.0  0.0\n",
       " 0.0  0.0  0.0  0.0  0.0  0.0  0.0  0.0     0.0  0.0  0.0  0.0  0.0  0.0  0.0\n",
       " 1.0  0.0  0.0  0.0  0.0  0.0  0.0  0.0     0.0  0.0  0.0  0.0  0.0  0.0  0.0\n",
       " 1.0  0.0  0.0  0.0  0.0  0.0  0.0  0.0  …  0.0  0.0  0.0  0.0  0.0  0.0  0.0\n",
       " 0.0  0.0  0.0  0.0  0.0  0.0  0.0  0.0     0.0  0.0  0.0  0.0  0.0  0.0  1.0\n",
       " 1.0  0.0  0.0  0.0  0.0  0.0  0.0  0.0     0.0  0.0  0.0  0.0  0.0  0.0  1.0\n",
       " 0.0  0.0  0.0  0.0  0.0  0.0  0.0  0.0     0.0  0.0  0.0  0.0  0.0  0.0  0.0\n",
       " 0.0  0.0  0.0  0.0  0.0  0.0  0.0  0.0     0.0  0.0  0.0  0.0  0.0  0.0  0.0\n",
       " 0.0  0.0  0.0  0.0  0.0  0.0  0.0  0.0  …  0.0  0.0  0.0  0.0  0.0  0.0  1.0\n",
       " 0.0  0.0  0.0  0.0  0.0  0.0  0.0  0.0     0.0  0.0  0.0  0.0  0.0  0.0  1.0\n",
       " 0.0  0.0  0.0  0.0  0.0  0.0  0.0  0.0     0.0  0.0  0.0  0.0  0.0  0.0  1.0\n",
       " ⋮                        ⋮              ⋱                      ⋮            \n",
       " 0.0  0.0  0.0  0.0  0.0  0.0  0.0  0.0     0.0  0.0  0.0  0.0  0.0  0.0  0.0\n",
       " 0.0  0.0  0.0  0.0  0.0  0.0  0.0  0.0     0.0  0.0  0.0  0.0  0.0  0.0  0.0\n",
       " 0.0  0.0  0.0  0.0  0.0  0.0  0.0  0.0     0.0  0.0  0.0  0.0  0.0  0.0  0.0\n",
       " 0.0  0.0  0.0  0.0  0.0  0.0  0.0  0.0  …  0.0  0.0  0.0  0.0  0.0  0.0  1.0\n",
       " 0.0  0.0  0.0  0.0  0.0  0.0  0.0  0.0     0.0  0.0  0.0  0.0  0.0  0.0  1.0\n",
       " 0.0  0.0  0.0  0.0  0.0  0.0  0.0  0.0     0.0  0.0  0.0  0.0  0.0  0.0  1.0\n",
       " 0.0  0.0  0.0  0.0  0.0  0.0  0.0  0.0     0.0  0.0  0.0  0.0  0.0  0.0  0.0\n",
       " 0.0  0.0  0.0  0.0  0.0  0.0  0.0  0.0     0.0  0.0  0.0  0.0  0.0  0.0  0.0\n",
       " 0.0  0.0  0.0  0.0  0.0  0.0  0.0  0.0  …  0.0  0.0  0.0  0.0  0.0  0.0  1.0\n",
       " 0.0  0.0  0.0  0.0  0.0  0.0  0.0  0.0     0.0  0.0  0.0  0.0  0.0  0.0  0.0\n",
       " 0.0  0.0  0.0  0.0  0.0  0.0  0.0  0.0     0.0  0.0  0.0  0.0  0.0  0.0  1.0\n",
       " 0.0  0.0  0.0  0.0  0.0  0.0  0.0  0.0     0.0  0.0  0.0  0.0  0.0  0.0  0.0"
      ]
     },
     "execution_count": 2,
     "metadata": {},
     "output_type": "execute_result"
    }
   ],
   "source": [
    "people = 664\n",
    "X = rawdata[1:people, 1:(end - 1)]"
   ]
  },
  {
   "cell_type": "code",
   "execution_count": 3,
   "metadata": {
    "collapsed": false
   },
   "outputs": [
    {
     "data": {
      "text/plain": [
       "661×36498 Array{Float32,2}:\n",
       " 0.0  0.0  0.0  0.0  0.0  0.0  0.0  0.0  …  0.0  0.0  0.0  0.0  0.0  0.0  0.0\n",
       " 0.0  0.0  0.0  0.0  0.0  0.0  0.0  0.0     0.0  0.0  0.0  0.0  0.0  0.0  1.0\n",
       " 0.0  0.0  0.0  0.0  0.0  0.0  0.0  0.0     0.0  0.0  0.0  0.0  0.0  0.0  0.0\n",
       " 0.0  0.0  0.0  0.0  0.0  0.0  0.0  0.0     0.0  0.0  0.0  0.0  0.0  0.0  1.0\n",
       " 0.0  0.0  0.0  0.0  0.0  0.0  0.0  0.0     0.0  0.0  0.0  0.0  0.0  0.0  0.0\n",
       " 0.0  0.0  0.0  0.0  0.0  0.0  0.0  0.0  …  0.0  0.0  0.0  0.0  0.0  0.0  0.0\n",
       " 0.0  0.0  0.0  0.0  0.0  0.0  0.0  0.0     0.0  0.0  0.0  0.0  0.0  0.0  1.0\n",
       " 0.0  0.0  0.0  0.0  0.0  0.0  0.0  0.0     0.0  0.0  0.0  0.0  0.0  0.0  0.0\n",
       " 0.0  0.0  0.0  0.0  0.0  0.0  0.0  0.0     0.0  0.0  0.0  0.0  0.0  0.0  1.0\n",
       " 0.0  0.0  0.0  0.0  0.0  0.0  0.0  0.0     0.0  0.0  0.0  0.0  0.0  0.0  0.0\n",
       " 0.0  0.0  0.0  0.0  0.0  0.0  0.0  0.0  …  0.0  0.0  0.0  0.0  0.0  0.0  1.0\n",
       " 0.0  0.0  0.0  0.0  0.0  0.0  0.0  0.0     0.0  0.0  0.0  0.0  0.0  0.0  1.0\n",
       " 0.0  0.0  0.0  0.0  0.0  0.0  0.0  0.0     0.0  0.0  0.0  0.0  0.0  0.0  1.0\n",
       " ⋮                        ⋮              ⋱                      ⋮            \n",
       " 0.0  0.0  0.0  0.0  0.0  0.0  0.0  0.0     0.0  0.0  0.0  0.0  0.0  0.0  0.0\n",
       " 0.0  0.0  0.0  0.0  0.0  0.0  0.0  0.0  …  0.0  0.0  0.0  0.0  0.0  0.0  0.0\n",
       " 0.0  0.0  0.0  0.0  0.0  0.0  0.0  0.0     0.0  0.0  0.0  0.0  0.0  0.0  0.0\n",
       " 0.0  0.0  0.0  0.0  0.0  0.0  0.0  0.0     0.0  0.0  0.0  0.0  0.0  0.0  0.0\n",
       " 0.0  0.0  0.0  0.0  0.0  0.0  0.0  0.0     0.0  0.0  0.0  0.0  0.0  0.0  0.0\n",
       " 0.0  0.0  0.0  0.0  0.0  0.0  0.0  0.0     0.0  0.0  0.0  0.0  0.0  0.0  0.0\n",
       " 0.0  0.0  0.0  0.0  0.0  0.0  0.0  0.0  …  0.0  0.0  0.0  0.0  0.0  0.0  0.0\n",
       " 0.0  0.0  0.0  0.0  0.0  0.0  0.0  0.0     0.0  0.0  0.0  0.0  0.0  0.0  0.0\n",
       " 0.0  0.0  0.0  0.0  0.0  0.0  0.0  0.0     0.0  0.0  0.0  0.0  0.0  0.0  0.0\n",
       " 0.0  0.0  0.0  0.0  0.0  0.0  0.0  0.0     0.0  0.0  0.0  0.0  0.0  0.0  0.0\n",
       " 0.0  0.0  0.0  0.0  0.0  0.0  0.0  0.0     0.0  0.0  0.0  0.0  0.0  0.0  0.0\n",
       " 0.0  0.0  0.0  0.0  0.0  0.0  0.0  0.0  …  0.0  0.0  0.0  0.0  0.0  0.0  0.0"
      ]
     },
     "execution_count": 3,
     "metadata": {},
     "output_type": "execute_result"
    }
   ],
   "source": [
    "if eltype(rawdata) <: Integer\n",
    "    H = rawdata[(people + 1):end, 1:(end - 1)] .>> 1\n",
    "else\n",
    "    H = rawdata[(people + 1):end, 1:(end - 1)] / 2\n",
    "end"
   ]
  },
  {
   "cell_type": "code",
   "execution_count": 4,
   "metadata": {
    "collapsed": false
   },
   "outputs": [
    {
     "data": {
      "text/plain": [
       "0-element Array{Any,1}"
      ]
     },
     "execution_count": 4,
     "metadata": {},
     "output_type": "execute_result"
    }
   ],
   "source": [
    "# clean up rawdata\n",
    "rawdata = []"
   ]
  },
  {
   "cell_type": "markdown",
   "metadata": {},
   "source": [
    "### phase+impute a fixed window"
   ]
  },
  {
   "cell_type": "code",
   "execution_count": 5,
   "metadata": {
    "collapsed": false
   },
   "outputs": [
    {
     "data": {
      "text/plain": [
       "79742-element Array{Float32,1}:\n",
       " 0.0\n",
       " 1.0\n",
       " 0.0\n",
       " 0.0\n",
       " 0.0\n",
       " 0.0\n",
       " 0.0\n",
       " 0.0\n",
       " 0.0\n",
       " 0.0\n",
       " 0.0\n",
       " 0.0\n",
       " 0.0\n",
       " ⋮  \n",
       " 0.0\n",
       " 0.0\n",
       " 0.0\n",
       " 0.0\n",
       " 0.0\n",
       " 0.0\n",
       " 0.0\n",
       " 0.0\n",
       " 0.0\n",
       " 0.0\n",
       " 0.0\n",
       " 0.0"
      ]
     },
     "execution_count": 5,
     "metadata": {},
     "output_type": "execute_result"
    }
   ],
   "source": [
    "using BenchmarkTools, MendelImpute, NullableArrays\n",
    "\n",
    "X1 = X[:, 1:1200]\n",
    "H1 = H[:, 1:1200]\n",
    "missingprop = 0.1\n",
    "Xm = NullableArray(X1, full(sprand(Bool, size(X1, 1), size(X1, 2), missingprop)))\n",
    "missing_true = X1[Xm.isnull]"
   ]
  },
  {
   "cell_type": "code",
   "execution_count": 6,
   "metadata": {
    "collapsed": false
   },
   "outputs": [
    {
     "name": "stdout",
     "output_type": "stream",
     "text": [
      "  0.569513 seconds (465.36 k allocations: 16.780 MB)\n"
     ]
    },
    {
     "data": {
      "text/plain": [
       "0.0033733791477514987"
      ]
     },
     "execution_count": 6,
     "metadata": {},
     "output_type": "execute_result"
    }
   ],
   "source": [
    "n, d = size(X1, 1), size(H1, 1)\n",
    "M = zeros(eltype(H), d, d)\n",
    "N = zeros(eltype(X), n, d)\n",
    "happair  = zeros(Int, n), zeros(Int, n)\n",
    "hapscore = zeros(eltype(N), n)\n",
    "@time haploimpute!(Xm, H1, M, N, happair, hapscore)\n",
    "missing_impute = Xm.values[Xm.isnull]\n",
    "error = countnz(missing_true .≠ missing_impute) / length(missing_true)"
   ]
  },
  {
   "cell_type": "code",
   "execution_count": 7,
   "metadata": {
    "collapsed": false
   },
   "outputs": [
    {
     "data": {
      "text/plain": [
       "BenchmarkTools.Trial: \n",
       "  memory estimate:  0 bytes\n",
       "  allocs estimate:  0\n",
       "  --------------\n",
       "  minimum time:     116.388 ms (0.00% GC)\n",
       "  median time:      117.693 ms (0.00% GC)\n",
       "  mean time:        118.753 ms (0.00% GC)\n",
       "  maximum time:     127.732 ms (0.00% GC)\n",
       "  --------------\n",
       "  samples:          43\n",
       "  evals/sample:     1"
      ]
     },
     "execution_count": 7,
     "metadata": {},
     "output_type": "execute_result"
    }
   ],
   "source": [
    "@benchmark haploimpute!(Xm, H1, M, N, happair, hapscore)"
   ]
  },
  {
   "cell_type": "code",
   "execution_count": 8,
   "metadata": {
    "collapsed": false
   },
   "outputs": [
    {
     "name": "stdout",
     "output_type": "stream",
     "text": [
      " Count File                        Line Function                               \n",
      "    90 ./<missing>                   -1 anonymous                              \n",
      "     3 ./abstractarray.jl           485 copy!(::Array{Any,1}, ::Core.Infere... \n",
      "     2 ./inference.jl              1101 abstract_call(::Any, ::Array{Any,1}... \n",
      "     2 ./inference.jl               893 abstract_call_gf_by_type(::Any, ::A... \n",
      "     5 ./inference.jl              1152 abstract_eval(::Any, ::Array{Any,1}... \n",
      "     3 ./inference.jl              1105 abstract_eval_call(::Expr, ::Array{... \n",
      "     2 ./inference.jl              1131 abstract_eval_call(::Expr, ::Array{... \n",
      "     3 ./inference.jl              1597 typeinf_edge(::Method, ::Any, ::Sim... \n",
      "     2 ./inference.jl              1603 typeinf_edge(::Method, ::Any, ::Sim... \n",
      "     1 ./inference.jl              1621 typeinf_ext(::LambdaInfo)              \n",
      "     3 ./inference.jl              1786 typeinf_frame(::Core.Inference.Infe... \n",
      "     2 ./inference.jl              1660 typeinf_loop(::Core.Inference.Infer... \n",
      "     1 ./inference.jl              1677 typeinf_loop(::Core.Inference.Infer... \n",
      "    91 ./loading.jl                 441 include_string(::String, ::String)     \n",
      "    90 ./profile.jl                  16 macro expansion;                       \n",
      "    91 ./task.jl                    360 (::IJulia.##13#19)()                   \n",
      "     2 ...lia/lib/julia/sys.dylib    -1 abstract_call(::Any, ::Array{Any,1}... \n",
      "     2 ...lia/lib/julia/sys.dylib    -1 abstract_call_gf_by_type(::Any, ::A... \n",
      "     6 ...lia/lib/julia/sys.dylib    -1 abstract_eval(::Any, ::Array{Any,1}... \n",
      "     2 ...lia/lib/julia/sys.dylib    -1 typeinf_edge(::Method, ::Any, ::Sim... \n",
      "     2 ...lia/lib/julia/sys.dylib    -1 typeinf_edge(::Method, ::Any, ::Sim... \n",
      "     1 ...lia/lib/julia/sys.dylib    -1 typeinf_loop(::Core.Inference.Infer... \n",
      "    91 ...IJulia/src/eventloop.jl     8 eventloop(::ZMQ.Socket)                \n",
      "    91 .../src/execute_request.jl   156 execute_request(::ZMQ.Socket, ::IJu... \n",
      "     2 ...pute/src/haplotyping.jl   148 fillmissing!(::NullableArrays.Nulla... \n",
      "    90 ...pute/src/haplotyping.jl   238 haploimpute!(::NullableArrays.Nulla... \n",
      "     3 ...pute/src/haplotyping.jl   239 haploimpute!(::NullableArrays.Nulla... \n",
      "    85 ...pute/src/haplotyping.jl   242 haploimpute!(::NullableArrays.Nulla... \n",
      "     2 ...pute/src/haplotyping.jl   244 haploimpute!(::NullableArrays.Nulla... \n",
      "     5 ...pute/src/haplotyping.jl    31 haplopair!(::Tuple{Array{Int64,1},A... \n",
      "    17 ...pute/src/haplotyping.jl    32 haplopair!(::Tuple{Array{Int64,1},A... \n",
      "    44 ...pute/src/haplotyping.jl    33 haplopair!(::Tuple{Array{Int64,1},A... \n",
      "    17 ...pute/src/haplotyping.jl    36 haplopair!(::Tuple{Array{Int64,1},A... \n",
      "     1 ...pute/src/haplotyping.jl   104 haplopair!(::Array{Float32,2}, ::Ar... \n",
      "     1 ...pute/src/haplotyping.jl   112 haplopair!(::Array{Float32,2}, ::Ar... \n",
      "    83 ...pute/src/haplotyping.jl   114 haplopair!(::Array{Float32,2}, ::Ar... \n",
      "     3 ...pute/src/haplotyping.jl   193 initmissing!(::NullableArrays.Nulla... \n"
     ]
    }
   ],
   "source": [
    "Profile.clear()\n",
    "@profile haploimpute!(Xm, H1, M, N, happair, hapscore)\n",
    "Profile.print(format=:flat)"
   ]
  },
  {
   "cell_type": "markdown",
   "metadata": {},
   "source": [
    "## Phase + impute by moving window"
   ]
  },
  {
   "cell_type": "code",
   "execution_count": 9,
   "metadata": {
    "collapsed": false
   },
   "outputs": [
    {
     "name": "stdout",
     "output_type": "stream",
     "text": [
      "Imputing SNPs 1:400\n",
      "Imputing SNPs 401:800\n",
      "Imputing SNPs 801:1200\n",
      "Imputing SNPs 1201:1600\n",
      "Imputing SNPs 1601:2000\n",
      "Imputing SNPs 2001:2400\n",
      "Imputing SNPs 2401:2800\n",
      "Imputing SNPs 2801:3200\n",
      "Imputing SNPs 3201:3600\n",
      "Imputing SNPs 3601:4000\n",
      "Imputing SNPs 4001:4400\n",
      "Imputing SNPs 4401:4800\n",
      "Imputing SNPs 4801:5200\n",
      "Imputing SNPs 5201:5600\n",
      "Imputing SNPs 5601:6000\n",
      "Imputing SNPs 6001:6400\n",
      "Imputing SNPs 6401:6800\n",
      "Imputing SNPs 6801:7200\n",
      "Imputing SNPs 7201:7600\n",
      "Imputing SNPs 7601:8000\n",
      "Imputing SNPs 8001:8400\n",
      "Imputing SNPs 8401:8800\n",
      "Imputing SNPs 8801:9200\n",
      "Imputing SNPs 9201:9600\n",
      "Imputing SNPs 9601:10000\n",
      "Imputing SNPs 10001:10400\n",
      "Imputing SNPs 10401:10800\n",
      "Imputing SNPs 10801:11200\n",
      "Imputing SNPs 11201:11600\n",
      "Imputing SNPs 11601:12000\n",
      "Imputing SNPs 12001:12400\n",
      "Imputing SNPs 12401:12800\n",
      "Imputing SNPs 12801:13200\n",
      "Imputing SNPs 13201:13600\n",
      "Imputing SNPs 13601:14000\n",
      "Imputing SNPs 14001:14400\n",
      "Imputing SNPs 14401:14800\n",
      "Imputing SNPs 14801:15200\n",
      "Imputing SNPs 15201:15600\n",
      "Imputing SNPs 15601:16000\n",
      "Imputing SNPs 16001:16400\n",
      "Imputing SNPs 16401:16800\n",
      "Imputing SNPs 16801:17200\n",
      "Imputing SNPs 17201:17600\n",
      "Imputing SNPs 17601:18000\n",
      "Imputing SNPs 18001:18400\n",
      "Imputing SNPs 18401:18800\n",
      "Imputing SNPs 18801:19200\n",
      "Imputing SNPs 19201:19600\n",
      "Imputing SNPs 19601:20000\n",
      "Imputing SNPs 20001:20400\n",
      "Imputing SNPs 20401:20800\n",
      "Imputing SNPs 20801:21200\n",
      "Imputing SNPs 21201:21600\n",
      "Imputing SNPs 21601:22000\n",
      "Imputing SNPs 22001:22400\n",
      "Imputing SNPs 22401:22800\n",
      "Imputing SNPs 22801:23200\n",
      "Imputing SNPs 23201:23600\n",
      "Imputing SNPs 23601:24000\n",
      "Imputing SNPs 24001:24400\n",
      "Imputing SNPs 24401:24800\n",
      "Imputing SNPs 24801:25200\n",
      "Imputing SNPs 25201:25600\n",
      "Imputing SNPs 25601:26000\n",
      "Imputing SNPs 26001:26400\n",
      "Imputing SNPs 26401:26800\n",
      "Imputing SNPs 26801:27200\n",
      "Imputing SNPs 27201:27600\n",
      "Imputing SNPs 27601:28000\n",
      "Imputing SNPs 28001:28400\n",
      "Imputing SNPs 28401:28800\n",
      "Imputing SNPs 28801:29200\n",
      "Imputing SNPs 29201:29600\n",
      "Imputing SNPs 29601:30000\n",
      "Imputing SNPs 30001:30400\n",
      "Imputing SNPs 30401:30800\n",
      "Imputing SNPs 30801:31200\n",
      "Imputing SNPs 31201:31600\n",
      "Imputing SNPs 31601:32000\n",
      "Imputing SNPs 32001:32400\n",
      "Imputing SNPs 32401:32800\n",
      "Imputing SNPs 32801:33200\n",
      "Imputing SNPs 33201:33600\n",
      "Imputing SNPs 33601:34000\n",
      "Imputing SNPs 34001:34400\n",
      "Imputing SNPs 34401:34800\n",
      "Imputing SNPs 34801:35200\n",
      "Imputing SNPs 35201:35600\n",
      "Imputing SNPs 35601:36000\n",
      "Imputing SNPs 36001:36498\n",
      " 15.076057 seconds (7.08 M allocations: 158.961 MB, 0.59% gc time)\n"
     ]
    }
   ],
   "source": [
    "using BenchmarkTools, MendelImpute, NullableArrays\n",
    "\n",
    "srand(123)\n",
    "missingprop = 0.1\n",
    "Xm = NullableArray(X, full(sprand(Bool, size(X, 1), size(X, 2), missingprop)))\n",
    "missing_true = X[Xm.isnull]\n",
    "\n",
    "@time haploimpute!(Xm, H, 400)"
   ]
  },
  {
   "cell_type": "code",
   "execution_count": 10,
   "metadata": {
    "collapsed": false
   },
   "outputs": [
    {
     "data": {
      "text/plain": [
       "0.004465366698388301"
      ]
     },
     "execution_count": 10,
     "metadata": {},
     "output_type": "execute_result"
    }
   ],
   "source": [
    "missing_impute = Xm.values[Xm.isnull]\n",
    "error = countnz(missing_true .≠ missing_impute) / length(missing_true)"
   ]
  },
  {
   "cell_type": "code",
   "execution_count": 11,
   "metadata": {
    "collapsed": false
   },
   "outputs": [
    {
     "name": "stdout",
     "output_type": "stream",
     "text": [
      "Imputing SNPs 1:400\n",
      "Imputing SNPs 401:800\n",
      "Imputing SNPs 801:1200\n",
      "Imputing SNPs 1201:1600\n",
      "Imputing SNPs 1601:2000\n",
      "Imputing SNPs 2001:2400\n",
      "Imputing SNPs 2401:2800\n",
      "Imputing SNPs 2801:3200\n",
      "Imputing SNPs 3201:3600\n",
      "Imputing SNPs 3601:4000\n",
      "Imputing SNPs 4001:4400\n",
      "Imputing SNPs 4401:4800\n",
      "Imputing SNPs 4801:5200\n",
      "Imputing SNPs 5201:5600\n",
      "Imputing SNPs 5601:6000\n",
      "Imputing SNPs 6001:6400\n",
      "Imputing SNPs 6401:6800\n",
      "Imputing SNPs 6801:7200\n",
      "Imputing SNPs 7201:7600\n",
      "Imputing SNPs 7601:8000\n",
      "Imputing SNPs 8001:8400\n",
      "Imputing SNPs 8401:8800\n",
      "Imputing SNPs 8801:9200\n",
      "Imputing SNPs 9201:9600\n",
      "Imputing SNPs 9601:10000\n",
      "Imputing SNPs 10001:10400\n",
      "Imputing SNPs 10401:10800\n",
      "Imputing SNPs 10801:11200\n",
      "Imputing SNPs 11201:11600\n",
      "Imputing SNPs 11601:12000\n",
      "Imputing SNPs 12001:12400\n",
      "Imputing SNPs 12401:12800\n",
      "Imputing SNPs 12801:13200\n",
      "Imputing SNPs 13201:13600\n",
      "Imputing SNPs 13601:14000\n",
      "Imputing SNPs 14001:14400\n",
      "Imputing SNPs 14401:14800\n",
      "Imputing SNPs 14801:15200\n",
      "Imputing SNPs 15201:15600\n",
      "Imputing SNPs 15601:16000\n",
      "Imputing SNPs 16001:16400\n",
      "Imputing SNPs 16401:16800\n",
      "Imputing SNPs 16801:17200\n",
      "Imputing SNPs 17201:17600\n",
      "Imputing SNPs 17601:18000\n",
      "Imputing SNPs 18001:18400\n",
      "Imputing SNPs 18401:18800\n",
      "Imputing SNPs 18801:19200\n",
      "Imputing SNPs 19201:19600\n",
      "Imputing SNPs 19601:20000\n",
      "Imputing SNPs 20001:20400\n",
      "Imputing SNPs 20401:20800\n",
      "Imputing SNPs 20801:21200\n",
      "Imputing SNPs 21201:21600\n",
      "Imputing SNPs 21601:22000\n",
      "Imputing SNPs 22001:22400\n",
      "Imputing SNPs 22401:22800\n",
      "Imputing SNPs 22801:23200\n",
      "Imputing SNPs 23201:23600\n",
      "Imputing SNPs 23601:24000\n",
      "Imputing SNPs 24001:24400\n",
      "Imputing SNPs 24401:24800\n",
      "Imputing SNPs 24801:25200\n",
      "Imputing SNPs 25201:25600\n",
      "Imputing SNPs 25601:26000\n",
      "Imputing SNPs 26001:26400\n",
      "Imputing SNPs 26401:26800\n",
      "Imputing SNPs 26801:27200\n",
      "Imputing SNPs 27201:27600\n",
      "Imputing SNPs 27601:28000\n",
      "Imputing SNPs 28001:28400\n",
      "Imputing SNPs 28401:28800\n",
      "Imputing SNPs 28801:29200\n",
      "Imputing SNPs 29201:29600\n",
      "Imputing SNPs 29601:30000\n",
      "Imputing SNPs 30001:30400\n",
      "Imputing SNPs 30401:30800\n",
      "Imputing SNPs 30801:31200\n",
      "Imputing SNPs 31201:31600\n",
      "Imputing SNPs 31601:32000\n",
      "Imputing SNPs 32001:32400\n",
      "Imputing SNPs 32401:32800\n",
      "Imputing SNPs 32801:33200\n",
      "Imputing SNPs 33201:33600\n",
      "Imputing SNPs 33601:34000\n",
      "Imputing SNPs 34001:34400\n",
      "Imputing SNPs 34401:34800\n",
      "Imputing SNPs 34801:35200\n",
      "Imputing SNPs 35201:35600\n",
      "Imputing SNPs 35601:36000\n",
      "Imputing SNPs 36001:36498\n",
      " Count File                        Line Function                               \n",
      "  8578 ./<missing>                   -1 anonymous                              \n",
      "    34 ./abstractarray.jl           794 _getindex                              \n",
      "     1 ./abstractarray.jl           874 _setindex!                             \n",
      "    34 ./abstractarray.jl           760 getindex                               \n",
      "     5 ./abstractarray.jl            67 indices                                \n",
      "     1 ./abstractarray.jl           840 setindex!                              \n",
      "     3 ./abstractarray.jl           434 similar(::NullableArrays.NullableAr... \n",
      "     1 ./abstractarray.jl            47 size(::NullableArrays.NullableArray... \n",
      "     6 ./abstractarray.jl          1428 sub2ind                                \n",
      "     1 ./cartesian.jl                62 macro expansion                        \n",
      "     2 ./cartesian.jl                64 macro expansion                        \n",
      "     1 ./char.jl                     45 print(::Base.PipeEndpoint, ::Char)     \n",
      "     1 ./dict.jl                    696 getindex                               \n",
      "     1 ./dict.jl                    696 getindex(::Dict{String,Any}, ::String) \n",
      "     1 ./dict.jl                    549 ht_keyindex(::Dict{String,Any}, ::S... \n",
      "     1 ./dict.jl                    552 ht_keyindex(::Dict{String,Base.Abst... \n",
      "     1 ./dict.jl                    280 setindex!(::ObjectIdDict, ::Any, ::Any)\n",
      "     8 ./event.jl                   262 (::Base.##359#360{ZMQ.#gc_protect_c... \n",
      "     1 ./event.jl                   267 (::Base.##359#360{ZMQ.#gc_protect_c... \n",
      "     1 ./event.jl                   379 (::Base.##361#362{IJulia.#send_stdo... \n",
      "    10 ./event.jl                   384 (::Base.##361#362{IJulia.#send_stdo... \n",
      "     1 ./event.jl                   241 _uv_hook_close(::Base.AsyncCondition)  \n",
      "     1 ./event.jl                    45 notify(::Condition, ::EOFError, ::B... \n",
      "    12 ./event.jl                    27 wait(::Condition)                      \n",
      "     2 ./event.jl                   147 wait()                                 \n",
      "     1 ./event.jl                   165 wait()                                 \n",
      "     2 ./event.jl                   166 wait()                                 \n",
      "     5 ./event.jl                   169 wait()                                 \n",
      "     3 ./event.jl                   188 wait()                                 \n",
      "     8 ./event.jl                   231 wait(::Base.AsyncCondition)            \n",
      "     1 ./event.jl                   319 wait(::Timer)                          \n",
      "     4 ./event.jl                   136 yieldto(::Task, ::ANY)                 \n",
      "     1 ./io.jl                       54 unsafe_write(::JSON.Writer.StringCo... \n",
      "     4 ./io.jl                       55 unsafe_write(::JSON.Writer.StringCo... \n",
      "     1 ./io.jl                      155 unsafe_write(::Base.PipeEndpoint, :... \n",
      "     9 ./io.jl                      175 write(::Base.PipeEndpoint, ::Array{... \n",
      "     1 ./io.jl                      194 write(::Base.PipeEndpoint, ::Char)     \n",
      "     1 ./libuv.jl                    51 preserve_handle                        \n",
      "     2 ./libuv.jl                    82 process_events(::Bool)                 \n",
      "     3 ./libuv.jl                    84 process_events(::Bool)                 \n",
      "    31 ./linalg/blas.jl             969 gemm!(::Char, ::Char, ::Float32, ::... \n",
      "    17 ./linalg/blas.jl            1151 syrk!(::Char, ::Char, ::Float32, ::... \n",
      "    45 ./linalg/matmul.jl           155 A_mul_Bt!                              \n",
      "    28 ./linalg/matmul.jl           204 copytri!(::Array{Float32,2}, ::Char... \n",
      "    31 ./linalg/matmul.jl           331 gemm_wrapper!(::Array{Float32,2}, :... \n",
      "    45 ./linalg/matmul.jl           257 syrk_wrapper!(::Array{Float32,2}, :... \n",
      "  8578 ./loading.jl                 441 include_string(::String, ::String)     \n",
      "     3 ./multidimensional.jl        342 _unsafe_getindex!                      \n",
      "     6 ./multidimensional.jl        293 _unsafe_getindex(::Base.LinearFast,... \n",
      "     8 ./multidimensional.jl        615 copy!(::SubArray{Float32,2,Array{Fl... \n",
      "    35 ./multidimensional.jl        616 copy!(::SubArray{Bool,2,Array{Bool,... \n",
      "     2 ./multidimensional.jl        615 getindex                               \n",
      "     3 ./multidimensional.jl        298 macro expansion                        \n",
      "     3 ./multidimensional.jl        300 macro expansion                        \n",
      "     3 ./multidimensional.jl        350 macro expansion                        \n",
      "     2 ./multidimensional.jl        352 macro expansion                        \n",
      "  8578 ./profile.jl                  16 macro expansion;                       \n",
      "     1 ./random.jl                 1310 repr(::Base.Random.UUID)               \n",
      "     1 ./range.jl                   832 vcat(::StepRange{Int64,Int64}, ::St... \n",
      "    21 ./simdloop.jl                 73 macro expansion                        \n",
      "     1 ./simdloop.jl                 74 macro expansion                        \n",
      "     3 ./stream.jl                   58 eof(::Base.PipeEndpoint)               \n",
      "     1 ./stream.jl                   42 stream_wait(::Task)                    \n",
      "     2 ./stream.jl                  830 unsafe_write(::Base.PipeEndpoint, :... \n",
      "     1 ./stream.jl                  450 uv_alloc_buf(::Ptr{Void}, ::UInt64,... \n",
      "     1 ./stream.jl                  809 uv_write(::Base.PipeEndpoint, ::Ptr... \n",
      "     1 ./stream.jl                  820 uv_write(::Base.PipeEndpoint, ::Ptr... \n",
      "     3 ./stream.jl                  303 wait_readnb(::Base.PipeEndpoint, ::... \n",
      "     6 ./strings/io.jl               37 #sprint#316(::Void, ::Function, ::I... \n",
      "     2 ./strings/io.jl               19 print(::Base.PipeEndpoint, ::String... \n",
      "     1 ./strings/io.jl               70 print(::Base.PipeEndpoint, ::String)   \n",
      "     5 ./strings/io.jl               70 print                                  \n",
      "    53 ./subarray.jl                150 getindex                               \n",
      "     5 ./subarray.jl                276 indices                                \n",
      "     7 ./subarray.jl                169 setindex!                              \n",
      "  8578 ./task.jl                    360 (::IJulia.##13#19)()                   \n",
      "     3 ./task.jl                    360 (::IJulia.##24#28)()                   \n",
      "     1 ./task.jl                    191 task_done_hook(::Task)                 \n",
      "     4 ...lia/lib/julia/sys.dylib    -1 yieldto(::Task, ::ANY)                 \n",
      "     1 ...lia/lib/julia/sys.dylib    -1 jlcapi_uv_alloc_buf_22193              \n",
      "  8578 ...IJulia/src/eventloop.jl     8 eventloop(::ZMQ.Socket)                \n",
      "  8578 .../src/execute_request.jl   156 execute_request(::ZMQ.Socket, ::IJu... \n",
      "     4 .../v0.5/IJulia/src/msg.jl    23 msg_pub(::IJulia.Msg, ::String, ::D... \n",
      "     3 .../v0.5/IJulia/src/msg.jl    55 send_ipython(::ZMQ.Socket, ::IJulia... \n",
      "     2 .../v0.5/IJulia/src/msg.jl    56 send_ipython(::ZMQ.Socket, ::IJulia... \n",
      "     1 .../v0.5/IJulia/src/msg.jl    58 send_ipython(::ZMQ.Socket, ::IJulia... \n",
      "    10 ...0.5/IJulia/src/stdio.jl    88 send_stdio(::String)                   \n",
      "     1 ...0.5/IJulia/src/stdio.jl   109 send_stream(::String)                  \n",
      "     9 ...0.5/IJulia/src/stdio.jl   130 send_stream(::String)                  \n",
      "     3 ...0.5/IJulia/src/stdio.jl    51 watch_stream(::Base.PipeEndpoint, :... \n",
      "     5 ...v0.5/JSON/src/Writer.jl   329 #show_json#3(::Void, ::Function, ::... \n",
      "     5 ...v0.5/JSON/src/Writer.jl   337 print(::Base.AbstractIOBuffer{Array... \n",
      "     3 ...v0.5/JSON/src/Writer.jl   246 show_json(::JSON.Writer.CompactCont... \n",
      "     5 ...v0.5/JSON/src/Writer.jl   280 show_json(::JSON.Writer.CompactCont... \n",
      "     2 ...v0.5/JSON/src/Writer.jl   224 show_key(::JSON.Writer.CompactConte... \n",
      "     2 ...v0.5/JSON/src/Writer.jl   235 show_pair                              \n",
      "     5 ...v0.5/JSON/src/Writer.jl   238 show_pair(::JSON.Writer.CompactCont... \n",
      "     5 ...v0.5/JSON/src/Writer.jl   193 show_string                            \n",
      "     8 ...pute/src/haplotyping.jl   174 fillgeno!(::SubArray{Float32,2,Arra... \n",
      "    17 ...pute/src/haplotyping.jl   175 fillgeno!(::SubArray{Float32,2,Arra... \n",
      "    15 ...pute/src/haplotyping.jl   146 fillmissing!(::NullableArrays.Nulla... \n",
      "    31 ...pute/src/haplotyping.jl   147 fillmissing!(::NullableArrays.Nulla... \n",
      "    54 ...pute/src/haplotyping.jl   148 fillmissing!(::NullableArrays.Nulla... \n",
      "    15 ...pute/src/haplotyping.jl   149 fillmissing!(::NullableArrays.Nulla... \n",
      "     5 ...pute/src/haplotyping.jl   150 fillmissing!(::NullableArrays.Nulla... \n",
      "   275 ...pute/src/haplotyping.jl   239 haploimpute!(::NullableArrays.Nulla... \n",
      "  8107 ...pute/src/haplotyping.jl   242 haploimpute!(::NullableArrays.Nulla... \n",
      "   120 ...pute/src/haplotyping.jl   244 haploimpute!(::NullableArrays.Nulla... \n",
      "  8578 ...pute/src/haplotyping.jl   280 haploimpute!(::NullableArrays.Nulla... \n",
      "     1 ...pute/src/haplotyping.jl   295 haploimpute!(::NullableArrays.Nulla... \n",
      "    88 ...pute/src/haplotyping.jl   307 haploimpute!(::NullableArrays.Nulla... \n",
      "     2 ...pute/src/haplotyping.jl   315 haploimpute!(::NullableArrays.Nulla... \n",
      "    25 ...pute/src/haplotyping.jl   320 haploimpute!(::NullableArrays.Nulla... \n",
      "    12 ...pute/src/haplotyping.jl   321 haploimpute!(::NullableArrays.Nulla... \n",
      "    25 ...pute/src/haplotyping.jl   325 haploimpute!(::NullableArrays.Nulla... \n",
      "     6 ...pute/src/haplotyping.jl   326 haploimpute!(::NullableArrays.Nulla... \n",
      "  8323 ...pute/src/haplotyping.jl   329 haploimpute!(::NullableArrays.Nulla... \n",
      "     5 ...pute/src/haplotyping.jl   336 haploimpute!(::NullableArrays.Nulla... \n",
      "    91 ...pute/src/haplotyping.jl   348 haploimpute!(::NullableArrays.Nulla... \n",
      "     2 ...pute/src/haplotyping.jl    28 haplopair!(::Tuple{Array{Int64,1},A... \n",
      "    41 ...pute/src/haplotyping.jl    29 haplopair!(::Tuple{Array{Int64,1},A... \n",
      "   840 ...pute/src/haplotyping.jl    31 haplopair!(::Tuple{Array{Int64,1},A... \n",
      "  1138 ...pute/src/haplotyping.jl    32 haplopair!(::Tuple{Array{Int64,1},A... \n",
      "  4295 ...pute/src/haplotyping.jl    33 haplopair!(::Tuple{Array{Int64,1},A... \n",
      "     1 ...pute/src/haplotyping.jl    34 haplopair!(::Tuple{Array{Int64,1},A... \n",
      "     2 ...pute/src/haplotyping.jl    35 haplopair!(::Tuple{Array{Int64,1},A... \n",
      "  1658 ...pute/src/haplotyping.jl    36 haplopair!(::Tuple{Array{Int64,1},A... \n",
      "    45 ...pute/src/haplotyping.jl   101 haplopair!(::Array{Float32,2}, ::Su... \n",
      "     1 ...pute/src/haplotyping.jl   103 haplopair!(::Array{Float32,2}, ::Su... \n",
      "    19 ...pute/src/haplotyping.jl   104 haplopair!(::Array{Float32,2}, ::Su... \n",
      "    31 ...pute/src/haplotyping.jl   110 haplopair!(::Array{Float32,2}, ::Su... \n",
      "    12 ...pute/src/haplotyping.jl   112 haplopair!(::Array{Float32,2}, ::Su... \n",
      "  7977 ...pute/src/haplotyping.jl   114 haplopair!(::Array{Float32,2}, ::Su... \n",
      "    22 ...pute/src/haplotyping.jl   116 haplopair!(::Array{Float32,2}, ::Su... \n",
      "    32 ...pute/src/haplotyping.jl   192 initmissing!(::NullableArrays.Nulla... \n",
      "    70 ...pute/src/haplotyping.jl   193 initmissing!(::NullableArrays.Nulla... \n",
      "     2 ...pute/src/haplotyping.jl   194 initmissing!(::NullableArrays.Nulla... \n",
      "   106 ...pute/src/haplotyping.jl   195 initmissing!(::NullableArrays.Nulla... \n",
      "     1 ...pute/src/haplotyping.jl   199 initmissing!(::NullableArrays.Nulla... \n",
      "    13 ...pute/src/haplotyping.jl   200 initmissing!(::NullableArrays.Nulla... \n",
      "    21 ...pute/src/haplotyping.jl   201 initmissing!(::NullableArrays.Nulla... \n",
      "    30 ...pute/src/haplotyping.jl   202 initmissing!(::NullableArrays.Nulla... \n",
      "    21 ...pute/src/haplotyping.jl   117 macro expansion                        \n",
      "     3 ...ays/src/constructors.jl    25 Type                                   \n",
      "     1 ...eArrays/src/indexing.jl    59 setindex!                              \n",
      "     1 ...eArrays/src/indexing.jl    60 setindex!                              \n",
      "     3 ...rrays/src/primitives.jl    20 similar                                \n"
     ]
    }
   ],
   "source": [
    "Profile.clear()\n",
    "@profile haploimpute!(Xm, H, 400)\n",
    "Profile.print(format=:flat)"
   ]
  },
  {
   "cell_type": "code",
   "execution_count": null,
   "metadata": {
    "collapsed": true
   },
   "outputs": [],
   "source": []
  }
 ],
 "metadata": {
  "kernelspec": {
   "display_name": "Julia 0.5.2",
   "language": "julia",
   "name": "julia-0.5"
  },
  "language_info": {
   "file_extension": ".jl",
   "mimetype": "application/julia",
   "name": "julia",
   "version": "0.5.2"
  },
  "toc": {
   "colors": {
    "hover_highlight": "#DAA520",
    "running_highlight": "#FF0000",
    "selected_highlight": "#FFD700"
   },
   "moveMenuLeft": true,
   "nav_menu": {
    "height": "65px",
    "width": "252px"
   },
   "navigate_menu": true,
   "number_sections": true,
   "sideBar": true,
   "threshold": 4,
   "toc_cell": false,
   "toc_section_display": "block",
   "toc_window_display": false,
   "widenNotebook": false
  }
 },
 "nbformat": 4,
 "nbformat_minor": 2
}
