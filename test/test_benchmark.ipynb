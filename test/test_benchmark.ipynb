{
 "cells": [
  {
   "cell_type": "markdown",
   "metadata": {},
   "source": [
    "# Test and Benchmark"
   ]
  },
  {
   "cell_type": "code",
   "execution_count": 1,
   "metadata": {
    "collapsed": false
   },
   "outputs": [
    {
     "name": "stderr",
     "output_type": "stream",
     "text": [
      "┌ Info: Precompiling MendelImpute [e47305d1-6a61-5370-bc5d-77554d143183]\n",
      "└ @ Base loading.jl:1273\n"
     ]
    }
   ],
   "source": [
    "using Revise\n",
    "using VCFTools\n",
    "using LinearAlgebra\n",
    "using MendelImpute\n",
    "using GeneticVariation\n",
    "using Random\n",
    "using StatsBase\n",
    "using CodecZlib\n",
    "using ProgressMeter\n",
    "using JLD2, FileIO, JLSO\n",
    "using BenchmarkTools\n",
    "using GroupSlices"
   ]
  },
  {
   "cell_type": "markdown",
   "metadata": {},
   "source": [
    "## Haplotyping timing varying number of haplotypes"
   ]
  },
  {
   "cell_type": "code",
   "execution_count": 15,
   "metadata": {
    "collapsed": false
   },
   "outputs": [
    {
     "name": "stdout",
     "output_type": "stream",
     "text": [
      "n = 100, p = 100, d = 100 time = 0.000456208\n",
      "n = 100, p = 100, d = 1000 time = 0.038313572\n",
      "n = 100, p = 100, d = 10000 time = 3.35376975\n",
      "n = 100, p = 1000, d = 100 time = 0.0003795\n",
      "n = 100, p = 1000, d = 1000 time = 0.038590982\n",
      "n = 100, p = 1000, d = 10000 time = 3.374475433\n",
      "n = 100, p = 10000, d = 100 time = 0.000484978\n",
      "n = 100, p = 10000, d = 1000 time = 0.03808498\n",
      "n = 100, p = 10000, d = 10000 time = 3.397484089\n",
      "n = 1000, p = 100, d = 100 time = 0.004034878\n",
      "n = 1000, p = 100, d = 1000 time = 0.3387065\n",
      "n = 1000, p = 100, d = 10000 time = 34.682602842\n",
      "n = 1000, p = 1000, d = 100 time = 0.004231036\n",
      "n = 1000, p = 1000, d = 1000 time = 0.375277053\n",
      "n = 1000, p = 1000, d = 10000 time = 36.049891365\n",
      "n = 1000, p = 10000, d = 100 time = 0.003922379\n",
      "n = 1000, p = 10000, d = 1000 time = 0.403318508\n",
      "n = 1000, p = 10000, d = 10000 time = 35.155680319\n",
      "n = 10000, p = 100, d = 100 time = 0.040836424\n",
      "n = 10000, p = 100, d = 1000 time = 3.727595042\n",
      "n = 10000, p = 100, d = 10000 time = 355.668273795\n",
      "n = 10000, p = 1000, d = 100 time = 0.040800191\n",
      "n = 10000, p = 1000, d = 1000 time = 3.720770783\n",
      "n = 10000, p = 1000, d = 10000 time = 374.95481144\n",
      "n = 10000, p = 10000, d = 100 time = 0.042323945\n",
      "n = 10000, p = 10000, d = 1000 time = 3.484835278\n",
      "n = 10000, p = 10000, d = 10000 time = 358.478209292\n"
     ]
    }
   ],
   "source": [
    "Random.seed!(123)\n",
    "ns = [100, 1000, 10000] # number of individuals\n",
    "ps = [100, 1000, 10000]    # number of typed SNPs\n",
    "ds = [100, 1000, 10000]  # number of reference haplotypes\n",
    "for n in ns, p in ps, d in ds\n",
    "    H = convert(Matrix{Float32}, rand(0:1, p, d))\n",
    "    X = convert(Matrix{Float32}, rand(0:2, p, n))\n",
    "    M = Transpose(H) * H\n",
    "    for j in 1:d, i in 1:(j - 1) # off-diagonal\n",
    "        M[i, j] = 2M[i, j] + M[i, i] + M[j, j]\n",
    "    end\n",
    "    for j in 1:d # diagonal\n",
    "        M[j, j] *= 4\n",
    "    end\n",
    "    N = Transpose(X) * H\n",
    "    for I in eachindex(N)\n",
    "        N[I] *= 2\n",
    "    end\n",
    "    happair  = zeros(Int, n), zeros(Int, n)\n",
    "    hapscore = zeros(eltype(N), n)\n",
    "    t = @elapsed haplopair!(happair, hapscore, M, N)\n",
    "    println(\"n = $n, p = $p, d = $d time = $t\")\n",
    "end"
   ]
  },
  {
   "cell_type": "markdown",
   "metadata": {},
   "source": [
    "# Try another way to compute optimal haplotypes"
   ]
  },
  {
   "cell_type": "code",
   "execution_count": null,
   "metadata": {
    "collapsed": true
   },
   "outputs": [],
   "source": [
    "Random.seed!(123)\n",
    "ns = [100, 1000]         # number of individuals\n",
    "ps = 100                 # number of typed SNPs\n",
    "ds = [100, 1000, 10000]  # number of reference haplotypes\n",
    "for n in ns, d in ds\n",
    "    H = convert(Matrix{Float32}, rand(0:1, p, d))\n",
    "    X = convert(Matrix{Float32}, rand(0:2, p, n))\n",
    "    M = Transpose(H) * H\n",
    "    for j in 1:d, i in 1:(j - 1) # off-diagonal\n",
    "        M[i, j] = 2M[i, j] + M[i, i] + M[j, j]\n",
    "    end\n",
    "    for j in 1:d # diagonal\n",
    "        M[j, j] *= 4\n",
    "    end\n",
    "    N = Transpose(X) * H\n",
    "    for I in eachindex(N)\n",
    "        N[I] *= 2\n",
    "    end\n",
    "    happair  = zeros(Int, n), zeros(Int, n)\n",
    "    hapscore = zeros(eltype(N), n)\n",
    "    t1 = @elapsed haplopair!(happair, hapscore, M, N)\n",
    "    t2 = @elapsed haplopair2!(happair, hapscore, M, N)\n",
    "    println(\"n = $n, p = $p, d = $d time = $t\")\n",
    "end"
   ]
  },
  {
   "cell_type": "code",
   "execution_count": 13,
   "metadata": {
    "collapsed": false
   },
   "outputs": [
    {
     "data": {
      "text/plain": [
       "haplopair2! (generic function with 1 method)"
      ]
     },
     "execution_count": 13,
     "metadata": {},
     "output_type": "execute_result"
    }
   ],
   "source": [
    "# note for future self: the UpperTriangular matrix seems to be allocating. Getting rid of it\n",
    "# probably makes the resulting code the same as haplopair!\n",
    "function haplopair2!(\n",
    "    happairs::Tuple{AbstractVector, AbstractVector},\n",
    "    hapmin::Vector{T},\n",
    "    M::AbstractMatrix{T}, #upper triangular matrix\n",
    "    N::AbstractMatrix{T},\n",
    "    ons::AbstractVector{T},\n",
    "    Nk::AbstractVector{T},\n",
    "    storage::AbstractMatrix{T}\n",
    "    ) where T <: Real\n",
    "\n",
    "    n, d = size(N)\n",
    "    fill!(hapmin, typemax(T))\n",
    "\n",
    "    # for each individual k find minimum of M_ij - n_ki - n_kj\n",
    "    for k in 1:n\n",
    "        copyto!(Nk, @view(N[k, :]))\n",
    "        storage .= M .- UpperTriangular(Nk .* ons') .- UpperTriangular(ons .* Nk')\n",
    "        hapmin[k], index = findmin(storage)\n",
    "        happairs[1][k], happairs[2][k] = index[1], index[2]\n",
    "    end\n",
    "\n",
    "    return nothing\n",
    "end"
   ]
  },
  {
   "cell_type": "code",
   "execution_count": 9,
   "metadata": {
    "collapsed": false
   },
   "outputs": [],
   "source": [
    "using Random, LinearAlgebra, MendelImpute"
   ]
  },
  {
   "cell_type": "code",
   "execution_count": 14,
   "metadata": {
    "collapsed": false
   },
   "outputs": [
    {
     "name": "stdout",
     "output_type": "stream",
     "text": [
      "  0.143195 seconds (4 allocations: 160 bytes)\n",
      "  3.116689 seconds (1.29 M allocations: 3.040 GiB, 9.63% gc time)\n"
     ]
    }
   ],
   "source": [
    "Random.seed!(123)\n",
    "# ns = [100, 1000]         # number of individuals\n",
    "# ps = 100                 # number of typed SNPs\n",
    "# ds = [100, 1000, 10000]  # number of reference haplotypes\n",
    "\n",
    "n = p = 100\n",
    "d = 2000\n",
    "\n",
    "H = convert(Matrix{Float32}, rand(0:1, p, d))\n",
    "X = convert(Matrix{Float32}, rand(0:2, p, n))\n",
    "M = Transpose(H) * H\n",
    "for j in 1:d, i in 1:(j - 1) # off-diagonal\n",
    "    M[i, j] = 2M[i, j] + M[i, i] + M[j, j]\n",
    "end\n",
    "for j in 1:d # diagonal\n",
    "    M[j, j] *= 4\n",
    "end\n",
    "N = Transpose(X) * H\n",
    "for I in eachindex(N)\n",
    "    N[I] *= 2\n",
    "end\n",
    "happair1 = zeros(Int, n), zeros(Int, n)\n",
    "happair2 = zeros(Int, n), zeros(Int, n)\n",
    "hapscore1 = zeros(eltype(N), n)\n",
    "hapscore2 = zeros(eltype(N), n)\n",
    "\n",
    "ons = ones(Float32, d)\n",
    "Nk = zeros(Float32, d)\n",
    "storage = zeros(Float32, d, d)\n",
    "\n",
    "@time haplopair!(happair1, hapscore1, M, N)\n",
    "@time haplopair2!(happair2, hapscore2, M, N, ons, Nk, storage)"
   ]
  },
  {
   "cell_type": "code",
   "execution_count": 15,
   "metadata": {
    "collapsed": false
   },
   "outputs": [
    {
     "data": {
      "text/plain": [
       "([534, 84, 490, 386, 99, 1602, 1221, 29, 681, 143  …  1129, 403, 155, 903, 136, 18, 470, 255, 267, 598], [1272, 459, 1285, 1004, 1390, 1738, 1551, 550, 1466, 755  …  1130, 930, 1786, 965, 1357, 1801, 1252, 1228, 1440, 1005])"
      ]
     },
     "execution_count": 15,
     "metadata": {},
     "output_type": "execute_result"
    }
   ],
   "source": [
    "happair1"
   ]
  },
  {
   "cell_type": "code",
   "execution_count": 16,
   "metadata": {
    "collapsed": false
   },
   "outputs": [
    {
     "data": {
      "text/plain": [
       "([534, 84, 490, 386, 99, 1602, 1221, 29, 681, 143  …  1129, 403, 155, 903, 136, 18, 470, 255, 267, 598], [1272, 459, 1285, 1004, 1390, 1738, 1551, 550, 1466, 755  …  1130, 930, 1786, 965, 1357, 1801, 1252, 1228, 1440, 1005])"
      ]
     },
     "execution_count": 16,
     "metadata": {},
     "output_type": "execute_result"
    }
   ],
   "source": [
    "happair2"
   ]
  },
  {
   "cell_type": "markdown",
   "metadata": {},
   "source": [
    "# Try using Distance package"
   ]
  },
  {
   "cell_type": "code",
   "execution_count": 77,
   "metadata": {
    "collapsed": false
   },
   "outputs": [],
   "source": [
    "Random.seed!(123)\n",
    "\n",
    "n = 100\n",
    "p = 100\n",
    "d = 1000\n",
    "\n",
    "H = bitrand(p, d)\n",
    "X = rand(UInt8, p, n);"
   ]
  },
  {
   "cell_type": "code",
   "execution_count": 78,
   "metadata": {
    "collapsed": false
   },
   "outputs": [
    {
     "name": "stdout",
     "output_type": "stream",
     "text": [
      "  0.058263 seconds (19 allocations: 4.619 MiB)\n"
     ]
    },
    {
     "data": {
      "text/plain": [
       "(([860, 340, 340, 340, 340, 197, 340, 340, 340, 340  …  340, 340, 229, 340, 193, 340, 583, 197, 340, 340], [860, 340, 728, 340, 340, 197, 765, 340, 340, 340  …  340, 340, 229, 340, 845, 340, 583, 197, 340, 340]), Float32[2.208377e6, 2.084862e6, 2.254124e6, 1.995901e6, 2.365823e6, 2.214043e6, 1.976373e6, 2.180052e6, 2.245112e6, 1.936614e6  …  1.906484e6, 1.976561e6, 1.964542e6, 2.255616e6, 2.217225e6, 2.072651e6, 2.211937e6, 2.235235e6, 2.138406e6, 2.203285e6])"
      ]
     },
     "execution_count": 78,
     "metadata": {},
     "output_type": "execute_result"
    }
   ],
   "source": [
    "@time happairs, hapscore = haplopair(X, H)"
   ]
  },
  {
   "cell_type": "code",
   "execution_count": 79,
   "metadata": {
    "collapsed": false
   },
   "outputs": [
    {
     "name": "stdout",
     "output_type": "stream",
     "text": [
      "  0.241185 seconds (100.43 k allocations: 9.984 MiB)\n"
     ]
    },
    {
     "data": {
      "text/plain": [
       "(([860, 340, 728, 340, 340, 197, 340, 340, 340, 340  …  340, 340, 229, 340, 193, 340, 583, 197, 340, 340], [860, 340, 340, 340, 340, 197, 765, 340, 340, 340  …  340, 340, 229, 340, 845, 340, 583, 197, 340, 340]), Float32[2.208377e6, 2.084862e6, 2.254124e6, 1.995901e6, 2.365823e6, 2.214043e6, 1.976373e6, 2.180052e6, 2.245112e6, 1.936614e6  …  1.906484e6, 1.976561e6, 1.964542e6, 2.255616e6, 2.217225e6, 2.072651e6, 2.211937e6, 2.235235e6, 2.138406e6, 2.203285e6])"
      ]
     },
     "execution_count": 79,
     "metadata": {},
     "output_type": "execute_result"
    }
   ],
   "source": [
    "@time happairs, hapscore = haplopair_thin(X, H, keep = 1000)"
   ]
  },
  {
   "cell_type": "code",
   "execution_count": 80,
   "metadata": {
    "collapsed": false
   },
   "outputs": [
    {
     "name": "stdout",
     "output_type": "stream",
     "text": [
      "  0.035336 seconds (100.43 k allocations: 5.860 MiB)\n"
     ]
    },
    {
     "data": {
      "text/plain": [
       "(([16, 133, 16, 79, 4, 133, 98, 229, 79, 340  …  16, 4, 79, 143, 164, 16, 133, 54, 193, 79], [16, 133, 16, 79, 4, 169, 98, 229, 79, 340  …  16, 4, 79, 143, 164, 16, 133, 54, 193, 79]), Float32[2.211473e6, 2.089394e6, 2.258094e6, 1.999909e6, 2.369783e6, 2.218648e6, 1.980113e6, 2.181852e6, 2.2493e6, 1.936614e6  …  1.90824e6, 1.979109e6, 1.969238e6, 2.260148e6, 2.218616e6, 2.077211e6, 2.215713e6, 2.238991e6, 2.140286e6, 2.206365e6])"
      ]
     },
     "execution_count": 80,
     "metadata": {},
     "output_type": "execute_result"
    }
   ],
   "source": [
    "@time happairs, hapscore = haplopair_thin(X, H, keep = 100)"
   ]
  },
  {
   "cell_type": "code",
   "execution_count": 81,
   "metadata": {
    "collapsed": true
   },
   "outputs": [],
   "source": [
    "linsp = 100:500:10000\n",
    "t1 = zeros(length(linsp))\n",
    "t2 = zeros(length(linsp))\n",
    "n = 100\n",
    "p = 100\n",
    "\n",
    "Random.seed!(2020)\n",
    "for (i, d) in enumerate(linsp)\n",
    "    H = bitrand(p, d)\n",
    "    X = rand(UInt8, p, n);\n",
    "    t1[i] = @elapsed haplopair(X, H)\n",
    "    t2[i] = @elapsed haplopair_thin(X, H, keep = 100)\n",
    "end"
   ]
  },
  {
   "cell_type": "code",
   "execution_count": 90,
   "metadata": {
    "collapsed": false
   },
   "outputs": [
    {
     "data": {
      "image/svg+xml": [
       "<?xml version=\"1.0\" encoding=\"utf-8\"?>\n",
       "<svg xmlns=\"http://www.w3.org/2000/svg\" xmlns:xlink=\"http://www.w3.org/1999/xlink\" width=\"600\" height=\"400\" viewBox=\"0 0 2400 1600\">\n",
       "<defs>\n",
       "  <clipPath id=\"clip1000\">\n",
       "    <rect x=\"0\" y=\"0\" width=\"2400\" height=\"1600\"/>\n",
       "  </clipPath>\n",
       "</defs>\n",
       "<path clip-path=\"url(#clip1000)\" d=\"\n",
       "M0 1600 L2400 1600 L2400 0 L0 0  Z\n",
       "  \" fill=\"#ffffff\" fill-rule=\"evenodd\" fill-opacity=\"1\"/>\n",
       "<defs>\n",
       "  <clipPath id=\"clip1001\">\n",
       "    <rect x=\"480\" y=\"0\" width=\"1681\" height=\"1600\"/>\n",
       "  </clipPath>\n",
       "</defs>\n",
       "<path clip-path=\"url(#clip1000)\" d=\"\n",
       "M175.611 1425.62 L2352.76 1425.62 L2352.76 47.2441 L175.611 47.2441  Z\n",
       "  \" fill=\"#ffffff\" fill-rule=\"evenodd\" fill-opacity=\"1\"/>\n",
       "<defs>\n",
       "  <clipPath id=\"clip1002\">\n",
       "    <rect x=\"175\" y=\"47\" width=\"2178\" height=\"1379\"/>\n",
       "  </clipPath>\n",
       "</defs>\n",
       "<polyline clip-path=\"url(#clip1002)\" style=\"stroke:#000000; stroke-width:2; stroke-opacity:0.1; fill:none\" points=\"\n",
       "  215.608,1425.62 215.608,47.2441 \n",
       "  \"/>\n",
       "<polyline clip-path=\"url(#clip1002)\" style=\"stroke:#000000; stroke-width:2; stroke-opacity:0.1; fill:none\" points=\"\n",
       "  648.01,1425.62 648.01,47.2441 \n",
       "  \"/>\n",
       "<polyline clip-path=\"url(#clip1002)\" style=\"stroke:#000000; stroke-width:2; stroke-opacity:0.1; fill:none\" points=\"\n",
       "  1080.41,1425.62 1080.41,47.2441 \n",
       "  \"/>\n",
       "<polyline clip-path=\"url(#clip1002)\" style=\"stroke:#000000; stroke-width:2; stroke-opacity:0.1; fill:none\" points=\"\n",
       "  1512.81,1425.62 1512.81,47.2441 \n",
       "  \"/>\n",
       "<polyline clip-path=\"url(#clip1002)\" style=\"stroke:#000000; stroke-width:2; stroke-opacity:0.1; fill:none\" points=\"\n",
       "  1945.22,1425.62 1945.22,47.2441 \n",
       "  \"/>\n",
       "<polyline clip-path=\"url(#clip1002)\" style=\"stroke:#000000; stroke-width:2; stroke-opacity:0.1; fill:none\" points=\"\n",
       "  175.611,1386.82 2352.76,1386.82 \n",
       "  \"/>\n",
       "<polyline clip-path=\"url(#clip1002)\" style=\"stroke:#000000; stroke-width:2; stroke-opacity:0.1; fill:none\" points=\"\n",
       "  175.611,1104.1 2352.76,1104.1 \n",
       "  \"/>\n",
       "<polyline clip-path=\"url(#clip1002)\" style=\"stroke:#000000; stroke-width:2; stroke-opacity:0.1; fill:none\" points=\"\n",
       "  175.611,821.385 2352.76,821.385 \n",
       "  \"/>\n",
       "<polyline clip-path=\"url(#clip1002)\" style=\"stroke:#000000; stroke-width:2; stroke-opacity:0.1; fill:none\" points=\"\n",
       "  175.611,538.667 2352.76,538.667 \n",
       "  \"/>\n",
       "<polyline clip-path=\"url(#clip1002)\" style=\"stroke:#000000; stroke-width:2; stroke-opacity:0.1; fill:none\" points=\"\n",
       "  175.611,255.948 2352.76,255.948 \n",
       "  \"/>\n",
       "<polyline clip-path=\"url(#clip1000)\" style=\"stroke:#000000; stroke-width:4; stroke-opacity:1; fill:none\" points=\"\n",
       "  175.611,1425.62 2352.76,1425.62 \n",
       "  \"/>\n",
       "<polyline clip-path=\"url(#clip1000)\" style=\"stroke:#000000; stroke-width:4; stroke-opacity:1; fill:none\" points=\"\n",
       "  175.611,1425.62 175.611,47.2441 \n",
       "  \"/>\n",
       "<polyline clip-path=\"url(#clip1000)\" style=\"stroke:#000000; stroke-width:4; stroke-opacity:1; fill:none\" points=\"\n",
       "  215.608,1425.62 215.608,1409.08 \n",
       "  \"/>\n",
       "<polyline clip-path=\"url(#clip1000)\" style=\"stroke:#000000; stroke-width:4; stroke-opacity:1; fill:none\" points=\"\n",
       "  648.01,1425.62 648.01,1409.08 \n",
       "  \"/>\n",
       "<polyline clip-path=\"url(#clip1000)\" style=\"stroke:#000000; stroke-width:4; stroke-opacity:1; fill:none\" points=\"\n",
       "  1080.41,1425.62 1080.41,1409.08 \n",
       "  \"/>\n",
       "<polyline clip-path=\"url(#clip1000)\" style=\"stroke:#000000; stroke-width:4; stroke-opacity:1; fill:none\" points=\"\n",
       "  1512.81,1425.62 1512.81,1409.08 \n",
       "  \"/>\n",
       "<polyline clip-path=\"url(#clip1000)\" style=\"stroke:#000000; stroke-width:4; stroke-opacity:1; fill:none\" points=\"\n",
       "  1945.22,1425.62 1945.22,1409.08 \n",
       "  \"/>\n",
       "<polyline clip-path=\"url(#clip1000)\" style=\"stroke:#000000; stroke-width:4; stroke-opacity:1; fill:none\" points=\"\n",
       "  175.611,1386.82 201.736,1386.82 \n",
       "  \"/>\n",
       "<polyline clip-path=\"url(#clip1000)\" style=\"stroke:#000000; stroke-width:4; stroke-opacity:1; fill:none\" points=\"\n",
       "  175.611,1104.1 201.736,1104.1 \n",
       "  \"/>\n",
       "<polyline clip-path=\"url(#clip1000)\" style=\"stroke:#000000; stroke-width:4; stroke-opacity:1; fill:none\" points=\"\n",
       "  175.611,821.385 201.736,821.385 \n",
       "  \"/>\n",
       "<polyline clip-path=\"url(#clip1000)\" style=\"stroke:#000000; stroke-width:4; stroke-opacity:1; fill:none\" points=\"\n",
       "  175.611,538.667 201.736,538.667 \n",
       "  \"/>\n",
       "<polyline clip-path=\"url(#clip1000)\" style=\"stroke:#000000; stroke-width:4; stroke-opacity:1; fill:none\" points=\"\n",
       "  175.611,255.948 201.736,255.948 \n",
       "  \"/>\n",
       "<g clip-path=\"url(#clip1000)\">\n",
       "<text style=\"fill:#000000; fill-opacity:1; font-family:Arial,Helvetica Neue,Helvetica,sans-serif; font-size:48px; text-anchor:middle;\" transform=\"rotate(0, 215.608, 1479.62)\" x=\"215.608\" y=\"1479.62\">0</text>\n",
       "</g>\n",
       "<g clip-path=\"url(#clip1000)\">\n",
       "<text style=\"fill:#000000; fill-opacity:1; font-family:Arial,Helvetica Neue,Helvetica,sans-serif; font-size:48px; text-anchor:middle;\" transform=\"rotate(0, 648.01, 1479.62)\" x=\"648.01\" y=\"1479.62\">2000</text>\n",
       "</g>\n",
       "<g clip-path=\"url(#clip1000)\">\n",
       "<text style=\"fill:#000000; fill-opacity:1; font-family:Arial,Helvetica Neue,Helvetica,sans-serif; font-size:48px; text-anchor:middle;\" transform=\"rotate(0, 1080.41, 1479.62)\" x=\"1080.41\" y=\"1479.62\">4000</text>\n",
       "</g>\n",
       "<g clip-path=\"url(#clip1000)\">\n",
       "<text style=\"fill:#000000; fill-opacity:1; font-family:Arial,Helvetica Neue,Helvetica,sans-serif; font-size:48px; text-anchor:middle;\" transform=\"rotate(0, 1512.81, 1479.62)\" x=\"1512.81\" y=\"1479.62\">6000</text>\n",
       "</g>\n",
       "<g clip-path=\"url(#clip1000)\">\n",
       "<text style=\"fill:#000000; fill-opacity:1; font-family:Arial,Helvetica Neue,Helvetica,sans-serif; font-size:48px; text-anchor:middle;\" transform=\"rotate(0, 1945.22, 1479.62)\" x=\"1945.22\" y=\"1479.62\">8000</text>\n",
       "</g>\n",
       "<g clip-path=\"url(#clip1000)\">\n",
       "<text style=\"fill:#000000; fill-opacity:1; font-family:Arial,Helvetica Neue,Helvetica,sans-serif; font-size:48px; text-anchor:end;\" transform=\"rotate(0, 151.611, 1404.32)\" x=\"151.611\" y=\"1404.32\">0</text>\n",
       "</g>\n",
       "<g clip-path=\"url(#clip1000)\">\n",
       "<text style=\"fill:#000000; fill-opacity:1; font-family:Arial,Helvetica Neue,Helvetica,sans-serif; font-size:48px; text-anchor:end;\" transform=\"rotate(0, 151.611, 1121.6)\" x=\"151.611\" y=\"1121.6\">1</text>\n",
       "</g>\n",
       "<g clip-path=\"url(#clip1000)\">\n",
       "<text style=\"fill:#000000; fill-opacity:1; font-family:Arial,Helvetica Neue,Helvetica,sans-serif; font-size:48px; text-anchor:end;\" transform=\"rotate(0, 151.611, 838.885)\" x=\"151.611\" y=\"838.885\">2</text>\n",
       "</g>\n",
       "<g clip-path=\"url(#clip1000)\">\n",
       "<text style=\"fill:#000000; fill-opacity:1; font-family:Arial,Helvetica Neue,Helvetica,sans-serif; font-size:48px; text-anchor:end;\" transform=\"rotate(0, 151.611, 556.167)\" x=\"151.611\" y=\"556.167\">3</text>\n",
       "</g>\n",
       "<g clip-path=\"url(#clip1000)\">\n",
       "<text style=\"fill:#000000; fill-opacity:1; font-family:Arial,Helvetica Neue,Helvetica,sans-serif; font-size:48px; text-anchor:end;\" transform=\"rotate(0, 151.611, 273.448)\" x=\"151.611\" y=\"273.448\">4</text>\n",
       "</g>\n",
       "<g clip-path=\"url(#clip1000)\">\n",
       "<text style=\"fill:#000000; fill-opacity:1; font-family:Arial,Helvetica Neue,Helvetica,sans-serif; font-size:66px; text-anchor:middle;\" transform=\"rotate(0, 1264.18, 1559.48)\" x=\"1264.18\" y=\"1559.48\">Number of haplotypes</text>\n",
       "</g>\n",
       "<g clip-path=\"url(#clip1000)\">\n",
       "<text style=\"fill:#000000; fill-opacity:1; font-family:Arial,Helvetica Neue,Helvetica,sans-serif; font-size:66px; text-anchor:middle;\" transform=\"rotate(-90, 89.2861, 736.431)\" x=\"89.2861\" y=\"736.431\">Seconds</text>\n",
       "</g>\n",
       "<polyline clip-path=\"url(#clip1002)\" style=\"stroke:#009af9; stroke-width:4; stroke-opacity:1; fill:none\" points=\"\n",
       "  237.228,1386.61 345.328,1381.49 453.429,1369.05 561.53,1338.31 669.63,1323.57 777.731,1263.31 885.831,1249.46 993.932,1204.15 1102.03,1147.22 1210.13,1085.93 \n",
       "  1318.23,1023.29 1426.33,945.667 1534.43,839.406 1642.54,754.029 1750.64,682.616 1858.74,580.19 1966.84,464.454 2074.94,349.698 2183.04,221.638 2291.14,86.2547 \n",
       "  \n",
       "  \"/>\n",
       "<polyline clip-path=\"url(#clip1002)\" style=\"stroke:#e26f46; stroke-width:4; stroke-opacity:1; fill:none\" points=\"\n",
       "  237.228,1384.27 345.328,1381.37 453.429,1377.91 561.53,1376.07 669.63,1372.75 777.731,1369.89 885.831,1342.35 993.932,1365.49 1102.03,1361.37 1210.13,1360.37 \n",
       "  1318.23,1357.65 1426.33,1354.92 1534.43,1352.45 1642.54,1349.55 1750.64,1347.07 1858.74,1344.42 1966.84,1341.56 2074.94,1338.94 2183.04,1336.53 2291.14,1333.6 \n",
       "  \n",
       "  \"/>\n",
       "<path clip-path=\"url(#clip1000)\" d=\"\n",
       "M1286.36 312.204 L2280.76 312.204 L2280.76 130.764 L1286.36 130.764  Z\n",
       "  \" fill=\"#ffffff\" fill-rule=\"evenodd\" fill-opacity=\"1\"/>\n",
       "<polyline clip-path=\"url(#clip1000)\" style=\"stroke:#000000; stroke-width:4; stroke-opacity:1; fill:none\" points=\"\n",
       "  1286.36,312.204 2280.76,312.204 2280.76,130.764 1286.36,130.764 1286.36,312.204 \n",
       "  \"/>\n",
       "<polyline clip-path=\"url(#clip1000)\" style=\"stroke:#009af9; stroke-width:4; stroke-opacity:1; fill:none\" points=\"\n",
       "  1310.36,191.244 1454.36,191.244 \n",
       "  \"/>\n",
       "<g clip-path=\"url(#clip1000)\">\n",
       "<text style=\"fill:#000000; fill-opacity:1; font-family:Arial,Helvetica Neue,Helvetica,sans-serif; font-size:48px; text-anchor:start;\" transform=\"rotate(0, 1478.36, 208.744)\" x=\"1478.36\" y=\"208.744\">Original search time</text>\n",
       "</g>\n",
       "<polyline clip-path=\"url(#clip1000)\" style=\"stroke:#e26f46; stroke-width:4; stroke-opacity:1; fill:none\" points=\"\n",
       "  1310.36,251.724 1454.36,251.724 \n",
       "  \"/>\n",
       "<g clip-path=\"url(#clip1000)\">\n",
       "<text style=\"fill:#000000; fill-opacity:1; font-family:Arial,Helvetica Neue,Helvetica,sans-serif; font-size:48px; text-anchor:start;\" transform=\"rotate(0, 1478.36, 269.224)\" x=\"1478.36\" y=\"269.224\">Reduced search space search time</text>\n",
       "</g>\n",
       "</svg>\n"
      ]
     },
     "execution_count": 90,
     "metadata": {},
     "output_type": "execute_result"
    }
   ],
   "source": [
    "using Plots\n",
    "x = plot(linsp, t1, label=\"Original search time\", ylabel=\"Seconds\", xlabel=\"Number of haplotypes\")\n",
    "plot!(x, linsp, t2, label=\"Reduced search space search time\")"
   ]
  },
  {
   "cell_type": "code",
   "execution_count": 94,
   "metadata": {
    "collapsed": false
   },
   "outputs": [
    {
     "data": {
      "image/svg+xml": [
       "<?xml version=\"1.0\" encoding=\"utf-8\"?>\n",
       "<svg xmlns=\"http://www.w3.org/2000/svg\" xmlns:xlink=\"http://www.w3.org/1999/xlink\" width=\"600\" height=\"400\" viewBox=\"0 0 2400 1600\">\n",
       "<defs>\n",
       "  <clipPath id=\"clip2200\">\n",
       "    <rect x=\"0\" y=\"0\" width=\"2400\" height=\"1600\"/>\n",
       "  </clipPath>\n",
       "</defs>\n",
       "<path clip-path=\"url(#clip2200)\" d=\"\n",
       "M0 1600 L2400 1600 L2400 0 L0 0  Z\n",
       "  \" fill=\"#ffffff\" fill-rule=\"evenodd\" fill-opacity=\"1\"/>\n",
       "<defs>\n",
       "  <clipPath id=\"clip2201\">\n",
       "    <rect x=\"480\" y=\"0\" width=\"1681\" height=\"1600\"/>\n",
       "  </clipPath>\n",
       "</defs>\n",
       "<path clip-path=\"url(#clip2200)\" d=\"\n",
       "M242.516 1425.62 L2352.76 1425.62 L2352.76 121.675 L242.516 121.675  Z\n",
       "  \" fill=\"#ffffff\" fill-rule=\"evenodd\" fill-opacity=\"1\"/>\n",
       "<defs>\n",
       "  <clipPath id=\"clip2202\">\n",
       "    <rect x=\"242\" y=\"121\" width=\"2111\" height=\"1305\"/>\n",
       "  </clipPath>\n",
       "</defs>\n",
       "<polyline clip-path=\"url(#clip2202)\" style=\"stroke:#000000; stroke-width:2; stroke-opacity:0.1; fill:none\" points=\"\n",
       "  523.439,1425.62 523.439,121.675 \n",
       "  \"/>\n",
       "<polyline clip-path=\"url(#clip2202)\" style=\"stroke:#000000; stroke-width:2; stroke-opacity:0.1; fill:none\" points=\"\n",
       "  965.838,1425.62 965.838,121.675 \n",
       "  \"/>\n",
       "<polyline clip-path=\"url(#clip2202)\" style=\"stroke:#000000; stroke-width:2; stroke-opacity:0.1; fill:none\" points=\"\n",
       "  1408.24,1425.62 1408.24,121.675 \n",
       "  \"/>\n",
       "<polyline clip-path=\"url(#clip2202)\" style=\"stroke:#000000; stroke-width:2; stroke-opacity:0.1; fill:none\" points=\"\n",
       "  1850.63,1425.62 1850.63,121.675 \n",
       "  \"/>\n",
       "<polyline clip-path=\"url(#clip2202)\" style=\"stroke:#000000; stroke-width:2; stroke-opacity:0.1; fill:none\" points=\"\n",
       "  2293.03,1425.62 2293.03,121.675 \n",
       "  \"/>\n",
       "<polyline clip-path=\"url(#clip2202)\" style=\"stroke:#000000; stroke-width:2; stroke-opacity:0.1; fill:none\" points=\"\n",
       "  242.516,1407.33 2352.76,1407.33 \n",
       "  \"/>\n",
       "<polyline clip-path=\"url(#clip2202)\" style=\"stroke:#000000; stroke-width:2; stroke-opacity:0.1; fill:none\" points=\"\n",
       "  242.516,1166.26 2352.76,1166.26 \n",
       "  \"/>\n",
       "<polyline clip-path=\"url(#clip2202)\" style=\"stroke:#000000; stroke-width:2; stroke-opacity:0.1; fill:none\" points=\"\n",
       "  242.516,925.184 2352.76,925.184 \n",
       "  \"/>\n",
       "<polyline clip-path=\"url(#clip2202)\" style=\"stroke:#000000; stroke-width:2; stroke-opacity:0.1; fill:none\" points=\"\n",
       "  242.516,684.109 2352.76,684.109 \n",
       "  \"/>\n",
       "<polyline clip-path=\"url(#clip2202)\" style=\"stroke:#000000; stroke-width:2; stroke-opacity:0.1; fill:none\" points=\"\n",
       "  242.516,443.034 2352.76,443.034 \n",
       "  \"/>\n",
       "<polyline clip-path=\"url(#clip2202)\" style=\"stroke:#000000; stroke-width:2; stroke-opacity:0.1; fill:none\" points=\"\n",
       "  242.516,201.959 2352.76,201.959 \n",
       "  \"/>\n",
       "<polyline clip-path=\"url(#clip2200)\" style=\"stroke:#000000; stroke-width:4; stroke-opacity:1; fill:none\" points=\"\n",
       "  242.516,1425.62 2352.76,1425.62 \n",
       "  \"/>\n",
       "<polyline clip-path=\"url(#clip2200)\" style=\"stroke:#000000; stroke-width:4; stroke-opacity:1; fill:none\" points=\"\n",
       "  242.516,1425.62 242.516,121.675 \n",
       "  \"/>\n",
       "<polyline clip-path=\"url(#clip2200)\" style=\"stroke:#000000; stroke-width:4; stroke-opacity:1; fill:none\" points=\"\n",
       "  523.439,1425.62 523.439,1409.97 \n",
       "  \"/>\n",
       "<polyline clip-path=\"url(#clip2200)\" style=\"stroke:#000000; stroke-width:4; stroke-opacity:1; fill:none\" points=\"\n",
       "  965.838,1425.62 965.838,1409.97 \n",
       "  \"/>\n",
       "<polyline clip-path=\"url(#clip2200)\" style=\"stroke:#000000; stroke-width:4; stroke-opacity:1; fill:none\" points=\"\n",
       "  1408.24,1425.62 1408.24,1409.97 \n",
       "  \"/>\n",
       "<polyline clip-path=\"url(#clip2200)\" style=\"stroke:#000000; stroke-width:4; stroke-opacity:1; fill:none\" points=\"\n",
       "  1850.63,1425.62 1850.63,1409.97 \n",
       "  \"/>\n",
       "<polyline clip-path=\"url(#clip2200)\" style=\"stroke:#000000; stroke-width:4; stroke-opacity:1; fill:none\" points=\"\n",
       "  2293.03,1425.62 2293.03,1409.97 \n",
       "  \"/>\n",
       "<polyline clip-path=\"url(#clip2200)\" style=\"stroke:#000000; stroke-width:4; stroke-opacity:1; fill:none\" points=\"\n",
       "  242.516,1407.33 267.839,1407.33 \n",
       "  \"/>\n",
       "<polyline clip-path=\"url(#clip2200)\" style=\"stroke:#000000; stroke-width:4; stroke-opacity:1; fill:none\" points=\"\n",
       "  242.516,1166.26 267.839,1166.26 \n",
       "  \"/>\n",
       "<polyline clip-path=\"url(#clip2200)\" style=\"stroke:#000000; stroke-width:4; stroke-opacity:1; fill:none\" points=\"\n",
       "  242.516,925.184 267.839,925.184 \n",
       "  \"/>\n",
       "<polyline clip-path=\"url(#clip2200)\" style=\"stroke:#000000; stroke-width:4; stroke-opacity:1; fill:none\" points=\"\n",
       "  242.516,684.109 267.839,684.109 \n",
       "  \"/>\n",
       "<polyline clip-path=\"url(#clip2200)\" style=\"stroke:#000000; stroke-width:4; stroke-opacity:1; fill:none\" points=\"\n",
       "  242.516,443.034 267.839,443.034 \n",
       "  \"/>\n",
       "<polyline clip-path=\"url(#clip2200)\" style=\"stroke:#000000; stroke-width:4; stroke-opacity:1; fill:none\" points=\"\n",
       "  242.516,201.959 267.839,201.959 \n",
       "  \"/>\n",
       "<g clip-path=\"url(#clip2200)\">\n",
       "<text style=\"fill:#000000; fill-opacity:1; font-family:Arial,Helvetica Neue,Helvetica,sans-serif; font-size:48px; text-anchor:middle;\" transform=\"rotate(0, 523.439, 1479.62)\" x=\"523.439\" y=\"1479.62\">200</text>\n",
       "</g>\n",
       "<g clip-path=\"url(#clip2200)\">\n",
       "<text style=\"fill:#000000; fill-opacity:1; font-family:Arial,Helvetica Neue,Helvetica,sans-serif; font-size:48px; text-anchor:middle;\" transform=\"rotate(0, 965.838, 1479.62)\" x=\"965.838\" y=\"1479.62\">400</text>\n",
       "</g>\n",
       "<g clip-path=\"url(#clip2200)\">\n",
       "<text style=\"fill:#000000; fill-opacity:1; font-family:Arial,Helvetica Neue,Helvetica,sans-serif; font-size:48px; text-anchor:middle;\" transform=\"rotate(0, 1408.24, 1479.62)\" x=\"1408.24\" y=\"1479.62\">600</text>\n",
       "</g>\n",
       "<g clip-path=\"url(#clip2200)\">\n",
       "<text style=\"fill:#000000; fill-opacity:1; font-family:Arial,Helvetica Neue,Helvetica,sans-serif; font-size:48px; text-anchor:middle;\" transform=\"rotate(0, 1850.63, 1479.62)\" x=\"1850.63\" y=\"1479.62\">800</text>\n",
       "</g>\n",
       "<g clip-path=\"url(#clip2200)\">\n",
       "<text style=\"fill:#000000; fill-opacity:1; font-family:Arial,Helvetica Neue,Helvetica,sans-serif; font-size:48px; text-anchor:middle;\" transform=\"rotate(0, 2293.03, 1479.62)\" x=\"2293.03\" y=\"1479.62\">1000</text>\n",
       "</g>\n",
       "<g clip-path=\"url(#clip2200)\">\n",
       "<text style=\"fill:#000000; fill-opacity:1; font-family:Arial,Helvetica Neue,Helvetica,sans-serif; font-size:48px; text-anchor:end;\" transform=\"rotate(0, 218.516, 1424.83)\" x=\"218.516\" y=\"1424.83\">0.00</text>\n",
       "</g>\n",
       "<g clip-path=\"url(#clip2200)\">\n",
       "<text style=\"fill:#000000; fill-opacity:1; font-family:Arial,Helvetica Neue,Helvetica,sans-serif; font-size:48px; text-anchor:end;\" transform=\"rotate(0, 218.516, 1183.76)\" x=\"218.516\" y=\"1183.76\">0.01</text>\n",
       "</g>\n",
       "<g clip-path=\"url(#clip2200)\">\n",
       "<text style=\"fill:#000000; fill-opacity:1; font-family:Arial,Helvetica Neue,Helvetica,sans-serif; font-size:48px; text-anchor:end;\" transform=\"rotate(0, 218.516, 942.684)\" x=\"218.516\" y=\"942.684\">0.02</text>\n",
       "</g>\n",
       "<g clip-path=\"url(#clip2200)\">\n",
       "<text style=\"fill:#000000; fill-opacity:1; font-family:Arial,Helvetica Neue,Helvetica,sans-serif; font-size:48px; text-anchor:end;\" transform=\"rotate(0, 218.516, 701.609)\" x=\"218.516\" y=\"701.609\">0.03</text>\n",
       "</g>\n",
       "<g clip-path=\"url(#clip2200)\">\n",
       "<text style=\"fill:#000000; fill-opacity:1; font-family:Arial,Helvetica Neue,Helvetica,sans-serif; font-size:48px; text-anchor:end;\" transform=\"rotate(0, 218.516, 460.534)\" x=\"218.516\" y=\"460.534\">0.04</text>\n",
       "</g>\n",
       "<g clip-path=\"url(#clip2200)\">\n",
       "<text style=\"fill:#000000; fill-opacity:1; font-family:Arial,Helvetica Neue,Helvetica,sans-serif; font-size:48px; text-anchor:end;\" transform=\"rotate(0, 218.516, 219.459)\" x=\"218.516\" y=\"219.459\">0.05</text>\n",
       "</g>\n",
       "<g clip-path=\"url(#clip2200)\">\n",
       "<text style=\"fill:#000000; fill-opacity:1; font-family:Arial,Helvetica Neue,Helvetica,sans-serif; font-size:84px; text-anchor:middle;\" transform=\"rotate(0, 1297.64, 73.2)\" x=\"1297.64\" y=\"73.2\">Zoomed in</text>\n",
       "</g>\n",
       "<g clip-path=\"url(#clip2200)\">\n",
       "<text style=\"fill:#000000; fill-opacity:1; font-family:Arial,Helvetica Neue,Helvetica,sans-serif; font-size:66px; text-anchor:middle;\" transform=\"rotate(0, 1297.64, 1559.48)\" x=\"1297.64\" y=\"1559.48\">Number of haplotypes</text>\n",
       "</g>\n",
       "<g clip-path=\"url(#clip2200)\">\n",
       "<text style=\"fill:#000000; fill-opacity:1; font-family:Arial,Helvetica Neue,Helvetica,sans-serif; font-size:66px; text-anchor:middle;\" transform=\"rotate(-90, 89.2861, 773.647)\" x=\"89.2861\" y=\"773.647\">Seconds</text>\n",
       "</g>\n",
       "<polyline clip-path=\"url(#clip2202)\" style=\"stroke:#009af9; stroke-width:4; stroke-opacity:1; fill:none\" points=\"\n",
       "  302.24,1388.71 523.439,1347.02 744.638,1272.22 965.838,1197.59 1187.04,1075.29 1408.24,950.827 1629.43,798.843 1850.63,594.428 2071.83,371.496 2293.03,158.579 \n",
       "  \n",
       "  \"/>\n",
       "<polyline clip-path=\"url(#clip2202)\" style=\"stroke:#e26f46; stroke-width:4; stroke-opacity:1; fill:none\" points=\"\n",
       "  302.24,1190.35 523.439,1144.02 744.638,1134.33 965.838,1103.87 1187.04,1098.08 1408.24,1067.5 1629.43,1037.17 1850.63,1018.28 2071.83,971.504 2293.03,949.927 \n",
       "  \n",
       "  \"/>\n",
       "<path clip-path=\"url(#clip2200)\" d=\"\n",
       "M1286.36 386.635 L2280.76 386.635 L2280.76 205.195 L1286.36 205.195  Z\n",
       "  \" fill=\"#ffffff\" fill-rule=\"evenodd\" fill-opacity=\"1\"/>\n",
       "<polyline clip-path=\"url(#clip2200)\" style=\"stroke:#000000; stroke-width:4; stroke-opacity:1; fill:none\" points=\"\n",
       "  1286.36,386.635 2280.76,386.635 2280.76,205.195 1286.36,205.195 1286.36,386.635 \n",
       "  \"/>\n",
       "<polyline clip-path=\"url(#clip2200)\" style=\"stroke:#009af9; stroke-width:4; stroke-opacity:1; fill:none\" points=\"\n",
       "  1310.36,265.675 1454.36,265.675 \n",
       "  \"/>\n",
       "<g clip-path=\"url(#clip2200)\">\n",
       "<text style=\"fill:#000000; fill-opacity:1; font-family:Arial,Helvetica Neue,Helvetica,sans-serif; font-size:48px; text-anchor:start;\" transform=\"rotate(0, 1478.36, 283.175)\" x=\"1478.36\" y=\"283.175\">Original search time</text>\n",
       "</g>\n",
       "<polyline clip-path=\"url(#clip2200)\" style=\"stroke:#e26f46; stroke-width:4; stroke-opacity:1; fill:none\" points=\"\n",
       "  1310.36,326.155 1454.36,326.155 \n",
       "  \"/>\n",
       "<g clip-path=\"url(#clip2200)\">\n",
       "<text style=\"fill:#000000; fill-opacity:1; font-family:Arial,Helvetica Neue,Helvetica,sans-serif; font-size:48px; text-anchor:start;\" transform=\"rotate(0, 1478.36, 343.655)\" x=\"1478.36\" y=\"343.655\">Reduced search space search time</text>\n",
       "</g>\n",
       "</svg>\n"
      ]
     },
     "execution_count": 94,
     "metadata": {},
     "output_type": "execute_result"
    }
   ],
   "source": [
    "# ZOOM in\n",
    "\n",
    "linsp = 100:100:1000\n",
    "t1 = zeros(length(linsp))\n",
    "t2 = zeros(length(linsp))\n",
    "n = 100\n",
    "p = 100\n",
    "\n",
    "Random.seed!(2020)\n",
    "for (i, d) in enumerate(linsp)\n",
    "    H = bitrand(p, d)\n",
    "    X = rand(UInt8, p, n);\n",
    "    t1[i] = @elapsed haplopair(X, H)\n",
    "    t2[i] = @elapsed haplopair_thin(X, H, keep = 100)\n",
    "end\n",
    "x = plot(linsp, t1, title = \"Zoomed in\", label=\"Original search time\", \n",
    "    ylabel=\"Seconds\", xlabel=\"Number of haplotypes\")\n",
    "plot!(x, linsp, t2, label=\"Reduced search space search time\")"
   ]
  },
  {
   "cell_type": "markdown",
   "metadata": {
    "collapsed": true
   },
   "source": [
    "# Benchmark original code"
   ]
  },
  {
   "cell_type": "code",
   "execution_count": 14,
   "metadata": {
    "collapsed": false
   },
   "outputs": [
    {
     "name": "stdout",
     "output_type": "stream",
     "text": [
      "  29.677 ms (0 allocations: 0 bytes)\n"
     ]
    }
   ],
   "source": [
    "Random.seed!(123)\n",
    "\n",
    "n = 100\n",
    "p = 100\n",
    "d = 1000\n",
    "\n",
    "M = rand(Float32, d, d)\n",
    "N = rand(Float32, n, d)\n",
    "H = convert(Matrix{Float32}, rand(0:1, p, d))\n",
    "X = convert(Matrix{Float32}, rand(0:2, p, n))\n",
    "happair1 = zeros(Int, n)\n",
    "happair2 = zeros(Int, n)\n",
    "hapscore = zeros(Float32, n)\n",
    "\n",
    "@btime haplopair!(happair1, happair2, hapscore, M, N) setup=(M=rand(Float32, d, d), N=rand(Float32, n, d))"
   ]
  },
  {
   "cell_type": "code",
   "execution_count": 12,
   "metadata": {
    "collapsed": false
   },
   "outputs": [
    {
     "name": "stdout",
     "output_type": "stream",
     "text": [
      "  35.057 ms (0 allocations: 0 bytes)\n"
     ]
    }
   ],
   "source": [
    "Random.seed!(123)\n",
    "\n",
    "n = 100\n",
    "p = 100\n",
    "d = 1000\n",
    "\n",
    "M = rand(Float32, d, d)\n",
    "N = rand(Float32, n, d)\n",
    "H = convert(Matrix{Float32}, rand(0:1, p, d))\n",
    "X = convert(Matrix{Float32}, rand(0:2, p, n))\n",
    "happairs = zeros(Int, n), zeros(Int, n)\n",
    "hapscore = zeros(Float32, n)\n",
    "\n",
    "@btime haplopair!(happairs, hapscore, M, N) setup=(M=rand(Float32, d, d), N=rand(Float32, n, d))"
   ]
  },
  {
   "cell_type": "code",
   "execution_count": null,
   "metadata": {
    "collapsed": true
   },
   "outputs": [],
   "source": []
  },
  {
   "cell_type": "code",
   "execution_count": null,
   "metadata": {
    "collapsed": true
   },
   "outputs": [],
   "source": []
  },
  {
   "cell_type": "code",
   "execution_count": null,
   "metadata": {
    "collapsed": true
   },
   "outputs": [],
   "source": []
  }
 ],
 "metadata": {
  "@webio": {
   "lastCommId": null,
   "lastKernelId": null
  },
  "kernelspec": {
   "display_name": "Julia 1.3.1",
   "language": "julia",
   "name": "julia-1.3"
  },
  "language_info": {
   "file_extension": ".jl",
   "mimetype": "application/julia",
   "name": "julia",
   "version": "1.3.1"
  },
  "toc": {
   "colors": {
    "hover_highlight": "#DAA520",
    "running_highlight": "#FF0000",
    "selected_highlight": "#FFD700"
   },
   "moveMenuLeft": true,
   "nav_menu": {
    "height": "65px",
    "width": "252px"
   },
   "navigate_menu": true,
   "number_sections": true,
   "sideBar": true,
   "threshold": 4,
   "toc_cell": false,
   "toc_section_display": "block",
   "toc_window_display": false,
   "widenNotebook": false
  }
 },
 "nbformat": 4,
 "nbformat_minor": 2
}
