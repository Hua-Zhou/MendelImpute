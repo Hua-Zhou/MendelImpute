{
 "cells": [
  {
   "cell_type": "markdown",
   "metadata": {},
   "source": [
    "# Find which SNPs in reference panels are on GWAS chip\n",
    "\n",
    "One of the reviewers' main comment is we should use real SNPs in our simulations. Thus, let's try to see if SNPs on the UK biobank is also on the HRC/1000-genomes reference panel. "
   ]
  },
  {
   "cell_type": "code",
   "execution_count": 1,
   "metadata": {
    "collapsed": false
   },
   "outputs": [
    {
     "data": {
      "text/plain": [
       "8"
      ]
     },
     "execution_count": 1,
     "metadata": {},
     "output_type": "execute_result"
    }
   ],
   "source": [
    "using Revise\n",
    "using VCFTools\n",
    "using SnpArrays\n",
    "using MendelImpute\n",
    "using Random\n",
    "using StatsBase\n",
    "using CodecZlib\n",
    "using ProgressMeter\n",
    "using JLSO\n",
    "using BenchmarkTools\n",
    "using GroupSlices\n",
    "using LinearAlgebra\n",
    "using Plots\n",
    "# using ProfileView\n",
    "\n",
    "BLAS.set_num_threads(1)\n",
    "Threads.nthreads()"
   ]
  },
  {
   "cell_type": "markdown",
   "metadata": {},
   "source": [
    "# 1000 genomes"
   ]
  },
  {
   "cell_type": "code",
   "execution_count": 7,
   "metadata": {
    "collapsed": false
   },
   "outputs": [
    {
     "name": "stderr",
     "output_type": "stream",
     "text": [
      "\u001b[32mfinding duplicate markers...100%|███████████████████████| Time: 0:15:54\u001b[39m\n",
      "\u001b[32mfiltering vcf file...100%|██████████████████████████████| Time: 0:30:00\u001b[39m\n",
      "\u001b[32mimporting100%|██████████████████████████████████████████| Time: 0:13:19\u001b[39m\n",
      "\u001b[32mfiltering vcf file...100%|██████████████████████████████| Time: 0:16:39\u001b[39m\n",
      "\u001b[32mfiltering vcf file...100%|██████████████████████████████| Time: 0:29:59\u001b[39m\n",
      "\u001b[32mfiltering vcf file...100%|██████████████████████████████| Time: 0:16:48\u001b[39m\n"
     ]
    },
    {
     "name": "stdout",
     "output_type": "stream",
     "text": [
      "7507.164928 seconds (76.23 G allocations: 6.868 TiB, 16.87% gc time)\n"
     ]
    }
   ],
   "source": [
    "cd(\"/Users/biona001/.julia/dev/MendelImpute/data/1000_genome_phase3_v5/filtered\")\n",
    "function filter_and_mask()\n",
    "    for chr in [10]\n",
    "        # filter chromosome data for unique snps\n",
    "        data = \"../beagle_raw/chr$chr.1kg.phase3.v5a.vcf.gz\"\n",
    "        full_record_index = .!find_duplicate_marker(data)\n",
    "        VCFTools.filter(data, full_record_index, 1:nsamples(data), \n",
    "            des = \"chr$chr.uniqueSNPs.vcf.gz\", allow_multiallelic=false)\n",
    "\n",
    "        # import VCF data with only unique SNPs\n",
    "        _, vcf_sampleID, _, _, vcf_record_ids, _, _ = convert_gt(Float32, \n",
    "            \"chr$chr.uniqueSNPs.vcf.gz\", save_snp_info=true, msg=\"importing\")\n",
    "        total_snps = length(vcf_record_ids)\n",
    "        samples = length(vcf_sampleID)\n",
    "\n",
    "        # generate target panel with all snps\n",
    "        n = 100\n",
    "        sample_idx = falses(samples)\n",
    "        sample_idx[1:n] .= true\n",
    "        shuffle!(sample_idx)\n",
    "        VCFTools.filter(\"chr$chr.uniqueSNPs.vcf.gz\", 1:total_snps, \n",
    "            sample_idx, des = \"target.chr$chr.full.vcf.gz\", allow_multiallelic=false)\n",
    "\n",
    "        # generate reference panel without target samples\n",
    "        VCFTools.filter(\"chr$chr.uniqueSNPs.vcf.gz\", 1:total_snps, \n",
    "            .!sample_idx, des = \"ref.chr$chr.excludeTarget.vcf.gz\", allow_multiallelic=false)\n",
    "        \n",
    "        # generate target file with 100 samples whose snps are in the UK Biobank\n",
    "        ukbb = SnpData(\"/Users/biona001/.julia/dev/MendelImpute/data/ukbb/ukb.plink.filtered\")\n",
    "        ukbb_snpids = ukbb.snp_info[findall(x -> x == string(chr), ukbb.snp_info[!, :chromosome]), :snpid]\n",
    "        match_idx = indexin(vcat(vcf_record_ids...), ukbb_snpids)\n",
    "        record_idx = falses(total_snps)\n",
    "        record_idx[findall(!isnothing, match_idx)] .= true\n",
    "        VCFTools.filter(\"chr$chr.uniqueSNPs.vcf.gz\", record_idx, sample_idx, \n",
    "            des = \"target.chr$chr.typedOnly.vcf.gz\", allow_multiallelic=false)\n",
    "\n",
    "        # unphase and mask 1% entries in target file\n",
    "        p = nrecords(\"target.chr$chr.typedOnly.vcf.gz\")\n",
    "        masks = falses(p, n)\n",
    "        missingprop = 0.001\n",
    "        for j in 1:n, i in 1:p\n",
    "            rand() < missingprop && (masks[i, j] = true)\n",
    "        end\n",
    "        mask_gt(\"target.chr$chr.typedOnly.vcf.gz\", masks, \n",
    "            des=\"target.chr$chr.typedOnly.masked.vcf.gz\", unphase=true)\n",
    "    end \n",
    "end\n",
    "Random.seed!(2020)\n",
    "@time filter_and_mask()"
   ]
  },
  {
   "cell_type": "markdown",
   "metadata": {},
   "source": [
    "## MendelImpute on simulated data"
   ]
  },
  {
   "cell_type": "code",
   "execution_count": 2,
   "metadata": {
    "collapsed": false
   },
   "outputs": [
    {
     "name": "stderr",
     "output_type": "stream",
     "text": [
      "\u001b[32mimporting reference data...100%|████████████████████████| Time: 0:13:43\u001b[39m\n"
     ]
    },
    {
     "name": "stdout",
     "output_type": "stream",
     "text": [
      "1220.397483 seconds (7.36 G allocations: 677.930 GiB, 40.51% gc time)\n"
     ]
    }
   ],
   "source": [
    "cd(\"/Users/biona001/.julia/dev/MendelImpute/data/1000_genome_phase3_v5/filtered\")\n",
    "\n",
    "# compress reference haplotypes from .vcf.gz to .jlso format\n",
    "reffile = \"ref.chr10.excludeTarget.vcf.gz\"\n",
    "tgtfile = \"target.chr10.typedOnly.masked.vcf.gz\"\n",
    "outfile = \"ref.chr10.excludeTarget.jlso\"\n",
    "@time compress_haplotypes(reffile, tgtfile, outfile);"
   ]
  },
  {
   "cell_type": "code",
   "execution_count": 3,
   "metadata": {
    "collapsed": false
   },
   "outputs": [
    {
     "name": "stdout",
     "output_type": "stream",
     "text": [
      "Number of threads = 8\n",
      "Importing reference haplotype data...\n",
      "Total windows = 949, averaging ~ 444 unique haplotypes per window.\n",
      "\n",
      "Timings: \n",
      "    Data import                     = 21.6813 seconds\n",
      "        import target data             = 0.462248 seconds\n",
      "        import compressed haplotypes   = 21.219 seconds\n",
      "    Computing haplotype pair        = 5.502 seconds\n",
      "        BLAS3 mul! to get M and N      = 0.0694939 seconds per thread\n",
      "        haplopair search               = 1.04007 seconds per thread\n",
      "        initializing missing           = 0.00319779 seconds per thread\n",
      "        allocating and viewing         = 0.00717046 seconds per thread\n",
      "        index conversion               = 0.000639812 seconds per thread\n",
      "    Phasing by win-win intersection = 1.6372 seconds\n",
      "        Window-by-window intersection  = 0.0335358 seconds per thread\n",
      "        Breakpoint search              = 0.368803 seconds per thread\n",
      "        Recording result               = 0.146441 seconds per thread\n",
      "    Imputation                     = 4.53374 seconds\n",
      "        Imputing missing               = 1.89385 seconds\n",
      "        Writing to file                = 2.63989 seconds\n",
      "\n",
      "    Total time                      = 33.5397 seconds\n",
      "\n"
     ]
    }
   ],
   "source": [
    "# phase & impute\n",
    "tgtfile = \"target.chr10.typedOnly.masked.vcf.gz\"\n",
    "reffile = \"ref.chr10.excludeTarget.jlso\"\n",
    "outfile = \"mendel.imputed.chr10.vcf.gz\"\n",
    "phase(tgtfile, reffile, outfile);"
   ]
  },
  {
   "cell_type": "markdown",
   "metadata": {},
   "source": [
    "## Beagle 5.1 on simulated data"
   ]
  },
  {
   "cell_type": "code",
   "execution_count": 4,
   "metadata": {
    "collapsed": false,
    "scrolled": false
   },
   "outputs": [
    {
     "name": "stdout",
     "output_type": "stream",
     "text": [
      "beagle.18May20.d20.jar (version 5.1)\n",
      "Copyright (C) 2014-2018 Brian L. Browning\n",
      "Enter \"java -jar beagle.18May20.d20.jar\" to list command line argument\n",
      "Start time: 11:00 PM PST on 10 Feb 2021\n",
      "\n",
      "Command line: java -Xmx3641m -jar beagle.18May20.d20.jar\n",
      "  gt=target.chr10.typedOnly.masked.vcf.gz\n",
      "  ref=ref.chr10.excludeTarget.vcf.gz\n",
      "  out=beagle.chr10.result\n",
      "  nthreads=8\n",
      "\n",
      "No genetic map is specified: using 1 cM = 1 Mb\n",
      "\n",
      "Reference samples:       2,404\n",
      "Study samples:             100\n",
      "\n",
      "Window 1 (10:60494-39154888)\n",
      "Reference markers:     490,237\n",
      "Study markers:           7,691\n",
      "\n",
      "Burnin  iteration 1:           2 seconds\n",
      "Burnin  iteration 2:           2 seconds\n",
      "Burnin  iteration 3:           2 seconds\n",
      "Burnin  iteration 4:           1 second\n",
      "Burnin  iteration 5:           1 second\n",
      "Burnin  iteration 6:           2 seconds\n",
      "\n",
      "Phasing iteration 1:           2 seconds\n",
      "Phasing iteration 2:           2 seconds\n",
      "Phasing iteration 3:           2 seconds\n",
      "Phasing iteration 4:           2 seconds\n",
      "Phasing iteration 5:           2 seconds\n",
      "Phasing iteration 6:           2 seconds\n",
      "Phasing iteration 7:           2 seconds\n",
      "Phasing iteration 8:           2 seconds\n",
      "Phasing iteration 9:           2 seconds\n",
      "Phasing iteration 10:          2 seconds\n",
      "Phasing iteration 11:          2 seconds\n",
      "Phasing iteration 12:          2 seconds\n",
      "\n",
      "Imputation time:               20 seconds\n",
      "\n",
      "Window 2 (10:35154723-76060488)\n",
      "Reference markers:     410,917\n",
      "Study markers:           5,082\n",
      "\n",
      "Burnin  iteration 1:           2 seconds\n",
      "Burnin  iteration 2:           2 seconds\n",
      "Burnin  iteration 3:           2 seconds\n",
      "Burnin  iteration 4:           2 seconds\n",
      "Burnin  iteration 5:           2 seconds\n",
      "Burnin  iteration 6:           2 seconds\n",
      "\n",
      "Phasing iteration 1:           2 seconds\n",
      "Phasing iteration 2:           2 seconds\n",
      "Phasing iteration 3:           2 seconds\n",
      "Phasing iteration 4:           2 seconds\n",
      "Phasing iteration 5:           2 seconds\n",
      "Phasing iteration 6:           1 second\n",
      "Phasing iteration 7:           1 second\n",
      "Phasing iteration 8:           1 second\n",
      "Phasing iteration 9:           1 second\n",
      "Phasing iteration 10:          1 second\n",
      "Phasing iteration 11:          1 second\n",
      "Phasing iteration 12:          1 second\n",
      "\n",
      "Imputation time:               32 seconds\n",
      "\n",
      "Window 3 (10:72060399-112060356)\n",
      "Reference markers:     419,356\n",
      "Study markers:           6,299\n",
      "\n",
      "Burnin  iteration 1:           1 second\n",
      "Burnin  iteration 2:           1 second\n",
      "Burnin  iteration 3:           1 second\n",
      "Burnin  iteration 4:           1 second\n",
      "Burnin  iteration 5:           1 second\n",
      "Burnin  iteration 6:           1 second\n",
      "\n",
      "Phasing iteration 1:           1 second\n",
      "Phasing iteration 2:           1 second\n",
      "Phasing iteration 3:           1 second\n",
      "Phasing iteration 4:           1 second\n",
      "Phasing iteration 5:           1 second\n",
      "Phasing iteration 6:           1 second\n",
      "Phasing iteration 7:           1 second\n",
      "Phasing iteration 8:           1 second\n",
      "Phasing iteration 9:           1 second\n",
      "Phasing iteration 10:          1 second\n",
      "Phasing iteration 11:          1 second\n",
      "Phasing iteration 12:          1 second\n",
      "\n",
      "Imputation time:               15 seconds\n",
      "\n",
      "Window 4 (10:108060272-135524373)\n",
      "Reference markers:     327,551\n",
      "Study markers:           5,768\n",
      "\n",
      "Burnin  iteration 1:           1 second\n",
      "Burnin  iteration 2:           1 second\n",
      "Burnin  iteration 3:           1 second\n",
      "Burnin  iteration 4:           1 second\n",
      "Burnin  iteration 5:           1 second\n",
      "Burnin  iteration 6:           1 second\n",
      "\n",
      "Phasing iteration 1:           1 second\n",
      "Phasing iteration 2:           1 second\n",
      "Phasing iteration 3:           1 second\n",
      "Phasing iteration 4:           1 second\n",
      "Phasing iteration 5:           1 second\n",
      "Phasing iteration 6:           1 second\n",
      "Phasing iteration 7:           1 second\n",
      "Phasing iteration 8:           1 second\n",
      "Phasing iteration 9:           1 second\n",
      "Phasing iteration 10:          1 second\n",
      "Phasing iteration 11:          1 second\n",
      "Phasing iteration 12:          1 second\n",
      "\n",
      "Imputation time:               13 seconds\n",
      "\n",
      "Cumulative Statistics:\n",
      "\n",
      "Reference markers:   1,511,445\n",
      "Study markers:          23,222\n",
      "\n",
      "Haplotype phasing time:        1 minute 31 seconds\n",
      "Imputation time:               1 minute 20 seconds\n",
      "Total time:                    3 minutes 6 seconds\n",
      "\n",
      "End time: 11:03 PM PST on 10 Feb 2021\n",
      "beagle.18May20.d20.jar finished\n"
     ]
    },
    {
     "data": {
      "text/plain": [
       "Process(`\u001b[4mjava\u001b[24m \u001b[4m-jar\u001b[24m \u001b[4mbeagle.18May20.d20.jar\u001b[24m \u001b[4mgt=target.chr10.typedOnly.masked.vcf.gz\u001b[24m \u001b[4mref=ref.chr10.excludeTarget.vcf.gz\u001b[24m \u001b[4mout=beagle.chr10.result\u001b[24m \u001b[4mnthreads=8\u001b[24m`, ProcessExited(0))"
      ]
     },
     "execution_count": 4,
     "metadata": {},
     "output_type": "execute_result"
    }
   ],
   "source": [
    "# run beagle 5.1 (8 thread)\n",
    "run(`java -jar beagle.18May20.d20.jar gt=target.chr10.typedOnly.masked.vcf.gz ref=ref.chr10.excludeTarget.vcf.gz out=beagle.chr10.result nthreads=8`)"
   ]
  },
  {
   "cell_type": "markdown",
   "metadata": {},
   "source": [
    "## Check error rate"
   ]
  },
  {
   "cell_type": "code",
   "execution_count": 7,
   "metadata": {
    "collapsed": false
   },
   "outputs": [
    {
     "name": "stdout",
     "output_type": "stream",
     "text": [
      "mendel_error = (sum(Xtrue .!= X_mendel) / m) / n = 0.028378425943385303\n",
      "beagle_error = (sum(Xtrue .!= X_beagle) / m) / n = 0.013444339688179194\n"
     ]
    }
   ],
   "source": [
    "cd(\"/Users/biona001/.julia/dev/MendelImpute/data/1000_genome_phase3_v5/filtered\")\n",
    "\n",
    "X_mendel = convert_gt(Float64, \"mendel.imputed.chr10.vcf.gz\")\n",
    "X_beagle = convert_gt(Float64, \"beagle.chr10.result.vcf.gz\")\n",
    "# X_impute = convert_gt(Float64, \"impute5.chr10.result.vcf.gz\")\n",
    "Xtrue = convert_gt(Float64, \"target.chr10.full.vcf.gz\")\n",
    "m, n = size(Xtrue) # matrix dimensions\n",
    "@show mendel_error = sum(Xtrue .!= X_mendel) / m / n\n",
    "@show beagle_error = sum(Xtrue .!= X_beagle) / m / n;\n",
    "# @show impute5_error = sum(Xtrue .!= X_impute) / m / n;"
   ]
  },
  {
   "cell_type": "markdown",
   "metadata": {},
   "source": [
    "## Impute5\n",
    "\n",
    "On Hua's machine, Impute5's runtime = ??? seconds (with 8 threads), and its error rate is ???"
   ]
  },
  {
   "cell_type": "markdown",
   "metadata": {},
   "source": [
    "# HRC experiment"
   ]
  },
  {
   "cell_type": "code",
   "execution_count": 4,
   "metadata": {
    "collapsed": false
   },
   "outputs": [
    {
     "data": {
      "text/plain": [
       "(1920530, 27165)"
      ]
     },
     "execution_count": 4,
     "metadata": {},
     "output_type": "execute_result"
    }
   ],
   "source": [
    "chr = 10\n",
    "nrecords(\"chr$chr.uniqueSNPs.vcf.gz\"), nsamples(\"chr$chr.uniqueSNPs.vcf.gz\")"
   ]
  },
  {
   "cell_type": "code",
   "execution_count": null,
   "metadata": {
    "collapsed": false
   },
   "outputs": [],
   "source": [
    "# this script was ran on Hua's computer\n",
    "\n",
    "# cd(\"/Users/biona001/.julia/dev/MendelImpute/data/HRC\")\n",
    "# function filter_and_mask()\n",
    "#     for chr in [10]\n",
    "#         # filter chromosome data for unique snps\n",
    "# #         data = \"../beagle_raw/chr$chr.1kg.phase3.v5a.vcf.gz\"\n",
    "# #         full_record_index = .!find_duplicate_marker(data)\n",
    "# #         VCFTools.filter(data, full_record_index, 1:nsamples(data), \n",
    "# #             des = \"chr$chr.uniqueSNPs.vcf.gz\", allow_multiallelic=false)\n",
    "\n",
    "#         # import VCF data with only unique SNPs\n",
    "#         _, vcf_sampleID, _, _, vcf_record_ids, _, _ = convert_ht(Bool, \n",
    "#             \"chr$chr.uniqueSNPs.vcf.gz\", save_snp_info=true, msg=\"importing\")\n",
    "#         total_snps = length(vcf_record_ids)\n",
    "#         samples = length(vcf_sampleID)\n",
    "\n",
    "#         # generate target panel with all snps\n",
    "#         n = 1000\n",
    "#         sample_idx = falses(samples)\n",
    "#         sample_idx[1:n] .= true\n",
    "#         shuffle!(sample_idx)\n",
    "#         VCFTools.filter(\"chr$chr.uniqueSNPs.vcf.gz\", 1:total_snps, \n",
    "#             sample_idx, des = \"target.chr$chr.full.vcf.gz\", allow_multiallelic=false)\n",
    "\n",
    "#         # generate reference panel without target samples\n",
    "#         VCFTools.filter(\"chr$chr.uniqueSNPs.vcf.gz\", 1:total_snps, \n",
    "#             .!sample_idx, des = \"ref.chr$chr.excludeTarget.vcf.gz\", allow_multiallelic=false)\n",
    "        \n",
    "#         # generate target file with 1000 samples whose snps are in the UK Biobank\n",
    "#         ukbb = SnpData(\"/Users/biona001/.julia/dev/MendelImpute/data/ukbb/ukb.plink.filtered\")\n",
    "#         ukbb_snpids = ukbb.snp_info[findall(x -> x == string(chr), ukbb.snp_info[!, :chromosome]), :snpid]\n",
    "#         match_idx = indexin(vcat(vcf_record_ids...), ukbb_snpids)\n",
    "#         record_idx = falses(total_snps)\n",
    "#         record_idx[findall(!isnothing, match_idx)] .= true\n",
    "#         VCFTools.filter(\"chr$chr.uniqueSNPs.vcf.gz\", record_idx, sample_idx, \n",
    "#             des = \"target.chr$chr.typedOnly.vcf.gz\", allow_multiallelic=false)\n",
    "\n",
    "#         # unphase and mask 1% entries in target file\n",
    "#         p = nrecords(\"target.chr$chr.typedOnly.vcf.gz\")\n",
    "#         masks = falses(p, n)\n",
    "#         missingprop = 0.001\n",
    "#         for j in 1:n, i in 1:p\n",
    "#             rand() < missingprop && (masks[i, j] = true)\n",
    "#         end\n",
    "#         mask_gt(\"target.chr$chr.typedOnly.vcf.gz\", masks, \n",
    "#             des=\"target.chr$chr.typedOnly.masked.vcf.gz\", unphase=true)\n",
    "#     end\n",
    "# end\n",
    "# Random.seed!(2020)\n",
    "# @time filter_and_mask()"
   ]
  },
  {
   "cell_type": "markdown",
   "metadata": {},
   "source": [
    "## MendelImpute on simulated HRC data"
   ]
  },
  {
   "cell_type": "code",
   "execution_count": null,
   "metadata": {
    "collapsed": false
   },
   "outputs": [],
   "source": [
    "cd(\"/Users/biona001/.julia/dev/MendelImpute/data/HRC\")\n",
    "\n",
    "# compress reference haplotypes from .vcf.gz to .jlso format\n",
    "reffile = \"ref.chr10.excludeTarget.vcf.gz\"\n",
    "tgtfile = \"target.chr10.typedOnly.masked.vcf.gz\"\n",
    "outfile = \"ref.chr10.excludeTarget.jlso\"\n",
    "@time compress_haplotypes(reffile, tgtfile, outfile);"
   ]
  },
  {
   "cell_type": "code",
   "execution_count": null,
   "metadata": {
    "collapsed": false
   },
   "outputs": [],
   "source": [
    "cd(\"/Users/biona001/.julia/dev/MendelImpute/data/HRC\")\n",
    "\n",
    "# phase & impute\n",
    "tgtfile = \"target.chr20.typedOnly.masked.vcf.gz\"\n",
    "reffile = \"ref.chr20.excludeTarget.jlso\"\n",
    "outfile = \"mendel.imputed.chr20.vcf.gz\"\n",
    "phase(tgtfile, reffile, outfile);"
   ]
  },
  {
   "cell_type": "markdown",
   "metadata": {},
   "source": [
    "## Beagle 5.1"
   ]
  },
  {
   "cell_type": "code",
   "execution_count": null,
   "metadata": {
    "collapsed": false
   },
   "outputs": [],
   "source": [
    "# run beagle 5.1 (8 thread)\n",
    "cd(\"/Users/biona001/.julia/dev/MendelImpute/data/HRC\")\n",
    "run(`java -Xmx15g -jar beagle.18May20.d20.jar gt=target.chr10.typedOnly.masked.vcf.gz ref=ref.chr10.excludeTarget.vcf.gz out=beagle.chr10.result nthreads=8`)"
   ]
  },
  {
   "cell_type": "code",
   "execution_count": null,
   "metadata": {
    "collapsed": false
   },
   "outputs": [],
   "source": [
    "cd(\"/Users/biona001/.julia/dev/MendelImpute/data/HRC\")\n",
    "\n",
    "X_mendel = convert_gt(Float64, \"mendel.imputed.chr10.vcf.gz\")\n",
    "X_beagle = convert_gt(Float64, \"beagle.chr10.result.vcf.gz\")\n",
    "Xtrue = convert_gt(Float64, \"target.chr10.full.vcf.gz\")\n",
    "m, n = size(Xtrue) # matrix dimensions\n",
    "@show mendel_error = sum(Xtrue .!= X_mendel) / m / n\n",
    "@show beagle_error = sum(Xtrue .!= X_beagle) / m / n;"
   ]
  }
 ],
 "metadata": {
  "kernelspec": {
   "display_name": "Julia 1.5.0",
   "language": "julia",
   "name": "julia-1.5"
  },
  "language_info": {
   "file_extension": ".jl",
   "mimetype": "application/julia",
   "name": "julia",
   "version": "1.5.0"
  }
 },
 "nbformat": 4,
 "nbformat_minor": 2
}
