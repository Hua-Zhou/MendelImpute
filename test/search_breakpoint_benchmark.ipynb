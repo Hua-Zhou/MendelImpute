{
 "cells": [
  {
   "cell_type": "markdown",
   "metadata": {},
   "source": [
    "# `search_breakpoint` benchmark"
   ]
  },
  {
   "cell_type": "markdown",
   "metadata": {},
   "source": [
    "## Search 1 strand"
   ]
  },
  {
   "cell_type": "code",
   "execution_count": 1,
   "metadata": {},
   "outputs": [
    {
     "name": "stderr",
     "output_type": "stream",
     "text": [
      "WARNING: Method definition ==(Base.Nullable{S}, Base.Nullable{T}) in module Base at nullable.jl:238 overwritten in module NullableArrays at /Users/huazhou/.julia/v0.6/NullableArrays/src/operators.jl:128.\n"
     ]
    }
   ],
   "source": [
    "using BenchmarkTools, MendelImpute, NullableArrays\n",
    "\n",
    "srand(123)\n",
    "p, d = 1000, 100\n",
    "H = rand(0.:1., p, d)\n",
    "# 1 | 2\n",
    "# 1 | 3\n",
    "bkpt = round(Int, p / 2)\n",
    "X = NullableArray(H[:, 1] + [H[1:bkpt, 2]; H[bkpt+1:p, 3]], \n",
    "    full(sprand(Bool, p, 0.1)));"
   ]
  },
  {
   "cell_type": "code",
   "execution_count": 2,
   "metadata": {},
   "outputs": [
    {
     "name": "stdout",
     "output_type": "stream",
     "text": [
      "Variables:\n",
      "  #self#::MendelImpute.#search_breakpoint\n",
      "  X::NullableArrays.NullableArray{Float64,1}\n",
      "  H::Array{Float64,2}\n",
      "  s1::Int64\n",
      "  s2::Tuple{Int64,Int64}\n",
      "  pos::Int64\n",
      "  #temp#@_7::Int64\n",
      "  bkpt::Int64\n",
      "  #temp#@_9::Int64\n",
      "  n::Int64\n",
      "  errors::Int64\n",
      "  bkpt_optim::Int64\n",
      "  err_optim::Int64\n",
      "  #temp#@_14::Bool\n",
      "  #temp#@_15::Nullable{Float64}\n",
      "  #temp#@_16::Nullable{Float64}\n",
      "  #temp#@_17::Nullable{Float64}\n",
      "  #temp#@_18::Nullable{Float64}\n",
      "  #temp#@_19::Nullable{Float64}\n",
      "\n",
      "Body:\n",
      "  begin \n",
      "      NewvarNode(:(bkpt_optim::Int64))\n",
      "      NewvarNode(:(err_optim::Int64))\n",
      "      n::Int64 = (Base.arraylen)((Core.getfield)(X::NullableArrays.NullableArray{Float64,1}, :values)::Array{Float64,1})::Int64 # line 484:\n",
      "      errors::Int64 = 0 # line 485:\n",
      "      SSAValue(9) = (Base.select_value)((Base.sle_int)(1, n::Int64)::Bool, n::Int64, (Base.sub_int)(1, 1)::Int64)::Int64\n",
      "      #temp#@_7::Int64 = 1\n",
      "      9: \n",
      "      unless (Base.not_int)((#temp#@_7::Int64 === (Base.add_int)(SSAValue(9), 1)::Int64)::Bool)::Bool goto 39\n",
      "      SSAValue(10) = #temp#@_7::Int64\n",
      "      SSAValue(11) = (Base.add_int)(#temp#@_7::Int64, 1)::Int64\n",
      "      pos::Int64 = SSAValue(10)\n",
      "      #temp#@_7::Int64 = SSAValue(11) # line 486:\n",
      "      SSAValue(12) = pos::Int64\n",
      "      $(Expr(:inbounds, false))\n",
      "      # meta: location /Users/huazhou/.julia/v0.6/NullableArrays/src/indexing.jl getindex 22\n",
      "      #temp#@_15::Nullable{Float64} = (Base.select_value)((Base.arrayref)((Core.getfield)(X::NullableArrays.NullableArray{Float64,1}, :isnull)::Array{Bool,1}, SSAValue(12))::Bool, $(Expr(:new, Nullable{Float64}, false)), $(Expr(:new, Nullable{Float64}, true, :((Base.arrayref)((Core.getfield)(X, :values)::Array{Float64,1}, SSAValue(12))::Float64))))::Nullable{Float64}\n",
      "      goto 22 # line 27:\n",
      "      22: \n",
      "      # meta: pop location\n",
      "      $(Expr(:inbounds, :pop))\n",
      "      unless (Base.not_int)((Base.not_int)((Core.getfield)(#temp#@_15::Nullable{Float64}, :hasvalue)::Bool)::Bool)::Bool goto 37 # line 487:\n",
      "      SSAValue(13) = pos::Int64\n",
      "      $(Expr(:inbounds, false))\n",
      "      # meta: location /Users/huazhou/.julia/v0.6/NullableArrays/src/indexing.jl getindex 22\n",
      "      #temp#@_16::Nullable{Float64} = (Base.select_value)((Base.arrayref)((Core.getfield)(X::NullableArrays.NullableArray{Float64,1}, :isnull)::Array{Bool,1}, SSAValue(13))::Bool, $(Expr(:new, Nullable{Float64}, false)), $(Expr(:new, Nullable{Float64}, true, :((Base.arrayref)((Core.getfield)(X, :values)::Array{Float64,1}, SSAValue(13))::Float64))))::Nullable{Float64}\n",
      "      goto 33 # line 27:\n",
      "      33: \n",
      "      # meta: pop location\n",
      "      $(Expr(:inbounds, :pop))\n",
      "      errors::Int64 = (Base.add_int)(errors::Int64, (Base.and_int)((Base.zext_int)(Int64, (Base.ne_float)((Core.getfield)(#temp#@_16::Nullable{Float64}, :value)::Float64, (Base.add_float)((Base.arrayref)(H::Array{Float64,2}, pos::Int64, s1::Int64)::Float64, (Base.arrayref)(H::Array{Float64,2}, pos::Int64, (Base.getfield)(s2::Tuple{Int64,Int64}, 2)::Int64)::Float64)::Float64)::Bool)::Int64, 1)::Int64)::Int64\n",
      "      37: \n",
      "      goto 9\n",
      "      39:  # line 490:\n",
      "      bkpt_optim::Int64 = 0\n",
      "      err_optim::Int64 = errors::Int64 # line 492:\n",
      "      unless (err_optim::Int64 === 0)::Bool goto 46\n",
      "      return (0, 0)\n",
      "      46:  # line 494:\n",
      "      SSAValue(14) = (Base.select_value)((Base.sle_int)(1, n::Int64)::Bool, n::Int64, (Base.sub_int)(1, 1)::Int64)::Int64\n",
      "      #temp#@_9::Int64 = 1\n",
      "      50: \n",
      "      unless (Base.not_int)((#temp#@_9::Int64 === (Base.add_int)(SSAValue(14), 1)::Int64)::Bool)::Bool goto 105\n",
      "      SSAValue(15) = #temp#@_9::Int64\n",
      "      SSAValue(16) = (Base.add_int)(#temp#@_9::Int64, 1)::Int64\n",
      "      bkpt::Int64 = SSAValue(15)\n",
      "      #temp#@_9::Int64 = SSAValue(16) # line 495:\n",
      "      SSAValue(17) = bkpt::Int64\n",
      "      $(Expr(:inbounds, false))\n",
      "      # meta: location /Users/huazhou/.julia/v0.6/NullableArrays/src/indexing.jl getindex 22\n",
      "      #temp#@_17::Nullable{Float64} = (Base.select_value)((Base.arrayref)((Core.getfield)(X::NullableArrays.NullableArray{Float64,1}, :isnull)::Array{Bool,1}, SSAValue(17))::Bool, $(Expr(:new, Nullable{Float64}, false)), $(Expr(:new, Nullable{Float64}, true, :((Base.arrayref)((Core.getfield)(X, :values)::Array{Float64,1}, SSAValue(17))::Float64))))::Nullable{Float64}\n",
      "      goto 63 # line 27:\n",
      "      63: \n",
      "      # meta: pop location\n",
      "      $(Expr(:inbounds, :pop))\n",
      "      unless (Base.not_int)((Base.not_int)((Core.getfield)(#temp#@_17::Nullable{Float64}, :hasvalue)::Bool)::Bool)::Bool goto 69\n",
      "      #temp#@_14::Bool = (Base.ne_float)((Base.arrayref)(H::Array{Float64,2}, bkpt::Int64, (Base.getfield)(s2::Tuple{Int64,Int64}, 1)::Int64)::Float64, (Base.arrayref)(H::Array{Float64,2}, bkpt::Int64, (Base.getfield)(s2::Tuple{Int64,Int64}, 2)::Int64)::Float64)::Bool\n",
      "      goto 71\n",
      "      69: \n",
      "      #temp#@_14::Bool = false\n",
      "      71: \n",
      "      unless #temp#@_14::Bool goto 103 # line 496:\n",
      "      SSAValue(18) = bkpt::Int64\n",
      "      $(Expr(:inbounds, false))\n",
      "      # meta: location /Users/huazhou/.julia/v0.6/NullableArrays/src/indexing.jl getindex 22\n",
      "      #temp#@_18::Nullable{Float64} = (Base.select_value)((Base.arrayref)((Core.getfield)(X::NullableArrays.NullableArray{Float64,1}, :isnull)::Array{Bool,1}, SSAValue(18))::Bool, $(Expr(:new, Nullable{Float64}, false)), $(Expr(:new, Nullable{Float64}, true, :((Base.arrayref)((Core.getfield)(X, :values)::Array{Float64,1}, SSAValue(18))::Float64))))::Nullable{Float64}\n",
      "      goto 80 # line 27:\n",
      "      80: \n",
      "      # meta: pop location\n",
      "      $(Expr(:inbounds, :pop))\n",
      "      errors::Int64 = (Base.sub_int)(errors::Int64, (Base.and_int)((Base.zext_int)(Int64, (Base.ne_float)((Core.getfield)(#temp#@_18::Nullable{Float64}, :value)::Float64, (Base.add_float)((Base.arrayref)(H::Array{Float64,2}, bkpt::Int64, s1::Int64)::Float64, (Base.arrayref)(H::Array{Float64,2}, bkpt::Int64, (Base.getfield)(s2::Tuple{Int64,Int64}, 2)::Int64)::Float64)::Float64)::Bool)::Int64, 1)::Int64)::Int64 # line 497:\n",
      "      SSAValue(19) = bkpt::Int64\n",
      "      $(Expr(:inbounds, false))\n",
      "      # meta: location /Users/huazhou/.julia/v0.6/NullableArrays/src/indexing.jl getindex 22\n",
      "      #temp#@_19::Nullable{Float64} = (Base.select_value)((Base.arrayref)((Core.getfield)(X::NullableArrays.NullableArray{Float64,1}, :isnull)::Array{Bool,1}, SSAValue(19))::Bool, $(Expr(:new, Nullable{Float64}, false)), $(Expr(:new, Nullable{Float64}, true, :((Base.arrayref)((Core.getfield)(X, :values)::Array{Float64,1}, SSAValue(19))::Float64))))::Nullable{Float64}\n",
      "      goto 91 # line 27:\n",
      "      91: \n",
      "      # meta: pop location\n",
      "      $(Expr(:inbounds, :pop))\n",
      "      errors::Int64 = (Base.add_int)(errors::Int64, (Base.and_int)((Base.zext_int)(Int64, (Base.ne_float)((Core.getfield)(#temp#@_19::Nullable{Float64}, :value)::Float64, (Base.add_float)((Base.arrayref)(H::Array{Float64,2}, bkpt::Int64, s1::Int64)::Float64, (Base.arrayref)(H::Array{Float64,2}, bkpt::Int64, (Base.getfield)(s2::Tuple{Int64,Int64}, 1)::Int64)::Float64)::Float64)::Bool)::Int64, 1)::Int64)::Int64 # line 498:\n",
      "      unless (Base.slt_int)(errors::Int64, err_optim::Int64)::Bool goto 103 # line 499:\n",
      "      bkpt_optim::Int64 = bkpt::Int64\n",
      "      err_optim::Int64 = errors::Int64 # line 501:\n",
      "      unless (err_optim::Int64 === 0)::Bool goto 103\n",
      "      return (Core.tuple)(bkpt_optim::Int64, err_optim::Int64)::Tuple{Int64,Int64}\n",
      "      103: \n",
      "      goto 50\n",
      "      105:  # line 505:\n",
      "      return (Core.tuple)(bkpt_optim::Int64, err_optim::Int64)::Tuple{Int64,Int64}\n",
      "  end::Tuple{Int64,Int64}\n"
     ]
    }
   ],
   "source": [
    "@code_warntype search_breakpoint(X, H, 1, (2, 3))"
   ]
  },
  {
   "cell_type": "code",
   "execution_count": 3,
   "metadata": {},
   "outputs": [
    {
     "name": "stdout",
     "output_type": "stream",
     "text": [
      "(bkpt_optim, err_optim) = (497, 0)\n",
      "  0.000017 seconds (86 allocations: 6.498 KiB)\n"
     ]
    },
    {
     "data": {
      "text/plain": [
       "(497, 0)"
      ]
     },
     "execution_count": 3,
     "metadata": {},
     "output_type": "execute_result"
    }
   ],
   "source": [
    "bkpt_optim, err_optim = search_breakpoint(X, H, 1, (2, 3))\n",
    "@show bkpt_optim, err_optim\n",
    "@time search_breakpoint(X, H, 1, (2, 3))"
   ]
  },
  {
   "cell_type": "code",
   "execution_count": 4,
   "metadata": {},
   "outputs": [
    {
     "data": {
      "text/plain": [
       "BenchmarkTools.Trial: \n",
       "  memory estimate:  32 bytes\n",
       "  allocs estimate:  1\n",
       "  --------------\n",
       "  minimum time:     3.160 μs (0.00% GC)\n",
       "  median time:      3.475 μs (0.00% GC)\n",
       "  mean time:        4.031 μs (0.00% GC)\n",
       "  maximum time:     25.720 μs (0.00% GC)\n",
       "  --------------\n",
       "  samples:          10000\n",
       "  evals/sample:     8"
      ]
     },
     "execution_count": 4,
     "metadata": {},
     "output_type": "execute_result"
    }
   ],
   "source": [
    "@benchmark search_breakpoint(X, H, 1, (2, 3))"
   ]
  },
  {
   "cell_type": "markdown",
   "metadata": {},
   "source": [
    "# Search both strands"
   ]
  },
  {
   "cell_type": "code",
   "execution_count": 5,
   "metadata": {},
   "outputs": [
    {
     "data": {
      "text/plain": [
       "1000-element NullableArrays.NullableArray{Float64,1}:\n",
       " #NULL\n",
       " 1.0  \n",
       " #NULL\n",
       " 1.0  \n",
       " 1.0  \n",
       " 1.0  \n",
       " 1.0  \n",
       " 2.0  \n",
       " 0.0  \n",
       " 1.0  \n",
       " #NULL\n",
       " 1.0  \n",
       " 1.0  \n",
       " ⋮    \n",
       " 2.0  \n",
       " 1.0  \n",
       " 0.0  \n",
       " 0.0  \n",
       " 1.0  \n",
       " 1.0  \n",
       " 1.0  \n",
       " 0.0  \n",
       " 2.0  \n",
       " 2.0  \n",
       " 0.0  \n",
       " 1.0  "
      ]
     },
     "execution_count": 5,
     "metadata": {},
     "output_type": "execute_result"
    }
   ],
   "source": [
    "using BenchmarkTools, MendelImpute, NullableArrays\n",
    "\n",
    "srand(123)\n",
    "p, d = 1000, 100\n",
    "H = rand(0.:1., p, d)\n",
    "# 1 | 3\n",
    "# 2 | 4\n",
    "bkpt1 = round(Int, p / 2)\n",
    "bkpt2 = round(Int, p / 2)\n",
    "X = NullableArray([H[1:bkpt1, 1]; H[bkpt1+1:p, 2]] + [H[1:bkpt2, 3]; H[bkpt2+1:p, 4]], \n",
    "    full(sprand(Bool, p, 0.1)))"
   ]
  },
  {
   "cell_type": "code",
   "execution_count": 6,
   "metadata": {},
   "outputs": [
    {
     "name": "stdout",
     "output_type": "stream",
     "text": [
      "Variables:\n",
      "  #self#::MendelImpute.#search_breakpoint\n",
      "  X::NullableArrays.NullableArray{Float64,1}\n",
      "  H::Array{Float64,2}\n",
      "  s1::Tuple{Int64,Int64}\n",
      "  s2::Tuple{Int64,Int64}\n",
      "  pos@_6::Int64\n",
      "  #temp#@_7::Int64\n",
      "  pos@_8::Int64\n",
      "  #temp#@_9::Int64\n",
      "  bkpt2@_10::Int64\n",
      "  #temp#@_11::Int64\n",
      "  bkpt2@_12::Int64\n",
      "  #temp#@_13::Int64\n",
      "  bkpt1::Int64\n",
      "  errors::Int64\n",
      "  #temp#@_16::Int64\n",
      "  err_optim::Int64\n",
      "  bkpts_optim::Tuple{Int64,Int64}\n",
      "  #temp#@_19::Nullable{Float64}\n",
      "  #temp#@_20::Nullable{Float64}\n",
      "  #temp#@_21::Nullable{Float64}\n",
      "  #temp#@_22::Nullable{Float64}\n",
      "  #temp#@_23::Nullable{Float64}\n",
      "  #temp#@_24::Nullable{Float64}\n",
      "  #temp#@_25::Nullable{Float64}\n",
      "  #temp#@_26::Nullable{Float64}\n",
      "  #temp#@_27::Nullable{Float64}\n",
      "  #temp#@_28::Nullable{Float64}\n",
      "\n",
      "Body:\n",
      "  begin \n",
      "      err_optim::Int64 = 9223372036854775807 # line 524:\n",
      "      bkpts_optim::Tuple{Int64,Int64} = (0, 0) # line 526:\n",
      "      SSAValue(10) = (Base.arraylen)((Core.getfield)(X::NullableArrays.NullableArray{Float64,1}, :values)::Array{Float64,1})::Int64\n",
      "      SSAValue(25) = (Base.select_value)((Base.sle_int)(0, SSAValue(10))::Bool, SSAValue(10), (Base.sub_int)(0, 1)::Int64)::Int64\n",
      "      #temp#@_16::Int64 = 0\n",
      "      8: \n",
      "      unless (Base.not_int)((#temp#@_16::Int64 === (Base.add_int)(SSAValue(25), 1)::Int64)::Bool)::Bool goto 204\n",
      "      SSAValue(26) = #temp#@_16::Int64\n",
      "      SSAValue(27) = (Base.add_int)(#temp#@_16::Int64, 1)::Int64\n",
      "      bkpt1::Int64 = SSAValue(26)\n",
      "      #temp#@_16::Int64 = SSAValue(27) # line 528:\n",
      "      errors::Int64 = 0 # line 529:\n",
      "      SSAValue(28) = (Base.select_value)((Base.sle_int)(1, bkpt1::Int64)::Bool, bkpt1::Int64, (Base.sub_int)(1, 1)::Int64)::Int64\n",
      "      #temp#@_7::Int64 = 1\n",
      "      19: \n",
      "      unless (Base.not_int)((#temp#@_7::Int64 === (Base.add_int)(SSAValue(28), 1)::Int64)::Bool)::Bool goto 49\n",
      "      SSAValue(29) = #temp#@_7::Int64\n",
      "      SSAValue(30) = (Base.add_int)(#temp#@_7::Int64, 1)::Int64\n",
      "      pos@_6::Int64 = SSAValue(29)\n",
      "      #temp#@_7::Int64 = SSAValue(30) # line 530:\n",
      "      SSAValue(31) = pos@_6::Int64\n",
      "      $(Expr(:inbounds, false))\n",
      "      # meta: location /Users/huazhou/.julia/v0.6/NullableArrays/src/indexing.jl getindex 22\n",
      "      #temp#@_19::Nullable{Float64} = (Base.select_value)((Base.arrayref)((Core.getfield)(X::NullableArrays.NullableArray{Float64,1}, :isnull)::Array{Bool,1}, SSAValue(31))::Bool, $(Expr(:new, Nullable{Float64}, false)), $(Expr(:new, Nullable{Float64}, true, :((Base.arrayref)((Core.getfield)(X, :values)::Array{Float64,1}, SSAValue(31))::Float64))))::Nullable{Float64}\n",
      "      goto 32 # line 27:\n",
      "      32: \n",
      "      # meta: pop location\n",
      "      $(Expr(:inbounds, :pop))\n",
      "      unless (Base.not_int)((Base.not_int)((Core.getfield)(#temp#@_19::Nullable{Float64}, :hasvalue)::Bool)::Bool)::Bool goto 47 # line 531:\n",
      "      SSAValue(32) = pos@_6::Int64\n",
      "      $(Expr(:inbounds, false))\n",
      "      # meta: location /Users/huazhou/.julia/v0.6/NullableArrays/src/indexing.jl getindex 22\n",
      "      #temp#@_20::Nullable{Float64} = (Base.select_value)((Base.arrayref)((Core.getfield)(X::NullableArrays.NullableArray{Float64,1}, :isnull)::Array{Bool,1}, SSAValue(32))::Bool, $(Expr(:new, Nullable{Float64}, false)), $(Expr(:new, Nullable{Float64}, true, :((Base.arrayref)((Core.getfield)(X, :values)::Array{Float64,1}, SSAValue(32))::Float64))))::Nullable{Float64}\n",
      "      goto 43 # line 27:\n",
      "      43: \n",
      "      # meta: pop location\n",
      "      $(Expr(:inbounds, :pop))\n",
      "      errors::Int64 = (Base.add_int)(errors::Int64, (Base.and_int)((Base.zext_int)(Int64, (Base.ne_float)((Core.getfield)(#temp#@_20::Nullable{Float64}, :value)::Float64, (Base.add_float)((Base.arrayref)(H::Array{Float64,2}, pos@_6::Int64, (Base.getfield)(s1::Tuple{Int64,Int64}, 1)::Int64)::Float64, (Base.arrayref)(H::Array{Float64,2}, pos@_6::Int64, (Base.getfield)(s2::Tuple{Int64,Int64}, 2)::Int64)::Float64)::Float64)::Bool)::Int64, 1)::Int64)::Int64\n",
      "      47: \n",
      "      goto 19\n",
      "      49:  # line 534:\n",
      "      SSAValue(14) = (Base.add_int)(bkpt1::Int64, 1)::Int64\n",
      "      SSAValue(13) = (Base.arraylen)((Core.getfield)(X::NullableArrays.NullableArray{Float64,1}, :values)::Array{Float64,1})::Int64\n",
      "      SSAValue(33) = (Base.select_value)((Base.sle_int)(SSAValue(14), SSAValue(13))::Bool, SSAValue(13), (Base.sub_int)(SSAValue(14), 1)::Int64)::Int64\n",
      "      #temp#@_9::Int64 = SSAValue(14)\n",
      "      55: \n",
      "      unless (Base.not_int)((#temp#@_9::Int64 === (Base.add_int)(SSAValue(33), 1)::Int64)::Bool)::Bool goto 85\n",
      "      SSAValue(34) = #temp#@_9::Int64\n",
      "      SSAValue(35) = (Base.add_int)(#temp#@_9::Int64, 1)::Int64\n",
      "      pos@_8::Int64 = SSAValue(34)\n",
      "      #temp#@_9::Int64 = SSAValue(35) # line 535:\n",
      "      SSAValue(36) = pos@_8::Int64\n",
      "      $(Expr(:inbounds, false))\n",
      "      # meta: location /Users/huazhou/.julia/v0.6/NullableArrays/src/indexing.jl getindex 22\n",
      "      #temp#@_21::Nullable{Float64} = (Base.select_value)((Base.arrayref)((Core.getfield)(X::NullableArrays.NullableArray{Float64,1}, :isnull)::Array{Bool,1}, SSAValue(36))::Bool, $(Expr(:new, Nullable{Float64}, false)), $(Expr(:new, Nullable{Float64}, true, :((Base.arrayref)((Core.getfield)(X, :values)::Array{Float64,1}, SSAValue(36))::Float64))))::Nullable{Float64}\n",
      "      goto 68 # line 27:\n",
      "      68: \n",
      "      # meta: pop location\n",
      "      $(Expr(:inbounds, :pop))\n",
      "      unless (Base.not_int)((Base.not_int)((Core.getfield)(#temp#@_21::Nullable{Float64}, :hasvalue)::Bool)::Bool)::Bool goto 83 # line 536:\n",
      "      SSAValue(37) = pos@_8::Int64\n",
      "      $(Expr(:inbounds, false))\n",
      "      # meta: location /Users/huazhou/.julia/v0.6/NullableArrays/src/indexing.jl getindex 22\n",
      "      #temp#@_22::Nullable{Float64} = (Base.select_value)((Base.arrayref)((Core.getfield)(X::NullableArrays.NullableArray{Float64,1}, :isnull)::Array{Bool,1}, SSAValue(37))::Bool, $(Expr(:new, Nullable{Float64}, false)), $(Expr(:new, Nullable{Float64}, true, :((Base.arrayref)((Core.getfield)(X, :values)::Array{Float64,1}, SSAValue(37))::Float64))))::Nullable{Float64}\n",
      "      goto 79 # line 27:\n",
      "      79: \n",
      "      # meta: pop location\n",
      "      $(Expr(:inbounds, :pop))\n",
      "      errors::Int64 = (Base.add_int)(errors::Int64, (Base.and_int)((Base.zext_int)(Int64, (Base.ne_float)((Core.getfield)(#temp#@_22::Nullable{Float64}, :value)::Float64, (Base.add_float)((Base.arrayref)(H::Array{Float64,2}, pos@_8::Int64, (Base.getfield)(s1::Tuple{Int64,Int64}, 2)::Int64)::Float64, (Base.arrayref)(H::Array{Float64,2}, pos@_8::Int64, (Base.getfield)(s2::Tuple{Int64,Int64}, 2)::Int64)::Float64)::Float64)::Bool)::Int64, 1)::Int64)::Int64\n",
      "      83: \n",
      "      goto 55\n",
      "      85:  # line 539:\n",
      "      unless (Base.slt_int)(errors::Int64, err_optim::Int64)::Bool goto 95 # line 540:\n",
      "      err_optim::Int64 = errors::Int64 # line 541:\n",
      "      bkpts_optim::Tuple{Int64,Int64} = (Core.tuple)(bkpt1::Int64, 0)::Tuple{Int64,Int64} # line 543:\n",
      "      unless (err_optim::Int64 === 0)::Bool goto 95\n",
      "      return (Core.tuple)(bkpts_optim::Tuple{Int64,Int64}, err_optim::Int64)::Tuple{Tuple{Int64,Int64},Int64}\n",
      "      95:  # line 546:\n",
      "      SSAValue(38) = (Base.select_value)((Base.sle_int)(1, bkpt1::Int64)::Bool, bkpt1::Int64, (Base.sub_int)(1, 1)::Int64)::Int64\n",
      "      #temp#@_11::Int64 = 1\n",
      "      99: \n",
      "      unless (Base.not_int)((#temp#@_11::Int64 === (Base.add_int)(SSAValue(38), 1)::Int64)::Bool)::Bool goto 146\n",
      "      SSAValue(39) = #temp#@_11::Int64\n",
      "      SSAValue(40) = (Base.add_int)(#temp#@_11::Int64, 1)::Int64\n",
      "      bkpt2@_10::Int64 = SSAValue(39)\n",
      "      #temp#@_11::Int64 = SSAValue(40) # line 547:\n",
      "      SSAValue(41) = bkpt2@_10::Int64\n",
      "      $(Expr(:inbounds, false))\n",
      "      # meta: location /Users/huazhou/.julia/v0.6/NullableArrays/src/indexing.jl getindex 22\n",
      "      #temp#@_23::Nullable{Float64} = (Base.select_value)((Base.arrayref)((Core.getfield)(X::NullableArrays.NullableArray{Float64,1}, :isnull)::Array{Bool,1}, SSAValue(41))::Bool, $(Expr(:new, Nullable{Float64}, false)), $(Expr(:new, Nullable{Float64}, true, :((Base.arrayref)((Core.getfield)(X, :values)::Array{Float64,1}, SSAValue(41))::Float64))))::Nullable{Float64}\n",
      "      goto 112 # line 27:\n",
      "      112: \n",
      "      # meta: pop location\n",
      "      $(Expr(:inbounds, :pop))\n",
      "      unless (Base.not_int)((Base.not_int)((Core.getfield)(#temp#@_23::Nullable{Float64}, :hasvalue)::Bool)::Bool)::Bool goto 144 # line 548:\n",
      "      SSAValue(42) = bkpt2@_10::Int64\n",
      "      $(Expr(:inbounds, false))\n",
      "      # meta: location /Users/huazhou/.julia/v0.6/NullableArrays/src/indexing.jl getindex 22\n",
      "      #temp#@_24::Nullable{Float64} = (Base.select_value)((Base.arrayref)((Core.getfield)(X::NullableArrays.NullableArray{Float64,1}, :isnull)::Array{Bool,1}, SSAValue(42))::Bool, $(Expr(:new, Nullable{Float64}, false)), $(Expr(:new, Nullable{Float64}, true, :((Base.arrayref)((Core.getfield)(X, :values)::Array{Float64,1}, SSAValue(42))::Float64))))::Nullable{Float64}\n",
      "      goto 123 # line 27:\n",
      "      123: \n",
      "      # meta: pop location\n",
      "      $(Expr(:inbounds, :pop))\n",
      "      errors::Int64 = (Base.sub_int)(errors::Int64, (Base.and_int)((Base.zext_int)(Int64, (Base.ne_float)((Core.getfield)(#temp#@_24::Nullable{Float64}, :value)::Float64, (Base.add_float)((Base.arrayref)(H::Array{Float64,2}, bkpt2@_10::Int64, (Base.getfield)(s1::Tuple{Int64,Int64}, 1)::Int64)::Float64, (Base.arrayref)(H::Array{Float64,2}, bkpt2@_10::Int64, (Base.getfield)(s2::Tuple{Int64,Int64}, 2)::Int64)::Float64)::Float64)::Bool)::Int64, 1)::Int64)::Int64 # line 549:\n",
      "      SSAValue(43) = bkpt2@_10::Int64\n",
      "      $(Expr(:inbounds, false))\n",
      "      # meta: location /Users/huazhou/.julia/v0.6/NullableArrays/src/indexing.jl getindex 22\n",
      "      #temp#@_25::Nullable{Float64} = (Base.select_value)((Base.arrayref)((Core.getfield)(X::NullableArrays.NullableArray{Float64,1}, :isnull)::Array{Bool,1}, SSAValue(43))::Bool, $(Expr(:new, Nullable{Float64}, false)), $(Expr(:new, Nullable{Float64}, true, :((Base.arrayref)((Core.getfield)(X, :values)::Array{Float64,1}, SSAValue(43))::Float64))))::Nullable{Float64}\n",
      "      goto 134 # line 27:\n",
      "      134: \n",
      "      # meta: pop location\n",
      "      $(Expr(:inbounds, :pop))\n"
     ]
    },
    {
     "name": "stdout",
     "output_type": "stream",
     "text": [
      "      errors::Int64 = (Base.add_int)(errors::Int64, (Base.and_int)((Base.zext_int)(Int64, (Base.ne_float)((Core.getfield)(#temp#@_25::Nullable{Float64}, :value)::Float64, (Base.add_float)((Base.arrayref)(H::Array{Float64,2}, bkpt2@_10::Int64, (Base.getfield)(s1::Tuple{Int64,Int64}, 1)::Int64)::Float64, (Base.arrayref)(H::Array{Float64,2}, bkpt2@_10::Int64, (Base.getfield)(s2::Tuple{Int64,Int64}, 1)::Int64)::Float64)::Float64)::Bool)::Int64, 1)::Int64)::Int64 # line 550:\n",
      "      unless (Base.slt_int)(errors::Int64, err_optim::Int64)::Bool goto 144 # line 551:\n",
      "      err_optim::Int64 = errors::Int64 # line 552:\n",
      "      bkpts_optim::Tuple{Int64,Int64} = (Core.tuple)(bkpt1::Int64, bkpt2@_10::Int64)::Tuple{Int64,Int64}\n",
      "      144: \n",
      "      goto 99\n",
      "      146:  # line 556:\n",
      "      SSAValue(21) = (Base.add_int)(bkpt1::Int64, 1)::Int64\n",
      "      SSAValue(20) = (Base.arraylen)((Core.getfield)(X::NullableArrays.NullableArray{Float64,1}, :values)::Array{Float64,1})::Int64\n",
      "      SSAValue(44) = (Base.select_value)((Base.sle_int)(SSAValue(21), SSAValue(20))::Bool, SSAValue(20), (Base.sub_int)(SSAValue(21), 1)::Int64)::Int64\n",
      "      #temp#@_13::Int64 = SSAValue(21)\n",
      "      152: \n",
      "      unless (Base.not_int)((#temp#@_13::Int64 === (Base.add_int)(SSAValue(44), 1)::Int64)::Bool)::Bool goto 202\n",
      "      SSAValue(45) = #temp#@_13::Int64\n",
      "      SSAValue(46) = (Base.add_int)(#temp#@_13::Int64, 1)::Int64\n",
      "      bkpt2@_12::Int64 = SSAValue(45)\n",
      "      #temp#@_13::Int64 = SSAValue(46) # line 557:\n",
      "      SSAValue(47) = bkpt2@_12::Int64\n",
      "      $(Expr(:inbounds, false))\n",
      "      # meta: location /Users/huazhou/.julia/v0.6/NullableArrays/src/indexing.jl getindex 22\n",
      "      #temp#@_26::Nullable{Float64} = (Base.select_value)((Base.arrayref)((Core.getfield)(X::NullableArrays.NullableArray{Float64,1}, :isnull)::Array{Bool,1}, SSAValue(47))::Bool, $(Expr(:new, Nullable{Float64}, false)), $(Expr(:new, Nullable{Float64}, true, :((Base.arrayref)((Core.getfield)(X, :values)::Array{Float64,1}, SSAValue(47))::Float64))))::Nullable{Float64}\n",
      "      goto 165 # line 27:\n",
      "      165: \n",
      "      # meta: pop location\n",
      "      $(Expr(:inbounds, :pop))\n",
      "      unless (Base.not_int)((Base.not_int)((Core.getfield)(#temp#@_26::Nullable{Float64}, :hasvalue)::Bool)::Bool)::Bool goto 200 # line 558:\n",
      "      SSAValue(48) = bkpt2@_12::Int64\n",
      "      $(Expr(:inbounds, false))\n",
      "      # meta: location /Users/huazhou/.julia/v0.6/NullableArrays/src/indexing.jl getindex 22\n",
      "      #temp#@_27::Nullable{Float64} = (Base.select_value)((Base.arrayref)((Core.getfield)(X::NullableArrays.NullableArray{Float64,1}, :isnull)::Array{Bool,1}, SSAValue(48))::Bool, $(Expr(:new, Nullable{Float64}, false)), $(Expr(:new, Nullable{Float64}, true, :((Base.arrayref)((Core.getfield)(X, :values)::Array{Float64,1}, SSAValue(48))::Float64))))::Nullable{Float64}\n",
      "      goto 176 # line 27:\n",
      "      176: \n",
      "      # meta: pop location\n",
      "      $(Expr(:inbounds, :pop))\n",
      "      errors::Int64 = (Base.sub_int)(errors::Int64, (Base.and_int)((Base.zext_int)(Int64, (Base.ne_float)((Core.getfield)(#temp#@_27::Nullable{Float64}, :value)::Float64, (Base.add_float)((Base.arrayref)(H::Array{Float64,2}, bkpt2@_12::Int64, (Base.getfield)(s1::Tuple{Int64,Int64}, 2)::Int64)::Float64, (Base.arrayref)(H::Array{Float64,2}, bkpt2@_12::Int64, (Base.getfield)(s2::Tuple{Int64,Int64}, 2)::Int64)::Float64)::Float64)::Bool)::Int64, 1)::Int64)::Int64 # line 559:\n",
      "      SSAValue(49) = bkpt2@_12::Int64\n",
      "      $(Expr(:inbounds, false))\n",
      "      # meta: location /Users/huazhou/.julia/v0.6/NullableArrays/src/indexing.jl getindex 22\n",
      "      #temp#@_28::Nullable{Float64} = (Base.select_value)((Base.arrayref)((Core.getfield)(X::NullableArrays.NullableArray{Float64,1}, :isnull)::Array{Bool,1}, SSAValue(49))::Bool, $(Expr(:new, Nullable{Float64}, false)), $(Expr(:new, Nullable{Float64}, true, :((Base.arrayref)((Core.getfield)(X, :values)::Array{Float64,1}, SSAValue(49))::Float64))))::Nullable{Float64}\n",
      "      goto 187 # line 27:\n",
      "      187: \n",
      "      # meta: pop location\n",
      "      $(Expr(:inbounds, :pop))\n",
      "      errors::Int64 = (Base.add_int)(errors::Int64, (Base.and_int)((Base.zext_int)(Int64, (Base.ne_float)((Core.getfield)(#temp#@_28::Nullable{Float64}, :value)::Float64, (Base.add_float)((Base.arrayref)(H::Array{Float64,2}, bkpt2@_12::Int64, (Base.getfield)(s1::Tuple{Int64,Int64}, 2)::Int64)::Float64, (Base.arrayref)(H::Array{Float64,2}, bkpt2@_12::Int64, (Base.getfield)(s2::Tuple{Int64,Int64}, 1)::Int64)::Float64)::Float64)::Bool)::Int64, 1)::Int64)::Int64 # line 560:\n",
      "      unless (Base.slt_int)(errors::Int64, err_optim::Int64)::Bool goto 200 # line 561:\n",
      "      err_optim::Int64 = errors::Int64 # line 562:\n",
      "      bkpts_optim::Tuple{Int64,Int64} = (Core.tuple)(bkpt1::Int64, bkpt2@_12::Int64)::Tuple{Int64,Int64} # line 564:\n",
      "      unless (err_optim::Int64 === 0)::Bool goto 200\n",
      "      return (Core.tuple)(bkpts_optim::Tuple{Int64,Int64}, err_optim::Int64)::Tuple{Tuple{Int64,Int64},Int64}\n",
      "      200: \n",
      "      goto 152\n",
      "      202: \n",
      "      goto 8\n",
      "      204:  # line 569:\n",
      "      return (Core.tuple)(bkpts_optim::Tuple{Int64,Int64}, err_optim::Int64)::Tuple{Tuple{Int64,Int64},Int64}\n",
      "  end::Tuple{Tuple{Int64,Int64},Int64}\n"
     ]
    }
   ],
   "source": [
    "@code_warntype search_breakpoint(X, H, (1, 2), (4, 4))"
   ]
  },
  {
   "cell_type": "code",
   "execution_count": 7,
   "metadata": {},
   "outputs": [
    {
     "name": "stdout",
     "output_type": "stream",
     "text": [
      "(bkpt_optim, err_optim) = (497, 0)\n",
      "  0.006091 seconds (7 allocations: 256 bytes)\n"
     ]
    },
    {
     "data": {
      "text/plain": [
       "((500, 498), 0)"
      ]
     },
     "execution_count": 7,
     "metadata": {},
     "output_type": "execute_result"
    }
   ],
   "source": [
    "bkpts_optim, err_optim = search_breakpoint(X, H, (1, 2), (3, 4))\n",
    "@show bkpt_optim, err_optim\n",
    "@time search_breakpoint(X, H, (1, 2), (3, 4))"
   ]
  },
  {
   "cell_type": "code",
   "execution_count": 8,
   "metadata": {},
   "outputs": [
    {
     "data": {
      "text/plain": [
       "BenchmarkTools.Trial: \n",
       "  memory estimate:  32 bytes\n",
       "  allocs estimate:  1\n",
       "  --------------\n",
       "  minimum time:     4.139 ms (0.00% GC)\n",
       "  median time:      4.343 ms (0.00% GC)\n",
       "  mean time:        4.627 ms (0.00% GC)\n",
       "  maximum time:     8.347 ms (0.00% GC)\n",
       "  --------------\n",
       "  samples:          1080\n",
       "  evals/sample:     1"
      ]
     },
     "execution_count": 8,
     "metadata": {},
     "output_type": "execute_result"
    }
   ],
   "source": [
    "@benchmark search_breakpoint(X, H, (1, 2), (3, 4))"
   ]
  }
 ],
 "metadata": {
  "kernelspec": {
   "display_name": "Julia 0.6.0",
   "language": "julia",
   "name": "julia-0.6"
  },
  "language_info": {
   "file_extension": ".jl",
   "mimetype": "application/julia",
   "name": "julia",
   "version": "0.6.0"
  },
  "toc": {
   "colors": {
    "hover_highlight": "#DAA520",
    "running_highlight": "#FF0000",
    "selected_highlight": "#FFD700"
   },
   "moveMenuLeft": true,
   "nav_menu": {
    "height": "66px",
    "width": "252px"
   },
   "navigate_menu": true,
   "number_sections": true,
   "sideBar": true,
   "threshold": 4,
   "toc_cell": false,
   "toc_section_display": "block",
   "toc_window_display": false,
   "widenNotebook": false
  }
 },
 "nbformat": 4,
 "nbformat_minor": 2
}
