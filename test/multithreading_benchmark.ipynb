{
 "cells": [
  {
   "cell_type": "markdown",
   "metadata": {},
   "source": [
    "# Multithreading benchmarks for haplotyping\n",
    "\n",
    "Julia offers multithreading capabilities, but matrix-matrix multiplication with BLAS is also inherently multithreaded. If we use max number of threads for each, the computer may suffer oversubscription such as discussed in [this post](https://discourse.julialang.org/t/julia-threads-vs-blas-threads/8914). In addition, there are numerous ways to parallelize the haplotyping code. Thus, below we attempt to find the optimal thread combination for haplotyping project.\n",
    "\n",
    "Useful code:\n",
    "+ **Check BLAS threads in Julia:** `ccall((:openblas_get_num_threads64_, Base.libblas_name), Cint, ())`\n",
    "+ **Set BLAS threads in Julia:** `BLAS.set_num_threads(n)`\n",
    "+ **Check Julia threads in Julia:** `Threads.nthreads()`\n",
    "+ **Set Julia threads (in terminal):** `export JULIA_NUM_THREADS=n`"
   ]
  },
  {
   "cell_type": "code",
   "execution_count": 1,
   "metadata": {
    "collapsed": false
   },
   "outputs": [
    {
     "name": "stdout",
     "output_type": "stream",
     "text": [
      "Julia Version 1.0.3\n",
      "Commit 099e826241 (2018-12-18 01:34 UTC)\n",
      "Platform Info:\n",
      "  OS: macOS (x86_64-apple-darwin14.5.0)\n",
      "  CPU: Intel(R) Core(TM) i9-9880H CPU @ 2.30GHz\n",
      "  WORD_SIZE: 64\n",
      "  LIBM: libopenlibm\n",
      "  LLVM: libLLVM-6.0.0 (ORCJIT, skylake)\n",
      "Environment:\n",
      "  JULIA_NUM_THREADS = 1\n"
     ]
    }
   ],
   "source": [
    "versioninfo()"
   ]
  },
  {
   "cell_type": "code",
   "execution_count": 2,
   "metadata": {
    "collapsed": false
   },
   "outputs": [
    {
     "name": "stderr",
     "output_type": "stream",
     "text": [
      "┌ Info: Recompiling stale cache file /Users/biona001/.julia/compiled/v1.0/MendelImpute/DVXpm.ji for MendelImpute [e47305d1-6a61-5370-bc5d-77554d143183]\n",
      "└ @ Base loading.jl:1190\n"
     ]
    }
   ],
   "source": [
    "using BenchmarkTools\n",
    "using MendelImpute\n",
    "using Random\n",
    "using LinearAlgebra\n",
    "using Profile"
   ]
  },
  {
   "cell_type": "code",
   "execution_count": 3,
   "metadata": {
    "collapsed": false
   },
   "outputs": [],
   "source": [
    "Random.seed!(123)\n",
    "n = 5000 # number of individuals\n",
    "p = 500  # number of SNPs\n",
    "d = 500  # number of reference haplotypes\n",
    "H = convert(Matrix{Float32}, rand(0:1, p, d))\n",
    "X = convert(Matrix{Float32}, rand(0:2, p, n))\n",
    "M = Transpose(H) * H\n",
    "for j in 1:d, i in 1:(j - 1) # off-diagonal\n",
    "    M[i, j] = 2M[i, j] + M[i, i] + M[j, j]\n",
    "end\n",
    "for j in 1:d # diagonal\n",
    "    M[j, j] *= 4\n",
    "end\n",
    "N = Transpose(X) * H\n",
    "for I in eachindex(N)\n",
    "    N[I] *= 2\n",
    "end\n",
    "\n",
    "happair  = zeros(Int, n), zeros(Int, n)\n",
    "hapscore = zeros(eltype(N), n)\n",
    "haplopair!(happair, hapscore, M, N)"
   ]
  },
  {
   "cell_type": "markdown",
   "metadata": {},
   "source": [
    "## Multithreading in finding optimal haplotypes in each window over multiple individuals\n",
    "\n",
    "This is accomplished by:\n",
    "\n",
    "```Julia\n",
    "Threads.@threads for k in 1:d\n",
    "    @inbounds for j in 1:k\n",
    "        # loop over individuals\n",
    "        for i in 1:n\n",
    "            score = M[j, k] - N[i, j] - N[i, k]\n",
    "            if score < hapmin[i]\n",
    "                hapmin[i], happair[1][i], happair[2][i] = score, j, k\n",
    "            end\n",
    "        end\n",
    "    end\n",
    "end\n",
    "```"
   ]
  },
  {
   "cell_type": "markdown",
   "metadata": {},
   "source": [
    "### 1 Julia thread, 8 BLAS thread (default setup)"
   ]
  },
  {
   "cell_type": "code",
   "execution_count": 4,
   "metadata": {
    "collapsed": false
   },
   "outputs": [
    {
     "data": {
      "text/plain": [
       "8"
      ]
     },
     "execution_count": 4,
     "metadata": {},
     "output_type": "execute_result"
    }
   ],
   "source": [
    "#BLAS threads\n",
    "ccall((:openblas_get_num_threads64_, Base.libblas_name), Cint, ())"
   ]
  },
  {
   "cell_type": "code",
   "execution_count": 5,
   "metadata": {
    "collapsed": false
   },
   "outputs": [
    {
     "data": {
      "text/plain": [
       "1"
      ]
     },
     "execution_count": 5,
     "metadata": {},
     "output_type": "execute_result"
    }
   ],
   "source": [
    "#julia threads\n",
    "Threads.nthreads()"
   ]
  },
  {
   "cell_type": "code",
   "execution_count": 6,
   "metadata": {
    "collapsed": false
   },
   "outputs": [
    {
     "data": {
      "text/plain": [
       "BenchmarkTools.Trial: \n",
       "  memory estimate:  64 bytes\n",
       "  allocs estimate:  1\n",
       "  --------------\n",
       "  minimum time:     422.589 ms (0.00% GC)\n",
       "  median time:      430.402 ms (0.00% GC)\n",
       "  mean time:        432.180 ms (0.00% GC)\n",
       "  maximum time:     459.712 ms (0.00% GC)\n",
       "  --------------\n",
       "  samples:          70\n",
       "  evals/sample:     1"
      ]
     },
     "execution_count": 6,
     "metadata": {},
     "output_type": "execute_result"
    }
   ],
   "source": [
    "@benchmark haplopair!($happair, $hapscore, $M, $N) seconds=30"
   ]
  },
  {
   "cell_type": "markdown",
   "metadata": {},
   "source": [
    "### 16 Julia thread (max), 1~8 BLAS threads"
   ]
  },
  {
   "cell_type": "code",
   "execution_count": 4,
   "metadata": {
    "collapsed": false
   },
   "outputs": [
    {
     "data": {
      "text/plain": [
       "16"
      ]
     },
     "execution_count": 4,
     "metadata": {},
     "output_type": "execute_result"
    }
   ],
   "source": [
    "Threads.nthreads()"
   ]
  },
  {
   "cell_type": "code",
   "execution_count": 4,
   "metadata": {
    "collapsed": false
   },
   "outputs": [
    {
     "name": "stdout",
     "output_type": "stream",
     "text": [
      "1 BLAS threads: \n",
      "\n",
      "  100.901 ms (1 allocation: 64 bytes)\n",
      "\n",
      "\n",
      "2 BLAS threads: \n",
      "\n",
      "  106.044 ms (1 allocation: 64 bytes)\n",
      "\n",
      "\n",
      "3 BLAS threads: \n",
      "\n",
      "  107.748 ms (1 allocation: 64 bytes)\n",
      "\n",
      "\n",
      "4 BLAS threads: \n",
      "\n",
      "  108.500 ms (1 allocation: 64 bytes)\n",
      "\n",
      "\n",
      "5 BLAS threads: \n",
      "\n",
      "  109.335 ms (1 allocation: 64 bytes)\n",
      "\n",
      "\n",
      "6 BLAS threads: \n",
      "\n",
      "  108.418 ms (1 allocation: 64 bytes)\n",
      "\n",
      "\n",
      "7 BLAS threads: \n",
      "\n",
      "  107.891 ms (1 allocation: 64 bytes)\n",
      "\n",
      "\n",
      "8 BLAS threads: \n",
      "\n",
      "  109.018 ms (1 allocation: 64 bytes)\n",
      "\n",
      "\n"
     ]
    }
   ],
   "source": [
    "blas_threads = collect(1:8)\n",
    "for n in blas_threads\n",
    "    BLAS.set_num_threads(n)\n",
    "    println(\"$n BLAS threads: \\n\")\n",
    "    @btime haplopair!($happair, $hapscore, $M, $N) seconds=30\n",
    "    println(\"\\n\")\n",
    "end"
   ]
  },
  {
   "cell_type": "markdown",
   "metadata": {
    "collapsed": true
   },
   "source": [
    "### 8 Julia thread, 1~8 BLAS threads"
   ]
  },
  {
   "cell_type": "code",
   "execution_count": 4,
   "metadata": {
    "collapsed": false
   },
   "outputs": [
    {
     "data": {
      "text/plain": [
       "8"
      ]
     },
     "execution_count": 4,
     "metadata": {},
     "output_type": "execute_result"
    }
   ],
   "source": [
    "Threads.nthreads()"
   ]
  },
  {
   "cell_type": "code",
   "execution_count": 5,
   "metadata": {
    "collapsed": false
   },
   "outputs": [
    {
     "name": "stdout",
     "output_type": "stream",
     "text": [
      "1 BLAS threads: \n",
      "\n",
      "  135.831 ms (1 allocation: 64 bytes)\n",
      "\n",
      "\n",
      "2 BLAS threads: \n",
      "\n",
      "  135.022 ms (1 allocation: 64 bytes)\n",
      "\n",
      "\n",
      "3 BLAS threads: \n",
      "\n",
      "  144.304 ms (1 allocation: 64 bytes)\n",
      "\n",
      "\n",
      "4 BLAS threads: \n",
      "\n",
      "  139.879 ms (1 allocation: 64 bytes)\n",
      "\n",
      "\n",
      "5 BLAS threads: \n",
      "\n",
      "  140.054 ms (1 allocation: 64 bytes)\n",
      "\n",
      "\n",
      "6 BLAS threads: \n",
      "\n",
      "  139.810 ms (1 allocation: 64 bytes)\n",
      "\n",
      "\n",
      "7 BLAS threads: \n",
      "\n",
      "  139.915 ms (1 allocation: 64 bytes)\n",
      "\n",
      "\n",
      "8 BLAS threads: \n",
      "\n",
      "  144.358 ms (1 allocation: 64 bytes)\n",
      "\n",
      "\n"
     ]
    }
   ],
   "source": [
    "blas_threads = collect(1:8)\n",
    "for n in blas_threads\n",
    "    BLAS.set_num_threads(n)\n",
    "    println(\"$n BLAS threads: \\n\")\n",
    "    @btime haplopair!($happair, $hapscore, $M, $N) seconds=30\n",
    "    println(\"\\n\")\n",
    "end"
   ]
  },
  {
   "cell_type": "markdown",
   "metadata": {},
   "source": [
    "### 4 Julia thread, 1~8 BLAS threads"
   ]
  },
  {
   "cell_type": "code",
   "execution_count": 4,
   "metadata": {
    "collapsed": false
   },
   "outputs": [
    {
     "data": {
      "text/plain": [
       "4"
      ]
     },
     "execution_count": 4,
     "metadata": {},
     "output_type": "execute_result"
    }
   ],
   "source": [
    "Threads.nthreads()"
   ]
  },
  {
   "cell_type": "code",
   "execution_count": 5,
   "metadata": {
    "collapsed": false
   },
   "outputs": [
    {
     "name": "stdout",
     "output_type": "stream",
     "text": [
      "1 BLAS threads: \n",
      "\n",
      "  224.559 ms (1 allocation: 64 bytes)\n",
      "\n",
      "\n",
      "2 BLAS threads: \n",
      "\n",
      "  212.941 ms (1 allocation: 64 bytes)\n",
      "\n",
      "\n",
      "3 BLAS threads: \n",
      "\n",
      "  213.031 ms (1 allocation: 64 bytes)\n",
      "\n",
      "\n",
      "4 BLAS threads: \n",
      "\n",
      "  212.990 ms (1 allocation: 64 bytes)\n",
      "\n",
      "\n",
      "5 BLAS threads: \n",
      "\n",
      "  214.731 ms (1 allocation: 64 bytes)\n",
      "\n",
      "\n",
      "6 BLAS threads: \n",
      "\n",
      "  213.046 ms (1 allocation: 64 bytes)\n",
      "\n",
      "\n",
      "7 BLAS threads: \n",
      "\n",
      "  213.081 ms (1 allocation: 64 bytes)\n",
      "\n",
      "\n",
      "8 BLAS threads: \n",
      "\n",
      "  218.415 ms (1 allocation: 64 bytes)\n",
      "\n",
      "\n"
     ]
    }
   ],
   "source": [
    "blas_threads = collect(1:8)\n",
    "for n in blas_threads\n",
    "    BLAS.set_num_threads(n)\n",
    "    println(\"$n BLAS threads: \\n\")\n",
    "    @btime haplopair!($happair, $hapscore, $M, $N) seconds=30\n",
    "    println(\"\\n\")\n",
    "end"
   ]
  },
  {
   "cell_type": "markdown",
   "metadata": {},
   "source": [
    "# 7/10/2020 update\n",
    "\n",
    "On small problems (e.g. compare 1~3), using 8 threads parallelizing across windows achieves 4~5x speedup. However, on large problems (e.g. HRC chr20), we only get 2x speedup with 10 threads. \n",
    "\n",
    "Related discussions:\n",
    "+ [This post](https://discourse.julialang.org/t/multiply-many-matrices-by-many-vectors/18542/17) discuss multiplying a bunch of matrix-vectors. They got linear scaling with # cores if matrices are preallocated. \n",
    "+ [This post](https://discourse.julialang.org/t/poor-performance-on-cluster-multithreading/12248/9) suggests allocations is very bad for multithreaded loops because GC is single threaded. "
   ]
  },
  {
   "cell_type": "code",
   "execution_count": 1,
   "metadata": {
    "collapsed": true
   },
   "outputs": [],
   "source": [
    "using LinearAlgebra, BenchmarkTools, Random\n",
    "BLAS.set_num_threads(1)"
   ]
  },
  {
   "cell_type": "code",
   "execution_count": 2,
   "metadata": {
    "collapsed": false
   },
   "outputs": [
    {
     "data": {
      "text/plain": [
       "mult_reduce_threaded (generic function with 1 method)"
      ]
     },
     "execution_count": 2,
     "metadata": {},
     "output_type": "execute_result"
    }
   ],
   "source": [
    "function mult_reduce(M::Vector{Matrix{Float64}})\n",
    "    n = length(M)\n",
    "    s = 0.0\n",
    "    for i in 1:n\n",
    "        tmp = Transpose(M[i]) * M[i] # calculate Mi' Mi\n",
    "        s  += sum(tmp)               # reduction\n",
    "    end\n",
    "    return s\n",
    "end\n",
    "\n",
    "function mult_reduce_threaded(M::Vector{Matrix{Float64}})\n",
    "    n = length(M)\n",
    "    s = zeros(Threads.nthreads())\n",
    "    Threads.@threads for i in 1:n\n",
    "        tmp = Transpose(M[i]) * M[i]      # calculate Mi' Mi        \n",
    "        s[Threads.threadid()] += sum(tmp) # reduction on each thread         \n",
    "    end\n",
    "    return sum(s) # reduce across threads\n",
    "end"
   ]
  },
  {
   "cell_type": "code",
   "execution_count": 3,
   "metadata": {
    "collapsed": true
   },
   "outputs": [],
   "source": [
    "# generate (small) test data\n",
    "Random.seed!(2020)\n",
    "n = 100\n",
    "M = Vector{Matrix{Float64}}(undef, n)\n",
    "for i in 1:n\n",
    "    k = rand(100:200) # random matrix dimension\n",
    "    M[i] = rand(k, k)\n",
    "end"
   ]
  },
  {
   "cell_type": "code",
   "execution_count": 4,
   "metadata": {
    "collapsed": false
   },
   "outputs": [
    {
     "name": "stdout",
     "output_type": "stream",
     "text": [
      "  18.225 ms (200 allocations: 18.71 MiB)\n"
     ]
    },
    {
     "data": {
      "text/plain": [
       "1.0128044609863697e8"
      ]
     },
     "execution_count": 4,
     "metadata": {},
     "output_type": "execute_result"
    }
   ],
   "source": [
    "@btime mult_reduce(M) # 1 thread"
   ]
  },
  {
   "cell_type": "code",
   "execution_count": 4,
   "metadata": {
    "collapsed": false
   },
   "outputs": [
    {
     "name": "stdout",
     "output_type": "stream",
     "text": [
      "  4.451 ms (259 allocations: 18.72 MiB)\n"
     ]
    },
    {
     "data": {
      "text/plain": [
       "1.0128044609863696e8"
      ]
     },
     "execution_count": 4,
     "metadata": {},
     "output_type": "execute_result"
    }
   ],
   "source": [
    "@btime mult_reduce_threaded(M) # 8 thread"
   ]
  },
  {
   "cell_type": "code",
   "execution_count": 5,
   "metadata": {
    "collapsed": true
   },
   "outputs": [],
   "source": [
    "# generate (large) test data\n",
    "Random.seed!(2020)\n",
    "n = 100\n",
    "M = Vector{Matrix{Float64}}(undef, n)\n",
    "for i in 1:n\n",
    "    k = rand(1000:3000) # random matrix dimension\n",
    "    M[i] = rand(k, k)\n",
    "end"
   ]
  },
  {
   "cell_type": "code",
   "execution_count": 6,
   "metadata": {
    "collapsed": false
   },
   "outputs": [
    {
     "name": "stdout",
     "output_type": "stream",
     "text": [
      "  21.042 s (200 allocations: 3.12 GiB)\n"
     ]
    },
    {
     "data": {
      "text/plain": [
       "2.368913048551288e11"
      ]
     },
     "execution_count": 6,
     "metadata": {},
     "output_type": "execute_result"
    }
   ],
   "source": [
    "@btime mult_reduce(M) # 1 thread"
   ]
  },
  {
   "cell_type": "code",
   "execution_count": 6,
   "metadata": {
    "collapsed": false
   },
   "outputs": [
    {
     "name": "stdout",
     "output_type": "stream",
     "text": [
      "  9.937 s (275 allocations: 3.12 GiB)\n"
     ]
    },
    {
     "data": {
      "text/plain": [
       "2.3689130485512885e11"
      ]
     },
     "execution_count": 6,
     "metadata": {},
     "output_type": "execute_result"
    }
   ],
   "source": [
    "@btime mult_reduce_threaded(M) # 8 thread"
   ]
  },
  {
   "cell_type": "code",
   "execution_count": null,
   "metadata": {
    "collapsed": true
   },
   "outputs": [],
   "source": []
  }
 ],
 "metadata": {
  "@webio": {
   "lastCommId": null,
   "lastKernelId": null
  },
  "kernelspec": {
   "display_name": "Julia 1.3.1",
   "language": "julia",
   "name": "julia-1.3"
  },
  "language_info": {
   "file_extension": ".jl",
   "mimetype": "application/julia",
   "name": "julia",
   "version": "1.3.1"
  }
 },
 "nbformat": 4,
 "nbformat_minor": 2
}
