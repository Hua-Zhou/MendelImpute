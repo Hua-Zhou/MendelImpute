{
 "cells": [
  {
   "cell_type": "markdown",
   "metadata": {},
   "source": [
    "# AFRped data"
   ]
  },
  {
   "cell_type": "code",
   "execution_count": 1,
   "metadata": {
    "collapsed": false
   },
   "outputs": [
    {
     "name": "stdout",
     "output_type": "stream",
     "text": [
      "Julia Version 1.0.3\n",
      "Commit 099e826241 (2018-12-18 01:34 UTC)\n",
      "Platform Info:\n",
      "  OS: macOS (x86_64-apple-darwin14.5.0)\n",
      "  CPU: Intel(R) Core(TM) i9-9880H CPU @ 2.30GHz\n",
      "  WORD_SIZE: 64\n",
      "  LIBM: libopenlibm\n",
      "  LLVM: libLLVM-6.0.0 (ORCJIT, skylake)\n"
     ]
    }
   ],
   "source": [
    "versioninfo()"
   ]
  },
  {
   "cell_type": "code",
   "execution_count": 2,
   "metadata": {
    "collapsed": false
   },
   "outputs": [
    {
     "name": "stderr",
     "output_type": "stream",
     "text": [
      "┌ Info: Recompiling stale cache file /Users/biona001/.julia/compiled/v1.0/MendelImpute/DVXpm.ji for MendelImpute [e47305d1-6a61-5370-bc5d-77554d143183]\n",
      "└ @ Base loading.jl:1190\n"
     ]
    }
   ],
   "source": [
    "using Revise\n",
    "using DelimitedFiles\n",
    "using LinearAlgebra\n",
    "using BenchmarkTools\n",
    "using MendelImpute\n",
    "using Random\n",
    "using Profile"
   ]
  },
  {
   "cell_type": "markdown",
   "metadata": {},
   "source": [
    "## Retrieve genotype data from pedigree file"
   ]
  },
  {
   "cell_type": "code",
   "execution_count": 3,
   "metadata": {
    "collapsed": false
   },
   "outputs": [
    {
     "name": "stdout",
     "output_type": "stream",
     "text": [
      "  7.975786 seconds (176.39 M allocations: 4.777 GiB, 7.91% gc time)\n"
     ]
    },
    {
     "data": {
      "text/plain": [
       "1325×36499 Array{Float32,2}:\n",
       " 0.0  0.0  0.0  0.0  0.0  0.0  0.0  0.0  …  0.0  0.0  0.0  0.0  0.0  1.0  0.0\n",
       " 0.0  0.0  0.0  0.0  0.0  0.0  0.0  0.0     0.0  0.0  0.0  0.0  0.0  1.0  0.0\n",
       " 1.0  0.0  0.0  0.0  0.0  0.0  0.0  0.0     0.0  0.0  0.0  0.0  0.0  0.0  0.0\n",
       " 0.0  0.0  0.0  0.0  0.0  0.0  0.0  0.0     0.0  0.0  0.0  0.0  0.0  0.0  0.0\n",
       " 1.0  0.0  0.0  0.0  0.0  0.0  0.0  0.0     0.0  0.0  0.0  0.0  0.0  0.0  0.0\n",
       " 1.0  0.0  0.0  0.0  0.0  0.0  0.0  0.0  …  0.0  0.0  0.0  0.0  0.0  0.0  0.0\n",
       " 0.0  0.0  0.0  0.0  0.0  0.0  0.0  0.0     0.0  0.0  0.0  0.0  0.0  1.0  0.0\n",
       " 1.0  0.0  0.0  0.0  0.0  0.0  0.0  0.0     0.0  0.0  0.0  0.0  0.0  1.0  0.0\n",
       " 0.0  0.0  0.0  0.0  0.0  0.0  0.0  0.0     0.0  0.0  0.0  0.0  0.0  0.0  0.0\n",
       " 0.0  0.0  0.0  0.0  0.0  0.0  0.0  0.0     0.0  0.0  0.0  0.0  0.0  0.0  0.0\n",
       " 0.0  0.0  0.0  0.0  0.0  0.0  0.0  0.0  …  0.0  0.0  0.0  0.0  0.0  1.0  0.0\n",
       " 0.0  0.0  0.0  0.0  0.0  0.0  0.0  0.0     0.0  0.0  0.0  0.0  0.0  1.0  0.0\n",
       " 0.0  0.0  0.0  0.0  0.0  0.0  0.0  0.0     0.0  0.0  0.0  0.0  0.0  1.0  0.0\n",
       " ⋮                        ⋮              ⋱                 ⋮                 \n",
       " 0.0  0.0  0.0  0.0  0.0  0.0  0.0  0.0     0.0  0.0  0.0  0.0  0.0  0.0  0.0\n",
       " 0.0  0.0  0.0  0.0  0.0  0.0  0.0  0.0     0.0  0.0  0.0  0.0  0.0  0.0  0.0\n",
       " 0.0  0.0  0.0  0.0  0.0  0.0  0.0  0.0  …  0.0  0.0  0.0  0.0  0.0  0.0  0.0\n",
       " 0.0  0.0  0.0  0.0  0.0  0.0  0.0  0.0     0.0  0.0  0.0  0.0  0.0  0.0  0.0\n",
       " 0.0  0.0  0.0  0.0  0.0  0.0  0.0  0.0     0.0  0.0  0.0  0.0  0.0  0.0  0.0\n",
       " 0.0  0.0  0.0  0.0  0.0  0.0  0.0  0.0     0.0  0.0  0.0  0.0  0.0  0.0  0.0\n",
       " 0.0  0.0  0.0  0.0  0.0  0.0  0.0  0.0     0.0  0.0  0.0  0.0  0.0  0.0  0.0\n",
       " 0.0  0.0  0.0  0.0  0.0  0.0  0.0  0.0  …  0.0  0.0  0.0  0.0  0.0  0.0  0.0\n",
       " 0.0  0.0  0.0  0.0  0.0  0.0  0.0  0.0     0.0  0.0  0.0  0.0  0.0  0.0  0.0\n",
       " 0.0  0.0  0.0  0.0  0.0  0.0  0.0  0.0     0.0  0.0  0.0  0.0  0.0  0.0  0.0\n",
       " 0.0  0.0  0.0  0.0  0.0  0.0  0.0  0.0     0.0  0.0  0.0  0.0  0.0  0.0  0.0\n",
       " 0.0  0.0  0.0  0.0  0.0  0.0  0.0  0.0     0.0  0.0  0.0  0.0  0.0  0.0  0.0"
      ]
     },
     "execution_count": 3,
     "metadata": {},
     "output_type": "execute_result"
    }
   ],
   "source": [
    "@time rawdata = readdlm(\"AFRped_geno.txt\", ',', Float32)"
   ]
  },
  {
   "cell_type": "code",
   "execution_count": 4,
   "metadata": {
    "collapsed": false
   },
   "outputs": [
    {
     "data": {
      "text/plain": [
       "36498×664 Array{Float32,2}:\n",
       " 0.0  0.0  1.0  0.0  1.0  1.0  0.0  1.0  …  0.0  0.0  0.0  0.0  0.0  0.0  0.0\n",
       " 0.0  0.0  0.0  0.0  0.0  0.0  0.0  0.0     0.0  0.0  0.0  0.0  0.0  0.0  0.0\n",
       " 0.0  0.0  0.0  0.0  0.0  0.0  0.0  0.0     0.0  0.0  0.0  0.0  0.0  0.0  0.0\n",
       " 0.0  0.0  0.0  0.0  0.0  0.0  0.0  0.0     0.0  0.0  0.0  0.0  0.0  0.0  0.0\n",
       " 0.0  0.0  0.0  0.0  0.0  0.0  0.0  0.0     0.0  0.0  0.0  0.0  0.0  0.0  0.0\n",
       " 0.0  0.0  0.0  0.0  0.0  0.0  0.0  0.0  …  0.0  0.0  0.0  0.0  0.0  0.0  0.0\n",
       " 0.0  0.0  0.0  0.0  0.0  0.0  0.0  0.0     0.0  0.0  0.0  0.0  0.0  0.0  0.0\n",
       " 0.0  0.0  0.0  0.0  0.0  0.0  0.0  0.0     0.0  0.0  0.0  0.0  0.0  0.0  0.0\n",
       " 0.0  0.0  0.0  0.0  0.0  0.0  0.0  0.0     0.0  0.0  0.0  0.0  0.0  0.0  0.0\n",
       " 0.0  0.0  0.0  0.0  0.0  0.0  0.0  0.0     0.0  0.0  0.0  0.0  0.0  0.0  0.0\n",
       " 0.0  0.0  0.0  0.0  0.0  0.0  0.0  0.0  …  0.0  0.0  0.0  0.0  0.0  0.0  0.0\n",
       " 0.0  0.0  0.0  0.0  0.0  0.0  0.0  0.0     0.0  0.0  0.0  0.0  0.0  0.0  0.0\n",
       " 0.0  0.0  0.0  0.0  0.0  0.0  0.0  0.0     0.0  0.0  0.0  0.0  0.0  0.0  0.0\n",
       " ⋮                        ⋮              ⋱                 ⋮                 \n",
       " 0.0  0.0  0.0  0.0  0.0  0.0  0.0  0.0     0.0  0.0  0.0  0.0  0.0  0.0  0.0\n",
       " 0.0  0.0  0.0  0.0  0.0  0.0  0.0  0.0     0.0  0.0  0.0  0.0  0.0  0.0  0.0\n",
       " 0.0  0.0  0.0  0.0  0.0  0.0  0.0  0.0     0.0  1.0  0.0  1.0  1.0  0.0  1.0\n",
       " 0.0  0.0  0.0  0.0  0.0  0.0  0.0  0.0     1.0  0.0  0.0  1.0  0.0  1.0  0.0\n",
       " 0.0  0.0  0.0  0.0  0.0  0.0  0.0  0.0  …  0.0  0.0  0.0  0.0  0.0  0.0  0.0\n",
       " 0.0  0.0  0.0  0.0  0.0  0.0  0.0  0.0     0.0  0.0  0.0  0.0  0.0  0.0  0.0\n",
       " 0.0  0.0  0.0  0.0  0.0  0.0  0.0  0.0     0.0  0.0  0.0  0.0  0.0  0.0  0.0\n",
       " 0.0  0.0  0.0  0.0  0.0  0.0  0.0  0.0     0.0  0.0  0.0  0.0  0.0  0.0  0.0\n",
       " 0.0  0.0  0.0  0.0  0.0  0.0  0.0  0.0     0.0  0.0  0.0  0.0  0.0  0.0  0.0\n",
       " 0.0  0.0  0.0  0.0  0.0  0.0  0.0  0.0  …  0.0  0.0  0.0  0.0  0.0  0.0  0.0\n",
       " 0.0  0.0  0.0  0.0  0.0  0.0  0.0  0.0     0.0  0.0  0.0  0.0  0.0  0.0  0.0\n",
       " 1.0  1.0  0.0  0.0  0.0  0.0  1.0  1.0     1.0  0.0  0.0  1.0  0.0  1.0  0.0"
      ]
     },
     "execution_count": 4,
     "metadata": {},
     "output_type": "execute_result"
    }
   ],
   "source": [
    "people = 664\n",
    "X = copy(Transpose(rawdata[1:people, 1:(end - 1)]))"
   ]
  },
  {
   "cell_type": "code",
   "execution_count": 5,
   "metadata": {
    "collapsed": false
   },
   "outputs": [
    {
     "data": {
      "text/plain": [
       "36498×661 Array{Float32,2}:\n",
       " 0.0  0.0  0.0  0.0  0.0  0.0  0.0  0.0  …  0.0  0.0  0.0  0.0  0.0  0.0  0.0\n",
       " 0.0  0.0  0.0  0.0  0.0  0.0  0.0  0.0     0.0  0.0  0.0  0.0  0.0  0.0  0.0\n",
       " 0.0  0.0  0.0  0.0  0.0  0.0  0.0  0.0     0.0  0.0  0.0  0.0  0.0  0.0  0.0\n",
       " 0.0  0.0  0.0  0.0  0.0  0.0  0.0  0.0     0.0  0.0  0.0  0.0  0.0  0.0  0.0\n",
       " 0.0  0.0  0.0  0.0  0.0  0.0  0.0  0.0     0.0  0.0  0.0  0.0  0.0  0.0  0.0\n",
       " 0.0  0.0  0.0  0.0  0.0  0.0  0.0  0.0  …  0.0  0.0  0.0  0.0  0.0  0.0  0.0\n",
       " 0.0  0.0  0.0  0.0  0.0  0.0  0.0  0.0     0.0  0.0  0.0  0.0  0.0  0.0  0.0\n",
       " 0.0  0.0  0.0  0.0  0.0  0.0  0.0  0.0     0.0  0.0  0.0  0.0  0.0  0.0  0.0\n",
       " 0.0  0.0  0.0  0.0  0.0  0.0  0.0  0.0     0.0  0.0  0.0  0.0  0.0  0.0  0.0\n",
       " 0.0  0.0  0.0  0.0  0.0  1.0  0.0  1.0     0.0  0.0  0.0  0.0  0.0  0.0  0.0\n",
       " 0.0  0.0  0.0  0.0  0.0  0.0  0.0  0.0  …  0.0  0.0  0.0  0.0  0.0  0.0  0.0\n",
       " 0.0  0.0  0.0  0.0  0.0  0.0  0.0  0.0     0.0  0.0  0.0  0.0  0.0  0.0  0.0\n",
       " 0.0  0.0  0.0  0.0  0.0  0.0  0.0  0.0     0.0  0.0  0.0  0.0  0.0  0.0  0.0\n",
       " ⋮                        ⋮              ⋱       ⋮                        ⋮  \n",
       " 0.0  0.0  0.0  0.0  0.0  0.0  0.0  0.0     0.0  0.0  0.0  0.0  0.0  0.0  0.0\n",
       " 0.0  0.0  0.0  0.0  0.0  0.0  0.0  0.0     0.0  0.0  0.0  0.0  0.0  0.0  0.0\n",
       " 0.0  0.0  0.0  0.0  0.0  0.0  0.0  0.0     1.0  0.0  0.0  0.0  0.0  0.0  0.0\n",
       " 0.0  0.0  0.0  0.0  0.0  0.0  0.0  0.0     0.0  0.0  0.0  0.0  0.0  0.0  0.0\n",
       " 0.0  0.0  0.0  0.0  0.0  0.0  0.0  0.0  …  0.0  0.0  0.0  0.0  0.0  0.0  0.0\n",
       " 0.0  0.0  0.0  0.0  0.0  0.0  0.0  0.0     0.0  0.0  0.0  0.0  0.0  0.0  0.0\n",
       " 0.0  0.0  0.0  0.0  0.0  0.0  0.0  0.0     0.0  0.0  0.0  0.0  0.0  0.0  0.0\n",
       " 0.0  0.0  0.0  0.0  0.0  0.0  0.0  0.0     0.0  0.0  0.0  0.0  0.0  0.0  0.0\n",
       " 0.0  0.0  0.0  0.0  0.0  0.0  0.0  0.0     0.0  0.0  0.0  0.0  0.0  0.0  0.0\n",
       " 0.0  0.0  0.0  0.0  0.0  0.0  0.0  0.0  …  0.0  0.0  0.0  0.0  0.0  0.0  0.0\n",
       " 0.0  0.0  0.0  0.0  0.0  0.0  0.0  0.0     0.0  0.0  0.0  0.0  0.0  0.0  0.0\n",
       " 0.0  1.0  0.0  1.0  0.0  0.0  1.0  0.0     0.0  0.0  0.0  0.0  0.0  0.0  0.0"
      ]
     },
     "execution_count": 5,
     "metadata": {},
     "output_type": "execute_result"
    }
   ],
   "source": [
    "function create_hap(x)\n",
    "    n, p = size(x)\n",
    "    h = one(eltype(x))\n",
    "    for j in 1:p, i in 1:n\n",
    "        if x[i, j] != 0\n",
    "            x[i, j] -= h\n",
    "        end\n",
    "    end\n",
    "    return copy(Transpose(x))\n",
    "end\n",
    "H = create_hap(rawdata[(people + 1):end, 1:(end - 1)])     "
   ]
  },
  {
   "cell_type": "markdown",
   "metadata": {},
   "source": [
    "## Phase + impute by moving window (using flanking windows)"
   ]
  },
  {
   "cell_type": "code",
   "execution_count": 6,
   "metadata": {
    "collapsed": false
   },
   "outputs": [
    {
     "data": {
      "text/plain": [
       "36498×664 Array{Union{Missing, Float32},2}:\n",
       " 0.0        missing  1.0       0.0       …  0.0       0.0       0.0  0.0     \n",
       " 0.0       0.0       0.0       0.0          0.0       0.0       0.0   missing\n",
       " 0.0       0.0       0.0       0.0           missing  0.0       0.0  0.0     \n",
       " 0.0       0.0       0.0       0.0          0.0       0.0       0.0  0.0     \n",
       "  missing  0.0       0.0       0.0          0.0       0.0       0.0  0.0     \n",
       " 0.0       0.0       0.0       0.0       …  0.0       0.0       0.0  0.0     \n",
       " 0.0       0.0       0.0       0.0          0.0       0.0       0.0   missing\n",
       " 0.0       0.0       0.0       0.0          0.0       0.0       0.0  0.0     \n",
       " 0.0       0.0       0.0       0.0          0.0       0.0       0.0  0.0     \n",
       " 0.0       0.0       0.0       0.0          0.0       0.0       0.0  0.0     \n",
       " 0.0       0.0       0.0       0.0       …  0.0       0.0       0.0  0.0     \n",
       " 0.0       0.0       0.0       0.0          0.0       0.0       0.0   missing\n",
       " 0.0       0.0       0.0       0.0          0.0       0.0       0.0  0.0     \n",
       " ⋮                                       ⋱  ⋮                                \n",
       " 0.0       0.0       0.0       0.0          0.0       0.0       0.0   missing\n",
       " 0.0        missing  0.0       0.0           missing  0.0       0.0   missing\n",
       " 0.0       0.0       0.0       0.0          1.0       1.0       0.0  1.0     \n",
       " 0.0        missing   missing  0.0          1.0        missing  1.0  0.0     \n",
       " 0.0       0.0       0.0       0.0       …  0.0       0.0       0.0  0.0     \n",
       " 0.0       0.0       0.0       0.0           missing  0.0       0.0  0.0     \n",
       " 0.0       0.0       0.0        missing     0.0       0.0       0.0  0.0     \n",
       " 0.0       0.0       0.0        missing     0.0       0.0       0.0  0.0     \n",
       "  missing  0.0       0.0       0.0          0.0       0.0       0.0  0.0     \n",
       " 0.0        missing  0.0       0.0       …  0.0       0.0       0.0  0.0     \n",
       " 0.0       0.0       0.0       0.0          0.0       0.0       0.0  0.0     \n",
       " 1.0       1.0       0.0       0.0          1.0       0.0       1.0  0.0     "
      ]
     },
     "execution_count": 6,
     "metadata": {},
     "output_type": "execute_result"
    }
   ],
   "source": [
    "Random.seed!(123)\n",
    "missingprop = 0.1\n",
    "p, n = size(X)\n",
    "X2 = Matrix{Union{Missing, eltype(X)}}(X)\n",
    "Xm = ifelse.(rand(eltype(X), p, n) .< missingprop, missing, X2)\n",
    "Xm_original = copy(Xm)"
   ]
  },
  {
   "cell_type": "code",
   "execution_count": null,
   "metadata": {
    "collapsed": false,
    "scrolled": false
   },
   "outputs": [
    {
     "name": "stdout",
     "output_type": "stream",
     "text": [
      "Imputing SNPs 1:400\n",
      "Imputing SNPs 401:800\n",
      "window length = 1200\n",
      "happair = (205, 205)\n",
      "bkpts = (-1, -1)\n",
      "Imputing SNPs 801:1200\n",
      "window length = 1200\n",
      "happair = (205, 205)\n",
      "bkpts = (-1, -1)\n",
      "Imputing SNPs 1201:1600\n",
      "window length = 1200\n",
      "happair = (205, 205)\n",
      "bkpts = (-1, -1)\n",
      "Imputing SNPs 1601:2000\n",
      "window length = 1200\n",
      "happair = (205, 205)\n",
      "bkpts = (-1, -1)\n",
      "Imputing SNPs 2001:2400\n",
      "window length = 1200\n",
      "happair = (205, 205)\n",
      "bkpts = (-1, -1)\n",
      "Imputing SNPs 2401:2800\n",
      "window length = 1200\n",
      "happair = (205, 205)\n",
      "bkpts = (-1, -1)\n",
      "Imputing SNPs 2801:3200\n",
      "window length = 1200\n"
     ]
    }
   ],
   "source": [
    "@time ph = phase(Xm, H, 400);"
   ]
  },
  {
   "cell_type": "code",
   "execution_count": 30,
   "metadata": {
    "collapsed": false
   },
   "outputs": [
    {
     "data": {
      "text/plain": [
       "MendelImpute.HaplotypeMosaicPair(MendelImpute.HaplotypeMosaic(36498, [1, 8401, 9201, 9601, 10801, 11601, 12001, 12401, 14801, 15201, 18401, 18801, 19201, 20801, 21201, 23201, 24001, 24401, 25601, 26001], [205, 24, 9, 128, 205, 2, 205, 194, 74, 194, 160, 286, 194, 136, 205, 49, 19, 137, 14, 205]), MendelImpute.HaplotypeMosaic(36498, [1, 3951, 4001, 5171, 4867, 5201, 6835, 6801, 8754, 8401  …  20801, 21201, 23201, 24001, 24401, 27601, 28001, 28401, 28801, 35601], [205, 264, 83, 379, 306, 236, 490, 205, 403, 51  …  190, 236, 235, 561, 236, 24, 376, 54, 236, 74]))"
      ]
     },
     "execution_count": 30,
     "metadata": {},
     "output_type": "execute_result"
    }
   ],
   "source": [
    "ph[1]"
   ]
  },
  {
   "cell_type": "code",
   "execution_count": 9,
   "metadata": {
    "collapsed": false
   },
   "outputs": [],
   "source": [
    "impute!(Xm, H, ph)"
   ]
  },
  {
   "cell_type": "markdown",
   "metadata": {},
   "source": [
    "# After imputation, the genotype matrix disagree with original one even on observed entries....?"
   ]
  },
  {
   "cell_type": "code",
   "execution_count": 14,
   "metadata": {
    "collapsed": false
   },
   "outputs": [
    {
     "data": {
      "text/plain": [
       "54272"
      ]
     },
     "execution_count": 14,
     "metadata": {},
     "output_type": "execute_result"
    }
   ],
   "source": [
    "diff = 0\n",
    "for j in 1:n, i in 1:p\n",
    "    if !ismissing(Xm_original[i, j]) && (X[i, j] != Xm[i, j])\n",
    "        diff += 1\n",
    "    end\n",
    "end\n",
    "diff"
   ]
  },
  {
   "cell_type": "code",
   "execution_count": 25,
   "metadata": {
    "collapsed": false
   },
   "outputs": [
    {
     "data": {
      "text/plain": [
       "0.0039437771631928974"
      ]
     },
     "execution_count": 25,
     "metadata": {},
     "output_type": "execute_result"
    }
   ],
   "source": [
    "missing_idx    = ismissing.(Xm_original)\n",
    "total_missing  = sum(missing_idx)\n",
    "missing_true   = round.(Int, X[missing_idx])  #true values of missing entries\n",
    "missing_impute = round.(Int, Xm[missing_idx]) #imputed values of missing entries\n",
    "error = sum(missing_true .!= missing_impute) / total_missing"
   ]
  },
  {
   "cell_type": "markdown",
   "metadata": {},
   "source": [
    "## Profiling"
   ]
  },
  {
   "cell_type": "code",
   "execution_count": null,
   "metadata": {
    "collapsed": false,
    "scrolled": true
   },
   "outputs": [
    {
     "name": "stdout",
     "output_type": "stream",
     "text": [
      "Imputing SNPs 1:400\n",
      "Imputing SNPs 401:800\n",
      "happair = (205, 205)\n",
      "bkpts = (-1, -1)\n",
      "Imputing SNPs 801:1200\n",
      "happair = (205, 205)\n",
      "bkpts = (-1, -1)\n",
      "Imputing SNPs 1201:1600\n",
      "happair = (205, 205)\n",
      "bkpts = (-1, -1)\n",
      "Imputing SNPs 1601:2000\n",
      "happair = (205, 205)\n",
      "bkpts = (-1, -1)\n",
      "Imputing SNPs 2001:2400\n",
      "happair = (205, 205)\n",
      "bkpts = (-1, -1)\n",
      "Imputing SNPs 2401:2800\n",
      "happair = (205, 205)\n",
      "bkpts = (-1, -1)\n",
      "Imputing SNPs 2801:3200\n",
      "happair = (205, 205)\n",
      "bkpts = (-1, -1)\n",
      "Imputing SNPs 3201:3600\n",
      "happair = (205, 205)\n",
      "bkpts = (-1, -1)\n",
      "Imputing SNPs 3601:4000\n",
      "happair = (205, 205)\n",
      "bkpts = (-1, -1)\n",
      "Imputing SNPs 4001:4400\n",
      "happair = (205, 264)\n",
      "bkpts = (-1, 350)\n",
      "Imputing SNPs 4401:4800\n",
      "happair = (205, 83)\n",
      "bkpts = (-1, 0)\n",
      "Imputing SNPs 4801:5200\n",
      "happair = (205, 120)\n",
      "bkpts = (-1, 770)\n",
      "Imputing SNPs 5201:5600\n",
      "happair = (205, 338)\n",
      "bkpts = (-1, 153)\n",
      "Imputing SNPs 5601:6000\n",
      "happair = (205, 236)\n",
      "bkpts = (-1, 0)\n",
      "Imputing SNPs 6001:6400\n",
      "happair = (205, 236)\n",
      "bkpts = (-1, -1)\n",
      "Imputing SNPs 6401:6800\n",
      "happair = (205, 515)\n",
      "bkpts = (-1, 788)\n",
      "Imputing SNPs 6801:7200\n",
      "happair = (205, 490)\n",
      "bkpts = (-1, 338)\n",
      "Imputing SNPs 7201:7600\n",
      "happair = (205, 205)\n",
      "bkpts = (-1, 0)\n",
      "Imputing SNPs 7601:8000\n",
      "happair = (205, 205)\n",
      "bkpts = (-1, -1)\n",
      "Imputing SNPs 8001:8400\n",
      "happair = (205, 205)\n",
      "bkpts = (-1, -1)\n",
      "Imputing SNPs 8401:8800\n",
      "happair = (205, 403)\n",
      "bkpts = (-1, 296)\n",
      "Imputing SNPs 8801:9200\n",
      "happair = (24, 51)\n",
      "bkpts = (0, 0)\n",
      "Imputing SNPs 9201:9600\n",
      "happair = (24, 180)\n",
      "bkpts = (-1, 0)\n",
      "Imputing SNPs 9601:10000\n",
      "happair = (9, 194)\n",
      "bkpts = (0, 0)\n",
      "Imputing SNPs 10001:10400\n",
      "happair = (128, 194)\n",
      "bkpts = (0, -1)\n",
      "Imputing SNPs 10401:10800\n",
      "happair = (128, 194)\n",
      "bkpts = (-1, -1)\n",
      "Imputing SNPs 10801:11200\n",
      "happair = (128, 194)\n",
      "bkpts = (-1, -1)\n",
      "Imputing SNPs 11201:11600\n",
      "happair = (205, 194)\n",
      "bkpts = (0, -1)\n",
      "Imputing SNPs 11601:12000\n",
      "happair = (205, 42)\n",
      "bkpts = (-1, 299)\n",
      "Imputing SNPs 12001:12400\n",
      "happair = (2, 137)\n",
      "bkpts = (0, 0)\n",
      "Imputing SNPs 12401:12800\n",
      "happair = (194, 236)\n",
      "bkpts = (0, 0)\n",
      "Imputing SNPs 12801:13200\n",
      "happair = (194, 236)\n",
      "bkpts = (-1, -1)\n",
      "Imputing SNPs 13201:13600\n",
      "happair = (194, 236)\n",
      "bkpts = (-1, -1)\n",
      "Imputing SNPs 13601:14000\n",
      "happair = (194, 236)\n",
      "bkpts = (-1, -1)\n",
      "Imputing SNPs 14001:14400\n",
      "happair = (194, 236)\n",
      "bkpts = (-1, -1)\n",
      "Imputing SNPs 14401:14800\n",
      "happair = (194, 236)\n",
      "bkpts = (-1, -1)\n",
      "Imputing SNPs 14801:15200\n",
      "happair = (194, 236)\n",
      "bkpts = (-1, -1)\n",
      "Imputing SNPs 15201:15600\n",
      "happair = (74, 236)\n",
      "bkpts = (0, -1)\n",
      "Imputing SNPs 15601:16000\n",
      "happair = (194, 236)\n",
      "bkpts = (0, -1)\n",
      "Imputing SNPs 16001:16400\n",
      "happair = (194, 236)\n",
      "bkpts = (-1, -1)\n",
      "Imputing SNPs 16401:16800\n",
      "happair = (194, 236)\n",
      "bkpts = (-1, -1)\n",
      "Imputing SNPs 16801:17200\n",
      "happair = (194, 236)\n",
      "bkpts = (-1, -1)\n",
      "Imputing SNPs 17201:17600\n",
      "happair = (194, 236)\n",
      "bkpts = (-1, -1)\n",
      "Imputing SNPs 17601:18000\n",
      "happair = (194, 236)\n",
      "bkpts = (-1, -1)\n",
      "Imputing SNPs 18001:18400\n",
      "happair = (194, 236)\n",
      "bkpts = (-1, -1)\n",
      "Imputing SNPs 18401:18800\n",
      "happair = (36, 205)\n",
      "bkpts = (0, 0)\n",
      "Imputing SNPs 18801:19200\n",
      "happair = (160, 205)\n",
      "bkpts = (0, -1)\n",
      "Imputing SNPs 19201:19600\n",
      "happair = (286, 205)\n",
      "bkpts = (0, -1)\n",
      "Imputing SNPs 19601:20000\n",
      "happair = (194, 205)\n",
      "bkpts = (0, -1)\n",
      "Imputing SNPs 20001:20400\n",
      "happair = (194, 205)\n",
      "bkpts = (-1, -1)\n",
      "Imputing SNPs 20401:20800\n",
      "happair = (194, 205)\n",
      "bkpts = (-1, -1)\n",
      "Imputing SNPs 20801:21200\n",
      "happair = (213, 205)\n",
      "bkpts = (781, -1)\n",
      "Imputing SNPs 21201:21600\n",
      "happair = (150, 190)\n",
      "bkpts = (0, 0)\n",
      "Imputing SNPs 21601:22000\n",
      "happair = (205, 236)\n",
      "bkpts = (0, 0)\n",
      "Imputing SNPs 22001:22400\n",
      "happair = (205, 236)\n",
      "bkpts = (-1, -1)\n",
      "Imputing SNPs 22401:22800\n",
      "happair = (205, 236)\n",
      "bkpts = (-1, -1)\n",
      "Imputing SNPs 22801:23200\n",
      "happair = (205, 236)\n",
      "bkpts = (-1, -1)\n",
      "Imputing SNPs 23201:23600\n",
      "happair = (205, 236)\n",
      "bkpts = (-1, -1)\n",
      "Imputing SNPs 23601:24000\n",
      "happair = (49, 235)\n",
      "bkpts = (0, 0)\n",
      "Imputing SNPs 24001:24400\n",
      "happair = (49, 235)\n",
      "bkpts = (-1, -1)\n",
      "Imputing SNPs 24401:24800\n",
      "happair = (49, 236)\n",
      "bkpts = (-1, 0)\n",
      "Imputing SNPs 24801:25200\n",
      "happair = (137, 236)\n",
      "bkpts = (0, -1)\n",
      "Imputing SNPs 25201:25600\n",
      "happair = (137, 236)\n",
      "bkpts = (-1, -1)\n",
      "Imputing SNPs 25601:26000\n",
      "happair = (137, 236)\n",
      "bkpts = (-1, -1)\n",
      "Imputing SNPs 26001:26400\n",
      "happair = (14, 236)\n",
      "bkpts = (0, -1)\n",
      "Imputing SNPs 26401:26800\n",
      "happair = (205, 236)\n",
      "bkpts = (0, -1)\n",
      "Imputing SNPs 26801:27200\n",
      "happair = (205, 236)\n",
      "bkpts = (-1, -1)\n",
      "Imputing SNPs 27201:27600\n",
      "happair = (205, 236)\n",
      "bkpts = (-1, -1)\n",
      "Imputing SNPs 27601:28000\n",
      "happair = (205, 236)\n",
      "bkpts = (-1, -1)\n",
      "Imputing SNPs 28001:28400\n",
      "happair = (205, 24)\n",
      "bkpts = (-1, 0)\n",
      "Imputing SNPs 28401:28800\n",
      "happair = (205, 7)\n",
      "bkpts = (-1, 0)\n",
      "Imputing SNPs 28801:29200\n",
      "happair = (205, 54)\n",
      "bkpts = (-1, 0)\n",
      "Imputing SNPs 29201:29600\n",
      "happair = (205, 236)\n",
      "bkpts = (-1, 0)\n",
      "Imputing SNPs 29601:30000\n",
      "happair = (205, 236)\n",
      "bkpts = (-1, -1)\n",
      "Imputing SNPs 30001:30400\n",
      "happair = (205, 236)\n",
      "bkpts = (-1, -1)\n",
      "Imputing SNPs 30401:30800\n",
      "happair = (205, 236)\n",
      "bkpts = (-1, -1)\n",
      "Imputing SNPs 30801:31200\n",
      "happair = (205, 236)\n",
      "bkpts = (-1, -1)\n",
      "Imputing SNPs 31201:31600\n",
      "happair = (205, 236)\n",
      "bkpts = (-1, -1)\n",
      "Imputing SNPs 31601:32000\n",
      "happair = (205, 236)\n",
      "bkpts = (-1, -1)\n",
      "Imputing SNPs 32001:32400\n",
      "happair = (205, 236)\n",
      "bkpts = (-1, -1)\n",
      "Imputing SNPs 32401:32800\n",
      "happair = (205, 236)\n",
      "bkpts = (-1, -1)\n",
      "Imputing SNPs 32801:33200\n",
      "happair = (205, 236)\n",
      "bkpts = (-1, -1)\n",
      "Imputing SNPs 33201:33600\n",
      "happair = (205, 236)\n",
      "bkpts = (-1, -1)\n",
      "Imputing SNPs 33601:34000\n",
      "happair = (205, 236)\n",
      "bkpts = (-1, -1)\n",
      "Imputing SNPs 34001:34400\n",
      "happair = (205, 236)\n",
      "bkpts = (-1, -1)\n",
      "Imputing SNPs 34401:34800\n",
      "happair = (205, 236)\n",
      "bkpts = (-1, -1)\n",
      "Imputing SNPs 34801:35200\n",
      "happair = (205, 236)\n",
      "bkpts = (-1, -1)\n",
      "Imputing SNPs 35201:35600\n",
      "happair = (205, 236)\n",
      "bkpts = (-1, -1)\n",
      "Imputing SNPs 35601:36000\n"
     ]
    }
   ],
   "source": [
    "Profile.clear()\n",
    "@profile phase(Xm, H, 400)\n",
    "Profile.print(format=:flat)"
   ]
  },
  {
   "cell_type": "markdown",
   "metadata": {},
   "source": [
    "## Effect of window size on accuracy and efficiency"
   ]
  },
  {
   "cell_type": "code",
   "execution_count": 15,
   "metadata": {
    "collapsed": false
   },
   "outputs": [
    {
     "name": "stdout",
     "output_type": "stream",
     "text": [
      "width = 100, time = 44.652082362, error rate = 0.009299016565174983\n",
      "width = 200, time = 23.251482066, error rate = 0.00504976976200836\n",
      "width = 300, time = 16.099439054, error rate = 0.0038203215701962953\n",
      "width = 400, time = 12.630925796, error rate = 0.0036607118921582983\n",
      "width = 500, time = 11.166686167, error rate = 0.0037988753085477786\n",
      "width = 600, time = 9.042634645, error rate = 0.004253783512361502\n",
      "width = 700, time = 8.137103798, error rate = 0.004584550855479004\n",
      "width = 800, time = 7.262145625, error rate = 0.005146690367535309\n",
      "width = 900, time = 6.735577601, error rate = 0.005656039081687573\n",
      "width = 1000, time = 6.250194499, error rate = 0.006445838909705052\n"
     ]
    }
   ],
   "source": [
    "width_range = 100:100:1000\n",
    "timing = zeros(length(width_range))\n",
    "errate = zeros(length(width_range))\n",
    "for i in eachindex(width_range)\n",
    "    tic()\n",
    "    copy!(Xm.values, rawdata[1:people, 1:(end - 1)]')\n",
    "    ph = phase(Xm, H, width_range[i], false)\n",
    "    impute!(Xm.values, H, ph)\n",
    "    timing[i] = toq()\n",
    "    missing_impute = round.(Int, Xm.values[Xm.isnull])\n",
    "    errate[i] = countnz(missing_true .≠ missing_impute) / length(missing_true)\n",
    "    println(\"width = $(width_range[i]), time = $(timing[i]), error rate = $(errate[i])\")\n",
    "end"
   ]
  },
  {
   "cell_type": "code",
   "execution_count": 16,
   "metadata": {
    "collapsed": false
   },
   "outputs": [
    {
     "data": {
      "text/html": [
       "<?xml version=\"1.0\" encoding=\"utf-8\"?>\n",
       "<svg xmlns=\"http://www.w3.org/2000/svg\" xmlns:xlink=\"http://www.w3.org/1999/xlink\" width=\"600\" height=\"400\" viewBox=\"0 0 600 400\">\n",
       "<defs>\n",
       "  <clipPath id=\"clip00\">\n",
       "    <rect x=\"0\" y=\"0\" width=\"600\" height=\"400\"/>\n",
       "  </clipPath>\n",
       "</defs>\n",
       "<polygon clip-path=\"url(#clip00)\" points=\"\n",
       "0,400 600,400 600,0 0,0 \n",
       "  \" fill=\"#ffffff\" fill-opacity=\"1\"/>\n",
       "<defs>\n",
       "  <clipPath id=\"clip01\">\n",
       "    <rect x=\"120\" y=\"0\" width=\"421\" height=\"400\"/>\n",
       "  </clipPath>\n",
       "</defs>\n",
       "<polygon clip-path=\"url(#clip00)\" points=\"\n",
       "39.3701,368.504 592.126,368.504 592.126,7.87402 39.3701,7.87402 \n",
       "  \" fill=\"#ffffff\" fill-opacity=\"1\"/>\n",
       "<defs>\n",
       "  <clipPath id=\"clip02\">\n",
       "    <rect x=\"39\" y=\"7\" width=\"554\" height=\"362\"/>\n",
       "  </clipPath>\n",
       "</defs>\n",
       "<polyline clip-path=\"url(#clip02)\" style=\"stroke:#000000; stroke-width:1; stroke-opacity:0.5; fill:none\" stroke-dasharray=\"1, 2\" points=\"\n",
       "  131.496,363.094 131.496,13.2835 \n",
       "  \"/>\n",
       "<polyline clip-path=\"url(#clip02)\" style=\"stroke:#000000; stroke-width:1; stroke-opacity:0.5; fill:none\" stroke-dasharray=\"1, 2\" points=\"\n",
       "  285.039,363.094 285.039,13.2835 \n",
       "  \"/>\n",
       "<polyline clip-path=\"url(#clip02)\" style=\"stroke:#000000; stroke-width:1; stroke-opacity:0.5; fill:none\" stroke-dasharray=\"1, 2\" points=\"\n",
       "  438.583,363.094 438.583,13.2835 \n",
       "  \"/>\n",
       "<polyline clip-path=\"url(#clip02)\" style=\"stroke:#000000; stroke-width:1; stroke-opacity:0.5; fill:none\" stroke-dasharray=\"1, 2\" points=\"\n",
       "  592.126,363.094 592.126,13.2835 \n",
       "  \"/>\n",
       "<polyline clip-path=\"url(#clip02)\" style=\"stroke:#000000; stroke-width:1; stroke-opacity:0.5; fill:none\" stroke-dasharray=\"1, 2\" points=\"\n",
       "  47.6614,333.29 583.835,333.29 \n",
       "  \"/>\n",
       "<polyline clip-path=\"url(#clip02)\" style=\"stroke:#000000; stroke-width:1; stroke-opacity:0.5; fill:none\" stroke-dasharray=\"1, 2\" points=\"\n",
       "  47.6614,239.38 583.835,239.38 \n",
       "  \"/>\n",
       "<polyline clip-path=\"url(#clip02)\" style=\"stroke:#000000; stroke-width:1; stroke-opacity:0.5; fill:none\" stroke-dasharray=\"1, 2\" points=\"\n",
       "  47.6614,145.471 583.835,145.471 \n",
       "  \"/>\n",
       "<polyline clip-path=\"url(#clip02)\" style=\"stroke:#000000; stroke-width:1; stroke-opacity:0.5; fill:none\" stroke-dasharray=\"1, 2\" points=\"\n",
       "  47.6614,51.5615 583.835,51.5615 \n",
       "  \"/>\n",
       "<polyline clip-path=\"url(#clip00)\" style=\"stroke:#000000; stroke-width:1; stroke-opacity:1; fill:none\" points=\"\n",
       "  39.3701,368.504 592.126,368.504 \n",
       "  \"/>\n",
       "<polyline clip-path=\"url(#clip00)\" style=\"stroke:#000000; stroke-width:1; stroke-opacity:1; fill:none\" points=\"\n",
       "  131.496,368.504 131.496,363.094 \n",
       "  \"/>\n",
       "<polyline clip-path=\"url(#clip00)\" style=\"stroke:#000000; stroke-width:1; stroke-opacity:1; fill:none\" points=\"\n",
       "  285.039,368.504 285.039,363.094 \n",
       "  \"/>\n",
       "<polyline clip-path=\"url(#clip00)\" style=\"stroke:#000000; stroke-width:1; stroke-opacity:1; fill:none\" points=\"\n",
       "  438.583,368.504 438.583,363.094 \n",
       "  \"/>\n",
       "<polyline clip-path=\"url(#clip00)\" style=\"stroke:#000000; stroke-width:1; stroke-opacity:1; fill:none\" points=\"\n",
       "  592.126,368.504 592.126,363.094 \n",
       "  \"/>\n",
       "<polyline clip-path=\"url(#clip00)\" style=\"stroke:#000000; stroke-width:1; stroke-opacity:1; fill:none\" points=\"\n",
       "  39.3701,368.504 39.3701,7.87402 \n",
       "  \"/>\n",
       "<polyline clip-path=\"url(#clip00)\" style=\"stroke:#000000; stroke-width:1; stroke-opacity:1; fill:none\" points=\"\n",
       "  39.3701,333.29 47.6614,333.29 \n",
       "  \"/>\n",
       "<polyline clip-path=\"url(#clip00)\" style=\"stroke:#000000; stroke-width:1; stroke-opacity:1; fill:none\" points=\"\n",
       "  39.3701,239.38 47.6614,239.38 \n",
       "  \"/>\n",
       "<polyline clip-path=\"url(#clip00)\" style=\"stroke:#000000; stroke-width:1; stroke-opacity:1; fill:none\" points=\"\n",
       "  39.3701,145.471 47.6614,145.471 \n",
       "  \"/>\n",
       "<polyline clip-path=\"url(#clip00)\" style=\"stroke:#000000; stroke-width:1; stroke-opacity:1; fill:none\" points=\"\n",
       "  39.3701,51.5615 47.6614,51.5615 \n",
       "  \"/>\n",
       "<g clip-path=\"url(#clip00)\">\n",
       "<text style=\"fill:#000000; fill-opacity:1; font-family:Arial,Helvetica Neue,Helvetica,sans-serif; font-size:12; text-anchor:middle;\" transform=\"rotate(0, 131.496, 382.304)\" x=\"131.496\" y=\"382.304\">250</text>\n",
       "</g>\n",
       "<g clip-path=\"url(#clip00)\">\n",
       "<text style=\"fill:#000000; fill-opacity:1; font-family:Arial,Helvetica Neue,Helvetica,sans-serif; font-size:12; text-anchor:middle;\" transform=\"rotate(0, 285.039, 382.304)\" x=\"285.039\" y=\"382.304\">500</text>\n",
       "</g>\n",
       "<g clip-path=\"url(#clip00)\">\n",
       "<text style=\"fill:#000000; fill-opacity:1; font-family:Arial,Helvetica Neue,Helvetica,sans-serif; font-size:12; text-anchor:middle;\" transform=\"rotate(0, 438.583, 382.304)\" x=\"438.583\" y=\"382.304\">750</text>\n",
       "</g>\n",
       "<g clip-path=\"url(#clip00)\">\n",
       "<text style=\"fill:#000000; fill-opacity:1; font-family:Arial,Helvetica Neue,Helvetica,sans-serif; font-size:12; text-anchor:middle;\" transform=\"rotate(0, 592.126, 382.304)\" x=\"592.126\" y=\"382.304\">1000</text>\n",
       "</g>\n",
       "<g clip-path=\"url(#clip00)\">\n",
       "<text style=\"fill:#000000; fill-opacity:1; font-family:Arial,Helvetica Neue,Helvetica,sans-serif; font-size:12; text-anchor:end;\" transform=\"rotate(0, 33.3701, 337.79)\" x=\"33.3701\" y=\"337.79\">10</text>\n",
       "</g>\n",
       "<g clip-path=\"url(#clip00)\">\n",
       "<text style=\"fill:#000000; fill-opacity:1; font-family:Arial,Helvetica Neue,Helvetica,sans-serif; font-size:12; text-anchor:end;\" transform=\"rotate(0, 33.3701, 243.88)\" x=\"33.3701\" y=\"243.88\">20</text>\n",
       "</g>\n",
       "<g clip-path=\"url(#clip00)\">\n",
       "<text style=\"fill:#000000; fill-opacity:1; font-family:Arial,Helvetica Neue,Helvetica,sans-serif; font-size:12; text-anchor:end;\" transform=\"rotate(0, 33.3701, 149.971)\" x=\"33.3701\" y=\"149.971\">30</text>\n",
       "</g>\n",
       "<g clip-path=\"url(#clip00)\">\n",
       "<text style=\"fill:#000000; fill-opacity:1; font-family:Arial,Helvetica Neue,Helvetica,sans-serif; font-size:12; text-anchor:end;\" transform=\"rotate(0, 33.3701, 56.0615)\" x=\"33.3701\" y=\"56.0615\">40</text>\n",
       "</g>\n",
       "<g clip-path=\"url(#clip00)\">\n",
       "<text style=\"fill:#000000; fill-opacity:1; font-family:Arial,Helvetica Neue,Helvetica,sans-serif; font-size:16; text-anchor:middle;\" transform=\"rotate(0, 315.748, 397.6)\" x=\"315.748\" y=\"397.6\">Window width</text>\n",
       "</g>\n",
       "<g clip-path=\"url(#clip00)\">\n",
       "<text style=\"fill:#000000; fill-opacity:1; font-family:Arial,Helvetica Neue,Helvetica,sans-serif; font-size:16; text-anchor:middle;\" transform=\"rotate(-90, 14.4, 188.189)\" x=\"14.4\" y=\"188.189\">Run time in seconds</text>\n",
       "</g>\n",
       "<polyline clip-path=\"url(#clip02)\" style=\"stroke:#009af9; stroke-width:1; stroke-opacity:1; fill:none\" points=\"\n",
       "  39.3701,7.87402 100.787,208.846 162.205,276.01 223.622,308.583 285.039,322.333 346.457,342.28 407.874,350.784 469.291,359.001 530.709,363.946 592.126,368.504 \n",
       "  \n",
       "  \"/>\n",
       "</svg>\n"
      ]
     },
     "execution_count": 16,
     "metadata": {},
     "output_type": "execute_result"
    }
   ],
   "source": [
    "using Plots\n",
    "gr()\n",
    "\n",
    "plot(width_range, timing; xlabel = \"Window width\", \n",
    "    ylabel = \"Run time in seconds\", leg = false)"
   ]
  },
  {
   "cell_type": "code",
   "execution_count": 17,
   "metadata": {
    "collapsed": false
   },
   "outputs": [
    {
     "data": {
      "text/html": [
       "<?xml version=\"1.0\" encoding=\"utf-8\"?>\n",
       "<svg xmlns=\"http://www.w3.org/2000/svg\" xmlns:xlink=\"http://www.w3.org/1999/xlink\" width=\"600\" height=\"400\" viewBox=\"0 0 600 400\">\n",
       "<defs>\n",
       "  <clipPath id=\"clip00\">\n",
       "    <rect x=\"0\" y=\"0\" width=\"600\" height=\"400\"/>\n",
       "  </clipPath>\n",
       "</defs>\n",
       "<polygon clip-path=\"url(#clip00)\" points=\"\n",
       "0,400 600,400 600,0 0,0 \n",
       "  \" fill=\"#ffffff\" fill-opacity=\"1\"/>\n",
       "<defs>\n",
       "  <clipPath id=\"clip01\">\n",
       "    <rect x=\"120\" y=\"0\" width=\"421\" height=\"400\"/>\n",
       "  </clipPath>\n",
       "</defs>\n",
       "<polygon clip-path=\"url(#clip00)\" points=\"\n",
       "39.3701,368.504 592.126,368.504 592.126,7.87402 39.3701,7.87402 \n",
       "  \" fill=\"#ffffff\" fill-opacity=\"1\"/>\n",
       "<defs>\n",
       "  <clipPath id=\"clip02\">\n",
       "    <rect x=\"39\" y=\"7\" width=\"554\" height=\"362\"/>\n",
       "  </clipPath>\n",
       "</defs>\n",
       "<polyline clip-path=\"url(#clip02)\" style=\"stroke:#000000; stroke-width:1; stroke-opacity:0.5; fill:none\" stroke-dasharray=\"1, 2\" points=\"\n",
       "  131.496,363.094 131.496,13.2835 \n",
       "  \"/>\n",
       "<polyline clip-path=\"url(#clip02)\" style=\"stroke:#000000; stroke-width:1; stroke-opacity:0.5; fill:none\" stroke-dasharray=\"1, 2\" points=\"\n",
       "  285.039,363.094 285.039,13.2835 \n",
       "  \"/>\n",
       "<polyline clip-path=\"url(#clip02)\" style=\"stroke:#000000; stroke-width:1; stroke-opacity:0.5; fill:none\" stroke-dasharray=\"1, 2\" points=\"\n",
       "  438.583,363.094 438.583,13.2835 \n",
       "  \"/>\n",
       "<polyline clip-path=\"url(#clip02)\" style=\"stroke:#000000; stroke-width:1; stroke-opacity:0.5; fill:none\" stroke-dasharray=\"1, 2\" points=\"\n",
       "  592.126,363.094 592.126,13.2835 \n",
       "  \"/>\n",
       "<polyline clip-path=\"url(#clip02)\" style=\"stroke:#000000; stroke-width:1; stroke-opacity:0.5; fill:none\" stroke-dasharray=\"1, 2\" points=\"\n",
       "  47.6614,282.842 583.835,282.842 \n",
       "  \"/>\n",
       "<polyline clip-path=\"url(#clip02)\" style=\"stroke:#000000; stroke-width:1; stroke-opacity:0.5; fill:none\" stroke-dasharray=\"1, 2\" points=\"\n",
       "  47.6614,122.94 583.835,122.94 \n",
       "  \"/>\n",
       "<polyline clip-path=\"url(#clip00)\" style=\"stroke:#000000; stroke-width:1; stroke-opacity:1; fill:none\" points=\"\n",
       "  39.3701,368.504 592.126,368.504 \n",
       "  \"/>\n",
       "<polyline clip-path=\"url(#clip00)\" style=\"stroke:#000000; stroke-width:1; stroke-opacity:1; fill:none\" points=\"\n",
       "  131.496,368.504 131.496,363.094 \n",
       "  \"/>\n",
       "<polyline clip-path=\"url(#clip00)\" style=\"stroke:#000000; stroke-width:1; stroke-opacity:1; fill:none\" points=\"\n",
       "  285.039,368.504 285.039,363.094 \n",
       "  \"/>\n",
       "<polyline clip-path=\"url(#clip00)\" style=\"stroke:#000000; stroke-width:1; stroke-opacity:1; fill:none\" points=\"\n",
       "  438.583,368.504 438.583,363.094 \n",
       "  \"/>\n",
       "<polyline clip-path=\"url(#clip00)\" style=\"stroke:#000000; stroke-width:1; stroke-opacity:1; fill:none\" points=\"\n",
       "  592.126,368.504 592.126,363.094 \n",
       "  \"/>\n",
       "<polyline clip-path=\"url(#clip00)\" style=\"stroke:#000000; stroke-width:1; stroke-opacity:1; fill:none\" points=\"\n",
       "  39.3701,368.504 39.3701,7.87402 \n",
       "  \"/>\n",
       "<polyline clip-path=\"url(#clip00)\" style=\"stroke:#000000; stroke-width:1; stroke-opacity:1; fill:none\" points=\"\n",
       "  39.3701,282.842 47.6614,282.842 \n",
       "  \"/>\n",
       "<polyline clip-path=\"url(#clip00)\" style=\"stroke:#000000; stroke-width:1; stroke-opacity:1; fill:none\" points=\"\n",
       "  39.3701,122.94 47.6614,122.94 \n",
       "  \"/>\n",
       "<g clip-path=\"url(#clip00)\">\n",
       "<text style=\"fill:#000000; fill-opacity:1; font-family:Arial,Helvetica Neue,Helvetica,sans-serif; font-size:12; text-anchor:middle;\" transform=\"rotate(0, 131.496, 382.304)\" x=\"131.496\" y=\"382.304\">250</text>\n",
       "</g>\n",
       "<g clip-path=\"url(#clip00)\">\n",
       "<text style=\"fill:#000000; fill-opacity:1; font-family:Arial,Helvetica Neue,Helvetica,sans-serif; font-size:12; text-anchor:middle;\" transform=\"rotate(0, 285.039, 382.304)\" x=\"285.039\" y=\"382.304\">500</text>\n",
       "</g>\n",
       "<g clip-path=\"url(#clip00)\">\n",
       "<text style=\"fill:#000000; fill-opacity:1; font-family:Arial,Helvetica Neue,Helvetica,sans-serif; font-size:12; text-anchor:middle;\" transform=\"rotate(0, 438.583, 382.304)\" x=\"438.583\" y=\"382.304\">750</text>\n",
       "</g>\n",
       "<g clip-path=\"url(#clip00)\">\n",
       "<text style=\"fill:#000000; fill-opacity:1; font-family:Arial,Helvetica Neue,Helvetica,sans-serif; font-size:12; text-anchor:middle;\" transform=\"rotate(0, 592.126, 382.304)\" x=\"592.126\" y=\"382.304\">1000</text>\n",
       "</g>\n",
       "<g clip-path=\"url(#clip00)\">\n",
       "<text style=\"fill:#000000; fill-opacity:1; font-family:Arial,Helvetica Neue,Helvetica,sans-serif; font-size:12; text-anchor:end;\" transform=\"rotate(0, 33.3701, 287.342)\" x=\"33.3701\" y=\"287.342\">0.0050</text>\n",
       "</g>\n",
       "<g clip-path=\"url(#clip00)\">\n",
       "<text style=\"fill:#000000; fill-opacity:1; font-family:Arial,Helvetica Neue,Helvetica,sans-serif; font-size:12; text-anchor:end;\" transform=\"rotate(0, 33.3701, 127.44)\" x=\"33.3701\" y=\"127.44\">0.0075</text>\n",
       "</g>\n",
       "<g clip-path=\"url(#clip00)\">\n",
       "<text style=\"fill:#000000; fill-opacity:1; font-family:Arial,Helvetica Neue,Helvetica,sans-serif; font-size:16; text-anchor:middle;\" transform=\"rotate(0, 315.748, 397.6)\" x=\"315.748\" y=\"397.6\">Window width</text>\n",
       "</g>\n",
       "<g clip-path=\"url(#clip00)\">\n",
       "<text style=\"fill:#000000; fill-opacity:1; font-family:Arial,Helvetica Neue,Helvetica,sans-serif; font-size:16; text-anchor:middle;\" transform=\"rotate(-90, 14.4, 188.189)\" x=\"14.4\" y=\"188.189\">Error rate</text>\n",
       "</g>\n",
       "<polyline clip-path=\"url(#clip02)\" style=\"stroke:#009af9; stroke-width:1; stroke-opacity:1; fill:none\" points=\"\n",
       "  39.3701,7.87402 100.787,279.659 162.205,358.295 223.622,368.504 285.039,359.667 346.457,330.571 407.874,309.415 469.291,273.46 530.709,240.881 592.126,190.365 \n",
       "  \n",
       "  \"/>\n",
       "</svg>\n"
      ]
     },
     "execution_count": 17,
     "metadata": {},
     "output_type": "execute_result"
    }
   ],
   "source": [
    "plot(width_range, errate; xlabel = \"Window width\", \n",
    "    ylabel = \"Error rate\", leg = false)"
   ]
  },
  {
   "cell_type": "code",
   "execution_count": null,
   "metadata": {
    "collapsed": true
   },
   "outputs": [],
   "source": []
  }
 ],
 "metadata": {
  "@webio": {
   "lastCommId": null,
   "lastKernelId": null
  },
  "anaconda-cloud": {},
  "kernelspec": {
   "display_name": "Julia 1.0.3",
   "language": "julia",
   "name": "julia-1.0"
  },
  "language_info": {
   "file_extension": ".jl",
   "mimetype": "application/julia",
   "name": "julia",
   "version": "1.0.3"
  },
  "toc": {
   "colors": {
    "hover_highlight": "#DAA520",
    "running_highlight": "#FF0000",
    "selected_highlight": "#FFD700"
   },
   "moveMenuLeft": true,
   "nav_menu": {
    "height": "118px",
    "width": "252px"
   },
   "navigate_menu": true,
   "number_sections": true,
   "sideBar": true,
   "threshold": 4,
   "toc_cell": false,
   "toc_section_display": "block",
   "toc_window_display": false,
   "widenNotebook": false
  }
 },
 "nbformat": 4,
 "nbformat_minor": 2
}
