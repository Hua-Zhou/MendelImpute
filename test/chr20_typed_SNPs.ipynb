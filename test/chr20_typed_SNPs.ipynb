{
 "cells": [
  {
   "cell_type": "markdown",
   "metadata": {},
   "source": [
    "# Find which SNPs in reference panels are on GWAS chip\n",
    "\n",
    "One of the reviewers' main comment is we should use real SNPs in our simulations. Thus, let's try to see if SNPs on the UK biobank is also on the HRC/1000-genomes reference panel. "
   ]
  },
  {
   "cell_type": "code",
   "execution_count": 6,
   "metadata": {
    "collapsed": false
   },
   "outputs": [
    {
     "data": {
      "text/plain": [
       "8"
      ]
     },
     "execution_count": 6,
     "metadata": {},
     "output_type": "execute_result"
    }
   ],
   "source": [
    "using Revise\n",
    "using VCFTools\n",
    "using SnpArrays\n",
    "using MendelImpute\n",
    "using Random\n",
    "using StatsBase\n",
    "using CodecZlib\n",
    "using ProgressMeter\n",
    "using JLSO\n",
    "using BenchmarkTools\n",
    "using GroupSlices\n",
    "using LinearAlgebra\n",
    "using Plots\n",
    "# using ProfileView\n",
    "\n",
    "BLAS.set_num_threads(1)\n",
    "Threads.nthreads()"
   ]
  },
  {
   "cell_type": "markdown",
   "metadata": {},
   "source": [
    "### UK Biobank SNPs"
   ]
  },
  {
   "cell_type": "code",
   "execution_count": 7,
   "metadata": {
    "collapsed": false
   },
   "outputs": [
    {
     "name": "stdout",
     "output_type": "stream",
     "text": [
      "ukbb.snps = 470228\n",
      "length(chrom_10_snpids) = 23580\n",
      "length(chrom_20_snpids) = 12545\n"
     ]
    }
   ],
   "source": [
    "ukbb = SnpData(\"/Users/biona001/.julia/dev/MendelImpute/data/ukbb/ukb.plink.filtered\")\n",
    "chrom_10_snpids = ukbb.snp_info[findall(x -> x == \"10\", ukbb.snp_info[!, :chromosome]), :snpid]\n",
    "chrom_20_snpids = ukbb.snp_info[findall(x -> x == \"20\", ukbb.snp_info[!, :chromosome]), :snpid]\n",
    "\n",
    "@show ukbb.snps\n",
    "@show length(chrom_10_snpids)\n",
    "@show length(chrom_20_snpids);"
   ]
  },
  {
   "cell_type": "markdown",
   "metadata": {},
   "source": [
    "### 1000 genomes SNPs"
   ]
  },
  {
   "cell_type": "code",
   "execution_count": 8,
   "metadata": {
    "collapsed": false
   },
   "outputs": [
    {
     "name": "stderr",
     "output_type": "stream",
     "text": [
      "\u001b[32mimporting100%|██████████████████████████████████████████| Time: 0:05:00\u001b[39m\n"
     ]
    },
    {
     "data": {
      "text/plain": [
       "(Union{Missing, Float32}[0.0f0 0.0f0 … 0.0f0 0.0f0; 0.0f0 0.0f0 … 0.0f0 0.0f0; … ; 0.0f0 0.0f0 … 0.0f0 0.0f0; 0.0f0 0.0f0 … 0.0f0 0.0f0], [\"HG00096\", \"HG00097\", \"HG00099\", \"HG00100\", \"HG00101\", \"HG00102\", \"HG00103\", \"HG00105\", \"HG00106\", \"HG00107\"  …  \"NA21128\", \"NA21129\", \"NA21130\", \"NA21133\", \"NA21135\", \"NA21137\", \"NA21141\", \"NA21142\", \"NA21143\", \"NA21144\"], [\"20\", \"20\", \"20\", \"20\", \"20\", \"20\", \"20\", \"20\", \"20\", \"20\"  …  \"20\", \"20\", \"20\", \"20\", \"20\", \"20\", \"20\", \"20\", \"20\", \"20\"], [60479, 60522, 60571, 60828, 61098, 61138, 61270, 61279, 61388, 61651  …  62963996, 62964034, 62964109, 62964123, 62964448, 62964720, 62964968, 62964974, 62965015, 62965167], [[\"rs149529999\"], [\"rs150241001\"], [\"rs116145529\"], [\"rs187713677\"], [\"rs6078030\"], [\"rs552482647\"], [\"rs143291093\"], [\"rs189899941\"], [\"rs146681064\"], [\"rs76553454\"]  …  [\"rs149890816\"], [\"rs181883287\"], [\"rs541241205\"], [\"rs561035577\"], [\"rs151201761\"], [\"rs374676786\"], [\"rs557629530\"], [\"rs138685577\"], [\"rs149382639\"], [\"rs564138512\"]], [\"C\", \"T\", \"C\", \"T\", \"C\", \"C\", \"A\", \"C\", \"T\", \"C\"  …  \"A\", \"G\", \"A\", \"A\", \"G\", \"G\", \"G\", \"G\", \"T\", \"A\"], [[\"T\"], [\"TC\"], [\"A\"], [\"G\"], [\"T\"], [\"CT\"], [\"C\"], [\"T\"], [\"C\"], [\"A\"]  …  [\"G\"], [\"T\"], [\"C\"], [\"T\"], [\"T\"], [\"A\"], [\"A\"], [\"A\"], [\"C\"], [\"AT\"]])"
      ]
     },
     "execution_count": 8,
     "metadata": {},
     "output_type": "execute_result"
    }
   ],
   "source": [
    "# SNP IDs are in record_ids\n",
    "geno, sampleID, record_chr, record_pos, record_ids, record_ref, record_alt = convert_gt(Float32, \n",
    "    \"/Users/biona001/.julia/dev/MendelImpute/data/1000_genome_phase3_v5/filtered/chr20.uniqueSNPs.vcf.gz\",\n",
    "    save_snp_info=true, msg=\"importing\")"
   ]
  },
  {
   "cell_type": "code",
   "execution_count": 9,
   "metadata": {
    "collapsed": false
   },
   "outputs": [
    {
     "data": {
      "text/plain": [
       "12409"
      ]
     },
     "execution_count": 9,
     "metadata": {},
     "output_type": "execute_result"
    }
   ],
   "source": [
    "thousand_genome_snps = vcat(record_ids...)\n",
    "idx = indexin(thousand_genome_snps, chrom_20_snpids)\n",
    "count(!isnothing, idx)"
   ]
  },
  {
   "cell_type": "code",
   "execution_count": 20,
   "metadata": {
    "collapsed": false
   },
   "outputs": [
    {
     "data": {
      "text/plain": [
       "1946"
      ]
     },
     "execution_count": 20,
     "metadata": {},
     "output_type": "execute_result"
    }
   ],
   "source": [
    "# largest interval without typed SNPs\n",
    "maximum(diff(findall(!isnothing, idx)))"
   ]
  },
  {
   "cell_type": "markdown",
   "metadata": {},
   "source": [
    "**Conclusion:** UK Biobank has 12545 SNPs on chromosome 20, where 12409 SNPs are present in the 1000 genomes. "
   ]
  },
  {
   "cell_type": "markdown",
   "metadata": {},
   "source": [
    "### HRC"
   ]
  },
  {
   "cell_type": "code",
   "execution_count": 86,
   "metadata": {
    "collapsed": false
   },
   "outputs": [
    {
     "name": "stdout",
     "output_type": "stream",
     "text": [
      "ukbb.snps = 470228\n",
      "length(chrom_10_snpids) = 23580\n",
      "length(chrom_20_snpids) = 12545\n"
     ]
    }
   ],
   "source": [
    "ukbb = SnpData(\"/Users/biona001/.julia/dev/MendelImpute/data/ukbb/ukb.plink.filtered\")\n",
    "chrom_10_snpids = ukbb.snp_info[findall(x -> x == \"10\", ukbb.snp_info[!, :chromosome]), :snpid]\n",
    "chrom_20_snpids = ukbb.snp_info[findall(x -> x == \"20\", ukbb.snp_info[!, :chromosome]), :snpid]\n",
    "\n",
    "@show ukbb.snps\n",
    "@show length(chrom_10_snpids)\n",
    "@show length(chrom_20_snpids);"
   ]
  },
  {
   "cell_type": "code",
   "execution_count": 87,
   "metadata": {
    "collapsed": false
   },
   "outputs": [
    {
     "name": "stderr",
     "output_type": "stream",
     "text": [
      "\u001b[32mimporting100%|██████████████████████████████████████████| Time: 0:03:26\u001b[39m\n"
     ]
    },
    {
     "data": {
      "text/plain": [
       "(Union{Missing, Float32}[0.0f0 0.0f0 … 0.0f0 1.0f0; 0.0f0 0.0f0 … 0.0f0 1.0f0; … ; 0.0f0 0.0f0 … 0.0f0 1.0f0; 0.0f0 0.0f0 … 0.0f0 1.0f0], [\"HG00127\", \"HG00131\", \"HG00267\", \"HG00328\", \"HG00338\", \"HG00345\", \"HG00583\", \"HG00599\", \"HG00640\", \"HG00734\"  …  \"EGAN00001013930\", \"EGAN00001013948\", \"EGAN00001013966\", \"EGAN00001013968\", \"EGAN00001099011\", \"EGAN00001099018\", \"EGAN00001029292\", \"EGAN00001029355\", \"EGAN00001029282\", \"EGAN00001375749\"], [\"20\", \"20\", \"20\", \"20\", \"20\", \"20\", \"20\", \"20\", \"20\", \"20\"  …  \"20\", \"20\", \"20\", \"20\", \"20\", \"20\", \"20\", \"20\", \"20\", \"20\"], [60309, 60479, 60571, 60828, 61044, 61098, 61154, 61209, 61210, 61279  …  62963996, 62964123, 62964393, 62964448, 62964497, 62964720, 62964968, 62964974, 62965015, 62965185], [[\"rs574852966\"], [\"rs149529999\"], [\"rs116145529\"], [\"rs187713677\"], [\"rs535668403\"], [\"rs6078030\"], [\".\"], [\".\"], [\".\"], [\"rs189899941\"]  …  [\"rs149890816\"], [\"rs561035577\"], [\".\"], [\"rs151201761\"], [\".\"], [\"rs374676786\"], [\"rs557629530\"], [\"rs138685577\"], [\"rs149382639\"], [\"rs2209071\"]], [\"G\", \"C\", \"C\", \"T\", \"C\", \"C\", \"C\", \"C\", \"C\", \"C\"  …  \"A\", \"A\", \"G\", \"G\", \"G\", \"G\", \"G\", \"G\", \"T\", \"C\"], [[\"T\"], [\"T\"], [\"A\"], [\"G\"], [\"A\"], [\"T\"], [\"T\"], [\"G\"], [\"A\"], [\"T\"]  …  [\"G\"], [\"T\"], [\"A\"], [\"T\"], [\"A\"], [\"A\"], [\"A\"], [\"A\"], [\"C\"], [\"A\"]])"
      ]
     },
     "execution_count": 87,
     "metadata": {},
     "output_type": "execute_result"
    }
   ],
   "source": [
    "# SNP IDs are in record_ids\n",
    "geno, sampleID, record_chr, record_pos, record_ids, record_ref, record_alt = convert_gt(Float32, \n",
    "    \"/Users/biona001/.julia/dev/MendelImpute/data/HRC/target.chr20.full.vcf.gz\",\n",
    "    save_snp_info=true, msg=\"importing\")"
   ]
  },
  {
   "cell_type": "code",
   "execution_count": 88,
   "metadata": {
    "collapsed": false
   },
   "outputs": [
    {
     "data": {
      "text/plain": [
       "12354"
      ]
     },
     "execution_count": 88,
     "metadata": {},
     "output_type": "execute_result"
    }
   ],
   "source": [
    "HRC_snps = vcat(record_ids...)\n",
    "idx = indexin(HRC_snps, chrom_20_snpids)\n",
    "count(!isnothing, idx)"
   ]
  },
  {
   "cell_type": "code",
   "execution_count": 89,
   "metadata": {
    "collapsed": false
   },
   "outputs": [
    {
     "data": {
      "text/plain": [
       "2689"
      ]
     },
     "execution_count": 89,
     "metadata": {},
     "output_type": "execute_result"
    }
   ],
   "source": [
    "# largest interval without typed SNPs\n",
    "maximum(diff(findall(!isnothing, idx)))"
   ]
  },
  {
   "cell_type": "markdown",
   "metadata": {},
   "source": [
    "**Conclusion**: UK Biobank has 12545 SNPs on chromosome 20, where 12354 SNPs are present in the HRC reference panel."
   ]
  },
  {
   "cell_type": "markdown",
   "metadata": {},
   "source": [
    "# 1000 genomes experiment"
   ]
  },
  {
   "cell_type": "code",
   "execution_count": 79,
   "metadata": {
    "collapsed": false
   },
   "outputs": [
    {
     "name": "stderr",
     "output_type": "stream",
     "text": [
      "\u001b[32mimporting100%|██████████████████████████████████████████| Time: 0:05:12\u001b[39m\n",
      "\u001b[32mfiltering vcf file...100%|██████████████████████████████| Time: 0:09:27\u001b[39m\n",
      "\u001b[32mfiltering vcf file...100%|██████████████████████████████| Time: 0:23:59\u001b[39m\n",
      "\u001b[32mfiltering vcf file...100%|██████████████████████████████| Time: 0:09:57\u001b[39m\n"
     ]
    },
    {
     "name": "stdout",
     "output_type": "stream",
     "text": [
      "2970.249967 seconds (23.56 G allocations: 2.102 TiB, 17.23% gc time)\n"
     ]
    }
   ],
   "source": [
    "cd(\"/Users/biona001/.julia/dev/MendelImpute/data/1000_genome_phase3_v5/filtered\")\n",
    "function filter_and_mask()\n",
    "    for chr in [20]\n",
    "        # filter chromosome data for unique snps\n",
    "#         data = \"../beagle_raw/chr$chr.1kg.phase3.v5a.vcf.gz\"\n",
    "#         full_record_index = .!find_duplicate_marker(data)\n",
    "#         VCFTools.filter(data, full_record_index, 1:nsamples(data), \n",
    "#             des = \"chr$chr.uniqueSNPs.vcf.gz\", allow_multiallelic=false)\n",
    "\n",
    "        # import VCF data with only unique SNPs\n",
    "        _, vcf_sampleID, _, _, vcf_record_ids, _, _ = convert_gt(Float32, \n",
    "            \"chr$chr.uniqueSNPs.vcf.gz\", save_snp_info=true, msg=\"importing\")\n",
    "        total_snps = length(vcf_record_ids)\n",
    "        samples = length(vcf_sampleID)\n",
    "\n",
    "        # generate target panel with all snps\n",
    "        n = 100\n",
    "        sample_idx = falses(samples)\n",
    "        sample_idx[1:n] .= true\n",
    "        shuffle!(sample_idx)\n",
    "        VCFTools.filter(\"chr$chr.uniqueSNPs.vcf.gz\", 1:total_snps, \n",
    "            sample_idx, des = \"target.chr$chr.full.vcf.gz\", allow_multiallelic=false)\n",
    "\n",
    "        # generate reference panel without target samples\n",
    "        VCFTools.filter(\"chr$chr.uniqueSNPs.vcf.gz\", 1:total_snps, \n",
    "            .!sample_idx, des = \"ref.chr$chr.excludeTarget.vcf.gz\", allow_multiallelic=false)\n",
    "        \n",
    "        # generate target file with 100 samples whose snps are in the UK Biobank\n",
    "        ukbb = SnpData(\"/Users/biona001/.julia/dev/MendelImpute/data/ukbb/ukb.plink.filtered\")\n",
    "        ukbb_snpids = ukbb.snp_info[findall(x -> x == string(chr), ukbb.snp_info[!, :chromosome]), :snpid]\n",
    "        match_idx = indexin(vcat(vcf_record_ids...), ukbb_snpids)\n",
    "        record_idx = falses(total_snps)\n",
    "        record_idx[findall(!isnothing, match_idx)] .= true\n",
    "        VCFTools.filter(\"chr$chr.uniqueSNPs.vcf.gz\", record_idx, sample_idx, \n",
    "            des = \"target.chr$chr.typedOnly.vcf.gz\", allow_multiallelic=false)\n",
    "\n",
    "        # unphase and mask 1% entries in target file\n",
    "        p = nrecords(\"target.chr$chr.typedOnly.vcf.gz\")\n",
    "        masks = falses(p, n)\n",
    "        missingprop = 0.001\n",
    "        for j in 1:n, i in 1:p\n",
    "            rand() < missingprop && (masks[i, j] = true)\n",
    "        end\n",
    "        mask_gt(\"target.chr$chr.typedOnly.vcf.gz\", masks, \n",
    "            des=\"target.chr$chr.typedOnly.masked.vcf.gz\", unphase=true)\n",
    "    end \n",
    "end\n",
    "Random.seed!(2020)\n",
    "@time filter_and_mask()"
   ]
  },
  {
   "cell_type": "markdown",
   "metadata": {},
   "source": [
    "## MendelImpute on simulated data"
   ]
  },
  {
   "cell_type": "code",
   "execution_count": 80,
   "metadata": {
    "collapsed": false
   },
   "outputs": [
    {
     "name": "stderr",
     "output_type": "stream",
     "text": [
      "\u001b[32mimporting reference data...100%|████████████████████████| Time: 0:05:07\u001b[39m\n"
     ]
    },
    {
     "name": "stdout",
     "output_type": "stream",
     "text": [
      "443.177396 seconds (3.27 G allocations: 263.229 GiB, 28.87% gc time)\n"
     ]
    }
   ],
   "source": [
    "cd(\"/Users/biona001/.julia/dev/MendelImpute/data/1000_genome_phase3_v5/filtered\")\n",
    "\n",
    "# compress reference haplotypes from .vcf.gz to .jlso format\n",
    "reffile = \"ref.chr20.excludeTarget.vcf.gz\"\n",
    "tgtfile = \"target.chr20.typedOnly.masked.vcf.gz\"\n",
    "outfile = \"ref.chr20.excludeTarget.jlso\"\n",
    "@time compress_haplotypes(reffile, tgtfile, outfile);"
   ]
  },
  {
   "cell_type": "code",
   "execution_count": 82,
   "metadata": {
    "collapsed": false
   },
   "outputs": [
    {
     "name": "stdout",
     "output_type": "stream",
     "text": [
      "Number of threads = 1\n",
      "Importing reference haplotype data...\n"
     ]
    },
    {
     "name": "stderr",
     "output_type": "stream",
     "text": [
      "\u001b[32mWriting to file...100%|█████████████████████████████████| Time: 0:00:05\u001b[39m\n"
     ]
    },
    {
     "name": "stdout",
     "output_type": "stream",
     "text": [
      "Total windows = 546, averaging ~ 449 unique haplotypes per window.\n",
      "\n",
      "Timings: \n",
      "    Data import                     = 10.6097 seconds\n",
      "        import target data             = 0.161234 seconds\n",
      "        import compressed haplotypes   = 10.4485 seconds\n",
      "    Computing haplotype pair        = 4.17583 seconds\n",
      "        BLAS3 mul! to get M and N      = 0.207207 seconds per thread\n",
      "        haplopair search               = 3.93168 seconds per thread\n",
      "        initializing missing           = 0.0108198 seconds per thread\n",
      "        allocating and viewing         = 0.0241775 seconds per thread\n",
      "        index conversion               = 0.000849231 seconds per thread\n",
      "    Phasing by win-win intersection = 0.451995 seconds\n",
      "        Window-by-window intersection  = 0.119888 seconds per thread\n",
      "        Breakpoint search              = 0.259573 seconds per thread\n",
      "        Recording result               = 0.0685291 seconds per thread\n",
      "    Imputation                     = 6.03114 seconds\n",
      "        Imputing missing               = 0.323751 seconds\n",
      "        Writing to file                = 5.70739 seconds\n",
      "\n",
      "    Total time                      = 21.2696 seconds\n",
      "\n"
     ]
    }
   ],
   "source": [
    "# phase & impute\n",
    "tgtfile = \"target.chr20.typedOnly.masked.vcf.gz\"\n",
    "reffile = \"ref.chr20.excludeTarget.jlso\"\n",
    "outfile = \"mendel.imputed.chr20.vcf.gz\"\n",
    "phase(tgtfile, reffile, outfile);"
   ]
  },
  {
   "cell_type": "markdown",
   "metadata": {},
   "source": [
    "## Beagle 5.1 on simulated data"
   ]
  },
  {
   "cell_type": "code",
   "execution_count": 83,
   "metadata": {
    "collapsed": false
   },
   "outputs": [
    {
     "name": "stdout",
     "output_type": "stream",
     "text": [
      "beagle.18May20.d20.jar (version 5.1)\n",
      "Copyright (C) 2014-2018 Brian L. Browning\n",
      "Enter \"java -jar beagle.18May20.d20.jar\" to list command line argument\n",
      "Start time: 03:50 PM PST on 09 Feb 2021\n",
      "\n",
      "Command line: java -Xmx3641m -jar beagle.18May20.d20.jar\n",
      "  gt=target.chr20.typedOnly.masked.vcf.gz\n",
      "  ref=ref.chr20.excludeTarget.vcf.gz\n",
      "  out=beagle.chr20.result\n",
      "  nthreads=8\n",
      "\n",
      "No genetic map is specified: using 1 cM = 1 Mb\n",
      "\n",
      "Reference samples:       2,404\n",
      "Study samples:             100\n",
      "\n",
      "Window 1 (20:60479-40060263)\n",
      "Reference markers:     399,602\n",
      "Study markers:           6,892\n",
      "\n",
      "Burnin  iteration 1:           2 seconds\n",
      "Burnin  iteration 2:           1 second\n",
      "Burnin  iteration 3:           1 second\n",
      "Burnin  iteration 4:           1 second\n",
      "Burnin  iteration 5:           1 second\n",
      "Burnin  iteration 6:           1 second\n",
      "\n",
      "Phasing iteration 1:           1 second\n",
      "Phasing iteration 2:           1 second\n",
      "Phasing iteration 3:           1 second\n",
      "Phasing iteration 4:           1 second\n",
      "Phasing iteration 5:           1 second\n",
      "Phasing iteration 6:           1 second\n",
      "Phasing iteration 7:           1 second\n",
      "Phasing iteration 8:           1 second\n",
      "Phasing iteration 9:           1 second\n",
      "Phasing iteration 10:          1 second\n",
      "Phasing iteration 11:          1 second\n",
      "Phasing iteration 12:          1 second\n",
      "\n",
      "Imputation time:               18 seconds\n",
      "\n",
      "Window 2 (20:36060201-62965167)\n",
      "Reference markers:     310,415\n",
      "Study markers:           6,118\n",
      "\n",
      "Burnin  iteration 1:           1 second\n",
      "Burnin  iteration 2:           1 second\n",
      "Burnin  iteration 3:           1 second\n",
      "Burnin  iteration 4:           1 second\n",
      "Burnin  iteration 5:           1 second\n",
      "Burnin  iteration 6:           1 second\n",
      "\n",
      "Phasing iteration 1:           1 second\n",
      "Phasing iteration 2:           1 second\n",
      "Phasing iteration 3:           1 second\n",
      "Phasing iteration 4:           1 second\n",
      "Phasing iteration 5:           1 second\n",
      "Phasing iteration 6:           1 second\n",
      "Phasing iteration 7:           1 second\n",
      "Phasing iteration 8:           1 second\n",
      "Phasing iteration 9:           1 second\n",
      "Phasing iteration 10:          1 second\n",
      "Phasing iteration 11:          1 second\n",
      "Phasing iteration 12:          1 second\n",
      "\n",
      "Imputation time:               14 seconds\n",
      "\n",
      "Cumulative Statistics:\n",
      "\n",
      "Reference markers:     669,987\n",
      "Study markers:          12,354\n",
      "\n",
      "Haplotype phasing time:        33 seconds\n",
      "Imputation time:               31 seconds\n",
      "Total time:                    1 minute 15 seconds\n",
      "\n",
      "End time: 03:51 PM PST on 09 Feb 2021\n",
      "beagle.18May20.d20.jar finished\n"
     ]
    },
    {
     "data": {
      "text/plain": [
       "Process(`\u001b[4mjava\u001b[24m \u001b[4m-jar\u001b[24m \u001b[4mbeagle.18May20.d20.jar\u001b[24m \u001b[4mgt=target.chr20.typedOnly.masked.vcf.gz\u001b[24m \u001b[4mref=ref.chr20.excludeTarget.vcf.gz\u001b[24m \u001b[4mout=beagle.chr20.result\u001b[24m \u001b[4mnthreads=8\u001b[24m`, ProcessExited(0))"
      ]
     },
     "execution_count": 83,
     "metadata": {},
     "output_type": "execute_result"
    }
   ],
   "source": [
    "# run beagle 5.1 (8 thread)\n",
    "run(`java -jar beagle.18May20.d20.jar gt=target.chr20.typedOnly.masked.vcf.gz ref=ref.chr20.excludeTarget.vcf.gz out=beagle.chr20.result nthreads=8`)"
   ]
  },
  {
   "cell_type": "markdown",
   "metadata": {},
   "source": [
    "## Check error rate"
   ]
  },
  {
   "cell_type": "code",
   "execution_count": 85,
   "metadata": {
    "collapsed": false
   },
   "outputs": [
    {
     "name": "stdout",
     "output_type": "stream",
     "text": [
      "mendel_error = (sum(Xtrue .!= X_mendel) / m) / n = 0.028955696155298534\n",
      "beagle_error = (sum(Xtrue .!= X_beagle) / m) / n = 0.013908210159301599\n"
     ]
    }
   ],
   "source": [
    "cd(\"/Users/biona001/.julia/dev/MendelImpute/data/1000_genome_phase3_v5/filtered\")\n",
    "\n",
    "X_mendel = convert_gt(Float64, \"mendel.imputed.chr20.vcf.gz\")\n",
    "X_beagle = convert_gt(Float64, \"beagle.chr20.result.vcf.gz\")\n",
    "# X_impute = convert_gt(Float64, \"impute5.chr20.result.vcf.gz\")\n",
    "Xtrue = convert_gt(Float64, \"target.chr20.full.vcf.gz\")\n",
    "m, n = size(Xtrue) # matrix dimensions\n",
    "@show mendel_error = sum(Xtrue .!= X_mendel) / m / n\n",
    "@show beagle_error = sum(Xtrue .!= X_beagle) / m / n;\n",
    "# @show impute5_error = sum(Xtrue .!= X_impute) / m / n;"
   ]
  },
  {
   "cell_type": "markdown",
   "metadata": {},
   "source": [
    "## Impute5\n",
    "\n",
    "On Hua's machine, Impute5's runtime = 134 seconds (with 8 threads), and its error rate is 0.014587312888160515"
   ]
  },
  {
   "cell_type": "markdown",
   "metadata": {},
   "source": [
    "# HRC experiment"
   ]
  },
  {
   "cell_type": "code",
   "execution_count": 90,
   "metadata": {
    "collapsed": false
   },
   "outputs": [
    {
     "data": {
      "text/plain": [
       "(882742, 27165)"
      ]
     },
     "execution_count": 90,
     "metadata": {},
     "output_type": "execute_result"
    }
   ],
   "source": [
    "cd(\"/Users/biona001/.julia/dev/MendelImpute/data/HRC\")\n",
    "vcffile = \"chr20.uniqueSNPs.vcf.gz\"\n",
    "nrecords(vcffile), nsamples(vcffile)"
   ]
  },
  {
   "cell_type": "code",
   "execution_count": 3,
   "metadata": {
    "collapsed": false
   },
   "outputs": [
    {
     "name": "stderr",
     "output_type": "stream",
     "text": [
      "\u001b[32mimporting100%|██████████████████████████████████████████| Time: 1:20:54\u001b[39m\n",
      "\u001b[32mfiltering vcf file...100%|██████████████████████████████| Time: 2:04:47\u001b[39m\n",
      "\u001b[32mfiltering vcf file...100%|██████████████████████████████| Time: 4:34:37\u001b[39m\n",
      "\u001b[32mfiltering vcf file...100%|██████████████████████████████| Time: 1:49:03\u001b[39m\n"
     ]
    },
    {
     "name": "stdout",
     "output_type": "stream",
     "text": [
      "36020.065104 seconds (335.89 G allocations: 30.977 TiB, 16.56% gc time)\n"
     ]
    }
   ],
   "source": [
    "cd(\"/Users/biona001/.julia/dev/MendelImpute/data/HRC\")\n",
    "function filter_and_mask()\n",
    "    for chr in [20]\n",
    "        # filter chromosome data for unique snps\n",
    "#         data = \"../beagle_raw/chr$chr.1kg.phase3.v5a.vcf.gz\"\n",
    "#         full_record_index = .!find_duplicate_marker(data)\n",
    "#         VCFTools.filter(data, full_record_index, 1:nsamples(data), \n",
    "#             des = \"chr$chr.uniqueSNPs.vcf.gz\", allow_multiallelic=false)\n",
    "\n",
    "        # import VCF data with only unique SNPs\n",
    "        _, vcf_sampleID, _, _, vcf_record_ids, _, _ = convert_gt(Float32, \n",
    "            \"chr$chr.uniqueSNPs.vcf.gz\", save_snp_info=true, msg=\"importing\")\n",
    "        total_snps = length(vcf_record_ids)\n",
    "        samples = length(vcf_sampleID)\n",
    "\n",
    "        # generate target panel with all snps\n",
    "        n = 1000\n",
    "        sample_idx = falses(samples)\n",
    "        sample_idx[1:n] .= true\n",
    "        shuffle!(sample_idx)\n",
    "        VCFTools.filter(\"chr$chr.uniqueSNPs.vcf.gz\", 1:total_snps, \n",
    "            sample_idx, des = \"target.chr$chr.full.vcf.gz\", allow_multiallelic=false)\n",
    "\n",
    "        # generate reference panel without target samples\n",
    "        VCFTools.filter(\"chr$chr.uniqueSNPs.vcf.gz\", 1:total_snps, \n",
    "            .!sample_idx, des = \"ref.chr$chr.excludeTarget.vcf.gz\", allow_multiallelic=false)\n",
    "        \n",
    "        # generate target file with 1000 samples whose snps are in the UK Biobank\n",
    "        ukbb = SnpData(\"/Users/biona001/.julia/dev/MendelImpute/data/ukbb/ukb.plink.filtered\")\n",
    "        ukbb_snpids = ukbb.snp_info[findall(x -> x == string(chr), ukbb.snp_info[!, :chromosome]), :snpid]\n",
    "        match_idx = indexin(vcat(vcf_record_ids...), ukbb_snpids)\n",
    "        record_idx = falses(total_snps)\n",
    "        record_idx[findall(!isnothing, match_idx)] .= true\n",
    "        VCFTools.filter(\"chr$chr.uniqueSNPs.vcf.gz\", record_idx, sample_idx, \n",
    "            des = \"target.chr$chr.typedOnly.vcf.gz\", allow_multiallelic=false)\n",
    "\n",
    "        # unphase and mask 1% entries in target file\n",
    "        p = nrecords(\"target.chr$chr.typedOnly.vcf.gz\")\n",
    "        masks = falses(p, n)\n",
    "        missingprop = 0.001\n",
    "        for j in 1:n, i in 1:p\n",
    "            rand() < missingprop && (masks[i, j] = true)\n",
    "        end\n",
    "        mask_gt(\"target.chr$chr.typedOnly.vcf.gz\", masks, \n",
    "            des=\"target.chr$chr.typedOnly.masked.vcf.gz\", unphase=true)\n",
    "    end\n",
    "end\n",
    "Random.seed!(2020)\n",
    "@time filter_and_mask()"
   ]
  },
  {
   "cell_type": "markdown",
   "metadata": {},
   "source": [
    "## MendelImpute on simulated HRC data"
   ]
  },
  {
   "cell_type": "code",
   "execution_count": 4,
   "metadata": {
    "collapsed": false
   },
   "outputs": [
    {
     "name": "stderr",
     "output_type": "stream",
     "text": [
      "\u001b[32mimporting reference data...100%|████████████████████████| Time: 1:36:14\u001b[39m\n"
     ]
    },
    {
     "name": "stdout",
     "output_type": "stream",
     "text": [
      "7052.777154 seconds (46.27 G allocations: 3.441 TiB, 24.75% gc time)\n"
     ]
    }
   ],
   "source": [
    "cd(\"/Users/biona001/.julia/dev/MendelImpute/data/HRC\")\n",
    "\n",
    "# compress reference haplotypes from .vcf.gz to .jlso format\n",
    "reffile = \"ref.chr20.excludeTarget.vcf.gz\"\n",
    "tgtfile = \"target.chr20.typedOnly.masked.vcf.gz\"\n",
    "outfile = \"ref.chr20.excludeTarget.jlso\"\n",
    "@time compress_haplotypes(reffile, tgtfile, outfile);"
   ]
  },
  {
   "cell_type": "code",
   "execution_count": 10,
   "metadata": {
    "collapsed": false
   },
   "outputs": [
    {
     "name": "stdout",
     "output_type": "stream",
     "text": [
      "Number of threads = 8\n",
      "Importing reference haplotype data...\n"
     ]
    },
    {
     "name": "stderr",
     "output_type": "stream",
     "text": [
      "\u001b[32mComputing optimal haplotypes...100%|████████████████████| Time: 0:00:08\u001b[39m\n",
      "\u001b[32mPhasing...100%|█████████████████████████████████████████| Time: 0:00:08\u001b[39m\n",
      "\u001b[32mWriting to file...100%|█████████████████████████████████| Time: 0:00:10\u001b[39m\n"
     ]
    },
    {
     "name": "stdout",
     "output_type": "stream",
     "text": [
      "Total windows = 823, averaging ~ 314 unique haplotypes per window.\n",
      "\n",
      "Timings: \n",
      "    Data import                     = 26.2951 seconds\n",
      "        import target data             = 3.05574 seconds\n",
      "        import compressed haplotypes   = 23.2393 seconds\n",
      "    Computing haplotype pair        = 8.12376 seconds\n",
      "        BLAS3 mul! to get M and N      = 0.0771965 seconds per thread\n",
      "        haplopair search               = 5.58686 seconds per thread\n",
      "        initializing missing           = 0.0426967 seconds per thread\n",
      "        allocating and viewing         = 0.00691445 seconds per thread\n",
      "        index conversion               = 0.0117964 seconds per thread\n",
      "    Phasing by win-win intersection = 8.54653 seconds\n",
      "        Window-by-window intersection  = 7.63571 seconds per thread\n",
      "        Breakpoint search              = 0.0981065 seconds per thread\n",
      "        Recording result               = 0.456344 seconds per thread\n",
      "    Imputation                     = 15.521 seconds\n",
      "        Imputing missing               = 4.49526 seconds\n",
      "        Writing to file                = 11.0258 seconds\n",
      "\n",
      "    Total time                      = 58.4901 seconds\n",
      "\n"
     ]
    }
   ],
   "source": [
    "cd(\"/Users/biona001/.julia/dev/MendelImpute/data/HRC\")\n",
    "\n",
    "# phase & impute\n",
    "tgtfile = \"target.chr20.typedOnly.masked.vcf.gz\"\n",
    "reffile = \"ref.chr20.excludeTarget.jlso\"\n",
    "outfile = \"mendel.imputed.chr20.vcf.gz\"\n",
    "phase(tgtfile, reffile, outfile);"
   ]
  },
  {
   "cell_type": "markdown",
   "metadata": {},
   "source": [
    "## Beagle 5.1"
   ]
  },
  {
   "cell_type": "code",
   "execution_count": 5,
   "metadata": {
    "collapsed": false
   },
   "outputs": [
    {
     "name": "stdout",
     "output_type": "stream",
     "text": [
      "beagle.18May20.d20.jar (version 5.1)\n",
      "Copyright (C) 2014-2018 Brian L. Browning\n",
      "Enter \"java -jar beagle.18May20.d20.jar\" to list command line argument\n",
      "Start time: 01:00 PM PST on 10 Feb 2021\n",
      "\n",
      "Command line: java -Xmx13653m -jar beagle.18May20.d20.jar\n",
      "  gt=target.chr20.typedOnly.masked.vcf.gz\n",
      "  ref=ref.chr20.excludeTarget.vcf.gz\n",
      "  out=beagle.chr20.result\n",
      "  nthreads=8\n",
      "\n",
      "No genetic map is specified: using 1 cM = 1 Mb\n",
      "\n",
      "Reference samples:      26,165\n",
      "Study samples:           1,000\n",
      "\n",
      "Window 1 (20:60309-40060275)\n",
      "Reference markers:     528,057\n",
      "Study markers:           6,899\n",
      "\n",
      "Burnin  iteration 1:           18 seconds\n",
      "Burnin  iteration 2:           17 seconds\n",
      "Burnin  iteration 3:           16 seconds\n",
      "Burnin  iteration 4:           17 seconds\n",
      "Burnin  iteration 5:           17 seconds\n",
      "Burnin  iteration 6:           20 seconds\n",
      "\n",
      "Phasing iteration 1:           22 seconds\n",
      "Phasing iteration 2:           19 seconds\n",
      "Phasing iteration 3:           18 seconds\n",
      "Phasing iteration 4:           12 seconds\n",
      "Phasing iteration 5:           11 seconds\n",
      "Phasing iteration 6:           11 seconds\n",
      "Phasing iteration 7:           11 seconds\n",
      "Phasing iteration 8:           11 seconds\n",
      "Phasing iteration 9:           11 seconds\n",
      "Phasing iteration 10:          12 seconds\n",
      "Phasing iteration 11:          11 seconds\n",
      "Phasing iteration 12:          10 seconds\n",
      "\n",
      "Imputation time:               2 minutes 0 seconds\n",
      "\n",
      "Window 2 (20:36060201-62965185)\n",
      "Reference markers:     409,998\n",
      "Study markers:           6,118\n",
      "\n",
      "Burnin  iteration 1:           8 seconds\n",
      "Burnin  iteration 2:           10 seconds\n",
      "Burnin  iteration 3:           10 seconds\n",
      "Burnin  iteration 4:           11 seconds\n",
      "Burnin  iteration 5:           11 seconds\n",
      "Burnin  iteration 6:           12 seconds\n",
      "\n",
      "Phasing iteration 1:           11 seconds\n",
      "Phasing iteration 2:           10 seconds\n",
      "Phasing iteration 3:           10 seconds\n",
      "Phasing iteration 4:           10 seconds\n",
      "Phasing iteration 5:           11 seconds\n",
      "Phasing iteration 6:           11 seconds\n",
      "Phasing iteration 7:           10 seconds\n",
      "Phasing iteration 8:           10 seconds\n",
      "Phasing iteration 9:           10 seconds\n",
      "Phasing iteration 10:          10 seconds\n",
      "Phasing iteration 11:          10 seconds\n",
      "Phasing iteration 12:          9 seconds\n",
      "\n",
      "Imputation time:               1 minute 26 seconds\n",
      "\n",
      "Cumulative Statistics:\n",
      "\n",
      "Reference markers:     882,742\n",
      "Study markers:          12,354\n",
      "\n",
      "Haplotype phasing time:        7 minutes 29 seconds\n",
      "Imputation time:               3 minutes 26 seconds\n",
      "Total time:                    13 minutes 14 seconds\n",
      "\n",
      "End time: 01:13 PM PST on 10 Feb 2021\n",
      "beagle.18May20.d20.jar finished\n"
     ]
    },
    {
     "data": {
      "text/plain": [
       "Process(`\u001b[4mjava\u001b[24m \u001b[4m-Xmx15g\u001b[24m \u001b[4m-jar\u001b[24m \u001b[4mbeagle.18May20.d20.jar\u001b[24m \u001b[4mgt=target.chr20.typedOnly.masked.vcf.gz\u001b[24m \u001b[4mref=ref.chr20.excludeTarget.vcf.gz\u001b[24m \u001b[4mout=beagle.chr20.result\u001b[24m \u001b[4mnthreads=8\u001b[24m`, ProcessExited(0))"
      ]
     },
     "execution_count": 5,
     "metadata": {},
     "output_type": "execute_result"
    }
   ],
   "source": [
    "# run beagle 5.1 (8 thread)\n",
    "cd(\"/Users/biona001/.julia/dev/MendelImpute/data/HRC\")\n",
    "run(`java -Xmx15g -jar beagle.18May20.d20.jar gt=target.chr20.typedOnly.masked.vcf.gz ref=ref.chr20.excludeTarget.vcf.gz out=beagle.chr20.result nthreads=8`)"
   ]
  },
  {
   "cell_type": "code",
   "execution_count": 7,
   "metadata": {
    "collapsed": false
   },
   "outputs": [
    {
     "name": "stdout",
     "output_type": "stream",
     "text": [
      "mendel_error = (sum(Xtrue .!= X_mendel) / m) / n = 0.008185619354239403\n",
      "beagle_error = (sum(Xtrue .!= X_beagle) / m) / n = 0.002821281869447698\n"
     ]
    }
   ],
   "source": [
    "cd(\"/Users/biona001/.julia/dev/MendelImpute/data/HRC\")\n",
    "\n",
    "X_mendel = convert_gt(Float64, \"mendel.imputed.chr20.vcf.gz\")\n",
    "X_beagle = convert_gt(Float64, \"beagle.chr20.result.vcf.gz\")\n",
    "Xtrue = convert_gt(Float64, \"target.chr20.full.vcf.gz\")\n",
    "m, n = size(Xtrue) # matrix dimensions\n",
    "@show mendel_error = sum(Xtrue .!= X_mendel) / m / n\n",
    "@show beagle_error = sum(Xtrue .!= X_beagle) / m / n;"
   ]
  },
  {
   "cell_type": "code",
   "execution_count": 8,
   "metadata": {
    "collapsed": false,
    "scrolled": true
   },
   "outputs": [
    {
     "data": {
      "text/plain": [
       "2.901383035450422"
      ]
     },
     "execution_count": 8,
     "metadata": {},
     "output_type": "execute_result"
    }
   ],
   "source": [
    "0.008185619354239403 / 0.002821281869447698"
   ]
  }
 ],
 "metadata": {
  "kernelspec": {
   "display_name": "Julia 1.5.0",
   "language": "julia",
   "name": "julia-1.5"
  },
  "language_info": {
   "file_extension": ".jl",
   "mimetype": "application/julia",
   "name": "julia",
   "version": "1.5.0"
  }
 },
 "nbformat": 4,
 "nbformat_minor": 2
}
