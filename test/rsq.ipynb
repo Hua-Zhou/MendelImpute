{
 "cells": [
  {
   "cell_type": "markdown",
   "metadata": {},
   "source": [
    "# Post imputation quality control\n",
    "\n",
    "Here to use chr18 data from 1000 genomes."
   ]
  },
  {
   "cell_type": "code",
   "execution_count": 1,
   "metadata": {
    "collapsed": false
   },
   "outputs": [
    {
     "name": "stderr",
     "output_type": "stream",
     "text": [
      "┌ Info: Precompiling MendelImpute [e47305d1-6a61-5370-bc5d-77554d143183]\n",
      "└ @ Base loading.jl:1278\n"
     ]
    }
   ],
   "source": [
    "using Revise\n",
    "using VCFTools\n",
    "using MendelImpute\n",
    "using GeneticVariation\n",
    "using Random\n",
    "using StatsBase\n",
    "using CodecZlib\n",
    "using ProgressMeter\n",
    "using JLSO\n",
    "using BenchmarkTools\n",
    "using GroupSlices\n",
    "using LinearAlgebra\n",
    "using UnicodePlots\n",
    "# using ProfileView\n",
    "\n",
    "BLAS.set_num_threads(1)"
   ]
  },
  {
   "cell_type": "code",
   "execution_count": 2,
   "metadata": {
    "collapsed": true
   },
   "outputs": [],
   "source": [
    "cd(\"/Users/biona001/.julia/dev/MendelImpute/data/1000_genome_phase3_v5/filtered\")"
   ]
  },
  {
   "cell_type": "code",
   "execution_count": 12,
   "metadata": {
    "collapsed": false
   },
   "outputs": [
    {
     "name": "stdout",
     "output_type": "stream",
     "text": [
      "Number of threads = 8\n",
      "Importing reference haplotype data...\n"
     ]
    },
    {
     "name": "stderr",
     "output_type": "stream",
     "text": [
      "\u001b[32mImporting genotype file...100%|█████████████████████████| Time: 0:00:05\u001b[39m\n"
     ]
    },
    {
     "name": "stdout",
     "output_type": "stream",
     "text": [
      "Total windows = 2367, averaging ~ 527 unique haplotypes per window.\n",
      "\n",
      "Timings: \n",
      "    Data import                     = 23.7672 seconds\n",
      "        import target data             = 5.33822 seconds\n",
      "        import compressed haplotypes   = 18.4289 seconds\n",
      "    Computing haplotype pair        = 4.87321 seconds\n",
      "        BLAS3 mul! to get M and N      = 0.363539 seconds per thread\n",
      "        haplopair search               = 3.99455 seconds per thread\n",
      "        initializing missing           = 0.0257177 seconds per thread\n",
      "        allocating and viewing         = 0.0701098 seconds per thread\n",
      "        index conversion               = 0.00365273 seconds per thread\n",
      "    Phasing by win-win intersection = 1.64581 seconds\n",
      "        Window-by-window intersection  = 0.10344 seconds per thread\n",
      "        Breakpoint search              = 1.24049 seconds per thread\n",
      "        Recording result               = 0.0483477 seconds per thread\n",
      "    Imputation                     = 1.96674 seconds\n",
      "        Imputing missing               = 0.742676 seconds\n",
      "        Writing to file                = 1.22406 seconds\n",
      "\n",
      "    Total time                      = 32.2545 seconds\n",
      "\n",
      " 32.254539 seconds (64.85 M allocations: 5.057 GiB, 12.13% gc time)\n",
      "error overall = 0.005259159607882693 \n",
      "\n"
     ]
    }
   ],
   "source": [
    "# 8 threads, d = 1000\n",
    "Random.seed!(2020)\n",
    "chr = 18\n",
    "maf = 0.1\n",
    "d = 1000\n",
    "overlap = 0.0\n",
    "tgtfile = \"target.chr$chr.typedOnly.maf$maf.masked.vcf.gz\"\n",
    "reffile = \"ref.chr18.maxd$d.overlap$overlap.maf$maf.excludeTarget.jlso\"\n",
    "outfile = \"mendel.imputed.vcf.gz\"\n",
    "@time ph, haploscore = phase(tgtfile, reffile, outfile=outfile);\n",
    "\n",
    "X_complete = convert_gt(Float64, \"target.chr18.full.vcf.gz\", trans=true)\n",
    "p, n = size(X_complete)\n",
    "X_mendel = convert_gt(Float64, outfile, trans=true)\n",
    "println(\"error overall = $(sum(X_mendel .!= X_complete) / n / p) \\n\")"
   ]
  },
  {
   "cell_type": "markdown",
   "metadata": {},
   "source": [
    "## Plot least square error for each sample"
   ]
  },
  {
   "cell_type": "code",
   "execution_count": 13,
   "metadata": {
    "collapsed": false
   },
   "outputs": [
    {
     "name": "stdout",
     "output_type": "stream",
     "text": [
      "histogram(tot_hapscore) =                       ┌                                        ┐ \n",
      "   [0.0002, 0.0004  ) ┤▇▇▇▇▇▇▇▇▇▇▇▇▇▇▇▇▇▇▇▇▇▇▇▇▇▇▇▇▇▇▇▇▇▇▇▇ 48   \n",
      "   [0.0004, 0.0006  ) ┤▇▇▇▇▇▇▇▇▇▇▇▇▇▇▇▇▇▇▇▇▇▇ 29                 \n",
      "   [0.0006, 0.0008  ) ┤▇▇▇▇▇ 6                                   \n",
      "   [0.0008, 0.001   ) ┤▇▇▇▇▇▇ 8                                  \n",
      "   [0.001 , 0.0012  ) ┤▇▇▇▇ 5                                    \n",
      "   [0.0012, 0.0014  ) ┤▇▇ 3                                      \n",
      "   [0.0014, 0.0016  ) ┤▇ 1                                       \n",
      "                      └                                        ┘ \n",
      "                                      Frequency\n",
      "error pruned = 0.0049533566168525976 \n",
      "\n"
     ]
    }
   ],
   "source": [
    "# normalize hapscore by number of SNPs\n",
    "tot_hapscore = sum.(haploscore) ./ p\n",
    "@show histogram(tot_hapscore)\n",
    "\n",
    "# find samples with avg error ≤ 0.001\n",
    "keep_idx = findall(x -> x ≤ 0.001, tot_hapscore)\n",
    "npruned = length(keep_idx)\n",
    "println(\"error pruned = $(sum(X_mendel[:, keep_idx] .!= X_complete[:, keep_idx]) / npruned / p) \\n\")"
   ]
  },
  {
   "cell_type": "code",
   "execution_count": 8,
   "metadata": {
    "collapsed": false
   },
   "outputs": [
    {
     "data": {
      "text/plain": [
       "\u001b[90m                  ┌                                        ┐\u001b[39m \n",
       "   \u001b[0m\u001b[90m[\u001b[0m 0.0\u001b[90m, \u001b[0m 2.0  \u001b[90m)\u001b[0m\u001b[90m ┤\u001b[39m\u001b[32m▇▇▇▇▇▇▇▇▇▇▇▇▇▇▇▇▇▇▇▇▇▇▇▇▇▇▇▇▇▇▇▇▇▇\u001b[39m\u001b[0m 2309 \u001b[90m \u001b[39m \n",
       "   \u001b[0m\u001b[90m[\u001b[0m 2.0\u001b[90m, \u001b[0m 4.0  \u001b[90m)\u001b[0m\u001b[90m ┤\u001b[39m\u001b[0m 33                                     \u001b[90m \u001b[39m \n",
       "   \u001b[0m\u001b[90m[\u001b[0m 4.0\u001b[90m, \u001b[0m 6.0  \u001b[90m)\u001b[0m\u001b[90m ┤\u001b[39m\u001b[0m 17                                     \u001b[90m \u001b[39m \n",
       "   \u001b[0m\u001b[90m[\u001b[0m 6.0\u001b[90m, \u001b[0m 8.0  \u001b[90m)\u001b[0m\u001b[90m ┤\u001b[39m\u001b[0m 5                                      \u001b[90m \u001b[39m \n",
       "   \u001b[0m\u001b[90m[\u001b[0m 8.0\u001b[90m, \u001b[0m10.0  \u001b[90m)\u001b[0m\u001b[90m ┤\u001b[39m\u001b[0m 0                                      \u001b[90m \u001b[39m \n",
       "   \u001b[0m\u001b[90m[\u001b[0m10.0\u001b[90m, \u001b[0m12.0  \u001b[90m)\u001b[0m\u001b[90m ┤\u001b[39m\u001b[0m 0                                      \u001b[90m \u001b[39m \n",
       "   \u001b[0m\u001b[90m[\u001b[0m12.0\u001b[90m, \u001b[0m14.0  \u001b[90m)\u001b[0m\u001b[90m ┤\u001b[39m\u001b[0m 0                                      \u001b[90m \u001b[39m \n",
       "   \u001b[0m\u001b[90m[\u001b[0m14.0\u001b[90m, \u001b[0m16.0  \u001b[90m)\u001b[0m\u001b[90m ┤\u001b[39m\u001b[0m 0                                      \u001b[90m \u001b[39m \n",
       "   \u001b[0m\u001b[90m[\u001b[0m16.0\u001b[90m, \u001b[0m18.0  \u001b[90m)\u001b[0m\u001b[90m ┤\u001b[39m\u001b[0m 1                                      \u001b[90m \u001b[39m \n",
       "   \u001b[0m\u001b[90m[\u001b[0m18.0\u001b[90m, \u001b[0m20.0  \u001b[90m)\u001b[0m\u001b[90m ┤\u001b[39m\u001b[0m 1                                      \u001b[90m \u001b[39m \n",
       "   \u001b[0m\u001b[90m[\u001b[0m20.0\u001b[90m, \u001b[0m22.0  \u001b[90m)\u001b[0m\u001b[90m ┤\u001b[39m\u001b[0m 0                                      \u001b[90m \u001b[39m \n",
       "   \u001b[0m\u001b[90m[\u001b[0m22.0\u001b[90m, \u001b[0m24.0  \u001b[90m)\u001b[0m\u001b[90m ┤\u001b[39m\u001b[0m 0                                      \u001b[90m \u001b[39m \n",
       "   \u001b[0m\u001b[90m[\u001b[0m24.0\u001b[90m, \u001b[0m26.0  \u001b[90m)\u001b[0m\u001b[90m ┤\u001b[39m\u001b[0m 1                                      \u001b[90m \u001b[39m \n",
       "\u001b[90m                  └                                        ┘\u001b[39m \n",
       "\u001b[0m                                  Frequency"
      ]
     },
     "execution_count": 8,
     "metadata": {},
     "output_type": "execute_result"
    }
   ],
   "source": [
    "histogram(haploscore[20])"
   ]
  },
  {
   "cell_type": "markdown",
   "metadata": {},
   "source": [
    "**Conclusion:** For each sample, most windows are imputed well, but a few are not (e.g. hapscore $> 20$). "
   ]
  },
  {
   "cell_type": "markdown",
   "metadata": {},
   "source": [
    "## Try calculating $r^2$\n",
    "\n",
    "According to [minimac 3 documentation](https://genome.sph.umich.edu/wiki/Minimac3_Info_File#Rsq), for each SNP we can calculate \n",
    "\n",
    "$$r^2 = \\frac{\\frac{1}{2n} \\sum_{i=1}^{2n}(D_i - \\hat{p})^2}{\\hat{p}(1 - \\hat{p})}$$\n",
    "\n",
    "where $\\hat{p}$ is the alternative allele frequency (of your GWAS data), $D_i$ is the imputed alternate allele probability at the $i$th haplotype, and $n$ is the number of GWAS samples."
   ]
  },
  {
   "cell_type": "code",
   "execution_count": 28,
   "metadata": {
    "collapsed": true
   },
   "outputs": [],
   "source": [
    "# import imputed haplotypes\n",
    "H = convert_ht(Float64, outfile, trans=true);"
   ]
  },
  {
   "cell_type": "code",
   "execution_count": 41,
   "metadata": {
    "collapsed": false
   },
   "outputs": [],
   "source": [
    "p̂ = vec(sum(H, dims=2)) ./ n ./ 2 # mean = 2maf\n",
    "r² = zeros(p)\n",
    "for j in 1:p\n",
    "    rⱼ = 0.0\n",
    "    pⱼ = p̂[j]\n",
    "    # skip snps with 0 minor alleles\n",
    "    if pⱼ == 0.0 || pⱼ == 1.0\n",
    "        r²[j] = 1\n",
    "        continue\n",
    "    end\n",
    "    for i in 1:2n\n",
    "        rⱼ += (H[j, i] - pⱼ)^2\n",
    "    end\n",
    "    r²[j] = rⱼ / 2n / (pⱼ * (1 - pⱼ))\n",
    "end"
   ]
  },
  {
   "cell_type": "code",
   "execution_count": 42,
   "metadata": {
    "collapsed": false
   },
   "outputs": [
    {
     "data": {
      "text/plain": [
       "\u001b[90m                ┌                                        ┐\u001b[39m \n",
       "   \u001b[0m\u001b[90m[\u001b[0m0.0 \u001b[90m, \u001b[0m0.05\u001b[90m)\u001b[0m\u001b[90m ┤\u001b[39m\u001b[32m▇▇▇▇▇▇▇▇▇▇▇▇▇▇▇▇▇▇▇▇▇▇▇▇▇▇▇▇▇▇▇▇\u001b[39m\u001b[0m 620983 \u001b[90m \u001b[39m \n",
       "   \u001b[0m\u001b[90m[\u001b[0m0.05\u001b[90m, \u001b[0m0.1 \u001b[90m)\u001b[0m\u001b[90m ┤\u001b[39m\u001b[32m▇▇\u001b[39m\u001b[0m 48182                                \u001b[90m \u001b[39m \n",
       "   \u001b[0m\u001b[90m[\u001b[0m0.1 \u001b[90m, \u001b[0m0.15\u001b[90m)\u001b[0m\u001b[90m ┤\u001b[39m\u001b[32m▇\u001b[39m\u001b[0m 28152                                 \u001b[90m \u001b[39m \n",
       "   \u001b[0m\u001b[90m[\u001b[0m0.15\u001b[90m, \u001b[0m0.2 \u001b[90m)\u001b[0m\u001b[90m ┤\u001b[39m\u001b[32m▇\u001b[39m\u001b[0m 20780                                 \u001b[90m \u001b[39m \n",
       "   \u001b[0m\u001b[90m[\u001b[0m0.2 \u001b[90m, \u001b[0m0.25\u001b[90m)\u001b[0m\u001b[90m ┤\u001b[39m\u001b[32m▇\u001b[39m\u001b[0m 17265                                 \u001b[90m \u001b[39m \n",
       "   \u001b[0m\u001b[90m[\u001b[0m0.25\u001b[90m, \u001b[0m0.3 \u001b[90m)\u001b[0m\u001b[90m ┤\u001b[39m\u001b[32m▇\u001b[39m\u001b[0m 14750                                 \u001b[90m \u001b[39m \n",
       "   \u001b[0m\u001b[90m[\u001b[0m0.3 \u001b[90m, \u001b[0m0.35\u001b[90m)\u001b[0m\u001b[90m ┤\u001b[39m\u001b[32m▇\u001b[39m\u001b[0m 12579                                 \u001b[90m \u001b[39m \n",
       "   \u001b[0m\u001b[90m[\u001b[0m0.35\u001b[90m, \u001b[0m0.4 \u001b[90m)\u001b[0m\u001b[90m ┤\u001b[39m\u001b[32m▇\u001b[39m\u001b[0m 10088                                 \u001b[90m \u001b[39m \n",
       "   \u001b[0m\u001b[90m[\u001b[0m0.4 \u001b[90m, \u001b[0m0.45\u001b[90m)\u001b[0m\u001b[90m ┤\u001b[39m\u001b[32m▇\u001b[39m\u001b[0m 9874                                  \u001b[90m \u001b[39m \n",
       "   \u001b[0m\u001b[90m[\u001b[0m0.45\u001b[90m, \u001b[0m0.5 \u001b[90m)\u001b[0m\u001b[90m ┤\u001b[39m\u001b[0m 8946                                   \u001b[90m \u001b[39m \n",
       "   \u001b[0m\u001b[90m[\u001b[0m0.5 \u001b[90m, \u001b[0m0.55\u001b[90m)\u001b[0m\u001b[90m ┤\u001b[39m\u001b[0m 8385                                   \u001b[90m \u001b[39m \n",
       "   \u001b[0m\u001b[90m[\u001b[0m0.55\u001b[90m, \u001b[0m0.6 \u001b[90m)\u001b[0m\u001b[90m ┤\u001b[39m\u001b[0m 6969                                   \u001b[90m \u001b[39m \n",
       "   \u001b[0m\u001b[90m[\u001b[0m0.6 \u001b[90m, \u001b[0m0.65\u001b[90m)\u001b[0m\u001b[90m ┤\u001b[39m\u001b[0m 6224                                   \u001b[90m \u001b[39m \n",
       "   \u001b[0m\u001b[90m[\u001b[0m0.65\u001b[90m, \u001b[0m0.7 \u001b[90m)\u001b[0m\u001b[90m ┤\u001b[39m\u001b[0m 5873                                   \u001b[90m \u001b[39m \n",
       "   \u001b[0m\u001b[90m[\u001b[0m0.7 \u001b[90m, \u001b[0m0.75\u001b[90m)\u001b[0m\u001b[90m ┤\u001b[39m\u001b[0m 5434                                   \u001b[90m \u001b[39m \n",
       "   \u001b[0m\u001b[90m[\u001b[0m0.75\u001b[90m, \u001b[0m0.8 \u001b[90m)\u001b[0m\u001b[90m ┤\u001b[39m\u001b[0m 4763                                   \u001b[90m \u001b[39m \n",
       "   \u001b[0m\u001b[90m[\u001b[0m0.8 \u001b[90m, \u001b[0m0.85\u001b[90m)\u001b[0m\u001b[90m ┤\u001b[39m\u001b[0m 4460                                   \u001b[90m \u001b[39m \n",
       "   \u001b[0m\u001b[90m[\u001b[0m0.85\u001b[90m, \u001b[0m0.9 \u001b[90m)\u001b[0m\u001b[90m ┤\u001b[39m\u001b[0m 4851                                   \u001b[90m \u001b[39m \n",
       "   \u001b[0m\u001b[90m[\u001b[0m0.9 \u001b[90m, \u001b[0m0.95\u001b[90m)\u001b[0m\u001b[90m ┤\u001b[39m\u001b[0m 4916                                   \u001b[90m \u001b[39m \n",
       "   \u001b[0m\u001b[90m[\u001b[0m0.95\u001b[90m, \u001b[0m1.0 \u001b[90m)\u001b[0m\u001b[90m ┤\u001b[39m\u001b[0m 7931                                   \u001b[90m \u001b[39m \n",
       "   \u001b[0m\u001b[90m[\u001b[0m1.0 \u001b[90m, \u001b[0m1.05\u001b[90m)\u001b[0m\u001b[90m ┤\u001b[39m\u001b[0m 1197                                   \u001b[90m \u001b[39m \n",
       "\u001b[90m                └                                        ┘\u001b[39m \n",
       "\u001b[0m                                Frequency"
      ]
     },
     "execution_count": 42,
     "metadata": {},
     "output_type": "execute_result"
    }
   ],
   "source": [
    "histogram(p̂)"
   ]
  },
  {
   "cell_type": "code",
   "execution_count": 44,
   "metadata": {
    "collapsed": false
   },
   "outputs": [
    {
     "data": {
      "text/plain": [
       "\u001b[90m                                            ┌                                        ┐\u001b[39m \n",
       "   \u001b[0m\u001b[90m[\u001b[0m0.999999999999988 \u001b[90m, \u001b[0m0.999999999999989 \u001b[90m)\u001b[0m\u001b[90m ┤\u001b[39m\u001b[0m 4                                      \u001b[90m \u001b[39m \n",
       "   \u001b[0m\u001b[90m[\u001b[0m0.999999999999989 \u001b[90m, \u001b[0m0.99999999999999  \u001b[90m)\u001b[0m\u001b[90m ┤\u001b[39m\u001b[0m 18                                     \u001b[90m \u001b[39m \n",
       "   \u001b[0m\u001b[90m[\u001b[0m0.99999999999999  \u001b[90m, \u001b[0m0.999999999999991 \u001b[90m)\u001b[0m\u001b[90m ┤\u001b[39m\u001b[0m 29                                     \u001b[90m \u001b[39m \n",
       "   \u001b[0m\u001b[90m[\u001b[0m0.999999999999991 \u001b[90m, \u001b[0m0.999999999999992 \u001b[90m)\u001b[0m\u001b[90m ┤\u001b[39m\u001b[0m 101                                    \u001b[90m \u001b[39m \n",
       "   \u001b[0m\u001b[90m[\u001b[0m0.999999999999992 \u001b[90m, \u001b[0m0.999999999999993 \u001b[90m)\u001b[0m\u001b[90m ┤\u001b[39m\u001b[0m 670                                    \u001b[90m \u001b[39m \n",
       "   \u001b[0m\u001b[90m[\u001b[0m0.999999999999993 \u001b[90m, \u001b[0m0.999999999999994 \u001b[90m)\u001b[0m\u001b[90m ┤\u001b[39m\u001b[0m 1035                                   \u001b[90m \u001b[39m \n",
       "   \u001b[0m\u001b[90m[\u001b[0m0.999999999999994 \u001b[90m, \u001b[0m0.999999999999995 \u001b[90m)\u001b[0m\u001b[90m ┤\u001b[39m\u001b[0m 4320                                   \u001b[90m \u001b[39m \n",
       "   \u001b[0m\u001b[90m[\u001b[0m0.999999999999995 \u001b[90m, \u001b[0m0.999999999999996 \u001b[90m)\u001b[0m\u001b[90m ┤\u001b[39m\u001b[32m▇\u001b[39m\u001b[0m 9532                                  \u001b[90m \u001b[39m \n",
       "   \u001b[0m\u001b[90m[\u001b[0m0.999999999999996 \u001b[90m, \u001b[0m0.999999999999997 \u001b[90m)\u001b[0m\u001b[90m ┤\u001b[39m\u001b[32m▇▇▇\u001b[39m\u001b[0m 28072                               \u001b[90m \u001b[39m \n",
       "   \u001b[0m\u001b[90m[\u001b[0m0.999999999999997 \u001b[90m, \u001b[0m0.999999999999998 \u001b[90m)\u001b[0m\u001b[90m ┤\u001b[39m\u001b[32m▇▇▇▇▇\u001b[39m\u001b[0m 56880                             \u001b[90m \u001b[39m \n",
       "   \u001b[0m\u001b[90m[\u001b[0m0.999999999999998 \u001b[90m, \u001b[0m0.999999999999999 \u001b[90m)\u001b[0m\u001b[90m ┤\u001b[39m\u001b[32m▇▇▇▇▇▇\u001b[39m\u001b[0m 67027                            \u001b[90m \u001b[39m \n",
       "   \u001b[0m\u001b[90m[\u001b[0m0.999999999999999 \u001b[90m, \u001b[0m1.0               \u001b[90m)\u001b[0m\u001b[90m ┤\u001b[39m\u001b[32m▇▇▇▇▇▇▇▇▇▇▇\u001b[39m\u001b[0m 113779                      \u001b[90m \u001b[39m \n",
       "   \u001b[0m\u001b[90m[\u001b[0m1.0               \u001b[90m, \u001b[0m1.000000000000001 \u001b[90m)\u001b[0m\u001b[90m ┤\u001b[39m\u001b[32m▇▇▇▇▇▇▇▇▇▇▇▇▇▇▇▇▇▇▇▇▇▇▇▇▇▇▇▇▇▇▇▇\u001b[39m\u001b[0m 345635 \u001b[90m \u001b[39m \n",
       "   \u001b[0m\u001b[90m[\u001b[0m1.000000000000001 \u001b[90m, \u001b[0m1.0000000000000022\u001b[90m)\u001b[0m\u001b[90m ┤\u001b[39m\u001b[32m▇▇▇▇▇\u001b[39m\u001b[0m 53818                             \u001b[90m \u001b[39m \n",
       "   \u001b[0m\u001b[90m[\u001b[0m1.000000000000002 \u001b[90m, \u001b[0m1.000000000000003 \u001b[90m)\u001b[0m\u001b[90m ┤\u001b[39m\u001b[32m▇▇▇▇▇\u001b[39m\u001b[0m 56021                             \u001b[90m \u001b[39m \n",
       "   \u001b[0m\u001b[90m[\u001b[0m1.000000000000003 \u001b[90m, \u001b[0m1.0000000000000042\u001b[90m)\u001b[0m\u001b[90m ┤\u001b[39m\u001b[32m▇▇\u001b[39m\u001b[0m 19028                                \u001b[90m \u001b[39m \n",
       "   \u001b[0m\u001b[90m[\u001b[0m1.000000000000004 \u001b[90m, \u001b[0m1.000000000000005 \u001b[90m)\u001b[0m\u001b[90m ┤\u001b[39m\u001b[32m▇▇\u001b[39m\u001b[0m 16933                                \u001b[90m \u001b[39m \n",
       "   \u001b[0m\u001b[90m[\u001b[0m1.000000000000005 \u001b[90m, \u001b[0m1.0000000000000062\u001b[90m)\u001b[0m\u001b[90m ┤\u001b[39m\u001b[32m▇▇▇\u001b[39m\u001b[0m 27223                               \u001b[90m \u001b[39m \n",
       "   \u001b[0m\u001b[90m[\u001b[0m1.000000000000006 \u001b[90m, \u001b[0m1.000000000000007 \u001b[90m)\u001b[0m\u001b[90m ┤\u001b[39m\u001b[32m▇▇\u001b[39m\u001b[0m 21560                                \u001b[90m \u001b[39m \n",
       "   \u001b[0m\u001b[90m[\u001b[0m1.000000000000007 \u001b[90m, \u001b[0m1.0000000000000082\u001b[90m)\u001b[0m\u001b[90m ┤\u001b[39m\u001b[32m▇\u001b[39m\u001b[0m 8255                                  \u001b[90m \u001b[39m \n",
       "   \u001b[0m\u001b[90m[\u001b[0m1.000000000000008 \u001b[90m, \u001b[0m1.000000000000009 \u001b[90m)\u001b[0m\u001b[90m ┤\u001b[39m\u001b[32m▇\u001b[39m\u001b[0m 9532                                  \u001b[90m \u001b[39m \n",
       "   \u001b[0m\u001b[90m[\u001b[0m1.000000000000009 \u001b[90m, \u001b[0m1.0000000000000102\u001b[90m)\u001b[0m\u001b[90m ┤\u001b[39m\u001b[32m▇\u001b[39m\u001b[0m 8299                                  \u001b[90m \u001b[39m \n",
       "   \u001b[0m\u001b[90m[\u001b[0m1.00000000000001  \u001b[90m, \u001b[0m1.000000000000011 \u001b[90m)\u001b[0m\u001b[90m ┤\u001b[39m\u001b[0m 4831                                   \u001b[90m \u001b[39m \n",
       "\u001b[90m                                            └                                        ┘\u001b[39m \n",
       "\u001b[0m                                                            Frequency"
      ]
     },
     "execution_count": 44,
     "metadata": {},
     "output_type": "execute_result"
    }
   ],
   "source": [
    "histogram(r²)"
   ]
  },
  {
   "cell_type": "code",
   "execution_count": null,
   "metadata": {
    "collapsed": true
   },
   "outputs": [],
   "source": []
  }
 ],
 "metadata": {
  "kernelspec": {
   "display_name": "Julia 1.5.0",
   "language": "julia",
   "name": "julia-1.5"
  },
  "language_info": {
   "file_extension": ".jl",
   "mimetype": "application/julia",
   "name": "julia",
   "version": "1.5.0"
  }
 },
 "nbformat": 4,
 "nbformat_minor": 2
}
