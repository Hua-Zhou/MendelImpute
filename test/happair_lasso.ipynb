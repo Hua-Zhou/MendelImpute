{
 "cells": [
  {
   "cell_type": "markdown",
   "metadata": {},
   "source": [
    "# Search Optimal Haplotype Pair by Lasso"
   ]
  },
  {
   "cell_type": "code",
   "execution_count": 1,
   "metadata": {},
   "outputs": [
    {
     "name": "stdout",
     "output_type": "stream",
     "text": [
      "Julia Version 1.4.2\n",
      "Commit 44fa15b150* (2020-05-23 18:35 UTC)\n",
      "Platform Info:\n",
      "  OS: macOS (x86_64-apple-darwin18.7.0)\n",
      "  CPU: Intel(R) Core(TM) i7-6920HQ CPU @ 2.90GHz\n",
      "  WORD_SIZE: 64\n",
      "  LIBM: libopenlibm\n",
      "  LLVM: libLLVM-8.0.1 (ORCJIT, skylake)\n",
      "Environment:\n",
      "  JULIA_EDITOR = code\n",
      "  JULIA_NUM_THREADS = 4\n"
     ]
    }
   ],
   "source": [
    "versioninfo()"
   ]
  },
  {
   "cell_type": "code",
   "execution_count": 2,
   "metadata": {},
   "outputs": [],
   "source": [
    "using BenchmarkTools, DataFrames, FileIO, JLD2, LinearAlgebra, Random, Revise"
   ]
  },
  {
   "cell_type": "markdown",
   "metadata": {},
   "source": [
    "## Test data\n",
    "\n",
    "Ben prepared the `M` and `N` matrices at window sizes 64, 128, ..., 1024. Let's get the first pair for testing."
   ]
  },
  {
   "cell_type": "code",
   "execution_count": 3,
   "metadata": {},
   "outputs": [],
   "source": [
    "@load \"example_data.jld2\" Ms Ns;\n",
    "# Ms[1]       # M for width = 64     (M is upper triangular)\n",
    "# Ms[2]       # M for width = 128   (M is upper triangular) \n",
    "# Ns[1]        # N for width = 64 ... etc \n",
    "\n",
    "# width = 64 averages 873 haplotype per window. Total win =2789\n",
    "# width = 128 averages 2497 haplotype per window. Total win = 1394\n",
    "# width = 256 averages 6985 haplotype per window. Total win =697\n",
    "# width = 512 averages 17234 haplotype per window. Total win = 348\n",
    "# width = 1024 averages 32428 haplotype per window. Total win = 174"
   ]
  },
  {
   "cell_type": "code",
   "execution_count": 4,
   "metadata": {},
   "outputs": [
    {
     "data": {
      "text/plain": [
       "2344×2344 Array{Float32,2}:\n",
       " 68.0  58.0  51.0  46.0  45.0  61.0  …  40.0  50.0  59.0  70.0  59.0  53.0\n",
       " 58.0  76.0  45.0  52.0  53.0  59.0     48.0  56.0  65.0  62.0  65.0  59.0\n",
       " 51.0  45.0  48.0  41.0  40.0  46.0     35.0  43.0  48.0  53.0  48.0  44.0\n",
       " 46.0  52.0  41.0  52.0  47.0  47.0     42.0  42.0  51.0  50.0  49.0  47.0\n",
       " 45.0  53.0  40.0  47.0  48.0  46.0     41.0  41.0  50.0  49.0  48.0  48.0\n",
       " 61.0  59.0  46.0  47.0  46.0  72.0  …  41.0  49.0  60.0  73.0  58.0  54.0\n",
       " 55.0  53.0  48.0  47.0  46.0  52.0     41.0  45.0  56.0  57.0  56.0  48.0\n",
       " 45.0  55.0  38.0  45.0  44.0  46.0     43.0  43.0  56.0  49.0  54.0  46.0\n",
       " 52.0  50.0  47.0  46.0  45.0  49.0     38.0  44.0  53.0  54.0  53.0  45.0\n",
       " 45.0  51.0  40.0  47.0  46.0  46.0     39.0  41.0  50.0  49.0  48.0  46.0\n",
       " 24.0  30.0  17.0  18.0  17.0  25.0  …  18.0  24.0  33.0  28.0  31.0  23.0\n",
       " 29.0  29.0  22.0  21.0  20.0  28.0     17.0  25.0  30.0  33.0  28.0  26.0\n",
       " 68.0  74.0  55.0  52.0  51.0  63.0     46.0  62.0  69.0  70.0  71.0  57.0\n",
       "  ⋮                             ⋮    ⋱               ⋮                \n",
       " 49.0  51.0  42.0  41.0  40.0  46.0     37.0  45.0  56.0  51.0  56.0  40.0\n",
       " 56.0  54.0  43.0  44.0  43.0  57.0     36.0  50.0  55.0  60.0  53.0  49.0\n",
       " 64.0  64.0  49.0  52.0  51.0  75.0     46.0  52.0  65.0  76.0  63.0  57.0\n",
       " 61.0  65.0  50.0  51.0  50.0  60.0  …  47.0  57.0  80.0  65.0  78.0  54.0\n",
       " 63.0  59.0  48.0  47.0  46.0  70.0     41.0  51.0  60.0  75.0  58.0  54.0\n",
       " 46.0  52.0  41.0  44.0  45.0  47.0     42.0  40.0  49.0  50.0  47.0  55.0\n",
       " 40.0  48.0  35.0  42.0  41.0  41.0     44.0  34.0  45.0  44.0  45.0  45.0\n",
       " 50.0  56.0  43.0  42.0  41.0  49.0     34.0  60.0  55.0  54.0  55.0  43.0\n",
       " 59.0  65.0  48.0  51.0  50.0  60.0  …  45.0  55.0  80.0  63.0  72.0  54.0\n",
       " 70.0  62.0  53.0  50.0  49.0  73.0     44.0  54.0  63.0  84.0  61.0  57.0\n",
       " 59.0  65.0  48.0  49.0  48.0  58.0     45.0  55.0  72.0  61.0  80.0  52.0\n",
       " 53.0  59.0  44.0  47.0  48.0  54.0     45.0  43.0  54.0  57.0  52.0  64.0"
      ]
     },
     "execution_count": 4,
     "metadata": {},
     "output_type": "execute_result"
    }
   ],
   "source": [
    "M = Ms[1]\n",
    "LinearAlgebra.copytri!(M, 'U')"
   ]
  },
  {
   "cell_type": "code",
   "execution_count": 5,
   "metadata": {},
   "outputs": [
    {
     "data": {
      "text/plain": [
       "1000×2344 Array{Float32,2}:\n",
       " 52.7333   53.1596  37.5737   33.1596   …  59.1596   46.7333  38.0\n",
       " 66.0      44.0     42.0      32.1734      62.0      44.0     40.0\n",
       " 18.0      26.0     16.0      26.0         18.0      22.0     20.0\n",
       " 26.0      30.0     24.0      30.0         26.0      24.0     26.0\n",
       " 40.0      38.0     35.1655   37.1655      40.0      36.0     33.1655\n",
       " 33.925    47.925   28.0      38.0      …  33.925    36.0     41.925\n",
       " 24.0      24.0     24.0      22.0         22.0      26.0     18.0\n",
       " 30.0      26.0     22.0      22.0         38.0      22.0     24.0\n",
       " 47.0691   47.0691  31.0691   33.0691      57.0691   46.0     37.0691\n",
       "  7.34686  15.3469   3.34686   3.34686      7.34686  15.3469   7.34686\n",
       " 48.0      38.0     34.0      30.1715   …  56.0      36.0     34.0\n",
       " 16.0      28.0     12.0      18.0         16.0      26.0     18.0\n",
       "  4.0      12.0      0.0       0.0          4.0      12.0      4.0\n",
       "  ⋮                                     ⋱                     \n",
       " 11.2424   14.9748   9.24242   9.24242     11.2424   12.9748   9.24242\n",
       " 62.0      46.0     40.0      28.0         58.0      48.0     34.0\n",
       " 24.0      26.0     20.0      20.0      …  24.0      34.0     18.0\n",
       " 48.0      40.0     44.0      40.0         44.0      44.0     36.0\n",
       " 68.0      44.0     44.0      32.0         64.0      44.0     40.0\n",
       " 54.0      54.0     38.0      34.0         60.0      48.0     38.0\n",
       " 48.0      40.0     32.0      32.0         64.0      36.0     36.0\n",
       " 48.0      40.0     38.0      36.0      …  54.0      40.0     36.0\n",
       " 38.0      36.0     38.0      30.0         44.0      36.0     28.0\n",
       " 38.0      44.0     28.0      36.0         46.0      40.0     34.0\n",
       " 42.0      40.0     32.0      36.0         50.0      34.0     38.0\n",
       " 34.0      40.0     32.0      46.0         34.0      32.0     38.0"
      ]
     },
     "execution_count": 5,
     "metadata": {},
     "output_type": "execute_result"
    }
   ],
   "source": [
    "N = Ns[1]"
   ]
  },
  {
   "cell_type": "markdown",
   "metadata": {},
   "source": [
    "## Current code\n",
    "\n",
    "This is current code for searching the optimal haplotype pair that minimizes\n",
    "$$\n",
    "\\|\\mathbf{x} - \\mathbf{h}_1 - \\mathbf{h}_2\\|_2^2.\n",
    "$$"
   ]
  },
  {
   "cell_type": "code",
   "execution_count": 6,
   "metadata": {},
   "outputs": [
    {
     "data": {
      "text/plain": [
       "haplopair!"
      ]
     },
     "execution_count": 6,
     "metadata": {},
     "output_type": "execute_result"
    }
   ],
   "source": [
    "\"\"\"\n",
    "    haplopair!(happair, hapscore, M, N)\n",
    "\n",
    "Calculate the best pair of haplotypes pairs in the filtered haplotype panel\n",
    "for each individual in `X` using sufficient statistics `M` and `N`. \n",
    "\n",
    "# Note\n",
    "The best haplotype pairs are column indices of the filtered haplotype panels. \n",
    "\n",
    "# Input\n",
    "* `happair`: optimal haplotype pair for each individual.\n",
    "* `hapmin`: minimum offered by the optimal haplotype pair.\n",
    "* `M`: `d x d` matrix with entries `M[i, j] = 2dot(H[:, i], H[:, j]) +\n",
    "    sumabs2(H[:, i]) + sumabs2(H[:, j])`, where `H` is the haplotype matrix\n",
    "    with haplotypes in columns. Only the upper triangular part of `M` is used.\n",
    "* `N`: `n x d` matrix `2X'H`, where `X` is the genotype matrix with individuals\n",
    "    in columns.\n",
    "\"\"\"\n",
    "function haplopair!(\n",
    "    happair1::AbstractVector{<:Integer},\n",
    "    happair2::AbstractVector{<:Integer},\n",
    "    hapmin::AbstractVector{T},\n",
    "    M::AbstractMatrix{T},\n",
    "    N::AbstractMatrix{T},\n",
    "    ) where T <: Real\n",
    "    n, d = size(N)\n",
    "    fill!(hapmin, typemax(T))\n",
    "    @inbounds for k in 1:d, j in 1:k\n",
    "        Mjk = M[j, k]\n",
    "        # loop over individuals\n",
    "        for i in 1:n\n",
    "            score = Mjk - N[i, j] - N[i, k]\n",
    "            # keep best happair (original code)\n",
    "            if score < hapmin[i]\n",
    "                hapmin[i]   = score\n",
    "                happair1[i] = j\n",
    "                happair2[i] = k\n",
    "            end\n",
    "\n",
    "        end\n",
    "    end\n",
    "    return nothing\n",
    "end"
   ]
  },
  {
   "cell_type": "code",
   "execution_count": 7,
   "metadata": {},
   "outputs": [
    {
     "data": {
      "text/plain": [
       "BenchmarkTools.Trial: \n",
       "  memory estimate:  0 bytes\n",
       "  allocs estimate:  0\n",
       "  --------------\n",
       "  minimum time:     2.163 s (0.00% GC)\n",
       "  median time:      2.203 s (0.00% GC)\n",
       "  mean time:        2.194 s (0.00% GC)\n",
       "  maximum time:     2.216 s (0.00% GC)\n",
       "  --------------\n",
       "  samples:          3\n",
       "  evals/sample:     1"
      ]
     },
     "execution_count": 7,
     "metadata": {},
     "output_type": "execute_result"
    }
   ],
   "source": [
    "n, d     = size(N)\n",
    "hapmin   = Vector{Float32}(undef, n)\n",
    "happair1 = Vector{Int}(undef, n)\n",
    "happair2 = Vector{Int}(undef, n)\n",
    "\n",
    "@benchmark haplopair!($happair1, $happair2, $hapmin, $M, $N)"
   ]
  },
  {
   "cell_type": "code",
   "execution_count": 8,
   "metadata": {},
   "outputs": [
    {
     "data": {
      "text/html": [
       "<table class=\"data-frame\"><thead><tr><th></th><th>hap1</th><th>hap2</th><th>score</th></tr><tr><th></th><th>Int64</th><th>Int64</th><th>Float32</th></tr></thead><tbody><p>1,000 rows × 3 columns</p><tr><th>1</th><td>41</td><td>1528</td><td>-58.8929</td></tr><tr><th>2</th><td>1</td><td>38</td><td>-65.0</td></tr><tr><th>3</th><td>4</td><td>11</td><td>-18.0</td></tr><tr><th>4</th><td>10</td><td>1277</td><td>-29.0</td></tr><tr><th>5</th><td>577</td><td>1207</td><td>-39.1655</td></tr><tr><th>6</th><td>18</td><td>25</td><td>-47.0</td></tr><tr><th>7</th><td>50</td><td>101</td><td>-22.0</td></tr><tr><th>8</th><td>41</td><td>50</td><td>-28.0</td></tr><tr><th>9</th><td>95</td><td>207</td><td>-54.1382</td></tr><tr><th>10</th><td>34</td><td>1004</td><td>-29.3469</td></tr><tr><th>11</th><td>6</td><td>706</td><td>-49.0</td></tr><tr><th>12</th><td>8</td><td>11</td><td>-29.0</td></tr><tr><th>13</th><td>34</td><td>314</td><td>-21.8126</td></tr><tr><th>14</th><td>1</td><td>1</td><td>-68.0</td></tr><tr><th>15</th><td>3</td><td>95</td><td>-47.0</td></tr><tr><th>16</th><td>128</td><td>968</td><td>-29.0</td></tr><tr><th>17</th><td>87</td><td>101</td><td>-49.0</td></tr><tr><th>18</th><td>1</td><td>50</td><td>-28.0</td></tr><tr><th>19</th><td>19</td><td>74</td><td>-59.0</td></tr><tr><th>20</th><td>1</td><td>321</td><td>-42.0</td></tr><tr><th>21</th><td>108</td><td>113</td><td>-50.0</td></tr><tr><th>22</th><td>888</td><td>928</td><td>-11.3469</td></tr><tr><th>23</th><td>34</td><td>326</td><td>-32.0</td></tr><tr><th>24</th><td>392</td><td>436</td><td>-51.1382</td></tr><tr><th>25</th><td>87</td><td>166</td><td>-43.4848</td></tr><tr><th>26</th><td>105</td><td>136</td><td>-37.0</td></tr><tr><th>27</th><td>50</td><td>401</td><td>-22.0</td></tr><tr><th>28</th><td>87</td><td>136</td><td>-27.2244</td></tr><tr><th>29</th><td>50</td><td>113</td><td>-21.0</td></tr><tr><th>30</th><td>87</td><td>131</td><td>-41.0</td></tr><tr><th>&vellip;</th><td>&vellip;</td><td>&vellip;</td><td>&vellip;</td></tr></tbody></table>"
      ],
      "text/latex": [
       "\\begin{tabular}{r|ccc}\n",
       "\t& hap1 & hap2 & score\\\\\n",
       "\t\\hline\n",
       "\t& Int64 & Int64 & Float32\\\\\n",
       "\t\\hline\n",
       "\t1 & 41 & 1528 & -58.8929 \\\\\n",
       "\t2 & 1 & 38 & -65.0 \\\\\n",
       "\t3 & 4 & 11 & -18.0 \\\\\n",
       "\t4 & 10 & 1277 & -29.0 \\\\\n",
       "\t5 & 577 & 1207 & -39.1655 \\\\\n",
       "\t6 & 18 & 25 & -47.0 \\\\\n",
       "\t7 & 50 & 101 & -22.0 \\\\\n",
       "\t8 & 41 & 50 & -28.0 \\\\\n",
       "\t9 & 95 & 207 & -54.1382 \\\\\n",
       "\t10 & 34 & 1004 & -29.3469 \\\\\n",
       "\t11 & 6 & 706 & -49.0 \\\\\n",
       "\t12 & 8 & 11 & -29.0 \\\\\n",
       "\t13 & 34 & 314 & -21.8126 \\\\\n",
       "\t14 & 1 & 1 & -68.0 \\\\\n",
       "\t15 & 3 & 95 & -47.0 \\\\\n",
       "\t16 & 128 & 968 & -29.0 \\\\\n",
       "\t17 & 87 & 101 & -49.0 \\\\\n",
       "\t18 & 1 & 50 & -28.0 \\\\\n",
       "\t19 & 19 & 74 & -59.0 \\\\\n",
       "\t20 & 1 & 321 & -42.0 \\\\\n",
       "\t21 & 108 & 113 & -50.0 \\\\\n",
       "\t22 & 888 & 928 & -11.3469 \\\\\n",
       "\t23 & 34 & 326 & -32.0 \\\\\n",
       "\t24 & 392 & 436 & -51.1382 \\\\\n",
       "\t25 & 87 & 166 & -43.4848 \\\\\n",
       "\t26 & 105 & 136 & -37.0 \\\\\n",
       "\t27 & 50 & 401 & -22.0 \\\\\n",
       "\t28 & 87 & 136 & -27.2244 \\\\\n",
       "\t29 & 50 & 113 & -21.0 \\\\\n",
       "\t30 & 87 & 131 & -41.0 \\\\\n",
       "\t$\\dots$ & $\\dots$ & $\\dots$ & $\\dots$ \\\\\n",
       "\\end{tabular}\n"
      ],
      "text/plain": [
       "1000×3 DataFrame\n",
       "│ Row  │ hap1  │ hap2  │ score    │\n",
       "│      │ \u001b[90mInt64\u001b[39m │ \u001b[90mInt64\u001b[39m │ \u001b[90mFloat32\u001b[39m  │\n",
       "├──────┼───────┼───────┼──────────┤\n",
       "│ 1    │ 41    │ 1528  │ -58.8929 │\n",
       "│ 2    │ 1     │ 38    │ -65.0    │\n",
       "│ 3    │ 4     │ 11    │ -18.0    │\n",
       "│ 4    │ 10    │ 1277  │ -29.0    │\n",
       "│ 5    │ 577   │ 1207  │ -39.1655 │\n",
       "│ 6    │ 18    │ 25    │ -47.0    │\n",
       "│ 7    │ 50    │ 101   │ -22.0    │\n",
       "│ 8    │ 41    │ 50    │ -28.0    │\n",
       "│ 9    │ 95    │ 207   │ -54.1382 │\n",
       "│ 10   │ 34    │ 1004  │ -29.3469 │\n",
       "⋮\n",
       "│ 990  │ 112   │ 472   │ -71.0    │\n",
       "│ 991  │ 913   │ 1031  │ -27.0    │\n",
       "│ 992  │ 7     │ 7     │ -56.0    │\n",
       "│ 993  │ 1     │ 1     │ -68.0    │\n",
       "│ 994  │ 13    │ 41    │ -60.0    │\n",
       "│ 995  │ 41    │ 259   │ -67.0    │\n",
       "│ 996  │ 7     │ 29    │ -50.0    │\n",
       "│ 997  │ 91    │ 2057  │ -42.0    │\n",
       "│ 998  │ 271   │ 1130  │ -45.0    │\n",
       "│ 999  │ 36    │ 41    │ -45.0    │\n",
       "│ 1000 │ 4     │ 36    │ -45.0    │"
      ]
     },
     "execution_count": 8,
     "metadata": {},
     "output_type": "execute_result"
    }
   ],
   "source": [
    "# this is global optimal solution\n",
    "DataFrame(hap1 = happair1, hap2 = happair2, score = hapmin)"
   ]
  },
  {
   "cell_type": "markdown",
   "metadata": {},
   "source": [
    "## Stepwise search heuristics\n",
    "\n",
    "Let's consider minimizing the loss\n",
    "$$\n",
    "f(\\boldsymbol{\\beta}) = \\frac 12 \\|\\mathbf{x} - \\mathbf{H} \\boldsymbol{\\beta}\\|_2^2,\n",
    "$$\n",
    "where columns of $\\mathbf{H} \\in \\mathbb{R}^{w \\times d}$ are candidate haplotypes. Original problem is solving this problem subject to the constraint that only two $\\beta_j$ take values 1 and all others take values 0. We see some heuristics that might circumvent the expensive $O(d^2)$ search.\n",
    "\n",
    "The gradient of objective is\n",
    "$$\n",
    "\\nabla f(\\boldsymbol{\\beta}) = - \\mathbf{H}^T (\\mathbf{x} - \\mathbf{H} \\boldsymbol{\\beta}) = - \\mathbf{H}^T \\mathbf{x} + \\mathbf{H}^T \\mathbf{H} \\boldsymbol{\\beta}.\n",
    "$$\n",
    "Note $\\mathbf{H}^T \\mathbf{x}$ and $\\mathbf{H}^T \\mathbf{H}$ are pre-computed and cached. When no haplotypes are in the model, $\\boldsymbol{\\beta} = \\mathbf{0}$. We need to search the maximal element of the gradient vector \n",
    "$$\n",
    "i_1 = \\arg \\max_i (\\mathbf{H}^T \\mathbf{x})_i.\n",
    "$$\n",
    "Given $h_{i_1}$, we search the second haplotype using the original criterion directly. \n",
    "\n",
    "Overall this search heuristic costs $3d$ flops."
   ]
  },
  {
   "cell_type": "code",
   "execution_count": 9,
   "metadata": {},
   "outputs": [
    {
     "data": {
      "text/plain": [
       "haplopair_stepwise! (generic function with 1 method)"
      ]
     },
     "execution_count": 9,
     "metadata": {},
     "output_type": "execute_result"
    }
   ],
   "source": [
    "Nt = Matrix(transpose(N)) # Nt for column-major access\n",
    "\n",
    "function haplopair_stepwise!(\n",
    "    happair1 :: AbstractVector{<:Integer},\n",
    "    happair2 :: AbstractVector{<:Integer},\n",
    "    hapmin   :: AbstractVector{T},\n",
    "    M        :: AbstractMatrix{T}, # d x d\n",
    "    Nt       :: AbstractMatrix{T}, # d x n\n",
    "    ) where T <: Real\n",
    "    d, n = size(Nt)\n",
    "    fill!(hapmin, typemax(T))\n",
    "    @inbounds for k in 1:n\n",
    "        # find the first haplotype\n",
    "        gmax, i1 = Nt[1, k], 1\n",
    "        for i in 2:d\n",
    "            g = Nt[i, k]\n",
    "            if g > gmax\n",
    "                gmax = g\n",
    "                i1   = i\n",
    "            end\n",
    "        end\n",
    "        happair1[k] = i1\n",
    "        # find the optimal second haplotype given i1 using LS criterion\n",
    "        for i in 1:d\n",
    "            score = M[i, i1] - Nt[i, k]\n",
    "            if score < hapmin[k]\n",
    "                hapmin[k] = score\n",
    "                happair2[k] = i\n",
    "            end\n",
    "        end\n",
    "        hapmin[k] -= Nt[i1, k]\n",
    "    end\n",
    "    return nothing\n",
    "end"
   ]
  },
  {
   "cell_type": "code",
   "execution_count": 10,
   "metadata": {},
   "outputs": [
    {
     "data": {
      "text/plain": [
       "BenchmarkTools.Trial: \n",
       "  memory estimate:  0 bytes\n",
       "  allocs estimate:  0\n",
       "  --------------\n",
       "  minimum time:     4.231 ms (0.00% GC)\n",
       "  median time:      4.809 ms (0.00% GC)\n",
       "  mean time:        4.816 ms (0.00% GC)\n",
       "  maximum time:     6.203 ms (0.00% GC)\n",
       "  --------------\n",
       "  samples:          1037\n",
       "  evals/sample:     1"
      ]
     },
     "execution_count": 10,
     "metadata": {},
     "output_type": "execute_result"
    }
   ],
   "source": [
    "@benchmark haplopair_stepwise!($happair1, $happair2, $hapmin, $M, $Nt)"
   ]
  },
  {
   "cell_type": "markdown",
   "metadata": {},
   "source": [
    "Not surprisingly, the heuristic solution is not the global optimal. But we do see some haplotypes from the heuristic approach overlap with the optimal ones. This motivates us to the next heuristic method."
   ]
  },
  {
   "cell_type": "code",
   "execution_count": 11,
   "metadata": {},
   "outputs": [
    {
     "data": {
      "text/html": [
       "<table class=\"data-frame\"><thead><tr><th></th><th>hap1</th><th>hap2</th><th>score</th></tr><tr><th></th><th>Int64</th><th>Int64</th><th>Float32</th></tr></thead><tbody><p>1,000 rows × 3 columns</p><tr><th>1</th><td>1473</td><td>1051</td><td>-56.8929</td></tr><tr><th>2</th><td>1234</td><td>38</td><td>-64.1734</td></tr><tr><th>3</th><td>86</td><td>75</td><td>-18.0</td></tr><tr><th>4</th><td>106</td><td>886</td><td>-28.0</td></tr><tr><th>5</th><td>2162</td><td>88</td><td>-35.1655</td></tr><tr><th>6</th><td>1503</td><td>1485</td><td>-47.0</td></tr><tr><th>7</th><td>1016</td><td>50</td><td>-14.0</td></tr><tr><th>8</th><td>340</td><td>119</td><td>-28.0</td></tr><tr><th>9</th><td>56</td><td>505</td><td>-51.1382</td></tr><tr><th>10</th><td>1004</td><td>34</td><td>-29.3469</td></tr><tr><th>11</th><td>1155</td><td>533</td><td>-47.0</td></tr><tr><th>12</th><td>8</td><td>11</td><td>-29.0</td></tr><tr><th>13</th><td>34</td><td>314</td><td>-21.8126</td></tr><tr><th>14</th><td>1</td><td>1</td><td>-68.0</td></tr><tr><th>15</th><td>1637</td><td>1560</td><td>-47.0</td></tr><tr><th>16</th><td>220</td><td>107</td><td>-26.0</td></tr><tr><th>17</th><td>1313</td><td>1847</td><td>-48.0</td></tr><tr><th>18</th><td>445</td><td>119</td><td>-27.0</td></tr><tr><th>19</th><td>1056</td><td>245</td><td>-59.0</td></tr><tr><th>20</th><td>2342</td><td>1729</td><td>-39.0</td></tr><tr><th>21</th><td>25</td><td>108</td><td>-49.0</td></tr><tr><th>22</th><td>1016</td><td>50</td><td>2.65314</td></tr><tr><th>23</th><td>326</td><td>34</td><td>-32.0</td></tr><tr><th>24</th><td>325</td><td>1163</td><td>-49.1382</td></tr><tr><th>25</th><td>169</td><td>81</td><td>-43.4848</td></tr><tr><th>26</th><td>8</td><td>136</td><td>-36.0</td></tr><tr><th>27</th><td>47</td><td>119</td><td>-20.0</td></tr><tr><th>28</th><td>1313</td><td>117</td><td>-25.2244</td></tr><tr><th>29</th><td>1503</td><td>50</td><td>-18.0</td></tr><tr><th>30</th><td>1768</td><td>178</td><td>-38.0</td></tr><tr><th>&vellip;</th><td>&vellip;</td><td>&vellip;</td><td>&vellip;</td></tr></tbody></table>"
      ],
      "text/latex": [
       "\\begin{tabular}{r|ccc}\n",
       "\t& hap1 & hap2 & score\\\\\n",
       "\t\\hline\n",
       "\t& Int64 & Int64 & Float32\\\\\n",
       "\t\\hline\n",
       "\t1 & 1473 & 1051 & -56.8929 \\\\\n",
       "\t2 & 1234 & 38 & -64.1734 \\\\\n",
       "\t3 & 86 & 75 & -18.0 \\\\\n",
       "\t4 & 106 & 886 & -28.0 \\\\\n",
       "\t5 & 2162 & 88 & -35.1655 \\\\\n",
       "\t6 & 1503 & 1485 & -47.0 \\\\\n",
       "\t7 & 1016 & 50 & -14.0 \\\\\n",
       "\t8 & 340 & 119 & -28.0 \\\\\n",
       "\t9 & 56 & 505 & -51.1382 \\\\\n",
       "\t10 & 1004 & 34 & -29.3469 \\\\\n",
       "\t11 & 1155 & 533 & -47.0 \\\\\n",
       "\t12 & 8 & 11 & -29.0 \\\\\n",
       "\t13 & 34 & 314 & -21.8126 \\\\\n",
       "\t14 & 1 & 1 & -68.0 \\\\\n",
       "\t15 & 1637 & 1560 & -47.0 \\\\\n",
       "\t16 & 220 & 107 & -26.0 \\\\\n",
       "\t17 & 1313 & 1847 & -48.0 \\\\\n",
       "\t18 & 445 & 119 & -27.0 \\\\\n",
       "\t19 & 1056 & 245 & -59.0 \\\\\n",
       "\t20 & 2342 & 1729 & -39.0 \\\\\n",
       "\t21 & 25 & 108 & -49.0 \\\\\n",
       "\t22 & 1016 & 50 & 2.65314 \\\\\n",
       "\t23 & 326 & 34 & -32.0 \\\\\n",
       "\t24 & 325 & 1163 & -49.1382 \\\\\n",
       "\t25 & 169 & 81 & -43.4848 \\\\\n",
       "\t26 & 8 & 136 & -36.0 \\\\\n",
       "\t27 & 47 & 119 & -20.0 \\\\\n",
       "\t28 & 1313 & 117 & -25.2244 \\\\\n",
       "\t29 & 1503 & 50 & -18.0 \\\\\n",
       "\t30 & 1768 & 178 & -38.0 \\\\\n",
       "\t$\\dots$ & $\\dots$ & $\\dots$ & $\\dots$ \\\\\n",
       "\\end{tabular}\n"
      ],
      "text/plain": [
       "1000×3 DataFrame\n",
       "│ Row  │ hap1  │ hap2  │ score    │\n",
       "│      │ \u001b[90mInt64\u001b[39m │ \u001b[90mInt64\u001b[39m │ \u001b[90mFloat32\u001b[39m  │\n",
       "├──────┼───────┼───────┼──────────┤\n",
       "│ 1    │ 1473  │ 1051  │ -56.8929 │\n",
       "│ 2    │ 1234  │ 38    │ -64.1734 │\n",
       "│ 3    │ 86    │ 75    │ -18.0    │\n",
       "│ 4    │ 106   │ 886   │ -28.0    │\n",
       "│ 5    │ 2162  │ 88    │ -35.1655 │\n",
       "│ 6    │ 1503  │ 1485  │ -47.0    │\n",
       "│ 7    │ 1016  │ 50    │ -14.0    │\n",
       "│ 8    │ 340   │ 119   │ -28.0    │\n",
       "│ 9    │ 56    │ 505   │ -51.1382 │\n",
       "│ 10   │ 1004  │ 34    │ -29.3469 │\n",
       "⋮\n",
       "│ 990  │ 472   │ 112   │ -71.0    │\n",
       "│ 991  │ 1069  │ 1196  │ -22.0    │\n",
       "│ 992  │ 7     │ 7     │ -56.0    │\n",
       "│ 993  │ 1889  │ 1     │ -65.0546 │\n",
       "│ 994  │ 1283  │ 140   │ -59.0    │\n",
       "│ 995  │ 1955  │ 692   │ -67.0    │\n",
       "│ 996  │ 1201  │ 68    │ -49.0    │\n",
       "│ 997  │ 1056  │ 3     │ -38.0    │\n",
       "│ 998  │ 2240  │ 28    │ -42.9173 │\n",
       "│ 999  │ 56    │ 37    │ -39.0    │\n",
       "│ 1000 │ 248   │ 37    │ -45.0    │"
      ]
     },
     "execution_count": 11,
     "metadata": {},
     "output_type": "execute_result"
    }
   ],
   "source": [
    "DataFrame(hap1 = happair1, hap2 = happair2, score = hapmin)"
   ]
  },
  {
   "cell_type": "markdown",
   "metadata": {},
   "source": [
    "## Top $r$ pool heuristic method\n",
    "\n",
    "If we are willing to spend more computing time, we search for the top $r$ haplotypes with largest gradient. Then do exhaustive search within this pool."
   ]
  },
  {
   "cell_type": "code",
   "execution_count": 12,
   "metadata": {},
   "outputs": [
    {
     "data": {
      "text/plain": [
       "haplopair_topr! (generic function with 2 methods)"
      ]
     },
     "execution_count": 12,
     "metadata": {},
     "output_type": "execute_result"
    }
   ],
   "source": [
    "function haplopair_topr!(\n",
    "    happair1 :: AbstractVector{<:Integer},\n",
    "    happair2 :: AbstractVector{<:Integer},\n",
    "    hapmin   :: AbstractVector{T},\n",
    "    M        :: AbstractMatrix{T}, # d x d\n",
    "    Nt       :: AbstractMatrix{T}, # d x n\n",
    "    r        :: Integer = 5\n",
    "    ) where T <: Real\n",
    "    d, n = size(Nt)\n",
    "    fill!(hapmin, typemax(T))\n",
    "    idx = Vector{Int}(undef, d)\n",
    "    @inbounds for k in 1:n\n",
    "        # find the top r haplotypes\n",
    "        @views sortperm!(idx, Nt[:, k]; alg = PartialQuickSort(r), rev = true)\n",
    "        # for each top haplotype, find the optimal second one\n",
    "        for riter in 1:r\n",
    "            i1 = idx[riter]\n",
    "            for i in 1:d\n",
    "                score = M[i, i1] - Nt[i1, k] - Nt[i, k]\n",
    "                if score < hapmin[k]\n",
    "                    hapmin[k] = score\n",
    "                    happair1[k] = i1\n",
    "                    happair2[k] = i\n",
    "                end\n",
    "            end\n",
    "        end\n",
    "    end\n",
    "    return nothing\n",
    "end"
   ]
  },
  {
   "cell_type": "code",
   "execution_count": 13,
   "metadata": {},
   "outputs": [
    {
     "data": {
      "text/plain": [
       "BenchmarkTools.Trial: \n",
       "  memory estimate:  112.14 KiB\n",
       "  allocs estimate:  4002\n",
       "  --------------\n",
       "  minimum time:     42.518 ms (0.00% GC)\n",
       "  median time:      43.379 ms (0.00% GC)\n",
       "  mean time:        44.396 ms (0.00% GC)\n",
       "  maximum time:     52.379 ms (0.00% GC)\n",
       "  --------------\n",
       "  samples:          113\n",
       "  evals/sample:     1"
      ]
     },
     "execution_count": 13,
     "metadata": {},
     "output_type": "execute_result"
    }
   ],
   "source": [
    "@benchmark haplopair_topr!($happair1, $happair2, $hapmin, $M, $Nt, 5)"
   ]
  },
  {
   "cell_type": "markdown",
   "metadata": {},
   "source": [
    "Now we see we get more global solutions."
   ]
  },
  {
   "cell_type": "code",
   "execution_count": 14,
   "metadata": {},
   "outputs": [
    {
     "data": {
      "text/html": [
       "<table class=\"data-frame\"><thead><tr><th></th><th>hap1</th><th>hap2</th><th>score</th></tr><tr><th></th><th>Int64</th><th>Int64</th><th>Float32</th></tr></thead><tbody><p>1,000 rows × 3 columns</p><tr><th>1</th><td>1820</td><td>709</td><td>-58.8929</td></tr><tr><th>2</th><td>1</td><td>38</td><td>-65.0</td></tr><tr><th>3</th><td>86</td><td>75</td><td>-18.0</td></tr><tr><th>4</th><td>218</td><td>1486</td><td>-29.0</td></tr><tr><th>5</th><td>7</td><td>1533</td><td>-38.1655</td></tr><tr><th>6</th><td>1503</td><td>1485</td><td>-47.0</td></tr><tr><th>7</th><td>101</td><td>50</td><td>-22.0</td></tr><tr><th>8</th><td>340</td><td>119</td><td>-28.0</td></tr><tr><th>9</th><td>325</td><td>517</td><td>-53.1382</td></tr><tr><th>10</th><td>1004</td><td>34</td><td>-29.3469</td></tr><tr><th>11</th><td>1155</td><td>533</td><td>-47.0</td></tr><tr><th>12</th><td>8</td><td>11</td><td>-29.0</td></tr><tr><th>13</th><td>34</td><td>314</td><td>-21.8126</td></tr><tr><th>14</th><td>1</td><td>1</td><td>-68.0</td></tr><tr><th>15</th><td>1637</td><td>1560</td><td>-47.0</td></tr><tr><th>16</th><td>220</td><td>107</td><td>-26.0</td></tr><tr><th>17</th><td>142</td><td>68</td><td>-49.0</td></tr><tr><th>18</th><td>540</td><td>119</td><td>-28.0</td></tr><tr><th>19</th><td>1056</td><td>245</td><td>-59.0</td></tr><tr><th>20</th><td>1518</td><td>1729</td><td>-40.0</td></tr><tr><th>21</th><td>113</td><td>108</td><td>-50.0</td></tr><tr><th>22</th><td>544</td><td>928</td><td>-5.34686</td></tr><tr><th>23</th><td>326</td><td>34</td><td>-32.0</td></tr><tr><th>24</th><td>341</td><td>1163</td><td>-50.1382</td></tr><tr><th>25</th><td>169</td><td>81</td><td>-43.4848</td></tr><tr><th>26</th><td>105</td><td>136</td><td>-37.0</td></tr><tr><th>27</th><td>123</td><td>119</td><td>-21.0</td></tr><tr><th>28</th><td>142</td><td>975</td><td>-27.2244</td></tr><tr><th>29</th><td>130</td><td>151</td><td>-21.0</td></tr><tr><th>30</th><td>70</td><td>1406</td><td>-41.0</td></tr><tr><th>&vellip;</th><td>&vellip;</td><td>&vellip;</td><td>&vellip;</td></tr></tbody></table>"
      ],
      "text/latex": [
       "\\begin{tabular}{r|ccc}\n",
       "\t& hap1 & hap2 & score\\\\\n",
       "\t\\hline\n",
       "\t& Int64 & Int64 & Float32\\\\\n",
       "\t\\hline\n",
       "\t1 & 1820 & 709 & -58.8929 \\\\\n",
       "\t2 & 1 & 38 & -65.0 \\\\\n",
       "\t3 & 86 & 75 & -18.0 \\\\\n",
       "\t4 & 218 & 1486 & -29.0 \\\\\n",
       "\t5 & 7 & 1533 & -38.1655 \\\\\n",
       "\t6 & 1503 & 1485 & -47.0 \\\\\n",
       "\t7 & 101 & 50 & -22.0 \\\\\n",
       "\t8 & 340 & 119 & -28.0 \\\\\n",
       "\t9 & 325 & 517 & -53.1382 \\\\\n",
       "\t10 & 1004 & 34 & -29.3469 \\\\\n",
       "\t11 & 1155 & 533 & -47.0 \\\\\n",
       "\t12 & 8 & 11 & -29.0 \\\\\n",
       "\t13 & 34 & 314 & -21.8126 \\\\\n",
       "\t14 & 1 & 1 & -68.0 \\\\\n",
       "\t15 & 1637 & 1560 & -47.0 \\\\\n",
       "\t16 & 220 & 107 & -26.0 \\\\\n",
       "\t17 & 142 & 68 & -49.0 \\\\\n",
       "\t18 & 540 & 119 & -28.0 \\\\\n",
       "\t19 & 1056 & 245 & -59.0 \\\\\n",
       "\t20 & 1518 & 1729 & -40.0 \\\\\n",
       "\t21 & 113 & 108 & -50.0 \\\\\n",
       "\t22 & 544 & 928 & -5.34686 \\\\\n",
       "\t23 & 326 & 34 & -32.0 \\\\\n",
       "\t24 & 341 & 1163 & -50.1382 \\\\\n",
       "\t25 & 169 & 81 & -43.4848 \\\\\n",
       "\t26 & 105 & 136 & -37.0 \\\\\n",
       "\t27 & 123 & 119 & -21.0 \\\\\n",
       "\t28 & 142 & 975 & -27.2244 \\\\\n",
       "\t29 & 130 & 151 & -21.0 \\\\\n",
       "\t30 & 70 & 1406 & -41.0 \\\\\n",
       "\t$\\dots$ & $\\dots$ & $\\dots$ & $\\dots$ \\\\\n",
       "\\end{tabular}\n"
      ],
      "text/plain": [
       "1000×3 DataFrame\n",
       "│ Row  │ hap1  │ hap2  │ score    │\n",
       "│      │ \u001b[90mInt64\u001b[39m │ \u001b[90mInt64\u001b[39m │ \u001b[90mFloat32\u001b[39m  │\n",
       "├──────┼───────┼───────┼──────────┤\n",
       "│ 1    │ 1820  │ 709   │ -58.8929 │\n",
       "│ 2    │ 1     │ 38    │ -65.0    │\n",
       "│ 3    │ 86    │ 75    │ -18.0    │\n",
       "│ 4    │ 218   │ 1486  │ -29.0    │\n",
       "│ 5    │ 7     │ 1533  │ -38.1655 │\n",
       "│ 6    │ 1503  │ 1485  │ -47.0    │\n",
       "│ 7    │ 101   │ 50    │ -22.0    │\n",
       "│ 8    │ 340   │ 119   │ -28.0    │\n",
       "│ 9    │ 325   │ 517   │ -53.1382 │\n",
       "│ 10   │ 1004  │ 34    │ -29.3469 │\n",
       "⋮\n",
       "│ 990  │ 472   │ 112   │ -71.0    │\n",
       "│ 991  │ 1897  │ 1196  │ -24.0    │\n",
       "│ 992  │ 7     │ 7     │ -56.0    │\n",
       "│ 993  │ 1     │ 1     │ -68.0    │\n",
       "│ 994  │ 233   │ 150   │ -60.0    │\n",
       "│ 995  │ 1955  │ 692   │ -67.0    │\n",
       "│ 996  │ 1244  │ 68    │ -50.0    │\n",
       "│ 997  │ 984   │ 78    │ -40.0    │\n",
       "│ 998  │ 2240  │ 28    │ -42.9173 │\n",
       "│ 999  │ 93    │ 37    │ -45.0    │\n",
       "│ 1000 │ 248   │ 37    │ -45.0    │"
      ]
     },
     "execution_count": 14,
     "metadata": {},
     "output_type": "execute_result"
    }
   ],
   "source": [
    "DataFrame(hap1 = happair1, hap2 = happair2, score = hapmin)"
   ]
  }
 ],
 "metadata": {
  "kernelspec": {
   "display_name": "Julia 1.4.2",
   "language": "julia",
   "name": "julia-1.4"
  },
  "language_info": {
   "file_extension": ".jl",
   "mimetype": "application/julia",
   "name": "julia",
   "version": "1.4.2"
  },
  "toc-autonumbering": true
 },
 "nbformat": 4,
 "nbformat_minor": 4
}
